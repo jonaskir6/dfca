{
 "cells": [
  {
   "cell_type": "code",
   "execution_count": 1,
   "id": "2f20bfb1",
   "metadata": {},
   "outputs": [],
   "source": [
    "import json\n",
    "import os\n",
    "import time\n",
    "import ipyparallel as ipp\n",
    "\n",
    "import matplotlib.pyplot as plt\n",
    "import torch\n",
    "import dfca_2 as DFCA\n",
    "import ifca as IFCA\n",
    "\n",
    "import numpy as np\n",
    "\n",
    "from util import *"
   ]
  },
  {
   "cell_type": "code",
   "execution_count": 2,
   "id": "ee6c788b",
   "metadata": {},
   "outputs": [
    {
     "name": "stdout",
     "output_type": "stream",
     "text": [
      "config: {'m': 200, 'm_test': 40, 'p': 2, 'n': 500, 'uneven': False, 'local_model_init': False, 'participation_rate': 1, 'num_epochs': 600, 'batch_size': 50, 'tau': 5, 'lr': 0.25, 'data_seed': 12, 'train_seed': 12, 'project_dir': 'output'}\n",
      "True\n",
      "Using device: cuda\n",
      "Files already downloaded and verified\n",
      "torch.Size([50000, 3, 32, 32])\n",
      "Files already downloaded and verified\n",
      "torch.Size([10000, 3, 32, 32])\n",
      "Epoch -1 tr: l 2.304 a 0.099 clct[np.int64(162), np.int64(38)] cl_acc 0.500  3.031sec\n",
      "Epoch -1 tst: l 2.304 a 0.103 clct[np.int64(32), np.int64(8)] cl_acc 0.550  1.733sec\n",
      "Epoch 0 tr: l 1.870 a 0.305 clct[np.int64(113), np.int64(87)] cl_acc 0.935  lr 0.250000 22.798sec(train) 2.836sec(infer)\n",
      "Epoch 0 tst: l 1.874 a 0.357 clct[np.int64(25), np.int64(15)] cl_acc 0.875  1.706sec\n",
      "result written at output\\results.pickle\n",
      "checkpoint written at output\\checkpoint.pt\n"
     ]
    },
    {
     "ename": "KeyboardInterrupt",
     "evalue": "",
     "output_type": "error",
     "traceback": [
      "\u001b[1;31m---------------------------------------------------------------------------\u001b[0m",
      "\u001b[1;31mKeyboardInterrupt\u001b[0m                         Traceback (most recent call last)",
      "Cell \u001b[1;32mIn[2], line 19\u001b[0m\n\u001b[0;32m     17\u001b[0m exp \u001b[38;5;241m=\u001b[39m DFCA\u001b[38;5;241m.\u001b[39mTrainCIFARCluster(config, device)\n\u001b[0;32m     18\u001b[0m exp\u001b[38;5;241m.\u001b[39msetup()\n\u001b[1;32m---> 19\u001b[0m res \u001b[38;5;241m=\u001b[39m \u001b[43mexp\u001b[49m\u001b[38;5;241;43m.\u001b[39;49m\u001b[43mrun\u001b[49m\u001b[43m(\u001b[49m\u001b[43m)\u001b[49m\n\u001b[0;32m     20\u001b[0m res_final\u001b[38;5;241m.\u001b[39mappend([[r[\u001b[38;5;124m'\u001b[39m\u001b[38;5;124mtest\u001b[39m\u001b[38;5;124m'\u001b[39m][\u001b[38;5;124m'\u001b[39m\u001b[38;5;124mloss\u001b[39m\u001b[38;5;124m'\u001b[39m] \u001b[38;5;28;01mfor\u001b[39;00m r \u001b[38;5;129;01min\u001b[39;00m res], [r[\u001b[38;5;124m'\u001b[39m\u001b[38;5;124mtest\u001b[39m\u001b[38;5;124m'\u001b[39m][\u001b[38;5;124m'\u001b[39m\u001b[38;5;124macc\u001b[39m\u001b[38;5;124m'\u001b[39m] \u001b[38;5;28;01mfor\u001b[39;00m r \u001b[38;5;129;01min\u001b[39;00m res], [r[\u001b[38;5;124m'\u001b[39m\u001b[38;5;124mtest\u001b[39m\u001b[38;5;124m'\u001b[39m][\u001b[38;5;124m'\u001b[39m\u001b[38;5;124mcl_acc\u001b[39m\u001b[38;5;124m'\u001b[39m] \u001b[38;5;28;01mfor\u001b[39;00m r \u001b[38;5;129;01min\u001b[39;00m res]])\n\u001b[0;32m     21\u001b[0m \u001b[38;5;28;01mdel\u001b[39;00m exp\n",
      "File \u001b[1;32md:\\GIT Repos\\decentralized-ifca\\cifar\\notebooks\\dfca.py:275\u001b[0m, in \u001b[0;36mTrainCIFARCluster.run\u001b[1;34m(self)\u001b[0m\n\u001b[0;32m    272\u001b[0m result[\u001b[38;5;124m'\u001b[39m\u001b[38;5;124mlr\u001b[39m\u001b[38;5;124m'\u001b[39m] \u001b[38;5;241m=\u001b[39m lr\n\u001b[0;32m    274\u001b[0m t0 \u001b[38;5;241m=\u001b[39m time\u001b[38;5;241m.\u001b[39mtime()\n\u001b[1;32m--> 275\u001b[0m result[\u001b[38;5;124m'\u001b[39m\u001b[38;5;124mtrain\u001b[39m\u001b[38;5;124m'\u001b[39m] \u001b[38;5;241m=\u001b[39m \u001b[38;5;28;43mself\u001b[39;49m\u001b[38;5;241;43m.\u001b[39;49m\u001b[43mtrain\u001b[49m\u001b[43m(\u001b[49m\u001b[43mcluster_assign\u001b[49m\u001b[43m,\u001b[49m\u001b[43m \u001b[49m\u001b[43mlr\u001b[49m\u001b[43m \u001b[49m\u001b[38;5;241;43m=\u001b[39;49m\u001b[43m \u001b[49m\u001b[43mlr\u001b[49m\u001b[43m)\u001b[49m\n\u001b[0;32m    276\u001b[0m t1 \u001b[38;5;241m=\u001b[39m time\u001b[38;5;241m.\u001b[39mtime()\n\u001b[0;32m    277\u001b[0m train_time \u001b[38;5;241m=\u001b[39m t1\u001b[38;5;241m-\u001b[39mt0\n",
      "File \u001b[1;32md:\\GIT Repos\\decentralized-ifca\\cifar\\notebooks\\dfca.py:435\u001b[0m, in \u001b[0;36mTrainCIFARCluster.train\u001b[1;34m(self, cluster_assign, lr)\u001b[0m\n\u001b[0;32m    432\u001b[0m \u001b[38;5;28;01mfor\u001b[39;00m m_i2, m_i \u001b[38;5;129;01min\u001b[39;00m \u001b[38;5;28menumerate\u001b[39m(participating_nodes):\n\u001b[0;32m    433\u001b[0m     \u001b[38;5;28;01mif\u001b[39;00m VERBOSE \u001b[38;5;129;01mand\u001b[39;00m m_i \u001b[38;5;241m%\u001b[39m \u001b[38;5;241m100\u001b[39m \u001b[38;5;241m==\u001b[39m \u001b[38;5;241m0\u001b[39m: \u001b[38;5;28mprint\u001b[39m(\u001b[38;5;124mf\u001b[39m\u001b[38;5;124m'\u001b[39m\u001b[38;5;124mm \u001b[39m\u001b[38;5;132;01m{\u001b[39;00mm_i\u001b[38;5;132;01m}\u001b[39;00m\u001b[38;5;124m/\u001b[39m\u001b[38;5;132;01m{\u001b[39;00mm\u001b[38;5;132;01m}\u001b[39;00m\u001b[38;5;124m processing \u001b[39m\u001b[38;5;130;01m\\r\u001b[39;00m\u001b[38;5;124m'\u001b[39m, end \u001b[38;5;241m=\u001b[39m\u001b[38;5;124m'\u001b[39m\u001b[38;5;124m'\u001b[39m)\n\u001b[1;32m--> 435\u001b[0m     (X, y) \u001b[38;5;241m=\u001b[39m \u001b[38;5;28;43mself\u001b[39;49m\u001b[38;5;241;43m.\u001b[39;49m\u001b[43mload_data\u001b[49m\u001b[43m(\u001b[49m\u001b[43mm_i\u001b[49m\u001b[43m)\u001b[49m\n\u001b[0;32m    437\u001b[0m     p_i \u001b[38;5;241m=\u001b[39m cluster_assign[m_i]\n\u001b[0;32m    438\u001b[0m     model \u001b[38;5;241m=\u001b[39m \u001b[38;5;28mself\u001b[39m\u001b[38;5;241m.\u001b[39mmodels[m_i][p_i]\n",
      "File \u001b[1;32md:\\GIT Repos\\decentralized-ifca\\cifar\\notebooks\\dfca.py:619\u001b[0m, in \u001b[0;36mTrainCIFARCluster.load_data\u001b[1;34m(self, m_i, train)\u001b[0m\n\u001b[0;32m    614\u001b[0m y_batch \u001b[38;5;241m=\u001b[39m dataset[\u001b[38;5;124m'\u001b[39m\u001b[38;5;124my\u001b[39m\u001b[38;5;124m'\u001b[39m][indices]\n\u001b[0;32m    616\u001b[0m \u001b[38;5;66;03m# k : how many times rotate 90 degree\u001b[39;00m\n\u001b[0;32m    617\u001b[0m \u001b[38;5;66;03m# k =1 : 90 , k=2 180, k=3 270\u001b[39;00m\n\u001b[1;32m--> 619\u001b[0m \u001b[38;5;28;01mif\u001b[39;00m \u001b[43mcfg\u001b[49m\u001b[43m[\u001b[49m\u001b[38;5;124;43m'\u001b[39;49m\u001b[38;5;124;43mp\u001b[39;49m\u001b[38;5;124;43m'\u001b[39;49m\u001b[43m]\u001b[49m\u001b[43m \u001b[49m\u001b[38;5;241;43m==\u001b[39;49m\u001b[43m \u001b[49m\u001b[38;5;241;43m4\u001b[39;49m:\n\u001b[0;32m    620\u001b[0m     k \u001b[38;5;241m=\u001b[39m p_i\n\u001b[0;32m    621\u001b[0m \u001b[38;5;28;01melif\u001b[39;00m cfg[\u001b[38;5;124m'\u001b[39m\u001b[38;5;124mp\u001b[39m\u001b[38;5;124m'\u001b[39m] \u001b[38;5;241m==\u001b[39m \u001b[38;5;241m2\u001b[39m:\n",
      "\u001b[1;31mKeyboardInterrupt\u001b[0m: "
     ]
    }
   ],
   "source": [
    "torch.cuda.empty_cache()\n",
    "\n",
    "with open(\"config.json\", \"r\") as read_file:\n",
    "    config = json.load(read_file)\n",
    "\n",
    "res_final = []\n",
    "\n",
    "start_time = time.time()\n",
    "config['data_seed'] = 12\n",
    "config['train_seed'] = config['data_seed']\n",
    "\n",
    "print(\"config:\",config)\n",
    "device = torch.device(\"cuda\" if torch.cuda.is_available() else \"cpu\")\n",
    "print(torch.cuda.is_available())\n",
    "print(f\"Using device: {device}\")\n",
    "\n",
    "exp = DFCA.TrainCIFARCluster(config, device)\n",
    "exp.setup()\n",
    "res = exp.run()\n",
    "res_final.append([[r['test']['loss'] for r in res], [r['test']['acc'] for r in res], [r['test']['cl_acc'] for r in res]])\n",
    "del exp\n",
    "duration = (time.time() - start_time)\n",
    "print(\"---train cluster Ended in %0.2f hour (%.3f sec) \" % (duration/float(3600), duration))\n"
   ]
  }
 ],
 "metadata": {
  "kernelspec": {
   "display_name": "dl-new",
   "language": "python",
   "name": "python3"
  },
  "language_info": {
   "codemirror_mode": {
    "name": "ipython",
    "version": 3
   },
   "file_extension": ".py",
   "mimetype": "text/x-python",
   "name": "python",
   "nbconvert_exporter": "python",
   "pygments_lexer": "ipython3",
   "version": "3.10.16"
  }
 },
 "nbformat": 4,
 "nbformat_minor": 5
}
