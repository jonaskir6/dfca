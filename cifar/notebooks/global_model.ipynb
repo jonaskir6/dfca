{
 "cells": [
  {
   "cell_type": "code",
   "execution_count": null,
   "id": "2f20bfb1",
   "metadata": {},
   "outputs": [],
   "source": [
    "import json\n",
    "import os\n",
    "import time\n",
    "import ipyparallel as ipp\n",
    "\n",
    "import matplotlib.pyplot as plt\n",
    "import torch\n",
    "import global_model as GLOBAL\n",
    "import numpy as np\n",
    "\n",
    "from util import *"
   ]
  },
  {
   "cell_type": "code",
   "execution_count": null,
   "id": "ee6c788b",
   "metadata": {},
   "outputs": [
    {
     "name": "stdout",
     "output_type": "stream",
     "text": [
      "config: {'m': 400, 'm_test': 80, 'p': 2, 'n': 250, 'uneven': False, 'local_model_init': False, 'participation_rate': 0.2, 'num_epochs': 300, 'batch_size': 50, 'tau': 5, 'lr': 0.2, 'data_seed': 12, 'train_seed': 12, 'project_dir': 'output'}\n",
      "Using device: cuda\n",
      "num_data: 50000\n",
      "Files already downloaded and verified\n",
      "num_data: 10000\n",
      "Files already downloaded and verified\n",
      "finding good initializer from train data\n",
      "Epoch -1 tr: l 2.300 a 0.129 clct[np.int64(37), np.int64(43)] clct_ans[np.int64(34), np.int64(46)]  4.987sec\n",
      "found good initializer\n",
      "Epoch -1 tr: l 2.299 a 0.131 clct[np.int64(39), np.int64(41)] clct_ans[np.int64(35), np.int64(45)]  4.845sec\n",
      "Epoch -1 tst: l 2.299 a 0.136 clct[np.int64(35), np.int64(45)] clct_ans[np.int64(40), np.int64(40)]  6.241sec\n",
      "Epoch 0 tr: l 2.287 a 0.372 clct[np.int64(35), np.int64(45)] clct_ans[np.int64(45), np.int64(35)]  lr 0.200000 6.564sec(train) 4.357sec(infer)\n",
      "Epoch 0 tst: l 2.107 a 0.421 clct[np.int64(40), np.int64(40)] clct_ans[np.int64(40), np.int64(40)]  6.166sec\n",
      "result written at output\\results.pickle\n",
      "checkpoint written at output\\checkpoint.pt\n",
      "Epoch 1 tr: l 2.225 a 0.422 clct[np.int64(39), np.int64(41)] clct_ans[np.int64(41), np.int64(39)]  lr 0.199900 6.441sec(train) 4.415sec(infer)\n",
      "Epoch 1 tst: l 2.028 a 0.490 clct[np.int64(40), np.int64(40)] clct_ans[np.int64(40), np.int64(40)]  6.044sec\n",
      "Epoch 2 tr: l 2.177 a 0.445 clct[np.int64(43), np.int64(37)] clct_ans[np.int64(37), np.int64(43)]  lr 0.199800 6.480sec(train) 4.415sec(infer)\n",
      "Epoch 2 tst: l 1.961 a 0.515 clct[np.int64(40), np.int64(40)] clct_ans[np.int64(40), np.int64(40)]  6.307sec\n",
      "Epoch 3 tr: l 2.170 a 0.460 clct[np.int64(38), np.int64(42)] clct_ans[np.int64(42), np.int64(38)]  lr 0.199700 6.747sec(train) 4.509sec(infer)\n",
      "Epoch 3 tst: l 1.993 a 0.519 clct[np.int64(40), np.int64(40)] clct_ans[np.int64(40), np.int64(40)]  6.356sec\n",
      "Epoch 4 tr: l 2.163 a 0.484 clct[np.int64(41), np.int64(39)] clct_ans[np.int64(39), np.int64(41)]  lr 0.199600 6.610sec(train) 4.411sec(infer)\n",
      "Epoch 4 tst: l 1.964 a 0.549 clct[np.int64(40), np.int64(40)] clct_ans[np.int64(40), np.int64(40)]  6.325sec\n",
      "Epoch 5 tr: l 2.067 a 0.487 clct[np.int64(42), np.int64(38)] clct_ans[np.int64(38), np.int64(42)]  lr 0.199500 6.713sec(train) 4.395sec(infer)\n",
      "Epoch 5 tst: l 1.829 a 0.561 clct[np.int64(40), np.int64(40)] clct_ans[np.int64(40), np.int64(40)]  6.310sec\n",
      "Epoch 6 tr: l 2.044 a 0.501 clct[np.int64(48), np.int64(32)] clct_ans[np.int64(32), np.int64(48)]  lr 0.199401 6.593sec(train) 4.351sec(infer)\n",
      "Epoch 6 tst: l 1.888 a 0.567 clct[np.int64(40), np.int64(40)] clct_ans[np.int64(40), np.int64(40)]  6.230sec\n",
      "Epoch 7 tr: l 1.994 a 0.520 clct[np.int64(44), np.int64(36)] clct_ans[np.int64(36), np.int64(44)]  lr 0.199301 6.485sec(train) 4.362sec(infer)\n",
      "Epoch 7 tst: l 1.840 a 0.577 clct[np.int64(40), np.int64(40)] clct_ans[np.int64(40), np.int64(40)]  6.459sec\n",
      "Epoch 8 tr: l 1.923 a 0.520 clct[np.int64(37), np.int64(43)] clct_ans[np.int64(43), np.int64(37)]  lr 0.199201 6.660sec(train) 4.530sec(infer)\n",
      "Epoch 8 tst: l 1.783 a 0.585 clct[np.int64(40), np.int64(40)] clct_ans[np.int64(40), np.int64(40)]  6.090sec\n"
     ]
    }
   ],
   "source": [
    "torch.cuda.empty_cache()\n",
    "\n",
    "with open(\"config.json\", \"r\") as read_file:\n",
    "    config = json.load(read_file)\n",
    "\n",
    "res_final = []\n",
    "\n",
    "start_time = time.time()\n",
    "config['data_seed'] = 12\n",
    "config['train_seed'] = config['data_seed']\n",
    "\n",
    "print(\"config:\",config)\n",
    "device = torch.device(\"cuda\" if torch.cuda.is_available() else \"cpu\")\n",
    "print(f\"Using device: {device}\")\n",
    "\n",
    "exp = GLOBAL.TrainCIFARCluster(config, device)\n",
    "exp.setup()\n",
    "res = exp.run()\n",
    "res_final.append([[r['test']['loss'] for r in res], [r['test']['acc'] for r in res], [r['test']['cl_acc'] for r in res]])\n",
    "del exp\n",
    "duration = (time.time() - start_time)\n",
    "print(\"---train cluster Ended in %0.2f hour (%.3f sec) \" % (duration/float(3600), duration))\n"
   ]
  }
 ],
 "metadata": {
  "kernelspec": {
   "display_name": "dl-new",
   "language": "python",
   "name": "python3"
  },
  "language_info": {
   "codemirror_mode": {
    "name": "ipython",
    "version": 3
   },
   "file_extension": ".py",
   "mimetype": "text/x-python",
   "name": "python",
   "nbconvert_exporter": "python",
   "pygments_lexer": "ipython3",
   "version": "3.10.16"
  }
 },
 "nbformat": 4,
 "nbformat_minor": 5
}
