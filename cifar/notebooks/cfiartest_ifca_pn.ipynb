{
 "cells": [
  {
   "cell_type": "code",
   "execution_count": null,
   "id": "2f20bfb1",
   "metadata": {},
   "outputs": [],
   "source": [
    "import json\n",
    "import os\n",
    "import time\n",
    "import ipyparallel as ipp\n",
    "\n",
    "import matplotlib.pyplot as plt\n",
    "import torch\n",
    "import ifca_pn_copy as IFCA\n",
    "import numpy as np\n",
    "\n",
    "from util import *"
   ]
  },
  {
   "cell_type": "code",
   "execution_count": null,
   "id": "ee6c788b",
   "metadata": {},
   "outputs": [
    {
     "name": "stdout",
     "output_type": "stream",
     "text": [
      "config: {'m': 400, 'm_test': 80, 'p': 2, 'n': 250, 'uneven': False, 'local_model_init': False, 'participation_rate': 0.2, 'num_epochs': 600, 'batch_size': 50, 'tau': 5, 'lr': 0.001, 'data_seed': 12, 'train_seed': 12, 'project_dir': 'output'}\n",
      "Using device: cuda\n",
      "num_data: 50000\n",
      "Files already downloaded and verified\n",
      "num_data: 10000\n",
      "Files already downloaded and verified\n",
      "finding good initializer from train data\n",
      "Epoch -1 tr: l 2.300 a 0.130 clct[np.int64(39), np.int64(41)] clct_ans[np.int64(34), np.int64(46)]  4.674sec\n",
      "found good initializer\n",
      "Epoch -1 tr: l 2.300 a 0.128 clct[np.int64(39), np.int64(41)] clct_ans[np.int64(35), np.int64(45)]  4.801sec\n",
      "Epoch -1 tst: l 2.299 a 0.136 clct[np.int64(35), np.int64(45)] clct_ans[np.int64(40), np.int64(40)]  6.433sec\n",
      "Epoch 0 tr: l 2.023 a 0.254 clct[np.int64(34), np.int64(46)] clct_ans[np.int64(45), np.int64(35)]  lr 0.001000 6.806sec(train) 4.510sec(infer)\n",
      "Epoch 0 tst: l 1.963 a 0.302 clct[np.int64(40), np.int64(40)] clct_ans[np.int64(40), np.int64(40)]  6.413sec\n",
      "result written at output\\results.pickle\n",
      "checkpoint written at output\\checkpoint.pt\n",
      "Epoch 1 tr: l 1.828 a 0.339 clct[np.int64(39), np.int64(41)] clct_ans[np.int64(41), np.int64(39)]  lr 0.000990 6.754sec(train) 4.522sec(infer)\n",
      "Epoch 1 tst: l 1.726 a 0.391 clct[np.int64(40), np.int64(40)] clct_ans[np.int64(40), np.int64(40)]  6.462sec\n",
      "Epoch 2 tr: l 1.734 a 0.372 clct[np.int64(43), np.int64(37)] clct_ans[np.int64(37), np.int64(43)]  lr 0.000980 7.057sec(train) 4.438sec(infer)\n",
      "Epoch 2 tst: l 1.592 a 0.435 clct[np.int64(40), np.int64(40)] clct_ans[np.int64(40), np.int64(40)]  6.402sec\n",
      "Epoch 3 tr: l 1.629 a 0.408 clct[np.int64(38), np.int64(42)] clct_ans[np.int64(42), np.int64(38)]  lr 0.000970 6.795sec(train) 4.393sec(infer)\n",
      "Epoch 3 tst: l 1.492 a 0.472 clct[np.int64(40), np.int64(40)] clct_ans[np.int64(40), np.int64(40)]  6.425sec\n"
     ]
    }
   ],
   "source": [
    "torch.cuda.empty_cache()\n",
    "\n",
    "with open(\"config.json\", \"r\") as read_file:\n",
    "    config = json.load(read_file)\n",
    "\n",
    "res_final = []\n",
    "\n",
    "start_time = time.time()\n",
    "config['data_seed'] = 12\n",
    "config['train_seed'] = config['data_seed']\n",
    "\n",
    "print(\"config:\",config)\n",
    "device = torch.device(\"cuda\" if torch.cuda.is_available() else \"cpu\")\n",
    "print(f\"Using device: {device}\")\n",
    "\n",
    "exp = IFCA.TrainCIFARCluster(config, device)\n",
    "exp.setup()\n",
    "res = exp.run()\n",
    "res_final.append([[r['test']['loss'] for r in res], [r['test']['acc'] for r in res], [r['test']['cl_acc'] for r in res]])\n",
    "del exp\n",
    "duration = (time.time() - start_time)\n",
    "print(\"---train cluster Ended in %0.2f hour (%.3f sec) \" % (duration/float(3600), duration))\n"
   ]
  }
 ],
 "metadata": {
  "kernelspec": {
   "display_name": "dl-new",
   "language": "python",
   "name": "python3"
  },
  "language_info": {
   "codemirror_mode": {
    "name": "ipython",
    "version": 3
   },
   "file_extension": ".py",
   "mimetype": "text/x-python",
   "name": "python",
   "nbconvert_exporter": "python",
   "pygments_lexer": "ipython3",
   "version": "3.10.16"
  }
 },
 "nbformat": 4,
 "nbformat_minor": 5
}
