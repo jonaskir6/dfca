{
 "cells": [
  {
   "cell_type": "code",
   "execution_count": 1,
   "id": "2f20bfb1",
   "metadata": {
    "execution": {
     "iopub.execute_input": "2025-06-14T10:18:31.182045Z",
     "iopub.status.busy": "2025-06-14T10:18:31.181160Z",
     "iopub.status.idle": "2025-06-14T10:18:35.990294Z",
     "shell.execute_reply": "2025-06-14T10:18:35.989050Z"
    }
   },
   "outputs": [],
   "source": [
    "import json\n",
    "import os\n",
    "import time\n",
    "import ipyparallel as ipp\n",
    "\n",
    "import matplotlib.pyplot as plt\n",
    "import torch\n",
    "import dfca as DFCA\n",
    "import numpy as np\n",
    "\n",
    "from util import *"
   ]
  },
  {
   "cell_type": "code",
   "execution_count": 2,
   "id": "ee6c788b",
   "metadata": {
    "execution": {
     "iopub.execute_input": "2025-06-14T10:18:35.993931Z",
     "iopub.status.busy": "2025-06-14T10:18:35.993540Z",
     "iopub.status.idle": "2025-06-14T22:46:24.845627Z",
     "shell.execute_reply": "2025-06-14T22:46:24.844526Z"
    }
   },
   "outputs": [
    {
     "name": "stdout",
     "output_type": "stream",
     "text": [
      "config: {'m': 200, 'm_test': 40, 'p': 2, 'n': 500, 'uneven': False, 'local_model_init': False, 'participation_rate': 0.5, 'h1': 128, 'num_epochs': 600, 'batch_size': 50, 'tau': 5, 'lr': 0.25, 'data_seed': 13, 'train_seed': 13, 'config_override': '', 'project_dir': 'output_dfca_gi'}\n",
      "Using device: cuda\n",
      "num_data: 50000\n"
     ]
    },
    {
     "name": "stdout",
     "output_type": "stream",
     "text": [
      "num_data: 10000\n"
     ]
    },
    {
     "name": "stdout",
     "output_type": "stream",
     "text": [
      "finding good initializer from train data\n"
     ]
    },
    {
     "name": "stdout",
     "output_type": "stream",
     "text": [
      "Epoch -1 tr: l 2.302 a 0.106 clct[np.int64(57), np.int64(43)] clct_ans[np.int64(50), np.int64(50)] cl_acc0.530  21.072sec\n",
      "found good initializer\n"
     ]
    },
    {
     "name": "stdout",
     "output_type": "stream",
     "text": [
      "Epoch -1 tr: l 2.302 a 0.103 clct[np.int64(48), np.int64(52)] clct_ans[np.int64(47), np.int64(53)] cl_acc0.550  20.902sec\n"
     ]
    },
    {
     "name": "stdout",
     "output_type": "stream",
     "text": [
      "Epoch -1 tst: l 2.302 a 0.104 clct[np.int64(21), np.int64(19)] clct_ans[np.int64(20), np.int64(20)] cl_acc0.525  3.160sec\n"
     ]
    },
    {
     "name": "stdout",
     "output_type": "stream",
     "text": [
      "Epoch 0 tr: l 2.250 a 0.150 clct[np.int64(56), np.int64(44)] clct_ans[np.int64(51), np.int64(49)] cl_acc0.510  lr 0.250000 50.564sec(train) 20.740sec(infer)\n"
     ]
    },
    {
     "name": "stdout",
     "output_type": "stream",
     "text": [
      "Epoch 0 tst: l 2.247 a 0.158 clct[np.int64(21), np.int64(19)] clct_ans[np.int64(20), np.int64(20)] cl_acc0.675  3.115sec\n",
      "result written at output_dfca_gi/results.pickle\n",
      "checkpoint written at output_dfca_gi/checkpoint.pt\n"
     ]
    },
    {
     "name": "stdout",
     "output_type": "stream",
     "text": [
      "Epoch 1 tr: l 2.190 a 0.195 clct[np.int64(58), np.int64(42)] clct_ans[np.int64(48), np.int64(52)] cl_acc0.600  lr 0.249875 47.083sec(train) 21.073sec(infer)\n"
     ]
    },
    {
     "name": "stdout",
     "output_type": "stream",
     "text": [
      "Epoch 1 tst: l 2.175 a 0.211 clct[np.int64(24), np.int64(16)] clct_ans[np.int64(20), np.int64(20)] cl_acc0.700  3.367sec\n"
     ]
    },
    {
     "name": "stdout",
     "output_type": "stream",
     "text": [
      "Epoch 2 tr: l 2.134 a 0.228 clct[np.int64(58), np.int64(42)] clct_ans[np.int64(43), np.int64(57)] cl_acc0.570  lr 0.249750 47.821sec(train) 21.710sec(infer)\n"
     ]
    },
    {
     "name": "stdout",
     "output_type": "stream",
     "text": [
      "Epoch 2 tst: l 2.123 a 0.233 clct[np.int64(27), np.int64(13)] clct_ans[np.int64(20), np.int64(20)] cl_acc0.675  3.409sec\n"
     ]
    },
    {
     "name": "stdout",
     "output_type": "stream",
     "text": [
      "Epoch 3 tr: l 2.069 a 0.263 clct[np.int64(45), np.int64(55)] clct_ans[np.int64(51), np.int64(49)] cl_acc0.640  lr 0.249625 48.501sec(train) 21.569sec(infer)\n"
     ]
    },
    {
     "name": "stdout",
     "output_type": "stream",
     "text": [
      "Epoch 3 tst: l 2.075 a 0.258 clct[np.int64(21), np.int64(19)] clct_ans[np.int64(20), np.int64(20)] cl_acc0.525  3.348sec\n"
     ]
    },
    {
     "name": "stdout",
     "output_type": "stream",
     "text": [
      "Epoch 4 tr: l 2.023 a 0.282 clct[np.int64(40), np.int64(60)] clct_ans[np.int64(50), np.int64(50)] cl_acc0.660  lr 0.249500 49.012sec(train) 21.538sec(infer)\n"
     ]
    },
    {
     "name": "stdout",
     "output_type": "stream",
     "text": [
      "Epoch 4 tst: l 2.040 a 0.280 clct[np.int64(24), np.int64(16)] clct_ans[np.int64(20), np.int64(20)] cl_acc0.550  3.571sec\n"
     ]
    },
    {
     "name": "stdout",
     "output_type": "stream",
     "text": [
      "Epoch 5 tr: l 1.975 a 0.308 clct[np.int64(43), np.int64(57)] clct_ans[np.int64(49), np.int64(51)] cl_acc0.760  lr 0.249376 49.792sec(train) 21.685sec(infer)\n"
     ]
    },
    {
     "name": "stdout",
     "output_type": "stream",
     "text": [
      "Epoch 5 tst: l 1.994 a 0.310 clct[np.int64(18), np.int64(22)] clct_ans[np.int64(20), np.int64(20)] cl_acc0.700  3.347sec\n"
     ]
    },
    {
     "name": "stdout",
     "output_type": "stream",
     "text": [
      "Epoch 6 tr: l 1.929 a 0.323 clct[np.int64(47), np.int64(53)] clct_ans[np.int64(47), np.int64(53)] cl_acc0.900  lr 0.249251 50.190sec(train) 21.478sec(infer)\n"
     ]
    },
    {
     "name": "stdout",
     "output_type": "stream",
     "text": [
      "Epoch 6 tst: l 1.926 a 0.330 clct[np.int64(17), np.int64(23)] clct_ans[np.int64(20), np.int64(20)] cl_acc0.875  3.307sec\n"
     ]
    },
    {
     "name": "stdout",
     "output_type": "stream",
     "text": [
      "Epoch 7 tr: l 1.865 a 0.339 clct[np.int64(42), np.int64(58)] clct_ans[np.int64(47), np.int64(53)] cl_acc0.930  lr 0.249126 50.037sec(train) 21.472sec(infer)\n"
     ]
    },
    {
     "name": "stdout",
     "output_type": "stream",
     "text": [
      "Epoch 7 tst: l 1.869 a 0.346 clct[np.int64(18), np.int64(22)] clct_ans[np.int64(20), np.int64(20)] cl_acc0.900  3.590sec\n"
     ]
    },
    {
     "name": "stdout",
     "output_type": "stream",
     "text": [
      "Epoch 8 tr: l 1.813 a 0.357 clct[np.int64(49), np.int64(51)] clct_ans[np.int64(53), np.int64(47)] cl_acc0.940  lr 0.249002 49.801sec(train) 21.912sec(infer)\n"
     ]
    },
    {
     "name": "stdout",
     "output_type": "stream",
     "text": [
      "Epoch 8 tst: l 1.832 a 0.354 clct[np.int64(15), np.int64(25)] clct_ans[np.int64(20), np.int64(20)] cl_acc0.875  3.376sec\n"
     ]
    },
    {
     "name": "stdout",
     "output_type": "stream",
     "text": [
      "Epoch 9 tr: l 1.771 a 0.371 clct[np.int64(47), np.int64(53)] clct_ans[np.int64(51), np.int64(49)] cl_acc0.920  lr 0.248877 49.634sec(train) 21.492sec(infer)\n"
     ]
    },
    {
     "name": "stdout",
     "output_type": "stream",
     "text": [
      "Epoch 9 tst: l 1.763 a 0.381 clct[np.int64(17), np.int64(23)] clct_ans[np.int64(20), np.int64(20)] cl_acc0.925  3.648sec\n"
     ]
    },
    {
     "name": "stdout",
     "output_type": "stream",
     "text": [
      "Epoch 10 tr: l 1.709 a 0.388 clct[np.int64(46), np.int64(54)] clct_ans[np.int64(48), np.int64(52)] cl_acc0.980  lr 0.248753 49.679sec(train) 21.641sec(infer)\n"
     ]
    },
    {
     "name": "stdout",
     "output_type": "stream",
     "text": [
      "Epoch 10 tst: l 1.697 a 0.405 clct[np.int64(21), np.int64(19)] clct_ans[np.int64(20), np.int64(20)] cl_acc0.975  3.363sec\n",
      "result written at output_dfca_gi/results.pickle\n",
      "checkpoint written at output_dfca_gi/checkpoint.pt\n"
     ]
    },
    {
     "name": "stdout",
     "output_type": "stream",
     "text": [
      "Epoch 11 tr: l 1.687 a 0.400 clct[np.int64(48), np.int64(52)] clct_ans[np.int64(47), np.int64(53)] cl_acc0.950  lr 0.248628 50.169sec(train) 21.268sec(infer)\n"
     ]
    },
    {
     "name": "stdout",
     "output_type": "stream",
     "text": [
      "Epoch 11 tst: l 1.666 a 0.414 clct[np.int64(21), np.int64(19)] clct_ans[np.int64(20), np.int64(20)] cl_acc0.975  3.465sec\n"
     ]
    },
    {
     "name": "stdout",
     "output_type": "stream",
     "text": [
      "Epoch 12 tr: l 1.653 a 0.410 clct[np.int64(51), np.int64(49)] clct_ans[np.int64(52), np.int64(48)] cl_acc0.990  lr 0.248504 49.932sec(train) 22.090sec(infer)\n"
     ]
    },
    {
     "name": "stdout",
     "output_type": "stream",
     "text": [
      "Epoch 12 tst: l 1.632 a 0.427 clct[np.int64(21), np.int64(19)] clct_ans[np.int64(20), np.int64(20)] cl_acc0.975  4.102sec\n"
     ]
    },
    {
     "name": "stdout",
     "output_type": "stream",
     "text": [
      "Epoch 13 tr: l 1.606 a 0.427 clct[np.int64(50), np.int64(50)] clct_ans[np.int64(50), np.int64(50)] cl_acc1.000  lr 0.248380 49.884sec(train) 21.513sec(infer)\n"
     ]
    },
    {
     "name": "stdout",
     "output_type": "stream",
     "text": [
      "Epoch 13 tst: l 1.564 a 0.446 clct[np.int64(20), np.int64(20)] clct_ans[np.int64(20), np.int64(20)] cl_acc1.000  3.370sec\n"
     ]
    },
    {
     "name": "stdout",
     "output_type": "stream",
     "text": [
      "Epoch 14 tr: l 1.567 a 0.441 clct[np.int64(44), np.int64(56)] clct_ans[np.int64(44), np.int64(56)] cl_acc1.000  lr 0.248256 50.062sec(train) 21.389sec(infer)\n"
     ]
    },
    {
     "name": "stdout",
     "output_type": "stream",
     "text": [
      "Epoch 14 tst: l 1.544 a 0.455 clct[np.int64(20), np.int64(20)] clct_ans[np.int64(20), np.int64(20)] cl_acc1.000  3.614sec\n"
     ]
    },
    {
     "name": "stdout",
     "output_type": "stream",
     "text": [
      "Epoch 15 tr: l 1.535 a 0.454 clct[np.int64(45), np.int64(55)] clct_ans[np.int64(45), np.int64(55)] cl_acc1.000  lr 0.248132 50.230sec(train) 21.742sec(infer)\n"
     ]
    },
    {
     "name": "stdout",
     "output_type": "stream",
     "text": [
      "Epoch 15 tst: l 1.538 a 0.459 clct[np.int64(19), np.int64(21)] clct_ans[np.int64(20), np.int64(20)] cl_acc0.975  3.333sec\n"
     ]
    },
    {
     "name": "stdout",
     "output_type": "stream",
     "text": [
      "Epoch 16 tr: l 1.517 a 0.461 clct[np.int64(46), np.int64(54)] clct_ans[np.int64(47), np.int64(53)] cl_acc0.990  lr 0.248007 50.170sec(train) 21.514sec(infer)\n"
     ]
    },
    {
     "name": "stdout",
     "output_type": "stream",
     "text": [
      "Epoch 16 tst: l 1.542 a 0.460 clct[np.int64(18), np.int64(22)] clct_ans[np.int64(20), np.int64(20)] cl_acc0.950  3.411sec\n"
     ]
    },
    {
     "name": "stdout",
     "output_type": "stream",
     "text": [
      "Epoch 17 tr: l 1.513 a 0.468 clct[np.int64(51), np.int64(49)] clct_ans[np.int64(52), np.int64(48)] cl_acc0.990  lr 0.247883 49.819sec(train) 22.142sec(infer)\n"
     ]
    },
    {
     "name": "stdout",
     "output_type": "stream",
     "text": [
      "Epoch 17 tst: l 1.498 a 0.474 clct[np.int64(19), np.int64(21)] clct_ans[np.int64(20), np.int64(20)] cl_acc0.975  3.746sec\n"
     ]
    },
    {
     "name": "stdout",
     "output_type": "stream",
     "text": [
      "Epoch 18 tr: l 1.476 a 0.483 clct[np.int64(55), np.int64(45)] clct_ans[np.int64(55), np.int64(45)] cl_acc1.000  lr 0.247760 49.956sec(train) 21.384sec(infer)\n"
     ]
    },
    {
     "name": "stdout",
     "output_type": "stream",
     "text": [
      "Epoch 18 tst: l 1.455 a 0.488 clct[np.int64(20), np.int64(20)] clct_ans[np.int64(20), np.int64(20)] cl_acc1.000  3.493sec\n"
     ]
    },
    {
     "name": "stdout",
     "output_type": "stream",
     "text": [
      "Epoch 19 tr: l 1.460 a 0.491 clct[np.int64(50), np.int64(50)] clct_ans[np.int64(50), np.int64(50)] cl_acc1.000  lr 0.247636 49.690sec(train) 21.608sec(infer)\n"
     ]
    },
    {
     "name": "stdout",
     "output_type": "stream",
     "text": [
      "Epoch 19 tst: l 1.433 a 0.501 clct[np.int64(20), np.int64(20)] clct_ans[np.int64(20), np.int64(20)] cl_acc1.000  3.509sec\n"
     ]
    },
    {
     "name": "stdout",
     "output_type": "stream",
     "text": [
      "Epoch 20 tr: l 1.439 a 0.504 clct[np.int64(48), np.int64(52)] clct_ans[np.int64(48), np.int64(52)] cl_acc1.000  lr 0.247512 50.013sec(train) 21.835sec(infer)\n"
     ]
    },
    {
     "name": "stdout",
     "output_type": "stream",
     "text": [
      "Epoch 20 tst: l 1.425 a 0.506 clct[np.int64(20), np.int64(20)] clct_ans[np.int64(20), np.int64(20)] cl_acc1.000  3.304sec\n",
      "result written at output_dfca_gi/results.pickle\n",
      "checkpoint written at output_dfca_gi/checkpoint.pt\n"
     ]
    },
    {
     "name": "stdout",
     "output_type": "stream",
     "text": [
      "Epoch 21 tr: l 1.428 a 0.510 clct[np.int64(47), np.int64(53)] clct_ans[np.int64(47), np.int64(53)] cl_acc1.000  lr 0.247388 49.733sec(train) 21.567sec(infer)\n"
     ]
    },
    {
     "name": "stdout",
     "output_type": "stream",
     "text": [
      "Epoch 21 tst: l 1.431 a 0.507 clct[np.int64(20), np.int64(20)] clct_ans[np.int64(20), np.int64(20)] cl_acc1.000  3.709sec\n"
     ]
    },
    {
     "name": "stdout",
     "output_type": "stream",
     "text": [
      "Epoch 22 tr: l 1.434 a 0.514 clct[np.int64(51), np.int64(49)] clct_ans[np.int64(51), np.int64(49)] cl_acc1.000  lr 0.247264 49.644sec(train) 21.877sec(infer)\n"
     ]
    },
    {
     "name": "stdout",
     "output_type": "stream",
     "text": [
      "Epoch 22 tst: l 1.415 a 0.517 clct[np.int64(20), np.int64(20)] clct_ans[np.int64(20), np.int64(20)] cl_acc1.000  3.334sec\n"
     ]
    },
    {
     "name": "stdout",
     "output_type": "stream",
     "text": [
      "Epoch 23 tr: l 1.419 a 0.517 clct[np.int64(53), np.int64(47)] clct_ans[np.int64(53), np.int64(47)] cl_acc1.000  lr 0.247141 49.751sec(train) 21.318sec(infer)\n"
     ]
    },
    {
     "name": "stdout",
     "output_type": "stream",
     "text": [
      "Epoch 23 tst: l 1.404 a 0.525 clct[np.int64(20), np.int64(20)] clct_ans[np.int64(20), np.int64(20)] cl_acc1.000  3.397sec\n"
     ]
    },
    {
     "name": "stdout",
     "output_type": "stream",
     "text": [
      "Epoch 24 tr: l 1.402 a 0.531 clct[np.int64(54), np.int64(46)] clct_ans[np.int64(54), np.int64(46)] cl_acc1.000  lr 0.247017 50.049sec(train) 21.811sec(infer)\n"
     ]
    },
    {
     "name": "stdout",
     "output_type": "stream",
     "text": [
      "Epoch 24 tst: l 1.406 a 0.531 clct[np.int64(20), np.int64(20)] clct_ans[np.int64(20), np.int64(20)] cl_acc1.000  4.056sec\n"
     ]
    },
    {
     "name": "stdout",
     "output_type": "stream",
     "text": [
      "Epoch 25 tr: l 1.371 a 0.543 clct[np.int64(54), np.int64(46)] clct_ans[np.int64(54), np.int64(46)] cl_acc1.000  lr 0.246894 49.946sec(train) 21.669sec(infer)\n"
     ]
    },
    {
     "name": "stdout",
     "output_type": "stream",
     "text": [
      "Epoch 25 tst: l 1.412 a 0.530 clct[np.int64(20), np.int64(20)] clct_ans[np.int64(20), np.int64(20)] cl_acc1.000  3.417sec\n"
     ]
    },
    {
     "name": "stdout",
     "output_type": "stream",
     "text": [
      "Epoch 26 tr: l 1.374 a 0.544 clct[np.int64(57), np.int64(43)] clct_ans[np.int64(57), np.int64(43)] cl_acc1.000  lr 0.246770 48.672sec(train) 21.628sec(infer)\n"
     ]
    },
    {
     "name": "stdout",
     "output_type": "stream",
     "text": [
      "Epoch 26 tst: l 1.422 a 0.536 clct[np.int64(20), np.int64(20)] clct_ans[np.int64(20), np.int64(20)] cl_acc1.000  3.434sec\n"
     ]
    },
    {
     "name": "stdout",
     "output_type": "stream",
     "text": [
      "Epoch 27 tr: l 1.362 a 0.548 clct[np.int64(49), np.int64(51)] clct_ans[np.int64(49), np.int64(51)] cl_acc1.000  lr 0.246647 44.384sec(train) 21.898sec(infer)\n"
     ]
    },
    {
     "name": "stdout",
     "output_type": "stream",
     "text": [
      "Epoch 27 tst: l 1.406 a 0.538 clct[np.int64(20), np.int64(20)] clct_ans[np.int64(20), np.int64(20)] cl_acc1.000  3.337sec\n"
     ]
    },
    {
     "name": "stdout",
     "output_type": "stream",
     "text": [
      "Epoch 28 tr: l 1.360 a 0.547 clct[np.int64(48), np.int64(52)] clct_ans[np.int64(48), np.int64(52)] cl_acc1.000  lr 0.246524 47.152sec(train) 21.387sec(infer)\n"
     ]
    },
    {
     "name": "stdout",
     "output_type": "stream",
     "text": [
      "Epoch 28 tst: l 1.369 a 0.546 clct[np.int64(20), np.int64(20)] clct_ans[np.int64(20), np.int64(20)] cl_acc1.000  3.390sec\n"
     ]
    },
    {
     "name": "stdout",
     "output_type": "stream",
     "text": [
      "Epoch 29 tr: l 1.324 a 0.566 clct[np.int64(48), np.int64(52)] clct_ans[np.int64(48), np.int64(52)] cl_acc1.000  lr 0.246400 49.017sec(train) 21.490sec(infer)\n"
     ]
    },
    {
     "name": "stdout",
     "output_type": "stream",
     "text": [
      "Epoch 29 tst: l 1.386 a 0.548 clct[np.int64(20), np.int64(20)] clct_ans[np.int64(20), np.int64(20)] cl_acc1.000  4.032sec\n"
     ]
    },
    {
     "name": "stdout",
     "output_type": "stream",
     "text": [
      "Epoch 30 tr: l 1.324 a 0.559 clct[np.int64(44), np.int64(56)] clct_ans[np.int64(44), np.int64(56)] cl_acc1.000  lr 0.246277 46.837sec(train) 21.711sec(infer)\n"
     ]
    },
    {
     "name": "stdout",
     "output_type": "stream",
     "text": [
      "Epoch 30 tst: l 1.349 a 0.554 clct[np.int64(20), np.int64(20)] clct_ans[np.int64(20), np.int64(20)] cl_acc1.000  3.325sec\n",
      "result written at output_dfca_gi/results.pickle\n",
      "checkpoint written at output_dfca_gi/checkpoint.pt\n"
     ]
    },
    {
     "name": "stdout",
     "output_type": "stream",
     "text": [
      "Epoch 31 tr: l 1.301 a 0.564 clct[np.int64(49), np.int64(51)] clct_ans[np.int64(49), np.int64(51)] cl_acc1.000  lr 0.246154 47.429sec(train) 21.359sec(infer)\n"
     ]
    },
    {
     "name": "stdout",
     "output_type": "stream",
     "text": [
      "Epoch 31 tst: l 1.347 a 0.556 clct[np.int64(20), np.int64(20)] clct_ans[np.int64(20), np.int64(20)] cl_acc1.000  3.461sec\n"
     ]
    },
    {
     "name": "stdout",
     "output_type": "stream",
     "text": [
      "Epoch 32 tr: l 1.291 a 0.572 clct[np.int64(49), np.int64(51)] clct_ans[np.int64(49), np.int64(51)] cl_acc1.000  lr 0.246031 48.181sec(train) 21.928sec(infer)\n"
     ]
    },
    {
     "name": "stdout",
     "output_type": "stream",
     "text": [
      "Epoch 32 tst: l 1.366 a 0.556 clct[np.int64(20), np.int64(20)] clct_ans[np.int64(20), np.int64(20)] cl_acc1.000  3.412sec\n"
     ]
    },
    {
     "name": "stdout",
     "output_type": "stream",
     "text": [
      "Epoch 33 tr: l 1.272 a 0.573 clct[np.int64(55), np.int64(45)] clct_ans[np.int64(55), np.int64(45)] cl_acc1.000  lr 0.245908 46.998sec(train) 21.580sec(infer)\n"
     ]
    },
    {
     "name": "stdout",
     "output_type": "stream",
     "text": [
      "Epoch 33 tst: l 1.347 a 0.559 clct[np.int64(20), np.int64(20)] clct_ans[np.int64(20), np.int64(20)] cl_acc1.000  3.342sec\n"
     ]
    },
    {
     "name": "stdout",
     "output_type": "stream",
     "text": [
      "Epoch 34 tr: l 1.283 a 0.571 clct[np.int64(52), np.int64(48)] clct_ans[np.int64(52), np.int64(48)] cl_acc1.000  lr 0.245785 47.890sec(train) 21.563sec(infer)\n"
     ]
    },
    {
     "name": "stdout",
     "output_type": "stream",
     "text": [
      "Epoch 34 tst: l 1.345 a 0.561 clct[np.int64(20), np.int64(20)] clct_ans[np.int64(20), np.int64(20)] cl_acc1.000  3.428sec\n"
     ]
    },
    {
     "name": "stdout",
     "output_type": "stream",
     "text": [
      "Epoch 35 tr: l 1.264 a 0.579 clct[np.int64(55), np.int64(45)] clct_ans[np.int64(55), np.int64(45)] cl_acc1.000  lr 0.245662 47.714sec(train) 21.970sec(infer)\n"
     ]
    },
    {
     "name": "stdout",
     "output_type": "stream",
     "text": [
      "Epoch 35 tst: l 1.313 a 0.566 clct[np.int64(20), np.int64(20)] clct_ans[np.int64(20), np.int64(20)] cl_acc1.000  3.362sec\n"
     ]
    },
    {
     "name": "stdout",
     "output_type": "stream",
     "text": [
      "Epoch 36 tr: l 1.278 a 0.573 clct[np.int64(56), np.int64(44)] clct_ans[np.int64(56), np.int64(44)] cl_acc1.000  lr 0.245539 48.866sec(train) 21.315sec(infer)\n"
     ]
    },
    {
     "name": "stdout",
     "output_type": "stream",
     "text": [
      "Epoch 36 tst: l 1.297 a 0.569 clct[np.int64(20), np.int64(20)] clct_ans[np.int64(20), np.int64(20)] cl_acc1.000  3.410sec\n"
     ]
    },
    {
     "name": "stdout",
     "output_type": "stream",
     "text": [
      "Epoch 37 tr: l 1.267 a 0.577 clct[np.int64(46), np.int64(54)] clct_ans[np.int64(46), np.int64(54)] cl_acc1.000  lr 0.245416 49.981sec(train) 21.497sec(infer)\n"
     ]
    },
    {
     "name": "stdout",
     "output_type": "stream",
     "text": [
      "Epoch 37 tst: l 1.306 a 0.569 clct[np.int64(20), np.int64(20)] clct_ans[np.int64(20), np.int64(20)] cl_acc1.000  3.547sec\n"
     ]
    },
    {
     "name": "stdout",
     "output_type": "stream",
     "text": [
      "Epoch 38 tr: l 1.244 a 0.582 clct[np.int64(48), np.int64(52)] clct_ans[np.int64(48), np.int64(52)] cl_acc1.000  lr 0.245294 50.204sec(train) 21.687sec(infer)\n"
     ]
    },
    {
     "name": "stdout",
     "output_type": "stream",
     "text": [
      "Epoch 38 tst: l 1.299 a 0.572 clct[np.int64(20), np.int64(20)] clct_ans[np.int64(20), np.int64(20)] cl_acc1.000  3.323sec\n"
     ]
    },
    {
     "name": "stdout",
     "output_type": "stream",
     "text": [
      "Epoch 39 tr: l 1.263 a 0.581 clct[np.int64(47), np.int64(53)] clct_ans[np.int64(47), np.int64(53)] cl_acc1.000  lr 0.245171 49.989sec(train) 21.436sec(infer)\n"
     ]
    },
    {
     "name": "stdout",
     "output_type": "stream",
     "text": [
      "Epoch 39 tst: l 1.315 a 0.571 clct[np.int64(20), np.int64(20)] clct_ans[np.int64(20), np.int64(20)] cl_acc1.000  3.515sec\n"
     ]
    },
    {
     "name": "stdout",
     "output_type": "stream",
     "text": [
      "Epoch 40 tr: l 1.248 a 0.585 clct[np.int64(51), np.int64(49)] clct_ans[np.int64(51), np.int64(49)] cl_acc1.000  lr 0.245048 50.025sec(train) 22.329sec(infer)\n"
     ]
    },
    {
     "name": "stdout",
     "output_type": "stream",
     "text": [
      "Epoch 40 tst: l 1.279 a 0.578 clct[np.int64(20), np.int64(20)] clct_ans[np.int64(20), np.int64(20)] cl_acc1.000  3.323sec\n",
      "result written at output_dfca_gi/results.pickle\n",
      "checkpoint written at output_dfca_gi/checkpoint.pt\n"
     ]
    },
    {
     "name": "stdout",
     "output_type": "stream",
     "text": [
      "Epoch 41 tr: l 1.248 a 0.584 clct[np.int64(50), np.int64(50)] clct_ans[np.int64(50), np.int64(50)] cl_acc1.000  lr 0.244926 49.787sec(train) 21.351sec(infer)\n"
     ]
    },
    {
     "name": "stdout",
     "output_type": "stream",
     "text": [
      "Epoch 41 tst: l 1.299 a 0.578 clct[np.int64(20), np.int64(20)] clct_ans[np.int64(20), np.int64(20)] cl_acc1.000  3.545sec\n"
     ]
    },
    {
     "name": "stdout",
     "output_type": "stream",
     "text": [
      "Epoch 42 tr: l 1.238 a 0.590 clct[np.int64(51), np.int64(49)] clct_ans[np.int64(51), np.int64(49)] cl_acc1.000  lr 0.244803 48.940sec(train) 21.960sec(infer)\n"
     ]
    },
    {
     "name": "stdout",
     "output_type": "stream",
     "text": [
      "Epoch 42 tst: l 1.309 a 0.575 clct[np.int64(20), np.int64(20)] clct_ans[np.int64(20), np.int64(20)] cl_acc1.000  3.440sec\n"
     ]
    },
    {
     "name": "stdout",
     "output_type": "stream",
     "text": [
      "Epoch 43 tr: l 1.217 a 0.592 clct[np.int64(52), np.int64(48)] clct_ans[np.int64(52), np.int64(48)] cl_acc1.000  lr 0.244681 50.433sec(train) 21.373sec(infer)\n"
     ]
    },
    {
     "name": "stdout",
     "output_type": "stream",
     "text": [
      "Epoch 43 tst: l 1.309 a 0.577 clct[np.int64(20), np.int64(20)] clct_ans[np.int64(20), np.int64(20)] cl_acc1.000  3.394sec\n"
     ]
    },
    {
     "name": "stdout",
     "output_type": "stream",
     "text": [
      "Epoch 44 tr: l 1.204 a 0.600 clct[np.int64(47), np.int64(53)] clct_ans[np.int64(47), np.int64(53)] cl_acc1.000  lr 0.244559 50.128sec(train) 21.695sec(infer)\n"
     ]
    },
    {
     "name": "stdout",
     "output_type": "stream",
     "text": [
      "Epoch 44 tst: l 1.288 a 0.581 clct[np.int64(20), np.int64(20)] clct_ans[np.int64(20), np.int64(20)] cl_acc1.000  3.989sec\n"
     ]
    },
    {
     "name": "stdout",
     "output_type": "stream",
     "text": [
      "Epoch 45 tr: l 1.221 a 0.593 clct[np.int64(46), np.int64(54)] clct_ans[np.int64(46), np.int64(54)] cl_acc1.000  lr 0.244436 50.157sec(train) 21.864sec(infer)\n"
     ]
    },
    {
     "name": "stdout",
     "output_type": "stream",
     "text": [
      "Epoch 45 tst: l 1.271 a 0.580 clct[np.int64(20), np.int64(20)] clct_ans[np.int64(20), np.int64(20)] cl_acc1.000  3.382sec\n"
     ]
    },
    {
     "name": "stdout",
     "output_type": "stream",
     "text": [
      "Epoch 46 tr: l 1.222 a 0.595 clct[np.int64(47), np.int64(53)] clct_ans[np.int64(47), np.int64(53)] cl_acc1.000  lr 0.244314 50.398sec(train) 21.401sec(infer)\n"
     ]
    },
    {
     "name": "stdout",
     "output_type": "stream",
     "text": [
      "Epoch 46 tst: l 1.268 a 0.584 clct[np.int64(20), np.int64(20)] clct_ans[np.int64(20), np.int64(20)] cl_acc1.000  3.540sec\n"
     ]
    },
    {
     "name": "stdout",
     "output_type": "stream",
     "text": [
      "Epoch 47 tr: l 1.213 a 0.593 clct[np.int64(48), np.int64(52)] clct_ans[np.int64(48), np.int64(52)] cl_acc1.000  lr 0.244192 50.105sec(train) 21.660sec(infer)\n"
     ]
    },
    {
     "name": "stdout",
     "output_type": "stream",
     "text": [
      "Epoch 47 tst: l 1.252 a 0.586 clct[np.int64(20), np.int64(20)] clct_ans[np.int64(20), np.int64(20)] cl_acc1.000  3.374sec\n"
     ]
    },
    {
     "name": "stdout",
     "output_type": "stream",
     "text": [
      "Epoch 48 tr: l 1.171 a 0.610 clct[np.int64(45), np.int64(55)] clct_ans[np.int64(45), np.int64(55)] cl_acc1.000  lr 0.244070 50.164sec(train) 21.424sec(infer)\n"
     ]
    },
    {
     "name": "stdout",
     "output_type": "stream",
     "text": [
      "Epoch 48 tst: l 1.246 a 0.586 clct[np.int64(20), np.int64(20)] clct_ans[np.int64(20), np.int64(20)] cl_acc1.000  3.509sec\n"
     ]
    },
    {
     "name": "stdout",
     "output_type": "stream",
     "text": [
      "Epoch 49 tr: l 1.207 a 0.596 clct[np.int64(47), np.int64(53)] clct_ans[np.int64(47), np.int64(53)] cl_acc1.000  lr 0.243948 47.489sec(train) 21.767sec(infer)\n"
     ]
    },
    {
     "name": "stdout",
     "output_type": "stream",
     "text": [
      "Epoch 49 tst: l 1.234 a 0.589 clct[np.int64(20), np.int64(20)] clct_ans[np.int64(20), np.int64(20)] cl_acc1.000  3.858sec\n"
     ]
    },
    {
     "name": "stdout",
     "output_type": "stream",
     "text": [
      "Epoch 50 tr: l 1.190 a 0.604 clct[np.int64(49), np.int64(51)] clct_ans[np.int64(49), np.int64(51)] cl_acc1.000  lr 0.243826 48.236sec(train) 21.570sec(infer)\n"
     ]
    },
    {
     "name": "stdout",
     "output_type": "stream",
     "text": [
      "Epoch 50 tst: l 1.245 a 0.590 clct[np.int64(20), np.int64(20)] clct_ans[np.int64(20), np.int64(20)] cl_acc1.000  3.378sec\n",
      "result written at output_dfca_gi/results.pickle\n",
      "checkpoint written at output_dfca_gi/checkpoint.pt\n"
     ]
    },
    {
     "name": "stdout",
     "output_type": "stream",
     "text": [
      "Epoch 51 tr: l 1.174 a 0.608 clct[np.int64(49), np.int64(51)] clct_ans[np.int64(49), np.int64(51)] cl_acc1.000  lr 0.243704 47.157sec(train) 21.361sec(infer)\n"
     ]
    },
    {
     "name": "stdout",
     "output_type": "stream",
     "text": [
      "Epoch 51 tst: l 1.231 a 0.594 clct[np.int64(20), np.int64(20)] clct_ans[np.int64(20), np.int64(20)] cl_acc1.000  3.458sec\n"
     ]
    },
    {
     "name": "stdout",
     "output_type": "stream",
     "text": [
      "Epoch 52 tr: l 1.163 a 0.616 clct[np.int64(50), np.int64(50)] clct_ans[np.int64(50), np.int64(50)] cl_acc1.000  lr 0.243582 48.657sec(train) 22.193sec(infer)\n"
     ]
    },
    {
     "name": "stdout",
     "output_type": "stream",
     "text": [
      "Epoch 52 tst: l 1.246 a 0.593 clct[np.int64(20), np.int64(20)] clct_ans[np.int64(20), np.int64(20)] cl_acc1.000  3.347sec\n"
     ]
    },
    {
     "name": "stdout",
     "output_type": "stream",
     "text": [
      "Epoch 53 tr: l 1.163 a 0.616 clct[np.int64(51), np.int64(49)] clct_ans[np.int64(51), np.int64(49)] cl_acc1.000  lr 0.243460 47.544sec(train) 21.402sec(infer)\n"
     ]
    },
    {
     "name": "stdout",
     "output_type": "stream",
     "text": [
      "Epoch 53 tst: l 1.208 a 0.600 clct[np.int64(20), np.int64(20)] clct_ans[np.int64(20), np.int64(20)] cl_acc1.000  3.434sec\n"
     ]
    },
    {
     "name": "stdout",
     "output_type": "stream",
     "text": [
      "Epoch 54 tr: l 1.159 a 0.614 clct[np.int64(57), np.int64(43)] clct_ans[np.int64(57), np.int64(43)] cl_acc1.000  lr 0.243339 48.079sec(train) 21.554sec(infer)\n"
     ]
    },
    {
     "name": "stdout",
     "output_type": "stream",
     "text": [
      "Epoch 54 tst: l 1.208 a 0.601 clct[np.int64(20), np.int64(20)] clct_ans[np.int64(20), np.int64(20)] cl_acc1.000  3.501sec\n"
     ]
    },
    {
     "name": "stdout",
     "output_type": "stream",
     "text": [
      "Epoch 55 tr: l 1.157 a 0.614 clct[np.int64(57), np.int64(43)] clct_ans[np.int64(57), np.int64(43)] cl_acc1.000  lr 0.243217 48.058sec(train) 22.249sec(infer)\n"
     ]
    },
    {
     "name": "stdout",
     "output_type": "stream",
     "text": [
      "Epoch 55 tst: l 1.190 a 0.605 clct[np.int64(20), np.int64(20)] clct_ans[np.int64(20), np.int64(20)] cl_acc1.000  3.313sec\n"
     ]
    },
    {
     "name": "stdout",
     "output_type": "stream",
     "text": [
      "Epoch 56 tr: l 1.155 a 0.614 clct[np.int64(46), np.int64(54)] clct_ans[np.int64(46), np.int64(54)] cl_acc1.000  lr 0.243095 49.154sec(train) 21.354sec(infer)\n"
     ]
    },
    {
     "name": "stdout",
     "output_type": "stream",
     "text": [
      "Epoch 56 tst: l 1.194 a 0.606 clct[np.int64(20), np.int64(20)] clct_ans[np.int64(20), np.int64(20)] cl_acc1.000  3.534sec\n"
     ]
    },
    {
     "name": "stdout",
     "output_type": "stream",
     "text": [
      "Epoch 57 tr: l 1.149 a 0.616 clct[np.int64(50), np.int64(50)] clct_ans[np.int64(50), np.int64(50)] cl_acc1.000  lr 0.242974 47.970sec(train) 22.130sec(infer)\n"
     ]
    },
    {
     "name": "stdout",
     "output_type": "stream",
     "text": [
      "Epoch 57 tst: l 1.195 a 0.604 clct[np.int64(20), np.int64(20)] clct_ans[np.int64(20), np.int64(20)] cl_acc1.000  3.308sec\n"
     ]
    },
    {
     "name": "stdout",
     "output_type": "stream",
     "text": [
      "Epoch 58 tr: l 1.156 a 0.616 clct[np.int64(55), np.int64(45)] clct_ans[np.int64(55), np.int64(45)] cl_acc1.000  lr 0.242852 47.765sec(train) 21.487sec(infer)\n"
     ]
    },
    {
     "name": "stdout",
     "output_type": "stream",
     "text": [
      "Epoch 58 tst: l 1.206 a 0.603 clct[np.int64(20), np.int64(20)] clct_ans[np.int64(20), np.int64(20)] cl_acc1.000  3.344sec\n"
     ]
    },
    {
     "name": "stdout",
     "output_type": "stream",
     "text": [
      "Epoch 59 tr: l 1.138 a 0.622 clct[np.int64(52), np.int64(48)] clct_ans[np.int64(52), np.int64(48)] cl_acc1.000  lr 0.242731 48.630sec(train) 21.603sec(infer)\n"
     ]
    },
    {
     "name": "stdout",
     "output_type": "stream",
     "text": [
      "Epoch 59 tst: l 1.188 a 0.607 clct[np.int64(20), np.int64(20)] clct_ans[np.int64(20), np.int64(20)] cl_acc1.000  3.785sec\n"
     ]
    },
    {
     "name": "stdout",
     "output_type": "stream",
     "text": [
      "Epoch 60 tr: l 1.131 a 0.623 clct[np.int64(54), np.int64(46)] clct_ans[np.int64(54), np.int64(46)] cl_acc1.000  lr 0.242610 49.113sec(train) 22.115sec(infer)\n"
     ]
    },
    {
     "name": "stdout",
     "output_type": "stream",
     "text": [
      "Epoch 60 tst: l 1.181 a 0.611 clct[np.int64(20), np.int64(20)] clct_ans[np.int64(20), np.int64(20)] cl_acc1.000  3.312sec\n",
      "result written at output_dfca_gi/results.pickle\n",
      "checkpoint written at output_dfca_gi/checkpoint.pt\n"
     ]
    },
    {
     "name": "stdout",
     "output_type": "stream",
     "text": [
      "Epoch 61 tr: l 1.132 a 0.623 clct[np.int64(51), np.int64(49)] clct_ans[np.int64(51), np.int64(49)] cl_acc1.000  lr 0.242488 48.011sec(train) 21.580sec(infer)\n"
     ]
    },
    {
     "name": "stdout",
     "output_type": "stream",
     "text": [
      "Epoch 61 tst: l 1.184 a 0.612 clct[np.int64(20), np.int64(20)] clct_ans[np.int64(20), np.int64(20)] cl_acc1.000  3.547sec\n"
     ]
    },
    {
     "name": "stdout",
     "output_type": "stream",
     "text": [
      "Epoch 62 tr: l 1.123 a 0.625 clct[np.int64(55), np.int64(45)] clct_ans[np.int64(55), np.int64(45)] cl_acc1.000  lr 0.242367 47.799sec(train) 22.019sec(infer)\n"
     ]
    },
    {
     "name": "stdout",
     "output_type": "stream",
     "text": [
      "Epoch 62 tst: l 1.177 a 0.615 clct[np.int64(20), np.int64(20)] clct_ans[np.int64(20), np.int64(20)] cl_acc1.000  3.330sec\n"
     ]
    },
    {
     "name": "stdout",
     "output_type": "stream",
     "text": [
      "Epoch 63 tr: l 1.119 a 0.626 clct[np.int64(52), np.int64(48)] clct_ans[np.int64(52), np.int64(48)] cl_acc1.000  lr 0.242246 47.793sec(train) 21.379sec(infer)\n"
     ]
    },
    {
     "name": "stdout",
     "output_type": "stream",
     "text": [
      "Epoch 63 tst: l 1.157 a 0.619 clct[np.int64(20), np.int64(20)] clct_ans[np.int64(20), np.int64(20)] cl_acc1.000  3.357sec\n"
     ]
    },
    {
     "name": "stdout",
     "output_type": "stream",
     "text": [
      "Epoch 64 tr: l 1.120 a 0.629 clct[np.int64(52), np.int64(48)] clct_ans[np.int64(52), np.int64(48)] cl_acc1.000  lr 0.242125 48.786sec(train) 21.564sec(infer)\n"
     ]
    },
    {
     "name": "stdout",
     "output_type": "stream",
     "text": [
      "Epoch 64 tst: l 1.173 a 0.616 clct[np.int64(20), np.int64(20)] clct_ans[np.int64(20), np.int64(20)] cl_acc1.000  4.013sec\n"
     ]
    },
    {
     "name": "stdout",
     "output_type": "stream",
     "text": [
      "Epoch 65 tr: l 1.099 a 0.634 clct[np.int64(54), np.int64(46)] clct_ans[np.int64(54), np.int64(46)] cl_acc1.000  lr 0.242004 49.295sec(train) 21.930sec(infer)\n"
     ]
    },
    {
     "name": "stdout",
     "output_type": "stream",
     "text": [
      "Epoch 65 tst: l 1.182 a 0.616 clct[np.int64(20), np.int64(20)] clct_ans[np.int64(20), np.int64(20)] cl_acc1.000  3.346sec\n"
     ]
    },
    {
     "name": "stdout",
     "output_type": "stream",
     "text": [
      "Epoch 66 tr: l 1.110 a 0.629 clct[np.int64(50), np.int64(50)] clct_ans[np.int64(50), np.int64(50)] cl_acc1.000  lr 0.241883 49.885sec(train) 21.431sec(infer)\n"
     ]
    },
    {
     "name": "stdout",
     "output_type": "stream",
     "text": [
      "Epoch 66 tst: l 1.181 a 0.615 clct[np.int64(20), np.int64(20)] clct_ans[np.int64(20), np.int64(20)] cl_acc1.000  3.455sec\n"
     ]
    },
    {
     "name": "stdout",
     "output_type": "stream",
     "text": [
      "Epoch 67 tr: l 1.101 a 0.634 clct[np.int64(48), np.int64(52)] clct_ans[np.int64(48), np.int64(52)] cl_acc1.000  lr 0.241762 49.963sec(train) 21.907sec(infer)\n"
     ]
    },
    {
     "name": "stdout",
     "output_type": "stream",
     "text": [
      "Epoch 67 tst: l 1.164 a 0.619 clct[np.int64(20), np.int64(20)] clct_ans[np.int64(20), np.int64(20)] cl_acc1.000  3.360sec\n"
     ]
    },
    {
     "name": "stdout",
     "output_type": "stream",
     "text": [
      "Epoch 68 tr: l 1.101 a 0.633 clct[np.int64(53), np.int64(47)] clct_ans[np.int64(53), np.int64(47)] cl_acc1.000  lr 0.241641 49.535sec(train) 21.533sec(infer)\n"
     ]
    },
    {
     "name": "stdout",
     "output_type": "stream",
     "text": [
      "Epoch 68 tst: l 1.180 a 0.619 clct[np.int64(20), np.int64(20)] clct_ans[np.int64(20), np.int64(20)] cl_acc1.000  3.446sec\n"
     ]
    },
    {
     "name": "stdout",
     "output_type": "stream",
     "text": [
      "Epoch 69 tr: l 1.100 a 0.633 clct[np.int64(48), np.int64(52)] clct_ans[np.int64(48), np.int64(52)] cl_acc1.000  lr 0.241520 46.586sec(train) 21.589sec(infer)\n"
     ]
    },
    {
     "name": "stdout",
     "output_type": "stream",
     "text": [
      "Epoch 69 tst: l 1.179 a 0.619 clct[np.int64(20), np.int64(20)] clct_ans[np.int64(20), np.int64(20)] cl_acc1.000  3.443sec\n"
     ]
    },
    {
     "name": "stdout",
     "output_type": "stream",
     "text": [
      "Epoch 70 tr: l 1.096 a 0.636 clct[np.int64(48), np.int64(52)] clct_ans[np.int64(48), np.int64(52)] cl_acc1.000  lr 0.241399 48.263sec(train) 21.708sec(infer)\n"
     ]
    },
    {
     "name": "stdout",
     "output_type": "stream",
     "text": [
      "Epoch 70 tst: l 1.152 a 0.624 clct[np.int64(20), np.int64(20)] clct_ans[np.int64(20), np.int64(20)] cl_acc1.000  3.335sec\n",
      "result written at output_dfca_gi/results.pickle\n",
      "checkpoint written at output_dfca_gi/checkpoint.pt\n"
     ]
    },
    {
     "name": "stdout",
     "output_type": "stream",
     "text": [
      "Epoch 71 tr: l 1.097 a 0.635 clct[np.int64(54), np.int64(46)] clct_ans[np.int64(54), np.int64(46)] cl_acc1.000  lr 0.241279 47.492sec(train) 21.434sec(infer)\n"
     ]
    },
    {
     "name": "stdout",
     "output_type": "stream",
     "text": [
      "Epoch 71 tst: l 1.155 a 0.624 clct[np.int64(20), np.int64(20)] clct_ans[np.int64(20), np.int64(20)] cl_acc1.000  3.460sec\n"
     ]
    },
    {
     "name": "stdout",
     "output_type": "stream",
     "text": [
      "Epoch 72 tr: l 1.067 a 0.648 clct[np.int64(50), np.int64(50)] clct_ans[np.int64(50), np.int64(50)] cl_acc1.000  lr 0.241158 47.557sec(train) 22.193sec(infer)\n"
     ]
    },
    {
     "name": "stdout",
     "output_type": "stream",
     "text": [
      "Epoch 72 tst: l 1.147 a 0.623 clct[np.int64(20), np.int64(20)] clct_ans[np.int64(20), np.int64(20)] cl_acc1.000  3.422sec\n"
     ]
    },
    {
     "name": "stdout",
     "output_type": "stream",
     "text": [
      "Epoch 73 tr: l 1.085 a 0.638 clct[np.int64(45), np.int64(55)] clct_ans[np.int64(45), np.int64(55)] cl_acc1.000  lr 0.241037 47.912sec(train) 21.418sec(infer)\n"
     ]
    },
    {
     "name": "stdout",
     "output_type": "stream",
     "text": [
      "Epoch 73 tst: l 1.163 a 0.623 clct[np.int64(20), np.int64(20)] clct_ans[np.int64(20), np.int64(20)] cl_acc1.000  3.389sec\n"
     ]
    },
    {
     "name": "stdout",
     "output_type": "stream",
     "text": [
      "Epoch 74 tr: l 1.066 a 0.646 clct[np.int64(50), np.int64(50)] clct_ans[np.int64(50), np.int64(50)] cl_acc1.000  lr 0.240917 45.825sec(train) 21.503sec(infer)\n"
     ]
    },
    {
     "name": "stdout",
     "output_type": "stream",
     "text": [
      "Epoch 74 tst: l 1.151 a 0.623 clct[np.int64(20), np.int64(20)] clct_ans[np.int64(20), np.int64(20)] cl_acc1.000  3.521sec\n"
     ]
    },
    {
     "name": "stdout",
     "output_type": "stream",
     "text": [
      "Epoch 75 tr: l 1.074 a 0.642 clct[np.int64(50), np.int64(50)] clct_ans[np.int64(50), np.int64(50)] cl_acc1.000  lr 0.240796 48.849sec(train) 22.264sec(infer)\n"
     ]
    },
    {
     "name": "stdout",
     "output_type": "stream",
     "text": [
      "Epoch 75 tst: l 1.147 a 0.626 clct[np.int64(20), np.int64(20)] clct_ans[np.int64(20), np.int64(20)] cl_acc1.000  3.474sec\n"
     ]
    },
    {
     "name": "stdout",
     "output_type": "stream",
     "text": [
      "Epoch 76 tr: l 1.061 a 0.646 clct[np.int64(49), np.int64(51)] clct_ans[np.int64(49), np.int64(51)] cl_acc1.000  lr 0.240676 50.686sec(train) 21.507sec(infer)\n"
     ]
    },
    {
     "name": "stdout",
     "output_type": "stream",
     "text": [
      "Epoch 76 tst: l 1.141 a 0.627 clct[np.int64(20), np.int64(20)] clct_ans[np.int64(20), np.int64(20)] cl_acc1.000  3.448sec\n"
     ]
    },
    {
     "name": "stdout",
     "output_type": "stream",
     "text": [
      "Epoch 77 tr: l 1.051 a 0.649 clct[np.int64(55), np.int64(45)] clct_ans[np.int64(55), np.int64(45)] cl_acc1.000  lr 0.240556 49.118sec(train) 21.714sec(infer)\n"
     ]
    },
    {
     "name": "stdout",
     "output_type": "stream",
     "text": [
      "Epoch 77 tst: l 1.128 a 0.629 clct[np.int64(20), np.int64(20)] clct_ans[np.int64(20), np.int64(20)] cl_acc1.000  4.004sec\n"
     ]
    },
    {
     "name": "stdout",
     "output_type": "stream",
     "text": [
      "Epoch 78 tr: l 1.057 a 0.649 clct[np.int64(50), np.int64(50)] clct_ans[np.int64(50), np.int64(50)] cl_acc1.000  lr 0.240435 46.926sec(train) 21.706sec(infer)\n"
     ]
    },
    {
     "name": "stdout",
     "output_type": "stream",
     "text": [
      "Epoch 78 tst: l 1.133 a 0.629 clct[np.int64(20), np.int64(20)] clct_ans[np.int64(20), np.int64(20)] cl_acc1.000  3.357sec\n"
     ]
    },
    {
     "name": "stdout",
     "output_type": "stream",
     "text": [
      "Epoch 79 tr: l 1.063 a 0.647 clct[np.int64(47), np.int64(53)] clct_ans[np.int64(47), np.int64(53)] cl_acc1.000  lr 0.240315 46.508sec(train) 21.538sec(infer)\n"
     ]
    },
    {
     "name": "stdout",
     "output_type": "stream",
     "text": [
      "Epoch 79 tst: l 1.137 a 0.628 clct[np.int64(20), np.int64(20)] clct_ans[np.int64(20), np.int64(20)] cl_acc1.000  3.637sec\n"
     ]
    },
    {
     "name": "stdout",
     "output_type": "stream",
     "text": [
      "Epoch 80 tr: l 1.053 a 0.653 clct[np.int64(55), np.int64(45)] clct_ans[np.int64(55), np.int64(45)] cl_acc1.000  lr 0.240195 46.365sec(train) 21.802sec(infer)\n"
     ]
    },
    {
     "name": "stdout",
     "output_type": "stream",
     "text": [
      "Epoch 80 tst: l 1.131 a 0.633 clct[np.int64(20), np.int64(20)] clct_ans[np.int64(20), np.int64(20)] cl_acc1.000  3.483sec\n",
      "result written at output_dfca_gi/results.pickle\n",
      "checkpoint written at output_dfca_gi/checkpoint.pt\n"
     ]
    },
    {
     "name": "stdout",
     "output_type": "stream",
     "text": [
      "Epoch 81 tr: l 1.062 a 0.647 clct[np.int64(49), np.int64(51)] clct_ans[np.int64(49), np.int64(51)] cl_acc1.000  lr 0.240075 47.038sec(train) 21.447sec(infer)\n"
     ]
    },
    {
     "name": "stdout",
     "output_type": "stream",
     "text": [
      "Epoch 81 tst: l 1.155 a 0.629 clct[np.int64(20), np.int64(20)] clct_ans[np.int64(20), np.int64(20)] cl_acc1.000  3.381sec\n"
     ]
    },
    {
     "name": "stdout",
     "output_type": "stream",
     "text": [
      "Epoch 82 tr: l 1.046 a 0.655 clct[np.int64(50), np.int64(50)] clct_ans[np.int64(50), np.int64(50)] cl_acc1.000  lr 0.239955 48.963sec(train) 21.478sec(infer)\n"
     ]
    },
    {
     "name": "stdout",
     "output_type": "stream",
     "text": [
      "Epoch 82 tst: l 1.147 a 0.633 clct[np.int64(20), np.int64(20)] clct_ans[np.int64(20), np.int64(20)] cl_acc1.000  3.526sec\n"
     ]
    },
    {
     "name": "stdout",
     "output_type": "stream",
     "text": [
      "Epoch 83 tr: l 1.032 a 0.659 clct[np.int64(55), np.int64(45)] clct_ans[np.int64(55), np.int64(45)] cl_acc1.000  lr 0.239835 50.016sec(train) 21.927sec(infer)\n"
     ]
    },
    {
     "name": "stdout",
     "output_type": "stream",
     "text": [
      "Epoch 83 tst: l 1.138 a 0.635 clct[np.int64(20), np.int64(20)] clct_ans[np.int64(20), np.int64(20)] cl_acc1.000  3.326sec\n"
     ]
    },
    {
     "name": "stdout",
     "output_type": "stream",
     "text": [
      "Epoch 84 tr: l 1.028 a 0.659 clct[np.int64(52), np.int64(48)] clct_ans[np.int64(52), np.int64(48)] cl_acc1.000  lr 0.239715 50.504sec(train) 21.459sec(infer)\n"
     ]
    },
    {
     "name": "stdout",
     "output_type": "stream",
     "text": [
      "Epoch 84 tst: l 1.116 a 0.640 clct[np.int64(20), np.int64(20)] clct_ans[np.int64(20), np.int64(20)] cl_acc1.000  3.407sec\n"
     ]
    },
    {
     "name": "stdout",
     "output_type": "stream",
     "text": [
      "Epoch 85 tr: l 1.060 a 0.650 clct[np.int64(53), np.int64(47)] clct_ans[np.int64(53), np.int64(47)] cl_acc1.000  lr 0.239595 50.551sec(train) 22.317sec(infer)\n"
     ]
    },
    {
     "name": "stdout",
     "output_type": "stream",
     "text": [
      "Epoch 85 tst: l 1.103 a 0.643 clct[np.int64(20), np.int64(20)] clct_ans[np.int64(20), np.int64(20)] cl_acc1.000  3.402sec\n"
     ]
    },
    {
     "name": "stdout",
     "output_type": "stream",
     "text": [
      "Epoch 86 tr: l 1.037 a 0.654 clct[np.int64(55), np.int64(45)] clct_ans[np.int64(55), np.int64(45)] cl_acc1.000  lr 0.239475 50.138sec(train) 21.377sec(infer)\n"
     ]
    },
    {
     "name": "stdout",
     "output_type": "stream",
     "text": [
      "Epoch 86 tst: l 1.104 a 0.641 clct[np.int64(20), np.int64(20)] clct_ans[np.int64(20), np.int64(20)] cl_acc1.000  3.455sec\n"
     ]
    },
    {
     "name": "stdout",
     "output_type": "stream",
     "text": [
      "Epoch 87 tr: l 1.044 a 0.658 clct[np.int64(48), np.int64(52)] clct_ans[np.int64(48), np.int64(52)] cl_acc1.000  lr 0.239356 50.298sec(train) 21.602sec(infer)\n"
     ]
    },
    {
     "name": "stdout",
     "output_type": "stream",
     "text": [
      "Epoch 87 tst: l 1.106 a 0.640 clct[np.int64(20), np.int64(20)] clct_ans[np.int64(20), np.int64(20)] cl_acc1.000  3.628sec\n"
     ]
    },
    {
     "name": "stdout",
     "output_type": "stream",
     "text": [
      "Epoch 88 tr: l 1.044 a 0.654 clct[np.int64(48), np.int64(52)] clct_ans[np.int64(48), np.int64(52)] cl_acc1.000  lr 0.239236 47.488sec(train) 21.727sec(infer)\n"
     ]
    },
    {
     "name": "stdout",
     "output_type": "stream",
     "text": [
      "Epoch 88 tst: l 1.100 a 0.641 clct[np.int64(20), np.int64(20)] clct_ans[np.int64(20), np.int64(20)] cl_acc1.000  3.303sec\n"
     ]
    },
    {
     "name": "stdout",
     "output_type": "stream",
     "text": [
      "Epoch 89 tr: l 1.043 a 0.652 clct[np.int64(49), np.int64(51)] clct_ans[np.int64(49), np.int64(51)] cl_acc1.000  lr 0.239116 47.543sec(train) 21.410sec(infer)\n"
     ]
    },
    {
     "name": "stdout",
     "output_type": "stream",
     "text": [
      "Epoch 89 tst: l 1.096 a 0.643 clct[np.int64(20), np.int64(20)] clct_ans[np.int64(20), np.int64(20)] cl_acc1.000  3.393sec\n"
     ]
    },
    {
     "name": "stdout",
     "output_type": "stream",
     "text": [
      "Epoch 90 tr: l 1.031 a 0.657 clct[np.int64(47), np.int64(53)] clct_ans[np.int64(47), np.int64(53)] cl_acc1.000  lr 0.238997 47.757sec(train) 21.926sec(infer)\n"
     ]
    },
    {
     "name": "stdout",
     "output_type": "stream",
     "text": [
      "Epoch 90 tst: l 1.107 a 0.642 clct[np.int64(20), np.int64(20)] clct_ans[np.int64(20), np.int64(20)] cl_acc1.000  4.006sec\n",
      "result written at output_dfca_gi/results.pickle\n",
      "checkpoint written at output_dfca_gi/checkpoint.pt\n"
     ]
    },
    {
     "name": "stdout",
     "output_type": "stream",
     "text": [
      "Epoch 91 tr: l 1.038 a 0.655 clct[np.int64(53), np.int64(47)] clct_ans[np.int64(53), np.int64(47)] cl_acc1.000  lr 0.238877 48.225sec(train) 21.704sec(infer)\n"
     ]
    },
    {
     "name": "stdout",
     "output_type": "stream",
     "text": [
      "Epoch 91 tst: l 1.118 a 0.643 clct[np.int64(20), np.int64(20)] clct_ans[np.int64(20), np.int64(20)] cl_acc1.000  3.406sec\n"
     ]
    },
    {
     "name": "stdout",
     "output_type": "stream",
     "text": [
      "Epoch 92 tr: l 1.030 a 0.662 clct[np.int64(51), np.int64(49)] clct_ans[np.int64(51), np.int64(49)] cl_acc1.000  lr 0.238758 48.511sec(train) 21.423sec(infer)\n"
     ]
    },
    {
     "name": "stdout",
     "output_type": "stream",
     "text": [
      "Epoch 92 tst: l 1.103 a 0.644 clct[np.int64(20), np.int64(20)] clct_ans[np.int64(20), np.int64(20)] cl_acc1.000  3.432sec\n"
     ]
    },
    {
     "name": "stdout",
     "output_type": "stream",
     "text": [
      "Epoch 93 tr: l 1.020 a 0.660 clct[np.int64(47), np.int64(53)] clct_ans[np.int64(47), np.int64(53)] cl_acc1.000  lr 0.238638 47.087sec(train) 21.645sec(infer)\n"
     ]
    },
    {
     "name": "stdout",
     "output_type": "stream",
     "text": [
      "Epoch 93 tst: l 1.101 a 0.645 clct[np.int64(20), np.int64(20)] clct_ans[np.int64(20), np.int64(20)] cl_acc1.000  3.358sec\n"
     ]
    },
    {
     "name": "stdout",
     "output_type": "stream",
     "text": [
      "Epoch 94 tr: l 1.031 a 0.657 clct[np.int64(45), np.int64(55)] clct_ans[np.int64(45), np.int64(55)] cl_acc1.000  lr 0.238519 47.705sec(train) 21.597sec(infer)\n"
     ]
    },
    {
     "name": "stdout",
     "output_type": "stream",
     "text": [
      "Epoch 94 tst: l 1.089 a 0.647 clct[np.int64(20), np.int64(20)] clct_ans[np.int64(20), np.int64(20)] cl_acc1.000  3.337sec\n"
     ]
    },
    {
     "name": "stdout",
     "output_type": "stream",
     "text": [
      "Epoch 95 tr: l 1.029 a 0.657 clct[np.int64(52), np.int64(48)] clct_ans[np.int64(52), np.int64(48)] cl_acc1.000  lr 0.238400 47.530sec(train) 21.500sec(infer)\n"
     ]
    },
    {
     "name": "stdout",
     "output_type": "stream",
     "text": [
      "Epoch 95 tst: l 1.087 a 0.647 clct[np.int64(20), np.int64(20)] clct_ans[np.int64(20), np.int64(20)] cl_acc1.000  3.450sec\n"
     ]
    },
    {
     "name": "stdout",
     "output_type": "stream",
     "text": [
      "Epoch 96 tr: l 1.003 a 0.668 clct[np.int64(49), np.int64(51)] clct_ans[np.int64(49), np.int64(51)] cl_acc1.000  lr 0.238281 47.891sec(train) 21.879sec(infer)\n"
     ]
    },
    {
     "name": "stdout",
     "output_type": "stream",
     "text": [
      "Epoch 96 tst: l 1.094 a 0.647 clct[np.int64(20), np.int64(20)] clct_ans[np.int64(20), np.int64(20)] cl_acc1.000  3.342sec\n"
     ]
    },
    {
     "name": "stdout",
     "output_type": "stream",
     "text": [
      "Epoch 97 tr: l 1.019 a 0.662 clct[np.int64(45), np.int64(55)] clct_ans[np.int64(45), np.int64(55)] cl_acc1.000  lr 0.238161 50.248sec(train) 21.328sec(infer)\n"
     ]
    },
    {
     "name": "stdout",
     "output_type": "stream",
     "text": [
      "Epoch 97 tst: l 1.082 a 0.650 clct[np.int64(20), np.int64(20)] clct_ans[np.int64(20), np.int64(20)] cl_acc1.000  3.447sec\n"
     ]
    },
    {
     "name": "stdout",
     "output_type": "stream",
     "text": [
      "Epoch 98 tr: l 1.008 a 0.662 clct[np.int64(49), np.int64(51)] clct_ans[np.int64(49), np.int64(51)] cl_acc1.000  lr 0.238042 50.183sec(train) 21.553sec(infer)\n"
     ]
    },
    {
     "name": "stdout",
     "output_type": "stream",
     "text": [
      "Epoch 98 tst: l 1.084 a 0.647 clct[np.int64(20), np.int64(20)] clct_ans[np.int64(20), np.int64(20)] cl_acc1.000  3.574sec\n"
     ]
    },
    {
     "name": "stdout",
     "output_type": "stream",
     "text": [
      "Epoch 99 tr: l 1.017 a 0.664 clct[np.int64(47), np.int64(53)] clct_ans[np.int64(47), np.int64(53)] cl_acc1.000  lr 0.237923 49.357sec(train) 21.764sec(infer)\n"
     ]
    },
    {
     "name": "stdout",
     "output_type": "stream",
     "text": [
      "Epoch 99 tst: l 1.082 a 0.649 clct[np.int64(20), np.int64(20)] clct_ans[np.int64(20), np.int64(20)] cl_acc1.000  3.295sec\n"
     ]
    },
    {
     "name": "stdout",
     "output_type": "stream",
     "text": [
      "Epoch 100 tr: l 1.002 a 0.668 clct[np.int64(51), np.int64(49)] clct_ans[np.int64(51), np.int64(49)] cl_acc1.000  lr 0.237804 49.397sec(train) 21.478sec(infer)\n"
     ]
    },
    {
     "name": "stdout",
     "output_type": "stream",
     "text": [
      "Epoch 100 tst: l 1.075 a 0.650 clct[np.int64(20), np.int64(20)] clct_ans[np.int64(20), np.int64(20)] cl_acc1.000  3.453sec\n",
      "result written at output_dfca_gi/results.pickle\n",
      "checkpoint written at output_dfca_gi/checkpoint.pt\n"
     ]
    },
    {
     "name": "stdout",
     "output_type": "stream",
     "text": [
      "Epoch 101 tr: l 1.016 a 0.663 clct[np.int64(47), np.int64(53)] clct_ans[np.int64(47), np.int64(53)] cl_acc1.000  lr 0.237685 45.623sec(train) 21.572sec(infer)\n"
     ]
    },
    {
     "name": "stdout",
     "output_type": "stream",
     "text": [
      "Epoch 101 tst: l 1.068 a 0.654 clct[np.int64(20), np.int64(20)] clct_ans[np.int64(20), np.int64(20)] cl_acc1.000  3.359sec\n"
     ]
    },
    {
     "name": "stdout",
     "output_type": "stream",
     "text": [
      "Epoch 102 tr: l 0.996 a 0.669 clct[np.int64(54), np.int64(46)] clct_ans[np.int64(54), np.int64(46)] cl_acc1.000  lr 0.237567 47.490sec(train) 21.367sec(infer)\n"
     ]
    },
    {
     "name": "stdout",
     "output_type": "stream",
     "text": [
      "Epoch 102 tst: l 1.082 a 0.651 clct[np.int64(20), np.int64(20)] clct_ans[np.int64(20), np.int64(20)] cl_acc1.000  3.334sec\n"
     ]
    },
    {
     "name": "stdout",
     "output_type": "stream",
     "text": [
      "Epoch 103 tr: l 1.006 a 0.666 clct[np.int64(47), np.int64(53)] clct_ans[np.int64(47), np.int64(53)] cl_acc1.000  lr 0.237448 47.364sec(train) 21.463sec(infer)\n"
     ]
    },
    {
     "name": "stdout",
     "output_type": "stream",
     "text": [
      "Epoch 103 tst: l 1.070 a 0.651 clct[np.int64(20), np.int64(20)] clct_ans[np.int64(20), np.int64(20)] cl_acc1.000  3.436sec\n"
     ]
    },
    {
     "name": "stdout",
     "output_type": "stream",
     "text": [
      "Epoch 104 tr: l 0.995 a 0.669 clct[np.int64(54), np.int64(46)] clct_ans[np.int64(54), np.int64(46)] cl_acc1.000  lr 0.237329 50.695sec(train) 21.665sec(infer)\n"
     ]
    },
    {
     "name": "stdout",
     "output_type": "stream",
     "text": [
      "Epoch 104 tst: l 1.086 a 0.649 clct[np.int64(20), np.int64(20)] clct_ans[np.int64(20), np.int64(20)] cl_acc1.000  3.320sec\n"
     ]
    },
    {
     "name": "stdout",
     "output_type": "stream",
     "text": [
      "Epoch 105 tr: l 0.984 a 0.674 clct[np.int64(47), np.int64(53)] clct_ans[np.int64(47), np.int64(53)] cl_acc1.000  lr 0.237210 50.370sec(train) 21.399sec(infer)\n"
     ]
    },
    {
     "name": "stdout",
     "output_type": "stream",
     "text": [
      "Epoch 105 tst: l 1.098 a 0.649 clct[np.int64(20), np.int64(20)] clct_ans[np.int64(20), np.int64(20)] cl_acc1.000  3.707sec\n"
     ]
    },
    {
     "name": "stdout",
     "output_type": "stream",
     "text": [
      "Epoch 106 tr: l 1.007 a 0.666 clct[np.int64(48), np.int64(52)] clct_ans[np.int64(48), np.int64(52)] cl_acc1.000  lr 0.237092 50.147sec(train) 21.658sec(infer)\n"
     ]
    },
    {
     "name": "stdout",
     "output_type": "stream",
     "text": [
      "Epoch 106 tst: l 1.080 a 0.652 clct[np.int64(20), np.int64(20)] clct_ans[np.int64(20), np.int64(20)] cl_acc1.000  3.726sec\n"
     ]
    },
    {
     "name": "stdout",
     "output_type": "stream",
     "text": [
      "Epoch 107 tr: l 0.986 a 0.676 clct[np.int64(44), np.int64(56)] clct_ans[np.int64(44), np.int64(56)] cl_acc1.000  lr 0.236973 50.084sec(train) 21.468sec(infer)\n"
     ]
    },
    {
     "name": "stdout",
     "output_type": "stream",
     "text": [
      "Epoch 107 tst: l 1.085 a 0.652 clct[np.int64(20), np.int64(20)] clct_ans[np.int64(20), np.int64(20)] cl_acc1.000  3.408sec\n"
     ]
    },
    {
     "name": "stdout",
     "output_type": "stream",
     "text": [
      "Epoch 108 tr: l 0.981 a 0.675 clct[np.int64(51), np.int64(49)] clct_ans[np.int64(51), np.int64(49)] cl_acc1.000  lr 0.236855 50.736sec(train) 21.514sec(infer)\n"
     ]
    },
    {
     "name": "stdout",
     "output_type": "stream",
     "text": [
      "Epoch 108 tst: l 1.098 a 0.650 clct[np.int64(20), np.int64(20)] clct_ans[np.int64(20), np.int64(20)] cl_acc1.000  3.628sec\n"
     ]
    },
    {
     "name": "stdout",
     "output_type": "stream",
     "text": [
      "Epoch 109 tr: l 0.975 a 0.674 clct[np.int64(44), np.int64(56)] clct_ans[np.int64(44), np.int64(56)] cl_acc1.000  lr 0.236736 49.780sec(train) 21.855sec(infer)\n"
     ]
    },
    {
     "name": "stdout",
     "output_type": "stream",
     "text": [
      "Epoch 109 tst: l 1.086 a 0.654 clct[np.int64(20), np.int64(20)] clct_ans[np.int64(20), np.int64(20)] cl_acc1.000  3.316sec\n"
     ]
    },
    {
     "name": "stdout",
     "output_type": "stream",
     "text": [
      "Epoch 110 tr: l 0.960 a 0.680 clct[np.int64(49), np.int64(51)] clct_ans[np.int64(49), np.int64(51)] cl_acc1.000  lr 0.236618 49.998sec(train) 21.397sec(infer)\n"
     ]
    },
    {
     "name": "stdout",
     "output_type": "stream",
     "text": [
      "Epoch 110 tst: l 1.109 a 0.651 clct[np.int64(20), np.int64(20)] clct_ans[np.int64(20), np.int64(20)] cl_acc1.000  3.479sec\n",
      "result written at output_dfca_gi/results.pickle\n",
      "checkpoint written at output_dfca_gi/checkpoint.pt\n"
     ]
    },
    {
     "name": "stdout",
     "output_type": "stream",
     "text": [
      "Epoch 111 tr: l 0.988 a 0.676 clct[np.int64(50), np.int64(50)] clct_ans[np.int64(50), np.int64(50)] cl_acc1.000  lr 0.236500 47.404sec(train) 21.489sec(infer)\n"
     ]
    },
    {
     "name": "stdout",
     "output_type": "stream",
     "text": [
      "Epoch 111 tst: l 1.077 a 0.657 clct[np.int64(20), np.int64(20)] clct_ans[np.int64(20), np.int64(20)] cl_acc1.000  3.788sec\n"
     ]
    },
    {
     "name": "stdout",
     "output_type": "stream",
     "text": [
      "Epoch 112 tr: l 0.986 a 0.675 clct[np.int64(49), np.int64(51)] clct_ans[np.int64(49), np.int64(51)] cl_acc1.000  lr 0.236381 47.193sec(train) 22.311sec(infer)\n"
     ]
    },
    {
     "name": "stdout",
     "output_type": "stream",
     "text": [
      "Epoch 112 tst: l 1.085 a 0.654 clct[np.int64(20), np.int64(20)] clct_ans[np.int64(20), np.int64(20)] cl_acc1.000  3.684sec\n"
     ]
    },
    {
     "name": "stdout",
     "output_type": "stream",
     "text": [
      "Epoch 113 tr: l 0.968 a 0.680 clct[np.int64(45), np.int64(55)] clct_ans[np.int64(45), np.int64(55)] cl_acc1.000  lr 0.236263 47.112sec(train) 21.793sec(infer)\n"
     ]
    },
    {
     "name": "stdout",
     "output_type": "stream",
     "text": [
      "Epoch 113 tst: l 1.073 a 0.655 clct[np.int64(20), np.int64(20)] clct_ans[np.int64(20), np.int64(20)] cl_acc1.000  3.508sec\n"
     ]
    },
    {
     "name": "stdout",
     "output_type": "stream",
     "text": [
      "Epoch 114 tr: l 0.998 a 0.669 clct[np.int64(47), np.int64(53)] clct_ans[np.int64(47), np.int64(53)] cl_acc1.000  lr 0.236145 46.593sec(train) 21.934sec(infer)\n"
     ]
    },
    {
     "name": "stdout",
     "output_type": "stream",
     "text": [
      "Epoch 114 tst: l 1.069 a 0.659 clct[np.int64(20), np.int64(20)] clct_ans[np.int64(20), np.int64(20)] cl_acc1.000  3.710sec\n"
     ]
    },
    {
     "name": "stdout",
     "output_type": "stream",
     "text": [
      "Epoch 115 tr: l 0.962 a 0.680 clct[np.int64(47), np.int64(53)] clct_ans[np.int64(47), np.int64(53)] cl_acc1.000  lr 0.236027 47.561sec(train) 21.960sec(infer)\n"
     ]
    },
    {
     "name": "stdout",
     "output_type": "stream",
     "text": [
      "Epoch 115 tst: l 1.070 a 0.657 clct[np.int64(20), np.int64(20)] clct_ans[np.int64(20), np.int64(20)] cl_acc1.000  3.490sec\n"
     ]
    },
    {
     "name": "stdout",
     "output_type": "stream",
     "text": [
      "Epoch 116 tr: l 0.968 a 0.678 clct[np.int64(47), np.int64(53)] clct_ans[np.int64(47), np.int64(53)] cl_acc1.000  lr 0.235909 47.973sec(train) 22.094sec(infer)\n"
     ]
    },
    {
     "name": "stdout",
     "output_type": "stream",
     "text": [
      "Epoch 116 tst: l 1.065 a 0.660 clct[np.int64(20), np.int64(20)] clct_ans[np.int64(20), np.int64(20)] cl_acc1.000  3.631sec\n"
     ]
    },
    {
     "name": "stdout",
     "output_type": "stream",
     "text": [
      "Epoch 117 tr: l 0.984 a 0.672 clct[np.int64(54), np.int64(46)] clct_ans[np.int64(54), np.int64(46)] cl_acc1.000  lr 0.235791 47.990sec(train) 22.400sec(infer)\n"
     ]
    },
    {
     "name": "stdout",
     "output_type": "stream",
     "text": [
      "Epoch 117 tst: l 1.077 a 0.659 clct[np.int64(20), np.int64(20)] clct_ans[np.int64(20), np.int64(20)] cl_acc1.000  4.010sec\n"
     ]
    },
    {
     "name": "stdout",
     "output_type": "stream",
     "text": [
      "Epoch 118 tr: l 0.973 a 0.678 clct[np.int64(52), np.int64(48)] clct_ans[np.int64(52), np.int64(48)] cl_acc1.000  lr 0.235673 47.980sec(train) 22.198sec(infer)\n"
     ]
    },
    {
     "name": "stdout",
     "output_type": "stream",
     "text": [
      "Epoch 118 tst: l 1.080 a 0.660 clct[np.int64(20), np.int64(20)] clct_ans[np.int64(20), np.int64(20)] cl_acc1.000  3.860sec\n"
     ]
    },
    {
     "name": "stdout",
     "output_type": "stream",
     "text": [
      "Epoch 119 tr: l 0.973 a 0.676 clct[np.int64(47), np.int64(53)] clct_ans[np.int64(47), np.int64(53)] cl_acc1.000  lr 0.235555 48.580sec(train) 22.068sec(infer)\n"
     ]
    },
    {
     "name": "stdout",
     "output_type": "stream",
     "text": [
      "Epoch 119 tst: l 1.070 a 0.661 clct[np.int64(20), np.int64(20)] clct_ans[np.int64(20), np.int64(20)] cl_acc1.000  3.664sec\n"
     ]
    },
    {
     "name": "stdout",
     "output_type": "stream",
     "text": [
      "Epoch 120 tr: l 0.961 a 0.683 clct[np.int64(55), np.int64(45)] clct_ans[np.int64(55), np.int64(45)] cl_acc1.000  lr 0.235438 48.205sec(train) 21.727sec(infer)\n"
     ]
    },
    {
     "name": "stdout",
     "output_type": "stream",
     "text": [
      "Epoch 120 tst: l 1.070 a 0.661 clct[np.int64(20), np.int64(20)] clct_ans[np.int64(20), np.int64(20)] cl_acc1.000  3.593sec\n",
      "result written at output_dfca_gi/results.pickle\n",
      "checkpoint written at output_dfca_gi/checkpoint.pt\n"
     ]
    },
    {
     "name": "stdout",
     "output_type": "stream",
     "text": [
      "Epoch 121 tr: l 0.962 a 0.685 clct[np.int64(53), np.int64(47)] clct_ans[np.int64(53), np.int64(47)] cl_acc1.000  lr 0.235320 46.966sec(train) 21.769sec(infer)\n"
     ]
    },
    {
     "name": "stdout",
     "output_type": "stream",
     "text": [
      "Epoch 121 tst: l 1.051 a 0.663 clct[np.int64(20), np.int64(20)] clct_ans[np.int64(20), np.int64(20)] cl_acc1.000  3.540sec\n"
     ]
    },
    {
     "name": "stdout",
     "output_type": "stream",
     "text": [
      "Epoch 122 tr: l 0.956 a 0.684 clct[np.int64(49), np.int64(51)] clct_ans[np.int64(49), np.int64(51)] cl_acc1.000  lr 0.235202 48.823sec(train) 21.645sec(infer)\n"
     ]
    },
    {
     "name": "stdout",
     "output_type": "stream",
     "text": [
      "Epoch 122 tst: l 1.054 a 0.665 clct[np.int64(20), np.int64(20)] clct_ans[np.int64(20), np.int64(20)] cl_acc1.000  3.509sec\n"
     ]
    },
    {
     "name": "stdout",
     "output_type": "stream",
     "text": [
      "Epoch 123 tr: l 0.962 a 0.683 clct[np.int64(47), np.int64(53)] clct_ans[np.int64(47), np.int64(53)] cl_acc1.000  lr 0.235085 45.431sec(train) 21.747sec(infer)\n"
     ]
    },
    {
     "name": "stdout",
     "output_type": "stream",
     "text": [
      "Epoch 123 tst: l 1.061 a 0.664 clct[np.int64(20), np.int64(20)] clct_ans[np.int64(20), np.int64(20)] cl_acc1.000  3.670sec\n"
     ]
    },
    {
     "name": "stdout",
     "output_type": "stream",
     "text": [
      "Epoch 124 tr: l 0.981 a 0.677 clct[np.int64(56), np.int64(44)] clct_ans[np.int64(56), np.int64(44)] cl_acc1.000  lr 0.234967 47.934sec(train) 21.923sec(infer)\n"
     ]
    },
    {
     "name": "stdout",
     "output_type": "stream",
     "text": [
      "Epoch 124 tst: l 1.055 a 0.662 clct[np.int64(20), np.int64(20)] clct_ans[np.int64(20), np.int64(20)] cl_acc1.000  3.566sec\n"
     ]
    },
    {
     "name": "stdout",
     "output_type": "stream",
     "text": [
      "Epoch 125 tr: l 0.949 a 0.685 clct[np.int64(48), np.int64(52)] clct_ans[np.int64(48), np.int64(52)] cl_acc1.000  lr 0.234850 48.168sec(train) 21.342sec(infer)\n"
     ]
    },
    {
     "name": "stdout",
     "output_type": "stream",
     "text": [
      "Epoch 125 tst: l 1.054 a 0.661 clct[np.int64(20), np.int64(20)] clct_ans[np.int64(20), np.int64(20)] cl_acc1.000  3.488sec\n"
     ]
    },
    {
     "name": "stdout",
     "output_type": "stream",
     "text": [
      "Epoch 126 tr: l 0.923 a 0.697 clct[np.int64(48), np.int64(52)] clct_ans[np.int64(48), np.int64(52)] cl_acc1.000  lr 0.234732 47.635sec(train) 21.676sec(infer)\n"
     ]
    },
    {
     "name": "stdout",
     "output_type": "stream",
     "text": [
      "Epoch 126 tst: l 1.044 a 0.665 clct[np.int64(20), np.int64(20)] clct_ans[np.int64(20), np.int64(20)] cl_acc1.000  3.760sec\n"
     ]
    },
    {
     "name": "stdout",
     "output_type": "stream",
     "text": [
      "Epoch 127 tr: l 0.944 a 0.687 clct[np.int64(54), np.int64(46)] clct_ans[np.int64(54), np.int64(46)] cl_acc1.000  lr 0.234615 47.799sec(train) 21.725sec(infer)\n"
     ]
    },
    {
     "name": "stdout",
     "output_type": "stream",
     "text": [
      "Epoch 127 tst: l 1.028 a 0.668 clct[np.int64(20), np.int64(20)] clct_ans[np.int64(20), np.int64(20)] cl_acc1.000  4.181sec\n"
     ]
    },
    {
     "name": "stdout",
     "output_type": "stream",
     "text": [
      "Epoch 128 tr: l 0.951 a 0.685 clct[np.int64(46), np.int64(54)] clct_ans[np.int64(46), np.int64(54)] cl_acc1.000  lr 0.234497 46.199sec(train) 22.409sec(infer)\n"
     ]
    },
    {
     "name": "stdout",
     "output_type": "stream",
     "text": [
      "Epoch 128 tst: l 1.021 a 0.670 clct[np.int64(20), np.int64(20)] clct_ans[np.int64(20), np.int64(20)] cl_acc1.000  3.497sec\n"
     ]
    },
    {
     "name": "stdout",
     "output_type": "stream",
     "text": [
      "Epoch 129 tr: l 0.929 a 0.691 clct[np.int64(52), np.int64(48)] clct_ans[np.int64(52), np.int64(48)] cl_acc1.000  lr 0.234380 47.605sec(train) 22.129sec(infer)\n"
     ]
    },
    {
     "name": "stdout",
     "output_type": "stream",
     "text": [
      "Epoch 129 tst: l 1.033 a 0.669 clct[np.int64(20), np.int64(20)] clct_ans[np.int64(20), np.int64(20)] cl_acc1.000  3.348sec\n"
     ]
    },
    {
     "name": "stdout",
     "output_type": "stream",
     "text": [
      "Epoch 130 tr: l 0.942 a 0.686 clct[np.int64(52), np.int64(48)] clct_ans[np.int64(52), np.int64(48)] cl_acc1.000  lr 0.234263 47.294sec(train) 21.294sec(infer)\n"
     ]
    },
    {
     "name": "stdout",
     "output_type": "stream",
     "text": [
      "Epoch 130 tst: l 1.022 a 0.671 clct[np.int64(20), np.int64(20)] clct_ans[np.int64(20), np.int64(20)] cl_acc1.000  3.600sec\n",
      "result written at output_dfca_gi/results.pickle\n",
      "checkpoint written at output_dfca_gi/checkpoint.pt\n"
     ]
    },
    {
     "name": "stdout",
     "output_type": "stream",
     "text": [
      "Epoch 131 tr: l 0.930 a 0.694 clct[np.int64(49), np.int64(51)] clct_ans[np.int64(49), np.int64(51)] cl_acc1.000  lr 0.234146 48.043sec(train) 21.481sec(infer)\n"
     ]
    },
    {
     "name": "stdout",
     "output_type": "stream",
     "text": [
      "Epoch 131 tst: l 1.050 a 0.667 clct[np.int64(20), np.int64(20)] clct_ans[np.int64(20), np.int64(20)] cl_acc1.000  4.359sec\n"
     ]
    },
    {
     "name": "stdout",
     "output_type": "stream",
     "text": [
      "Epoch 132 tr: l 0.941 a 0.689 clct[np.int64(48), np.int64(52)] clct_ans[np.int64(48), np.int64(52)] cl_acc1.000  lr 0.234029 47.041sec(train) 21.848sec(infer)\n"
     ]
    },
    {
     "name": "stdout",
     "output_type": "stream",
     "text": [
      "Epoch 132 tst: l 1.050 a 0.668 clct[np.int64(20), np.int64(20)] clct_ans[np.int64(20), np.int64(20)] cl_acc1.000  3.302sec\n"
     ]
    },
    {
     "name": "stdout",
     "output_type": "stream",
     "text": [
      "Epoch 133 tr: l 0.946 a 0.688 clct[np.int64(48), np.int64(52)] clct_ans[np.int64(48), np.int64(52)] cl_acc1.000  lr 0.233912 48.192sec(train) 21.925sec(infer)\n"
     ]
    },
    {
     "name": "stdout",
     "output_type": "stream",
     "text": [
      "Epoch 133 tst: l 1.043 a 0.669 clct[np.int64(20), np.int64(20)] clct_ans[np.int64(20), np.int64(20)] cl_acc1.000  3.787sec\n"
     ]
    },
    {
     "name": "stdout",
     "output_type": "stream",
     "text": [
      "Epoch 134 tr: l 0.936 a 0.691 clct[np.int64(46), np.int64(54)] clct_ans[np.int64(46), np.int64(54)] cl_acc1.000  lr 0.233795 50.871sec(train) 22.075sec(infer)\n"
     ]
    },
    {
     "name": "stdout",
     "output_type": "stream",
     "text": [
      "Epoch 134 tst: l 1.048 a 0.670 clct[np.int64(20), np.int64(20)] clct_ans[np.int64(20), np.int64(20)] cl_acc1.000  4.032sec\n"
     ]
    },
    {
     "name": "stdout",
     "output_type": "stream",
     "text": [
      "Epoch 135 tr: l 0.945 a 0.687 clct[np.int64(51), np.int64(49)] clct_ans[np.int64(51), np.int64(49)] cl_acc1.000  lr 0.233678 50.274sec(train) 22.330sec(infer)\n"
     ]
    },
    {
     "name": "stdout",
     "output_type": "stream",
     "text": [
      "Epoch 135 tst: l 1.038 a 0.671 clct[np.int64(20), np.int64(20)] clct_ans[np.int64(20), np.int64(20)] cl_acc1.000  3.854sec\n"
     ]
    },
    {
     "name": "stdout",
     "output_type": "stream",
     "text": [
      "Epoch 136 tr: l 0.905 a 0.699 clct[np.int64(45), np.int64(55)] clct_ans[np.int64(45), np.int64(55)] cl_acc1.000  lr 0.233561 49.939sec(train) 21.813sec(infer)\n"
     ]
    },
    {
     "name": "stdout",
     "output_type": "stream",
     "text": [
      "Epoch 136 tst: l 1.028 a 0.670 clct[np.int64(20), np.int64(20)] clct_ans[np.int64(20), np.int64(20)] cl_acc1.000  3.317sec\n"
     ]
    },
    {
     "name": "stdout",
     "output_type": "stream",
     "text": [
      "Epoch 137 tr: l 0.905 a 0.700 clct[np.int64(51), np.int64(49)] clct_ans[np.int64(51), np.int64(49)] cl_acc1.000  lr 0.233444 50.493sec(train) 21.767sec(infer)\n"
     ]
    },
    {
     "name": "stdout",
     "output_type": "stream",
     "text": [
      "Epoch 137 tst: l 1.023 a 0.671 clct[np.int64(20), np.int64(20)] clct_ans[np.int64(20), np.int64(20)] cl_acc1.000  3.549sec\n"
     ]
    },
    {
     "name": "stdout",
     "output_type": "stream",
     "text": [
      "Epoch 138 tr: l 0.908 a 0.701 clct[np.int64(54), np.int64(46)] clct_ans[np.int64(54), np.int64(46)] cl_acc1.000  lr 0.233328 50.637sec(train) 21.951sec(infer)\n"
     ]
    },
    {
     "name": "stdout",
     "output_type": "stream",
     "text": [
      "Epoch 138 tst: l 1.031 a 0.670 clct[np.int64(20), np.int64(20)] clct_ans[np.int64(20), np.int64(20)] cl_acc1.000  3.514sec\n"
     ]
    },
    {
     "name": "stdout",
     "output_type": "stream",
     "text": [
      "Epoch 139 tr: l 0.915 a 0.696 clct[np.int64(54), np.int64(46)] clct_ans[np.int64(54), np.int64(46)] cl_acc1.000  lr 0.233211 50.155sec(train) 21.748sec(infer)\n"
     ]
    },
    {
     "name": "stdout",
     "output_type": "stream",
     "text": [
      "Epoch 139 tst: l 1.016 a 0.673 clct[np.int64(20), np.int64(20)] clct_ans[np.int64(20), np.int64(20)] cl_acc1.000  3.600sec\n"
     ]
    },
    {
     "name": "stdout",
     "output_type": "stream",
     "text": [
      "Epoch 140 tr: l 0.930 a 0.691 clct[np.int64(49), np.int64(51)] clct_ans[np.int64(49), np.int64(51)] cl_acc1.000  lr 0.233094 49.281sec(train) 22.317sec(infer)\n"
     ]
    },
    {
     "name": "stdout",
     "output_type": "stream",
     "text": [
      "Epoch 140 tst: l 1.008 a 0.677 clct[np.int64(20), np.int64(20)] clct_ans[np.int64(20), np.int64(20)] cl_acc1.000  4.160sec\n",
      "result written at output_dfca_gi/results.pickle\n",
      "checkpoint written at output_dfca_gi/checkpoint.pt\n"
     ]
    },
    {
     "name": "stdout",
     "output_type": "stream",
     "text": [
      "Epoch 141 tr: l 0.917 a 0.698 clct[np.int64(49), np.int64(51)] clct_ans[np.int64(49), np.int64(51)] cl_acc1.000  lr 0.232978 49.235sec(train) 22.225sec(infer)\n"
     ]
    },
    {
     "name": "stdout",
     "output_type": "stream",
     "text": [
      "Epoch 141 tst: l 1.009 a 0.676 clct[np.int64(20), np.int64(20)] clct_ans[np.int64(20), np.int64(20)] cl_acc1.000  4.013sec\n"
     ]
    },
    {
     "name": "stdout",
     "output_type": "stream",
     "text": [
      "Epoch 142 tr: l 0.923 a 0.698 clct[np.int64(48), np.int64(52)] clct_ans[np.int64(48), np.int64(52)] cl_acc1.000  lr 0.232861 47.440sec(train) 22.017sec(infer)\n"
     ]
    },
    {
     "name": "stdout",
     "output_type": "stream",
     "text": [
      "Epoch 142 tst: l 1.010 a 0.676 clct[np.int64(20), np.int64(20)] clct_ans[np.int64(20), np.int64(20)] cl_acc1.000  3.521sec\n"
     ]
    },
    {
     "name": "stdout",
     "output_type": "stream",
     "text": [
      "Epoch 143 tr: l 0.925 a 0.694 clct[np.int64(52), np.int64(48)] clct_ans[np.int64(52), np.int64(48)] cl_acc1.000  lr 0.232745 45.513sec(train) 23.119sec(infer)\n"
     ]
    },
    {
     "name": "stdout",
     "output_type": "stream",
     "text": [
      "Epoch 143 tst: l 1.014 a 0.677 clct[np.int64(20), np.int64(20)] clct_ans[np.int64(20), np.int64(20)] cl_acc1.000  3.609sec\n"
     ]
    },
    {
     "name": "stdout",
     "output_type": "stream",
     "text": [
      "Epoch 144 tr: l 0.896 a 0.702 clct[np.int64(48), np.int64(52)] clct_ans[np.int64(48), np.int64(52)] cl_acc1.000  lr 0.232629 48.453sec(train) 22.503sec(infer)\n"
     ]
    },
    {
     "name": "stdout",
     "output_type": "stream",
     "text": [
      "Epoch 144 tst: l 1.013 a 0.677 clct[np.int64(20), np.int64(20)] clct_ans[np.int64(20), np.int64(20)] cl_acc1.000  3.435sec\n"
     ]
    },
    {
     "name": "stdout",
     "output_type": "stream",
     "text": [
      "Epoch 145 tr: l 0.928 a 0.693 clct[np.int64(58), np.int64(42)] clct_ans[np.int64(58), np.int64(42)] cl_acc1.000  lr 0.232512 47.573sec(train) 22.431sec(infer)\n"
     ]
    },
    {
     "name": "stdout",
     "output_type": "stream",
     "text": [
      "Epoch 145 tst: l 0.996 a 0.679 clct[np.int64(20), np.int64(20)] clct_ans[np.int64(20), np.int64(20)] cl_acc1.000  3.634sec\n"
     ]
    },
    {
     "name": "stdout",
     "output_type": "stream",
     "text": [
      "Epoch 146 tr: l 0.925 a 0.695 clct[np.int64(54), np.int64(46)] clct_ans[np.int64(54), np.int64(46)] cl_acc1.000  lr 0.232396 47.552sec(train) 22.959sec(infer)\n"
     ]
    },
    {
     "name": "stdout",
     "output_type": "stream",
     "text": [
      "Epoch 146 tst: l 1.000 a 0.679 clct[np.int64(20), np.int64(20)] clct_ans[np.int64(20), np.int64(20)] cl_acc1.000  3.724sec\n"
     ]
    },
    {
     "name": "stdout",
     "output_type": "stream",
     "text": [
      "Epoch 147 tr: l 0.922 a 0.697 clct[np.int64(56), np.int64(44)] clct_ans[np.int64(56), np.int64(44)] cl_acc1.000  lr 0.232280 47.062sec(train) 22.302sec(infer)\n"
     ]
    },
    {
     "name": "stdout",
     "output_type": "stream",
     "text": [
      "Epoch 147 tst: l 1.015 a 0.678 clct[np.int64(20), np.int64(20)] clct_ans[np.int64(20), np.int64(20)] cl_acc1.000  3.494sec\n"
     ]
    },
    {
     "name": "stdout",
     "output_type": "stream",
     "text": [
      "Epoch 148 tr: l 0.884 a 0.710 clct[np.int64(50), np.int64(50)] clct_ans[np.int64(50), np.int64(50)] cl_acc1.000  lr 0.232164 46.196sec(train) 22.121sec(infer)\n"
     ]
    },
    {
     "name": "stdout",
     "output_type": "stream",
     "text": [
      "Epoch 148 tst: l 1.012 a 0.677 clct[np.int64(20), np.int64(20)] clct_ans[np.int64(20), np.int64(20)] cl_acc1.000  3.637sec\n"
     ]
    },
    {
     "name": "stdout",
     "output_type": "stream",
     "text": [
      "Epoch 149 tr: l 0.892 a 0.706 clct[np.int64(54), np.int64(46)] clct_ans[np.int64(54), np.int64(46)] cl_acc1.000  lr 0.232048 47.173sec(train) 22.662sec(infer)\n"
     ]
    },
    {
     "name": "stdout",
     "output_type": "stream",
     "text": [
      "Epoch 149 tst: l 0.999 a 0.679 clct[np.int64(20), np.int64(20)] clct_ans[np.int64(20), np.int64(20)] cl_acc1.000  3.459sec\n"
     ]
    },
    {
     "name": "stdout",
     "output_type": "stream",
     "text": [
      "Epoch 150 tr: l 0.926 a 0.694 clct[np.int64(60), np.int64(40)] clct_ans[np.int64(60), np.int64(40)] cl_acc1.000  lr 0.231932 47.100sec(train) 22.188sec(infer)\n"
     ]
    },
    {
     "name": "stdout",
     "output_type": "stream",
     "text": [
      "Epoch 150 tst: l 0.996 a 0.680 clct[np.int64(20), np.int64(20)] clct_ans[np.int64(20), np.int64(20)] cl_acc1.000  3.437sec\n",
      "result written at output_dfca_gi/results.pickle\n",
      "checkpoint written at output_dfca_gi/checkpoint.pt\n"
     ]
    },
    {
     "name": "stdout",
     "output_type": "stream",
     "text": [
      "Epoch 151 tr: l 0.908 a 0.700 clct[np.int64(49), np.int64(51)] clct_ans[np.int64(49), np.int64(51)] cl_acc1.000  lr 0.231816 49.229sec(train) 22.595sec(infer)\n"
     ]
    },
    {
     "name": "stdout",
     "output_type": "stream",
     "text": [
      "Epoch 151 tst: l 1.012 a 0.678 clct[np.int64(20), np.int64(20)] clct_ans[np.int64(20), np.int64(20)] cl_acc1.000  3.557sec\n"
     ]
    },
    {
     "name": "stdout",
     "output_type": "stream",
     "text": [
      "Epoch 152 tr: l 0.887 a 0.708 clct[np.int64(49), np.int64(51)] clct_ans[np.int64(49), np.int64(51)] cl_acc1.000  lr 0.231700 50.112sec(train) 22.471sec(infer)\n"
     ]
    },
    {
     "name": "stdout",
     "output_type": "stream",
     "text": [
      "Epoch 152 tst: l 1.029 a 0.676 clct[np.int64(20), np.int64(20)] clct_ans[np.int64(20), np.int64(20)] cl_acc1.000  3.411sec\n"
     ]
    },
    {
     "name": "stdout",
     "output_type": "stream",
     "text": [
      "Epoch 153 tr: l 0.896 a 0.705 clct[np.int64(49), np.int64(51)] clct_ans[np.int64(49), np.int64(51)] cl_acc1.000  lr 0.231584 50.105sec(train) 22.638sec(infer)\n"
     ]
    },
    {
     "name": "stdout",
     "output_type": "stream",
     "text": [
      "Epoch 153 tst: l 1.019 a 0.680 clct[np.int64(20), np.int64(20)] clct_ans[np.int64(20), np.int64(20)] cl_acc1.000  3.542sec\n"
     ]
    },
    {
     "name": "stdout",
     "output_type": "stream",
     "text": [
      "Epoch 154 tr: l 0.892 a 0.705 clct[np.int64(49), np.int64(51)] clct_ans[np.int64(49), np.int64(51)] cl_acc1.000  lr 0.231468 50.722sec(train) 23.361sec(infer)\n"
     ]
    },
    {
     "name": "stdout",
     "output_type": "stream",
     "text": [
      "Epoch 154 tst: l 1.040 a 0.676 clct[np.int64(20), np.int64(20)] clct_ans[np.int64(20), np.int64(20)] cl_acc1.000  3.508sec\n"
     ]
    },
    {
     "name": "stdout",
     "output_type": "stream",
     "text": [
      "Epoch 155 tr: l 0.871 a 0.711 clct[np.int64(54), np.int64(46)] clct_ans[np.int64(54), np.int64(46)] cl_acc1.000  lr 0.231352 51.190sec(train) 22.113sec(infer)\n"
     ]
    },
    {
     "name": "stdout",
     "output_type": "stream",
     "text": [
      "Epoch 155 tst: l 1.015 a 0.679 clct[np.int64(20), np.int64(20)] clct_ans[np.int64(20), np.int64(20)] cl_acc1.000  3.624sec\n"
     ]
    },
    {
     "name": "stdout",
     "output_type": "stream",
     "text": [
      "Epoch 156 tr: l 0.893 a 0.706 clct[np.int64(53), np.int64(47)] clct_ans[np.int64(53), np.int64(47)] cl_acc1.000  lr 0.231237 50.140sec(train) 22.114sec(infer)\n"
     ]
    },
    {
     "name": "stdout",
     "output_type": "stream",
     "text": [
      "Epoch 156 tst: l 1.010 a 0.678 clct[np.int64(20), np.int64(20)] clct_ans[np.int64(20), np.int64(20)] cl_acc1.000  3.609sec\n"
     ]
    },
    {
     "name": "stdout",
     "output_type": "stream",
     "text": [
      "Epoch 157 tr: l 0.884 a 0.710 clct[np.int64(49), np.int64(51)] clct_ans[np.int64(49), np.int64(51)] cl_acc1.000  lr 0.231121 50.534sec(train) 22.003sec(infer)\n"
     ]
    },
    {
     "name": "stdout",
     "output_type": "stream",
     "text": [
      "Epoch 157 tst: l 1.016 a 0.680 clct[np.int64(20), np.int64(20)] clct_ans[np.int64(20), np.int64(20)] cl_acc1.000  3.530sec\n"
     ]
    },
    {
     "name": "stdout",
     "output_type": "stream",
     "text": [
      "Epoch 158 tr: l 0.881 a 0.709 clct[np.int64(48), np.int64(52)] clct_ans[np.int64(48), np.int64(52)] cl_acc1.000  lr 0.231005 51.240sec(train) 21.788sec(infer)\n"
     ]
    },
    {
     "name": "stdout",
     "output_type": "stream",
     "text": [
      "Epoch 158 tst: l 1.013 a 0.678 clct[np.int64(20), np.int64(20)] clct_ans[np.int64(20), np.int64(20)] cl_acc1.000  3.717sec\n"
     ]
    },
    {
     "name": "stdout",
     "output_type": "stream",
     "text": [
      "Epoch 159 tr: l 0.875 a 0.710 clct[np.int64(49), np.int64(51)] clct_ans[np.int64(49), np.int64(51)] cl_acc1.000  lr 0.230890 49.993sec(train) 21.977sec(infer)\n"
     ]
    },
    {
     "name": "stdout",
     "output_type": "stream",
     "text": [
      "Epoch 159 tst: l 1.018 a 0.678 clct[np.int64(20), np.int64(20)] clct_ans[np.int64(20), np.int64(20)] cl_acc1.000  3.707sec\n"
     ]
    },
    {
     "name": "stdout",
     "output_type": "stream",
     "text": [
      "Epoch 160 tr: l 0.895 a 0.704 clct[np.int64(53), np.int64(47)] clct_ans[np.int64(53), np.int64(47)] cl_acc1.000  lr 0.230774 49.292sec(train) 21.823sec(infer)\n"
     ]
    },
    {
     "name": "stdout",
     "output_type": "stream",
     "text": [
      "Epoch 160 tst: l 1.011 a 0.679 clct[np.int64(20), np.int64(20)] clct_ans[np.int64(20), np.int64(20)] cl_acc1.000  3.597sec\n",
      "result written at output_dfca_gi/results.pickle\n",
      "checkpoint written at output_dfca_gi/checkpoint.pt\n"
     ]
    },
    {
     "name": "stdout",
     "output_type": "stream",
     "text": [
      "Epoch 161 tr: l 0.873 a 0.711 clct[np.int64(54), np.int64(46)] clct_ans[np.int64(54), np.int64(46)] cl_acc1.000  lr 0.230659 50.314sec(train) 21.783sec(infer)\n"
     ]
    },
    {
     "name": "stdout",
     "output_type": "stream",
     "text": [
      "Epoch 161 tst: l 1.025 a 0.678 clct[np.int64(20), np.int64(20)] clct_ans[np.int64(20), np.int64(20)] cl_acc1.000  3.823sec\n"
     ]
    },
    {
     "name": "stdout",
     "output_type": "stream",
     "text": [
      "Epoch 162 tr: l 0.887 a 0.711 clct[np.int64(52), np.int64(48)] clct_ans[np.int64(52), np.int64(48)] cl_acc1.000  lr 0.230544 51.815sec(train) 21.765sec(infer)\n"
     ]
    },
    {
     "name": "stdout",
     "output_type": "stream",
     "text": [
      "Epoch 162 tst: l 1.014 a 0.681 clct[np.int64(20), np.int64(20)] clct_ans[np.int64(20), np.int64(20)] cl_acc1.000  3.511sec\n"
     ]
    },
    {
     "name": "stdout",
     "output_type": "stream",
     "text": [
      "Epoch 163 tr: l 0.867 a 0.713 clct[np.int64(56), np.int64(44)] clct_ans[np.int64(56), np.int64(44)] cl_acc1.000  lr 0.230428 48.797sec(train) 21.710sec(infer)\n"
     ]
    },
    {
     "name": "stdout",
     "output_type": "stream",
     "text": [
      "Epoch 163 tst: l 0.989 a 0.682 clct[np.int64(20), np.int64(20)] clct_ans[np.int64(20), np.int64(20)] cl_acc1.000  3.352sec\n"
     ]
    },
    {
     "name": "stdout",
     "output_type": "stream",
     "text": [
      "Epoch 164 tr: l 0.870 a 0.715 clct[np.int64(50), np.int64(50)] clct_ans[np.int64(50), np.int64(50)] cl_acc1.000  lr 0.230313 50.485sec(train) 21.464sec(infer)\n"
     ]
    },
    {
     "name": "stdout",
     "output_type": "stream",
     "text": [
      "Epoch 164 tst: l 1.006 a 0.686 clct[np.int64(20), np.int64(20)] clct_ans[np.int64(20), np.int64(20)] cl_acc1.000  3.540sec\n"
     ]
    },
    {
     "name": "stdout",
     "output_type": "stream",
     "text": [
      "Epoch 165 tr: l 0.882 a 0.709 clct[np.int64(54), np.int64(46)] clct_ans[np.int64(54), np.int64(46)] cl_acc1.000  lr 0.230198 50.388sec(train) 21.951sec(infer)\n"
     ]
    },
    {
     "name": "stdout",
     "output_type": "stream",
     "text": [
      "Epoch 165 tst: l 0.987 a 0.689 clct[np.int64(20), np.int64(20)] clct_ans[np.int64(20), np.int64(20)] cl_acc1.000  3.322sec\n"
     ]
    },
    {
     "name": "stdout",
     "output_type": "stream",
     "text": [
      "Epoch 166 tr: l 0.864 a 0.711 clct[np.int64(53), np.int64(47)] clct_ans[np.int64(53), np.int64(47)] cl_acc1.000  lr 0.230083 50.497sec(train) 21.639sec(infer)\n"
     ]
    },
    {
     "name": "stdout",
     "output_type": "stream",
     "text": [
      "Epoch 166 tst: l 0.985 a 0.689 clct[np.int64(20), np.int64(20)] clct_ans[np.int64(20), np.int64(20)] cl_acc1.000  3.442sec\n"
     ]
    },
    {
     "name": "stdout",
     "output_type": "stream",
     "text": [
      "Epoch 167 tr: l 0.861 a 0.715 clct[np.int64(51), np.int64(49)] clct_ans[np.int64(51), np.int64(49)] cl_acc1.000  lr 0.229968 48.837sec(train) 21.880sec(infer)\n"
     ]
    },
    {
     "name": "stdout",
     "output_type": "stream",
     "text": [
      "Epoch 167 tst: l 0.986 a 0.689 clct[np.int64(20), np.int64(20)] clct_ans[np.int64(20), np.int64(20)] cl_acc1.000  4.340sec\n"
     ]
    },
    {
     "name": "stdout",
     "output_type": "stream",
     "text": [
      "Epoch 168 tr: l 0.862 a 0.715 clct[np.int64(48), np.int64(52)] clct_ans[np.int64(48), np.int64(52)] cl_acc1.000  lr 0.229853 48.830sec(train) 21.893sec(infer)\n"
     ]
    },
    {
     "name": "stdout",
     "output_type": "stream",
     "text": [
      "Epoch 168 tst: l 1.002 a 0.684 clct[np.int64(20), np.int64(20)] clct_ans[np.int64(20), np.int64(20)] cl_acc1.000  3.401sec\n"
     ]
    },
    {
     "name": "stdout",
     "output_type": "stream",
     "text": [
      "Epoch 169 tr: l 0.880 a 0.711 clct[np.int64(53), np.int64(47)] clct_ans[np.int64(53), np.int64(47)] cl_acc1.000  lr 0.229738 49.762sec(train) 21.573sec(infer)\n"
     ]
    },
    {
     "name": "stdout",
     "output_type": "stream",
     "text": [
      "Epoch 169 tst: l 0.994 a 0.685 clct[np.int64(20), np.int64(20)] clct_ans[np.int64(20), np.int64(20)] cl_acc1.000  3.571sec\n"
     ]
    },
    {
     "name": "stdout",
     "output_type": "stream",
     "text": [
      "Epoch 170 tr: l 0.879 a 0.709 clct[np.int64(52), np.int64(48)] clct_ans[np.int64(52), np.int64(48)] cl_acc1.000  lr 0.229623 49.659sec(train) 21.688sec(infer)\n"
     ]
    },
    {
     "name": "stdout",
     "output_type": "stream",
     "text": [
      "Epoch 170 tst: l 0.978 a 0.688 clct[np.int64(20), np.int64(20)] clct_ans[np.int64(20), np.int64(20)] cl_acc1.000  3.363sec\n",
      "result written at output_dfca_gi/results.pickle\n",
      "checkpoint written at output_dfca_gi/checkpoint.pt\n"
     ]
    },
    {
     "name": "stdout",
     "output_type": "stream",
     "text": [
      "Epoch 171 tr: l 0.866 a 0.711 clct[np.int64(53), np.int64(47)] clct_ans[np.int64(53), np.int64(47)] cl_acc1.000  lr 0.229508 49.011sec(train) 22.002sec(infer)\n"
     ]
    },
    {
     "name": "stdout",
     "output_type": "stream",
     "text": [
      "Epoch 171 tst: l 0.968 a 0.690 clct[np.int64(20), np.int64(20)] clct_ans[np.int64(20), np.int64(20)] cl_acc1.000  3.535sec\n"
     ]
    },
    {
     "name": "stdout",
     "output_type": "stream",
     "text": [
      "Epoch 172 tr: l 0.855 a 0.718 clct[np.int64(43), np.int64(57)] clct_ans[np.int64(43), np.int64(57)] cl_acc1.000  lr 0.229394 48.620sec(train) 21.668sec(infer)\n"
     ]
    },
    {
     "name": "stdout",
     "output_type": "stream",
     "text": [
      "Epoch 172 tst: l 0.985 a 0.687 clct[np.int64(20), np.int64(20)] clct_ans[np.int64(20), np.int64(20)] cl_acc1.000  3.691sec\n"
     ]
    },
    {
     "name": "stdout",
     "output_type": "stream",
     "text": [
      "Epoch 173 tr: l 0.867 a 0.714 clct[np.int64(53), np.int64(47)] clct_ans[np.int64(53), np.int64(47)] cl_acc1.000  lr 0.229279 48.477sec(train) 21.816sec(infer)\n"
     ]
    },
    {
     "name": "stdout",
     "output_type": "stream",
     "text": [
      "Epoch 173 tst: l 0.998 a 0.685 clct[np.int64(20), np.int64(20)] clct_ans[np.int64(20), np.int64(20)] cl_acc1.000  3.408sec\n"
     ]
    },
    {
     "name": "stdout",
     "output_type": "stream",
     "text": [
      "Epoch 174 tr: l 0.870 a 0.712 clct[np.int64(54), np.int64(46)] clct_ans[np.int64(54), np.int64(46)] cl_acc1.000  lr 0.229164 49.013sec(train) 21.554sec(infer)\n"
     ]
    },
    {
     "name": "stdout",
     "output_type": "stream",
     "text": [
      "Epoch 174 tst: l 0.994 a 0.688 clct[np.int64(20), np.int64(20)] clct_ans[np.int64(20), np.int64(20)] cl_acc1.000  3.420sec\n"
     ]
    },
    {
     "name": "stdout",
     "output_type": "stream",
     "text": [
      "Epoch 175 tr: l 0.856 a 0.718 clct[np.int64(48), np.int64(52)] clct_ans[np.int64(48), np.int64(52)] cl_acc1.000  lr 0.229050 48.632sec(train) 21.761sec(infer)\n"
     ]
    },
    {
     "name": "stdout",
     "output_type": "stream",
     "text": [
      "Epoch 175 tst: l 0.979 a 0.688 clct[np.int64(20), np.int64(20)] clct_ans[np.int64(20), np.int64(20)] cl_acc1.000  3.331sec\n"
     ]
    },
    {
     "name": "stdout",
     "output_type": "stream",
     "text": [
      "Epoch 176 tr: l 0.849 a 0.720 clct[np.int64(51), np.int64(49)] clct_ans[np.int64(51), np.int64(49)] cl_acc1.000  lr 0.228935 49.254sec(train) 21.492sec(infer)\n"
     ]
    },
    {
     "name": "stdout",
     "output_type": "stream",
     "text": [
      "Epoch 176 tst: l 0.983 a 0.687 clct[np.int64(20), np.int64(20)] clct_ans[np.int64(20), np.int64(20)] cl_acc1.000  3.360sec\n"
     ]
    },
    {
     "name": "stdout",
     "output_type": "stream",
     "text": [
      "Epoch 177 tr: l 0.873 a 0.711 clct[np.int64(51), np.int64(49)] clct_ans[np.int64(51), np.int64(49)] cl_acc1.000  lr 0.228821 45.858sec(train) 21.464sec(infer)\n"
     ]
    },
    {
     "name": "stdout",
     "output_type": "stream",
     "text": [
      "Epoch 177 tst: l 0.991 a 0.686 clct[np.int64(20), np.int64(20)] clct_ans[np.int64(20), np.int64(20)] cl_acc1.000  3.514sec\n"
     ]
    },
    {
     "name": "stdout",
     "output_type": "stream",
     "text": [
      "Epoch 178 tr: l 0.859 a 0.715 clct[np.int64(53), np.int64(47)] clct_ans[np.int64(53), np.int64(47)] cl_acc1.000  lr 0.228706 47.681sec(train) 21.789sec(infer)\n"
     ]
    },
    {
     "name": "stdout",
     "output_type": "stream",
     "text": [
      "Epoch 178 tst: l 0.972 a 0.690 clct[np.int64(20), np.int64(20)] clct_ans[np.int64(20), np.int64(20)] cl_acc1.000  3.309sec\n"
     ]
    },
    {
     "name": "stdout",
     "output_type": "stream",
     "text": [
      "Epoch 179 tr: l 0.864 a 0.713 clct[np.int64(51), np.int64(49)] clct_ans[np.int64(51), np.int64(49)] cl_acc1.000  lr 0.228592 47.481sec(train) 21.385sec(infer)\n"
     ]
    },
    {
     "name": "stdout",
     "output_type": "stream",
     "text": [
      "Epoch 179 tst: l 0.968 a 0.691 clct[np.int64(20), np.int64(20)] clct_ans[np.int64(20), np.int64(20)] cl_acc1.000  3.410sec\n"
     ]
    },
    {
     "name": "stdout",
     "output_type": "stream",
     "text": [
      "Epoch 180 tr: l 0.882 a 0.705 clct[np.int64(54), np.int64(46)] clct_ans[np.int64(54), np.int64(46)] cl_acc1.000  lr 0.228478 49.913sec(train) 21.841sec(infer)\n"
     ]
    },
    {
     "name": "stdout",
     "output_type": "stream",
     "text": [
      "Epoch 180 tst: l 0.965 a 0.694 clct[np.int64(20), np.int64(20)] clct_ans[np.int64(20), np.int64(20)] cl_acc1.000  3.540sec\n",
      "result written at output_dfca_gi/results.pickle\n",
      "checkpoint written at output_dfca_gi/checkpoint.pt\n"
     ]
    },
    {
     "name": "stdout",
     "output_type": "stream",
     "text": [
      "Epoch 181 tr: l 0.850 a 0.723 clct[np.int64(50), np.int64(50)] clct_ans[np.int64(50), np.int64(50)] cl_acc1.000  lr 0.228363 48.886sec(train) 21.427sec(infer)\n"
     ]
    },
    {
     "name": "stdout",
     "output_type": "stream",
     "text": [
      "Epoch 181 tst: l 0.973 a 0.692 clct[np.int64(20), np.int64(20)] clct_ans[np.int64(20), np.int64(20)] cl_acc1.000  3.434sec\n"
     ]
    },
    {
     "name": "stdout",
     "output_type": "stream",
     "text": [
      "Epoch 182 tr: l 0.860 a 0.717 clct[np.int64(52), np.int64(48)] clct_ans[np.int64(52), np.int64(48)] cl_acc1.000  lr 0.228249 49.284sec(train) 21.637sec(infer)\n"
     ]
    },
    {
     "name": "stdout",
     "output_type": "stream",
     "text": [
      "Epoch 182 tst: l 0.982 a 0.692 clct[np.int64(20), np.int64(20)] clct_ans[np.int64(20), np.int64(20)] cl_acc1.000  3.466sec\n"
     ]
    },
    {
     "name": "stdout",
     "output_type": "stream",
     "text": [
      "Epoch 183 tr: l 0.849 a 0.721 clct[np.int64(49), np.int64(51)] clct_ans[np.int64(49), np.int64(51)] cl_acc1.000  lr 0.228135 50.032sec(train) 21.818sec(infer)\n"
     ]
    },
    {
     "name": "stdout",
     "output_type": "stream",
     "text": [
      "Epoch 183 tst: l 0.970 a 0.693 clct[np.int64(20), np.int64(20)] clct_ans[np.int64(20), np.int64(20)] cl_acc1.000  3.420sec\n"
     ]
    },
    {
     "name": "stdout",
     "output_type": "stream",
     "text": [
      "Epoch 184 tr: l 0.854 a 0.717 clct[np.int64(56), np.int64(44)] clct_ans[np.int64(56), np.int64(44)] cl_acc1.000  lr 0.228021 47.779sec(train) 21.480sec(infer)\n"
     ]
    },
    {
     "name": "stdout",
     "output_type": "stream",
     "text": [
      "Epoch 184 tst: l 0.958 a 0.694 clct[np.int64(20), np.int64(20)] clct_ans[np.int64(20), np.int64(20)] cl_acc1.000  3.491sec\n"
     ]
    },
    {
     "name": "stdout",
     "output_type": "stream",
     "text": [
      "Epoch 185 tr: l 0.855 a 0.720 clct[np.int64(56), np.int64(44)] clct_ans[np.int64(56), np.int64(44)] cl_acc1.000  lr 0.227907 49.384sec(train) 21.897sec(infer)\n"
     ]
    },
    {
     "name": "stdout",
     "output_type": "stream",
     "text": [
      "Epoch 185 tst: l 0.957 a 0.694 clct[np.int64(20), np.int64(20)] clct_ans[np.int64(20), np.int64(20)] cl_acc1.000  3.445sec\n"
     ]
    },
    {
     "name": "stdout",
     "output_type": "stream",
     "text": [
      "Epoch 186 tr: l 0.856 a 0.720 clct[np.int64(47), np.int64(53)] clct_ans[np.int64(47), np.int64(53)] cl_acc1.000  lr 0.227793 50.367sec(train) 21.559sec(infer)\n"
     ]
    },
    {
     "name": "stdout",
     "output_type": "stream",
     "text": [
      "Epoch 186 tst: l 0.966 a 0.694 clct[np.int64(20), np.int64(20)] clct_ans[np.int64(20), np.int64(20)] cl_acc1.000  3.466sec\n"
     ]
    },
    {
     "name": "stdout",
     "output_type": "stream",
     "text": [
      "Epoch 187 tr: l 0.841 a 0.726 clct[np.int64(51), np.int64(49)] clct_ans[np.int64(51), np.int64(49)] cl_acc1.000  lr 0.227679 50.148sec(train) 21.899sec(infer)\n"
     ]
    },
    {
     "name": "stdout",
     "output_type": "stream",
     "text": [
      "Epoch 187 tst: l 0.975 a 0.693 clct[np.int64(20), np.int64(20)] clct_ans[np.int64(20), np.int64(20)] cl_acc1.000  3.507sec\n"
     ]
    },
    {
     "name": "stdout",
     "output_type": "stream",
     "text": [
      "Epoch 188 tr: l 0.829 a 0.724 clct[np.int64(50), np.int64(50)] clct_ans[np.int64(50), np.int64(50)] cl_acc1.000  lr 0.227565 50.063sec(train) 21.827sec(infer)\n"
     ]
    },
    {
     "name": "stdout",
     "output_type": "stream",
     "text": [
      "Epoch 188 tst: l 0.972 a 0.692 clct[np.int64(20), np.int64(20)] clct_ans[np.int64(20), np.int64(20)] cl_acc1.000  3.447sec\n"
     ]
    },
    {
     "name": "stdout",
     "output_type": "stream",
     "text": [
      "Epoch 189 tr: l 0.843 a 0.723 clct[np.int64(50), np.int64(50)] clct_ans[np.int64(50), np.int64(50)] cl_acc1.000  lr 0.227452 50.103sec(train) 21.697sec(infer)\n"
     ]
    },
    {
     "name": "stdout",
     "output_type": "stream",
     "text": [
      "Epoch 189 tst: l 0.975 a 0.692 clct[np.int64(20), np.int64(20)] clct_ans[np.int64(20), np.int64(20)] cl_acc1.000  3.428sec\n"
     ]
    },
    {
     "name": "stdout",
     "output_type": "stream",
     "text": [
      "Epoch 190 tr: l 0.847 a 0.722 clct[np.int64(44), np.int64(56)] clct_ans[np.int64(44), np.int64(56)] cl_acc1.000  lr 0.227338 50.585sec(train) 21.807sec(infer)\n"
     ]
    },
    {
     "name": "stdout",
     "output_type": "stream",
     "text": [
      "Epoch 190 tst: l 0.969 a 0.696 clct[np.int64(20), np.int64(20)] clct_ans[np.int64(20), np.int64(20)] cl_acc1.000  3.379sec\n",
      "result written at output_dfca_gi/results.pickle\n",
      "checkpoint written at output_dfca_gi/checkpoint.pt\n"
     ]
    },
    {
     "name": "stdout",
     "output_type": "stream",
     "text": [
      "Epoch 191 tr: l 0.833 a 0.725 clct[np.int64(48), np.int64(52)] clct_ans[np.int64(48), np.int64(52)] cl_acc1.000  lr 0.227224 50.303sec(train) 21.545sec(infer)\n"
     ]
    },
    {
     "name": "stdout",
     "output_type": "stream",
     "text": [
      "Epoch 191 tst: l 0.978 a 0.693 clct[np.int64(20), np.int64(20)] clct_ans[np.int64(20), np.int64(20)] cl_acc1.000  3.403sec\n"
     ]
    },
    {
     "name": "stdout",
     "output_type": "stream",
     "text": [
      "Epoch 192 tr: l 0.826 a 0.729 clct[np.int64(53), np.int64(47)] clct_ans[np.int64(53), np.int64(47)] cl_acc1.000  lr 0.227111 50.355sec(train) 21.406sec(infer)\n"
     ]
    },
    {
     "name": "stdout",
     "output_type": "stream",
     "text": [
      "Epoch 192 tst: l 0.964 a 0.697 clct[np.int64(20), np.int64(20)] clct_ans[np.int64(20), np.int64(20)] cl_acc1.000  3.564sec\n"
     ]
    },
    {
     "name": "stdout",
     "output_type": "stream",
     "text": [
      "Epoch 193 tr: l 0.841 a 0.723 clct[np.int64(55), np.int64(45)] clct_ans[np.int64(55), np.int64(45)] cl_acc1.000  lr 0.226997 49.192sec(train) 21.499sec(infer)\n"
     ]
    },
    {
     "name": "stdout",
     "output_type": "stream",
     "text": [
      "Epoch 193 tst: l 0.963 a 0.698 clct[np.int64(20), np.int64(20)] clct_ans[np.int64(20), np.int64(20)] cl_acc1.000  3.326sec\n"
     ]
    },
    {
     "name": "stdout",
     "output_type": "stream",
     "text": [
      "Epoch 194 tr: l 0.843 a 0.721 clct[np.int64(50), np.int64(50)] clct_ans[np.int64(50), np.int64(50)] cl_acc1.000  lr 0.226883 50.931sec(train) 21.343sec(infer)\n"
     ]
    },
    {
     "name": "stdout",
     "output_type": "stream",
     "text": [
      "Epoch 194 tst: l 0.962 a 0.696 clct[np.int64(20), np.int64(20)] clct_ans[np.int64(20), np.int64(20)] cl_acc1.000  3.397sec\n"
     ]
    },
    {
     "name": "stdout",
     "output_type": "stream",
     "text": [
      "Epoch 195 tr: l 0.819 a 0.729 clct[np.int64(52), np.int64(48)] clct_ans[np.int64(52), np.int64(48)] cl_acc1.000  lr 0.226770 50.363sec(train) 21.613sec(infer)\n"
     ]
    },
    {
     "name": "stdout",
     "output_type": "stream",
     "text": [
      "Epoch 195 tst: l 0.951 a 0.698 clct[np.int64(20), np.int64(20)] clct_ans[np.int64(20), np.int64(20)] cl_acc1.000  3.371sec\n"
     ]
    },
    {
     "name": "stdout",
     "output_type": "stream",
     "text": [
      "Epoch 196 tr: l 0.820 a 0.730 clct[np.int64(54), np.int64(46)] clct_ans[np.int64(54), np.int64(46)] cl_acc1.000  lr 0.226657 49.442sec(train) 21.378sec(infer)\n"
     ]
    },
    {
     "name": "stdout",
     "output_type": "stream",
     "text": [
      "Epoch 196 tst: l 0.955 a 0.698 clct[np.int64(20), np.int64(20)] clct_ans[np.int64(20), np.int64(20)] cl_acc1.000  3.391sec\n"
     ]
    },
    {
     "name": "stdout",
     "output_type": "stream",
     "text": [
      "Epoch 197 tr: l 0.830 a 0.726 clct[np.int64(53), np.int64(47)] clct_ans[np.int64(53), np.int64(47)] cl_acc1.000  lr 0.226543 50.372sec(train) 21.349sec(infer)\n"
     ]
    },
    {
     "name": "stdout",
     "output_type": "stream",
     "text": [
      "Epoch 197 tst: l 0.965 a 0.697 clct[np.int64(20), np.int64(20)] clct_ans[np.int64(20), np.int64(20)] cl_acc1.000  3.406sec\n"
     ]
    },
    {
     "name": "stdout",
     "output_type": "stream",
     "text": [
      "Epoch 198 tr: l 0.824 a 0.726 clct[np.int64(56), np.int64(44)] clct_ans[np.int64(56), np.int64(44)] cl_acc1.000  lr 0.226430 51.227sec(train) 21.279sec(infer)\n"
     ]
    },
    {
     "name": "stdout",
     "output_type": "stream",
     "text": [
      "Epoch 198 tst: l 0.951 a 0.699 clct[np.int64(20), np.int64(20)] clct_ans[np.int64(20), np.int64(20)] cl_acc1.000  3.288sec\n"
     ]
    },
    {
     "name": "stdout",
     "output_type": "stream",
     "text": [
      "Epoch 199 tr: l 0.830 a 0.724 clct[np.int64(51), np.int64(49)] clct_ans[np.int64(51), np.int64(49)] cl_acc1.000  lr 0.226317 51.195sec(train) 21.370sec(infer)\n"
     ]
    },
    {
     "name": "stdout",
     "output_type": "stream",
     "text": [
      "Epoch 199 tst: l 0.949 a 0.701 clct[np.int64(20), np.int64(20)] clct_ans[np.int64(20), np.int64(20)] cl_acc1.000  3.416sec\n"
     ]
    },
    {
     "name": "stdout",
     "output_type": "stream",
     "text": [
      "Epoch 200 tr: l 0.840 a 0.725 clct[np.int64(54), np.int64(46)] clct_ans[np.int64(54), np.int64(46)] cl_acc1.000  lr 0.226204 50.341sec(train) 21.500sec(infer)\n"
     ]
    },
    {
     "name": "stdout",
     "output_type": "stream",
     "text": [
      "Epoch 200 tst: l 0.946 a 0.702 clct[np.int64(20), np.int64(20)] clct_ans[np.int64(20), np.int64(20)] cl_acc1.000  3.343sec\n",
      "result written at output_dfca_gi/results.pickle\n",
      "checkpoint written at output_dfca_gi/checkpoint.pt\n"
     ]
    },
    {
     "name": "stdout",
     "output_type": "stream",
     "text": [
      "Epoch 201 tr: l 0.831 a 0.726 clct[np.int64(52), np.int64(48)] clct_ans[np.int64(52), np.int64(48)] cl_acc1.000  lr 0.226091 50.347sec(train) 21.245sec(infer)\n"
     ]
    },
    {
     "name": "stdout",
     "output_type": "stream",
     "text": [
      "Epoch 201 tst: l 0.958 a 0.698 clct[np.int64(20), np.int64(20)] clct_ans[np.int64(20), np.int64(20)] cl_acc1.000  3.507sec\n"
     ]
    },
    {
     "name": "stdout",
     "output_type": "stream",
     "text": [
      "Epoch 202 tr: l 0.808 a 0.733 clct[np.int64(46), np.int64(54)] clct_ans[np.int64(46), np.int64(54)] cl_acc1.000  lr 0.225978 50.024sec(train) 21.374sec(infer)\n"
     ]
    },
    {
     "name": "stdout",
     "output_type": "stream",
     "text": [
      "Epoch 202 tst: l 0.960 a 0.698 clct[np.int64(20), np.int64(20)] clct_ans[np.int64(20), np.int64(20)] cl_acc1.000  3.772sec\n"
     ]
    },
    {
     "name": "stdout",
     "output_type": "stream",
     "text": [
      "Epoch 203 tr: l 0.818 a 0.728 clct[np.int64(48), np.int64(52)] clct_ans[np.int64(48), np.int64(52)] cl_acc1.000  lr 0.225865 50.147sec(train) 21.388sec(infer)\n"
     ]
    },
    {
     "name": "stdout",
     "output_type": "stream",
     "text": [
      "Epoch 203 tst: l 0.945 a 0.701 clct[np.int64(20), np.int64(20)] clct_ans[np.int64(20), np.int64(20)] cl_acc1.000  3.357sec\n"
     ]
    },
    {
     "name": "stdout",
     "output_type": "stream",
     "text": [
      "Epoch 204 tr: l 0.817 a 0.728 clct[np.int64(49), np.int64(51)] clct_ans[np.int64(49), np.int64(51)] cl_acc1.000  lr 0.225752 49.448sec(train) 21.234sec(infer)\n"
     ]
    },
    {
     "name": "stdout",
     "output_type": "stream",
     "text": [
      "Epoch 204 tst: l 0.941 a 0.704 clct[np.int64(20), np.int64(20)] clct_ans[np.int64(20), np.int64(20)] cl_acc1.000  3.482sec\n"
     ]
    },
    {
     "name": "stdout",
     "output_type": "stream",
     "text": [
      "Epoch 205 tr: l 0.817 a 0.731 clct[np.int64(51), np.int64(49)] clct_ans[np.int64(51), np.int64(49)] cl_acc1.000  lr 0.225639 50.105sec(train) 21.643sec(infer)\n"
     ]
    },
    {
     "name": "stdout",
     "output_type": "stream",
     "text": [
      "Epoch 205 tst: l 0.945 a 0.703 clct[np.int64(20), np.int64(20)] clct_ans[np.int64(20), np.int64(20)] cl_acc1.000  3.395sec\n"
     ]
    },
    {
     "name": "stdout",
     "output_type": "stream",
     "text": [
      "Epoch 206 tr: l 0.813 a 0.731 clct[np.int64(54), np.int64(46)] clct_ans[np.int64(54), np.int64(46)] cl_acc1.000  lr 0.225526 49.915sec(train) 21.224sec(infer)\n"
     ]
    },
    {
     "name": "stdout",
     "output_type": "stream",
     "text": [
      "Epoch 206 tst: l 0.953 a 0.703 clct[np.int64(20), np.int64(20)] clct_ans[np.int64(20), np.int64(20)] cl_acc1.000  3.449sec\n"
     ]
    },
    {
     "name": "stdout",
     "output_type": "stream",
     "text": [
      "Epoch 207 tr: l 0.825 a 0.728 clct[np.int64(51), np.int64(49)] clct_ans[np.int64(51), np.int64(49)] cl_acc1.000  lr 0.225413 50.082sec(train) 21.487sec(infer)\n"
     ]
    },
    {
     "name": "stdout",
     "output_type": "stream",
     "text": [
      "Epoch 207 tst: l 0.941 a 0.704 clct[np.int64(20), np.int64(20)] clct_ans[np.int64(20), np.int64(20)] cl_acc1.000  3.676sec\n"
     ]
    },
    {
     "name": "stdout",
     "output_type": "stream",
     "text": [
      "Epoch 208 tr: l 0.817 a 0.731 clct[np.int64(57), np.int64(43)] clct_ans[np.int64(57), np.int64(43)] cl_acc1.000  lr 0.225300 50.139sec(train) 21.636sec(infer)\n"
     ]
    },
    {
     "name": "stdout",
     "output_type": "stream",
     "text": [
      "Epoch 208 tst: l 0.945 a 0.704 clct[np.int64(20), np.int64(20)] clct_ans[np.int64(20), np.int64(20)] cl_acc1.000  3.341sec\n"
     ]
    },
    {
     "name": "stdout",
     "output_type": "stream",
     "text": [
      "Epoch 209 tr: l 0.809 a 0.732 clct[np.int64(47), np.int64(53)] clct_ans[np.int64(47), np.int64(53)] cl_acc1.000  lr 0.225188 49.299sec(train) 21.963sec(infer)\n"
     ]
    },
    {
     "name": "stdout",
     "output_type": "stream",
     "text": [
      "Epoch 209 tst: l 0.946 a 0.703 clct[np.int64(20), np.int64(20)] clct_ans[np.int64(20), np.int64(20)] cl_acc1.000  3.641sec\n"
     ]
    },
    {
     "name": "stdout",
     "output_type": "stream",
     "text": [
      "Epoch 210 tr: l 0.807 a 0.733 clct[np.int64(44), np.int64(56)] clct_ans[np.int64(44), np.int64(56)] cl_acc1.000  lr 0.225075 50.106sec(train) 21.830sec(infer)\n"
     ]
    },
    {
     "name": "stdout",
     "output_type": "stream",
     "text": [
      "Epoch 210 tst: l 0.962 a 0.701 clct[np.int64(20), np.int64(20)] clct_ans[np.int64(20), np.int64(20)] cl_acc1.000  3.666sec\n",
      "result written at output_dfca_gi/results.pickle\n",
      "checkpoint written at output_dfca_gi/checkpoint.pt\n"
     ]
    },
    {
     "name": "stdout",
     "output_type": "stream",
     "text": [
      "Epoch 211 tr: l 0.806 a 0.735 clct[np.int64(50), np.int64(50)] clct_ans[np.int64(50), np.int64(50)] cl_acc1.000  lr 0.224963 51.001sec(train) 22.348sec(infer)\n"
     ]
    },
    {
     "name": "stdout",
     "output_type": "stream",
     "text": [
      "Epoch 211 tst: l 0.946 a 0.703 clct[np.int64(20), np.int64(20)] clct_ans[np.int64(20), np.int64(20)] cl_acc1.000  3.717sec\n"
     ]
    },
    {
     "name": "stdout",
     "output_type": "stream",
     "text": [
      "Epoch 212 tr: l 0.811 a 0.734 clct[np.int64(49), np.int64(51)] clct_ans[np.int64(49), np.int64(51)] cl_acc1.000  lr 0.224850 51.018sec(train) 23.244sec(infer)\n"
     ]
    },
    {
     "name": "stdout",
     "output_type": "stream",
     "text": [
      "Epoch 212 tst: l 0.959 a 0.702 clct[np.int64(20), np.int64(20)] clct_ans[np.int64(20), np.int64(20)] cl_acc1.000  3.941sec\n"
     ]
    },
    {
     "name": "stdout",
     "output_type": "stream",
     "text": [
      "Epoch 213 tr: l 0.819 a 0.731 clct[np.int64(46), np.int64(54)] clct_ans[np.int64(46), np.int64(54)] cl_acc1.000  lr 0.224738 50.390sec(train) 22.626sec(infer)\n"
     ]
    },
    {
     "name": "stdout",
     "output_type": "stream",
     "text": [
      "Epoch 213 tst: l 0.954 a 0.702 clct[np.int64(20), np.int64(20)] clct_ans[np.int64(20), np.int64(20)] cl_acc1.000  3.981sec\n"
     ]
    },
    {
     "name": "stdout",
     "output_type": "stream",
     "text": [
      "Epoch 214 tr: l 0.794 a 0.738 clct[np.int64(49), np.int64(51)] clct_ans[np.int64(49), np.int64(51)] cl_acc1.000  lr 0.224625 51.490sec(train) 22.433sec(infer)\n"
     ]
    },
    {
     "name": "stdout",
     "output_type": "stream",
     "text": [
      "Epoch 214 tst: l 0.975 a 0.699 clct[np.int64(20), np.int64(20)] clct_ans[np.int64(20), np.int64(20)] cl_acc1.000  3.743sec\n"
     ]
    },
    {
     "name": "stdout",
     "output_type": "stream",
     "text": [
      "Epoch 215 tr: l 0.801 a 0.736 clct[np.int64(48), np.int64(52)] clct_ans[np.int64(48), np.int64(52)] cl_acc1.000  lr 0.224513 50.524sec(train) 23.382sec(infer)\n"
     ]
    },
    {
     "name": "stdout",
     "output_type": "stream",
     "text": [
      "Epoch 215 tst: l 0.946 a 0.703 clct[np.int64(20), np.int64(20)] clct_ans[np.int64(20), np.int64(20)] cl_acc1.000  3.767sec\n"
     ]
    },
    {
     "name": "stdout",
     "output_type": "stream",
     "text": [
      "Epoch 216 tr: l 0.812 a 0.732 clct[np.int64(53), np.int64(47)] clct_ans[np.int64(53), np.int64(47)] cl_acc1.000  lr 0.224401 48.544sec(train) 22.204sec(infer)\n"
     ]
    },
    {
     "name": "stdout",
     "output_type": "stream",
     "text": [
      "Epoch 216 tst: l 0.936 a 0.704 clct[np.int64(20), np.int64(20)] clct_ans[np.int64(20), np.int64(20)] cl_acc1.000  3.666sec\n"
     ]
    },
    {
     "name": "stdout",
     "output_type": "stream",
     "text": [
      "Epoch 217 tr: l 0.806 a 0.732 clct[np.int64(45), np.int64(55)] clct_ans[np.int64(45), np.int64(55)] cl_acc1.000  lr 0.224289 51.417sec(train) 22.600sec(infer)\n"
     ]
    },
    {
     "name": "stdout",
     "output_type": "stream",
     "text": [
      "Epoch 217 tst: l 0.937 a 0.705 clct[np.int64(20), np.int64(20)] clct_ans[np.int64(20), np.int64(20)] cl_acc1.000  3.789sec\n"
     ]
    },
    {
     "name": "stdout",
     "output_type": "stream",
     "text": [
      "Epoch 218 tr: l 0.791 a 0.738 clct[np.int64(54), np.int64(46)] clct_ans[np.int64(54), np.int64(46)] cl_acc1.000  lr 0.224176 50.143sec(train) 23.007sec(infer)\n"
     ]
    },
    {
     "name": "stdout",
     "output_type": "stream",
     "text": [
      "Epoch 218 tst: l 0.936 a 0.704 clct[np.int64(20), np.int64(20)] clct_ans[np.int64(20), np.int64(20)] cl_acc1.000  4.034sec\n"
     ]
    },
    {
     "name": "stdout",
     "output_type": "stream",
     "text": [
      "Epoch 219 tr: l 0.781 a 0.741 clct[np.int64(49), np.int64(51)] clct_ans[np.int64(49), np.int64(51)] cl_acc1.000  lr 0.224064 48.373sec(train) 22.461sec(infer)\n"
     ]
    },
    {
     "name": "stdout",
     "output_type": "stream",
     "text": [
      "Epoch 219 tst: l 0.934 a 0.703 clct[np.int64(20), np.int64(20)] clct_ans[np.int64(20), np.int64(20)] cl_acc1.000  3.726sec\n"
     ]
    },
    {
     "name": "stdout",
     "output_type": "stream",
     "text": [
      "Epoch 220 tr: l 0.809 a 0.732 clct[np.int64(51), np.int64(49)] clct_ans[np.int64(51), np.int64(49)] cl_acc1.000  lr 0.223952 49.236sec(train) 23.140sec(infer)\n"
     ]
    },
    {
     "name": "stdout",
     "output_type": "stream",
     "text": [
      "Epoch 220 tst: l 0.940 a 0.704 clct[np.int64(20), np.int64(20)] clct_ans[np.int64(20), np.int64(20)] cl_acc1.000  3.753sec\n",
      "result written at output_dfca_gi/results.pickle\n",
      "checkpoint written at output_dfca_gi/checkpoint.pt\n"
     ]
    },
    {
     "name": "stdout",
     "output_type": "stream",
     "text": [
      "Epoch 221 tr: l 0.810 a 0.734 clct[np.int64(51), np.int64(49)] clct_ans[np.int64(51), np.int64(49)] cl_acc1.000  lr 0.223840 48.886sec(train) 22.153sec(infer)\n"
     ]
    },
    {
     "name": "stdout",
     "output_type": "stream",
     "text": [
      "Epoch 221 tst: l 0.939 a 0.704 clct[np.int64(20), np.int64(20)] clct_ans[np.int64(20), np.int64(20)] cl_acc1.000  3.841sec\n"
     ]
    },
    {
     "name": "stdout",
     "output_type": "stream",
     "text": [
      "Epoch 222 tr: l 0.788 a 0.740 clct[np.int64(45), np.int64(55)] clct_ans[np.int64(45), np.int64(55)] cl_acc1.000  lr 0.223728 51.812sec(train) 22.265sec(infer)\n"
     ]
    },
    {
     "name": "stdout",
     "output_type": "stream",
     "text": [
      "Epoch 222 tst: l 0.940 a 0.705 clct[np.int64(20), np.int64(20)] clct_ans[np.int64(20), np.int64(20)] cl_acc1.000  3.684sec\n"
     ]
    },
    {
     "name": "stdout",
     "output_type": "stream",
     "text": [
      "Epoch 223 tr: l 0.804 a 0.735 clct[np.int64(45), np.int64(55)] clct_ans[np.int64(45), np.int64(55)] cl_acc1.000  lr 0.223617 49.454sec(train) 22.954sec(infer)\n"
     ]
    },
    {
     "name": "stdout",
     "output_type": "stream",
     "text": [
      "Epoch 223 tst: l 0.934 a 0.706 clct[np.int64(20), np.int64(20)] clct_ans[np.int64(20), np.int64(20)] cl_acc1.000  4.206sec\n"
     ]
    },
    {
     "name": "stdout",
     "output_type": "stream",
     "text": [
      "Epoch 224 tr: l 0.799 a 0.737 clct[np.int64(51), np.int64(49)] clct_ans[np.int64(51), np.int64(49)] cl_acc1.000  lr 0.223505 48.809sec(train) 22.520sec(infer)\n"
     ]
    },
    {
     "name": "stdout",
     "output_type": "stream",
     "text": [
      "Epoch 224 tst: l 0.928 a 0.707 clct[np.int64(20), np.int64(20)] clct_ans[np.int64(20), np.int64(20)] cl_acc1.000  3.757sec\n"
     ]
    },
    {
     "name": "stdout",
     "output_type": "stream",
     "text": [
      "Epoch 225 tr: l 0.785 a 0.740 clct[np.int64(55), np.int64(45)] clct_ans[np.int64(55), np.int64(45)] cl_acc1.000  lr 0.223393 50.736sec(train) 22.717sec(infer)\n"
     ]
    },
    {
     "name": "stdout",
     "output_type": "stream",
     "text": [
      "Epoch 225 tst: l 0.927 a 0.708 clct[np.int64(20), np.int64(20)] clct_ans[np.int64(20), np.int64(20)] cl_acc1.000  3.689sec\n"
     ]
    },
    {
     "name": "stdout",
     "output_type": "stream",
     "text": [
      "Epoch 226 tr: l 0.778 a 0.742 clct[np.int64(51), np.int64(49)] clct_ans[np.int64(51), np.int64(49)] cl_acc1.000  lr 0.223281 49.087sec(train) 22.536sec(infer)\n"
     ]
    },
    {
     "name": "stdout",
     "output_type": "stream",
     "text": [
      "Epoch 226 tst: l 0.922 a 0.708 clct[np.int64(20), np.int64(20)] clct_ans[np.int64(20), np.int64(20)] cl_acc1.000  3.973sec\n"
     ]
    },
    {
     "name": "stdout",
     "output_type": "stream",
     "text": [
      "Epoch 227 tr: l 0.817 a 0.730 clct[np.int64(49), np.int64(51)] clct_ans[np.int64(49), np.int64(51)] cl_acc1.000  lr 0.223170 51.667sec(train) 22.432sec(infer)\n"
     ]
    },
    {
     "name": "stdout",
     "output_type": "stream",
     "text": [
      "Epoch 227 tst: l 0.933 a 0.705 clct[np.int64(20), np.int64(20)] clct_ans[np.int64(20), np.int64(20)] cl_acc1.000  3.782sec\n"
     ]
    },
    {
     "name": "stdout",
     "output_type": "stream",
     "text": [
      "Epoch 228 tr: l 0.800 a 0.735 clct[np.int64(47), np.int64(53)] clct_ans[np.int64(47), np.int64(53)] cl_acc1.000  lr 0.223058 49.867sec(train) 23.100sec(infer)\n"
     ]
    },
    {
     "name": "stdout",
     "output_type": "stream",
     "text": [
      "Epoch 228 tst: l 0.941 a 0.703 clct[np.int64(20), np.int64(20)] clct_ans[np.int64(20), np.int64(20)] cl_acc1.000  3.656sec\n"
     ]
    },
    {
     "name": "stdout",
     "output_type": "stream",
     "text": [
      "Epoch 229 tr: l 0.787 a 0.741 clct[np.int64(49), np.int64(51)] clct_ans[np.int64(49), np.int64(51)] cl_acc1.000  lr 0.222947 49.149sec(train) 22.525sec(infer)\n"
     ]
    },
    {
     "name": "stdout",
     "output_type": "stream",
     "text": [
      "Epoch 229 tst: l 0.950 a 0.704 clct[np.int64(20), np.int64(20)] clct_ans[np.int64(20), np.int64(20)] cl_acc1.000  3.670sec\n"
     ]
    },
    {
     "name": "stdout",
     "output_type": "stream",
     "text": [
      "Epoch 230 tr: l 0.786 a 0.740 clct[np.int64(44), np.int64(56)] clct_ans[np.int64(44), np.int64(56)] cl_acc1.000  lr 0.222835 51.470sec(train) 22.128sec(infer)\n"
     ]
    },
    {
     "name": "stdout",
     "output_type": "stream",
     "text": [
      "Epoch 230 tst: l 0.937 a 0.707 clct[np.int64(20), np.int64(20)] clct_ans[np.int64(20), np.int64(20)] cl_acc1.000  3.732sec\n",
      "result written at output_dfca_gi/results.pickle\n",
      "checkpoint written at output_dfca_gi/checkpoint.pt\n"
     ]
    },
    {
     "name": "stdout",
     "output_type": "stream",
     "text": [
      "Epoch 231 tr: l 0.786 a 0.740 clct[np.int64(56), np.int64(44)] clct_ans[np.int64(56), np.int64(44)] cl_acc1.000  lr 0.222724 49.305sec(train) 22.598sec(infer)\n"
     ]
    },
    {
     "name": "stdout",
     "output_type": "stream",
     "text": [
      "Epoch 231 tst: l 0.927 a 0.709 clct[np.int64(20), np.int64(20)] clct_ans[np.int64(20), np.int64(20)] cl_acc1.000  4.001sec\n"
     ]
    },
    {
     "name": "stdout",
     "output_type": "stream",
     "text": [
      "Epoch 232 tr: l 0.781 a 0.742 clct[np.int64(48), np.int64(52)] clct_ans[np.int64(48), np.int64(52)] cl_acc1.000  lr 0.222612 50.798sec(train) 22.319sec(infer)\n"
     ]
    },
    {
     "name": "stdout",
     "output_type": "stream",
     "text": [
      "Epoch 232 tst: l 0.928 a 0.709 clct[np.int64(20), np.int64(20)] clct_ans[np.int64(20), np.int64(20)] cl_acc1.000  3.731sec\n"
     ]
    },
    {
     "name": "stdout",
     "output_type": "stream",
     "text": [
      "Epoch 233 tr: l 0.782 a 0.740 clct[np.int64(48), np.int64(52)] clct_ans[np.int64(48), np.int64(52)] cl_acc1.000  lr 0.222501 50.151sec(train) 22.812sec(infer)\n"
     ]
    },
    {
     "name": "stdout",
     "output_type": "stream",
     "text": [
      "Epoch 233 tst: l 0.918 a 0.711 clct[np.int64(20), np.int64(20)] clct_ans[np.int64(20), np.int64(20)] cl_acc1.000  3.674sec\n"
     ]
    },
    {
     "name": "stdout",
     "output_type": "stream",
     "text": [
      "Epoch 234 tr: l 0.793 a 0.738 clct[np.int64(53), np.int64(47)] clct_ans[np.int64(53), np.int64(47)] cl_acc1.000  lr 0.222390 49.985sec(train) 22.314sec(infer)\n"
     ]
    },
    {
     "name": "stdout",
     "output_type": "stream",
     "text": [
      "Epoch 234 tst: l 0.929 a 0.707 clct[np.int64(20), np.int64(20)] clct_ans[np.int64(20), np.int64(20)] cl_acc1.000  3.909sec\n"
     ]
    },
    {
     "name": "stdout",
     "output_type": "stream",
     "text": [
      "Epoch 235 tr: l 0.796 a 0.735 clct[np.int64(52), np.int64(48)] clct_ans[np.int64(52), np.int64(48)] cl_acc1.000  lr 0.222279 51.951sec(train) 22.179sec(infer)\n"
     ]
    },
    {
     "name": "stdout",
     "output_type": "stream",
     "text": [
      "Epoch 235 tst: l 0.927 a 0.708 clct[np.int64(20), np.int64(20)] clct_ans[np.int64(20), np.int64(20)] cl_acc1.000  3.622sec\n"
     ]
    },
    {
     "name": "stdout",
     "output_type": "stream",
     "text": [
      "Epoch 236 tr: l 0.786 a 0.741 clct[np.int64(51), np.int64(49)] clct_ans[np.int64(51), np.int64(49)] cl_acc1.000  lr 0.222167 49.657sec(train) 23.007sec(infer)\n"
     ]
    },
    {
     "name": "stdout",
     "output_type": "stream",
     "text": [
      "Epoch 236 tst: l 0.922 a 0.710 clct[np.int64(20), np.int64(20)] clct_ans[np.int64(20), np.int64(20)] cl_acc1.000  4.531sec\n"
     ]
    },
    {
     "name": "stdout",
     "output_type": "stream",
     "text": [
      "Epoch 237 tr: l 0.800 a 0.738 clct[np.int64(52), np.int64(48)] clct_ans[np.int64(52), np.int64(48)] cl_acc1.000  lr 0.222056 49.172sec(train) 22.207sec(infer)\n"
     ]
    },
    {
     "name": "stdout",
     "output_type": "stream",
     "text": [
      "Epoch 237 tst: l 0.933 a 0.709 clct[np.int64(20), np.int64(20)] clct_ans[np.int64(20), np.int64(20)] cl_acc1.000  3.803sec\n"
     ]
    },
    {
     "name": "stdout",
     "output_type": "stream",
     "text": [
      "Epoch 238 tr: l 0.772 a 0.744 clct[np.int64(46), np.int64(54)] clct_ans[np.int64(46), np.int64(54)] cl_acc1.000  lr 0.221945 51.839sec(train) 22.145sec(infer)\n"
     ]
    },
    {
     "name": "stdout",
     "output_type": "stream",
     "text": [
      "Epoch 238 tst: l 0.929 a 0.709 clct[np.int64(20), np.int64(20)] clct_ans[np.int64(20), np.int64(20)] cl_acc1.000  3.671sec\n"
     ]
    },
    {
     "name": "stdout",
     "output_type": "stream",
     "text": [
      "Epoch 239 tr: l 0.758 a 0.751 clct[np.int64(45), np.int64(55)] clct_ans[np.int64(45), np.int64(55)] cl_acc1.000  lr 0.221834 50.489sec(train) 22.733sec(infer)\n"
     ]
    },
    {
     "name": "stdout",
     "output_type": "stream",
     "text": [
      "Epoch 239 tst: l 0.923 a 0.710 clct[np.int64(20), np.int64(20)] clct_ans[np.int64(20), np.int64(20)] cl_acc1.000  3.975sec\n"
     ]
    },
    {
     "name": "stdout",
     "output_type": "stream",
     "text": [
      "Epoch 240 tr: l 0.777 a 0.743 clct[np.int64(51), np.int64(49)] clct_ans[np.int64(51), np.int64(49)] cl_acc1.000  lr 0.221723 51.004sec(train) 22.031sec(infer)\n"
     ]
    },
    {
     "name": "stdout",
     "output_type": "stream",
     "text": [
      "Epoch 240 tst: l 0.922 a 0.710 clct[np.int64(20), np.int64(20)] clct_ans[np.int64(20), np.int64(20)] cl_acc1.000  3.757sec\n",
      "result written at output_dfca_gi/results.pickle\n",
      "checkpoint written at output_dfca_gi/checkpoint.pt\n"
     ]
    },
    {
     "name": "stdout",
     "output_type": "stream",
     "text": [
      "Epoch 241 tr: l 0.776 a 0.744 clct[np.int64(51), np.int64(49)] clct_ans[np.int64(51), np.int64(49)] cl_acc1.000  lr 0.221613 50.823sec(train) 22.952sec(infer)\n"
     ]
    },
    {
     "name": "stdout",
     "output_type": "stream",
     "text": [
      "Epoch 241 tst: l 0.925 a 0.710 clct[np.int64(20), np.int64(20)] clct_ans[np.int64(20), np.int64(20)] cl_acc1.000  3.614sec\n"
     ]
    },
    {
     "name": "stdout",
     "output_type": "stream",
     "text": [
      "Epoch 242 tr: l 0.773 a 0.745 clct[np.int64(56), np.int64(44)] clct_ans[np.int64(56), np.int64(44)] cl_acc1.000  lr 0.221502 49.505sec(train) 22.481sec(infer)\n"
     ]
    },
    {
     "name": "stdout",
     "output_type": "stream",
     "text": [
      "Epoch 242 tst: l 0.921 a 0.712 clct[np.int64(20), np.int64(20)] clct_ans[np.int64(20), np.int64(20)] cl_acc1.000  4.133sec\n"
     ]
    },
    {
     "name": "stdout",
     "output_type": "stream",
     "text": [
      "Epoch 243 tr: l 0.770 a 0.744 clct[np.int64(45), np.int64(55)] clct_ans[np.int64(45), np.int64(55)] cl_acc1.000  lr 0.221391 52.001sec(train) 22.046sec(infer)\n"
     ]
    },
    {
     "name": "stdout",
     "output_type": "stream",
     "text": [
      "Epoch 243 tst: l 0.915 a 0.714 clct[np.int64(20), np.int64(20)] clct_ans[np.int64(20), np.int64(20)] cl_acc1.000  3.809sec\n"
     ]
    },
    {
     "name": "stdout",
     "output_type": "stream",
     "text": [
      "Epoch 244 tr: l 0.781 a 0.742 clct[np.int64(48), np.int64(52)] clct_ans[np.int64(48), np.int64(52)] cl_acc1.000  lr 0.221280 51.921sec(train) 23.237sec(infer)\n"
     ]
    },
    {
     "name": "stdout",
     "output_type": "stream",
     "text": [
      "Epoch 244 tst: l 0.923 a 0.712 clct[np.int64(20), np.int64(20)] clct_ans[np.int64(20), np.int64(20)] cl_acc1.000  3.762sec\n"
     ]
    },
    {
     "name": "stdout",
     "output_type": "stream",
     "text": [
      "Epoch 245 tr: l 0.783 a 0.740 clct[np.int64(54), np.int64(46)] clct_ans[np.int64(54), np.int64(46)] cl_acc1.000  lr 0.221170 50.402sec(train) 22.249sec(infer)\n"
     ]
    },
    {
     "name": "stdout",
     "output_type": "stream",
     "text": [
      "Epoch 245 tst: l 0.920 a 0.713 clct[np.int64(20), np.int64(20)] clct_ans[np.int64(20), np.int64(20)] cl_acc1.000  3.856sec\n"
     ]
    },
    {
     "name": "stdout",
     "output_type": "stream",
     "text": [
      "Epoch 246 tr: l 0.758 a 0.750 clct[np.int64(51), np.int64(49)] clct_ans[np.int64(51), np.int64(49)] cl_acc1.000  lr 0.221059 53.581sec(train) 22.088sec(infer)\n"
     ]
    },
    {
     "name": "stdout",
     "output_type": "stream",
     "text": [
      "Epoch 246 tst: l 0.916 a 0.712 clct[np.int64(20), np.int64(20)] clct_ans[np.int64(20), np.int64(20)] cl_acc1.000  3.866sec\n"
     ]
    },
    {
     "name": "stdout",
     "output_type": "stream",
     "text": [
      "Epoch 247 tr: l 0.759 a 0.750 clct[np.int64(56), np.int64(44)] clct_ans[np.int64(56), np.int64(44)] cl_acc1.000  lr 0.220949 48.250sec(train) 22.977sec(infer)\n"
     ]
    },
    {
     "name": "stdout",
     "output_type": "stream",
     "text": [
      "Epoch 247 tst: l 0.923 a 0.713 clct[np.int64(20), np.int64(20)] clct_ans[np.int64(20), np.int64(20)] cl_acc1.000  4.458sec\n"
     ]
    },
    {
     "name": "stdout",
     "output_type": "stream",
     "text": [
      "Epoch 248 tr: l 0.783 a 0.742 clct[np.int64(51), np.int64(49)] clct_ans[np.int64(51), np.int64(49)] cl_acc1.000  lr 0.220838 49.495sec(train) 22.086sec(infer)\n"
     ]
    },
    {
     "name": "stdout",
     "output_type": "stream",
     "text": [
      "Epoch 248 tst: l 0.906 a 0.717 clct[np.int64(20), np.int64(20)] clct_ans[np.int64(20), np.int64(20)] cl_acc1.000  3.761sec\n"
     ]
    },
    {
     "name": "stdout",
     "output_type": "stream",
     "text": [
      "Epoch 249 tr: l 0.787 a 0.742 clct[np.int64(56), np.int64(44)] clct_ans[np.int64(56), np.int64(44)] cl_acc1.000  lr 0.220728 52.763sec(train) 22.393sec(infer)\n"
     ]
    },
    {
     "name": "stdout",
     "output_type": "stream",
     "text": [
      "Epoch 249 tst: l 0.912 a 0.717 clct[np.int64(20), np.int64(20)] clct_ans[np.int64(20), np.int64(20)] cl_acc1.000  3.860sec\n"
     ]
    },
    {
     "name": "stdout",
     "output_type": "stream",
     "text": [
      "Epoch 250 tr: l 0.775 a 0.743 clct[np.int64(52), np.int64(48)] clct_ans[np.int64(52), np.int64(48)] cl_acc1.000  lr 0.220617 47.743sec(train) 22.595sec(infer)\n"
     ]
    },
    {
     "name": "stdout",
     "output_type": "stream",
     "text": [
      "Epoch 250 tst: l 0.914 a 0.716 clct[np.int64(20), np.int64(20)] clct_ans[np.int64(20), np.int64(20)] cl_acc1.000  4.220sec\n",
      "result written at output_dfca_gi/results.pickle\n",
      "checkpoint written at output_dfca_gi/checkpoint.pt\n"
     ]
    },
    {
     "name": "stdout",
     "output_type": "stream",
     "text": [
      "Epoch 251 tr: l 0.763 a 0.749 clct[np.int64(58), np.int64(42)] clct_ans[np.int64(58), np.int64(42)] cl_acc1.000  lr 0.220507 52.267sec(train) 22.199sec(infer)\n"
     ]
    },
    {
     "name": "stdout",
     "output_type": "stream",
     "text": [
      "Epoch 251 tst: l 0.908 a 0.716 clct[np.int64(20), np.int64(20)] clct_ans[np.int64(20), np.int64(20)] cl_acc1.000  3.773sec\n"
     ]
    },
    {
     "name": "stdout",
     "output_type": "stream",
     "text": [
      "Epoch 252 tr: l 0.778 a 0.744 clct[np.int64(46), np.int64(54)] clct_ans[np.int64(46), np.int64(54)] cl_acc1.000  lr 0.220397 50.788sec(train) 22.929sec(infer)\n"
     ]
    },
    {
     "name": "stdout",
     "output_type": "stream",
     "text": [
      "Epoch 252 tst: l 0.905 a 0.717 clct[np.int64(20), np.int64(20)] clct_ans[np.int64(20), np.int64(20)] cl_acc1.000  3.855sec\n"
     ]
    },
    {
     "name": "stdout",
     "output_type": "stream",
     "text": [
      "Epoch 253 tr: l 0.779 a 0.744 clct[np.int64(55), np.int64(45)] clct_ans[np.int64(55), np.int64(45)] cl_acc1.000  lr 0.220287 48.888sec(train) 22.282sec(infer)\n"
     ]
    },
    {
     "name": "stdout",
     "output_type": "stream",
     "text": [
      "Epoch 253 tst: l 0.909 a 0.715 clct[np.int64(20), np.int64(20)] clct_ans[np.int64(20), np.int64(20)] cl_acc1.000  4.233sec\n"
     ]
    },
    {
     "name": "stdout",
     "output_type": "stream",
     "text": [
      "Epoch 254 tr: l 0.767 a 0.749 clct[np.int64(50), np.int64(50)] clct_ans[np.int64(50), np.int64(50)] cl_acc1.000  lr 0.220176 53.429sec(train) 22.207sec(infer)\n"
     ]
    },
    {
     "name": "stdout",
     "output_type": "stream",
     "text": [
      "Epoch 254 tst: l 0.924 a 0.714 clct[np.int64(20), np.int64(20)] clct_ans[np.int64(20), np.int64(20)] cl_acc1.000  3.731sec\n"
     ]
    },
    {
     "name": "stdout",
     "output_type": "stream",
     "text": [
      "Epoch 255 tr: l 0.755 a 0.750 clct[np.int64(48), np.int64(52)] clct_ans[np.int64(48), np.int64(52)] cl_acc1.000  lr 0.220066 48.041sec(train) 23.531sec(infer)\n"
     ]
    },
    {
     "name": "stdout",
     "output_type": "stream",
     "text": [
      "Epoch 255 tst: l 0.927 a 0.713 clct[np.int64(20), np.int64(20)] clct_ans[np.int64(20), np.int64(20)] cl_acc1.000  3.889sec\n"
     ]
    },
    {
     "name": "stdout",
     "output_type": "stream",
     "text": [
      "Epoch 256 tr: l 0.748 a 0.754 clct[np.int64(46), np.int64(54)] clct_ans[np.int64(46), np.int64(54)] cl_acc1.000  lr 0.219956 47.438sec(train) 22.159sec(infer)\n"
     ]
    },
    {
     "name": "stdout",
     "output_type": "stream",
     "text": [
      "Epoch 256 tst: l 0.933 a 0.713 clct[np.int64(20), np.int64(20)] clct_ans[np.int64(20), np.int64(20)] cl_acc1.000  3.893sec\n"
     ]
    },
    {
     "name": "stdout",
     "output_type": "stream",
     "text": [
      "Epoch 257 tr: l 0.754 a 0.750 clct[np.int64(49), np.int64(51)] clct_ans[np.int64(49), np.int64(51)] cl_acc1.000  lr 0.219846 50.903sec(train) 22.145sec(infer)\n"
     ]
    },
    {
     "name": "stdout",
     "output_type": "stream",
     "text": [
      "Epoch 257 tst: l 0.921 a 0.714 clct[np.int64(20), np.int64(20)] clct_ans[np.int64(20), np.int64(20)] cl_acc1.000  3.831sec\n"
     ]
    },
    {
     "name": "stdout",
     "output_type": "stream",
     "text": [
      "Epoch 258 tr: l 0.749 a 0.752 clct[np.int64(51), np.int64(49)] clct_ans[np.int64(51), np.int64(49)] cl_acc1.000  lr 0.219736 48.512sec(train) 22.739sec(infer)\n"
     ]
    },
    {
     "name": "stdout",
     "output_type": "stream",
     "text": [
      "Epoch 258 tst: l 0.922 a 0.713 clct[np.int64(20), np.int64(20)] clct_ans[np.int64(20), np.int64(20)] cl_acc1.000  4.176sec\n"
     ]
    },
    {
     "name": "stdout",
     "output_type": "stream",
     "text": [
      "Epoch 259 tr: l 0.752 a 0.751 clct[np.int64(53), np.int64(47)] clct_ans[np.int64(53), np.int64(47)] cl_acc1.000  lr 0.219627 49.056sec(train) 22.371sec(infer)\n"
     ]
    },
    {
     "name": "stdout",
     "output_type": "stream",
     "text": [
      "Epoch 259 tst: l 0.917 a 0.716 clct[np.int64(20), np.int64(20)] clct_ans[np.int64(20), np.int64(20)] cl_acc1.000  3.966sec\n"
     ]
    },
    {
     "name": "stdout",
     "output_type": "stream",
     "text": [
      "Epoch 260 tr: l 0.769 a 0.746 clct[np.int64(54), np.int64(46)] clct_ans[np.int64(54), np.int64(46)] cl_acc1.000  lr 0.219517 51.202sec(train) 22.204sec(infer)\n"
     ]
    },
    {
     "name": "stdout",
     "output_type": "stream",
     "text": [
      "Epoch 260 tst: l 0.907 a 0.718 clct[np.int64(20), np.int64(20)] clct_ans[np.int64(20), np.int64(20)] cl_acc1.000  3.798sec\n",
      "result written at output_dfca_gi/results.pickle\n",
      "checkpoint written at output_dfca_gi/checkpoint.pt\n"
     ]
    },
    {
     "name": "stdout",
     "output_type": "stream",
     "text": [
      "Epoch 261 tr: l 0.762 a 0.749 clct[np.int64(52), np.int64(48)] clct_ans[np.int64(52), np.int64(48)] cl_acc1.000  lr 0.219407 50.485sec(train) 22.784sec(infer)\n"
     ]
    },
    {
     "name": "stdout",
     "output_type": "stream",
     "text": [
      "Epoch 261 tst: l 0.904 a 0.718 clct[np.int64(20), np.int64(20)] clct_ans[np.int64(20), np.int64(20)] cl_acc1.000  3.901sec\n"
     ]
    },
    {
     "name": "stdout",
     "output_type": "stream",
     "text": [
      "Epoch 262 tr: l 0.748 a 0.752 clct[np.int64(52), np.int64(48)] clct_ans[np.int64(52), np.int64(48)] cl_acc1.000  lr 0.219297 51.244sec(train) 22.339sec(infer)\n"
     ]
    },
    {
     "name": "stdout",
     "output_type": "stream",
     "text": [
      "Epoch 262 tst: l 0.897 a 0.718 clct[np.int64(20), np.int64(20)] clct_ans[np.int64(20), np.int64(20)] cl_acc1.000  3.888sec\n"
     ]
    },
    {
     "name": "stdout",
     "output_type": "stream",
     "text": [
      "Epoch 263 tr: l 0.738 a 0.755 clct[np.int64(47), np.int64(53)] clct_ans[np.int64(47), np.int64(53)] cl_acc1.000  lr 0.219188 51.045sec(train) 22.528sec(infer)\n"
     ]
    },
    {
     "name": "stdout",
     "output_type": "stream",
     "text": [
      "Epoch 263 tst: l 0.922 a 0.716 clct[np.int64(20), np.int64(20)] clct_ans[np.int64(20), np.int64(20)] cl_acc1.000  3.787sec\n"
     ]
    },
    {
     "name": "stdout",
     "output_type": "stream",
     "text": [
      "Epoch 264 tr: l 0.772 a 0.745 clct[np.int64(50), np.int64(50)] clct_ans[np.int64(50), np.int64(50)] cl_acc1.000  lr 0.219078 50.621sec(train) 22.999sec(infer)\n"
     ]
    },
    {
     "name": "stdout",
     "output_type": "stream",
     "text": [
      "Epoch 264 tst: l 0.923 a 0.714 clct[np.int64(20), np.int64(20)] clct_ans[np.int64(20), np.int64(20)] cl_acc1.000  4.198sec\n"
     ]
    },
    {
     "name": "stdout",
     "output_type": "stream",
     "text": [
      "Epoch 265 tr: l 0.748 a 0.753 clct[np.int64(58), np.int64(42)] clct_ans[np.int64(58), np.int64(42)] cl_acc1.000  lr 0.218968 51.357sec(train) 22.138sec(infer)\n"
     ]
    },
    {
     "name": "stdout",
     "output_type": "stream",
     "text": [
      "Epoch 265 tst: l 0.925 a 0.716 clct[np.int64(20), np.int64(20)] clct_ans[np.int64(20), np.int64(20)] cl_acc1.000  3.974sec\n"
     ]
    },
    {
     "name": "stdout",
     "output_type": "stream",
     "text": [
      "Epoch 266 tr: l 0.765 a 0.747 clct[np.int64(50), np.int64(50)] clct_ans[np.int64(50), np.int64(50)] cl_acc1.000  lr 0.218859 47.097sec(train) 21.921sec(infer)\n"
     ]
    },
    {
     "name": "stdout",
     "output_type": "stream",
     "text": [
      "Epoch 266 tst: l 0.915 a 0.717 clct[np.int64(20), np.int64(20)] clct_ans[np.int64(20), np.int64(20)] cl_acc1.000  3.646sec\n"
     ]
    },
    {
     "name": "stdout",
     "output_type": "stream",
     "text": [
      "Epoch 267 tr: l 0.751 a 0.752 clct[np.int64(47), np.int64(53)] clct_ans[np.int64(47), np.int64(53)] cl_acc1.000  lr 0.218750 47.443sec(train) 21.857sec(infer)\n"
     ]
    },
    {
     "name": "stdout",
     "output_type": "stream",
     "text": [
      "Epoch 267 tst: l 0.916 a 0.717 clct[np.int64(20), np.int64(20)] clct_ans[np.int64(20), np.int64(20)] cl_acc1.000  3.871sec\n"
     ]
    },
    {
     "name": "stdout",
     "output_type": "stream",
     "text": [
      "Epoch 268 tr: l 0.749 a 0.752 clct[np.int64(53), np.int64(47)] clct_ans[np.int64(53), np.int64(47)] cl_acc1.000  lr 0.218640 48.857sec(train) 21.973sec(infer)\n"
     ]
    },
    {
     "name": "stdout",
     "output_type": "stream",
     "text": [
      "Epoch 268 tst: l 0.916 a 0.716 clct[np.int64(20), np.int64(20)] clct_ans[np.int64(20), np.int64(20)] cl_acc1.000  3.713sec\n"
     ]
    },
    {
     "name": "stdout",
     "output_type": "stream",
     "text": [
      "Epoch 269 tr: l 0.751 a 0.751 clct[np.int64(47), np.int64(53)] clct_ans[np.int64(47), np.int64(53)] cl_acc1.000  lr 0.218531 49.057sec(train) 21.895sec(infer)\n"
     ]
    },
    {
     "name": "stdout",
     "output_type": "stream",
     "text": [
      "Epoch 269 tst: l 0.913 a 0.716 clct[np.int64(20), np.int64(20)] clct_ans[np.int64(20), np.int64(20)] cl_acc1.000  3.585sec\n"
     ]
    },
    {
     "name": "stdout",
     "output_type": "stream",
     "text": [
      "Epoch 270 tr: l 0.752 a 0.751 clct[np.int64(47), np.int64(53)] clct_ans[np.int64(47), np.int64(53)] cl_acc1.000  lr 0.218422 49.210sec(train) 21.882sec(infer)\n"
     ]
    },
    {
     "name": "stdout",
     "output_type": "stream",
     "text": [
      "Epoch 270 tst: l 0.904 a 0.721 clct[np.int64(20), np.int64(20)] clct_ans[np.int64(20), np.int64(20)] cl_acc1.000  3.569sec\n",
      "result written at output_dfca_gi/results.pickle\n",
      "checkpoint written at output_dfca_gi/checkpoint.pt\n"
     ]
    },
    {
     "name": "stdout",
     "output_type": "stream",
     "text": [
      "Epoch 271 tr: l 0.753 a 0.753 clct[np.int64(52), np.int64(48)] clct_ans[np.int64(52), np.int64(48)] cl_acc1.000  lr 0.218312 47.690sec(train) 22.352sec(infer)\n"
     ]
    },
    {
     "name": "stdout",
     "output_type": "stream",
     "text": [
      "Epoch 271 tst: l 0.915 a 0.720 clct[np.int64(20), np.int64(20)] clct_ans[np.int64(20), np.int64(20)] cl_acc1.000  3.587sec\n"
     ]
    },
    {
     "name": "stdout",
     "output_type": "stream",
     "text": [
      "Epoch 272 tr: l 0.756 a 0.754 clct[np.int64(51), np.int64(49)] clct_ans[np.int64(51), np.int64(49)] cl_acc1.000  lr 0.218203 45.775sec(train) 23.032sec(infer)\n"
     ]
    },
    {
     "name": "stdout",
     "output_type": "stream",
     "text": [
      "Epoch 272 tst: l 0.915 a 0.720 clct[np.int64(20), np.int64(20)] clct_ans[np.int64(20), np.int64(20)] cl_acc1.000  3.601sec\n"
     ]
    },
    {
     "name": "stdout",
     "output_type": "stream",
     "text": [
      "Epoch 273 tr: l 0.735 a 0.756 clct[np.int64(48), np.int64(52)] clct_ans[np.int64(48), np.int64(52)] cl_acc1.000  lr 0.218094 47.216sec(train) 22.433sec(infer)\n"
     ]
    },
    {
     "name": "stdout",
     "output_type": "stream",
     "text": [
      "Epoch 273 tst: l 0.915 a 0.719 clct[np.int64(20), np.int64(20)] clct_ans[np.int64(20), np.int64(20)] cl_acc1.000  4.140sec\n"
     ]
    },
    {
     "name": "stdout",
     "output_type": "stream",
     "text": [
      "Epoch 274 tr: l 0.734 a 0.756 clct[np.int64(47), np.int64(53)] clct_ans[np.int64(47), np.int64(53)] cl_acc1.000  lr 0.217985 49.424sec(train) 21.926sec(infer)\n"
     ]
    },
    {
     "name": "stdout",
     "output_type": "stream",
     "text": [
      "Epoch 274 tst: l 0.911 a 0.719 clct[np.int64(20), np.int64(20)] clct_ans[np.int64(20), np.int64(20)] cl_acc1.000  3.826sec\n"
     ]
    },
    {
     "name": "stdout",
     "output_type": "stream",
     "text": [
      "Epoch 275 tr: l 0.744 a 0.754 clct[np.int64(51), np.int64(49)] clct_ans[np.int64(51), np.int64(49)] cl_acc1.000  lr 0.217876 51.254sec(train) 21.774sec(infer)\n"
     ]
    },
    {
     "name": "stdout",
     "output_type": "stream",
     "text": [
      "Epoch 275 tst: l 0.911 a 0.719 clct[np.int64(20), np.int64(20)] clct_ans[np.int64(20), np.int64(20)] cl_acc1.000  3.820sec\n"
     ]
    },
    {
     "name": "stdout",
     "output_type": "stream",
     "text": [
      "Epoch 276 tr: l 0.740 a 0.755 clct[np.int64(47), np.int64(53)] clct_ans[np.int64(47), np.int64(53)] cl_acc1.000  lr 0.217767 50.741sec(train) 21.963sec(infer)\n"
     ]
    },
    {
     "name": "stdout",
     "output_type": "stream",
     "text": [
      "Epoch 276 tst: l 0.905 a 0.719 clct[np.int64(20), np.int64(20)] clct_ans[np.int64(20), np.int64(20)] cl_acc1.000  3.591sec\n"
     ]
    },
    {
     "name": "stdout",
     "output_type": "stream",
     "text": [
      "Epoch 277 tr: l 0.749 a 0.754 clct[np.int64(50), np.int64(50)] clct_ans[np.int64(50), np.int64(50)] cl_acc1.000  lr 0.217658 50.707sec(train) 21.980sec(infer)\n"
     ]
    },
    {
     "name": "stdout",
     "output_type": "stream",
     "text": [
      "Epoch 277 tst: l 0.915 a 0.718 clct[np.int64(20), np.int64(20)] clct_ans[np.int64(20), np.int64(20)] cl_acc1.000  3.744sec\n"
     ]
    },
    {
     "name": "stdout",
     "output_type": "stream",
     "text": [
      "Epoch 278 tr: l 0.735 a 0.757 clct[np.int64(50), np.int64(50)] clct_ans[np.int64(50), np.int64(50)] cl_acc1.000  lr 0.217549 51.008sec(train) 21.971sec(infer)\n"
     ]
    },
    {
     "name": "stdout",
     "output_type": "stream",
     "text": [
      "Epoch 278 tst: l 0.908 a 0.717 clct[np.int64(20), np.int64(20)] clct_ans[np.int64(20), np.int64(20)] cl_acc1.000  3.649sec\n"
     ]
    },
    {
     "name": "stdout",
     "output_type": "stream",
     "text": [
      "Epoch 279 tr: l 0.749 a 0.753 clct[np.int64(47), np.int64(53)] clct_ans[np.int64(47), np.int64(53)] cl_acc1.000  lr 0.217441 50.606sec(train) 22.648sec(infer)\n"
     ]
    },
    {
     "name": "stdout",
     "output_type": "stream",
     "text": [
      "Epoch 279 tst: l 0.904 a 0.719 clct[np.int64(20), np.int64(20)] clct_ans[np.int64(20), np.int64(20)] cl_acc1.000  3.591sec\n"
     ]
    },
    {
     "name": "stdout",
     "output_type": "stream",
     "text": [
      "Epoch 280 tr: l 0.744 a 0.755 clct[np.int64(48), np.int64(52)] clct_ans[np.int64(48), np.int64(52)] cl_acc1.000  lr 0.217332 50.553sec(train) 22.746sec(infer)\n"
     ]
    },
    {
     "name": "stdout",
     "output_type": "stream",
     "text": [
      "Epoch 280 tst: l 0.897 a 0.721 clct[np.int64(20), np.int64(20)] clct_ans[np.int64(20), np.int64(20)] cl_acc1.000  3.832sec\n",
      "result written at output_dfca_gi/results.pickle\n",
      "checkpoint written at output_dfca_gi/checkpoint.pt\n"
     ]
    },
    {
     "name": "stdout",
     "output_type": "stream",
     "text": [
      "Epoch 281 tr: l 0.747 a 0.751 clct[np.int64(56), np.int64(44)] clct_ans[np.int64(56), np.int64(44)] cl_acc1.000  lr 0.217223 50.459sec(train) 22.276sec(infer)\n"
     ]
    },
    {
     "name": "stdout",
     "output_type": "stream",
     "text": [
      "Epoch 281 tst: l 0.887 a 0.722 clct[np.int64(20), np.int64(20)] clct_ans[np.int64(20), np.int64(20)] cl_acc1.000  3.610sec\n"
     ]
    },
    {
     "name": "stdout",
     "output_type": "stream",
     "text": [
      "Epoch 282 tr: l 0.737 a 0.756 clct[np.int64(54), np.int64(46)] clct_ans[np.int64(54), np.int64(46)] cl_acc1.000  lr 0.217115 50.493sec(train) 22.000sec(infer)\n"
     ]
    },
    {
     "name": "stdout",
     "output_type": "stream",
     "text": [
      "Epoch 282 tst: l 0.891 a 0.722 clct[np.int64(20), np.int64(20)] clct_ans[np.int64(20), np.int64(20)] cl_acc1.000  3.702sec\n"
     ]
    },
    {
     "name": "stdout",
     "output_type": "stream",
     "text": [
      "Epoch 283 tr: l 0.735 a 0.758 clct[np.int64(49), np.int64(51)] clct_ans[np.int64(49), np.int64(51)] cl_acc1.000  lr 0.217006 50.593sec(train) 21.956sec(infer)\n"
     ]
    },
    {
     "name": "stdout",
     "output_type": "stream",
     "text": [
      "Epoch 283 tst: l 0.891 a 0.721 clct[np.int64(20), np.int64(20)] clct_ans[np.int64(20), np.int64(20)] cl_acc1.000  3.571sec\n"
     ]
    },
    {
     "name": "stdout",
     "output_type": "stream",
     "text": [
      "Epoch 284 tr: l 0.755 a 0.752 clct[np.int64(52), np.int64(48)] clct_ans[np.int64(52), np.int64(48)] cl_acc1.000  lr 0.216898 50.755sec(train) 21.644sec(infer)\n"
     ]
    },
    {
     "name": "stdout",
     "output_type": "stream",
     "text": [
      "Epoch 284 tst: l 0.897 a 0.721 clct[np.int64(20), np.int64(20)] clct_ans[np.int64(20), np.int64(20)] cl_acc1.000  3.494sec\n"
     ]
    },
    {
     "name": "stdout",
     "output_type": "stream",
     "text": [
      "Epoch 285 tr: l 0.736 a 0.756 clct[np.int64(50), np.int64(50)] clct_ans[np.int64(50), np.int64(50)] cl_acc1.000  lr 0.216789 50.532sec(train) 21.593sec(infer)\n"
     ]
    },
    {
     "name": "stdout",
     "output_type": "stream",
     "text": [
      "Epoch 285 tst: l 0.914 a 0.718 clct[np.int64(20), np.int64(20)] clct_ans[np.int64(20), np.int64(20)] cl_acc1.000  3.543sec\n"
     ]
    },
    {
     "name": "stdout",
     "output_type": "stream",
     "text": [
      "Epoch 286 tr: l 0.728 a 0.760 clct[np.int64(52), np.int64(48)] clct_ans[np.int64(52), np.int64(48)] cl_acc1.000  lr 0.216681 50.723sec(train) 21.843sec(infer)\n"
     ]
    },
    {
     "name": "stdout",
     "output_type": "stream",
     "text": [
      "Epoch 286 tst: l 0.914 a 0.720 clct[np.int64(20), np.int64(20)] clct_ans[np.int64(20), np.int64(20)] cl_acc1.000  3.535sec\n"
     ]
    },
    {
     "name": "stdout",
     "output_type": "stream",
     "text": [
      "Epoch 287 tr: l 0.721 a 0.762 clct[np.int64(45), np.int64(55)] clct_ans[np.int64(45), np.int64(55)] cl_acc1.000  lr 0.216572 50.600sec(train) 22.433sec(infer)\n"
     ]
    },
    {
     "name": "stdout",
     "output_type": "stream",
     "text": [
      "Epoch 287 tst: l 0.892 a 0.723 clct[np.int64(20), np.int64(20)] clct_ans[np.int64(20), np.int64(20)] cl_acc1.000  3.562sec\n"
     ]
    },
    {
     "name": "stdout",
     "output_type": "stream",
     "text": [
      "Epoch 288 tr: l 0.728 a 0.758 clct[np.int64(49), np.int64(51)] clct_ans[np.int64(49), np.int64(51)] cl_acc1.000  lr 0.216464 50.431sec(train) 22.776sec(infer)\n"
     ]
    },
    {
     "name": "stdout",
     "output_type": "stream",
     "text": [
      "Epoch 288 tst: l 0.897 a 0.723 clct[np.int64(20), np.int64(20)] clct_ans[np.int64(20), np.int64(20)] cl_acc1.000  3.518sec\n"
     ]
    },
    {
     "name": "stdout",
     "output_type": "stream",
     "text": [
      "Epoch 289 tr: l 0.715 a 0.765 clct[np.int64(53), np.int64(47)] clct_ans[np.int64(53), np.int64(47)] cl_acc1.000  lr 0.216356 48.125sec(train) 22.670sec(infer)\n"
     ]
    },
    {
     "name": "stdout",
     "output_type": "stream",
     "text": [
      "Epoch 289 tst: l 0.897 a 0.722 clct[np.int64(20), np.int64(20)] clct_ans[np.int64(20), np.int64(20)] cl_acc1.000  3.666sec\n"
     ]
    },
    {
     "name": "stdout",
     "output_type": "stream",
     "text": [
      "Epoch 290 tr: l 0.725 a 0.760 clct[np.int64(56), np.int64(44)] clct_ans[np.int64(56), np.int64(44)] cl_acc1.000  lr 0.216248 46.488sec(train) 22.106sec(infer)\n"
     ]
    },
    {
     "name": "stdout",
     "output_type": "stream",
     "text": [
      "Epoch 290 tst: l 0.903 a 0.724 clct[np.int64(20), np.int64(20)] clct_ans[np.int64(20), np.int64(20)] cl_acc1.000  3.632sec\n",
      "result written at output_dfca_gi/results.pickle\n",
      "checkpoint written at output_dfca_gi/checkpoint.pt\n"
     ]
    },
    {
     "name": "stdout",
     "output_type": "stream",
     "text": [
      "Epoch 291 tr: l 0.743 a 0.756 clct[np.int64(50), np.int64(50)] clct_ans[np.int64(50), np.int64(50)] cl_acc1.000  lr 0.216140 47.579sec(train) 21.824sec(infer)\n"
     ]
    },
    {
     "name": "stdout",
     "output_type": "stream",
     "text": [
      "Epoch 291 tst: l 0.899 a 0.724 clct[np.int64(20), np.int64(20)] clct_ans[np.int64(20), np.int64(20)] cl_acc1.000  3.617sec\n"
     ]
    },
    {
     "name": "stdout",
     "output_type": "stream",
     "text": [
      "Epoch 292 tr: l 0.725 a 0.760 clct[np.int64(49), np.int64(51)] clct_ans[np.int64(49), np.int64(51)] cl_acc1.000  lr 0.216032 48.332sec(train) 22.022sec(infer)\n"
     ]
    },
    {
     "name": "stdout",
     "output_type": "stream",
     "text": [
      "Epoch 292 tst: l 0.902 a 0.721 clct[np.int64(20), np.int64(20)] clct_ans[np.int64(20), np.int64(20)] cl_acc1.000  3.452sec\n"
     ]
    },
    {
     "name": "stdout",
     "output_type": "stream",
     "text": [
      "Epoch 293 tr: l 0.710 a 0.766 clct[np.int64(50), np.int64(50)] clct_ans[np.int64(50), np.int64(50)] cl_acc1.000  lr 0.215924 49.092sec(train) 21.782sec(infer)\n"
     ]
    },
    {
     "name": "stdout",
     "output_type": "stream",
     "text": [
      "Epoch 293 tst: l 0.896 a 0.722 clct[np.int64(20), np.int64(20)] clct_ans[np.int64(20), np.int64(20)] cl_acc1.000  3.558sec\n"
     ]
    },
    {
     "name": "stdout",
     "output_type": "stream",
     "text": [
      "Epoch 294 tr: l 0.702 a 0.768 clct[np.int64(49), np.int64(51)] clct_ans[np.int64(49), np.int64(51)] cl_acc1.000  lr 0.215816 50.106sec(train) 21.922sec(infer)\n"
     ]
    },
    {
     "name": "stdout",
     "output_type": "stream",
     "text": [
      "Epoch 294 tst: l 0.900 a 0.723 clct[np.int64(20), np.int64(20)] clct_ans[np.int64(20), np.int64(20)] cl_acc1.000  3.482sec\n"
     ]
    },
    {
     "name": "stdout",
     "output_type": "stream",
     "text": [
      "Epoch 295 tr: l 0.714 a 0.763 clct[np.int64(43), np.int64(57)] clct_ans[np.int64(43), np.int64(57)] cl_acc1.000  lr 0.215708 50.201sec(train) 22.354sec(infer)\n"
     ]
    },
    {
     "name": "stdout",
     "output_type": "stream",
     "text": [
      "Epoch 295 tst: l 0.898 a 0.724 clct[np.int64(20), np.int64(20)] clct_ans[np.int64(20), np.int64(20)] cl_acc1.000  3.488sec\n"
     ]
    },
    {
     "name": "stdout",
     "output_type": "stream",
     "text": [
      "Epoch 296 tr: l 0.717 a 0.762 clct[np.int64(45), np.int64(55)] clct_ans[np.int64(45), np.int64(55)] cl_acc1.000  lr 0.215600 50.278sec(train) 22.431sec(infer)\n"
     ]
    },
    {
     "name": "stdout",
     "output_type": "stream",
     "text": [
      "Epoch 296 tst: l 0.899 a 0.725 clct[np.int64(20), np.int64(20)] clct_ans[np.int64(20), np.int64(20)] cl_acc1.000  3.497sec\n"
     ]
    },
    {
     "name": "stdout",
     "output_type": "stream",
     "text": [
      "Epoch 297 tr: l 0.713 a 0.764 clct[np.int64(48), np.int64(52)] clct_ans[np.int64(48), np.int64(52)] cl_acc1.000  lr 0.215492 48.650sec(train) 22.621sec(infer)\n"
     ]
    },
    {
     "name": "stdout",
     "output_type": "stream",
     "text": [
      "Epoch 297 tst: l 0.904 a 0.724 clct[np.int64(20), np.int64(20)] clct_ans[np.int64(20), np.int64(20)] cl_acc1.000  4.121sec\n"
     ]
    },
    {
     "name": "stdout",
     "output_type": "stream",
     "text": [
      "Epoch 298 tr: l 0.709 a 0.766 clct[np.int64(55), np.int64(45)] clct_ans[np.int64(55), np.int64(45)] cl_acc1.000  lr 0.215384 49.415sec(train) 22.055sec(infer)\n"
     ]
    },
    {
     "name": "stdout",
     "output_type": "stream",
     "text": [
      "Epoch 298 tst: l 0.898 a 0.725 clct[np.int64(20), np.int64(20)] clct_ans[np.int64(20), np.int64(20)] cl_acc1.000  3.907sec\n"
     ]
    },
    {
     "name": "stdout",
     "output_type": "stream",
     "text": [
      "Epoch 299 tr: l 0.711 a 0.766 clct[np.int64(50), np.int64(50)] clct_ans[np.int64(50), np.int64(50)] cl_acc1.000  lr 0.215277 48.782sec(train) 21.687sec(infer)\n"
     ]
    },
    {
     "name": "stdout",
     "output_type": "stream",
     "text": [
      "Epoch 299 tst: l 0.897 a 0.725 clct[np.int64(20), np.int64(20)] clct_ans[np.int64(20), np.int64(20)] cl_acc1.000  3.791sec\n"
     ]
    },
    {
     "name": "stdout",
     "output_type": "stream",
     "text": [
      "Epoch 300 tr: l 0.731 a 0.760 clct[np.int64(53), np.int64(47)] clct_ans[np.int64(53), np.int64(47)] cl_acc1.000  lr 0.215169 50.079sec(train) 21.548sec(infer)\n"
     ]
    },
    {
     "name": "stdout",
     "output_type": "stream",
     "text": [
      "Epoch 300 tst: l 0.890 a 0.725 clct[np.int64(20), np.int64(20)] clct_ans[np.int64(20), np.int64(20)] cl_acc1.000  3.492sec\n",
      "result written at output_dfca_gi/results.pickle\n",
      "checkpoint written at output_dfca_gi/checkpoint.pt\n"
     ]
    },
    {
     "name": "stdout",
     "output_type": "stream",
     "text": [
      "Epoch 301 tr: l 0.724 a 0.764 clct[np.int64(55), np.int64(45)] clct_ans[np.int64(55), np.int64(45)] cl_acc1.000  lr 0.215061 50.506sec(train) 21.524sec(infer)\n"
     ]
    },
    {
     "name": "stdout",
     "output_type": "stream",
     "text": [
      "Epoch 301 tst: l 0.889 a 0.726 clct[np.int64(20), np.int64(20)] clct_ans[np.int64(20), np.int64(20)] cl_acc1.000  3.507sec\n"
     ]
    },
    {
     "name": "stdout",
     "output_type": "stream",
     "text": [
      "Epoch 302 tr: l 0.701 a 0.769 clct[np.int64(47), np.int64(53)] clct_ans[np.int64(47), np.int64(53)] cl_acc1.000  lr 0.214954 51.096sec(train) 21.432sec(infer)\n"
     ]
    },
    {
     "name": "stdout",
     "output_type": "stream",
     "text": [
      "Epoch 302 tst: l 0.887 a 0.727 clct[np.int64(20), np.int64(20)] clct_ans[np.int64(20), np.int64(20)] cl_acc1.000  3.484sec\n"
     ]
    },
    {
     "name": "stdout",
     "output_type": "stream",
     "text": [
      "Epoch 303 tr: l 0.705 a 0.768 clct[np.int64(55), np.int64(45)] clct_ans[np.int64(55), np.int64(45)] cl_acc1.000  lr 0.214846 50.438sec(train) 21.883sec(infer)\n"
     ]
    },
    {
     "name": "stdout",
     "output_type": "stream",
     "text": [
      "Epoch 303 tst: l 0.888 a 0.727 clct[np.int64(20), np.int64(20)] clct_ans[np.int64(20), np.int64(20)] cl_acc1.000  3.484sec\n"
     ]
    },
    {
     "name": "stdout",
     "output_type": "stream",
     "text": [
      "Epoch 304 tr: l 0.716 a 0.766 clct[np.int64(58), np.int64(42)] clct_ans[np.int64(58), np.int64(42)] cl_acc1.000  lr 0.214739 49.483sec(train) 22.511sec(infer)\n"
     ]
    },
    {
     "name": "stdout",
     "output_type": "stream",
     "text": [
      "Epoch 304 tst: l 0.887 a 0.725 clct[np.int64(20), np.int64(20)] clct_ans[np.int64(20), np.int64(20)] cl_acc1.000  3.484sec\n"
     ]
    },
    {
     "name": "stdout",
     "output_type": "stream",
     "text": [
      "Epoch 305 tr: l 0.729 a 0.760 clct[np.int64(50), np.int64(50)] clct_ans[np.int64(50), np.int64(50)] cl_acc1.000  lr 0.214632 49.010sec(train) 22.546sec(infer)\n"
     ]
    },
    {
     "name": "stdout",
     "output_type": "stream",
     "text": [
      "Epoch 305 tst: l 0.881 a 0.728 clct[np.int64(20), np.int64(20)] clct_ans[np.int64(20), np.int64(20)] cl_acc1.000  3.475sec\n"
     ]
    },
    {
     "name": "stdout",
     "output_type": "stream",
     "text": [
      "Epoch 306 tr: l 0.722 a 0.763 clct[np.int64(47), np.int64(53)] clct_ans[np.int64(47), np.int64(53)] cl_acc1.000  lr 0.214524 48.002sec(train) 21.690sec(infer)\n"
     ]
    },
    {
     "name": "stdout",
     "output_type": "stream",
     "text": [
      "Epoch 306 tst: l 0.882 a 0.727 clct[np.int64(20), np.int64(20)] clct_ans[np.int64(20), np.int64(20)] cl_acc1.000  3.258sec\n"
     ]
    },
    {
     "name": "stdout",
     "output_type": "stream",
     "text": [
      "Epoch 307 tr: l 0.721 a 0.762 clct[np.int64(47), np.int64(53)] clct_ans[np.int64(47), np.int64(53)] cl_acc1.000  lr 0.214417 43.527sec(train) 21.167sec(infer)\n"
     ]
    },
    {
     "name": "stdout",
     "output_type": "stream",
     "text": [
      "Epoch 307 tst: l 0.896 a 0.725 clct[np.int64(20), np.int64(20)] clct_ans[np.int64(20), np.int64(20)] cl_acc1.000  3.349sec\n"
     ]
    },
    {
     "name": "stdout",
     "output_type": "stream",
     "text": [
      "Epoch 308 tr: l 0.712 a 0.765 clct[np.int64(50), np.int64(50)] clct_ans[np.int64(50), np.int64(50)] cl_acc1.000  lr 0.214310 48.252sec(train) 21.186sec(infer)\n"
     ]
    },
    {
     "name": "stdout",
     "output_type": "stream",
     "text": [
      "Epoch 308 tst: l 0.892 a 0.724 clct[np.int64(20), np.int64(20)] clct_ans[np.int64(20), np.int64(20)] cl_acc1.000  3.740sec\n"
     ]
    },
    {
     "name": "stdout",
     "output_type": "stream",
     "text": [
      "Epoch 309 tr: l 0.711 a 0.766 clct[np.int64(50), np.int64(50)] clct_ans[np.int64(50), np.int64(50)] cl_acc1.000  lr 0.214203 49.115sec(train) 21.490sec(infer)\n"
     ]
    },
    {
     "name": "stdout",
     "output_type": "stream",
     "text": [
      "Epoch 309 tst: l 0.905 a 0.722 clct[np.int64(20), np.int64(20)] clct_ans[np.int64(20), np.int64(20)] cl_acc1.000  3.301sec\n"
     ]
    },
    {
     "name": "stdout",
     "output_type": "stream",
     "text": [
      "Epoch 310 tr: l 0.700 a 0.769 clct[np.int64(50), np.int64(50)] clct_ans[np.int64(50), np.int64(50)] cl_acc1.000  lr 0.214095 48.605sec(train) 21.117sec(infer)\n"
     ]
    },
    {
     "name": "stdout",
     "output_type": "stream",
     "text": [
      "Epoch 310 tst: l 0.901 a 0.722 clct[np.int64(20), np.int64(20)] clct_ans[np.int64(20), np.int64(20)] cl_acc1.000  3.382sec\n",
      "result written at output_dfca_gi/results.pickle\n",
      "checkpoint written at output_dfca_gi/checkpoint.pt\n"
     ]
    },
    {
     "name": "stdout",
     "output_type": "stream",
     "text": [
      "Epoch 311 tr: l 0.717 a 0.763 clct[np.int64(50), np.int64(50)] clct_ans[np.int64(50), np.int64(50)] cl_acc1.000  lr 0.213988 48.881sec(train) 21.819sec(infer)\n"
     ]
    },
    {
     "name": "stdout",
     "output_type": "stream",
     "text": [
      "Epoch 311 tst: l 0.890 a 0.727 clct[np.int64(20), np.int64(20)] clct_ans[np.int64(20), np.int64(20)] cl_acc1.000  3.257sec\n"
     ]
    },
    {
     "name": "stdout",
     "output_type": "stream",
     "text": [
      "Epoch 312 tr: l 0.733 a 0.756 clct[np.int64(48), np.int64(52)] clct_ans[np.int64(48), np.int64(52)] cl_acc1.000  lr 0.213881 47.534sec(train) 21.032sec(infer)\n"
     ]
    },
    {
     "name": "stdout",
     "output_type": "stream",
     "text": [
      "Epoch 312 tst: l 0.898 a 0.726 clct[np.int64(20), np.int64(20)] clct_ans[np.int64(20), np.int64(20)] cl_acc1.000  3.351sec\n"
     ]
    },
    {
     "name": "stdout",
     "output_type": "stream",
     "text": [
      "Epoch 313 tr: l 0.708 a 0.765 clct[np.int64(48), np.int64(52)] clct_ans[np.int64(48), np.int64(52)] cl_acc1.000  lr 0.213775 49.112sec(train) 21.269sec(infer)\n"
     ]
    },
    {
     "name": "stdout",
     "output_type": "stream",
     "text": [
      "Epoch 313 tst: l 0.876 a 0.729 clct[np.int64(20), np.int64(20)] clct_ans[np.int64(20), np.int64(20)] cl_acc1.000  3.784sec\n"
     ]
    },
    {
     "name": "stdout",
     "output_type": "stream",
     "text": [
      "Epoch 314 tr: l 0.704 a 0.768 clct[np.int64(49), np.int64(51)] clct_ans[np.int64(49), np.int64(51)] cl_acc1.000  lr 0.213668 48.932sec(train) 21.741sec(infer)\n"
     ]
    },
    {
     "name": "stdout",
     "output_type": "stream",
     "text": [
      "Epoch 314 tst: l 0.882 a 0.729 clct[np.int64(20), np.int64(20)] clct_ans[np.int64(20), np.int64(20)] cl_acc1.000  3.268sec\n"
     ]
    },
    {
     "name": "stdout",
     "output_type": "stream",
     "text": [
      "Epoch 315 tr: l 0.708 a 0.766 clct[np.int64(47), np.int64(53)] clct_ans[np.int64(47), np.int64(53)] cl_acc1.000  lr 0.213561 48.729sec(train) 21.179sec(infer)\n"
     ]
    },
    {
     "name": "stdout",
     "output_type": "stream",
     "text": [
      "Epoch 315 tst: l 0.886 a 0.728 clct[np.int64(20), np.int64(20)] clct_ans[np.int64(20), np.int64(20)] cl_acc1.000  3.408sec\n"
     ]
    },
    {
     "name": "stdout",
     "output_type": "stream",
     "text": [
      "Epoch 316 tr: l 0.698 a 0.771 clct[np.int64(46), np.int64(54)] clct_ans[np.int64(46), np.int64(54)] cl_acc1.000  lr 0.213454 48.678sec(train) 21.664sec(infer)\n"
     ]
    },
    {
     "name": "stdout",
     "output_type": "stream",
     "text": [
      "Epoch 316 tst: l 0.887 a 0.729 clct[np.int64(20), np.int64(20)] clct_ans[np.int64(20), np.int64(20)] cl_acc1.000  3.286sec\n"
     ]
    },
    {
     "name": "stdout",
     "output_type": "stream",
     "text": [
      "Epoch 317 tr: l 0.693 a 0.771 clct[np.int64(44), np.int64(56)] clct_ans[np.int64(44), np.int64(56)] cl_acc1.000  lr 0.213347 48.589sec(train) 21.135sec(infer)\n"
     ]
    },
    {
     "name": "stdout",
     "output_type": "stream",
     "text": [
      "Epoch 317 tst: l 0.883 a 0.730 clct[np.int64(20), np.int64(20)] clct_ans[np.int64(20), np.int64(20)] cl_acc1.000  3.289sec\n"
     ]
    },
    {
     "name": "stdout",
     "output_type": "stream",
     "text": [
      "Epoch 318 tr: l 0.695 a 0.771 clct[np.int64(49), np.int64(51)] clct_ans[np.int64(49), np.int64(51)] cl_acc1.000  lr 0.213241 48.795sec(train) 21.219sec(infer)\n"
     ]
    },
    {
     "name": "stdout",
     "output_type": "stream",
     "text": [
      "Epoch 318 tst: l 0.884 a 0.730 clct[np.int64(20), np.int64(20)] clct_ans[np.int64(20), np.int64(20)] cl_acc1.000  3.406sec\n"
     ]
    },
    {
     "name": "stdout",
     "output_type": "stream",
     "text": [
      "Epoch 319 tr: l 0.696 a 0.772 clct[np.int64(50), np.int64(50)] clct_ans[np.int64(50), np.int64(50)] cl_acc1.000  lr 0.213134 44.635sec(train) 21.568sec(infer)\n"
     ]
    },
    {
     "name": "stdout",
     "output_type": "stream",
     "text": [
      "Epoch 319 tst: l 0.880 a 0.731 clct[np.int64(20), np.int64(20)] clct_ans[np.int64(20), np.int64(20)] cl_acc1.000  3.257sec\n"
     ]
    },
    {
     "name": "stdout",
     "output_type": "stream",
     "text": [
      "Epoch 320 tr: l 0.698 a 0.770 clct[np.int64(47), np.int64(53)] clct_ans[np.int64(47), np.int64(53)] cl_acc1.000  lr 0.213027 48.703sec(train) 21.092sec(infer)\n"
     ]
    },
    {
     "name": "stdout",
     "output_type": "stream",
     "text": [
      "Epoch 320 tst: l 0.877 a 0.731 clct[np.int64(20), np.int64(20)] clct_ans[np.int64(20), np.int64(20)] cl_acc1.000  3.377sec\n",
      "result written at output_dfca_gi/results.pickle\n",
      "checkpoint written at output_dfca_gi/checkpoint.pt\n"
     ]
    },
    {
     "name": "stdout",
     "output_type": "stream",
     "text": [
      "Epoch 321 tr: l 0.687 a 0.774 clct[np.int64(62), np.int64(38)] clct_ans[np.int64(62), np.int64(38)] cl_acc1.000  lr 0.212921 48.717sec(train) 21.447sec(infer)\n"
     ]
    },
    {
     "name": "stdout",
     "output_type": "stream",
     "text": [
      "Epoch 321 tst: l 0.891 a 0.727 clct[np.int64(20), np.int64(20)] clct_ans[np.int64(20), np.int64(20)] cl_acc1.000  3.794sec\n"
     ]
    },
    {
     "name": "stdout",
     "output_type": "stream",
     "text": [
      "Epoch 322 tr: l 0.700 a 0.768 clct[np.int64(46), np.int64(54)] clct_ans[np.int64(46), np.int64(54)] cl_acc1.000  lr 0.212814 49.215sec(train) 21.441sec(infer)\n"
     ]
    },
    {
     "name": "stdout",
     "output_type": "stream",
     "text": [
      "Epoch 322 tst: l 0.873 a 0.731 clct[np.int64(20), np.int64(20)] clct_ans[np.int64(20), np.int64(20)] cl_acc1.000  3.291sec\n"
     ]
    },
    {
     "name": "stdout",
     "output_type": "stream",
     "text": [
      "Epoch 323 tr: l 0.709 a 0.767 clct[np.int64(52), np.int64(48)] clct_ans[np.int64(52), np.int64(48)] cl_acc1.000  lr 0.212708 48.494sec(train) 21.097sec(infer)\n"
     ]
    },
    {
     "name": "stdout",
     "output_type": "stream",
     "text": [
      "Epoch 323 tst: l 0.875 a 0.731 clct[np.int64(20), np.int64(20)] clct_ans[np.int64(20), np.int64(20)] cl_acc1.000  3.428sec\n"
     ]
    },
    {
     "name": "stdout",
     "output_type": "stream",
     "text": [
      "Epoch 324 tr: l 0.701 a 0.766 clct[np.int64(51), np.int64(49)] clct_ans[np.int64(51), np.int64(49)] cl_acc1.000  lr 0.212602 49.085sec(train) 21.498sec(infer)\n"
     ]
    },
    {
     "name": "stdout",
     "output_type": "stream",
     "text": [
      "Epoch 324 tst: l 0.874 a 0.733 clct[np.int64(20), np.int64(20)] clct_ans[np.int64(20), np.int64(20)] cl_acc1.000  3.314sec\n"
     ]
    },
    {
     "name": "stdout",
     "output_type": "stream",
     "text": [
      "Epoch 325 tr: l 0.701 a 0.767 clct[np.int64(44), np.int64(56)] clct_ans[np.int64(44), np.int64(56)] cl_acc1.000  lr 0.212495 48.842sec(train) 21.130sec(infer)\n"
     ]
    },
    {
     "name": "stdout",
     "output_type": "stream",
     "text": [
      "Epoch 325 tst: l 0.873 a 0.730 clct[np.int64(20), np.int64(20)] clct_ans[np.int64(20), np.int64(20)] cl_acc1.000  3.390sec\n"
     ]
    },
    {
     "name": "stdout",
     "output_type": "stream",
     "text": [
      "Epoch 326 tr: l 0.685 a 0.775 clct[np.int64(53), np.int64(47)] clct_ans[np.int64(53), np.int64(47)] cl_acc1.000  lr 0.212389 48.789sec(train) 21.237sec(infer)\n"
     ]
    },
    {
     "name": "stdout",
     "output_type": "stream",
     "text": [
      "Epoch 326 tst: l 0.873 a 0.732 clct[np.int64(20), np.int64(20)] clct_ans[np.int64(20), np.int64(20)] cl_acc1.000  3.594sec\n"
     ]
    },
    {
     "name": "stdout",
     "output_type": "stream",
     "text": [
      "Epoch 327 tr: l 0.669 a 0.778 clct[np.int64(46), np.int64(54)] clct_ans[np.int64(46), np.int64(54)] cl_acc1.000  lr 0.212283 48.605sec(train) 21.370sec(infer)\n"
     ]
    },
    {
     "name": "stdout",
     "output_type": "stream",
     "text": [
      "Epoch 327 tst: l 0.876 a 0.732 clct[np.int64(20), np.int64(20)] clct_ans[np.int64(20), np.int64(20)] cl_acc1.000  3.298sec\n"
     ]
    },
    {
     "name": "stdout",
     "output_type": "stream",
     "text": [
      "Epoch 328 tr: l 0.714 a 0.762 clct[np.int64(52), np.int64(48)] clct_ans[np.int64(52), np.int64(48)] cl_acc1.000  lr 0.212177 48.632sec(train) 21.106sec(infer)\n"
     ]
    },
    {
     "name": "stdout",
     "output_type": "stream",
     "text": [
      "Epoch 328 tst: l 0.873 a 0.734 clct[np.int64(20), np.int64(20)] clct_ans[np.int64(20), np.int64(20)] cl_acc1.000  3.428sec\n"
     ]
    },
    {
     "name": "stdout",
     "output_type": "stream",
     "text": [
      "Epoch 329 tr: l 0.707 a 0.766 clct[np.int64(49), np.int64(51)] clct_ans[np.int64(49), np.int64(51)] cl_acc1.000  lr 0.212071 48.842sec(train) 21.368sec(infer)\n"
     ]
    },
    {
     "name": "stdout",
     "output_type": "stream",
     "text": [
      "Epoch 329 tst: l 0.868 a 0.733 clct[np.int64(20), np.int64(20)] clct_ans[np.int64(20), np.int64(20)] cl_acc1.000  3.315sec\n"
     ]
    },
    {
     "name": "stdout",
     "output_type": "stream",
     "text": [
      "Epoch 330 tr: l 0.685 a 0.774 clct[np.int64(54), np.int64(46)] clct_ans[np.int64(54), np.int64(46)] cl_acc1.000  lr 0.211965 49.235sec(train) 21.231sec(infer)\n"
     ]
    },
    {
     "name": "stdout",
     "output_type": "stream",
     "text": [
      "Epoch 330 tst: l 0.863 a 0.733 clct[np.int64(20), np.int64(20)] clct_ans[np.int64(20), np.int64(20)] cl_acc1.000  3.310sec\n",
      "result written at output_dfca_gi/results.pickle\n",
      "checkpoint written at output_dfca_gi/checkpoint.pt\n"
     ]
    },
    {
     "name": "stdout",
     "output_type": "stream",
     "text": [
      "Epoch 331 tr: l 0.689 a 0.771 clct[np.int64(48), np.int64(52)] clct_ans[np.int64(48), np.int64(52)] cl_acc1.000  lr 0.211859 48.875sec(train) 21.211sec(infer)\n"
     ]
    },
    {
     "name": "stdout",
     "output_type": "stream",
     "text": [
      "Epoch 331 tst: l 0.877 a 0.732 clct[np.int64(20), np.int64(20)] clct_ans[np.int64(20), np.int64(20)] cl_acc1.000  3.478sec\n"
     ]
    },
    {
     "name": "stdout",
     "output_type": "stream",
     "text": [
      "Epoch 332 tr: l 0.683 a 0.774 clct[np.int64(57), np.int64(43)] clct_ans[np.int64(57), np.int64(43)] cl_acc1.000  lr 0.211753 48.882sec(train) 21.222sec(infer)\n"
     ]
    },
    {
     "name": "stdout",
     "output_type": "stream",
     "text": [
      "Epoch 332 tst: l 0.887 a 0.728 clct[np.int64(20), np.int64(20)] clct_ans[np.int64(20), np.int64(20)] cl_acc1.000  3.306sec\n"
     ]
    },
    {
     "name": "stdout",
     "output_type": "stream",
     "text": [
      "Epoch 333 tr: l 0.682 a 0.775 clct[np.int64(47), np.int64(53)] clct_ans[np.int64(47), np.int64(53)] cl_acc1.000  lr 0.211647 49.196sec(train) 21.074sec(infer)\n"
     ]
    },
    {
     "name": "stdout",
     "output_type": "stream",
     "text": [
      "Epoch 333 tst: l 0.888 a 0.727 clct[np.int64(20), np.int64(20)] clct_ans[np.int64(20), np.int64(20)] cl_acc1.000  3.459sec\n"
     ]
    },
    {
     "name": "stdout",
     "output_type": "stream",
     "text": [
      "Epoch 334 tr: l 0.696 a 0.770 clct[np.int64(53), np.int64(47)] clct_ans[np.int64(53), np.int64(47)] cl_acc1.000  lr 0.211541 49.220sec(train) 21.512sec(infer)\n"
     ]
    },
    {
     "name": "stdout",
     "output_type": "stream",
     "text": [
      "Epoch 334 tst: l 0.879 a 0.730 clct[np.int64(20), np.int64(20)] clct_ans[np.int64(20), np.int64(20)] cl_acc1.000  3.421sec\n"
     ]
    },
    {
     "name": "stdout",
     "output_type": "stream",
     "text": [
      "Epoch 335 tr: l 0.707 a 0.768 clct[np.int64(51), np.int64(49)] clct_ans[np.int64(51), np.int64(49)] cl_acc1.000  lr 0.211435 49.534sec(train) 21.051sec(infer)\n"
     ]
    },
    {
     "name": "stdout",
     "output_type": "stream",
     "text": [
      "Epoch 335 tst: l 0.870 a 0.733 clct[np.int64(20), np.int64(20)] clct_ans[np.int64(20), np.int64(20)] cl_acc1.000  3.342sec\n"
     ]
    },
    {
     "name": "stdout",
     "output_type": "stream",
     "text": [
      "Epoch 336 tr: l 0.685 a 0.773 clct[np.int64(48), np.int64(52)] clct_ans[np.int64(48), np.int64(52)] cl_acc1.000  lr 0.211330 48.959sec(train) 21.253sec(infer)\n"
     ]
    },
    {
     "name": "stdout",
     "output_type": "stream",
     "text": [
      "Epoch 336 tst: l 0.873 a 0.732 clct[np.int64(20), np.int64(20)] clct_ans[np.int64(20), np.int64(20)] cl_acc1.000  3.835sec\n"
     ]
    },
    {
     "name": "stdout",
     "output_type": "stream",
     "text": [
      "Epoch 337 tr: l 0.704 a 0.768 clct[np.int64(47), np.int64(53)] clct_ans[np.int64(47), np.int64(53)] cl_acc1.000  lr 0.211224 49.179sec(train) 21.349sec(infer)\n"
     ]
    },
    {
     "name": "stdout",
     "output_type": "stream",
     "text": [
      "Epoch 337 tst: l 0.876 a 0.731 clct[np.int64(20), np.int64(20)] clct_ans[np.int64(20), np.int64(20)] cl_acc1.000  3.334sec\n"
     ]
    },
    {
     "name": "stdout",
     "output_type": "stream",
     "text": [
      "Epoch 338 tr: l 0.696 a 0.772 clct[np.int64(53), np.int64(47)] clct_ans[np.int64(53), np.int64(47)] cl_acc1.000  lr 0.211118 48.961sec(train) 21.016sec(infer)\n"
     ]
    },
    {
     "name": "stdout",
     "output_type": "stream",
     "text": [
      "Epoch 338 tst: l 0.875 a 0.731 clct[np.int64(20), np.int64(20)] clct_ans[np.int64(20), np.int64(20)] cl_acc1.000  3.392sec\n"
     ]
    },
    {
     "name": "stdout",
     "output_type": "stream",
     "text": [
      "Epoch 339 tr: l 0.685 a 0.773 clct[np.int64(56), np.int64(44)] clct_ans[np.int64(56), np.int64(44)] cl_acc1.000  lr 0.211013 49.309sec(train) 21.937sec(infer)\n"
     ]
    },
    {
     "name": "stdout",
     "output_type": "stream",
     "text": [
      "Epoch 339 tst: l 0.875 a 0.729 clct[np.int64(20), np.int64(20)] clct_ans[np.int64(20), np.int64(20)] cl_acc1.000  3.501sec\n"
     ]
    },
    {
     "name": "stdout",
     "output_type": "stream",
     "text": [
      "Epoch 340 tr: l 0.674 a 0.776 clct[np.int64(55), np.int64(45)] clct_ans[np.int64(55), np.int64(45)] cl_acc1.000  lr 0.210907 49.147sec(train) 21.193sec(infer)\n"
     ]
    },
    {
     "name": "stdout",
     "output_type": "stream",
     "text": [
      "Epoch 340 tst: l 0.860 a 0.732 clct[np.int64(20), np.int64(20)] clct_ans[np.int64(20), np.int64(20)] cl_acc1.000  3.353sec\n",
      "result written at output_dfca_gi/results.pickle\n",
      "checkpoint written at output_dfca_gi/checkpoint.pt\n"
     ]
    },
    {
     "name": "stdout",
     "output_type": "stream",
     "text": [
      "Epoch 341 tr: l 0.687 a 0.770 clct[np.int64(56), np.int64(44)] clct_ans[np.int64(56), np.int64(44)] cl_acc1.000  lr 0.210802 48.583sec(train) 21.236sec(infer)\n"
     ]
    },
    {
     "name": "stdout",
     "output_type": "stream",
     "text": [
      "Epoch 341 tst: l 0.860 a 0.735 clct[np.int64(20), np.int64(20)] clct_ans[np.int64(20), np.int64(20)] cl_acc1.000  3.521sec\n"
     ]
    },
    {
     "name": "stdout",
     "output_type": "stream",
     "text": [
      "Epoch 342 tr: l 0.692 a 0.772 clct[np.int64(47), np.int64(53)] clct_ans[np.int64(47), np.int64(53)] cl_acc1.000  lr 0.210696 48.531sec(train) 21.399sec(infer)\n"
     ]
    },
    {
     "name": "stdout",
     "output_type": "stream",
     "text": [
      "Epoch 342 tst: l 0.864 a 0.735 clct[np.int64(20), np.int64(20)] clct_ans[np.int64(20), np.int64(20)] cl_acc1.000  3.286sec\n"
     ]
    },
    {
     "name": "stdout",
     "output_type": "stream",
     "text": [
      "Epoch 343 tr: l 0.683 a 0.773 clct[np.int64(49), np.int64(51)] clct_ans[np.int64(49), np.int64(51)] cl_acc1.000  lr 0.210591 48.978sec(train) 21.665sec(infer)\n"
     ]
    },
    {
     "name": "stdout",
     "output_type": "stream",
     "text": [
      "Epoch 343 tst: l 0.864 a 0.736 clct[np.int64(20), np.int64(20)] clct_ans[np.int64(20), np.int64(20)] cl_acc1.000  3.613sec\n"
     ]
    },
    {
     "name": "stdout",
     "output_type": "stream",
     "text": [
      "Epoch 344 tr: l 0.689 a 0.771 clct[np.int64(51), np.int64(49)] clct_ans[np.int64(51), np.int64(49)] cl_acc1.000  lr 0.210486 49.169sec(train) 22.278sec(infer)\n"
     ]
    },
    {
     "name": "stdout",
     "output_type": "stream",
     "text": [
      "Epoch 344 tst: l 0.871 a 0.733 clct[np.int64(20), np.int64(20)] clct_ans[np.int64(20), np.int64(20)] cl_acc1.000  3.559sec\n"
     ]
    },
    {
     "name": "stdout",
     "output_type": "stream",
     "text": [
      "Epoch 345 tr: l 0.711 a 0.766 clct[np.int64(57), np.int64(43)] clct_ans[np.int64(57), np.int64(43)] cl_acc1.000  lr 0.210380 49.610sec(train) 22.673sec(infer)\n"
     ]
    },
    {
     "name": "stdout",
     "output_type": "stream",
     "text": [
      "Epoch 345 tst: l 0.872 a 0.731 clct[np.int64(20), np.int64(20)] clct_ans[np.int64(20), np.int64(20)] cl_acc1.000  3.628sec\n"
     ]
    },
    {
     "name": "stdout",
     "output_type": "stream",
     "text": [
      "Epoch 346 tr: l 0.684 a 0.773 clct[np.int64(50), np.int64(50)] clct_ans[np.int64(50), np.int64(50)] cl_acc1.000  lr 0.210275 49.776sec(train) 21.430sec(infer)\n"
     ]
    },
    {
     "name": "stdout",
     "output_type": "stream",
     "text": [
      "Epoch 346 tst: l 0.884 a 0.730 clct[np.int64(20), np.int64(20)] clct_ans[np.int64(20), np.int64(20)] cl_acc1.000  3.383sec\n"
     ]
    },
    {
     "name": "stdout",
     "output_type": "stream",
     "text": [
      "Epoch 347 tr: l 0.668 a 0.780 clct[np.int64(47), np.int64(53)] clct_ans[np.int64(47), np.int64(53)] cl_acc1.000  lr 0.210170 49.342sec(train) 21.105sec(infer)\n"
     ]
    },
    {
     "name": "stdout",
     "output_type": "stream",
     "text": [
      "Epoch 347 tst: l 0.872 a 0.733 clct[np.int64(20), np.int64(20)] clct_ans[np.int64(20), np.int64(20)] cl_acc1.000  3.435sec\n"
     ]
    },
    {
     "name": "stdout",
     "output_type": "stream",
     "text": [
      "Epoch 348 tr: l 0.692 a 0.772 clct[np.int64(51), np.int64(49)] clct_ans[np.int64(51), np.int64(49)] cl_acc1.000  lr 0.210065 49.507sec(train) 21.661sec(infer)\n"
     ]
    },
    {
     "name": "stdout",
     "output_type": "stream",
     "text": [
      "Epoch 348 tst: l 0.865 a 0.735 clct[np.int64(20), np.int64(20)] clct_ans[np.int64(20), np.int64(20)] cl_acc1.000  3.737sec\n"
     ]
    },
    {
     "name": "stdout",
     "output_type": "stream",
     "text": [
      "Epoch 349 tr: l 0.690 a 0.771 clct[np.int64(47), np.int64(53)] clct_ans[np.int64(47), np.int64(53)] cl_acc1.000  lr 0.209960 50.293sec(train) 21.368sec(infer)\n"
     ]
    },
    {
     "name": "stdout",
     "output_type": "stream",
     "text": [
      "Epoch 349 tst: l 0.869 a 0.734 clct[np.int64(20), np.int64(20)] clct_ans[np.int64(20), np.int64(20)] cl_acc1.000  3.309sec\n"
     ]
    },
    {
     "name": "stdout",
     "output_type": "stream",
     "text": [
      "Epoch 350 tr: l 0.704 a 0.769 clct[np.int64(47), np.int64(53)] clct_ans[np.int64(47), np.int64(53)] cl_acc1.000  lr 0.020986 49.981sec(train) 21.321sec(infer)\n"
     ]
    },
    {
     "name": "stdout",
     "output_type": "stream",
     "text": [
      "Epoch 350 tst: l 0.861 a 0.737 clct[np.int64(20), np.int64(20)] clct_ans[np.int64(20), np.int64(20)] cl_acc1.000  3.467sec\n",
      "result written at output_dfca_gi/results.pickle\n"
     ]
    },
    {
     "name": "stdout",
     "output_type": "stream",
     "text": [
      "checkpoint written at output_dfca_gi/checkpoint.pt\n"
     ]
    },
    {
     "name": "stdout",
     "output_type": "stream",
     "text": [
      "Epoch 351 tr: l 0.696 a 0.770 clct[np.int64(50), np.int64(50)] clct_ans[np.int64(50), np.int64(50)] cl_acc1.000  lr 0.020975 49.554sec(train) 21.373sec(infer)\n"
     ]
    },
    {
     "name": "stdout",
     "output_type": "stream",
     "text": [
      "Epoch 351 tst: l 0.853 a 0.740 clct[np.int64(20), np.int64(20)] clct_ans[np.int64(20), np.int64(20)] cl_acc1.000  3.369sec\n"
     ]
    },
    {
     "name": "stdout",
     "output_type": "stream",
     "text": [
      "Epoch 352 tr: l 0.695 a 0.771 clct[np.int64(49), np.int64(51)] clct_ans[np.int64(49), np.int64(51)] cl_acc1.000  lr 0.020965 49.858sec(train) 21.067sec(infer)\n"
     ]
    },
    {
     "name": "stdout",
     "output_type": "stream",
     "text": [
      "Epoch 352 tst: l 0.859 a 0.740 clct[np.int64(20), np.int64(20)] clct_ans[np.int64(20), np.int64(20)] cl_acc1.000  3.594sec\n"
     ]
    },
    {
     "name": "stdout",
     "output_type": "stream",
     "text": [
      "Epoch 353 tr: l 0.691 a 0.773 clct[np.int64(47), np.int64(53)] clct_ans[np.int64(47), np.int64(53)] cl_acc1.000  lr 0.020954 48.939sec(train) 21.540sec(infer)\n"
     ]
    },
    {
     "name": "stdout",
     "output_type": "stream",
     "text": [
      "Epoch 353 tst: l 0.857 a 0.740 clct[np.int64(20), np.int64(20)] clct_ans[np.int64(20), np.int64(20)] cl_acc1.000  3.667sec\n"
     ]
    },
    {
     "name": "stdout",
     "output_type": "stream",
     "text": [
      "Epoch 354 tr: l 0.703 a 0.771 clct[np.int64(55), np.int64(45)] clct_ans[np.int64(55), np.int64(45)] cl_acc1.000  lr 0.020944 48.086sec(train) 21.207sec(infer)\n"
     ]
    },
    {
     "name": "stdout",
     "output_type": "stream",
     "text": [
      "Epoch 354 tst: l 0.860 a 0.741 clct[np.int64(20), np.int64(20)] clct_ans[np.int64(20), np.int64(20)] cl_acc1.000  3.324sec\n"
     ]
    },
    {
     "name": "stdout",
     "output_type": "stream",
     "text": [
      "Epoch 355 tr: l 0.710 a 0.770 clct[np.int64(47), np.int64(53)] clct_ans[np.int64(47), np.int64(53)] cl_acc1.000  lr 0.020933 48.238sec(train) 21.306sec(infer)\n"
     ]
    },
    {
     "name": "stdout",
     "output_type": "stream",
     "text": [
      "Epoch 355 tst: l 0.867 a 0.742 clct[np.int64(20), np.int64(20)] clct_ans[np.int64(20), np.int64(20)] cl_acc1.000  3.537sec\n"
     ]
    },
    {
     "name": "stdout",
     "output_type": "stream",
     "text": [
      "Epoch 356 tr: l 0.725 a 0.763 clct[np.int64(47), np.int64(53)] clct_ans[np.int64(47), np.int64(53)] cl_acc1.000  lr 0.020923 49.920sec(train) 21.771sec(infer)\n"
     ]
    },
    {
     "name": "stdout",
     "output_type": "stream",
     "text": [
      "Epoch 356 tst: l 0.869 a 0.741 clct[np.int64(20), np.int64(20)] clct_ans[np.int64(20), np.int64(20)] cl_acc1.000  3.366sec\n"
     ]
    },
    {
     "name": "stdout",
     "output_type": "stream",
     "text": [
      "Epoch 357 tr: l 0.720 a 0.768 clct[np.int64(55), np.int64(45)] clct_ans[np.int64(55), np.int64(45)] cl_acc1.000  lr 0.020912 49.451sec(train) 21.159sec(infer)\n"
     ]
    },
    {
     "name": "stdout",
     "output_type": "stream",
     "text": [
      "Epoch 357 tst: l 0.871 a 0.742 clct[np.int64(20), np.int64(20)] clct_ans[np.int64(20), np.int64(20)] cl_acc1.000  3.471sec\n"
     ]
    },
    {
     "name": "stdout",
     "output_type": "stream",
     "text": [
      "Epoch 358 tr: l 0.714 a 0.771 clct[np.int64(55), np.int64(45)] clct_ans[np.int64(55), np.int64(45)] cl_acc1.000  lr 0.020902 49.114sec(train) 21.399sec(infer)\n"
     ]
    },
    {
     "name": "stdout",
     "output_type": "stream",
     "text": [
      "Epoch 358 tst: l 0.874 a 0.742 clct[np.int64(20), np.int64(20)] clct_ans[np.int64(20), np.int64(20)] cl_acc1.000  3.533sec\n"
     ]
    },
    {
     "name": "stdout",
     "output_type": "stream",
     "text": [
      "Epoch 359 tr: l 0.714 a 0.772 clct[np.int64(54), np.int64(46)] clct_ans[np.int64(54), np.int64(46)] cl_acc1.000  lr 0.020891 49.204sec(train) 21.278sec(infer)\n"
     ]
    },
    {
     "name": "stdout",
     "output_type": "stream",
     "text": [
      "Epoch 359 tst: l 0.878 a 0.743 clct[np.int64(20), np.int64(20)] clct_ans[np.int64(20), np.int64(20)] cl_acc1.000  3.343sec\n"
     ]
    },
    {
     "name": "stdout",
     "output_type": "stream",
     "text": [
      "Epoch 360 tr: l 0.716 a 0.770 clct[np.int64(50), np.int64(50)] clct_ans[np.int64(50), np.int64(50)] cl_acc1.000  lr 0.020881 48.340sec(train) 21.261sec(infer)\n"
     ]
    },
    {
     "name": "stdout",
     "output_type": "stream",
     "text": [
      "Epoch 360 tst: l 0.882 a 0.743 clct[np.int64(20), np.int64(20)] clct_ans[np.int64(20), np.int64(20)] cl_acc1.000  3.386sec\n",
      "result written at output_dfca_gi/results.pickle\n",
      "checkpoint written at output_dfca_gi/checkpoint.pt\n"
     ]
    },
    {
     "name": "stdout",
     "output_type": "stream",
     "text": [
      "Epoch 361 tr: l 0.719 a 0.772 clct[np.int64(45), np.int64(55)] clct_ans[np.int64(45), np.int64(55)] cl_acc1.000  lr 0.020870 49.826sec(train) 21.358sec(infer)\n"
     ]
    },
    {
     "name": "stdout",
     "output_type": "stream",
     "text": [
      "Epoch 361 tst: l 0.883 a 0.744 clct[np.int64(20), np.int64(20)] clct_ans[np.int64(20), np.int64(20)] cl_acc1.000  3.439sec\n"
     ]
    },
    {
     "name": "stdout",
     "output_type": "stream",
     "text": [
      "Epoch 362 tr: l 0.723 a 0.772 clct[np.int64(47), np.int64(53)] clct_ans[np.int64(47), np.int64(53)] cl_acc1.000  lr 0.020860 49.895sec(train) 21.165sec(infer)\n"
     ]
    },
    {
     "name": "stdout",
     "output_type": "stream",
     "text": [
      "Epoch 362 tst: l 0.885 a 0.746 clct[np.int64(20), np.int64(20)] clct_ans[np.int64(20), np.int64(20)] cl_acc1.000  3.364sec\n"
     ]
    },
    {
     "name": "stdout",
     "output_type": "stream",
     "text": [
      "Epoch 363 tr: l 0.727 a 0.768 clct[np.int64(48), np.int64(52)] clct_ans[np.int64(48), np.int64(52)] cl_acc1.000  lr 0.020850 49.966sec(train) 21.173sec(infer)\n"
     ]
    },
    {
     "name": "stdout",
     "output_type": "stream",
     "text": [
      "Epoch 363 tst: l 0.889 a 0.744 clct[np.int64(20), np.int64(20)] clct_ans[np.int64(20), np.int64(20)] cl_acc1.000  3.582sec\n"
     ]
    },
    {
     "name": "stdout",
     "output_type": "stream",
     "text": [
      "Epoch 364 tr: l 0.735 a 0.766 clct[np.int64(43), np.int64(57)] clct_ans[np.int64(43), np.int64(57)] cl_acc1.000  lr 0.020839 50.113sec(train) 21.518sec(infer)\n"
     ]
    },
    {
     "name": "stdout",
     "output_type": "stream",
     "text": [
      "Epoch 364 tst: l 0.892 a 0.744 clct[np.int64(20), np.int64(20)] clct_ans[np.int64(20), np.int64(20)] cl_acc1.000  3.337sec\n"
     ]
    },
    {
     "name": "stdout",
     "output_type": "stream",
     "text": [
      "Epoch 365 tr: l 0.735 a 0.769 clct[np.int64(47), np.int64(53)] clct_ans[np.int64(47), np.int64(53)] cl_acc1.000  lr 0.020829 50.000sec(train) 21.191sec(infer)\n"
     ]
    },
    {
     "name": "stdout",
     "output_type": "stream",
     "text": [
      "Epoch 365 tst: l 0.895 a 0.744 clct[np.int64(20), np.int64(20)] clct_ans[np.int64(20), np.int64(20)] cl_acc1.000  3.328sec\n"
     ]
    },
    {
     "name": "stdout",
     "output_type": "stream",
     "text": [
      "Epoch 366 tr: l 0.730 a 0.772 clct[np.int64(52), np.int64(48)] clct_ans[np.int64(52), np.int64(48)] cl_acc1.000  lr 0.020818 49.808sec(train) 21.544sec(infer)\n"
     ]
    },
    {
     "name": "stdout",
     "output_type": "stream",
     "text": [
      "Epoch 366 tst: l 0.898 a 0.745 clct[np.int64(20), np.int64(20)] clct_ans[np.int64(20), np.int64(20)] cl_acc1.000  3.487sec\n"
     ]
    },
    {
     "name": "stdout",
     "output_type": "stream",
     "text": [
      "Epoch 367 tr: l 0.721 a 0.772 clct[np.int64(47), np.int64(53)] clct_ans[np.int64(47), np.int64(53)] cl_acc1.000  lr 0.020808 50.099sec(train) 21.234sec(infer)\n"
     ]
    },
    {
     "name": "stdout",
     "output_type": "stream",
     "text": [
      "Epoch 367 tst: l 0.903 a 0.744 clct[np.int64(20), np.int64(20)] clct_ans[np.int64(20), np.int64(20)] cl_acc1.000  3.311sec\n"
     ]
    },
    {
     "name": "stdout",
     "output_type": "stream",
     "text": [
      "Epoch 368 tr: l 0.717 a 0.775 clct[np.int64(49), np.int64(51)] clct_ans[np.int64(49), np.int64(51)] cl_acc1.000  lr 0.020797 49.987sec(train) 21.166sec(infer)\n"
     ]
    },
    {
     "name": "stdout",
     "output_type": "stream",
     "text": [
      "Epoch 368 tst: l 0.907 a 0.744 clct[np.int64(20), np.int64(20)] clct_ans[np.int64(20), np.int64(20)] cl_acc1.000  3.337sec\n"
     ]
    },
    {
     "name": "stdout",
     "output_type": "stream",
     "text": [
      "Epoch 369 tr: l 0.737 a 0.770 clct[np.int64(52), np.int64(48)] clct_ans[np.int64(52), np.int64(48)] cl_acc1.000  lr 0.020787 49.962sec(train) 21.272sec(infer)\n"
     ]
    },
    {
     "name": "stdout",
     "output_type": "stream",
     "text": [
      "Epoch 369 tst: l 0.909 a 0.744 clct[np.int64(20), np.int64(20)] clct_ans[np.int64(20), np.int64(20)] cl_acc1.000  3.353sec\n"
     ]
    },
    {
     "name": "stdout",
     "output_type": "stream",
     "text": [
      "Epoch 370 tr: l 0.741 a 0.768 clct[np.int64(49), np.int64(51)] clct_ans[np.int64(49), np.int64(51)] cl_acc1.000  lr 0.020777 49.240sec(train) 21.354sec(infer)\n"
     ]
    },
    {
     "name": "stdout",
     "output_type": "stream",
     "text": [
      "Epoch 370 tst: l 0.910 a 0.745 clct[np.int64(20), np.int64(20)] clct_ans[np.int64(20), np.int64(20)] cl_acc1.000  3.261sec\n",
      "result written at output_dfca_gi/results.pickle\n",
      "checkpoint written at output_dfca_gi/checkpoint.pt\n"
     ]
    },
    {
     "name": "stdout",
     "output_type": "stream",
     "text": [
      "Epoch 371 tr: l 0.730 a 0.772 clct[np.int64(53), np.int64(47)] clct_ans[np.int64(53), np.int64(47)] cl_acc1.000  lr 0.020766 47.429sec(train) 21.313sec(infer)\n"
     ]
    },
    {
     "name": "stdout",
     "output_type": "stream",
     "text": [
      "Epoch 371 tst: l 0.913 a 0.744 clct[np.int64(20), np.int64(20)] clct_ans[np.int64(20), np.int64(20)] cl_acc1.000  3.448sec\n"
     ]
    },
    {
     "name": "stdout",
     "output_type": "stream",
     "text": [
      "Epoch 372 tr: l 0.718 a 0.776 clct[np.int64(44), np.int64(56)] clct_ans[np.int64(44), np.int64(56)] cl_acc1.000  lr 0.020756 47.740sec(train) 21.233sec(infer)\n"
     ]
    },
    {
     "name": "stdout",
     "output_type": "stream",
     "text": [
      "Epoch 372 tst: l 0.916 a 0.744 clct[np.int64(20), np.int64(20)] clct_ans[np.int64(20), np.int64(20)] cl_acc1.000  3.347sec\n"
     ]
    },
    {
     "name": "stdout",
     "output_type": "stream",
     "text": [
      "Epoch 373 tr: l 0.723 a 0.776 clct[np.int64(51), np.int64(49)] clct_ans[np.int64(51), np.int64(49)] cl_acc1.000  lr 0.020745 47.632sec(train) 21.047sec(infer)\n"
     ]
    },
    {
     "name": "stdout",
     "output_type": "stream",
     "text": [
      "Epoch 373 tst: l 0.920 a 0.745 clct[np.int64(20), np.int64(20)] clct_ans[np.int64(20), np.int64(20)] cl_acc1.000  3.292sec\n"
     ]
    },
    {
     "name": "stdout",
     "output_type": "stream",
     "text": [
      "Epoch 374 tr: l 0.719 a 0.775 clct[np.int64(44), np.int64(56)] clct_ans[np.int64(44), np.int64(56)] cl_acc1.000  lr 0.020735 49.812sec(train) 21.232sec(infer)\n"
     ]
    },
    {
     "name": "stdout",
     "output_type": "stream",
     "text": [
      "Epoch 374 tst: l 0.926 a 0.746 clct[np.int64(20), np.int64(20)] clct_ans[np.int64(20), np.int64(20)] cl_acc1.000  3.279sec\n"
     ]
    },
    {
     "name": "stdout",
     "output_type": "stream",
     "text": [
      "Epoch 375 tr: l 0.727 a 0.775 clct[np.int64(51), np.int64(49)] clct_ans[np.int64(51), np.int64(49)] cl_acc1.000  lr 0.020725 49.956sec(train) 21.149sec(infer)\n"
     ]
    },
    {
     "name": "stdout",
     "output_type": "stream",
     "text": [
      "Epoch 375 tst: l 0.925 a 0.746 clct[np.int64(20), np.int64(20)] clct_ans[np.int64(20), np.int64(20)] cl_acc1.000  3.271sec\n"
     ]
    },
    {
     "name": "stdout",
     "output_type": "stream",
     "text": [
      "Epoch 376 tr: l 0.753 a 0.768 clct[np.int64(47), np.int64(53)] clct_ans[np.int64(47), np.int64(53)] cl_acc1.000  lr 0.020714 50.000sec(train) 21.060sec(infer)\n"
     ]
    },
    {
     "name": "stdout",
     "output_type": "stream",
     "text": [
      "Epoch 376 tst: l 0.925 a 0.746 clct[np.int64(20), np.int64(20)] clct_ans[np.int64(20), np.int64(20)] cl_acc1.000  3.389sec\n"
     ]
    },
    {
     "name": "stdout",
     "output_type": "stream",
     "text": [
      "Epoch 377 tr: l 0.737 a 0.773 clct[np.int64(54), np.int64(46)] clct_ans[np.int64(54), np.int64(46)] cl_acc1.000  lr 0.020704 48.397sec(train) 21.430sec(infer)\n"
     ]
    },
    {
     "name": "stdout",
     "output_type": "stream",
     "text": [
      "Epoch 377 tst: l 0.924 a 0.746 clct[np.int64(20), np.int64(20)] clct_ans[np.int64(20), np.int64(20)] cl_acc1.000  3.373sec\n"
     ]
    },
    {
     "name": "stdout",
     "output_type": "stream",
     "text": [
      "Epoch 378 tr: l 0.745 a 0.772 clct[np.int64(50), np.int64(50)] clct_ans[np.int64(50), np.int64(50)] cl_acc1.000  lr 0.020694 48.747sec(train) 21.198sec(infer)\n"
     ]
    },
    {
     "name": "stdout",
     "output_type": "stream",
     "text": [
      "Epoch 378 tst: l 0.925 a 0.745 clct[np.int64(20), np.int64(20)] clct_ans[np.int64(20), np.int64(20)] cl_acc1.000  3.260sec\n"
     ]
    },
    {
     "name": "stdout",
     "output_type": "stream",
     "text": [
      "Epoch 379 tr: l 0.741 a 0.771 clct[np.int64(52), np.int64(48)] clct_ans[np.int64(52), np.int64(48)] cl_acc1.000  lr 0.020683 48.449sec(train) 21.143sec(infer)\n"
     ]
    },
    {
     "name": "stdout",
     "output_type": "stream",
     "text": [
      "Epoch 379 tst: l 0.928 a 0.745 clct[np.int64(20), np.int64(20)] clct_ans[np.int64(20), np.int64(20)] cl_acc1.000  3.311sec\n"
     ]
    },
    {
     "name": "stdout",
     "output_type": "stream",
     "text": [
      "Epoch 380 tr: l 0.746 a 0.771 clct[np.int64(49), np.int64(51)] clct_ans[np.int64(49), np.int64(51)] cl_acc1.000  lr 0.020673 48.802sec(train) 21.399sec(infer)\n"
     ]
    },
    {
     "name": "stdout",
     "output_type": "stream",
     "text": [
      "Epoch 380 tst: l 0.928 a 0.746 clct[np.int64(20), np.int64(20)] clct_ans[np.int64(20), np.int64(20)] cl_acc1.000  3.302sec\n",
      "result written at output_dfca_gi/results.pickle\n",
      "checkpoint written at output_dfca_gi/checkpoint.pt\n"
     ]
    },
    {
     "name": "stdout",
     "output_type": "stream",
     "text": [
      "Epoch 381 tr: l 0.741 a 0.774 clct[np.int64(55), np.int64(45)] clct_ans[np.int64(55), np.int64(45)] cl_acc1.000  lr 0.020663 49.018sec(train) 21.173sec(infer)\n"
     ]
    },
    {
     "name": "stdout",
     "output_type": "stream",
     "text": [
      "Epoch 381 tst: l 0.928 a 0.746 clct[np.int64(20), np.int64(20)] clct_ans[np.int64(20), np.int64(20)] cl_acc1.000  3.352sec\n"
     ]
    },
    {
     "name": "stdout",
     "output_type": "stream",
     "text": [
      "Epoch 382 tr: l 0.728 a 0.775 clct[np.int64(51), np.int64(49)] clct_ans[np.int64(51), np.int64(49)] cl_acc1.000  lr 0.020652 48.562sec(train) 21.095sec(infer)\n"
     ]
    },
    {
     "name": "stdout",
     "output_type": "stream",
     "text": [
      "Epoch 382 tst: l 0.930 a 0.746 clct[np.int64(20), np.int64(20)] clct_ans[np.int64(20), np.int64(20)] cl_acc1.000  3.410sec\n"
     ]
    },
    {
     "name": "stdout",
     "output_type": "stream",
     "text": [
      "Epoch 383 tr: l 0.744 a 0.773 clct[np.int64(55), np.int64(45)] clct_ans[np.int64(55), np.int64(45)] cl_acc1.000  lr 0.020642 49.553sec(train) 21.234sec(infer)\n"
     ]
    },
    {
     "name": "stdout",
     "output_type": "stream",
     "text": [
      "Epoch 383 tst: l 0.931 a 0.747 clct[np.int64(20), np.int64(20)] clct_ans[np.int64(20), np.int64(20)] cl_acc1.000  3.322sec\n"
     ]
    },
    {
     "name": "stdout",
     "output_type": "stream",
     "text": [
      "Epoch 384 tr: l 0.757 a 0.770 clct[np.int64(48), np.int64(52)] clct_ans[np.int64(48), np.int64(52)] cl_acc1.000  lr 0.020632 49.841sec(train) 21.125sec(infer)\n"
     ]
    },
    {
     "name": "stdout",
     "output_type": "stream",
     "text": [
      "Epoch 384 tst: l 0.936 a 0.747 clct[np.int64(20), np.int64(20)] clct_ans[np.int64(20), np.int64(20)] cl_acc1.000  3.324sec\n"
     ]
    },
    {
     "name": "stdout",
     "output_type": "stream",
     "text": [
      "Epoch 385 tr: l 0.738 a 0.774 clct[np.int64(50), np.int64(50)] clct_ans[np.int64(50), np.int64(50)] cl_acc1.000  lr 0.020621 49.722sec(train) 21.423sec(infer)\n"
     ]
    },
    {
     "name": "stdout",
     "output_type": "stream",
     "text": [
      "Epoch 385 tst: l 0.936 a 0.746 clct[np.int64(20), np.int64(20)] clct_ans[np.int64(20), np.int64(20)] cl_acc1.000  3.801sec\n"
     ]
    },
    {
     "name": "stdout",
     "output_type": "stream",
     "text": [
      "Epoch 386 tr: l 0.761 a 0.770 clct[np.int64(47), np.int64(53)] clct_ans[np.int64(47), np.int64(53)] cl_acc1.000  lr 0.020611 49.941sec(train) 21.162sec(infer)\n"
     ]
    },
    {
     "name": "stdout",
     "output_type": "stream",
     "text": [
      "Epoch 386 tst: l 0.939 a 0.748 clct[np.int64(20), np.int64(20)] clct_ans[np.int64(20), np.int64(20)] cl_acc1.000  3.522sec\n"
     ]
    },
    {
     "name": "stdout",
     "output_type": "stream",
     "text": [
      "Epoch 387 tr: l 0.747 a 0.775 clct[np.int64(52), np.int64(48)] clct_ans[np.int64(52), np.int64(48)] cl_acc1.000  lr 0.020601 49.569sec(train) 21.124sec(infer)\n"
     ]
    },
    {
     "name": "stdout",
     "output_type": "stream",
     "text": [
      "Epoch 387 tst: l 0.941 a 0.749 clct[np.int64(20), np.int64(20)] clct_ans[np.int64(20), np.int64(20)] cl_acc1.000  3.533sec\n"
     ]
    },
    {
     "name": "stdout",
     "output_type": "stream",
     "text": [
      "Epoch 388 tr: l 0.741 a 0.774 clct[np.int64(48), np.int64(52)] clct_ans[np.int64(48), np.int64(52)] cl_acc1.000  lr 0.020590 49.736sec(train) 21.502sec(infer)\n"
     ]
    },
    {
     "name": "stdout",
     "output_type": "stream",
     "text": [
      "Epoch 388 tst: l 0.944 a 0.748 clct[np.int64(20), np.int64(20)] clct_ans[np.int64(20), np.int64(20)] cl_acc1.000  3.297sec\n"
     ]
    },
    {
     "name": "stdout",
     "output_type": "stream",
     "text": [
      "Epoch 389 tr: l 0.750 a 0.772 clct[np.int64(50), np.int64(50)] clct_ans[np.int64(50), np.int64(50)] cl_acc1.000  lr 0.020580 49.934sec(train) 21.154sec(infer)\n"
     ]
    },
    {
     "name": "stdout",
     "output_type": "stream",
     "text": [
      "Epoch 389 tst: l 0.946 a 0.746 clct[np.int64(20), np.int64(20)] clct_ans[np.int64(20), np.int64(20)] cl_acc1.000  3.320sec\n"
     ]
    },
    {
     "name": "stdout",
     "output_type": "stream",
     "text": [
      "Epoch 390 tr: l 0.740 a 0.775 clct[np.int64(59), np.int64(41)] clct_ans[np.int64(59), np.int64(41)] cl_acc1.000  lr 0.020570 48.456sec(train) 21.357sec(infer)\n"
     ]
    },
    {
     "name": "stdout",
     "output_type": "stream",
     "text": [
      "Epoch 390 tst: l 0.948 a 0.747 clct[np.int64(20), np.int64(20)] clct_ans[np.int64(20), np.int64(20)] cl_acc1.000  3.745sec\n",
      "result written at output_dfca_gi/results.pickle\n"
     ]
    },
    {
     "name": "stdout",
     "output_type": "stream",
     "text": [
      "checkpoint written at output_dfca_gi/checkpoint.pt\n"
     ]
    },
    {
     "name": "stdout",
     "output_type": "stream",
     "text": [
      "Epoch 391 tr: l 0.763 a 0.771 clct[np.int64(52), np.int64(48)] clct_ans[np.int64(52), np.int64(48)] cl_acc1.000  lr 0.020560 49.582sec(train) 21.237sec(infer)\n"
     ]
    },
    {
     "name": "stdout",
     "output_type": "stream",
     "text": [
      "Epoch 391 tst: l 0.951 a 0.748 clct[np.int64(20), np.int64(20)] clct_ans[np.int64(20), np.int64(20)] cl_acc1.000  3.321sec\n"
     ]
    },
    {
     "name": "stdout",
     "output_type": "stream",
     "text": [
      "Epoch 392 tr: l 0.749 a 0.773 clct[np.int64(50), np.int64(50)] clct_ans[np.int64(50), np.int64(50)] cl_acc1.000  lr 0.020549 48.943sec(train) 21.187sec(infer)\n"
     ]
    },
    {
     "name": "stdout",
     "output_type": "stream",
     "text": [
      "Epoch 392 tst: l 0.950 a 0.747 clct[np.int64(20), np.int64(20)] clct_ans[np.int64(20), np.int64(20)] cl_acc1.000  3.451sec\n"
     ]
    },
    {
     "name": "stdout",
     "output_type": "stream",
     "text": [
      "Epoch 393 tr: l 0.767 a 0.769 clct[np.int64(51), np.int64(49)] clct_ans[np.int64(51), np.int64(49)] cl_acc1.000  lr 0.020539 49.223sec(train) 21.395sec(infer)\n"
     ]
    },
    {
     "name": "stdout",
     "output_type": "stream",
     "text": [
      "Epoch 393 tst: l 0.951 a 0.748 clct[np.int64(20), np.int64(20)] clct_ans[np.int64(20), np.int64(20)] cl_acc1.000  3.357sec\n"
     ]
    },
    {
     "name": "stdout",
     "output_type": "stream",
     "text": [
      "Epoch 394 tr: l 0.756 a 0.772 clct[np.int64(53), np.int64(47)] clct_ans[np.int64(53), np.int64(47)] cl_acc1.000  lr 0.020529 48.611sec(train) 21.218sec(infer)\n"
     ]
    },
    {
     "name": "stdout",
     "output_type": "stream",
     "text": [
      "Epoch 394 tst: l 0.952 a 0.747 clct[np.int64(20), np.int64(20)] clct_ans[np.int64(20), np.int64(20)] cl_acc1.000  3.328sec\n"
     ]
    },
    {
     "name": "stdout",
     "output_type": "stream",
     "text": [
      "Epoch 395 tr: l 0.751 a 0.773 clct[np.int64(50), np.int64(50)] clct_ans[np.int64(50), np.int64(50)] cl_acc1.000  lr 0.020518 48.107sec(train) 21.525sec(infer)\n"
     ]
    },
    {
     "name": "stdout",
     "output_type": "stream",
     "text": [
      "Epoch 395 tst: l 0.953 a 0.746 clct[np.int64(20), np.int64(20)] clct_ans[np.int64(20), np.int64(20)] cl_acc1.000  3.474sec\n"
     ]
    },
    {
     "name": "stdout",
     "output_type": "stream",
     "text": [
      "Epoch 396 tr: l 0.747 a 0.775 clct[np.int64(47), np.int64(53)] clct_ans[np.int64(47), np.int64(53)] cl_acc1.000  lr 0.020508 50.163sec(train) 21.233sec(infer)\n"
     ]
    },
    {
     "name": "stdout",
     "output_type": "stream",
     "text": [
      "Epoch 396 tst: l 0.954 a 0.747 clct[np.int64(20), np.int64(20)] clct_ans[np.int64(20), np.int64(20)] cl_acc1.000  3.376sec\n"
     ]
    },
    {
     "name": "stdout",
     "output_type": "stream",
     "text": [
      "Epoch 397 tr: l 0.755 a 0.773 clct[np.int64(49), np.int64(51)] clct_ans[np.int64(49), np.int64(51)] cl_acc1.000  lr 0.020498 50.018sec(train) 21.243sec(infer)\n"
     ]
    },
    {
     "name": "stdout",
     "output_type": "stream",
     "text": [
      "Epoch 397 tst: l 0.953 a 0.748 clct[np.int64(20), np.int64(20)] clct_ans[np.int64(20), np.int64(20)] cl_acc1.000  3.824sec\n"
     ]
    },
    {
     "name": "stdout",
     "output_type": "stream",
     "text": [
      "Epoch 398 tr: l 0.766 a 0.773 clct[np.int64(49), np.int64(51)] clct_ans[np.int64(49), np.int64(51)] cl_acc1.000  lr 0.020488 49.512sec(train) 21.354sec(infer)\n"
     ]
    },
    {
     "name": "stdout",
     "output_type": "stream",
     "text": [
      "Epoch 398 tst: l 0.955 a 0.748 clct[np.int64(20), np.int64(20)] clct_ans[np.int64(20), np.int64(20)] cl_acc1.000  3.522sec\n"
     ]
    },
    {
     "name": "stdout",
     "output_type": "stream",
     "text": [
      "Epoch 399 tr: l 0.744 a 0.776 clct[np.int64(53), np.int64(47)] clct_ans[np.int64(53), np.int64(47)] cl_acc1.000  lr 0.020477 49.881sec(train) 21.185sec(infer)\n"
     ]
    },
    {
     "name": "stdout",
     "output_type": "stream",
     "text": [
      "Epoch 399 tst: l 0.957 a 0.748 clct[np.int64(20), np.int64(20)] clct_ans[np.int64(20), np.int64(20)] cl_acc1.000  3.277sec\n"
     ]
    },
    {
     "name": "stdout",
     "output_type": "stream",
     "text": [
      "Epoch 400 tr: l 0.733 a 0.777 clct[np.int64(54), np.int64(46)] clct_ans[np.int64(54), np.int64(46)] cl_acc1.000  lr 0.020467 49.587sec(train) 21.244sec(infer)\n"
     ]
    },
    {
     "name": "stdout",
     "output_type": "stream",
     "text": [
      "Epoch 400 tst: l 0.958 a 0.747 clct[np.int64(20), np.int64(20)] clct_ans[np.int64(20), np.int64(20)] cl_acc1.000  3.391sec\n",
      "result written at output_dfca_gi/results.pickle\n",
      "checkpoint written at output_dfca_gi/checkpoint.pt\n"
     ]
    },
    {
     "name": "stdout",
     "output_type": "stream",
     "text": [
      "Epoch 401 tr: l 0.757 a 0.772 clct[np.int64(52), np.int64(48)] clct_ans[np.int64(52), np.int64(48)] cl_acc1.000  lr 0.020457 49.235sec(train) 21.393sec(infer)\n"
     ]
    },
    {
     "name": "stdout",
     "output_type": "stream",
     "text": [
      "Epoch 401 tst: l 0.961 a 0.747 clct[np.int64(20), np.int64(20)] clct_ans[np.int64(20), np.int64(20)] cl_acc1.000  3.314sec\n"
     ]
    },
    {
     "name": "stdout",
     "output_type": "stream",
     "text": [
      "Epoch 402 tr: l 0.752 a 0.776 clct[np.int64(50), np.int64(50)] clct_ans[np.int64(50), np.int64(50)] cl_acc1.000  lr 0.020447 50.033sec(train) 21.109sec(infer)\n"
     ]
    },
    {
     "name": "stdout",
     "output_type": "stream",
     "text": [
      "Epoch 402 tst: l 0.959 a 0.747 clct[np.int64(20), np.int64(20)] clct_ans[np.int64(20), np.int64(20)] cl_acc1.000  3.350sec\n"
     ]
    },
    {
     "name": "stdout",
     "output_type": "stream",
     "text": [
      "Epoch 403 tr: l 0.751 a 0.773 clct[np.int64(46), np.int64(54)] clct_ans[np.int64(46), np.int64(54)] cl_acc1.000  lr 0.020437 50.191sec(train) 21.479sec(infer)\n"
     ]
    },
    {
     "name": "stdout",
     "output_type": "stream",
     "text": [
      "Epoch 403 tst: l 0.959 a 0.748 clct[np.int64(20), np.int64(20)] clct_ans[np.int64(20), np.int64(20)] cl_acc1.000  3.297sec\n"
     ]
    },
    {
     "name": "stdout",
     "output_type": "stream",
     "text": [
      "Epoch 404 tr: l 0.756 a 0.775 clct[np.int64(53), np.int64(47)] clct_ans[np.int64(53), np.int64(47)] cl_acc1.000  lr 0.020426 50.044sec(train) 21.326sec(infer)\n"
     ]
    },
    {
     "name": "stdout",
     "output_type": "stream",
     "text": [
      "Epoch 404 tst: l 0.957 a 0.749 clct[np.int64(20), np.int64(20)] clct_ans[np.int64(20), np.int64(20)] cl_acc1.000  3.324sec\n"
     ]
    },
    {
     "name": "stdout",
     "output_type": "stream",
     "text": [
      "Epoch 405 tr: l 0.753 a 0.774 clct[np.int64(49), np.int64(51)] clct_ans[np.int64(49), np.int64(51)] cl_acc1.000  lr 0.020416 50.030sec(train) 21.418sec(infer)\n"
     ]
    },
    {
     "name": "stdout",
     "output_type": "stream",
     "text": [
      "Epoch 405 tst: l 0.958 a 0.749 clct[np.int64(20), np.int64(20)] clct_ans[np.int64(20), np.int64(20)] cl_acc1.000  3.367sec\n"
     ]
    },
    {
     "name": "stdout",
     "output_type": "stream",
     "text": [
      "Epoch 406 tr: l 0.758 a 0.773 clct[np.int64(49), np.int64(51)] clct_ans[np.int64(49), np.int64(51)] cl_acc1.000  lr 0.020406 49.359sec(train) 21.276sec(infer)\n"
     ]
    },
    {
     "name": "stdout",
     "output_type": "stream",
     "text": [
      "Epoch 406 tst: l 0.960 a 0.748 clct[np.int64(20), np.int64(20)] clct_ans[np.int64(20), np.int64(20)] cl_acc1.000  3.605sec\n"
     ]
    },
    {
     "name": "stdout",
     "output_type": "stream",
     "text": [
      "Epoch 407 tr: l 0.764 a 0.773 clct[np.int64(56), np.int64(44)] clct_ans[np.int64(56), np.int64(44)] cl_acc1.000  lr 0.020396 50.218sec(train) 20.989sec(infer)\n"
     ]
    },
    {
     "name": "stdout",
     "output_type": "stream",
     "text": [
      "Epoch 407 tst: l 0.958 a 0.748 clct[np.int64(20), np.int64(20)] clct_ans[np.int64(20), np.int64(20)] cl_acc1.000  3.325sec\n"
     ]
    },
    {
     "name": "stdout",
     "output_type": "stream",
     "text": [
      "Epoch 408 tr: l 0.753 a 0.776 clct[np.int64(46), np.int64(54)] clct_ans[np.int64(46), np.int64(54)] cl_acc1.000  lr 0.020386 49.215sec(train) 21.162sec(infer)\n"
     ]
    },
    {
     "name": "stdout",
     "output_type": "stream",
     "text": [
      "Epoch 408 tst: l 0.958 a 0.747 clct[np.int64(20), np.int64(20)] clct_ans[np.int64(20), np.int64(20)] cl_acc1.000  3.482sec\n"
     ]
    },
    {
     "name": "stdout",
     "output_type": "stream",
     "text": [
      "Epoch 409 tr: l 0.757 a 0.773 clct[np.int64(49), np.int64(51)] clct_ans[np.int64(49), np.int64(51)] cl_acc1.000  lr 0.020375 49.025sec(train) 21.400sec(infer)\n"
     ]
    },
    {
     "name": "stdout",
     "output_type": "stream",
     "text": [
      "Epoch 409 tst: l 0.958 a 0.748 clct[np.int64(20), np.int64(20)] clct_ans[np.int64(20), np.int64(20)] cl_acc1.000  3.371sec\n"
     ]
    },
    {
     "name": "stdout",
     "output_type": "stream",
     "text": [
      "Epoch 410 tr: l 0.748 a 0.777 clct[np.int64(43), np.int64(57)] clct_ans[np.int64(43), np.int64(57)] cl_acc1.000  lr 0.020365 48.980sec(train) 21.659sec(infer)\n"
     ]
    },
    {
     "name": "stdout",
     "output_type": "stream",
     "text": [
      "Epoch 410 tst: l 0.960 a 0.748 clct[np.int64(20), np.int64(20)] clct_ans[np.int64(20), np.int64(20)] cl_acc1.000  3.505sec\n",
      "result written at output_dfca_gi/results.pickle\n",
      "checkpoint written at output_dfca_gi/checkpoint.pt\n"
     ]
    },
    {
     "name": "stdout",
     "output_type": "stream",
     "text": [
      "Epoch 411 tr: l 0.755 a 0.775 clct[np.int64(50), np.int64(50)] clct_ans[np.int64(50), np.int64(50)] cl_acc1.000  lr 0.020355 48.587sec(train) 22.365sec(infer)\n"
     ]
    },
    {
     "name": "stdout",
     "output_type": "stream",
     "text": [
      "Epoch 411 tst: l 0.963 a 0.748 clct[np.int64(20), np.int64(20)] clct_ans[np.int64(20), np.int64(20)] cl_acc1.000  3.545sec\n"
     ]
    },
    {
     "name": "stdout",
     "output_type": "stream",
     "text": [
      "Epoch 412 tr: l 0.764 a 0.772 clct[np.int64(47), np.int64(53)] clct_ans[np.int64(47), np.int64(53)] cl_acc1.000  lr 0.020345 49.485sec(train) 22.117sec(infer)\n"
     ]
    },
    {
     "name": "stdout",
     "output_type": "stream",
     "text": [
      "Epoch 412 tst: l 0.962 a 0.747 clct[np.int64(20), np.int64(20)] clct_ans[np.int64(20), np.int64(20)] cl_acc1.000  3.677sec\n"
     ]
    },
    {
     "name": "stdout",
     "output_type": "stream",
     "text": [
      "Epoch 413 tr: l 0.755 a 0.776 clct[np.int64(50), np.int64(50)] clct_ans[np.int64(50), np.int64(50)] cl_acc1.000  lr 0.020335 48.202sec(train) 22.509sec(infer)\n"
     ]
    },
    {
     "name": "stdout",
     "output_type": "stream",
     "text": [
      "Epoch 413 tst: l 0.964 a 0.747 clct[np.int64(20), np.int64(20)] clct_ans[np.int64(20), np.int64(20)] cl_acc1.000  3.617sec\n"
     ]
    },
    {
     "name": "stdout",
     "output_type": "stream",
     "text": [
      "Epoch 414 tr: l 0.763 a 0.774 clct[np.int64(52), np.int64(48)] clct_ans[np.int64(52), np.int64(48)] cl_acc1.000  lr 0.020324 50.196sec(train) 22.928sec(infer)\n"
     ]
    },
    {
     "name": "stdout",
     "output_type": "stream",
     "text": [
      "Epoch 414 tst: l 0.967 a 0.748 clct[np.int64(20), np.int64(20)] clct_ans[np.int64(20), np.int64(20)] cl_acc1.000  4.145sec\n"
     ]
    },
    {
     "name": "stdout",
     "output_type": "stream",
     "text": [
      "Epoch 415 tr: l 0.751 a 0.778 clct[np.int64(48), np.int64(52)] clct_ans[np.int64(48), np.int64(52)] cl_acc1.000  lr 0.020314 50.461sec(train) 22.890sec(infer)\n"
     ]
    },
    {
     "name": "stdout",
     "output_type": "stream",
     "text": [
      "Epoch 415 tst: l 0.969 a 0.748 clct[np.int64(20), np.int64(20)] clct_ans[np.int64(20), np.int64(20)] cl_acc1.000  4.231sec\n"
     ]
    },
    {
     "name": "stdout",
     "output_type": "stream",
     "text": [
      "Epoch 416 tr: l 0.762 a 0.775 clct[np.int64(50), np.int64(50)] clct_ans[np.int64(50), np.int64(50)] cl_acc1.000  lr 0.020304 50.948sec(train) 22.534sec(infer)\n"
     ]
    },
    {
     "name": "stdout",
     "output_type": "stream",
     "text": [
      "Epoch 416 tst: l 0.970 a 0.748 clct[np.int64(20), np.int64(20)] clct_ans[np.int64(20), np.int64(20)] cl_acc1.000  3.941sec\n"
     ]
    },
    {
     "name": "stdout",
     "output_type": "stream",
     "text": [
      "Epoch 417 tr: l 0.762 a 0.773 clct[np.int64(50), np.int64(50)] clct_ans[np.int64(50), np.int64(50)] cl_acc1.000  lr 0.020294 49.811sec(train) 23.461sec(infer)\n"
     ]
    },
    {
     "name": "stdout",
     "output_type": "stream",
     "text": [
      "Epoch 417 tst: l 0.968 a 0.747 clct[np.int64(20), np.int64(20)] clct_ans[np.int64(20), np.int64(20)] cl_acc1.000  4.106sec\n"
     ]
    },
    {
     "name": "stdout",
     "output_type": "stream",
     "text": [
      "Epoch 418 tr: l 0.756 a 0.778 clct[np.int64(47), np.int64(53)] clct_ans[np.int64(47), np.int64(53)] cl_acc1.000  lr 0.020284 47.616sec(train) 22.309sec(infer)\n"
     ]
    },
    {
     "name": "stdout",
     "output_type": "stream",
     "text": [
      "Epoch 418 tst: l 0.974 a 0.746 clct[np.int64(20), np.int64(20)] clct_ans[np.int64(20), np.int64(20)] cl_acc1.000  3.817sec\n"
     ]
    },
    {
     "name": "stdout",
     "output_type": "stream",
     "text": [
      "Epoch 419 tr: l 0.748 a 0.778 clct[np.int64(51), np.int64(49)] clct_ans[np.int64(51), np.int64(49)] cl_acc1.000  lr 0.020274 53.377sec(train) 22.727sec(infer)\n"
     ]
    },
    {
     "name": "stdout",
     "output_type": "stream",
     "text": [
      "Epoch 419 tst: l 0.975 a 0.747 clct[np.int64(20), np.int64(20)] clct_ans[np.int64(20), np.int64(20)] cl_acc1.000  3.788sec\n"
     ]
    },
    {
     "name": "stdout",
     "output_type": "stream",
     "text": [
      "Epoch 420 tr: l 0.762 a 0.773 clct[np.int64(50), np.int64(50)] clct_ans[np.int64(50), np.int64(50)] cl_acc1.000  lr 0.020264 51.141sec(train) 22.549sec(infer)\n"
     ]
    },
    {
     "name": "stdout",
     "output_type": "stream",
     "text": [
      "Epoch 420 tst: l 0.975 a 0.748 clct[np.int64(20), np.int64(20)] clct_ans[np.int64(20), np.int64(20)] cl_acc1.000  4.131sec\n",
      "result written at output_dfca_gi/results.pickle\n",
      "checkpoint written at output_dfca_gi/checkpoint.pt\n"
     ]
    },
    {
     "name": "stdout",
     "output_type": "stream",
     "text": [
      "Epoch 421 tr: l 0.752 a 0.778 clct[np.int64(49), np.int64(51)] clct_ans[np.int64(49), np.int64(51)] cl_acc1.000  lr 0.020253 52.092sec(train) 22.532sec(infer)\n"
     ]
    },
    {
     "name": "stdout",
     "output_type": "stream",
     "text": [
      "Epoch 421 tst: l 0.975 a 0.749 clct[np.int64(20), np.int64(20)] clct_ans[np.int64(20), np.int64(20)] cl_acc1.000  3.993sec\n"
     ]
    },
    {
     "name": "stdout",
     "output_type": "stream",
     "text": [
      "Epoch 422 tr: l 0.767 a 0.773 clct[np.int64(44), np.int64(56)] clct_ans[np.int64(44), np.int64(56)] cl_acc1.000  lr 0.020243 50.727sec(train) 23.318sec(infer)\n"
     ]
    },
    {
     "name": "stdout",
     "output_type": "stream",
     "text": [
      "Epoch 422 tst: l 0.973 a 0.749 clct[np.int64(20), np.int64(20)] clct_ans[np.int64(20), np.int64(20)] cl_acc1.000  4.536sec\n"
     ]
    },
    {
     "name": "stdout",
     "output_type": "stream",
     "text": [
      "Epoch 423 tr: l 0.758 a 0.775 clct[np.int64(54), np.int64(46)] clct_ans[np.int64(54), np.int64(46)] cl_acc1.000  lr 0.020233 51.977sec(train) 22.261sec(infer)\n"
     ]
    },
    {
     "name": "stdout",
     "output_type": "stream",
     "text": [
      "Epoch 423 tst: l 0.974 a 0.748 clct[np.int64(20), np.int64(20)] clct_ans[np.int64(20), np.int64(20)] cl_acc1.000  3.798sec\n"
     ]
    },
    {
     "name": "stdout",
     "output_type": "stream",
     "text": [
      "Epoch 424 tr: l 0.742 a 0.780 clct[np.int64(49), np.int64(51)] clct_ans[np.int64(49), np.int64(51)] cl_acc1.000  lr 0.020223 51.888sec(train) 23.372sec(infer)\n"
     ]
    },
    {
     "name": "stdout",
     "output_type": "stream",
     "text": [
      "Epoch 424 tst: l 0.974 a 0.750 clct[np.int64(20), np.int64(20)] clct_ans[np.int64(20), np.int64(20)] cl_acc1.000  3.769sec\n"
     ]
    },
    {
     "name": "stdout",
     "output_type": "stream",
     "text": [
      "Epoch 425 tr: l 0.756 a 0.776 clct[np.int64(45), np.int64(55)] clct_ans[np.int64(45), np.int64(55)] cl_acc1.000  lr 0.020213 50.706sec(train) 22.427sec(infer)\n"
     ]
    },
    {
     "name": "stdout",
     "output_type": "stream",
     "text": [
      "Epoch 425 tst: l 0.973 a 0.748 clct[np.int64(20), np.int64(20)] clct_ans[np.int64(20), np.int64(20)] cl_acc1.000  3.802sec\n"
     ]
    },
    {
     "name": "stdout",
     "output_type": "stream",
     "text": [
      "Epoch 426 tr: l 0.755 a 0.778 clct[np.int64(55), np.int64(45)] clct_ans[np.int64(55), np.int64(45)] cl_acc1.000  lr 0.020203 50.947sec(train) 21.894sec(infer)\n"
     ]
    },
    {
     "name": "stdout",
     "output_type": "stream",
     "text": [
      "Epoch 426 tst: l 0.975 a 0.748 clct[np.int64(20), np.int64(20)] clct_ans[np.int64(20), np.int64(20)] cl_acc1.000  3.526sec\n"
     ]
    },
    {
     "name": "stdout",
     "output_type": "stream",
     "text": [
      "Epoch 427 tr: l 0.769 a 0.772 clct[np.int64(55), np.int64(45)] clct_ans[np.int64(55), np.int64(45)] cl_acc1.000  lr 0.020193 51.626sec(train) 21.978sec(infer)\n"
     ]
    },
    {
     "name": "stdout",
     "output_type": "stream",
     "text": [
      "Epoch 427 tst: l 0.973 a 0.747 clct[np.int64(20), np.int64(20)] clct_ans[np.int64(20), np.int64(20)] cl_acc1.000  3.493sec\n"
     ]
    },
    {
     "name": "stdout",
     "output_type": "stream",
     "text": [
      "Epoch 428 tr: l 0.775 a 0.773 clct[np.int64(54), np.int64(46)] clct_ans[np.int64(54), np.int64(46)] cl_acc1.000  lr 0.020183 50.366sec(train) 22.488sec(infer)\n"
     ]
    },
    {
     "name": "stdout",
     "output_type": "stream",
     "text": [
      "Epoch 428 tst: l 0.975 a 0.748 clct[np.int64(20), np.int64(20)] clct_ans[np.int64(20), np.int64(20)] cl_acc1.000  3.462sec\n"
     ]
    },
    {
     "name": "stdout",
     "output_type": "stream",
     "text": [
      "Epoch 429 tr: l 0.765 a 0.775 clct[np.int64(50), np.int64(50)] clct_ans[np.int64(50), np.int64(50)] cl_acc1.000  lr 0.020173 50.401sec(train) 22.560sec(infer)\n"
     ]
    },
    {
     "name": "stdout",
     "output_type": "stream",
     "text": [
      "Epoch 429 tst: l 0.979 a 0.748 clct[np.int64(20), np.int64(20)] clct_ans[np.int64(20), np.int64(20)] cl_acc1.000  3.267sec\n"
     ]
    },
    {
     "name": "stdout",
     "output_type": "stream",
     "text": [
      "Epoch 430 tr: l 0.752 a 0.779 clct[np.int64(44), np.int64(56)] clct_ans[np.int64(44), np.int64(56)] cl_acc1.000  lr 0.020162 50.345sec(train) 21.004sec(infer)\n"
     ]
    },
    {
     "name": "stdout",
     "output_type": "stream",
     "text": [
      "Epoch 430 tst: l 0.979 a 0.748 clct[np.int64(20), np.int64(20)] clct_ans[np.int64(20), np.int64(20)] cl_acc1.000  3.388sec\n",
      "result written at output_dfca_gi/results.pickle\n"
     ]
    },
    {
     "name": "stdout",
     "output_type": "stream",
     "text": [
      "checkpoint written at output_dfca_gi/checkpoint.pt\n"
     ]
    },
    {
     "name": "stdout",
     "output_type": "stream",
     "text": [
      "Epoch 431 tr: l 0.780 a 0.772 clct[np.int64(49), np.int64(51)] clct_ans[np.int64(49), np.int64(51)] cl_acc1.000  lr 0.020152 49.810sec(train) 21.645sec(infer)\n"
     ]
    },
    {
     "name": "stdout",
     "output_type": "stream",
     "text": [
      "Epoch 431 tst: l 0.979 a 0.748 clct[np.int64(20), np.int64(20)] clct_ans[np.int64(20), np.int64(20)] cl_acc1.000  4.127sec\n"
     ]
    },
    {
     "name": "stdout",
     "output_type": "stream",
     "text": [
      "Epoch 432 tr: l 0.748 a 0.778 clct[np.int64(48), np.int64(52)] clct_ans[np.int64(48), np.int64(52)] cl_acc1.000  lr 0.020142 50.231sec(train) 21.213sec(infer)\n"
     ]
    },
    {
     "name": "stdout",
     "output_type": "stream",
     "text": [
      "Epoch 432 tst: l 0.980 a 0.748 clct[np.int64(20), np.int64(20)] clct_ans[np.int64(20), np.int64(20)] cl_acc1.000  3.315sec\n"
     ]
    },
    {
     "name": "stdout",
     "output_type": "stream",
     "text": [
      "Epoch 433 tr: l 0.760 a 0.778 clct[np.int64(49), np.int64(51)] clct_ans[np.int64(49), np.int64(51)] cl_acc1.000  lr 0.020132 50.072sec(train) 21.138sec(infer)\n"
     ]
    },
    {
     "name": "stdout",
     "output_type": "stream",
     "text": [
      "Epoch 433 tst: l 0.984 a 0.748 clct[np.int64(20), np.int64(20)] clct_ans[np.int64(20), np.int64(20)] cl_acc1.000  3.567sec\n"
     ]
    },
    {
     "name": "stdout",
     "output_type": "stream",
     "text": [
      "Epoch 434 tr: l 0.763 a 0.774 clct[np.int64(52), np.int64(48)] clct_ans[np.int64(52), np.int64(48)] cl_acc1.000  lr 0.020122 50.126sec(train) 21.649sec(infer)\n"
     ]
    },
    {
     "name": "stdout",
     "output_type": "stream",
     "text": [
      "Epoch 434 tst: l 0.982 a 0.748 clct[np.int64(20), np.int64(20)] clct_ans[np.int64(20), np.int64(20)] cl_acc1.000  3.288sec\n"
     ]
    },
    {
     "name": "stdout",
     "output_type": "stream",
     "text": [
      "Epoch 435 tr: l 0.755 a 0.777 clct[np.int64(58), np.int64(42)] clct_ans[np.int64(58), np.int64(42)] cl_acc1.000  lr 0.020112 50.121sec(train) 21.846sec(infer)\n"
     ]
    },
    {
     "name": "stdout",
     "output_type": "stream",
     "text": [
      "Epoch 435 tst: l 0.978 a 0.749 clct[np.int64(20), np.int64(20)] clct_ans[np.int64(20), np.int64(20)] cl_acc1.000  3.487sec\n"
     ]
    },
    {
     "name": "stdout",
     "output_type": "stream",
     "text": [
      "Epoch 436 tr: l 0.754 a 0.777 clct[np.int64(53), np.int64(47)] clct_ans[np.int64(53), np.int64(47)] cl_acc1.000  lr 0.020102 48.766sec(train) 22.312sec(infer)\n"
     ]
    },
    {
     "name": "stdout",
     "output_type": "stream",
     "text": [
      "Epoch 436 tst: l 0.979 a 0.750 clct[np.int64(20), np.int64(20)] clct_ans[np.int64(20), np.int64(20)] cl_acc1.000  3.486sec\n"
     ]
    },
    {
     "name": "stdout",
     "output_type": "stream",
     "text": [
      "Epoch 437 tr: l 0.745 a 0.778 clct[np.int64(53), np.int64(47)] clct_ans[np.int64(53), np.int64(47)] cl_acc1.000  lr 0.020092 48.787sec(train) 22.184sec(infer)\n"
     ]
    },
    {
     "name": "stdout",
     "output_type": "stream",
     "text": [
      "Epoch 437 tst: l 0.981 a 0.749 clct[np.int64(20), np.int64(20)] clct_ans[np.int64(20), np.int64(20)] cl_acc1.000  4.135sec\n"
     ]
    },
    {
     "name": "stdout",
     "output_type": "stream",
     "text": [
      "Epoch 438 tr: l 0.775 a 0.772 clct[np.int64(54), np.int64(46)] clct_ans[np.int64(54), np.int64(46)] cl_acc1.000  lr 0.020082 40.840sec(train) 21.891sec(infer)\n"
     ]
    },
    {
     "name": "stdout",
     "output_type": "stream",
     "text": [
      "Epoch 438 tst: l 0.982 a 0.749 clct[np.int64(20), np.int64(20)] clct_ans[np.int64(20), np.int64(20)] cl_acc1.000  4.177sec\n"
     ]
    },
    {
     "name": "stdout",
     "output_type": "stream",
     "text": [
      "Epoch 439 tr: l 0.755 a 0.777 clct[np.int64(50), np.int64(50)] clct_ans[np.int64(50), np.int64(50)] cl_acc1.000  lr 0.020072 49.342sec(train) 21.707sec(infer)\n"
     ]
    },
    {
     "name": "stdout",
     "output_type": "stream",
     "text": [
      "Epoch 439 tst: l 0.982 a 0.750 clct[np.int64(20), np.int64(20)] clct_ans[np.int64(20), np.int64(20)] cl_acc1.000  3.720sec\n"
     ]
    },
    {
     "name": "stdout",
     "output_type": "stream",
     "text": [
      "Epoch 440 tr: l 0.766 a 0.776 clct[np.int64(45), np.int64(55)] clct_ans[np.int64(45), np.int64(55)] cl_acc1.000  lr 0.020062 49.404sec(train) 21.749sec(infer)\n"
     ]
    },
    {
     "name": "stdout",
     "output_type": "stream",
     "text": [
      "Epoch 440 tst: l 0.983 a 0.749 clct[np.int64(20), np.int64(20)] clct_ans[np.int64(20), np.int64(20)] cl_acc1.000  3.611sec\n",
      "result written at output_dfca_gi/results.pickle\n",
      "checkpoint written at output_dfca_gi/checkpoint.pt\n"
     ]
    },
    {
     "name": "stdout",
     "output_type": "stream",
     "text": [
      "Epoch 441 tr: l 0.761 a 0.778 clct[np.int64(50), np.int64(50)] clct_ans[np.int64(50), np.int64(50)] cl_acc1.000  lr 0.020052 49.821sec(train) 21.746sec(infer)\n"
     ]
    },
    {
     "name": "stdout",
     "output_type": "stream",
     "text": [
      "Epoch 441 tst: l 0.985 a 0.749 clct[np.int64(20), np.int64(20)] clct_ans[np.int64(20), np.int64(20)] cl_acc1.000  3.521sec\n"
     ]
    },
    {
     "name": "stdout",
     "output_type": "stream",
     "text": [
      "Epoch 442 tr: l 0.757 a 0.778 clct[np.int64(46), np.int64(54)] clct_ans[np.int64(46), np.int64(54)] cl_acc1.000  lr 0.020042 49.564sec(train) 22.124sec(infer)\n"
     ]
    },
    {
     "name": "stdout",
     "output_type": "stream",
     "text": [
      "Epoch 442 tst: l 0.986 a 0.747 clct[np.int64(20), np.int64(20)] clct_ans[np.int64(20), np.int64(20)] cl_acc1.000  3.514sec\n"
     ]
    },
    {
     "name": "stdout",
     "output_type": "stream",
     "text": [
      "Epoch 443 tr: l 0.773 a 0.774 clct[np.int64(46), np.int64(54)] clct_ans[np.int64(46), np.int64(54)] cl_acc1.000  lr 0.020032 49.532sec(train) 22.866sec(infer)\n"
     ]
    },
    {
     "name": "stdout",
     "output_type": "stream",
     "text": [
      "Epoch 443 tst: l 0.987 a 0.748 clct[np.int64(20), np.int64(20)] clct_ans[np.int64(20), np.int64(20)] cl_acc1.000  3.474sec\n"
     ]
    },
    {
     "name": "stdout",
     "output_type": "stream",
     "text": [
      "Epoch 444 tr: l 0.753 a 0.779 clct[np.int64(52), np.int64(48)] clct_ans[np.int64(52), np.int64(48)] cl_acc1.000  lr 0.020022 48.853sec(train) 23.178sec(infer)\n"
     ]
    },
    {
     "name": "stdout",
     "output_type": "stream",
     "text": [
      "Epoch 444 tst: l 0.989 a 0.748 clct[np.int64(20), np.int64(20)] clct_ans[np.int64(20), np.int64(20)] cl_acc1.000  3.402sec\n"
     ]
    },
    {
     "name": "stdout",
     "output_type": "stream",
     "text": [
      "Epoch 445 tr: l 0.757 a 0.778 clct[np.int64(43), np.int64(57)] clct_ans[np.int64(43), np.int64(57)] cl_acc1.000  lr 0.020012 48.262sec(train) 22.445sec(infer)\n"
     ]
    },
    {
     "name": "stdout",
     "output_type": "stream",
     "text": [
      "Epoch 445 tst: l 0.989 a 0.748 clct[np.int64(20), np.int64(20)] clct_ans[np.int64(20), np.int64(20)] cl_acc1.000  4.352sec\n"
     ]
    },
    {
     "name": "stdout",
     "output_type": "stream",
     "text": [
      "Epoch 446 tr: l 0.769 a 0.777 clct[np.int64(52), np.int64(48)] clct_ans[np.int64(52), np.int64(48)] cl_acc1.000  lr 0.020002 49.027sec(train) 22.016sec(infer)\n"
     ]
    },
    {
     "name": "stdout",
     "output_type": "stream",
     "text": [
      "Epoch 446 tst: l 0.994 a 0.747 clct[np.int64(20), np.int64(20)] clct_ans[np.int64(20), np.int64(20)] cl_acc1.000  3.723sec\n"
     ]
    },
    {
     "name": "stdout",
     "output_type": "stream",
     "text": [
      "Epoch 447 tr: l 0.764 a 0.778 clct[np.int64(48), np.int64(52)] clct_ans[np.int64(48), np.int64(52)] cl_acc1.000  lr 0.019992 50.161sec(train) 21.781sec(infer)\n"
     ]
    },
    {
     "name": "stdout",
     "output_type": "stream",
     "text": [
      "Epoch 447 tst: l 0.988 a 0.747 clct[np.int64(20), np.int64(20)] clct_ans[np.int64(20), np.int64(20)] cl_acc1.000  3.819sec\n"
     ]
    },
    {
     "name": "stdout",
     "output_type": "stream",
     "text": [
      "Epoch 448 tr: l 0.776 a 0.773 clct[np.int64(50), np.int64(50)] clct_ans[np.int64(50), np.int64(50)] cl_acc1.000  lr 0.019982 50.663sec(train) 22.228sec(infer)\n"
     ]
    },
    {
     "name": "stdout",
     "output_type": "stream",
     "text": [
      "Epoch 448 tst: l 0.988 a 0.749 clct[np.int64(20), np.int64(20)] clct_ans[np.int64(20), np.int64(20)] cl_acc1.000  3.749sec\n"
     ]
    },
    {
     "name": "stdout",
     "output_type": "stream",
     "text": [
      "Epoch 449 tr: l 0.761 a 0.776 clct[np.int64(55), np.int64(45)] clct_ans[np.int64(55), np.int64(45)] cl_acc1.000  lr 0.019972 50.241sec(train) 23.529sec(infer)\n"
     ]
    },
    {
     "name": "stdout",
     "output_type": "stream",
     "text": [
      "Epoch 449 tst: l 0.991 a 0.749 clct[np.int64(20), np.int64(20)] clct_ans[np.int64(20), np.int64(20)] cl_acc1.000  4.352sec\n"
     ]
    },
    {
     "name": "stdout",
     "output_type": "stream",
     "text": [
      "Epoch 450 tr: l 0.767 a 0.778 clct[np.int64(53), np.int64(47)] clct_ans[np.int64(53), np.int64(47)] cl_acc1.000  lr 0.019962 49.566sec(train) 22.474sec(infer)\n"
     ]
    },
    {
     "name": "stdout",
     "output_type": "stream",
     "text": [
      "Epoch 450 tst: l 0.988 a 0.749 clct[np.int64(20), np.int64(20)] clct_ans[np.int64(20), np.int64(20)] cl_acc1.000  3.704sec\n",
      "result written at output_dfca_gi/results.pickle\n"
     ]
    },
    {
     "name": "stdout",
     "output_type": "stream",
     "text": [
      "checkpoint written at output_dfca_gi/checkpoint.pt\n"
     ]
    },
    {
     "name": "stdout",
     "output_type": "stream",
     "text": [
      "Epoch 451 tr: l 0.754 a 0.779 clct[np.int64(48), np.int64(52)] clct_ans[np.int64(48), np.int64(52)] cl_acc1.000  lr 0.019952 52.412sec(train) 22.975sec(infer)\n"
     ]
    },
    {
     "name": "stdout",
     "output_type": "stream",
     "text": [
      "Epoch 451 tst: l 0.987 a 0.750 clct[np.int64(20), np.int64(20)] clct_ans[np.int64(20), np.int64(20)] cl_acc1.000  3.831sec\n"
     ]
    },
    {
     "name": "stdout",
     "output_type": "stream",
     "text": [
      "Epoch 452 tr: l 0.748 a 0.782 clct[np.int64(50), np.int64(50)] clct_ans[np.int64(50), np.int64(50)] cl_acc1.000  lr 0.019942 48.934sec(train) 22.569sec(infer)\n"
     ]
    },
    {
     "name": "stdout",
     "output_type": "stream",
     "text": [
      "Epoch 452 tst: l 0.992 a 0.750 clct[np.int64(20), np.int64(20)] clct_ans[np.int64(20), np.int64(20)] cl_acc1.000  4.150sec\n"
     ]
    },
    {
     "name": "stdout",
     "output_type": "stream",
     "text": [
      "Epoch 453 tr: l 0.756 a 0.778 clct[np.int64(48), np.int64(52)] clct_ans[np.int64(48), np.int64(52)] cl_acc1.000  lr 0.019932 54.276sec(train) 22.231sec(infer)\n"
     ]
    },
    {
     "name": "stdout",
     "output_type": "stream",
     "text": [
      "Epoch 453 tst: l 0.993 a 0.748 clct[np.int64(20), np.int64(20)] clct_ans[np.int64(20), np.int64(20)] cl_acc1.000  3.707sec\n"
     ]
    },
    {
     "name": "stdout",
     "output_type": "stream",
     "text": [
      "Epoch 454 tr: l 0.736 a 0.783 clct[np.int64(44), np.int64(56)] clct_ans[np.int64(44), np.int64(56)] cl_acc1.000  lr 0.019922 49.397sec(train) 23.213sec(infer)\n"
     ]
    },
    {
     "name": "stdout",
     "output_type": "stream",
     "text": [
      "Epoch 454 tst: l 0.994 a 0.749 clct[np.int64(20), np.int64(20)] clct_ans[np.int64(20), np.int64(20)] cl_acc1.000  4.067sec\n"
     ]
    },
    {
     "name": "stdout",
     "output_type": "stream",
     "text": [
      "Epoch 455 tr: l 0.756 a 0.777 clct[np.int64(46), np.int64(54)] clct_ans[np.int64(46), np.int64(54)] cl_acc1.000  lr 0.019912 52.144sec(train) 22.367sec(infer)\n"
     ]
    },
    {
     "name": "stdout",
     "output_type": "stream",
     "text": [
      "Epoch 455 tst: l 0.992 a 0.748 clct[np.int64(20), np.int64(20)] clct_ans[np.int64(20), np.int64(20)] cl_acc1.000  3.824sec\n"
     ]
    },
    {
     "name": "stdout",
     "output_type": "stream",
     "text": [
      "Epoch 456 tr: l 0.769 a 0.777 clct[np.int64(51), np.int64(49)] clct_ans[np.int64(51), np.int64(49)] cl_acc1.000  lr 0.019902 50.218sec(train) 23.935sec(infer)\n"
     ]
    },
    {
     "name": "stdout",
     "output_type": "stream",
     "text": [
      "Epoch 456 tst: l 0.992 a 0.748 clct[np.int64(20), np.int64(20)] clct_ans[np.int64(20), np.int64(20)] cl_acc1.000  3.779sec\n"
     ]
    },
    {
     "name": "stdout",
     "output_type": "stream",
     "text": [
      "Epoch 457 tr: l 0.765 a 0.777 clct[np.int64(49), np.int64(51)] clct_ans[np.int64(49), np.int64(51)] cl_acc1.000  lr 0.019892 49.482sec(train) 22.362sec(infer)\n"
     ]
    },
    {
     "name": "stdout",
     "output_type": "stream",
     "text": [
      "Epoch 457 tst: l 0.991 a 0.748 clct[np.int64(20), np.int64(20)] clct_ans[np.int64(20), np.int64(20)] cl_acc1.000  3.814sec\n"
     ]
    },
    {
     "name": "stdout",
     "output_type": "stream",
     "text": [
      "Epoch 458 tr: l 0.751 a 0.780 clct[np.int64(51), np.int64(49)] clct_ans[np.int64(51), np.int64(49)] cl_acc1.000  lr 0.019882 54.841sec(train) 22.371sec(infer)\n"
     ]
    },
    {
     "name": "stdout",
     "output_type": "stream",
     "text": [
      "Epoch 458 tst: l 0.992 a 0.748 clct[np.int64(20), np.int64(20)] clct_ans[np.int64(20), np.int64(20)] cl_acc1.000  3.735sec\n"
     ]
    },
    {
     "name": "stdout",
     "output_type": "stream",
     "text": [
      "Epoch 459 tr: l 0.752 a 0.781 clct[np.int64(52), np.int64(48)] clct_ans[np.int64(52), np.int64(48)] cl_acc1.000  lr 0.019872 48.752sec(train) 22.230sec(infer)\n"
     ]
    },
    {
     "name": "stdout",
     "output_type": "stream",
     "text": [
      "Epoch 459 tst: l 0.993 a 0.749 clct[np.int64(20), np.int64(20)] clct_ans[np.int64(20), np.int64(20)] cl_acc1.000  3.787sec\n"
     ]
    },
    {
     "name": "stdout",
     "output_type": "stream",
     "text": [
      "Epoch 460 tr: l 0.759 a 0.779 clct[np.int64(45), np.int64(55)] clct_ans[np.int64(45), np.int64(55)] cl_acc1.000  lr 0.019862 49.742sec(train) 21.579sec(infer)\n"
     ]
    },
    {
     "name": "stdout",
     "output_type": "stream",
     "text": [
      "Epoch 460 tst: l 0.993 a 0.749 clct[np.int64(20), np.int64(20)] clct_ans[np.int64(20), np.int64(20)] cl_acc1.000  3.673sec\n",
      "result written at output_dfca_gi/results.pickle\n",
      "checkpoint written at output_dfca_gi/checkpoint.pt\n"
     ]
    },
    {
     "name": "stdout",
     "output_type": "stream",
     "text": [
      "Epoch 461 tr: l 0.743 a 0.784 clct[np.int64(54), np.int64(46)] clct_ans[np.int64(54), np.int64(46)] cl_acc1.000  lr 0.019852 51.659sec(train) 21.533sec(infer)\n"
     ]
    },
    {
     "name": "stdout",
     "output_type": "stream",
     "text": [
      "Epoch 461 tst: l 0.993 a 0.750 clct[np.int64(20), np.int64(20)] clct_ans[np.int64(20), np.int64(20)] cl_acc1.000  3.497sec\n"
     ]
    },
    {
     "name": "stdout",
     "output_type": "stream",
     "text": [
      "Epoch 462 tr: l 0.758 a 0.779 clct[np.int64(55), np.int64(45)] clct_ans[np.int64(55), np.int64(45)] cl_acc1.000  lr 0.019842 50.861sec(train) 21.622sec(infer)\n"
     ]
    },
    {
     "name": "stdout",
     "output_type": "stream",
     "text": [
      "Epoch 462 tst: l 0.996 a 0.750 clct[np.int64(20), np.int64(20)] clct_ans[np.int64(20), np.int64(20)] cl_acc1.000  3.498sec\n"
     ]
    },
    {
     "name": "stdout",
     "output_type": "stream",
     "text": [
      "Epoch 463 tr: l 0.740 a 0.783 clct[np.int64(46), np.int64(54)] clct_ans[np.int64(46), np.int64(54)] cl_acc1.000  lr 0.019832 50.642sec(train) 21.510sec(infer)\n"
     ]
    },
    {
     "name": "stdout",
     "output_type": "stream",
     "text": [
      "Epoch 463 tst: l 0.998 a 0.750 clct[np.int64(20), np.int64(20)] clct_ans[np.int64(20), np.int64(20)] cl_acc1.000  3.438sec\n"
     ]
    },
    {
     "name": "stdout",
     "output_type": "stream",
     "text": [
      "Epoch 464 tr: l 0.771 a 0.777 clct[np.int64(58), np.int64(42)] clct_ans[np.int64(58), np.int64(42)] cl_acc1.000  lr 0.019823 52.171sec(train) 21.491sec(infer)\n"
     ]
    },
    {
     "name": "stdout",
     "output_type": "stream",
     "text": [
      "Epoch 464 tst: l 0.998 a 0.749 clct[np.int64(20), np.int64(20)] clct_ans[np.int64(20), np.int64(20)] cl_acc1.000  3.436sec\n"
     ]
    },
    {
     "name": "stdout",
     "output_type": "stream",
     "text": [
      "Epoch 465 tr: l 0.758 a 0.778 clct[np.int64(53), np.int64(47)] clct_ans[np.int64(53), np.int64(47)] cl_acc1.000  lr 0.019813 50.926sec(train) 22.004sec(infer)\n"
     ]
    },
    {
     "name": "stdout",
     "output_type": "stream",
     "text": [
      "Epoch 465 tst: l 0.997 a 0.750 clct[np.int64(20), np.int64(20)] clct_ans[np.int64(20), np.int64(20)] cl_acc1.000  3.472sec\n"
     ]
    },
    {
     "name": "stdout",
     "output_type": "stream",
     "text": [
      "Epoch 466 tr: l 0.775 a 0.776 clct[np.int64(44), np.int64(56)] clct_ans[np.int64(44), np.int64(56)] cl_acc1.000  lr 0.019803 49.123sec(train) 22.413sec(infer)\n"
     ]
    },
    {
     "name": "stdout",
     "output_type": "stream",
     "text": [
      "Epoch 466 tst: l 1.000 a 0.749 clct[np.int64(20), np.int64(20)] clct_ans[np.int64(20), np.int64(20)] cl_acc1.000  3.497sec\n"
     ]
    },
    {
     "name": "stdout",
     "output_type": "stream",
     "text": [
      "Epoch 467 tr: l 0.746 a 0.780 clct[np.int64(46), np.int64(54)] clct_ans[np.int64(46), np.int64(54)] cl_acc1.000  lr 0.019793 49.167sec(train) 22.753sec(infer)\n"
     ]
    },
    {
     "name": "stdout",
     "output_type": "stream",
     "text": [
      "Epoch 467 tst: l 1.002 a 0.749 clct[np.int64(20), np.int64(20)] clct_ans[np.int64(20), np.int64(20)] cl_acc1.000  3.523sec\n"
     ]
    },
    {
     "name": "stdout",
     "output_type": "stream",
     "text": [
      "Epoch 468 tr: l 0.759 a 0.780 clct[np.int64(49), np.int64(51)] clct_ans[np.int64(49), np.int64(51)] cl_acc1.000  lr 0.019783 49.944sec(train) 22.950sec(infer)\n"
     ]
    },
    {
     "name": "stdout",
     "output_type": "stream",
     "text": [
      "Epoch 468 tst: l 1.000 a 0.748 clct[np.int64(20), np.int64(20)] clct_ans[np.int64(20), np.int64(20)] cl_acc1.000  3.987sec\n"
     ]
    },
    {
     "name": "stdout",
     "output_type": "stream",
     "text": [
      "Epoch 469 tr: l 0.760 a 0.779 clct[np.int64(59), np.int64(41)] clct_ans[np.int64(59), np.int64(41)] cl_acc1.000  lr 0.019773 60.377sec(train) 23.357sec(infer)\n"
     ]
    },
    {
     "name": "stdout",
     "output_type": "stream",
     "text": [
      "Epoch 469 tst: l 0.997 a 0.748 clct[np.int64(20), np.int64(20)] clct_ans[np.int64(20), np.int64(20)] cl_acc1.000  3.982sec\n"
     ]
    },
    {
     "name": "stdout",
     "output_type": "stream",
     "text": [
      "Epoch 470 tr: l 0.760 a 0.778 clct[np.int64(50), np.int64(50)] clct_ans[np.int64(50), np.int64(50)] cl_acc1.000  lr 0.019763 50.831sec(train) 23.103sec(infer)\n"
     ]
    },
    {
     "name": "stdout",
     "output_type": "stream",
     "text": [
      "Epoch 470 tst: l 1.002 a 0.748 clct[np.int64(20), np.int64(20)] clct_ans[np.int64(20), np.int64(20)] cl_acc1.000  4.175sec\n",
      "result written at output_dfca_gi/results.pickle\n",
      "checkpoint written at output_dfca_gi/checkpoint.pt\n"
     ]
    },
    {
     "name": "stdout",
     "output_type": "stream",
     "text": [
      "Epoch 471 tr: l 0.762 a 0.778 clct[np.int64(50), np.int64(50)] clct_ans[np.int64(50), np.int64(50)] cl_acc1.000  lr 0.019753 51.590sec(train) 23.505sec(infer)\n"
     ]
    },
    {
     "name": "stdout",
     "output_type": "stream",
     "text": [
      "Epoch 471 tst: l 0.997 a 0.748 clct[np.int64(20), np.int64(20)] clct_ans[np.int64(20), np.int64(20)] cl_acc1.000  3.776sec\n"
     ]
    },
    {
     "name": "stdout",
     "output_type": "stream",
     "text": [
      "Epoch 472 tr: l 0.755 a 0.781 clct[np.int64(48), np.int64(52)] clct_ans[np.int64(48), np.int64(52)] cl_acc1.000  lr 0.019743 49.903sec(train) 22.177sec(infer)\n"
     ]
    },
    {
     "name": "stdout",
     "output_type": "stream",
     "text": [
      "Epoch 472 tst: l 0.998 a 0.747 clct[np.int64(20), np.int64(20)] clct_ans[np.int64(20), np.int64(20)] cl_acc1.000  3.725sec\n"
     ]
    },
    {
     "name": "stdout",
     "output_type": "stream",
     "text": [
      "Epoch 473 tr: l 0.745 a 0.782 clct[np.int64(49), np.int64(51)] clct_ans[np.int64(49), np.int64(51)] cl_acc1.000  lr 0.019733 54.331sec(train) 22.407sec(infer)\n"
     ]
    },
    {
     "name": "stdout",
     "output_type": "stream",
     "text": [
      "Epoch 473 tst: l 0.998 a 0.749 clct[np.int64(20), np.int64(20)] clct_ans[np.int64(20), np.int64(20)] cl_acc1.000  3.718sec\n"
     ]
    },
    {
     "name": "stdout",
     "output_type": "stream",
     "text": [
      "Epoch 474 tr: l 0.741 a 0.783 clct[np.int64(54), np.int64(46)] clct_ans[np.int64(54), np.int64(46)] cl_acc1.000  lr 0.019724 49.179sec(train) 22.729sec(infer)\n"
     ]
    },
    {
     "name": "stdout",
     "output_type": "stream",
     "text": [
      "Epoch 474 tst: l 1.001 a 0.750 clct[np.int64(20), np.int64(20)] clct_ans[np.int64(20), np.int64(20)] cl_acc1.000  4.164sec\n"
     ]
    },
    {
     "name": "stdout",
     "output_type": "stream",
     "text": [
      "Epoch 475 tr: l 0.767 a 0.778 clct[np.int64(55), np.int64(45)] clct_ans[np.int64(55), np.int64(45)] cl_acc1.000  lr 0.019714 53.050sec(train) 22.147sec(infer)\n"
     ]
    },
    {
     "name": "stdout",
     "output_type": "stream",
     "text": [
      "Epoch 475 tst: l 1.004 a 0.750 clct[np.int64(20), np.int64(20)] clct_ans[np.int64(20), np.int64(20)] cl_acc1.000  3.822sec\n"
     ]
    },
    {
     "name": "stdout",
     "output_type": "stream",
     "text": [
      "Epoch 476 tr: l 0.751 a 0.783 clct[np.int64(52), np.int64(48)] clct_ans[np.int64(52), np.int64(48)] cl_acc1.000  lr 0.019704 50.187sec(train) 23.029sec(infer)\n"
     ]
    },
    {
     "name": "stdout",
     "output_type": "stream",
     "text": [
      "Epoch 476 tst: l 1.001 a 0.750 clct[np.int64(20), np.int64(20)] clct_ans[np.int64(20), np.int64(20)] cl_acc1.000  4.415sec\n"
     ]
    },
    {
     "name": "stdout",
     "output_type": "stream",
     "text": [
      "Epoch 477 tr: l 0.762 a 0.781 clct[np.int64(50), np.int64(50)] clct_ans[np.int64(50), np.int64(50)] cl_acc1.000  lr 0.019694 50.089sec(train) 22.079sec(infer)\n"
     ]
    },
    {
     "name": "stdout",
     "output_type": "stream",
     "text": [
      "Epoch 477 tst: l 1.004 a 0.749 clct[np.int64(20), np.int64(20)] clct_ans[np.int64(20), np.int64(20)] cl_acc1.000  3.743sec\n"
     ]
    },
    {
     "name": "stdout",
     "output_type": "stream",
     "text": [
      "Epoch 478 tr: l 0.766 a 0.780 clct[np.int64(48), np.int64(52)] clct_ans[np.int64(48), np.int64(52)] cl_acc1.000  lr 0.019684 52.502sec(train) 23.419sec(infer)\n"
     ]
    },
    {
     "name": "stdout",
     "output_type": "stream",
     "text": [
      "Epoch 478 tst: l 1.004 a 0.749 clct[np.int64(20), np.int64(20)] clct_ans[np.int64(20), np.int64(20)] cl_acc1.000  3.757sec\n"
     ]
    },
    {
     "name": "stdout",
     "output_type": "stream",
     "text": [
      "Epoch 479 tr: l 0.751 a 0.782 clct[np.int64(52), np.int64(48)] clct_ans[np.int64(52), np.int64(48)] cl_acc1.000  lr 0.019674 49.396sec(train) 22.180sec(infer)\n"
     ]
    },
    {
     "name": "stdout",
     "output_type": "stream",
     "text": [
      "Epoch 479 tst: l 1.005 a 0.749 clct[np.int64(20), np.int64(20)] clct_ans[np.int64(20), np.int64(20)] cl_acc1.000  3.911sec\n"
     ]
    },
    {
     "name": "stdout",
     "output_type": "stream",
     "text": [
      "Epoch 480 tr: l 0.761 a 0.780 clct[np.int64(55), np.int64(45)] clct_ans[np.int64(55), np.int64(45)] cl_acc1.000  lr 0.019665 50.242sec(train) 21.547sec(infer)\n"
     ]
    },
    {
     "name": "stdout",
     "output_type": "stream",
     "text": [
      "Epoch 480 tst: l 1.007 a 0.748 clct[np.int64(20), np.int64(20)] clct_ans[np.int64(20), np.int64(20)] cl_acc1.000  3.781sec\n",
      "result written at output_dfca_gi/results.pickle\n",
      "checkpoint written at output_dfca_gi/checkpoint.pt\n"
     ]
    },
    {
     "name": "stdout",
     "output_type": "stream",
     "text": [
      "Epoch 481 tr: l 0.742 a 0.783 clct[np.int64(50), np.int64(50)] clct_ans[np.int64(50), np.int64(50)] cl_acc1.000  lr 0.019655 50.511sec(train) 21.528sec(infer)\n"
     ]
    },
    {
     "name": "stdout",
     "output_type": "stream",
     "text": [
      "Epoch 481 tst: l 1.006 a 0.749 clct[np.int64(20), np.int64(20)] clct_ans[np.int64(20), np.int64(20)] cl_acc1.000  3.586sec\n"
     ]
    },
    {
     "name": "stdout",
     "output_type": "stream",
     "text": [
      "Epoch 482 tr: l 0.737 a 0.783 clct[np.int64(48), np.int64(52)] clct_ans[np.int64(48), np.int64(52)] cl_acc1.000  lr 0.019645 50.594sec(train) 21.571sec(infer)\n"
     ]
    },
    {
     "name": "stdout",
     "output_type": "stream",
     "text": [
      "Epoch 482 tst: l 1.007 a 0.748 clct[np.int64(20), np.int64(20)] clct_ans[np.int64(20), np.int64(20)] cl_acc1.000  3.546sec\n"
     ]
    },
    {
     "name": "stdout",
     "output_type": "stream",
     "text": [
      "Epoch 483 tr: l 0.753 a 0.781 clct[np.int64(48), np.int64(52)] clct_ans[np.int64(48), np.int64(52)] cl_acc1.000  lr 0.019635 50.124sec(train) 21.885sec(infer)\n"
     ]
    },
    {
     "name": "stdout",
     "output_type": "stream",
     "text": [
      "Epoch 483 tst: l 1.008 a 0.748 clct[np.int64(20), np.int64(20)] clct_ans[np.int64(20), np.int64(20)] cl_acc1.000  3.534sec\n"
     ]
    },
    {
     "name": "stdout",
     "output_type": "stream",
     "text": [
      "Epoch 484 tr: l 0.765 a 0.778 clct[np.int64(53), np.int64(47)] clct_ans[np.int64(53), np.int64(47)] cl_acc1.000  lr 0.019625 48.727sec(train) 22.660sec(infer)\n"
     ]
    },
    {
     "name": "stdout",
     "output_type": "stream",
     "text": [
      "Epoch 484 tst: l 1.008 a 0.748 clct[np.int64(20), np.int64(20)] clct_ans[np.int64(20), np.int64(20)] cl_acc1.000  3.499sec\n"
     ]
    },
    {
     "name": "stdout",
     "output_type": "stream",
     "text": [
      "Epoch 485 tr: l 0.749 a 0.784 clct[np.int64(48), np.int64(52)] clct_ans[np.int64(48), np.int64(52)] cl_acc1.000  lr 0.019615 48.401sec(train) 22.512sec(infer)\n"
     ]
    },
    {
     "name": "stdout",
     "output_type": "stream",
     "text": [
      "Epoch 485 tst: l 1.008 a 0.748 clct[np.int64(20), np.int64(20)] clct_ans[np.int64(20), np.int64(20)] cl_acc1.000  4.082sec\n"
     ]
    },
    {
     "name": "stdout",
     "output_type": "stream",
     "text": [
      "Epoch 486 tr: l 0.748 a 0.782 clct[np.int64(52), np.int64(48)] clct_ans[np.int64(52), np.int64(48)] cl_acc1.000  lr 0.019606 48.094sec(train) 21.889sec(infer)\n"
     ]
    },
    {
     "name": "stdout",
     "output_type": "stream",
     "text": [
      "Epoch 486 tst: l 1.008 a 0.749 clct[np.int64(20), np.int64(20)] clct_ans[np.int64(20), np.int64(20)] cl_acc1.000  3.827sec\n"
     ]
    },
    {
     "name": "stdout",
     "output_type": "stream",
     "text": [
      "Epoch 487 tr: l 0.740 a 0.783 clct[np.int64(51), np.int64(49)] clct_ans[np.int64(51), np.int64(49)] cl_acc1.000  lr 0.019596 49.918sec(train) 21.623sec(infer)\n"
     ]
    },
    {
     "name": "stdout",
     "output_type": "stream",
     "text": [
      "Epoch 487 tst: l 1.016 a 0.749 clct[np.int64(20), np.int64(20)] clct_ans[np.int64(20), np.int64(20)] cl_acc1.000  4.006sec\n"
     ]
    },
    {
     "name": "stdout",
     "output_type": "stream",
     "text": [
      "Epoch 488 tr: l 0.753 a 0.782 clct[np.int64(56), np.int64(44)] clct_ans[np.int64(56), np.int64(44)] cl_acc1.000  lr 0.019586 50.419sec(train) 21.491sec(infer)\n"
     ]
    },
    {
     "name": "stdout",
     "output_type": "stream",
     "text": [
      "Epoch 488 tst: l 1.013 a 0.749 clct[np.int64(20), np.int64(20)] clct_ans[np.int64(20), np.int64(20)] cl_acc1.000  3.922sec\n"
     ]
    },
    {
     "name": "stdout",
     "output_type": "stream",
     "text": [
      "Epoch 489 tr: l 0.723 a 0.790 clct[np.int64(56), np.int64(44)] clct_ans[np.int64(56), np.int64(44)] cl_acc1.000  lr 0.019576 51.202sec(train) 21.542sec(infer)\n"
     ]
    },
    {
     "name": "stdout",
     "output_type": "stream",
     "text": [
      "Epoch 489 tst: l 1.013 a 0.748 clct[np.int64(20), np.int64(20)] clct_ans[np.int64(20), np.int64(20)] cl_acc1.000  3.639sec\n"
     ]
    },
    {
     "name": "stdout",
     "output_type": "stream",
     "text": [
      "Epoch 490 tr: l 0.748 a 0.784 clct[np.int64(47), np.int64(53)] clct_ans[np.int64(47), np.int64(53)] cl_acc1.000  lr 0.019566 51.506sec(train) 21.655sec(infer)\n"
     ]
    },
    {
     "name": "stdout",
     "output_type": "stream",
     "text": [
      "Epoch 490 tst: l 1.011 a 0.749 clct[np.int64(20), np.int64(20)] clct_ans[np.int64(20), np.int64(20)] cl_acc1.000  3.575sec\n",
      "result written at output_dfca_gi/results.pickle\n",
      "checkpoint written at output_dfca_gi/checkpoint.pt\n"
     ]
    },
    {
     "name": "stdout",
     "output_type": "stream",
     "text": [
      "Epoch 491 tr: l 0.743 a 0.786 clct[np.int64(46), np.int64(54)] clct_ans[np.int64(46), np.int64(54)] cl_acc1.000  lr 0.019557 49.687sec(train) 21.633sec(infer)\n"
     ]
    },
    {
     "name": "stdout",
     "output_type": "stream",
     "text": [
      "Epoch 491 tst: l 1.010 a 0.750 clct[np.int64(20), np.int64(20)] clct_ans[np.int64(20), np.int64(20)] cl_acc1.000  3.571sec\n"
     ]
    },
    {
     "name": "stdout",
     "output_type": "stream",
     "text": [
      "Epoch 492 tr: l 0.756 a 0.780 clct[np.int64(52), np.int64(48)] clct_ans[np.int64(52), np.int64(48)] cl_acc1.000  lr 0.019547 50.544sec(train) 21.723sec(infer)\n"
     ]
    },
    {
     "name": "stdout",
     "output_type": "stream",
     "text": [
      "Epoch 492 tst: l 1.011 a 0.750 clct[np.int64(20), np.int64(20)] clct_ans[np.int64(20), np.int64(20)] cl_acc1.000  3.570sec\n"
     ]
    },
    {
     "name": "stdout",
     "output_type": "stream",
     "text": [
      "Epoch 493 tr: l 0.756 a 0.783 clct[np.int64(53), np.int64(47)] clct_ans[np.int64(53), np.int64(47)] cl_acc1.000  lr 0.019537 48.598sec(train) 22.675sec(infer)\n"
     ]
    },
    {
     "name": "stdout",
     "output_type": "stream",
     "text": [
      "Epoch 493 tst: l 1.009 a 0.751 clct[np.int64(20), np.int64(20)] clct_ans[np.int64(20), np.int64(20)] cl_acc1.000  3.478sec\n"
     ]
    },
    {
     "name": "stdout",
     "output_type": "stream",
     "text": [
      "Epoch 494 tr: l 0.748 a 0.783 clct[np.int64(50), np.int64(50)] clct_ans[np.int64(50), np.int64(50)] cl_acc1.000  lr 0.019527 48.659sec(train) 22.579sec(infer)\n"
     ]
    },
    {
     "name": "stdout",
     "output_type": "stream",
     "text": [
      "Epoch 494 tst: l 1.010 a 0.749 clct[np.int64(20), np.int64(20)] clct_ans[np.int64(20), np.int64(20)] cl_acc1.000  3.539sec\n"
     ]
    },
    {
     "name": "stdout",
     "output_type": "stream",
     "text": [
      "Epoch 495 tr: l 0.737 a 0.785 clct[np.int64(44), np.int64(56)] clct_ans[np.int64(44), np.int64(56)] cl_acc1.000  lr 0.019518 48.386sec(train) 21.944sec(infer)\n"
     ]
    },
    {
     "name": "stdout",
     "output_type": "stream",
     "text": [
      "Epoch 495 tst: l 1.012 a 0.749 clct[np.int64(20), np.int64(20)] clct_ans[np.int64(20), np.int64(20)] cl_acc1.000  4.030sec\n"
     ]
    },
    {
     "name": "stdout",
     "output_type": "stream",
     "text": [
      "Epoch 496 tr: l 0.756 a 0.781 clct[np.int64(50), np.int64(50)] clct_ans[np.int64(50), np.int64(50)] cl_acc1.000  lr 0.019508 49.310sec(train) 21.733sec(infer)\n"
     ]
    },
    {
     "name": "stdout",
     "output_type": "stream",
     "text": [
      "Epoch 496 tst: l 1.012 a 0.749 clct[np.int64(20), np.int64(20)] clct_ans[np.int64(20), np.int64(20)] cl_acc1.000  3.919sec\n"
     ]
    },
    {
     "name": "stdout",
     "output_type": "stream",
     "text": [
      "Epoch 497 tr: l 0.747 a 0.785 clct[np.int64(52), np.int64(48)] clct_ans[np.int64(52), np.int64(48)] cl_acc1.000  lr 0.019498 50.376sec(train) 21.574sec(infer)\n"
     ]
    },
    {
     "name": "stdout",
     "output_type": "stream",
     "text": [
      "Epoch 497 tst: l 1.010 a 0.750 clct[np.int64(20), np.int64(20)] clct_ans[np.int64(20), np.int64(20)] cl_acc1.000  3.911sec\n"
     ]
    },
    {
     "name": "stdout",
     "output_type": "stream",
     "text": [
      "Epoch 498 tr: l 0.750 a 0.783 clct[np.int64(48), np.int64(52)] clct_ans[np.int64(48), np.int64(52)] cl_acc1.000  lr 0.019488 50.503sec(train) 21.654sec(infer)\n"
     ]
    },
    {
     "name": "stdout",
     "output_type": "stream",
     "text": [
      "Epoch 498 tst: l 1.015 a 0.750 clct[np.int64(20), np.int64(20)] clct_ans[np.int64(20), np.int64(20)] cl_acc1.000  3.630sec\n"
     ]
    },
    {
     "name": "stdout",
     "output_type": "stream",
     "text": [
      "Epoch 499 tr: l 0.754 a 0.783 clct[np.int64(46), np.int64(54)] clct_ans[np.int64(46), np.int64(54)] cl_acc1.000  lr 0.019479 49.856sec(train) 21.873sec(infer)\n"
     ]
    },
    {
     "name": "stdout",
     "output_type": "stream",
     "text": [
      "Epoch 499 tst: l 1.013 a 0.750 clct[np.int64(20), np.int64(20)] clct_ans[np.int64(20), np.int64(20)] cl_acc1.000  3.625sec\n"
     ]
    },
    {
     "name": "stdout",
     "output_type": "stream",
     "text": [
      "Epoch 500 tr: l 0.758 a 0.782 clct[np.int64(45), np.int64(55)] clct_ans[np.int64(45), np.int64(55)] cl_acc1.000  lr 0.019469 49.370sec(train) 21.898sec(infer)\n"
     ]
    },
    {
     "name": "stdout",
     "output_type": "stream",
     "text": [
      "Epoch 500 tst: l 1.013 a 0.750 clct[np.int64(20), np.int64(20)] clct_ans[np.int64(20), np.int64(20)] cl_acc1.000  3.787sec\n",
      "result written at output_dfca_gi/results.pickle\n",
      "checkpoint written at output_dfca_gi/checkpoint.pt\n"
     ]
    },
    {
     "name": "stdout",
     "output_type": "stream",
     "text": [
      "Epoch 501 tr: l 0.750 a 0.783 clct[np.int64(51), np.int64(49)] clct_ans[np.int64(51), np.int64(49)] cl_acc1.000  lr 0.019459 41.565sec(train) 22.523sec(infer)\n"
     ]
    },
    {
     "name": "stdout",
     "output_type": "stream",
     "text": [
      "Epoch 501 tst: l 1.012 a 0.749 clct[np.int64(20), np.int64(20)] clct_ans[np.int64(20), np.int64(20)] cl_acc1.000  3.581sec\n"
     ]
    },
    {
     "name": "stdout",
     "output_type": "stream",
     "text": [
      "Epoch 502 tr: l 0.745 a 0.782 clct[np.int64(58), np.int64(42)] clct_ans[np.int64(58), np.int64(42)] cl_acc1.000  lr 0.019449 48.623sec(train) 22.238sec(infer)\n"
     ]
    },
    {
     "name": "stdout",
     "output_type": "stream",
     "text": [
      "Epoch 502 tst: l 1.014 a 0.750 clct[np.int64(20), np.int64(20)] clct_ans[np.int64(20), np.int64(20)] cl_acc1.000  4.222sec\n"
     ]
    },
    {
     "name": "stdout",
     "output_type": "stream",
     "text": [
      "Epoch 503 tr: l 0.756 a 0.782 clct[np.int64(55), np.int64(45)] clct_ans[np.int64(55), np.int64(45)] cl_acc1.000  lr 0.019440 49.165sec(train) 21.714sec(infer)\n"
     ]
    },
    {
     "name": "stdout",
     "output_type": "stream",
     "text": [
      "Epoch 503 tst: l 1.011 a 0.750 clct[np.int64(20), np.int64(20)] clct_ans[np.int64(20), np.int64(20)] cl_acc1.000  3.748sec\n"
     ]
    },
    {
     "name": "stdout",
     "output_type": "stream",
     "text": [
      "Epoch 504 tr: l 0.751 a 0.784 clct[np.int64(51), np.int64(49)] clct_ans[np.int64(51), np.int64(49)] cl_acc1.000  lr 0.019430 49.331sec(train) 21.635sec(infer)\n"
     ]
    },
    {
     "name": "stdout",
     "output_type": "stream",
     "text": [
      "Epoch 504 tst: l 1.012 a 0.750 clct[np.int64(20), np.int64(20)] clct_ans[np.int64(20), np.int64(20)] cl_acc1.000  3.656sec\n"
     ]
    },
    {
     "name": "stdout",
     "output_type": "stream",
     "text": [
      "Epoch 505 tr: l 0.757 a 0.783 clct[np.int64(50), np.int64(50)] clct_ans[np.int64(50), np.int64(50)] cl_acc1.000  lr 0.019420 49.679sec(train) 21.547sec(infer)\n"
     ]
    },
    {
     "name": "stdout",
     "output_type": "stream",
     "text": [
      "Epoch 505 tst: l 1.013 a 0.750 clct[np.int64(20), np.int64(20)] clct_ans[np.int64(20), np.int64(20)] cl_acc1.000  3.657sec\n"
     ]
    },
    {
     "name": "stdout",
     "output_type": "stream",
     "text": [
      "Epoch 506 tr: l 0.759 a 0.782 clct[np.int64(49), np.int64(51)] clct_ans[np.int64(49), np.int64(51)] cl_acc1.000  lr 0.019410 50.338sec(train) 21.602sec(infer)\n"
     ]
    },
    {
     "name": "stdout",
     "output_type": "stream",
     "text": [
      "Epoch 506 tst: l 1.013 a 0.750 clct[np.int64(20), np.int64(20)] clct_ans[np.int64(20), np.int64(20)] cl_acc1.000  3.771sec\n"
     ]
    },
    {
     "name": "stdout",
     "output_type": "stream",
     "text": [
      "Epoch 507 tr: l 0.758 a 0.783 clct[np.int64(54), np.int64(46)] clct_ans[np.int64(54), np.int64(46)] cl_acc1.000  lr 0.019401 49.131sec(train) 21.627sec(infer)\n"
     ]
    },
    {
     "name": "stdout",
     "output_type": "stream",
     "text": [
      "Epoch 507 tst: l 1.013 a 0.749 clct[np.int64(20), np.int64(20)] clct_ans[np.int64(20), np.int64(20)] cl_acc1.000  3.633sec\n"
     ]
    },
    {
     "name": "stdout",
     "output_type": "stream",
     "text": [
      "Epoch 508 tr: l 0.751 a 0.783 clct[np.int64(50), np.int64(50)] clct_ans[np.int64(50), np.int64(50)] cl_acc1.000  lr 0.019391 47.930sec(train) 22.271sec(infer)\n"
     ]
    },
    {
     "name": "stdout",
     "output_type": "stream",
     "text": [
      "Epoch 508 tst: l 1.014 a 0.750 clct[np.int64(20), np.int64(20)] clct_ans[np.int64(20), np.int64(20)] cl_acc1.000  3.811sec\n"
     ]
    },
    {
     "name": "stdout",
     "output_type": "stream",
     "text": [
      "Epoch 509 tr: l 0.749 a 0.783 clct[np.int64(49), np.int64(51)] clct_ans[np.int64(49), np.int64(51)] cl_acc1.000  lr 0.019381 40.049sec(train) 22.711sec(infer)\n"
     ]
    },
    {
     "name": "stdout",
     "output_type": "stream",
     "text": [
      "Epoch 509 tst: l 1.019 a 0.750 clct[np.int64(20), np.int64(20)] clct_ans[np.int64(20), np.int64(20)] cl_acc1.000  4.103sec\n"
     ]
    },
    {
     "name": "stdout",
     "output_type": "stream",
     "text": [
      "Epoch 510 tr: l 0.756 a 0.781 clct[np.int64(52), np.int64(48)] clct_ans[np.int64(52), np.int64(48)] cl_acc1.000  lr 0.019372 43.062sec(train) 22.049sec(infer)\n"
     ]
    },
    {
     "name": "stdout",
     "output_type": "stream",
     "text": [
      "Epoch 510 tst: l 1.018 a 0.751 clct[np.int64(20), np.int64(20)] clct_ans[np.int64(20), np.int64(20)] cl_acc1.000  3.922sec\n",
      "result written at output_dfca_gi/results.pickle\n"
     ]
    },
    {
     "name": "stdout",
     "output_type": "stream",
     "text": [
      "checkpoint written at output_dfca_gi/checkpoint.pt\n"
     ]
    },
    {
     "name": "stdout",
     "output_type": "stream",
     "text": [
      "Epoch 511 tr: l 0.755 a 0.783 clct[np.int64(53), np.int64(47)] clct_ans[np.int64(53), np.int64(47)] cl_acc1.000  lr 0.019362 49.364sec(train) 21.700sec(infer)\n"
     ]
    },
    {
     "name": "stdout",
     "output_type": "stream",
     "text": [
      "Epoch 511 tst: l 1.019 a 0.750 clct[np.int64(20), np.int64(20)] clct_ans[np.int64(20), np.int64(20)] cl_acc1.000  3.724sec\n"
     ]
    },
    {
     "name": "stdout",
     "output_type": "stream",
     "text": [
      "Epoch 512 tr: l 0.755 a 0.781 clct[np.int64(51), np.int64(49)] clct_ans[np.int64(51), np.int64(49)] cl_acc1.000  lr 0.019352 48.992sec(train) 21.672sec(infer)\n"
     ]
    },
    {
     "name": "stdout",
     "output_type": "stream",
     "text": [
      "Epoch 512 tst: l 1.017 a 0.751 clct[np.int64(20), np.int64(20)] clct_ans[np.int64(20), np.int64(20)] cl_acc1.000  3.480sec\n"
     ]
    },
    {
     "name": "stdout",
     "output_type": "stream",
     "text": [
      "Epoch 513 tr: l 0.758 a 0.780 clct[np.int64(52), np.int64(48)] clct_ans[np.int64(52), np.int64(48)] cl_acc1.000  lr 0.019343 47.627sec(train) 21.679sec(infer)\n"
     ]
    },
    {
     "name": "stdout",
     "output_type": "stream",
     "text": [
      "Epoch 513 tst: l 1.019 a 0.750 clct[np.int64(20), np.int64(20)] clct_ans[np.int64(20), np.int64(20)] cl_acc1.000  3.459sec\n"
     ]
    },
    {
     "name": "stdout",
     "output_type": "stream",
     "text": [
      "Epoch 514 tr: l 0.762 a 0.782 clct[np.int64(54), np.int64(46)] clct_ans[np.int64(54), np.int64(46)] cl_acc1.000  lr 0.019333 43.526sec(train) 22.408sec(infer)\n"
     ]
    },
    {
     "name": "stdout",
     "output_type": "stream",
     "text": [
      "Epoch 514 tst: l 1.016 a 0.751 clct[np.int64(20), np.int64(20)] clct_ans[np.int64(20), np.int64(20)] cl_acc1.000  3.544sec\n"
     ]
    },
    {
     "name": "stdout",
     "output_type": "stream",
     "text": [
      "Epoch 515 tr: l 0.761 a 0.778 clct[np.int64(53), np.int64(47)] clct_ans[np.int64(53), np.int64(47)] cl_acc1.000  lr 0.019323 40.788sec(train) 22.652sec(infer)\n"
     ]
    },
    {
     "name": "stdout",
     "output_type": "stream",
     "text": [
      "Epoch 515 tst: l 1.012 a 0.750 clct[np.int64(20), np.int64(20)] clct_ans[np.int64(20), np.int64(20)] cl_acc1.000  4.399sec\n"
     ]
    },
    {
     "name": "stdout",
     "output_type": "stream",
     "text": [
      "Epoch 516 tr: l 0.758 a 0.780 clct[np.int64(47), np.int64(53)] clct_ans[np.int64(47), np.int64(53)] cl_acc1.000  lr 0.019314 44.743sec(train) 21.849sec(infer)\n"
     ]
    },
    {
     "name": "stdout",
     "output_type": "stream",
     "text": [
      "Epoch 516 tst: l 1.011 a 0.750 clct[np.int64(20), np.int64(20)] clct_ans[np.int64(20), np.int64(20)] cl_acc1.000  3.837sec\n"
     ]
    },
    {
     "name": "stdout",
     "output_type": "stream",
     "text": [
      "Epoch 517 tr: l 0.742 a 0.785 clct[np.int64(50), np.int64(50)] clct_ans[np.int64(50), np.int64(50)] cl_acc1.000  lr 0.019304 49.631sec(train) 21.549sec(infer)\n"
     ]
    },
    {
     "name": "stdout",
     "output_type": "stream",
     "text": [
      "Epoch 517 tst: l 1.014 a 0.749 clct[np.int64(20), np.int64(20)] clct_ans[np.int64(20), np.int64(20)] cl_acc1.000  3.853sec\n"
     ]
    },
    {
     "name": "stdout",
     "output_type": "stream",
     "text": [
      "Epoch 518 tr: l 0.744 a 0.784 clct[np.int64(52), np.int64(48)] clct_ans[np.int64(52), np.int64(48)] cl_acc1.000  lr 0.019294 50.276sec(train) 21.389sec(infer)\n"
     ]
    },
    {
     "name": "stdout",
     "output_type": "stream",
     "text": [
      "Epoch 518 tst: l 1.015 a 0.751 clct[np.int64(20), np.int64(20)] clct_ans[np.int64(20), np.int64(20)] cl_acc1.000  3.563sec\n"
     ]
    },
    {
     "name": "stdout",
     "output_type": "stream",
     "text": [
      "Epoch 519 tr: l 0.741 a 0.784 clct[np.int64(55), np.int64(45)] clct_ans[np.int64(55), np.int64(45)] cl_acc1.000  lr 0.019285 50.236sec(train) 21.448sec(infer)\n"
     ]
    },
    {
     "name": "stdout",
     "output_type": "stream",
     "text": [
      "Epoch 519 tst: l 1.017 a 0.750 clct[np.int64(20), np.int64(20)] clct_ans[np.int64(20), np.int64(20)] cl_acc1.000  3.539sec\n"
     ]
    },
    {
     "name": "stdout",
     "output_type": "stream",
     "text": [
      "Epoch 520 tr: l 0.745 a 0.785 clct[np.int64(53), np.int64(47)] clct_ans[np.int64(53), np.int64(47)] cl_acc1.000  lr 0.019275 50.290sec(train) 21.508sec(infer)\n"
     ]
    },
    {
     "name": "stdout",
     "output_type": "stream",
     "text": [
      "Epoch 520 tst: l 1.015 a 0.750 clct[np.int64(20), np.int64(20)] clct_ans[np.int64(20), np.int64(20)] cl_acc1.000  3.528sec\n",
      "result written at output_dfca_gi/results.pickle\n"
     ]
    },
    {
     "name": "stdout",
     "output_type": "stream",
     "text": [
      "checkpoint written at output_dfca_gi/checkpoint.pt\n"
     ]
    },
    {
     "name": "stdout",
     "output_type": "stream",
     "text": [
      "Epoch 521 tr: l 0.757 a 0.782 clct[np.int64(56), np.int64(44)] clct_ans[np.int64(56), np.int64(44)] cl_acc1.000  lr 0.019265 50.411sec(train) 21.546sec(infer)\n"
     ]
    },
    {
     "name": "stdout",
     "output_type": "stream",
     "text": [
      "Epoch 521 tst: l 1.013 a 0.749 clct[np.int64(20), np.int64(20)] clct_ans[np.int64(20), np.int64(20)] cl_acc1.000  3.548sec\n"
     ]
    },
    {
     "name": "stdout",
     "output_type": "stream",
     "text": [
      "Epoch 522 tr: l 0.743 a 0.784 clct[np.int64(41), np.int64(59)] clct_ans[np.int64(41), np.int64(59)] cl_acc1.000  lr 0.019256 44.727sec(train) 22.213sec(infer)\n"
     ]
    },
    {
     "name": "stdout",
     "output_type": "stream",
     "text": [
      "Epoch 522 tst: l 1.014 a 0.750 clct[np.int64(20), np.int64(20)] clct_ans[np.int64(20), np.int64(20)] cl_acc1.000  3.545sec\n"
     ]
    },
    {
     "name": "stdout",
     "output_type": "stream",
     "text": [
      "Epoch 523 tr: l 0.741 a 0.786 clct[np.int64(38), np.int64(62)] clct_ans[np.int64(38), np.int64(62)] cl_acc1.000  lr 0.019246 48.290sec(train) 22.514sec(infer)\n"
     ]
    },
    {
     "name": "stdout",
     "output_type": "stream",
     "text": [
      "Epoch 523 tst: l 1.019 a 0.750 clct[np.int64(20), np.int64(20)] clct_ans[np.int64(20), np.int64(20)] cl_acc1.000  4.138sec\n"
     ]
    },
    {
     "name": "stdout",
     "output_type": "stream",
     "text": [
      "Epoch 524 tr: l 0.738 a 0.785 clct[np.int64(54), np.int64(46)] clct_ans[np.int64(54), np.int64(46)] cl_acc1.000  lr 0.019237 48.518sec(train) 21.940sec(infer)\n"
     ]
    },
    {
     "name": "stdout",
     "output_type": "stream",
     "text": [
      "Epoch 524 tst: l 1.018 a 0.748 clct[np.int64(20), np.int64(20)] clct_ans[np.int64(20), np.int64(20)] cl_acc1.000  3.834sec\n"
     ]
    },
    {
     "name": "stdout",
     "output_type": "stream",
     "text": [
      "Epoch 525 tr: l 0.758 a 0.785 clct[np.int64(49), np.int64(51)] clct_ans[np.int64(49), np.int64(51)] cl_acc1.000  lr 0.019227 49.363sec(train) 21.695sec(infer)\n"
     ]
    },
    {
     "name": "stdout",
     "output_type": "stream",
     "text": [
      "Epoch 525 tst: l 1.019 a 0.748 clct[np.int64(20), np.int64(20)] clct_ans[np.int64(20), np.int64(20)] cl_acc1.000  3.948sec\n"
     ]
    },
    {
     "name": "stdout",
     "output_type": "stream",
     "text": [
      "Epoch 526 tr: l 0.758 a 0.784 clct[np.int64(53), np.int64(47)] clct_ans[np.int64(53), np.int64(47)] cl_acc1.000  lr 0.019217 50.330sec(train) 21.717sec(infer)\n"
     ]
    },
    {
     "name": "stdout",
     "output_type": "stream",
     "text": [
      "Epoch 526 tst: l 1.021 a 0.749 clct[np.int64(20), np.int64(20)] clct_ans[np.int64(20), np.int64(20)] cl_acc1.000  3.531sec\n"
     ]
    },
    {
     "name": "stdout",
     "output_type": "stream",
     "text": [
      "Epoch 527 tr: l 0.755 a 0.784 clct[np.int64(49), np.int64(51)] clct_ans[np.int64(49), np.int64(51)] cl_acc1.000  lr 0.019208 49.844sec(train) 21.377sec(infer)\n"
     ]
    },
    {
     "name": "stdout",
     "output_type": "stream",
     "text": [
      "Epoch 527 tst: l 1.020 a 0.749 clct[np.int64(20), np.int64(20)] clct_ans[np.int64(20), np.int64(20)] cl_acc1.000  3.404sec\n"
     ]
    },
    {
     "name": "stdout",
     "output_type": "stream",
     "text": [
      "Epoch 528 tr: l 0.758 a 0.783 clct[np.int64(50), np.int64(50)] clct_ans[np.int64(50), np.int64(50)] cl_acc1.000  lr 0.019198 43.073sec(train) 21.559sec(infer)\n"
     ]
    },
    {
     "name": "stdout",
     "output_type": "stream",
     "text": [
      "Epoch 528 tst: l 1.023 a 0.750 clct[np.int64(20), np.int64(20)] clct_ans[np.int64(20), np.int64(20)] cl_acc1.000  4.197sec\n"
     ]
    },
    {
     "name": "stdout",
     "output_type": "stream",
     "text": [
      "Epoch 529 tr: l 0.744 a 0.785 clct[np.int64(52), np.int64(48)] clct_ans[np.int64(52), np.int64(48)] cl_acc1.000  lr 0.019188 48.751sec(train) 21.337sec(infer)\n"
     ]
    },
    {
     "name": "stdout",
     "output_type": "stream",
     "text": [
      "Epoch 529 tst: l 1.024 a 0.750 clct[np.int64(20), np.int64(20)] clct_ans[np.int64(20), np.int64(20)] cl_acc1.000  3.332sec\n"
     ]
    },
    {
     "name": "stdout",
     "output_type": "stream",
     "text": [
      "Epoch 530 tr: l 0.741 a 0.785 clct[np.int64(52), np.int64(48)] clct_ans[np.int64(52), np.int64(48)] cl_acc1.000  lr 0.019179 48.662sec(train) 21.048sec(infer)\n"
     ]
    },
    {
     "name": "stdout",
     "output_type": "stream",
     "text": [
      "Epoch 530 tst: l 1.022 a 0.752 clct[np.int64(20), np.int64(20)] clct_ans[np.int64(20), np.int64(20)] cl_acc1.000  3.360sec\n"
     ]
    },
    {
     "name": "stdout",
     "output_type": "stream",
     "text": [
      "result written at output_dfca_gi/results.pickle\n",
      "checkpoint written at output_dfca_gi/checkpoint.pt\n"
     ]
    },
    {
     "name": "stdout",
     "output_type": "stream",
     "text": [
      "Epoch 531 tr: l 0.745 a 0.787 clct[np.int64(51), np.int64(49)] clct_ans[np.int64(51), np.int64(49)] cl_acc1.000  lr 0.019169 49.714sec(train) 21.886sec(infer)\n"
     ]
    },
    {
     "name": "stdout",
     "output_type": "stream",
     "text": [
      "Epoch 531 tst: l 1.020 a 0.752 clct[np.int64(20), np.int64(20)] clct_ans[np.int64(20), np.int64(20)] cl_acc1.000  3.311sec\n"
     ]
    },
    {
     "name": "stdout",
     "output_type": "stream",
     "text": [
      "Epoch 532 tr: l 0.747 a 0.785 clct[np.int64(55), np.int64(45)] clct_ans[np.int64(55), np.int64(45)] cl_acc1.000  lr 0.019160 49.703sec(train) 21.106sec(infer)\n"
     ]
    },
    {
     "name": "stdout",
     "output_type": "stream",
     "text": [
      "Epoch 532 tst: l 1.019 a 0.751 clct[np.int64(20), np.int64(20)] clct_ans[np.int64(20), np.int64(20)] cl_acc1.000  3.343sec\n"
     ]
    },
    {
     "name": "stdout",
     "output_type": "stream",
     "text": [
      "Epoch 533 tr: l 0.740 a 0.785 clct[np.int64(50), np.int64(50)] clct_ans[np.int64(50), np.int64(50)] cl_acc1.000  lr 0.019150 49.938sec(train) 21.141sec(infer)\n"
     ]
    },
    {
     "name": "stdout",
     "output_type": "stream",
     "text": [
      "Epoch 533 tst: l 1.022 a 0.750 clct[np.int64(20), np.int64(20)] clct_ans[np.int64(20), np.int64(20)] cl_acc1.000  3.789sec\n"
     ]
    },
    {
     "name": "stdout",
     "output_type": "stream",
     "text": [
      "Epoch 534 tr: l 0.745 a 0.785 clct[np.int64(54), np.int64(46)] clct_ans[np.int64(54), np.int64(46)] cl_acc1.000  lr 0.019141 49.245sec(train) 21.363sec(infer)\n"
     ]
    },
    {
     "name": "stdout",
     "output_type": "stream",
     "text": [
      "Epoch 534 tst: l 1.021 a 0.750 clct[np.int64(20), np.int64(20)] clct_ans[np.int64(20), np.int64(20)] cl_acc1.000  3.345sec\n"
     ]
    },
    {
     "name": "stdout",
     "output_type": "stream",
     "text": [
      "Epoch 535 tr: l 0.755 a 0.785 clct[np.int64(48), np.int64(52)] clct_ans[np.int64(48), np.int64(52)] cl_acc1.000  lr 0.019131 49.561sec(train) 21.221sec(infer)\n"
     ]
    },
    {
     "name": "stdout",
     "output_type": "stream",
     "text": [
      "Epoch 535 tst: l 1.023 a 0.750 clct[np.int64(20), np.int64(20)] clct_ans[np.int64(20), np.int64(20)] cl_acc1.000  3.516sec\n"
     ]
    },
    {
     "name": "stdout",
     "output_type": "stream",
     "text": [
      "Epoch 536 tr: l 0.750 a 0.786 clct[np.int64(49), np.int64(51)] clct_ans[np.int64(49), np.int64(51)] cl_acc1.000  lr 0.019121 50.250sec(train) 21.663sec(infer)\n"
     ]
    },
    {
     "name": "stdout",
     "output_type": "stream",
     "text": [
      "Epoch 536 tst: l 1.021 a 0.751 clct[np.int64(20), np.int64(20)] clct_ans[np.int64(20), np.int64(20)] cl_acc1.000  3.439sec\n"
     ]
    },
    {
     "name": "stdout",
     "output_type": "stream",
     "text": [
      "Epoch 537 tr: l 0.749 a 0.787 clct[np.int64(53), np.int64(47)] clct_ans[np.int64(53), np.int64(47)] cl_acc1.000  lr 0.019112 50.240sec(train) 21.046sec(infer)\n"
     ]
    },
    {
     "name": "stdout",
     "output_type": "stream",
     "text": [
      "Epoch 537 tst: l 1.020 a 0.751 clct[np.int64(20), np.int64(20)] clct_ans[np.int64(20), np.int64(20)] cl_acc1.000  3.412sec\n"
     ]
    },
    {
     "name": "stdout",
     "output_type": "stream",
     "text": [
      "Epoch 538 tr: l 0.752 a 0.784 clct[np.int64(46), np.int64(54)] clct_ans[np.int64(46), np.int64(54)] cl_acc1.000  lr 0.019102 50.019sec(train) 21.278sec(infer)\n"
     ]
    },
    {
     "name": "stdout",
     "output_type": "stream",
     "text": [
      "Epoch 538 tst: l 1.019 a 0.751 clct[np.int64(20), np.int64(20)] clct_ans[np.int64(20), np.int64(20)] cl_acc1.000  3.679sec\n"
     ]
    },
    {
     "name": "stdout",
     "output_type": "stream",
     "text": [
      "Epoch 539 tr: l 0.742 a 0.787 clct[np.int64(49), np.int64(51)] clct_ans[np.int64(49), np.int64(51)] cl_acc1.000  lr 0.019093 49.776sec(train) 21.818sec(infer)\n"
     ]
    },
    {
     "name": "stdout",
     "output_type": "stream",
     "text": [
      "Epoch 539 tst: l 1.020 a 0.751 clct[np.int64(20), np.int64(20)] clct_ans[np.int64(20), np.int64(20)] cl_acc1.000  3.281sec\n"
     ]
    },
    {
     "name": "stdout",
     "output_type": "stream",
     "text": [
      "Epoch 540 tr: l 0.757 a 0.784 clct[np.int64(46), np.int64(54)] clct_ans[np.int64(46), np.int64(54)] cl_acc1.000  lr 0.019083 49.963sec(train) 21.251sec(infer)\n"
     ]
    },
    {
     "name": "stdout",
     "output_type": "stream",
     "text": [
      "Epoch 540 tst: l 1.021 a 0.750 clct[np.int64(20), np.int64(20)] clct_ans[np.int64(20), np.int64(20)] cl_acc1.000  3.387sec\n"
     ]
    },
    {
     "name": "stdout",
     "output_type": "stream",
     "text": [
      "result written at output_dfca_gi/results.pickle\n",
      "checkpoint written at output_dfca_gi/checkpoint.pt\n"
     ]
    },
    {
     "name": "stdout",
     "output_type": "stream",
     "text": [
      "Epoch 541 tr: l 0.747 a 0.786 clct[np.int64(50), np.int64(50)] clct_ans[np.int64(50), np.int64(50)] cl_acc1.000  lr 0.019074 49.987sec(train) 21.625sec(infer)\n"
     ]
    },
    {
     "name": "stdout",
     "output_type": "stream",
     "text": [
      "Epoch 541 tst: l 1.024 a 0.750 clct[np.int64(20), np.int64(20)] clct_ans[np.int64(20), np.int64(20)] cl_acc1.000  3.321sec\n"
     ]
    },
    {
     "name": "stdout",
     "output_type": "stream",
     "text": [
      "Epoch 542 tr: l 0.735 a 0.787 clct[np.int64(49), np.int64(51)] clct_ans[np.int64(49), np.int64(51)] cl_acc1.000  lr 0.019064 49.947sec(train) 21.053sec(infer)\n"
     ]
    },
    {
     "name": "stdout",
     "output_type": "stream",
     "text": [
      "Epoch 542 tst: l 1.024 a 0.750 clct[np.int64(20), np.int64(20)] clct_ans[np.int64(20), np.int64(20)] cl_acc1.000  3.430sec\n"
     ]
    },
    {
     "name": "stdout",
     "output_type": "stream",
     "text": [
      "Epoch 543 tr: l 0.751 a 0.784 clct[np.int64(55), np.int64(45)] clct_ans[np.int64(55), np.int64(45)] cl_acc1.000  lr 0.019055 48.714sec(train) 21.360sec(infer)\n"
     ]
    },
    {
     "name": "stdout",
     "output_type": "stream",
     "text": [
      "Epoch 543 tst: l 1.025 a 0.752 clct[np.int64(20), np.int64(20)] clct_ans[np.int64(20), np.int64(20)] cl_acc1.000  3.476sec\n"
     ]
    },
    {
     "name": "stdout",
     "output_type": "stream",
     "text": [
      "Epoch 544 tr: l 0.759 a 0.783 clct[np.int64(53), np.int64(47)] clct_ans[np.int64(53), np.int64(47)] cl_acc1.000  lr 0.019045 48.669sec(train) 21.646sec(infer)\n"
     ]
    },
    {
     "name": "stdout",
     "output_type": "stream",
     "text": [
      "Epoch 544 tst: l 1.023 a 0.751 clct[np.int64(20), np.int64(20)] clct_ans[np.int64(20), np.int64(20)] cl_acc1.000  3.281sec\n"
     ]
    },
    {
     "name": "stdout",
     "output_type": "stream",
     "text": [
      "Epoch 545 tr: l 0.752 a 0.785 clct[np.int64(50), np.int64(50)] clct_ans[np.int64(50), np.int64(50)] cl_acc1.000  lr 0.019036 48.413sec(train) 21.167sec(infer)\n"
     ]
    },
    {
     "name": "stdout",
     "output_type": "stream",
     "text": [
      "Epoch 545 tst: l 1.023 a 0.752 clct[np.int64(20), np.int64(20)] clct_ans[np.int64(20), np.int64(20)] cl_acc1.000  3.484sec\n"
     ]
    },
    {
     "name": "stdout",
     "output_type": "stream",
     "text": [
      "Epoch 546 tr: l 0.736 a 0.788 clct[np.int64(55), np.int64(45)] clct_ans[np.int64(55), np.int64(45)] cl_acc1.000  lr 0.019026 48.782sec(train) 21.410sec(infer)\n"
     ]
    },
    {
     "name": "stdout",
     "output_type": "stream",
     "text": [
      "Epoch 546 tst: l 1.020 a 0.752 clct[np.int64(20), np.int64(20)] clct_ans[np.int64(20), np.int64(20)] cl_acc1.000  3.373sec\n"
     ]
    },
    {
     "name": "stdout",
     "output_type": "stream",
     "text": [
      "Epoch 547 tr: l 0.751 a 0.784 clct[np.int64(45), np.int64(55)] clct_ans[np.int64(45), np.int64(55)] cl_acc1.000  lr 0.019017 49.845sec(train) 21.255sec(infer)\n"
     ]
    },
    {
     "name": "stdout",
     "output_type": "stream",
     "text": [
      "Epoch 547 tst: l 1.022 a 0.752 clct[np.int64(20), np.int64(20)] clct_ans[np.int64(20), np.int64(20)] cl_acc1.000  3.430sec\n"
     ]
    },
    {
     "name": "stdout",
     "output_type": "stream",
     "text": [
      "Epoch 548 tr: l 0.751 a 0.784 clct[np.int64(49), np.int64(51)] clct_ans[np.int64(49), np.int64(51)] cl_acc1.000  lr 0.019007 48.712sec(train) 21.234sec(infer)\n"
     ]
    },
    {
     "name": "stdout",
     "output_type": "stream",
     "text": [
      "Epoch 548 tst: l 1.025 a 0.750 clct[np.int64(20), np.int64(20)] clct_ans[np.int64(20), np.int64(20)] cl_acc1.000  3.402sec\n"
     ]
    },
    {
     "name": "stdout",
     "output_type": "stream",
     "text": [
      "Epoch 549 tr: l 0.725 a 0.790 clct[np.int64(48), np.int64(52)] clct_ans[np.int64(48), np.int64(52)] cl_acc1.000  lr 0.018997 48.526sec(train) 21.677sec(infer)\n"
     ]
    },
    {
     "name": "stdout",
     "output_type": "stream",
     "text": [
      "Epoch 549 tst: l 1.031 a 0.750 clct[np.int64(20), np.int64(20)] clct_ans[np.int64(20), np.int64(20)] cl_acc1.000  3.289sec\n"
     ]
    },
    {
     "name": "stdout",
     "output_type": "stream",
     "text": [
      "Epoch 550 tr: l 0.738 a 0.787 clct[np.int64(46), np.int64(54)] clct_ans[np.int64(46), np.int64(54)] cl_acc1.000  lr 0.018988 48.258sec(train) 21.095sec(infer)\n"
     ]
    },
    {
     "name": "stdout",
     "output_type": "stream",
     "text": [
      "Epoch 550 tst: l 1.024 a 0.749 clct[np.int64(20), np.int64(20)] clct_ans[np.int64(20), np.int64(20)] cl_acc1.000  3.372sec\n"
     ]
    },
    {
     "name": "stdout",
     "output_type": "stream",
     "text": [
      "result written at output_dfca_gi/results.pickle\n",
      "checkpoint written at output_dfca_gi/checkpoint.pt\n"
     ]
    },
    {
     "name": "stdout",
     "output_type": "stream",
     "text": [
      "Epoch 551 tr: l 0.749 a 0.785 clct[np.int64(51), np.int64(49)] clct_ans[np.int64(51), np.int64(49)] cl_acc1.000  lr 0.018979 48.874sec(train) 21.261sec(infer)\n"
     ]
    },
    {
     "name": "stdout",
     "output_type": "stream",
     "text": [
      "Epoch 551 tst: l 1.024 a 0.750 clct[np.int64(20), np.int64(20)] clct_ans[np.int64(20), np.int64(20)] cl_acc1.000  3.691sec\n"
     ]
    },
    {
     "name": "stdout",
     "output_type": "stream",
     "text": [
      "Epoch 552 tr: l 0.740 a 0.787 clct[np.int64(49), np.int64(51)] clct_ans[np.int64(49), np.int64(51)] cl_acc1.000  lr 0.018969 48.447sec(train) 21.377sec(infer)\n"
     ]
    },
    {
     "name": "stdout",
     "output_type": "stream",
     "text": [
      "Epoch 552 tst: l 1.025 a 0.751 clct[np.int64(20), np.int64(20)] clct_ans[np.int64(20), np.int64(20)] cl_acc1.000  3.277sec\n"
     ]
    },
    {
     "name": "stdout",
     "output_type": "stream",
     "text": [
      "Epoch 553 tr: l 0.744 a 0.785 clct[np.int64(56), np.int64(44)] clct_ans[np.int64(56), np.int64(44)] cl_acc1.000  lr 0.018960 49.002sec(train) 21.158sec(infer)\n"
     ]
    },
    {
     "name": "stdout",
     "output_type": "stream",
     "text": [
      "Epoch 553 tst: l 1.025 a 0.750 clct[np.int64(20), np.int64(20)] clct_ans[np.int64(20), np.int64(20)] cl_acc1.000  3.339sec\n"
     ]
    },
    {
     "name": "stdout",
     "output_type": "stream",
     "text": [
      "Epoch 554 tr: l 0.724 a 0.790 clct[np.int64(51), np.int64(49)] clct_ans[np.int64(51), np.int64(49)] cl_acc1.000  lr 0.018950 48.347sec(train) 21.430sec(infer)\n"
     ]
    },
    {
     "name": "stdout",
     "output_type": "stream",
     "text": [
      "Epoch 554 tst: l 1.026 a 0.751 clct[np.int64(20), np.int64(20)] clct_ans[np.int64(20), np.int64(20)] cl_acc1.000  3.455sec\n"
     ]
    },
    {
     "name": "stdout",
     "output_type": "stream",
     "text": [
      "Epoch 555 tr: l 0.733 a 0.788 clct[np.int64(50), np.int64(50)] clct_ans[np.int64(50), np.int64(50)] cl_acc1.000  lr 0.018941 48.507sec(train) 21.467sec(infer)\n"
     ]
    },
    {
     "name": "stdout",
     "output_type": "stream",
     "text": [
      "Epoch 555 tst: l 1.026 a 0.752 clct[np.int64(20), np.int64(20)] clct_ans[np.int64(20), np.int64(20)] cl_acc1.000  3.508sec\n"
     ]
    },
    {
     "name": "stdout",
     "output_type": "stream",
     "text": [
      "Epoch 556 tr: l 0.754 a 0.784 clct[np.int64(49), np.int64(51)] clct_ans[np.int64(49), np.int64(51)] cl_acc1.000  lr 0.018931 48.330sec(train) 21.246sec(infer)\n"
     ]
    },
    {
     "name": "stdout",
     "output_type": "stream",
     "text": [
      "Epoch 556 tst: l 1.026 a 0.752 clct[np.int64(20), np.int64(20)] clct_ans[np.int64(20), np.int64(20)] cl_acc1.000  3.532sec\n"
     ]
    },
    {
     "name": "stdout",
     "output_type": "stream",
     "text": [
      "Epoch 557 tr: l 0.750 a 0.786 clct[np.int64(57), np.int64(43)] clct_ans[np.int64(57), np.int64(43)] cl_acc1.000  lr 0.018922 49.000sec(train) 21.553sec(infer)\n"
     ]
    },
    {
     "name": "stdout",
     "output_type": "stream",
     "text": [
      "Epoch 557 tst: l 1.025 a 0.752 clct[np.int64(20), np.int64(20)] clct_ans[np.int64(20), np.int64(20)] cl_acc1.000  3.506sec\n"
     ]
    },
    {
     "name": "stdout",
     "output_type": "stream",
     "text": [
      "Epoch 558 tr: l 0.723 a 0.790 clct[np.int64(54), np.int64(46)] clct_ans[np.int64(54), np.int64(46)] cl_acc1.000  lr 0.018912 48.804sec(train) 21.188sec(infer)\n"
     ]
    },
    {
     "name": "stdout",
     "output_type": "stream",
     "text": [
      "Epoch 558 tst: l 1.025 a 0.752 clct[np.int64(20), np.int64(20)] clct_ans[np.int64(20), np.int64(20)] cl_acc1.000  3.358sec\n"
     ]
    },
    {
     "name": "stdout",
     "output_type": "stream",
     "text": [
      "Epoch 559 tr: l 0.744 a 0.788 clct[np.int64(50), np.int64(50)] clct_ans[np.int64(50), np.int64(50)] cl_acc1.000  lr 0.018903 42.668sec(train) 21.195sec(infer)\n"
     ]
    },
    {
     "name": "stdout",
     "output_type": "stream",
     "text": [
      "Epoch 559 tst: l 1.027 a 0.750 clct[np.int64(20), np.int64(20)] clct_ans[np.int64(20), np.int64(20)] cl_acc1.000  3.328sec\n"
     ]
    },
    {
     "name": "stdout",
     "output_type": "stream",
     "text": [
      "Epoch 560 tr: l 0.736 a 0.790 clct[np.int64(51), np.int64(49)] clct_ans[np.int64(51), np.int64(49)] cl_acc1.000  lr 0.018893 45.982sec(train) 21.668sec(infer)\n"
     ]
    },
    {
     "name": "stdout",
     "output_type": "stream",
     "text": [
      "Epoch 560 tst: l 1.024 a 0.750 clct[np.int64(20), np.int64(20)] clct_ans[np.int64(20), np.int64(20)] cl_acc1.000  3.818sec\n"
     ]
    },
    {
     "name": "stdout",
     "output_type": "stream",
     "text": [
      "result written at output_dfca_gi/results.pickle\n",
      "checkpoint written at output_dfca_gi/checkpoint.pt\n"
     ]
    },
    {
     "name": "stdout",
     "output_type": "stream",
     "text": [
      "Epoch 561 tr: l 0.747 a 0.787 clct[np.int64(46), np.int64(54)] clct_ans[np.int64(46), np.int64(54)] cl_acc1.000  lr 0.018884 50.275sec(train) 21.247sec(infer)\n"
     ]
    },
    {
     "name": "stdout",
     "output_type": "stream",
     "text": [
      "Epoch 561 tst: l 1.025 a 0.750 clct[np.int64(20), np.int64(20)] clct_ans[np.int64(20), np.int64(20)] cl_acc1.000  3.369sec\n"
     ]
    },
    {
     "name": "stdout",
     "output_type": "stream",
     "text": [
      "Epoch 562 tr: l 0.739 a 0.787 clct[np.int64(43), np.int64(57)] clct_ans[np.int64(43), np.int64(57)] cl_acc1.000  lr 0.018874 49.688sec(train) 21.222sec(infer)\n"
     ]
    },
    {
     "name": "stdout",
     "output_type": "stream",
     "text": [
      "Epoch 562 tst: l 1.026 a 0.750 clct[np.int64(20), np.int64(20)] clct_ans[np.int64(20), np.int64(20)] cl_acc1.000  3.381sec\n"
     ]
    },
    {
     "name": "stdout",
     "output_type": "stream",
     "text": [
      "Epoch 563 tr: l 0.741 a 0.786 clct[np.int64(50), np.int64(50)] clct_ans[np.int64(50), np.int64(50)] cl_acc1.000  lr 0.018865 49.939sec(train) 21.329sec(infer)\n"
     ]
    },
    {
     "name": "stdout",
     "output_type": "stream",
     "text": [
      "Epoch 563 tst: l 1.027 a 0.750 clct[np.int64(20), np.int64(20)] clct_ans[np.int64(20), np.int64(20)] cl_acc1.000  3.302sec\n"
     ]
    },
    {
     "name": "stdout",
     "output_type": "stream",
     "text": [
      "Epoch 564 tr: l 0.738 a 0.788 clct[np.int64(52), np.int64(48)] clct_ans[np.int64(52), np.int64(48)] cl_acc1.000  lr 0.018856 50.013sec(train) 21.211sec(infer)\n"
     ]
    },
    {
     "name": "stdout",
     "output_type": "stream",
     "text": [
      "Epoch 564 tst: l 1.025 a 0.750 clct[np.int64(20), np.int64(20)] clct_ans[np.int64(20), np.int64(20)] cl_acc1.000  3.349sec\n"
     ]
    },
    {
     "name": "stdout",
     "output_type": "stream",
     "text": [
      "Epoch 565 tr: l 0.749 a 0.787 clct[np.int64(52), np.int64(48)] clct_ans[np.int64(52), np.int64(48)] cl_acc1.000  lr 0.018846 50.171sec(train) 21.414sec(infer)\n"
     ]
    },
    {
     "name": "stdout",
     "output_type": "stream",
     "text": [
      "Epoch 565 tst: l 1.024 a 0.751 clct[np.int64(20), np.int64(20)] clct_ans[np.int64(20), np.int64(20)] cl_acc1.000  3.446sec\n"
     ]
    },
    {
     "name": "stdout",
     "output_type": "stream",
     "text": [
      "Epoch 566 tr: l 0.738 a 0.785 clct[np.int64(50), np.int64(50)] clct_ans[np.int64(50), np.int64(50)] cl_acc1.000  lr 0.018837 49.936sec(train) 21.273sec(infer)\n"
     ]
    },
    {
     "name": "stdout",
     "output_type": "stream",
     "text": [
      "Epoch 566 tst: l 1.026 a 0.751 clct[np.int64(20), np.int64(20)] clct_ans[np.int64(20), np.int64(20)] cl_acc1.000  3.347sec\n"
     ]
    },
    {
     "name": "stdout",
     "output_type": "stream",
     "text": [
      "Epoch 567 tr: l 0.742 a 0.786 clct[np.int64(53), np.int64(47)] clct_ans[np.int64(53), np.int64(47)] cl_acc1.000  lr 0.018827 50.062sec(train) 21.288sec(infer)\n"
     ]
    },
    {
     "name": "stdout",
     "output_type": "stream",
     "text": [
      "Epoch 567 tst: l 1.026 a 0.751 clct[np.int64(20), np.int64(20)] clct_ans[np.int64(20), np.int64(20)] cl_acc1.000  3.391sec\n"
     ]
    },
    {
     "name": "stdout",
     "output_type": "stream",
     "text": [
      "Epoch 568 tr: l 0.750 a 0.785 clct[np.int64(49), np.int64(51)] clct_ans[np.int64(49), np.int64(51)] cl_acc1.000  lr 0.018818 48.632sec(train) 21.449sec(infer)\n"
     ]
    },
    {
     "name": "stdout",
     "output_type": "stream",
     "text": [
      "Epoch 568 tst: l 1.026 a 0.752 clct[np.int64(20), np.int64(20)] clct_ans[np.int64(20), np.int64(20)] cl_acc1.000  3.300sec\n"
     ]
    },
    {
     "name": "stdout",
     "output_type": "stream",
     "text": [
      "Epoch 569 tr: l 0.741 a 0.788 clct[np.int64(55), np.int64(45)] clct_ans[np.int64(55), np.int64(45)] cl_acc1.000  lr 0.018808 48.493sec(train) 21.128sec(infer)\n"
     ]
    },
    {
     "name": "stdout",
     "output_type": "stream",
     "text": [
      "Epoch 569 tst: l 1.031 a 0.751 clct[np.int64(20), np.int64(20)] clct_ans[np.int64(20), np.int64(20)] cl_acc1.000  3.303sec\n"
     ]
    },
    {
     "name": "stdout",
     "output_type": "stream",
     "text": [
      "Epoch 570 tr: l 0.748 a 0.787 clct[np.int64(47), np.int64(53)] clct_ans[np.int64(47), np.int64(53)] cl_acc1.000  lr 0.018799 49.498sec(train) 21.285sec(infer)\n"
     ]
    },
    {
     "name": "stdout",
     "output_type": "stream",
     "text": [
      "Epoch 570 tst: l 1.032 a 0.751 clct[np.int64(20), np.int64(20)] clct_ans[np.int64(20), np.int64(20)] cl_acc1.000  3.547sec\n"
     ]
    },
    {
     "name": "stdout",
     "output_type": "stream",
     "text": [
      "result written at output_dfca_gi/results.pickle\n",
      "checkpoint written at output_dfca_gi/checkpoint.pt\n"
     ]
    },
    {
     "name": "stdout",
     "output_type": "stream",
     "text": [
      "Epoch 571 tr: l 0.735 a 0.786 clct[np.int64(45), np.int64(55)] clct_ans[np.int64(45), np.int64(55)] cl_acc1.000  lr 0.018790 49.798sec(train) 21.394sec(infer)\n"
     ]
    },
    {
     "name": "stdout",
     "output_type": "stream",
     "text": [
      "Epoch 571 tst: l 1.032 a 0.750 clct[np.int64(20), np.int64(20)] clct_ans[np.int64(20), np.int64(20)] cl_acc1.000  3.316sec\n"
     ]
    },
    {
     "name": "stdout",
     "output_type": "stream",
     "text": [
      "Epoch 572 tr: l 0.741 a 0.788 clct[np.int64(50), np.int64(50)] clct_ans[np.int64(50), np.int64(50)] cl_acc1.000  lr 0.018780 49.095sec(train) 21.110sec(infer)\n"
     ]
    },
    {
     "name": "stdout",
     "output_type": "stream",
     "text": [
      "Epoch 572 tst: l 1.033 a 0.749 clct[np.int64(20), np.int64(20)] clct_ans[np.int64(20), np.int64(20)] cl_acc1.000  3.383sec\n"
     ]
    },
    {
     "name": "stdout",
     "output_type": "stream",
     "text": [
      "Epoch 573 tr: l 0.740 a 0.786 clct[np.int64(43), np.int64(57)] clct_ans[np.int64(43), np.int64(57)] cl_acc1.000  lr 0.018771 48.653sec(train) 21.341sec(infer)\n"
     ]
    },
    {
     "name": "stdout",
     "output_type": "stream",
     "text": [
      "Epoch 573 tst: l 1.033 a 0.749 clct[np.int64(20), np.int64(20)] clct_ans[np.int64(20), np.int64(20)] cl_acc1.000  3.410sec\n"
     ]
    },
    {
     "name": "stdout",
     "output_type": "stream",
     "text": [
      "Epoch 574 tr: l 0.750 a 0.786 clct[np.int64(58), np.int64(42)] clct_ans[np.int64(58), np.int64(42)] cl_acc1.000  lr 0.018761 48.931sec(train) 21.514sec(infer)\n"
     ]
    },
    {
     "name": "stdout",
     "output_type": "stream",
     "text": [
      "Epoch 574 tst: l 1.034 a 0.750 clct[np.int64(20), np.int64(20)] clct_ans[np.int64(20), np.int64(20)] cl_acc1.000  3.295sec\n"
     ]
    },
    {
     "name": "stdout",
     "output_type": "stream",
     "text": [
      "Epoch 575 tr: l 0.735 a 0.790 clct[np.int64(51), np.int64(49)] clct_ans[np.int64(51), np.int64(49)] cl_acc1.000  lr 0.018752 48.703sec(train) 21.208sec(infer)\n"
     ]
    },
    {
     "name": "stdout",
     "output_type": "stream",
     "text": [
      "Epoch 575 tst: l 1.031 a 0.750 clct[np.int64(20), np.int64(20)] clct_ans[np.int64(20), np.int64(20)] cl_acc1.000  3.501sec\n"
     ]
    },
    {
     "name": "stdout",
     "output_type": "stream",
     "text": [
      "Epoch 576 tr: l 0.743 a 0.787 clct[np.int64(51), np.int64(49)] clct_ans[np.int64(51), np.int64(49)] cl_acc1.000  lr 0.018743 48.614sec(train) 21.307sec(infer)\n"
     ]
    },
    {
     "name": "stdout",
     "output_type": "stream",
     "text": [
      "Epoch 576 tst: l 1.029 a 0.751 clct[np.int64(20), np.int64(20)] clct_ans[np.int64(20), np.int64(20)] cl_acc1.000  3.407sec\n"
     ]
    },
    {
     "name": "stdout",
     "output_type": "stream",
     "text": [
      "Epoch 577 tr: l 0.743 a 0.787 clct[np.int64(47), np.int64(53)] clct_ans[np.int64(47), np.int64(53)] cl_acc1.000  lr 0.018733 49.007sec(train) 21.237sec(infer)\n"
     ]
    },
    {
     "name": "stdout",
     "output_type": "stream",
     "text": [
      "Epoch 577 tst: l 1.028 a 0.751 clct[np.int64(20), np.int64(20)] clct_ans[np.int64(20), np.int64(20)] cl_acc1.000  3.388sec\n"
     ]
    },
    {
     "name": "stdout",
     "output_type": "stream",
     "text": [
      "Epoch 578 tr: l 0.753 a 0.784 clct[np.int64(51), np.int64(49)] clct_ans[np.int64(51), np.int64(49)] cl_acc1.000  lr 0.018724 48.564sec(train) 21.186sec(infer)\n"
     ]
    },
    {
     "name": "stdout",
     "output_type": "stream",
     "text": [
      "Epoch 578 tst: l 1.030 a 0.750 clct[np.int64(20), np.int64(20)] clct_ans[np.int64(20), np.int64(20)] cl_acc1.000  3.301sec\n"
     ]
    },
    {
     "name": "stdout",
     "output_type": "stream",
     "text": [
      "Epoch 579 tr: l 0.740 a 0.788 clct[np.int64(47), np.int64(53)] clct_ans[np.int64(47), np.int64(53)] cl_acc1.000  lr 0.018715 49.101sec(train) 21.492sec(infer)\n"
     ]
    },
    {
     "name": "stdout",
     "output_type": "stream",
     "text": [
      "Epoch 579 tst: l 1.031 a 0.750 clct[np.int64(20), np.int64(20)] clct_ans[np.int64(20), np.int64(20)] cl_acc1.000  3.216sec\n"
     ]
    },
    {
     "name": "stdout",
     "output_type": "stream",
     "text": [
      "Epoch 580 tr: l 0.746 a 0.786 clct[np.int64(53), np.int64(47)] clct_ans[np.int64(53), np.int64(47)] cl_acc1.000  lr 0.018705 48.778sec(train) 21.062sec(infer)\n"
     ]
    },
    {
     "name": "stdout",
     "output_type": "stream",
     "text": [
      "Epoch 580 tst: l 1.029 a 0.751 clct[np.int64(20), np.int64(20)] clct_ans[np.int64(20), np.int64(20)] cl_acc1.000  3.367sec\n"
     ]
    },
    {
     "name": "stdout",
     "output_type": "stream",
     "text": [
      "result written at output_dfca_gi/results.pickle\n",
      "checkpoint written at output_dfca_gi/checkpoint.pt\n"
     ]
    },
    {
     "name": "stdout",
     "output_type": "stream",
     "text": [
      "Epoch 581 tr: l 0.736 a 0.790 clct[np.int64(52), np.int64(48)] clct_ans[np.int64(52), np.int64(48)] cl_acc1.000  lr 0.018696 48.635sec(train) 21.400sec(infer)\n"
     ]
    },
    {
     "name": "stdout",
     "output_type": "stream",
     "text": [
      "Epoch 581 tst: l 1.031 a 0.750 clct[np.int64(20), np.int64(20)] clct_ans[np.int64(20), np.int64(20)] cl_acc1.000  3.628sec\n"
     ]
    },
    {
     "name": "stdout",
     "output_type": "stream",
     "text": [
      "Epoch 582 tr: l 0.746 a 0.788 clct[np.int64(47), np.int64(53)] clct_ans[np.int64(47), np.int64(53)] cl_acc1.000  lr 0.018687 48.818sec(train) 21.321sec(infer)\n"
     ]
    },
    {
     "name": "stdout",
     "output_type": "stream",
     "text": [
      "Epoch 582 tst: l 1.034 a 0.750 clct[np.int64(20), np.int64(20)] clct_ans[np.int64(20), np.int64(20)] cl_acc1.000  3.278sec\n"
     ]
    },
    {
     "name": "stdout",
     "output_type": "stream",
     "text": [
      "Epoch 583 tr: l 0.762 a 0.785 clct[np.int64(50), np.int64(50)] clct_ans[np.int64(50), np.int64(50)] cl_acc1.000  lr 0.018677 48.693sec(train) 21.071sec(infer)\n"
     ]
    },
    {
     "name": "stdout",
     "output_type": "stream",
     "text": [
      "Epoch 583 tst: l 1.033 a 0.750 clct[np.int64(20), np.int64(20)] clct_ans[np.int64(20), np.int64(20)] cl_acc1.000  3.330sec\n"
     ]
    },
    {
     "name": "stdout",
     "output_type": "stream",
     "text": [
      "Epoch 584 tr: l 0.729 a 0.791 clct[np.int64(52), np.int64(48)] clct_ans[np.int64(52), np.int64(48)] cl_acc1.000  lr 0.018668 50.011sec(train) 21.540sec(infer)\n"
     ]
    },
    {
     "name": "stdout",
     "output_type": "stream",
     "text": [
      "Epoch 584 tst: l 1.032 a 0.750 clct[np.int64(20), np.int64(20)] clct_ans[np.int64(20), np.int64(20)] cl_acc1.000  3.675sec\n"
     ]
    },
    {
     "name": "stdout",
     "output_type": "stream",
     "text": [
      "Epoch 585 tr: l 0.739 a 0.787 clct[np.int64(50), np.int64(50)] clct_ans[np.int64(50), np.int64(50)] cl_acc1.000  lr 0.018659 49.054sec(train) 21.822sec(infer)\n"
     ]
    },
    {
     "name": "stdout",
     "output_type": "stream",
     "text": [
      "Epoch 585 tst: l 1.034 a 0.750 clct[np.int64(20), np.int64(20)] clct_ans[np.int64(20), np.int64(20)] cl_acc1.000  3.662sec\n"
     ]
    },
    {
     "name": "stdout",
     "output_type": "stream",
     "text": [
      "Epoch 586 tr: l 0.729 a 0.789 clct[np.int64(59), np.int64(41)] clct_ans[np.int64(59), np.int64(41)] cl_acc1.000  lr 0.018649 48.333sec(train) 21.575sec(infer)\n"
     ]
    },
    {
     "name": "stdout",
     "output_type": "stream",
     "text": [
      "Epoch 586 tst: l 1.037 a 0.750 clct[np.int64(20), np.int64(20)] clct_ans[np.int64(20), np.int64(20)] cl_acc1.000  3.603sec\n"
     ]
    },
    {
     "name": "stdout",
     "output_type": "stream",
     "text": [
      "Epoch 587 tr: l 0.755 a 0.787 clct[np.int64(49), np.int64(51)] clct_ans[np.int64(49), np.int64(51)] cl_acc1.000  lr 0.018640 50.688sec(train) 21.889sec(infer)\n"
     ]
    },
    {
     "name": "stdout",
     "output_type": "stream",
     "text": [
      "Epoch 587 tst: l 1.033 a 0.751 clct[np.int64(20), np.int64(20)] clct_ans[np.int64(20), np.int64(20)] cl_acc1.000  3.528sec\n"
     ]
    },
    {
     "name": "stdout",
     "output_type": "stream",
     "text": [
      "Epoch 588 tr: l 0.728 a 0.788 clct[np.int64(50), np.int64(50)] clct_ans[np.int64(50), np.int64(50)] cl_acc1.000  lr 0.018631 49.448sec(train) 22.555sec(infer)\n"
     ]
    },
    {
     "name": "stdout",
     "output_type": "stream",
     "text": [
      "Epoch 588 tst: l 1.028 a 0.751 clct[np.int64(20), np.int64(20)] clct_ans[np.int64(20), np.int64(20)] cl_acc1.000  3.609sec\n"
     ]
    },
    {
     "name": "stdout",
     "output_type": "stream",
     "text": [
      "Epoch 589 tr: l 0.736 a 0.791 clct[np.int64(52), np.int64(48)] clct_ans[np.int64(52), np.int64(48)] cl_acc1.000  lr 0.018621 48.834sec(train) 22.109sec(infer)\n"
     ]
    },
    {
     "name": "stdout",
     "output_type": "stream",
     "text": [
      "Epoch 589 tst: l 1.034 a 0.751 clct[np.int64(20), np.int64(20)] clct_ans[np.int64(20), np.int64(20)] cl_acc1.000  3.806sec\n"
     ]
    },
    {
     "name": "stdout",
     "output_type": "stream",
     "text": [
      "Epoch 590 tr: l 0.749 a 0.786 clct[np.int64(54), np.int64(46)] clct_ans[np.int64(54), np.int64(46)] cl_acc1.000  lr 0.018612 50.373sec(train) 21.846sec(infer)\n"
     ]
    },
    {
     "name": "stdout",
     "output_type": "stream",
     "text": [
      "Epoch 590 tst: l 1.034 a 0.750 clct[np.int64(20), np.int64(20)] clct_ans[np.int64(20), np.int64(20)] cl_acc1.000  3.701sec\n"
     ]
    },
    {
     "name": "stdout",
     "output_type": "stream",
     "text": [
      "result written at output_dfca_gi/results.pickle\n",
      "checkpoint written at output_dfca_gi/checkpoint.pt\n"
     ]
    },
    {
     "name": "stdout",
     "output_type": "stream",
     "text": [
      "Epoch 591 tr: l 0.737 a 0.789 clct[np.int64(50), np.int64(50)] clct_ans[np.int64(50), np.int64(50)] cl_acc1.000  lr 0.018603 49.808sec(train) 21.283sec(infer)\n"
     ]
    },
    {
     "name": "stdout",
     "output_type": "stream",
     "text": [
      "Epoch 591 tst: l 1.032 a 0.751 clct[np.int64(20), np.int64(20)] clct_ans[np.int64(20), np.int64(20)] cl_acc1.000  3.692sec\n"
     ]
    },
    {
     "name": "stdout",
     "output_type": "stream",
     "text": [
      "Epoch 592 tr: l 0.732 a 0.790 clct[np.int64(50), np.int64(50)] clct_ans[np.int64(50), np.int64(50)] cl_acc1.000  lr 0.018593 49.833sec(train) 21.048sec(infer)\n"
     ]
    },
    {
     "name": "stdout",
     "output_type": "stream",
     "text": [
      "Epoch 592 tst: l 1.033 a 0.750 clct[np.int64(20), np.int64(20)] clct_ans[np.int64(20), np.int64(20)] cl_acc1.000  3.371sec\n"
     ]
    },
    {
     "name": "stdout",
     "output_type": "stream",
     "text": [
      "Epoch 593 tr: l 0.736 a 0.789 clct[np.int64(50), np.int64(50)] clct_ans[np.int64(50), np.int64(50)] cl_acc1.000  lr 0.018584 50.186sec(train) 21.534sec(infer)\n"
     ]
    },
    {
     "name": "stdout",
     "output_type": "stream",
     "text": [
      "Epoch 593 tst: l 1.033 a 0.750 clct[np.int64(20), np.int64(20)] clct_ans[np.int64(20), np.int64(20)] cl_acc1.000  3.322sec\n"
     ]
    },
    {
     "name": "stdout",
     "output_type": "stream",
     "text": [
      "Epoch 594 tr: l 0.757 a 0.785 clct[np.int64(43), np.int64(57)] clct_ans[np.int64(43), np.int64(57)] cl_acc1.000  lr 0.018575 50.116sec(train) 20.931sec(infer)\n"
     ]
    },
    {
     "name": "stdout",
     "output_type": "stream",
     "text": [
      "Epoch 594 tst: l 1.034 a 0.751 clct[np.int64(20), np.int64(20)] clct_ans[np.int64(20), np.int64(20)] cl_acc1.000  3.420sec\n"
     ]
    },
    {
     "name": "stdout",
     "output_type": "stream",
     "text": [
      "Epoch 595 tr: l 0.735 a 0.791 clct[np.int64(44), np.int64(56)] clct_ans[np.int64(44), np.int64(56)] cl_acc1.000  lr 0.018565 50.025sec(train) 21.658sec(infer)\n"
     ]
    },
    {
     "name": "stdout",
     "output_type": "stream",
     "text": [
      "Epoch 595 tst: l 1.031 a 0.751 clct[np.int64(20), np.int64(20)] clct_ans[np.int64(20), np.int64(20)] cl_acc1.000  3.585sec\n"
     ]
    },
    {
     "name": "stdout",
     "output_type": "stream",
     "text": [
      "Epoch 596 tr: l 0.743 a 0.789 clct[np.int64(49), np.int64(51)] clct_ans[np.int64(49), np.int64(51)] cl_acc1.000  lr 0.018556 48.349sec(train) 21.567sec(infer)\n"
     ]
    },
    {
     "name": "stdout",
     "output_type": "stream",
     "text": [
      "Epoch 596 tst: l 1.031 a 0.751 clct[np.int64(20), np.int64(20)] clct_ans[np.int64(20), np.int64(20)] cl_acc1.000  3.583sec\n"
     ]
    },
    {
     "name": "stdout",
     "output_type": "stream",
     "text": [
      "Epoch 597 tr: l 0.745 a 0.788 clct[np.int64(54), np.int64(46)] clct_ans[np.int64(54), np.int64(46)] cl_acc1.000  lr 0.018547 49.504sec(train) 21.474sec(infer)\n"
     ]
    },
    {
     "name": "stdout",
     "output_type": "stream",
     "text": [
      "Epoch 597 tst: l 1.038 a 0.750 clct[np.int64(20), np.int64(20)] clct_ans[np.int64(20), np.int64(20)] cl_acc1.000  3.685sec\n"
     ]
    },
    {
     "name": "stdout",
     "output_type": "stream",
     "text": [
      "Epoch 598 tr: l 0.749 a 0.788 clct[np.int64(54), np.int64(46)] clct_ans[np.int64(54), np.int64(46)] cl_acc1.000  lr 0.018538 49.370sec(train) 21.645sec(infer)\n"
     ]
    },
    {
     "name": "stdout",
     "output_type": "stream",
     "text": [
      "Epoch 598 tst: l 1.039 a 0.750 clct[np.int64(20), np.int64(20)] clct_ans[np.int64(20), np.int64(20)] cl_acc1.000  3.552sec\n"
     ]
    },
    {
     "name": "stdout",
     "output_type": "stream",
     "text": [
      "Epoch 599 tr: l 0.759 a 0.786 clct[np.int64(52), np.int64(48)] clct_ans[np.int64(52), np.int64(48)] cl_acc1.000  lr 0.018528 50.142sec(train) 21.549sec(infer)\n"
     ]
    },
    {
     "name": "stdout",
     "output_type": "stream",
     "text": [
      "Epoch 599 tst: l 1.036 a 0.750 clct[np.int64(20), np.int64(20)] clct_ans[np.int64(20), np.int64(20)] cl_acc1.000  3.507sec\n"
     ]
    },
    {
     "name": "stdout",
     "output_type": "stream",
     "text": [
      "result written at output_dfca_gi/results.pickle\n",
      "checkpoint written at output_dfca_gi/checkpoint.pt\n",
      "---train cluster Ended in 12.46 hour (44868.844 sec) \n"
     ]
    }
   ],
   "source": [
    "torch.cuda.empty_cache()\n",
    "\n",
    "with open(\"config.json\", \"r\") as read_file:\n",
    "    config = json.load(read_file)\n",
    "\n",
    "res_final = []\n",
    "\n",
    "start_time = time.time()\n",
    "config['data_seed'] = 13\n",
    "config['train_seed'] = config['data_seed']\n",
    "\n",
    "print(\"config:\",config)\n",
    "device = torch.device(\"cuda\" if torch.cuda.is_available() else \"cpu\")\n",
    "print(f\"Using device: {device}\")\n",
    "\n",
    "exp = DFCA.TrainCIFARCluster(config, device)\n",
    "exp.setup()\n",
    "res = exp.run()\n",
    "res_final.append([[r['test']['loss'] for r in res], [r['test']['acc'] for r in res],  [r['test']['cl_acc'] for r in res]])\n",
    "duration = (time.time() - start_time)\n",
    "print(\"---train cluster Ended in %0.2f hour (%.3f sec) \" % (duration/float(3600), duration))\n"
   ]
  },
  {
   "cell_type": "code",
   "execution_count": 3,
   "id": "cd98e684",
   "metadata": {
    "execution": {
     "iopub.execute_input": "2025-06-14T22:46:24.849957Z",
     "iopub.status.busy": "2025-06-14T22:46:24.849646Z",
     "iopub.status.idle": "2025-06-14T22:46:24.856043Z",
     "shell.execute_reply": "2025-06-14T22:46:24.855054Z"
    }
   },
   "outputs": [
    {
     "name": "stdout",
     "output_type": "stream",
     "text": [
      "Last Epoch Test Loss: 1.036273318529129\n",
      "Last Epoch Test Accuracy: 0.74985\n",
      "Last Epoch Test Cluster Accuracy: 1.0\n"
     ]
    }
   ],
   "source": [
    "last_loss = res_final[0][0][-1]\n",
    "last_acc = res_final[0][1][-1]\n",
    "last_cl_acc = res_final[0][2][-1]\n",
    "\n",
    "print(\"Last Epoch Test Loss:\", last_loss)\n",
    "print(\"Last Epoch Test Accuracy:\", last_acc)\n",
    "print(\"Last Epoch Test Cluster Accuracy:\", last_cl_acc)"
   ]
  }
 ],
 "metadata": {
  "kernelspec": {
   "display_name": "Python 3",
   "language": "python",
   "name": "python3"
  },
  "language_info": {
   "codemirror_mode": {
    "name": "ipython",
    "version": 3
   },
   "file_extension": ".py",
   "mimetype": "text/x-python",
   "name": "python",
   "nbconvert_exporter": "python",
   "pygments_lexer": "ipython3",
   "version": "3.11.11"
  }
 },
 "nbformat": 4,
 "nbformat_minor": 5
}
