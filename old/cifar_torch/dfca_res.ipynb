{
 "cells": [
  {
   "cell_type": "code",
   "execution_count": 1,
   "id": "2f20bfb1",
   "metadata": {
    "execution": {
     "iopub.execute_input": "2025-06-11T16:30:45.496358Z",
     "iopub.status.busy": "2025-06-11T16:30:45.495903Z",
     "iopub.status.idle": "2025-06-11T16:30:49.955904Z",
     "shell.execute_reply": "2025-06-11T16:30:49.954778Z"
    }
   },
   "outputs": [],
   "source": [
    "import json\n",
    "import os\n",
    "import time\n",
    "import ipyparallel as ipp\n",
    "\n",
    "import matplotlib.pyplot as plt\n",
    "import torch\n",
    "import dfca as DFCA\n",
    "import numpy as np\n",
    "\n",
    "from util import *"
   ]
  },
  {
   "cell_type": "code",
   "execution_count": 2,
   "id": "ee6c788b",
   "metadata": {
    "execution": {
     "iopub.execute_input": "2025-06-11T16:30:49.960038Z",
     "iopub.status.busy": "2025-06-11T16:30:49.959648Z",
     "iopub.status.idle": "2025-06-12T11:01:48.828369Z",
     "shell.execute_reply": "2025-06-12T11:01:48.827243Z"
    }
   },
   "outputs": [
    {
     "name": "stdout",
     "output_type": "stream",
     "text": [
      "config: {'m': 200, 'm_test': 40, 'p': 2, 'n': 500, 'uneven': False, 'local_model_init': False, 'participation_rate': 0.8, 'h1': 128, 'num_epochs': 600, 'batch_size': 50, 'tau': 5, 'lr': 0.25, 'data_seed': 13, 'train_seed': 13, 'config_override': '', 'project_dir': 'output_dfca_gi'}\n",
      "Using device: cuda\n",
      "num_data: 50000\n"
     ]
    },
    {
     "name": "stdout",
     "output_type": "stream",
     "text": [
      "num_data: 10000\n"
     ]
    },
    {
     "name": "stdout",
     "output_type": "stream",
     "text": [
      "finding good initializer from train data\n"
     ]
    },
    {
     "name": "stdout",
     "output_type": "stream",
     "text": [
      "Epoch -1 tr: l 2.302 a 0.115 clct[np.int64(59), np.int64(101)] clct_ans[np.int64(82), np.int64(78)] cl_acc0.581  37.763sec\n",
      "found good initializer\n"
     ]
    },
    {
     "name": "stdout",
     "output_type": "stream",
     "text": [
      "Epoch -1 tr: l 2.302 a 0.115 clct[np.int64(60), np.int64(100)] clct_ans[np.int64(82), np.int64(78)] cl_acc0.575  34.935sec\n"
     ]
    },
    {
     "name": "stdout",
     "output_type": "stream",
     "text": [
      "Epoch -1 tst: l 2.302 a 0.111 clct[np.int64(13), np.int64(27)] clct_ans[np.int64(20), np.int64(20)] cl_acc0.525  3.275sec\n"
     ]
    },
    {
     "name": "stdout",
     "output_type": "stream",
     "text": [
      "Epoch 0 tr: l 2.211 a 0.192 clct[np.int64(63), np.int64(97)] clct_ans[np.int64(78), np.int64(82)] cl_acc0.631  lr 0.250000 69.911sec(train) 35.069sec(infer)\n"
     ]
    },
    {
     "name": "stdout",
     "output_type": "stream",
     "text": [
      "Epoch 0 tst: l 2.218 a 0.193 clct[np.int64(10), np.int64(30)] clct_ans[np.int64(20), np.int64(20)] cl_acc0.650  3.440sec\n",
      "result written at output_dfca_gi/results.pickle\n",
      "checkpoint written at output_dfca_gi/checkpoint.pt\n"
     ]
    },
    {
     "name": "stdout",
     "output_type": "stream",
     "text": [
      "Epoch 1 tr: l 2.121 a 0.246 clct[np.int64(58), np.int64(102)] clct_ans[np.int64(74), np.int64(86)] cl_acc0.700  lr 0.249875 71.725sec(train) 35.363sec(infer)\n"
     ]
    },
    {
     "name": "stdout",
     "output_type": "stream",
     "text": [
      "Epoch 1 tst: l 2.131 a 0.251 clct[np.int64(13), np.int64(27)] clct_ans[np.int64(20), np.int64(20)] cl_acc0.725  3.269sec\n"
     ]
    },
    {
     "name": "stdout",
     "output_type": "stream",
     "text": [
      "Epoch 2 tr: l 2.035 a 0.287 clct[np.int64(67), np.int64(93)] clct_ans[np.int64(77), np.int64(83)] cl_acc0.863  lr 0.249750 71.239sec(train) 34.612sec(infer)\n"
     ]
    },
    {
     "name": "stdout",
     "output_type": "stream",
     "text": [
      "Epoch 2 tst: l 2.041 a 0.297 clct[np.int64(16), np.int64(24)] clct_ans[np.int64(20), np.int64(20)] cl_acc0.900  3.288sec\n"
     ]
    },
    {
     "name": "stdout",
     "output_type": "stream",
     "text": [
      "Epoch 3 tr: l 1.940 a 0.323 clct[np.int64(76), np.int64(84)] clct_ans[np.int64(79), np.int64(81)] cl_acc0.944  lr 0.249625 72.843sec(train) 34.957sec(infer)\n"
     ]
    },
    {
     "name": "stdout",
     "output_type": "stream",
     "text": [
      "Epoch 3 tst: l 1.951 a 0.328 clct[np.int64(17), np.int64(23)] clct_ans[np.int64(20), np.int64(20)] cl_acc0.925  3.341sec\n"
     ]
    },
    {
     "name": "stdout",
     "output_type": "stream",
     "text": [
      "Epoch 4 tr: l 1.843 a 0.349 clct[np.int64(75), np.int64(85)] clct_ans[np.int64(78), np.int64(82)] cl_acc0.969  lr 0.249500 70.525sec(train) 34.582sec(infer)\n"
     ]
    },
    {
     "name": "stdout",
     "output_type": "stream",
     "text": [
      "Epoch 4 tst: l 1.810 a 0.374 clct[np.int64(19), np.int64(21)] clct_ans[np.int64(20), np.int64(20)] cl_acc0.975  3.295sec\n"
     ]
    },
    {
     "name": "stdout",
     "output_type": "stream",
     "text": [
      "Epoch 5 tr: l 1.768 a 0.376 clct[np.int64(82), np.int64(78)] clct_ans[np.int64(82), np.int64(78)] cl_acc1.000  lr 0.249376 71.665sec(train) 34.631sec(infer)\n"
     ]
    },
    {
     "name": "stdout",
     "output_type": "stream",
     "text": [
      "Epoch 5 tst: l 1.735 a 0.404 clct[np.int64(20), np.int64(20)] clct_ans[np.int64(20), np.int64(20)] cl_acc1.000  3.335sec\n"
     ]
    },
    {
     "name": "stdout",
     "output_type": "stream",
     "text": [
      "Epoch 6 tr: l 1.699 a 0.393 clct[np.int64(77), np.int64(83)] clct_ans[np.int64(77), np.int64(83)] cl_acc1.000  lr 0.249251 73.337sec(train) 34.647sec(infer)\n"
     ]
    },
    {
     "name": "stdout",
     "output_type": "stream",
     "text": [
      "Epoch 6 tst: l 1.669 a 0.413 clct[np.int64(20), np.int64(20)] clct_ans[np.int64(20), np.int64(20)] cl_acc1.000  3.295sec\n"
     ]
    },
    {
     "name": "stdout",
     "output_type": "stream",
     "text": [
      "Epoch 7 tr: l 1.639 a 0.416 clct[np.int64(77), np.int64(83)] clct_ans[np.int64(77), np.int64(83)] cl_acc1.000  lr 0.249126 70.385sec(train) 34.792sec(infer)\n"
     ]
    },
    {
     "name": "stdout",
     "output_type": "stream",
     "text": [
      "Epoch 7 tst: l 1.601 a 0.435 clct[np.int64(20), np.int64(20)] clct_ans[np.int64(20), np.int64(20)] cl_acc1.000  3.289sec\n"
     ]
    },
    {
     "name": "stdout",
     "output_type": "stream",
     "text": [
      "Epoch 8 tr: l 1.583 a 0.433 clct[np.int64(84), np.int64(76)] clct_ans[np.int64(84), np.int64(76)] cl_acc1.000  lr 0.249002 68.413sec(train) 34.725sec(infer)\n"
     ]
    },
    {
     "name": "stdout",
     "output_type": "stream",
     "text": [
      "Epoch 8 tst: l 1.540 a 0.456 clct[np.int64(20), np.int64(20)] clct_ans[np.int64(20), np.int64(20)] cl_acc1.000  3.435sec\n"
     ]
    },
    {
     "name": "stdout",
     "output_type": "stream",
     "text": [
      "Epoch 9 tr: l 1.550 a 0.450 clct[np.int64(83), np.int64(77)] clct_ans[np.int64(83), np.int64(77)] cl_acc1.000  lr 0.248877 72.743sec(train) 34.646sec(infer)\n"
     ]
    },
    {
     "name": "stdout",
     "output_type": "stream",
     "text": [
      "Epoch 9 tst: l 1.529 a 0.464 clct[np.int64(20), np.int64(20)] clct_ans[np.int64(20), np.int64(20)] cl_acc1.000  3.295sec\n"
     ]
    },
    {
     "name": "stdout",
     "output_type": "stream",
     "text": [
      "Epoch 10 tr: l 1.504 a 0.467 clct[np.int64(85), np.int64(75)] clct_ans[np.int64(85), np.int64(75)] cl_acc1.000  lr 0.248753 70.516sec(train) 35.120sec(infer)\n"
     ]
    },
    {
     "name": "stdout",
     "output_type": "stream",
     "text": [
      "Epoch 10 tst: l 1.468 a 0.485 clct[np.int64(20), np.int64(20)] clct_ans[np.int64(20), np.int64(20)] cl_acc1.000  3.276sec\n",
      "result written at output_dfca_gi/results.pickle\n",
      "checkpoint written at output_dfca_gi/checkpoint.pt\n"
     ]
    },
    {
     "name": "stdout",
     "output_type": "stream",
     "text": [
      "Epoch 11 tr: l 1.473 a 0.480 clct[np.int64(76), np.int64(84)] clct_ans[np.int64(76), np.int64(84)] cl_acc1.000  lr 0.248628 70.690sec(train) 34.767sec(infer)\n"
     ]
    },
    {
     "name": "stdout",
     "output_type": "stream",
     "text": [
      "Epoch 11 tst: l 1.483 a 0.481 clct[np.int64(19), np.int64(21)] clct_ans[np.int64(20), np.int64(20)] cl_acc0.975  3.295sec\n"
     ]
    },
    {
     "name": "stdout",
     "output_type": "stream",
     "text": [
      "Epoch 12 tr: l 1.455 a 0.497 clct[np.int64(83), np.int64(77)] clct_ans[np.int64(83), np.int64(77)] cl_acc1.000  lr 0.248504 72.009sec(train) 34.747sec(infer)\n"
     ]
    },
    {
     "name": "stdout",
     "output_type": "stream",
     "text": [
      "Epoch 12 tst: l 1.452 a 0.497 clct[np.int64(19), np.int64(21)] clct_ans[np.int64(20), np.int64(20)] cl_acc0.975  3.243sec\n"
     ]
    },
    {
     "name": "stdout",
     "output_type": "stream",
     "text": [
      "Epoch 13 tr: l 1.428 a 0.510 clct[np.int64(75), np.int64(85)] clct_ans[np.int64(76), np.int64(84)] cl_acc0.994  lr 0.248380 73.658sec(train) 34.697sec(infer)\n"
     ]
    },
    {
     "name": "stdout",
     "output_type": "stream",
     "text": [
      "Epoch 13 tst: l 1.412 a 0.517 clct[np.int64(19), np.int64(21)] clct_ans[np.int64(20), np.int64(20)] cl_acc0.975  3.282sec\n"
     ]
    },
    {
     "name": "stdout",
     "output_type": "stream",
     "text": [
      "Epoch 14 tr: l 1.398 a 0.527 clct[np.int64(77), np.int64(83)] clct_ans[np.int64(77), np.int64(83)] cl_acc1.000  lr 0.248256 72.831sec(train) 34.750sec(infer)\n"
     ]
    },
    {
     "name": "stdout",
     "output_type": "stream",
     "text": [
      "Epoch 14 tst: l 1.386 a 0.531 clct[np.int64(20), np.int64(20)] clct_ans[np.int64(20), np.int64(20)] cl_acc1.000  3.256sec\n"
     ]
    },
    {
     "name": "stdout",
     "output_type": "stream",
     "text": [
      "Epoch 15 tr: l 1.391 a 0.535 clct[np.int64(77), np.int64(83)] clct_ans[np.int64(77), np.int64(83)] cl_acc1.000  lr 0.248132 71.679sec(train) 34.743sec(infer)\n"
     ]
    },
    {
     "name": "stdout",
     "output_type": "stream",
     "text": [
      "Epoch 15 tst: l 1.389 a 0.541 clct[np.int64(20), np.int64(20)] clct_ans[np.int64(20), np.int64(20)] cl_acc1.000  3.273sec\n"
     ]
    },
    {
     "name": "stdout",
     "output_type": "stream",
     "text": [
      "Epoch 16 tr: l 1.378 a 0.541 clct[np.int64(77), np.int64(83)] clct_ans[np.int64(77), np.int64(83)] cl_acc1.000  lr 0.248007 72.329sec(train) 34.818sec(infer)\n"
     ]
    },
    {
     "name": "stdout",
     "output_type": "stream",
     "text": [
      "Epoch 16 tst: l 1.437 a 0.536 clct[np.int64(20), np.int64(20)] clct_ans[np.int64(20), np.int64(20)] cl_acc1.000  3.293sec\n"
     ]
    },
    {
     "name": "stdout",
     "output_type": "stream",
     "text": [
      "Epoch 17 tr: l 1.341 a 0.550 clct[np.int64(80), np.int64(80)] clct_ans[np.int64(80), np.int64(80)] cl_acc1.000  lr 0.247883 68.810sec(train) 34.808sec(infer)\n"
     ]
    },
    {
     "name": "stdout",
     "output_type": "stream",
     "text": [
      "Epoch 17 tst: l 1.397 a 0.544 clct[np.int64(20), np.int64(20)] clct_ans[np.int64(20), np.int64(20)] cl_acc1.000  3.320sec\n"
     ]
    },
    {
     "name": "stdout",
     "output_type": "stream",
     "text": [
      "Epoch 18 tr: l 1.331 a 0.555 clct[np.int64(85), np.int64(75)] clct_ans[np.int64(85), np.int64(75)] cl_acc1.000  lr 0.247760 71.501sec(train) 35.006sec(infer)\n"
     ]
    },
    {
     "name": "stdout",
     "output_type": "stream",
     "text": [
      "Epoch 18 tst: l 1.376 a 0.549 clct[np.int64(20), np.int64(20)] clct_ans[np.int64(20), np.int64(20)] cl_acc1.000  3.318sec\n"
     ]
    },
    {
     "name": "stdout",
     "output_type": "stream",
     "text": [
      "Epoch 19 tr: l 1.317 a 0.559 clct[np.int64(81), np.int64(79)] clct_ans[np.int64(81), np.int64(79)] cl_acc1.000  lr 0.247636 73.549sec(train) 35.322sec(infer)\n"
     ]
    },
    {
     "name": "stdout",
     "output_type": "stream",
     "text": [
      "Epoch 19 tst: l 1.349 a 0.558 clct[np.int64(20), np.int64(20)] clct_ans[np.int64(20), np.int64(20)] cl_acc1.000  3.397sec\n"
     ]
    },
    {
     "name": "stdout",
     "output_type": "stream",
     "text": [
      "Epoch 20 tr: l 1.283 a 0.568 clct[np.int64(78), np.int64(82)] clct_ans[np.int64(78), np.int64(82)] cl_acc1.000  lr 0.247512 70.197sec(train) 35.419sec(infer)\n"
     ]
    },
    {
     "name": "stdout",
     "output_type": "stream",
     "text": [
      "Epoch 20 tst: l 1.328 a 0.565 clct[np.int64(20), np.int64(20)] clct_ans[np.int64(20), np.int64(20)] cl_acc1.000  3.277sec\n",
      "result written at output_dfca_gi/results.pickle\n",
      "checkpoint written at output_dfca_gi/checkpoint.pt\n"
     ]
    },
    {
     "name": "stdout",
     "output_type": "stream",
     "text": [
      "Epoch 21 tr: l 1.279 a 0.574 clct[np.int64(75), np.int64(85)] clct_ans[np.int64(75), np.int64(85)] cl_acc1.000  lr 0.247388 71.709sec(train) 34.951sec(infer)\n"
     ]
    },
    {
     "name": "stdout",
     "output_type": "stream",
     "text": [
      "Epoch 21 tst: l 1.322 a 0.563 clct[np.int64(20), np.int64(20)] clct_ans[np.int64(20), np.int64(20)] cl_acc1.000  3.301sec\n"
     ]
    },
    {
     "name": "stdout",
     "output_type": "stream",
     "text": [
      "Epoch 22 tr: l 1.286 a 0.569 clct[np.int64(79), np.int64(81)] clct_ans[np.int64(79), np.int64(81)] cl_acc1.000  lr 0.247264 72.694sec(train) 35.090sec(infer)\n"
     ]
    },
    {
     "name": "stdout",
     "output_type": "stream",
     "text": [
      "Epoch 22 tst: l 1.303 a 0.570 clct[np.int64(20), np.int64(20)] clct_ans[np.int64(20), np.int64(20)] cl_acc1.000  3.284sec\n"
     ]
    },
    {
     "name": "stdout",
     "output_type": "stream",
     "text": [
      "Epoch 23 tr: l 1.259 a 0.577 clct[np.int64(82), np.int64(78)] clct_ans[np.int64(82), np.int64(78)] cl_acc1.000  lr 0.247141 71.938sec(train) 34.810sec(infer)\n"
     ]
    },
    {
     "name": "stdout",
     "output_type": "stream",
     "text": [
      "Epoch 23 tst: l 1.304 a 0.571 clct[np.int64(20), np.int64(20)] clct_ans[np.int64(20), np.int64(20)] cl_acc1.000  3.378sec\n"
     ]
    },
    {
     "name": "stdout",
     "output_type": "stream",
     "text": [
      "Epoch 24 tr: l 1.269 a 0.577 clct[np.int64(81), np.int64(79)] clct_ans[np.int64(81), np.int64(79)] cl_acc1.000  lr 0.247017 70.947sec(train) 34.711sec(infer)\n"
     ]
    },
    {
     "name": "stdout",
     "output_type": "stream",
     "text": [
      "Epoch 24 tst: l 1.279 a 0.577 clct[np.int64(20), np.int64(20)] clct_ans[np.int64(20), np.int64(20)] cl_acc1.000  3.326sec\n"
     ]
    },
    {
     "name": "stdout",
     "output_type": "stream",
     "text": [
      "Epoch 25 tr: l 1.264 a 0.575 clct[np.int64(77), np.int64(83)] clct_ans[np.int64(77), np.int64(83)] cl_acc1.000  lr 0.246894 71.063sec(train) 34.542sec(infer)\n"
     ]
    },
    {
     "name": "stdout",
     "output_type": "stream",
     "text": [
      "Epoch 25 tst: l 1.283 a 0.579 clct[np.int64(20), np.int64(20)] clct_ans[np.int64(20), np.int64(20)] cl_acc1.000  3.278sec\n"
     ]
    },
    {
     "name": "stdout",
     "output_type": "stream",
     "text": [
      "Epoch 26 tr: l 1.247 a 0.582 clct[np.int64(85), np.int64(75)] clct_ans[np.int64(85), np.int64(75)] cl_acc1.000  lr 0.246770 72.035sec(train) 34.730sec(infer)\n"
     ]
    },
    {
     "name": "stdout",
     "output_type": "stream",
     "text": [
      "Epoch 26 tst: l 1.302 a 0.573 clct[np.int64(20), np.int64(20)] clct_ans[np.int64(20), np.int64(20)] cl_acc1.000  3.295sec\n"
     ]
    },
    {
     "name": "stdout",
     "output_type": "stream",
     "text": [
      "Epoch 27 tr: l 1.221 a 0.590 clct[np.int64(78), np.int64(82)] clct_ans[np.int64(78), np.int64(82)] cl_acc1.000  lr 0.246647 71.682sec(train) 34.682sec(infer)\n"
     ]
    },
    {
     "name": "stdout",
     "output_type": "stream",
     "text": [
      "Epoch 27 tst: l 1.264 a 0.583 clct[np.int64(20), np.int64(20)] clct_ans[np.int64(20), np.int64(20)] cl_acc1.000  3.282sec\n"
     ]
    },
    {
     "name": "stdout",
     "output_type": "stream",
     "text": [
      "Epoch 28 tr: l 1.216 a 0.593 clct[np.int64(77), np.int64(83)] clct_ans[np.int64(77), np.int64(83)] cl_acc1.000  lr 0.246524 72.750sec(train) 34.752sec(infer)\n"
     ]
    },
    {
     "name": "stdout",
     "output_type": "stream",
     "text": [
      "Epoch 28 tst: l 1.251 a 0.588 clct[np.int64(20), np.int64(20)] clct_ans[np.int64(20), np.int64(20)] cl_acc1.000  3.276sec\n"
     ]
    },
    {
     "name": "stdout",
     "output_type": "stream",
     "text": [
      "Epoch 29 tr: l 1.217 a 0.593 clct[np.int64(80), np.int64(80)] clct_ans[np.int64(80), np.int64(80)] cl_acc1.000  lr 0.246400 74.017sec(train) 34.597sec(infer)\n"
     ]
    },
    {
     "name": "stdout",
     "output_type": "stream",
     "text": [
      "Epoch 29 tst: l 1.256 a 0.588 clct[np.int64(20), np.int64(20)] clct_ans[np.int64(20), np.int64(20)] cl_acc1.000  3.414sec\n"
     ]
    },
    {
     "name": "stdout",
     "output_type": "stream",
     "text": [
      "Epoch 30 tr: l 1.201 a 0.598 clct[np.int64(80), np.int64(80)] clct_ans[np.int64(80), np.int64(80)] cl_acc1.000  lr 0.246277 74.229sec(train) 34.692sec(infer)\n"
     ]
    },
    {
     "name": "stdout",
     "output_type": "stream",
     "text": [
      "Epoch 30 tst: l 1.261 a 0.589 clct[np.int64(20), np.int64(20)] clct_ans[np.int64(20), np.int64(20)] cl_acc1.000  3.278sec\n",
      "result written at output_dfca_gi/results.pickle\n",
      "checkpoint written at output_dfca_gi/checkpoint.pt\n"
     ]
    },
    {
     "name": "stdout",
     "output_type": "stream",
     "text": [
      "Epoch 31 tr: l 1.199 a 0.598 clct[np.int64(77), np.int64(83)] clct_ans[np.int64(77), np.int64(83)] cl_acc1.000  lr 0.246154 69.768sec(train) 34.568sec(infer)\n"
     ]
    },
    {
     "name": "stdout",
     "output_type": "stream",
     "text": [
      "Epoch 31 tst: l 1.232 a 0.595 clct[np.int64(20), np.int64(20)] clct_ans[np.int64(20), np.int64(20)] cl_acc1.000  3.280sec\n"
     ]
    },
    {
     "name": "stdout",
     "output_type": "stream",
     "text": [
      "Epoch 32 tr: l 1.188 a 0.602 clct[np.int64(80), np.int64(80)] clct_ans[np.int64(80), np.int64(80)] cl_acc1.000  lr 0.246031 71.482sec(train) 34.534sec(infer)\n"
     ]
    },
    {
     "name": "stdout",
     "output_type": "stream",
     "text": [
      "Epoch 32 tst: l 1.229 a 0.596 clct[np.int64(20), np.int64(20)] clct_ans[np.int64(20), np.int64(20)] cl_acc1.000  3.569sec\n"
     ]
    },
    {
     "name": "stdout",
     "output_type": "stream",
     "text": [
      "Epoch 33 tr: l 1.180 a 0.604 clct[np.int64(82), np.int64(78)] clct_ans[np.int64(82), np.int64(78)] cl_acc1.000  lr 0.245908 72.104sec(train) 34.577sec(infer)\n"
     ]
    },
    {
     "name": "stdout",
     "output_type": "stream",
     "text": [
      "Epoch 33 tst: l 1.251 a 0.594 clct[np.int64(20), np.int64(20)] clct_ans[np.int64(20), np.int64(20)] cl_acc1.000  3.272sec\n"
     ]
    },
    {
     "name": "stdout",
     "output_type": "stream",
     "text": [
      "Epoch 34 tr: l 1.169 a 0.612 clct[np.int64(83), np.int64(77)] clct_ans[np.int64(83), np.int64(77)] cl_acc1.000  lr 0.245785 72.960sec(train) 34.640sec(infer)\n"
     ]
    },
    {
     "name": "stdout",
     "output_type": "stream",
     "text": [
      "Epoch 34 tst: l 1.192 a 0.603 clct[np.int64(20), np.int64(20)] clct_ans[np.int64(20), np.int64(20)] cl_acc1.000  3.271sec\n"
     ]
    },
    {
     "name": "stdout",
     "output_type": "stream",
     "text": [
      "Epoch 35 tr: l 1.164 a 0.612 clct[np.int64(79), np.int64(81)] clct_ans[np.int64(79), np.int64(81)] cl_acc1.000  lr 0.245662 71.576sec(train) 34.653sec(infer)\n"
     ]
    },
    {
     "name": "stdout",
     "output_type": "stream",
     "text": [
      "Epoch 35 tst: l 1.201 a 0.607 clct[np.int64(20), np.int64(20)] clct_ans[np.int64(20), np.int64(20)] cl_acc1.000  3.260sec\n"
     ]
    },
    {
     "name": "stdout",
     "output_type": "stream",
     "text": [
      "Epoch 36 tr: l 1.161 a 0.612 clct[np.int64(82), np.int64(78)] clct_ans[np.int64(82), np.int64(78)] cl_acc1.000  lr 0.245539 69.389sec(train) 34.703sec(infer)\n"
     ]
    },
    {
     "name": "stdout",
     "output_type": "stream",
     "text": [
      "Epoch 36 tst: l 1.237 a 0.599 clct[np.int64(20), np.int64(20)] clct_ans[np.int64(20), np.int64(20)] cl_acc1.000  3.258sec\n"
     ]
    },
    {
     "name": "stdout",
     "output_type": "stream",
     "text": [
      "Epoch 37 tr: l 1.160 a 0.609 clct[np.int64(80), np.int64(80)] clct_ans[np.int64(80), np.int64(80)] cl_acc1.000  lr 0.245416 73.645sec(train) 34.703sec(infer)\n"
     ]
    },
    {
     "name": "stdout",
     "output_type": "stream",
     "text": [
      "Epoch 37 tst: l 1.186 a 0.611 clct[np.int64(20), np.int64(20)] clct_ans[np.int64(20), np.int64(20)] cl_acc1.000  3.256sec\n"
     ]
    },
    {
     "name": "stdout",
     "output_type": "stream",
     "text": [
      "Epoch 38 tr: l 1.147 a 0.615 clct[np.int64(80), np.int64(80)] clct_ans[np.int64(80), np.int64(80)] cl_acc1.000  lr 0.245294 70.284sec(train) 34.713sec(infer)\n"
     ]
    },
    {
     "name": "stdout",
     "output_type": "stream",
     "text": [
      "Epoch 38 tst: l 1.190 a 0.610 clct[np.int64(20), np.int64(20)] clct_ans[np.int64(20), np.int64(20)] cl_acc1.000  3.254sec\n"
     ]
    },
    {
     "name": "stdout",
     "output_type": "stream",
     "text": [
      "Epoch 39 tr: l 1.126 a 0.625 clct[np.int64(81), np.int64(79)] clct_ans[np.int64(81), np.int64(79)] cl_acc1.000  lr 0.245171 71.985sec(train) 34.765sec(infer)\n"
     ]
    },
    {
     "name": "stdout",
     "output_type": "stream",
     "text": [
      "Epoch 39 tst: l 1.181 a 0.610 clct[np.int64(20), np.int64(20)] clct_ans[np.int64(20), np.int64(20)] cl_acc1.000  3.244sec\n"
     ]
    },
    {
     "name": "stdout",
     "output_type": "stream",
     "text": [
      "Epoch 40 tr: l 1.125 a 0.626 clct[np.int64(82), np.int64(78)] clct_ans[np.int64(82), np.int64(78)] cl_acc1.000  lr 0.245048 70.696sec(train) 34.969sec(infer)\n"
     ]
    },
    {
     "name": "stdout",
     "output_type": "stream",
     "text": [
      "Epoch 40 tst: l 1.157 a 0.614 clct[np.int64(20), np.int64(20)] clct_ans[np.int64(20), np.int64(20)] cl_acc1.000  3.302sec\n",
      "result written at output_dfca_gi/results.pickle\n",
      "checkpoint written at output_dfca_gi/checkpoint.pt\n"
     ]
    },
    {
     "name": "stdout",
     "output_type": "stream",
     "text": [
      "Epoch 41 tr: l 1.131 a 0.621 clct[np.int64(82), np.int64(78)] clct_ans[np.int64(82), np.int64(78)] cl_acc1.000  lr 0.244926 73.932sec(train) 35.045sec(infer)\n"
     ]
    },
    {
     "name": "stdout",
     "output_type": "stream",
     "text": [
      "Epoch 41 tst: l 1.176 a 0.615 clct[np.int64(20), np.int64(20)] clct_ans[np.int64(20), np.int64(20)] cl_acc1.000  3.341sec\n"
     ]
    },
    {
     "name": "stdout",
     "output_type": "stream",
     "text": [
      "Epoch 42 tr: l 1.135 a 0.619 clct[np.int64(81), np.int64(79)] clct_ans[np.int64(81), np.int64(79)] cl_acc1.000  lr 0.244803 71.898sec(train) 34.742sec(infer)\n"
     ]
    },
    {
     "name": "stdout",
     "output_type": "stream",
     "text": [
      "Epoch 42 tst: l 1.174 a 0.618 clct[np.int64(20), np.int64(20)] clct_ans[np.int64(20), np.int64(20)] cl_acc1.000  3.326sec\n"
     ]
    },
    {
     "name": "stdout",
     "output_type": "stream",
     "text": [
      "Epoch 43 tr: l 1.113 a 0.630 clct[np.int64(81), np.int64(79)] clct_ans[np.int64(81), np.int64(79)] cl_acc1.000  lr 0.244681 72.525sec(train) 35.097sec(infer)\n"
     ]
    },
    {
     "name": "stdout",
     "output_type": "stream",
     "text": [
      "Epoch 43 tst: l 1.174 a 0.617 clct[np.int64(20), np.int64(20)] clct_ans[np.int64(20), np.int64(20)] cl_acc1.000  3.313sec\n"
     ]
    },
    {
     "name": "stdout",
     "output_type": "stream",
     "text": [
      "Epoch 44 tr: l 1.115 a 0.627 clct[np.int64(80), np.int64(80)] clct_ans[np.int64(80), np.int64(80)] cl_acc1.000  lr 0.244559 68.708sec(train) 34.956sec(infer)\n"
     ]
    },
    {
     "name": "stdout",
     "output_type": "stream",
     "text": [
      "Epoch 44 tst: l 1.170 a 0.619 clct[np.int64(20), np.int64(20)] clct_ans[np.int64(20), np.int64(20)] cl_acc1.000  3.275sec\n"
     ]
    },
    {
     "name": "stdout",
     "output_type": "stream",
     "text": [
      "Epoch 45 tr: l 1.090 a 0.636 clct[np.int64(78), np.int64(82)] clct_ans[np.int64(78), np.int64(82)] cl_acc1.000  lr 0.244436 70.169sec(train) 35.022sec(infer)\n"
     ]
    },
    {
     "name": "stdout",
     "output_type": "stream",
     "text": [
      "Epoch 45 tst: l 1.162 a 0.622 clct[np.int64(20), np.int64(20)] clct_ans[np.int64(20), np.int64(20)] cl_acc1.000  3.303sec\n"
     ]
    },
    {
     "name": "stdout",
     "output_type": "stream",
     "text": [
      "Epoch 46 tr: l 1.114 a 0.630 clct[np.int64(80), np.int64(80)] clct_ans[np.int64(80), np.int64(80)] cl_acc1.000  lr 0.244314 72.984sec(train) 34.881sec(infer)\n"
     ]
    },
    {
     "name": "stdout",
     "output_type": "stream",
     "text": [
      "Epoch 46 tst: l 1.142 a 0.621 clct[np.int64(20), np.int64(20)] clct_ans[np.int64(20), np.int64(20)] cl_acc1.000  3.339sec\n"
     ]
    },
    {
     "name": "stdout",
     "output_type": "stream",
     "text": [
      "Epoch 47 tr: l 1.101 a 0.634 clct[np.int64(82), np.int64(78)] clct_ans[np.int64(82), np.int64(78)] cl_acc1.000  lr 0.244192 69.929sec(train) 34.715sec(infer)\n"
     ]
    },
    {
     "name": "stdout",
     "output_type": "stream",
     "text": [
      "Epoch 47 tst: l 1.154 a 0.624 clct[np.int64(20), np.int64(20)] clct_ans[np.int64(20), np.int64(20)] cl_acc1.000  3.272sec\n"
     ]
    },
    {
     "name": "stdout",
     "output_type": "stream",
     "text": [
      "Epoch 48 tr: l 1.095 a 0.637 clct[np.int64(76), np.int64(84)] clct_ans[np.int64(76), np.int64(84)] cl_acc1.000  lr 0.244070 74.114sec(train) 34.835sec(infer)\n"
     ]
    },
    {
     "name": "stdout",
     "output_type": "stream",
     "text": [
      "Epoch 48 tst: l 1.153 a 0.624 clct[np.int64(20), np.int64(20)] clct_ans[np.int64(20), np.int64(20)] cl_acc1.000  3.496sec\n"
     ]
    },
    {
     "name": "stdout",
     "output_type": "stream",
     "text": [
      "Epoch 49 tr: l 1.079 a 0.641 clct[np.int64(78), np.int64(82)] clct_ans[np.int64(78), np.int64(82)] cl_acc1.000  lr 0.243948 71.652sec(train) 34.746sec(infer)\n"
     ]
    },
    {
     "name": "stdout",
     "output_type": "stream",
     "text": [
      "Epoch 49 tst: l 1.135 a 0.627 clct[np.int64(20), np.int64(20)] clct_ans[np.int64(20), np.int64(20)] cl_acc1.000  3.478sec\n"
     ]
    },
    {
     "name": "stdout",
     "output_type": "stream",
     "text": [
      "Epoch 50 tr: l 1.078 a 0.641 clct[np.int64(83), np.int64(77)] clct_ans[np.int64(83), np.int64(77)] cl_acc1.000  lr 0.243826 72.102sec(train) 34.904sec(infer)\n"
     ]
    },
    {
     "name": "stdout",
     "output_type": "stream",
     "text": [
      "Epoch 50 tst: l 1.124 a 0.631 clct[np.int64(20), np.int64(20)] clct_ans[np.int64(20), np.int64(20)] cl_acc1.000  3.292sec\n",
      "result written at output_dfca_gi/results.pickle\n",
      "checkpoint written at output_dfca_gi/checkpoint.pt\n"
     ]
    },
    {
     "name": "stdout",
     "output_type": "stream",
     "text": [
      "Epoch 51 tr: l 1.070 a 0.645 clct[np.int64(80), np.int64(80)] clct_ans[np.int64(80), np.int64(80)] cl_acc1.000  lr 0.243704 71.942sec(train) 35.111sec(infer)\n"
     ]
    },
    {
     "name": "stdout",
     "output_type": "stream",
     "text": [
      "Epoch 51 tst: l 1.150 a 0.630 clct[np.int64(20), np.int64(20)] clct_ans[np.int64(20), np.int64(20)] cl_acc1.000  3.303sec\n"
     ]
    },
    {
     "name": "stdout",
     "output_type": "stream",
     "text": [
      "Epoch 52 tr: l 1.059 a 0.643 clct[np.int64(78), np.int64(82)] clct_ans[np.int64(78), np.int64(82)] cl_acc1.000  lr 0.243582 73.309sec(train) 34.759sec(infer)\n"
     ]
    },
    {
     "name": "stdout",
     "output_type": "stream",
     "text": [
      "Epoch 52 tst: l 1.125 a 0.632 clct[np.int64(20), np.int64(20)] clct_ans[np.int64(20), np.int64(20)] cl_acc1.000  3.360sec\n"
     ]
    },
    {
     "name": "stdout",
     "output_type": "stream",
     "text": [
      "Epoch 53 tr: l 1.053 a 0.649 clct[np.int64(78), np.int64(82)] clct_ans[np.int64(78), np.int64(82)] cl_acc1.000  lr 0.243460 74.786sec(train) 34.618sec(infer)\n"
     ]
    },
    {
     "name": "stdout",
     "output_type": "stream",
     "text": [
      "Epoch 53 tst: l 1.112 a 0.636 clct[np.int64(20), np.int64(20)] clct_ans[np.int64(20), np.int64(20)] cl_acc1.000  3.314sec\n"
     ]
    },
    {
     "name": "stdout",
     "output_type": "stream",
     "text": [
      "Epoch 54 tr: l 1.053 a 0.650 clct[np.int64(84), np.int64(76)] clct_ans[np.int64(84), np.int64(76)] cl_acc1.000  lr 0.243339 70.672sec(train) 34.607sec(infer)\n"
     ]
    },
    {
     "name": "stdout",
     "output_type": "stream",
     "text": [
      "Epoch 54 tst: l 1.116 a 0.636 clct[np.int64(20), np.int64(20)] clct_ans[np.int64(20), np.int64(20)] cl_acc1.000  3.279sec\n"
     ]
    },
    {
     "name": "stdout",
     "output_type": "stream",
     "text": [
      "Epoch 55 tr: l 1.033 a 0.655 clct[np.int64(82), np.int64(78)] clct_ans[np.int64(82), np.int64(78)] cl_acc1.000  lr 0.243217 70.550sec(train) 34.602sec(infer)\n"
     ]
    },
    {
     "name": "stdout",
     "output_type": "stream",
     "text": [
      "Epoch 55 tst: l 1.105 a 0.637 clct[np.int64(20), np.int64(20)] clct_ans[np.int64(20), np.int64(20)] cl_acc1.000  3.323sec\n"
     ]
    },
    {
     "name": "stdout",
     "output_type": "stream",
     "text": [
      "Epoch 56 tr: l 1.039 a 0.654 clct[np.int64(74), np.int64(86)] clct_ans[np.int64(74), np.int64(86)] cl_acc1.000  lr 0.243095 70.232sec(train) 34.728sec(infer)\n"
     ]
    },
    {
     "name": "stdout",
     "output_type": "stream",
     "text": [
      "Epoch 56 tst: l 1.106 a 0.639 clct[np.int64(20), np.int64(20)] clct_ans[np.int64(20), np.int64(20)] cl_acc1.000  3.270sec\n"
     ]
    },
    {
     "name": "stdout",
     "output_type": "stream",
     "text": [
      "Epoch 57 tr: l 1.044 a 0.651 clct[np.int64(79), np.int64(81)] clct_ans[np.int64(79), np.int64(81)] cl_acc1.000  lr 0.242974 72.213sec(train) 34.700sec(infer)\n"
     ]
    },
    {
     "name": "stdout",
     "output_type": "stream",
     "text": [
      "Epoch 57 tst: l 1.097 a 0.641 clct[np.int64(20), np.int64(20)] clct_ans[np.int64(20), np.int64(20)] cl_acc1.000  3.475sec\n"
     ]
    },
    {
     "name": "stdout",
     "output_type": "stream",
     "text": [
      "Epoch 58 tr: l 1.046 a 0.652 clct[np.int64(83), np.int64(77)] clct_ans[np.int64(83), np.int64(77)] cl_acc1.000  lr 0.242852 70.439sec(train) 34.656sec(infer)\n"
     ]
    },
    {
     "name": "stdout",
     "output_type": "stream",
     "text": [
      "Epoch 58 tst: l 1.098 a 0.642 clct[np.int64(20), np.int64(20)] clct_ans[np.int64(20), np.int64(20)] cl_acc1.000  3.265sec\n"
     ]
    },
    {
     "name": "stdout",
     "output_type": "stream",
     "text": [
      "Epoch 59 tr: l 1.043 a 0.654 clct[np.int64(85), np.int64(75)] clct_ans[np.int64(85), np.int64(75)] cl_acc1.000  lr 0.242731 69.956sec(train) 34.734sec(infer)\n"
     ]
    },
    {
     "name": "stdout",
     "output_type": "stream",
     "text": [
      "Epoch 59 tst: l 1.080 a 0.646 clct[np.int64(20), np.int64(20)] clct_ans[np.int64(20), np.int64(20)] cl_acc1.000  3.266sec\n"
     ]
    },
    {
     "name": "stdout",
     "output_type": "stream",
     "text": [
      "Epoch 60 tr: l 1.036 a 0.653 clct[np.int64(82), np.int64(78)] clct_ans[np.int64(82), np.int64(78)] cl_acc1.000  lr 0.242610 70.117sec(train) 34.813sec(infer)\n"
     ]
    },
    {
     "name": "stdout",
     "output_type": "stream",
     "text": [
      "Epoch 60 tst: l 1.085 a 0.645 clct[np.int64(20), np.int64(20)] clct_ans[np.int64(20), np.int64(20)] cl_acc1.000  3.267sec\n",
      "result written at output_dfca_gi/results.pickle\n",
      "checkpoint written at output_dfca_gi/checkpoint.pt\n"
     ]
    },
    {
     "name": "stdout",
     "output_type": "stream",
     "text": [
      "Epoch 61 tr: l 1.018 a 0.663 clct[np.int64(76), np.int64(84)] clct_ans[np.int64(76), np.int64(84)] cl_acc1.000  lr 0.242488 71.845sec(train) 34.741sec(infer)\n"
     ]
    },
    {
     "name": "stdout",
     "output_type": "stream",
     "text": [
      "Epoch 61 tst: l 1.070 a 0.650 clct[np.int64(20), np.int64(20)] clct_ans[np.int64(20), np.int64(20)] cl_acc1.000  3.282sec\n"
     ]
    },
    {
     "name": "stdout",
     "output_type": "stream",
     "text": [
      "Epoch 62 tr: l 1.017 a 0.660 clct[np.int64(82), np.int64(78)] clct_ans[np.int64(82), np.int64(78)] cl_acc1.000  lr 0.242367 71.821sec(train) 34.818sec(infer)\n"
     ]
    },
    {
     "name": "stdout",
     "output_type": "stream",
     "text": [
      "Epoch 62 tst: l 1.090 a 0.650 clct[np.int64(20), np.int64(20)] clct_ans[np.int64(20), np.int64(20)] cl_acc1.000  3.291sec\n"
     ]
    },
    {
     "name": "stdout",
     "output_type": "stream",
     "text": [
      "Epoch 63 tr: l 1.012 a 0.663 clct[np.int64(83), np.int64(77)] clct_ans[np.int64(83), np.int64(77)] cl_acc1.000  lr 0.242246 76.636sec(train) 34.775sec(infer)\n"
     ]
    },
    {
     "name": "stdout",
     "output_type": "stream",
     "text": [
      "Epoch 63 tst: l 1.063 a 0.652 clct[np.int64(20), np.int64(20)] clct_ans[np.int64(20), np.int64(20)] cl_acc1.000  3.277sec\n"
     ]
    },
    {
     "name": "stdout",
     "output_type": "stream",
     "text": [
      "Epoch 64 tr: l 1.014 a 0.661 clct[np.int64(83), np.int64(77)] clct_ans[np.int64(83), np.int64(77)] cl_acc1.000  lr 0.242125 72.146sec(train) 34.902sec(infer)\n"
     ]
    },
    {
     "name": "stdout",
     "output_type": "stream",
     "text": [
      "Epoch 64 tst: l 1.061 a 0.652 clct[np.int64(20), np.int64(20)] clct_ans[np.int64(20), np.int64(20)] cl_acc1.000  3.305sec\n"
     ]
    },
    {
     "name": "stdout",
     "output_type": "stream",
     "text": [
      "Epoch 65 tr: l 1.012 a 0.663 clct[np.int64(81), np.int64(79)] clct_ans[np.int64(81), np.int64(79)] cl_acc1.000  lr 0.242004 71.310sec(train) 34.738sec(infer)\n"
     ]
    },
    {
     "name": "stdout",
     "output_type": "stream",
     "text": [
      "Epoch 65 tst: l 1.069 a 0.653 clct[np.int64(20), np.int64(20)] clct_ans[np.int64(20), np.int64(20)] cl_acc1.000  3.293sec\n"
     ]
    },
    {
     "name": "stdout",
     "output_type": "stream",
     "text": [
      "Epoch 66 tr: l 1.005 a 0.665 clct[np.int64(80), np.int64(80)] clct_ans[np.int64(80), np.int64(80)] cl_acc1.000  lr 0.241883 70.345sec(train) 34.748sec(infer)\n"
     ]
    },
    {
     "name": "stdout",
     "output_type": "stream",
     "text": [
      "Epoch 66 tst: l 1.072 a 0.655 clct[np.int64(20), np.int64(20)] clct_ans[np.int64(20), np.int64(20)] cl_acc1.000  3.306sec\n"
     ]
    },
    {
     "name": "stdout",
     "output_type": "stream",
     "text": [
      "Epoch 67 tr: l 1.011 a 0.665 clct[np.int64(77), np.int64(83)] clct_ans[np.int64(77), np.int64(83)] cl_acc1.000  lr 0.241762 72.948sec(train) 34.947sec(infer)\n"
     ]
    },
    {
     "name": "stdout",
     "output_type": "stream",
     "text": [
      "Epoch 67 tst: l 1.059 a 0.657 clct[np.int64(20), np.int64(20)] clct_ans[np.int64(20), np.int64(20)] cl_acc1.000  3.284sec\n"
     ]
    },
    {
     "name": "stdout",
     "output_type": "stream",
     "text": [
      "Epoch 68 tr: l 1.004 a 0.664 clct[np.int64(79), np.int64(81)] clct_ans[np.int64(79), np.int64(81)] cl_acc1.000  lr 0.241641 73.140sec(train) 34.947sec(infer)\n"
     ]
    },
    {
     "name": "stdout",
     "output_type": "stream",
     "text": [
      "Epoch 68 tst: l 1.077 a 0.655 clct[np.int64(20), np.int64(20)] clct_ans[np.int64(20), np.int64(20)] cl_acc1.000  3.412sec\n"
     ]
    },
    {
     "name": "stdout",
     "output_type": "stream",
     "text": [
      "Epoch 69 tr: l 0.995 a 0.667 clct[np.int64(82), np.int64(78)] clct_ans[np.int64(82), np.int64(78)] cl_acc1.000  lr 0.241520 71.794sec(train) 34.906sec(infer)\n"
     ]
    },
    {
     "name": "stdout",
     "output_type": "stream",
     "text": [
      "Epoch 69 tst: l 1.071 a 0.656 clct[np.int64(20), np.int64(20)] clct_ans[np.int64(20), np.int64(20)] cl_acc1.000  3.393sec\n"
     ]
    },
    {
     "name": "stdout",
     "output_type": "stream",
     "text": [
      "Epoch 70 tr: l 0.987 a 0.669 clct[np.int64(79), np.int64(81)] clct_ans[np.int64(79), np.int64(81)] cl_acc1.000  lr 0.241399 73.358sec(train) 35.111sec(infer)\n"
     ]
    },
    {
     "name": "stdout",
     "output_type": "stream",
     "text": [
      "Epoch 70 tst: l 1.081 a 0.656 clct[np.int64(20), np.int64(20)] clct_ans[np.int64(20), np.int64(20)] cl_acc1.000  3.336sec\n",
      "result written at output_dfca_gi/results.pickle\n",
      "checkpoint written at output_dfca_gi/checkpoint.pt\n"
     ]
    },
    {
     "name": "stdout",
     "output_type": "stream",
     "text": [
      "Epoch 71 tr: l 0.986 a 0.671 clct[np.int64(79), np.int64(81)] clct_ans[np.int64(79), np.int64(81)] cl_acc1.000  lr 0.241279 73.951sec(train) 35.018sec(infer)\n"
     ]
    },
    {
     "name": "stdout",
     "output_type": "stream",
     "text": [
      "Epoch 71 tst: l 1.056 a 0.661 clct[np.int64(20), np.int64(20)] clct_ans[np.int64(20), np.int64(20)] cl_acc1.000  3.283sec\n"
     ]
    },
    {
     "name": "stdout",
     "output_type": "stream",
     "text": [
      "Epoch 72 tr: l 0.987 a 0.674 clct[np.int64(81), np.int64(79)] clct_ans[np.int64(81), np.int64(79)] cl_acc1.000  lr 0.241158 72.304sec(train) 34.883sec(infer)\n"
     ]
    },
    {
     "name": "stdout",
     "output_type": "stream",
     "text": [
      "Epoch 72 tst: l 1.048 a 0.662 clct[np.int64(20), np.int64(20)] clct_ans[np.int64(20), np.int64(20)] cl_acc1.000  3.299sec\n"
     ]
    },
    {
     "name": "stdout",
     "output_type": "stream",
     "text": [
      "Epoch 73 tr: l 0.989 a 0.671 clct[np.int64(78), np.int64(82)] clct_ans[np.int64(78), np.int64(82)] cl_acc1.000  lr 0.241037 72.168sec(train) 34.869sec(infer)\n"
     ]
    },
    {
     "name": "stdout",
     "output_type": "stream",
     "text": [
      "Epoch 73 tst: l 1.029 a 0.664 clct[np.int64(20), np.int64(20)] clct_ans[np.int64(20), np.int64(20)] cl_acc1.000  3.302sec\n"
     ]
    },
    {
     "name": "stdout",
     "output_type": "stream",
     "text": [
      "Epoch 74 tr: l 0.970 a 0.680 clct[np.int64(81), np.int64(79)] clct_ans[np.int64(81), np.int64(79)] cl_acc1.000  lr 0.240917 71.924sec(train) 34.897sec(infer)\n"
     ]
    },
    {
     "name": "stdout",
     "output_type": "stream",
     "text": [
      "Epoch 74 tst: l 1.035 a 0.666 clct[np.int64(20), np.int64(20)] clct_ans[np.int64(20), np.int64(20)] cl_acc1.000  3.282sec\n"
     ]
    },
    {
     "name": "stdout",
     "output_type": "stream",
     "text": [
      "Epoch 75 tr: l 0.977 a 0.676 clct[np.int64(79), np.int64(81)] clct_ans[np.int64(79), np.int64(81)] cl_acc1.000  lr 0.240796 73.417sec(train) 34.784sec(infer)\n"
     ]
    },
    {
     "name": "stdout",
     "output_type": "stream",
     "text": [
      "Epoch 75 tst: l 1.042 a 0.665 clct[np.int64(20), np.int64(20)] clct_ans[np.int64(20), np.int64(20)] cl_acc1.000  3.280sec\n"
     ]
    },
    {
     "name": "stdout",
     "output_type": "stream",
     "text": [
      "Epoch 76 tr: l 0.959 a 0.681 clct[np.int64(80), np.int64(80)] clct_ans[np.int64(80), np.int64(80)] cl_acc1.000  lr 0.240676 71.796sec(train) 34.843sec(infer)\n"
     ]
    },
    {
     "name": "stdout",
     "output_type": "stream",
     "text": [
      "Epoch 76 tst: l 1.053 a 0.663 clct[np.int64(20), np.int64(20)] clct_ans[np.int64(20), np.int64(20)] cl_acc1.000  3.262sec\n"
     ]
    },
    {
     "name": "stdout",
     "output_type": "stream",
     "text": [
      "Epoch 77 tr: l 0.988 a 0.673 clct[np.int64(83), np.int64(77)] clct_ans[np.int64(83), np.int64(77)] cl_acc1.000  lr 0.240556 72.231sec(train) 34.607sec(infer)\n"
     ]
    },
    {
     "name": "stdout",
     "output_type": "stream",
     "text": [
      "Epoch 77 tst: l 1.019 a 0.669 clct[np.int64(20), np.int64(20)] clct_ans[np.int64(20), np.int64(20)] cl_acc1.000  3.281sec\n"
     ]
    },
    {
     "name": "stdout",
     "output_type": "stream",
     "text": [
      "Epoch 78 tr: l 0.969 a 0.679 clct[np.int64(77), np.int64(83)] clct_ans[np.int64(77), np.int64(83)] cl_acc1.000  lr 0.240435 72.045sec(train) 34.918sec(infer)\n"
     ]
    },
    {
     "name": "stdout",
     "output_type": "stream",
     "text": [
      "Epoch 78 tst: l 1.019 a 0.670 clct[np.int64(20), np.int64(20)] clct_ans[np.int64(20), np.int64(20)] cl_acc1.000  3.271sec\n"
     ]
    },
    {
     "name": "stdout",
     "output_type": "stream",
     "text": [
      "Epoch 79 tr: l 0.954 a 0.684 clct[np.int64(78), np.int64(82)] clct_ans[np.int64(78), np.int64(82)] cl_acc1.000  lr 0.240315 74.631sec(train) 34.737sec(infer)\n"
     ]
    },
    {
     "name": "stdout",
     "output_type": "stream",
     "text": [
      "Epoch 79 tst: l 1.013 a 0.671 clct[np.int64(20), np.int64(20)] clct_ans[np.int64(20), np.int64(20)] cl_acc1.000  3.287sec\n"
     ]
    },
    {
     "name": "stdout",
     "output_type": "stream",
     "text": [
      "Epoch 80 tr: l 0.957 a 0.682 clct[np.int64(81), np.int64(79)] clct_ans[np.int64(81), np.int64(79)] cl_acc1.000  lr 0.240195 72.202sec(train) 34.753sec(infer)\n"
     ]
    },
    {
     "name": "stdout",
     "output_type": "stream",
     "text": [
      "Epoch 80 tst: l 1.062 a 0.667 clct[np.int64(20), np.int64(20)] clct_ans[np.int64(20), np.int64(20)] cl_acc1.000  3.306sec\n",
      "result written at output_dfca_gi/results.pickle\n",
      "checkpoint written at output_dfca_gi/checkpoint.pt\n"
     ]
    },
    {
     "name": "stdout",
     "output_type": "stream",
     "text": [
      "Epoch 81 tr: l 0.946 a 0.685 clct[np.int64(79), np.int64(81)] clct_ans[np.int64(79), np.int64(81)] cl_acc1.000  lr 0.240075 73.202sec(train) 34.807sec(infer)\n"
     ]
    },
    {
     "name": "stdout",
     "output_type": "stream",
     "text": [
      "Epoch 81 tst: l 1.054 a 0.665 clct[np.int64(20), np.int64(20)] clct_ans[np.int64(20), np.int64(20)] cl_acc1.000  3.287sec\n"
     ]
    },
    {
     "name": "stdout",
     "output_type": "stream",
     "text": [
      "Epoch 82 tr: l 0.948 a 0.686 clct[np.int64(77), np.int64(83)] clct_ans[np.int64(77), np.int64(83)] cl_acc1.000  lr 0.239955 75.356sec(train) 34.922sec(infer)\n"
     ]
    },
    {
     "name": "stdout",
     "output_type": "stream",
     "text": [
      "Epoch 82 tst: l 1.045 a 0.668 clct[np.int64(20), np.int64(20)] clct_ans[np.int64(20), np.int64(20)] cl_acc1.000  3.304sec\n"
     ]
    },
    {
     "name": "stdout",
     "output_type": "stream",
     "text": [
      "Epoch 83 tr: l 0.941 a 0.689 clct[np.int64(81), np.int64(79)] clct_ans[np.int64(81), np.int64(79)] cl_acc1.000  lr 0.239835 69.957sec(train) 34.845sec(infer)\n"
     ]
    },
    {
     "name": "stdout",
     "output_type": "stream",
     "text": [
      "Epoch 83 tst: l 1.025 a 0.672 clct[np.int64(20), np.int64(20)] clct_ans[np.int64(20), np.int64(20)] cl_acc1.000  3.408sec\n"
     ]
    },
    {
     "name": "stdout",
     "output_type": "stream",
     "text": [
      "Epoch 84 tr: l 0.944 a 0.689 clct[np.int64(81), np.int64(79)] clct_ans[np.int64(81), np.int64(79)] cl_acc1.000  lr 0.239715 71.875sec(train) 34.879sec(infer)\n"
     ]
    },
    {
     "name": "stdout",
     "output_type": "stream",
     "text": [
      "Epoch 84 tst: l 1.017 a 0.672 clct[np.int64(20), np.int64(20)] clct_ans[np.int64(20), np.int64(20)] cl_acc1.000  3.417sec\n"
     ]
    },
    {
     "name": "stdout",
     "output_type": "stream",
     "text": [
      "Epoch 85 tr: l 0.930 a 0.693 clct[np.int64(85), np.int64(75)] clct_ans[np.int64(85), np.int64(75)] cl_acc1.000  lr 0.239595 73.927sec(train) 35.122sec(infer)\n"
     ]
    },
    {
     "name": "stdout",
     "output_type": "stream",
     "text": [
      "Epoch 85 tst: l 1.010 a 0.674 clct[np.int64(20), np.int64(20)] clct_ans[np.int64(20), np.int64(20)] cl_acc1.000  3.338sec\n"
     ]
    },
    {
     "name": "stdout",
     "output_type": "stream",
     "text": [
      "Epoch 86 tr: l 0.933 a 0.691 clct[np.int64(86), np.int64(74)] clct_ans[np.int64(86), np.int64(74)] cl_acc1.000  lr 0.239475 73.277sec(train) 35.262sec(infer)\n"
     ]
    },
    {
     "name": "stdout",
     "output_type": "stream",
     "text": [
      "Epoch 86 tst: l 1.012 a 0.674 clct[np.int64(20), np.int64(20)] clct_ans[np.int64(20), np.int64(20)] cl_acc1.000  3.325sec\n"
     ]
    },
    {
     "name": "stdout",
     "output_type": "stream",
     "text": [
      "Epoch 87 tr: l 0.940 a 0.686 clct[np.int64(77), np.int64(83)] clct_ans[np.int64(77), np.int64(83)] cl_acc1.000  lr 0.239356 72.009sec(train) 34.963sec(infer)\n"
     ]
    },
    {
     "name": "stdout",
     "output_type": "stream",
     "text": [
      "Epoch 87 tst: l 1.001 a 0.677 clct[np.int64(20), np.int64(20)] clct_ans[np.int64(20), np.int64(20)] cl_acc1.000  3.296sec\n"
     ]
    },
    {
     "name": "stdout",
     "output_type": "stream",
     "text": [
      "Epoch 88 tr: l 0.925 a 0.694 clct[np.int64(77), np.int64(83)] clct_ans[np.int64(77), np.int64(83)] cl_acc1.000  lr 0.239236 71.829sec(train) 34.933sec(infer)\n"
     ]
    },
    {
     "name": "stdout",
     "output_type": "stream",
     "text": [
      "Epoch 88 tst: l 1.014 a 0.675 clct[np.int64(20), np.int64(20)] clct_ans[np.int64(20), np.int64(20)] cl_acc1.000  3.284sec\n"
     ]
    },
    {
     "name": "stdout",
     "output_type": "stream",
     "text": [
      "Epoch 89 tr: l 0.939 a 0.688 clct[np.int64(80), np.int64(80)] clct_ans[np.int64(80), np.int64(80)] cl_acc1.000  lr 0.239116 70.842sec(train) 35.105sec(infer)\n"
     ]
    },
    {
     "name": "stdout",
     "output_type": "stream",
     "text": [
      "Epoch 89 tst: l 1.006 a 0.678 clct[np.int64(20), np.int64(20)] clct_ans[np.int64(20), np.int64(20)] cl_acc1.000  3.429sec\n"
     ]
    },
    {
     "name": "stdout",
     "output_type": "stream",
     "text": [
      "Epoch 90 tr: l 0.922 a 0.694 clct[np.int64(80), np.int64(80)] clct_ans[np.int64(80), np.int64(80)] cl_acc1.000  lr 0.238997 70.184sec(train) 34.920sec(infer)\n"
     ]
    },
    {
     "name": "stdout",
     "output_type": "stream",
     "text": [
      "Epoch 90 tst: l 0.996 a 0.678 clct[np.int64(20), np.int64(20)] clct_ans[np.int64(20), np.int64(20)] cl_acc1.000  3.300sec\n",
      "result written at output_dfca_gi/results.pickle\n",
      "checkpoint written at output_dfca_gi/checkpoint.pt\n"
     ]
    },
    {
     "name": "stdout",
     "output_type": "stream",
     "text": [
      "Epoch 91 tr: l 0.915 a 0.695 clct[np.int64(80), np.int64(80)] clct_ans[np.int64(80), np.int64(80)] cl_acc1.000  lr 0.238877 72.876sec(train) 34.745sec(infer)\n"
     ]
    },
    {
     "name": "stdout",
     "output_type": "stream",
     "text": [
      "Epoch 91 tst: l 1.005 a 0.676 clct[np.int64(20), np.int64(20)] clct_ans[np.int64(20), np.int64(20)] cl_acc1.000  3.368sec\n"
     ]
    },
    {
     "name": "stdout",
     "output_type": "stream",
     "text": [
      "Epoch 92 tr: l 0.914 a 0.698 clct[np.int64(80), np.int64(80)] clct_ans[np.int64(80), np.int64(80)] cl_acc1.000  lr 0.238758 71.662sec(train) 34.634sec(infer)\n"
     ]
    },
    {
     "name": "stdout",
     "output_type": "stream",
     "text": [
      "Epoch 92 tst: l 0.990 a 0.681 clct[np.int64(20), np.int64(20)] clct_ans[np.int64(20), np.int64(20)] cl_acc1.000  3.349sec\n"
     ]
    },
    {
     "name": "stdout",
     "output_type": "stream",
     "text": [
      "Epoch 93 tr: l 0.921 a 0.696 clct[np.int64(81), np.int64(79)] clct_ans[np.int64(81), np.int64(79)] cl_acc1.000  lr 0.238638 73.265sec(train) 34.657sec(infer)\n"
     ]
    },
    {
     "name": "stdout",
     "output_type": "stream",
     "text": [
      "Epoch 93 tst: l 0.984 a 0.683 clct[np.int64(20), np.int64(20)] clct_ans[np.int64(20), np.int64(20)] cl_acc1.000  3.263sec\n"
     ]
    },
    {
     "name": "stdout",
     "output_type": "stream",
     "text": [
      "Epoch 94 tr: l 0.905 a 0.699 clct[np.int64(84), np.int64(76)] clct_ans[np.int64(84), np.int64(76)] cl_acc1.000  lr 0.238519 70.809sec(train) 34.646sec(infer)\n"
     ]
    },
    {
     "name": "stdout",
     "output_type": "stream",
     "text": [
      "Epoch 94 tst: l 0.996 a 0.681 clct[np.int64(20), np.int64(20)] clct_ans[np.int64(20), np.int64(20)] cl_acc1.000  3.307sec\n"
     ]
    },
    {
     "name": "stdout",
     "output_type": "stream",
     "text": [
      "Epoch 95 tr: l 0.908 a 0.696 clct[np.int64(80), np.int64(80)] clct_ans[np.int64(80), np.int64(80)] cl_acc1.000  lr 0.238400 71.851sec(train) 34.604sec(infer)\n"
     ]
    },
    {
     "name": "stdout",
     "output_type": "stream",
     "text": [
      "Epoch 95 tst: l 1.008 a 0.681 clct[np.int64(20), np.int64(20)] clct_ans[np.int64(20), np.int64(20)] cl_acc1.000  3.272sec\n"
     ]
    },
    {
     "name": "stdout",
     "output_type": "stream",
     "text": [
      "Epoch 96 tr: l 0.902 a 0.700 clct[np.int64(81), np.int64(79)] clct_ans[np.int64(81), np.int64(79)] cl_acc1.000  lr 0.238281 70.782sec(train) 34.683sec(infer)\n"
     ]
    },
    {
     "name": "stdout",
     "output_type": "stream",
     "text": [
      "Epoch 96 tst: l 0.999 a 0.681 clct[np.int64(20), np.int64(20)] clct_ans[np.int64(20), np.int64(20)] cl_acc1.000  3.274sec\n"
     ]
    },
    {
     "name": "stdout",
     "output_type": "stream",
     "text": [
      "Epoch 97 tr: l 0.911 a 0.697 clct[np.int64(77), np.int64(83)] clct_ans[np.int64(77), np.int64(83)] cl_acc1.000  lr 0.238161 73.633sec(train) 34.655sec(infer)\n"
     ]
    },
    {
     "name": "stdout",
     "output_type": "stream",
     "text": [
      "Epoch 97 tst: l 0.981 a 0.683 clct[np.int64(20), np.int64(20)] clct_ans[np.int64(20), np.int64(20)] cl_acc1.000  3.275sec\n"
     ]
    },
    {
     "name": "stdout",
     "output_type": "stream",
     "text": [
      "Epoch 98 tr: l 0.893 a 0.706 clct[np.int64(82), np.int64(78)] clct_ans[np.int64(82), np.int64(78)] cl_acc1.000  lr 0.238042 70.533sec(train) 34.766sec(infer)\n"
     ]
    },
    {
     "name": "stdout",
     "output_type": "stream",
     "text": [
      "Epoch 98 tst: l 0.994 a 0.683 clct[np.int64(20), np.int64(20)] clct_ans[np.int64(20), np.int64(20)] cl_acc1.000  3.280sec\n"
     ]
    },
    {
     "name": "stdout",
     "output_type": "stream",
     "text": [
      "Epoch 99 tr: l 0.895 a 0.703 clct[np.int64(79), np.int64(81)] clct_ans[np.int64(79), np.int64(81)] cl_acc1.000  lr 0.237923 70.446sec(train) 34.923sec(infer)\n"
     ]
    },
    {
     "name": "stdout",
     "output_type": "stream",
     "text": [
      "Epoch 99 tst: l 0.997 a 0.684 clct[np.int64(20), np.int64(20)] clct_ans[np.int64(20), np.int64(20)] cl_acc1.000  3.278sec\n"
     ]
    },
    {
     "name": "stdout",
     "output_type": "stream",
     "text": [
      "Epoch 100 tr: l 0.901 a 0.702 clct[np.int64(78), np.int64(82)] clct_ans[np.int64(78), np.int64(82)] cl_acc1.000  lr 0.237804 72.528sec(train) 34.755sec(infer)\n"
     ]
    },
    {
     "name": "stdout",
     "output_type": "stream",
     "text": [
      "Epoch 100 tst: l 1.005 a 0.684 clct[np.int64(20), np.int64(20)] clct_ans[np.int64(20), np.int64(20)] cl_acc1.000  3.295sec\n",
      "result written at output_dfca_gi/results.pickle\n",
      "checkpoint written at output_dfca_gi/checkpoint.pt\n"
     ]
    },
    {
     "name": "stdout",
     "output_type": "stream",
     "text": [
      "Epoch 101 tr: l 0.887 a 0.706 clct[np.int64(78), np.int64(82)] clct_ans[np.int64(78), np.int64(82)] cl_acc1.000  lr 0.237685 74.462sec(train) 34.984sec(infer)\n"
     ]
    },
    {
     "name": "stdout",
     "output_type": "stream",
     "text": [
      "Epoch 101 tst: l 0.989 a 0.688 clct[np.int64(20), np.int64(20)] clct_ans[np.int64(20), np.int64(20)] cl_acc1.000  3.328sec\n"
     ]
    },
    {
     "name": "stdout",
     "output_type": "stream",
     "text": [
      "Epoch 102 tr: l 0.897 a 0.703 clct[np.int64(83), np.int64(77)] clct_ans[np.int64(83), np.int64(77)] cl_acc1.000  lr 0.237567 72.384sec(train) 35.024sec(infer)\n"
     ]
    },
    {
     "name": "stdout",
     "output_type": "stream",
     "text": [
      "Epoch 102 tst: l 0.977 a 0.689 clct[np.int64(20), np.int64(20)] clct_ans[np.int64(20), np.int64(20)] cl_acc1.000  3.295sec\n"
     ]
    },
    {
     "name": "stdout",
     "output_type": "stream",
     "text": [
      "Epoch 103 tr: l 0.880 a 0.710 clct[np.int64(78), np.int64(82)] clct_ans[np.int64(78), np.int64(82)] cl_acc1.000  lr 0.237448 74.233sec(train) 34.838sec(infer)\n"
     ]
    },
    {
     "name": "stdout",
     "output_type": "stream",
     "text": [
      "Epoch 103 tst: l 0.983 a 0.689 clct[np.int64(20), np.int64(20)] clct_ans[np.int64(20), np.int64(20)] cl_acc1.000  3.306sec\n"
     ]
    },
    {
     "name": "stdout",
     "output_type": "stream",
     "text": [
      "Epoch 104 tr: l 0.884 a 0.705 clct[np.int64(80), np.int64(80)] clct_ans[np.int64(80), np.int64(80)] cl_acc1.000  lr 0.237329 71.453sec(train) 35.074sec(infer)\n"
     ]
    },
    {
     "name": "stdout",
     "output_type": "stream",
     "text": [
      "Epoch 104 tst: l 0.967 a 0.690 clct[np.int64(20), np.int64(20)] clct_ans[np.int64(20), np.int64(20)] cl_acc1.000  3.331sec\n"
     ]
    },
    {
     "name": "stdout",
     "output_type": "stream",
     "text": [
      "Epoch 105 tr: l 0.878 a 0.708 clct[np.int64(80), np.int64(80)] clct_ans[np.int64(80), np.int64(80)] cl_acc1.000  lr 0.237210 73.122sec(train) 34.769sec(infer)\n"
     ]
    },
    {
     "name": "stdout",
     "output_type": "stream",
     "text": [
      "Epoch 105 tst: l 0.983 a 0.688 clct[np.int64(20), np.int64(20)] clct_ans[np.int64(20), np.int64(20)] cl_acc1.000  3.329sec\n"
     ]
    },
    {
     "name": "stdout",
     "output_type": "stream",
     "text": [
      "Epoch 106 tr: l 0.878 a 0.710 clct[np.int64(79), np.int64(81)] clct_ans[np.int64(79), np.int64(81)] cl_acc1.000  lr 0.237092 72.960sec(train) 34.962sec(infer)\n"
     ]
    },
    {
     "name": "stdout",
     "output_type": "stream",
     "text": [
      "Epoch 106 tst: l 0.964 a 0.691 clct[np.int64(20), np.int64(20)] clct_ans[np.int64(20), np.int64(20)] cl_acc1.000  3.288sec\n"
     ]
    },
    {
     "name": "stdout",
     "output_type": "stream",
     "text": [
      "Epoch 107 tr: l 0.877 a 0.710 clct[np.int64(76), np.int64(84)] clct_ans[np.int64(76), np.int64(84)] cl_acc1.000  lr 0.236973 72.935sec(train) 35.171sec(infer)\n"
     ]
    },
    {
     "name": "stdout",
     "output_type": "stream",
     "text": [
      "Epoch 107 tst: l 0.955 a 0.694 clct[np.int64(20), np.int64(20)] clct_ans[np.int64(20), np.int64(20)] cl_acc1.000  3.288sec\n"
     ]
    },
    {
     "name": "stdout",
     "output_type": "stream",
     "text": [
      "Epoch 108 tr: l 0.871 a 0.714 clct[np.int64(76), np.int64(84)] clct_ans[np.int64(76), np.int64(84)] cl_acc1.000  lr 0.236855 69.394sec(train) 35.101sec(infer)\n"
     ]
    },
    {
     "name": "stdout",
     "output_type": "stream",
     "text": [
      "Epoch 108 tst: l 0.968 a 0.689 clct[np.int64(20), np.int64(20)] clct_ans[np.int64(20), np.int64(20)] cl_acc1.000  3.300sec\n"
     ]
    },
    {
     "name": "stdout",
     "output_type": "stream",
     "text": [
      "Epoch 109 tr: l 0.870 a 0.711 clct[np.int64(75), np.int64(85)] clct_ans[np.int64(75), np.int64(85)] cl_acc1.000  lr 0.236736 73.756sec(train) 35.010sec(infer)\n"
     ]
    },
    {
     "name": "stdout",
     "output_type": "stream",
     "text": [
      "Epoch 109 tst: l 0.964 a 0.691 clct[np.int64(20), np.int64(20)] clct_ans[np.int64(20), np.int64(20)] cl_acc1.000  3.295sec\n"
     ]
    },
    {
     "name": "stdout",
     "output_type": "stream",
     "text": [
      "Epoch 110 tr: l 0.877 a 0.710 clct[np.int64(80), np.int64(80)] clct_ans[np.int64(80), np.int64(80)] cl_acc1.000  lr 0.236618 71.012sec(train) 34.840sec(infer)\n"
     ]
    },
    {
     "name": "stdout",
     "output_type": "stream",
     "text": [
      "Epoch 110 tst: l 0.976 a 0.690 clct[np.int64(20), np.int64(20)] clct_ans[np.int64(20), np.int64(20)] cl_acc1.000  3.288sec\n",
      "result written at output_dfca_gi/results.pickle\n",
      "checkpoint written at output_dfca_gi/checkpoint.pt\n"
     ]
    },
    {
     "name": "stdout",
     "output_type": "stream",
     "text": [
      "Epoch 111 tr: l 0.874 a 0.710 clct[np.int64(81), np.int64(79)] clct_ans[np.int64(81), np.int64(79)] cl_acc1.000  lr 0.236500 71.058sec(train) 34.569sec(infer)\n"
     ]
    },
    {
     "name": "stdout",
     "output_type": "stream",
     "text": [
      "Epoch 111 tst: l 0.964 a 0.694 clct[np.int64(20), np.int64(20)] clct_ans[np.int64(20), np.int64(20)] cl_acc1.000  3.286sec\n"
     ]
    },
    {
     "name": "stdout",
     "output_type": "stream",
     "text": [
      "Epoch 112 tr: l 0.864 a 0.717 clct[np.int64(76), np.int64(84)] clct_ans[np.int64(76), np.int64(84)] cl_acc1.000  lr 0.236381 72.846sec(train) 35.209sec(infer)\n"
     ]
    },
    {
     "name": "stdout",
     "output_type": "stream",
     "text": [
      "Epoch 112 tst: l 0.961 a 0.695 clct[np.int64(20), np.int64(20)] clct_ans[np.int64(20), np.int64(20)] cl_acc1.000  3.302sec\n"
     ]
    },
    {
     "name": "stdout",
     "output_type": "stream",
     "text": [
      "Epoch 113 tr: l 0.867 a 0.713 clct[np.int64(79), np.int64(81)] clct_ans[np.int64(79), np.int64(81)] cl_acc1.000  lr 0.236263 75.292sec(train) 34.685sec(infer)\n"
     ]
    },
    {
     "name": "stdout",
     "output_type": "stream",
     "text": [
      "Epoch 113 tst: l 0.967 a 0.695 clct[np.int64(20), np.int64(20)] clct_ans[np.int64(20), np.int64(20)] cl_acc1.000  3.626sec\n"
     ]
    },
    {
     "name": "stdout",
     "output_type": "stream",
     "text": [
      "Epoch 114 tr: l 0.871 a 0.711 clct[np.int64(79), np.int64(81)] clct_ans[np.int64(79), np.int64(81)] cl_acc1.000  lr 0.236145 72.973sec(train) 34.696sec(infer)\n"
     ]
    },
    {
     "name": "stdout",
     "output_type": "stream",
     "text": [
      "Epoch 114 tst: l 0.965 a 0.697 clct[np.int64(20), np.int64(20)] clct_ans[np.int64(20), np.int64(20)] cl_acc1.000  3.287sec\n"
     ]
    },
    {
     "name": "stdout",
     "output_type": "stream",
     "text": [
      "Epoch 115 tr: l 0.878 a 0.708 clct[np.int64(78), np.int64(82)] clct_ans[np.int64(78), np.int64(82)] cl_acc1.000  lr 0.236027 73.636sec(train) 34.739sec(infer)\n"
     ]
    },
    {
     "name": "stdout",
     "output_type": "stream",
     "text": [
      "Epoch 115 tst: l 0.939 a 0.701 clct[np.int64(20), np.int64(20)] clct_ans[np.int64(20), np.int64(20)] cl_acc1.000  3.276sec\n"
     ]
    },
    {
     "name": "stdout",
     "output_type": "stream",
     "text": [
      "Epoch 116 tr: l 0.859 a 0.716 clct[np.int64(82), np.int64(78)] clct_ans[np.int64(82), np.int64(78)] cl_acc1.000  lr 0.235909 72.602sec(train) 34.678sec(infer)\n"
     ]
    },
    {
     "name": "stdout",
     "output_type": "stream",
     "text": [
      "Epoch 116 tst: l 0.955 a 0.698 clct[np.int64(20), np.int64(20)] clct_ans[np.int64(20), np.int64(20)] cl_acc1.000  3.324sec\n"
     ]
    },
    {
     "name": "stdout",
     "output_type": "stream",
     "text": [
      "Epoch 117 tr: l 0.849 a 0.718 clct[np.int64(82), np.int64(78)] clct_ans[np.int64(82), np.int64(78)] cl_acc1.000  lr 0.235791 72.694sec(train) 34.738sec(infer)\n"
     ]
    },
    {
     "name": "stdout",
     "output_type": "stream",
     "text": [
      "Epoch 117 tst: l 0.954 a 0.699 clct[np.int64(20), np.int64(20)] clct_ans[np.int64(20), np.int64(20)] cl_acc1.000  3.371sec\n"
     ]
    },
    {
     "name": "stdout",
     "output_type": "stream",
     "text": [
      "Epoch 118 tr: l 0.846 a 0.721 clct[np.int64(78), np.int64(82)] clct_ans[np.int64(78), np.int64(82)] cl_acc1.000  lr 0.235673 72.427sec(train) 34.666sec(infer)\n"
     ]
    },
    {
     "name": "stdout",
     "output_type": "stream",
     "text": [
      "Epoch 118 tst: l 0.944 a 0.700 clct[np.int64(20), np.int64(20)] clct_ans[np.int64(20), np.int64(20)] cl_acc1.000  3.275sec\n"
     ]
    },
    {
     "name": "stdout",
     "output_type": "stream",
     "text": [
      "Epoch 119 tr: l 0.853 a 0.718 clct[np.int64(82), np.int64(78)] clct_ans[np.int64(82), np.int64(78)] cl_acc1.000  lr 0.235555 74.667sec(train) 34.599sec(infer)\n"
     ]
    },
    {
     "name": "stdout",
     "output_type": "stream",
     "text": [
      "Epoch 119 tst: l 0.941 a 0.701 clct[np.int64(20), np.int64(20)] clct_ans[np.int64(20), np.int64(20)] cl_acc1.000  3.280sec\n"
     ]
    },
    {
     "name": "stdout",
     "output_type": "stream",
     "text": [
      "Epoch 120 tr: l 0.839 a 0.722 clct[np.int64(84), np.int64(76)] clct_ans[np.int64(84), np.int64(76)] cl_acc1.000  lr 0.235438 70.712sec(train) 34.768sec(infer)\n"
     ]
    },
    {
     "name": "stdout",
     "output_type": "stream",
     "text": [
      "Epoch 120 tst: l 0.942 a 0.700 clct[np.int64(20), np.int64(20)] clct_ans[np.int64(20), np.int64(20)] cl_acc1.000  3.274sec\n",
      "result written at output_dfca_gi/results.pickle\n",
      "checkpoint written at output_dfca_gi/checkpoint.pt\n"
     ]
    },
    {
     "name": "stdout",
     "output_type": "stream",
     "text": [
      "Epoch 121 tr: l 0.859 a 0.714 clct[np.int64(79), np.int64(81)] clct_ans[np.int64(79), np.int64(81)] cl_acc1.000  lr 0.235320 70.356sec(train) 34.587sec(infer)\n"
     ]
    },
    {
     "name": "stdout",
     "output_type": "stream",
     "text": [
      "Epoch 121 tst: l 0.957 a 0.700 clct[np.int64(20), np.int64(20)] clct_ans[np.int64(20), np.int64(20)] cl_acc1.000  3.282sec\n"
     ]
    },
    {
     "name": "stdout",
     "output_type": "stream",
     "text": [
      "Epoch 122 tr: l 0.858 a 0.716 clct[np.int64(80), np.int64(80)] clct_ans[np.int64(80), np.int64(80)] cl_acc1.000  lr 0.235202 70.804sec(train) 34.644sec(infer)\n"
     ]
    },
    {
     "name": "stdout",
     "output_type": "stream",
     "text": [
      "Epoch 122 tst: l 0.957 a 0.699 clct[np.int64(20), np.int64(20)] clct_ans[np.int64(20), np.int64(20)] cl_acc1.000  3.481sec\n"
     ]
    },
    {
     "name": "stdout",
     "output_type": "stream",
     "text": [
      "Epoch 123 tr: l 0.849 a 0.718 clct[np.int64(77), np.int64(83)] clct_ans[np.int64(77), np.int64(83)] cl_acc1.000  lr 0.235085 72.622sec(train) 34.621sec(infer)\n"
     ]
    },
    {
     "name": "stdout",
     "output_type": "stream",
     "text": [
      "Epoch 123 tst: l 0.935 a 0.703 clct[np.int64(20), np.int64(20)] clct_ans[np.int64(20), np.int64(20)] cl_acc1.000  3.287sec\n"
     ]
    },
    {
     "name": "stdout",
     "output_type": "stream",
     "text": [
      "Epoch 124 tr: l 0.835 a 0.722 clct[np.int64(82), np.int64(78)] clct_ans[np.int64(82), np.int64(78)] cl_acc1.000  lr 0.234967 68.996sec(train) 34.622sec(infer)\n"
     ]
    },
    {
     "name": "stdout",
     "output_type": "stream",
     "text": [
      "Epoch 124 tst: l 0.934 a 0.703 clct[np.int64(20), np.int64(20)] clct_ans[np.int64(20), np.int64(20)] cl_acc1.000  3.334sec\n"
     ]
    },
    {
     "name": "stdout",
     "output_type": "stream",
     "text": [
      "Epoch 125 tr: l 0.835 a 0.724 clct[np.int64(78), np.int64(82)] clct_ans[np.int64(78), np.int64(82)] cl_acc1.000  lr 0.234850 74.715sec(train) 34.642sec(infer)\n"
     ]
    },
    {
     "name": "stdout",
     "output_type": "stream",
     "text": [
      "Epoch 125 tst: l 0.949 a 0.699 clct[np.int64(20), np.int64(20)] clct_ans[np.int64(20), np.int64(20)] cl_acc1.000  3.278sec\n"
     ]
    },
    {
     "name": "stdout",
     "output_type": "stream",
     "text": [
      "Epoch 126 tr: l 0.832 a 0.725 clct[np.int64(79), np.int64(81)] clct_ans[np.int64(79), np.int64(81)] cl_acc1.000  lr 0.234732 72.236sec(train) 34.972sec(infer)\n"
     ]
    },
    {
     "name": "stdout",
     "output_type": "stream",
     "text": [
      "Epoch 126 tst: l 0.945 a 0.702 clct[np.int64(20), np.int64(20)] clct_ans[np.int64(20), np.int64(20)] cl_acc1.000  3.267sec\n"
     ]
    },
    {
     "name": "stdout",
     "output_type": "stream",
     "text": [
      "Epoch 127 tr: l 0.833 a 0.724 clct[np.int64(82), np.int64(78)] clct_ans[np.int64(82), np.int64(78)] cl_acc1.000  lr 0.234615 72.982sec(train) 34.702sec(infer)\n"
     ]
    },
    {
     "name": "stdout",
     "output_type": "stream",
     "text": [
      "Epoch 127 tst: l 0.944 a 0.702 clct[np.int64(20), np.int64(20)] clct_ans[np.int64(20), np.int64(20)] cl_acc1.000  3.304sec\n"
     ]
    },
    {
     "name": "stdout",
     "output_type": "stream",
     "text": [
      "Epoch 128 tr: l 0.825 a 0.726 clct[np.int64(75), np.int64(85)] clct_ans[np.int64(75), np.int64(85)] cl_acc1.000  lr 0.234497 74.280sec(train) 34.955sec(infer)\n"
     ]
    },
    {
     "name": "stdout",
     "output_type": "stream",
     "text": [
      "Epoch 128 tst: l 0.947 a 0.702 clct[np.int64(20), np.int64(20)] clct_ans[np.int64(20), np.int64(20)] cl_acc1.000  3.295sec\n"
     ]
    },
    {
     "name": "stdout",
     "output_type": "stream",
     "text": [
      "Epoch 129 tr: l 0.812 a 0.730 clct[np.int64(82), np.int64(78)] clct_ans[np.int64(82), np.int64(78)] cl_acc1.000  lr 0.234380 73.947sec(train) 34.741sec(infer)\n"
     ]
    },
    {
     "name": "stdout",
     "output_type": "stream",
     "text": [
      "Epoch 129 tst: l 0.943 a 0.704 clct[np.int64(20), np.int64(20)] clct_ans[np.int64(20), np.int64(20)] cl_acc1.000  3.318sec\n"
     ]
    },
    {
     "name": "stdout",
     "output_type": "stream",
     "text": [
      "Epoch 130 tr: l 0.826 a 0.727 clct[np.int64(81), np.int64(79)] clct_ans[np.int64(81), np.int64(79)] cl_acc1.000  lr 0.234263 70.946sec(train) 34.812sec(infer)\n"
     ]
    },
    {
     "name": "stdout",
     "output_type": "stream",
     "text": [
      "Epoch 130 tst: l 0.933 a 0.703 clct[np.int64(20), np.int64(20)] clct_ans[np.int64(20), np.int64(20)] cl_acc1.000  3.315sec\n",
      "result written at output_dfca_gi/results.pickle\n",
      "checkpoint written at output_dfca_gi/checkpoint.pt\n"
     ]
    },
    {
     "name": "stdout",
     "output_type": "stream",
     "text": [
      "Epoch 131 tr: l 0.830 a 0.723 clct[np.int64(76), np.int64(84)] clct_ans[np.int64(76), np.int64(84)] cl_acc1.000  lr 0.234146 73.821sec(train) 34.934sec(infer)\n"
     ]
    },
    {
     "name": "stdout",
     "output_type": "stream",
     "text": [
      "Epoch 131 tst: l 0.934 a 0.705 clct[np.int64(20), np.int64(20)] clct_ans[np.int64(20), np.int64(20)] cl_acc1.000  3.270sec\n"
     ]
    },
    {
     "name": "stdout",
     "output_type": "stream",
     "text": [
      "Epoch 132 tr: l 0.822 a 0.728 clct[np.int64(81), np.int64(79)] clct_ans[np.int64(81), np.int64(79)] cl_acc1.000  lr 0.234029 74.682sec(train) 35.061sec(infer)\n"
     ]
    },
    {
     "name": "stdout",
     "output_type": "stream",
     "text": [
      "Epoch 132 tst: l 0.942 a 0.704 clct[np.int64(20), np.int64(20)] clct_ans[np.int64(20), np.int64(20)] cl_acc1.000  3.307sec\n"
     ]
    },
    {
     "name": "stdout",
     "output_type": "stream",
     "text": [
      "Epoch 133 tr: l 0.821 a 0.729 clct[np.int64(77), np.int64(83)] clct_ans[np.int64(77), np.int64(83)] cl_acc1.000  lr 0.233912 72.886sec(train) 34.892sec(infer)\n"
     ]
    },
    {
     "name": "stdout",
     "output_type": "stream",
     "text": [
      "Epoch 133 tst: l 0.936 a 0.705 clct[np.int64(20), np.int64(20)] clct_ans[np.int64(20), np.int64(20)] cl_acc1.000  3.310sec\n"
     ]
    },
    {
     "name": "stdout",
     "output_type": "stream",
     "text": [
      "Epoch 134 tr: l 0.833 a 0.723 clct[np.int64(80), np.int64(80)] clct_ans[np.int64(80), np.int64(80)] cl_acc1.000  lr 0.233795 75.165sec(train) 34.928sec(infer)\n"
     ]
    },
    {
     "name": "stdout",
     "output_type": "stream",
     "text": [
      "Epoch 134 tst: l 0.926 a 0.709 clct[np.int64(20), np.int64(20)] clct_ans[np.int64(20), np.int64(20)] cl_acc1.000  3.315sec\n"
     ]
    },
    {
     "name": "stdout",
     "output_type": "stream",
     "text": [
      "Epoch 135 tr: l 0.810 a 0.731 clct[np.int64(80), np.int64(80)] clct_ans[np.int64(80), np.int64(80)] cl_acc1.000  lr 0.233678 72.297sec(train) 34.965sec(infer)\n"
     ]
    },
    {
     "name": "stdout",
     "output_type": "stream",
     "text": [
      "Epoch 135 tst: l 0.934 a 0.706 clct[np.int64(20), np.int64(20)] clct_ans[np.int64(20), np.int64(20)] cl_acc1.000  3.376sec\n"
     ]
    },
    {
     "name": "stdout",
     "output_type": "stream",
     "text": [
      "Epoch 136 tr: l 0.818 a 0.728 clct[np.int64(80), np.int64(80)] clct_ans[np.int64(80), np.int64(80)] cl_acc1.000  lr 0.233561 74.852sec(train) 35.130sec(infer)\n"
     ]
    },
    {
     "name": "stdout",
     "output_type": "stream",
     "text": [
      "Epoch 136 tst: l 0.923 a 0.708 clct[np.int64(20), np.int64(20)] clct_ans[np.int64(20), np.int64(20)] cl_acc1.000  3.277sec\n"
     ]
    },
    {
     "name": "stdout",
     "output_type": "stream",
     "text": [
      "Epoch 137 tr: l 0.800 a 0.737 clct[np.int64(82), np.int64(78)] clct_ans[np.int64(82), np.int64(78)] cl_acc1.000  lr 0.233444 72.421sec(train) 34.752sec(infer)\n"
     ]
    },
    {
     "name": "stdout",
     "output_type": "stream",
     "text": [
      "Epoch 137 tst: l 0.929 a 0.705 clct[np.int64(20), np.int64(20)] clct_ans[np.int64(20), np.int64(20)] cl_acc1.000  3.295sec\n"
     ]
    },
    {
     "name": "stdout",
     "output_type": "stream",
     "text": [
      "Epoch 138 tr: l 0.795 a 0.735 clct[np.int64(85), np.int64(75)] clct_ans[np.int64(85), np.int64(75)] cl_acc1.000  lr 0.233328 73.393sec(train) 34.745sec(infer)\n"
     ]
    },
    {
     "name": "stdout",
     "output_type": "stream",
     "text": [
      "Epoch 138 tst: l 0.921 a 0.707 clct[np.int64(20), np.int64(20)] clct_ans[np.int64(20), np.int64(20)] cl_acc1.000  3.516sec\n"
     ]
    },
    {
     "name": "stdout",
     "output_type": "stream",
     "text": [
      "Epoch 139 tr: l 0.819 a 0.729 clct[np.int64(82), np.int64(78)] clct_ans[np.int64(82), np.int64(78)] cl_acc1.000  lr 0.233211 70.773sec(train) 34.953sec(infer)\n"
     ]
    },
    {
     "name": "stdout",
     "output_type": "stream",
     "text": [
      "Epoch 139 tst: l 0.927 a 0.708 clct[np.int64(20), np.int64(20)] clct_ans[np.int64(20), np.int64(20)] cl_acc1.000  3.295sec\n"
     ]
    },
    {
     "name": "stdout",
     "output_type": "stream",
     "text": [
      "Epoch 140 tr: l 0.819 a 0.729 clct[np.int64(83), np.int64(77)] clct_ans[np.int64(83), np.int64(77)] cl_acc1.000  lr 0.233094 74.258sec(train) 34.626sec(infer)\n"
     ]
    },
    {
     "name": "stdout",
     "output_type": "stream",
     "text": [
      "Epoch 140 tst: l 0.931 a 0.709 clct[np.int64(20), np.int64(20)] clct_ans[np.int64(20), np.int64(20)] cl_acc1.000  3.273sec\n",
      "result written at output_dfca_gi/results.pickle\n",
      "checkpoint written at output_dfca_gi/checkpoint.pt\n"
     ]
    },
    {
     "name": "stdout",
     "output_type": "stream",
     "text": [
      "Epoch 141 tr: l 0.807 a 0.735 clct[np.int64(78), np.int64(82)] clct_ans[np.int64(78), np.int64(82)] cl_acc1.000  lr 0.232978 71.941sec(train) 34.857sec(infer)\n"
     ]
    },
    {
     "name": "stdout",
     "output_type": "stream",
     "text": [
      "Epoch 141 tst: l 0.916 a 0.711 clct[np.int64(20), np.int64(20)] clct_ans[np.int64(20), np.int64(20)] cl_acc1.000  3.266sec\n"
     ]
    },
    {
     "name": "stdout",
     "output_type": "stream",
     "text": [
      "Epoch 142 tr: l 0.815 a 0.731 clct[np.int64(80), np.int64(80)] clct_ans[np.int64(80), np.int64(80)] cl_acc1.000  lr 0.232861 71.567sec(train) 34.710sec(infer)\n"
     ]
    },
    {
     "name": "stdout",
     "output_type": "stream",
     "text": [
      "Epoch 142 tst: l 0.921 a 0.714 clct[np.int64(20), np.int64(20)] clct_ans[np.int64(20), np.int64(20)] cl_acc1.000  3.275sec\n"
     ]
    },
    {
     "name": "stdout",
     "output_type": "stream",
     "text": [
      "Epoch 143 tr: l 0.799 a 0.736 clct[np.int64(77), np.int64(83)] clct_ans[np.int64(77), np.int64(83)] cl_acc1.000  lr 0.232745 76.118sec(train) 34.667sec(infer)\n"
     ]
    },
    {
     "name": "stdout",
     "output_type": "stream",
     "text": [
      "Epoch 143 tst: l 0.933 a 0.709 clct[np.int64(20), np.int64(20)] clct_ans[np.int64(20), np.int64(20)] cl_acc1.000  3.271sec\n"
     ]
    },
    {
     "name": "stdout",
     "output_type": "stream",
     "text": [
      "Epoch 144 tr: l 0.793 a 0.736 clct[np.int64(81), np.int64(79)] clct_ans[np.int64(81), np.int64(79)] cl_acc1.000  lr 0.232629 73.124sec(train) 34.713sec(infer)\n"
     ]
    },
    {
     "name": "stdout",
     "output_type": "stream",
     "text": [
      "Epoch 144 tst: l 0.933 a 0.709 clct[np.int64(20), np.int64(20)] clct_ans[np.int64(20), np.int64(20)] cl_acc1.000  3.311sec\n"
     ]
    },
    {
     "name": "stdout",
     "output_type": "stream",
     "text": [
      "Epoch 145 tr: l 0.789 a 0.741 clct[np.int64(84), np.int64(76)] clct_ans[np.int64(84), np.int64(76)] cl_acc1.000  lr 0.232512 71.660sec(train) 34.725sec(infer)\n"
     ]
    },
    {
     "name": "stdout",
     "output_type": "stream",
     "text": [
      "Epoch 145 tst: l 0.935 a 0.710 clct[np.int64(20), np.int64(20)] clct_ans[np.int64(20), np.int64(20)] cl_acc1.000  3.313sec\n"
     ]
    },
    {
     "name": "stdout",
     "output_type": "stream",
     "text": [
      "Epoch 146 tr: l 0.800 a 0.733 clct[np.int64(78), np.int64(82)] clct_ans[np.int64(78), np.int64(82)] cl_acc1.000  lr 0.232396 74.191sec(train) 34.746sec(infer)\n"
     ]
    },
    {
     "name": "stdout",
     "output_type": "stream",
     "text": [
      "Epoch 146 tst: l 0.913 a 0.712 clct[np.int64(20), np.int64(20)] clct_ans[np.int64(20), np.int64(20)] cl_acc1.000  3.294sec\n"
     ]
    },
    {
     "name": "stdout",
     "output_type": "stream",
     "text": [
      "Epoch 147 tr: l 0.798 a 0.737 clct[np.int64(81), np.int64(79)] clct_ans[np.int64(81), np.int64(79)] cl_acc1.000  lr 0.232280 72.287sec(train) 34.861sec(infer)\n"
     ]
    },
    {
     "name": "stdout",
     "output_type": "stream",
     "text": [
      "Epoch 147 tst: l 0.915 a 0.712 clct[np.int64(20), np.int64(20)] clct_ans[np.int64(20), np.int64(20)] cl_acc1.000  3.282sec\n"
     ]
    },
    {
     "name": "stdout",
     "output_type": "stream",
     "text": [
      "Epoch 148 tr: l 0.793 a 0.738 clct[np.int64(79), np.int64(81)] clct_ans[np.int64(79), np.int64(81)] cl_acc1.000  lr 0.232164 71.275sec(train) 35.082sec(infer)\n"
     ]
    },
    {
     "name": "stdout",
     "output_type": "stream",
     "text": [
      "Epoch 148 tst: l 0.919 a 0.711 clct[np.int64(20), np.int64(20)] clct_ans[np.int64(20), np.int64(20)] cl_acc1.000  3.286sec\n"
     ]
    },
    {
     "name": "stdout",
     "output_type": "stream",
     "text": [
      "Epoch 149 tr: l 0.792 a 0.739 clct[np.int64(84), np.int64(76)] clct_ans[np.int64(84), np.int64(76)] cl_acc1.000  lr 0.232048 75.384sec(train) 34.974sec(infer)\n"
     ]
    },
    {
     "name": "stdout",
     "output_type": "stream",
     "text": [
      "Epoch 149 tst: l 0.905 a 0.716 clct[np.int64(20), np.int64(20)] clct_ans[np.int64(20), np.int64(20)] cl_acc1.000  3.274sec\n"
     ]
    },
    {
     "name": "stdout",
     "output_type": "stream",
     "text": [
      "Epoch 150 tr: l 0.791 a 0.737 clct[np.int64(86), np.int64(74)] clct_ans[np.int64(86), np.int64(74)] cl_acc1.000  lr 0.231932 72.451sec(train) 34.799sec(infer)\n"
     ]
    },
    {
     "name": "stdout",
     "output_type": "stream",
     "text": [
      "Epoch 150 tst: l 0.905 a 0.715 clct[np.int64(20), np.int64(20)] clct_ans[np.int64(20), np.int64(20)] cl_acc1.000  3.263sec\n",
      "result written at output_dfca_gi/results.pickle\n",
      "checkpoint written at output_dfca_gi/checkpoint.pt\n"
     ]
    },
    {
     "name": "stdout",
     "output_type": "stream",
     "text": [
      "Epoch 151 tr: l 0.796 a 0.740 clct[np.int64(81), np.int64(79)] clct_ans[np.int64(81), np.int64(79)] cl_acc1.000  lr 0.231816 71.972sec(train) 34.655sec(infer)\n"
     ]
    },
    {
     "name": "stdout",
     "output_type": "stream",
     "text": [
      "Epoch 151 tst: l 0.902 a 0.715 clct[np.int64(20), np.int64(20)] clct_ans[np.int64(20), np.int64(20)] cl_acc1.000  3.271sec\n"
     ]
    },
    {
     "name": "stdout",
     "output_type": "stream",
     "text": [
      "Epoch 152 tr: l 0.790 a 0.739 clct[np.int64(78), np.int64(82)] clct_ans[np.int64(78), np.int64(82)] cl_acc1.000  lr 0.231700 73.786sec(train) 34.632sec(infer)\n"
     ]
    },
    {
     "name": "stdout",
     "output_type": "stream",
     "text": [
      "Epoch 152 tst: l 0.893 a 0.715 clct[np.int64(20), np.int64(20)] clct_ans[np.int64(20), np.int64(20)] cl_acc1.000  3.282sec\n"
     ]
    },
    {
     "name": "stdout",
     "output_type": "stream",
     "text": [
      "Epoch 153 tr: l 0.781 a 0.742 clct[np.int64(75), np.int64(85)] clct_ans[np.int64(75), np.int64(85)] cl_acc1.000  lr 0.231584 71.987sec(train) 34.686sec(infer)\n"
     ]
    },
    {
     "name": "stdout",
     "output_type": "stream",
     "text": [
      "Epoch 153 tst: l 0.907 a 0.713 clct[np.int64(20), np.int64(20)] clct_ans[np.int64(20), np.int64(20)] cl_acc1.000  3.283sec\n"
     ]
    },
    {
     "name": "stdout",
     "output_type": "stream",
     "text": [
      "Epoch 154 tr: l 0.787 a 0.739 clct[np.int64(78), np.int64(82)] clct_ans[np.int64(78), np.int64(82)] cl_acc1.000  lr 0.231468 73.045sec(train) 34.780sec(infer)\n"
     ]
    },
    {
     "name": "stdout",
     "output_type": "stream",
     "text": [
      "Epoch 154 tst: l 0.900 a 0.716 clct[np.int64(20), np.int64(20)] clct_ans[np.int64(20), np.int64(20)] cl_acc1.000  3.280sec\n"
     ]
    },
    {
     "name": "stdout",
     "output_type": "stream",
     "text": [
      "Epoch 155 tr: l 0.784 a 0.740 clct[np.int64(81), np.int64(79)] clct_ans[np.int64(81), np.int64(79)] cl_acc1.000  lr 0.231352 75.582sec(train) 34.695sec(infer)\n"
     ]
    },
    {
     "name": "stdout",
     "output_type": "stream",
     "text": [
      "Epoch 155 tst: l 0.900 a 0.716 clct[np.int64(20), np.int64(20)] clct_ans[np.int64(20), np.int64(20)] cl_acc1.000  3.310sec\n"
     ]
    },
    {
     "name": "stdout",
     "output_type": "stream",
     "text": [
      "Epoch 156 tr: l 0.774 a 0.744 clct[np.int64(85), np.int64(75)] clct_ans[np.int64(85), np.int64(75)] cl_acc1.000  lr 0.231237 75.034sec(train) 34.616sec(infer)\n"
     ]
    },
    {
     "name": "stdout",
     "output_type": "stream",
     "text": [
      "Epoch 156 tst: l 0.898 a 0.718 clct[np.int64(20), np.int64(20)] clct_ans[np.int64(20), np.int64(20)] cl_acc1.000  3.275sec\n"
     ]
    },
    {
     "name": "stdout",
     "output_type": "stream",
     "text": [
      "Epoch 157 tr: l 0.780 a 0.742 clct[np.int64(80), np.int64(80)] clct_ans[np.int64(80), np.int64(80)] cl_acc1.000  lr 0.231121 70.589sec(train) 35.006sec(infer)\n"
     ]
    },
    {
     "name": "stdout",
     "output_type": "stream",
     "text": [
      "Epoch 157 tst: l 0.903 a 0.716 clct[np.int64(20), np.int64(20)] clct_ans[np.int64(20), np.int64(20)] cl_acc1.000  3.274sec\n"
     ]
    },
    {
     "name": "stdout",
     "output_type": "stream",
     "text": [
      "Epoch 158 tr: l 0.769 a 0.745 clct[np.int64(80), np.int64(80)] clct_ans[np.int64(80), np.int64(80)] cl_acc1.000  lr 0.231005 72.032sec(train) 34.868sec(infer)\n"
     ]
    },
    {
     "name": "stdout",
     "output_type": "stream",
     "text": [
      "Epoch 158 tst: l 0.910 a 0.717 clct[np.int64(20), np.int64(20)] clct_ans[np.int64(20), np.int64(20)] cl_acc1.000  3.375sec\n"
     ]
    },
    {
     "name": "stdout",
     "output_type": "stream",
     "text": [
      "Epoch 159 tr: l 0.775 a 0.742 clct[np.int64(78), np.int64(82)] clct_ans[np.int64(78), np.int64(82)] cl_acc1.000  lr 0.230890 73.951sec(train) 34.899sec(infer)\n"
     ]
    },
    {
     "name": "stdout",
     "output_type": "stream",
     "text": [
      "Epoch 159 tst: l 0.908 a 0.718 clct[np.int64(20), np.int64(20)] clct_ans[np.int64(20), np.int64(20)] cl_acc1.000  3.298sec\n"
     ]
    },
    {
     "name": "stdout",
     "output_type": "stream",
     "text": [
      "Epoch 160 tr: l 0.781 a 0.740 clct[np.int64(80), np.int64(80)] clct_ans[np.int64(80), np.int64(80)] cl_acc1.000  lr 0.230774 73.248sec(train) 34.731sec(infer)\n"
     ]
    },
    {
     "name": "stdout",
     "output_type": "stream",
     "text": [
      "Epoch 160 tst: l 0.898 a 0.719 clct[np.int64(20), np.int64(20)] clct_ans[np.int64(20), np.int64(20)] cl_acc1.000  3.301sec\n",
      "result written at output_dfca_gi/results.pickle\n",
      "checkpoint written at output_dfca_gi/checkpoint.pt\n"
     ]
    },
    {
     "name": "stdout",
     "output_type": "stream",
     "text": [
      "Epoch 161 tr: l 0.771 a 0.745 clct[np.int64(82), np.int64(78)] clct_ans[np.int64(82), np.int64(78)] cl_acc1.000  lr 0.230659 71.544sec(train) 34.719sec(infer)\n"
     ]
    },
    {
     "name": "stdout",
     "output_type": "stream",
     "text": [
      "Epoch 161 tst: l 0.906 a 0.721 clct[np.int64(20), np.int64(20)] clct_ans[np.int64(20), np.int64(20)] cl_acc1.000  3.270sec\n"
     ]
    },
    {
     "name": "stdout",
     "output_type": "stream",
     "text": [
      "Epoch 162 tr: l 0.762 a 0.748 clct[np.int64(84), np.int64(76)] clct_ans[np.int64(84), np.int64(76)] cl_acc1.000  lr 0.230544 71.659sec(train) 34.615sec(infer)\n"
     ]
    },
    {
     "name": "stdout",
     "output_type": "stream",
     "text": [
      "Epoch 162 tst: l 0.896 a 0.718 clct[np.int64(20), np.int64(20)] clct_ans[np.int64(20), np.int64(20)] cl_acc1.000  3.266sec\n"
     ]
    },
    {
     "name": "stdout",
     "output_type": "stream",
     "text": [
      "Epoch 163 tr: l 0.766 a 0.746 clct[np.int64(79), np.int64(81)] clct_ans[np.int64(79), np.int64(81)] cl_acc1.000  lr 0.230428 70.575sec(train) 34.878sec(infer)\n"
     ]
    },
    {
     "name": "stdout",
     "output_type": "stream",
     "text": [
      "Epoch 163 tst: l 0.892 a 0.722 clct[np.int64(20), np.int64(20)] clct_ans[np.int64(20), np.int64(20)] cl_acc1.000  3.262sec\n"
     ]
    },
    {
     "name": "stdout",
     "output_type": "stream",
     "text": [
      "Epoch 164 tr: l 0.765 a 0.748 clct[np.int64(80), np.int64(80)] clct_ans[np.int64(80), np.int64(80)] cl_acc1.000  lr 0.230313 71.930sec(train) 34.860sec(infer)\n"
     ]
    },
    {
     "name": "stdout",
     "output_type": "stream",
     "text": [
      "Epoch 164 tst: l 0.905 a 0.719 clct[np.int64(20), np.int64(20)] clct_ans[np.int64(20), np.int64(20)] cl_acc1.000  3.273sec\n"
     ]
    },
    {
     "name": "stdout",
     "output_type": "stream",
     "text": [
      "Epoch 165 tr: l 0.776 a 0.743 clct[np.int64(79), np.int64(81)] clct_ans[np.int64(79), np.int64(81)] cl_acc1.000  lr 0.230198 73.042sec(train) 34.702sec(infer)\n"
     ]
    },
    {
     "name": "stdout",
     "output_type": "stream",
     "text": [
      "Epoch 165 tst: l 0.894 a 0.721 clct[np.int64(20), np.int64(20)] clct_ans[np.int64(20), np.int64(20)] cl_acc1.000  3.253sec\n"
     ]
    },
    {
     "name": "stdout",
     "output_type": "stream",
     "text": [
      "Epoch 166 tr: l 0.768 a 0.745 clct[np.int64(82), np.int64(78)] clct_ans[np.int64(82), np.int64(78)] cl_acc1.000  lr 0.230083 71.953sec(train) 34.751sec(infer)\n"
     ]
    },
    {
     "name": "stdout",
     "output_type": "stream",
     "text": [
      "Epoch 166 tst: l 0.899 a 0.720 clct[np.int64(20), np.int64(20)] clct_ans[np.int64(20), np.int64(20)] cl_acc1.000  3.277sec\n"
     ]
    },
    {
     "name": "stdout",
     "output_type": "stream",
     "text": [
      "Epoch 167 tr: l 0.765 a 0.747 clct[np.int64(78), np.int64(82)] clct_ans[np.int64(78), np.int64(82)] cl_acc1.000  lr 0.229968 70.317sec(train) 34.947sec(infer)\n"
     ]
    },
    {
     "name": "stdout",
     "output_type": "stream",
     "text": [
      "Epoch 167 tst: l 0.893 a 0.721 clct[np.int64(20), np.int64(20)] clct_ans[np.int64(20), np.int64(20)] cl_acc1.000  3.300sec\n"
     ]
    },
    {
     "name": "stdout",
     "output_type": "stream",
     "text": [
      "Epoch 168 tr: l 0.778 a 0.744 clct[np.int64(79), np.int64(81)] clct_ans[np.int64(79), np.int64(81)] cl_acc1.000  lr 0.229853 71.794sec(train) 34.981sec(infer)\n"
     ]
    },
    {
     "name": "stdout",
     "output_type": "stream",
     "text": [
      "Epoch 168 tst: l 0.900 a 0.720 clct[np.int64(20), np.int64(20)] clct_ans[np.int64(20), np.int64(20)] cl_acc1.000  3.344sec\n"
     ]
    },
    {
     "name": "stdout",
     "output_type": "stream",
     "text": [
      "Epoch 169 tr: l 0.757 a 0.748 clct[np.int64(79), np.int64(81)] clct_ans[np.int64(79), np.int64(81)] cl_acc1.000  lr 0.229738 73.210sec(train) 34.982sec(infer)\n"
     ]
    },
    {
     "name": "stdout",
     "output_type": "stream",
     "text": [
      "Epoch 169 tst: l 0.910 a 0.719 clct[np.int64(20), np.int64(20)] clct_ans[np.int64(20), np.int64(20)] cl_acc1.000  3.352sec\n"
     ]
    },
    {
     "name": "stdout",
     "output_type": "stream",
     "text": [
      "Epoch 170 tr: l 0.752 a 0.752 clct[np.int64(79), np.int64(81)] clct_ans[np.int64(79), np.int64(81)] cl_acc1.000  lr 0.229623 70.818sec(train) 35.057sec(infer)\n"
     ]
    },
    {
     "name": "stdout",
     "output_type": "stream",
     "text": [
      "Epoch 170 tst: l 0.893 a 0.723 clct[np.int64(20), np.int64(20)] clct_ans[np.int64(20), np.int64(20)] cl_acc1.000  3.356sec\n",
      "result written at output_dfca_gi/results.pickle\n",
      "checkpoint written at output_dfca_gi/checkpoint.pt\n"
     ]
    },
    {
     "name": "stdout",
     "output_type": "stream",
     "text": [
      "Epoch 171 tr: l 0.759 a 0.748 clct[np.int64(81), np.int64(79)] clct_ans[np.int64(81), np.int64(79)] cl_acc1.000  lr 0.229508 71.302sec(train) 34.760sec(infer)\n"
     ]
    },
    {
     "name": "stdout",
     "output_type": "stream",
     "text": [
      "Epoch 171 tst: l 0.890 a 0.725 clct[np.int64(20), np.int64(20)] clct_ans[np.int64(20), np.int64(20)] cl_acc1.000  3.281sec\n"
     ]
    },
    {
     "name": "stdout",
     "output_type": "stream",
     "text": [
      "Epoch 172 tr: l 0.757 a 0.750 clct[np.int64(77), np.int64(83)] clct_ans[np.int64(77), np.int64(83)] cl_acc1.000  lr 0.229394 70.623sec(train) 35.167sec(infer)\n"
     ]
    },
    {
     "name": "stdout",
     "output_type": "stream",
     "text": [
      "Epoch 172 tst: l 0.890 a 0.723 clct[np.int64(20), np.int64(20)] clct_ans[np.int64(20), np.int64(20)] cl_acc1.000  3.294sec\n"
     ]
    },
    {
     "name": "stdout",
     "output_type": "stream",
     "text": [
      "Epoch 173 tr: l 0.753 a 0.750 clct[np.int64(82), np.int64(78)] clct_ans[np.int64(82), np.int64(78)] cl_acc1.000  lr 0.229279 71.666sec(train) 35.425sec(infer)\n"
     ]
    },
    {
     "name": "stdout",
     "output_type": "stream",
     "text": [
      "Epoch 173 tst: l 0.902 a 0.721 clct[np.int64(20), np.int64(20)] clct_ans[np.int64(20), np.int64(20)] cl_acc1.000  3.308sec\n"
     ]
    },
    {
     "name": "stdout",
     "output_type": "stream",
     "text": [
      "Epoch 174 tr: l 0.743 a 0.754 clct[np.int64(83), np.int64(77)] clct_ans[np.int64(83), np.int64(77)] cl_acc1.000  lr 0.229164 69.524sec(train) 34.810sec(infer)\n"
     ]
    },
    {
     "name": "stdout",
     "output_type": "stream",
     "text": [
      "Epoch 174 tst: l 0.885 a 0.725 clct[np.int64(20), np.int64(20)] clct_ans[np.int64(20), np.int64(20)] cl_acc1.000  3.297sec\n"
     ]
    },
    {
     "name": "stdout",
     "output_type": "stream",
     "text": [
      "Epoch 175 tr: l 0.755 a 0.750 clct[np.int64(80), np.int64(80)] clct_ans[np.int64(80), np.int64(80)] cl_acc1.000  lr 0.229050 72.642sec(train) 34.945sec(infer)\n"
     ]
    },
    {
     "name": "stdout",
     "output_type": "stream",
     "text": [
      "Epoch 175 tst: l 0.869 a 0.727 clct[np.int64(20), np.int64(20)] clct_ans[np.int64(20), np.int64(20)] cl_acc1.000  3.298sec\n"
     ]
    },
    {
     "name": "stdout",
     "output_type": "stream",
     "text": [
      "Epoch 176 tr: l 0.753 a 0.751 clct[np.int64(81), np.int64(79)] clct_ans[np.int64(81), np.int64(79)] cl_acc1.000  lr 0.228935 72.426sec(train) 34.666sec(infer)\n"
     ]
    },
    {
     "name": "stdout",
     "output_type": "stream",
     "text": [
      "Epoch 176 tst: l 0.877 a 0.725 clct[np.int64(20), np.int64(20)] clct_ans[np.int64(20), np.int64(20)] cl_acc1.000  3.306sec\n"
     ]
    },
    {
     "name": "stdout",
     "output_type": "stream",
     "text": [
      "Epoch 177 tr: l 0.751 a 0.751 clct[np.int64(80), np.int64(80)] clct_ans[np.int64(80), np.int64(80)] cl_acc1.000  lr 0.228821 75.291sec(train) 34.806sec(infer)\n"
     ]
    },
    {
     "name": "stdout",
     "output_type": "stream",
     "text": [
      "Epoch 177 tst: l 0.887 a 0.723 clct[np.int64(20), np.int64(20)] clct_ans[np.int64(20), np.int64(20)] cl_acc1.000  3.292sec\n"
     ]
    },
    {
     "name": "stdout",
     "output_type": "stream",
     "text": [
      "Epoch 178 tr: l 0.733 a 0.757 clct[np.int64(80), np.int64(80)] clct_ans[np.int64(80), np.int64(80)] cl_acc1.000  lr 0.228706 73.171sec(train) 34.696sec(infer)\n"
     ]
    },
    {
     "name": "stdout",
     "output_type": "stream",
     "text": [
      "Epoch 178 tst: l 0.885 a 0.724 clct[np.int64(20), np.int64(20)] clct_ans[np.int64(20), np.int64(20)] cl_acc1.000  3.381sec\n"
     ]
    },
    {
     "name": "stdout",
     "output_type": "stream",
     "text": [
      "Epoch 179 tr: l 0.736 a 0.756 clct[np.int64(83), np.int64(77)] clct_ans[np.int64(83), np.int64(77)] cl_acc1.000  lr 0.228592 70.805sec(train) 34.624sec(infer)\n"
     ]
    },
    {
     "name": "stdout",
     "output_type": "stream",
     "text": [
      "Epoch 179 tst: l 0.882 a 0.722 clct[np.int64(20), np.int64(20)] clct_ans[np.int64(20), np.int64(20)] cl_acc1.000  3.293sec\n"
     ]
    },
    {
     "name": "stdout",
     "output_type": "stream",
     "text": [
      "Epoch 180 tr: l 0.736 a 0.756 clct[np.int64(82), np.int64(78)] clct_ans[np.int64(82), np.int64(78)] cl_acc1.000  lr 0.228478 70.919sec(train) 34.626sec(infer)\n"
     ]
    },
    {
     "name": "stdout",
     "output_type": "stream",
     "text": [
      "Epoch 180 tst: l 0.913 a 0.721 clct[np.int64(20), np.int64(20)] clct_ans[np.int64(20), np.int64(20)] cl_acc1.000  3.315sec\n",
      "result written at output_dfca_gi/results.pickle\n",
      "checkpoint written at output_dfca_gi/checkpoint.pt\n"
     ]
    },
    {
     "name": "stdout",
     "output_type": "stream",
     "text": [
      "Epoch 181 tr: l 0.732 a 0.757 clct[np.int64(81), np.int64(79)] clct_ans[np.int64(81), np.int64(79)] cl_acc1.000  lr 0.228363 71.779sec(train) 34.515sec(infer)\n"
     ]
    },
    {
     "name": "stdout",
     "output_type": "stream",
     "text": [
      "Epoch 181 tst: l 0.892 a 0.723 clct[np.int64(20), np.int64(20)] clct_ans[np.int64(20), np.int64(20)] cl_acc1.000  3.291sec\n"
     ]
    },
    {
     "name": "stdout",
     "output_type": "stream",
     "text": [
      "Epoch 182 tr: l 0.735 a 0.757 clct[np.int64(83), np.int64(77)] clct_ans[np.int64(83), np.int64(77)] cl_acc1.000  lr 0.228249 74.179sec(train) 34.951sec(infer)\n"
     ]
    },
    {
     "name": "stdout",
     "output_type": "stream",
     "text": [
      "Epoch 182 tst: l 0.892 a 0.721 clct[np.int64(20), np.int64(20)] clct_ans[np.int64(20), np.int64(20)] cl_acc1.000  3.285sec\n"
     ]
    },
    {
     "name": "stdout",
     "output_type": "stream",
     "text": [
      "Epoch 183 tr: l 0.729 a 0.757 clct[np.int64(82), np.int64(78)] clct_ans[np.int64(82), np.int64(78)] cl_acc1.000  lr 0.228135 74.371sec(train) 34.726sec(infer)\n"
     ]
    },
    {
     "name": "stdout",
     "output_type": "stream",
     "text": [
      "Epoch 183 tst: l 0.882 a 0.724 clct[np.int64(20), np.int64(20)] clct_ans[np.int64(20), np.int64(20)] cl_acc1.000  3.280sec\n"
     ]
    },
    {
     "name": "stdout",
     "output_type": "stream",
     "text": [
      "Epoch 184 tr: l 0.735 a 0.757 clct[np.int64(82), np.int64(78)] clct_ans[np.int64(82), np.int64(78)] cl_acc1.000  lr 0.228021 70.303sec(train) 34.636sec(infer)\n"
     ]
    },
    {
     "name": "stdout",
     "output_type": "stream",
     "text": [
      "Epoch 184 tst: l 0.893 a 0.723 clct[np.int64(20), np.int64(20)] clct_ans[np.int64(20), np.int64(20)] cl_acc1.000  3.282sec\n"
     ]
    },
    {
     "name": "stdout",
     "output_type": "stream",
     "text": [
      "Epoch 185 tr: l 0.741 a 0.754 clct[np.int64(86), np.int64(74)] clct_ans[np.int64(86), np.int64(74)] cl_acc1.000  lr 0.227907 71.288sec(train) 34.658sec(infer)\n"
     ]
    },
    {
     "name": "stdout",
     "output_type": "stream",
     "text": [
      "Epoch 185 tst: l 0.874 a 0.727 clct[np.int64(20), np.int64(20)] clct_ans[np.int64(20), np.int64(20)] cl_acc1.000  3.269sec\n"
     ]
    },
    {
     "name": "stdout",
     "output_type": "stream",
     "text": [
      "Epoch 186 tr: l 0.733 a 0.757 clct[np.int64(76), np.int64(84)] clct_ans[np.int64(76), np.int64(84)] cl_acc1.000  lr 0.227793 71.175sec(train) 34.756sec(infer)\n"
     ]
    },
    {
     "name": "stdout",
     "output_type": "stream",
     "text": [
      "Epoch 186 tst: l 0.888 a 0.723 clct[np.int64(20), np.int64(20)] clct_ans[np.int64(20), np.int64(20)] cl_acc1.000  3.257sec\n"
     ]
    },
    {
     "name": "stdout",
     "output_type": "stream",
     "text": [
      "Epoch 187 tr: l 0.733 a 0.759 clct[np.int64(82), np.int64(78)] clct_ans[np.int64(82), np.int64(78)] cl_acc1.000  lr 0.227679 74.344sec(train) 34.789sec(infer)\n"
     ]
    },
    {
     "name": "stdout",
     "output_type": "stream",
     "text": [
      "Epoch 187 tst: l 0.900 a 0.720 clct[np.int64(20), np.int64(20)] clct_ans[np.int64(20), np.int64(20)] cl_acc1.000  3.269sec\n"
     ]
    },
    {
     "name": "stdout",
     "output_type": "stream",
     "text": [
      "Epoch 188 tr: l 0.727 a 0.758 clct[np.int64(78), np.int64(82)] clct_ans[np.int64(78), np.int64(82)] cl_acc1.000  lr 0.227565 75.084sec(train) 35.189sec(infer)\n"
     ]
    },
    {
     "name": "stdout",
     "output_type": "stream",
     "text": [
      "Epoch 188 tst: l 0.871 a 0.725 clct[np.int64(20), np.int64(20)] clct_ans[np.int64(20), np.int64(20)] cl_acc1.000  3.260sec\n"
     ]
    },
    {
     "name": "stdout",
     "output_type": "stream",
     "text": [
      "Epoch 189 tr: l 0.734 a 0.757 clct[np.int64(79), np.int64(81)] clct_ans[np.int64(79), np.int64(81)] cl_acc1.000  lr 0.227452 74.767sec(train) 35.045sec(infer)\n"
     ]
    },
    {
     "name": "stdout",
     "output_type": "stream",
     "text": [
      "Epoch 189 tst: l 0.874 a 0.726 clct[np.int64(20), np.int64(20)] clct_ans[np.int64(20), np.int64(20)] cl_acc1.000  3.272sec\n"
     ]
    },
    {
     "name": "stdout",
     "output_type": "stream",
     "text": [
      "Epoch 190 tr: l 0.735 a 0.755 clct[np.int64(77), np.int64(83)] clct_ans[np.int64(77), np.int64(83)] cl_acc1.000  lr 0.227338 73.096sec(train) 34.965sec(infer)\n"
     ]
    },
    {
     "name": "stdout",
     "output_type": "stream",
     "text": [
      "Epoch 190 tst: l 0.878 a 0.726 clct[np.int64(20), np.int64(20)] clct_ans[np.int64(20), np.int64(20)] cl_acc1.000  3.327sec\n",
      "result written at output_dfca_gi/results.pickle\n",
      "checkpoint written at output_dfca_gi/checkpoint.pt\n"
     ]
    },
    {
     "name": "stdout",
     "output_type": "stream",
     "text": [
      "Epoch 191 tr: l 0.743 a 0.755 clct[np.int64(80), np.int64(80)] clct_ans[np.int64(80), np.int64(80)] cl_acc1.000  lr 0.227224 71.780sec(train) 34.741sec(infer)\n"
     ]
    },
    {
     "name": "stdout",
     "output_type": "stream",
     "text": [
      "Epoch 191 tst: l 0.873 a 0.729 clct[np.int64(20), np.int64(20)] clct_ans[np.int64(20), np.int64(20)] cl_acc1.000  3.351sec\n"
     ]
    },
    {
     "name": "stdout",
     "output_type": "stream",
     "text": [
      "Epoch 192 tr: l 0.710 a 0.765 clct[np.int64(82), np.int64(78)] clct_ans[np.int64(82), np.int64(78)] cl_acc1.000  lr 0.227111 72.460sec(train) 34.899sec(infer)\n"
     ]
    },
    {
     "name": "stdout",
     "output_type": "stream",
     "text": [
      "Epoch 192 tst: l 0.887 a 0.728 clct[np.int64(20), np.int64(20)] clct_ans[np.int64(20), np.int64(20)] cl_acc1.000  3.345sec\n"
     ]
    },
    {
     "name": "stdout",
     "output_type": "stream",
     "text": [
      "Epoch 193 tr: l 0.697 a 0.768 clct[np.int64(85), np.int64(75)] clct_ans[np.int64(85), np.int64(75)] cl_acc1.000  lr 0.226997 69.744sec(train) 34.675sec(infer)\n"
     ]
    },
    {
     "name": "stdout",
     "output_type": "stream",
     "text": [
      "Epoch 193 tst: l 0.876 a 0.729 clct[np.int64(20), np.int64(20)] clct_ans[np.int64(20), np.int64(20)] cl_acc1.000  3.272sec\n"
     ]
    },
    {
     "name": "stdout",
     "output_type": "stream",
     "text": [
      "Epoch 194 tr: l 0.724 a 0.762 clct[np.int64(78), np.int64(82)] clct_ans[np.int64(78), np.int64(82)] cl_acc1.000  lr 0.226883 70.433sec(train) 35.006sec(infer)\n"
     ]
    },
    {
     "name": "stdout",
     "output_type": "stream",
     "text": [
      "Epoch 194 tst: l 0.868 a 0.728 clct[np.int64(20), np.int64(20)] clct_ans[np.int64(20), np.int64(20)] cl_acc1.000  3.521sec\n"
     ]
    },
    {
     "name": "stdout",
     "output_type": "stream",
     "text": [
      "Epoch 195 tr: l 0.720 a 0.761 clct[np.int64(83), np.int64(77)] clct_ans[np.int64(83), np.int64(77)] cl_acc1.000  lr 0.226770 71.551sec(train) 34.769sec(infer)\n"
     ]
    },
    {
     "name": "stdout",
     "output_type": "stream",
     "text": [
      "Epoch 195 tst: l 0.875 a 0.727 clct[np.int64(20), np.int64(20)] clct_ans[np.int64(20), np.int64(20)] cl_acc1.000  3.336sec\n"
     ]
    },
    {
     "name": "stdout",
     "output_type": "stream",
     "text": [
      "Epoch 196 tr: l 0.719 a 0.761 clct[np.int64(80), np.int64(80)] clct_ans[np.int64(80), np.int64(80)] cl_acc1.000  lr 0.226657 68.433sec(train) 34.806sec(infer)\n"
     ]
    },
    {
     "name": "stdout",
     "output_type": "stream",
     "text": [
      "Epoch 196 tst: l 0.875 a 0.729 clct[np.int64(20), np.int64(20)] clct_ans[np.int64(20), np.int64(20)] cl_acc1.000  3.280sec\n"
     ]
    },
    {
     "name": "stdout",
     "output_type": "stream",
     "text": [
      "Epoch 197 tr: l 0.711 a 0.765 clct[np.int64(84), np.int64(76)] clct_ans[np.int64(84), np.int64(76)] cl_acc1.000  lr 0.226543 70.124sec(train) 34.845sec(infer)\n"
     ]
    },
    {
     "name": "stdout",
     "output_type": "stream",
     "text": [
      "Epoch 197 tst: l 0.870 a 0.731 clct[np.int64(20), np.int64(20)] clct_ans[np.int64(20), np.int64(20)] cl_acc1.000  3.310sec\n"
     ]
    },
    {
     "name": "stdout",
     "output_type": "stream",
     "text": [
      "Epoch 198 tr: l 0.716 a 0.764 clct[np.int64(81), np.int64(79)] clct_ans[np.int64(81), np.int64(79)] cl_acc1.000  lr 0.226430 71.750sec(train) 34.751sec(infer)\n"
     ]
    },
    {
     "name": "stdout",
     "output_type": "stream",
     "text": [
      "Epoch 198 tst: l 0.868 a 0.731 clct[np.int64(20), np.int64(20)] clct_ans[np.int64(20), np.int64(20)] cl_acc1.000  3.365sec\n"
     ]
    },
    {
     "name": "stdout",
     "output_type": "stream",
     "text": [
      "Epoch 199 tr: l 0.724 a 0.761 clct[np.int64(77), np.int64(83)] clct_ans[np.int64(77), np.int64(83)] cl_acc1.000  lr 0.226317 73.264sec(train) 34.647sec(infer)\n"
     ]
    },
    {
     "name": "stdout",
     "output_type": "stream",
     "text": [
      "Epoch 199 tst: l 0.860 a 0.733 clct[np.int64(20), np.int64(20)] clct_ans[np.int64(20), np.int64(20)] cl_acc1.000  3.304sec\n"
     ]
    },
    {
     "name": "stdout",
     "output_type": "stream",
     "text": [
      "Epoch 200 tr: l 0.717 a 0.761 clct[np.int64(86), np.int64(74)] clct_ans[np.int64(86), np.int64(74)] cl_acc1.000  lr 0.226204 73.335sec(train) 34.688sec(infer)\n"
     ]
    },
    {
     "name": "stdout",
     "output_type": "stream",
     "text": [
      "Epoch 200 tst: l 0.858 a 0.733 clct[np.int64(20), np.int64(20)] clct_ans[np.int64(20), np.int64(20)] cl_acc1.000  3.337sec\n",
      "result written at output_dfca_gi/results.pickle\n",
      "checkpoint written at output_dfca_gi/checkpoint.pt\n"
     ]
    },
    {
     "name": "stdout",
     "output_type": "stream",
     "text": [
      "Epoch 201 tr: l 0.721 a 0.759 clct[np.int64(78), np.int64(82)] clct_ans[np.int64(78), np.int64(82)] cl_acc1.000  lr 0.226091 72.079sec(train) 34.595sec(infer)\n"
     ]
    },
    {
     "name": "stdout",
     "output_type": "stream",
     "text": [
      "Epoch 201 tst: l 0.857 a 0.733 clct[np.int64(20), np.int64(20)] clct_ans[np.int64(20), np.int64(20)] cl_acc1.000  3.272sec\n"
     ]
    },
    {
     "name": "stdout",
     "output_type": "stream",
     "text": [
      "Epoch 202 tr: l 0.728 a 0.759 clct[np.int64(79), np.int64(81)] clct_ans[np.int64(79), np.int64(81)] cl_acc1.000  lr 0.225978 73.873sec(train) 34.688sec(infer)\n"
     ]
    },
    {
     "name": "stdout",
     "output_type": "stream",
     "text": [
      "Epoch 202 tst: l 0.856 a 0.733 clct[np.int64(20), np.int64(20)] clct_ans[np.int64(20), np.int64(20)] cl_acc1.000  3.319sec\n"
     ]
    },
    {
     "name": "stdout",
     "output_type": "stream",
     "text": [
      "Epoch 203 tr: l 0.710 a 0.766 clct[np.int64(80), np.int64(80)] clct_ans[np.int64(80), np.int64(80)] cl_acc1.000  lr 0.225865 70.413sec(train) 34.639sec(infer)\n"
     ]
    },
    {
     "name": "stdout",
     "output_type": "stream",
     "text": [
      "Epoch 203 tst: l 0.859 a 0.731 clct[np.int64(20), np.int64(20)] clct_ans[np.int64(20), np.int64(20)] cl_acc1.000  3.373sec\n"
     ]
    },
    {
     "name": "stdout",
     "output_type": "stream",
     "text": [
      "Epoch 204 tr: l 0.709 a 0.766 clct[np.int64(79), np.int64(81)] clct_ans[np.int64(79), np.int64(81)] cl_acc1.000  lr 0.225752 69.652sec(train) 34.644sec(infer)\n"
     ]
    },
    {
     "name": "stdout",
     "output_type": "stream",
     "text": [
      "Epoch 204 tst: l 0.857 a 0.732 clct[np.int64(20), np.int64(20)] clct_ans[np.int64(20), np.int64(20)] cl_acc1.000  3.259sec\n"
     ]
    },
    {
     "name": "stdout",
     "output_type": "stream",
     "text": [
      "Epoch 205 tr: l 0.712 a 0.764 clct[np.int64(78), np.int64(82)] clct_ans[np.int64(78), np.int64(82)] cl_acc1.000  lr 0.225639 73.049sec(train) 34.799sec(infer)\n"
     ]
    },
    {
     "name": "stdout",
     "output_type": "stream",
     "text": [
      "Epoch 205 tst: l 0.863 a 0.732 clct[np.int64(20), np.int64(20)] clct_ans[np.int64(20), np.int64(20)] cl_acc1.000  3.265sec\n"
     ]
    },
    {
     "name": "stdout",
     "output_type": "stream",
     "text": [
      "Epoch 206 tr: l 0.703 a 0.768 clct[np.int64(80), np.int64(80)] clct_ans[np.int64(80), np.int64(80)] cl_acc1.000  lr 0.225526 71.642sec(train) 34.724sec(infer)\n"
     ]
    },
    {
     "name": "stdout",
     "output_type": "stream",
     "text": [
      "Epoch 206 tst: l 0.876 a 0.731 clct[np.int64(20), np.int64(20)] clct_ans[np.int64(20), np.int64(20)] cl_acc1.000  3.269sec\n"
     ]
    },
    {
     "name": "stdout",
     "output_type": "stream",
     "text": [
      "Epoch 207 tr: l 0.713 a 0.762 clct[np.int64(83), np.int64(77)] clct_ans[np.int64(83), np.int64(77)] cl_acc1.000  lr 0.225413 71.581sec(train) 34.875sec(infer)\n"
     ]
    },
    {
     "name": "stdout",
     "output_type": "stream",
     "text": [
      "Epoch 207 tst: l 0.855 a 0.734 clct[np.int64(20), np.int64(20)] clct_ans[np.int64(20), np.int64(20)] cl_acc1.000  3.257sec\n"
     ]
    },
    {
     "name": "stdout",
     "output_type": "stream",
     "text": [
      "Epoch 208 tr: l 0.712 a 0.766 clct[np.int64(83), np.int64(77)] clct_ans[np.int64(83), np.int64(77)] cl_acc1.000  lr 0.225300 73.182sec(train) 34.688sec(infer)\n"
     ]
    },
    {
     "name": "stdout",
     "output_type": "stream",
     "text": [
      "Epoch 208 tst: l 0.852 a 0.735 clct[np.int64(20), np.int64(20)] clct_ans[np.int64(20), np.int64(20)] cl_acc1.000  3.270sec\n"
     ]
    },
    {
     "name": "stdout",
     "output_type": "stream",
     "text": [
      "Epoch 209 tr: l 0.707 a 0.765 clct[np.int64(76), np.int64(84)] clct_ans[np.int64(76), np.int64(84)] cl_acc1.000  lr 0.225188 76.414sec(train) 34.798sec(infer)\n"
     ]
    },
    {
     "name": "stdout",
     "output_type": "stream",
     "text": [
      "Epoch 209 tst: l 0.853 a 0.735 clct[np.int64(20), np.int64(20)] clct_ans[np.int64(20), np.int64(20)] cl_acc1.000  3.259sec\n"
     ]
    },
    {
     "name": "stdout",
     "output_type": "stream",
     "text": [
      "Epoch 210 tr: l 0.702 a 0.767 clct[np.int64(79), np.int64(81)] clct_ans[np.int64(79), np.int64(81)] cl_acc1.000  lr 0.225075 72.290sec(train) 34.695sec(infer)\n"
     ]
    },
    {
     "name": "stdout",
     "output_type": "stream",
     "text": [
      "Epoch 210 tst: l 0.864 a 0.734 clct[np.int64(20), np.int64(20)] clct_ans[np.int64(20), np.int64(20)] cl_acc1.000  3.262sec\n",
      "result written at output_dfca_gi/results.pickle\n",
      "checkpoint written at output_dfca_gi/checkpoint.pt\n"
     ]
    },
    {
     "name": "stdout",
     "output_type": "stream",
     "text": [
      "Epoch 211 tr: l 0.700 a 0.764 clct[np.int64(82), np.int64(78)] clct_ans[np.int64(82), np.int64(78)] cl_acc1.000  lr 0.224963 73.376sec(train) 34.900sec(infer)\n"
     ]
    },
    {
     "name": "stdout",
     "output_type": "stream",
     "text": [
      "Epoch 211 tst: l 0.850 a 0.736 clct[np.int64(20), np.int64(20)] clct_ans[np.int64(20), np.int64(20)] cl_acc1.000  3.293sec\n"
     ]
    },
    {
     "name": "stdout",
     "output_type": "stream",
     "text": [
      "Epoch 212 tr: l 0.705 a 0.764 clct[np.int64(81), np.int64(79)] clct_ans[np.int64(81), np.int64(79)] cl_acc1.000  lr 0.224850 72.185sec(train) 34.719sec(infer)\n"
     ]
    },
    {
     "name": "stdout",
     "output_type": "stream",
     "text": [
      "Epoch 212 tst: l 0.857 a 0.735 clct[np.int64(20), np.int64(20)] clct_ans[np.int64(20), np.int64(20)] cl_acc1.000  3.340sec\n"
     ]
    },
    {
     "name": "stdout",
     "output_type": "stream",
     "text": [
      "Epoch 213 tr: l 0.710 a 0.765 clct[np.int64(80), np.int64(80)] clct_ans[np.int64(80), np.int64(80)] cl_acc1.000  lr 0.224738 72.021sec(train) 34.994sec(infer)\n"
     ]
    },
    {
     "name": "stdout",
     "output_type": "stream",
     "text": [
      "Epoch 213 tst: l 0.845 a 0.738 clct[np.int64(20), np.int64(20)] clct_ans[np.int64(20), np.int64(20)] cl_acc1.000  3.335sec\n"
     ]
    },
    {
     "name": "stdout",
     "output_type": "stream",
     "text": [
      "Epoch 214 tr: l 0.690 a 0.771 clct[np.int64(83), np.int64(77)] clct_ans[np.int64(83), np.int64(77)] cl_acc1.000  lr 0.224625 72.269sec(train) 34.819sec(infer)\n"
     ]
    },
    {
     "name": "stdout",
     "output_type": "stream",
     "text": [
      "Epoch 214 tst: l 0.854 a 0.736 clct[np.int64(20), np.int64(20)] clct_ans[np.int64(20), np.int64(20)] cl_acc1.000  3.303sec\n"
     ]
    },
    {
     "name": "stdout",
     "output_type": "stream",
     "text": [
      "Epoch 215 tr: l 0.686 a 0.773 clct[np.int64(84), np.int64(76)] clct_ans[np.int64(84), np.int64(76)] cl_acc1.000  lr 0.224513 70.548sec(train) 34.896sec(infer)\n"
     ]
    },
    {
     "name": "stdout",
     "output_type": "stream",
     "text": [
      "Epoch 215 tst: l 0.868 a 0.734 clct[np.int64(20), np.int64(20)] clct_ans[np.int64(20), np.int64(20)] cl_acc1.000  3.292sec\n"
     ]
    },
    {
     "name": "stdout",
     "output_type": "stream",
     "text": [
      "Epoch 216 tr: l 0.697 a 0.768 clct[np.int64(83), np.int64(77)] clct_ans[np.int64(83), np.int64(77)] cl_acc1.000  lr 0.224401 70.383sec(train) 35.013sec(infer)\n"
     ]
    },
    {
     "name": "stdout",
     "output_type": "stream",
     "text": [
      "Epoch 216 tst: l 0.860 a 0.737 clct[np.int64(20), np.int64(20)] clct_ans[np.int64(20), np.int64(20)] cl_acc1.000  3.311sec\n"
     ]
    },
    {
     "name": "stdout",
     "output_type": "stream",
     "text": [
      "Epoch 217 tr: l 0.678 a 0.774 clct[np.int64(76), np.int64(84)] clct_ans[np.int64(76), np.int64(84)] cl_acc1.000  lr 0.224289 70.403sec(train) 35.125sec(infer)\n"
     ]
    },
    {
     "name": "stdout",
     "output_type": "stream",
     "text": [
      "Epoch 217 tst: l 0.869 a 0.732 clct[np.int64(20), np.int64(20)] clct_ans[np.int64(20), np.int64(20)] cl_acc1.000  3.421sec\n"
     ]
    },
    {
     "name": "stdout",
     "output_type": "stream",
     "text": [
      "Epoch 218 tr: l 0.698 a 0.768 clct[np.int64(84), np.int64(76)] clct_ans[np.int64(84), np.int64(76)] cl_acc1.000  lr 0.224176 72.670sec(train) 34.872sec(infer)\n"
     ]
    },
    {
     "name": "stdout",
     "output_type": "stream",
     "text": [
      "Epoch 218 tst: l 0.857 a 0.735 clct[np.int64(20), np.int64(20)] clct_ans[np.int64(20), np.int64(20)] cl_acc1.000  3.292sec\n"
     ]
    },
    {
     "name": "stdout",
     "output_type": "stream",
     "text": [
      "Epoch 219 tr: l 0.692 a 0.770 clct[np.int64(80), np.int64(80)] clct_ans[np.int64(80), np.int64(80)] cl_acc1.000  lr 0.224064 71.261sec(train) 34.699sec(infer)\n"
     ]
    },
    {
     "name": "stdout",
     "output_type": "stream",
     "text": [
      "Epoch 219 tst: l 0.843 a 0.737 clct[np.int64(20), np.int64(20)] clct_ans[np.int64(20), np.int64(20)] cl_acc1.000  3.510sec\n"
     ]
    },
    {
     "name": "stdout",
     "output_type": "stream",
     "text": [
      "Epoch 220 tr: l 0.691 a 0.769 clct[np.int64(82), np.int64(78)] clct_ans[np.int64(82), np.int64(78)] cl_acc1.000  lr 0.223952 71.243sec(train) 34.748sec(infer)\n"
     ]
    },
    {
     "name": "stdout",
     "output_type": "stream",
     "text": [
      "Epoch 220 tst: l 0.840 a 0.740 clct[np.int64(20), np.int64(20)] clct_ans[np.int64(20), np.int64(20)] cl_acc1.000  3.290sec\n",
      "result written at output_dfca_gi/results.pickle\n",
      "checkpoint written at output_dfca_gi/checkpoint.pt\n"
     ]
    },
    {
     "name": "stdout",
     "output_type": "stream",
     "text": [
      "Epoch 221 tr: l 0.697 a 0.768 clct[np.int64(80), np.int64(80)] clct_ans[np.int64(80), np.int64(80)] cl_acc1.000  lr 0.223840 72.706sec(train) 34.826sec(infer)\n"
     ]
    },
    {
     "name": "stdout",
     "output_type": "stream",
     "text": [
      "Epoch 221 tst: l 0.838 a 0.737 clct[np.int64(20), np.int64(20)] clct_ans[np.int64(20), np.int64(20)] cl_acc1.000  3.303sec\n"
     ]
    },
    {
     "name": "stdout",
     "output_type": "stream",
     "text": [
      "Epoch 222 tr: l 0.681 a 0.775 clct[np.int64(80), np.int64(80)] clct_ans[np.int64(80), np.int64(80)] cl_acc1.000  lr 0.223728 73.991sec(train) 34.678sec(infer)\n"
     ]
    },
    {
     "name": "stdout",
     "output_type": "stream",
     "text": [
      "Epoch 222 tst: l 0.856 a 0.737 clct[np.int64(20), np.int64(20)] clct_ans[np.int64(20), np.int64(20)] cl_acc1.000  3.290sec\n"
     ]
    },
    {
     "name": "stdout",
     "output_type": "stream",
     "text": [
      "Epoch 223 tr: l 0.698 a 0.768 clct[np.int64(80), np.int64(80)] clct_ans[np.int64(80), np.int64(80)] cl_acc1.000  lr 0.223617 72.348sec(train) 34.756sec(infer)\n"
     ]
    },
    {
     "name": "stdout",
     "output_type": "stream",
     "text": [
      "Epoch 223 tst: l 0.845 a 0.739 clct[np.int64(20), np.int64(20)] clct_ans[np.int64(20), np.int64(20)] cl_acc1.000  3.395sec\n"
     ]
    },
    {
     "name": "stdout",
     "output_type": "stream",
     "text": [
      "Epoch 224 tr: l 0.687 a 0.771 clct[np.int64(77), np.int64(83)] clct_ans[np.int64(77), np.int64(83)] cl_acc1.000  lr 0.223505 72.851sec(train) 34.664sec(infer)\n"
     ]
    },
    {
     "name": "stdout",
     "output_type": "stream",
     "text": [
      "Epoch 224 tst: l 0.841 a 0.738 clct[np.int64(20), np.int64(20)] clct_ans[np.int64(20), np.int64(20)] cl_acc1.000  3.316sec\n"
     ]
    },
    {
     "name": "stdout",
     "output_type": "stream",
     "text": [
      "Epoch 225 tr: l 0.683 a 0.772 clct[np.int64(79), np.int64(81)] clct_ans[np.int64(79), np.int64(81)] cl_acc1.000  lr 0.223393 71.598sec(train) 34.768sec(infer)\n"
     ]
    },
    {
     "name": "stdout",
     "output_type": "stream",
     "text": [
      "Epoch 225 tst: l 0.845 a 0.738 clct[np.int64(20), np.int64(20)] clct_ans[np.int64(20), np.int64(20)] cl_acc1.000  3.240sec\n"
     ]
    },
    {
     "name": "stdout",
     "output_type": "stream",
     "text": [
      "Epoch 226 tr: l 0.677 a 0.774 clct[np.int64(77), np.int64(83)] clct_ans[np.int64(77), np.int64(83)] cl_acc1.000  lr 0.223281 72.350sec(train) 34.700sec(infer)\n"
     ]
    },
    {
     "name": "stdout",
     "output_type": "stream",
     "text": [
      "Epoch 226 tst: l 0.863 a 0.737 clct[np.int64(20), np.int64(20)] clct_ans[np.int64(20), np.int64(20)] cl_acc1.000  3.273sec\n"
     ]
    },
    {
     "name": "stdout",
     "output_type": "stream",
     "text": [
      "Epoch 227 tr: l 0.684 a 0.773 clct[np.int64(78), np.int64(82)] clct_ans[np.int64(78), np.int64(82)] cl_acc1.000  lr 0.223170 75.357sec(train) 34.745sec(infer)\n"
     ]
    },
    {
     "name": "stdout",
     "output_type": "stream",
     "text": [
      "Epoch 227 tst: l 0.851 a 0.739 clct[np.int64(20), np.int64(20)] clct_ans[np.int64(20), np.int64(20)] cl_acc1.000  3.279sec\n"
     ]
    },
    {
     "name": "stdout",
     "output_type": "stream",
     "text": [
      "Epoch 228 tr: l 0.679 a 0.776 clct[np.int64(75), np.int64(85)] clct_ans[np.int64(75), np.int64(85)] cl_acc1.000  lr 0.223058 73.736sec(train) 34.970sec(infer)\n"
     ]
    },
    {
     "name": "stdout",
     "output_type": "stream",
     "text": [
      "Epoch 228 tst: l 0.858 a 0.737 clct[np.int64(20), np.int64(20)] clct_ans[np.int64(20), np.int64(20)] cl_acc1.000  3.278sec\n"
     ]
    },
    {
     "name": "stdout",
     "output_type": "stream",
     "text": [
      "Epoch 229 tr: l 0.681 a 0.775 clct[np.int64(81), np.int64(79)] clct_ans[np.int64(81), np.int64(79)] cl_acc1.000  lr 0.222947 71.793sec(train) 34.852sec(infer)\n"
     ]
    },
    {
     "name": "stdout",
     "output_type": "stream",
     "text": [
      "Epoch 229 tst: l 0.851 a 0.739 clct[np.int64(20), np.int64(20)] clct_ans[np.int64(20), np.int64(20)] cl_acc1.000  3.270sec\n"
     ]
    },
    {
     "name": "stdout",
     "output_type": "stream",
     "text": [
      "Epoch 230 tr: l 0.673 a 0.777 clct[np.int64(77), np.int64(83)] clct_ans[np.int64(77), np.int64(83)] cl_acc1.000  lr 0.222835 72.964sec(train) 34.852sec(infer)\n"
     ]
    },
    {
     "name": "stdout",
     "output_type": "stream",
     "text": [
      "Epoch 230 tst: l 0.851 a 0.738 clct[np.int64(20), np.int64(20)] clct_ans[np.int64(20), np.int64(20)] cl_acc1.000  3.258sec\n",
      "result written at output_dfca_gi/results.pickle\n",
      "checkpoint written at output_dfca_gi/checkpoint.pt\n"
     ]
    },
    {
     "name": "stdout",
     "output_type": "stream",
     "text": [
      "Epoch 231 tr: l 0.664 a 0.779 clct[np.int64(83), np.int64(77)] clct_ans[np.int64(83), np.int64(77)] cl_acc1.000  lr 0.222724 70.757sec(train) 34.859sec(infer)\n"
     ]
    },
    {
     "name": "stdout",
     "output_type": "stream",
     "text": [
      "Epoch 231 tst: l 0.842 a 0.740 clct[np.int64(20), np.int64(20)] clct_ans[np.int64(20), np.int64(20)] cl_acc1.000  3.286sec\n"
     ]
    },
    {
     "name": "stdout",
     "output_type": "stream",
     "text": [
      "Epoch 232 tr: l 0.672 a 0.778 clct[np.int64(76), np.int64(84)] clct_ans[np.int64(76), np.int64(84)] cl_acc1.000  lr 0.222612 73.048sec(train) 35.069sec(infer)\n"
     ]
    },
    {
     "name": "stdout",
     "output_type": "stream",
     "text": [
      "Epoch 232 tst: l 0.835 a 0.741 clct[np.int64(20), np.int64(20)] clct_ans[np.int64(20), np.int64(20)] cl_acc1.000  3.346sec\n"
     ]
    },
    {
     "name": "stdout",
     "output_type": "stream",
     "text": [
      "Epoch 233 tr: l 0.675 a 0.776 clct[np.int64(79), np.int64(81)] clct_ans[np.int64(79), np.int64(81)] cl_acc1.000  lr 0.222501 70.589sec(train) 34.815sec(infer)\n"
     ]
    },
    {
     "name": "stdout",
     "output_type": "stream",
     "text": [
      "Epoch 233 tst: l 0.835 a 0.742 clct[np.int64(20), np.int64(20)] clct_ans[np.int64(20), np.int64(20)] cl_acc1.000  3.345sec\n"
     ]
    },
    {
     "name": "stdout",
     "output_type": "stream",
     "text": [
      "Epoch 234 tr: l 0.676 a 0.775 clct[np.int64(82), np.int64(78)] clct_ans[np.int64(82), np.int64(78)] cl_acc1.000  lr 0.222390 71.888sec(train) 35.018sec(infer)\n"
     ]
    },
    {
     "name": "stdout",
     "output_type": "stream",
     "text": [
      "Epoch 234 tst: l 0.835 a 0.744 clct[np.int64(20), np.int64(20)] clct_ans[np.int64(20), np.int64(20)] cl_acc1.000  3.311sec\n"
     ]
    },
    {
     "name": "stdout",
     "output_type": "stream",
     "text": [
      "Epoch 235 tr: l 0.664 a 0.778 clct[np.int64(83), np.int64(77)] clct_ans[np.int64(83), np.int64(77)] cl_acc1.000  lr 0.222279 72.180sec(train) 34.980sec(infer)\n"
     ]
    },
    {
     "name": "stdout",
     "output_type": "stream",
     "text": [
      "Epoch 235 tst: l 0.841 a 0.741 clct[np.int64(20), np.int64(20)] clct_ans[np.int64(20), np.int64(20)] cl_acc1.000  3.295sec\n"
     ]
    },
    {
     "name": "stdout",
     "output_type": "stream",
     "text": [
      "Epoch 236 tr: l 0.681 a 0.774 clct[np.int64(79), np.int64(81)] clct_ans[np.int64(79), np.int64(81)] cl_acc1.000  lr 0.222167 69.078sec(train) 34.787sec(infer)\n"
     ]
    },
    {
     "name": "stdout",
     "output_type": "stream",
     "text": [
      "Epoch 236 tst: l 0.840 a 0.741 clct[np.int64(20), np.int64(20)] clct_ans[np.int64(20), np.int64(20)] cl_acc1.000  3.302sec\n"
     ]
    },
    {
     "name": "stdout",
     "output_type": "stream",
     "text": [
      "Epoch 237 tr: l 0.671 a 0.777 clct[np.int64(82), np.int64(78)] clct_ans[np.int64(82), np.int64(78)] cl_acc1.000  lr 0.222056 73.263sec(train) 35.084sec(infer)\n"
     ]
    },
    {
     "name": "stdout",
     "output_type": "stream",
     "text": [
      "Epoch 237 tst: l 0.834 a 0.743 clct[np.int64(20), np.int64(20)] clct_ans[np.int64(20), np.int64(20)] cl_acc1.000  3.394sec\n"
     ]
    },
    {
     "name": "stdout",
     "output_type": "stream",
     "text": [
      "Epoch 238 tr: l 0.674 a 0.777 clct[np.int64(79), np.int64(81)] clct_ans[np.int64(79), np.int64(81)] cl_acc1.000  lr 0.221945 71.175sec(train) 35.201sec(infer)\n"
     ]
    },
    {
     "name": "stdout",
     "output_type": "stream",
     "text": [
      "Epoch 238 tst: l 0.846 a 0.740 clct[np.int64(20), np.int64(20)] clct_ans[np.int64(20), np.int64(20)] cl_acc1.000  3.290sec\n"
     ]
    },
    {
     "name": "stdout",
     "output_type": "stream",
     "text": [
      "Epoch 239 tr: l 0.672 a 0.777 clct[np.int64(78), np.int64(82)] clct_ans[np.int64(78), np.int64(82)] cl_acc1.000  lr 0.221834 72.668sec(train) 34.652sec(infer)\n"
     ]
    },
    {
     "name": "stdout",
     "output_type": "stream",
     "text": [
      "Epoch 239 tst: l 0.836 a 0.742 clct[np.int64(20), np.int64(20)] clct_ans[np.int64(20), np.int64(20)] cl_acc1.000  3.370sec\n"
     ]
    },
    {
     "name": "stdout",
     "output_type": "stream",
     "text": [
      "Epoch 240 tr: l 0.659 a 0.782 clct[np.int64(78), np.int64(82)] clct_ans[np.int64(78), np.int64(82)] cl_acc1.000  lr 0.221723 71.079sec(train) 35.172sec(infer)\n"
     ]
    },
    {
     "name": "stdout",
     "output_type": "stream",
     "text": [
      "Epoch 240 tst: l 0.837 a 0.744 clct[np.int64(20), np.int64(20)] clct_ans[np.int64(20), np.int64(20)] cl_acc1.000  3.281sec\n",
      "result written at output_dfca_gi/results.pickle\n",
      "checkpoint written at output_dfca_gi/checkpoint.pt\n"
     ]
    },
    {
     "name": "stdout",
     "output_type": "stream",
     "text": [
      "Epoch 241 tr: l 0.656 a 0.783 clct[np.int64(77), np.int64(83)] clct_ans[np.int64(77), np.int64(83)] cl_acc1.000  lr 0.221613 72.616sec(train) 34.866sec(infer)\n"
     ]
    },
    {
     "name": "stdout",
     "output_type": "stream",
     "text": [
      "Epoch 241 tst: l 0.855 a 0.739 clct[np.int64(20), np.int64(20)] clct_ans[np.int64(20), np.int64(20)] cl_acc1.000  3.300sec\n"
     ]
    },
    {
     "name": "stdout",
     "output_type": "stream",
     "text": [
      "Epoch 242 tr: l 0.667 a 0.779 clct[np.int64(81), np.int64(79)] clct_ans[np.int64(81), np.int64(79)] cl_acc1.000  lr 0.221502 71.755sec(train) 34.901sec(infer)\n"
     ]
    },
    {
     "name": "stdout",
     "output_type": "stream",
     "text": [
      "Epoch 242 tst: l 0.834 a 0.743 clct[np.int64(20), np.int64(20)] clct_ans[np.int64(20), np.int64(20)] cl_acc1.000  3.289sec\n"
     ]
    },
    {
     "name": "stdout",
     "output_type": "stream",
     "text": [
      "Epoch 243 tr: l 0.667 a 0.777 clct[np.int64(81), np.int64(79)] clct_ans[np.int64(81), np.int64(79)] cl_acc1.000  lr 0.221391 73.313sec(train) 34.652sec(infer)\n"
     ]
    },
    {
     "name": "stdout",
     "output_type": "stream",
     "text": [
      "Epoch 243 tst: l 0.834 a 0.742 clct[np.int64(20), np.int64(20)] clct_ans[np.int64(20), np.int64(20)] cl_acc1.000  3.281sec\n"
     ]
    },
    {
     "name": "stdout",
     "output_type": "stream",
     "text": [
      "Epoch 244 tr: l 0.669 a 0.777 clct[np.int64(79), np.int64(81)] clct_ans[np.int64(79), np.int64(81)] cl_acc1.000  lr 0.221280 71.607sec(train) 34.855sec(infer)\n"
     ]
    },
    {
     "name": "stdout",
     "output_type": "stream",
     "text": [
      "Epoch 244 tst: l 0.826 a 0.744 clct[np.int64(20), np.int64(20)] clct_ans[np.int64(20), np.int64(20)] cl_acc1.000  3.396sec\n"
     ]
    },
    {
     "name": "stdout",
     "output_type": "stream",
     "text": [
      "Epoch 245 tr: l 0.662 a 0.779 clct[np.int64(82), np.int64(78)] clct_ans[np.int64(82), np.int64(78)] cl_acc1.000  lr 0.221170 71.499sec(train) 34.578sec(infer)\n"
     ]
    },
    {
     "name": "stdout",
     "output_type": "stream",
     "text": [
      "Epoch 245 tst: l 0.828 a 0.745 clct[np.int64(20), np.int64(20)] clct_ans[np.int64(20), np.int64(20)] cl_acc1.000  3.268sec\n"
     ]
    },
    {
     "name": "stdout",
     "output_type": "stream",
     "text": [
      "Epoch 246 tr: l 0.661 a 0.780 clct[np.int64(86), np.int64(74)] clct_ans[np.int64(86), np.int64(74)] cl_acc1.000  lr 0.221059 72.894sec(train) 34.718sec(infer)\n"
     ]
    },
    {
     "name": "stdout",
     "output_type": "stream",
     "text": [
      "Epoch 246 tst: l 0.817 a 0.748 clct[np.int64(20), np.int64(20)] clct_ans[np.int64(20), np.int64(20)] cl_acc1.000  3.251sec\n"
     ]
    },
    {
     "name": "stdout",
     "output_type": "stream",
     "text": [
      "Epoch 247 tr: l 0.666 a 0.779 clct[np.int64(81), np.int64(79)] clct_ans[np.int64(81), np.int64(79)] cl_acc1.000  lr 0.220949 73.344sec(train) 34.723sec(infer)\n"
     ]
    },
    {
     "name": "stdout",
     "output_type": "stream",
     "text": [
      "Epoch 247 tst: l 0.819 a 0.747 clct[np.int64(20), np.int64(20)] clct_ans[np.int64(20), np.int64(20)] cl_acc1.000  3.270sec\n"
     ]
    },
    {
     "name": "stdout",
     "output_type": "stream",
     "text": [
      "Epoch 248 tr: l 0.675 a 0.776 clct[np.int64(76), np.int64(84)] clct_ans[np.int64(76), np.int64(84)] cl_acc1.000  lr 0.220838 70.743sec(train) 34.810sec(infer)\n"
     ]
    },
    {
     "name": "stdout",
     "output_type": "stream",
     "text": [
      "Epoch 248 tst: l 0.833 a 0.744 clct[np.int64(20), np.int64(20)] clct_ans[np.int64(20), np.int64(20)] cl_acc1.000  3.274sec\n"
     ]
    },
    {
     "name": "stdout",
     "output_type": "stream",
     "text": [
      "Epoch 249 tr: l 0.657 a 0.781 clct[np.int64(80), np.int64(80)] clct_ans[np.int64(80), np.int64(80)] cl_acc1.000  lr 0.220728 73.293sec(train) 34.864sec(infer)\n"
     ]
    },
    {
     "name": "stdout",
     "output_type": "stream",
     "text": [
      "Epoch 249 tst: l 0.833 a 0.745 clct[np.int64(20), np.int64(20)] clct_ans[np.int64(20), np.int64(20)] cl_acc1.000  3.260sec\n"
     ]
    },
    {
     "name": "stdout",
     "output_type": "stream",
     "text": [
      "Epoch 250 tr: l 0.651 a 0.783 clct[np.int64(87), np.int64(73)] clct_ans[np.int64(87), np.int64(73)] cl_acc1.000  lr 0.220617 72.558sec(train) 34.936sec(infer)\n"
     ]
    },
    {
     "name": "stdout",
     "output_type": "stream",
     "text": [
      "Epoch 250 tst: l 0.833 a 0.745 clct[np.int64(20), np.int64(20)] clct_ans[np.int64(20), np.int64(20)] cl_acc1.000  3.316sec\n",
      "result written at output_dfca_gi/results.pickle\n",
      "checkpoint written at output_dfca_gi/checkpoint.pt\n"
     ]
    },
    {
     "name": "stdout",
     "output_type": "stream",
     "text": [
      "Epoch 251 tr: l 0.661 a 0.779 clct[np.int64(87), np.int64(73)] clct_ans[np.int64(87), np.int64(73)] cl_acc1.000  lr 0.220507 73.883sec(train) 35.027sec(infer)\n"
     ]
    },
    {
     "name": "stdout",
     "output_type": "stream",
     "text": [
      "Epoch 251 tst: l 0.827 a 0.745 clct[np.int64(20), np.int64(20)] clct_ans[np.int64(20), np.int64(20)] cl_acc1.000  3.323sec\n"
     ]
    },
    {
     "name": "stdout",
     "output_type": "stream",
     "text": [
      "Epoch 252 tr: l 0.650 a 0.783 clct[np.int64(76), np.int64(84)] clct_ans[np.int64(76), np.int64(84)] cl_acc1.000  lr 0.220397 72.777sec(train) 34.885sec(infer)\n"
     ]
    },
    {
     "name": "stdout",
     "output_type": "stream",
     "text": [
      "Epoch 252 tst: l 0.826 a 0.746 clct[np.int64(20), np.int64(20)] clct_ans[np.int64(20), np.int64(20)] cl_acc1.000  3.354sec\n"
     ]
    },
    {
     "name": "stdout",
     "output_type": "stream",
     "text": [
      "Epoch 253 tr: l 0.663 a 0.781 clct[np.int64(82), np.int64(78)] clct_ans[np.int64(82), np.int64(78)] cl_acc1.000  lr 0.220287 73.381sec(train) 35.426sec(infer)\n"
     ]
    },
    {
     "name": "stdout",
     "output_type": "stream",
     "text": [
      "Epoch 253 tst: l 0.821 a 0.747 clct[np.int64(20), np.int64(20)] clct_ans[np.int64(20), np.int64(20)] cl_acc1.000  3.320sec\n"
     ]
    },
    {
     "name": "stdout",
     "output_type": "stream",
     "text": [
      "Epoch 254 tr: l 0.666 a 0.779 clct[np.int64(79), np.int64(81)] clct_ans[np.int64(79), np.int64(81)] cl_acc1.000  lr 0.220176 73.431sec(train) 35.045sec(infer)\n"
     ]
    },
    {
     "name": "stdout",
     "output_type": "stream",
     "text": [
      "Epoch 254 tst: l 0.826 a 0.746 clct[np.int64(20), np.int64(20)] clct_ans[np.int64(20), np.int64(20)] cl_acc1.000  3.320sec\n"
     ]
    },
    {
     "name": "stdout",
     "output_type": "stream",
     "text": [
      "Epoch 255 tr: l 0.657 a 0.781 clct[np.int64(75), np.int64(85)] clct_ans[np.int64(75), np.int64(85)] cl_acc1.000  lr 0.220066 71.954sec(train) 34.801sec(infer)\n"
     ]
    },
    {
     "name": "stdout",
     "output_type": "stream",
     "text": [
      "Epoch 255 tst: l 0.829 a 0.745 clct[np.int64(20), np.int64(20)] clct_ans[np.int64(20), np.int64(20)] cl_acc1.000  3.307sec\n"
     ]
    },
    {
     "name": "stdout",
     "output_type": "stream",
     "text": [
      "Epoch 256 tr: l 0.642 a 0.786 clct[np.int64(77), np.int64(83)] clct_ans[np.int64(77), np.int64(83)] cl_acc1.000  lr 0.219956 71.419sec(train) 34.618sec(infer)\n"
     ]
    },
    {
     "name": "stdout",
     "output_type": "stream",
     "text": [
      "Epoch 256 tst: l 0.830 a 0.748 clct[np.int64(20), np.int64(20)] clct_ans[np.int64(20), np.int64(20)] cl_acc1.000  3.278sec\n"
     ]
    },
    {
     "name": "stdout",
     "output_type": "stream",
     "text": [
      "Epoch 257 tr: l 0.661 a 0.780 clct[np.int64(82), np.int64(78)] clct_ans[np.int64(82), np.int64(78)] cl_acc1.000  lr 0.219846 72.314sec(train) 34.731sec(infer)\n"
     ]
    },
    {
     "name": "stdout",
     "output_type": "stream",
     "text": [
      "Epoch 257 tst: l 0.831 a 0.747 clct[np.int64(20), np.int64(20)] clct_ans[np.int64(20), np.int64(20)] cl_acc1.000  3.340sec\n"
     ]
    },
    {
     "name": "stdout",
     "output_type": "stream",
     "text": [
      "Epoch 258 tr: l 0.642 a 0.786 clct[np.int64(84), np.int64(76)] clct_ans[np.int64(84), np.int64(76)] cl_acc1.000  lr 0.219736 75.036sec(train) 34.957sec(infer)\n"
     ]
    },
    {
     "name": "stdout",
     "output_type": "stream",
     "text": [
      "Epoch 258 tst: l 0.835 a 0.746 clct[np.int64(20), np.int64(20)] clct_ans[np.int64(20), np.int64(20)] cl_acc1.000  3.324sec\n"
     ]
    },
    {
     "name": "stdout",
     "output_type": "stream",
     "text": [
      "Epoch 259 tr: l 0.641 a 0.786 clct[np.int64(80), np.int64(80)] clct_ans[np.int64(80), np.int64(80)] cl_acc1.000  lr 0.219627 73.053sec(train) 34.694sec(infer)\n"
     ]
    },
    {
     "name": "stdout",
     "output_type": "stream",
     "text": [
      "Epoch 259 tst: l 0.823 a 0.747 clct[np.int64(20), np.int64(20)] clct_ans[np.int64(20), np.int64(20)] cl_acc1.000  3.286sec\n"
     ]
    },
    {
     "name": "stdout",
     "output_type": "stream",
     "text": [
      "Epoch 260 tr: l 0.641 a 0.786 clct[np.int64(82), np.int64(78)] clct_ans[np.int64(82), np.int64(78)] cl_acc1.000  lr 0.219517 72.070sec(train) 34.831sec(infer)\n"
     ]
    },
    {
     "name": "stdout",
     "output_type": "stream",
     "text": [
      "Epoch 260 tst: l 0.828 a 0.746 clct[np.int64(20), np.int64(20)] clct_ans[np.int64(20), np.int64(20)] cl_acc1.000  3.288sec\n",
      "result written at output_dfca_gi/results.pickle\n",
      "checkpoint written at output_dfca_gi/checkpoint.pt\n"
     ]
    },
    {
     "name": "stdout",
     "output_type": "stream",
     "text": [
      "Epoch 261 tr: l 0.652 a 0.784 clct[np.int64(84), np.int64(76)] clct_ans[np.int64(84), np.int64(76)] cl_acc1.000  lr 0.219407 74.559sec(train) 34.900sec(infer)\n"
     ]
    },
    {
     "name": "stdout",
     "output_type": "stream",
     "text": [
      "Epoch 261 tst: l 0.826 a 0.746 clct[np.int64(20), np.int64(20)] clct_ans[np.int64(20), np.int64(20)] cl_acc1.000  3.290sec\n"
     ]
    },
    {
     "name": "stdout",
     "output_type": "stream",
     "text": [
      "Epoch 262 tr: l 0.643 a 0.786 clct[np.int64(77), np.int64(83)] clct_ans[np.int64(77), np.int64(83)] cl_acc1.000  lr 0.219297 72.618sec(train) 35.129sec(infer)\n"
     ]
    },
    {
     "name": "stdout",
     "output_type": "stream",
     "text": [
      "Epoch 262 tst: l 0.822 a 0.747 clct[np.int64(20), np.int64(20)] clct_ans[np.int64(20), np.int64(20)] cl_acc1.000  3.286sec\n"
     ]
    },
    {
     "name": "stdout",
     "output_type": "stream",
     "text": [
      "Epoch 263 tr: l 0.632 a 0.790 clct[np.int64(80), np.int64(80)] clct_ans[np.int64(80), np.int64(80)] cl_acc1.000  lr 0.219188 71.828sec(train) 34.923sec(infer)\n"
     ]
    },
    {
     "name": "stdout",
     "output_type": "stream",
     "text": [
      "Epoch 263 tst: l 0.841 a 0.744 clct[np.int64(20), np.int64(20)] clct_ans[np.int64(20), np.int64(20)] cl_acc1.000  3.288sec\n"
     ]
    },
    {
     "name": "stdout",
     "output_type": "stream",
     "text": [
      "Epoch 264 tr: l 0.642 a 0.785 clct[np.int64(81), np.int64(79)] clct_ans[np.int64(81), np.int64(79)] cl_acc1.000  lr 0.219078 73.344sec(train) 34.759sec(infer)\n"
     ]
    },
    {
     "name": "stdout",
     "output_type": "stream",
     "text": [
      "Epoch 264 tst: l 0.813 a 0.747 clct[np.int64(20), np.int64(20)] clct_ans[np.int64(20), np.int64(20)] cl_acc1.000  3.269sec\n"
     ]
    },
    {
     "name": "stdout",
     "output_type": "stream",
     "text": [
      "Epoch 265 tr: l 0.645 a 0.784 clct[np.int64(81), np.int64(79)] clct_ans[np.int64(81), np.int64(79)] cl_acc1.000  lr 0.218968 71.936sec(train) 34.781sec(infer)\n"
     ]
    },
    {
     "name": "stdout",
     "output_type": "stream",
     "text": [
      "Epoch 265 tst: l 0.821 a 0.747 clct[np.int64(20), np.int64(20)] clct_ans[np.int64(20), np.int64(20)] cl_acc1.000  3.355sec\n"
     ]
    },
    {
     "name": "stdout",
     "output_type": "stream",
     "text": [
      "Epoch 266 tr: l 0.640 a 0.788 clct[np.int64(83), np.int64(77)] clct_ans[np.int64(83), np.int64(77)] cl_acc1.000  lr 0.218859 72.714sec(train) 34.693sec(infer)\n"
     ]
    },
    {
     "name": "stdout",
     "output_type": "stream",
     "text": [
      "Epoch 266 tst: l 0.824 a 0.745 clct[np.int64(20), np.int64(20)] clct_ans[np.int64(20), np.int64(20)] cl_acc1.000  3.269sec\n"
     ]
    },
    {
     "name": "stdout",
     "output_type": "stream",
     "text": [
      "Epoch 267 tr: l 0.642 a 0.786 clct[np.int64(79), np.int64(81)] clct_ans[np.int64(79), np.int64(81)] cl_acc1.000  lr 0.218750 72.674sec(train) 35.047sec(infer)\n"
     ]
    },
    {
     "name": "stdout",
     "output_type": "stream",
     "text": [
      "Epoch 267 tst: l 0.824 a 0.746 clct[np.int64(20), np.int64(20)] clct_ans[np.int64(20), np.int64(20)] cl_acc1.000  3.293sec\n"
     ]
    },
    {
     "name": "stdout",
     "output_type": "stream",
     "text": [
      "Epoch 268 tr: l 0.629 a 0.790 clct[np.int64(84), np.int64(76)] clct_ans[np.int64(84), np.int64(76)] cl_acc1.000  lr 0.218640 72.488sec(train) 35.010sec(infer)\n"
     ]
    },
    {
     "name": "stdout",
     "output_type": "stream",
     "text": [
      "Epoch 268 tst: l 0.818 a 0.747 clct[np.int64(20), np.int64(20)] clct_ans[np.int64(20), np.int64(20)] cl_acc1.000  3.274sec\n"
     ]
    },
    {
     "name": "stdout",
     "output_type": "stream",
     "text": [
      "Epoch 269 tr: l 0.638 a 0.790 clct[np.int64(81), np.int64(79)] clct_ans[np.int64(81), np.int64(79)] cl_acc1.000  lr 0.218531 74.235sec(train) 35.056sec(infer)\n"
     ]
    },
    {
     "name": "stdout",
     "output_type": "stream",
     "text": [
      "Epoch 269 tst: l 0.815 a 0.748 clct[np.int64(20), np.int64(20)] clct_ans[np.int64(20), np.int64(20)] cl_acc1.000  3.265sec\n"
     ]
    },
    {
     "name": "stdout",
     "output_type": "stream",
     "text": [
      "Epoch 270 tr: l 0.638 a 0.788 clct[np.int64(76), np.int64(84)] clct_ans[np.int64(76), np.int64(84)] cl_acc1.000  lr 0.218422 73.034sec(train) 35.034sec(infer)\n"
     ]
    },
    {
     "name": "stdout",
     "output_type": "stream",
     "text": [
      "Epoch 270 tst: l 0.827 a 0.748 clct[np.int64(20), np.int64(20)] clct_ans[np.int64(20), np.int64(20)] cl_acc1.000  3.347sec\n",
      "result written at output_dfca_gi/results.pickle\n",
      "checkpoint written at output_dfca_gi/checkpoint.pt\n"
     ]
    },
    {
     "name": "stdout",
     "output_type": "stream",
     "text": [
      "Epoch 271 tr: l 0.633 a 0.791 clct[np.int64(80), np.int64(80)] clct_ans[np.int64(80), np.int64(80)] cl_acc1.000  lr 0.218312 71.742sec(train) 34.877sec(infer)\n"
     ]
    },
    {
     "name": "stdout",
     "output_type": "stream",
     "text": [
      "Epoch 271 tst: l 0.825 a 0.749 clct[np.int64(20), np.int64(20)] clct_ans[np.int64(20), np.int64(20)] cl_acc1.000  3.299sec\n"
     ]
    },
    {
     "name": "stdout",
     "output_type": "stream",
     "text": [
      "Epoch 272 tr: l 0.625 a 0.791 clct[np.int64(81), np.int64(79)] clct_ans[np.int64(81), np.int64(79)] cl_acc1.000  lr 0.218203 71.815sec(train) 34.740sec(infer)\n"
     ]
    },
    {
     "name": "stdout",
     "output_type": "stream",
     "text": [
      "Epoch 272 tst: l 0.831 a 0.746 clct[np.int64(20), np.int64(20)] clct_ans[np.int64(20), np.int64(20)] cl_acc1.000  3.391sec\n"
     ]
    },
    {
     "name": "stdout",
     "output_type": "stream",
     "text": [
      "Epoch 273 tr: l 0.626 a 0.792 clct[np.int64(85), np.int64(75)] clct_ans[np.int64(85), np.int64(75)] cl_acc1.000  lr 0.218094 72.905sec(train) 34.759sec(infer)\n"
     ]
    },
    {
     "name": "stdout",
     "output_type": "stream",
     "text": [
      "Epoch 273 tst: l 0.824 a 0.747 clct[np.int64(20), np.int64(20)] clct_ans[np.int64(20), np.int64(20)] cl_acc1.000  3.299sec\n"
     ]
    },
    {
     "name": "stdout",
     "output_type": "stream",
     "text": [
      "Epoch 274 tr: l 0.635 a 0.790 clct[np.int64(75), np.int64(85)] clct_ans[np.int64(75), np.int64(85)] cl_acc1.000  lr 0.217985 71.851sec(train) 35.063sec(infer)\n"
     ]
    },
    {
     "name": "stdout",
     "output_type": "stream",
     "text": [
      "Epoch 274 tst: l 0.816 a 0.749 clct[np.int64(20), np.int64(20)] clct_ans[np.int64(20), np.int64(20)] cl_acc1.000  3.424sec\n"
     ]
    },
    {
     "name": "stdout",
     "output_type": "stream",
     "text": [
      "Epoch 275 tr: l 0.640 a 0.787 clct[np.int64(84), np.int64(76)] clct_ans[np.int64(84), np.int64(76)] cl_acc1.000  lr 0.217876 72.668sec(train) 35.005sec(infer)\n"
     ]
    },
    {
     "name": "stdout",
     "output_type": "stream",
     "text": [
      "Epoch 275 tst: l 0.820 a 0.747 clct[np.int64(20), np.int64(20)] clct_ans[np.int64(20), np.int64(20)] cl_acc1.000  3.332sec\n"
     ]
    },
    {
     "name": "stdout",
     "output_type": "stream",
     "text": [
      "Epoch 276 tr: l 0.633 a 0.788 clct[np.int64(79), np.int64(81)] clct_ans[np.int64(79), np.int64(81)] cl_acc1.000  lr 0.217767 71.023sec(train) 34.794sec(infer)\n"
     ]
    },
    {
     "name": "stdout",
     "output_type": "stream",
     "text": [
      "Epoch 276 tst: l 0.820 a 0.750 clct[np.int64(20), np.int64(20)] clct_ans[np.int64(20), np.int64(20)] cl_acc1.000  3.311sec\n"
     ]
    },
    {
     "name": "stdout",
     "output_type": "stream",
     "text": [
      "Epoch 277 tr: l 0.632 a 0.790 clct[np.int64(81), np.int64(79)] clct_ans[np.int64(81), np.int64(79)] cl_acc1.000  lr 0.217658 74.503sec(train) 34.642sec(infer)\n"
     ]
    },
    {
     "name": "stdout",
     "output_type": "stream",
     "text": [
      "Epoch 277 tst: l 0.819 a 0.750 clct[np.int64(20), np.int64(20)] clct_ans[np.int64(20), np.int64(20)] cl_acc1.000  3.331sec\n"
     ]
    },
    {
     "name": "stdout",
     "output_type": "stream",
     "text": [
      "Epoch 278 tr: l 0.634 a 0.789 clct[np.int64(79), np.int64(81)] clct_ans[np.int64(79), np.int64(81)] cl_acc1.000  lr 0.217549 71.168sec(train) 34.770sec(infer)\n"
     ]
    },
    {
     "name": "stdout",
     "output_type": "stream",
     "text": [
      "Epoch 278 tst: l 0.815 a 0.751 clct[np.int64(20), np.int64(20)] clct_ans[np.int64(20), np.int64(20)] cl_acc1.000  3.352sec\n"
     ]
    },
    {
     "name": "stdout",
     "output_type": "stream",
     "text": [
      "Epoch 279 tr: l 0.632 a 0.790 clct[np.int64(79), np.int64(81)] clct_ans[np.int64(79), np.int64(81)] cl_acc1.000  lr 0.217441 73.135sec(train) 35.823sec(infer)\n"
     ]
    },
    {
     "name": "stdout",
     "output_type": "stream",
     "text": [
      "Epoch 279 tst: l 0.821 a 0.749 clct[np.int64(20), np.int64(20)] clct_ans[np.int64(20), np.int64(20)] cl_acc1.000  3.376sec\n"
     ]
    },
    {
     "name": "stdout",
     "output_type": "stream",
     "text": [
      "Epoch 280 tr: l 0.633 a 0.789 clct[np.int64(80), np.int64(80)] clct_ans[np.int64(80), np.int64(80)] cl_acc1.000  lr 0.217332 73.688sec(train) 35.122sec(infer)\n"
     ]
    },
    {
     "name": "stdout",
     "output_type": "stream",
     "text": [
      "Epoch 280 tst: l 0.820 a 0.749 clct[np.int64(20), np.int64(20)] clct_ans[np.int64(20), np.int64(20)] cl_acc1.000  3.312sec\n",
      "result written at output_dfca_gi/results.pickle\n",
      "checkpoint written at output_dfca_gi/checkpoint.pt\n"
     ]
    },
    {
     "name": "stdout",
     "output_type": "stream",
     "text": [
      "Epoch 281 tr: l 0.624 a 0.792 clct[np.int64(81), np.int64(79)] clct_ans[np.int64(81), np.int64(79)] cl_acc1.000  lr 0.217223 73.076sec(train) 35.061sec(infer)\n"
     ]
    },
    {
     "name": "stdout",
     "output_type": "stream",
     "text": [
      "Epoch 281 tst: l 0.813 a 0.750 clct[np.int64(20), np.int64(20)] clct_ans[np.int64(20), np.int64(20)] cl_acc1.000  3.396sec\n"
     ]
    },
    {
     "name": "stdout",
     "output_type": "stream",
     "text": [
      "Epoch 282 tr: l 0.616 a 0.795 clct[np.int64(82), np.int64(78)] clct_ans[np.int64(82), np.int64(78)] cl_acc1.000  lr 0.217115 74.405sec(train) 35.104sec(infer)\n"
     ]
    },
    {
     "name": "stdout",
     "output_type": "stream",
     "text": [
      "Epoch 282 tst: l 0.819 a 0.747 clct[np.int64(20), np.int64(20)] clct_ans[np.int64(20), np.int64(20)] cl_acc1.000  3.422sec\n"
     ]
    },
    {
     "name": "stdout",
     "output_type": "stream",
     "text": [
      "Epoch 283 tr: l 0.623 a 0.792 clct[np.int64(82), np.int64(78)] clct_ans[np.int64(82), np.int64(78)] cl_acc1.000  lr 0.217006 72.017sec(train) 35.174sec(infer)\n"
     ]
    },
    {
     "name": "stdout",
     "output_type": "stream",
     "text": [
      "Epoch 283 tst: l 0.811 a 0.751 clct[np.int64(20), np.int64(20)] clct_ans[np.int64(20), np.int64(20)] cl_acc1.000  3.320sec\n"
     ]
    },
    {
     "name": "stdout",
     "output_type": "stream",
     "text": [
      "Epoch 284 tr: l 0.622 a 0.791 clct[np.int64(82), np.int64(78)] clct_ans[np.int64(82), np.int64(78)] cl_acc1.000  lr 0.216898 75.520sec(train) 35.125sec(infer)\n"
     ]
    },
    {
     "name": "stdout",
     "output_type": "stream",
     "text": [
      "Epoch 284 tst: l 0.807 a 0.751 clct[np.int64(20), np.int64(20)] clct_ans[np.int64(20), np.int64(20)] cl_acc1.000  3.299sec\n"
     ]
    },
    {
     "name": "stdout",
     "output_type": "stream",
     "text": [
      "Epoch 285 tr: l 0.624 a 0.791 clct[np.int64(80), np.int64(80)] clct_ans[np.int64(80), np.int64(80)] cl_acc1.000  lr 0.216789 70.852sec(train) 35.075sec(infer)\n"
     ]
    },
    {
     "name": "stdout",
     "output_type": "stream",
     "text": [
      "Epoch 285 tst: l 0.807 a 0.753 clct[np.int64(20), np.int64(20)] clct_ans[np.int64(20), np.int64(20)] cl_acc1.000  3.310sec\n"
     ]
    },
    {
     "name": "stdout",
     "output_type": "stream",
     "text": [
      "Epoch 286 tr: l 0.628 a 0.789 clct[np.int64(80), np.int64(80)] clct_ans[np.int64(80), np.int64(80)] cl_acc1.000  lr 0.216681 73.945sec(train) 35.488sec(infer)\n"
     ]
    },
    {
     "name": "stdout",
     "output_type": "stream",
     "text": [
      "Epoch 286 tst: l 0.815 a 0.752 clct[np.int64(20), np.int64(20)] clct_ans[np.int64(20), np.int64(20)] cl_acc1.000  3.323sec\n"
     ]
    },
    {
     "name": "stdout",
     "output_type": "stream",
     "text": [
      "Epoch 287 tr: l 0.628 a 0.791 clct[np.int64(79), np.int64(81)] clct_ans[np.int64(79), np.int64(81)] cl_acc1.000  lr 0.216572 74.222sec(train) 35.080sec(infer)\n"
     ]
    },
    {
     "name": "stdout",
     "output_type": "stream",
     "text": [
      "Epoch 287 tst: l 0.806 a 0.752 clct[np.int64(20), np.int64(20)] clct_ans[np.int64(20), np.int64(20)] cl_acc1.000  3.325sec\n"
     ]
    },
    {
     "name": "stdout",
     "output_type": "stream",
     "text": [
      "Epoch 288 tr: l 0.620 a 0.793 clct[np.int64(79), np.int64(81)] clct_ans[np.int64(79), np.int64(81)] cl_acc1.000  lr 0.216464 75.242sec(train) 35.602sec(infer)\n"
     ]
    },
    {
     "name": "stdout",
     "output_type": "stream",
     "text": [
      "Epoch 288 tst: l 0.811 a 0.752 clct[np.int64(20), np.int64(20)] clct_ans[np.int64(20), np.int64(20)] cl_acc1.000  3.365sec\n"
     ]
    },
    {
     "name": "stdout",
     "output_type": "stream",
     "text": [
      "Epoch 289 tr: l 0.608 a 0.798 clct[np.int64(85), np.int64(75)] clct_ans[np.int64(85), np.int64(75)] cl_acc1.000  lr 0.216356 74.083sec(train) 35.450sec(infer)\n"
     ]
    },
    {
     "name": "stdout",
     "output_type": "stream",
     "text": [
      "Epoch 289 tst: l 0.820 a 0.752 clct[np.int64(20), np.int64(20)] clct_ans[np.int64(20), np.int64(20)] cl_acc1.000  3.314sec\n"
     ]
    },
    {
     "name": "stdout",
     "output_type": "stream",
     "text": [
      "Epoch 290 tr: l 0.625 a 0.795 clct[np.int64(79), np.int64(81)] clct_ans[np.int64(79), np.int64(81)] cl_acc1.000  lr 0.216248 75.097sec(train) 35.208sec(infer)\n"
     ]
    },
    {
     "name": "stdout",
     "output_type": "stream",
     "text": [
      "Epoch 290 tst: l 0.811 a 0.750 clct[np.int64(20), np.int64(20)] clct_ans[np.int64(20), np.int64(20)] cl_acc1.000  3.291sec\n",
      "result written at output_dfca_gi/results.pickle\n",
      "checkpoint written at output_dfca_gi/checkpoint.pt\n"
     ]
    },
    {
     "name": "stdout",
     "output_type": "stream",
     "text": [
      "Epoch 291 tr: l 0.635 a 0.790 clct[np.int64(82), np.int64(78)] clct_ans[np.int64(82), np.int64(78)] cl_acc1.000  lr 0.216140 71.682sec(train) 35.314sec(infer)\n"
     ]
    },
    {
     "name": "stdout",
     "output_type": "stream",
     "text": [
      "Epoch 291 tst: l 0.803 a 0.754 clct[np.int64(20), np.int64(20)] clct_ans[np.int64(20), np.int64(20)] cl_acc1.000  3.309sec\n"
     ]
    },
    {
     "name": "stdout",
     "output_type": "stream",
     "text": [
      "Epoch 292 tr: l 0.620 a 0.793 clct[np.int64(79), np.int64(81)] clct_ans[np.int64(79), np.int64(81)] cl_acc1.000  lr 0.216032 76.668sec(train) 34.917sec(infer)\n"
     ]
    },
    {
     "name": "stdout",
     "output_type": "stream",
     "text": [
      "Epoch 292 tst: l 0.798 a 0.754 clct[np.int64(20), np.int64(20)] clct_ans[np.int64(20), np.int64(20)] cl_acc1.000  3.297sec\n"
     ]
    },
    {
     "name": "stdout",
     "output_type": "stream",
     "text": [
      "Epoch 293 tr: l 0.632 a 0.790 clct[np.int64(85), np.int64(75)] clct_ans[np.int64(85), np.int64(75)] cl_acc1.000  lr 0.215924 72.877sec(train) 35.068sec(infer)\n"
     ]
    },
    {
     "name": "stdout",
     "output_type": "stream",
     "text": [
      "Epoch 293 tst: l 0.808 a 0.752 clct[np.int64(20), np.int64(20)] clct_ans[np.int64(20), np.int64(20)] cl_acc1.000  3.333sec\n"
     ]
    },
    {
     "name": "stdout",
     "output_type": "stream",
     "text": [
      "Epoch 294 tr: l 0.618 a 0.794 clct[np.int64(78), np.int64(82)] clct_ans[np.int64(78), np.int64(82)] cl_acc1.000  lr 0.215816 72.500sec(train) 35.299sec(infer)\n"
     ]
    },
    {
     "name": "stdout",
     "output_type": "stream",
     "text": [
      "Epoch 294 tst: l 0.806 a 0.755 clct[np.int64(20), np.int64(20)] clct_ans[np.int64(20), np.int64(20)] cl_acc1.000  3.294sec\n"
     ]
    },
    {
     "name": "stdout",
     "output_type": "stream",
     "text": [
      "Epoch 295 tr: l 0.602 a 0.798 clct[np.int64(79), np.int64(81)] clct_ans[np.int64(79), np.int64(81)] cl_acc1.000  lr 0.215708 71.972sec(train) 35.269sec(infer)\n"
     ]
    },
    {
     "name": "stdout",
     "output_type": "stream",
     "text": [
      "Epoch 295 tst: l 0.810 a 0.751 clct[np.int64(20), np.int64(20)] clct_ans[np.int64(20), np.int64(20)] cl_acc1.000  3.342sec\n"
     ]
    },
    {
     "name": "stdout",
     "output_type": "stream",
     "text": [
      "Epoch 296 tr: l 0.607 a 0.798 clct[np.int64(82), np.int64(78)] clct_ans[np.int64(82), np.int64(78)] cl_acc1.000  lr 0.215600 76.011sec(train) 35.166sec(infer)\n"
     ]
    },
    {
     "name": "stdout",
     "output_type": "stream",
     "text": [
      "Epoch 296 tst: l 0.808 a 0.752 clct[np.int64(20), np.int64(20)] clct_ans[np.int64(20), np.int64(20)] cl_acc1.000  3.334sec\n"
     ]
    },
    {
     "name": "stdout",
     "output_type": "stream",
     "text": [
      "Epoch 297 tr: l 0.613 a 0.795 clct[np.int64(77), np.int64(83)] clct_ans[np.int64(77), np.int64(83)] cl_acc1.000  lr 0.215492 72.940sec(train) 35.080sec(infer)\n"
     ]
    },
    {
     "name": "stdout",
     "output_type": "stream",
     "text": [
      "Epoch 297 tst: l 0.811 a 0.752 clct[np.int64(20), np.int64(20)] clct_ans[np.int64(20), np.int64(20)] cl_acc1.000  3.340sec\n"
     ]
    },
    {
     "name": "stdout",
     "output_type": "stream",
     "text": [
      "Epoch 298 tr: l 0.615 a 0.795 clct[np.int64(81), np.int64(79)] clct_ans[np.int64(81), np.int64(79)] cl_acc1.000  lr 0.215384 72.707sec(train) 35.430sec(infer)\n"
     ]
    },
    {
     "name": "stdout",
     "output_type": "stream",
     "text": [
      "Epoch 298 tst: l 0.800 a 0.754 clct[np.int64(20), np.int64(20)] clct_ans[np.int64(20), np.int64(20)] cl_acc1.000  3.379sec\n"
     ]
    },
    {
     "name": "stdout",
     "output_type": "stream",
     "text": [
      "Epoch 299 tr: l 0.607 a 0.798 clct[np.int64(83), np.int64(77)] clct_ans[np.int64(83), np.int64(77)] cl_acc1.000  lr 0.215277 75.127sec(train) 34.942sec(infer)\n"
     ]
    },
    {
     "name": "stdout",
     "output_type": "stream",
     "text": [
      "Epoch 299 tst: l 0.814 a 0.753 clct[np.int64(20), np.int64(20)] clct_ans[np.int64(20), np.int64(20)] cl_acc1.000  3.321sec\n"
     ]
    },
    {
     "name": "stdout",
     "output_type": "stream",
     "text": [
      "Epoch 300 tr: l 0.608 a 0.796 clct[np.int64(83), np.int64(77)] clct_ans[np.int64(83), np.int64(77)] cl_acc1.000  lr 0.215169 73.390sec(train) 35.140sec(infer)\n"
     ]
    },
    {
     "name": "stdout",
     "output_type": "stream",
     "text": [
      "Epoch 300 tst: l 0.818 a 0.753 clct[np.int64(20), np.int64(20)] clct_ans[np.int64(20), np.int64(20)] cl_acc1.000  3.330sec\n",
      "result written at output_dfca_gi/results.pickle\n",
      "checkpoint written at output_dfca_gi/checkpoint.pt\n"
     ]
    },
    {
     "name": "stdout",
     "output_type": "stream",
     "text": [
      "Epoch 301 tr: l 0.619 a 0.793 clct[np.int64(79), np.int64(81)] clct_ans[np.int64(79), np.int64(81)] cl_acc1.000  lr 0.215061 73.541sec(train) 34.936sec(infer)\n"
     ]
    },
    {
     "name": "stdout",
     "output_type": "stream",
     "text": [
      "Epoch 301 tst: l 0.813 a 0.755 clct[np.int64(20), np.int64(20)] clct_ans[np.int64(20), np.int64(20)] cl_acc1.000  3.313sec\n"
     ]
    },
    {
     "name": "stdout",
     "output_type": "stream",
     "text": [
      "Epoch 302 tr: l 0.599 a 0.802 clct[np.int64(81), np.int64(79)] clct_ans[np.int64(81), np.int64(79)] cl_acc1.000  lr 0.214954 73.300sec(train) 35.313sec(infer)\n"
     ]
    },
    {
     "name": "stdout",
     "output_type": "stream",
     "text": [
      "Epoch 302 tst: l 0.804 a 0.756 clct[np.int64(20), np.int64(20)] clct_ans[np.int64(20), np.int64(20)] cl_acc1.000  3.327sec\n"
     ]
    },
    {
     "name": "stdout",
     "output_type": "stream",
     "text": [
      "Epoch 303 tr: l 0.609 a 0.799 clct[np.int64(82), np.int64(78)] clct_ans[np.int64(82), np.int64(78)] cl_acc1.000  lr 0.214846 71.829sec(train) 35.249sec(infer)\n"
     ]
    },
    {
     "name": "stdout",
     "output_type": "stream",
     "text": [
      "Epoch 303 tst: l 0.813 a 0.754 clct[np.int64(20), np.int64(20)] clct_ans[np.int64(20), np.int64(20)] cl_acc1.000  3.418sec\n"
     ]
    },
    {
     "name": "stdout",
     "output_type": "stream",
     "text": [
      "Epoch 304 tr: l 0.602 a 0.802 clct[np.int64(86), np.int64(74)] clct_ans[np.int64(86), np.int64(74)] cl_acc1.000  lr 0.214739 73.016sec(train) 35.155sec(infer)\n"
     ]
    },
    {
     "name": "stdout",
     "output_type": "stream",
     "text": [
      "Epoch 304 tst: l 0.805 a 0.755 clct[np.int64(20), np.int64(20)] clct_ans[np.int64(20), np.int64(20)] cl_acc1.000  3.365sec\n"
     ]
    },
    {
     "name": "stdout",
     "output_type": "stream",
     "text": [
      "Epoch 305 tr: l 0.604 a 0.799 clct[np.int64(81), np.int64(79)] clct_ans[np.int64(81), np.int64(79)] cl_acc1.000  lr 0.214632 70.856sec(train) 34.847sec(infer)\n"
     ]
    },
    {
     "name": "stdout",
     "output_type": "stream",
     "text": [
      "Epoch 305 tst: l 0.812 a 0.753 clct[np.int64(20), np.int64(20)] clct_ans[np.int64(20), np.int64(20)] cl_acc1.000  3.307sec\n"
     ]
    },
    {
     "name": "stdout",
     "output_type": "stream",
     "text": [
      "Epoch 306 tr: l 0.601 a 0.799 clct[np.int64(82), np.int64(78)] clct_ans[np.int64(82), np.int64(78)] cl_acc1.000  lr 0.214524 73.621sec(train) 35.073sec(infer)\n"
     ]
    },
    {
     "name": "stdout",
     "output_type": "stream",
     "text": [
      "Epoch 306 tst: l 0.806 a 0.753 clct[np.int64(20), np.int64(20)] clct_ans[np.int64(20), np.int64(20)] cl_acc1.000  3.306sec\n"
     ]
    },
    {
     "name": "stdout",
     "output_type": "stream",
     "text": [
      "Epoch 307 tr: l 0.607 a 0.797 clct[np.int64(81), np.int64(79)] clct_ans[np.int64(81), np.int64(79)] cl_acc1.000  lr 0.214417 73.955sec(train) 34.673sec(infer)\n"
     ]
    },
    {
     "name": "stdout",
     "output_type": "stream",
     "text": [
      "Epoch 307 tst: l 0.798 a 0.753 clct[np.int64(20), np.int64(20)] clct_ans[np.int64(20), np.int64(20)] cl_acc1.000  3.320sec\n"
     ]
    },
    {
     "name": "stdout",
     "output_type": "stream",
     "text": [
      "Epoch 308 tr: l 0.608 a 0.798 clct[np.int64(84), np.int64(76)] clct_ans[np.int64(84), np.int64(76)] cl_acc1.000  lr 0.214310 70.509sec(train) 35.525sec(infer)\n"
     ]
    },
    {
     "name": "stdout",
     "output_type": "stream",
     "text": [
      "Epoch 308 tst: l 0.798 a 0.755 clct[np.int64(20), np.int64(20)] clct_ans[np.int64(20), np.int64(20)] cl_acc1.000  3.408sec\n"
     ]
    },
    {
     "name": "stdout",
     "output_type": "stream",
     "text": [
      "Epoch 309 tr: l 0.605 a 0.798 clct[np.int64(79), np.int64(81)] clct_ans[np.int64(79), np.int64(81)] cl_acc1.000  lr 0.214203 72.543sec(train) 35.041sec(infer)\n"
     ]
    },
    {
     "name": "stdout",
     "output_type": "stream",
     "text": [
      "Epoch 309 tst: l 0.805 a 0.754 clct[np.int64(20), np.int64(20)] clct_ans[np.int64(20), np.int64(20)] cl_acc1.000  3.304sec\n"
     ]
    },
    {
     "name": "stdout",
     "output_type": "stream",
     "text": [
      "Epoch 310 tr: l 0.600 a 0.799 clct[np.int64(82), np.int64(78)] clct_ans[np.int64(82), np.int64(78)] cl_acc1.000  lr 0.214095 71.336sec(train) 34.952sec(infer)\n"
     ]
    },
    {
     "name": "stdout",
     "output_type": "stream",
     "text": [
      "Epoch 310 tst: l 0.805 a 0.753 clct[np.int64(20), np.int64(20)] clct_ans[np.int64(20), np.int64(20)] cl_acc1.000  3.303sec\n",
      "result written at output_dfca_gi/results.pickle\n",
      "checkpoint written at output_dfca_gi/checkpoint.pt\n"
     ]
    },
    {
     "name": "stdout",
     "output_type": "stream",
     "text": [
      "Epoch 311 tr: l 0.601 a 0.799 clct[np.int64(78), np.int64(82)] clct_ans[np.int64(78), np.int64(82)] cl_acc1.000  lr 0.213988 69.588sec(train) 35.069sec(infer)\n"
     ]
    },
    {
     "name": "stdout",
     "output_type": "stream",
     "text": [
      "Epoch 311 tst: l 0.800 a 0.755 clct[np.int64(20), np.int64(20)] clct_ans[np.int64(20), np.int64(20)] cl_acc1.000  3.282sec\n"
     ]
    },
    {
     "name": "stdout",
     "output_type": "stream",
     "text": [
      "Epoch 312 tr: l 0.608 a 0.797 clct[np.int64(85), np.int64(75)] clct_ans[np.int64(85), np.int64(75)] cl_acc1.000  lr 0.213881 73.724sec(train) 34.990sec(infer)\n"
     ]
    },
    {
     "name": "stdout",
     "output_type": "stream",
     "text": [
      "Epoch 312 tst: l 0.801 a 0.754 clct[np.int64(20), np.int64(20)] clct_ans[np.int64(20), np.int64(20)] cl_acc1.000  3.291sec\n"
     ]
    },
    {
     "name": "stdout",
     "output_type": "stream",
     "text": [
      "Epoch 313 tr: l 0.596 a 0.800 clct[np.int64(78), np.int64(82)] clct_ans[np.int64(78), np.int64(82)] cl_acc1.000  lr 0.213775 74.695sec(train) 35.299sec(infer)\n"
     ]
    },
    {
     "name": "stdout",
     "output_type": "stream",
     "text": [
      "Epoch 313 tst: l 0.801 a 0.755 clct[np.int64(20), np.int64(20)] clct_ans[np.int64(20), np.int64(20)] cl_acc1.000  3.318sec\n"
     ]
    },
    {
     "name": "stdout",
     "output_type": "stream",
     "text": [
      "Epoch 314 tr: l 0.608 a 0.797 clct[np.int64(83), np.int64(77)] clct_ans[np.int64(83), np.int64(77)] cl_acc1.000  lr 0.213668 73.201sec(train) 35.177sec(infer)\n"
     ]
    },
    {
     "name": "stdout",
     "output_type": "stream",
     "text": [
      "Epoch 314 tst: l 0.799 a 0.756 clct[np.int64(20), np.int64(20)] clct_ans[np.int64(20), np.int64(20)] cl_acc1.000  3.330sec\n"
     ]
    },
    {
     "name": "stdout",
     "output_type": "stream",
     "text": [
      "Epoch 315 tr: l 0.600 a 0.802 clct[np.int64(74), np.int64(86)] clct_ans[np.int64(74), np.int64(86)] cl_acc1.000  lr 0.213561 73.529sec(train) 34.939sec(infer)\n"
     ]
    },
    {
     "name": "stdout",
     "output_type": "stream",
     "text": [
      "Epoch 315 tst: l 0.802 a 0.756 clct[np.int64(20), np.int64(20)] clct_ans[np.int64(20), np.int64(20)] cl_acc1.000  3.274sec\n"
     ]
    },
    {
     "name": "stdout",
     "output_type": "stream",
     "text": [
      "Epoch 316 tr: l 0.595 a 0.800 clct[np.int64(77), np.int64(83)] clct_ans[np.int64(77), np.int64(83)] cl_acc1.000  lr 0.213454 73.015sec(train) 36.474sec(infer)\n"
     ]
    },
    {
     "name": "stdout",
     "output_type": "stream",
     "text": [
      "Epoch 316 tst: l 0.814 a 0.754 clct[np.int64(20), np.int64(20)] clct_ans[np.int64(20), np.int64(20)] cl_acc1.000  3.373sec\n"
     ]
    },
    {
     "name": "stdout",
     "output_type": "stream",
     "text": [
      "Epoch 317 tr: l 0.606 a 0.798 clct[np.int64(79), np.int64(81)] clct_ans[np.int64(79), np.int64(81)] cl_acc1.000  lr 0.213347 73.619sec(train) 35.181sec(infer)\n"
     ]
    },
    {
     "name": "stdout",
     "output_type": "stream",
     "text": [
      "Epoch 317 tst: l 0.793 a 0.757 clct[np.int64(20), np.int64(20)] clct_ans[np.int64(20), np.int64(20)] cl_acc1.000  3.343sec\n"
     ]
    },
    {
     "name": "stdout",
     "output_type": "stream",
     "text": [
      "Epoch 318 tr: l 0.598 a 0.801 clct[np.int64(80), np.int64(80)] clct_ans[np.int64(80), np.int64(80)] cl_acc1.000  lr 0.213241 71.606sec(train) 34.982sec(infer)\n"
     ]
    },
    {
     "name": "stdout",
     "output_type": "stream",
     "text": [
      "Epoch 318 tst: l 0.797 a 0.757 clct[np.int64(20), np.int64(20)] clct_ans[np.int64(20), np.int64(20)] cl_acc1.000  3.341sec\n"
     ]
    },
    {
     "name": "stdout",
     "output_type": "stream",
     "text": [
      "Epoch 319 tr: l 0.590 a 0.804 clct[np.int64(79), np.int64(81)] clct_ans[np.int64(79), np.int64(81)] cl_acc1.000  lr 0.213134 71.275sec(train) 35.510sec(infer)\n"
     ]
    },
    {
     "name": "stdout",
     "output_type": "stream",
     "text": [
      "Epoch 319 tst: l 0.796 a 0.755 clct[np.int64(20), np.int64(20)] clct_ans[np.int64(20), np.int64(20)] cl_acc1.000  3.379sec\n"
     ]
    },
    {
     "name": "stdout",
     "output_type": "stream",
     "text": [
      "Epoch 320 tr: l 0.604 a 0.799 clct[np.int64(79), np.int64(81)] clct_ans[np.int64(79), np.int64(81)] cl_acc1.000  lr 0.213027 72.907sec(train) 34.905sec(infer)\n"
     ]
    },
    {
     "name": "stdout",
     "output_type": "stream",
     "text": [
      "Epoch 320 tst: l 0.798 a 0.755 clct[np.int64(20), np.int64(20)] clct_ans[np.int64(20), np.int64(20)] cl_acc1.000  3.335sec\n",
      "result written at output_dfca_gi/results.pickle\n",
      "checkpoint written at output_dfca_gi/checkpoint.pt\n"
     ]
    },
    {
     "name": "stdout",
     "output_type": "stream",
     "text": [
      "Epoch 321 tr: l 0.599 a 0.799 clct[np.int64(80), np.int64(80)] clct_ans[np.int64(80), np.int64(80)] cl_acc1.000  lr 0.212921 74.888sec(train) 35.058sec(infer)\n"
     ]
    },
    {
     "name": "stdout",
     "output_type": "stream",
     "text": [
      "Epoch 321 tst: l 0.800 a 0.755 clct[np.int64(20), np.int64(20)] clct_ans[np.int64(20), np.int64(20)] cl_acc1.000  3.323sec\n"
     ]
    },
    {
     "name": "stdout",
     "output_type": "stream",
     "text": [
      "Epoch 322 tr: l 0.590 a 0.804 clct[np.int64(76), np.int64(84)] clct_ans[np.int64(76), np.int64(84)] cl_acc1.000  lr 0.212814 71.452sec(train) 35.015sec(infer)\n"
     ]
    },
    {
     "name": "stdout",
     "output_type": "stream",
     "text": [
      "Epoch 322 tst: l 0.799 a 0.756 clct[np.int64(20), np.int64(20)] clct_ans[np.int64(20), np.int64(20)] cl_acc1.000  3.319sec\n"
     ]
    },
    {
     "name": "stdout",
     "output_type": "stream",
     "text": [
      "Epoch 323 tr: l 0.587 a 0.804 clct[np.int64(78), np.int64(82)] clct_ans[np.int64(78), np.int64(82)] cl_acc1.000  lr 0.212708 73.565sec(train) 35.236sec(infer)\n"
     ]
    },
    {
     "name": "stdout",
     "output_type": "stream",
     "text": [
      "Epoch 323 tst: l 0.821 a 0.752 clct[np.int64(20), np.int64(20)] clct_ans[np.int64(20), np.int64(20)] cl_acc1.000  3.296sec\n"
     ]
    },
    {
     "name": "stdout",
     "output_type": "stream",
     "text": [
      "Epoch 324 tr: l 0.584 a 0.805 clct[np.int64(81), np.int64(79)] clct_ans[np.int64(81), np.int64(79)] cl_acc1.000  lr 0.212602 70.761sec(train) 35.077sec(infer)\n"
     ]
    },
    {
     "name": "stdout",
     "output_type": "stream",
     "text": [
      "Epoch 324 tst: l 0.794 a 0.756 clct[np.int64(20), np.int64(20)] clct_ans[np.int64(20), np.int64(20)] cl_acc1.000  3.402sec\n"
     ]
    },
    {
     "name": "stdout",
     "output_type": "stream",
     "text": [
      "Epoch 325 tr: l 0.581 a 0.806 clct[np.int64(76), np.int64(84)] clct_ans[np.int64(76), np.int64(84)] cl_acc1.000  lr 0.212495 70.790sec(train) 35.082sec(infer)\n"
     ]
    },
    {
     "name": "stdout",
     "output_type": "stream",
     "text": [
      "Epoch 325 tst: l 0.806 a 0.756 clct[np.int64(20), np.int64(20)] clct_ans[np.int64(20), np.int64(20)] cl_acc1.000  3.379sec\n"
     ]
    },
    {
     "name": "stdout",
     "output_type": "stream",
     "text": [
      "Epoch 326 tr: l 0.581 a 0.806 clct[np.int64(79), np.int64(81)] clct_ans[np.int64(79), np.int64(81)] cl_acc1.000  lr 0.212389 68.548sec(train) 34.808sec(infer)\n"
     ]
    },
    {
     "name": "stdout",
     "output_type": "stream",
     "text": [
      "Epoch 326 tst: l 0.803 a 0.757 clct[np.int64(20), np.int64(20)] clct_ans[np.int64(20), np.int64(20)] cl_acc1.000  3.318sec\n"
     ]
    },
    {
     "name": "stdout",
     "output_type": "stream",
     "text": [
      "Epoch 327 tr: l 0.589 a 0.803 clct[np.int64(81), np.int64(79)] clct_ans[np.int64(81), np.int64(79)] cl_acc1.000  lr 0.212283 70.635sec(train) 35.356sec(infer)\n"
     ]
    },
    {
     "name": "stdout",
     "output_type": "stream",
     "text": [
      "Epoch 327 tst: l 0.812 a 0.757 clct[np.int64(20), np.int64(20)] clct_ans[np.int64(20), np.int64(20)] cl_acc1.000  3.313sec\n"
     ]
    },
    {
     "name": "stdout",
     "output_type": "stream",
     "text": [
      "Epoch 328 tr: l 0.585 a 0.805 clct[np.int64(79), np.int64(81)] clct_ans[np.int64(79), np.int64(81)] cl_acc1.000  lr 0.212177 70.899sec(train) 35.049sec(infer)\n"
     ]
    },
    {
     "name": "stdout",
     "output_type": "stream",
     "text": [
      "Epoch 328 tst: l 0.795 a 0.759 clct[np.int64(20), np.int64(20)] clct_ans[np.int64(20), np.int64(20)] cl_acc1.000  3.327sec\n"
     ]
    },
    {
     "name": "stdout",
     "output_type": "stream",
     "text": [
      "Epoch 329 tr: l 0.581 a 0.805 clct[np.int64(79), np.int64(81)] clct_ans[np.int64(79), np.int64(81)] cl_acc1.000  lr 0.212071 74.587sec(train) 34.960sec(infer)\n"
     ]
    },
    {
     "name": "stdout",
     "output_type": "stream",
     "text": [
      "Epoch 329 tst: l 0.809 a 0.755 clct[np.int64(20), np.int64(20)] clct_ans[np.int64(20), np.int64(20)] cl_acc1.000  3.311sec\n"
     ]
    },
    {
     "name": "stdout",
     "output_type": "stream",
     "text": [
      "Epoch 330 tr: l 0.585 a 0.805 clct[np.int64(80), np.int64(80)] clct_ans[np.int64(80), np.int64(80)] cl_acc1.000  lr 0.211965 71.769sec(train) 34.896sec(infer)\n"
     ]
    },
    {
     "name": "stdout",
     "output_type": "stream",
     "text": [
      "Epoch 330 tst: l 0.796 a 0.757 clct[np.int64(20), np.int64(20)] clct_ans[np.int64(20), np.int64(20)] cl_acc1.000  3.315sec\n",
      "result written at output_dfca_gi/results.pickle\n",
      "checkpoint written at output_dfca_gi/checkpoint.pt\n"
     ]
    },
    {
     "name": "stdout",
     "output_type": "stream",
     "text": [
      "Epoch 331 tr: l 0.580 a 0.806 clct[np.int64(78), np.int64(82)] clct_ans[np.int64(78), np.int64(82)] cl_acc1.000  lr 0.211859 71.455sec(train) 34.798sec(infer)\n"
     ]
    },
    {
     "name": "stdout",
     "output_type": "stream",
     "text": [
      "Epoch 331 tst: l 0.798 a 0.758 clct[np.int64(20), np.int64(20)] clct_ans[np.int64(20), np.int64(20)] cl_acc1.000  3.292sec\n"
     ]
    },
    {
     "name": "stdout",
     "output_type": "stream",
     "text": [
      "Epoch 332 tr: l 0.576 a 0.808 clct[np.int64(85), np.int64(75)] clct_ans[np.int64(85), np.int64(75)] cl_acc1.000  lr 0.211753 72.348sec(train) 34.834sec(infer)\n"
     ]
    },
    {
     "name": "stdout",
     "output_type": "stream",
     "text": [
      "Epoch 332 tst: l 0.804 a 0.757 clct[np.int64(20), np.int64(20)] clct_ans[np.int64(20), np.int64(20)] cl_acc1.000  3.379sec\n"
     ]
    },
    {
     "name": "stdout",
     "output_type": "stream",
     "text": [
      "Epoch 333 tr: l 0.581 a 0.806 clct[np.int64(75), np.int64(85)] clct_ans[np.int64(75), np.int64(85)] cl_acc1.000  lr 0.211647 72.278sec(train) 35.162sec(infer)\n"
     ]
    },
    {
     "name": "stdout",
     "output_type": "stream",
     "text": [
      "Epoch 333 tst: l 0.784 a 0.760 clct[np.int64(20), np.int64(20)] clct_ans[np.int64(20), np.int64(20)] cl_acc1.000  3.297sec\n"
     ]
    },
    {
     "name": "stdout",
     "output_type": "stream",
     "text": [
      "Epoch 334 tr: l 0.595 a 0.803 clct[np.int64(85), np.int64(75)] clct_ans[np.int64(85), np.int64(75)] cl_acc1.000  lr 0.211541 74.821sec(train) 34.742sec(infer)\n"
     ]
    },
    {
     "name": "stdout",
     "output_type": "stream",
     "text": [
      "Epoch 334 tst: l 0.786 a 0.759 clct[np.int64(20), np.int64(20)] clct_ans[np.int64(20), np.int64(20)] cl_acc1.000  3.335sec\n"
     ]
    },
    {
     "name": "stdout",
     "output_type": "stream",
     "text": [
      "Epoch 335 tr: l 0.583 a 0.804 clct[np.int64(77), np.int64(83)] clct_ans[np.int64(77), np.int64(83)] cl_acc1.000  lr 0.211435 70.127sec(train) 35.441sec(infer)\n"
     ]
    },
    {
     "name": "stdout",
     "output_type": "stream",
     "text": [
      "Epoch 335 tst: l 0.798 a 0.758 clct[np.int64(20), np.int64(20)] clct_ans[np.int64(20), np.int64(20)] cl_acc1.000  3.334sec\n"
     ]
    },
    {
     "name": "stdout",
     "output_type": "stream",
     "text": [
      "Epoch 336 tr: l 0.585 a 0.805 clct[np.int64(80), np.int64(80)] clct_ans[np.int64(80), np.int64(80)] cl_acc1.000  lr 0.211330 75.024sec(train) 34.979sec(infer)\n"
     ]
    },
    {
     "name": "stdout",
     "output_type": "stream",
     "text": [
      "Epoch 336 tst: l 0.792 a 0.759 clct[np.int64(20), np.int64(20)] clct_ans[np.int64(20), np.int64(20)] cl_acc1.000  3.308sec\n"
     ]
    },
    {
     "name": "stdout",
     "output_type": "stream",
     "text": [
      "Epoch 337 tr: l 0.583 a 0.803 clct[np.int64(80), np.int64(80)] clct_ans[np.int64(80), np.int64(80)] cl_acc1.000  lr 0.211224 73.481sec(train) 34.909sec(infer)\n"
     ]
    },
    {
     "name": "stdout",
     "output_type": "stream",
     "text": [
      "Epoch 337 tst: l 0.792 a 0.759 clct[np.int64(20), np.int64(20)] clct_ans[np.int64(20), np.int64(20)] cl_acc1.000  3.343sec\n"
     ]
    },
    {
     "name": "stdout",
     "output_type": "stream",
     "text": [
      "Epoch 338 tr: l 0.582 a 0.806 clct[np.int64(83), np.int64(77)] clct_ans[np.int64(83), np.int64(77)] cl_acc1.000  lr 0.211118 71.535sec(train) 35.098sec(infer)\n"
     ]
    },
    {
     "name": "stdout",
     "output_type": "stream",
     "text": [
      "Epoch 338 tst: l 0.800 a 0.759 clct[np.int64(20), np.int64(20)] clct_ans[np.int64(20), np.int64(20)] cl_acc1.000  3.306sec\n"
     ]
    },
    {
     "name": "stdout",
     "output_type": "stream",
     "text": [
      "Epoch 339 tr: l 0.589 a 0.803 clct[np.int64(82), np.int64(78)] clct_ans[np.int64(82), np.int64(78)] cl_acc1.000  lr 0.211013 74.584sec(train) 34.843sec(infer)\n"
     ]
    },
    {
     "name": "stdout",
     "output_type": "stream",
     "text": [
      "Epoch 339 tst: l 0.804 a 0.756 clct[np.int64(20), np.int64(20)] clct_ans[np.int64(20), np.int64(20)] cl_acc1.000  3.302sec\n"
     ]
    },
    {
     "name": "stdout",
     "output_type": "stream",
     "text": [
      "Epoch 340 tr: l 0.581 a 0.805 clct[np.int64(82), np.int64(78)] clct_ans[np.int64(82), np.int64(78)] cl_acc1.000  lr 0.210907 71.730sec(train) 34.960sec(infer)\n"
     ]
    },
    {
     "name": "stdout",
     "output_type": "stream",
     "text": [
      "Epoch 340 tst: l 0.782 a 0.760 clct[np.int64(20), np.int64(20)] clct_ans[np.int64(20), np.int64(20)] cl_acc1.000  3.303sec\n",
      "result written at output_dfca_gi/results.pickle\n",
      "checkpoint written at output_dfca_gi/checkpoint.pt\n"
     ]
    },
    {
     "name": "stdout",
     "output_type": "stream",
     "text": [
      "Epoch 341 tr: l 0.580 a 0.807 clct[np.int64(85), np.int64(75)] clct_ans[np.int64(85), np.int64(75)] cl_acc1.000  lr 0.210802 71.408sec(train) 35.157sec(infer)\n"
     ]
    },
    {
     "name": "stdout",
     "output_type": "stream",
     "text": [
      "Epoch 341 tst: l 0.794 a 0.758 clct[np.int64(20), np.int64(20)] clct_ans[np.int64(20), np.int64(20)] cl_acc1.000  3.272sec\n"
     ]
    },
    {
     "name": "stdout",
     "output_type": "stream",
     "text": [
      "Epoch 342 tr: l 0.572 a 0.810 clct[np.int64(77), np.int64(83)] clct_ans[np.int64(77), np.int64(83)] cl_acc1.000  lr 0.210696 73.462sec(train) 35.101sec(infer)\n"
     ]
    },
    {
     "name": "stdout",
     "output_type": "stream",
     "text": [
      "Epoch 342 tst: l 0.793 a 0.759 clct[np.int64(20), np.int64(20)] clct_ans[np.int64(20), np.int64(20)] cl_acc1.000  3.282sec\n"
     ]
    },
    {
     "name": "stdout",
     "output_type": "stream",
     "text": [
      "Epoch 343 tr: l 0.579 a 0.806 clct[np.int64(76), np.int64(84)] clct_ans[np.int64(76), np.int64(84)] cl_acc1.000  lr 0.210591 73.088sec(train) 35.168sec(infer)\n"
     ]
    },
    {
     "name": "stdout",
     "output_type": "stream",
     "text": [
      "Epoch 343 tst: l 0.793 a 0.758 clct[np.int64(20), np.int64(20)] clct_ans[np.int64(20), np.int64(20)] cl_acc1.000  3.300sec\n"
     ]
    },
    {
     "name": "stdout",
     "output_type": "stream",
     "text": [
      "Epoch 344 tr: l 0.562 a 0.812 clct[np.int64(76), np.int64(84)] clct_ans[np.int64(76), np.int64(84)] cl_acc1.000  lr 0.210486 73.512sec(train) 35.087sec(infer)\n"
     ]
    },
    {
     "name": "stdout",
     "output_type": "stream",
     "text": [
      "Epoch 344 tst: l 0.795 a 0.761 clct[np.int64(20), np.int64(20)] clct_ans[np.int64(20), np.int64(20)] cl_acc1.000  3.498sec\n"
     ]
    },
    {
     "name": "stdout",
     "output_type": "stream",
     "text": [
      "Epoch 345 tr: l 0.581 a 0.805 clct[np.int64(89), np.int64(71)] clct_ans[np.int64(89), np.int64(71)] cl_acc1.000  lr 0.210380 73.375sec(train) 35.013sec(infer)\n"
     ]
    },
    {
     "name": "stdout",
     "output_type": "stream",
     "text": [
      "Epoch 345 tst: l 0.794 a 0.760 clct[np.int64(20), np.int64(20)] clct_ans[np.int64(20), np.int64(20)] cl_acc1.000  3.301sec\n"
     ]
    },
    {
     "name": "stdout",
     "output_type": "stream",
     "text": [
      "Epoch 346 tr: l 0.575 a 0.807 clct[np.int64(83), np.int64(77)] clct_ans[np.int64(83), np.int64(77)] cl_acc1.000  lr 0.210275 73.297sec(train) 35.250sec(infer)\n"
     ]
    },
    {
     "name": "stdout",
     "output_type": "stream",
     "text": [
      "Epoch 346 tst: l 0.795 a 0.760 clct[np.int64(20), np.int64(20)] clct_ans[np.int64(20), np.int64(20)] cl_acc1.000  3.297sec\n"
     ]
    },
    {
     "name": "stdout",
     "output_type": "stream",
     "text": [
      "Epoch 347 tr: l 0.574 a 0.808 clct[np.int64(77), np.int64(83)] clct_ans[np.int64(77), np.int64(83)] cl_acc1.000  lr 0.210170 75.392sec(train) 35.444sec(infer)\n"
     ]
    },
    {
     "name": "stdout",
     "output_type": "stream",
     "text": [
      "Epoch 347 tst: l 0.785 a 0.762 clct[np.int64(20), np.int64(20)] clct_ans[np.int64(20), np.int64(20)] cl_acc1.000  3.371sec\n"
     ]
    },
    {
     "name": "stdout",
     "output_type": "stream",
     "text": [
      "Epoch 348 tr: l 0.571 a 0.809 clct[np.int64(80), np.int64(80)] clct_ans[np.int64(80), np.int64(80)] cl_acc1.000  lr 0.210065 74.799sec(train) 35.198sec(infer)\n"
     ]
    },
    {
     "name": "stdout",
     "output_type": "stream",
     "text": [
      "Epoch 348 tst: l 0.790 a 0.761 clct[np.int64(20), np.int64(20)] clct_ans[np.int64(20), np.int64(20)] cl_acc1.000  3.331sec\n"
     ]
    },
    {
     "name": "stdout",
     "output_type": "stream",
     "text": [
      "Epoch 349 tr: l 0.571 a 0.809 clct[np.int64(80), np.int64(80)] clct_ans[np.int64(80), np.int64(80)] cl_acc1.000  lr 0.209960 71.355sec(train) 35.250sec(infer)\n"
     ]
    },
    {
     "name": "stdout",
     "output_type": "stream",
     "text": [
      "Epoch 349 tst: l 0.801 a 0.757 clct[np.int64(20), np.int64(20)] clct_ans[np.int64(20), np.int64(20)] cl_acc1.000  3.332sec\n"
     ]
    },
    {
     "name": "stdout",
     "output_type": "stream",
     "text": [
      "Epoch 350 tr: l 0.580 a 0.807 clct[np.int64(79), np.int64(81)] clct_ans[np.int64(79), np.int64(81)] cl_acc1.000  lr 0.020986 72.268sec(train) 34.997sec(infer)\n"
     ]
    },
    {
     "name": "stdout",
     "output_type": "stream",
     "text": [
      "Epoch 350 tst: l 0.780 a 0.764 clct[np.int64(20), np.int64(20)] clct_ans[np.int64(20), np.int64(20)] cl_acc1.000  3.351sec\n",
      "result written at output_dfca_gi/results.pickle\n",
      "checkpoint written at output_dfca_gi/checkpoint.pt\n"
     ]
    },
    {
     "name": "stdout",
     "output_type": "stream",
     "text": [
      "Epoch 351 tr: l 0.593 a 0.803 clct[np.int64(78), np.int64(82)] clct_ans[np.int64(78), np.int64(82)] cl_acc1.000  lr 0.020975 73.874sec(train) 35.080sec(infer)\n"
     ]
    },
    {
     "name": "stdout",
     "output_type": "stream",
     "text": [
      "Epoch 351 tst: l 0.786 a 0.764 clct[np.int64(20), np.int64(20)] clct_ans[np.int64(20), np.int64(20)] cl_acc1.000  3.344sec\n"
     ]
    },
    {
     "name": "stdout",
     "output_type": "stream",
     "text": [
      "Epoch 352 tr: l 0.594 a 0.803 clct[np.int64(78), np.int64(82)] clct_ans[np.int64(78), np.int64(82)] cl_acc1.000  lr 0.020965 71.938sec(train) 34.936sec(infer)\n"
     ]
    },
    {
     "name": "stdout",
     "output_type": "stream",
     "text": [
      "Epoch 352 tst: l 0.791 a 0.765 clct[np.int64(20), np.int64(20)] clct_ans[np.int64(20), np.int64(20)] cl_acc1.000  3.314sec\n"
     ]
    },
    {
     "name": "stdout",
     "output_type": "stream",
     "text": [
      "Epoch 353 tr: l 0.592 a 0.804 clct[np.int64(76), np.int64(84)] clct_ans[np.int64(76), np.int64(84)] cl_acc1.000  lr 0.020954 71.268sec(train) 35.310sec(infer)\n"
     ]
    },
    {
     "name": "stdout",
     "output_type": "stream",
     "text": [
      "Epoch 353 tst: l 0.796 a 0.765 clct[np.int64(20), np.int64(20)] clct_ans[np.int64(20), np.int64(20)] cl_acc1.000  3.368sec\n"
     ]
    },
    {
     "name": "stdout",
     "output_type": "stream",
     "text": [
      "Epoch 354 tr: l 0.604 a 0.803 clct[np.int64(83), np.int64(77)] clct_ans[np.int64(83), np.int64(77)] cl_acc1.000  lr 0.020944 72.671sec(train) 35.056sec(infer)\n"
     ]
    },
    {
     "name": "stdout",
     "output_type": "stream",
     "text": [
      "Epoch 354 tst: l 0.802 a 0.765 clct[np.int64(20), np.int64(20)] clct_ans[np.int64(20), np.int64(20)] cl_acc1.000  3.283sec\n"
     ]
    },
    {
     "name": "stdout",
     "output_type": "stream",
     "text": [
      "Epoch 355 tr: l 0.603 a 0.804 clct[np.int64(81), np.int64(79)] clct_ans[np.int64(81), np.int64(79)] cl_acc1.000  lr 0.020933 72.080sec(train) 34.852sec(infer)\n"
     ]
    },
    {
     "name": "stdout",
     "output_type": "stream",
     "text": [
      "Epoch 355 tst: l 0.809 a 0.766 clct[np.int64(20), np.int64(20)] clct_ans[np.int64(20), np.int64(20)] cl_acc1.000  3.310sec\n"
     ]
    },
    {
     "name": "stdout",
     "output_type": "stream",
     "text": [
      "Epoch 356 tr: l 0.615 a 0.802 clct[np.int64(76), np.int64(84)] clct_ans[np.int64(76), np.int64(84)] cl_acc1.000  lr 0.020923 73.612sec(train) 34.846sec(infer)\n"
     ]
    },
    {
     "name": "stdout",
     "output_type": "stream",
     "text": [
      "Epoch 356 tst: l 0.813 a 0.766 clct[np.int64(20), np.int64(20)] clct_ans[np.int64(20), np.int64(20)] cl_acc1.000  3.364sec\n"
     ]
    },
    {
     "name": "stdout",
     "output_type": "stream",
     "text": [
      "Epoch 357 tr: l 0.602 a 0.805 clct[np.int64(75), np.int64(85)] clct_ans[np.int64(75), np.int64(85)] cl_acc1.000  lr 0.020912 70.487sec(train) 35.240sec(infer)\n"
     ]
    },
    {
     "name": "stdout",
     "output_type": "stream",
     "text": [
      "Epoch 357 tst: l 0.817 a 0.766 clct[np.int64(20), np.int64(20)] clct_ans[np.int64(20), np.int64(20)] cl_acc1.000  3.350sec\n"
     ]
    },
    {
     "name": "stdout",
     "output_type": "stream",
     "text": [
      "Epoch 358 tr: l 0.601 a 0.807 clct[np.int64(84), np.int64(76)] clct_ans[np.int64(84), np.int64(76)] cl_acc1.000  lr 0.020902 70.183sec(train) 34.860sec(infer)\n"
     ]
    },
    {
     "name": "stdout",
     "output_type": "stream",
     "text": [
      "Epoch 358 tst: l 0.822 a 0.765 clct[np.int64(20), np.int64(20)] clct_ans[np.int64(20), np.int64(20)] cl_acc1.000  3.365sec\n"
     ]
    },
    {
     "name": "stdout",
     "output_type": "stream",
     "text": [
      "Epoch 359 tr: l 0.607 a 0.805 clct[np.int64(82), np.int64(78)] clct_ans[np.int64(82), np.int64(78)] cl_acc1.000  lr 0.020891 71.624sec(train) 34.797sec(infer)\n"
     ]
    },
    {
     "name": "stdout",
     "output_type": "stream",
     "text": [
      "Epoch 359 tst: l 0.826 a 0.765 clct[np.int64(20), np.int64(20)] clct_ans[np.int64(20), np.int64(20)] cl_acc1.000  3.306sec\n"
     ]
    },
    {
     "name": "stdout",
     "output_type": "stream",
     "text": [
      "Epoch 360 tr: l 0.600 a 0.806 clct[np.int64(80), np.int64(80)] clct_ans[np.int64(80), np.int64(80)] cl_acc1.000  lr 0.020881 71.466sec(train) 34.764sec(infer)\n"
     ]
    },
    {
     "name": "stdout",
     "output_type": "stream",
     "text": [
      "Epoch 360 tst: l 0.832 a 0.766 clct[np.int64(20), np.int64(20)] clct_ans[np.int64(20), np.int64(20)] cl_acc1.000  3.390sec\n",
      "result written at output_dfca_gi/results.pickle\n",
      "checkpoint written at output_dfca_gi/checkpoint.pt\n"
     ]
    },
    {
     "name": "stdout",
     "output_type": "stream",
     "text": [
      "Epoch 361 tr: l 0.606 a 0.806 clct[np.int64(76), np.int64(84)] clct_ans[np.int64(76), np.int64(84)] cl_acc1.000  lr 0.020870 73.827sec(train) 35.031sec(infer)\n"
     ]
    },
    {
     "name": "stdout",
     "output_type": "stream",
     "text": [
      "Epoch 361 tst: l 0.837 a 0.765 clct[np.int64(20), np.int64(20)] clct_ans[np.int64(20), np.int64(20)] cl_acc1.000  3.351sec\n"
     ]
    },
    {
     "name": "stdout",
     "output_type": "stream",
     "text": [
      "Epoch 362 tr: l 0.614 a 0.805 clct[np.int64(80), np.int64(80)] clct_ans[np.int64(80), np.int64(80)] cl_acc1.000  lr 0.020860 73.079sec(train) 34.894sec(infer)\n"
     ]
    },
    {
     "name": "stdout",
     "output_type": "stream",
     "text": [
      "Epoch 362 tst: l 0.841 a 0.766 clct[np.int64(20), np.int64(20)] clct_ans[np.int64(20), np.int64(20)] cl_acc1.000  3.289sec\n"
     ]
    },
    {
     "name": "stdout",
     "output_type": "stream",
     "text": [
      "Epoch 363 tr: l 0.610 a 0.806 clct[np.int64(80), np.int64(80)] clct_ans[np.int64(80), np.int64(80)] cl_acc1.000  lr 0.020850 70.042sec(train) 35.123sec(infer)\n"
     ]
    },
    {
     "name": "stdout",
     "output_type": "stream",
     "text": [
      "Epoch 363 tst: l 0.845 a 0.766 clct[np.int64(20), np.int64(20)] clct_ans[np.int64(20), np.int64(20)] cl_acc1.000  3.328sec\n"
     ]
    },
    {
     "name": "stdout",
     "output_type": "stream",
     "text": [
      "Epoch 364 tr: l 0.611 a 0.807 clct[np.int64(78), np.int64(82)] clct_ans[np.int64(78), np.int64(82)] cl_acc1.000  lr 0.020839 73.920sec(train) 35.009sec(infer)\n"
     ]
    },
    {
     "name": "stdout",
     "output_type": "stream",
     "text": [
      "Epoch 364 tst: l 0.848 a 0.765 clct[np.int64(20), np.int64(20)] clct_ans[np.int64(20), np.int64(20)] cl_acc1.000  3.380sec\n"
     ]
    },
    {
     "name": "stdout",
     "output_type": "stream",
     "text": [
      "Epoch 365 tr: l 0.621 a 0.803 clct[np.int64(83), np.int64(77)] clct_ans[np.int64(83), np.int64(77)] cl_acc1.000  lr 0.020829 70.986sec(train) 34.849sec(infer)\n"
     ]
    },
    {
     "name": "stdout",
     "output_type": "stream",
     "text": [
      "Epoch 365 tst: l 0.851 a 0.766 clct[np.int64(20), np.int64(20)] clct_ans[np.int64(20), np.int64(20)] cl_acc1.000  3.286sec\n"
     ]
    },
    {
     "name": "stdout",
     "output_type": "stream",
     "text": [
      "Epoch 366 tr: l 0.614 a 0.807 clct[np.int64(81), np.int64(79)] clct_ans[np.int64(81), np.int64(79)] cl_acc1.000  lr 0.020818 74.552sec(train) 34.928sec(infer)\n"
     ]
    },
    {
     "name": "stdout",
     "output_type": "stream",
     "text": [
      "Epoch 366 tst: l 0.854 a 0.766 clct[np.int64(20), np.int64(20)] clct_ans[np.int64(20), np.int64(20)] cl_acc1.000  3.279sec\n"
     ]
    },
    {
     "name": "stdout",
     "output_type": "stream",
     "text": [
      "Epoch 367 tr: l 0.619 a 0.806 clct[np.int64(79), np.int64(81)] clct_ans[np.int64(79), np.int64(81)] cl_acc1.000  lr 0.020808 71.311sec(train) 35.904sec(infer)\n"
     ]
    },
    {
     "name": "stdout",
     "output_type": "stream",
     "text": [
      "Epoch 367 tst: l 0.855 a 0.767 clct[np.int64(20), np.int64(20)] clct_ans[np.int64(20), np.int64(20)] cl_acc1.000  3.542sec\n"
     ]
    },
    {
     "name": "stdout",
     "output_type": "stream",
     "text": [
      "Epoch 368 tr: l 0.628 a 0.804 clct[np.int64(78), np.int64(82)] clct_ans[np.int64(78), np.int64(82)] cl_acc1.000  lr 0.020797 77.905sec(train) 35.220sec(infer)\n"
     ]
    },
    {
     "name": "stdout",
     "output_type": "stream",
     "text": [
      "Epoch 368 tst: l 0.860 a 0.766 clct[np.int64(20), np.int64(20)] clct_ans[np.int64(20), np.int64(20)] cl_acc1.000  3.304sec\n"
     ]
    },
    {
     "name": "stdout",
     "output_type": "stream",
     "text": [
      "Epoch 369 tr: l 0.623 a 0.807 clct[np.int64(80), np.int64(80)] clct_ans[np.int64(80), np.int64(80)] cl_acc1.000  lr 0.020787 74.177sec(train) 35.178sec(infer)\n"
     ]
    },
    {
     "name": "stdout",
     "output_type": "stream",
     "text": [
      "Epoch 369 tst: l 0.862 a 0.766 clct[np.int64(20), np.int64(20)] clct_ans[np.int64(20), np.int64(20)] cl_acc1.000  3.580sec\n"
     ]
    },
    {
     "name": "stdout",
     "output_type": "stream",
     "text": [
      "Epoch 370 tr: l 0.617 a 0.806 clct[np.int64(79), np.int64(81)] clct_ans[np.int64(79), np.int64(81)] cl_acc1.000  lr 0.020777 72.185sec(train) 34.969sec(infer)\n"
     ]
    },
    {
     "name": "stdout",
     "output_type": "stream",
     "text": [
      "Epoch 370 tst: l 0.866 a 0.765 clct[np.int64(20), np.int64(20)] clct_ans[np.int64(20), np.int64(20)] cl_acc1.000  3.279sec\n",
      "result written at output_dfca_gi/results.pickle\n"
     ]
    },
    {
     "name": "stdout",
     "output_type": "stream",
     "text": [
      "checkpoint written at output_dfca_gi/checkpoint.pt\n"
     ]
    },
    {
     "name": "stdout",
     "output_type": "stream",
     "text": [
      "Epoch 371 tr: l 0.619 a 0.807 clct[np.int64(82), np.int64(78)] clct_ans[np.int64(82), np.int64(78)] cl_acc1.000  lr 0.020766 71.054sec(train) 35.753sec(infer)\n"
     ]
    },
    {
     "name": "stdout",
     "output_type": "stream",
     "text": [
      "Epoch 371 tst: l 0.869 a 0.765 clct[np.int64(20), np.int64(20)] clct_ans[np.int64(20), np.int64(20)] cl_acc1.000  3.332sec\n"
     ]
    },
    {
     "name": "stdout",
     "output_type": "stream",
     "text": [
      "Epoch 372 tr: l 0.629 a 0.805 clct[np.int64(75), np.int64(85)] clct_ans[np.int64(75), np.int64(85)] cl_acc1.000  lr 0.020756 73.326sec(train) 35.515sec(infer)\n"
     ]
    },
    {
     "name": "stdout",
     "output_type": "stream",
     "text": [
      "Epoch 372 tst: l 0.872 a 0.766 clct[np.int64(20), np.int64(20)] clct_ans[np.int64(20), np.int64(20)] cl_acc1.000  3.366sec\n"
     ]
    },
    {
     "name": "stdout",
     "output_type": "stream",
     "text": [
      "Epoch 373 tr: l 0.623 a 0.807 clct[np.int64(77), np.int64(83)] clct_ans[np.int64(77), np.int64(83)] cl_acc1.000  lr 0.020745 73.866sec(train) 34.935sec(infer)\n"
     ]
    },
    {
     "name": "stdout",
     "output_type": "stream",
     "text": [
      "Epoch 373 tst: l 0.871 a 0.766 clct[np.int64(20), np.int64(20)] clct_ans[np.int64(20), np.int64(20)] cl_acc1.000  3.336sec\n"
     ]
    },
    {
     "name": "stdout",
     "output_type": "stream",
     "text": [
      "Epoch 374 tr: l 0.619 a 0.810 clct[np.int64(78), np.int64(82)] clct_ans[np.int64(78), np.int64(82)] cl_acc1.000  lr 0.020735 70.981sec(train) 35.064sec(infer)\n"
     ]
    },
    {
     "name": "stdout",
     "output_type": "stream",
     "text": [
      "Epoch 374 tst: l 0.875 a 0.767 clct[np.int64(20), np.int64(20)] clct_ans[np.int64(20), np.int64(20)] cl_acc1.000  3.322sec\n"
     ]
    },
    {
     "name": "stdout",
     "output_type": "stream",
     "text": [
      "Epoch 375 tr: l 0.622 a 0.809 clct[np.int64(83), np.int64(77)] clct_ans[np.int64(83), np.int64(77)] cl_acc1.000  lr 0.020725 70.077sec(train) 35.284sec(infer)\n"
     ]
    },
    {
     "name": "stdout",
     "output_type": "stream",
     "text": [
      "Epoch 375 tst: l 0.875 a 0.767 clct[np.int64(20), np.int64(20)] clct_ans[np.int64(20), np.int64(20)] cl_acc1.000  3.300sec\n"
     ]
    },
    {
     "name": "stdout",
     "output_type": "stream",
     "text": [
      "Epoch 376 tr: l 0.625 a 0.809 clct[np.int64(81), np.int64(79)] clct_ans[np.int64(81), np.int64(79)] cl_acc1.000  lr 0.020714 70.574sec(train) 35.120sec(infer)\n"
     ]
    },
    {
     "name": "stdout",
     "output_type": "stream",
     "text": [
      "Epoch 376 tst: l 0.875 a 0.767 clct[np.int64(20), np.int64(20)] clct_ans[np.int64(20), np.int64(20)] cl_acc1.000  3.350sec\n"
     ]
    },
    {
     "name": "stdout",
     "output_type": "stream",
     "text": [
      "Epoch 377 tr: l 0.626 a 0.808 clct[np.int64(85), np.int64(75)] clct_ans[np.int64(85), np.int64(75)] cl_acc1.000  lr 0.020704 72.273sec(train) 35.147sec(infer)\n"
     ]
    },
    {
     "name": "stdout",
     "output_type": "stream",
     "text": [
      "Epoch 377 tst: l 0.878 a 0.767 clct[np.int64(20), np.int64(20)] clct_ans[np.int64(20), np.int64(20)] cl_acc1.000  3.315sec\n"
     ]
    },
    {
     "name": "stdout",
     "output_type": "stream",
     "text": [
      "Epoch 378 tr: l 0.622 a 0.807 clct[np.int64(84), np.int64(76)] clct_ans[np.int64(84), np.int64(76)] cl_acc1.000  lr 0.020694 75.255sec(train) 35.246sec(infer)\n"
     ]
    },
    {
     "name": "stdout",
     "output_type": "stream",
     "text": [
      "Epoch 378 tst: l 0.877 a 0.766 clct[np.int64(20), np.int64(20)] clct_ans[np.int64(20), np.int64(20)] cl_acc1.000  3.300sec\n"
     ]
    },
    {
     "name": "stdout",
     "output_type": "stream",
     "text": [
      "Epoch 379 tr: l 0.619 a 0.808 clct[np.int64(83), np.int64(77)] clct_ans[np.int64(83), np.int64(77)] cl_acc1.000  lr 0.020683 74.047sec(train) 35.313sec(infer)\n"
     ]
    },
    {
     "name": "stdout",
     "output_type": "stream",
     "text": [
      "Epoch 379 tst: l 0.880 a 0.767 clct[np.int64(20), np.int64(20)] clct_ans[np.int64(20), np.int64(20)] cl_acc1.000  3.406sec\n"
     ]
    },
    {
     "name": "stdout",
     "output_type": "stream",
     "text": [
      "Epoch 380 tr: l 0.631 a 0.807 clct[np.int64(77), np.int64(83)] clct_ans[np.int64(77), np.int64(83)] cl_acc1.000  lr 0.020673 69.573sec(train) 35.065sec(infer)\n"
     ]
    },
    {
     "name": "stdout",
     "output_type": "stream",
     "text": [
      "Epoch 380 tst: l 0.887 a 0.766 clct[np.int64(20), np.int64(20)] clct_ans[np.int64(20), np.int64(20)] cl_acc1.000  3.378sec\n",
      "result written at output_dfca_gi/results.pickle\n"
     ]
    },
    {
     "name": "stdout",
     "output_type": "stream",
     "text": [
      "checkpoint written at output_dfca_gi/checkpoint.pt\n"
     ]
    },
    {
     "name": "stdout",
     "output_type": "stream",
     "text": [
      "Epoch 381 tr: l 0.621 a 0.810 clct[np.int64(82), np.int64(78)] clct_ans[np.int64(82), np.int64(78)] cl_acc1.000  lr 0.020663 75.958sec(train) 35.334sec(infer)\n"
     ]
    },
    {
     "name": "stdout",
     "output_type": "stream",
     "text": [
      "Epoch 381 tst: l 0.887 a 0.766 clct[np.int64(20), np.int64(20)] clct_ans[np.int64(20), np.int64(20)] cl_acc1.000  3.372sec\n"
     ]
    },
    {
     "name": "stdout",
     "output_type": "stream",
     "text": [
      "Epoch 382 tr: l 0.631 a 0.807 clct[np.int64(82), np.int64(78)] clct_ans[np.int64(82), np.int64(78)] cl_acc1.000  lr 0.020652 72.318sec(train) 35.163sec(infer)\n"
     ]
    },
    {
     "name": "stdout",
     "output_type": "stream",
     "text": [
      "Epoch 382 tst: l 0.889 a 0.766 clct[np.int64(20), np.int64(20)] clct_ans[np.int64(20), np.int64(20)] cl_acc1.000  3.377sec\n"
     ]
    },
    {
     "name": "stdout",
     "output_type": "stream",
     "text": [
      "Epoch 383 tr: l 0.630 a 0.808 clct[np.int64(82), np.int64(78)] clct_ans[np.int64(82), np.int64(78)] cl_acc1.000  lr 0.020642 73.722sec(train) 34.920sec(infer)\n"
     ]
    },
    {
     "name": "stdout",
     "output_type": "stream",
     "text": [
      "Epoch 383 tst: l 0.891 a 0.767 clct[np.int64(20), np.int64(20)] clct_ans[np.int64(20), np.int64(20)] cl_acc1.000  3.303sec\n"
     ]
    },
    {
     "name": "stdout",
     "output_type": "stream",
     "text": [
      "Epoch 384 tr: l 0.621 a 0.811 clct[np.int64(77), np.int64(83)] clct_ans[np.int64(77), np.int64(83)] cl_acc1.000  lr 0.020632 72.094sec(train) 34.713sec(infer)\n"
     ]
    },
    {
     "name": "stdout",
     "output_type": "stream",
     "text": [
      "Epoch 384 tst: l 0.892 a 0.767 clct[np.int64(20), np.int64(20)] clct_ans[np.int64(20), np.int64(20)] cl_acc1.000  3.360sec\n"
     ]
    },
    {
     "name": "stdout",
     "output_type": "stream",
     "text": [
      "Epoch 385 tr: l 0.628 a 0.807 clct[np.int64(80), np.int64(80)] clct_ans[np.int64(80), np.int64(80)] cl_acc1.000  lr 0.020621 73.777sec(train) 35.164sec(infer)\n"
     ]
    },
    {
     "name": "stdout",
     "output_type": "stream",
     "text": [
      "Epoch 385 tst: l 0.893 a 0.767 clct[np.int64(20), np.int64(20)] clct_ans[np.int64(20), np.int64(20)] cl_acc1.000  3.306sec\n"
     ]
    },
    {
     "name": "stdout",
     "output_type": "stream",
     "text": [
      "Epoch 386 tr: l 0.628 a 0.808 clct[np.int64(78), np.int64(82)] clct_ans[np.int64(78), np.int64(82)] cl_acc1.000  lr 0.020611 73.505sec(train) 35.324sec(infer)\n"
     ]
    },
    {
     "name": "stdout",
     "output_type": "stream",
     "text": [
      "Epoch 386 tst: l 0.898 a 0.767 clct[np.int64(20), np.int64(20)] clct_ans[np.int64(20), np.int64(20)] cl_acc1.000  3.312sec\n"
     ]
    },
    {
     "name": "stdout",
     "output_type": "stream",
     "text": [
      "Epoch 387 tr: l 0.626 a 0.807 clct[np.int64(81), np.int64(79)] clct_ans[np.int64(81), np.int64(79)] cl_acc1.000  lr 0.020601 74.357sec(train) 34.848sec(infer)\n"
     ]
    },
    {
     "name": "stdout",
     "output_type": "stream",
     "text": [
      "Epoch 387 tst: l 0.899 a 0.766 clct[np.int64(20), np.int64(20)] clct_ans[np.int64(20), np.int64(20)] cl_acc1.000  3.383sec\n"
     ]
    },
    {
     "name": "stdout",
     "output_type": "stream",
     "text": [
      "Epoch 388 tr: l 0.629 a 0.809 clct[np.int64(76), np.int64(84)] clct_ans[np.int64(76), np.int64(84)] cl_acc1.000  lr 0.020590 73.350sec(train) 35.254sec(infer)\n"
     ]
    },
    {
     "name": "stdout",
     "output_type": "stream",
     "text": [
      "Epoch 388 tst: l 0.896 a 0.766 clct[np.int64(20), np.int64(20)] clct_ans[np.int64(20), np.int64(20)] cl_acc1.000  3.307sec\n"
     ]
    },
    {
     "name": "stdout",
     "output_type": "stream",
     "text": [
      "Epoch 389 tr: l 0.619 a 0.811 clct[np.int64(80), np.int64(80)] clct_ans[np.int64(80), np.int64(80)] cl_acc1.000  lr 0.020580 72.168sec(train) 34.743sec(infer)\n"
     ]
    },
    {
     "name": "stdout",
     "output_type": "stream",
     "text": [
      "Epoch 389 tst: l 0.897 a 0.766 clct[np.int64(20), np.int64(20)] clct_ans[np.int64(20), np.int64(20)] cl_acc1.000  3.406sec\n"
     ]
    },
    {
     "name": "stdout",
     "output_type": "stream",
     "text": [
      "Epoch 390 tr: l 0.619 a 0.810 clct[np.int64(81), np.int64(79)] clct_ans[np.int64(81), np.int64(79)] cl_acc1.000  lr 0.020570 74.658sec(train) 34.958sec(infer)\n"
     ]
    },
    {
     "name": "stdout",
     "output_type": "stream",
     "text": [
      "Epoch 390 tst: l 0.897 a 0.766 clct[np.int64(20), np.int64(20)] clct_ans[np.int64(20), np.int64(20)] cl_acc1.000  3.303sec\n"
     ]
    },
    {
     "name": "stdout",
     "output_type": "stream",
     "text": [
      "result written at output_dfca_gi/results.pickle\n",
      "checkpoint written at output_dfca_gi/checkpoint.pt\n"
     ]
    },
    {
     "name": "stdout",
     "output_type": "stream",
     "text": [
      "Epoch 391 tr: l 0.622 a 0.810 clct[np.int64(80), np.int64(80)] clct_ans[np.int64(80), np.int64(80)] cl_acc1.000  lr 0.020560 71.342sec(train) 34.960sec(infer)\n"
     ]
    },
    {
     "name": "stdout",
     "output_type": "stream",
     "text": [
      "Epoch 391 tst: l 0.901 a 0.767 clct[np.int64(20), np.int64(20)] clct_ans[np.int64(20), np.int64(20)] cl_acc1.000  3.296sec\n"
     ]
    },
    {
     "name": "stdout",
     "output_type": "stream",
     "text": [
      "Epoch 392 tr: l 0.630 a 0.810 clct[np.int64(83), np.int64(77)] clct_ans[np.int64(83), np.int64(77)] cl_acc1.000  lr 0.020549 71.870sec(train) 34.724sec(infer)\n"
     ]
    },
    {
     "name": "stdout",
     "output_type": "stream",
     "text": [
      "Epoch 392 tst: l 0.906 a 0.767 clct[np.int64(20), np.int64(20)] clct_ans[np.int64(20), np.int64(20)] cl_acc1.000  3.318sec\n"
     ]
    },
    {
     "name": "stdout",
     "output_type": "stream",
     "text": [
      "Epoch 393 tr: l 0.633 a 0.807 clct[np.int64(83), np.int64(77)] clct_ans[np.int64(83), np.int64(77)] cl_acc1.000  lr 0.020539 71.507sec(train) 35.073sec(infer)\n"
     ]
    },
    {
     "name": "stdout",
     "output_type": "stream",
     "text": [
      "Epoch 393 tst: l 0.904 a 0.766 clct[np.int64(20), np.int64(20)] clct_ans[np.int64(20), np.int64(20)] cl_acc1.000  3.292sec\n"
     ]
    },
    {
     "name": "stdout",
     "output_type": "stream",
     "text": [
      "Epoch 394 tr: l 0.632 a 0.809 clct[np.int64(78), np.int64(82)] clct_ans[np.int64(78), np.int64(82)] cl_acc1.000  lr 0.020529 71.756sec(train) 34.793sec(infer)\n"
     ]
    },
    {
     "name": "stdout",
     "output_type": "stream",
     "text": [
      "Epoch 394 tst: l 0.903 a 0.767 clct[np.int64(20), np.int64(20)] clct_ans[np.int64(20), np.int64(20)] cl_acc1.000  3.273sec\n"
     ]
    },
    {
     "name": "stdout",
     "output_type": "stream",
     "text": [
      "Epoch 395 tr: l 0.635 a 0.808 clct[np.int64(82), np.int64(78)] clct_ans[np.int64(82), np.int64(78)] cl_acc1.000  lr 0.020518 72.846sec(train) 34.913sec(infer)\n"
     ]
    },
    {
     "name": "stdout",
     "output_type": "stream",
     "text": [
      "Epoch 395 tst: l 0.907 a 0.768 clct[np.int64(20), np.int64(20)] clct_ans[np.int64(20), np.int64(20)] cl_acc1.000  3.300sec\n"
     ]
    },
    {
     "name": "stdout",
     "output_type": "stream",
     "text": [
      "Epoch 396 tr: l 0.623 a 0.811 clct[np.int64(78), np.int64(82)] clct_ans[np.int64(78), np.int64(82)] cl_acc1.000  lr 0.020508 71.559sec(train) 35.230sec(infer)\n"
     ]
    },
    {
     "name": "stdout",
     "output_type": "stream",
     "text": [
      "Epoch 396 tst: l 0.907 a 0.765 clct[np.int64(20), np.int64(20)] clct_ans[np.int64(20), np.int64(20)] cl_acc1.000  3.276sec\n"
     ]
    },
    {
     "name": "stdout",
     "output_type": "stream",
     "text": [
      "Epoch 397 tr: l 0.637 a 0.807 clct[np.int64(79), np.int64(81)] clct_ans[np.int64(79), np.int64(81)] cl_acc1.000  lr 0.020498 72.586sec(train) 35.185sec(infer)\n"
     ]
    },
    {
     "name": "stdout",
     "output_type": "stream",
     "text": [
      "Epoch 397 tst: l 0.910 a 0.767 clct[np.int64(20), np.int64(20)] clct_ans[np.int64(20), np.int64(20)] cl_acc1.000  3.443sec\n"
     ]
    },
    {
     "name": "stdout",
     "output_type": "stream",
     "text": [
      "Epoch 398 tr: l 0.631 a 0.810 clct[np.int64(80), np.int64(80)] clct_ans[np.int64(80), np.int64(80)] cl_acc1.000  lr 0.020488 72.996sec(train) 35.225sec(infer)\n"
     ]
    },
    {
     "name": "stdout",
     "output_type": "stream",
     "text": [
      "Epoch 398 tst: l 0.911 a 0.767 clct[np.int64(20), np.int64(20)] clct_ans[np.int64(20), np.int64(20)] cl_acc1.000  3.303sec\n"
     ]
    },
    {
     "name": "stdout",
     "output_type": "stream",
     "text": [
      "Epoch 399 tr: l 0.621 a 0.813 clct[np.int64(82), np.int64(78)] clct_ans[np.int64(82), np.int64(78)] cl_acc1.000  lr 0.020477 72.370sec(train) 35.068sec(infer)\n"
     ]
    },
    {
     "name": "stdout",
     "output_type": "stream",
     "text": [
      "Epoch 399 tst: l 0.914 a 0.766 clct[np.int64(20), np.int64(20)] clct_ans[np.int64(20), np.int64(20)] cl_acc1.000  3.325sec\n"
     ]
    },
    {
     "name": "stdout",
     "output_type": "stream",
     "text": [
      "Epoch 400 tr: l 0.633 a 0.810 clct[np.int64(86), np.int64(74)] clct_ans[np.int64(86), np.int64(74)] cl_acc1.000  lr 0.020467 73.278sec(train) 35.198sec(infer)\n"
     ]
    },
    {
     "name": "stdout",
     "output_type": "stream",
     "text": [
      "Epoch 400 tst: l 0.916 a 0.767 clct[np.int64(20), np.int64(20)] clct_ans[np.int64(20), np.int64(20)] cl_acc1.000  3.316sec\n"
     ]
    },
    {
     "name": "stdout",
     "output_type": "stream",
     "text": [
      "result written at output_dfca_gi/results.pickle\n",
      "checkpoint written at output_dfca_gi/checkpoint.pt\n"
     ]
    },
    {
     "name": "stdout",
     "output_type": "stream",
     "text": [
      "Epoch 401 tr: l 0.632 a 0.810 clct[np.int64(82), np.int64(78)] clct_ans[np.int64(82), np.int64(78)] cl_acc1.000  lr 0.020457 72.886sec(train) 35.489sec(infer)\n"
     ]
    },
    {
     "name": "stdout",
     "output_type": "stream",
     "text": [
      "Epoch 401 tst: l 0.917 a 0.766 clct[np.int64(20), np.int64(20)] clct_ans[np.int64(20), np.int64(20)] cl_acc1.000  3.333sec\n"
     ]
    },
    {
     "name": "stdout",
     "output_type": "stream",
     "text": [
      "Epoch 402 tr: l 0.626 a 0.814 clct[np.int64(85), np.int64(75)] clct_ans[np.int64(85), np.int64(75)] cl_acc1.000  lr 0.020447 71.915sec(train) 35.366sec(infer)\n"
     ]
    },
    {
     "name": "stdout",
     "output_type": "stream",
     "text": [
      "Epoch 402 tst: l 0.919 a 0.766 clct[np.int64(20), np.int64(20)] clct_ans[np.int64(20), np.int64(20)] cl_acc1.000  3.355sec\n"
     ]
    },
    {
     "name": "stdout",
     "output_type": "stream",
     "text": [
      "Epoch 403 tr: l 0.624 a 0.810 clct[np.int64(78), np.int64(82)] clct_ans[np.int64(78), np.int64(82)] cl_acc1.000  lr 0.020437 68.151sec(train) 34.892sec(infer)\n"
     ]
    },
    {
     "name": "stdout",
     "output_type": "stream",
     "text": [
      "Epoch 403 tst: l 0.919 a 0.766 clct[np.int64(20), np.int64(20)] clct_ans[np.int64(20), np.int64(20)] cl_acc1.000  3.323sec\n"
     ]
    },
    {
     "name": "stdout",
     "output_type": "stream",
     "text": [
      "Epoch 404 tr: l 0.628 a 0.812 clct[np.int64(80), np.int64(80)] clct_ans[np.int64(80), np.int64(80)] cl_acc1.000  lr 0.020426 70.643sec(train) 35.042sec(infer)\n"
     ]
    },
    {
     "name": "stdout",
     "output_type": "stream",
     "text": [
      "Epoch 404 tst: l 0.921 a 0.766 clct[np.int64(20), np.int64(20)] clct_ans[np.int64(20), np.int64(20)] cl_acc1.000  3.284sec\n"
     ]
    },
    {
     "name": "stdout",
     "output_type": "stream",
     "text": [
      "Epoch 405 tr: l 0.632 a 0.810 clct[np.int64(76), np.int64(84)] clct_ans[np.int64(76), np.int64(84)] cl_acc1.000  lr 0.020416 72.700sec(train) 34.935sec(infer)\n"
     ]
    },
    {
     "name": "stdout",
     "output_type": "stream",
     "text": [
      "Epoch 405 tst: l 0.921 a 0.766 clct[np.int64(20), np.int64(20)] clct_ans[np.int64(20), np.int64(20)] cl_acc1.000  3.542sec\n"
     ]
    },
    {
     "name": "stdout",
     "output_type": "stream",
     "text": [
      "Epoch 406 tr: l 0.635 a 0.808 clct[np.int64(83), np.int64(77)] clct_ans[np.int64(83), np.int64(77)] cl_acc1.000  lr 0.020406 74.153sec(train) 35.239sec(infer)\n"
     ]
    },
    {
     "name": "stdout",
     "output_type": "stream",
     "text": [
      "Epoch 406 tst: l 0.921 a 0.766 clct[np.int64(20), np.int64(20)] clct_ans[np.int64(20), np.int64(20)] cl_acc1.000  3.314sec\n"
     ]
    },
    {
     "name": "stdout",
     "output_type": "stream",
     "text": [
      "Epoch 407 tr: l 0.636 a 0.810 clct[np.int64(88), np.int64(72)] clct_ans[np.int64(88), np.int64(72)] cl_acc1.000  lr 0.020396 71.246sec(train) 35.383sec(infer)\n"
     ]
    },
    {
     "name": "stdout",
     "output_type": "stream",
     "text": [
      "Epoch 407 tst: l 0.922 a 0.767 clct[np.int64(20), np.int64(20)] clct_ans[np.int64(20), np.int64(20)] cl_acc1.000  3.345sec\n"
     ]
    },
    {
     "name": "stdout",
     "output_type": "stream",
     "text": [
      "Epoch 408 tr: l 0.625 a 0.811 clct[np.int64(78), np.int64(82)] clct_ans[np.int64(78), np.int64(82)] cl_acc1.000  lr 0.020386 73.116sec(train) 34.927sec(infer)\n"
     ]
    },
    {
     "name": "stdout",
     "output_type": "stream",
     "text": [
      "Epoch 408 tst: l 0.921 a 0.767 clct[np.int64(20), np.int64(20)] clct_ans[np.int64(20), np.int64(20)] cl_acc1.000  3.352sec\n"
     ]
    },
    {
     "name": "stdout",
     "output_type": "stream",
     "text": [
      "Epoch 409 tr: l 0.616 a 0.814 clct[np.int64(82), np.int64(78)] clct_ans[np.int64(82), np.int64(78)] cl_acc1.000  lr 0.020375 73.307sec(train) 35.092sec(infer)\n"
     ]
    },
    {
     "name": "stdout",
     "output_type": "stream",
     "text": [
      "Epoch 409 tst: l 0.923 a 0.767 clct[np.int64(20), np.int64(20)] clct_ans[np.int64(20), np.int64(20)] cl_acc1.000  3.321sec\n"
     ]
    },
    {
     "name": "stdout",
     "output_type": "stream",
     "text": [
      "Epoch 410 tr: l 0.628 a 0.812 clct[np.int64(80), np.int64(80)] clct_ans[np.int64(80), np.int64(80)] cl_acc1.000  lr 0.020365 74.558sec(train) 34.885sec(infer)\n"
     ]
    },
    {
     "name": "stdout",
     "output_type": "stream",
     "text": [
      "Epoch 410 tst: l 0.927 a 0.767 clct[np.int64(20), np.int64(20)] clct_ans[np.int64(20), np.int64(20)] cl_acc1.000  3.301sec\n"
     ]
    },
    {
     "name": "stdout",
     "output_type": "stream",
     "text": [
      "result written at output_dfca_gi/results.pickle\n",
      "checkpoint written at output_dfca_gi/checkpoint.pt\n"
     ]
    },
    {
     "name": "stdout",
     "output_type": "stream",
     "text": [
      "Epoch 411 tr: l 0.631 a 0.810 clct[np.int64(79), np.int64(81)] clct_ans[np.int64(79), np.int64(81)] cl_acc1.000  lr 0.020355 74.425sec(train) 35.149sec(infer)\n"
     ]
    },
    {
     "name": "stdout",
     "output_type": "stream",
     "text": [
      "Epoch 411 tst: l 0.928 a 0.766 clct[np.int64(20), np.int64(20)] clct_ans[np.int64(20), np.int64(20)] cl_acc1.000  3.291sec\n"
     ]
    },
    {
     "name": "stdout",
     "output_type": "stream",
     "text": [
      "Epoch 412 tr: l 0.632 a 0.811 clct[np.int64(80), np.int64(80)] clct_ans[np.int64(80), np.int64(80)] cl_acc1.000  lr 0.020345 73.360sec(train) 34.781sec(infer)\n"
     ]
    },
    {
     "name": "stdout",
     "output_type": "stream",
     "text": [
      "Epoch 412 tst: l 0.929 a 0.767 clct[np.int64(20), np.int64(20)] clct_ans[np.int64(20), np.int64(20)] cl_acc1.000  3.333sec\n"
     ]
    },
    {
     "name": "stdout",
     "output_type": "stream",
     "text": [
      "Epoch 413 tr: l 0.632 a 0.813 clct[np.int64(80), np.int64(80)] clct_ans[np.int64(80), np.int64(80)] cl_acc1.000  lr 0.020335 70.939sec(train) 35.022sec(infer)\n"
     ]
    },
    {
     "name": "stdout",
     "output_type": "stream",
     "text": [
      "Epoch 413 tst: l 0.934 a 0.766 clct[np.int64(20), np.int64(20)] clct_ans[np.int64(20), np.int64(20)] cl_acc1.000  3.289sec\n"
     ]
    },
    {
     "name": "stdout",
     "output_type": "stream",
     "text": [
      "Epoch 414 tr: l 0.630 a 0.812 clct[np.int64(81), np.int64(79)] clct_ans[np.int64(81), np.int64(79)] cl_acc1.000  lr 0.020324 71.612sec(train) 34.860sec(infer)\n"
     ]
    },
    {
     "name": "stdout",
     "output_type": "stream",
     "text": [
      "Epoch 414 tst: l 0.932 a 0.767 clct[np.int64(20), np.int64(20)] clct_ans[np.int64(20), np.int64(20)] cl_acc1.000  3.279sec\n"
     ]
    },
    {
     "name": "stdout",
     "output_type": "stream",
     "text": [
      "Epoch 415 tr: l 0.623 a 0.813 clct[np.int64(77), np.int64(83)] clct_ans[np.int64(77), np.int64(83)] cl_acc1.000  lr 0.020314 74.524sec(train) 35.026sec(infer)\n"
     ]
    },
    {
     "name": "stdout",
     "output_type": "stream",
     "text": [
      "Epoch 415 tst: l 0.933 a 0.767 clct[np.int64(20), np.int64(20)] clct_ans[np.int64(20), np.int64(20)] cl_acc1.000  3.302sec\n"
     ]
    },
    {
     "name": "stdout",
     "output_type": "stream",
     "text": [
      "Epoch 416 tr: l 0.631 a 0.812 clct[np.int64(83), np.int64(77)] clct_ans[np.int64(83), np.int64(77)] cl_acc1.000  lr 0.020304 71.591sec(train) 34.859sec(infer)\n"
     ]
    },
    {
     "name": "stdout",
     "output_type": "stream",
     "text": [
      "Epoch 416 tst: l 0.933 a 0.766 clct[np.int64(20), np.int64(20)] clct_ans[np.int64(20), np.int64(20)] cl_acc1.000  3.327sec\n"
     ]
    },
    {
     "name": "stdout",
     "output_type": "stream",
     "text": [
      "Epoch 417 tr: l 0.628 a 0.813 clct[np.int64(78), np.int64(82)] clct_ans[np.int64(78), np.int64(82)] cl_acc1.000  lr 0.020294 69.601sec(train) 35.137sec(infer)\n"
     ]
    },
    {
     "name": "stdout",
     "output_type": "stream",
     "text": [
      "Epoch 417 tst: l 0.932 a 0.768 clct[np.int64(20), np.int64(20)] clct_ans[np.int64(20), np.int64(20)] cl_acc1.000  3.294sec\n"
     ]
    },
    {
     "name": "stdout",
     "output_type": "stream",
     "text": [
      "Epoch 418 tr: l 0.625 a 0.814 clct[np.int64(81), np.int64(79)] clct_ans[np.int64(81), np.int64(79)] cl_acc1.000  lr 0.020284 73.977sec(train) 35.176sec(infer)\n"
     ]
    },
    {
     "name": "stdout",
     "output_type": "stream",
     "text": [
      "Epoch 418 tst: l 0.934 a 0.767 clct[np.int64(20), np.int64(20)] clct_ans[np.int64(20), np.int64(20)] cl_acc1.000  3.388sec\n"
     ]
    },
    {
     "name": "stdout",
     "output_type": "stream",
     "text": [
      "Epoch 419 tr: l 0.632 a 0.810 clct[np.int64(82), np.int64(78)] clct_ans[np.int64(82), np.int64(78)] cl_acc1.000  lr 0.020274 73.181sec(train) 35.472sec(infer)\n"
     ]
    },
    {
     "name": "stdout",
     "output_type": "stream",
     "text": [
      "Epoch 419 tst: l 0.933 a 0.766 clct[np.int64(20), np.int64(20)] clct_ans[np.int64(20), np.int64(20)] cl_acc1.000  3.327sec\n"
     ]
    },
    {
     "name": "stdout",
     "output_type": "stream",
     "text": [
      "Epoch 420 tr: l 0.625 a 0.813 clct[np.int64(80), np.int64(80)] clct_ans[np.int64(80), np.int64(80)] cl_acc1.000  lr 0.020264 74.473sec(train) 35.330sec(infer)\n"
     ]
    },
    {
     "name": "stdout",
     "output_type": "stream",
     "text": [
      "Epoch 420 tst: l 0.935 a 0.766 clct[np.int64(20), np.int64(20)] clct_ans[np.int64(20), np.int64(20)] cl_acc1.000  3.325sec\n"
     ]
    },
    {
     "name": "stdout",
     "output_type": "stream",
     "text": [
      "result written at output_dfca_gi/results.pickle\n",
      "checkpoint written at output_dfca_gi/checkpoint.pt\n"
     ]
    },
    {
     "name": "stdout",
     "output_type": "stream",
     "text": [
      "Epoch 421 tr: l 0.634 a 0.811 clct[np.int64(77), np.int64(83)] clct_ans[np.int64(77), np.int64(83)] cl_acc1.000  lr 0.020253 72.001sec(train) 35.210sec(infer)\n"
     ]
    },
    {
     "name": "stdout",
     "output_type": "stream",
     "text": [
      "Epoch 421 tst: l 0.936 a 0.766 clct[np.int64(20), np.int64(20)] clct_ans[np.int64(20), np.int64(20)] cl_acc1.000  3.321sec\n"
     ]
    },
    {
     "name": "stdout",
     "output_type": "stream",
     "text": [
      "Epoch 422 tr: l 0.631 a 0.813 clct[np.int64(74), np.int64(86)] clct_ans[np.int64(74), np.int64(86)] cl_acc1.000  lr 0.020243 71.995sec(train) 35.097sec(infer)\n"
     ]
    },
    {
     "name": "stdout",
     "output_type": "stream",
     "text": [
      "Epoch 422 tst: l 0.937 a 0.767 clct[np.int64(20), np.int64(20)] clct_ans[np.int64(20), np.int64(20)] cl_acc1.000  3.368sec\n"
     ]
    },
    {
     "name": "stdout",
     "output_type": "stream",
     "text": [
      "Epoch 423 tr: l 0.634 a 0.812 clct[np.int64(79), np.int64(81)] clct_ans[np.int64(79), np.int64(81)] cl_acc1.000  lr 0.020233 70.734sec(train) 34.879sec(infer)\n"
     ]
    },
    {
     "name": "stdout",
     "output_type": "stream",
     "text": [
      "Epoch 423 tst: l 0.936 a 0.766 clct[np.int64(20), np.int64(20)] clct_ans[np.int64(20), np.int64(20)] cl_acc1.000  3.390sec\n"
     ]
    },
    {
     "name": "stdout",
     "output_type": "stream",
     "text": [
      "Epoch 424 tr: l 0.632 a 0.812 clct[np.int64(80), np.int64(80)] clct_ans[np.int64(80), np.int64(80)] cl_acc1.000  lr 0.020223 74.173sec(train) 35.066sec(infer)\n"
     ]
    },
    {
     "name": "stdout",
     "output_type": "stream",
     "text": [
      "Epoch 424 tst: l 0.938 a 0.766 clct[np.int64(20), np.int64(20)] clct_ans[np.int64(20), np.int64(20)] cl_acc1.000  3.355sec\n"
     ]
    },
    {
     "name": "stdout",
     "output_type": "stream",
     "text": [
      "Epoch 425 tr: l 0.628 a 0.812 clct[np.int64(84), np.int64(76)] clct_ans[np.int64(84), np.int64(76)] cl_acc1.000  lr 0.020213 72.095sec(train) 35.110sec(infer)\n"
     ]
    },
    {
     "name": "stdout",
     "output_type": "stream",
     "text": [
      "Epoch 425 tst: l 0.940 a 0.766 clct[np.int64(20), np.int64(20)] clct_ans[np.int64(20), np.int64(20)] cl_acc1.000  3.319sec\n"
     ]
    },
    {
     "name": "stdout",
     "output_type": "stream",
     "text": [
      "Epoch 426 tr: l 0.637 a 0.811 clct[np.int64(84), np.int64(76)] clct_ans[np.int64(84), np.int64(76)] cl_acc1.000  lr 0.020203 72.422sec(train) 35.140sec(infer)\n"
     ]
    },
    {
     "name": "stdout",
     "output_type": "stream",
     "text": [
      "Epoch 426 tst: l 0.939 a 0.767 clct[np.int64(20), np.int64(20)] clct_ans[np.int64(20), np.int64(20)] cl_acc1.000  3.344sec\n"
     ]
    },
    {
     "name": "stdout",
     "output_type": "stream",
     "text": [
      "Epoch 427 tr: l 0.634 a 0.812 clct[np.int64(82), np.int64(78)] clct_ans[np.int64(82), np.int64(78)] cl_acc1.000  lr 0.020193 72.326sec(train) 35.064sec(infer)\n"
     ]
    },
    {
     "name": "stdout",
     "output_type": "stream",
     "text": [
      "Epoch 427 tst: l 0.940 a 0.767 clct[np.int64(20), np.int64(20)] clct_ans[np.int64(20), np.int64(20)] cl_acc1.000  3.360sec\n"
     ]
    },
    {
     "name": "stdout",
     "output_type": "stream",
     "text": [
      "Epoch 428 tr: l 0.618 a 0.815 clct[np.int64(80), np.int64(80)] clct_ans[np.int64(80), np.int64(80)] cl_acc1.000  lr 0.020183 72.877sec(train) 35.172sec(infer)\n"
     ]
    },
    {
     "name": "stdout",
     "output_type": "stream",
     "text": [
      "Epoch 428 tst: l 0.942 a 0.766 clct[np.int64(20), np.int64(20)] clct_ans[np.int64(20), np.int64(20)] cl_acc1.000  3.328sec\n"
     ]
    },
    {
     "name": "stdout",
     "output_type": "stream",
     "text": [
      "Epoch 429 tr: l 0.640 a 0.812 clct[np.int64(77), np.int64(83)] clct_ans[np.int64(77), np.int64(83)] cl_acc1.000  lr 0.020173 73.517sec(train) 35.088sec(infer)\n"
     ]
    },
    {
     "name": "stdout",
     "output_type": "stream",
     "text": [
      "Epoch 429 tst: l 0.942 a 0.766 clct[np.int64(20), np.int64(20)] clct_ans[np.int64(20), np.int64(20)] cl_acc1.000  3.311sec\n"
     ]
    },
    {
     "name": "stdout",
     "output_type": "stream",
     "text": [
      "Epoch 430 tr: l 0.629 a 0.815 clct[np.int64(79), np.int64(81)] clct_ans[np.int64(79), np.int64(81)] cl_acc1.000  lr 0.020162 73.861sec(train) 34.972sec(infer)\n"
     ]
    },
    {
     "name": "stdout",
     "output_type": "stream",
     "text": [
      "Epoch 430 tst: l 0.944 a 0.767 clct[np.int64(20), np.int64(20)] clct_ans[np.int64(20), np.int64(20)] cl_acc1.000  3.465sec\n"
     ]
    },
    {
     "name": "stdout",
     "output_type": "stream",
     "text": [
      "result written at output_dfca_gi/results.pickle\n",
      "checkpoint written at output_dfca_gi/checkpoint.pt\n"
     ]
    },
    {
     "name": "stdout",
     "output_type": "stream",
     "text": [
      "Epoch 431 tr: l 0.630 a 0.814 clct[np.int64(82), np.int64(78)] clct_ans[np.int64(82), np.int64(78)] cl_acc1.000  lr 0.020152 72.705sec(train) 35.011sec(infer)\n"
     ]
    },
    {
     "name": "stdout",
     "output_type": "stream",
     "text": [
      "Epoch 431 tst: l 0.946 a 0.766 clct[np.int64(20), np.int64(20)] clct_ans[np.int64(20), np.int64(20)] cl_acc1.000  3.366sec\n"
     ]
    },
    {
     "name": "stdout",
     "output_type": "stream",
     "text": [
      "Epoch 432 tr: l 0.624 a 0.815 clct[np.int64(77), np.int64(83)] clct_ans[np.int64(77), np.int64(83)] cl_acc1.000  lr 0.020142 72.919sec(train) 34.954sec(infer)\n"
     ]
    },
    {
     "name": "stdout",
     "output_type": "stream",
     "text": [
      "Epoch 432 tst: l 0.945 a 0.767 clct[np.int64(20), np.int64(20)] clct_ans[np.int64(20), np.int64(20)] cl_acc1.000  3.294sec\n"
     ]
    },
    {
     "name": "stdout",
     "output_type": "stream",
     "text": [
      "Epoch 433 tr: l 0.633 a 0.814 clct[np.int64(75), np.int64(85)] clct_ans[np.int64(75), np.int64(85)] cl_acc1.000  lr 0.020132 68.526sec(train) 34.936sec(infer)\n"
     ]
    },
    {
     "name": "stdout",
     "output_type": "stream",
     "text": [
      "Epoch 433 tst: l 0.943 a 0.767 clct[np.int64(20), np.int64(20)] clct_ans[np.int64(20), np.int64(20)] cl_acc1.000  3.425sec\n"
     ]
    },
    {
     "name": "stdout",
     "output_type": "stream",
     "text": [
      "Epoch 434 tr: l 0.632 a 0.814 clct[np.int64(80), np.int64(80)] clct_ans[np.int64(80), np.int64(80)] cl_acc1.000  lr 0.020122 72.512sec(train) 35.234sec(infer)\n"
     ]
    },
    {
     "name": "stdout",
     "output_type": "stream",
     "text": [
      "Epoch 434 tst: l 0.945 a 0.767 clct[np.int64(20), np.int64(20)] clct_ans[np.int64(20), np.int64(20)] cl_acc1.000  3.301sec\n"
     ]
    },
    {
     "name": "stdout",
     "output_type": "stream",
     "text": [
      "Epoch 435 tr: l 0.640 a 0.813 clct[np.int64(82), np.int64(78)] clct_ans[np.int64(82), np.int64(78)] cl_acc1.000  lr 0.020112 73.369sec(train) 35.091sec(infer)\n"
     ]
    },
    {
     "name": "stdout",
     "output_type": "stream",
     "text": [
      "Epoch 435 tst: l 0.944 a 0.767 clct[np.int64(20), np.int64(20)] clct_ans[np.int64(20), np.int64(20)] cl_acc1.000  3.283sec\n"
     ]
    },
    {
     "name": "stdout",
     "output_type": "stream",
     "text": [
      "Epoch 436 tr: l 0.633 a 0.813 clct[np.int64(79), np.int64(81)] clct_ans[np.int64(79), np.int64(81)] cl_acc1.000  lr 0.020102 71.035sec(train) 35.342sec(infer)\n"
     ]
    },
    {
     "name": "stdout",
     "output_type": "stream",
     "text": [
      "Epoch 436 tst: l 0.946 a 0.767 clct[np.int64(20), np.int64(20)] clct_ans[np.int64(20), np.int64(20)] cl_acc1.000  3.314sec\n"
     ]
    },
    {
     "name": "stdout",
     "output_type": "stream",
     "text": [
      "Epoch 437 tr: l 0.624 a 0.815 clct[np.int64(84), np.int64(76)] clct_ans[np.int64(84), np.int64(76)] cl_acc1.000  lr 0.020092 71.051sec(train) 35.184sec(infer)\n"
     ]
    },
    {
     "name": "stdout",
     "output_type": "stream",
     "text": [
      "Epoch 437 tst: l 0.948 a 0.767 clct[np.int64(20), np.int64(20)] clct_ans[np.int64(20), np.int64(20)] cl_acc1.000  3.276sec\n"
     ]
    },
    {
     "name": "stdout",
     "output_type": "stream",
     "text": [
      "Epoch 438 tr: l 0.630 a 0.814 clct[np.int64(80), np.int64(80)] clct_ans[np.int64(80), np.int64(80)] cl_acc1.000  lr 0.020082 70.985sec(train) 35.578sec(infer)\n"
     ]
    },
    {
     "name": "stdout",
     "output_type": "stream",
     "text": [
      "Epoch 438 tst: l 0.946 a 0.768 clct[np.int64(20), np.int64(20)] clct_ans[np.int64(20), np.int64(20)] cl_acc1.000  3.323sec\n"
     ]
    },
    {
     "name": "stdout",
     "output_type": "stream",
     "text": [
      "Epoch 439 tr: l 0.638 a 0.813 clct[np.int64(78), np.int64(82)] clct_ans[np.int64(78), np.int64(82)] cl_acc1.000  lr 0.020072 71.862sec(train) 35.777sec(infer)\n"
     ]
    },
    {
     "name": "stdout",
     "output_type": "stream",
     "text": [
      "Epoch 439 tst: l 0.947 a 0.767 clct[np.int64(20), np.int64(20)] clct_ans[np.int64(20), np.int64(20)] cl_acc1.000  3.464sec\n"
     ]
    },
    {
     "name": "stdout",
     "output_type": "stream",
     "text": [
      "Epoch 440 tr: l 0.627 a 0.814 clct[np.int64(81), np.int64(79)] clct_ans[np.int64(81), np.int64(79)] cl_acc1.000  lr 0.020062 72.994sec(train) 35.487sec(infer)\n"
     ]
    },
    {
     "name": "stdout",
     "output_type": "stream",
     "text": [
      "Epoch 440 tst: l 0.948 a 0.767 clct[np.int64(20), np.int64(20)] clct_ans[np.int64(20), np.int64(20)] cl_acc1.000  3.345sec\n"
     ]
    },
    {
     "name": "stdout",
     "output_type": "stream",
     "text": [
      "result written at output_dfca_gi/results.pickle\n",
      "checkpoint written at output_dfca_gi/checkpoint.pt\n"
     ]
    },
    {
     "name": "stdout",
     "output_type": "stream",
     "text": [
      "Epoch 441 tr: l 0.639 a 0.811 clct[np.int64(80), np.int64(80)] clct_ans[np.int64(80), np.int64(80)] cl_acc1.000  lr 0.020052 76.272sec(train) 35.848sec(infer)\n"
     ]
    },
    {
     "name": "stdout",
     "output_type": "stream",
     "text": [
      "Epoch 441 tst: l 0.951 a 0.767 clct[np.int64(20), np.int64(20)] clct_ans[np.int64(20), np.int64(20)] cl_acc1.000  3.412sec\n"
     ]
    },
    {
     "name": "stdout",
     "output_type": "stream",
     "text": [
      "Epoch 442 tr: l 0.638 a 0.811 clct[np.int64(74), np.int64(86)] clct_ans[np.int64(74), np.int64(86)] cl_acc1.000  lr 0.020042 76.558sec(train) 35.096sec(infer)\n"
     ]
    },
    {
     "name": "stdout",
     "output_type": "stream",
     "text": [
      "Epoch 442 tst: l 0.953 a 0.767 clct[np.int64(20), np.int64(20)] clct_ans[np.int64(20), np.int64(20)] cl_acc1.000  3.355sec\n"
     ]
    },
    {
     "name": "stdout",
     "output_type": "stream",
     "text": [
      "Epoch 443 tr: l 0.633 a 0.813 clct[np.int64(79), np.int64(81)] clct_ans[np.int64(79), np.int64(81)] cl_acc1.000  lr 0.020032 73.798sec(train) 35.209sec(infer)\n"
     ]
    },
    {
     "name": "stdout",
     "output_type": "stream",
     "text": [
      "Epoch 443 tst: l 0.954 a 0.767 clct[np.int64(20), np.int64(20)] clct_ans[np.int64(20), np.int64(20)] cl_acc1.000  3.437sec\n"
     ]
    },
    {
     "name": "stdout",
     "output_type": "stream",
     "text": [
      "Epoch 444 tr: l 0.636 a 0.812 clct[np.int64(80), np.int64(80)] clct_ans[np.int64(80), np.int64(80)] cl_acc1.000  lr 0.020022 73.491sec(train) 35.243sec(infer)\n"
     ]
    },
    {
     "name": "stdout",
     "output_type": "stream",
     "text": [
      "Epoch 444 tst: l 0.956 a 0.766 clct[np.int64(20), np.int64(20)] clct_ans[np.int64(20), np.int64(20)] cl_acc1.000  3.312sec\n"
     ]
    },
    {
     "name": "stdout",
     "output_type": "stream",
     "text": [
      "Epoch 445 tr: l 0.628 a 0.814 clct[np.int64(77), np.int64(83)] clct_ans[np.int64(77), np.int64(83)] cl_acc1.000  lr 0.020012 74.623sec(train) 35.141sec(infer)\n"
     ]
    },
    {
     "name": "stdout",
     "output_type": "stream",
     "text": [
      "Epoch 445 tst: l 0.952 a 0.766 clct[np.int64(20), np.int64(20)] clct_ans[np.int64(20), np.int64(20)] cl_acc1.000  3.393sec\n"
     ]
    },
    {
     "name": "stdout",
     "output_type": "stream",
     "text": [
      "Epoch 446 tr: l 0.619 a 0.818 clct[np.int64(79), np.int64(81)] clct_ans[np.int64(79), np.int64(81)] cl_acc1.000  lr 0.020002 73.083sec(train) 35.444sec(infer)\n"
     ]
    },
    {
     "name": "stdout",
     "output_type": "stream",
     "text": [
      "Epoch 446 tst: l 0.957 a 0.767 clct[np.int64(20), np.int64(20)] clct_ans[np.int64(20), np.int64(20)] cl_acc1.000  3.367sec\n"
     ]
    },
    {
     "name": "stdout",
     "output_type": "stream",
     "text": [
      "Epoch 447 tr: l 0.625 a 0.814 clct[np.int64(80), np.int64(80)] clct_ans[np.int64(80), np.int64(80)] cl_acc1.000  lr 0.019992 74.559sec(train) 35.101sec(infer)\n"
     ]
    },
    {
     "name": "stdout",
     "output_type": "stream",
     "text": [
      "Epoch 447 tst: l 0.958 a 0.767 clct[np.int64(20), np.int64(20)] clct_ans[np.int64(20), np.int64(20)] cl_acc1.000  3.300sec\n"
     ]
    },
    {
     "name": "stdout",
     "output_type": "stream",
     "text": [
      "Epoch 448 tr: l 0.630 a 0.814 clct[np.int64(81), np.int64(79)] clct_ans[np.int64(81), np.int64(79)] cl_acc1.000  lr 0.019982 71.607sec(train) 35.082sec(infer)\n"
     ]
    },
    {
     "name": "stdout",
     "output_type": "stream",
     "text": [
      "Epoch 448 tst: l 0.959 a 0.767 clct[np.int64(20), np.int64(20)] clct_ans[np.int64(20), np.int64(20)] cl_acc1.000  3.405sec\n"
     ]
    },
    {
     "name": "stdout",
     "output_type": "stream",
     "text": [
      "Epoch 449 tr: l 0.628 a 0.815 clct[np.int64(81), np.int64(79)] clct_ans[np.int64(81), np.int64(79)] cl_acc1.000  lr 0.019972 74.961sec(train) 35.334sec(infer)\n"
     ]
    },
    {
     "name": "stdout",
     "output_type": "stream",
     "text": [
      "Epoch 449 tst: l 0.954 a 0.768 clct[np.int64(20), np.int64(20)] clct_ans[np.int64(20), np.int64(20)] cl_acc1.000  3.369sec\n"
     ]
    },
    {
     "name": "stdout",
     "output_type": "stream",
     "text": [
      "Epoch 450 tr: l 0.631 a 0.813 clct[np.int64(79), np.int64(81)] clct_ans[np.int64(79), np.int64(81)] cl_acc1.000  lr 0.019962 74.278sec(train) 34.947sec(infer)\n"
     ]
    },
    {
     "name": "stdout",
     "output_type": "stream",
     "text": [
      "Epoch 450 tst: l 0.953 a 0.768 clct[np.int64(20), np.int64(20)] clct_ans[np.int64(20), np.int64(20)] cl_acc1.000  3.382sec\n"
     ]
    },
    {
     "name": "stdout",
     "output_type": "stream",
     "text": [
      "result written at output_dfca_gi/results.pickle\n",
      "checkpoint written at output_dfca_gi/checkpoint.pt\n"
     ]
    },
    {
     "name": "stdout",
     "output_type": "stream",
     "text": [
      "Epoch 451 tr: l 0.633 a 0.814 clct[np.int64(82), np.int64(78)] clct_ans[np.int64(82), np.int64(78)] cl_acc1.000  lr 0.019952 69.284sec(train) 34.891sec(infer)\n"
     ]
    },
    {
     "name": "stdout",
     "output_type": "stream",
     "text": [
      "Epoch 451 tst: l 0.956 a 0.768 clct[np.int64(20), np.int64(20)] clct_ans[np.int64(20), np.int64(20)] cl_acc1.000  3.367sec\n"
     ]
    },
    {
     "name": "stdout",
     "output_type": "stream",
     "text": [
      "Epoch 452 tr: l 0.631 a 0.813 clct[np.int64(80), np.int64(80)] clct_ans[np.int64(80), np.int64(80)] cl_acc1.000  lr 0.019942 70.707sec(train) 34.923sec(infer)\n"
     ]
    },
    {
     "name": "stdout",
     "output_type": "stream",
     "text": [
      "Epoch 452 tst: l 0.955 a 0.767 clct[np.int64(20), np.int64(20)] clct_ans[np.int64(20), np.int64(20)] cl_acc1.000  3.297sec\n"
     ]
    },
    {
     "name": "stdout",
     "output_type": "stream",
     "text": [
      "Epoch 453 tr: l 0.631 a 0.815 clct[np.int64(82), np.int64(78)] clct_ans[np.int64(82), np.int64(78)] cl_acc1.000  lr 0.019932 73.690sec(train) 34.935sec(infer)\n"
     ]
    },
    {
     "name": "stdout",
     "output_type": "stream",
     "text": [
      "Epoch 453 tst: l 0.956 a 0.768 clct[np.int64(20), np.int64(20)] clct_ans[np.int64(20), np.int64(20)] cl_acc1.000  3.305sec\n"
     ]
    },
    {
     "name": "stdout",
     "output_type": "stream",
     "text": [
      "Epoch 454 tr: l 0.625 a 0.815 clct[np.int64(79), np.int64(81)] clct_ans[np.int64(79), np.int64(81)] cl_acc1.000  lr 0.019922 72.490sec(train) 35.097sec(infer)\n"
     ]
    },
    {
     "name": "stdout",
     "output_type": "stream",
     "text": [
      "Epoch 454 tst: l 0.958 a 0.767 clct[np.int64(20), np.int64(20)] clct_ans[np.int64(20), np.int64(20)] cl_acc1.000  3.326sec\n"
     ]
    },
    {
     "name": "stdout",
     "output_type": "stream",
     "text": [
      "Epoch 455 tr: l 0.632 a 0.814 clct[np.int64(76), np.int64(84)] clct_ans[np.int64(76), np.int64(84)] cl_acc1.000  lr 0.019912 71.298sec(train) 34.869sec(infer)\n"
     ]
    },
    {
     "name": "stdout",
     "output_type": "stream",
     "text": [
      "Epoch 455 tst: l 0.958 a 0.768 clct[np.int64(20), np.int64(20)] clct_ans[np.int64(20), np.int64(20)] cl_acc1.000  3.284sec\n"
     ]
    },
    {
     "name": "stdout",
     "output_type": "stream",
     "text": [
      "Epoch 456 tr: l 0.634 a 0.815 clct[np.int64(80), np.int64(80)] clct_ans[np.int64(80), np.int64(80)] cl_acc1.000  lr 0.019902 76.973sec(train) 34.987sec(infer)\n"
     ]
    },
    {
     "name": "stdout",
     "output_type": "stream",
     "text": [
      "Epoch 456 tst: l 0.959 a 0.768 clct[np.int64(20), np.int64(20)] clct_ans[np.int64(20), np.int64(20)] cl_acc1.000  3.382sec\n"
     ]
    },
    {
     "name": "stdout",
     "output_type": "stream",
     "text": [
      "Epoch 457 tr: l 0.630 a 0.814 clct[np.int64(81), np.int64(79)] clct_ans[np.int64(81), np.int64(79)] cl_acc1.000  lr 0.019892 74.133sec(train) 35.539sec(infer)\n"
     ]
    },
    {
     "name": "stdout",
     "output_type": "stream",
     "text": [
      "Epoch 457 tst: l 0.963 a 0.767 clct[np.int64(20), np.int64(20)] clct_ans[np.int64(20), np.int64(20)] cl_acc1.000  3.378sec\n"
     ]
    },
    {
     "name": "stdout",
     "output_type": "stream",
     "text": [
      "Epoch 458 tr: l 0.625 a 0.816 clct[np.int64(81), np.int64(79)] clct_ans[np.int64(81), np.int64(79)] cl_acc1.000  lr 0.019882 76.291sec(train) 35.079sec(infer)\n"
     ]
    },
    {
     "name": "stdout",
     "output_type": "stream",
     "text": [
      "Epoch 458 tst: l 0.960 a 0.766 clct[np.int64(20), np.int64(20)] clct_ans[np.int64(20), np.int64(20)] cl_acc1.000  3.303sec\n"
     ]
    },
    {
     "name": "stdout",
     "output_type": "stream",
     "text": [
      "Epoch 459 tr: l 0.621 a 0.817 clct[np.int64(82), np.int64(78)] clct_ans[np.int64(82), np.int64(78)] cl_acc1.000  lr 0.019872 73.912sec(train) 35.510sec(infer)\n"
     ]
    },
    {
     "name": "stdout",
     "output_type": "stream",
     "text": [
      "Epoch 459 tst: l 0.962 a 0.768 clct[np.int64(20), np.int64(20)] clct_ans[np.int64(20), np.int64(20)] cl_acc1.000  3.425sec\n"
     ]
    },
    {
     "name": "stdout",
     "output_type": "stream",
     "text": [
      "Epoch 460 tr: l 0.625 a 0.818 clct[np.int64(83), np.int64(77)] clct_ans[np.int64(83), np.int64(77)] cl_acc1.000  lr 0.019862 75.128sec(train) 35.304sec(infer)\n"
     ]
    },
    {
     "name": "stdout",
     "output_type": "stream",
     "text": [
      "Epoch 460 tst: l 0.961 a 0.767 clct[np.int64(20), np.int64(20)] clct_ans[np.int64(20), np.int64(20)] cl_acc1.000  3.353sec\n"
     ]
    },
    {
     "name": "stdout",
     "output_type": "stream",
     "text": [
      "result written at output_dfca_gi/results.pickle\n",
      "checkpoint written at output_dfca_gi/checkpoint.pt\n"
     ]
    },
    {
     "name": "stdout",
     "output_type": "stream",
     "text": [
      "Epoch 461 tr: l 0.629 a 0.815 clct[np.int64(80), np.int64(80)] clct_ans[np.int64(80), np.int64(80)] cl_acc1.000  lr 0.019852 73.924sec(train) 35.091sec(infer)\n"
     ]
    },
    {
     "name": "stdout",
     "output_type": "stream",
     "text": [
      "Epoch 461 tst: l 0.962 a 0.768 clct[np.int64(20), np.int64(20)] clct_ans[np.int64(20), np.int64(20)] cl_acc1.000  3.323sec\n"
     ]
    },
    {
     "name": "stdout",
     "output_type": "stream",
     "text": [
      "Epoch 462 tr: l 0.623 a 0.817 clct[np.int64(81), np.int64(79)] clct_ans[np.int64(81), np.int64(79)] cl_acc1.000  lr 0.019842 73.107sec(train) 35.285sec(infer)\n"
     ]
    },
    {
     "name": "stdout",
     "output_type": "stream",
     "text": [
      "Epoch 462 tst: l 0.964 a 0.768 clct[np.int64(20), np.int64(20)] clct_ans[np.int64(20), np.int64(20)] cl_acc1.000  3.316sec\n"
     ]
    },
    {
     "name": "stdout",
     "output_type": "stream",
     "text": [
      "Epoch 463 tr: l 0.625 a 0.817 clct[np.int64(75), np.int64(85)] clct_ans[np.int64(75), np.int64(85)] cl_acc1.000  lr 0.019832 75.280sec(train) 35.551sec(infer)\n"
     ]
    },
    {
     "name": "stdout",
     "output_type": "stream",
     "text": [
      "Epoch 463 tst: l 0.965 a 0.766 clct[np.int64(20), np.int64(20)] clct_ans[np.int64(20), np.int64(20)] cl_acc1.000  3.615sec\n"
     ]
    },
    {
     "name": "stdout",
     "output_type": "stream",
     "text": [
      "Epoch 464 tr: l 0.642 a 0.814 clct[np.int64(85), np.int64(75)] clct_ans[np.int64(85), np.int64(75)] cl_acc1.000  lr 0.019823 71.851sec(train) 35.226sec(infer)\n"
     ]
    },
    {
     "name": "stdout",
     "output_type": "stream",
     "text": [
      "Epoch 464 tst: l 0.964 a 0.768 clct[np.int64(20), np.int64(20)] clct_ans[np.int64(20), np.int64(20)] cl_acc1.000  3.355sec\n"
     ]
    },
    {
     "name": "stdout",
     "output_type": "stream",
     "text": [
      "Epoch 465 tr: l 0.628 a 0.815 clct[np.int64(79), np.int64(81)] clct_ans[np.int64(79), np.int64(81)] cl_acc1.000  lr 0.019813 73.814sec(train) 35.057sec(infer)\n"
     ]
    },
    {
     "name": "stdout",
     "output_type": "stream",
     "text": [
      "Epoch 465 tst: l 0.966 a 0.767 clct[np.int64(20), np.int64(20)] clct_ans[np.int64(20), np.int64(20)] cl_acc1.000  3.337sec\n"
     ]
    },
    {
     "name": "stdout",
     "output_type": "stream",
     "text": [
      "Epoch 466 tr: l 0.627 a 0.814 clct[np.int64(80), np.int64(80)] clct_ans[np.int64(80), np.int64(80)] cl_acc1.000  lr 0.019803 74.153sec(train) 35.021sec(infer)\n"
     ]
    },
    {
     "name": "stdout",
     "output_type": "stream",
     "text": [
      "Epoch 466 tst: l 0.967 a 0.767 clct[np.int64(20), np.int64(20)] clct_ans[np.int64(20), np.int64(20)] cl_acc1.000  3.340sec\n"
     ]
    },
    {
     "name": "stdout",
     "output_type": "stream",
     "text": [
      "Epoch 467 tr: l 0.617 a 0.817 clct[np.int64(81), np.int64(79)] clct_ans[np.int64(81), np.int64(79)] cl_acc1.000  lr 0.019793 72.528sec(train) 35.277sec(infer)\n"
     ]
    },
    {
     "name": "stdout",
     "output_type": "stream",
     "text": [
      "Epoch 467 tst: l 0.968 a 0.768 clct[np.int64(20), np.int64(20)] clct_ans[np.int64(20), np.int64(20)] cl_acc1.000  3.295sec\n"
     ]
    },
    {
     "name": "stdout",
     "output_type": "stream",
     "text": [
      "Epoch 468 tr: l 0.624 a 0.817 clct[np.int64(78), np.int64(82)] clct_ans[np.int64(78), np.int64(82)] cl_acc1.000  lr 0.019783 72.018sec(train) 35.324sec(infer)\n"
     ]
    },
    {
     "name": "stdout",
     "output_type": "stream",
     "text": [
      "Epoch 468 tst: l 0.967 a 0.767 clct[np.int64(20), np.int64(20)] clct_ans[np.int64(20), np.int64(20)] cl_acc1.000  3.321sec\n"
     ]
    },
    {
     "name": "stdout",
     "output_type": "stream",
     "text": [
      "Epoch 469 tr: l 0.630 a 0.815 clct[np.int64(82), np.int64(78)] clct_ans[np.int64(82), np.int64(78)] cl_acc1.000  lr 0.019773 72.777sec(train) 35.108sec(infer)\n"
     ]
    },
    {
     "name": "stdout",
     "output_type": "stream",
     "text": [
      "Epoch 469 tst: l 0.966 a 0.767 clct[np.int64(20), np.int64(20)] clct_ans[np.int64(20), np.int64(20)] cl_acc1.000  3.306sec\n"
     ]
    },
    {
     "name": "stdout",
     "output_type": "stream",
     "text": [
      "Epoch 470 tr: l 0.625 a 0.815 clct[np.int64(81), np.int64(79)] clct_ans[np.int64(81), np.int64(79)] cl_acc1.000  lr 0.019763 74.766sec(train) 35.175sec(infer)\n"
     ]
    },
    {
     "name": "stdout",
     "output_type": "stream",
     "text": [
      "Epoch 470 tst: l 0.963 a 0.767 clct[np.int64(20), np.int64(20)] clct_ans[np.int64(20), np.int64(20)] cl_acc1.000  3.338sec\n"
     ]
    },
    {
     "name": "stdout",
     "output_type": "stream",
     "text": [
      "result written at output_dfca_gi/results.pickle\n",
      "checkpoint written at output_dfca_gi/checkpoint.pt\n"
     ]
    },
    {
     "name": "stdout",
     "output_type": "stream",
     "text": [
      "Epoch 471 tr: l 0.621 a 0.818 clct[np.int64(84), np.int64(76)] clct_ans[np.int64(84), np.int64(76)] cl_acc1.000  lr 0.019753 73.442sec(train) 35.078sec(infer)\n"
     ]
    },
    {
     "name": "stdout",
     "output_type": "stream",
     "text": [
      "Epoch 471 tst: l 0.965 a 0.768 clct[np.int64(20), np.int64(20)] clct_ans[np.int64(20), np.int64(20)] cl_acc1.000  3.324sec\n"
     ]
    },
    {
     "name": "stdout",
     "output_type": "stream",
     "text": [
      "Epoch 472 tr: l 0.635 a 0.815 clct[np.int64(84), np.int64(76)] clct_ans[np.int64(84), np.int64(76)] cl_acc1.000  lr 0.019743 75.533sec(train) 35.421sec(infer)\n"
     ]
    },
    {
     "name": "stdout",
     "output_type": "stream",
     "text": [
      "Epoch 472 tst: l 0.967 a 0.767 clct[np.int64(20), np.int64(20)] clct_ans[np.int64(20), np.int64(20)] cl_acc1.000  3.374sec\n"
     ]
    },
    {
     "name": "stdout",
     "output_type": "stream",
     "text": [
      "Epoch 473 tr: l 0.627 a 0.816 clct[np.int64(83), np.int64(77)] clct_ans[np.int64(83), np.int64(77)] cl_acc1.000  lr 0.019733 76.470sec(train) 35.430sec(infer)\n"
     ]
    },
    {
     "name": "stdout",
     "output_type": "stream",
     "text": [
      "Epoch 473 tst: l 0.970 a 0.767 clct[np.int64(20), np.int64(20)] clct_ans[np.int64(20), np.int64(20)] cl_acc1.000  3.327sec\n"
     ]
    },
    {
     "name": "stdout",
     "output_type": "stream",
     "text": [
      "Epoch 474 tr: l 0.625 a 0.816 clct[np.int64(83), np.int64(77)] clct_ans[np.int64(83), np.int64(77)] cl_acc1.000  lr 0.019724 72.926sec(train) 35.067sec(infer)\n"
     ]
    },
    {
     "name": "stdout",
     "output_type": "stream",
     "text": [
      "Epoch 474 tst: l 0.970 a 0.767 clct[np.int64(20), np.int64(20)] clct_ans[np.int64(20), np.int64(20)] cl_acc1.000  3.321sec\n"
     ]
    },
    {
     "name": "stdout",
     "output_type": "stream",
     "text": [
      "Epoch 475 tr: l 0.628 a 0.815 clct[np.int64(78), np.int64(82)] clct_ans[np.int64(78), np.int64(82)] cl_acc1.000  lr 0.019714 70.723sec(train) 34.997sec(infer)\n"
     ]
    },
    {
     "name": "stdout",
     "output_type": "stream",
     "text": [
      "Epoch 475 tst: l 0.970 a 0.768 clct[np.int64(20), np.int64(20)] clct_ans[np.int64(20), np.int64(20)] cl_acc1.000  3.305sec\n"
     ]
    },
    {
     "name": "stdout",
     "output_type": "stream",
     "text": [
      "Epoch 476 tr: l 0.627 a 0.816 clct[np.int64(81), np.int64(79)] clct_ans[np.int64(81), np.int64(79)] cl_acc1.000  lr 0.019704 71.461sec(train) 35.161sec(infer)\n"
     ]
    },
    {
     "name": "stdout",
     "output_type": "stream",
     "text": [
      "Epoch 476 tst: l 0.968 a 0.768 clct[np.int64(20), np.int64(20)] clct_ans[np.int64(20), np.int64(20)] cl_acc1.000  3.369sec\n"
     ]
    },
    {
     "name": "stdout",
     "output_type": "stream",
     "text": [
      "Epoch 477 tr: l 0.626 a 0.816 clct[np.int64(78), np.int64(82)] clct_ans[np.int64(78), np.int64(82)] cl_acc1.000  lr 0.019694 73.931sec(train) 34.847sec(infer)\n"
     ]
    },
    {
     "name": "stdout",
     "output_type": "stream",
     "text": [
      "Epoch 477 tst: l 0.971 a 0.768 clct[np.int64(20), np.int64(20)] clct_ans[np.int64(20), np.int64(20)] cl_acc1.000  3.293sec\n"
     ]
    },
    {
     "name": "stdout",
     "output_type": "stream",
     "text": [
      "Epoch 478 tr: l 0.635 a 0.813 clct[np.int64(81), np.int64(79)] clct_ans[np.int64(81), np.int64(79)] cl_acc1.000  lr 0.019684 74.331sec(train) 34.807sec(infer)\n"
     ]
    },
    {
     "name": "stdout",
     "output_type": "stream",
     "text": [
      "Epoch 478 tst: l 0.971 a 0.768 clct[np.int64(20), np.int64(20)] clct_ans[np.int64(20), np.int64(20)] cl_acc1.000  3.322sec\n"
     ]
    },
    {
     "name": "stdout",
     "output_type": "stream",
     "text": [
      "Epoch 479 tr: l 0.628 a 0.816 clct[np.int64(80), np.int64(80)] clct_ans[np.int64(80), np.int64(80)] cl_acc1.000  lr 0.019674 72.978sec(train) 35.041sec(infer)\n"
     ]
    },
    {
     "name": "stdout",
     "output_type": "stream",
     "text": [
      "Epoch 479 tst: l 0.974 a 0.767 clct[np.int64(20), np.int64(20)] clct_ans[np.int64(20), np.int64(20)] cl_acc1.000  3.371sec\n"
     ]
    },
    {
     "name": "stdout",
     "output_type": "stream",
     "text": [
      "Epoch 480 tr: l 0.631 a 0.817 clct[np.int64(81), np.int64(79)] clct_ans[np.int64(81), np.int64(79)] cl_acc1.000  lr 0.019665 72.312sec(train) 35.423sec(infer)\n"
     ]
    },
    {
     "name": "stdout",
     "output_type": "stream",
     "text": [
      "Epoch 480 tst: l 0.972 a 0.767 clct[np.int64(20), np.int64(20)] clct_ans[np.int64(20), np.int64(20)] cl_acc1.000  3.327sec\n"
     ]
    },
    {
     "name": "stdout",
     "output_type": "stream",
     "text": [
      "result written at output_dfca_gi/results.pickle\n",
      "checkpoint written at output_dfca_gi/checkpoint.pt\n"
     ]
    },
    {
     "name": "stdout",
     "output_type": "stream",
     "text": [
      "Epoch 481 tr: l 0.625 a 0.817 clct[np.int64(83), np.int64(77)] clct_ans[np.int64(83), np.int64(77)] cl_acc1.000  lr 0.019655 76.511sec(train) 35.822sec(infer)\n"
     ]
    },
    {
     "name": "stdout",
     "output_type": "stream",
     "text": [
      "Epoch 481 tst: l 0.971 a 0.766 clct[np.int64(20), np.int64(20)] clct_ans[np.int64(20), np.int64(20)] cl_acc1.000  3.299sec\n"
     ]
    },
    {
     "name": "stdout",
     "output_type": "stream",
     "text": [
      "Epoch 482 tr: l 0.619 a 0.818 clct[np.int64(78), np.int64(82)] clct_ans[np.int64(78), np.int64(82)] cl_acc1.000  lr 0.019645 74.850sec(train) 35.279sec(infer)\n"
     ]
    },
    {
     "name": "stdout",
     "output_type": "stream",
     "text": [
      "Epoch 482 tst: l 0.973 a 0.768 clct[np.int64(20), np.int64(20)] clct_ans[np.int64(20), np.int64(20)] cl_acc1.000  3.278sec\n"
     ]
    },
    {
     "name": "stdout",
     "output_type": "stream",
     "text": [
      "Epoch 483 tr: l 0.625 a 0.817 clct[np.int64(79), np.int64(81)] clct_ans[np.int64(79), np.int64(81)] cl_acc1.000  lr 0.019635 76.217sec(train) 35.524sec(infer)\n"
     ]
    },
    {
     "name": "stdout",
     "output_type": "stream",
     "text": [
      "Epoch 483 tst: l 0.973 a 0.767 clct[np.int64(20), np.int64(20)] clct_ans[np.int64(20), np.int64(20)] cl_acc1.000  3.371sec\n"
     ]
    },
    {
     "name": "stdout",
     "output_type": "stream",
     "text": [
      "Epoch 484 tr: l 0.627 a 0.817 clct[np.int64(81), np.int64(79)] clct_ans[np.int64(81), np.int64(79)] cl_acc1.000  lr 0.019625 75.413sec(train) 35.292sec(infer)\n"
     ]
    },
    {
     "name": "stdout",
     "output_type": "stream",
     "text": [
      "Epoch 484 tst: l 0.973 a 0.768 clct[np.int64(20), np.int64(20)] clct_ans[np.int64(20), np.int64(20)] cl_acc1.000  3.319sec\n"
     ]
    },
    {
     "name": "stdout",
     "output_type": "stream",
     "text": [
      "Epoch 485 tr: l 0.630 a 0.817 clct[np.int64(79), np.int64(81)] clct_ans[np.int64(79), np.int64(81)] cl_acc1.000  lr 0.019615 72.516sec(train) 35.096sec(infer)\n"
     ]
    },
    {
     "name": "stdout",
     "output_type": "stream",
     "text": [
      "Epoch 485 tst: l 0.973 a 0.767 clct[np.int64(20), np.int64(20)] clct_ans[np.int64(20), np.int64(20)] cl_acc1.000  3.330sec\n"
     ]
    },
    {
     "name": "stdout",
     "output_type": "stream",
     "text": [
      "Epoch 486 tr: l 0.623 a 0.817 clct[np.int64(79), np.int64(81)] clct_ans[np.int64(79), np.int64(81)] cl_acc1.000  lr 0.019606 74.902sec(train) 35.029sec(infer)\n"
     ]
    },
    {
     "name": "stdout",
     "output_type": "stream",
     "text": [
      "Epoch 486 tst: l 0.975 a 0.766 clct[np.int64(20), np.int64(20)] clct_ans[np.int64(20), np.int64(20)] cl_acc1.000  3.299sec\n"
     ]
    },
    {
     "name": "stdout",
     "output_type": "stream",
     "text": [
      "Epoch 487 tr: l 0.623 a 0.818 clct[np.int64(79), np.int64(81)] clct_ans[np.int64(79), np.int64(81)] cl_acc1.000  lr 0.019596 73.450sec(train) 35.551sec(infer)\n"
     ]
    },
    {
     "name": "stdout",
     "output_type": "stream",
     "text": [
      "Epoch 487 tst: l 0.975 a 0.766 clct[np.int64(20), np.int64(20)] clct_ans[np.int64(20), np.int64(20)] cl_acc1.000  3.343sec\n"
     ]
    },
    {
     "name": "stdout",
     "output_type": "stream",
     "text": [
      "Epoch 488 tr: l 0.624 a 0.816 clct[np.int64(84), np.int64(76)] clct_ans[np.int64(84), np.int64(76)] cl_acc1.000  lr 0.019586 72.589sec(train) 35.013sec(infer)\n"
     ]
    },
    {
     "name": "stdout",
     "output_type": "stream",
     "text": [
      "Epoch 488 tst: l 0.977 a 0.767 clct[np.int64(20), np.int64(20)] clct_ans[np.int64(20), np.int64(20)] cl_acc1.000  3.575sec\n"
     ]
    },
    {
     "name": "stdout",
     "output_type": "stream",
     "text": [
      "Epoch 489 tr: l 0.619 a 0.818 clct[np.int64(82), np.int64(78)] clct_ans[np.int64(82), np.int64(78)] cl_acc1.000  lr 0.019576 73.549sec(train) 35.592sec(infer)\n"
     ]
    },
    {
     "name": "stdout",
     "output_type": "stream",
     "text": [
      "Epoch 489 tst: l 0.977 a 0.768 clct[np.int64(20), np.int64(20)] clct_ans[np.int64(20), np.int64(20)] cl_acc1.000  3.346sec\n"
     ]
    },
    {
     "name": "stdout",
     "output_type": "stream",
     "text": [
      "Epoch 490 tr: l 0.626 a 0.816 clct[np.int64(79), np.int64(81)] clct_ans[np.int64(79), np.int64(81)] cl_acc1.000  lr 0.019566 73.575sec(train) 34.858sec(infer)\n"
     ]
    },
    {
     "name": "stdout",
     "output_type": "stream",
     "text": [
      "Epoch 490 tst: l 0.978 a 0.769 clct[np.int64(20), np.int64(20)] clct_ans[np.int64(20), np.int64(20)] cl_acc1.000  3.342sec\n"
     ]
    },
    {
     "name": "stdout",
     "output_type": "stream",
     "text": [
      "result written at output_dfca_gi/results.pickle\n",
      "checkpoint written at output_dfca_gi/checkpoint.pt\n"
     ]
    },
    {
     "name": "stdout",
     "output_type": "stream",
     "text": [
      "Epoch 491 tr: l 0.630 a 0.816 clct[np.int64(85), np.int64(75)] clct_ans[np.int64(85), np.int64(75)] cl_acc1.000  lr 0.019557 73.771sec(train) 35.110sec(infer)\n"
     ]
    },
    {
     "name": "stdout",
     "output_type": "stream",
     "text": [
      "Epoch 491 tst: l 0.975 a 0.769 clct[np.int64(20), np.int64(20)] clct_ans[np.int64(20), np.int64(20)] cl_acc1.000  3.361sec\n"
     ]
    },
    {
     "name": "stdout",
     "output_type": "stream",
     "text": [
      "Epoch 492 tr: l 0.629 a 0.816 clct[np.int64(83), np.int64(77)] clct_ans[np.int64(83), np.int64(77)] cl_acc1.000  lr 0.019547 74.125sec(train) 35.195sec(infer)\n"
     ]
    },
    {
     "name": "stdout",
     "output_type": "stream",
     "text": [
      "Epoch 492 tst: l 0.975 a 0.768 clct[np.int64(20), np.int64(20)] clct_ans[np.int64(20), np.int64(20)] cl_acc1.000  3.325sec\n"
     ]
    },
    {
     "name": "stdout",
     "output_type": "stream",
     "text": [
      "Epoch 493 tr: l 0.623 a 0.818 clct[np.int64(79), np.int64(81)] clct_ans[np.int64(79), np.int64(81)] cl_acc1.000  lr 0.019537 70.523sec(train) 34.737sec(infer)\n"
     ]
    },
    {
     "name": "stdout",
     "output_type": "stream",
     "text": [
      "Epoch 493 tst: l 0.977 a 0.769 clct[np.int64(20), np.int64(20)] clct_ans[np.int64(20), np.int64(20)] cl_acc1.000  3.312sec\n"
     ]
    },
    {
     "name": "stdout",
     "output_type": "stream",
     "text": [
      "Epoch 494 tr: l 0.627 a 0.817 clct[np.int64(84), np.int64(76)] clct_ans[np.int64(84), np.int64(76)] cl_acc1.000  lr 0.019527 74.511sec(train) 35.331sec(infer)\n"
     ]
    },
    {
     "name": "stdout",
     "output_type": "stream",
     "text": [
      "Epoch 494 tst: l 0.979 a 0.767 clct[np.int64(20), np.int64(20)] clct_ans[np.int64(20), np.int64(20)] cl_acc1.000  3.307sec\n"
     ]
    },
    {
     "name": "stdout",
     "output_type": "stream",
     "text": [
      "Epoch 495 tr: l 0.632 a 0.816 clct[np.int64(77), np.int64(83)] clct_ans[np.int64(77), np.int64(83)] cl_acc1.000  lr 0.019518 72.269sec(train) 35.180sec(infer)\n"
     ]
    },
    {
     "name": "stdout",
     "output_type": "stream",
     "text": [
      "Epoch 495 tst: l 0.981 a 0.768 clct[np.int64(20), np.int64(20)] clct_ans[np.int64(20), np.int64(20)] cl_acc1.000  3.438sec\n"
     ]
    },
    {
     "name": "stdout",
     "output_type": "stream",
     "text": [
      "Epoch 496 tr: l 0.616 a 0.820 clct[np.int64(83), np.int64(77)] clct_ans[np.int64(83), np.int64(77)] cl_acc1.000  lr 0.019508 74.507sec(train) 34.971sec(infer)\n"
     ]
    },
    {
     "name": "stdout",
     "output_type": "stream",
     "text": [
      "Epoch 496 tst: l 0.979 a 0.769 clct[np.int64(20), np.int64(20)] clct_ans[np.int64(20), np.int64(20)] cl_acc1.000  3.302sec\n"
     ]
    },
    {
     "name": "stdout",
     "output_type": "stream",
     "text": [
      "Epoch 497 tr: l 0.636 a 0.815 clct[np.int64(85), np.int64(75)] clct_ans[np.int64(85), np.int64(75)] cl_acc1.000  lr 0.019498 74.887sec(train) 35.050sec(infer)\n"
     ]
    },
    {
     "name": "stdout",
     "output_type": "stream",
     "text": [
      "Epoch 497 tst: l 0.978 a 0.768 clct[np.int64(20), np.int64(20)] clct_ans[np.int64(20), np.int64(20)] cl_acc1.000  3.325sec\n"
     ]
    },
    {
     "name": "stdout",
     "output_type": "stream",
     "text": [
      "Epoch 498 tr: l 0.623 a 0.816 clct[np.int64(76), np.int64(84)] clct_ans[np.int64(76), np.int64(84)] cl_acc1.000  lr 0.019488 71.388sec(train) 35.055sec(infer)\n"
     ]
    },
    {
     "name": "stdout",
     "output_type": "stream",
     "text": [
      "Epoch 498 tst: l 0.979 a 0.768 clct[np.int64(20), np.int64(20)] clct_ans[np.int64(20), np.int64(20)] cl_acc1.000  3.384sec\n"
     ]
    },
    {
     "name": "stdout",
     "output_type": "stream",
     "text": [
      "Epoch 499 tr: l 0.634 a 0.816 clct[np.int64(77), np.int64(83)] clct_ans[np.int64(77), np.int64(83)] cl_acc1.000  lr 0.019479 70.814sec(train) 35.103sec(infer)\n"
     ]
    },
    {
     "name": "stdout",
     "output_type": "stream",
     "text": [
      "Epoch 499 tst: l 0.980 a 0.769 clct[np.int64(20), np.int64(20)] clct_ans[np.int64(20), np.int64(20)] cl_acc1.000  3.375sec\n"
     ]
    },
    {
     "name": "stdout",
     "output_type": "stream",
     "text": [
      "Epoch 500 tr: l 0.617 a 0.819 clct[np.int64(82), np.int64(78)] clct_ans[np.int64(82), np.int64(78)] cl_acc1.000  lr 0.019469 74.138sec(train) 34.991sec(infer)\n"
     ]
    },
    {
     "name": "stdout",
     "output_type": "stream",
     "text": [
      "Epoch 500 tst: l 0.982 a 0.768 clct[np.int64(20), np.int64(20)] clct_ans[np.int64(20), np.int64(20)] cl_acc1.000  3.332sec\n"
     ]
    },
    {
     "name": "stdout",
     "output_type": "stream",
     "text": [
      "result written at output_dfca_gi/results.pickle\n",
      "checkpoint written at output_dfca_gi/checkpoint.pt\n"
     ]
    },
    {
     "name": "stdout",
     "output_type": "stream",
     "text": [
      "Epoch 501 tr: l 0.624 a 0.818 clct[np.int64(79), np.int64(81)] clct_ans[np.int64(79), np.int64(81)] cl_acc1.000  lr 0.019459 71.123sec(train) 35.225sec(infer)\n"
     ]
    },
    {
     "name": "stdout",
     "output_type": "stream",
     "text": [
      "Epoch 501 tst: l 0.984 a 0.768 clct[np.int64(20), np.int64(20)] clct_ans[np.int64(20), np.int64(20)] cl_acc1.000  3.321sec\n"
     ]
    },
    {
     "name": "stdout",
     "output_type": "stream",
     "text": [
      "Epoch 502 tr: l 0.629 a 0.816 clct[np.int64(82), np.int64(78)] clct_ans[np.int64(82), np.int64(78)] cl_acc1.000  lr 0.019449 71.915sec(train) 35.261sec(infer)\n"
     ]
    },
    {
     "name": "stdout",
     "output_type": "stream",
     "text": [
      "Epoch 502 tst: l 0.985 a 0.767 clct[np.int64(20), np.int64(20)] clct_ans[np.int64(20), np.int64(20)] cl_acc1.000  3.344sec\n"
     ]
    },
    {
     "name": "stdout",
     "output_type": "stream",
     "text": [
      "Epoch 503 tr: l 0.627 a 0.818 clct[np.int64(83), np.int64(77)] clct_ans[np.int64(83), np.int64(77)] cl_acc1.000  lr 0.019440 73.071sec(train) 35.352sec(infer)\n"
     ]
    },
    {
     "name": "stdout",
     "output_type": "stream",
     "text": [
      "Epoch 503 tst: l 0.983 a 0.767 clct[np.int64(20), np.int64(20)] clct_ans[np.int64(20), np.int64(20)] cl_acc1.000  3.378sec\n"
     ]
    },
    {
     "name": "stdout",
     "output_type": "stream",
     "text": [
      "Epoch 504 tr: l 0.618 a 0.819 clct[np.int64(83), np.int64(77)] clct_ans[np.int64(83), np.int64(77)] cl_acc1.000  lr 0.019430 71.636sec(train) 34.993sec(infer)\n"
     ]
    },
    {
     "name": "stdout",
     "output_type": "stream",
     "text": [
      "Epoch 504 tst: l 0.980 a 0.768 clct[np.int64(20), np.int64(20)] clct_ans[np.int64(20), np.int64(20)] cl_acc1.000  3.294sec\n"
     ]
    },
    {
     "name": "stdout",
     "output_type": "stream",
     "text": [
      "Epoch 505 tr: l 0.625 a 0.819 clct[np.int64(76), np.int64(84)] clct_ans[np.int64(76), np.int64(84)] cl_acc1.000  lr 0.019420 74.354sec(train) 34.895sec(infer)\n"
     ]
    },
    {
     "name": "stdout",
     "output_type": "stream",
     "text": [
      "Epoch 505 tst: l 0.981 a 0.769 clct[np.int64(20), np.int64(20)] clct_ans[np.int64(20), np.int64(20)] cl_acc1.000  3.299sec\n"
     ]
    },
    {
     "name": "stdout",
     "output_type": "stream",
     "text": [
      "Epoch 506 tr: l 0.613 a 0.822 clct[np.int64(79), np.int64(81)] clct_ans[np.int64(79), np.int64(81)] cl_acc1.000  lr 0.019410 72.965sec(train) 34.746sec(infer)\n"
     ]
    },
    {
     "name": "stdout",
     "output_type": "stream",
     "text": [
      "Epoch 506 tst: l 0.981 a 0.768 clct[np.int64(20), np.int64(20)] clct_ans[np.int64(20), np.int64(20)] cl_acc1.000  3.361sec\n"
     ]
    },
    {
     "name": "stdout",
     "output_type": "stream",
     "text": [
      "Epoch 507 tr: l 0.613 a 0.821 clct[np.int64(82), np.int64(78)] clct_ans[np.int64(82), np.int64(78)] cl_acc1.000  lr 0.019401 69.689sec(train) 35.427sec(infer)\n"
     ]
    },
    {
     "name": "stdout",
     "output_type": "stream",
     "text": [
      "Epoch 507 tst: l 0.982 a 0.767 clct[np.int64(20), np.int64(20)] clct_ans[np.int64(20), np.int64(20)] cl_acc1.000  3.331sec\n"
     ]
    },
    {
     "name": "stdout",
     "output_type": "stream",
     "text": [
      "Epoch 508 tr: l 0.627 a 0.818 clct[np.int64(79), np.int64(81)] clct_ans[np.int64(79), np.int64(81)] cl_acc1.000  lr 0.019391 72.048sec(train) 34.921sec(infer)\n"
     ]
    },
    {
     "name": "stdout",
     "output_type": "stream",
     "text": [
      "Epoch 508 tst: l 0.985 a 0.767 clct[np.int64(20), np.int64(20)] clct_ans[np.int64(20), np.int64(20)] cl_acc1.000  3.272sec\n"
     ]
    },
    {
     "name": "stdout",
     "output_type": "stream",
     "text": [
      "Epoch 509 tr: l 0.621 a 0.818 clct[np.int64(83), np.int64(77)] clct_ans[np.int64(83), np.int64(77)] cl_acc1.000  lr 0.019381 73.023sec(train) 35.122sec(infer)\n"
     ]
    },
    {
     "name": "stdout",
     "output_type": "stream",
     "text": [
      "Epoch 509 tst: l 0.982 a 0.767 clct[np.int64(20), np.int64(20)] clct_ans[np.int64(20), np.int64(20)] cl_acc1.000  3.399sec\n"
     ]
    },
    {
     "name": "stdout",
     "output_type": "stream",
     "text": [
      "Epoch 510 tr: l 0.625 a 0.819 clct[np.int64(86), np.int64(74)] clct_ans[np.int64(86), np.int64(74)] cl_acc1.000  lr 0.019372 74.462sec(train) 35.410sec(infer)\n"
     ]
    },
    {
     "name": "stdout",
     "output_type": "stream",
     "text": [
      "Epoch 510 tst: l 0.985 a 0.767 clct[np.int64(20), np.int64(20)] clct_ans[np.int64(20), np.int64(20)] cl_acc1.000  3.327sec\n"
     ]
    },
    {
     "name": "stdout",
     "output_type": "stream",
     "text": [
      "result written at output_dfca_gi/results.pickle\n",
      "checkpoint written at output_dfca_gi/checkpoint.pt\n"
     ]
    },
    {
     "name": "stdout",
     "output_type": "stream",
     "text": [
      "Epoch 511 tr: l 0.615 a 0.820 clct[np.int64(83), np.int64(77)] clct_ans[np.int64(83), np.int64(77)] cl_acc1.000  lr 0.019362 73.783sec(train) 35.193sec(infer)\n"
     ]
    },
    {
     "name": "stdout",
     "output_type": "stream",
     "text": [
      "Epoch 511 tst: l 0.985 a 0.767 clct[np.int64(20), np.int64(20)] clct_ans[np.int64(20), np.int64(20)] cl_acc1.000  3.361sec\n"
     ]
    },
    {
     "name": "stdout",
     "output_type": "stream",
     "text": [
      "Epoch 512 tr: l 0.626 a 0.819 clct[np.int64(80), np.int64(80)] clct_ans[np.int64(80), np.int64(80)] cl_acc1.000  lr 0.019352 72.410sec(train) 35.794sec(infer)\n"
     ]
    },
    {
     "name": "stdout",
     "output_type": "stream",
     "text": [
      "Epoch 512 tst: l 0.987 a 0.768 clct[np.int64(20), np.int64(20)] clct_ans[np.int64(20), np.int64(20)] cl_acc1.000  3.452sec\n"
     ]
    },
    {
     "name": "stdout",
     "output_type": "stream",
     "text": [
      "Epoch 513 tr: l 0.630 a 0.818 clct[np.int64(83), np.int64(77)] clct_ans[np.int64(83), np.int64(77)] cl_acc1.000  lr 0.019343 74.125sec(train) 35.115sec(infer)\n"
     ]
    },
    {
     "name": "stdout",
     "output_type": "stream",
     "text": [
      "Epoch 513 tst: l 0.984 a 0.767 clct[np.int64(20), np.int64(20)] clct_ans[np.int64(20), np.int64(20)] cl_acc1.000  3.345sec\n"
     ]
    },
    {
     "name": "stdout",
     "output_type": "stream",
     "text": [
      "Epoch 514 tr: l 0.618 a 0.819 clct[np.int64(83), np.int64(77)] clct_ans[np.int64(83), np.int64(77)] cl_acc1.000  lr 0.019333 74.025sec(train) 35.491sec(infer)\n"
     ]
    },
    {
     "name": "stdout",
     "output_type": "stream",
     "text": [
      "Epoch 514 tst: l 0.987 a 0.767 clct[np.int64(20), np.int64(20)] clct_ans[np.int64(20), np.int64(20)] cl_acc1.000  3.402sec\n"
     ]
    },
    {
     "name": "stdout",
     "output_type": "stream",
     "text": [
      "Epoch 515 tr: l 0.609 a 0.821 clct[np.int64(80), np.int64(80)] clct_ans[np.int64(80), np.int64(80)] cl_acc1.000  lr 0.019323 72.511sec(train) 35.644sec(infer)\n"
     ]
    },
    {
     "name": "stdout",
     "output_type": "stream",
     "text": [
      "Epoch 515 tst: l 0.987 a 0.768 clct[np.int64(20), np.int64(20)] clct_ans[np.int64(20), np.int64(20)] cl_acc1.000  3.326sec\n"
     ]
    },
    {
     "name": "stdout",
     "output_type": "stream",
     "text": [
      "Epoch 516 tr: l 0.615 a 0.820 clct[np.int64(82), np.int64(78)] clct_ans[np.int64(82), np.int64(78)] cl_acc1.000  lr 0.019314 71.903sec(train) 35.334sec(infer)\n"
     ]
    },
    {
     "name": "stdout",
     "output_type": "stream",
     "text": [
      "Epoch 516 tst: l 0.983 a 0.768 clct[np.int64(20), np.int64(20)] clct_ans[np.int64(20), np.int64(20)] cl_acc1.000  3.401sec\n"
     ]
    },
    {
     "name": "stdout",
     "output_type": "stream",
     "text": [
      "Epoch 517 tr: l 0.622 a 0.820 clct[np.int64(84), np.int64(76)] clct_ans[np.int64(84), np.int64(76)] cl_acc1.000  lr 0.019304 74.618sec(train) 35.732sec(infer)\n"
     ]
    },
    {
     "name": "stdout",
     "output_type": "stream",
     "text": [
      "Epoch 517 tst: l 0.984 a 0.768 clct[np.int64(20), np.int64(20)] clct_ans[np.int64(20), np.int64(20)] cl_acc1.000  3.371sec\n"
     ]
    },
    {
     "name": "stdout",
     "output_type": "stream",
     "text": [
      "Epoch 518 tr: l 0.619 a 0.820 clct[np.int64(82), np.int64(78)] clct_ans[np.int64(82), np.int64(78)] cl_acc1.000  lr 0.019294 70.359sec(train) 35.290sec(infer)\n"
     ]
    },
    {
     "name": "stdout",
     "output_type": "stream",
     "text": [
      "Epoch 518 tst: l 0.985 a 0.768 clct[np.int64(20), np.int64(20)] clct_ans[np.int64(20), np.int64(20)] cl_acc1.000  3.489sec\n"
     ]
    },
    {
     "name": "stdout",
     "output_type": "stream",
     "text": [
      "Epoch 519 tr: l 0.617 a 0.821 clct[np.int64(85), np.int64(75)] clct_ans[np.int64(85), np.int64(75)] cl_acc1.000  lr 0.019285 71.548sec(train) 34.938sec(infer)\n"
     ]
    },
    {
     "name": "stdout",
     "output_type": "stream",
     "text": [
      "Epoch 519 tst: l 0.987 a 0.768 clct[np.int64(20), np.int64(20)] clct_ans[np.int64(20), np.int64(20)] cl_acc1.000  3.293sec\n"
     ]
    },
    {
     "name": "stdout",
     "output_type": "stream",
     "text": [
      "Epoch 520 tr: l 0.619 a 0.820 clct[np.int64(82), np.int64(78)] clct_ans[np.int64(82), np.int64(78)] cl_acc1.000  lr 0.019275 74.154sec(train) 35.413sec(infer)\n"
     ]
    },
    {
     "name": "stdout",
     "output_type": "stream",
     "text": [
      "Epoch 520 tst: l 0.988 a 0.767 clct[np.int64(20), np.int64(20)] clct_ans[np.int64(20), np.int64(20)] cl_acc1.000  3.376sec\n"
     ]
    },
    {
     "name": "stdout",
     "output_type": "stream",
     "text": [
      "result written at output_dfca_gi/results.pickle\n",
      "checkpoint written at output_dfca_gi/checkpoint.pt\n"
     ]
    },
    {
     "name": "stdout",
     "output_type": "stream",
     "text": [
      "Epoch 521 tr: l 0.623 a 0.819 clct[np.int64(86), np.int64(74)] clct_ans[np.int64(86), np.int64(74)] cl_acc1.000  lr 0.019265 71.702sec(train) 35.030sec(infer)\n"
     ]
    },
    {
     "name": "stdout",
     "output_type": "stream",
     "text": [
      "Epoch 521 tst: l 0.989 a 0.768 clct[np.int64(20), np.int64(20)] clct_ans[np.int64(20), np.int64(20)] cl_acc1.000  3.426sec\n"
     ]
    },
    {
     "name": "stdout",
     "output_type": "stream",
     "text": [
      "Epoch 522 tr: l 0.620 a 0.818 clct[np.int64(77), np.int64(83)] clct_ans[np.int64(77), np.int64(83)] cl_acc1.000  lr 0.019256 74.925sec(train) 34.996sec(infer)\n"
     ]
    },
    {
     "name": "stdout",
     "output_type": "stream",
     "text": [
      "Epoch 522 tst: l 0.989 a 0.767 clct[np.int64(20), np.int64(20)] clct_ans[np.int64(20), np.int64(20)] cl_acc1.000  3.293sec\n"
     ]
    },
    {
     "name": "stdout",
     "output_type": "stream",
     "text": [
      "Epoch 523 tr: l 0.615 a 0.821 clct[np.int64(76), np.int64(84)] clct_ans[np.int64(76), np.int64(84)] cl_acc1.000  lr 0.019246 73.167sec(train) 35.072sec(infer)\n"
     ]
    },
    {
     "name": "stdout",
     "output_type": "stream",
     "text": [
      "Epoch 523 tst: l 0.987 a 0.767 clct[np.int64(20), np.int64(20)] clct_ans[np.int64(20), np.int64(20)] cl_acc1.000  3.332sec\n"
     ]
    },
    {
     "name": "stdout",
     "output_type": "stream",
     "text": [
      "Epoch 524 tr: l 0.622 a 0.819 clct[np.int64(81), np.int64(79)] clct_ans[np.int64(81), np.int64(79)] cl_acc1.000  lr 0.019237 72.433sec(train) 34.945sec(infer)\n"
     ]
    },
    {
     "name": "stdout",
     "output_type": "stream",
     "text": [
      "Epoch 524 tst: l 0.990 a 0.767 clct[np.int64(20), np.int64(20)] clct_ans[np.int64(20), np.int64(20)] cl_acc1.000  3.318sec\n"
     ]
    },
    {
     "name": "stdout",
     "output_type": "stream",
     "text": [
      "Epoch 525 tr: l 0.615 a 0.821 clct[np.int64(77), np.int64(83)] clct_ans[np.int64(77), np.int64(83)] cl_acc1.000  lr 0.019227 75.356sec(train) 35.398sec(infer)\n"
     ]
    },
    {
     "name": "stdout",
     "output_type": "stream",
     "text": [
      "Epoch 525 tst: l 0.991 a 0.768 clct[np.int64(20), np.int64(20)] clct_ans[np.int64(20), np.int64(20)] cl_acc1.000  3.394sec\n"
     ]
    },
    {
     "name": "stdout",
     "output_type": "stream",
     "text": [
      "Epoch 526 tr: l 0.628 a 0.818 clct[np.int64(77), np.int64(83)] clct_ans[np.int64(77), np.int64(83)] cl_acc1.000  lr 0.019217 72.525sec(train) 35.036sec(infer)\n"
     ]
    },
    {
     "name": "stdout",
     "output_type": "stream",
     "text": [
      "Epoch 526 tst: l 0.989 a 0.768 clct[np.int64(20), np.int64(20)] clct_ans[np.int64(20), np.int64(20)] cl_acc1.000  3.318sec\n"
     ]
    },
    {
     "name": "stdout",
     "output_type": "stream",
     "text": [
      "Epoch 527 tr: l 0.623 a 0.819 clct[np.int64(84), np.int64(76)] clct_ans[np.int64(84), np.int64(76)] cl_acc1.000  lr 0.019208 72.977sec(train) 35.112sec(infer)\n"
     ]
    },
    {
     "name": "stdout",
     "output_type": "stream",
     "text": [
      "Epoch 527 tst: l 0.990 a 0.768 clct[np.int64(20), np.int64(20)] clct_ans[np.int64(20), np.int64(20)] cl_acc1.000  3.310sec\n"
     ]
    },
    {
     "name": "stdout",
     "output_type": "stream",
     "text": [
      "Epoch 528 tr: l 0.625 a 0.817 clct[np.int64(80), np.int64(80)] clct_ans[np.int64(80), np.int64(80)] cl_acc1.000  lr 0.019198 75.204sec(train) 35.284sec(infer)\n"
     ]
    },
    {
     "name": "stdout",
     "output_type": "stream",
     "text": [
      "Epoch 528 tst: l 0.991 a 0.768 clct[np.int64(20), np.int64(20)] clct_ans[np.int64(20), np.int64(20)] cl_acc1.000  3.311sec\n"
     ]
    },
    {
     "name": "stdout",
     "output_type": "stream",
     "text": [
      "Epoch 529 tr: l 0.621 a 0.819 clct[np.int64(81), np.int64(79)] clct_ans[np.int64(81), np.int64(79)] cl_acc1.000  lr 0.019188 72.548sec(train) 34.823sec(infer)\n"
     ]
    },
    {
     "name": "stdout",
     "output_type": "stream",
     "text": [
      "Epoch 529 tst: l 0.992 a 0.768 clct[np.int64(20), np.int64(20)] clct_ans[np.int64(20), np.int64(20)] cl_acc1.000  3.307sec\n"
     ]
    },
    {
     "name": "stdout",
     "output_type": "stream",
     "text": [
      "Epoch 530 tr: l 0.617 a 0.822 clct[np.int64(79), np.int64(81)] clct_ans[np.int64(79), np.int64(81)] cl_acc1.000  lr 0.019179 72.225sec(train) 35.148sec(infer)\n"
     ]
    },
    {
     "name": "stdout",
     "output_type": "stream",
     "text": [
      "Epoch 530 tst: l 0.994 a 0.766 clct[np.int64(20), np.int64(20)] clct_ans[np.int64(20), np.int64(20)] cl_acc1.000  3.308sec\n"
     ]
    },
    {
     "name": "stdout",
     "output_type": "stream",
     "text": [
      "result written at output_dfca_gi/results.pickle\n",
      "checkpoint written at output_dfca_gi/checkpoint.pt\n"
     ]
    },
    {
     "name": "stdout",
     "output_type": "stream",
     "text": [
      "Epoch 531 tr: l 0.618 a 0.820 clct[np.int64(80), np.int64(80)] clct_ans[np.int64(80), np.int64(80)] cl_acc1.000  lr 0.019169 75.197sec(train) 35.145sec(infer)\n"
     ]
    },
    {
     "name": "stdout",
     "output_type": "stream",
     "text": [
      "Epoch 531 tst: l 0.996 a 0.768 clct[np.int64(20), np.int64(20)] clct_ans[np.int64(20), np.int64(20)] cl_acc1.000  3.291sec\n"
     ]
    },
    {
     "name": "stdout",
     "output_type": "stream",
     "text": [
      "Epoch 532 tr: l 0.617 a 0.818 clct[np.int64(83), np.int64(77)] clct_ans[np.int64(83), np.int64(77)] cl_acc1.000  lr 0.019160 73.400sec(train) 35.516sec(infer)\n"
     ]
    },
    {
     "name": "stdout",
     "output_type": "stream",
     "text": [
      "Epoch 532 tst: l 0.994 a 0.768 clct[np.int64(20), np.int64(20)] clct_ans[np.int64(20), np.int64(20)] cl_acc1.000  3.398sec\n"
     ]
    },
    {
     "name": "stdout",
     "output_type": "stream",
     "text": [
      "Epoch 533 tr: l 0.626 a 0.821 clct[np.int64(85), np.int64(75)] clct_ans[np.int64(85), np.int64(75)] cl_acc1.000  lr 0.019150 75.450sec(train) 35.137sec(infer)\n"
     ]
    },
    {
     "name": "stdout",
     "output_type": "stream",
     "text": [
      "Epoch 533 tst: l 0.995 a 0.768 clct[np.int64(20), np.int64(20)] clct_ans[np.int64(20), np.int64(20)] cl_acc1.000  3.414sec\n"
     ]
    },
    {
     "name": "stdout",
     "output_type": "stream",
     "text": [
      "Epoch 534 tr: l 0.632 a 0.818 clct[np.int64(83), np.int64(77)] clct_ans[np.int64(83), np.int64(77)] cl_acc1.000  lr 0.019141 71.378sec(train) 34.916sec(infer)\n"
     ]
    },
    {
     "name": "stdout",
     "output_type": "stream",
     "text": [
      "Epoch 534 tst: l 0.995 a 0.768 clct[np.int64(20), np.int64(20)] clct_ans[np.int64(20), np.int64(20)] cl_acc1.000  3.273sec\n"
     ]
    },
    {
     "name": "stdout",
     "output_type": "stream",
     "text": [
      "Epoch 535 tr: l 0.611 a 0.823 clct[np.int64(80), np.int64(80)] clct_ans[np.int64(80), np.int64(80)] cl_acc1.000  lr 0.019131 72.357sec(train) 34.865sec(infer)\n"
     ]
    },
    {
     "name": "stdout",
     "output_type": "stream",
     "text": [
      "Epoch 535 tst: l 1.001 a 0.768 clct[np.int64(20), np.int64(20)] clct_ans[np.int64(20), np.int64(20)] cl_acc1.000  3.294sec\n"
     ]
    },
    {
     "name": "stdout",
     "output_type": "stream",
     "text": [
      "Epoch 536 tr: l 0.630 a 0.818 clct[np.int64(81), np.int64(79)] clct_ans[np.int64(81), np.int64(79)] cl_acc1.000  lr 0.019121 73.711sec(train) 35.220sec(infer)\n"
     ]
    },
    {
     "name": "stdout",
     "output_type": "stream",
     "text": [
      "Epoch 536 tst: l 0.996 a 0.767 clct[np.int64(20), np.int64(20)] clct_ans[np.int64(20), np.int64(20)] cl_acc1.000  3.300sec\n"
     ]
    },
    {
     "name": "stdout",
     "output_type": "stream",
     "text": [
      "Epoch 537 tr: l 0.628 a 0.818 clct[np.int64(77), np.int64(83)] clct_ans[np.int64(77), np.int64(83)] cl_acc1.000  lr 0.019112 70.979sec(train) 35.236sec(infer)\n"
     ]
    },
    {
     "name": "stdout",
     "output_type": "stream",
     "text": [
      "Epoch 537 tst: l 0.995 a 0.769 clct[np.int64(20), np.int64(20)] clct_ans[np.int64(20), np.int64(20)] cl_acc1.000  3.351sec\n"
     ]
    },
    {
     "name": "stdout",
     "output_type": "stream",
     "text": [
      "Epoch 538 tr: l 0.622 a 0.820 clct[np.int64(77), np.int64(83)] clct_ans[np.int64(77), np.int64(83)] cl_acc1.000  lr 0.019102 74.279sec(train) 35.427sec(infer)\n"
     ]
    },
    {
     "name": "stdout",
     "output_type": "stream",
     "text": [
      "Epoch 538 tst: l 0.996 a 0.768 clct[np.int64(20), np.int64(20)] clct_ans[np.int64(20), np.int64(20)] cl_acc1.000  3.349sec\n"
     ]
    },
    {
     "name": "stdout",
     "output_type": "stream",
     "text": [
      "Epoch 539 tr: l 0.620 a 0.820 clct[np.int64(82), np.int64(78)] clct_ans[np.int64(82), np.int64(78)] cl_acc1.000  lr 0.019093 73.818sec(train) 35.077sec(infer)\n"
     ]
    },
    {
     "name": "stdout",
     "output_type": "stream",
     "text": [
      "Epoch 539 tst: l 0.994 a 0.768 clct[np.int64(20), np.int64(20)] clct_ans[np.int64(20), np.int64(20)] cl_acc1.000  3.307sec\n"
     ]
    },
    {
     "name": "stdout",
     "output_type": "stream",
     "text": [
      "Epoch 540 tr: l 0.616 a 0.822 clct[np.int64(76), np.int64(84)] clct_ans[np.int64(76), np.int64(84)] cl_acc1.000  lr 0.019083 73.056sec(train) 35.520sec(infer)\n"
     ]
    },
    {
     "name": "stdout",
     "output_type": "stream",
     "text": [
      "Epoch 540 tst: l 0.995 a 0.769 clct[np.int64(20), np.int64(20)] clct_ans[np.int64(20), np.int64(20)] cl_acc1.000  3.378sec\n"
     ]
    },
    {
     "name": "stdout",
     "output_type": "stream",
     "text": [
      "result written at output_dfca_gi/results.pickle\n",
      "checkpoint written at output_dfca_gi/checkpoint.pt\n"
     ]
    },
    {
     "name": "stdout",
     "output_type": "stream",
     "text": [
      "Epoch 541 tr: l 0.610 a 0.822 clct[np.int64(78), np.int64(82)] clct_ans[np.int64(78), np.int64(82)] cl_acc1.000  lr 0.019074 74.555sec(train) 35.171sec(infer)\n"
     ]
    },
    {
     "name": "stdout",
     "output_type": "stream",
     "text": [
      "Epoch 541 tst: l 0.997 a 0.768 clct[np.int64(20), np.int64(20)] clct_ans[np.int64(20), np.int64(20)] cl_acc1.000  3.336sec\n"
     ]
    },
    {
     "name": "stdout",
     "output_type": "stream",
     "text": [
      "Epoch 542 tr: l 0.626 a 0.819 clct[np.int64(76), np.int64(84)] clct_ans[np.int64(76), np.int64(84)] cl_acc1.000  lr 0.019064 69.750sec(train) 34.962sec(infer)\n"
     ]
    },
    {
     "name": "stdout",
     "output_type": "stream",
     "text": [
      "Epoch 542 tst: l 0.999 a 0.767 clct[np.int64(20), np.int64(20)] clct_ans[np.int64(20), np.int64(20)] cl_acc1.000  3.403sec\n"
     ]
    },
    {
     "name": "stdout",
     "output_type": "stream",
     "text": [
      "Epoch 543 tr: l 0.630 a 0.818 clct[np.int64(83), np.int64(77)] clct_ans[np.int64(83), np.int64(77)] cl_acc1.000  lr 0.019055 71.868sec(train) 35.329sec(infer)\n"
     ]
    },
    {
     "name": "stdout",
     "output_type": "stream",
     "text": [
      "Epoch 543 tst: l 0.997 a 0.768 clct[np.int64(20), np.int64(20)] clct_ans[np.int64(20), np.int64(20)] cl_acc1.000  3.429sec\n"
     ]
    },
    {
     "name": "stdout",
     "output_type": "stream",
     "text": [
      "Epoch 544 tr: l 0.622 a 0.820 clct[np.int64(78), np.int64(82)] clct_ans[np.int64(78), np.int64(82)] cl_acc1.000  lr 0.019045 73.798sec(train) 35.046sec(infer)\n"
     ]
    },
    {
     "name": "stdout",
     "output_type": "stream",
     "text": [
      "Epoch 544 tst: l 0.998 a 0.767 clct[np.int64(20), np.int64(20)] clct_ans[np.int64(20), np.int64(20)] cl_acc1.000  3.369sec\n"
     ]
    },
    {
     "name": "stdout",
     "output_type": "stream",
     "text": [
      "Epoch 545 tr: l 0.616 a 0.821 clct[np.int64(78), np.int64(82)] clct_ans[np.int64(78), np.int64(82)] cl_acc1.000  lr 0.019036 74.056sec(train) 35.084sec(infer)\n"
     ]
    },
    {
     "name": "stdout",
     "output_type": "stream",
     "text": [
      "Epoch 545 tst: l 0.998 a 0.767 clct[np.int64(20), np.int64(20)] clct_ans[np.int64(20), np.int64(20)] cl_acc1.000  3.563sec\n"
     ]
    },
    {
     "name": "stdout",
     "output_type": "stream",
     "text": [
      "Epoch 546 tr: l 0.623 a 0.820 clct[np.int64(82), np.int64(78)] clct_ans[np.int64(82), np.int64(78)] cl_acc1.000  lr 0.019026 72.676sec(train) 35.693sec(infer)\n"
     ]
    },
    {
     "name": "stdout",
     "output_type": "stream",
     "text": [
      "Epoch 546 tst: l 1.001 a 0.767 clct[np.int64(20), np.int64(20)] clct_ans[np.int64(20), np.int64(20)] cl_acc1.000  3.313sec\n"
     ]
    },
    {
     "name": "stdout",
     "output_type": "stream",
     "text": [
      "Epoch 547 tr: l 0.623 a 0.820 clct[np.int64(79), np.int64(81)] clct_ans[np.int64(79), np.int64(81)] cl_acc1.000  lr 0.019017 72.949sec(train) 35.434sec(infer)\n"
     ]
    },
    {
     "name": "stdout",
     "output_type": "stream",
     "text": [
      "Epoch 547 tst: l 0.999 a 0.768 clct[np.int64(20), np.int64(20)] clct_ans[np.int64(20), np.int64(20)] cl_acc1.000  3.352sec\n"
     ]
    },
    {
     "name": "stdout",
     "output_type": "stream",
     "text": [
      "Epoch 548 tr: l 0.615 a 0.821 clct[np.int64(79), np.int64(81)] clct_ans[np.int64(79), np.int64(81)] cl_acc1.000  lr 0.019007 73.059sec(train) 35.155sec(infer)\n"
     ]
    },
    {
     "name": "stdout",
     "output_type": "stream",
     "text": [
      "Epoch 548 tst: l 0.997 a 0.768 clct[np.int64(20), np.int64(20)] clct_ans[np.int64(20), np.int64(20)] cl_acc1.000  3.343sec\n"
     ]
    },
    {
     "name": "stdout",
     "output_type": "stream",
     "text": [
      "Epoch 549 tr: l 0.625 a 0.820 clct[np.int64(79), np.int64(81)] clct_ans[np.int64(79), np.int64(81)] cl_acc1.000  lr 0.018997 72.472sec(train) 34.891sec(infer)\n"
     ]
    },
    {
     "name": "stdout",
     "output_type": "stream",
     "text": [
      "Epoch 549 tst: l 0.999 a 0.768 clct[np.int64(20), np.int64(20)] clct_ans[np.int64(20), np.int64(20)] cl_acc1.000  3.313sec\n"
     ]
    },
    {
     "name": "stdout",
     "output_type": "stream",
     "text": [
      "Epoch 550 tr: l 0.614 a 0.822 clct[np.int64(77), np.int64(83)] clct_ans[np.int64(77), np.int64(83)] cl_acc1.000  lr 0.018988 71.934sec(train) 34.732sec(infer)\n"
     ]
    },
    {
     "name": "stdout",
     "output_type": "stream",
     "text": [
      "Epoch 550 tst: l 0.999 a 0.768 clct[np.int64(20), np.int64(20)] clct_ans[np.int64(20), np.int64(20)] cl_acc1.000  3.295sec\n"
     ]
    },
    {
     "name": "stdout",
     "output_type": "stream",
     "text": [
      "result written at output_dfca_gi/results.pickle\n",
      "checkpoint written at output_dfca_gi/checkpoint.pt\n"
     ]
    },
    {
     "name": "stdout",
     "output_type": "stream",
     "text": [
      "Epoch 551 tr: l 0.622 a 0.820 clct[np.int64(79), np.int64(81)] clct_ans[np.int64(79), np.int64(81)] cl_acc1.000  lr 0.018979 71.715sec(train) 35.145sec(infer)\n"
     ]
    },
    {
     "name": "stdout",
     "output_type": "stream",
     "text": [
      "Epoch 551 tst: l 1.000 a 0.769 clct[np.int64(20), np.int64(20)] clct_ans[np.int64(20), np.int64(20)] cl_acc1.000  3.298sec\n"
     ]
    },
    {
     "name": "stdout",
     "output_type": "stream",
     "text": [
      "Epoch 552 tr: l 0.610 a 0.822 clct[np.int64(78), np.int64(82)] clct_ans[np.int64(78), np.int64(82)] cl_acc1.000  lr 0.018969 76.326sec(train) 35.577sec(infer)\n"
     ]
    },
    {
     "name": "stdout",
     "output_type": "stream",
     "text": [
      "Epoch 552 tst: l 1.000 a 0.768 clct[np.int64(20), np.int64(20)] clct_ans[np.int64(20), np.int64(20)] cl_acc1.000  3.513sec\n"
     ]
    },
    {
     "name": "stdout",
     "output_type": "stream",
     "text": [
      "Epoch 553 tr: l 0.619 a 0.820 clct[np.int64(85), np.int64(75)] clct_ans[np.int64(85), np.int64(75)] cl_acc1.000  lr 0.018960 72.321sec(train) 34.916sec(infer)\n"
     ]
    },
    {
     "name": "stdout",
     "output_type": "stream",
     "text": [
      "Epoch 553 tst: l 0.999 a 0.767 clct[np.int64(20), np.int64(20)] clct_ans[np.int64(20), np.int64(20)] cl_acc1.000  3.385sec\n"
     ]
    },
    {
     "name": "stdout",
     "output_type": "stream",
     "text": [
      "Epoch 554 tr: l 0.612 a 0.824 clct[np.int64(79), np.int64(81)] clct_ans[np.int64(79), np.int64(81)] cl_acc1.000  lr 0.018950 71.920sec(train) 35.233sec(infer)\n"
     ]
    },
    {
     "name": "stdout",
     "output_type": "stream",
     "text": [
      "Epoch 554 tst: l 1.001 a 0.768 clct[np.int64(20), np.int64(20)] clct_ans[np.int64(20), np.int64(20)] cl_acc1.000  3.320sec\n"
     ]
    },
    {
     "name": "stdout",
     "output_type": "stream",
     "text": [
      "Epoch 555 tr: l 0.611 a 0.822 clct[np.int64(80), np.int64(80)] clct_ans[np.int64(80), np.int64(80)] cl_acc1.000  lr 0.018941 74.343sec(train) 34.921sec(infer)\n"
     ]
    },
    {
     "name": "stdout",
     "output_type": "stream",
     "text": [
      "Epoch 555 tst: l 1.000 a 0.768 clct[np.int64(20), np.int64(20)] clct_ans[np.int64(20), np.int64(20)] cl_acc1.000  3.459sec\n"
     ]
    },
    {
     "name": "stdout",
     "output_type": "stream",
     "text": [
      "Epoch 556 tr: l 0.612 a 0.824 clct[np.int64(79), np.int64(81)] clct_ans[np.int64(79), np.int64(81)] cl_acc1.000  lr 0.018931 72.816sec(train) 34.884sec(infer)\n"
     ]
    },
    {
     "name": "stdout",
     "output_type": "stream",
     "text": [
      "Epoch 556 tst: l 0.999 a 0.769 clct[np.int64(20), np.int64(20)] clct_ans[np.int64(20), np.int64(20)] cl_acc1.000  3.326sec\n"
     ]
    },
    {
     "name": "stdout",
     "output_type": "stream",
     "text": [
      "Epoch 557 tr: l 0.612 a 0.822 clct[np.int64(84), np.int64(76)] clct_ans[np.int64(84), np.int64(76)] cl_acc1.000  lr 0.018922 73.575sec(train) 35.255sec(infer)\n"
     ]
    },
    {
     "name": "stdout",
     "output_type": "stream",
     "text": [
      "Epoch 557 tst: l 1.003 a 0.768 clct[np.int64(20), np.int64(20)] clct_ans[np.int64(20), np.int64(20)] cl_acc1.000  3.345sec\n"
     ]
    },
    {
     "name": "stdout",
     "output_type": "stream",
     "text": [
      "Epoch 558 tr: l 0.616 a 0.822 clct[np.int64(78), np.int64(82)] clct_ans[np.int64(78), np.int64(82)] cl_acc1.000  lr 0.018912 73.332sec(train) 34.864sec(infer)\n"
     ]
    },
    {
     "name": "stdout",
     "output_type": "stream",
     "text": [
      "Epoch 558 tst: l 1.003 a 0.768 clct[np.int64(20), np.int64(20)] clct_ans[np.int64(20), np.int64(20)] cl_acc1.000  3.317sec\n"
     ]
    },
    {
     "name": "stdout",
     "output_type": "stream",
     "text": [
      "Epoch 559 tr: l 0.624 a 0.819 clct[np.int64(80), np.int64(80)] clct_ans[np.int64(80), np.int64(80)] cl_acc1.000  lr 0.018903 74.506sec(train) 35.327sec(infer)\n"
     ]
    },
    {
     "name": "stdout",
     "output_type": "stream",
     "text": [
      "Epoch 559 tst: l 1.002 a 0.768 clct[np.int64(20), np.int64(20)] clct_ans[np.int64(20), np.int64(20)] cl_acc1.000  3.451sec\n"
     ]
    },
    {
     "name": "stdout",
     "output_type": "stream",
     "text": [
      "Epoch 560 tr: l 0.621 a 0.822 clct[np.int64(81), np.int64(79)] clct_ans[np.int64(81), np.int64(79)] cl_acc1.000  lr 0.018893 72.425sec(train) 34.769sec(infer)\n"
     ]
    },
    {
     "name": "stdout",
     "output_type": "stream",
     "text": [
      "Epoch 560 tst: l 1.003 a 0.768 clct[np.int64(20), np.int64(20)] clct_ans[np.int64(20), np.int64(20)] cl_acc1.000  3.427sec\n"
     ]
    },
    {
     "name": "stdout",
     "output_type": "stream",
     "text": [
      "result written at output_dfca_gi/results.pickle\n",
      "checkpoint written at output_dfca_gi/checkpoint.pt\n"
     ]
    },
    {
     "name": "stdout",
     "output_type": "stream",
     "text": [
      "Epoch 561 tr: l 0.615 a 0.823 clct[np.int64(83), np.int64(77)] clct_ans[np.int64(83), np.int64(77)] cl_acc1.000  lr 0.018884 73.123sec(train) 35.439sec(infer)\n"
     ]
    },
    {
     "name": "stdout",
     "output_type": "stream",
     "text": [
      "Epoch 561 tst: l 1.005 a 0.769 clct[np.int64(20), np.int64(20)] clct_ans[np.int64(20), np.int64(20)] cl_acc1.000  3.375sec\n"
     ]
    },
    {
     "name": "stdout",
     "output_type": "stream",
     "text": [
      "Epoch 562 tr: l 0.614 a 0.822 clct[np.int64(77), np.int64(83)] clct_ans[np.int64(77), np.int64(83)] cl_acc1.000  lr 0.018874 72.991sec(train) 34.860sec(infer)\n"
     ]
    },
    {
     "name": "stdout",
     "output_type": "stream",
     "text": [
      "Epoch 562 tst: l 1.003 a 0.768 clct[np.int64(20), np.int64(20)] clct_ans[np.int64(20), np.int64(20)] cl_acc1.000  3.379sec\n"
     ]
    },
    {
     "name": "stdout",
     "output_type": "stream",
     "text": [
      "Epoch 563 tr: l 0.616 a 0.822 clct[np.int64(79), np.int64(81)] clct_ans[np.int64(79), np.int64(81)] cl_acc1.000  lr 0.018865 74.275sec(train) 35.057sec(infer)\n"
     ]
    },
    {
     "name": "stdout",
     "output_type": "stream",
     "text": [
      "Epoch 563 tst: l 1.005 a 0.768 clct[np.int64(20), np.int64(20)] clct_ans[np.int64(20), np.int64(20)] cl_acc1.000  3.310sec\n"
     ]
    },
    {
     "name": "stdout",
     "output_type": "stream",
     "text": [
      "Epoch 564 tr: l 0.614 a 0.823 clct[np.int64(81), np.int64(79)] clct_ans[np.int64(81), np.int64(79)] cl_acc1.000  lr 0.018856 74.442sec(train) 35.263sec(infer)\n"
     ]
    },
    {
     "name": "stdout",
     "output_type": "stream",
     "text": [
      "Epoch 564 tst: l 1.001 a 0.768 clct[np.int64(20), np.int64(20)] clct_ans[np.int64(20), np.int64(20)] cl_acc1.000  3.350sec\n"
     ]
    },
    {
     "name": "stdout",
     "output_type": "stream",
     "text": [
      "Epoch 565 tr: l 0.616 a 0.822 clct[np.int64(80), np.int64(80)] clct_ans[np.int64(80), np.int64(80)] cl_acc1.000  lr 0.018846 71.438sec(train) 34.997sec(infer)\n"
     ]
    },
    {
     "name": "stdout",
     "output_type": "stream",
     "text": [
      "Epoch 565 tst: l 1.002 a 0.768 clct[np.int64(20), np.int64(20)] clct_ans[np.int64(20), np.int64(20)] cl_acc1.000  3.316sec\n"
     ]
    },
    {
     "name": "stdout",
     "output_type": "stream",
     "text": [
      "Epoch 566 tr: l 0.614 a 0.822 clct[np.int64(80), np.int64(80)] clct_ans[np.int64(80), np.int64(80)] cl_acc1.000  lr 0.018837 72.595sec(train) 35.433sec(infer)\n"
     ]
    },
    {
     "name": "stdout",
     "output_type": "stream",
     "text": [
      "Epoch 566 tst: l 1.004 a 0.768 clct[np.int64(20), np.int64(20)] clct_ans[np.int64(20), np.int64(20)] cl_acc1.000  3.312sec\n"
     ]
    },
    {
     "name": "stdout",
     "output_type": "stream",
     "text": [
      "Epoch 567 tr: l 0.620 a 0.820 clct[np.int64(82), np.int64(78)] clct_ans[np.int64(82), np.int64(78)] cl_acc1.000  lr 0.018827 73.983sec(train) 35.164sec(infer)\n"
     ]
    },
    {
     "name": "stdout",
     "output_type": "stream",
     "text": [
      "Epoch 567 tst: l 1.006 a 0.768 clct[np.int64(20), np.int64(20)] clct_ans[np.int64(20), np.int64(20)] cl_acc1.000  3.356sec\n"
     ]
    },
    {
     "name": "stdout",
     "output_type": "stream",
     "text": [
      "Epoch 568 tr: l 0.622 a 0.820 clct[np.int64(80), np.int64(80)] clct_ans[np.int64(80), np.int64(80)] cl_acc1.000  lr 0.018818 73.743sec(train) 35.056sec(infer)\n"
     ]
    },
    {
     "name": "stdout",
     "output_type": "stream",
     "text": [
      "Epoch 568 tst: l 1.003 a 0.769 clct[np.int64(20), np.int64(20)] clct_ans[np.int64(20), np.int64(20)] cl_acc1.000  3.393sec\n"
     ]
    },
    {
     "name": "stdout",
     "output_type": "stream",
     "text": [
      "Epoch 569 tr: l 0.624 a 0.820 clct[np.int64(82), np.int64(78)] clct_ans[np.int64(82), np.int64(78)] cl_acc1.000  lr 0.018808 73.962sec(train) 35.123sec(infer)\n"
     ]
    },
    {
     "name": "stdout",
     "output_type": "stream",
     "text": [
      "Epoch 569 tst: l 1.006 a 0.768 clct[np.int64(20), np.int64(20)] clct_ans[np.int64(20), np.int64(20)] cl_acc1.000  3.341sec\n"
     ]
    },
    {
     "name": "stdout",
     "output_type": "stream",
     "text": [
      "Epoch 570 tr: l 0.621 a 0.821 clct[np.int64(77), np.int64(83)] clct_ans[np.int64(77), np.int64(83)] cl_acc1.000  lr 0.018799 72.994sec(train) 35.137sec(infer)\n"
     ]
    },
    {
     "name": "stdout",
     "output_type": "stream",
     "text": [
      "Epoch 570 tst: l 1.003 a 0.769 clct[np.int64(20), np.int64(20)] clct_ans[np.int64(20), np.int64(20)] cl_acc1.000  3.414sec\n"
     ]
    },
    {
     "name": "stdout",
     "output_type": "stream",
     "text": [
      "result written at output_dfca_gi/results.pickle\n",
      "checkpoint written at output_dfca_gi/checkpoint.pt\n"
     ]
    },
    {
     "name": "stdout",
     "output_type": "stream",
     "text": [
      "Epoch 571 tr: l 0.617 a 0.822 clct[np.int64(78), np.int64(82)] clct_ans[np.int64(78), np.int64(82)] cl_acc1.000  lr 0.018790 73.856sec(train) 35.454sec(infer)\n"
     ]
    },
    {
     "name": "stdout",
     "output_type": "stream",
     "text": [
      "Epoch 571 tst: l 1.010 a 0.768 clct[np.int64(20), np.int64(20)] clct_ans[np.int64(20), np.int64(20)] cl_acc1.000  3.370sec\n"
     ]
    },
    {
     "name": "stdout",
     "output_type": "stream",
     "text": [
      "Epoch 572 tr: l 0.612 a 0.822 clct[np.int64(82), np.int64(78)] clct_ans[np.int64(82), np.int64(78)] cl_acc1.000  lr 0.018780 73.060sec(train) 35.084sec(infer)\n"
     ]
    },
    {
     "name": "stdout",
     "output_type": "stream",
     "text": [
      "Epoch 572 tst: l 1.009 a 0.768 clct[np.int64(20), np.int64(20)] clct_ans[np.int64(20), np.int64(20)] cl_acc1.000  3.361sec\n"
     ]
    },
    {
     "name": "stdout",
     "output_type": "stream",
     "text": [
      "Epoch 573 tr: l 0.618 a 0.821 clct[np.int64(78), np.int64(82)] clct_ans[np.int64(78), np.int64(82)] cl_acc1.000  lr 0.018771 74.152sec(train) 35.097sec(infer)\n"
     ]
    },
    {
     "name": "stdout",
     "output_type": "stream",
     "text": [
      "Epoch 573 tst: l 1.005 a 0.768 clct[np.int64(20), np.int64(20)] clct_ans[np.int64(20), np.int64(20)] cl_acc1.000  3.410sec\n"
     ]
    },
    {
     "name": "stdout",
     "output_type": "stream",
     "text": [
      "Epoch 574 tr: l 0.625 a 0.819 clct[np.int64(85), np.int64(75)] clct_ans[np.int64(85), np.int64(75)] cl_acc1.000  lr 0.018761 72.066sec(train) 34.831sec(infer)\n"
     ]
    },
    {
     "name": "stdout",
     "output_type": "stream",
     "text": [
      "Epoch 574 tst: l 1.007 a 0.769 clct[np.int64(20), np.int64(20)] clct_ans[np.int64(20), np.int64(20)] cl_acc1.000  3.290sec\n"
     ]
    },
    {
     "name": "stdout",
     "output_type": "stream",
     "text": [
      "Epoch 575 tr: l 0.617 a 0.823 clct[np.int64(80), np.int64(80)] clct_ans[np.int64(80), np.int64(80)] cl_acc1.000  lr 0.018752 73.978sec(train) 34.796sec(infer)\n"
     ]
    },
    {
     "name": "stdout",
     "output_type": "stream",
     "text": [
      "Epoch 575 tst: l 1.009 a 0.767 clct[np.int64(20), np.int64(20)] clct_ans[np.int64(20), np.int64(20)] cl_acc1.000  3.336sec\n"
     ]
    },
    {
     "name": "stdout",
     "output_type": "stream",
     "text": [
      "Epoch 576 tr: l 0.612 a 0.823 clct[np.int64(77), np.int64(83)] clct_ans[np.int64(77), np.int64(83)] cl_acc1.000  lr 0.018743 73.928sec(train) 35.276sec(infer)\n"
     ]
    },
    {
     "name": "stdout",
     "output_type": "stream",
     "text": [
      "Epoch 576 tst: l 1.006 a 0.769 clct[np.int64(20), np.int64(20)] clct_ans[np.int64(20), np.int64(20)] cl_acc1.000  3.350sec\n"
     ]
    },
    {
     "name": "stdout",
     "output_type": "stream",
     "text": [
      "Epoch 577 tr: l 0.617 a 0.821 clct[np.int64(81), np.int64(79)] clct_ans[np.int64(81), np.int64(79)] cl_acc1.000  lr 0.018733 73.608sec(train) 35.101sec(infer)\n"
     ]
    },
    {
     "name": "stdout",
     "output_type": "stream",
     "text": [
      "Epoch 577 tst: l 1.005 a 0.769 clct[np.int64(20), np.int64(20)] clct_ans[np.int64(20), np.int64(20)] cl_acc1.000  3.335sec\n"
     ]
    },
    {
     "name": "stdout",
     "output_type": "stream",
     "text": [
      "Epoch 578 tr: l 0.614 a 0.822 clct[np.int64(82), np.int64(78)] clct_ans[np.int64(82), np.int64(78)] cl_acc1.000  lr 0.018724 72.797sec(train) 35.029sec(infer)\n"
     ]
    },
    {
     "name": "stdout",
     "output_type": "stream",
     "text": [
      "Epoch 578 tst: l 1.008 a 0.768 clct[np.int64(20), np.int64(20)] clct_ans[np.int64(20), np.int64(20)] cl_acc1.000  3.318sec\n"
     ]
    },
    {
     "name": "stdout",
     "output_type": "stream",
     "text": [
      "Epoch 579 tr: l 0.617 a 0.823 clct[np.int64(80), np.int64(80)] clct_ans[np.int64(80), np.int64(80)] cl_acc1.000  lr 0.018715 73.586sec(train) 35.440sec(infer)\n"
     ]
    },
    {
     "name": "stdout",
     "output_type": "stream",
     "text": [
      "Epoch 579 tst: l 1.006 a 0.769 clct[np.int64(20), np.int64(20)] clct_ans[np.int64(20), np.int64(20)] cl_acc1.000  3.304sec\n"
     ]
    },
    {
     "name": "stdout",
     "output_type": "stream",
     "text": [
      "Epoch 580 tr: l 0.613 a 0.823 clct[np.int64(82), np.int64(78)] clct_ans[np.int64(82), np.int64(78)] cl_acc1.000  lr 0.018705 74.471sec(train) 35.266sec(infer)\n"
     ]
    },
    {
     "name": "stdout",
     "output_type": "stream",
     "text": [
      "Epoch 580 tst: l 1.005 a 0.769 clct[np.int64(20), np.int64(20)] clct_ans[np.int64(20), np.int64(20)] cl_acc1.000  3.313sec\n"
     ]
    },
    {
     "name": "stdout",
     "output_type": "stream",
     "text": [
      "result written at output_dfca_gi/results.pickle\n",
      "checkpoint written at output_dfca_gi/checkpoint.pt\n"
     ]
    },
    {
     "name": "stdout",
     "output_type": "stream",
     "text": [
      "Epoch 581 tr: l 0.618 a 0.823 clct[np.int64(82), np.int64(78)] clct_ans[np.int64(82), np.int64(78)] cl_acc1.000  lr 0.018696 71.466sec(train) 35.127sec(infer)\n"
     ]
    },
    {
     "name": "stdout",
     "output_type": "stream",
     "text": [
      "Epoch 581 tst: l 1.008 a 0.768 clct[np.int64(20), np.int64(20)] clct_ans[np.int64(20), np.int64(20)] cl_acc1.000  3.294sec\n"
     ]
    },
    {
     "name": "stdout",
     "output_type": "stream",
     "text": [
      "Epoch 582 tr: l 0.611 a 0.824 clct[np.int64(82), np.int64(78)] clct_ans[np.int64(82), np.int64(78)] cl_acc1.000  lr 0.018687 72.347sec(train) 35.341sec(infer)\n"
     ]
    },
    {
     "name": "stdout",
     "output_type": "stream",
     "text": [
      "Epoch 582 tst: l 1.012 a 0.767 clct[np.int64(20), np.int64(20)] clct_ans[np.int64(20), np.int64(20)] cl_acc1.000  3.555sec\n"
     ]
    },
    {
     "name": "stdout",
     "output_type": "stream",
     "text": [
      "Epoch 583 tr: l 0.616 a 0.822 clct[np.int64(80), np.int64(80)] clct_ans[np.int64(80), np.int64(80)] cl_acc1.000  lr 0.018677 72.924sec(train) 35.591sec(infer)\n"
     ]
    },
    {
     "name": "stdout",
     "output_type": "stream",
     "text": [
      "Epoch 583 tst: l 1.012 a 0.768 clct[np.int64(20), np.int64(20)] clct_ans[np.int64(20), np.int64(20)] cl_acc1.000  3.400sec\n"
     ]
    },
    {
     "name": "stdout",
     "output_type": "stream",
     "text": [
      "Epoch 584 tr: l 0.616 a 0.822 clct[np.int64(82), np.int64(78)] clct_ans[np.int64(82), np.int64(78)] cl_acc1.000  lr 0.018668 73.206sec(train) 34.879sec(infer)\n"
     ]
    },
    {
     "name": "stdout",
     "output_type": "stream",
     "text": [
      "Epoch 584 tst: l 1.010 a 0.768 clct[np.int64(20), np.int64(20)] clct_ans[np.int64(20), np.int64(20)] cl_acc1.000  3.323sec\n"
     ]
    },
    {
     "name": "stdout",
     "output_type": "stream",
     "text": [
      "Epoch 585 tr: l 0.617 a 0.821 clct[np.int64(78), np.int64(82)] clct_ans[np.int64(78), np.int64(82)] cl_acc1.000  lr 0.018659 72.288sec(train) 35.493sec(infer)\n"
     ]
    },
    {
     "name": "stdout",
     "output_type": "stream",
     "text": [
      "Epoch 585 tst: l 1.008 a 0.767 clct[np.int64(20), np.int64(20)] clct_ans[np.int64(20), np.int64(20)] cl_acc1.000  3.387sec\n"
     ]
    },
    {
     "name": "stdout",
     "output_type": "stream",
     "text": [
      "Epoch 586 tr: l 0.610 a 0.822 clct[np.int64(78), np.int64(82)] clct_ans[np.int64(78), np.int64(82)] cl_acc1.000  lr 0.018649 73.769sec(train) 34.885sec(infer)\n"
     ]
    },
    {
     "name": "stdout",
     "output_type": "stream",
     "text": [
      "Epoch 586 tst: l 1.009 a 0.768 clct[np.int64(20), np.int64(20)] clct_ans[np.int64(20), np.int64(20)] cl_acc1.000  3.277sec\n"
     ]
    },
    {
     "name": "stdout",
     "output_type": "stream",
     "text": [
      "Epoch 587 tr: l 0.614 a 0.823 clct[np.int64(81), np.int64(79)] clct_ans[np.int64(81), np.int64(79)] cl_acc1.000  lr 0.018640 70.633sec(train) 35.211sec(infer)\n"
     ]
    },
    {
     "name": "stdout",
     "output_type": "stream",
     "text": [
      "Epoch 587 tst: l 1.010 a 0.769 clct[np.int64(20), np.int64(20)] clct_ans[np.int64(20), np.int64(20)] cl_acc1.000  3.364sec\n"
     ]
    },
    {
     "name": "stdout",
     "output_type": "stream",
     "text": [
      "Epoch 588 tr: l 0.607 a 0.826 clct[np.int64(79), np.int64(81)] clct_ans[np.int64(79), np.int64(81)] cl_acc1.000  lr 0.018631 69.704sec(train) 35.028sec(infer)\n"
     ]
    },
    {
     "name": "stdout",
     "output_type": "stream",
     "text": [
      "Epoch 588 tst: l 1.013 a 0.769 clct[np.int64(20), np.int64(20)] clct_ans[np.int64(20), np.int64(20)] cl_acc1.000  3.323sec\n"
     ]
    },
    {
     "name": "stdout",
     "output_type": "stream",
     "text": [
      "Epoch 589 tr: l 0.613 a 0.822 clct[np.int64(85), np.int64(75)] clct_ans[np.int64(85), np.int64(75)] cl_acc1.000  lr 0.018621 71.632sec(train) 35.167sec(infer)\n"
     ]
    },
    {
     "name": "stdout",
     "output_type": "stream",
     "text": [
      "Epoch 589 tst: l 1.012 a 0.769 clct[np.int64(20), np.int64(20)] clct_ans[np.int64(20), np.int64(20)] cl_acc1.000  3.409sec\n"
     ]
    },
    {
     "name": "stdout",
     "output_type": "stream",
     "text": [
      "Epoch 590 tr: l 0.620 a 0.821 clct[np.int64(86), np.int64(74)] clct_ans[np.int64(86), np.int64(74)] cl_acc1.000  lr 0.018612 71.781sec(train) 34.892sec(infer)\n"
     ]
    },
    {
     "name": "stdout",
     "output_type": "stream",
     "text": [
      "Epoch 590 tst: l 1.010 a 0.770 clct[np.int64(20), np.int64(20)] clct_ans[np.int64(20), np.int64(20)] cl_acc1.000  3.297sec\n"
     ]
    },
    {
     "name": "stdout",
     "output_type": "stream",
     "text": [
      "result written at output_dfca_gi/results.pickle\n",
      "checkpoint written at output_dfca_gi/checkpoint.pt\n"
     ]
    },
    {
     "name": "stdout",
     "output_type": "stream",
     "text": [
      "Epoch 591 tr: l 0.600 a 0.826 clct[np.int64(82), np.int64(78)] clct_ans[np.int64(82), np.int64(78)] cl_acc1.000  lr 0.018603 70.234sec(train) 34.604sec(infer)\n"
     ]
    },
    {
     "name": "stdout",
     "output_type": "stream",
     "text": [
      "Epoch 591 tst: l 1.014 a 0.767 clct[np.int64(20), np.int64(20)] clct_ans[np.int64(20), np.int64(20)] cl_acc1.000  3.332sec\n"
     ]
    },
    {
     "name": "stdout",
     "output_type": "stream",
     "text": [
      "Epoch 592 tr: l 0.617 a 0.820 clct[np.int64(82), np.int64(78)] clct_ans[np.int64(82), np.int64(78)] cl_acc1.000  lr 0.018593 67.485sec(train) 34.581sec(infer)\n"
     ]
    },
    {
     "name": "stdout",
     "output_type": "stream",
     "text": [
      "Epoch 592 tst: l 1.011 a 0.767 clct[np.int64(20), np.int64(20)] clct_ans[np.int64(20), np.int64(20)] cl_acc1.000  3.272sec\n"
     ]
    },
    {
     "name": "stdout",
     "output_type": "stream",
     "text": [
      "Epoch 593 tr: l 0.614 a 0.822 clct[np.int64(81), np.int64(79)] clct_ans[np.int64(81), np.int64(79)] cl_acc1.000  lr 0.018584 73.631sec(train) 34.564sec(infer)\n"
     ]
    },
    {
     "name": "stdout",
     "output_type": "stream",
     "text": [
      "Epoch 593 tst: l 1.010 a 0.767 clct[np.int64(20), np.int64(20)] clct_ans[np.int64(20), np.int64(20)] cl_acc1.000  3.303sec\n"
     ]
    },
    {
     "name": "stdout",
     "output_type": "stream",
     "text": [
      "Epoch 594 tr: l 0.616 a 0.821 clct[np.int64(76), np.int64(84)] clct_ans[np.int64(76), np.int64(84)] cl_acc1.000  lr 0.018575 74.010sec(train) 34.615sec(infer)\n"
     ]
    },
    {
     "name": "stdout",
     "output_type": "stream",
     "text": [
      "Epoch 594 tst: l 1.007 a 0.768 clct[np.int64(20), np.int64(20)] clct_ans[np.int64(20), np.int64(20)] cl_acc1.000  3.256sec\n"
     ]
    },
    {
     "name": "stdout",
     "output_type": "stream",
     "text": [
      "Epoch 595 tr: l 0.609 a 0.824 clct[np.int64(78), np.int64(82)] clct_ans[np.int64(78), np.int64(82)] cl_acc1.000  lr 0.018565 72.036sec(train) 35.050sec(infer)\n"
     ]
    },
    {
     "name": "stdout",
     "output_type": "stream",
     "text": [
      "Epoch 595 tst: l 1.012 a 0.769 clct[np.int64(20), np.int64(20)] clct_ans[np.int64(20), np.int64(20)] cl_acc1.000  3.319sec\n"
     ]
    },
    {
     "name": "stdout",
     "output_type": "stream",
     "text": [
      "Epoch 596 tr: l 0.614 a 0.825 clct[np.int64(80), np.int64(80)] clct_ans[np.int64(80), np.int64(80)] cl_acc1.000  lr 0.018556 73.492sec(train) 34.854sec(infer)\n"
     ]
    },
    {
     "name": "stdout",
     "output_type": "stream",
     "text": [
      "Epoch 596 tst: l 1.012 a 0.768 clct[np.int64(20), np.int64(20)] clct_ans[np.int64(20), np.int64(20)] cl_acc1.000  3.364sec\n"
     ]
    },
    {
     "name": "stdout",
     "output_type": "stream",
     "text": [
      "Epoch 597 tr: l 0.599 a 0.826 clct[np.int64(81), np.int64(79)] clct_ans[np.int64(81), np.int64(79)] cl_acc1.000  lr 0.018547 71.427sec(train) 34.500sec(infer)\n"
     ]
    },
    {
     "name": "stdout",
     "output_type": "stream",
     "text": [
      "Epoch 597 tst: l 1.011 a 0.767 clct[np.int64(20), np.int64(20)] clct_ans[np.int64(20), np.int64(20)] cl_acc1.000  3.300sec\n"
     ]
    },
    {
     "name": "stdout",
     "output_type": "stream",
     "text": [
      "Epoch 598 tr: l 0.606 a 0.824 clct[np.int64(80), np.int64(80)] clct_ans[np.int64(80), np.int64(80)] cl_acc1.000  lr 0.018538 71.411sec(train) 34.662sec(infer)\n"
     ]
    },
    {
     "name": "stdout",
     "output_type": "stream",
     "text": [
      "Epoch 598 tst: l 1.012 a 0.768 clct[np.int64(20), np.int64(20)] clct_ans[np.int64(20), np.int64(20)] cl_acc1.000  3.351sec\n"
     ]
    },
    {
     "name": "stdout",
     "output_type": "stream",
     "text": [
      "Epoch 599 tr: l 0.608 a 0.824 clct[np.int64(83), np.int64(77)] clct_ans[np.int64(83), np.int64(77)] cl_acc1.000  lr 0.018528 73.036sec(train) 34.602sec(infer)\n"
     ]
    },
    {
     "name": "stdout",
     "output_type": "stream",
     "text": [
      "Epoch 599 tst: l 1.012 a 0.768 clct[np.int64(20), np.int64(20)] clct_ans[np.int64(20), np.int64(20)] cl_acc1.000  3.323sec\n"
     ]
    },
    {
     "name": "stdout",
     "output_type": "stream",
     "text": [
      "result written at output_dfca_gi/results.pickle\n",
      "checkpoint written at output_dfca_gi/checkpoint.pt\n",
      "---train cluster Ended in 18.52 hour (66658.861 sec) \n"
     ]
    }
   ],
   "source": [
    "torch.cuda.empty_cache()\n",
    "\n",
    "with open(\"config.json\", \"r\") as read_file:\n",
    "    config = json.load(read_file)\n",
    "\n",
    "res_final = []\n",
    "\n",
    "start_time = time.time()\n",
    "config['data_seed'] = 13\n",
    "config['train_seed'] = config['data_seed']\n",
    "\n",
    "print(\"config:\",config)\n",
    "device = torch.device(\"cuda\" if torch.cuda.is_available() else \"cpu\")\n",
    "print(f\"Using device: {device}\")\n",
    "\n",
    "exp = DFCA.TrainCIFARCluster(config, device)\n",
    "exp.setup()\n",
    "res = exp.run()\n",
    "res_final.append([[r['test']['loss'] for r in res], [r['test']['acc'] for r in res], [r['test']['cl_acc'] for r in res]])\n",
    "del exp\n",
    "duration = (time.time() - start_time)\n",
    "print(\"---train cluster Ended in %0.2f hour (%.3f sec) \" % (duration/float(3600), duration))\n"
   ]
  }
 ],
 "metadata": {
  "kernelspec": {
   "display_name": "Python 3",
   "language": "python",
   "name": "python3"
  },
  "language_info": {
   "codemirror_mode": {
    "name": "ipython",
    "version": 3
   },
   "file_extension": ".py",
   "mimetype": "text/x-python",
   "name": "python",
   "nbconvert_exporter": "python",
   "pygments_lexer": "ipython3",
   "version": "3.11.11"
  }
 },
 "nbformat": 4,
 "nbformat_minor": 5
}
