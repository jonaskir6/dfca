{
 "cells": [
  {
   "cell_type": "code",
   "execution_count": 1,
   "id": "2f20bfb1",
   "metadata": {
    "execution": {
     "iopub.execute_input": "2025-06-14T10:18:18.664964Z",
     "iopub.status.busy": "2025-06-14T10:18:18.664505Z",
     "iopub.status.idle": "2025-06-14T10:18:24.193133Z",
     "shell.execute_reply": "2025-06-14T10:18:24.191970Z"
    }
   },
   "outputs": [],
   "source": [
    "import json\n",
    "import os\n",
    "import time\n",
    "import ipyparallel as ipp\n",
    "\n",
    "import matplotlib.pyplot as plt\n",
    "import torch\n",
    "import ifca as IFCA\n",
    "import numpy as np\n",
    "\n",
    "from util import *"
   ]
  },
  {
   "cell_type": "code",
   "execution_count": 2,
   "id": "ee6c788b",
   "metadata": {
    "execution": {
     "iopub.execute_input": "2025-06-14T10:18:24.196583Z",
     "iopub.status.busy": "2025-06-14T10:18:24.196190Z",
     "iopub.status.idle": "2025-06-14T22:35:04.460449Z",
     "shell.execute_reply": "2025-06-14T22:35:04.459469Z"
    }
   },
   "outputs": [
    {
     "name": "stdout",
     "output_type": "stream",
     "text": [
      "config: {'m': 200, 'm_test': 40, 'p': 2, 'n': 500, 'uneven': False, 'local_model_init': False, 'participation_rate': 0.5, 'h1': 128, 'num_epochs': 600, 'batch_size': 50, 'tau': 5, 'lr': 0.25, 'data_seed': 13, 'train_seed': 13, 'config_override': '', 'project_dir': 'output_dfca_gi'}\n",
      "Using device: cuda\n",
      "num_data: 50000\n"
     ]
    },
    {
     "name": "stdout",
     "output_type": "stream",
     "text": [
      "num_data: 10000\n"
     ]
    },
    {
     "name": "stdout",
     "output_type": "stream",
     "text": [
      "finding good initializer from train data\n"
     ]
    },
    {
     "name": "stdout",
     "output_type": "stream",
     "text": [
      "Epoch -1 tr: l 2.302 a 0.102 clct[np.int64(54), np.int64(46)] clct_ans[np.int64(50), np.int64(50)]  20.935sec\n",
      "found good initializer\n"
     ]
    },
    {
     "name": "stdout",
     "output_type": "stream",
     "text": [
      "Epoch -1 tr: l 2.303 a 0.104 clct[np.int64(54), np.int64(46)] clct_ans[np.int64(47), np.int64(53)]  20.682sec\n"
     ]
    },
    {
     "name": "stdout",
     "output_type": "stream",
     "text": [
      "Epoch -1 tst: l 2.302 a 0.101 clct[np.int64(18), np.int64(22)] clct_ans[np.int64(20), np.int64(20)]  3.089sec\n"
     ]
    },
    {
     "name": "stdout",
     "output_type": "stream",
     "text": [
      "Epoch 0 tr: l 2.216 a 0.211 clct[np.int64(82), np.int64(18)] clct_ans[np.int64(51), np.int64(49)]  lr 0.250000 64.886sec(train) 21.429sec(infer)\n"
     ]
    },
    {
     "name": "stdout",
     "output_type": "stream",
     "text": [
      "Epoch 0 tst: l 2.212 a 0.229 clct[np.int64(29), np.int64(11)] clct_ans[np.int64(20), np.int64(20)]  3.116sec\n",
      "result written at output_dfca_gi/results.pickle\n",
      "checkpoint written at output_dfca_gi/checkpoint.pt\n"
     ]
    },
    {
     "name": "stdout",
     "output_type": "stream",
     "text": [
      "Epoch 1 tr: l 2.065 a 0.273 clct[np.int64(48), np.int64(52)] clct_ans[np.int64(48), np.int64(52)]  lr 0.249975 48.069sec(train) 20.957sec(infer)\n"
     ]
    },
    {
     "name": "stdout",
     "output_type": "stream",
     "text": [
      "Epoch 1 tst: l 2.051 a 0.290 clct[np.int64(20), np.int64(20)] clct_ans[np.int64(20), np.int64(20)]  3.229sec\n"
     ]
    },
    {
     "name": "stdout",
     "output_type": "stream",
     "text": [
      "Epoch 2 tr: l 1.934 a 0.313 clct[np.int64(43), np.int64(57)] clct_ans[np.int64(43), np.int64(57)]  lr 0.249950 48.026sec(train) 21.587sec(infer)\n"
     ]
    },
    {
     "name": "stdout",
     "output_type": "stream",
     "text": [
      "Epoch 2 tst: l 1.899 a 0.336 clct[np.int64(20), np.int64(20)] clct_ans[np.int64(20), np.int64(20)]  3.434sec\n"
     ]
    },
    {
     "name": "stdout",
     "output_type": "stream",
     "text": [
      "Epoch 3 tr: l 1.861 a 0.340 clct[np.int64(51), np.int64(49)] clct_ans[np.int64(51), np.int64(49)]  lr 0.249925 49.340sec(train) 21.423sec(infer)\n"
     ]
    },
    {
     "name": "stdout",
     "output_type": "stream",
     "text": [
      "Epoch 3 tst: l 1.820 a 0.363 clct[np.int64(20), np.int64(20)] clct_ans[np.int64(20), np.int64(20)]  3.329sec\n"
     ]
    },
    {
     "name": "stdout",
     "output_type": "stream",
     "text": [
      "Epoch 4 tr: l 1.778 a 0.369 clct[np.int64(50), np.int64(50)] clct_ans[np.int64(50), np.int64(50)]  lr 0.249900 49.924sec(train) 21.346sec(infer)\n"
     ]
    },
    {
     "name": "stdout",
     "output_type": "stream",
     "text": [
      "Epoch 4 tst: l 1.726 a 0.399 clct[np.int64(20), np.int64(20)] clct_ans[np.int64(20), np.int64(20)]  3.467sec\n"
     ]
    },
    {
     "name": "stdout",
     "output_type": "stream",
     "text": [
      "Epoch 5 tr: l 1.731 a 0.379 clct[np.int64(49), np.int64(51)] clct_ans[np.int64(49), np.int64(51)]  lr 0.249875 49.146sec(train) 21.513sec(infer)\n"
     ]
    },
    {
     "name": "stdout",
     "output_type": "stream",
     "text": [
      "Epoch 5 tst: l 1.668 a 0.414 clct[np.int64(20), np.int64(20)] clct_ans[np.int64(20), np.int64(20)]  3.360sec\n"
     ]
    },
    {
     "name": "stdout",
     "output_type": "stream",
     "text": [
      "Epoch 6 tr: l 1.677 a 0.400 clct[np.int64(47), np.int64(53)] clct_ans[np.int64(47), np.int64(53)]  lr 0.249850 48.807sec(train) 21.361sec(infer)\n"
     ]
    },
    {
     "name": "stdout",
     "output_type": "stream",
     "text": [
      "Epoch 6 tst: l 1.607 a 0.435 clct[np.int64(20), np.int64(20)] clct_ans[np.int64(20), np.int64(20)]  3.310sec\n"
     ]
    },
    {
     "name": "stdout",
     "output_type": "stream",
     "text": [
      "Epoch 7 tr: l 1.631 a 0.418 clct[np.int64(47), np.int64(53)] clct_ans[np.int64(47), np.int64(53)]  lr 0.249825 49.006sec(train) 21.435sec(infer)\n"
     ]
    },
    {
     "name": "stdout",
     "output_type": "stream",
     "text": [
      "Epoch 7 tst: l 1.552 a 0.453 clct[np.int64(20), np.int64(20)] clct_ans[np.int64(20), np.int64(20)]  3.411sec\n"
     ]
    },
    {
     "name": "stdout",
     "output_type": "stream",
     "text": [
      "Epoch 8 tr: l 1.594 a 0.434 clct[np.int64(53), np.int64(47)] clct_ans[np.int64(53), np.int64(47)]  lr 0.249800 48.904sec(train) 21.917sec(infer)\n"
     ]
    },
    {
     "name": "stdout",
     "output_type": "stream",
     "text": [
      "Epoch 8 tst: l 1.516 a 0.466 clct[np.int64(20), np.int64(20)] clct_ans[np.int64(20), np.int64(20)]  3.319sec\n"
     ]
    },
    {
     "name": "stdout",
     "output_type": "stream",
     "text": [
      "Epoch 9 tr: l 1.546 a 0.450 clct[np.int64(51), np.int64(49)] clct_ans[np.int64(51), np.int64(49)]  lr 0.249775 48.983sec(train) 22.360sec(infer)\n"
     ]
    },
    {
     "name": "stdout",
     "output_type": "stream",
     "text": [
      "Epoch 9 tst: l 1.464 a 0.482 clct[np.int64(20), np.int64(20)] clct_ans[np.int64(20), np.int64(20)]  3.582sec\n"
     ]
    },
    {
     "name": "stdout",
     "output_type": "stream",
     "text": [
      "Epoch 10 tr: l 1.528 a 0.462 clct[np.int64(48), np.int64(52)] clct_ans[np.int64(48), np.int64(52)]  lr 0.249750 49.105sec(train) 21.535sec(infer)\n"
     ]
    },
    {
     "name": "stdout",
     "output_type": "stream",
     "text": [
      "Epoch 10 tst: l 1.440 a 0.498 clct[np.int64(20), np.int64(20)] clct_ans[np.int64(20), np.int64(20)]  3.510sec\n",
      "result written at output_dfca_gi/results.pickle\n",
      "checkpoint written at output_dfca_gi/checkpoint.pt\n"
     ]
    },
    {
     "name": "stdout",
     "output_type": "stream",
     "text": [
      "Epoch 11 tr: l 1.486 a 0.475 clct[np.int64(47), np.int64(53)] clct_ans[np.int64(47), np.int64(53)]  lr 0.249725 48.406sec(train) 21.563sec(infer)\n"
     ]
    },
    {
     "name": "stdout",
     "output_type": "stream",
     "text": [
      "Epoch 11 tst: l 1.401 a 0.514 clct[np.int64(20), np.int64(20)] clct_ans[np.int64(20), np.int64(20)]  3.264sec\n"
     ]
    },
    {
     "name": "stdout",
     "output_type": "stream",
     "text": [
      "Epoch 12 tr: l 1.455 a 0.485 clct[np.int64(52), np.int64(48)] clct_ans[np.int64(52), np.int64(48)]  lr 0.249700 48.921sec(train) 21.412sec(infer)\n"
     ]
    },
    {
     "name": "stdout",
     "output_type": "stream",
     "text": [
      "Epoch 12 tst: l 1.362 a 0.524 clct[np.int64(20), np.int64(20)] clct_ans[np.int64(20), np.int64(20)]  3.376sec\n"
     ]
    },
    {
     "name": "stdout",
     "output_type": "stream",
     "text": [
      "Epoch 13 tr: l 1.425 a 0.495 clct[np.int64(50), np.int64(50)] clct_ans[np.int64(50), np.int64(50)]  lr 0.249675 48.840sec(train) 21.607sec(infer)\n"
     ]
    },
    {
     "name": "stdout",
     "output_type": "stream",
     "text": [
      "Epoch 13 tst: l 1.329 a 0.538 clct[np.int64(20), np.int64(20)] clct_ans[np.int64(20), np.int64(20)]  3.270sec\n"
     ]
    },
    {
     "name": "stdout",
     "output_type": "stream",
     "text": [
      "Epoch 14 tr: l 1.410 a 0.505 clct[np.int64(44), np.int64(56)] clct_ans[np.int64(44), np.int64(56)]  lr 0.249650 48.830sec(train) 21.212sec(infer)\n"
     ]
    },
    {
     "name": "stdout",
     "output_type": "stream",
     "text": [
      "Epoch 14 tst: l 1.319 a 0.541 clct[np.int64(20), np.int64(20)] clct_ans[np.int64(20), np.int64(20)]  3.558sec\n"
     ]
    },
    {
     "name": "stdout",
     "output_type": "stream",
     "text": [
      "Epoch 15 tr: l 1.388 a 0.518 clct[np.int64(45), np.int64(55)] clct_ans[np.int64(45), np.int64(55)]  lr 0.249625 49.274sec(train) 21.837sec(infer)\n"
     ]
    },
    {
     "name": "stdout",
     "output_type": "stream",
     "text": [
      "Epoch 15 tst: l 1.295 a 0.554 clct[np.int64(20), np.int64(20)] clct_ans[np.int64(20), np.int64(20)]  3.303sec\n"
     ]
    },
    {
     "name": "stdout",
     "output_type": "stream",
     "text": [
      "Epoch 16 tr: l 1.378 a 0.528 clct[np.int64(47), np.int64(53)] clct_ans[np.int64(47), np.int64(53)]  lr 0.249600 48.978sec(train) 21.225sec(infer)\n"
     ]
    },
    {
     "name": "stdout",
     "output_type": "stream",
     "text": [
      "Epoch 16 tst: l 1.283 a 0.564 clct[np.int64(20), np.int64(20)] clct_ans[np.int64(20), np.int64(20)]  3.291sec\n"
     ]
    },
    {
     "name": "stdout",
     "output_type": "stream",
     "text": [
      "Epoch 17 tr: l 1.356 a 0.535 clct[np.int64(52), np.int64(48)] clct_ans[np.int64(52), np.int64(48)]  lr 0.249575 48.865sec(train) 21.250sec(infer)\n"
     ]
    },
    {
     "name": "stdout",
     "output_type": "stream",
     "text": [
      "Epoch 17 tst: l 1.265 a 0.571 clct[np.int64(20), np.int64(20)] clct_ans[np.int64(20), np.int64(20)]  3.400sec\n"
     ]
    },
    {
     "name": "stdout",
     "output_type": "stream",
     "text": [
      "Epoch 18 tr: l 1.339 a 0.541 clct[np.int64(55), np.int64(45)] clct_ans[np.int64(55), np.int64(45)]  lr 0.249550 48.873sec(train) 21.599sec(infer)\n"
     ]
    },
    {
     "name": "stdout",
     "output_type": "stream",
     "text": [
      "Epoch 18 tst: l 1.248 a 0.578 clct[np.int64(20), np.int64(20)] clct_ans[np.int64(20), np.int64(20)]  3.279sec\n"
     ]
    },
    {
     "name": "stdout",
     "output_type": "stream",
     "text": [
      "Epoch 19 tr: l 1.330 a 0.544 clct[np.int64(50), np.int64(50)] clct_ans[np.int64(50), np.int64(50)]  lr 0.249525 49.820sec(train) 21.221sec(infer)\n"
     ]
    },
    {
     "name": "stdout",
     "output_type": "stream",
     "text": [
      "Epoch 19 tst: l 1.235 a 0.583 clct[np.int64(20), np.int64(20)] clct_ans[np.int64(20), np.int64(20)]  3.372sec\n"
     ]
    },
    {
     "name": "stdout",
     "output_type": "stream",
     "text": [
      "Epoch 20 tr: l 1.314 a 0.552 clct[np.int64(48), np.int64(52)] clct_ans[np.int64(48), np.int64(52)]  lr 0.249500 48.828sec(train) 21.646sec(infer)\n"
     ]
    },
    {
     "name": "stdout",
     "output_type": "stream",
     "text": [
      "Epoch 20 tst: l 1.226 a 0.588 clct[np.int64(20), np.int64(20)] clct_ans[np.int64(20), np.int64(20)]  3.698sec\n",
      "result written at output_dfca_gi/results.pickle\n",
      "checkpoint written at output_dfca_gi/checkpoint.pt\n"
     ]
    },
    {
     "name": "stdout",
     "output_type": "stream",
     "text": [
      "Epoch 21 tr: l 1.302 a 0.555 clct[np.int64(47), np.int64(53)] clct_ans[np.int64(47), np.int64(53)]  lr 0.249476 49.004sec(train) 21.542sec(infer)\n"
     ]
    },
    {
     "name": "stdout",
     "output_type": "stream",
     "text": [
      "Epoch 21 tst: l 1.211 a 0.591 clct[np.int64(20), np.int64(20)] clct_ans[np.int64(20), np.int64(20)]  3.321sec\n"
     ]
    },
    {
     "name": "stdout",
     "output_type": "stream",
     "text": [
      "Epoch 22 tr: l 1.292 a 0.560 clct[np.int64(51), np.int64(49)] clct_ans[np.int64(51), np.int64(49)]  lr 0.249451 49.059sec(train) 21.383sec(infer)\n"
     ]
    },
    {
     "name": "stdout",
     "output_type": "stream",
     "text": [
      "Epoch 22 tst: l 1.200 a 0.594 clct[np.int64(20), np.int64(20)] clct_ans[np.int64(20), np.int64(20)]  3.496sec\n"
     ]
    },
    {
     "name": "stdout",
     "output_type": "stream",
     "text": [
      "Epoch 23 tr: l 1.275 a 0.564 clct[np.int64(53), np.int64(47)] clct_ans[np.int64(53), np.int64(47)]  lr 0.249426 49.040sec(train) 22.169sec(infer)\n"
     ]
    },
    {
     "name": "stdout",
     "output_type": "stream",
     "text": [
      "Epoch 23 tst: l 1.189 a 0.599 clct[np.int64(20), np.int64(20)] clct_ans[np.int64(20), np.int64(20)]  3.409sec\n"
     ]
    },
    {
     "name": "stdout",
     "output_type": "stream",
     "text": [
      "Epoch 24 tr: l 1.273 a 0.566 clct[np.int64(54), np.int64(46)] clct_ans[np.int64(54), np.int64(46)]  lr 0.249401 49.738sec(train) 21.641sec(infer)\n"
     ]
    },
    {
     "name": "stdout",
     "output_type": "stream",
     "text": [
      "Epoch 24 tst: l 1.179 a 0.601 clct[np.int64(20), np.int64(20)] clct_ans[np.int64(20), np.int64(20)]  3.411sec\n"
     ]
    },
    {
     "name": "stdout",
     "output_type": "stream",
     "text": [
      "Epoch 25 tr: l 1.261 a 0.569 clct[np.int64(54), np.int64(46)] clct_ans[np.int64(54), np.int64(46)]  lr 0.249376 49.472sec(train) 21.665sec(infer)\n"
     ]
    },
    {
     "name": "stdout",
     "output_type": "stream",
     "text": [
      "Epoch 25 tst: l 1.170 a 0.605 clct[np.int64(20), np.int64(20)] clct_ans[np.int64(20), np.int64(20)]  3.682sec\n"
     ]
    },
    {
     "name": "stdout",
     "output_type": "stream",
     "text": [
      "Epoch 26 tr: l 1.248 a 0.574 clct[np.int64(57), np.int64(43)] clct_ans[np.int64(57), np.int64(43)]  lr 0.249351 48.860sec(train) 21.554sec(infer)\n"
     ]
    },
    {
     "name": "stdout",
     "output_type": "stream",
     "text": [
      "Epoch 26 tst: l 1.161 a 0.608 clct[np.int64(20), np.int64(20)] clct_ans[np.int64(20), np.int64(20)]  3.305sec\n"
     ]
    },
    {
     "name": "stdout",
     "output_type": "stream",
     "text": [
      "Epoch 27 tr: l 1.238 a 0.578 clct[np.int64(49), np.int64(51)] clct_ans[np.int64(49), np.int64(51)]  lr 0.249326 49.118sec(train) 21.672sec(infer)\n"
     ]
    },
    {
     "name": "stdout",
     "output_type": "stream",
     "text": [
      "Epoch 27 tst: l 1.153 a 0.609 clct[np.int64(20), np.int64(20)] clct_ans[np.int64(20), np.int64(20)]  3.354sec\n"
     ]
    },
    {
     "name": "stdout",
     "output_type": "stream",
     "text": [
      "Epoch 28 tr: l 1.233 a 0.581 clct[np.int64(48), np.int64(52)] clct_ans[np.int64(48), np.int64(52)]  lr 0.249301 48.839sec(train) 21.707sec(infer)\n"
     ]
    },
    {
     "name": "stdout",
     "output_type": "stream",
     "text": [
      "Epoch 28 tst: l 1.144 a 0.612 clct[np.int64(20), np.int64(20)] clct_ans[np.int64(20), np.int64(20)]  3.466sec\n"
     ]
    },
    {
     "name": "stdout",
     "output_type": "stream",
     "text": [
      "Epoch 29 tr: l 1.224 a 0.582 clct[np.int64(48), np.int64(52)] clct_ans[np.int64(48), np.int64(52)]  lr 0.249276 49.230sec(train) 21.604sec(infer)\n"
     ]
    },
    {
     "name": "stdout",
     "output_type": "stream",
     "text": [
      "Epoch 29 tst: l 1.135 a 0.617 clct[np.int64(20), np.int64(20)] clct_ans[np.int64(20), np.int64(20)]  3.446sec\n"
     ]
    },
    {
     "name": "stdout",
     "output_type": "stream",
     "text": [
      "Epoch 30 tr: l 1.205 a 0.587 clct[np.int64(44), np.int64(56)] clct_ans[np.int64(44), np.int64(56)]  lr 0.249251 49.163sec(train) 21.934sec(infer)\n"
     ]
    },
    {
     "name": "stdout",
     "output_type": "stream",
     "text": [
      "Epoch 30 tst: l 1.123 a 0.619 clct[np.int64(20), np.int64(20)] clct_ans[np.int64(20), np.int64(20)]  3.314sec\n",
      "result written at output_dfca_gi/results.pickle\n",
      "checkpoint written at output_dfca_gi/checkpoint.pt\n"
     ]
    },
    {
     "name": "stdout",
     "output_type": "stream",
     "text": [
      "Epoch 31 tr: l 1.199 a 0.590 clct[np.int64(49), np.int64(51)] clct_ans[np.int64(49), np.int64(51)]  lr 0.249226 47.303sec(train) 21.390sec(infer)\n"
     ]
    },
    {
     "name": "stdout",
     "output_type": "stream",
     "text": [
      "Epoch 31 tst: l 1.116 a 0.623 clct[np.int64(20), np.int64(20)] clct_ans[np.int64(20), np.int64(20)]  3.280sec\n"
     ]
    },
    {
     "name": "stdout",
     "output_type": "stream",
     "text": [
      "Epoch 32 tr: l 1.200 a 0.590 clct[np.int64(49), np.int64(51)] clct_ans[np.int64(49), np.int64(51)]  lr 0.249201 47.013sec(train) 21.308sec(infer)\n"
     ]
    },
    {
     "name": "stdout",
     "output_type": "stream",
     "text": [
      "Epoch 32 tst: l 1.109 a 0.625 clct[np.int64(20), np.int64(20)] clct_ans[np.int64(20), np.int64(20)]  3.430sec\n"
     ]
    },
    {
     "name": "stdout",
     "output_type": "stream",
     "text": [
      "Epoch 33 tr: l 1.192 a 0.589 clct[np.int64(55), np.int64(45)] clct_ans[np.int64(55), np.int64(45)]  lr 0.249176 46.929sec(train) 21.792sec(infer)\n"
     ]
    },
    {
     "name": "stdout",
     "output_type": "stream",
     "text": [
      "Epoch 33 tst: l 1.106 a 0.626 clct[np.int64(20), np.int64(20)] clct_ans[np.int64(20), np.int64(20)]  3.276sec\n"
     ]
    },
    {
     "name": "stdout",
     "output_type": "stream",
     "text": [
      "Epoch 34 tr: l 1.182 a 0.596 clct[np.int64(52), np.int64(48)] clct_ans[np.int64(52), np.int64(48)]  lr 0.249151 46.862sec(train) 21.270sec(infer)\n"
     ]
    },
    {
     "name": "stdout",
     "output_type": "stream",
     "text": [
      "Epoch 34 tst: l 1.094 a 0.629 clct[np.int64(20), np.int64(20)] clct_ans[np.int64(20), np.int64(20)]  3.308sec\n"
     ]
    },
    {
     "name": "stdout",
     "output_type": "stream",
     "text": [
      "Epoch 35 tr: l 1.168 a 0.601 clct[np.int64(55), np.int64(45)] clct_ans[np.int64(55), np.int64(45)]  lr 0.249126 48.643sec(train) 21.352sec(infer)\n"
     ]
    },
    {
     "name": "stdout",
     "output_type": "stream",
     "text": [
      "Epoch 35 tst: l 1.088 a 0.631 clct[np.int64(20), np.int64(20)] clct_ans[np.int64(20), np.int64(20)]  3.364sec\n"
     ]
    },
    {
     "name": "stdout",
     "output_type": "stream",
     "text": [
      "Epoch 36 tr: l 1.177 a 0.597 clct[np.int64(56), np.int64(44)] clct_ans[np.int64(56), np.int64(44)]  lr 0.249102 48.926sec(train) 21.668sec(infer)\n"
     ]
    },
    {
     "name": "stdout",
     "output_type": "stream",
     "text": [
      "Epoch 36 tst: l 1.083 a 0.632 clct[np.int64(20), np.int64(20)] clct_ans[np.int64(20), np.int64(20)]  3.273sec\n"
     ]
    },
    {
     "name": "stdout",
     "output_type": "stream",
     "text": [
      "Epoch 37 tr: l 1.163 a 0.602 clct[np.int64(46), np.int64(54)] clct_ans[np.int64(46), np.int64(54)]  lr 0.249077 47.913sec(train) 21.199sec(infer)\n"
     ]
    },
    {
     "name": "stdout",
     "output_type": "stream",
     "text": [
      "Epoch 37 tst: l 1.077 a 0.633 clct[np.int64(20), np.int64(20)] clct_ans[np.int64(20), np.int64(20)]  3.401sec\n"
     ]
    },
    {
     "name": "stdout",
     "output_type": "stream",
     "text": [
      "Epoch 38 tr: l 1.157 a 0.604 clct[np.int64(48), np.int64(52)] clct_ans[np.int64(48), np.int64(52)]  lr 0.249052 46.862sec(train) 21.780sec(infer)\n"
     ]
    },
    {
     "name": "stdout",
     "output_type": "stream",
     "text": [
      "Epoch 38 tst: l 1.072 a 0.639 clct[np.int64(20), np.int64(20)] clct_ans[np.int64(20), np.int64(20)]  3.802sec\n"
     ]
    },
    {
     "name": "stdout",
     "output_type": "stream",
     "text": [
      "Epoch 39 tr: l 1.154 a 0.603 clct[np.int64(47), np.int64(53)] clct_ans[np.int64(47), np.int64(53)]  lr 0.249027 46.379sec(train) 21.563sec(infer)\n"
     ]
    },
    {
     "name": "stdout",
     "output_type": "stream",
     "text": [
      "Epoch 39 tst: l 1.069 a 0.637 clct[np.int64(20), np.int64(20)] clct_ans[np.int64(20), np.int64(20)]  3.280sec\n"
     ]
    },
    {
     "name": "stdout",
     "output_type": "stream",
     "text": [
      "Epoch 40 tr: l 1.151 a 0.607 clct[np.int64(51), np.int64(49)] clct_ans[np.int64(51), np.int64(49)]  lr 0.249002 47.094sec(train) 21.297sec(infer)\n"
     ]
    },
    {
     "name": "stdout",
     "output_type": "stream",
     "text": [
      "Epoch 40 tst: l 1.062 a 0.640 clct[np.int64(20), np.int64(20)] clct_ans[np.int64(20), np.int64(20)]  3.447sec\n",
      "result written at output_dfca_gi/results.pickle\n",
      "checkpoint written at output_dfca_gi/checkpoint.pt\n"
     ]
    },
    {
     "name": "stdout",
     "output_type": "stream",
     "text": [
      "Epoch 41 tr: l 1.144 a 0.607 clct[np.int64(50), np.int64(50)] clct_ans[np.int64(50), np.int64(50)]  lr 0.248977 47.688sec(train) 21.916sec(infer)\n"
     ]
    },
    {
     "name": "stdout",
     "output_type": "stream",
     "text": [
      "Epoch 41 tst: l 1.059 a 0.641 clct[np.int64(20), np.int64(20)] clct_ans[np.int64(20), np.int64(20)]  3.273sec\n"
     ]
    },
    {
     "name": "stdout",
     "output_type": "stream",
     "text": [
      "Epoch 42 tr: l 1.140 a 0.610 clct[np.int64(51), np.int64(49)] clct_ans[np.int64(51), np.int64(49)]  lr 0.248952 47.844sec(train) 21.285sec(infer)\n"
     ]
    },
    {
     "name": "stdout",
     "output_type": "stream",
     "text": [
      "Epoch 42 tst: l 1.052 a 0.643 clct[np.int64(20), np.int64(20)] clct_ans[np.int64(20), np.int64(20)]  3.369sec\n"
     ]
    },
    {
     "name": "stdout",
     "output_type": "stream",
     "text": [
      "Epoch 43 tr: l 1.131 a 0.611 clct[np.int64(52), np.int64(48)] clct_ans[np.int64(52), np.int64(48)]  lr 0.248927 49.030sec(train) 21.393sec(infer)\n"
     ]
    },
    {
     "name": "stdout",
     "output_type": "stream",
     "text": [
      "Epoch 43 tst: l 1.048 a 0.647 clct[np.int64(20), np.int64(20)] clct_ans[np.int64(20), np.int64(20)]  3.926sec\n"
     ]
    },
    {
     "name": "stdout",
     "output_type": "stream",
     "text": [
      "Epoch 44 tr: l 1.128 a 0.611 clct[np.int64(47), np.int64(53)] clct_ans[np.int64(47), np.int64(53)]  lr 0.248902 49.066sec(train) 21.873sec(infer)\n"
     ]
    },
    {
     "name": "stdout",
     "output_type": "stream",
     "text": [
      "Epoch 44 tst: l 1.043 a 0.649 clct[np.int64(20), np.int64(20)] clct_ans[np.int64(20), np.int64(20)]  3.278sec\n"
     ]
    },
    {
     "name": "stdout",
     "output_type": "stream",
     "text": [
      "Epoch 45 tr: l 1.126 a 0.615 clct[np.int64(46), np.int64(54)] clct_ans[np.int64(46), np.int64(54)]  lr 0.248877 48.146sec(train) 21.315sec(infer)\n"
     ]
    },
    {
     "name": "stdout",
     "output_type": "stream",
     "text": [
      "Epoch 45 tst: l 1.041 a 0.647 clct[np.int64(20), np.int64(20)] clct_ans[np.int64(20), np.int64(20)]  3.362sec\n"
     ]
    },
    {
     "name": "stdout",
     "output_type": "stream",
     "text": [
      "Epoch 46 tr: l 1.124 a 0.615 clct[np.int64(47), np.int64(53)] clct_ans[np.int64(47), np.int64(53)]  lr 0.248853 47.020sec(train) 21.783sec(infer)\n"
     ]
    },
    {
     "name": "stdout",
     "output_type": "stream",
     "text": [
      "Epoch 46 tst: l 1.037 a 0.649 clct[np.int64(20), np.int64(20)] clct_ans[np.int64(20), np.int64(20)]  3.642sec\n"
     ]
    },
    {
     "name": "stdout",
     "output_type": "stream",
     "text": [
      "Epoch 47 tr: l 1.112 a 0.622 clct[np.int64(48), np.int64(52)] clct_ans[np.int64(48), np.int64(52)]  lr 0.248828 46.717sec(train) 21.636sec(infer)\n"
     ]
    },
    {
     "name": "stdout",
     "output_type": "stream",
     "text": [
      "Epoch 47 tst: l 1.029 a 0.653 clct[np.int64(20), np.int64(20)] clct_ans[np.int64(20), np.int64(20)]  3.346sec\n"
     ]
    },
    {
     "name": "stdout",
     "output_type": "stream",
     "text": [
      "Epoch 48 tr: l 1.116 a 0.619 clct[np.int64(45), np.int64(55)] clct_ans[np.int64(45), np.int64(55)]  lr 0.248803 47.713sec(train) 21.375sec(infer)\n"
     ]
    },
    {
     "name": "stdout",
     "output_type": "stream",
     "text": [
      "Epoch 48 tst: l 1.029 a 0.653 clct[np.int64(20), np.int64(20)] clct_ans[np.int64(20), np.int64(20)]  3.383sec\n"
     ]
    },
    {
     "name": "stdout",
     "output_type": "stream",
     "text": [
      "Epoch 49 tr: l 1.113 a 0.619 clct[np.int64(47), np.int64(53)] clct_ans[np.int64(47), np.int64(53)]  lr 0.248778 47.511sec(train) 21.986sec(infer)\n"
     ]
    },
    {
     "name": "stdout",
     "output_type": "stream",
     "text": [
      "Epoch 49 tst: l 1.021 a 0.655 clct[np.int64(20), np.int64(20)] clct_ans[np.int64(20), np.int64(20)]  3.316sec\n"
     ]
    },
    {
     "name": "stdout",
     "output_type": "stream",
     "text": [
      "Epoch 50 tr: l 1.109 a 0.621 clct[np.int64(49), np.int64(51)] clct_ans[np.int64(49), np.int64(51)]  lr 0.248753 48.467sec(train) 21.263sec(infer)\n"
     ]
    },
    {
     "name": "stdout",
     "output_type": "stream",
     "text": [
      "Epoch 50 tst: l 1.024 a 0.654 clct[np.int64(20), np.int64(20)] clct_ans[np.int64(20), np.int64(20)]  3.413sec\n",
      "result written at output_dfca_gi/results.pickle\n",
      "checkpoint written at output_dfca_gi/checkpoint.pt\n"
     ]
    },
    {
     "name": "stdout",
     "output_type": "stream",
     "text": [
      "Epoch 51 tr: l 1.098 a 0.625 clct[np.int64(49), np.int64(51)] clct_ans[np.int64(49), np.int64(51)]  lr 0.248728 48.741sec(train) 21.561sec(infer)\n"
     ]
    },
    {
     "name": "stdout",
     "output_type": "stream",
     "text": [
      "Epoch 51 tst: l 1.020 a 0.657 clct[np.int64(20), np.int64(20)] clct_ans[np.int64(20), np.int64(20)]  3.717sec\n"
     ]
    },
    {
     "name": "stdout",
     "output_type": "stream",
     "text": [
      "Epoch 52 tr: l 1.100 a 0.626 clct[np.int64(50), np.int64(50)] clct_ans[np.int64(50), np.int64(50)]  lr 0.248703 49.162sec(train) 22.064sec(infer)\n"
     ]
    },
    {
     "name": "stdout",
     "output_type": "stream",
     "text": [
      "Epoch 52 tst: l 1.013 a 0.656 clct[np.int64(20), np.int64(20)] clct_ans[np.int64(20), np.int64(20)]  3.302sec\n"
     ]
    },
    {
     "name": "stdout",
     "output_type": "stream",
     "text": [
      "Epoch 53 tr: l 1.097 a 0.625 clct[np.int64(51), np.int64(49)] clct_ans[np.int64(51), np.int64(49)]  lr 0.248678 49.155sec(train) 21.521sec(infer)\n"
     ]
    },
    {
     "name": "stdout",
     "output_type": "stream",
     "text": [
      "Epoch 53 tst: l 1.013 a 0.658 clct[np.int64(20), np.int64(20)] clct_ans[np.int64(20), np.int64(20)]  3.525sec\n"
     ]
    },
    {
     "name": "stdout",
     "output_type": "stream",
     "text": [
      "Epoch 54 tr: l 1.079 a 0.631 clct[np.int64(57), np.int64(43)] clct_ans[np.int64(57), np.int64(43)]  lr 0.248654 49.159sec(train) 21.912sec(infer)\n"
     ]
    },
    {
     "name": "stdout",
     "output_type": "stream",
     "text": [
      "Epoch 54 tst: l 1.008 a 0.660 clct[np.int64(20), np.int64(20)] clct_ans[np.int64(20), np.int64(20)]  3.290sec\n"
     ]
    },
    {
     "name": "stdout",
     "output_type": "stream",
     "text": [
      "Epoch 55 tr: l 1.093 a 0.628 clct[np.int64(57), np.int64(43)] clct_ans[np.int64(57), np.int64(43)]  lr 0.248629 49.585sec(train) 21.206sec(infer)\n"
     ]
    },
    {
     "name": "stdout",
     "output_type": "stream",
     "text": [
      "Epoch 55 tst: l 1.007 a 0.658 clct[np.int64(20), np.int64(20)] clct_ans[np.int64(20), np.int64(20)]  3.376sec\n"
     ]
    },
    {
     "name": "stdout",
     "output_type": "stream",
     "text": [
      "Epoch 56 tr: l 1.093 a 0.629 clct[np.int64(46), np.int64(54)] clct_ans[np.int64(46), np.int64(54)]  lr 0.248604 49.170sec(train) 21.563sec(infer)\n"
     ]
    },
    {
     "name": "stdout",
     "output_type": "stream",
     "text": [
      "Epoch 56 tst: l 1.005 a 0.659 clct[np.int64(20), np.int64(20)] clct_ans[np.int64(20), np.int64(20)]  4.155sec\n"
     ]
    },
    {
     "name": "stdout",
     "output_type": "stream",
     "text": [
      "Epoch 57 tr: l 1.078 a 0.629 clct[np.int64(50), np.int64(50)] clct_ans[np.int64(50), np.int64(50)]  lr 0.248579 49.110sec(train) 21.888sec(infer)\n"
     ]
    },
    {
     "name": "stdout",
     "output_type": "stream",
     "text": [
      "Epoch 57 tst: l 0.995 a 0.664 clct[np.int64(20), np.int64(20)] clct_ans[np.int64(20), np.int64(20)]  3.321sec\n"
     ]
    },
    {
     "name": "stdout",
     "output_type": "stream",
     "text": [
      "Epoch 58 tr: l 1.085 a 0.630 clct[np.int64(55), np.int64(45)] clct_ans[np.int64(55), np.int64(45)]  lr 0.248554 48.996sec(train) 21.444sec(infer)\n"
     ]
    },
    {
     "name": "stdout",
     "output_type": "stream",
     "text": [
      "Epoch 58 tst: l 0.996 a 0.663 clct[np.int64(20), np.int64(20)] clct_ans[np.int64(20), np.int64(20)]  3.441sec\n"
     ]
    },
    {
     "name": "stdout",
     "output_type": "stream",
     "text": [
      "Epoch 59 tr: l 1.081 a 0.631 clct[np.int64(52), np.int64(48)] clct_ans[np.int64(52), np.int64(48)]  lr 0.248529 49.402sec(train) 22.083sec(infer)\n"
     ]
    },
    {
     "name": "stdout",
     "output_type": "stream",
     "text": [
      "Epoch 59 tst: l 0.995 a 0.665 clct[np.int64(20), np.int64(20)] clct_ans[np.int64(20), np.int64(20)]  3.351sec\n"
     ]
    },
    {
     "name": "stdout",
     "output_type": "stream",
     "text": [
      "Epoch 60 tr: l 1.079 a 0.631 clct[np.int64(54), np.int64(46)] clct_ans[np.int64(54), np.int64(46)]  lr 0.248504 49.430sec(train) 21.247sec(infer)\n"
     ]
    },
    {
     "name": "stdout",
     "output_type": "stream",
     "text": [
      "Epoch 60 tst: l 0.994 a 0.665 clct[np.int64(20), np.int64(20)] clct_ans[np.int64(20), np.int64(20)]  3.472sec\n",
      "result written at output_dfca_gi/results.pickle\n",
      "checkpoint written at output_dfca_gi/checkpoint.pt\n"
     ]
    },
    {
     "name": "stdout",
     "output_type": "stream",
     "text": [
      "Epoch 61 tr: l 1.068 a 0.635 clct[np.int64(51), np.int64(49)] clct_ans[np.int64(51), np.int64(49)]  lr 0.248480 49.194sec(train) 22.236sec(infer)\n"
     ]
    },
    {
     "name": "stdout",
     "output_type": "stream",
     "text": [
      "Epoch 61 tst: l 0.990 a 0.666 clct[np.int64(20), np.int64(20)] clct_ans[np.int64(20), np.int64(20)]  3.530sec\n"
     ]
    },
    {
     "name": "stdout",
     "output_type": "stream",
     "text": [
      "Epoch 62 tr: l 1.068 a 0.636 clct[np.int64(55), np.int64(45)] clct_ans[np.int64(55), np.int64(45)]  lr 0.248455 49.566sec(train) 21.421sec(infer)\n"
     ]
    },
    {
     "name": "stdout",
     "output_type": "stream",
     "text": [
      "Epoch 62 tst: l 0.990 a 0.667 clct[np.int64(20), np.int64(20)] clct_ans[np.int64(20), np.int64(20)]  3.392sec\n"
     ]
    },
    {
     "name": "stdout",
     "output_type": "stream",
     "text": [
      "Epoch 63 tr: l 1.071 a 0.634 clct[np.int64(52), np.int64(48)] clct_ans[np.int64(52), np.int64(48)]  lr 0.248430 48.915sec(train) 21.464sec(infer)\n"
     ]
    },
    {
     "name": "stdout",
     "output_type": "stream",
     "text": [
      "Epoch 63 tst: l 0.985 a 0.666 clct[np.int64(20), np.int64(20)] clct_ans[np.int64(20), np.int64(20)]  4.115sec\n"
     ]
    },
    {
     "name": "stdout",
     "output_type": "stream",
     "text": [
      "Epoch 64 tr: l 1.072 a 0.634 clct[np.int64(52), np.int64(48)] clct_ans[np.int64(52), np.int64(48)]  lr 0.248405 48.480sec(train) 21.831sec(infer)\n"
     ]
    },
    {
     "name": "stdout",
     "output_type": "stream",
     "text": [
      "Epoch 64 tst: l 0.982 a 0.668 clct[np.int64(20), np.int64(20)] clct_ans[np.int64(20), np.int64(20)]  3.301sec\n"
     ]
    },
    {
     "name": "stdout",
     "output_type": "stream",
     "text": [
      "Epoch 65 tr: l 1.064 a 0.637 clct[np.int64(54), np.int64(46)] clct_ans[np.int64(54), np.int64(46)]  lr 0.248380 47.303sec(train) 21.259sec(infer)\n"
     ]
    },
    {
     "name": "stdout",
     "output_type": "stream",
     "text": [
      "Epoch 65 tst: l 0.977 a 0.670 clct[np.int64(20), np.int64(20)] clct_ans[np.int64(20), np.int64(20)]  3.423sec\n"
     ]
    },
    {
     "name": "stdout",
     "output_type": "stream",
     "text": [
      "Epoch 66 tr: l 1.060 a 0.637 clct[np.int64(50), np.int64(50)] clct_ans[np.int64(50), np.int64(50)]  lr 0.248355 46.534sec(train) 21.770sec(infer)\n"
     ]
    },
    {
     "name": "stdout",
     "output_type": "stream",
     "text": [
      "Epoch 66 tst: l 0.977 a 0.671 clct[np.int64(20), np.int64(20)] clct_ans[np.int64(20), np.int64(20)]  3.416sec\n"
     ]
    },
    {
     "name": "stdout",
     "output_type": "stream",
     "text": [
      "Epoch 67 tr: l 1.059 a 0.636 clct[np.int64(48), np.int64(52)] clct_ans[np.int64(48), np.int64(52)]  lr 0.248331 45.040sec(train) 21.794sec(infer)\n"
     ]
    },
    {
     "name": "stdout",
     "output_type": "stream",
     "text": [
      "Epoch 67 tst: l 0.975 a 0.670 clct[np.int64(20), np.int64(20)] clct_ans[np.int64(20), np.int64(20)]  3.349sec\n"
     ]
    },
    {
     "name": "stdout",
     "output_type": "stream",
     "text": [
      "Epoch 68 tr: l 1.058 a 0.641 clct[np.int64(53), np.int64(47)] clct_ans[np.int64(53), np.int64(47)]  lr 0.248306 47.467sec(train) 21.363sec(infer)\n"
     ]
    },
    {
     "name": "stdout",
     "output_type": "stream",
     "text": [
      "Epoch 68 tst: l 0.974 a 0.671 clct[np.int64(20), np.int64(20)] clct_ans[np.int64(20), np.int64(20)]  3.415sec\n"
     ]
    },
    {
     "name": "stdout",
     "output_type": "stream",
     "text": [
      "Epoch 69 tr: l 1.053 a 0.639 clct[np.int64(48), np.int64(52)] clct_ans[np.int64(48), np.int64(52)]  lr 0.248281 47.457sec(train) 21.784sec(infer)\n"
     ]
    },
    {
     "name": "stdout",
     "output_type": "stream",
     "text": [
      "Epoch 69 tst: l 0.976 a 0.671 clct[np.int64(20), np.int64(20)] clct_ans[np.int64(20), np.int64(20)]  3.283sec\n"
     ]
    },
    {
     "name": "stdout",
     "output_type": "stream",
     "text": [
      "Epoch 70 tr: l 1.050 a 0.639 clct[np.int64(48), np.int64(52)] clct_ans[np.int64(48), np.int64(52)]  lr 0.248256 48.402sec(train) 21.333sec(infer)\n"
     ]
    },
    {
     "name": "stdout",
     "output_type": "stream",
     "text": [
      "Epoch 70 tst: l 0.967 a 0.671 clct[np.int64(20), np.int64(20)] clct_ans[np.int64(20), np.int64(20)]  3.302sec\n",
      "result written at output_dfca_gi/results.pickle\n",
      "checkpoint written at output_dfca_gi/checkpoint.pt\n"
     ]
    },
    {
     "name": "stdout",
     "output_type": "stream",
     "text": [
      "Epoch 71 tr: l 1.045 a 0.643 clct[np.int64(54), np.int64(46)] clct_ans[np.int64(54), np.int64(46)]  lr 0.248231 48.130sec(train) 21.537sec(infer)\n"
     ]
    },
    {
     "name": "stdout",
     "output_type": "stream",
     "text": [
      "Epoch 71 tst: l 0.964 a 0.673 clct[np.int64(20), np.int64(20)] clct_ans[np.int64(20), np.int64(20)]  3.709sec\n"
     ]
    },
    {
     "name": "stdout",
     "output_type": "stream",
     "text": [
      "Epoch 72 tr: l 1.044 a 0.644 clct[np.int64(50), np.int64(50)] clct_ans[np.int64(50), np.int64(50)]  lr 0.248206 47.749sec(train) 21.853sec(infer)\n"
     ]
    },
    {
     "name": "stdout",
     "output_type": "stream",
     "text": [
      "Epoch 72 tst: l 0.964 a 0.672 clct[np.int64(20), np.int64(20)] clct_ans[np.int64(20), np.int64(20)]  3.289sec\n"
     ]
    },
    {
     "name": "stdout",
     "output_type": "stream",
     "text": [
      "Epoch 73 tr: l 1.043 a 0.643 clct[np.int64(45), np.int64(55)] clct_ans[np.int64(45), np.int64(55)]  lr 0.248182 47.765sec(train) 21.326sec(infer)\n"
     ]
    },
    {
     "name": "stdout",
     "output_type": "stream",
     "text": [
      "Epoch 73 tst: l 0.959 a 0.675 clct[np.int64(20), np.int64(20)] clct_ans[np.int64(20), np.int64(20)]  3.486sec\n"
     ]
    },
    {
     "name": "stdout",
     "output_type": "stream",
     "text": [
      "Epoch 74 tr: l 1.039 a 0.645 clct[np.int64(50), np.int64(50)] clct_ans[np.int64(50), np.int64(50)]  lr 0.248157 46.573sec(train) 21.894sec(infer)\n"
     ]
    },
    {
     "name": "stdout",
     "output_type": "stream",
     "text": [
      "Epoch 74 tst: l 0.960 a 0.674 clct[np.int64(20), np.int64(20)] clct_ans[np.int64(20), np.int64(20)]  3.385sec\n"
     ]
    },
    {
     "name": "stdout",
     "output_type": "stream",
     "text": [
      "Epoch 75 tr: l 1.036 a 0.645 clct[np.int64(50), np.int64(50)] clct_ans[np.int64(50), np.int64(50)]  lr 0.248132 45.142sec(train) 21.768sec(infer)\n"
     ]
    },
    {
     "name": "stdout",
     "output_type": "stream",
     "text": [
      "Epoch 75 tst: l 0.962 a 0.675 clct[np.int64(20), np.int64(20)] clct_ans[np.int64(20), np.int64(20)]  3.333sec\n"
     ]
    },
    {
     "name": "stdout",
     "output_type": "stream",
     "text": [
      "Epoch 76 tr: l 1.042 a 0.641 clct[np.int64(49), np.int64(51)] clct_ans[np.int64(49), np.int64(51)]  lr 0.248107 47.661sec(train) 21.324sec(infer)\n"
     ]
    },
    {
     "name": "stdout",
     "output_type": "stream",
     "text": [
      "Epoch 76 tst: l 0.961 a 0.674 clct[np.int64(20), np.int64(20)] clct_ans[np.int64(20), np.int64(20)]  3.452sec\n"
     ]
    },
    {
     "name": "stdout",
     "output_type": "stream",
     "text": [
      "Epoch 77 tr: l 1.025 a 0.649 clct[np.int64(55), np.int64(45)] clct_ans[np.int64(55), np.int64(45)]  lr 0.248082 48.213sec(train) 21.903sec(infer)\n"
     ]
    },
    {
     "name": "stdout",
     "output_type": "stream",
     "text": [
      "Epoch 77 tst: l 0.955 a 0.677 clct[np.int64(20), np.int64(20)] clct_ans[np.int64(20), np.int64(20)]  3.326sec\n"
     ]
    },
    {
     "name": "stdout",
     "output_type": "stream",
     "text": [
      "Epoch 78 tr: l 1.040 a 0.645 clct[np.int64(50), np.int64(50)] clct_ans[np.int64(50), np.int64(50)]  lr 0.248057 46.868sec(train) 21.503sec(infer)\n"
     ]
    },
    {
     "name": "stdout",
     "output_type": "stream",
     "text": [
      "Epoch 78 tst: l 0.952 a 0.675 clct[np.int64(20), np.int64(20)] clct_ans[np.int64(20), np.int64(20)]  3.446sec\n"
     ]
    },
    {
     "name": "stdout",
     "output_type": "stream",
     "text": [
      "Epoch 79 tr: l 1.040 a 0.644 clct[np.int64(47), np.int64(53)] clct_ans[np.int64(47), np.int64(53)]  lr 0.248033 48.878sec(train) 21.517sec(infer)\n"
     ]
    },
    {
     "name": "stdout",
     "output_type": "stream",
     "text": [
      "Epoch 79 tst: l 0.956 a 0.677 clct[np.int64(20), np.int64(20)] clct_ans[np.int64(20), np.int64(20)]  3.428sec\n"
     ]
    },
    {
     "name": "stdout",
     "output_type": "stream",
     "text": [
      "Epoch 80 tr: l 1.037 a 0.648 clct[np.int64(55), np.int64(45)] clct_ans[np.int64(55), np.int64(45)]  lr 0.248008 48.935sec(train) 21.879sec(infer)\n"
     ]
    },
    {
     "name": "stdout",
     "output_type": "stream",
     "text": [
      "Epoch 80 tst: l 0.954 a 0.677 clct[np.int64(20), np.int64(20)] clct_ans[np.int64(20), np.int64(20)]  3.299sec\n",
      "result written at output_dfca_gi/results.pickle\n",
      "checkpoint written at output_dfca_gi/checkpoint.pt\n"
     ]
    },
    {
     "name": "stdout",
     "output_type": "stream",
     "text": [
      "Epoch 81 tr: l 1.030 a 0.648 clct[np.int64(49), np.int64(51)] clct_ans[np.int64(49), np.int64(51)]  lr 0.247983 48.934sec(train) 21.245sec(infer)\n"
     ]
    },
    {
     "name": "stdout",
     "output_type": "stream",
     "text": [
      "Epoch 81 tst: l 0.955 a 0.677 clct[np.int64(20), np.int64(20)] clct_ans[np.int64(20), np.int64(20)]  3.436sec\n"
     ]
    },
    {
     "name": "stdout",
     "output_type": "stream",
     "text": [
      "Epoch 82 tr: l 1.027 a 0.650 clct[np.int64(50), np.int64(50)] clct_ans[np.int64(50), np.int64(50)]  lr 0.247958 47.637sec(train) 21.617sec(infer)\n"
     ]
    },
    {
     "name": "stdout",
     "output_type": "stream",
     "text": [
      "Epoch 82 tst: l 0.954 a 0.677 clct[np.int64(20), np.int64(20)] clct_ans[np.int64(20), np.int64(20)]  3.593sec\n"
     ]
    },
    {
     "name": "stdout",
     "output_type": "stream",
     "text": [
      "Epoch 83 tr: l 1.033 a 0.646 clct[np.int64(55), np.int64(45)] clct_ans[np.int64(55), np.int64(45)]  lr 0.247933 47.718sec(train) 22.001sec(infer)\n"
     ]
    },
    {
     "name": "stdout",
     "output_type": "stream",
     "text": [
      "Epoch 83 tst: l 0.951 a 0.678 clct[np.int64(20), np.int64(20)] clct_ans[np.int64(20), np.int64(20)]  3.246sec\n"
     ]
    },
    {
     "name": "stdout",
     "output_type": "stream",
     "text": [
      "Epoch 84 tr: l 1.030 a 0.649 clct[np.int64(52), np.int64(48)] clct_ans[np.int64(52), np.int64(48)]  lr 0.247909 48.291sec(train) 21.536sec(infer)\n"
     ]
    },
    {
     "name": "stdout",
     "output_type": "stream",
     "text": [
      "Epoch 84 tst: l 0.951 a 0.679 clct[np.int64(20), np.int64(20)] clct_ans[np.int64(20), np.int64(20)]  3.392sec\n"
     ]
    },
    {
     "name": "stdout",
     "output_type": "stream",
     "text": [
      "Epoch 85 tr: l 1.027 a 0.647 clct[np.int64(53), np.int64(47)] clct_ans[np.int64(53), np.int64(47)]  lr 0.247884 49.197sec(train) 21.731sec(infer)\n"
     ]
    },
    {
     "name": "stdout",
     "output_type": "stream",
     "text": [
      "Epoch 85 tst: l 0.947 a 0.680 clct[np.int64(20), np.int64(20)] clct_ans[np.int64(20), np.int64(20)]  3.355sec\n"
     ]
    },
    {
     "name": "stdout",
     "output_type": "stream",
     "text": [
      "Epoch 86 tr: l 1.034 a 0.646 clct[np.int64(55), np.int64(45)] clct_ans[np.int64(55), np.int64(45)]  lr 0.247859 48.019sec(train) 21.183sec(infer)\n"
     ]
    },
    {
     "name": "stdout",
     "output_type": "stream",
     "text": [
      "Epoch 86 tst: l 0.949 a 0.680 clct[np.int64(20), np.int64(20)] clct_ans[np.int64(20), np.int64(20)]  3.317sec\n"
     ]
    },
    {
     "name": "stdout",
     "output_type": "stream",
     "text": [
      "Epoch 87 tr: l 1.030 a 0.648 clct[np.int64(48), np.int64(52)] clct_ans[np.int64(48), np.int64(52)]  lr 0.247834 47.622sec(train) 21.554sec(infer)\n"
     ]
    },
    {
     "name": "stdout",
     "output_type": "stream",
     "text": [
      "Epoch 87 tst: l 0.943 a 0.681 clct[np.int64(20), np.int64(20)] clct_ans[np.int64(20), np.int64(20)]  3.444sec\n"
     ]
    },
    {
     "name": "stdout",
     "output_type": "stream",
     "text": [
      "Epoch 88 tr: l 1.030 a 0.648 clct[np.int64(48), np.int64(52)] clct_ans[np.int64(48), np.int64(52)]  lr 0.247810 47.523sec(train) 21.773sec(infer)\n"
     ]
    },
    {
     "name": "stdout",
     "output_type": "stream",
     "text": [
      "Epoch 88 tst: l 0.944 a 0.682 clct[np.int64(20), np.int64(20)] clct_ans[np.int64(20), np.int64(20)]  3.299sec\n"
     ]
    },
    {
     "name": "stdout",
     "output_type": "stream",
     "text": [
      "Epoch 89 tr: l 1.023 a 0.648 clct[np.int64(49), np.int64(51)] clct_ans[np.int64(49), np.int64(51)]  lr 0.247785 47.990sec(train) 21.283sec(infer)\n"
     ]
    },
    {
     "name": "stdout",
     "output_type": "stream",
     "text": [
      "Epoch 89 tst: l 0.940 a 0.681 clct[np.int64(20), np.int64(20)] clct_ans[np.int64(20), np.int64(20)]  3.483sec\n"
     ]
    },
    {
     "name": "stdout",
     "output_type": "stream",
     "text": [
      "Epoch 90 tr: l 1.024 a 0.650 clct[np.int64(47), np.int64(53)] clct_ans[np.int64(47), np.int64(53)]  lr 0.247760 47.952sec(train) 21.500sec(infer)\n"
     ]
    },
    {
     "name": "stdout",
     "output_type": "stream",
     "text": [
      "Epoch 90 tst: l 0.943 a 0.681 clct[np.int64(20), np.int64(20)] clct_ans[np.int64(20), np.int64(20)]  3.758sec\n",
      "result written at output_dfca_gi/results.pickle\n",
      "checkpoint written at output_dfca_gi/checkpoint.pt\n"
     ]
    },
    {
     "name": "stdout",
     "output_type": "stream",
     "text": [
      "Epoch 91 tr: l 1.021 a 0.652 clct[np.int64(53), np.int64(47)] clct_ans[np.int64(53), np.int64(47)]  lr 0.247735 47.113sec(train) 21.771sec(infer)\n"
     ]
    },
    {
     "name": "stdout",
     "output_type": "stream",
     "text": [
      "Epoch 91 tst: l 0.942 a 0.682 clct[np.int64(20), np.int64(20)] clct_ans[np.int64(20), np.int64(20)]  3.262sec\n"
     ]
    },
    {
     "name": "stdout",
     "output_type": "stream",
     "text": [
      "Epoch 92 tr: l 1.030 a 0.649 clct[np.int64(51), np.int64(49)] clct_ans[np.int64(51), np.int64(49)]  lr 0.247710 45.867sec(train) 21.265sec(infer)\n"
     ]
    },
    {
     "name": "stdout",
     "output_type": "stream",
     "text": [
      "Epoch 92 tst: l 0.941 a 0.680 clct[np.int64(20), np.int64(20)] clct_ans[np.int64(20), np.int64(20)]  3.375sec\n"
     ]
    },
    {
     "name": "stdout",
     "output_type": "stream",
     "text": [
      "Epoch 93 tr: l 1.014 a 0.654 clct[np.int64(47), np.int64(53)] clct_ans[np.int64(47), np.int64(53)]  lr 0.247686 47.509sec(train) 21.508sec(infer)\n"
     ]
    },
    {
     "name": "stdout",
     "output_type": "stream",
     "text": [
      "Epoch 93 tst: l 0.936 a 0.684 clct[np.int64(20), np.int64(20)] clct_ans[np.int64(20), np.int64(20)]  3.978sec\n"
     ]
    },
    {
     "name": "stdout",
     "output_type": "stream",
     "text": [
      "Epoch 94 tr: l 1.013 a 0.654 clct[np.int64(45), np.int64(55)] clct_ans[np.int64(45), np.int64(55)]  lr 0.247661 48.308sec(train) 21.373sec(infer)\n"
     ]
    },
    {
     "name": "stdout",
     "output_type": "stream",
     "text": [
      "Epoch 94 tst: l 0.937 a 0.682 clct[np.int64(20), np.int64(20)] clct_ans[np.int64(20), np.int64(20)]  3.353sec\n"
     ]
    },
    {
     "name": "stdout",
     "output_type": "stream",
     "text": [
      "Epoch 95 tr: l 1.019 a 0.651 clct[np.int64(52), np.int64(48)] clct_ans[np.int64(52), np.int64(48)]  lr 0.247636 47.548sec(train) 21.223sec(infer)\n"
     ]
    },
    {
     "name": "stdout",
     "output_type": "stream",
     "text": [
      "Epoch 95 tst: l 0.936 a 0.682 clct[np.int64(20), np.int64(20)] clct_ans[np.int64(20), np.int64(20)]  3.400sec\n"
     ]
    },
    {
     "name": "stdout",
     "output_type": "stream",
     "text": [
      "Epoch 96 tr: l 1.022 a 0.650 clct[np.int64(49), np.int64(51)] clct_ans[np.int64(49), np.int64(51)]  lr 0.247611 48.432sec(train) 21.931sec(infer)\n"
     ]
    },
    {
     "name": "stdout",
     "output_type": "stream",
     "text": [
      "Epoch 96 tst: l 0.937 a 0.683 clct[np.int64(20), np.int64(20)] clct_ans[np.int64(20), np.int64(20)]  3.321sec\n"
     ]
    },
    {
     "name": "stdout",
     "output_type": "stream",
     "text": [
      "Epoch 97 tr: l 1.008 a 0.655 clct[np.int64(45), np.int64(55)] clct_ans[np.int64(45), np.int64(55)]  lr 0.247587 46.341sec(train) 21.480sec(infer)\n"
     ]
    },
    {
     "name": "stdout",
     "output_type": "stream",
     "text": [
      "Epoch 97 tst: l 0.931 a 0.683 clct[np.int64(20), np.int64(20)] clct_ans[np.int64(20), np.int64(20)]  3.394sec\n"
     ]
    },
    {
     "name": "stdout",
     "output_type": "stream",
     "text": [
      "Epoch 98 tr: l 1.015 a 0.653 clct[np.int64(49), np.int64(51)] clct_ans[np.int64(49), np.int64(51)]  lr 0.247562 48.537sec(train) 21.446sec(infer)\n"
     ]
    },
    {
     "name": "stdout",
     "output_type": "stream",
     "text": [
      "Epoch 98 tst: l 0.935 a 0.682 clct[np.int64(20), np.int64(20)] clct_ans[np.int64(20), np.int64(20)]  3.537sec\n"
     ]
    },
    {
     "name": "stdout",
     "output_type": "stream",
     "text": [
      "Epoch 99 tr: l 1.011 a 0.653 clct[np.int64(47), np.int64(53)] clct_ans[np.int64(47), np.int64(53)]  lr 0.247537 47.905sec(train) 21.609sec(infer)\n"
     ]
    },
    {
     "name": "stdout",
     "output_type": "stream",
     "text": [
      "Epoch 99 tst: l 0.934 a 0.682 clct[np.int64(20), np.int64(20)] clct_ans[np.int64(20), np.int64(20)]  3.332sec\n"
     ]
    },
    {
     "name": "stdout",
     "output_type": "stream",
     "text": [
      "Epoch 100 tr: l 1.012 a 0.652 clct[np.int64(51), np.int64(49)] clct_ans[np.int64(51), np.int64(49)]  lr 0.247512 46.625sec(train) 21.354sec(infer)\n"
     ]
    },
    {
     "name": "stdout",
     "output_type": "stream",
     "text": [
      "Epoch 100 tst: l 0.932 a 0.683 clct[np.int64(20), np.int64(20)] clct_ans[np.int64(20), np.int64(20)]  3.333sec\n",
      "result written at output_dfca_gi/results.pickle\n",
      "checkpoint written at output_dfca_gi/checkpoint.pt\n"
     ]
    },
    {
     "name": "stdout",
     "output_type": "stream",
     "text": [
      "Epoch 101 tr: l 1.014 a 0.653 clct[np.int64(47), np.int64(53)] clct_ans[np.int64(47), np.int64(53)]  lr 0.247488 48.398sec(train) 21.399sec(infer)\n"
     ]
    },
    {
     "name": "stdout",
     "output_type": "stream",
     "text": [
      "Epoch 101 tst: l 0.934 a 0.682 clct[np.int64(20), np.int64(20)] clct_ans[np.int64(20), np.int64(20)]  3.627sec\n"
     ]
    },
    {
     "name": "stdout",
     "output_type": "stream",
     "text": [
      "Epoch 102 tr: l 1.007 a 0.658 clct[np.int64(54), np.int64(46)] clct_ans[np.int64(54), np.int64(46)]  lr 0.247463 46.257sec(train) 21.491sec(infer)\n"
     ]
    },
    {
     "name": "stdout",
     "output_type": "stream",
     "text": [
      "Epoch 102 tst: l 0.928 a 0.683 clct[np.int64(20), np.int64(20)] clct_ans[np.int64(20), np.int64(20)]  3.411sec\n"
     ]
    },
    {
     "name": "stdout",
     "output_type": "stream",
     "text": [
      "Epoch 103 tr: l 1.002 a 0.656 clct[np.int64(47), np.int64(53)] clct_ans[np.int64(47), np.int64(53)]  lr 0.247438 47.938sec(train) 21.167sec(infer)\n"
     ]
    },
    {
     "name": "stdout",
     "output_type": "stream",
     "text": [
      "Epoch 103 tst: l 0.927 a 0.683 clct[np.int64(20), np.int64(20)] clct_ans[np.int64(20), np.int64(20)]  3.440sec\n"
     ]
    },
    {
     "name": "stdout",
     "output_type": "stream",
     "text": [
      "Epoch 104 tr: l 1.009 a 0.656 clct[np.int64(54), np.int64(46)] clct_ans[np.int64(54), np.int64(46)]  lr 0.247413 47.256sec(train) 21.372sec(infer)\n"
     ]
    },
    {
     "name": "stdout",
     "output_type": "stream",
     "text": [
      "Epoch 104 tst: l 0.928 a 0.684 clct[np.int64(20), np.int64(20)] clct_ans[np.int64(20), np.int64(20)]  3.434sec\n"
     ]
    },
    {
     "name": "stdout",
     "output_type": "stream",
     "text": [
      "Epoch 105 tr: l 1.001 a 0.657 clct[np.int64(47), np.int64(53)] clct_ans[np.int64(47), np.int64(53)]  lr 0.247389 48.281sec(train) 21.442sec(infer)\n"
     ]
    },
    {
     "name": "stdout",
     "output_type": "stream",
     "text": [
      "Epoch 105 tst: l 0.923 a 0.685 clct[np.int64(20), np.int64(20)] clct_ans[np.int64(20), np.int64(20)]  3.317sec\n"
     ]
    },
    {
     "name": "stdout",
     "output_type": "stream",
     "text": [
      "Epoch 106 tr: l 1.002 a 0.656 clct[np.int64(48), np.int64(52)] clct_ans[np.int64(48), np.int64(52)]  lr 0.247364 47.987sec(train) 21.242sec(infer)\n"
     ]
    },
    {
     "name": "stdout",
     "output_type": "stream",
     "text": [
      "Epoch 106 tst: l 0.925 a 0.684 clct[np.int64(20), np.int64(20)] clct_ans[np.int64(20), np.int64(20)]  3.505sec\n"
     ]
    },
    {
     "name": "stdout",
     "output_type": "stream",
     "text": [
      "Epoch 107 tr: l 1.002 a 0.659 clct[np.int64(44), np.int64(56)] clct_ans[np.int64(44), np.int64(56)]  lr 0.247339 47.520sec(train) 21.488sec(infer)\n"
     ]
    },
    {
     "name": "stdout",
     "output_type": "stream",
     "text": [
      "Epoch 107 tst: l 0.928 a 0.684 clct[np.int64(20), np.int64(20)] clct_ans[np.int64(20), np.int64(20)]  3.621sec\n"
     ]
    },
    {
     "name": "stdout",
     "output_type": "stream",
     "text": [
      "Epoch 108 tr: l 1.007 a 0.654 clct[np.int64(51), np.int64(49)] clct_ans[np.int64(51), np.int64(49)]  lr 0.247314 49.181sec(train) 21.796sec(infer)\n"
     ]
    },
    {
     "name": "stdout",
     "output_type": "stream",
     "text": [
      "Epoch 108 tst: l 0.925 a 0.685 clct[np.int64(20), np.int64(20)] clct_ans[np.int64(20), np.int64(20)]  3.272sec\n"
     ]
    },
    {
     "name": "stdout",
     "output_type": "stream",
     "text": [
      "Epoch 109 tr: l 1.001 a 0.657 clct[np.int64(44), np.int64(56)] clct_ans[np.int64(44), np.int64(56)]  lr 0.247290 48.672sec(train) 21.414sec(infer)\n"
     ]
    },
    {
     "name": "stdout",
     "output_type": "stream",
     "text": [
      "Epoch 109 tst: l 0.922 a 0.688 clct[np.int64(20), np.int64(20)] clct_ans[np.int64(20), np.int64(20)]  3.423sec\n"
     ]
    },
    {
     "name": "stdout",
     "output_type": "stream",
     "text": [
      "Epoch 110 tr: l 1.006 a 0.655 clct[np.int64(49), np.int64(51)] clct_ans[np.int64(49), np.int64(51)]  lr 0.247265 47.674sec(train) 21.762sec(infer)\n"
     ]
    },
    {
     "name": "stdout",
     "output_type": "stream",
     "text": [
      "Epoch 110 tst: l 0.925 a 0.686 clct[np.int64(20), np.int64(20)] clct_ans[np.int64(20), np.int64(20)]  3.467sec\n",
      "result written at output_dfca_gi/results.pickle\n",
      "checkpoint written at output_dfca_gi/checkpoint.pt\n"
     ]
    },
    {
     "name": "stdout",
     "output_type": "stream",
     "text": [
      "Epoch 111 tr: l 1.000 a 0.660 clct[np.int64(50), np.int64(50)] clct_ans[np.int64(50), np.int64(50)]  lr 0.247240 47.145sec(train) 21.329sec(infer)\n"
     ]
    },
    {
     "name": "stdout",
     "output_type": "stream",
     "text": [
      "Epoch 111 tst: l 0.921 a 0.685 clct[np.int64(20), np.int64(20)] clct_ans[np.int64(20), np.int64(20)]  3.295sec\n"
     ]
    },
    {
     "name": "stdout",
     "output_type": "stream",
     "text": [
      "Epoch 112 tr: l 1.005 a 0.654 clct[np.int64(49), np.int64(51)] clct_ans[np.int64(49), np.int64(51)]  lr 0.247215 48.228sec(train) 21.328sec(infer)\n"
     ]
    },
    {
     "name": "stdout",
     "output_type": "stream",
     "text": [
      "Epoch 112 tst: l 0.926 a 0.686 clct[np.int64(20), np.int64(20)] clct_ans[np.int64(20), np.int64(20)]  3.381sec\n"
     ]
    },
    {
     "name": "stdout",
     "output_type": "stream",
     "text": [
      "Epoch 113 tr: l 1.000 a 0.658 clct[np.int64(45), np.int64(55)] clct_ans[np.int64(45), np.int64(55)]  lr 0.247191 48.384sec(train) 21.571sec(infer)\n"
     ]
    },
    {
     "name": "stdout",
     "output_type": "stream",
     "text": [
      "Epoch 113 tst: l 0.917 a 0.688 clct[np.int64(20), np.int64(20)] clct_ans[np.int64(20), np.int64(20)]  3.546sec\n"
     ]
    },
    {
     "name": "stdout",
     "output_type": "stream",
     "text": [
      "Epoch 114 tr: l 1.001 a 0.657 clct[np.int64(47), np.int64(53)] clct_ans[np.int64(47), np.int64(53)]  lr 0.247166 48.359sec(train) 21.879sec(infer)\n"
     ]
    },
    {
     "name": "stdout",
     "output_type": "stream",
     "text": [
      "Epoch 114 tst: l 0.920 a 0.689 clct[np.int64(20), np.int64(20)] clct_ans[np.int64(20), np.int64(20)]  3.452sec\n"
     ]
    },
    {
     "name": "stdout",
     "output_type": "stream",
     "text": [
      "Epoch 115 tr: l 0.994 a 0.660 clct[np.int64(47), np.int64(53)] clct_ans[np.int64(47), np.int64(53)]  lr 0.247141 47.126sec(train) 22.138sec(infer)\n"
     ]
    },
    {
     "name": "stdout",
     "output_type": "stream",
     "text": [
      "Epoch 115 tst: l 0.919 a 0.687 clct[np.int64(20), np.int64(20)] clct_ans[np.int64(20), np.int64(20)]  3.489sec\n"
     ]
    },
    {
     "name": "stdout",
     "output_type": "stream",
     "text": [
      "Epoch 116 tr: l 0.999 a 0.658 clct[np.int64(47), np.int64(53)] clct_ans[np.int64(47), np.int64(53)]  lr 0.247117 47.970sec(train) 22.358sec(infer)\n"
     ]
    },
    {
     "name": "stdout",
     "output_type": "stream",
     "text": [
      "Epoch 116 tst: l 0.920 a 0.688 clct[np.int64(20), np.int64(20)] clct_ans[np.int64(20), np.int64(20)]  3.397sec\n"
     ]
    },
    {
     "name": "stdout",
     "output_type": "stream",
     "text": [
      "Epoch 117 tr: l 0.999 a 0.657 clct[np.int64(54), np.int64(46)] clct_ans[np.int64(54), np.int64(46)]  lr 0.247092 48.128sec(train) 22.300sec(infer)\n"
     ]
    },
    {
     "name": "stdout",
     "output_type": "stream",
     "text": [
      "Epoch 117 tst: l 0.921 a 0.688 clct[np.int64(20), np.int64(20)] clct_ans[np.int64(20), np.int64(20)]  3.563sec\n"
     ]
    },
    {
     "name": "stdout",
     "output_type": "stream",
     "text": [
      "Epoch 118 tr: l 0.995 a 0.661 clct[np.int64(52), np.int64(48)] clct_ans[np.int64(52), np.int64(48)]  lr 0.247067 48.387sec(train) 21.958sec(infer)\n"
     ]
    },
    {
     "name": "stdout",
     "output_type": "stream",
     "text": [
      "Epoch 118 tst: l 0.917 a 0.690 clct[np.int64(20), np.int64(20)] clct_ans[np.int64(20), np.int64(20)]  3.805sec\n"
     ]
    },
    {
     "name": "stdout",
     "output_type": "stream",
     "text": [
      "Epoch 119 tr: l 0.993 a 0.660 clct[np.int64(47), np.int64(53)] clct_ans[np.int64(47), np.int64(53)]  lr 0.247042 49.112sec(train) 21.936sec(infer)\n"
     ]
    },
    {
     "name": "stdout",
     "output_type": "stream",
     "text": [
      "Epoch 119 tst: l 0.917 a 0.690 clct[np.int64(20), np.int64(20)] clct_ans[np.int64(20), np.int64(20)]  3.720sec\n"
     ]
    },
    {
     "name": "stdout",
     "output_type": "stream",
     "text": [
      "Epoch 120 tr: l 1.006 a 0.657 clct[np.int64(55), np.int64(45)] clct_ans[np.int64(55), np.int64(45)]  lr 0.247018 48.463sec(train) 21.736sec(infer)\n"
     ]
    },
    {
     "name": "stdout",
     "output_type": "stream",
     "text": [
      "Epoch 120 tst: l 0.916 a 0.690 clct[np.int64(20), np.int64(20)] clct_ans[np.int64(20), np.int64(20)]  3.599sec\n",
      "result written at output_dfca_gi/results.pickle\n",
      "checkpoint written at output_dfca_gi/checkpoint.pt\n"
     ]
    },
    {
     "name": "stdout",
     "output_type": "stream",
     "text": [
      "Epoch 121 tr: l 0.989 a 0.663 clct[np.int64(53), np.int64(47)] clct_ans[np.int64(53), np.int64(47)]  lr 0.246993 47.782sec(train) 21.764sec(infer)\n"
     ]
    },
    {
     "name": "stdout",
     "output_type": "stream",
     "text": [
      "Epoch 121 tst: l 0.914 a 0.690 clct[np.int64(20), np.int64(20)] clct_ans[np.int64(20), np.int64(20)]  3.482sec\n"
     ]
    },
    {
     "name": "stdout",
     "output_type": "stream",
     "text": [
      "Epoch 122 tr: l 0.991 a 0.663 clct[np.int64(49), np.int64(51)] clct_ans[np.int64(49), np.int64(51)]  lr 0.246968 47.696sec(train) 21.847sec(infer)\n"
     ]
    },
    {
     "name": "stdout",
     "output_type": "stream",
     "text": [
      "Epoch 122 tst: l 0.916 a 0.689 clct[np.int64(20), np.int64(20)] clct_ans[np.int64(20), np.int64(20)]  3.382sec\n"
     ]
    },
    {
     "name": "stdout",
     "output_type": "stream",
     "text": [
      "Epoch 123 tr: l 0.994 a 0.658 clct[np.int64(47), np.int64(53)] clct_ans[np.int64(47), np.int64(53)]  lr 0.246944 48.730sec(train) 21.782sec(infer)\n"
     ]
    },
    {
     "name": "stdout",
     "output_type": "stream",
     "text": [
      "Epoch 123 tst: l 0.913 a 0.690 clct[np.int64(20), np.int64(20)] clct_ans[np.int64(20), np.int64(20)]  3.491sec\n"
     ]
    },
    {
     "name": "stdout",
     "output_type": "stream",
     "text": [
      "Epoch 124 tr: l 0.992 a 0.660 clct[np.int64(56), np.int64(44)] clct_ans[np.int64(56), np.int64(44)]  lr 0.246919 48.144sec(train) 21.552sec(infer)\n"
     ]
    },
    {
     "name": "stdout",
     "output_type": "stream",
     "text": [
      "Epoch 124 tst: l 0.911 a 0.691 clct[np.int64(20), np.int64(20)] clct_ans[np.int64(20), np.int64(20)]  3.571sec\n"
     ]
    },
    {
     "name": "stdout",
     "output_type": "stream",
     "text": [
      "Epoch 125 tr: l 0.991 a 0.658 clct[np.int64(48), np.int64(52)] clct_ans[np.int64(48), np.int64(52)]  lr 0.246894 47.915sec(train) 21.643sec(infer)\n"
     ]
    },
    {
     "name": "stdout",
     "output_type": "stream",
     "text": [
      "Epoch 125 tst: l 0.914 a 0.688 clct[np.int64(20), np.int64(20)] clct_ans[np.int64(20), np.int64(20)]  3.500sec\n"
     ]
    },
    {
     "name": "stdout",
     "output_type": "stream",
     "text": [
      "Epoch 126 tr: l 0.987 a 0.663 clct[np.int64(48), np.int64(52)] clct_ans[np.int64(48), np.int64(52)]  lr 0.246870 47.927sec(train) 21.439sec(infer)\n"
     ]
    },
    {
     "name": "stdout",
     "output_type": "stream",
     "text": [
      "Epoch 126 tst: l 0.911 a 0.691 clct[np.int64(20), np.int64(20)] clct_ans[np.int64(20), np.int64(20)]  3.318sec\n"
     ]
    },
    {
     "name": "stdout",
     "output_type": "stream",
     "text": [
      "Epoch 127 tr: l 0.995 a 0.662 clct[np.int64(54), np.int64(46)] clct_ans[np.int64(54), np.int64(46)]  lr 0.246845 48.488sec(train) 21.385sec(infer)\n"
     ]
    },
    {
     "name": "stdout",
     "output_type": "stream",
     "text": [
      "Epoch 127 tst: l 0.914 a 0.691 clct[np.int64(20), np.int64(20)] clct_ans[np.int64(20), np.int64(20)]  3.559sec\n"
     ]
    },
    {
     "name": "stdout",
     "output_type": "stream",
     "text": [
      "Epoch 128 tr: l 0.998 a 0.660 clct[np.int64(46), np.int64(54)] clct_ans[np.int64(46), np.int64(54)]  lr 0.246820 47.593sec(train) 21.641sec(infer)\n"
     ]
    },
    {
     "name": "stdout",
     "output_type": "stream",
     "text": [
      "Epoch 128 tst: l 0.913 a 0.690 clct[np.int64(20), np.int64(20)] clct_ans[np.int64(20), np.int64(20)]  3.421sec\n"
     ]
    },
    {
     "name": "stdout",
     "output_type": "stream",
     "text": [
      "Epoch 129 tr: l 0.989 a 0.661 clct[np.int64(52), np.int64(48)] clct_ans[np.int64(52), np.int64(48)]  lr 0.246796 47.690sec(train) 21.746sec(infer)\n"
     ]
    },
    {
     "name": "stdout",
     "output_type": "stream",
     "text": [
      "Epoch 129 tst: l 0.910 a 0.690 clct[np.int64(20), np.int64(20)] clct_ans[np.int64(20), np.int64(20)]  4.332sec\n"
     ]
    },
    {
     "name": "stdout",
     "output_type": "stream",
     "text": [
      "Epoch 130 tr: l 0.987 a 0.662 clct[np.int64(52), np.int64(48)] clct_ans[np.int64(52), np.int64(48)]  lr 0.246771 47.221sec(train) 22.333sec(infer)\n"
     ]
    },
    {
     "name": "stdout",
     "output_type": "stream",
     "text": [
      "Epoch 130 tst: l 0.907 a 0.692 clct[np.int64(20), np.int64(20)] clct_ans[np.int64(20), np.int64(20)]  3.253sec\n",
      "result written at output_dfca_gi/results.pickle\n",
      "checkpoint written at output_dfca_gi/checkpoint.pt\n"
     ]
    },
    {
     "name": "stdout",
     "output_type": "stream",
     "text": [
      "Epoch 131 tr: l 0.994 a 0.662 clct[np.int64(49), np.int64(51)] clct_ans[np.int64(49), np.int64(51)]  lr 0.246746 48.197sec(train) 21.395sec(infer)\n"
     ]
    },
    {
     "name": "stdout",
     "output_type": "stream",
     "text": [
      "Epoch 131 tst: l 0.908 a 0.692 clct[np.int64(20), np.int64(20)] clct_ans[np.int64(20), np.int64(20)]  3.334sec\n"
     ]
    },
    {
     "name": "stdout",
     "output_type": "stream",
     "text": [
      "Epoch 132 tr: l 0.991 a 0.661 clct[np.int64(48), np.int64(52)] clct_ans[np.int64(48), np.int64(52)]  lr 0.246722 47.805sec(train) 21.299sec(infer)\n"
     ]
    },
    {
     "name": "stdout",
     "output_type": "stream",
     "text": [
      "Epoch 132 tst: l 0.907 a 0.691 clct[np.int64(20), np.int64(20)] clct_ans[np.int64(20), np.int64(20)]  3.368sec\n"
     ]
    },
    {
     "name": "stdout",
     "output_type": "stream",
     "text": [
      "Epoch 133 tr: l 0.987 a 0.663 clct[np.int64(48), np.int64(52)] clct_ans[np.int64(48), np.int64(52)]  lr 0.246697 47.336sec(train) 21.980sec(infer)\n"
     ]
    },
    {
     "name": "stdout",
     "output_type": "stream",
     "text": [
      "Epoch 133 tst: l 0.910 a 0.690 clct[np.int64(20), np.int64(20)] clct_ans[np.int64(20), np.int64(20)]  3.212sec\n"
     ]
    },
    {
     "name": "stdout",
     "output_type": "stream",
     "text": [
      "Epoch 134 tr: l 0.984 a 0.664 clct[np.int64(46), np.int64(54)] clct_ans[np.int64(46), np.int64(54)]  lr 0.246672 48.216sec(train) 21.429sec(infer)\n"
     ]
    },
    {
     "name": "stdout",
     "output_type": "stream",
     "text": [
      "Epoch 134 tst: l 0.908 a 0.690 clct[np.int64(20), np.int64(20)] clct_ans[np.int64(20), np.int64(20)]  3.824sec\n"
     ]
    },
    {
     "name": "stdout",
     "output_type": "stream",
     "text": [
      "Epoch 135 tr: l 0.986 a 0.664 clct[np.int64(51), np.int64(49)] clct_ans[np.int64(51), np.int64(49)]  lr 0.246648 48.631sec(train) 21.683sec(infer)\n"
     ]
    },
    {
     "name": "stdout",
     "output_type": "stream",
     "text": [
      "Epoch 135 tst: l 0.908 a 0.691 clct[np.int64(20), np.int64(20)] clct_ans[np.int64(20), np.int64(20)]  3.600sec\n"
     ]
    },
    {
     "name": "stdout",
     "output_type": "stream",
     "text": [
      "Epoch 136 tr: l 0.983 a 0.664 clct[np.int64(45), np.int64(55)] clct_ans[np.int64(45), np.int64(55)]  lr 0.246623 48.864sec(train) 21.673sec(infer)\n"
     ]
    },
    {
     "name": "stdout",
     "output_type": "stream",
     "text": [
      "Epoch 136 tst: l 0.906 a 0.691 clct[np.int64(20), np.int64(20)] clct_ans[np.int64(20), np.int64(20)]  3.596sec\n"
     ]
    },
    {
     "name": "stdout",
     "output_type": "stream",
     "text": [
      "Epoch 137 tr: l 0.986 a 0.664 clct[np.int64(51), np.int64(49)] clct_ans[np.int64(51), np.int64(49)]  lr 0.246598 47.906sec(train) 22.025sec(infer)\n"
     ]
    },
    {
     "name": "stdout",
     "output_type": "stream",
     "text": [
      "Epoch 137 tst: l 0.905 a 0.694 clct[np.int64(20), np.int64(20)] clct_ans[np.int64(20), np.int64(20)]  3.355sec\n"
     ]
    },
    {
     "name": "stdout",
     "output_type": "stream",
     "text": [
      "Epoch 138 tr: l 0.987 a 0.664 clct[np.int64(54), np.int64(46)] clct_ans[np.int64(54), np.int64(46)]  lr 0.246574 48.034sec(train) 22.102sec(infer)\n"
     ]
    },
    {
     "name": "stdout",
     "output_type": "stream",
     "text": [
      "Epoch 138 tst: l 0.903 a 0.692 clct[np.int64(20), np.int64(20)] clct_ans[np.int64(20), np.int64(20)]  3.317sec\n"
     ]
    },
    {
     "name": "stdout",
     "output_type": "stream",
     "text": [
      "Epoch 139 tr: l 0.978 a 0.666 clct[np.int64(54), np.int64(46)] clct_ans[np.int64(54), np.int64(46)]  lr 0.246549 48.811sec(train) 21.650sec(infer)\n"
     ]
    },
    {
     "name": "stdout",
     "output_type": "stream",
     "text": [
      "Epoch 139 tst: l 0.907 a 0.691 clct[np.int64(20), np.int64(20)] clct_ans[np.int64(20), np.int64(20)]  3.548sec\n"
     ]
    },
    {
     "name": "stdout",
     "output_type": "stream",
     "text": [
      "Epoch 140 tr: l 0.986 a 0.664 clct[np.int64(49), np.int64(51)] clct_ans[np.int64(49), np.int64(51)]  lr 0.246524 48.038sec(train) 21.748sec(infer)\n"
     ]
    },
    {
     "name": "stdout",
     "output_type": "stream",
     "text": [
      "Epoch 140 tst: l 0.906 a 0.691 clct[np.int64(20), np.int64(20)] clct_ans[np.int64(20), np.int64(20)]  3.419sec\n",
      "result written at output_dfca_gi/results.pickle\n",
      "checkpoint written at output_dfca_gi/checkpoint.pt\n"
     ]
    },
    {
     "name": "stdout",
     "output_type": "stream",
     "text": [
      "Epoch 141 tr: l 0.976 a 0.666 clct[np.int64(49), np.int64(51)] clct_ans[np.int64(49), np.int64(51)]  lr 0.246500 49.870sec(train) 21.741sec(infer)\n"
     ]
    },
    {
     "name": "stdout",
     "output_type": "stream",
     "text": [
      "Epoch 141 tst: l 0.906 a 0.692 clct[np.int64(20), np.int64(20)] clct_ans[np.int64(20), np.int64(20)]  3.369sec\n"
     ]
    },
    {
     "name": "stdout",
     "output_type": "stream",
     "text": [
      "Epoch 142 tr: l 0.982 a 0.664 clct[np.int64(48), np.int64(52)] clct_ans[np.int64(48), np.int64(52)]  lr 0.246475 49.538sec(train) 21.609sec(infer)\n"
     ]
    },
    {
     "name": "stdout",
     "output_type": "stream",
     "text": [
      "Epoch 142 tst: l 0.897 a 0.694 clct[np.int64(20), np.int64(20)] clct_ans[np.int64(20), np.int64(20)]  3.471sec\n"
     ]
    },
    {
     "name": "stdout",
     "output_type": "stream",
     "text": [
      "Epoch 143 tr: l 0.983 a 0.666 clct[np.int64(52), np.int64(48)] clct_ans[np.int64(52), np.int64(48)]  lr 0.246450 48.537sec(train) 21.387sec(infer)\n"
     ]
    },
    {
     "name": "stdout",
     "output_type": "stream",
     "text": [
      "Epoch 143 tst: l 0.903 a 0.691 clct[np.int64(20), np.int64(20)] clct_ans[np.int64(20), np.int64(20)]  3.374sec\n"
     ]
    },
    {
     "name": "stdout",
     "output_type": "stream",
     "text": [
      "Epoch 144 tr: l 0.978 a 0.667 clct[np.int64(48), np.int64(52)] clct_ans[np.int64(48), np.int64(52)]  lr 0.246426 48.320sec(train) 21.926sec(infer)\n"
     ]
    },
    {
     "name": "stdout",
     "output_type": "stream",
     "text": [
      "Epoch 144 tst: l 0.900 a 0.693 clct[np.int64(20), np.int64(20)] clct_ans[np.int64(20), np.int64(20)]  3.787sec\n"
     ]
    },
    {
     "name": "stdout",
     "output_type": "stream",
     "text": [
      "Epoch 145 tr: l 0.991 a 0.662 clct[np.int64(58), np.int64(42)] clct_ans[np.int64(58), np.int64(42)]  lr 0.246401 49.098sec(train) 22.429sec(infer)\n"
     ]
    },
    {
     "name": "stdout",
     "output_type": "stream",
     "text": [
      "Epoch 145 tst: l 0.901 a 0.693 clct[np.int64(20), np.int64(20)] clct_ans[np.int64(20), np.int64(20)]  3.528sec\n"
     ]
    },
    {
     "name": "stdout",
     "output_type": "stream",
     "text": [
      "Epoch 146 tr: l 0.980 a 0.664 clct[np.int64(54), np.int64(46)] clct_ans[np.int64(54), np.int64(46)]  lr 0.246376 48.783sec(train) 21.893sec(infer)\n"
     ]
    },
    {
     "name": "stdout",
     "output_type": "stream",
     "text": [
      "Epoch 146 tst: l 0.898 a 0.693 clct[np.int64(20), np.int64(20)] clct_ans[np.int64(20), np.int64(20)]  3.728sec\n"
     ]
    },
    {
     "name": "stdout",
     "output_type": "stream",
     "text": [
      "Epoch 147 tr: l 0.976 a 0.667 clct[np.int64(56), np.int64(44)] clct_ans[np.int64(56), np.int64(44)]  lr 0.246352 48.329sec(train) 22.080sec(infer)\n"
     ]
    },
    {
     "name": "stdout",
     "output_type": "stream",
     "text": [
      "Epoch 147 tst: l 0.899 a 0.693 clct[np.int64(20), np.int64(20)] clct_ans[np.int64(20), np.int64(20)]  4.105sec\n"
     ]
    },
    {
     "name": "stdout",
     "output_type": "stream",
     "text": [
      "Epoch 148 tr: l 0.976 a 0.668 clct[np.int64(50), np.int64(50)] clct_ans[np.int64(50), np.int64(50)]  lr 0.246327 48.127sec(train) 22.611sec(infer)\n"
     ]
    },
    {
     "name": "stdout",
     "output_type": "stream",
     "text": [
      "Epoch 148 tst: l 0.898 a 0.691 clct[np.int64(20), np.int64(20)] clct_ans[np.int64(20), np.int64(20)]  4.085sec\n"
     ]
    },
    {
     "name": "stdout",
     "output_type": "stream",
     "text": [
      "Epoch 149 tr: l 0.972 a 0.668 clct[np.int64(54), np.int64(46)] clct_ans[np.int64(54), np.int64(46)]  lr 0.246302 47.555sec(train) 21.905sec(infer)\n"
     ]
    },
    {
     "name": "stdout",
     "output_type": "stream",
     "text": [
      "Epoch 149 tst: l 0.898 a 0.695 clct[np.int64(20), np.int64(20)] clct_ans[np.int64(20), np.int64(20)]  3.774sec\n"
     ]
    },
    {
     "name": "stdout",
     "output_type": "stream",
     "text": [
      "Epoch 150 tr: l 0.986 a 0.662 clct[np.int64(60), np.int64(40)] clct_ans[np.int64(60), np.int64(40)]  lr 0.246278 47.190sec(train) 21.990sec(infer)\n"
     ]
    },
    {
     "name": "stdout",
     "output_type": "stream",
     "text": [
      "Epoch 150 tst: l 0.899 a 0.694 clct[np.int64(20), np.int64(20)] clct_ans[np.int64(20), np.int64(20)]  4.122sec\n",
      "result written at output_dfca_gi/results.pickle\n",
      "checkpoint written at output_dfca_gi/checkpoint.pt\n"
     ]
    },
    {
     "name": "stdout",
     "output_type": "stream",
     "text": [
      "Epoch 151 tr: l 0.977 a 0.667 clct[np.int64(49), np.int64(51)] clct_ans[np.int64(49), np.int64(51)]  lr 0.246253 48.650sec(train) 22.119sec(infer)\n"
     ]
    },
    {
     "name": "stdout",
     "output_type": "stream",
     "text": [
      "Epoch 151 tst: l 0.899 a 0.694 clct[np.int64(20), np.int64(20)] clct_ans[np.int64(20), np.int64(20)]  3.827sec\n"
     ]
    },
    {
     "name": "stdout",
     "output_type": "stream",
     "text": [
      "Epoch 152 tr: l 0.979 a 0.664 clct[np.int64(49), np.int64(51)] clct_ans[np.int64(49), np.int64(51)]  lr 0.246229 47.941sec(train) 21.836sec(infer)\n"
     ]
    },
    {
     "name": "stdout",
     "output_type": "stream",
     "text": [
      "Epoch 152 tst: l 0.894 a 0.694 clct[np.int64(20), np.int64(20)] clct_ans[np.int64(20), np.int64(20)]  3.989sec\n"
     ]
    },
    {
     "name": "stdout",
     "output_type": "stream",
     "text": [
      "Epoch 153 tr: l 0.972 a 0.670 clct[np.int64(49), np.int64(51)] clct_ans[np.int64(49), np.int64(51)]  lr 0.246204 48.392sec(train) 22.366sec(infer)\n"
     ]
    },
    {
     "name": "stdout",
     "output_type": "stream",
     "text": [
      "Epoch 153 tst: l 0.896 a 0.694 clct[np.int64(20), np.int64(20)] clct_ans[np.int64(20), np.int64(20)]  3.614sec\n"
     ]
    },
    {
     "name": "stdout",
     "output_type": "stream",
     "text": [
      "Epoch 154 tr: l 0.976 a 0.666 clct[np.int64(49), np.int64(51)] clct_ans[np.int64(49), np.int64(51)]  lr 0.246179 48.709sec(train) 21.791sec(infer)\n"
     ]
    },
    {
     "name": "stdout",
     "output_type": "stream",
     "text": [
      "Epoch 154 tst: l 0.895 a 0.695 clct[np.int64(20), np.int64(20)] clct_ans[np.int64(20), np.int64(20)]  3.702sec\n"
     ]
    },
    {
     "name": "stdout",
     "output_type": "stream",
     "text": [
      "Epoch 155 tr: l 0.974 a 0.667 clct[np.int64(54), np.int64(46)] clct_ans[np.int64(54), np.int64(46)]  lr 0.246155 48.094sec(train) 22.236sec(infer)\n"
     ]
    },
    {
     "name": "stdout",
     "output_type": "stream",
     "text": [
      "Epoch 155 tst: l 0.895 a 0.693 clct[np.int64(20), np.int64(20)] clct_ans[np.int64(20), np.int64(20)]  4.075sec\n"
     ]
    },
    {
     "name": "stdout",
     "output_type": "stream",
     "text": [
      "Epoch 156 tr: l 0.982 a 0.664 clct[np.int64(53), np.int64(47)] clct_ans[np.int64(53), np.int64(47)]  lr 0.246130 48.238sec(train) 22.811sec(infer)\n"
     ]
    },
    {
     "name": "stdout",
     "output_type": "stream",
     "text": [
      "Epoch 156 tst: l 0.894 a 0.696 clct[np.int64(20), np.int64(20)] clct_ans[np.int64(20), np.int64(20)]  4.136sec\n"
     ]
    },
    {
     "name": "stdout",
     "output_type": "stream",
     "text": [
      "Epoch 157 tr: l 0.973 a 0.665 clct[np.int64(49), np.int64(51)] clct_ans[np.int64(49), np.int64(51)]  lr 0.246105 47.251sec(train) 22.452sec(infer)\n"
     ]
    },
    {
     "name": "stdout",
     "output_type": "stream",
     "text": [
      "Epoch 157 tst: l 0.895 a 0.696 clct[np.int64(20), np.int64(20)] clct_ans[np.int64(20), np.int64(20)]  3.744sec\n"
     ]
    },
    {
     "name": "stdout",
     "output_type": "stream",
     "text": [
      "Epoch 158 tr: l 0.980 a 0.665 clct[np.int64(48), np.int64(52)] clct_ans[np.int64(48), np.int64(52)]  lr 0.246081 48.665sec(train) 22.432sec(infer)\n"
     ]
    },
    {
     "name": "stdout",
     "output_type": "stream",
     "text": [
      "Epoch 158 tst: l 0.896 a 0.695 clct[np.int64(20), np.int64(20)] clct_ans[np.int64(20), np.int64(20)]  3.760sec\n"
     ]
    },
    {
     "name": "stdout",
     "output_type": "stream",
     "text": [
      "Epoch 159 tr: l 0.981 a 0.664 clct[np.int64(49), np.int64(51)] clct_ans[np.int64(49), np.int64(51)]  lr 0.246056 47.468sec(train) 23.043sec(infer)\n"
     ]
    },
    {
     "name": "stdout",
     "output_type": "stream",
     "text": [
      "Epoch 159 tst: l 0.893 a 0.696 clct[np.int64(20), np.int64(20)] clct_ans[np.int64(20), np.int64(20)]  3.713sec\n"
     ]
    },
    {
     "name": "stdout",
     "output_type": "stream",
     "text": [
      "Epoch 160 tr: l 0.976 a 0.666 clct[np.int64(53), np.int64(47)] clct_ans[np.int64(53), np.int64(47)]  lr 0.246032 49.325sec(train) 22.371sec(infer)\n"
     ]
    },
    {
     "name": "stdout",
     "output_type": "stream",
     "text": [
      "Epoch 160 tst: l 0.895 a 0.698 clct[np.int64(20), np.int64(20)] clct_ans[np.int64(20), np.int64(20)]  3.418sec\n",
      "result written at output_dfca_gi/results.pickle\n",
      "checkpoint written at output_dfca_gi/checkpoint.pt\n"
     ]
    },
    {
     "name": "stdout",
     "output_type": "stream",
     "text": [
      "Epoch 161 tr: l 0.973 a 0.667 clct[np.int64(54), np.int64(46)] clct_ans[np.int64(54), np.int64(46)]  lr 0.246007 48.975sec(train) 22.211sec(infer)\n"
     ]
    },
    {
     "name": "stdout",
     "output_type": "stream",
     "text": [
      "Epoch 161 tst: l 0.895 a 0.696 clct[np.int64(20), np.int64(20)] clct_ans[np.int64(20), np.int64(20)]  3.617sec\n"
     ]
    },
    {
     "name": "stdout",
     "output_type": "stream",
     "text": [
      "Epoch 162 tr: l 0.973 a 0.667 clct[np.int64(52), np.int64(48)] clct_ans[np.int64(52), np.int64(48)]  lr 0.245982 49.472sec(train) 21.967sec(infer)\n"
     ]
    },
    {
     "name": "stdout",
     "output_type": "stream",
     "text": [
      "Epoch 162 tst: l 0.893 a 0.694 clct[np.int64(20), np.int64(20)] clct_ans[np.int64(20), np.int64(20)]  3.667sec\n"
     ]
    },
    {
     "name": "stdout",
     "output_type": "stream",
     "text": [
      "Epoch 163 tr: l 0.972 a 0.669 clct[np.int64(56), np.int64(44)] clct_ans[np.int64(56), np.int64(44)]  lr 0.245958 49.761sec(train) 21.572sec(infer)\n"
     ]
    },
    {
     "name": "stdout",
     "output_type": "stream",
     "text": [
      "Epoch 163 tst: l 0.892 a 0.696 clct[np.int64(20), np.int64(20)] clct_ans[np.int64(20), np.int64(20)]  3.414sec\n"
     ]
    },
    {
     "name": "stdout",
     "output_type": "stream",
     "text": [
      "Epoch 164 tr: l 0.970 a 0.670 clct[np.int64(50), np.int64(50)] clct_ans[np.int64(50), np.int64(50)]  lr 0.245933 48.423sec(train) 21.464sec(infer)\n"
     ]
    },
    {
     "name": "stdout",
     "output_type": "stream",
     "text": [
      "Epoch 164 tst: l 0.889 a 0.698 clct[np.int64(20), np.int64(20)] clct_ans[np.int64(20), np.int64(20)]  3.719sec\n"
     ]
    },
    {
     "name": "stdout",
     "output_type": "stream",
     "text": [
      "Epoch 165 tr: l 0.965 a 0.670 clct[np.int64(54), np.int64(46)] clct_ans[np.int64(54), np.int64(46)]  lr 0.245909 49.103sec(train) 21.921sec(infer)\n"
     ]
    },
    {
     "name": "stdout",
     "output_type": "stream",
     "text": [
      "Epoch 165 tst: l 0.891 a 0.694 clct[np.int64(20), np.int64(20)] clct_ans[np.int64(20), np.int64(20)]  3.796sec\n"
     ]
    },
    {
     "name": "stdout",
     "output_type": "stream",
     "text": [
      "Epoch 166 tr: l 0.973 a 0.669 clct[np.int64(53), np.int64(47)] clct_ans[np.int64(53), np.int64(47)]  lr 0.245884 48.509sec(train) 21.525sec(infer)\n"
     ]
    },
    {
     "name": "stdout",
     "output_type": "stream",
     "text": [
      "Epoch 166 tst: l 0.890 a 0.696 clct[np.int64(20), np.int64(20)] clct_ans[np.int64(20), np.int64(20)]  3.343sec\n"
     ]
    },
    {
     "name": "stdout",
     "output_type": "stream",
     "text": [
      "Epoch 167 tr: l 0.978 a 0.667 clct[np.int64(51), np.int64(49)] clct_ans[np.int64(51), np.int64(49)]  lr 0.245859 47.613sec(train) 21.357sec(infer)\n"
     ]
    },
    {
     "name": "stdout",
     "output_type": "stream",
     "text": [
      "Epoch 167 tst: l 0.892 a 0.696 clct[np.int64(20), np.int64(20)] clct_ans[np.int64(20), np.int64(20)]  3.438sec\n"
     ]
    },
    {
     "name": "stdout",
     "output_type": "stream",
     "text": [
      "Epoch 168 tr: l 0.983 a 0.664 clct[np.int64(48), np.int64(52)] clct_ans[np.int64(48), np.int64(52)]  lr 0.245835 48.806sec(train) 22.167sec(infer)\n"
     ]
    },
    {
     "name": "stdout",
     "output_type": "stream",
     "text": [
      "Epoch 168 tst: l 0.887 a 0.699 clct[np.int64(20), np.int64(20)] clct_ans[np.int64(20), np.int64(20)]  3.316sec\n"
     ]
    },
    {
     "name": "stdout",
     "output_type": "stream",
     "text": [
      "Epoch 169 tr: l 0.971 a 0.671 clct[np.int64(53), np.int64(47)] clct_ans[np.int64(53), np.int64(47)]  lr 0.245810 49.179sec(train) 21.317sec(infer)\n"
     ]
    },
    {
     "name": "stdout",
     "output_type": "stream",
     "text": [
      "Epoch 169 tst: l 0.890 a 0.699 clct[np.int64(20), np.int64(20)] clct_ans[np.int64(20), np.int64(20)]  3.501sec\n"
     ]
    },
    {
     "name": "stdout",
     "output_type": "stream",
     "text": [
      "Epoch 170 tr: l 0.966 a 0.672 clct[np.int64(52), np.int64(48)] clct_ans[np.int64(52), np.int64(48)]  lr 0.245786 48.237sec(train) 21.637sec(infer)\n"
     ]
    },
    {
     "name": "stdout",
     "output_type": "stream",
     "text": [
      "Epoch 170 tst: l 0.889 a 0.696 clct[np.int64(20), np.int64(20)] clct_ans[np.int64(20), np.int64(20)]  3.459sec\n",
      "result written at output_dfca_gi/results.pickle\n",
      "checkpoint written at output_dfca_gi/checkpoint.pt\n"
     ]
    },
    {
     "name": "stdout",
     "output_type": "stream",
     "text": [
      "Epoch 171 tr: l 0.971 a 0.670 clct[np.int64(53), np.int64(47)] clct_ans[np.int64(53), np.int64(47)]  lr 0.245761 47.986sec(train) 21.580sec(infer)\n"
     ]
    },
    {
     "name": "stdout",
     "output_type": "stream",
     "text": [
      "Epoch 171 tst: l 0.892 a 0.696 clct[np.int64(20), np.int64(20)] clct_ans[np.int64(20), np.int64(20)]  3.376sec\n"
     ]
    },
    {
     "name": "stdout",
     "output_type": "stream",
     "text": [
      "Epoch 172 tr: l 0.965 a 0.672 clct[np.int64(43), np.int64(57)] clct_ans[np.int64(43), np.int64(57)]  lr 0.245737 47.869sec(train) 21.363sec(infer)\n"
     ]
    },
    {
     "name": "stdout",
     "output_type": "stream",
     "text": [
      "Epoch 172 tst: l 0.890 a 0.698 clct[np.int64(20), np.int64(20)] clct_ans[np.int64(20), np.int64(20)]  3.483sec\n"
     ]
    },
    {
     "name": "stdout",
     "output_type": "stream",
     "text": [
      "Epoch 173 tr: l 0.967 a 0.672 clct[np.int64(53), np.int64(47)] clct_ans[np.int64(53), np.int64(47)]  lr 0.245712 45.214sec(train) 21.762sec(infer)\n"
     ]
    },
    {
     "name": "stdout",
     "output_type": "stream",
     "text": [
      "Epoch 173 tst: l 0.892 a 0.695 clct[np.int64(20), np.int64(20)] clct_ans[np.int64(20), np.int64(20)]  3.365sec\n"
     ]
    },
    {
     "name": "stdout",
     "output_type": "stream",
     "text": [
      "Epoch 174 tr: l 0.968 a 0.668 clct[np.int64(54), np.int64(46)] clct_ans[np.int64(54), np.int64(46)]  lr 0.245687 44.163sec(train) 21.495sec(infer)\n"
     ]
    },
    {
     "name": "stdout",
     "output_type": "stream",
     "text": [
      "Epoch 174 tst: l 0.891 a 0.697 clct[np.int64(20), np.int64(20)] clct_ans[np.int64(20), np.int64(20)]  3.500sec\n"
     ]
    },
    {
     "name": "stdout",
     "output_type": "stream",
     "text": [
      "Epoch 175 tr: l 0.971 a 0.669 clct[np.int64(48), np.int64(52)] clct_ans[np.int64(48), np.int64(52)]  lr 0.245663 46.513sec(train) 21.179sec(infer)\n"
     ]
    },
    {
     "name": "stdout",
     "output_type": "stream",
     "text": [
      "Epoch 175 tst: l 0.889 a 0.698 clct[np.int64(20), np.int64(20)] clct_ans[np.int64(20), np.int64(20)]  3.374sec\n"
     ]
    },
    {
     "name": "stdout",
     "output_type": "stream",
     "text": [
      "Epoch 176 tr: l 0.961 a 0.670 clct[np.int64(51), np.int64(49)] clct_ans[np.int64(51), np.int64(49)]  lr 0.245638 47.062sec(train) 21.437sec(infer)\n"
     ]
    },
    {
     "name": "stdout",
     "output_type": "stream",
     "text": [
      "Epoch 176 tst: l 0.890 a 0.696 clct[np.int64(20), np.int64(20)] clct_ans[np.int64(20), np.int64(20)]  3.804sec\n"
     ]
    },
    {
     "name": "stdout",
     "output_type": "stream",
     "text": [
      "Epoch 177 tr: l 0.972 a 0.668 clct[np.int64(51), np.int64(49)] clct_ans[np.int64(51), np.int64(49)]  lr 0.245614 47.227sec(train) 21.286sec(infer)\n"
     ]
    },
    {
     "name": "stdout",
     "output_type": "stream",
     "text": [
      "Epoch 177 tst: l 0.889 a 0.698 clct[np.int64(20), np.int64(20)] clct_ans[np.int64(20), np.int64(20)]  3.340sec\n"
     ]
    },
    {
     "name": "stdout",
     "output_type": "stream",
     "text": [
      "Epoch 178 tr: l 0.972 a 0.668 clct[np.int64(53), np.int64(47)] clct_ans[np.int64(53), np.int64(47)]  lr 0.245589 44.675sec(train) 21.151sec(infer)\n"
     ]
    },
    {
     "name": "stdout",
     "output_type": "stream",
     "text": [
      "Epoch 178 tst: l 0.888 a 0.696 clct[np.int64(20), np.int64(20)] clct_ans[np.int64(20), np.int64(20)]  3.399sec\n"
     ]
    },
    {
     "name": "stdout",
     "output_type": "stream",
     "text": [
      "Epoch 179 tr: l 0.965 a 0.671 clct[np.int64(51), np.int64(49)] clct_ans[np.int64(51), np.int64(49)]  lr 0.245565 45.089sec(train) 21.401sec(infer)\n"
     ]
    },
    {
     "name": "stdout",
     "output_type": "stream",
     "text": [
      "Epoch 179 tst: l 0.888 a 0.697 clct[np.int64(20), np.int64(20)] clct_ans[np.int64(20), np.int64(20)]  3.726sec\n"
     ]
    },
    {
     "name": "stdout",
     "output_type": "stream",
     "text": [
      "Epoch 180 tr: l 0.973 a 0.668 clct[np.int64(54), np.int64(46)] clct_ans[np.int64(54), np.int64(46)]  lr 0.245540 47.247sec(train) 21.368sec(infer)\n"
     ]
    },
    {
     "name": "stdout",
     "output_type": "stream",
     "text": [
      "Epoch 180 tst: l 0.889 a 0.698 clct[np.int64(20), np.int64(20)] clct_ans[np.int64(20), np.int64(20)]  3.271sec\n",
      "result written at output_dfca_gi/results.pickle\n",
      "checkpoint written at output_dfca_gi/checkpoint.pt\n"
     ]
    },
    {
     "name": "stdout",
     "output_type": "stream",
     "text": [
      "Epoch 181 tr: l 0.962 a 0.672 clct[np.int64(50), np.int64(50)] clct_ans[np.int64(50), np.int64(50)]  lr 0.245515 46.589sec(train) 21.120sec(infer)\n"
     ]
    },
    {
     "name": "stdout",
     "output_type": "stream",
     "text": [
      "Epoch 181 tst: l 0.887 a 0.698 clct[np.int64(20), np.int64(20)] clct_ans[np.int64(20), np.int64(20)]  3.383sec\n"
     ]
    },
    {
     "name": "stdout",
     "output_type": "stream",
     "text": [
      "Epoch 182 tr: l 0.973 a 0.669 clct[np.int64(52), np.int64(48)] clct_ans[np.int64(52), np.int64(48)]  lr 0.245491 47.715sec(train) 21.288sec(infer)\n"
     ]
    },
    {
     "name": "stdout",
     "output_type": "stream",
     "text": [
      "Epoch 182 tst: l 0.890 a 0.697 clct[np.int64(20), np.int64(20)] clct_ans[np.int64(20), np.int64(20)]  3.535sec\n"
     ]
    },
    {
     "name": "stdout",
     "output_type": "stream",
     "text": [
      "Epoch 183 tr: l 0.962 a 0.667 clct[np.int64(49), np.int64(51)] clct_ans[np.int64(49), np.int64(51)]  lr 0.245466 42.039sec(train) 21.474sec(infer)\n"
     ]
    },
    {
     "name": "stdout",
     "output_type": "stream",
     "text": [
      "Epoch 183 tst: l 0.886 a 0.699 clct[np.int64(20), np.int64(20)] clct_ans[np.int64(20), np.int64(20)]  3.272sec\n"
     ]
    },
    {
     "name": "stdout",
     "output_type": "stream",
     "text": [
      "Epoch 184 tr: l 0.973 a 0.666 clct[np.int64(56), np.int64(44)] clct_ans[np.int64(56), np.int64(44)]  lr 0.245442 41.070sec(train) 21.048sec(infer)\n"
     ]
    },
    {
     "name": "stdout",
     "output_type": "stream",
     "text": [
      "Epoch 184 tst: l 0.890 a 0.698 clct[np.int64(20), np.int64(20)] clct_ans[np.int64(20), np.int64(20)]  3.376sec\n"
     ]
    },
    {
     "name": "stdout",
     "output_type": "stream",
     "text": [
      "Epoch 185 tr: l 0.970 a 0.669 clct[np.int64(56), np.int64(44)] clct_ans[np.int64(56), np.int64(44)]  lr 0.245417 42.743sec(train) 21.283sec(infer)\n"
     ]
    },
    {
     "name": "stdout",
     "output_type": "stream",
     "text": [
      "Epoch 185 tst: l 0.889 a 0.697 clct[np.int64(20), np.int64(20)] clct_ans[np.int64(20), np.int64(20)]  3.522sec\n"
     ]
    },
    {
     "name": "stdout",
     "output_type": "stream",
     "text": [
      "Epoch 186 tr: l 0.966 a 0.670 clct[np.int64(47), np.int64(53)] clct_ans[np.int64(47), np.int64(53)]  lr 0.245393 46.959sec(train) 21.557sec(infer)\n"
     ]
    },
    {
     "name": "stdout",
     "output_type": "stream",
     "text": [
      "Epoch 186 tst: l 0.890 a 0.697 clct[np.int64(20), np.int64(20)] clct_ans[np.int64(20), np.int64(20)]  3.234sec\n"
     ]
    },
    {
     "name": "stdout",
     "output_type": "stream",
     "text": [
      "Epoch 187 tr: l 0.969 a 0.669 clct[np.int64(51), np.int64(49)] clct_ans[np.int64(51), np.int64(49)]  lr 0.245368 47.299sec(train) 21.136sec(infer)\n"
     ]
    },
    {
     "name": "stdout",
     "output_type": "stream",
     "text": [
      "Epoch 187 tst: l 0.888 a 0.699 clct[np.int64(20), np.int64(20)] clct_ans[np.int64(20), np.int64(20)]  3.509sec\n"
     ]
    },
    {
     "name": "stdout",
     "output_type": "stream",
     "text": [
      "Epoch 188 tr: l 0.961 a 0.670 clct[np.int64(50), np.int64(50)] clct_ans[np.int64(50), np.int64(50)]  lr 0.245344 47.189sec(train) 21.468sec(infer)\n"
     ]
    },
    {
     "name": "stdout",
     "output_type": "stream",
     "text": [
      "Epoch 188 tst: l 0.883 a 0.698 clct[np.int64(20), np.int64(20)] clct_ans[np.int64(20), np.int64(20)]  3.614sec\n"
     ]
    },
    {
     "name": "stdout",
     "output_type": "stream",
     "text": [
      "Epoch 189 tr: l 0.959 a 0.672 clct[np.int64(50), np.int64(50)] clct_ans[np.int64(50), np.int64(50)]  lr 0.245319 46.204sec(train) 21.190sec(infer)\n"
     ]
    },
    {
     "name": "stdout",
     "output_type": "stream",
     "text": [
      "Epoch 189 tst: l 0.886 a 0.698 clct[np.int64(20), np.int64(20)] clct_ans[np.int64(20), np.int64(20)]  3.393sec\n"
     ]
    },
    {
     "name": "stdout",
     "output_type": "stream",
     "text": [
      "Epoch 190 tr: l 0.969 a 0.670 clct[np.int64(44), np.int64(56)] clct_ans[np.int64(44), np.int64(56)]  lr 0.245295 46.940sec(train) 21.175sec(infer)\n"
     ]
    },
    {
     "name": "stdout",
     "output_type": "stream",
     "text": [
      "Epoch 190 tst: l 0.887 a 0.698 clct[np.int64(20), np.int64(20)] clct_ans[np.int64(20), np.int64(20)]  3.358sec\n",
      "result written at output_dfca_gi/results.pickle\n",
      "checkpoint written at output_dfca_gi/checkpoint.pt\n"
     ]
    },
    {
     "name": "stdout",
     "output_type": "stream",
     "text": [
      "Epoch 191 tr: l 0.964 a 0.669 clct[np.int64(48), np.int64(52)] clct_ans[np.int64(48), np.int64(52)]  lr 0.245270 44.784sec(train) 21.436sec(infer)\n"
     ]
    },
    {
     "name": "stdout",
     "output_type": "stream",
     "text": [
      "Epoch 191 tst: l 0.883 a 0.699 clct[np.int64(20), np.int64(20)] clct_ans[np.int64(20), np.int64(20)]  3.332sec\n"
     ]
    },
    {
     "name": "stdout",
     "output_type": "stream",
     "text": [
      "Epoch 192 tr: l 0.964 a 0.668 clct[np.int64(53), np.int64(47)] clct_ans[np.int64(53), np.int64(47)]  lr 0.245246 48.034sec(train) 21.386sec(infer)\n"
     ]
    },
    {
     "name": "stdout",
     "output_type": "stream",
     "text": [
      "Epoch 192 tst: l 0.883 a 0.699 clct[np.int64(20), np.int64(20)] clct_ans[np.int64(20), np.int64(20)]  3.273sec\n"
     ]
    },
    {
     "name": "stdout",
     "output_type": "stream",
     "text": [
      "Epoch 193 tr: l 0.965 a 0.670 clct[np.int64(55), np.int64(45)] clct_ans[np.int64(55), np.int64(45)]  lr 0.245221 48.776sec(train) 21.122sec(infer)\n"
     ]
    },
    {
     "name": "stdout",
     "output_type": "stream",
     "text": [
      "Epoch 193 tst: l 0.883 a 0.698 clct[np.int64(20), np.int64(20)] clct_ans[np.int64(20), np.int64(20)]  3.443sec\n"
     ]
    },
    {
     "name": "stdout",
     "output_type": "stream",
     "text": [
      "Epoch 194 tr: l 0.967 a 0.669 clct[np.int64(50), np.int64(50)] clct_ans[np.int64(50), np.int64(50)]  lr 0.245197 47.682sec(train) 21.268sec(infer)\n"
     ]
    },
    {
     "name": "stdout",
     "output_type": "stream",
     "text": [
      "Epoch 194 tst: l 0.886 a 0.697 clct[np.int64(20), np.int64(20)] clct_ans[np.int64(20), np.int64(20)]  3.403sec\n"
     ]
    },
    {
     "name": "stdout",
     "output_type": "stream",
     "text": [
      "Epoch 195 tr: l 0.958 a 0.674 clct[np.int64(52), np.int64(48)] clct_ans[np.int64(52), np.int64(48)]  lr 0.245172 46.490sec(train) 21.491sec(infer)\n"
     ]
    },
    {
     "name": "stdout",
     "output_type": "stream",
     "text": [
      "Epoch 195 tst: l 0.882 a 0.699 clct[np.int64(20), np.int64(20)] clct_ans[np.int64(20), np.int64(20)]  3.276sec\n"
     ]
    },
    {
     "name": "stdout",
     "output_type": "stream",
     "text": [
      "Epoch 196 tr: l 0.963 a 0.672 clct[np.int64(54), np.int64(46)] clct_ans[np.int64(54), np.int64(46)]  lr 0.245147 46.911sec(train) 21.131sec(infer)\n"
     ]
    },
    {
     "name": "stdout",
     "output_type": "stream",
     "text": [
      "Epoch 196 tst: l 0.885 a 0.698 clct[np.int64(20), np.int64(20)] clct_ans[np.int64(20), np.int64(20)]  3.462sec\n"
     ]
    },
    {
     "name": "stdout",
     "output_type": "stream",
     "text": [
      "Epoch 197 tr: l 0.956 a 0.673 clct[np.int64(53), np.int64(47)] clct_ans[np.int64(53), np.int64(47)]  lr 0.245123 46.309sec(train) 21.155sec(infer)\n"
     ]
    },
    {
     "name": "stdout",
     "output_type": "stream",
     "text": [
      "Epoch 197 tst: l 0.884 a 0.697 clct[np.int64(20), np.int64(20)] clct_ans[np.int64(20), np.int64(20)]  3.777sec\n"
     ]
    },
    {
     "name": "stdout",
     "output_type": "stream",
     "text": [
      "Epoch 198 tr: l 0.965 a 0.671 clct[np.int64(56), np.int64(44)] clct_ans[np.int64(56), np.int64(44)]  lr 0.245098 47.147sec(train) 21.194sec(infer)\n"
     ]
    },
    {
     "name": "stdout",
     "output_type": "stream",
     "text": [
      "Epoch 198 tst: l 0.881 a 0.698 clct[np.int64(20), np.int64(20)] clct_ans[np.int64(20), np.int64(20)]  3.337sec\n"
     ]
    },
    {
     "name": "stdout",
     "output_type": "stream",
     "text": [
      "Epoch 199 tr: l 0.959 a 0.672 clct[np.int64(51), np.int64(49)] clct_ans[np.int64(51), np.int64(49)]  lr 0.245074 46.863sec(train) 21.070sec(infer)\n"
     ]
    },
    {
     "name": "stdout",
     "output_type": "stream",
     "text": [
      "Epoch 199 tst: l 0.882 a 0.700 clct[np.int64(20), np.int64(20)] clct_ans[np.int64(20), np.int64(20)]  3.354sec\n"
     ]
    },
    {
     "name": "stdout",
     "output_type": "stream",
     "text": [
      "Epoch 200 tr: l 0.960 a 0.674 clct[np.int64(54), np.int64(46)] clct_ans[np.int64(54), np.int64(46)]  lr 0.245049 46.241sec(train) 21.195sec(infer)\n"
     ]
    },
    {
     "name": "stdout",
     "output_type": "stream",
     "text": [
      "Epoch 200 tst: l 0.879 a 0.701 clct[np.int64(20), np.int64(20)] clct_ans[np.int64(20), np.int64(20)]  3.602sec\n",
      "result written at output_dfca_gi/results.pickle\n",
      "checkpoint written at output_dfca_gi/checkpoint.pt\n"
     ]
    },
    {
     "name": "stdout",
     "output_type": "stream",
     "text": [
      "Epoch 201 tr: l 0.969 a 0.668 clct[np.int64(52), np.int64(48)] clct_ans[np.int64(52), np.int64(48)]  lr 0.245025 46.909sec(train) 21.113sec(infer)\n"
     ]
    },
    {
     "name": "stdout",
     "output_type": "stream",
     "text": [
      "Epoch 201 tst: l 0.882 a 0.698 clct[np.int64(20), np.int64(20)] clct_ans[np.int64(20), np.int64(20)]  3.277sec\n"
     ]
    },
    {
     "name": "stdout",
     "output_type": "stream",
     "text": [
      "Epoch 202 tr: l 0.957 a 0.674 clct[np.int64(46), np.int64(54)] clct_ans[np.int64(46), np.int64(54)]  lr 0.245000 47.231sec(train) 21.088sec(infer)\n"
     ]
    },
    {
     "name": "stdout",
     "output_type": "stream",
     "text": [
      "Epoch 202 tst: l 0.882 a 0.700 clct[np.int64(20), np.int64(20)] clct_ans[np.int64(20), np.int64(20)]  3.478sec\n"
     ]
    },
    {
     "name": "stdout",
     "output_type": "stream",
     "text": [
      "Epoch 203 tr: l 0.960 a 0.672 clct[np.int64(48), np.int64(52)] clct_ans[np.int64(48), np.int64(52)]  lr 0.244976 47.103sec(train) 21.406sec(infer)\n"
     ]
    },
    {
     "name": "stdout",
     "output_type": "stream",
     "text": [
      "Epoch 203 tst: l 0.879 a 0.701 clct[np.int64(20), np.int64(20)] clct_ans[np.int64(20), np.int64(20)]  3.536sec\n"
     ]
    },
    {
     "name": "stdout",
     "output_type": "stream",
     "text": [
      "Epoch 204 tr: l 0.963 a 0.672 clct[np.int64(49), np.int64(51)] clct_ans[np.int64(49), np.int64(51)]  lr 0.244951 45.998sec(train) 21.352sec(infer)\n"
     ]
    },
    {
     "name": "stdout",
     "output_type": "stream",
     "text": [
      "Epoch 204 tst: l 0.878 a 0.700 clct[np.int64(20), np.int64(20)] clct_ans[np.int64(20), np.int64(20)]  3.236sec\n"
     ]
    },
    {
     "name": "stdout",
     "output_type": "stream",
     "text": [
      "Epoch 205 tr: l 0.961 a 0.672 clct[np.int64(51), np.int64(49)] clct_ans[np.int64(51), np.int64(49)]  lr 0.244927 46.544sec(train) 21.124sec(infer)\n"
     ]
    },
    {
     "name": "stdout",
     "output_type": "stream",
     "text": [
      "Epoch 205 tst: l 0.883 a 0.699 clct[np.int64(20), np.int64(20)] clct_ans[np.int64(20), np.int64(20)]  3.381sec\n"
     ]
    },
    {
     "name": "stdout",
     "output_type": "stream",
     "text": [
      "Epoch 206 tr: l 0.958 a 0.674 clct[np.int64(54), np.int64(46)] clct_ans[np.int64(54), np.int64(46)]  lr 0.244902 46.751sec(train) 21.359sec(infer)\n"
     ]
    },
    {
     "name": "stdout",
     "output_type": "stream",
     "text": [
      "Epoch 206 tst: l 0.881 a 0.699 clct[np.int64(20), np.int64(20)] clct_ans[np.int64(20), np.int64(20)]  3.454sec\n"
     ]
    },
    {
     "name": "stdout",
     "output_type": "stream",
     "text": [
      "Epoch 207 tr: l 0.965 a 0.670 clct[np.int64(51), np.int64(49)] clct_ans[np.int64(51), np.int64(49)]  lr 0.244878 46.958sec(train) 21.269sec(infer)\n"
     ]
    },
    {
     "name": "stdout",
     "output_type": "stream",
     "text": [
      "Epoch 207 tst: l 0.881 a 0.701 clct[np.int64(20), np.int64(20)] clct_ans[np.int64(20), np.int64(20)]  3.262sec\n"
     ]
    },
    {
     "name": "stdout",
     "output_type": "stream",
     "text": [
      "Epoch 208 tr: l 0.960 a 0.672 clct[np.int64(57), np.int64(43)] clct_ans[np.int64(57), np.int64(43)]  lr 0.244853 44.547sec(train) 21.081sec(infer)\n"
     ]
    },
    {
     "name": "stdout",
     "output_type": "stream",
     "text": [
      "Epoch 208 tst: l 0.880 a 0.699 clct[np.int64(20), np.int64(20)] clct_ans[np.int64(20), np.int64(20)]  3.391sec\n"
     ]
    },
    {
     "name": "stdout",
     "output_type": "stream",
     "text": [
      "Epoch 209 tr: l 0.968 a 0.669 clct[np.int64(47), np.int64(53)] clct_ans[np.int64(47), np.int64(53)]  lr 0.244829 46.626sec(train) 21.522sec(infer)\n"
     ]
    },
    {
     "name": "stdout",
     "output_type": "stream",
     "text": [
      "Epoch 209 tst: l 0.878 a 0.702 clct[np.int64(20), np.int64(20)] clct_ans[np.int64(20), np.int64(20)]  3.882sec\n"
     ]
    },
    {
     "name": "stdout",
     "output_type": "stream",
     "text": [
      "Epoch 210 tr: l 0.967 a 0.672 clct[np.int64(44), np.int64(56)] clct_ans[np.int64(44), np.int64(56)]  lr 0.244804 47.115sec(train) 21.434sec(infer)\n"
     ]
    },
    {
     "name": "stdout",
     "output_type": "stream",
     "text": [
      "Epoch 210 tst: l 0.884 a 0.701 clct[np.int64(20), np.int64(20)] clct_ans[np.int64(20), np.int64(20)]  3.373sec\n",
      "result written at output_dfca_gi/results.pickle\n",
      "checkpoint written at output_dfca_gi/checkpoint.pt\n"
     ]
    },
    {
     "name": "stdout",
     "output_type": "stream",
     "text": [
      "Epoch 211 tr: l 0.955 a 0.673 clct[np.int64(50), np.int64(50)] clct_ans[np.int64(50), np.int64(50)]  lr 0.244780 46.194sec(train) 21.105sec(infer)\n"
     ]
    },
    {
     "name": "stdout",
     "output_type": "stream",
     "text": [
      "Epoch 211 tst: l 0.878 a 0.701 clct[np.int64(20), np.int64(20)] clct_ans[np.int64(20), np.int64(20)]  3.383sec\n"
     ]
    },
    {
     "name": "stdout",
     "output_type": "stream",
     "text": [
      "Epoch 212 tr: l 0.959 a 0.674 clct[np.int64(49), np.int64(51)] clct_ans[np.int64(49), np.int64(51)]  lr 0.244756 46.365sec(train) 21.429sec(infer)\n"
     ]
    },
    {
     "name": "stdout",
     "output_type": "stream",
     "text": [
      "Epoch 212 tst: l 0.881 a 0.700 clct[np.int64(20), np.int64(20)] clct_ans[np.int64(20), np.int64(20)]  3.563sec\n"
     ]
    },
    {
     "name": "stdout",
     "output_type": "stream",
     "text": [
      "Epoch 213 tr: l 0.956 a 0.673 clct[np.int64(46), np.int64(54)] clct_ans[np.int64(46), np.int64(54)]  lr 0.244731 46.969sec(train) 21.900sec(infer)\n"
     ]
    },
    {
     "name": "stdout",
     "output_type": "stream",
     "text": [
      "Epoch 213 tst: l 0.881 a 0.701 clct[np.int64(20), np.int64(20)] clct_ans[np.int64(20), np.int64(20)]  3.481sec\n"
     ]
    },
    {
     "name": "stdout",
     "output_type": "stream",
     "text": [
      "Epoch 214 tr: l 0.949 a 0.674 clct[np.int64(49), np.int64(51)] clct_ans[np.int64(49), np.int64(51)]  lr 0.244707 46.762sec(train) 22.943sec(infer)\n"
     ]
    },
    {
     "name": "stdout",
     "output_type": "stream",
     "text": [
      "Epoch 214 tst: l 0.878 a 0.701 clct[np.int64(20), np.int64(20)] clct_ans[np.int64(20), np.int64(20)]  3.909sec\n"
     ]
    },
    {
     "name": "stdout",
     "output_type": "stream",
     "text": [
      "Epoch 215 tr: l 0.960 a 0.671 clct[np.int64(48), np.int64(52)] clct_ans[np.int64(48), np.int64(52)]  lr 0.244682 47.466sec(train) 22.277sec(infer)\n"
     ]
    },
    {
     "name": "stdout",
     "output_type": "stream",
     "text": [
      "Epoch 215 tst: l 0.880 a 0.701 clct[np.int64(20), np.int64(20)] clct_ans[np.int64(20), np.int64(20)]  3.900sec\n"
     ]
    },
    {
     "name": "stdout",
     "output_type": "stream",
     "text": [
      "Epoch 216 tr: l 0.961 a 0.674 clct[np.int64(53), np.int64(47)] clct_ans[np.int64(53), np.int64(47)]  lr 0.244658 50.915sec(train) 22.249sec(infer)\n"
     ]
    },
    {
     "name": "stdout",
     "output_type": "stream",
     "text": [
      "Epoch 216 tst: l 0.877 a 0.701 clct[np.int64(20), np.int64(20)] clct_ans[np.int64(20), np.int64(20)]  3.688sec\n"
     ]
    },
    {
     "name": "stdout",
     "output_type": "stream",
     "text": [
      "Epoch 217 tr: l 0.956 a 0.673 clct[np.int64(45), np.int64(55)] clct_ans[np.int64(45), np.int64(55)]  lr 0.244633 49.050sec(train) 23.025sec(infer)\n"
     ]
    },
    {
     "name": "stdout",
     "output_type": "stream",
     "text": [
      "Epoch 217 tst: l 0.879 a 0.701 clct[np.int64(20), np.int64(20)] clct_ans[np.int64(20), np.int64(20)]  4.160sec\n"
     ]
    },
    {
     "name": "stdout",
     "output_type": "stream",
     "text": [
      "Epoch 218 tr: l 0.962 a 0.673 clct[np.int64(54), np.int64(46)] clct_ans[np.int64(54), np.int64(46)]  lr 0.244609 49.770sec(train) 22.124sec(infer)\n"
     ]
    },
    {
     "name": "stdout",
     "output_type": "stream",
     "text": [
      "Epoch 218 tst: l 0.879 a 0.702 clct[np.int64(20), np.int64(20)] clct_ans[np.int64(20), np.int64(20)]  3.777sec\n"
     ]
    },
    {
     "name": "stdout",
     "output_type": "stream",
     "text": [
      "Epoch 219 tr: l 0.952 a 0.675 clct[np.int64(49), np.int64(51)] clct_ans[np.int64(49), np.int64(51)]  lr 0.244584 49.731sec(train) 22.645sec(infer)\n"
     ]
    },
    {
     "name": "stdout",
     "output_type": "stream",
     "text": [
      "Epoch 219 tst: l 0.881 a 0.701 clct[np.int64(20), np.int64(20)] clct_ans[np.int64(20), np.int64(20)]  3.950sec\n"
     ]
    },
    {
     "name": "stdout",
     "output_type": "stream",
     "text": [
      "Epoch 220 tr: l 0.951 a 0.675 clct[np.int64(51), np.int64(49)] clct_ans[np.int64(51), np.int64(49)]  lr 0.244560 47.923sec(train) 22.450sec(infer)\n"
     ]
    },
    {
     "name": "stdout",
     "output_type": "stream",
     "text": [
      "Epoch 220 tst: l 0.877 a 0.701 clct[np.int64(20), np.int64(20)] clct_ans[np.int64(20), np.int64(20)]  4.148sec\n",
      "result written at output_dfca_gi/results.pickle\n",
      "checkpoint written at output_dfca_gi/checkpoint.pt\n"
     ]
    },
    {
     "name": "stdout",
     "output_type": "stream",
     "text": [
      "Epoch 221 tr: l 0.964 a 0.672 clct[np.int64(51), np.int64(49)] clct_ans[np.int64(51), np.int64(49)]  lr 0.244535 50.813sec(train) 22.170sec(infer)\n"
     ]
    },
    {
     "name": "stdout",
     "output_type": "stream",
     "text": [
      "Epoch 221 tst: l 0.878 a 0.702 clct[np.int64(20), np.int64(20)] clct_ans[np.int64(20), np.int64(20)]  3.707sec\n"
     ]
    },
    {
     "name": "stdout",
     "output_type": "stream",
     "text": [
      "Epoch 222 tr: l 0.965 a 0.668 clct[np.int64(45), np.int64(55)] clct_ans[np.int64(45), np.int64(55)]  lr 0.244511 48.797sec(train) 23.039sec(infer)\n"
     ]
    },
    {
     "name": "stdout",
     "output_type": "stream",
     "text": [
      "Epoch 222 tst: l 0.879 a 0.701 clct[np.int64(20), np.int64(20)] clct_ans[np.int64(20), np.int64(20)]  3.910sec\n"
     ]
    },
    {
     "name": "stdout",
     "output_type": "stream",
     "text": [
      "Epoch 223 tr: l 0.958 a 0.672 clct[np.int64(45), np.int64(55)] clct_ans[np.int64(45), np.int64(55)]  lr 0.244486 46.042sec(train) 22.178sec(infer)\n"
     ]
    },
    {
     "name": "stdout",
     "output_type": "stream",
     "text": [
      "Epoch 223 tst: l 0.876 a 0.702 clct[np.int64(20), np.int64(20)] clct_ans[np.int64(20), np.int64(20)]  3.815sec\n"
     ]
    },
    {
     "name": "stdout",
     "output_type": "stream",
     "text": [
      "Epoch 224 tr: l 0.950 a 0.675 clct[np.int64(51), np.int64(49)] clct_ans[np.int64(51), np.int64(49)]  lr 0.244462 49.880sec(train) 22.379sec(infer)\n"
     ]
    },
    {
     "name": "stdout",
     "output_type": "stream",
     "text": [
      "Epoch 224 tst: l 0.878 a 0.704 clct[np.int64(20), np.int64(20)] clct_ans[np.int64(20), np.int64(20)]  3.863sec\n"
     ]
    },
    {
     "name": "stdout",
     "output_type": "stream",
     "text": [
      "Epoch 225 tr: l 0.954 a 0.673 clct[np.int64(55), np.int64(45)] clct_ans[np.int64(55), np.int64(45)]  lr 0.244438 47.699sec(train) 22.514sec(infer)\n"
     ]
    },
    {
     "name": "stdout",
     "output_type": "stream",
     "text": [
      "Epoch 225 tst: l 0.878 a 0.704 clct[np.int64(20), np.int64(20)] clct_ans[np.int64(20), np.int64(20)]  4.187sec\n"
     ]
    },
    {
     "name": "stdout",
     "output_type": "stream",
     "text": [
      "Epoch 226 tr: l 0.961 a 0.671 clct[np.int64(51), np.int64(49)] clct_ans[np.int64(51), np.int64(49)]  lr 0.244413 51.044sec(train) 22.193sec(infer)\n"
     ]
    },
    {
     "name": "stdout",
     "output_type": "stream",
     "text": [
      "Epoch 226 tst: l 0.880 a 0.703 clct[np.int64(20), np.int64(20)] clct_ans[np.int64(20), np.int64(20)]  3.797sec\n"
     ]
    },
    {
     "name": "stdout",
     "output_type": "stream",
     "text": [
      "Epoch 227 tr: l 0.952 a 0.673 clct[np.int64(49), np.int64(51)] clct_ans[np.int64(49), np.int64(51)]  lr 0.244389 49.148sec(train) 22.972sec(infer)\n"
     ]
    },
    {
     "name": "stdout",
     "output_type": "stream",
     "text": [
      "Epoch 227 tst: l 0.878 a 0.703 clct[np.int64(20), np.int64(20)] clct_ans[np.int64(20), np.int64(20)]  3.684sec\n"
     ]
    },
    {
     "name": "stdout",
     "output_type": "stream",
     "text": [
      "Epoch 228 tr: l 0.963 a 0.671 clct[np.int64(47), np.int64(53)] clct_ans[np.int64(47), np.int64(53)]  lr 0.244364 49.138sec(train) 22.250sec(infer)\n"
     ]
    },
    {
     "name": "stdout",
     "output_type": "stream",
     "text": [
      "Epoch 228 tst: l 0.878 a 0.701 clct[np.int64(20), np.int64(20)] clct_ans[np.int64(20), np.int64(20)]  3.698sec\n"
     ]
    },
    {
     "name": "stdout",
     "output_type": "stream",
     "text": [
      "Epoch 229 tr: l 0.952 a 0.673 clct[np.int64(49), np.int64(51)] clct_ans[np.int64(49), np.int64(51)]  lr 0.244340 50.998sec(train) 22.101sec(infer)\n"
     ]
    },
    {
     "name": "stdout",
     "output_type": "stream",
     "text": [
      "Epoch 229 tst: l 0.875 a 0.701 clct[np.int64(20), np.int64(20)] clct_ans[np.int64(20), np.int64(20)]  3.876sec\n"
     ]
    },
    {
     "name": "stdout",
     "output_type": "stream",
     "text": [
      "Epoch 230 tr: l 0.959 a 0.672 clct[np.int64(44), np.int64(56)] clct_ans[np.int64(44), np.int64(56)]  lr 0.244315 48.520sec(train) 22.538sec(infer)\n"
     ]
    },
    {
     "name": "stdout",
     "output_type": "stream",
     "text": [
      "Epoch 230 tst: l 0.879 a 0.701 clct[np.int64(20), np.int64(20)] clct_ans[np.int64(20), np.int64(20)]  3.985sec\n",
      "result written at output_dfca_gi/results.pickle\n",
      "checkpoint written at output_dfca_gi/checkpoint.pt\n"
     ]
    },
    {
     "name": "stdout",
     "output_type": "stream",
     "text": [
      "Epoch 231 tr: l 0.953 a 0.674 clct[np.int64(56), np.int64(44)] clct_ans[np.int64(56), np.int64(44)]  lr 0.244291 50.845sec(train) 22.349sec(infer)\n"
     ]
    },
    {
     "name": "stdout",
     "output_type": "stream",
     "text": [
      "Epoch 231 tst: l 0.876 a 0.700 clct[np.int64(20), np.int64(20)] clct_ans[np.int64(20), np.int64(20)]  4.042sec\n"
     ]
    },
    {
     "name": "stdout",
     "output_type": "stream",
     "text": [
      "Epoch 232 tr: l 0.954 a 0.672 clct[np.int64(48), np.int64(52)] clct_ans[np.int64(48), np.int64(52)]  lr 0.244266 48.997sec(train) 22.605sec(infer)\n"
     ]
    },
    {
     "name": "stdout",
     "output_type": "stream",
     "text": [
      "Epoch 232 tst: l 0.878 a 0.700 clct[np.int64(20), np.int64(20)] clct_ans[np.int64(20), np.int64(20)]  3.769sec\n"
     ]
    },
    {
     "name": "stdout",
     "output_type": "stream",
     "text": [
      "Epoch 233 tr: l 0.955 a 0.674 clct[np.int64(48), np.int64(52)] clct_ans[np.int64(48), np.int64(52)]  lr 0.244242 48.600sec(train) 22.186sec(infer)\n"
     ]
    },
    {
     "name": "stdout",
     "output_type": "stream",
     "text": [
      "Epoch 233 tst: l 0.877 a 0.703 clct[np.int64(20), np.int64(20)] clct_ans[np.int64(20), np.int64(20)]  3.929sec\n"
     ]
    },
    {
     "name": "stdout",
     "output_type": "stream",
     "text": [
      "Epoch 234 tr: l 0.955 a 0.672 clct[np.int64(53), np.int64(47)] clct_ans[np.int64(53), np.int64(47)]  lr 0.244218 50.572sec(train) 22.027sec(infer)\n"
     ]
    },
    {
     "name": "stdout",
     "output_type": "stream",
     "text": [
      "Epoch 234 tst: l 0.879 a 0.703 clct[np.int64(20), np.int64(20)] clct_ans[np.int64(20), np.int64(20)]  3.797sec\n"
     ]
    },
    {
     "name": "stdout",
     "output_type": "stream",
     "text": [
      "Epoch 235 tr: l 0.961 a 0.670 clct[np.int64(52), np.int64(48)] clct_ans[np.int64(52), np.int64(48)]  lr 0.244193 48.980sec(train) 22.740sec(infer)\n"
     ]
    },
    {
     "name": "stdout",
     "output_type": "stream",
     "text": [
      "Epoch 235 tst: l 0.878 a 0.703 clct[np.int64(20), np.int64(20)] clct_ans[np.int64(20), np.int64(20)]  4.498sec\n"
     ]
    },
    {
     "name": "stdout",
     "output_type": "stream",
     "text": [
      "Epoch 236 tr: l 0.957 a 0.674 clct[np.int64(51), np.int64(49)] clct_ans[np.int64(51), np.int64(49)]  lr 0.244169 50.179sec(train) 22.188sec(infer)\n"
     ]
    },
    {
     "name": "stdout",
     "output_type": "stream",
     "text": [
      "Epoch 236 tst: l 0.876 a 0.703 clct[np.int64(20), np.int64(20)] clct_ans[np.int64(20), np.int64(20)]  3.957sec\n"
     ]
    },
    {
     "name": "stdout",
     "output_type": "stream",
     "text": [
      "Epoch 237 tr: l 0.956 a 0.673 clct[np.int64(52), np.int64(48)] clct_ans[np.int64(52), np.int64(48)]  lr 0.244144 49.617sec(train) 22.409sec(infer)\n"
     ]
    },
    {
     "name": "stdout",
     "output_type": "stream",
     "text": [
      "Epoch 237 tst: l 0.872 a 0.705 clct[np.int64(20), np.int64(20)] clct_ans[np.int64(20), np.int64(20)]  3.787sec\n"
     ]
    },
    {
     "name": "stdout",
     "output_type": "stream",
     "text": [
      "Epoch 238 tr: l 0.954 a 0.674 clct[np.int64(46), np.int64(54)] clct_ans[np.int64(46), np.int64(54)]  lr 0.244120 49.182sec(train) 22.234sec(infer)\n"
     ]
    },
    {
     "name": "stdout",
     "output_type": "stream",
     "text": [
      "Epoch 238 tst: l 0.876 a 0.704 clct[np.int64(20), np.int64(20)] clct_ans[np.int64(20), np.int64(20)]  4.145sec\n"
     ]
    },
    {
     "name": "stdout",
     "output_type": "stream",
     "text": [
      "Epoch 239 tr: l 0.952 a 0.672 clct[np.int64(45), np.int64(55)] clct_ans[np.int64(45), np.int64(55)]  lr 0.244096 51.336sec(train) 21.954sec(infer)\n"
     ]
    },
    {
     "name": "stdout",
     "output_type": "stream",
     "text": [
      "Epoch 239 tst: l 0.875 a 0.702 clct[np.int64(20), np.int64(20)] clct_ans[np.int64(20), np.int64(20)]  3.813sec\n"
     ]
    },
    {
     "name": "stdout",
     "output_type": "stream",
     "text": [
      "Epoch 240 tr: l 0.941 a 0.679 clct[np.int64(51), np.int64(49)] clct_ans[np.int64(51), np.int64(49)]  lr 0.244071 49.473sec(train) 23.168sec(infer)\n"
     ]
    },
    {
     "name": "stdout",
     "output_type": "stream",
     "text": [
      "Epoch 240 tst: l 0.872 a 0.705 clct[np.int64(20), np.int64(20)] clct_ans[np.int64(20), np.int64(20)]  3.823sec\n",
      "result written at output_dfca_gi/results.pickle\n",
      "checkpoint written at output_dfca_gi/checkpoint.pt\n"
     ]
    },
    {
     "name": "stdout",
     "output_type": "stream",
     "text": [
      "Epoch 241 tr: l 0.954 a 0.675 clct[np.int64(51), np.int64(49)] clct_ans[np.int64(51), np.int64(49)]  lr 0.244047 48.922sec(train) 22.067sec(infer)\n"
     ]
    },
    {
     "name": "stdout",
     "output_type": "stream",
     "text": [
      "Epoch 241 tst: l 0.876 a 0.703 clct[np.int64(20), np.int64(20)] clct_ans[np.int64(20), np.int64(20)]  3.960sec\n"
     ]
    },
    {
     "name": "stdout",
     "output_type": "stream",
     "text": [
      "Epoch 242 tr: l 0.953 a 0.673 clct[np.int64(56), np.int64(44)] clct_ans[np.int64(56), np.int64(44)]  lr 0.244022 51.010sec(train) 21.883sec(infer)\n"
     ]
    },
    {
     "name": "stdout",
     "output_type": "stream",
     "text": [
      "Epoch 242 tst: l 0.877 a 0.703 clct[np.int64(20), np.int64(20)] clct_ans[np.int64(20), np.int64(20)]  3.657sec\n"
     ]
    },
    {
     "name": "stdout",
     "output_type": "stream",
     "text": [
      "Epoch 243 tr: l 0.952 a 0.674 clct[np.int64(45), np.int64(55)] clct_ans[np.int64(45), np.int64(55)]  lr 0.243998 48.873sec(train) 22.689sec(infer)\n"
     ]
    },
    {
     "name": "stdout",
     "output_type": "stream",
     "text": [
      "Epoch 243 tst: l 0.875 a 0.703 clct[np.int64(20), np.int64(20)] clct_ans[np.int64(20), np.int64(20)]  4.019sec\n"
     ]
    },
    {
     "name": "stdout",
     "output_type": "stream",
     "text": [
      "Epoch 244 tr: l 0.955 a 0.674 clct[np.int64(48), np.int64(52)] clct_ans[np.int64(48), np.int64(52)]  lr 0.243974 50.005sec(train) 21.814sec(infer)\n"
     ]
    },
    {
     "name": "stdout",
     "output_type": "stream",
     "text": [
      "Epoch 244 tst: l 0.875 a 0.701 clct[np.int64(20), np.int64(20)] clct_ans[np.int64(20), np.int64(20)]  3.770sec\n"
     ]
    },
    {
     "name": "stdout",
     "output_type": "stream",
     "text": [
      "Epoch 245 tr: l 0.957 a 0.674 clct[np.int64(54), np.int64(46)] clct_ans[np.int64(54), np.int64(46)]  lr 0.243949 50.224sec(train) 22.974sec(infer)\n"
     ]
    },
    {
     "name": "stdout",
     "output_type": "stream",
     "text": [
      "Epoch 245 tst: l 0.877 a 0.702 clct[np.int64(20), np.int64(20)] clct_ans[np.int64(20), np.int64(20)]  3.602sec\n"
     ]
    },
    {
     "name": "stdout",
     "output_type": "stream",
     "text": [
      "Epoch 246 tr: l 0.947 a 0.676 clct[np.int64(51), np.int64(49)] clct_ans[np.int64(51), np.int64(49)]  lr 0.243925 48.308sec(train) 22.299sec(infer)\n"
     ]
    },
    {
     "name": "stdout",
     "output_type": "stream",
     "text": [
      "Epoch 246 tst: l 0.871 a 0.704 clct[np.int64(20), np.int64(20)] clct_ans[np.int64(20), np.int64(20)]  4.037sec\n"
     ]
    },
    {
     "name": "stdout",
     "output_type": "stream",
     "text": [
      "Epoch 247 tr: l 0.947 a 0.677 clct[np.int64(56), np.int64(44)] clct_ans[np.int64(56), np.int64(44)]  lr 0.243900 51.367sec(train) 21.945sec(infer)\n"
     ]
    },
    {
     "name": "stdout",
     "output_type": "stream",
     "text": [
      "Epoch 247 tst: l 0.873 a 0.703 clct[np.int64(20), np.int64(20)] clct_ans[np.int64(20), np.int64(20)]  3.697sec\n"
     ]
    },
    {
     "name": "stdout",
     "output_type": "stream",
     "text": [
      "Epoch 248 tr: l 0.952 a 0.677 clct[np.int64(51), np.int64(49)] clct_ans[np.int64(51), np.int64(49)]  lr 0.243876 50.407sec(train) 23.279sec(infer)\n"
     ]
    },
    {
     "name": "stdout",
     "output_type": "stream",
     "text": [
      "Epoch 248 tst: l 0.873 a 0.702 clct[np.int64(20), np.int64(20)] clct_ans[np.int64(20), np.int64(20)]  4.095sec\n"
     ]
    },
    {
     "name": "stdout",
     "output_type": "stream",
     "text": [
      "Epoch 249 tr: l 0.947 a 0.678 clct[np.int64(56), np.int64(44)] clct_ans[np.int64(56), np.int64(44)]  lr 0.243852 47.771sec(train) 22.088sec(infer)\n"
     ]
    },
    {
     "name": "stdout",
     "output_type": "stream",
     "text": [
      "Epoch 249 tst: l 0.874 a 0.703 clct[np.int64(20), np.int64(20)] clct_ans[np.int64(20), np.int64(20)]  3.746sec\n"
     ]
    },
    {
     "name": "stdout",
     "output_type": "stream",
     "text": [
      "Epoch 250 tr: l 0.952 a 0.674 clct[np.int64(52), np.int64(48)] clct_ans[np.int64(52), np.int64(48)]  lr 0.243827 53.081sec(train) 22.004sec(infer)\n"
     ]
    },
    {
     "name": "stdout",
     "output_type": "stream",
     "text": [
      "Epoch 250 tst: l 0.875 a 0.702 clct[np.int64(20), np.int64(20)] clct_ans[np.int64(20), np.int64(20)]  3.651sec\n",
      "result written at output_dfca_gi/results.pickle\n",
      "checkpoint written at output_dfca_gi/checkpoint.pt\n"
     ]
    },
    {
     "name": "stdout",
     "output_type": "stream",
     "text": [
      "Epoch 251 tr: l 0.956 a 0.674 clct[np.int64(58), np.int64(42)] clct_ans[np.int64(58), np.int64(42)]  lr 0.243803 47.956sec(train) 22.823sec(infer)\n"
     ]
    },
    {
     "name": "stdout",
     "output_type": "stream",
     "text": [
      "Epoch 251 tst: l 0.875 a 0.703 clct[np.int64(20), np.int64(20)] clct_ans[np.int64(20), np.int64(20)]  3.929sec\n"
     ]
    },
    {
     "name": "stdout",
     "output_type": "stream",
     "text": [
      "Epoch 252 tr: l 0.949 a 0.675 clct[np.int64(46), np.int64(54)] clct_ans[np.int64(46), np.int64(54)]  lr 0.243778 50.079sec(train) 22.021sec(infer)\n"
     ]
    },
    {
     "name": "stdout",
     "output_type": "stream",
     "text": [
      "Epoch 252 tst: l 0.874 a 0.702 clct[np.int64(20), np.int64(20)] clct_ans[np.int64(20), np.int64(20)]  3.668sec\n"
     ]
    },
    {
     "name": "stdout",
     "output_type": "stream",
     "text": [
      "Epoch 253 tr: l 0.955 a 0.672 clct[np.int64(55), np.int64(45)] clct_ans[np.int64(55), np.int64(45)]  lr 0.243754 51.280sec(train) 22.752sec(infer)\n"
     ]
    },
    {
     "name": "stdout",
     "output_type": "stream",
     "text": [
      "Epoch 253 tst: l 0.878 a 0.702 clct[np.int64(20), np.int64(20)] clct_ans[np.int64(20), np.int64(20)]  3.668sec\n"
     ]
    },
    {
     "name": "stdout",
     "output_type": "stream",
     "text": [
      "Epoch 254 tr: l 0.950 a 0.676 clct[np.int64(50), np.int64(50)] clct_ans[np.int64(50), np.int64(50)]  lr 0.243730 48.640sec(train) 22.602sec(infer)\n"
     ]
    },
    {
     "name": "stdout",
     "output_type": "stream",
     "text": [
      "Epoch 254 tst: l 0.871 a 0.703 clct[np.int64(20), np.int64(20)] clct_ans[np.int64(20), np.int64(20)]  3.979sec\n"
     ]
    },
    {
     "name": "stdout",
     "output_type": "stream",
     "text": [
      "Epoch 255 tr: l 0.951 a 0.677 clct[np.int64(48), np.int64(52)] clct_ans[np.int64(48), np.int64(52)]  lr 0.243705 52.616sec(train) 21.987sec(infer)\n"
     ]
    },
    {
     "name": "stdout",
     "output_type": "stream",
     "text": [
      "Epoch 255 tst: l 0.874 a 0.702 clct[np.int64(20), np.int64(20)] clct_ans[np.int64(20), np.int64(20)]  3.648sec\n"
     ]
    },
    {
     "name": "stdout",
     "output_type": "stream",
     "text": [
      "Epoch 256 tr: l 0.941 a 0.679 clct[np.int64(46), np.int64(54)] clct_ans[np.int64(46), np.int64(54)]  lr 0.243681 49.473sec(train) 23.291sec(infer)\n"
     ]
    },
    {
     "name": "stdout",
     "output_type": "stream",
     "text": [
      "Epoch 256 tst: l 0.875 a 0.703 clct[np.int64(20), np.int64(20)] clct_ans[np.int64(20), np.int64(20)]  3.594sec\n"
     ]
    },
    {
     "name": "stdout",
     "output_type": "stream",
     "text": [
      "Epoch 257 tr: l 0.952 a 0.677 clct[np.int64(49), np.int64(51)] clct_ans[np.int64(49), np.int64(51)]  lr 0.243657 49.266sec(train) 22.027sec(infer)\n"
     ]
    },
    {
     "name": "stdout",
     "output_type": "stream",
     "text": [
      "Epoch 257 tst: l 0.875 a 0.704 clct[np.int64(20), np.int64(20)] clct_ans[np.int64(20), np.int64(20)]  3.601sec\n"
     ]
    },
    {
     "name": "stdout",
     "output_type": "stream",
     "text": [
      "Epoch 258 tr: l 0.951 a 0.675 clct[np.int64(51), np.int64(49)] clct_ans[np.int64(51), np.int64(49)]  lr 0.243632 52.899sec(train) 22.209sec(infer)\n"
     ]
    },
    {
     "name": "stdout",
     "output_type": "stream",
     "text": [
      "Epoch 258 tst: l 0.872 a 0.704 clct[np.int64(20), np.int64(20)] clct_ans[np.int64(20), np.int64(20)]  3.605sec\n"
     ]
    },
    {
     "name": "stdout",
     "output_type": "stream",
     "text": [
      "Epoch 259 tr: l 0.956 a 0.672 clct[np.int64(53), np.int64(47)] clct_ans[np.int64(53), np.int64(47)]  lr 0.243608 47.271sec(train) 22.758sec(infer)\n"
     ]
    },
    {
     "name": "stdout",
     "output_type": "stream",
     "text": [
      "Epoch 259 tst: l 0.875 a 0.703 clct[np.int64(20), np.int64(20)] clct_ans[np.int64(20), np.int64(20)]  4.165sec\n"
     ]
    },
    {
     "name": "stdout",
     "output_type": "stream",
     "text": [
      "Epoch 260 tr: l 0.956 a 0.672 clct[np.int64(54), np.int64(46)] clct_ans[np.int64(54), np.int64(46)]  lr 0.243583 48.889sec(train) 22.019sec(infer)\n"
     ]
    },
    {
     "name": "stdout",
     "output_type": "stream",
     "text": [
      "Epoch 260 tst: l 0.871 a 0.704 clct[np.int64(20), np.int64(20)] clct_ans[np.int64(20), np.int64(20)]  3.656sec\n",
      "result written at output_dfca_gi/results.pickle\n",
      "checkpoint written at output_dfca_gi/checkpoint.pt\n"
     ]
    },
    {
     "name": "stdout",
     "output_type": "stream",
     "text": [
      "Epoch 261 tr: l 0.958 a 0.674 clct[np.int64(52), np.int64(48)] clct_ans[np.int64(52), np.int64(48)]  lr 0.243559 50.314sec(train) 22.297sec(infer)\n"
     ]
    },
    {
     "name": "stdout",
     "output_type": "stream",
     "text": [
      "Epoch 261 tst: l 0.873 a 0.703 clct[np.int64(20), np.int64(20)] clct_ans[np.int64(20), np.int64(20)]  3.601sec\n"
     ]
    },
    {
     "name": "stdout",
     "output_type": "stream",
     "text": [
      "Epoch 262 tr: l 0.948 a 0.677 clct[np.int64(52), np.int64(48)] clct_ans[np.int64(52), np.int64(48)]  lr 0.243535 47.767sec(train) 22.467sec(infer)\n"
     ]
    },
    {
     "name": "stdout",
     "output_type": "stream",
     "text": [
      "Epoch 262 tst: l 0.866 a 0.705 clct[np.int64(20), np.int64(20)] clct_ans[np.int64(20), np.int64(20)]  3.864sec\n"
     ]
    },
    {
     "name": "stdout",
     "output_type": "stream",
     "text": [
      "Epoch 263 tr: l 0.954 a 0.672 clct[np.int64(47), np.int64(53)] clct_ans[np.int64(47), np.int64(53)]  lr 0.243510 48.757sec(train) 21.989sec(infer)\n"
     ]
    },
    {
     "name": "stdout",
     "output_type": "stream",
     "text": [
      "Epoch 263 tst: l 0.870 a 0.704 clct[np.int64(20), np.int64(20)] clct_ans[np.int64(20), np.int64(20)]  3.735sec\n"
     ]
    },
    {
     "name": "stdout",
     "output_type": "stream",
     "text": [
      "Epoch 264 tr: l 0.949 a 0.676 clct[np.int64(50), np.int64(50)] clct_ans[np.int64(50), np.int64(50)]  lr 0.243486 50.064sec(train) 22.795sec(infer)\n"
     ]
    },
    {
     "name": "stdout",
     "output_type": "stream",
     "text": [
      "Epoch 264 tst: l 0.871 a 0.704 clct[np.int64(20), np.int64(20)] clct_ans[np.int64(20), np.int64(20)]  3.524sec\n"
     ]
    },
    {
     "name": "stdout",
     "output_type": "stream",
     "text": [
      "Epoch 265 tr: l 0.956 a 0.673 clct[np.int64(58), np.int64(42)] clct_ans[np.int64(58), np.int64(42)]  lr 0.243462 46.656sec(train) 22.747sec(infer)\n"
     ]
    },
    {
     "name": "stdout",
     "output_type": "stream",
     "text": [
      "Epoch 265 tst: l 0.873 a 0.703 clct[np.int64(20), np.int64(20)] clct_ans[np.int64(20), np.int64(20)]  3.818sec\n"
     ]
    },
    {
     "name": "stdout",
     "output_type": "stream",
     "text": [
      "Epoch 266 tr: l 0.949 a 0.674 clct[np.int64(50), np.int64(50)] clct_ans[np.int64(50), np.int64(50)]  lr 0.243437 49.640sec(train) 22.154sec(infer)\n"
     ]
    },
    {
     "name": "stdout",
     "output_type": "stream",
     "text": [
      "Epoch 266 tst: l 0.872 a 0.703 clct[np.int64(20), np.int64(20)] clct_ans[np.int64(20), np.int64(20)]  3.603sec\n"
     ]
    },
    {
     "name": "stdout",
     "output_type": "stream",
     "text": [
      "Epoch 267 tr: l 0.952 a 0.675 clct[np.int64(47), np.int64(53)] clct_ans[np.int64(47), np.int64(53)]  lr 0.243413 48.727sec(train) 22.730sec(infer)\n"
     ]
    },
    {
     "name": "stdout",
     "output_type": "stream",
     "text": [
      "Epoch 267 tst: l 0.870 a 0.704 clct[np.int64(20), np.int64(20)] clct_ans[np.int64(20), np.int64(20)]  4.095sec\n"
     ]
    },
    {
     "name": "stdout",
     "output_type": "stream",
     "text": [
      "Epoch 268 tr: l 0.954 a 0.674 clct[np.int64(53), np.int64(47)] clct_ans[np.int64(53), np.int64(47)]  lr 0.243389 47.823sec(train) 22.790sec(infer)\n"
     ]
    },
    {
     "name": "stdout",
     "output_type": "stream",
     "text": [
      "Epoch 268 tst: l 0.872 a 0.703 clct[np.int64(20), np.int64(20)] clct_ans[np.int64(20), np.int64(20)]  3.847sec\n"
     ]
    },
    {
     "name": "stdout",
     "output_type": "stream",
     "text": [
      "Epoch 269 tr: l 0.954 a 0.674 clct[np.int64(47), np.int64(53)] clct_ans[np.int64(47), np.int64(53)]  lr 0.243364 50.085sec(train) 21.639sec(infer)\n"
     ]
    },
    {
     "name": "stdout",
     "output_type": "stream",
     "text": [
      "Epoch 269 tst: l 0.875 a 0.703 clct[np.int64(20), np.int64(20)] clct_ans[np.int64(20), np.int64(20)]  3.442sec\n"
     ]
    },
    {
     "name": "stdout",
     "output_type": "stream",
     "text": [
      "Epoch 270 tr: l 0.945 a 0.678 clct[np.int64(47), np.int64(53)] clct_ans[np.int64(47), np.int64(53)]  lr 0.243340 49.297sec(train) 21.954sec(infer)\n"
     ]
    },
    {
     "name": "stdout",
     "output_type": "stream",
     "text": [
      "Epoch 270 tst: l 0.873 a 0.703 clct[np.int64(20), np.int64(20)] clct_ans[np.int64(20), np.int64(20)]  3.478sec\n",
      "result written at output_dfca_gi/results.pickle\n",
      "checkpoint written at output_dfca_gi/checkpoint.pt\n"
     ]
    },
    {
     "name": "stdout",
     "output_type": "stream",
     "text": [
      "Epoch 271 tr: l 0.949 a 0.676 clct[np.int64(52), np.int64(48)] clct_ans[np.int64(52), np.int64(48)]  lr 0.243316 49.103sec(train) 21.559sec(infer)\n"
     ]
    },
    {
     "name": "stdout",
     "output_type": "stream",
     "text": [
      "Epoch 271 tst: l 0.869 a 0.705 clct[np.int64(20), np.int64(20)] clct_ans[np.int64(20), np.int64(20)]  3.512sec\n"
     ]
    },
    {
     "name": "stdout",
     "output_type": "stream",
     "text": [
      "Epoch 272 tr: l 0.952 a 0.676 clct[np.int64(51), np.int64(49)] clct_ans[np.int64(51), np.int64(49)]  lr 0.243291 48.902sec(train) 21.630sec(infer)\n"
     ]
    },
    {
     "name": "stdout",
     "output_type": "stream",
     "text": [
      "Epoch 272 tst: l 0.875 a 0.704 clct[np.int64(20), np.int64(20)] clct_ans[np.int64(20), np.int64(20)]  3.524sec\n"
     ]
    },
    {
     "name": "stdout",
     "output_type": "stream",
     "text": [
      "Epoch 273 tr: l 0.943 a 0.677 clct[np.int64(48), np.int64(52)] clct_ans[np.int64(48), np.int64(52)]  lr 0.243267 47.233sec(train) 22.144sec(infer)\n"
     ]
    },
    {
     "name": "stdout",
     "output_type": "stream",
     "text": [
      "Epoch 273 tst: l 0.870 a 0.703 clct[np.int64(20), np.int64(20)] clct_ans[np.int64(20), np.int64(20)]  3.511sec\n"
     ]
    },
    {
     "name": "stdout",
     "output_type": "stream",
     "text": [
      "Epoch 274 tr: l 0.953 a 0.674 clct[np.int64(47), np.int64(53)] clct_ans[np.int64(47), np.int64(53)]  lr 0.243243 49.021sec(train) 22.690sec(infer)\n"
     ]
    },
    {
     "name": "stdout",
     "output_type": "stream",
     "text": [
      "Epoch 274 tst: l 0.873 a 0.704 clct[np.int64(20), np.int64(20)] clct_ans[np.int64(20), np.int64(20)]  3.716sec\n"
     ]
    },
    {
     "name": "stdout",
     "output_type": "stream",
     "text": [
      "Epoch 275 tr: l 0.949 a 0.676 clct[np.int64(51), np.int64(49)] clct_ans[np.int64(51), np.int64(49)]  lr 0.243218 48.711sec(train) 22.533sec(infer)\n"
     ]
    },
    {
     "name": "stdout",
     "output_type": "stream",
     "text": [
      "Epoch 275 tst: l 0.872 a 0.704 clct[np.int64(20), np.int64(20)] clct_ans[np.int64(20), np.int64(20)]  3.922sec\n"
     ]
    },
    {
     "name": "stdout",
     "output_type": "stream",
     "text": [
      "Epoch 276 tr: l 0.949 a 0.675 clct[np.int64(47), np.int64(53)] clct_ans[np.int64(47), np.int64(53)]  lr 0.243194 46.137sec(train) 21.847sec(infer)\n"
     ]
    },
    {
     "name": "stdout",
     "output_type": "stream",
     "text": [
      "Epoch 276 tst: l 0.871 a 0.703 clct[np.int64(20), np.int64(20)] clct_ans[np.int64(20), np.int64(20)]  3.817sec\n"
     ]
    },
    {
     "name": "stdout",
     "output_type": "stream",
     "text": [
      "Epoch 277 tr: l 0.954 a 0.675 clct[np.int64(50), np.int64(50)] clct_ans[np.int64(50), np.int64(50)]  lr 0.243170 47.337sec(train) 21.623sec(infer)\n"
     ]
    },
    {
     "name": "stdout",
     "output_type": "stream",
     "text": [
      "Epoch 277 tst: l 0.871 a 0.704 clct[np.int64(20), np.int64(20)] clct_ans[np.int64(20), np.int64(20)]  3.643sec\n"
     ]
    },
    {
     "name": "stdout",
     "output_type": "stream",
     "text": [
      "Epoch 278 tr: l 0.943 a 0.678 clct[np.int64(50), np.int64(50)] clct_ans[np.int64(50), np.int64(50)]  lr 0.243145 48.067sec(train) 21.754sec(infer)\n"
     ]
    },
    {
     "name": "stdout",
     "output_type": "stream",
     "text": [
      "Epoch 278 tst: l 0.868 a 0.703 clct[np.int64(20), np.int64(20)] clct_ans[np.int64(20), np.int64(20)]  3.523sec\n"
     ]
    },
    {
     "name": "stdout",
     "output_type": "stream",
     "text": [
      "Epoch 279 tr: l 0.941 a 0.678 clct[np.int64(47), np.int64(53)] clct_ans[np.int64(47), np.int64(53)]  lr 0.243121 48.424sec(train) 21.833sec(infer)\n"
     ]
    },
    {
     "name": "stdout",
     "output_type": "stream",
     "text": [
      "Epoch 279 tst: l 0.870 a 0.704 clct[np.int64(20), np.int64(20)] clct_ans[np.int64(20), np.int64(20)]  3.667sec\n"
     ]
    },
    {
     "name": "stdout",
     "output_type": "stream",
     "text": [
      "Epoch 280 tr: l 0.945 a 0.677 clct[np.int64(48), np.int64(52)] clct_ans[np.int64(48), np.int64(52)]  lr 0.243097 47.559sec(train) 22.420sec(infer)\n"
     ]
    },
    {
     "name": "stdout",
     "output_type": "stream",
     "text": [
      "Epoch 280 tst: l 0.872 a 0.704 clct[np.int64(20), np.int64(20)] clct_ans[np.int64(20), np.int64(20)]  3.599sec\n",
      "result written at output_dfca_gi/results.pickle\n",
      "checkpoint written at output_dfca_gi/checkpoint.pt\n"
     ]
    },
    {
     "name": "stdout",
     "output_type": "stream",
     "text": [
      "Epoch 281 tr: l 0.952 a 0.676 clct[np.int64(56), np.int64(44)] clct_ans[np.int64(56), np.int64(44)]  lr 0.243072 46.705sec(train) 22.443sec(infer)\n"
     ]
    },
    {
     "name": "stdout",
     "output_type": "stream",
     "text": [
      "Epoch 281 tst: l 0.871 a 0.705 clct[np.int64(20), np.int64(20)] clct_ans[np.int64(20), np.int64(20)]  4.090sec\n"
     ]
    },
    {
     "name": "stdout",
     "output_type": "stream",
     "text": [
      "Epoch 282 tr: l 0.947 a 0.675 clct[np.int64(54), np.int64(46)] clct_ans[np.int64(54), np.int64(46)]  lr 0.243048 46.773sec(train) 21.842sec(infer)\n"
     ]
    },
    {
     "name": "stdout",
     "output_type": "stream",
     "text": [
      "Epoch 282 tst: l 0.870 a 0.704 clct[np.int64(20), np.int64(20)] clct_ans[np.int64(20), np.int64(20)]  3.881sec\n"
     ]
    },
    {
     "name": "stdout",
     "output_type": "stream",
     "text": [
      "Epoch 283 tr: l 0.953 a 0.677 clct[np.int64(49), np.int64(51)] clct_ans[np.int64(49), np.int64(51)]  lr 0.243024 47.238sec(train) 21.788sec(infer)\n"
     ]
    },
    {
     "name": "stdout",
     "output_type": "stream",
     "text": [
      "Epoch 283 tst: l 0.871 a 0.706 clct[np.int64(20), np.int64(20)] clct_ans[np.int64(20), np.int64(20)]  3.497sec\n"
     ]
    },
    {
     "name": "stdout",
     "output_type": "stream",
     "text": [
      "Epoch 284 tr: l 0.948 a 0.678 clct[np.int64(52), np.int64(48)] clct_ans[np.int64(52), np.int64(48)]  lr 0.243000 48.446sec(train) 21.619sec(infer)\n"
     ]
    },
    {
     "name": "stdout",
     "output_type": "stream",
     "text": [
      "Epoch 284 tst: l 0.868 a 0.706 clct[np.int64(20), np.int64(20)] clct_ans[np.int64(20), np.int64(20)]  3.638sec\n"
     ]
    },
    {
     "name": "stdout",
     "output_type": "stream",
     "text": [
      "Epoch 285 tr: l 0.941 a 0.678 clct[np.int64(50), np.int64(50)] clct_ans[np.int64(50), np.int64(50)]  lr 0.242975 48.066sec(train) 21.541sec(infer)\n"
     ]
    },
    {
     "name": "stdout",
     "output_type": "stream",
     "text": [
      "Epoch 285 tst: l 0.869 a 0.706 clct[np.int64(20), np.int64(20)] clct_ans[np.int64(20), np.int64(20)]  3.497sec\n"
     ]
    },
    {
     "name": "stdout",
     "output_type": "stream",
     "text": [
      "Epoch 286 tr: l 0.944 a 0.678 clct[np.int64(52), np.int64(48)] clct_ans[np.int64(52), np.int64(48)]  lr 0.242951 48.005sec(train) 22.151sec(infer)\n"
     ]
    },
    {
     "name": "stdout",
     "output_type": "stream",
     "text": [
      "Epoch 286 tst: l 0.870 a 0.705 clct[np.int64(20), np.int64(20)] clct_ans[np.int64(20), np.int64(20)]  3.517sec\n"
     ]
    },
    {
     "name": "stdout",
     "output_type": "stream",
     "text": [
      "Epoch 287 tr: l 0.948 a 0.678 clct[np.int64(45), np.int64(55)] clct_ans[np.int64(45), np.int64(55)]  lr 0.242927 49.303sec(train) 22.556sec(infer)\n"
     ]
    },
    {
     "name": "stdout",
     "output_type": "stream",
     "text": [
      "Epoch 287 tst: l 0.868 a 0.707 clct[np.int64(20), np.int64(20)] clct_ans[np.int64(20), np.int64(20)]  4.051sec\n"
     ]
    },
    {
     "name": "stdout",
     "output_type": "stream",
     "text": [
      "Epoch 288 tr: l 0.950 a 0.673 clct[np.int64(49), np.int64(51)] clct_ans[np.int64(49), np.int64(51)]  lr 0.242902 49.497sec(train) 22.344sec(infer)\n"
     ]
    },
    {
     "name": "stdout",
     "output_type": "stream",
     "text": [
      "Epoch 288 tst: l 0.869 a 0.705 clct[np.int64(20), np.int64(20)] clct_ans[np.int64(20), np.int64(20)]  3.701sec\n"
     ]
    },
    {
     "name": "stdout",
     "output_type": "stream",
     "text": [
      "Epoch 289 tr: l 0.943 a 0.679 clct[np.int64(53), np.int64(47)] clct_ans[np.int64(53), np.int64(47)]  lr 0.242878 49.407sec(train) 21.915sec(infer)\n"
     ]
    },
    {
     "name": "stdout",
     "output_type": "stream",
     "text": [
      "Epoch 289 tst: l 0.870 a 0.705 clct[np.int64(20), np.int64(20)] clct_ans[np.int64(20), np.int64(20)]  3.922sec\n"
     ]
    },
    {
     "name": "stdout",
     "output_type": "stream",
     "text": [
      "Epoch 290 tr: l 0.946 a 0.678 clct[np.int64(56), np.int64(44)] clct_ans[np.int64(56), np.int64(44)]  lr 0.242854 49.527sec(train) 21.730sec(infer)\n"
     ]
    },
    {
     "name": "stdout",
     "output_type": "stream",
     "text": [
      "Epoch 290 tst: l 0.870 a 0.705 clct[np.int64(20), np.int64(20)] clct_ans[np.int64(20), np.int64(20)]  3.618sec\n",
      "result written at output_dfca_gi/results.pickle\n",
      "checkpoint written at output_dfca_gi/checkpoint.pt\n"
     ]
    },
    {
     "name": "stdout",
     "output_type": "stream",
     "text": [
      "Epoch 291 tr: l 0.943 a 0.678 clct[np.int64(50), np.int64(50)] clct_ans[np.int64(50), np.int64(50)]  lr 0.242829 49.841sec(train) 21.603sec(infer)\n"
     ]
    },
    {
     "name": "stdout",
     "output_type": "stream",
     "text": [
      "Epoch 291 tst: l 0.867 a 0.706 clct[np.int64(20), np.int64(20)] clct_ans[np.int64(20), np.int64(20)]  3.483sec\n"
     ]
    },
    {
     "name": "stdout",
     "output_type": "stream",
     "text": [
      "Epoch 292 tr: l 0.949 a 0.676 clct[np.int64(49), np.int64(51)] clct_ans[np.int64(49), np.int64(51)]  lr 0.242805 49.607sec(train) 21.697sec(infer)\n"
     ]
    },
    {
     "name": "stdout",
     "output_type": "stream",
     "text": [
      "Epoch 292 tst: l 0.872 a 0.704 clct[np.int64(20), np.int64(20)] clct_ans[np.int64(20), np.int64(20)]  3.524sec\n"
     ]
    },
    {
     "name": "stdout",
     "output_type": "stream",
     "text": [
      "Epoch 293 tr: l 0.943 a 0.676 clct[np.int64(50), np.int64(50)] clct_ans[np.int64(50), np.int64(50)]  lr 0.242781 49.635sec(train) 21.740sec(infer)\n"
     ]
    },
    {
     "name": "stdout",
     "output_type": "stream",
     "text": [
      "Epoch 293 tst: l 0.873 a 0.705 clct[np.int64(20), np.int64(20)] clct_ans[np.int64(20), np.int64(20)]  3.473sec\n"
     ]
    },
    {
     "name": "stdout",
     "output_type": "stream",
     "text": [
      "Epoch 294 tr: l 0.947 a 0.675 clct[np.int64(49), np.int64(51)] clct_ans[np.int64(49), np.int64(51)]  lr 0.242757 48.649sec(train) 22.157sec(infer)\n"
     ]
    },
    {
     "name": "stdout",
     "output_type": "stream",
     "text": [
      "Epoch 294 tst: l 0.870 a 0.704 clct[np.int64(20), np.int64(20)] clct_ans[np.int64(20), np.int64(20)]  3.546sec\n"
     ]
    },
    {
     "name": "stdout",
     "output_type": "stream",
     "text": [
      "Epoch 295 tr: l 0.940 a 0.679 clct[np.int64(43), np.int64(57)] clct_ans[np.int64(43), np.int64(57)]  lr 0.242732 48.560sec(train) 22.306sec(infer)\n"
     ]
    },
    {
     "name": "stdout",
     "output_type": "stream",
     "text": [
      "Epoch 295 tst: l 0.868 a 0.704 clct[np.int64(20), np.int64(20)] clct_ans[np.int64(20), np.int64(20)]  3.474sec\n"
     ]
    },
    {
     "name": "stdout",
     "output_type": "stream",
     "text": [
      "Epoch 296 tr: l 0.941 a 0.679 clct[np.int64(45), np.int64(55)] clct_ans[np.int64(45), np.int64(55)]  lr 0.242708 48.857sec(train) 22.007sec(infer)\n"
     ]
    },
    {
     "name": "stdout",
     "output_type": "stream",
     "text": [
      "Epoch 296 tst: l 0.869 a 0.705 clct[np.int64(20), np.int64(20)] clct_ans[np.int64(20), np.int64(20)]  3.849sec\n"
     ]
    },
    {
     "name": "stdout",
     "output_type": "stream",
     "text": [
      "Epoch 297 tr: l 0.947 a 0.676 clct[np.int64(48), np.int64(52)] clct_ans[np.int64(48), np.int64(52)]  lr 0.242684 49.927sec(train) 21.711sec(infer)\n"
     ]
    },
    {
     "name": "stdout",
     "output_type": "stream",
     "text": [
      "Epoch 297 tst: l 0.867 a 0.706 clct[np.int64(20), np.int64(20)] clct_ans[np.int64(20), np.int64(20)]  3.854sec\n"
     ]
    },
    {
     "name": "stdout",
     "output_type": "stream",
     "text": [
      "Epoch 298 tr: l 0.949 a 0.677 clct[np.int64(55), np.int64(45)] clct_ans[np.int64(55), np.int64(45)]  lr 0.242660 48.449sec(train) 21.899sec(infer)\n"
     ]
    },
    {
     "name": "stdout",
     "output_type": "stream",
     "text": [
      "Epoch 298 tst: l 0.868 a 0.705 clct[np.int64(20), np.int64(20)] clct_ans[np.int64(20), np.int64(20)]  3.457sec\n"
     ]
    },
    {
     "name": "stdout",
     "output_type": "stream",
     "text": [
      "Epoch 299 tr: l 0.942 a 0.679 clct[np.int64(50), np.int64(50)] clct_ans[np.int64(50), np.int64(50)]  lr 0.242635 48.205sec(train) 21.569sec(infer)\n"
     ]
    },
    {
     "name": "stdout",
     "output_type": "stream",
     "text": [
      "Epoch 299 tst: l 0.870 a 0.705 clct[np.int64(20), np.int64(20)] clct_ans[np.int64(20), np.int64(20)]  3.525sec\n"
     ]
    },
    {
     "name": "stdout",
     "output_type": "stream",
     "text": [
      "Epoch 300 tr: l 0.946 a 0.679 clct[np.int64(53), np.int64(47)] clct_ans[np.int64(53), np.int64(47)]  lr 0.242611 49.038sec(train) 21.413sec(infer)\n"
     ]
    },
    {
     "name": "stdout",
     "output_type": "stream",
     "text": [
      "Epoch 300 tst: l 0.870 a 0.705 clct[np.int64(20), np.int64(20)] clct_ans[np.int64(20), np.int64(20)]  3.534sec\n",
      "result written at output_dfca_gi/results.pickle\n",
      "checkpoint written at output_dfca_gi/checkpoint.pt\n"
     ]
    },
    {
     "name": "stdout",
     "output_type": "stream",
     "text": [
      "Epoch 301 tr: l 0.946 a 0.677 clct[np.int64(55), np.int64(45)] clct_ans[np.int64(55), np.int64(45)]  lr 0.242587 46.921sec(train) 21.962sec(infer)\n"
     ]
    },
    {
     "name": "stdout",
     "output_type": "stream",
     "text": [
      "Epoch 301 tst: l 0.868 a 0.703 clct[np.int64(20), np.int64(20)] clct_ans[np.int64(20), np.int64(20)]  3.525sec\n"
     ]
    },
    {
     "name": "stdout",
     "output_type": "stream",
     "text": [
      "Epoch 302 tr: l 0.942 a 0.678 clct[np.int64(47), np.int64(53)] clct_ans[np.int64(47), np.int64(53)]  lr 0.242562 47.197sec(train) 22.338sec(infer)\n"
     ]
    },
    {
     "name": "stdout",
     "output_type": "stream",
     "text": [
      "Epoch 302 tst: l 0.866 a 0.706 clct[np.int64(20), np.int64(20)] clct_ans[np.int64(20), np.int64(20)]  3.500sec\n"
     ]
    },
    {
     "name": "stdout",
     "output_type": "stream",
     "text": [
      "Epoch 303 tr: l 0.948 a 0.678 clct[np.int64(55), np.int64(45)] clct_ans[np.int64(55), np.int64(45)]  lr 0.242538 49.048sec(train) 22.215sec(infer)\n"
     ]
    },
    {
     "name": "stdout",
     "output_type": "stream",
     "text": [
      "Epoch 303 tst: l 0.871 a 0.704 clct[np.int64(20), np.int64(20)] clct_ans[np.int64(20), np.int64(20)]  4.020sec\n"
     ]
    },
    {
     "name": "stdout",
     "output_type": "stream",
     "text": [
      "Epoch 304 tr: l 0.946 a 0.678 clct[np.int64(58), np.int64(42)] clct_ans[np.int64(58), np.int64(42)]  lr 0.242514 49.156sec(train) 21.863sec(infer)\n"
     ]
    },
    {
     "name": "stdout",
     "output_type": "stream",
     "text": [
      "Epoch 304 tst: l 0.870 a 0.704 clct[np.int64(20), np.int64(20)] clct_ans[np.int64(20), np.int64(20)]  3.939sec\n"
     ]
    },
    {
     "name": "stdout",
     "output_type": "stream",
     "text": [
      "Epoch 305 tr: l 0.950 a 0.677 clct[np.int64(50), np.int64(50)] clct_ans[np.int64(50), np.int64(50)]  lr 0.242490 49.253sec(train) 21.592sec(infer)\n"
     ]
    },
    {
     "name": "stdout",
     "output_type": "stream",
     "text": [
      "Epoch 305 tst: l 0.868 a 0.705 clct[np.int64(20), np.int64(20)] clct_ans[np.int64(20), np.int64(20)]  3.729sec\n"
     ]
    },
    {
     "name": "stdout",
     "output_type": "stream",
     "text": [
      "Epoch 306 tr: l 0.951 a 0.677 clct[np.int64(47), np.int64(53)] clct_ans[np.int64(47), np.int64(53)]  lr 0.242465 49.472sec(train) 21.445sec(infer)\n"
     ]
    },
    {
     "name": "stdout",
     "output_type": "stream",
     "text": [
      "Epoch 306 tst: l 0.867 a 0.705 clct[np.int64(20), np.int64(20)] clct_ans[np.int64(20), np.int64(20)]  3.496sec\n"
     ]
    },
    {
     "name": "stdout",
     "output_type": "stream",
     "text": [
      "Epoch 307 tr: l 0.946 a 0.677 clct[np.int64(47), np.int64(53)] clct_ans[np.int64(47), np.int64(53)]  lr 0.242441 50.408sec(train) 21.341sec(infer)\n"
     ]
    },
    {
     "name": "stdout",
     "output_type": "stream",
     "text": [
      "Epoch 307 tst: l 0.866 a 0.705 clct[np.int64(20), np.int64(20)] clct_ans[np.int64(20), np.int64(20)]  3.493sec\n"
     ]
    },
    {
     "name": "stdout",
     "output_type": "stream",
     "text": [
      "Epoch 308 tr: l 0.945 a 0.675 clct[np.int64(50), np.int64(50)] clct_ans[np.int64(50), np.int64(50)]  lr 0.242417 49.718sec(train) 21.472sec(infer)\n"
     ]
    },
    {
     "name": "stdout",
     "output_type": "stream",
     "text": [
      "Epoch 308 tst: l 0.865 a 0.706 clct[np.int64(20), np.int64(20)] clct_ans[np.int64(20), np.int64(20)]  3.497sec\n"
     ]
    },
    {
     "name": "stdout",
     "output_type": "stream",
     "text": [
      "Epoch 309 tr: l 0.946 a 0.679 clct[np.int64(50), np.int64(50)] clct_ans[np.int64(50), np.int64(50)]  lr 0.242393 49.865sec(train) 22.063sec(infer)\n"
     ]
    },
    {
     "name": "stdout",
     "output_type": "stream",
     "text": [
      "Epoch 309 tst: l 0.870 a 0.704 clct[np.int64(20), np.int64(20)] clct_ans[np.int64(20), np.int64(20)]  3.518sec\n"
     ]
    },
    {
     "name": "stdout",
     "output_type": "stream",
     "text": [
      "Epoch 310 tr: l 0.940 a 0.679 clct[np.int64(50), np.int64(50)] clct_ans[np.int64(50), np.int64(50)]  lr 0.242369 49.698sec(train) 22.471sec(infer)\n"
     ]
    },
    {
     "name": "stdout",
     "output_type": "stream",
     "text": [
      "Epoch 310 tst: l 0.867 a 0.706 clct[np.int64(20), np.int64(20)] clct_ans[np.int64(20), np.int64(20)]  3.441sec\n",
      "result written at output_dfca_gi/results.pickle\n",
      "checkpoint written at output_dfca_gi/checkpoint.pt\n"
     ]
    },
    {
     "name": "stdout",
     "output_type": "stream",
     "text": [
      "Epoch 311 tr: l 0.948 a 0.678 clct[np.int64(50), np.int64(50)] clct_ans[np.int64(50), np.int64(50)]  lr 0.242344 49.479sec(train) 21.096sec(infer)\n"
     ]
    },
    {
     "name": "stdout",
     "output_type": "stream",
     "text": [
      "Epoch 311 tst: l 0.868 a 0.705 clct[np.int64(20), np.int64(20)] clct_ans[np.int64(20), np.int64(20)]  3.292sec\n"
     ]
    },
    {
     "name": "stdout",
     "output_type": "stream",
     "text": [
      "Epoch 312 tr: l 0.940 a 0.679 clct[np.int64(48), np.int64(52)] clct_ans[np.int64(48), np.int64(52)]  lr 0.242320 49.871sec(train) 21.078sec(infer)\n"
     ]
    },
    {
     "name": "stdout",
     "output_type": "stream",
     "text": [
      "Epoch 312 tst: l 0.865 a 0.705 clct[np.int64(20), np.int64(20)] clct_ans[np.int64(20), np.int64(20)]  3.373sec\n"
     ]
    },
    {
     "name": "stdout",
     "output_type": "stream",
     "text": [
      "Epoch 313 tr: l 0.943 a 0.679 clct[np.int64(48), np.int64(52)] clct_ans[np.int64(48), np.int64(52)]  lr 0.242296 49.162sec(train) 21.533sec(infer)\n"
     ]
    },
    {
     "name": "stdout",
     "output_type": "stream",
     "text": [
      "Epoch 313 tst: l 0.870 a 0.705 clct[np.int64(20), np.int64(20)] clct_ans[np.int64(20), np.int64(20)]  3.282sec\n"
     ]
    },
    {
     "name": "stdout",
     "output_type": "stream",
     "text": [
      "Epoch 314 tr: l 0.942 a 0.678 clct[np.int64(49), np.int64(51)] clct_ans[np.int64(49), np.int64(51)]  lr 0.242272 49.121sec(train) 21.057sec(infer)\n"
     ]
    },
    {
     "name": "stdout",
     "output_type": "stream",
     "text": [
      "Epoch 314 tst: l 0.868 a 0.705 clct[np.int64(20), np.int64(20)] clct_ans[np.int64(20), np.int64(20)]  3.531sec\n"
     ]
    },
    {
     "name": "stdout",
     "output_type": "stream",
     "text": [
      "Epoch 315 tr: l 0.943 a 0.677 clct[np.int64(47), np.int64(53)] clct_ans[np.int64(47), np.int64(53)]  lr 0.242247 49.362sec(train) 21.428sec(infer)\n"
     ]
    },
    {
     "name": "stdout",
     "output_type": "stream",
     "text": [
      "Epoch 315 tst: l 0.865 a 0.704 clct[np.int64(20), np.int64(20)] clct_ans[np.int64(20), np.int64(20)]  3.844sec\n"
     ]
    },
    {
     "name": "stdout",
     "output_type": "stream",
     "text": [
      "Epoch 316 tr: l 0.937 a 0.680 clct[np.int64(46), np.int64(54)] clct_ans[np.int64(46), np.int64(54)]  lr 0.242223 49.096sec(train) 21.116sec(infer)\n"
     ]
    },
    {
     "name": "stdout",
     "output_type": "stream",
     "text": [
      "Epoch 316 tst: l 0.867 a 0.707 clct[np.int64(20), np.int64(20)] clct_ans[np.int64(20), np.int64(20)]  3.298sec\n"
     ]
    },
    {
     "name": "stdout",
     "output_type": "stream",
     "text": [
      "Epoch 317 tr: l 0.941 a 0.681 clct[np.int64(44), np.int64(56)] clct_ans[np.int64(44), np.int64(56)]  lr 0.242199 49.059sec(train) 21.188sec(infer)\n"
     ]
    },
    {
     "name": "stdout",
     "output_type": "stream",
     "text": [
      "Epoch 317 tst: l 0.866 a 0.707 clct[np.int64(20), np.int64(20)] clct_ans[np.int64(20), np.int64(20)]  3.400sec\n"
     ]
    },
    {
     "name": "stdout",
     "output_type": "stream",
     "text": [
      "Epoch 318 tr: l 0.953 a 0.676 clct[np.int64(49), np.int64(51)] clct_ans[np.int64(49), np.int64(51)]  lr 0.242175 49.198sec(train) 21.737sec(infer)\n"
     ]
    },
    {
     "name": "stdout",
     "output_type": "stream",
     "text": [
      "Epoch 318 tst: l 0.868 a 0.707 clct[np.int64(20), np.int64(20)] clct_ans[np.int64(20), np.int64(20)]  3.258sec\n"
     ]
    },
    {
     "name": "stdout",
     "output_type": "stream",
     "text": [
      "Epoch 319 tr: l 0.941 a 0.680 clct[np.int64(50), np.int64(50)] clct_ans[np.int64(50), np.int64(50)]  lr 0.242150 49.289sec(train) 20.976sec(infer)\n"
     ]
    },
    {
     "name": "stdout",
     "output_type": "stream",
     "text": [
      "Epoch 319 tst: l 0.869 a 0.706 clct[np.int64(20), np.int64(20)] clct_ans[np.int64(20), np.int64(20)]  3.369sec\n"
     ]
    },
    {
     "name": "stdout",
     "output_type": "stream",
     "text": [
      "Epoch 320 tr: l 0.943 a 0.677 clct[np.int64(47), np.int64(53)] clct_ans[np.int64(47), np.int64(53)]  lr 0.242126 49.698sec(train) 21.617sec(infer)\n"
     ]
    },
    {
     "name": "stdout",
     "output_type": "stream",
     "text": [
      "Epoch 320 tst: l 0.868 a 0.707 clct[np.int64(20), np.int64(20)] clct_ans[np.int64(20), np.int64(20)]  3.317sec\n",
      "result written at output_dfca_gi/results.pickle\n",
      "checkpoint written at output_dfca_gi/checkpoint.pt\n"
     ]
    },
    {
     "name": "stdout",
     "output_type": "stream",
     "text": [
      "Epoch 321 tr: l 0.939 a 0.679 clct[np.int64(62), np.int64(38)] clct_ans[np.int64(62), np.int64(38)]  lr 0.242102 48.848sec(train) 21.153sec(infer)\n"
     ]
    },
    {
     "name": "stdout",
     "output_type": "stream",
     "text": [
      "Epoch 321 tst: l 0.867 a 0.708 clct[np.int64(20), np.int64(20)] clct_ans[np.int64(20), np.int64(20)]  3.289sec\n"
     ]
    },
    {
     "name": "stdout",
     "output_type": "stream",
     "text": [
      "Epoch 322 tr: l 0.939 a 0.680 clct[np.int64(46), np.int64(54)] clct_ans[np.int64(46), np.int64(54)]  lr 0.242078 48.258sec(train) 21.113sec(infer)\n"
     ]
    },
    {
     "name": "stdout",
     "output_type": "stream",
     "text": [
      "Epoch 322 tst: l 0.867 a 0.708 clct[np.int64(20), np.int64(20)] clct_ans[np.int64(20), np.int64(20)]  3.372sec\n"
     ]
    },
    {
     "name": "stdout",
     "output_type": "stream",
     "text": [
      "Epoch 323 tr: l 0.949 a 0.676 clct[np.int64(52), np.int64(48)] clct_ans[np.int64(52), np.int64(48)]  lr 0.242054 47.004sec(train) 21.457sec(infer)\n"
     ]
    },
    {
     "name": "stdout",
     "output_type": "stream",
     "text": [
      "Epoch 323 tst: l 0.871 a 0.705 clct[np.int64(20), np.int64(20)] clct_ans[np.int64(20), np.int64(20)]  3.288sec\n"
     ]
    },
    {
     "name": "stdout",
     "output_type": "stream",
     "text": [
      "Epoch 324 tr: l 0.950 a 0.678 clct[np.int64(51), np.int64(49)] clct_ans[np.int64(51), np.int64(49)]  lr 0.242029 46.675sec(train) 21.006sec(infer)\n"
     ]
    },
    {
     "name": "stdout",
     "output_type": "stream",
     "text": [
      "Epoch 324 tst: l 0.870 a 0.705 clct[np.int64(20), np.int64(20)] clct_ans[np.int64(20), np.int64(20)]  3.336sec\n"
     ]
    },
    {
     "name": "stdout",
     "output_type": "stream",
     "text": [
      "Epoch 325 tr: l 0.940 a 0.679 clct[np.int64(44), np.int64(56)] clct_ans[np.int64(44), np.int64(56)]  lr 0.242005 47.317sec(train) 21.264sec(infer)\n"
     ]
    },
    {
     "name": "stdout",
     "output_type": "stream",
     "text": [
      "Epoch 325 tst: l 0.867 a 0.705 clct[np.int64(20), np.int64(20)] clct_ans[np.int64(20), np.int64(20)]  3.426sec\n"
     ]
    },
    {
     "name": "stdout",
     "output_type": "stream",
     "text": [
      "Epoch 326 tr: l 0.941 a 0.680 clct[np.int64(53), np.int64(47)] clct_ans[np.int64(53), np.int64(47)]  lr 0.241981 46.967sec(train) 21.626sec(infer)\n"
     ]
    },
    {
     "name": "stdout",
     "output_type": "stream",
     "text": [
      "Epoch 326 tst: l 0.867 a 0.707 clct[np.int64(20), np.int64(20)] clct_ans[np.int64(20), np.int64(20)]  3.241sec\n"
     ]
    },
    {
     "name": "stdout",
     "output_type": "stream",
     "text": [
      "Epoch 327 tr: l 0.933 a 0.682 clct[np.int64(46), np.int64(54)] clct_ans[np.int64(46), np.int64(54)]  lr 0.241957 47.968sec(train) 21.013sec(infer)\n"
     ]
    },
    {
     "name": "stdout",
     "output_type": "stream",
     "text": [
      "Epoch 327 tst: l 0.863 a 0.710 clct[np.int64(20), np.int64(20)] clct_ans[np.int64(20), np.int64(20)]  3.385sec\n"
     ]
    },
    {
     "name": "stdout",
     "output_type": "stream",
     "text": [
      "Epoch 328 tr: l 0.950 a 0.676 clct[np.int64(52), np.int64(48)] clct_ans[np.int64(52), np.int64(48)]  lr 0.241933 47.599sec(train) 21.557sec(infer)\n"
     ]
    },
    {
     "name": "stdout",
     "output_type": "stream",
     "text": [
      "Epoch 328 tst: l 0.870 a 0.707 clct[np.int64(20), np.int64(20)] clct_ans[np.int64(20), np.int64(20)]  3.791sec\n"
     ]
    },
    {
     "name": "stdout",
     "output_type": "stream",
     "text": [
      "Epoch 329 tr: l 0.929 a 0.682 clct[np.int64(49), np.int64(51)] clct_ans[np.int64(49), np.int64(51)]  lr 0.241908 46.657sec(train) 21.391sec(infer)\n"
     ]
    },
    {
     "name": "stdout",
     "output_type": "stream",
     "text": [
      "Epoch 329 tst: l 0.863 a 0.709 clct[np.int64(20), np.int64(20)] clct_ans[np.int64(20), np.int64(20)]  3.284sec\n"
     ]
    },
    {
     "name": "stdout",
     "output_type": "stream",
     "text": [
      "Epoch 330 tr: l 0.944 a 0.677 clct[np.int64(54), np.int64(46)] clct_ans[np.int64(54), np.int64(46)]  lr 0.241884 47.924sec(train) 21.183sec(infer)\n"
     ]
    },
    {
     "name": "stdout",
     "output_type": "stream",
     "text": [
      "Epoch 330 tst: l 0.868 a 0.707 clct[np.int64(20), np.int64(20)] clct_ans[np.int64(20), np.int64(20)]  3.409sec\n",
      "result written at output_dfca_gi/results.pickle\n",
      "checkpoint written at output_dfca_gi/checkpoint.pt\n"
     ]
    },
    {
     "name": "stdout",
     "output_type": "stream",
     "text": [
      "Epoch 331 tr: l 0.939 a 0.679 clct[np.int64(48), np.int64(52)] clct_ans[np.int64(48), np.int64(52)]  lr 0.241860 48.080sec(train) 21.356sec(infer)\n"
     ]
    },
    {
     "name": "stdout",
     "output_type": "stream",
     "text": [
      "Epoch 331 tst: l 0.865 a 0.709 clct[np.int64(20), np.int64(20)] clct_ans[np.int64(20), np.int64(20)]  3.295sec\n"
     ]
    },
    {
     "name": "stdout",
     "output_type": "stream",
     "text": [
      "Epoch 332 tr: l 0.945 a 0.677 clct[np.int64(57), np.int64(43)] clct_ans[np.int64(57), np.int64(43)]  lr 0.241836 47.174sec(train) 21.111sec(infer)\n"
     ]
    },
    {
     "name": "stdout",
     "output_type": "stream",
     "text": [
      "Epoch 332 tst: l 0.867 a 0.707 clct[np.int64(20), np.int64(20)] clct_ans[np.int64(20), np.int64(20)]  3.307sec\n"
     ]
    },
    {
     "name": "stdout",
     "output_type": "stream",
     "text": [
      "Epoch 333 tr: l 0.943 a 0.677 clct[np.int64(47), np.int64(53)] clct_ans[np.int64(47), np.int64(53)]  lr 0.241812 47.329sec(train) 21.216sec(infer)\n"
     ]
    },
    {
     "name": "stdout",
     "output_type": "stream",
     "text": [
      "Epoch 333 tst: l 0.866 a 0.708 clct[np.int64(20), np.int64(20)] clct_ans[np.int64(20), np.int64(20)]  3.584sec\n"
     ]
    },
    {
     "name": "stdout",
     "output_type": "stream",
     "text": [
      "Epoch 334 tr: l 0.944 a 0.676 clct[np.int64(53), np.int64(47)] clct_ans[np.int64(53), np.int64(47)]  lr 0.241788 46.657sec(train) 21.258sec(infer)\n"
     ]
    },
    {
     "name": "stdout",
     "output_type": "stream",
     "text": [
      "Epoch 334 tst: l 0.867 a 0.707 clct[np.int64(20), np.int64(20)] clct_ans[np.int64(20), np.int64(20)]  3.378sec\n"
     ]
    },
    {
     "name": "stdout",
     "output_type": "stream",
     "text": [
      "Epoch 335 tr: l 0.949 a 0.675 clct[np.int64(51), np.int64(49)] clct_ans[np.int64(51), np.int64(49)]  lr 0.241763 47.903sec(train) 20.981sec(infer)\n"
     ]
    },
    {
     "name": "stdout",
     "output_type": "stream",
     "text": [
      "Epoch 335 tst: l 0.864 a 0.708 clct[np.int64(20), np.int64(20)] clct_ans[np.int64(20), np.int64(20)]  3.359sec\n"
     ]
    },
    {
     "name": "stdout",
     "output_type": "stream",
     "text": [
      "Epoch 336 tr: l 0.941 a 0.678 clct[np.int64(48), np.int64(52)] clct_ans[np.int64(48), np.int64(52)]  lr 0.241739 48.244sec(train) 21.205sec(infer)\n"
     ]
    },
    {
     "name": "stdout",
     "output_type": "stream",
     "text": [
      "Epoch 336 tst: l 0.863 a 0.709 clct[np.int64(20), np.int64(20)] clct_ans[np.int64(20), np.int64(20)]  3.563sec\n"
     ]
    },
    {
     "name": "stdout",
     "output_type": "stream",
     "text": [
      "Epoch 337 tr: l 0.940 a 0.678 clct[np.int64(47), np.int64(53)] clct_ans[np.int64(47), np.int64(53)]  lr 0.241715 48.092sec(train) 21.242sec(infer)\n"
     ]
    },
    {
     "name": "stdout",
     "output_type": "stream",
     "text": [
      "Epoch 337 tst: l 0.866 a 0.707 clct[np.int64(20), np.int64(20)] clct_ans[np.int64(20), np.int64(20)]  3.309sec\n"
     ]
    },
    {
     "name": "stdout",
     "output_type": "stream",
     "text": [
      "Epoch 338 tr: l 0.942 a 0.678 clct[np.int64(53), np.int64(47)] clct_ans[np.int64(53), np.int64(47)]  lr 0.241691 47.347sec(train) 20.973sec(infer)\n"
     ]
    },
    {
     "name": "stdout",
     "output_type": "stream",
     "text": [
      "Epoch 338 tst: l 0.865 a 0.707 clct[np.int64(20), np.int64(20)] clct_ans[np.int64(20), np.int64(20)]  3.401sec\n"
     ]
    },
    {
     "name": "stdout",
     "output_type": "stream",
     "text": [
      "Epoch 339 tr: l 0.945 a 0.679 clct[np.int64(56), np.int64(44)] clct_ans[np.int64(56), np.int64(44)]  lr 0.241667 47.398sec(train) 21.244sec(infer)\n"
     ]
    },
    {
     "name": "stdout",
     "output_type": "stream",
     "text": [
      "Epoch 339 tst: l 0.861 a 0.708 clct[np.int64(20), np.int64(20)] clct_ans[np.int64(20), np.int64(20)]  3.650sec\n"
     ]
    },
    {
     "name": "stdout",
     "output_type": "stream",
     "text": [
      "Epoch 340 tr: l 0.942 a 0.678 clct[np.int64(55), np.int64(45)] clct_ans[np.int64(55), np.int64(45)]  lr 0.241642 46.876sec(train) 21.457sec(infer)\n"
     ]
    },
    {
     "name": "stdout",
     "output_type": "stream",
     "text": [
      "Epoch 340 tst: l 0.863 a 0.708 clct[np.int64(20), np.int64(20)] clct_ans[np.int64(20), np.int64(20)]  3.246sec\n",
      "result written at output_dfca_gi/results.pickle\n",
      "checkpoint written at output_dfca_gi/checkpoint.pt\n"
     ]
    },
    {
     "name": "stdout",
     "output_type": "stream",
     "text": [
      "Epoch 341 tr: l 0.937 a 0.677 clct[np.int64(56), np.int64(44)] clct_ans[np.int64(56), np.int64(44)]  lr 0.241618 47.735sec(train) 21.058sec(infer)\n"
     ]
    },
    {
     "name": "stdout",
     "output_type": "stream",
     "text": [
      "Epoch 341 tst: l 0.860 a 0.708 clct[np.int64(20), np.int64(20)] clct_ans[np.int64(20), np.int64(20)]  3.384sec\n"
     ]
    },
    {
     "name": "stdout",
     "output_type": "stream",
     "text": [
      "Epoch 342 tr: l 0.946 a 0.678 clct[np.int64(47), np.int64(53)] clct_ans[np.int64(47), np.int64(53)]  lr 0.241594 47.979sec(train) 21.414sec(infer)\n"
     ]
    },
    {
     "name": "stdout",
     "output_type": "stream",
     "text": [
      "Epoch 342 tst: l 0.869 a 0.705 clct[np.int64(20), np.int64(20)] clct_ans[np.int64(20), np.int64(20)]  3.281sec\n"
     ]
    },
    {
     "name": "stdout",
     "output_type": "stream",
     "text": [
      "Epoch 343 tr: l 0.942 a 0.679 clct[np.int64(49), np.int64(51)] clct_ans[np.int64(49), np.int64(51)]  lr 0.241570 47.815sec(train) 21.241sec(infer)\n"
     ]
    },
    {
     "name": "stdout",
     "output_type": "stream",
     "text": [
      "Epoch 343 tst: l 0.866 a 0.706 clct[np.int64(20), np.int64(20)] clct_ans[np.int64(20), np.int64(20)]  3.219sec\n"
     ]
    },
    {
     "name": "stdout",
     "output_type": "stream",
     "text": [
      "Epoch 344 tr: l 0.942 a 0.680 clct[np.int64(51), np.int64(49)] clct_ans[np.int64(51), np.int64(49)]  lr 0.241546 46.561sec(train) 21.153sec(infer)\n"
     ]
    },
    {
     "name": "stdout",
     "output_type": "stream",
     "text": [
      "Epoch 344 tst: l 0.867 a 0.708 clct[np.int64(20), np.int64(20)] clct_ans[np.int64(20), np.int64(20)]  3.408sec\n"
     ]
    },
    {
     "name": "stdout",
     "output_type": "stream",
     "text": [
      "Epoch 345 tr: l 0.948 a 0.677 clct[np.int64(57), np.int64(43)] clct_ans[np.int64(57), np.int64(43)]  lr 0.241522 47.066sec(train) 21.481sec(infer)\n"
     ]
    },
    {
     "name": "stdout",
     "output_type": "stream",
     "text": [
      "Epoch 345 tst: l 0.864 a 0.708 clct[np.int64(20), np.int64(20)] clct_ans[np.int64(20), np.int64(20)]  3.239sec\n"
     ]
    },
    {
     "name": "stdout",
     "output_type": "stream",
     "text": [
      "Epoch 346 tr: l 0.950 a 0.673 clct[np.int64(50), np.int64(50)] clct_ans[np.int64(50), np.int64(50)]  lr 0.241498 47.291sec(train) 21.108sec(infer)\n"
     ]
    },
    {
     "name": "stdout",
     "output_type": "stream",
     "text": [
      "Epoch 346 tst: l 0.865 a 0.706 clct[np.int64(20), np.int64(20)] clct_ans[np.int64(20), np.int64(20)]  3.229sec\n"
     ]
    },
    {
     "name": "stdout",
     "output_type": "stream",
     "text": [
      "Epoch 347 tr: l 0.938 a 0.681 clct[np.int64(47), np.int64(53)] clct_ans[np.int64(47), np.int64(53)]  lr 0.241473 47.011sec(train) 21.413sec(infer)\n"
     ]
    },
    {
     "name": "stdout",
     "output_type": "stream",
     "text": [
      "Epoch 347 tst: l 0.862 a 0.708 clct[np.int64(20), np.int64(20)] clct_ans[np.int64(20), np.int64(20)]  3.362sec\n"
     ]
    },
    {
     "name": "stdout",
     "output_type": "stream",
     "text": [
      "Epoch 348 tr: l 0.944 a 0.678 clct[np.int64(51), np.int64(49)] clct_ans[np.int64(51), np.int64(49)]  lr 0.241449 47.737sec(train) 21.976sec(infer)\n"
     ]
    },
    {
     "name": "stdout",
     "output_type": "stream",
     "text": [
      "Epoch 348 tst: l 0.861 a 0.708 clct[np.int64(20), np.int64(20)] clct_ans[np.int64(20), np.int64(20)]  3.516sec\n"
     ]
    },
    {
     "name": "stdout",
     "output_type": "stream",
     "text": [
      "Epoch 349 tr: l 0.943 a 0.680 clct[np.int64(47), np.int64(53)] clct_ans[np.int64(47), np.int64(53)]  lr 0.241425 47.215sec(train) 21.951sec(infer)\n"
     ]
    },
    {
     "name": "stdout",
     "output_type": "stream",
     "text": [
      "Epoch 349 tst: l 0.863 a 0.708 clct[np.int64(20), np.int64(20)] clct_ans[np.int64(20), np.int64(20)]  3.667sec\n"
     ]
    },
    {
     "name": "stdout",
     "output_type": "stream",
     "text": [
      "Epoch 350 tr: l 0.931 a 0.685 clct[np.int64(47), np.int64(53)] clct_ans[np.int64(47), np.int64(53)]  lr 0.024140 47.631sec(train) 21.892sec(infer)\n"
     ]
    },
    {
     "name": "stdout",
     "output_type": "stream",
     "text": [
      "Epoch 350 tst: l 0.840 a 0.718 clct[np.int64(20), np.int64(20)] clct_ans[np.int64(20), np.int64(20)]  4.138sec\n",
      "result written at output_dfca_gi/results.pickle\n",
      "checkpoint written at output_dfca_gi/checkpoint.pt\n"
     ]
    },
    {
     "name": "stdout",
     "output_type": "stream",
     "text": [
      "Epoch 351 tr: l 0.928 a 0.687 clct[np.int64(50), np.int64(50)] clct_ans[np.int64(50), np.int64(50)]  lr 0.024138 48.924sec(train) 21.473sec(infer)\n"
     ]
    },
    {
     "name": "stdout",
     "output_type": "stream",
     "text": [
      "Epoch 351 tst: l 0.832 a 0.724 clct[np.int64(20), np.int64(20)] clct_ans[np.int64(20), np.int64(20)]  3.537sec\n"
     ]
    },
    {
     "name": "stdout",
     "output_type": "stream",
     "text": [
      "Epoch 352 tr: l 0.914 a 0.696 clct[np.int64(49), np.int64(51)] clct_ans[np.int64(49), np.int64(51)]  lr 0.024135 48.820sec(train) 21.773sec(infer)\n"
     ]
    },
    {
     "name": "stdout",
     "output_type": "stream",
     "text": [
      "Epoch 352 tst: l 0.829 a 0.726 clct[np.int64(20), np.int64(20)] clct_ans[np.int64(20), np.int64(20)]  3.478sec\n"
     ]
    },
    {
     "name": "stdout",
     "output_type": "stream",
     "text": [
      "Epoch 353 tr: l 0.911 a 0.695 clct[np.int64(47), np.int64(53)] clct_ans[np.int64(47), np.int64(53)]  lr 0.024133 49.287sec(train) 21.046sec(infer)\n"
     ]
    },
    {
     "name": "stdout",
     "output_type": "stream",
     "text": [
      "Epoch 353 tst: l 0.827 a 0.729 clct[np.int64(20), np.int64(20)] clct_ans[np.int64(20), np.int64(20)]  3.331sec\n"
     ]
    },
    {
     "name": "stdout",
     "output_type": "stream",
     "text": [
      "Epoch 354 tr: l 0.904 a 0.700 clct[np.int64(55), np.int64(45)] clct_ans[np.int64(55), np.int64(45)]  lr 0.024130 49.199sec(train) 21.286sec(infer)\n"
     ]
    },
    {
     "name": "stdout",
     "output_type": "stream",
     "text": [
      "Epoch 354 tst: l 0.826 a 0.730 clct[np.int64(20), np.int64(20)] clct_ans[np.int64(20), np.int64(20)]  3.600sec\n"
     ]
    },
    {
     "name": "stdout",
     "output_type": "stream",
     "text": [
      "Epoch 355 tr: l 0.905 a 0.701 clct[np.int64(47), np.int64(53)] clct_ans[np.int64(47), np.int64(53)]  lr 0.024128 48.896sec(train) 21.850sec(infer)\n"
     ]
    },
    {
     "name": "stdout",
     "output_type": "stream",
     "text": [
      "Epoch 355 tst: l 0.825 a 0.731 clct[np.int64(20), np.int64(20)] clct_ans[np.int64(20), np.int64(20)]  3.286sec\n"
     ]
    },
    {
     "name": "stdout",
     "output_type": "stream",
     "text": [
      "Epoch 356 tr: l 0.911 a 0.698 clct[np.int64(47), np.int64(53)] clct_ans[np.int64(47), np.int64(53)]  lr 0.024126 48.988sec(train) 21.141sec(infer)\n"
     ]
    },
    {
     "name": "stdout",
     "output_type": "stream",
     "text": [
      "Epoch 356 tst: l 0.824 a 0.732 clct[np.int64(20), np.int64(20)] clct_ans[np.int64(20), np.int64(20)]  3.403sec\n"
     ]
    },
    {
     "name": "stdout",
     "output_type": "stream",
     "text": [
      "Epoch 357 tr: l 0.910 a 0.701 clct[np.int64(55), np.int64(45)] clct_ans[np.int64(55), np.int64(45)]  lr 0.024123 49.028sec(train) 21.711sec(infer)\n"
     ]
    },
    {
     "name": "stdout",
     "output_type": "stream",
     "text": [
      "Epoch 357 tst: l 0.822 a 0.734 clct[np.int64(20), np.int64(20)] clct_ans[np.int64(20), np.int64(20)]  3.609sec\n"
     ]
    },
    {
     "name": "stdout",
     "output_type": "stream",
     "text": [
      "Epoch 358 tr: l 0.894 a 0.705 clct[np.int64(55), np.int64(45)] clct_ans[np.int64(55), np.int64(45)]  lr 0.024121 48.669sec(train) 21.114sec(infer)\n"
     ]
    },
    {
     "name": "stdout",
     "output_type": "stream",
     "text": [
      "Epoch 358 tst: l 0.820 a 0.734 clct[np.int64(20), np.int64(20)] clct_ans[np.int64(20), np.int64(20)]  3.329sec\n"
     ]
    },
    {
     "name": "stdout",
     "output_type": "stream",
     "text": [
      "Epoch 359 tr: l 0.893 a 0.704 clct[np.int64(54), np.int64(46)] clct_ans[np.int64(54), np.int64(46)]  lr 0.024118 48.801sec(train) 21.195sec(infer)\n"
     ]
    },
    {
     "name": "stdout",
     "output_type": "stream",
     "text": [
      "Epoch 359 tst: l 0.819 a 0.734 clct[np.int64(20), np.int64(20)] clct_ans[np.int64(20), np.int64(20)]  3.550sec\n"
     ]
    },
    {
     "name": "stdout",
     "output_type": "stream",
     "text": [
      "Epoch 360 tr: l 0.889 a 0.708 clct[np.int64(50), np.int64(50)] clct_ans[np.int64(50), np.int64(50)]  lr 0.024116 48.639sec(train) 21.593sec(infer)\n"
     ]
    },
    {
     "name": "stdout",
     "output_type": "stream",
     "text": [
      "Epoch 360 tst: l 0.818 a 0.735 clct[np.int64(20), np.int64(20)] clct_ans[np.int64(20), np.int64(20)]  3.264sec\n",
      "result written at output_dfca_gi/results.pickle\n",
      "checkpoint written at output_dfca_gi/checkpoint.pt\n"
     ]
    },
    {
     "name": "stdout",
     "output_type": "stream",
     "text": [
      "Epoch 361 tr: l 0.887 a 0.708 clct[np.int64(45), np.int64(55)] clct_ans[np.int64(45), np.int64(55)]  lr 0.024114 48.880sec(train) 20.987sec(infer)\n"
     ]
    },
    {
     "name": "stdout",
     "output_type": "stream",
     "text": [
      "Epoch 361 tst: l 0.818 a 0.735 clct[np.int64(20), np.int64(20)] clct_ans[np.int64(20), np.int64(20)]  3.393sec\n"
     ]
    },
    {
     "name": "stdout",
     "output_type": "stream",
     "text": [
      "Epoch 362 tr: l 0.883 a 0.711 clct[np.int64(47), np.int64(53)] clct_ans[np.int64(47), np.int64(53)]  lr 0.024111 48.650sec(train) 21.491sec(infer)\n"
     ]
    },
    {
     "name": "stdout",
     "output_type": "stream",
     "text": [
      "Epoch 362 tst: l 0.815 a 0.737 clct[np.int64(20), np.int64(20)] clct_ans[np.int64(20), np.int64(20)]  3.596sec\n"
     ]
    },
    {
     "name": "stdout",
     "output_type": "stream",
     "text": [
      "Epoch 363 tr: l 0.885 a 0.710 clct[np.int64(48), np.int64(52)] clct_ans[np.int64(48), np.int64(52)]  lr 0.024109 48.798sec(train) 21.271sec(infer)\n"
     ]
    },
    {
     "name": "stdout",
     "output_type": "stream",
     "text": [
      "Epoch 363 tst: l 0.814 a 0.737 clct[np.int64(20), np.int64(20)] clct_ans[np.int64(20), np.int64(20)]  3.358sec\n"
     ]
    },
    {
     "name": "stdout",
     "output_type": "stream",
     "text": [
      "Epoch 364 tr: l 0.875 a 0.711 clct[np.int64(43), np.int64(57)] clct_ans[np.int64(43), np.int64(57)]  lr 0.024106 48.861sec(train) 21.199sec(infer)\n"
     ]
    },
    {
     "name": "stdout",
     "output_type": "stream",
     "text": [
      "Epoch 364 tst: l 0.812 a 0.738 clct[np.int64(20), np.int64(20)] clct_ans[np.int64(20), np.int64(20)]  3.611sec\n"
     ]
    },
    {
     "name": "stdout",
     "output_type": "stream",
     "text": [
      "Epoch 365 tr: l 0.881 a 0.709 clct[np.int64(47), np.int64(53)] clct_ans[np.int64(47), np.int64(53)]  lr 0.024104 48.885sec(train) 21.212sec(infer)\n"
     ]
    },
    {
     "name": "stdout",
     "output_type": "stream",
     "text": [
      "Epoch 365 tst: l 0.813 a 0.739 clct[np.int64(20), np.int64(20)] clct_ans[np.int64(20), np.int64(20)]  3.458sec\n"
     ]
    },
    {
     "name": "stdout",
     "output_type": "stream",
     "text": [
      "Epoch 366 tr: l 0.864 a 0.715 clct[np.int64(52), np.int64(48)] clct_ans[np.int64(52), np.int64(48)]  lr 0.024101 48.813sec(train) 21.182sec(infer)\n"
     ]
    },
    {
     "name": "stdout",
     "output_type": "stream",
     "text": [
      "Epoch 366 tst: l 0.809 a 0.739 clct[np.int64(20), np.int64(20)] clct_ans[np.int64(20), np.int64(20)]  3.327sec\n"
     ]
    },
    {
     "name": "stdout",
     "output_type": "stream",
     "text": [
      "Epoch 367 tr: l 0.872 a 0.714 clct[np.int64(47), np.int64(53)] clct_ans[np.int64(47), np.int64(53)]  lr 0.024099 47.135sec(train) 21.117sec(infer)\n"
     ]
    },
    {
     "name": "stdout",
     "output_type": "stream",
     "text": [
      "Epoch 367 tst: l 0.808 a 0.740 clct[np.int64(20), np.int64(20)] clct_ans[np.int64(20), np.int64(20)]  3.538sec\n"
     ]
    },
    {
     "name": "stdout",
     "output_type": "stream",
     "text": [
      "Epoch 368 tr: l 0.865 a 0.714 clct[np.int64(49), np.int64(51)] clct_ans[np.int64(49), np.int64(51)]  lr 0.024097 47.624sec(train) 21.321sec(infer)\n"
     ]
    },
    {
     "name": "stdout",
     "output_type": "stream",
     "text": [
      "Epoch 368 tst: l 0.806 a 0.741 clct[np.int64(20), np.int64(20)] clct_ans[np.int64(20), np.int64(20)]  3.488sec\n"
     ]
    },
    {
     "name": "stdout",
     "output_type": "stream",
     "text": [
      "Epoch 369 tr: l 0.874 a 0.713 clct[np.int64(52), np.int64(48)] clct_ans[np.int64(52), np.int64(48)]  lr 0.024094 46.312sec(train) 21.233sec(infer)\n"
     ]
    },
    {
     "name": "stdout",
     "output_type": "stream",
     "text": [
      "Epoch 369 tst: l 0.805 a 0.741 clct[np.int64(20), np.int64(20)] clct_ans[np.int64(20), np.int64(20)]  3.257sec\n"
     ]
    },
    {
     "name": "stdout",
     "output_type": "stream",
     "text": [
      "Epoch 370 tr: l 0.873 a 0.713 clct[np.int64(49), np.int64(51)] clct_ans[np.int64(49), np.int64(51)]  lr 0.024092 46.518sec(train) 21.141sec(infer)\n"
     ]
    },
    {
     "name": "stdout",
     "output_type": "stream",
     "text": [
      "Epoch 370 tst: l 0.804 a 0.741 clct[np.int64(20), np.int64(20)] clct_ans[np.int64(20), np.int64(20)]  3.366sec\n",
      "result written at output_dfca_gi/results.pickle\n",
      "checkpoint written at output_dfca_gi/checkpoint.pt\n"
     ]
    },
    {
     "name": "stdout",
     "output_type": "stream",
     "text": [
      "Epoch 371 tr: l 0.866 a 0.716 clct[np.int64(53), np.int64(47)] clct_ans[np.int64(53), np.int64(47)]  lr 0.024089 46.809sec(train) 21.519sec(infer)\n"
     ]
    },
    {
     "name": "stdout",
     "output_type": "stream",
     "text": [
      "Epoch 371 tst: l 0.800 a 0.742 clct[np.int64(20), np.int64(20)] clct_ans[np.int64(20), np.int64(20)]  3.474sec\n"
     ]
    },
    {
     "name": "stdout",
     "output_type": "stream",
     "text": [
      "Epoch 372 tr: l 0.856 a 0.718 clct[np.int64(44), np.int64(56)] clct_ans[np.int64(44), np.int64(56)]  lr 0.024087 46.685sec(train) 21.135sec(infer)\n"
     ]
    },
    {
     "name": "stdout",
     "output_type": "stream",
     "text": [
      "Epoch 372 tst: l 0.799 a 0.743 clct[np.int64(20), np.int64(20)] clct_ans[np.int64(20), np.int64(20)]  3.262sec\n"
     ]
    },
    {
     "name": "stdout",
     "output_type": "stream",
     "text": [
      "Epoch 373 tr: l 0.851 a 0.719 clct[np.int64(51), np.int64(49)] clct_ans[np.int64(51), np.int64(49)]  lr 0.024085 47.003sec(train) 21.172sec(infer)\n"
     ]
    },
    {
     "name": "stdout",
     "output_type": "stream",
     "text": [
      "Epoch 373 tst: l 0.799 a 0.743 clct[np.int64(20), np.int64(20)] clct_ans[np.int64(20), np.int64(20)]  3.284sec\n"
     ]
    },
    {
     "name": "stdout",
     "output_type": "stream",
     "text": [
      "Epoch 374 tr: l 0.854 a 0.717 clct[np.int64(44), np.int64(56)] clct_ans[np.int64(44), np.int64(56)]  lr 0.024082 47.265sec(train) 21.418sec(infer)\n"
     ]
    },
    {
     "name": "stdout",
     "output_type": "stream",
     "text": [
      "Epoch 374 tst: l 0.799 a 0.742 clct[np.int64(20), np.int64(20)] clct_ans[np.int64(20), np.int64(20)]  3.373sec\n"
     ]
    },
    {
     "name": "stdout",
     "output_type": "stream",
     "text": [
      "Epoch 375 tr: l 0.843 a 0.719 clct[np.int64(51), np.int64(49)] clct_ans[np.int64(51), np.int64(49)]  lr 0.024080 45.939sec(train) 21.161sec(infer)\n"
     ]
    },
    {
     "name": "stdout",
     "output_type": "stream",
     "text": [
      "Epoch 375 tst: l 0.796 a 0.744 clct[np.int64(20), np.int64(20)] clct_ans[np.int64(20), np.int64(20)]  3.340sec\n"
     ]
    },
    {
     "name": "stdout",
     "output_type": "stream",
     "text": [
      "Epoch 376 tr: l 0.859 a 0.719 clct[np.int64(47), np.int64(53)] clct_ans[np.int64(47), np.int64(53)]  lr 0.024077 47.799sec(train) 21.022sec(infer)\n"
     ]
    },
    {
     "name": "stdout",
     "output_type": "stream",
     "text": [
      "Epoch 376 tst: l 0.795 a 0.744 clct[np.int64(20), np.int64(20)] clct_ans[np.int64(20), np.int64(20)]  3.683sec\n"
     ]
    },
    {
     "name": "stdout",
     "output_type": "stream",
     "text": [
      "Epoch 377 tr: l 0.845 a 0.721 clct[np.int64(54), np.int64(46)] clct_ans[np.int64(54), np.int64(46)]  lr 0.024075 46.522sec(train) 21.393sec(infer)\n"
     ]
    },
    {
     "name": "stdout",
     "output_type": "stream",
     "text": [
      "Epoch 377 tst: l 0.795 a 0.745 clct[np.int64(20), np.int64(20)] clct_ans[np.int64(20), np.int64(20)]  3.264sec\n"
     ]
    },
    {
     "name": "stdout",
     "output_type": "stream",
     "text": [
      "Epoch 378 tr: l 0.850 a 0.720 clct[np.int64(50), np.int64(50)] clct_ans[np.int64(50), np.int64(50)]  lr 0.024073 47.275sec(train) 21.188sec(infer)\n"
     ]
    },
    {
     "name": "stdout",
     "output_type": "stream",
     "text": [
      "Epoch 378 tst: l 0.792 a 0.745 clct[np.int64(20), np.int64(20)] clct_ans[np.int64(20), np.int64(20)]  3.295sec\n"
     ]
    },
    {
     "name": "stdout",
     "output_type": "stream",
     "text": [
      "Epoch 379 tr: l 0.839 a 0.722 clct[np.int64(52), np.int64(48)] clct_ans[np.int64(52), np.int64(48)]  lr 0.024070 46.717sec(train) 21.067sec(infer)\n"
     ]
    },
    {
     "name": "stdout",
     "output_type": "stream",
     "text": [
      "Epoch 379 tst: l 0.790 a 0.745 clct[np.int64(20), np.int64(20)] clct_ans[np.int64(20), np.int64(20)]  3.590sec\n"
     ]
    },
    {
     "name": "stdout",
     "output_type": "stream",
     "text": [
      "Epoch 380 tr: l 0.841 a 0.722 clct[np.int64(49), np.int64(51)] clct_ans[np.int64(49), np.int64(51)]  lr 0.024068 46.685sec(train) 21.147sec(infer)\n"
     ]
    },
    {
     "name": "stdout",
     "output_type": "stream",
     "text": [
      "Epoch 380 tst: l 0.788 a 0.746 clct[np.int64(20), np.int64(20)] clct_ans[np.int64(20), np.int64(20)]  3.519sec\n",
      "result written at output_dfca_gi/results.pickle\n",
      "checkpoint written at output_dfca_gi/checkpoint.pt\n"
     ]
    },
    {
     "name": "stdout",
     "output_type": "stream",
     "text": [
      "Epoch 381 tr: l 0.843 a 0.720 clct[np.int64(55), np.int64(45)] clct_ans[np.int64(55), np.int64(45)]  lr 0.024065 48.686sec(train) 21.055sec(infer)\n"
     ]
    },
    {
     "name": "stdout",
     "output_type": "stream",
     "text": [
      "Epoch 381 tst: l 0.787 a 0.746 clct[np.int64(20), np.int64(20)] clct_ans[np.int64(20), np.int64(20)]  3.287sec\n"
     ]
    },
    {
     "name": "stdout",
     "output_type": "stream",
     "text": [
      "Epoch 382 tr: l 0.827 a 0.724 clct[np.int64(51), np.int64(49)] clct_ans[np.int64(51), np.int64(49)]  lr 0.024063 48.805sec(train) 21.031sec(infer)\n"
     ]
    },
    {
     "name": "stdout",
     "output_type": "stream",
     "text": [
      "Epoch 382 tst: l 0.784 a 0.747 clct[np.int64(20), np.int64(20)] clct_ans[np.int64(20), np.int64(20)]  3.620sec\n"
     ]
    },
    {
     "name": "stdout",
     "output_type": "stream",
     "text": [
      "Epoch 383 tr: l 0.837 a 0.722 clct[np.int64(55), np.int64(45)] clct_ans[np.int64(55), np.int64(45)]  lr 0.024061 47.965sec(train) 21.136sec(infer)\n"
     ]
    },
    {
     "name": "stdout",
     "output_type": "stream",
     "text": [
      "Epoch 383 tst: l 0.785 a 0.747 clct[np.int64(20), np.int64(20)] clct_ans[np.int64(20), np.int64(20)]  3.560sec\n"
     ]
    },
    {
     "name": "stdout",
     "output_type": "stream",
     "text": [
      "Epoch 384 tr: l 0.830 a 0.724 clct[np.int64(48), np.int64(52)] clct_ans[np.int64(48), np.int64(52)]  lr 0.024058 48.230sec(train) 21.003sec(infer)\n"
     ]
    },
    {
     "name": "stdout",
     "output_type": "stream",
     "text": [
      "Epoch 384 tst: l 0.784 a 0.746 clct[np.int64(20), np.int64(20)] clct_ans[np.int64(20), np.int64(20)]  3.314sec\n"
     ]
    },
    {
     "name": "stdout",
     "output_type": "stream",
     "text": [
      "Epoch 385 tr: l 0.840 a 0.723 clct[np.int64(50), np.int64(50)] clct_ans[np.int64(50), np.int64(50)]  lr 0.024056 47.506sec(train) 20.994sec(infer)\n"
     ]
    },
    {
     "name": "stdout",
     "output_type": "stream",
     "text": [
      "Epoch 385 tst: l 0.784 a 0.747 clct[np.int64(20), np.int64(20)] clct_ans[np.int64(20), np.int64(20)]  3.303sec\n"
     ]
    },
    {
     "name": "stdout",
     "output_type": "stream",
     "text": [
      "Epoch 386 tr: l 0.837 a 0.723 clct[np.int64(47), np.int64(53)] clct_ans[np.int64(47), np.int64(53)]  lr 0.024053 47.078sec(train) 21.253sec(infer)\n"
     ]
    },
    {
     "name": "stdout",
     "output_type": "stream",
     "text": [
      "Epoch 386 tst: l 0.781 a 0.747 clct[np.int64(20), np.int64(20)] clct_ans[np.int64(20), np.int64(20)]  3.300sec\n"
     ]
    },
    {
     "name": "stdout",
     "output_type": "stream",
     "text": [
      "Epoch 387 tr: l 0.834 a 0.727 clct[np.int64(52), np.int64(48)] clct_ans[np.int64(52), np.int64(48)]  lr 0.024051 46.291sec(train) 21.082sec(infer)\n"
     ]
    },
    {
     "name": "stdout",
     "output_type": "stream",
     "text": [
      "Epoch 387 tst: l 0.780 a 0.746 clct[np.int64(20), np.int64(20)] clct_ans[np.int64(20), np.int64(20)]  3.296sec\n"
     ]
    },
    {
     "name": "stdout",
     "output_type": "stream",
     "text": [
      "Epoch 388 tr: l 0.826 a 0.725 clct[np.int64(48), np.int64(52)] clct_ans[np.int64(48), np.int64(52)]  lr 0.024049 47.029sec(train) 21.072sec(infer)\n"
     ]
    },
    {
     "name": "stdout",
     "output_type": "stream",
     "text": [
      "Epoch 388 tst: l 0.778 a 0.747 clct[np.int64(20), np.int64(20)] clct_ans[np.int64(20), np.int64(20)]  3.356sec\n"
     ]
    },
    {
     "name": "stdout",
     "output_type": "stream",
     "text": [
      "Epoch 389 tr: l 0.819 a 0.726 clct[np.int64(50), np.int64(50)] clct_ans[np.int64(50), np.int64(50)]  lr 0.024046 46.947sec(train) 21.252sec(infer)\n"
     ]
    },
    {
     "name": "stdout",
     "output_type": "stream",
     "text": [
      "Epoch 389 tst: l 0.779 a 0.746 clct[np.int64(20), np.int64(20)] clct_ans[np.int64(20), np.int64(20)]  3.394sec\n"
     ]
    },
    {
     "name": "stdout",
     "output_type": "stream",
     "text": [
      "Epoch 390 tr: l 0.817 a 0.728 clct[np.int64(59), np.int64(41)] clct_ans[np.int64(59), np.int64(41)]  lr 0.024044 46.638sec(train) 21.452sec(infer)\n"
     ]
    },
    {
     "name": "stdout",
     "output_type": "stream",
     "text": [
      "Epoch 390 tst: l 0.777 a 0.748 clct[np.int64(20), np.int64(20)] clct_ans[np.int64(20), np.int64(20)]  3.239sec\n",
      "result written at output_dfca_gi/results.pickle\n",
      "checkpoint written at output_dfca_gi/checkpoint.pt\n"
     ]
    },
    {
     "name": "stdout",
     "output_type": "stream",
     "text": [
      "Epoch 391 tr: l 0.831 a 0.725 clct[np.int64(52), np.int64(48)] clct_ans[np.int64(52), np.int64(48)]  lr 0.024041 47.467sec(train) 21.087sec(infer)\n"
     ]
    },
    {
     "name": "stdout",
     "output_type": "stream",
     "text": [
      "Epoch 391 tst: l 0.777 a 0.748 clct[np.int64(20), np.int64(20)] clct_ans[np.int64(20), np.int64(20)]  3.519sec\n"
     ]
    },
    {
     "name": "stdout",
     "output_type": "stream",
     "text": [
      "Epoch 392 tr: l 0.821 a 0.727 clct[np.int64(50), np.int64(50)] clct_ans[np.int64(50), np.int64(50)]  lr 0.024039 46.300sec(train) 21.445sec(infer)\n"
     ]
    },
    {
     "name": "stdout",
     "output_type": "stream",
     "text": [
      "Epoch 392 tst: l 0.774 a 0.748 clct[np.int64(20), np.int64(20)] clct_ans[np.int64(20), np.int64(20)]  3.246sec\n"
     ]
    },
    {
     "name": "stdout",
     "output_type": "stream",
     "text": [
      "Epoch 393 tr: l 0.823 a 0.726 clct[np.int64(51), np.int64(49)] clct_ans[np.int64(51), np.int64(49)]  lr 0.024037 47.481sec(train) 21.136sec(infer)\n"
     ]
    },
    {
     "name": "stdout",
     "output_type": "stream",
     "text": [
      "Epoch 393 tst: l 0.774 a 0.749 clct[np.int64(20), np.int64(20)] clct_ans[np.int64(20), np.int64(20)]  3.228sec\n"
     ]
    },
    {
     "name": "stdout",
     "output_type": "stream",
     "text": [
      "Epoch 394 tr: l 0.830 a 0.724 clct[np.int64(53), np.int64(47)] clct_ans[np.int64(53), np.int64(47)]  lr 0.024034 47.297sec(train) 21.118sec(infer)\n"
     ]
    },
    {
     "name": "stdout",
     "output_type": "stream",
     "text": [
      "Epoch 394 tst: l 0.775 a 0.748 clct[np.int64(20), np.int64(20)] clct_ans[np.int64(20), np.int64(20)]  3.383sec\n"
     ]
    },
    {
     "name": "stdout",
     "output_type": "stream",
     "text": [
      "Epoch 395 tr: l 0.805 a 0.730 clct[np.int64(50), np.int64(50)] clct_ans[np.int64(50), np.int64(50)]  lr 0.024032 46.169sec(train) 21.223sec(infer)\n"
     ]
    },
    {
     "name": "stdout",
     "output_type": "stream",
     "text": [
      "Epoch 395 tst: l 0.772 a 0.749 clct[np.int64(20), np.int64(20)] clct_ans[np.int64(20), np.int64(20)]  3.417sec\n"
     ]
    },
    {
     "name": "stdout",
     "output_type": "stream",
     "text": [
      "Epoch 396 tr: l 0.812 a 0.729 clct[np.int64(47), np.int64(53)] clct_ans[np.int64(47), np.int64(53)]  lr 0.024029 47.049sec(train) 21.328sec(infer)\n"
     ]
    },
    {
     "name": "stdout",
     "output_type": "stream",
     "text": [
      "Epoch 396 tst: l 0.773 a 0.749 clct[np.int64(20), np.int64(20)] clct_ans[np.int64(20), np.int64(20)]  3.268sec\n"
     ]
    },
    {
     "name": "stdout",
     "output_type": "stream",
     "text": [
      "Epoch 397 tr: l 0.822 a 0.724 clct[np.int64(49), np.int64(51)] clct_ans[np.int64(49), np.int64(51)]  lr 0.024027 48.126sec(train) 21.405sec(infer)\n"
     ]
    },
    {
     "name": "stdout",
     "output_type": "stream",
     "text": [
      "Epoch 397 tst: l 0.772 a 0.748 clct[np.int64(20), np.int64(20)] clct_ans[np.int64(20), np.int64(20)]  3.365sec\n"
     ]
    },
    {
     "name": "stdout",
     "output_type": "stream",
     "text": [
      "Epoch 398 tr: l 0.810 a 0.728 clct[np.int64(49), np.int64(51)] clct_ans[np.int64(49), np.int64(51)]  lr 0.024024 46.682sec(train) 21.273sec(infer)\n"
     ]
    },
    {
     "name": "stdout",
     "output_type": "stream",
     "text": [
      "Epoch 398 tst: l 0.769 a 0.748 clct[np.int64(20), np.int64(20)] clct_ans[np.int64(20), np.int64(20)]  3.350sec\n"
     ]
    },
    {
     "name": "stdout",
     "output_type": "stream",
     "text": [
      "Epoch 399 tr: l 0.808 a 0.729 clct[np.int64(53), np.int64(47)] clct_ans[np.int64(53), np.int64(47)]  lr 0.024022 47.560sec(train) 21.072sec(infer)\n"
     ]
    },
    {
     "name": "stdout",
     "output_type": "stream",
     "text": [
      "Epoch 399 tst: l 0.769 a 0.748 clct[np.int64(20), np.int64(20)] clct_ans[np.int64(20), np.int64(20)]  3.340sec\n"
     ]
    },
    {
     "name": "stdout",
     "output_type": "stream",
     "text": [
      "Epoch 400 tr: l 0.804 a 0.730 clct[np.int64(54), np.int64(46)] clct_ans[np.int64(54), np.int64(46)]  lr 0.024020 46.743sec(train) 21.234sec(infer)\n"
     ]
    },
    {
     "name": "stdout",
     "output_type": "stream",
     "text": [
      "Epoch 400 tst: l 0.769 a 0.749 clct[np.int64(20), np.int64(20)] clct_ans[np.int64(20), np.int64(20)]  3.452sec\n",
      "result written at output_dfca_gi/results.pickle\n",
      "checkpoint written at output_dfca_gi/checkpoint.pt\n"
     ]
    },
    {
     "name": "stdout",
     "output_type": "stream",
     "text": [
      "Epoch 401 tr: l 0.810 a 0.731 clct[np.int64(52), np.int64(48)] clct_ans[np.int64(52), np.int64(48)]  lr 0.024017 47.066sec(train) 21.432sec(infer)\n"
     ]
    },
    {
     "name": "stdout",
     "output_type": "stream",
     "text": [
      "Epoch 401 tst: l 0.769 a 0.749 clct[np.int64(20), np.int64(20)] clct_ans[np.int64(20), np.int64(20)]  3.259sec\n"
     ]
    },
    {
     "name": "stdout",
     "output_type": "stream",
     "text": [
      "Epoch 402 tr: l 0.799 a 0.733 clct[np.int64(50), np.int64(50)] clct_ans[np.int64(50), np.int64(50)]  lr 0.024015 45.133sec(train) 21.068sec(infer)\n"
     ]
    },
    {
     "name": "stdout",
     "output_type": "stream",
     "text": [
      "Epoch 402 tst: l 0.768 a 0.749 clct[np.int64(20), np.int64(20)] clct_ans[np.int64(20), np.int64(20)]  3.546sec\n"
     ]
    },
    {
     "name": "stdout",
     "output_type": "stream",
     "text": [
      "Epoch 403 tr: l 0.811 a 0.729 clct[np.int64(46), np.int64(54)] clct_ans[np.int64(46), np.int64(54)]  lr 0.024012 46.871sec(train) 21.157sec(infer)\n"
     ]
    },
    {
     "name": "stdout",
     "output_type": "stream",
     "text": [
      "Epoch 403 tst: l 0.767 a 0.749 clct[np.int64(20), np.int64(20)] clct_ans[np.int64(20), np.int64(20)]  3.514sec\n"
     ]
    },
    {
     "name": "stdout",
     "output_type": "stream",
     "text": [
      "Epoch 404 tr: l 0.812 a 0.730 clct[np.int64(53), np.int64(47)] clct_ans[np.int64(53), np.int64(47)]  lr 0.024010 46.847sec(train) 21.543sec(infer)\n"
     ]
    },
    {
     "name": "stdout",
     "output_type": "stream",
     "text": [
      "Epoch 404 tst: l 0.767 a 0.750 clct[np.int64(20), np.int64(20)] clct_ans[np.int64(20), np.int64(20)]  3.237sec\n"
     ]
    },
    {
     "name": "stdout",
     "output_type": "stream",
     "text": [
      "Epoch 405 tr: l 0.801 a 0.732 clct[np.int64(49), np.int64(51)] clct_ans[np.int64(49), np.int64(51)]  lr 0.024008 47.044sec(train) 21.055sec(infer)\n"
     ]
    },
    {
     "name": "stdout",
     "output_type": "stream",
     "text": [
      "Epoch 405 tst: l 0.764 a 0.751 clct[np.int64(20), np.int64(20)] clct_ans[np.int64(20), np.int64(20)]  3.303sec\n"
     ]
    },
    {
     "name": "stdout",
     "output_type": "stream",
     "text": [
      "Epoch 406 tr: l 0.798 a 0.731 clct[np.int64(49), np.int64(51)] clct_ans[np.int64(49), np.int64(51)]  lr 0.024005 47.352sec(train) 21.299sec(infer)\n"
     ]
    },
    {
     "name": "stdout",
     "output_type": "stream",
     "text": [
      "Epoch 406 tst: l 0.765 a 0.750 clct[np.int64(20), np.int64(20)] clct_ans[np.int64(20), np.int64(20)]  3.695sec\n"
     ]
    },
    {
     "name": "stdout",
     "output_type": "stream",
     "text": [
      "Epoch 407 tr: l 0.801 a 0.729 clct[np.int64(56), np.int64(44)] clct_ans[np.int64(56), np.int64(44)]  lr 0.024003 47.749sec(train) 21.316sec(infer)\n"
     ]
    },
    {
     "name": "stdout",
     "output_type": "stream",
     "text": [
      "Epoch 407 tst: l 0.764 a 0.751 clct[np.int64(20), np.int64(20)] clct_ans[np.int64(20), np.int64(20)]  3.291sec\n"
     ]
    },
    {
     "name": "stdout",
     "output_type": "stream",
     "text": [
      "Epoch 408 tr: l 0.798 a 0.735 clct[np.int64(46), np.int64(54)] clct_ans[np.int64(46), np.int64(54)]  lr 0.024000 46.557sec(train) 21.217sec(infer)\n"
     ]
    },
    {
     "name": "stdout",
     "output_type": "stream",
     "text": [
      "Epoch 408 tst: l 0.763 a 0.751 clct[np.int64(20), np.int64(20)] clct_ans[np.int64(20), np.int64(20)]  3.337sec\n"
     ]
    },
    {
     "name": "stdout",
     "output_type": "stream",
     "text": [
      "Epoch 409 tr: l 0.796 a 0.731 clct[np.int64(49), np.int64(51)] clct_ans[np.int64(49), np.int64(51)]  lr 0.023998 47.477sec(train) 21.191sec(infer)\n"
     ]
    },
    {
     "name": "stdout",
     "output_type": "stream",
     "text": [
      "Epoch 409 tst: l 0.762 a 0.750 clct[np.int64(20), np.int64(20)] clct_ans[np.int64(20), np.int64(20)]  3.702sec\n"
     ]
    },
    {
     "name": "stdout",
     "output_type": "stream",
     "text": [
      "Epoch 410 tr: l 0.795 a 0.734 clct[np.int64(43), np.int64(57)] clct_ans[np.int64(43), np.int64(57)]  lr 0.023996 46.378sec(train) 21.159sec(infer)\n"
     ]
    },
    {
     "name": "stdout",
     "output_type": "stream",
     "text": [
      "Epoch 410 tst: l 0.762 a 0.750 clct[np.int64(20), np.int64(20)] clct_ans[np.int64(20), np.int64(20)]  3.374sec\n",
      "result written at output_dfca_gi/results.pickle\n",
      "checkpoint written at output_dfca_gi/checkpoint.pt\n"
     ]
    },
    {
     "name": "stdout",
     "output_type": "stream",
     "text": [
      "Epoch 411 tr: l 0.800 a 0.730 clct[np.int64(50), np.int64(50)] clct_ans[np.int64(50), np.int64(50)]  lr 0.023993 46.314sec(train) 21.040sec(infer)\n"
     ]
    },
    {
     "name": "stdout",
     "output_type": "stream",
     "text": [
      "Epoch 411 tst: l 0.761 a 0.749 clct[np.int64(20), np.int64(20)] clct_ans[np.int64(20), np.int64(20)]  3.313sec\n"
     ]
    },
    {
     "name": "stdout",
     "output_type": "stream",
     "text": [
      "Epoch 412 tr: l 0.792 a 0.734 clct[np.int64(47), np.int64(53)] clct_ans[np.int64(47), np.int64(53)]  lr 0.023991 47.825sec(train) 21.145sec(infer)\n"
     ]
    },
    {
     "name": "stdout",
     "output_type": "stream",
     "text": [
      "Epoch 412 tst: l 0.760 a 0.750 clct[np.int64(20), np.int64(20)] clct_ans[np.int64(20), np.int64(20)]  3.401sec\n"
     ]
    },
    {
     "name": "stdout",
     "output_type": "stream",
     "text": [
      "Epoch 413 tr: l 0.801 a 0.732 clct[np.int64(50), np.int64(50)] clct_ans[np.int64(50), np.int64(50)]  lr 0.023988 46.676sec(train) 21.308sec(infer)\n"
     ]
    },
    {
     "name": "stdout",
     "output_type": "stream",
     "text": [
      "Epoch 413 tst: l 0.760 a 0.751 clct[np.int64(20), np.int64(20)] clct_ans[np.int64(20), np.int64(20)]  3.436sec\n"
     ]
    },
    {
     "name": "stdout",
     "output_type": "stream",
     "text": [
      "Epoch 414 tr: l 0.794 a 0.734 clct[np.int64(52), np.int64(48)] clct_ans[np.int64(52), np.int64(48)]  lr 0.023986 46.872sec(train) 20.978sec(infer)\n"
     ]
    },
    {
     "name": "stdout",
     "output_type": "stream",
     "text": [
      "Epoch 414 tst: l 0.759 a 0.751 clct[np.int64(20), np.int64(20)] clct_ans[np.int64(20), np.int64(20)]  3.267sec\n"
     ]
    },
    {
     "name": "stdout",
     "output_type": "stream",
     "text": [
      "Epoch 415 tr: l 0.786 a 0.735 clct[np.int64(48), np.int64(52)] clct_ans[np.int64(48), np.int64(52)]  lr 0.023984 46.733sec(train) 21.067sec(infer)\n"
     ]
    },
    {
     "name": "stdout",
     "output_type": "stream",
     "text": [
      "Epoch 415 tst: l 0.757 a 0.751 clct[np.int64(20), np.int64(20)] clct_ans[np.int64(20), np.int64(20)]  3.349sec\n"
     ]
    },
    {
     "name": "stdout",
     "output_type": "stream",
     "text": [
      "Epoch 416 tr: l 0.800 a 0.732 clct[np.int64(50), np.int64(50)] clct_ans[np.int64(50), np.int64(50)]  lr 0.023981 47.899sec(train) 21.376sec(infer)\n"
     ]
    },
    {
     "name": "stdout",
     "output_type": "stream",
     "text": [
      "Epoch 416 tst: l 0.757 a 0.753 clct[np.int64(20), np.int64(20)] clct_ans[np.int64(20), np.int64(20)]  3.393sec\n"
     ]
    },
    {
     "name": "stdout",
     "output_type": "stream",
     "text": [
      "Epoch 417 tr: l 0.789 a 0.733 clct[np.int64(50), np.int64(50)] clct_ans[np.int64(50), np.int64(50)]  lr 0.023979 46.707sec(train) 21.472sec(infer)\n"
     ]
    },
    {
     "name": "stdout",
     "output_type": "stream",
     "text": [
      "Epoch 417 tst: l 0.756 a 0.754 clct[np.int64(20), np.int64(20)] clct_ans[np.int64(20), np.int64(20)]  3.492sec\n"
     ]
    },
    {
     "name": "stdout",
     "output_type": "stream",
     "text": [
      "Epoch 418 tr: l 0.797 a 0.733 clct[np.int64(47), np.int64(53)] clct_ans[np.int64(47), np.int64(53)]  lr 0.023976 45.945sec(train) 22.479sec(infer)\n"
     ]
    },
    {
     "name": "stdout",
     "output_type": "stream",
     "text": [
      "Epoch 418 tst: l 0.758 a 0.752 clct[np.int64(20), np.int64(20)] clct_ans[np.int64(20), np.int64(20)]  3.821sec\n"
     ]
    },
    {
     "name": "stdout",
     "output_type": "stream",
     "text": [
      "Epoch 419 tr: l 0.789 a 0.733 clct[np.int64(51), np.int64(49)] clct_ans[np.int64(51), np.int64(49)]  lr 0.023974 47.368sec(train) 21.751sec(infer)\n"
     ]
    },
    {
     "name": "stdout",
     "output_type": "stream",
     "text": [
      "Epoch 419 tst: l 0.755 a 0.753 clct[np.int64(20), np.int64(20)] clct_ans[np.int64(20), np.int64(20)]  3.463sec\n"
     ]
    },
    {
     "name": "stdout",
     "output_type": "stream",
     "text": [
      "Epoch 420 tr: l 0.786 a 0.736 clct[np.int64(50), np.int64(50)] clct_ans[np.int64(50), np.int64(50)]  lr 0.023972 46.355sec(train) 22.150sec(infer)\n"
     ]
    },
    {
     "name": "stdout",
     "output_type": "stream",
     "text": [
      "Epoch 420 tst: l 0.757 a 0.754 clct[np.int64(20), np.int64(20)] clct_ans[np.int64(20), np.int64(20)]  3.639sec\n",
      "result written at output_dfca_gi/results.pickle\n",
      "checkpoint written at output_dfca_gi/checkpoint.pt\n"
     ]
    },
    {
     "name": "stdout",
     "output_type": "stream",
     "text": [
      "Epoch 421 tr: l 0.792 a 0.735 clct[np.int64(49), np.int64(51)] clct_ans[np.int64(49), np.int64(51)]  lr 0.023969 46.797sec(train) 21.689sec(infer)\n"
     ]
    },
    {
     "name": "stdout",
     "output_type": "stream",
     "text": [
      "Epoch 421 tst: l 0.756 a 0.753 clct[np.int64(20), np.int64(20)] clct_ans[np.int64(20), np.int64(20)]  3.924sec\n"
     ]
    },
    {
     "name": "stdout",
     "output_type": "stream",
     "text": [
      "Epoch 422 tr: l 0.791 a 0.736 clct[np.int64(44), np.int64(56)] clct_ans[np.int64(44), np.int64(56)]  lr 0.023967 48.981sec(train) 21.699sec(infer)\n"
     ]
    },
    {
     "name": "stdout",
     "output_type": "stream",
     "text": [
      "Epoch 422 tst: l 0.756 a 0.753 clct[np.int64(20), np.int64(20)] clct_ans[np.int64(20), np.int64(20)]  3.616sec\n"
     ]
    },
    {
     "name": "stdout",
     "output_type": "stream",
     "text": [
      "Epoch 423 tr: l 0.791 a 0.733 clct[np.int64(54), np.int64(46)] clct_ans[np.int64(54), np.int64(46)]  lr 0.023965 51.531sec(train) 22.295sec(infer)\n"
     ]
    },
    {
     "name": "stdout",
     "output_type": "stream",
     "text": [
      "Epoch 423 tst: l 0.753 a 0.754 clct[np.int64(20), np.int64(20)] clct_ans[np.int64(20), np.int64(20)]  3.674sec\n"
     ]
    },
    {
     "name": "stdout",
     "output_type": "stream",
     "text": [
      "Epoch 424 tr: l 0.786 a 0.735 clct[np.int64(49), np.int64(51)] clct_ans[np.int64(49), np.int64(51)]  lr 0.023962 49.195sec(train) 22.807sec(infer)\n"
     ]
    },
    {
     "name": "stdout",
     "output_type": "stream",
     "text": [
      "Epoch 424 tst: l 0.752 a 0.753 clct[np.int64(20), np.int64(20)] clct_ans[np.int64(20), np.int64(20)]  4.032sec\n"
     ]
    },
    {
     "name": "stdout",
     "output_type": "stream",
     "text": [
      "Epoch 425 tr: l 0.797 a 0.731 clct[np.int64(45), np.int64(55)] clct_ans[np.int64(45), np.int64(55)]  lr 0.023960 50.484sec(train) 22.312sec(infer)\n"
     ]
    },
    {
     "name": "stdout",
     "output_type": "stream",
     "text": [
      "Epoch 425 tst: l 0.751 a 0.753 clct[np.int64(20), np.int64(20)] clct_ans[np.int64(20), np.int64(20)]  3.656sec\n"
     ]
    },
    {
     "name": "stdout",
     "output_type": "stream",
     "text": [
      "Epoch 426 tr: l 0.787 a 0.736 clct[np.int64(55), np.int64(45)] clct_ans[np.int64(55), np.int64(45)]  lr 0.023957 46.531sec(train) 23.887sec(infer)\n"
     ]
    },
    {
     "name": "stdout",
     "output_type": "stream",
     "text": [
      "Epoch 426 tst: l 0.751 a 0.753 clct[np.int64(20), np.int64(20)] clct_ans[np.int64(20), np.int64(20)]  4.431sec\n"
     ]
    },
    {
     "name": "stdout",
     "output_type": "stream",
     "text": [
      "Epoch 427 tr: l 0.785 a 0.734 clct[np.int64(55), np.int64(45)] clct_ans[np.int64(55), np.int64(45)]  lr 0.023955 48.690sec(train) 22.389sec(infer)\n"
     ]
    },
    {
     "name": "stdout",
     "output_type": "stream",
     "text": [
      "Epoch 427 tst: l 0.751 a 0.752 clct[np.int64(20), np.int64(20)] clct_ans[np.int64(20), np.int64(20)]  3.964sec\n"
     ]
    },
    {
     "name": "stdout",
     "output_type": "stream",
     "text": [
      "Epoch 428 tr: l 0.785 a 0.732 clct[np.int64(54), np.int64(46)] clct_ans[np.int64(54), np.int64(46)]  lr 0.023953 50.225sec(train) 23.190sec(infer)\n"
     ]
    },
    {
     "name": "stdout",
     "output_type": "stream",
     "text": [
      "Epoch 428 tst: l 0.750 a 0.753 clct[np.int64(20), np.int64(20)] clct_ans[np.int64(20), np.int64(20)]  3.756sec\n"
     ]
    },
    {
     "name": "stdout",
     "output_type": "stream",
     "text": [
      "Epoch 429 tr: l 0.786 a 0.735 clct[np.int64(50), np.int64(50)] clct_ans[np.int64(50), np.int64(50)]  lr 0.023950 49.146sec(train) 22.218sec(infer)\n"
     ]
    },
    {
     "name": "stdout",
     "output_type": "stream",
     "text": [
      "Epoch 429 tst: l 0.750 a 0.753 clct[np.int64(20), np.int64(20)] clct_ans[np.int64(20), np.int64(20)]  3.824sec\n"
     ]
    },
    {
     "name": "stdout",
     "output_type": "stream",
     "text": [
      "Epoch 430 tr: l 0.782 a 0.737 clct[np.int64(44), np.int64(56)] clct_ans[np.int64(44), np.int64(56)]  lr 0.023948 51.814sec(train) 22.368sec(infer)\n"
     ]
    },
    {
     "name": "stdout",
     "output_type": "stream",
     "text": [
      "Epoch 430 tst: l 0.748 a 0.753 clct[np.int64(20), np.int64(20)] clct_ans[np.int64(20), np.int64(20)]  3.745sec\n",
      "result written at output_dfca_gi/results.pickle\n",
      "checkpoint written at output_dfca_gi/checkpoint.pt\n"
     ]
    },
    {
     "name": "stdout",
     "output_type": "stream",
     "text": [
      "Epoch 431 tr: l 0.782 a 0.737 clct[np.int64(49), np.int64(51)] clct_ans[np.int64(49), np.int64(51)]  lr 0.023945 49.140sec(train) 23.262sec(infer)\n"
     ]
    },
    {
     "name": "stdout",
     "output_type": "stream",
     "text": [
      "Epoch 431 tst: l 0.748 a 0.753 clct[np.int64(20), np.int64(20)] clct_ans[np.int64(20), np.int64(20)]  4.183sec\n"
     ]
    },
    {
     "name": "stdout",
     "output_type": "stream",
     "text": [
      "Epoch 432 tr: l 0.775 a 0.738 clct[np.int64(48), np.int64(52)] clct_ans[np.int64(48), np.int64(52)]  lr 0.023943 49.768sec(train) 22.261sec(infer)\n"
     ]
    },
    {
     "name": "stdout",
     "output_type": "stream",
     "text": [
      "Epoch 432 tst: l 0.746 a 0.755 clct[np.int64(20), np.int64(20)] clct_ans[np.int64(20), np.int64(20)]  3.932sec\n"
     ]
    },
    {
     "name": "stdout",
     "output_type": "stream",
     "text": [
      "Epoch 433 tr: l 0.790 a 0.732 clct[np.int64(49), np.int64(51)] clct_ans[np.int64(49), np.int64(51)]  lr 0.023941 48.561sec(train) 23.032sec(infer)\n"
     ]
    },
    {
     "name": "stdout",
     "output_type": "stream",
     "text": [
      "Epoch 433 tst: l 0.750 a 0.752 clct[np.int64(20), np.int64(20)] clct_ans[np.int64(20), np.int64(20)]  3.893sec\n"
     ]
    },
    {
     "name": "stdout",
     "output_type": "stream",
     "text": [
      "Epoch 434 tr: l 0.770 a 0.740 clct[np.int64(52), np.int64(48)] clct_ans[np.int64(52), np.int64(48)]  lr 0.023938 48.515sec(train) 21.989sec(infer)\n"
     ]
    },
    {
     "name": "stdout",
     "output_type": "stream",
     "text": [
      "Epoch 434 tst: l 0.747 a 0.753 clct[np.int64(20), np.int64(20)] clct_ans[np.int64(20), np.int64(20)]  3.842sec\n"
     ]
    },
    {
     "name": "stdout",
     "output_type": "stream",
     "text": [
      "Epoch 435 tr: l 0.783 a 0.736 clct[np.int64(58), np.int64(42)] clct_ans[np.int64(58), np.int64(42)]  lr 0.023936 50.950sec(train) 21.849sec(infer)\n"
     ]
    },
    {
     "name": "stdout",
     "output_type": "stream",
     "text": [
      "Epoch 435 tst: l 0.750 a 0.751 clct[np.int64(20), np.int64(20)] clct_ans[np.int64(20), np.int64(20)]  3.976sec\n"
     ]
    },
    {
     "name": "stdout",
     "output_type": "stream",
     "text": [
      "Epoch 436 tr: l 0.771 a 0.741 clct[np.int64(53), np.int64(47)] clct_ans[np.int64(53), np.int64(47)]  lr 0.023933 49.798sec(train) 21.709sec(infer)\n"
     ]
    },
    {
     "name": "stdout",
     "output_type": "stream",
     "text": [
      "Epoch 436 tst: l 0.749 a 0.751 clct[np.int64(20), np.int64(20)] clct_ans[np.int64(20), np.int64(20)]  3.598sec\n"
     ]
    },
    {
     "name": "stdout",
     "output_type": "stream",
     "text": [
      "Epoch 437 tr: l 0.771 a 0.738 clct[np.int64(53), np.int64(47)] clct_ans[np.int64(53), np.int64(47)]  lr 0.023931 49.411sec(train) 21.321sec(infer)\n"
     ]
    },
    {
     "name": "stdout",
     "output_type": "stream",
     "text": [
      "Epoch 437 tst: l 0.748 a 0.753 clct[np.int64(20), np.int64(20)] clct_ans[np.int64(20), np.int64(20)]  3.416sec\n"
     ]
    },
    {
     "name": "stdout",
     "output_type": "stream",
     "text": [
      "Epoch 438 tr: l 0.779 a 0.738 clct[np.int64(54), np.int64(46)] clct_ans[np.int64(54), np.int64(46)]  lr 0.023929 49.005sec(train) 21.615sec(infer)\n"
     ]
    },
    {
     "name": "stdout",
     "output_type": "stream",
     "text": [
      "Epoch 438 tst: l 0.747 a 0.753 clct[np.int64(20), np.int64(20)] clct_ans[np.int64(20), np.int64(20)]  3.285sec\n"
     ]
    },
    {
     "name": "stdout",
     "output_type": "stream",
     "text": [
      "Epoch 439 tr: l 0.776 a 0.737 clct[np.int64(50), np.int64(50)] clct_ans[np.int64(50), np.int64(50)]  lr 0.023926 49.077sec(train) 21.084sec(infer)\n"
     ]
    },
    {
     "name": "stdout",
     "output_type": "stream",
     "text": [
      "Epoch 439 tst: l 0.745 a 0.754 clct[np.int64(20), np.int64(20)] clct_ans[np.int64(20), np.int64(20)]  3.482sec\n"
     ]
    },
    {
     "name": "stdout",
     "output_type": "stream",
     "text": [
      "Epoch 440 tr: l 0.783 a 0.735 clct[np.int64(45), np.int64(55)] clct_ans[np.int64(45), np.int64(55)]  lr 0.023924 48.821sec(train) 21.527sec(infer)\n"
     ]
    },
    {
     "name": "stdout",
     "output_type": "stream",
     "text": [
      "Epoch 440 tst: l 0.747 a 0.752 clct[np.int64(20), np.int64(20)] clct_ans[np.int64(20), np.int64(20)]  3.739sec\n",
      "result written at output_dfca_gi/results.pickle\n"
     ]
    },
    {
     "name": "stdout",
     "output_type": "stream",
     "text": [
      "checkpoint written at output_dfca_gi/checkpoint.pt\n"
     ]
    },
    {
     "name": "stdout",
     "output_type": "stream",
     "text": [
      "Epoch 441 tr: l 0.771 a 0.740 clct[np.int64(50), np.int64(50)] clct_ans[np.int64(50), np.int64(50)]  lr 0.023921 48.831sec(train) 21.553sec(infer)\n"
     ]
    },
    {
     "name": "stdout",
     "output_type": "stream",
     "text": [
      "Epoch 441 tst: l 0.743 a 0.754 clct[np.int64(20), np.int64(20)] clct_ans[np.int64(20), np.int64(20)]  3.274sec\n"
     ]
    },
    {
     "name": "stdout",
     "output_type": "stream",
     "text": [
      "Epoch 442 tr: l 0.780 a 0.737 clct[np.int64(46), np.int64(54)] clct_ans[np.int64(46), np.int64(54)]  lr 0.023919 45.933sec(train) 21.615sec(infer)\n"
     ]
    },
    {
     "name": "stdout",
     "output_type": "stream",
     "text": [
      "Epoch 442 tst: l 0.744 a 0.754 clct[np.int64(20), np.int64(20)] clct_ans[np.int64(20), np.int64(20)]  3.703sec\n"
     ]
    },
    {
     "name": "stdout",
     "output_type": "stream",
     "text": [
      "Epoch 443 tr: l 0.775 a 0.739 clct[np.int64(46), np.int64(54)] clct_ans[np.int64(46), np.int64(54)]  lr 0.023917 49.238sec(train) 21.820sec(infer)\n"
     ]
    },
    {
     "name": "stdout",
     "output_type": "stream",
     "text": [
      "Epoch 443 tst: l 0.744 a 0.754 clct[np.int64(20), np.int64(20)] clct_ans[np.int64(20), np.int64(20)]  3.667sec\n"
     ]
    },
    {
     "name": "stdout",
     "output_type": "stream",
     "text": [
      "Epoch 444 tr: l 0.775 a 0.737 clct[np.int64(52), np.int64(48)] clct_ans[np.int64(52), np.int64(48)]  lr 0.023914 48.318sec(train) 21.655sec(infer)\n"
     ]
    },
    {
     "name": "stdout",
     "output_type": "stream",
     "text": [
      "Epoch 444 tst: l 0.744 a 0.754 clct[np.int64(20), np.int64(20)] clct_ans[np.int64(20), np.int64(20)]  3.616sec\n"
     ]
    },
    {
     "name": "stdout",
     "output_type": "stream",
     "text": [
      "Epoch 445 tr: l 0.769 a 0.739 clct[np.int64(43), np.int64(57)] clct_ans[np.int64(43), np.int64(57)]  lr 0.023912 47.590sec(train) 22.343sec(infer)\n"
     ]
    },
    {
     "name": "stdout",
     "output_type": "stream",
     "text": [
      "Epoch 445 tst: l 0.744 a 0.754 clct[np.int64(20), np.int64(20)] clct_ans[np.int64(20), np.int64(20)]  3.537sec\n"
     ]
    },
    {
     "name": "stdout",
     "output_type": "stream",
     "text": [
      "Epoch 446 tr: l 0.775 a 0.741 clct[np.int64(52), np.int64(48)] clct_ans[np.int64(52), np.int64(48)]  lr 0.023909 47.105sec(train) 22.823sec(infer)\n"
     ]
    },
    {
     "name": "stdout",
     "output_type": "stream",
     "text": [
      "Epoch 446 tst: l 0.743 a 0.754 clct[np.int64(20), np.int64(20)] clct_ans[np.int64(20), np.int64(20)]  3.614sec\n"
     ]
    },
    {
     "name": "stdout",
     "output_type": "stream",
     "text": [
      "Epoch 447 tr: l 0.768 a 0.741 clct[np.int64(48), np.int64(52)] clct_ans[np.int64(48), np.int64(52)]  lr 0.023907 46.586sec(train) 22.537sec(infer)\n"
     ]
    },
    {
     "name": "stdout",
     "output_type": "stream",
     "text": [
      "Epoch 447 tst: l 0.743 a 0.753 clct[np.int64(20), np.int64(20)] clct_ans[np.int64(20), np.int64(20)]  3.698sec\n"
     ]
    },
    {
     "name": "stdout",
     "output_type": "stream",
     "text": [
      "Epoch 448 tr: l 0.771 a 0.739 clct[np.int64(50), np.int64(50)] clct_ans[np.int64(50), np.int64(50)]  lr 0.023905 47.665sec(train) 21.880sec(infer)\n"
     ]
    },
    {
     "name": "stdout",
     "output_type": "stream",
     "text": [
      "Epoch 448 tst: l 0.741 a 0.753 clct[np.int64(20), np.int64(20)] clct_ans[np.int64(20), np.int64(20)]  3.831sec\n"
     ]
    },
    {
     "name": "stdout",
     "output_type": "stream",
     "text": [
      "Epoch 449 tr: l 0.775 a 0.738 clct[np.int64(55), np.int64(45)] clct_ans[np.int64(55), np.int64(45)]  lr 0.023902 47.560sec(train) 21.600sec(infer)\n"
     ]
    },
    {
     "name": "stdout",
     "output_type": "stream",
     "text": [
      "Epoch 449 tst: l 0.745 a 0.752 clct[np.int64(20), np.int64(20)] clct_ans[np.int64(20), np.int64(20)]  3.643sec\n"
     ]
    },
    {
     "name": "stdout",
     "output_type": "stream",
     "text": [
      "Epoch 450 tr: l 0.768 a 0.741 clct[np.int64(53), np.int64(47)] clct_ans[np.int64(53), np.int64(47)]  lr 0.023900 49.539sec(train) 21.516sec(infer)\n"
     ]
    },
    {
     "name": "stdout",
     "output_type": "stream",
     "text": [
      "Epoch 450 tst: l 0.745 a 0.753 clct[np.int64(20), np.int64(20)] clct_ans[np.int64(20), np.int64(20)]  3.469sec\n",
      "result written at output_dfca_gi/results.pickle\n"
     ]
    },
    {
     "name": "stdout",
     "output_type": "stream",
     "text": [
      "checkpoint written at output_dfca_gi/checkpoint.pt\n"
     ]
    },
    {
     "name": "stdout",
     "output_type": "stream",
     "text": [
      "Epoch 451 tr: l 0.777 a 0.735 clct[np.int64(48), np.int64(52)] clct_ans[np.int64(48), np.int64(52)]  lr 0.023897 50.306sec(train) 21.613sec(infer)\n"
     ]
    },
    {
     "name": "stdout",
     "output_type": "stream",
     "text": [
      "Epoch 451 tst: l 0.743 a 0.754 clct[np.int64(20), np.int64(20)] clct_ans[np.int64(20), np.int64(20)]  3.490sec\n"
     ]
    },
    {
     "name": "stdout",
     "output_type": "stream",
     "text": [
      "Epoch 452 tr: l 0.765 a 0.741 clct[np.int64(50), np.int64(50)] clct_ans[np.int64(50), np.int64(50)]  lr 0.023895 50.068sec(train) 21.438sec(infer)\n"
     ]
    },
    {
     "name": "stdout",
     "output_type": "stream",
     "text": [
      "Epoch 452 tst: l 0.742 a 0.753 clct[np.int64(20), np.int64(20)] clct_ans[np.int64(20), np.int64(20)]  3.530sec\n"
     ]
    },
    {
     "name": "stdout",
     "output_type": "stream",
     "text": [
      "Epoch 453 tr: l 0.768 a 0.740 clct[np.int64(48), np.int64(52)] clct_ans[np.int64(48), np.int64(52)]  lr 0.023893 49.285sec(train) 22.328sec(infer)\n"
     ]
    },
    {
     "name": "stdout",
     "output_type": "stream",
     "text": [
      "Epoch 453 tst: l 0.743 a 0.754 clct[np.int64(20), np.int64(20)] clct_ans[np.int64(20), np.int64(20)]  3.515sec\n"
     ]
    },
    {
     "name": "stdout",
     "output_type": "stream",
     "text": [
      "Epoch 454 tr: l 0.776 a 0.739 clct[np.int64(44), np.int64(56)] clct_ans[np.int64(44), np.int64(56)]  lr 0.023890 48.842sec(train) 22.854sec(infer)\n"
     ]
    },
    {
     "name": "stdout",
     "output_type": "stream",
     "text": [
      "Epoch 454 tst: l 0.744 a 0.753 clct[np.int64(20), np.int64(20)] clct_ans[np.int64(20), np.int64(20)]  3.509sec\n"
     ]
    },
    {
     "name": "stdout",
     "output_type": "stream",
     "text": [
      "Epoch 455 tr: l 0.768 a 0.739 clct[np.int64(46), np.int64(54)] clct_ans[np.int64(46), np.int64(54)]  lr 0.023888 48.295sec(train) 22.611sec(infer)\n"
     ]
    },
    {
     "name": "stdout",
     "output_type": "stream",
     "text": [
      "Epoch 455 tst: l 0.742 a 0.753 clct[np.int64(20), np.int64(20)] clct_ans[np.int64(20), np.int64(20)]  4.412sec\n"
     ]
    },
    {
     "name": "stdout",
     "output_type": "stream",
     "text": [
      "Epoch 456 tr: l 0.773 a 0.739 clct[np.int64(51), np.int64(49)] clct_ans[np.int64(51), np.int64(49)]  lr 0.023886 49.732sec(train) 22.378sec(infer)\n"
     ]
    },
    {
     "name": "stdout",
     "output_type": "stream",
     "text": [
      "Epoch 456 tst: l 0.743 a 0.753 clct[np.int64(20), np.int64(20)] clct_ans[np.int64(20), np.int64(20)]  3.867sec\n"
     ]
    },
    {
     "name": "stdout",
     "output_type": "stream",
     "text": [
      "Epoch 457 tr: l 0.768 a 0.740 clct[np.int64(49), np.int64(51)] clct_ans[np.int64(49), np.int64(51)]  lr 0.023883 50.813sec(train) 22.688sec(infer)\n"
     ]
    },
    {
     "name": "stdout",
     "output_type": "stream",
     "text": [
      "Epoch 457 tst: l 0.741 a 0.754 clct[np.int64(20), np.int64(20)] clct_ans[np.int64(20), np.int64(20)]  3.772sec\n"
     ]
    },
    {
     "name": "stdout",
     "output_type": "stream",
     "text": [
      "Epoch 458 tr: l 0.762 a 0.742 clct[np.int64(51), np.int64(49)] clct_ans[np.int64(51), np.int64(49)]  lr 0.023881 49.449sec(train) 22.252sec(infer)\n"
     ]
    },
    {
     "name": "stdout",
     "output_type": "stream",
     "text": [
      "Epoch 458 tst: l 0.741 a 0.754 clct[np.int64(20), np.int64(20)] clct_ans[np.int64(20), np.int64(20)]  4.035sec\n"
     ]
    },
    {
     "name": "stdout",
     "output_type": "stream",
     "text": [
      "Epoch 459 tr: l 0.759 a 0.742 clct[np.int64(52), np.int64(48)] clct_ans[np.int64(52), np.int64(48)]  lr 0.023878 52.634sec(train) 22.384sec(infer)\n"
     ]
    },
    {
     "name": "stdout",
     "output_type": "stream",
     "text": [
      "Epoch 459 tst: l 0.740 a 0.754 clct[np.int64(20), np.int64(20)] clct_ans[np.int64(20), np.int64(20)]  3.866sec\n"
     ]
    },
    {
     "name": "stdout",
     "output_type": "stream",
     "text": [
      "Epoch 460 tr: l 0.771 a 0.739 clct[np.int64(45), np.int64(55)] clct_ans[np.int64(45), np.int64(55)]  lr 0.023876 48.400sec(train) 23.054sec(infer)\n"
     ]
    },
    {
     "name": "stdout",
     "output_type": "stream",
     "text": [
      "Epoch 460 tst: l 0.743 a 0.755 clct[np.int64(20), np.int64(20)] clct_ans[np.int64(20), np.int64(20)]  4.173sec\n",
      "result written at output_dfca_gi/results.pickle\n",
      "checkpoint written at output_dfca_gi/checkpoint.pt\n"
     ]
    },
    {
     "name": "stdout",
     "output_type": "stream",
     "text": [
      "Epoch 461 tr: l 0.765 a 0.740 clct[np.int64(54), np.int64(46)] clct_ans[np.int64(54), np.int64(46)]  lr 0.023874 53.130sec(train) 22.236sec(infer)\n"
     ]
    },
    {
     "name": "stdout",
     "output_type": "stream",
     "text": [
      "Epoch 461 tst: l 0.739 a 0.755 clct[np.int64(20), np.int64(20)] clct_ans[np.int64(20), np.int64(20)]  3.860sec\n"
     ]
    },
    {
     "name": "stdout",
     "output_type": "stream",
     "text": [
      "Epoch 462 tr: l 0.761 a 0.741 clct[np.int64(55), np.int64(45)] clct_ans[np.int64(55), np.int64(45)]  lr 0.023871 49.422sec(train) 23.557sec(infer)\n"
     ]
    },
    {
     "name": "stdout",
     "output_type": "stream",
     "text": [
      "Epoch 462 tst: l 0.739 a 0.754 clct[np.int64(20), np.int64(20)] clct_ans[np.int64(20), np.int64(20)]  3.876sec\n"
     ]
    },
    {
     "name": "stdout",
     "output_type": "stream",
     "text": [
      "Epoch 463 tr: l 0.760 a 0.742 clct[np.int64(46), np.int64(54)] clct_ans[np.int64(46), np.int64(54)]  lr 0.023869 48.976sec(train) 22.249sec(infer)\n"
     ]
    },
    {
     "name": "stdout",
     "output_type": "stream",
     "text": [
      "Epoch 463 tst: l 0.740 a 0.754 clct[np.int64(20), np.int64(20)] clct_ans[np.int64(20), np.int64(20)]  3.803sec\n"
     ]
    },
    {
     "name": "stdout",
     "output_type": "stream",
     "text": [
      "Epoch 464 tr: l 0.770 a 0.739 clct[np.int64(58), np.int64(42)] clct_ans[np.int64(58), np.int64(42)]  lr 0.023866 51.543sec(train) 22.686sec(infer)\n"
     ]
    },
    {
     "name": "stdout",
     "output_type": "stream",
     "text": [
      "Epoch 464 tst: l 0.739 a 0.755 clct[np.int64(20), np.int64(20)] clct_ans[np.int64(20), np.int64(20)]  3.815sec\n"
     ]
    },
    {
     "name": "stdout",
     "output_type": "stream",
     "text": [
      "Epoch 465 tr: l 0.759 a 0.745 clct[np.int64(53), np.int64(47)] clct_ans[np.int64(53), np.int64(47)]  lr 0.023864 48.397sec(train) 22.310sec(infer)\n"
     ]
    },
    {
     "name": "stdout",
     "output_type": "stream",
     "text": [
      "Epoch 465 tst: l 0.739 a 0.756 clct[np.int64(20), np.int64(20)] clct_ans[np.int64(20), np.int64(20)]  4.392sec\n"
     ]
    },
    {
     "name": "stdout",
     "output_type": "stream",
     "text": [
      "Epoch 466 tr: l 0.763 a 0.741 clct[np.int64(44), np.int64(56)] clct_ans[np.int64(44), np.int64(56)]  lr 0.023862 53.960sec(train) 22.167sec(infer)\n"
     ]
    },
    {
     "name": "stdout",
     "output_type": "stream",
     "text": [
      "Epoch 466 tst: l 0.740 a 0.755 clct[np.int64(20), np.int64(20)] clct_ans[np.int64(20), np.int64(20)]  3.769sec\n"
     ]
    },
    {
     "name": "stdout",
     "output_type": "stream",
     "text": [
      "Epoch 467 tr: l 0.765 a 0.740 clct[np.int64(46), np.int64(54)] clct_ans[np.int64(46), np.int64(54)]  lr 0.023859 48.855sec(train) 22.554sec(infer)\n"
     ]
    },
    {
     "name": "stdout",
     "output_type": "stream",
     "text": [
      "Epoch 467 tst: l 0.739 a 0.756 clct[np.int64(20), np.int64(20)] clct_ans[np.int64(20), np.int64(20)]  4.417sec\n"
     ]
    },
    {
     "name": "stdout",
     "output_type": "stream",
     "text": [
      "Epoch 468 tr: l 0.759 a 0.741 clct[np.int64(49), np.int64(51)] clct_ans[np.int64(49), np.int64(51)]  lr 0.023857 49.130sec(train) 21.947sec(infer)\n"
     ]
    },
    {
     "name": "stdout",
     "output_type": "stream",
     "text": [
      "Epoch 468 tst: l 0.736 a 0.756 clct[np.int64(20), np.int64(20)] clct_ans[np.int64(20), np.int64(20)]  3.910sec\n"
     ]
    },
    {
     "name": "stdout",
     "output_type": "stream",
     "text": [
      "Epoch 469 tr: l 0.761 a 0.742 clct[np.int64(59), np.int64(41)] clct_ans[np.int64(59), np.int64(41)]  lr 0.023855 50.565sec(train) 21.800sec(infer)\n"
     ]
    },
    {
     "name": "stdout",
     "output_type": "stream",
     "text": [
      "Epoch 469 tst: l 0.737 a 0.756 clct[np.int64(20), np.int64(20)] clct_ans[np.int64(20), np.int64(20)]  3.949sec\n"
     ]
    },
    {
     "name": "stdout",
     "output_type": "stream",
     "text": [
      "Epoch 470 tr: l 0.756 a 0.743 clct[np.int64(50), np.int64(50)] clct_ans[np.int64(50), np.int64(50)]  lr 0.023852 50.347sec(train) 21.511sec(infer)\n"
     ]
    },
    {
     "name": "stdout",
     "output_type": "stream",
     "text": [
      "Epoch 470 tst: l 0.740 a 0.754 clct[np.int64(20), np.int64(20)] clct_ans[np.int64(20), np.int64(20)]  3.780sec\n",
      "result written at output_dfca_gi/results.pickle\n",
      "checkpoint written at output_dfca_gi/checkpoint.pt\n"
     ]
    },
    {
     "name": "stdout",
     "output_type": "stream",
     "text": [
      "Epoch 471 tr: l 0.756 a 0.744 clct[np.int64(50), np.int64(50)] clct_ans[np.int64(50), np.int64(50)]  lr 0.023850 49.760sec(train) 21.420sec(infer)\n"
     ]
    },
    {
     "name": "stdout",
     "output_type": "stream",
     "text": [
      "Epoch 471 tst: l 0.738 a 0.756 clct[np.int64(20), np.int64(20)] clct_ans[np.int64(20), np.int64(20)]  3.485sec\n"
     ]
    },
    {
     "name": "stdout",
     "output_type": "stream",
     "text": [
      "Epoch 472 tr: l 0.760 a 0.741 clct[np.int64(48), np.int64(52)] clct_ans[np.int64(48), np.int64(52)]  lr 0.023847 50.967sec(train) 21.400sec(infer)\n"
     ]
    },
    {
     "name": "stdout",
     "output_type": "stream",
     "text": [
      "Epoch 472 tst: l 0.736 a 0.756 clct[np.int64(20), np.int64(20)] clct_ans[np.int64(20), np.int64(20)]  3.509sec\n"
     ]
    },
    {
     "name": "stdout",
     "output_type": "stream",
     "text": [
      "Epoch 473 tr: l 0.763 a 0.742 clct[np.int64(49), np.int64(51)] clct_ans[np.int64(49), np.int64(51)]  lr 0.023845 49.835sec(train) 21.409sec(infer)\n"
     ]
    },
    {
     "name": "stdout",
     "output_type": "stream",
     "text": [
      "Epoch 473 tst: l 0.737 a 0.756 clct[np.int64(20), np.int64(20)] clct_ans[np.int64(20), np.int64(20)]  3.567sec\n"
     ]
    },
    {
     "name": "stdout",
     "output_type": "stream",
     "text": [
      "Epoch 474 tr: l 0.768 a 0.739 clct[np.int64(54), np.int64(46)] clct_ans[np.int64(54), np.int64(46)]  lr 0.023843 49.697sec(train) 21.599sec(infer)\n"
     ]
    },
    {
     "name": "stdout",
     "output_type": "stream",
     "text": [
      "Epoch 474 tst: l 0.737 a 0.756 clct[np.int64(20), np.int64(20)] clct_ans[np.int64(20), np.int64(20)]  3.577sec\n"
     ]
    },
    {
     "name": "stdout",
     "output_type": "stream",
     "text": [
      "Epoch 475 tr: l 0.769 a 0.738 clct[np.int64(55), np.int64(45)] clct_ans[np.int64(55), np.int64(45)]  lr 0.023840 49.200sec(train) 22.437sec(infer)\n"
     ]
    },
    {
     "name": "stdout",
     "output_type": "stream",
     "text": [
      "Epoch 475 tst: l 0.736 a 0.755 clct[np.int64(20), np.int64(20)] clct_ans[np.int64(20), np.int64(20)]  3.838sec\n"
     ]
    },
    {
     "name": "stdout",
     "output_type": "stream",
     "text": [
      "Epoch 476 tr: l 0.757 a 0.744 clct[np.int64(52), np.int64(48)] clct_ans[np.int64(52), np.int64(48)]  lr 0.023838 48.854sec(train) 22.812sec(infer)\n"
     ]
    },
    {
     "name": "stdout",
     "output_type": "stream",
     "text": [
      "Epoch 476 tst: l 0.734 a 0.755 clct[np.int64(20), np.int64(20)] clct_ans[np.int64(20), np.int64(20)]  4.086sec\n"
     ]
    },
    {
     "name": "stdout",
     "output_type": "stream",
     "text": [
      "Epoch 477 tr: l 0.756 a 0.744 clct[np.int64(50), np.int64(50)] clct_ans[np.int64(50), np.int64(50)]  lr 0.023835 60.486sec(train) 22.695sec(infer)\n"
     ]
    },
    {
     "name": "stdout",
     "output_type": "stream",
     "text": [
      "Epoch 477 tst: l 0.736 a 0.756 clct[np.int64(20), np.int64(20)] clct_ans[np.int64(20), np.int64(20)]  4.000sec\n"
     ]
    },
    {
     "name": "stdout",
     "output_type": "stream",
     "text": [
      "Epoch 478 tr: l 0.765 a 0.741 clct[np.int64(48), np.int64(52)] clct_ans[np.int64(48), np.int64(52)]  lr 0.023833 49.868sec(train) 23.117sec(infer)\n"
     ]
    },
    {
     "name": "stdout",
     "output_type": "stream",
     "text": [
      "Epoch 478 tst: l 0.735 a 0.755 clct[np.int64(20), np.int64(20)] clct_ans[np.int64(20), np.int64(20)]  4.180sec\n"
     ]
    },
    {
     "name": "stdout",
     "output_type": "stream",
     "text": [
      "Epoch 479 tr: l 0.757 a 0.742 clct[np.int64(52), np.int64(48)] clct_ans[np.int64(52), np.int64(48)]  lr 0.023831 51.450sec(train) 22.731sec(infer)\n"
     ]
    },
    {
     "name": "stdout",
     "output_type": "stream",
     "text": [
      "Epoch 479 tst: l 0.733 a 0.756 clct[np.int64(20), np.int64(20)] clct_ans[np.int64(20), np.int64(20)]  3.816sec\n"
     ]
    },
    {
     "name": "stdout",
     "output_type": "stream",
     "text": [
      "Epoch 480 tr: l 0.749 a 0.745 clct[np.int64(55), np.int64(45)] clct_ans[np.int64(55), np.int64(45)]  lr 0.023828 49.385sec(train) 22.093sec(infer)\n"
     ]
    },
    {
     "name": "stdout",
     "output_type": "stream",
     "text": [
      "Epoch 480 tst: l 0.736 a 0.754 clct[np.int64(20), np.int64(20)] clct_ans[np.int64(20), np.int64(20)]  3.841sec\n",
      "result written at output_dfca_gi/results.pickle\n",
      "checkpoint written at output_dfca_gi/checkpoint.pt\n"
     ]
    },
    {
     "name": "stdout",
     "output_type": "stream",
     "text": [
      "Epoch 481 tr: l 0.748 a 0.746 clct[np.int64(50), np.int64(50)] clct_ans[np.int64(50), np.int64(50)]  lr 0.023826 53.798sec(train) 22.111sec(infer)\n"
     ]
    },
    {
     "name": "stdout",
     "output_type": "stream",
     "text": [
      "Epoch 481 tst: l 0.735 a 0.756 clct[np.int64(20), np.int64(20)] clct_ans[np.int64(20), np.int64(20)]  3.769sec\n"
     ]
    },
    {
     "name": "stdout",
     "output_type": "stream",
     "text": [
      "Epoch 482 tr: l 0.752 a 0.744 clct[np.int64(48), np.int64(52)] clct_ans[np.int64(48), np.int64(52)]  lr 0.023824 48.418sec(train) 22.841sec(infer)\n"
     ]
    },
    {
     "name": "stdout",
     "output_type": "stream",
     "text": [
      "Epoch 482 tst: l 0.736 a 0.755 clct[np.int64(20), np.int64(20)] clct_ans[np.int64(20), np.int64(20)]  4.209sec\n"
     ]
    },
    {
     "name": "stdout",
     "output_type": "stream",
     "text": [
      "Epoch 483 tr: l 0.761 a 0.743 clct[np.int64(48), np.int64(52)] clct_ans[np.int64(48), np.int64(52)]  lr 0.023821 48.877sec(train) 22.022sec(infer)\n"
     ]
    },
    {
     "name": "stdout",
     "output_type": "stream",
     "text": [
      "Epoch 483 tst: l 0.736 a 0.756 clct[np.int64(20), np.int64(20)] clct_ans[np.int64(20), np.int64(20)]  3.825sec\n"
     ]
    },
    {
     "name": "stdout",
     "output_type": "stream",
     "text": [
      "Epoch 484 tr: l 0.761 a 0.741 clct[np.int64(53), np.int64(47)] clct_ans[np.int64(53), np.int64(47)]  lr 0.023819 49.475sec(train) 23.043sec(infer)\n"
     ]
    },
    {
     "name": "stdout",
     "output_type": "stream",
     "text": [
      "Epoch 484 tst: l 0.735 a 0.754 clct[np.int64(20), np.int64(20)] clct_ans[np.int64(20), np.int64(20)]  4.394sec\n"
     ]
    },
    {
     "name": "stdout",
     "output_type": "stream",
     "text": [
      "Epoch 485 tr: l 0.748 a 0.746 clct[np.int64(48), np.int64(52)] clct_ans[np.int64(48), np.int64(52)]  lr 0.023816 49.792sec(train) 22.030sec(infer)\n"
     ]
    },
    {
     "name": "stdout",
     "output_type": "stream",
     "text": [
      "Epoch 485 tst: l 0.732 a 0.757 clct[np.int64(20), np.int64(20)] clct_ans[np.int64(20), np.int64(20)]  3.683sec\n"
     ]
    },
    {
     "name": "stdout",
     "output_type": "stream",
     "text": [
      "Epoch 486 tr: l 0.755 a 0.742 clct[np.int64(52), np.int64(48)] clct_ans[np.int64(52), np.int64(48)]  lr 0.023814 51.566sec(train) 23.441sec(infer)\n"
     ]
    },
    {
     "name": "stdout",
     "output_type": "stream",
     "text": [
      "Epoch 486 tst: l 0.735 a 0.755 clct[np.int64(20), np.int64(20)] clct_ans[np.int64(20), np.int64(20)]  3.661sec\n"
     ]
    },
    {
     "name": "stdout",
     "output_type": "stream",
     "text": [
      "Epoch 487 tr: l 0.749 a 0.744 clct[np.int64(51), np.int64(49)] clct_ans[np.int64(51), np.int64(49)]  lr 0.023812 49.151sec(train) 22.161sec(infer)\n"
     ]
    },
    {
     "name": "stdout",
     "output_type": "stream",
     "text": [
      "Epoch 487 tst: l 0.735 a 0.756 clct[np.int64(20), np.int64(20)] clct_ans[np.int64(20), np.int64(20)]  3.633sec\n"
     ]
    },
    {
     "name": "stdout",
     "output_type": "stream",
     "text": [
      "Epoch 488 tr: l 0.762 a 0.741 clct[np.int64(56), np.int64(44)] clct_ans[np.int64(56), np.int64(44)]  lr 0.023809 50.372sec(train) 21.488sec(infer)\n"
     ]
    },
    {
     "name": "stdout",
     "output_type": "stream",
     "text": [
      "Epoch 488 tst: l 0.737 a 0.757 clct[np.int64(20), np.int64(20)] clct_ans[np.int64(20), np.int64(20)]  3.498sec\n"
     ]
    },
    {
     "name": "stdout",
     "output_type": "stream",
     "text": [
      "Epoch 489 tr: l 0.741 a 0.749 clct[np.int64(56), np.int64(44)] clct_ans[np.int64(56), np.int64(44)]  lr 0.023807 50.353sec(train) 21.501sec(infer)\n"
     ]
    },
    {
     "name": "stdout",
     "output_type": "stream",
     "text": [
      "Epoch 489 tst: l 0.733 a 0.755 clct[np.int64(20), np.int64(20)] clct_ans[np.int64(20), np.int64(20)]  3.443sec\n"
     ]
    },
    {
     "name": "stdout",
     "output_type": "stream",
     "text": [
      "Epoch 490 tr: l 0.756 a 0.744 clct[np.int64(47), np.int64(53)] clct_ans[np.int64(47), np.int64(53)]  lr 0.023804 50.084sec(train) 21.550sec(infer)\n"
     ]
    },
    {
     "name": "stdout",
     "output_type": "stream",
     "text": [
      "Epoch 490 tst: l 0.737 a 0.754 clct[np.int64(20), np.int64(20)] clct_ans[np.int64(20), np.int64(20)]  3.476sec\n",
      "result written at output_dfca_gi/results.pickle\n",
      "checkpoint written at output_dfca_gi/checkpoint.pt\n"
     ]
    },
    {
     "name": "stdout",
     "output_type": "stream",
     "text": [
      "Epoch 491 tr: l 0.752 a 0.744 clct[np.int64(46), np.int64(54)] clct_ans[np.int64(46), np.int64(54)]  lr 0.023802 49.127sec(train) 22.335sec(infer)\n"
     ]
    },
    {
     "name": "stdout",
     "output_type": "stream",
     "text": [
      "Epoch 491 tst: l 0.736 a 0.755 clct[np.int64(20), np.int64(20)] clct_ans[np.int64(20), np.int64(20)]  3.471sec\n"
     ]
    },
    {
     "name": "stdout",
     "output_type": "stream",
     "text": [
      "Epoch 492 tr: l 0.754 a 0.743 clct[np.int64(52), np.int64(48)] clct_ans[np.int64(52), np.int64(48)]  lr 0.023800 48.933sec(train) 22.791sec(infer)\n"
     ]
    },
    {
     "name": "stdout",
     "output_type": "stream",
     "text": [
      "Epoch 492 tst: l 0.735 a 0.754 clct[np.int64(20), np.int64(20)] clct_ans[np.int64(20), np.int64(20)]  3.435sec\n"
     ]
    },
    {
     "name": "stdout",
     "output_type": "stream",
     "text": [
      "Epoch 493 tr: l 0.756 a 0.744 clct[np.int64(53), np.int64(47)] clct_ans[np.int64(53), np.int64(47)]  lr 0.023797 48.622sec(train) 22.245sec(infer)\n"
     ]
    },
    {
     "name": "stdout",
     "output_type": "stream",
     "text": [
      "Epoch 493 tst: l 0.733 a 0.756 clct[np.int64(20), np.int64(20)] clct_ans[np.int64(20), np.int64(20)]  4.084sec\n"
     ]
    },
    {
     "name": "stdout",
     "output_type": "stream",
     "text": [
      "Epoch 494 tr: l 0.753 a 0.743 clct[np.int64(50), np.int64(50)] clct_ans[np.int64(50), np.int64(50)]  lr 0.023795 49.762sec(train) 21.712sec(infer)\n"
     ]
    },
    {
     "name": "stdout",
     "output_type": "stream",
     "text": [
      "Epoch 494 tst: l 0.734 a 0.755 clct[np.int64(20), np.int64(20)] clct_ans[np.int64(20), np.int64(20)]  3.685sec\n"
     ]
    },
    {
     "name": "stdout",
     "output_type": "stream",
     "text": [
      "Epoch 495 tr: l 0.754 a 0.743 clct[np.int64(44), np.int64(56)] clct_ans[np.int64(44), np.int64(56)]  lr 0.023793 48.488sec(train) 21.401sec(infer)\n"
     ]
    },
    {
     "name": "stdout",
     "output_type": "stream",
     "text": [
      "Epoch 495 tst: l 0.730 a 0.759 clct[np.int64(20), np.int64(20)] clct_ans[np.int64(20), np.int64(20)]  3.682sec\n"
     ]
    },
    {
     "name": "stdout",
     "output_type": "stream",
     "text": [
      "Epoch 496 tr: l 0.750 a 0.744 clct[np.int64(50), np.int64(50)] clct_ans[np.int64(50), np.int64(50)]  lr 0.023790 49.369sec(train) 21.350sec(infer)\n"
     ]
    },
    {
     "name": "stdout",
     "output_type": "stream",
     "text": [
      "Epoch 496 tst: l 0.731 a 0.758 clct[np.int64(20), np.int64(20)] clct_ans[np.int64(20), np.int64(20)]  3.449sec\n"
     ]
    },
    {
     "name": "stdout",
     "output_type": "stream",
     "text": [
      "Epoch 497 tr: l 0.752 a 0.743 clct[np.int64(52), np.int64(48)] clct_ans[np.int64(52), np.int64(48)]  lr 0.023788 49.585sec(train) 21.334sec(infer)\n"
     ]
    },
    {
     "name": "stdout",
     "output_type": "stream",
     "text": [
      "Epoch 497 tst: l 0.732 a 0.756 clct[np.int64(20), np.int64(20)] clct_ans[np.int64(20), np.int64(20)]  3.482sec\n"
     ]
    },
    {
     "name": "stdout",
     "output_type": "stream",
     "text": [
      "Epoch 498 tr: l 0.749 a 0.744 clct[np.int64(48), np.int64(52)] clct_ans[np.int64(48), np.int64(52)]  lr 0.023785 49.637sec(train) 21.518sec(infer)\n"
     ]
    },
    {
     "name": "stdout",
     "output_type": "stream",
     "text": [
      "Epoch 498 tst: l 0.734 a 0.756 clct[np.int64(20), np.int64(20)] clct_ans[np.int64(20), np.int64(20)]  3.483sec\n"
     ]
    },
    {
     "name": "stdout",
     "output_type": "stream",
     "text": [
      "Epoch 499 tr: l 0.756 a 0.743 clct[np.int64(46), np.int64(54)] clct_ans[np.int64(46), np.int64(54)]  lr 0.023783 49.822sec(train) 21.680sec(infer)\n"
     ]
    },
    {
     "name": "stdout",
     "output_type": "stream",
     "text": [
      "Epoch 499 tst: l 0.735 a 0.756 clct[np.int64(20), np.int64(20)] clct_ans[np.int64(20), np.int64(20)]  3.497sec\n"
     ]
    },
    {
     "name": "stdout",
     "output_type": "stream",
     "text": [
      "Epoch 500 tr: l 0.755 a 0.745 clct[np.int64(45), np.int64(55)] clct_ans[np.int64(45), np.int64(55)]  lr 0.023781 48.954sec(train) 22.425sec(infer)\n"
     ]
    },
    {
     "name": "stdout",
     "output_type": "stream",
     "text": [
      "Epoch 500 tst: l 0.734 a 0.756 clct[np.int64(20), np.int64(20)] clct_ans[np.int64(20), np.int64(20)]  3.482sec\n",
      "result written at output_dfca_gi/results.pickle\n"
     ]
    },
    {
     "name": "stdout",
     "output_type": "stream",
     "text": [
      "checkpoint written at output_dfca_gi/checkpoint.pt\n"
     ]
    },
    {
     "name": "stdout",
     "output_type": "stream",
     "text": [
      "Epoch 501 tr: l 0.751 a 0.745 clct[np.int64(51), np.int64(49)] clct_ans[np.int64(51), np.int64(49)]  lr 0.023778 48.887sec(train) 22.874sec(infer)\n"
     ]
    },
    {
     "name": "stdout",
     "output_type": "stream",
     "text": [
      "Epoch 501 tst: l 0.733 a 0.757 clct[np.int64(20), np.int64(20)] clct_ans[np.int64(20), np.int64(20)]  3.689sec\n"
     ]
    },
    {
     "name": "stdout",
     "output_type": "stream",
     "text": [
      "Epoch 502 tr: l 0.750 a 0.744 clct[np.int64(58), np.int64(42)] clct_ans[np.int64(58), np.int64(42)]  lr 0.023776 48.723sec(train) 22.223sec(infer)\n"
     ]
    },
    {
     "name": "stdout",
     "output_type": "stream",
     "text": [
      "Epoch 502 tst: l 0.731 a 0.756 clct[np.int64(20), np.int64(20)] clct_ans[np.int64(20), np.int64(20)]  3.877sec\n"
     ]
    },
    {
     "name": "stdout",
     "output_type": "stream",
     "text": [
      "Epoch 503 tr: l 0.748 a 0.743 clct[np.int64(55), np.int64(45)] clct_ans[np.int64(55), np.int64(45)]  lr 0.023774 49.254sec(train) 21.676sec(infer)\n"
     ]
    },
    {
     "name": "stdout",
     "output_type": "stream",
     "text": [
      "Epoch 503 tst: l 0.733 a 0.755 clct[np.int64(20), np.int64(20)] clct_ans[np.int64(20), np.int64(20)]  3.613sec\n"
     ]
    },
    {
     "name": "stdout",
     "output_type": "stream",
     "text": [
      "Epoch 504 tr: l 0.755 a 0.743 clct[np.int64(51), np.int64(49)] clct_ans[np.int64(51), np.int64(49)]  lr 0.023771 49.359sec(train) 21.405sec(infer)\n"
     ]
    },
    {
     "name": "stdout",
     "output_type": "stream",
     "text": [
      "Epoch 504 tst: l 0.734 a 0.755 clct[np.int64(20), np.int64(20)] clct_ans[np.int64(20), np.int64(20)]  3.541sec\n"
     ]
    },
    {
     "name": "stdout",
     "output_type": "stream",
     "text": [
      "Epoch 505 tr: l 0.751 a 0.745 clct[np.int64(50), np.int64(50)] clct_ans[np.int64(50), np.int64(50)]  lr 0.023769 49.991sec(train) 21.369sec(infer)\n"
     ]
    },
    {
     "name": "stdout",
     "output_type": "stream",
     "text": [
      "Epoch 505 tst: l 0.731 a 0.757 clct[np.int64(20), np.int64(20)] clct_ans[np.int64(20), np.int64(20)]  3.435sec\n"
     ]
    },
    {
     "name": "stdout",
     "output_type": "stream",
     "text": [
      "Epoch 506 tr: l 0.759 a 0.742 clct[np.int64(49), np.int64(51)] clct_ans[np.int64(49), np.int64(51)]  lr 0.023766 50.168sec(train) 21.483sec(infer)\n"
     ]
    },
    {
     "name": "stdout",
     "output_type": "stream",
     "text": [
      "Epoch 506 tst: l 0.732 a 0.757 clct[np.int64(20), np.int64(20)] clct_ans[np.int64(20), np.int64(20)]  3.483sec\n"
     ]
    },
    {
     "name": "stdout",
     "output_type": "stream",
     "text": [
      "Epoch 507 tr: l 0.749 a 0.745 clct[np.int64(54), np.int64(46)] clct_ans[np.int64(54), np.int64(46)]  lr 0.023764 49.644sec(train) 21.665sec(infer)\n"
     ]
    },
    {
     "name": "stdout",
     "output_type": "stream",
     "text": [
      "Epoch 507 tst: l 0.731 a 0.756 clct[np.int64(20), np.int64(20)] clct_ans[np.int64(20), np.int64(20)]  3.529sec\n"
     ]
    },
    {
     "name": "stdout",
     "output_type": "stream",
     "text": [
      "Epoch 508 tr: l 0.754 a 0.744 clct[np.int64(50), np.int64(50)] clct_ans[np.int64(50), np.int64(50)]  lr 0.023762 49.241sec(train) 22.110sec(infer)\n"
     ]
    },
    {
     "name": "stdout",
     "output_type": "stream",
     "text": [
      "Epoch 508 tst: l 0.733 a 0.755 clct[np.int64(20), np.int64(20)] clct_ans[np.int64(20), np.int64(20)]  3.546sec\n"
     ]
    },
    {
     "name": "stdout",
     "output_type": "stream",
     "text": [
      "Epoch 509 tr: l 0.741 a 0.748 clct[np.int64(49), np.int64(51)] clct_ans[np.int64(49), np.int64(51)]  lr 0.023759 47.065sec(train) 22.547sec(infer)\n"
     ]
    },
    {
     "name": "stdout",
     "output_type": "stream",
     "text": [
      "Epoch 509 tst: l 0.732 a 0.757 clct[np.int64(20), np.int64(20)] clct_ans[np.int64(20), np.int64(20)]  3.751sec\n"
     ]
    },
    {
     "name": "stdout",
     "output_type": "stream",
     "text": [
      "Epoch 510 tr: l 0.757 a 0.741 clct[np.int64(52), np.int64(48)] clct_ans[np.int64(52), np.int64(48)]  lr 0.023757 46.677sec(train) 22.009sec(infer)\n"
     ]
    },
    {
     "name": "stdout",
     "output_type": "stream",
     "text": [
      "Epoch 510 tst: l 0.732 a 0.755 clct[np.int64(20), np.int64(20)] clct_ans[np.int64(20), np.int64(20)]  3.685sec\n",
      "result written at output_dfca_gi/results.pickle\n"
     ]
    },
    {
     "name": "stdout",
     "output_type": "stream",
     "text": [
      "checkpoint written at output_dfca_gi/checkpoint.pt\n"
     ]
    },
    {
     "name": "stdout",
     "output_type": "stream",
     "text": [
      "Epoch 511 tr: l 0.754 a 0.744 clct[np.int64(53), np.int64(47)] clct_ans[np.int64(53), np.int64(47)]  lr 0.023755 47.790sec(train) 21.918sec(infer)\n"
     ]
    },
    {
     "name": "stdout",
     "output_type": "stream",
     "text": [
      "Epoch 511 tst: l 0.734 a 0.756 clct[np.int64(20), np.int64(20)] clct_ans[np.int64(20), np.int64(20)]  3.516sec\n"
     ]
    },
    {
     "name": "stdout",
     "output_type": "stream",
     "text": [
      "Epoch 512 tr: l 0.753 a 0.744 clct[np.int64(51), np.int64(49)] clct_ans[np.int64(51), np.int64(49)]  lr 0.023752 47.888sec(train) 21.757sec(infer)\n"
     ]
    },
    {
     "name": "stdout",
     "output_type": "stream",
     "text": [
      "Epoch 512 tst: l 0.734 a 0.755 clct[np.int64(20), np.int64(20)] clct_ans[np.int64(20), np.int64(20)]  3.451sec\n"
     ]
    },
    {
     "name": "stdout",
     "output_type": "stream",
     "text": [
      "Epoch 513 tr: l 0.748 a 0.744 clct[np.int64(52), np.int64(48)] clct_ans[np.int64(52), np.int64(48)]  lr 0.023750 49.249sec(train) 21.490sec(infer)\n"
     ]
    },
    {
     "name": "stdout",
     "output_type": "stream",
     "text": [
      "Epoch 513 tst: l 0.733 a 0.756 clct[np.int64(20), np.int64(20)] clct_ans[np.int64(20), np.int64(20)]  3.408sec\n"
     ]
    },
    {
     "name": "stdout",
     "output_type": "stream",
     "text": [
      "Epoch 514 tr: l 0.751 a 0.746 clct[np.int64(54), np.int64(46)] clct_ans[np.int64(54), np.int64(46)]  lr 0.023747 47.364sec(train) 22.024sec(infer)\n"
     ]
    },
    {
     "name": "stdout",
     "output_type": "stream",
     "text": [
      "Epoch 514 tst: l 0.732 a 0.756 clct[np.int64(20), np.int64(20)] clct_ans[np.int64(20), np.int64(20)]  3.372sec\n"
     ]
    },
    {
     "name": "stdout",
     "output_type": "stream",
     "text": [
      "Epoch 515 tr: l 0.750 a 0.745 clct[np.int64(53), np.int64(47)] clct_ans[np.int64(53), np.int64(47)]  lr 0.023745 42.141sec(train) 22.432sec(infer)\n"
     ]
    },
    {
     "name": "stdout",
     "output_type": "stream",
     "text": [
      "Epoch 515 tst: l 0.730 a 0.756 clct[np.int64(20), np.int64(20)] clct_ans[np.int64(20), np.int64(20)]  3.557sec\n"
     ]
    },
    {
     "name": "stdout",
     "output_type": "stream",
     "text": [
      "Epoch 516 tr: l 0.752 a 0.745 clct[np.int64(47), np.int64(53)] clct_ans[np.int64(47), np.int64(53)]  lr 0.023743 47.795sec(train) 22.331sec(infer)\n"
     ]
    },
    {
     "name": "stdout",
     "output_type": "stream",
     "text": [
      "Epoch 516 tst: l 0.734 a 0.754 clct[np.int64(20), np.int64(20)] clct_ans[np.int64(20), np.int64(20)]  3.658sec\n"
     ]
    },
    {
     "name": "stdout",
     "output_type": "stream",
     "text": [
      "Epoch 517 tr: l 0.745 a 0.747 clct[np.int64(50), np.int64(50)] clct_ans[np.int64(50), np.int64(50)]  lr 0.023740 47.075sec(train) 21.899sec(infer)\n"
     ]
    },
    {
     "name": "stdout",
     "output_type": "stream",
     "text": [
      "Epoch 517 tst: l 0.732 a 0.756 clct[np.int64(20), np.int64(20)] clct_ans[np.int64(20), np.int64(20)]  3.726sec\n"
     ]
    },
    {
     "name": "stdout",
     "output_type": "stream",
     "text": [
      "Epoch 518 tr: l 0.749 a 0.745 clct[np.int64(52), np.int64(48)] clct_ans[np.int64(52), np.int64(48)]  lr 0.023738 49.023sec(train) 21.524sec(infer)\n"
     ]
    },
    {
     "name": "stdout",
     "output_type": "stream",
     "text": [
      "Epoch 518 tst: l 0.732 a 0.756 clct[np.int64(20), np.int64(20)] clct_ans[np.int64(20), np.int64(20)]  3.555sec\n"
     ]
    },
    {
     "name": "stdout",
     "output_type": "stream",
     "text": [
      "Epoch 519 tr: l 0.744 a 0.747 clct[np.int64(55), np.int64(45)] clct_ans[np.int64(55), np.int64(45)]  lr 0.023736 48.980sec(train) 21.468sec(infer)\n"
     ]
    },
    {
     "name": "stdout",
     "output_type": "stream",
     "text": [
      "Epoch 519 tst: l 0.731 a 0.756 clct[np.int64(20), np.int64(20)] clct_ans[np.int64(20), np.int64(20)]  3.476sec\n"
     ]
    },
    {
     "name": "stdout",
     "output_type": "stream",
     "text": [
      "Epoch 520 tr: l 0.746 a 0.745 clct[np.int64(53), np.int64(47)] clct_ans[np.int64(53), np.int64(47)]  lr 0.023733 48.731sec(train) 21.487sec(infer)\n"
     ]
    },
    {
     "name": "stdout",
     "output_type": "stream",
     "text": [
      "Epoch 520 tst: l 0.730 a 0.757 clct[np.int64(20), np.int64(20)] clct_ans[np.int64(20), np.int64(20)]  3.485sec\n",
      "result written at output_dfca_gi/results.pickle\n"
     ]
    },
    {
     "name": "stdout",
     "output_type": "stream",
     "text": [
      "checkpoint written at output_dfca_gi/checkpoint.pt\n"
     ]
    },
    {
     "name": "stdout",
     "output_type": "stream",
     "text": [
      "Epoch 521 tr: l 0.740 a 0.748 clct[np.int64(56), np.int64(44)] clct_ans[np.int64(56), np.int64(44)]  lr 0.023731 47.740sec(train) 22.087sec(infer)\n"
     ]
    },
    {
     "name": "stdout",
     "output_type": "stream",
     "text": [
      "Epoch 521 tst: l 0.731 a 0.755 clct[np.int64(20), np.int64(20)] clct_ans[np.int64(20), np.int64(20)]  3.467sec\n"
     ]
    },
    {
     "name": "stdout",
     "output_type": "stream",
     "text": [
      "Epoch 522 tr: l 0.748 a 0.746 clct[np.int64(41), np.int64(59)] clct_ans[np.int64(41), np.int64(59)]  lr 0.023728 44.906sec(train) 22.884sec(infer)\n"
     ]
    },
    {
     "name": "stdout",
     "output_type": "stream",
     "text": [
      "Epoch 522 tst: l 0.732 a 0.754 clct[np.int64(20), np.int64(20)] clct_ans[np.int64(20), np.int64(20)]  3.493sec\n"
     ]
    },
    {
     "name": "stdout",
     "output_type": "stream",
     "text": [
      "Epoch 523 tr: l 0.745 a 0.747 clct[np.int64(38), np.int64(62)] clct_ans[np.int64(38), np.int64(62)]  lr 0.023726 46.939sec(train) 22.419sec(infer)\n"
     ]
    },
    {
     "name": "stdout",
     "output_type": "stream",
     "text": [
      "Epoch 523 tst: l 0.731 a 0.755 clct[np.int64(20), np.int64(20)] clct_ans[np.int64(20), np.int64(20)]  4.080sec\n"
     ]
    },
    {
     "name": "stdout",
     "output_type": "stream",
     "text": [
      "Epoch 524 tr: l 0.744 a 0.746 clct[np.int64(54), np.int64(46)] clct_ans[np.int64(54), np.int64(46)]  lr 0.023724 47.595sec(train) 21.814sec(infer)\n"
     ]
    },
    {
     "name": "stdout",
     "output_type": "stream",
     "text": [
      "Epoch 524 tst: l 0.730 a 0.755 clct[np.int64(20), np.int64(20)] clct_ans[np.int64(20), np.int64(20)]  3.668sec\n"
     ]
    },
    {
     "name": "stdout",
     "output_type": "stream",
     "text": [
      "Epoch 525 tr: l 0.743 a 0.746 clct[np.int64(49), np.int64(51)] clct_ans[np.int64(49), np.int64(51)]  lr 0.023721 49.085sec(train) 21.559sec(infer)\n"
     ]
    },
    {
     "name": "stdout",
     "output_type": "stream",
     "text": [
      "Epoch 525 tst: l 0.730 a 0.757 clct[np.int64(20), np.int64(20)] clct_ans[np.int64(20), np.int64(20)]  3.539sec\n"
     ]
    },
    {
     "name": "stdout",
     "output_type": "stream",
     "text": [
      "Epoch 526 tr: l 0.754 a 0.745 clct[np.int64(53), np.int64(47)] clct_ans[np.int64(53), np.int64(47)]  lr 0.023719 48.871sec(train) 21.465sec(infer)\n"
     ]
    },
    {
     "name": "stdout",
     "output_type": "stream",
     "text": [
      "Epoch 526 tst: l 0.731 a 0.757 clct[np.int64(20), np.int64(20)] clct_ans[np.int64(20), np.int64(20)]  3.371sec\n"
     ]
    },
    {
     "name": "stdout",
     "output_type": "stream",
     "text": [
      "Epoch 527 tr: l 0.748 a 0.745 clct[np.int64(49), np.int64(51)] clct_ans[np.int64(49), np.int64(51)]  lr 0.023717 49.794sec(train) 21.437sec(infer)\n"
     ]
    },
    {
     "name": "stdout",
     "output_type": "stream",
     "text": [
      "Epoch 527 tst: l 0.731 a 0.756 clct[np.int64(20), np.int64(20)] clct_ans[np.int64(20), np.int64(20)]  3.446sec\n"
     ]
    },
    {
     "name": "stdout",
     "output_type": "stream",
     "text": [
      "Epoch 528 tr: l 0.746 a 0.747 clct[np.int64(50), np.int64(50)] clct_ans[np.int64(50), np.int64(50)]  lr 0.023714 49.166sec(train) 21.577sec(infer)\n"
     ]
    },
    {
     "name": "stdout",
     "output_type": "stream",
     "text": [
      "Epoch 528 tst: l 0.730 a 0.757 clct[np.int64(20), np.int64(20)] clct_ans[np.int64(20), np.int64(20)]  3.467sec\n"
     ]
    },
    {
     "name": "stdout",
     "output_type": "stream",
     "text": [
      "Epoch 529 tr: l 0.751 a 0.745 clct[np.int64(52), np.int64(48)] clct_ans[np.int64(52), np.int64(48)]  lr 0.023712 48.474sec(train) 22.546sec(infer)\n"
     ]
    },
    {
     "name": "stdout",
     "output_type": "stream",
     "text": [
      "Epoch 529 tst: l 0.731 a 0.756 clct[np.int64(20), np.int64(20)] clct_ans[np.int64(20), np.int64(20)]  3.444sec\n"
     ]
    },
    {
     "name": "stdout",
     "output_type": "stream",
     "text": [
      "Epoch 530 tr: l 0.751 a 0.744 clct[np.int64(52), np.int64(48)] clct_ans[np.int64(52), np.int64(48)]  lr 0.023709 49.051sec(train) 22.379sec(infer)\n"
     ]
    },
    {
     "name": "stdout",
     "output_type": "stream",
     "text": [
      "Epoch 530 tst: l 0.731 a 0.755 clct[np.int64(20), np.int64(20)] clct_ans[np.int64(20), np.int64(20)]  3.435sec\n",
      "result written at output_dfca_gi/results.pickle\n"
     ]
    },
    {
     "name": "stdout",
     "output_type": "stream",
     "text": [
      "checkpoint written at output_dfca_gi/checkpoint.pt\n"
     ]
    },
    {
     "name": "stdout",
     "output_type": "stream",
     "text": [
      "Epoch 531 tr: l 0.749 a 0.745 clct[np.int64(51), np.int64(49)] clct_ans[np.int64(51), np.int64(49)]  lr 0.023707 47.008sec(train) 22.043sec(infer)\n"
     ]
    },
    {
     "name": "stdout",
     "output_type": "stream",
     "text": [
      "Epoch 531 tst: l 0.731 a 0.755 clct[np.int64(20), np.int64(20)] clct_ans[np.int64(20), np.int64(20)]  4.435sec\n"
     ]
    },
    {
     "name": "stdout",
     "output_type": "stream",
     "text": [
      "Epoch 532 tr: l 0.751 a 0.743 clct[np.int64(55), np.int64(45)] clct_ans[np.int64(55), np.int64(45)]  lr 0.023705 47.640sec(train) 21.654sec(infer)\n"
     ]
    },
    {
     "name": "stdout",
     "output_type": "stream",
     "text": [
      "Epoch 532 tst: l 0.729 a 0.756 clct[np.int64(20), np.int64(20)] clct_ans[np.int64(20), np.int64(20)]  3.759sec\n"
     ]
    },
    {
     "name": "stdout",
     "output_type": "stream",
     "text": [
      "Epoch 533 tr: l 0.744 a 0.745 clct[np.int64(50), np.int64(50)] clct_ans[np.int64(50), np.int64(50)]  lr 0.023702 48.876sec(train) 21.422sec(infer)\n"
     ]
    },
    {
     "name": "stdout",
     "output_type": "stream",
     "text": [
      "Epoch 533 tst: l 0.729 a 0.755 clct[np.int64(20), np.int64(20)] clct_ans[np.int64(20), np.int64(20)]  3.582sec\n"
     ]
    },
    {
     "name": "stdout",
     "output_type": "stream",
     "text": [
      "Epoch 534 tr: l 0.741 a 0.749 clct[np.int64(54), np.int64(46)] clct_ans[np.int64(54), np.int64(46)]  lr 0.023700 49.078sec(train) 21.518sec(infer)\n"
     ]
    },
    {
     "name": "stdout",
     "output_type": "stream",
     "text": [
      "Epoch 534 tst: l 0.729 a 0.756 clct[np.int64(20), np.int64(20)] clct_ans[np.int64(20), np.int64(20)]  3.585sec\n"
     ]
    },
    {
     "name": "stdout",
     "output_type": "stream",
     "text": [
      "Epoch 535 tr: l 0.745 a 0.745 clct[np.int64(48), np.int64(52)] clct_ans[np.int64(48), np.int64(52)]  lr 0.023698 48.449sec(train) 21.100sec(infer)\n"
     ]
    },
    {
     "name": "stdout",
     "output_type": "stream",
     "text": [
      "Epoch 535 tst: l 0.730 a 0.756 clct[np.int64(20), np.int64(20)] clct_ans[np.int64(20), np.int64(20)]  3.280sec\n"
     ]
    },
    {
     "name": "stdout",
     "output_type": "stream",
     "text": [
      "Epoch 536 tr: l 0.745 a 0.746 clct[np.int64(49), np.int64(51)] clct_ans[np.int64(49), np.int64(51)]  lr 0.023695 47.334sec(train) 21.130sec(infer)\n"
     ]
    },
    {
     "name": "stdout",
     "output_type": "stream",
     "text": [
      "Epoch 536 tst: l 0.731 a 0.755 clct[np.int64(20), np.int64(20)] clct_ans[np.int64(20), np.int64(20)]  3.408sec\n"
     ]
    },
    {
     "name": "stdout",
     "output_type": "stream",
     "text": [
      "Epoch 537 tr: l 0.742 a 0.746 clct[np.int64(53), np.int64(47)] clct_ans[np.int64(53), np.int64(47)]  lr 0.023693 49.080sec(train) 21.555sec(infer)\n"
     ]
    },
    {
     "name": "stdout",
     "output_type": "stream",
     "text": [
      "Epoch 537 tst: l 0.729 a 0.756 clct[np.int64(20), np.int64(20)] clct_ans[np.int64(20), np.int64(20)]  3.200sec\n"
     ]
    },
    {
     "name": "stdout",
     "output_type": "stream",
     "text": [
      "Epoch 538 tr: l 0.738 a 0.748 clct[np.int64(46), np.int64(54)] clct_ans[np.int64(46), np.int64(54)]  lr 0.023690 47.874sec(train) 21.055sec(infer)\n"
     ]
    },
    {
     "name": "stdout",
     "output_type": "stream",
     "text": [
      "Epoch 538 tst: l 0.730 a 0.755 clct[np.int64(20), np.int64(20)] clct_ans[np.int64(20), np.int64(20)]  3.301sec\n"
     ]
    },
    {
     "name": "stdout",
     "output_type": "stream",
     "text": [
      "Epoch 539 tr: l 0.745 a 0.744 clct[np.int64(49), np.int64(51)] clct_ans[np.int64(49), np.int64(51)]  lr 0.023688 46.742sec(train) 21.175sec(infer)\n"
     ]
    },
    {
     "name": "stdout",
     "output_type": "stream",
     "text": [
      "Epoch 539 tst: l 0.732 a 0.754 clct[np.int64(20), np.int64(20)] clct_ans[np.int64(20), np.int64(20)]  3.620sec\n"
     ]
    },
    {
     "name": "stdout",
     "output_type": "stream",
     "text": [
      "Epoch 540 tr: l 0.744 a 0.745 clct[np.int64(46), np.int64(54)] clct_ans[np.int64(46), np.int64(54)]  lr 0.023686 48.552sec(train) 21.404sec(infer)\n"
     ]
    },
    {
     "name": "stdout",
     "output_type": "stream",
     "text": [
      "Epoch 540 tst: l 0.728 a 0.756 clct[np.int64(20), np.int64(20)] clct_ans[np.int64(20), np.int64(20)]  3.248sec\n",
      "result written at output_dfca_gi/results.pickle\n"
     ]
    },
    {
     "name": "stdout",
     "output_type": "stream",
     "text": [
      "checkpoint written at output_dfca_gi/checkpoint.pt\n"
     ]
    },
    {
     "name": "stdout",
     "output_type": "stream",
     "text": [
      "Epoch 541 tr: l 0.739 a 0.746 clct[np.int64(50), np.int64(50)] clct_ans[np.int64(50), np.int64(50)]  lr 0.023683 49.232sec(train) 21.063sec(infer)\n"
     ]
    },
    {
     "name": "stdout",
     "output_type": "stream",
     "text": [
      "Epoch 541 tst: l 0.728 a 0.756 clct[np.int64(20), np.int64(20)] clct_ans[np.int64(20), np.int64(20)]  3.291sec\n"
     ]
    },
    {
     "name": "stdout",
     "output_type": "stream",
     "text": [
      "Epoch 542 tr: l 0.744 a 0.747 clct[np.int64(49), np.int64(51)] clct_ans[np.int64(49), np.int64(51)]  lr 0.023681 48.916sec(train) 21.384sec(infer)\n"
     ]
    },
    {
     "name": "stdout",
     "output_type": "stream",
     "text": [
      "Epoch 542 tst: l 0.731 a 0.756 clct[np.int64(20), np.int64(20)] clct_ans[np.int64(20), np.int64(20)]  3.638sec\n"
     ]
    },
    {
     "name": "stdout",
     "output_type": "stream",
     "text": [
      "Epoch 543 tr: l 0.747 a 0.745 clct[np.int64(55), np.int64(45)] clct_ans[np.int64(55), np.int64(45)]  lr 0.023679 48.818sec(train) 21.233sec(infer)\n"
     ]
    },
    {
     "name": "stdout",
     "output_type": "stream",
     "text": [
      "Epoch 543 tst: l 0.729 a 0.757 clct[np.int64(20), np.int64(20)] clct_ans[np.int64(20), np.int64(20)]  3.277sec\n"
     ]
    },
    {
     "name": "stdout",
     "output_type": "stream",
     "text": [
      "Epoch 544 tr: l 0.749 a 0.746 clct[np.int64(53), np.int64(47)] clct_ans[np.int64(53), np.int64(47)]  lr 0.023676 48.976sec(train) 21.167sec(infer)\n"
     ]
    },
    {
     "name": "stdout",
     "output_type": "stream",
     "text": [
      "Epoch 544 tst: l 0.727 a 0.756 clct[np.int64(20), np.int64(20)] clct_ans[np.int64(20), np.int64(20)]  3.415sec\n"
     ]
    },
    {
     "name": "stdout",
     "output_type": "stream",
     "text": [
      "Epoch 545 tr: l 0.738 a 0.748 clct[np.int64(50), np.int64(50)] clct_ans[np.int64(50), np.int64(50)]  lr 0.023674 47.649sec(train) 21.695sec(infer)\n"
     ]
    },
    {
     "name": "stdout",
     "output_type": "stream",
     "text": [
      "Epoch 545 tst: l 0.726 a 0.756 clct[np.int64(20), np.int64(20)] clct_ans[np.int64(20), np.int64(20)]  3.247sec\n"
     ]
    },
    {
     "name": "stdout",
     "output_type": "stream",
     "text": [
      "Epoch 546 tr: l 0.738 a 0.748 clct[np.int64(55), np.int64(45)] clct_ans[np.int64(55), np.int64(45)]  lr 0.023672 49.094sec(train) 21.053sec(infer)\n"
     ]
    },
    {
     "name": "stdout",
     "output_type": "stream",
     "text": [
      "Epoch 546 tst: l 0.728 a 0.757 clct[np.int64(20), np.int64(20)] clct_ans[np.int64(20), np.int64(20)]  3.296sec\n"
     ]
    },
    {
     "name": "stdout",
     "output_type": "stream",
     "text": [
      "Epoch 547 tr: l 0.744 a 0.744 clct[np.int64(45), np.int64(55)] clct_ans[np.int64(45), np.int64(55)]  lr 0.023669 47.915sec(train) 21.190sec(infer)\n"
     ]
    },
    {
     "name": "stdout",
     "output_type": "stream",
     "text": [
      "Epoch 547 tst: l 0.731 a 0.755 clct[np.int64(20), np.int64(20)] clct_ans[np.int64(20), np.int64(20)]  3.603sec\n"
     ]
    },
    {
     "name": "stdout",
     "output_type": "stream",
     "text": [
      "Epoch 548 tr: l 0.745 a 0.746 clct[np.int64(49), np.int64(51)] clct_ans[np.int64(49), np.int64(51)]  lr 0.023667 47.748sec(train) 21.478sec(infer)\n"
     ]
    },
    {
     "name": "stdout",
     "output_type": "stream",
     "text": [
      "Epoch 548 tst: l 0.729 a 0.757 clct[np.int64(20), np.int64(20)] clct_ans[np.int64(20), np.int64(20)]  3.268sec\n"
     ]
    },
    {
     "name": "stdout",
     "output_type": "stream",
     "text": [
      "Epoch 549 tr: l 0.738 a 0.748 clct[np.int64(48), np.int64(52)] clct_ans[np.int64(48), np.int64(52)]  lr 0.023664 48.889sec(train) 21.120sec(infer)\n"
     ]
    },
    {
     "name": "stdout",
     "output_type": "stream",
     "text": [
      "Epoch 549 tst: l 0.728 a 0.757 clct[np.int64(20), np.int64(20)] clct_ans[np.int64(20), np.int64(20)]  3.333sec\n"
     ]
    },
    {
     "name": "stdout",
     "output_type": "stream",
     "text": [
      "Epoch 550 tr: l 0.738 a 0.748 clct[np.int64(46), np.int64(54)] clct_ans[np.int64(46), np.int64(54)]  lr 0.023662 48.611sec(train) 21.411sec(infer)\n"
     ]
    },
    {
     "name": "stdout",
     "output_type": "stream",
     "text": [
      "Epoch 550 tst: l 0.728 a 0.758 clct[np.int64(20), np.int64(20)] clct_ans[np.int64(20), np.int64(20)]  4.085sec\n"
     ]
    },
    {
     "name": "stdout",
     "output_type": "stream",
     "text": [
      "result written at output_dfca_gi/results.pickle\n",
      "checkpoint written at output_dfca_gi/checkpoint.pt\n"
     ]
    },
    {
     "name": "stdout",
     "output_type": "stream",
     "text": [
      "Epoch 551 tr: l 0.742 a 0.746 clct[np.int64(51), np.int64(49)] clct_ans[np.int64(51), np.int64(49)]  lr 0.023660 49.275sec(train) 21.157sec(infer)\n"
     ]
    },
    {
     "name": "stdout",
     "output_type": "stream",
     "text": [
      "Epoch 551 tst: l 0.730 a 0.757 clct[np.int64(20), np.int64(20)] clct_ans[np.int64(20), np.int64(20)]  3.328sec\n"
     ]
    },
    {
     "name": "stdout",
     "output_type": "stream",
     "text": [
      "Epoch 552 tr: l 0.741 a 0.747 clct[np.int64(49), np.int64(51)] clct_ans[np.int64(49), np.int64(51)]  lr 0.023657 48.753sec(train) 21.134sec(infer)\n"
     ]
    },
    {
     "name": "stdout",
     "output_type": "stream",
     "text": [
      "Epoch 552 tst: l 0.728 a 0.756 clct[np.int64(20), np.int64(20)] clct_ans[np.int64(20), np.int64(20)]  3.400sec\n"
     ]
    },
    {
     "name": "stdout",
     "output_type": "stream",
     "text": [
      "Epoch 553 tr: l 0.737 a 0.748 clct[np.int64(56), np.int64(44)] clct_ans[np.int64(56), np.int64(44)]  lr 0.023655 48.904sec(train) 21.950sec(infer)\n"
     ]
    },
    {
     "name": "stdout",
     "output_type": "stream",
     "text": [
      "Epoch 553 tst: l 0.728 a 0.757 clct[np.int64(20), np.int64(20)] clct_ans[np.int64(20), np.int64(20)]  3.253sec\n"
     ]
    },
    {
     "name": "stdout",
     "output_type": "stream",
     "text": [
      "Epoch 554 tr: l 0.737 a 0.747 clct[np.int64(51), np.int64(49)] clct_ans[np.int64(51), np.int64(49)]  lr 0.023653 46.717sec(train) 20.985sec(infer)\n"
     ]
    },
    {
     "name": "stdout",
     "output_type": "stream",
     "text": [
      "Epoch 554 tst: l 0.728 a 0.757 clct[np.int64(20), np.int64(20)] clct_ans[np.int64(20), np.int64(20)]  3.376sec\n"
     ]
    },
    {
     "name": "stdout",
     "output_type": "stream",
     "text": [
      "Epoch 555 tr: l 0.741 a 0.746 clct[np.int64(50), np.int64(50)] clct_ans[np.int64(50), np.int64(50)]  lr 0.023650 47.175sec(train) 21.212sec(infer)\n"
     ]
    },
    {
     "name": "stdout",
     "output_type": "stream",
     "text": [
      "Epoch 555 tst: l 0.730 a 0.757 clct[np.int64(20), np.int64(20)] clct_ans[np.int64(20), np.int64(20)]  3.518sec\n"
     ]
    },
    {
     "name": "stdout",
     "output_type": "stream",
     "text": [
      "Epoch 556 tr: l 0.738 a 0.750 clct[np.int64(49), np.int64(51)] clct_ans[np.int64(49), np.int64(51)]  lr 0.023648 47.750sec(train) 21.205sec(infer)\n"
     ]
    },
    {
     "name": "stdout",
     "output_type": "stream",
     "text": [
      "Epoch 556 tst: l 0.729 a 0.756 clct[np.int64(20), np.int64(20)] clct_ans[np.int64(20), np.int64(20)]  3.329sec\n"
     ]
    },
    {
     "name": "stdout",
     "output_type": "stream",
     "text": [
      "Epoch 557 tr: l 0.732 a 0.751 clct[np.int64(57), np.int64(43)] clct_ans[np.int64(57), np.int64(43)]  lr 0.023646 46.767sec(train) 21.139sec(infer)\n"
     ]
    },
    {
     "name": "stdout",
     "output_type": "stream",
     "text": [
      "Epoch 557 tst: l 0.727 a 0.757 clct[np.int64(20), np.int64(20)] clct_ans[np.int64(20), np.int64(20)]  3.266sec\n"
     ]
    },
    {
     "name": "stdout",
     "output_type": "stream",
     "text": [
      "Epoch 558 tr: l 0.729 a 0.750 clct[np.int64(54), np.int64(46)] clct_ans[np.int64(54), np.int64(46)]  lr 0.023643 47.046sec(train) 21.385sec(infer)\n"
     ]
    },
    {
     "name": "stdout",
     "output_type": "stream",
     "text": [
      "Epoch 558 tst: l 0.728 a 0.756 clct[np.int64(20), np.int64(20)] clct_ans[np.int64(20), np.int64(20)]  3.482sec\n"
     ]
    },
    {
     "name": "stdout",
     "output_type": "stream",
     "text": [
      "Epoch 559 tr: l 0.740 a 0.749 clct[np.int64(50), np.int64(50)] clct_ans[np.int64(50), np.int64(50)]  lr 0.023641 47.079sec(train) 21.450sec(infer)\n"
     ]
    },
    {
     "name": "stdout",
     "output_type": "stream",
     "text": [
      "Epoch 559 tst: l 0.729 a 0.757 clct[np.int64(20), np.int64(20)] clct_ans[np.int64(20), np.int64(20)]  3.306sec\n"
     ]
    },
    {
     "name": "stdout",
     "output_type": "stream",
     "text": [
      "Epoch 560 tr: l 0.734 a 0.749 clct[np.int64(51), np.int64(49)] clct_ans[np.int64(51), np.int64(49)]  lr 0.023638 48.108sec(train) 21.069sec(infer)\n"
     ]
    },
    {
     "name": "stdout",
     "output_type": "stream",
     "text": [
      "Epoch 560 tst: l 0.728 a 0.756 clct[np.int64(20), np.int64(20)] clct_ans[np.int64(20), np.int64(20)]  3.547sec\n"
     ]
    },
    {
     "name": "stdout",
     "output_type": "stream",
     "text": [
      "result written at output_dfca_gi/results.pickle\n",
      "checkpoint written at output_dfca_gi/checkpoint.pt\n"
     ]
    },
    {
     "name": "stdout",
     "output_type": "stream",
     "text": [
      "Epoch 561 tr: l 0.744 a 0.744 clct[np.int64(46), np.int64(54)] clct_ans[np.int64(46), np.int64(54)]  lr 0.023636 47.610sec(train) 21.357sec(infer)\n"
     ]
    },
    {
     "name": "stdout",
     "output_type": "stream",
     "text": [
      "Epoch 561 tst: l 0.728 a 0.758 clct[np.int64(20), np.int64(20)] clct_ans[np.int64(20), np.int64(20)]  3.588sec\n"
     ]
    },
    {
     "name": "stdout",
     "output_type": "stream",
     "text": [
      "Epoch 562 tr: l 0.736 a 0.747 clct[np.int64(43), np.int64(57)] clct_ans[np.int64(43), np.int64(57)]  lr 0.023634 44.883sec(train) 21.342sec(infer)\n"
     ]
    },
    {
     "name": "stdout",
     "output_type": "stream",
     "text": [
      "Epoch 562 tst: l 0.727 a 0.756 clct[np.int64(20), np.int64(20)] clct_ans[np.int64(20), np.int64(20)]  3.285sec\n"
     ]
    },
    {
     "name": "stdout",
     "output_type": "stream",
     "text": [
      "Epoch 563 tr: l 0.735 a 0.748 clct[np.int64(50), np.int64(50)] clct_ans[np.int64(50), np.int64(50)]  lr 0.023631 47.342sec(train) 21.101sec(infer)\n"
     ]
    },
    {
     "name": "stdout",
     "output_type": "stream",
     "text": [
      "Epoch 563 tst: l 0.728 a 0.756 clct[np.int64(20), np.int64(20)] clct_ans[np.int64(20), np.int64(20)]  3.495sec\n"
     ]
    },
    {
     "name": "stdout",
     "output_type": "stream",
     "text": [
      "Epoch 564 tr: l 0.743 a 0.748 clct[np.int64(52), np.int64(48)] clct_ans[np.int64(52), np.int64(48)]  lr 0.023629 46.741sec(train) 21.406sec(infer)\n"
     ]
    },
    {
     "name": "stdout",
     "output_type": "stream",
     "text": [
      "Epoch 564 tst: l 0.728 a 0.758 clct[np.int64(20), np.int64(20)] clct_ans[np.int64(20), np.int64(20)]  3.413sec\n"
     ]
    },
    {
     "name": "stdout",
     "output_type": "stream",
     "text": [
      "Epoch 565 tr: l 0.733 a 0.749 clct[np.int64(52), np.int64(48)] clct_ans[np.int64(52), np.int64(48)]  lr 0.023627 48.882sec(train) 21.286sec(infer)\n"
     ]
    },
    {
     "name": "stdout",
     "output_type": "stream",
     "text": [
      "Epoch 565 tst: l 0.728 a 0.757 clct[np.int64(20), np.int64(20)] clct_ans[np.int64(20), np.int64(20)]  3.292sec\n"
     ]
    },
    {
     "name": "stdout",
     "output_type": "stream",
     "text": [
      "Epoch 566 tr: l 0.742 a 0.747 clct[np.int64(50), np.int64(50)] clct_ans[np.int64(50), np.int64(50)]  lr 0.023624 48.963sec(train) 21.019sec(infer)\n"
     ]
    },
    {
     "name": "stdout",
     "output_type": "stream",
     "text": [
      "Epoch 566 tst: l 0.730 a 0.756 clct[np.int64(20), np.int64(20)] clct_ans[np.int64(20), np.int64(20)]  3.343sec\n"
     ]
    },
    {
     "name": "stdout",
     "output_type": "stream",
     "text": [
      "Epoch 567 tr: l 0.733 a 0.749 clct[np.int64(53), np.int64(47)] clct_ans[np.int64(53), np.int64(47)]  lr 0.023622 49.128sec(train) 21.413sec(infer)\n"
     ]
    },
    {
     "name": "stdout",
     "output_type": "stream",
     "text": [
      "Epoch 567 tst: l 0.729 a 0.757 clct[np.int64(20), np.int64(20)] clct_ans[np.int64(20), np.int64(20)]  3.390sec\n"
     ]
    },
    {
     "name": "stdout",
     "output_type": "stream",
     "text": [
      "Epoch 568 tr: l 0.741 a 0.748 clct[np.int64(49), np.int64(51)] clct_ans[np.int64(49), np.int64(51)]  lr 0.023620 48.867sec(train) 21.636sec(infer)\n"
     ]
    },
    {
     "name": "stdout",
     "output_type": "stream",
     "text": [
      "Epoch 568 tst: l 0.728 a 0.757 clct[np.int64(20), np.int64(20)] clct_ans[np.int64(20), np.int64(20)]  3.260sec\n"
     ]
    },
    {
     "name": "stdout",
     "output_type": "stream",
     "text": [
      "Epoch 569 tr: l 0.736 a 0.750 clct[np.int64(55), np.int64(45)] clct_ans[np.int64(55), np.int64(45)]  lr 0.023617 48.821sec(train) 21.116sec(infer)\n"
     ]
    },
    {
     "name": "stdout",
     "output_type": "stream",
     "text": [
      "Epoch 569 tst: l 0.727 a 0.759 clct[np.int64(20), np.int64(20)] clct_ans[np.int64(20), np.int64(20)]  3.513sec\n"
     ]
    },
    {
     "name": "stdout",
     "output_type": "stream",
     "text": [
      "Epoch 570 tr: l 0.738 a 0.747 clct[np.int64(47), np.int64(53)] clct_ans[np.int64(47), np.int64(53)]  lr 0.023615 48.861sec(train) 21.340sec(infer)\n"
     ]
    },
    {
     "name": "stdout",
     "output_type": "stream",
     "text": [
      "Epoch 570 tst: l 0.726 a 0.758 clct[np.int64(20), np.int64(20)] clct_ans[np.int64(20), np.int64(20)]  3.278sec\n"
     ]
    },
    {
     "name": "stdout",
     "output_type": "stream",
     "text": [
      "result written at output_dfca_gi/results.pickle\n",
      "checkpoint written at output_dfca_gi/checkpoint.pt\n"
     ]
    },
    {
     "name": "stdout",
     "output_type": "stream",
     "text": [
      "Epoch 571 tr: l 0.735 a 0.747 clct[np.int64(45), np.int64(55)] clct_ans[np.int64(45), np.int64(55)]  lr 0.023612 47.059sec(train) 21.281sec(infer)\n"
     ]
    },
    {
     "name": "stdout",
     "output_type": "stream",
     "text": [
      "Epoch 571 tst: l 0.726 a 0.758 clct[np.int64(20), np.int64(20)] clct_ans[np.int64(20), np.int64(20)]  3.263sec\n"
     ]
    },
    {
     "name": "stdout",
     "output_type": "stream",
     "text": [
      "Epoch 572 tr: l 0.729 a 0.751 clct[np.int64(50), np.int64(50)] clct_ans[np.int64(50), np.int64(50)]  lr 0.023610 46.917sec(train) 21.242sec(infer)\n"
     ]
    },
    {
     "name": "stdout",
     "output_type": "stream",
     "text": [
      "Epoch 572 tst: l 0.728 a 0.757 clct[np.int64(20), np.int64(20)] clct_ans[np.int64(20), np.int64(20)]  3.311sec\n"
     ]
    },
    {
     "name": "stdout",
     "output_type": "stream",
     "text": [
      "Epoch 573 tr: l 0.735 a 0.748 clct[np.int64(43), np.int64(57)] clct_ans[np.int64(43), np.int64(57)]  lr 0.023608 46.929sec(train) 21.366sec(infer)\n"
     ]
    },
    {
     "name": "stdout",
     "output_type": "stream",
     "text": [
      "Epoch 573 tst: l 0.727 a 0.757 clct[np.int64(20), np.int64(20)] clct_ans[np.int64(20), np.int64(20)]  3.518sec\n"
     ]
    },
    {
     "name": "stdout",
     "output_type": "stream",
     "text": [
      "Epoch 574 tr: l 0.745 a 0.747 clct[np.int64(58), np.int64(42)] clct_ans[np.int64(58), np.int64(42)]  lr 0.023605 46.783sec(train) 21.228sec(infer)\n"
     ]
    },
    {
     "name": "stdout",
     "output_type": "stream",
     "text": [
      "Epoch 574 tst: l 0.728 a 0.757 clct[np.int64(20), np.int64(20)] clct_ans[np.int64(20), np.int64(20)]  3.329sec\n"
     ]
    },
    {
     "name": "stdout",
     "output_type": "stream",
     "text": [
      "Epoch 575 tr: l 0.741 a 0.748 clct[np.int64(51), np.int64(49)] clct_ans[np.int64(51), np.int64(49)]  lr 0.023603 47.203sec(train) 21.172sec(infer)\n"
     ]
    },
    {
     "name": "stdout",
     "output_type": "stream",
     "text": [
      "Epoch 575 tst: l 0.727 a 0.759 clct[np.int64(20), np.int64(20)] clct_ans[np.int64(20), np.int64(20)]  3.396sec\n"
     ]
    },
    {
     "name": "stdout",
     "output_type": "stream",
     "text": [
      "Epoch 576 tr: l 0.742 a 0.746 clct[np.int64(51), np.int64(49)] clct_ans[np.int64(51), np.int64(49)]  lr 0.023601 46.901sec(train) 21.403sec(infer)\n"
     ]
    },
    {
     "name": "stdout",
     "output_type": "stream",
     "text": [
      "Epoch 576 tst: l 0.726 a 0.759 clct[np.int64(20), np.int64(20)] clct_ans[np.int64(20), np.int64(20)]  3.286sec\n"
     ]
    },
    {
     "name": "stdout",
     "output_type": "stream",
     "text": [
      "Epoch 577 tr: l 0.734 a 0.750 clct[np.int64(47), np.int64(53)] clct_ans[np.int64(47), np.int64(53)]  lr 0.023598 47.165sec(train) 21.039sec(infer)\n"
     ]
    },
    {
     "name": "stdout",
     "output_type": "stream",
     "text": [
      "Epoch 577 tst: l 0.725 a 0.759 clct[np.int64(20), np.int64(20)] clct_ans[np.int64(20), np.int64(20)]  3.333sec\n"
     ]
    },
    {
     "name": "stdout",
     "output_type": "stream",
     "text": [
      "Epoch 578 tr: l 0.728 a 0.750 clct[np.int64(51), np.int64(49)] clct_ans[np.int64(51), np.int64(49)]  lr 0.023596 48.870sec(train) 21.257sec(infer)\n"
     ]
    },
    {
     "name": "stdout",
     "output_type": "stream",
     "text": [
      "Epoch 578 tst: l 0.725 a 0.759 clct[np.int64(20), np.int64(20)] clct_ans[np.int64(20), np.int64(20)]  3.526sec\n"
     ]
    },
    {
     "name": "stdout",
     "output_type": "stream",
     "text": [
      "Epoch 579 tr: l 0.734 a 0.750 clct[np.int64(47), np.int64(53)] clct_ans[np.int64(47), np.int64(53)]  lr 0.023594 46.939sec(train) 21.410sec(infer)\n"
     ]
    },
    {
     "name": "stdout",
     "output_type": "stream",
     "text": [
      "Epoch 579 tst: l 0.726 a 0.756 clct[np.int64(20), np.int64(20)] clct_ans[np.int64(20), np.int64(20)]  3.336sec\n"
     ]
    },
    {
     "name": "stdout",
     "output_type": "stream",
     "text": [
      "Epoch 580 tr: l 0.742 a 0.748 clct[np.int64(53), np.int64(47)] clct_ans[np.int64(53), np.int64(47)]  lr 0.023591 49.442sec(train) 21.007sec(infer)\n"
     ]
    },
    {
     "name": "stdout",
     "output_type": "stream",
     "text": [
      "Epoch 580 tst: l 0.727 a 0.758 clct[np.int64(20), np.int64(20)] clct_ans[np.int64(20), np.int64(20)]  3.353sec\n"
     ]
    },
    {
     "name": "stdout",
     "output_type": "stream",
     "text": [
      "result written at output_dfca_gi/results.pickle\n",
      "checkpoint written at output_dfca_gi/checkpoint.pt\n"
     ]
    },
    {
     "name": "stdout",
     "output_type": "stream",
     "text": [
      "Epoch 581 tr: l 0.739 a 0.748 clct[np.int64(52), np.int64(48)] clct_ans[np.int64(52), np.int64(48)]  lr 0.023589 48.710sec(train) 21.044sec(infer)\n"
     ]
    },
    {
     "name": "stdout",
     "output_type": "stream",
     "text": [
      "Epoch 581 tst: l 0.726 a 0.759 clct[np.int64(20), np.int64(20)] clct_ans[np.int64(20), np.int64(20)]  3.768sec\n"
     ]
    },
    {
     "name": "stdout",
     "output_type": "stream",
     "text": [
      "Epoch 582 tr: l 0.736 a 0.748 clct[np.int64(47), np.int64(53)] clct_ans[np.int64(47), np.int64(53)]  lr 0.023586 48.882sec(train) 21.183sec(infer)\n"
     ]
    },
    {
     "name": "stdout",
     "output_type": "stream",
     "text": [
      "Epoch 582 tst: l 0.726 a 0.757 clct[np.int64(20), np.int64(20)] clct_ans[np.int64(20), np.int64(20)]  3.293sec\n"
     ]
    },
    {
     "name": "stdout",
     "output_type": "stream",
     "text": [
      "Epoch 583 tr: l 0.738 a 0.748 clct[np.int64(50), np.int64(50)] clct_ans[np.int64(50), np.int64(50)]  lr 0.023584 48.792sec(train) 21.033sec(infer)\n"
     ]
    },
    {
     "name": "stdout",
     "output_type": "stream",
     "text": [
      "Epoch 583 tst: l 0.726 a 0.758 clct[np.int64(20), np.int64(20)] clct_ans[np.int64(20), np.int64(20)]  3.379sec\n"
     ]
    },
    {
     "name": "stdout",
     "output_type": "stream",
     "text": [
      "Epoch 584 tr: l 0.732 a 0.751 clct[np.int64(52), np.int64(48)] clct_ans[np.int64(52), np.int64(48)]  lr 0.023582 47.700sec(train) 21.292sec(infer)\n"
     ]
    },
    {
     "name": "stdout",
     "output_type": "stream",
     "text": [
      "Epoch 584 tst: l 0.727 a 0.757 clct[np.int64(20), np.int64(20)] clct_ans[np.int64(20), np.int64(20)]  3.502sec\n"
     ]
    },
    {
     "name": "stdout",
     "output_type": "stream",
     "text": [
      "Epoch 585 tr: l 0.741 a 0.747 clct[np.int64(50), np.int64(50)] clct_ans[np.int64(50), np.int64(50)]  lr 0.023579 46.300sec(train) 21.325sec(infer)\n"
     ]
    },
    {
     "name": "stdout",
     "output_type": "stream",
     "text": [
      "Epoch 585 tst: l 0.727 a 0.758 clct[np.int64(20), np.int64(20)] clct_ans[np.int64(20), np.int64(20)]  3.446sec\n"
     ]
    },
    {
     "name": "stdout",
     "output_type": "stream",
     "text": [
      "Epoch 586 tr: l 0.735 a 0.748 clct[np.int64(59), np.int64(41)] clct_ans[np.int64(59), np.int64(41)]  lr 0.023577 46.729sec(train) 20.955sec(infer)\n"
     ]
    },
    {
     "name": "stdout",
     "output_type": "stream",
     "text": [
      "Epoch 586 tst: l 0.726 a 0.758 clct[np.int64(20), np.int64(20)] clct_ans[np.int64(20), np.int64(20)]  3.387sec\n"
     ]
    },
    {
     "name": "stdout",
     "output_type": "stream",
     "text": [
      "Epoch 587 tr: l 0.744 a 0.747 clct[np.int64(49), np.int64(51)] clct_ans[np.int64(49), np.int64(51)]  lr 0.023575 48.508sec(train) 21.149sec(infer)\n"
     ]
    },
    {
     "name": "stdout",
     "output_type": "stream",
     "text": [
      "Epoch 587 tst: l 0.728 a 0.756 clct[np.int64(20), np.int64(20)] clct_ans[np.int64(20), np.int64(20)]  3.752sec\n"
     ]
    },
    {
     "name": "stdout",
     "output_type": "stream",
     "text": [
      "Epoch 588 tr: l 0.726 a 0.752 clct[np.int64(50), np.int64(50)] clct_ans[np.int64(50), np.int64(50)]  lr 0.023572 49.161sec(train) 21.209sec(infer)\n"
     ]
    },
    {
     "name": "stdout",
     "output_type": "stream",
     "text": [
      "Epoch 588 tst: l 0.726 a 0.758 clct[np.int64(20), np.int64(20)] clct_ans[np.int64(20), np.int64(20)]  3.236sec\n"
     ]
    },
    {
     "name": "stdout",
     "output_type": "stream",
     "text": [
      "Epoch 589 tr: l 0.738 a 0.748 clct[np.int64(52), np.int64(48)] clct_ans[np.int64(52), np.int64(48)]  lr 0.023570 47.739sec(train) 21.032sec(infer)\n"
     ]
    },
    {
     "name": "stdout",
     "output_type": "stream",
     "text": [
      "Epoch 589 tst: l 0.730 a 0.757 clct[np.int64(20), np.int64(20)] clct_ans[np.int64(20), np.int64(20)]  3.367sec\n"
     ]
    },
    {
     "name": "stdout",
     "output_type": "stream",
     "text": [
      "Epoch 590 tr: l 0.738 a 0.750 clct[np.int64(54), np.int64(46)] clct_ans[np.int64(54), np.int64(46)]  lr 0.023568 48.921sec(train) 21.587sec(infer)\n"
     ]
    },
    {
     "name": "stdout",
     "output_type": "stream",
     "text": [
      "Epoch 590 tst: l 0.726 a 0.759 clct[np.int64(20), np.int64(20)] clct_ans[np.int64(20), np.int64(20)]  3.395sec\n"
     ]
    },
    {
     "name": "stdout",
     "output_type": "stream",
     "text": [
      "result written at output_dfca_gi/results.pickle\n",
      "checkpoint written at output_dfca_gi/checkpoint.pt\n"
     ]
    },
    {
     "name": "stdout",
     "output_type": "stream",
     "text": [
      "Epoch 591 tr: l 0.738 a 0.748 clct[np.int64(50), np.int64(50)] clct_ans[np.int64(50), np.int64(50)]  lr 0.023565 48.719sec(train) 20.990sec(infer)\n"
     ]
    },
    {
     "name": "stdout",
     "output_type": "stream",
     "text": [
      "Epoch 591 tst: l 0.726 a 0.758 clct[np.int64(20), np.int64(20)] clct_ans[np.int64(20), np.int64(20)]  3.316sec\n"
     ]
    },
    {
     "name": "stdout",
     "output_type": "stream",
     "text": [
      "Epoch 592 tr: l 0.737 a 0.749 clct[np.int64(50), np.int64(50)] clct_ans[np.int64(50), np.int64(50)]  lr 0.023563 48.784sec(train) 20.994sec(infer)\n"
     ]
    },
    {
     "name": "stdout",
     "output_type": "stream",
     "text": [
      "Epoch 592 tst: l 0.725 a 0.757 clct[np.int64(20), np.int64(20)] clct_ans[np.int64(20), np.int64(20)]  3.455sec\n"
     ]
    },
    {
     "name": "stdout",
     "output_type": "stream",
     "text": [
      "Epoch 593 tr: l 0.745 a 0.748 clct[np.int64(50), np.int64(50)] clct_ans[np.int64(50), np.int64(50)]  lr 0.023561 49.658sec(train) 21.520sec(infer)\n"
     ]
    },
    {
     "name": "stdout",
     "output_type": "stream",
     "text": [
      "Epoch 593 tst: l 0.726 a 0.756 clct[np.int64(20), np.int64(20)] clct_ans[np.int64(20), np.int64(20)]  4.041sec\n"
     ]
    },
    {
     "name": "stdout",
     "output_type": "stream",
     "text": [
      "Epoch 594 tr: l 0.734 a 0.749 clct[np.int64(43), np.int64(57)] clct_ans[np.int64(43), np.int64(57)]  lr 0.023558 48.333sec(train) 21.689sec(infer)\n"
     ]
    },
    {
     "name": "stdout",
     "output_type": "stream",
     "text": [
      "Epoch 594 tst: l 0.724 a 0.758 clct[np.int64(20), np.int64(20)] clct_ans[np.int64(20), np.int64(20)]  3.612sec\n"
     ]
    },
    {
     "name": "stdout",
     "output_type": "stream",
     "text": [
      "Epoch 595 tr: l 0.729 a 0.751 clct[np.int64(44), np.int64(56)] clct_ans[np.int64(44), np.int64(56)]  lr 0.023556 48.939sec(train) 21.701sec(infer)\n"
     ]
    },
    {
     "name": "stdout",
     "output_type": "stream",
     "text": [
      "Epoch 595 tst: l 0.724 a 0.758 clct[np.int64(20), np.int64(20)] clct_ans[np.int64(20), np.int64(20)]  3.688sec\n"
     ]
    },
    {
     "name": "stdout",
     "output_type": "stream",
     "text": [
      "Epoch 596 tr: l 0.741 a 0.745 clct[np.int64(49), np.int64(51)] clct_ans[np.int64(49), np.int64(51)]  lr 0.023553 48.914sec(train) 21.606sec(infer)\n"
     ]
    },
    {
     "name": "stdout",
     "output_type": "stream",
     "text": [
      "Epoch 596 tst: l 0.727 a 0.757 clct[np.int64(20), np.int64(20)] clct_ans[np.int64(20), np.int64(20)]  3.551sec\n"
     ]
    },
    {
     "name": "stdout",
     "output_type": "stream",
     "text": [
      "Epoch 597 tr: l 0.736 a 0.751 clct[np.int64(54), np.int64(46)] clct_ans[np.int64(54), np.int64(46)]  lr 0.023551 42.626sec(train) 22.539sec(infer)\n"
     ]
    },
    {
     "name": "stdout",
     "output_type": "stream",
     "text": [
      "Epoch 597 tst: l 0.726 a 0.756 clct[np.int64(20), np.int64(20)] clct_ans[np.int64(20), np.int64(20)]  3.612sec\n"
     ]
    },
    {
     "name": "stdout",
     "output_type": "stream",
     "text": [
      "Epoch 598 tr: l 0.730 a 0.751 clct[np.int64(54), np.int64(46)] clct_ans[np.int64(54), np.int64(46)]  lr 0.023549 46.794sec(train) 22.390sec(infer)\n"
     ]
    },
    {
     "name": "stdout",
     "output_type": "stream",
     "text": [
      "Epoch 598 tst: l 0.727 a 0.756 clct[np.int64(20), np.int64(20)] clct_ans[np.int64(20), np.int64(20)]  3.588sec\n"
     ]
    },
    {
     "name": "stdout",
     "output_type": "stream",
     "text": [
      "Epoch 599 tr: l 0.735 a 0.749 clct[np.int64(52), np.int64(48)] clct_ans[np.int64(52), np.int64(48)]  lr 0.023546 47.889sec(train) 21.686sec(infer)\n"
     ]
    },
    {
     "name": "stdout",
     "output_type": "stream",
     "text": [
      "Epoch 599 tst: l 0.726 a 0.756 clct[np.int64(20), np.int64(20)] clct_ans[np.int64(20), np.int64(20)]  3.588sec\n"
     ]
    },
    {
     "name": "stdout",
     "output_type": "stream",
     "text": [
      "result written at output_dfca_gi/results.pickle\n",
      "checkpoint written at output_dfca_gi/checkpoint.pt\n"
     ]
    },
    {
     "ename": "KeyError",
     "evalue": "'cl_acc'",
     "output_type": "error",
     "traceback": [
      "\u001b[31m---------------------------------------------------------------------------\u001b[39m",
      "\u001b[31mKeyError\u001b[39m                                  Traceback (most recent call last)",
      "\u001b[36mCell\u001b[39m\u001b[36m \u001b[39m\u001b[32mIn[2]\u001b[39m\u001b[32m, line 19\u001b[39m\n\u001b[32m     17\u001b[39m exp.setup()\n\u001b[32m     18\u001b[39m res = exp.run()\n\u001b[32m---> \u001b[39m\u001b[32m19\u001b[39m res_final.append([[r[\u001b[33m'\u001b[39m\u001b[33mtest\u001b[39m\u001b[33m'\u001b[39m][\u001b[33m'\u001b[39m\u001b[33mloss\u001b[39m\u001b[33m'\u001b[39m] \u001b[38;5;28;01mfor\u001b[39;00m r \u001b[38;5;129;01min\u001b[39;00m res], [r[\u001b[33m'\u001b[39m\u001b[33mtest\u001b[39m\u001b[33m'\u001b[39m][\u001b[33m'\u001b[39m\u001b[33macc\u001b[39m\u001b[33m'\u001b[39m] \u001b[38;5;28;01mfor\u001b[39;00m r \u001b[38;5;129;01min\u001b[39;00m res], \u001b[43m[\u001b[49m\u001b[43mr\u001b[49m\u001b[43m[\u001b[49m\u001b[33;43m'\u001b[39;49m\u001b[33;43mtest\u001b[39;49m\u001b[33;43m'\u001b[39;49m\u001b[43m]\u001b[49m\u001b[43m[\u001b[49m\u001b[33;43m'\u001b[39;49m\u001b[33;43mcl_acc\u001b[39;49m\u001b[33;43m'\u001b[39;49m\u001b[43m]\u001b[49m\u001b[43m \u001b[49m\u001b[38;5;28;43;01mfor\u001b[39;49;00m\u001b[43m \u001b[49m\u001b[43mr\u001b[49m\u001b[43m \u001b[49m\u001b[38;5;129;43;01min\u001b[39;49;00m\u001b[43m \u001b[49m\u001b[43mres\u001b[49m\u001b[43m]\u001b[49m])\n\u001b[32m     20\u001b[39m duration = (time.time() - start_time)\n\u001b[32m     21\u001b[39m \u001b[38;5;28mprint\u001b[39m(\u001b[33m\"\u001b[39m\u001b[33m---train cluster Ended in \u001b[39m\u001b[38;5;132;01m%0.2f\u001b[39;00m\u001b[33m hour (\u001b[39m\u001b[38;5;132;01m%.3f\u001b[39;00m\u001b[33m sec) \u001b[39m\u001b[33m\"\u001b[39m % (duration/\u001b[38;5;28mfloat\u001b[39m(\u001b[32m3600\u001b[39m), duration))\n",
      "\u001b[36mCell\u001b[39m\u001b[36m \u001b[39m\u001b[32mIn[2]\u001b[39m\u001b[32m, line 19\u001b[39m, in \u001b[36m<listcomp>\u001b[39m\u001b[34m(.0)\u001b[39m\n\u001b[32m     17\u001b[39m exp.setup()\n\u001b[32m     18\u001b[39m res = exp.run()\n\u001b[32m---> \u001b[39m\u001b[32m19\u001b[39m res_final.append([[r[\u001b[33m'\u001b[39m\u001b[33mtest\u001b[39m\u001b[33m'\u001b[39m][\u001b[33m'\u001b[39m\u001b[33mloss\u001b[39m\u001b[33m'\u001b[39m] \u001b[38;5;28;01mfor\u001b[39;00m r \u001b[38;5;129;01min\u001b[39;00m res], [r[\u001b[33m'\u001b[39m\u001b[33mtest\u001b[39m\u001b[33m'\u001b[39m][\u001b[33m'\u001b[39m\u001b[33macc\u001b[39m\u001b[33m'\u001b[39m] \u001b[38;5;28;01mfor\u001b[39;00m r \u001b[38;5;129;01min\u001b[39;00m res], [\u001b[43mr\u001b[49m\u001b[43m[\u001b[49m\u001b[33;43m'\u001b[39;49m\u001b[33;43mtest\u001b[39;49m\u001b[33;43m'\u001b[39;49m\u001b[43m]\u001b[49m\u001b[43m[\u001b[49m\u001b[33;43m'\u001b[39;49m\u001b[33;43mcl_acc\u001b[39;49m\u001b[33;43m'\u001b[39;49m\u001b[43m]\u001b[49m \u001b[38;5;28;01mfor\u001b[39;00m r \u001b[38;5;129;01min\u001b[39;00m res]])\n\u001b[32m     20\u001b[39m duration = (time.time() - start_time)\n\u001b[32m     21\u001b[39m \u001b[38;5;28mprint\u001b[39m(\u001b[33m\"\u001b[39m\u001b[33m---train cluster Ended in \u001b[39m\u001b[38;5;132;01m%0.2f\u001b[39;00m\u001b[33m hour (\u001b[39m\u001b[38;5;132;01m%.3f\u001b[39;00m\u001b[33m sec) \u001b[39m\u001b[33m\"\u001b[39m % (duration/\u001b[38;5;28mfloat\u001b[39m(\u001b[32m3600\u001b[39m), duration))\n",
      "\u001b[31mKeyError\u001b[39m: 'cl_acc'"
     ]
    }
   ],
   "source": [
    "torch.cuda.empty_cache()\n",
    "\n",
    "with open(\"config.json\", \"r\") as read_file:\n",
    "    config = json.load(read_file)\n",
    "\n",
    "res_final = []\n",
    "\n",
    "start_time = time.time()\n",
    "config['data_seed'] = 13\n",
    "config['train_seed'] = config['data_seed']\n",
    "\n",
    "print(\"config:\",config)\n",
    "device = torch.device(\"cuda\" if torch.cuda.is_available() else \"cpu\")\n",
    "print(f\"Using device: {device}\")\n",
    "\n",
    "exp = IFCA.TrainCIFARCluster(config, device)\n",
    "exp.setup()\n",
    "res = exp.run()\n",
    "res_final.append([[r['test']['loss'] for r in res], [r['test']['acc'] for r in res], [r['test']['cl_acc'] for r in res]])\n",
    "duration = (time.time() - start_time)\n",
    "print(\"---train cluster Ended in %0.2f hour (%.3f sec) \" % (duration/float(3600), duration))\n"
   ]
  },
  {
   "cell_type": "code",
   "execution_count": 3,
   "id": "e3b6a426",
   "metadata": {
    "execution": {
     "iopub.execute_input": "2025-06-14T22:35:04.463970Z",
     "iopub.status.busy": "2025-06-14T22:35:04.463793Z",
     "iopub.status.idle": "2025-06-14T22:35:04.495677Z",
     "shell.execute_reply": "2025-06-14T22:35:04.494830Z"
    }
   },
   "outputs": [
    {
     "ename": "IndexError",
     "evalue": "list index out of range",
     "output_type": "error",
     "traceback": [
      "\u001b[31m---------------------------------------------------------------------------\u001b[39m",
      "\u001b[31mIndexError\u001b[39m                                Traceback (most recent call last)",
      "\u001b[36mCell\u001b[39m\u001b[36m \u001b[39m\u001b[32mIn[3]\u001b[39m\u001b[32m, line 1\u001b[39m\n\u001b[32m----> \u001b[39m\u001b[32m1\u001b[39m last_loss = \u001b[43mres_final\u001b[49m\u001b[43m[\u001b[49m\u001b[32;43m0\u001b[39;49m\u001b[43m]\u001b[49m[\u001b[32m0\u001b[39m][-\u001b[32m1\u001b[39m]\n\u001b[32m      2\u001b[39m last_acc = res_final[\u001b[32m0\u001b[39m][\u001b[32m1\u001b[39m][-\u001b[32m1\u001b[39m]\n\u001b[32m      3\u001b[39m last_cl_acc = res_final[\u001b[32m0\u001b[39m][\u001b[32m2\u001b[39m][-\u001b[32m1\u001b[39m]\n",
      "\u001b[31mIndexError\u001b[39m: list index out of range"
     ]
    }
   ],
   "source": [
    "last_loss = res_final[0][0][-1]\n",
    "last_acc = res_final[0][1][-1]\n",
    "last_cl_acc = res_final[0][2][-1]\n",
    "\n",
    "print(\"Last Epoch Test Loss:\", last_loss)\n",
    "print(\"Last Epoch Test Accuracy:\", last_acc)\n",
    "print(\"Last Epoch Test Cluster Accuracy:\", last_cl_acc)"
   ]
  }
 ],
 "metadata": {
  "kernelspec": {
   "display_name": "Python 3",
   "language": "python",
   "name": "python3"
  },
  "language_info": {
   "codemirror_mode": {
    "name": "ipython",
    "version": 3
   },
   "file_extension": ".py",
   "mimetype": "text/x-python",
   "name": "python",
   "nbconvert_exporter": "python",
   "pygments_lexer": "ipython3",
   "version": "3.11.11"
  }
 },
 "nbformat": 4,
 "nbformat_minor": 5
}
