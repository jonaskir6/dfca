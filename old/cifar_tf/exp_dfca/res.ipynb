{
 "cells": [
  {
   "cell_type": "code",
   "execution_count": 3,
   "metadata": {},
   "outputs": [
    {
     "name": "stdout",
     "output_type": "stream",
     "text": [
      "Last Test Loss: 0.9830691456794739\n",
      "Last Test Accuracy: 0.7331\n",
      "Last Classification Accuracy: 0.8\n",
      "Last Train Loss: 0.8553176641464233\n"
     ]
    }
   ],
   "source": [
    "import pickle\n",
    "\n",
    "with open(\"res_dfca.pickle\", \"rb\") as f:\n",
    "    r_dfca_gi = pickle.load(f)\n",
    "\n",
    "last_test_loss = r_dfca_gi['test_loss'][0][-1]\n",
    "last_test_acc = r_dfca_gi['test_acc'][0][-1]\n",
    "last_cl_acc = r_dfca_gi['cl_acc'][0][-1]\n",
    "last_train_loss = r_dfca_gi['train_loss'][0][-1]\n",
    "\n",
    "# Print the last values for each stat\n",
    "print(f\"Last Test Loss: {last_test_loss}\")\n",
    "print(f\"Last Test Accuracy: {last_test_acc}\")\n",
    "print(f\"Last Classification Accuracy: {last_cl_acc}\")\n",
    "print(f\"Last Train Loss: {last_train_loss}\")"
   ]
  }
 ],
 "metadata": {
  "kernelspec": {
   "display_name": "kirch",
   "language": "python",
   "name": "python3"
  },
  "language_info": {
   "codemirror_mode": {
    "name": "ipython",
    "version": 3
   },
   "file_extension": ".py",
   "mimetype": "text/x-python",
   "name": "python",
   "nbconvert_exporter": "python",
   "pygments_lexer": "ipython3",
   "version": "3.11.11"
  }
 },
 "nbformat": 4,
 "nbformat_minor": 2
}
