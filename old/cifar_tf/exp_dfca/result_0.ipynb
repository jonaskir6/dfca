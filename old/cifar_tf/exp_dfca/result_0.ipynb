{
 "cells": [
  {
   "cell_type": "code",
   "execution_count": 1,
   "metadata": {
    "execution": {
     "iopub.execute_input": "2025-06-01T10:27:09.918624Z",
     "iopub.status.busy": "2025-06-01T10:27:09.918321Z",
     "iopub.status.idle": "2025-06-01T10:27:13.284109Z",
     "shell.execute_reply": "2025-06-01T10:27:13.283559Z"
    },
    "id": "OHJWesKs-tqd"
   },
   "outputs": [
    {
     "name": "stderr",
     "output_type": "stream",
     "text": [
      "2025-06-01 12:27:12.025668: I tensorflow/core/platform/cpu_feature_guard.cc:210] This TensorFlow binary is optimized to use available CPU instructions in performance-critical operations.\n",
      "To enable the following instructions: SSE4.1 SSE4.2 AVX AVX2 FMA, in other operations, rebuild TensorFlow with the appropriate compiler flags.\n"
     ]
    },
    {
     "name": "stdout",
     "output_type": "stream",
     "text": [
      "WARNING:tensorflow:From /home/rbrinkhege/miniconda3/envs/kirch/lib/python3.11/site-packages/tensorflow/python/compat/v2_compat.py:98: disable_resource_variables (from tensorflow.python.ops.resource_variables_toggle) is deprecated and will be removed in a future version.\n",
      "Instructions for updating:\n",
      "non-resource variables are not supported in the long term\n"
     ]
    }
   ],
   "source": [
    "import json\n",
    "import os\n",
    "import time\n",
    "import ipyparallel as ipp\n",
    "\n",
    "import matplotlib.pyplot as plt\n",
    "import torch\n",
    "import train_cluster_cifar_dfca_tf as DFCA\n",
    "import pickle\n",
    "\n",
    "import numpy as np\n",
    "\n",
    "from util import *"
   ]
  },
  {
   "cell_type": "markdown",
   "metadata": {
    "id": "QAghP_o0-tqe"
   },
   "source": [
    "Reads Config file and prepares the arguments you can choose in the config_dfca.json/config_ifca.json"
   ]
  },
  {
   "cell_type": "code",
   "execution_count": 2,
   "metadata": {
    "execution": {
     "iopub.execute_input": "2025-06-01T10:27:13.286444Z",
     "iopub.status.busy": "2025-06-01T10:27:13.286054Z",
     "iopub.status.idle": "2025-06-01T10:27:13.288756Z",
     "shell.execute_reply": "2025-06-01T10:27:13.288362Z"
    }
   },
   "outputs": [],
   "source": [
    "# theoretically irrelevant here because we initialize the model seed randomly (see find_good_initializer())\n",
    "seeds = [11,12]\n",
    "learning_rates = [0.25]\n",
    "\n",
    "dfca_gi = []\n",
    "ifca = []"
   ]
  },
  {
   "cell_type": "markdown",
   "metadata": {
    "id": "7ADsUSUi-tqf"
   },
   "source": [
    "Running the dfca-gi experiment"
   ]
  },
  {
   "cell_type": "code",
   "execution_count": 3,
   "metadata": {
    "colab": {
     "base_uri": "https://localhost:8080/",
     "height": 1000
    },
    "execution": {
     "iopub.execute_input": "2025-06-01T10:27:13.290250Z",
     "iopub.status.busy": "2025-06-01T10:27:13.290070Z",
     "iopub.status.idle": "2025-06-01T18:53:33.252818Z",
     "shell.execute_reply": "2025-06-01T18:53:33.252230Z"
    },
    "id": "T_XDv25r-tqf",
    "outputId": "9c8f4300-c792-4e49-be40-c694fa066e6f"
   },
   "outputs": [
    {
     "name": "stdout",
     "output_type": "stream",
     "text": [
      "---------------------------------DFCA-GI, lr: 0.25, seed: 11---------------------------------\n",
      "config: {'m': 200, 'm_test': 40, 'p': 2, 'n': 500, 'participation_rate': 0.3, 'num_epochs': 300, 'batch_size': 50, 'tau': 5, 'lr': 0.25, 'data_seed': 11, 'train_seed': 11, 'project_dir': 'output'}\n"
     ]
    },
    {
     "name": "stdout",
     "output_type": "stream",
     "text": [
      "WARNING:tensorflow:From /home/rbrinkhege/repos/decentralized-ifca/cifar_tf/notebooks/exp_dfca/cifar10.py:143: calling TruncatedNormal.__init__ (from tensorflow.python.ops.init_ops) with dtype is deprecated and will be removed in a future version.\n",
      "Instructions for updating:\n",
      "Call initializer instance with the dtype argument instead of passing it to the constructor\n"
     ]
    },
    {
     "name": "stdout",
     "output_type": "stream",
     "text": [
      "finding good initializer from train data\n"
     ]
    },
    {
     "name": "stderr",
     "output_type": "stream",
     "text": [
      "WARNING: All log messages before absl::InitializeLog() is called are written to STDERR\n",
      "I0000 00:00:1748773636.189019 3899355 mlir_graph_optimization_pass.cc:401] MLIR V1 optimization pass is not enabled\n",
      "2025-06-01 12:27:16.232179: W tensorflow/c/c_api.cc:305] Operation '{name:'softmax_linear/biases/Assign' id:221 op device:{requested: '/device:CPU:0', assigned: ''} def:{{{node softmax_linear/biases/Assign}} = Assign[T=DT_FLOAT, _class=[\"loc:@softmax_linear/biases\"], _has_manual_control_dependencies=true, use_locking=true, validate_shape=true, _device=\"/device:CPU:0\"](softmax_linear/biases, softmax_linear/biases/Initializer/Const)}}' was changed by setting attribute after it was run by a session. This mutation will have no effect, and will trigger an error in the future. Either don't modify nodes after running them or create a new session.\n"
     ]
    },
    {
     "name": "stdout",
     "output_type": "stream",
     "text": [
      "Epoch -1 tr: l 4.676 a 0.084  clct[29, 31] ans[31, 29] cl_acc 0.633 3.796sec\n",
      "found good initializer\n"
     ]
    },
    {
     "name": "stdout",
     "output_type": "stream",
     "text": [
      "Epoch -1 tr: l 4.677 a 0.082  clct[24, 36] ans[33, 27] cl_acc 0.650 3.492sec\n"
     ]
    },
    {
     "name": "stdout",
     "output_type": "stream",
     "text": [
      "Epoch -1 tst: l 4.677 a 0.081  clct[22, 18] ans[20, 20] cl_acc 0.650 2.238sec\n"
     ]
    },
    {
     "name": "stdout",
     "output_type": "stream",
     "text": [
      "Epoch 0 tr: l 2.023 a 0.373  clct[1, 59] ans[32, 28] lr 0.250000 cl_acc 0.550 43.715sec(train) 3.883sec(infer)\n"
     ]
    },
    {
     "name": "stdout",
     "output_type": "stream",
     "text": [
      "Epoch 0 tst: l 1.950 a 0.390  clct[0, 40] ans[20, 20] cl_acc 0.500 2.342sec\n",
      "result written at output/results.pickle\n"
     ]
    },
    {
     "name": "stdout",
     "output_type": "stream",
     "text": [
      "Epoch 1 tr: l 1.956 a 0.438  clct[28, 32] ans[32, 28] lr 0.247500 cl_acc 1.000 43.426sec(train) 4.420sec(infer)\n"
     ]
    },
    {
     "name": "stdout",
     "output_type": "stream",
     "text": [
      "Epoch 1 tst: l 1.837 a 0.478  clct[20, 20] ans[20, 20] cl_acc 1.000 2.676sec\n"
     ]
    },
    {
     "name": "stdout",
     "output_type": "stream",
     "text": [
      "Epoch 2 tr: l 1.752 a 0.531  clct[28, 32] ans[32, 28] lr 0.245025 cl_acc 1.000 43.248sec(train) 4.160sec(infer)\n"
     ]
    },
    {
     "name": "stdout",
     "output_type": "stream",
     "text": [
      "Epoch 2 tst: l 1.633 a 0.577  clct[20, 20] ans[20, 20] cl_acc 1.000 2.705sec\n"
     ]
    },
    {
     "name": "stdout",
     "output_type": "stream",
     "text": [
      "Epoch 3 tr: l 1.705 a 0.567  clct[31, 29] ans[29, 31] lr 0.242575 cl_acc 1.000 43.325sec(train) 3.859sec(infer)\n"
     ]
    },
    {
     "name": "stdout",
     "output_type": "stream",
     "text": [
      "Epoch 3 tst: l 1.592 a 0.610  clct[20, 20] ans[20, 20] cl_acc 1.000 2.455sec\n"
     ]
    },
    {
     "name": "stdout",
     "output_type": "stream",
     "text": [
      "Epoch 4 tr: l 1.681 a 0.582  clct[29, 31] ans[31, 29] lr 0.240149 cl_acc 1.000 43.480sec(train) 4.188sec(infer)\n"
     ]
    },
    {
     "name": "stdout",
     "output_type": "stream",
     "text": [
      "Epoch 4 tst: l 1.577 a 0.619  clct[20, 20] ans[20, 20] cl_acc 1.000 2.562sec\n"
     ]
    },
    {
     "name": "stdout",
     "output_type": "stream",
     "text": [
      "Epoch 5 tr: l 1.787 a 0.577  clct[27, 33] ans[33, 27] lr 0.237748 cl_acc 1.000 43.134sec(train) 4.376sec(infer)\n"
     ]
    },
    {
     "name": "stdout",
     "output_type": "stream",
     "text": [
      "Epoch 5 tst: l 1.694 a 0.609  clct[20, 20] ans[20, 20] cl_acc 1.000 2.743sec\n"
     ]
    },
    {
     "name": "stdout",
     "output_type": "stream",
     "text": [
      "Epoch 6 tr: l 1.744 a 0.590  clct[33, 27] ans[27, 33] lr 0.235370 cl_acc 1.000 43.388sec(train) 4.071sec(infer)\n"
     ]
    },
    {
     "name": "stdout",
     "output_type": "stream",
     "text": [
      "Epoch 6 tst: l 1.696 a 0.619  clct[20, 20] ans[20, 20] cl_acc 1.000 2.371sec\n"
     ]
    },
    {
     "name": "stdout",
     "output_type": "stream",
     "text": [
      "Epoch 7 tr: l 1.634 a 0.619  clct[31, 29] ans[29, 31] lr 0.233016 cl_acc 1.000 43.431sec(train) 4.177sec(infer)\n"
     ]
    },
    {
     "name": "stdout",
     "output_type": "stream",
     "text": [
      "Epoch 7 tst: l 1.551 a 0.648  clct[20, 20] ans[20, 20] cl_acc 1.000 2.580sec\n"
     ]
    },
    {
     "name": "stdout",
     "output_type": "stream",
     "text": [
      "Epoch 8 tr: l 1.629 a 0.625  clct[27, 33] ans[33, 27] lr 0.230686 cl_acc 1.000 43.366sec(train) 4.035sec(infer)\n"
     ]
    },
    {
     "name": "stdout",
     "output_type": "stream",
     "text": [
      "Epoch 8 tst: l 1.559 a 0.650  clct[20, 20] ans[20, 20] cl_acc 1.000 2.550sec\n"
     ]
    },
    {
     "name": "stdout",
     "output_type": "stream",
     "text": [
      "Epoch 9 tr: l 1.615 a 0.634  clct[32, 28] ans[28, 32] lr 0.228379 cl_acc 1.000 43.399sec(train) 4.117sec(infer)\n"
     ]
    },
    {
     "name": "stdout",
     "output_type": "stream",
     "text": [
      "Epoch 9 tst: l 1.539 a 0.664  clct[20, 20] ans[20, 20] cl_acc 1.000 2.547sec\n"
     ]
    },
    {
     "name": "stdout",
     "output_type": "stream",
     "text": [
      "Epoch 10 tr: l 1.704 a 0.613  clct[30, 30] ans[30, 30] lr 0.226096 cl_acc 1.000 43.540sec(train) 3.946sec(infer)\n"
     ]
    },
    {
     "name": "stdout",
     "output_type": "stream",
     "text": [
      "Epoch 10 tst: l 1.595 a 0.648  clct[20, 20] ans[20, 20] cl_acc 1.000 2.405sec\n",
      "result written at output/results.pickle\n"
     ]
    },
    {
     "name": "stdout",
     "output_type": "stream",
     "text": [
      "Epoch 11 tr: l 1.600 a 0.647  clct[31, 29] ans[29, 31] lr 0.223835 cl_acc 1.000 42.977sec(train) 3.973sec(infer)\n"
     ]
    },
    {
     "name": "stdout",
     "output_type": "stream",
     "text": [
      "Epoch 11 tst: l 1.506 a 0.681  clct[20, 20] ans[20, 20] cl_acc 1.000 2.504sec\n"
     ]
    },
    {
     "name": "stdout",
     "output_type": "stream",
     "text": [
      "Epoch 12 tr: l 1.660 a 0.633  clct[28, 32] ans[32, 28] lr 0.221596 cl_acc 1.000 43.150sec(train) 4.081sec(infer)\n"
     ]
    },
    {
     "name": "stdout",
     "output_type": "stream",
     "text": [
      "Epoch 12 tst: l 1.619 a 0.652  clct[20, 20] ans[20, 20] cl_acc 1.000 2.583sec\n"
     ]
    },
    {
     "name": "stdout",
     "output_type": "stream",
     "text": [
      "Epoch 13 tr: l 1.563 a 0.647  clct[30, 30] ans[30, 30] lr 0.219380 cl_acc 1.000 43.294sec(train) 4.396sec(infer)\n"
     ]
    },
    {
     "name": "stdout",
     "output_type": "stream",
     "text": [
      "Epoch 13 tst: l 1.478 a 0.682  clct[20, 20] ans[20, 20] cl_acc 1.000 2.649sec\n"
     ]
    },
    {
     "name": "stdout",
     "output_type": "stream",
     "text": [
      "Epoch 14 tr: l 1.538 a 0.655  clct[30, 30] ans[30, 30] lr 0.217186 cl_acc 1.000 43.202sec(train) 4.289sec(infer)\n"
     ]
    },
    {
     "name": "stdout",
     "output_type": "stream",
     "text": [
      "Epoch 14 tst: l 1.463 a 0.679  clct[20, 20] ans[20, 20] cl_acc 1.000 2.814sec\n"
     ]
    },
    {
     "name": "stdout",
     "output_type": "stream",
     "text": [
      "Epoch 15 tr: l 1.567 a 0.646  clct[30, 30] ans[30, 30] lr 0.215015 cl_acc 1.000 43.318sec(train) 4.144sec(infer)\n"
     ]
    },
    {
     "name": "stdout",
     "output_type": "stream",
     "text": [
      "Epoch 15 tst: l 1.502 a 0.671  clct[20, 20] ans[20, 20] cl_acc 1.000 2.550sec\n"
     ]
    },
    {
     "name": "stdout",
     "output_type": "stream",
     "text": [
      "Epoch 16 tr: l 1.583 a 0.653  clct[29, 31] ans[31, 29] lr 0.212864 cl_acc 1.000 43.141sec(train) 3.910sec(infer)\n"
     ]
    },
    {
     "name": "stdout",
     "output_type": "stream",
     "text": [
      "Epoch 16 tst: l 1.508 a 0.679  clct[20, 20] ans[20, 20] cl_acc 1.000 2.695sec\n"
     ]
    },
    {
     "name": "stdout",
     "output_type": "stream",
     "text": [
      "Epoch 17 tr: l 1.525 a 0.666  clct[25, 35] ans[35, 25] lr 0.210736 cl_acc 1.000 43.243sec(train) 4.251sec(infer)\n"
     ]
    },
    {
     "name": "stdout",
     "output_type": "stream",
     "text": [
      "Epoch 17 tst: l 1.469 a 0.689  clct[20, 20] ans[20, 20] cl_acc 1.000 2.575sec\n"
     ]
    },
    {
     "name": "stdout",
     "output_type": "stream",
     "text": [
      "Epoch 18 tr: l 1.529 a 0.664  clct[29, 31] ans[31, 29] lr 0.208628 cl_acc 1.000 43.176sec(train) 4.001sec(infer)\n"
     ]
    },
    {
     "name": "stdout",
     "output_type": "stream",
     "text": [
      "Epoch 18 tst: l 1.479 a 0.688  clct[20, 20] ans[20, 20] cl_acc 1.000 2.503sec\n"
     ]
    },
    {
     "name": "stdout",
     "output_type": "stream",
     "text": [
      "Epoch 19 tr: l 1.578 a 0.653  clct[26, 34] ans[34, 26] lr 0.206542 cl_acc 1.000 43.201sec(train) 4.206sec(infer)\n"
     ]
    },
    {
     "name": "stdout",
     "output_type": "stream",
     "text": [
      "Epoch 19 tst: l 1.550 a 0.666  clct[20, 20] ans[20, 20] cl_acc 1.000 2.865sec\n"
     ]
    },
    {
     "name": "stdout",
     "output_type": "stream",
     "text": [
      "Epoch 20 tr: l 1.525 a 0.662  clct[40, 20] ans[20, 40] lr 0.204477 cl_acc 1.000 43.123sec(train) 3.879sec(infer)\n"
     ]
    },
    {
     "name": "stdout",
     "output_type": "stream",
     "text": [
      "Epoch 20 tst: l 1.453 a 0.686  clct[20, 20] ans[20, 20] cl_acc 1.000 2.645sec\n",
      "result written at output/results.pickle\n"
     ]
    },
    {
     "name": "stdout",
     "output_type": "stream",
     "text": [
      "Epoch 21 tr: l 1.497 a 0.668  clct[34, 26] ans[26, 34] lr 0.202432 cl_acc 1.000 43.218sec(train) 4.161sec(infer)\n"
     ]
    },
    {
     "name": "stdout",
     "output_type": "stream",
     "text": [
      "Epoch 21 tst: l 1.401 a 0.702  clct[20, 20] ans[20, 20] cl_acc 1.000 2.519sec\n"
     ]
    },
    {
     "name": "stdout",
     "output_type": "stream",
     "text": [
      "Epoch 22 tr: l 1.447 a 0.686  clct[33, 27] ans[27, 33] lr 0.200408 cl_acc 1.000 43.247sec(train) 4.384sec(infer)\n"
     ]
    },
    {
     "name": "stdout",
     "output_type": "stream",
     "text": [
      "Epoch 22 tst: l 1.367 a 0.715  clct[20, 20] ans[20, 20] cl_acc 1.000 2.758sec\n"
     ]
    },
    {
     "name": "stdout",
     "output_type": "stream",
     "text": [
      "Epoch 23 tr: l 1.400 a 0.696  clct[33, 27] ans[27, 33] lr 0.198404 cl_acc 1.000 43.118sec(train) 4.070sec(infer)\n"
     ]
    },
    {
     "name": "stdout",
     "output_type": "stream",
     "text": [
      "Epoch 23 tst: l 1.356 a 0.713  clct[20, 20] ans[20, 20] cl_acc 1.000 2.577sec\n"
     ]
    },
    {
     "name": "stdout",
     "output_type": "stream",
     "text": [
      "Epoch 24 tr: l 1.409 a 0.696  clct[27, 33] ans[33, 27] lr 0.196420 cl_acc 1.000 43.424sec(train) 4.124sec(infer)\n"
     ]
    },
    {
     "name": "stdout",
     "output_type": "stream",
     "text": [
      "Epoch 24 tst: l 1.382 a 0.713  clct[20, 20] ans[20, 20] cl_acc 1.000 2.485sec\n"
     ]
    },
    {
     "name": "stdout",
     "output_type": "stream",
     "text": [
      "Epoch 25 tr: l 1.428 a 0.678  clct[34, 26] ans[26, 34] lr 0.194455 cl_acc 1.000 43.131sec(train) 4.251sec(infer)\n"
     ]
    },
    {
     "name": "stdout",
     "output_type": "stream",
     "text": [
      "Epoch 25 tst: l 1.379 a 0.699  clct[20, 20] ans[20, 20] cl_acc 1.000 2.540sec\n"
     ]
    },
    {
     "name": "stdout",
     "output_type": "stream",
     "text": [
      "Epoch 26 tr: l 1.439 a 0.685  clct[33, 27] ans[27, 33] lr 0.192511 cl_acc 1.000 43.317sec(train) 4.410sec(infer)\n"
     ]
    },
    {
     "name": "stdout",
     "output_type": "stream",
     "text": [
      "Epoch 26 tst: l 1.357 a 0.716  clct[20, 20] ans[20, 20] cl_acc 1.000 2.640sec\n"
     ]
    },
    {
     "name": "stdout",
     "output_type": "stream",
     "text": [
      "Epoch 27 tr: l 1.479 a 0.679  clct[32, 28] ans[28, 32] lr 0.190586 cl_acc 1.000 43.071sec(train) 4.248sec(infer)\n"
     ]
    },
    {
     "name": "stdout",
     "output_type": "stream",
     "text": [
      "Epoch 27 tst: l 1.431 a 0.696  clct[20, 20] ans[20, 20] cl_acc 1.000 2.562sec\n"
     ]
    },
    {
     "name": "stdout",
     "output_type": "stream",
     "text": [
      "Epoch 28 tr: l 1.450 a 0.684  clct[30, 30] ans[30, 30] lr 0.188680 cl_acc 1.000 43.052sec(train) 4.043sec(infer)\n"
     ]
    },
    {
     "name": "stdout",
     "output_type": "stream",
     "text": [
      "Epoch 28 tst: l 1.416 a 0.700  clct[20, 20] ans[20, 20] cl_acc 1.000 2.500sec\n"
     ]
    },
    {
     "name": "stdout",
     "output_type": "stream",
     "text": [
      "Epoch 29 tr: l 1.409 a 0.684  clct[30, 30] ans[30, 30] lr 0.186793 cl_acc 1.000 43.290sec(train) 4.063sec(infer)\n"
     ]
    },
    {
     "name": "stdout",
     "output_type": "stream",
     "text": [
      "Epoch 29 tst: l 1.339 a 0.711  clct[20, 20] ans[20, 20] cl_acc 1.000 2.433sec\n"
     ]
    },
    {
     "name": "stdout",
     "output_type": "stream",
     "text": [
      "Epoch 30 tr: l 1.519 a 0.675  clct[31, 29] ans[29, 31] lr 0.184925 cl_acc 1.000 43.209sec(train) 3.964sec(infer)\n"
     ]
    },
    {
     "name": "stdout",
     "output_type": "stream",
     "text": [
      "Epoch 30 tst: l 1.487 a 0.693  clct[20, 20] ans[20, 20] cl_acc 1.000 2.549sec\n",
      "result written at output/results.pickle\n"
     ]
    },
    {
     "name": "stdout",
     "output_type": "stream",
     "text": [
      "Epoch 31 tr: l 1.398 a 0.705  clct[32, 28] ans[28, 32] lr 0.183076 cl_acc 1.000 43.219sec(train) 3.922sec(infer)\n"
     ]
    },
    {
     "name": "stdout",
     "output_type": "stream",
     "text": [
      "Epoch 31 tst: l 1.336 a 0.719  clct[20, 20] ans[20, 20] cl_acc 1.000 2.573sec\n"
     ]
    },
    {
     "name": "stdout",
     "output_type": "stream",
     "text": [
      "Epoch 32 tr: l 1.404 a 0.693  clct[27, 33] ans[33, 27] lr 0.181245 cl_acc 1.000 43.344sec(train) 3.947sec(infer)\n"
     ]
    },
    {
     "name": "stdout",
     "output_type": "stream",
     "text": [
      "Epoch 32 tst: l 1.353 a 0.713  clct[20, 20] ans[20, 20] cl_acc 1.000 2.433sec\n"
     ]
    },
    {
     "name": "stdout",
     "output_type": "stream",
     "text": [
      "Epoch 33 tr: l 1.451 a 0.690  clct[31, 29] ans[29, 31] lr 0.179433 cl_acc 1.000 43.181sec(train) 4.086sec(infer)\n"
     ]
    },
    {
     "name": "stdout",
     "output_type": "stream",
     "text": [
      "Epoch 33 tst: l 1.411 a 0.704  clct[20, 20] ans[20, 20] cl_acc 1.000 2.585sec\n"
     ]
    },
    {
     "name": "stdout",
     "output_type": "stream",
     "text": [
      "Epoch 34 tr: l 1.439 a 0.682  clct[29, 31] ans[31, 29] lr 0.177638 cl_acc 1.000 43.189sec(train) 3.663sec(infer)\n"
     ]
    },
    {
     "name": "stdout",
     "output_type": "stream",
     "text": [
      "Epoch 34 tst: l 1.386 a 0.705  clct[20, 20] ans[20, 20] cl_acc 1.000 2.270sec\n"
     ]
    },
    {
     "name": "stdout",
     "output_type": "stream",
     "text": [
      "Epoch 35 tr: l 1.343 a 0.710  clct[27, 33] ans[33, 27] lr 0.175862 cl_acc 1.000 43.327sec(train) 4.187sec(infer)\n"
     ]
    },
    {
     "name": "stdout",
     "output_type": "stream",
     "text": [
      "Epoch 35 tst: l 1.318 a 0.726  clct[20, 20] ans[20, 20] cl_acc 1.000 2.591sec\n"
     ]
    },
    {
     "name": "stdout",
     "output_type": "stream",
     "text": [
      "Epoch 36 tr: l 1.350 a 0.707  clct[30, 30] ans[30, 30] lr 0.174103 cl_acc 1.000 43.359sec(train) 4.114sec(infer)\n"
     ]
    },
    {
     "name": "stdout",
     "output_type": "stream",
     "text": [
      "Epoch 36 tst: l 1.304 a 0.727  clct[20, 20] ans[20, 20] cl_acc 1.000 2.533sec\n"
     ]
    },
    {
     "name": "stdout",
     "output_type": "stream",
     "text": [
      "Epoch 37 tr: l 1.357 a 0.706  clct[32, 28] ans[28, 32] lr 0.172362 cl_acc 1.000 43.070sec(train) 4.473sec(infer)\n"
     ]
    },
    {
     "name": "stdout",
     "output_type": "stream",
     "text": [
      "Epoch 37 tst: l 1.306 a 0.726  clct[20, 20] ans[20, 20] cl_acc 1.000 2.706sec\n"
     ]
    },
    {
     "name": "stdout",
     "output_type": "stream",
     "text": [
      "Epoch 38 tr: l 1.421 a 0.692  clct[27, 33] ans[33, 27] lr 0.170639 cl_acc 1.000 43.100sec(train) 4.398sec(infer)\n"
     ]
    },
    {
     "name": "stdout",
     "output_type": "stream",
     "text": [
      "Epoch 38 tst: l 1.387 a 0.714  clct[20, 20] ans[20, 20] cl_acc 1.000 2.702sec\n"
     ]
    },
    {
     "name": "stdout",
     "output_type": "stream",
     "text": [
      "Epoch 39 tr: l 1.280 a 0.720  clct[27, 33] ans[33, 27] lr 0.168932 cl_acc 1.000 43.350sec(train) 4.289sec(infer)\n"
     ]
    },
    {
     "name": "stdout",
     "output_type": "stream",
     "text": [
      "Epoch 39 tst: l 1.286 a 0.722  clct[20, 20] ans[20, 20] cl_acc 1.000 2.731sec\n"
     ]
    },
    {
     "name": "stdout",
     "output_type": "stream",
     "text": [
      "Epoch 40 tr: l 1.278 a 0.729  clct[22, 38] ans[38, 22] lr 0.167243 cl_acc 1.000 43.523sec(train) 4.083sec(infer)\n"
     ]
    },
    {
     "name": "stdout",
     "output_type": "stream",
     "text": [
      "Epoch 40 tst: l 1.269 a 0.737  clct[20, 20] ans[20, 20] cl_acc 1.000 2.569sec\n",
      "result written at output/results.pickle\n"
     ]
    },
    {
     "name": "stdout",
     "output_type": "stream",
     "text": [
      "Epoch 41 tr: l 1.310 a 0.717  clct[27, 33] ans[33, 27] lr 0.165571 cl_acc 1.000 43.529sec(train) 4.182sec(infer)\n"
     ]
    },
    {
     "name": "stdout",
     "output_type": "stream",
     "text": [
      "Epoch 41 tst: l 1.310 a 0.722  clct[20, 20] ans[20, 20] cl_acc 1.000 2.729sec\n"
     ]
    },
    {
     "name": "stdout",
     "output_type": "stream",
     "text": [
      "Epoch 42 tr: l 1.341 a 0.710  clct[29, 31] ans[31, 29] lr 0.163915 cl_acc 1.000 43.386sec(train) 4.280sec(infer)\n"
     ]
    },
    {
     "name": "stdout",
     "output_type": "stream",
     "text": [
      "Epoch 42 tst: l 1.306 a 0.726  clct[20, 20] ans[20, 20] cl_acc 1.000 2.585sec\n"
     ]
    },
    {
     "name": "stdout",
     "output_type": "stream",
     "text": [
      "Epoch 43 tr: l 1.334 a 0.715  clct[24, 36] ans[36, 24] lr 0.162276 cl_acc 1.000 43.289sec(train) 4.342sec(infer)\n"
     ]
    },
    {
     "name": "stdout",
     "output_type": "stream",
     "text": [
      "Epoch 43 tst: l 1.306 a 0.733  clct[20, 20] ans[20, 20] cl_acc 1.000 2.672sec\n"
     ]
    },
    {
     "name": "stdout",
     "output_type": "stream",
     "text": [
      "Epoch 44 tr: l 1.283 a 0.724  clct[24, 36] ans[36, 24] lr 0.160653 cl_acc 1.000 43.447sec(train) 4.174sec(infer)\n"
     ]
    },
    {
     "name": "stdout",
     "output_type": "stream",
     "text": [
      "Epoch 44 tst: l 1.281 a 0.734  clct[20, 20] ans[20, 20] cl_acc 1.000 2.680sec\n"
     ]
    },
    {
     "name": "stdout",
     "output_type": "stream",
     "text": [
      "Epoch 45 tr: l 1.359 a 0.702  clct[30, 30] ans[30, 30] lr 0.159046 cl_acc 1.000 43.241sec(train) 4.147sec(infer)\n"
     ]
    },
    {
     "name": "stdout",
     "output_type": "stream",
     "text": [
      "Epoch 45 tst: l 1.286 a 0.733  clct[20, 20] ans[20, 20] cl_acc 1.000 2.518sec\n"
     ]
    },
    {
     "name": "stdout",
     "output_type": "stream",
     "text": [
      "Epoch 46 tr: l 1.358 a 0.699  clct[30, 30] ans[30, 30] lr 0.157456 cl_acc 1.000 43.257sec(train) 4.322sec(infer)\n"
     ]
    },
    {
     "name": "stdout",
     "output_type": "stream",
     "text": [
      "Epoch 46 tst: l 1.359 a 0.713  clct[20, 20] ans[20, 20] cl_acc 1.000 2.788sec\n"
     ]
    },
    {
     "name": "stdout",
     "output_type": "stream",
     "text": [
      "Epoch 47 tr: l 1.316 a 0.706  clct[32, 28] ans[28, 32] lr 0.155881 cl_acc 1.000 43.460sec(train) 3.963sec(infer)\n"
     ]
    },
    {
     "name": "stdout",
     "output_type": "stream",
     "text": [
      "Epoch 47 tst: l 1.295 a 0.721  clct[20, 20] ans[20, 20] cl_acc 1.000 2.405sec\n"
     ]
    },
    {
     "name": "stdout",
     "output_type": "stream",
     "text": [
      "Epoch 48 tr: l 1.299 a 0.717  clct[31, 29] ans[29, 31] lr 0.154323 cl_acc 1.000 43.455sec(train) 3.997sec(infer)\n"
     ]
    },
    {
     "name": "stdout",
     "output_type": "stream",
     "text": [
      "Epoch 48 tst: l 1.250 a 0.737  clct[20, 20] ans[20, 20] cl_acc 1.000 2.541sec\n"
     ]
    },
    {
     "name": "stdout",
     "output_type": "stream",
     "text": [
      "Epoch 49 tr: l 1.297 a 0.715  clct[23, 37] ans[37, 23] lr 0.152779 cl_acc 1.000 43.524sec(train) 3.792sec(infer)\n"
     ]
    },
    {
     "name": "stdout",
     "output_type": "stream",
     "text": [
      "Epoch 49 tst: l 1.296 a 0.722  clct[20, 20] ans[20, 20] cl_acc 1.000 2.321sec\n"
     ]
    },
    {
     "name": "stdout",
     "output_type": "stream",
     "text": [
      "Epoch 50 tr: l 1.305 a 0.707  clct[27, 33] ans[33, 27] lr 0.151252 cl_acc 1.000 43.450sec(train) 4.187sec(infer)\n"
     ]
    },
    {
     "name": "stdout",
     "output_type": "stream",
     "text": [
      "Epoch 50 tst: l 1.291 a 0.720  clct[20, 20] ans[20, 20] cl_acc 1.000 2.725sec\n",
      "result written at output/results.pickle\n"
     ]
    },
    {
     "name": "stdout",
     "output_type": "stream",
     "text": [
      "Epoch 51 tr: l 1.260 a 0.721  clct[30, 30] ans[30, 30] lr 0.149739 cl_acc 1.000 43.552sec(train) 4.332sec(infer)\n"
     ]
    },
    {
     "name": "stdout",
     "output_type": "stream",
     "text": [
      "Epoch 51 tst: l 1.215 a 0.741  clct[20, 20] ans[20, 20] cl_acc 1.000 2.815sec\n"
     ]
    },
    {
     "name": "stdout",
     "output_type": "stream",
     "text": [
      "Epoch 52 tr: l 1.261 a 0.719  clct[30, 30] ans[30, 30] lr 0.148242 cl_acc 1.000 43.559sec(train) 4.297sec(infer)\n"
     ]
    },
    {
     "name": "stdout",
     "output_type": "stream",
     "text": [
      "Epoch 52 tst: l 1.235 a 0.734  clct[20, 20] ans[20, 20] cl_acc 1.000 2.883sec\n"
     ]
    },
    {
     "name": "stdout",
     "output_type": "stream",
     "text": [
      "Epoch 53 tr: l 1.214 a 0.732  clct[35, 25] ans[25, 35] lr 0.146759 cl_acc 1.000 43.705sec(train) 4.309sec(infer)\n"
     ]
    },
    {
     "name": "stdout",
     "output_type": "stream",
     "text": [
      "Epoch 53 tst: l 1.204 a 0.746  clct[20, 20] ans[20, 20] cl_acc 1.000 2.758sec\n"
     ]
    },
    {
     "name": "stdout",
     "output_type": "stream",
     "text": [
      "Epoch 54 tr: l 1.185 a 0.746  clct[31, 29] ans[29, 31] lr 0.145292 cl_acc 1.000 43.572sec(train) 4.409sec(infer)\n"
     ]
    },
    {
     "name": "stdout",
     "output_type": "stream",
     "text": [
      "Epoch 54 tst: l 1.195 a 0.748  clct[20, 20] ans[20, 20] cl_acc 1.000 2.795sec\n"
     ]
    },
    {
     "name": "stdout",
     "output_type": "stream",
     "text": [
      "Epoch 55 tr: l 1.254 a 0.722  clct[24, 36] ans[36, 24] lr 0.143839 cl_acc 1.000 43.759sec(train) 4.236sec(infer)\n"
     ]
    },
    {
     "name": "stdout",
     "output_type": "stream",
     "text": [
      "Epoch 55 tst: l 1.248 a 0.732  clct[20, 20] ans[20, 20] cl_acc 1.000 2.596sec\n"
     ]
    },
    {
     "name": "stdout",
     "output_type": "stream",
     "text": [
      "Epoch 56 tr: l 1.252 a 0.725  clct[26, 34] ans[34, 26] lr 0.142400 cl_acc 1.000 43.503sec(train) 3.990sec(infer)\n"
     ]
    },
    {
     "name": "stdout",
     "output_type": "stream",
     "text": [
      "Epoch 56 tst: l 1.223 a 0.740  clct[20, 20] ans[20, 20] cl_acc 1.000 2.435sec\n"
     ]
    },
    {
     "name": "stdout",
     "output_type": "stream",
     "text": [
      "Epoch 57 tr: l 1.180 a 0.740  clct[27, 33] ans[33, 27] lr 0.140976 cl_acc 1.000 43.190sec(train) 4.212sec(infer)\n"
     ]
    },
    {
     "name": "stdout",
     "output_type": "stream",
     "text": [
      "Epoch 57 tst: l 1.163 a 0.751  clct[20, 20] ans[20, 20] cl_acc 1.000 2.767sec\n"
     ]
    },
    {
     "name": "stdout",
     "output_type": "stream",
     "text": [
      "Epoch 58 tr: l 1.202 a 0.738  clct[27, 33] ans[33, 27] lr 0.139567 cl_acc 1.000 43.477sec(train) 4.243sec(infer)\n"
     ]
    },
    {
     "name": "stdout",
     "output_type": "stream",
     "text": [
      "Epoch 58 tst: l 1.188 a 0.747  clct[20, 20] ans[20, 20] cl_acc 1.000 2.641sec\n"
     ]
    },
    {
     "name": "stdout",
     "output_type": "stream",
     "text": [
      "Epoch 59 tr: l 1.196 a 0.737  clct[29, 31] ans[31, 29] lr 0.138171 cl_acc 1.000 43.262sec(train) 4.288sec(infer)\n"
     ]
    },
    {
     "name": "stdout",
     "output_type": "stream",
     "text": [
      "Epoch 59 tst: l 1.171 a 0.748  clct[20, 20] ans[20, 20] cl_acc 1.000 2.736sec\n"
     ]
    },
    {
     "name": "stdout",
     "output_type": "stream",
     "text": [
      "Epoch 60 tr: l 1.207 a 0.731  clct[29, 31] ans[31, 29] lr 0.136789 cl_acc 1.000 43.251sec(train) 4.344sec(infer)\n"
     ]
    },
    {
     "name": "stdout",
     "output_type": "stream",
     "text": [
      "Epoch 60 tst: l 1.189 a 0.745  clct[20, 20] ans[20, 20] cl_acc 1.000 2.655sec\n",
      "result written at output/results.pickle\n"
     ]
    },
    {
     "name": "stdout",
     "output_type": "stream",
     "text": [
      "Epoch 61 tr: l 1.127 a 0.758  clct[26, 34] ans[34, 26] lr 0.135421 cl_acc 1.000 43.201sec(train) 4.400sec(infer)\n"
     ]
    },
    {
     "name": "stdout",
     "output_type": "stream",
     "text": [
      "Epoch 61 tst: l 1.163 a 0.753  clct[20, 20] ans[20, 20] cl_acc 1.000 2.740sec\n"
     ]
    },
    {
     "name": "stdout",
     "output_type": "stream",
     "text": [
      "Epoch 62 tr: l 1.218 a 0.735  clct[25, 35] ans[35, 25] lr 0.134067 cl_acc 1.000 43.510sec(train) 4.483sec(infer)\n"
     ]
    },
    {
     "name": "stdout",
     "output_type": "stream",
     "text": [
      "Epoch 62 tst: l 1.173 a 0.752  clct[20, 20] ans[20, 20] cl_acc 1.000 2.772sec\n"
     ]
    },
    {
     "name": "stdout",
     "output_type": "stream",
     "text": [
      "Epoch 63 tr: l 1.139 a 0.747  clct[28, 32] ans[32, 28] lr 0.132726 cl_acc 1.000 43.267sec(train) 4.388sec(infer)\n"
     ]
    },
    {
     "name": "stdout",
     "output_type": "stream",
     "text": [
      "Epoch 63 tst: l 1.142 a 0.757  clct[20, 20] ans[20, 20] cl_acc 1.000 2.671sec\n"
     ]
    },
    {
     "name": "stdout",
     "output_type": "stream",
     "text": [
      "Epoch 64 tr: l 1.283 a 0.724  clct[32, 28] ans[28, 32] lr 0.131399 cl_acc 1.000 43.206sec(train) 4.398sec(infer)\n"
     ]
    },
    {
     "name": "stdout",
     "output_type": "stream",
     "text": [
      "Epoch 64 tst: l 1.288 a 0.734  clct[20, 20] ans[20, 20] cl_acc 1.000 2.737sec\n"
     ]
    },
    {
     "name": "stdout",
     "output_type": "stream",
     "text": [
      "Epoch 65 tr: l 1.114 a 0.754  clct[28, 32] ans[32, 28] lr 0.130085 cl_acc 1.000 43.295sec(train) 4.259sec(infer)\n"
     ]
    },
    {
     "name": "stdout",
     "output_type": "stream",
     "text": [
      "Epoch 65 tst: l 1.107 a 0.762  clct[20, 20] ans[20, 20] cl_acc 1.000 2.753sec\n"
     ]
    },
    {
     "name": "stdout",
     "output_type": "stream",
     "text": [
      "Epoch 66 tr: l 1.124 a 0.752  clct[33, 27] ans[27, 33] lr 0.128784 cl_acc 1.000 43.363sec(train) 4.271sec(infer)\n"
     ]
    },
    {
     "name": "stdout",
     "output_type": "stream",
     "text": [
      "Epoch 66 tst: l 1.162 a 0.748  clct[20, 20] ans[20, 20] cl_acc 1.000 2.751sec\n"
     ]
    },
    {
     "name": "stdout",
     "output_type": "stream",
     "text": [
      "Epoch 67 tr: l 1.180 a 0.739  clct[24, 36] ans[36, 24] lr 0.127496 cl_acc 1.000 43.472sec(train) 4.171sec(infer)\n"
     ]
    },
    {
     "name": "stdout",
     "output_type": "stream",
     "text": [
      "Epoch 67 tst: l 1.156 a 0.752  clct[20, 20] ans[20, 20] cl_acc 1.000 2.810sec\n"
     ]
    },
    {
     "name": "stdout",
     "output_type": "stream",
     "text": [
      "Epoch 68 tr: l 1.181 a 0.726  clct[29, 31] ans[31, 29] lr 0.126221 cl_acc 1.000 43.318sec(train) 4.504sec(infer)\n"
     ]
    },
    {
     "name": "stdout",
     "output_type": "stream",
     "text": [
      "Epoch 68 tst: l 1.161 a 0.740  clct[20, 20] ans[20, 20] cl_acc 1.000 2.792sec\n"
     ]
    },
    {
     "name": "stdout",
     "output_type": "stream",
     "text": [
      "Epoch 69 tr: l 1.114 a 0.750  clct[38, 22] ans[22, 38] lr 0.124959 cl_acc 1.000 43.167sec(train) 4.369sec(infer)\n"
     ]
    },
    {
     "name": "stdout",
     "output_type": "stream",
     "text": [
      "Epoch 69 tst: l 1.123 a 0.754  clct[20, 20] ans[20, 20] cl_acc 1.000 2.661sec\n"
     ]
    },
    {
     "name": "stdout",
     "output_type": "stream",
     "text": [
      "Epoch 70 tr: l 1.141 a 0.746  clct[35, 25] ans[25, 35] lr 0.123710 cl_acc 1.000 43.096sec(train) 4.485sec(infer)\n"
     ]
    },
    {
     "name": "stdout",
     "output_type": "stream",
     "text": [
      "Epoch 70 tst: l 1.139 a 0.756  clct[20, 20] ans[20, 20] cl_acc 1.000 2.759sec\n",
      "result written at output/results.pickle\n"
     ]
    },
    {
     "name": "stdout",
     "output_type": "stream",
     "text": [
      "Epoch 71 tr: l 1.147 a 0.736  clct[28, 32] ans[32, 28] lr 0.122473 cl_acc 1.000 43.523sec(train) 4.108sec(infer)\n"
     ]
    },
    {
     "name": "stdout",
     "output_type": "stream",
     "text": [
      "Epoch 71 tst: l 1.125 a 0.755  clct[20, 20] ans[20, 20] cl_acc 1.000 2.647sec\n"
     ]
    },
    {
     "name": "stdout",
     "output_type": "stream",
     "text": [
      "Epoch 72 tr: l 1.114 a 0.747  clct[34, 26] ans[26, 34] lr 0.121248 cl_acc 1.000 43.211sec(train) 4.297sec(infer)\n"
     ]
    },
    {
     "name": "stdout",
     "output_type": "stream",
     "text": [
      "Epoch 72 tst: l 1.113 a 0.758  clct[20, 20] ans[20, 20] cl_acc 1.000 2.821sec\n"
     ]
    },
    {
     "name": "stdout",
     "output_type": "stream",
     "text": [
      "Epoch 73 tr: l 1.134 a 0.744  clct[32, 28] ans[28, 32] lr 0.120035 cl_acc 1.000 43.344sec(train) 4.272sec(infer)\n"
     ]
    },
    {
     "name": "stdout",
     "output_type": "stream",
     "text": [
      "Epoch 73 tst: l 1.135 a 0.748  clct[20, 20] ans[20, 20] cl_acc 1.000 2.732sec\n"
     ]
    },
    {
     "name": "stdout",
     "output_type": "stream",
     "text": [
      "Epoch 74 tr: l 1.109 a 0.748  clct[26, 34] ans[34, 26] lr 0.118835 cl_acc 1.000 43.219sec(train) 4.272sec(infer)\n"
     ]
    },
    {
     "name": "stdout",
     "output_type": "stream",
     "text": [
      "Epoch 74 tst: l 1.123 a 0.749  clct[20, 20] ans[20, 20] cl_acc 1.000 2.702sec\n"
     ]
    },
    {
     "name": "stdout",
     "output_type": "stream",
     "text": [
      "Epoch 75 tr: l 1.105 a 0.753  clct[35, 25] ans[25, 35] lr 0.117647 cl_acc 1.000 43.259sec(train) 4.394sec(infer)\n"
     ]
    },
    {
     "name": "stdout",
     "output_type": "stream",
     "text": [
      "Epoch 75 tst: l 1.100 a 0.761  clct[20, 20] ans[20, 20] cl_acc 1.000 2.679sec\n"
     ]
    },
    {
     "name": "stdout",
     "output_type": "stream",
     "text": [
      "Epoch 76 tr: l 1.164 a 0.740  clct[26, 34] ans[34, 26] lr 0.116470 cl_acc 1.000 43.268sec(train) 4.347sec(infer)\n"
     ]
    },
    {
     "name": "stdout",
     "output_type": "stream",
     "text": [
      "Epoch 76 tst: l 1.152 a 0.755  clct[20, 20] ans[20, 20] cl_acc 1.000 2.515sec\n"
     ]
    },
    {
     "name": "stdout",
     "output_type": "stream",
     "text": [
      "Epoch 77 tr: l 1.085 a 0.764  clct[31, 29] ans[29, 31] lr 0.115305 cl_acc 1.000 43.209sec(train) 4.310sec(infer)\n"
     ]
    },
    {
     "name": "stdout",
     "output_type": "stream",
     "text": [
      "Epoch 77 tst: l 1.106 a 0.764  clct[20, 20] ans[20, 20] cl_acc 1.000 2.712sec\n"
     ]
    },
    {
     "name": "stdout",
     "output_type": "stream",
     "text": [
      "Epoch 78 tr: l 1.080 a 0.759  clct[28, 32] ans[32, 28] lr 0.114152 cl_acc 1.000 43.320sec(train) 4.431sec(infer)\n"
     ]
    },
    {
     "name": "stdout",
     "output_type": "stream",
     "text": [
      "Epoch 78 tst: l 1.084 a 0.765  clct[20, 20] ans[20, 20] cl_acc 1.000 2.930sec\n"
     ]
    },
    {
     "name": "stdout",
     "output_type": "stream",
     "text": [
      "Epoch 79 tr: l 1.064 a 0.759  clct[30, 30] ans[30, 30] lr 0.113011 cl_acc 1.000 43.272sec(train) 4.480sec(infer)\n"
     ]
    },
    {
     "name": "stdout",
     "output_type": "stream",
     "text": [
      "Epoch 79 tst: l 1.064 a 0.767  clct[20, 20] ans[20, 20] cl_acc 1.000 2.798sec\n"
     ]
    },
    {
     "name": "stdout",
     "output_type": "stream",
     "text": [
      "Epoch 80 tr: l 1.054 a 0.766  clct[35, 25] ans[25, 35] lr 0.111881 cl_acc 1.000 43.187sec(train) 4.510sec(infer)\n"
     ]
    },
    {
     "name": "stdout",
     "output_type": "stream",
     "text": [
      "Epoch 80 tst: l 1.071 a 0.767  clct[20, 20] ans[20, 20] cl_acc 1.000 2.747sec\n",
      "result written at output/results.pickle\n"
     ]
    },
    {
     "name": "stdout",
     "output_type": "stream",
     "text": [
      "Epoch 81 tr: l 1.058 a 0.760  clct[32, 28] ans[28, 32] lr 0.110762 cl_acc 1.000 43.152sec(train) 4.560sec(infer)\n"
     ]
    },
    {
     "name": "stdout",
     "output_type": "stream",
     "text": [
      "Epoch 81 tst: l 1.082 a 0.764  clct[20, 20] ans[20, 20] cl_acc 1.000 2.813sec\n"
     ]
    },
    {
     "name": "stdout",
     "output_type": "stream",
     "text": [
      "Epoch 82 tr: l 1.094 a 0.753  clct[27, 33] ans[33, 27] lr 0.109654 cl_acc 1.000 43.472sec(train) 4.375sec(infer)\n"
     ]
    },
    {
     "name": "stdout",
     "output_type": "stream",
     "text": [
      "Epoch 82 tst: l 1.098 a 0.759  clct[20, 20] ans[20, 20] cl_acc 1.000 2.670sec\n"
     ]
    },
    {
     "name": "stdout",
     "output_type": "stream",
     "text": [
      "Epoch 83 tr: l 1.064 a 0.763  clct[28, 32] ans[32, 28] lr 0.108558 cl_acc 1.000 43.378sec(train) 4.488sec(infer)\n"
     ]
    },
    {
     "name": "stdout",
     "output_type": "stream",
     "text": [
      "Epoch 83 tst: l 1.094 a 0.763  clct[20, 20] ans[20, 20] cl_acc 1.000 2.874sec\n"
     ]
    },
    {
     "name": "stdout",
     "output_type": "stream",
     "text": [
      "Epoch 84 tr: l 1.074 a 0.755  clct[28, 32] ans[32, 28] lr 0.107472 cl_acc 1.000 43.574sec(train) 4.524sec(infer)\n"
     ]
    },
    {
     "name": "stdout",
     "output_type": "stream",
     "text": [
      "Epoch 84 tst: l 1.061 a 0.765  clct[20, 20] ans[20, 20] cl_acc 1.000 2.914sec\n"
     ]
    },
    {
     "name": "stdout",
     "output_type": "stream",
     "text": [
      "Epoch 85 tr: l 1.039 a 0.769  clct[27, 33] ans[33, 27] lr 0.106398 cl_acc 1.000 43.520sec(train) 4.531sec(infer)\n"
     ]
    },
    {
     "name": "stdout",
     "output_type": "stream",
     "text": [
      "Epoch 85 tst: l 1.061 a 0.773  clct[20, 20] ans[20, 20] cl_acc 1.000 2.917sec\n"
     ]
    },
    {
     "name": "stdout",
     "output_type": "stream",
     "text": [
      "Epoch 86 tr: l 1.015 a 0.772  clct[29, 31] ans[31, 29] lr 0.105334 cl_acc 1.000 43.451sec(train) 4.517sec(infer)\n"
     ]
    },
    {
     "name": "stdout",
     "output_type": "stream",
     "text": [
      "Epoch 86 tst: l 1.056 a 0.766  clct[20, 20] ans[20, 20] cl_acc 1.000 2.798sec\n"
     ]
    },
    {
     "name": "stdout",
     "output_type": "stream",
     "text": [
      "Epoch 87 tr: l 1.051 a 0.761  clct[32, 28] ans[28, 32] lr 0.104280 cl_acc 1.000 43.332sec(train) 4.549sec(infer)\n"
     ]
    },
    {
     "name": "stdout",
     "output_type": "stream",
     "text": [
      "Epoch 87 tst: l 1.049 a 0.767  clct[20, 20] ans[20, 20] cl_acc 1.000 2.851sec\n"
     ]
    },
    {
     "name": "stdout",
     "output_type": "stream",
     "text": [
      "Epoch 88 tr: l 1.041 a 0.763  clct[30, 30] ans[30, 30] lr 0.103237 cl_acc 1.000 43.398sec(train) 4.265sec(infer)\n"
     ]
    },
    {
     "name": "stdout",
     "output_type": "stream",
     "text": [
      "Epoch 88 tst: l 1.036 a 0.772  clct[20, 20] ans[20, 20] cl_acc 1.000 2.782sec\n"
     ]
    },
    {
     "name": "stdout",
     "output_type": "stream",
     "text": [
      "Epoch 89 tr: l 1.058 a 0.764  clct[27, 33] ans[33, 27] lr 0.102205 cl_acc 1.000 43.223sec(train) 4.593sec(infer)\n"
     ]
    },
    {
     "name": "stdout",
     "output_type": "stream",
     "text": [
      "Epoch 89 tst: l 1.086 a 0.764  clct[20, 20] ans[20, 20] cl_acc 1.000 2.879sec\n"
     ]
    },
    {
     "name": "stdout",
     "output_type": "stream",
     "text": [
      "Epoch 90 tr: l 1.008 a 0.768  clct[32, 28] ans[28, 32] lr 0.101183 cl_acc 1.000 43.633sec(train) 4.535sec(infer)\n"
     ]
    },
    {
     "name": "stdout",
     "output_type": "stream",
     "text": [
      "Epoch 90 tst: l 1.021 a 0.768  clct[20, 20] ans[20, 20] cl_acc 1.000 2.918sec\n",
      "result written at output/results.pickle\n"
     ]
    },
    {
     "name": "stdout",
     "output_type": "stream",
     "text": [
      "Epoch 91 tr: l 1.032 a 0.765  clct[26, 34] ans[34, 26] lr 0.100171 cl_acc 1.000 43.488sec(train) 4.232sec(infer)\n"
     ]
    },
    {
     "name": "stdout",
     "output_type": "stream",
     "text": [
      "Epoch 91 tst: l 1.044 a 0.767  clct[20, 20] ans[20, 20] cl_acc 1.000 2.777sec\n"
     ]
    },
    {
     "name": "stdout",
     "output_type": "stream",
     "text": [
      "Epoch 92 tr: l 1.035 a 0.764  clct[30, 30] ans[30, 30] lr 0.099169 cl_acc 1.000 43.602sec(train) 4.568sec(infer)\n"
     ]
    },
    {
     "name": "stdout",
     "output_type": "stream",
     "text": [
      "Epoch 92 tst: l 1.044 a 0.768  clct[20, 20] ans[20, 20] cl_acc 1.000 2.887sec\n"
     ]
    },
    {
     "name": "stdout",
     "output_type": "stream",
     "text": [
      "Epoch 93 tr: l 1.040 a 0.762  clct[27, 33] ans[33, 27] lr 0.098178 cl_acc 1.000 43.370sec(train) 4.339sec(infer)\n"
     ]
    },
    {
     "name": "stdout",
     "output_type": "stream",
     "text": [
      "Epoch 93 tst: l 1.068 a 0.762  clct[20, 20] ans[20, 20] cl_acc 1.000 2.752sec\n"
     ]
    },
    {
     "name": "stdout",
     "output_type": "stream",
     "text": [
      "Epoch 94 tr: l 1.020 a 0.769  clct[35, 25] ans[25, 35] lr 0.097196 cl_acc 1.000 43.502sec(train) 4.574sec(infer)\n"
     ]
    },
    {
     "name": "stdout",
     "output_type": "stream",
     "text": [
      "Epoch 94 tst: l 1.049 a 0.766  clct[20, 20] ans[20, 20] cl_acc 1.000 2.729sec\n"
     ]
    },
    {
     "name": "stdout",
     "output_type": "stream",
     "text": [
      "Epoch 95 tr: l 1.048 a 0.767  clct[36, 24] ans[24, 36] lr 0.096224 cl_acc 1.000 43.521sec(train) 4.219sec(infer)\n"
     ]
    },
    {
     "name": "stdout",
     "output_type": "stream",
     "text": [
      "Epoch 95 tst: l 1.080 a 0.766  clct[20, 20] ans[20, 20] cl_acc 1.000 2.621sec\n"
     ]
    },
    {
     "name": "stdout",
     "output_type": "stream",
     "text": [
      "Epoch 96 tr: l 0.996 a 0.780  clct[25, 35] ans[35, 25] lr 0.095262 cl_acc 1.000 43.505sec(train) 4.006sec(infer)\n"
     ]
    },
    {
     "name": "stdout",
     "output_type": "stream",
     "text": [
      "Epoch 96 tst: l 1.000 a 0.780  clct[20, 20] ans[20, 20] cl_acc 1.000 2.371sec\n"
     ]
    },
    {
     "name": "stdout",
     "output_type": "stream",
     "text": [
      "Epoch 97 tr: l 1.000 a 0.773  clct[35, 25] ans[25, 35] lr 0.094309 cl_acc 1.000 43.512sec(train) 4.385sec(infer)\n"
     ]
    },
    {
     "name": "stdout",
     "output_type": "stream",
     "text": [
      "Epoch 97 tst: l 1.018 a 0.776  clct[20, 20] ans[20, 20] cl_acc 1.000 2.749sec\n"
     ]
    },
    {
     "name": "stdout",
     "output_type": "stream",
     "text": [
      "Epoch 98 tr: l 1.008 a 0.774  clct[29, 31] ans[31, 29] lr 0.093366 cl_acc 1.000 43.530sec(train) 4.592sec(infer)\n"
     ]
    },
    {
     "name": "stdout",
     "output_type": "stream",
     "text": [
      "Epoch 98 tst: l 1.040 a 0.772  clct[20, 20] ans[20, 20] cl_acc 1.000 2.837sec\n"
     ]
    },
    {
     "name": "stdout",
     "output_type": "stream",
     "text": [
      "Epoch 99 tr: l 0.941 a 0.782  clct[27, 33] ans[33, 27] lr 0.092432 cl_acc 1.000 43.257sec(train) 4.224sec(infer)\n"
     ]
    },
    {
     "name": "stdout",
     "output_type": "stream",
     "text": [
      "Epoch 99 tst: l 0.998 a 0.773  clct[20, 20] ans[20, 20] cl_acc 1.000 2.672sec\n"
     ]
    },
    {
     "name": "stdout",
     "output_type": "stream",
     "text": [
      "Epoch 100 tr: l 0.989 a 0.776  clct[27, 33] ans[33, 27] lr 0.091508 cl_acc 1.000 43.325sec(train) 3.791sec(infer)\n"
     ]
    },
    {
     "name": "stdout",
     "output_type": "stream",
     "text": [
      "Epoch 100 tst: l 1.000 a 0.778  clct[20, 20] ans[20, 20] cl_acc 1.000 2.385sec\n",
      "result written at output/results.pickle\n"
     ]
    },
    {
     "name": "stdout",
     "output_type": "stream",
     "text": [
      "Epoch 101 tr: l 1.016 a 0.765  clct[24, 36] ans[36, 24] lr 0.090593 cl_acc 1.000 43.386sec(train) 3.970sec(infer)\n"
     ]
    },
    {
     "name": "stdout",
     "output_type": "stream",
     "text": [
      "Epoch 101 tst: l 1.020 a 0.772  clct[20, 20] ans[20, 20] cl_acc 1.000 2.595sec\n"
     ]
    },
    {
     "name": "stdout",
     "output_type": "stream",
     "text": [
      "Epoch 102 tr: l 1.037 a 0.764  clct[30, 30] ans[30, 30] lr 0.089687 cl_acc 1.000 43.440sec(train) 4.310sec(infer)\n"
     ]
    },
    {
     "name": "stdout",
     "output_type": "stream",
     "text": [
      "Epoch 102 tst: l 1.073 a 0.761  clct[20, 20] ans[20, 20] cl_acc 1.000 2.737sec\n"
     ]
    },
    {
     "name": "stdout",
     "output_type": "stream",
     "text": [
      "Epoch 103 tr: l 0.973 a 0.769  clct[29, 31] ans[31, 29] lr 0.088790 cl_acc 1.000 43.322sec(train) 4.493sec(infer)\n"
     ]
    },
    {
     "name": "stdout",
     "output_type": "stream",
     "text": [
      "Epoch 103 tst: l 1.004 a 0.769  clct[20, 20] ans[20, 20] cl_acc 1.000 2.859sec\n"
     ]
    },
    {
     "name": "stdout",
     "output_type": "stream",
     "text": [
      "Epoch 104 tr: l 0.971 a 0.782  clct[34, 26] ans[26, 34] lr 0.087902 cl_acc 1.000 43.272sec(train) 4.351sec(infer)\n"
     ]
    },
    {
     "name": "stdout",
     "output_type": "stream",
     "text": [
      "Epoch 104 tst: l 0.998 a 0.783  clct[20, 20] ans[20, 20] cl_acc 1.000 2.810sec\n"
     ]
    },
    {
     "name": "stdout",
     "output_type": "stream",
     "text": [
      "Epoch 105 tr: l 0.970 a 0.784  clct[26, 34] ans[34, 26] lr 0.087023 cl_acc 1.000 43.336sec(train) 4.559sec(infer)\n"
     ]
    },
    {
     "name": "stdout",
     "output_type": "stream",
     "text": [
      "Epoch 105 tst: l 1.016 a 0.776  clct[20, 20] ans[20, 20] cl_acc 1.000 2.916sec\n"
     ]
    },
    {
     "name": "stdout",
     "output_type": "stream",
     "text": [
      "Epoch 106 tr: l 0.950 a 0.785  clct[28, 32] ans[32, 28] lr 0.086153 cl_acc 1.000 43.521sec(train) 4.464sec(infer)\n"
     ]
    },
    {
     "name": "stdout",
     "output_type": "stream",
     "text": [
      "Epoch 106 tst: l 0.989 a 0.776  clct[20, 20] ans[20, 20] cl_acc 1.000 2.767sec\n"
     ]
    },
    {
     "name": "stdout",
     "output_type": "stream",
     "text": [
      "Epoch 107 tr: l 0.988 a 0.775  clct[35, 25] ans[25, 35] lr 0.085292 cl_acc 1.000 43.476sec(train) 4.520sec(infer)\n"
     ]
    },
    {
     "name": "stdout",
     "output_type": "stream",
     "text": [
      "Epoch 107 tst: l 1.013 a 0.775  clct[20, 20] ans[20, 20] cl_acc 1.000 2.818sec\n"
     ]
    },
    {
     "name": "stdout",
     "output_type": "stream",
     "text": [
      "Epoch 108 tr: l 0.917 a 0.791  clct[31, 29] ans[29, 31] lr 0.084439 cl_acc 1.000 43.580sec(train) 4.691sec(infer)\n"
     ]
    },
    {
     "name": "stdout",
     "output_type": "stream",
     "text": [
      "Epoch 108 tst: l 0.960 a 0.783  clct[20, 20] ans[20, 20] cl_acc 1.000 2.953sec\n"
     ]
    },
    {
     "name": "stdout",
     "output_type": "stream",
     "text": [
      "Epoch 109 tr: l 0.969 a 0.774  clct[33, 27] ans[27, 33] lr 0.083594 cl_acc 1.000 43.698sec(train) 4.517sec(infer)\n"
     ]
    },
    {
     "name": "stdout",
     "output_type": "stream",
     "text": [
      "Epoch 109 tst: l 0.994 a 0.775  clct[20, 20] ans[20, 20] cl_acc 1.000 2.794sec\n"
     ]
    },
    {
     "name": "stdout",
     "output_type": "stream",
     "text": [
      "Epoch 110 tr: l 0.945 a 0.784  clct[28, 32] ans[32, 28] lr 0.082758 cl_acc 1.000 43.556sec(train) 4.456sec(infer)\n"
     ]
    },
    {
     "name": "stdout",
     "output_type": "stream",
     "text": [
      "Epoch 110 tst: l 1.003 a 0.778  clct[20, 20] ans[20, 20] cl_acc 1.000 2.832sec\n",
      "result written at output/results.pickle\n"
     ]
    },
    {
     "name": "stdout",
     "output_type": "stream",
     "text": [
      "Epoch 111 tr: l 0.968 a 0.778  clct[27, 33] ans[33, 27] lr 0.081931 cl_acc 1.000 43.570sec(train) 4.423sec(infer)\n"
     ]
    },
    {
     "name": "stdout",
     "output_type": "stream",
     "text": [
      "Epoch 111 tst: l 1.003 a 0.779  clct[20, 20] ans[20, 20] cl_acc 1.000 2.846sec\n"
     ]
    },
    {
     "name": "stdout",
     "output_type": "stream",
     "text": [
      "Epoch 112 tr: l 0.934 a 0.788  clct[32, 28] ans[28, 32] lr 0.081111 cl_acc 1.000 43.493sec(train) 4.500sec(infer)\n"
     ]
    },
    {
     "name": "stdout",
     "output_type": "stream",
     "text": [
      "Epoch 112 tst: l 0.976 a 0.783  clct[20, 20] ans[20, 20] cl_acc 1.000 2.814sec\n"
     ]
    },
    {
     "name": "stdout",
     "output_type": "stream",
     "text": [
      "Epoch 113 tr: l 0.958 a 0.774  clct[34, 26] ans[26, 34] lr 0.080300 cl_acc 1.000 43.627sec(train) 4.332sec(infer)\n"
     ]
    },
    {
     "name": "stdout",
     "output_type": "stream",
     "text": [
      "Epoch 113 tst: l 0.972 a 0.775  clct[20, 20] ans[20, 20] cl_acc 1.000 2.590sec\n"
     ]
    },
    {
     "name": "stdout",
     "output_type": "stream",
     "text": [
      "Epoch 114 tr: l 0.863 a 0.800  clct[34, 26] ans[26, 34] lr 0.079497 cl_acc 1.000 43.712sec(train) 4.087sec(infer)\n"
     ]
    },
    {
     "name": "stdout",
     "output_type": "stream",
     "text": [
      "Epoch 114 tst: l 0.924 a 0.790  clct[20, 20] ans[20, 20] cl_acc 1.000 2.532sec\n"
     ]
    },
    {
     "name": "stdout",
     "output_type": "stream",
     "text": [
      "Epoch 115 tr: l 0.915 a 0.788  clct[25, 35] ans[35, 25] lr 0.078702 cl_acc 1.000 43.672sec(train) 4.134sec(infer)\n"
     ]
    },
    {
     "name": "stdout",
     "output_type": "stream",
     "text": [
      "Epoch 115 tst: l 0.954 a 0.781  clct[20, 20] ans[20, 20] cl_acc 1.000 2.480sec\n"
     ]
    },
    {
     "name": "stdout",
     "output_type": "stream",
     "text": [
      "Epoch 116 tr: l 0.901 a 0.793  clct[38, 22] ans[22, 38] lr 0.077915 cl_acc 1.000 43.180sec(train) 3.888sec(infer)\n"
     ]
    },
    {
     "name": "stdout",
     "output_type": "stream",
     "text": [
      "Epoch 116 tst: l 0.931 a 0.791  clct[20, 20] ans[20, 20] cl_acc 1.000 2.571sec\n"
     ]
    },
    {
     "name": "stdout",
     "output_type": "stream",
     "text": [
      "Epoch 117 tr: l 0.919 a 0.786  clct[31, 29] ans[29, 31] lr 0.077136 cl_acc 1.000 43.287sec(train) 4.197sec(infer)\n"
     ]
    },
    {
     "name": "stdout",
     "output_type": "stream",
     "text": [
      "Epoch 117 tst: l 0.954 a 0.780  clct[20, 20] ans[20, 20] cl_acc 1.000 2.657sec\n"
     ]
    },
    {
     "name": "stdout",
     "output_type": "stream",
     "text": [
      "Epoch 118 tr: l 0.901 a 0.791  clct[28, 32] ans[32, 28] lr 0.076365 cl_acc 1.000 43.256sec(train) 4.178sec(infer)\n"
     ]
    },
    {
     "name": "stdout",
     "output_type": "stream",
     "text": [
      "Epoch 118 tst: l 0.938 a 0.784  clct[20, 20] ans[20, 20] cl_acc 1.000 2.681sec\n"
     ]
    },
    {
     "name": "stdout",
     "output_type": "stream",
     "text": [
      "Epoch 119 tr: l 0.923 a 0.785  clct[31, 29] ans[29, 31] lr 0.075601 cl_acc 1.000 43.563sec(train) 4.046sec(infer)\n"
     ]
    },
    {
     "name": "stdout",
     "output_type": "stream",
     "text": [
      "Epoch 119 tst: l 0.958 a 0.784  clct[20, 20] ans[20, 20] cl_acc 1.000 2.601sec\n"
     ]
    },
    {
     "name": "stdout",
     "output_type": "stream",
     "text": [
      "Epoch 120 tr: l 0.908 a 0.790  clct[32, 28] ans[28, 32] lr 0.074845 cl_acc 1.000 43.600sec(train) 3.780sec(infer)\n"
     ]
    },
    {
     "name": "stdout",
     "output_type": "stream",
     "text": [
      "Epoch 120 tst: l 0.932 a 0.785  clct[20, 20] ans[20, 20] cl_acc 1.000 2.377sec\n",
      "result written at output/results.pickle\n"
     ]
    },
    {
     "name": "stdout",
     "output_type": "stream",
     "text": [
      "Epoch 121 tr: l 0.897 a 0.789  clct[30, 30] ans[30, 30] lr 0.074097 cl_acc 1.000 43.239sec(train) 3.636sec(infer)\n"
     ]
    },
    {
     "name": "stdout",
     "output_type": "stream",
     "text": [
      "Epoch 121 tst: l 0.923 a 0.786  clct[20, 20] ans[20, 20] cl_acc 1.000 2.446sec\n"
     ]
    },
    {
     "name": "stdout",
     "output_type": "stream",
     "text": [
      "Epoch 122 tr: l 0.889 a 0.792  clct[29, 31] ans[31, 29] lr 0.073356 cl_acc 1.000 43.292sec(train) 4.216sec(infer)\n"
     ]
    },
    {
     "name": "stdout",
     "output_type": "stream",
     "text": [
      "Epoch 122 tst: l 0.919 a 0.791  clct[20, 20] ans[20, 20] cl_acc 1.000 2.598sec\n"
     ]
    },
    {
     "name": "stdout",
     "output_type": "stream",
     "text": [
      "Epoch 123 tr: l 0.907 a 0.790  clct[31, 29] ans[29, 31] lr 0.072622 cl_acc 1.000 43.434sec(train) 4.570sec(infer)\n"
     ]
    },
    {
     "name": "stdout",
     "output_type": "stream",
     "text": [
      "Epoch 123 tst: l 0.945 a 0.789  clct[20, 20] ans[20, 20] cl_acc 1.000 2.658sec\n"
     ]
    },
    {
     "name": "stdout",
     "output_type": "stream",
     "text": [
      "Epoch 124 tr: l 0.909 a 0.787  clct[38, 22] ans[22, 38] lr 0.071896 cl_acc 1.000 43.277sec(train) 4.647sec(infer)\n"
     ]
    },
    {
     "name": "stdout",
     "output_type": "stream",
     "text": [
      "Epoch 124 tst: l 0.936 a 0.788  clct[20, 20] ans[20, 20] cl_acc 1.000 2.889sec\n"
     ]
    },
    {
     "name": "stdout",
     "output_type": "stream",
     "text": [
      "Epoch 125 tr: l 0.916 a 0.787  clct[29, 31] ans[31, 29] lr 0.071177 cl_acc 1.000 43.566sec(train) 4.542sec(infer)\n"
     ]
    },
    {
     "name": "stdout",
     "output_type": "stream",
     "text": [
      "Epoch 125 tst: l 0.939 a 0.784  clct[20, 20] ans[20, 20] cl_acc 1.000 2.894sec\n"
     ]
    },
    {
     "name": "stdout",
     "output_type": "stream",
     "text": [
      "Epoch 126 tr: l 0.914 a 0.789  clct[31, 29] ans[29, 31] lr 0.070465 cl_acc 1.000 43.258sec(train) 4.059sec(infer)\n"
     ]
    },
    {
     "name": "stdout",
     "output_type": "stream",
     "text": [
      "Epoch 126 tst: l 0.960 a 0.784  clct[20, 20] ans[20, 20] cl_acc 1.000 2.553sec\n"
     ]
    },
    {
     "name": "stdout",
     "output_type": "stream",
     "text": [
      "Epoch 127 tr: l 0.851 a 0.802  clct[36, 24] ans[24, 36] lr 0.069761 cl_acc 1.000 43.399sec(train) 4.042sec(infer)\n"
     ]
    },
    {
     "name": "stdout",
     "output_type": "stream",
     "text": [
      "Epoch 127 tst: l 0.904 a 0.791  clct[20, 20] ans[20, 20] cl_acc 1.000 2.620sec\n"
     ]
    },
    {
     "name": "stdout",
     "output_type": "stream",
     "text": [
      "Epoch 128 tr: l 0.905 a 0.790  clct[25, 35] ans[35, 25] lr 0.069063 cl_acc 1.000 43.482sec(train) 4.683sec(infer)\n"
     ]
    },
    {
     "name": "stdout",
     "output_type": "stream",
     "text": [
      "Epoch 128 tst: l 0.927 a 0.792  clct[20, 20] ans[20, 20] cl_acc 1.000 2.977sec\n"
     ]
    },
    {
     "name": "stdout",
     "output_type": "stream",
     "text": [
      "Epoch 129 tr: l 0.907 a 0.789  clct[27, 33] ans[33, 27] lr 0.068372 cl_acc 1.000 43.408sec(train) 4.013sec(infer)\n"
     ]
    },
    {
     "name": "stdout",
     "output_type": "stream",
     "text": [
      "Epoch 129 tst: l 0.941 a 0.780  clct[20, 20] ans[20, 20] cl_acc 1.000 2.555sec\n"
     ]
    },
    {
     "name": "stdout",
     "output_type": "stream",
     "text": [
      "Epoch 130 tr: l 0.834 a 0.810  clct[33, 27] ans[27, 33] lr 0.067689 cl_acc 1.000 43.439sec(train) 3.854sec(infer)\n"
     ]
    },
    {
     "name": "stdout",
     "output_type": "stream",
     "text": [
      "Epoch 130 tst: l 0.908 a 0.793  clct[20, 20] ans[20, 20] cl_acc 1.000 2.347sec\n",
      "result written at output/results.pickle\n"
     ]
    },
    {
     "name": "stdout",
     "output_type": "stream",
     "text": [
      "Epoch 131 tr: l 0.862 a 0.802  clct[34, 26] ans[26, 34] lr 0.067012 cl_acc 1.000 43.188sec(train) 3.766sec(infer)\n"
     ]
    },
    {
     "name": "stdout",
     "output_type": "stream",
     "text": [
      "Epoch 131 tst: l 0.917 a 0.790  clct[20, 20] ans[20, 20] cl_acc 1.000 2.469sec\n"
     ]
    },
    {
     "name": "stdout",
     "output_type": "stream",
     "text": [
      "Epoch 132 tr: l 0.862 a 0.805  clct[27, 33] ans[33, 27] lr 0.066342 cl_acc 1.000 43.638sec(train) 3.849sec(infer)\n"
     ]
    },
    {
     "name": "stdout",
     "output_type": "stream",
     "text": [
      "Epoch 132 tst: l 0.933 a 0.789  clct[20, 20] ans[20, 20] cl_acc 1.000 2.359sec\n"
     ]
    },
    {
     "name": "stdout",
     "output_type": "stream",
     "text": [
      "Epoch 133 tr: l 0.871 a 0.797  clct[31, 29] ans[29, 31] lr 0.065678 cl_acc 1.000 43.674sec(train) 3.668sec(infer)\n"
     ]
    },
    {
     "name": "stdout",
     "output_type": "stream",
     "text": [
      "Epoch 133 tst: l 0.905 a 0.793  clct[20, 20] ans[20, 20] cl_acc 1.000 2.314sec\n"
     ]
    },
    {
     "name": "stdout",
     "output_type": "stream",
     "text": [
      "Epoch 134 tr: l 0.879 a 0.796  clct[29, 31] ans[31, 29] lr 0.065021 cl_acc 1.000 43.595sec(train) 4.054sec(infer)\n"
     ]
    },
    {
     "name": "stdout",
     "output_type": "stream",
     "text": [
      "Epoch 134 tst: l 0.943 a 0.787  clct[20, 20] ans[20, 20] cl_acc 1.000 2.564sec\n"
     ]
    },
    {
     "name": "stdout",
     "output_type": "stream",
     "text": [
      "Epoch 135 tr: l 0.880 a 0.793  clct[33, 27] ans[27, 33] lr 0.064371 cl_acc 1.000 43.658sec(train) 3.874sec(infer)\n"
     ]
    },
    {
     "name": "stdout",
     "output_type": "stream",
     "text": [
      "Epoch 135 tst: l 0.935 a 0.785  clct[20, 20] ans[20, 20] cl_acc 1.000 2.519sec\n"
     ]
    },
    {
     "name": "stdout",
     "output_type": "stream",
     "text": [
      "Epoch 136 tr: l 0.876 a 0.789  clct[28, 32] ans[32, 28] lr 0.063727 cl_acc 1.000 43.598sec(train) 3.786sec(infer)\n"
     ]
    },
    {
     "name": "stdout",
     "output_type": "stream",
     "text": [
      "Epoch 136 tst: l 0.931 a 0.778  clct[20, 20] ans[20, 20] cl_acc 1.000 2.353sec\n"
     ]
    },
    {
     "name": "stdout",
     "output_type": "stream",
     "text": [
      "Epoch 137 tr: l 0.810 a 0.811  clct[36, 24] ans[24, 36] lr 0.063090 cl_acc 1.000 43.462sec(train) 4.079sec(infer)\n"
     ]
    },
    {
     "name": "stdout",
     "output_type": "stream",
     "text": [
      "Epoch 137 tst: l 0.905 a 0.790  clct[20, 20] ans[20, 20] cl_acc 1.000 2.616sec\n"
     ]
    },
    {
     "name": "stdout",
     "output_type": "stream",
     "text": [
      "Epoch 138 tr: l 0.870 a 0.799  clct[35, 25] ans[25, 35] lr 0.062459 cl_acc 1.000 43.593sec(train) 4.365sec(infer)\n"
     ]
    },
    {
     "name": "stdout",
     "output_type": "stream",
     "text": [
      "Epoch 138 tst: l 0.917 a 0.791  clct[20, 20] ans[20, 20] cl_acc 1.000 2.758sec\n"
     ]
    },
    {
     "name": "stdout",
     "output_type": "stream",
     "text": [
      "Epoch 139 tr: l 0.879 a 0.792  clct[28, 32] ans[32, 28] lr 0.061835 cl_acc 1.000 43.710sec(train) 3.669sec(infer)\n"
     ]
    },
    {
     "name": "stdout",
     "output_type": "stream",
     "text": [
      "Epoch 139 tst: l 0.908 a 0.791  clct[20, 20] ans[20, 20] cl_acc 1.000 2.329sec\n"
     ]
    },
    {
     "name": "stdout",
     "output_type": "stream",
     "text": [
      "Epoch 140 tr: l 0.867 a 0.795  clct[30, 30] ans[30, 30] lr 0.061216 cl_acc 1.000 43.346sec(train) 3.694sec(infer)\n"
     ]
    },
    {
     "name": "stdout",
     "output_type": "stream",
     "text": [
      "Epoch 140 tst: l 0.927 a 0.787  clct[20, 20] ans[20, 20] cl_acc 1.000 2.324sec\n",
      "result written at output/results.pickle\n"
     ]
    },
    {
     "name": "stdout",
     "output_type": "stream",
     "text": [
      "Epoch 141 tr: l 0.826 a 0.805  clct[29, 31] ans[31, 29] lr 0.060604 cl_acc 1.000 43.567sec(train) 3.638sec(infer)\n"
     ]
    },
    {
     "name": "stdout",
     "output_type": "stream",
     "text": [
      "Epoch 141 tst: l 0.900 a 0.791  clct[20, 20] ans[20, 20] cl_acc 1.000 2.217sec\n"
     ]
    },
    {
     "name": "stdout",
     "output_type": "stream",
     "text": [
      "Epoch 142 tr: l 0.859 a 0.800  clct[25, 35] ans[35, 25] lr 0.059998 cl_acc 1.000 43.399sec(train) 3.913sec(infer)\n"
     ]
    },
    {
     "name": "stdout",
     "output_type": "stream",
     "text": [
      "Epoch 142 tst: l 0.922 a 0.790  clct[20, 20] ans[20, 20] cl_acc 1.000 2.430sec\n"
     ]
    },
    {
     "name": "stdout",
     "output_type": "stream",
     "text": [
      "Epoch 143 tr: l 0.874 a 0.797  clct[32, 28] ans[28, 32] lr 0.059398 cl_acc 1.000 43.175sec(train) 3.825sec(infer)\n"
     ]
    },
    {
     "name": "stdout",
     "output_type": "stream",
     "text": [
      "Epoch 143 tst: l 0.935 a 0.793  clct[20, 20] ans[20, 20] cl_acc 1.000 2.636sec\n"
     ]
    },
    {
     "name": "stdout",
     "output_type": "stream",
     "text": [
      "Epoch 144 tr: l 0.815 a 0.810  clct[31, 29] ans[29, 31] lr 0.058804 cl_acc 1.000 43.574sec(train) 4.692sec(infer)\n"
     ]
    },
    {
     "name": "stdout",
     "output_type": "stream",
     "text": [
      "Epoch 144 tst: l 0.882 a 0.797  clct[20, 20] ans[20, 20] cl_acc 1.000 3.034sec\n"
     ]
    },
    {
     "name": "stdout",
     "output_type": "stream",
     "text": [
      "Epoch 145 tr: l 0.831 a 0.804  clct[28, 32] ans[32, 28] lr 0.058216 cl_acc 1.000 43.475sec(train) 4.322sec(infer)\n"
     ]
    },
    {
     "name": "stdout",
     "output_type": "stream",
     "text": [
      "Epoch 145 tst: l 0.897 a 0.791  clct[20, 20] ans[20, 20] cl_acc 1.000 2.768sec\n"
     ]
    },
    {
     "name": "stdout",
     "output_type": "stream",
     "text": [
      "Epoch 146 tr: l 0.826 a 0.809  clct[30, 30] ans[30, 30] lr 0.057634 cl_acc 1.000 43.256sec(train) 3.735sec(infer)\n"
     ]
    },
    {
     "name": "stdout",
     "output_type": "stream",
     "text": [
      "Epoch 146 tst: l 0.884 a 0.797  clct[20, 20] ans[20, 20] cl_acc 1.000 2.304sec\n"
     ]
    },
    {
     "name": "stdout",
     "output_type": "stream",
     "text": [
      "Epoch 147 tr: l 0.807 a 0.809  clct[30, 30] ans[30, 30] lr 0.057058 cl_acc 1.000 43.425sec(train) 3.723sec(infer)\n"
     ]
    },
    {
     "name": "stdout",
     "output_type": "stream",
     "text": [
      "Epoch 147 tst: l 0.876 a 0.797  clct[20, 20] ans[20, 20] cl_acc 1.000 2.316sec\n"
     ]
    },
    {
     "name": "stdout",
     "output_type": "stream",
     "text": [
      "Epoch 148 tr: l 0.856 a 0.799  clct[34, 26] ans[26, 34] lr 0.056487 cl_acc 1.000 43.180sec(train) 3.675sec(infer)\n"
     ]
    },
    {
     "name": "stdout",
     "output_type": "stream",
     "text": [
      "Epoch 148 tst: l 0.903 a 0.795  clct[20, 20] ans[20, 20] cl_acc 1.000 2.321sec\n"
     ]
    },
    {
     "name": "stdout",
     "output_type": "stream",
     "text": [
      "Epoch 149 tr: l 0.819 a 0.808  clct[34, 26] ans[26, 34] lr 0.055922 cl_acc 1.000 43.153sec(train) 3.774sec(infer)\n"
     ]
    },
    {
     "name": "stdout",
     "output_type": "stream",
     "text": [
      "Epoch 149 tst: l 0.873 a 0.796  clct[20, 20] ans[20, 20] cl_acc 1.000 2.275sec\n"
     ]
    },
    {
     "name": "stdout",
     "output_type": "stream",
     "text": [
      "Epoch 150 tr: l 0.828 a 0.802  clct[27, 33] ans[33, 27] lr 0.055363 cl_acc 1.000 43.365sec(train) 3.803sec(infer)\n"
     ]
    },
    {
     "name": "stdout",
     "output_type": "stream",
     "text": [
      "Epoch 150 tst: l 0.894 a 0.791  clct[20, 20] ans[20, 20] cl_acc 1.000 2.395sec\n",
      "result written at output/results.pickle\n"
     ]
    },
    {
     "name": "stdout",
     "output_type": "stream",
     "text": [
      "Epoch 151 tr: l 0.839 a 0.801  clct[33, 27] ans[27, 33] lr 0.054809 cl_acc 1.000 43.117sec(train) 3.746sec(infer)\n"
     ]
    },
    {
     "name": "stdout",
     "output_type": "stream",
     "text": [
      "Epoch 151 tst: l 0.890 a 0.796  clct[20, 20] ans[20, 20] cl_acc 1.000 2.369sec\n"
     ]
    },
    {
     "name": "stdout",
     "output_type": "stream",
     "text": [
      "Epoch 152 tr: l 0.800 a 0.809  clct[32, 28] ans[28, 32] lr 0.054261 cl_acc 1.000 43.343sec(train) 3.837sec(infer)\n"
     ]
    },
    {
     "name": "stdout",
     "output_type": "stream",
     "text": [
      "Epoch 152 tst: l 0.878 a 0.792  clct[20, 20] ans[20, 20] cl_acc 1.000 2.383sec\n"
     ]
    },
    {
     "name": "stdout",
     "output_type": "stream",
     "text": [
      "Epoch 153 tr: l 0.802 a 0.811  clct[25, 35] ans[35, 25] lr 0.053719 cl_acc 1.000 43.224sec(train) 4.027sec(infer)\n"
     ]
    },
    {
     "name": "stdout",
     "output_type": "stream",
     "text": [
      "Epoch 153 tst: l 0.866 a 0.796  clct[20, 20] ans[20, 20] cl_acc 1.000 2.569sec\n"
     ]
    },
    {
     "name": "stdout",
     "output_type": "stream",
     "text": [
      "Epoch 154 tr: l 0.828 a 0.801  clct[34, 26] ans[26, 34] lr 0.053181 cl_acc 1.000 43.407sec(train) 3.986sec(infer)\n"
     ]
    },
    {
     "name": "stdout",
     "output_type": "stream",
     "text": [
      "Epoch 154 tst: l 0.881 a 0.794  clct[20, 20] ans[20, 20] cl_acc 1.000 2.458sec\n"
     ]
    },
    {
     "name": "stdout",
     "output_type": "stream",
     "text": [
      "Epoch 155 tr: l 0.796 a 0.813  clct[32, 28] ans[28, 32] lr 0.052650 cl_acc 1.000 43.305sec(train) 4.143sec(infer)\n"
     ]
    },
    {
     "name": "stdout",
     "output_type": "stream",
     "text": [
      "Epoch 155 tst: l 0.872 a 0.797  clct[20, 20] ans[20, 20] cl_acc 1.000 2.718sec\n"
     ]
    },
    {
     "name": "stdout",
     "output_type": "stream",
     "text": [
      "Epoch 156 tr: l 0.799 a 0.812  clct[29, 31] ans[31, 29] lr 0.052123 cl_acc 1.000 43.375sec(train) 4.155sec(infer)\n"
     ]
    },
    {
     "name": "stdout",
     "output_type": "stream",
     "text": [
      "Epoch 156 tst: l 0.870 a 0.799  clct[20, 20] ans[20, 20] cl_acc 1.000 2.671sec\n"
     ]
    },
    {
     "name": "stdout",
     "output_type": "stream",
     "text": [
      "Epoch 157 tr: l 0.783 a 0.815  clct[23, 37] ans[37, 23] lr 0.051602 cl_acc 1.000 43.393sec(train) 4.135sec(infer)\n"
     ]
    },
    {
     "name": "stdout",
     "output_type": "stream",
     "text": [
      "Epoch 157 tst: l 0.865 a 0.799  clct[20, 20] ans[20, 20] cl_acc 1.000 2.675sec\n"
     ]
    },
    {
     "name": "stdout",
     "output_type": "stream",
     "text": [
      "Epoch 158 tr: l 0.780 a 0.816  clct[27, 33] ans[33, 27] lr 0.051086 cl_acc 1.000 43.370sec(train) 3.963sec(infer)\n"
     ]
    },
    {
     "name": "stdout",
     "output_type": "stream",
     "text": [
      "Epoch 158 tst: l 0.852 a 0.802  clct[20, 20] ans[20, 20] cl_acc 1.000 2.401sec\n"
     ]
    },
    {
     "name": "stdout",
     "output_type": "stream",
     "text": [
      "Epoch 159 tr: l 0.789 a 0.811  clct[34, 26] ans[26, 34] lr 0.050575 cl_acc 1.000 43.438sec(train) 4.225sec(infer)\n"
     ]
    },
    {
     "name": "stdout",
     "output_type": "stream",
     "text": [
      "Epoch 159 tst: l 0.851 a 0.796  clct[20, 20] ans[20, 20] cl_acc 1.000 2.642sec\n"
     ]
    },
    {
     "name": "stdout",
     "output_type": "stream",
     "text": [
      "Epoch 160 tr: l 0.767 a 0.819  clct[24, 36] ans[36, 24] lr 0.050069 cl_acc 1.000 43.389sec(train) 4.198sec(infer)\n"
     ]
    },
    {
     "name": "stdout",
     "output_type": "stream",
     "text": [
      "Epoch 160 tst: l 0.860 a 0.801  clct[20, 20] ans[20, 20] cl_acc 1.000 2.716sec\n",
      "result written at output/results.pickle\n"
     ]
    },
    {
     "name": "stdout",
     "output_type": "stream",
     "text": [
      "Epoch 161 tr: l 0.776 a 0.816  clct[30, 30] ans[30, 30] lr 0.049569 cl_acc 1.000 43.361sec(train) 4.371sec(infer)\n"
     ]
    },
    {
     "name": "stdout",
     "output_type": "stream",
     "text": [
      "Epoch 161 tst: l 0.829 a 0.806  clct[20, 20] ans[20, 20] cl_acc 1.000 2.667sec\n"
     ]
    },
    {
     "name": "stdout",
     "output_type": "stream",
     "text": [
      "Epoch 162 tr: l 0.799 a 0.811  clct[29, 31] ans[31, 29] lr 0.049073 cl_acc 1.000 43.290sec(train) 4.642sec(infer)\n"
     ]
    },
    {
     "name": "stdout",
     "output_type": "stream",
     "text": [
      "Epoch 162 tst: l 0.881 a 0.795  clct[20, 20] ans[20, 20] cl_acc 1.000 2.920sec\n"
     ]
    },
    {
     "name": "stdout",
     "output_type": "stream",
     "text": [
      "Epoch 163 tr: l 0.792 a 0.809  clct[32, 28] ans[28, 32] lr 0.048582 cl_acc 1.000 43.290sec(train) 4.475sec(infer)\n"
     ]
    },
    {
     "name": "stdout",
     "output_type": "stream",
     "text": [
      "Epoch 163 tst: l 0.858 a 0.797  clct[20, 20] ans[20, 20] cl_acc 1.000 2.744sec\n"
     ]
    },
    {
     "name": "stdout",
     "output_type": "stream",
     "text": [
      "Epoch 164 tr: l 0.747 a 0.822  clct[30, 30] ans[30, 30] lr 0.048096 cl_acc 1.000 43.246sec(train) 4.405sec(infer)\n"
     ]
    },
    {
     "name": "stdout",
     "output_type": "stream",
     "text": [
      "Epoch 164 tst: l 0.831 a 0.802  clct[20, 20] ans[20, 20] cl_acc 1.000 2.703sec\n"
     ]
    },
    {
     "name": "stdout",
     "output_type": "stream",
     "text": [
      "Epoch 165 tr: l 0.780 a 0.809  clct[27, 33] ans[33, 27] lr 0.047615 cl_acc 1.000 43.096sec(train) 4.332sec(infer)\n"
     ]
    },
    {
     "name": "stdout",
     "output_type": "stream",
     "text": [
      "Epoch 165 tst: l 0.850 a 0.795  clct[20, 20] ans[20, 20] cl_acc 1.000 2.748sec\n"
     ]
    },
    {
     "name": "stdout",
     "output_type": "stream",
     "text": [
      "Epoch 166 tr: l 0.770 a 0.814  clct[31, 29] ans[29, 31] lr 0.047139 cl_acc 1.000 43.075sec(train) 4.331sec(infer)\n"
     ]
    },
    {
     "name": "stdout",
     "output_type": "stream",
     "text": [
      "Epoch 166 tst: l 0.851 a 0.796  clct[20, 20] ans[20, 20] cl_acc 1.000 2.790sec\n"
     ]
    },
    {
     "name": "stdout",
     "output_type": "stream",
     "text": [
      "Epoch 167 tr: l 0.774 a 0.819  clct[25, 35] ans[35, 25] lr 0.046668 cl_acc 1.000 43.183sec(train) 4.310sec(infer)\n"
     ]
    },
    {
     "name": "stdout",
     "output_type": "stream",
     "text": [
      "Epoch 167 tst: l 0.848 a 0.799  clct[20, 20] ans[20, 20] cl_acc 1.000 2.665sec\n"
     ]
    },
    {
     "name": "stdout",
     "output_type": "stream",
     "text": [
      "Epoch 168 tr: l 0.762 a 0.817  clct[30, 30] ans[30, 30] lr 0.046201 cl_acc 1.000 43.324sec(train) 4.260sec(infer)\n"
     ]
    },
    {
     "name": "stdout",
     "output_type": "stream",
     "text": [
      "Epoch 168 tst: l 0.843 a 0.797  clct[20, 20] ans[20, 20] cl_acc 1.000 2.796sec\n"
     ]
    },
    {
     "name": "stdout",
     "output_type": "stream",
     "text": [
      "Epoch 169 tr: l 0.778 a 0.817  clct[33, 27] ans[27, 33] lr 0.045739 cl_acc 1.000 43.323sec(train) 4.257sec(infer)\n"
     ]
    },
    {
     "name": "stdout",
     "output_type": "stream",
     "text": [
      "Epoch 169 tst: l 0.864 a 0.799  clct[20, 20] ans[20, 20] cl_acc 1.000 2.718sec\n"
     ]
    },
    {
     "name": "stdout",
     "output_type": "stream",
     "text": [
      "Epoch 170 tr: l 0.777 a 0.808  clct[29, 31] ans[31, 29] lr 0.045282 cl_acc 1.000 43.116sec(train) 4.450sec(infer)\n"
     ]
    },
    {
     "name": "stdout",
     "output_type": "stream",
     "text": [
      "Epoch 170 tst: l 0.812 a 0.804  clct[20, 20] ans[20, 20] cl_acc 1.000 2.798sec\n",
      "result written at output/results.pickle\n"
     ]
    },
    {
     "name": "stdout",
     "output_type": "stream",
     "text": [
      "Epoch 171 tr: l 0.738 a 0.827  clct[31, 29] ans[29, 31] lr 0.044829 cl_acc 1.000 43.105sec(train) 4.309sec(infer)\n"
     ]
    },
    {
     "name": "stdout",
     "output_type": "stream",
     "text": [
      "Epoch 171 tst: l 0.824 a 0.806  clct[20, 20] ans[20, 20] cl_acc 1.000 2.659sec\n"
     ]
    },
    {
     "name": "stdout",
     "output_type": "stream",
     "text": [
      "Epoch 172 tr: l 0.767 a 0.821  clct[28, 32] ans[32, 28] lr 0.044381 cl_acc 1.000 43.224sec(train) 4.147sec(infer)\n"
     ]
    },
    {
     "name": "stdout",
     "output_type": "stream",
     "text": [
      "Epoch 172 tst: l 0.855 a 0.804  clct[20, 20] ans[20, 20] cl_acc 1.000 2.716sec\n"
     ]
    },
    {
     "name": "stdout",
     "output_type": "stream",
     "text": [
      "Epoch 173 tr: l 0.778 a 0.814  clct[27, 33] ans[33, 27] lr 0.043937 cl_acc 1.000 43.367sec(train) 4.351sec(infer)\n"
     ]
    },
    {
     "name": "stdout",
     "output_type": "stream",
     "text": [
      "Epoch 173 tst: l 0.846 a 0.800  clct[20, 20] ans[20, 20] cl_acc 1.000 2.669sec\n"
     ]
    },
    {
     "name": "stdout",
     "output_type": "stream",
     "text": [
      "Epoch 174 tr: l 0.766 a 0.819  clct[26, 34] ans[34, 26] lr 0.043497 cl_acc 1.000 43.150sec(train) 4.424sec(infer)\n"
     ]
    },
    {
     "name": "stdout",
     "output_type": "stream",
     "text": [
      "Epoch 174 tst: l 0.841 a 0.802  clct[20, 20] ans[20, 20] cl_acc 1.000 2.886sec\n"
     ]
    },
    {
     "name": "stdout",
     "output_type": "stream",
     "text": [
      "Epoch 175 tr: l 0.754 a 0.821  clct[34, 26] ans[26, 34] lr 0.043062 cl_acc 1.000 43.094sec(train) 4.605sec(infer)\n"
     ]
    },
    {
     "name": "stdout",
     "output_type": "stream",
     "text": [
      "Epoch 175 tst: l 0.836 a 0.801  clct[20, 20] ans[20, 20] cl_acc 1.000 2.771sec\n"
     ]
    },
    {
     "name": "stdout",
     "output_type": "stream",
     "text": [
      "Epoch 176 tr: l 0.743 a 0.824  clct[31, 29] ans[29, 31] lr 0.042632 cl_acc 1.000 43.441sec(train) 4.202sec(infer)\n"
     ]
    },
    {
     "name": "stdout",
     "output_type": "stream",
     "text": [
      "Epoch 176 tst: l 0.835 a 0.804  clct[20, 20] ans[20, 20] cl_acc 1.000 2.665sec\n"
     ]
    },
    {
     "name": "stdout",
     "output_type": "stream",
     "text": [
      "Epoch 177 tr: l 0.729 a 0.827  clct[36, 24] ans[24, 36] lr 0.042206 cl_acc 1.000 43.228sec(train) 4.215sec(infer)\n"
     ]
    },
    {
     "name": "stdout",
     "output_type": "stream",
     "text": [
      "Epoch 177 tst: l 0.830 a 0.808  clct[20, 20] ans[20, 20] cl_acc 1.000 2.765sec\n"
     ]
    },
    {
     "name": "stdout",
     "output_type": "stream",
     "text": [
      "Epoch 178 tr: l 0.729 a 0.825  clct[32, 28] ans[28, 32] lr 0.041783 cl_acc 1.000 43.309sec(train) 4.253sec(infer)\n"
     ]
    },
    {
     "name": "stdout",
     "output_type": "stream",
     "text": [
      "Epoch 178 tst: l 0.816 a 0.804  clct[20, 20] ans[20, 20] cl_acc 1.000 2.693sec\n"
     ]
    },
    {
     "name": "stdout",
     "output_type": "stream",
     "text": [
      "Epoch 179 tr: l 0.756 a 0.821  clct[32, 28] ans[28, 32] lr 0.041366 cl_acc 1.000 43.067sec(train) 4.394sec(infer)\n"
     ]
    },
    {
     "name": "stdout",
     "output_type": "stream",
     "text": [
      "Epoch 179 tst: l 0.837 a 0.806  clct[20, 20] ans[20, 20] cl_acc 1.000 2.745sec\n"
     ]
    },
    {
     "name": "stdout",
     "output_type": "stream",
     "text": [
      "Epoch 180 tr: l 0.746 a 0.821  clct[25, 35] ans[35, 25] lr 0.040952 cl_acc 1.000 42.814sec(train) 4.391sec(infer)\n"
     ]
    },
    {
     "name": "stdout",
     "output_type": "stream",
     "text": [
      "Epoch 180 tst: l 0.840 a 0.800  clct[20, 20] ans[20, 20] cl_acc 1.000 2.707sec\n",
      "result written at output/results.pickle\n"
     ]
    },
    {
     "name": "stdout",
     "output_type": "stream",
     "text": [
      "Epoch 181 tr: l 0.744 a 0.821  clct[32, 28] ans[28, 32] lr 0.040542 cl_acc 1.000 43.164sec(train) 4.398sec(infer)\n"
     ]
    },
    {
     "name": "stdout",
     "output_type": "stream",
     "text": [
      "Epoch 181 tst: l 0.815 a 0.807  clct[20, 20] ans[20, 20] cl_acc 1.000 2.810sec\n"
     ]
    },
    {
     "name": "stdout",
     "output_type": "stream",
     "text": [
      "Epoch 182 tr: l 0.697 a 0.836  clct[30, 30] ans[30, 30] lr 0.040137 cl_acc 1.000 43.151sec(train) 4.490sec(infer)\n"
     ]
    },
    {
     "name": "stdout",
     "output_type": "stream",
     "text": [
      "Epoch 182 tst: l 0.801 a 0.811  clct[20, 20] ans[20, 20] cl_acc 1.000 2.872sec\n"
     ]
    },
    {
     "name": "stdout",
     "output_type": "stream",
     "text": [
      "Epoch 183 tr: l 0.757 a 0.820  clct[28, 32] ans[32, 28] lr 0.039736 cl_acc 1.000 43.228sec(train) 4.309sec(infer)\n"
     ]
    },
    {
     "name": "stdout",
     "output_type": "stream",
     "text": [
      "Epoch 183 tst: l 0.861 a 0.798  clct[20, 20] ans[20, 20] cl_acc 1.000 2.593sec\n"
     ]
    },
    {
     "name": "stdout",
     "output_type": "stream",
     "text": [
      "Epoch 184 tr: l 0.730 a 0.825  clct[24, 36] ans[36, 24] lr 0.039338 cl_acc 1.000 43.262sec(train) 4.389sec(infer)\n"
     ]
    },
    {
     "name": "stdout",
     "output_type": "stream",
     "text": [
      "Epoch 184 tst: l 0.815 a 0.805  clct[20, 20] ans[20, 20] cl_acc 1.000 2.695sec\n"
     ]
    },
    {
     "name": "stdout",
     "output_type": "stream",
     "text": [
      "Epoch 185 tr: l 0.733 a 0.824  clct[30, 30] ans[30, 30] lr 0.038945 cl_acc 1.000 43.041sec(train) 4.586sec(infer)\n"
     ]
    },
    {
     "name": "stdout",
     "output_type": "stream",
     "text": [
      "Epoch 185 tst: l 0.817 a 0.808  clct[20, 20] ans[20, 20] cl_acc 1.000 2.922sec\n"
     ]
    },
    {
     "name": "stdout",
     "output_type": "stream",
     "text": [
      "Epoch 186 tr: l 0.736 a 0.827  clct[32, 28] ans[28, 32] lr 0.038555 cl_acc 1.000 43.294sec(train) 4.374sec(infer)\n"
     ]
    },
    {
     "name": "stdout",
     "output_type": "stream",
     "text": [
      "Epoch 186 tst: l 0.814 a 0.810  clct[20, 20] ans[20, 20] cl_acc 1.000 2.721sec\n"
     ]
    },
    {
     "name": "stdout",
     "output_type": "stream",
     "text": [
      "Epoch 187 tr: l 0.714 a 0.831  clct[26, 34] ans[34, 26] lr 0.038170 cl_acc 1.000 43.275sec(train) 4.344sec(infer)\n"
     ]
    },
    {
     "name": "stdout",
     "output_type": "stream",
     "text": [
      "Epoch 187 tst: l 0.813 a 0.809  clct[20, 20] ans[20, 20] cl_acc 1.000 2.754sec\n"
     ]
    },
    {
     "name": "stdout",
     "output_type": "stream",
     "text": [
      "Epoch 188 tr: l 0.740 a 0.820  clct[28, 32] ans[32, 28] lr 0.037788 cl_acc 1.000 43.184sec(train) 4.730sec(infer)\n"
     ]
    },
    {
     "name": "stdout",
     "output_type": "stream",
     "text": [
      "Epoch 188 tst: l 0.800 a 0.805  clct[20, 20] ans[20, 20] cl_acc 1.000 3.004sec\n"
     ]
    },
    {
     "name": "stdout",
     "output_type": "stream",
     "text": [
      "Epoch 189 tr: l 0.727 a 0.824  clct[29, 31] ans[31, 29] lr 0.037410 cl_acc 1.000 43.242sec(train) 4.539sec(infer)\n"
     ]
    },
    {
     "name": "stdout",
     "output_type": "stream",
     "text": [
      "Epoch 189 tst: l 0.793 a 0.810  clct[20, 20] ans[20, 20] cl_acc 1.000 2.953sec\n"
     ]
    },
    {
     "name": "stdout",
     "output_type": "stream",
     "text": [
      "Epoch 190 tr: l 0.714 a 0.832  clct[29, 31] ans[31, 29] lr 0.037036 cl_acc 1.000 43.470sec(train) 4.368sec(infer)\n"
     ]
    },
    {
     "name": "stdout",
     "output_type": "stream",
     "text": [
      "Epoch 190 tst: l 0.824 a 0.809  clct[20, 20] ans[20, 20] cl_acc 1.000 2.743sec\n",
      "result written at output/results.pickle\n"
     ]
    },
    {
     "name": "stdout",
     "output_type": "stream",
     "text": [
      "Epoch 191 tr: l 0.722 a 0.823  clct[30, 30] ans[30, 30] lr 0.036666 cl_acc 1.000 43.171sec(train) 4.298sec(infer)\n"
     ]
    },
    {
     "name": "stdout",
     "output_type": "stream",
     "text": [
      "Epoch 191 tst: l 0.804 a 0.808  clct[20, 20] ans[20, 20] cl_acc 1.000 2.706sec\n"
     ]
    },
    {
     "name": "stdout",
     "output_type": "stream",
     "text": [
      "Epoch 192 tr: l 0.705 a 0.832  clct[28, 32] ans[32, 28] lr 0.036299 cl_acc 1.000 43.278sec(train) 4.425sec(infer)\n"
     ]
    },
    {
     "name": "stdout",
     "output_type": "stream",
     "text": [
      "Epoch 192 tst: l 0.792 a 0.811  clct[20, 20] ans[20, 20] cl_acc 1.000 2.853sec\n"
     ]
    },
    {
     "name": "stdout",
     "output_type": "stream",
     "text": [
      "Epoch 193 tr: l 0.675 a 0.838  clct[30, 30] ans[30, 30] lr 0.035936 cl_acc 1.000 43.141sec(train) 4.320sec(infer)\n"
     ]
    },
    {
     "name": "stdout",
     "output_type": "stream",
     "text": [
      "Epoch 193 tst: l 0.807 a 0.809  clct[20, 20] ans[20, 20] cl_acc 1.000 2.704sec\n"
     ]
    },
    {
     "name": "stdout",
     "output_type": "stream",
     "text": [
      "Epoch 194 tr: l 0.703 a 0.829  clct[36, 24] ans[24, 36] lr 0.035577 cl_acc 1.000 43.112sec(train) 4.304sec(infer)\n"
     ]
    },
    {
     "name": "stdout",
     "output_type": "stream",
     "text": [
      "Epoch 194 tst: l 0.799 a 0.807  clct[20, 20] ans[20, 20] cl_acc 1.000 2.787sec\n"
     ]
    },
    {
     "name": "stdout",
     "output_type": "stream",
     "text": [
      "Epoch 195 tr: l 0.714 a 0.828  clct[33, 27] ans[27, 33] lr 0.035221 cl_acc 1.000 43.230sec(train) 4.290sec(infer)\n"
     ]
    },
    {
     "name": "stdout",
     "output_type": "stream",
     "text": [
      "Epoch 195 tst: l 0.787 a 0.813  clct[20, 20] ans[20, 20] cl_acc 1.000 2.703sec\n"
     ]
    },
    {
     "name": "stdout",
     "output_type": "stream",
     "text": [
      "Epoch 196 tr: l 0.687 a 0.833  clct[38, 22] ans[22, 38] lr 0.034869 cl_acc 1.000 43.222sec(train) 4.514sec(infer)\n"
     ]
    },
    {
     "name": "stdout",
     "output_type": "stream",
     "text": [
      "Epoch 196 tst: l 0.781 a 0.814  clct[20, 20] ans[20, 20] cl_acc 1.000 2.790sec\n"
     ]
    },
    {
     "name": "stdout",
     "output_type": "stream",
     "text": [
      "Epoch 197 tr: l 0.726 a 0.826  clct[30, 30] ans[30, 30] lr 0.034520 cl_acc 1.000 43.204sec(train) 4.462sec(infer)\n"
     ]
    },
    {
     "name": "stdout",
     "output_type": "stream",
     "text": [
      "Epoch 197 tst: l 0.796 a 0.807  clct[20, 20] ans[20, 20] cl_acc 1.000 2.825sec\n"
     ]
    },
    {
     "name": "stdout",
     "output_type": "stream",
     "text": [
      "Epoch 198 tr: l 0.697 a 0.832  clct[32, 28] ans[28, 32] lr 0.034175 cl_acc 1.000 43.194sec(train) 4.385sec(infer)\n"
     ]
    },
    {
     "name": "stdout",
     "output_type": "stream",
     "text": [
      "Epoch 198 tst: l 0.792 a 0.810  clct[20, 20] ans[20, 20] cl_acc 1.000 2.949sec\n"
     ]
    },
    {
     "name": "stdout",
     "output_type": "stream",
     "text": [
      "Epoch 199 tr: l 0.688 a 0.831  clct[29, 31] ans[31, 29] lr 0.033833 cl_acc 1.000 43.107sec(train) 4.424sec(infer)\n"
     ]
    },
    {
     "name": "stdout",
     "output_type": "stream",
     "text": [
      "Epoch 199 tst: l 0.791 a 0.812  clct[20, 20] ans[20, 20] cl_acc 1.000 2.915sec\n"
     ]
    },
    {
     "name": "stdout",
     "output_type": "stream",
     "text": [
      "Epoch 200 tr: l 0.676 a 0.836  clct[27, 33] ans[33, 27] lr 0.033495 cl_acc 1.000 43.443sec(train) 4.347sec(infer)\n"
     ]
    },
    {
     "name": "stdout",
     "output_type": "stream",
     "text": [
      "Epoch 200 tst: l 0.791 a 0.809  clct[20, 20] ans[20, 20] cl_acc 1.000 2.819sec\n",
      "result written at output/results.pickle\n"
     ]
    },
    {
     "name": "stdout",
     "output_type": "stream",
     "text": [
      "Epoch 201 tr: l 0.685 a 0.837  clct[28, 32] ans[32, 28] lr 0.033160 cl_acc 1.000 43.117sec(train) 4.348sec(infer)\n"
     ]
    },
    {
     "name": "stdout",
     "output_type": "stream",
     "text": [
      "Epoch 201 tst: l 0.788 a 0.812  clct[20, 20] ans[20, 20] cl_acc 1.000 2.663sec\n"
     ]
    },
    {
     "name": "stdout",
     "output_type": "stream",
     "text": [
      "Epoch 202 tr: l 0.681 a 0.832  clct[27, 33] ans[33, 27] lr 0.032828 cl_acc 1.000 43.265sec(train) 4.304sec(infer)\n"
     ]
    },
    {
     "name": "stdout",
     "output_type": "stream",
     "text": [
      "Epoch 202 tst: l 0.775 a 0.812  clct[20, 20] ans[20, 20] cl_acc 1.000 2.857sec\n"
     ]
    },
    {
     "name": "stdout",
     "output_type": "stream",
     "text": [
      "Epoch 203 tr: l 0.689 a 0.833  clct[31, 29] ans[29, 31] lr 0.032500 cl_acc 1.000 43.111sec(train) 4.201sec(infer)\n"
     ]
    },
    {
     "name": "stdout",
     "output_type": "stream",
     "text": [
      "Epoch 203 tst: l 0.805 a 0.809  clct[20, 20] ans[20, 20] cl_acc 1.000 2.714sec\n"
     ]
    },
    {
     "name": "stdout",
     "output_type": "stream",
     "text": [
      "Epoch 204 tr: l 0.701 a 0.831  clct[36, 24] ans[24, 36] lr 0.032175 cl_acc 1.000 43.109sec(train) 4.240sec(infer)\n"
     ]
    },
    {
     "name": "stdout",
     "output_type": "stream",
     "text": [
      "Epoch 204 tst: l 0.804 a 0.808  clct[20, 20] ans[20, 20] cl_acc 1.000 2.721sec\n"
     ]
    },
    {
     "name": "stdout",
     "output_type": "stream",
     "text": [
      "Epoch 205 tr: l 0.693 a 0.832  clct[37, 23] ans[23, 37] lr 0.031853 cl_acc 1.000 43.343sec(train) 4.375sec(infer)\n"
     ]
    },
    {
     "name": "stdout",
     "output_type": "stream",
     "text": [
      "Epoch 205 tst: l 0.789 a 0.811  clct[20, 20] ans[20, 20] cl_acc 1.000 2.717sec\n"
     ]
    },
    {
     "name": "stdout",
     "output_type": "stream",
     "text": [
      "Epoch 206 tr: l 0.664 a 0.838  clct[28, 32] ans[32, 28] lr 0.031535 cl_acc 1.000 43.126sec(train) 4.292sec(infer)\n"
     ]
    },
    {
     "name": "stdout",
     "output_type": "stream",
     "text": [
      "Epoch 206 tst: l 0.771 a 0.815  clct[20, 20] ans[20, 20] cl_acc 1.000 2.709sec\n"
     ]
    },
    {
     "name": "stdout",
     "output_type": "stream",
     "text": [
      "Epoch 207 tr: l 0.670 a 0.840  clct[30, 30] ans[30, 30] lr 0.031219 cl_acc 1.000 43.125sec(train) 4.481sec(infer)\n"
     ]
    },
    {
     "name": "stdout",
     "output_type": "stream",
     "text": [
      "Epoch 207 tst: l 0.790 a 0.814  clct[20, 20] ans[20, 20] cl_acc 1.000 2.767sec\n"
     ]
    },
    {
     "name": "stdout",
     "output_type": "stream",
     "text": [
      "Epoch 208 tr: l 0.647 a 0.843  clct[27, 33] ans[33, 27] lr 0.030907 cl_acc 1.000 43.087sec(train) 4.408sec(infer)\n"
     ]
    },
    {
     "name": "stdout",
     "output_type": "stream",
     "text": [
      "Epoch 208 tst: l 0.761 a 0.811  clct[20, 20] ans[20, 20] cl_acc 1.000 2.764sec\n"
     ]
    },
    {
     "name": "stdout",
     "output_type": "stream",
     "text": [
      "Epoch 209 tr: l 0.666 a 0.840  clct[28, 32] ans[32, 28] lr 0.030598 cl_acc 1.000 43.048sec(train) 4.273sec(infer)\n"
     ]
    },
    {
     "name": "stdout",
     "output_type": "stream",
     "text": [
      "Epoch 209 tst: l 0.776 a 0.817  clct[20, 20] ans[20, 20] cl_acc 1.000 2.748sec\n"
     ]
    },
    {
     "name": "stdout",
     "output_type": "stream",
     "text": [
      "Epoch 210 tr: l 0.646 a 0.847  clct[33, 27] ans[27, 33] lr 0.030292 cl_acc 1.000 42.975sec(train) 4.336sec(infer)\n"
     ]
    },
    {
     "name": "stdout",
     "output_type": "stream",
     "text": [
      "Epoch 210 tst: l 0.789 a 0.811  clct[20, 20] ans[20, 20] cl_acc 1.000 2.795sec\n",
      "result written at output/results.pickle\n"
     ]
    },
    {
     "name": "stdout",
     "output_type": "stream",
     "text": [
      "Epoch 211 tr: l 0.669 a 0.837  clct[29, 31] ans[31, 29] lr 0.029989 cl_acc 1.000 43.116sec(train) 4.114sec(infer)\n"
     ]
    },
    {
     "name": "stdout",
     "output_type": "stream",
     "text": [
      "Epoch 211 tst: l 0.762 a 0.813  clct[20, 20] ans[20, 20] cl_acc 1.000 2.664sec\n"
     ]
    },
    {
     "name": "stdout",
     "output_type": "stream",
     "text": [
      "Epoch 212 tr: l 0.680 a 0.837  clct[32, 28] ans[28, 32] lr 0.029689 cl_acc 1.000 42.759sec(train) 4.365sec(infer)\n"
     ]
    },
    {
     "name": "stdout",
     "output_type": "stream",
     "text": [
      "Epoch 212 tst: l 0.779 a 0.813  clct[20, 20] ans[20, 20] cl_acc 1.000 2.796sec\n"
     ]
    },
    {
     "name": "stdout",
     "output_type": "stream",
     "text": [
      "Epoch 213 tr: l 0.704 a 0.827  clct[30, 30] ans[30, 30] lr 0.029392 cl_acc 1.000 42.935sec(train) 4.360sec(infer)\n"
     ]
    },
    {
     "name": "stdout",
     "output_type": "stream",
     "text": [
      "Epoch 213 tst: l 0.781 a 0.817  clct[20, 20] ans[20, 20] cl_acc 1.000 2.719sec\n"
     ]
    },
    {
     "name": "stdout",
     "output_type": "stream",
     "text": [
      "Epoch 214 tr: l 0.676 a 0.836  clct[26, 34] ans[34, 26] lr 0.029099 cl_acc 1.000 43.065sec(train) 4.262sec(infer)\n"
     ]
    },
    {
     "name": "stdout",
     "output_type": "stream",
     "text": [
      "Epoch 214 tst: l 0.765 a 0.816  clct[20, 20] ans[20, 20] cl_acc 1.000 2.666sec\n"
     ]
    },
    {
     "name": "stdout",
     "output_type": "stream",
     "text": [
      "Epoch 215 tr: l 0.630 a 0.852  clct[36, 24] ans[24, 36] lr 0.028808 cl_acc 1.000 43.169sec(train) 4.429sec(infer)\n"
     ]
    },
    {
     "name": "stdout",
     "output_type": "stream",
     "text": [
      "Epoch 215 tst: l 0.758 a 0.821  clct[20, 20] ans[20, 20] cl_acc 1.000 2.778sec\n"
     ]
    },
    {
     "name": "stdout",
     "output_type": "stream",
     "text": [
      "Epoch 216 tr: l 0.660 a 0.839  clct[28, 32] ans[32, 28] lr 0.028520 cl_acc 1.000 43.312sec(train) 4.149sec(infer)\n"
     ]
    },
    {
     "name": "stdout",
     "output_type": "stream",
     "text": [
      "Epoch 216 tst: l 0.753 a 0.818  clct[20, 20] ans[20, 20] cl_acc 1.000 2.601sec\n"
     ]
    },
    {
     "name": "stdout",
     "output_type": "stream",
     "text": [
      "Epoch 217 tr: l 0.655 a 0.840  clct[28, 32] ans[32, 28] lr 0.028234 cl_acc 1.000 43.031sec(train) 4.110sec(infer)\n"
     ]
    },
    {
     "name": "stdout",
     "output_type": "stream",
     "text": [
      "Epoch 217 tst: l 0.780 a 0.813  clct[20, 20] ans[20, 20] cl_acc 1.000 2.567sec\n"
     ]
    },
    {
     "name": "stdout",
     "output_type": "stream",
     "text": [
      "Epoch 218 tr: l 0.655 a 0.842  clct[35, 25] ans[25, 35] lr 0.027952 cl_acc 1.000 43.337sec(train) 3.913sec(infer)\n"
     ]
    },
    {
     "name": "stdout",
     "output_type": "stream",
     "text": [
      "Epoch 218 tst: l 0.760 a 0.818  clct[20, 20] ans[20, 20] cl_acc 1.000 2.496sec\n"
     ]
    },
    {
     "name": "stdout",
     "output_type": "stream",
     "text": [
      "Epoch 219 tr: l 0.644 a 0.843  clct[28, 32] ans[32, 28] lr 0.027672 cl_acc 1.000 43.327sec(train) 4.338sec(infer)\n"
     ]
    },
    {
     "name": "stdout",
     "output_type": "stream",
     "text": [
      "Epoch 219 tst: l 0.759 a 0.814  clct[20, 20] ans[20, 20] cl_acc 1.000 2.778sec\n"
     ]
    },
    {
     "name": "stdout",
     "output_type": "stream",
     "text": [
      "Epoch 220 tr: l 0.643 a 0.845  clct[33, 27] ans[27, 33] lr 0.027396 cl_acc 1.000 43.505sec(train) 4.503sec(infer)\n"
     ]
    },
    {
     "name": "stdout",
     "output_type": "stream",
     "text": [
      "Epoch 220 tst: l 0.766 a 0.820  clct[20, 20] ans[20, 20] cl_acc 1.000 2.650sec\n",
      "result written at output/results.pickle\n"
     ]
    },
    {
     "name": "stdout",
     "output_type": "stream",
     "text": [
      "Epoch 221 tr: l 0.636 a 0.847  clct[30, 30] ans[30, 30] lr 0.027122 cl_acc 1.000 43.558sec(train) 4.134sec(infer)\n"
     ]
    },
    {
     "name": "stdout",
     "output_type": "stream",
     "text": [
      "Epoch 221 tst: l 0.758 a 0.817  clct[20, 20] ans[20, 20] cl_acc 1.000 2.592sec\n"
     ]
    },
    {
     "name": "stdout",
     "output_type": "stream",
     "text": [
      "Epoch 222 tr: l 0.647 a 0.843  clct[29, 31] ans[31, 29] lr 0.026851 cl_acc 1.000 43.413sec(train) 4.313sec(infer)\n"
     ]
    },
    {
     "name": "stdout",
     "output_type": "stream",
     "text": [
      "Epoch 222 tst: l 0.751 a 0.818  clct[20, 20] ans[20, 20] cl_acc 1.000 2.688sec\n"
     ]
    },
    {
     "name": "stdout",
     "output_type": "stream",
     "text": [
      "Epoch 223 tr: l 0.653 a 0.837  clct[33, 27] ans[27, 33] lr 0.026582 cl_acc 1.000 43.474sec(train) 4.495sec(infer)\n"
     ]
    },
    {
     "name": "stdout",
     "output_type": "stream",
     "text": [
      "Epoch 223 tst: l 0.763 a 0.811  clct[20, 20] ans[20, 20] cl_acc 1.000 2.834sec\n"
     ]
    },
    {
     "name": "stdout",
     "output_type": "stream",
     "text": [
      "Epoch 224 tr: l 0.680 a 0.833  clct[31, 29] ans[29, 31] lr 0.026316 cl_acc 1.000 43.735sec(train) 4.302sec(infer)\n"
     ]
    },
    {
     "name": "stdout",
     "output_type": "stream",
     "text": [
      "Epoch 224 tst: l 0.774 a 0.810  clct[20, 20] ans[20, 20] cl_acc 1.000 2.859sec\n"
     ]
    },
    {
     "name": "stdout",
     "output_type": "stream",
     "text": [
      "Epoch 225 tr: l 0.604 a 0.855  clct[29, 31] ans[31, 29] lr 0.026053 cl_acc 1.000 43.395sec(train) 4.248sec(infer)\n"
     ]
    },
    {
     "name": "stdout",
     "output_type": "stream",
     "text": [
      "Epoch 225 tst: l 0.748 a 0.822  clct[20, 20] ans[20, 20] cl_acc 1.000 2.796sec\n"
     ]
    },
    {
     "name": "stdout",
     "output_type": "stream",
     "text": [
      "Epoch 226 tr: l 0.658 a 0.841  clct[33, 27] ans[27, 33] lr 0.025793 cl_acc 1.000 43.239sec(train) 3.951sec(infer)\n"
     ]
    },
    {
     "name": "stdout",
     "output_type": "stream",
     "text": [
      "Epoch 226 tst: l 0.770 a 0.817  clct[20, 20] ans[20, 20] cl_acc 1.000 2.411sec\n"
     ]
    },
    {
     "name": "stdout",
     "output_type": "stream",
     "text": [
      "Epoch 227 tr: l 0.602 a 0.855  clct[35, 25] ans[25, 35] lr 0.025535 cl_acc 1.000 43.204sec(train) 3.827sec(infer)\n"
     ]
    },
    {
     "name": "stdout",
     "output_type": "stream",
     "text": [
      "Epoch 227 tst: l 0.757 a 0.822  clct[20, 20] ans[20, 20] cl_acc 1.000 2.254sec\n"
     ]
    },
    {
     "name": "stdout",
     "output_type": "stream",
     "text": [
      "Epoch 228 tr: l 0.647 a 0.842  clct[31, 29] ans[29, 31] lr 0.025279 cl_acc 1.000 43.182sec(train) 4.033sec(infer)\n"
     ]
    },
    {
     "name": "stdout",
     "output_type": "stream",
     "text": [
      "Epoch 228 tst: l 0.764 a 0.816  clct[20, 20] ans[20, 20] cl_acc 1.000 2.479sec\n"
     ]
    },
    {
     "name": "stdout",
     "output_type": "stream",
     "text": [
      "Epoch 229 tr: l 0.651 a 0.840  clct[28, 32] ans[32, 28] lr 0.025026 cl_acc 1.000 43.006sec(train) 4.233sec(infer)\n"
     ]
    },
    {
     "name": "stdout",
     "output_type": "stream",
     "text": [
      "Epoch 229 tst: l 0.763 a 0.817  clct[20, 20] ans[20, 20] cl_acc 1.000 2.662sec\n"
     ]
    },
    {
     "name": "stdout",
     "output_type": "stream",
     "text": [
      "Epoch 230 tr: l 0.610 a 0.852  clct[30, 30] ans[30, 30] lr 0.024776 cl_acc 1.000 43.530sec(train) 3.906sec(infer)\n"
     ]
    },
    {
     "name": "stdout",
     "output_type": "stream",
     "text": [
      "Epoch 230 tst: l 0.753 a 0.816  clct[20, 20] ans[20, 20] cl_acc 1.000 2.473sec\n",
      "result written at output/results.pickle\n"
     ]
    },
    {
     "name": "stdout",
     "output_type": "stream",
     "text": [
      "Epoch 231 tr: l 0.592 a 0.860  clct[24, 36] ans[36, 24] lr 0.024528 cl_acc 1.000 43.564sec(train) 4.561sec(infer)\n"
     ]
    },
    {
     "name": "stdout",
     "output_type": "stream",
     "text": [
      "Epoch 231 tst: l 0.745 a 0.821  clct[20, 20] ans[20, 20] cl_acc 1.000 2.900sec\n"
     ]
    },
    {
     "name": "stdout",
     "output_type": "stream",
     "text": [
      "Epoch 232 tr: l 0.650 a 0.844  clct[31, 29] ans[29, 31] lr 0.024283 cl_acc 1.000 43.655sec(train) 4.637sec(infer)\n"
     ]
    },
    {
     "name": "stdout",
     "output_type": "stream",
     "text": [
      "Epoch 232 tst: l 0.771 a 0.814  clct[20, 20] ans[20, 20] cl_acc 1.000 2.821sec\n"
     ]
    },
    {
     "name": "stdout",
     "output_type": "stream",
     "text": [
      "Epoch 233 tr: l 0.624 a 0.845  clct[26, 34] ans[34, 26] lr 0.024040 cl_acc 1.000 43.272sec(train) 4.497sec(infer)\n"
     ]
    },
    {
     "name": "stdout",
     "output_type": "stream",
     "text": [
      "Epoch 233 tst: l 0.750 a 0.816  clct[20, 20] ans[20, 20] cl_acc 1.000 2.917sec\n"
     ]
    },
    {
     "name": "stdout",
     "output_type": "stream",
     "text": [
      "Epoch 234 tr: l 0.631 a 0.845  clct[28, 32] ans[32, 28] lr 0.023800 cl_acc 1.000 43.401sec(train) 4.497sec(infer)\n"
     ]
    },
    {
     "name": "stdout",
     "output_type": "stream",
     "text": [
      "Epoch 234 tst: l 0.741 a 0.819  clct[20, 20] ans[20, 20] cl_acc 1.000 2.858sec\n"
     ]
    },
    {
     "name": "stdout",
     "output_type": "stream",
     "text": [
      "Epoch 235 tr: l 0.592 a 0.859  clct[32, 28] ans[28, 32] lr 0.023562 cl_acc 1.000 43.500sec(train) 4.366sec(infer)\n"
     ]
    },
    {
     "name": "stdout",
     "output_type": "stream",
     "text": [
      "Epoch 235 tst: l 0.731 a 0.822  clct[20, 20] ans[20, 20] cl_acc 1.000 2.919sec\n"
     ]
    },
    {
     "name": "stdout",
     "output_type": "stream",
     "text": [
      "Epoch 236 tr: l 0.630 a 0.845  clct[33, 27] ans[27, 33] lr 0.023326 cl_acc 1.000 43.461sec(train) 4.533sec(infer)\n"
     ]
    },
    {
     "name": "stdout",
     "output_type": "stream",
     "text": [
      "Epoch 236 tst: l 0.754 a 0.818  clct[20, 20] ans[20, 20] cl_acc 1.000 2.816sec\n"
     ]
    },
    {
     "name": "stdout",
     "output_type": "stream",
     "text": [
      "Epoch 237 tr: l 0.620 a 0.849  clct[31, 29] ans[29, 31] lr 0.023093 cl_acc 1.000 43.213sec(train) 4.493sec(infer)\n"
     ]
    },
    {
     "name": "stdout",
     "output_type": "stream",
     "text": [
      "Epoch 237 tst: l 0.745 a 0.819  clct[20, 20] ans[20, 20] cl_acc 1.000 3.012sec\n"
     ]
    },
    {
     "name": "stdout",
     "output_type": "stream",
     "text": [
      "Epoch 238 tr: l 0.592 a 0.858  clct[32, 28] ans[28, 32] lr 0.022862 cl_acc 1.000 43.497sec(train) 4.319sec(infer)\n"
     ]
    },
    {
     "name": "stdout",
     "output_type": "stream",
     "text": [
      "Epoch 238 tst: l 0.740 a 0.820  clct[20, 20] ans[20, 20] cl_acc 1.000 2.774sec\n"
     ]
    },
    {
     "name": "stdout",
     "output_type": "stream",
     "text": [
      "Epoch 239 tr: l 0.641 a 0.844  clct[28, 32] ans[32, 28] lr 0.022633 cl_acc 1.000 43.295sec(train) 4.428sec(infer)\n"
     ]
    },
    {
     "name": "stdout",
     "output_type": "stream",
     "text": [
      "Epoch 239 tst: l 0.748 a 0.819  clct[20, 20] ans[20, 20] cl_acc 1.000 2.874sec\n"
     ]
    },
    {
     "name": "stdout",
     "output_type": "stream",
     "text": [
      "Epoch 240 tr: l 0.598 a 0.855  clct[30, 30] ans[30, 30] lr 0.022407 cl_acc 1.000 43.193sec(train) 4.435sec(infer)\n"
     ]
    },
    {
     "name": "stdout",
     "output_type": "stream",
     "text": [
      "Epoch 240 tst: l 0.734 a 0.821  clct[20, 20] ans[20, 20] cl_acc 1.000 2.778sec\n",
      "result written at output/results.pickle\n"
     ]
    },
    {
     "name": "stdout",
     "output_type": "stream",
     "text": [
      "Epoch 241 tr: l 0.628 a 0.843  clct[26, 34] ans[34, 26] lr 0.022183 cl_acc 1.000 43.305sec(train) 4.445sec(infer)\n"
     ]
    },
    {
     "name": "stdout",
     "output_type": "stream",
     "text": [
      "Epoch 241 tst: l 0.749 a 0.818  clct[20, 20] ans[20, 20] cl_acc 1.000 2.844sec\n"
     ]
    },
    {
     "name": "stdout",
     "output_type": "stream",
     "text": [
      "Epoch 242 tr: l 0.619 a 0.848  clct[29, 31] ans[31, 29] lr 0.021961 cl_acc 1.000 43.301sec(train) 4.307sec(infer)\n"
     ]
    },
    {
     "name": "stdout",
     "output_type": "stream",
     "text": [
      "Epoch 242 tst: l 0.728 a 0.823  clct[20, 20] ans[20, 20] cl_acc 1.000 2.834sec\n"
     ]
    },
    {
     "name": "stdout",
     "output_type": "stream",
     "text": [
      "Epoch 243 tr: l 0.583 a 0.860  clct[31, 29] ans[29, 31] lr 0.021742 cl_acc 1.000 43.238sec(train) 4.269sec(infer)\n"
     ]
    },
    {
     "name": "stdout",
     "output_type": "stream",
     "text": [
      "Epoch 243 tst: l 0.739 a 0.825  clct[20, 20] ans[20, 20] cl_acc 1.000 2.783sec\n"
     ]
    },
    {
     "name": "stdout",
     "output_type": "stream",
     "text": [
      "Epoch 244 tr: l 0.612 a 0.849  clct[25, 35] ans[35, 25] lr 0.021524 cl_acc 1.000 43.505sec(train) 4.425sec(infer)\n"
     ]
    },
    {
     "name": "stdout",
     "output_type": "stream",
     "text": [
      "Epoch 244 tst: l 0.756 a 0.816  clct[20, 20] ans[20, 20] cl_acc 1.000 2.882sec\n"
     ]
    },
    {
     "name": "stdout",
     "output_type": "stream",
     "text": [
      "Epoch 245 tr: l 0.577 a 0.863  clct[28, 32] ans[32, 28] lr 0.021309 cl_acc 1.000 43.317sec(train) 4.272sec(infer)\n"
     ]
    },
    {
     "name": "stdout",
     "output_type": "stream",
     "text": [
      "Epoch 245 tst: l 0.725 a 0.826  clct[20, 20] ans[20, 20] cl_acc 1.000 2.748sec\n"
     ]
    },
    {
     "name": "stdout",
     "output_type": "stream",
     "text": [
      "Epoch 246 tr: l 0.619 a 0.846  clct[31, 29] ans[29, 31] lr 0.021096 cl_acc 1.000 43.351sec(train) 4.299sec(infer)\n"
     ]
    },
    {
     "name": "stdout",
     "output_type": "stream",
     "text": [
      "Epoch 246 tst: l 0.749 a 0.816  clct[20, 20] ans[20, 20] cl_acc 1.000 2.758sec\n"
     ]
    },
    {
     "name": "stdout",
     "output_type": "stream",
     "text": [
      "Epoch 247 tr: l 0.575 a 0.862  clct[31, 29] ans[29, 31] lr 0.020885 cl_acc 1.000 43.124sec(train) 4.434sec(infer)\n"
     ]
    },
    {
     "name": "stdout",
     "output_type": "stream",
     "text": [
      "Epoch 247 tst: l 0.737 a 0.826  clct[20, 20] ans[20, 20] cl_acc 1.000 2.917sec\n"
     ]
    },
    {
     "name": "stdout",
     "output_type": "stream",
     "text": [
      "Epoch 248 tr: l 0.595 a 0.856  clct[27, 33] ans[33, 27] lr 0.020676 cl_acc 1.000 43.296sec(train) 4.456sec(infer)\n"
     ]
    },
    {
     "name": "stdout",
     "output_type": "stream",
     "text": [
      "Epoch 248 tst: l 0.732 a 0.821  clct[20, 20] ans[20, 20] cl_acc 1.000 2.847sec\n"
     ]
    },
    {
     "name": "stdout",
     "output_type": "stream",
     "text": [
      "Epoch 249 tr: l 0.606 a 0.850  clct[30, 30] ans[30, 30] lr 0.020469 cl_acc 1.000 43.349sec(train) 4.152sec(infer)\n"
     ]
    },
    {
     "name": "stdout",
     "output_type": "stream",
     "text": [
      "Epoch 249 tst: l 0.723 a 0.825  clct[20, 20] ans[20, 20] cl_acc 1.000 2.769sec\n"
     ]
    },
    {
     "name": "stdout",
     "output_type": "stream",
     "text": [
      "Epoch 250 tr: l 0.600 a 0.853  clct[28, 32] ans[32, 28] lr 0.020265 cl_acc 1.000 43.163sec(train) 4.254sec(infer)\n"
     ]
    },
    {
     "name": "stdout",
     "output_type": "stream",
     "text": [
      "Epoch 250 tst: l 0.729 a 0.824  clct[20, 20] ans[20, 20] cl_acc 1.000 2.620sec\n",
      "result written at output/results.pickle\n"
     ]
    },
    {
     "name": "stdout",
     "output_type": "stream",
     "text": [
      "Epoch 251 tr: l 0.573 a 0.862  clct[27, 33] ans[33, 27] lr 0.020062 cl_acc 1.000 43.445sec(train) 4.456sec(infer)\n"
     ]
    },
    {
     "name": "stdout",
     "output_type": "stream",
     "text": [
      "Epoch 251 tst: l 0.726 a 0.825  clct[20, 20] ans[20, 20] cl_acc 1.000 2.896sec\n"
     ]
    },
    {
     "name": "stdout",
     "output_type": "stream",
     "text": [
      "Epoch 252 tr: l 0.586 a 0.858  clct[33, 27] ans[27, 33] lr 0.019861 cl_acc 1.000 43.330sec(train) 4.514sec(infer)\n"
     ]
    },
    {
     "name": "stdout",
     "output_type": "stream",
     "text": [
      "Epoch 252 tst: l 0.750 a 0.819  clct[20, 20] ans[20, 20] cl_acc 1.000 2.903sec\n"
     ]
    },
    {
     "name": "stdout",
     "output_type": "stream",
     "text": [
      "Epoch 253 tr: l 0.576 a 0.863  clct[32, 28] ans[28, 32] lr 0.019663 cl_acc 1.000 43.324sec(train) 4.417sec(infer)\n"
     ]
    },
    {
     "name": "stdout",
     "output_type": "stream",
     "text": [
      "Epoch 253 tst: l 0.735 a 0.824  clct[20, 20] ans[20, 20] cl_acc 1.000 2.867sec\n"
     ]
    },
    {
     "name": "stdout",
     "output_type": "stream",
     "text": [
      "Epoch 254 tr: l 0.570 a 0.865  clct[33, 27] ans[27, 33] lr 0.019466 cl_acc 1.000 43.074sec(train) 4.278sec(infer)\n"
     ]
    },
    {
     "name": "stdout",
     "output_type": "stream",
     "text": [
      "Epoch 254 tst: l 0.731 a 0.823  clct[20, 20] ans[20, 20] cl_acc 1.000 2.679sec\n"
     ]
    },
    {
     "name": "stdout",
     "output_type": "stream",
     "text": [
      "Epoch 255 tr: l 0.562 a 0.865  clct[34, 26] ans[26, 34] lr 0.019271 cl_acc 1.000 42.940sec(train) 4.253sec(infer)\n"
     ]
    },
    {
     "name": "stdout",
     "output_type": "stream",
     "text": [
      "Epoch 255 tst: l 0.726 a 0.823  clct[20, 20] ans[20, 20] cl_acc 1.000 2.773sec\n"
     ]
    },
    {
     "name": "stdout",
     "output_type": "stream",
     "text": [
      "Epoch 256 tr: l 0.566 a 0.863  clct[29, 31] ans[31, 29] lr 0.019079 cl_acc 1.000 43.387sec(train) 4.367sec(infer)\n"
     ]
    },
    {
     "name": "stdout",
     "output_type": "stream",
     "text": [
      "Epoch 256 tst: l 0.728 a 0.826  clct[20, 20] ans[20, 20] cl_acc 1.000 2.726sec\n"
     ]
    },
    {
     "name": "stdout",
     "output_type": "stream",
     "text": [
      "Epoch 257 tr: l 0.550 a 0.870  clct[32, 28] ans[28, 32] lr 0.018888 cl_acc 1.000 43.078sec(train) 4.269sec(infer)\n"
     ]
    },
    {
     "name": "stdout",
     "output_type": "stream",
     "text": [
      "Epoch 257 tst: l 0.715 a 0.825  clct[20, 20] ans[20, 20] cl_acc 1.000 2.677sec\n"
     ]
    },
    {
     "name": "stdout",
     "output_type": "stream",
     "text": [
      "Epoch 258 tr: l 0.568 a 0.863  clct[28, 32] ans[32, 28] lr 0.018699 cl_acc 1.000 43.129sec(train) 4.258sec(infer)\n"
     ]
    },
    {
     "name": "stdout",
     "output_type": "stream",
     "text": [
      "Epoch 258 tst: l 0.727 a 0.823  clct[20, 20] ans[20, 20] cl_acc 1.000 2.829sec\n"
     ]
    },
    {
     "name": "stdout",
     "output_type": "stream",
     "text": [
      "Epoch 259 tr: l 0.588 a 0.858  clct[25, 35] ans[35, 25] lr 0.018512 cl_acc 1.000 43.189sec(train) 4.358sec(infer)\n"
     ]
    },
    {
     "name": "stdout",
     "output_type": "stream",
     "text": [
      "Epoch 259 tst: l 0.720 a 0.824  clct[20, 20] ans[20, 20] cl_acc 1.000 2.850sec\n"
     ]
    },
    {
     "name": "stdout",
     "output_type": "stream",
     "text": [
      "Epoch 260 tr: l 0.577 a 0.861  clct[32, 28] ans[28, 32] lr 0.018327 cl_acc 1.000 43.300sec(train) 4.600sec(infer)\n"
     ]
    },
    {
     "name": "stdout",
     "output_type": "stream",
     "text": [
      "Epoch 260 tst: l 0.724 a 0.823  clct[20, 20] ans[20, 20] cl_acc 1.000 2.957sec\n",
      "result written at output/results.pickle\n"
     ]
    },
    {
     "name": "stdout",
     "output_type": "stream",
     "text": [
      "Epoch 261 tr: l 0.564 a 0.865  clct[30, 30] ans[30, 30] lr 0.018144 cl_acc 1.000 43.342sec(train) 4.302sec(infer)\n"
     ]
    },
    {
     "name": "stdout",
     "output_type": "stream",
     "text": [
      "Epoch 261 tst: l 0.722 a 0.825  clct[20, 20] ans[20, 20] cl_acc 1.000 2.795sec\n"
     ]
    },
    {
     "name": "stdout",
     "output_type": "stream",
     "text": [
      "Epoch 262 tr: l 0.590 a 0.858  clct[34, 26] ans[26, 34] lr 0.017962 cl_acc 1.000 43.503sec(train) 4.486sec(infer)\n"
     ]
    },
    {
     "name": "stdout",
     "output_type": "stream",
     "text": [
      "Epoch 262 tst: l 0.728 a 0.827  clct[20, 20] ans[20, 20] cl_acc 1.000 2.910sec\n"
     ]
    },
    {
     "name": "stdout",
     "output_type": "stream",
     "text": [
      "Epoch 263 tr: l 0.575 a 0.861  clct[33, 27] ans[27, 33] lr 0.017783 cl_acc 1.000 43.127sec(train) 4.431sec(infer)\n"
     ]
    },
    {
     "name": "stdout",
     "output_type": "stream",
     "text": [
      "Epoch 263 tst: l 0.724 a 0.824  clct[20, 20] ans[20, 20] cl_acc 1.000 2.775sec\n"
     ]
    },
    {
     "name": "stdout",
     "output_type": "stream",
     "text": [
      "Epoch 264 tr: l 0.562 a 0.862  clct[35, 25] ans[25, 35] lr 0.017605 cl_acc 1.000 43.320sec(train) 4.550sec(infer)\n"
     ]
    },
    {
     "name": "stdout",
     "output_type": "stream",
     "text": [
      "Epoch 264 tst: l 0.716 a 0.828  clct[20, 20] ans[20, 20] cl_acc 1.000 2.892sec\n"
     ]
    },
    {
     "name": "stdout",
     "output_type": "stream",
     "text": [
      "Epoch 265 tr: l 0.555 a 0.864  clct[33, 27] ans[27, 33] lr 0.017429 cl_acc 1.000 43.236sec(train) 4.325sec(infer)\n"
     ]
    },
    {
     "name": "stdout",
     "output_type": "stream",
     "text": [
      "Epoch 265 tst: l 0.726 a 0.823  clct[20, 20] ans[20, 20] cl_acc 1.000 2.640sec\n"
     ]
    },
    {
     "name": "stdout",
     "output_type": "stream",
     "text": [
      "Epoch 266 tr: l 0.563 a 0.864  clct[30, 30] ans[30, 30] lr 0.017254 cl_acc 1.000 43.279sec(train) 4.341sec(infer)\n"
     ]
    },
    {
     "name": "stdout",
     "output_type": "stream",
     "text": [
      "Epoch 266 tst: l 0.711 a 0.826  clct[20, 20] ans[20, 20] cl_acc 1.000 2.695sec\n"
     ]
    },
    {
     "name": "stdout",
     "output_type": "stream",
     "text": [
      "Epoch 267 tr: l 0.556 a 0.865  clct[32, 28] ans[28, 32] lr 0.017082 cl_acc 1.000 43.289sec(train) 4.293sec(infer)\n"
     ]
    },
    {
     "name": "stdout",
     "output_type": "stream",
     "text": [
      "Epoch 267 tst: l 0.705 a 0.831  clct[20, 20] ans[20, 20] cl_acc 1.000 2.827sec\n"
     ]
    },
    {
     "name": "stdout",
     "output_type": "stream",
     "text": [
      "Epoch 268 tr: l 0.555 a 0.866  clct[32, 28] ans[28, 32] lr 0.016911 cl_acc 1.000 43.480sec(train) 4.131sec(infer)\n"
     ]
    },
    {
     "name": "stdout",
     "output_type": "stream",
     "text": [
      "Epoch 268 tst: l 0.719 a 0.825  clct[20, 20] ans[20, 20] cl_acc 1.000 2.564sec\n"
     ]
    },
    {
     "name": "stdout",
     "output_type": "stream",
     "text": [
      "Epoch 269 tr: l 0.569 a 0.859  clct[32, 28] ans[28, 32] lr 0.016742 cl_acc 1.000 43.659sec(train) 3.993sec(infer)\n"
     ]
    },
    {
     "name": "stdout",
     "output_type": "stream",
     "text": [
      "Epoch 269 tst: l 0.715 a 0.824  clct[20, 20] ans[20, 20] cl_acc 1.000 2.434sec\n"
     ]
    },
    {
     "name": "stdout",
     "output_type": "stream",
     "text": [
      "Epoch 270 tr: l 0.551 a 0.864  clct[27, 33] ans[33, 27] lr 0.016575 cl_acc 1.000 43.525sec(train) 3.969sec(infer)\n"
     ]
    },
    {
     "name": "stdout",
     "output_type": "stream",
     "text": [
      "Epoch 270 tst: l 0.705 a 0.829  clct[20, 20] ans[20, 20] cl_acc 1.000 2.375sec\n",
      "result written at output/results.pickle\n"
     ]
    },
    {
     "name": "stdout",
     "output_type": "stream",
     "text": [
      "Epoch 271 tr: l 0.519 a 0.876  clct[27, 33] ans[33, 27] lr 0.016409 cl_acc 1.000 43.148sec(train) 3.941sec(infer)\n"
     ]
    },
    {
     "name": "stdout",
     "output_type": "stream",
     "text": [
      "Epoch 271 tst: l 0.709 a 0.831  clct[20, 20] ans[20, 20] cl_acc 1.000 2.560sec\n"
     ]
    },
    {
     "name": "stdout",
     "output_type": "stream",
     "text": [
      "Epoch 272 tr: l 0.555 a 0.866  clct[30, 30] ans[30, 30] lr 0.016245 cl_acc 1.000 43.269sec(train) 4.091sec(infer)\n"
     ]
    },
    {
     "name": "stdout",
     "output_type": "stream",
     "text": [
      "Epoch 272 tst: l 0.713 a 0.828  clct[20, 20] ans[20, 20] cl_acc 1.000 2.443sec\n"
     ]
    },
    {
     "name": "stdout",
     "output_type": "stream",
     "text": [
      "Epoch 273 tr: l 0.567 a 0.863  clct[23, 37] ans[37, 23] lr 0.016082 cl_acc 1.000 43.369sec(train) 4.048sec(infer)\n"
     ]
    },
    {
     "name": "stdout",
     "output_type": "stream",
     "text": [
      "Epoch 273 tst: l 0.713 a 0.830  clct[20, 20] ans[20, 20] cl_acc 1.000 2.453sec\n"
     ]
    },
    {
     "name": "stdout",
     "output_type": "stream",
     "text": [
      "Epoch 274 tr: l 0.535 a 0.870  clct[28, 32] ans[32, 28] lr 0.015921 cl_acc 1.000 43.136sec(train) 3.904sec(infer)\n"
     ]
    },
    {
     "name": "stdout",
     "output_type": "stream",
     "text": [
      "Epoch 274 tst: l 0.717 a 0.826  clct[20, 20] ans[20, 20] cl_acc 1.000 2.476sec\n"
     ]
    },
    {
     "name": "stdout",
     "output_type": "stream",
     "text": [
      "Epoch 275 tr: l 0.554 a 0.863  clct[32, 28] ans[28, 32] lr 0.015762 cl_acc 1.000 43.170sec(train) 3.924sec(infer)\n"
     ]
    },
    {
     "name": "stdout",
     "output_type": "stream",
     "text": [
      "Epoch 275 tst: l 0.703 a 0.825  clct[20, 20] ans[20, 20] cl_acc 1.000 2.358sec\n"
     ]
    },
    {
     "name": "stdout",
     "output_type": "stream",
     "text": [
      "Epoch 276 tr: l 0.545 a 0.869  clct[23, 37] ans[37, 23] lr 0.015605 cl_acc 1.000 43.290sec(train) 3.904sec(infer)\n"
     ]
    },
    {
     "name": "stdout",
     "output_type": "stream",
     "text": [
      "Epoch 276 tst: l 0.688 a 0.832  clct[20, 20] ans[20, 20] cl_acc 1.000 2.395sec\n"
     ]
    },
    {
     "name": "stdout",
     "output_type": "stream",
     "text": [
      "Epoch 277 tr: l 0.555 a 0.865  clct[24, 36] ans[36, 24] lr 0.015449 cl_acc 1.000 42.811sec(train) 3.811sec(infer)\n"
     ]
    },
    {
     "name": "stdout",
     "output_type": "stream",
     "text": [
      "Epoch 277 tst: l 0.701 a 0.834  clct[20, 20] ans[20, 20] cl_acc 1.000 2.399sec\n"
     ]
    },
    {
     "name": "stdout",
     "output_type": "stream",
     "text": [
      "Epoch 278 tr: l 0.548 a 0.864  clct[33, 27] ans[27, 33] lr 0.015294 cl_acc 1.000 43.574sec(train) 3.815sec(infer)\n"
     ]
    },
    {
     "name": "stdout",
     "output_type": "stream",
     "text": [
      "Epoch 278 tst: l 0.690 a 0.833  clct[20, 20] ans[20, 20] cl_acc 1.000 2.309sec\n"
     ]
    },
    {
     "name": "stdout",
     "output_type": "stream",
     "text": [
      "Epoch 279 tr: l 0.535 a 0.869  clct[27, 33] ans[33, 27] lr 0.015141 cl_acc 1.000 43.488sec(train) 4.047sec(infer)\n"
     ]
    },
    {
     "name": "stdout",
     "output_type": "stream",
     "text": [
      "Epoch 279 tst: l 0.718 a 0.826  clct[20, 20] ans[20, 20] cl_acc 1.000 2.351sec\n"
     ]
    },
    {
     "name": "stdout",
     "output_type": "stream",
     "text": [
      "Epoch 280 tr: l 0.533 a 0.871  clct[34, 26] ans[26, 34] lr 0.014990 cl_acc 1.000 43.236sec(train) 4.146sec(infer)\n"
     ]
    },
    {
     "name": "stdout",
     "output_type": "stream",
     "text": [
      "Epoch 280 tst: l 0.713 a 0.829  clct[20, 20] ans[20, 20] cl_acc 1.000 2.729sec\n",
      "result written at output/results.pickle\n"
     ]
    },
    {
     "name": "stdout",
     "output_type": "stream",
     "text": [
      "Epoch 281 tr: l 0.519 a 0.876  clct[33, 27] ans[27, 33] lr 0.014840 cl_acc 1.000 43.260sec(train) 4.383sec(infer)\n"
     ]
    },
    {
     "name": "stdout",
     "output_type": "stream",
     "text": [
      "Epoch 281 tst: l 0.715 a 0.829  clct[20, 20] ans[20, 20] cl_acc 1.000 2.754sec\n"
     ]
    },
    {
     "name": "stdout",
     "output_type": "stream",
     "text": [
      "Epoch 282 tr: l 0.541 a 0.868  clct[31, 29] ans[29, 31] lr 0.014691 cl_acc 1.000 43.403sec(train) 4.293sec(infer)\n"
     ]
    },
    {
     "name": "stdout",
     "output_type": "stream",
     "text": [
      "Epoch 282 tst: l 0.700 a 0.830  clct[20, 20] ans[20, 20] cl_acc 1.000 2.643sec\n"
     ]
    },
    {
     "name": "stdout",
     "output_type": "stream",
     "text": [
      "Epoch 283 tr: l 0.532 a 0.871  clct[32, 28] ans[28, 32] lr 0.014545 cl_acc 1.000 43.336sec(train) 4.125sec(infer)\n"
     ]
    },
    {
     "name": "stdout",
     "output_type": "stream",
     "text": [
      "Epoch 283 tst: l 0.692 a 0.832  clct[20, 20] ans[20, 20] cl_acc 1.000 2.588sec\n"
     ]
    },
    {
     "name": "stdout",
     "output_type": "stream",
     "text": [
      "Epoch 284 tr: l 0.544 a 0.867  clct[30, 30] ans[30, 30] lr 0.014399 cl_acc 1.000 43.182sec(train) 4.387sec(infer)\n"
     ]
    },
    {
     "name": "stdout",
     "output_type": "stream",
     "text": [
      "Epoch 284 tst: l 0.698 a 0.831  clct[20, 20] ans[20, 20] cl_acc 1.000 2.636sec\n"
     ]
    },
    {
     "name": "stdout",
     "output_type": "stream",
     "text": [
      "Epoch 285 tr: l 0.511 a 0.876  clct[31, 29] ans[29, 31] lr 0.014255 cl_acc 1.000 43.201sec(train) 4.211sec(infer)\n"
     ]
    },
    {
     "name": "stdout",
     "output_type": "stream",
     "text": [
      "Epoch 285 tst: l 0.689 a 0.829  clct[20, 20] ans[20, 20] cl_acc 1.000 2.660sec\n"
     ]
    },
    {
     "name": "stdout",
     "output_type": "stream",
     "text": [
      "Epoch 286 tr: l 0.529 a 0.869  clct[29, 31] ans[31, 29] lr 0.014113 cl_acc 1.000 43.234sec(train) 4.443sec(infer)\n"
     ]
    },
    {
     "name": "stdout",
     "output_type": "stream",
     "text": [
      "Epoch 286 tst: l 0.714 a 0.825  clct[20, 20] ans[20, 20] cl_acc 1.000 2.794sec\n"
     ]
    },
    {
     "name": "stdout",
     "output_type": "stream",
     "text": [
      "Epoch 287 tr: l 0.521 a 0.872  clct[36, 24] ans[24, 36] lr 0.013971 cl_acc 1.000 43.308sec(train) 4.173sec(infer)\n"
     ]
    },
    {
     "name": "stdout",
     "output_type": "stream",
     "text": [
      "Epoch 287 tst: l 0.700 a 0.829  clct[20, 20] ans[20, 20] cl_acc 1.000 2.735sec\n"
     ]
    },
    {
     "name": "stdout",
     "output_type": "stream",
     "text": [
      "Epoch 288 tr: l 0.506 a 0.879  clct[34, 26] ans[26, 34] lr 0.013832 cl_acc 1.000 43.307sec(train) 4.442sec(infer)\n"
     ]
    },
    {
     "name": "stdout",
     "output_type": "stream",
     "text": [
      "Epoch 288 tst: l 0.707 a 0.828  clct[20, 20] ans[20, 20] cl_acc 1.000 2.814sec\n"
     ]
    },
    {
     "name": "stdout",
     "output_type": "stream",
     "text": [
      "Epoch 289 tr: l 0.520 a 0.874  clct[28, 32] ans[32, 28] lr 0.013693 cl_acc 1.000 43.271sec(train) 4.384sec(infer)\n"
     ]
    },
    {
     "name": "stdout",
     "output_type": "stream",
     "text": [
      "Epoch 289 tst: l 0.700 a 0.830  clct[20, 20] ans[20, 20] cl_acc 1.000 2.882sec\n"
     ]
    },
    {
     "name": "stdout",
     "output_type": "stream",
     "text": [
      "Epoch 290 tr: l 0.495 a 0.882  clct[35, 25] ans[25, 35] lr 0.013556 cl_acc 1.000 43.278sec(train) 4.558sec(infer)\n"
     ]
    },
    {
     "name": "stdout",
     "output_type": "stream",
     "text": [
      "Epoch 290 tst: l 0.711 a 0.823  clct[20, 20] ans[20, 20] cl_acc 1.000 2.797sec\n",
      "result written at output/results.pickle\n"
     ]
    },
    {
     "name": "stdout",
     "output_type": "stream",
     "text": [
      "Epoch 291 tr: l 0.549 a 0.864  clct[28, 32] ans[32, 28] lr 0.013421 cl_acc 1.000 43.343sec(train) 4.305sec(infer)\n"
     ]
    },
    {
     "name": "stdout",
     "output_type": "stream",
     "text": [
      "Epoch 291 tst: l 0.708 a 0.829  clct[20, 20] ans[20, 20] cl_acc 1.000 2.703sec\n"
     ]
    },
    {
     "name": "stdout",
     "output_type": "stream",
     "text": [
      "Epoch 292 tr: l 0.512 a 0.874  clct[34, 26] ans[26, 34] lr 0.013287 cl_acc 1.000 43.191sec(train) 4.206sec(infer)\n"
     ]
    },
    {
     "name": "stdout",
     "output_type": "stream",
     "text": [
      "Epoch 292 tst: l 0.697 a 0.831  clct[20, 20] ans[20, 20] cl_acc 1.000 2.792sec\n"
     ]
    },
    {
     "name": "stdout",
     "output_type": "stream",
     "text": [
      "Epoch 293 tr: l 0.483 a 0.886  clct[35, 25] ans[25, 35] lr 0.013154 cl_acc 1.000 43.197sec(train) 4.276sec(infer)\n"
     ]
    },
    {
     "name": "stdout",
     "output_type": "stream",
     "text": [
      "Epoch 293 tst: l 0.679 a 0.834  clct[20, 20] ans[20, 20] cl_acc 1.000 2.707sec\n"
     ]
    },
    {
     "name": "stdout",
     "output_type": "stream",
     "text": [
      "Epoch 294 tr: l 0.521 a 0.871  clct[31, 29] ans[29, 31] lr 0.013022 cl_acc 1.000 43.483sec(train) 4.171sec(infer)\n"
     ]
    },
    {
     "name": "stdout",
     "output_type": "stream",
     "text": [
      "Epoch 294 tst: l 0.701 a 0.833  clct[20, 20] ans[20, 20] cl_acc 1.000 2.710sec\n"
     ]
    },
    {
     "name": "stdout",
     "output_type": "stream",
     "text": [
      "Epoch 295 tr: l 0.496 a 0.881  clct[29, 31] ans[31, 29] lr 0.012892 cl_acc 1.000 43.364sec(train) 4.248sec(infer)\n"
     ]
    },
    {
     "name": "stdout",
     "output_type": "stream",
     "text": [
      "Epoch 295 tst: l 0.693 a 0.834  clct[20, 20] ans[20, 20] cl_acc 1.000 2.718sec\n"
     ]
    },
    {
     "name": "stdout",
     "output_type": "stream",
     "text": [
      "Epoch 296 tr: l 0.503 a 0.881  clct[29, 31] ans[31, 29] lr 0.012763 cl_acc 1.000 43.242sec(train) 4.229sec(infer)\n"
     ]
    },
    {
     "name": "stdout",
     "output_type": "stream",
     "text": [
      "Epoch 296 tst: l 0.702 a 0.829  clct[20, 20] ans[20, 20] cl_acc 1.000 2.651sec\n"
     ]
    },
    {
     "name": "stdout",
     "output_type": "stream",
     "text": [
      "Epoch 297 tr: l 0.502 a 0.878  clct[27, 33] ans[33, 27] lr 0.012636 cl_acc 1.000 43.434sec(train) 4.307sec(infer)\n"
     ]
    },
    {
     "name": "stdout",
     "output_type": "stream",
     "text": [
      "Epoch 297 tst: l 0.700 a 0.828  clct[20, 20] ans[20, 20] cl_acc 1.000 2.842sec\n"
     ]
    },
    {
     "name": "stdout",
     "output_type": "stream",
     "text": [
      "Epoch 298 tr: l 0.503 a 0.878  clct[29, 31] ans[31, 29] lr 0.012509 cl_acc 1.000 43.353sec(train) 4.309sec(infer)\n"
     ]
    },
    {
     "name": "stdout",
     "output_type": "stream",
     "text": [
      "Epoch 298 tst: l 0.684 a 0.837  clct[20, 20] ans[20, 20] cl_acc 1.000 2.655sec\n"
     ]
    },
    {
     "name": "stdout",
     "output_type": "stream",
     "text": [
      "Epoch 299 tr: l 0.486 a 0.883  clct[32, 28] ans[28, 32] lr 0.012384 cl_acc 1.000 43.414sec(train) 4.362sec(infer)\n"
     ]
    },
    {
     "name": "stdout",
     "output_type": "stream",
     "text": [
      "Epoch 299 tst: l 0.683 a 0.831  clct[20, 20] ans[20, 20] cl_acc 1.000 2.813sec\n",
      "result written at output/results.pickle\n",
      "---train cluster Ended in 4.19 hour (15086.103 sec) \n",
      "---------------------------------DFCA-GI, lr: 0.25, seed: 12---------------------------------\n",
      "config: {'m': 200, 'm_test': 40, 'p': 2, 'n': 500, 'participation_rate': 0.3, 'num_epochs': 300, 'batch_size': 50, 'tau': 5, 'lr': 0.25, 'data_seed': 12, 'train_seed': 12, 'project_dir': 'output'}\n"
     ]
    },
    {
     "name": "stdout",
     "output_type": "stream",
     "text": [
      "finding good initializer from train data\n"
     ]
    },
    {
     "name": "stderr",
     "output_type": "stream",
     "text": [
      "2025-06-01 16:38:42.381089: W tensorflow/c/c_api.cc:305] Operation '{name:'softmax_linear/biases/Assign' id:221 op device:{requested: '/device:CPU:0', assigned: ''} def:{{{node softmax_linear/biases/Assign}} = Assign[T=DT_FLOAT, _class=[\"loc:@softmax_linear/biases\"], _has_manual_control_dependencies=true, use_locking=true, validate_shape=true, _device=\"/device:CPU:0\"](softmax_linear/biases, softmax_linear/biases/Initializer/Const)}}' was changed by setting attribute after it was run by a session. This mutation will have no effect, and will trigger an error in the future. Either don't modify nodes after running them or create a new session.\n"
     ]
    },
    {
     "name": "stdout",
     "output_type": "stream",
     "text": [
      "Epoch -1 tr: l 4.675 a 0.107  clct[26, 34] ans[28, 32] cl_acc 0.600 4.295sec\n",
      "found good initializer\n"
     ]
    },
    {
     "name": "stdout",
     "output_type": "stream",
     "text": [
      "Epoch -1 tr: l 4.675 a 0.108  clct[22, 38] ans[28, 32] cl_acc 0.533 4.259sec\n"
     ]
    },
    {
     "name": "stdout",
     "output_type": "stream",
     "text": [
      "Epoch -1 tst: l 4.676 a 0.107  clct[21, 19] ans[20, 20] cl_acc 0.575 2.591sec\n"
     ]
    },
    {
     "name": "stdout",
     "output_type": "stream",
     "text": [
      "Epoch 0 tr: l 2.105 a 0.368  clct[1, 59] ans[33, 27] lr 0.250000 cl_acc 0.533 43.913sec(train) 4.173sec(infer)\n"
     ]
    },
    {
     "name": "stdout",
     "output_type": "stream",
     "text": [
      "Epoch 0 tst: l 1.955 a 0.409  clct[0, 40] ans[20, 20] cl_acc 0.500 2.773sec\n",
      "result written at output/results.pickle\n"
     ]
    },
    {
     "name": "stdout",
     "output_type": "stream",
     "text": [
      "Epoch 1 tr: l 1.984 a 0.443  clct[18, 42] ans[33, 27] lr 0.247500 cl_acc 0.750 43.566sec(train) 3.954sec(infer)\n"
     ]
    },
    {
     "name": "stdout",
     "output_type": "stream",
     "text": [
      "Epoch 1 tst: l 1.919 a 0.458  clct[15, 25] ans[20, 20] cl_acc 0.875 2.599sec\n"
     ]
    },
    {
     "name": "stdout",
     "output_type": "stream",
     "text": [
      "Epoch 2 tr: l 1.967 a 0.464  clct[26, 34] ans[31, 29] lr 0.245025 cl_acc 0.950 43.942sec(train) 4.126sec(infer)\n"
     ]
    },
    {
     "name": "stdout",
     "output_type": "stream",
     "text": [
      "Epoch 2 tst: l 1.865 a 0.497  clct[20, 20] ans[20, 20] cl_acc 1.000 2.539sec\n"
     ]
    },
    {
     "name": "stdout",
     "output_type": "stream",
     "text": [
      "Epoch 3 tr: l 1.894 a 0.517  clct[27, 33] ans[33, 27] lr 0.242575 cl_acc 1.000 44.405sec(train) 3.836sec(infer)\n"
     ]
    },
    {
     "name": "stdout",
     "output_type": "stream",
     "text": [
      "Epoch 3 tst: l 1.761 a 0.554  clct[20, 20] ans[20, 20] cl_acc 1.000 2.353sec\n"
     ]
    },
    {
     "name": "stdout",
     "output_type": "stream",
     "text": [
      "Epoch 4 tr: l 1.799 a 0.565  clct[31, 29] ans[29, 31] lr 0.240149 cl_acc 1.000 44.220sec(train) 4.152sec(infer)\n"
     ]
    },
    {
     "name": "stdout",
     "output_type": "stream",
     "text": [
      "Epoch 4 tst: l 1.719 a 0.591  clct[20, 20] ans[20, 20] cl_acc 1.000 2.638sec\n"
     ]
    },
    {
     "name": "stdout",
     "output_type": "stream",
     "text": [
      "Epoch 5 tr: l 1.754 a 0.582  clct[27, 33] ans[33, 27] lr 0.237748 cl_acc 1.000 44.183sec(train) 4.357sec(infer)\n"
     ]
    },
    {
     "name": "stdout",
     "output_type": "stream",
     "text": [
      "Epoch 5 tst: l 1.630 a 0.621  clct[20, 20] ans[20, 20] cl_acc 1.000 2.657sec\n"
     ]
    },
    {
     "name": "stdout",
     "output_type": "stream",
     "text": [
      "Epoch 6 tr: l 1.611 a 0.617  clct[37, 23] ans[23, 37] lr 0.235370 cl_acc 1.000 44.140sec(train) 4.529sec(infer)\n"
     ]
    },
    {
     "name": "stdout",
     "output_type": "stream",
     "text": [
      "Epoch 6 tst: l 1.504 a 0.657  clct[20, 20] ans[20, 20] cl_acc 1.000 2.828sec\n"
     ]
    },
    {
     "name": "stdout",
     "output_type": "stream",
     "text": [
      "Epoch 7 tr: l 1.639 a 0.628  clct[31, 29] ans[29, 31] lr 0.233016 cl_acc 1.000 44.084sec(train) 4.454sec(infer)\n"
     ]
    },
    {
     "name": "stdout",
     "output_type": "stream",
     "text": [
      "Epoch 7 tst: l 1.535 a 0.663  clct[20, 20] ans[20, 20] cl_acc 1.000 2.819sec\n"
     ]
    },
    {
     "name": "stdout",
     "output_type": "stream",
     "text": [
      "Epoch 8 tr: l 1.710 a 0.598  clct[27, 33] ans[33, 27] lr 0.230686 cl_acc 1.000 44.014sec(train) 4.193sec(infer)\n"
     ]
    },
    {
     "name": "stdout",
     "output_type": "stream",
     "text": [
      "Epoch 8 tst: l 1.632 a 0.624  clct[20, 20] ans[20, 20] cl_acc 1.000 2.677sec\n"
     ]
    },
    {
     "name": "stdout",
     "output_type": "stream",
     "text": [
      "Epoch 9 tr: l 1.626 a 0.616  clct[33, 27] ans[27, 33] lr 0.228379 cl_acc 1.000 43.831sec(train) 4.086sec(infer)\n"
     ]
    },
    {
     "name": "stdout",
     "output_type": "stream",
     "text": [
      "Epoch 9 tst: l 1.503 a 0.657  clct[20, 20] ans[20, 20] cl_acc 1.000 2.589sec\n"
     ]
    },
    {
     "name": "stdout",
     "output_type": "stream",
     "text": [
      "Epoch 10 tr: l 1.606 a 0.642  clct[28, 32] ans[32, 28] lr 0.226096 cl_acc 1.000 43.894sec(train) 4.421sec(infer)\n"
     ]
    },
    {
     "name": "stdout",
     "output_type": "stream",
     "text": [
      "Epoch 10 tst: l 1.503 a 0.676  clct[20, 20] ans[20, 20] cl_acc 1.000 2.910sec\n",
      "result written at output/results.pickle\n"
     ]
    },
    {
     "name": "stdout",
     "output_type": "stream",
     "text": [
      "Epoch 11 tr: l 1.557 a 0.640  clct[27, 33] ans[33, 27] lr 0.223835 cl_acc 1.000 43.832sec(train) 4.747sec(infer)\n"
     ]
    },
    {
     "name": "stdout",
     "output_type": "stream",
     "text": [
      "Epoch 11 tst: l 1.477 a 0.670  clct[20, 20] ans[20, 20] cl_acc 1.000 2.841sec\n"
     ]
    },
    {
     "name": "stdout",
     "output_type": "stream",
     "text": [
      "Epoch 12 tr: l 1.604 a 0.625  clct[28, 32] ans[32, 28] lr 0.221596 cl_acc 1.000 44.171sec(train) 4.070sec(infer)\n"
     ]
    },
    {
     "name": "stdout",
     "output_type": "stream",
     "text": [
      "Epoch 12 tst: l 1.519 a 0.652  clct[20, 20] ans[20, 20] cl_acc 1.000 2.598sec\n"
     ]
    },
    {
     "name": "stdout",
     "output_type": "stream",
     "text": [
      "Epoch 13 tr: l 1.617 a 0.638  clct[27, 33] ans[33, 27] lr 0.219380 cl_acc 1.000 44.138sec(train) 4.412sec(infer)\n"
     ]
    },
    {
     "name": "stdout",
     "output_type": "stream",
     "text": [
      "Epoch 13 tst: l 1.573 a 0.659  clct[20, 20] ans[20, 20] cl_acc 1.000 2.729sec\n"
     ]
    },
    {
     "name": "stdout",
     "output_type": "stream",
     "text": [
      "Epoch 14 tr: l 1.564 a 0.647  clct[27, 33] ans[33, 27] lr 0.217186 cl_acc 1.000 44.059sec(train) 4.817sec(infer)\n"
     ]
    },
    {
     "name": "stdout",
     "output_type": "stream",
     "text": [
      "Epoch 14 tst: l 1.498 a 0.669  clct[20, 20] ans[20, 20] cl_acc 1.000 3.071sec\n"
     ]
    },
    {
     "name": "stdout",
     "output_type": "stream",
     "text": [
      "Epoch 15 tr: l 1.653 a 0.632  clct[30, 30] ans[30, 30] lr 0.215015 cl_acc 1.000 44.353sec(train) 4.225sec(infer)\n"
     ]
    },
    {
     "name": "stdout",
     "output_type": "stream",
     "text": [
      "Epoch 15 tst: l 1.577 a 0.662  clct[20, 20] ans[20, 20] cl_acc 1.000 2.672sec\n"
     ]
    },
    {
     "name": "stdout",
     "output_type": "stream",
     "text": [
      "Epoch 16 tr: l 1.637 a 0.632  clct[31, 29] ans[29, 31] lr 0.212864 cl_acc 1.000 44.296sec(train) 4.377sec(infer)\n"
     ]
    },
    {
     "name": "stdout",
     "output_type": "stream",
     "text": [
      "Epoch 16 tst: l 1.575 a 0.659  clct[20, 20] ans[20, 20] cl_acc 1.000 2.854sec\n"
     ]
    },
    {
     "name": "stdout",
     "output_type": "stream",
     "text": [
      "Epoch 17 tr: l 1.515 a 0.658  clct[27, 33] ans[33, 27] lr 0.210736 cl_acc 1.000 44.315sec(train) 4.440sec(infer)\n"
     ]
    },
    {
     "name": "stdout",
     "output_type": "stream",
     "text": [
      "Epoch 17 tst: l 1.437 a 0.683  clct[20, 20] ans[20, 20] cl_acc 1.000 2.728sec\n"
     ]
    },
    {
     "name": "stdout",
     "output_type": "stream",
     "text": [
      "Epoch 18 tr: l 1.560 a 0.657  clct[32, 28] ans[28, 32] lr 0.208628 cl_acc 1.000 44.239sec(train) 4.448sec(infer)\n"
     ]
    },
    {
     "name": "stdout",
     "output_type": "stream",
     "text": [
      "Epoch 18 tst: l 1.482 a 0.687  clct[20, 20] ans[20, 20] cl_acc 1.000 2.679sec\n"
     ]
    },
    {
     "name": "stdout",
     "output_type": "stream",
     "text": [
      "Epoch 19 tr: l 1.547 a 0.660  clct[28, 32] ans[32, 28] lr 0.206542 cl_acc 1.000 43.944sec(train) 4.095sec(infer)\n"
     ]
    },
    {
     "name": "stdout",
     "output_type": "stream",
     "text": [
      "Epoch 19 tst: l 1.484 a 0.682  clct[20, 20] ans[20, 20] cl_acc 1.000 2.602sec\n"
     ]
    },
    {
     "name": "stdout",
     "output_type": "stream",
     "text": [
      "Epoch 20 tr: l 1.518 a 0.675  clct[34, 26] ans[26, 34] lr 0.204477 cl_acc 1.000 44.054sec(train) 4.460sec(infer)\n"
     ]
    },
    {
     "name": "stdout",
     "output_type": "stream",
     "text": [
      "Epoch 20 tst: l 1.445 a 0.705  clct[20, 20] ans[20, 20] cl_acc 1.000 2.866sec\n",
      "result written at output/results.pickle\n"
     ]
    },
    {
     "name": "stdout",
     "output_type": "stream",
     "text": [
      "Epoch 21 tr: l 1.506 a 0.670  clct[32, 28] ans[28, 32] lr 0.202432 cl_acc 1.000 44.214sec(train) 4.402sec(infer)\n"
     ]
    },
    {
     "name": "stdout",
     "output_type": "stream",
     "text": [
      "Epoch 21 tst: l 1.457 a 0.688  clct[20, 20] ans[20, 20] cl_acc 1.000 2.726sec\n"
     ]
    },
    {
     "name": "stdout",
     "output_type": "stream",
     "text": [
      "Epoch 22 tr: l 1.497 a 0.665  clct[29, 31] ans[31, 29] lr 0.200408 cl_acc 1.000 43.967sec(train) 4.538sec(infer)\n"
     ]
    },
    {
     "name": "stdout",
     "output_type": "stream",
     "text": [
      "Epoch 22 tst: l 1.427 a 0.694  clct[20, 20] ans[20, 20] cl_acc 1.000 2.838sec\n"
     ]
    },
    {
     "name": "stdout",
     "output_type": "stream",
     "text": [
      "Epoch 23 tr: l 1.460 a 0.683  clct[27, 33] ans[33, 27] lr 0.198404 cl_acc 1.000 44.013sec(train) 4.488sec(infer)\n"
     ]
    },
    {
     "name": "stdout",
     "output_type": "stream",
     "text": [
      "Epoch 23 tst: l 1.415 a 0.696  clct[20, 20] ans[20, 20] cl_acc 1.000 2.707sec\n"
     ]
    },
    {
     "name": "stdout",
     "output_type": "stream",
     "text": [
      "Epoch 24 tr: l 1.504 a 0.674  clct[32, 28] ans[28, 32] lr 0.196420 cl_acc 1.000 44.067sec(train) 4.475sec(infer)\n"
     ]
    },
    {
     "name": "stdout",
     "output_type": "stream",
     "text": [
      "Epoch 24 tst: l 1.485 a 0.691  clct[20, 20] ans[20, 20] cl_acc 1.000 2.954sec\n"
     ]
    },
    {
     "name": "stdout",
     "output_type": "stream",
     "text": [
      "Epoch 25 tr: l 1.459 a 0.680  clct[32, 28] ans[28, 32] lr 0.194455 cl_acc 1.000 44.213sec(train) 4.127sec(infer)\n"
     ]
    },
    {
     "name": "stdout",
     "output_type": "stream",
     "text": [
      "Epoch 25 tst: l 1.402 a 0.701  clct[20, 20] ans[20, 20] cl_acc 1.000 2.663sec\n"
     ]
    },
    {
     "name": "stdout",
     "output_type": "stream",
     "text": [
      "Epoch 26 tr: l 1.446 a 0.681  clct[29, 31] ans[31, 29] lr 0.192511 cl_acc 1.000 44.063sec(train) 4.456sec(infer)\n"
     ]
    },
    {
     "name": "stdout",
     "output_type": "stream",
     "text": [
      "Epoch 26 tst: l 1.382 a 0.709  clct[20, 20] ans[20, 20] cl_acc 1.000 2.814sec\n"
     ]
    },
    {
     "name": "stdout",
     "output_type": "stream",
     "text": [
      "Epoch 27 tr: l 1.454 a 0.685  clct[29, 31] ans[31, 29] lr 0.190586 cl_acc 1.000 44.025sec(train) 4.426sec(infer)\n"
     ]
    },
    {
     "name": "stdout",
     "output_type": "stream",
     "text": [
      "Epoch 27 tst: l 1.399 a 0.709  clct[20, 20] ans[20, 20] cl_acc 1.000 2.703sec\n"
     ]
    },
    {
     "name": "stdout",
     "output_type": "stream",
     "text": [
      "Epoch 28 tr: l 1.446 a 0.681  clct[29, 31] ans[31, 29] lr 0.188680 cl_acc 1.000 44.083sec(train) 4.069sec(infer)\n"
     ]
    },
    {
     "name": "stdout",
     "output_type": "stream",
     "text": [
      "Epoch 28 tst: l 1.364 a 0.714  clct[20, 20] ans[20, 20] cl_acc 1.000 2.527sec\n"
     ]
    },
    {
     "name": "stdout",
     "output_type": "stream",
     "text": [
      "Epoch 29 tr: l 1.439 a 0.680  clct[31, 29] ans[29, 31] lr 0.186793 cl_acc 1.000 44.071sec(train) 4.278sec(infer)\n"
     ]
    },
    {
     "name": "stdout",
     "output_type": "stream",
     "text": [
      "Epoch 29 tst: l 1.361 a 0.709  clct[20, 20] ans[20, 20] cl_acc 1.000 2.623sec\n"
     ]
    },
    {
     "name": "stdout",
     "output_type": "stream",
     "text": [
      "Epoch 30 tr: l 1.452 a 0.681  clct[28, 32] ans[32, 28] lr 0.184925 cl_acc 1.000 44.094sec(train) 4.215sec(infer)\n"
     ]
    },
    {
     "name": "stdout",
     "output_type": "stream",
     "text": [
      "Epoch 30 tst: l 1.409 a 0.704  clct[20, 20] ans[20, 20] cl_acc 1.000 2.681sec\n",
      "result written at output/results.pickle\n"
     ]
    },
    {
     "name": "stdout",
     "output_type": "stream",
     "text": [
      "Epoch 31 tr: l 1.382 a 0.708  clct[28, 32] ans[32, 28] lr 0.183076 cl_acc 1.000 44.171sec(train) 4.056sec(infer)\n"
     ]
    },
    {
     "name": "stdout",
     "output_type": "stream",
     "text": [
      "Epoch 31 tst: l 1.346 a 0.722  clct[20, 20] ans[20, 20] cl_acc 1.000 2.514sec\n"
     ]
    },
    {
     "name": "stdout",
     "output_type": "stream",
     "text": [
      "Epoch 32 tr: l 1.423 a 0.699  clct[30, 30] ans[30, 30] lr 0.181245 cl_acc 1.000 43.864sec(train) 4.639sec(infer)\n"
     ]
    },
    {
     "name": "stdout",
     "output_type": "stream",
     "text": [
      "Epoch 32 tst: l 1.372 a 0.719  clct[20, 20] ans[20, 20] cl_acc 1.000 2.917sec\n"
     ]
    },
    {
     "name": "stdout",
     "output_type": "stream",
     "text": [
      "Epoch 33 tr: l 1.449 a 0.689  clct[27, 33] ans[33, 27] lr 0.179433 cl_acc 1.000 44.041sec(train) 4.476sec(infer)\n"
     ]
    },
    {
     "name": "stdout",
     "output_type": "stream",
     "text": [
      "Epoch 33 tst: l 1.413 a 0.707  clct[20, 20] ans[20, 20] cl_acc 1.000 2.823sec\n"
     ]
    },
    {
     "name": "stdout",
     "output_type": "stream",
     "text": [
      "Epoch 34 tr: l 1.347 a 0.704  clct[29, 31] ans[31, 29] lr 0.177638 cl_acc 1.000 43.942sec(train) 4.497sec(infer)\n"
     ]
    },
    {
     "name": "stdout",
     "output_type": "stream",
     "text": [
      "Epoch 34 tst: l 1.341 a 0.717  clct[20, 20] ans[20, 20] cl_acc 1.000 2.910sec\n"
     ]
    },
    {
     "name": "stdout",
     "output_type": "stream",
     "text": [
      "Epoch 35 tr: l 1.352 a 0.709  clct[29, 31] ans[31, 29] lr 0.175862 cl_acc 1.000 44.121sec(train) 4.655sec(infer)\n"
     ]
    },
    {
     "name": "stdout",
     "output_type": "stream",
     "text": [
      "Epoch 35 tst: l 1.316 a 0.725  clct[20, 20] ans[20, 20] cl_acc 1.000 2.891sec\n"
     ]
    },
    {
     "name": "stdout",
     "output_type": "stream",
     "text": [
      "Epoch 36 tr: l 1.344 a 0.705  clct[27, 33] ans[33, 27] lr 0.174103 cl_acc 1.000 44.338sec(train) 4.568sec(infer)\n"
     ]
    },
    {
     "name": "stdout",
     "output_type": "stream",
     "text": [
      "Epoch 36 tst: l 1.330 a 0.715  clct[20, 20] ans[20, 20] cl_acc 1.000 2.777sec\n"
     ]
    },
    {
     "name": "stdout",
     "output_type": "stream",
     "text": [
      "Epoch 37 tr: l 1.351 a 0.699  clct[32, 28] ans[28, 32] lr 0.172362 cl_acc 1.000 44.121sec(train) 4.522sec(infer)\n"
     ]
    },
    {
     "name": "stdout",
     "output_type": "stream",
     "text": [
      "Epoch 37 tst: l 1.330 a 0.712  clct[20, 20] ans[20, 20] cl_acc 1.000 2.931sec\n"
     ]
    },
    {
     "name": "stdout",
     "output_type": "stream",
     "text": [
      "Epoch 38 tr: l 1.399 a 0.702  clct[32, 28] ans[28, 32] lr 0.170639 cl_acc 1.000 44.291sec(train) 4.563sec(infer)\n"
     ]
    },
    {
     "name": "stdout",
     "output_type": "stream",
     "text": [
      "Epoch 38 tst: l 1.355 a 0.719  clct[20, 20] ans[20, 20] cl_acc 1.000 2.864sec\n"
     ]
    },
    {
     "name": "stdout",
     "output_type": "stream",
     "text": [
      "Epoch 39 tr: l 1.432 a 0.678  clct[32, 28] ans[28, 32] lr 0.168932 cl_acc 1.000 44.120sec(train) 4.376sec(infer)\n"
     ]
    },
    {
     "name": "stdout",
     "output_type": "stream",
     "text": [
      "Epoch 39 tst: l 1.408 a 0.693  clct[20, 20] ans[20, 20] cl_acc 1.000 2.711sec\n"
     ]
    },
    {
     "name": "stdout",
     "output_type": "stream",
     "text": [
      "Epoch 40 tr: l 1.302 a 0.720  clct[27, 33] ans[33, 27] lr 0.167243 cl_acc 1.000 44.257sec(train) 4.220sec(infer)\n"
     ]
    },
    {
     "name": "stdout",
     "output_type": "stream",
     "text": [
      "Epoch 40 tst: l 1.300 a 0.727  clct[20, 20] ans[20, 20] cl_acc 1.000 2.593sec\n",
      "result written at output/results.pickle\n"
     ]
    },
    {
     "name": "stdout",
     "output_type": "stream",
     "text": [
      "Epoch 41 tr: l 1.347 a 0.715  clct[29, 31] ans[31, 29] lr 0.165571 cl_acc 1.000 44.343sec(train) 4.071sec(infer)\n"
     ]
    },
    {
     "name": "stdout",
     "output_type": "stream",
     "text": [
      "Epoch 41 tst: l 1.303 a 0.729  clct[20, 20] ans[20, 20] cl_acc 1.000 2.495sec\n"
     ]
    },
    {
     "name": "stdout",
     "output_type": "stream",
     "text": [
      "Epoch 42 tr: l 1.291 a 0.708  clct[29, 31] ans[31, 29] lr 0.163915 cl_acc 1.000 44.249sec(train) 4.154sec(infer)\n"
     ]
    },
    {
     "name": "stdout",
     "output_type": "stream",
     "text": [
      "Epoch 42 tst: l 1.267 a 0.724  clct[20, 20] ans[20, 20] cl_acc 1.000 2.615sec\n"
     ]
    },
    {
     "name": "stdout",
     "output_type": "stream",
     "text": [
      "Epoch 43 tr: l 1.327 a 0.712  clct[31, 29] ans[29, 31] lr 0.162276 cl_acc 1.000 43.944sec(train) 4.456sec(infer)\n"
     ]
    },
    {
     "name": "stdout",
     "output_type": "stream",
     "text": [
      "Epoch 43 tst: l 1.283 a 0.731  clct[20, 20] ans[20, 20] cl_acc 1.000 2.840sec\n"
     ]
    },
    {
     "name": "stdout",
     "output_type": "stream",
     "text": [
      "Epoch 44 tr: l 1.285 a 0.713  clct[32, 28] ans[28, 32] lr 0.160653 cl_acc 1.000 44.141sec(train) 3.982sec(infer)\n"
     ]
    },
    {
     "name": "stdout",
     "output_type": "stream",
     "text": [
      "Epoch 44 tst: l 1.293 a 0.720  clct[20, 20] ans[20, 20] cl_acc 1.000 2.543sec\n"
     ]
    },
    {
     "name": "stdout",
     "output_type": "stream",
     "text": [
      "Epoch 45 tr: l 1.324 a 0.717  clct[32, 28] ans[28, 32] lr 0.159046 cl_acc 1.000 44.269sec(train) 4.092sec(infer)\n"
     ]
    },
    {
     "name": "stdout",
     "output_type": "stream",
     "text": [
      "Epoch 45 tst: l 1.268 a 0.737  clct[20, 20] ans[20, 20] cl_acc 1.000 2.712sec\n"
     ]
    },
    {
     "name": "stdout",
     "output_type": "stream",
     "text": [
      "Epoch 46 tr: l 1.235 a 0.727  clct[31, 29] ans[29, 31] lr 0.157456 cl_acc 1.000 44.134sec(train) 4.005sec(infer)\n"
     ]
    },
    {
     "name": "stdout",
     "output_type": "stream",
     "text": [
      "Epoch 46 tst: l 1.219 a 0.733  clct[20, 20] ans[20, 20] cl_acc 1.000 2.616sec\n"
     ]
    },
    {
     "name": "stdout",
     "output_type": "stream",
     "text": [
      "Epoch 47 tr: l 1.268 a 0.723  clct[30, 30] ans[30, 30] lr 0.155881 cl_acc 1.000 44.136sec(train) 4.272sec(infer)\n"
     ]
    },
    {
     "name": "stdout",
     "output_type": "stream",
     "text": [
      "Epoch 47 tst: l 1.239 a 0.734  clct[20, 20] ans[20, 20] cl_acc 1.000 2.732sec\n"
     ]
    },
    {
     "name": "stdout",
     "output_type": "stream",
     "text": [
      "Epoch 48 tr: l 1.312 a 0.714  clct[27, 33] ans[33, 27] lr 0.154323 cl_acc 1.000 43.980sec(train) 4.365sec(infer)\n"
     ]
    },
    {
     "name": "stdout",
     "output_type": "stream",
     "text": [
      "Epoch 48 tst: l 1.290 a 0.723  clct[20, 20] ans[20, 20] cl_acc 1.000 2.707sec\n"
     ]
    },
    {
     "name": "stdout",
     "output_type": "stream",
     "text": [
      "Epoch 49 tr: l 1.359 a 0.701  clct[32, 28] ans[28, 32] lr 0.152779 cl_acc 1.000 44.101sec(train) 4.199sec(infer)\n"
     ]
    },
    {
     "name": "stdout",
     "output_type": "stream",
     "text": [
      "Epoch 49 tst: l 1.319 a 0.717  clct[20, 20] ans[20, 20] cl_acc 1.000 2.748sec\n"
     ]
    },
    {
     "name": "stdout",
     "output_type": "stream",
     "text": [
      "Epoch 50 tr: l 1.243 a 0.734  clct[29, 31] ans[31, 29] lr 0.151252 cl_acc 1.000 44.291sec(train) 4.488sec(infer)\n"
     ]
    },
    {
     "name": "stdout",
     "output_type": "stream",
     "text": [
      "Epoch 50 tst: l 1.257 a 0.740  clct[20, 20] ans[20, 20] cl_acc 1.000 2.793sec\n",
      "result written at output/results.pickle\n"
     ]
    },
    {
     "name": "stdout",
     "output_type": "stream",
     "text": [
      "Epoch 51 tr: l 1.327 a 0.709  clct[33, 27] ans[27, 33] lr 0.149739 cl_acc 1.000 44.263sec(train) 4.430sec(infer)\n"
     ]
    },
    {
     "name": "stdout",
     "output_type": "stream",
     "text": [
      "Epoch 51 tst: l 1.260 a 0.727  clct[20, 20] ans[20, 20] cl_acc 1.000 2.854sec\n"
     ]
    },
    {
     "name": "stdout",
     "output_type": "stream",
     "text": [
      "Epoch 52 tr: l 1.192 a 0.737  clct[33, 27] ans[27, 33] lr 0.148242 cl_acc 1.000 43.815sec(train) 4.371sec(infer)\n"
     ]
    },
    {
     "name": "stdout",
     "output_type": "stream",
     "text": [
      "Epoch 52 tst: l 1.197 a 0.745  clct[20, 20] ans[20, 20] cl_acc 1.000 2.697sec\n"
     ]
    },
    {
     "name": "stdout",
     "output_type": "stream",
     "text": [
      "Epoch 53 tr: l 1.244 a 0.735  clct[28, 32] ans[32, 28] lr 0.146759 cl_acc 1.000 44.367sec(train) 4.281sec(infer)\n"
     ]
    },
    {
     "name": "stdout",
     "output_type": "stream",
     "text": [
      "Epoch 53 tst: l 1.260 a 0.735  clct[20, 20] ans[20, 20] cl_acc 1.000 2.615sec\n"
     ]
    },
    {
     "name": "stdout",
     "output_type": "stream",
     "text": [
      "Epoch 54 tr: l 1.261 a 0.726  clct[30, 30] ans[30, 30] lr 0.145292 cl_acc 1.000 44.275sec(train) 4.376sec(infer)\n"
     ]
    },
    {
     "name": "stdout",
     "output_type": "stream",
     "text": [
      "Epoch 54 tst: l 1.267 a 0.735  clct[20, 20] ans[20, 20] cl_acc 1.000 2.707sec\n"
     ]
    },
    {
     "name": "stdout",
     "output_type": "stream",
     "text": [
      "Epoch 55 tr: l 1.301 a 0.709  clct[27, 33] ans[33, 27] lr 0.143839 cl_acc 1.000 43.931sec(train) 4.499sec(infer)\n"
     ]
    },
    {
     "name": "stdout",
     "output_type": "stream",
     "text": [
      "Epoch 55 tst: l 1.265 a 0.724  clct[20, 20] ans[20, 20] cl_acc 1.000 2.909sec\n"
     ]
    },
    {
     "name": "stdout",
     "output_type": "stream",
     "text": [
      "Epoch 56 tr: l 1.219 a 0.734  clct[26, 34] ans[34, 26] lr 0.142400 cl_acc 1.000 44.022sec(train) 4.097sec(infer)\n"
     ]
    },
    {
     "name": "stdout",
     "output_type": "stream",
     "text": [
      "Epoch 56 tst: l 1.232 a 0.742  clct[20, 20] ans[20, 20] cl_acc 1.000 2.479sec\n"
     ]
    },
    {
     "name": "stdout",
     "output_type": "stream",
     "text": [
      "Epoch 57 tr: l 1.202 a 0.732  clct[28, 32] ans[32, 28] lr 0.140976 cl_acc 1.000 43.995sec(train) 4.528sec(infer)\n"
     ]
    },
    {
     "name": "stdout",
     "output_type": "stream",
     "text": [
      "Epoch 57 tst: l 1.200 a 0.738  clct[20, 20] ans[20, 20] cl_acc 1.000 2.946sec\n"
     ]
    },
    {
     "name": "stdout",
     "output_type": "stream",
     "text": [
      "Epoch 58 tr: l 1.165 a 0.743  clct[20, 40] ans[40, 20] lr 0.139567 cl_acc 1.000 44.395sec(train) 4.408sec(infer)\n"
     ]
    },
    {
     "name": "stdout",
     "output_type": "stream",
     "text": [
      "Epoch 58 tst: l 1.174 a 0.745  clct[20, 20] ans[20, 20] cl_acc 1.000 2.714sec\n"
     ]
    },
    {
     "name": "stdout",
     "output_type": "stream",
     "text": [
      "Epoch 59 tr: l 1.163 a 0.736  clct[30, 30] ans[30, 30] lr 0.138171 cl_acc 1.000 43.962sec(train) 4.183sec(infer)\n"
     ]
    },
    {
     "name": "stdout",
     "output_type": "stream",
     "text": [
      "Epoch 59 tst: l 1.170 a 0.743  clct[20, 20] ans[20, 20] cl_acc 1.000 2.513sec\n"
     ]
    },
    {
     "name": "stdout",
     "output_type": "stream",
     "text": [
      "Epoch 60 tr: l 1.195 a 0.740  clct[34, 26] ans[26, 34] lr 0.136789 cl_acc 1.000 43.934sec(train) 3.854sec(infer)\n"
     ]
    },
    {
     "name": "stdout",
     "output_type": "stream",
     "text": [
      "Epoch 60 tst: l 1.212 a 0.747  clct[20, 20] ans[20, 20] cl_acc 1.000 2.435sec\n",
      "result written at output/results.pickle\n"
     ]
    },
    {
     "name": "stdout",
     "output_type": "stream",
     "text": [
      "Epoch 61 tr: l 1.170 a 0.744  clct[34, 26] ans[26, 34] lr 0.135421 cl_acc 1.000 44.293sec(train) 4.198sec(infer)\n"
     ]
    },
    {
     "name": "stdout",
     "output_type": "stream",
     "text": [
      "Epoch 61 tst: l 1.144 a 0.753  clct[20, 20] ans[20, 20] cl_acc 1.000 2.361sec\n"
     ]
    },
    {
     "name": "stdout",
     "output_type": "stream",
     "text": [
      "Epoch 62 tr: l 1.126 a 0.746  clct[28, 32] ans[32, 28] lr 0.134067 cl_acc 1.000 44.304sec(train) 3.888sec(infer)\n"
     ]
    },
    {
     "name": "stdout",
     "output_type": "stream",
     "text": [
      "Epoch 62 tst: l 1.117 a 0.752  clct[20, 20] ans[20, 20] cl_acc 1.000 2.470sec\n"
     ]
    },
    {
     "name": "stdout",
     "output_type": "stream",
     "text": [
      "Epoch 63 tr: l 1.178 a 0.733  clct[36, 24] ans[24, 36] lr 0.132726 cl_acc 1.000 44.021sec(train) 4.160sec(infer)\n"
     ]
    },
    {
     "name": "stdout",
     "output_type": "stream",
     "text": [
      "Epoch 63 tst: l 1.184 a 0.740  clct[20, 20] ans[20, 20] cl_acc 1.000 2.557sec\n"
     ]
    },
    {
     "name": "stdout",
     "output_type": "stream",
     "text": [
      "Epoch 64 tr: l 1.165 a 0.745  clct[30, 30] ans[30, 30] lr 0.131399 cl_acc 1.000 44.139sec(train) 4.057sec(infer)\n"
     ]
    },
    {
     "name": "stdout",
     "output_type": "stream",
     "text": [
      "Epoch 64 tst: l 1.175 a 0.752  clct[20, 20] ans[20, 20] cl_acc 1.000 2.475sec\n"
     ]
    },
    {
     "name": "stdout",
     "output_type": "stream",
     "text": [
      "Epoch 65 tr: l 1.147 a 0.744  clct[30, 30] ans[30, 30] lr 0.130085 cl_acc 1.000 44.473sec(train) 4.341sec(infer)\n"
     ]
    },
    {
     "name": "stdout",
     "output_type": "stream",
     "text": [
      "Epoch 65 tst: l 1.136 a 0.757  clct[20, 20] ans[20, 20] cl_acc 1.000 2.768sec\n"
     ]
    },
    {
     "name": "stdout",
     "output_type": "stream",
     "text": [
      "Epoch 66 tr: l 1.145 a 0.750  clct[32, 28] ans[28, 32] lr 0.128784 cl_acc 1.000 44.221sec(train) 4.027sec(infer)\n"
     ]
    },
    {
     "name": "stdout",
     "output_type": "stream",
     "text": [
      "Epoch 66 tst: l 1.173 a 0.748  clct[20, 20] ans[20, 20] cl_acc 1.000 2.458sec\n"
     ]
    },
    {
     "name": "stdout",
     "output_type": "stream",
     "text": [
      "Epoch 67 tr: l 1.100 a 0.754  clct[29, 31] ans[31, 29] lr 0.127496 cl_acc 1.000 44.077sec(train) 3.917sec(infer)\n"
     ]
    },
    {
     "name": "stdout",
     "output_type": "stream",
     "text": [
      "Epoch 67 tst: l 1.138 a 0.756  clct[20, 20] ans[20, 20] cl_acc 1.000 2.468sec\n"
     ]
    },
    {
     "name": "stdout",
     "output_type": "stream",
     "text": [
      "Epoch 68 tr: l 1.116 a 0.752  clct[26, 34] ans[34, 26] lr 0.126221 cl_acc 1.000 44.192sec(train) 4.092sec(infer)\n"
     ]
    },
    {
     "name": "stdout",
     "output_type": "stream",
     "text": [
      "Epoch 68 tst: l 1.130 a 0.752  clct[20, 20] ans[20, 20] cl_acc 1.000 2.436sec\n"
     ]
    },
    {
     "name": "stdout",
     "output_type": "stream",
     "text": [
      "Epoch 69 tr: l 1.142 a 0.736  clct[36, 24] ans[24, 36] lr 0.124959 cl_acc 1.000 44.044sec(train) 4.249sec(infer)\n"
     ]
    },
    {
     "name": "stdout",
     "output_type": "stream",
     "text": [
      "Epoch 69 tst: l 1.135 a 0.748  clct[20, 20] ans[20, 20] cl_acc 1.000 2.487sec\n"
     ]
    },
    {
     "name": "stdout",
     "output_type": "stream",
     "text": [
      "Epoch 70 tr: l 1.109 a 0.757  clct[38, 22] ans[22, 38] lr 0.123710 cl_acc 1.000 44.144sec(train) 3.901sec(infer)\n"
     ]
    },
    {
     "name": "stdout",
     "output_type": "stream",
     "text": [
      "Epoch 70 tst: l 1.106 a 0.763  clct[20, 20] ans[20, 20] cl_acc 1.000 2.274sec\n",
      "result written at output/results.pickle\n"
     ]
    },
    {
     "name": "stdout",
     "output_type": "stream",
     "text": [
      "Epoch 71 tr: l 1.124 a 0.753  clct[27, 33] ans[33, 27] lr 0.122473 cl_acc 1.000 44.059sec(train) 3.959sec(infer)\n"
     ]
    },
    {
     "name": "stdout",
     "output_type": "stream",
     "text": [
      "Epoch 71 tst: l 1.127 a 0.757  clct[20, 20] ans[20, 20] cl_acc 1.000 2.314sec\n"
     ]
    },
    {
     "name": "stdout",
     "output_type": "stream",
     "text": [
      "Epoch 72 tr: l 1.093 a 0.753  clct[31, 29] ans[29, 31] lr 0.121248 cl_acc 1.000 44.062sec(train) 3.954sec(infer)\n"
     ]
    },
    {
     "name": "stdout",
     "output_type": "stream",
     "text": [
      "Epoch 72 tst: l 1.088 a 0.759  clct[20, 20] ans[20, 20] cl_acc 1.000 2.422sec\n"
     ]
    },
    {
     "name": "stdout",
     "output_type": "stream",
     "text": [
      "Epoch 73 tr: l 1.084 a 0.762  clct[28, 32] ans[32, 28] lr 0.120035 cl_acc 1.000 44.456sec(train) 4.101sec(infer)\n"
     ]
    },
    {
     "name": "stdout",
     "output_type": "stream",
     "text": [
      "Epoch 73 tst: l 1.110 a 0.758  clct[20, 20] ans[20, 20] cl_acc 1.000 2.309sec\n"
     ]
    },
    {
     "name": "stdout",
     "output_type": "stream",
     "text": [
      "Epoch 74 tr: l 1.160 a 0.745  clct[24, 36] ans[36, 24] lr 0.118835 cl_acc 1.000 44.148sec(train) 4.225sec(infer)\n"
     ]
    },
    {
     "name": "stdout",
     "output_type": "stream",
     "text": [
      "Epoch 74 tst: l 1.168 a 0.752  clct[20, 20] ans[20, 20] cl_acc 1.000 2.457sec\n"
     ]
    },
    {
     "name": "stdout",
     "output_type": "stream",
     "text": [
      "Epoch 75 tr: l 1.152 a 0.748  clct[33, 27] ans[27, 33] lr 0.117647 cl_acc 1.000 44.018sec(train) 4.241sec(infer)\n"
     ]
    },
    {
     "name": "stdout",
     "output_type": "stream",
     "text": [
      "Epoch 75 tst: l 1.161 a 0.757  clct[20, 20] ans[20, 20] cl_acc 1.000 2.570sec\n"
     ]
    },
    {
     "name": "stdout",
     "output_type": "stream",
     "text": [
      "Epoch 76 tr: l 1.105 a 0.746  clct[27, 33] ans[33, 27] lr 0.116470 cl_acc 1.000 44.290sec(train) 4.052sec(infer)\n"
     ]
    },
    {
     "name": "stdout",
     "output_type": "stream",
     "text": [
      "Epoch 76 tst: l 1.099 a 0.752  clct[20, 20] ans[20, 20] cl_acc 1.000 2.497sec\n"
     ]
    },
    {
     "name": "stdout",
     "output_type": "stream",
     "text": [
      "Epoch 77 tr: l 1.072 a 0.757  clct[29, 31] ans[31, 29] lr 0.115305 cl_acc 1.000 44.032sec(train) 4.260sec(infer)\n"
     ]
    },
    {
     "name": "stdout",
     "output_type": "stream",
     "text": [
      "Epoch 77 tst: l 1.092 a 0.757  clct[20, 20] ans[20, 20] cl_acc 1.000 2.747sec\n"
     ]
    },
    {
     "name": "stdout",
     "output_type": "stream",
     "text": [
      "Epoch 78 tr: l 1.117 a 0.754  clct[23, 37] ans[37, 23] lr 0.114152 cl_acc 1.000 43.655sec(train) 4.211sec(infer)\n"
     ]
    },
    {
     "name": "stdout",
     "output_type": "stream",
     "text": [
      "Epoch 78 tst: l 1.151 a 0.751  clct[20, 20] ans[20, 20] cl_acc 1.000 2.756sec\n"
     ]
    },
    {
     "name": "stdout",
     "output_type": "stream",
     "text": [
      "Epoch 79 tr: l 1.049 a 0.767  clct[27, 33] ans[33, 27] lr 0.113011 cl_acc 1.000 43.883sec(train) 4.238sec(infer)\n"
     ]
    },
    {
     "name": "stdout",
     "output_type": "stream",
     "text": [
      "Epoch 79 tst: l 1.086 a 0.764  clct[20, 20] ans[20, 20] cl_acc 1.000 2.738sec\n"
     ]
    },
    {
     "name": "stdout",
     "output_type": "stream",
     "text": [
      "Epoch 80 tr: l 1.031 a 0.767  clct[32, 28] ans[28, 32] lr 0.111881 cl_acc 1.000 44.039sec(train) 4.556sec(infer)\n"
     ]
    },
    {
     "name": "stdout",
     "output_type": "stream",
     "text": [
      "Epoch 80 tst: l 1.088 a 0.760  clct[20, 20] ans[20, 20] cl_acc 1.000 2.987sec\n",
      "result written at output/results.pickle\n"
     ]
    },
    {
     "name": "stdout",
     "output_type": "stream",
     "text": [
      "Epoch 81 tr: l 1.108 a 0.755  clct[24, 36] ans[36, 24] lr 0.110762 cl_acc 1.000 44.312sec(train) 4.465sec(infer)\n"
     ]
    },
    {
     "name": "stdout",
     "output_type": "stream",
     "text": [
      "Epoch 81 tst: l 1.114 a 0.758  clct[20, 20] ans[20, 20] cl_acc 1.000 2.664sec\n"
     ]
    },
    {
     "name": "stdout",
     "output_type": "stream",
     "text": [
      "Epoch 82 tr: l 1.067 a 0.762  clct[32, 28] ans[28, 32] lr 0.109654 cl_acc 1.000 44.167sec(train) 4.544sec(infer)\n"
     ]
    },
    {
     "name": "stdout",
     "output_type": "stream",
     "text": [
      "Epoch 82 tst: l 1.078 a 0.769  clct[20, 20] ans[20, 20] cl_acc 1.000 2.939sec\n"
     ]
    },
    {
     "name": "stdout",
     "output_type": "stream",
     "text": [
      "Epoch 83 tr: l 1.016 a 0.773  clct[28, 32] ans[32, 28] lr 0.108558 cl_acc 1.000 44.068sec(train) 4.270sec(infer)\n"
     ]
    },
    {
     "name": "stdout",
     "output_type": "stream",
     "text": [
      "Epoch 83 tst: l 1.045 a 0.768  clct[20, 20] ans[20, 20] cl_acc 1.000 2.789sec\n"
     ]
    },
    {
     "name": "stdout",
     "output_type": "stream",
     "text": [
      "Epoch 84 tr: l 1.078 a 0.753  clct[29, 31] ans[31, 29] lr 0.107472 cl_acc 1.000 43.995sec(train) 4.767sec(infer)\n"
     ]
    },
    {
     "name": "stdout",
     "output_type": "stream",
     "text": [
      "Epoch 84 tst: l 1.083 a 0.756  clct[20, 20] ans[20, 20] cl_acc 1.000 2.966sec\n"
     ]
    },
    {
     "name": "stdout",
     "output_type": "stream",
     "text": [
      "Epoch 85 tr: l 1.070 a 0.760  clct[34, 26] ans[26, 34] lr 0.106398 cl_acc 1.000 44.087sec(train) 4.099sec(infer)\n"
     ]
    },
    {
     "name": "stdout",
     "output_type": "stream",
     "text": [
      "Epoch 85 tst: l 1.058 a 0.767  clct[20, 20] ans[20, 20] cl_acc 1.000 2.545sec\n"
     ]
    },
    {
     "name": "stdout",
     "output_type": "stream",
     "text": [
      "Epoch 86 tr: l 1.063 a 0.765  clct[31, 29] ans[29, 31] lr 0.105334 cl_acc 1.000 44.235sec(train) 4.469sec(infer)\n"
     ]
    },
    {
     "name": "stdout",
     "output_type": "stream",
     "text": [
      "Epoch 86 tst: l 1.072 a 0.766  clct[20, 20] ans[20, 20] cl_acc 1.000 2.822sec\n"
     ]
    },
    {
     "name": "stdout",
     "output_type": "stream",
     "text": [
      "Epoch 87 tr: l 1.043 a 0.769  clct[29, 31] ans[31, 29] lr 0.104280 cl_acc 1.000 44.006sec(train) 3.834sec(infer)\n"
     ]
    },
    {
     "name": "stdout",
     "output_type": "stream",
     "text": [
      "Epoch 87 tst: l 1.045 a 0.774  clct[20, 20] ans[20, 20] cl_acc 1.000 2.425sec\n"
     ]
    },
    {
     "name": "stdout",
     "output_type": "stream",
     "text": [
      "Epoch 88 tr: l 1.016 a 0.774  clct[33, 27] ans[27, 33] lr 0.103237 cl_acc 1.000 43.974sec(train) 4.130sec(infer)\n"
     ]
    },
    {
     "name": "stdout",
     "output_type": "stream",
     "text": [
      "Epoch 88 tst: l 1.050 a 0.771  clct[20, 20] ans[20, 20] cl_acc 1.000 2.645sec\n"
     ]
    },
    {
     "name": "stdout",
     "output_type": "stream",
     "text": [
      "Epoch 89 tr: l 1.003 a 0.770  clct[29, 31] ans[31, 29] lr 0.102205 cl_acc 1.000 44.115sec(train) 3.780sec(infer)\n"
     ]
    },
    {
     "name": "stdout",
     "output_type": "stream",
     "text": [
      "Epoch 89 tst: l 1.022 a 0.770  clct[20, 20] ans[20, 20] cl_acc 1.000 2.351sec\n"
     ]
    },
    {
     "name": "stdout",
     "output_type": "stream",
     "text": [
      "Epoch 90 tr: l 1.071 a 0.757  clct[30, 30] ans[30, 30] lr 0.101183 cl_acc 1.000 43.875sec(train) 3.843sec(infer)\n"
     ]
    },
    {
     "name": "stdout",
     "output_type": "stream",
     "text": [
      "Epoch 90 tst: l 1.079 a 0.759  clct[20, 20] ans[20, 20] cl_acc 1.000 2.463sec\n",
      "result written at output/results.pickle\n"
     ]
    },
    {
     "name": "stdout",
     "output_type": "stream",
     "text": [
      "Epoch 91 tr: l 1.002 a 0.772  clct[32, 28] ans[28, 32] lr 0.100171 cl_acc 1.000 43.935sec(train) 4.193sec(infer)\n"
     ]
    },
    {
     "name": "stdout",
     "output_type": "stream",
     "text": [
      "Epoch 91 tst: l 1.047 a 0.771  clct[20, 20] ans[20, 20] cl_acc 1.000 2.626sec\n"
     ]
    },
    {
     "name": "stdout",
     "output_type": "stream",
     "text": [
      "Epoch 92 tr: l 1.007 a 0.777  clct[34, 26] ans[26, 34] lr 0.099169 cl_acc 1.000 44.006sec(train) 4.124sec(infer)\n"
     ]
    },
    {
     "name": "stdout",
     "output_type": "stream",
     "text": [
      "Epoch 92 tst: l 1.035 a 0.775  clct[20, 20] ans[20, 20] cl_acc 1.000 2.522sec\n"
     ]
    },
    {
     "name": "stdout",
     "output_type": "stream",
     "text": [
      "Epoch 93 tr: l 1.018 a 0.763  clct[32, 28] ans[28, 32] lr 0.098178 cl_acc 1.000 43.843sec(train) 4.037sec(infer)\n"
     ]
    },
    {
     "name": "stdout",
     "output_type": "stream",
     "text": [
      "Epoch 93 tst: l 1.052 a 0.765  clct[20, 20] ans[20, 20] cl_acc 1.000 2.466sec\n"
     ]
    },
    {
     "name": "stdout",
     "output_type": "stream",
     "text": [
      "Epoch 94 tr: l 1.044 a 0.762  clct[35, 25] ans[25, 35] lr 0.097196 cl_acc 1.000 44.179sec(train) 4.157sec(infer)\n"
     ]
    },
    {
     "name": "stdout",
     "output_type": "stream",
     "text": [
      "Epoch 94 tst: l 1.071 a 0.762  clct[20, 20] ans[20, 20] cl_acc 1.000 2.678sec\n"
     ]
    },
    {
     "name": "stdout",
     "output_type": "stream",
     "text": [
      "Epoch 95 tr: l 1.017 a 0.771  clct[26, 34] ans[34, 26] lr 0.096224 cl_acc 1.000 44.279sec(train) 4.250sec(infer)\n"
     ]
    },
    {
     "name": "stdout",
     "output_type": "stream",
     "text": [
      "Epoch 95 tst: l 1.032 a 0.773  clct[20, 20] ans[20, 20] cl_acc 1.000 2.489sec\n"
     ]
    },
    {
     "name": "stdout",
     "output_type": "stream",
     "text": [
      "Epoch 96 tr: l 1.006 a 0.771  clct[29, 31] ans[31, 29] lr 0.095262 cl_acc 1.000 44.061sec(train) 4.090sec(infer)\n"
     ]
    },
    {
     "name": "stdout",
     "output_type": "stream",
     "text": [
      "Epoch 96 tst: l 1.025 a 0.776  clct[20, 20] ans[20, 20] cl_acc 1.000 2.537sec\n"
     ]
    },
    {
     "name": "stdout",
     "output_type": "stream",
     "text": [
      "Epoch 97 tr: l 1.030 a 0.766  clct[33, 27] ans[27, 33] lr 0.094309 cl_acc 1.000 44.052sec(train) 4.164sec(infer)\n"
     ]
    },
    {
     "name": "stdout",
     "output_type": "stream",
     "text": [
      "Epoch 97 tst: l 1.065 a 0.764  clct[20, 20] ans[20, 20] cl_acc 1.000 2.422sec\n"
     ]
    },
    {
     "name": "stdout",
     "output_type": "stream",
     "text": [
      "Epoch 98 tr: l 0.982 a 0.774  clct[31, 29] ans[29, 31] lr 0.093366 cl_acc 1.000 43.412sec(train) 4.034sec(infer)\n"
     ]
    },
    {
     "name": "stdout",
     "output_type": "stream",
     "text": [
      "Epoch 98 tst: l 1.017 a 0.772  clct[20, 20] ans[20, 20] cl_acc 1.000 2.492sec\n"
     ]
    },
    {
     "name": "stdout",
     "output_type": "stream",
     "text": [
      "Epoch 99 tr: l 1.007 a 0.770  clct[31, 29] ans[29, 31] lr 0.092432 cl_acc 1.000 43.662sec(train) 4.183sec(infer)\n"
     ]
    },
    {
     "name": "stdout",
     "output_type": "stream",
     "text": [
      "Epoch 99 tst: l 1.038 a 0.766  clct[20, 20] ans[20, 20] cl_acc 1.000 2.597sec\n"
     ]
    },
    {
     "name": "stdout",
     "output_type": "stream",
     "text": [
      "Epoch 100 tr: l 1.015 a 0.766  clct[30, 30] ans[30, 30] lr 0.091508 cl_acc 1.000 43.823sec(train) 4.321sec(infer)\n"
     ]
    },
    {
     "name": "stdout",
     "output_type": "stream",
     "text": [
      "Epoch 100 tst: l 1.037 a 0.764  clct[20, 20] ans[20, 20] cl_acc 1.000 2.613sec\n",
      "result written at output/results.pickle\n"
     ]
    },
    {
     "name": "stdout",
     "output_type": "stream",
     "text": [
      "Epoch 101 tr: l 0.976 a 0.778  clct[34, 26] ans[26, 34] lr 0.090593 cl_acc 1.000 43.747sec(train) 4.221sec(infer)\n"
     ]
    },
    {
     "name": "stdout",
     "output_type": "stream",
     "text": [
      "Epoch 101 tst: l 1.000 a 0.779  clct[20, 20] ans[20, 20] cl_acc 1.000 2.548sec\n"
     ]
    },
    {
     "name": "stdout",
     "output_type": "stream",
     "text": [
      "Epoch 102 tr: l 0.965 a 0.778  clct[30, 30] ans[30, 30] lr 0.089687 cl_acc 1.000 43.567sec(train) 4.118sec(infer)\n"
     ]
    },
    {
     "name": "stdout",
     "output_type": "stream",
     "text": [
      "Epoch 102 tst: l 1.015 a 0.773  clct[20, 20] ans[20, 20] cl_acc 1.000 2.584sec\n"
     ]
    },
    {
     "name": "stdout",
     "output_type": "stream",
     "text": [
      "Epoch 103 tr: l 0.975 a 0.778  clct[32, 28] ans[28, 32] lr 0.088790 cl_acc 1.000 43.784sec(train) 3.919sec(infer)\n"
     ]
    },
    {
     "name": "stdout",
     "output_type": "stream",
     "text": [
      "Epoch 103 tst: l 1.021 a 0.768  clct[20, 20] ans[20, 20] cl_acc 1.000 2.422sec\n"
     ]
    },
    {
     "name": "stdout",
     "output_type": "stream",
     "text": [
      "Epoch 104 tr: l 0.979 a 0.773  clct[27, 33] ans[33, 27] lr 0.087902 cl_acc 1.000 44.096sec(train) 3.934sec(infer)\n"
     ]
    },
    {
     "name": "stdout",
     "output_type": "stream",
     "text": [
      "Epoch 104 tst: l 1.004 a 0.772  clct[20, 20] ans[20, 20] cl_acc 1.000 2.438sec\n"
     ]
    },
    {
     "name": "stdout",
     "output_type": "stream",
     "text": [
      "Epoch 105 tr: l 0.936 a 0.787  clct[26, 34] ans[34, 26] lr 0.087023 cl_acc 1.000 44.138sec(train) 4.076sec(infer)\n"
     ]
    },
    {
     "name": "stdout",
     "output_type": "stream",
     "text": [
      "Epoch 105 tst: l 1.000 a 0.776  clct[20, 20] ans[20, 20] cl_acc 1.000 2.663sec\n"
     ]
    },
    {
     "name": "stdout",
     "output_type": "stream",
     "text": [
      "Epoch 106 tr: l 0.959 a 0.784  clct[33, 27] ans[27, 33] lr 0.086153 cl_acc 1.000 44.270sec(train) 4.043sec(infer)\n"
     ]
    },
    {
     "name": "stdout",
     "output_type": "stream",
     "text": [
      "Epoch 106 tst: l 1.024 a 0.771  clct[20, 20] ans[20, 20] cl_acc 1.000 2.535sec\n"
     ]
    },
    {
     "name": "stdout",
     "output_type": "stream",
     "text": [
      "Epoch 107 tr: l 0.920 a 0.792  clct[31, 29] ans[29, 31] lr 0.085292 cl_acc 1.000 44.166sec(train) 4.313sec(infer)\n"
     ]
    },
    {
     "name": "stdout",
     "output_type": "stream",
     "text": [
      "Epoch 107 tst: l 0.982 a 0.780  clct[20, 20] ans[20, 20] cl_acc 1.000 2.772sec\n"
     ]
    },
    {
     "name": "stdout",
     "output_type": "stream",
     "text": [
      "Epoch 108 tr: l 0.962 a 0.781  clct[31, 29] ans[29, 31] lr 0.084439 cl_acc 1.000 44.073sec(train) 4.025sec(infer)\n"
     ]
    },
    {
     "name": "stdout",
     "output_type": "stream",
     "text": [
      "Epoch 108 tst: l 0.984 a 0.782  clct[20, 20] ans[20, 20] cl_acc 1.000 2.518sec\n"
     ]
    },
    {
     "name": "stdout",
     "output_type": "stream",
     "text": [
      "Epoch 109 tr: l 0.918 a 0.793  clct[27, 33] ans[33, 27] lr 0.083594 cl_acc 1.000 44.458sec(train) 3.879sec(infer)\n"
     ]
    },
    {
     "name": "stdout",
     "output_type": "stream",
     "text": [
      "Epoch 109 tst: l 0.999 a 0.776  clct[20, 20] ans[20, 20] cl_acc 1.000 2.562sec\n"
     ]
    },
    {
     "name": "stdout",
     "output_type": "stream",
     "text": [
      "Epoch 110 tr: l 0.965 a 0.778  clct[31, 29] ans[29, 31] lr 0.082758 cl_acc 1.000 44.311sec(train) 4.097sec(infer)\n"
     ]
    },
    {
     "name": "stdout",
     "output_type": "stream",
     "text": [
      "Epoch 110 tst: l 1.009 a 0.774  clct[20, 20] ans[20, 20] cl_acc 1.000 2.801sec\n",
      "result written at output/results.pickle\n"
     ]
    },
    {
     "name": "stdout",
     "output_type": "stream",
     "text": [
      "Epoch 111 tr: l 0.923 a 0.786  clct[32, 28] ans[28, 32] lr 0.081931 cl_acc 1.000 44.183sec(train) 4.356sec(infer)\n"
     ]
    },
    {
     "name": "stdout",
     "output_type": "stream",
     "text": [
      "Epoch 111 tst: l 0.970 a 0.780  clct[20, 20] ans[20, 20] cl_acc 1.000 2.769sec\n"
     ]
    },
    {
     "name": "stdout",
     "output_type": "stream",
     "text": [
      "Epoch 112 tr: l 0.947 a 0.779  clct[31, 29] ans[29, 31] lr 0.081111 cl_acc 1.000 44.404sec(train) 3.995sec(infer)\n"
     ]
    },
    {
     "name": "stdout",
     "output_type": "stream",
     "text": [
      "Epoch 112 tst: l 0.963 a 0.784  clct[20, 20] ans[20, 20] cl_acc 1.000 2.449sec\n"
     ]
    },
    {
     "name": "stdout",
     "output_type": "stream",
     "text": [
      "Epoch 113 tr: l 0.917 a 0.792  clct[28, 32] ans[32, 28] lr 0.080300 cl_acc 1.000 44.303sec(train) 4.169sec(infer)\n"
     ]
    },
    {
     "name": "stdout",
     "output_type": "stream",
     "text": [
      "Epoch 113 tst: l 0.978 a 0.780  clct[20, 20] ans[20, 20] cl_acc 1.000 2.629sec\n"
     ]
    },
    {
     "name": "stdout",
     "output_type": "stream",
     "text": [
      "Epoch 114 tr: l 0.945 a 0.783  clct[27, 33] ans[33, 27] lr 0.079497 cl_acc 1.000 44.362sec(train) 4.337sec(infer)\n"
     ]
    },
    {
     "name": "stdout",
     "output_type": "stream",
     "text": [
      "Epoch 114 tst: l 0.976 a 0.787  clct[20, 20] ans[20, 20] cl_acc 1.000 2.509sec\n"
     ]
    },
    {
     "name": "stdout",
     "output_type": "stream",
     "text": [
      "Epoch 115 tr: l 0.924 a 0.791  clct[26, 34] ans[34, 26] lr 0.078702 cl_acc 1.000 44.242sec(train) 4.105sec(infer)\n"
     ]
    },
    {
     "name": "stdout",
     "output_type": "stream",
     "text": [
      "Epoch 115 tst: l 0.972 a 0.785  clct[20, 20] ans[20, 20] cl_acc 1.000 2.661sec\n"
     ]
    },
    {
     "name": "stdout",
     "output_type": "stream",
     "text": [
      "Epoch 116 tr: l 0.954 a 0.783  clct[35, 25] ans[25, 35] lr 0.077915 cl_acc 1.000 44.411sec(train) 4.127sec(infer)\n"
     ]
    },
    {
     "name": "stdout",
     "output_type": "stream",
     "text": [
      "Epoch 116 tst: l 0.984 a 0.777  clct[20, 20] ans[20, 20] cl_acc 1.000 2.509sec\n"
     ]
    },
    {
     "name": "stdout",
     "output_type": "stream",
     "text": [
      "Epoch 117 tr: l 0.922 a 0.787  clct[28, 32] ans[32, 28] lr 0.077136 cl_acc 1.000 43.921sec(train) 4.051sec(infer)\n"
     ]
    },
    {
     "name": "stdout",
     "output_type": "stream",
     "text": [
      "Epoch 117 tst: l 0.973 a 0.778  clct[20, 20] ans[20, 20] cl_acc 1.000 2.543sec\n"
     ]
    },
    {
     "name": "stdout",
     "output_type": "stream",
     "text": [
      "Epoch 118 tr: l 0.907 a 0.791  clct[30, 30] ans[30, 30] lr 0.076365 cl_acc 1.000 44.135sec(train) 3.939sec(infer)\n"
     ]
    },
    {
     "name": "stdout",
     "output_type": "stream",
     "text": [
      "Epoch 118 tst: l 0.956 a 0.781  clct[20, 20] ans[20, 20] cl_acc 1.000 2.644sec\n"
     ]
    },
    {
     "name": "stdout",
     "output_type": "stream",
     "text": [
      "Epoch 119 tr: l 0.954 a 0.777  clct[34, 26] ans[26, 34] lr 0.075601 cl_acc 1.000 44.093sec(train) 4.197sec(infer)\n"
     ]
    },
    {
     "name": "stdout",
     "output_type": "stream",
     "text": [
      "Epoch 119 tst: l 0.966 a 0.781  clct[20, 20] ans[20, 20] cl_acc 1.000 2.466sec\n"
     ]
    },
    {
     "name": "stdout",
     "output_type": "stream",
     "text": [
      "Epoch 120 tr: l 0.932 a 0.781  clct[30, 30] ans[30, 30] lr 0.074845 cl_acc 1.000 43.952sec(train) 4.180sec(infer)\n"
     ]
    },
    {
     "name": "stdout",
     "output_type": "stream",
     "text": [
      "Epoch 120 tst: l 0.950 a 0.783  clct[20, 20] ans[20, 20] cl_acc 1.000 2.559sec\n",
      "result written at output/results.pickle\n"
     ]
    },
    {
     "name": "stdout",
     "output_type": "stream",
     "text": [
      "Epoch 121 tr: l 0.924 a 0.787  clct[28, 32] ans[32, 28] lr 0.074097 cl_acc 1.000 43.924sec(train) 4.510sec(infer)\n"
     ]
    },
    {
     "name": "stdout",
     "output_type": "stream",
     "text": [
      "Epoch 121 tst: l 0.959 a 0.781  clct[20, 20] ans[20, 20] cl_acc 1.000 2.885sec\n"
     ]
    },
    {
     "name": "stdout",
     "output_type": "stream",
     "text": [
      "Epoch 122 tr: l 0.887 a 0.797  clct[30, 30] ans[30, 30] lr 0.073356 cl_acc 1.000 44.095sec(train) 4.272sec(infer)\n"
     ]
    },
    {
     "name": "stdout",
     "output_type": "stream",
     "text": [
      "Epoch 122 tst: l 0.953 a 0.785  clct[20, 20] ans[20, 20] cl_acc 1.000 2.635sec\n"
     ]
    },
    {
     "name": "stdout",
     "output_type": "stream",
     "text": [
      "Epoch 123 tr: l 0.892 a 0.793  clct[26, 34] ans[34, 26] lr 0.072622 cl_acc 1.000 44.254sec(train) 4.357sec(infer)\n"
     ]
    },
    {
     "name": "stdout",
     "output_type": "stream",
     "text": [
      "Epoch 123 tst: l 0.958 a 0.775  clct[20, 20] ans[20, 20] cl_acc 1.000 2.754sec\n"
     ]
    },
    {
     "name": "stdout",
     "output_type": "stream",
     "text": [
      "Epoch 124 tr: l 0.905 a 0.791  clct[30, 30] ans[30, 30] lr 0.071896 cl_acc 1.000 44.276sec(train) 4.054sec(infer)\n"
     ]
    },
    {
     "name": "stdout",
     "output_type": "stream",
     "text": [
      "Epoch 124 tst: l 0.973 a 0.783  clct[20, 20] ans[20, 20] cl_acc 1.000 2.623sec\n"
     ]
    },
    {
     "name": "stdout",
     "output_type": "stream",
     "text": [
      "Epoch 125 tr: l 0.870 a 0.799  clct[25, 35] ans[35, 25] lr 0.071177 cl_acc 1.000 44.041sec(train) 4.108sec(infer)\n"
     ]
    },
    {
     "name": "stdout",
     "output_type": "stream",
     "text": [
      "Epoch 125 tst: l 0.918 a 0.791  clct[20, 20] ans[20, 20] cl_acc 1.000 2.619sec\n"
     ]
    },
    {
     "name": "stdout",
     "output_type": "stream",
     "text": [
      "Epoch 126 tr: l 0.873 a 0.797  clct[33, 27] ans[27, 33] lr 0.070465 cl_acc 1.000 43.693sec(train) 4.446sec(infer)\n"
     ]
    },
    {
     "name": "stdout",
     "output_type": "stream",
     "text": [
      "Epoch 126 tst: l 0.935 a 0.789  clct[20, 20] ans[20, 20] cl_acc 1.000 2.763sec\n"
     ]
    },
    {
     "name": "stdout",
     "output_type": "stream",
     "text": [
      "Epoch 127 tr: l 0.886 a 0.797  clct[30, 30] ans[30, 30] lr 0.069761 cl_acc 1.000 43.719sec(train) 4.573sec(infer)\n"
     ]
    },
    {
     "name": "stdout",
     "output_type": "stream",
     "text": [
      "Epoch 127 tst: l 0.949 a 0.788  clct[20, 20] ans[20, 20] cl_acc 1.000 2.904sec\n"
     ]
    },
    {
     "name": "stdout",
     "output_type": "stream",
     "text": [
      "Epoch 128 tr: l 0.850 a 0.803  clct[26, 34] ans[34, 26] lr 0.069063 cl_acc 1.000 43.771sec(train) 4.641sec(infer)\n"
     ]
    },
    {
     "name": "stdout",
     "output_type": "stream",
     "text": [
      "Epoch 128 tst: l 0.936 a 0.787  clct[20, 20] ans[20, 20] cl_acc 1.000 2.875sec\n"
     ]
    },
    {
     "name": "stdout",
     "output_type": "stream",
     "text": [
      "Epoch 129 tr: l 0.883 a 0.793  clct[31, 29] ans[29, 31] lr 0.068372 cl_acc 1.000 43.629sec(train) 4.551sec(infer)\n"
     ]
    },
    {
     "name": "stdout",
     "output_type": "stream",
     "text": [
      "Epoch 129 tst: l 0.932 a 0.786  clct[20, 20] ans[20, 20] cl_acc 1.000 2.885sec\n"
     ]
    },
    {
     "name": "stdout",
     "output_type": "stream",
     "text": [
      "Epoch 130 tr: l 0.904 a 0.790  clct[35, 25] ans[25, 35] lr 0.067689 cl_acc 1.000 43.719sec(train) 4.090sec(infer)\n"
     ]
    },
    {
     "name": "stdout",
     "output_type": "stream",
     "text": [
      "Epoch 130 tst: l 0.938 a 0.788  clct[20, 20] ans[20, 20] cl_acc 1.000 2.753sec\n",
      "result written at output/results.pickle\n"
     ]
    },
    {
     "name": "stdout",
     "output_type": "stream",
     "text": [
      "Epoch 131 tr: l 0.888 a 0.793  clct[32, 28] ans[28, 32] lr 0.067012 cl_acc 1.000 43.558sec(train) 3.977sec(infer)\n"
     ]
    },
    {
     "name": "stdout",
     "output_type": "stream",
     "text": [
      "Epoch 131 tst: l 0.937 a 0.785  clct[20, 20] ans[20, 20] cl_acc 1.000 2.587sec\n"
     ]
    },
    {
     "name": "stdout",
     "output_type": "stream",
     "text": [
      "Epoch 132 tr: l 0.903 a 0.792  clct[31, 29] ans[29, 31] lr 0.066342 cl_acc 1.000 43.794sec(train) 4.372sec(infer)\n"
     ]
    },
    {
     "name": "stdout",
     "output_type": "stream",
     "text": [
      "Epoch 132 tst: l 0.946 a 0.786  clct[20, 20] ans[20, 20] cl_acc 1.000 2.790sec\n"
     ]
    },
    {
     "name": "stdout",
     "output_type": "stream",
     "text": [
      "Epoch 133 tr: l 0.885 a 0.796  clct[29, 31] ans[31, 29] lr 0.065678 cl_acc 1.000 44.106sec(train) 4.336sec(infer)\n"
     ]
    },
    {
     "name": "stdout",
     "output_type": "stream",
     "text": [
      "Epoch 133 tst: l 0.934 a 0.789  clct[20, 20] ans[20, 20] cl_acc 1.000 2.831sec\n"
     ]
    },
    {
     "name": "stdout",
     "output_type": "stream",
     "text": [
      "Epoch 134 tr: l 0.872 a 0.796  clct[31, 29] ans[29, 31] lr 0.065021 cl_acc 1.000 43.565sec(train) 4.183sec(infer)\n"
     ]
    },
    {
     "name": "stdout",
     "output_type": "stream",
     "text": [
      "Epoch 134 tst: l 0.932 a 0.786  clct[20, 20] ans[20, 20] cl_acc 1.000 2.606sec\n"
     ]
    },
    {
     "name": "stdout",
     "output_type": "stream",
     "text": [
      "Epoch 135 tr: l 0.857 a 0.799  clct[33, 27] ans[27, 33] lr 0.064371 cl_acc 1.000 44.015sec(train) 4.132sec(infer)\n"
     ]
    },
    {
     "name": "stdout",
     "output_type": "stream",
     "text": [
      "Epoch 135 tst: l 0.901 a 0.794  clct[20, 20] ans[20, 20] cl_acc 1.000 2.656sec\n"
     ]
    },
    {
     "name": "stdout",
     "output_type": "stream",
     "text": [
      "Epoch 136 tr: l 0.860 a 0.796  clct[32, 28] ans[28, 32] lr 0.063727 cl_acc 1.000 43.982sec(train) 4.280sec(infer)\n"
     ]
    },
    {
     "name": "stdout",
     "output_type": "stream",
     "text": [
      "Epoch 136 tst: l 0.901 a 0.792  clct[20, 20] ans[20, 20] cl_acc 1.000 2.701sec\n"
     ]
    },
    {
     "name": "stdout",
     "output_type": "stream",
     "text": [
      "Epoch 137 tr: l 0.859 a 0.799  clct[29, 31] ans[31, 29] lr 0.063090 cl_acc 1.000 44.004sec(train) 4.449sec(infer)\n"
     ]
    },
    {
     "name": "stdout",
     "output_type": "stream",
     "text": [
      "Epoch 137 tst: l 0.911 a 0.791  clct[20, 20] ans[20, 20] cl_acc 1.000 2.844sec\n"
     ]
    },
    {
     "name": "stdout",
     "output_type": "stream",
     "text": [
      "Epoch 138 tr: l 0.826 a 0.810  clct[31, 29] ans[29, 31] lr 0.062459 cl_acc 1.000 43.947sec(train) 4.418sec(infer)\n"
     ]
    },
    {
     "name": "stdout",
     "output_type": "stream",
     "text": [
      "Epoch 138 tst: l 0.913 a 0.790  clct[20, 20] ans[20, 20] cl_acc 1.000 2.790sec\n"
     ]
    },
    {
     "name": "stdout",
     "output_type": "stream",
     "text": [
      "Epoch 139 tr: l 0.832 a 0.806  clct[31, 29] ans[29, 31] lr 0.061835 cl_acc 1.000 44.186sec(train) 4.327sec(infer)\n"
     ]
    },
    {
     "name": "stdout",
     "output_type": "stream",
     "text": [
      "Epoch 139 tst: l 0.900 a 0.794  clct[20, 20] ans[20, 20] cl_acc 1.000 2.659sec\n"
     ]
    },
    {
     "name": "stdout",
     "output_type": "stream",
     "text": [
      "Epoch 140 tr: l 0.811 a 0.809  clct[29, 31] ans[31, 29] lr 0.061216 cl_acc 1.000 44.253sec(train) 4.229sec(infer)\n"
     ]
    },
    {
     "name": "stdout",
     "output_type": "stream",
     "text": [
      "Epoch 140 tst: l 0.901 a 0.793  clct[20, 20] ans[20, 20] cl_acc 1.000 2.567sec\n",
      "result written at output/results.pickle\n"
     ]
    },
    {
     "name": "stdout",
     "output_type": "stream",
     "text": [
      "Epoch 141 tr: l 0.826 a 0.804  clct[30, 30] ans[30, 30] lr 0.060604 cl_acc 1.000 44.191sec(train) 4.106sec(infer)\n"
     ]
    },
    {
     "name": "stdout",
     "output_type": "stream",
     "text": [
      "Epoch 141 tst: l 0.905 a 0.789  clct[20, 20] ans[20, 20] cl_acc 1.000 2.558sec\n"
     ]
    },
    {
     "name": "stdout",
     "output_type": "stream",
     "text": [
      "Epoch 142 tr: l 0.855 a 0.798  clct[32, 28] ans[28, 32] lr 0.059998 cl_acc 1.000 44.149sec(train) 4.197sec(infer)\n"
     ]
    },
    {
     "name": "stdout",
     "output_type": "stream",
     "text": [
      "Epoch 142 tst: l 0.926 a 0.789  clct[20, 20] ans[20, 20] cl_acc 1.000 2.730sec\n"
     ]
    },
    {
     "name": "stdout",
     "output_type": "stream",
     "text": [
      "Epoch 143 tr: l 0.828 a 0.804  clct[35, 25] ans[25, 35] lr 0.059398 cl_acc 1.000 43.990sec(train) 4.488sec(infer)\n"
     ]
    },
    {
     "name": "stdout",
     "output_type": "stream",
     "text": [
      "Epoch 143 tst: l 0.881 a 0.798  clct[20, 20] ans[20, 20] cl_acc 1.000 2.762sec\n"
     ]
    },
    {
     "name": "stdout",
     "output_type": "stream",
     "text": [
      "Epoch 144 tr: l 0.863 a 0.795  clct[27, 33] ans[33, 27] lr 0.058804 cl_acc 1.000 44.229sec(train) 4.506sec(infer)\n"
     ]
    },
    {
     "name": "stdout",
     "output_type": "stream",
     "text": [
      "Epoch 144 tst: l 0.897 a 0.791  clct[20, 20] ans[20, 20] cl_acc 1.000 2.829sec\n"
     ]
    },
    {
     "name": "stdout",
     "output_type": "stream",
     "text": [
      "Epoch 145 tr: l 0.799 a 0.812  clct[29, 31] ans[31, 29] lr 0.058216 cl_acc 1.000 44.040sec(train) 4.072sec(infer)\n"
     ]
    },
    {
     "name": "stdout",
     "output_type": "stream",
     "text": [
      "Epoch 145 tst: l 0.874 a 0.796  clct[20, 20] ans[20, 20] cl_acc 1.000 2.555sec\n"
     ]
    },
    {
     "name": "stdout",
     "output_type": "stream",
     "text": [
      "Epoch 146 tr: l 0.809 a 0.812  clct[28, 32] ans[32, 28] lr 0.057634 cl_acc 1.000 43.848sec(train) 4.017sec(infer)\n"
     ]
    },
    {
     "name": "stdout",
     "output_type": "stream",
     "text": [
      "Epoch 146 tst: l 0.884 a 0.800  clct[20, 20] ans[20, 20] cl_acc 1.000 2.439sec\n"
     ]
    },
    {
     "name": "stdout",
     "output_type": "stream",
     "text": [
      "Epoch 147 tr: l 0.816 a 0.807  clct[32, 28] ans[28, 32] lr 0.057058 cl_acc 1.000 44.099sec(train) 4.405sec(infer)\n"
     ]
    },
    {
     "name": "stdout",
     "output_type": "stream",
     "text": [
      "Epoch 147 tst: l 0.892 a 0.795  clct[20, 20] ans[20, 20] cl_acc 1.000 2.720sec\n"
     ]
    },
    {
     "name": "stdout",
     "output_type": "stream",
     "text": [
      "Epoch 148 tr: l 0.826 a 0.803  clct[25, 35] ans[35, 25] lr 0.056487 cl_acc 1.000 43.928sec(train) 4.443sec(infer)\n"
     ]
    },
    {
     "name": "stdout",
     "output_type": "stream",
     "text": [
      "Epoch 148 tst: l 0.893 a 0.793  clct[20, 20] ans[20, 20] cl_acc 1.000 2.711sec\n"
     ]
    },
    {
     "name": "stdout",
     "output_type": "stream",
     "text": [
      "Epoch 149 tr: l 0.824 a 0.803  clct[30, 30] ans[30, 30] lr 0.055922 cl_acc 1.000 44.261sec(train) 4.256sec(infer)\n"
     ]
    },
    {
     "name": "stdout",
     "output_type": "stream",
     "text": [
      "Epoch 149 tst: l 0.870 a 0.797  clct[20, 20] ans[20, 20] cl_acc 1.000 2.679sec\n"
     ]
    },
    {
     "name": "stdout",
     "output_type": "stream",
     "text": [
      "Epoch 150 tr: l 0.821 a 0.808  clct[29, 31] ans[31, 29] lr 0.055363 cl_acc 1.000 44.227sec(train) 4.006sec(infer)\n"
     ]
    },
    {
     "name": "stdout",
     "output_type": "stream",
     "text": [
      "Epoch 150 tst: l 0.874 a 0.796  clct[20, 20] ans[20, 20] cl_acc 1.000 2.540sec\n",
      "result written at output/results.pickle\n"
     ]
    },
    {
     "name": "stdout",
     "output_type": "stream",
     "text": [
      "Epoch 151 tr: l 0.814 a 0.810  clct[30, 30] ans[30, 30] lr 0.054809 cl_acc 1.000 44.371sec(train) 4.003sec(infer)\n"
     ]
    },
    {
     "name": "stdout",
     "output_type": "stream",
     "text": [
      "Epoch 151 tst: l 0.870 a 0.800  clct[20, 20] ans[20, 20] cl_acc 1.000 2.525sec\n"
     ]
    },
    {
     "name": "stdout",
     "output_type": "stream",
     "text": [
      "Epoch 152 tr: l 0.789 a 0.817  clct[26, 34] ans[34, 26] lr 0.054261 cl_acc 1.000 44.338sec(train) 4.380sec(infer)\n"
     ]
    },
    {
     "name": "stdout",
     "output_type": "stream",
     "text": [
      "Epoch 152 tst: l 0.888 a 0.794  clct[20, 20] ans[20, 20] cl_acc 1.000 2.903sec\n"
     ]
    },
    {
     "name": "stdout",
     "output_type": "stream",
     "text": [
      "Epoch 153 tr: l 0.797 a 0.814  clct[27, 33] ans[33, 27] lr 0.053719 cl_acc 1.000 44.141sec(train) 4.338sec(infer)\n"
     ]
    },
    {
     "name": "stdout",
     "output_type": "stream",
     "text": [
      "Epoch 153 tst: l 0.855 a 0.802  clct[20, 20] ans[20, 20] cl_acc 1.000 2.778sec\n"
     ]
    },
    {
     "name": "stdout",
     "output_type": "stream",
     "text": [
      "Epoch 154 tr: l 0.781 a 0.816  clct[26, 34] ans[34, 26] lr 0.053181 cl_acc 1.000 44.117sec(train) 4.321sec(infer)\n"
     ]
    },
    {
     "name": "stdout",
     "output_type": "stream",
     "text": [
      "Epoch 154 tst: l 0.870 a 0.799  clct[20, 20] ans[20, 20] cl_acc 1.000 2.718sec\n"
     ]
    },
    {
     "name": "stdout",
     "output_type": "stream",
     "text": [
      "Epoch 155 tr: l 0.794 a 0.811  clct[35, 25] ans[25, 35] lr 0.052650 cl_acc 1.000 44.131sec(train) 4.129sec(infer)\n"
     ]
    },
    {
     "name": "stdout",
     "output_type": "stream",
     "text": [
      "Epoch 155 tst: l 0.848 a 0.802  clct[20, 20] ans[20, 20] cl_acc 1.000 2.630sec\n"
     ]
    },
    {
     "name": "stdout",
     "output_type": "stream",
     "text": [
      "Epoch 156 tr: l 0.781 a 0.816  clct[34, 26] ans[26, 34] lr 0.052123 cl_acc 1.000 44.257sec(train) 4.606sec(infer)\n"
     ]
    },
    {
     "name": "stdout",
     "output_type": "stream",
     "text": [
      "Epoch 156 tst: l 0.864 a 0.799  clct[20, 20] ans[20, 20] cl_acc 1.000 2.947sec\n"
     ]
    },
    {
     "name": "stdout",
     "output_type": "stream",
     "text": [
      "Epoch 157 tr: l 0.800 a 0.811  clct[28, 32] ans[32, 28] lr 0.051602 cl_acc 1.000 44.409sec(train) 4.478sec(infer)\n"
     ]
    },
    {
     "name": "stdout",
     "output_type": "stream",
     "text": [
      "Epoch 157 tst: l 0.878 a 0.800  clct[20, 20] ans[20, 20] cl_acc 1.000 2.892sec\n"
     ]
    },
    {
     "name": "stdout",
     "output_type": "stream",
     "text": [
      "Epoch 158 tr: l 0.789 a 0.810  clct[33, 27] ans[27, 33] lr 0.051086 cl_acc 1.000 43.912sec(train) 3.927sec(infer)\n"
     ]
    },
    {
     "name": "stdout",
     "output_type": "stream",
     "text": [
      "Epoch 158 tst: l 0.875 a 0.794  clct[20, 20] ans[20, 20] cl_acc 1.000 2.502sec\n"
     ]
    },
    {
     "name": "stdout",
     "output_type": "stream",
     "text": [
      "Epoch 159 tr: l 0.781 a 0.818  clct[28, 32] ans[32, 28] lr 0.050575 cl_acc 1.000 44.296sec(train) 4.337sec(infer)\n"
     ]
    },
    {
     "name": "stdout",
     "output_type": "stream",
     "text": [
      "Epoch 159 tst: l 0.868 a 0.802  clct[20, 20] ans[20, 20] cl_acc 1.000 2.803sec\n"
     ]
    },
    {
     "name": "stdout",
     "output_type": "stream",
     "text": [
      "Epoch 160 tr: l 0.781 a 0.813  clct[27, 33] ans[33, 27] lr 0.050069 cl_acc 1.000 44.063sec(train) 4.232sec(infer)\n"
     ]
    },
    {
     "name": "stdout",
     "output_type": "stream",
     "text": [
      "Epoch 160 tst: l 0.857 a 0.799  clct[20, 20] ans[20, 20] cl_acc 1.000 2.655sec\n",
      "result written at output/results.pickle\n"
     ]
    },
    {
     "name": "stdout",
     "output_type": "stream",
     "text": [
      "Epoch 161 tr: l 0.787 a 0.813  clct[35, 25] ans[25, 35] lr 0.049569 cl_acc 1.000 44.128sec(train) 4.668sec(infer)\n"
     ]
    },
    {
     "name": "stdout",
     "output_type": "stream",
     "text": [
      "Epoch 161 tst: l 0.859 a 0.799  clct[20, 20] ans[20, 20] cl_acc 1.000 2.970sec\n"
     ]
    },
    {
     "name": "stdout",
     "output_type": "stream",
     "text": [
      "Epoch 162 tr: l 0.784 a 0.814  clct[30, 30] ans[30, 30] lr 0.049073 cl_acc 1.000 44.347sec(train) 4.111sec(infer)\n"
     ]
    },
    {
     "name": "stdout",
     "output_type": "stream",
     "text": [
      "Epoch 162 tst: l 0.876 a 0.792  clct[20, 20] ans[20, 20] cl_acc 1.000 2.635sec\n"
     ]
    },
    {
     "name": "stdout",
     "output_type": "stream",
     "text": [
      "Epoch 163 tr: l 0.786 a 0.814  clct[30, 30] ans[30, 30] lr 0.048582 cl_acc 1.000 44.136sec(train) 4.634sec(infer)\n"
     ]
    },
    {
     "name": "stdout",
     "output_type": "stream",
     "text": [
      "Epoch 163 tst: l 0.850 a 0.803  clct[20, 20] ans[20, 20] cl_acc 1.000 2.983sec\n"
     ]
    },
    {
     "name": "stdout",
     "output_type": "stream",
     "text": [
      "Epoch 164 tr: l 0.725 a 0.828  clct[28, 32] ans[32, 28] lr 0.048096 cl_acc 1.000 44.072sec(train) 4.206sec(infer)\n"
     ]
    },
    {
     "name": "stdout",
     "output_type": "stream",
     "text": [
      "Epoch 164 tst: l 0.838 a 0.801  clct[20, 20] ans[20, 20] cl_acc 1.000 2.582sec\n"
     ]
    },
    {
     "name": "stdout",
     "output_type": "stream",
     "text": [
      "Epoch 165 tr: l 0.797 a 0.809  clct[31, 29] ans[29, 31] lr 0.047615 cl_acc 1.000 43.900sec(train) 4.029sec(infer)\n"
     ]
    },
    {
     "name": "stdout",
     "output_type": "stream",
     "text": [
      "Epoch 165 tst: l 0.874 a 0.794  clct[20, 20] ans[20, 20] cl_acc 1.000 2.615sec\n"
     ]
    },
    {
     "name": "stdout",
     "output_type": "stream",
     "text": [
      "Epoch 166 tr: l 0.769 a 0.816  clct[33, 27] ans[27, 33] lr 0.047139 cl_acc 1.000 43.812sec(train) 4.225sec(infer)\n"
     ]
    },
    {
     "name": "stdout",
     "output_type": "stream",
     "text": [
      "Epoch 166 tst: l 0.847 a 0.800  clct[20, 20] ans[20, 20] cl_acc 1.000 2.851sec\n"
     ]
    },
    {
     "name": "stdout",
     "output_type": "stream",
     "text": [
      "Epoch 167 tr: l 0.780 a 0.816  clct[24, 36] ans[36, 24] lr 0.046668 cl_acc 1.000 44.112sec(train) 4.687sec(infer)\n"
     ]
    },
    {
     "name": "stdout",
     "output_type": "stream",
     "text": [
      "Epoch 167 tst: l 0.861 a 0.798  clct[20, 20] ans[20, 20] cl_acc 1.000 2.801sec\n"
     ]
    },
    {
     "name": "stdout",
     "output_type": "stream",
     "text": [
      "Epoch 168 tr: l 0.789 a 0.813  clct[30, 30] ans[30, 30] lr 0.046201 cl_acc 1.000 44.165sec(train) 4.324sec(infer)\n"
     ]
    },
    {
     "name": "stdout",
     "output_type": "stream",
     "text": [
      "Epoch 168 tst: l 0.846 a 0.803  clct[20, 20] ans[20, 20] cl_acc 1.000 2.735sec\n"
     ]
    },
    {
     "name": "stdout",
     "output_type": "stream",
     "text": [
      "Epoch 169 tr: l 0.777 a 0.815  clct[28, 32] ans[32, 28] lr 0.045739 cl_acc 1.000 43.856sec(train) 4.791sec(infer)\n"
     ]
    },
    {
     "name": "stdout",
     "output_type": "stream",
     "text": [
      "Epoch 169 tst: l 0.848 a 0.800  clct[20, 20] ans[20, 20] cl_acc 1.000 2.858sec\n"
     ]
    },
    {
     "name": "stdout",
     "output_type": "stream",
     "text": [
      "Epoch 170 tr: l 0.757 a 0.819  clct[24, 36] ans[36, 24] lr 0.045282 cl_acc 1.000 44.200sec(train) 3.974sec(infer)\n"
     ]
    },
    {
     "name": "stdout",
     "output_type": "stream",
     "text": [
      "Epoch 170 tst: l 0.835 a 0.803  clct[20, 20] ans[20, 20] cl_acc 1.000 2.495sec\n",
      "result written at output/results.pickle\n"
     ]
    },
    {
     "name": "stdout",
     "output_type": "stream",
     "text": [
      "Epoch 171 tr: l 0.779 a 0.811  clct[32, 28] ans[28, 32] lr 0.044829 cl_acc 1.000 44.429sec(train) 4.538sec(infer)\n"
     ]
    },
    {
     "name": "stdout",
     "output_type": "stream",
     "text": [
      "Epoch 171 tst: l 0.831 a 0.805  clct[20, 20] ans[20, 20] cl_acc 1.000 2.887sec\n"
     ]
    },
    {
     "name": "stdout",
     "output_type": "stream",
     "text": [
      "Epoch 172 tr: l 0.728 a 0.825  clct[29, 31] ans[31, 29] lr 0.044381 cl_acc 1.000 44.257sec(train) 4.060sec(infer)\n"
     ]
    },
    {
     "name": "stdout",
     "output_type": "stream",
     "text": [
      "Epoch 172 tst: l 0.815 a 0.804  clct[20, 20] ans[20, 20] cl_acc 1.000 2.569sec\n"
     ]
    },
    {
     "name": "stdout",
     "output_type": "stream",
     "text": [
      "Epoch 173 tr: l 0.738 a 0.824  clct[31, 29] ans[29, 31] lr 0.043937 cl_acc 1.000 44.196sec(train) 4.230sec(infer)\n"
     ]
    },
    {
     "name": "stdout",
     "output_type": "stream",
     "text": [
      "Epoch 173 tst: l 0.842 a 0.800  clct[20, 20] ans[20, 20] cl_acc 1.000 2.726sec\n"
     ]
    },
    {
     "name": "stdout",
     "output_type": "stream",
     "text": [
      "Epoch 174 tr: l 0.749 a 0.826  clct[30, 30] ans[30, 30] lr 0.043497 cl_acc 1.000 44.497sec(train) 4.298sec(infer)\n"
     ]
    },
    {
     "name": "stdout",
     "output_type": "stream",
     "text": [
      "Epoch 174 tst: l 0.855 a 0.799  clct[20, 20] ans[20, 20] cl_acc 1.000 2.613sec\n"
     ]
    },
    {
     "name": "stdout",
     "output_type": "stream",
     "text": [
      "Epoch 175 tr: l 0.731 a 0.827  clct[26, 34] ans[34, 26] lr 0.043062 cl_acc 1.000 44.592sec(train) 4.340sec(infer)\n"
     ]
    },
    {
     "name": "stdout",
     "output_type": "stream",
     "text": [
      "Epoch 175 tst: l 0.834 a 0.804  clct[20, 20] ans[20, 20] cl_acc 1.000 2.789sec\n"
     ]
    },
    {
     "name": "stdout",
     "output_type": "stream",
     "text": [
      "Epoch 176 tr: l 0.817 a 0.803  clct[24, 36] ans[36, 24] lr 0.042632 cl_acc 1.000 44.514sec(train) 4.324sec(infer)\n"
     ]
    },
    {
     "name": "stdout",
     "output_type": "stream",
     "text": [
      "Epoch 176 tst: l 0.862 a 0.795  clct[20, 20] ans[20, 20] cl_acc 1.000 2.723sec\n"
     ]
    },
    {
     "name": "stdout",
     "output_type": "stream",
     "text": [
      "Epoch 177 tr: l 0.736 a 0.823  clct[33, 27] ans[27, 33] lr 0.042206 cl_acc 1.000 44.286sec(train) 4.221sec(infer)\n"
     ]
    },
    {
     "name": "stdout",
     "output_type": "stream",
     "text": [
      "Epoch 177 tst: l 0.827 a 0.804  clct[20, 20] ans[20, 20] cl_acc 1.000 2.665sec\n"
     ]
    },
    {
     "name": "stdout",
     "output_type": "stream",
     "text": [
      "Epoch 178 tr: l 0.723 a 0.827  clct[29, 31] ans[31, 29] lr 0.041783 cl_acc 1.000 44.302sec(train) 4.282sec(infer)\n"
     ]
    },
    {
     "name": "stdout",
     "output_type": "stream",
     "text": [
      "Epoch 178 tst: l 0.815 a 0.807  clct[20, 20] ans[20, 20] cl_acc 1.000 2.701sec\n"
     ]
    },
    {
     "name": "stdout",
     "output_type": "stream",
     "text": [
      "Epoch 179 tr: l 0.722 a 0.828  clct[34, 26] ans[26, 34] lr 0.041366 cl_acc 1.000 44.548sec(train) 4.753sec(infer)\n"
     ]
    },
    {
     "name": "stdout",
     "output_type": "stream",
     "text": [
      "Epoch 179 tst: l 0.808 a 0.806  clct[20, 20] ans[20, 20] cl_acc 1.000 3.033sec\n"
     ]
    },
    {
     "name": "stdout",
     "output_type": "stream",
     "text": [
      "Epoch 180 tr: l 0.729 a 0.829  clct[31, 29] ans[29, 31] lr 0.040952 cl_acc 1.000 44.627sec(train) 4.260sec(infer)\n"
     ]
    },
    {
     "name": "stdout",
     "output_type": "stream",
     "text": [
      "Epoch 180 tst: l 0.839 a 0.807  clct[20, 20] ans[20, 20] cl_acc 1.000 2.508sec\n",
      "result written at output/results.pickle\n"
     ]
    },
    {
     "name": "stdout",
     "output_type": "stream",
     "text": [
      "Epoch 181 tr: l 0.751 a 0.822  clct[30, 30] ans[30, 30] lr 0.040542 cl_acc 1.000 44.258sec(train) 4.081sec(infer)\n"
     ]
    },
    {
     "name": "stdout",
     "output_type": "stream",
     "text": [
      "Epoch 181 tst: l 0.846 a 0.803  clct[20, 20] ans[20, 20] cl_acc 1.000 2.596sec\n"
     ]
    },
    {
     "name": "stdout",
     "output_type": "stream",
     "text": [
      "Epoch 182 tr: l 0.747 a 0.819  clct[30, 30] ans[30, 30] lr 0.040137 cl_acc 1.000 44.282sec(train) 4.294sec(infer)\n"
     ]
    },
    {
     "name": "stdout",
     "output_type": "stream",
     "text": [
      "Epoch 182 tst: l 0.811 a 0.806  clct[20, 20] ans[20, 20] cl_acc 1.000 2.800sec\n"
     ]
    },
    {
     "name": "stdout",
     "output_type": "stream",
     "text": [
      "Epoch 183 tr: l 0.730 a 0.827  clct[31, 29] ans[29, 31] lr 0.039736 cl_acc 1.000 44.417sec(train) 3.790sec(infer)\n"
     ]
    },
    {
     "name": "stdout",
     "output_type": "stream",
     "text": [
      "Epoch 183 tst: l 0.818 a 0.807  clct[20, 20] ans[20, 20] cl_acc 1.000 2.450sec\n"
     ]
    },
    {
     "name": "stdout",
     "output_type": "stream",
     "text": [
      "Epoch 184 tr: l 0.695 a 0.833  clct[33, 27] ans[27, 33] lr 0.039338 cl_acc 1.000 43.911sec(train) 4.320sec(infer)\n"
     ]
    },
    {
     "name": "stdout",
     "output_type": "stream",
     "text": [
      "Epoch 184 tst: l 0.812 a 0.805  clct[20, 20] ans[20, 20] cl_acc 1.000 2.748sec\n"
     ]
    },
    {
     "name": "stdout",
     "output_type": "stream",
     "text": [
      "Epoch 185 tr: l 0.745 a 0.823  clct[30, 30] ans[30, 30] lr 0.038945 cl_acc 1.000 44.179sec(train) 4.202sec(infer)\n"
     ]
    },
    {
     "name": "stdout",
     "output_type": "stream",
     "text": [
      "Epoch 185 tst: l 0.828 a 0.806  clct[20, 20] ans[20, 20] cl_acc 1.000 2.778sec\n"
     ]
    },
    {
     "name": "stdout",
     "output_type": "stream",
     "text": [
      "Epoch 186 tr: l 0.750 a 0.818  clct[32, 28] ans[28, 32] lr 0.038555 cl_acc 1.000 44.354sec(train) 4.602sec(infer)\n"
     ]
    },
    {
     "name": "stdout",
     "output_type": "stream",
     "text": [
      "Epoch 186 tst: l 0.830 a 0.802  clct[20, 20] ans[20, 20] cl_acc 1.000 2.786sec\n"
     ]
    },
    {
     "name": "stdout",
     "output_type": "stream",
     "text": [
      "Epoch 187 tr: l 0.752 a 0.817  clct[32, 28] ans[28, 32] lr 0.038170 cl_acc 1.000 44.193sec(train) 4.542sec(infer)\n"
     ]
    },
    {
     "name": "stdout",
     "output_type": "stream",
     "text": [
      "Epoch 187 tst: l 0.849 a 0.795  clct[20, 20] ans[20, 20] cl_acc 1.000 2.952sec\n"
     ]
    },
    {
     "name": "stdout",
     "output_type": "stream",
     "text": [
      "Epoch 188 tr: l 0.724 a 0.826  clct[32, 28] ans[28, 32] lr 0.037788 cl_acc 1.000 44.202sec(train) 4.636sec(infer)\n"
     ]
    },
    {
     "name": "stdout",
     "output_type": "stream",
     "text": [
      "Epoch 188 tst: l 0.826 a 0.806  clct[20, 20] ans[20, 20] cl_acc 1.000 2.834sec\n"
     ]
    },
    {
     "name": "stdout",
     "output_type": "stream",
     "text": [
      "Epoch 189 tr: l 0.706 a 0.832  clct[33, 27] ans[27, 33] lr 0.037410 cl_acc 1.000 44.174sec(train) 3.939sec(infer)\n"
     ]
    },
    {
     "name": "stdout",
     "output_type": "stream",
     "text": [
      "Epoch 189 tst: l 0.814 a 0.806  clct[20, 20] ans[20, 20] cl_acc 1.000 2.590sec\n"
     ]
    },
    {
     "name": "stdout",
     "output_type": "stream",
     "text": [
      "Epoch 190 tr: l 0.723 a 0.828  clct[33, 27] ans[27, 33] lr 0.037036 cl_acc 1.000 44.171sec(train) 4.474sec(infer)\n"
     ]
    },
    {
     "name": "stdout",
     "output_type": "stream",
     "text": [
      "Epoch 190 tst: l 0.810 a 0.808  clct[20, 20] ans[20, 20] cl_acc 1.000 2.978sec\n",
      "result written at output/results.pickle\n"
     ]
    },
    {
     "name": "stdout",
     "output_type": "stream",
     "text": [
      "Epoch 191 tr: l 0.739 a 0.820  clct[35, 25] ans[25, 35] lr 0.036666 cl_acc 1.000 44.323sec(train) 4.199sec(infer)\n"
     ]
    },
    {
     "name": "stdout",
     "output_type": "stream",
     "text": [
      "Epoch 191 tst: l 0.806 a 0.811  clct[20, 20] ans[20, 20] cl_acc 1.000 2.677sec\n"
     ]
    },
    {
     "name": "stdout",
     "output_type": "stream",
     "text": [
      "Epoch 192 tr: l 0.687 a 0.835  clct[18, 42] ans[42, 18] lr 0.036299 cl_acc 1.000 44.368sec(train) 4.583sec(infer)\n"
     ]
    },
    {
     "name": "stdout",
     "output_type": "stream",
     "text": [
      "Epoch 192 tst: l 0.795 a 0.809  clct[20, 20] ans[20, 20] cl_acc 1.000 2.903sec\n"
     ]
    },
    {
     "name": "stdout",
     "output_type": "stream",
     "text": [
      "Epoch 193 tr: l 0.701 a 0.834  clct[33, 27] ans[27, 33] lr 0.035936 cl_acc 1.000 44.252sec(train) 4.577sec(infer)\n"
     ]
    },
    {
     "name": "stdout",
     "output_type": "stream",
     "text": [
      "Epoch 193 tst: l 0.814 a 0.807  clct[20, 20] ans[20, 20] cl_acc 1.000 2.814sec\n"
     ]
    },
    {
     "name": "stdout",
     "output_type": "stream",
     "text": [
      "Epoch 194 tr: l 0.690 a 0.834  clct[30, 30] ans[30, 30] lr 0.035577 cl_acc 1.000 44.221sec(train) 4.588sec(infer)\n"
     ]
    },
    {
     "name": "stdout",
     "output_type": "stream",
     "text": [
      "Epoch 194 tst: l 0.809 a 0.809  clct[20, 20] ans[20, 20] cl_acc 1.000 2.891sec\n"
     ]
    },
    {
     "name": "stdout",
     "output_type": "stream",
     "text": [
      "Epoch 195 tr: l 0.704 a 0.830  clct[25, 35] ans[35, 25] lr 0.035221 cl_acc 1.000 43.952sec(train) 4.261sec(infer)\n"
     ]
    },
    {
     "name": "stdout",
     "output_type": "stream",
     "text": [
      "Epoch 195 tst: l 0.812 a 0.807  clct[20, 20] ans[20, 20] cl_acc 1.000 2.687sec\n"
     ]
    },
    {
     "name": "stdout",
     "output_type": "stream",
     "text": [
      "Epoch 196 tr: l 0.704 a 0.826  clct[22, 38] ans[38, 22] lr 0.034869 cl_acc 1.000 44.163sec(train) 4.572sec(infer)\n"
     ]
    },
    {
     "name": "stdout",
     "output_type": "stream",
     "text": [
      "Epoch 196 tst: l 0.804 a 0.806  clct[20, 20] ans[20, 20] cl_acc 1.000 2.861sec\n"
     ]
    },
    {
     "name": "stdout",
     "output_type": "stream",
     "text": [
      "Epoch 197 tr: l 0.688 a 0.836  clct[24, 36] ans[36, 24] lr 0.034520 cl_acc 1.000 44.140sec(train) 4.347sec(infer)\n"
     ]
    },
    {
     "name": "stdout",
     "output_type": "stream",
     "text": [
      "Epoch 197 tst: l 0.816 a 0.808  clct[20, 20] ans[20, 20] cl_acc 1.000 2.634sec\n"
     ]
    },
    {
     "name": "stdout",
     "output_type": "stream",
     "text": [
      "Epoch 198 tr: l 0.694 a 0.833  clct[26, 34] ans[34, 26] lr 0.034175 cl_acc 1.000 44.065sec(train) 4.165sec(infer)\n"
     ]
    },
    {
     "name": "stdout",
     "output_type": "stream",
     "text": [
      "Epoch 198 tst: l 0.801 a 0.809  clct[20, 20] ans[20, 20] cl_acc 1.000 2.589sec\n"
     ]
    },
    {
     "name": "stdout",
     "output_type": "stream",
     "text": [
      "Epoch 199 tr: l 0.664 a 0.842  clct[32, 28] ans[28, 32] lr 0.033833 cl_acc 1.000 44.164sec(train) 4.294sec(infer)\n"
     ]
    },
    {
     "name": "stdout",
     "output_type": "stream",
     "text": [
      "Epoch 199 tst: l 0.786 a 0.811  clct[20, 20] ans[20, 20] cl_acc 1.000 2.818sec\n"
     ]
    },
    {
     "name": "stdout",
     "output_type": "stream",
     "text": [
      "Epoch 200 tr: l 0.700 a 0.833  clct[30, 30] ans[30, 30] lr 0.033495 cl_acc 1.000 44.232sec(train) 4.488sec(infer)\n"
     ]
    },
    {
     "name": "stdout",
     "output_type": "stream",
     "text": [
      "Epoch 200 tst: l 0.801 a 0.808  clct[20, 20] ans[20, 20] cl_acc 1.000 2.797sec\n",
      "result written at output/results.pickle\n"
     ]
    },
    {
     "name": "stdout",
     "output_type": "stream",
     "text": [
      "Epoch 201 tr: l 0.683 a 0.836  clct[26, 34] ans[34, 26] lr 0.033160 cl_acc 1.000 44.169sec(train) 4.398sec(infer)\n"
     ]
    },
    {
     "name": "stdout",
     "output_type": "stream",
     "text": [
      "Epoch 201 tst: l 0.780 a 0.812  clct[20, 20] ans[20, 20] cl_acc 1.000 2.758sec\n"
     ]
    },
    {
     "name": "stdout",
     "output_type": "stream",
     "text": [
      "Epoch 202 tr: l 0.679 a 0.834  clct[27, 33] ans[33, 27] lr 0.032828 cl_acc 1.000 44.019sec(train) 4.441sec(infer)\n"
     ]
    },
    {
     "name": "stdout",
     "output_type": "stream",
     "text": [
      "Epoch 202 tst: l 0.800 a 0.812  clct[20, 20] ans[20, 20] cl_acc 1.000 2.767sec\n"
     ]
    },
    {
     "name": "stdout",
     "output_type": "stream",
     "text": [
      "Epoch 203 tr: l 0.664 a 0.841  clct[29, 31] ans[31, 29] lr 0.032500 cl_acc 1.000 44.378sec(train) 4.236sec(infer)\n"
     ]
    },
    {
     "name": "stdout",
     "output_type": "stream",
     "text": [
      "Epoch 203 tst: l 0.797 a 0.808  clct[20, 20] ans[20, 20] cl_acc 1.000 2.625sec\n"
     ]
    },
    {
     "name": "stdout",
     "output_type": "stream",
     "text": [
      "Epoch 204 tr: l 0.701 a 0.829  clct[33, 27] ans[27, 33] lr 0.032175 cl_acc 1.000 44.379sec(train) 4.340sec(infer)\n"
     ]
    },
    {
     "name": "stdout",
     "output_type": "stream",
     "text": [
      "Epoch 204 tst: l 0.809 a 0.805  clct[20, 20] ans[20, 20] cl_acc 1.000 2.826sec\n"
     ]
    },
    {
     "name": "stdout",
     "output_type": "stream",
     "text": [
      "Epoch 205 tr: l 0.660 a 0.839  clct[29, 31] ans[31, 29] lr 0.031853 cl_acc 1.000 44.182sec(train) 4.348sec(infer)\n"
     ]
    },
    {
     "name": "stdout",
     "output_type": "stream",
     "text": [
      "Epoch 205 tst: l 0.780 a 0.810  clct[20, 20] ans[20, 20] cl_acc 1.000 2.810sec\n"
     ]
    },
    {
     "name": "stdout",
     "output_type": "stream",
     "text": [
      "Epoch 206 tr: l 0.681 a 0.838  clct[30, 30] ans[30, 30] lr 0.031535 cl_acc 1.000 44.044sec(train) 4.397sec(infer)\n"
     ]
    },
    {
     "name": "stdout",
     "output_type": "stream",
     "text": [
      "Epoch 206 tst: l 0.791 a 0.814  clct[20, 20] ans[20, 20] cl_acc 1.000 2.732sec\n"
     ]
    },
    {
     "name": "stdout",
     "output_type": "stream",
     "text": [
      "Epoch 207 tr: l 0.648 a 0.843  clct[34, 26] ans[26, 34] lr 0.031219 cl_acc 1.000 43.948sec(train) 4.116sec(infer)\n"
     ]
    },
    {
     "name": "stdout",
     "output_type": "stream",
     "text": [
      "Epoch 207 tst: l 0.775 a 0.814  clct[20, 20] ans[20, 20] cl_acc 1.000 2.581sec\n"
     ]
    },
    {
     "name": "stdout",
     "output_type": "stream",
     "text": [
      "Epoch 208 tr: l 0.684 a 0.836  clct[25, 35] ans[35, 25] lr 0.030907 cl_acc 1.000 44.007sec(train) 4.131sec(infer)\n"
     ]
    },
    {
     "name": "stdout",
     "output_type": "stream",
     "text": [
      "Epoch 208 tst: l 0.778 a 0.816  clct[20, 20] ans[20, 20] cl_acc 1.000 2.542sec\n"
     ]
    },
    {
     "name": "stdout",
     "output_type": "stream",
     "text": [
      "Epoch 209 tr: l 0.685 a 0.836  clct[30, 30] ans[30, 30] lr 0.030598 cl_acc 1.000 44.311sec(train) 4.130sec(infer)\n"
     ]
    },
    {
     "name": "stdout",
     "output_type": "stream",
     "text": [
      "Epoch 209 tst: l 0.795 a 0.813  clct[20, 20] ans[20, 20] cl_acc 1.000 2.689sec\n"
     ]
    },
    {
     "name": "stdout",
     "output_type": "stream",
     "text": [
      "Epoch 210 tr: l 0.639 a 0.848  clct[29, 31] ans[31, 29] lr 0.030292 cl_acc 1.000 44.297sec(train) 4.212sec(infer)\n"
     ]
    },
    {
     "name": "stdout",
     "output_type": "stream",
     "text": [
      "Epoch 210 tst: l 0.783 a 0.809  clct[20, 20] ans[20, 20] cl_acc 1.000 2.622sec\n",
      "result written at output/results.pickle\n"
     ]
    },
    {
     "name": "stdout",
     "output_type": "stream",
     "text": [
      "Epoch 211 tr: l 0.665 a 0.839  clct[29, 31] ans[31, 29] lr 0.029989 cl_acc 1.000 44.319sec(train) 4.029sec(infer)\n"
     ]
    },
    {
     "name": "stdout",
     "output_type": "stream",
     "text": [
      "Epoch 211 tst: l 0.775 a 0.816  clct[20, 20] ans[20, 20] cl_acc 1.000 2.537sec\n"
     ]
    },
    {
     "name": "stdout",
     "output_type": "stream",
     "text": [
      "Epoch 212 tr: l 0.667 a 0.840  clct[33, 27] ans[27, 33] lr 0.029689 cl_acc 1.000 44.214sec(train) 4.178sec(infer)\n"
     ]
    },
    {
     "name": "stdout",
     "output_type": "stream",
     "text": [
      "Epoch 212 tst: l 0.776 a 0.816  clct[20, 20] ans[20, 20] cl_acc 1.000 2.661sec\n"
     ]
    },
    {
     "name": "stdout",
     "output_type": "stream",
     "text": [
      "Epoch 213 tr: l 0.664 a 0.843  clct[32, 28] ans[28, 32] lr 0.029392 cl_acc 1.000 44.350sec(train) 4.260sec(infer)\n"
     ]
    },
    {
     "name": "stdout",
     "output_type": "stream",
     "text": [
      "Epoch 213 tst: l 0.800 a 0.811  clct[20, 20] ans[20, 20] cl_acc 1.000 2.769sec\n"
     ]
    },
    {
     "name": "stdout",
     "output_type": "stream",
     "text": [
      "Epoch 214 tr: l 0.681 a 0.835  clct[25, 35] ans[35, 25] lr 0.029099 cl_acc 1.000 44.081sec(train) 4.458sec(infer)\n"
     ]
    },
    {
     "name": "stdout",
     "output_type": "stream",
     "text": [
      "Epoch 214 tst: l 0.783 a 0.812  clct[20, 20] ans[20, 20] cl_acc 1.000 2.701sec\n"
     ]
    },
    {
     "name": "stdout",
     "output_type": "stream",
     "text": [
      "Epoch 215 tr: l 0.652 a 0.844  clct[29, 31] ans[31, 29] lr 0.028808 cl_acc 1.000 44.468sec(train) 3.945sec(infer)\n"
     ]
    },
    {
     "name": "stdout",
     "output_type": "stream",
     "text": [
      "Epoch 215 tst: l 0.778 a 0.814  clct[20, 20] ans[20, 20] cl_acc 1.000 2.383sec\n"
     ]
    },
    {
     "name": "stdout",
     "output_type": "stream",
     "text": [
      "Epoch 216 tr: l 0.645 a 0.843  clct[31, 29] ans[29, 31] lr 0.028520 cl_acc 1.000 44.493sec(train) 4.204sec(infer)\n"
     ]
    },
    {
     "name": "stdout",
     "output_type": "stream",
     "text": [
      "Epoch 216 tst: l 0.782 a 0.813  clct[20, 20] ans[20, 20] cl_acc 1.000 2.572sec\n"
     ]
    },
    {
     "name": "stdout",
     "output_type": "stream",
     "text": [
      "Epoch 217 tr: l 0.645 a 0.847  clct[27, 33] ans[33, 27] lr 0.028234 cl_acc 1.000 44.543sec(train) 3.976sec(infer)\n"
     ]
    },
    {
     "name": "stdout",
     "output_type": "stream",
     "text": [
      "Epoch 217 tst: l 0.779 a 0.814  clct[20, 20] ans[20, 20] cl_acc 1.000 2.413sec\n"
     ]
    },
    {
     "name": "stdout",
     "output_type": "stream",
     "text": [
      "Epoch 218 tr: l 0.658 a 0.842  clct[30, 30] ans[30, 30] lr 0.027952 cl_acc 1.000 44.602sec(train) 4.307sec(infer)\n"
     ]
    },
    {
     "name": "stdout",
     "output_type": "stream",
     "text": [
      "Epoch 218 tst: l 0.787 a 0.813  clct[20, 20] ans[20, 20] cl_acc 1.000 2.710sec\n"
     ]
    },
    {
     "name": "stdout",
     "output_type": "stream",
     "text": [
      "Epoch 219 tr: l 0.639 a 0.848  clct[28, 32] ans[32, 28] lr 0.027672 cl_acc 1.000 44.651sec(train) 4.215sec(infer)\n"
     ]
    },
    {
     "name": "stdout",
     "output_type": "stream",
     "text": [
      "Epoch 219 tst: l 0.790 a 0.809  clct[20, 20] ans[20, 20] cl_acc 1.000 2.668sec\n"
     ]
    },
    {
     "name": "stdout",
     "output_type": "stream",
     "text": [
      "Epoch 220 tr: l 0.651 a 0.845  clct[35, 25] ans[25, 35] lr 0.027396 cl_acc 1.000 44.250sec(train) 4.118sec(infer)\n"
     ]
    },
    {
     "name": "stdout",
     "output_type": "stream",
     "text": [
      "Epoch 220 tst: l 0.790 a 0.811  clct[20, 20] ans[20, 20] cl_acc 1.000 2.573sec\n",
      "result written at output/results.pickle\n"
     ]
    },
    {
     "name": "stdout",
     "output_type": "stream",
     "text": [
      "Epoch 221 tr: l 0.649 a 0.844  clct[34, 26] ans[26, 34] lr 0.027122 cl_acc 1.000 44.492sec(train) 4.301sec(infer)\n"
     ]
    },
    {
     "name": "stdout",
     "output_type": "stream",
     "text": [
      "Epoch 221 tst: l 0.784 a 0.817  clct[20, 20] ans[20, 20] cl_acc 1.000 2.597sec\n"
     ]
    },
    {
     "name": "stdout",
     "output_type": "stream",
     "text": [
      "Epoch 222 tr: l 0.644 a 0.844  clct[29, 31] ans[31, 29] lr 0.026851 cl_acc 1.000 44.158sec(train) 4.151sec(infer)\n"
     ]
    },
    {
     "name": "stdout",
     "output_type": "stream",
     "text": [
      "Epoch 222 tst: l 0.790 a 0.811  clct[20, 20] ans[20, 20] cl_acc 1.000 2.522sec\n"
     ]
    },
    {
     "name": "stdout",
     "output_type": "stream",
     "text": [
      "Epoch 223 tr: l 0.628 a 0.851  clct[34, 26] ans[26, 34] lr 0.026582 cl_acc 1.000 44.173sec(train) 3.711sec(infer)\n"
     ]
    },
    {
     "name": "stdout",
     "output_type": "stream",
     "text": [
      "Epoch 223 tst: l 0.781 a 0.814  clct[20, 20] ans[20, 20] cl_acc 1.000 2.336sec\n"
     ]
    },
    {
     "name": "stdout",
     "output_type": "stream",
     "text": [
      "Epoch 224 tr: l 0.668 a 0.836  clct[29, 31] ans[31, 29] lr 0.026316 cl_acc 1.000 44.410sec(train) 3.971sec(infer)\n"
     ]
    },
    {
     "name": "stdout",
     "output_type": "stream",
     "text": [
      "Epoch 224 tst: l 0.779 a 0.814  clct[20, 20] ans[20, 20] cl_acc 1.000 2.587sec\n"
     ]
    },
    {
     "name": "stdout",
     "output_type": "stream",
     "text": [
      "Epoch 225 tr: l 0.635 a 0.845  clct[32, 28] ans[28, 32] lr 0.026053 cl_acc 1.000 44.095sec(train) 3.845sec(infer)\n"
     ]
    },
    {
     "name": "stdout",
     "output_type": "stream",
     "text": [
      "Epoch 225 tst: l 0.762 a 0.819  clct[20, 20] ans[20, 20] cl_acc 1.000 2.379sec\n"
     ]
    },
    {
     "name": "stdout",
     "output_type": "stream",
     "text": [
      "Epoch 226 tr: l 0.638 a 0.849  clct[30, 30] ans[30, 30] lr 0.025793 cl_acc 1.000 44.443sec(train) 3.821sec(infer)\n"
     ]
    },
    {
     "name": "stdout",
     "output_type": "stream",
     "text": [
      "Epoch 226 tst: l 0.776 a 0.817  clct[20, 20] ans[20, 20] cl_acc 1.000 2.382sec\n"
     ]
    },
    {
     "name": "stdout",
     "output_type": "stream",
     "text": [
      "Epoch 227 tr: l 0.642 a 0.844  clct[28, 32] ans[32, 28] lr 0.025535 cl_acc 1.000 44.501sec(train) 3.924sec(infer)\n"
     ]
    },
    {
     "name": "stdout",
     "output_type": "stream",
     "text": [
      "Epoch 227 tst: l 0.765 a 0.816  clct[20, 20] ans[20, 20] cl_acc 1.000 2.405sec\n"
     ]
    },
    {
     "name": "stdout",
     "output_type": "stream",
     "text": [
      "Epoch 228 tr: l 0.600 a 0.858  clct[31, 29] ans[29, 31] lr 0.025279 cl_acc 1.000 44.405sec(train) 4.053sec(infer)\n"
     ]
    },
    {
     "name": "stdout",
     "output_type": "stream",
     "text": [
      "Epoch 228 tst: l 0.764 a 0.818  clct[20, 20] ans[20, 20] cl_acc 1.000 2.407sec\n"
     ]
    },
    {
     "name": "stdout",
     "output_type": "stream",
     "text": [
      "Epoch 229 tr: l 0.634 a 0.846  clct[34, 26] ans[26, 34] lr 0.025026 cl_acc 1.000 44.367sec(train) 3.790sec(infer)\n"
     ]
    },
    {
     "name": "stdout",
     "output_type": "stream",
     "text": [
      "Epoch 229 tst: l 0.759 a 0.816  clct[20, 20] ans[20, 20] cl_acc 1.000 2.274sec\n"
     ]
    },
    {
     "name": "stdout",
     "output_type": "stream",
     "text": [
      "Epoch 230 tr: l 0.629 a 0.852  clct[33, 27] ans[27, 33] lr 0.024776 cl_acc 1.000 44.175sec(train) 3.815sec(infer)\n"
     ]
    },
    {
     "name": "stdout",
     "output_type": "stream",
     "text": [
      "Epoch 230 tst: l 0.777 a 0.817  clct[20, 20] ans[20, 20] cl_acc 1.000 2.342sec\n",
      "result written at output/results.pickle\n"
     ]
    },
    {
     "name": "stdout",
     "output_type": "stream",
     "text": [
      "Epoch 231 tr: l 0.597 a 0.858  clct[32, 28] ans[28, 32] lr 0.024528 cl_acc 1.000 44.336sec(train) 3.884sec(infer)\n"
     ]
    },
    {
     "name": "stdout",
     "output_type": "stream",
     "text": [
      "Epoch 231 tst: l 0.774 a 0.817  clct[20, 20] ans[20, 20] cl_acc 1.000 2.436sec\n"
     ]
    },
    {
     "name": "stdout",
     "output_type": "stream",
     "text": [
      "Epoch 232 tr: l 0.613 a 0.851  clct[30, 30] ans[30, 30] lr 0.024283 cl_acc 1.000 44.321sec(train) 3.953sec(infer)\n"
     ]
    },
    {
     "name": "stdout",
     "output_type": "stream",
     "text": [
      "Epoch 232 tst: l 0.747 a 0.819  clct[20, 20] ans[20, 20] cl_acc 1.000 2.465sec\n"
     ]
    },
    {
     "name": "stdout",
     "output_type": "stream",
     "text": [
      "Epoch 233 tr: l 0.594 a 0.858  clct[27, 33] ans[33, 27] lr 0.024040 cl_acc 1.000 44.101sec(train) 3.850sec(infer)\n"
     ]
    },
    {
     "name": "stdout",
     "output_type": "stream",
     "text": [
      "Epoch 233 tst: l 0.752 a 0.819  clct[20, 20] ans[20, 20] cl_acc 1.000 2.321sec\n"
     ]
    },
    {
     "name": "stdout",
     "output_type": "stream",
     "text": [
      "Epoch 234 tr: l 0.593 a 0.857  clct[25, 35] ans[35, 25] lr 0.023800 cl_acc 1.000 44.147sec(train) 3.649sec(infer)\n"
     ]
    },
    {
     "name": "stdout",
     "output_type": "stream",
     "text": [
      "Epoch 234 tst: l 0.756 a 0.818  clct[20, 20] ans[20, 20] cl_acc 1.000 2.296sec\n"
     ]
    },
    {
     "name": "stdout",
     "output_type": "stream",
     "text": [
      "Epoch 235 tr: l 0.628 a 0.848  clct[29, 31] ans[31, 29] lr 0.023562 cl_acc 1.000 44.211sec(train) 3.848sec(infer)\n"
     ]
    },
    {
     "name": "stdout",
     "output_type": "stream",
     "text": [
      "Epoch 235 tst: l 0.759 a 0.818  clct[20, 20] ans[20, 20] cl_acc 1.000 2.356sec\n"
     ]
    },
    {
     "name": "stdout",
     "output_type": "stream",
     "text": [
      "Epoch 236 tr: l 0.591 a 0.860  clct[35, 25] ans[25, 35] lr 0.023326 cl_acc 1.000 44.342sec(train) 3.867sec(infer)\n"
     ]
    },
    {
     "name": "stdout",
     "output_type": "stream",
     "text": [
      "Epoch 236 tst: l 0.745 a 0.824  clct[20, 20] ans[20, 20] cl_acc 1.000 2.453sec\n"
     ]
    },
    {
     "name": "stdout",
     "output_type": "stream",
     "text": [
      "Epoch 237 tr: l 0.611 a 0.851  clct[28, 32] ans[32, 28] lr 0.023093 cl_acc 1.000 44.446sec(train) 3.902sec(infer)\n"
     ]
    },
    {
     "name": "stdout",
     "output_type": "stream",
     "text": [
      "Epoch 237 tst: l 0.749 a 0.822  clct[20, 20] ans[20, 20] cl_acc 1.000 2.389sec\n"
     ]
    },
    {
     "name": "stdout",
     "output_type": "stream",
     "text": [
      "Epoch 238 tr: l 0.597 a 0.856  clct[32, 28] ans[28, 32] lr 0.022862 cl_acc 1.000 44.383sec(train) 3.825sec(infer)\n"
     ]
    },
    {
     "name": "stdout",
     "output_type": "stream",
     "text": [
      "Epoch 238 tst: l 0.739 a 0.824  clct[20, 20] ans[20, 20] cl_acc 1.000 2.446sec\n"
     ]
    },
    {
     "name": "stdout",
     "output_type": "stream",
     "text": [
      "Epoch 239 tr: l 0.605 a 0.851  clct[27, 33] ans[33, 27] lr 0.022633 cl_acc 1.000 44.112sec(train) 3.869sec(infer)\n"
     ]
    },
    {
     "name": "stdout",
     "output_type": "stream",
     "text": [
      "Epoch 239 tst: l 0.758 a 0.818  clct[20, 20] ans[20, 20] cl_acc 1.000 2.388sec\n"
     ]
    },
    {
     "name": "stdout",
     "output_type": "stream",
     "text": [
      "Epoch 240 tr: l 0.619 a 0.848  clct[30, 30] ans[30, 30] lr 0.022407 cl_acc 1.000 44.383sec(train) 4.033sec(infer)\n"
     ]
    },
    {
     "name": "stdout",
     "output_type": "stream",
     "text": [
      "Epoch 240 tst: l 0.747 a 0.821  clct[20, 20] ans[20, 20] cl_acc 1.000 2.554sec\n",
      "result written at output/results.pickle\n"
     ]
    },
    {
     "name": "stdout",
     "output_type": "stream",
     "text": [
      "Epoch 241 tr: l 0.595 a 0.855  clct[30, 30] ans[30, 30] lr 0.022183 cl_acc 1.000 44.541sec(train) 3.884sec(infer)\n"
     ]
    },
    {
     "name": "stdout",
     "output_type": "stream",
     "text": [
      "Epoch 241 tst: l 0.740 a 0.822  clct[20, 20] ans[20, 20] cl_acc 1.000 2.501sec\n"
     ]
    },
    {
     "name": "stdout",
     "output_type": "stream",
     "text": [
      "Epoch 242 tr: l 0.617 a 0.849  clct[25, 35] ans[35, 25] lr 0.021961 cl_acc 1.000 44.581sec(train) 4.039sec(infer)\n"
     ]
    },
    {
     "name": "stdout",
     "output_type": "stream",
     "text": [
      "Epoch 242 tst: l 0.762 a 0.819  clct[20, 20] ans[20, 20] cl_acc 1.000 2.415sec\n"
     ]
    },
    {
     "name": "stdout",
     "output_type": "stream",
     "text": [
      "Epoch 243 tr: l 0.569 a 0.864  clct[22, 38] ans[38, 22] lr 0.021742 cl_acc 1.000 44.324sec(train) 4.052sec(infer)\n"
     ]
    },
    {
     "name": "stdout",
     "output_type": "stream",
     "text": [
      "Epoch 243 tst: l 0.748 a 0.819  clct[20, 20] ans[20, 20] cl_acc 1.000 2.450sec\n"
     ]
    },
    {
     "name": "stdout",
     "output_type": "stream",
     "text": [
      "Epoch 244 tr: l 0.627 a 0.847  clct[29, 31] ans[31, 29] lr 0.021524 cl_acc 1.000 44.162sec(train) 3.744sec(infer)\n"
     ]
    },
    {
     "name": "stdout",
     "output_type": "stream",
     "text": [
      "Epoch 244 tst: l 0.749 a 0.819  clct[20, 20] ans[20, 20] cl_acc 1.000 2.366sec\n"
     ]
    },
    {
     "name": "stdout",
     "output_type": "stream",
     "text": [
      "Epoch 245 tr: l 0.587 a 0.860  clct[33, 27] ans[27, 33] lr 0.021309 cl_acc 1.000 44.235sec(train) 3.924sec(infer)\n"
     ]
    },
    {
     "name": "stdout",
     "output_type": "stream",
     "text": [
      "Epoch 245 tst: l 0.752 a 0.823  clct[20, 20] ans[20, 20] cl_acc 1.000 2.442sec\n"
     ]
    },
    {
     "name": "stdout",
     "output_type": "stream",
     "text": [
      "Epoch 246 tr: l 0.575 a 0.861  clct[24, 36] ans[36, 24] lr 0.021096 cl_acc 1.000 44.565sec(train) 3.946sec(infer)\n"
     ]
    },
    {
     "name": "stdout",
     "output_type": "stream",
     "text": [
      "Epoch 246 tst: l 0.755 a 0.820  clct[20, 20] ans[20, 20] cl_acc 1.000 2.380sec\n"
     ]
    },
    {
     "name": "stdout",
     "output_type": "stream",
     "text": [
      "Epoch 247 tr: l 0.590 a 0.858  clct[34, 26] ans[26, 34] lr 0.020885 cl_acc 1.000 44.205sec(train) 3.847sec(infer)\n"
     ]
    },
    {
     "name": "stdout",
     "output_type": "stream",
     "text": [
      "Epoch 247 tst: l 0.745 a 0.819  clct[20, 20] ans[20, 20] cl_acc 1.000 2.399sec\n"
     ]
    },
    {
     "name": "stdout",
     "output_type": "stream",
     "text": [
      "Epoch 248 tr: l 0.589 a 0.857  clct[35, 25] ans[25, 35] lr 0.020676 cl_acc 1.000 44.148sec(train) 3.958sec(infer)\n"
     ]
    },
    {
     "name": "stdout",
     "output_type": "stream",
     "text": [
      "Epoch 248 tst: l 0.757 a 0.817  clct[20, 20] ans[20, 20] cl_acc 1.000 2.452sec\n"
     ]
    },
    {
     "name": "stdout",
     "output_type": "stream",
     "text": [
      "Epoch 249 tr: l 0.583 a 0.858  clct[32, 28] ans[28, 32] lr 0.020469 cl_acc 1.000 44.314sec(train) 3.957sec(infer)\n"
     ]
    },
    {
     "name": "stdout",
     "output_type": "stream",
     "text": [
      "Epoch 249 tst: l 0.739 a 0.818  clct[20, 20] ans[20, 20] cl_acc 1.000 2.449sec\n"
     ]
    },
    {
     "name": "stdout",
     "output_type": "stream",
     "text": [
      "Epoch 250 tr: l 0.582 a 0.860  clct[33, 27] ans[27, 33] lr 0.020265 cl_acc 1.000 44.071sec(train) 3.998sec(infer)\n"
     ]
    },
    {
     "name": "stdout",
     "output_type": "stream",
     "text": [
      "Epoch 250 tst: l 0.724 a 0.827  clct[20, 20] ans[20, 20] cl_acc 1.000 2.461sec\n",
      "result written at output/results.pickle\n"
     ]
    },
    {
     "name": "stdout",
     "output_type": "stream",
     "text": [
      "Epoch 251 tr: l 0.596 a 0.855  clct[29, 31] ans[31, 29] lr 0.020062 cl_acc 1.000 44.386sec(train) 4.163sec(infer)\n"
     ]
    },
    {
     "name": "stdout",
     "output_type": "stream",
     "text": [
      "Epoch 251 tst: l 0.735 a 0.823  clct[20, 20] ans[20, 20] cl_acc 1.000 2.535sec\n"
     ]
    },
    {
     "name": "stdout",
     "output_type": "stream",
     "text": [
      "Epoch 252 tr: l 0.583 a 0.860  clct[32, 28] ans[28, 32] lr 0.019861 cl_acc 1.000 44.310sec(train) 3.915sec(infer)\n"
     ]
    },
    {
     "name": "stdout",
     "output_type": "stream",
     "text": [
      "Epoch 252 tst: l 0.744 a 0.819  clct[20, 20] ans[20, 20] cl_acc 1.000 2.447sec\n"
     ]
    },
    {
     "name": "stdout",
     "output_type": "stream",
     "text": [
      "Epoch 253 tr: l 0.557 a 0.869  clct[31, 29] ans[29, 31] lr 0.019663 cl_acc 1.000 44.165sec(train) 4.178sec(infer)\n"
     ]
    },
    {
     "name": "stdout",
     "output_type": "stream",
     "text": [
      "Epoch 253 tst: l 0.724 a 0.826  clct[20, 20] ans[20, 20] cl_acc 1.000 2.689sec\n"
     ]
    },
    {
     "name": "stdout",
     "output_type": "stream",
     "text": [
      "Epoch 254 tr: l 0.578 a 0.861  clct[24, 36] ans[36, 24] lr 0.019466 cl_acc 1.000 44.282sec(train) 3.888sec(infer)\n"
     ]
    },
    {
     "name": "stdout",
     "output_type": "stream",
     "text": [
      "Epoch 254 tst: l 0.735 a 0.822  clct[20, 20] ans[20, 20] cl_acc 1.000 2.422sec\n"
     ]
    },
    {
     "name": "stdout",
     "output_type": "stream",
     "text": [
      "Epoch 255 tr: l 0.587 a 0.857  clct[27, 33] ans[33, 27] lr 0.019271 cl_acc 1.000 44.047sec(train) 3.834sec(infer)\n"
     ]
    },
    {
     "name": "stdout",
     "output_type": "stream",
     "text": [
      "Epoch 255 tst: l 0.727 a 0.823  clct[20, 20] ans[20, 20] cl_acc 1.000 2.419sec\n"
     ]
    },
    {
     "name": "stdout",
     "output_type": "stream",
     "text": [
      "Epoch 256 tr: l 0.558 a 0.865  clct[31, 29] ans[29, 31] lr 0.019079 cl_acc 1.000 43.823sec(train) 3.984sec(infer)\n"
     ]
    },
    {
     "name": "stdout",
     "output_type": "stream",
     "text": [
      "Epoch 256 tst: l 0.733 a 0.823  clct[20, 20] ans[20, 20] cl_acc 1.000 2.493sec\n"
     ]
    },
    {
     "name": "stdout",
     "output_type": "stream",
     "text": [
      "Epoch 257 tr: l 0.591 a 0.855  clct[35, 25] ans[25, 35] lr 0.018888 cl_acc 1.000 43.855sec(train) 3.687sec(infer)\n"
     ]
    },
    {
     "name": "stdout",
     "output_type": "stream",
     "text": [
      "Epoch 257 tst: l 0.748 a 0.819  clct[20, 20] ans[20, 20] cl_acc 1.000 2.332sec\n"
     ]
    },
    {
     "name": "stdout",
     "output_type": "stream",
     "text": [
      "Epoch 258 tr: l 0.569 a 0.861  clct[24, 36] ans[36, 24] lr 0.018699 cl_acc 1.000 44.092sec(train) 3.676sec(infer)\n"
     ]
    },
    {
     "name": "stdout",
     "output_type": "stream",
     "text": [
      "Epoch 258 tst: l 0.736 a 0.824  clct[20, 20] ans[20, 20] cl_acc 1.000 2.252sec\n"
     ]
    },
    {
     "name": "stdout",
     "output_type": "stream",
     "text": [
      "Epoch 259 tr: l 0.564 a 0.864  clct[27, 33] ans[33, 27] lr 0.018512 cl_acc 1.000 44.137sec(train) 3.804sec(infer)\n"
     ]
    },
    {
     "name": "stdout",
     "output_type": "stream",
     "text": [
      "Epoch 259 tst: l 0.742 a 0.824  clct[20, 20] ans[20, 20] cl_acc 1.000 2.414sec\n"
     ]
    },
    {
     "name": "stdout",
     "output_type": "stream",
     "text": [
      "Epoch 260 tr: l 0.561 a 0.862  clct[31, 29] ans[29, 31] lr 0.018327 cl_acc 1.000 44.524sec(train) 3.725sec(infer)\n"
     ]
    },
    {
     "name": "stdout",
     "output_type": "stream",
     "text": [
      "Epoch 260 tst: l 0.717 a 0.825  clct[20, 20] ans[20, 20] cl_acc 1.000 2.312sec\n",
      "result written at output/results.pickle\n"
     ]
    },
    {
     "name": "stdout",
     "output_type": "stream",
     "text": [
      "Epoch 261 tr: l 0.553 a 0.867  clct[30, 30] ans[30, 30] lr 0.018144 cl_acc 1.000 44.441sec(train) 4.050sec(infer)\n"
     ]
    },
    {
     "name": "stdout",
     "output_type": "stream",
     "text": [
      "Epoch 261 tst: l 0.742 a 0.823  clct[20, 20] ans[20, 20] cl_acc 1.000 2.334sec\n"
     ]
    },
    {
     "name": "stdout",
     "output_type": "stream",
     "text": [
      "Epoch 262 tr: l 0.563 a 0.864  clct[33, 27] ans[27, 33] lr 0.017962 cl_acc 1.000 43.956sec(train) 3.916sec(infer)\n"
     ]
    },
    {
     "name": "stdout",
     "output_type": "stream",
     "text": [
      "Epoch 262 tst: l 0.737 a 0.823  clct[20, 20] ans[20, 20] cl_acc 1.000 2.486sec\n"
     ]
    },
    {
     "name": "stdout",
     "output_type": "stream",
     "text": [
      "Epoch 263 tr: l 0.572 a 0.862  clct[31, 29] ans[29, 31] lr 0.017783 cl_acc 1.000 43.952sec(train) 3.773sec(infer)\n"
     ]
    },
    {
     "name": "stdout",
     "output_type": "stream",
     "text": [
      "Epoch 263 tst: l 0.741 a 0.826  clct[20, 20] ans[20, 20] cl_acc 1.000 2.272sec\n"
     ]
    },
    {
     "name": "stdout",
     "output_type": "stream",
     "text": [
      "Epoch 264 tr: l 0.545 a 0.869  clct[31, 29] ans[29, 31] lr 0.017605 cl_acc 1.000 43.666sec(train) 3.744sec(infer)\n"
     ]
    },
    {
     "name": "stdout",
     "output_type": "stream",
     "text": [
      "Epoch 264 tst: l 0.721 a 0.828  clct[20, 20] ans[20, 20] cl_acc 1.000 2.220sec\n"
     ]
    },
    {
     "name": "stdout",
     "output_type": "stream",
     "text": [
      "Epoch 265 tr: l 0.575 a 0.859  clct[32, 28] ans[28, 32] lr 0.017429 cl_acc 1.000 43.897sec(train) 3.942sec(infer)\n"
     ]
    },
    {
     "name": "stdout",
     "output_type": "stream",
     "text": [
      "Epoch 265 tst: l 0.735 a 0.822  clct[20, 20] ans[20, 20] cl_acc 1.000 2.393sec\n"
     ]
    },
    {
     "name": "stdout",
     "output_type": "stream",
     "text": [
      "Epoch 266 tr: l 0.544 a 0.869  clct[28, 32] ans[32, 28] lr 0.017254 cl_acc 1.000 43.836sec(train) 3.587sec(infer)\n"
     ]
    },
    {
     "name": "stdout",
     "output_type": "stream",
     "text": [
      "Epoch 266 tst: l 0.720 a 0.827  clct[20, 20] ans[20, 20] cl_acc 1.000 2.230sec\n"
     ]
    },
    {
     "name": "stdout",
     "output_type": "stream",
     "text": [
      "Epoch 267 tr: l 0.557 a 0.865  clct[29, 31] ans[31, 29] lr 0.017082 cl_acc 1.000 43.985sec(train) 3.861sec(infer)\n"
     ]
    },
    {
     "name": "stdout",
     "output_type": "stream",
     "text": [
      "Epoch 267 tst: l 0.724 a 0.827  clct[20, 20] ans[20, 20] cl_acc 1.000 2.458sec\n"
     ]
    },
    {
     "name": "stdout",
     "output_type": "stream",
     "text": [
      "Epoch 268 tr: l 0.558 a 0.864  clct[26, 34] ans[34, 26] lr 0.016911 cl_acc 1.000 44.384sec(train) 3.722sec(infer)\n"
     ]
    },
    {
     "name": "stdout",
     "output_type": "stream",
     "text": [
      "Epoch 268 tst: l 0.733 a 0.819  clct[20, 20] ans[20, 20] cl_acc 1.000 2.224sec\n"
     ]
    },
    {
     "name": "stdout",
     "output_type": "stream",
     "text": [
      "Epoch 269 tr: l 0.553 a 0.866  clct[28, 32] ans[32, 28] lr 0.016742 cl_acc 1.000 44.241sec(train) 3.665sec(infer)\n"
     ]
    },
    {
     "name": "stdout",
     "output_type": "stream",
     "text": [
      "Epoch 269 tst: l 0.725 a 0.825  clct[20, 20] ans[20, 20] cl_acc 1.000 2.317sec\n"
     ]
    },
    {
     "name": "stdout",
     "output_type": "stream",
     "text": [
      "Epoch 270 tr: l 0.567 a 0.863  clct[33, 27] ans[27, 33] lr 0.016575 cl_acc 1.000 44.283sec(train) 3.830sec(infer)\n"
     ]
    },
    {
     "name": "stdout",
     "output_type": "stream",
     "text": [
      "Epoch 270 tst: l 0.738 a 0.826  clct[20, 20] ans[20, 20] cl_acc 1.000 2.434sec\n",
      "result written at output/results.pickle\n"
     ]
    },
    {
     "name": "stdout",
     "output_type": "stream",
     "text": [
      "Epoch 271 tr: l 0.535 a 0.872  clct[32, 28] ans[28, 32] lr 0.016409 cl_acc 1.000 44.260sec(train) 3.911sec(infer)\n"
     ]
    },
    {
     "name": "stdout",
     "output_type": "stream",
     "text": [
      "Epoch 271 tst: l 0.723 a 0.827  clct[20, 20] ans[20, 20] cl_acc 1.000 2.481sec\n"
     ]
    },
    {
     "name": "stdout",
     "output_type": "stream",
     "text": [
      "Epoch 272 tr: l 0.537 a 0.871  clct[32, 28] ans[28, 32] lr 0.016245 cl_acc 1.000 44.316sec(train) 4.027sec(infer)\n"
     ]
    },
    {
     "name": "stdout",
     "output_type": "stream",
     "text": [
      "Epoch 272 tst: l 0.724 a 0.822  clct[20, 20] ans[20, 20] cl_acc 1.000 2.387sec\n"
     ]
    },
    {
     "name": "stdout",
     "output_type": "stream",
     "text": [
      "Epoch 273 tr: l 0.523 a 0.874  clct[30, 30] ans[30, 30] lr 0.016082 cl_acc 1.000 44.402sec(train) 3.842sec(infer)\n"
     ]
    },
    {
     "name": "stdout",
     "output_type": "stream",
     "text": [
      "Epoch 273 tst: l 0.734 a 0.826  clct[20, 20] ans[20, 20] cl_acc 1.000 2.432sec\n"
     ]
    },
    {
     "name": "stdout",
     "output_type": "stream",
     "text": [
      "Epoch 274 tr: l 0.570 a 0.861  clct[29, 31] ans[31, 29] lr 0.015921 cl_acc 1.000 44.527sec(train) 3.806sec(infer)\n"
     ]
    },
    {
     "name": "stdout",
     "output_type": "stream",
     "text": [
      "Epoch 274 tst: l 0.737 a 0.823  clct[20, 20] ans[20, 20] cl_acc 1.000 2.360sec\n"
     ]
    },
    {
     "name": "stdout",
     "output_type": "stream",
     "text": [
      "Epoch 275 tr: l 0.545 a 0.869  clct[27, 33] ans[33, 27] lr 0.015762 cl_acc 1.000 44.411sec(train) 3.947sec(infer)\n"
     ]
    },
    {
     "name": "stdout",
     "output_type": "stream",
     "text": [
      "Epoch 275 tst: l 0.742 a 0.821  clct[20, 20] ans[20, 20] cl_acc 1.000 2.473sec\n"
     ]
    },
    {
     "name": "stdout",
     "output_type": "stream",
     "text": [
      "Epoch 276 tr: l 0.546 a 0.867  clct[31, 29] ans[29, 31] lr 0.015605 cl_acc 1.000 44.363sec(train) 3.835sec(infer)\n"
     ]
    },
    {
     "name": "stdout",
     "output_type": "stream",
     "text": [
      "Epoch 276 tst: l 0.716 a 0.826  clct[20, 20] ans[20, 20] cl_acc 1.000 2.371sec\n"
     ]
    },
    {
     "name": "stdout",
     "output_type": "stream",
     "text": [
      "Epoch 277 tr: l 0.524 a 0.875  clct[28, 32] ans[32, 28] lr 0.015449 cl_acc 1.000 44.457sec(train) 3.982sec(infer)\n"
     ]
    },
    {
     "name": "stdout",
     "output_type": "stream",
     "text": [
      "Epoch 277 tst: l 0.717 a 0.827  clct[20, 20] ans[20, 20] cl_acc 1.000 2.328sec\n"
     ]
    },
    {
     "name": "stdout",
     "output_type": "stream",
     "text": [
      "Epoch 278 tr: l 0.528 a 0.873  clct[33, 27] ans[27, 33] lr 0.015294 cl_acc 1.000 44.213sec(train) 3.915sec(infer)\n"
     ]
    },
    {
     "name": "stdout",
     "output_type": "stream",
     "text": [
      "Epoch 278 tst: l 0.721 a 0.826  clct[20, 20] ans[20, 20] cl_acc 1.000 2.332sec\n"
     ]
    },
    {
     "name": "stdout",
     "output_type": "stream",
     "text": [
      "Epoch 279 tr: l 0.544 a 0.868  clct[30, 30] ans[30, 30] lr 0.015141 cl_acc 1.000 44.157sec(train) 3.809sec(infer)\n"
     ]
    },
    {
     "name": "stdout",
     "output_type": "stream",
     "text": [
      "Epoch 279 tst: l 0.724 a 0.822  clct[20, 20] ans[20, 20] cl_acc 1.000 2.332sec\n"
     ]
    },
    {
     "name": "stdout",
     "output_type": "stream",
     "text": [
      "Epoch 280 tr: l 0.531 a 0.874  clct[25, 35] ans[35, 25] lr 0.014990 cl_acc 1.000 44.079sec(train) 3.783sec(infer)\n"
     ]
    },
    {
     "name": "stdout",
     "output_type": "stream",
     "text": [
      "Epoch 280 tst: l 0.734 a 0.824  clct[20, 20] ans[20, 20] cl_acc 1.000 2.385sec\n",
      "result written at output/results.pickle\n"
     ]
    },
    {
     "name": "stdout",
     "output_type": "stream",
     "text": [
      "Epoch 281 tr: l 0.548 a 0.867  clct[30, 30] ans[30, 30] lr 0.014840 cl_acc 1.000 44.349sec(train) 3.877sec(infer)\n"
     ]
    },
    {
     "name": "stdout",
     "output_type": "stream",
     "text": [
      "Epoch 281 tst: l 0.712 a 0.826  clct[20, 20] ans[20, 20] cl_acc 1.000 2.385sec\n"
     ]
    },
    {
     "name": "stdout",
     "output_type": "stream",
     "text": [
      "Epoch 282 tr: l 0.531 a 0.871  clct[34, 26] ans[26, 34] lr 0.014691 cl_acc 1.000 44.263sec(train) 4.106sec(infer)\n"
     ]
    },
    {
     "name": "stdout",
     "output_type": "stream",
     "text": [
      "Epoch 282 tst: l 0.714 a 0.825  clct[20, 20] ans[20, 20] cl_acc 1.000 2.489sec\n"
     ]
    },
    {
     "name": "stdout",
     "output_type": "stream",
     "text": [
      "Epoch 283 tr: l 0.550 a 0.867  clct[33, 27] ans[27, 33] lr 0.014545 cl_acc 1.000 44.263sec(train) 3.644sec(infer)\n"
     ]
    },
    {
     "name": "stdout",
     "output_type": "stream",
     "text": [
      "Epoch 283 tst: l 0.714 a 0.826  clct[20, 20] ans[20, 20] cl_acc 1.000 2.324sec\n"
     ]
    },
    {
     "name": "stdout",
     "output_type": "stream",
     "text": [
      "Epoch 284 tr: l 0.517 a 0.876  clct[29, 31] ans[31, 29] lr 0.014399 cl_acc 1.000 44.093sec(train) 3.777sec(infer)\n"
     ]
    },
    {
     "name": "stdout",
     "output_type": "stream",
     "text": [
      "Epoch 284 tst: l 0.723 a 0.824  clct[20, 20] ans[20, 20] cl_acc 1.000 2.421sec\n"
     ]
    },
    {
     "name": "stdout",
     "output_type": "stream",
     "text": [
      "Epoch 285 tr: l 0.516 a 0.876  clct[31, 29] ans[29, 31] lr 0.014255 cl_acc 1.000 43.964sec(train) 3.832sec(infer)\n"
     ]
    },
    {
     "name": "stdout",
     "output_type": "stream",
     "text": [
      "Epoch 285 tst: l 0.727 a 0.825  clct[20, 20] ans[20, 20] cl_acc 1.000 2.285sec\n"
     ]
    },
    {
     "name": "stdout",
     "output_type": "stream",
     "text": [
      "Epoch 286 tr: l 0.527 a 0.871  clct[32, 28] ans[28, 32] lr 0.014113 cl_acc 1.000 44.449sec(train) 4.121sec(infer)\n"
     ]
    },
    {
     "name": "stdout",
     "output_type": "stream",
     "text": [
      "Epoch 286 tst: l 0.730 a 0.825  clct[20, 20] ans[20, 20] cl_acc 1.000 2.493sec\n"
     ]
    },
    {
     "name": "stdout",
     "output_type": "stream",
     "text": [
      "Epoch 287 tr: l 0.494 a 0.884  clct[29, 31] ans[31, 29] lr 0.013971 cl_acc 1.000 44.112sec(train) 3.822sec(infer)\n"
     ]
    },
    {
     "name": "stdout",
     "output_type": "stream",
     "text": [
      "Epoch 287 tst: l 0.707 a 0.829  clct[20, 20] ans[20, 20] cl_acc 1.000 2.287sec\n"
     ]
    },
    {
     "name": "stdout",
     "output_type": "stream",
     "text": [
      "Epoch 288 tr: l 0.541 a 0.865  clct[31, 29] ans[29, 31] lr 0.013832 cl_acc 1.000 43.988sec(train) 3.798sec(infer)\n"
     ]
    },
    {
     "name": "stdout",
     "output_type": "stream",
     "text": [
      "Epoch 288 tst: l 0.716 a 0.826  clct[20, 20] ans[20, 20] cl_acc 1.000 2.393sec\n"
     ]
    },
    {
     "name": "stdout",
     "output_type": "stream",
     "text": [
      "Epoch 289 tr: l 0.520 a 0.874  clct[34, 26] ans[26, 34] lr 0.013693 cl_acc 1.000 44.391sec(train) 4.134sec(infer)\n"
     ]
    },
    {
     "name": "stdout",
     "output_type": "stream",
     "text": [
      "Epoch 289 tst: l 0.699 a 0.832  clct[20, 20] ans[20, 20] cl_acc 1.000 2.564sec\n"
     ]
    },
    {
     "name": "stdout",
     "output_type": "stream",
     "text": [
      "Epoch 290 tr: l 0.531 a 0.869  clct[32, 28] ans[28, 32] lr 0.013556 cl_acc 1.000 44.408sec(train) 4.057sec(infer)\n"
     ]
    },
    {
     "name": "stdout",
     "output_type": "stream",
     "text": [
      "Epoch 290 tst: l 0.711 a 0.825  clct[20, 20] ans[20, 20] cl_acc 1.000 2.420sec\n",
      "result written at output/results.pickle\n"
     ]
    },
    {
     "name": "stdout",
     "output_type": "stream",
     "text": [
      "Epoch 291 tr: l 0.512 a 0.877  clct[30, 30] ans[30, 30] lr 0.013421 cl_acc 1.000 43.955sec(train) 3.988sec(infer)\n"
     ]
    },
    {
     "name": "stdout",
     "output_type": "stream",
     "text": [
      "Epoch 291 tst: l 0.727 a 0.828  clct[20, 20] ans[20, 20] cl_acc 1.000 2.568sec\n"
     ]
    },
    {
     "name": "stdout",
     "output_type": "stream",
     "text": [
      "Epoch 292 tr: l 0.498 a 0.880  clct[37, 23] ans[23, 37] lr 0.013287 cl_acc 1.000 44.053sec(train) 3.965sec(infer)\n"
     ]
    },
    {
     "name": "stdout",
     "output_type": "stream",
     "text": [
      "Epoch 292 tst: l 0.707 a 0.829  clct[20, 20] ans[20, 20] cl_acc 1.000 2.369sec\n"
     ]
    },
    {
     "name": "stdout",
     "output_type": "stream",
     "text": [
      "Epoch 293 tr: l 0.513 a 0.875  clct[30, 30] ans[30, 30] lr 0.013154 cl_acc 1.000 44.084sec(train) 3.917sec(infer)\n"
     ]
    },
    {
     "name": "stdout",
     "output_type": "stream",
     "text": [
      "Epoch 293 tst: l 0.709 a 0.829  clct[20, 20] ans[20, 20] cl_acc 1.000 2.410sec\n"
     ]
    },
    {
     "name": "stdout",
     "output_type": "stream",
     "text": [
      "Epoch 294 tr: l 0.502 a 0.878  clct[29, 31] ans[31, 29] lr 0.013022 cl_acc 1.000 44.012sec(train) 4.264sec(infer)\n"
     ]
    },
    {
     "name": "stdout",
     "output_type": "stream",
     "text": [
      "Epoch 294 tst: l 0.718 a 0.828  clct[20, 20] ans[20, 20] cl_acc 1.000 2.513sec\n"
     ]
    },
    {
     "name": "stdout",
     "output_type": "stream",
     "text": [
      "Epoch 295 tr: l 0.511 a 0.877  clct[33, 27] ans[27, 33] lr 0.012892 cl_acc 1.000 44.292sec(train) 3.612sec(infer)\n"
     ]
    },
    {
     "name": "stdout",
     "output_type": "stream",
     "text": [
      "Epoch 295 tst: l 0.709 a 0.831  clct[20, 20] ans[20, 20] cl_acc 1.000 2.414sec\n"
     ]
    },
    {
     "name": "stdout",
     "output_type": "stream",
     "text": [
      "Epoch 296 tr: l 0.504 a 0.880  clct[23, 37] ans[37, 23] lr 0.012763 cl_acc 1.000 44.356sec(train) 4.008sec(infer)\n"
     ]
    },
    {
     "name": "stdout",
     "output_type": "stream",
     "text": [
      "Epoch 296 tst: l 0.695 a 0.833  clct[20, 20] ans[20, 20] cl_acc 1.000 2.730sec\n"
     ]
    },
    {
     "name": "stdout",
     "output_type": "stream",
     "text": [
      "Epoch 297 tr: l 0.521 a 0.870  clct[25, 35] ans[35, 25] lr 0.012636 cl_acc 1.000 44.246sec(train) 4.274sec(infer)\n"
     ]
    },
    {
     "name": "stdout",
     "output_type": "stream",
     "text": [
      "Epoch 297 tst: l 0.704 a 0.830  clct[20, 20] ans[20, 20] cl_acc 1.000 2.738sec\n"
     ]
    },
    {
     "name": "stdout",
     "output_type": "stream",
     "text": [
      "Epoch 298 tr: l 0.499 a 0.878  clct[25, 35] ans[35, 25] lr 0.012509 cl_acc 1.000 44.117sec(train) 3.981sec(infer)\n"
     ]
    },
    {
     "name": "stdout",
     "output_type": "stream",
     "text": [
      "Epoch 298 tst: l 0.700 a 0.832  clct[20, 20] ans[20, 20] cl_acc 1.000 2.557sec\n"
     ]
    },
    {
     "name": "stdout",
     "output_type": "stream",
     "text": [
      "Epoch 299 tr: l 0.501 a 0.878  clct[30, 30] ans[30, 30] lr 0.012384 cl_acc 1.000 44.315sec(train) 4.497sec(infer)\n"
     ]
    },
    {
     "name": "stdout",
     "output_type": "stream",
     "text": [
      "Epoch 299 tst: l 0.698 a 0.830  clct[20, 20] ans[20, 20] cl_acc 1.000 2.522sec\n",
      "result written at output/results.pickle\n",
      "---train cluster Ended in 4.25 hour (15293.855 sec) \n"
     ]
    }
   ],
   "source": [
    "import json\n",
    "import time\n",
    "import torch\n",
    "import numpy as np\n",
    "\n",
    "\n",
    "with open(\"config.json\", \"r\") as read_file:\n",
    "    config = json.load(read_file)\n",
    "\n",
    "for lr in learning_rates:\n",
    "    config['lr'] = lr\n",
    "    res_final = []\n",
    "\n",
    "    for seed in seeds:\n",
    "        print(f\"---------------------------------DFCA-GI, lr: {lr}, seed: {seed}---------------------------------\")\n",
    "        start_time = time.time()\n",
    "        config['data_seed'] = seed\n",
    "        config['train_seed'] = config['data_seed']\n",
    "\n",
    "        print(\"config:\",config)\n",
    "\n",
    "        exp = DFCA.TrainCIFARCluster(config)\n",
    "        exp.setup()\n",
    "        res = exp.run()\n",
    "        res_final.append([[r['test']['loss'] for r in res], [r['test']['acc'] for r in res], [r['test']['cl_acc'] for r in res], [r['train']['loss'] for r in res]])\n",
    "        del exp\n",
    "        duration = (time.time() - start_time)\n",
    "        print(\"---train cluster Ended in %0.2f hour (%.3f sec) \" % (duration/float(3600), duration))\n",
    "\n",
    "    res_mean = np.mean(res_final, axis=0).tolist()\n",
    "    dfca_gi.append(res_mean)\n",
    "\n"
   ]
  },
  {
   "cell_type": "markdown",
   "metadata": {},
   "source": [
    "## Plots"
   ]
  },
  {
   "cell_type": "code",
   "execution_count": 4,
   "metadata": {
    "execution": {
     "iopub.execute_input": "2025-06-01T18:53:33.254668Z",
     "iopub.status.busy": "2025-06-01T18:53:33.254424Z",
     "iopub.status.idle": "2025-06-01T18:53:33.828432Z",
     "shell.execute_reply": "2025-06-01T18:53:33.827939Z"
    }
   },
   "outputs": [
    {
     "data": {
      "image/png": "[encoded data removed]",
      "text/plain": [
       "<Figure size 1000x500 with 1 Axes>"
      ]
     },
     "metadata": {},
     "output_type": "display_data"
    },
    {
     "data": {
      "image/png": "[encoded data removed]",
      "text/plain": [
       "<Figure size 1000x500 with 1 Axes>"
      ]
     },
     "metadata": {},
     "output_type": "display_data"
    },
    {
     "data": {
      "image/png": "[encoded data removed]",
      "text/plain": [
       "<Figure size 1000x500 with 1 Axes>"
      ]
     },
     "metadata": {},
     "output_type": "display_data"
    },
    {
     "data": {
      "image/png": "[encoded data removed]",
      "text/plain": [
       "<Figure size 1000x500 with 1 Axes>"
      ]
     },
     "metadata": {},
     "output_type": "display_data"
    }
   ],
   "source": [
    "\n",
    "r_dfca_gi = {}\n",
    "\n",
    "r_dfca_gi['test_loss'] = []\n",
    "r_dfca_gi['test_acc'] = []\n",
    "r_dfca_gi['cl_acc'] = []\n",
    "r_dfca_gi['train_loss'] = []\n",
    "for i in range(len(learning_rates)):\n",
    "    r_dfca_gi['test_loss'].append(dfca_gi[i][0])\n",
    "    r_dfca_gi['test_acc'].append(dfca_gi[i][1])\n",
    "    r_dfca_gi['cl_acc'].append(dfca_gi[i][2])\n",
    "    r_dfca_gi['train_loss'].append(dfca_gi[i][3])\n",
    "\n",
    "with open('res_dfca.pickle', 'wb') as f:\n",
    "    pickle.dump(r_dfca_gi, f)\n",
    "\n",
    "os.makedirs('graphs', exist_ok=True)\n",
    "\n",
    "for l in range(len(learning_rates)):\n",
    "\n",
    "    plt.figure(figsize=(10,5))\n",
    "    plt.plot(r_dfca_gi['train_loss'][l], label='dfca-gi', color='green')\n",
    "    plt.xlabel('epoch')\n",
    "    plt.ylabel('loss')\n",
    "    plt.title(f'Train Loss per Epoch (lr={learning_rates[l]})')\n",
    "    plt.legend()\n",
    "    plt.savefig(os.path.join('graphs', '3_train_loss.png'))\n",
    "\n",
    "    plt.figure(figsize=(10,5))\n",
    "    plt.plot(r_dfca_gi['test_loss'][l], label='dfca-gi', color='green')\n",
    "    plt.xlabel('epoch')\n",
    "    plt.ylabel('loss')\n",
    "    plt.title(f'Test Loss per Epoch (lr={learning_rates[l]})')\n",
    "    plt.legend()\n",
    "    plt.savefig(os.path.join('graphs', '3_test_loss.png'))\n",
    "\n",
    "    plt.figure(figsize=(10,5))\n",
    "    plt.plot(r_dfca_gi['test_acc'][l], label='dfca-gi', color='green')\n",
    "    plt.xlabel('epoch')\n",
    "    plt.ylabel('test accuracy')\n",
    "    plt.title(f'Test Accuracy per Epoch (lr={learning_rates[l]})')\n",
    "    plt.legend()\n",
    "    plt.savefig(os.path.join('graphs', '3_test_acc.png'))\n",
    "\n",
    "    plt.figure(figsize=(10,5))\n",
    "    plt.plot(r_dfca_gi['cl_acc'][l][:31], label='dfca-gi', color='green')\n",
    "    plt.xlabel('epoch')\n",
    "    plt.ylabel('test accuracy')\n",
    "    plt.title(f'Test Accuracy per Epoch (lr={learning_rates[l]})')\n",
    "    plt.legend()\n",
    "    plt.savefig(os.path.join('graphs', '3_test_acc.png'))\n",
    "\n"
   ]
  }
 ],
 "metadata": {
  "accelerator": "GPU",
  "colab": {
   "gpuType": "T4",
   "provenance": []
  },
  "kernelspec": {
   "display_name": "dl-new",
   "language": "python",
   "name": "python3"
  },
  "language_info": {
   "codemirror_mode": {
    "name": "ipython",
    "version": 3
   },
   "file_extension": ".py",
   "mimetype": "text/x-python",
   "name": "python",
   "nbconvert_exporter": "python",
   "pygments_lexer": "ipython3",
   "version": "3.11.11"
  }
 },
 "nbformat": 4,
 "nbformat_minor": 4
}
