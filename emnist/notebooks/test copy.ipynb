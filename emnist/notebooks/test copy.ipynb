{
 "cells": [
  {
   "cell_type": "code",
   "execution_count": 1,
   "metadata": {
    "id": "OHJWesKs-tqd"
   },
   "outputs": [],
   "source": [
    "import json\n",
    "import os\n",
    "import time\n",
    "import ipyparallel as ipp\n",
    "\n",
    "import matplotlib.pyplot as plt\n",
    "import torch\n",
    "import dfca as DFCA\n",
    "import ifca as IFCA\n",
    "\n",
    "import numpy as np\n",
    "\n",
    "from util import *"
   ]
  },
  {
   "cell_type": "markdown",
   "metadata": {
    "id": "7ADsUSUi-tqf"
   },
   "source": [
    "Running the dfca-gi experiment"
   ]
  },
  {
   "cell_type": "code",
   "execution_count": 2,
   "metadata": {
    "colab": {
     "base_uri": "https://localhost:8080/",
     "height": 1000
    },
    "id": "T_XDv25r-tqf",
    "outputId": "9c8f4300-c792-4e49-be40-c694fa066e6f"
   },
   "outputs": [
    {
     "name": "stdout",
     "output_type": "stream",
     "text": [
      "---------------------------------DFCA-LI, lr: 0.1, seed: 11---------------------------------\n",
      "config: {'m': 1200, 'm_test': 200, 'p': 4, 'n': 200, 'uneven': True, 'local_model_init': False, 'h1': 128, 'num_epochs': 200, 'batch_size': 100, 'tau': 5, 'lr': 0.001, 'data_seed': 11, 'train_seed': 11, 'config_override': '', 'project_dir': 'output_dfca_gi', 'seed': 11}\n",
      "Using device: cuda\n",
      "Epoch -1 tr: l 3.846 a 0.024 clct[262, 384, 369, 185] cl_acc 0.290  8.424sec\n",
      "Epoch -1 tst: l 3.846 a 0.032 clct[46, 67, 57, 30] cl_acc 0.305  3.718sec\n",
      "Epoch 0 tr: l 3.838 a 0.031 clct[251, 307, 537, 105] cl_acc 0.324  lr 0.001000 31.073sec(train) 6.826sec(infer)\n",
      "Epoch 0 tst: l 3.839 a 0.038 clct[45, 53, 90, 12] cl_acc 0.335  3.815sec\n",
      "result written at output_dfca_gi/results.pickle\n",
      "checkpoint written at output_dfca_gi/checkpoint.pt\n",
      "Epoch 1 tr: l 3.820 a 0.027 clct[75, 70, 1029, 26] cl_acc 0.287  lr 0.001000 30.436sec(train) 6.281sec(infer)\n",
      "Epoch 1 tst: l 3.822 a 0.041 clct[15, 18, 163, 4] cl_acc 0.295  3.817sec\n",
      "Epoch 2 tr: l 3.434 a 0.130 clct[3, 4, 1192, 1] cl_acc 0.253  lr 0.001000 28.856sec(train) 6.935sec(infer)\n",
      "Epoch 2 tst: l 3.429 a 0.129 clct[0, 0, 200, 0] cl_acc 0.250  3.812sec\n",
      "Epoch 3 tr: l 3.266 a 0.161 clct[351, 384, 304, 161] cl_acc 0.544  lr 0.001000 13.146sec(train) 5.092sec(infer)\n",
      "Epoch 3 tst: l 3.262 a 0.204 clct[60, 71, 51, 18] cl_acc 0.560  4.482sec\n",
      "Epoch 4 tr: l 3.186 a 0.179 clct[607, 263, 304, 26] cl_acc 0.590  lr 0.001000 33.597sec(train) 5.127sec(infer)\n",
      "Epoch 4 tst: l 3.186 a 0.214 clct[105, 41, 50, 4] cl_acc 0.580  5.175sec\n",
      "Epoch 5 tr: l 3.066 a 0.207 clct[888, 6, 303, 3] cl_acc 0.503  lr 0.001000 32.315sec(train) 5.210sec(infer)\n",
      "Epoch 5 tst: l 3.071 a 0.227 clct[150, 0, 50, 0] cl_acc 0.500  6.200sec\n",
      "Epoch 6 tr: l 2.648 a 0.308 clct[308, 527, 301, 64] cl_acc 0.747  lr 0.001000 31.383sec(train) 5.918sec(infer)\n",
      "Epoch 6 tst: l 2.649 a 0.353 clct[52, 90, 50, 8] cl_acc 0.750  7.528sec\n",
      "Epoch 7 tr: l 2.491 a 0.358 clct[300, 592, 301, 7] cl_acc 0.751  lr 0.001000 28.712sec(train) 2.296sec(infer)\n",
      "Epoch 7 tst: l 2.498 a 0.380 clct[50, 100, 50, 0] cl_acc 0.750  1.862sec\n",
      "Epoch 8 tr: l 2.126 a 0.445 clct[300, 599, 301, 0] cl_acc 0.749  lr 0.001000 26.892sec(train) 2.310sec(infer)\n",
      "Epoch 8 tst: l 2.132 a 0.450 clct[50, 100, 50, 0] cl_acc 0.750  1.860sec\n",
      "Epoch 9 tr: l 1.901 a 0.486 clct[300, 303, 301, 296] cl_acc 0.996  lr 0.001000 26.911sec(train) 2.300sec(infer)\n",
      "Epoch 9 tst: l 1.908 a 0.504 clct[50, 51, 50, 49] cl_acc 0.995  1.847sec\n",
      "Epoch 10 tr: l 1.803 a 0.513 clct[300, 302, 301, 297] cl_acc 0.997  lr 0.001000 26.823sec(train) 2.295sec(infer)\n",
      "Epoch 10 tst: l 1.816 a 0.525 clct[50, 50, 50, 50] cl_acc 1.000  1.851sec\n",
      "result written at output_dfca_gi/results.pickle\n",
      "checkpoint written at output_dfca_gi/checkpoint.pt\n",
      "Epoch 11 tr: l 1.737 a 0.526 clct[300, 301, 301, 298] cl_acc 0.998  lr 0.001000 27.126sec(train) 2.296sec(infer)\n",
      "Epoch 11 tst: l 1.753 a 0.535 clct[50, 50, 50, 50] cl_acc 1.000  1.854sec\n",
      "Epoch 12 tr: l 1.629 a 0.571 clct[300, 301, 301, 298] cl_acc 0.998  lr 0.001000 26.640sec(train) 2.297sec(infer)\n",
      "Epoch 12 tst: l 1.649 a 0.565 clct[50, 50, 50, 50] cl_acc 1.000  1.860sec\n",
      "Epoch 13 tr: l 1.272 a 0.641 clct[299, 301, 301, 299] cl_acc 0.998  lr 0.001000 28.928sec(train) 2.327sec(infer)\n",
      "Epoch 13 tst: l 1.295 a 0.634 clct[50, 50, 50, 50] cl_acc 1.000  1.877sec\n",
      "Epoch 14 tr: l 1.083 a 0.678 clct[299, 300, 301, 300] cl_acc 0.999  lr 0.001000 28.200sec(train) 2.293sec(infer)\n",
      "Epoch 14 tst: l 1.110 a 0.671 clct[50, 50, 50, 50] cl_acc 1.000  1.853sec\n",
      "Epoch 15 tr: l 1.014 a 0.694 clct[299, 300, 301, 300] cl_acc 0.999  lr 0.001000 29.807sec(train) 2.299sec(infer)\n",
      "Epoch 15 tst: l 1.044 a 0.686 clct[50, 50, 50, 50] cl_acc 1.000  1.844sec\n",
      "Epoch 16 tr: l 0.971 a 0.705 clct[299, 300, 301, 300] cl_acc 0.999  lr 0.001000 26.530sec(train) 2.379sec(infer)\n",
      "Epoch 16 tst: l 1.004 a 0.696 clct[50, 50, 50, 50] cl_acc 1.000  1.935sec\n",
      "Epoch 17 tr: l 0.935 a 0.714 clct[299, 300, 301, 300] cl_acc 0.999  lr 0.001000 27.340sec(train) 2.323sec(infer)\n",
      "Epoch 17 tst: l 0.972 a 0.705 clct[50, 50, 50, 50] cl_acc 1.000  1.873sec\n",
      "Epoch 18 tr: l 0.902 a 0.722 clct[299, 300, 301, 300] cl_acc 0.999  lr 0.001000 29.911sec(train) 2.331sec(infer)\n",
      "Epoch 18 tst: l 0.943 a 0.713 clct[50, 50, 50, 50] cl_acc 1.000  1.911sec\n",
      "Epoch 19 tr: l 0.872 a 0.730 clct[299, 300, 301, 300] cl_acc 0.999  lr 0.001000 29.968sec(train) 2.421sec(infer)\n",
      "Epoch 19 tst: l 0.917 a 0.720 clct[50, 50, 50, 50] cl_acc 1.000  1.866sec\n",
      "Epoch 20 tr: l 0.844 a 0.737 clct[299, 300, 301, 300] cl_acc 0.999  lr 0.001000 27.376sec(train) 2.292sec(infer)\n",
      "Epoch 20 tst: l 0.892 a 0.726 clct[50, 50, 50, 50] cl_acc 1.000  1.859sec\n",
      "result written at output_dfca_gi/results.pickle\n",
      "checkpoint written at output_dfca_gi/checkpoint.pt\n",
      "Epoch 21 tr: l 0.819 a 0.743 clct[299, 300, 301, 300] cl_acc 0.999  lr 0.001000 26.784sec(train) 2.294sec(infer)\n",
      "Epoch 21 tst: l 0.870 a 0.731 clct[50, 50, 50, 50] cl_acc 1.000  1.857sec\n",
      "Epoch 22 tr: l 0.795 a 0.748 clct[299, 300, 301, 300] cl_acc 0.999  lr 0.001000 26.923sec(train) 2.296sec(infer)\n",
      "Epoch 22 tst: l 0.850 a 0.737 clct[50, 50, 50, 50] cl_acc 1.000  1.977sec\n",
      "Epoch 23 tr: l 0.773 a 0.754 clct[299, 300, 301, 300] cl_acc 0.999  lr 0.001000 27.252sec(train) 2.326sec(infer)\n",
      "Epoch 23 tst: l 0.832 a 0.742 clct[50, 50, 50, 50] cl_acc 1.000  1.889sec\n",
      "Epoch 24 tr: l 0.753 a 0.759 clct[299, 300, 301, 300] cl_acc 0.999  lr 0.001000 27.147sec(train) 2.340sec(infer)\n",
      "Epoch 24 tst: l 0.815 a 0.747 clct[50, 50, 50, 50] cl_acc 1.000  1.871sec\n",
      "Epoch 25 tr: l 0.734 a 0.764 clct[299, 300, 301, 300] cl_acc 0.999  lr 0.001000 27.040sec(train) 2.304sec(infer)\n",
      "Epoch 25 tst: l 0.799 a 0.751 clct[50, 50, 50, 50] cl_acc 1.000  1.856sec\n",
      "Epoch 26 tr: l 0.716 a 0.768 clct[299, 300, 301, 300] cl_acc 0.999  lr 0.001000 26.528sec(train) 2.302sec(infer)\n",
      "Epoch 26 tst: l 0.785 a 0.755 clct[50, 50, 50, 50] cl_acc 1.000  1.860sec\n",
      "Epoch 27 tr: l 0.699 a 0.772 clct[299, 300, 301, 300] cl_acc 0.999  lr 0.001000 27.218sec(train) 2.313sec(infer)\n",
      "Epoch 27 tst: l 0.771 a 0.759 clct[50, 50, 50, 50] cl_acc 1.000  1.864sec\n",
      "Epoch 28 tr: l 0.684 a 0.777 clct[299, 300, 301, 300] cl_acc 0.999  lr 0.001000 27.033sec(train) 5.621sec(infer)\n",
      "Epoch 28 tst: l 0.759 a 0.762 clct[50, 50, 50, 50] cl_acc 1.000  9.589sec\n",
      "Epoch 29 tr: l 0.669 a 0.780 clct[299, 300, 301, 300] cl_acc 0.999  lr 0.001000 33.543sec(train) 6.765sec(infer)\n",
      "Epoch 29 tst: l 0.747 a 0.765 clct[50, 50, 50, 50] cl_acc 1.000  5.636sec\n",
      "Epoch 30 tr: l 0.655 a 0.784 clct[299, 300, 301, 300] cl_acc 0.999  lr 0.001000 30.349sec(train) 2.295sec(infer)\n",
      "Epoch 30 tst: l 0.736 a 0.768 clct[50, 50, 50, 50] cl_acc 1.000  1.857sec\n",
      "result written at output_dfca_gi/results.pickle\n",
      "checkpoint written at output_dfca_gi/checkpoint.pt\n"
     ]
    }
   ],
   "source": [
    "import dfca as DFCA\n",
    "import json\n",
    "import time\n",
    "import torch\n",
    "import numpy as np\n",
    "\n",
    "\n",
    "with open(\"config_dfca_gi.json\", \"r\") as read_file:\n",
    "    config = json.load(read_file)\n",
    "\n",
    "config['lr'] = 0.001\n",
    "config['seed'] = 11\n",
    "config['num_epochs'] = 200\n",
    "config['p'] = 4\n",
    "res_final = []\n",
    "\n",
    "lr = 0.1\n",
    "seed = 11\n",
    "\n",
    "\n",
    "print(f\"---------------------------------DFCA-GI, lr: {lr}, seed: {seed}---------------------------------\")\n",
    "start_time = time.time()\n",
    "config['data_seed'] = seed\n",
    "config['train_seed'] = config['data_seed']\n",
    "\n",
    "print(\"config:\",config)\n",
    "device = torch.device(\"cuda\" if torch.cuda.is_available() else \"cpu\")\n",
    "print(f\"Using device: {device}\")\n",
    "\n",
    "exp = DFCA.TrainEMNISTCluster(config, device)\n",
    "exp.setup()\n",
    "res = exp.run()\n",
    "del exp\n",
    "duration = (time.time() - start_time)\n",
    "print(\"---train cluster Ended in %0.2f hour (%.3f sec) \" % (duration/float(3600), duration))\n",
    "\n",
    "\n",
    "\n"
   ]
  }
 ],
 "metadata": {
  "accelerator": "GPU",
  "colab": {
   "gpuType": "T4",
   "provenance": []
  },
  "kernelspec": {
   "display_name": "Python 3",
   "language": "python",
   "name": "python3"
  },
  "language_info": {
   "codemirror_mode": {
    "name": "ipython",
    "version": 3
   },
   "file_extension": ".py",
   "mimetype": "text/x-python",
   "name": "python",
   "nbconvert_exporter": "python",
   "pygments_lexer": "ipython3",
   "version": "3.11.11"
  }
 },
 "nbformat": 4,
 "nbformat_minor": 4
}
