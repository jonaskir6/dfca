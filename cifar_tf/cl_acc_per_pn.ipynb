{
 "cells": [
  {
   "cell_type": "code",
   "execution_count": 1,
   "metadata": {
    "id": "OHJWesKs-tqd"
   },
   "outputs": [
    {
     "name": "stdout",
     "output_type": "stream",
     "text": [
      "WARNING:tensorflow:From d:\\GIT Repos\\decentralized-ifca\\cifar_tf\\train_cluster_cifar_dfca_tf.py:14: The name tf.disable_v2_behavior is deprecated. Please use tf.compat.v1.disable_v2_behavior instead.\n",
      "\n",
      "WARNING:tensorflow:From e:\\anaconda\\envs\\dl-new\\lib\\site-packages\\tensorflow\\python\\compat\\v2_compat.py:98: disable_resource_variables (from tensorflow.python.ops.resource_variables_toggle) is deprecated and will be removed in a future version.\n",
      "Instructions for updating:\n",
      "non-resource variables are not supported in the long term\n"
     ]
    }
   ],
   "source": [
    "import json\n",
    "import os\n",
    "import time\n",
    "import ipyparallel as ipp\n",
    "\n",
    "import matplotlib.pyplot as plt\n",
    "import torch\n",
    "import train_cluster_cifar_dfca_tf as DFCA\n",
    "import train_cluster_cifar_tf as IFCA\n",
    "\n",
    "import numpy as np\n",
    "\n",
    "from util import *"
   ]
  },
  {
   "cell_type": "markdown",
   "metadata": {
    "id": "QAghP_o0-tqe"
   },
   "source": [
    "Reads Config file and prepares the arguments you can choose in the config_dfca.json/config_ifca.json"
   ]
  },
  {
   "cell_type": "code",
   "execution_count": 2,
   "metadata": {},
   "outputs": [
    {
     "name": "stdout",
     "output_type": "stream",
     "text": [
      "Starting 2 engines with <class 'ipyparallel.cluster.launcher.LocalEngineSetLauncher'>\n",
      "100%|██████████| 2/2 [00:06<00:00,  3.18s/engine]\n"
     ]
    }
   ],
   "source": [
    "rc = ipp.Cluster(n=2).start_and_connect_sync()\n",
    "rc.activate()\n",
    "\n",
    "rc.ids \n",
    "\n",
    "dview = rc[:]"
   ]
  },
  {
   "cell_type": "code",
   "execution_count": null,
   "metadata": {},
   "outputs": [],
   "source": [
    "# theoretically irrelevant here because we initialize the model seed randomly (see find_good_initializer())\n",
    "seeds = [11,13,15]\n",
    "p_rates = [0.1, 0.2, 0.3, 0.4, 0.5, 0.6, 0.7, 0.8, 0.9, 1.0]\n",
    "\n",
    "dfca_gi = []\n",
    "ifca = []"
   ]
  },
  {
   "cell_type": "code",
   "execution_count": null,
   "metadata": {},
   "outputs": [],
   "source": [
    "%%px --targets all\n",
    "\n",
    "import sys\n",
    "import os\n",
    "sys.path.append(os.getcwd())\n",
    "\n",
    "# theoretically irrelevant here because we initialize the model seed randomly (see find_good_initializer())\n",
    "seeds = [11,13,15]\n",
    "p_rates = [0.1, 0.2, 0.3, 0.4, 0.5, 0.6, 0.7, 0.8, 0.9, 1.0]\n",
    "\n",
    "dfca_gi = []\n",
    "ifca = []"
   ]
  },
  {
   "cell_type": "markdown",
   "metadata": {
    "id": "7ADsUSUi-tqf"
   },
   "source": [
    "Running the dfca-gi experiment"
   ]
  },
  {
   "cell_type": "code",
   "execution_count": null,
   "metadata": {
    "colab": {
     "base_uri": "https://localhost:8080/",
     "height": 1000
    },
    "id": "T_XDv25r-tqf",
    "outputId": "9c8f4300-c792-4e49-be40-c694fa066e6f"
   },
   "outputs": [
    {
     "data": {
      "text/plain": [
       "<AsyncResult(%px): pending>"
      ]
     },
     "execution_count": 5,
     "metadata": {},
     "output_type": "execute_result"
    }
   ],
   "source": [
    "%%px --target 0 --noblock\n",
    "import train_cluster_cifar_dfca_tf as DFCA\n",
    "import json\n",
    "import time\n",
    "import torch\n",
    "import numpy as np\n",
    "\n",
    "\n",
    "with open(\"config_pn.json\", \"r\") as read_file:\n",
    "    config = json.load(read_file)\n",
    "\n",
    "for pr in p_rates:\n",
    "    res_final = []\n",
    "    config['participation_rate'] = pr\n",
    "\n",
    "    for seed in seeds:\n",
    "        print(f\"---------------------------------DFCA-GI, Participation Rate: {pr}, seed: {seed}---------------------------------\")\n",
    "        start_time = time.time()\n",
    "        config['data_seed'] = seed\n",
    "        config['train_seed'] = config['data_seed']\n",
    "\n",
    "        print(\"config:\",config)\n",
    "        device = torch.device(\"cuda\" if torch.cuda.is_available() else \"cpu\")\n",
    "        print(f\"Using device: {device}\")\n",
    "\n",
    "        exp = DFCA.TrainCIFARCluster(config)\n",
    "        exp.setup()\n",
    "        res = exp.run()\n",
    "        res_final.append([[r['test']['loss'] for r in res], [r['test']['acc'] for r in res], [r['test']['cl_acc'] for r in res], [r['train']['loss'] for r in res]])\n",
    "        del exp\n",
    "        duration = (time.time() - start_time)\n",
    "        print(\"---train cluster Ended in %0.2f hour (%.3f sec) \" % (duration/float(3600), duration))\n",
    "\n",
    "    res_mean = np.mean(res_final, axis=0).tolist()\n",
    "    dfca_gi.append(res_mean)\n",
    "\n"
   ]
  },
  {
   "cell_type": "markdown",
   "metadata": {},
   "source": [
    "Running the ifca experiment"
   ]
  },
  {
   "cell_type": "code",
   "execution_count": null,
   "metadata": {},
   "outputs": [
    {
     "data": {
      "text/plain": [
       "<AsyncResult(%px): pending>"
      ]
     },
     "execution_count": 6,
     "metadata": {},
     "output_type": "execute_result"
    }
   ],
   "source": [
    "%%px --target 1 --noblock\n",
    "import train_cluster_cifar_tf as IFCA\n",
    "import json\n",
    "import time\n",
    "import torch\n",
    "import numpy as np\n",
    "\n",
    "with open(\"config_pn.json\", \"r\") as read_file:\n",
    "    config = json.load(read_file)\n",
    "\n",
    "for pr in p_rates:\n",
    "    res_final = []\n",
    "    config['participation_rate'] = pr\n",
    "\n",
    "    for seed in seeds:\n",
    "        print(f\"---------------------------------IFCA, Participation Rate: {pr}, seed: {seed}---------------------------------\")\n",
    "        start_time = time.time()\n",
    "        config['data_seed'] = seed\n",
    "        config['train_seed'] = config['data_seed']\n",
    "\n",
    "        print(\"config:\",config)\n",
    "        device = torch.device(\"cuda\" if torch.cuda.is_available() else \"cpu\")\n",
    "        print(f\"Using device: {device}\")\n",
    "\n",
    "        exp = IFCA.TrainCIFARCluster(config)\n",
    "        exp.setup()\n",
    "        res = exp.run()\n",
    "        res_final.append([[r['test']['loss'] for r in res], [r['test']['acc'] for r in res], [r['test']['cl_acc'] for r in res], [r['train']['loss'] for r in res]])\n",
    "        del exp\n",
    "        duration = (time.time() - start_time)\n",
    "        print(\"---train cluster Ended in %0.2f hour (%.3f sec) \" % (duration/float(3600), duration))\n",
    "\n",
    "    res_mean = np.mean(res_final, axis=0).tolist()\n",
    "    ifca.append(res_mean)\n",
    "\n"
   ]
  },
  {
   "cell_type": "markdown",
   "metadata": {},
   "source": [
    "## Results"
   ]
  },
  {
   "cell_type": "markdown",
   "metadata": {},
   "source": [
    "DFCA-GI Experiment Outputs"
   ]
  },
  {
   "cell_type": "code",
   "execution_count": 7,
   "metadata": {},
   "outputs": [
    {
     "name": "stdout",
     "output_type": "stream",
     "text": [
      "unknown: 100%|██████████| 1/1 [00:44<00:00, 44.19s/tasks]\n"
     ]
    }
   ],
   "source": [
    "rc.wait_interactive()\n",
    "_.display_outputs()\n",
    "\n",
    "dfca_gi = rc[0].pull('dfca_gi', block=True)\n",
    "ifca = rc[1].pull('ifca', block=True)"
   ]
  },
  {
   "cell_type": "markdown",
   "metadata": {},
   "source": [
    "IFCA Experiment Outputs"
   ]
  },
  {
   "cell_type": "code",
   "execution_count": 8,
   "metadata": {},
   "outputs": [
    {
     "name": "stdout",
     "output_type": "stream",
     "text": [
      "WARNING:tensorflow:From d:\\GIT Repos\\decentralized-ifca\\cifar_tf\\train_cluster_cifar_dfca_tf.py:14: The name tf.disable_v2_behavior is deprecated. Please use tf.compat.v1.disable_v2_behavior instead.\n",
      "\n",
      "WARNING:tensorflow:From e:\\anaconda\\envs\\dl-new\\lib\\site-packages\\tensorflow\\python\\compat\\v2_compat.py:98: disable_resource_variables (from tensorflow.python.ops.resource_variables_toggle) is deprecated and will be removed in a future version.\n",
      "Instructions for updating:\n",
      "non-resource variables are not supported in the long term\n",
      "hi1\n",
      "hi2\n",
      "---------------------------------DFCA-GI, Participation Rate: 0.1, seed: 11---------------------------------\n",
      "config: {'m': 200, 'm_test': 40, 'p': 2, 'n': 500, 'participation_rate': 0.1, 'num_epochs': 1, 'batch_size': 50, 'tau': 5, 'lr': 0.25, 'data_seed': 11, 'train_seed': 11, 'project_dir': 'output'}\n",
      "Using device: cuda\n",
      "WARNING:tensorflow:From d:\\GIT Repos\\decentralized-ifca\\cifar_tf\\train_cluster_cifar_dfca_tf.py:185: The name tf.reset_default_graph is deprecated. Please use tf.compat.v1.reset_default_graph instead.\n",
      "\n",
      "WARNING:tensorflow:From d:\\GIT Repos\\decentralized-ifca\\cifar_tf\\cifar10.py:143: calling TruncatedNormal.__init__ (from tensorflow.python.ops.init_ops) with dtype is deprecated and will be removed in a future version.\n",
      "Instructions for updating:\n",
      "Call initializer instance with the dtype argument instead of passing it to the constructor\n",
      "WARNING:tensorflow:From d:\\GIT Repos\\decentralized-ifca\\cifar_tf\\cifar10.py:231: The name tf.nn.max_pool is deprecated. Please use tf.nn.max_pool2d instead.\n",
      "\n",
      "WARNING:tensorflow:From d:\\GIT Repos\\decentralized-ifca\\cifar_tf\\train_cluster_cifar_dfca_tf.py:201: The name tf.train.GradientDescentOptimizer is deprecated. Please use tf.compat.v1.train.GradientDescentOptimizer instead.\n",
      "\n",
      "WARNING:tensorflow:From d:\\GIT Repos\\decentralized-ifca\\cifar_tf\\train_cluster_cifar_dfca_tf.py:822: The name tf.image.resize_image_with_crop_or_pad is deprecated. Please use tf.image.resize_with_crop_or_pad instead.\n",
      "\n",
      "finding good initializer from train data\n",
      "Epoch -1 tr: l 4.676 a 0.102  clct[np.int64(5), np.int64(15)] ans[np.int64(10), np.int64(10)] cl_acc 0.550 3.142sec\n",
      "Epoch -1 tr: l 4.673 a 0.108  clct[np.int64(11), np.int64(9)] ans[np.int64(12), np.int64(8)] cl_acc 0.750 2.851sec\n",
      "found good initializer\n",
      "Epoch -1 tr: l 4.674 a 0.110  clct[np.int64(5), np.int64(15)] ans[np.int64(7), np.int64(13)] cl_acc 0.800 2.771sec\n",
      "Epoch -1 tst: l 4.674 a 0.110  clct[np.int64(16), np.int64(24)] ans[np.int64(20), np.int64(20)] cl_acc 0.750 5.462sec\n",
      "Epoch 0 tr: l 2.464 a 0.318  clct[np.int64(0), np.int64(20)] ans[np.int64(10), np.int64(10)] lr 0.250000 cl_acc 0.500 14.653sec(train) 2.738sec(infer)\n",
      "Epoch 0 tst: l 2.367 a 0.344  clct[np.int64(0), np.int64(40)] ans[np.int64(20), np.int64(20)] cl_acc 0.500 5.518sec\n",
      "result written at output\\results.pickle\n"
     ]
    }
   ],
   "source": [
    "__.display_outputs()"
   ]
  },
  {
   "cell_type": "markdown",
   "metadata": {},
   "source": [
    "## Plots"
   ]
  },
  {
   "cell_type": "code",
   "execution_count": null,
   "metadata": {},
   "outputs": [
    {
     "name": "stdout",
     "output_type": "stream",
     "text": [
      "IFCA Test Acc:  []\n",
      "DFCA-GI Test Acc:  []\n"
     ]
    },
    {
     "ename": "IndexError",
     "evalue": "list index out of range",
     "output_type": "error",
     "traceback": [
      "\u001b[1;31m---------------------------------------------------------------------------\u001b[0m",
      "\u001b[1;31mIndexError\u001b[0m                                Traceback (most recent call last)",
      "Cell \u001b[1;32mIn[10], line 12\u001b[0m\n\u001b[0;32m     10\u001b[0m r_ifca[\u001b[38;5;124m'\u001b[39m\u001b[38;5;124mtrain_loss\u001b[39m\u001b[38;5;124m'\u001b[39m] \u001b[38;5;241m=\u001b[39m []\n\u001b[0;32m     11\u001b[0m \u001b[38;5;28;01mfor\u001b[39;00m i \u001b[38;5;129;01min\u001b[39;00m \u001b[38;5;28mrange\u001b[39m(\u001b[38;5;28mlen\u001b[39m(p_rates)):\n\u001b[1;32m---> 12\u001b[0m     r_ifca[\u001b[38;5;124m'\u001b[39m\u001b[38;5;124mtest_loss\u001b[39m\u001b[38;5;124m'\u001b[39m]\u001b[38;5;241m.\u001b[39mappend(\u001b[43mifca\u001b[49m\u001b[43m[\u001b[49m\u001b[43mi\u001b[49m\u001b[43m]\u001b[49m[\u001b[38;5;241m0\u001b[39m])\n\u001b[0;32m     13\u001b[0m     r_ifca[\u001b[38;5;124m'\u001b[39m\u001b[38;5;124mtest_acc\u001b[39m\u001b[38;5;124m'\u001b[39m]\u001b[38;5;241m.\u001b[39mappend(ifca[i][\u001b[38;5;241m1\u001b[39m])\n\u001b[0;32m     14\u001b[0m     r_ifca[\u001b[38;5;124m'\u001b[39m\u001b[38;5;124mcl_acc\u001b[39m\u001b[38;5;124m'\u001b[39m]\u001b[38;5;241m.\u001b[39mappend(ifca[i][\u001b[38;5;241m2\u001b[39m])\n",
      "\u001b[1;31mIndexError\u001b[0m: list index out of range"
     ]
    }
   ],
   "source": [
    "\n",
    "r_ifca = {}\n",
    "r_dfca_gi = {}\n",
    "\n",
    "r_ifca['test_loss'] = []\n",
    "r_ifca['test_acc'] = []\n",
    "r_ifca['cl_acc'] = []\n",
    "r_ifca['train_loss'] = []\n",
    "for i in range(len(p_rates)):\n",
    "    r_ifca['test_loss'].append(ifca[i][0])\n",
    "    r_ifca['test_acc'].append(ifca[i][1])\n",
    "    r_ifca['cl_acc'].append(ifca[i][2])\n",
    "    r_ifca['train_loss'].append(ifca[i][3])\n",
    "\n",
    "r_dfca_gi['test_loss'] = []\n",
    "r_dfca_gi['test_acc'] = []\n",
    "r_dfca_gi['cl_acc'] = []\n",
    "r_dfca_gi['train_loss'] = []\n",
    "for i in range(len(p_rates)):\n",
    "    r_dfca_gi['test_loss'].append(dfca_gi[i][0])\n",
    "    r_dfca_gi['test_acc'].append(dfca_gi[i][1])\n",
    "    r_dfca_gi['cl_acc'].append(dfca_gi[i][2])\n",
    "    r_dfca_gi['train_loss'].append(dfca_gi[i][3])\n",
    "\n",
    "print(\"DFCA-GI Test Acc: \", r_dfca_gi['test_acc'])\n",
    "print(\"IFCA Test Acc: \", r_ifca['test_acc'])\n",
    "\n",
    "os.makedirs('graphs', exist_ok=True)\n",
    "\n",
    "for l in range(len(p_rates)):\n",
    "\n",
    "    # plt.figure(figsize=(10,5))\n",
    "    # plt.plot(r_ifca['train_loss'][l], label='ifca', color='blue')\n",
    "    # plt.plot(r_dfca_gi['train_loss'][l], label='dfca-gi', color='green')\n",
    "    # plt.xlabel('epoch')\n",
    "    # plt.ylabel('loss')\n",
    "    # plt.title(f'Train Loss per Epoch (lr={p_rates[l]})')\n",
    "    # plt.legend()\n",
    "    # plt.grid(True)\n",
    "    # plt.savefig(os.path.join('graphs', '3_train_loss.png'))\n",
    "\n",
    "    # plt.figure(figsize=(10,5))\n",
    "    # plt.plot(r_ifca['test_loss'][l], label='ifca', color='blue')\n",
    "    # plt.plot(r_dfca_gi['test_loss'][l], label='dfca-gi', color='green')\n",
    "    # plt.xlabel('epoch')\n",
    "    # plt.ylabel('loss')\n",
    "    # plt.title(f'Test Loss per Epoch (lr={p_rates[l]})')\n",
    "    # plt.legend()\n",
    "    # plt.grid(True)\n",
    "    # plt.savefig(os.path.join('graphs', '3_test_loss.png'))\n",
    "\n",
    "    # plt.figure(figsize=(10,5))\n",
    "    # plt.plot(r_ifca['test_acc'][l], label='ifca', color='blue')\n",
    "    # plt.plot(r_dfca_gi['test_acc'][l], label='dfca-gi', color='green')\n",
    "    # plt.xlabel('epoch')\n",
    "    # plt.ylabel('test accuracy')\n",
    "    # plt.title(f'Test Accuracy per Epoch (lr={p_rates[l]})')\n",
    "    # plt.legend()\n",
    "    # plt.grid(True)\n",
    "    # plt.savefig(os.path.join('graphs', '3_test_acc.png'))\n",
    "\n",
    "    plt.figure(figsize=(10,5))\n",
    "    plt.plot(r_ifca['cl_acc'][l], label='ifca', color='blue')\n",
    "    plt.plot(r_dfca_gi['cl_acc'][l], label='dfca-gi', color='green')\n",
    "    plt.xlabel('epoch')\n",
    "    plt.ylabel('cluster acc')\n",
    "    plt.title(f'Cluster Accuracy per Epoch (participation_rate={p_rates[l]})')\n",
    "    plt.legend()\n",
    "    plt.grid(True)\n",
    "\n"
   ]
  }
 ],
 "metadata": {
  "accelerator": "GPU",
  "colab": {
   "gpuType": "T4",
   "provenance": []
  },
  "kernelspec": {
   "display_name": "dl-new",
   "language": "python",
   "name": "python3"
  },
  "language_info": {
   "codemirror_mode": {
    "name": "ipython",
    "version": 3
   },
   "file_extension": ".py",
   "mimetype": "text/x-python",
   "name": "python",
   "nbconvert_exporter": "python",
   "pygments_lexer": "ipython3",
   "version": "3.10.16"
  }
 },
 "nbformat": 4,
 "nbformat_minor": 4
}
