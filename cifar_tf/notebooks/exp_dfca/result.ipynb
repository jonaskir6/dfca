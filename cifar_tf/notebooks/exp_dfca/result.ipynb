{
 "cells": [
  {
   "cell_type": "code",
   "execution_count": 1,
   "metadata": {
    "execution": {
     "iopub.execute_input": "2025-06-01T19:32:40.747363Z",
     "iopub.status.busy": "2025-06-01T19:32:40.747184Z",
     "iopub.status.idle": "2025-06-01T19:32:44.070440Z",
     "shell.execute_reply": "2025-06-01T19:32:44.069886Z"
    },
    "id": "OHJWesKs-tqd"
   },
   "outputs": [
    {
     "name": "stderr",
     "output_type": "stream",
     "text": [
      "2025-06-01 21:32:42.824012: I tensorflow/core/platform/cpu_feature_guard.cc:210] This TensorFlow binary is optimized to use available CPU instructions in performance-critical operations.\n",
      "To enable the following instructions: SSE4.1 SSE4.2 AVX AVX2 FMA, in other operations, rebuild TensorFlow with the appropriate compiler flags.\n"
     ]
    },
    {
     "name": "stdout",
     "output_type": "stream",
     "text": [
      "WARNING:tensorflow:From /home/rbrinkhege/miniconda3/envs/kirch/lib/python3.11/site-packages/tensorflow/python/compat/v2_compat.py:98: disable_resource_variables (from tensorflow.python.ops.resource_variables_toggle) is deprecated and will be removed in a future version.\n",
      "Instructions for updating:\n",
      "non-resource variables are not supported in the long term\n"
     ]
    }
   ],
   "source": [
    "import json\n",
    "import os\n",
    "import time\n",
    "import ipyparallel as ipp\n",
    "\n",
    "import matplotlib.pyplot as plt\n",
    "import torch\n",
    "import train_cluster_cifar_dfca_tf as DFCA\n",
    "import pickle\n",
    "\n",
    "import numpy as np\n",
    "\n",
    "from util import *"
   ]
  },
  {
   "cell_type": "markdown",
   "metadata": {
    "id": "QAghP_o0-tqe"
   },
   "source": [
    "Reads Config file and prepares the arguments you can choose in the config_dfca.json/config_ifca.json"
   ]
  },
  {
   "cell_type": "code",
   "execution_count": 2,
   "metadata": {
    "execution": {
     "iopub.execute_input": "2025-06-01T19:32:44.072388Z",
     "iopub.status.busy": "2025-06-01T19:32:44.072071Z",
     "iopub.status.idle": "2025-06-01T19:32:44.074632Z",
     "shell.execute_reply": "2025-06-01T19:32:44.074238Z"
    }
   },
   "outputs": [],
   "source": [
    "# theoretically irrelevant here because we initialize the model seed randomly (see find_good_initializer())\n",
    "seeds = [11,12,13,14,15]\n",
    "learning_rates = [0.25]\n",
    "\n",
    "dfca_gi = []\n",
    "ifca = []"
   ]
  },
  {
   "cell_type": "markdown",
   "metadata": {
    "id": "7ADsUSUi-tqf"
   },
   "source": [
    "Running the dfca-gi experiment"
   ]
  },
  {
   "cell_type": "code",
   "execution_count": 3,
   "metadata": {
    "colab": {
     "base_uri": "https://localhost:8080/",
     "height": 1000
    },
    "execution": {
     "iopub.execute_input": "2025-06-01T19:32:44.076112Z",
     "iopub.status.busy": "2025-06-01T19:32:44.075956Z",
     "iopub.status.idle": "2025-06-02T23:28:38.816122Z",
     "shell.execute_reply": "2025-06-02T23:28:38.815351Z"
    },
    "id": "T_XDv25r-tqf",
    "outputId": "9c8f4300-c792-4e49-be40-c694fa066e6f"
   },
   "outputs": [
    {
     "name": "stdout",
     "output_type": "stream",
     "text": [
      "---------------------------------DFCA-GI, lr: 0.25, seed: 11---------------------------------\n",
      "config: {'m': 200, 'm_test': 40, 'p': 2, 'n': 500, 'participation_rate': 0.3, 'num_epochs': 400, 'batch_size': 50, 'tau': 5, 'lr': 0.25, 'data_seed': 11, 'train_seed': 11, 'project_dir': 'output'}\n"
     ]
    },
    {
     "name": "stdout",
     "output_type": "stream",
     "text": [
      "WARNING:tensorflow:From /home/rbrinkhege/repos/decentralized-ifca/cifar_tf/notebooks/exp_dfca/cifar10.py:143: calling TruncatedNormal.__init__ (from tensorflow.python.ops.init_ops) with dtype is deprecated and will be removed in a future version.\n",
      "Instructions for updating:\n",
      "Call initializer instance with the dtype argument instead of passing it to the constructor\n"
     ]
    },
    {
     "name": "stdout",
     "output_type": "stream",
     "text": [
      "finding good initializer from train data\n"
     ]
    },
    {
     "name": "stderr",
     "output_type": "stream",
     "text": [
      "WARNING: All log messages before absl::InitializeLog() is called are written to STDERR\n",
      "I0000 00:00:1748806367.003772   83009 mlir_graph_optimization_pass.cc:401] MLIR V1 optimization pass is not enabled\n",
      "2025-06-01 21:32:47.046958: W tensorflow/c/c_api.cc:305] Operation '{name:'softmax_linear/biases/Assign' id:221 op device:{requested: '/device:CPU:0', assigned: ''} def:{{{node softmax_linear/biases/Assign}} = Assign[T=DT_FLOAT, _class=[\"loc:@softmax_linear/biases\"], _has_manual_control_dependencies=true, use_locking=true, validate_shape=true, _device=\"/device:CPU:0\"](softmax_linear/biases, softmax_linear/biases/Initializer/Const)}}' was changed by setting attribute after it was run by a session. This mutation will have no effect, and will trigger an error in the future. Either don't modify nodes after running them or create a new session.\n"
     ]
    },
    {
     "name": "stdout",
     "output_type": "stream",
     "text": [
      "Epoch -1 tr: l 4.672 a 0.104  clct[60, 0] ans[31, 29] cl_acc 0.517 4.083sec\n"
     ]
    },
    {
     "name": "stderr",
     "output_type": "stream",
     "text": [
      "2025-06-01 21:32:51.150012: W tensorflow/c/c_api.cc:305] Operation '{name:'softmax_linear/biases/Assign' id:221 op device:{requested: '/device:CPU:0', assigned: ''} def:{{{node softmax_linear/biases/Assign}} = Assign[T=DT_FLOAT, _class=[\"loc:@softmax_linear/biases\"], _has_manual_control_dependencies=true, use_locking=true, validate_shape=true, _device=\"/device:CPU:0\"](softmax_linear/biases, softmax_linear/biases/Initializer/Const)}}' was changed by setting attribute after it was run by a session. This mutation will have no effect, and will trigger an error in the future. Either don't modify nodes after running them or create a new session.\n"
     ]
    },
    {
     "name": "stdout",
     "output_type": "stream",
     "text": [
      "Epoch -1 tr: l 4.676 a 0.107  clct[32, 28] ans[33, 27] cl_acc 0.583 3.503sec\n",
      "found good initializer\n"
     ]
    },
    {
     "name": "stdout",
     "output_type": "stream",
     "text": [
      "Epoch -1 tr: l 4.676 a 0.107  clct[30, 30] ans[31, 29] cl_acc 0.550 3.440sec\n"
     ]
    },
    {
     "name": "stdout",
     "output_type": "stream",
     "text": [
      "Epoch -1 tst: l 4.676 a 0.105  clct[23, 17] ans[20, 20] cl_acc 0.525 2.190sec\n"
     ]
    },
    {
     "name": "stdout",
     "output_type": "stream",
     "text": [
      "Epoch 0 tr: l 2.074 a 0.345  clct[13, 47] ans[32, 28] lr 0.250000 cl_acc 0.517 44.248sec(train) 3.616sec(infer)\n"
     ]
    },
    {
     "name": "stdout",
     "output_type": "stream",
     "text": [
      "Epoch 0 tst: l 1.962 a 0.380  clct[3, 37] ans[20, 20] cl_acc 0.575 2.242sec\n",
      "result written at output/results.pickle\n"
     ]
    },
    {
     "name": "stdout",
     "output_type": "stream",
     "text": [
      "Epoch 1 tr: l 1.944 a 0.441  clct[16, 44] ans[32, 28] lr 0.247500 cl_acc 0.733 44.617sec(train) 3.522sec(infer)\n"
     ]
    },
    {
     "name": "stdout",
     "output_type": "stream",
     "text": [
      "Epoch 1 tst: l 1.853 a 0.468  clct[5, 35] ans[20, 20] cl_acc 0.625 2.145sec\n"
     ]
    },
    {
     "name": "stdout",
     "output_type": "stream",
     "text": [
      "Epoch 2 tr: l 1.745 a 0.522  clct[32, 28] ans[32, 28] lr 0.245025 cl_acc 1.000 44.511sec(train) 3.591sec(infer)\n"
     ]
    },
    {
     "name": "stdout",
     "output_type": "stream",
     "text": [
      "Epoch 2 tst: l 1.647 a 0.559  clct[20, 20] ans[20, 20] cl_acc 1.000 2.313sec\n"
     ]
    },
    {
     "name": "stdout",
     "output_type": "stream",
     "text": [
      "Epoch 3 tr: l 1.732 a 0.556  clct[29, 31] ans[29, 31] lr 0.242575 cl_acc 1.000 44.285sec(train) 3.622sec(infer)\n"
     ]
    },
    {
     "name": "stdout",
     "output_type": "stream",
     "text": [
      "Epoch 3 tst: l 1.660 a 0.586  clct[20, 20] ans[20, 20] cl_acc 1.000 2.317sec\n"
     ]
    },
    {
     "name": "stdout",
     "output_type": "stream",
     "text": [
      "Epoch 4 tr: l 1.717 a 0.586  clct[31, 29] ans[31, 29] lr 0.240149 cl_acc 1.000 44.156sec(train) 3.509sec(infer)\n"
     ]
    },
    {
     "name": "stdout",
     "output_type": "stream",
     "text": [
      "Epoch 4 tst: l 1.608 a 0.625  clct[20, 20] ans[20, 20] cl_acc 1.000 2.255sec\n"
     ]
    },
    {
     "name": "stdout",
     "output_type": "stream",
     "text": [
      "Epoch 5 tr: l 1.756 a 0.582  clct[33, 27] ans[33, 27] lr 0.237748 cl_acc 1.000 44.015sec(train) 3.530sec(infer)\n"
     ]
    },
    {
     "name": "stdout",
     "output_type": "stream",
     "text": [
      "Epoch 5 tst: l 1.630 a 0.622  clct[20, 20] ans[20, 20] cl_acc 1.000 2.190sec\n"
     ]
    },
    {
     "name": "stdout",
     "output_type": "stream",
     "text": [
      "Epoch 6 tr: l 1.846 a 0.566  clct[27, 33] ans[27, 33] lr 0.235370 cl_acc 1.000 44.177sec(train) 3.531sec(infer)\n"
     ]
    },
    {
     "name": "stdout",
     "output_type": "stream",
     "text": [
      "Epoch 6 tst: l 1.720 a 0.604  clct[20, 20] ans[20, 20] cl_acc 1.000 2.214sec\n"
     ]
    },
    {
     "name": "stdout",
     "output_type": "stream",
     "text": [
      "Epoch 7 tr: l 1.667 a 0.609  clct[29, 31] ans[29, 31] lr 0.233016 cl_acc 1.000 44.572sec(train) 3.466sec(infer)\n"
     ]
    },
    {
     "name": "stdout",
     "output_type": "stream",
     "text": [
      "Epoch 7 tst: l 1.582 a 0.646  clct[20, 20] ans[20, 20] cl_acc 1.000 2.183sec\n"
     ]
    },
    {
     "name": "stdout",
     "output_type": "stream",
     "text": [
      "Epoch 8 tr: l 1.703 a 0.610  clct[33, 27] ans[33, 27] lr 0.230686 cl_acc 1.000 44.233sec(train) 3.655sec(infer)\n"
     ]
    },
    {
     "name": "stdout",
     "output_type": "stream",
     "text": [
      "Epoch 8 tst: l 1.582 a 0.650  clct[20, 20] ans[20, 20] cl_acc 1.000 2.274sec\n"
     ]
    },
    {
     "name": "stdout",
     "output_type": "stream",
     "text": [
      "Epoch 9 tr: l 1.581 a 0.635  clct[28, 32] ans[28, 32] lr 0.228379 cl_acc 1.000 44.598sec(train) 3.542sec(infer)\n"
     ]
    },
    {
     "name": "stdout",
     "output_type": "stream",
     "text": [
      "Epoch 9 tst: l 1.509 a 0.658  clct[20, 20] ans[20, 20] cl_acc 1.000 2.184sec\n"
     ]
    },
    {
     "name": "stdout",
     "output_type": "stream",
     "text": [
      "Epoch 10 tr: l 1.654 a 0.632  clct[30, 30] ans[30, 30] lr 0.226096 cl_acc 1.000 44.465sec(train) 3.642sec(infer)\n"
     ]
    },
    {
     "name": "stdout",
     "output_type": "stream",
     "text": [
      "Epoch 10 tst: l 1.541 a 0.668  clct[20, 20] ans[20, 20] cl_acc 1.000 2.251sec\n",
      "result written at output/results.pickle\n"
     ]
    },
    {
     "name": "stdout",
     "output_type": "stream",
     "text": [
      "Epoch 11 tr: l 1.620 a 0.631  clct[29, 31] ans[29, 31] lr 0.223835 cl_acc 1.000 44.133sec(train) 3.721sec(infer)\n"
     ]
    },
    {
     "name": "stdout",
     "output_type": "stream",
     "text": [
      "Epoch 11 tst: l 1.530 a 0.663  clct[20, 20] ans[20, 20] cl_acc 1.000 2.375sec\n"
     ]
    },
    {
     "name": "stdout",
     "output_type": "stream",
     "text": [
      "Epoch 12 tr: l 1.572 a 0.646  clct[32, 28] ans[32, 28] lr 0.221596 cl_acc 1.000 44.014sec(train) 3.634sec(infer)\n"
     ]
    },
    {
     "name": "stdout",
     "output_type": "stream",
     "text": [
      "Epoch 12 tst: l 1.500 a 0.674  clct[20, 20] ans[20, 20] cl_acc 1.000 2.268sec\n"
     ]
    },
    {
     "name": "stdout",
     "output_type": "stream",
     "text": [
      "Epoch 13 tr: l 1.596 a 0.646  clct[30, 30] ans[30, 30] lr 0.219380 cl_acc 1.000 44.129sec(train) 3.655sec(infer)\n"
     ]
    },
    {
     "name": "stdout",
     "output_type": "stream",
     "text": [
      "Epoch 13 tst: l 1.496 a 0.679  clct[20, 20] ans[20, 20] cl_acc 1.000 2.248sec\n"
     ]
    },
    {
     "name": "stdout",
     "output_type": "stream",
     "text": [
      "Epoch 14 tr: l 1.674 a 0.624  clct[30, 30] ans[30, 30] lr 0.217186 cl_acc 1.000 44.304sec(train) 3.812sec(infer)\n"
     ]
    },
    {
     "name": "stdout",
     "output_type": "stream",
     "text": [
      "Epoch 14 tst: l 1.569 a 0.655  clct[20, 20] ans[20, 20] cl_acc 1.000 2.352sec\n"
     ]
    },
    {
     "name": "stdout",
     "output_type": "stream",
     "text": [
      "Epoch 15 tr: l 1.542 a 0.647  clct[30, 30] ans[30, 30] lr 0.215015 cl_acc 1.000 44.143sec(train) 3.530sec(infer)\n"
     ]
    },
    {
     "name": "stdout",
     "output_type": "stream",
     "text": [
      "Epoch 15 tst: l 1.468 a 0.677  clct[20, 20] ans[20, 20] cl_acc 1.000 2.198sec\n"
     ]
    },
    {
     "name": "stdout",
     "output_type": "stream",
     "text": [
      "Epoch 16 tr: l 1.525 a 0.669  clct[31, 29] ans[31, 29] lr 0.212864 cl_acc 1.000 44.169sec(train) 3.735sec(infer)\n"
     ]
    },
    {
     "name": "stdout",
     "output_type": "stream",
     "text": [
      "Epoch 16 tst: l 1.488 a 0.681  clct[20, 20] ans[20, 20] cl_acc 1.000 2.340sec\n"
     ]
    },
    {
     "name": "stdout",
     "output_type": "stream",
     "text": [
      "Epoch 17 tr: l 1.539 a 0.662  clct[35, 25] ans[35, 25] lr 0.210736 cl_acc 1.000 44.219sec(train) 3.500sec(infer)\n"
     ]
    },
    {
     "name": "stdout",
     "output_type": "stream",
     "text": [
      "Epoch 17 tst: l 1.492 a 0.687  clct[20, 20] ans[20, 20] cl_acc 1.000 2.194sec\n"
     ]
    },
    {
     "name": "stdout",
     "output_type": "stream",
     "text": [
      "Epoch 18 tr: l 1.512 a 0.665  clct[31, 29] ans[31, 29] lr 0.208628 cl_acc 1.000 44.296sec(train) 3.646sec(infer)\n"
     ]
    },
    {
     "name": "stdout",
     "output_type": "stream",
     "text": [
      "Epoch 18 tst: l 1.443 a 0.694  clct[20, 20] ans[20, 20] cl_acc 1.000 2.245sec\n"
     ]
    },
    {
     "name": "stdout",
     "output_type": "stream",
     "text": [
      "Epoch 19 tr: l 1.603 a 0.642  clct[34, 26] ans[34, 26] lr 0.206542 cl_acc 1.000 44.150sec(train) 3.491sec(infer)\n"
     ]
    },
    {
     "name": "stdout",
     "output_type": "stream",
     "text": [
      "Epoch 19 tst: l 1.576 a 0.658  clct[20, 20] ans[20, 20] cl_acc 1.000 2.225sec\n"
     ]
    },
    {
     "name": "stdout",
     "output_type": "stream",
     "text": [
      "Epoch 20 tr: l 1.568 a 0.654  clct[20, 40] ans[20, 40] lr 0.204477 cl_acc 1.000 44.459sec(train) 3.493sec(infer)\n"
     ]
    },
    {
     "name": "stdout",
     "output_type": "stream",
     "text": [
      "Epoch 20 tst: l 1.483 a 0.689  clct[20, 20] ans[20, 20] cl_acc 1.000 2.230sec\n",
      "result written at output/results.pickle\n"
     ]
    },
    {
     "name": "stdout",
     "output_type": "stream",
     "text": [
      "Epoch 21 tr: l 1.624 a 0.643  clct[26, 34] ans[26, 34] lr 0.202432 cl_acc 1.000 44.453sec(train) 3.550sec(infer)\n"
     ]
    },
    {
     "name": "stdout",
     "output_type": "stream",
     "text": [
      "Epoch 21 tst: l 1.589 a 0.662  clct[20, 20] ans[20, 20] cl_acc 1.000 2.202sec\n"
     ]
    },
    {
     "name": "stdout",
     "output_type": "stream",
     "text": [
      "Epoch 22 tr: l 1.469 a 0.676  clct[27, 33] ans[27, 33] lr 0.200408 cl_acc 1.000 44.222sec(train) 3.805sec(infer)\n"
     ]
    },
    {
     "name": "stdout",
     "output_type": "stream",
     "text": [
      "Epoch 22 tst: l 1.413 a 0.703  clct[20, 20] ans[20, 20] cl_acc 1.000 2.446sec\n"
     ]
    },
    {
     "name": "stdout",
     "output_type": "stream",
     "text": [
      "Epoch 23 tr: l 1.476 a 0.676  clct[27, 33] ans[27, 33] lr 0.198404 cl_acc 1.000 43.998sec(train) 3.601sec(infer)\n"
     ]
    },
    {
     "name": "stdout",
     "output_type": "stream",
     "text": [
      "Epoch 23 tst: l 1.437 a 0.696  clct[20, 20] ans[20, 20] cl_acc 1.000 2.267sec\n"
     ]
    },
    {
     "name": "stdout",
     "output_type": "stream",
     "text": [
      "Epoch 24 tr: l 1.439 a 0.679  clct[33, 27] ans[33, 27] lr 0.196420 cl_acc 1.000 44.264sec(train) 3.635sec(infer)\n"
     ]
    },
    {
     "name": "stdout",
     "output_type": "stream",
     "text": [
      "Epoch 24 tst: l 1.417 a 0.697  clct[20, 20] ans[20, 20] cl_acc 1.000 2.295sec\n"
     ]
    },
    {
     "name": "stdout",
     "output_type": "stream",
     "text": [
      "Epoch 25 tr: l 1.506 a 0.662  clct[26, 34] ans[26, 34] lr 0.194455 cl_acc 1.000 44.218sec(train) 3.769sec(infer)\n"
     ]
    },
    {
     "name": "stdout",
     "output_type": "stream",
     "text": [
      "Epoch 25 tst: l 1.457 a 0.685  clct[20, 20] ans[20, 20] cl_acc 1.000 2.358sec\n"
     ]
    },
    {
     "name": "stdout",
     "output_type": "stream",
     "text": [
      "Epoch 26 tr: l 1.403 a 0.694  clct[27, 33] ans[27, 33] lr 0.192511 cl_acc 1.000 44.222sec(train) 3.560sec(infer)\n"
     ]
    },
    {
     "name": "stdout",
     "output_type": "stream",
     "text": [
      "Epoch 26 tst: l 1.344 a 0.715  clct[20, 20] ans[20, 20] cl_acc 1.000 2.222sec\n"
     ]
    },
    {
     "name": "stdout",
     "output_type": "stream",
     "text": [
      "Epoch 27 tr: l 1.458 a 0.684  clct[28, 32] ans[28, 32] lr 0.190586 cl_acc 1.000 44.154sec(train) 3.566sec(infer)\n"
     ]
    },
    {
     "name": "stdout",
     "output_type": "stream",
     "text": [
      "Epoch 27 tst: l 1.406 a 0.710  clct[20, 20] ans[20, 20] cl_acc 1.000 2.177sec\n"
     ]
    },
    {
     "name": "stdout",
     "output_type": "stream",
     "text": [
      "Epoch 28 tr: l 1.452 a 0.682  clct[30, 30] ans[30, 30] lr 0.188680 cl_acc 1.000 44.076sec(train) 3.524sec(infer)\n"
     ]
    },
    {
     "name": "stdout",
     "output_type": "stream",
     "text": [
      "Epoch 28 tst: l 1.402 a 0.707  clct[20, 20] ans[20, 20] cl_acc 1.000 2.202sec\n"
     ]
    },
    {
     "name": "stdout",
     "output_type": "stream",
     "text": [
      "Epoch 29 tr: l 1.413 a 0.686  clct[30, 30] ans[30, 30] lr 0.186793 cl_acc 1.000 44.641sec(train) 3.674sec(infer)\n"
     ]
    },
    {
     "name": "stdout",
     "output_type": "stream",
     "text": [
      "Epoch 29 tst: l 1.385 a 0.700  clct[20, 20] ans[20, 20] cl_acc 1.000 2.409sec\n"
     ]
    },
    {
     "name": "stdout",
     "output_type": "stream",
     "text": [
      "Epoch 30 tr: l 1.469 a 0.679  clct[29, 31] ans[29, 31] lr 0.184925 cl_acc 1.000 44.538sec(train) 3.646sec(infer)\n"
     ]
    },
    {
     "name": "stdout",
     "output_type": "stream",
     "text": [
      "Epoch 30 tst: l 1.406 a 0.703  clct[20, 20] ans[20, 20] cl_acc 1.000 2.250sec\n",
      "result written at output/results.pickle\n"
     ]
    },
    {
     "name": "stdout",
     "output_type": "stream",
     "text": [
      "Epoch 31 tr: l 1.443 a 0.690  clct[28, 32] ans[28, 32] lr 0.183076 cl_acc 1.000 43.856sec(train) 3.526sec(infer)\n"
     ]
    },
    {
     "name": "stdout",
     "output_type": "stream",
     "text": [
      "Epoch 31 tst: l 1.366 a 0.710  clct[20, 20] ans[20, 20] cl_acc 1.000 2.183sec\n"
     ]
    },
    {
     "name": "stdout",
     "output_type": "stream",
     "text": [
      "Epoch 32 tr: l 1.398 a 0.693  clct[33, 27] ans[33, 27] lr 0.181245 cl_acc 1.000 44.069sec(train) 3.566sec(infer)\n"
     ]
    },
    {
     "name": "stdout",
     "output_type": "stream",
     "text": [
      "Epoch 32 tst: l 1.341 a 0.716  clct[20, 20] ans[20, 20] cl_acc 1.000 2.215sec\n"
     ]
    },
    {
     "name": "stdout",
     "output_type": "stream",
     "text": [
      "Epoch 33 tr: l 1.343 a 0.708  clct[29, 31] ans[29, 31] lr 0.179433 cl_acc 1.000 44.540sec(train) 3.501sec(infer)\n"
     ]
    },
    {
     "name": "stdout",
     "output_type": "stream",
     "text": [
      "Epoch 33 tst: l 1.322 a 0.719  clct[20, 20] ans[20, 20] cl_acc 1.000 2.185sec\n"
     ]
    },
    {
     "name": "stdout",
     "output_type": "stream",
     "text": [
      "Epoch 34 tr: l 1.471 a 0.673  clct[31, 29] ans[31, 29] lr 0.177638 cl_acc 1.000 44.382sec(train) 3.494sec(infer)\n"
     ]
    },
    {
     "name": "stdout",
     "output_type": "stream",
     "text": [
      "Epoch 34 tst: l 1.434 a 0.695  clct[20, 20] ans[20, 20] cl_acc 1.000 2.223sec\n"
     ]
    },
    {
     "name": "stdout",
     "output_type": "stream",
     "text": [
      "Epoch 35 tr: l 1.304 a 0.714  clct[33, 27] ans[33, 27] lr 0.175862 cl_acc 1.000 44.003sec(train) 3.509sec(infer)\n"
     ]
    },
    {
     "name": "stdout",
     "output_type": "stream",
     "text": [
      "Epoch 35 tst: l 1.288 a 0.725  clct[20, 20] ans[20, 20] cl_acc 1.000 2.225sec\n"
     ]
    },
    {
     "name": "stdout",
     "output_type": "stream",
     "text": [
      "Epoch 36 tr: l 1.354 a 0.710  clct[30, 30] ans[30, 30] lr 0.174103 cl_acc 1.000 44.309sec(train) 3.910sec(infer)\n"
     ]
    },
    {
     "name": "stdout",
     "output_type": "stream",
     "text": [
      "Epoch 36 tst: l 1.298 a 0.731  clct[20, 20] ans[20, 20] cl_acc 1.000 2.423sec\n"
     ]
    },
    {
     "name": "stdout",
     "output_type": "stream",
     "text": [
      "Epoch 37 tr: l 1.324 a 0.710  clct[28, 32] ans[28, 32] lr 0.172362 cl_acc 1.000 44.343sec(train) 3.689sec(infer)\n"
     ]
    },
    {
     "name": "stdout",
     "output_type": "stream",
     "text": [
      "Epoch 37 tst: l 1.291 a 0.725  clct[20, 20] ans[20, 20] cl_acc 1.000 2.330sec\n"
     ]
    },
    {
     "name": "stdout",
     "output_type": "stream",
     "text": [
      "Epoch 38 tr: l 1.384 a 0.698  clct[33, 27] ans[33, 27] lr 0.170639 cl_acc 1.000 44.290sec(train) 3.703sec(infer)\n"
     ]
    },
    {
     "name": "stdout",
     "output_type": "stream",
     "text": [
      "Epoch 38 tst: l 1.352 a 0.714  clct[20, 20] ans[20, 20] cl_acc 1.000 2.365sec\n"
     ]
    },
    {
     "name": "stdout",
     "output_type": "stream",
     "text": [
      "Epoch 39 tr: l 1.290 a 0.720  clct[33, 27] ans[33, 27] lr 0.168932 cl_acc 1.000 44.205sec(train) 3.618sec(infer)\n"
     ]
    },
    {
     "name": "stdout",
     "output_type": "stream",
     "text": [
      "Epoch 39 tst: l 1.253 a 0.738  clct[20, 20] ans[20, 20] cl_acc 1.000 2.203sec\n"
     ]
    },
    {
     "name": "stdout",
     "output_type": "stream",
     "text": [
      "Epoch 40 tr: l 1.325 a 0.710  clct[38, 22] ans[38, 22] lr 0.167243 cl_acc 1.000 43.913sec(train) 3.807sec(infer)\n"
     ]
    },
    {
     "name": "stdout",
     "output_type": "stream",
     "text": [
      "Epoch 40 tst: l 1.322 a 0.720  clct[20, 20] ans[20, 20] cl_acc 1.000 2.437sec\n",
      "result written at output/results.pickle\n"
     ]
    },
    {
     "name": "stdout",
     "output_type": "stream",
     "text": [
      "Epoch 41 tr: l 1.361 a 0.711  clct[33, 27] ans[33, 27] lr 0.165571 cl_acc 1.000 44.493sec(train) 3.636sec(infer)\n"
     ]
    },
    {
     "name": "stdout",
     "output_type": "stream",
     "text": [
      "Epoch 41 tst: l 1.351 a 0.725  clct[20, 20] ans[20, 20] cl_acc 1.000 2.240sec\n"
     ]
    },
    {
     "name": "stdout",
     "output_type": "stream",
     "text": [
      "Epoch 42 tr: l 1.318 a 0.717  clct[31, 29] ans[31, 29] lr 0.163915 cl_acc 1.000 44.414sec(train) 3.800sec(infer)\n"
     ]
    },
    {
     "name": "stdout",
     "output_type": "stream",
     "text": [
      "Epoch 42 tst: l 1.293 a 0.730  clct[20, 20] ans[20, 20] cl_acc 1.000 2.340sec\n"
     ]
    },
    {
     "name": "stdout",
     "output_type": "stream",
     "text": [
      "Epoch 43 tr: l 1.305 a 0.719  clct[36, 24] ans[36, 24] lr 0.162276 cl_acc 1.000 43.756sec(train) 3.660sec(infer)\n"
     ]
    },
    {
     "name": "stdout",
     "output_type": "stream",
     "text": [
      "Epoch 43 tst: l 1.311 a 0.725  clct[20, 20] ans[20, 20] cl_acc 1.000 2.262sec\n"
     ]
    },
    {
     "name": "stdout",
     "output_type": "stream",
     "text": [
      "Epoch 44 tr: l 1.287 a 0.713  clct[36, 24] ans[36, 24] lr 0.160653 cl_acc 1.000 44.095sec(train) 3.797sec(infer)\n"
     ]
    },
    {
     "name": "stdout",
     "output_type": "stream",
     "text": [
      "Epoch 44 tst: l 1.235 a 0.735  clct[20, 20] ans[20, 20] cl_acc 1.000 2.399sec\n"
     ]
    },
    {
     "name": "stdout",
     "output_type": "stream",
     "text": [
      "Epoch 45 tr: l 1.293 a 0.722  clct[30, 30] ans[30, 30] lr 0.159046 cl_acc 1.000 44.224sec(train) 3.940sec(infer)\n"
     ]
    },
    {
     "name": "stdout",
     "output_type": "stream",
     "text": [
      "Epoch 45 tst: l 1.260 a 0.739  clct[20, 20] ans[20, 20] cl_acc 1.000 2.470sec\n"
     ]
    },
    {
     "name": "stdout",
     "output_type": "stream",
     "text": [
      "Epoch 46 tr: l 1.272 a 0.720  clct[30, 30] ans[30, 30] lr 0.157456 cl_acc 1.000 44.406sec(train) 3.703sec(infer)\n"
     ]
    },
    {
     "name": "stdout",
     "output_type": "stream",
     "text": [
      "Epoch 46 tst: l 1.232 a 0.740  clct[20, 20] ans[20, 20] cl_acc 1.000 2.268sec\n"
     ]
    },
    {
     "name": "stdout",
     "output_type": "stream",
     "text": [
      "Epoch 47 tr: l 1.333 a 0.715  clct[28, 32] ans[28, 32] lr 0.155881 cl_acc 1.000 45.332sec(train) 3.691sec(infer)\n"
     ]
    },
    {
     "name": "stdout",
     "output_type": "stream",
     "text": [
      "Epoch 47 tst: l 1.289 a 0.731  clct[20, 20] ans[20, 20] cl_acc 1.000 2.297sec\n"
     ]
    },
    {
     "name": "stdout",
     "output_type": "stream",
     "text": [
      "Epoch 48 tr: l 1.353 a 0.712  clct[29, 31] ans[29, 31] lr 0.154323 cl_acc 1.000 45.006sec(train) 3.718sec(infer)\n"
     ]
    },
    {
     "name": "stdout",
     "output_type": "stream",
     "text": [
      "Epoch 48 tst: l 1.353 a 0.716  clct[20, 20] ans[20, 20] cl_acc 1.000 2.342sec\n"
     ]
    },
    {
     "name": "stdout",
     "output_type": "stream",
     "text": [
      "Epoch 49 tr: l 1.315 a 0.711  clct[37, 23] ans[37, 23] lr 0.152779 cl_acc 1.000 44.263sec(train) 3.678sec(infer)\n"
     ]
    },
    {
     "name": "stdout",
     "output_type": "stream",
     "text": [
      "Epoch 49 tst: l 1.315 a 0.717  clct[20, 20] ans[20, 20] cl_acc 1.000 2.312sec\n"
     ]
    },
    {
     "name": "stdout",
     "output_type": "stream",
     "text": [
      "Epoch 50 tr: l 1.273 a 0.719  clct[33, 27] ans[33, 27] lr 0.151252 cl_acc 1.000 44.310sec(train) 3.710sec(infer)\n"
     ]
    },
    {
     "name": "stdout",
     "output_type": "stream",
     "text": [
      "Epoch 50 tst: l 1.266 a 0.731  clct[20, 20] ans[20, 20] cl_acc 1.000 2.306sec\n",
      "result written at output/results.pickle\n"
     ]
    },
    {
     "name": "stdout",
     "output_type": "stream",
     "text": [
      "Epoch 51 tr: l 1.210 a 0.740  clct[30, 30] ans[30, 30] lr 0.149739 cl_acc 1.000 44.250sec(train) 3.959sec(infer)\n"
     ]
    },
    {
     "name": "stdout",
     "output_type": "stream",
     "text": [
      "Epoch 51 tst: l 1.207 a 0.746  clct[20, 20] ans[20, 20] cl_acc 1.000 2.420sec\n"
     ]
    },
    {
     "name": "stdout",
     "output_type": "stream",
     "text": [
      "Epoch 52 tr: l 1.267 a 0.722  clct[30, 30] ans[30, 30] lr 0.148242 cl_acc 1.000 45.190sec(train) 3.704sec(infer)\n"
     ]
    },
    {
     "name": "stdout",
     "output_type": "stream",
     "text": [
      "Epoch 52 tst: l 1.254 a 0.737  clct[20, 20] ans[20, 20] cl_acc 1.000 2.303sec\n"
     ]
    },
    {
     "name": "stdout",
     "output_type": "stream",
     "text": [
      "Epoch 53 tr: l 1.284 a 0.724  clct[25, 35] ans[25, 35] lr 0.146759 cl_acc 1.000 44.823sec(train) 3.621sec(infer)\n"
     ]
    },
    {
     "name": "stdout",
     "output_type": "stream",
     "text": [
      "Epoch 53 tst: l 1.280 a 0.735  clct[20, 20] ans[20, 20] cl_acc 1.000 2.234sec\n"
     ]
    },
    {
     "name": "stdout",
     "output_type": "stream",
     "text": [
      "Epoch 54 tr: l 1.203 a 0.746  clct[29, 31] ans[29, 31] lr 0.145292 cl_acc 1.000 45.072sec(train) 3.822sec(infer)\n"
     ]
    },
    {
     "name": "stdout",
     "output_type": "stream",
     "text": [
      "Epoch 54 tst: l 1.237 a 0.745  clct[20, 20] ans[20, 20] cl_acc 1.000 2.371sec\n"
     ]
    },
    {
     "name": "stdout",
     "output_type": "stream",
     "text": [
      "Epoch 55 tr: l 1.211 a 0.728  clct[36, 24] ans[36, 24] lr 0.143839 cl_acc 1.000 44.186sec(train) 3.667sec(infer)\n"
     ]
    },
    {
     "name": "stdout",
     "output_type": "stream",
     "text": [
      "Epoch 55 tst: l 1.168 a 0.748  clct[20, 20] ans[20, 20] cl_acc 1.000 2.301sec\n"
     ]
    },
    {
     "name": "stdout",
     "output_type": "stream",
     "text": [
      "Epoch 56 tr: l 1.161 a 0.748  clct[34, 26] ans[34, 26] lr 0.142400 cl_acc 1.000 44.473sec(train) 3.679sec(infer)\n"
     ]
    },
    {
     "name": "stdout",
     "output_type": "stream",
     "text": [
      "Epoch 56 tst: l 1.155 a 0.754  clct[20, 20] ans[20, 20] cl_acc 1.000 2.296sec\n"
     ]
    },
    {
     "name": "stdout",
     "output_type": "stream",
     "text": [
      "Epoch 57 tr: l 1.213 a 0.736  clct[33, 27] ans[33, 27] lr 0.140976 cl_acc 1.000 44.370sec(train) 3.936sec(infer)\n"
     ]
    },
    {
     "name": "stdout",
     "output_type": "stream",
     "text": [
      "Epoch 57 tst: l 1.224 a 0.740  clct[20, 20] ans[20, 20] cl_acc 1.000 2.432sec\n"
     ]
    },
    {
     "name": "stdout",
     "output_type": "stream",
     "text": [
      "Epoch 58 tr: l 1.221 a 0.730  clct[33, 27] ans[33, 27] lr 0.139567 cl_acc 1.000 44.668sec(train) 3.516sec(infer)\n"
     ]
    },
    {
     "name": "stdout",
     "output_type": "stream",
     "text": [
      "Epoch 58 tst: l 1.209 a 0.740  clct[20, 20] ans[20, 20] cl_acc 1.000 2.216sec\n"
     ]
    },
    {
     "name": "stdout",
     "output_type": "stream",
     "text": [
      "Epoch 59 tr: l 1.190 a 0.744  clct[31, 29] ans[31, 29] lr 0.138171 cl_acc 1.000 44.482sec(train) 3.584sec(infer)\n"
     ]
    },
    {
     "name": "stdout",
     "output_type": "stream",
     "text": [
      "Epoch 59 tst: l 1.200 a 0.746  clct[20, 20] ans[20, 20] cl_acc 1.000 2.265sec\n"
     ]
    },
    {
     "name": "stdout",
     "output_type": "stream",
     "text": [
      "Epoch 60 tr: l 1.209 a 0.731  clct[31, 29] ans[31, 29] lr 0.136789 cl_acc 1.000 44.233sec(train) 3.580sec(infer)\n"
     ]
    },
    {
     "name": "stdout",
     "output_type": "stream",
     "text": [
      "Epoch 60 tst: l 1.174 a 0.745  clct[20, 20] ans[20, 20] cl_acc 1.000 2.331sec\n",
      "result written at output/results.pickle\n"
     ]
    },
    {
     "name": "stdout",
     "output_type": "stream",
     "text": [
      "Epoch 61 tr: l 1.197 a 0.737  clct[34, 26] ans[34, 26] lr 0.135421 cl_acc 1.000 44.658sec(train) 3.605sec(infer)\n"
     ]
    },
    {
     "name": "stdout",
     "output_type": "stream",
     "text": [
      "Epoch 61 tst: l 1.217 a 0.738  clct[20, 20] ans[20, 20] cl_acc 1.000 2.207sec\n"
     ]
    },
    {
     "name": "stdout",
     "output_type": "stream",
     "text": [
      "Epoch 62 tr: l 1.224 a 0.730  clct[35, 25] ans[35, 25] lr 0.134067 cl_acc 1.000 44.554sec(train) 3.613sec(infer)\n"
     ]
    },
    {
     "name": "stdout",
     "output_type": "stream",
     "text": [
      "Epoch 62 tst: l 1.199 a 0.745  clct[20, 20] ans[20, 20] cl_acc 1.000 2.457sec\n"
     ]
    },
    {
     "name": "stdout",
     "output_type": "stream",
     "text": [
      "Epoch 63 tr: l 1.111 a 0.756  clct[32, 28] ans[32, 28] lr 0.132726 cl_acc 1.000 44.632sec(train) 3.662sec(infer)\n"
     ]
    },
    {
     "name": "stdout",
     "output_type": "stream",
     "text": [
      "Epoch 63 tst: l 1.140 a 0.755  clct[20, 20] ans[20, 20] cl_acc 1.000 2.266sec\n"
     ]
    },
    {
     "name": "stdout",
     "output_type": "stream",
     "text": [
      "Epoch 64 tr: l 1.263 a 0.732  clct[28, 32] ans[28, 32] lr 0.131399 cl_acc 1.000 44.398sec(train) 3.685sec(infer)\n"
     ]
    },
    {
     "name": "stdout",
     "output_type": "stream",
     "text": [
      "Epoch 64 tst: l 1.264 a 0.736  clct[20, 20] ans[20, 20] cl_acc 1.000 2.332sec\n"
     ]
    },
    {
     "name": "stdout",
     "output_type": "stream",
     "text": [
      "Epoch 65 tr: l 1.114 a 0.753  clct[32, 28] ans[32, 28] lr 0.130085 cl_acc 1.000 44.569sec(train) 3.605sec(infer)\n"
     ]
    },
    {
     "name": "stdout",
     "output_type": "stream",
     "text": [
      "Epoch 65 tst: l 1.125 a 0.757  clct[20, 20] ans[20, 20] cl_acc 1.000 2.324sec\n"
     ]
    },
    {
     "name": "stdout",
     "output_type": "stream",
     "text": [
      "Epoch 66 tr: l 1.125 a 0.751  clct[27, 33] ans[27, 33] lr 0.128784 cl_acc 1.000 44.030sec(train) 3.850sec(infer)\n"
     ]
    },
    {
     "name": "stdout",
     "output_type": "stream",
     "text": [
      "Epoch 66 tst: l 1.129 a 0.755  clct[20, 20] ans[20, 20] cl_acc 1.000 2.428sec\n"
     ]
    },
    {
     "name": "stdout",
     "output_type": "stream",
     "text": [
      "Epoch 67 tr: l 1.134 a 0.748  clct[36, 24] ans[36, 24] lr 0.127496 cl_acc 1.000 44.297sec(train) 3.768sec(infer)\n"
     ]
    },
    {
     "name": "stdout",
     "output_type": "stream",
     "text": [
      "Epoch 67 tst: l 1.129 a 0.756  clct[20, 20] ans[20, 20] cl_acc 1.000 2.463sec\n"
     ]
    },
    {
     "name": "stdout",
     "output_type": "stream",
     "text": [
      "Epoch 68 tr: l 1.163 a 0.733  clct[31, 29] ans[31, 29] lr 0.126221 cl_acc 1.000 44.134sec(train) 3.659sec(infer)\n"
     ]
    },
    {
     "name": "stdout",
     "output_type": "stream",
     "text": [
      "Epoch 68 tst: l 1.139 a 0.745  clct[20, 20] ans[20, 20] cl_acc 1.000 2.450sec\n"
     ]
    },
    {
     "name": "stdout",
     "output_type": "stream",
     "text": [
      "Epoch 69 tr: l 1.135 a 0.747  clct[22, 38] ans[22, 38] lr 0.124959 cl_acc 1.000 44.106sec(train) 3.822sec(infer)\n"
     ]
    },
    {
     "name": "stdout",
     "output_type": "stream",
     "text": [
      "Epoch 69 tst: l 1.141 a 0.752  clct[20, 20] ans[20, 20] cl_acc 1.000 2.421sec\n"
     ]
    },
    {
     "name": "stdout",
     "output_type": "stream",
     "text": [
      "Epoch 70 tr: l 1.176 a 0.737  clct[25, 35] ans[25, 35] lr 0.123710 cl_acc 1.000 43.919sec(train) 3.871sec(infer)\n"
     ]
    },
    {
     "name": "stdout",
     "output_type": "stream",
     "text": [
      "Epoch 70 tst: l 1.157 a 0.749  clct[20, 20] ans[20, 20] cl_acc 1.000 2.431sec\n",
      "result written at output/results.pickle\n"
     ]
    },
    {
     "name": "stdout",
     "output_type": "stream",
     "text": [
      "Epoch 71 tr: l 1.132 a 0.747  clct[32, 28] ans[32, 28] lr 0.122473 cl_acc 1.000 44.518sec(train) 3.636sec(infer)\n"
     ]
    },
    {
     "name": "stdout",
     "output_type": "stream",
     "text": [
      "Epoch 71 tst: l 1.093 a 0.760  clct[20, 20] ans[20, 20] cl_acc 1.000 2.289sec\n"
     ]
    },
    {
     "name": "stdout",
     "output_type": "stream",
     "text": [
      "Epoch 72 tr: l 1.101 a 0.754  clct[26, 34] ans[26, 34] lr 0.121248 cl_acc 1.000 44.115sec(train) 3.788sec(infer)\n"
     ]
    },
    {
     "name": "stdout",
     "output_type": "stream",
     "text": [
      "Epoch 72 tst: l 1.129 a 0.754  clct[20, 20] ans[20, 20] cl_acc 1.000 2.472sec\n"
     ]
    },
    {
     "name": "stdout",
     "output_type": "stream",
     "text": [
      "Epoch 73 tr: l 1.208 a 0.725  clct[28, 32] ans[28, 32] lr 0.120035 cl_acc 1.000 44.112sec(train) 3.838sec(infer)\n"
     ]
    },
    {
     "name": "stdout",
     "output_type": "stream",
     "text": [
      "Epoch 73 tst: l 1.189 a 0.738  clct[20, 20] ans[20, 20] cl_acc 1.000 2.470sec\n"
     ]
    },
    {
     "name": "stdout",
     "output_type": "stream",
     "text": [
      "Epoch 74 tr: l 1.112 a 0.756  clct[34, 26] ans[34, 26] lr 0.118835 cl_acc 1.000 44.165sec(train) 3.759sec(infer)\n"
     ]
    },
    {
     "name": "stdout",
     "output_type": "stream",
     "text": [
      "Epoch 74 tst: l 1.106 a 0.760  clct[20, 20] ans[20, 20] cl_acc 1.000 2.410sec\n"
     ]
    },
    {
     "name": "stdout",
     "output_type": "stream",
     "text": [
      "Epoch 75 tr: l 1.136 a 0.744  clct[25, 35] ans[25, 35] lr 0.117647 cl_acc 1.000 44.149sec(train) 3.655sec(infer)\n"
     ]
    },
    {
     "name": "stdout",
     "output_type": "stream",
     "text": [
      "Epoch 75 tst: l 1.114 a 0.758  clct[20, 20] ans[20, 20] cl_acc 1.000 2.367sec\n"
     ]
    },
    {
     "name": "stdout",
     "output_type": "stream",
     "text": [
      "Epoch 76 tr: l 1.098 a 0.758  clct[34, 26] ans[34, 26] lr 0.116470 cl_acc 1.000 43.881sec(train) 3.692sec(infer)\n"
     ]
    },
    {
     "name": "stdout",
     "output_type": "stream",
     "text": [
      "Epoch 76 tst: l 1.125 a 0.759  clct[20, 20] ans[20, 20] cl_acc 1.000 2.321sec\n"
     ]
    },
    {
     "name": "stdout",
     "output_type": "stream",
     "text": [
      "Epoch 77 tr: l 1.137 a 0.748  clct[29, 31] ans[29, 31] lr 0.115305 cl_acc 1.000 44.346sec(train) 3.720sec(infer)\n"
     ]
    },
    {
     "name": "stdout",
     "output_type": "stream",
     "text": [
      "Epoch 77 tst: l 1.114 a 0.761  clct[20, 20] ans[20, 20] cl_acc 1.000 2.297sec\n"
     ]
    },
    {
     "name": "stdout",
     "output_type": "stream",
     "text": [
      "Epoch 78 tr: l 1.100 a 0.754  clct[32, 28] ans[32, 28] lr 0.114152 cl_acc 1.000 44.148sec(train) 3.765sec(infer)\n"
     ]
    },
    {
     "name": "stdout",
     "output_type": "stream",
     "text": [
      "Epoch 78 tst: l 1.098 a 0.760  clct[20, 20] ans[20, 20] cl_acc 1.000 2.340sec\n"
     ]
    },
    {
     "name": "stdout",
     "output_type": "stream",
     "text": [
      "Epoch 79 tr: l 1.118 a 0.748  clct[30, 30] ans[30, 30] lr 0.113011 cl_acc 1.000 43.998sec(train) 3.649sec(infer)\n"
     ]
    },
    {
     "name": "stdout",
     "output_type": "stream",
     "text": [
      "Epoch 79 tst: l 1.117 a 0.755  clct[20, 20] ans[20, 20] cl_acc 1.000 2.344sec\n"
     ]
    },
    {
     "name": "stdout",
     "output_type": "stream",
     "text": [
      "Epoch 80 tr: l 1.113 a 0.749  clct[25, 35] ans[25, 35] lr 0.111881 cl_acc 1.000 44.201sec(train) 3.544sec(infer)\n"
     ]
    },
    {
     "name": "stdout",
     "output_type": "stream",
     "text": [
      "Epoch 80 tst: l 1.119 a 0.756  clct[20, 20] ans[20, 20] cl_acc 1.000 2.242sec\n",
      "result written at output/results.pickle\n"
     ]
    },
    {
     "name": "stdout",
     "output_type": "stream",
     "text": [
      "Epoch 81 tr: l 1.079 a 0.757  clct[28, 32] ans[28, 32] lr 0.110762 cl_acc 1.000 44.591sec(train) 3.567sec(infer)\n"
     ]
    },
    {
     "name": "stdout",
     "output_type": "stream",
     "text": [
      "Epoch 81 tst: l 1.088 a 0.763  clct[20, 20] ans[20, 20] cl_acc 1.000 2.252sec\n"
     ]
    },
    {
     "name": "stdout",
     "output_type": "stream",
     "text": [
      "Epoch 82 tr: l 1.149 a 0.743  clct[33, 27] ans[33, 27] lr 0.109654 cl_acc 1.000 44.325sec(train) 3.543sec(infer)\n"
     ]
    },
    {
     "name": "stdout",
     "output_type": "stream",
     "text": [
      "Epoch 82 tst: l 1.148 a 0.752  clct[20, 20] ans[20, 20] cl_acc 1.000 2.226sec\n"
     ]
    },
    {
     "name": "stdout",
     "output_type": "stream",
     "text": [
      "Epoch 83 tr: l 1.082 a 0.751  clct[32, 28] ans[32, 28] lr 0.108558 cl_acc 1.000 44.202sec(train) 3.680sec(infer)\n"
     ]
    },
    {
     "name": "stdout",
     "output_type": "stream",
     "text": [
      "Epoch 83 tst: l 1.062 a 0.766  clct[20, 20] ans[20, 20] cl_acc 1.000 2.267sec\n"
     ]
    },
    {
     "name": "stdout",
     "output_type": "stream",
     "text": [
      "Epoch 84 tr: l 1.103 a 0.753  clct[32, 28] ans[32, 28] lr 0.107472 cl_acc 1.000 44.242sec(train) 3.655sec(infer)\n"
     ]
    },
    {
     "name": "stdout",
     "output_type": "stream",
     "text": [
      "Epoch 84 tst: l 1.066 a 0.771  clct[20, 20] ans[20, 20] cl_acc 1.000 2.278sec\n"
     ]
    },
    {
     "name": "stdout",
     "output_type": "stream",
     "text": [
      "Epoch 85 tr: l 1.046 a 0.764  clct[33, 27] ans[33, 27] lr 0.106398 cl_acc 1.000 44.369sec(train) 3.646sec(infer)\n"
     ]
    },
    {
     "name": "stdout",
     "output_type": "stream",
     "text": [
      "Epoch 85 tst: l 1.047 a 0.771  clct[20, 20] ans[20, 20] cl_acc 1.000 2.261sec\n"
     ]
    },
    {
     "name": "stdout",
     "output_type": "stream",
     "text": [
      "Epoch 86 tr: l 1.026 a 0.770  clct[31, 29] ans[31, 29] lr 0.105334 cl_acc 1.000 44.237sec(train) 3.598sec(infer)\n"
     ]
    },
    {
     "name": "stdout",
     "output_type": "stream",
     "text": [
      "Epoch 86 tst: l 1.025 a 0.774  clct[20, 20] ans[20, 20] cl_acc 1.000 2.258sec\n"
     ]
    },
    {
     "name": "stdout",
     "output_type": "stream",
     "text": [
      "Epoch 87 tr: l 1.111 a 0.747  clct[28, 32] ans[28, 32] lr 0.104280 cl_acc 1.000 44.396sec(train) 3.558sec(infer)\n"
     ]
    },
    {
     "name": "stdout",
     "output_type": "stream",
     "text": [
      "Epoch 87 tst: l 1.097 a 0.758  clct[20, 20] ans[20, 20] cl_acc 1.000 2.237sec\n"
     ]
    },
    {
     "name": "stdout",
     "output_type": "stream",
     "text": [
      "Epoch 88 tr: l 1.066 a 0.761  clct[30, 30] ans[30, 30] lr 0.103237 cl_acc 1.000 44.138sec(train) 3.576sec(infer)\n"
     ]
    },
    {
     "name": "stdout",
     "output_type": "stream",
     "text": [
      "Epoch 88 tst: l 1.054 a 0.765  clct[20, 20] ans[20, 20] cl_acc 1.000 2.257sec\n"
     ]
    },
    {
     "name": "stdout",
     "output_type": "stream",
     "text": [
      "Epoch 89 tr: l 1.078 a 0.762  clct[33, 27] ans[33, 27] lr 0.102205 cl_acc 1.000 44.788sec(train) 3.632sec(infer)\n"
     ]
    },
    {
     "name": "stdout",
     "output_type": "stream",
     "text": [
      "Epoch 89 tst: l 1.101 a 0.766  clct[20, 20] ans[20, 20] cl_acc 1.000 2.258sec\n"
     ]
    },
    {
     "name": "stdout",
     "output_type": "stream",
     "text": [
      "Epoch 90 tr: l 1.003 a 0.768  clct[28, 32] ans[28, 32] lr 0.101183 cl_acc 1.000 44.407sec(train) 3.584sec(infer)\n"
     ]
    },
    {
     "name": "stdout",
     "output_type": "stream",
     "text": [
      "Epoch 90 tst: l 1.047 a 0.769  clct[20, 20] ans[20, 20] cl_acc 1.000 2.239sec\n",
      "result written at output/results.pickle\n"
     ]
    },
    {
     "name": "stdout",
     "output_type": "stream",
     "text": [
      "Epoch 91 tr: l 1.036 a 0.762  clct[34, 26] ans[34, 26] lr 0.100171 cl_acc 1.000 44.361sec(train) 3.599sec(infer)\n"
     ]
    },
    {
     "name": "stdout",
     "output_type": "stream",
     "text": [
      "Epoch 91 tst: l 1.055 a 0.765  clct[20, 20] ans[20, 20] cl_acc 1.000 2.188sec\n"
     ]
    },
    {
     "name": "stdout",
     "output_type": "stream",
     "text": [
      "Epoch 92 tr: l 1.037 a 0.769  clct[30, 30] ans[30, 30] lr 0.099169 cl_acc 1.000 44.427sec(train) 3.869sec(infer)\n"
     ]
    },
    {
     "name": "stdout",
     "output_type": "stream",
     "text": [
      "Epoch 92 tst: l 1.051 a 0.773  clct[20, 20] ans[20, 20] cl_acc 1.000 2.470sec\n"
     ]
    },
    {
     "name": "stdout",
     "output_type": "stream",
     "text": [
      "Epoch 93 tr: l 0.996 a 0.771  clct[33, 27] ans[33, 27] lr 0.098178 cl_acc 1.000 44.182sec(train) 3.798sec(infer)\n"
     ]
    },
    {
     "name": "stdout",
     "output_type": "stream",
     "text": [
      "Epoch 93 tst: l 1.019 a 0.773  clct[20, 20] ans[20, 20] cl_acc 1.000 2.439sec\n"
     ]
    },
    {
     "name": "stdout",
     "output_type": "stream",
     "text": [
      "Epoch 94 tr: l 1.016 a 0.769  clct[25, 35] ans[25, 35] lr 0.097196 cl_acc 1.000 44.153sec(train) 3.776sec(infer)\n"
     ]
    },
    {
     "name": "stdout",
     "output_type": "stream",
     "text": [
      "Epoch 94 tst: l 1.053 a 0.766  clct[20, 20] ans[20, 20] cl_acc 1.000 2.436sec\n"
     ]
    },
    {
     "name": "stdout",
     "output_type": "stream",
     "text": [
      "Epoch 95 tr: l 1.042 a 0.767  clct[24, 36] ans[24, 36] lr 0.096224 cl_acc 1.000 44.168sec(train) 3.574sec(infer)\n"
     ]
    },
    {
     "name": "stdout",
     "output_type": "stream",
     "text": [
      "Epoch 95 tst: l 1.069 a 0.769  clct[20, 20] ans[20, 20] cl_acc 1.000 2.292sec\n"
     ]
    },
    {
     "name": "stdout",
     "output_type": "stream",
     "text": [
      "Epoch 96 tr: l 0.972 a 0.788  clct[35, 25] ans[35, 25] lr 0.095262 cl_acc 1.000 43.965sec(train) 3.620sec(infer)\n"
     ]
    },
    {
     "name": "stdout",
     "output_type": "stream",
     "text": [
      "Epoch 96 tst: l 1.003 a 0.786  clct[20, 20] ans[20, 20] cl_acc 1.000 2.272sec\n"
     ]
    },
    {
     "name": "stdout",
     "output_type": "stream",
     "text": [
      "Epoch 97 tr: l 1.004 a 0.773  clct[25, 35] ans[25, 35] lr 0.094309 cl_acc 1.000 44.094sec(train) 3.761sec(infer)\n"
     ]
    },
    {
     "name": "stdout",
     "output_type": "stream",
     "text": [
      "Epoch 97 tst: l 1.031 a 0.772  clct[20, 20] ans[20, 20] cl_acc 1.000 2.380sec\n"
     ]
    },
    {
     "name": "stdout",
     "output_type": "stream",
     "text": [
      "Epoch 98 tr: l 1.051 a 0.760  clct[31, 29] ans[31, 29] lr 0.093366 cl_acc 1.000 44.143sec(train) 3.584sec(infer)\n"
     ]
    },
    {
     "name": "stdout",
     "output_type": "stream",
     "text": [
      "Epoch 98 tst: l 1.076 a 0.761  clct[20, 20] ans[20, 20] cl_acc 1.000 2.253sec\n"
     ]
    },
    {
     "name": "stdout",
     "output_type": "stream",
     "text": [
      "Epoch 99 tr: l 0.973 a 0.778  clct[33, 27] ans[33, 27] lr 0.092432 cl_acc 1.000 44.201sec(train) 3.694sec(infer)\n"
     ]
    },
    {
     "name": "stdout",
     "output_type": "stream",
     "text": [
      "Epoch 99 tst: l 1.005 a 0.777  clct[20, 20] ans[20, 20] cl_acc 1.000 2.272sec\n"
     ]
    },
    {
     "name": "stdout",
     "output_type": "stream",
     "text": [
      "Epoch 100 tr: l 0.982 a 0.778  clct[33, 27] ans[33, 27] lr 0.091508 cl_acc 1.000 44.375sec(train) 3.717sec(infer)\n"
     ]
    },
    {
     "name": "stdout",
     "output_type": "stream",
     "text": [
      "Epoch 100 tst: l 0.998 a 0.779  clct[20, 20] ans[20, 20] cl_acc 1.000 2.291sec\n",
      "result written at output/results.pickle\n"
     ]
    },
    {
     "name": "stdout",
     "output_type": "stream",
     "text": [
      "Epoch 101 tr: l 0.969 a 0.775  clct[36, 24] ans[36, 24] lr 0.090593 cl_acc 1.000 44.267sec(train) 3.877sec(infer)\n"
     ]
    },
    {
     "name": "stdout",
     "output_type": "stream",
     "text": [
      "Epoch 101 tst: l 0.987 a 0.780  clct[20, 20] ans[20, 20] cl_acc 1.000 2.423sec\n"
     ]
    },
    {
     "name": "stdout",
     "output_type": "stream",
     "text": [
      "Epoch 102 tr: l 0.964 a 0.782  clct[30, 30] ans[30, 30] lr 0.089687 cl_acc 1.000 44.384sec(train) 3.678sec(infer)\n"
     ]
    },
    {
     "name": "stdout",
     "output_type": "stream",
     "text": [
      "Epoch 102 tst: l 1.014 a 0.775  clct[20, 20] ans[20, 20] cl_acc 1.000 2.259sec\n"
     ]
    },
    {
     "name": "stdout",
     "output_type": "stream",
     "text": [
      "Epoch 103 tr: l 0.978 a 0.770  clct[31, 29] ans[31, 29] lr 0.088790 cl_acc 1.000 44.262sec(train) 3.619sec(infer)\n"
     ]
    },
    {
     "name": "stdout",
     "output_type": "stream",
     "text": [
      "Epoch 103 tst: l 1.003 a 0.773  clct[20, 20] ans[20, 20] cl_acc 1.000 2.283sec\n"
     ]
    },
    {
     "name": "stdout",
     "output_type": "stream",
     "text": [
      "Epoch 104 tr: l 1.006 a 0.776  clct[26, 34] ans[26, 34] lr 0.087902 cl_acc 1.000 44.307sec(train) 3.608sec(infer)\n"
     ]
    },
    {
     "name": "stdout",
     "output_type": "stream",
     "text": [
      "Epoch 104 tst: l 1.049 a 0.772  clct[20, 20] ans[20, 20] cl_acc 1.000 2.254sec\n"
     ]
    },
    {
     "name": "stdout",
     "output_type": "stream",
     "text": [
      "Epoch 105 tr: l 0.953 a 0.782  clct[34, 26] ans[34, 26] lr 0.087023 cl_acc 1.000 44.161sec(train) 3.817sec(infer)\n"
     ]
    },
    {
     "name": "stdout",
     "output_type": "stream",
     "text": [
      "Epoch 105 tst: l 1.009 a 0.778  clct[20, 20] ans[20, 20] cl_acc 1.000 2.402sec\n"
     ]
    },
    {
     "name": "stdout",
     "output_type": "stream",
     "text": [
      "Epoch 106 tr: l 0.918 a 0.791  clct[32, 28] ans[32, 28] lr 0.086153 cl_acc 1.000 44.179sec(train) 3.746sec(infer)\n"
     ]
    },
    {
     "name": "stdout",
     "output_type": "stream",
     "text": [
      "Epoch 106 tst: l 0.990 a 0.778  clct[20, 20] ans[20, 20] cl_acc 1.000 2.399sec\n"
     ]
    },
    {
     "name": "stdout",
     "output_type": "stream",
     "text": [
      "Epoch 107 tr: l 0.987 a 0.776  clct[25, 35] ans[25, 35] lr 0.085292 cl_acc 1.000 44.291sec(train) 3.679sec(infer)\n"
     ]
    },
    {
     "name": "stdout",
     "output_type": "stream",
     "text": [
      "Epoch 107 tst: l 1.005 a 0.778  clct[20, 20] ans[20, 20] cl_acc 1.000 2.278sec\n"
     ]
    },
    {
     "name": "stdout",
     "output_type": "stream",
     "text": [
      "Epoch 108 tr: l 0.985 a 0.773  clct[29, 31] ans[29, 31] lr 0.084439 cl_acc 1.000 44.284sec(train) 3.603sec(infer)\n"
     ]
    },
    {
     "name": "stdout",
     "output_type": "stream",
     "text": [
      "Epoch 108 tst: l 1.017 a 0.771  clct[20, 20] ans[20, 20] cl_acc 1.000 2.253sec\n"
     ]
    },
    {
     "name": "stdout",
     "output_type": "stream",
     "text": [
      "Epoch 109 tr: l 0.937 a 0.786  clct[27, 33] ans[27, 33] lr 0.083594 cl_acc 1.000 44.325sec(train) 3.818sec(infer)\n"
     ]
    },
    {
     "name": "stdout",
     "output_type": "stream",
     "text": [
      "Epoch 109 tst: l 0.982 a 0.781  clct[20, 20] ans[20, 20] cl_acc 1.000 2.475sec\n"
     ]
    },
    {
     "name": "stdout",
     "output_type": "stream",
     "text": [
      "Epoch 110 tr: l 0.945 a 0.781  clct[32, 28] ans[32, 28] lr 0.082758 cl_acc 1.000 44.309sec(train) 3.808sec(infer)\n"
     ]
    },
    {
     "name": "stdout",
     "output_type": "stream",
     "text": [
      "Epoch 110 tst: l 0.990 a 0.777  clct[20, 20] ans[20, 20] cl_acc 1.000 2.418sec\n",
      "result written at output/results.pickle\n"
     ]
    },
    {
     "name": "stdout",
     "output_type": "stream",
     "text": [
      "Epoch 111 tr: l 0.943 a 0.784  clct[33, 27] ans[33, 27] lr 0.081931 cl_acc 1.000 44.231sec(train) 3.641sec(infer)\n"
     ]
    },
    {
     "name": "stdout",
     "output_type": "stream",
     "text": [
      "Epoch 111 tst: l 0.986 a 0.778  clct[20, 20] ans[20, 20] cl_acc 1.000 2.293sec\n"
     ]
    },
    {
     "name": "stdout",
     "output_type": "stream",
     "text": [
      "Epoch 112 tr: l 0.928 a 0.785  clct[28, 32] ans[28, 32] lr 0.081111 cl_acc 1.000 44.293sec(train) 3.862sec(infer)\n"
     ]
    },
    {
     "name": "stdout",
     "output_type": "stream",
     "text": [
      "Epoch 112 tst: l 0.985 a 0.778  clct[20, 20] ans[20, 20] cl_acc 1.000 2.346sec\n"
     ]
    },
    {
     "name": "stdout",
     "output_type": "stream",
     "text": [
      "Epoch 113 tr: l 0.956 a 0.778  clct[26, 34] ans[26, 34] lr 0.080300 cl_acc 1.000 44.139sec(train) 3.609sec(infer)\n"
     ]
    },
    {
     "name": "stdout",
     "output_type": "stream",
     "text": [
      "Epoch 113 tst: l 0.974 a 0.779  clct[20, 20] ans[20, 20] cl_acc 1.000 2.236sec\n"
     ]
    },
    {
     "name": "stdout",
     "output_type": "stream",
     "text": [
      "Epoch 114 tr: l 0.900 a 0.789  clct[26, 34] ans[26, 34] lr 0.079497 cl_acc 1.000 44.407sec(train) 3.823sec(infer)\n"
     ]
    },
    {
     "name": "stdout",
     "output_type": "stream",
     "text": [
      "Epoch 114 tst: l 0.958 a 0.776  clct[20, 20] ans[20, 20] cl_acc 1.000 2.430sec\n"
     ]
    },
    {
     "name": "stdout",
     "output_type": "stream",
     "text": [
      "Epoch 115 tr: l 0.900 a 0.794  clct[35, 25] ans[35, 25] lr 0.078702 cl_acc 1.000 44.289sec(train) 3.747sec(infer)\n"
     ]
    },
    {
     "name": "stdout",
     "output_type": "stream",
     "text": [
      "Epoch 115 tst: l 0.956 a 0.786  clct[20, 20] ans[20, 20] cl_acc 1.000 2.413sec\n"
     ]
    },
    {
     "name": "stdout",
     "output_type": "stream",
     "text": [
      "Epoch 116 tr: l 0.937 a 0.784  clct[22, 38] ans[22, 38] lr 0.077915 cl_acc 1.000 44.323sec(train) 3.593sec(infer)\n"
     ]
    },
    {
     "name": "stdout",
     "output_type": "stream",
     "text": [
      "Epoch 116 tst: l 0.964 a 0.788  clct[20, 20] ans[20, 20] cl_acc 1.000 2.288sec\n"
     ]
    },
    {
     "name": "stdout",
     "output_type": "stream",
     "text": [
      "Epoch 117 tr: l 0.880 a 0.797  clct[29, 31] ans[29, 31] lr 0.077136 cl_acc 1.000 44.235sec(train) 3.806sec(infer)\n"
     ]
    },
    {
     "name": "stdout",
     "output_type": "stream",
     "text": [
      "Epoch 117 tst: l 0.954 a 0.782  clct[20, 20] ans[20, 20] cl_acc 1.000 2.531sec\n"
     ]
    },
    {
     "name": "stdout",
     "output_type": "stream",
     "text": [
      "Epoch 118 tr: l 0.929 a 0.782  clct[32, 28] ans[32, 28] lr 0.076365 cl_acc 1.000 44.452sec(train) 3.809sec(infer)\n"
     ]
    },
    {
     "name": "stdout",
     "output_type": "stream",
     "text": [
      "Epoch 118 tst: l 0.974 a 0.776  clct[20, 20] ans[20, 20] cl_acc 1.000 2.452sec\n"
     ]
    },
    {
     "name": "stdout",
     "output_type": "stream",
     "text": [
      "Epoch 119 tr: l 0.894 a 0.796  clct[29, 31] ans[29, 31] lr 0.075601 cl_acc 1.000 44.641sec(train) 3.764sec(infer)\n"
     ]
    },
    {
     "name": "stdout",
     "output_type": "stream",
     "text": [
      "Epoch 119 tst: l 0.964 a 0.787  clct[20, 20] ans[20, 20] cl_acc 1.000 2.409sec\n"
     ]
    },
    {
     "name": "stdout",
     "output_type": "stream",
     "text": [
      "Epoch 120 tr: l 0.960 a 0.775  clct[28, 32] ans[28, 32] lr 0.074845 cl_acc 1.000 44.833sec(train) 3.686sec(infer)\n"
     ]
    },
    {
     "name": "stdout",
     "output_type": "stream",
     "text": [
      "Epoch 120 tst: l 0.998 a 0.770  clct[20, 20] ans[20, 20] cl_acc 1.000 2.314sec\n",
      "result written at output/results.pickle\n"
     ]
    },
    {
     "name": "stdout",
     "output_type": "stream",
     "text": [
      "Epoch 121 tr: l 0.926 a 0.787  clct[30, 30] ans[30, 30] lr 0.074097 cl_acc 1.000 44.222sec(train) 3.587sec(infer)\n"
     ]
    },
    {
     "name": "stdout",
     "output_type": "stream",
     "text": [
      "Epoch 121 tst: l 0.960 a 0.783  clct[20, 20] ans[20, 20] cl_acc 1.000 2.214sec\n"
     ]
    },
    {
     "name": "stdout",
     "output_type": "stream",
     "text": [
      "Epoch 122 tr: l 0.897 a 0.792  clct[31, 29] ans[31, 29] lr 0.073356 cl_acc 1.000 44.196sec(train) 3.589sec(infer)\n"
     ]
    },
    {
     "name": "stdout",
     "output_type": "stream",
     "text": [
      "Epoch 122 tst: l 0.941 a 0.788  clct[20, 20] ans[20, 20] cl_acc 1.000 2.301sec\n"
     ]
    },
    {
     "name": "stdout",
     "output_type": "stream",
     "text": [
      "Epoch 123 tr: l 0.912 a 0.790  clct[29, 31] ans[29, 31] lr 0.072622 cl_acc 1.000 44.260sec(train) 3.805sec(infer)\n"
     ]
    },
    {
     "name": "stdout",
     "output_type": "stream",
     "text": [
      "Epoch 123 tst: l 0.963 a 0.782  clct[20, 20] ans[20, 20] cl_acc 1.000 2.395sec\n"
     ]
    },
    {
     "name": "stdout",
     "output_type": "stream",
     "text": [
      "Epoch 124 tr: l 0.921 a 0.784  clct[22, 38] ans[22, 38] lr 0.071896 cl_acc 1.000 44.096sec(train) 3.691sec(infer)\n"
     ]
    },
    {
     "name": "stdout",
     "output_type": "stream",
     "text": [
      "Epoch 124 tst: l 0.948 a 0.784  clct[20, 20] ans[20, 20] cl_acc 1.000 2.328sec\n"
     ]
    },
    {
     "name": "stdout",
     "output_type": "stream",
     "text": [
      "Epoch 125 tr: l 0.954 a 0.776  clct[31, 29] ans[31, 29] lr 0.071177 cl_acc 1.000 44.226sec(train) 3.833sec(infer)\n"
     ]
    },
    {
     "name": "stdout",
     "output_type": "stream",
     "text": [
      "Epoch 125 tst: l 0.980 a 0.775  clct[20, 20] ans[20, 20] cl_acc 1.000 2.395sec\n"
     ]
    },
    {
     "name": "stdout",
     "output_type": "stream",
     "text": [
      "Epoch 126 tr: l 0.895 a 0.792  clct[29, 31] ans[29, 31] lr 0.070465 cl_acc 1.000 44.294sec(train) 3.623sec(infer)\n"
     ]
    },
    {
     "name": "stdout",
     "output_type": "stream",
     "text": [
      "Epoch 126 tst: l 0.943 a 0.785  clct[20, 20] ans[20, 20] cl_acc 1.000 2.254sec\n"
     ]
    },
    {
     "name": "stdout",
     "output_type": "stream",
     "text": [
      "Epoch 127 tr: l 0.857 a 0.800  clct[24, 36] ans[24, 36] lr 0.069761 cl_acc 1.000 44.428sec(train) 3.722sec(infer)\n"
     ]
    },
    {
     "name": "stdout",
     "output_type": "stream",
     "text": [
      "Epoch 127 tst: l 0.911 a 0.793  clct[20, 20] ans[20, 20] cl_acc 1.000 2.487sec\n"
     ]
    },
    {
     "name": "stdout",
     "output_type": "stream",
     "text": [
      "Epoch 128 tr: l 0.904 a 0.790  clct[35, 25] ans[35, 25] lr 0.069063 cl_acc 1.000 44.085sec(train) 3.612sec(infer)\n"
     ]
    },
    {
     "name": "stdout",
     "output_type": "stream",
     "text": [
      "Epoch 128 tst: l 0.941 a 0.783  clct[20, 20] ans[20, 20] cl_acc 1.000 2.233sec\n"
     ]
    },
    {
     "name": "stdout",
     "output_type": "stream",
     "text": [
      "Epoch 129 tr: l 0.899 a 0.792  clct[33, 27] ans[33, 27] lr 0.068372 cl_acc 1.000 43.915sec(train) 3.578sec(infer)\n"
     ]
    },
    {
     "name": "stdout",
     "output_type": "stream",
     "text": [
      "Epoch 129 tst: l 0.962 a 0.783  clct[20, 20] ans[20, 20] cl_acc 1.000 2.264sec\n"
     ]
    },
    {
     "name": "stdout",
     "output_type": "stream",
     "text": [
      "Epoch 130 tr: l 0.852 a 0.801  clct[27, 33] ans[27, 33] lr 0.067689 cl_acc 1.000 44.572sec(train) 3.586sec(infer)\n"
     ]
    },
    {
     "name": "stdout",
     "output_type": "stream",
     "text": [
      "Epoch 130 tst: l 0.923 a 0.788  clct[20, 20] ans[20, 20] cl_acc 1.000 2.270sec\n",
      "result written at output/results.pickle\n"
     ]
    },
    {
     "name": "stdout",
     "output_type": "stream",
     "text": [
      "Epoch 131 tr: l 0.868 a 0.798  clct[26, 34] ans[26, 34] lr 0.067012 cl_acc 1.000 43.964sec(train) 3.549sec(infer)\n"
     ]
    },
    {
     "name": "stdout",
     "output_type": "stream",
     "text": [
      "Epoch 131 tst: l 0.923 a 0.788  clct[20, 20] ans[20, 20] cl_acc 1.000 2.279sec\n"
     ]
    },
    {
     "name": "stdout",
     "output_type": "stream",
     "text": [
      "Epoch 132 tr: l 0.911 a 0.794  clct[33, 27] ans[33, 27] lr 0.066342 cl_acc 1.000 44.029sec(train) 3.559sec(infer)\n"
     ]
    },
    {
     "name": "stdout",
     "output_type": "stream",
     "text": [
      "Epoch 132 tst: l 0.972 a 0.784  clct[20, 20] ans[20, 20] cl_acc 1.000 2.262sec\n"
     ]
    },
    {
     "name": "stdout",
     "output_type": "stream",
     "text": [
      "Epoch 133 tr: l 0.860 a 0.800  clct[29, 31] ans[29, 31] lr 0.065678 cl_acc 1.000 44.197sec(train) 3.585sec(infer)\n"
     ]
    },
    {
     "name": "stdout",
     "output_type": "stream",
     "text": [
      "Epoch 133 tst: l 0.939 a 0.788  clct[20, 20] ans[20, 20] cl_acc 1.000 2.235sec\n"
     ]
    },
    {
     "name": "stdout",
     "output_type": "stream",
     "text": [
      "Epoch 134 tr: l 0.867 a 0.799  clct[31, 29] ans[31, 29] lr 0.065021 cl_acc 1.000 44.084sec(train) 3.753sec(infer)\n"
     ]
    },
    {
     "name": "stdout",
     "output_type": "stream",
     "text": [
      "Epoch 134 tst: l 0.954 a 0.782  clct[20, 20] ans[20, 20] cl_acc 1.000 2.422sec\n"
     ]
    },
    {
     "name": "stdout",
     "output_type": "stream",
     "text": [
      "Epoch 135 tr: l 0.890 a 0.794  clct[27, 33] ans[27, 33] lr 0.064371 cl_acc 1.000 44.192sec(train) 3.670sec(infer)\n"
     ]
    },
    {
     "name": "stdout",
     "output_type": "stream",
     "text": [
      "Epoch 135 tst: l 0.937 a 0.786  clct[20, 20] ans[20, 20] cl_acc 1.000 2.307sec\n"
     ]
    },
    {
     "name": "stdout",
     "output_type": "stream",
     "text": [
      "Epoch 136 tr: l 0.866 a 0.794  clct[32, 28] ans[32, 28] lr 0.063727 cl_acc 1.000 44.246sec(train) 3.588sec(infer)\n"
     ]
    },
    {
     "name": "stdout",
     "output_type": "stream",
     "text": [
      "Epoch 136 tst: l 0.890 a 0.794  clct[20, 20] ans[20, 20] cl_acc 1.000 2.258sec\n"
     ]
    },
    {
     "name": "stdout",
     "output_type": "stream",
     "text": [
      "Epoch 137 tr: l 0.871 a 0.794  clct[24, 36] ans[24, 36] lr 0.063090 cl_acc 1.000 44.294sec(train) 3.825sec(infer)\n"
     ]
    },
    {
     "name": "stdout",
     "output_type": "stream",
     "text": [
      "Epoch 137 tst: l 0.933 a 0.785  clct[20, 20] ans[20, 20] cl_acc 1.000 2.356sec\n"
     ]
    },
    {
     "name": "stdout",
     "output_type": "stream",
     "text": [
      "Epoch 138 tr: l 0.846 a 0.801  clct[25, 35] ans[25, 35] lr 0.062459 cl_acc 1.000 44.564sec(train) 3.595sec(infer)\n"
     ]
    },
    {
     "name": "stdout",
     "output_type": "stream",
     "text": [
      "Epoch 138 tst: l 0.907 a 0.794  clct[20, 20] ans[20, 20] cl_acc 1.000 2.245sec\n"
     ]
    },
    {
     "name": "stdout",
     "output_type": "stream",
     "text": [
      "Epoch 139 tr: l 0.844 a 0.802  clct[32, 28] ans[32, 28] lr 0.061835 cl_acc 1.000 44.291sec(train) 3.793sec(infer)\n"
     ]
    },
    {
     "name": "stdout",
     "output_type": "stream",
     "text": [
      "Epoch 139 tst: l 0.894 a 0.794  clct[20, 20] ans[20, 20] cl_acc 1.000 2.334sec\n"
     ]
    },
    {
     "name": "stdout",
     "output_type": "stream",
     "text": [
      "Epoch 140 tr: l 0.857 a 0.797  clct[30, 30] ans[30, 30] lr 0.061216 cl_acc 1.000 44.014sec(train) 3.663sec(infer)\n"
     ]
    },
    {
     "name": "stdout",
     "output_type": "stream",
     "text": [
      "Epoch 140 tst: l 0.908 a 0.791  clct[20, 20] ans[20, 20] cl_acc 1.000 2.313sec\n",
      "result written at output/results.pickle\n"
     ]
    },
    {
     "name": "stdout",
     "output_type": "stream",
     "text": [
      "Epoch 141 tr: l 0.824 a 0.804  clct[31, 29] ans[31, 29] lr 0.060604 cl_acc 1.000 44.199sec(train) 3.810sec(infer)\n"
     ]
    },
    {
     "name": "stdout",
     "output_type": "stream",
     "text": [
      "Epoch 141 tst: l 0.891 a 0.791  clct[20, 20] ans[20, 20] cl_acc 1.000 2.390sec\n"
     ]
    },
    {
     "name": "stdout",
     "output_type": "stream",
     "text": [
      "Epoch 142 tr: l 0.836 a 0.805  clct[35, 25] ans[35, 25] lr 0.059998 cl_acc 1.000 44.109sec(train) 3.658sec(infer)\n"
     ]
    },
    {
     "name": "stdout",
     "output_type": "stream",
     "text": [
      "Epoch 142 tst: l 0.911 a 0.794  clct[20, 20] ans[20, 20] cl_acc 1.000 2.331sec\n"
     ]
    },
    {
     "name": "stdout",
     "output_type": "stream",
     "text": [
      "Epoch 143 tr: l 0.821 a 0.808  clct[28, 32] ans[28, 32] lr 0.059398 cl_acc 1.000 44.030sec(train) 3.609sec(infer)\n"
     ]
    },
    {
     "name": "stdout",
     "output_type": "stream",
     "text": [
      "Epoch 143 tst: l 0.906 a 0.793  clct[20, 20] ans[20, 20] cl_acc 1.000 2.225sec\n"
     ]
    },
    {
     "name": "stdout",
     "output_type": "stream",
     "text": [
      "Epoch 144 tr: l 0.839 a 0.804  clct[29, 31] ans[29, 31] lr 0.058804 cl_acc 1.000 44.112sec(train) 3.640sec(infer)\n"
     ]
    },
    {
     "name": "stdout",
     "output_type": "stream",
     "text": [
      "Epoch 144 tst: l 0.909 a 0.791  clct[20, 20] ans[20, 20] cl_acc 1.000 2.325sec\n"
     ]
    },
    {
     "name": "stdout",
     "output_type": "stream",
     "text": [
      "Epoch 145 tr: l 0.822 a 0.808  clct[32, 28] ans[32, 28] lr 0.058216 cl_acc 1.000 44.194sec(train) 3.736sec(infer)\n"
     ]
    },
    {
     "name": "stdout",
     "output_type": "stream",
     "text": [
      "Epoch 145 tst: l 0.887 a 0.796  clct[20, 20] ans[20, 20] cl_acc 1.000 2.419sec\n"
     ]
    },
    {
     "name": "stdout",
     "output_type": "stream",
     "text": [
      "Epoch 146 tr: l 0.837 a 0.805  clct[30, 30] ans[30, 30] lr 0.057634 cl_acc 1.000 44.147sec(train) 3.710sec(infer)\n"
     ]
    },
    {
     "name": "stdout",
     "output_type": "stream",
     "text": [
      "Epoch 146 tst: l 0.886 a 0.796  clct[20, 20] ans[20, 20] cl_acc 1.000 2.286sec\n"
     ]
    },
    {
     "name": "stdout",
     "output_type": "stream",
     "text": [
      "Epoch 147 tr: l 0.827 a 0.807  clct[30, 30] ans[30, 30] lr 0.057058 cl_acc 1.000 44.619sec(train) 3.616sec(infer)\n"
     ]
    },
    {
     "name": "stdout",
     "output_type": "stream",
     "text": [
      "Epoch 147 tst: l 0.882 a 0.798  clct[20, 20] ans[20, 20] cl_acc 1.000 2.299sec\n"
     ]
    },
    {
     "name": "stdout",
     "output_type": "stream",
     "text": [
      "Epoch 148 tr: l 0.869 a 0.796  clct[26, 34] ans[26, 34] lr 0.056487 cl_acc 1.000 44.310sec(train) 3.601sec(infer)\n"
     ]
    },
    {
     "name": "stdout",
     "output_type": "stream",
     "text": [
      "Epoch 148 tst: l 0.893 a 0.794  clct[20, 20] ans[20, 20] cl_acc 1.000 2.308sec\n"
     ]
    },
    {
     "name": "stdout",
     "output_type": "stream",
     "text": [
      "Epoch 149 tr: l 0.803 a 0.811  clct[26, 34] ans[26, 34] lr 0.055922 cl_acc 1.000 44.209sec(train) 3.615sec(infer)\n"
     ]
    },
    {
     "name": "stdout",
     "output_type": "stream",
     "text": [
      "Epoch 149 tst: l 0.869 a 0.797  clct[20, 20] ans[20, 20] cl_acc 1.000 2.268sec\n"
     ]
    },
    {
     "name": "stdout",
     "output_type": "stream",
     "text": [
      "Epoch 150 tr: l 0.798 a 0.814  clct[33, 27] ans[33, 27] lr 0.055363 cl_acc 1.000 44.439sec(train) 3.662sec(infer)\n"
     ]
    },
    {
     "name": "stdout",
     "output_type": "stream",
     "text": [
      "Epoch 150 tst: l 0.888 a 0.797  clct[20, 20] ans[20, 20] cl_acc 1.000 2.308sec\n",
      "result written at output/results.pickle\n"
     ]
    },
    {
     "name": "stdout",
     "output_type": "stream",
     "text": [
      "Epoch 151 tr: l 0.821 a 0.807  clct[27, 33] ans[27, 33] lr 0.054809 cl_acc 1.000 44.161sec(train) 3.797sec(infer)\n"
     ]
    },
    {
     "name": "stdout",
     "output_type": "stream",
     "text": [
      "Epoch 151 tst: l 0.882 a 0.798  clct[20, 20] ans[20, 20] cl_acc 1.000 2.300sec\n"
     ]
    },
    {
     "name": "stdout",
     "output_type": "stream",
     "text": [
      "Epoch 152 tr: l 0.811 a 0.806  clct[28, 32] ans[28, 32] lr 0.054261 cl_acc 1.000 44.126sec(train) 3.677sec(infer)\n"
     ]
    },
    {
     "name": "stdout",
     "output_type": "stream",
     "text": [
      "Epoch 152 tst: l 0.880 a 0.794  clct[20, 20] ans[20, 20] cl_acc 1.000 2.321sec\n"
     ]
    },
    {
     "name": "stdout",
     "output_type": "stream",
     "text": [
      "Epoch 153 tr: l 0.806 a 0.811  clct[35, 25] ans[35, 25] lr 0.053719 cl_acc 1.000 44.098sec(train) 3.746sec(infer)\n"
     ]
    },
    {
     "name": "stdout",
     "output_type": "stream",
     "text": [
      "Epoch 153 tst: l 0.891 a 0.797  clct[20, 20] ans[20, 20] cl_acc 1.000 2.347sec\n"
     ]
    },
    {
     "name": "stdout",
     "output_type": "stream",
     "text": [
      "Epoch 154 tr: l 0.820 a 0.806  clct[26, 34] ans[26, 34] lr 0.053181 cl_acc 1.000 44.110sec(train) 3.896sec(infer)\n"
     ]
    },
    {
     "name": "stdout",
     "output_type": "stream",
     "text": [
      "Epoch 154 tst: l 0.892 a 0.794  clct[20, 20] ans[20, 20] cl_acc 1.000 2.462sec\n"
     ]
    },
    {
     "name": "stdout",
     "output_type": "stream",
     "text": [
      "Epoch 155 tr: l 0.790 a 0.816  clct[28, 32] ans[28, 32] lr 0.052650 cl_acc 1.000 44.516sec(train) 3.790sec(infer)\n"
     ]
    },
    {
     "name": "stdout",
     "output_type": "stream",
     "text": [
      "Epoch 155 tst: l 0.883 a 0.795  clct[20, 20] ans[20, 20] cl_acc 1.000 2.400sec\n"
     ]
    },
    {
     "name": "stdout",
     "output_type": "stream",
     "text": [
      "Epoch 156 tr: l 0.811 a 0.808  clct[31, 29] ans[31, 29] lr 0.052123 cl_acc 1.000 44.570sec(train) 3.961sec(infer)\n"
     ]
    },
    {
     "name": "stdout",
     "output_type": "stream",
     "text": [
      "Epoch 156 tst: l 0.881 a 0.795  clct[20, 20] ans[20, 20] cl_acc 1.000 2.444sec\n"
     ]
    },
    {
     "name": "stdout",
     "output_type": "stream",
     "text": [
      "Epoch 157 tr: l 0.774 a 0.817  clct[37, 23] ans[37, 23] lr 0.051602 cl_acc 1.000 44.706sec(train) 3.641sec(infer)\n"
     ]
    },
    {
     "name": "stdout",
     "output_type": "stream",
     "text": [
      "Epoch 157 tst: l 0.853 a 0.800  clct[20, 20] ans[20, 20] cl_acc 1.000 2.282sec\n"
     ]
    },
    {
     "name": "stdout",
     "output_type": "stream",
     "text": [
      "Epoch 158 tr: l 0.787 a 0.812  clct[33, 27] ans[33, 27] lr 0.051086 cl_acc 1.000 44.281sec(train) 3.732sec(infer)\n"
     ]
    },
    {
     "name": "stdout",
     "output_type": "stream",
     "text": [
      "Epoch 158 tst: l 0.864 a 0.797  clct[20, 20] ans[20, 20] cl_acc 1.000 2.311sec\n"
     ]
    },
    {
     "name": "stdout",
     "output_type": "stream",
     "text": [
      "Epoch 159 tr: l 0.777 a 0.815  clct[26, 34] ans[26, 34] lr 0.050575 cl_acc 1.000 44.600sec(train) 3.806sec(infer)\n"
     ]
    },
    {
     "name": "stdout",
     "output_type": "stream",
     "text": [
      "Epoch 159 tst: l 0.858 a 0.801  clct[20, 20] ans[20, 20] cl_acc 1.000 2.401sec\n"
     ]
    },
    {
     "name": "stdout",
     "output_type": "stream",
     "text": [
      "Epoch 160 tr: l 0.775 a 0.819  clct[36, 24] ans[36, 24] lr 0.050069 cl_acc 1.000 44.528sec(train) 3.711sec(infer)\n"
     ]
    },
    {
     "name": "stdout",
     "output_type": "stream",
     "text": [
      "Epoch 160 tst: l 0.855 a 0.801  clct[20, 20] ans[20, 20] cl_acc 1.000 2.299sec\n",
      "result written at output/results.pickle\n"
     ]
    },
    {
     "name": "stdout",
     "output_type": "stream",
     "text": [
      "Epoch 161 tr: l 0.814 a 0.804  clct[30, 30] ans[30, 30] lr 0.049569 cl_acc 1.000 44.259sec(train) 3.726sec(infer)\n"
     ]
    },
    {
     "name": "stdout",
     "output_type": "stream",
     "text": [
      "Epoch 161 tst: l 0.860 a 0.796  clct[20, 20] ans[20, 20] cl_acc 1.000 2.360sec\n"
     ]
    },
    {
     "name": "stdout",
     "output_type": "stream",
     "text": [
      "Epoch 162 tr: l 0.841 a 0.801  clct[31, 29] ans[31, 29] lr 0.049073 cl_acc 1.000 44.430sec(train) 3.940sec(infer)\n"
     ]
    },
    {
     "name": "stdout",
     "output_type": "stream",
     "text": [
      "Epoch 162 tst: l 0.915 a 0.787  clct[20, 20] ans[20, 20] cl_acc 1.000 2.516sec\n"
     ]
    },
    {
     "name": "stdout",
     "output_type": "stream",
     "text": [
      "Epoch 163 tr: l 0.760 a 0.818  clct[28, 32] ans[28, 32] lr 0.048582 cl_acc 1.000 44.453sec(train) 4.118sec(infer)\n"
     ]
    },
    {
     "name": "stdout",
     "output_type": "stream",
     "text": [
      "Epoch 163 tst: l 0.856 a 0.800  clct[20, 20] ans[20, 20] cl_acc 1.000 2.504sec\n"
     ]
    },
    {
     "name": "stdout",
     "output_type": "stream",
     "text": [
      "Epoch 164 tr: l 0.770 a 0.816  clct[30, 30] ans[30, 30] lr 0.048096 cl_acc 1.000 44.268sec(train) 3.939sec(infer)\n"
     ]
    },
    {
     "name": "stdout",
     "output_type": "stream",
     "text": [
      "Epoch 164 tst: l 0.866 a 0.799  clct[20, 20] ans[20, 20] cl_acc 1.000 2.511sec\n"
     ]
    },
    {
     "name": "stdout",
     "output_type": "stream",
     "text": [
      "Epoch 165 tr: l 0.784 a 0.812  clct[33, 27] ans[33, 27] lr 0.047615 cl_acc 1.000 44.524sec(train) 3.742sec(infer)\n"
     ]
    },
    {
     "name": "stdout",
     "output_type": "stream",
     "text": [
      "Epoch 165 tst: l 0.862 a 0.796  clct[20, 20] ans[20, 20] cl_acc 1.000 2.418sec\n"
     ]
    },
    {
     "name": "stdout",
     "output_type": "stream",
     "text": [
      "Epoch 166 tr: l 0.760 a 0.814  clct[29, 31] ans[29, 31] lr 0.047139 cl_acc 1.000 44.610sec(train) 3.707sec(infer)\n"
     ]
    },
    {
     "name": "stdout",
     "output_type": "stream",
     "text": [
      "Epoch 166 tst: l 0.843 a 0.802  clct[20, 20] ans[20, 20] cl_acc 1.000 2.337sec\n"
     ]
    },
    {
     "name": "stdout",
     "output_type": "stream",
     "text": [
      "Epoch 167 tr: l 0.770 a 0.816  clct[35, 25] ans[35, 25] lr 0.046668 cl_acc 1.000 44.606sec(train) 3.759sec(infer)\n"
     ]
    },
    {
     "name": "stdout",
     "output_type": "stream",
     "text": [
      "Epoch 167 tst: l 0.854 a 0.802  clct[20, 20] ans[20, 20] cl_acc 1.000 2.384sec\n"
     ]
    },
    {
     "name": "stdout",
     "output_type": "stream",
     "text": [
      "Epoch 168 tr: l 0.776 a 0.814  clct[30, 30] ans[30, 30] lr 0.046201 cl_acc 1.000 44.420sec(train) 3.928sec(infer)\n"
     ]
    },
    {
     "name": "stdout",
     "output_type": "stream",
     "text": [
      "Epoch 168 tst: l 0.855 a 0.801  clct[20, 20] ans[20, 20] cl_acc 1.000 2.466sec\n"
     ]
    },
    {
     "name": "stdout",
     "output_type": "stream",
     "text": [
      "Epoch 169 tr: l 0.797 a 0.811  clct[27, 33] ans[27, 33] lr 0.045739 cl_acc 1.000 44.425sec(train) 3.720sec(infer)\n"
     ]
    },
    {
     "name": "stdout",
     "output_type": "stream",
     "text": [
      "Epoch 169 tst: l 0.852 a 0.804  clct[20, 20] ans[20, 20] cl_acc 1.000 2.310sec\n"
     ]
    },
    {
     "name": "stdout",
     "output_type": "stream",
     "text": [
      "Epoch 170 tr: l 0.778 a 0.813  clct[31, 29] ans[31, 29] lr 0.045282 cl_acc 1.000 44.372sec(train) 3.753sec(infer)\n"
     ]
    },
    {
     "name": "stdout",
     "output_type": "stream",
     "text": [
      "Epoch 170 tst: l 0.842 a 0.807  clct[20, 20] ans[20, 20] cl_acc 1.000 2.394sec\n",
      "result written at output/results.pickle\n"
     ]
    },
    {
     "name": "stdout",
     "output_type": "stream",
     "text": [
      "Epoch 171 tr: l 0.738 a 0.826  clct[29, 31] ans[29, 31] lr 0.044829 cl_acc 1.000 44.244sec(train) 3.857sec(infer)\n"
     ]
    },
    {
     "name": "stdout",
     "output_type": "stream",
     "text": [
      "Epoch 171 tst: l 0.840 a 0.806  clct[20, 20] ans[20, 20] cl_acc 1.000 2.436sec\n"
     ]
    },
    {
     "name": "stdout",
     "output_type": "stream",
     "text": [
      "Epoch 172 tr: l 0.752 a 0.823  clct[32, 28] ans[32, 28] lr 0.044381 cl_acc 1.000 45.105sec(train) 3.942sec(infer)\n"
     ]
    },
    {
     "name": "stdout",
     "output_type": "stream",
     "text": [
      "Epoch 172 tst: l 0.846 a 0.802  clct[20, 20] ans[20, 20] cl_acc 1.000 2.368sec\n"
     ]
    },
    {
     "name": "stdout",
     "output_type": "stream",
     "text": [
      "Epoch 173 tr: l 0.766 a 0.816  clct[33, 27] ans[33, 27] lr 0.043937 cl_acc 1.000 45.294sec(train) 3.928sec(infer)\n"
     ]
    },
    {
     "name": "stdout",
     "output_type": "stream",
     "text": [
      "Epoch 173 tst: l 0.853 a 0.800  clct[20, 20] ans[20, 20] cl_acc 1.000 2.475sec\n"
     ]
    },
    {
     "name": "stdout",
     "output_type": "stream",
     "text": [
      "Epoch 174 tr: l 0.726 a 0.832  clct[34, 26] ans[34, 26] lr 0.043497 cl_acc 1.000 45.150sec(train) 3.717sec(infer)\n"
     ]
    },
    {
     "name": "stdout",
     "output_type": "stream",
     "text": [
      "Epoch 174 tst: l 0.831 a 0.809  clct[20, 20] ans[20, 20] cl_acc 1.000 2.388sec\n"
     ]
    },
    {
     "name": "stdout",
     "output_type": "stream",
     "text": [
      "Epoch 175 tr: l 0.769 a 0.815  clct[26, 34] ans[26, 34] lr 0.043062 cl_acc 1.000 44.399sec(train) 3.636sec(infer)\n"
     ]
    },
    {
     "name": "stdout",
     "output_type": "stream",
     "text": [
      "Epoch 175 tst: l 0.848 a 0.800  clct[20, 20] ans[20, 20] cl_acc 1.000 2.316sec\n"
     ]
    },
    {
     "name": "stdout",
     "output_type": "stream",
     "text": [
      "Epoch 176 tr: l 0.725 a 0.831  clct[29, 31] ans[29, 31] lr 0.042632 cl_acc 1.000 44.288sec(train) 3.941sec(infer)\n"
     ]
    },
    {
     "name": "stdout",
     "output_type": "stream",
     "text": [
      "Epoch 176 tst: l 0.849 a 0.802  clct[20, 20] ans[20, 20] cl_acc 1.000 2.431sec\n"
     ]
    },
    {
     "name": "stdout",
     "output_type": "stream",
     "text": [
      "Epoch 177 tr: l 0.730 a 0.827  clct[24, 36] ans[24, 36] lr 0.042206 cl_acc 1.000 45.259sec(train) 3.800sec(infer)\n"
     ]
    },
    {
     "name": "stdout",
     "output_type": "stream",
     "text": [
      "Epoch 177 tst: l 0.815 a 0.809  clct[20, 20] ans[20, 20] cl_acc 1.000 2.371sec\n"
     ]
    },
    {
     "name": "stdout",
     "output_type": "stream",
     "text": [
      "Epoch 178 tr: l 0.745 a 0.823  clct[28, 32] ans[28, 32] lr 0.041783 cl_acc 1.000 45.327sec(train) 3.927sec(infer)\n"
     ]
    },
    {
     "name": "stdout",
     "output_type": "stream",
     "text": [
      "Epoch 178 tst: l 0.829 a 0.805  clct[20, 20] ans[20, 20] cl_acc 1.000 2.474sec\n"
     ]
    },
    {
     "name": "stdout",
     "output_type": "stream",
     "text": [
      "Epoch 179 tr: l 0.742 a 0.823  clct[28, 32] ans[28, 32] lr 0.041366 cl_acc 1.000 45.092sec(train) 3.742sec(infer)\n"
     ]
    },
    {
     "name": "stdout",
     "output_type": "stream",
     "text": [
      "Epoch 179 tst: l 0.827 a 0.804  clct[20, 20] ans[20, 20] cl_acc 1.000 2.350sec\n"
     ]
    },
    {
     "name": "stdout",
     "output_type": "stream",
     "text": [
      "Epoch 180 tr: l 0.751 a 0.819  clct[35, 25] ans[35, 25] lr 0.040952 cl_acc 1.000 44.509sec(train) 3.998sec(infer)\n"
     ]
    },
    {
     "name": "stdout",
     "output_type": "stream",
     "text": [
      "Epoch 180 tst: l 0.840 a 0.802  clct[20, 20] ans[20, 20] cl_acc 1.000 2.593sec\n",
      "result written at output/results.pickle\n"
     ]
    },
    {
     "name": "stdout",
     "output_type": "stream",
     "text": [
      "Epoch 181 tr: l 0.742 a 0.819  clct[28, 32] ans[28, 32] lr 0.040542 cl_acc 1.000 44.673sec(train) 3.957sec(infer)\n"
     ]
    },
    {
     "name": "stdout",
     "output_type": "stream",
     "text": [
      "Epoch 181 tst: l 0.834 a 0.802  clct[20, 20] ans[20, 20] cl_acc 1.000 2.509sec\n"
     ]
    },
    {
     "name": "stdout",
     "output_type": "stream",
     "text": [
      "Epoch 182 tr: l 0.722 a 0.827  clct[30, 30] ans[30, 30] lr 0.040137 cl_acc 1.000 44.521sec(train) 3.945sec(infer)\n"
     ]
    },
    {
     "name": "stdout",
     "output_type": "stream",
     "text": [
      "Epoch 182 tst: l 0.827 a 0.803  clct[20, 20] ans[20, 20] cl_acc 1.000 2.526sec\n"
     ]
    },
    {
     "name": "stdout",
     "output_type": "stream",
     "text": [
      "Epoch 183 tr: l 0.751 a 0.822  clct[32, 28] ans[32, 28] lr 0.039736 cl_acc 1.000 44.346sec(train) 3.749sec(infer)\n"
     ]
    },
    {
     "name": "stdout",
     "output_type": "stream",
     "text": [
      "Epoch 183 tst: l 0.829 a 0.808  clct[20, 20] ans[20, 20] cl_acc 1.000 2.351sec\n"
     ]
    },
    {
     "name": "stdout",
     "output_type": "stream",
     "text": [
      "Epoch 184 tr: l 0.752 a 0.822  clct[36, 24] ans[36, 24] lr 0.039338 cl_acc 1.000 44.240sec(train) 3.932sec(infer)\n"
     ]
    },
    {
     "name": "stdout",
     "output_type": "stream",
     "text": [
      "Epoch 184 tst: l 0.822 a 0.809  clct[20, 20] ans[20, 20] cl_acc 1.000 2.416sec\n"
     ]
    },
    {
     "name": "stdout",
     "output_type": "stream",
     "text": [
      "Epoch 185 tr: l 0.714 a 0.828  clct[30, 30] ans[30, 30] lr 0.038945 cl_acc 1.000 44.378sec(train) 3.805sec(infer)\n"
     ]
    },
    {
     "name": "stdout",
     "output_type": "stream",
     "text": [
      "Epoch 185 tst: l 0.806 a 0.807  clct[20, 20] ans[20, 20] cl_acc 1.000 2.400sec\n"
     ]
    },
    {
     "name": "stdout",
     "output_type": "stream",
     "text": [
      "Epoch 186 tr: l 0.749 a 0.821  clct[28, 32] ans[28, 32] lr 0.038555 cl_acc 1.000 44.346sec(train) 3.616sec(infer)\n"
     ]
    },
    {
     "name": "stdout",
     "output_type": "stream",
     "text": [
      "Epoch 186 tst: l 0.838 a 0.804  clct[20, 20] ans[20, 20] cl_acc 1.000 2.260sec\n"
     ]
    },
    {
     "name": "stdout",
     "output_type": "stream",
     "text": [
      "Epoch 187 tr: l 0.723 a 0.830  clct[34, 26] ans[34, 26] lr 0.038170 cl_acc 1.000 44.384sec(train) 3.730sec(infer)\n"
     ]
    },
    {
     "name": "stdout",
     "output_type": "stream",
     "text": [
      "Epoch 187 tst: l 0.842 a 0.804  clct[20, 20] ans[20, 20] cl_acc 1.000 2.282sec\n"
     ]
    },
    {
     "name": "stdout",
     "output_type": "stream",
     "text": [
      "Epoch 188 tr: l 0.727 a 0.827  clct[32, 28] ans[32, 28] lr 0.037788 cl_acc 1.000 44.391sec(train) 3.713sec(infer)\n"
     ]
    },
    {
     "name": "stdout",
     "output_type": "stream",
     "text": [
      "Epoch 188 tst: l 0.814 a 0.807  clct[20, 20] ans[20, 20] cl_acc 1.000 2.353sec\n"
     ]
    },
    {
     "name": "stdout",
     "output_type": "stream",
     "text": [
      "Epoch 189 tr: l 0.726 a 0.824  clct[31, 29] ans[31, 29] lr 0.037410 cl_acc 1.000 44.553sec(train) 3.680sec(infer)\n"
     ]
    },
    {
     "name": "stdout",
     "output_type": "stream",
     "text": [
      "Epoch 189 tst: l 0.827 a 0.805  clct[20, 20] ans[20, 20] cl_acc 1.000 2.309sec\n"
     ]
    },
    {
     "name": "stdout",
     "output_type": "stream",
     "text": [
      "Epoch 190 tr: l 0.748 a 0.819  clct[31, 29] ans[31, 29] lr 0.037036 cl_acc 1.000 44.463sec(train) 3.608sec(infer)\n"
     ]
    },
    {
     "name": "stdout",
     "output_type": "stream",
     "text": [
      "Epoch 190 tst: l 0.839 a 0.803  clct[20, 20] ans[20, 20] cl_acc 1.000 2.265sec\n",
      "result written at output/results.pickle\n"
     ]
    },
    {
     "name": "stdout",
     "output_type": "stream",
     "text": [
      "Epoch 191 tr: l 0.735 a 0.825  clct[30, 30] ans[30, 30] lr 0.036666 cl_acc 1.000 44.426sec(train) 3.785sec(infer)\n"
     ]
    },
    {
     "name": "stdout",
     "output_type": "stream",
     "text": [
      "Epoch 191 tst: l 0.819 a 0.806  clct[20, 20] ans[20, 20] cl_acc 1.000 2.428sec\n"
     ]
    },
    {
     "name": "stdout",
     "output_type": "stream",
     "text": [
      "Epoch 192 tr: l 0.708 a 0.833  clct[32, 28] ans[32, 28] lr 0.036299 cl_acc 1.000 44.413sec(train) 4.013sec(infer)\n"
     ]
    },
    {
     "name": "stdout",
     "output_type": "stream",
     "text": [
      "Epoch 192 tst: l 0.812 a 0.805  clct[20, 20] ans[20, 20] cl_acc 1.000 2.521sec\n"
     ]
    },
    {
     "name": "stdout",
     "output_type": "stream",
     "text": [
      "Epoch 193 tr: l 0.712 a 0.829  clct[30, 30] ans[30, 30] lr 0.035936 cl_acc 1.000 44.610sec(train) 3.818sec(infer)\n"
     ]
    },
    {
     "name": "stdout",
     "output_type": "stream",
     "text": [
      "Epoch 193 tst: l 0.818 a 0.806  clct[20, 20] ans[20, 20] cl_acc 1.000 2.429sec\n"
     ]
    },
    {
     "name": "stdout",
     "output_type": "stream",
     "text": [
      "Epoch 194 tr: l 0.697 a 0.834  clct[24, 36] ans[24, 36] lr 0.035577 cl_acc 1.000 44.710sec(train) 3.777sec(infer)\n"
     ]
    },
    {
     "name": "stdout",
     "output_type": "stream",
     "text": [
      "Epoch 194 tst: l 0.836 a 0.800  clct[20, 20] ans[20, 20] cl_acc 1.000 2.390sec\n"
     ]
    },
    {
     "name": "stdout",
     "output_type": "stream",
     "text": [
      "Epoch 195 tr: l 0.682 a 0.838  clct[27, 33] ans[27, 33] lr 0.035221 cl_acc 1.000 44.568sec(train) 4.050sec(infer)\n"
     ]
    },
    {
     "name": "stdout",
     "output_type": "stream",
     "text": [
      "Epoch 195 tst: l 0.784 a 0.812  clct[20, 20] ans[20, 20] cl_acc 1.000 2.575sec\n"
     ]
    },
    {
     "name": "stdout",
     "output_type": "stream",
     "text": [
      "Epoch 196 tr: l 0.707 a 0.828  clct[22, 38] ans[22, 38] lr 0.034869 cl_acc 1.000 44.327sec(train) 3.966sec(infer)\n"
     ]
    },
    {
     "name": "stdout",
     "output_type": "stream",
     "text": [
      "Epoch 196 tst: l 0.815 a 0.807  clct[20, 20] ans[20, 20] cl_acc 1.000 2.496sec\n"
     ]
    },
    {
     "name": "stdout",
     "output_type": "stream",
     "text": [
      "Epoch 197 tr: l 0.692 a 0.836  clct[30, 30] ans[30, 30] lr 0.034520 cl_acc 1.000 44.561sec(train) 3.964sec(infer)\n"
     ]
    },
    {
     "name": "stdout",
     "output_type": "stream",
     "text": [
      "Epoch 197 tst: l 0.815 a 0.807  clct[20, 20] ans[20, 20] cl_acc 1.000 2.598sec\n"
     ]
    },
    {
     "name": "stdout",
     "output_type": "stream",
     "text": [
      "Epoch 198 tr: l 0.696 a 0.832  clct[28, 32] ans[28, 32] lr 0.034175 cl_acc 1.000 45.138sec(train) 3.606sec(infer)\n"
     ]
    },
    {
     "name": "stdout",
     "output_type": "stream",
     "text": [
      "Epoch 198 tst: l 0.811 a 0.808  clct[20, 20] ans[20, 20] cl_acc 1.000 2.283sec\n"
     ]
    },
    {
     "name": "stdout",
     "output_type": "stream",
     "text": [
      "Epoch 199 tr: l 0.689 a 0.834  clct[31, 29] ans[31, 29] lr 0.033833 cl_acc 1.000 44.985sec(train) 3.691sec(infer)\n"
     ]
    },
    {
     "name": "stdout",
     "output_type": "stream",
     "text": [
      "Epoch 199 tst: l 0.800 a 0.810  clct[20, 20] ans[20, 20] cl_acc 1.000 2.358sec\n"
     ]
    },
    {
     "name": "stdout",
     "output_type": "stream",
     "text": [
      "Epoch 200 tr: l 0.686 a 0.835  clct[33, 27] ans[33, 27] lr 0.033495 cl_acc 1.000 44.806sec(train) 3.969sec(infer)\n"
     ]
    },
    {
     "name": "stdout",
     "output_type": "stream",
     "text": [
      "Epoch 200 tst: l 0.801 a 0.808  clct[20, 20] ans[20, 20] cl_acc 1.000 2.440sec\n",
      "result written at output/results.pickle\n"
     ]
    },
    {
     "name": "stdout",
     "output_type": "stream",
     "text": [
      "Epoch 201 tr: l 0.703 a 0.828  clct[32, 28] ans[32, 28] lr 0.033160 cl_acc 1.000 44.676sec(train) 3.724sec(infer)\n"
     ]
    },
    {
     "name": "stdout",
     "output_type": "stream",
     "text": [
      "Epoch 201 tst: l 0.798 a 0.811  clct[20, 20] ans[20, 20] cl_acc 1.000 2.304sec\n"
     ]
    },
    {
     "name": "stdout",
     "output_type": "stream",
     "text": [
      "Epoch 202 tr: l 0.686 a 0.835  clct[33, 27] ans[33, 27] lr 0.032828 cl_acc 1.000 44.608sec(train) 4.038sec(infer)\n"
     ]
    },
    {
     "name": "stdout",
     "output_type": "stream",
     "text": [
      "Epoch 202 tst: l 0.795 a 0.810  clct[20, 20] ans[20, 20] cl_acc 1.000 2.517sec\n"
     ]
    },
    {
     "name": "stdout",
     "output_type": "stream",
     "text": [
      "Epoch 203 tr: l 0.661 a 0.842  clct[29, 31] ans[29, 31] lr 0.032500 cl_acc 1.000 44.835sec(train) 3.807sec(infer)\n"
     ]
    },
    {
     "name": "stdout",
     "output_type": "stream",
     "text": [
      "Epoch 203 tst: l 0.803 a 0.807  clct[20, 20] ans[20, 20] cl_acc 1.000 2.394sec\n"
     ]
    },
    {
     "name": "stdout",
     "output_type": "stream",
     "text": [
      "Epoch 204 tr: l 0.703 a 0.831  clct[24, 36] ans[24, 36] lr 0.032175 cl_acc 1.000 44.601sec(train) 4.044sec(infer)\n"
     ]
    },
    {
     "name": "stdout",
     "output_type": "stream",
     "text": [
      "Epoch 204 tst: l 0.810 a 0.810  clct[20, 20] ans[20, 20] cl_acc 1.000 2.571sec\n"
     ]
    },
    {
     "name": "stdout",
     "output_type": "stream",
     "text": [
      "Epoch 205 tr: l 0.675 a 0.841  clct[23, 37] ans[23, 37] lr 0.031853 cl_acc 1.000 44.496sec(train) 3.979sec(infer)\n"
     ]
    },
    {
     "name": "stdout",
     "output_type": "stream",
     "text": [
      "Epoch 205 tst: l 0.789 a 0.815  clct[20, 20] ans[20, 20] cl_acc 1.000 2.527sec\n"
     ]
    },
    {
     "name": "stdout",
     "output_type": "stream",
     "text": [
      "Epoch 206 tr: l 0.667 a 0.841  clct[32, 28] ans[32, 28] lr 0.031535 cl_acc 1.000 43.999sec(train) 3.997sec(infer)\n"
     ]
    },
    {
     "name": "stdout",
     "output_type": "stream",
     "text": [
      "Epoch 206 tst: l 0.768 a 0.814  clct[20, 20] ans[20, 20] cl_acc 1.000 2.615sec\n"
     ]
    },
    {
     "name": "stdout",
     "output_type": "stream",
     "text": [
      "Epoch 207 tr: l 0.677 a 0.838  clct[30, 30] ans[30, 30] lr 0.031219 cl_acc 1.000 44.273sec(train) 3.941sec(infer)\n"
     ]
    },
    {
     "name": "stdout",
     "output_type": "stream",
     "text": [
      "Epoch 207 tst: l 0.777 a 0.815  clct[20, 20] ans[20, 20] cl_acc 1.000 2.571sec\n"
     ]
    },
    {
     "name": "stdout",
     "output_type": "stream",
     "text": [
      "Epoch 208 tr: l 0.638 a 0.847  clct[33, 27] ans[33, 27] lr 0.030907 cl_acc 1.000 44.457sec(train) 4.026sec(infer)\n"
     ]
    },
    {
     "name": "stdout",
     "output_type": "stream",
     "text": [
      "Epoch 208 tst: l 0.781 a 0.809  clct[20, 20] ans[20, 20] cl_acc 1.000 2.514sec\n"
     ]
    },
    {
     "name": "stdout",
     "output_type": "stream",
     "text": [
      "Epoch 209 tr: l 0.652 a 0.844  clct[32, 28] ans[32, 28] lr 0.030598 cl_acc 1.000 44.775sec(train) 3.843sec(infer)\n"
     ]
    },
    {
     "name": "stdout",
     "output_type": "stream",
     "text": [
      "Epoch 209 tst: l 0.770 a 0.815  clct[20, 20] ans[20, 20] cl_acc 1.000 2.321sec\n"
     ]
    },
    {
     "name": "stdout",
     "output_type": "stream",
     "text": [
      "Epoch 210 tr: l 0.665 a 0.841  clct[27, 33] ans[27, 33] lr 0.030292 cl_acc 1.000 44.451sec(train) 3.789sec(infer)\n"
     ]
    },
    {
     "name": "stdout",
     "output_type": "stream",
     "text": [
      "Epoch 210 tst: l 0.782 a 0.814  clct[20, 20] ans[20, 20] cl_acc 1.000 2.399sec\n",
      "result written at output/results.pickle\n"
     ]
    },
    {
     "name": "stdout",
     "output_type": "stream",
     "text": [
      "Epoch 211 tr: l 0.643 a 0.845  clct[31, 29] ans[31, 29] lr 0.029989 cl_acc 1.000 45.580sec(train) 3.974sec(infer)\n"
     ]
    },
    {
     "name": "stdout",
     "output_type": "stream",
     "text": [
      "Epoch 211 tst: l 0.777 a 0.811  clct[20, 20] ans[20, 20] cl_acc 1.000 2.503sec\n"
     ]
    },
    {
     "name": "stdout",
     "output_type": "stream",
     "text": [
      "Epoch 212 tr: l 0.687 a 0.833  clct[28, 32] ans[28, 32] lr 0.029689 cl_acc 1.000 44.513sec(train) 3.754sec(infer)\n"
     ]
    },
    {
     "name": "stdout",
     "output_type": "stream",
     "text": [
      "Epoch 212 tst: l 0.792 a 0.812  clct[20, 20] ans[20, 20] cl_acc 1.000 2.382sec\n"
     ]
    },
    {
     "name": "stdout",
     "output_type": "stream",
     "text": [
      "Epoch 213 tr: l 0.661 a 0.840  clct[30, 30] ans[30, 30] lr 0.029392 cl_acc 1.000 45.296sec(train) 3.658sec(infer)\n"
     ]
    },
    {
     "name": "stdout",
     "output_type": "stream",
     "text": [
      "Epoch 213 tst: l 0.771 a 0.815  clct[20, 20] ans[20, 20] cl_acc 1.000 2.306sec\n"
     ]
    },
    {
     "name": "stdout",
     "output_type": "stream",
     "text": [
      "Epoch 214 tr: l 0.677 a 0.837  clct[34, 26] ans[34, 26] lr 0.029099 cl_acc 1.000 44.544sec(train) 3.952sec(infer)\n"
     ]
    },
    {
     "name": "stdout",
     "output_type": "stream",
     "text": [
      "Epoch 214 tst: l 0.774 a 0.812  clct[20, 20] ans[20, 20] cl_acc 1.000 2.465sec\n"
     ]
    },
    {
     "name": "stdout",
     "output_type": "stream",
     "text": [
      "Epoch 215 tr: l 0.642 a 0.848  clct[24, 36] ans[24, 36] lr 0.028808 cl_acc 1.000 45.272sec(train) 3.696sec(infer)\n"
     ]
    },
    {
     "name": "stdout",
     "output_type": "stream",
     "text": [
      "Epoch 215 tst: l 0.806 a 0.808  clct[20, 20] ans[20, 20] cl_acc 1.000 2.346sec\n"
     ]
    },
    {
     "name": "stdout",
     "output_type": "stream",
     "text": [
      "Epoch 216 tr: l 0.643 a 0.844  clct[32, 28] ans[32, 28] lr 0.028520 cl_acc 1.000 44.449sec(train) 3.798sec(infer)\n"
     ]
    },
    {
     "name": "stdout",
     "output_type": "stream",
     "text": [
      "Epoch 216 tst: l 0.772 a 0.818  clct[20, 20] ans[20, 20] cl_acc 1.000 2.350sec\n"
     ]
    },
    {
     "name": "stdout",
     "output_type": "stream",
     "text": [
      "Epoch 217 tr: l 0.654 a 0.842  clct[32, 28] ans[32, 28] lr 0.028234 cl_acc 1.000 44.250sec(train) 3.817sec(infer)\n"
     ]
    },
    {
     "name": "stdout",
     "output_type": "stream",
     "text": [
      "Epoch 217 tst: l 0.779 a 0.814  clct[20, 20] ans[20, 20] cl_acc 1.000 2.387sec\n"
     ]
    },
    {
     "name": "stdout",
     "output_type": "stream",
     "text": [
      "Epoch 218 tr: l 0.645 a 0.846  clct[25, 35] ans[25, 35] lr 0.027952 cl_acc 1.000 44.881sec(train) 3.570sec(infer)\n"
     ]
    },
    {
     "name": "stdout",
     "output_type": "stream",
     "text": [
      "Epoch 218 tst: l 0.761 a 0.817  clct[20, 20] ans[20, 20] cl_acc 1.000 2.211sec\n"
     ]
    },
    {
     "name": "stdout",
     "output_type": "stream",
     "text": [
      "Epoch 219 tr: l 0.641 a 0.848  clct[32, 28] ans[32, 28] lr 0.027672 cl_acc 1.000 44.207sec(train) 3.984sec(infer)\n"
     ]
    },
    {
     "name": "stdout",
     "output_type": "stream",
     "text": [
      "Epoch 219 tst: l 0.772 a 0.817  clct[20, 20] ans[20, 20] cl_acc 1.000 2.406sec\n"
     ]
    },
    {
     "name": "stdout",
     "output_type": "stream",
     "text": [
      "Epoch 220 tr: l 0.636 a 0.848  clct[27, 33] ans[27, 33] lr 0.027396 cl_acc 1.000 44.653sec(train) 3.678sec(infer)\n"
     ]
    },
    {
     "name": "stdout",
     "output_type": "stream",
     "text": [
      "Epoch 220 tst: l 0.779 a 0.818  clct[20, 20] ans[20, 20] cl_acc 1.000 2.294sec\n",
      "result written at output/results.pickle\n"
     ]
    },
    {
     "name": "stdout",
     "output_type": "stream",
     "text": [
      "Epoch 221 tr: l 0.626 a 0.848  clct[30, 30] ans[30, 30] lr 0.027122 cl_acc 1.000 44.554sec(train) 3.647sec(infer)\n"
     ]
    },
    {
     "name": "stdout",
     "output_type": "stream",
     "text": [
      "Epoch 221 tst: l 0.757 a 0.819  clct[20, 20] ans[20, 20] cl_acc 1.000 2.301sec\n"
     ]
    },
    {
     "name": "stdout",
     "output_type": "stream",
     "text": [
      "Epoch 222 tr: l 0.650 a 0.844  clct[31, 29] ans[31, 29] lr 0.026851 cl_acc 1.000 44.129sec(train) 3.918sec(infer)\n"
     ]
    },
    {
     "name": "stdout",
     "output_type": "stream",
     "text": [
      "Epoch 222 tst: l 0.764 a 0.812  clct[20, 20] ans[20, 20] cl_acc 1.000 2.382sec\n"
     ]
    },
    {
     "name": "stdout",
     "output_type": "stream",
     "text": [
      "Epoch 223 tr: l 0.633 a 0.848  clct[27, 33] ans[27, 33] lr 0.026582 cl_acc 1.000 44.764sec(train) 3.633sec(infer)\n"
     ]
    },
    {
     "name": "stdout",
     "output_type": "stream",
     "text": [
      "Epoch 223 tst: l 0.761 a 0.813  clct[20, 20] ans[20, 20] cl_acc 1.000 2.306sec\n"
     ]
    },
    {
     "name": "stdout",
     "output_type": "stream",
     "text": [
      "Epoch 224 tr: l 0.659 a 0.837  clct[29, 31] ans[29, 31] lr 0.026316 cl_acc 1.000 44.420sec(train) 3.788sec(infer)\n"
     ]
    },
    {
     "name": "stdout",
     "output_type": "stream",
     "text": [
      "Epoch 224 tst: l 0.785 a 0.810  clct[20, 20] ans[20, 20] cl_acc 1.000 2.341sec\n"
     ]
    },
    {
     "name": "stdout",
     "output_type": "stream",
     "text": [
      "Epoch 225 tr: l 0.614 a 0.853  clct[31, 29] ans[31, 29] lr 0.026053 cl_acc 1.000 44.185sec(train) 3.742sec(infer)\n"
     ]
    },
    {
     "name": "stdout",
     "output_type": "stream",
     "text": [
      "Epoch 225 tst: l 0.772 a 0.817  clct[20, 20] ans[20, 20] cl_acc 1.000 2.432sec\n"
     ]
    },
    {
     "name": "stdout",
     "output_type": "stream",
     "text": [
      "Epoch 226 tr: l 0.646 a 0.844  clct[27, 33] ans[27, 33] lr 0.025793 cl_acc 1.000 44.314sec(train) 3.663sec(infer)\n"
     ]
    },
    {
     "name": "stdout",
     "output_type": "stream",
     "text": [
      "Epoch 226 tst: l 0.775 a 0.816  clct[20, 20] ans[20, 20] cl_acc 1.000 2.295sec\n"
     ]
    },
    {
     "name": "stdout",
     "output_type": "stream",
     "text": [
      "Epoch 227 tr: l 0.607 a 0.854  clct[25, 35] ans[25, 35] lr 0.025535 cl_acc 1.000 44.300sec(train) 4.062sec(infer)\n"
     ]
    },
    {
     "name": "stdout",
     "output_type": "stream",
     "text": [
      "Epoch 227 tst: l 0.753 a 0.819  clct[20, 20] ans[20, 20] cl_acc 1.000 2.443sec\n"
     ]
    },
    {
     "name": "stdout",
     "output_type": "stream",
     "text": [
      "Epoch 228 tr: l 0.633 a 0.846  clct[29, 31] ans[29, 31] lr 0.025279 cl_acc 1.000 44.496sec(train) 3.720sec(infer)\n"
     ]
    },
    {
     "name": "stdout",
     "output_type": "stream",
     "text": [
      "Epoch 228 tst: l 0.765 a 0.818  clct[20, 20] ans[20, 20] cl_acc 1.000 2.300sec\n"
     ]
    },
    {
     "name": "stdout",
     "output_type": "stream",
     "text": [
      "Epoch 229 tr: l 0.639 a 0.844  clct[32, 28] ans[32, 28] lr 0.025026 cl_acc 1.000 44.400sec(train) 3.657sec(infer)\n"
     ]
    },
    {
     "name": "stdout",
     "output_type": "stream",
     "text": [
      "Epoch 229 tst: l 0.760 a 0.820  clct[20, 20] ans[20, 20] cl_acc 1.000 2.302sec\n"
     ]
    },
    {
     "name": "stdout",
     "output_type": "stream",
     "text": [
      "Epoch 230 tr: l 0.637 a 0.845  clct[30, 30] ans[30, 30] lr 0.024776 cl_acc 1.000 44.319sec(train) 3.965sec(infer)\n"
     ]
    },
    {
     "name": "stdout",
     "output_type": "stream",
     "text": [
      "Epoch 230 tst: l 0.776 a 0.815  clct[20, 20] ans[20, 20] cl_acc 1.000 2.475sec\n",
      "result written at output/results.pickle\n"
     ]
    },
    {
     "name": "stdout",
     "output_type": "stream",
     "text": [
      "Epoch 231 tr: l 0.620 a 0.850  clct[36, 24] ans[36, 24] lr 0.024528 cl_acc 1.000 44.318sec(train) 3.950sec(infer)\n"
     ]
    },
    {
     "name": "stdout",
     "output_type": "stream",
     "text": [
      "Epoch 231 tst: l 0.750 a 0.824  clct[20, 20] ans[20, 20] cl_acc 1.000 2.515sec\n"
     ]
    },
    {
     "name": "stdout",
     "output_type": "stream",
     "text": [
      "Epoch 232 tr: l 0.637 a 0.849  clct[29, 31] ans[29, 31] lr 0.024283 cl_acc 1.000 44.326sec(train) 3.819sec(infer)\n"
     ]
    },
    {
     "name": "stdout",
     "output_type": "stream",
     "text": [
      "Epoch 232 tst: l 0.761 a 0.818  clct[20, 20] ans[20, 20] cl_acc 1.000 2.330sec\n"
     ]
    },
    {
     "name": "stdout",
     "output_type": "stream",
     "text": [
      "Epoch 233 tr: l 0.629 a 0.846  clct[34, 26] ans[34, 26] lr 0.024040 cl_acc 1.000 44.556sec(train) 3.571sec(infer)\n"
     ]
    },
    {
     "name": "stdout",
     "output_type": "stream",
     "text": [
      "Epoch 233 tst: l 0.767 a 0.816  clct[20, 20] ans[20, 20] cl_acc 1.000 2.284sec\n"
     ]
    },
    {
     "name": "stdout",
     "output_type": "stream",
     "text": [
      "Epoch 234 tr: l 0.614 a 0.851  clct[32, 28] ans[32, 28] lr 0.023800 cl_acc 1.000 44.270sec(train) 3.749sec(infer)\n"
     ]
    },
    {
     "name": "stdout",
     "output_type": "stream",
     "text": [
      "Epoch 234 tst: l 0.760 a 0.817  clct[20, 20] ans[20, 20] cl_acc 1.000 2.320sec\n"
     ]
    },
    {
     "name": "stdout",
     "output_type": "stream",
     "text": [
      "Epoch 235 tr: l 0.603 a 0.855  clct[28, 32] ans[28, 32] lr 0.023562 cl_acc 1.000 44.222sec(train) 3.593sec(infer)\n"
     ]
    },
    {
     "name": "stdout",
     "output_type": "stream",
     "text": [
      "Epoch 235 tst: l 0.758 a 0.821  clct[20, 20] ans[20, 20] cl_acc 1.000 2.230sec\n"
     ]
    },
    {
     "name": "stdout",
     "output_type": "stream",
     "text": [
      "Epoch 236 tr: l 0.612 a 0.853  clct[27, 33] ans[27, 33] lr 0.023326 cl_acc 1.000 44.784sec(train) 3.743sec(infer)\n"
     ]
    },
    {
     "name": "stdout",
     "output_type": "stream",
     "text": [
      "Epoch 236 tst: l 0.756 a 0.818  clct[20, 20] ans[20, 20] cl_acc 1.000 2.342sec\n"
     ]
    },
    {
     "name": "stdout",
     "output_type": "stream",
     "text": [
      "Epoch 237 tr: l 0.588 a 0.858  clct[29, 31] ans[29, 31] lr 0.023093 cl_acc 1.000 44.100sec(train) 3.851sec(infer)\n"
     ]
    },
    {
     "name": "stdout",
     "output_type": "stream",
     "text": [
      "Epoch 237 tst: l 0.746 a 0.820  clct[20, 20] ans[20, 20] cl_acc 1.000 2.414sec\n"
     ]
    },
    {
     "name": "stdout",
     "output_type": "stream",
     "text": [
      "Epoch 238 tr: l 0.608 a 0.851  clct[28, 32] ans[28, 32] lr 0.022862 cl_acc 1.000 44.564sec(train) 3.891sec(infer)\n"
     ]
    },
    {
     "name": "stdout",
     "output_type": "stream",
     "text": [
      "Epoch 238 tst: l 0.752 a 0.819  clct[20, 20] ans[20, 20] cl_acc 1.000 2.498sec\n"
     ]
    },
    {
     "name": "stdout",
     "output_type": "stream",
     "text": [
      "Epoch 239 tr: l 0.652 a 0.840  clct[32, 28] ans[32, 28] lr 0.022633 cl_acc 1.000 44.583sec(train) 3.743sec(infer)\n"
     ]
    },
    {
     "name": "stdout",
     "output_type": "stream",
     "text": [
      "Epoch 239 tst: l 0.748 a 0.819  clct[20, 20] ans[20, 20] cl_acc 1.000 2.300sec\n"
     ]
    },
    {
     "name": "stdout",
     "output_type": "stream",
     "text": [
      "Epoch 240 tr: l 0.616 a 0.850  clct[30, 30] ans[30, 30] lr 0.022407 cl_acc 1.000 44.502sec(train) 3.875sec(infer)\n"
     ]
    },
    {
     "name": "stdout",
     "output_type": "stream",
     "text": [
      "Epoch 240 tst: l 0.743 a 0.823  clct[20, 20] ans[20, 20] cl_acc 1.000 2.364sec\n",
      "result written at output/results.pickle\n"
     ]
    },
    {
     "name": "stdout",
     "output_type": "stream",
     "text": [
      "Epoch 241 tr: l 0.633 a 0.844  clct[34, 26] ans[34, 26] lr 0.022183 cl_acc 1.000 44.586sec(train) 3.784sec(infer)\n"
     ]
    },
    {
     "name": "stdout",
     "output_type": "stream",
     "text": [
      "Epoch 241 tst: l 0.754 a 0.819  clct[20, 20] ans[20, 20] cl_acc 1.000 2.433sec\n"
     ]
    },
    {
     "name": "stdout",
     "output_type": "stream",
     "text": [
      "Epoch 242 tr: l 0.601 a 0.852  clct[31, 29] ans[31, 29] lr 0.021961 cl_acc 1.000 44.470sec(train) 3.773sec(infer)\n"
     ]
    },
    {
     "name": "stdout",
     "output_type": "stream",
     "text": [
      "Epoch 242 tst: l 0.745 a 0.817  clct[20, 20] ans[20, 20] cl_acc 1.000 2.530sec\n"
     ]
    },
    {
     "name": "stdout",
     "output_type": "stream",
     "text": [
      "Epoch 243 tr: l 0.596 a 0.858  clct[29, 31] ans[29, 31] lr 0.021742 cl_acc 1.000 44.472sec(train) 3.846sec(infer)\n"
     ]
    },
    {
     "name": "stdout",
     "output_type": "stream",
     "text": [
      "Epoch 243 tst: l 0.749 a 0.824  clct[20, 20] ans[20, 20] cl_acc 1.000 2.431sec\n"
     ]
    },
    {
     "name": "stdout",
     "output_type": "stream",
     "text": [
      "Epoch 244 tr: l 0.594 a 0.855  clct[35, 25] ans[35, 25] lr 0.021524 cl_acc 1.000 44.558sec(train) 3.618sec(infer)\n"
     ]
    },
    {
     "name": "stdout",
     "output_type": "stream",
     "text": [
      "Epoch 244 tst: l 0.763 a 0.816  clct[20, 20] ans[20, 20] cl_acc 1.000 2.289sec\n"
     ]
    },
    {
     "name": "stdout",
     "output_type": "stream",
     "text": [
      "Epoch 245 tr: l 0.607 a 0.853  clct[32, 28] ans[32, 28] lr 0.021309 cl_acc 1.000 44.418sec(train) 3.641sec(infer)\n"
     ]
    },
    {
     "name": "stdout",
     "output_type": "stream",
     "text": [
      "Epoch 245 tst: l 0.736 a 0.821  clct[20, 20] ans[20, 20] cl_acc 1.000 2.234sec\n"
     ]
    },
    {
     "name": "stdout",
     "output_type": "stream",
     "text": [
      "Epoch 246 tr: l 0.635 a 0.844  clct[29, 31] ans[29, 31] lr 0.021096 cl_acc 1.000 44.256sec(train) 3.766sec(infer)\n"
     ]
    },
    {
     "name": "stdout",
     "output_type": "stream",
     "text": [
      "Epoch 246 tst: l 0.748 a 0.819  clct[20, 20] ans[20, 20] cl_acc 1.000 2.323sec\n"
     ]
    },
    {
     "name": "stdout",
     "output_type": "stream",
     "text": [
      "Epoch 247 tr: l 0.571 a 0.865  clct[29, 31] ans[29, 31] lr 0.020885 cl_acc 1.000 44.220sec(train) 3.822sec(infer)\n"
     ]
    },
    {
     "name": "stdout",
     "output_type": "stream",
     "text": [
      "Epoch 247 tst: l 0.743 a 0.822  clct[20, 20] ans[20, 20] cl_acc 1.000 2.413sec\n"
     ]
    },
    {
     "name": "stdout",
     "output_type": "stream",
     "text": [
      "Epoch 248 tr: l 0.581 a 0.861  clct[33, 27] ans[33, 27] lr 0.020676 cl_acc 1.000 44.463sec(train) 3.824sec(infer)\n"
     ]
    },
    {
     "name": "stdout",
     "output_type": "stream",
     "text": [
      "Epoch 248 tst: l 0.739 a 0.818  clct[20, 20] ans[20, 20] cl_acc 1.000 2.414sec\n"
     ]
    },
    {
     "name": "stdout",
     "output_type": "stream",
     "text": [
      "Epoch 249 tr: l 0.585 a 0.858  clct[30, 30] ans[30, 30] lr 0.020469 cl_acc 1.000 44.410sec(train) 3.706sec(infer)\n"
     ]
    },
    {
     "name": "stdout",
     "output_type": "stream",
     "text": [
      "Epoch 249 tst: l 0.724 a 0.825  clct[20, 20] ans[20, 20] cl_acc 1.000 2.318sec\n"
     ]
    },
    {
     "name": "stdout",
     "output_type": "stream",
     "text": [
      "Epoch 250 tr: l 0.590 a 0.857  clct[32, 28] ans[32, 28] lr 0.020265 cl_acc 1.000 44.267sec(train) 3.881sec(infer)\n"
     ]
    },
    {
     "name": "stdout",
     "output_type": "stream",
     "text": [
      "Epoch 250 tst: l 0.746 a 0.818  clct[20, 20] ans[20, 20] cl_acc 1.000 2.437sec\n",
      "result written at output/results.pickle\n"
     ]
    },
    {
     "name": "stdout",
     "output_type": "stream",
     "text": [
      "Epoch 251 tr: l 0.585 a 0.857  clct[33, 27] ans[33, 27] lr 0.020062 cl_acc 1.000 44.773sec(train) 4.022sec(infer)\n"
     ]
    },
    {
     "name": "stdout",
     "output_type": "stream",
     "text": [
      "Epoch 251 tst: l 0.740 a 0.820  clct[20, 20] ans[20, 20] cl_acc 1.000 2.476sec\n"
     ]
    },
    {
     "name": "stdout",
     "output_type": "stream",
     "text": [
      "Epoch 252 tr: l 0.570 a 0.863  clct[27, 33] ans[27, 33] lr 0.019861 cl_acc 1.000 44.621sec(train) 3.917sec(infer)\n"
     ]
    },
    {
     "name": "stdout",
     "output_type": "stream",
     "text": [
      "Epoch 252 tst: l 0.741 a 0.820  clct[20, 20] ans[20, 20] cl_acc 1.000 2.540sec\n"
     ]
    },
    {
     "name": "stdout",
     "output_type": "stream",
     "text": [
      "Epoch 253 tr: l 0.592 a 0.859  clct[28, 32] ans[28, 32] lr 0.019663 cl_acc 1.000 44.663sec(train) 3.726sec(infer)\n"
     ]
    },
    {
     "name": "stdout",
     "output_type": "stream",
     "text": [
      "Epoch 253 tst: l 0.741 a 0.824  clct[20, 20] ans[20, 20] cl_acc 1.000 2.327sec\n"
     ]
    },
    {
     "name": "stdout",
     "output_type": "stream",
     "text": [
      "Epoch 254 tr: l 0.606 a 0.851  clct[27, 33] ans[27, 33] lr 0.019466 cl_acc 1.000 44.483sec(train) 4.028sec(infer)\n"
     ]
    },
    {
     "name": "stdout",
     "output_type": "stream",
     "text": [
      "Epoch 254 tst: l 0.736 a 0.820  clct[20, 20] ans[20, 20] cl_acc 1.000 2.537sec\n"
     ]
    },
    {
     "name": "stdout",
     "output_type": "stream",
     "text": [
      "Epoch 255 tr: l 0.591 a 0.857  clct[26, 34] ans[26, 34] lr 0.019271 cl_acc 1.000 44.586sec(train) 3.667sec(infer)\n"
     ]
    },
    {
     "name": "stdout",
     "output_type": "stream",
     "text": [
      "Epoch 255 tst: l 0.726 a 0.828  clct[20, 20] ans[20, 20] cl_acc 1.000 2.339sec\n"
     ]
    },
    {
     "name": "stdout",
     "output_type": "stream",
     "text": [
      "Epoch 256 tr: l 0.568 a 0.863  clct[31, 29] ans[31, 29] lr 0.019079 cl_acc 1.000 44.293sec(train) 3.922sec(infer)\n"
     ]
    },
    {
     "name": "stdout",
     "output_type": "stream",
     "text": [
      "Epoch 256 tst: l 0.731 a 0.826  clct[20, 20] ans[20, 20] cl_acc 1.000 2.564sec\n"
     ]
    },
    {
     "name": "stdout",
     "output_type": "stream",
     "text": [
      "Epoch 257 tr: l 0.571 a 0.863  clct[28, 32] ans[28, 32] lr 0.018888 cl_acc 1.000 44.304sec(train) 3.992sec(infer)\n"
     ]
    },
    {
     "name": "stdout",
     "output_type": "stream",
     "text": [
      "Epoch 257 tst: l 0.720 a 0.826  clct[20, 20] ans[20, 20] cl_acc 1.000 2.462sec\n"
     ]
    },
    {
     "name": "stdout",
     "output_type": "stream",
     "text": [
      "Epoch 258 tr: l 0.566 a 0.866  clct[32, 28] ans[32, 28] lr 0.018699 cl_acc 1.000 44.236sec(train) 3.793sec(infer)\n"
     ]
    },
    {
     "name": "stdout",
     "output_type": "stream",
     "text": [
      "Epoch 258 tst: l 0.738 a 0.825  clct[20, 20] ans[20, 20] cl_acc 1.000 2.368sec\n"
     ]
    },
    {
     "name": "stdout",
     "output_type": "stream",
     "text": [
      "Epoch 259 tr: l 0.585 a 0.857  clct[35, 25] ans[35, 25] lr 0.018512 cl_acc 1.000 44.576sec(train) 3.768sec(infer)\n"
     ]
    },
    {
     "name": "stdout",
     "output_type": "stream",
     "text": [
      "Epoch 259 tst: l 0.736 a 0.823  clct[20, 20] ans[20, 20] cl_acc 1.000 2.368sec\n"
     ]
    },
    {
     "name": "stdout",
     "output_type": "stream",
     "text": [
      "Epoch 260 tr: l 0.575 a 0.860  clct[28, 32] ans[28, 32] lr 0.018327 cl_acc 1.000 44.301sec(train) 3.771sec(infer)\n"
     ]
    },
    {
     "name": "stdout",
     "output_type": "stream",
     "text": [
      "Epoch 260 tst: l 0.726 a 0.825  clct[20, 20] ans[20, 20] cl_acc 1.000 2.403sec\n",
      "result written at output/results.pickle\n"
     ]
    },
    {
     "name": "stdout",
     "output_type": "stream",
     "text": [
      "Epoch 261 tr: l 0.530 a 0.876  clct[30, 30] ans[30, 30] lr 0.018144 cl_acc 1.000 44.178sec(train) 3.765sec(infer)\n"
     ]
    },
    {
     "name": "stdout",
     "output_type": "stream",
     "text": [
      "Epoch 261 tst: l 0.731 a 0.824  clct[20, 20] ans[20, 20] cl_acc 1.000 2.398sec\n"
     ]
    },
    {
     "name": "stdout",
     "output_type": "stream",
     "text": [
      "Epoch 262 tr: l 0.571 a 0.862  clct[26, 34] ans[26, 34] lr 0.017962 cl_acc 1.000 44.127sec(train) 3.995sec(infer)\n"
     ]
    },
    {
     "name": "stdout",
     "output_type": "stream",
     "text": [
      "Epoch 262 tst: l 0.749 a 0.820  clct[20, 20] ans[20, 20] cl_acc 1.000 2.525sec\n"
     ]
    },
    {
     "name": "stdout",
     "output_type": "stream",
     "text": [
      "Epoch 263 tr: l 0.571 a 0.862  clct[27, 33] ans[27, 33] lr 0.017783 cl_acc 1.000 44.465sec(train) 4.070sec(infer)\n"
     ]
    },
    {
     "name": "stdout",
     "output_type": "stream",
     "text": [
      "Epoch 263 tst: l 0.722 a 0.826  clct[20, 20] ans[20, 20] cl_acc 1.000 2.546sec\n"
     ]
    },
    {
     "name": "stdout",
     "output_type": "stream",
     "text": [
      "Epoch 264 tr: l 0.591 a 0.857  clct[25, 35] ans[25, 35] lr 0.017605 cl_acc 1.000 44.481sec(train) 3.787sec(infer)\n"
     ]
    },
    {
     "name": "stdout",
     "output_type": "stream",
     "text": [
      "Epoch 264 tst: l 0.726 a 0.824  clct[20, 20] ans[20, 20] cl_acc 1.000 2.376sec\n"
     ]
    },
    {
     "name": "stdout",
     "output_type": "stream",
     "text": [
      "Epoch 265 tr: l 0.566 a 0.863  clct[27, 33] ans[27, 33] lr 0.017429 cl_acc 1.000 44.545sec(train) 3.769sec(infer)\n"
     ]
    },
    {
     "name": "stdout",
     "output_type": "stream",
     "text": [
      "Epoch 265 tst: l 0.727 a 0.825  clct[20, 20] ans[20, 20] cl_acc 1.000 2.362sec\n"
     ]
    },
    {
     "name": "stdout",
     "output_type": "stream",
     "text": [
      "Epoch 266 tr: l 0.575 a 0.860  clct[30, 30] ans[30, 30] lr 0.017254 cl_acc 1.000 44.545sec(train) 3.689sec(infer)\n"
     ]
    },
    {
     "name": "stdout",
     "output_type": "stream",
     "text": [
      "Epoch 266 tst: l 0.726 a 0.824  clct[20, 20] ans[20, 20] cl_acc 1.000 2.339sec\n"
     ]
    },
    {
     "name": "stdout",
     "output_type": "stream",
     "text": [
      "Epoch 267 tr: l 0.541 a 0.872  clct[28, 32] ans[28, 32] lr 0.017082 cl_acc 1.000 44.250sec(train) 3.774sec(infer)\n"
     ]
    },
    {
     "name": "stdout",
     "output_type": "stream",
     "text": [
      "Epoch 267 tst: l 0.712 a 0.829  clct[20, 20] ans[20, 20] cl_acc 1.000 2.345sec\n"
     ]
    },
    {
     "name": "stdout",
     "output_type": "stream",
     "text": [
      "Epoch 268 tr: l 0.539 a 0.870  clct[28, 32] ans[28, 32] lr 0.016911 cl_acc 1.000 44.591sec(train) 3.674sec(infer)\n"
     ]
    },
    {
     "name": "stdout",
     "output_type": "stream",
     "text": [
      "Epoch 268 tst: l 0.728 a 0.824  clct[20, 20] ans[20, 20] cl_acc 1.000 2.288sec\n"
     ]
    },
    {
     "name": "stdout",
     "output_type": "stream",
     "text": [
      "Epoch 269 tr: l 0.544 a 0.867  clct[28, 32] ans[28, 32] lr 0.016742 cl_acc 1.000 44.441sec(train) 4.070sec(infer)\n"
     ]
    },
    {
     "name": "stdout",
     "output_type": "stream",
     "text": [
      "Epoch 269 tst: l 0.722 a 0.827  clct[20, 20] ans[20, 20] cl_acc 1.000 2.573sec\n"
     ]
    },
    {
     "name": "stdout",
     "output_type": "stream",
     "text": [
      "Epoch 270 tr: l 0.574 a 0.859  clct[33, 27] ans[33, 27] lr 0.016575 cl_acc 1.000 44.467sec(train) 3.800sec(infer)\n"
     ]
    },
    {
     "name": "stdout",
     "output_type": "stream",
     "text": [
      "Epoch 270 tst: l 0.726 a 0.825  clct[20, 20] ans[20, 20] cl_acc 1.000 2.387sec\n",
      "result written at output/results.pickle\n"
     ]
    },
    {
     "name": "stdout",
     "output_type": "stream",
     "text": [
      "Epoch 271 tr: l 0.553 a 0.867  clct[33, 27] ans[33, 27] lr 0.016409 cl_acc 1.000 44.153sec(train) 3.566sec(infer)\n"
     ]
    },
    {
     "name": "stdout",
     "output_type": "stream",
     "text": [
      "Epoch 271 tst: l 0.729 a 0.826  clct[20, 20] ans[20, 20] cl_acc 1.000 2.239sec\n"
     ]
    },
    {
     "name": "stdout",
     "output_type": "stream",
     "text": [
      "Epoch 272 tr: l 0.531 a 0.873  clct[30, 30] ans[30, 30] lr 0.016245 cl_acc 1.000 44.310sec(train) 3.580sec(infer)\n"
     ]
    },
    {
     "name": "stdout",
     "output_type": "stream",
     "text": [
      "Epoch 272 tst: l 0.735 a 0.826  clct[20, 20] ans[20, 20] cl_acc 1.000 2.266sec\n"
     ]
    },
    {
     "name": "stdout",
     "output_type": "stream",
     "text": [
      "Epoch 273 tr: l 0.549 a 0.867  clct[37, 23] ans[37, 23] lr 0.016082 cl_acc 1.000 44.353sec(train) 3.759sec(infer)\n"
     ]
    },
    {
     "name": "stdout",
     "output_type": "stream",
     "text": [
      "Epoch 273 tst: l 0.733 a 0.826  clct[20, 20] ans[20, 20] cl_acc 1.000 2.330sec\n"
     ]
    },
    {
     "name": "stdout",
     "output_type": "stream",
     "text": [
      "Epoch 274 tr: l 0.529 a 0.873  clct[32, 28] ans[32, 28] lr 0.015921 cl_acc 1.000 44.520sec(train) 3.547sec(infer)\n"
     ]
    },
    {
     "name": "stdout",
     "output_type": "stream",
     "text": [
      "Epoch 274 tst: l 0.716 a 0.826  clct[20, 20] ans[20, 20] cl_acc 1.000 2.281sec\n"
     ]
    },
    {
     "name": "stdout",
     "output_type": "stream",
     "text": [
      "Epoch 275 tr: l 0.547 a 0.869  clct[28, 32] ans[28, 32] lr 0.015762 cl_acc 1.000 44.380sec(train) 3.816sec(infer)\n"
     ]
    },
    {
     "name": "stdout",
     "output_type": "stream",
     "text": [
      "Epoch 275 tst: l 0.718 a 0.828  clct[20, 20] ans[20, 20] cl_acc 1.000 2.342sec\n"
     ]
    },
    {
     "name": "stdout",
     "output_type": "stream",
     "text": [
      "Epoch 276 tr: l 0.547 a 0.866  clct[37, 23] ans[37, 23] lr 0.015605 cl_acc 1.000 44.363sec(train) 3.739sec(infer)\n"
     ]
    },
    {
     "name": "stdout",
     "output_type": "stream",
     "text": [
      "Epoch 276 tst: l 0.728 a 0.820  clct[20, 20] ans[20, 20] cl_acc 1.000 2.387sec\n"
     ]
    },
    {
     "name": "stdout",
     "output_type": "stream",
     "text": [
      "Epoch 277 tr: l 0.551 a 0.866  clct[36, 24] ans[36, 24] lr 0.015449 cl_acc 1.000 44.351sec(train) 3.593sec(infer)\n"
     ]
    },
    {
     "name": "stdout",
     "output_type": "stream",
     "text": [
      "Epoch 277 tst: l 0.727 a 0.827  clct[20, 20] ans[20, 20] cl_acc 1.000 2.229sec\n"
     ]
    },
    {
     "name": "stdout",
     "output_type": "stream",
     "text": [
      "Epoch 278 tr: l 0.516 a 0.878  clct[27, 33] ans[27, 33] lr 0.015294 cl_acc 1.000 44.589sec(train) 3.973sec(infer)\n"
     ]
    },
    {
     "name": "stdout",
     "output_type": "stream",
     "text": [
      "Epoch 278 tst: l 0.714 a 0.829  clct[20, 20] ans[20, 20] cl_acc 1.000 2.477sec\n"
     ]
    },
    {
     "name": "stdout",
     "output_type": "stream",
     "text": [
      "Epoch 279 tr: l 0.521 a 0.873  clct[33, 27] ans[33, 27] lr 0.015141 cl_acc 1.000 44.367sec(train) 3.821sec(infer)\n"
     ]
    },
    {
     "name": "stdout",
     "output_type": "stream",
     "text": [
      "Epoch 279 tst: l 0.716 a 0.827  clct[20, 20] ans[20, 20] cl_acc 1.000 2.423sec\n"
     ]
    },
    {
     "name": "stdout",
     "output_type": "stream",
     "text": [
      "Epoch 280 tr: l 0.546 a 0.868  clct[26, 34] ans[26, 34] lr 0.014990 cl_acc 1.000 44.456sec(train) 3.784sec(infer)\n"
     ]
    },
    {
     "name": "stdout",
     "output_type": "stream",
     "text": [
      "Epoch 280 tst: l 0.725 a 0.825  clct[20, 20] ans[20, 20] cl_acc 1.000 2.367sec\n",
      "result written at output/results.pickle\n"
     ]
    },
    {
     "name": "stdout",
     "output_type": "stream",
     "text": [
      "Epoch 281 tr: l 0.508 a 0.878  clct[27, 33] ans[27, 33] lr 0.014840 cl_acc 1.000 44.178sec(train) 3.585sec(infer)\n"
     ]
    },
    {
     "name": "stdout",
     "output_type": "stream",
     "text": [
      "Epoch 281 tst: l 0.708 a 0.831  clct[20, 20] ans[20, 20] cl_acc 1.000 2.241sec\n"
     ]
    },
    {
     "name": "stdout",
     "output_type": "stream",
     "text": [
      "Epoch 282 tr: l 0.553 a 0.864  clct[29, 31] ans[29, 31] lr 0.014691 cl_acc 1.000 44.639sec(train) 3.619sec(infer)\n"
     ]
    },
    {
     "name": "stdout",
     "output_type": "stream",
     "text": [
      "Epoch 282 tst: l 0.717 a 0.822  clct[20, 20] ans[20, 20] cl_acc 1.000 2.303sec\n"
     ]
    },
    {
     "name": "stdout",
     "output_type": "stream",
     "text": [
      "Epoch 283 tr: l 0.538 a 0.869  clct[28, 32] ans[28, 32] lr 0.014545 cl_acc 1.000 44.265sec(train) 3.914sec(infer)\n"
     ]
    },
    {
     "name": "stdout",
     "output_type": "stream",
     "text": [
      "Epoch 283 tst: l 0.723 a 0.826  clct[20, 20] ans[20, 20] cl_acc 1.000 2.441sec\n"
     ]
    },
    {
     "name": "stdout",
     "output_type": "stream",
     "text": [
      "Epoch 284 tr: l 0.544 a 0.868  clct[30, 30] ans[30, 30] lr 0.014399 cl_acc 1.000 44.090sec(train) 4.047sec(infer)\n"
     ]
    },
    {
     "name": "stdout",
     "output_type": "stream",
     "text": [
      "Epoch 284 tst: l 0.724 a 0.826  clct[20, 20] ans[20, 20] cl_acc 1.000 2.608sec\n"
     ]
    },
    {
     "name": "stdout",
     "output_type": "stream",
     "text": [
      "Epoch 285 tr: l 0.523 a 0.873  clct[29, 31] ans[29, 31] lr 0.014255 cl_acc 1.000 44.365sec(train) 3.806sec(infer)\n"
     ]
    },
    {
     "name": "stdout",
     "output_type": "stream",
     "text": [
      "Epoch 285 tst: l 0.710 a 0.827  clct[20, 20] ans[20, 20] cl_acc 1.000 2.377sec\n"
     ]
    },
    {
     "name": "stdout",
     "output_type": "stream",
     "text": [
      "Epoch 286 tr: l 0.539 a 0.868  clct[31, 29] ans[31, 29] lr 0.014113 cl_acc 1.000 44.038sec(train) 3.750sec(infer)\n"
     ]
    },
    {
     "name": "stdout",
     "output_type": "stream",
     "text": [
      "Epoch 286 tst: l 0.711 a 0.828  clct[20, 20] ans[20, 20] cl_acc 1.000 2.376sec\n"
     ]
    },
    {
     "name": "stdout",
     "output_type": "stream",
     "text": [
      "Epoch 287 tr: l 0.519 a 0.875  clct[24, 36] ans[24, 36] lr 0.013971 cl_acc 1.000 44.111sec(train) 4.034sec(infer)\n"
     ]
    },
    {
     "name": "stdout",
     "output_type": "stream",
     "text": [
      "Epoch 287 tst: l 0.709 a 0.828  clct[20, 20] ans[20, 20] cl_acc 1.000 2.581sec\n"
     ]
    },
    {
     "name": "stdout",
     "output_type": "stream",
     "text": [
      "Epoch 288 tr: l 0.524 a 0.875  clct[26, 34] ans[26, 34] lr 0.013832 cl_acc 1.000 44.334sec(train) 4.017sec(infer)\n"
     ]
    },
    {
     "name": "stdout",
     "output_type": "stream",
     "text": [
      "Epoch 288 tst: l 0.722 a 0.827  clct[20, 20] ans[20, 20] cl_acc 1.000 2.537sec\n"
     ]
    },
    {
     "name": "stdout",
     "output_type": "stream",
     "text": [
      "Epoch 289 tr: l 0.526 a 0.873  clct[32, 28] ans[32, 28] lr 0.013693 cl_acc 1.000 44.298sec(train) 4.002sec(infer)\n"
     ]
    },
    {
     "name": "stdout",
     "output_type": "stream",
     "text": [
      "Epoch 289 tst: l 0.708 a 0.830  clct[20, 20] ans[20, 20] cl_acc 1.000 2.515sec\n"
     ]
    },
    {
     "name": "stdout",
     "output_type": "stream",
     "text": [
      "Epoch 290 tr: l 0.503 a 0.878  clct[25, 35] ans[25, 35] lr 0.013556 cl_acc 1.000 44.725sec(train) 3.931sec(infer)\n"
     ]
    },
    {
     "name": "stdout",
     "output_type": "stream",
     "text": [
      "Epoch 290 tst: l 0.701 a 0.830  clct[20, 20] ans[20, 20] cl_acc 1.000 2.472sec\n",
      "result written at output/results.pickle\n"
     ]
    },
    {
     "name": "stdout",
     "output_type": "stream",
     "text": [
      "Epoch 291 tr: l 0.529 a 0.871  clct[32, 28] ans[32, 28] lr 0.013421 cl_acc 1.000 44.265sec(train) 3.770sec(infer)\n"
     ]
    },
    {
     "name": "stdout",
     "output_type": "stream",
     "text": [
      "Epoch 291 tst: l 0.718 a 0.827  clct[20, 20] ans[20, 20] cl_acc 1.000 2.387sec\n"
     ]
    },
    {
     "name": "stdout",
     "output_type": "stream",
     "text": [
      "Epoch 292 tr: l 0.518 a 0.873  clct[26, 34] ans[26, 34] lr 0.013287 cl_acc 1.000 44.148sec(train) 4.015sec(infer)\n"
     ]
    },
    {
     "name": "stdout",
     "output_type": "stream",
     "text": [
      "Epoch 292 tst: l 0.702 a 0.828  clct[20, 20] ans[20, 20] cl_acc 1.000 2.542sec\n"
     ]
    },
    {
     "name": "stdout",
     "output_type": "stream",
     "text": [
      "Epoch 293 tr: l 0.513 a 0.874  clct[25, 35] ans[25, 35] lr 0.013154 cl_acc 1.000 44.299sec(train) 3.941sec(infer)\n"
     ]
    },
    {
     "name": "stdout",
     "output_type": "stream",
     "text": [
      "Epoch 293 tst: l 0.699 a 0.827  clct[20, 20] ans[20, 20] cl_acc 1.000 2.580sec\n"
     ]
    },
    {
     "name": "stdout",
     "output_type": "stream",
     "text": [
      "Epoch 294 tr: l 0.516 a 0.876  clct[29, 31] ans[29, 31] lr 0.013022 cl_acc 1.000 44.402sec(train) 3.769sec(infer)\n"
     ]
    },
    {
     "name": "stdout",
     "output_type": "stream",
     "text": [
      "Epoch 294 tst: l 0.708 a 0.830  clct[20, 20] ans[20, 20] cl_acc 1.000 2.360sec\n"
     ]
    },
    {
     "name": "stdout",
     "output_type": "stream",
     "text": [
      "Epoch 295 tr: l 0.492 a 0.882  clct[31, 29] ans[31, 29] lr 0.012892 cl_acc 1.000 44.535sec(train) 3.677sec(infer)\n"
     ]
    },
    {
     "name": "stdout",
     "output_type": "stream",
     "text": [
      "Epoch 295 tst: l 0.708 a 0.832  clct[20, 20] ans[20, 20] cl_acc 1.000 2.301sec\n"
     ]
    },
    {
     "name": "stdout",
     "output_type": "stream",
     "text": [
      "Epoch 296 tr: l 0.512 a 0.875  clct[31, 29] ans[31, 29] lr 0.012763 cl_acc 1.000 44.360sec(train) 3.977sec(infer)\n"
     ]
    },
    {
     "name": "stdout",
     "output_type": "stream",
     "text": [
      "Epoch 296 tst: l 0.700 a 0.831  clct[20, 20] ans[20, 20] cl_acc 1.000 2.472sec\n"
     ]
    },
    {
     "name": "stdout",
     "output_type": "stream",
     "text": [
      "Epoch 297 tr: l 0.492 a 0.882  clct[33, 27] ans[33, 27] lr 0.012636 cl_acc 1.000 44.569sec(train) 3.984sec(infer)\n"
     ]
    },
    {
     "name": "stdout",
     "output_type": "stream",
     "text": [
      "Epoch 297 tst: l 0.695 a 0.833  clct[20, 20] ans[20, 20] cl_acc 1.000 2.552sec\n"
     ]
    },
    {
     "name": "stdout",
     "output_type": "stream",
     "text": [
      "Epoch 298 tr: l 0.509 a 0.875  clct[31, 29] ans[31, 29] lr 0.012509 cl_acc 1.000 44.506sec(train) 3.928sec(infer)\n"
     ]
    },
    {
     "name": "stdout",
     "output_type": "stream",
     "text": [
      "Epoch 298 tst: l 0.688 a 0.832  clct[20, 20] ans[20, 20] cl_acc 1.000 2.489sec\n"
     ]
    },
    {
     "name": "stdout",
     "output_type": "stream",
     "text": [
      "Epoch 299 tr: l 0.488 a 0.882  clct[28, 32] ans[28, 32] lr 0.012384 cl_acc 1.000 44.631sec(train) 3.966sec(infer)\n"
     ]
    },
    {
     "name": "stdout",
     "output_type": "stream",
     "text": [
      "Epoch 299 tst: l 0.707 a 0.831  clct[20, 20] ans[20, 20] cl_acc 1.000 2.455sec\n"
     ]
    },
    {
     "name": "stdout",
     "output_type": "stream",
     "text": [
      "Epoch 300 tr: l 0.481 a 0.885  clct[31, 29] ans[31, 29] lr 0.012260 cl_acc 1.000 44.333sec(train) 3.701sec(infer)\n"
     ]
    },
    {
     "name": "stdout",
     "output_type": "stream",
     "text": [
      "Epoch 300 tst: l 0.699 a 0.835  clct[20, 20] ans[20, 20] cl_acc 1.000 2.325sec\n",
      "result written at output/results.pickle\n"
     ]
    },
    {
     "name": "stdout",
     "output_type": "stream",
     "text": [
      "Epoch 301 tr: l 0.468 a 0.889  clct[32, 28] ans[32, 28] lr 0.012138 cl_acc 1.000 44.353sec(train) 3.735sec(infer)\n"
     ]
    },
    {
     "name": "stdout",
     "output_type": "stream",
     "text": [
      "Epoch 301 tst: l 0.697 a 0.835  clct[20, 20] ans[20, 20] cl_acc 1.000 2.242sec\n"
     ]
    },
    {
     "name": "stdout",
     "output_type": "stream",
     "text": [
      "Epoch 302 tr: l 0.485 a 0.883  clct[34, 26] ans[34, 26] lr 0.012016 cl_acc 1.000 44.408sec(train) 3.970sec(infer)\n"
     ]
    },
    {
     "name": "stdout",
     "output_type": "stream",
     "text": [
      "Epoch 302 tst: l 0.706 a 0.832  clct[20, 20] ans[20, 20] cl_acc 1.000 2.563sec\n"
     ]
    },
    {
     "name": "stdout",
     "output_type": "stream",
     "text": [
      "Epoch 303 tr: l 0.470 a 0.888  clct[35, 25] ans[35, 25] lr 0.011896 cl_acc 1.000 44.236sec(train) 3.909sec(infer)\n"
     ]
    },
    {
     "name": "stdout",
     "output_type": "stream",
     "text": [
      "Epoch 303 tst: l 0.705 a 0.831  clct[20, 20] ans[20, 20] cl_acc 1.000 2.436sec\n"
     ]
    },
    {
     "name": "stdout",
     "output_type": "stream",
     "text": [
      "Epoch 304 tr: l 0.527 a 0.872  clct[31, 29] ans[31, 29] lr 0.011777 cl_acc 1.000 44.111sec(train) 4.028sec(infer)\n"
     ]
    },
    {
     "name": "stdout",
     "output_type": "stream",
     "text": [
      "Epoch 304 tst: l 0.711 a 0.832  clct[20, 20] ans[20, 20] cl_acc 1.000 2.490sec\n"
     ]
    },
    {
     "name": "stdout",
     "output_type": "stream",
     "text": [
      "Epoch 305 tr: l 0.480 a 0.883  clct[31, 29] ans[31, 29] lr 0.011659 cl_acc 1.000 44.358sec(train) 3.676sec(infer)\n"
     ]
    },
    {
     "name": "stdout",
     "output_type": "stream",
     "text": [
      "Epoch 305 tst: l 0.689 a 0.833  clct[20, 20] ans[20, 20] cl_acc 1.000 2.377sec\n"
     ]
    },
    {
     "name": "stdout",
     "output_type": "stream",
     "text": [
      "Epoch 306 tr: l 0.489 a 0.883  clct[31, 29] ans[31, 29] lr 0.011543 cl_acc 1.000 44.327sec(train) 3.855sec(infer)\n"
     ]
    },
    {
     "name": "stdout",
     "output_type": "stream",
     "text": [
      "Epoch 306 tst: l 0.701 a 0.832  clct[20, 20] ans[20, 20] cl_acc 1.000 2.478sec\n"
     ]
    },
    {
     "name": "stdout",
     "output_type": "stream",
     "text": [
      "Epoch 307 tr: l 0.511 a 0.873  clct[25, 35] ans[25, 35] lr 0.011427 cl_acc 1.000 44.268sec(train) 3.758sec(infer)\n"
     ]
    },
    {
     "name": "stdout",
     "output_type": "stream",
     "text": [
      "Epoch 307 tst: l 0.721 a 0.828  clct[20, 20] ans[20, 20] cl_acc 1.000 2.397sec\n"
     ]
    },
    {
     "name": "stdout",
     "output_type": "stream",
     "text": [
      "Epoch 308 tr: l 0.498 a 0.879  clct[27, 33] ans[27, 33] lr 0.011313 cl_acc 1.000 44.163sec(train) 3.914sec(infer)\n"
     ]
    },
    {
     "name": "stdout",
     "output_type": "stream",
     "text": [
      "Epoch 308 tst: l 0.703 a 0.830  clct[20, 20] ans[20, 20] cl_acc 1.000 2.461sec\n"
     ]
    },
    {
     "name": "stdout",
     "output_type": "stream",
     "text": [
      "Epoch 309 tr: l 0.483 a 0.882  clct[28, 32] ans[28, 32] lr 0.011200 cl_acc 1.000 44.317sec(train) 3.742sec(infer)\n"
     ]
    },
    {
     "name": "stdout",
     "output_type": "stream",
     "text": [
      "Epoch 309 tst: l 0.685 a 0.830  clct[20, 20] ans[20, 20] cl_acc 1.000 2.401sec\n"
     ]
    },
    {
     "name": "stdout",
     "output_type": "stream",
     "text": [
      "Epoch 310 tr: l 0.466 a 0.888  clct[29, 31] ans[29, 31] lr 0.011088 cl_acc 1.000 44.451sec(train) 3.828sec(infer)\n"
     ]
    },
    {
     "name": "stdout",
     "output_type": "stream",
     "text": [
      "Epoch 310 tst: l 0.689 a 0.832  clct[20, 20] ans[20, 20] cl_acc 1.000 2.310sec\n",
      "result written at output/results.pickle\n"
     ]
    },
    {
     "name": "stdout",
     "output_type": "stream",
     "text": [
      "Epoch 311 tr: l 0.459 a 0.893  clct[29, 31] ans[29, 31] lr 0.010977 cl_acc 1.000 45.139sec(train) 3.564sec(infer)\n"
     ]
    },
    {
     "name": "stdout",
     "output_type": "stream",
     "text": [
      "Epoch 311 tst: l 0.685 a 0.835  clct[20, 20] ans[20, 20] cl_acc 1.000 2.235sec\n"
     ]
    },
    {
     "name": "stdout",
     "output_type": "stream",
     "text": [
      "Epoch 312 tr: l 0.484 a 0.885  clct[34, 26] ans[34, 26] lr 0.010867 cl_acc 1.000 44.519sec(train) 3.822sec(infer)\n"
     ]
    },
    {
     "name": "stdout",
     "output_type": "stream",
     "text": [
      "Epoch 312 tst: l 0.709 a 0.832  clct[20, 20] ans[20, 20] cl_acc 1.000 2.425sec\n"
     ]
    },
    {
     "name": "stdout",
     "output_type": "stream",
     "text": [
      "Epoch 313 tr: l 0.485 a 0.882  clct[32, 28] ans[32, 28] lr 0.010759 cl_acc 1.000 44.985sec(train) 3.655sec(infer)\n"
     ]
    },
    {
     "name": "stdout",
     "output_type": "stream",
     "text": [
      "Epoch 313 tst: l 0.699 a 0.832  clct[20, 20] ans[20, 20] cl_acc 1.000 2.308sec\n"
     ]
    },
    {
     "name": "stdout",
     "output_type": "stream",
     "text": [
      "Epoch 314 tr: l 0.467 a 0.887  clct[30, 30] ans[30, 30] lr 0.010651 cl_acc 1.000 45.031sec(train) 3.693sec(infer)\n"
     ]
    },
    {
     "name": "stdout",
     "output_type": "stream",
     "text": [
      "Epoch 314 tst: l 0.683 a 0.833  clct[20, 20] ans[20, 20] cl_acc 1.000 2.298sec\n"
     ]
    },
    {
     "name": "stdout",
     "output_type": "stream",
     "text": [
      "Epoch 315 tr: l 0.458 a 0.890  clct[34, 26] ans[34, 26] lr 0.010545 cl_acc 1.000 44.565sec(train) 3.684sec(infer)\n"
     ]
    },
    {
     "name": "stdout",
     "output_type": "stream",
     "text": [
      "Epoch 315 tst: l 0.693 a 0.832  clct[20, 20] ans[20, 20] cl_acc 1.000 2.457sec\n"
     ]
    },
    {
     "name": "stdout",
     "output_type": "stream",
     "text": [
      "Epoch 316 tr: l 0.468 a 0.890  clct[27, 33] ans[27, 33] lr 0.010439 cl_acc 1.000 44.207sec(train) 3.787sec(infer)\n"
     ]
    },
    {
     "name": "stdout",
     "output_type": "stream",
     "text": [
      "Epoch 316 tst: l 0.718 a 0.829  clct[20, 20] ans[20, 20] cl_acc 1.000 2.321sec\n"
     ]
    },
    {
     "name": "stdout",
     "output_type": "stream",
     "text": [
      "Epoch 317 tr: l 0.474 a 0.886  clct[31, 29] ans[31, 29] lr 0.010335 cl_acc 1.000 44.157sec(train) 3.594sec(infer)\n"
     ]
    },
    {
     "name": "stdout",
     "output_type": "stream",
     "text": [
      "Epoch 317 tst: l 0.695 a 0.832  clct[20, 20] ans[20, 20] cl_acc 1.000 2.246sec\n"
     ]
    },
    {
     "name": "stdout",
     "output_type": "stream",
     "text": [
      "Epoch 318 tr: l 0.502 a 0.877  clct[26, 34] ans[26, 34] lr 0.010231 cl_acc 1.000 44.604sec(train) 3.923sec(infer)\n"
     ]
    },
    {
     "name": "stdout",
     "output_type": "stream",
     "text": [
      "Epoch 318 tst: l 0.702 a 0.832  clct[20, 20] ans[20, 20] cl_acc 1.000 2.537sec\n"
     ]
    },
    {
     "name": "stdout",
     "output_type": "stream",
     "text": [
      "Epoch 319 tr: l 0.459 a 0.888  clct[26, 34] ans[26, 34] lr 0.010129 cl_acc 1.000 44.155sec(train) 3.878sec(infer)\n"
     ]
    },
    {
     "name": "stdout",
     "output_type": "stream",
     "text": [
      "Epoch 319 tst: l 0.683 a 0.832  clct[20, 20] ans[20, 20] cl_acc 1.000 2.442sec\n"
     ]
    },
    {
     "name": "stdout",
     "output_type": "stream",
     "text": [
      "Epoch 320 tr: l 0.461 a 0.890  clct[32, 28] ans[32, 28] lr 0.010028 cl_acc 1.000 44.105sec(train) 3.881sec(infer)\n"
     ]
    },
    {
     "name": "stdout",
     "output_type": "stream",
     "text": [
      "Epoch 320 tst: l 0.702 a 0.831  clct[20, 20] ans[20, 20] cl_acc 1.000 2.451sec\n",
      "result written at output/results.pickle\n"
     ]
    },
    {
     "name": "stdout",
     "output_type": "stream",
     "text": [
      "Epoch 321 tr: l 0.453 a 0.892  clct[30, 30] ans[30, 30] lr 0.009927 cl_acc 1.000 44.311sec(train) 3.615sec(infer)\n"
     ]
    },
    {
     "name": "stdout",
     "output_type": "stream",
     "text": [
      "Epoch 321 tst: l 0.689 a 0.836  clct[20, 20] ans[20, 20] cl_acc 1.000 2.305sec\n"
     ]
    },
    {
     "name": "stdout",
     "output_type": "stream",
     "text": [
      "Epoch 322 tr: l 0.466 a 0.887  clct[22, 38] ans[22, 38] lr 0.009828 cl_acc 1.000 44.343sec(train) 3.880sec(infer)\n"
     ]
    },
    {
     "name": "stdout",
     "output_type": "stream",
     "text": [
      "Epoch 322 tst: l 0.691 a 0.834  clct[20, 20] ans[20, 20] cl_acc 1.000 2.477sec\n"
     ]
    },
    {
     "name": "stdout",
     "output_type": "stream",
     "text": [
      "Epoch 323 tr: l 0.457 a 0.889  clct[33, 27] ans[33, 27] lr 0.009730 cl_acc 1.000 44.419sec(train) 3.989sec(infer)\n"
     ]
    },
    {
     "name": "stdout",
     "output_type": "stream",
     "text": [
      "Epoch 323 tst: l 0.687 a 0.838  clct[20, 20] ans[20, 20] cl_acc 1.000 2.501sec\n"
     ]
    },
    {
     "name": "stdout",
     "output_type": "stream",
     "text": [
      "Epoch 324 tr: l 0.451 a 0.892  clct[29, 31] ans[29, 31] lr 0.009633 cl_acc 1.000 44.575sec(train) 3.669sec(infer)\n"
     ]
    },
    {
     "name": "stdout",
     "output_type": "stream",
     "text": [
      "Epoch 324 tst: l 0.693 a 0.833  clct[20, 20] ans[20, 20] cl_acc 1.000 2.398sec\n"
     ]
    },
    {
     "name": "stdout",
     "output_type": "stream",
     "text": [
      "Epoch 325 tr: l 0.437 a 0.898  clct[30, 30] ans[30, 30] lr 0.009536 cl_acc 1.000 44.212sec(train) 3.979sec(infer)\n"
     ]
    },
    {
     "name": "stdout",
     "output_type": "stream",
     "text": [
      "Epoch 325 tst: l 0.691 a 0.834  clct[20, 20] ans[20, 20] cl_acc 1.000 2.517sec\n"
     ]
    },
    {
     "name": "stdout",
     "output_type": "stream",
     "text": [
      "Epoch 326 tr: l 0.480 a 0.884  clct[30, 30] ans[30, 30] lr 0.009441 cl_acc 1.000 44.274sec(train) 3.956sec(infer)\n"
     ]
    },
    {
     "name": "stdout",
     "output_type": "stream",
     "text": [
      "Epoch 326 tst: l 0.696 a 0.835  clct[20, 20] ans[20, 20] cl_acc 1.000 2.466sec\n"
     ]
    },
    {
     "name": "stdout",
     "output_type": "stream",
     "text": [
      "Epoch 327 tr: l 0.444 a 0.895  clct[28, 32] ans[28, 32] lr 0.009346 cl_acc 1.000 44.335sec(train) 3.979sec(infer)\n"
     ]
    },
    {
     "name": "stdout",
     "output_type": "stream",
     "text": [
      "Epoch 327 tst: l 0.681 a 0.837  clct[20, 20] ans[20, 20] cl_acc 1.000 2.478sec\n"
     ]
    },
    {
     "name": "stdout",
     "output_type": "stream",
     "text": [
      "Epoch 328 tr: l 0.451 a 0.892  clct[34, 26] ans[34, 26] lr 0.009253 cl_acc 1.000 44.316sec(train) 3.993sec(infer)\n"
     ]
    },
    {
     "name": "stdout",
     "output_type": "stream",
     "text": [
      "Epoch 328 tst: l 0.683 a 0.834  clct[20, 20] ans[20, 20] cl_acc 1.000 2.480sec\n"
     ]
    },
    {
     "name": "stdout",
     "output_type": "stream",
     "text": [
      "Epoch 329 tr: l 0.442 a 0.895  clct[24, 36] ans[24, 36] lr 0.009160 cl_acc 1.000 44.219sec(train) 3.953sec(infer)\n"
     ]
    },
    {
     "name": "stdout",
     "output_type": "stream",
     "text": [
      "Epoch 329 tst: l 0.673 a 0.838  clct[20, 20] ans[20, 20] cl_acc 1.000 2.514sec\n"
     ]
    },
    {
     "name": "stdout",
     "output_type": "stream",
     "text": [
      "Epoch 330 tr: l 0.453 a 0.891  clct[24, 36] ans[24, 36] lr 0.009069 cl_acc 1.000 44.406sec(train) 4.174sec(infer)\n"
     ]
    },
    {
     "name": "stdout",
     "output_type": "stream",
     "text": [
      "Epoch 330 tst: l 0.691 a 0.833  clct[20, 20] ans[20, 20] cl_acc 1.000 2.631sec\n",
      "result written at output/results.pickle\n"
     ]
    },
    {
     "name": "stdout",
     "output_type": "stream",
     "text": [
      "Epoch 331 tr: l 0.422 a 0.901  clct[26, 34] ans[26, 34] lr 0.008978 cl_acc 1.000 44.476sec(train) 4.103sec(infer)\n"
     ]
    },
    {
     "name": "stdout",
     "output_type": "stream",
     "text": [
      "Epoch 331 tst: l 0.686 a 0.833  clct[20, 20] ans[20, 20] cl_acc 1.000 2.616sec\n"
     ]
    },
    {
     "name": "stdout",
     "output_type": "stream",
     "text": [
      "Epoch 332 tr: l 0.455 a 0.893  clct[27, 33] ans[27, 33] lr 0.008888 cl_acc 1.000 44.477sec(train) 3.982sec(infer)\n"
     ]
    },
    {
     "name": "stdout",
     "output_type": "stream",
     "text": [
      "Epoch 332 tst: l 0.675 a 0.838  clct[20, 20] ans[20, 20] cl_acc 1.000 2.549sec\n"
     ]
    },
    {
     "name": "stdout",
     "output_type": "stream",
     "text": [
      "Epoch 333 tr: l 0.435 a 0.896  clct[27, 33] ans[27, 33] lr 0.008800 cl_acc 1.000 44.075sec(train) 4.170sec(infer)\n"
     ]
    },
    {
     "name": "stdout",
     "output_type": "stream",
     "text": [
      "Epoch 333 tst: l 0.672 a 0.836  clct[20, 20] ans[20, 20] cl_acc 1.000 2.636sec\n"
     ]
    },
    {
     "name": "stdout",
     "output_type": "stream",
     "text": [
      "Epoch 334 tr: l 0.452 a 0.890  clct[30, 30] ans[30, 30] lr 0.008712 cl_acc 1.000 44.417sec(train) 3.984sec(infer)\n"
     ]
    },
    {
     "name": "stdout",
     "output_type": "stream",
     "text": [
      "Epoch 334 tst: l 0.683 a 0.836  clct[20, 20] ans[20, 20] cl_acc 1.000 2.592sec\n"
     ]
    },
    {
     "name": "stdout",
     "output_type": "stream",
     "text": [
      "Epoch 335 tr: l 0.448 a 0.892  clct[29, 31] ans[29, 31] lr 0.008624 cl_acc 1.000 44.337sec(train) 3.729sec(infer)\n"
     ]
    },
    {
     "name": "stdout",
     "output_type": "stream",
     "text": [
      "Epoch 335 tst: l 0.691 a 0.837  clct[20, 20] ans[20, 20] cl_acc 1.000 2.296sec\n"
     ]
    },
    {
     "name": "stdout",
     "output_type": "stream",
     "text": [
      "Epoch 336 tr: l 0.436 a 0.895  clct[33, 27] ans[33, 27] lr 0.008538 cl_acc 1.000 44.938sec(train) 3.748sec(infer)\n"
     ]
    },
    {
     "name": "stdout",
     "output_type": "stream",
     "text": [
      "Epoch 336 tst: l 0.685 a 0.834  clct[20, 20] ans[20, 20] cl_acc 1.000 2.376sec\n"
     ]
    },
    {
     "name": "stdout",
     "output_type": "stream",
     "text": [
      "Epoch 337 tr: l 0.457 a 0.888  clct[36, 24] ans[36, 24] lr 0.008453 cl_acc 1.000 44.569sec(train) 3.830sec(infer)\n"
     ]
    },
    {
     "name": "stdout",
     "output_type": "stream",
     "text": [
      "Epoch 337 tst: l 0.690 a 0.833  clct[20, 20] ans[20, 20] cl_acc 1.000 2.356sec\n"
     ]
    },
    {
     "name": "stdout",
     "output_type": "stream",
     "text": [
      "Epoch 338 tr: l 0.431 a 0.896  clct[32, 28] ans[32, 28] lr 0.008368 cl_acc 1.000 44.205sec(train) 3.891sec(infer)\n"
     ]
    },
    {
     "name": "stdout",
     "output_type": "stream",
     "text": [
      "Epoch 338 tst: l 0.682 a 0.836  clct[20, 20] ans[20, 20] cl_acc 1.000 2.483sec\n"
     ]
    },
    {
     "name": "stdout",
     "output_type": "stream",
     "text": [
      "Epoch 339 tr: l 0.478 a 0.881  clct[26, 34] ans[26, 34] lr 0.008285 cl_acc 1.000 44.091sec(train) 4.109sec(infer)\n"
     ]
    },
    {
     "name": "stdout",
     "output_type": "stream",
     "text": [
      "Epoch 339 tst: l 0.695 a 0.832  clct[20, 20] ans[20, 20] cl_acc 1.000 2.551sec\n"
     ]
    },
    {
     "name": "stdout",
     "output_type": "stream",
     "text": [
      "Epoch 340 tr: l 0.435 a 0.895  clct[36, 24] ans[36, 24] lr 0.008202 cl_acc 1.000 44.243sec(train) 4.046sec(infer)\n"
     ]
    },
    {
     "name": "stdout",
     "output_type": "stream",
     "text": [
      "Epoch 340 tst: l 0.668 a 0.839  clct[20, 20] ans[20, 20] cl_acc 1.000 2.500sec\n",
      "result written at output/results.pickle\n"
     ]
    },
    {
     "name": "stdout",
     "output_type": "stream",
     "text": [
      "Epoch 341 tr: l 0.418 a 0.901  clct[29, 31] ans[29, 31] lr 0.008120 cl_acc 1.000 44.061sec(train) 4.154sec(infer)\n"
     ]
    },
    {
     "name": "stdout",
     "output_type": "stream",
     "text": [
      "Epoch 341 tst: l 0.671 a 0.837  clct[20, 20] ans[20, 20] cl_acc 1.000 2.571sec\n"
     ]
    },
    {
     "name": "stdout",
     "output_type": "stream",
     "text": [
      "Epoch 342 tr: l 0.444 a 0.892  clct[35, 25] ans[35, 25] lr 0.008039 cl_acc 1.000 44.496sec(train) 4.182sec(infer)\n"
     ]
    },
    {
     "name": "stdout",
     "output_type": "stream",
     "text": [
      "Epoch 342 tst: l 0.680 a 0.837  clct[20, 20] ans[20, 20] cl_acc 1.000 2.594sec\n"
     ]
    },
    {
     "name": "stdout",
     "output_type": "stream",
     "text": [
      "Epoch 343 tr: l 0.438 a 0.893  clct[28, 32] ans[28, 32] lr 0.007958 cl_acc 1.000 44.859sec(train) 4.148sec(infer)\n"
     ]
    },
    {
     "name": "stdout",
     "output_type": "stream",
     "text": [
      "Epoch 343 tst: l 0.680 a 0.836  clct[20, 20] ans[20, 20] cl_acc 1.000 2.515sec\n"
     ]
    },
    {
     "name": "stdout",
     "output_type": "stream",
     "text": [
      "Epoch 344 tr: l 0.430 a 0.899  clct[34, 26] ans[34, 26] lr 0.007879 cl_acc 1.000 44.716sec(train) 3.817sec(infer)\n"
     ]
    },
    {
     "name": "stdout",
     "output_type": "stream",
     "text": [
      "Epoch 344 tst: l 0.677 a 0.837  clct[20, 20] ans[20, 20] cl_acc 1.000 2.431sec\n"
     ]
    },
    {
     "name": "stdout",
     "output_type": "stream",
     "text": [
      "Epoch 345 tr: l 0.403 a 0.906  clct[30, 30] ans[30, 30] lr 0.007800 cl_acc 1.000 44.447sec(train) 3.667sec(infer)\n"
     ]
    },
    {
     "name": "stdout",
     "output_type": "stream",
     "text": [
      "Epoch 345 tst: l 0.664 a 0.840  clct[20, 20] ans[20, 20] cl_acc 1.000 2.317sec\n"
     ]
    },
    {
     "name": "stdout",
     "output_type": "stream",
     "text": [
      "Epoch 346 tr: l 0.414 a 0.902  clct[31, 29] ans[31, 29] lr 0.007722 cl_acc 1.000 44.347sec(train) 4.029sec(infer)\n"
     ]
    },
    {
     "name": "stdout",
     "output_type": "stream",
     "text": [
      "Epoch 346 tst: l 0.672 a 0.839  clct[20, 20] ans[20, 20] cl_acc 1.000 2.546sec\n"
     ]
    },
    {
     "name": "stdout",
     "output_type": "stream",
     "text": [
      "Epoch 347 tr: l 0.416 a 0.900  clct[27, 33] ans[27, 33] lr 0.007645 cl_acc 1.000 44.612sec(train) 4.103sec(infer)\n"
     ]
    },
    {
     "name": "stdout",
     "output_type": "stream",
     "text": [
      "Epoch 347 tst: l 0.671 a 0.838  clct[20, 20] ans[20, 20] cl_acc 1.000 2.511sec\n"
     ]
    },
    {
     "name": "stdout",
     "output_type": "stream",
     "text": [
      "Epoch 348 tr: l 0.433 a 0.896  clct[27, 33] ans[27, 33] lr 0.007568 cl_acc 1.000 44.345sec(train) 3.892sec(infer)\n"
     ]
    },
    {
     "name": "stdout",
     "output_type": "stream",
     "text": [
      "Epoch 348 tst: l 0.684 a 0.835  clct[20, 20] ans[20, 20] cl_acc 1.000 2.458sec\n"
     ]
    },
    {
     "name": "stdout",
     "output_type": "stream",
     "text": [
      "Epoch 349 tr: l 0.447 a 0.890  clct[34, 26] ans[34, 26] lr 0.007492 cl_acc 1.000 44.233sec(train) 3.742sec(infer)\n"
     ]
    },
    {
     "name": "stdout",
     "output_type": "stream",
     "text": [
      "Epoch 349 tst: l 0.680 a 0.838  clct[20, 20] ans[20, 20] cl_acc 1.000 2.346sec\n"
     ]
    },
    {
     "name": "stdout",
     "output_type": "stream",
     "text": [
      "Epoch 350 tr: l 0.407 a 0.902  clct[29, 31] ans[29, 31] lr 0.007418 cl_acc 1.000 44.358sec(train) 3.773sec(infer)\n"
     ]
    },
    {
     "name": "stdout",
     "output_type": "stream",
     "text": [
      "Epoch 350 tst: l 0.673 a 0.838  clct[20, 20] ans[20, 20] cl_acc 1.000 2.367sec\n",
      "result written at output/results.pickle\n"
     ]
    },
    {
     "name": "stdout",
     "output_type": "stream",
     "text": [
      "Epoch 351 tr: l 0.417 a 0.898  clct[30, 30] ans[30, 30] lr 0.007343 cl_acc 1.000 44.214sec(train) 3.909sec(infer)\n"
     ]
    },
    {
     "name": "stdout",
     "output_type": "stream",
     "text": [
      "Epoch 351 tst: l 0.678 a 0.835  clct[20, 20] ans[20, 20] cl_acc 1.000 2.449sec\n"
     ]
    },
    {
     "name": "stdout",
     "output_type": "stream",
     "text": [
      "Epoch 352 tr: l 0.420 a 0.901  clct[25, 35] ans[25, 35] lr 0.007270 cl_acc 1.000 44.515sec(train) 3.805sec(infer)\n"
     ]
    },
    {
     "name": "stdout",
     "output_type": "stream",
     "text": [
      "Epoch 352 tst: l 0.668 a 0.838  clct[20, 20] ans[20, 20] cl_acc 1.000 2.380sec\n"
     ]
    },
    {
     "name": "stdout",
     "output_type": "stream",
     "text": [
      "Epoch 353 tr: l 0.406 a 0.903  clct[27, 33] ans[27, 33] lr 0.007197 cl_acc 1.000 44.085sec(train) 3.639sec(infer)\n"
     ]
    },
    {
     "name": "stdout",
     "output_type": "stream",
     "text": [
      "Epoch 353 tst: l 0.663 a 0.840  clct[20, 20] ans[20, 20] cl_acc 1.000 2.292sec\n"
     ]
    },
    {
     "name": "stdout",
     "output_type": "stream",
     "text": [
      "Epoch 354 tr: l 0.421 a 0.900  clct[25, 35] ans[25, 35] lr 0.007125 cl_acc 1.000 44.604sec(train) 3.998sec(infer)\n"
     ]
    },
    {
     "name": "stdout",
     "output_type": "stream",
     "text": [
      "Epoch 354 tst: l 0.667 a 0.839  clct[20, 20] ans[20, 20] cl_acc 1.000 2.543sec\n"
     ]
    },
    {
     "name": "stdout",
     "output_type": "stream",
     "text": [
      "Epoch 355 tr: l 0.420 a 0.900  clct[26, 34] ans[26, 34] lr 0.007054 cl_acc 1.000 44.293sec(train) 3.698sec(infer)\n"
     ]
    },
    {
     "name": "stdout",
     "output_type": "stream",
     "text": [
      "Epoch 355 tst: l 0.660 a 0.843  clct[20, 20] ans[20, 20] cl_acc 1.000 2.306sec\n"
     ]
    },
    {
     "name": "stdout",
     "output_type": "stream",
     "text": [
      "Epoch 356 tr: l 0.399 a 0.906  clct[32, 28] ans[32, 28] lr 0.006983 cl_acc 1.000 44.157sec(train) 3.952sec(infer)\n"
     ]
    },
    {
     "name": "stdout",
     "output_type": "stream",
     "text": [
      "Epoch 356 tst: l 0.686 a 0.838  clct[20, 20] ans[20, 20] cl_acc 1.000 2.522sec\n"
     ]
    },
    {
     "name": "stdout",
     "output_type": "stream",
     "text": [
      "Epoch 357 tr: l 0.417 a 0.901  clct[29, 31] ans[29, 31] lr 0.006914 cl_acc 1.000 44.366sec(train) 3.936sec(infer)\n"
     ]
    },
    {
     "name": "stdout",
     "output_type": "stream",
     "text": [
      "Epoch 357 tst: l 0.678 a 0.838  clct[20, 20] ans[20, 20] cl_acc 1.000 2.564sec\n"
     ]
    },
    {
     "name": "stdout",
     "output_type": "stream",
     "text": [
      "Epoch 358 tr: l 0.403 a 0.904  clct[19, 41] ans[19, 41] lr 0.006844 cl_acc 1.000 44.722sec(train) 3.841sec(infer)\n"
     ]
    },
    {
     "name": "stdout",
     "output_type": "stream",
     "text": [
      "Epoch 358 tst: l 0.672 a 0.838  clct[20, 20] ans[20, 20] cl_acc 1.000 2.379sec\n"
     ]
    },
    {
     "name": "stdout",
     "output_type": "stream",
     "text": [
      "Epoch 359 tr: l 0.394 a 0.906  clct[23, 37] ans[23, 37] lr 0.006776 cl_acc 1.000 44.435sec(train) 3.946sec(infer)\n"
     ]
    },
    {
     "name": "stdout",
     "output_type": "stream",
     "text": [
      "Epoch 359 tst: l 0.663 a 0.840  clct[20, 20] ans[20, 20] cl_acc 1.000 2.480sec\n"
     ]
    },
    {
     "name": "stdout",
     "output_type": "stream",
     "text": [
      "Epoch 360 tr: l 0.408 a 0.902  clct[22, 38] ans[22, 38] lr 0.006708 cl_acc 1.000 44.430sec(train) 3.990sec(infer)\n"
     ]
    },
    {
     "name": "stdout",
     "output_type": "stream",
     "text": [
      "Epoch 360 tst: l 0.684 a 0.837  clct[20, 20] ans[20, 20] cl_acc 1.000 2.414sec\n",
      "result written at output/results.pickle\n"
     ]
    },
    {
     "name": "stdout",
     "output_type": "stream",
     "text": [
      "Epoch 361 tr: l 0.404 a 0.904  clct[29, 31] ans[29, 31] lr 0.006641 cl_acc 1.000 44.415sec(train) 3.989sec(infer)\n"
     ]
    },
    {
     "name": "stdout",
     "output_type": "stream",
     "text": [
      "Epoch 361 tst: l 0.684 a 0.840  clct[20, 20] ans[20, 20] cl_acc 1.000 2.559sec\n"
     ]
    },
    {
     "name": "stdout",
     "output_type": "stream",
     "text": [
      "Epoch 362 tr: l 0.432 a 0.895  clct[30, 30] ans[30, 30] lr 0.006575 cl_acc 1.000 44.572sec(train) 3.618sec(infer)\n"
     ]
    },
    {
     "name": "stdout",
     "output_type": "stream",
     "text": [
      "Epoch 362 tst: l 0.677 a 0.837  clct[20, 20] ans[20, 20] cl_acc 1.000 2.291sec\n"
     ]
    },
    {
     "name": "stdout",
     "output_type": "stream",
     "text": [
      "Epoch 363 tr: l 0.393 a 0.907  clct[27, 33] ans[27, 33] lr 0.006509 cl_acc 1.000 44.212sec(train) 3.984sec(infer)\n"
     ]
    },
    {
     "name": "stdout",
     "output_type": "stream",
     "text": [
      "Epoch 363 tst: l 0.675 a 0.840  clct[20, 20] ans[20, 20] cl_acc 1.000 2.507sec\n"
     ]
    },
    {
     "name": "stdout",
     "output_type": "stream",
     "text": [
      "Epoch 364 tr: l 0.395 a 0.907  clct[31, 29] ans[31, 29] lr 0.006444 cl_acc 1.000 44.703sec(train) 3.697sec(infer)\n"
     ]
    },
    {
     "name": "stdout",
     "output_type": "stream",
     "text": [
      "Epoch 364 tst: l 0.675 a 0.839  clct[20, 20] ans[20, 20] cl_acc 1.000 2.305sec\n"
     ]
    },
    {
     "name": "stdout",
     "output_type": "stream",
     "text": [
      "Epoch 365 tr: l 0.399 a 0.907  clct[31, 29] ans[31, 29] lr 0.006379 cl_acc 1.000 44.326sec(train) 4.175sec(infer)\n"
     ]
    },
    {
     "name": "stdout",
     "output_type": "stream",
     "text": [
      "Epoch 365 tst: l 0.674 a 0.841  clct[20, 20] ans[20, 20] cl_acc 1.000 2.617sec\n"
     ]
    },
    {
     "name": "stdout",
     "output_type": "stream",
     "text": [
      "Epoch 366 tr: l 0.389 a 0.907  clct[29, 31] ans[29, 31] lr 0.006316 cl_acc 1.000 44.275sec(train) 3.914sec(infer)\n"
     ]
    },
    {
     "name": "stdout",
     "output_type": "stream",
     "text": [
      "Epoch 366 tst: l 0.669 a 0.840  clct[20, 20] ans[20, 20] cl_acc 1.000 2.376sec\n"
     ]
    },
    {
     "name": "stdout",
     "output_type": "stream",
     "text": [
      "Epoch 367 tr: l 0.411 a 0.900  clct[35, 25] ans[35, 25] lr 0.006253 cl_acc 1.000 44.076sec(train) 3.672sec(infer)\n"
     ]
    },
    {
     "name": "stdout",
     "output_type": "stream",
     "text": [
      "Epoch 367 tst: l 0.671 a 0.840  clct[20, 20] ans[20, 20] cl_acc 1.000 2.328sec\n"
     ]
    },
    {
     "name": "stdout",
     "output_type": "stream",
     "text": [
      "Epoch 368 tr: l 0.392 a 0.905  clct[29, 31] ans[29, 31] lr 0.006190 cl_acc 1.000 44.370sec(train) 4.049sec(infer)\n"
     ]
    },
    {
     "name": "stdout",
     "output_type": "stream",
     "text": [
      "Epoch 368 tst: l 0.675 a 0.838  clct[20, 20] ans[20, 20] cl_acc 1.000 2.560sec\n"
     ]
    },
    {
     "name": "stdout",
     "output_type": "stream",
     "text": [
      "Epoch 369 tr: l 0.370 a 0.912  clct[30, 30] ans[30, 30] lr 0.006128 cl_acc 1.000 44.141sec(train) 3.686sec(infer)\n"
     ]
    },
    {
     "name": "stdout",
     "output_type": "stream",
     "text": [
      "Epoch 369 tst: l 0.666 a 0.842  clct[20, 20] ans[20, 20] cl_acc 1.000 2.322sec\n"
     ]
    },
    {
     "name": "stdout",
     "output_type": "stream",
     "text": [
      "Epoch 370 tr: l 0.398 a 0.904  clct[29, 31] ans[29, 31] lr 0.006067 cl_acc 1.000 44.338sec(train) 4.179sec(infer)\n"
     ]
    },
    {
     "name": "stdout",
     "output_type": "stream",
     "text": [
      "Epoch 370 tst: l 0.675 a 0.838  clct[20, 20] ans[20, 20] cl_acc 1.000 2.684sec\n",
      "result written at output/results.pickle\n"
     ]
    },
    {
     "name": "stdout",
     "output_type": "stream",
     "text": [
      "Epoch 371 tr: l 0.390 a 0.907  clct[30, 30] ans[30, 30] lr 0.006006 cl_acc 1.000 44.118sec(train) 4.098sec(infer)\n"
     ]
    },
    {
     "name": "stdout",
     "output_type": "stream",
     "text": [
      "Epoch 371 tst: l 0.676 a 0.838  clct[20, 20] ans[20, 20] cl_acc 1.000 2.570sec\n"
     ]
    },
    {
     "name": "stdout",
     "output_type": "stream",
     "text": [
      "Epoch 372 tr: l 0.378 a 0.910  clct[34, 26] ans[34, 26] lr 0.005946 cl_acc 1.000 44.154sec(train) 4.146sec(infer)\n"
     ]
    },
    {
     "name": "stdout",
     "output_type": "stream",
     "text": [
      "Epoch 372 tst: l 0.675 a 0.840  clct[20, 20] ans[20, 20] cl_acc 1.000 2.544sec\n"
     ]
    },
    {
     "name": "stdout",
     "output_type": "stream",
     "text": [
      "Epoch 373 tr: l 0.388 a 0.908  clct[27, 33] ans[27, 33] lr 0.005887 cl_acc 1.000 44.293sec(train) 3.621sec(infer)\n"
     ]
    },
    {
     "name": "stdout",
     "output_type": "stream",
     "text": [
      "Epoch 373 tst: l 0.669 a 0.839  clct[20, 20] ans[20, 20] cl_acc 1.000 2.340sec\n"
     ]
    },
    {
     "name": "stdout",
     "output_type": "stream",
     "text": [
      "Epoch 374 tr: l 0.381 a 0.910  clct[33, 27] ans[33, 27] lr 0.005828 cl_acc 1.000 44.274sec(train) 3.844sec(infer)\n"
     ]
    },
    {
     "name": "stdout",
     "output_type": "stream",
     "text": [
      "Epoch 374 tst: l 0.663 a 0.840  clct[20, 20] ans[20, 20] cl_acc 1.000 2.385sec\n"
     ]
    },
    {
     "name": "stdout",
     "output_type": "stream",
     "text": [
      "Epoch 375 tr: l 0.369 a 0.914  clct[29, 31] ans[29, 31] lr 0.005769 cl_acc 1.000 44.399sec(train) 4.217sec(infer)\n"
     ]
    },
    {
     "name": "stdout",
     "output_type": "stream",
     "text": [
      "Epoch 375 tst: l 0.664 a 0.840  clct[20, 20] ans[20, 20] cl_acc 1.000 2.583sec\n"
     ]
    },
    {
     "name": "stdout",
     "output_type": "stream",
     "text": [
      "Epoch 376 tr: l 0.376 a 0.911  clct[38, 22] ans[38, 22] lr 0.005712 cl_acc 1.000 44.735sec(train) 3.653sec(infer)\n"
     ]
    },
    {
     "name": "stdout",
     "output_type": "stream",
     "text": [
      "Epoch 376 tst: l 0.660 a 0.840  clct[20, 20] ans[20, 20] cl_acc 1.000 2.332sec\n"
     ]
    },
    {
     "name": "stdout",
     "output_type": "stream",
     "text": [
      "Epoch 377 tr: l 0.375 a 0.910  clct[36, 24] ans[36, 24] lr 0.005655 cl_acc 1.000 44.319sec(train) 3.714sec(infer)\n"
     ]
    },
    {
     "name": "stdout",
     "output_type": "stream",
     "text": [
      "Epoch 377 tst: l 0.665 a 0.842  clct[20, 20] ans[20, 20] cl_acc 1.000 2.355sec\n"
     ]
    },
    {
     "name": "stdout",
     "output_type": "stream",
     "text": [
      "Epoch 378 tr: l 0.376 a 0.911  clct[29, 31] ans[29, 31] lr 0.005598 cl_acc 1.000 44.381sec(train) 3.712sec(infer)\n"
     ]
    },
    {
     "name": "stdout",
     "output_type": "stream",
     "text": [
      "Epoch 378 tst: l 0.659 a 0.841  clct[20, 20] ans[20, 20] cl_acc 1.000 2.402sec\n"
     ]
    },
    {
     "name": "stdout",
     "output_type": "stream",
     "text": [
      "Epoch 379 tr: l 0.381 a 0.912  clct[27, 33] ans[27, 33] lr 0.005542 cl_acc 1.000 44.252sec(train) 3.769sec(infer)\n"
     ]
    },
    {
     "name": "stdout",
     "output_type": "stream",
     "text": [
      "Epoch 379 tst: l 0.674 a 0.840  clct[20, 20] ans[20, 20] cl_acc 1.000 2.369sec\n"
     ]
    },
    {
     "name": "stdout",
     "output_type": "stream",
     "text": [
      "Epoch 380 tr: l 0.382 a 0.908  clct[27, 33] ans[27, 33] lr 0.005487 cl_acc 1.000 44.382sec(train) 3.984sec(infer)\n"
     ]
    },
    {
     "name": "stdout",
     "output_type": "stream",
     "text": [
      "Epoch 380 tst: l 0.658 a 0.843  clct[20, 20] ans[20, 20] cl_acc 1.000 2.391sec\n",
      "result written at output/results.pickle\n"
     ]
    },
    {
     "name": "stdout",
     "output_type": "stream",
     "text": [
      "Epoch 381 tr: l 0.377 a 0.912  clct[33, 27] ans[33, 27] lr 0.005432 cl_acc 1.000 44.374sec(train) 3.760sec(infer)\n"
     ]
    },
    {
     "name": "stdout",
     "output_type": "stream",
     "text": [
      "Epoch 381 tst: l 0.672 a 0.840  clct[20, 20] ans[20, 20] cl_acc 1.000 2.342sec\n"
     ]
    },
    {
     "name": "stdout",
     "output_type": "stream",
     "text": [
      "Epoch 382 tr: l 0.379 a 0.909  clct[27, 33] ans[27, 33] lr 0.005378 cl_acc 1.000 44.653sec(train) 3.996sec(infer)\n"
     ]
    },
    {
     "name": "stdout",
     "output_type": "stream",
     "text": [
      "Epoch 382 tst: l 0.676 a 0.840  clct[20, 20] ans[20, 20] cl_acc 1.000 2.596sec\n"
     ]
    },
    {
     "name": "stdout",
     "output_type": "stream",
     "text": [
      "Epoch 383 tr: l 0.383 a 0.908  clct[30, 30] ans[30, 30] lr 0.005324 cl_acc 1.000 44.211sec(train) 3.653sec(infer)\n"
     ]
    },
    {
     "name": "stdout",
     "output_type": "stream",
     "text": [
      "Epoch 383 tst: l 0.665 a 0.842  clct[20, 20] ans[20, 20] cl_acc 1.000 2.292sec\n"
     ]
    },
    {
     "name": "stdout",
     "output_type": "stream",
     "text": [
      "Epoch 384 tr: l 0.368 a 0.913  clct[22, 38] ans[22, 38] lr 0.005271 cl_acc 1.000 44.516sec(train) 3.729sec(infer)\n"
     ]
    },
    {
     "name": "stdout",
     "output_type": "stream",
     "text": [
      "Epoch 384 tst: l 0.662 a 0.841  clct[20, 20] ans[20, 20] cl_acc 1.000 2.319sec\n"
     ]
    },
    {
     "name": "stdout",
     "output_type": "stream",
     "text": [
      "Epoch 385 tr: l 0.371 a 0.909  clct[33, 27] ans[33, 27] lr 0.005218 cl_acc 1.000 45.340sec(train) 3.903sec(infer)\n"
     ]
    },
    {
     "name": "stdout",
     "output_type": "stream",
     "text": [
      "Epoch 385 tst: l 0.657 a 0.842  clct[20, 20] ans[20, 20] cl_acc 1.000 2.520sec\n"
     ]
    },
    {
     "name": "stdout",
     "output_type": "stream",
     "text": [
      "Epoch 386 tr: l 0.365 a 0.914  clct[34, 26] ans[34, 26] lr 0.005166 cl_acc 1.000 45.235sec(train) 3.749sec(infer)\n"
     ]
    },
    {
     "name": "stdout",
     "output_type": "stream",
     "text": [
      "Epoch 386 tst: l 0.663 a 0.842  clct[20, 20] ans[20, 20] cl_acc 1.000 2.427sec\n"
     ]
    },
    {
     "name": "stdout",
     "output_type": "stream",
     "text": [
      "Epoch 387 tr: l 0.361 a 0.915  clct[29, 31] ans[29, 31] lr 0.005114 cl_acc 1.000 44.642sec(train) 3.957sec(infer)\n"
     ]
    },
    {
     "name": "stdout",
     "output_type": "stream",
     "text": [
      "Epoch 387 tst: l 0.659 a 0.841  clct[20, 20] ans[20, 20] cl_acc 1.000 2.581sec\n"
     ]
    },
    {
     "name": "stdout",
     "output_type": "stream",
     "text": [
      "Epoch 388 tr: l 0.346 a 0.919  clct[28, 32] ans[28, 32] lr 0.005063 cl_acc 1.000 44.223sec(train) 3.693sec(infer)\n"
     ]
    },
    {
     "name": "stdout",
     "output_type": "stream",
     "text": [
      "Epoch 388 tst: l 0.662 a 0.842  clct[20, 20] ans[20, 20] cl_acc 1.000 2.330sec\n"
     ]
    },
    {
     "name": "stdout",
     "output_type": "stream",
     "text": [
      "Epoch 389 tr: l 0.357 a 0.916  clct[35, 25] ans[35, 25] lr 0.005012 cl_acc 1.000 44.341sec(train) 3.940sec(infer)\n"
     ]
    },
    {
     "name": "stdout",
     "output_type": "stream",
     "text": [
      "Epoch 389 tst: l 0.654 a 0.844  clct[20, 20] ans[20, 20] cl_acc 1.000 2.496sec\n"
     ]
    },
    {
     "name": "stdout",
     "output_type": "stream",
     "text": [
      "Epoch 390 tr: l 0.358 a 0.916  clct[24, 36] ans[24, 36] lr 0.004962 cl_acc 1.000 44.162sec(train) 3.709sec(infer)\n"
     ]
    },
    {
     "name": "stdout",
     "output_type": "stream",
     "text": [
      "Epoch 390 tst: l 0.666 a 0.841  clct[20, 20] ans[20, 20] cl_acc 1.000 2.290sec\n",
      "result written at output/results.pickle\n"
     ]
    },
    {
     "name": "stdout",
     "output_type": "stream",
     "text": [
      "Epoch 391 tr: l 0.363 a 0.913  clct[27, 33] ans[27, 33] lr 0.004912 cl_acc 1.000 44.343sec(train) 3.708sec(infer)\n"
     ]
    },
    {
     "name": "stdout",
     "output_type": "stream",
     "text": [
      "Epoch 391 tst: l 0.662 a 0.847  clct[20, 20] ans[20, 20] cl_acc 1.000 2.298sec\n"
     ]
    },
    {
     "name": "stdout",
     "output_type": "stream",
     "text": [
      "Epoch 392 tr: l 0.341 a 0.920  clct[28, 32] ans[28, 32] lr 0.004863 cl_acc 1.000 44.139sec(train) 4.084sec(infer)\n"
     ]
    },
    {
     "name": "stdout",
     "output_type": "stream",
     "text": [
      "Epoch 392 tst: l 0.663 a 0.840  clct[20, 20] ans[20, 20] cl_acc 1.000 2.562sec\n"
     ]
    },
    {
     "name": "stdout",
     "output_type": "stream",
     "text": [
      "Epoch 393 tr: l 0.367 a 0.914  clct[30, 30] ans[30, 30] lr 0.004815 cl_acc 1.000 44.297sec(train) 3.938sec(infer)\n"
     ]
    },
    {
     "name": "stdout",
     "output_type": "stream",
     "text": [
      "Epoch 393 tst: l 0.659 a 0.844  clct[20, 20] ans[20, 20] cl_acc 1.000 2.523sec\n"
     ]
    },
    {
     "name": "stdout",
     "output_type": "stream",
     "text": [
      "Epoch 394 tr: l 0.331 a 0.925  clct[33, 27] ans[33, 27] lr 0.004767 cl_acc 1.000 44.231sec(train) 4.142sec(infer)\n"
     ]
    },
    {
     "name": "stdout",
     "output_type": "stream",
     "text": [
      "Epoch 394 tst: l 0.660 a 0.845  clct[20, 20] ans[20, 20] cl_acc 1.000 2.610sec\n"
     ]
    },
    {
     "name": "stdout",
     "output_type": "stream",
     "text": [
      "Epoch 395 tr: l 0.364 a 0.912  clct[32, 28] ans[32, 28] lr 0.004719 cl_acc 1.000 44.210sec(train) 3.763sec(infer)\n"
     ]
    },
    {
     "name": "stdout",
     "output_type": "stream",
     "text": [
      "Epoch 395 tst: l 0.664 a 0.842  clct[20, 20] ans[20, 20] cl_acc 1.000 2.364sec\n"
     ]
    },
    {
     "name": "stdout",
     "output_type": "stream",
     "text": [
      "Epoch 396 tr: l 0.348 a 0.919  clct[28, 32] ans[28, 32] lr 0.004672 cl_acc 1.000 44.313sec(train) 3.903sec(infer)\n"
     ]
    },
    {
     "name": "stdout",
     "output_type": "stream",
     "text": [
      "Epoch 396 tst: l 0.651 a 0.843  clct[20, 20] ans[20, 20] cl_acc 1.000 2.476sec\n"
     ]
    },
    {
     "name": "stdout",
     "output_type": "stream",
     "text": [
      "Epoch 397 tr: l 0.368 a 0.913  clct[34, 26] ans[34, 26] lr 0.004625 cl_acc 1.000 44.203sec(train) 3.826sec(infer)\n"
     ]
    },
    {
     "name": "stdout",
     "output_type": "stream",
     "text": [
      "Epoch 397 tst: l 0.654 a 0.846  clct[20, 20] ans[20, 20] cl_acc 1.000 2.448sec\n"
     ]
    },
    {
     "name": "stdout",
     "output_type": "stream",
     "text": [
      "Epoch 398 tr: l 0.345 a 0.919  clct[30, 30] ans[30, 30] lr 0.004579 cl_acc 1.000 44.242sec(train) 3.860sec(infer)\n"
     ]
    },
    {
     "name": "stdout",
     "output_type": "stream",
     "text": [
      "Epoch 398 tst: l 0.664 a 0.843  clct[20, 20] ans[20, 20] cl_acc 1.000 2.420sec\n"
     ]
    },
    {
     "name": "stdout",
     "output_type": "stream",
     "text": [
      "Epoch 399 tr: l 0.333 a 0.920  clct[32, 28] ans[32, 28] lr 0.004533 cl_acc 1.000 44.212sec(train) 3.592sec(infer)\n"
     ]
    },
    {
     "name": "stdout",
     "output_type": "stream",
     "text": [
      "Epoch 399 tst: l 0.670 a 0.841  clct[20, 20] ans[20, 20] cl_acc 1.000 2.314sec\n",
      "result written at output/results.pickle\n",
      "---train cluster Ended in 5.62 hour (20233.424 sec) \n",
      "---------------------------------DFCA-GI, lr: 0.25, seed: 12---------------------------------\n",
      "config: {'m': 200, 'm_test': 40, 'p': 2, 'n': 500, 'participation_rate': 0.3, 'num_epochs': 400, 'batch_size': 50, 'tau': 5, 'lr': 0.25, 'data_seed': 12, 'train_seed': 12, 'project_dir': 'output'}\n"
     ]
    },
    {
     "name": "stdout",
     "output_type": "stream",
     "text": [
      "finding good initializer from train data\n"
     ]
    },
    {
     "name": "stderr",
     "output_type": "stream",
     "text": [
      "2025-06-02 03:10:00.488475: W tensorflow/c/c_api.cc:305] Operation '{name:'softmax_linear/biases/Assign' id:221 op device:{requested: '/device:CPU:0', assigned: ''} def:{{{node softmax_linear/biases/Assign}} = Assign[T=DT_FLOAT, _class=[\"loc:@softmax_linear/biases\"], _has_manual_control_dependencies=true, use_locking=true, validate_shape=true, _device=\"/device:CPU:0\"](softmax_linear/biases, softmax_linear/biases/Initializer/Const)}}' was changed by setting attribute after it was run by a session. This mutation will have no effect, and will trigger an error in the future. Either don't modify nodes after running them or create a new session.\n"
     ]
    },
    {
     "name": "stdout",
     "output_type": "stream",
     "text": [
      "Epoch -1 tr: l 4.676 a 0.099  clct[52, 8] ans[28, 32] cl_acc 0.500 4.055sec\n"
     ]
    },
    {
     "name": "stderr",
     "output_type": "stream",
     "text": [
      "2025-06-02 03:10:04.564565: W tensorflow/c/c_api.cc:305] Operation '{name:'softmax_linear/biases/Assign' id:221 op device:{requested: '/device:CPU:0', assigned: ''} def:{{{node softmax_linear/biases/Assign}} = Assign[T=DT_FLOAT, _class=[\"loc:@softmax_linear/biases\"], _has_manual_control_dependencies=true, use_locking=true, validate_shape=true, _device=\"/device:CPU:0\"](softmax_linear/biases, softmax_linear/biases/Initializer/Const)}}' was changed by setting attribute after it was run by a session. This mutation will have no effect, and will trigger an error in the future. Either don't modify nodes after running them or create a new session.\n"
     ]
    },
    {
     "name": "stdout",
     "output_type": "stream",
     "text": [
      "Epoch -1 tr: l 4.676 a 0.092  clct[6, 54] ans[28, 32] cl_acc 0.500 3.862sec\n"
     ]
    },
    {
     "name": "stderr",
     "output_type": "stream",
     "text": [
      "2025-06-02 03:10:08.450918: W tensorflow/c/c_api.cc:305] Operation '{name:'softmax_linear/biases/Assign' id:221 op device:{requested: '/device:CPU:0', assigned: ''} def:{{{node softmax_linear/biases/Assign}} = Assign[T=DT_FLOAT, _class=[\"loc:@softmax_linear/biases\"], _has_manual_control_dependencies=true, use_locking=true, validate_shape=true, _device=\"/device:CPU:0\"](softmax_linear/biases, softmax_linear/biases/Initializer/Const)}}' was changed by setting attribute after it was run by a session. This mutation will have no effect, and will trigger an error in the future. Either don't modify nodes after running them or create a new session.\n"
     ]
    },
    {
     "name": "stdout",
     "output_type": "stream",
     "text": [
      "Epoch -1 tr: l 4.674 a 0.107  clct[20, 40] ans[26, 34] cl_acc 0.567 3.524sec\n"
     ]
    },
    {
     "name": "stderr",
     "output_type": "stream",
     "text": [
      "2025-06-02 03:10:11.998986: W tensorflow/c/c_api.cc:305] Operation '{name:'softmax_linear/biases/Assign' id:221 op device:{requested: '/device:CPU:0', assigned: ''} def:{{{node softmax_linear/biases/Assign}} = Assign[T=DT_FLOAT, _class=[\"loc:@softmax_linear/biases\"], _has_manual_control_dependencies=true, use_locking=true, validate_shape=true, _device=\"/device:CPU:0\"](softmax_linear/biases, softmax_linear/biases/Initializer/Const)}}' was changed by setting attribute after it was run by a session. This mutation will have no effect, and will trigger an error in the future. Either don't modify nodes after running them or create a new session.\n"
     ]
    },
    {
     "name": "stdout",
     "output_type": "stream",
     "text": [
      "Epoch -1 tr: l 4.676 a 0.089  clct[1, 59] ans[28, 32] cl_acc 0.517 3.549sec\n"
     ]
    },
    {
     "name": "stderr",
     "output_type": "stream",
     "text": [
      "2025-06-02 03:10:15.571564: W tensorflow/c/c_api.cc:305] Operation '{name:'softmax_linear/biases/Assign' id:221 op device:{requested: '/device:CPU:0', assigned: ''} def:{{{node softmax_linear/biases/Assign}} = Assign[T=DT_FLOAT, _class=[\"loc:@softmax_linear/biases\"], _has_manual_control_dependencies=true, use_locking=true, validate_shape=true, _device=\"/device:CPU:0\"](softmax_linear/biases, softmax_linear/biases/Initializer/Const)}}' was changed by setting attribute after it was run by a session. This mutation will have no effect, and will trigger an error in the future. Either don't modify nodes after running them or create a new session.\n"
     ]
    },
    {
     "name": "stdout",
     "output_type": "stream",
     "text": [
      "Epoch -1 tr: l 4.673 a 0.105  clct[9, 51] ans[33, 27] cl_acc 0.500 3.941sec\n"
     ]
    },
    {
     "name": "stderr",
     "output_type": "stream",
     "text": [
      "2025-06-02 03:10:19.536657: W tensorflow/c/c_api.cc:305] Operation '{name:'softmax_linear/biases/Assign' id:221 op device:{requested: '/device:CPU:0', assigned: ''} def:{{{node softmax_linear/biases/Assign}} = Assign[T=DT_FLOAT, _class=[\"loc:@softmax_linear/biases\"], _has_manual_control_dependencies=true, use_locking=true, validate_shape=true, _device=\"/device:CPU:0\"](softmax_linear/biases, softmax_linear/biases/Initializer/Const)}}' was changed by setting attribute after it was run by a session. This mutation will have no effect, and will trigger an error in the future. Either don't modify nodes after running them or create a new session.\n"
     ]
    },
    {
     "name": "stdout",
     "output_type": "stream",
     "text": [
      "Epoch -1 tr: l 4.670 a 0.098  clct[0, 60] ans[30, 30] cl_acc 0.500 3.779sec\n"
     ]
    },
    {
     "name": "stderr",
     "output_type": "stream",
     "text": [
      "2025-06-02 03:10:23.340320: W tensorflow/c/c_api.cc:305] Operation '{name:'softmax_linear/biases/Assign' id:221 op device:{requested: '/device:CPU:0', assigned: ''} def:{{{node softmax_linear/biases/Assign}} = Assign[T=DT_FLOAT, _class=[\"loc:@softmax_linear/biases\"], _has_manual_control_dependencies=true, use_locking=true, validate_shape=true, _device=\"/device:CPU:0\"](softmax_linear/biases, softmax_linear/biases/Initializer/Const)}}' was changed by setting attribute after it was run by a session. This mutation will have no effect, and will trigger an error in the future. Either don't modify nodes after running them or create a new session.\n"
     ]
    },
    {
     "name": "stdout",
     "output_type": "stream",
     "text": [
      "Epoch -1 tr: l 4.676 a 0.102  clct[58, 2] ans[26, 34] cl_acc 0.600 3.555sec\n"
     ]
    },
    {
     "name": "stderr",
     "output_type": "stream",
     "text": [
      "2025-06-02 03:10:26.919996: W tensorflow/c/c_api.cc:305] Operation '{name:'softmax_linear/biases/Assign' id:221 op device:{requested: '/device:CPU:0', assigned: ''} def:{{{node softmax_linear/biases/Assign}} = Assign[T=DT_FLOAT, _class=[\"loc:@softmax_linear/biases\"], _has_manual_control_dependencies=true, use_locking=true, validate_shape=true, _device=\"/device:CPU:0\"](softmax_linear/biases, softmax_linear/biases/Initializer/Const)}}' was changed by setting attribute after it was run by a session. This mutation will have no effect, and will trigger an error in the future. Either don't modify nodes after running them or create a new session.\n"
     ]
    },
    {
     "name": "stdout",
     "output_type": "stream",
     "text": [
      "Epoch -1 tr: l 4.671 a 0.093  clct[0, 60] ans[26, 34] cl_acc 0.567 3.603sec\n"
     ]
    },
    {
     "name": "stderr",
     "output_type": "stream",
     "text": [
      "2025-06-02 03:10:30.547160: W tensorflow/c/c_api.cc:305] Operation '{name:'softmax_linear/biases/Assign' id:221 op device:{requested: '/device:CPU:0', assigned: ''} def:{{{node softmax_linear/biases/Assign}} = Assign[T=DT_FLOAT, _class=[\"loc:@softmax_linear/biases\"], _has_manual_control_dependencies=true, use_locking=true, validate_shape=true, _device=\"/device:CPU:0\"](softmax_linear/biases, softmax_linear/biases/Initializer/Const)}}' was changed by setting attribute after it was run by a session. This mutation will have no effect, and will trigger an error in the future. Either don't modify nodes after running them or create a new session.\n"
     ]
    },
    {
     "name": "stdout",
     "output_type": "stream",
     "text": [
      "Epoch -1 tr: l 4.676 a 0.103  clct[50, 10] ans[29, 31] cl_acc 0.650 3.531sec\n"
     ]
    },
    {
     "name": "stderr",
     "output_type": "stream",
     "text": [
      "2025-06-02 03:10:34.102649: W tensorflow/c/c_api.cc:305] Operation '{name:'softmax_linear/biases/Assign' id:221 op device:{requested: '/device:CPU:0', assigned: ''} def:{{{node softmax_linear/biases/Assign}} = Assign[T=DT_FLOAT, _class=[\"loc:@softmax_linear/biases\"], _has_manual_control_dependencies=true, use_locking=true, validate_shape=true, _device=\"/device:CPU:0\"](softmax_linear/biases, softmax_linear/biases/Initializer/Const)}}' was changed by setting attribute after it was run by a session. This mutation will have no effect, and will trigger an error in the future. Either don't modify nodes after running them or create a new session.\n"
     ]
    },
    {
     "name": "stdout",
     "output_type": "stream",
     "text": [
      "Epoch -1 tr: l 4.673 a 0.112  clct[60, 0] ans[26, 34] cl_acc 0.567 3.608sec\n"
     ]
    },
    {
     "name": "stderr",
     "output_type": "stream",
     "text": [
      "2025-06-02 03:10:37.735184: W tensorflow/c/c_api.cc:305] Operation '{name:'softmax_linear/biases/Assign' id:221 op device:{requested: '/device:CPU:0', assigned: ''} def:{{{node softmax_linear/biases/Assign}} = Assign[T=DT_FLOAT, _class=[\"loc:@softmax_linear/biases\"], _has_manual_control_dependencies=true, use_locking=true, validate_shape=true, _device=\"/device:CPU:0\"](softmax_linear/biases, softmax_linear/biases/Initializer/Const)}}' was changed by setting attribute after it was run by a session. This mutation will have no effect, and will trigger an error in the future. Either don't modify nodes after running them or create a new session.\n"
     ]
    },
    {
     "name": "stdout",
     "output_type": "stream",
     "text": [
      "Epoch -1 tr: l 4.674 a 0.106  clct[51, 9] ans[27, 33] cl_acc 0.500 3.508sec\n"
     ]
    },
    {
     "name": "stderr",
     "output_type": "stream",
     "text": [
      "2025-06-02 03:10:41.266947: W tensorflow/c/c_api.cc:305] Operation '{name:'softmax_linear/biases/Assign' id:221 op device:{requested: '/device:CPU:0', assigned: ''} def:{{{node softmax_linear/biases/Assign}} = Assign[T=DT_FLOAT, _class=[\"loc:@softmax_linear/biases\"], _has_manual_control_dependencies=true, use_locking=true, validate_shape=true, _device=\"/device:CPU:0\"](softmax_linear/biases, softmax_linear/biases/Initializer/Const)}}' was changed by setting attribute after it was run by a session. This mutation will have no effect, and will trigger an error in the future. Either don't modify nodes after running them or create a new session.\n"
     ]
    },
    {
     "name": "stdout",
     "output_type": "stream",
     "text": [
      "Epoch -1 tr: l 4.671 a 0.104  clct[27, 33] ans[29, 31] cl_acc 0.600 3.570sec\n",
      "found good initializer\n"
     ]
    },
    {
     "name": "stdout",
     "output_type": "stream",
     "text": [
      "Epoch -1 tr: l 4.671 a 0.105  clct[24, 36] ans[28, 32] cl_acc 0.667 3.572sec\n"
     ]
    },
    {
     "name": "stdout",
     "output_type": "stream",
     "text": [
      "Epoch -1 tst: l 4.672 a 0.106  clct[11, 29] ans[20, 20] cl_acc 0.625 2.269sec\n"
     ]
    },
    {
     "name": "stdout",
     "output_type": "stream",
     "text": [
      "Epoch 0 tr: l 2.047 a 0.349  clct[8, 52] ans[31, 29] lr 0.250000 cl_acc 0.617 44.147sec(train) 3.613sec(infer)\n"
     ]
    },
    {
     "name": "stdout",
     "output_type": "stream",
     "text": [
      "Epoch 0 tst: l 1.960 a 0.381  clct[7, 33] ans[20, 20] cl_acc 0.675 2.219sec\n",
      "result written at output/results.pickle\n"
     ]
    },
    {
     "name": "stdout",
     "output_type": "stream",
     "text": [
      "Epoch 1 tr: l 1.924 a 0.441  clct[34, 26] ans[34, 26] lr 0.247500 cl_acc 1.000 43.806sec(train) 3.633sec(infer)\n"
     ]
    },
    {
     "name": "stdout",
     "output_type": "stream",
     "text": [
      "Epoch 1 tst: l 1.844 a 0.472  clct[20, 20] ans[20, 20] cl_acc 1.000 2.185sec\n"
     ]
    },
    {
     "name": "stdout",
     "output_type": "stream",
     "text": [
      "Epoch 2 tr: l 1.884 a 0.496  clct[31, 29] ans[31, 29] lr 0.245025 cl_acc 1.000 43.722sec(train) 3.723sec(infer)\n"
     ]
    },
    {
     "name": "stdout",
     "output_type": "stream",
     "text": [
      "Epoch 2 tst: l 1.719 a 0.549  clct[20, 20] ans[20, 20] cl_acc 1.000 2.274sec\n"
     ]
    },
    {
     "name": "stdout",
     "output_type": "stream",
     "text": [
      "Epoch 3 tr: l 1.749 a 0.552  clct[33, 27] ans[33, 27] lr 0.242575 cl_acc 1.000 43.799sec(train) 3.569sec(infer)\n"
     ]
    },
    {
     "name": "stdout",
     "output_type": "stream",
     "text": [
      "Epoch 3 tst: l 1.622 a 0.596  clct[20, 20] ans[20, 20] cl_acc 1.000 2.268sec\n"
     ]
    },
    {
     "name": "stdout",
     "output_type": "stream",
     "text": [
      "Epoch 4 tr: l 1.679 a 0.586  clct[27, 33] ans[27, 33] lr 0.240149 cl_acc 1.000 43.672sec(train) 3.645sec(infer)\n"
     ]
    },
    {
     "name": "stdout",
     "output_type": "stream",
     "text": [
      "Epoch 4 tst: l 1.573 a 0.623  clct[20, 20] ans[20, 20] cl_acc 1.000 2.269sec\n"
     ]
    },
    {
     "name": "stdout",
     "output_type": "stream",
     "text": [
      "Epoch 5 tr: l 1.747 a 0.586  clct[29, 31] ans[29, 31] lr 0.237748 cl_acc 1.000 44.028sec(train) 3.614sec(infer)\n"
     ]
    },
    {
     "name": "stdout",
     "output_type": "stream",
     "text": [
      "Epoch 5 tst: l 1.615 a 0.628  clct[20, 20] ans[20, 20] cl_acc 1.000 2.254sec\n"
     ]
    },
    {
     "name": "stdout",
     "output_type": "stream",
     "text": [
      "Epoch 6 tr: l 1.721 a 0.588  clct[33, 27] ans[33, 27] lr 0.235370 cl_acc 1.000 44.352sec(train) 3.616sec(infer)\n"
     ]
    },
    {
     "name": "stdout",
     "output_type": "stream",
     "text": [
      "Epoch 6 tst: l 1.596 a 0.623  clct[20, 20] ans[20, 20] cl_acc 1.000 2.282sec\n"
     ]
    },
    {
     "name": "stdout",
     "output_type": "stream",
     "text": [
      "Epoch 7 tr: l 1.670 a 0.595  clct[35, 25] ans[35, 25] lr 0.233016 cl_acc 1.000 44.074sec(train) 3.567sec(infer)\n"
     ]
    },
    {
     "name": "stdout",
     "output_type": "stream",
     "text": [
      "Epoch 7 tst: l 1.588 a 0.627  clct[20, 20] ans[20, 20] cl_acc 1.000 2.218sec\n"
     ]
    },
    {
     "name": "stdout",
     "output_type": "stream",
     "text": [
      "Epoch 8 tr: l 1.758 a 0.583  clct[29, 31] ans[29, 31] lr 0.230686 cl_acc 1.000 43.809sec(train) 3.845sec(infer)\n"
     ]
    },
    {
     "name": "stdout",
     "output_type": "stream",
     "text": [
      "Epoch 8 tst: l 1.654 a 0.625  clct[20, 20] ans[20, 20] cl_acc 1.000 2.219sec\n"
     ]
    },
    {
     "name": "stdout",
     "output_type": "stream",
     "text": [
      "Epoch 9 tr: l 1.629 a 0.619  clct[31, 29] ans[31, 29] lr 0.228379 cl_acc 1.000 44.029sec(train) 3.737sec(infer)\n"
     ]
    },
    {
     "name": "stdout",
     "output_type": "stream",
     "text": [
      "Epoch 9 tst: l 1.522 a 0.656  clct[20, 20] ans[20, 20] cl_acc 1.000 2.218sec\n"
     ]
    },
    {
     "name": "stdout",
     "output_type": "stream",
     "text": [
      "Epoch 10 tr: l 1.695 a 0.608  clct[30, 30] ans[30, 30] lr 0.226096 cl_acc 1.000 44.012sec(train) 3.718sec(infer)\n"
     ]
    },
    {
     "name": "stdout",
     "output_type": "stream",
     "text": [
      "Epoch 10 tst: l 1.606 a 0.637  clct[20, 20] ans[20, 20] cl_acc 1.000 2.215sec\n",
      "result written at output/results.pickle\n"
     ]
    },
    {
     "name": "stdout",
     "output_type": "stream",
     "text": [
      "Epoch 11 tr: l 1.538 a 0.649  clct[34, 26] ans[34, 26] lr 0.223835 cl_acc 1.000 43.911sec(train) 3.633sec(infer)\n"
     ]
    },
    {
     "name": "stdout",
     "output_type": "stream",
     "text": [
      "Epoch 11 tst: l 1.480 a 0.673  clct[20, 20] ans[20, 20] cl_acc 1.000 2.257sec\n"
     ]
    },
    {
     "name": "stdout",
     "output_type": "stream",
     "text": [
      "Epoch 12 tr: l 1.562 a 0.641  clct[32, 28] ans[32, 28] lr 0.221596 cl_acc 1.000 43.870sec(train) 3.750sec(infer)\n"
     ]
    },
    {
     "name": "stdout",
     "output_type": "stream",
     "text": [
      "Epoch 12 tst: l 1.482 a 0.673  clct[20, 20] ans[20, 20] cl_acc 1.000 2.308sec\n"
     ]
    },
    {
     "name": "stdout",
     "output_type": "stream",
     "text": [
      "Epoch 13 tr: l 1.707 a 0.623  clct[34, 26] ans[34, 26] lr 0.219380 cl_acc 1.000 43.881sec(train) 3.736sec(infer)\n"
     ]
    },
    {
     "name": "stdout",
     "output_type": "stream",
     "text": [
      "Epoch 13 tst: l 1.549 a 0.671  clct[20, 20] ans[20, 20] cl_acc 1.000 2.280sec\n"
     ]
    },
    {
     "name": "stdout",
     "output_type": "stream",
     "text": [
      "Epoch 14 tr: l 1.625 a 0.632  clct[28, 32] ans[28, 32] lr 0.217186 cl_acc 1.000 43.789sec(train) 3.595sec(infer)\n"
     ]
    },
    {
     "name": "stdout",
     "output_type": "stream",
     "text": [
      "Epoch 14 tst: l 1.548 a 0.659  clct[20, 20] ans[20, 20] cl_acc 1.000 2.241sec\n"
     ]
    },
    {
     "name": "stdout",
     "output_type": "stream",
     "text": [
      "Epoch 15 tr: l 1.562 a 0.650  clct[29, 31] ans[29, 31] lr 0.215015 cl_acc 1.000 43.693sec(train) 3.631sec(infer)\n"
     ]
    },
    {
     "name": "stdout",
     "output_type": "stream",
     "text": [
      "Epoch 15 tst: l 1.457 a 0.678  clct[20, 20] ans[20, 20] cl_acc 1.000 2.256sec\n"
     ]
    },
    {
     "name": "stdout",
     "output_type": "stream",
     "text": [
      "Epoch 16 tr: l 1.507 a 0.674  clct[32, 28] ans[32, 28] lr 0.212864 cl_acc 1.000 43.850sec(train) 3.571sec(infer)\n"
     ]
    },
    {
     "name": "stdout",
     "output_type": "stream",
     "text": [
      "Epoch 16 tst: l 1.459 a 0.695  clct[20, 20] ans[20, 20] cl_acc 1.000 2.166sec\n"
     ]
    },
    {
     "name": "stdout",
     "output_type": "stream",
     "text": [
      "Epoch 17 tr: l 1.615 a 0.641  clct[32, 28] ans[32, 28] lr 0.210736 cl_acc 1.000 44.037sec(train) 3.595sec(infer)\n"
     ]
    },
    {
     "name": "stdout",
     "output_type": "stream",
     "text": [
      "Epoch 17 tst: l 1.561 a 0.667  clct[20, 20] ans[20, 20] cl_acc 1.000 2.240sec\n"
     ]
    },
    {
     "name": "stdout",
     "output_type": "stream",
     "text": [
      "Epoch 18 tr: l 1.523 a 0.666  clct[29, 31] ans[29, 31] lr 0.208628 cl_acc 1.000 43.907sec(train) 3.660sec(infer)\n"
     ]
    },
    {
     "name": "stdout",
     "output_type": "stream",
     "text": [
      "Epoch 18 tst: l 1.451 a 0.692  clct[20, 20] ans[20, 20] cl_acc 1.000 2.209sec\n"
     ]
    },
    {
     "name": "stdout",
     "output_type": "stream",
     "text": [
      "Epoch 19 tr: l 1.553 a 0.665  clct[23, 37] ans[23, 37] lr 0.206542 cl_acc 1.000 43.908sec(train) 3.584sec(infer)\n"
     ]
    },
    {
     "name": "stdout",
     "output_type": "stream",
     "text": [
      "Epoch 19 tst: l 1.487 a 0.690  clct[20, 20] ans[20, 20] cl_acc 1.000 2.269sec\n"
     ]
    },
    {
     "name": "stdout",
     "output_type": "stream",
     "text": [
      "Epoch 20 tr: l 1.525 a 0.667  clct[26, 34] ans[26, 34] lr 0.204477 cl_acc 1.000 43.771sec(train) 3.830sec(infer)\n"
     ]
    },
    {
     "name": "stdout",
     "output_type": "stream",
     "text": [
      "Epoch 20 tst: l 1.440 a 0.696  clct[20, 20] ans[20, 20] cl_acc 1.000 2.324sec\n",
      "result written at output/results.pickle\n"
     ]
    },
    {
     "name": "stdout",
     "output_type": "stream",
     "text": [
      "Epoch 21 tr: l 1.451 a 0.684  clct[32, 28] ans[32, 28] lr 0.202432 cl_acc 1.000 43.626sec(train) 3.642sec(infer)\n"
     ]
    },
    {
     "name": "stdout",
     "output_type": "stream",
     "text": [
      "Epoch 21 tst: l 1.388 a 0.710  clct[20, 20] ans[20, 20] cl_acc 1.000 2.290sec\n"
     ]
    },
    {
     "name": "stdout",
     "output_type": "stream",
     "text": [
      "Epoch 22 tr: l 1.573 a 0.655  clct[30, 30] ans[30, 30] lr 0.200408 cl_acc 1.000 43.881sec(train) 3.643sec(infer)\n"
     ]
    },
    {
     "name": "stdout",
     "output_type": "stream",
     "text": [
      "Epoch 22 tst: l 1.499 a 0.686  clct[20, 20] ans[20, 20] cl_acc 1.000 2.211sec\n"
     ]
    },
    {
     "name": "stdout",
     "output_type": "stream",
     "text": [
      "Epoch 23 tr: l 1.468 a 0.678  clct[31, 29] ans[31, 29] lr 0.198404 cl_acc 1.000 43.643sec(train) 3.688sec(infer)\n"
     ]
    },
    {
     "name": "stdout",
     "output_type": "stream",
     "text": [
      "Epoch 23 tst: l 1.437 a 0.699  clct[20, 20] ans[20, 20] cl_acc 1.000 2.239sec\n"
     ]
    },
    {
     "name": "stdout",
     "output_type": "stream",
     "text": [
      "Epoch 24 tr: l 1.499 a 0.675  clct[27, 33] ans[27, 33] lr 0.196420 cl_acc 1.000 43.869sec(train) 3.656sec(infer)\n"
     ]
    },
    {
     "name": "stdout",
     "output_type": "stream",
     "text": [
      "Epoch 24 tst: l 1.437 a 0.697  clct[20, 20] ans[20, 20] cl_acc 1.000 2.228sec\n"
     ]
    },
    {
     "name": "stdout",
     "output_type": "stream",
     "text": [
      "Epoch 25 tr: l 1.459 a 0.671  clct[34, 26] ans[34, 26] lr 0.194455 cl_acc 1.000 43.711sec(train) 3.585sec(infer)\n"
     ]
    },
    {
     "name": "stdout",
     "output_type": "stream",
     "text": [
      "Epoch 25 tst: l 1.401 a 0.697  clct[20, 20] ans[20, 20] cl_acc 1.000 2.345sec\n"
     ]
    },
    {
     "name": "stdout",
     "output_type": "stream",
     "text": [
      "Epoch 26 tr: l 1.458 a 0.686  clct[33, 27] ans[33, 27] lr 0.192511 cl_acc 1.000 43.740sec(train) 3.696sec(infer)\n"
     ]
    },
    {
     "name": "stdout",
     "output_type": "stream",
     "text": [
      "Epoch 26 tst: l 1.396 a 0.711  clct[20, 20] ans[20, 20] cl_acc 1.000 2.343sec\n"
     ]
    },
    {
     "name": "stdout",
     "output_type": "stream",
     "text": [
      "Epoch 27 tr: l 1.411 a 0.695  clct[32, 28] ans[32, 28] lr 0.190586 cl_acc 1.000 43.688sec(train) 3.715sec(infer)\n"
     ]
    },
    {
     "name": "stdout",
     "output_type": "stream",
     "text": [
      "Epoch 27 tst: l 1.377 a 0.708  clct[20, 20] ans[20, 20] cl_acc 1.000 2.337sec\n"
     ]
    },
    {
     "name": "stdout",
     "output_type": "stream",
     "text": [
      "Epoch 28 tr: l 1.484 a 0.679  clct[22, 38] ans[22, 38] lr 0.188680 cl_acc 1.000 43.865sec(train) 3.656sec(infer)\n"
     ]
    },
    {
     "name": "stdout",
     "output_type": "stream",
     "text": [
      "Epoch 28 tst: l 1.414 a 0.708  clct[20, 20] ans[20, 20] cl_acc 1.000 2.231sec\n"
     ]
    },
    {
     "name": "stdout",
     "output_type": "stream",
     "text": [
      "Epoch 29 tr: l 1.458 a 0.685  clct[24, 36] ans[24, 36] lr 0.186793 cl_acc 1.000 43.694sec(train) 3.739sec(infer)\n"
     ]
    },
    {
     "name": "stdout",
     "output_type": "stream",
     "text": [
      "Epoch 29 tst: l 1.429 a 0.703  clct[20, 20] ans[20, 20] cl_acc 1.000 2.249sec\n"
     ]
    },
    {
     "name": "stdout",
     "output_type": "stream",
     "text": [
      "Epoch 30 tr: l 1.474 a 0.671  clct[32, 28] ans[32, 28] lr 0.184925 cl_acc 1.000 43.825sec(train) 3.793sec(infer)\n"
     ]
    },
    {
     "name": "stdout",
     "output_type": "stream",
     "text": [
      "Epoch 30 tst: l 1.411 a 0.701  clct[20, 20] ans[20, 20] cl_acc 1.000 2.285sec\n",
      "result written at output/results.pickle\n"
     ]
    },
    {
     "name": "stdout",
     "output_type": "stream",
     "text": [
      "Epoch 31 tr: l 1.390 a 0.696  clct[26, 34] ans[26, 34] lr 0.183076 cl_acc 1.000 43.828sec(train) 3.607sec(infer)\n"
     ]
    },
    {
     "name": "stdout",
     "output_type": "stream",
     "text": [
      "Epoch 31 tst: l 1.322 a 0.724  clct[20, 20] ans[20, 20] cl_acc 1.000 2.245sec\n"
     ]
    },
    {
     "name": "stdout",
     "output_type": "stream",
     "text": [
      "Epoch 32 tr: l 1.410 a 0.699  clct[29, 31] ans[29, 31] lr 0.181245 cl_acc 1.000 43.792sec(train) 3.632sec(infer)\n"
     ]
    },
    {
     "name": "stdout",
     "output_type": "stream",
     "text": [
      "Epoch 32 tst: l 1.365 a 0.717  clct[20, 20] ans[20, 20] cl_acc 1.000 2.217sec\n"
     ]
    },
    {
     "name": "stdout",
     "output_type": "stream",
     "text": [
      "Epoch 33 tr: l 1.436 a 0.689  clct[27, 33] ans[27, 33] lr 0.179433 cl_acc 1.000 43.461sec(train) 3.634sec(infer)\n"
     ]
    },
    {
     "name": "stdout",
     "output_type": "stream",
     "text": [
      "Epoch 33 tst: l 1.415 a 0.699  clct[20, 20] ans[20, 20] cl_acc 1.000 2.231sec\n"
     ]
    },
    {
     "name": "stdout",
     "output_type": "stream",
     "text": [
      "Epoch 34 tr: l 1.449 a 0.691  clct[30, 30] ans[30, 30] lr 0.177638 cl_acc 1.000 43.751sec(train) 3.636sec(infer)\n"
     ]
    },
    {
     "name": "stdout",
     "output_type": "stream",
     "text": [
      "Epoch 34 tst: l 1.419 a 0.703  clct[20, 20] ans[20, 20] cl_acc 1.000 2.259sec\n"
     ]
    },
    {
     "name": "stdout",
     "output_type": "stream",
     "text": [
      "Epoch 35 tr: l 1.354 a 0.706  clct[28, 32] ans[28, 32] lr 0.175862 cl_acc 1.000 43.416sec(train) 3.621sec(infer)\n"
     ]
    },
    {
     "name": "stdout",
     "output_type": "stream",
     "text": [
      "Epoch 35 tst: l 1.315 a 0.723  clct[20, 20] ans[20, 20] cl_acc 1.000 2.280sec\n"
     ]
    },
    {
     "name": "stdout",
     "output_type": "stream",
     "text": [
      "Epoch 36 tr: l 1.352 a 0.707  clct[28, 32] ans[28, 32] lr 0.174103 cl_acc 1.000 43.453sec(train) 3.749sec(infer)\n"
     ]
    },
    {
     "name": "stdout",
     "output_type": "stream",
     "text": [
      "Epoch 36 tst: l 1.317 a 0.720  clct[20, 20] ans[20, 20] cl_acc 1.000 2.320sec\n"
     ]
    },
    {
     "name": "stdout",
     "output_type": "stream",
     "text": [
      "Epoch 37 tr: l 1.295 a 0.720  clct[27, 33] ans[27, 33] lr 0.172362 cl_acc 1.000 43.547sec(train) 3.621sec(infer)\n"
     ]
    },
    {
     "name": "stdout",
     "output_type": "stream",
     "text": [
      "Epoch 37 tst: l 1.284 a 0.730  clct[20, 20] ans[20, 20] cl_acc 1.000 2.286sec\n"
     ]
    },
    {
     "name": "stdout",
     "output_type": "stream",
     "text": [
      "Epoch 38 tr: l 1.310 a 0.715  clct[27, 33] ans[27, 33] lr 0.170639 cl_acc 1.000 43.793sec(train) 3.719sec(infer)\n"
     ]
    },
    {
     "name": "stdout",
     "output_type": "stream",
     "text": [
      "Epoch 38 tst: l 1.283 a 0.729  clct[20, 20] ans[20, 20] cl_acc 1.000 2.280sec\n"
     ]
    },
    {
     "name": "stdout",
     "output_type": "stream",
     "text": [
      "Epoch 39 tr: l 1.328 a 0.708  clct[26, 34] ans[26, 34] lr 0.168932 cl_acc 1.000 43.751sec(train) 3.660sec(infer)\n"
     ]
    },
    {
     "name": "stdout",
     "output_type": "stream",
     "text": [
      "Epoch 39 tst: l 1.280 a 0.728  clct[20, 20] ans[20, 20] cl_acc 1.000 2.247sec\n"
     ]
    },
    {
     "name": "stdout",
     "output_type": "stream",
     "text": [
      "Epoch 40 tr: l 1.323 a 0.709  clct[32, 28] ans[32, 28] lr 0.167243 cl_acc 1.000 43.914sec(train) 3.655sec(infer)\n"
     ]
    },
    {
     "name": "stdout",
     "output_type": "stream",
     "text": [
      "Epoch 40 tst: l 1.275 a 0.725  clct[20, 20] ans[20, 20] cl_acc 1.000 2.244sec\n",
      "result written at output/results.pickle\n"
     ]
    },
    {
     "name": "stdout",
     "output_type": "stream",
     "text": [
      "Epoch 41 tr: l 1.350 a 0.698  clct[33, 27] ans[33, 27] lr 0.165571 cl_acc 1.000 43.766sec(train) 3.691sec(infer)\n"
     ]
    },
    {
     "name": "stdout",
     "output_type": "stream",
     "text": [
      "Epoch 41 tst: l 1.298 a 0.721  clct[20, 20] ans[20, 20] cl_acc 1.000 2.328sec\n"
     ]
    },
    {
     "name": "stdout",
     "output_type": "stream",
     "text": [
      "Epoch 42 tr: l 1.323 a 0.704  clct[34, 26] ans[34, 26] lr 0.163915 cl_acc 1.000 43.490sec(train) 3.676sec(infer)\n"
     ]
    },
    {
     "name": "stdout",
     "output_type": "stream",
     "text": [
      "Epoch 42 tst: l 1.304 a 0.722  clct[20, 20] ans[20, 20] cl_acc 1.000 2.246sec\n"
     ]
    },
    {
     "name": "stdout",
     "output_type": "stream",
     "text": [
      "Epoch 43 tr: l 1.313 a 0.714  clct[31, 29] ans[31, 29] lr 0.162276 cl_acc 1.000 43.379sec(train) 3.751sec(infer)\n"
     ]
    },
    {
     "name": "stdout",
     "output_type": "stream",
     "text": [
      "Epoch 43 tst: l 1.257 a 0.738  clct[20, 20] ans[20, 20] cl_acc 1.000 2.272sec\n"
     ]
    },
    {
     "name": "stdout",
     "output_type": "stream",
     "text": [
      "Epoch 44 tr: l 1.319 a 0.708  clct[30, 30] ans[30, 30] lr 0.160653 cl_acc 1.000 43.322sec(train) 3.659sec(infer)\n"
     ]
    },
    {
     "name": "stdout",
     "output_type": "stream",
     "text": [
      "Epoch 44 tst: l 1.291 a 0.720  clct[20, 20] ans[20, 20] cl_acc 1.000 2.288sec\n"
     ]
    },
    {
     "name": "stdout",
     "output_type": "stream",
     "text": [
      "Epoch 45 tr: l 1.298 a 0.714  clct[30, 30] ans[30, 30] lr 0.159046 cl_acc 1.000 43.558sec(train) 3.604sec(infer)\n"
     ]
    },
    {
     "name": "stdout",
     "output_type": "stream",
     "text": [
      "Epoch 45 tst: l 1.266 a 0.730  clct[20, 20] ans[20, 20] cl_acc 1.000 2.262sec\n"
     ]
    },
    {
     "name": "stdout",
     "output_type": "stream",
     "text": [
      "Epoch 46 tr: l 1.324 a 0.715  clct[30, 30] ans[30, 30] lr 0.157456 cl_acc 1.000 43.794sec(train) 3.671sec(infer)\n"
     ]
    },
    {
     "name": "stdout",
     "output_type": "stream",
     "text": [
      "Epoch 46 tst: l 1.298 a 0.735  clct[20, 20] ans[20, 20] cl_acc 1.000 2.417sec\n"
     ]
    },
    {
     "name": "stdout",
     "output_type": "stream",
     "text": [
      "Epoch 47 tr: l 1.326 a 0.712  clct[26, 34] ans[26, 34] lr 0.155881 cl_acc 1.000 43.746sec(train) 3.680sec(infer)\n"
     ]
    },
    {
     "name": "stdout",
     "output_type": "stream",
     "text": [
      "Epoch 47 tst: l 1.309 a 0.729  clct[20, 20] ans[20, 20] cl_acc 1.000 2.217sec\n"
     ]
    },
    {
     "name": "stdout",
     "output_type": "stream",
     "text": [
      "Epoch 48 tr: l 1.326 a 0.704  clct[30, 30] ans[30, 30] lr 0.154323 cl_acc 1.000 43.752sec(train) 3.811sec(infer)\n"
     ]
    },
    {
     "name": "stdout",
     "output_type": "stream",
     "text": [
      "Epoch 48 tst: l 1.292 a 0.719  clct[20, 20] ans[20, 20] cl_acc 1.000 2.263sec\n"
     ]
    },
    {
     "name": "stdout",
     "output_type": "stream",
     "text": [
      "Epoch 49 tr: l 1.281 a 0.718  clct[26, 34] ans[26, 34] lr 0.152779 cl_acc 1.000 44.095sec(train) 3.826sec(infer)\n"
     ]
    },
    {
     "name": "stdout",
     "output_type": "stream",
     "text": [
      "Epoch 49 tst: l 1.246 a 0.732  clct[20, 20] ans[20, 20] cl_acc 1.000 2.294sec\n"
     ]
    },
    {
     "name": "stdout",
     "output_type": "stream",
     "text": [
      "Epoch 50 tr: l 1.281 a 0.716  clct[28, 32] ans[28, 32] lr 0.151252 cl_acc 1.000 43.756sec(train) 3.577sec(infer)\n"
     ]
    },
    {
     "name": "stdout",
     "output_type": "stream",
     "text": [
      "Epoch 50 tst: l 1.218 a 0.739  clct[20, 20] ans[20, 20] cl_acc 1.000 2.284sec\n",
      "result written at output/results.pickle\n"
     ]
    },
    {
     "name": "stdout",
     "output_type": "stream",
     "text": [
      "Epoch 51 tr: l 1.283 a 0.711  clct[31, 29] ans[31, 29] lr 0.149739 cl_acc 1.000 43.790sec(train) 3.757sec(infer)\n"
     ]
    },
    {
     "name": "stdout",
     "output_type": "stream",
     "text": [
      "Epoch 51 tst: l 1.237 a 0.732  clct[20, 20] ans[20, 20] cl_acc 1.000 2.278sec\n"
     ]
    },
    {
     "name": "stdout",
     "output_type": "stream",
     "text": [
      "Epoch 52 tr: l 1.244 a 0.731  clct[31, 29] ans[31, 29] lr 0.148242 cl_acc 1.000 43.733sec(train) 3.714sec(infer)\n"
     ]
    },
    {
     "name": "stdout",
     "output_type": "stream",
     "text": [
      "Epoch 52 tst: l 1.216 a 0.748  clct[20, 20] ans[20, 20] cl_acc 1.000 2.268sec\n"
     ]
    },
    {
     "name": "stdout",
     "output_type": "stream",
     "text": [
      "Epoch 53 tr: l 1.242 a 0.725  clct[33, 27] ans[33, 27] lr 0.146759 cl_acc 1.000 43.949sec(train) 3.647sec(infer)\n"
     ]
    },
    {
     "name": "stdout",
     "output_type": "stream",
     "text": [
      "Epoch 53 tst: l 1.218 a 0.742  clct[20, 20] ans[20, 20] cl_acc 1.000 2.310sec\n"
     ]
    },
    {
     "name": "stdout",
     "output_type": "stream",
     "text": [
      "Epoch 54 tr: l 1.224 a 0.730  clct[29, 31] ans[29, 31] lr 0.145292 cl_acc 1.000 43.896sec(train) 3.626sec(infer)\n"
     ]
    },
    {
     "name": "stdout",
     "output_type": "stream",
     "text": [
      "Epoch 54 tst: l 1.198 a 0.743  clct[20, 20] ans[20, 20] cl_acc 1.000 2.215sec\n"
     ]
    },
    {
     "name": "stdout",
     "output_type": "stream",
     "text": [
      "Epoch 55 tr: l 1.256 a 0.729  clct[25, 35] ans[25, 35] lr 0.143839 cl_acc 1.000 43.724sec(train) 3.655sec(infer)\n"
     ]
    },
    {
     "name": "stdout",
     "output_type": "stream",
     "text": [
      "Epoch 55 tst: l 1.212 a 0.741  clct[20, 20] ans[20, 20] cl_acc 1.000 2.260sec\n"
     ]
    },
    {
     "name": "stdout",
     "output_type": "stream",
     "text": [
      "Epoch 56 tr: l 1.210 a 0.735  clct[26, 34] ans[26, 34] lr 0.142400 cl_acc 1.000 44.182sec(train) 3.703sec(infer)\n"
     ]
    },
    {
     "name": "stdout",
     "output_type": "stream",
     "text": [
      "Epoch 56 tst: l 1.198 a 0.746  clct[20, 20] ans[20, 20] cl_acc 1.000 2.352sec\n"
     ]
    },
    {
     "name": "stdout",
     "output_type": "stream",
     "text": [
      "Epoch 57 tr: l 1.263 a 0.729  clct[31, 29] ans[31, 29] lr 0.140976 cl_acc 1.000 43.990sec(train) 3.628sec(infer)\n"
     ]
    },
    {
     "name": "stdout",
     "output_type": "stream",
     "text": [
      "Epoch 57 tst: l 1.227 a 0.743  clct[20, 20] ans[20, 20] cl_acc 1.000 2.245sec\n"
     ]
    },
    {
     "name": "stdout",
     "output_type": "stream",
     "text": [
      "Epoch 58 tr: l 1.233 a 0.722  clct[31, 29] ans[31, 29] lr 0.139567 cl_acc 1.000 43.668sec(train) 3.742sec(infer)\n"
     ]
    },
    {
     "name": "stdout",
     "output_type": "stream",
     "text": [
      "Epoch 58 tst: l 1.190 a 0.742  clct[20, 20] ans[20, 20] cl_acc 1.000 2.280sec\n"
     ]
    },
    {
     "name": "stdout",
     "output_type": "stream",
     "text": [
      "Epoch 59 tr: l 1.170 a 0.746  clct[33, 27] ans[33, 27] lr 0.138171 cl_acc 1.000 43.865sec(train) 3.687sec(infer)\n"
     ]
    },
    {
     "name": "stdout",
     "output_type": "stream",
     "text": [
      "Epoch 59 tst: l 1.192 a 0.746  clct[20, 20] ans[20, 20] cl_acc 1.000 2.263sec\n"
     ]
    },
    {
     "name": "stdout",
     "output_type": "stream",
     "text": [
      "Epoch 60 tr: l 1.232 a 0.729  clct[35, 25] ans[35, 25] lr 0.136789 cl_acc 1.000 43.855sec(train) 3.612sec(infer)\n"
     ]
    },
    {
     "name": "stdout",
     "output_type": "stream",
     "text": [
      "Epoch 60 tst: l 1.209 a 0.742  clct[20, 20] ans[20, 20] cl_acc 1.000 2.245sec\n",
      "result written at output/results.pickle\n"
     ]
    },
    {
     "name": "stdout",
     "output_type": "stream",
     "text": [
      "Epoch 61 tr: l 1.201 a 0.733  clct[33, 27] ans[33, 27] lr 0.135421 cl_acc 1.000 43.876sec(train) 3.639sec(infer)\n"
     ]
    },
    {
     "name": "stdout",
     "output_type": "stream",
     "text": [
      "Epoch 61 tst: l 1.173 a 0.747  clct[20, 20] ans[20, 20] cl_acc 1.000 2.247sec\n"
     ]
    },
    {
     "name": "stdout",
     "output_type": "stream",
     "text": [
      "Epoch 62 tr: l 1.190 a 0.736  clct[31, 29] ans[31, 29] lr 0.134067 cl_acc 1.000 44.282sec(train) 3.670sec(infer)\n"
     ]
    },
    {
     "name": "stdout",
     "output_type": "stream",
     "text": [
      "Epoch 62 tst: l 1.141 a 0.755  clct[20, 20] ans[20, 20] cl_acc 1.000 2.276sec\n"
     ]
    },
    {
     "name": "stdout",
     "output_type": "stream",
     "text": [
      "Epoch 63 tr: l 1.181 a 0.740  clct[33, 27] ans[33, 27] lr 0.132726 cl_acc 1.000 43.854sec(train) 3.768sec(infer)\n"
     ]
    },
    {
     "name": "stdout",
     "output_type": "stream",
     "text": [
      "Epoch 63 tst: l 1.162 a 0.753  clct[20, 20] ans[20, 20] cl_acc 1.000 2.240sec\n"
     ]
    },
    {
     "name": "stdout",
     "output_type": "stream",
     "text": [
      "Epoch 64 tr: l 1.161 a 0.738  clct[31, 29] ans[31, 29] lr 0.131399 cl_acc 1.000 44.006sec(train) 3.620sec(infer)\n"
     ]
    },
    {
     "name": "stdout",
     "output_type": "stream",
     "text": [
      "Epoch 64 tst: l 1.133 a 0.753  clct[20, 20] ans[20, 20] cl_acc 1.000 2.330sec\n"
     ]
    },
    {
     "name": "stdout",
     "output_type": "stream",
     "text": [
      "Epoch 65 tr: l 1.164 a 0.742  clct[29, 31] ans[29, 31] lr 0.130085 cl_acc 1.000 43.917sec(train) 3.665sec(infer)\n"
     ]
    },
    {
     "name": "stdout",
     "output_type": "stream",
     "text": [
      "Epoch 65 tst: l 1.143 a 0.754  clct[20, 20] ans[20, 20] cl_acc 1.000 2.255sec\n"
     ]
    },
    {
     "name": "stdout",
     "output_type": "stream",
     "text": [
      "Epoch 66 tr: l 1.128 a 0.746  clct[26, 34] ans[26, 34] lr 0.128784 cl_acc 1.000 44.076sec(train) 3.630sec(infer)\n"
     ]
    },
    {
     "name": "stdout",
     "output_type": "stream",
     "text": [
      "Epoch 66 tst: l 1.104 a 0.755  clct[20, 20] ans[20, 20] cl_acc 1.000 2.248sec\n"
     ]
    },
    {
     "name": "stdout",
     "output_type": "stream",
     "text": [
      "Epoch 67 tr: l 1.154 a 0.743  clct[30, 30] ans[30, 30] lr 0.127496 cl_acc 1.000 44.089sec(train) 3.755sec(infer)\n"
     ]
    },
    {
     "name": "stdout",
     "output_type": "stream",
     "text": [
      "Epoch 67 tst: l 1.108 a 0.759  clct[20, 20] ans[20, 20] cl_acc 1.000 2.322sec\n"
     ]
    },
    {
     "name": "stdout",
     "output_type": "stream",
     "text": [
      "Epoch 68 tr: l 1.197 a 0.741  clct[32, 28] ans[32, 28] lr 0.126221 cl_acc 1.000 44.012sec(train) 3.648sec(infer)\n"
     ]
    },
    {
     "name": "stdout",
     "output_type": "stream",
     "text": [
      "Epoch 68 tst: l 1.187 a 0.751  clct[20, 20] ans[20, 20] cl_acc 1.000 2.211sec\n"
     ]
    },
    {
     "name": "stdout",
     "output_type": "stream",
     "text": [
      "Epoch 69 tr: l 1.205 a 0.731  clct[30, 30] ans[30, 30] lr 0.124959 cl_acc 1.000 43.785sec(train) 3.562sec(infer)\n"
     ]
    },
    {
     "name": "stdout",
     "output_type": "stream",
     "text": [
      "Epoch 69 tst: l 1.176 a 0.746  clct[20, 20] ans[20, 20] cl_acc 1.000 2.202sec\n"
     ]
    },
    {
     "name": "stdout",
     "output_type": "stream",
     "text": [
      "Epoch 70 tr: l 1.228 a 0.734  clct[29, 31] ans[29, 31] lr 0.123710 cl_acc 1.000 43.850sec(train) 3.642sec(infer)\n"
     ]
    },
    {
     "name": "stdout",
     "output_type": "stream",
     "text": [
      "Epoch 70 tst: l 1.190 a 0.746  clct[20, 20] ans[20, 20] cl_acc 1.000 2.234sec\n",
      "result written at output/results.pickle\n"
     ]
    },
    {
     "name": "stdout",
     "output_type": "stream",
     "text": [
      "Epoch 71 tr: l 1.190 a 0.742  clct[34, 26] ans[34, 26] lr 0.122473 cl_acc 1.000 43.871sec(train) 3.629sec(infer)\n"
     ]
    },
    {
     "name": "stdout",
     "output_type": "stream",
     "text": [
      "Epoch 71 tst: l 1.223 a 0.739  clct[20, 20] ans[20, 20] cl_acc 1.000 2.385sec\n"
     ]
    },
    {
     "name": "stdout",
     "output_type": "stream",
     "text": [
      "Epoch 72 tr: l 1.142 a 0.743  clct[29, 31] ans[29, 31] lr 0.121248 cl_acc 1.000 43.976sec(train) 3.607sec(infer)\n"
     ]
    },
    {
     "name": "stdout",
     "output_type": "stream",
     "text": [
      "Epoch 72 tst: l 1.116 a 0.756  clct[20, 20] ans[20, 20] cl_acc 1.000 2.260sec\n"
     ]
    },
    {
     "name": "stdout",
     "output_type": "stream",
     "text": [
      "Epoch 73 tr: l 1.095 a 0.757  clct[28, 32] ans[28, 32] lr 0.120035 cl_acc 1.000 43.762sec(train) 3.669sec(infer)\n"
     ]
    },
    {
     "name": "stdout",
     "output_type": "stream",
     "text": [
      "Epoch 73 tst: l 1.135 a 0.750  clct[20, 20] ans[20, 20] cl_acc 1.000 2.294sec\n"
     ]
    },
    {
     "name": "stdout",
     "output_type": "stream",
     "text": [
      "Epoch 74 tr: l 1.164 a 0.740  clct[27, 33] ans[27, 33] lr 0.118835 cl_acc 1.000 43.690sec(train) 3.641sec(infer)\n"
     ]
    },
    {
     "name": "stdout",
     "output_type": "stream",
     "text": [
      "Epoch 74 tst: l 1.148 a 0.751  clct[20, 20] ans[20, 20] cl_acc 1.000 2.289sec\n"
     ]
    },
    {
     "name": "stdout",
     "output_type": "stream",
     "text": [
      "Epoch 75 tr: l 1.155 a 0.740  clct[29, 31] ans[29, 31] lr 0.117647 cl_acc 1.000 43.751sec(train) 3.718sec(infer)\n"
     ]
    },
    {
     "name": "stdout",
     "output_type": "stream",
     "text": [
      "Epoch 75 tst: l 1.134 a 0.749  clct[20, 20] ans[20, 20] cl_acc 1.000 2.241sec\n"
     ]
    },
    {
     "name": "stdout",
     "output_type": "stream",
     "text": [
      "Epoch 76 tr: l 1.166 a 0.737  clct[28, 32] ans[28, 32] lr 0.116470 cl_acc 1.000 44.180sec(train) 3.703sec(infer)\n"
     ]
    },
    {
     "name": "stdout",
     "output_type": "stream",
     "text": [
      "Epoch 76 tst: l 1.169 a 0.745  clct[20, 20] ans[20, 20] cl_acc 1.000 2.226sec\n"
     ]
    },
    {
     "name": "stdout",
     "output_type": "stream",
     "text": [
      "Epoch 77 tr: l 1.190 a 0.733  clct[29, 31] ans[29, 31] lr 0.115305 cl_acc 1.000 44.027sec(train) 3.639sec(infer)\n"
     ]
    },
    {
     "name": "stdout",
     "output_type": "stream",
     "text": [
      "Epoch 77 tst: l 1.202 a 0.737  clct[20, 20] ans[20, 20] cl_acc 1.000 2.236sec\n"
     ]
    },
    {
     "name": "stdout",
     "output_type": "stream",
     "text": [
      "Epoch 78 tr: l 1.178 a 0.736  clct[27, 33] ans[27, 33] lr 0.114152 cl_acc 1.000 44.225sec(train) 3.650sec(infer)\n"
     ]
    },
    {
     "name": "stdout",
     "output_type": "stream",
     "text": [
      "Epoch 78 tst: l 1.188 a 0.742  clct[20, 20] ans[20, 20] cl_acc 1.000 2.249sec\n"
     ]
    },
    {
     "name": "stdout",
     "output_type": "stream",
     "text": [
      "Epoch 79 tr: l 1.088 a 0.754  clct[26, 34] ans[26, 34] lr 0.113011 cl_acc 1.000 43.946sec(train) 3.607sec(infer)\n"
     ]
    },
    {
     "name": "stdout",
     "output_type": "stream",
     "text": [
      "Epoch 79 tst: l 1.103 a 0.755  clct[20, 20] ans[20, 20] cl_acc 1.000 2.273sec\n"
     ]
    },
    {
     "name": "stdout",
     "output_type": "stream",
     "text": [
      "Epoch 80 tr: l 1.111 a 0.745  clct[34, 26] ans[34, 26] lr 0.111881 cl_acc 1.000 44.072sec(train) 3.586sec(infer)\n"
     ]
    },
    {
     "name": "stdout",
     "output_type": "stream",
     "text": [
      "Epoch 80 tst: l 1.122 a 0.750  clct[20, 20] ans[20, 20] cl_acc 1.000 2.246sec\n",
      "result written at output/results.pickle\n"
     ]
    },
    {
     "name": "stdout",
     "output_type": "stream",
     "text": [
      "Epoch 81 tr: l 1.073 a 0.758  clct[28, 32] ans[28, 32] lr 0.110762 cl_acc 1.000 44.063sec(train) 3.598sec(infer)\n"
     ]
    },
    {
     "name": "stdout",
     "output_type": "stream",
     "text": [
      "Epoch 81 tst: l 1.135 a 0.747  clct[20, 20] ans[20, 20] cl_acc 1.000 2.275sec\n"
     ]
    },
    {
     "name": "stdout",
     "output_type": "stream",
     "text": [
      "Epoch 82 tr: l 1.124 a 0.745  clct[28, 32] ans[28, 32] lr 0.109654 cl_acc 1.000 44.046sec(train) 3.689sec(infer)\n"
     ]
    },
    {
     "name": "stdout",
     "output_type": "stream",
     "text": [
      "Epoch 82 tst: l 1.119 a 0.756  clct[20, 20] ans[20, 20] cl_acc 1.000 2.277sec\n"
     ]
    },
    {
     "name": "stdout",
     "output_type": "stream",
     "text": [
      "Epoch 83 tr: l 1.113 a 0.748  clct[30, 30] ans[30, 30] lr 0.108558 cl_acc 1.000 44.073sec(train) 3.546sec(infer)\n"
     ]
    },
    {
     "name": "stdout",
     "output_type": "stream",
     "text": [
      "Epoch 83 tst: l 1.119 a 0.755  clct[20, 20] ans[20, 20] cl_acc 1.000 2.246sec\n"
     ]
    },
    {
     "name": "stdout",
     "output_type": "stream",
     "text": [
      "Epoch 84 tr: l 1.074 a 0.763  clct[35, 25] ans[35, 25] lr 0.107472 cl_acc 1.000 43.725sec(train) 3.576sec(infer)\n"
     ]
    },
    {
     "name": "stdout",
     "output_type": "stream",
     "text": [
      "Epoch 84 tst: l 1.100 a 0.768  clct[20, 20] ans[20, 20] cl_acc 1.000 2.252sec\n"
     ]
    },
    {
     "name": "stdout",
     "output_type": "stream",
     "text": [
      "Epoch 85 tr: l 1.092 a 0.757  clct[25, 35] ans[25, 35] lr 0.106398 cl_acc 1.000 44.235sec(train) 3.688sec(infer)\n"
     ]
    },
    {
     "name": "stdout",
     "output_type": "stream",
     "text": [
      "Epoch 85 tst: l 1.095 a 0.765  clct[20, 20] ans[20, 20] cl_acc 1.000 2.227sec\n"
     ]
    },
    {
     "name": "stdout",
     "output_type": "stream",
     "text": [
      "Epoch 86 tr: l 1.044 a 0.766  clct[28, 32] ans[28, 32] lr 0.105334 cl_acc 1.000 44.152sec(train) 3.537sec(infer)\n"
     ]
    },
    {
     "name": "stdout",
     "output_type": "stream",
     "text": [
      "Epoch 86 tst: l 1.077 a 0.764  clct[20, 20] ans[20, 20] cl_acc 1.000 2.247sec\n"
     ]
    },
    {
     "name": "stdout",
     "output_type": "stream",
     "text": [
      "Epoch 87 tr: l 1.083 a 0.753  clct[31, 29] ans[31, 29] lr 0.104280 cl_acc 1.000 44.110sec(train) 3.668sec(infer)\n"
     ]
    },
    {
     "name": "stdout",
     "output_type": "stream",
     "text": [
      "Epoch 87 tst: l 1.088 a 0.759  clct[20, 20] ans[20, 20] cl_acc 1.000 2.327sec\n"
     ]
    },
    {
     "name": "stdout",
     "output_type": "stream",
     "text": [
      "Epoch 88 tr: l 1.116 a 0.743  clct[31, 29] ans[31, 29] lr 0.103237 cl_acc 1.000 43.984sec(train) 3.701sec(infer)\n"
     ]
    },
    {
     "name": "stdout",
     "output_type": "stream",
     "text": [
      "Epoch 88 tst: l 1.114 a 0.754  clct[20, 20] ans[20, 20] cl_acc 1.000 2.315sec\n"
     ]
    },
    {
     "name": "stdout",
     "output_type": "stream",
     "text": [
      "Epoch 89 tr: l 1.045 a 0.767  clct[24, 36] ans[24, 36] lr 0.102205 cl_acc 1.000 43.598sec(train) 3.754sec(infer)\n"
     ]
    },
    {
     "name": "stdout",
     "output_type": "stream",
     "text": [
      "Epoch 89 tst: l 1.057 a 0.768  clct[20, 20] ans[20, 20] cl_acc 1.000 2.268sec\n"
     ]
    },
    {
     "name": "stdout",
     "output_type": "stream",
     "text": [
      "Epoch 90 tr: l 1.095 a 0.750  clct[29, 31] ans[29, 31] lr 0.101183 cl_acc 1.000 43.793sec(train) 3.607sec(infer)\n"
     ]
    },
    {
     "name": "stdout",
     "output_type": "stream",
     "text": [
      "Epoch 90 tst: l 1.089 a 0.761  clct[20, 20] ans[20, 20] cl_acc 1.000 2.315sec\n",
      "result written at output/results.pickle\n"
     ]
    },
    {
     "name": "stdout",
     "output_type": "stream",
     "text": [
      "Epoch 91 tr: l 1.046 a 0.757  clct[30, 30] ans[30, 30] lr 0.100171 cl_acc 1.000 43.562sec(train) 3.587sec(infer)\n"
     ]
    },
    {
     "name": "stdout",
     "output_type": "stream",
     "text": [
      "Epoch 91 tst: l 1.072 a 0.756  clct[20, 20] ans[20, 20] cl_acc 1.000 2.233sec\n"
     ]
    },
    {
     "name": "stdout",
     "output_type": "stream",
     "text": [
      "Epoch 92 tr: l 1.046 a 0.765  clct[33, 27] ans[33, 27] lr 0.099169 cl_acc 1.000 43.655sec(train) 3.559sec(infer)\n"
     ]
    },
    {
     "name": "stdout",
     "output_type": "stream",
     "text": [
      "Epoch 92 tst: l 1.037 a 0.773  clct[20, 20] ans[20, 20] cl_acc 1.000 2.231sec\n"
     ]
    },
    {
     "name": "stdout",
     "output_type": "stream",
     "text": [
      "Epoch 93 tr: l 1.044 a 0.761  clct[27, 33] ans[27, 33] lr 0.098178 cl_acc 1.000 43.814sec(train) 3.694sec(infer)\n"
     ]
    },
    {
     "name": "stdout",
     "output_type": "stream",
     "text": [
      "Epoch 93 tst: l 1.006 a 0.778  clct[20, 20] ans[20, 20] cl_acc 1.000 2.321sec\n"
     ]
    },
    {
     "name": "stdout",
     "output_type": "stream",
     "text": [
      "Epoch 94 tr: l 1.017 a 0.770  clct[29, 31] ans[29, 31] lr 0.097196 cl_acc 1.000 44.118sec(train) 3.634sec(infer)\n"
     ]
    },
    {
     "name": "stdout",
     "output_type": "stream",
     "text": [
      "Epoch 94 tst: l 1.050 a 0.767  clct[20, 20] ans[20, 20] cl_acc 1.000 2.246sec\n"
     ]
    },
    {
     "name": "stdout",
     "output_type": "stream",
     "text": [
      "Epoch 95 tr: l 1.067 a 0.758  clct[26, 34] ans[26, 34] lr 0.096224 cl_acc 1.000 43.915sec(train) 3.591sec(infer)\n"
     ]
    },
    {
     "name": "stdout",
     "output_type": "stream",
     "text": [
      "Epoch 95 tst: l 1.061 a 0.769  clct[20, 20] ans[20, 20] cl_acc 1.000 2.202sec\n"
     ]
    },
    {
     "name": "stdout",
     "output_type": "stream",
     "text": [
      "Epoch 96 tr: l 1.089 a 0.748  clct[28, 32] ans[28, 32] lr 0.095262 cl_acc 1.000 44.083sec(train) 3.538sec(infer)\n"
     ]
    },
    {
     "name": "stdout",
     "output_type": "stream",
     "text": [
      "Epoch 96 tst: l 1.099 a 0.753  clct[20, 20] ans[20, 20] cl_acc 1.000 2.278sec\n"
     ]
    },
    {
     "name": "stdout",
     "output_type": "stream",
     "text": [
      "Epoch 97 tr: l 1.009 a 0.764  clct[30, 30] ans[30, 30] lr 0.094309 cl_acc 1.000 43.835sec(train) 3.583sec(infer)\n"
     ]
    },
    {
     "name": "stdout",
     "output_type": "stream",
     "text": [
      "Epoch 97 tst: l 1.017 a 0.768  clct[20, 20] ans[20, 20] cl_acc 1.000 2.160sec\n"
     ]
    },
    {
     "name": "stdout",
     "output_type": "stream",
     "text": [
      "Epoch 98 tr: l 1.079 a 0.754  clct[34, 26] ans[34, 26] lr 0.093366 cl_acc 1.000 43.939sec(train) 3.729sec(infer)\n"
     ]
    },
    {
     "name": "stdout",
     "output_type": "stream",
     "text": [
      "Epoch 98 tst: l 1.029 a 0.768  clct[20, 20] ans[20, 20] cl_acc 1.000 2.267sec\n"
     ]
    },
    {
     "name": "stdout",
     "output_type": "stream",
     "text": [
      "Epoch 99 tr: l 0.996 a 0.768  clct[29, 31] ans[29, 31] lr 0.092432 cl_acc 1.000 43.815sec(train) 3.697sec(infer)\n"
     ]
    },
    {
     "name": "stdout",
     "output_type": "stream",
     "text": [
      "Epoch 99 tst: l 0.998 a 0.772  clct[20, 20] ans[20, 20] cl_acc 1.000 2.300sec\n"
     ]
    },
    {
     "name": "stdout",
     "output_type": "stream",
     "text": [
      "Epoch 100 tr: l 1.045 a 0.766  clct[25, 35] ans[25, 35] lr 0.091508 cl_acc 1.000 44.119sec(train) 3.678sec(infer)\n"
     ]
    },
    {
     "name": "stdout",
     "output_type": "stream",
     "text": [
      "Epoch 100 tst: l 1.052 a 0.766  clct[20, 20] ans[20, 20] cl_acc 1.000 2.284sec\n",
      "result written at output/results.pickle\n"
     ]
    },
    {
     "name": "stdout",
     "output_type": "stream",
     "text": [
      "Epoch 101 tr: l 0.951 a 0.779  clct[32, 28] ans[32, 28] lr 0.090593 cl_acc 1.000 43.957sec(train) 3.651sec(infer)\n"
     ]
    },
    {
     "name": "stdout",
     "output_type": "stream",
     "text": [
      "Epoch 101 tst: l 1.003 a 0.770  clct[20, 20] ans[20, 20] cl_acc 1.000 2.270sec\n"
     ]
    },
    {
     "name": "stdout",
     "output_type": "stream",
     "text": [
      "Epoch 102 tr: l 1.020 a 0.767  clct[30, 30] ans[30, 30] lr 0.089687 cl_acc 1.000 43.988sec(train) 3.745sec(infer)\n"
     ]
    },
    {
     "name": "stdout",
     "output_type": "stream",
     "text": [
      "Epoch 102 tst: l 1.024 a 0.769  clct[20, 20] ans[20, 20] cl_acc 1.000 2.340sec\n"
     ]
    },
    {
     "name": "stdout",
     "output_type": "stream",
     "text": [
      "Epoch 103 tr: l 0.989 a 0.772  clct[31, 29] ans[31, 29] lr 0.088790 cl_acc 1.000 44.111sec(train) 3.737sec(infer)\n"
     ]
    },
    {
     "name": "stdout",
     "output_type": "stream",
     "text": [
      "Epoch 103 tst: l 0.993 a 0.777  clct[20, 20] ans[20, 20] cl_acc 1.000 2.335sec\n"
     ]
    },
    {
     "name": "stdout",
     "output_type": "stream",
     "text": [
      "Epoch 104 tr: l 0.983 a 0.776  clct[30, 30] ans[30, 30] lr 0.087902 cl_acc 1.000 44.032sec(train) 3.647sec(infer)\n"
     ]
    },
    {
     "name": "stdout",
     "output_type": "stream",
     "text": [
      "Epoch 104 tst: l 1.007 a 0.774  clct[20, 20] ans[20, 20] cl_acc 1.000 2.228sec\n"
     ]
    },
    {
     "name": "stdout",
     "output_type": "stream",
     "text": [
      "Epoch 105 tr: l 0.935 a 0.785  clct[34, 26] ans[34, 26] lr 0.087023 cl_acc 1.000 44.120sec(train) 3.731sec(infer)\n"
     ]
    },
    {
     "name": "stdout",
     "output_type": "stream",
     "text": [
      "Epoch 105 tst: l 0.974 a 0.784  clct[20, 20] ans[20, 20] cl_acc 1.000 2.313sec\n"
     ]
    },
    {
     "name": "stdout",
     "output_type": "stream",
     "text": [
      "Epoch 106 tr: l 0.968 a 0.779  clct[32, 28] ans[32, 28] lr 0.086153 cl_acc 1.000 43.985sec(train) 3.789sec(infer)\n"
     ]
    },
    {
     "name": "stdout",
     "output_type": "stream",
     "text": [
      "Epoch 106 tst: l 0.990 a 0.778  clct[20, 20] ans[20, 20] cl_acc 1.000 2.271sec\n"
     ]
    },
    {
     "name": "stdout",
     "output_type": "stream",
     "text": [
      "Epoch 107 tr: l 0.961 a 0.779  clct[27, 33] ans[27, 33] lr 0.085292 cl_acc 1.000 43.950sec(train) 3.737sec(infer)\n"
     ]
    },
    {
     "name": "stdout",
     "output_type": "stream",
     "text": [
      "Epoch 107 tst: l 0.996 a 0.779  clct[20, 20] ans[20, 20] cl_acc 1.000 2.320sec\n"
     ]
    },
    {
     "name": "stdout",
     "output_type": "stream",
     "text": [
      "Epoch 108 tr: l 1.000 a 0.766  clct[33, 27] ans[33, 27] lr 0.084439 cl_acc 1.000 44.127sec(train) 3.620sec(infer)\n"
     ]
    },
    {
     "name": "stdout",
     "output_type": "stream",
     "text": [
      "Epoch 108 tst: l 1.016 a 0.772  clct[20, 20] ans[20, 20] cl_acc 1.000 2.295sec\n"
     ]
    },
    {
     "name": "stdout",
     "output_type": "stream",
     "text": [
      "Epoch 109 tr: l 0.962 a 0.781  clct[31, 29] ans[31, 29] lr 0.083594 cl_acc 1.000 43.892sec(train) 3.733sec(infer)\n"
     ]
    },
    {
     "name": "stdout",
     "output_type": "stream",
     "text": [
      "Epoch 109 tst: l 0.990 a 0.775  clct[20, 20] ans[20, 20] cl_acc 1.000 2.274sec\n"
     ]
    },
    {
     "name": "stdout",
     "output_type": "stream",
     "text": [
      "Epoch 110 tr: l 0.948 a 0.781  clct[25, 35] ans[25, 35] lr 0.082758 cl_acc 1.000 43.890sec(train) 3.739sec(infer)\n"
     ]
    },
    {
     "name": "stdout",
     "output_type": "stream",
     "text": [
      "Epoch 110 tst: l 0.993 a 0.775  clct[20, 20] ans[20, 20] cl_acc 1.000 2.399sec\n",
      "result written at output/results.pickle\n"
     ]
    },
    {
     "name": "stdout",
     "output_type": "stream",
     "text": [
      "Epoch 111 tr: l 0.968 a 0.776  clct[29, 31] ans[29, 31] lr 0.081931 cl_acc 1.000 43.853sec(train) 3.737sec(infer)\n"
     ]
    },
    {
     "name": "stdout",
     "output_type": "stream",
     "text": [
      "Epoch 111 tst: l 0.996 a 0.779  clct[20, 20] ans[20, 20] cl_acc 1.000 2.346sec\n"
     ]
    },
    {
     "name": "stdout",
     "output_type": "stream",
     "text": [
      "Epoch 112 tr: l 0.946 a 0.788  clct[29, 31] ans[29, 31] lr 0.081111 cl_acc 1.000 43.975sec(train) 3.668sec(infer)\n"
     ]
    },
    {
     "name": "stdout",
     "output_type": "stream",
     "text": [
      "Epoch 112 tst: l 0.993 a 0.776  clct[20, 20] ans[20, 20] cl_acc 1.000 2.331sec\n"
     ]
    },
    {
     "name": "stdout",
     "output_type": "stream",
     "text": [
      "Epoch 113 tr: l 0.932 a 0.788  clct[30, 30] ans[30, 30] lr 0.080300 cl_acc 1.000 44.205sec(train) 3.686sec(infer)\n"
     ]
    },
    {
     "name": "stdout",
     "output_type": "stream",
     "text": [
      "Epoch 113 tst: l 1.018 a 0.776  clct[20, 20] ans[20, 20] cl_acc 1.000 2.374sec\n"
     ]
    },
    {
     "name": "stdout",
     "output_type": "stream",
     "text": [
      "Epoch 114 tr: l 0.931 a 0.786  clct[30, 30] ans[30, 30] lr 0.079497 cl_acc 1.000 44.189sec(train) 3.696sec(infer)\n"
     ]
    },
    {
     "name": "stdout",
     "output_type": "stream",
     "text": [
      "Epoch 114 tst: l 0.985 a 0.778  clct[20, 20] ans[20, 20] cl_acc 1.000 2.395sec\n"
     ]
    },
    {
     "name": "stdout",
     "output_type": "stream",
     "text": [
      "Epoch 115 tr: l 0.945 a 0.784  clct[31, 29] ans[31, 29] lr 0.078702 cl_acc 1.000 44.173sec(train) 3.767sec(infer)\n"
     ]
    },
    {
     "name": "stdout",
     "output_type": "stream",
     "text": [
      "Epoch 115 tst: l 0.969 a 0.782  clct[20, 20] ans[20, 20] cl_acc 1.000 2.332sec\n"
     ]
    },
    {
     "name": "stdout",
     "output_type": "stream",
     "text": [
      "Epoch 116 tr: l 0.937 a 0.784  clct[30, 30] ans[30, 30] lr 0.077915 cl_acc 1.000 43.991sec(train) 3.745sec(infer)\n"
     ]
    },
    {
     "name": "stdout",
     "output_type": "stream",
     "text": [
      "Epoch 116 tst: l 0.988 a 0.776  clct[20, 20] ans[20, 20] cl_acc 1.000 2.377sec\n"
     ]
    },
    {
     "name": "stdout",
     "output_type": "stream",
     "text": [
      "Epoch 117 tr: l 0.972 a 0.767  clct[29, 31] ans[29, 31] lr 0.077136 cl_acc 1.000 44.220sec(train) 3.621sec(infer)\n"
     ]
    },
    {
     "name": "stdout",
     "output_type": "stream",
     "text": [
      "Epoch 117 tst: l 0.989 a 0.767  clct[20, 20] ans[20, 20] cl_acc 1.000 2.302sec\n"
     ]
    },
    {
     "name": "stdout",
     "output_type": "stream",
     "text": [
      "Epoch 118 tr: l 0.926 a 0.786  clct[35, 25] ans[35, 25] lr 0.076365 cl_acc 1.000 44.148sec(train) 3.760sec(infer)\n"
     ]
    },
    {
     "name": "stdout",
     "output_type": "stream",
     "text": [
      "Epoch 118 tst: l 0.971 a 0.782  clct[20, 20] ans[20, 20] cl_acc 1.000 2.285sec\n"
     ]
    },
    {
     "name": "stdout",
     "output_type": "stream",
     "text": [
      "Epoch 119 tr: l 0.919 a 0.788  clct[30, 30] ans[30, 30] lr 0.075601 cl_acc 1.000 44.024sec(train) 3.692sec(infer)\n"
     ]
    },
    {
     "name": "stdout",
     "output_type": "stream",
     "text": [
      "Epoch 119 tst: l 0.954 a 0.787  clct[20, 20] ans[20, 20] cl_acc 1.000 2.332sec\n"
     ]
    },
    {
     "name": "stdout",
     "output_type": "stream",
     "text": [
      "Epoch 120 tr: l 0.939 a 0.784  clct[28, 32] ans[28, 32] lr 0.074845 cl_acc 1.000 43.769sec(train) 3.727sec(infer)\n"
     ]
    },
    {
     "name": "stdout",
     "output_type": "stream",
     "text": [
      "Epoch 120 tst: l 0.972 a 0.780  clct[20, 20] ans[20, 20] cl_acc 1.000 2.350sec\n",
      "result written at output/results.pickle\n"
     ]
    },
    {
     "name": "stdout",
     "output_type": "stream",
     "text": [
      "Epoch 121 tr: l 0.922 a 0.788  clct[31, 29] ans[31, 29] lr 0.074097 cl_acc 1.000 44.213sec(train) 3.644sec(infer)\n"
     ]
    },
    {
     "name": "stdout",
     "output_type": "stream",
     "text": [
      "Epoch 121 tst: l 0.966 a 0.783  clct[20, 20] ans[20, 20] cl_acc 1.000 2.306sec\n"
     ]
    },
    {
     "name": "stdout",
     "output_type": "stream",
     "text": [
      "Epoch 122 tr: l 0.931 a 0.787  clct[31, 29] ans[31, 29] lr 0.073356 cl_acc 1.000 44.281sec(train) 3.817sec(infer)\n"
     ]
    },
    {
     "name": "stdout",
     "output_type": "stream",
     "text": [
      "Epoch 122 tst: l 0.961 a 0.785  clct[20, 20] ans[20, 20] cl_acc 1.000 2.335sec\n"
     ]
    },
    {
     "name": "stdout",
     "output_type": "stream",
     "text": [
      "Epoch 123 tr: l 0.919 a 0.786  clct[36, 24] ans[36, 24] lr 0.072622 cl_acc 1.000 44.116sec(train) 3.686sec(infer)\n"
     ]
    },
    {
     "name": "stdout",
     "output_type": "stream",
     "text": [
      "Epoch 123 tst: l 0.946 a 0.783  clct[20, 20] ans[20, 20] cl_acc 1.000 2.344sec\n"
     ]
    },
    {
     "name": "stdout",
     "output_type": "stream",
     "text": [
      "Epoch 124 tr: l 0.897 a 0.792  clct[31, 29] ans[31, 29] lr 0.071896 cl_acc 1.000 44.099sec(train) 3.615sec(infer)\n"
     ]
    },
    {
     "name": "stdout",
     "output_type": "stream",
     "text": [
      "Epoch 124 tst: l 0.937 a 0.792  clct[20, 20] ans[20, 20] cl_acc 1.000 2.393sec\n"
     ]
    },
    {
     "name": "stdout",
     "output_type": "stream",
     "text": [
      "Epoch 125 tr: l 0.886 a 0.800  clct[23, 37] ans[23, 37] lr 0.071177 cl_acc 1.000 43.976sec(train) 3.663sec(infer)\n"
     ]
    },
    {
     "name": "stdout",
     "output_type": "stream",
     "text": [
      "Epoch 125 tst: l 0.937 a 0.792  clct[20, 20] ans[20, 20] cl_acc 1.000 2.309sec\n"
     ]
    },
    {
     "name": "stdout",
     "output_type": "stream",
     "text": [
      "Epoch 126 tr: l 0.882 a 0.798  clct[31, 29] ans[31, 29] lr 0.070465 cl_acc 1.000 44.159sec(train) 3.707sec(infer)\n"
     ]
    },
    {
     "name": "stdout",
     "output_type": "stream",
     "text": [
      "Epoch 126 tst: l 0.944 a 0.783  clct[20, 20] ans[20, 20] cl_acc 1.000 2.374sec\n"
     ]
    },
    {
     "name": "stdout",
     "output_type": "stream",
     "text": [
      "Epoch 127 tr: l 0.870 a 0.796  clct[26, 34] ans[26, 34] lr 0.069761 cl_acc 1.000 44.000sec(train) 3.802sec(infer)\n"
     ]
    },
    {
     "name": "stdout",
     "output_type": "stream",
     "text": [
      "Epoch 127 tst: l 0.930 a 0.786  clct[20, 20] ans[20, 20] cl_acc 1.000 2.395sec\n"
     ]
    },
    {
     "name": "stdout",
     "output_type": "stream",
     "text": [
      "Epoch 128 tr: l 0.873 a 0.798  clct[30, 30] ans[30, 30] lr 0.069063 cl_acc 1.000 43.963sec(train) 3.812sec(infer)\n"
     ]
    },
    {
     "name": "stdout",
     "output_type": "stream",
     "text": [
      "Epoch 128 tst: l 0.935 a 0.790  clct[20, 20] ans[20, 20] cl_acc 1.000 2.306sec\n"
     ]
    },
    {
     "name": "stdout",
     "output_type": "stream",
     "text": [
      "Epoch 129 tr: l 0.886 a 0.793  clct[31, 29] ans[31, 29] lr 0.068372 cl_acc 1.000 44.342sec(train) 3.726sec(infer)\n"
     ]
    },
    {
     "name": "stdout",
     "output_type": "stream",
     "text": [
      "Epoch 129 tst: l 0.920 a 0.792  clct[20, 20] ans[20, 20] cl_acc 1.000 2.320sec\n"
     ]
    },
    {
     "name": "stdout",
     "output_type": "stream",
     "text": [
      "Epoch 130 tr: l 0.844 a 0.804  clct[35, 25] ans[35, 25] lr 0.067689 cl_acc 1.000 44.297sec(train) 3.742sec(infer)\n"
     ]
    },
    {
     "name": "stdout",
     "output_type": "stream",
     "text": [
      "Epoch 130 tst: l 0.911 a 0.793  clct[20, 20] ans[20, 20] cl_acc 1.000 2.333sec\n",
      "result written at output/results.pickle\n"
     ]
    },
    {
     "name": "stdout",
     "output_type": "stream",
     "text": [
      "Epoch 131 tr: l 0.907 a 0.788  clct[26, 34] ans[26, 34] lr 0.067012 cl_acc 1.000 44.372sec(train) 3.634sec(infer)\n"
     ]
    },
    {
     "name": "stdout",
     "output_type": "stream",
     "text": [
      "Epoch 131 tst: l 0.938 a 0.786  clct[20, 20] ans[20, 20] cl_acc 1.000 2.297sec\n"
     ]
    },
    {
     "name": "stdout",
     "output_type": "stream",
     "text": [
      "Epoch 132 tr: l 0.889 a 0.793  clct[25, 35] ans[25, 35] lr 0.066342 cl_acc 1.000 44.060sec(train) 3.761sec(infer)\n"
     ]
    },
    {
     "name": "stdout",
     "output_type": "stream",
     "text": [
      "Epoch 132 tst: l 0.907 a 0.793  clct[20, 20] ans[20, 20] cl_acc 1.000 2.347sec\n"
     ]
    },
    {
     "name": "stdout",
     "output_type": "stream",
     "text": [
      "Epoch 133 tr: l 0.897 a 0.787  clct[31, 29] ans[31, 29] lr 0.065678 cl_acc 1.000 44.056sec(train) 3.760sec(infer)\n"
     ]
    },
    {
     "name": "stdout",
     "output_type": "stream",
     "text": [
      "Epoch 133 tst: l 0.924 a 0.787  clct[20, 20] ans[20, 20] cl_acc 1.000 2.331sec\n"
     ]
    },
    {
     "name": "stdout",
     "output_type": "stream",
     "text": [
      "Epoch 134 tr: l 0.869 a 0.803  clct[29, 31] ans[29, 31] lr 0.065021 cl_acc 1.000 44.018sec(train) 3.699sec(infer)\n"
     ]
    },
    {
     "name": "stdout",
     "output_type": "stream",
     "text": [
      "Epoch 134 tst: l 0.912 a 0.795  clct[20, 20] ans[20, 20] cl_acc 1.000 2.266sec\n"
     ]
    },
    {
     "name": "stdout",
     "output_type": "stream",
     "text": [
      "Epoch 135 tr: l 0.893 a 0.789  clct[29, 31] ans[29, 31] lr 0.064371 cl_acc 1.000 43.921sec(train) 3.692sec(infer)\n"
     ]
    },
    {
     "name": "stdout",
     "output_type": "stream",
     "text": [
      "Epoch 135 tst: l 0.934 a 0.784  clct[20, 20] ans[20, 20] cl_acc 1.000 2.293sec\n"
     ]
    },
    {
     "name": "stdout",
     "output_type": "stream",
     "text": [
      "Epoch 136 tr: l 0.864 a 0.797  clct[32, 28] ans[32, 28] lr 0.063727 cl_acc 1.000 44.316sec(train) 3.759sec(infer)\n"
     ]
    },
    {
     "name": "stdout",
     "output_type": "stream",
     "text": [
      "Epoch 136 tst: l 0.924 a 0.788  clct[20, 20] ans[20, 20] cl_acc 1.000 2.324sec\n"
     ]
    },
    {
     "name": "stdout",
     "output_type": "stream",
     "text": [
      "Epoch 137 tr: l 0.859 a 0.795  clct[36, 24] ans[36, 24] lr 0.063090 cl_acc 1.000 44.239sec(train) 3.749sec(infer)\n"
     ]
    },
    {
     "name": "stdout",
     "output_type": "stream",
     "text": [
      "Epoch 137 tst: l 0.896 a 0.793  clct[20, 20] ans[20, 20] cl_acc 1.000 2.283sec\n"
     ]
    },
    {
     "name": "stdout",
     "output_type": "stream",
     "text": [
      "Epoch 138 tr: l 0.860 a 0.800  clct[27, 33] ans[27, 33] lr 0.062459 cl_acc 1.000 44.154sec(train) 3.821sec(infer)\n"
     ]
    },
    {
     "name": "stdout",
     "output_type": "stream",
     "text": [
      "Epoch 138 tst: l 0.901 a 0.794  clct[20, 20] ans[20, 20] cl_acc 1.000 2.359sec\n"
     ]
    },
    {
     "name": "stdout",
     "output_type": "stream",
     "text": [
      "Epoch 139 tr: l 0.837 a 0.805  clct[33, 27] ans[33, 27] lr 0.061835 cl_acc 1.000 44.545sec(train) 3.801sec(infer)\n"
     ]
    },
    {
     "name": "stdout",
     "output_type": "stream",
     "text": [
      "Epoch 139 tst: l 0.909 a 0.791  clct[20, 20] ans[20, 20] cl_acc 1.000 2.418sec\n"
     ]
    },
    {
     "name": "stdout",
     "output_type": "stream",
     "text": [
      "Epoch 140 tr: l 0.823 a 0.810  clct[29, 31] ans[29, 31] lr 0.061216 cl_acc 1.000 44.074sec(train) 3.721sec(infer)\n"
     ]
    },
    {
     "name": "stdout",
     "output_type": "stream",
     "text": [
      "Epoch 140 tst: l 0.904 a 0.792  clct[20, 20] ans[20, 20] cl_acc 1.000 2.413sec\n",
      "result written at output/results.pickle\n"
     ]
    },
    {
     "name": "stdout",
     "output_type": "stream",
     "text": [
      "Epoch 141 tr: l 0.869 a 0.796  clct[35, 25] ans[35, 25] lr 0.060604 cl_acc 1.000 44.121sec(train) 3.735sec(infer)\n"
     ]
    },
    {
     "name": "stdout",
     "output_type": "stream",
     "text": [
      "Epoch 141 tst: l 0.928 a 0.787  clct[20, 20] ans[20, 20] cl_acc 1.000 2.265sec\n"
     ]
    },
    {
     "name": "stdout",
     "output_type": "stream",
     "text": [
      "Epoch 142 tr: l 0.831 a 0.807  clct[25, 35] ans[25, 35] lr 0.059998 cl_acc 1.000 44.116sec(train) 3.696sec(infer)\n"
     ]
    },
    {
     "name": "stdout",
     "output_type": "stream",
     "text": [
      "Epoch 142 tst: l 0.870 a 0.798  clct[20, 20] ans[20, 20] cl_acc 1.000 2.284sec\n"
     ]
    },
    {
     "name": "stdout",
     "output_type": "stream",
     "text": [
      "Epoch 143 tr: l 0.850 a 0.799  clct[28, 32] ans[28, 32] lr 0.059398 cl_acc 1.000 44.085sec(train) 3.753sec(infer)\n"
     ]
    },
    {
     "name": "stdout",
     "output_type": "stream",
     "text": [
      "Epoch 143 tst: l 0.912 a 0.797  clct[20, 20] ans[20, 20] cl_acc 1.000 2.349sec\n"
     ]
    },
    {
     "name": "stdout",
     "output_type": "stream",
     "text": [
      "Epoch 144 tr: l 0.865 a 0.794  clct[33, 27] ans[33, 27] lr 0.058804 cl_acc 1.000 44.219sec(train) 3.836sec(infer)\n"
     ]
    },
    {
     "name": "stdout",
     "output_type": "stream",
     "text": [
      "Epoch 144 tst: l 0.905 a 0.787  clct[20, 20] ans[20, 20] cl_acc 1.000 2.338sec\n"
     ]
    },
    {
     "name": "stdout",
     "output_type": "stream",
     "text": [
      "Epoch 145 tr: l 0.834 a 0.804  clct[28, 32] ans[28, 32] lr 0.058216 cl_acc 1.000 43.948sec(train) 3.701sec(infer)\n"
     ]
    },
    {
     "name": "stdout",
     "output_type": "stream",
     "text": [
      "Epoch 145 tst: l 0.870 a 0.798  clct[20, 20] ans[20, 20] cl_acc 1.000 2.312sec\n"
     ]
    },
    {
     "name": "stdout",
     "output_type": "stream",
     "text": [
      "Epoch 146 tr: l 0.847 a 0.801  clct[28, 32] ans[28, 32] lr 0.057634 cl_acc 1.000 44.139sec(train) 3.738sec(infer)\n"
     ]
    },
    {
     "name": "stdout",
     "output_type": "stream",
     "text": [
      "Epoch 146 tst: l 0.913 a 0.786  clct[20, 20] ans[20, 20] cl_acc 1.000 2.383sec\n"
     ]
    },
    {
     "name": "stdout",
     "output_type": "stream",
     "text": [
      "Epoch 147 tr: l 0.874 a 0.792  clct[34, 26] ans[34, 26] lr 0.057058 cl_acc 1.000 44.167sec(train) 3.631sec(infer)\n"
     ]
    },
    {
     "name": "stdout",
     "output_type": "stream",
     "text": [
      "Epoch 147 tst: l 0.904 a 0.789  clct[20, 20] ans[20, 20] cl_acc 1.000 2.367sec\n"
     ]
    },
    {
     "name": "stdout",
     "output_type": "stream",
     "text": [
      "Epoch 148 tr: l 0.818 a 0.806  clct[28, 32] ans[28, 32] lr 0.056487 cl_acc 1.000 44.084sec(train) 3.802sec(infer)\n"
     ]
    },
    {
     "name": "stdout",
     "output_type": "stream",
     "text": [
      "Epoch 148 tst: l 0.866 a 0.799  clct[20, 20] ans[20, 20] cl_acc 1.000 2.359sec\n"
     ]
    },
    {
     "name": "stdout",
     "output_type": "stream",
     "text": [
      "Epoch 149 tr: l 0.794 a 0.814  clct[27, 33] ans[27, 33] lr 0.055922 cl_acc 1.000 44.166sec(train) 3.837sec(infer)\n"
     ]
    },
    {
     "name": "stdout",
     "output_type": "stream",
     "text": [
      "Epoch 149 tst: l 0.863 a 0.795  clct[20, 20] ans[20, 20] cl_acc 1.000 2.334sec\n"
     ]
    },
    {
     "name": "stdout",
     "output_type": "stream",
     "text": [
      "Epoch 150 tr: l 0.814 a 0.810  clct[29, 31] ans[29, 31] lr 0.055363 cl_acc 1.000 44.153sec(train) 3.736sec(infer)\n"
     ]
    },
    {
     "name": "stdout",
     "output_type": "stream",
     "text": [
      "Epoch 150 tst: l 0.879 a 0.796  clct[20, 20] ans[20, 20] cl_acc 1.000 2.313sec\n",
      "result written at output/results.pickle\n"
     ]
    },
    {
     "name": "stdout",
     "output_type": "stream",
     "text": [
      "Epoch 151 tr: l 0.813 a 0.807  clct[36, 24] ans[36, 24] lr 0.054809 cl_acc 1.000 44.142sec(train) 3.596sec(infer)\n"
     ]
    },
    {
     "name": "stdout",
     "output_type": "stream",
     "text": [
      "Epoch 151 tst: l 0.861 a 0.798  clct[20, 20] ans[20, 20] cl_acc 1.000 2.359sec\n"
     ]
    },
    {
     "name": "stdout",
     "output_type": "stream",
     "text": [
      "Epoch 152 tr: l 0.812 a 0.806  clct[26, 34] ans[26, 34] lr 0.054261 cl_acc 1.000 44.262sec(train) 3.760sec(infer)\n"
     ]
    },
    {
     "name": "stdout",
     "output_type": "stream",
     "text": [
      "Epoch 152 tst: l 0.904 a 0.787  clct[20, 20] ans[20, 20] cl_acc 1.000 2.367sec\n"
     ]
    },
    {
     "name": "stdout",
     "output_type": "stream",
     "text": [
      "Epoch 153 tr: l 0.808 a 0.806  clct[27, 33] ans[27, 33] lr 0.053719 cl_acc 1.000 44.129sec(train) 3.677sec(infer)\n"
     ]
    },
    {
     "name": "stdout",
     "output_type": "stream",
     "text": [
      "Epoch 153 tst: l 0.859 a 0.798  clct[20, 20] ans[20, 20] cl_acc 1.000 2.353sec\n"
     ]
    },
    {
     "name": "stdout",
     "output_type": "stream",
     "text": [
      "Epoch 154 tr: l 0.784 a 0.816  clct[30, 30] ans[30, 30] lr 0.053181 cl_acc 1.000 44.296sec(train) 3.701sec(infer)\n"
     ]
    },
    {
     "name": "stdout",
     "output_type": "stream",
     "text": [
      "Epoch 154 tst: l 0.870 a 0.794  clct[20, 20] ans[20, 20] cl_acc 1.000 2.384sec\n"
     ]
    },
    {
     "name": "stdout",
     "output_type": "stream",
     "text": [
      "Epoch 155 tr: l 0.793 a 0.815  clct[35, 25] ans[35, 25] lr 0.052650 cl_acc 1.000 44.225sec(train) 3.761sec(infer)\n"
     ]
    },
    {
     "name": "stdout",
     "output_type": "stream",
     "text": [
      "Epoch 155 tst: l 0.859 a 0.801  clct[20, 20] ans[20, 20] cl_acc 1.000 2.291sec\n"
     ]
    },
    {
     "name": "stdout",
     "output_type": "stream",
     "text": [
      "Epoch 156 tr: l 0.825 a 0.809  clct[32, 28] ans[32, 28] lr 0.052123 cl_acc 1.000 44.277sec(train) 3.697sec(infer)\n"
     ]
    },
    {
     "name": "stdout",
     "output_type": "stream",
     "text": [
      "Epoch 156 tst: l 0.904 a 0.794  clct[20, 20] ans[20, 20] cl_acc 1.000 2.350sec\n"
     ]
    },
    {
     "name": "stdout",
     "output_type": "stream",
     "text": [
      "Epoch 157 tr: l 0.807 a 0.808  clct[27, 33] ans[27, 33] lr 0.051602 cl_acc 1.000 44.156sec(train) 3.797sec(infer)\n"
     ]
    },
    {
     "name": "stdout",
     "output_type": "stream",
     "text": [
      "Epoch 157 tst: l 0.881 a 0.791  clct[20, 20] ans[20, 20] cl_acc 1.000 2.330sec\n"
     ]
    },
    {
     "name": "stdout",
     "output_type": "stream",
     "text": [
      "Epoch 158 tr: l 0.837 a 0.799  clct[26, 34] ans[26, 34] lr 0.051086 cl_acc 1.000 44.323sec(train) 3.730sec(infer)\n"
     ]
    },
    {
     "name": "stdout",
     "output_type": "stream",
     "text": [
      "Epoch 158 tst: l 0.883 a 0.794  clct[20, 20] ans[20, 20] cl_acc 1.000 2.298sec\n"
     ]
    },
    {
     "name": "stdout",
     "output_type": "stream",
     "text": [
      "Epoch 159 tr: l 0.798 a 0.811  clct[28, 32] ans[28, 32] lr 0.050575 cl_acc 1.000 44.288sec(train) 3.657sec(infer)\n"
     ]
    },
    {
     "name": "stdout",
     "output_type": "stream",
     "text": [
      "Epoch 159 tst: l 0.855 a 0.801  clct[20, 20] ans[20, 20] cl_acc 1.000 2.292sec\n"
     ]
    },
    {
     "name": "stdout",
     "output_type": "stream",
     "text": [
      "Epoch 160 tr: l 0.761 a 0.821  clct[30, 30] ans[30, 30] lr 0.050069 cl_acc 1.000 44.325sec(train) 3.627sec(infer)\n"
     ]
    },
    {
     "name": "stdout",
     "output_type": "stream",
     "text": [
      "Epoch 160 tst: l 0.841 a 0.802  clct[20, 20] ans[20, 20] cl_acc 1.000 2.270sec\n",
      "result written at output/results.pickle\n"
     ]
    },
    {
     "name": "stdout",
     "output_type": "stream",
     "text": [
      "Epoch 161 tr: l 0.799 a 0.810  clct[31, 29] ans[31, 29] lr 0.049569 cl_acc 1.000 44.297sec(train) 3.706sec(infer)\n"
     ]
    },
    {
     "name": "stdout",
     "output_type": "stream",
     "text": [
      "Epoch 161 tst: l 0.874 a 0.797  clct[20, 20] ans[20, 20] cl_acc 1.000 2.257sec\n"
     ]
    },
    {
     "name": "stdout",
     "output_type": "stream",
     "text": [
      "Epoch 162 tr: l 0.798 a 0.807  clct[29, 31] ans[29, 31] lr 0.049073 cl_acc 1.000 44.177sec(train) 3.708sec(infer)\n"
     ]
    },
    {
     "name": "stdout",
     "output_type": "stream",
     "text": [
      "Epoch 162 tst: l 0.856 a 0.800  clct[20, 20] ans[20, 20] cl_acc 1.000 2.282sec\n"
     ]
    },
    {
     "name": "stdout",
     "output_type": "stream",
     "text": [
      "Epoch 163 tr: l 0.792 a 0.812  clct[27, 33] ans[27, 33] lr 0.048582 cl_acc 1.000 44.284sec(train) 3.765sec(infer)\n"
     ]
    },
    {
     "name": "stdout",
     "output_type": "stream",
     "text": [
      "Epoch 163 tst: l 0.859 a 0.794  clct[20, 20] ans[20, 20] cl_acc 1.000 2.303sec\n"
     ]
    },
    {
     "name": "stdout",
     "output_type": "stream",
     "text": [
      "Epoch 164 tr: l 0.781 a 0.814  clct[30, 30] ans[30, 30] lr 0.048096 cl_acc 1.000 44.170sec(train) 3.643sec(infer)\n"
     ]
    },
    {
     "name": "stdout",
     "output_type": "stream",
     "text": [
      "Epoch 164 tst: l 0.840 a 0.804  clct[20, 20] ans[20, 20] cl_acc 1.000 2.341sec\n"
     ]
    },
    {
     "name": "stdout",
     "output_type": "stream",
     "text": [
      "Epoch 165 tr: l 0.791 a 0.811  clct[31, 29] ans[31, 29] lr 0.047615 cl_acc 1.000 44.305sec(train) 3.662sec(infer)\n"
     ]
    },
    {
     "name": "stdout",
     "output_type": "stream",
     "text": [
      "Epoch 165 tst: l 0.853 a 0.800  clct[20, 20] ans[20, 20] cl_acc 1.000 2.373sec\n"
     ]
    },
    {
     "name": "stdout",
     "output_type": "stream",
     "text": [
      "Epoch 166 tr: l 0.783 a 0.815  clct[27, 33] ans[27, 33] lr 0.047139 cl_acc 1.000 44.540sec(train) 3.643sec(infer)\n"
     ]
    },
    {
     "name": "stdout",
     "output_type": "stream",
     "text": [
      "Epoch 166 tst: l 0.841 a 0.807  clct[20, 20] ans[20, 20] cl_acc 1.000 2.265sec\n"
     ]
    },
    {
     "name": "stdout",
     "output_type": "stream",
     "text": [
      "Epoch 167 tr: l 0.753 a 0.819  clct[24, 36] ans[24, 36] lr 0.046668 cl_acc 1.000 44.339sec(train) 3.703sec(infer)\n"
     ]
    },
    {
     "name": "stdout",
     "output_type": "stream",
     "text": [
      "Epoch 167 tst: l 0.819 a 0.809  clct[20, 20] ans[20, 20] cl_acc 1.000 2.278sec\n"
     ]
    },
    {
     "name": "stdout",
     "output_type": "stream",
     "text": [
      "Epoch 168 tr: l 0.753 a 0.820  clct[24, 36] ans[24, 36] lr 0.046201 cl_acc 1.000 44.283sec(train) 3.686sec(infer)\n"
     ]
    },
    {
     "name": "stdout",
     "output_type": "stream",
     "text": [
      "Epoch 168 tst: l 0.815 a 0.808  clct[20, 20] ans[20, 20] cl_acc 1.000 2.315sec\n"
     ]
    },
    {
     "name": "stdout",
     "output_type": "stream",
     "text": [
      "Epoch 169 tr: l 0.771 a 0.814  clct[28, 32] ans[28, 32] lr 0.045739 cl_acc 1.000 44.234sec(train) 3.755sec(infer)\n"
     ]
    },
    {
     "name": "stdout",
     "output_type": "stream",
     "text": [
      "Epoch 169 tst: l 0.834 a 0.801  clct[20, 20] ans[20, 20] cl_acc 1.000 2.318sec\n"
     ]
    },
    {
     "name": "stdout",
     "output_type": "stream",
     "text": [
      "Epoch 170 tr: l 0.737 a 0.825  clct[28, 32] ans[28, 32] lr 0.045282 cl_acc 1.000 44.288sec(train) 3.619sec(infer)\n"
     ]
    },
    {
     "name": "stdout",
     "output_type": "stream",
     "text": [
      "Epoch 170 tst: l 0.840 a 0.802  clct[20, 20] ans[20, 20] cl_acc 1.000 2.256sec\n",
      "result written at output/results.pickle\n"
     ]
    },
    {
     "name": "stdout",
     "output_type": "stream",
     "text": [
      "Epoch 171 tr: l 0.758 a 0.822  clct[32, 28] ans[32, 28] lr 0.044829 cl_acc 1.000 44.232sec(train) 3.728sec(infer)\n"
     ]
    },
    {
     "name": "stdout",
     "output_type": "stream",
     "text": [
      "Epoch 171 tst: l 0.836 a 0.806  clct[20, 20] ans[20, 20] cl_acc 1.000 2.329sec\n"
     ]
    },
    {
     "name": "stdout",
     "output_type": "stream",
     "text": [
      "Epoch 172 tr: l 0.719 a 0.832  clct[29, 31] ans[29, 31] lr 0.044381 cl_acc 1.000 44.328sec(train) 3.693sec(infer)\n"
     ]
    },
    {
     "name": "stdout",
     "output_type": "stream",
     "text": [
      "Epoch 172 tst: l 0.830 a 0.806  clct[20, 20] ans[20, 20] cl_acc 1.000 2.215sec\n"
     ]
    },
    {
     "name": "stdout",
     "output_type": "stream",
     "text": [
      "Epoch 173 tr: l 0.744 a 0.823  clct[27, 33] ans[27, 33] lr 0.043937 cl_acc 1.000 44.463sec(train) 3.678sec(infer)\n"
     ]
    },
    {
     "name": "stdout",
     "output_type": "stream",
     "text": [
      "Epoch 173 tst: l 0.828 a 0.805  clct[20, 20] ans[20, 20] cl_acc 1.000 2.307sec\n"
     ]
    },
    {
     "name": "stdout",
     "output_type": "stream",
     "text": [
      "Epoch 174 tr: l 0.757 a 0.818  clct[28, 32] ans[28, 32] lr 0.043497 cl_acc 1.000 44.175sec(train) 3.703sec(infer)\n"
     ]
    },
    {
     "name": "stdout",
     "output_type": "stream",
     "text": [
      "Epoch 174 tst: l 0.834 a 0.804  clct[20, 20] ans[20, 20] cl_acc 1.000 2.376sec\n"
     ]
    },
    {
     "name": "stdout",
     "output_type": "stream",
     "text": [
      "Epoch 175 tr: l 0.723 a 0.825  clct[31, 29] ans[31, 29] lr 0.043062 cl_acc 1.000 44.078sec(train) 3.672sec(infer)\n"
     ]
    },
    {
     "name": "stdout",
     "output_type": "stream",
     "text": [
      "Epoch 175 tst: l 0.791 a 0.808  clct[20, 20] ans[20, 20] cl_acc 1.000 2.307sec\n"
     ]
    },
    {
     "name": "stdout",
     "output_type": "stream",
     "text": [
      "Epoch 176 tr: l 0.747 a 0.822  clct[29, 31] ans[29, 31] lr 0.042632 cl_acc 1.000 44.393sec(train) 3.719sec(infer)\n"
     ]
    },
    {
     "name": "stdout",
     "output_type": "stream",
     "text": [
      "Epoch 176 tst: l 0.820 a 0.809  clct[20, 20] ans[20, 20] cl_acc 1.000 2.350sec\n"
     ]
    },
    {
     "name": "stdout",
     "output_type": "stream",
     "text": [
      "Epoch 177 tr: l 0.745 a 0.822  clct[28, 32] ans[28, 32] lr 0.042206 cl_acc 1.000 44.236sec(train) 3.685sec(infer)\n"
     ]
    },
    {
     "name": "stdout",
     "output_type": "stream",
     "text": [
      "Epoch 177 tst: l 0.812 a 0.802  clct[20, 20] ans[20, 20] cl_acc 1.000 2.314sec\n"
     ]
    },
    {
     "name": "stdout",
     "output_type": "stream",
     "text": [
      "Epoch 178 tr: l 0.734 a 0.822  clct[33, 27] ans[33, 27] lr 0.041783 cl_acc 1.000 44.227sec(train) 3.792sec(infer)\n"
     ]
    },
    {
     "name": "stdout",
     "output_type": "stream",
     "text": [
      "Epoch 178 tst: l 0.809 a 0.805  clct[20, 20] ans[20, 20] cl_acc 1.000 2.228sec\n"
     ]
    },
    {
     "name": "stdout",
     "output_type": "stream",
     "text": [
      "Epoch 179 tr: l 0.780 a 0.812  clct[32, 28] ans[32, 28] lr 0.041366 cl_acc 1.000 44.403sec(train) 3.638sec(infer)\n"
     ]
    },
    {
     "name": "stdout",
     "output_type": "stream",
     "text": [
      "Epoch 179 tst: l 0.827 a 0.800  clct[20, 20] ans[20, 20] cl_acc 1.000 2.363sec\n"
     ]
    },
    {
     "name": "stdout",
     "output_type": "stream",
     "text": [
      "Epoch 180 tr: l 0.751 a 0.817  clct[30, 30] ans[30, 30] lr 0.040952 cl_acc 1.000 44.095sec(train) 3.624sec(infer)\n"
     ]
    },
    {
     "name": "stdout",
     "output_type": "stream",
     "text": [
      "Epoch 180 tst: l 0.819 a 0.802  clct[20, 20] ans[20, 20] cl_acc 1.000 2.336sec\n",
      "result written at output/results.pickle\n"
     ]
    },
    {
     "name": "stdout",
     "output_type": "stream",
     "text": [
      "Epoch 181 tr: l 0.758 a 0.819  clct[34, 26] ans[34, 26] lr 0.040542 cl_acc 1.000 44.109sec(train) 3.733sec(infer)\n"
     ]
    },
    {
     "name": "stdout",
     "output_type": "stream",
     "text": [
      "Epoch 181 tst: l 0.826 a 0.807  clct[20, 20] ans[20, 20] cl_acc 1.000 2.276sec\n"
     ]
    },
    {
     "name": "stdout",
     "output_type": "stream",
     "text": [
      "Epoch 182 tr: l 0.729 a 0.824  clct[24, 36] ans[24, 36] lr 0.040137 cl_acc 1.000 43.793sec(train) 3.659sec(infer)\n"
     ]
    },
    {
     "name": "stdout",
     "output_type": "stream",
     "text": [
      "Epoch 182 tst: l 0.819 a 0.805  clct[20, 20] ans[20, 20] cl_acc 1.000 2.332sec\n"
     ]
    },
    {
     "name": "stdout",
     "output_type": "stream",
     "text": [
      "Epoch 183 tr: l 0.725 a 0.829  clct[31, 29] ans[31, 29] lr 0.039736 cl_acc 1.000 44.156sec(train) 3.702sec(infer)\n"
     ]
    },
    {
     "name": "stdout",
     "output_type": "stream",
     "text": [
      "Epoch 183 tst: l 0.811 a 0.811  clct[20, 20] ans[20, 20] cl_acc 1.000 2.304sec\n"
     ]
    },
    {
     "name": "stdout",
     "output_type": "stream",
     "text": [
      "Epoch 184 tr: l 0.741 a 0.821  clct[35, 25] ans[35, 25] lr 0.039338 cl_acc 1.000 44.282sec(train) 3.680sec(infer)\n"
     ]
    },
    {
     "name": "stdout",
     "output_type": "stream",
     "text": [
      "Epoch 184 tst: l 0.814 a 0.806  clct[20, 20] ans[20, 20] cl_acc 1.000 2.222sec\n"
     ]
    },
    {
     "name": "stdout",
     "output_type": "stream",
     "text": [
      "Epoch 185 tr: l 0.730 a 0.827  clct[33, 27] ans[33, 27] lr 0.038945 cl_acc 1.000 43.882sec(train) 3.753sec(infer)\n"
     ]
    },
    {
     "name": "stdout",
     "output_type": "stream",
     "text": [
      "Epoch 185 tst: l 0.814 a 0.811  clct[20, 20] ans[20, 20] cl_acc 1.000 2.261sec\n"
     ]
    },
    {
     "name": "stdout",
     "output_type": "stream",
     "text": [
      "Epoch 186 tr: l 0.730 a 0.824  clct[32, 28] ans[32, 28] lr 0.038555 cl_acc 1.000 44.161sec(train) 3.665sec(infer)\n"
     ]
    },
    {
     "name": "stdout",
     "output_type": "stream",
     "text": [
      "Epoch 186 tst: l 0.826 a 0.801  clct[20, 20] ans[20, 20] cl_acc 1.000 2.274sec\n"
     ]
    },
    {
     "name": "stdout",
     "output_type": "stream",
     "text": [
      "Epoch 187 tr: l 0.735 a 0.822  clct[29, 31] ans[29, 31] lr 0.038170 cl_acc 1.000 44.051sec(train) 3.705sec(infer)\n"
     ]
    },
    {
     "name": "stdout",
     "output_type": "stream",
     "text": [
      "Epoch 187 tst: l 0.805 a 0.808  clct[20, 20] ans[20, 20] cl_acc 1.000 2.318sec\n"
     ]
    },
    {
     "name": "stdout",
     "output_type": "stream",
     "text": [
      "Epoch 188 tr: l 0.725 a 0.824  clct[27, 33] ans[27, 33] lr 0.037788 cl_acc 1.000 44.239sec(train) 3.718sec(infer)\n"
     ]
    },
    {
     "name": "stdout",
     "output_type": "stream",
     "text": [
      "Epoch 188 tst: l 0.814 a 0.806  clct[20, 20] ans[20, 20] cl_acc 1.000 2.318sec\n"
     ]
    },
    {
     "name": "stdout",
     "output_type": "stream",
     "text": [
      "Epoch 189 tr: l 0.711 a 0.830  clct[33, 27] ans[33, 27] lr 0.037410 cl_acc 1.000 43.691sec(train) 3.628sec(infer)\n"
     ]
    },
    {
     "name": "stdout",
     "output_type": "stream",
     "text": [
      "Epoch 189 tst: l 0.801 a 0.810  clct[20, 20] ans[20, 20] cl_acc 1.000 2.300sec\n"
     ]
    },
    {
     "name": "stdout",
     "output_type": "stream",
     "text": [
      "Epoch 190 tr: l 0.720 a 0.825  clct[23, 37] ans[23, 37] lr 0.037036 cl_acc 1.000 44.125sec(train) 3.707sec(infer)\n"
     ]
    },
    {
     "name": "stdout",
     "output_type": "stream",
     "text": [
      "Epoch 190 tst: l 0.774 a 0.817  clct[20, 20] ans[20, 20] cl_acc 1.000 2.281sec\n",
      "result written at output/results.pickle\n"
     ]
    },
    {
     "name": "stdout",
     "output_type": "stream",
     "text": [
      "Epoch 191 tr: l 0.705 a 0.830  clct[34, 26] ans[34, 26] lr 0.036666 cl_acc 1.000 44.089sec(train) 3.675sec(infer)\n"
     ]
    },
    {
     "name": "stdout",
     "output_type": "stream",
     "text": [
      "Epoch 191 tst: l 0.807 a 0.807  clct[20, 20] ans[20, 20] cl_acc 1.000 2.265sec\n"
     ]
    },
    {
     "name": "stdout",
     "output_type": "stream",
     "text": [
      "Epoch 192 tr: l 0.714 a 0.830  clct[32, 28] ans[32, 28] lr 0.036299 cl_acc 1.000 44.229sec(train) 3.778sec(infer)\n"
     ]
    },
    {
     "name": "stdout",
     "output_type": "stream",
     "text": [
      "Epoch 192 tst: l 0.809 a 0.810  clct[20, 20] ans[20, 20] cl_acc 1.000 2.282sec\n"
     ]
    },
    {
     "name": "stdout",
     "output_type": "stream",
     "text": [
      "Epoch 193 tr: l 0.672 a 0.840  clct[29, 31] ans[29, 31] lr 0.035936 cl_acc 1.000 44.304sec(train) 3.769sec(infer)\n"
     ]
    },
    {
     "name": "stdout",
     "output_type": "stream",
     "text": [
      "Epoch 193 tst: l 0.796 a 0.812  clct[20, 20] ans[20, 20] cl_acc 1.000 2.363sec\n"
     ]
    },
    {
     "name": "stdout",
     "output_type": "stream",
     "text": [
      "Epoch 194 tr: l 0.737 a 0.820  clct[26, 34] ans[26, 34] lr 0.035577 cl_acc 1.000 43.948sec(train) 3.635sec(infer)\n"
     ]
    },
    {
     "name": "stdout",
     "output_type": "stream",
     "text": [
      "Epoch 194 tst: l 0.803 a 0.807  clct[20, 20] ans[20, 20] cl_acc 1.000 2.380sec\n"
     ]
    },
    {
     "name": "stdout",
     "output_type": "stream",
     "text": [
      "Epoch 195 tr: l 0.720 a 0.826  clct[28, 32] ans[28, 32] lr 0.035221 cl_acc 1.000 44.030sec(train) 3.718sec(infer)\n"
     ]
    },
    {
     "name": "stdout",
     "output_type": "stream",
     "text": [
      "Epoch 195 tst: l 0.806 a 0.808  clct[20, 20] ans[20, 20] cl_acc 1.000 2.264sec\n"
     ]
    },
    {
     "name": "stdout",
     "output_type": "stream",
     "text": [
      "Epoch 196 tr: l 0.694 a 0.834  clct[31, 29] ans[31, 29] lr 0.034869 cl_acc 1.000 44.332sec(train) 3.774sec(infer)\n"
     ]
    },
    {
     "name": "stdout",
     "output_type": "stream",
     "text": [
      "Epoch 196 tst: l 0.797 a 0.811  clct[20, 20] ans[20, 20] cl_acc 1.000 2.301sec\n"
     ]
    },
    {
     "name": "stdout",
     "output_type": "stream",
     "text": [
      "Epoch 197 tr: l 0.690 a 0.834  clct[32, 28] ans[32, 28] lr 0.034520 cl_acc 1.000 44.157sec(train) 3.672sec(infer)\n"
     ]
    },
    {
     "name": "stdout",
     "output_type": "stream",
     "text": [
      "Epoch 197 tst: l 0.802 a 0.809  clct[20, 20] ans[20, 20] cl_acc 1.000 2.362sec\n"
     ]
    },
    {
     "name": "stdout",
     "output_type": "stream",
     "text": [
      "Epoch 198 tr: l 0.693 a 0.831  clct[31, 29] ans[31, 29] lr 0.034175 cl_acc 1.000 44.306sec(train) 3.687sec(infer)\n"
     ]
    },
    {
     "name": "stdout",
     "output_type": "stream",
     "text": [
      "Epoch 198 tst: l 0.775 a 0.814  clct[20, 20] ans[20, 20] cl_acc 1.000 2.285sec\n"
     ]
    },
    {
     "name": "stdout",
     "output_type": "stream",
     "text": [
      "Epoch 199 tr: l 0.699 a 0.834  clct[34, 26] ans[34, 26] lr 0.033833 cl_acc 1.000 44.316sec(train) 3.684sec(infer)\n"
     ]
    },
    {
     "name": "stdout",
     "output_type": "stream",
     "text": [
      "Epoch 199 tst: l 0.789 a 0.815  clct[20, 20] ans[20, 20] cl_acc 1.000 2.327sec\n"
     ]
    },
    {
     "name": "stdout",
     "output_type": "stream",
     "text": [
      "Epoch 200 tr: l 0.708 a 0.830  clct[29, 31] ans[29, 31] lr 0.033495 cl_acc 1.000 44.344sec(train) 3.811sec(infer)\n"
     ]
    },
    {
     "name": "stdout",
     "output_type": "stream",
     "text": [
      "Epoch 200 tst: l 0.797 a 0.812  clct[20, 20] ans[20, 20] cl_acc 1.000 2.389sec\n",
      "result written at output/results.pickle\n"
     ]
    },
    {
     "name": "stdout",
     "output_type": "stream",
     "text": [
      "Epoch 201 tr: l 0.693 a 0.835  clct[33, 27] ans[33, 27] lr 0.033160 cl_acc 1.000 44.234sec(train) 3.781sec(infer)\n"
     ]
    },
    {
     "name": "stdout",
     "output_type": "stream",
     "text": [
      "Epoch 201 tst: l 0.786 a 0.810  clct[20, 20] ans[20, 20] cl_acc 1.000 2.336sec\n"
     ]
    },
    {
     "name": "stdout",
     "output_type": "stream",
     "text": [
      "Epoch 202 tr: l 0.702 a 0.831  clct[34, 26] ans[34, 26] lr 0.032828 cl_acc 1.000 44.359sec(train) 3.683sec(infer)\n"
     ]
    },
    {
     "name": "stdout",
     "output_type": "stream",
     "text": [
      "Epoch 202 tst: l 0.797 a 0.815  clct[20, 20] ans[20, 20] cl_acc 1.000 2.353sec\n"
     ]
    },
    {
     "name": "stdout",
     "output_type": "stream",
     "text": [
      "Epoch 203 tr: l 0.713 a 0.830  clct[29, 31] ans[29, 31] lr 0.032500 cl_acc 1.000 44.020sec(train) 3.724sec(infer)\n"
     ]
    },
    {
     "name": "stdout",
     "output_type": "stream",
     "text": [
      "Epoch 203 tst: l 0.794 a 0.812  clct[20, 20] ans[20, 20] cl_acc 1.000 2.283sec\n"
     ]
    },
    {
     "name": "stdout",
     "output_type": "stream",
     "text": [
      "Epoch 204 tr: l 0.699 a 0.832  clct[27, 33] ans[27, 33] lr 0.032175 cl_acc 1.000 44.189sec(train) 3.812sec(infer)\n"
     ]
    },
    {
     "name": "stdout",
     "output_type": "stream",
     "text": [
      "Epoch 204 tst: l 0.790 a 0.811  clct[20, 20] ans[20, 20] cl_acc 1.000 2.367sec\n"
     ]
    },
    {
     "name": "stdout",
     "output_type": "stream",
     "text": [
      "Epoch 205 tr: l 0.695 a 0.832  clct[25, 35] ans[25, 35] lr 0.031853 cl_acc 1.000 44.160sec(train) 3.737sec(infer)\n"
     ]
    },
    {
     "name": "stdout",
     "output_type": "stream",
     "text": [
      "Epoch 205 tst: l 0.786 a 0.814  clct[20, 20] ans[20, 20] cl_acc 1.000 2.327sec\n"
     ]
    },
    {
     "name": "stdout",
     "output_type": "stream",
     "text": [
      "Epoch 206 tr: l 0.683 a 0.837  clct[32, 28] ans[32, 28] lr 0.031535 cl_acc 1.000 44.252sec(train) 3.795sec(infer)\n"
     ]
    },
    {
     "name": "stdout",
     "output_type": "stream",
     "text": [
      "Epoch 206 tst: l 0.781 a 0.812  clct[20, 20] ans[20, 20] cl_acc 1.000 2.264sec\n"
     ]
    },
    {
     "name": "stdout",
     "output_type": "stream",
     "text": [
      "Epoch 207 tr: l 0.661 a 0.842  clct[25, 35] ans[25, 35] lr 0.031219 cl_acc 1.000 44.251sec(train) 3.721sec(infer)\n"
     ]
    },
    {
     "name": "stdout",
     "output_type": "stream",
     "text": [
      "Epoch 207 tst: l 0.787 a 0.815  clct[20, 20] ans[20, 20] cl_acc 1.000 2.302sec\n"
     ]
    },
    {
     "name": "stdout",
     "output_type": "stream",
     "text": [
      "Epoch 208 tr: l 0.672 a 0.836  clct[30, 30] ans[30, 30] lr 0.030907 cl_acc 1.000 44.053sec(train) 3.811sec(infer)\n"
     ]
    },
    {
     "name": "stdout",
     "output_type": "stream",
     "text": [
      "Epoch 208 tst: l 0.780 a 0.811  clct[20, 20] ans[20, 20] cl_acc 1.000 2.355sec\n"
     ]
    },
    {
     "name": "stdout",
     "output_type": "stream",
     "text": [
      "Epoch 209 tr: l 0.708 a 0.827  clct[37, 23] ans[37, 23] lr 0.030598 cl_acc 1.000 44.057sec(train) 3.742sec(infer)\n"
     ]
    },
    {
     "name": "stdout",
     "output_type": "stream",
     "text": [
      "Epoch 209 tst: l 0.784 a 0.810  clct[20, 20] ans[20, 20] cl_acc 1.000 2.354sec\n"
     ]
    },
    {
     "name": "stdout",
     "output_type": "stream",
     "text": [
      "Epoch 210 tr: l 0.661 a 0.838  clct[32, 28] ans[32, 28] lr 0.030292 cl_acc 1.000 44.311sec(train) 3.740sec(infer)\n"
     ]
    },
    {
     "name": "stdout",
     "output_type": "stream",
     "text": [
      "Epoch 210 tst: l 0.780 a 0.815  clct[20, 20] ans[20, 20] cl_acc 1.000 2.276sec\n",
      "result written at output/results.pickle\n"
     ]
    },
    {
     "name": "stdout",
     "output_type": "stream",
     "text": [
      "Epoch 211 tr: l 0.665 a 0.840  clct[31, 29] ans[31, 29] lr 0.029989 cl_acc 1.000 44.307sec(train) 3.802sec(infer)\n"
     ]
    },
    {
     "name": "stdout",
     "output_type": "stream",
     "text": [
      "Epoch 211 tst: l 0.766 a 0.820  clct[20, 20] ans[20, 20] cl_acc 1.000 2.346sec\n"
     ]
    },
    {
     "name": "stdout",
     "output_type": "stream",
     "text": [
      "Epoch 212 tr: l 0.687 a 0.833  clct[31, 29] ans[31, 29] lr 0.029689 cl_acc 1.000 44.090sec(train) 3.708sec(infer)\n"
     ]
    },
    {
     "name": "stdout",
     "output_type": "stream",
     "text": [
      "Epoch 212 tst: l 0.784 a 0.814  clct[20, 20] ans[20, 20] cl_acc 1.000 2.286sec\n"
     ]
    },
    {
     "name": "stdout",
     "output_type": "stream",
     "text": [
      "Epoch 213 tr: l 0.647 a 0.847  clct[31, 29] ans[31, 29] lr 0.029392 cl_acc 1.000 44.196sec(train) 3.779sec(infer)\n"
     ]
    },
    {
     "name": "stdout",
     "output_type": "stream",
     "text": [
      "Epoch 213 tst: l 0.754 a 0.821  clct[20, 20] ans[20, 20] cl_acc 1.000 2.468sec\n"
     ]
    },
    {
     "name": "stdout",
     "output_type": "stream",
     "text": [
      "Epoch 214 tr: l 0.685 a 0.831  clct[32, 28] ans[32, 28] lr 0.029099 cl_acc 1.000 44.247sec(train) 3.691sec(infer)\n"
     ]
    },
    {
     "name": "stdout",
     "output_type": "stream",
     "text": [
      "Epoch 214 tst: l 0.787 a 0.810  clct[20, 20] ans[20, 20] cl_acc 1.000 2.341sec\n"
     ]
    },
    {
     "name": "stdout",
     "output_type": "stream",
     "text": [
      "Epoch 215 tr: l 0.665 a 0.837  clct[32, 28] ans[32, 28] lr 0.028808 cl_acc 1.000 44.020sec(train) 3.678sec(infer)\n"
     ]
    },
    {
     "name": "stdout",
     "output_type": "stream",
     "text": [
      "Epoch 215 tst: l 0.779 a 0.810  clct[20, 20] ans[20, 20] cl_acc 1.000 2.203sec\n"
     ]
    },
    {
     "name": "stdout",
     "output_type": "stream",
     "text": [
      "Epoch 216 tr: l 0.649 a 0.844  clct[29, 31] ans[29, 31] lr 0.028520 cl_acc 1.000 44.352sec(train) 3.714sec(infer)\n"
     ]
    },
    {
     "name": "stdout",
     "output_type": "stream",
     "text": [
      "Epoch 216 tst: l 0.771 a 0.815  clct[20, 20] ans[20, 20] cl_acc 1.000 2.390sec\n"
     ]
    },
    {
     "name": "stdout",
     "output_type": "stream",
     "text": [
      "Epoch 217 tr: l 0.644 a 0.847  clct[31, 29] ans[31, 29] lr 0.028234 cl_acc 1.000 44.225sec(train) 3.621sec(infer)\n"
     ]
    },
    {
     "name": "stdout",
     "output_type": "stream",
     "text": [
      "Epoch 217 tst: l 0.772 a 0.816  clct[20, 20] ans[20, 20] cl_acc 1.000 2.350sec\n"
     ]
    },
    {
     "name": "stdout",
     "output_type": "stream",
     "text": [
      "Epoch 218 tr: l 0.678 a 0.836  clct[35, 25] ans[35, 25] lr 0.027952 cl_acc 1.000 44.248sec(train) 3.690sec(infer)\n"
     ]
    },
    {
     "name": "stdout",
     "output_type": "stream",
     "text": [
      "Epoch 218 tst: l 0.784 a 0.815  clct[20, 20] ans[20, 20] cl_acc 1.000 2.283sec\n"
     ]
    },
    {
     "name": "stdout",
     "output_type": "stream",
     "text": [
      "Epoch 219 tr: l 0.661 a 0.841  clct[31, 29] ans[31, 29] lr 0.027672 cl_acc 1.000 44.122sec(train) 3.698sec(infer)\n"
     ]
    },
    {
     "name": "stdout",
     "output_type": "stream",
     "text": [
      "Epoch 219 tst: l 0.789 a 0.809  clct[20, 20] ans[20, 20] cl_acc 1.000 2.297sec\n"
     ]
    },
    {
     "name": "stdout",
     "output_type": "stream",
     "text": [
      "Epoch 220 tr: l 0.670 a 0.833  clct[30, 30] ans[30, 30] lr 0.027396 cl_acc 1.000 44.147sec(train) 3.631sec(infer)\n"
     ]
    },
    {
     "name": "stdout",
     "output_type": "stream",
     "text": [
      "Epoch 220 tst: l 0.778 a 0.811  clct[20, 20] ans[20, 20] cl_acc 1.000 2.367sec\n",
      "result written at output/results.pickle\n"
     ]
    },
    {
     "name": "stdout",
     "output_type": "stream",
     "text": [
      "Epoch 221 tr: l 0.619 a 0.852  clct[24, 36] ans[24, 36] lr 0.027122 cl_acc 1.000 43.845sec(train) 3.704sec(infer)\n"
     ]
    },
    {
     "name": "stdout",
     "output_type": "stream",
     "text": [
      "Epoch 221 tst: l 0.754 a 0.816  clct[20, 20] ans[20, 20] cl_acc 1.000 2.317sec\n"
     ]
    },
    {
     "name": "stdout",
     "output_type": "stream",
     "text": [
      "Epoch 222 tr: l 0.678 a 0.834  clct[25, 35] ans[25, 35] lr 0.026851 cl_acc 1.000 44.036sec(train) 3.746sec(infer)\n"
     ]
    },
    {
     "name": "stdout",
     "output_type": "stream",
     "text": [
      "Epoch 222 tst: l 0.772 a 0.817  clct[20, 20] ans[20, 20] cl_acc 1.000 2.270sec\n"
     ]
    },
    {
     "name": "stdout",
     "output_type": "stream",
     "text": [
      "Epoch 223 tr: l 0.661 a 0.839  clct[25, 35] ans[25, 35] lr 0.026582 cl_acc 1.000 43.765sec(train) 3.730sec(infer)\n"
     ]
    },
    {
     "name": "stdout",
     "output_type": "stream",
     "text": [
      "Epoch 223 tst: l 0.786 a 0.809  clct[20, 20] ans[20, 20] cl_acc 1.000 2.312sec\n"
     ]
    },
    {
     "name": "stdout",
     "output_type": "stream",
     "text": [
      "Epoch 224 tr: l 0.647 a 0.844  clct[26, 34] ans[26, 34] lr 0.026316 cl_acc 1.000 43.980sec(train) 3.866sec(infer)\n"
     ]
    },
    {
     "name": "stdout",
     "output_type": "stream",
     "text": [
      "Epoch 224 tst: l 0.780 a 0.814  clct[20, 20] ans[20, 20] cl_acc 1.000 2.300sec\n"
     ]
    },
    {
     "name": "stdout",
     "output_type": "stream",
     "text": [
      "Epoch 225 tr: l 0.632 a 0.847  clct[27, 33] ans[27, 33] lr 0.026053 cl_acc 1.000 44.149sec(train) 3.672sec(infer)\n"
     ]
    },
    {
     "name": "stdout",
     "output_type": "stream",
     "text": [
      "Epoch 225 tst: l 0.753 a 0.820  clct[20, 20] ans[20, 20] cl_acc 1.000 2.288sec\n"
     ]
    },
    {
     "name": "stdout",
     "output_type": "stream",
     "text": [
      "Epoch 226 tr: l 0.625 a 0.849  clct[29, 31] ans[29, 31] lr 0.025793 cl_acc 1.000 44.166sec(train) 3.663sec(infer)\n"
     ]
    },
    {
     "name": "stdout",
     "output_type": "stream",
     "text": [
      "Epoch 226 tst: l 0.747 a 0.822  clct[20, 20] ans[20, 20] cl_acc 1.000 2.308sec\n"
     ]
    },
    {
     "name": "stdout",
     "output_type": "stream",
     "text": [
      "Epoch 227 tr: l 0.644 a 0.844  clct[29, 31] ans[29, 31] lr 0.025535 cl_acc 1.000 44.272sec(train) 3.706sec(infer)\n"
     ]
    },
    {
     "name": "stdout",
     "output_type": "stream",
     "text": [
      "Epoch 227 tst: l 0.753 a 0.816  clct[20, 20] ans[20, 20] cl_acc 1.000 2.303sec\n"
     ]
    },
    {
     "name": "stdout",
     "output_type": "stream",
     "text": [
      "Epoch 228 tr: l 0.635 a 0.846  clct[28, 32] ans[28, 32] lr 0.025279 cl_acc 1.000 44.344sec(train) 3.627sec(infer)\n"
     ]
    },
    {
     "name": "stdout",
     "output_type": "stream",
     "text": [
      "Epoch 228 tst: l 0.758 a 0.819  clct[20, 20] ans[20, 20] cl_acc 1.000 2.262sec\n"
     ]
    },
    {
     "name": "stdout",
     "output_type": "stream",
     "text": [
      "Epoch 229 tr: l 0.662 a 0.840  clct[30, 30] ans[30, 30] lr 0.025026 cl_acc 1.000 44.055sec(train) 3.809sec(infer)\n"
     ]
    },
    {
     "name": "stdout",
     "output_type": "stream",
     "text": [
      "Epoch 229 tst: l 0.761 a 0.818  clct[20, 20] ans[20, 20] cl_acc 1.000 2.412sec\n"
     ]
    },
    {
     "name": "stdout",
     "output_type": "stream",
     "text": [
      "Epoch 230 tr: l 0.635 a 0.846  clct[30, 30] ans[30, 30] lr 0.024776 cl_acc 1.000 43.919sec(train) 3.736sec(infer)\n"
     ]
    },
    {
     "name": "stdout",
     "output_type": "stream",
     "text": [
      "Epoch 230 tst: l 0.745 a 0.823  clct[20, 20] ans[20, 20] cl_acc 1.000 2.277sec\n",
      "result written at output/results.pickle\n"
     ]
    },
    {
     "name": "stdout",
     "output_type": "stream",
     "text": [
      "Epoch 231 tr: l 0.614 a 0.852  clct[32, 28] ans[32, 28] lr 0.024528 cl_acc 1.000 43.978sec(train) 3.778sec(infer)\n"
     ]
    },
    {
     "name": "stdout",
     "output_type": "stream",
     "text": [
      "Epoch 231 tst: l 0.753 a 0.821  clct[20, 20] ans[20, 20] cl_acc 1.000 2.294sec\n"
     ]
    },
    {
     "name": "stdout",
     "output_type": "stream",
     "text": [
      "Epoch 232 tr: l 0.620 a 0.851  clct[26, 34] ans[26, 34] lr 0.024283 cl_acc 1.000 44.011sec(train) 3.638sec(infer)\n"
     ]
    },
    {
     "name": "stdout",
     "output_type": "stream",
     "text": [
      "Epoch 232 tst: l 0.764 a 0.819  clct[20, 20] ans[20, 20] cl_acc 1.000 2.271sec\n"
     ]
    },
    {
     "name": "stdout",
     "output_type": "stream",
     "text": [
      "Epoch 233 tr: l 0.651 a 0.842  clct[32, 28] ans[32, 28] lr 0.024040 cl_acc 1.000 43.995sec(train) 3.704sec(infer)\n"
     ]
    },
    {
     "name": "stdout",
     "output_type": "stream",
     "text": [
      "Epoch 233 tst: l 0.756 a 0.817  clct[20, 20] ans[20, 20] cl_acc 1.000 2.371sec\n"
     ]
    },
    {
     "name": "stdout",
     "output_type": "stream",
     "text": [
      "Epoch 234 tr: l 0.620 a 0.849  clct[30, 30] ans[30, 30] lr 0.023800 cl_acc 1.000 43.850sec(train) 3.651sec(infer)\n"
     ]
    },
    {
     "name": "stdout",
     "output_type": "stream",
     "text": [
      "Epoch 234 tst: l 0.769 a 0.815  clct[20, 20] ans[20, 20] cl_acc 1.000 2.290sec\n"
     ]
    },
    {
     "name": "stdout",
     "output_type": "stream",
     "text": [
      "Epoch 235 tr: l 0.593 a 0.858  clct[30, 30] ans[30, 30] lr 0.023562 cl_acc 1.000 43.677sec(train) 3.772sec(infer)\n"
     ]
    },
    {
     "name": "stdout",
     "output_type": "stream",
     "text": [
      "Epoch 235 tst: l 0.747 a 0.822  clct[20, 20] ans[20, 20] cl_acc 1.000 2.316sec\n"
     ]
    },
    {
     "name": "stdout",
     "output_type": "stream",
     "text": [
      "Epoch 236 tr: l 0.637 a 0.846  clct[33, 27] ans[33, 27] lr 0.023326 cl_acc 1.000 43.848sec(train) 3.765sec(infer)\n"
     ]
    },
    {
     "name": "stdout",
     "output_type": "stream",
     "text": [
      "Epoch 236 tst: l 0.782 a 0.812  clct[20, 20] ans[20, 20] cl_acc 1.000 2.291sec\n"
     ]
    },
    {
     "name": "stdout",
     "output_type": "stream",
     "text": [
      "Epoch 237 tr: l 0.603 a 0.854  clct[31, 29] ans[31, 29] lr 0.023093 cl_acc 1.000 43.679sec(train) 3.693sec(infer)\n"
     ]
    },
    {
     "name": "stdout",
     "output_type": "stream",
     "text": [
      "Epoch 237 tst: l 0.734 a 0.822  clct[20, 20] ans[20, 20] cl_acc 1.000 2.292sec\n"
     ]
    },
    {
     "name": "stdout",
     "output_type": "stream",
     "text": [
      "Epoch 238 tr: l 0.607 a 0.854  clct[25, 35] ans[25, 35] lr 0.022862 cl_acc 1.000 43.821sec(train) 3.877sec(infer)\n"
     ]
    },
    {
     "name": "stdout",
     "output_type": "stream",
     "text": [
      "Epoch 238 tst: l 0.738 a 0.824  clct[20, 20] ans[20, 20] cl_acc 1.000 2.376sec\n"
     ]
    },
    {
     "name": "stdout",
     "output_type": "stream",
     "text": [
      "Epoch 239 tr: l 0.622 a 0.849  clct[25, 35] ans[25, 35] lr 0.022633 cl_acc 1.000 43.482sec(train) 3.775sec(infer)\n"
     ]
    },
    {
     "name": "stdout",
     "output_type": "stream",
     "text": [
      "Epoch 239 tst: l 0.748 a 0.821  clct[20, 20] ans[20, 20] cl_acc 1.000 2.325sec\n"
     ]
    },
    {
     "name": "stdout",
     "output_type": "stream",
     "text": [
      "Epoch 240 tr: l 0.601 a 0.857  clct[35, 25] ans[35, 25] lr 0.022407 cl_acc 1.000 43.704sec(train) 3.756sec(infer)\n"
     ]
    },
    {
     "name": "stdout",
     "output_type": "stream",
     "text": [
      "Epoch 240 tst: l 0.733 a 0.822  clct[20, 20] ans[20, 20] cl_acc 1.000 2.417sec\n",
      "result written at output/results.pickle\n"
     ]
    },
    {
     "name": "stdout",
     "output_type": "stream",
     "text": [
      "Epoch 241 tr: l 0.601 a 0.856  clct[27, 33] ans[27, 33] lr 0.022183 cl_acc 1.000 44.021sec(train) 3.823sec(infer)\n"
     ]
    },
    {
     "name": "stdout",
     "output_type": "stream",
     "text": [
      "Epoch 241 tst: l 0.748 a 0.819  clct[20, 20] ans[20, 20] cl_acc 1.000 2.378sec\n"
     ]
    },
    {
     "name": "stdout",
     "output_type": "stream",
     "text": [
      "Epoch 242 tr: l 0.611 a 0.851  clct[29, 31] ans[29, 31] lr 0.021961 cl_acc 1.000 43.698sec(train) 3.816sec(infer)\n"
     ]
    },
    {
     "name": "stdout",
     "output_type": "stream",
     "text": [
      "Epoch 242 tst: l 0.731 a 0.827  clct[20, 20] ans[20, 20] cl_acc 1.000 2.357sec\n"
     ]
    },
    {
     "name": "stdout",
     "output_type": "stream",
     "text": [
      "Epoch 243 tr: l 0.609 a 0.850  clct[32, 28] ans[32, 28] lr 0.021742 cl_acc 1.000 43.561sec(train) 3.753sec(infer)\n"
     ]
    },
    {
     "name": "stdout",
     "output_type": "stream",
     "text": [
      "Epoch 243 tst: l 0.736 a 0.819  clct[20, 20] ans[20, 20] cl_acc 1.000 2.341sec\n"
     ]
    },
    {
     "name": "stdout",
     "output_type": "stream",
     "text": [
      "Epoch 244 tr: l 0.629 a 0.847  clct[26, 34] ans[26, 34] lr 0.021524 cl_acc 1.000 44.065sec(train) 3.628sec(infer)\n"
     ]
    },
    {
     "name": "stdout",
     "output_type": "stream",
     "text": [
      "Epoch 244 tst: l 0.751 a 0.819  clct[20, 20] ans[20, 20] cl_acc 1.000 2.256sec\n"
     ]
    },
    {
     "name": "stdout",
     "output_type": "stream",
     "text": [
      "Epoch 245 tr: l 0.624 a 0.849  clct[26, 34] ans[26, 34] lr 0.021309 cl_acc 1.000 43.953sec(train) 3.700sec(infer)\n"
     ]
    },
    {
     "name": "stdout",
     "output_type": "stream",
     "text": [
      "Epoch 245 tst: l 0.739 a 0.823  clct[20, 20] ans[20, 20] cl_acc 1.000 2.261sec\n"
     ]
    },
    {
     "name": "stdout",
     "output_type": "stream",
     "text": [
      "Epoch 246 tr: l 0.614 a 0.847  clct[26, 34] ans[26, 34] lr 0.021096 cl_acc 1.000 44.096sec(train) 3.739sec(infer)\n"
     ]
    },
    {
     "name": "stdout",
     "output_type": "stream",
     "text": [
      "Epoch 246 tst: l 0.726 a 0.820  clct[20, 20] ans[20, 20] cl_acc 1.000 2.312sec\n"
     ]
    },
    {
     "name": "stdout",
     "output_type": "stream",
     "text": [
      "Epoch 247 tr: l 0.593 a 0.857  clct[26, 34] ans[26, 34] lr 0.020885 cl_acc 1.000 44.000sec(train) 3.739sec(infer)\n"
     ]
    },
    {
     "name": "stdout",
     "output_type": "stream",
     "text": [
      "Epoch 247 tst: l 0.731 a 0.824  clct[20, 20] ans[20, 20] cl_acc 1.000 2.293sec\n"
     ]
    },
    {
     "name": "stdout",
     "output_type": "stream",
     "text": [
      "Epoch 248 tr: l 0.601 a 0.855  clct[30, 30] ans[30, 30] lr 0.020676 cl_acc 1.000 43.813sec(train) 3.781sec(infer)\n"
     ]
    },
    {
     "name": "stdout",
     "output_type": "stream",
     "text": [
      "Epoch 248 tst: l 0.740 a 0.822  clct[20, 20] ans[20, 20] cl_acc 1.000 2.258sec\n"
     ]
    },
    {
     "name": "stdout",
     "output_type": "stream",
     "text": [
      "Epoch 249 tr: l 0.582 a 0.862  clct[32, 28] ans[32, 28] lr 0.020469 cl_acc 1.000 44.026sec(train) 3.677sec(infer)\n"
     ]
    },
    {
     "name": "stdout",
     "output_type": "stream",
     "text": [
      "Epoch 249 tst: l 0.738 a 0.821  clct[20, 20] ans[20, 20] cl_acc 1.000 2.430sec\n"
     ]
    },
    {
     "name": "stdout",
     "output_type": "stream",
     "text": [
      "Epoch 250 tr: l 0.615 a 0.849  clct[36, 24] ans[36, 24] lr 0.020265 cl_acc 1.000 44.248sec(train) 3.654sec(infer)\n"
     ]
    },
    {
     "name": "stdout",
     "output_type": "stream",
     "text": [
      "Epoch 250 tst: l 0.745 a 0.819  clct[20, 20] ans[20, 20] cl_acc 1.000 2.296sec\n",
      "result written at output/results.pickle\n"
     ]
    },
    {
     "name": "stdout",
     "output_type": "stream",
     "text": [
      "Epoch 251 tr: l 0.594 a 0.857  clct[28, 32] ans[28, 32] lr 0.020062 cl_acc 1.000 44.155sec(train) 3.761sec(infer)\n"
     ]
    },
    {
     "name": "stdout",
     "output_type": "stream",
     "text": [
      "Epoch 251 tst: l 0.733 a 0.823  clct[20, 20] ans[20, 20] cl_acc 1.000 2.371sec\n"
     ]
    },
    {
     "name": "stdout",
     "output_type": "stream",
     "text": [
      "Epoch 252 tr: l 0.573 a 0.864  clct[24, 36] ans[24, 36] lr 0.019861 cl_acc 1.000 44.045sec(train) 3.761sec(infer)\n"
     ]
    },
    {
     "name": "stdout",
     "output_type": "stream",
     "text": [
      "Epoch 252 tst: l 0.735 a 0.821  clct[20, 20] ans[20, 20] cl_acc 1.000 2.328sec\n"
     ]
    },
    {
     "name": "stdout",
     "output_type": "stream",
     "text": [
      "Epoch 253 tr: l 0.575 a 0.860  clct[29, 31] ans[29, 31] lr 0.019663 cl_acc 1.000 43.941sec(train) 3.838sec(infer)\n"
     ]
    },
    {
     "name": "stdout",
     "output_type": "stream",
     "text": [
      "Epoch 253 tst: l 0.715 a 0.825  clct[20, 20] ans[20, 20] cl_acc 1.000 2.275sec\n"
     ]
    },
    {
     "name": "stdout",
     "output_type": "stream",
     "text": [
      "Epoch 254 tr: l 0.606 a 0.851  clct[27, 33] ans[27, 33] lr 0.019466 cl_acc 1.000 44.089sec(train) 3.734sec(infer)\n"
     ]
    },
    {
     "name": "stdout",
     "output_type": "stream",
     "text": [
      "Epoch 254 tst: l 0.750 a 0.822  clct[20, 20] ans[20, 20] cl_acc 1.000 2.249sec\n"
     ]
    },
    {
     "name": "stdout",
     "output_type": "stream",
     "text": [
      "Epoch 255 tr: l 0.611 a 0.851  clct[32, 28] ans[32, 28] lr 0.019271 cl_acc 1.000 43.972sec(train) 3.732sec(infer)\n"
     ]
    },
    {
     "name": "stdout",
     "output_type": "stream",
     "text": [
      "Epoch 255 tst: l 0.741 a 0.821  clct[20, 20] ans[20, 20] cl_acc 1.000 2.286sec\n"
     ]
    },
    {
     "name": "stdout",
     "output_type": "stream",
     "text": [
      "Epoch 256 tr: l 0.554 a 0.869  clct[30, 30] ans[30, 30] lr 0.019079 cl_acc 1.000 43.951sec(train) 3.680sec(infer)\n"
     ]
    },
    {
     "name": "stdout",
     "output_type": "stream",
     "text": [
      "Epoch 256 tst: l 0.722 a 0.826  clct[20, 20] ans[20, 20] cl_acc 1.000 2.322sec\n"
     ]
    },
    {
     "name": "stdout",
     "output_type": "stream",
     "text": [
      "Epoch 257 tr: l 0.574 a 0.863  clct[34, 26] ans[34, 26] lr 0.018888 cl_acc 1.000 44.113sec(train) 3.728sec(infer)\n"
     ]
    },
    {
     "name": "stdout",
     "output_type": "stream",
     "text": [
      "Epoch 257 tst: l 0.727 a 0.823  clct[20, 20] ans[20, 20] cl_acc 1.000 2.329sec\n"
     ]
    },
    {
     "name": "stdout",
     "output_type": "stream",
     "text": [
      "Epoch 258 tr: l 0.607 a 0.853  clct[34, 26] ans[34, 26] lr 0.018699 cl_acc 1.000 44.041sec(train) 3.861sec(infer)\n"
     ]
    },
    {
     "name": "stdout",
     "output_type": "stream",
     "text": [
      "Epoch 258 tst: l 0.737 a 0.822  clct[20, 20] ans[20, 20] cl_acc 1.000 2.339sec\n"
     ]
    },
    {
     "name": "stdout",
     "output_type": "stream",
     "text": [
      "Epoch 259 tr: l 0.569 a 0.861  clct[26, 34] ans[26, 34] lr 0.018512 cl_acc 1.000 43.741sec(train) 3.662sec(infer)\n"
     ]
    },
    {
     "name": "stdout",
     "output_type": "stream",
     "text": [
      "Epoch 259 tst: l 0.723 a 0.827  clct[20, 20] ans[20, 20] cl_acc 1.000 2.289sec\n"
     ]
    },
    {
     "name": "stdout",
     "output_type": "stream",
     "text": [
      "Epoch 260 tr: l 0.567 a 0.861  clct[25, 35] ans[25, 35] lr 0.018327 cl_acc 1.000 43.837sec(train) 3.731sec(infer)\n"
     ]
    },
    {
     "name": "stdout",
     "output_type": "stream",
     "text": [
      "Epoch 260 tst: l 0.720 a 0.826  clct[20, 20] ans[20, 20] cl_acc 1.000 2.291sec\n",
      "result written at output/results.pickle\n"
     ]
    },
    {
     "name": "stdout",
     "output_type": "stream",
     "text": [
      "Epoch 261 tr: l 0.563 a 0.867  clct[28, 32] ans[28, 32] lr 0.018144 cl_acc 1.000 43.799sec(train) 3.754sec(infer)\n"
     ]
    },
    {
     "name": "stdout",
     "output_type": "stream",
     "text": [
      "Epoch 261 tst: l 0.716 a 0.826  clct[20, 20] ans[20, 20] cl_acc 1.000 2.355sec\n"
     ]
    },
    {
     "name": "stdout",
     "output_type": "stream",
     "text": [
      "Epoch 262 tr: l 0.577 a 0.859  clct[29, 31] ans[29, 31] lr 0.017962 cl_acc 1.000 44.056sec(train) 3.720sec(infer)\n"
     ]
    },
    {
     "name": "stdout",
     "output_type": "stream",
     "text": [
      "Epoch 262 tst: l 0.714 a 0.826  clct[20, 20] ans[20, 20] cl_acc 1.000 2.326sec\n"
     ]
    },
    {
     "name": "stdout",
     "output_type": "stream",
     "text": [
      "Epoch 263 tr: l 0.578 a 0.861  clct[31, 29] ans[31, 29] lr 0.017783 cl_acc 1.000 43.945sec(train) 3.756sec(infer)\n"
     ]
    },
    {
     "name": "stdout",
     "output_type": "stream",
     "text": [
      "Epoch 263 tst: l 0.734 a 0.822  clct[20, 20] ans[20, 20] cl_acc 1.000 2.285sec\n"
     ]
    },
    {
     "name": "stdout",
     "output_type": "stream",
     "text": [
      "Epoch 264 tr: l 0.579 a 0.859  clct[31, 29] ans[31, 29] lr 0.017605 cl_acc 1.000 43.703sec(train) 3.691sec(infer)\n"
     ]
    },
    {
     "name": "stdout",
     "output_type": "stream",
     "text": [
      "Epoch 264 tst: l 0.720 a 0.828  clct[20, 20] ans[20, 20] cl_acc 1.000 2.345sec\n"
     ]
    },
    {
     "name": "stdout",
     "output_type": "stream",
     "text": [
      "Epoch 265 tr: l 0.566 a 0.862  clct[27, 33] ans[27, 33] lr 0.017429 cl_acc 1.000 43.878sec(train) 3.721sec(infer)\n"
     ]
    },
    {
     "name": "stdout",
     "output_type": "stream",
     "text": [
      "Epoch 265 tst: l 0.722 a 0.822  clct[20, 20] ans[20, 20] cl_acc 1.000 2.293sec\n"
     ]
    },
    {
     "name": "stdout",
     "output_type": "stream",
     "text": [
      "Epoch 266 tr: l 0.539 a 0.872  clct[27, 33] ans[27, 33] lr 0.017254 cl_acc 1.000 44.132sec(train) 3.799sec(infer)\n"
     ]
    },
    {
     "name": "stdout",
     "output_type": "stream",
     "text": [
      "Epoch 266 tst: l 0.726 a 0.825  clct[20, 20] ans[20, 20] cl_acc 1.000 2.334sec\n"
     ]
    },
    {
     "name": "stdout",
     "output_type": "stream",
     "text": [
      "Epoch 267 tr: l 0.537 a 0.869  clct[24, 36] ans[24, 36] lr 0.017082 cl_acc 1.000 44.241sec(train) 3.763sec(infer)\n"
     ]
    },
    {
     "name": "stdout",
     "output_type": "stream",
     "text": [
      "Epoch 267 tst: l 0.730 a 0.825  clct[20, 20] ans[20, 20] cl_acc 1.000 2.322sec\n"
     ]
    },
    {
     "name": "stdout",
     "output_type": "stream",
     "text": [
      "Epoch 268 tr: l 0.582 a 0.859  clct[30, 30] ans[30, 30] lr 0.016911 cl_acc 1.000 44.250sec(train) 3.674sec(infer)\n"
     ]
    },
    {
     "name": "stdout",
     "output_type": "stream",
     "text": [
      "Epoch 268 tst: l 0.724 a 0.822  clct[20, 20] ans[20, 20] cl_acc 1.000 2.393sec\n"
     ]
    },
    {
     "name": "stdout",
     "output_type": "stream",
     "text": [
      "Epoch 269 tr: l 0.555 a 0.868  clct[32, 28] ans[32, 28] lr 0.016742 cl_acc 1.000 44.302sec(train) 3.675sec(infer)\n"
     ]
    },
    {
     "name": "stdout",
     "output_type": "stream",
     "text": [
      "Epoch 269 tst: l 0.707 a 0.827  clct[20, 20] ans[20, 20] cl_acc 1.000 2.337sec\n"
     ]
    },
    {
     "name": "stdout",
     "output_type": "stream",
     "text": [
      "Epoch 270 tr: l 0.566 a 0.861  clct[27, 33] ans[27, 33] lr 0.016575 cl_acc 1.000 43.933sec(train) 3.795sec(infer)\n"
     ]
    },
    {
     "name": "stdout",
     "output_type": "stream",
     "text": [
      "Epoch 270 tst: l 0.720 a 0.828  clct[20, 20] ans[20, 20] cl_acc 1.000 2.349sec\n",
      "result written at output/results.pickle\n"
     ]
    },
    {
     "name": "stdout",
     "output_type": "stream",
     "text": [
      "Epoch 271 tr: l 0.539 a 0.870  clct[29, 31] ans[29, 31] lr 0.016409 cl_acc 1.000 44.332sec(train) 3.727sec(infer)\n"
     ]
    },
    {
     "name": "stdout",
     "output_type": "stream",
     "text": [
      "Epoch 271 tst: l 0.723 a 0.826  clct[20, 20] ans[20, 20] cl_acc 1.000 2.328sec\n"
     ]
    },
    {
     "name": "stdout",
     "output_type": "stream",
     "text": [
      "Epoch 272 tr: l 0.547 a 0.869  clct[30, 30] ans[30, 30] lr 0.016245 cl_acc 1.000 44.111sec(train) 3.916sec(infer)\n"
     ]
    },
    {
     "name": "stdout",
     "output_type": "stream",
     "text": [
      "Epoch 272 tst: l 0.718 a 0.827  clct[20, 20] ans[20, 20] cl_acc 1.000 2.310sec\n"
     ]
    },
    {
     "name": "stdout",
     "output_type": "stream",
     "text": [
      "Epoch 273 tr: l 0.534 a 0.872  clct[25, 35] ans[25, 35] lr 0.016082 cl_acc 1.000 44.132sec(train) 3.792sec(infer)\n"
     ]
    },
    {
     "name": "stdout",
     "output_type": "stream",
     "text": [
      "Epoch 273 tst: l 0.720 a 0.826  clct[20, 20] ans[20, 20] cl_acc 1.000 2.375sec\n"
     ]
    },
    {
     "name": "stdout",
     "output_type": "stream",
     "text": [
      "Epoch 274 tr: l 0.553 a 0.867  clct[25, 35] ans[25, 35] lr 0.015921 cl_acc 1.000 44.008sec(train) 3.845sec(infer)\n"
     ]
    },
    {
     "name": "stdout",
     "output_type": "stream",
     "text": [
      "Epoch 274 tst: l 0.711 a 0.829  clct[20, 20] ans[20, 20] cl_acc 1.000 2.316sec\n"
     ]
    },
    {
     "name": "stdout",
     "output_type": "stream",
     "text": [
      "Epoch 275 tr: l 0.562 a 0.864  clct[32, 28] ans[32, 28] lr 0.015762 cl_acc 1.000 44.095sec(train) 3.755sec(infer)\n"
     ]
    },
    {
     "name": "stdout",
     "output_type": "stream",
     "text": [
      "Epoch 275 tst: l 0.712 a 0.830  clct[20, 20] ans[20, 20] cl_acc 1.000 2.281sec\n"
     ]
    },
    {
     "name": "stdout",
     "output_type": "stream",
     "text": [
      "Epoch 276 tr: l 0.540 a 0.866  clct[28, 32] ans[28, 32] lr 0.015605 cl_acc 1.000 44.178sec(train) 3.717sec(infer)\n"
     ]
    },
    {
     "name": "stdout",
     "output_type": "stream",
     "text": [
      "Epoch 276 tst: l 0.703 a 0.828  clct[20, 20] ans[20, 20] cl_acc 1.000 2.324sec\n"
     ]
    },
    {
     "name": "stdout",
     "output_type": "stream",
     "text": [
      "Epoch 277 tr: l 0.521 a 0.878  clct[33, 27] ans[33, 27] lr 0.015449 cl_acc 1.000 44.141sec(train) 3.708sec(infer)\n"
     ]
    },
    {
     "name": "stdout",
     "output_type": "stream",
     "text": [
      "Epoch 277 tst: l 0.691 a 0.832  clct[20, 20] ans[20, 20] cl_acc 1.000 2.331sec\n"
     ]
    },
    {
     "name": "stdout",
     "output_type": "stream",
     "text": [
      "Epoch 278 tr: l 0.541 a 0.870  clct[24, 36] ans[24, 36] lr 0.015294 cl_acc 1.000 44.272sec(train) 3.741sec(infer)\n"
     ]
    },
    {
     "name": "stdout",
     "output_type": "stream",
     "text": [
      "Epoch 278 tst: l 0.703 a 0.832  clct[20, 20] ans[20, 20] cl_acc 1.000 2.295sec\n"
     ]
    },
    {
     "name": "stdout",
     "output_type": "stream",
     "text": [
      "Epoch 279 tr: l 0.536 a 0.871  clct[31, 29] ans[31, 29] lr 0.015141 cl_acc 1.000 44.210sec(train) 3.668sec(infer)\n"
     ]
    },
    {
     "name": "stdout",
     "output_type": "stream",
     "text": [
      "Epoch 279 tst: l 0.712 a 0.828  clct[20, 20] ans[20, 20] cl_acc 1.000 2.339sec\n"
     ]
    },
    {
     "name": "stdout",
     "output_type": "stream",
     "text": [
      "Epoch 280 tr: l 0.546 a 0.868  clct[26, 34] ans[26, 34] lr 0.014990 cl_acc 1.000 44.140sec(train) 3.641sec(infer)\n"
     ]
    },
    {
     "name": "stdout",
     "output_type": "stream",
     "text": [
      "Epoch 280 tst: l 0.712 a 0.830  clct[20, 20] ans[20, 20] cl_acc 1.000 2.275sec\n",
      "result written at output/results.pickle\n"
     ]
    },
    {
     "name": "stdout",
     "output_type": "stream",
     "text": [
      "Epoch 281 tr: l 0.540 a 0.869  clct[24, 36] ans[24, 36] lr 0.014840 cl_acc 1.000 43.891sec(train) 3.647sec(infer)\n"
     ]
    },
    {
     "name": "stdout",
     "output_type": "stream",
     "text": [
      "Epoch 281 tst: l 0.705 a 0.831  clct[20, 20] ans[20, 20] cl_acc 1.000 2.300sec\n"
     ]
    },
    {
     "name": "stdout",
     "output_type": "stream",
     "text": [
      "Epoch 282 tr: l 0.536 a 0.873  clct[28, 32] ans[28, 32] lr 0.014691 cl_acc 1.000 43.566sec(train) 3.778sec(infer)\n"
     ]
    },
    {
     "name": "stdout",
     "output_type": "stream",
     "text": [
      "Epoch 282 tst: l 0.710 a 0.828  clct[20, 20] ans[20, 20] cl_acc 1.000 2.296sec\n"
     ]
    },
    {
     "name": "stdout",
     "output_type": "stream",
     "text": [
      "Epoch 283 tr: l 0.538 a 0.870  clct[33, 27] ans[33, 27] lr 0.014545 cl_acc 1.000 43.684sec(train) 3.747sec(infer)\n"
     ]
    },
    {
     "name": "stdout",
     "output_type": "stream",
     "text": [
      "Epoch 283 tst: l 0.702 a 0.830  clct[20, 20] ans[20, 20] cl_acc 1.000 2.391sec\n"
     ]
    },
    {
     "name": "stdout",
     "output_type": "stream",
     "text": [
      "Epoch 284 tr: l 0.524 a 0.871  clct[23, 37] ans[23, 37] lr 0.014399 cl_acc 1.000 43.634sec(train) 3.766sec(infer)\n"
     ]
    },
    {
     "name": "stdout",
     "output_type": "stream",
     "text": [
      "Epoch 284 tst: l 0.706 a 0.829  clct[20, 20] ans[20, 20] cl_acc 1.000 2.334sec\n"
     ]
    },
    {
     "name": "stdout",
     "output_type": "stream",
     "text": [
      "Epoch 285 tr: l 0.506 a 0.881  clct[30, 30] ans[30, 30] lr 0.014255 cl_acc 1.000 43.928sec(train) 3.703sec(infer)\n"
     ]
    },
    {
     "name": "stdout",
     "output_type": "stream",
     "text": [
      "Epoch 285 tst: l 0.697 a 0.832  clct[20, 20] ans[20, 20] cl_acc 1.000 2.317sec\n"
     ]
    },
    {
     "name": "stdout",
     "output_type": "stream",
     "text": [
      "Epoch 286 tr: l 0.539 a 0.869  clct[30, 30] ans[30, 30] lr 0.014113 cl_acc 1.000 43.657sec(train) 3.835sec(infer)\n"
     ]
    },
    {
     "name": "stdout",
     "output_type": "stream",
     "text": [
      "Epoch 286 tst: l 0.694 a 0.831  clct[20, 20] ans[20, 20] cl_acc 1.000 2.388sec\n"
     ]
    },
    {
     "name": "stdout",
     "output_type": "stream",
     "text": [
      "Epoch 287 tr: l 0.513 a 0.875  clct[29, 31] ans[29, 31] lr 0.013971 cl_acc 1.000 43.667sec(train) 3.772sec(infer)\n"
     ]
    },
    {
     "name": "stdout",
     "output_type": "stream",
     "text": [
      "Epoch 287 tst: l 0.700 a 0.832  clct[20, 20] ans[20, 20] cl_acc 1.000 2.381sec\n"
     ]
    },
    {
     "name": "stdout",
     "output_type": "stream",
     "text": [
      "Epoch 288 tr: l 0.519 a 0.872  clct[39, 21] ans[39, 21] lr 0.013832 cl_acc 1.000 43.890sec(train) 3.824sec(infer)\n"
     ]
    },
    {
     "name": "stdout",
     "output_type": "stream",
     "text": [
      "Epoch 288 tst: l 0.692 a 0.830  clct[20, 20] ans[20, 20] cl_acc 1.000 2.379sec\n"
     ]
    },
    {
     "name": "stdout",
     "output_type": "stream",
     "text": [
      "Epoch 289 tr: l 0.524 a 0.872  clct[30, 30] ans[30, 30] lr 0.013693 cl_acc 1.000 43.842sec(train) 3.756sec(infer)\n"
     ]
    },
    {
     "name": "stdout",
     "output_type": "stream",
     "text": [
      "Epoch 289 tst: l 0.709 a 0.827  clct[20, 20] ans[20, 20] cl_acc 1.000 2.359sec\n"
     ]
    },
    {
     "name": "stdout",
     "output_type": "stream",
     "text": [
      "Epoch 290 tr: l 0.513 a 0.877  clct[36, 24] ans[36, 24] lr 0.013556 cl_acc 1.000 44.096sec(train) 3.667sec(infer)\n"
     ]
    },
    {
     "name": "stdout",
     "output_type": "stream",
     "text": [
      "Epoch 290 tst: l 0.695 a 0.830  clct[20, 20] ans[20, 20] cl_acc 1.000 2.303sec\n",
      "result written at output/results.pickle\n"
     ]
    },
    {
     "name": "stdout",
     "output_type": "stream",
     "text": [
      "Epoch 291 tr: l 0.516 a 0.876  clct[29, 31] ans[29, 31] lr 0.013421 cl_acc 1.000 43.725sec(train) 3.702sec(infer)\n"
     ]
    },
    {
     "name": "stdout",
     "output_type": "stream",
     "text": [
      "Epoch 291 tst: l 0.699 a 0.831  clct[20, 20] ans[20, 20] cl_acc 1.000 2.280sec\n"
     ]
    },
    {
     "name": "stdout",
     "output_type": "stream",
     "text": [
      "Epoch 292 tr: l 0.553 a 0.864  clct[34, 26] ans[34, 26] lr 0.013287 cl_acc 1.000 44.071sec(train) 3.666sec(infer)\n"
     ]
    },
    {
     "name": "stdout",
     "output_type": "stream",
     "text": [
      "Epoch 292 tst: l 0.720 a 0.826  clct[20, 20] ans[20, 20] cl_acc 1.000 2.299sec\n"
     ]
    },
    {
     "name": "stdout",
     "output_type": "stream",
     "text": [
      "Epoch 293 tr: l 0.538 a 0.867  clct[30, 30] ans[30, 30] lr 0.013154 cl_acc 1.000 44.082sec(train) 3.622sec(infer)\n"
     ]
    },
    {
     "name": "stdout",
     "output_type": "stream",
     "text": [
      "Epoch 293 tst: l 0.703 a 0.829  clct[20, 20] ans[20, 20] cl_acc 1.000 2.314sec\n"
     ]
    },
    {
     "name": "stdout",
     "output_type": "stream",
     "text": [
      "Epoch 294 tr: l 0.518 a 0.874  clct[29, 31] ans[29, 31] lr 0.013022 cl_acc 1.000 44.074sec(train) 3.763sec(infer)\n"
     ]
    },
    {
     "name": "stdout",
     "output_type": "stream",
     "text": [
      "Epoch 294 tst: l 0.698 a 0.830  clct[20, 20] ans[20, 20] cl_acc 1.000 2.306sec\n"
     ]
    },
    {
     "name": "stdout",
     "output_type": "stream",
     "text": [
      "Epoch 295 tr: l 0.513 a 0.875  clct[31, 29] ans[31, 29] lr 0.012892 cl_acc 1.000 44.091sec(train) 3.867sec(infer)\n"
     ]
    },
    {
     "name": "stdout",
     "output_type": "stream",
     "text": [
      "Epoch 295 tst: l 0.700 a 0.829  clct[20, 20] ans[20, 20] cl_acc 1.000 2.288sec\n"
     ]
    },
    {
     "name": "stdout",
     "output_type": "stream",
     "text": [
      "Epoch 296 tr: l 0.516 a 0.875  clct[27, 33] ans[27, 33] lr 0.012763 cl_acc 1.000 44.197sec(train) 3.782sec(infer)\n"
     ]
    },
    {
     "name": "stdout",
     "output_type": "stream",
     "text": [
      "Epoch 296 tst: l 0.700 a 0.829  clct[20, 20] ans[20, 20] cl_acc 1.000 2.289sec\n"
     ]
    },
    {
     "name": "stdout",
     "output_type": "stream",
     "text": [
      "Epoch 297 tr: l 0.509 a 0.878  clct[25, 35] ans[25, 35] lr 0.012636 cl_acc 1.000 44.260sec(train) 3.670sec(infer)\n"
     ]
    },
    {
     "name": "stdout",
     "output_type": "stream",
     "text": [
      "Epoch 297 tst: l 0.709 a 0.830  clct[20, 20] ans[20, 20] cl_acc 1.000 2.289sec\n"
     ]
    },
    {
     "name": "stdout",
     "output_type": "stream",
     "text": [
      "Epoch 298 tr: l 0.514 a 0.873  clct[32, 28] ans[32, 28] lr 0.012509 cl_acc 1.000 43.988sec(train) 3.810sec(infer)\n"
     ]
    },
    {
     "name": "stdout",
     "output_type": "stream",
     "text": [
      "Epoch 298 tst: l 0.723 a 0.826  clct[20, 20] ans[20, 20] cl_acc 1.000 2.339sec\n"
     ]
    },
    {
     "name": "stdout",
     "output_type": "stream",
     "text": [
      "Epoch 299 tr: l 0.471 a 0.889  clct[31, 29] ans[31, 29] lr 0.012384 cl_acc 1.000 44.134sec(train) 3.735sec(infer)\n"
     ]
    },
    {
     "name": "stdout",
     "output_type": "stream",
     "text": [
      "Epoch 299 tst: l 0.692 a 0.834  clct[20, 20] ans[20, 20] cl_acc 1.000 2.334sec\n"
     ]
    },
    {
     "name": "stdout",
     "output_type": "stream",
     "text": [
      "Epoch 300 tr: l 0.545 a 0.866  clct[29, 31] ans[29, 31] lr 0.012260 cl_acc 1.000 44.276sec(train) 3.698sec(infer)\n"
     ]
    },
    {
     "name": "stdout",
     "output_type": "stream",
     "text": [
      "Epoch 300 tst: l 0.713 a 0.830  clct[20, 20] ans[20, 20] cl_acc 1.000 2.382sec\n",
      "result written at output/results.pickle\n"
     ]
    },
    {
     "name": "stdout",
     "output_type": "stream",
     "text": [
      "Epoch 301 tr: l 0.503 a 0.876  clct[32, 28] ans[32, 28] lr 0.012138 cl_acc 1.000 44.173sec(train) 3.812sec(infer)\n"
     ]
    },
    {
     "name": "stdout",
     "output_type": "stream",
     "text": [
      "Epoch 301 tst: l 0.699 a 0.830  clct[20, 20] ans[20, 20] cl_acc 1.000 2.409sec\n"
     ]
    },
    {
     "name": "stdout",
     "output_type": "stream",
     "text": [
      "Epoch 302 tr: l 0.516 a 0.874  clct[33, 27] ans[33, 27] lr 0.012016 cl_acc 1.000 43.983sec(train) 3.799sec(infer)\n"
     ]
    },
    {
     "name": "stdout",
     "output_type": "stream",
     "text": [
      "Epoch 302 tst: l 0.694 a 0.832  clct[20, 20] ans[20, 20] cl_acc 1.000 2.307sec\n"
     ]
    },
    {
     "name": "stdout",
     "output_type": "stream",
     "text": [
      "Epoch 303 tr: l 0.471 a 0.888  clct[24, 36] ans[24, 36] lr 0.011896 cl_acc 1.000 43.539sec(train) 3.693sec(infer)\n"
     ]
    },
    {
     "name": "stdout",
     "output_type": "stream",
     "text": [
      "Epoch 303 tst: l 0.681 a 0.833  clct[20, 20] ans[20, 20] cl_acc 1.000 2.330sec\n"
     ]
    },
    {
     "name": "stdout",
     "output_type": "stream",
     "text": [
      "Epoch 304 tr: l 0.488 a 0.882  clct[32, 28] ans[32, 28] lr 0.011777 cl_acc 1.000 43.770sec(train) 3.693sec(infer)\n"
     ]
    },
    {
     "name": "stdout",
     "output_type": "stream",
     "text": [
      "Epoch 304 tst: l 0.693 a 0.833  clct[20, 20] ans[20, 20] cl_acc 1.000 2.416sec\n"
     ]
    },
    {
     "name": "stdout",
     "output_type": "stream",
     "text": [
      "Epoch 305 tr: l 0.494 a 0.882  clct[30, 30] ans[30, 30] lr 0.011659 cl_acc 1.000 43.847sec(train) 3.770sec(infer)\n"
     ]
    },
    {
     "name": "stdout",
     "output_type": "stream",
     "text": [
      "Epoch 305 tst: l 0.688 a 0.830  clct[20, 20] ans[20, 20] cl_acc 1.000 2.313sec\n"
     ]
    },
    {
     "name": "stdout",
     "output_type": "stream",
     "text": [
      "Epoch 306 tr: l 0.506 a 0.877  clct[34, 26] ans[34, 26] lr 0.011543 cl_acc 1.000 43.724sec(train) 3.745sec(infer)\n"
     ]
    },
    {
     "name": "stdout",
     "output_type": "stream",
     "text": [
      "Epoch 306 tst: l 0.695 a 0.830  clct[20, 20] ans[20, 20] cl_acc 1.000 2.366sec\n"
     ]
    },
    {
     "name": "stdout",
     "output_type": "stream",
     "text": [
      "Epoch 307 tr: l 0.500 a 0.880  clct[26, 34] ans[26, 34] lr 0.011427 cl_acc 1.000 43.801sec(train) 3.675sec(infer)\n"
     ]
    },
    {
     "name": "stdout",
     "output_type": "stream",
     "text": [
      "Epoch 307 tst: l 0.693 a 0.832  clct[20, 20] ans[20, 20] cl_acc 1.000 2.342sec\n"
     ]
    },
    {
     "name": "stdout",
     "output_type": "stream",
     "text": [
      "Epoch 308 tr: l 0.496 a 0.881  clct[29, 31] ans[29, 31] lr 0.011313 cl_acc 1.000 44.096sec(train) 3.707sec(infer)\n"
     ]
    },
    {
     "name": "stdout",
     "output_type": "stream",
     "text": [
      "Epoch 308 tst: l 0.692 a 0.831  clct[20, 20] ans[20, 20] cl_acc 1.000 2.326sec\n"
     ]
    },
    {
     "name": "stdout",
     "output_type": "stream",
     "text": [
      "Epoch 309 tr: l 0.490 a 0.881  clct[35, 25] ans[35, 25] lr 0.011200 cl_acc 1.000 43.542sec(train) 3.721sec(infer)\n"
     ]
    },
    {
     "name": "stdout",
     "output_type": "stream",
     "text": [
      "Epoch 309 tst: l 0.697 a 0.832  clct[20, 20] ans[20, 20] cl_acc 1.000 2.340sec\n"
     ]
    },
    {
     "name": "stdout",
     "output_type": "stream",
     "text": [
      "Epoch 310 tr: l 0.481 a 0.885  clct[32, 28] ans[32, 28] lr 0.011088 cl_acc 1.000 43.722sec(train) 3.706sec(infer)\n"
     ]
    },
    {
     "name": "stdout",
     "output_type": "stream",
     "text": [
      "Epoch 310 tst: l 0.682 a 0.832  clct[20, 20] ans[20, 20] cl_acc 1.000 2.329sec\n",
      "result written at output/results.pickle\n"
     ]
    },
    {
     "name": "stdout",
     "output_type": "stream",
     "text": [
      "Epoch 311 tr: l 0.487 a 0.883  clct[28, 32] ans[28, 32] lr 0.010977 cl_acc 1.000 43.968sec(train) 3.761sec(infer)\n"
     ]
    },
    {
     "name": "stdout",
     "output_type": "stream",
     "text": [
      "Epoch 311 tst: l 0.673 a 0.834  clct[20, 20] ans[20, 20] cl_acc 1.000 2.364sec\n"
     ]
    },
    {
     "name": "stdout",
     "output_type": "stream",
     "text": [
      "Epoch 312 tr: l 0.500 a 0.876  clct[25, 35] ans[25, 35] lr 0.010867 cl_acc 1.000 43.698sec(train) 3.776sec(infer)\n"
     ]
    },
    {
     "name": "stdout",
     "output_type": "stream",
     "text": [
      "Epoch 312 tst: l 0.689 a 0.833  clct[20, 20] ans[20, 20] cl_acc 1.000 2.299sec\n"
     ]
    },
    {
     "name": "stdout",
     "output_type": "stream",
     "text": [
      "Epoch 313 tr: l 0.496 a 0.879  clct[32, 28] ans[32, 28] lr 0.010759 cl_acc 1.000 44.002sec(train) 3.703sec(infer)\n"
     ]
    },
    {
     "name": "stdout",
     "output_type": "stream",
     "text": [
      "Epoch 313 tst: l 0.699 a 0.830  clct[20, 20] ans[20, 20] cl_acc 1.000 2.267sec\n"
     ]
    },
    {
     "name": "stdout",
     "output_type": "stream",
     "text": [
      "Epoch 314 tr: l 0.484 a 0.881  clct[31, 29] ans[31, 29] lr 0.010651 cl_acc 1.000 44.270sec(train) 3.674sec(infer)\n"
     ]
    },
    {
     "name": "stdout",
     "output_type": "stream",
     "text": [
      "Epoch 314 tst: l 0.686 a 0.832  clct[20, 20] ans[20, 20] cl_acc 1.000 2.293sec\n"
     ]
    },
    {
     "name": "stdout",
     "output_type": "stream",
     "text": [
      "Epoch 315 tr: l 0.487 a 0.884  clct[29, 31] ans[29, 31] lr 0.010545 cl_acc 1.000 43.875sec(train) 3.721sec(infer)\n"
     ]
    },
    {
     "name": "stdout",
     "output_type": "stream",
     "text": [
      "Epoch 315 tst: l 0.679 a 0.835  clct[20, 20] ans[20, 20] cl_acc 1.000 2.290sec\n"
     ]
    },
    {
     "name": "stdout",
     "output_type": "stream",
     "text": [
      "Epoch 316 tr: l 0.456 a 0.892  clct[29, 31] ans[29, 31] lr 0.010439 cl_acc 1.000 43.688sec(train) 3.689sec(infer)\n"
     ]
    },
    {
     "name": "stdout",
     "output_type": "stream",
     "text": [
      "Epoch 316 tst: l 0.676 a 0.835  clct[20, 20] ans[20, 20] cl_acc 1.000 2.331sec\n"
     ]
    },
    {
     "name": "stdout",
     "output_type": "stream",
     "text": [
      "Epoch 317 tr: l 0.450 a 0.892  clct[28, 32] ans[28, 32] lr 0.010335 cl_acc 1.000 44.147sec(train) 3.631sec(infer)\n"
     ]
    },
    {
     "name": "stdout",
     "output_type": "stream",
     "text": [
      "Epoch 317 tst: l 0.672 a 0.835  clct[20, 20] ans[20, 20] cl_acc 1.000 2.266sec\n"
     ]
    },
    {
     "name": "stdout",
     "output_type": "stream",
     "text": [
      "Epoch 318 tr: l 0.473 a 0.887  clct[28, 32] ans[28, 32] lr 0.010231 cl_acc 1.000 44.234sec(train) 3.747sec(infer)\n"
     ]
    },
    {
     "name": "stdout",
     "output_type": "stream",
     "text": [
      "Epoch 318 tst: l 0.679 a 0.833  clct[20, 20] ans[20, 20] cl_acc 1.000 2.388sec\n"
     ]
    },
    {
     "name": "stdout",
     "output_type": "stream",
     "text": [
      "Epoch 319 tr: l 0.484 a 0.883  clct[28, 32] ans[28, 32] lr 0.010129 cl_acc 1.000 44.037sec(train) 3.889sec(infer)\n"
     ]
    },
    {
     "name": "stdout",
     "output_type": "stream",
     "text": [
      "Epoch 319 tst: l 0.695 a 0.831  clct[20, 20] ans[20, 20] cl_acc 1.000 2.439sec\n"
     ]
    },
    {
     "name": "stdout",
     "output_type": "stream",
     "text": [
      "Epoch 320 tr: l 0.443 a 0.896  clct[32, 28] ans[32, 28] lr 0.010028 cl_acc 1.000 44.068sec(train) 3.836sec(infer)\n"
     ]
    },
    {
     "name": "stdout",
     "output_type": "stream",
     "text": [
      "Epoch 320 tst: l 0.664 a 0.836  clct[20, 20] ans[20, 20] cl_acc 1.000 2.260sec\n",
      "result written at output/results.pickle\n"
     ]
    },
    {
     "name": "stdout",
     "output_type": "stream",
     "text": [
      "Epoch 321 tr: l 0.457 a 0.890  clct[28, 32] ans[28, 32] lr 0.009927 cl_acc 1.000 44.046sec(train) 3.835sec(infer)\n"
     ]
    },
    {
     "name": "stdout",
     "output_type": "stream",
     "text": [
      "Epoch 321 tst: l 0.694 a 0.835  clct[20, 20] ans[20, 20] cl_acc 1.000 2.380sec\n"
     ]
    },
    {
     "name": "stdout",
     "output_type": "stream",
     "text": [
      "Epoch 322 tr: l 0.456 a 0.890  clct[33, 27] ans[33, 27] lr 0.009828 cl_acc 1.000 44.253sec(train) 3.782sec(infer)\n"
     ]
    },
    {
     "name": "stdout",
     "output_type": "stream",
     "text": [
      "Epoch 322 tst: l 0.680 a 0.837  clct[20, 20] ans[20, 20] cl_acc 1.000 2.233sec\n"
     ]
    },
    {
     "name": "stdout",
     "output_type": "stream",
     "text": [
      "Epoch 323 tr: l 0.448 a 0.894  clct[31, 29] ans[31, 29] lr 0.009730 cl_acc 1.000 43.799sec(train) 3.705sec(infer)\n"
     ]
    },
    {
     "name": "stdout",
     "output_type": "stream",
     "text": [
      "Epoch 323 tst: l 0.661 a 0.838  clct[20, 20] ans[20, 20] cl_acc 1.000 2.378sec\n"
     ]
    },
    {
     "name": "stdout",
     "output_type": "stream",
     "text": [
      "Epoch 324 tr: l 0.459 a 0.890  clct[29, 31] ans[29, 31] lr 0.009633 cl_acc 1.000 44.003sec(train) 3.680sec(infer)\n"
     ]
    },
    {
     "name": "stdout",
     "output_type": "stream",
     "text": [
      "Epoch 324 tst: l 0.674 a 0.834  clct[20, 20] ans[20, 20] cl_acc 1.000 2.267sec\n"
     ]
    },
    {
     "name": "stdout",
     "output_type": "stream",
     "text": [
      "Epoch 325 tr: l 0.444 a 0.895  clct[28, 32] ans[28, 32] lr 0.009536 cl_acc 1.000 44.231sec(train) 3.740sec(infer)\n"
     ]
    },
    {
     "name": "stdout",
     "output_type": "stream",
     "text": [
      "Epoch 325 tst: l 0.665 a 0.840  clct[20, 20] ans[20, 20] cl_acc 1.000 2.307sec\n"
     ]
    },
    {
     "name": "stdout",
     "output_type": "stream",
     "text": [
      "Epoch 326 tr: l 0.450 a 0.893  clct[36, 24] ans[36, 24] lr 0.009441 cl_acc 1.000 44.165sec(train) 3.670sec(infer)\n"
     ]
    },
    {
     "name": "stdout",
     "output_type": "stream",
     "text": [
      "Epoch 326 tst: l 0.681 a 0.834  clct[20, 20] ans[20, 20] cl_acc 1.000 2.307sec\n"
     ]
    },
    {
     "name": "stdout",
     "output_type": "stream",
     "text": [
      "Epoch 327 tr: l 0.455 a 0.890  clct[27, 33] ans[27, 33] lr 0.009346 cl_acc 1.000 44.218sec(train) 3.795sec(infer)\n"
     ]
    },
    {
     "name": "stdout",
     "output_type": "stream",
     "text": [
      "Epoch 327 tst: l 0.682 a 0.837  clct[20, 20] ans[20, 20] cl_acc 1.000 2.339sec\n"
     ]
    },
    {
     "name": "stdout",
     "output_type": "stream",
     "text": [
      "Epoch 328 tr: l 0.446 a 0.895  clct[29, 31] ans[29, 31] lr 0.009253 cl_acc 1.000 44.174sec(train) 3.748sec(infer)\n"
     ]
    },
    {
     "name": "stdout",
     "output_type": "stream",
     "text": [
      "Epoch 328 tst: l 0.669 a 0.838  clct[20, 20] ans[20, 20] cl_acc 1.000 2.333sec\n"
     ]
    },
    {
     "name": "stdout",
     "output_type": "stream",
     "text": [
      "Epoch 329 tr: l 0.457 a 0.887  clct[30, 30] ans[30, 30] lr 0.009160 cl_acc 1.000 44.184sec(train) 3.792sec(infer)\n"
     ]
    },
    {
     "name": "stdout",
     "output_type": "stream",
     "text": [
      "Epoch 329 tst: l 0.681 a 0.833  clct[20, 20] ans[20, 20] cl_acc 1.000 2.317sec\n"
     ]
    },
    {
     "name": "stdout",
     "output_type": "stream",
     "text": [
      "Epoch 330 tr: l 0.458 a 0.889  clct[27, 33] ans[27, 33] lr 0.009069 cl_acc 1.000 44.098sec(train) 3.653sec(infer)\n"
     ]
    },
    {
     "name": "stdout",
     "output_type": "stream",
     "text": [
      "Epoch 330 tst: l 0.689 a 0.832  clct[20, 20] ans[20, 20] cl_acc 1.000 2.370sec\n",
      "result written at output/results.pickle\n"
     ]
    },
    {
     "name": "stdout",
     "output_type": "stream",
     "text": [
      "Epoch 331 tr: l 0.461 a 0.887  clct[31, 29] ans[31, 29] lr 0.008978 cl_acc 1.000 44.220sec(train) 3.649sec(infer)\n"
     ]
    },
    {
     "name": "stdout",
     "output_type": "stream",
     "text": [
      "Epoch 331 tst: l 0.682 a 0.836  clct[20, 20] ans[20, 20] cl_acc 1.000 2.291sec\n"
     ]
    },
    {
     "name": "stdout",
     "output_type": "stream",
     "text": [
      "Epoch 332 tr: l 0.453 a 0.888  clct[26, 34] ans[26, 34] lr 0.008888 cl_acc 1.000 44.237sec(train) 3.713sec(infer)\n"
     ]
    },
    {
     "name": "stdout",
     "output_type": "stream",
     "text": [
      "Epoch 332 tst: l 0.683 a 0.833  clct[20, 20] ans[20, 20] cl_acc 1.000 2.288sec\n"
     ]
    },
    {
     "name": "stdout",
     "output_type": "stream",
     "text": [
      "Epoch 333 tr: l 0.441 a 0.894  clct[30, 30] ans[30, 30] lr 0.008800 cl_acc 1.000 43.937sec(train) 3.694sec(infer)\n"
     ]
    },
    {
     "name": "stdout",
     "output_type": "stream",
     "text": [
      "Epoch 333 tst: l 0.686 a 0.833  clct[20, 20] ans[20, 20] cl_acc 1.000 2.397sec\n"
     ]
    },
    {
     "name": "stdout",
     "output_type": "stream",
     "text": [
      "Epoch 334 tr: l 0.463 a 0.887  clct[32, 28] ans[32, 28] lr 0.008712 cl_acc 1.000 43.654sec(train) 3.693sec(infer)\n"
     ]
    },
    {
     "name": "stdout",
     "output_type": "stream",
     "text": [
      "Epoch 334 tst: l 0.675 a 0.834  clct[20, 20] ans[20, 20] cl_acc 1.000 2.262sec\n"
     ]
    },
    {
     "name": "stdout",
     "output_type": "stream",
     "text": [
      "Epoch 335 tr: l 0.447 a 0.894  clct[30, 30] ans[30, 30] lr 0.008624 cl_acc 1.000 43.802sec(train) 3.734sec(infer)\n"
     ]
    },
    {
     "name": "stdout",
     "output_type": "stream",
     "text": [
      "Epoch 335 tst: l 0.666 a 0.840  clct[20, 20] ans[20, 20] cl_acc 1.000 2.367sec\n"
     ]
    },
    {
     "name": "stdout",
     "output_type": "stream",
     "text": [
      "Epoch 336 tr: l 0.437 a 0.897  clct[28, 32] ans[28, 32] lr 0.008538 cl_acc 1.000 43.620sec(train) 3.857sec(infer)\n"
     ]
    },
    {
     "name": "stdout",
     "output_type": "stream",
     "text": [
      "Epoch 336 tst: l 0.667 a 0.839  clct[20, 20] ans[20, 20] cl_acc 1.000 2.361sec\n"
     ]
    },
    {
     "name": "stdout",
     "output_type": "stream",
     "text": [
      "Epoch 337 tr: l 0.418 a 0.901  clct[24, 36] ans[24, 36] lr 0.008453 cl_acc 1.000 43.779sec(train) 3.689sec(infer)\n"
     ]
    },
    {
     "name": "stdout",
     "output_type": "stream",
     "text": [
      "Epoch 337 tst: l 0.675 a 0.835  clct[20, 20] ans[20, 20] cl_acc 1.000 2.306sec\n"
     ]
    },
    {
     "name": "stdout",
     "output_type": "stream",
     "text": [
      "Epoch 338 tr: l 0.416 a 0.903  clct[23, 37] ans[23, 37] lr 0.008368 cl_acc 1.000 44.035sec(train) 3.709sec(infer)\n"
     ]
    },
    {
     "name": "stdout",
     "output_type": "stream",
     "text": [
      "Epoch 338 tst: l 0.688 a 0.835  clct[20, 20] ans[20, 20] cl_acc 1.000 2.300sec\n"
     ]
    },
    {
     "name": "stdout",
     "output_type": "stream",
     "text": [
      "Epoch 339 tr: l 0.433 a 0.897  clct[25, 35] ans[25, 35] lr 0.008285 cl_acc 1.000 43.905sec(train) 3.632sec(infer)\n"
     ]
    },
    {
     "name": "stdout",
     "output_type": "stream",
     "text": [
      "Epoch 339 tst: l 0.662 a 0.839  clct[20, 20] ans[20, 20] cl_acc 1.000 2.302sec\n"
     ]
    },
    {
     "name": "stdout",
     "output_type": "stream",
     "text": [
      "Epoch 340 tr: l 0.465 a 0.887  clct[34, 26] ans[34, 26] lr 0.008202 cl_acc 1.000 43.969sec(train) 3.810sec(infer)\n"
     ]
    },
    {
     "name": "stdout",
     "output_type": "stream",
     "text": [
      "Epoch 340 tst: l 0.673 a 0.836  clct[20, 20] ans[20, 20] cl_acc 1.000 2.373sec\n",
      "result written at output/results.pickle\n"
     ]
    },
    {
     "name": "stdout",
     "output_type": "stream",
     "text": [
      "Epoch 341 tr: l 0.440 a 0.895  clct[28, 32] ans[28, 32] lr 0.008120 cl_acc 1.000 44.184sec(train) 3.851sec(infer)\n"
     ]
    },
    {
     "name": "stdout",
     "output_type": "stream",
     "text": [
      "Epoch 341 tst: l 0.681 a 0.836  clct[20, 20] ans[20, 20] cl_acc 1.000 2.332sec\n"
     ]
    },
    {
     "name": "stdout",
     "output_type": "stream",
     "text": [
      "Epoch 342 tr: l 0.445 a 0.891  clct[32, 28] ans[32, 28] lr 0.008039 cl_acc 1.000 43.985sec(train) 3.713sec(infer)\n"
     ]
    },
    {
     "name": "stdout",
     "output_type": "stream",
     "text": [
      "Epoch 342 tst: l 0.673 a 0.838  clct[20, 20] ans[20, 20] cl_acc 1.000 2.280sec\n"
     ]
    },
    {
     "name": "stdout",
     "output_type": "stream",
     "text": [
      "Epoch 343 tr: l 0.419 a 0.900  clct[30, 30] ans[30, 30] lr 0.007958 cl_acc 1.000 43.890sec(train) 3.677sec(infer)\n"
     ]
    },
    {
     "name": "stdout",
     "output_type": "stream",
     "text": [
      "Epoch 343 tst: l 0.669 a 0.838  clct[20, 20] ans[20, 20] cl_acc 1.000 2.317sec\n"
     ]
    },
    {
     "name": "stdout",
     "output_type": "stream",
     "text": [
      "Epoch 344 tr: l 0.431 a 0.897  clct[27, 33] ans[27, 33] lr 0.007879 cl_acc 1.000 43.770sec(train) 3.722sec(infer)\n"
     ]
    },
    {
     "name": "stdout",
     "output_type": "stream",
     "text": [
      "Epoch 344 tst: l 0.672 a 0.837  clct[20, 20] ans[20, 20] cl_acc 1.000 2.335sec\n"
     ]
    },
    {
     "name": "stdout",
     "output_type": "stream",
     "text": [
      "Epoch 345 tr: l 0.410 a 0.902  clct[33, 27] ans[33, 27] lr 0.007800 cl_acc 1.000 44.005sec(train) 3.700sec(infer)\n"
     ]
    },
    {
     "name": "stdout",
     "output_type": "stream",
     "text": [
      "Epoch 345 tst: l 0.666 a 0.835  clct[20, 20] ans[20, 20] cl_acc 1.000 2.289sec\n"
     ]
    },
    {
     "name": "stdout",
     "output_type": "stream",
     "text": [
      "Epoch 346 tr: l 0.440 a 0.895  clct[29, 31] ans[29, 31] lr 0.007722 cl_acc 1.000 44.159sec(train) 3.701sec(infer)\n"
     ]
    },
    {
     "name": "stdout",
     "output_type": "stream",
     "text": [
      "Epoch 346 tst: l 0.668 a 0.839  clct[20, 20] ans[20, 20] cl_acc 1.000 2.346sec\n"
     ]
    },
    {
     "name": "stdout",
     "output_type": "stream",
     "text": [
      "Epoch 347 tr: l 0.453 a 0.887  clct[27, 33] ans[27, 33] lr 0.007645 cl_acc 1.000 43.988sec(train) 3.664sec(infer)\n"
     ]
    },
    {
     "name": "stdout",
     "output_type": "stream",
     "text": [
      "Epoch 347 tst: l 0.670 a 0.837  clct[20, 20] ans[20, 20] cl_acc 1.000 2.363sec\n"
     ]
    },
    {
     "name": "stdout",
     "output_type": "stream",
     "text": [
      "Epoch 348 tr: l 0.414 a 0.901  clct[32, 28] ans[32, 28] lr 0.007568 cl_acc 1.000 43.985sec(train) 3.705sec(infer)\n"
     ]
    },
    {
     "name": "stdout",
     "output_type": "stream",
     "text": [
      "Epoch 348 tst: l 0.659 a 0.838  clct[20, 20] ans[20, 20] cl_acc 1.000 2.331sec\n"
     ]
    },
    {
     "name": "stdout",
     "output_type": "stream",
     "text": [
      "Epoch 349 tr: l 0.423 a 0.900  clct[28, 32] ans[28, 32] lr 0.007492 cl_acc 1.000 44.210sec(train) 3.651sec(infer)\n"
     ]
    },
    {
     "name": "stdout",
     "output_type": "stream",
     "text": [
      "Epoch 349 tst: l 0.663 a 0.837  clct[20, 20] ans[20, 20] cl_acc 1.000 2.231sec\n"
     ]
    },
    {
     "name": "stdout",
     "output_type": "stream",
     "text": [
      "Epoch 350 tr: l 0.400 a 0.904  clct[34, 26] ans[34, 26] lr 0.007418 cl_acc 1.000 44.305sec(train) 3.705sec(infer)\n"
     ]
    },
    {
     "name": "stdout",
     "output_type": "stream",
     "text": [
      "Epoch 350 tst: l 0.648 a 0.841  clct[20, 20] ans[20, 20] cl_acc 1.000 2.321sec\n",
      "result written at output/results.pickle\n"
     ]
    },
    {
     "name": "stdout",
     "output_type": "stream",
     "text": [
      "Epoch 351 tr: l 0.431 a 0.896  clct[25, 35] ans[25, 35] lr 0.007343 cl_acc 1.000 44.236sec(train) 3.733sec(infer)\n"
     ]
    },
    {
     "name": "stdout",
     "output_type": "stream",
     "text": [
      "Epoch 351 tst: l 0.665 a 0.840  clct[20, 20] ans[20, 20] cl_acc 1.000 2.356sec\n"
     ]
    },
    {
     "name": "stdout",
     "output_type": "stream",
     "text": [
      "Epoch 352 tr: l 0.433 a 0.896  clct[31, 29] ans[31, 29] lr 0.007270 cl_acc 1.000 44.445sec(train) 3.731sec(infer)\n"
     ]
    },
    {
     "name": "stdout",
     "output_type": "stream",
     "text": [
      "Epoch 352 tst: l 0.670 a 0.839  clct[20, 20] ans[20, 20] cl_acc 1.000 2.283sec\n"
     ]
    },
    {
     "name": "stdout",
     "output_type": "stream",
     "text": [
      "Epoch 353 tr: l 0.418 a 0.901  clct[29, 31] ans[29, 31] lr 0.007197 cl_acc 1.000 44.222sec(train) 3.853sec(infer)\n"
     ]
    },
    {
     "name": "stdout",
     "output_type": "stream",
     "text": [
      "Epoch 353 tst: l 0.667 a 0.840  clct[20, 20] ans[20, 20] cl_acc 1.000 2.325sec\n"
     ]
    },
    {
     "name": "stdout",
     "output_type": "stream",
     "text": [
      "Epoch 354 tr: l 0.411 a 0.901  clct[27, 33] ans[27, 33] lr 0.007125 cl_acc 1.000 44.201sec(train) 3.738sec(infer)\n"
     ]
    },
    {
     "name": "stdout",
     "output_type": "stream",
     "text": [
      "Epoch 354 tst: l 0.677 a 0.839  clct[20, 20] ans[20, 20] cl_acc 1.000 2.354sec\n"
     ]
    },
    {
     "name": "stdout",
     "output_type": "stream",
     "text": [
      "Epoch 355 tr: l 0.418 a 0.897  clct[25, 35] ans[25, 35] lr 0.007054 cl_acc 1.000 44.258sec(train) 3.772sec(infer)\n"
     ]
    },
    {
     "name": "stdout",
     "output_type": "stream",
     "text": [
      "Epoch 355 tst: l 0.669 a 0.838  clct[20, 20] ans[20, 20] cl_acc 1.000 2.381sec\n"
     ]
    },
    {
     "name": "stdout",
     "output_type": "stream",
     "text": [
      "Epoch 356 tr: l 0.411 a 0.901  clct[27, 33] ans[27, 33] lr 0.006983 cl_acc 1.000 44.125sec(train) 3.769sec(infer)\n"
     ]
    },
    {
     "name": "stdout",
     "output_type": "stream",
     "text": [
      "Epoch 356 tst: l 0.671 a 0.833  clct[20, 20] ans[20, 20] cl_acc 1.000 2.316sec\n"
     ]
    },
    {
     "name": "stdout",
     "output_type": "stream",
     "text": [
      "Epoch 357 tr: l 0.405 a 0.903  clct[34, 26] ans[34, 26] lr 0.006914 cl_acc 1.000 44.199sec(train) 3.757sec(infer)\n"
     ]
    },
    {
     "name": "stdout",
     "output_type": "stream",
     "text": [
      "Epoch 357 tst: l 0.664 a 0.839  clct[20, 20] ans[20, 20] cl_acc 1.000 2.407sec\n"
     ]
    },
    {
     "name": "stdout",
     "output_type": "stream",
     "text": [
      "Epoch 358 tr: l 0.428 a 0.896  clct[30, 30] ans[30, 30] lr 0.006844 cl_acc 1.000 43.926sec(train) 3.754sec(infer)\n"
     ]
    },
    {
     "name": "stdout",
     "output_type": "stream",
     "text": [
      "Epoch 358 tst: l 0.653 a 0.841  clct[20, 20] ans[20, 20] cl_acc 1.000 2.363sec\n"
     ]
    },
    {
     "name": "stdout",
     "output_type": "stream",
     "text": [
      "Epoch 359 tr: l 0.415 a 0.898  clct[30, 30] ans[30, 30] lr 0.006776 cl_acc 1.000 43.939sec(train) 3.713sec(infer)\n"
     ]
    },
    {
     "name": "stdout",
     "output_type": "stream",
     "text": [
      "Epoch 359 tst: l 0.667 a 0.840  clct[20, 20] ans[20, 20] cl_acc 1.000 2.289sec\n"
     ]
    },
    {
     "name": "stdout",
     "output_type": "stream",
     "text": [
      "Epoch 360 tr: l 0.414 a 0.901  clct[26, 34] ans[26, 34] lr 0.006708 cl_acc 1.000 44.116sec(train) 3.773sec(infer)\n"
     ]
    },
    {
     "name": "stdout",
     "output_type": "stream",
     "text": [
      "Epoch 360 tst: l 0.675 a 0.837  clct[20, 20] ans[20, 20] cl_acc 1.000 2.322sec\n",
      "result written at output/results.pickle\n"
     ]
    },
    {
     "name": "stdout",
     "output_type": "stream",
     "text": [
      "Epoch 361 tr: l 0.415 a 0.899  clct[30, 30] ans[30, 30] lr 0.006641 cl_acc 1.000 44.018sec(train) 3.826sec(infer)\n"
     ]
    },
    {
     "name": "stdout",
     "output_type": "stream",
     "text": [
      "Epoch 361 tst: l 0.672 a 0.835  clct[20, 20] ans[20, 20] cl_acc 1.000 2.384sec\n"
     ]
    },
    {
     "name": "stdout",
     "output_type": "stream",
     "text": [
      "Epoch 362 tr: l 0.408 a 0.901  clct[29, 31] ans[29, 31] lr 0.006575 cl_acc 1.000 44.342sec(train) 3.698sec(infer)\n"
     ]
    },
    {
     "name": "stdout",
     "output_type": "stream",
     "text": [
      "Epoch 362 tst: l 0.665 a 0.837  clct[20, 20] ans[20, 20] cl_acc 1.000 2.339sec\n"
     ]
    },
    {
     "name": "stdout",
     "output_type": "stream",
     "text": [
      "Epoch 363 tr: l 0.389 a 0.909  clct[27, 33] ans[27, 33] lr 0.006509 cl_acc 1.000 44.299sec(train) 3.790sec(infer)\n"
     ]
    },
    {
     "name": "stdout",
     "output_type": "stream",
     "text": [
      "Epoch 363 tst: l 0.668 a 0.840  clct[20, 20] ans[20, 20] cl_acc 1.000 2.383sec\n"
     ]
    },
    {
     "name": "stdout",
     "output_type": "stream",
     "text": [
      "Epoch 364 tr: l 0.387 a 0.907  clct[29, 31] ans[29, 31] lr 0.006444 cl_acc 1.000 44.466sec(train) 3.771sec(infer)\n"
     ]
    },
    {
     "name": "stdout",
     "output_type": "stream",
     "text": [
      "Epoch 364 tst: l 0.665 a 0.838  clct[20, 20] ans[20, 20] cl_acc 1.000 2.333sec\n"
     ]
    },
    {
     "name": "stdout",
     "output_type": "stream",
     "text": [
      "Epoch 365 tr: l 0.388 a 0.907  clct[30, 30] ans[30, 30] lr 0.006379 cl_acc 1.000 44.207sec(train) 3.698sec(infer)\n"
     ]
    },
    {
     "name": "stdout",
     "output_type": "stream",
     "text": [
      "Epoch 365 tst: l 0.653 a 0.843  clct[20, 20] ans[20, 20] cl_acc 1.000 2.338sec\n"
     ]
    },
    {
     "name": "stdout",
     "output_type": "stream",
     "text": [
      "Epoch 366 tr: l 0.393 a 0.905  clct[35, 25] ans[35, 25] lr 0.006316 cl_acc 1.000 44.133sec(train) 3.665sec(infer)\n"
     ]
    },
    {
     "name": "stdout",
     "output_type": "stream",
     "text": [
      "Epoch 366 tst: l 0.661 a 0.840  clct[20, 20] ans[20, 20] cl_acc 1.000 2.345sec\n"
     ]
    },
    {
     "name": "stdout",
     "output_type": "stream",
     "text": [
      "Epoch 367 tr: l 0.372 a 0.912  clct[30, 30] ans[30, 30] lr 0.006253 cl_acc 1.000 44.137sec(train) 3.718sec(infer)\n"
     ]
    },
    {
     "name": "stdout",
     "output_type": "stream",
     "text": [
      "Epoch 367 tst: l 0.648 a 0.843  clct[20, 20] ans[20, 20] cl_acc 1.000 2.363sec\n"
     ]
    },
    {
     "name": "stdout",
     "output_type": "stream",
     "text": [
      "Epoch 368 tr: l 0.404 a 0.901  clct[33, 27] ans[33, 27] lr 0.006190 cl_acc 1.000 43.978sec(train) 3.762sec(infer)\n"
     ]
    },
    {
     "name": "stdout",
     "output_type": "stream",
     "text": [
      "Epoch 368 tst: l 0.657 a 0.841  clct[20, 20] ans[20, 20] cl_acc 1.000 2.410sec\n"
     ]
    },
    {
     "name": "stdout",
     "output_type": "stream",
     "text": [
      "Epoch 369 tr: l 0.376 a 0.913  clct[31, 29] ans[31, 29] lr 0.006128 cl_acc 1.000 44.042sec(train) 3.700sec(infer)\n"
     ]
    },
    {
     "name": "stdout",
     "output_type": "stream",
     "text": [
      "Epoch 369 tst: l 0.669 a 0.839  clct[20, 20] ans[20, 20] cl_acc 1.000 2.340sec\n"
     ]
    },
    {
     "name": "stdout",
     "output_type": "stream",
     "text": [
      "Epoch 370 tr: l 0.387 a 0.908  clct[34, 26] ans[34, 26] lr 0.006067 cl_acc 1.000 43.668sec(train) 3.698sec(infer)\n"
     ]
    },
    {
     "name": "stdout",
     "output_type": "stream",
     "text": [
      "Epoch 370 tst: l 0.663 a 0.841  clct[20, 20] ans[20, 20] cl_acc 1.000 2.304sec\n",
      "result written at output/results.pickle\n"
     ]
    },
    {
     "name": "stdout",
     "output_type": "stream",
     "text": [
      "Epoch 371 tr: l 0.403 a 0.904  clct[25, 35] ans[25, 35] lr 0.006006 cl_acc 1.000 43.768sec(train) 3.696sec(infer)\n"
     ]
    },
    {
     "name": "stdout",
     "output_type": "stream",
     "text": [
      "Epoch 371 tst: l 0.659 a 0.841  clct[20, 20] ans[20, 20] cl_acc 1.000 2.327sec\n"
     ]
    },
    {
     "name": "stdout",
     "output_type": "stream",
     "text": [
      "Epoch 372 tr: l 0.393 a 0.907  clct[27, 33] ans[27, 33] lr 0.005946 cl_acc 1.000 44.180sec(train) 3.727sec(infer)\n"
     ]
    },
    {
     "name": "stdout",
     "output_type": "stream",
     "text": [
      "Epoch 372 tst: l 0.672 a 0.839  clct[20, 20] ans[20, 20] cl_acc 1.000 2.286sec\n"
     ]
    },
    {
     "name": "stdout",
     "output_type": "stream",
     "text": [
      "Epoch 373 tr: l 0.386 a 0.907  clct[31, 29] ans[31, 29] lr 0.005887 cl_acc 1.000 44.074sec(train) 3.738sec(infer)\n"
     ]
    },
    {
     "name": "stdout",
     "output_type": "stream",
     "text": [
      "Epoch 373 tst: l 0.658 a 0.841  clct[20, 20] ans[20, 20] cl_acc 1.000 2.267sec\n"
     ]
    },
    {
     "name": "stdout",
     "output_type": "stream",
     "text": [
      "Epoch 374 tr: l 0.381 a 0.910  clct[28, 32] ans[28, 32] lr 0.005828 cl_acc 1.000 43.726sec(train) 3.804sec(infer)\n"
     ]
    },
    {
     "name": "stdout",
     "output_type": "stream",
     "text": [
      "Epoch 374 tst: l 0.656 a 0.840  clct[20, 20] ans[20, 20] cl_acc 1.000 2.322sec\n"
     ]
    },
    {
     "name": "stdout",
     "output_type": "stream",
     "text": [
      "Epoch 375 tr: l 0.386 a 0.905  clct[32, 28] ans[32, 28] lr 0.005769 cl_acc 1.000 43.606sec(train) 3.717sec(infer)\n"
     ]
    },
    {
     "name": "stdout",
     "output_type": "stream",
     "text": [
      "Epoch 375 tst: l 0.663 a 0.838  clct[20, 20] ans[20, 20] cl_acc 1.000 2.305sec\n"
     ]
    },
    {
     "name": "stdout",
     "output_type": "stream",
     "text": [
      "Epoch 376 tr: l 0.389 a 0.907  clct[31, 29] ans[31, 29] lr 0.005712 cl_acc 1.000 43.877sec(train) 3.800sec(infer)\n"
     ]
    },
    {
     "name": "stdout",
     "output_type": "stream",
     "text": [
      "Epoch 376 tst: l 0.668 a 0.838  clct[20, 20] ans[20, 20] cl_acc 1.000 2.358sec\n"
     ]
    },
    {
     "name": "stdout",
     "output_type": "stream",
     "text": [
      "Epoch 377 tr: l 0.395 a 0.904  clct[28, 32] ans[28, 32] lr 0.005655 cl_acc 1.000 44.184sec(train) 3.684sec(infer)\n"
     ]
    },
    {
     "name": "stdout",
     "output_type": "stream",
     "text": [
      "Epoch 377 tst: l 0.656 a 0.841  clct[20, 20] ans[20, 20] cl_acc 1.000 2.331sec\n"
     ]
    },
    {
     "name": "stdout",
     "output_type": "stream",
     "text": [
      "Epoch 378 tr: l 0.350 a 0.920  clct[31, 29] ans[31, 29] lr 0.005598 cl_acc 1.000 44.126sec(train) 3.764sec(infer)\n"
     ]
    },
    {
     "name": "stdout",
     "output_type": "stream",
     "text": [
      "Epoch 378 tst: l 0.649 a 0.844  clct[20, 20] ans[20, 20] cl_acc 1.000 2.343sec\n"
     ]
    },
    {
     "name": "stdout",
     "output_type": "stream",
     "text": [
      "Epoch 379 tr: l 0.396 a 0.903  clct[27, 33] ans[27, 33] lr 0.005542 cl_acc 1.000 44.212sec(train) 3.830sec(infer)\n"
     ]
    },
    {
     "name": "stdout",
     "output_type": "stream",
     "text": [
      "Epoch 379 tst: l 0.653 a 0.843  clct[20, 20] ans[20, 20] cl_acc 1.000 2.318sec\n"
     ]
    },
    {
     "name": "stdout",
     "output_type": "stream",
     "text": [
      "Epoch 380 tr: l 0.377 a 0.910  clct[28, 32] ans[28, 32] lr 0.005487 cl_acc 1.000 43.756sec(train) 3.770sec(infer)\n"
     ]
    },
    {
     "name": "stdout",
     "output_type": "stream",
     "text": [
      "Epoch 380 tst: l 0.659 a 0.841  clct[20, 20] ans[20, 20] cl_acc 1.000 2.301sec\n",
      "result written at output/results.pickle\n"
     ]
    },
    {
     "name": "stdout",
     "output_type": "stream",
     "text": [
      "Epoch 381 tr: l 0.356 a 0.917  clct[25, 35] ans[25, 35] lr 0.005432 cl_acc 1.000 44.087sec(train) 3.662sec(infer)\n"
     ]
    },
    {
     "name": "stdout",
     "output_type": "stream",
     "text": [
      "Epoch 381 tst: l 0.650 a 0.843  clct[20, 20] ans[20, 20] cl_acc 1.000 2.316sec\n"
     ]
    },
    {
     "name": "stdout",
     "output_type": "stream",
     "text": [
      "Epoch 382 tr: l 0.381 a 0.910  clct[32, 28] ans[32, 28] lr 0.005378 cl_acc 1.000 43.838sec(train) 3.746sec(infer)\n"
     ]
    },
    {
     "name": "stdout",
     "output_type": "stream",
     "text": [
      "Epoch 382 tst: l 0.661 a 0.841  clct[20, 20] ans[20, 20] cl_acc 1.000 2.322sec\n"
     ]
    },
    {
     "name": "stdout",
     "output_type": "stream",
     "text": [
      "Epoch 383 tr: l 0.380 a 0.908  clct[35, 25] ans[35, 25] lr 0.005324 cl_acc 1.000 43.908sec(train) 3.624sec(infer)\n"
     ]
    },
    {
     "name": "stdout",
     "output_type": "stream",
     "text": [
      "Epoch 383 tst: l 0.658 a 0.838  clct[20, 20] ans[20, 20] cl_acc 1.000 2.401sec\n"
     ]
    },
    {
     "name": "stdout",
     "output_type": "stream",
     "text": [
      "Epoch 384 tr: l 0.366 a 0.913  clct[30, 30] ans[30, 30] lr 0.005271 cl_acc 1.000 43.938sec(train) 3.688sec(infer)\n"
     ]
    },
    {
     "name": "stdout",
     "output_type": "stream",
     "text": [
      "Epoch 384 tst: l 0.659 a 0.840  clct[20, 20] ans[20, 20] cl_acc 1.000 2.351sec\n"
     ]
    },
    {
     "name": "stdout",
     "output_type": "stream",
     "text": [
      "Epoch 385 tr: l 0.358 a 0.917  clct[30, 30] ans[30, 30] lr 0.005218 cl_acc 1.000 44.075sec(train) 3.709sec(infer)\n"
     ]
    },
    {
     "name": "stdout",
     "output_type": "stream",
     "text": [
      "Epoch 385 tst: l 0.668 a 0.840  clct[20, 20] ans[20, 20] cl_acc 1.000 2.259sec\n"
     ]
    },
    {
     "name": "stdout",
     "output_type": "stream",
     "text": [
      "Epoch 386 tr: l 0.345 a 0.920  clct[32, 28] ans[32, 28] lr 0.005166 cl_acc 1.000 44.226sec(train) 3.745sec(infer)\n"
     ]
    },
    {
     "name": "stdout",
     "output_type": "stream",
     "text": [
      "Epoch 386 tst: l 0.645 a 0.843  clct[20, 20] ans[20, 20] cl_acc 1.000 2.333sec\n"
     ]
    },
    {
     "name": "stdout",
     "output_type": "stream",
     "text": [
      "Epoch 387 tr: l 0.370 a 0.912  clct[31, 29] ans[31, 29] lr 0.005114 cl_acc 1.000 43.923sec(train) 3.610sec(infer)\n"
     ]
    },
    {
     "name": "stdout",
     "output_type": "stream",
     "text": [
      "Epoch 387 tst: l 0.656 a 0.840  clct[20, 20] ans[20, 20] cl_acc 1.000 2.279sec\n"
     ]
    },
    {
     "name": "stdout",
     "output_type": "stream",
     "text": [
      "Epoch 388 tr: l 0.377 a 0.908  clct[32, 28] ans[32, 28] lr 0.005063 cl_acc 1.000 44.058sec(train) 3.688sec(infer)\n"
     ]
    },
    {
     "name": "stdout",
     "output_type": "stream",
     "text": [
      "Epoch 388 tst: l 0.644 a 0.844  clct[20, 20] ans[20, 20] cl_acc 1.000 2.364sec\n"
     ]
    },
    {
     "name": "stdout",
     "output_type": "stream",
     "text": [
      "Epoch 389 tr: l 0.376 a 0.910  clct[31, 29] ans[31, 29] lr 0.005012 cl_acc 1.000 44.026sec(train) 3.730sec(infer)\n"
     ]
    },
    {
     "name": "stdout",
     "output_type": "stream",
     "text": [
      "Epoch 389 tst: l 0.660 a 0.840  clct[20, 20] ans[20, 20] cl_acc 1.000 2.297sec\n"
     ]
    },
    {
     "name": "stdout",
     "output_type": "stream",
     "text": [
      "Epoch 390 tr: l 0.366 a 0.912  clct[25, 35] ans[25, 35] lr 0.004962 cl_acc 1.000 43.535sec(train) 3.651sec(infer)\n"
     ]
    },
    {
     "name": "stdout",
     "output_type": "stream",
     "text": [
      "Epoch 390 tst: l 0.662 a 0.840  clct[20, 20] ans[20, 20] cl_acc 1.000 2.299sec\n",
      "result written at output/results.pickle\n"
     ]
    },
    {
     "name": "stdout",
     "output_type": "stream",
     "text": [
      "Epoch 391 tr: l 0.363 a 0.915  clct[29, 31] ans[29, 31] lr 0.004912 cl_acc 1.000 43.858sec(train) 3.766sec(infer)\n"
     ]
    },
    {
     "name": "stdout",
     "output_type": "stream",
     "text": [
      "Epoch 391 tst: l 0.638 a 0.846  clct[20, 20] ans[20, 20] cl_acc 1.000 2.429sec\n"
     ]
    },
    {
     "name": "stdout",
     "output_type": "stream",
     "text": [
      "Epoch 392 tr: l 0.365 a 0.913  clct[31, 29] ans[31, 29] lr 0.004863 cl_acc 1.000 43.675sec(train) 3.722sec(infer)\n"
     ]
    },
    {
     "name": "stdout",
     "output_type": "stream",
     "text": [
      "Epoch 392 tst: l 0.657 a 0.840  clct[20, 20] ans[20, 20] cl_acc 1.000 2.421sec\n"
     ]
    },
    {
     "name": "stdout",
     "output_type": "stream",
     "text": [
      "Epoch 393 tr: l 0.393 a 0.902  clct[28, 32] ans[28, 32] lr 0.004815 cl_acc 1.000 43.472sec(train) 3.622sec(infer)\n"
     ]
    },
    {
     "name": "stdout",
     "output_type": "stream",
     "text": [
      "Epoch 393 tst: l 0.648 a 0.843  clct[20, 20] ans[20, 20] cl_acc 1.000 2.312sec\n"
     ]
    },
    {
     "name": "stdout",
     "output_type": "stream",
     "text": [
      "Epoch 394 tr: l 0.335 a 0.924  clct[29, 31] ans[29, 31] lr 0.004767 cl_acc 1.000 43.707sec(train) 3.665sec(infer)\n"
     ]
    },
    {
     "name": "stdout",
     "output_type": "stream",
     "text": [
      "Epoch 394 tst: l 0.639 a 0.847  clct[20, 20] ans[20, 20] cl_acc 1.000 2.328sec\n"
     ]
    },
    {
     "name": "stdout",
     "output_type": "stream",
     "text": [
      "Epoch 395 tr: l 0.369 a 0.910  clct[30, 30] ans[30, 30] lr 0.004719 cl_acc 1.000 44.223sec(train) 3.683sec(infer)\n"
     ]
    },
    {
     "name": "stdout",
     "output_type": "stream",
     "text": [
      "Epoch 395 tst: l 0.655 a 0.844  clct[20, 20] ans[20, 20] cl_acc 1.000 2.319sec\n"
     ]
    },
    {
     "name": "stdout",
     "output_type": "stream",
     "text": [
      "Epoch 396 tr: l 0.335 a 0.922  clct[33, 27] ans[33, 27] lr 0.004672 cl_acc 1.000 44.150sec(train) 3.717sec(infer)\n"
     ]
    },
    {
     "name": "stdout",
     "output_type": "stream",
     "text": [
      "Epoch 396 tst: l 0.664 a 0.843  clct[20, 20] ans[20, 20] cl_acc 1.000 2.267sec\n"
     ]
    },
    {
     "name": "stdout",
     "output_type": "stream",
     "text": [
      "Epoch 397 tr: l 0.351 a 0.919  clct[28, 32] ans[28, 32] lr 0.004625 cl_acc 1.000 44.188sec(train) 3.660sec(infer)\n"
     ]
    },
    {
     "name": "stdout",
     "output_type": "stream",
     "text": [
      "Epoch 397 tst: l 0.651 a 0.844  clct[20, 20] ans[20, 20] cl_acc 1.000 2.301sec\n"
     ]
    },
    {
     "name": "stdout",
     "output_type": "stream",
     "text": [
      "Epoch 398 tr: l 0.329 a 0.926  clct[29, 31] ans[29, 31] lr 0.004579 cl_acc 1.000 44.181sec(train) 3.757sec(infer)\n"
     ]
    },
    {
     "name": "stdout",
     "output_type": "stream",
     "text": [
      "Epoch 398 tst: l 0.647 a 0.846  clct[20, 20] ans[20, 20] cl_acc 1.000 2.342sec\n"
     ]
    },
    {
     "name": "stdout",
     "output_type": "stream",
     "text": [
      "Epoch 399 tr: l 0.338 a 0.921  clct[23, 37] ans[23, 37] lr 0.004533 cl_acc 1.000 44.192sec(train) 3.662sec(infer)\n"
     ]
    },
    {
     "name": "stdout",
     "output_type": "stream",
     "text": [
      "Epoch 399 tst: l 0.656 a 0.840  clct[20, 20] ans[20, 20] cl_acc 1.000 2.327sec\n",
      "result written at output/results.pickle\n",
      "---train cluster Ended in 5.57 hour (20064.715 sec) \n",
      "---------------------------------DFCA-GI, lr: 0.25, seed: 13---------------------------------\n",
      "config: {'m': 200, 'm_test': 40, 'p': 2, 'n': 500, 'participation_rate': 0.3, 'num_epochs': 400, 'batch_size': 50, 'tau': 5, 'lr': 0.25, 'data_seed': 13, 'train_seed': 13, 'project_dir': 'output'}\n"
     ]
    },
    {
     "name": "stdout",
     "output_type": "stream",
     "text": [
      "finding good initializer from train data\n"
     ]
    },
    {
     "name": "stderr",
     "output_type": "stream",
     "text": [
      "2025-06-02 08:44:25.238770: W tensorflow/c/c_api.cc:305] Operation '{name:'softmax_linear/biases/Assign' id:221 op device:{requested: '/device:CPU:0', assigned: ''} def:{{{node softmax_linear/biases/Assign}} = Assign[T=DT_FLOAT, _class=[\"loc:@softmax_linear/biases\"], _has_manual_control_dependencies=true, use_locking=true, validate_shape=true, _device=\"/device:CPU:0\"](softmax_linear/biases, softmax_linear/biases/Initializer/Const)}}' was changed by setting attribute after it was run by a session. This mutation will have no effect, and will trigger an error in the future. Either don't modify nodes after running them or create a new session.\n"
     ]
    },
    {
     "name": "stdout",
     "output_type": "stream",
     "text": [
      "Epoch -1 tr: l 4.679 a 0.105  clct[0, 60] ans[25, 35] cl_acc 0.583 3.735sec\n"
     ]
    },
    {
     "name": "stderr",
     "output_type": "stream",
     "text": [
      "2025-06-02 08:44:28.995126: W tensorflow/c/c_api.cc:305] Operation '{name:'softmax_linear/biases/Assign' id:221 op device:{requested: '/device:CPU:0', assigned: ''} def:{{{node softmax_linear/biases/Assign}} = Assign[T=DT_FLOAT, _class=[\"loc:@softmax_linear/biases\"], _has_manual_control_dependencies=true, use_locking=true, validate_shape=true, _device=\"/device:CPU:0\"](softmax_linear/biases, softmax_linear/biases/Initializer/Const)}}' was changed by setting attribute after it was run by a session. This mutation will have no effect, and will trigger an error in the future. Either don't modify nodes after running them or create a new session.\n"
     ]
    },
    {
     "name": "stdout",
     "output_type": "stream",
     "text": [
      "Epoch -1 tr: l 4.672 a 0.102  clct[58, 2] ans[33, 27] cl_acc 0.550 4.011sec\n"
     ]
    },
    {
     "name": "stderr",
     "output_type": "stream",
     "text": [
      "2025-06-02 08:44:33.029374: W tensorflow/c/c_api.cc:305] Operation '{name:'softmax_linear/biases/Assign' id:221 op device:{requested: '/device:CPU:0', assigned: ''} def:{{{node softmax_linear/biases/Assign}} = Assign[T=DT_FLOAT, _class=[\"loc:@softmax_linear/biases\"], _has_manual_control_dependencies=true, use_locking=true, validate_shape=true, _device=\"/device:CPU:0\"](softmax_linear/biases, softmax_linear/biases/Initializer/Const)}}' was changed by setting attribute after it was run by a session. This mutation will have no effect, and will trigger an error in the future. Either don't modify nodes after running them or create a new session.\n"
     ]
    },
    {
     "name": "stdout",
     "output_type": "stream",
     "text": [
      "Epoch -1 tr: l 4.676 a 0.108  clct[3, 57] ans[32, 28] cl_acc 0.550 3.941sec\n"
     ]
    },
    {
     "name": "stderr",
     "output_type": "stream",
     "text": [
      "2025-06-02 08:44:36.994613: W tensorflow/c/c_api.cc:305] Operation '{name:'softmax_linear/biases/Assign' id:221 op device:{requested: '/device:CPU:0', assigned: ''} def:{{{node softmax_linear/biases/Assign}} = Assign[T=DT_FLOAT, _class=[\"loc:@softmax_linear/biases\"], _has_manual_control_dependencies=true, use_locking=true, validate_shape=true, _device=\"/device:CPU:0\"](softmax_linear/biases, softmax_linear/biases/Initializer/Const)}}' was changed by setting attribute after it was run by a session. This mutation will have no effect, and will trigger an error in the future. Either don't modify nodes after running them or create a new session.\n"
     ]
    },
    {
     "name": "stdout",
     "output_type": "stream",
     "text": [
      "Epoch -1 tr: l 4.672 a 0.100  clct[50, 10] ans[29, 31] cl_acc 0.550 3.868sec\n"
     ]
    },
    {
     "name": "stderr",
     "output_type": "stream",
     "text": [
      "2025-06-02 08:44:40.886621: W tensorflow/c/c_api.cc:305] Operation '{name:'softmax_linear/biases/Assign' id:221 op device:{requested: '/device:CPU:0', assigned: ''} def:{{{node softmax_linear/biases/Assign}} = Assign[T=DT_FLOAT, _class=[\"loc:@softmax_linear/biases\"], _has_manual_control_dependencies=true, use_locking=true, validate_shape=true, _device=\"/device:CPU:0\"](softmax_linear/biases, softmax_linear/biases/Initializer/Const)}}' was changed by setting attribute after it was run by a session. This mutation will have no effect, and will trigger an error in the future. Either don't modify nodes after running them or create a new session.\n"
     ]
    },
    {
     "name": "stdout",
     "output_type": "stream",
     "text": [
      "Epoch -1 tr: l 4.673 a 0.093  clct[5, 55] ans[28, 32] cl_acc 0.517 3.725sec\n"
     ]
    },
    {
     "name": "stderr",
     "output_type": "stream",
     "text": [
      "2025-06-02 08:44:44.635551: W tensorflow/c/c_api.cc:305] Operation '{name:'softmax_linear/biases/Assign' id:221 op device:{requested: '/device:CPU:0', assigned: ''} def:{{{node softmax_linear/biases/Assign}} = Assign[T=DT_FLOAT, _class=[\"loc:@softmax_linear/biases\"], _has_manual_control_dependencies=true, use_locking=true, validate_shape=true, _device=\"/device:CPU:0\"](softmax_linear/biases, softmax_linear/biases/Initializer/Const)}}' was changed by setting attribute after it was run by a session. This mutation will have no effect, and will trigger an error in the future. Either don't modify nodes after running them or create a new session.\n"
     ]
    },
    {
     "name": "stdout",
     "output_type": "stream",
     "text": [
      "Epoch -1 tr: l 4.673 a 0.099  clct[52, 8] ans[34, 26] cl_acc 0.500 3.858sec\n"
     ]
    },
    {
     "name": "stderr",
     "output_type": "stream",
     "text": [
      "2025-06-02 08:44:48.517696: W tensorflow/c/c_api.cc:305] Operation '{name:'softmax_linear/biases/Assign' id:221 op device:{requested: '/device:CPU:0', assigned: ''} def:{{{node softmax_linear/biases/Assign}} = Assign[T=DT_FLOAT, _class=[\"loc:@softmax_linear/biases\"], _has_manual_control_dependencies=true, use_locking=true, validate_shape=true, _device=\"/device:CPU:0\"](softmax_linear/biases, softmax_linear/biases/Initializer/Const)}}' was changed by setting attribute after it was run by a session. This mutation will have no effect, and will trigger an error in the future. Either don't modify nodes after running them or create a new session.\n"
     ]
    },
    {
     "name": "stdout",
     "output_type": "stream",
     "text": [
      "Epoch -1 tr: l 4.677 a 0.105  clct[0, 60] ans[35, 25] cl_acc 0.583 4.065sec\n"
     ]
    },
    {
     "name": "stderr",
     "output_type": "stream",
     "text": [
      "2025-06-02 08:44:52.606754: W tensorflow/c/c_api.cc:305] Operation '{name:'softmax_linear/biases/Assign' id:221 op device:{requested: '/device:CPU:0', assigned: ''} def:{{{node softmax_linear/biases/Assign}} = Assign[T=DT_FLOAT, _class=[\"loc:@softmax_linear/biases\"], _has_manual_control_dependencies=true, use_locking=true, validate_shape=true, _device=\"/device:CPU:0\"](softmax_linear/biases, softmax_linear/biases/Initializer/Const)}}' was changed by setting attribute after it was run by a session. This mutation will have no effect, and will trigger an error in the future. Either don't modify nodes after running them or create a new session.\n"
     ]
    },
    {
     "name": "stdout",
     "output_type": "stream",
     "text": [
      "Epoch -1 tr: l 4.671 a 0.098  clct[0, 60] ans[28, 32] cl_acc 0.533 4.179sec\n"
     ]
    },
    {
     "name": "stderr",
     "output_type": "stream",
     "text": [
      "2025-06-02 08:44:56.809942: W tensorflow/c/c_api.cc:305] Operation '{name:'softmax_linear/biases/Assign' id:221 op device:{requested: '/device:CPU:0', assigned: ''} def:{{{node softmax_linear/biases/Assign}} = Assign[T=DT_FLOAT, _class=[\"loc:@softmax_linear/biases\"], _has_manual_control_dependencies=true, use_locking=true, validate_shape=true, _device=\"/device:CPU:0\"](softmax_linear/biases, softmax_linear/biases/Initializer/Const)}}' was changed by setting attribute after it was run by a session. This mutation will have no effect, and will trigger an error in the future. Either don't modify nodes after running them or create a new session.\n"
     ]
    },
    {
     "name": "stdout",
     "output_type": "stream",
     "text": [
      "Epoch -1 tr: l 4.678 a 0.119  clct[45, 15] ans[27, 33] cl_acc 0.767 4.213sec\n"
     ]
    },
    {
     "name": "stderr",
     "output_type": "stream",
     "text": [
      "2025-06-02 08:45:01.047145: W tensorflow/c/c_api.cc:305] Operation '{name:'softmax_linear/biases/Assign' id:221 op device:{requested: '/device:CPU:0', assigned: ''} def:{{{node softmax_linear/biases/Assign}} = Assign[T=DT_FLOAT, _class=[\"loc:@softmax_linear/biases\"], _has_manual_control_dependencies=true, use_locking=true, validate_shape=true, _device=\"/device:CPU:0\"](softmax_linear/biases, softmax_linear/biases/Initializer/Const)}}' was changed by setting attribute after it was run by a session. This mutation will have no effect, and will trigger an error in the future. Either don't modify nodes after running them or create a new session.\n"
     ]
    },
    {
     "name": "stdout",
     "output_type": "stream",
     "text": [
      "Epoch -1 tr: l 4.675 a 0.105  clct[3, 57] ans[30, 30] cl_acc 0.550 3.808sec\n"
     ]
    },
    {
     "name": "stderr",
     "output_type": "stream",
     "text": [
      "2025-06-02 08:45:04.879275: W tensorflow/c/c_api.cc:305] Operation '{name:'softmax_linear/biases/Assign' id:221 op device:{requested: '/device:CPU:0', assigned: ''} def:{{{node softmax_linear/biases/Assign}} = Assign[T=DT_FLOAT, _class=[\"loc:@softmax_linear/biases\"], _has_manual_control_dependencies=true, use_locking=true, validate_shape=true, _device=\"/device:CPU:0\"](softmax_linear/biases, softmax_linear/biases/Initializer/Const)}}' was changed by setting attribute after it was run by a session. This mutation will have no effect, and will trigger an error in the future. Either don't modify nodes after running them or create a new session.\n"
     ]
    },
    {
     "name": "stdout",
     "output_type": "stream",
     "text": [
      "Epoch -1 tr: l 4.672 a 0.102  clct[0, 60] ans[33, 27] cl_acc 0.550 4.022sec\n"
     ]
    },
    {
     "name": "stderr",
     "output_type": "stream",
     "text": [
      "2025-06-02 08:45:08.926389: W tensorflow/c/c_api.cc:305] Operation '{name:'softmax_linear/biases/Assign' id:221 op device:{requested: '/device:CPU:0', assigned: ''} def:{{{node softmax_linear/biases/Assign}} = Assign[T=DT_FLOAT, _class=[\"loc:@softmax_linear/biases\"], _has_manual_control_dependencies=true, use_locking=true, validate_shape=true, _device=\"/device:CPU:0\"](softmax_linear/biases, softmax_linear/biases/Initializer/Const)}}' was changed by setting attribute after it was run by a session. This mutation will have no effect, and will trigger an error in the future. Either don't modify nodes after running them or create a new session.\n"
     ]
    },
    {
     "name": "stdout",
     "output_type": "stream",
     "text": [
      "Epoch -1 tr: l 4.677 a 0.107  clct[52, 8] ans[29, 31] cl_acc 0.617 4.014sec\n"
     ]
    },
    {
     "name": "stderr",
     "output_type": "stream",
     "text": [
      "2025-06-02 08:45:12.964362: W tensorflow/c/c_api.cc:305] Operation '{name:'softmax_linear/biases/Assign' id:221 op device:{requested: '/device:CPU:0', assigned: ''} def:{{{node softmax_linear/biases/Assign}} = Assign[T=DT_FLOAT, _class=[\"loc:@softmax_linear/biases\"], _has_manual_control_dependencies=true, use_locking=true, validate_shape=true, _device=\"/device:CPU:0\"](softmax_linear/biases, softmax_linear/biases/Initializer/Const)}}' was changed by setting attribute after it was run by a session. This mutation will have no effect, and will trigger an error in the future. Either don't modify nodes after running them or create a new session.\n"
     ]
    },
    {
     "name": "stdout",
     "output_type": "stream",
     "text": [
      "Epoch -1 tr: l 4.681 a 0.104  clct[16, 44] ans[33, 27] cl_acc 0.550 3.988sec\n"
     ]
    },
    {
     "name": "stderr",
     "output_type": "stream",
     "text": [
      "2025-06-02 08:45:16.977415: W tensorflow/c/c_api.cc:305] Operation '{name:'softmax_linear/biases/Assign' id:221 op device:{requested: '/device:CPU:0', assigned: ''} def:{{{node softmax_linear/biases/Assign}} = Assign[T=DT_FLOAT, _class=[\"loc:@softmax_linear/biases\"], _has_manual_control_dependencies=true, use_locking=true, validate_shape=true, _device=\"/device:CPU:0\"](softmax_linear/biases, softmax_linear/biases/Initializer/Const)}}' was changed by setting attribute after it was run by a session. This mutation will have no effect, and will trigger an error in the future. Either don't modify nodes after running them or create a new session.\n"
     ]
    },
    {
     "name": "stdout",
     "output_type": "stream",
     "text": [
      "Epoch -1 tr: l 4.676 a 0.101  clct[5, 55] ans[32, 28] cl_acc 0.517 3.903sec\n"
     ]
    },
    {
     "name": "stderr",
     "output_type": "stream",
     "text": [
      "2025-06-02 08:45:20.904980: W tensorflow/c/c_api.cc:305] Operation '{name:'softmax_linear/biases/Assign' id:221 op device:{requested: '/device:CPU:0', assigned: ''} def:{{{node softmax_linear/biases/Assign}} = Assign[T=DT_FLOAT, _class=[\"loc:@softmax_linear/biases\"], _has_manual_control_dependencies=true, use_locking=true, validate_shape=true, _device=\"/device:CPU:0\"](softmax_linear/biases, softmax_linear/biases/Initializer/Const)}}' was changed by setting attribute after it was run by a session. This mutation will have no effect, and will trigger an error in the future. Either don't modify nodes after running them or create a new session.\n"
     ]
    },
    {
     "name": "stdout",
     "output_type": "stream",
     "text": [
      "Epoch -1 tr: l 4.667 a 0.106  clct[0, 60] ans[25, 35] cl_acc 0.583 4.069sec\n"
     ]
    },
    {
     "name": "stderr",
     "output_type": "stream",
     "text": [
      "2025-06-02 08:45:24.998063: W tensorflow/c/c_api.cc:305] Operation '{name:'softmax_linear/biases/Assign' id:221 op device:{requested: '/device:CPU:0', assigned: ''} def:{{{node softmax_linear/biases/Assign}} = Assign[T=DT_FLOAT, _class=[\"loc:@softmax_linear/biases\"], _has_manual_control_dependencies=true, use_locking=true, validate_shape=true, _device=\"/device:CPU:0\"](softmax_linear/biases, softmax_linear/biases/Initializer/Const)}}' was changed by setting attribute after it was run by a session. This mutation will have no effect, and will trigger an error in the future. Either don't modify nodes after running them or create a new session.\n"
     ]
    },
    {
     "name": "stdout",
     "output_type": "stream",
     "text": [
      "Epoch -1 tr: l 4.674 a 0.098  clct[13, 47] ans[31, 29] cl_acc 0.533 4.048sec\n"
     ]
    },
    {
     "name": "stderr",
     "output_type": "stream",
     "text": [
      "2025-06-02 08:45:29.070111: W tensorflow/c/c_api.cc:305] Operation '{name:'softmax_linear/biases/Assign' id:221 op device:{requested: '/device:CPU:0', assigned: ''} def:{{{node softmax_linear/biases/Assign}} = Assign[T=DT_FLOAT, _class=[\"loc:@softmax_linear/biases\"], _has_manual_control_dependencies=true, use_locking=true, validate_shape=true, _device=\"/device:CPU:0\"](softmax_linear/biases, softmax_linear/biases/Initializer/Const)}}' was changed by setting attribute after it was run by a session. This mutation will have no effect, and will trigger an error in the future. Either don't modify nodes after running them or create a new session.\n"
     ]
    },
    {
     "name": "stdout",
     "output_type": "stream",
     "text": [
      "Epoch -1 tr: l 4.675 a 0.115  clct[33, 27] ans[36, 24] cl_acc 0.583 3.856sec\n",
      "found good initializer\n"
     ]
    },
    {
     "name": "stdout",
     "output_type": "stream",
     "text": [
      "Epoch -1 tr: l 4.675 a 0.116  clct[37, 23] ans[27, 33] cl_acc 0.533 3.805sec\n"
     ]
    },
    {
     "name": "stdout",
     "output_type": "stream",
     "text": [
      "Epoch -1 tst: l 4.675 a 0.116  clct[19, 21] ans[20, 20] cl_acc 0.575 2.438sec\n"
     ]
    },
    {
     "name": "stdout",
     "output_type": "stream",
     "text": [
      "Epoch 0 tr: l 2.046 a 0.375  clct[37, 23] ans[28, 32] lr 0.250000 cl_acc 0.850 44.033sec(train) 3.894sec(infer)\n"
     ]
    },
    {
     "name": "stdout",
     "output_type": "stream",
     "text": [
      "Epoch 0 tst: l 1.969 a 0.399  clct[24, 16] ans[20, 20] cl_acc 0.900 2.358sec\n",
      "result written at output/results.pickle\n"
     ]
    },
    {
     "name": "stdout",
     "output_type": "stream",
     "text": [
      "Epoch 1 tr: l 1.847 a 0.469  clct[31, 29] ans[31, 29] lr 0.247500 cl_acc 1.000 43.845sec(train) 3.784sec(infer)\n"
     ]
    },
    {
     "name": "stdout",
     "output_type": "stream",
     "text": [
      "Epoch 1 tst: l 1.701 a 0.515  clct[20, 20] ans[20, 20] cl_acc 1.000 2.382sec\n"
     ]
    },
    {
     "name": "stdout",
     "output_type": "stream",
     "text": [
      "Epoch 2 tr: l 1.822 a 0.511  clct[29, 31] ans[29, 31] lr 0.245025 cl_acc 1.000 43.809sec(train) 3.836sec(infer)\n"
     ]
    },
    {
     "name": "stdout",
     "output_type": "stream",
     "text": [
      "Epoch 2 tst: l 1.683 a 0.559  clct[20, 20] ans[20, 20] cl_acc 1.000 2.488sec\n"
     ]
    },
    {
     "name": "stdout",
     "output_type": "stream",
     "text": [
      "Epoch 3 tr: l 1.683 a 0.577  clct[27, 33] ans[27, 33] lr 0.242575 cl_acc 1.000 43.533sec(train) 3.924sec(infer)\n"
     ]
    },
    {
     "name": "stdout",
     "output_type": "stream",
     "text": [
      "Epoch 3 tst: l 1.607 a 0.606  clct[20, 20] ans[20, 20] cl_acc 1.000 2.349sec\n"
     ]
    },
    {
     "name": "stdout",
     "output_type": "stream",
     "text": [
      "Epoch 4 tr: l 1.802 a 0.576  clct[31, 29] ans[31, 29] lr 0.240149 cl_acc 1.000 43.607sec(train) 3.814sec(infer)\n"
     ]
    },
    {
     "name": "stdout",
     "output_type": "stream",
     "text": [
      "Epoch 4 tst: l 1.718 a 0.610  clct[20, 20] ans[20, 20] cl_acc 1.000 2.452sec\n"
     ]
    },
    {
     "name": "stdout",
     "output_type": "stream",
     "text": [
      "Epoch 5 tr: l 1.712 a 0.590  clct[26, 34] ans[26, 34] lr 0.237748 cl_acc 1.000 43.815sec(train) 3.761sec(infer)\n"
     ]
    },
    {
     "name": "stdout",
     "output_type": "stream",
     "text": [
      "Epoch 5 tst: l 1.572 a 0.635  clct[20, 20] ans[20, 20] cl_acc 1.000 2.308sec\n"
     ]
    },
    {
     "name": "stdout",
     "output_type": "stream",
     "text": [
      "Epoch 6 tr: l 1.711 a 0.604  clct[27, 33] ans[27, 33] lr 0.235370 cl_acc 1.000 43.832sec(train) 3.906sec(infer)\n"
     ]
    },
    {
     "name": "stdout",
     "output_type": "stream",
     "text": [
      "Epoch 6 tst: l 1.631 a 0.636  clct[20, 20] ans[20, 20] cl_acc 1.000 2.381sec\n"
     ]
    },
    {
     "name": "stdout",
     "output_type": "stream",
     "text": [
      "Epoch 7 tr: l 1.731 a 0.608  clct[28, 32] ans[28, 32] lr 0.233016 cl_acc 1.000 43.672sec(train) 3.882sec(infer)\n"
     ]
    },
    {
     "name": "stdout",
     "output_type": "stream",
     "text": [
      "Epoch 7 tst: l 1.601 a 0.647  clct[20, 20] ans[20, 20] cl_acc 1.000 2.436sec\n"
     ]
    },
    {
     "name": "stdout",
     "output_type": "stream",
     "text": [
      "Epoch 8 tr: l 1.617 a 0.626  clct[25, 35] ans[25, 35] lr 0.230686 cl_acc 1.000 43.775sec(train) 3.806sec(infer)\n"
     ]
    },
    {
     "name": "stdout",
     "output_type": "stream",
     "text": [
      "Epoch 8 tst: l 1.542 a 0.654  clct[20, 20] ans[20, 20] cl_acc 1.000 2.325sec\n"
     ]
    },
    {
     "name": "stdout",
     "output_type": "stream",
     "text": [
      "Epoch 9 tr: l 1.617 a 0.626  clct[36, 24] ans[36, 24] lr 0.228379 cl_acc 1.000 43.778sec(train) 3.803sec(infer)\n"
     ]
    },
    {
     "name": "stdout",
     "output_type": "stream",
     "text": [
      "Epoch 9 tst: l 1.493 a 0.674  clct[20, 20] ans[20, 20] cl_acc 1.000 2.371sec\n"
     ]
    },
    {
     "name": "stdout",
     "output_type": "stream",
     "text": [
      "Epoch 10 tr: l 1.611 a 0.634  clct[31, 29] ans[31, 29] lr 0.226096 cl_acc 1.000 43.640sec(train) 3.762sec(infer)\n"
     ]
    },
    {
     "name": "stdout",
     "output_type": "stream",
     "text": [
      "Epoch 10 tst: l 1.519 a 0.668  clct[20, 20] ans[20, 20] cl_acc 1.000 2.317sec\n",
      "result written at output/results.pickle\n"
     ]
    },
    {
     "name": "stdout",
     "output_type": "stream",
     "text": [
      "Epoch 11 tr: l 1.611 a 0.638  clct[31, 29] ans[31, 29] lr 0.223835 cl_acc 1.000 43.818sec(train) 3.933sec(infer)\n"
     ]
    },
    {
     "name": "stdout",
     "output_type": "stream",
     "text": [
      "Epoch 11 tst: l 1.547 a 0.666  clct[20, 20] ans[20, 20] cl_acc 1.000 2.381sec\n"
     ]
    },
    {
     "name": "stdout",
     "output_type": "stream",
     "text": [
      "Epoch 12 tr: l 1.678 a 0.620  clct[36, 24] ans[36, 24] lr 0.221596 cl_acc 1.000 43.699sec(train) 3.827sec(infer)\n"
     ]
    },
    {
     "name": "stdout",
     "output_type": "stream",
     "text": [
      "Epoch 12 tst: l 1.568 a 0.657  clct[20, 20] ans[20, 20] cl_acc 1.000 2.405sec\n"
     ]
    },
    {
     "name": "stdout",
     "output_type": "stream",
     "text": [
      "Epoch 13 tr: l 1.660 a 0.622  clct[27, 33] ans[27, 33] lr 0.219380 cl_acc 1.000 43.858sec(train) 3.852sec(infer)\n"
     ]
    },
    {
     "name": "stdout",
     "output_type": "stream",
     "text": [
      "Epoch 13 tst: l 1.573 a 0.654  clct[20, 20] ans[20, 20] cl_acc 1.000 2.387sec\n"
     ]
    },
    {
     "name": "stdout",
     "output_type": "stream",
     "text": [
      "Epoch 14 tr: l 1.555 a 0.658  clct[28, 32] ans[28, 32] lr 0.217186 cl_acc 1.000 43.770sec(train) 3.892sec(infer)\n"
     ]
    },
    {
     "name": "stdout",
     "output_type": "stream",
     "text": [
      "Epoch 14 tst: l 1.503 a 0.679  clct[20, 20] ans[20, 20] cl_acc 1.000 2.388sec\n"
     ]
    },
    {
     "name": "stdout",
     "output_type": "stream",
     "text": [
      "Epoch 15 tr: l 1.599 a 0.639  clct[30, 30] ans[30, 30] lr 0.215015 cl_acc 1.000 43.694sec(train) 3.839sec(infer)\n"
     ]
    },
    {
     "name": "stdout",
     "output_type": "stream",
     "text": [
      "Epoch 15 tst: l 1.536 a 0.669  clct[20, 20] ans[20, 20] cl_acc 1.000 2.386sec\n"
     ]
    },
    {
     "name": "stdout",
     "output_type": "stream",
     "text": [
      "Epoch 16 tr: l 1.631 a 0.627  clct[28, 32] ans[28, 32] lr 0.212864 cl_acc 1.000 43.976sec(train) 3.872sec(infer)\n"
     ]
    },
    {
     "name": "stdout",
     "output_type": "stream",
     "text": [
      "Epoch 16 tst: l 1.505 a 0.665  clct[20, 20] ans[20, 20] cl_acc 1.000 2.483sec\n"
     ]
    },
    {
     "name": "stdout",
     "output_type": "stream",
     "text": [
      "Epoch 17 tr: l 1.567 a 0.640  clct[30, 30] ans[30, 30] lr 0.210736 cl_acc 1.000 43.834sec(train) 3.860sec(infer)\n"
     ]
    },
    {
     "name": "stdout",
     "output_type": "stream",
     "text": [
      "Epoch 17 tst: l 1.508 a 0.665  clct[20, 20] ans[20, 20] cl_acc 1.000 2.468sec\n"
     ]
    },
    {
     "name": "stdout",
     "output_type": "stream",
     "text": [
      "Epoch 18 tr: l 1.600 a 0.635  clct[33, 27] ans[33, 27] lr 0.208628 cl_acc 1.000 43.790sec(train) 3.803sec(infer)\n"
     ]
    },
    {
     "name": "stdout",
     "output_type": "stream",
     "text": [
      "Epoch 18 tst: l 1.533 a 0.658  clct[20, 20] ans[20, 20] cl_acc 1.000 2.516sec\n"
     ]
    },
    {
     "name": "stdout",
     "output_type": "stream",
     "text": [
      "Epoch 19 tr: l 1.444 a 0.684  clct[22, 38] ans[22, 38] lr 0.206542 cl_acc 1.000 44.089sec(train) 3.820sec(infer)\n"
     ]
    },
    {
     "name": "stdout",
     "output_type": "stream",
     "text": [
      "Epoch 19 tst: l 1.410 a 0.703  clct[20, 20] ans[20, 20] cl_acc 1.000 2.425sec\n"
     ]
    },
    {
     "name": "stdout",
     "output_type": "stream",
     "text": [
      "Epoch 20 tr: l 1.485 a 0.677  clct[32, 28] ans[32, 28] lr 0.204477 cl_acc 1.000 43.845sec(train) 3.884sec(infer)\n"
     ]
    },
    {
     "name": "stdout",
     "output_type": "stream",
     "text": [
      "Epoch 20 tst: l 1.435 a 0.699  clct[20, 20] ans[20, 20] cl_acc 1.000 2.379sec\n",
      "result written at output/results.pickle\n"
     ]
    },
    {
     "name": "stdout",
     "output_type": "stream",
     "text": [
      "Epoch 21 tr: l 1.467 a 0.675  clct[29, 31] ans[29, 31] lr 0.202432 cl_acc 1.000 43.784sec(train) 3.880sec(infer)\n"
     ]
    },
    {
     "name": "stdout",
     "output_type": "stream",
     "text": [
      "Epoch 21 tst: l 1.396 a 0.701  clct[20, 20] ans[20, 20] cl_acc 1.000 2.435sec\n"
     ]
    },
    {
     "name": "stdout",
     "output_type": "stream",
     "text": [
      "Epoch 22 tr: l 1.466 a 0.685  clct[28, 32] ans[28, 32] lr 0.200408 cl_acc 1.000 43.927sec(train) 3.793sec(infer)\n"
     ]
    },
    {
     "name": "stdout",
     "output_type": "stream",
     "text": [
      "Epoch 22 tst: l 1.414 a 0.704  clct[20, 20] ans[20, 20] cl_acc 1.000 2.446sec\n"
     ]
    },
    {
     "name": "stdout",
     "output_type": "stream",
     "text": [
      "Epoch 23 tr: l 1.476 a 0.684  clct[28, 32] ans[28, 32] lr 0.198404 cl_acc 1.000 43.746sec(train) 3.827sec(infer)\n"
     ]
    },
    {
     "name": "stdout",
     "output_type": "stream",
     "text": [
      "Epoch 23 tst: l 1.423 a 0.702  clct[20, 20] ans[20, 20] cl_acc 1.000 2.304sec\n"
     ]
    },
    {
     "name": "stdout",
     "output_type": "stream",
     "text": [
      "Epoch 24 tr: l 1.418 a 0.692  clct[25, 35] ans[25, 35] lr 0.196420 cl_acc 1.000 44.107sec(train) 3.750sec(infer)\n"
     ]
    },
    {
     "name": "stdout",
     "output_type": "stream",
     "text": [
      "Epoch 24 tst: l 1.370 a 0.711  clct[20, 20] ans[20, 20] cl_acc 1.000 2.364sec\n"
     ]
    },
    {
     "name": "stdout",
     "output_type": "stream",
     "text": [
      "Epoch 25 tr: l 1.506 a 0.672  clct[32, 28] ans[32, 28] lr 0.194455 cl_acc 1.000 43.739sec(train) 3.802sec(infer)\n"
     ]
    },
    {
     "name": "stdout",
     "output_type": "stream",
     "text": [
      "Epoch 25 tst: l 1.414 a 0.701  clct[20, 20] ans[20, 20] cl_acc 1.000 2.368sec\n"
     ]
    },
    {
     "name": "stdout",
     "output_type": "stream",
     "text": [
      "Epoch 26 tr: l 1.446 a 0.686  clct[23, 37] ans[23, 37] lr 0.192511 cl_acc 1.000 43.702sec(train) 3.834sec(infer)\n"
     ]
    },
    {
     "name": "stdout",
     "output_type": "stream",
     "text": [
      "Epoch 26 tst: l 1.373 a 0.709  clct[20, 20] ans[20, 20] cl_acc 1.000 2.324sec\n"
     ]
    },
    {
     "name": "stdout",
     "output_type": "stream",
     "text": [
      "Epoch 27 tr: l 1.512 a 0.658  clct[31, 29] ans[31, 29] lr 0.190586 cl_acc 1.000 44.002sec(train) 3.725sec(infer)\n"
     ]
    },
    {
     "name": "stdout",
     "output_type": "stream",
     "text": [
      "Epoch 27 tst: l 1.413 a 0.696  clct[20, 20] ans[20, 20] cl_acc 1.000 2.433sec\n"
     ]
    },
    {
     "name": "stdout",
     "output_type": "stream",
     "text": [
      "Epoch 28 tr: l 1.514 a 0.667  clct[25, 35] ans[25, 35] lr 0.188680 cl_acc 1.000 43.934sec(train) 3.841sec(infer)\n"
     ]
    },
    {
     "name": "stdout",
     "output_type": "stream",
     "text": [
      "Epoch 28 tst: l 1.404 a 0.697  clct[20, 20] ans[20, 20] cl_acc 1.000 2.484sec\n"
     ]
    },
    {
     "name": "stdout",
     "output_type": "stream",
     "text": [
      "Epoch 29 tr: l 1.476 a 0.676  clct[26, 34] ans[26, 34] lr 0.186793 cl_acc 1.000 43.881sec(train) 3.751sec(infer)\n"
     ]
    },
    {
     "name": "stdout",
     "output_type": "stream",
     "text": [
      "Epoch 29 tst: l 1.410 a 0.698  clct[20, 20] ans[20, 20] cl_acc 1.000 2.394sec\n"
     ]
    },
    {
     "name": "stdout",
     "output_type": "stream",
     "text": [
      "Epoch 30 tr: l 1.422 a 0.690  clct[28, 32] ans[28, 32] lr 0.184925 cl_acc 1.000 43.976sec(train) 3.884sec(infer)\n"
     ]
    },
    {
     "name": "stdout",
     "output_type": "stream",
     "text": [
      "Epoch 30 tst: l 1.345 a 0.715  clct[20, 20] ans[20, 20] cl_acc 1.000 2.395sec\n",
      "result written at output/results.pickle\n"
     ]
    },
    {
     "name": "stdout",
     "output_type": "stream",
     "text": [
      "Epoch 31 tr: l 1.381 a 0.699  clct[24, 36] ans[24, 36] lr 0.183076 cl_acc 1.000 43.565sec(train) 4.003sec(infer)\n"
     ]
    },
    {
     "name": "stdout",
     "output_type": "stream",
     "text": [
      "Epoch 31 tst: l 1.338 a 0.717  clct[20, 20] ans[20, 20] cl_acc 1.000 2.370sec\n"
     ]
    },
    {
     "name": "stdout",
     "output_type": "stream",
     "text": [
      "Epoch 32 tr: l 1.427 a 0.692  clct[28, 32] ans[28, 32] lr 0.181245 cl_acc 1.000 43.878sec(train) 3.877sec(infer)\n"
     ]
    },
    {
     "name": "stdout",
     "output_type": "stream",
     "text": [
      "Epoch 32 tst: l 1.428 a 0.701  clct[20, 20] ans[20, 20] cl_acc 1.000 2.314sec\n"
     ]
    },
    {
     "name": "stdout",
     "output_type": "stream",
     "text": [
      "Epoch 33 tr: l 1.343 a 0.707  clct[30, 30] ans[30, 30] lr 0.179433 cl_acc 1.000 43.884sec(train) 3.680sec(infer)\n"
     ]
    },
    {
     "name": "stdout",
     "output_type": "stream",
     "text": [
      "Epoch 33 tst: l 1.321 a 0.722  clct[20, 20] ans[20, 20] cl_acc 1.000 2.457sec\n"
     ]
    },
    {
     "name": "stdout",
     "output_type": "stream",
     "text": [
      "Epoch 34 tr: l 1.411 a 0.693  clct[27, 33] ans[27, 33] lr 0.177638 cl_acc 1.000 43.786sec(train) 3.794sec(infer)\n"
     ]
    },
    {
     "name": "stdout",
     "output_type": "stream",
     "text": [
      "Epoch 34 tst: l 1.361 a 0.714  clct[20, 20] ans[20, 20] cl_acc 1.000 2.370sec\n"
     ]
    },
    {
     "name": "stdout",
     "output_type": "stream",
     "text": [
      "Epoch 35 tr: l 1.322 a 0.711  clct[28, 32] ans[28, 32] lr 0.175862 cl_acc 1.000 43.850sec(train) 3.906sec(infer)\n"
     ]
    },
    {
     "name": "stdout",
     "output_type": "stream",
     "text": [
      "Epoch 35 tst: l 1.272 a 0.732  clct[20, 20] ans[20, 20] cl_acc 1.000 2.312sec\n"
     ]
    },
    {
     "name": "stdout",
     "output_type": "stream",
     "text": [
      "Epoch 36 tr: l 1.344 a 0.707  clct[36, 24] ans[36, 24] lr 0.174103 cl_acc 1.000 43.964sec(train) 3.853sec(infer)\n"
     ]
    },
    {
     "name": "stdout",
     "output_type": "stream",
     "text": [
      "Epoch 36 tst: l 1.288 a 0.724  clct[20, 20] ans[20, 20] cl_acc 1.000 2.311sec\n"
     ]
    },
    {
     "name": "stdout",
     "output_type": "stream",
     "text": [
      "Epoch 37 tr: l 1.406 a 0.687  clct[34, 26] ans[34, 26] lr 0.172362 cl_acc 1.000 43.719sec(train) 3.825sec(infer)\n"
     ]
    },
    {
     "name": "stdout",
     "output_type": "stream",
     "text": [
      "Epoch 37 tst: l 1.358 a 0.707  clct[20, 20] ans[20, 20] cl_acc 1.000 2.375sec\n"
     ]
    },
    {
     "name": "stdout",
     "output_type": "stream",
     "text": [
      "Epoch 38 tr: l 1.396 a 0.688  clct[31, 29] ans[31, 29] lr 0.170639 cl_acc 1.000 43.821sec(train) 3.805sec(infer)\n"
     ]
    },
    {
     "name": "stdout",
     "output_type": "stream",
     "text": [
      "Epoch 38 tst: l 1.325 a 0.720  clct[20, 20] ans[20, 20] cl_acc 1.000 2.398sec\n"
     ]
    },
    {
     "name": "stdout",
     "output_type": "stream",
     "text": [
      "Epoch 39 tr: l 1.340 a 0.703  clct[24, 36] ans[24, 36] lr 0.168932 cl_acc 1.000 43.974sec(train) 3.738sec(infer)\n"
     ]
    },
    {
     "name": "stdout",
     "output_type": "stream",
     "text": [
      "Epoch 39 tst: l 1.334 a 0.713  clct[20, 20] ans[20, 20] cl_acc 1.000 2.423sec\n"
     ]
    },
    {
     "name": "stdout",
     "output_type": "stream",
     "text": [
      "Epoch 40 tr: l 1.291 a 0.722  clct[32, 28] ans[32, 28] lr 0.167243 cl_acc 1.000 43.774sec(train) 3.846sec(infer)\n"
     ]
    },
    {
     "name": "stdout",
     "output_type": "stream",
     "text": [
      "Epoch 40 tst: l 1.285 a 0.728  clct[20, 20] ans[20, 20] cl_acc 1.000 2.368sec\n",
      "result written at output/results.pickle\n"
     ]
    },
    {
     "name": "stdout",
     "output_type": "stream",
     "text": [
      "Epoch 41 tr: l 1.319 a 0.708  clct[29, 31] ans[29, 31] lr 0.165571 cl_acc 1.000 43.715sec(train) 3.795sec(infer)\n"
     ]
    },
    {
     "name": "stdout",
     "output_type": "stream",
     "text": [
      "Epoch 41 tst: l 1.290 a 0.723  clct[20, 20] ans[20, 20] cl_acc 1.000 2.354sec\n"
     ]
    },
    {
     "name": "stdout",
     "output_type": "stream",
     "text": [
      "Epoch 42 tr: l 1.351 a 0.709  clct[34, 26] ans[34, 26] lr 0.163915 cl_acc 1.000 43.783sec(train) 3.735sec(infer)\n"
     ]
    },
    {
     "name": "stdout",
     "output_type": "stream",
     "text": [
      "Epoch 42 tst: l 1.316 a 0.721  clct[20, 20] ans[20, 20] cl_acc 1.000 2.307sec\n"
     ]
    },
    {
     "name": "stdout",
     "output_type": "stream",
     "text": [
      "Epoch 43 tr: l 1.359 a 0.705  clct[31, 29] ans[31, 29] lr 0.162276 cl_acc 1.000 43.977sec(train) 3.812sec(infer)\n"
     ]
    },
    {
     "name": "stdout",
     "output_type": "stream",
     "text": [
      "Epoch 43 tst: l 1.297 a 0.727  clct[20, 20] ans[20, 20] cl_acc 1.000 2.382sec\n"
     ]
    },
    {
     "name": "stdout",
     "output_type": "stream",
     "text": [
      "Epoch 44 tr: l 1.332 a 0.703  clct[29, 31] ans[29, 31] lr 0.160653 cl_acc 1.000 43.731sec(train) 3.841sec(infer)\n"
     ]
    },
    {
     "name": "stdout",
     "output_type": "stream",
     "text": [
      "Epoch 44 tst: l 1.252 a 0.736  clct[20, 20] ans[20, 20] cl_acc 1.000 2.413sec\n"
     ]
    },
    {
     "name": "stdout",
     "output_type": "stream",
     "text": [
      "Epoch 45 tr: l 1.298 a 0.717  clct[28, 32] ans[28, 32] lr 0.159046 cl_acc 1.000 43.898sec(train) 3.863sec(infer)\n"
     ]
    },
    {
     "name": "stdout",
     "output_type": "stream",
     "text": [
      "Epoch 45 tst: l 1.266 a 0.734  clct[20, 20] ans[20, 20] cl_acc 1.000 2.294sec\n"
     ]
    },
    {
     "name": "stdout",
     "output_type": "stream",
     "text": [
      "Epoch 46 tr: l 1.317 a 0.713  clct[30, 30] ans[30, 30] lr 0.157456 cl_acc 1.000 43.960sec(train) 3.816sec(infer)\n"
     ]
    },
    {
     "name": "stdout",
     "output_type": "stream",
     "text": [
      "Epoch 46 tst: l 1.290 a 0.730  clct[20, 20] ans[20, 20] cl_acc 1.000 2.429sec\n"
     ]
    },
    {
     "name": "stdout",
     "output_type": "stream",
     "text": [
      "Epoch 47 tr: l 1.302 a 0.712  clct[31, 29] ans[31, 29] lr 0.155881 cl_acc 1.000 43.856sec(train) 3.784sec(infer)\n"
     ]
    },
    {
     "name": "stdout",
     "output_type": "stream",
     "text": [
      "Epoch 47 tst: l 1.292 a 0.726  clct[20, 20] ans[20, 20] cl_acc 1.000 2.335sec\n"
     ]
    },
    {
     "name": "stdout",
     "output_type": "stream",
     "text": [
      "Epoch 48 tr: l 1.331 a 0.711  clct[34, 26] ans[34, 26] lr 0.154323 cl_acc 1.000 43.884sec(train) 3.783sec(infer)\n"
     ]
    },
    {
     "name": "stdout",
     "output_type": "stream",
     "text": [
      "Epoch 48 tst: l 1.290 a 0.729  clct[20, 20] ans[20, 20] cl_acc 1.000 2.402sec\n"
     ]
    },
    {
     "name": "stdout",
     "output_type": "stream",
     "text": [
      "Epoch 49 tr: l 1.218 a 0.732  clct[32, 28] ans[32, 28] lr 0.152779 cl_acc 1.000 43.750sec(train) 3.940sec(infer)\n"
     ]
    },
    {
     "name": "stdout",
     "output_type": "stream",
     "text": [
      "Epoch 49 tst: l 1.198 a 0.744  clct[20, 20] ans[20, 20] cl_acc 1.000 2.457sec\n"
     ]
    },
    {
     "name": "stdout",
     "output_type": "stream",
     "text": [
      "Epoch 50 tr: l 1.230 a 0.727  clct[31, 29] ans[31, 29] lr 0.151252 cl_acc 1.000 43.735sec(train) 3.911sec(infer)\n"
     ]
    },
    {
     "name": "stdout",
     "output_type": "stream",
     "text": [
      "Epoch 50 tst: l 1.228 a 0.738  clct[20, 20] ans[20, 20] cl_acc 1.000 2.476sec\n",
      "result written at output/results.pickle\n"
     ]
    },
    {
     "name": "stdout",
     "output_type": "stream",
     "text": [
      "Epoch 51 tr: l 1.364 a 0.706  clct[32, 28] ans[32, 28] lr 0.149739 cl_acc 1.000 43.792sec(train) 3.886sec(infer)\n"
     ]
    },
    {
     "name": "stdout",
     "output_type": "stream",
     "text": [
      "Epoch 51 tst: l 1.340 a 0.721  clct[20, 20] ans[20, 20] cl_acc 1.000 2.499sec\n"
     ]
    },
    {
     "name": "stdout",
     "output_type": "stream",
     "text": [
      "Epoch 52 tr: l 1.270 a 0.724  clct[24, 36] ans[24, 36] lr 0.148242 cl_acc 1.000 43.681sec(train) 3.826sec(infer)\n"
     ]
    },
    {
     "name": "stdout",
     "output_type": "stream",
     "text": [
      "Epoch 52 tst: l 1.258 a 0.734  clct[20, 20] ans[20, 20] cl_acc 1.000 2.417sec\n"
     ]
    },
    {
     "name": "stdout",
     "output_type": "stream",
     "text": [
      "Epoch 53 tr: l 1.200 a 0.739  clct[28, 32] ans[28, 32] lr 0.146759 cl_acc 1.000 43.993sec(train) 3.869sec(infer)\n"
     ]
    },
    {
     "name": "stdout",
     "output_type": "stream",
     "text": [
      "Epoch 53 tst: l 1.195 a 0.743  clct[20, 20] ans[20, 20] cl_acc 1.000 2.301sec\n"
     ]
    },
    {
     "name": "stdout",
     "output_type": "stream",
     "text": [
      "Epoch 54 tr: l 1.203 a 0.738  clct[27, 33] ans[27, 33] lr 0.145292 cl_acc 1.000 44.027sec(train) 3.747sec(infer)\n"
     ]
    },
    {
     "name": "stdout",
     "output_type": "stream",
     "text": [
      "Epoch 54 tst: l 1.226 a 0.734  clct[20, 20] ans[20, 20] cl_acc 1.000 2.373sec\n"
     ]
    },
    {
     "name": "stdout",
     "output_type": "stream",
     "text": [
      "Epoch 55 tr: l 1.285 a 0.717  clct[29, 31] ans[29, 31] lr 0.143839 cl_acc 1.000 43.939sec(train) 3.856sec(infer)\n"
     ]
    },
    {
     "name": "stdout",
     "output_type": "stream",
     "text": [
      "Epoch 55 tst: l 1.271 a 0.723  clct[20, 20] ans[20, 20] cl_acc 1.000 2.360sec\n"
     ]
    },
    {
     "name": "stdout",
     "output_type": "stream",
     "text": [
      "Epoch 56 tr: l 1.210 a 0.728  clct[29, 31] ans[29, 31] lr 0.142400 cl_acc 1.000 43.966sec(train) 3.896sec(infer)\n"
     ]
    },
    {
     "name": "stdout",
     "output_type": "stream",
     "text": [
      "Epoch 56 tst: l 1.194 a 0.741  clct[20, 20] ans[20, 20] cl_acc 1.000 2.395sec\n"
     ]
    },
    {
     "name": "stdout",
     "output_type": "stream",
     "text": [
      "Epoch 57 tr: l 1.262 a 0.722  clct[25, 35] ans[25, 35] lr 0.140976 cl_acc 1.000 43.856sec(train) 3.789sec(infer)\n"
     ]
    },
    {
     "name": "stdout",
     "output_type": "stream",
     "text": [
      "Epoch 57 tst: l 1.271 a 0.722  clct[20, 20] ans[20, 20] cl_acc 1.000 2.327sec\n"
     ]
    },
    {
     "name": "stdout",
     "output_type": "stream",
     "text": [
      "Epoch 58 tr: l 1.235 a 0.727  clct[25, 35] ans[25, 35] lr 0.139567 cl_acc 1.000 43.789sec(train) 3.849sec(infer)\n"
     ]
    },
    {
     "name": "stdout",
     "output_type": "stream",
     "text": [
      "Epoch 58 tst: l 1.220 a 0.739  clct[20, 20] ans[20, 20] cl_acc 1.000 2.361sec\n"
     ]
    },
    {
     "name": "stdout",
     "output_type": "stream",
     "text": [
      "Epoch 59 tr: l 1.193 a 0.740  clct[31, 29] ans[31, 29] lr 0.138171 cl_acc 1.000 43.926sec(train) 3.808sec(infer)\n"
     ]
    },
    {
     "name": "stdout",
     "output_type": "stream",
     "text": [
      "Epoch 59 tst: l 1.186 a 0.747  clct[20, 20] ans[20, 20] cl_acc 1.000 2.472sec\n"
     ]
    },
    {
     "name": "stdout",
     "output_type": "stream",
     "text": [
      "Epoch 60 tr: l 1.203 a 0.737  clct[30, 30] ans[30, 30] lr 0.136789 cl_acc 1.000 43.990sec(train) 3.786sec(infer)\n"
     ]
    },
    {
     "name": "stdout",
     "output_type": "stream",
     "text": [
      "Epoch 60 tst: l 1.159 a 0.752  clct[20, 20] ans[20, 20] cl_acc 1.000 2.338sec\n",
      "result written at output/results.pickle\n"
     ]
    },
    {
     "name": "stdout",
     "output_type": "stream",
     "text": [
      "Epoch 61 tr: l 1.143 a 0.749  clct[28, 32] ans[28, 32] lr 0.135421 cl_acc 1.000 43.875sec(train) 3.808sec(infer)\n"
     ]
    },
    {
     "name": "stdout",
     "output_type": "stream",
     "text": [
      "Epoch 61 tst: l 1.154 a 0.751  clct[20, 20] ans[20, 20] cl_acc 1.000 2.352sec\n"
     ]
    },
    {
     "name": "stdout",
     "output_type": "stream",
     "text": [
      "Epoch 62 tr: l 1.229 a 0.720  clct[36, 24] ans[36, 24] lr 0.134067 cl_acc 1.000 43.964sec(train) 3.756sec(infer)\n"
     ]
    },
    {
     "name": "stdout",
     "output_type": "stream",
     "text": [
      "Epoch 62 tst: l 1.249 a 0.724  clct[20, 20] ans[20, 20] cl_acc 1.000 2.407sec\n"
     ]
    },
    {
     "name": "stdout",
     "output_type": "stream",
     "text": [
      "Epoch 63 tr: l 1.105 a 0.757  clct[33, 27] ans[33, 27] lr 0.132726 cl_acc 1.000 44.166sec(train) 3.736sec(infer)\n"
     ]
    },
    {
     "name": "stdout",
     "output_type": "stream",
     "text": [
      "Epoch 63 tst: l 1.137 a 0.755  clct[20, 20] ans[20, 20] cl_acc 1.000 2.454sec\n"
     ]
    },
    {
     "name": "stdout",
     "output_type": "stream",
     "text": [
      "Epoch 64 tr: l 1.123 a 0.752  clct[36, 24] ans[36, 24] lr 0.131399 cl_acc 1.000 44.109sec(train) 3.884sec(infer)\n"
     ]
    },
    {
     "name": "stdout",
     "output_type": "stream",
     "text": [
      "Epoch 64 tst: l 1.143 a 0.753  clct[20, 20] ans[20, 20] cl_acc 1.000 2.403sec\n"
     ]
    },
    {
     "name": "stdout",
     "output_type": "stream",
     "text": [
      "Epoch 65 tr: l 1.179 a 0.742  clct[26, 34] ans[26, 34] lr 0.130085 cl_acc 1.000 43.929sec(train) 3.769sec(infer)\n"
     ]
    },
    {
     "name": "stdout",
     "output_type": "stream",
     "text": [
      "Epoch 65 tst: l 1.150 a 0.754  clct[20, 20] ans[20, 20] cl_acc 1.000 2.343sec\n"
     ]
    },
    {
     "name": "stdout",
     "output_type": "stream",
     "text": [
      "Epoch 66 tr: l 1.135 a 0.746  clct[30, 30] ans[30, 30] lr 0.128784 cl_acc 1.000 44.043sec(train) 3.974sec(infer)\n"
     ]
    },
    {
     "name": "stdout",
     "output_type": "stream",
     "text": [
      "Epoch 66 tst: l 1.110 a 0.755  clct[20, 20] ans[20, 20] cl_acc 1.000 2.492sec\n"
     ]
    },
    {
     "name": "stdout",
     "output_type": "stream",
     "text": [
      "Epoch 67 tr: l 1.121 a 0.754  clct[34, 26] ans[34, 26] lr 0.127496 cl_acc 1.000 43.969sec(train) 3.902sec(infer)\n"
     ]
    },
    {
     "name": "stdout",
     "output_type": "stream",
     "text": [
      "Epoch 67 tst: l 1.101 a 0.763  clct[20, 20] ans[20, 20] cl_acc 1.000 2.457sec\n"
     ]
    },
    {
     "name": "stdout",
     "output_type": "stream",
     "text": [
      "Epoch 68 tr: l 1.202 a 0.739  clct[29, 31] ans[29, 31] lr 0.126221 cl_acc 1.000 43.859sec(train) 3.930sec(infer)\n"
     ]
    },
    {
     "name": "stdout",
     "output_type": "stream",
     "text": [
      "Epoch 68 tst: l 1.207 a 0.743  clct[20, 20] ans[20, 20] cl_acc 1.000 2.406sec\n"
     ]
    },
    {
     "name": "stdout",
     "output_type": "stream",
     "text": [
      "Epoch 69 tr: l 1.123 a 0.749  clct[29, 31] ans[29, 31] lr 0.124959 cl_acc 1.000 43.838sec(train) 3.777sec(infer)\n"
     ]
    },
    {
     "name": "stdout",
     "output_type": "stream",
     "text": [
      "Epoch 69 tst: l 1.125 a 0.753  clct[20, 20] ans[20, 20] cl_acc 1.000 2.451sec\n"
     ]
    },
    {
     "name": "stdout",
     "output_type": "stream",
     "text": [
      "Epoch 70 tr: l 1.115 a 0.753  clct[28, 32] ans[28, 32] lr 0.123710 cl_acc 1.000 43.804sec(train) 3.895sec(infer)\n"
     ]
    },
    {
     "name": "stdout",
     "output_type": "stream",
     "text": [
      "Epoch 70 tst: l 1.115 a 0.759  clct[20, 20] ans[20, 20] cl_acc 1.000 2.492sec\n",
      "result written at output/results.pickle\n"
     ]
    },
    {
     "name": "stdout",
     "output_type": "stream",
     "text": [
      "Epoch 71 tr: l 1.151 a 0.740  clct[28, 32] ans[28, 32] lr 0.122473 cl_acc 1.000 43.997sec(train) 3.784sec(infer)\n"
     ]
    },
    {
     "name": "stdout",
     "output_type": "stream",
     "text": [
      "Epoch 71 tst: l 1.129 a 0.751  clct[20, 20] ans[20, 20] cl_acc 1.000 2.423sec\n"
     ]
    },
    {
     "name": "stdout",
     "output_type": "stream",
     "text": [
      "Epoch 72 tr: l 1.111 a 0.748  clct[22, 38] ans[22, 38] lr 0.121248 cl_acc 1.000 44.198sec(train) 3.866sec(infer)\n"
     ]
    },
    {
     "name": "stdout",
     "output_type": "stream",
     "text": [
      "Epoch 72 tst: l 1.104 a 0.756  clct[20, 20] ans[20, 20] cl_acc 1.000 2.431sec\n"
     ]
    },
    {
     "name": "stdout",
     "output_type": "stream",
     "text": [
      "Epoch 73 tr: l 1.117 a 0.750  clct[33, 27] ans[33, 27] lr 0.120035 cl_acc 1.000 43.979sec(train) 3.774sec(infer)\n"
     ]
    },
    {
     "name": "stdout",
     "output_type": "stream",
     "text": [
      "Epoch 73 tst: l 1.127 a 0.759  clct[20, 20] ans[20, 20] cl_acc 1.000 2.445sec\n"
     ]
    },
    {
     "name": "stdout",
     "output_type": "stream",
     "text": [
      "Epoch 74 tr: l 1.115 a 0.751  clct[34, 26] ans[34, 26] lr 0.118835 cl_acc 1.000 44.070sec(train) 3.841sec(infer)\n"
     ]
    },
    {
     "name": "stdout",
     "output_type": "stream",
     "text": [
      "Epoch 74 tst: l 1.102 a 0.764  clct[20, 20] ans[20, 20] cl_acc 1.000 2.409sec\n"
     ]
    },
    {
     "name": "stdout",
     "output_type": "stream",
     "text": [
      "Epoch 75 tr: l 1.142 a 0.742  clct[31, 29] ans[31, 29] lr 0.117647 cl_acc 1.000 43.889sec(train) 3.845sec(infer)\n"
     ]
    },
    {
     "name": "stdout",
     "output_type": "stream",
     "text": [
      "Epoch 75 tst: l 1.128 a 0.752  clct[20, 20] ans[20, 20] cl_acc 1.000 2.422sec\n"
     ]
    },
    {
     "name": "stdout",
     "output_type": "stream",
     "text": [
      "Epoch 76 tr: l 1.069 a 0.762  clct[38, 22] ans[38, 22] lr 0.116470 cl_acc 1.000 43.839sec(train) 3.699sec(infer)\n"
     ]
    },
    {
     "name": "stdout",
     "output_type": "stream",
     "text": [
      "Epoch 76 tst: l 1.082 a 0.764  clct[20, 20] ans[20, 20] cl_acc 1.000 2.386sec\n"
     ]
    },
    {
     "name": "stdout",
     "output_type": "stream",
     "text": [
      "Epoch 77 tr: l 1.101 a 0.753  clct[33, 27] ans[33, 27] lr 0.115305 cl_acc 1.000 43.978sec(train) 3.912sec(infer)\n"
     ]
    },
    {
     "name": "stdout",
     "output_type": "stream",
     "text": [
      "Epoch 77 tst: l 1.101 a 0.763  clct[20, 20] ans[20, 20] cl_acc 1.000 2.458sec\n"
     ]
    },
    {
     "name": "stdout",
     "output_type": "stream",
     "text": [
      "Epoch 78 tr: l 1.108 a 0.753  clct[30, 30] ans[30, 30] lr 0.114152 cl_acc 1.000 43.894sec(train) 3.739sec(infer)\n"
     ]
    },
    {
     "name": "stdout",
     "output_type": "stream",
     "text": [
      "Epoch 78 tst: l 1.106 a 0.758  clct[20, 20] ans[20, 20] cl_acc 1.000 2.433sec\n"
     ]
    },
    {
     "name": "stdout",
     "output_type": "stream",
     "text": [
      "Epoch 79 tr: l 1.107 a 0.751  clct[25, 35] ans[25, 35] lr 0.113011 cl_acc 1.000 43.788sec(train) 3.704sec(infer)\n"
     ]
    },
    {
     "name": "stdout",
     "output_type": "stream",
     "text": [
      "Epoch 79 tst: l 1.134 a 0.750  clct[20, 20] ans[20, 20] cl_acc 1.000 2.349sec\n"
     ]
    },
    {
     "name": "stdout",
     "output_type": "stream",
     "text": [
      "Epoch 80 tr: l 1.068 a 0.761  clct[30, 30] ans[30, 30] lr 0.111881 cl_acc 1.000 43.832sec(train) 3.886sec(infer)\n"
     ]
    },
    {
     "name": "stdout",
     "output_type": "stream",
     "text": [
      "Epoch 80 tst: l 1.056 a 0.770  clct[20, 20] ans[20, 20] cl_acc 1.000 2.382sec\n",
      "result written at output/results.pickle\n"
     ]
    },
    {
     "name": "stdout",
     "output_type": "stream",
     "text": [
      "Epoch 81 tr: l 1.053 a 0.765  clct[29, 31] ans[29, 31] lr 0.110762 cl_acc 1.000 43.914sec(train) 3.934sec(infer)\n"
     ]
    },
    {
     "name": "stdout",
     "output_type": "stream",
     "text": [
      "Epoch 81 tst: l 1.065 a 0.765  clct[20, 20] ans[20, 20] cl_acc 1.000 2.336sec\n"
     ]
    },
    {
     "name": "stdout",
     "output_type": "stream",
     "text": [
      "Epoch 82 tr: l 1.037 a 0.764  clct[31, 29] ans[31, 29] lr 0.109654 cl_acc 1.000 44.002sec(train) 3.785sec(infer)\n"
     ]
    },
    {
     "name": "stdout",
     "output_type": "stream",
     "text": [
      "Epoch 82 tst: l 1.040 a 0.768  clct[20, 20] ans[20, 20] cl_acc 1.000 2.351sec\n"
     ]
    },
    {
     "name": "stdout",
     "output_type": "stream",
     "text": [
      "Epoch 83 tr: l 1.049 a 0.763  clct[35, 25] ans[35, 25] lr 0.108558 cl_acc 1.000 44.011sec(train) 3.899sec(infer)\n"
     ]
    },
    {
     "name": "stdout",
     "output_type": "stream",
     "text": [
      "Epoch 83 tst: l 1.056 a 0.766  clct[20, 20] ans[20, 20] cl_acc 1.000 2.413sec\n"
     ]
    },
    {
     "name": "stdout",
     "output_type": "stream",
     "text": [
      "Epoch 84 tr: l 1.048 a 0.765  clct[26, 34] ans[26, 34] lr 0.107472 cl_acc 1.000 43.773sec(train) 3.803sec(infer)\n"
     ]
    },
    {
     "name": "stdout",
     "output_type": "stream",
     "text": [
      "Epoch 84 tst: l 1.059 a 0.765  clct[20, 20] ans[20, 20] cl_acc 1.000 2.363sec\n"
     ]
    },
    {
     "name": "stdout",
     "output_type": "stream",
     "text": [
      "Epoch 85 tr: l 1.072 a 0.759  clct[31, 29] ans[31, 29] lr 0.106398 cl_acc 1.000 43.930sec(train) 3.631sec(infer)\n"
     ]
    },
    {
     "name": "stdout",
     "output_type": "stream",
     "text": [
      "Epoch 85 tst: l 1.102 a 0.758  clct[20, 20] ans[20, 20] cl_acc 1.000 2.396sec\n"
     ]
    },
    {
     "name": "stdout",
     "output_type": "stream",
     "text": [
      "Epoch 86 tr: l 1.096 a 0.750  clct[29, 31] ans[29, 31] lr 0.105334 cl_acc 1.000 44.140sec(train) 3.786sec(infer)\n"
     ]
    },
    {
     "name": "stdout",
     "output_type": "stream",
     "text": [
      "Epoch 86 tst: l 1.086 a 0.762  clct[20, 20] ans[20, 20] cl_acc 1.000 2.358sec\n"
     ]
    },
    {
     "name": "stdout",
     "output_type": "stream",
     "text": [
      "Epoch 87 tr: l 1.065 a 0.761  clct[29, 31] ans[29, 31] lr 0.104280 cl_acc 1.000 43.894sec(train) 3.858sec(infer)\n"
     ]
    },
    {
     "name": "stdout",
     "output_type": "stream",
     "text": [
      "Epoch 87 tst: l 1.097 a 0.760  clct[20, 20] ans[20, 20] cl_acc 1.000 2.342sec\n"
     ]
    },
    {
     "name": "stdout",
     "output_type": "stream",
     "text": [
      "Epoch 88 tr: l 1.044 a 0.767  clct[34, 26] ans[34, 26] lr 0.103237 cl_acc 1.000 44.027sec(train) 3.942sec(infer)\n"
     ]
    },
    {
     "name": "stdout",
     "output_type": "stream",
     "text": [
      "Epoch 88 tst: l 1.071 a 0.768  clct[20, 20] ans[20, 20] cl_acc 1.000 2.375sec\n"
     ]
    },
    {
     "name": "stdout",
     "output_type": "stream",
     "text": [
      "Epoch 89 tr: l 1.094 a 0.752  clct[33, 27] ans[33, 27] lr 0.102205 cl_acc 1.000 43.847sec(train) 3.813sec(infer)\n"
     ]
    },
    {
     "name": "stdout",
     "output_type": "stream",
     "text": [
      "Epoch 89 tst: l 1.096 a 0.755  clct[20, 20] ans[20, 20] cl_acc 1.000 2.439sec\n"
     ]
    },
    {
     "name": "stdout",
     "output_type": "stream",
     "text": [
      "Epoch 90 tr: l 0.984 a 0.781  clct[29, 31] ans[29, 31] lr 0.101183 cl_acc 1.000 43.727sec(train) 3.813sec(infer)\n"
     ]
    },
    {
     "name": "stdout",
     "output_type": "stream",
     "text": [
      "Epoch 90 tst: l 1.040 a 0.770  clct[20, 20] ans[20, 20] cl_acc 1.000 2.370sec\n",
      "result written at output/results.pickle\n"
     ]
    },
    {
     "name": "stdout",
     "output_type": "stream",
     "text": [
      "Epoch 91 tr: l 1.022 a 0.765  clct[27, 33] ans[27, 33] lr 0.100171 cl_acc 1.000 43.967sec(train) 3.812sec(infer)\n"
     ]
    },
    {
     "name": "stdout",
     "output_type": "stream",
     "text": [
      "Epoch 91 tst: l 1.039 a 0.768  clct[20, 20] ans[20, 20] cl_acc 1.000 2.301sec\n"
     ]
    },
    {
     "name": "stdout",
     "output_type": "stream",
     "text": [
      "Epoch 92 tr: l 0.999 a 0.778  clct[30, 30] ans[30, 30] lr 0.099169 cl_acc 1.000 43.969sec(train) 3.932sec(infer)\n"
     ]
    },
    {
     "name": "stdout",
     "output_type": "stream",
     "text": [
      "Epoch 92 tst: l 1.051 a 0.772  clct[20, 20] ans[20, 20] cl_acc 1.000 2.380sec\n"
     ]
    },
    {
     "name": "stdout",
     "output_type": "stream",
     "text": [
      "Epoch 93 tr: l 0.994 a 0.775  clct[35, 25] ans[35, 25] lr 0.098178 cl_acc 1.000 43.713sec(train) 3.747sec(infer)\n"
     ]
    },
    {
     "name": "stdout",
     "output_type": "stream",
     "text": [
      "Epoch 93 tst: l 1.012 a 0.774  clct[20, 20] ans[20, 20] cl_acc 1.000 2.460sec\n"
     ]
    },
    {
     "name": "stdout",
     "output_type": "stream",
     "text": [
      "Epoch 94 tr: l 0.985 a 0.772  clct[29, 31] ans[29, 31] lr 0.097196 cl_acc 1.000 44.028sec(train) 3.853sec(infer)\n"
     ]
    },
    {
     "name": "stdout",
     "output_type": "stream",
     "text": [
      "Epoch 94 tst: l 1.012 a 0.770  clct[20, 20] ans[20, 20] cl_acc 1.000 2.456sec\n"
     ]
    },
    {
     "name": "stdout",
     "output_type": "stream",
     "text": [
      "Epoch 95 tr: l 1.014 a 0.772  clct[23, 37] ans[23, 37] lr 0.096224 cl_acc 1.000 43.851sec(train) 3.828sec(infer)\n"
     ]
    },
    {
     "name": "stdout",
     "output_type": "stream",
     "text": [
      "Epoch 95 tst: l 1.046 a 0.771  clct[20, 20] ans[20, 20] cl_acc 1.000 2.389sec\n"
     ]
    },
    {
     "name": "stdout",
     "output_type": "stream",
     "text": [
      "Epoch 96 tr: l 0.981 a 0.776  clct[29, 31] ans[29, 31] lr 0.095262 cl_acc 1.000 43.960sec(train) 3.643sec(infer)\n"
     ]
    },
    {
     "name": "stdout",
     "output_type": "stream",
     "text": [
      "Epoch 96 tst: l 1.023 a 0.770  clct[20, 20] ans[20, 20] cl_acc 1.000 2.457sec\n"
     ]
    },
    {
     "name": "stdout",
     "output_type": "stream",
     "text": [
      "Epoch 97 tr: l 1.000 a 0.775  clct[28, 32] ans[28, 32] lr 0.094309 cl_acc 1.000 43.904sec(train) 3.933sec(infer)\n"
     ]
    },
    {
     "name": "stdout",
     "output_type": "stream",
     "text": [
      "Epoch 97 tst: l 1.005 a 0.778  clct[20, 20] ans[20, 20] cl_acc 1.000 2.418sec\n"
     ]
    },
    {
     "name": "stdout",
     "output_type": "stream",
     "text": [
      "Epoch 98 tr: l 1.001 a 0.771  clct[31, 29] ans[31, 29] lr 0.093366 cl_acc 1.000 43.857sec(train) 3.679sec(infer)\n"
     ]
    },
    {
     "name": "stdout",
     "output_type": "stream",
     "text": [
      "Epoch 98 tst: l 1.023 a 0.770  clct[20, 20] ans[20, 20] cl_acc 1.000 2.385sec\n"
     ]
    },
    {
     "name": "stdout",
     "output_type": "stream",
     "text": [
      "Epoch 99 tr: l 0.996 a 0.769  clct[30, 30] ans[30, 30] lr 0.092432 cl_acc 1.000 43.664sec(train) 3.909sec(infer)\n"
     ]
    },
    {
     "name": "stdout",
     "output_type": "stream",
     "text": [
      "Epoch 99 tst: l 1.018 a 0.777  clct[20, 20] ans[20, 20] cl_acc 1.000 2.461sec\n"
     ]
    },
    {
     "name": "stdout",
     "output_type": "stream",
     "text": [
      "Epoch 100 tr: l 0.985 a 0.775  clct[35, 25] ans[35, 25] lr 0.091508 cl_acc 1.000 43.732sec(train) 3.859sec(infer)\n"
     ]
    },
    {
     "name": "stdout",
     "output_type": "stream",
     "text": [
      "Epoch 100 tst: l 1.009 a 0.772  clct[20, 20] ans[20, 20] cl_acc 1.000 2.413sec\n",
      "result written at output/results.pickle\n"
     ]
    },
    {
     "name": "stdout",
     "output_type": "stream",
     "text": [
      "Epoch 101 tr: l 0.998 a 0.773  clct[33, 27] ans[33, 27] lr 0.090593 cl_acc 1.000 43.650sec(train) 3.996sec(infer)\n"
     ]
    },
    {
     "name": "stdout",
     "output_type": "stream",
     "text": [
      "Epoch 101 tst: l 1.003 a 0.777  clct[20, 20] ans[20, 20] cl_acc 1.000 2.508sec\n"
     ]
    },
    {
     "name": "stdout",
     "output_type": "stream",
     "text": [
      "Epoch 102 tr: l 1.017 a 0.767  clct[35, 25] ans[35, 25] lr 0.089687 cl_acc 1.000 43.848sec(train) 3.972sec(infer)\n"
     ]
    },
    {
     "name": "stdout",
     "output_type": "stream",
     "text": [
      "Epoch 102 tst: l 1.024 a 0.767  clct[20, 20] ans[20, 20] cl_acc 1.000 2.454sec\n"
     ]
    },
    {
     "name": "stdout",
     "output_type": "stream",
     "text": [
      "Epoch 103 tr: l 1.033 a 0.768  clct[26, 34] ans[26, 34] lr 0.088790 cl_acc 1.000 43.863sec(train) 3.963sec(infer)\n"
     ]
    },
    {
     "name": "stdout",
     "output_type": "stream",
     "text": [
      "Epoch 103 tst: l 1.066 a 0.766  clct[20, 20] ans[20, 20] cl_acc 1.000 2.502sec\n"
     ]
    },
    {
     "name": "stdout",
     "output_type": "stream",
     "text": [
      "Epoch 104 tr: l 0.940 a 0.780  clct[32, 28] ans[32, 28] lr 0.087902 cl_acc 1.000 43.962sec(train) 4.004sec(infer)\n"
     ]
    },
    {
     "name": "stdout",
     "output_type": "stream",
     "text": [
      "Epoch 104 tst: l 0.991 a 0.777  clct[20, 20] ans[20, 20] cl_acc 1.000 2.483sec\n"
     ]
    },
    {
     "name": "stdout",
     "output_type": "stream",
     "text": [
      "Epoch 105 tr: l 0.960 a 0.779  clct[31, 29] ans[31, 29] lr 0.087023 cl_acc 1.000 43.832sec(train) 4.057sec(infer)\n"
     ]
    },
    {
     "name": "stdout",
     "output_type": "stream",
     "text": [
      "Epoch 105 tst: l 0.983 a 0.775  clct[20, 20] ans[20, 20] cl_acc 1.000 2.452sec\n"
     ]
    },
    {
     "name": "stdout",
     "output_type": "stream",
     "text": [
      "Epoch 106 tr: l 1.056 a 0.756  clct[37, 23] ans[37, 23] lr 0.086153 cl_acc 1.000 43.858sec(train) 3.936sec(infer)\n"
     ]
    },
    {
     "name": "stdout",
     "output_type": "stream",
     "text": [
      "Epoch 106 tst: l 1.051 a 0.762  clct[20, 20] ans[20, 20] cl_acc 1.000 2.454sec\n"
     ]
    },
    {
     "name": "stdout",
     "output_type": "stream",
     "text": [
      "Epoch 107 tr: l 0.974 a 0.777  clct[28, 32] ans[28, 32] lr 0.085292 cl_acc 1.000 43.751sec(train) 4.031sec(infer)\n"
     ]
    },
    {
     "name": "stdout",
     "output_type": "stream",
     "text": [
      "Epoch 107 tst: l 1.003 a 0.775  clct[20, 20] ans[20, 20] cl_acc 1.000 2.505sec\n"
     ]
    },
    {
     "name": "stdout",
     "output_type": "stream",
     "text": [
      "Epoch 108 tr: l 0.958 a 0.777  clct[32, 28] ans[32, 28] lr 0.084439 cl_acc 1.000 44.084sec(train) 3.913sec(infer)\n"
     ]
    },
    {
     "name": "stdout",
     "output_type": "stream",
     "text": [
      "Epoch 108 tst: l 0.993 a 0.774  clct[20, 20] ans[20, 20] cl_acc 1.000 2.452sec\n"
     ]
    },
    {
     "name": "stdout",
     "output_type": "stream",
     "text": [
      "Epoch 109 tr: l 0.910 a 0.795  clct[32, 28] ans[32, 28] lr 0.083594 cl_acc 1.000 43.932sec(train) 3.966sec(infer)\n"
     ]
    },
    {
     "name": "stdout",
     "output_type": "stream",
     "text": [
      "Epoch 109 tst: l 0.981 a 0.780  clct[20, 20] ans[20, 20] cl_acc 1.000 2.457sec\n"
     ]
    },
    {
     "name": "stdout",
     "output_type": "stream",
     "text": [
      "Epoch 110 tr: l 0.959 a 0.777  clct[33, 27] ans[33, 27] lr 0.082758 cl_acc 1.000 44.081sec(train) 3.948sec(infer)\n"
     ]
    },
    {
     "name": "stdout",
     "output_type": "stream",
     "text": [
      "Epoch 110 tst: l 0.979 a 0.779  clct[20, 20] ans[20, 20] cl_acc 1.000 2.437sec\n",
      "result written at output/results.pickle\n"
     ]
    },
    {
     "name": "stdout",
     "output_type": "stream",
     "text": [
      "Epoch 111 tr: l 0.913 a 0.790  clct[27, 33] ans[27, 33] lr 0.081931 cl_acc 1.000 43.884sec(train) 3.998sec(infer)\n"
     ]
    },
    {
     "name": "stdout",
     "output_type": "stream",
     "text": [
      "Epoch 111 tst: l 0.957 a 0.780  clct[20, 20] ans[20, 20] cl_acc 1.000 2.468sec\n"
     ]
    },
    {
     "name": "stdout",
     "output_type": "stream",
     "text": [
      "Epoch 112 tr: l 0.921 a 0.793  clct[38, 22] ans[38, 22] lr 0.081111 cl_acc 1.000 43.987sec(train) 3.918sec(infer)\n"
     ]
    },
    {
     "name": "stdout",
     "output_type": "stream",
     "text": [
      "Epoch 112 tst: l 0.985 a 0.786  clct[20, 20] ans[20, 20] cl_acc 1.000 2.418sec\n"
     ]
    },
    {
     "name": "stdout",
     "output_type": "stream",
     "text": [
      "Epoch 113 tr: l 1.001 a 0.767  clct[28, 32] ans[28, 32] lr 0.080300 cl_acc 1.000 43.850sec(train) 3.870sec(infer)\n"
     ]
    },
    {
     "name": "stdout",
     "output_type": "stream",
     "text": [
      "Epoch 113 tst: l 1.009 a 0.775  clct[20, 20] ans[20, 20] cl_acc 1.000 2.445sec\n"
     ]
    },
    {
     "name": "stdout",
     "output_type": "stream",
     "text": [
      "Epoch 114 tr: l 0.946 a 0.783  clct[32, 28] ans[32, 28] lr 0.079497 cl_acc 1.000 44.011sec(train) 4.079sec(infer)\n"
     ]
    },
    {
     "name": "stdout",
     "output_type": "stream",
     "text": [
      "Epoch 114 tst: l 0.963 a 0.782  clct[20, 20] ans[20, 20] cl_acc 1.000 2.443sec\n"
     ]
    },
    {
     "name": "stdout",
     "output_type": "stream",
     "text": [
      "Epoch 115 tr: l 0.911 a 0.792  clct[30, 30] ans[30, 30] lr 0.078702 cl_acc 1.000 43.795sec(train) 3.909sec(infer)\n"
     ]
    },
    {
     "name": "stdout",
     "output_type": "stream",
     "text": [
      "Epoch 115 tst: l 0.947 a 0.786  clct[20, 20] ans[20, 20] cl_acc 1.000 2.370sec\n"
     ]
    },
    {
     "name": "stdout",
     "output_type": "stream",
     "text": [
      "Epoch 116 tr: l 0.941 a 0.781  clct[33, 27] ans[33, 27] lr 0.077915 cl_acc 1.000 44.029sec(train) 3.956sec(infer)\n"
     ]
    },
    {
     "name": "stdout",
     "output_type": "stream",
     "text": [
      "Epoch 116 tst: l 0.974 a 0.778  clct[20, 20] ans[20, 20] cl_acc 1.000 2.474sec\n"
     ]
    },
    {
     "name": "stdout",
     "output_type": "stream",
     "text": [
      "Epoch 117 tr: l 0.948 a 0.781  clct[33, 27] ans[33, 27] lr 0.077136 cl_acc 1.000 44.048sec(train) 4.057sec(infer)\n"
     ]
    },
    {
     "name": "stdout",
     "output_type": "stream",
     "text": [
      "Epoch 117 tst: l 0.982 a 0.778  clct[20, 20] ans[20, 20] cl_acc 1.000 2.473sec\n"
     ]
    },
    {
     "name": "stdout",
     "output_type": "stream",
     "text": [
      "Epoch 118 tr: l 0.927 a 0.786  clct[29, 31] ans[29, 31] lr 0.076365 cl_acc 1.000 44.012sec(train) 3.986sec(infer)\n"
     ]
    },
    {
     "name": "stdout",
     "output_type": "stream",
     "text": [
      "Epoch 118 tst: l 0.951 a 0.783  clct[20, 20] ans[20, 20] cl_acc 1.000 2.521sec\n"
     ]
    },
    {
     "name": "stdout",
     "output_type": "stream",
     "text": [
      "Epoch 119 tr: l 0.931 a 0.786  clct[33, 27] ans[33, 27] lr 0.075601 cl_acc 1.000 43.861sec(train) 3.930sec(infer)\n"
     ]
    },
    {
     "name": "stdout",
     "output_type": "stream",
     "text": [
      "Epoch 119 tst: l 0.962 a 0.789  clct[20, 20] ans[20, 20] cl_acc 1.000 2.567sec\n"
     ]
    },
    {
     "name": "stdout",
     "output_type": "stream",
     "text": [
      "Epoch 120 tr: l 0.924 a 0.789  clct[27, 33] ans[27, 33] lr 0.074845 cl_acc 1.000 43.988sec(train) 3.909sec(infer)\n"
     ]
    },
    {
     "name": "stdout",
     "output_type": "stream",
     "text": [
      "Epoch 120 tst: l 0.957 a 0.785  clct[20, 20] ans[20, 20] cl_acc 1.000 2.518sec\n",
      "result written at output/results.pickle\n"
     ]
    },
    {
     "name": "stdout",
     "output_type": "stream",
     "text": [
      "Epoch 121 tr: l 0.897 a 0.791  clct[35, 25] ans[35, 25] lr 0.074097 cl_acc 1.000 43.927sec(train) 3.947sec(infer)\n"
     ]
    },
    {
     "name": "stdout",
     "output_type": "stream",
     "text": [
      "Epoch 121 tst: l 0.949 a 0.785  clct[20, 20] ans[20, 20] cl_acc 1.000 2.555sec\n"
     ]
    },
    {
     "name": "stdout",
     "output_type": "stream",
     "text": [
      "Epoch 122 tr: l 0.910 a 0.790  clct[24, 36] ans[24, 36] lr 0.073356 cl_acc 1.000 43.904sec(train) 3.949sec(infer)\n"
     ]
    },
    {
     "name": "stdout",
     "output_type": "stream",
     "text": [
      "Epoch 122 tst: l 0.958 a 0.785  clct[20, 20] ans[20, 20] cl_acc 1.000 2.514sec\n"
     ]
    },
    {
     "name": "stdout",
     "output_type": "stream",
     "text": [
      "Epoch 123 tr: l 0.894 a 0.793  clct[28, 32] ans[28, 32] lr 0.072622 cl_acc 1.000 44.206sec(train) 3.938sec(infer)\n"
     ]
    },
    {
     "name": "stdout",
     "output_type": "stream",
     "text": [
      "Epoch 123 tst: l 0.940 a 0.785  clct[20, 20] ans[20, 20] cl_acc 1.000 2.438sec\n"
     ]
    },
    {
     "name": "stdout",
     "output_type": "stream",
     "text": [
      "Epoch 124 tr: l 0.899 a 0.791  clct[32, 28] ans[32, 28] lr 0.071896 cl_acc 1.000 43.988sec(train) 4.049sec(infer)\n"
     ]
    },
    {
     "name": "stdout",
     "output_type": "stream",
     "text": [
      "Epoch 124 tst: l 0.924 a 0.790  clct[20, 20] ans[20, 20] cl_acc 1.000 2.570sec\n"
     ]
    },
    {
     "name": "stdout",
     "output_type": "stream",
     "text": [
      "Epoch 125 tr: l 0.880 a 0.798  clct[25, 35] ans[25, 35] lr 0.071177 cl_acc 1.000 44.018sec(train) 3.933sec(infer)\n"
     ]
    },
    {
     "name": "stdout",
     "output_type": "stream",
     "text": [
      "Epoch 125 tst: l 0.963 a 0.779  clct[20, 20] ans[20, 20] cl_acc 1.000 2.615sec\n"
     ]
    },
    {
     "name": "stdout",
     "output_type": "stream",
     "text": [
      "Epoch 126 tr: l 0.900 a 0.791  clct[31, 29] ans[31, 29] lr 0.070465 cl_acc 1.000 44.098sec(train) 3.913sec(infer)\n"
     ]
    },
    {
     "name": "stdout",
     "output_type": "stream",
     "text": [
      "Epoch 126 tst: l 0.933 a 0.787  clct[20, 20] ans[20, 20] cl_acc 1.000 2.433sec\n"
     ]
    },
    {
     "name": "stdout",
     "output_type": "stream",
     "text": [
      "Epoch 127 tr: l 0.934 a 0.782  clct[26, 34] ans[26, 34] lr 0.069761 cl_acc 1.000 43.765sec(train) 4.041sec(infer)\n"
     ]
    },
    {
     "name": "stdout",
     "output_type": "stream",
     "text": [
      "Epoch 127 tst: l 0.973 a 0.779  clct[20, 20] ans[20, 20] cl_acc 1.000 2.524sec\n"
     ]
    },
    {
     "name": "stdout",
     "output_type": "stream",
     "text": [
      "Epoch 128 tr: l 0.891 a 0.791  clct[31, 29] ans[31, 29] lr 0.069063 cl_acc 1.000 43.776sec(train) 4.062sec(infer)\n"
     ]
    },
    {
     "name": "stdout",
     "output_type": "stream",
     "text": [
      "Epoch 128 tst: l 0.930 a 0.785  clct[20, 20] ans[20, 20] cl_acc 1.000 2.416sec\n"
     ]
    },
    {
     "name": "stdout",
     "output_type": "stream",
     "text": [
      "Epoch 129 tr: l 0.895 a 0.788  clct[30, 30] ans[30, 30] lr 0.068372 cl_acc 1.000 43.792sec(train) 3.943sec(infer)\n"
     ]
    },
    {
     "name": "stdout",
     "output_type": "stream",
     "text": [
      "Epoch 129 tst: l 0.917 a 0.788  clct[20, 20] ans[20, 20] cl_acc 1.000 2.410sec\n"
     ]
    },
    {
     "name": "stdout",
     "output_type": "stream",
     "text": [
      "Epoch 130 tr: l 0.868 a 0.796  clct[32, 28] ans[32, 28] lr 0.067689 cl_acc 1.000 43.837sec(train) 3.831sec(infer)\n"
     ]
    },
    {
     "name": "stdout",
     "output_type": "stream",
     "text": [
      "Epoch 130 tst: l 0.926 a 0.786  clct[20, 20] ans[20, 20] cl_acc 1.000 2.364sec\n",
      "result written at output/results.pickle\n"
     ]
    },
    {
     "name": "stdout",
     "output_type": "stream",
     "text": [
      "Epoch 131 tr: l 0.867 a 0.798  clct[24, 36] ans[24, 36] lr 0.067012 cl_acc 1.000 43.934sec(train) 3.901sec(infer)\n"
     ]
    },
    {
     "name": "stdout",
     "output_type": "stream",
     "text": [
      "Epoch 131 tst: l 0.906 a 0.794  clct[20, 20] ans[20, 20] cl_acc 1.000 2.402sec\n"
     ]
    },
    {
     "name": "stdout",
     "output_type": "stream",
     "text": [
      "Epoch 132 tr: l 0.845 a 0.806  clct[35, 25] ans[35, 25] lr 0.066342 cl_acc 1.000 43.974sec(train) 3.912sec(infer)\n"
     ]
    },
    {
     "name": "stdout",
     "output_type": "stream",
     "text": [
      "Epoch 132 tst: l 0.920 a 0.792  clct[20, 20] ans[20, 20] cl_acc 1.000 2.358sec\n"
     ]
    },
    {
     "name": "stdout",
     "output_type": "stream",
     "text": [
      "Epoch 133 tr: l 0.893 a 0.790  clct[31, 29] ans[31, 29] lr 0.065678 cl_acc 1.000 43.847sec(train) 3.965sec(infer)\n"
     ]
    },
    {
     "name": "stdout",
     "output_type": "stream",
     "text": [
      "Epoch 133 tst: l 0.929 a 0.788  clct[20, 20] ans[20, 20] cl_acc 1.000 2.521sec\n"
     ]
    },
    {
     "name": "stdout",
     "output_type": "stream",
     "text": [
      "Epoch 134 tr: l 0.893 a 0.789  clct[34, 26] ans[34, 26] lr 0.065021 cl_acc 1.000 44.019sec(train) 3.861sec(infer)\n"
     ]
    },
    {
     "name": "stdout",
     "output_type": "stream",
     "text": [
      "Epoch 134 tst: l 0.945 a 0.784  clct[20, 20] ans[20, 20] cl_acc 1.000 2.474sec\n"
     ]
    },
    {
     "name": "stdout",
     "output_type": "stream",
     "text": [
      "Epoch 135 tr: l 0.871 a 0.797  clct[30, 30] ans[30, 30] lr 0.064371 cl_acc 1.000 44.015sec(train) 3.944sec(infer)\n"
     ]
    },
    {
     "name": "stdout",
     "output_type": "stream",
     "text": [
      "Epoch 135 tst: l 0.927 a 0.789  clct[20, 20] ans[20, 20] cl_acc 1.000 2.521sec\n"
     ]
    },
    {
     "name": "stdout",
     "output_type": "stream",
     "text": [
      "Epoch 136 tr: l 0.827 a 0.809  clct[26, 34] ans[26, 34] lr 0.063727 cl_acc 1.000 43.685sec(train) 4.074sec(infer)\n"
     ]
    },
    {
     "name": "stdout",
     "output_type": "stream",
     "text": [
      "Epoch 136 tst: l 0.909 a 0.792  clct[20, 20] ans[20, 20] cl_acc 1.000 2.439sec\n"
     ]
    },
    {
     "name": "stdout",
     "output_type": "stream",
     "text": [
      "Epoch 137 tr: l 0.857 a 0.797  clct[32, 28] ans[32, 28] lr 0.063090 cl_acc 1.000 43.864sec(train) 3.791sec(infer)\n"
     ]
    },
    {
     "name": "stdout",
     "output_type": "stream",
     "text": [
      "Epoch 137 tst: l 0.905 a 0.789  clct[20, 20] ans[20, 20] cl_acc 1.000 2.548sec\n"
     ]
    },
    {
     "name": "stdout",
     "output_type": "stream",
     "text": [
      "Epoch 138 tr: l 0.863 a 0.795  clct[27, 33] ans[27, 33] lr 0.062459 cl_acc 1.000 43.835sec(train) 3.986sec(infer)\n"
     ]
    },
    {
     "name": "stdout",
     "output_type": "stream",
     "text": [
      "Epoch 138 tst: l 0.896 a 0.790  clct[20, 20] ans[20, 20] cl_acc 1.000 2.402sec\n"
     ]
    },
    {
     "name": "stdout",
     "output_type": "stream",
     "text": [
      "Epoch 139 tr: l 0.871 a 0.796  clct[27, 33] ans[27, 33] lr 0.061835 cl_acc 1.000 43.901sec(train) 3.900sec(infer)\n"
     ]
    },
    {
     "name": "stdout",
     "output_type": "stream",
     "text": [
      "Epoch 139 tst: l 0.912 a 0.790  clct[20, 20] ans[20, 20] cl_acc 1.000 2.526sec\n"
     ]
    },
    {
     "name": "stdout",
     "output_type": "stream",
     "text": [
      "Epoch 140 tr: l 0.832 a 0.804  clct[33, 27] ans[33, 27] lr 0.061216 cl_acc 1.000 43.782sec(train) 4.017sec(infer)\n"
     ]
    },
    {
     "name": "stdout",
     "output_type": "stream",
     "text": [
      "Epoch 140 tst: l 0.899 a 0.794  clct[20, 20] ans[20, 20] cl_acc 1.000 2.430sec\n",
      "result written at output/results.pickle\n"
     ]
    },
    {
     "name": "stdout",
     "output_type": "stream",
     "text": [
      "Epoch 141 tr: l 0.881 a 0.790  clct[23, 37] ans[23, 37] lr 0.060604 cl_acc 1.000 43.704sec(train) 3.939sec(infer)\n"
     ]
    },
    {
     "name": "stdout",
     "output_type": "stream",
     "text": [
      "Epoch 141 tst: l 0.911 a 0.789  clct[20, 20] ans[20, 20] cl_acc 1.000 2.394sec\n"
     ]
    },
    {
     "name": "stdout",
     "output_type": "stream",
     "text": [
      "Epoch 142 tr: l 0.837 a 0.804  clct[29, 31] ans[29, 31] lr 0.059998 cl_acc 1.000 43.906sec(train) 3.901sec(infer)\n"
     ]
    },
    {
     "name": "stdout",
     "output_type": "stream",
     "text": [
      "Epoch 142 tst: l 0.883 a 0.795  clct[20, 20] ans[20, 20] cl_acc 1.000 2.394sec\n"
     ]
    },
    {
     "name": "stdout",
     "output_type": "stream",
     "text": [
      "Epoch 143 tr: l 0.838 a 0.798  clct[25, 35] ans[25, 35] lr 0.059398 cl_acc 1.000 43.765sec(train) 3.847sec(infer)\n"
     ]
    },
    {
     "name": "stdout",
     "output_type": "stream",
     "text": [
      "Epoch 143 tst: l 0.876 a 0.789  clct[20, 20] ans[20, 20] cl_acc 1.000 2.562sec\n"
     ]
    },
    {
     "name": "stdout",
     "output_type": "stream",
     "text": [
      "Epoch 144 tr: l 0.862 a 0.797  clct[35, 25] ans[35, 25] lr 0.058804 cl_acc 1.000 43.890sec(train) 3.945sec(infer)\n"
     ]
    },
    {
     "name": "stdout",
     "output_type": "stream",
     "text": [
      "Epoch 144 tst: l 0.888 a 0.791  clct[20, 20] ans[20, 20] cl_acc 1.000 2.501sec\n"
     ]
    },
    {
     "name": "stdout",
     "output_type": "stream",
     "text": [
      "Epoch 145 tr: l 0.817 a 0.806  clct[30, 30] ans[30, 30] lr 0.058216 cl_acc 1.000 43.798sec(train) 3.916sec(infer)\n"
     ]
    },
    {
     "name": "stdout",
     "output_type": "stream",
     "text": [
      "Epoch 145 tst: l 0.885 a 0.794  clct[20, 20] ans[20, 20] cl_acc 1.000 2.438sec\n"
     ]
    },
    {
     "name": "stdout",
     "output_type": "stream",
     "text": [
      "Epoch 146 tr: l 0.815 a 0.805  clct[26, 34] ans[26, 34] lr 0.057634 cl_acc 1.000 43.832sec(train) 4.008sec(infer)\n"
     ]
    },
    {
     "name": "stdout",
     "output_type": "stream",
     "text": [
      "Epoch 146 tst: l 0.874 a 0.795  clct[20, 20] ans[20, 20] cl_acc 1.000 2.453sec\n"
     ]
    },
    {
     "name": "stdout",
     "output_type": "stream",
     "text": [
      "Epoch 147 tr: l 0.827 a 0.810  clct[28, 32] ans[28, 32] lr 0.057058 cl_acc 1.000 43.750sec(train) 3.975sec(infer)\n"
     ]
    },
    {
     "name": "stdout",
     "output_type": "stream",
     "text": [
      "Epoch 147 tst: l 0.909 a 0.792  clct[20, 20] ans[20, 20] cl_acc 1.000 2.437sec\n"
     ]
    },
    {
     "name": "stdout",
     "output_type": "stream",
     "text": [
      "Epoch 148 tr: l 0.812 a 0.810  clct[35, 25] ans[35, 25] lr 0.056487 cl_acc 1.000 43.606sec(train) 3.744sec(infer)\n"
     ]
    },
    {
     "name": "stdout",
     "output_type": "stream",
     "text": [
      "Epoch 148 tst: l 0.899 a 0.793  clct[20, 20] ans[20, 20] cl_acc 1.000 2.432sec\n"
     ]
    },
    {
     "name": "stdout",
     "output_type": "stream",
     "text": [
      "Epoch 149 tr: l 0.851 a 0.801  clct[28, 32] ans[28, 32] lr 0.055922 cl_acc 1.000 43.782sec(train) 3.903sec(infer)\n"
     ]
    },
    {
     "name": "stdout",
     "output_type": "stream",
     "text": [
      "Epoch 149 tst: l 0.894 a 0.796  clct[20, 20] ans[20, 20] cl_acc 1.000 2.369sec\n"
     ]
    },
    {
     "name": "stdout",
     "output_type": "stream",
     "text": [
      "Epoch 150 tr: l 0.818 a 0.807  clct[26, 34] ans[26, 34] lr 0.055363 cl_acc 1.000 43.680sec(train) 3.930sec(infer)\n"
     ]
    },
    {
     "name": "stdout",
     "output_type": "stream",
     "text": [
      "Epoch 150 tst: l 0.891 a 0.793  clct[20, 20] ans[20, 20] cl_acc 1.000 2.389sec\n",
      "result written at output/results.pickle\n"
     ]
    },
    {
     "name": "stdout",
     "output_type": "stream",
     "text": [
      "Epoch 151 tr: l 0.812 a 0.803  clct[31, 29] ans[31, 29] lr 0.054809 cl_acc 1.000 43.819sec(train) 4.157sec(infer)\n"
     ]
    },
    {
     "name": "stdout",
     "output_type": "stream",
     "text": [
      "Epoch 151 tst: l 0.871 a 0.791  clct[20, 20] ans[20, 20] cl_acc 1.000 2.442sec\n"
     ]
    },
    {
     "name": "stdout",
     "output_type": "stream",
     "text": [
      "Epoch 152 tr: l 0.840 a 0.801  clct[33, 27] ans[33, 27] lr 0.054261 cl_acc 1.000 43.435sec(train) 4.066sec(infer)\n"
     ]
    },
    {
     "name": "stdout",
     "output_type": "stream",
     "text": [
      "Epoch 152 tst: l 0.895 a 0.790  clct[20, 20] ans[20, 20] cl_acc 1.000 2.486sec\n"
     ]
    },
    {
     "name": "stdout",
     "output_type": "stream",
     "text": [
      "Epoch 153 tr: l 0.799 a 0.811  clct[29, 31] ans[29, 31] lr 0.053719 cl_acc 1.000 43.839sec(train) 3.908sec(infer)\n"
     ]
    },
    {
     "name": "stdout",
     "output_type": "stream",
     "text": [
      "Epoch 153 tst: l 0.881 a 0.795  clct[20, 20] ans[20, 20] cl_acc 1.000 2.473sec\n"
     ]
    },
    {
     "name": "stdout",
     "output_type": "stream",
     "text": [
      "Epoch 154 tr: l 0.817 a 0.805  clct[30, 30] ans[30, 30] lr 0.053181 cl_acc 1.000 43.710sec(train) 4.050sec(infer)\n"
     ]
    },
    {
     "name": "stdout",
     "output_type": "stream",
     "text": [
      "Epoch 154 tst: l 0.888 a 0.794  clct[20, 20] ans[20, 20] cl_acc 1.000 2.578sec\n"
     ]
    },
    {
     "name": "stdout",
     "output_type": "stream",
     "text": [
      "Epoch 155 tr: l 0.791 a 0.812  clct[31, 29] ans[31, 29] lr 0.052650 cl_acc 1.000 43.982sec(train) 3.984sec(infer)\n"
     ]
    },
    {
     "name": "stdout",
     "output_type": "stream",
     "text": [
      "Epoch 155 tst: l 0.870 a 0.797  clct[20, 20] ans[20, 20] cl_acc 1.000 2.405sec\n"
     ]
    },
    {
     "name": "stdout",
     "output_type": "stream",
     "text": [
      "Epoch 156 tr: l 0.810 a 0.808  clct[32, 28] ans[32, 28] lr 0.052123 cl_acc 1.000 43.940sec(train) 3.982sec(infer)\n"
     ]
    },
    {
     "name": "stdout",
     "output_type": "stream",
     "text": [
      "Epoch 156 tst: l 0.863 a 0.799  clct[20, 20] ans[20, 20] cl_acc 1.000 2.375sec\n"
     ]
    },
    {
     "name": "stdout",
     "output_type": "stream",
     "text": [
      "Epoch 157 tr: l 0.794 a 0.811  clct[35, 25] ans[35, 25] lr 0.051602 cl_acc 1.000 43.849sec(train) 3.898sec(infer)\n"
     ]
    },
    {
     "name": "stdout",
     "output_type": "stream",
     "text": [
      "Epoch 157 tst: l 0.874 a 0.795  clct[20, 20] ans[20, 20] cl_acc 1.000 2.466sec\n"
     ]
    },
    {
     "name": "stdout",
     "output_type": "stream",
     "text": [
      "Epoch 158 tr: l 0.825 a 0.800  clct[31, 29] ans[31, 29] lr 0.051086 cl_acc 1.000 43.720sec(train) 3.903sec(infer)\n"
     ]
    },
    {
     "name": "stdout",
     "output_type": "stream",
     "text": [
      "Epoch 158 tst: l 0.887 a 0.792  clct[20, 20] ans[20, 20] cl_acc 1.000 2.483sec\n"
     ]
    },
    {
     "name": "stdout",
     "output_type": "stream",
     "text": [
      "Epoch 159 tr: l 0.805 a 0.809  clct[25, 35] ans[25, 35] lr 0.050575 cl_acc 1.000 43.975sec(train) 3.952sec(infer)\n"
     ]
    },
    {
     "name": "stdout",
     "output_type": "stream",
     "text": [
      "Epoch 159 tst: l 0.875 a 0.799  clct[20, 20] ans[20, 20] cl_acc 1.000 2.467sec\n"
     ]
    },
    {
     "name": "stdout",
     "output_type": "stream",
     "text": [
      "Epoch 160 tr: l 0.835 a 0.797  clct[33, 27] ans[33, 27] lr 0.050069 cl_acc 1.000 43.769sec(train) 3.896sec(infer)\n"
     ]
    },
    {
     "name": "stdout",
     "output_type": "stream",
     "text": [
      "Epoch 160 tst: l 0.889 a 0.788  clct[20, 20] ans[20, 20] cl_acc 1.000 2.567sec\n",
      "result written at output/results.pickle\n"
     ]
    },
    {
     "name": "stdout",
     "output_type": "stream",
     "text": [
      "Epoch 161 tr: l 0.788 a 0.813  clct[27, 33] ans[27, 33] lr 0.049569 cl_acc 1.000 43.919sec(train) 3.956sec(infer)\n"
     ]
    },
    {
     "name": "stdout",
     "output_type": "stream",
     "text": [
      "Epoch 161 tst: l 0.846 a 0.801  clct[20, 20] ans[20, 20] cl_acc 1.000 2.481sec\n"
     ]
    },
    {
     "name": "stdout",
     "output_type": "stream",
     "text": [
      "Epoch 162 tr: l 0.798 a 0.810  clct[29, 31] ans[29, 31] lr 0.049073 cl_acc 1.000 44.099sec(train) 3.792sec(infer)\n"
     ]
    },
    {
     "name": "stdout",
     "output_type": "stream",
     "text": [
      "Epoch 162 tst: l 0.850 a 0.806  clct[20, 20] ans[20, 20] cl_acc 1.000 2.408sec\n"
     ]
    },
    {
     "name": "stdout",
     "output_type": "stream",
     "text": [
      "Epoch 163 tr: l 0.803 a 0.805  clct[32, 28] ans[32, 28] lr 0.048582 cl_acc 1.000 43.952sec(train) 3.886sec(infer)\n"
     ]
    },
    {
     "name": "stdout",
     "output_type": "stream",
     "text": [
      "Epoch 163 tst: l 0.864 a 0.799  clct[20, 20] ans[20, 20] cl_acc 1.000 2.478sec\n"
     ]
    },
    {
     "name": "stdout",
     "output_type": "stream",
     "text": [
      "Epoch 164 tr: l 0.792 a 0.812  clct[26, 34] ans[26, 34] lr 0.048096 cl_acc 1.000 43.545sec(train) 3.815sec(infer)\n"
     ]
    },
    {
     "name": "stdout",
     "output_type": "stream",
     "text": [
      "Epoch 164 tst: l 0.853 a 0.801  clct[20, 20] ans[20, 20] cl_acc 1.000 2.372sec\n"
     ]
    },
    {
     "name": "stdout",
     "output_type": "stream",
     "text": [
      "Epoch 165 tr: l 0.814 a 0.804  clct[26, 34] ans[26, 34] lr 0.047615 cl_acc 1.000 43.845sec(train) 3.843sec(infer)\n"
     ]
    },
    {
     "name": "stdout",
     "output_type": "stream",
     "text": [
      "Epoch 165 tst: l 0.868 a 0.796  clct[20, 20] ans[20, 20] cl_acc 1.000 2.293sec\n"
     ]
    },
    {
     "name": "stdout",
     "output_type": "stream",
     "text": [
      "Epoch 166 tr: l 0.803 a 0.804  clct[30, 30] ans[30, 30] lr 0.047139 cl_acc 1.000 43.917sec(train) 3.718sec(infer)\n"
     ]
    },
    {
     "name": "stdout",
     "output_type": "stream",
     "text": [
      "Epoch 166 tst: l 0.860 a 0.796  clct[20, 20] ans[20, 20] cl_acc 1.000 2.316sec\n"
     ]
    },
    {
     "name": "stdout",
     "output_type": "stream",
     "text": [
      "Epoch 167 tr: l 0.775 a 0.817  clct[32, 28] ans[32, 28] lr 0.046668 cl_acc 1.000 43.711sec(train) 3.773sec(infer)\n"
     ]
    },
    {
     "name": "stdout",
     "output_type": "stream",
     "text": [
      "Epoch 167 tst: l 0.869 a 0.797  clct[20, 20] ans[20, 20] cl_acc 1.000 2.422sec\n"
     ]
    },
    {
     "name": "stdout",
     "output_type": "stream",
     "text": [
      "Epoch 168 tr: l 0.760 a 0.820  clct[29, 31] ans[29, 31] lr 0.046201 cl_acc 1.000 43.812sec(train) 3.846sec(infer)\n"
     ]
    },
    {
     "name": "stdout",
     "output_type": "stream",
     "text": [
      "Epoch 168 tst: l 0.838 a 0.805  clct[20, 20] ans[20, 20] cl_acc 1.000 2.397sec\n"
     ]
    },
    {
     "name": "stdout",
     "output_type": "stream",
     "text": [
      "Epoch 169 tr: l 0.780 a 0.814  clct[24, 36] ans[24, 36] lr 0.045739 cl_acc 1.000 43.853sec(train) 3.935sec(infer)\n"
     ]
    },
    {
     "name": "stdout",
     "output_type": "stream",
     "text": [
      "Epoch 169 tst: l 0.858 a 0.799  clct[20, 20] ans[20, 20] cl_acc 1.000 2.324sec\n"
     ]
    },
    {
     "name": "stdout",
     "output_type": "stream",
     "text": [
      "Epoch 170 tr: l 0.718 a 0.829  clct[28, 32] ans[28, 32] lr 0.045282 cl_acc 1.000 43.981sec(train) 3.899sec(infer)\n"
     ]
    },
    {
     "name": "stdout",
     "output_type": "stream",
     "text": [
      "Epoch 170 tst: l 0.819 a 0.808  clct[20, 20] ans[20, 20] cl_acc 1.000 2.534sec\n",
      "result written at output/results.pickle\n"
     ]
    },
    {
     "name": "stdout",
     "output_type": "stream",
     "text": [
      "Epoch 171 tr: l 0.760 a 0.817  clct[30, 30] ans[30, 30] lr 0.044829 cl_acc 1.000 43.814sec(train) 3.823sec(infer)\n"
     ]
    },
    {
     "name": "stdout",
     "output_type": "stream",
     "text": [
      "Epoch 171 tst: l 0.854 a 0.798  clct[20, 20] ans[20, 20] cl_acc 1.000 2.475sec\n"
     ]
    },
    {
     "name": "stdout",
     "output_type": "stream",
     "text": [
      "Epoch 172 tr: l 0.756 a 0.815  clct[30, 30] ans[30, 30] lr 0.044381 cl_acc 1.000 43.749sec(train) 3.830sec(infer)\n"
     ]
    },
    {
     "name": "stdout",
     "output_type": "stream",
     "text": [
      "Epoch 172 tst: l 0.842 a 0.795  clct[20, 20] ans[20, 20] cl_acc 1.000 2.405sec\n"
     ]
    },
    {
     "name": "stdout",
     "output_type": "stream",
     "text": [
      "Epoch 173 tr: l 0.746 a 0.824  clct[29, 31] ans[29, 31] lr 0.043937 cl_acc 1.000 43.719sec(train) 3.715sec(infer)\n"
     ]
    },
    {
     "name": "stdout",
     "output_type": "stream",
     "text": [
      "Epoch 173 tst: l 0.842 a 0.802  clct[20, 20] ans[20, 20] cl_acc 1.000 2.325sec\n"
     ]
    },
    {
     "name": "stdout",
     "output_type": "stream",
     "text": [
      "Epoch 174 tr: l 0.763 a 0.816  clct[30, 30] ans[30, 30] lr 0.043497 cl_acc 1.000 43.773sec(train) 3.772sec(infer)\n"
     ]
    },
    {
     "name": "stdout",
     "output_type": "stream",
     "text": [
      "Epoch 174 tst: l 0.830 a 0.804  clct[20, 20] ans[20, 20] cl_acc 1.000 2.312sec\n"
     ]
    },
    {
     "name": "stdout",
     "output_type": "stream",
     "text": [
      "Epoch 175 tr: l 0.721 a 0.829  clct[27, 33] ans[27, 33] lr 0.043062 cl_acc 1.000 43.853sec(train) 3.725sec(infer)\n"
     ]
    },
    {
     "name": "stdout",
     "output_type": "stream",
     "text": [
      "Epoch 175 tst: l 0.828 a 0.804  clct[20, 20] ans[20, 20] cl_acc 1.000 2.316sec\n"
     ]
    },
    {
     "name": "stdout",
     "output_type": "stream",
     "text": [
      "Epoch 176 tr: l 0.714 a 0.831  clct[22, 38] ans[22, 38] lr 0.042632 cl_acc 1.000 43.735sec(train) 3.907sec(infer)\n"
     ]
    },
    {
     "name": "stdout",
     "output_type": "stream",
     "text": [
      "Epoch 176 tst: l 0.810 a 0.810  clct[20, 20] ans[20, 20] cl_acc 1.000 2.277sec\n"
     ]
    },
    {
     "name": "stdout",
     "output_type": "stream",
     "text": [
      "Epoch 177 tr: l 0.738 a 0.824  clct[26, 34] ans[26, 34] lr 0.042206 cl_acc 1.000 43.617sec(train) 3.956sec(infer)\n"
     ]
    },
    {
     "name": "stdout",
     "output_type": "stream",
     "text": [
      "Epoch 177 tst: l 0.822 a 0.808  clct[20, 20] ans[20, 20] cl_acc 1.000 2.377sec\n"
     ]
    },
    {
     "name": "stdout",
     "output_type": "stream",
     "text": [
      "Epoch 178 tr: l 0.741 a 0.821  clct[34, 26] ans[34, 26] lr 0.041783 cl_acc 1.000 43.993sec(train) 3.768sec(infer)\n"
     ]
    },
    {
     "name": "stdout",
     "output_type": "stream",
     "text": [
      "Epoch 178 tst: l 0.829 a 0.805  clct[20, 20] ans[20, 20] cl_acc 1.000 2.367sec\n"
     ]
    },
    {
     "name": "stdout",
     "output_type": "stream",
     "text": [
      "Epoch 179 tr: l 0.735 a 0.827  clct[35, 25] ans[35, 25] lr 0.041366 cl_acc 1.000 43.980sec(train) 3.970sec(infer)\n"
     ]
    },
    {
     "name": "stdout",
     "output_type": "stream",
     "text": [
      "Epoch 179 tst: l 0.822 a 0.811  clct[20, 20] ans[20, 20] cl_acc 1.000 2.375sec\n"
     ]
    },
    {
     "name": "stdout",
     "output_type": "stream",
     "text": [
      "Epoch 180 tr: l 0.729 a 0.825  clct[37, 23] ans[37, 23] lr 0.040952 cl_acc 1.000 43.548sec(train) 3.779sec(infer)\n"
     ]
    },
    {
     "name": "stdout",
     "output_type": "stream",
     "text": [
      "Epoch 180 tst: l 0.807 a 0.807  clct[20, 20] ans[20, 20] cl_acc 1.000 2.449sec\n",
      "result written at output/results.pickle\n"
     ]
    },
    {
     "name": "stdout",
     "output_type": "stream",
     "text": [
      "Epoch 181 tr: l 0.766 a 0.816  clct[33, 27] ans[33, 27] lr 0.040542 cl_acc 1.000 43.855sec(train) 3.877sec(infer)\n"
     ]
    },
    {
     "name": "stdout",
     "output_type": "stream",
     "text": [
      "Epoch 181 tst: l 0.844 a 0.804  clct[20, 20] ans[20, 20] cl_acc 1.000 2.404sec\n"
     ]
    },
    {
     "name": "stdout",
     "output_type": "stream",
     "text": [
      "Epoch 182 tr: l 0.740 a 0.823  clct[34, 26] ans[34, 26] lr 0.040137 cl_acc 1.000 43.999sec(train) 3.990sec(infer)\n"
     ]
    },
    {
     "name": "stdout",
     "output_type": "stream",
     "text": [
      "Epoch 182 tst: l 0.842 a 0.804  clct[20, 20] ans[20, 20] cl_acc 1.000 2.406sec\n"
     ]
    },
    {
     "name": "stdout",
     "output_type": "stream",
     "text": [
      "Epoch 183 tr: l 0.746 a 0.823  clct[28, 32] ans[28, 32] lr 0.039736 cl_acc 1.000 43.869sec(train) 3.700sec(infer)\n"
     ]
    },
    {
     "name": "stdout",
     "output_type": "stream",
     "text": [
      "Epoch 183 tst: l 0.840 a 0.806  clct[20, 20] ans[20, 20] cl_acc 1.000 2.303sec\n"
     ]
    },
    {
     "name": "stdout",
     "output_type": "stream",
     "text": [
      "Epoch 184 tr: l 0.689 a 0.837  clct[31, 29] ans[31, 29] lr 0.039338 cl_acc 1.000 44.020sec(train) 3.731sec(infer)\n"
     ]
    },
    {
     "name": "stdout",
     "output_type": "stream",
     "text": [
      "Epoch 184 tst: l 0.806 a 0.810  clct[20, 20] ans[20, 20] cl_acc 1.000 2.326sec\n"
     ]
    },
    {
     "name": "stdout",
     "output_type": "stream",
     "text": [
      "Epoch 185 tr: l 0.748 a 0.816  clct[27, 33] ans[27, 33] lr 0.038945 cl_acc 1.000 43.686sec(train) 3.860sec(infer)\n"
     ]
    },
    {
     "name": "stdout",
     "output_type": "stream",
     "text": [
      "Epoch 185 tst: l 0.820 a 0.802  clct[20, 20] ans[20, 20] cl_acc 1.000 2.462sec\n"
     ]
    },
    {
     "name": "stdout",
     "output_type": "stream",
     "text": [
      "Epoch 186 tr: l 0.736 a 0.824  clct[27, 33] ans[27, 33] lr 0.038555 cl_acc 1.000 43.752sec(train) 3.852sec(infer)\n"
     ]
    },
    {
     "name": "stdout",
     "output_type": "stream",
     "text": [
      "Epoch 186 tst: l 0.839 a 0.799  clct[20, 20] ans[20, 20] cl_acc 1.000 2.391sec\n"
     ]
    },
    {
     "name": "stdout",
     "output_type": "stream",
     "text": [
      "Epoch 187 tr: l 0.711 a 0.828  clct[32, 28] ans[32, 28] lr 0.038170 cl_acc 1.000 43.871sec(train) 3.903sec(infer)\n"
     ]
    },
    {
     "name": "stdout",
     "output_type": "stream",
     "text": [
      "Epoch 187 tst: l 0.811 a 0.806  clct[20, 20] ans[20, 20] cl_acc 1.000 2.400sec\n"
     ]
    },
    {
     "name": "stdout",
     "output_type": "stream",
     "text": [
      "Epoch 188 tr: l 0.715 a 0.827  clct[25, 35] ans[25, 35] lr 0.037788 cl_acc 1.000 43.853sec(train) 3.749sec(infer)\n"
     ]
    },
    {
     "name": "stdout",
     "output_type": "stream",
     "text": [
      "Epoch 188 tst: l 0.808 a 0.809  clct[20, 20] ans[20, 20] cl_acc 1.000 2.410sec\n"
     ]
    },
    {
     "name": "stdout",
     "output_type": "stream",
     "text": [
      "Epoch 189 tr: l 0.706 a 0.832  clct[26, 34] ans[26, 34] lr 0.037410 cl_acc 1.000 43.817sec(train) 3.752sec(infer)\n"
     ]
    },
    {
     "name": "stdout",
     "output_type": "stream",
     "text": [
      "Epoch 189 tst: l 0.812 a 0.810  clct[20, 20] ans[20, 20] cl_acc 1.000 2.407sec\n"
     ]
    },
    {
     "name": "stdout",
     "output_type": "stream",
     "text": [
      "Epoch 190 tr: l 0.710 a 0.830  clct[33, 27] ans[33, 27] lr 0.037036 cl_acc 1.000 43.814sec(train) 3.977sec(infer)\n"
     ]
    },
    {
     "name": "stdout",
     "output_type": "stream",
     "text": [
      "Epoch 190 tst: l 0.809 a 0.809  clct[20, 20] ans[20, 20] cl_acc 1.000 2.256sec\n",
      "result written at output/results.pickle\n"
     ]
    },
    {
     "name": "stdout",
     "output_type": "stream",
     "text": [
      "Epoch 191 tr: l 0.747 a 0.821  clct[33, 27] ans[33, 27] lr 0.036666 cl_acc 1.000 43.677sec(train) 3.805sec(infer)\n"
     ]
    },
    {
     "name": "stdout",
     "output_type": "stream",
     "text": [
      "Epoch 191 tst: l 0.820 a 0.808  clct[20, 20] ans[20, 20] cl_acc 1.000 2.377sec\n"
     ]
    },
    {
     "name": "stdout",
     "output_type": "stream",
     "text": [
      "Epoch 192 tr: l 0.705 a 0.829  clct[25, 35] ans[25, 35] lr 0.036299 cl_acc 1.000 43.884sec(train) 3.955sec(infer)\n"
     ]
    },
    {
     "name": "stdout",
     "output_type": "stream",
     "text": [
      "Epoch 192 tst: l 0.803 a 0.808  clct[20, 20] ans[20, 20] cl_acc 1.000 2.365sec\n"
     ]
    },
    {
     "name": "stdout",
     "output_type": "stream",
     "text": [
      "Epoch 193 tr: l 0.727 a 0.825  clct[26, 34] ans[26, 34] lr 0.035936 cl_acc 1.000 43.907sec(train) 3.952sec(infer)\n"
     ]
    },
    {
     "name": "stdout",
     "output_type": "stream",
     "text": [
      "Epoch 193 tst: l 0.798 a 0.812  clct[20, 20] ans[20, 20] cl_acc 1.000 2.325sec\n"
     ]
    },
    {
     "name": "stdout",
     "output_type": "stream",
     "text": [
      "Epoch 194 tr: l 0.718 a 0.823  clct[27, 33] ans[27, 33] lr 0.035577 cl_acc 1.000 43.910sec(train) 3.781sec(infer)\n"
     ]
    },
    {
     "name": "stdout",
     "output_type": "stream",
     "text": [
      "Epoch 194 tst: l 0.792 a 0.810  clct[20, 20] ans[20, 20] cl_acc 1.000 2.461sec\n"
     ]
    },
    {
     "name": "stdout",
     "output_type": "stream",
     "text": [
      "Epoch 195 tr: l 0.686 a 0.836  clct[29, 31] ans[29, 31] lr 0.035221 cl_acc 1.000 43.727sec(train) 3.862sec(infer)\n"
     ]
    },
    {
     "name": "stdout",
     "output_type": "stream",
     "text": [
      "Epoch 195 tst: l 0.832 a 0.804  clct[20, 20] ans[20, 20] cl_acc 1.000 2.423sec\n"
     ]
    },
    {
     "name": "stdout",
     "output_type": "stream",
     "text": [
      "Epoch 196 tr: l 0.694 a 0.834  clct[33, 27] ans[33, 27] lr 0.034869 cl_acc 1.000 43.934sec(train) 3.863sec(infer)\n"
     ]
    },
    {
     "name": "stdout",
     "output_type": "stream",
     "text": [
      "Epoch 196 tst: l 0.806 a 0.808  clct[20, 20] ans[20, 20] cl_acc 1.000 2.367sec\n"
     ]
    },
    {
     "name": "stdout",
     "output_type": "stream",
     "text": [
      "Epoch 197 tr: l 0.719 a 0.826  clct[27, 33] ans[27, 33] lr 0.034520 cl_acc 1.000 43.899sec(train) 3.893sec(infer)\n"
     ]
    },
    {
     "name": "stdout",
     "output_type": "stream",
     "text": [
      "Epoch 197 tst: l 0.802 a 0.807  clct[20, 20] ans[20, 20] cl_acc 1.000 2.360sec\n"
     ]
    },
    {
     "name": "stdout",
     "output_type": "stream",
     "text": [
      "Epoch 198 tr: l 0.706 a 0.827  clct[31, 29] ans[31, 29] lr 0.034175 cl_acc 1.000 43.963sec(train) 3.873sec(infer)\n"
     ]
    },
    {
     "name": "stdout",
     "output_type": "stream",
     "text": [
      "Epoch 198 tst: l 0.783 a 0.814  clct[20, 20] ans[20, 20] cl_acc 1.000 2.299sec\n"
     ]
    },
    {
     "name": "stdout",
     "output_type": "stream",
     "text": [
      "Epoch 199 tr: l 0.705 a 0.829  clct[32, 28] ans[32, 28] lr 0.033833 cl_acc 1.000 43.935sec(train) 3.771sec(infer)\n"
     ]
    },
    {
     "name": "stdout",
     "output_type": "stream",
     "text": [
      "Epoch 199 tst: l 0.809 a 0.809  clct[20, 20] ans[20, 20] cl_acc 1.000 2.369sec\n"
     ]
    },
    {
     "name": "stdout",
     "output_type": "stream",
     "text": [
      "Epoch 200 tr: l 0.704 a 0.830  clct[30, 30] ans[30, 30] lr 0.033495 cl_acc 1.000 43.896sec(train) 3.843sec(infer)\n"
     ]
    },
    {
     "name": "stdout",
     "output_type": "stream",
     "text": [
      "Epoch 200 tst: l 0.792 a 0.811  clct[20, 20] ans[20, 20] cl_acc 1.000 2.458sec\n",
      "result written at output/results.pickle\n"
     ]
    },
    {
     "name": "stdout",
     "output_type": "stream",
     "text": [
      "Epoch 201 tr: l 0.682 a 0.836  clct[28, 32] ans[28, 32] lr 0.033160 cl_acc 1.000 43.857sec(train) 3.910sec(infer)\n"
     ]
    },
    {
     "name": "stdout",
     "output_type": "stream",
     "text": [
      "Epoch 201 tst: l 0.772 a 0.815  clct[20, 20] ans[20, 20] cl_acc 1.000 2.501sec\n"
     ]
    },
    {
     "name": "stdout",
     "output_type": "stream",
     "text": [
      "Epoch 202 tr: l 0.688 a 0.831  clct[30, 30] ans[30, 30] lr 0.032828 cl_acc 1.000 43.789sec(train) 3.929sec(infer)\n"
     ]
    },
    {
     "name": "stdout",
     "output_type": "stream",
     "text": [
      "Epoch 202 tst: l 0.792 a 0.811  clct[20, 20] ans[20, 20] cl_acc 1.000 2.472sec\n"
     ]
    },
    {
     "name": "stdout",
     "output_type": "stream",
     "text": [
      "Epoch 203 tr: l 0.654 a 0.844  clct[34, 26] ans[34, 26] lr 0.032500 cl_acc 1.000 43.864sec(train) 3.719sec(infer)\n"
     ]
    },
    {
     "name": "stdout",
     "output_type": "stream",
     "text": [
      "Epoch 203 tst: l 0.769 a 0.819  clct[20, 20] ans[20, 20] cl_acc 1.000 2.451sec\n"
     ]
    },
    {
     "name": "stdout",
     "output_type": "stream",
     "text": [
      "Epoch 204 tr: l 0.706 a 0.830  clct[29, 31] ans[29, 31] lr 0.032175 cl_acc 1.000 43.936sec(train) 4.080sec(infer)\n"
     ]
    },
    {
     "name": "stdout",
     "output_type": "stream",
     "text": [
      "Epoch 204 tst: l 0.800 a 0.809  clct[20, 20] ans[20, 20] cl_acc 1.000 2.373sec\n"
     ]
    },
    {
     "name": "stdout",
     "output_type": "stream",
     "text": [
      "Epoch 205 tr: l 0.688 a 0.832  clct[33, 27] ans[33, 27] lr 0.031853 cl_acc 1.000 43.966sec(train) 3.730sec(infer)\n"
     ]
    },
    {
     "name": "stdout",
     "output_type": "stream",
     "text": [
      "Epoch 205 tst: l 0.788 a 0.808  clct[20, 20] ans[20, 20] cl_acc 1.000 2.328sec\n"
     ]
    },
    {
     "name": "stdout",
     "output_type": "stream",
     "text": [
      "Epoch 206 tr: l 0.698 a 0.832  clct[28, 32] ans[28, 32] lr 0.031535 cl_acc 1.000 43.858sec(train) 3.769sec(infer)\n"
     ]
    },
    {
     "name": "stdout",
     "output_type": "stream",
     "text": [
      "Epoch 206 tst: l 0.803 a 0.810  clct[20, 20] ans[20, 20] cl_acc 1.000 2.401sec\n"
     ]
    },
    {
     "name": "stdout",
     "output_type": "stream",
     "text": [
      "Epoch 207 tr: l 0.658 a 0.842  clct[31, 29] ans[31, 29] lr 0.031219 cl_acc 1.000 43.904sec(train) 3.735sec(infer)\n"
     ]
    },
    {
     "name": "stdout",
     "output_type": "stream",
     "text": [
      "Epoch 207 tst: l 0.769 a 0.816  clct[20, 20] ans[20, 20] cl_acc 1.000 2.523sec\n"
     ]
    },
    {
     "name": "stdout",
     "output_type": "stream",
     "text": [
      "Epoch 208 tr: l 0.676 a 0.835  clct[27, 33] ans[27, 33] lr 0.030907 cl_acc 1.000 43.804sec(train) 4.003sec(infer)\n"
     ]
    },
    {
     "name": "stdout",
     "output_type": "stream",
     "text": [
      "Epoch 208 tst: l 0.795 a 0.808  clct[20, 20] ans[20, 20] cl_acc 1.000 2.540sec\n"
     ]
    },
    {
     "name": "stdout",
     "output_type": "stream",
     "text": [
      "Epoch 209 tr: l 0.675 a 0.836  clct[29, 31] ans[29, 31] lr 0.030598 cl_acc 1.000 43.890sec(train) 3.911sec(infer)\n"
     ]
    },
    {
     "name": "stdout",
     "output_type": "stream",
     "text": [
      "Epoch 209 tst: l 0.784 a 0.812  clct[20, 20] ans[20, 20] cl_acc 1.000 2.372sec\n"
     ]
    },
    {
     "name": "stdout",
     "output_type": "stream",
     "text": [
      "Epoch 210 tr: l 0.663 a 0.842  clct[31, 29] ans[31, 29] lr 0.030292 cl_acc 1.000 43.804sec(train) 3.807sec(infer)\n"
     ]
    },
    {
     "name": "stdout",
     "output_type": "stream",
     "text": [
      "Epoch 210 tst: l 0.787 a 0.811  clct[20, 20] ans[20, 20] cl_acc 1.000 2.487sec\n",
      "result written at output/results.pickle\n"
     ]
    },
    {
     "name": "stdout",
     "output_type": "stream",
     "text": [
      "Epoch 211 tr: l 0.682 a 0.835  clct[34, 26] ans[34, 26] lr 0.029989 cl_acc 1.000 43.903sec(train) 3.812sec(infer)\n"
     ]
    },
    {
     "name": "stdout",
     "output_type": "stream",
     "text": [
      "Epoch 211 tst: l 0.785 a 0.813  clct[20, 20] ans[20, 20] cl_acc 1.000 2.429sec\n"
     ]
    },
    {
     "name": "stdout",
     "output_type": "stream",
     "text": [
      "Epoch 212 tr: l 0.668 a 0.839  clct[31, 29] ans[31, 29] lr 0.029689 cl_acc 1.000 43.755sec(train) 3.797sec(infer)\n"
     ]
    },
    {
     "name": "stdout",
     "output_type": "stream",
     "text": [
      "Epoch 212 tst: l 0.771 a 0.816  clct[20, 20] ans[20, 20] cl_acc 1.000 2.427sec\n"
     ]
    },
    {
     "name": "stdout",
     "output_type": "stream",
     "text": [
      "Epoch 213 tr: l 0.681 a 0.834  clct[33, 27] ans[33, 27] lr 0.029392 cl_acc 1.000 43.988sec(train) 3.838sec(infer)\n"
     ]
    },
    {
     "name": "stdout",
     "output_type": "stream",
     "text": [
      "Epoch 213 tst: l 0.801 a 0.811  clct[20, 20] ans[20, 20] cl_acc 1.000 2.432sec\n"
     ]
    },
    {
     "name": "stdout",
     "output_type": "stream",
     "text": [
      "Epoch 214 tr: l 0.665 a 0.839  clct[28, 32] ans[28, 32] lr 0.029099 cl_acc 1.000 43.859sec(train) 3.824sec(infer)\n"
     ]
    },
    {
     "name": "stdout",
     "output_type": "stream",
     "text": [
      "Epoch 214 tst: l 0.778 a 0.814  clct[20, 20] ans[20, 20] cl_acc 1.000 2.353sec\n"
     ]
    },
    {
     "name": "stdout",
     "output_type": "stream",
     "text": [
      "Epoch 215 tr: l 0.653 a 0.841  clct[32, 28] ans[32, 28] lr 0.028808 cl_acc 1.000 43.571sec(train) 3.744sec(infer)\n"
     ]
    },
    {
     "name": "stdout",
     "output_type": "stream",
     "text": [
      "Epoch 215 tst: l 0.778 a 0.812  clct[20, 20] ans[20, 20] cl_acc 1.000 2.468sec\n"
     ]
    },
    {
     "name": "stdout",
     "output_type": "stream",
     "text": [
      "Epoch 216 tr: l 0.641 a 0.845  clct[29, 31] ans[29, 31] lr 0.028520 cl_acc 1.000 43.702sec(train) 3.865sec(infer)\n"
     ]
    },
    {
     "name": "stdout",
     "output_type": "stream",
     "text": [
      "Epoch 216 tst: l 0.772 a 0.811  clct[20, 20] ans[20, 20] cl_acc 1.000 2.277sec\n"
     ]
    },
    {
     "name": "stdout",
     "output_type": "stream",
     "text": [
      "Epoch 217 tr: l 0.683 a 0.835  clct[30, 30] ans[30, 30] lr 0.028234 cl_acc 1.000 43.912sec(train) 3.727sec(infer)\n"
     ]
    },
    {
     "name": "stdout",
     "output_type": "stream",
     "text": [
      "Epoch 217 tst: l 0.779 a 0.814  clct[20, 20] ans[20, 20] cl_acc 1.000 2.453sec\n"
     ]
    },
    {
     "name": "stdout",
     "output_type": "stream",
     "text": [
      "Epoch 218 tr: l 0.648 a 0.841  clct[31, 29] ans[31, 29] lr 0.027952 cl_acc 1.000 44.017sec(train) 3.880sec(infer)\n"
     ]
    },
    {
     "name": "stdout",
     "output_type": "stream",
     "text": [
      "Epoch 218 tst: l 0.763 a 0.816  clct[20, 20] ans[20, 20] cl_acc 1.000 2.383sec\n"
     ]
    },
    {
     "name": "stdout",
     "output_type": "stream",
     "text": [
      "Epoch 219 tr: l 0.650 a 0.844  clct[34, 26] ans[34, 26] lr 0.027672 cl_acc 1.000 43.808sec(train) 3.804sec(infer)\n"
     ]
    },
    {
     "name": "stdout",
     "output_type": "stream",
     "text": [
      "Epoch 219 tst: l 0.781 a 0.816  clct[20, 20] ans[20, 20] cl_acc 1.000 2.243sec\n"
     ]
    },
    {
     "name": "stdout",
     "output_type": "stream",
     "text": [
      "Epoch 220 tr: l 0.632 a 0.847  clct[28, 32] ans[28, 32] lr 0.027396 cl_acc 1.000 43.987sec(train) 3.765sec(infer)\n"
     ]
    },
    {
     "name": "stdout",
     "output_type": "stream",
     "text": [
      "Epoch 220 tst: l 0.758 a 0.821  clct[20, 20] ans[20, 20] cl_acc 1.000 2.458sec\n",
      "result written at output/results.pickle\n"
     ]
    },
    {
     "name": "stdout",
     "output_type": "stream",
     "text": [
      "Epoch 221 tr: l 0.654 a 0.841  clct[33, 27] ans[33, 27] lr 0.027122 cl_acc 1.000 43.979sec(train) 3.838sec(infer)\n"
     ]
    },
    {
     "name": "stdout",
     "output_type": "stream",
     "text": [
      "Epoch 221 tst: l 0.753 a 0.822  clct[20, 20] ans[20, 20] cl_acc 1.000 2.429sec\n"
     ]
    },
    {
     "name": "stdout",
     "output_type": "stream",
     "text": [
      "Epoch 222 tr: l 0.641 a 0.844  clct[29, 31] ans[29, 31] lr 0.026851 cl_acc 1.000 43.666sec(train) 3.759sec(infer)\n"
     ]
    },
    {
     "name": "stdout",
     "output_type": "stream",
     "text": [
      "Epoch 222 tst: l 0.761 a 0.814  clct[20, 20] ans[20, 20] cl_acc 1.000 2.473sec\n"
     ]
    },
    {
     "name": "stdout",
     "output_type": "stream",
     "text": [
      "Epoch 223 tr: l 0.643 a 0.843  clct[30, 30] ans[30, 30] lr 0.026582 cl_acc 1.000 43.929sec(train) 3.858sec(infer)\n"
     ]
    },
    {
     "name": "stdout",
     "output_type": "stream",
     "text": [
      "Epoch 223 tst: l 0.762 a 0.814  clct[20, 20] ans[20, 20] cl_acc 1.000 2.440sec\n"
     ]
    },
    {
     "name": "stdout",
     "output_type": "stream",
     "text": [
      "Epoch 224 tr: l 0.635 a 0.849  clct[32, 28] ans[32, 28] lr 0.026316 cl_acc 1.000 44.043sec(train) 3.784sec(infer)\n"
     ]
    },
    {
     "name": "stdout",
     "output_type": "stream",
     "text": [
      "Epoch 224 tst: l 0.770 a 0.818  clct[20, 20] ans[20, 20] cl_acc 1.000 2.360sec\n"
     ]
    },
    {
     "name": "stdout",
     "output_type": "stream",
     "text": [
      "Epoch 225 tr: l 0.655 a 0.842  clct[30, 30] ans[30, 30] lr 0.026053 cl_acc 1.000 44.020sec(train) 3.774sec(infer)\n"
     ]
    },
    {
     "name": "stdout",
     "output_type": "stream",
     "text": [
      "Epoch 225 tst: l 0.769 a 0.813  clct[20, 20] ans[20, 20] cl_acc 1.000 2.345sec\n"
     ]
    },
    {
     "name": "stdout",
     "output_type": "stream",
     "text": [
      "Epoch 226 tr: l 0.645 a 0.844  clct[27, 33] ans[27, 33] lr 0.025793 cl_acc 1.000 43.709sec(train) 3.791sec(infer)\n"
     ]
    },
    {
     "name": "stdout",
     "output_type": "stream",
     "text": [
      "Epoch 226 tst: l 0.762 a 0.815  clct[20, 20] ans[20, 20] cl_acc 1.000 2.487sec\n"
     ]
    },
    {
     "name": "stdout",
     "output_type": "stream",
     "text": [
      "Epoch 227 tr: l 0.634 a 0.848  clct[29, 31] ans[29, 31] lr 0.025535 cl_acc 1.000 43.892sec(train) 3.843sec(infer)\n"
     ]
    },
    {
     "name": "stdout",
     "output_type": "stream",
     "text": [
      "Epoch 227 tst: l 0.760 a 0.817  clct[20, 20] ans[20, 20] cl_acc 1.000 2.421sec\n"
     ]
    },
    {
     "name": "stdout",
     "output_type": "stream",
     "text": [
      "Epoch 228 tr: l 0.623 a 0.847  clct[32, 28] ans[32, 28] lr 0.025279 cl_acc 1.000 43.851sec(train) 3.916sec(infer)\n"
     ]
    },
    {
     "name": "stdout",
     "output_type": "stream",
     "text": [
      "Epoch 228 tst: l 0.766 a 0.813  clct[20, 20] ans[20, 20] cl_acc 1.000 2.587sec\n"
     ]
    },
    {
     "name": "stdout",
     "output_type": "stream",
     "text": [
      "Epoch 229 tr: l 0.644 a 0.841  clct[25, 35] ans[25, 35] lr 0.025026 cl_acc 1.000 43.863sec(train) 3.918sec(infer)\n"
     ]
    },
    {
     "name": "stdout",
     "output_type": "stream",
     "text": [
      "Epoch 229 tst: l 0.774 a 0.816  clct[20, 20] ans[20, 20] cl_acc 1.000 2.445sec\n"
     ]
    },
    {
     "name": "stdout",
     "output_type": "stream",
     "text": [
      "Epoch 230 tr: l 0.648 a 0.844  clct[30, 30] ans[30, 30] lr 0.024776 cl_acc 1.000 43.827sec(train) 3.845sec(infer)\n"
     ]
    },
    {
     "name": "stdout",
     "output_type": "stream",
     "text": [
      "Epoch 230 tst: l 0.763 a 0.821  clct[20, 20] ans[20, 20] cl_acc 1.000 2.551sec\n",
      "result written at output/results.pickle\n"
     ]
    },
    {
     "name": "stdout",
     "output_type": "stream",
     "text": [
      "Epoch 231 tr: l 0.638 a 0.846  clct[26, 34] ans[26, 34] lr 0.024528 cl_acc 1.000 43.750sec(train) 3.874sec(infer)\n"
     ]
    },
    {
     "name": "stdout",
     "output_type": "stream",
     "text": [
      "Epoch 231 tst: l 0.747 a 0.823  clct[20, 20] ans[20, 20] cl_acc 1.000 2.403sec\n"
     ]
    },
    {
     "name": "stdout",
     "output_type": "stream",
     "text": [
      "Epoch 232 tr: l 0.609 a 0.852  clct[32, 28] ans[32, 28] lr 0.024283 cl_acc 1.000 43.829sec(train) 3.914sec(infer)\n"
     ]
    },
    {
     "name": "stdout",
     "output_type": "stream",
     "text": [
      "Epoch 232 tst: l 0.769 a 0.813  clct[20, 20] ans[20, 20] cl_acc 1.000 2.447sec\n"
     ]
    },
    {
     "name": "stdout",
     "output_type": "stream",
     "text": [
      "Epoch 233 tr: l 0.585 a 0.857  clct[41, 19] ans[41, 19] lr 0.024040 cl_acc 1.000 43.932sec(train) 3.937sec(infer)\n"
     ]
    },
    {
     "name": "stdout",
     "output_type": "stream",
     "text": [
      "Epoch 233 tst: l 0.749 a 0.816  clct[20, 20] ans[20, 20] cl_acc 1.000 2.433sec\n"
     ]
    },
    {
     "name": "stdout",
     "output_type": "stream",
     "text": [
      "Epoch 234 tr: l 0.591 a 0.862  clct[31, 29] ans[31, 29] lr 0.023800 cl_acc 1.000 43.994sec(train) 3.917sec(infer)\n"
     ]
    },
    {
     "name": "stdout",
     "output_type": "stream",
     "text": [
      "Epoch 234 tst: l 0.759 a 0.818  clct[20, 20] ans[20, 20] cl_acc 1.000 2.444sec\n"
     ]
    },
    {
     "name": "stdout",
     "output_type": "stream",
     "text": [
      "Epoch 235 tr: l 0.595 a 0.857  clct[32, 28] ans[32, 28] lr 0.023562 cl_acc 1.000 43.876sec(train) 3.954sec(infer)\n"
     ]
    },
    {
     "name": "stdout",
     "output_type": "stream",
     "text": [
      "Epoch 235 tst: l 0.746 a 0.822  clct[20, 20] ans[20, 20] cl_acc 1.000 2.510sec\n"
     ]
    },
    {
     "name": "stdout",
     "output_type": "stream",
     "text": [
      "Epoch 236 tr: l 0.583 a 0.857  clct[28, 32] ans[28, 32] lr 0.023326 cl_acc 1.000 43.807sec(train) 3.898sec(infer)\n"
     ]
    },
    {
     "name": "stdout",
     "output_type": "stream",
     "text": [
      "Epoch 236 tst: l 0.734 a 0.823  clct[20, 20] ans[20, 20] cl_acc 1.000 2.407sec\n"
     ]
    },
    {
     "name": "stdout",
     "output_type": "stream",
     "text": [
      "Epoch 237 tr: l 0.609 a 0.852  clct[30, 30] ans[30, 30] lr 0.023093 cl_acc 1.000 43.984sec(train) 3.804sec(infer)\n"
     ]
    },
    {
     "name": "stdout",
     "output_type": "stream",
     "text": [
      "Epoch 237 tst: l 0.744 a 0.820  clct[20, 20] ans[20, 20] cl_acc 1.000 2.492sec\n"
     ]
    },
    {
     "name": "stdout",
     "output_type": "stream",
     "text": [
      "Epoch 238 tr: l 0.605 a 0.851  clct[31, 29] ans[31, 29] lr 0.022862 cl_acc 1.000 43.763sec(train) 3.905sec(infer)\n"
     ]
    },
    {
     "name": "stdout",
     "output_type": "stream",
     "text": [
      "Epoch 238 tst: l 0.738 a 0.820  clct[20, 20] ans[20, 20] cl_acc 1.000 2.380sec\n"
     ]
    },
    {
     "name": "stdout",
     "output_type": "stream",
     "text": [
      "Epoch 239 tr: l 0.629 a 0.847  clct[33, 27] ans[33, 27] lr 0.022633 cl_acc 1.000 43.762sec(train) 3.882sec(infer)\n"
     ]
    },
    {
     "name": "stdout",
     "output_type": "stream",
     "text": [
      "Epoch 239 tst: l 0.734 a 0.822  clct[20, 20] ans[20, 20] cl_acc 1.000 2.491sec\n"
     ]
    },
    {
     "name": "stdout",
     "output_type": "stream",
     "text": [
      "Epoch 240 tr: l 0.604 a 0.854  clct[32, 28] ans[32, 28] lr 0.022407 cl_acc 1.000 43.836sec(train) 3.938sec(infer)\n"
     ]
    },
    {
     "name": "stdout",
     "output_type": "stream",
     "text": [
      "Epoch 240 tst: l 0.747 a 0.823  clct[20, 20] ans[20, 20] cl_acc 1.000 2.453sec\n",
      "result written at output/results.pickle\n"
     ]
    },
    {
     "name": "stdout",
     "output_type": "stream",
     "text": [
      "Epoch 241 tr: l 0.605 a 0.855  clct[31, 29] ans[31, 29] lr 0.022183 cl_acc 1.000 43.766sec(train) 3.887sec(infer)\n"
     ]
    },
    {
     "name": "stdout",
     "output_type": "stream",
     "text": [
      "Epoch 241 tst: l 0.759 a 0.820  clct[20, 20] ans[20, 20] cl_acc 1.000 2.536sec\n"
     ]
    },
    {
     "name": "stdout",
     "output_type": "stream",
     "text": [
      "Epoch 242 tr: l 0.637 a 0.845  clct[34, 26] ans[34, 26] lr 0.021961 cl_acc 1.000 43.800sec(train) 3.975sec(infer)\n"
     ]
    },
    {
     "name": "stdout",
     "output_type": "stream",
     "text": [
      "Epoch 242 tst: l 0.746 a 0.822  clct[20, 20] ans[20, 20] cl_acc 1.000 2.410sec\n"
     ]
    },
    {
     "name": "stdout",
     "output_type": "stream",
     "text": [
      "Epoch 243 tr: l 0.611 a 0.849  clct[32, 28] ans[32, 28] lr 0.021742 cl_acc 1.000 43.877sec(train) 3.901sec(infer)\n"
     ]
    },
    {
     "name": "stdout",
     "output_type": "stream",
     "text": [
      "Epoch 243 tst: l 0.737 a 0.821  clct[20, 20] ans[20, 20] cl_acc 1.000 2.475sec\n"
     ]
    },
    {
     "name": "stdout",
     "output_type": "stream",
     "text": [
      "Epoch 244 tr: l 0.596 a 0.857  clct[27, 33] ans[27, 33] lr 0.021524 cl_acc 1.000 43.790sec(train) 3.895sec(infer)\n"
     ]
    },
    {
     "name": "stdout",
     "output_type": "stream",
     "text": [
      "Epoch 244 tst: l 0.740 a 0.822  clct[20, 20] ans[20, 20] cl_acc 1.000 2.444sec\n"
     ]
    },
    {
     "name": "stdout",
     "output_type": "stream",
     "text": [
      "Epoch 245 tr: l 0.613 a 0.851  clct[32, 28] ans[32, 28] lr 0.021309 cl_acc 1.000 43.719sec(train) 3.948sec(infer)\n"
     ]
    },
    {
     "name": "stdout",
     "output_type": "stream",
     "text": [
      "Epoch 245 tst: l 0.737 a 0.822  clct[20, 20] ans[20, 20] cl_acc 1.000 2.386sec\n"
     ]
    },
    {
     "name": "stdout",
     "output_type": "stream",
     "text": [
      "Epoch 246 tr: l 0.577 a 0.864  clct[33, 27] ans[33, 27] lr 0.021096 cl_acc 1.000 44.058sec(train) 3.868sec(infer)\n"
     ]
    },
    {
     "name": "stdout",
     "output_type": "stream",
     "text": [
      "Epoch 246 tst: l 0.741 a 0.826  clct[20, 20] ans[20, 20] cl_acc 1.000 2.483sec\n"
     ]
    },
    {
     "name": "stdout",
     "output_type": "stream",
     "text": [
      "Epoch 247 tr: l 0.594 a 0.859  clct[27, 33] ans[27, 33] lr 0.020885 cl_acc 1.000 44.030sec(train) 3.877sec(infer)\n"
     ]
    },
    {
     "name": "stdout",
     "output_type": "stream",
     "text": [
      "Epoch 247 tst: l 0.754 a 0.821  clct[20, 20] ans[20, 20] cl_acc 1.000 2.509sec\n"
     ]
    },
    {
     "name": "stdout",
     "output_type": "stream",
     "text": [
      "Epoch 248 tr: l 0.615 a 0.853  clct[28, 32] ans[28, 32] lr 0.020676 cl_acc 1.000 44.016sec(train) 3.849sec(infer)\n"
     ]
    },
    {
     "name": "stdout",
     "output_type": "stream",
     "text": [
      "Epoch 248 tst: l 0.749 a 0.819  clct[20, 20] ans[20, 20] cl_acc 1.000 2.339sec\n"
     ]
    },
    {
     "name": "stdout",
     "output_type": "stream",
     "text": [
      "Epoch 249 tr: l 0.589 a 0.862  clct[32, 28] ans[32, 28] lr 0.020469 cl_acc 1.000 43.905sec(train) 3.942sec(infer)\n"
     ]
    },
    {
     "name": "stdout",
     "output_type": "stream",
     "text": [
      "Epoch 249 tst: l 0.743 a 0.826  clct[20, 20] ans[20, 20] cl_acc 1.000 2.414sec\n"
     ]
    },
    {
     "name": "stdout",
     "output_type": "stream",
     "text": [
      "Epoch 250 tr: l 0.591 a 0.855  clct[25, 35] ans[25, 35] lr 0.020265 cl_acc 1.000 43.778sec(train) 3.821sec(infer)\n"
     ]
    },
    {
     "name": "stdout",
     "output_type": "stream",
     "text": [
      "Epoch 250 tst: l 0.727 a 0.821  clct[20, 20] ans[20, 20] cl_acc 1.000 2.431sec\n",
      "result written at output/results.pickle\n"
     ]
    },
    {
     "name": "stdout",
     "output_type": "stream",
     "text": [
      "Epoch 251 tr: l 0.607 a 0.853  clct[29, 31] ans[29, 31] lr 0.020062 cl_acc 1.000 43.721sec(train) 3.827sec(infer)\n"
     ]
    },
    {
     "name": "stdout",
     "output_type": "stream",
     "text": [
      "Epoch 251 tst: l 0.726 a 0.821  clct[20, 20] ans[20, 20] cl_acc 1.000 2.341sec\n"
     ]
    },
    {
     "name": "stdout",
     "output_type": "stream",
     "text": [
      "Epoch 252 tr: l 0.586 a 0.854  clct[26, 34] ans[26, 34] lr 0.019861 cl_acc 1.000 43.961sec(train) 4.079sec(infer)\n"
     ]
    },
    {
     "name": "stdout",
     "output_type": "stream",
     "text": [
      "Epoch 252 tst: l 0.730 a 0.822  clct[20, 20] ans[20, 20] cl_acc 1.000 2.441sec\n"
     ]
    },
    {
     "name": "stdout",
     "output_type": "stream",
     "text": [
      "Epoch 253 tr: l 0.589 a 0.855  clct[29, 31] ans[29, 31] lr 0.019663 cl_acc 1.000 43.974sec(train) 3.898sec(infer)\n"
     ]
    },
    {
     "name": "stdout",
     "output_type": "stream",
     "text": [
      "Epoch 253 tst: l 0.730 a 0.822  clct[20, 20] ans[20, 20] cl_acc 1.000 2.435sec\n"
     ]
    },
    {
     "name": "stdout",
     "output_type": "stream",
     "text": [
      "Epoch 254 tr: l 0.587 a 0.857  clct[32, 28] ans[32, 28] lr 0.019466 cl_acc 1.000 43.795sec(train) 4.019sec(infer)\n"
     ]
    },
    {
     "name": "stdout",
     "output_type": "stream",
     "text": [
      "Epoch 254 tst: l 0.732 a 0.827  clct[20, 20] ans[20, 20] cl_acc 1.000 2.517sec\n"
     ]
    },
    {
     "name": "stdout",
     "output_type": "stream",
     "text": [
      "Epoch 255 tr: l 0.591 a 0.855  clct[27, 33] ans[27, 33] lr 0.019271 cl_acc 1.000 43.754sec(train) 3.973sec(infer)\n"
     ]
    },
    {
     "name": "stdout",
     "output_type": "stream",
     "text": [
      "Epoch 255 tst: l 0.728 a 0.823  clct[20, 20] ans[20, 20] cl_acc 1.000 2.376sec\n"
     ]
    },
    {
     "name": "stdout",
     "output_type": "stream",
     "text": [
      "Epoch 256 tr: l 0.572 a 0.862  clct[30, 30] ans[30, 30] lr 0.019079 cl_acc 1.000 43.898sec(train) 3.893sec(infer)\n"
     ]
    },
    {
     "name": "stdout",
     "output_type": "stream",
     "text": [
      "Epoch 256 tst: l 0.736 a 0.823  clct[20, 20] ans[20, 20] cl_acc 1.000 2.462sec\n"
     ]
    },
    {
     "name": "stdout",
     "output_type": "stream",
     "text": [
      "Epoch 257 tr: l 0.547 a 0.869  clct[33, 27] ans[33, 27] lr 0.018888 cl_acc 1.000 44.079sec(train) 3.865sec(infer)\n"
     ]
    },
    {
     "name": "stdout",
     "output_type": "stream",
     "text": [
      "Epoch 257 tst: l 0.725 a 0.826  clct[20, 20] ans[20, 20] cl_acc 1.000 2.489sec\n"
     ]
    },
    {
     "name": "stdout",
     "output_type": "stream",
     "text": [
      "Epoch 258 tr: l 0.579 a 0.860  clct[29, 31] ans[29, 31] lr 0.018699 cl_acc 1.000 43.843sec(train) 3.954sec(infer)\n"
     ]
    },
    {
     "name": "stdout",
     "output_type": "stream",
     "text": [
      "Epoch 258 tst: l 0.716 a 0.829  clct[20, 20] ans[20, 20] cl_acc 1.000 2.450sec\n"
     ]
    },
    {
     "name": "stdout",
     "output_type": "stream",
     "text": [
      "Epoch 259 tr: l 0.593 a 0.853  clct[33, 27] ans[33, 27] lr 0.018512 cl_acc 1.000 43.838sec(train) 4.000sec(infer)\n"
     ]
    },
    {
     "name": "stdout",
     "output_type": "stream",
     "text": [
      "Epoch 259 tst: l 0.725 a 0.824  clct[20, 20] ans[20, 20] cl_acc 1.000 2.345sec\n"
     ]
    },
    {
     "name": "stdout",
     "output_type": "stream",
     "text": [
      "Epoch 260 tr: l 0.564 a 0.864  clct[30, 30] ans[30, 30] lr 0.018327 cl_acc 1.000 43.842sec(train) 3.989sec(infer)\n"
     ]
    },
    {
     "name": "stdout",
     "output_type": "stream",
     "text": [
      "Epoch 260 tst: l 0.729 a 0.825  clct[20, 20] ans[20, 20] cl_acc 1.000 2.504sec\n",
      "result written at output/results.pickle\n"
     ]
    },
    {
     "name": "stdout",
     "output_type": "stream",
     "text": [
      "Epoch 261 tr: l 0.565 a 0.860  clct[29, 31] ans[29, 31] lr 0.018144 cl_acc 1.000 43.919sec(train) 3.831sec(infer)\n"
     ]
    },
    {
     "name": "stdout",
     "output_type": "stream",
     "text": [
      "Epoch 261 tst: l 0.727 a 0.821  clct[20, 20] ans[20, 20] cl_acc 1.000 2.365sec\n"
     ]
    },
    {
     "name": "stdout",
     "output_type": "stream",
     "text": [
      "Epoch 262 tr: l 0.534 a 0.872  clct[33, 27] ans[33, 27] lr 0.017962 cl_acc 1.000 43.613sec(train) 3.947sec(infer)\n"
     ]
    },
    {
     "name": "stdout",
     "output_type": "stream",
     "text": [
      "Epoch 262 tst: l 0.709 a 0.831  clct[20, 20] ans[20, 20] cl_acc 1.000 2.489sec\n"
     ]
    },
    {
     "name": "stdout",
     "output_type": "stream",
     "text": [
      "Epoch 263 tr: l 0.574 a 0.861  clct[29, 31] ans[29, 31] lr 0.017783 cl_acc 1.000 43.815sec(train) 3.823sec(infer)\n"
     ]
    },
    {
     "name": "stdout",
     "output_type": "stream",
     "text": [
      "Epoch 263 tst: l 0.733 a 0.823  clct[20, 20] ans[20, 20] cl_acc 1.000 2.475sec\n"
     ]
    },
    {
     "name": "stdout",
     "output_type": "stream",
     "text": [
      "Epoch 264 tr: l 0.575 a 0.859  clct[29, 31] ans[29, 31] lr 0.017605 cl_acc 1.000 43.844sec(train) 3.856sec(infer)\n"
     ]
    },
    {
     "name": "stdout",
     "output_type": "stream",
     "text": [
      "Epoch 264 tst: l 0.723 a 0.827  clct[20, 20] ans[20, 20] cl_acc 1.000 2.362sec\n"
     ]
    },
    {
     "name": "stdout",
     "output_type": "stream",
     "text": [
      "Epoch 265 tr: l 0.577 a 0.858  clct[27, 33] ans[27, 33] lr 0.017429 cl_acc 1.000 43.904sec(train) 4.050sec(infer)\n"
     ]
    },
    {
     "name": "stdout",
     "output_type": "stream",
     "text": [
      "Epoch 265 tst: l 0.708 a 0.829  clct[20, 20] ans[20, 20] cl_acc 1.000 2.453sec\n"
     ]
    },
    {
     "name": "stdout",
     "output_type": "stream",
     "text": [
      "Epoch 266 tr: l 0.564 a 0.864  clct[32, 28] ans[32, 28] lr 0.017254 cl_acc 1.000 43.915sec(train) 3.866sec(infer)\n"
     ]
    },
    {
     "name": "stdout",
     "output_type": "stream",
     "text": [
      "Epoch 266 tst: l 0.716 a 0.829  clct[20, 20] ans[20, 20] cl_acc 1.000 2.461sec\n"
     ]
    },
    {
     "name": "stdout",
     "output_type": "stream",
     "text": [
      "Epoch 267 tr: l 0.549 a 0.866  clct[23, 37] ans[23, 37] lr 0.017082 cl_acc 1.000 43.891sec(train) 3.814sec(infer)\n"
     ]
    },
    {
     "name": "stdout",
     "output_type": "stream",
     "text": [
      "Epoch 267 tst: l 0.707 a 0.830  clct[20, 20] ans[20, 20] cl_acc 1.000 2.592sec\n"
     ]
    },
    {
     "name": "stdout",
     "output_type": "stream",
     "text": [
      "Epoch 268 tr: l 0.565 a 0.863  clct[26, 34] ans[26, 34] lr 0.016911 cl_acc 1.000 43.728sec(train) 3.962sec(infer)\n"
     ]
    },
    {
     "name": "stdout",
     "output_type": "stream",
     "text": [
      "Epoch 268 tst: l 0.724 a 0.825  clct[20, 20] ans[20, 20] cl_acc 1.000 2.491sec\n"
     ]
    },
    {
     "name": "stdout",
     "output_type": "stream",
     "text": [
      "Epoch 269 tr: l 0.541 a 0.869  clct[29, 31] ans[29, 31] lr 0.016742 cl_acc 1.000 44.028sec(train) 3.883sec(infer)\n"
     ]
    },
    {
     "name": "stdout",
     "output_type": "stream",
     "text": [
      "Epoch 269 tst: l 0.709 a 0.825  clct[20, 20] ans[20, 20] cl_acc 1.000 2.383sec\n"
     ]
    },
    {
     "name": "stdout",
     "output_type": "stream",
     "text": [
      "Epoch 270 tr: l 0.544 a 0.869  clct[28, 32] ans[28, 32] lr 0.016575 cl_acc 1.000 43.826sec(train) 3.869sec(infer)\n"
     ]
    },
    {
     "name": "stdout",
     "output_type": "stream",
     "text": [
      "Epoch 270 tst: l 0.724 a 0.827  clct[20, 20] ans[20, 20] cl_acc 1.000 2.593sec\n",
      "result written at output/results.pickle\n"
     ]
    },
    {
     "name": "stdout",
     "output_type": "stream",
     "text": [
      "Epoch 271 tr: l 0.560 a 0.862  clct[32, 28] ans[32, 28] lr 0.016409 cl_acc 1.000 43.933sec(train) 4.006sec(infer)\n"
     ]
    },
    {
     "name": "stdout",
     "output_type": "stream",
     "text": [
      "Epoch 271 tst: l 0.727 a 0.827  clct[20, 20] ans[20, 20] cl_acc 1.000 2.548sec\n"
     ]
    },
    {
     "name": "stdout",
     "output_type": "stream",
     "text": [
      "Epoch 272 tr: l 0.557 a 0.864  clct[33, 27] ans[33, 27] lr 0.016245 cl_acc 1.000 43.906sec(train) 3.888sec(infer)\n"
     ]
    },
    {
     "name": "stdout",
     "output_type": "stream",
     "text": [
      "Epoch 272 tst: l 0.710 a 0.827  clct[20, 20] ans[20, 20] cl_acc 1.000 2.452sec\n"
     ]
    },
    {
     "name": "stdout",
     "output_type": "stream",
     "text": [
      "Epoch 273 tr: l 0.555 a 0.864  clct[31, 29] ans[31, 29] lr 0.016082 cl_acc 1.000 43.862sec(train) 3.910sec(infer)\n"
     ]
    },
    {
     "name": "stdout",
     "output_type": "stream",
     "text": [
      "Epoch 273 tst: l 0.709 a 0.826  clct[20, 20] ans[20, 20] cl_acc 1.000 2.497sec\n"
     ]
    },
    {
     "name": "stdout",
     "output_type": "stream",
     "text": [
      "Epoch 274 tr: l 0.535 a 0.873  clct[26, 34] ans[26, 34] lr 0.015921 cl_acc 1.000 43.729sec(train) 3.813sec(infer)\n"
     ]
    },
    {
     "name": "stdout",
     "output_type": "stream",
     "text": [
      "Epoch 274 tst: l 0.726 a 0.827  clct[20, 20] ans[20, 20] cl_acc 1.000 2.413sec\n"
     ]
    },
    {
     "name": "stdout",
     "output_type": "stream",
     "text": [
      "Epoch 275 tr: l 0.533 a 0.874  clct[32, 28] ans[32, 28] lr 0.015762 cl_acc 1.000 43.983sec(train) 3.891sec(infer)\n"
     ]
    },
    {
     "name": "stdout",
     "output_type": "stream",
     "text": [
      "Epoch 275 tst: l 0.702 a 0.829  clct[20, 20] ans[20, 20] cl_acc 1.000 2.531sec\n"
     ]
    },
    {
     "name": "stdout",
     "output_type": "stream",
     "text": [
      "Epoch 276 tr: l 0.531 a 0.874  clct[30, 30] ans[30, 30] lr 0.015605 cl_acc 1.000 43.811sec(train) 3.958sec(infer)\n"
     ]
    },
    {
     "name": "stdout",
     "output_type": "stream",
     "text": [
      "Epoch 276 tst: l 0.708 a 0.830  clct[20, 20] ans[20, 20] cl_acc 1.000 2.418sec\n"
     ]
    },
    {
     "name": "stdout",
     "output_type": "stream",
     "text": [
      "Epoch 277 tr: l 0.560 a 0.862  clct[28, 32] ans[28, 32] lr 0.015449 cl_acc 1.000 43.909sec(train) 3.857sec(infer)\n"
     ]
    },
    {
     "name": "stdout",
     "output_type": "stream",
     "text": [
      "Epoch 277 tst: l 0.704 a 0.829  clct[20, 20] ans[20, 20] cl_acc 1.000 2.508sec\n"
     ]
    },
    {
     "name": "stdout",
     "output_type": "stream",
     "text": [
      "Epoch 278 tr: l 0.537 a 0.869  clct[29, 31] ans[29, 31] lr 0.015294 cl_acc 1.000 43.848sec(train) 4.100sec(infer)\n"
     ]
    },
    {
     "name": "stdout",
     "output_type": "stream",
     "text": [
      "Epoch 278 tst: l 0.708 a 0.829  clct[20, 20] ans[20, 20] cl_acc 1.000 2.397sec\n"
     ]
    },
    {
     "name": "stdout",
     "output_type": "stream",
     "text": [
      "Epoch 279 tr: l 0.567 a 0.862  clct[29, 31] ans[29, 31] lr 0.015141 cl_acc 1.000 44.105sec(train) 3.917sec(infer)\n"
     ]
    },
    {
     "name": "stdout",
     "output_type": "stream",
     "text": [
      "Epoch 279 tst: l 0.734 a 0.827  clct[20, 20] ans[20, 20] cl_acc 1.000 2.476sec\n"
     ]
    },
    {
     "name": "stdout",
     "output_type": "stream",
     "text": [
      "Epoch 280 tr: l 0.530 a 0.874  clct[31, 29] ans[31, 29] lr 0.014990 cl_acc 1.000 43.985sec(train) 3.989sec(infer)\n"
     ]
    },
    {
     "name": "stdout",
     "output_type": "stream",
     "text": [
      "Epoch 280 tst: l 0.718 a 0.827  clct[20, 20] ans[20, 20] cl_acc 1.000 2.483sec\n",
      "result written at output/results.pickle\n"
     ]
    },
    {
     "name": "stdout",
     "output_type": "stream",
     "text": [
      "Epoch 281 tr: l 0.528 a 0.873  clct[36, 24] ans[36, 24] lr 0.014840 cl_acc 1.000 43.902sec(train) 3.989sec(infer)\n"
     ]
    },
    {
     "name": "stdout",
     "output_type": "stream",
     "text": [
      "Epoch 281 tst: l 0.689 a 0.835  clct[20, 20] ans[20, 20] cl_acc 1.000 2.412sec\n"
     ]
    },
    {
     "name": "stdout",
     "output_type": "stream",
     "text": [
      "Epoch 282 tr: l 0.562 a 0.865  clct[30, 30] ans[30, 30] lr 0.014691 cl_acc 1.000 44.033sec(train) 3.993sec(infer)\n"
     ]
    },
    {
     "name": "stdout",
     "output_type": "stream",
     "text": [
      "Epoch 282 tst: l 0.717 a 0.827  clct[20, 20] ans[20, 20] cl_acc 1.000 2.347sec\n"
     ]
    },
    {
     "name": "stdout",
     "output_type": "stream",
     "text": [
      "Epoch 283 tr: l 0.512 a 0.878  clct[31, 29] ans[31, 29] lr 0.014545 cl_acc 1.000 43.827sec(train) 3.955sec(infer)\n"
     ]
    },
    {
     "name": "stdout",
     "output_type": "stream",
     "text": [
      "Epoch 283 tst: l 0.703 a 0.830  clct[20, 20] ans[20, 20] cl_acc 1.000 2.403sec\n"
     ]
    },
    {
     "name": "stdout",
     "output_type": "stream",
     "text": [
      "Epoch 284 tr: l 0.554 a 0.864  clct[31, 29] ans[31, 29] lr 0.014399 cl_acc 1.000 43.905sec(train) 3.912sec(infer)\n"
     ]
    },
    {
     "name": "stdout",
     "output_type": "stream",
     "text": [
      "Epoch 284 tst: l 0.712 a 0.828  clct[20, 20] ans[20, 20] cl_acc 1.000 2.512sec\n"
     ]
    },
    {
     "name": "stdout",
     "output_type": "stream",
     "text": [
      "Epoch 285 tr: l 0.539 a 0.866  clct[31, 29] ans[31, 29] lr 0.014255 cl_acc 1.000 43.839sec(train) 3.924sec(infer)\n"
     ]
    },
    {
     "name": "stdout",
     "output_type": "stream",
     "text": [
      "Epoch 285 tst: l 0.697 a 0.830  clct[20, 20] ans[20, 20] cl_acc 1.000 2.448sec\n"
     ]
    },
    {
     "name": "stdout",
     "output_type": "stream",
     "text": [
      "Epoch 286 tr: l 0.513 a 0.876  clct[27, 33] ans[27, 33] lr 0.014113 cl_acc 1.000 43.973sec(train) 3.959sec(infer)\n"
     ]
    },
    {
     "name": "stdout",
     "output_type": "stream",
     "text": [
      "Epoch 286 tst: l 0.697 a 0.830  clct[20, 20] ans[20, 20] cl_acc 1.000 2.398sec\n"
     ]
    },
    {
     "name": "stdout",
     "output_type": "stream",
     "text": [
      "Epoch 287 tr: l 0.553 a 0.866  clct[32, 28] ans[32, 28] lr 0.013971 cl_acc 1.000 43.911sec(train) 3.890sec(infer)\n"
     ]
    },
    {
     "name": "stdout",
     "output_type": "stream",
     "text": [
      "Epoch 287 tst: l 0.704 a 0.827  clct[20, 20] ans[20, 20] cl_acc 1.000 2.413sec\n"
     ]
    },
    {
     "name": "stdout",
     "output_type": "stream",
     "text": [
      "Epoch 288 tr: l 0.534 a 0.871  clct[33, 27] ans[33, 27] lr 0.013832 cl_acc 1.000 43.990sec(train) 4.009sec(infer)\n"
     ]
    },
    {
     "name": "stdout",
     "output_type": "stream",
     "text": [
      "Epoch 288 tst: l 0.700 a 0.830  clct[20, 20] ans[20, 20] cl_acc 1.000 2.450sec\n"
     ]
    },
    {
     "name": "stdout",
     "output_type": "stream",
     "text": [
      "Epoch 289 tr: l 0.497 a 0.883  clct[32, 28] ans[32, 28] lr 0.013693 cl_acc 1.000 44.112sec(train) 4.021sec(infer)\n"
     ]
    },
    {
     "name": "stdout",
     "output_type": "stream",
     "text": [
      "Epoch 289 tst: l 0.700 a 0.831  clct[20, 20] ans[20, 20] cl_acc 1.000 2.359sec\n"
     ]
    },
    {
     "name": "stdout",
     "output_type": "stream",
     "text": [
      "Epoch 290 tr: l 0.519 a 0.875  clct[27, 33] ans[27, 33] lr 0.013556 cl_acc 1.000 43.844sec(train) 3.797sec(infer)\n"
     ]
    },
    {
     "name": "stdout",
     "output_type": "stream",
     "text": [
      "Epoch 290 tst: l 0.698 a 0.831  clct[20, 20] ans[20, 20] cl_acc 1.000 2.350sec\n",
      "result written at output/results.pickle\n"
     ]
    },
    {
     "name": "stdout",
     "output_type": "stream",
     "text": [
      "Epoch 291 tr: l 0.520 a 0.875  clct[31, 29] ans[31, 29] lr 0.013421 cl_acc 1.000 44.025sec(train) 3.834sec(infer)\n"
     ]
    },
    {
     "name": "stdout",
     "output_type": "stream",
     "text": [
      "Epoch 291 tst: l 0.700 a 0.829  clct[20, 20] ans[20, 20] cl_acc 1.000 2.451sec\n"
     ]
    },
    {
     "name": "stdout",
     "output_type": "stream",
     "text": [
      "Epoch 292 tr: l 0.510 a 0.879  clct[35, 25] ans[35, 25] lr 0.013287 cl_acc 1.000 43.731sec(train) 3.968sec(infer)\n"
     ]
    },
    {
     "name": "stdout",
     "output_type": "stream",
     "text": [
      "Epoch 292 tst: l 0.701 a 0.830  clct[20, 20] ans[20, 20] cl_acc 1.000 2.476sec\n"
     ]
    },
    {
     "name": "stdout",
     "output_type": "stream",
     "text": [
      "Epoch 293 tr: l 0.513 a 0.876  clct[36, 24] ans[36, 24] lr 0.013154 cl_acc 1.000 44.019sec(train) 4.004sec(infer)\n"
     ]
    },
    {
     "name": "stdout",
     "output_type": "stream",
     "text": [
      "Epoch 293 tst: l 0.692 a 0.831  clct[20, 20] ans[20, 20] cl_acc 1.000 2.494sec\n"
     ]
    },
    {
     "name": "stdout",
     "output_type": "stream",
     "text": [
      "Epoch 294 tr: l 0.510 a 0.877  clct[32, 28] ans[32, 28] lr 0.013022 cl_acc 1.000 43.870sec(train) 3.889sec(infer)\n"
     ]
    },
    {
     "name": "stdout",
     "output_type": "stream",
     "text": [
      "Epoch 294 tst: l 0.707 a 0.828  clct[20, 20] ans[20, 20] cl_acc 1.000 2.478sec\n"
     ]
    },
    {
     "name": "stdout",
     "output_type": "stream",
     "text": [
      "Epoch 295 tr: l 0.505 a 0.879  clct[31, 29] ans[31, 29] lr 0.012892 cl_acc 1.000 43.819sec(train) 3.821sec(infer)\n"
     ]
    },
    {
     "name": "stdout",
     "output_type": "stream",
     "text": [
      "Epoch 295 tst: l 0.704 a 0.829  clct[20, 20] ans[20, 20] cl_acc 1.000 2.305sec\n"
     ]
    },
    {
     "name": "stdout",
     "output_type": "stream",
     "text": [
      "Epoch 296 tr: l 0.526 a 0.873  clct[31, 29] ans[31, 29] lr 0.012763 cl_acc 1.000 43.787sec(train) 3.838sec(infer)\n"
     ]
    },
    {
     "name": "stdout",
     "output_type": "stream",
     "text": [
      "Epoch 296 tst: l 0.697 a 0.831  clct[20, 20] ans[20, 20] cl_acc 1.000 2.532sec\n"
     ]
    },
    {
     "name": "stdout",
     "output_type": "stream",
     "text": [
      "Epoch 297 tr: l 0.524 a 0.873  clct[40, 20] ans[40, 20] lr 0.012636 cl_acc 1.000 43.851sec(train) 3.918sec(infer)\n"
     ]
    },
    {
     "name": "stdout",
     "output_type": "stream",
     "text": [
      "Epoch 297 tst: l 0.712 a 0.827  clct[20, 20] ans[20, 20] cl_acc 1.000 2.429sec\n"
     ]
    },
    {
     "name": "stdout",
     "output_type": "stream",
     "text": [
      "Epoch 298 tr: l 0.491 a 0.883  clct[29, 31] ans[29, 31] lr 0.012509 cl_acc 1.000 43.814sec(train) 3.983sec(infer)\n"
     ]
    },
    {
     "name": "stdout",
     "output_type": "stream",
     "text": [
      "Epoch 298 tst: l 0.691 a 0.834  clct[20, 20] ans[20, 20] cl_acc 1.000 2.445sec\n"
     ]
    },
    {
     "name": "stdout",
     "output_type": "stream",
     "text": [
      "Epoch 299 tr: l 0.504 a 0.880  clct[32, 28] ans[32, 28] lr 0.012384 cl_acc 1.000 44.122sec(train) 3.932sec(infer)\n"
     ]
    },
    {
     "name": "stdout",
     "output_type": "stream",
     "text": [
      "Epoch 299 tst: l 0.697 a 0.833  clct[20, 20] ans[20, 20] cl_acc 1.000 2.438sec\n"
     ]
    },
    {
     "name": "stdout",
     "output_type": "stream",
     "text": [
      "Epoch 300 tr: l 0.501 a 0.876  clct[32, 28] ans[32, 28] lr 0.012260 cl_acc 1.000 43.914sec(train) 3.992sec(infer)\n"
     ]
    },
    {
     "name": "stdout",
     "output_type": "stream",
     "text": [
      "Epoch 300 tst: l 0.683 a 0.837  clct[20, 20] ans[20, 20] cl_acc 1.000 2.470sec\n",
      "result written at output/results.pickle\n"
     ]
    },
    {
     "name": "stdout",
     "output_type": "stream",
     "text": [
      "Epoch 301 tr: l 0.479 a 0.885  clct[32, 28] ans[32, 28] lr 0.012138 cl_acc 1.000 44.191sec(train) 4.055sec(infer)\n"
     ]
    },
    {
     "name": "stdout",
     "output_type": "stream",
     "text": [
      "Epoch 301 tst: l 0.682 a 0.835  clct[20, 20] ans[20, 20] cl_acc 1.000 2.560sec\n"
     ]
    },
    {
     "name": "stdout",
     "output_type": "stream",
     "text": [
      "Epoch 302 tr: l 0.506 a 0.879  clct[28, 32] ans[28, 32] lr 0.012016 cl_acc 1.000 44.035sec(train) 3.990sec(infer)\n"
     ]
    },
    {
     "name": "stdout",
     "output_type": "stream",
     "text": [
      "Epoch 302 tst: l 0.712 a 0.829  clct[20, 20] ans[20, 20] cl_acc 1.000 2.390sec\n"
     ]
    },
    {
     "name": "stdout",
     "output_type": "stream",
     "text": [
      "Epoch 303 tr: l 0.522 a 0.873  clct[32, 28] ans[32, 28] lr 0.011896 cl_acc 1.000 44.141sec(train) 3.906sec(infer)\n"
     ]
    },
    {
     "name": "stdout",
     "output_type": "stream",
     "text": [
      "Epoch 303 tst: l 0.693 a 0.831  clct[20, 20] ans[20, 20] cl_acc 1.000 2.425sec\n"
     ]
    },
    {
     "name": "stdout",
     "output_type": "stream",
     "text": [
      "Epoch 304 tr: l 0.492 a 0.881  clct[29, 31] ans[29, 31] lr 0.011777 cl_acc 1.000 43.899sec(train) 3.966sec(infer)\n"
     ]
    },
    {
     "name": "stdout",
     "output_type": "stream",
     "text": [
      "Epoch 304 tst: l 0.688 a 0.835  clct[20, 20] ans[20, 20] cl_acc 1.000 2.377sec\n"
     ]
    },
    {
     "name": "stdout",
     "output_type": "stream",
     "text": [
      "Epoch 305 tr: l 0.477 a 0.885  clct[29, 31] ans[29, 31] lr 0.011659 cl_acc 1.000 43.602sec(train) 3.988sec(infer)\n"
     ]
    },
    {
     "name": "stdout",
     "output_type": "stream",
     "text": [
      "Epoch 305 tst: l 0.683 a 0.834  clct[20, 20] ans[20, 20] cl_acc 1.000 2.529sec\n"
     ]
    },
    {
     "name": "stdout",
     "output_type": "stream",
     "text": [
      "Epoch 306 tr: l 0.486 a 0.883  clct[27, 33] ans[27, 33] lr 0.011543 cl_acc 1.000 43.747sec(train) 3.780sec(infer)\n"
     ]
    },
    {
     "name": "stdout",
     "output_type": "stream",
     "text": [
      "Epoch 306 tst: l 0.689 a 0.834  clct[20, 20] ans[20, 20] cl_acc 1.000 2.385sec\n"
     ]
    },
    {
     "name": "stdout",
     "output_type": "stream",
     "text": [
      "Epoch 307 tr: l 0.480 a 0.885  clct[22, 38] ans[22, 38] lr 0.011427 cl_acc 1.000 43.878sec(train) 3.911sec(infer)\n"
     ]
    },
    {
     "name": "stdout",
     "output_type": "stream",
     "text": [
      "Epoch 307 tst: l 0.695 a 0.831  clct[20, 20] ans[20, 20] cl_acc 1.000 2.498sec\n"
     ]
    },
    {
     "name": "stdout",
     "output_type": "stream",
     "text": [
      "Epoch 308 tr: l 0.481 a 0.883  clct[28, 32] ans[28, 32] lr 0.011313 cl_acc 1.000 44.030sec(train) 4.145sec(infer)\n"
     ]
    },
    {
     "name": "stdout",
     "output_type": "stream",
     "text": [
      "Epoch 308 tst: l 0.685 a 0.832  clct[20, 20] ans[20, 20] cl_acc 1.000 2.390sec\n"
     ]
    },
    {
     "name": "stdout",
     "output_type": "stream",
     "text": [
      "Epoch 309 tr: l 0.476 a 0.885  clct[36, 24] ans[36, 24] lr 0.011200 cl_acc 1.000 43.940sec(train) 3.868sec(infer)\n"
     ]
    },
    {
     "name": "stdout",
     "output_type": "stream",
     "text": [
      "Epoch 309 tst: l 0.697 a 0.835  clct[20, 20] ans[20, 20] cl_acc 1.000 2.536sec\n"
     ]
    },
    {
     "name": "stdout",
     "output_type": "stream",
     "text": [
      "Epoch 310 tr: l 0.484 a 0.884  clct[38, 22] ans[38, 22] lr 0.011088 cl_acc 1.000 43.846sec(train) 4.000sec(infer)\n"
     ]
    },
    {
     "name": "stdout",
     "output_type": "stream",
     "text": [
      "Epoch 310 tst: l 0.692 a 0.833  clct[20, 20] ans[20, 20] cl_acc 1.000 2.422sec\n",
      "result written at output/results.pickle\n"
     ]
    },
    {
     "name": "stdout",
     "output_type": "stream",
     "text": [
      "Epoch 311 tr: l 0.470 a 0.886  clct[32, 28] ans[32, 28] lr 0.010977 cl_acc 1.000 43.788sec(train) 3.912sec(infer)\n"
     ]
    },
    {
     "name": "stdout",
     "output_type": "stream",
     "text": [
      "Epoch 311 tst: l 0.706 a 0.833  clct[20, 20] ans[20, 20] cl_acc 1.000 2.480sec\n"
     ]
    },
    {
     "name": "stdout",
     "output_type": "stream",
     "text": [
      "Epoch 312 tr: l 0.454 a 0.891  clct[35, 25] ans[35, 25] lr 0.010867 cl_acc 1.000 43.891sec(train) 3.969sec(infer)\n"
     ]
    },
    {
     "name": "stdout",
     "output_type": "stream",
     "text": [
      "Epoch 312 tst: l 0.680 a 0.835  clct[20, 20] ans[20, 20] cl_acc 1.000 2.487sec\n"
     ]
    },
    {
     "name": "stdout",
     "output_type": "stream",
     "text": [
      "Epoch 313 tr: l 0.488 a 0.883  clct[27, 33] ans[27, 33] lr 0.010759 cl_acc 1.000 43.925sec(train) 3.892sec(infer)\n"
     ]
    },
    {
     "name": "stdout",
     "output_type": "stream",
     "text": [
      "Epoch 313 tst: l 0.702 a 0.831  clct[20, 20] ans[20, 20] cl_acc 1.000 2.527sec\n"
     ]
    },
    {
     "name": "stdout",
     "output_type": "stream",
     "text": [
      "Epoch 314 tr: l 0.486 a 0.882  clct[27, 33] ans[27, 33] lr 0.010651 cl_acc 1.000 44.040sec(train) 3.897sec(infer)\n"
     ]
    },
    {
     "name": "stdout",
     "output_type": "stream",
     "text": [
      "Epoch 314 tst: l 0.713 a 0.831  clct[20, 20] ans[20, 20] cl_acc 1.000 2.459sec\n"
     ]
    },
    {
     "name": "stdout",
     "output_type": "stream",
     "text": [
      "Epoch 315 tr: l 0.479 a 0.885  clct[28, 32] ans[28, 32] lr 0.010545 cl_acc 1.000 43.981sec(train) 3.928sec(infer)\n"
     ]
    },
    {
     "name": "stdout",
     "output_type": "stream",
     "text": [
      "Epoch 315 tst: l 0.687 a 0.831  clct[20, 20] ans[20, 20] cl_acc 1.000 2.313sec\n"
     ]
    },
    {
     "name": "stdout",
     "output_type": "stream",
     "text": [
      "Epoch 316 tr: l 0.483 a 0.881  clct[19, 41] ans[19, 41] lr 0.010439 cl_acc 1.000 44.005sec(train) 3.872sec(infer)\n"
     ]
    },
    {
     "name": "stdout",
     "output_type": "stream",
     "text": [
      "Epoch 316 tst: l 0.689 a 0.835  clct[20, 20] ans[20, 20] cl_acc 1.000 2.388sec\n"
     ]
    },
    {
     "name": "stdout",
     "output_type": "stream",
     "text": [
      "Epoch 317 tr: l 0.483 a 0.881  clct[32, 28] ans[32, 28] lr 0.010335 cl_acc 1.000 43.958sec(train) 3.921sec(infer)\n"
     ]
    },
    {
     "name": "stdout",
     "output_type": "stream",
     "text": [
      "Epoch 317 tst: l 0.677 a 0.834  clct[20, 20] ans[20, 20] cl_acc 1.000 2.356sec\n"
     ]
    },
    {
     "name": "stdout",
     "output_type": "stream",
     "text": [
      "Epoch 318 tr: l 0.499 a 0.877  clct[34, 26] ans[34, 26] lr 0.010231 cl_acc 1.000 43.905sec(train) 3.874sec(infer)\n"
     ]
    },
    {
     "name": "stdout",
     "output_type": "stream",
     "text": [
      "Epoch 318 tst: l 0.694 a 0.832  clct[20, 20] ans[20, 20] cl_acc 1.000 2.403sec\n"
     ]
    },
    {
     "name": "stdout",
     "output_type": "stream",
     "text": [
      "Epoch 319 tr: l 0.472 a 0.886  clct[29, 31] ans[29, 31] lr 0.010129 cl_acc 1.000 43.788sec(train) 3.982sec(infer)\n"
     ]
    },
    {
     "name": "stdout",
     "output_type": "stream",
     "text": [
      "Epoch 319 tst: l 0.686 a 0.832  clct[20, 20] ans[20, 20] cl_acc 1.000 2.440sec\n"
     ]
    },
    {
     "name": "stdout",
     "output_type": "stream",
     "text": [
      "Epoch 320 tr: l 0.469 a 0.887  clct[33, 27] ans[33, 27] lr 0.010028 cl_acc 1.000 43.924sec(train) 3.899sec(infer)\n"
     ]
    },
    {
     "name": "stdout",
     "output_type": "stream",
     "text": [
      "Epoch 320 tst: l 0.674 a 0.838  clct[20, 20] ans[20, 20] cl_acc 1.000 2.518sec\n",
      "result written at output/results.pickle\n"
     ]
    },
    {
     "name": "stdout",
     "output_type": "stream",
     "text": [
      "Epoch 321 tr: l 0.466 a 0.887  clct[33, 27] ans[33, 27] lr 0.009927 cl_acc 1.000 43.982sec(train) 3.880sec(infer)\n"
     ]
    },
    {
     "name": "stdout",
     "output_type": "stream",
     "text": [
      "Epoch 321 tst: l 0.683 a 0.836  clct[20, 20] ans[20, 20] cl_acc 1.000 2.461sec\n"
     ]
    },
    {
     "name": "stdout",
     "output_type": "stream",
     "text": [
      "Epoch 322 tr: l 0.463 a 0.889  clct[32, 28] ans[32, 28] lr 0.009828 cl_acc 1.000 43.897sec(train) 3.829sec(infer)\n"
     ]
    },
    {
     "name": "stdout",
     "output_type": "stream",
     "text": [
      "Epoch 322 tst: l 0.691 a 0.832  clct[20, 20] ans[20, 20] cl_acc 1.000 2.473sec\n"
     ]
    },
    {
     "name": "stdout",
     "output_type": "stream",
     "text": [
      "Epoch 323 tr: l 0.457 a 0.891  clct[30, 30] ans[30, 30] lr 0.009730 cl_acc 1.000 43.926sec(train) 3.895sec(infer)\n"
     ]
    },
    {
     "name": "stdout",
     "output_type": "stream",
     "text": [
      "Epoch 323 tst: l 0.690 a 0.834  clct[20, 20] ans[20, 20] cl_acc 1.000 2.396sec\n"
     ]
    },
    {
     "name": "stdout",
     "output_type": "stream",
     "text": [
      "Epoch 324 tr: l 0.459 a 0.891  clct[27, 33] ans[27, 33] lr 0.009633 cl_acc 1.000 43.806sec(train) 3.867sec(infer)\n"
     ]
    },
    {
     "name": "stdout",
     "output_type": "stream",
     "text": [
      "Epoch 324 tst: l 0.677 a 0.835  clct[20, 20] ans[20, 20] cl_acc 1.000 2.303sec\n"
     ]
    },
    {
     "name": "stdout",
     "output_type": "stream",
     "text": [
      "Epoch 325 tr: l 0.483 a 0.881  clct[27, 33] ans[27, 33] lr 0.009536 cl_acc 1.000 43.809sec(train) 3.971sec(infer)\n"
     ]
    },
    {
     "name": "stdout",
     "output_type": "stream",
     "text": [
      "Epoch 325 tst: l 0.688 a 0.835  clct[20, 20] ans[20, 20] cl_acc 1.000 2.351sec\n"
     ]
    },
    {
     "name": "stdout",
     "output_type": "stream",
     "text": [
      "Epoch 326 tr: l 0.434 a 0.896  clct[27, 33] ans[27, 33] lr 0.009441 cl_acc 1.000 44.168sec(train) 3.962sec(infer)\n"
     ]
    },
    {
     "name": "stdout",
     "output_type": "stream",
     "text": [
      "Epoch 326 tst: l 0.678 a 0.834  clct[20, 20] ans[20, 20] cl_acc 1.000 2.433sec\n"
     ]
    },
    {
     "name": "stdout",
     "output_type": "stream",
     "text": [
      "Epoch 327 tr: l 0.441 a 0.895  clct[36, 24] ans[36, 24] lr 0.009346 cl_acc 1.000 43.861sec(train) 3.940sec(infer)\n"
     ]
    },
    {
     "name": "stdout",
     "output_type": "stream",
     "text": [
      "Epoch 327 tst: l 0.671 a 0.838  clct[20, 20] ans[20, 20] cl_acc 1.000 2.516sec\n"
     ]
    },
    {
     "name": "stdout",
     "output_type": "stream",
     "text": [
      "Epoch 328 tr: l 0.463 a 0.887  clct[29, 31] ans[29, 31] lr 0.009253 cl_acc 1.000 43.770sec(train) 3.729sec(infer)\n"
     ]
    },
    {
     "name": "stdout",
     "output_type": "stream",
     "text": [
      "Epoch 328 tst: l 0.690 a 0.836  clct[20, 20] ans[20, 20] cl_acc 1.000 2.531sec\n"
     ]
    },
    {
     "name": "stdout",
     "output_type": "stream",
     "text": [
      "Epoch 329 tr: l 0.445 a 0.895  clct[36, 24] ans[36, 24] lr 0.009160 cl_acc 1.000 43.863sec(train) 3.806sec(infer)\n"
     ]
    },
    {
     "name": "stdout",
     "output_type": "stream",
     "text": [
      "Epoch 329 tst: l 0.688 a 0.836  clct[20, 20] ans[20, 20] cl_acc 1.000 2.412sec\n"
     ]
    },
    {
     "name": "stdout",
     "output_type": "stream",
     "text": [
      "Epoch 330 tr: l 0.437 a 0.894  clct[30, 30] ans[30, 30] lr 0.009069 cl_acc 1.000 43.923sec(train) 3.929sec(infer)\n"
     ]
    },
    {
     "name": "stdout",
     "output_type": "stream",
     "text": [
      "Epoch 330 tst: l 0.674 a 0.836  clct[20, 20] ans[20, 20] cl_acc 1.000 2.436sec\n",
      "result written at output/results.pickle\n"
     ]
    },
    {
     "name": "stdout",
     "output_type": "stream",
     "text": [
      "Epoch 331 tr: l 0.462 a 0.889  clct[28, 32] ans[28, 32] lr 0.008978 cl_acc 1.000 43.942sec(train) 3.869sec(infer)\n"
     ]
    },
    {
     "name": "stdout",
     "output_type": "stream",
     "text": [
      "Epoch 331 tst: l 0.685 a 0.835  clct[20, 20] ans[20, 20] cl_acc 1.000 2.528sec\n"
     ]
    },
    {
     "name": "stdout",
     "output_type": "stream",
     "text": [
      "Epoch 332 tr: l 0.455 a 0.890  clct[31, 29] ans[31, 29] lr 0.008888 cl_acc 1.000 43.828sec(train) 3.832sec(infer)\n"
     ]
    },
    {
     "name": "stdout",
     "output_type": "stream",
     "text": [
      "Epoch 332 tst: l 0.672 a 0.836  clct[20, 20] ans[20, 20] cl_acc 1.000 2.616sec\n"
     ]
    },
    {
     "name": "stdout",
     "output_type": "stream",
     "text": [
      "Epoch 333 tr: l 0.415 a 0.903  clct[31, 29] ans[31, 29] lr 0.008800 cl_acc 1.000 43.792sec(train) 4.045sec(infer)\n"
     ]
    },
    {
     "name": "stdout",
     "output_type": "stream",
     "text": [
      "Epoch 333 tst: l 0.670 a 0.839  clct[20, 20] ans[20, 20] cl_acc 1.000 2.550sec\n"
     ]
    },
    {
     "name": "stdout",
     "output_type": "stream",
     "text": [
      "Epoch 334 tr: l 0.450 a 0.892  clct[23, 37] ans[23, 37] lr 0.008712 cl_acc 1.000 44.003sec(train) 3.984sec(infer)\n"
     ]
    },
    {
     "name": "stdout",
     "output_type": "stream",
     "text": [
      "Epoch 334 tst: l 0.692 a 0.837  clct[20, 20] ans[20, 20] cl_acc 1.000 2.349sec\n"
     ]
    },
    {
     "name": "stdout",
     "output_type": "stream",
     "text": [
      "Epoch 335 tr: l 0.470 a 0.886  clct[27, 33] ans[27, 33] lr 0.008624 cl_acc 1.000 44.015sec(train) 4.029sec(infer)\n"
     ]
    },
    {
     "name": "stdout",
     "output_type": "stream",
     "text": [
      "Epoch 335 tst: l 0.692 a 0.832  clct[20, 20] ans[20, 20] cl_acc 1.000 2.465sec\n"
     ]
    },
    {
     "name": "stdout",
     "output_type": "stream",
     "text": [
      "Epoch 336 tr: l 0.462 a 0.886  clct[29, 31] ans[29, 31] lr 0.008538 cl_acc 1.000 43.930sec(train) 3.936sec(infer)\n"
     ]
    },
    {
     "name": "stdout",
     "output_type": "stream",
     "text": [
      "Epoch 336 tst: l 0.663 a 0.836  clct[20, 20] ans[20, 20] cl_acc 1.000 2.488sec\n"
     ]
    },
    {
     "name": "stdout",
     "output_type": "stream",
     "text": [
      "Epoch 337 tr: l 0.438 a 0.895  clct[36, 24] ans[36, 24] lr 0.008453 cl_acc 1.000 43.890sec(train) 3.837sec(infer)\n"
     ]
    },
    {
     "name": "stdout",
     "output_type": "stream",
     "text": [
      "Epoch 337 tst: l 0.665 a 0.837  clct[20, 20] ans[20, 20] cl_acc 1.000 2.533sec\n"
     ]
    },
    {
     "name": "stdout",
     "output_type": "stream",
     "text": [
      "Epoch 338 tr: l 0.407 a 0.906  clct[24, 36] ans[24, 36] lr 0.008368 cl_acc 1.000 43.928sec(train) 3.921sec(infer)\n"
     ]
    },
    {
     "name": "stdout",
     "output_type": "stream",
     "text": [
      "Epoch 338 tst: l 0.664 a 0.836  clct[20, 20] ans[20, 20] cl_acc 1.000 2.363sec\n"
     ]
    },
    {
     "name": "stdout",
     "output_type": "stream",
     "text": [
      "Epoch 339 tr: l 0.446 a 0.892  clct[32, 28] ans[32, 28] lr 0.008285 cl_acc 1.000 44.072sec(train) 3.792sec(infer)\n"
     ]
    },
    {
     "name": "stdout",
     "output_type": "stream",
     "text": [
      "Epoch 339 tst: l 0.669 a 0.836  clct[20, 20] ans[20, 20] cl_acc 1.000 2.444sec\n"
     ]
    },
    {
     "name": "stdout",
     "output_type": "stream",
     "text": [
      "Epoch 340 tr: l 0.426 a 0.898  clct[32, 28] ans[32, 28] lr 0.008202 cl_acc 1.000 43.910sec(train) 3.933sec(infer)\n"
     ]
    },
    {
     "name": "stdout",
     "output_type": "stream",
     "text": [
      "Epoch 340 tst: l 0.670 a 0.838  clct[20, 20] ans[20, 20] cl_acc 1.000 2.510sec\n",
      "result written at output/results.pickle\n"
     ]
    },
    {
     "name": "stdout",
     "output_type": "stream",
     "text": [
      "Epoch 341 tr: l 0.442 a 0.894  clct[34, 26] ans[34, 26] lr 0.008120 cl_acc 1.000 43.727sec(train) 3.986sec(infer)\n"
     ]
    },
    {
     "name": "stdout",
     "output_type": "stream",
     "text": [
      "Epoch 341 tst: l 0.670 a 0.837  clct[20, 20] ans[20, 20] cl_acc 1.000 2.535sec\n"
     ]
    },
    {
     "name": "stdout",
     "output_type": "stream",
     "text": [
      "Epoch 342 tr: l 0.430 a 0.896  clct[35, 25] ans[35, 25] lr 0.008039 cl_acc 1.000 43.798sec(train) 4.048sec(infer)\n"
     ]
    },
    {
     "name": "stdout",
     "output_type": "stream",
     "text": [
      "Epoch 342 tst: l 0.669 a 0.838  clct[20, 20] ans[20, 20] cl_acc 1.000 2.640sec\n"
     ]
    },
    {
     "name": "stdout",
     "output_type": "stream",
     "text": [
      "Epoch 343 tr: l 0.409 a 0.903  clct[29, 31] ans[29, 31] lr 0.007958 cl_acc 1.000 43.924sec(train) 4.116sec(infer)\n"
     ]
    },
    {
     "name": "stdout",
     "output_type": "stream",
     "text": [
      "Epoch 343 tst: l 0.668 a 0.837  clct[20, 20] ans[20, 20] cl_acc 1.000 2.552sec\n"
     ]
    },
    {
     "name": "stdout",
     "output_type": "stream",
     "text": [
      "Epoch 344 tr: l 0.396 a 0.908  clct[26, 34] ans[26, 34] lr 0.007879 cl_acc 1.000 43.610sec(train) 4.166sec(infer)\n"
     ]
    },
    {
     "name": "stdout",
     "output_type": "stream",
     "text": [
      "Epoch 344 tst: l 0.673 a 0.838  clct[20, 20] ans[20, 20] cl_acc 1.000 2.558sec\n"
     ]
    },
    {
     "name": "stdout",
     "output_type": "stream",
     "text": [
      "Epoch 345 tr: l 0.425 a 0.897  clct[30, 30] ans[30, 30] lr 0.007800 cl_acc 1.000 43.915sec(train) 4.080sec(infer)\n"
     ]
    },
    {
     "name": "stdout",
     "output_type": "stream",
     "text": [
      "Epoch 345 tst: l 0.678 a 0.837  clct[20, 20] ans[20, 20] cl_acc 1.000 2.506sec\n"
     ]
    },
    {
     "name": "stdout",
     "output_type": "stream",
     "text": [
      "Epoch 346 tr: l 0.433 a 0.896  clct[29, 31] ans[29, 31] lr 0.007722 cl_acc 1.000 44.003sec(train) 4.035sec(infer)\n"
     ]
    },
    {
     "name": "stdout",
     "output_type": "stream",
     "text": [
      "Epoch 346 tst: l 0.689 a 0.835  clct[20, 20] ans[20, 20] cl_acc 1.000 2.640sec\n"
     ]
    },
    {
     "name": "stdout",
     "output_type": "stream",
     "text": [
      "Epoch 347 tr: l 0.410 a 0.902  clct[37, 23] ans[37, 23] lr 0.007645 cl_acc 1.000 43.982sec(train) 3.977sec(infer)\n"
     ]
    },
    {
     "name": "stdout",
     "output_type": "stream",
     "text": [
      "Epoch 347 tst: l 0.673 a 0.841  clct[20, 20] ans[20, 20] cl_acc 1.000 2.651sec\n"
     ]
    },
    {
     "name": "stdout",
     "output_type": "stream",
     "text": [
      "Epoch 348 tr: l 0.438 a 0.893  clct[31, 29] ans[31, 29] lr 0.007568 cl_acc 1.000 43.855sec(train) 4.117sec(infer)\n"
     ]
    },
    {
     "name": "stdout",
     "output_type": "stream",
     "text": [
      "Epoch 348 tst: l 0.675 a 0.837  clct[20, 20] ans[20, 20] cl_acc 1.000 2.533sec\n"
     ]
    },
    {
     "name": "stdout",
     "output_type": "stream",
     "text": [
      "Epoch 349 tr: l 0.431 a 0.896  clct[34, 26] ans[34, 26] lr 0.007492 cl_acc 1.000 43.854sec(train) 4.155sec(infer)\n"
     ]
    },
    {
     "name": "stdout",
     "output_type": "stream",
     "text": [
      "Epoch 349 tst: l 0.669 a 0.837  clct[20, 20] ans[20, 20] cl_acc 1.000 2.705sec\n"
     ]
    },
    {
     "name": "stdout",
     "output_type": "stream",
     "text": [
      "Epoch 350 tr: l 0.412 a 0.902  clct[22, 38] ans[22, 38] lr 0.007418 cl_acc 1.000 43.725sec(train) 4.119sec(infer)\n"
     ]
    },
    {
     "name": "stdout",
     "output_type": "stream",
     "text": [
      "Epoch 350 tst: l 0.666 a 0.838  clct[20, 20] ans[20, 20] cl_acc 1.000 2.665sec\n",
      "result written at output/results.pickle\n"
     ]
    },
    {
     "name": "stdout",
     "output_type": "stream",
     "text": [
      "Epoch 351 tr: l 0.405 a 0.904  clct[32, 28] ans[32, 28] lr 0.007343 cl_acc 1.000 44.013sec(train) 4.033sec(infer)\n"
     ]
    },
    {
     "name": "stdout",
     "output_type": "stream",
     "text": [
      "Epoch 351 tst: l 0.661 a 0.841  clct[20, 20] ans[20, 20] cl_acc 1.000 2.501sec\n"
     ]
    },
    {
     "name": "stdout",
     "output_type": "stream",
     "text": [
      "Epoch 352 tr: l 0.416 a 0.900  clct[30, 30] ans[30, 30] lr 0.007270 cl_acc 1.000 43.956sec(train) 4.106sec(infer)\n"
     ]
    },
    {
     "name": "stdout",
     "output_type": "stream",
     "text": [
      "Epoch 352 tst: l 0.664 a 0.841  clct[20, 20] ans[20, 20] cl_acc 1.000 2.553sec\n"
     ]
    },
    {
     "name": "stdout",
     "output_type": "stream",
     "text": [
      "Epoch 353 tr: l 0.428 a 0.897  clct[32, 28] ans[32, 28] lr 0.007197 cl_acc 1.000 44.016sec(train) 3.986sec(infer)\n"
     ]
    },
    {
     "name": "stdout",
     "output_type": "stream",
     "text": [
      "Epoch 353 tst: l 0.669 a 0.839  clct[20, 20] ans[20, 20] cl_acc 1.000 2.680sec\n"
     ]
    },
    {
     "name": "stdout",
     "output_type": "stream",
     "text": [
      "Epoch 354 tr: l 0.410 a 0.902  clct[28, 32] ans[28, 32] lr 0.007125 cl_acc 1.000 43.964sec(train) 3.970sec(infer)\n"
     ]
    },
    {
     "name": "stdout",
     "output_type": "stream",
     "text": [
      "Epoch 354 tst: l 0.668 a 0.837  clct[20, 20] ans[20, 20] cl_acc 1.000 2.612sec\n"
     ]
    },
    {
     "name": "stdout",
     "output_type": "stream",
     "text": [
      "Epoch 355 tr: l 0.401 a 0.906  clct[28, 32] ans[28, 32] lr 0.007054 cl_acc 1.000 44.002sec(train) 4.109sec(infer)\n"
     ]
    },
    {
     "name": "stdout",
     "output_type": "stream",
     "text": [
      "Epoch 355 tst: l 0.664 a 0.839  clct[20, 20] ans[20, 20] cl_acc 1.000 2.506sec\n"
     ]
    },
    {
     "name": "stdout",
     "output_type": "stream",
     "text": [
      "Epoch 356 tr: l 0.425 a 0.898  clct[33, 27] ans[33, 27] lr 0.006983 cl_acc 1.000 43.772sec(train) 4.070sec(infer)\n"
     ]
    },
    {
     "name": "stdout",
     "output_type": "stream",
     "text": [
      "Epoch 356 tst: l 0.695 a 0.836  clct[20, 20] ans[20, 20] cl_acc 1.000 2.525sec\n"
     ]
    },
    {
     "name": "stdout",
     "output_type": "stream",
     "text": [
      "Epoch 357 tr: l 0.406 a 0.905  clct[33, 27] ans[33, 27] lr 0.006914 cl_acc 1.000 43.885sec(train) 3.988sec(infer)\n"
     ]
    },
    {
     "name": "stdout",
     "output_type": "stream",
     "text": [
      "Epoch 357 tst: l 0.665 a 0.840  clct[20, 20] ans[20, 20] cl_acc 1.000 2.554sec\n"
     ]
    },
    {
     "name": "stdout",
     "output_type": "stream",
     "text": [
      "Epoch 358 tr: l 0.427 a 0.896  clct[31, 29] ans[31, 29] lr 0.006844 cl_acc 1.000 43.794sec(train) 4.142sec(infer)\n"
     ]
    },
    {
     "name": "stdout",
     "output_type": "stream",
     "text": [
      "Epoch 358 tst: l 0.683 a 0.837  clct[20, 20] ans[20, 20] cl_acc 1.000 2.504sec\n"
     ]
    },
    {
     "name": "stdout",
     "output_type": "stream",
     "text": [
      "Epoch 359 tr: l 0.391 a 0.909  clct[38, 22] ans[38, 22] lr 0.006776 cl_acc 1.000 44.040sec(train) 4.050sec(infer)\n"
     ]
    },
    {
     "name": "stdout",
     "output_type": "stream",
     "text": [
      "Epoch 359 tst: l 0.672 a 0.836  clct[20, 20] ans[20, 20] cl_acc 1.000 2.606sec\n"
     ]
    },
    {
     "name": "stdout",
     "output_type": "stream",
     "text": [
      "Epoch 360 tr: l 0.445 a 0.890  clct[28, 32] ans[28, 32] lr 0.006708 cl_acc 1.000 43.829sec(train) 4.078sec(infer)\n"
     ]
    },
    {
     "name": "stdout",
     "output_type": "stream",
     "text": [
      "Epoch 360 tst: l 0.683 a 0.836  clct[20, 20] ans[20, 20] cl_acc 1.000 2.645sec\n",
      "result written at output/results.pickle\n"
     ]
    },
    {
     "name": "stdout",
     "output_type": "stream",
     "text": [
      "Epoch 361 tr: l 0.406 a 0.903  clct[32, 28] ans[32, 28] lr 0.006641 cl_acc 1.000 44.071sec(train) 4.099sec(infer)\n"
     ]
    },
    {
     "name": "stdout",
     "output_type": "stream",
     "text": [
      "Epoch 361 tst: l 0.662 a 0.840  clct[20, 20] ans[20, 20] cl_acc 1.000 2.561sec\n"
     ]
    },
    {
     "name": "stdout",
     "output_type": "stream",
     "text": [
      "Epoch 362 tr: l 0.381 a 0.911  clct[27, 33] ans[27, 33] lr 0.006575 cl_acc 1.000 43.922sec(train) 4.086sec(infer)\n"
     ]
    },
    {
     "name": "stdout",
     "output_type": "stream",
     "text": [
      "Epoch 362 tst: l 0.658 a 0.843  clct[20, 20] ans[20, 20] cl_acc 1.000 2.482sec\n"
     ]
    },
    {
     "name": "stdout",
     "output_type": "stream",
     "text": [
      "Epoch 363 tr: l 0.409 a 0.900  clct[31, 29] ans[31, 29] lr 0.006509 cl_acc 1.000 43.992sec(train) 3.956sec(infer)\n"
     ]
    },
    {
     "name": "stdout",
     "output_type": "stream",
     "text": [
      "Epoch 363 tst: l 0.675 a 0.837  clct[20, 20] ans[20, 20] cl_acc 1.000 2.461sec\n"
     ]
    },
    {
     "name": "stdout",
     "output_type": "stream",
     "text": [
      "Epoch 364 tr: l 0.427 a 0.894  clct[26, 34] ans[26, 34] lr 0.006444 cl_acc 1.000 43.925sec(train) 4.029sec(infer)\n"
     ]
    },
    {
     "name": "stdout",
     "output_type": "stream",
     "text": [
      "Epoch 364 tst: l 0.671 a 0.839  clct[20, 20] ans[20, 20] cl_acc 1.000 2.581sec\n"
     ]
    },
    {
     "name": "stdout",
     "output_type": "stream",
     "text": [
      "Epoch 365 tr: l 0.384 a 0.911  clct[29, 31] ans[29, 31] lr 0.006379 cl_acc 1.000 43.945sec(train) 4.033sec(infer)\n"
     ]
    },
    {
     "name": "stdout",
     "output_type": "stream",
     "text": [
      "Epoch 365 tst: l 0.651 a 0.841  clct[20, 20] ans[20, 20] cl_acc 1.000 2.560sec\n"
     ]
    },
    {
     "name": "stdout",
     "output_type": "stream",
     "text": [
      "Epoch 366 tr: l 0.392 a 0.907  clct[31, 29] ans[31, 29] lr 0.006316 cl_acc 1.000 43.954sec(train) 4.012sec(infer)\n"
     ]
    },
    {
     "name": "stdout",
     "output_type": "stream",
     "text": [
      "Epoch 366 tst: l 0.662 a 0.839  clct[20, 20] ans[20, 20] cl_acc 1.000 2.586sec\n"
     ]
    },
    {
     "name": "stdout",
     "output_type": "stream",
     "text": [
      "Epoch 367 tr: l 0.402 a 0.906  clct[30, 30] ans[30, 30] lr 0.006253 cl_acc 1.000 43.976sec(train) 4.025sec(infer)\n"
     ]
    },
    {
     "name": "stdout",
     "output_type": "stream",
     "text": [
      "Epoch 367 tst: l 0.650 a 0.839  clct[20, 20] ans[20, 20] cl_acc 1.000 2.565sec\n"
     ]
    },
    {
     "name": "stdout",
     "output_type": "stream",
     "text": [
      "Epoch 368 tr: l 0.403 a 0.903  clct[35, 25] ans[35, 25] lr 0.006190 cl_acc 1.000 44.024sec(train) 4.241sec(infer)\n"
     ]
    },
    {
     "name": "stdout",
     "output_type": "stream",
     "text": [
      "Epoch 368 tst: l 0.666 a 0.839  clct[20, 20] ans[20, 20] cl_acc 1.000 2.546sec\n"
     ]
    },
    {
     "name": "stdout",
     "output_type": "stream",
     "text": [
      "Epoch 369 tr: l 0.410 a 0.901  clct[35, 25] ans[35, 25] lr 0.006128 cl_acc 1.000 43.935sec(train) 3.987sec(infer)\n"
     ]
    },
    {
     "name": "stdout",
     "output_type": "stream",
     "text": [
      "Epoch 369 tst: l 0.667 a 0.839  clct[20, 20] ans[20, 20] cl_acc 1.000 2.464sec\n"
     ]
    },
    {
     "name": "stdout",
     "output_type": "stream",
     "text": [
      "Epoch 370 tr: l 0.377 a 0.911  clct[28, 32] ans[28, 32] lr 0.006067 cl_acc 1.000 43.894sec(train) 4.165sec(infer)\n"
     ]
    },
    {
     "name": "stdout",
     "output_type": "stream",
     "text": [
      "Epoch 370 tst: l 0.659 a 0.839  clct[20, 20] ans[20, 20] cl_acc 1.000 2.559sec\n",
      "result written at output/results.pickle\n"
     ]
    },
    {
     "name": "stdout",
     "output_type": "stream",
     "text": [
      "Epoch 371 tr: l 0.387 a 0.909  clct[31, 29] ans[31, 29] lr 0.006006 cl_acc 1.000 43.767sec(train) 3.975sec(infer)\n"
     ]
    },
    {
     "name": "stdout",
     "output_type": "stream",
     "text": [
      "Epoch 371 tst: l 0.662 a 0.838  clct[20, 20] ans[20, 20] cl_acc 1.000 2.537sec\n"
     ]
    },
    {
     "name": "stdout",
     "output_type": "stream",
     "text": [
      "Epoch 372 tr: l 0.360 a 0.917  clct[32, 28] ans[32, 28] lr 0.005946 cl_acc 1.000 44.177sec(train) 4.134sec(infer)\n"
     ]
    },
    {
     "name": "stdout",
     "output_type": "stream",
     "text": [
      "Epoch 372 tst: l 0.675 a 0.837  clct[20, 20] ans[20, 20] cl_acc 1.000 2.647sec\n"
     ]
    },
    {
     "name": "stdout",
     "output_type": "stream",
     "text": [
      "Epoch 373 tr: l 0.386 a 0.907  clct[23, 37] ans[23, 37] lr 0.005887 cl_acc 1.000 43.877sec(train) 4.038sec(infer)\n"
     ]
    },
    {
     "name": "stdout",
     "output_type": "stream",
     "text": [
      "Epoch 373 tst: l 0.661 a 0.840  clct[20, 20] ans[20, 20] cl_acc 1.000 2.511sec\n"
     ]
    },
    {
     "name": "stdout",
     "output_type": "stream",
     "text": [
      "Epoch 374 tr: l 0.388 a 0.908  clct[29, 31] ans[29, 31] lr 0.005828 cl_acc 1.000 43.959sec(train) 4.259sec(infer)\n"
     ]
    },
    {
     "name": "stdout",
     "output_type": "stream",
     "text": [
      "Epoch 374 tst: l 0.657 a 0.837  clct[20, 20] ans[20, 20] cl_acc 1.000 2.625sec\n"
     ]
    },
    {
     "name": "stdout",
     "output_type": "stream",
     "text": [
      "Epoch 375 tr: l 0.369 a 0.914  clct[30, 30] ans[30, 30] lr 0.005769 cl_acc 1.000 44.091sec(train) 4.002sec(infer)\n"
     ]
    },
    {
     "name": "stdout",
     "output_type": "stream",
     "text": [
      "Epoch 375 tst: l 0.662 a 0.841  clct[20, 20] ans[20, 20] cl_acc 1.000 2.407sec\n"
     ]
    },
    {
     "name": "stdout",
     "output_type": "stream",
     "text": [
      "Epoch 376 tr: l 0.400 a 0.902  clct[29, 31] ans[29, 31] lr 0.005712 cl_acc 1.000 44.082sec(train) 4.158sec(infer)\n"
     ]
    },
    {
     "name": "stdout",
     "output_type": "stream",
     "text": [
      "Epoch 376 tst: l 0.660 a 0.841  clct[20, 20] ans[20, 20] cl_acc 1.000 2.656sec\n"
     ]
    },
    {
     "name": "stdout",
     "output_type": "stream",
     "text": [
      "Epoch 377 tr: l 0.383 a 0.909  clct[33, 27] ans[33, 27] lr 0.005655 cl_acc 1.000 43.907sec(train) 4.148sec(infer)\n"
     ]
    },
    {
     "name": "stdout",
     "output_type": "stream",
     "text": [
      "Epoch 377 tst: l 0.675 a 0.840  clct[20, 20] ans[20, 20] cl_acc 1.000 2.458sec\n"
     ]
    },
    {
     "name": "stdout",
     "output_type": "stream",
     "text": [
      "Epoch 378 tr: l 0.379 a 0.911  clct[27, 33] ans[27, 33] lr 0.005598 cl_acc 1.000 43.671sec(train) 4.097sec(infer)\n"
     ]
    },
    {
     "name": "stdout",
     "output_type": "stream",
     "text": [
      "Epoch 378 tst: l 0.670 a 0.843  clct[20, 20] ans[20, 20] cl_acc 1.000 2.575sec\n"
     ]
    },
    {
     "name": "stdout",
     "output_type": "stream",
     "text": [
      "Epoch 379 tr: l 0.410 a 0.900  clct[33, 27] ans[33, 27] lr 0.005542 cl_acc 1.000 43.776sec(train) 4.093sec(infer)\n"
     ]
    },
    {
     "name": "stdout",
     "output_type": "stream",
     "text": [
      "Epoch 379 tst: l 0.668 a 0.838  clct[20, 20] ans[20, 20] cl_acc 1.000 2.460sec\n"
     ]
    },
    {
     "name": "stdout",
     "output_type": "stream",
     "text": [
      "Epoch 380 tr: l 0.348 a 0.919  clct[32, 28] ans[32, 28] lr 0.005487 cl_acc 1.000 43.989sec(train) 4.036sec(infer)\n"
     ]
    },
    {
     "name": "stdout",
     "output_type": "stream",
     "text": [
      "Epoch 380 tst: l 0.641 a 0.844  clct[20, 20] ans[20, 20] cl_acc 1.000 2.440sec\n",
      "result written at output/results.pickle\n"
     ]
    },
    {
     "name": "stdout",
     "output_type": "stream",
     "text": [
      "Epoch 381 tr: l 0.401 a 0.901  clct[29, 31] ans[29, 31] lr 0.005432 cl_acc 1.000 44.006sec(train) 3.951sec(infer)\n"
     ]
    },
    {
     "name": "stdout",
     "output_type": "stream",
     "text": [
      "Epoch 381 tst: l 0.654 a 0.841  clct[20, 20] ans[20, 20] cl_acc 1.000 2.522sec\n"
     ]
    },
    {
     "name": "stdout",
     "output_type": "stream",
     "text": [
      "Epoch 382 tr: l 0.372 a 0.911  clct[29, 31] ans[29, 31] lr 0.005378 cl_acc 1.000 43.793sec(train) 4.081sec(infer)\n"
     ]
    },
    {
     "name": "stdout",
     "output_type": "stream",
     "text": [
      "Epoch 382 tst: l 0.667 a 0.840  clct[20, 20] ans[20, 20] cl_acc 1.000 2.625sec\n"
     ]
    },
    {
     "name": "stdout",
     "output_type": "stream",
     "text": [
      "Epoch 383 tr: l 0.370 a 0.914  clct[33, 27] ans[33, 27] lr 0.005324 cl_acc 1.000 43.892sec(train) 4.160sec(infer)\n"
     ]
    },
    {
     "name": "stdout",
     "output_type": "stream",
     "text": [
      "Epoch 383 tst: l 0.660 a 0.841  clct[20, 20] ans[20, 20] cl_acc 1.000 2.593sec\n"
     ]
    },
    {
     "name": "stdout",
     "output_type": "stream",
     "text": [
      "Epoch 384 tr: l 0.363 a 0.915  clct[30, 30] ans[30, 30] lr 0.005271 cl_acc 1.000 43.823sec(train) 3.912sec(infer)\n"
     ]
    },
    {
     "name": "stdout",
     "output_type": "stream",
     "text": [
      "Epoch 384 tst: l 0.647 a 0.842  clct[20, 20] ans[20, 20] cl_acc 1.000 2.417sec\n"
     ]
    },
    {
     "name": "stdout",
     "output_type": "stream",
     "text": [
      "Epoch 385 tr: l 0.349 a 0.921  clct[32, 28] ans[32, 28] lr 0.005218 cl_acc 1.000 43.686sec(train) 3.928sec(infer)\n"
     ]
    },
    {
     "name": "stdout",
     "output_type": "stream",
     "text": [
      "Epoch 385 tst: l 0.664 a 0.841  clct[20, 20] ans[20, 20] cl_acc 1.000 2.530sec\n"
     ]
    },
    {
     "name": "stdout",
     "output_type": "stream",
     "text": [
      "Epoch 386 tr: l 0.381 a 0.909  clct[30, 30] ans[30, 30] lr 0.005166 cl_acc 1.000 44.040sec(train) 4.116sec(infer)\n"
     ]
    },
    {
     "name": "stdout",
     "output_type": "stream",
     "text": [
      "Epoch 386 tst: l 0.656 a 0.840  clct[20, 20] ans[20, 20] cl_acc 1.000 2.558sec\n"
     ]
    },
    {
     "name": "stdout",
     "output_type": "stream",
     "text": [
      "Epoch 387 tr: l 0.377 a 0.910  clct[32, 28] ans[32, 28] lr 0.005114 cl_acc 1.000 43.888sec(train) 4.080sec(infer)\n"
     ]
    },
    {
     "name": "stdout",
     "output_type": "stream",
     "text": [
      "Epoch 387 tst: l 0.656 a 0.843  clct[20, 20] ans[20, 20] cl_acc 1.000 2.527sec\n"
     ]
    },
    {
     "name": "stdout",
     "output_type": "stream",
     "text": [
      "Epoch 388 tr: l 0.357 a 0.917  clct[34, 26] ans[34, 26] lr 0.005063 cl_acc 1.000 43.949sec(train) 4.042sec(infer)\n"
     ]
    },
    {
     "name": "stdout",
     "output_type": "stream",
     "text": [
      "Epoch 388 tst: l 0.652 a 0.843  clct[20, 20] ans[20, 20] cl_acc 1.000 2.618sec\n"
     ]
    },
    {
     "name": "stdout",
     "output_type": "stream",
     "text": [
      "Epoch 389 tr: l 0.355 a 0.916  clct[34, 26] ans[34, 26] lr 0.005012 cl_acc 1.000 43.864sec(train) 4.099sec(infer)\n"
     ]
    },
    {
     "name": "stdout",
     "output_type": "stream",
     "text": [
      "Epoch 389 tst: l 0.654 a 0.842  clct[20, 20] ans[20, 20] cl_acc 1.000 2.561sec\n"
     ]
    },
    {
     "name": "stdout",
     "output_type": "stream",
     "text": [
      "Epoch 390 tr: l 0.364 a 0.913  clct[29, 31] ans[29, 31] lr 0.004962 cl_acc 1.000 43.887sec(train) 4.203sec(infer)\n"
     ]
    },
    {
     "name": "stdout",
     "output_type": "stream",
     "text": [
      "Epoch 390 tst: l 0.659 a 0.844  clct[20, 20] ans[20, 20] cl_acc 1.000 2.590sec\n",
      "result written at output/results.pickle\n"
     ]
    },
    {
     "name": "stdout",
     "output_type": "stream",
     "text": [
      "Epoch 391 tr: l 0.372 a 0.911  clct[32, 28] ans[32, 28] lr 0.004912 cl_acc 1.000 44.020sec(train) 4.107sec(infer)\n"
     ]
    },
    {
     "name": "stdout",
     "output_type": "stream",
     "text": [
      "Epoch 391 tst: l 0.653 a 0.843  clct[20, 20] ans[20, 20] cl_acc 1.000 2.573sec\n"
     ]
    },
    {
     "name": "stdout",
     "output_type": "stream",
     "text": [
      "Epoch 392 tr: l 0.385 a 0.905  clct[32, 28] ans[32, 28] lr 0.004863 cl_acc 1.000 43.924sec(train) 4.110sec(infer)\n"
     ]
    },
    {
     "name": "stdout",
     "output_type": "stream",
     "text": [
      "Epoch 392 tst: l 0.666 a 0.840  clct[20, 20] ans[20, 20] cl_acc 1.000 2.589sec\n"
     ]
    },
    {
     "name": "stdout",
     "output_type": "stream",
     "text": [
      "Epoch 393 tr: l 0.370 a 0.910  clct[28, 32] ans[28, 32] lr 0.004815 cl_acc 1.000 44.027sec(train) 4.196sec(infer)\n"
     ]
    },
    {
     "name": "stdout",
     "output_type": "stream",
     "text": [
      "Epoch 393 tst: l 0.662 a 0.841  clct[20, 20] ans[20, 20] cl_acc 1.000 2.602sec\n"
     ]
    },
    {
     "name": "stdout",
     "output_type": "stream",
     "text": [
      "Epoch 394 tr: l 0.367 a 0.912  clct[24, 36] ans[24, 36] lr 0.004767 cl_acc 1.000 43.956sec(train) 4.215sec(infer)\n"
     ]
    },
    {
     "name": "stdout",
     "output_type": "stream",
     "text": [
      "Epoch 394 tst: l 0.661 a 0.843  clct[20, 20] ans[20, 20] cl_acc 1.000 2.630sec\n"
     ]
    },
    {
     "name": "stdout",
     "output_type": "stream",
     "text": [
      "Epoch 395 tr: l 0.367 a 0.915  clct[31, 29] ans[31, 29] lr 0.004719 cl_acc 1.000 44.108sec(train) 4.133sec(infer)\n"
     ]
    },
    {
     "name": "stdout",
     "output_type": "stream",
     "text": [
      "Epoch 395 tst: l 0.648 a 0.846  clct[20, 20] ans[20, 20] cl_acc 1.000 2.483sec\n"
     ]
    },
    {
     "name": "stdout",
     "output_type": "stream",
     "text": [
      "Epoch 396 tr: l 0.348 a 0.919  clct[31, 29] ans[31, 29] lr 0.004672 cl_acc 1.000 43.699sec(train) 3.983sec(infer)\n"
     ]
    },
    {
     "name": "stdout",
     "output_type": "stream",
     "text": [
      "Epoch 396 tst: l 0.648 a 0.845  clct[20, 20] ans[20, 20] cl_acc 1.000 2.499sec\n"
     ]
    },
    {
     "name": "stdout",
     "output_type": "stream",
     "text": [
      "Epoch 397 tr: l 0.343 a 0.923  clct[29, 31] ans[29, 31] lr 0.004625 cl_acc 1.000 43.809sec(train) 4.110sec(infer)\n"
     ]
    },
    {
     "name": "stdout",
     "output_type": "stream",
     "text": [
      "Epoch 397 tst: l 0.640 a 0.846  clct[20, 20] ans[20, 20] cl_acc 1.000 2.674sec\n"
     ]
    },
    {
     "name": "stdout",
     "output_type": "stream",
     "text": [
      "Epoch 398 tr: l 0.350 a 0.919  clct[34, 26] ans[34, 26] lr 0.004579 cl_acc 1.000 43.884sec(train) 4.008sec(infer)\n"
     ]
    },
    {
     "name": "stdout",
     "output_type": "stream",
     "text": [
      "Epoch 398 tst: l 0.650 a 0.843  clct[20, 20] ans[20, 20] cl_acc 1.000 2.522sec\n"
     ]
    },
    {
     "name": "stdout",
     "output_type": "stream",
     "text": [
      "Epoch 399 tr: l 0.341 a 0.921  clct[30, 30] ans[30, 30] lr 0.004533 cl_acc 1.000 43.818sec(train) 4.007sec(infer)\n"
     ]
    },
    {
     "name": "stdout",
     "output_type": "stream",
     "text": [
      "Epoch 399 tst: l 0.637 a 0.847  clct[20, 20] ans[20, 20] cl_acc 1.000 2.542sec\n",
      "result written at output/results.pickle\n",
      "---train cluster Ended in 5.60 hour (20171.847 sec) \n",
      "---------------------------------DFCA-GI, lr: 0.25, seed: 14---------------------------------\n",
      "config: {'m': 200, 'm_test': 40, 'p': 2, 'n': 500, 'participation_rate': 0.3, 'num_epochs': 400, 'batch_size': 50, 'tau': 5, 'lr': 0.25, 'data_seed': 14, 'train_seed': 14, 'project_dir': 'output'}\n"
     ]
    },
    {
     "name": "stdout",
     "output_type": "stream",
     "text": [
      "finding good initializer from train data\n"
     ]
    },
    {
     "name": "stderr",
     "output_type": "stream",
     "text": [
      "2025-06-02 14:20:37.052577: W tensorflow/c/c_api.cc:305] Operation '{name:'softmax_linear/biases/Assign' id:221 op device:{requested: '/device:CPU:0', assigned: ''} def:{{{node softmax_linear/biases/Assign}} = Assign[T=DT_FLOAT, _class=[\"loc:@softmax_linear/biases\"], _has_manual_control_dependencies=true, use_locking=true, validate_shape=true, _device=\"/device:CPU:0\"](softmax_linear/biases, softmax_linear/biases/Initializer/Const)}}' was changed by setting attribute after it was run by a session. This mutation will have no effect, and will trigger an error in the future. Either don't modify nodes after running them or create a new session.\n"
     ]
    },
    {
     "name": "stdout",
     "output_type": "stream",
     "text": [
      "Epoch -1 tr: l 4.676 a 0.104  clct[0, 60] ans[29, 31] cl_acc 0.517 4.150sec\n"
     ]
    },
    {
     "name": "stderr",
     "output_type": "stream",
     "text": [
      "2025-06-02 14:20:41.222556: W tensorflow/c/c_api.cc:305] Operation '{name:'softmax_linear/biases/Assign' id:221 op device:{requested: '/device:CPU:0', assigned: ''} def:{{{node softmax_linear/biases/Assign}} = Assign[T=DT_FLOAT, _class=[\"loc:@softmax_linear/biases\"], _has_manual_control_dependencies=true, use_locking=true, validate_shape=true, _device=\"/device:CPU:0\"](softmax_linear/biases, softmax_linear/biases/Initializer/Const)}}' was changed by setting attribute after it was run by a session. This mutation will have no effect, and will trigger an error in the future. Either don't modify nodes after running them or create a new session.\n"
     ]
    },
    {
     "name": "stdout",
     "output_type": "stream",
     "text": [
      "Epoch -1 tr: l 4.672 a 0.096  clct[41, 19] ans[28, 32] cl_acc 0.783 4.028sec\n"
     ]
    },
    {
     "name": "stderr",
     "output_type": "stream",
     "text": [
      "2025-06-02 14:20:45.273578: W tensorflow/c/c_api.cc:305] Operation '{name:'softmax_linear/biases/Assign' id:221 op device:{requested: '/device:CPU:0', assigned: ''} def:{{{node softmax_linear/biases/Assign}} = Assign[T=DT_FLOAT, _class=[\"loc:@softmax_linear/biases\"], _has_manual_control_dependencies=true, use_locking=true, validate_shape=true, _device=\"/device:CPU:0\"](softmax_linear/biases, softmax_linear/biases/Initializer/Const)}}' was changed by setting attribute after it was run by a session. This mutation will have no effect, and will trigger an error in the future. Either don't modify nodes after running them or create a new session.\n"
     ]
    },
    {
     "name": "stdout",
     "output_type": "stream",
     "text": [
      "Epoch -1 tr: l 4.670 a 0.096  clct[0, 60] ans[25, 35] cl_acc 0.583 4.017sec\n"
     ]
    },
    {
     "name": "stderr",
     "output_type": "stream",
     "text": [
      "2025-06-02 14:20:49.313755: W tensorflow/c/c_api.cc:305] Operation '{name:'softmax_linear/biases/Assign' id:221 op device:{requested: '/device:CPU:0', assigned: ''} def:{{{node softmax_linear/biases/Assign}} = Assign[T=DT_FLOAT, _class=[\"loc:@softmax_linear/biases\"], _has_manual_control_dependencies=true, use_locking=true, validate_shape=true, _device=\"/device:CPU:0\"](softmax_linear/biases, softmax_linear/biases/Initializer/Const)}}' was changed by setting attribute after it was run by a session. This mutation will have no effect, and will trigger an error in the future. Either don't modify nodes after running them or create a new session.\n"
     ]
    },
    {
     "name": "stdout",
     "output_type": "stream",
     "text": [
      "Epoch -1 tr: l 4.678 a 0.102  clct[26, 34] ans[33, 27] cl_acc 0.583 4.192sec\n",
      "found good initializer\n"
     ]
    },
    {
     "name": "stdout",
     "output_type": "stream",
     "text": [
      "Epoch -1 tr: l 4.678 a 0.103  clct[25, 35] ans[30, 30] cl_acc 0.583 4.118sec\n"
     ]
    },
    {
     "name": "stdout",
     "output_type": "stream",
     "text": [
      "Epoch -1 tst: l 4.678 a 0.103  clct[18, 22] ans[20, 20] cl_acc 0.600 2.618sec\n"
     ]
    },
    {
     "name": "stdout",
     "output_type": "stream",
     "text": [
      "Epoch 0 tr: l 2.025 a 0.351  clct[9, 51] ans[35, 25] lr 0.250000 cl_acc 0.567 43.770sec(train) 4.276sec(infer)\n"
     ]
    },
    {
     "name": "stdout",
     "output_type": "stream",
     "text": [
      "Epoch 0 tst: l 1.981 a 0.364  clct[1, 39] ans[20, 20] cl_acc 0.525 2.806sec\n",
      "result written at output/results.pickle\n"
     ]
    },
    {
     "name": "stdout",
     "output_type": "stream",
     "text": [
      "Epoch 1 tr: l 1.872 a 0.464  clct[9, 51] ans[31, 29] lr 0.247500 cl_acc 0.633 43.654sec(train) 4.187sec(infer)\n"
     ]
    },
    {
     "name": "stdout",
     "output_type": "stream",
     "text": [
      "Epoch 1 tst: l 1.797 a 0.482  clct[8, 32] ans[20, 20] cl_acc 0.700 2.700sec\n"
     ]
    },
    {
     "name": "stdout",
     "output_type": "stream",
     "text": [
      "Epoch 2 tr: l 1.846 a 0.495  clct[32, 28] ans[31, 29] lr 0.245025 cl_acc 0.983 43.538sec(train) 4.120sec(infer)\n"
     ]
    },
    {
     "name": "stdout",
     "output_type": "stream",
     "text": [
      "Epoch 2 tst: l 1.756 a 0.527  clct[20, 20] ans[20, 20] cl_acc 1.000 2.642sec\n"
     ]
    },
    {
     "name": "stdout",
     "output_type": "stream",
     "text": [
      "Epoch 3 tr: l 1.797 a 0.543  clct[32, 28] ans[32, 28] lr 0.242575 cl_acc 1.000 43.576sec(train) 4.126sec(infer)\n"
     ]
    },
    {
     "name": "stdout",
     "output_type": "stream",
     "text": [
      "Epoch 3 tst: l 1.667 a 0.583  clct[20, 20] ans[20, 20] cl_acc 1.000 2.756sec\n"
     ]
    },
    {
     "name": "stdout",
     "output_type": "stream",
     "text": [
      "Epoch 4 tr: l 1.670 a 0.584  clct[32, 28] ans[32, 28] lr 0.240149 cl_acc 1.000 44.050sec(train) 4.285sec(infer)\n"
     ]
    },
    {
     "name": "stdout",
     "output_type": "stream",
     "text": [
      "Epoch 4 tst: l 1.572 a 0.620  clct[20, 20] ans[20, 20] cl_acc 1.000 2.616sec\n"
     ]
    },
    {
     "name": "stdout",
     "output_type": "stream",
     "text": [
      "Epoch 5 tr: l 1.754 a 0.580  clct[24, 36] ans[24, 36] lr 0.237748 cl_acc 1.000 43.773sec(train) 4.304sec(infer)\n"
     ]
    },
    {
     "name": "stdout",
     "output_type": "stream",
     "text": [
      "Epoch 5 tst: l 1.689 a 0.604  clct[20, 20] ans[20, 20] cl_acc 1.000 2.701sec\n"
     ]
    },
    {
     "name": "stdout",
     "output_type": "stream",
     "text": [
      "Epoch 6 tr: l 1.664 a 0.602  clct[30, 30] ans[30, 30] lr 0.235370 cl_acc 1.000 43.867sec(train) 4.286sec(infer)\n"
     ]
    },
    {
     "name": "stdout",
     "output_type": "stream",
     "text": [
      "Epoch 6 tst: l 1.565 a 0.633  clct[20, 20] ans[20, 20] cl_acc 1.000 2.626sec\n"
     ]
    },
    {
     "name": "stdout",
     "output_type": "stream",
     "text": [
      "Epoch 7 tr: l 1.752 a 0.581  clct[32, 28] ans[32, 28] lr 0.233016 cl_acc 1.000 43.630sec(train) 4.367sec(infer)\n"
     ]
    },
    {
     "name": "stdout",
     "output_type": "stream",
     "text": [
      "Epoch 7 tst: l 1.627 a 0.620  clct[20, 20] ans[20, 20] cl_acc 1.000 2.687sec\n"
     ]
    },
    {
     "name": "stdout",
     "output_type": "stream",
     "text": [
      "Epoch 8 tr: l 1.699 a 0.602  clct[29, 31] ans[29, 31] lr 0.230686 cl_acc 1.000 43.783sec(train) 4.404sec(infer)\n"
     ]
    },
    {
     "name": "stdout",
     "output_type": "stream",
     "text": [
      "Epoch 8 tst: l 1.599 a 0.635  clct[20, 20] ans[20, 20] cl_acc 1.000 2.731sec\n"
     ]
    },
    {
     "name": "stdout",
     "output_type": "stream",
     "text": [
      "Epoch 9 tr: l 1.673 a 0.621  clct[31, 29] ans[31, 29] lr 0.228379 cl_acc 1.000 43.952sec(train) 4.210sec(infer)\n"
     ]
    },
    {
     "name": "stdout",
     "output_type": "stream",
     "text": [
      "Epoch 9 tst: l 1.581 a 0.650  clct[20, 20] ans[20, 20] cl_acc 1.000 2.559sec\n"
     ]
    },
    {
     "name": "stdout",
     "output_type": "stream",
     "text": [
      "Epoch 10 tr: l 1.581 a 0.645  clct[26, 34] ans[26, 34] lr 0.226096 cl_acc 1.000 43.768sec(train) 4.217sec(infer)\n"
     ]
    },
    {
     "name": "stdout",
     "output_type": "stream",
     "text": [
      "Epoch 10 tst: l 1.515 a 0.667  clct[20, 20] ans[20, 20] cl_acc 1.000 2.678sec\n",
      "result written at output/results.pickle\n"
     ]
    },
    {
     "name": "stdout",
     "output_type": "stream",
     "text": [
      "Epoch 11 tr: l 1.676 a 0.614  clct[31, 29] ans[31, 29] lr 0.223835 cl_acc 1.000 43.893sec(train) 4.306sec(infer)\n"
     ]
    },
    {
     "name": "stdout",
     "output_type": "stream",
     "text": [
      "Epoch 11 tst: l 1.575 a 0.643  clct[20, 20] ans[20, 20] cl_acc 1.000 2.742sec\n"
     ]
    },
    {
     "name": "stdout",
     "output_type": "stream",
     "text": [
      "Epoch 12 tr: l 1.568 a 0.651  clct[29, 31] ans[29, 31] lr 0.221596 cl_acc 1.000 43.879sec(train) 4.235sec(infer)\n"
     ]
    },
    {
     "name": "stdout",
     "output_type": "stream",
     "text": [
      "Epoch 12 tst: l 1.493 a 0.676  clct[20, 20] ans[20, 20] cl_acc 1.000 2.702sec\n"
     ]
    },
    {
     "name": "stdout",
     "output_type": "stream",
     "text": [
      "Epoch 13 tr: l 1.531 a 0.653  clct[27, 33] ans[27, 33] lr 0.219380 cl_acc 1.000 43.598sec(train) 4.239sec(infer)\n"
     ]
    },
    {
     "name": "stdout",
     "output_type": "stream",
     "text": [
      "Epoch 13 tst: l 1.506 a 0.670  clct[20, 20] ans[20, 20] cl_acc 1.000 2.544sec\n"
     ]
    },
    {
     "name": "stdout",
     "output_type": "stream",
     "text": [
      "Epoch 14 tr: l 1.607 a 0.643  clct[33, 27] ans[33, 27] lr 0.217186 cl_acc 1.000 43.589sec(train) 4.188sec(infer)\n"
     ]
    },
    {
     "name": "stdout",
     "output_type": "stream",
     "text": [
      "Epoch 14 tst: l 1.549 a 0.666  clct[20, 20] ans[20, 20] cl_acc 1.000 2.689sec\n"
     ]
    },
    {
     "name": "stdout",
     "output_type": "stream",
     "text": [
      "Epoch 15 tr: l 1.604 a 0.647  clct[24, 36] ans[24, 36] lr 0.215015 cl_acc 1.000 43.853sec(train) 4.252sec(infer)\n"
     ]
    },
    {
     "name": "stdout",
     "output_type": "stream",
     "text": [
      "Epoch 15 tst: l 1.513 a 0.677  clct[20, 20] ans[20, 20] cl_acc 1.000 2.638sec\n"
     ]
    },
    {
     "name": "stdout",
     "output_type": "stream",
     "text": [
      "Epoch 16 tr: l 1.541 a 0.654  clct[32, 28] ans[32, 28] lr 0.212864 cl_acc 1.000 43.691sec(train) 4.147sec(infer)\n"
     ]
    },
    {
     "name": "stdout",
     "output_type": "stream",
     "text": [
      "Epoch 16 tst: l 1.501 a 0.672  clct[20, 20] ans[20, 20] cl_acc 1.000 2.727sec\n"
     ]
    },
    {
     "name": "stdout",
     "output_type": "stream",
     "text": [
      "Epoch 17 tr: l 1.580 a 0.654  clct[28, 32] ans[28, 32] lr 0.210736 cl_acc 1.000 43.688sec(train) 4.247sec(infer)\n"
     ]
    },
    {
     "name": "stdout",
     "output_type": "stream",
     "text": [
      "Epoch 17 tst: l 1.522 a 0.679  clct[20, 20] ans[20, 20] cl_acc 1.000 2.726sec\n"
     ]
    },
    {
     "name": "stdout",
     "output_type": "stream",
     "text": [
      "Epoch 18 tr: l 1.592 a 0.654  clct[28, 32] ans[28, 32] lr 0.208628 cl_acc 1.000 43.854sec(train) 4.153sec(infer)\n"
     ]
    },
    {
     "name": "stdout",
     "output_type": "stream",
     "text": [
      "Epoch 18 tst: l 1.508 a 0.686  clct[20, 20] ans[20, 20] cl_acc 1.000 2.689sec\n"
     ]
    },
    {
     "name": "stdout",
     "output_type": "stream",
     "text": [
      "Epoch 19 tr: l 1.481 a 0.681  clct[27, 33] ans[27, 33] lr 0.206542 cl_acc 1.000 43.663sec(train) 4.219sec(infer)\n"
     ]
    },
    {
     "name": "stdout",
     "output_type": "stream",
     "text": [
      "Epoch 19 tst: l 1.440 a 0.697  clct[20, 20] ans[20, 20] cl_acc 1.000 2.661sec\n"
     ]
    },
    {
     "name": "stdout",
     "output_type": "stream",
     "text": [
      "Epoch 20 tr: l 1.540 a 0.660  clct[27, 33] ans[27, 33] lr 0.204477 cl_acc 1.000 43.957sec(train) 4.243sec(infer)\n"
     ]
    },
    {
     "name": "stdout",
     "output_type": "stream",
     "text": [
      "Epoch 20 tst: l 1.479 a 0.682  clct[20, 20] ans[20, 20] cl_acc 1.000 2.628sec\n",
      "result written at output/results.pickle\n"
     ]
    },
    {
     "name": "stdout",
     "output_type": "stream",
     "text": [
      "Epoch 21 tr: l 1.556 a 0.650  clct[33, 27] ans[33, 27] lr 0.202432 cl_acc 1.000 43.567sec(train) 4.020sec(infer)\n"
     ]
    },
    {
     "name": "stdout",
     "output_type": "stream",
     "text": [
      "Epoch 21 tst: l 1.516 a 0.675  clct[20, 20] ans[20, 20] cl_acc 1.000 2.601sec\n"
     ]
    },
    {
     "name": "stdout",
     "output_type": "stream",
     "text": [
      "Epoch 22 tr: l 1.481 a 0.672  clct[33, 27] ans[33, 27] lr 0.200408 cl_acc 1.000 43.658sec(train) 4.123sec(infer)\n"
     ]
    },
    {
     "name": "stdout",
     "output_type": "stream",
     "text": [
      "Epoch 22 tst: l 1.391 a 0.703  clct[20, 20] ans[20, 20] cl_acc 1.000 2.647sec\n"
     ]
    },
    {
     "name": "stdout",
     "output_type": "stream",
     "text": [
      "Epoch 23 tr: l 1.498 a 0.669  clct[29, 31] ans[29, 31] lr 0.198404 cl_acc 1.000 43.748sec(train) 4.215sec(infer)\n"
     ]
    },
    {
     "name": "stdout",
     "output_type": "stream",
     "text": [
      "Epoch 23 tst: l 1.431 a 0.695  clct[20, 20] ans[20, 20] cl_acc 1.000 2.736sec\n"
     ]
    },
    {
     "name": "stdout",
     "output_type": "stream",
     "text": [
      "Epoch 24 tr: l 1.523 a 0.667  clct[34, 26] ans[34, 26] lr 0.196420 cl_acc 1.000 43.574sec(train) 4.211sec(infer)\n"
     ]
    },
    {
     "name": "stdout",
     "output_type": "stream",
     "text": [
      "Epoch 24 tst: l 1.470 a 0.691  clct[20, 20] ans[20, 20] cl_acc 1.000 2.694sec\n"
     ]
    },
    {
     "name": "stdout",
     "output_type": "stream",
     "text": [
      "Epoch 25 tr: l 1.550 a 0.664  clct[34, 26] ans[34, 26] lr 0.194455 cl_acc 1.000 43.689sec(train) 4.060sec(infer)\n"
     ]
    },
    {
     "name": "stdout",
     "output_type": "stream",
     "text": [
      "Epoch 25 tst: l 1.464 a 0.692  clct[20, 20] ans[20, 20] cl_acc 1.000 2.641sec\n"
     ]
    },
    {
     "name": "stdout",
     "output_type": "stream",
     "text": [
      "Epoch 26 tr: l 1.440 a 0.681  clct[32, 28] ans[32, 28] lr 0.192511 cl_acc 1.000 43.772sec(train) 4.264sec(infer)\n"
     ]
    },
    {
     "name": "stdout",
     "output_type": "stream",
     "text": [
      "Epoch 26 tst: l 1.377 a 0.701  clct[20, 20] ans[20, 20] cl_acc 1.000 2.656sec\n"
     ]
    },
    {
     "name": "stdout",
     "output_type": "stream",
     "text": [
      "Epoch 27 tr: l 1.437 a 0.685  clct[28, 32] ans[28, 32] lr 0.190586 cl_acc 1.000 43.666sec(train) 4.298sec(infer)\n"
     ]
    },
    {
     "name": "stdout",
     "output_type": "stream",
     "text": [
      "Epoch 27 tst: l 1.379 a 0.709  clct[20, 20] ans[20, 20] cl_acc 1.000 2.757sec\n"
     ]
    },
    {
     "name": "stdout",
     "output_type": "stream",
     "text": [
      "Epoch 28 tr: l 1.362 a 0.703  clct[33, 27] ans[33, 27] lr 0.188680 cl_acc 1.000 43.661sec(train) 4.225sec(infer)\n"
     ]
    },
    {
     "name": "stdout",
     "output_type": "stream",
     "text": [
      "Epoch 28 tst: l 1.325 a 0.721  clct[20, 20] ans[20, 20] cl_acc 1.000 2.644sec\n"
     ]
    },
    {
     "name": "stdout",
     "output_type": "stream",
     "text": [
      "Epoch 29 tr: l 1.482 a 0.668  clct[35, 25] ans[35, 25] lr 0.186793 cl_acc 1.000 43.835sec(train) 4.241sec(infer)\n"
     ]
    },
    {
     "name": "stdout",
     "output_type": "stream",
     "text": [
      "Epoch 29 tst: l 1.412 a 0.698  clct[20, 20] ans[20, 20] cl_acc 1.000 2.686sec\n"
     ]
    },
    {
     "name": "stdout",
     "output_type": "stream",
     "text": [
      "Epoch 30 tr: l 1.380 a 0.703  clct[31, 29] ans[31, 29] lr 0.184925 cl_acc 1.000 43.712sec(train) 4.083sec(infer)\n"
     ]
    },
    {
     "name": "stdout",
     "output_type": "stream",
     "text": [
      "Epoch 30 tst: l 1.334 a 0.719  clct[20, 20] ans[20, 20] cl_acc 1.000 2.680sec\n",
      "result written at output/results.pickle\n"
     ]
    },
    {
     "name": "stdout",
     "output_type": "stream",
     "text": [
      "Epoch 31 tr: l 1.344 a 0.709  clct[34, 26] ans[34, 26] lr 0.183076 cl_acc 1.000 43.554sec(train) 4.227sec(infer)\n"
     ]
    },
    {
     "name": "stdout",
     "output_type": "stream",
     "text": [
      "Epoch 31 tst: l 1.312 a 0.728  clct[20, 20] ans[20, 20] cl_acc 1.000 2.612sec\n"
     ]
    },
    {
     "name": "stdout",
     "output_type": "stream",
     "text": [
      "Epoch 32 tr: l 1.469 a 0.680  clct[27, 33] ans[27, 33] lr 0.181245 cl_acc 1.000 43.823sec(train) 4.025sec(infer)\n"
     ]
    },
    {
     "name": "stdout",
     "output_type": "stream",
     "text": [
      "Epoch 32 tst: l 1.385 a 0.715  clct[20, 20] ans[20, 20] cl_acc 1.000 2.671sec\n"
     ]
    },
    {
     "name": "stdout",
     "output_type": "stream",
     "text": [
      "Epoch 33 tr: l 1.410 a 0.692  clct[29, 31] ans[29, 31] lr 0.179433 cl_acc 1.000 43.576sec(train) 4.104sec(infer)\n"
     ]
    },
    {
     "name": "stdout",
     "output_type": "stream",
     "text": [
      "Epoch 33 tst: l 1.364 a 0.705  clct[20, 20] ans[20, 20] cl_acc 1.000 2.620sec\n"
     ]
    },
    {
     "name": "stdout",
     "output_type": "stream",
     "text": [
      "Epoch 34 tr: l 1.380 a 0.701  clct[30, 30] ans[30, 30] lr 0.177638 cl_acc 1.000 43.927sec(train) 4.187sec(infer)\n"
     ]
    },
    {
     "name": "stdout",
     "output_type": "stream",
     "text": [
      "Epoch 34 tst: l 1.301 a 0.729  clct[20, 20] ans[20, 20] cl_acc 1.000 2.690sec\n"
     ]
    },
    {
     "name": "stdout",
     "output_type": "stream",
     "text": [
      "Epoch 35 tr: l 1.359 a 0.705  clct[32, 28] ans[32, 28] lr 0.175862 cl_acc 1.000 43.680sec(train) 4.080sec(infer)\n"
     ]
    },
    {
     "name": "stdout",
     "output_type": "stream",
     "text": [
      "Epoch 35 tst: l 1.320 a 0.722  clct[20, 20] ans[20, 20] cl_acc 1.000 2.498sec\n"
     ]
    },
    {
     "name": "stdout",
     "output_type": "stream",
     "text": [
      "Epoch 36 tr: l 1.347 a 0.701  clct[28, 32] ans[28, 32] lr 0.174103 cl_acc 1.000 43.642sec(train) 4.138sec(infer)\n"
     ]
    },
    {
     "name": "stdout",
     "output_type": "stream",
     "text": [
      "Epoch 36 tst: l 1.314 a 0.712  clct[20, 20] ans[20, 20] cl_acc 1.000 2.631sec\n"
     ]
    },
    {
     "name": "stdout",
     "output_type": "stream",
     "text": [
      "Epoch 37 tr: l 1.233 a 0.735  clct[31, 29] ans[31, 29] lr 0.172362 cl_acc 1.000 43.677sec(train) 4.177sec(infer)\n"
     ]
    },
    {
     "name": "stdout",
     "output_type": "stream",
     "text": [
      "Epoch 37 tst: l 1.245 a 0.734  clct[20, 20] ans[20, 20] cl_acc 1.000 2.635sec\n"
     ]
    },
    {
     "name": "stdout",
     "output_type": "stream",
     "text": [
      "Epoch 38 tr: l 1.327 a 0.704  clct[35, 25] ans[35, 25] lr 0.170639 cl_acc 1.000 43.480sec(train) 4.231sec(infer)\n"
     ]
    },
    {
     "name": "stdout",
     "output_type": "stream",
     "text": [
      "Epoch 38 tst: l 1.286 a 0.725  clct[20, 20] ans[20, 20] cl_acc 1.000 2.741sec\n"
     ]
    },
    {
     "name": "stdout",
     "output_type": "stream",
     "text": [
      "Epoch 39 tr: l 1.442 a 0.698  clct[28, 32] ans[28, 32] lr 0.168932 cl_acc 1.000 43.590sec(train) 4.222sec(infer)\n"
     ]
    },
    {
     "name": "stdout",
     "output_type": "stream",
     "text": [
      "Epoch 39 tst: l 1.447 a 0.704  clct[20, 20] ans[20, 20] cl_acc 1.000 2.767sec\n"
     ]
    },
    {
     "name": "stdout",
     "output_type": "stream",
     "text": [
      "Epoch 40 tr: l 1.338 a 0.711  clct[33, 27] ans[33, 27] lr 0.167243 cl_acc 1.000 43.694sec(train) 4.180sec(infer)\n"
     ]
    },
    {
     "name": "stdout",
     "output_type": "stream",
     "text": [
      "Epoch 40 tst: l 1.309 a 0.726  clct[20, 20] ans[20, 20] cl_acc 1.000 2.873sec\n",
      "result written at output/results.pickle\n"
     ]
    },
    {
     "name": "stdout",
     "output_type": "stream",
     "text": [
      "Epoch 41 tr: l 1.340 a 0.700  clct[31, 29] ans[31, 29] lr 0.165571 cl_acc 1.000 43.559sec(train) 4.295sec(infer)\n"
     ]
    },
    {
     "name": "stdout",
     "output_type": "stream",
     "text": [
      "Epoch 41 tst: l 1.304 a 0.722  clct[20, 20] ans[20, 20] cl_acc 1.000 2.688sec\n"
     ]
    },
    {
     "name": "stdout",
     "output_type": "stream",
     "text": [
      "Epoch 42 tr: l 1.325 a 0.718  clct[28, 32] ans[28, 32] lr 0.163915 cl_acc 1.000 43.587sec(train) 4.186sec(infer)\n"
     ]
    },
    {
     "name": "stdout",
     "output_type": "stream",
     "text": [
      "Epoch 42 tst: l 1.297 a 0.731  clct[20, 20] ans[20, 20] cl_acc 1.000 2.749sec\n"
     ]
    },
    {
     "name": "stdout",
     "output_type": "stream",
     "text": [
      "Epoch 43 tr: l 1.361 a 0.710  clct[31, 29] ans[31, 29] lr 0.162276 cl_acc 1.000 43.599sec(train) 4.308sec(infer)\n"
     ]
    },
    {
     "name": "stdout",
     "output_type": "stream",
     "text": [
      "Epoch 43 tst: l 1.342 a 0.723  clct[20, 20] ans[20, 20] cl_acc 1.000 2.606sec\n"
     ]
    },
    {
     "name": "stdout",
     "output_type": "stream",
     "text": [
      "Epoch 44 tr: l 1.316 a 0.717  clct[27, 33] ans[27, 33] lr 0.160653 cl_acc 1.000 43.820sec(train) 4.021sec(infer)\n"
     ]
    },
    {
     "name": "stdout",
     "output_type": "stream",
     "text": [
      "Epoch 44 tst: l 1.270 a 0.733  clct[20, 20] ans[20, 20] cl_acc 1.000 2.483sec\n"
     ]
    },
    {
     "name": "stdout",
     "output_type": "stream",
     "text": [
      "Epoch 45 tr: l 1.245 a 0.739  clct[36, 24] ans[36, 24] lr 0.159046 cl_acc 1.000 43.651sec(train) 3.850sec(infer)\n"
     ]
    },
    {
     "name": "stdout",
     "output_type": "stream",
     "text": [
      "Epoch 45 tst: l 1.250 a 0.740  clct[20, 20] ans[20, 20] cl_acc 1.000 2.364sec\n"
     ]
    },
    {
     "name": "stdout",
     "output_type": "stream",
     "text": [
      "Epoch 46 tr: l 1.243 a 0.731  clct[25, 35] ans[25, 35] lr 0.157456 cl_acc 1.000 43.776sec(train) 3.825sec(infer)\n"
     ]
    },
    {
     "name": "stdout",
     "output_type": "stream",
     "text": [
      "Epoch 46 tst: l 1.276 a 0.731  clct[20, 20] ans[20, 20] cl_acc 1.000 2.565sec\n"
     ]
    },
    {
     "name": "stdout",
     "output_type": "stream",
     "text": [
      "Epoch 47 tr: l 1.284 a 0.724  clct[24, 36] ans[24, 36] lr 0.155881 cl_acc 1.000 43.852sec(train) 3.925sec(infer)\n"
     ]
    },
    {
     "name": "stdout",
     "output_type": "stream",
     "text": [
      "Epoch 47 tst: l 1.299 a 0.728  clct[20, 20] ans[20, 20] cl_acc 1.000 2.486sec\n"
     ]
    },
    {
     "name": "stdout",
     "output_type": "stream",
     "text": [
      "Epoch 48 tr: l 1.287 a 0.714  clct[30, 30] ans[30, 30] lr 0.154323 cl_acc 1.000 43.674sec(train) 4.015sec(infer)\n"
     ]
    },
    {
     "name": "stdout",
     "output_type": "stream",
     "text": [
      "Epoch 48 tst: l 1.248 a 0.737  clct[20, 20] ans[20, 20] cl_acc 1.000 2.390sec\n"
     ]
    },
    {
     "name": "stdout",
     "output_type": "stream",
     "text": [
      "Epoch 49 tr: l 1.279 a 0.723  clct[30, 30] ans[30, 30] lr 0.152779 cl_acc 1.000 43.864sec(train) 4.028sec(infer)\n"
     ]
    },
    {
     "name": "stdout",
     "output_type": "stream",
     "text": [
      "Epoch 49 tst: l 1.259 a 0.734  clct[20, 20] ans[20, 20] cl_acc 1.000 2.453sec\n"
     ]
    },
    {
     "name": "stdout",
     "output_type": "stream",
     "text": [
      "Epoch 50 tr: l 1.324 a 0.708  clct[26, 34] ans[26, 34] lr 0.151252 cl_acc 1.000 43.724sec(train) 3.882sec(infer)\n"
     ]
    },
    {
     "name": "stdout",
     "output_type": "stream",
     "text": [
      "Epoch 50 tst: l 1.312 a 0.720  clct[20, 20] ans[20, 20] cl_acc 1.000 2.381sec\n",
      "result written at output/results.pickle\n"
     ]
    },
    {
     "name": "stdout",
     "output_type": "stream",
     "text": [
      "Epoch 51 tr: l 1.264 a 0.730  clct[30, 30] ans[30, 30] lr 0.149739 cl_acc 1.000 43.896sec(train) 3.761sec(infer)\n"
     ]
    },
    {
     "name": "stdout",
     "output_type": "stream",
     "text": [
      "Epoch 51 tst: l 1.271 a 0.734  clct[20, 20] ans[20, 20] cl_acc 1.000 2.443sec\n"
     ]
    },
    {
     "name": "stdout",
     "output_type": "stream",
     "text": [
      "Epoch 52 tr: l 1.290 a 0.720  clct[31, 29] ans[31, 29] lr 0.148242 cl_acc 1.000 44.274sec(train) 3.900sec(infer)\n"
     ]
    },
    {
     "name": "stdout",
     "output_type": "stream",
     "text": [
      "Epoch 52 tst: l 1.272 a 0.733  clct[20, 20] ans[20, 20] cl_acc 1.000 2.451sec\n"
     ]
    },
    {
     "name": "stdout",
     "output_type": "stream",
     "text": [
      "Epoch 53 tr: l 1.215 a 0.736  clct[26, 34] ans[26, 34] lr 0.146759 cl_acc 1.000 43.705sec(train) 3.841sec(infer)\n"
     ]
    },
    {
     "name": "stdout",
     "output_type": "stream",
     "text": [
      "Epoch 53 tst: l 1.212 a 0.745  clct[20, 20] ans[20, 20] cl_acc 1.000 2.437sec\n"
     ]
    },
    {
     "name": "stdout",
     "output_type": "stream",
     "text": [
      "Epoch 54 tr: l 1.237 a 0.730  clct[27, 33] ans[27, 33] lr 0.145292 cl_acc 1.000 43.682sec(train) 3.796sec(infer)\n"
     ]
    },
    {
     "name": "stdout",
     "output_type": "stream",
     "text": [
      "Epoch 54 tst: l 1.227 a 0.736  clct[20, 20] ans[20, 20] cl_acc 1.000 2.440sec\n"
     ]
    },
    {
     "name": "stdout",
     "output_type": "stream",
     "text": [
      "Epoch 55 tr: l 1.221 a 0.725  clct[25, 35] ans[25, 35] lr 0.143839 cl_acc 1.000 43.807sec(train) 3.843sec(infer)\n"
     ]
    },
    {
     "name": "stdout",
     "output_type": "stream",
     "text": [
      "Epoch 55 tst: l 1.170 a 0.750  clct[20, 20] ans[20, 20] cl_acc 1.000 2.382sec\n"
     ]
    },
    {
     "name": "stdout",
     "output_type": "stream",
     "text": [
      "Epoch 56 tr: l 1.216 a 0.734  clct[30, 30] ans[30, 30] lr 0.142400 cl_acc 1.000 43.365sec(train) 3.836sec(infer)\n"
     ]
    },
    {
     "name": "stdout",
     "output_type": "stream",
     "text": [
      "Epoch 56 tst: l 1.205 a 0.739  clct[20, 20] ans[20, 20] cl_acc 1.000 2.460sec\n"
     ]
    },
    {
     "name": "stdout",
     "output_type": "stream",
     "text": [
      "Epoch 57 tr: l 1.158 a 0.744  clct[30, 30] ans[30, 30] lr 0.140976 cl_acc 1.000 43.495sec(train) 3.928sec(infer)\n"
     ]
    },
    {
     "name": "stdout",
     "output_type": "stream",
     "text": [
      "Epoch 57 tst: l 1.168 a 0.748  clct[20, 20] ans[20, 20] cl_acc 1.000 2.483sec\n"
     ]
    },
    {
     "name": "stdout",
     "output_type": "stream",
     "text": [
      "Epoch 58 tr: l 1.228 a 0.731  clct[28, 32] ans[28, 32] lr 0.139567 cl_acc 1.000 43.313sec(train) 3.944sec(infer)\n"
     ]
    },
    {
     "name": "stdout",
     "output_type": "stream",
     "text": [
      "Epoch 58 tst: l 1.197 a 0.747  clct[20, 20] ans[20, 20] cl_acc 1.000 2.311sec\n"
     ]
    },
    {
     "name": "stdout",
     "output_type": "stream",
     "text": [
      "Epoch 59 tr: l 1.172 a 0.745  clct[31, 29] ans[31, 29] lr 0.138171 cl_acc 1.000 43.378sec(train) 3.801sec(infer)\n"
     ]
    },
    {
     "name": "stdout",
     "output_type": "stream",
     "text": [
      "Epoch 59 tst: l 1.168 a 0.750  clct[20, 20] ans[20, 20] cl_acc 1.000 2.321sec\n"
     ]
    },
    {
     "name": "stdout",
     "output_type": "stream",
     "text": [
      "Epoch 60 tr: l 1.274 a 0.720  clct[28, 32] ans[28, 32] lr 0.136789 cl_acc 1.000 43.439sec(train) 3.930sec(infer)\n"
     ]
    },
    {
     "name": "stdout",
     "output_type": "stream",
     "text": [
      "Epoch 60 tst: l 1.259 a 0.736  clct[20, 20] ans[20, 20] cl_acc 1.000 2.426sec\n",
      "result written at output/results.pickle\n"
     ]
    },
    {
     "name": "stdout",
     "output_type": "stream",
     "text": [
      "Epoch 61 tr: l 1.189 a 0.741  clct[29, 31] ans[29, 31] lr 0.135421 cl_acc 1.000 43.304sec(train) 3.866sec(infer)\n"
     ]
    },
    {
     "name": "stdout",
     "output_type": "stream",
     "text": [
      "Epoch 61 tst: l 1.187 a 0.747  clct[20, 20] ans[20, 20] cl_acc 1.000 2.495sec\n"
     ]
    },
    {
     "name": "stdout",
     "output_type": "stream",
     "text": [
      "Epoch 62 tr: l 1.163 a 0.747  clct[27, 33] ans[27, 33] lr 0.134067 cl_acc 1.000 43.527sec(train) 4.013sec(infer)\n"
     ]
    },
    {
     "name": "stdout",
     "output_type": "stream",
     "text": [
      "Epoch 62 tst: l 1.163 a 0.755  clct[20, 20] ans[20, 20] cl_acc 1.000 2.445sec\n"
     ]
    },
    {
     "name": "stdout",
     "output_type": "stream",
     "text": [
      "Epoch 63 tr: l 1.162 a 0.749  clct[26, 34] ans[26, 34] lr 0.132726 cl_acc 1.000 43.645sec(train) 3.942sec(infer)\n"
     ]
    },
    {
     "name": "stdout",
     "output_type": "stream",
     "text": [
      "Epoch 63 tst: l 1.170 a 0.750  clct[20, 20] ans[20, 20] cl_acc 1.000 2.565sec\n"
     ]
    },
    {
     "name": "stdout",
     "output_type": "stream",
     "text": [
      "Epoch 64 tr: l 1.177 a 0.742  clct[33, 27] ans[33, 27] lr 0.131399 cl_acc 1.000 43.586sec(train) 3.978sec(infer)\n"
     ]
    },
    {
     "name": "stdout",
     "output_type": "stream",
     "text": [
      "Epoch 64 tst: l 1.181 a 0.745  clct[20, 20] ans[20, 20] cl_acc 1.000 2.502sec\n"
     ]
    },
    {
     "name": "stdout",
     "output_type": "stream",
     "text": [
      "Epoch 65 tr: l 1.136 a 0.750  clct[26, 34] ans[26, 34] lr 0.130085 cl_acc 1.000 43.656sec(train) 4.058sec(infer)\n"
     ]
    },
    {
     "name": "stdout",
     "output_type": "stream",
     "text": [
      "Epoch 65 tst: l 1.135 a 0.756  clct[20, 20] ans[20, 20] cl_acc 1.000 2.474sec\n"
     ]
    },
    {
     "name": "stdout",
     "output_type": "stream",
     "text": [
      "Epoch 66 tr: l 1.170 a 0.743  clct[32, 28] ans[32, 28] lr 0.128784 cl_acc 1.000 43.538sec(train) 4.012sec(infer)\n"
     ]
    },
    {
     "name": "stdout",
     "output_type": "stream",
     "text": [
      "Epoch 66 tst: l 1.155 a 0.755  clct[20, 20] ans[20, 20] cl_acc 1.000 2.521sec\n"
     ]
    },
    {
     "name": "stdout",
     "output_type": "stream",
     "text": [
      "Epoch 67 tr: l 1.137 a 0.746  clct[33, 27] ans[33, 27] lr 0.127496 cl_acc 1.000 43.396sec(train) 3.946sec(infer)\n"
     ]
    },
    {
     "name": "stdout",
     "output_type": "stream",
     "text": [
      "Epoch 67 tst: l 1.122 a 0.756  clct[20, 20] ans[20, 20] cl_acc 1.000 2.528sec\n"
     ]
    },
    {
     "name": "stdout",
     "output_type": "stream",
     "text": [
      "Epoch 68 tr: l 1.159 a 0.746  clct[32, 28] ans[32, 28] lr 0.126221 cl_acc 1.000 43.344sec(train) 3.923sec(infer)\n"
     ]
    },
    {
     "name": "stdout",
     "output_type": "stream",
     "text": [
      "Epoch 68 tst: l 1.165 a 0.750  clct[20, 20] ans[20, 20] cl_acc 1.000 2.435sec\n"
     ]
    },
    {
     "name": "stdout",
     "output_type": "stream",
     "text": [
      "Epoch 69 tr: l 1.173 a 0.737  clct[29, 31] ans[29, 31] lr 0.124959 cl_acc 1.000 43.591sec(train) 3.873sec(infer)\n"
     ]
    },
    {
     "name": "stdout",
     "output_type": "stream",
     "text": [
      "Epoch 69 tst: l 1.149 a 0.750  clct[20, 20] ans[20, 20] cl_acc 1.000 2.385sec\n"
     ]
    },
    {
     "name": "stdout",
     "output_type": "stream",
     "text": [
      "Epoch 70 tr: l 1.121 a 0.751  clct[27, 33] ans[27, 33] lr 0.123710 cl_acc 1.000 43.554sec(train) 3.937sec(infer)\n"
     ]
    },
    {
     "name": "stdout",
     "output_type": "stream",
     "text": [
      "Epoch 70 tst: l 1.114 a 0.757  clct[20, 20] ans[20, 20] cl_acc 1.000 2.509sec\n",
      "result written at output/results.pickle\n"
     ]
    },
    {
     "name": "stdout",
     "output_type": "stream",
     "text": [
      "Epoch 71 tr: l 1.103 a 0.753  clct[29, 31] ans[29, 31] lr 0.122473 cl_acc 1.000 43.550sec(train) 3.995sec(infer)\n"
     ]
    },
    {
     "name": "stdout",
     "output_type": "stream",
     "text": [
      "Epoch 71 tst: l 1.140 a 0.748  clct[20, 20] ans[20, 20] cl_acc 1.000 2.555sec\n"
     ]
    },
    {
     "name": "stdout",
     "output_type": "stream",
     "text": [
      "Epoch 72 tr: l 1.107 a 0.754  clct[25, 35] ans[25, 35] lr 0.121248 cl_acc 1.000 43.345sec(train) 4.097sec(infer)\n"
     ]
    },
    {
     "name": "stdout",
     "output_type": "stream",
     "text": [
      "Epoch 72 tst: l 1.109 a 0.760  clct[20, 20] ans[20, 20] cl_acc 1.000 2.467sec\n"
     ]
    },
    {
     "name": "stdout",
     "output_type": "stream",
     "text": [
      "Epoch 73 tr: l 1.077 a 0.766  clct[34, 26] ans[34, 26] lr 0.120035 cl_acc 1.000 43.598sec(train) 3.850sec(infer)\n"
     ]
    },
    {
     "name": "stdout",
     "output_type": "stream",
     "text": [
      "Epoch 73 tst: l 1.098 a 0.766  clct[20, 20] ans[20, 20] cl_acc 1.000 2.425sec\n"
     ]
    },
    {
     "name": "stdout",
     "output_type": "stream",
     "text": [
      "Epoch 74 tr: l 1.138 a 0.746  clct[30, 30] ans[30, 30] lr 0.118835 cl_acc 1.000 43.258sec(train) 4.043sec(infer)\n"
     ]
    },
    {
     "name": "stdout",
     "output_type": "stream",
     "text": [
      "Epoch 74 tst: l 1.143 a 0.756  clct[20, 20] ans[20, 20] cl_acc 1.000 2.435sec\n"
     ]
    },
    {
     "name": "stdout",
     "output_type": "stream",
     "text": [
      "Epoch 75 tr: l 1.092 a 0.760  clct[27, 33] ans[27, 33] lr 0.117647 cl_acc 1.000 43.713sec(train) 4.038sec(infer)\n"
     ]
    },
    {
     "name": "stdout",
     "output_type": "stream",
     "text": [
      "Epoch 75 tst: l 1.096 a 0.762  clct[20, 20] ans[20, 20] cl_acc 1.000 2.519sec\n"
     ]
    },
    {
     "name": "stdout",
     "output_type": "stream",
     "text": [
      "Epoch 76 tr: l 1.118 a 0.748  clct[30, 30] ans[30, 30] lr 0.116470 cl_acc 1.000 43.606sec(train) 3.861sec(infer)\n"
     ]
    },
    {
     "name": "stdout",
     "output_type": "stream",
     "text": [
      "Epoch 76 tst: l 1.126 a 0.753  clct[20, 20] ans[20, 20] cl_acc 1.000 2.516sec\n"
     ]
    },
    {
     "name": "stdout",
     "output_type": "stream",
     "text": [
      "Epoch 77 tr: l 1.085 a 0.758  clct[25, 35] ans[25, 35] lr 0.115305 cl_acc 1.000 43.645sec(train) 4.022sec(infer)\n"
     ]
    },
    {
     "name": "stdout",
     "output_type": "stream",
     "text": [
      "Epoch 77 tst: l 1.098 a 0.762  clct[20, 20] ans[20, 20] cl_acc 1.000 2.532sec\n"
     ]
    },
    {
     "name": "stdout",
     "output_type": "stream",
     "text": [
      "Epoch 78 tr: l 1.082 a 0.760  clct[28, 32] ans[28, 32] lr 0.114152 cl_acc 1.000 43.603sec(train) 3.966sec(infer)\n"
     ]
    },
    {
     "name": "stdout",
     "output_type": "stream",
     "text": [
      "Epoch 78 tst: l 1.078 a 0.768  clct[20, 20] ans[20, 20] cl_acc 1.000 2.499sec\n"
     ]
    },
    {
     "name": "stdout",
     "output_type": "stream",
     "text": [
      "Epoch 79 tr: l 1.110 a 0.749  clct[22, 38] ans[22, 38] lr 0.113011 cl_acc 1.000 43.188sec(train) 3.930sec(infer)\n"
     ]
    },
    {
     "name": "stdout",
     "output_type": "stream",
     "text": [
      "Epoch 79 tst: l 1.133 a 0.757  clct[20, 20] ans[20, 20] cl_acc 1.000 2.449sec\n"
     ]
    },
    {
     "name": "stdout",
     "output_type": "stream",
     "text": [
      "Epoch 80 tr: l 1.080 a 0.760  clct[28, 32] ans[28, 32] lr 0.111881 cl_acc 1.000 43.345sec(train) 3.964sec(infer)\n"
     ]
    },
    {
     "name": "stdout",
     "output_type": "stream",
     "text": [
      "Epoch 80 tst: l 1.114 a 0.754  clct[20, 20] ans[20, 20] cl_acc 1.000 2.531sec\n",
      "result written at output/results.pickle\n"
     ]
    },
    {
     "name": "stdout",
     "output_type": "stream",
     "text": [
      "Epoch 81 tr: l 1.114 a 0.755  clct[31, 29] ans[31, 29] lr 0.110762 cl_acc 1.000 43.340sec(train) 4.044sec(infer)\n"
     ]
    },
    {
     "name": "stdout",
     "output_type": "stream",
     "text": [
      "Epoch 81 tst: l 1.151 a 0.755  clct[20, 20] ans[20, 20] cl_acc 1.000 2.496sec\n"
     ]
    },
    {
     "name": "stdout",
     "output_type": "stream",
     "text": [
      "Epoch 82 tr: l 1.115 a 0.749  clct[28, 32] ans[28, 32] lr 0.109654 cl_acc 1.000 43.441sec(train) 3.922sec(infer)\n"
     ]
    },
    {
     "name": "stdout",
     "output_type": "stream",
     "text": [
      "Epoch 82 tst: l 1.131 a 0.750  clct[20, 20] ans[20, 20] cl_acc 1.000 2.487sec\n"
     ]
    },
    {
     "name": "stdout",
     "output_type": "stream",
     "text": [
      "Epoch 83 tr: l 1.072 a 0.760  clct[31, 29] ans[31, 29] lr 0.108558 cl_acc 1.000 43.402sec(train) 3.980sec(infer)\n"
     ]
    },
    {
     "name": "stdout",
     "output_type": "stream",
     "text": [
      "Epoch 83 tst: l 1.110 a 0.760  clct[20, 20] ans[20, 20] cl_acc 1.000 2.421sec\n"
     ]
    },
    {
     "name": "stdout",
     "output_type": "stream",
     "text": [
      "Epoch 84 tr: l 1.073 a 0.753  clct[28, 32] ans[28, 32] lr 0.107472 cl_acc 1.000 43.319sec(train) 3.825sec(infer)\n"
     ]
    },
    {
     "name": "stdout",
     "output_type": "stream",
     "text": [
      "Epoch 84 tst: l 1.098 a 0.757  clct[20, 20] ans[20, 20] cl_acc 1.000 2.399sec\n"
     ]
    },
    {
     "name": "stdout",
     "output_type": "stream",
     "text": [
      "Epoch 85 tr: l 1.050 a 0.761  clct[34, 26] ans[34, 26] lr 0.106398 cl_acc 1.000 43.193sec(train) 3.788sec(infer)\n"
     ]
    },
    {
     "name": "stdout",
     "output_type": "stream",
     "text": [
      "Epoch 85 tst: l 1.070 a 0.767  clct[20, 20] ans[20, 20] cl_acc 1.000 2.488sec\n"
     ]
    },
    {
     "name": "stdout",
     "output_type": "stream",
     "text": [
      "Epoch 86 tr: l 1.055 a 0.761  clct[31, 29] ans[31, 29] lr 0.105334 cl_acc 1.000 43.490sec(train) 3.853sec(infer)\n"
     ]
    },
    {
     "name": "stdout",
     "output_type": "stream",
     "text": [
      "Epoch 86 tst: l 1.069 a 0.763  clct[20, 20] ans[20, 20] cl_acc 1.000 2.336sec\n"
     ]
    },
    {
     "name": "stdout",
     "output_type": "stream",
     "text": [
      "Epoch 87 tr: l 1.060 a 0.763  clct[29, 31] ans[29, 31] lr 0.104280 cl_acc 1.000 43.190sec(train) 3.852sec(infer)\n"
     ]
    },
    {
     "name": "stdout",
     "output_type": "stream",
     "text": [
      "Epoch 87 tst: l 1.083 a 0.763  clct[20, 20] ans[20, 20] cl_acc 1.000 2.428sec\n"
     ]
    },
    {
     "name": "stdout",
     "output_type": "stream",
     "text": [
      "Epoch 88 tr: l 1.057 a 0.765  clct[28, 32] ans[28, 32] lr 0.103237 cl_acc 1.000 43.312sec(train) 3.800sec(infer)\n"
     ]
    },
    {
     "name": "stdout",
     "output_type": "stream",
     "text": [
      "Epoch 88 tst: l 1.055 a 0.770  clct[20, 20] ans[20, 20] cl_acc 1.000 2.445sec\n"
     ]
    },
    {
     "name": "stdout",
     "output_type": "stream",
     "text": [
      "Epoch 89 tr: l 1.036 a 0.765  clct[29, 31] ans[29, 31] lr 0.102205 cl_acc 1.000 43.463sec(train) 3.948sec(infer)\n"
     ]
    },
    {
     "name": "stdout",
     "output_type": "stream",
     "text": [
      "Epoch 89 tst: l 1.060 a 0.765  clct[20, 20] ans[20, 20] cl_acc 1.000 2.528sec\n"
     ]
    },
    {
     "name": "stdout",
     "output_type": "stream",
     "text": [
      "Epoch 90 tr: l 1.056 a 0.759  clct[30, 30] ans[30, 30] lr 0.101183 cl_acc 1.000 43.655sec(train) 3.851sec(infer)\n"
     ]
    },
    {
     "name": "stdout",
     "output_type": "stream",
     "text": [
      "Epoch 90 tst: l 1.049 a 0.767  clct[20, 20] ans[20, 20] cl_acc 1.000 2.485sec\n",
      "result written at output/results.pickle\n"
     ]
    },
    {
     "name": "stdout",
     "output_type": "stream",
     "text": [
      "Epoch 91 tr: l 1.038 a 0.763  clct[30, 30] ans[30, 30] lr 0.100171 cl_acc 1.000 43.929sec(train) 3.863sec(infer)\n"
     ]
    },
    {
     "name": "stdout",
     "output_type": "stream",
     "text": [
      "Epoch 91 tst: l 1.039 a 0.769  clct[20, 20] ans[20, 20] cl_acc 1.000 2.490sec\n"
     ]
    },
    {
     "name": "stdout",
     "output_type": "stream",
     "text": [
      "Epoch 92 tr: l 0.998 a 0.774  clct[32, 28] ans[32, 28] lr 0.099169 cl_acc 1.000 43.927sec(train) 4.502sec(infer)\n"
     ]
    },
    {
     "name": "stdout",
     "output_type": "stream",
     "text": [
      "Epoch 92 tst: l 1.018 a 0.777  clct[20, 20] ans[20, 20] cl_acc 1.000 2.781sec\n"
     ]
    },
    {
     "name": "stdout",
     "output_type": "stream",
     "text": [
      "Epoch 93 tr: l 1.005 a 0.778  clct[27, 33] ans[27, 33] lr 0.098178 cl_acc 1.000 43.164sec(train) 4.607sec(infer)\n"
     ]
    },
    {
     "name": "stdout",
     "output_type": "stream",
     "text": [
      "Epoch 93 tst: l 1.071 a 0.769  clct[20, 20] ans[20, 20] cl_acc 1.000 2.836sec\n"
     ]
    },
    {
     "name": "stdout",
     "output_type": "stream",
     "text": [
      "Epoch 94 tr: l 1.065 a 0.758  clct[34, 26] ans[34, 26] lr 0.097196 cl_acc 1.000 43.728sec(train) 4.523sec(infer)\n"
     ]
    },
    {
     "name": "stdout",
     "output_type": "stream",
     "text": [
      "Epoch 94 tst: l 1.071 a 0.762  clct[20, 20] ans[20, 20] cl_acc 1.000 2.713sec\n"
     ]
    },
    {
     "name": "stdout",
     "output_type": "stream",
     "text": [
      "Epoch 95 tr: l 1.059 a 0.763  clct[31, 29] ans[31, 29] lr 0.096224 cl_acc 1.000 43.920sec(train) 4.384sec(infer)\n"
     ]
    },
    {
     "name": "stdout",
     "output_type": "stream",
     "text": [
      "Epoch 95 tst: l 1.113 a 0.760  clct[20, 20] ans[20, 20] cl_acc 1.000 2.640sec\n"
     ]
    },
    {
     "name": "stdout",
     "output_type": "stream",
     "text": [
      "Epoch 96 tr: l 1.026 a 0.768  clct[36, 24] ans[36, 24] lr 0.095262 cl_acc 1.000 43.867sec(train) 3.872sec(infer)\n"
     ]
    },
    {
     "name": "stdout",
     "output_type": "stream",
     "text": [
      "Epoch 96 tst: l 1.052 a 0.769  clct[20, 20] ans[20, 20] cl_acc 1.000 2.438sec\n"
     ]
    },
    {
     "name": "stdout",
     "output_type": "stream",
     "text": [
      "Epoch 97 tr: l 1.026 a 0.764  clct[26, 34] ans[26, 34] lr 0.094309 cl_acc 1.000 43.731sec(train) 3.802sec(infer)\n"
     ]
    },
    {
     "name": "stdout",
     "output_type": "stream",
     "text": [
      "Epoch 97 tst: l 1.069 a 0.761  clct[20, 20] ans[20, 20] cl_acc 1.000 2.400sec\n"
     ]
    },
    {
     "name": "stdout",
     "output_type": "stream",
     "text": [
      "Epoch 98 tr: l 0.988 a 0.777  clct[28, 32] ans[28, 32] lr 0.093366 cl_acc 1.000 43.568sec(train) 4.448sec(infer)\n"
     ]
    },
    {
     "name": "stdout",
     "output_type": "stream",
     "text": [
      "Epoch 98 tst: l 1.024 a 0.771  clct[20, 20] ans[20, 20] cl_acc 1.000 2.827sec\n"
     ]
    },
    {
     "name": "stdout",
     "output_type": "stream",
     "text": [
      "Epoch 99 tr: l 0.995 a 0.773  clct[33, 27] ans[33, 27] lr 0.092432 cl_acc 1.000 43.521sec(train) 4.437sec(infer)\n"
     ]
    },
    {
     "name": "stdout",
     "output_type": "stream",
     "text": [
      "Epoch 99 tst: l 1.035 a 0.771  clct[20, 20] ans[20, 20] cl_acc 1.000 2.775sec\n"
     ]
    },
    {
     "name": "stdout",
     "output_type": "stream",
     "text": [
      "Epoch 100 tr: l 0.979 a 0.777  clct[33, 27] ans[33, 27] lr 0.091508 cl_acc 1.000 43.806sec(train) 3.931sec(infer)\n"
     ]
    },
    {
     "name": "stdout",
     "output_type": "stream",
     "text": [
      "Epoch 100 tst: l 1.024 a 0.771  clct[20, 20] ans[20, 20] cl_acc 1.000 2.785sec\n",
      "result written at output/results.pickle\n"
     ]
    },
    {
     "name": "stdout",
     "output_type": "stream",
     "text": [
      "Epoch 101 tr: l 0.996 a 0.771  clct[26, 34] ans[26, 34] lr 0.090593 cl_acc 1.000 44.053sec(train) 4.379sec(infer)\n"
     ]
    },
    {
     "name": "stdout",
     "output_type": "stream",
     "text": [
      "Epoch 101 tst: l 1.023 a 0.773  clct[20, 20] ans[20, 20] cl_acc 1.000 2.754sec\n"
     ]
    },
    {
     "name": "stdout",
     "output_type": "stream",
     "text": [
      "Epoch 102 tr: l 1.003 a 0.775  clct[22, 38] ans[22, 38] lr 0.089687 cl_acc 1.000 44.237sec(train) 4.066sec(infer)\n"
     ]
    },
    {
     "name": "stdout",
     "output_type": "stream",
     "text": [
      "Epoch 102 tst: l 1.063 a 0.764  clct[20, 20] ans[20, 20] cl_acc 1.000 2.560sec\n"
     ]
    },
    {
     "name": "stdout",
     "output_type": "stream",
     "text": [
      "Epoch 103 tr: l 0.965 a 0.775  clct[30, 30] ans[30, 30] lr 0.088790 cl_acc 1.000 44.224sec(train) 3.902sec(infer)\n"
     ]
    },
    {
     "name": "stdout",
     "output_type": "stream",
     "text": [
      "Epoch 103 tst: l 0.986 a 0.777  clct[20, 20] ans[20, 20] cl_acc 1.000 2.435sec\n"
     ]
    },
    {
     "name": "stdout",
     "output_type": "stream",
     "text": [
      "Epoch 104 tr: l 0.944 a 0.786  clct[34, 26] ans[34, 26] lr 0.087902 cl_acc 1.000 43.653sec(train) 4.028sec(infer)\n"
     ]
    },
    {
     "name": "stdout",
     "output_type": "stream",
     "text": [
      "Epoch 104 tst: l 0.975 a 0.781  clct[20, 20] ans[20, 20] cl_acc 1.000 2.540sec\n"
     ]
    },
    {
     "name": "stdout",
     "output_type": "stream",
     "text": [
      "Epoch 105 tr: l 0.955 a 0.785  clct[29, 31] ans[29, 31] lr 0.087023 cl_acc 1.000 43.515sec(train) 4.086sec(infer)\n"
     ]
    },
    {
     "name": "stdout",
     "output_type": "stream",
     "text": [
      "Epoch 105 tst: l 0.982 a 0.783  clct[20, 20] ans[20, 20] cl_acc 1.000 2.466sec\n"
     ]
    },
    {
     "name": "stdout",
     "output_type": "stream",
     "text": [
      "Epoch 106 tr: l 0.939 a 0.781  clct[24, 36] ans[24, 36] lr 0.086153 cl_acc 1.000 43.628sec(train) 4.008sec(infer)\n"
     ]
    },
    {
     "name": "stdout",
     "output_type": "stream",
     "text": [
      "Epoch 106 tst: l 0.979 a 0.775  clct[20, 20] ans[20, 20] cl_acc 1.000 2.506sec\n"
     ]
    },
    {
     "name": "stdout",
     "output_type": "stream",
     "text": [
      "Epoch 107 tr: l 0.956 a 0.783  clct[37, 23] ans[37, 23] lr 0.085292 cl_acc 1.000 43.370sec(train) 3.819sec(infer)\n"
     ]
    },
    {
     "name": "stdout",
     "output_type": "stream",
     "text": [
      "Epoch 107 tst: l 0.993 a 0.776  clct[20, 20] ans[20, 20] cl_acc 1.000 2.411sec\n"
     ]
    },
    {
     "name": "stdout",
     "output_type": "stream",
     "text": [
      "Epoch 108 tr: l 0.956 a 0.781  clct[28, 32] ans[28, 32] lr 0.084439 cl_acc 1.000 43.281sec(train) 3.842sec(infer)\n"
     ]
    },
    {
     "name": "stdout",
     "output_type": "stream",
     "text": [
      "Epoch 108 tst: l 0.970 a 0.780  clct[20, 20] ans[20, 20] cl_acc 1.000 2.553sec\n"
     ]
    },
    {
     "name": "stdout",
     "output_type": "stream",
     "text": [
      "Epoch 109 tr: l 0.942 a 0.784  clct[30, 30] ans[30, 30] lr 0.083594 cl_acc 1.000 43.288sec(train) 3.975sec(infer)\n"
     ]
    },
    {
     "name": "stdout",
     "output_type": "stream",
     "text": [
      "Epoch 109 tst: l 0.959 a 0.781  clct[20, 20] ans[20, 20] cl_acc 1.000 2.485sec\n"
     ]
    },
    {
     "name": "stdout",
     "output_type": "stream",
     "text": [
      "Epoch 110 tr: l 1.008 a 0.763  clct[35, 25] ans[35, 25] lr 0.082758 cl_acc 1.000 43.422sec(train) 4.007sec(infer)\n"
     ]
    },
    {
     "name": "stdout",
     "output_type": "stream",
     "text": [
      "Epoch 110 tst: l 1.024 a 0.771  clct[20, 20] ans[20, 20] cl_acc 1.000 2.475sec\n",
      "result written at output/results.pickle\n"
     ]
    },
    {
     "name": "stdout",
     "output_type": "stream",
     "text": [
      "Epoch 111 tr: l 0.974 a 0.779  clct[31, 29] ans[31, 29] lr 0.081931 cl_acc 1.000 43.250sec(train) 3.841sec(infer)\n"
     ]
    },
    {
     "name": "stdout",
     "output_type": "stream",
     "text": [
      "Epoch 111 tst: l 1.025 a 0.770  clct[20, 20] ans[20, 20] cl_acc 1.000 2.431sec\n"
     ]
    },
    {
     "name": "stdout",
     "output_type": "stream",
     "text": [
      "Epoch 112 tr: l 0.931 a 0.786  clct[26, 34] ans[26, 34] lr 0.081111 cl_acc 1.000 43.413sec(train) 3.971sec(infer)\n"
     ]
    },
    {
     "name": "stdout",
     "output_type": "stream",
     "text": [
      "Epoch 112 tst: l 0.987 a 0.778  clct[20, 20] ans[20, 20] cl_acc 1.000 2.470sec\n"
     ]
    },
    {
     "name": "stdout",
     "output_type": "stream",
     "text": [
      "Epoch 113 tr: l 0.911 a 0.792  clct[28, 32] ans[28, 32] lr 0.080300 cl_acc 1.000 43.583sec(train) 4.346sec(infer)\n"
     ]
    },
    {
     "name": "stdout",
     "output_type": "stream",
     "text": [
      "Epoch 113 tst: l 0.950 a 0.788  clct[20, 20] ans[20, 20] cl_acc 1.000 2.771sec\n"
     ]
    },
    {
     "name": "stdout",
     "output_type": "stream",
     "text": [
      "Epoch 114 tr: l 0.950 a 0.780  clct[25, 35] ans[25, 35] lr 0.079497 cl_acc 1.000 43.479sec(train) 4.474sec(infer)\n"
     ]
    },
    {
     "name": "stdout",
     "output_type": "stream",
     "text": [
      "Epoch 114 tst: l 0.993 a 0.777  clct[20, 20] ans[20, 20] cl_acc 1.000 2.769sec\n"
     ]
    },
    {
     "name": "stdout",
     "output_type": "stream",
     "text": [
      "Epoch 115 tr: l 0.924 a 0.785  clct[26, 34] ans[26, 34] lr 0.078702 cl_acc 1.000 43.352sec(train) 3.942sec(infer)\n"
     ]
    },
    {
     "name": "stdout",
     "output_type": "stream",
     "text": [
      "Epoch 115 tst: l 0.980 a 0.779  clct[20, 20] ans[20, 20] cl_acc 1.000 2.364sec\n"
     ]
    },
    {
     "name": "stdout",
     "output_type": "stream",
     "text": [
      "Epoch 116 tr: l 0.965 a 0.778  clct[28, 32] ans[28, 32] lr 0.077915 cl_acc 1.000 43.251sec(train) 3.870sec(infer)\n"
     ]
    },
    {
     "name": "stdout",
     "output_type": "stream",
     "text": [
      "Epoch 116 tst: l 0.976 a 0.781  clct[20, 20] ans[20, 20] cl_acc 1.000 2.384sec\n"
     ]
    },
    {
     "name": "stdout",
     "output_type": "stream",
     "text": [
      "Epoch 117 tr: l 0.956 a 0.782  clct[25, 35] ans[25, 35] lr 0.077136 cl_acc 1.000 43.435sec(train) 3.982sec(infer)\n"
     ]
    },
    {
     "name": "stdout",
     "output_type": "stream",
     "text": [
      "Epoch 117 tst: l 0.996 a 0.778  clct[20, 20] ans[20, 20] cl_acc 1.000 2.487sec\n"
     ]
    },
    {
     "name": "stdout",
     "output_type": "stream",
     "text": [
      "Epoch 118 tr: l 0.898 a 0.795  clct[30, 30] ans[30, 30] lr 0.076365 cl_acc 1.000 43.909sec(train) 4.037sec(infer)\n"
     ]
    },
    {
     "name": "stdout",
     "output_type": "stream",
     "text": [
      "Epoch 118 tst: l 0.948 a 0.788  clct[20, 20] ans[20, 20] cl_acc 1.000 2.496sec\n"
     ]
    },
    {
     "name": "stdout",
     "output_type": "stream",
     "text": [
      "Epoch 119 tr: l 0.912 a 0.790  clct[28, 32] ans[28, 32] lr 0.075601 cl_acc 1.000 43.681sec(train) 3.942sec(infer)\n"
     ]
    },
    {
     "name": "stdout",
     "output_type": "stream",
     "text": [
      "Epoch 119 tst: l 0.967 a 0.783  clct[20, 20] ans[20, 20] cl_acc 1.000 2.466sec\n"
     ]
    },
    {
     "name": "stdout",
     "output_type": "stream",
     "text": [
      "Epoch 120 tr: l 0.909 a 0.789  clct[30, 30] ans[30, 30] lr 0.074845 cl_acc 1.000 43.482sec(train) 4.010sec(infer)\n"
     ]
    },
    {
     "name": "stdout",
     "output_type": "stream",
     "text": [
      "Epoch 120 tst: l 0.938 a 0.786  clct[20, 20] ans[20, 20] cl_acc 1.000 2.427sec\n",
      "result written at output/results.pickle\n"
     ]
    },
    {
     "name": "stdout",
     "output_type": "stream",
     "text": [
      "Epoch 121 tr: l 0.866 a 0.800  clct[27, 33] ans[27, 33] lr 0.074097 cl_acc 1.000 43.495sec(train) 3.932sec(infer)\n"
     ]
    },
    {
     "name": "stdout",
     "output_type": "stream",
     "text": [
      "Epoch 121 tst: l 0.917 a 0.787  clct[20, 20] ans[20, 20] cl_acc 1.000 2.519sec\n"
     ]
    },
    {
     "name": "stdout",
     "output_type": "stream",
     "text": [
      "Epoch 122 tr: l 0.899 a 0.797  clct[29, 31] ans[29, 31] lr 0.073356 cl_acc 1.000 43.432sec(train) 3.963sec(infer)\n"
     ]
    },
    {
     "name": "stdout",
     "output_type": "stream",
     "text": [
      "Epoch 122 tst: l 0.966 a 0.785  clct[20, 20] ans[20, 20] cl_acc 1.000 2.463sec\n"
     ]
    },
    {
     "name": "stdout",
     "output_type": "stream",
     "text": [
      "Epoch 123 tr: l 0.911 a 0.792  clct[29, 31] ans[29, 31] lr 0.072622 cl_acc 1.000 43.506sec(train) 3.942sec(infer)\n"
     ]
    },
    {
     "name": "stdout",
     "output_type": "stream",
     "text": [
      "Epoch 123 tst: l 0.968 a 0.785  clct[20, 20] ans[20, 20] cl_acc 1.000 2.518sec\n"
     ]
    },
    {
     "name": "stdout",
     "output_type": "stream",
     "text": [
      "Epoch 124 tr: l 0.900 a 0.788  clct[29, 31] ans[29, 31] lr 0.071896 cl_acc 1.000 43.691sec(train) 3.991sec(infer)\n"
     ]
    },
    {
     "name": "stdout",
     "output_type": "stream",
     "text": [
      "Epoch 124 tst: l 0.931 a 0.789  clct[20, 20] ans[20, 20] cl_acc 1.000 2.517sec\n"
     ]
    },
    {
     "name": "stdout",
     "output_type": "stream",
     "text": [
      "Epoch 125 tr: l 0.907 a 0.787  clct[30, 30] ans[30, 30] lr 0.071177 cl_acc 1.000 43.447sec(train) 3.924sec(infer)\n"
     ]
    },
    {
     "name": "stdout",
     "output_type": "stream",
     "text": [
      "Epoch 125 tst: l 0.978 a 0.774  clct[20, 20] ans[20, 20] cl_acc 1.000 2.468sec\n"
     ]
    },
    {
     "name": "stdout",
     "output_type": "stream",
     "text": [
      "Epoch 126 tr: l 0.905 a 0.789  clct[31, 29] ans[31, 29] lr 0.070465 cl_acc 1.000 43.044sec(train) 3.930sec(infer)\n"
     ]
    },
    {
     "name": "stdout",
     "output_type": "stream",
     "text": [
      "Epoch 126 tst: l 0.933 a 0.788  clct[20, 20] ans[20, 20] cl_acc 1.000 2.471sec\n"
     ]
    },
    {
     "name": "stdout",
     "output_type": "stream",
     "text": [
      "Epoch 127 tr: l 0.890 a 0.791  clct[33, 27] ans[33, 27] lr 0.069761 cl_acc 1.000 43.817sec(train) 3.918sec(infer)\n"
     ]
    },
    {
     "name": "stdout",
     "output_type": "stream",
     "text": [
      "Epoch 127 tst: l 0.922 a 0.789  clct[20, 20] ans[20, 20] cl_acc 1.000 2.420sec\n"
     ]
    },
    {
     "name": "stdout",
     "output_type": "stream",
     "text": [
      "Epoch 128 tr: l 0.875 a 0.799  clct[28, 32] ans[28, 32] lr 0.069063 cl_acc 1.000 43.658sec(train) 3.896sec(infer)\n"
     ]
    },
    {
     "name": "stdout",
     "output_type": "stream",
     "text": [
      "Epoch 128 tst: l 0.933 a 0.789  clct[20, 20] ans[20, 20] cl_acc 1.000 2.430sec\n"
     ]
    },
    {
     "name": "stdout",
     "output_type": "stream",
     "text": [
      "Epoch 129 tr: l 0.882 a 0.795  clct[31, 29] ans[31, 29] lr 0.068372 cl_acc 1.000 43.524sec(train) 3.887sec(infer)\n"
     ]
    },
    {
     "name": "stdout",
     "output_type": "stream",
     "text": [
      "Epoch 129 tst: l 0.932 a 0.790  clct[20, 20] ans[20, 20] cl_acc 1.000 2.407sec\n"
     ]
    },
    {
     "name": "stdout",
     "output_type": "stream",
     "text": [
      "Epoch 130 tr: l 0.873 a 0.796  clct[34, 26] ans[34, 26] lr 0.067689 cl_acc 1.000 43.441sec(train) 3.865sec(infer)\n"
     ]
    },
    {
     "name": "stdout",
     "output_type": "stream",
     "text": [
      "Epoch 130 tst: l 0.925 a 0.788  clct[20, 20] ans[20, 20] cl_acc 1.000 2.488sec\n",
      "result written at output/results.pickle\n"
     ]
    },
    {
     "name": "stdout",
     "output_type": "stream",
     "text": [
      "Epoch 131 tr: l 0.860 a 0.799  clct[30, 30] ans[30, 30] lr 0.067012 cl_acc 1.000 43.435sec(train) 4.515sec(infer)\n"
     ]
    },
    {
     "name": "stdout",
     "output_type": "stream",
     "text": [
      "Epoch 131 tst: l 0.930 a 0.785  clct[20, 20] ans[20, 20] cl_acc 1.000 2.868sec\n"
     ]
    },
    {
     "name": "stdout",
     "output_type": "stream",
     "text": [
      "Epoch 132 tr: l 0.874 a 0.793  clct[28, 32] ans[28, 32] lr 0.066342 cl_acc 1.000 43.036sec(train) 4.558sec(infer)\n"
     ]
    },
    {
     "name": "stdout",
     "output_type": "stream",
     "text": [
      "Epoch 132 tst: l 0.895 a 0.795  clct[20, 20] ans[20, 20] cl_acc 1.000 2.835sec\n"
     ]
    },
    {
     "name": "stdout",
     "output_type": "stream",
     "text": [
      "Epoch 133 tr: l 0.877 a 0.796  clct[29, 31] ans[29, 31] lr 0.065678 cl_acc 1.000 43.474sec(train) 3.912sec(infer)\n"
     ]
    },
    {
     "name": "stdout",
     "output_type": "stream",
     "text": [
      "Epoch 133 tst: l 0.945 a 0.784  clct[20, 20] ans[20, 20] cl_acc 1.000 2.485sec\n"
     ]
    },
    {
     "name": "stdout",
     "output_type": "stream",
     "text": [
      "Epoch 134 tr: l 0.863 a 0.798  clct[32, 28] ans[32, 28] lr 0.065021 cl_acc 1.000 43.753sec(train) 4.501sec(infer)\n"
     ]
    },
    {
     "name": "stdout",
     "output_type": "stream",
     "text": [
      "Epoch 134 tst: l 0.912 a 0.790  clct[20, 20] ans[20, 20] cl_acc 1.000 2.860sec\n"
     ]
    },
    {
     "name": "stdout",
     "output_type": "stream",
     "text": [
      "Epoch 135 tr: l 0.822 a 0.808  clct[32, 28] ans[32, 28] lr 0.064371 cl_acc 1.000 43.320sec(train) 4.468sec(infer)\n"
     ]
    },
    {
     "name": "stdout",
     "output_type": "stream",
     "text": [
      "Epoch 135 tst: l 0.895 a 0.792  clct[20, 20] ans[20, 20] cl_acc 1.000 2.837sec\n"
     ]
    },
    {
     "name": "stdout",
     "output_type": "stream",
     "text": [
      "Epoch 136 tr: l 0.842 a 0.803  clct[35, 25] ans[35, 25] lr 0.063727 cl_acc 1.000 43.550sec(train) 4.506sec(infer)\n"
     ]
    },
    {
     "name": "stdout",
     "output_type": "stream",
     "text": [
      "Epoch 136 tst: l 0.888 a 0.793  clct[20, 20] ans[20, 20] cl_acc 1.000 2.867sec\n"
     ]
    },
    {
     "name": "stdout",
     "output_type": "stream",
     "text": [
      "Epoch 137 tr: l 0.863 a 0.798  clct[30, 30] ans[30, 30] lr 0.063090 cl_acc 1.000 43.597sec(train) 3.804sec(infer)\n"
     ]
    },
    {
     "name": "stdout",
     "output_type": "stream",
     "text": [
      "Epoch 137 tst: l 0.911 a 0.791  clct[20, 20] ans[20, 20] cl_acc 1.000 2.442sec\n"
     ]
    },
    {
     "name": "stdout",
     "output_type": "stream",
     "text": [
      "Epoch 138 tr: l 0.856 a 0.799  clct[31, 29] ans[31, 29] lr 0.062459 cl_acc 1.000 44.191sec(train) 3.845sec(infer)\n"
     ]
    },
    {
     "name": "stdout",
     "output_type": "stream",
     "text": [
      "Epoch 138 tst: l 0.920 a 0.787  clct[20, 20] ans[20, 20] cl_acc 1.000 2.422sec\n"
     ]
    },
    {
     "name": "stdout",
     "output_type": "stream",
     "text": [
      "Epoch 139 tr: l 0.869 a 0.793  clct[30, 30] ans[30, 30] lr 0.061835 cl_acc 1.000 43.200sec(train) 3.847sec(infer)\n"
     ]
    },
    {
     "name": "stdout",
     "output_type": "stream",
     "text": [
      "Epoch 139 tst: l 0.911 a 0.790  clct[20, 20] ans[20, 20] cl_acc 1.000 2.453sec\n"
     ]
    },
    {
     "name": "stdout",
     "output_type": "stream",
     "text": [
      "Epoch 140 tr: l 0.837 a 0.803  clct[28, 32] ans[28, 32] lr 0.061216 cl_acc 1.000 43.506sec(train) 3.993sec(infer)\n"
     ]
    },
    {
     "name": "stdout",
     "output_type": "stream",
     "text": [
      "Epoch 140 tst: l 0.907 a 0.793  clct[20, 20] ans[20, 20] cl_acc 1.000 2.443sec\n",
      "result written at output/results.pickle\n"
     ]
    },
    {
     "name": "stdout",
     "output_type": "stream",
     "text": [
      "Epoch 141 tr: l 0.881 a 0.789  clct[33, 27] ans[33, 27] lr 0.060604 cl_acc 1.000 43.884sec(train) 4.382sec(infer)\n"
     ]
    },
    {
     "name": "stdout",
     "output_type": "stream",
     "text": [
      "Epoch 141 tst: l 0.934 a 0.782  clct[20, 20] ans[20, 20] cl_acc 1.000 2.858sec\n"
     ]
    },
    {
     "name": "stdout",
     "output_type": "stream",
     "text": [
      "Epoch 142 tr: l 0.803 a 0.814  clct[29, 31] ans[29, 31] lr 0.059998 cl_acc 1.000 43.327sec(train) 4.628sec(infer)\n"
     ]
    },
    {
     "name": "stdout",
     "output_type": "stream",
     "text": [
      "Epoch 142 tst: l 0.886 a 0.792  clct[20, 20] ans[20, 20] cl_acc 1.000 2.822sec\n"
     ]
    },
    {
     "name": "stdout",
     "output_type": "stream",
     "text": [
      "Epoch 143 tr: l 0.830 a 0.806  clct[32, 28] ans[32, 28] lr 0.059398 cl_acc 1.000 43.362sec(train) 4.627sec(infer)\n"
     ]
    },
    {
     "name": "stdout",
     "output_type": "stream",
     "text": [
      "Epoch 143 tst: l 0.900 a 0.797  clct[20, 20] ans[20, 20] cl_acc 1.000 2.897sec\n"
     ]
    },
    {
     "name": "stdout",
     "output_type": "stream",
     "text": [
      "Epoch 144 tr: l 0.859 a 0.795  clct[26, 34] ans[26, 34] lr 0.058804 cl_acc 1.000 44.089sec(train) 3.928sec(infer)\n"
     ]
    },
    {
     "name": "stdout",
     "output_type": "stream",
     "text": [
      "Epoch 144 tst: l 0.899 a 0.794  clct[20, 20] ans[20, 20] cl_acc 1.000 2.427sec\n"
     ]
    },
    {
     "name": "stdout",
     "output_type": "stream",
     "text": [
      "Epoch 145 tr: l 0.814 a 0.808  clct[33, 27] ans[33, 27] lr 0.058216 cl_acc 1.000 44.109sec(train) 3.896sec(infer)\n"
     ]
    },
    {
     "name": "stdout",
     "output_type": "stream",
     "text": [
      "Epoch 145 tst: l 0.904 a 0.789  clct[20, 20] ans[20, 20] cl_acc 1.000 2.366sec\n"
     ]
    },
    {
     "name": "stdout",
     "output_type": "stream",
     "text": [
      "Epoch 146 tr: l 0.829 a 0.803  clct[31, 29] ans[31, 29] lr 0.057634 cl_acc 1.000 43.711sec(train) 3.979sec(infer)\n"
     ]
    },
    {
     "name": "stdout",
     "output_type": "stream",
     "text": [
      "Epoch 146 tst: l 0.890 a 0.798  clct[20, 20] ans[20, 20] cl_acc 1.000 2.456sec\n"
     ]
    },
    {
     "name": "stdout",
     "output_type": "stream",
     "text": [
      "Epoch 147 tr: l 0.834 a 0.802  clct[26, 34] ans[26, 34] lr 0.057058 cl_acc 1.000 43.955sec(train) 3.942sec(infer)\n"
     ]
    },
    {
     "name": "stdout",
     "output_type": "stream",
     "text": [
      "Epoch 147 tst: l 0.884 a 0.797  clct[20, 20] ans[20, 20] cl_acc 1.000 2.521sec\n"
     ]
    },
    {
     "name": "stdout",
     "output_type": "stream",
     "text": [
      "Epoch 148 tr: l 0.791 a 0.811  clct[26, 34] ans[26, 34] lr 0.056487 cl_acc 1.000 43.697sec(train) 3.823sec(infer)\n"
     ]
    },
    {
     "name": "stdout",
     "output_type": "stream",
     "text": [
      "Epoch 148 tst: l 0.877 a 0.796  clct[20, 20] ans[20, 20] cl_acc 1.000 2.598sec\n"
     ]
    },
    {
     "name": "stdout",
     "output_type": "stream",
     "text": [
      "Epoch 149 tr: l 0.814 a 0.806  clct[33, 27] ans[33, 27] lr 0.055922 cl_acc 1.000 43.543sec(train) 3.992sec(infer)\n"
     ]
    },
    {
     "name": "stdout",
     "output_type": "stream",
     "text": [
      "Epoch 149 tst: l 0.875 a 0.794  clct[20, 20] ans[20, 20] cl_acc 1.000 2.535sec\n"
     ]
    },
    {
     "name": "stdout",
     "output_type": "stream",
     "text": [
      "Epoch 150 tr: l 0.869 a 0.793  clct[32, 28] ans[32, 28] lr 0.055363 cl_acc 1.000 43.406sec(train) 3.964sec(infer)\n"
     ]
    },
    {
     "name": "stdout",
     "output_type": "stream",
     "text": [
      "Epoch 150 tst: l 0.896 a 0.793  clct[20, 20] ans[20, 20] cl_acc 1.000 2.541sec\n",
      "result written at output/results.pickle\n"
     ]
    },
    {
     "name": "stdout",
     "output_type": "stream",
     "text": [
      "Epoch 151 tr: l 0.812 a 0.806  clct[32, 28] ans[32, 28] lr 0.054809 cl_acc 1.000 43.244sec(train) 3.936sec(infer)\n"
     ]
    },
    {
     "name": "stdout",
     "output_type": "stream",
     "text": [
      "Epoch 151 tst: l 0.902 a 0.788  clct[20, 20] ans[20, 20] cl_acc 1.000 2.433sec\n"
     ]
    },
    {
     "name": "stdout",
     "output_type": "stream",
     "text": [
      "Epoch 152 tr: l 0.829 a 0.808  clct[31, 29] ans[31, 29] lr 0.054261 cl_acc 1.000 43.365sec(train) 3.900sec(infer)\n"
     ]
    },
    {
     "name": "stdout",
     "output_type": "stream",
     "text": [
      "Epoch 152 tst: l 0.916 a 0.791  clct[20, 20] ans[20, 20] cl_acc 1.000 2.562sec\n"
     ]
    },
    {
     "name": "stdout",
     "output_type": "stream",
     "text": [
      "Epoch 153 tr: l 0.803 a 0.812  clct[29, 31] ans[29, 31] lr 0.053719 cl_acc 1.000 43.601sec(train) 3.825sec(infer)\n"
     ]
    },
    {
     "name": "stdout",
     "output_type": "stream",
     "text": [
      "Epoch 153 tst: l 0.871 a 0.796  clct[20, 20] ans[20, 20] cl_acc 1.000 2.434sec\n"
     ]
    },
    {
     "name": "stdout",
     "output_type": "stream",
     "text": [
      "Epoch 154 tr: l 0.815 a 0.810  clct[33, 27] ans[33, 27] lr 0.053181 cl_acc 1.000 43.268sec(train) 3.901sec(infer)\n"
     ]
    },
    {
     "name": "stdout",
     "output_type": "stream",
     "text": [
      "Epoch 154 tst: l 0.886 a 0.797  clct[20, 20] ans[20, 20] cl_acc 1.000 2.481sec\n"
     ]
    },
    {
     "name": "stdout",
     "output_type": "stream",
     "text": [
      "Epoch 155 tr: l 0.827 a 0.810  clct[27, 33] ans[27, 33] lr 0.052650 cl_acc 1.000 43.435sec(train) 3.916sec(infer)\n"
     ]
    },
    {
     "name": "stdout",
     "output_type": "stream",
     "text": [
      "Epoch 155 tst: l 0.890 a 0.797  clct[20, 20] ans[20, 20] cl_acc 1.000 2.457sec\n"
     ]
    },
    {
     "name": "stdout",
     "output_type": "stream",
     "text": [
      "Epoch 156 tr: l 0.820 a 0.804  clct[28, 32] ans[28, 32] lr 0.052123 cl_acc 1.000 43.450sec(train) 3.884sec(infer)\n"
     ]
    },
    {
     "name": "stdout",
     "output_type": "stream",
     "text": [
      "Epoch 156 tst: l 0.843 a 0.802  clct[20, 20] ans[20, 20] cl_acc 1.000 2.496sec\n"
     ]
    },
    {
     "name": "stdout",
     "output_type": "stream",
     "text": [
      "Epoch 157 tr: l 0.792 a 0.814  clct[29, 31] ans[29, 31] lr 0.051602 cl_acc 1.000 43.505sec(train) 3.888sec(infer)\n"
     ]
    },
    {
     "name": "stdout",
     "output_type": "stream",
     "text": [
      "Epoch 157 tst: l 0.859 a 0.801  clct[20, 20] ans[20, 20] cl_acc 1.000 2.590sec\n"
     ]
    },
    {
     "name": "stdout",
     "output_type": "stream",
     "text": [
      "Epoch 158 tr: l 0.793 a 0.815  clct[29, 31] ans[29, 31] lr 0.051086 cl_acc 1.000 43.785sec(train) 3.875sec(infer)\n"
     ]
    },
    {
     "name": "stdout",
     "output_type": "stream",
     "text": [
      "Epoch 158 tst: l 0.873 a 0.795  clct[20, 20] ans[20, 20] cl_acc 1.000 2.500sec\n"
     ]
    },
    {
     "name": "stdout",
     "output_type": "stream",
     "text": [
      "Epoch 159 tr: l 0.801 a 0.811  clct[29, 31] ans[29, 31] lr 0.050575 cl_acc 1.000 43.944sec(train) 4.407sec(infer)\n"
     ]
    },
    {
     "name": "stdout",
     "output_type": "stream",
     "text": [
      "Epoch 159 tst: l 0.876 a 0.796  clct[20, 20] ans[20, 20] cl_acc 1.000 2.732sec\n"
     ]
    },
    {
     "name": "stdout",
     "output_type": "stream",
     "text": [
      "Epoch 160 tr: l 0.796 a 0.813  clct[27, 33] ans[27, 33] lr 0.050069 cl_acc 1.000 43.755sec(train) 4.317sec(infer)\n"
     ]
    },
    {
     "name": "stdout",
     "output_type": "stream",
     "text": [
      "Epoch 160 tst: l 0.878 a 0.797  clct[20, 20] ans[20, 20] cl_acc 1.000 2.693sec\n",
      "result written at output/results.pickle\n"
     ]
    },
    {
     "name": "stdout",
     "output_type": "stream",
     "text": [
      "Epoch 161 tr: l 0.806 a 0.811  clct[26, 34] ans[26, 34] lr 0.049569 cl_acc 1.000 43.281sec(train) 4.398sec(infer)\n"
     ]
    },
    {
     "name": "stdout",
     "output_type": "stream",
     "text": [
      "Epoch 161 tst: l 0.879 a 0.794  clct[20, 20] ans[20, 20] cl_acc 1.000 2.534sec\n"
     ]
    },
    {
     "name": "stdout",
     "output_type": "stream",
     "text": [
      "Epoch 162 tr: l 0.778 a 0.818  clct[31, 29] ans[31, 29] lr 0.049073 cl_acc 1.000 44.356sec(train) 3.904sec(infer)\n"
     ]
    },
    {
     "name": "stdout",
     "output_type": "stream",
     "text": [
      "Epoch 162 tst: l 0.850 a 0.802  clct[20, 20] ans[20, 20] cl_acc 1.000 2.452sec\n"
     ]
    },
    {
     "name": "stdout",
     "output_type": "stream",
     "text": [
      "Epoch 163 tr: l 0.774 a 0.817  clct[28, 32] ans[28, 32] lr 0.048582 cl_acc 1.000 44.410sec(train) 4.188sec(infer)\n"
     ]
    },
    {
     "name": "stdout",
     "output_type": "stream",
     "text": [
      "Epoch 163 tst: l 0.862 a 0.800  clct[20, 20] ans[20, 20] cl_acc 1.000 2.426sec\n"
     ]
    },
    {
     "name": "stdout",
     "output_type": "stream",
     "text": [
      "Epoch 164 tr: l 0.826 a 0.803  clct[33, 27] ans[33, 27] lr 0.048096 cl_acc 1.000 43.747sec(train) 4.089sec(infer)\n"
     ]
    },
    {
     "name": "stdout",
     "output_type": "stream",
     "text": [
      "Epoch 164 tst: l 0.856 a 0.798  clct[20, 20] ans[20, 20] cl_acc 1.000 2.394sec\n"
     ]
    },
    {
     "name": "stdout",
     "output_type": "stream",
     "text": [
      "Epoch 165 tr: l 0.804 a 0.809  clct[29, 31] ans[29, 31] lr 0.047615 cl_acc 1.000 43.691sec(train) 3.887sec(infer)\n"
     ]
    },
    {
     "name": "stdout",
     "output_type": "stream",
     "text": [
      "Epoch 165 tst: l 0.886 a 0.794  clct[20, 20] ans[20, 20] cl_acc 1.000 2.464sec\n"
     ]
    },
    {
     "name": "stdout",
     "output_type": "stream",
     "text": [
      "Epoch 166 tr: l 0.756 a 0.820  clct[28, 32] ans[28, 32] lr 0.047139 cl_acc 1.000 43.391sec(train) 3.981sec(infer)\n"
     ]
    },
    {
     "name": "stdout",
     "output_type": "stream",
     "text": [
      "Epoch 166 tst: l 0.852 a 0.802  clct[20, 20] ans[20, 20] cl_acc 1.000 2.508sec\n"
     ]
    },
    {
     "name": "stdout",
     "output_type": "stream",
     "text": [
      "Epoch 167 tr: l 0.767 a 0.819  clct[32, 28] ans[32, 28] lr 0.046668 cl_acc 1.000 43.517sec(train) 3.834sec(infer)\n"
     ]
    },
    {
     "name": "stdout",
     "output_type": "stream",
     "text": [
      "Epoch 167 tst: l 0.859 a 0.801  clct[20, 20] ans[20, 20] cl_acc 1.000 2.375sec\n"
     ]
    },
    {
     "name": "stdout",
     "output_type": "stream",
     "text": [
      "Epoch 168 tr: l 0.789 a 0.811  clct[26, 34] ans[26, 34] lr 0.046201 cl_acc 1.000 43.427sec(train) 3.912sec(infer)\n"
     ]
    },
    {
     "name": "stdout",
     "output_type": "stream",
     "text": [
      "Epoch 168 tst: l 0.871 a 0.799  clct[20, 20] ans[20, 20] cl_acc 1.000 2.462sec\n"
     ]
    },
    {
     "name": "stdout",
     "output_type": "stream",
     "text": [
      "Epoch 169 tr: l 0.740 a 0.828  clct[32, 28] ans[32, 28] lr 0.045739 cl_acc 1.000 43.247sec(train) 4.061sec(infer)\n"
     ]
    },
    {
     "name": "stdout",
     "output_type": "stream",
     "text": [
      "Epoch 169 tst: l 0.834 a 0.806  clct[20, 20] ans[20, 20] cl_acc 1.000 2.586sec\n"
     ]
    },
    {
     "name": "stdout",
     "output_type": "stream",
     "text": [
      "Epoch 170 tr: l 0.745 a 0.822  clct[35, 25] ans[35, 25] lr 0.045282 cl_acc 1.000 43.839sec(train) 4.045sec(infer)\n"
     ]
    },
    {
     "name": "stdout",
     "output_type": "stream",
     "text": [
      "Epoch 170 tst: l 0.848 a 0.800  clct[20, 20] ans[20, 20] cl_acc 1.000 2.511sec\n",
      "result written at output/results.pickle\n"
     ]
    },
    {
     "name": "stdout",
     "output_type": "stream",
     "text": [
      "Epoch 171 tr: l 0.768 a 0.819  clct[32, 28] ans[32, 28] lr 0.044829 cl_acc 1.000 43.217sec(train) 3.962sec(infer)\n"
     ]
    },
    {
     "name": "stdout",
     "output_type": "stream",
     "text": [
      "Epoch 171 tst: l 0.821 a 0.809  clct[20, 20] ans[20, 20] cl_acc 1.000 2.442sec\n"
     ]
    },
    {
     "name": "stdout",
     "output_type": "stream",
     "text": [
      "Epoch 172 tr: l 0.737 a 0.827  clct[31, 29] ans[31, 29] lr 0.044381 cl_acc 1.000 43.618sec(train) 3.969sec(infer)\n"
     ]
    },
    {
     "name": "stdout",
     "output_type": "stream",
     "text": [
      "Epoch 172 tst: l 0.827 a 0.803  clct[20, 20] ans[20, 20] cl_acc 1.000 2.456sec\n"
     ]
    },
    {
     "name": "stdout",
     "output_type": "stream",
     "text": [
      "Epoch 173 tr: l 0.751 a 0.819  clct[28, 32] ans[28, 32] lr 0.043937 cl_acc 1.000 43.416sec(train) 3.890sec(infer)\n"
     ]
    },
    {
     "name": "stdout",
     "output_type": "stream",
     "text": [
      "Epoch 173 tst: l 0.833 a 0.805  clct[20, 20] ans[20, 20] cl_acc 1.000 2.538sec\n"
     ]
    },
    {
     "name": "stdout",
     "output_type": "stream",
     "text": [
      "Epoch 174 tr: l 0.728 a 0.830  clct[29, 31] ans[29, 31] lr 0.043497 cl_acc 1.000 43.273sec(train) 4.015sec(infer)\n"
     ]
    },
    {
     "name": "stdout",
     "output_type": "stream",
     "text": [
      "Epoch 174 tst: l 0.822 a 0.804  clct[20, 20] ans[20, 20] cl_acc 1.000 2.448sec\n"
     ]
    },
    {
     "name": "stdout",
     "output_type": "stream",
     "text": [
      "Epoch 175 tr: l 0.744 a 0.819  clct[27, 33] ans[27, 33] lr 0.043062 cl_acc 1.000 43.661sec(train) 4.387sec(infer)\n"
     ]
    },
    {
     "name": "stdout",
     "output_type": "stream",
     "text": [
      "Epoch 175 tst: l 0.844 a 0.798  clct[20, 20] ans[20, 20] cl_acc 1.000 2.835sec\n"
     ]
    },
    {
     "name": "stdout",
     "output_type": "stream",
     "text": [
      "Epoch 176 tr: l 0.759 a 0.816  clct[32, 28] ans[32, 28] lr 0.042632 cl_acc 1.000 43.686sec(train) 4.349sec(infer)\n"
     ]
    },
    {
     "name": "stdout",
     "output_type": "stream",
     "text": [
      "Epoch 176 tst: l 0.829 a 0.806  clct[20, 20] ans[20, 20] cl_acc 1.000 2.701sec\n"
     ]
    },
    {
     "name": "stdout",
     "output_type": "stream",
     "text": [
      "Epoch 177 tr: l 0.768 a 0.818  clct[29, 31] ans[29, 31] lr 0.042206 cl_acc 1.000 43.847sec(train) 3.986sec(infer)\n"
     ]
    },
    {
     "name": "stdout",
     "output_type": "stream",
     "text": [
      "Epoch 177 tst: l 0.857 a 0.802  clct[20, 20] ans[20, 20] cl_acc 1.000 2.543sec\n"
     ]
    },
    {
     "name": "stdout",
     "output_type": "stream",
     "text": [
      "Epoch 178 tr: l 0.729 a 0.829  clct[26, 34] ans[26, 34] lr 0.041783 cl_acc 1.000 43.858sec(train) 4.102sec(infer)\n"
     ]
    },
    {
     "name": "stdout",
     "output_type": "stream",
     "text": [
      "Epoch 178 tst: l 0.827 a 0.807  clct[20, 20] ans[20, 20] cl_acc 1.000 2.583sec\n"
     ]
    },
    {
     "name": "stdout",
     "output_type": "stream",
     "text": [
      "Epoch 179 tr: l 0.751 a 0.822  clct[25, 35] ans[25, 35] lr 0.041366 cl_acc 1.000 43.649sec(train) 3.997sec(infer)\n"
     ]
    },
    {
     "name": "stdout",
     "output_type": "stream",
     "text": [
      "Epoch 179 tst: l 0.838 a 0.804  clct[20, 20] ans[20, 20] cl_acc 1.000 2.416sec\n"
     ]
    },
    {
     "name": "stdout",
     "output_type": "stream",
     "text": [
      "Epoch 180 tr: l 0.736 a 0.824  clct[34, 26] ans[34, 26] lr 0.040952 cl_acc 1.000 43.820sec(train) 3.786sec(infer)\n"
     ]
    },
    {
     "name": "stdout",
     "output_type": "stream",
     "text": [
      "Epoch 180 tst: l 0.834 a 0.802  clct[20, 20] ans[20, 20] cl_acc 1.000 2.475sec\n",
      "result written at output/results.pickle\n"
     ]
    },
    {
     "name": "stdout",
     "output_type": "stream",
     "text": [
      "Epoch 181 tr: l 0.719 a 0.828  clct[30, 30] ans[30, 30] lr 0.040542 cl_acc 1.000 43.875sec(train) 3.927sec(infer)\n"
     ]
    },
    {
     "name": "stdout",
     "output_type": "stream",
     "text": [
      "Epoch 181 tst: l 0.837 a 0.804  clct[20, 20] ans[20, 20] cl_acc 1.000 2.445sec\n"
     ]
    },
    {
     "name": "stdout",
     "output_type": "stream",
     "text": [
      "Epoch 182 tr: l 0.756 a 0.819  clct[27, 33] ans[27, 33] lr 0.040137 cl_acc 1.000 43.739sec(train) 3.907sec(infer)\n"
     ]
    },
    {
     "name": "stdout",
     "output_type": "stream",
     "text": [
      "Epoch 182 tst: l 0.830 a 0.807  clct[20, 20] ans[20, 20] cl_acc 1.000 2.512sec\n"
     ]
    },
    {
     "name": "stdout",
     "output_type": "stream",
     "text": [
      "Epoch 183 tr: l 0.730 a 0.823  clct[27, 33] ans[27, 33] lr 0.039736 cl_acc 1.000 43.673sec(train) 4.009sec(infer)\n"
     ]
    },
    {
     "name": "stdout",
     "output_type": "stream",
     "text": [
      "Epoch 183 tst: l 0.806 a 0.807  clct[20, 20] ans[20, 20] cl_acc 1.000 2.528sec\n"
     ]
    },
    {
     "name": "stdout",
     "output_type": "stream",
     "text": [
      "Epoch 184 tr: l 0.719 a 0.828  clct[30, 30] ans[30, 30] lr 0.039338 cl_acc 1.000 43.558sec(train) 4.007sec(infer)\n"
     ]
    },
    {
     "name": "stdout",
     "output_type": "stream",
     "text": [
      "Epoch 184 tst: l 0.815 a 0.808  clct[20, 20] ans[20, 20] cl_acc 1.000 2.532sec\n"
     ]
    },
    {
     "name": "stdout",
     "output_type": "stream",
     "text": [
      "Epoch 185 tr: l 0.724 a 0.828  clct[24, 36] ans[24, 36] lr 0.038945 cl_acc 1.000 43.717sec(train) 3.960sec(infer)\n"
     ]
    },
    {
     "name": "stdout",
     "output_type": "stream",
     "text": [
      "Epoch 185 tst: l 0.798 a 0.814  clct[20, 20] ans[20, 20] cl_acc 1.000 2.490sec\n"
     ]
    },
    {
     "name": "stdout",
     "output_type": "stream",
     "text": [
      "Epoch 186 tr: l 0.748 a 0.819  clct[32, 28] ans[32, 28] lr 0.038555 cl_acc 1.000 43.492sec(train) 3.970sec(infer)\n"
     ]
    },
    {
     "name": "stdout",
     "output_type": "stream",
     "text": [
      "Epoch 186 tst: l 0.830 a 0.800  clct[20, 20] ans[20, 20] cl_acc 1.000 2.467sec\n"
     ]
    },
    {
     "name": "stdout",
     "output_type": "stream",
     "text": [
      "Epoch 187 tr: l 0.689 a 0.835  clct[25, 35] ans[25, 35] lr 0.038170 cl_acc 1.000 43.711sec(train) 3.937sec(infer)\n"
     ]
    },
    {
     "name": "stdout",
     "output_type": "stream",
     "text": [
      "Epoch 187 tst: l 0.823 a 0.808  clct[20, 20] ans[20, 20] cl_acc 1.000 2.515sec\n"
     ]
    },
    {
     "name": "stdout",
     "output_type": "stream",
     "text": [
      "Epoch 188 tr: l 0.726 a 0.825  clct[28, 32] ans[28, 32] lr 0.037788 cl_acc 1.000 44.061sec(train) 4.562sec(infer)\n"
     ]
    },
    {
     "name": "stdout",
     "output_type": "stream",
     "text": [
      "Epoch 188 tst: l 0.836 a 0.803  clct[20, 20] ans[20, 20] cl_acc 1.000 2.762sec\n"
     ]
    },
    {
     "name": "stdout",
     "output_type": "stream",
     "text": [
      "Epoch 189 tr: l 0.723 a 0.829  clct[25, 35] ans[25, 35] lr 0.037410 cl_acc 1.000 43.464sec(train) 4.347sec(infer)\n"
     ]
    },
    {
     "name": "stdout",
     "output_type": "stream",
     "text": [
      "Epoch 189 tst: l 0.822 a 0.808  clct[20, 20] ans[20, 20] cl_acc 1.000 2.689sec\n"
     ]
    },
    {
     "name": "stdout",
     "output_type": "stream",
     "text": [
      "Epoch 190 tr: l 0.756 a 0.818  clct[28, 32] ans[28, 32] lr 0.037036 cl_acc 1.000 43.323sec(train) 4.487sec(infer)\n"
     ]
    },
    {
     "name": "stdout",
     "output_type": "stream",
     "text": [
      "Epoch 190 tst: l 0.822 a 0.806  clct[20, 20] ans[20, 20] cl_acc 1.000 2.794sec\n",
      "result written at output/results.pickle\n"
     ]
    },
    {
     "name": "stdout",
     "output_type": "stream",
     "text": [
      "Epoch 191 tr: l 0.728 a 0.822  clct[26, 34] ans[26, 34] lr 0.036666 cl_acc 1.000 43.652sec(train) 3.902sec(infer)\n"
     ]
    },
    {
     "name": "stdout",
     "output_type": "stream",
     "text": [
      "Epoch 191 tst: l 0.815 a 0.808  clct[20, 20] ans[20, 20] cl_acc 1.000 2.383sec\n"
     ]
    },
    {
     "name": "stdout",
     "output_type": "stream",
     "text": [
      "Epoch 192 tr: l 0.693 a 0.833  clct[32, 28] ans[32, 28] lr 0.036299 cl_acc 1.000 43.707sec(train) 3.971sec(infer)\n"
     ]
    },
    {
     "name": "stdout",
     "output_type": "stream",
     "text": [
      "Epoch 192 tst: l 0.810 a 0.807  clct[20, 20] ans[20, 20] cl_acc 1.000 2.546sec\n"
     ]
    },
    {
     "name": "stdout",
     "output_type": "stream",
     "text": [
      "Epoch 193 tr: l 0.679 a 0.839  clct[31, 29] ans[31, 29] lr 0.035936 cl_acc 1.000 43.257sec(train) 3.814sec(infer)\n"
     ]
    },
    {
     "name": "stdout",
     "output_type": "stream",
     "text": [
      "Epoch 193 tst: l 0.805 a 0.809  clct[20, 20] ans[20, 20] cl_acc 1.000 2.545sec\n"
     ]
    },
    {
     "name": "stdout",
     "output_type": "stream",
     "text": [
      "Epoch 194 tr: l 0.677 a 0.839  clct[34, 26] ans[34, 26] lr 0.035577 cl_acc 1.000 43.486sec(train) 4.035sec(infer)\n"
     ]
    },
    {
     "name": "stdout",
     "output_type": "stream",
     "text": [
      "Epoch 194 tst: l 0.816 a 0.807  clct[20, 20] ans[20, 20] cl_acc 1.000 2.407sec\n"
     ]
    },
    {
     "name": "stdout",
     "output_type": "stream",
     "text": [
      "Epoch 195 tr: l 0.720 a 0.828  clct[31, 29] ans[31, 29] lr 0.035221 cl_acc 1.000 43.528sec(train) 3.839sec(infer)\n"
     ]
    },
    {
     "name": "stdout",
     "output_type": "stream",
     "text": [
      "Epoch 195 tst: l 0.798 a 0.810  clct[20, 20] ans[20, 20] cl_acc 1.000 2.424sec\n"
     ]
    },
    {
     "name": "stdout",
     "output_type": "stream",
     "text": [
      "Epoch 196 tr: l 0.712 a 0.829  clct[25, 35] ans[25, 35] lr 0.034869 cl_acc 1.000 43.300sec(train) 3.807sec(infer)\n"
     ]
    },
    {
     "name": "stdout",
     "output_type": "stream",
     "text": [
      "Epoch 196 tst: l 0.802 a 0.808  clct[20, 20] ans[20, 20] cl_acc 1.000 2.424sec\n"
     ]
    },
    {
     "name": "stdout",
     "output_type": "stream",
     "text": [
      "Epoch 197 tr: l 0.685 a 0.837  clct[32, 28] ans[32, 28] lr 0.034520 cl_acc 1.000 43.193sec(train) 3.954sec(infer)\n"
     ]
    },
    {
     "name": "stdout",
     "output_type": "stream",
     "text": [
      "Epoch 197 tst: l 0.796 a 0.810  clct[20, 20] ans[20, 20] cl_acc 1.000 2.482sec\n"
     ]
    },
    {
     "name": "stdout",
     "output_type": "stream",
     "text": [
      "Epoch 198 tr: l 0.697 a 0.832  clct[31, 29] ans[31, 29] lr 0.034175 cl_acc 1.000 43.128sec(train) 3.991sec(infer)\n"
     ]
    },
    {
     "name": "stdout",
     "output_type": "stream",
     "text": [
      "Epoch 198 tst: l 0.799 a 0.812  clct[20, 20] ans[20, 20] cl_acc 1.000 2.586sec\n"
     ]
    },
    {
     "name": "stdout",
     "output_type": "stream",
     "text": [
      "Epoch 199 tr: l 0.688 a 0.833  clct[27, 33] ans[27, 33] lr 0.033833 cl_acc 1.000 43.367sec(train) 4.045sec(infer)\n"
     ]
    },
    {
     "name": "stdout",
     "output_type": "stream",
     "text": [
      "Epoch 199 tst: l 0.803 a 0.806  clct[20, 20] ans[20, 20] cl_acc 1.000 2.456sec\n"
     ]
    },
    {
     "name": "stdout",
     "output_type": "stream",
     "text": [
      "Epoch 200 tr: l 0.693 a 0.835  clct[29, 31] ans[29, 31] lr 0.033495 cl_acc 1.000 43.221sec(train) 4.113sec(infer)\n"
     ]
    },
    {
     "name": "stdout",
     "output_type": "stream",
     "text": [
      "Epoch 200 tst: l 0.794 a 0.811  clct[20, 20] ans[20, 20] cl_acc 1.000 2.476sec\n",
      "result written at output/results.pickle\n"
     ]
    },
    {
     "name": "stdout",
     "output_type": "stream",
     "text": [
      "Epoch 201 tr: l 0.664 a 0.844  clct[30, 30] ans[30, 30] lr 0.033160 cl_acc 1.000 43.133sec(train) 3.874sec(infer)\n"
     ]
    },
    {
     "name": "stdout",
     "output_type": "stream",
     "text": [
      "Epoch 201 tst: l 0.783 a 0.811  clct[20, 20] ans[20, 20] cl_acc 1.000 2.515sec\n"
     ]
    },
    {
     "name": "stdout",
     "output_type": "stream",
     "text": [
      "Epoch 202 tr: l 0.706 a 0.829  clct[26, 34] ans[26, 34] lr 0.032828 cl_acc 1.000 43.410sec(train) 3.946sec(infer)\n"
     ]
    },
    {
     "name": "stdout",
     "output_type": "stream",
     "text": [
      "Epoch 202 tst: l 0.787 a 0.810  clct[20, 20] ans[20, 20] cl_acc 1.000 2.442sec\n"
     ]
    },
    {
     "name": "stdout",
     "output_type": "stream",
     "text": [
      "Epoch 203 tr: l 0.672 a 0.841  clct[27, 33] ans[27, 33] lr 0.032500 cl_acc 1.000 43.606sec(train) 3.793sec(infer)\n"
     ]
    },
    {
     "name": "stdout",
     "output_type": "stream",
     "text": [
      "Epoch 203 tst: l 0.778 a 0.817  clct[20, 20] ans[20, 20] cl_acc 1.000 2.461sec\n"
     ]
    },
    {
     "name": "stdout",
     "output_type": "stream",
     "text": [
      "Epoch 204 tr: l 0.691 a 0.834  clct[28, 32] ans[28, 32] lr 0.032175 cl_acc 1.000 43.438sec(train) 3.925sec(infer)\n"
     ]
    },
    {
     "name": "stdout",
     "output_type": "stream",
     "text": [
      "Epoch 204 tst: l 0.787 a 0.816  clct[20, 20] ans[20, 20] cl_acc 1.000 2.358sec\n"
     ]
    },
    {
     "name": "stdout",
     "output_type": "stream",
     "text": [
      "Epoch 205 tr: l 0.677 a 0.837  clct[21, 39] ans[21, 39] lr 0.031853 cl_acc 1.000 43.547sec(train) 3.864sec(infer)\n"
     ]
    },
    {
     "name": "stdout",
     "output_type": "stream",
     "text": [
      "Epoch 205 tst: l 0.777 a 0.814  clct[20, 20] ans[20, 20] cl_acc 1.000 2.552sec\n"
     ]
    },
    {
     "name": "stdout",
     "output_type": "stream",
     "text": [
      "Epoch 206 tr: l 0.683 a 0.835  clct[28, 32] ans[28, 32] lr 0.031535 cl_acc 1.000 43.402sec(train) 3.862sec(infer)\n"
     ]
    },
    {
     "name": "stdout",
     "output_type": "stream",
     "text": [
      "Epoch 206 tst: l 0.802 a 0.809  clct[20, 20] ans[20, 20] cl_acc 1.000 2.527sec\n"
     ]
    },
    {
     "name": "stdout",
     "output_type": "stream",
     "text": [
      "Epoch 207 tr: l 0.664 a 0.841  clct[32, 28] ans[32, 28] lr 0.031219 cl_acc 1.000 43.383sec(train) 3.955sec(infer)\n"
     ]
    },
    {
     "name": "stdout",
     "output_type": "stream",
     "text": [
      "Epoch 207 tst: l 0.774 a 0.814  clct[20, 20] ans[20, 20] cl_acc 1.000 2.485sec\n"
     ]
    },
    {
     "name": "stdout",
     "output_type": "stream",
     "text": [
      "Epoch 208 tr: l 0.691 a 0.834  clct[29, 31] ans[29, 31] lr 0.030907 cl_acc 1.000 43.864sec(train) 4.006sec(infer)\n"
     ]
    },
    {
     "name": "stdout",
     "output_type": "stream",
     "text": [
      "Epoch 208 tst: l 0.803 a 0.810  clct[20, 20] ans[20, 20] cl_acc 1.000 2.417sec\n"
     ]
    },
    {
     "name": "stdout",
     "output_type": "stream",
     "text": [
      "Epoch 209 tr: l 0.637 a 0.848  clct[29, 31] ans[29, 31] lr 0.030598 cl_acc 1.000 43.485sec(train) 3.980sec(infer)\n"
     ]
    },
    {
     "name": "stdout",
     "output_type": "stream",
     "text": [
      "Epoch 209 tst: l 0.756 a 0.818  clct[20, 20] ans[20, 20] cl_acc 1.000 2.448sec\n"
     ]
    },
    {
     "name": "stdout",
     "output_type": "stream",
     "text": [
      "Epoch 210 tr: l 0.670 a 0.840  clct[32, 28] ans[32, 28] lr 0.030292 cl_acc 1.000 43.786sec(train) 4.009sec(infer)\n"
     ]
    },
    {
     "name": "stdout",
     "output_type": "stream",
     "text": [
      "Epoch 210 tst: l 0.765 a 0.815  clct[20, 20] ans[20, 20] cl_acc 1.000 2.536sec\n",
      "result written at output/results.pickle\n"
     ]
    },
    {
     "name": "stdout",
     "output_type": "stream",
     "text": [
      "Epoch 211 tr: l 0.646 a 0.844  clct[30, 30] ans[30, 30] lr 0.029989 cl_acc 1.000 43.563sec(train) 4.030sec(infer)\n"
     ]
    },
    {
     "name": "stdout",
     "output_type": "stream",
     "text": [
      "Epoch 211 tst: l 0.778 a 0.814  clct[20, 20] ans[20, 20] cl_acc 1.000 2.524sec\n"
     ]
    },
    {
     "name": "stdout",
     "output_type": "stream",
     "text": [
      "Epoch 212 tr: l 0.644 a 0.847  clct[35, 25] ans[35, 25] lr 0.029689 cl_acc 1.000 43.383sec(train) 4.022sec(infer)\n"
     ]
    },
    {
     "name": "stdout",
     "output_type": "stream",
     "text": [
      "Epoch 212 tst: l 0.783 a 0.813  clct[20, 20] ans[20, 20] cl_acc 1.000 2.530sec\n"
     ]
    },
    {
     "name": "stdout",
     "output_type": "stream",
     "text": [
      "Epoch 213 tr: l 0.668 a 0.841  clct[28, 32] ans[28, 32] lr 0.029392 cl_acc 1.000 43.061sec(train) 3.898sec(infer)\n"
     ]
    },
    {
     "name": "stdout",
     "output_type": "stream",
     "text": [
      "Epoch 213 tst: l 0.769 a 0.816  clct[20, 20] ans[20, 20] cl_acc 1.000 2.562sec\n"
     ]
    },
    {
     "name": "stdout",
     "output_type": "stream",
     "text": [
      "Epoch 214 tr: l 0.657 a 0.845  clct[25, 35] ans[25, 35] lr 0.029099 cl_acc 1.000 43.451sec(train) 4.024sec(infer)\n"
     ]
    },
    {
     "name": "stdout",
     "output_type": "stream",
     "text": [
      "Epoch 214 tst: l 0.766 a 0.818  clct[20, 20] ans[20, 20] cl_acc 1.000 2.579sec\n"
     ]
    },
    {
     "name": "stdout",
     "output_type": "stream",
     "text": [
      "Epoch 215 tr: l 0.649 a 0.843  clct[29, 31] ans[29, 31] lr 0.028808 cl_acc 1.000 43.529sec(train) 4.037sec(infer)\n"
     ]
    },
    {
     "name": "stdout",
     "output_type": "stream",
     "text": [
      "Epoch 215 tst: l 0.772 a 0.816  clct[20, 20] ans[20, 20] cl_acc 1.000 2.524sec\n"
     ]
    },
    {
     "name": "stdout",
     "output_type": "stream",
     "text": [
      "Epoch 216 tr: l 0.663 a 0.843  clct[29, 31] ans[29, 31] lr 0.028520 cl_acc 1.000 43.422sec(train) 4.048sec(infer)\n"
     ]
    },
    {
     "name": "stdout",
     "output_type": "stream",
     "text": [
      "Epoch 216 tst: l 0.769 a 0.818  clct[20, 20] ans[20, 20] cl_acc 1.000 2.504sec\n"
     ]
    },
    {
     "name": "stdout",
     "output_type": "stream",
     "text": [
      "Epoch 217 tr: l 0.636 a 0.850  clct[27, 33] ans[27, 33] lr 0.028234 cl_acc 1.000 43.558sec(train) 3.973sec(infer)\n"
     ]
    },
    {
     "name": "stdout",
     "output_type": "stream",
     "text": [
      "Epoch 217 tst: l 0.774 a 0.814  clct[20, 20] ans[20, 20] cl_acc 1.000 2.516sec\n"
     ]
    },
    {
     "name": "stdout",
     "output_type": "stream",
     "text": [
      "Epoch 218 tr: l 0.673 a 0.835  clct[37, 23] ans[37, 23] lr 0.027952 cl_acc 1.000 43.670sec(train) 3.854sec(infer)\n"
     ]
    },
    {
     "name": "stdout",
     "output_type": "stream",
     "text": [
      "Epoch 218 tst: l 0.772 a 0.813  clct[20, 20] ans[20, 20] cl_acc 1.000 2.462sec\n"
     ]
    },
    {
     "name": "stdout",
     "output_type": "stream",
     "text": [
      "Epoch 219 tr: l 0.659 a 0.841  clct[35, 25] ans[35, 25] lr 0.027672 cl_acc 1.000 43.405sec(train) 4.013sec(infer)\n"
     ]
    },
    {
     "name": "stdout",
     "output_type": "stream",
     "text": [
      "Epoch 219 tst: l 0.785 a 0.813  clct[20, 20] ans[20, 20] cl_acc 1.000 2.597sec\n"
     ]
    },
    {
     "name": "stdout",
     "output_type": "stream",
     "text": [
      "Epoch 220 tr: l 0.644 a 0.846  clct[21, 39] ans[21, 39] lr 0.027396 cl_acc 1.000 43.547sec(train) 4.108sec(infer)\n"
     ]
    },
    {
     "name": "stdout",
     "output_type": "stream",
     "text": [
      "Epoch 220 tst: l 0.765 a 0.815  clct[20, 20] ans[20, 20] cl_acc 1.000 2.453sec\n",
      "result written at output/results.pickle\n"
     ]
    },
    {
     "name": "stdout",
     "output_type": "stream",
     "text": [
      "Epoch 221 tr: l 0.665 a 0.839  clct[26, 34] ans[26, 34] lr 0.027122 cl_acc 1.000 43.665sec(train) 4.069sec(infer)\n"
     ]
    },
    {
     "name": "stdout",
     "output_type": "stream",
     "text": [
      "Epoch 221 tst: l 0.785 a 0.817  clct[20, 20] ans[20, 20] cl_acc 1.000 2.519sec\n"
     ]
    },
    {
     "name": "stdout",
     "output_type": "stream",
     "text": [
      "Epoch 222 tr: l 0.625 a 0.847  clct[33, 27] ans[33, 27] lr 0.026851 cl_acc 1.000 43.599sec(train) 3.943sec(infer)\n"
     ]
    },
    {
     "name": "stdout",
     "output_type": "stream",
     "text": [
      "Epoch 222 tst: l 0.765 a 0.817  clct[20, 20] ans[20, 20] cl_acc 1.000 2.577sec\n"
     ]
    },
    {
     "name": "stdout",
     "output_type": "stream",
     "text": [
      "Epoch 223 tr: l 0.644 a 0.843  clct[35, 25] ans[35, 25] lr 0.026582 cl_acc 1.000 43.466sec(train) 3.751sec(infer)\n"
     ]
    },
    {
     "name": "stdout",
     "output_type": "stream",
     "text": [
      "Epoch 223 tst: l 0.760 a 0.818  clct[20, 20] ans[20, 20] cl_acc 1.000 2.454sec\n"
     ]
    },
    {
     "name": "stdout",
     "output_type": "stream",
     "text": [
      "Epoch 224 tr: l 0.653 a 0.842  clct[27, 33] ans[27, 33] lr 0.026316 cl_acc 1.000 43.445sec(train) 3.887sec(infer)\n"
     ]
    },
    {
     "name": "stdout",
     "output_type": "stream",
     "text": [
      "Epoch 224 tst: l 0.784 a 0.811  clct[20, 20] ans[20, 20] cl_acc 1.000 2.430sec\n"
     ]
    },
    {
     "name": "stdout",
     "output_type": "stream",
     "text": [
      "Epoch 225 tr: l 0.639 a 0.845  clct[31, 29] ans[31, 29] lr 0.026053 cl_acc 1.000 43.477sec(train) 3.840sec(infer)\n"
     ]
    },
    {
     "name": "stdout",
     "output_type": "stream",
     "text": [
      "Epoch 225 tst: l 0.777 a 0.815  clct[20, 20] ans[20, 20] cl_acc 1.000 2.490sec\n"
     ]
    },
    {
     "name": "stdout",
     "output_type": "stream",
     "text": [
      "Epoch 226 tr: l 0.620 a 0.851  clct[33, 27] ans[33, 27] lr 0.025793 cl_acc 1.000 43.284sec(train) 3.769sec(infer)\n"
     ]
    },
    {
     "name": "stdout",
     "output_type": "stream",
     "text": [
      "Epoch 226 tst: l 0.770 a 0.819  clct[20, 20] ans[20, 20] cl_acc 1.000 2.440sec\n"
     ]
    },
    {
     "name": "stdout",
     "output_type": "stream",
     "text": [
      "Epoch 227 tr: l 0.632 a 0.847  clct[34, 26] ans[34, 26] lr 0.025535 cl_acc 1.000 43.450sec(train) 3.894sec(infer)\n"
     ]
    },
    {
     "name": "stdout",
     "output_type": "stream",
     "text": [
      "Epoch 227 tst: l 0.768 a 0.815  clct[20, 20] ans[20, 20] cl_acc 1.000 2.471sec\n"
     ]
    },
    {
     "name": "stdout",
     "output_type": "stream",
     "text": [
      "Epoch 228 tr: l 0.599 a 0.859  clct[25, 35] ans[25, 35] lr 0.025279 cl_acc 1.000 43.385sec(train) 3.902sec(infer)\n"
     ]
    },
    {
     "name": "stdout",
     "output_type": "stream",
     "text": [
      "Epoch 228 tst: l 0.754 a 0.822  clct[20, 20] ans[20, 20] cl_acc 1.000 2.429sec\n"
     ]
    },
    {
     "name": "stdout",
     "output_type": "stream",
     "text": [
      "Epoch 229 tr: l 0.610 a 0.853  clct[28, 32] ans[28, 32] lr 0.025026 cl_acc 1.000 43.357sec(train) 3.859sec(infer)\n"
     ]
    },
    {
     "name": "stdout",
     "output_type": "stream",
     "text": [
      "Epoch 229 tst: l 0.772 a 0.816  clct[20, 20] ans[20, 20] cl_acc 1.000 2.441sec\n"
     ]
    },
    {
     "name": "stdout",
     "output_type": "stream",
     "text": [
      "Epoch 230 tr: l 0.652 a 0.845  clct[28, 32] ans[28, 32] lr 0.024776 cl_acc 1.000 43.544sec(train) 3.913sec(infer)\n"
     ]
    },
    {
     "name": "stdout",
     "output_type": "stream",
     "text": [
      "Epoch 230 tst: l 0.770 a 0.818  clct[20, 20] ans[20, 20] cl_acc 1.000 2.475sec\n",
      "result written at output/results.pickle\n"
     ]
    },
    {
     "name": "stdout",
     "output_type": "stream",
     "text": [
      "Epoch 231 tr: l 0.642 a 0.845  clct[35, 25] ans[35, 25] lr 0.024528 cl_acc 1.000 43.607sec(train) 3.945sec(infer)\n"
     ]
    },
    {
     "name": "stdout",
     "output_type": "stream",
     "text": [
      "Epoch 231 tst: l 0.766 a 0.816  clct[20, 20] ans[20, 20] cl_acc 1.000 2.540sec\n"
     ]
    },
    {
     "name": "stdout",
     "output_type": "stream",
     "text": [
      "Epoch 232 tr: l 0.610 a 0.856  clct[30, 30] ans[30, 30] lr 0.024283 cl_acc 1.000 43.431sec(train) 4.036sec(infer)\n"
     ]
    },
    {
     "name": "stdout",
     "output_type": "stream",
     "text": [
      "Epoch 232 tst: l 0.750 a 0.822  clct[20, 20] ans[20, 20] cl_acc 1.000 2.411sec\n"
     ]
    },
    {
     "name": "stdout",
     "output_type": "stream",
     "text": [
      "Epoch 233 tr: l 0.626 a 0.848  clct[34, 26] ans[34, 26] lr 0.024040 cl_acc 1.000 43.399sec(train) 4.020sec(infer)\n"
     ]
    },
    {
     "name": "stdout",
     "output_type": "stream",
     "text": [
      "Epoch 233 tst: l 0.753 a 0.819  clct[20, 20] ans[20, 20] cl_acc 1.000 2.558sec\n"
     ]
    },
    {
     "name": "stdout",
     "output_type": "stream",
     "text": [
      "Epoch 234 tr: l 0.594 a 0.856  clct[32, 28] ans[32, 28] lr 0.023800 cl_acc 1.000 43.702sec(train) 3.990sec(infer)\n"
     ]
    },
    {
     "name": "stdout",
     "output_type": "stream",
     "text": [
      "Epoch 234 tst: l 0.742 a 0.821  clct[20, 20] ans[20, 20] cl_acc 1.000 2.506sec\n"
     ]
    },
    {
     "name": "stdout",
     "output_type": "stream",
     "text": [
      "Epoch 235 tr: l 0.622 a 0.854  clct[27, 33] ans[27, 33] lr 0.023562 cl_acc 1.000 43.824sec(train) 3.804sec(infer)\n"
     ]
    },
    {
     "name": "stdout",
     "output_type": "stream",
     "text": [
      "Epoch 235 tst: l 0.770 a 0.818  clct[20, 20] ans[20, 20] cl_acc 1.000 2.393sec\n"
     ]
    },
    {
     "name": "stdout",
     "output_type": "stream",
     "text": [
      "Epoch 236 tr: l 0.623 a 0.848  clct[26, 34] ans[26, 34] lr 0.023326 cl_acc 1.000 43.471sec(train) 3.938sec(infer)\n"
     ]
    },
    {
     "name": "stdout",
     "output_type": "stream",
     "text": [
      "Epoch 236 tst: l 0.744 a 0.817  clct[20, 20] ans[20, 20] cl_acc 1.000 2.473sec\n"
     ]
    },
    {
     "name": "stdout",
     "output_type": "stream",
     "text": [
      "Epoch 237 tr: l 0.621 a 0.850  clct[30, 30] ans[30, 30] lr 0.023093 cl_acc 1.000 43.384sec(train) 4.001sec(infer)\n"
     ]
    },
    {
     "name": "stdout",
     "output_type": "stream",
     "text": [
      "Epoch 237 tst: l 0.746 a 0.821  clct[20, 20] ans[20, 20] cl_acc 1.000 2.378sec\n"
     ]
    },
    {
     "name": "stdout",
     "output_type": "stream",
     "text": [
      "Epoch 238 tr: l 0.572 a 0.865  clct[30, 30] ans[30, 30] lr 0.022862 cl_acc 1.000 43.720sec(train) 3.912sec(infer)\n"
     ]
    },
    {
     "name": "stdout",
     "output_type": "stream",
     "text": [
      "Epoch 238 tst: l 0.745 a 0.817  clct[20, 20] ans[20, 20] cl_acc 1.000 2.546sec\n"
     ]
    },
    {
     "name": "stdout",
     "output_type": "stream",
     "text": [
      "Epoch 239 tr: l 0.610 a 0.852  clct[28, 32] ans[28, 32] lr 0.022633 cl_acc 1.000 43.988sec(train) 3.841sec(infer)\n"
     ]
    },
    {
     "name": "stdout",
     "output_type": "stream",
     "text": [
      "Epoch 239 tst: l 0.742 a 0.819  clct[20, 20] ans[20, 20] cl_acc 1.000 2.506sec\n"
     ]
    },
    {
     "name": "stdout",
     "output_type": "stream",
     "text": [
      "Epoch 240 tr: l 0.596 a 0.857  clct[23, 37] ans[23, 37] lr 0.022407 cl_acc 1.000 43.903sec(train) 3.807sec(infer)\n"
     ]
    },
    {
     "name": "stdout",
     "output_type": "stream",
     "text": [
      "Epoch 240 tst: l 0.729 a 0.822  clct[20, 20] ans[20, 20] cl_acc 1.000 2.513sec\n",
      "result written at output/results.pickle\n"
     ]
    },
    {
     "name": "stdout",
     "output_type": "stream",
     "text": [
      "Epoch 241 tr: l 0.608 a 0.851  clct[28, 32] ans[28, 32] lr 0.022183 cl_acc 1.000 44.193sec(train) 3.856sec(infer)\n"
     ]
    },
    {
     "name": "stdout",
     "output_type": "stream",
     "text": [
      "Epoch 241 tst: l 0.738 a 0.820  clct[20, 20] ans[20, 20] cl_acc 1.000 2.475sec\n"
     ]
    },
    {
     "name": "stdout",
     "output_type": "stream",
     "text": [
      "Epoch 242 tr: l 0.609 a 0.853  clct[29, 31] ans[29, 31] lr 0.021961 cl_acc 1.000 43.762sec(train) 3.843sec(infer)\n"
     ]
    },
    {
     "name": "stdout",
     "output_type": "stream",
     "text": [
      "Epoch 242 tst: l 0.733 a 0.821  clct[20, 20] ans[20, 20] cl_acc 1.000 2.417sec\n"
     ]
    },
    {
     "name": "stdout",
     "output_type": "stream",
     "text": [
      "Epoch 243 tr: l 0.604 a 0.854  clct[31, 29] ans[31, 29] lr 0.021742 cl_acc 1.000 43.639sec(train) 3.887sec(infer)\n"
     ]
    },
    {
     "name": "stdout",
     "output_type": "stream",
     "text": [
      "Epoch 243 tst: l 0.743 a 0.823  clct[20, 20] ans[20, 20] cl_acc 1.000 2.450sec\n"
     ]
    },
    {
     "name": "stdout",
     "output_type": "stream",
     "text": [
      "Epoch 244 tr: l 0.584 a 0.861  clct[33, 27] ans[33, 27] lr 0.021524 cl_acc 1.000 44.387sec(train) 3.897sec(infer)\n"
     ]
    },
    {
     "name": "stdout",
     "output_type": "stream",
     "text": [
      "Epoch 244 tst: l 0.758 a 0.822  clct[20, 20] ans[20, 20] cl_acc 1.000 2.567sec\n"
     ]
    },
    {
     "name": "stdout",
     "output_type": "stream",
     "text": [
      "Epoch 245 tr: l 0.592 a 0.854  clct[29, 31] ans[29, 31] lr 0.021309 cl_acc 1.000 44.308sec(train) 4.170sec(infer)\n"
     ]
    },
    {
     "name": "stdout",
     "output_type": "stream",
     "text": [
      "Epoch 245 tst: l 0.731 a 0.820  clct[20, 20] ans[20, 20] cl_acc 1.000 2.556sec\n"
     ]
    },
    {
     "name": "stdout",
     "output_type": "stream",
     "text": [
      "Epoch 246 tr: l 0.610 a 0.853  clct[31, 29] ans[31, 29] lr 0.021096 cl_acc 1.000 43.965sec(train) 4.065sec(infer)\n"
     ]
    },
    {
     "name": "stdout",
     "output_type": "stream",
     "text": [
      "Epoch 246 tst: l 0.751 a 0.819  clct[20, 20] ans[20, 20] cl_acc 1.000 2.547sec\n"
     ]
    },
    {
     "name": "stdout",
     "output_type": "stream",
     "text": [
      "Epoch 247 tr: l 0.580 a 0.859  clct[31, 29] ans[31, 29] lr 0.020885 cl_acc 1.000 43.985sec(train) 4.175sec(infer)\n"
     ]
    },
    {
     "name": "stdout",
     "output_type": "stream",
     "text": [
      "Epoch 247 tst: l 0.750 a 0.819  clct[20, 20] ans[20, 20] cl_acc 1.000 2.631sec\n"
     ]
    },
    {
     "name": "stdout",
     "output_type": "stream",
     "text": [
      "Epoch 248 tr: l 0.591 a 0.856  clct[28, 32] ans[28, 32] lr 0.020676 cl_acc 1.000 44.070sec(train) 4.111sec(infer)\n"
     ]
    },
    {
     "name": "stdout",
     "output_type": "stream",
     "text": [
      "Epoch 248 tst: l 0.736 a 0.824  clct[20, 20] ans[20, 20] cl_acc 1.000 2.553sec\n"
     ]
    },
    {
     "name": "stdout",
     "output_type": "stream",
     "text": [
      "Epoch 249 tr: l 0.617 a 0.850  clct[31, 29] ans[31, 29] lr 0.020469 cl_acc 1.000 44.109sec(train) 4.133sec(infer)\n"
     ]
    },
    {
     "name": "stdout",
     "output_type": "stream",
     "text": [
      "Epoch 249 tst: l 0.755 a 0.819  clct[20, 20] ans[20, 20] cl_acc 1.000 2.579sec\n"
     ]
    },
    {
     "name": "stdout",
     "output_type": "stream",
     "text": [
      "Epoch 250 tr: l 0.600 a 0.855  clct[30, 30] ans[30, 30] lr 0.020265 cl_acc 1.000 43.807sec(train) 4.028sec(infer)\n"
     ]
    },
    {
     "name": "stdout",
     "output_type": "stream",
     "text": [
      "Epoch 250 tst: l 0.751 a 0.823  clct[20, 20] ans[20, 20] cl_acc 1.000 2.555sec\n",
      "result written at output/results.pickle\n"
     ]
    },
    {
     "name": "stdout",
     "output_type": "stream",
     "text": [
      "Epoch 251 tr: l 0.575 a 0.863  clct[29, 31] ans[29, 31] lr 0.020062 cl_acc 1.000 43.863sec(train) 3.969sec(infer)\n"
     ]
    },
    {
     "name": "stdout",
     "output_type": "stream",
     "text": [
      "Epoch 251 tst: l 0.728 a 0.828  clct[20, 20] ans[20, 20] cl_acc 1.000 2.487sec\n"
     ]
    },
    {
     "name": "stdout",
     "output_type": "stream",
     "text": [
      "Epoch 252 tr: l 0.579 a 0.860  clct[28, 32] ans[28, 32] lr 0.019861 cl_acc 1.000 43.708sec(train) 4.045sec(infer)\n"
     ]
    },
    {
     "name": "stdout",
     "output_type": "stream",
     "text": [
      "Epoch 252 tst: l 0.737 a 0.826  clct[20, 20] ans[20, 20] cl_acc 1.000 2.591sec\n"
     ]
    },
    {
     "name": "stdout",
     "output_type": "stream",
     "text": [
      "Epoch 253 tr: l 0.587 a 0.856  clct[33, 27] ans[33, 27] lr 0.019663 cl_acc 1.000 44.189sec(train) 4.015sec(infer)\n"
     ]
    },
    {
     "name": "stdout",
     "output_type": "stream",
     "text": [
      "Epoch 253 tst: l 0.742 a 0.822  clct[20, 20] ans[20, 20] cl_acc 1.000 2.490sec\n"
     ]
    },
    {
     "name": "stdout",
     "output_type": "stream",
     "text": [
      "Epoch 254 tr: l 0.572 a 0.862  clct[34, 26] ans[34, 26] lr 0.019466 cl_acc 1.000 43.903sec(train) 3.954sec(infer)\n"
     ]
    },
    {
     "name": "stdout",
     "output_type": "stream",
     "text": [
      "Epoch 254 tst: l 0.737 a 0.822  clct[20, 20] ans[20, 20] cl_acc 1.000 2.500sec\n"
     ]
    },
    {
     "name": "stdout",
     "output_type": "stream",
     "text": [
      "Epoch 255 tr: l 0.577 a 0.862  clct[29, 31] ans[29, 31] lr 0.019271 cl_acc 1.000 43.963sec(train) 4.019sec(infer)\n"
     ]
    },
    {
     "name": "stdout",
     "output_type": "stream",
     "text": [
      "Epoch 255 tst: l 0.735 a 0.824  clct[20, 20] ans[20, 20] cl_acc 1.000 2.502sec\n"
     ]
    },
    {
     "name": "stdout",
     "output_type": "stream",
     "text": [
      "Epoch 256 tr: l 0.581 a 0.860  clct[28, 32] ans[28, 32] lr 0.019079 cl_acc 1.000 43.857sec(train) 4.055sec(infer)\n"
     ]
    },
    {
     "name": "stdout",
     "output_type": "stream",
     "text": [
      "Epoch 256 tst: l 0.728 a 0.825  clct[20, 20] ans[20, 20] cl_acc 1.000 2.580sec\n"
     ]
    },
    {
     "name": "stdout",
     "output_type": "stream",
     "text": [
      "Epoch 257 tr: l 0.571 a 0.864  clct[30, 30] ans[30, 30] lr 0.018888 cl_acc 1.000 44.023sec(train) 4.041sec(infer)\n"
     ]
    },
    {
     "name": "stdout",
     "output_type": "stream",
     "text": [
      "Epoch 257 tst: l 0.745 a 0.822  clct[20, 20] ans[20, 20] cl_acc 1.000 2.578sec\n"
     ]
    },
    {
     "name": "stdout",
     "output_type": "stream",
     "text": [
      "Epoch 258 tr: l 0.602 a 0.854  clct[31, 29] ans[31, 29] lr 0.018699 cl_acc 1.000 44.223sec(train) 4.211sec(infer)\n"
     ]
    },
    {
     "name": "stdout",
     "output_type": "stream",
     "text": [
      "Epoch 258 tst: l 0.752 a 0.817  clct[20, 20] ans[20, 20] cl_acc 1.000 2.554sec\n"
     ]
    },
    {
     "name": "stdout",
     "output_type": "stream",
     "text": [
      "Epoch 259 tr: l 0.552 a 0.868  clct[30, 30] ans[30, 30] lr 0.018512 cl_acc 1.000 43.979sec(train) 4.122sec(infer)\n"
     ]
    },
    {
     "name": "stdout",
     "output_type": "stream",
     "text": [
      "Epoch 259 tst: l 0.727 a 0.822  clct[20, 20] ans[20, 20] cl_acc 1.000 2.600sec\n"
     ]
    },
    {
     "name": "stdout",
     "output_type": "stream",
     "text": [
      "Epoch 260 tr: l 0.608 a 0.850  clct[32, 28] ans[32, 28] lr 0.018327 cl_acc 1.000 43.988sec(train) 4.068sec(infer)\n"
     ]
    },
    {
     "name": "stdout",
     "output_type": "stream",
     "text": [
      "Epoch 260 tst: l 0.727 a 0.826  clct[20, 20] ans[20, 20] cl_acc 1.000 2.592sec\n",
      "result written at output/results.pickle\n"
     ]
    },
    {
     "name": "stdout",
     "output_type": "stream",
     "text": [
      "Epoch 261 tr: l 0.590 a 0.858  clct[28, 32] ans[28, 32] lr 0.018144 cl_acc 1.000 44.046sec(train) 4.068sec(infer)\n"
     ]
    },
    {
     "name": "stdout",
     "output_type": "stream",
     "text": [
      "Epoch 261 tst: l 0.731 a 0.824  clct[20, 20] ans[20, 20] cl_acc 1.000 2.543sec\n"
     ]
    },
    {
     "name": "stdout",
     "output_type": "stream",
     "text": [
      "Epoch 262 tr: l 0.543 a 0.870  clct[31, 29] ans[31, 29] lr 0.017962 cl_acc 1.000 43.890sec(train) 4.114sec(infer)\n"
     ]
    },
    {
     "name": "stdout",
     "output_type": "stream",
     "text": [
      "Epoch 262 tst: l 0.706 a 0.830  clct[20, 20] ans[20, 20] cl_acc 1.000 2.501sec\n"
     ]
    },
    {
     "name": "stdout",
     "output_type": "stream",
     "text": [
      "Epoch 263 tr: l 0.575 a 0.861  clct[32, 28] ans[32, 28] lr 0.017783 cl_acc 1.000 43.884sec(train) 4.093sec(infer)\n"
     ]
    },
    {
     "name": "stdout",
     "output_type": "stream",
     "text": [
      "Epoch 263 tst: l 0.722 a 0.826  clct[20, 20] ans[20, 20] cl_acc 1.000 2.597sec\n"
     ]
    },
    {
     "name": "stdout",
     "output_type": "stream",
     "text": [
      "Epoch 264 tr: l 0.541 a 0.868  clct[26, 34] ans[26, 34] lr 0.017605 cl_acc 1.000 43.976sec(train) 4.123sec(infer)\n"
     ]
    },
    {
     "name": "stdout",
     "output_type": "stream",
     "text": [
      "Epoch 264 tst: l 0.714 a 0.828  clct[20, 20] ans[20, 20] cl_acc 1.000 2.489sec\n"
     ]
    },
    {
     "name": "stdout",
     "output_type": "stream",
     "text": [
      "Epoch 265 tr: l 0.563 a 0.865  clct[34, 26] ans[34, 26] lr 0.017429 cl_acc 1.000 43.897sec(train) 4.036sec(infer)\n"
     ]
    },
    {
     "name": "stdout",
     "output_type": "stream",
     "text": [
      "Epoch 265 tst: l 0.725 a 0.827  clct[20, 20] ans[20, 20] cl_acc 1.000 2.593sec\n"
     ]
    },
    {
     "name": "stdout",
     "output_type": "stream",
     "text": [
      "Epoch 266 tr: l 0.571 a 0.862  clct[30, 30] ans[30, 30] lr 0.017254 cl_acc 1.000 43.846sec(train) 4.085sec(infer)\n"
     ]
    },
    {
     "name": "stdout",
     "output_type": "stream",
     "text": [
      "Epoch 266 tst: l 0.733 a 0.825  clct[20, 20] ans[20, 20] cl_acc 1.000 2.465sec\n"
     ]
    },
    {
     "name": "stdout",
     "output_type": "stream",
     "text": [
      "Epoch 267 tr: l 0.554 a 0.865  clct[33, 27] ans[33, 27] lr 0.017082 cl_acc 1.000 43.819sec(train) 4.098sec(infer)\n"
     ]
    },
    {
     "name": "stdout",
     "output_type": "stream",
     "text": [
      "Epoch 267 tst: l 0.726 a 0.826  clct[20, 20] ans[20, 20] cl_acc 1.000 2.495sec\n"
     ]
    },
    {
     "name": "stdout",
     "output_type": "stream",
     "text": [
      "Epoch 268 tr: l 0.546 a 0.868  clct[28, 32] ans[28, 32] lr 0.016911 cl_acc 1.000 43.673sec(train) 3.952sec(infer)\n"
     ]
    },
    {
     "name": "stdout",
     "output_type": "stream",
     "text": [
      "Epoch 268 tst: l 0.704 a 0.831  clct[20, 20] ans[20, 20] cl_acc 1.000 2.453sec\n"
     ]
    },
    {
     "name": "stdout",
     "output_type": "stream",
     "text": [
      "Epoch 269 tr: l 0.546 a 0.870  clct[37, 23] ans[37, 23] lr 0.016742 cl_acc 1.000 43.815sec(train) 4.037sec(infer)\n"
     ]
    },
    {
     "name": "stdout",
     "output_type": "stream",
     "text": [
      "Epoch 269 tst: l 0.715 a 0.827  clct[20, 20] ans[20, 20] cl_acc 1.000 2.639sec\n"
     ]
    },
    {
     "name": "stdout",
     "output_type": "stream",
     "text": [
      "Epoch 270 tr: l 0.514 a 0.879  clct[27, 33] ans[27, 33] lr 0.016575 cl_acc 1.000 43.983sec(train) 3.988sec(infer)\n"
     ]
    },
    {
     "name": "stdout",
     "output_type": "stream",
     "text": [
      "Epoch 270 tst: l 0.715 a 0.825  clct[20, 20] ans[20, 20] cl_acc 1.000 2.586sec\n",
      "result written at output/results.pickle\n"
     ]
    },
    {
     "name": "stdout",
     "output_type": "stream",
     "text": [
      "Epoch 271 tr: l 0.528 a 0.874  clct[24, 36] ans[24, 36] lr 0.016409 cl_acc 1.000 43.735sec(train) 4.098sec(infer)\n"
     ]
    },
    {
     "name": "stdout",
     "output_type": "stream",
     "text": [
      "Epoch 271 tst: l 0.733 a 0.824  clct[20, 20] ans[20, 20] cl_acc 1.000 2.562sec\n"
     ]
    },
    {
     "name": "stdout",
     "output_type": "stream",
     "text": [
      "Epoch 272 tr: l 0.536 a 0.873  clct[26, 34] ans[26, 34] lr 0.016245 cl_acc 1.000 43.653sec(train) 4.085sec(infer)\n"
     ]
    },
    {
     "name": "stdout",
     "output_type": "stream",
     "text": [
      "Epoch 272 tst: l 0.719 a 0.828  clct[20, 20] ans[20, 20] cl_acc 1.000 2.548sec\n"
     ]
    },
    {
     "name": "stdout",
     "output_type": "stream",
     "text": [
      "Epoch 273 tr: l 0.543 a 0.870  clct[28, 32] ans[28, 32] lr 0.016082 cl_acc 1.000 43.973sec(train) 4.062sec(infer)\n"
     ]
    },
    {
     "name": "stdout",
     "output_type": "stream",
     "text": [
      "Epoch 273 tst: l 0.719 a 0.828  clct[20, 20] ans[20, 20] cl_acc 1.000 2.618sec\n"
     ]
    },
    {
     "name": "stdout",
     "output_type": "stream",
     "text": [
      "Epoch 274 tr: l 0.545 a 0.870  clct[32, 28] ans[32, 28] lr 0.015921 cl_acc 1.000 43.849sec(train) 4.069sec(infer)\n"
     ]
    },
    {
     "name": "stdout",
     "output_type": "stream",
     "text": [
      "Epoch 274 tst: l 0.710 a 0.828  clct[20, 20] ans[20, 20] cl_acc 1.000 2.614sec\n"
     ]
    },
    {
     "name": "stdout",
     "output_type": "stream",
     "text": [
      "Epoch 275 tr: l 0.516 a 0.878  clct[31, 29] ans[31, 29] lr 0.015762 cl_acc 1.000 43.662sec(train) 4.032sec(infer)\n"
     ]
    },
    {
     "name": "stdout",
     "output_type": "stream",
     "text": [
      "Epoch 275 tst: l 0.718 a 0.824  clct[20, 20] ans[20, 20] cl_acc 1.000 2.611sec\n"
     ]
    },
    {
     "name": "stdout",
     "output_type": "stream",
     "text": [
      "Epoch 276 tr: l 0.553 a 0.866  clct[30, 30] ans[30, 30] lr 0.015605 cl_acc 1.000 43.719sec(train) 3.979sec(infer)\n"
     ]
    },
    {
     "name": "stdout",
     "output_type": "stream",
     "text": [
      "Epoch 276 tst: l 0.726 a 0.825  clct[20, 20] ans[20, 20] cl_acc 1.000 2.528sec\n"
     ]
    },
    {
     "name": "stdout",
     "output_type": "stream",
     "text": [
      "Epoch 277 tr: l 0.529 a 0.871  clct[31, 29] ans[31, 29] lr 0.015449 cl_acc 1.000 43.919sec(train) 4.158sec(infer)\n"
     ]
    },
    {
     "name": "stdout",
     "output_type": "stream",
     "text": [
      "Epoch 277 tst: l 0.708 a 0.828  clct[20, 20] ans[20, 20] cl_acc 1.000 2.577sec\n"
     ]
    },
    {
     "name": "stdout",
     "output_type": "stream",
     "text": [
      "Epoch 278 tr: l 0.552 a 0.867  clct[36, 24] ans[36, 24] lr 0.015294 cl_acc 1.000 43.860sec(train) 3.982sec(infer)\n"
     ]
    },
    {
     "name": "stdout",
     "output_type": "stream",
     "text": [
      "Epoch 278 tst: l 0.734 a 0.827  clct[20, 20] ans[20, 20] cl_acc 1.000 2.499sec\n"
     ]
    },
    {
     "name": "stdout",
     "output_type": "stream",
     "text": [
      "Epoch 279 tr: l 0.524 a 0.875  clct[27, 33] ans[27, 33] lr 0.015141 cl_acc 1.000 43.855sec(train) 4.035sec(infer)\n"
     ]
    },
    {
     "name": "stdout",
     "output_type": "stream",
     "text": [
      "Epoch 279 tst: l 0.712 a 0.829  clct[20, 20] ans[20, 20] cl_acc 1.000 2.620sec\n"
     ]
    },
    {
     "name": "stdout",
     "output_type": "stream",
     "text": [
      "Epoch 280 tr: l 0.513 a 0.876  clct[28, 32] ans[28, 32] lr 0.014990 cl_acc 1.000 43.827sec(train) 3.961sec(infer)\n"
     ]
    },
    {
     "name": "stdout",
     "output_type": "stream",
     "text": [
      "Epoch 280 tst: l 0.719 a 0.824  clct[20, 20] ans[20, 20] cl_acc 1.000 2.526sec\n",
      "result written at output/results.pickle\n"
     ]
    },
    {
     "name": "stdout",
     "output_type": "stream",
     "text": [
      "Epoch 281 tr: l 0.521 a 0.875  clct[33, 27] ans[33, 27] lr 0.014840 cl_acc 1.000 44.158sec(train) 4.036sec(infer)\n"
     ]
    },
    {
     "name": "stdout",
     "output_type": "stream",
     "text": [
      "Epoch 281 tst: l 0.705 a 0.828  clct[20, 20] ans[20, 20] cl_acc 1.000 2.477sec\n"
     ]
    },
    {
     "name": "stdout",
     "output_type": "stream",
     "text": [
      "Epoch 282 tr: l 0.544 a 0.868  clct[30, 30] ans[30, 30] lr 0.014691 cl_acc 1.000 43.942sec(train) 3.930sec(infer)\n"
     ]
    },
    {
     "name": "stdout",
     "output_type": "stream",
     "text": [
      "Epoch 282 tst: l 0.701 a 0.832  clct[20, 20] ans[20, 20] cl_acc 1.000 2.472sec\n"
     ]
    },
    {
     "name": "stdout",
     "output_type": "stream",
     "text": [
      "Epoch 283 tr: l 0.532 a 0.869  clct[30, 30] ans[30, 30] lr 0.014545 cl_acc 1.000 44.219sec(train) 4.180sec(infer)\n"
     ]
    },
    {
     "name": "stdout",
     "output_type": "stream",
     "text": [
      "Epoch 283 tst: l 0.712 a 0.825  clct[20, 20] ans[20, 20] cl_acc 1.000 2.487sec\n"
     ]
    },
    {
     "name": "stdout",
     "output_type": "stream",
     "text": [
      "Epoch 284 tr: l 0.501 a 0.881  clct[22, 38] ans[22, 38] lr 0.014399 cl_acc 1.000 43.864sec(train) 3.995sec(infer)\n"
     ]
    },
    {
     "name": "stdout",
     "output_type": "stream",
     "text": [
      "Epoch 284 tst: l 0.702 a 0.831  clct[20, 20] ans[20, 20] cl_acc 1.000 2.447sec\n"
     ]
    },
    {
     "name": "stdout",
     "output_type": "stream",
     "text": [
      "Epoch 285 tr: l 0.529 a 0.873  clct[34, 26] ans[34, 26] lr 0.014255 cl_acc 1.000 44.175sec(train) 3.993sec(infer)\n"
     ]
    },
    {
     "name": "stdout",
     "output_type": "stream",
     "text": [
      "Epoch 285 tst: l 0.705 a 0.830  clct[20, 20] ans[20, 20] cl_acc 1.000 2.519sec\n"
     ]
    },
    {
     "name": "stdout",
     "output_type": "stream",
     "text": [
      "Epoch 286 tr: l 0.508 a 0.877  clct[33, 27] ans[33, 27] lr 0.014113 cl_acc 1.000 44.072sec(train) 3.864sec(infer)\n"
     ]
    },
    {
     "name": "stdout",
     "output_type": "stream",
     "text": [
      "Epoch 286 tst: l 0.709 a 0.828  clct[20, 20] ans[20, 20] cl_acc 1.000 2.417sec\n"
     ]
    },
    {
     "name": "stdout",
     "output_type": "stream",
     "text": [
      "Epoch 287 tr: l 0.509 a 0.878  clct[26, 34] ans[26, 34] lr 0.013971 cl_acc 1.000 43.652sec(train) 3.957sec(infer)\n"
     ]
    },
    {
     "name": "stdout",
     "output_type": "stream",
     "text": [
      "Epoch 287 tst: l 0.719 a 0.831  clct[20, 20] ans[20, 20] cl_acc 1.000 2.540sec\n"
     ]
    },
    {
     "name": "stdout",
     "output_type": "stream",
     "text": [
      "Epoch 288 tr: l 0.507 a 0.879  clct[28, 32] ans[28, 32] lr 0.013832 cl_acc 1.000 43.848sec(train) 4.055sec(infer)\n"
     ]
    },
    {
     "name": "stdout",
     "output_type": "stream",
     "text": [
      "Epoch 288 tst: l 0.701 a 0.834  clct[20, 20] ans[20, 20] cl_acc 1.000 2.600sec\n"
     ]
    },
    {
     "name": "stdout",
     "output_type": "stream",
     "text": [
      "Epoch 289 tr: l 0.516 a 0.875  clct[31, 29] ans[31, 29] lr 0.013693 cl_acc 1.000 43.880sec(train) 4.022sec(infer)\n"
     ]
    },
    {
     "name": "stdout",
     "output_type": "stream",
     "text": [
      "Epoch 289 tst: l 0.698 a 0.826  clct[20, 20] ans[20, 20] cl_acc 1.000 2.506sec\n"
     ]
    },
    {
     "name": "stdout",
     "output_type": "stream",
     "text": [
      "Epoch 290 tr: l 0.512 a 0.878  clct[29, 31] ans[29, 31] lr 0.013556 cl_acc 1.000 44.131sec(train) 3.993sec(infer)\n"
     ]
    },
    {
     "name": "stdout",
     "output_type": "stream",
     "text": [
      "Epoch 290 tst: l 0.704 a 0.831  clct[20, 20] ans[20, 20] cl_acc 1.000 2.613sec\n",
      "result written at output/results.pickle\n"
     ]
    },
    {
     "name": "stdout",
     "output_type": "stream",
     "text": [
      "Epoch 291 tr: l 0.519 a 0.874  clct[36, 24] ans[36, 24] lr 0.013421 cl_acc 1.000 43.611sec(train) 4.001sec(infer)\n"
     ]
    },
    {
     "name": "stdout",
     "output_type": "stream",
     "text": [
      "Epoch 291 tst: l 0.707 a 0.827  clct[20, 20] ans[20, 20] cl_acc 1.000 2.534sec\n"
     ]
    },
    {
     "name": "stdout",
     "output_type": "stream",
     "text": [
      "Epoch 292 tr: l 0.509 a 0.880  clct[30, 30] ans[30, 30] lr 0.013287 cl_acc 1.000 43.842sec(train) 4.025sec(infer)\n"
     ]
    },
    {
     "name": "stdout",
     "output_type": "stream",
     "text": [
      "Epoch 292 tst: l 0.709 a 0.830  clct[20, 20] ans[20, 20] cl_acc 1.000 2.608sec\n"
     ]
    },
    {
     "name": "stdout",
     "output_type": "stream",
     "text": [
      "Epoch 293 tr: l 0.528 a 0.869  clct[29, 31] ans[29, 31] lr 0.013154 cl_acc 1.000 44.103sec(train) 4.014sec(infer)\n"
     ]
    },
    {
     "name": "stdout",
     "output_type": "stream",
     "text": [
      "Epoch 293 tst: l 0.688 a 0.831  clct[20, 20] ans[20, 20] cl_acc 1.000 2.469sec\n"
     ]
    },
    {
     "name": "stdout",
     "output_type": "stream",
     "text": [
      "Epoch 294 tr: l 0.496 a 0.879  clct[30, 30] ans[30, 30] lr 0.013022 cl_acc 1.000 43.841sec(train) 4.008sec(infer)\n"
     ]
    },
    {
     "name": "stdout",
     "output_type": "stream",
     "text": [
      "Epoch 294 tst: l 0.691 a 0.831  clct[20, 20] ans[20, 20] cl_acc 1.000 2.504sec\n"
     ]
    },
    {
     "name": "stdout",
     "output_type": "stream",
     "text": [
      "Epoch 295 tr: l 0.505 a 0.879  clct[29, 31] ans[29, 31] lr 0.012892 cl_acc 1.000 43.962sec(train) 3.908sec(infer)\n"
     ]
    },
    {
     "name": "stdout",
     "output_type": "stream",
     "text": [
      "Epoch 295 tst: l 0.705 a 0.833  clct[20, 20] ans[20, 20] cl_acc 1.000 2.449sec\n"
     ]
    },
    {
     "name": "stdout",
     "output_type": "stream",
     "text": [
      "Epoch 296 tr: l 0.500 a 0.880  clct[26, 34] ans[26, 34] lr 0.012763 cl_acc 1.000 44.288sec(train) 3.988sec(infer)\n"
     ]
    },
    {
     "name": "stdout",
     "output_type": "stream",
     "text": [
      "Epoch 296 tst: l 0.685 a 0.834  clct[20, 20] ans[20, 20] cl_acc 1.000 2.520sec\n"
     ]
    },
    {
     "name": "stdout",
     "output_type": "stream",
     "text": [
      "Epoch 297 tr: l 0.529 a 0.872  clct[29, 31] ans[29, 31] lr 0.012636 cl_acc 1.000 44.076sec(train) 3.946sec(infer)\n"
     ]
    },
    {
     "name": "stdout",
     "output_type": "stream",
     "text": [
      "Epoch 297 tst: l 0.703 a 0.831  clct[20, 20] ans[20, 20] cl_acc 1.000 2.540sec\n"
     ]
    },
    {
     "name": "stdout",
     "output_type": "stream",
     "text": [
      "Epoch 298 tr: l 0.482 a 0.883  clct[28, 32] ans[28, 32] lr 0.012509 cl_acc 1.000 43.951sec(train) 3.896sec(infer)\n"
     ]
    },
    {
     "name": "stdout",
     "output_type": "stream",
     "text": [
      "Epoch 298 tst: l 0.701 a 0.830  clct[20, 20] ans[20, 20] cl_acc 1.000 2.360sec\n"
     ]
    },
    {
     "name": "stdout",
     "output_type": "stream",
     "text": [
      "Epoch 299 tr: l 0.514 a 0.875  clct[34, 26] ans[34, 26] lr 0.012384 cl_acc 1.000 44.003sec(train) 3.921sec(infer)\n"
     ]
    },
    {
     "name": "stdout",
     "output_type": "stream",
     "text": [
      "Epoch 299 tst: l 0.701 a 0.831  clct[20, 20] ans[20, 20] cl_acc 1.000 2.550sec\n"
     ]
    },
    {
     "name": "stdout",
     "output_type": "stream",
     "text": [
      "Epoch 300 tr: l 0.522 a 0.872  clct[27, 33] ans[27, 33] lr 0.012260 cl_acc 1.000 43.905sec(train) 3.999sec(infer)\n"
     ]
    },
    {
     "name": "stdout",
     "output_type": "stream",
     "text": [
      "Epoch 300 tst: l 0.693 a 0.832  clct[20, 20] ans[20, 20] cl_acc 1.000 2.559sec\n",
      "result written at output/results.pickle\n"
     ]
    },
    {
     "name": "stdout",
     "output_type": "stream",
     "text": [
      "Epoch 301 tr: l 0.478 a 0.886  clct[35, 25] ans[35, 25] lr 0.012138 cl_acc 1.000 43.895sec(train) 3.848sec(infer)\n"
     ]
    },
    {
     "name": "stdout",
     "output_type": "stream",
     "text": [
      "Epoch 301 tst: l 0.691 a 0.831  clct[20, 20] ans[20, 20] cl_acc 1.000 2.461sec\n"
     ]
    },
    {
     "name": "stdout",
     "output_type": "stream",
     "text": [
      "Epoch 302 tr: l 0.495 a 0.881  clct[29, 31] ans[29, 31] lr 0.012016 cl_acc 1.000 43.786sec(train) 3.950sec(infer)\n"
     ]
    },
    {
     "name": "stdout",
     "output_type": "stream",
     "text": [
      "Epoch 302 tst: l 0.702 a 0.828  clct[20, 20] ans[20, 20] cl_acc 1.000 2.494sec\n"
     ]
    },
    {
     "name": "stdout",
     "output_type": "stream",
     "text": [
      "Epoch 303 tr: l 0.527 a 0.870  clct[23, 37] ans[23, 37] lr 0.011896 cl_acc 1.000 44.021sec(train) 4.020sec(infer)\n"
     ]
    },
    {
     "name": "stdout",
     "output_type": "stream",
     "text": [
      "Epoch 303 tst: l 0.700 a 0.828  clct[20, 20] ans[20, 20] cl_acc 1.000 2.534sec\n"
     ]
    },
    {
     "name": "stdout",
     "output_type": "stream",
     "text": [
      "Epoch 304 tr: l 0.493 a 0.880  clct[29, 31] ans[29, 31] lr 0.011777 cl_acc 1.000 44.031sec(train) 4.057sec(infer)\n"
     ]
    },
    {
     "name": "stdout",
     "output_type": "stream",
     "text": [
      "Epoch 304 tst: l 0.697 a 0.831  clct[20, 20] ans[20, 20] cl_acc 1.000 2.497sec\n"
     ]
    },
    {
     "name": "stdout",
     "output_type": "stream",
     "text": [
      "Epoch 305 tr: l 0.493 a 0.878  clct[29, 31] ans[29, 31] lr 0.011659 cl_acc 1.000 44.140sec(train) 4.178sec(infer)\n"
     ]
    },
    {
     "name": "stdout",
     "output_type": "stream",
     "text": [
      "Epoch 305 tst: l 0.700 a 0.829  clct[20, 20] ans[20, 20] cl_acc 1.000 2.646sec\n"
     ]
    },
    {
     "name": "stdout",
     "output_type": "stream",
     "text": [
      "Epoch 306 tr: l 0.467 a 0.890  clct[34, 26] ans[34, 26] lr 0.011543 cl_acc 1.000 43.977sec(train) 4.084sec(infer)\n"
     ]
    },
    {
     "name": "stdout",
     "output_type": "stream",
     "text": [
      "Epoch 306 tst: l 0.693 a 0.831  clct[20, 20] ans[20, 20] cl_acc 1.000 2.540sec\n"
     ]
    },
    {
     "name": "stdout",
     "output_type": "stream",
     "text": [
      "Epoch 307 tr: l 0.486 a 0.884  clct[33, 27] ans[33, 27] lr 0.011427 cl_acc 1.000 44.077sec(train) 3.991sec(infer)\n"
     ]
    },
    {
     "name": "stdout",
     "output_type": "stream",
     "text": [
      "Epoch 307 tst: l 0.697 a 0.831  clct[20, 20] ans[20, 20] cl_acc 1.000 2.589sec\n"
     ]
    },
    {
     "name": "stdout",
     "output_type": "stream",
     "text": [
      "Epoch 308 tr: l 0.479 a 0.885  clct[26, 34] ans[26, 34] lr 0.011313 cl_acc 1.000 44.039sec(train) 3.977sec(infer)\n"
     ]
    },
    {
     "name": "stdout",
     "output_type": "stream",
     "text": [
      "Epoch 308 tst: l 0.696 a 0.829  clct[20, 20] ans[20, 20] cl_acc 1.000 2.477sec\n"
     ]
    },
    {
     "name": "stdout",
     "output_type": "stream",
     "text": [
      "Epoch 309 tr: l 0.461 a 0.891  clct[30, 30] ans[30, 30] lr 0.011200 cl_acc 1.000 43.773sec(train) 3.943sec(infer)\n"
     ]
    },
    {
     "name": "stdout",
     "output_type": "stream",
     "text": [
      "Epoch 309 tst: l 0.696 a 0.831  clct[20, 20] ans[20, 20] cl_acc 1.000 2.596sec\n"
     ]
    },
    {
     "name": "stdout",
     "output_type": "stream",
     "text": [
      "Epoch 310 tr: l 0.487 a 0.881  clct[30, 30] ans[30, 30] lr 0.011088 cl_acc 1.000 44.012sec(train) 4.037sec(infer)\n"
     ]
    },
    {
     "name": "stdout",
     "output_type": "stream",
     "text": [
      "Epoch 310 tst: l 0.686 a 0.834  clct[20, 20] ans[20, 20] cl_acc 1.000 2.480sec\n",
      "result written at output/results.pickle\n"
     ]
    },
    {
     "name": "stdout",
     "output_type": "stream",
     "text": [
      "Epoch 311 tr: l 0.493 a 0.880  clct[35, 25] ans[35, 25] lr 0.010977 cl_acc 1.000 43.799sec(train) 3.895sec(infer)\n"
     ]
    },
    {
     "name": "stdout",
     "output_type": "stream",
     "text": [
      "Epoch 311 tst: l 0.690 a 0.827  clct[20, 20] ans[20, 20] cl_acc 1.000 2.541sec\n"
     ]
    },
    {
     "name": "stdout",
     "output_type": "stream",
     "text": [
      "Epoch 312 tr: l 0.459 a 0.891  clct[30, 30] ans[30, 30] lr 0.010867 cl_acc 1.000 44.165sec(train) 4.046sec(infer)\n"
     ]
    },
    {
     "name": "stdout",
     "output_type": "stream",
     "text": [
      "Epoch 312 tst: l 0.682 a 0.833  clct[20, 20] ans[20, 20] cl_acc 1.000 2.479sec\n"
     ]
    },
    {
     "name": "stdout",
     "output_type": "stream",
     "text": [
      "Epoch 313 tr: l 0.463 a 0.888  clct[26, 34] ans[26, 34] lr 0.010759 cl_acc 1.000 43.986sec(train) 4.016sec(infer)\n"
     ]
    },
    {
     "name": "stdout",
     "output_type": "stream",
     "text": [
      "Epoch 313 tst: l 0.688 a 0.836  clct[20, 20] ans[20, 20] cl_acc 1.000 2.487sec\n"
     ]
    },
    {
     "name": "stdout",
     "output_type": "stream",
     "text": [
      "Epoch 314 tr: l 0.440 a 0.896  clct[26, 34] ans[26, 34] lr 0.010651 cl_acc 1.000 43.822sec(train) 4.092sec(infer)\n"
     ]
    },
    {
     "name": "stdout",
     "output_type": "stream",
     "text": [
      "Epoch 314 tst: l 0.681 a 0.835  clct[20, 20] ans[20, 20] cl_acc 1.000 2.586sec\n"
     ]
    },
    {
     "name": "stdout",
     "output_type": "stream",
     "text": [
      "Epoch 315 tr: l 0.471 a 0.886  clct[30, 30] ans[30, 30] lr 0.010545 cl_acc 1.000 43.989sec(train) 4.090sec(infer)\n"
     ]
    },
    {
     "name": "stdout",
     "output_type": "stream",
     "text": [
      "Epoch 315 tst: l 0.703 a 0.834  clct[20, 20] ans[20, 20] cl_acc 1.000 2.637sec\n"
     ]
    },
    {
     "name": "stdout",
     "output_type": "stream",
     "text": [
      "Epoch 316 tr: l 0.488 a 0.881  clct[27, 33] ans[27, 33] lr 0.010439 cl_acc 1.000 44.257sec(train) 3.926sec(infer)\n"
     ]
    },
    {
     "name": "stdout",
     "output_type": "stream",
     "text": [
      "Epoch 316 tst: l 0.688 a 0.834  clct[20, 20] ans[20, 20] cl_acc 1.000 2.513sec\n"
     ]
    },
    {
     "name": "stdout",
     "output_type": "stream",
     "text": [
      "Epoch 317 tr: l 0.465 a 0.888  clct[31, 29] ans[31, 29] lr 0.010335 cl_acc 1.000 43.839sec(train) 3.980sec(infer)\n"
     ]
    },
    {
     "name": "stdout",
     "output_type": "stream",
     "text": [
      "Epoch 317 tst: l 0.713 a 0.829  clct[20, 20] ans[20, 20] cl_acc 1.000 2.557sec\n"
     ]
    },
    {
     "name": "stdout",
     "output_type": "stream",
     "text": [
      "Epoch 318 tr: l 0.475 a 0.884  clct[28, 32] ans[28, 32] lr 0.010231 cl_acc 1.000 43.844sec(train) 3.999sec(infer)\n"
     ]
    },
    {
     "name": "stdout",
     "output_type": "stream",
     "text": [
      "Epoch 318 tst: l 0.683 a 0.837  clct[20, 20] ans[20, 20] cl_acc 1.000 2.473sec\n"
     ]
    },
    {
     "name": "stdout",
     "output_type": "stream",
     "text": [
      "Epoch 319 tr: l 0.460 a 0.890  clct[29, 31] ans[29, 31] lr 0.010129 cl_acc 1.000 43.831sec(train) 4.022sec(infer)\n"
     ]
    },
    {
     "name": "stdout",
     "output_type": "stream",
     "text": [
      "Epoch 319 tst: l 0.688 a 0.831  clct[20, 20] ans[20, 20] cl_acc 1.000 2.629sec\n"
     ]
    },
    {
     "name": "stdout",
     "output_type": "stream",
     "text": [
      "Epoch 320 tr: l 0.479 a 0.885  clct[31, 29] ans[31, 29] lr 0.010028 cl_acc 1.000 43.913sec(train) 3.956sec(infer)\n"
     ]
    },
    {
     "name": "stdout",
     "output_type": "stream",
     "text": [
      "Epoch 320 tst: l 0.674 a 0.837  clct[20, 20] ans[20, 20] cl_acc 1.000 2.499sec\n",
      "result written at output/results.pickle\n"
     ]
    },
    {
     "name": "stdout",
     "output_type": "stream",
     "text": [
      "Epoch 321 tr: l 0.462 a 0.888  clct[37, 23] ans[37, 23] lr 0.009927 cl_acc 1.000 44.103sec(train) 4.044sec(infer)\n"
     ]
    },
    {
     "name": "stdout",
     "output_type": "stream",
     "text": [
      "Epoch 321 tst: l 0.678 a 0.837  clct[20, 20] ans[20, 20] cl_acc 1.000 2.531sec\n"
     ]
    },
    {
     "name": "stdout",
     "output_type": "stream",
     "text": [
      "Epoch 322 tr: l 0.464 a 0.887  clct[28, 32] ans[28, 32] lr 0.009828 cl_acc 1.000 43.990sec(train) 4.084sec(infer)\n"
     ]
    },
    {
     "name": "stdout",
     "output_type": "stream",
     "text": [
      "Epoch 322 tst: l 0.677 a 0.836  clct[20, 20] ans[20, 20] cl_acc 1.000 2.496sec\n"
     ]
    },
    {
     "name": "stdout",
     "output_type": "stream",
     "text": [
      "Epoch 323 tr: l 0.469 a 0.887  clct[30, 30] ans[30, 30] lr 0.009730 cl_acc 1.000 44.170sec(train) 4.041sec(infer)\n"
     ]
    },
    {
     "name": "stdout",
     "output_type": "stream",
     "text": [
      "Epoch 323 tst: l 0.690 a 0.836  clct[20, 20] ans[20, 20] cl_acc 1.000 2.520sec\n"
     ]
    },
    {
     "name": "stdout",
     "output_type": "stream",
     "text": [
      "Epoch 324 tr: l 0.447 a 0.893  clct[35, 25] ans[35, 25] lr 0.009633 cl_acc 1.000 43.998sec(train) 4.067sec(infer)\n"
     ]
    },
    {
     "name": "stdout",
     "output_type": "stream",
     "text": [
      "Epoch 324 tst: l 0.679 a 0.834  clct[20, 20] ans[20, 20] cl_acc 1.000 2.656sec\n"
     ]
    },
    {
     "name": "stdout",
     "output_type": "stream",
     "text": [
      "Epoch 325 tr: l 0.454 a 0.892  clct[30, 30] ans[30, 30] lr 0.009536 cl_acc 1.000 43.951sec(train) 4.075sec(infer)\n"
     ]
    },
    {
     "name": "stdout",
     "output_type": "stream",
     "text": [
      "Epoch 325 tst: l 0.697 a 0.833  clct[20, 20] ans[20, 20] cl_acc 1.000 2.502sec\n"
     ]
    },
    {
     "name": "stdout",
     "output_type": "stream",
     "text": [
      "Epoch 326 tr: l 0.447 a 0.893  clct[32, 28] ans[32, 28] lr 0.009441 cl_acc 1.000 43.877sec(train) 3.978sec(infer)\n"
     ]
    },
    {
     "name": "stdout",
     "output_type": "stream",
     "text": [
      "Epoch 326 tst: l 0.679 a 0.838  clct[20, 20] ans[20, 20] cl_acc 1.000 2.561sec\n"
     ]
    },
    {
     "name": "stdout",
     "output_type": "stream",
     "text": [
      "Epoch 327 tr: l 0.452 a 0.891  clct[29, 31] ans[29, 31] lr 0.009346 cl_acc 1.000 43.794sec(train) 3.930sec(infer)\n"
     ]
    },
    {
     "name": "stdout",
     "output_type": "stream",
     "text": [
      "Epoch 327 tst: l 0.687 a 0.830  clct[20, 20] ans[20, 20] cl_acc 1.000 2.478sec\n"
     ]
    },
    {
     "name": "stdout",
     "output_type": "stream",
     "text": [
      "Epoch 328 tr: l 0.452 a 0.893  clct[29, 31] ans[29, 31] lr 0.009253 cl_acc 1.000 43.959sec(train) 4.012sec(infer)\n"
     ]
    },
    {
     "name": "stdout",
     "output_type": "stream",
     "text": [
      "Epoch 328 tst: l 0.687 a 0.839  clct[20, 20] ans[20, 20] cl_acc 1.000 2.486sec\n"
     ]
    },
    {
     "name": "stdout",
     "output_type": "stream",
     "text": [
      "Epoch 329 tr: l 0.459 a 0.891  clct[31, 29] ans[31, 29] lr 0.009160 cl_acc 1.000 43.999sec(train) 3.984sec(infer)\n"
     ]
    },
    {
     "name": "stdout",
     "output_type": "stream",
     "text": [
      "Epoch 329 tst: l 0.690 a 0.834  clct[20, 20] ans[20, 20] cl_acc 1.000 2.559sec\n"
     ]
    },
    {
     "name": "stdout",
     "output_type": "stream",
     "text": [
      "Epoch 330 tr: l 0.441 a 0.894  clct[28, 32] ans[28, 32] lr 0.009069 cl_acc 1.000 44.024sec(train) 3.993sec(infer)\n"
     ]
    },
    {
     "name": "stdout",
     "output_type": "stream",
     "text": [
      "Epoch 330 tst: l 0.685 a 0.838  clct[20, 20] ans[20, 20] cl_acc 1.000 2.476sec\n",
      "result written at output/results.pickle\n"
     ]
    },
    {
     "name": "stdout",
     "output_type": "stream",
     "text": [
      "Epoch 331 tr: l 0.447 a 0.894  clct[26, 34] ans[26, 34] lr 0.008978 cl_acc 1.000 44.143sec(train) 4.038sec(infer)\n"
     ]
    },
    {
     "name": "stdout",
     "output_type": "stream",
     "text": [
      "Epoch 331 tst: l 0.679 a 0.836  clct[20, 20] ans[20, 20] cl_acc 1.000 2.539sec\n"
     ]
    },
    {
     "name": "stdout",
     "output_type": "stream",
     "text": [
      "Epoch 332 tr: l 0.447 a 0.894  clct[29, 31] ans[29, 31] lr 0.008888 cl_acc 1.000 43.955sec(train) 3.954sec(infer)\n"
     ]
    },
    {
     "name": "stdout",
     "output_type": "stream",
     "text": [
      "Epoch 332 tst: l 0.677 a 0.838  clct[20, 20] ans[20, 20] cl_acc 1.000 2.459sec\n"
     ]
    },
    {
     "name": "stdout",
     "output_type": "stream",
     "text": [
      "Epoch 333 tr: l 0.444 a 0.893  clct[34, 26] ans[34, 26] lr 0.008800 cl_acc 1.000 44.066sec(train) 4.050sec(infer)\n"
     ]
    },
    {
     "name": "stdout",
     "output_type": "stream",
     "text": [
      "Epoch 333 tst: l 0.668 a 0.837  clct[20, 20] ans[20, 20] cl_acc 1.000 2.638sec\n"
     ]
    },
    {
     "name": "stdout",
     "output_type": "stream",
     "text": [
      "Epoch 334 tr: l 0.435 a 0.896  clct[37, 23] ans[37, 23] lr 0.008712 cl_acc 1.000 43.907sec(train) 4.022sec(infer)\n"
     ]
    },
    {
     "name": "stdout",
     "output_type": "stream",
     "text": [
      "Epoch 334 tst: l 0.680 a 0.834  clct[20, 20] ans[20, 20] cl_acc 1.000 2.531sec\n"
     ]
    },
    {
     "name": "stdout",
     "output_type": "stream",
     "text": [
      "Epoch 335 tr: l 0.448 a 0.892  clct[29, 31] ans[29, 31] lr 0.008624 cl_acc 1.000 43.760sec(train) 3.914sec(infer)\n"
     ]
    },
    {
     "name": "stdout",
     "output_type": "stream",
     "text": [
      "Epoch 335 tst: l 0.677 a 0.835  clct[20, 20] ans[20, 20] cl_acc 1.000 2.469sec\n"
     ]
    },
    {
     "name": "stdout",
     "output_type": "stream",
     "text": [
      "Epoch 336 tr: l 0.467 a 0.887  clct[26, 34] ans[26, 34] lr 0.008538 cl_acc 1.000 43.907sec(train) 3.882sec(infer)\n"
     ]
    },
    {
     "name": "stdout",
     "output_type": "stream",
     "text": [
      "Epoch 336 tst: l 0.684 a 0.832  clct[20, 20] ans[20, 20] cl_acc 1.000 2.528sec\n"
     ]
    },
    {
     "name": "stdout",
     "output_type": "stream",
     "text": [
      "Epoch 337 tr: l 0.443 a 0.893  clct[28, 32] ans[28, 32] lr 0.008453 cl_acc 1.000 43.768sec(train) 3.899sec(infer)\n"
     ]
    },
    {
     "name": "stdout",
     "output_type": "stream",
     "text": [
      "Epoch 337 tst: l 0.678 a 0.837  clct[20, 20] ans[20, 20] cl_acc 1.000 2.644sec\n"
     ]
    },
    {
     "name": "stdout",
     "output_type": "stream",
     "text": [
      "Epoch 338 tr: l 0.427 a 0.898  clct[30, 30] ans[30, 30] lr 0.008368 cl_acc 1.000 44.124sec(train) 4.111sec(infer)\n"
     ]
    },
    {
     "name": "stdout",
     "output_type": "stream",
     "text": [
      "Epoch 338 tst: l 0.667 a 0.837  clct[20, 20] ans[20, 20] cl_acc 1.000 2.515sec\n"
     ]
    },
    {
     "name": "stdout",
     "output_type": "stream",
     "text": [
      "Epoch 339 tr: l 0.426 a 0.900  clct[28, 32] ans[28, 32] lr 0.008285 cl_acc 1.000 43.918sec(train) 4.049sec(infer)\n"
     ]
    },
    {
     "name": "stdout",
     "output_type": "stream",
     "text": [
      "Epoch 339 tst: l 0.693 a 0.836  clct[20, 20] ans[20, 20] cl_acc 1.000 2.595sec\n"
     ]
    },
    {
     "name": "stdout",
     "output_type": "stream",
     "text": [
      "Epoch 340 tr: l 0.418 a 0.902  clct[28, 32] ans[28, 32] lr 0.008202 cl_acc 1.000 44.090sec(train) 4.062sec(infer)\n"
     ]
    },
    {
     "name": "stdout",
     "output_type": "stream",
     "text": [
      "Epoch 340 tst: l 0.689 a 0.834  clct[20, 20] ans[20, 20] cl_acc 1.000 2.597sec\n",
      "result written at output/results.pickle\n"
     ]
    },
    {
     "name": "stdout",
     "output_type": "stream",
     "text": [
      "Epoch 341 tr: l 0.441 a 0.893  clct[32, 28] ans[32, 28] lr 0.008120 cl_acc 1.000 43.887sec(train) 4.073sec(infer)\n"
     ]
    },
    {
     "name": "stdout",
     "output_type": "stream",
     "text": [
      "Epoch 341 tst: l 0.674 a 0.838  clct[20, 20] ans[20, 20] cl_acc 1.000 2.522sec\n"
     ]
    },
    {
     "name": "stdout",
     "output_type": "stream",
     "text": [
      "Epoch 342 tr: l 0.431 a 0.898  clct[32, 28] ans[32, 28] lr 0.008039 cl_acc 1.000 44.149sec(train) 3.884sec(infer)\n"
     ]
    },
    {
     "name": "stdout",
     "output_type": "stream",
     "text": [
      "Epoch 342 tst: l 0.669 a 0.840  clct[20, 20] ans[20, 20] cl_acc 1.000 2.533sec\n"
     ]
    },
    {
     "name": "stdout",
     "output_type": "stream",
     "text": [
      "Epoch 343 tr: l 0.426 a 0.897  clct[26, 34] ans[26, 34] lr 0.007958 cl_acc 1.000 44.125sec(train) 3.986sec(infer)\n"
     ]
    },
    {
     "name": "stdout",
     "output_type": "stream",
     "text": [
      "Epoch 343 tst: l 0.680 a 0.834  clct[20, 20] ans[20, 20] cl_acc 1.000 2.527sec\n"
     ]
    },
    {
     "name": "stdout",
     "output_type": "stream",
     "text": [
      "Epoch 344 tr: l 0.419 a 0.901  clct[32, 28] ans[32, 28] lr 0.007879 cl_acc 1.000 44.022sec(train) 3.999sec(infer)\n"
     ]
    },
    {
     "name": "stdout",
     "output_type": "stream",
     "text": [
      "Epoch 344 tst: l 0.676 a 0.837  clct[20, 20] ans[20, 20] cl_acc 1.000 2.466sec\n"
     ]
    },
    {
     "name": "stdout",
     "output_type": "stream",
     "text": [
      "Epoch 345 tr: l 0.446 a 0.893  clct[32, 28] ans[32, 28] lr 0.007800 cl_acc 1.000 44.009sec(train) 3.990sec(infer)\n"
     ]
    },
    {
     "name": "stdout",
     "output_type": "stream",
     "text": [
      "Epoch 345 tst: l 0.687 a 0.836  clct[20, 20] ans[20, 20] cl_acc 1.000 2.547sec\n"
     ]
    },
    {
     "name": "stdout",
     "output_type": "stream",
     "text": [
      "Epoch 346 tr: l 0.395 a 0.908  clct[31, 29] ans[31, 29] lr 0.007722 cl_acc 1.000 44.097sec(train) 4.154sec(infer)\n"
     ]
    },
    {
     "name": "stdout",
     "output_type": "stream",
     "text": [
      "Epoch 346 tst: l 0.667 a 0.839  clct[20, 20] ans[20, 20] cl_acc 1.000 2.419sec\n"
     ]
    },
    {
     "name": "stdout",
     "output_type": "stream",
     "text": [
      "Epoch 347 tr: l 0.435 a 0.896  clct[29, 31] ans[29, 31] lr 0.007645 cl_acc 1.000 43.975sec(train) 3.987sec(infer)\n"
     ]
    },
    {
     "name": "stdout",
     "output_type": "stream",
     "text": [
      "Epoch 347 tst: l 0.675 a 0.833  clct[20, 20] ans[20, 20] cl_acc 1.000 2.452sec\n"
     ]
    },
    {
     "name": "stdout",
     "output_type": "stream",
     "text": [
      "Epoch 348 tr: l 0.409 a 0.903  clct[22, 38] ans[22, 38] lr 0.007568 cl_acc 1.000 43.778sec(train) 4.006sec(infer)\n"
     ]
    },
    {
     "name": "stdout",
     "output_type": "stream",
     "text": [
      "Epoch 348 tst: l 0.667 a 0.836  clct[20, 20] ans[20, 20] cl_acc 1.000 2.532sec\n"
     ]
    },
    {
     "name": "stdout",
     "output_type": "stream",
     "text": [
      "Epoch 349 tr: l 0.408 a 0.904  clct[26, 34] ans[26, 34] lr 0.007492 cl_acc 1.000 43.736sec(train) 4.027sec(infer)\n"
     ]
    },
    {
     "name": "stdout",
     "output_type": "stream",
     "text": [
      "Epoch 349 tst: l 0.679 a 0.836  clct[20, 20] ans[20, 20] cl_acc 1.000 2.477sec\n"
     ]
    },
    {
     "name": "stdout",
     "output_type": "stream",
     "text": [
      "Epoch 350 tr: l 0.416 a 0.900  clct[26, 34] ans[26, 34] lr 0.007418 cl_acc 1.000 43.974sec(train) 4.094sec(infer)\n"
     ]
    },
    {
     "name": "stdout",
     "output_type": "stream",
     "text": [
      "Epoch 350 tst: l 0.681 a 0.835  clct[20, 20] ans[20, 20] cl_acc 1.000 2.657sec\n",
      "result written at output/results.pickle\n"
     ]
    },
    {
     "name": "stdout",
     "output_type": "stream",
     "text": [
      "Epoch 351 tr: l 0.389 a 0.910  clct[22, 38] ans[22, 38] lr 0.007343 cl_acc 1.000 44.096sec(train) 4.098sec(infer)\n"
     ]
    },
    {
     "name": "stdout",
     "output_type": "stream",
     "text": [
      "Epoch 351 tst: l 0.667 a 0.839  clct[20, 20] ans[20, 20] cl_acc 1.000 2.547sec\n"
     ]
    },
    {
     "name": "stdout",
     "output_type": "stream",
     "text": [
      "Epoch 352 tr: l 0.414 a 0.901  clct[33, 27] ans[33, 27] lr 0.007270 cl_acc 1.000 44.208sec(train) 4.059sec(infer)\n"
     ]
    },
    {
     "name": "stdout",
     "output_type": "stream",
     "text": [
      "Epoch 352 tst: l 0.678 a 0.838  clct[20, 20] ans[20, 20] cl_acc 1.000 2.542sec\n"
     ]
    },
    {
     "name": "stdout",
     "output_type": "stream",
     "text": [
      "Epoch 353 tr: l 0.408 a 0.904  clct[28, 32] ans[28, 32] lr 0.007197 cl_acc 1.000 43.688sec(train) 4.110sec(infer)\n"
     ]
    },
    {
     "name": "stdout",
     "output_type": "stream",
     "text": [
      "Epoch 353 tst: l 0.670 a 0.837  clct[20, 20] ans[20, 20] cl_acc 1.000 2.521sec\n"
     ]
    },
    {
     "name": "stdout",
     "output_type": "stream",
     "text": [
      "Epoch 354 tr: l 0.383 a 0.913  clct[31, 29] ans[31, 29] lr 0.007125 cl_acc 1.000 43.852sec(train) 4.058sec(infer)\n"
     ]
    },
    {
     "name": "stdout",
     "output_type": "stream",
     "text": [
      "Epoch 354 tst: l 0.669 a 0.841  clct[20, 20] ans[20, 20] cl_acc 1.000 2.546sec\n"
     ]
    },
    {
     "name": "stdout",
     "output_type": "stream",
     "text": [
      "Epoch 355 tr: l 0.411 a 0.903  clct[30, 30] ans[30, 30] lr 0.007054 cl_acc 1.000 43.790sec(train) 4.087sec(infer)\n"
     ]
    },
    {
     "name": "stdout",
     "output_type": "stream",
     "text": [
      "Epoch 355 tst: l 0.671 a 0.838  clct[20, 20] ans[20, 20] cl_acc 1.000 2.585sec\n"
     ]
    },
    {
     "name": "stdout",
     "output_type": "stream",
     "text": [
      "Epoch 356 tr: l 0.405 a 0.905  clct[25, 35] ans[25, 35] lr 0.006983 cl_acc 1.000 43.885sec(train) 4.092sec(infer)\n"
     ]
    },
    {
     "name": "stdout",
     "output_type": "stream",
     "text": [
      "Epoch 356 tst: l 0.675 a 0.840  clct[20, 20] ans[20, 20] cl_acc 1.000 2.591sec\n"
     ]
    },
    {
     "name": "stdout",
     "output_type": "stream",
     "text": [
      "Epoch 357 tr: l 0.403 a 0.903  clct[25, 35] ans[25, 35] lr 0.006914 cl_acc 1.000 43.989sec(train) 4.121sec(infer)\n"
     ]
    },
    {
     "name": "stdout",
     "output_type": "stream",
     "text": [
      "Epoch 357 tst: l 0.670 a 0.839  clct[20, 20] ans[20, 20] cl_acc 1.000 2.399sec\n"
     ]
    },
    {
     "name": "stdout",
     "output_type": "stream",
     "text": [
      "Epoch 358 tr: l 0.384 a 0.910  clct[27, 33] ans[27, 33] lr 0.006844 cl_acc 1.000 44.016sec(train) 4.011sec(infer)\n"
     ]
    },
    {
     "name": "stdout",
     "output_type": "stream",
     "text": [
      "Epoch 358 tst: l 0.667 a 0.839  clct[20, 20] ans[20, 20] cl_acc 1.000 2.519sec\n"
     ]
    },
    {
     "name": "stdout",
     "output_type": "stream",
     "text": [
      "Epoch 359 tr: l 0.410 a 0.903  clct[31, 29] ans[31, 29] lr 0.006776 cl_acc 1.000 43.930sec(train) 3.993sec(infer)\n"
     ]
    },
    {
     "name": "stdout",
     "output_type": "stream",
     "text": [
      "Epoch 359 tst: l 0.675 a 0.838  clct[20, 20] ans[20, 20] cl_acc 1.000 2.563sec\n"
     ]
    },
    {
     "name": "stdout",
     "output_type": "stream",
     "text": [
      "Epoch 360 tr: l 0.400 a 0.905  clct[28, 32] ans[28, 32] lr 0.006708 cl_acc 1.000 44.082sec(train) 3.996sec(infer)\n"
     ]
    },
    {
     "name": "stdout",
     "output_type": "stream",
     "text": [
      "Epoch 360 tst: l 0.675 a 0.838  clct[20, 20] ans[20, 20] cl_acc 1.000 2.484sec\n",
      "result written at output/results.pickle\n"
     ]
    },
    {
     "name": "stdout",
     "output_type": "stream",
     "text": [
      "Epoch 361 tr: l 0.406 a 0.903  clct[32, 28] ans[32, 28] lr 0.006641 cl_acc 1.000 44.166sec(train) 4.117sec(infer)\n"
     ]
    },
    {
     "name": "stdout",
     "output_type": "stream",
     "text": [
      "Epoch 361 tst: l 0.660 a 0.841  clct[20, 20] ans[20, 20] cl_acc 1.000 2.588sec\n"
     ]
    },
    {
     "name": "stdout",
     "output_type": "stream",
     "text": [
      "Epoch 362 tr: l 0.409 a 0.900  clct[29, 31] ans[29, 31] lr 0.006575 cl_acc 1.000 44.116sec(train) 4.010sec(infer)\n"
     ]
    },
    {
     "name": "stdout",
     "output_type": "stream",
     "text": [
      "Epoch 362 tst: l 0.672 a 0.837  clct[20, 20] ans[20, 20] cl_acc 1.000 2.616sec\n"
     ]
    },
    {
     "name": "stdout",
     "output_type": "stream",
     "text": [
      "Epoch 363 tr: l 0.396 a 0.907  clct[30, 30] ans[30, 30] lr 0.006509 cl_acc 1.000 44.348sec(train) 4.059sec(infer)\n"
     ]
    },
    {
     "name": "stdout",
     "output_type": "stream",
     "text": [
      "Epoch 363 tst: l 0.669 a 0.841  clct[20, 20] ans[20, 20] cl_acc 1.000 2.549sec\n"
     ]
    },
    {
     "name": "stdout",
     "output_type": "stream",
     "text": [
      "Epoch 364 tr: l 0.386 a 0.911  clct[27, 33] ans[27, 33] lr 0.006444 cl_acc 1.000 44.038sec(train) 4.066sec(infer)\n"
     ]
    },
    {
     "name": "stdout",
     "output_type": "stream",
     "text": [
      "Epoch 364 tst: l 0.649 a 0.841  clct[20, 20] ans[20, 20] cl_acc 1.000 2.602sec\n"
     ]
    },
    {
     "name": "stdout",
     "output_type": "stream",
     "text": [
      "Epoch 365 tr: l 0.392 a 0.908  clct[30, 30] ans[30, 30] lr 0.006379 cl_acc 1.000 44.285sec(train) 4.134sec(infer)\n"
     ]
    },
    {
     "name": "stdout",
     "output_type": "stream",
     "text": [
      "Epoch 365 tst: l 0.669 a 0.838  clct[20, 20] ans[20, 20] cl_acc 1.000 2.571sec\n"
     ]
    },
    {
     "name": "stdout",
     "output_type": "stream",
     "text": [
      "Epoch 366 tr: l 0.405 a 0.903  clct[33, 27] ans[33, 27] lr 0.006316 cl_acc 1.000 44.350sec(train) 4.090sec(infer)\n"
     ]
    },
    {
     "name": "stdout",
     "output_type": "stream",
     "text": [
      "Epoch 366 tst: l 0.662 a 0.840  clct[20, 20] ans[20, 20] cl_acc 1.000 2.514sec\n"
     ]
    },
    {
     "name": "stdout",
     "output_type": "stream",
     "text": [
      "Epoch 367 tr: l 0.387 a 0.909  clct[26, 34] ans[26, 34] lr 0.006253 cl_acc 1.000 44.087sec(train) 3.911sec(infer)\n"
     ]
    },
    {
     "name": "stdout",
     "output_type": "stream",
     "text": [
      "Epoch 367 tst: l 0.671 a 0.838  clct[20, 20] ans[20, 20] cl_acc 1.000 2.526sec\n"
     ]
    },
    {
     "name": "stdout",
     "output_type": "stream",
     "text": [
      "Epoch 368 tr: l 0.394 a 0.906  clct[31, 29] ans[31, 29] lr 0.006190 cl_acc 1.000 43.877sec(train) 4.065sec(infer)\n"
     ]
    },
    {
     "name": "stdout",
     "output_type": "stream",
     "text": [
      "Epoch 368 tst: l 0.670 a 0.838  clct[20, 20] ans[20, 20] cl_acc 1.000 2.513sec\n"
     ]
    },
    {
     "name": "stdout",
     "output_type": "stream",
     "text": [
      "Epoch 369 tr: l 0.389 a 0.909  clct[25, 35] ans[25, 35] lr 0.006128 cl_acc 1.000 44.018sec(train) 3.957sec(infer)\n"
     ]
    },
    {
     "name": "stdout",
     "output_type": "stream",
     "text": [
      "Epoch 369 tst: l 0.680 a 0.837  clct[20, 20] ans[20, 20] cl_acc 1.000 2.415sec\n"
     ]
    },
    {
     "name": "stdout",
     "output_type": "stream",
     "text": [
      "Epoch 370 tr: l 0.393 a 0.907  clct[30, 30] ans[30, 30] lr 0.006067 cl_acc 1.000 44.096sec(train) 4.019sec(infer)\n"
     ]
    },
    {
     "name": "stdout",
     "output_type": "stream",
     "text": [
      "Epoch 370 tst: l 0.661 a 0.841  clct[20, 20] ans[20, 20] cl_acc 1.000 2.589sec\n",
      "result written at output/results.pickle\n"
     ]
    },
    {
     "name": "stdout",
     "output_type": "stream",
     "text": [
      "Epoch 371 tr: l 0.379 a 0.910  clct[32, 28] ans[32, 28] lr 0.006006 cl_acc 1.000 43.922sec(train) 3.977sec(infer)\n"
     ]
    },
    {
     "name": "stdout",
     "output_type": "stream",
     "text": [
      "Epoch 371 tst: l 0.658 a 0.844  clct[20, 20] ans[20, 20] cl_acc 1.000 2.609sec\n"
     ]
    },
    {
     "name": "stdout",
     "output_type": "stream",
     "text": [
      "Epoch 372 tr: l 0.370 a 0.913  clct[26, 34] ans[26, 34] lr 0.005946 cl_acc 1.000 44.173sec(train) 4.006sec(infer)\n"
     ]
    },
    {
     "name": "stdout",
     "output_type": "stream",
     "text": [
      "Epoch 372 tst: l 0.667 a 0.838  clct[20, 20] ans[20, 20] cl_acc 1.000 2.547sec\n"
     ]
    },
    {
     "name": "stdout",
     "output_type": "stream",
     "text": [
      "Epoch 373 tr: l 0.402 a 0.903  clct[28, 32] ans[28, 32] lr 0.005887 cl_acc 1.000 43.947sec(train) 4.019sec(infer)\n"
     ]
    },
    {
     "name": "stdout",
     "output_type": "stream",
     "text": [
      "Epoch 373 tst: l 0.662 a 0.839  clct[20, 20] ans[20, 20] cl_acc 1.000 2.433sec\n"
     ]
    },
    {
     "name": "stdout",
     "output_type": "stream",
     "text": [
      "Epoch 374 tr: l 0.388 a 0.906  clct[33, 27] ans[33, 27] lr 0.005828 cl_acc 1.000 44.035sec(train) 4.108sec(infer)\n"
     ]
    },
    {
     "name": "stdout",
     "output_type": "stream",
     "text": [
      "Epoch 374 tst: l 0.663 a 0.838  clct[20, 20] ans[20, 20] cl_acc 1.000 2.544sec\n"
     ]
    },
    {
     "name": "stdout",
     "output_type": "stream",
     "text": [
      "Epoch 375 tr: l 0.367 a 0.914  clct[36, 24] ans[36, 24] lr 0.005769 cl_acc 1.000 43.691sec(train) 4.151sec(infer)\n"
     ]
    },
    {
     "name": "stdout",
     "output_type": "stream",
     "text": [
      "Epoch 375 tst: l 0.674 a 0.838  clct[20, 20] ans[20, 20] cl_acc 1.000 2.657sec\n"
     ]
    },
    {
     "name": "stdout",
     "output_type": "stream",
     "text": [
      "Epoch 376 tr: l 0.382 a 0.908  clct[30, 30] ans[30, 30] lr 0.005712 cl_acc 1.000 43.909sec(train) 4.189sec(infer)\n"
     ]
    },
    {
     "name": "stdout",
     "output_type": "stream",
     "text": [
      "Epoch 376 tst: l 0.656 a 0.844  clct[20, 20] ans[20, 20] cl_acc 1.000 2.663sec\n"
     ]
    },
    {
     "name": "stdout",
     "output_type": "stream",
     "text": [
      "Epoch 377 tr: l 0.359 a 0.917  clct[25, 35] ans[25, 35] lr 0.005655 cl_acc 1.000 43.815sec(train) 3.987sec(infer)\n"
     ]
    },
    {
     "name": "stdout",
     "output_type": "stream",
     "text": [
      "Epoch 377 tst: l 0.658 a 0.840  clct[20, 20] ans[20, 20] cl_acc 1.000 2.409sec\n"
     ]
    },
    {
     "name": "stdout",
     "output_type": "stream",
     "text": [
      "Epoch 378 tr: l 0.374 a 0.911  clct[35, 25] ans[35, 25] lr 0.005598 cl_acc 1.000 43.845sec(train) 3.914sec(infer)\n"
     ]
    },
    {
     "name": "stdout",
     "output_type": "stream",
     "text": [
      "Epoch 378 tst: l 0.663 a 0.839  clct[20, 20] ans[20, 20] cl_acc 1.000 2.504sec\n"
     ]
    },
    {
     "name": "stdout",
     "output_type": "stream",
     "text": [
      "Epoch 379 tr: l 0.381 a 0.909  clct[27, 33] ans[27, 33] lr 0.005542 cl_acc 1.000 43.958sec(train) 4.055sec(infer)\n"
     ]
    },
    {
     "name": "stdout",
     "output_type": "stream",
     "text": [
      "Epoch 379 tst: l 0.660 a 0.845  clct[20, 20] ans[20, 20] cl_acc 1.000 2.462sec\n"
     ]
    },
    {
     "name": "stdout",
     "output_type": "stream",
     "text": [
      "Epoch 380 tr: l 0.362 a 0.913  clct[30, 30] ans[30, 30] lr 0.005487 cl_acc 1.000 43.938sec(train) 3.983sec(infer)\n"
     ]
    },
    {
     "name": "stdout",
     "output_type": "stream",
     "text": [
      "Epoch 380 tst: l 0.648 a 0.843  clct[20, 20] ans[20, 20] cl_acc 1.000 2.530sec\n",
      "result written at output/results.pickle\n"
     ]
    },
    {
     "name": "stdout",
     "output_type": "stream",
     "text": [
      "Epoch 381 tr: l 0.377 a 0.910  clct[35, 25] ans[35, 25] lr 0.005432 cl_acc 1.000 43.979sec(train) 3.890sec(infer)\n"
     ]
    },
    {
     "name": "stdout",
     "output_type": "stream",
     "text": [
      "Epoch 381 tst: l 0.663 a 0.840  clct[20, 20] ans[20, 20] cl_acc 1.000 2.558sec\n"
     ]
    },
    {
     "name": "stdout",
     "output_type": "stream",
     "text": [
      "Epoch 382 tr: l 0.364 a 0.913  clct[28, 32] ans[28, 32] lr 0.005378 cl_acc 1.000 43.948sec(train) 4.023sec(infer)\n"
     ]
    },
    {
     "name": "stdout",
     "output_type": "stream",
     "text": [
      "Epoch 382 tst: l 0.679 a 0.840  clct[20, 20] ans[20, 20] cl_acc 1.000 2.480sec\n"
     ]
    },
    {
     "name": "stdout",
     "output_type": "stream",
     "text": [
      "Epoch 383 tr: l 0.362 a 0.914  clct[24, 36] ans[24, 36] lr 0.005324 cl_acc 1.000 43.962sec(train) 4.054sec(infer)\n"
     ]
    },
    {
     "name": "stdout",
     "output_type": "stream",
     "text": [
      "Epoch 383 tst: l 0.664 a 0.840  clct[20, 20] ans[20, 20] cl_acc 1.000 2.442sec\n"
     ]
    },
    {
     "name": "stdout",
     "output_type": "stream",
     "text": [
      "Epoch 384 tr: l 0.369 a 0.914  clct[35, 25] ans[35, 25] lr 0.005271 cl_acc 1.000 43.941sec(train) 3.995sec(infer)\n"
     ]
    },
    {
     "name": "stdout",
     "output_type": "stream",
     "text": [
      "Epoch 384 tst: l 0.671 a 0.838  clct[20, 20] ans[20, 20] cl_acc 1.000 2.525sec\n"
     ]
    },
    {
     "name": "stdout",
     "output_type": "stream",
     "text": [
      "Epoch 385 tr: l 0.365 a 0.914  clct[30, 30] ans[30, 30] lr 0.005218 cl_acc 1.000 43.963sec(train) 4.052sec(infer)\n"
     ]
    },
    {
     "name": "stdout",
     "output_type": "stream",
     "text": [
      "Epoch 385 tst: l 0.654 a 0.842  clct[20, 20] ans[20, 20] cl_acc 1.000 2.537sec\n"
     ]
    },
    {
     "name": "stdout",
     "output_type": "stream",
     "text": [
      "Epoch 386 tr: l 0.361 a 0.915  clct[32, 28] ans[32, 28] lr 0.005166 cl_acc 1.000 44.020sec(train) 4.040sec(infer)\n"
     ]
    },
    {
     "name": "stdout",
     "output_type": "stream",
     "text": [
      "Epoch 386 tst: l 0.666 a 0.840  clct[20, 20] ans[20, 20] cl_acc 1.000 2.603sec\n"
     ]
    },
    {
     "name": "stdout",
     "output_type": "stream",
     "text": [
      "Epoch 387 tr: l 0.374 a 0.911  clct[32, 28] ans[32, 28] lr 0.005114 cl_acc 1.000 43.949sec(train) 4.115sec(infer)\n"
     ]
    },
    {
     "name": "stdout",
     "output_type": "stream",
     "text": [
      "Epoch 387 tst: l 0.669 a 0.845  clct[20, 20] ans[20, 20] cl_acc 1.000 2.611sec\n"
     ]
    },
    {
     "name": "stdout",
     "output_type": "stream",
     "text": [
      "Epoch 388 tr: l 0.367 a 0.912  clct[29, 31] ans[29, 31] lr 0.005063 cl_acc 1.000 43.918sec(train) 4.071sec(infer)\n"
     ]
    },
    {
     "name": "stdout",
     "output_type": "stream",
     "text": [
      "Epoch 388 tst: l 0.667 a 0.841  clct[20, 20] ans[20, 20] cl_acc 1.000 2.593sec\n"
     ]
    },
    {
     "name": "stdout",
     "output_type": "stream",
     "text": [
      "Epoch 389 tr: l 0.367 a 0.913  clct[37, 23] ans[37, 23] lr 0.005012 cl_acc 1.000 44.249sec(train) 4.056sec(infer)\n"
     ]
    },
    {
     "name": "stdout",
     "output_type": "stream",
     "text": [
      "Epoch 389 tst: l 0.662 a 0.841  clct[20, 20] ans[20, 20] cl_acc 1.000 2.578sec\n"
     ]
    },
    {
     "name": "stdout",
     "output_type": "stream",
     "text": [
      "Epoch 390 tr: l 0.345 a 0.920  clct[33, 27] ans[33, 27] lr 0.004962 cl_acc 1.000 43.945sec(train) 3.964sec(infer)\n"
     ]
    },
    {
     "name": "stdout",
     "output_type": "stream",
     "text": [
      "Epoch 390 tst: l 0.648 a 0.845  clct[20, 20] ans[20, 20] cl_acc 1.000 2.504sec\n",
      "result written at output/results.pickle\n"
     ]
    },
    {
     "name": "stdout",
     "output_type": "stream",
     "text": [
      "Epoch 391 tr: l 0.349 a 0.919  clct[32, 28] ans[32, 28] lr 0.004912 cl_acc 1.000 44.093sec(train) 4.010sec(infer)\n"
     ]
    },
    {
     "name": "stdout",
     "output_type": "stream",
     "text": [
      "Epoch 391 tst: l 0.659 a 0.841  clct[20, 20] ans[20, 20] cl_acc 1.000 2.551sec\n"
     ]
    },
    {
     "name": "stdout",
     "output_type": "stream",
     "text": [
      "Epoch 392 tr: l 0.347 a 0.920  clct[38, 22] ans[38, 22] lr 0.004863 cl_acc 1.000 43.951sec(train) 4.024sec(infer)\n"
     ]
    },
    {
     "name": "stdout",
     "output_type": "stream",
     "text": [
      "Epoch 392 tst: l 0.663 a 0.840  clct[20, 20] ans[20, 20] cl_acc 1.000 2.584sec\n"
     ]
    },
    {
     "name": "stdout",
     "output_type": "stream",
     "text": [
      "Epoch 393 tr: l 0.341 a 0.921  clct[24, 36] ans[24, 36] lr 0.004815 cl_acc 1.000 43.987sec(train) 4.028sec(infer)\n"
     ]
    },
    {
     "name": "stdout",
     "output_type": "stream",
     "text": [
      "Epoch 393 tst: l 0.654 a 0.844  clct[20, 20] ans[20, 20] cl_acc 1.000 2.472sec\n"
     ]
    },
    {
     "name": "stdout",
     "output_type": "stream",
     "text": [
      "Epoch 394 tr: l 0.355 a 0.915  clct[31, 29] ans[31, 29] lr 0.004767 cl_acc 1.000 43.914sec(train) 3.913sec(infer)\n"
     ]
    },
    {
     "name": "stdout",
     "output_type": "stream",
     "text": [
      "Epoch 394 tst: l 0.667 a 0.841  clct[20, 20] ans[20, 20] cl_acc 1.000 2.483sec\n"
     ]
    },
    {
     "name": "stdout",
     "output_type": "stream",
     "text": [
      "Epoch 395 tr: l 0.357 a 0.917  clct[33, 27] ans[33, 27] lr 0.004719 cl_acc 1.000 44.159sec(train) 4.019sec(infer)\n"
     ]
    },
    {
     "name": "stdout",
     "output_type": "stream",
     "text": [
      "Epoch 395 tst: l 0.657 a 0.839  clct[20, 20] ans[20, 20] cl_acc 1.000 2.539sec\n"
     ]
    },
    {
     "name": "stdout",
     "output_type": "stream",
     "text": [
      "Epoch 396 tr: l 0.345 a 0.918  clct[30, 30] ans[30, 30] lr 0.004672 cl_acc 1.000 44.177sec(train) 3.999sec(infer)\n"
     ]
    },
    {
     "name": "stdout",
     "output_type": "stream",
     "text": [
      "Epoch 396 tst: l 0.640 a 0.844  clct[20, 20] ans[20, 20] cl_acc 1.000 2.523sec\n"
     ]
    },
    {
     "name": "stdout",
     "output_type": "stream",
     "text": [
      "Epoch 397 tr: l 0.339 a 0.921  clct[33, 27] ans[33, 27] lr 0.004625 cl_acc 1.000 44.158sec(train) 4.064sec(infer)\n"
     ]
    },
    {
     "name": "stdout",
     "output_type": "stream",
     "text": [
      "Epoch 397 tst: l 0.656 a 0.843  clct[20, 20] ans[20, 20] cl_acc 1.000 2.514sec\n"
     ]
    },
    {
     "name": "stdout",
     "output_type": "stream",
     "text": [
      "Epoch 398 tr: l 0.350 a 0.917  clct[24, 36] ans[24, 36] lr 0.004579 cl_acc 1.000 43.899sec(train) 4.103sec(infer)\n"
     ]
    },
    {
     "name": "stdout",
     "output_type": "stream",
     "text": [
      "Epoch 398 tst: l 0.666 a 0.841  clct[20, 20] ans[20, 20] cl_acc 1.000 2.519sec\n"
     ]
    },
    {
     "name": "stdout",
     "output_type": "stream",
     "text": [
      "Epoch 399 tr: l 0.340 a 0.920  clct[28, 32] ans[28, 32] lr 0.004533 cl_acc 1.000 44.079sec(train) 4.063sec(infer)\n"
     ]
    },
    {
     "name": "stdout",
     "output_type": "stream",
     "text": [
      "Epoch 399 tst: l 0.664 a 0.840  clct[20, 20] ans[20, 20] cl_acc 1.000 2.671sec\n",
      "result written at output/results.pickle\n",
      "---train cluster Ended in 5.60 hour (20152.070 sec) \n",
      "---------------------------------DFCA-GI, lr: 0.25, seed: 15---------------------------------\n",
      "config: {'m': 200, 'm_test': 40, 'p': 2, 'n': 500, 'participation_rate': 0.3, 'num_epochs': 400, 'batch_size': 50, 'tau': 5, 'lr': 0.25, 'data_seed': 15, 'train_seed': 15, 'project_dir': 'output'}\n"
     ]
    },
    {
     "name": "stdout",
     "output_type": "stream",
     "text": [
      "finding good initializer from train data\n"
     ]
    },
    {
     "name": "stderr",
     "output_type": "stream",
     "text": [
      "2025-06-02 19:56:29.156135: W tensorflow/c/c_api.cc:305] Operation '{name:'softmax_linear/biases/Assign' id:221 op device:{requested: '/device:CPU:0', assigned: ''} def:{{{node softmax_linear/biases/Assign}} = Assign[T=DT_FLOAT, _class=[\"loc:@softmax_linear/biases\"], _has_manual_control_dependencies=true, use_locking=true, validate_shape=true, _device=\"/device:CPU:0\"](softmax_linear/biases, softmax_linear/biases/Initializer/Const)}}' was changed by setting attribute after it was run by a session. This mutation will have no effect, and will trigger an error in the future. Either don't modify nodes after running them or create a new session.\n"
     ]
    },
    {
     "name": "stdout",
     "output_type": "stream",
     "text": [
      "Epoch -1 tr: l 4.678 a 0.105  clct[39, 21] ans[29, 31] cl_acc 0.533 3.961sec\n"
     ]
    },
    {
     "name": "stderr",
     "output_type": "stream",
     "text": [
      "2025-06-02 19:56:33.140350: W tensorflow/c/c_api.cc:305] Operation '{name:'softmax_linear/biases/Assign' id:221 op device:{requested: '/device:CPU:0', assigned: ''} def:{{{node softmax_linear/biases/Assign}} = Assign[T=DT_FLOAT, _class=[\"loc:@softmax_linear/biases\"], _has_manual_control_dependencies=true, use_locking=true, validate_shape=true, _device=\"/device:CPU:0\"](softmax_linear/biases, softmax_linear/biases/Initializer/Const)}}' was changed by setting attribute after it was run by a session. This mutation will have no effect, and will trigger an error in the future. Either don't modify nodes after running them or create a new session.\n"
     ]
    },
    {
     "name": "stdout",
     "output_type": "stream",
     "text": [
      "Epoch -1 tr: l 4.677 a 0.101  clct[3, 57] ans[30, 30] cl_acc 0.517 3.796sec\n"
     ]
    },
    {
     "name": "stderr",
     "output_type": "stream",
     "text": [
      "2025-06-02 19:56:36.959432: W tensorflow/c/c_api.cc:305] Operation '{name:'softmax_linear/biases/Assign' id:221 op device:{requested: '/device:CPU:0', assigned: ''} def:{{{node softmax_linear/biases/Assign}} = Assign[T=DT_FLOAT, _class=[\"loc:@softmax_linear/biases\"], _has_manual_control_dependencies=true, use_locking=true, validate_shape=true, _device=\"/device:CPU:0\"](softmax_linear/biases, softmax_linear/biases/Initializer/Const)}}' was changed by setting attribute after it was run by a session. This mutation will have no effect, and will trigger an error in the future. Either don't modify nodes after running them or create a new session.\n"
     ]
    },
    {
     "name": "stdout",
     "output_type": "stream",
     "text": [
      "Epoch -1 tr: l 4.671 a 0.101  clct[10, 50] ans[32, 28] cl_acc 0.567 3.655sec\n"
     ]
    },
    {
     "name": "stderr",
     "output_type": "stream",
     "text": [
      "2025-06-02 19:56:40.637434: W tensorflow/c/c_api.cc:305] Operation '{name:'softmax_linear/biases/Assign' id:221 op device:{requested: '/device:CPU:0', assigned: ''} def:{{{node softmax_linear/biases/Assign}} = Assign[T=DT_FLOAT, _class=[\"loc:@softmax_linear/biases\"], _has_manual_control_dependencies=true, use_locking=true, validate_shape=true, _device=\"/device:CPU:0\"](softmax_linear/biases, softmax_linear/biases/Initializer/Const)}}' was changed by setting attribute after it was run by a session. This mutation will have no effect, and will trigger an error in the future. Either don't modify nodes after running them or create a new session.\n"
     ]
    },
    {
     "name": "stdout",
     "output_type": "stream",
     "text": [
      "Epoch -1 tr: l 4.675 a 0.100  clct[1, 59] ans[33, 27] cl_acc 0.567 3.970sec\n"
     ]
    },
    {
     "name": "stderr",
     "output_type": "stream",
     "text": [
      "2025-06-02 19:56:44.631239: W tensorflow/c/c_api.cc:305] Operation '{name:'softmax_linear/biases/Assign' id:221 op device:{requested: '/device:CPU:0', assigned: ''} def:{{{node softmax_linear/biases/Assign}} = Assign[T=DT_FLOAT, _class=[\"loc:@softmax_linear/biases\"], _has_manual_control_dependencies=true, use_locking=true, validate_shape=true, _device=\"/device:CPU:0\"](softmax_linear/biases, softmax_linear/biases/Initializer/Const)}}' was changed by setting attribute after it was run by a session. This mutation will have no effect, and will trigger an error in the future. Either don't modify nodes after running them or create a new session.\n"
     ]
    },
    {
     "name": "stdout",
     "output_type": "stream",
     "text": [
      "Epoch -1 tr: l 4.677 a 0.101  clct[58, 2] ans[26, 34] cl_acc 0.567 3.971sec\n"
     ]
    },
    {
     "name": "stderr",
     "output_type": "stream",
     "text": [
      "2025-06-02 19:56:48.625930: W tensorflow/c/c_api.cc:305] Operation '{name:'softmax_linear/biases/Assign' id:221 op device:{requested: '/device:CPU:0', assigned: ''} def:{{{node softmax_linear/biases/Assign}} = Assign[T=DT_FLOAT, _class=[\"loc:@softmax_linear/biases\"], _has_manual_control_dependencies=true, use_locking=true, validate_shape=true, _device=\"/device:CPU:0\"](softmax_linear/biases, softmax_linear/biases/Initializer/Const)}}' was changed by setting attribute after it was run by a session. This mutation will have no effect, and will trigger an error in the future. Either don't modify nodes after running them or create a new session.\n"
     ]
    },
    {
     "name": "stdout",
     "output_type": "stream",
     "text": [
      "Epoch -1 tr: l 4.672 a 0.104  clct[28, 32] ans[32, 28] cl_acc 0.733 3.816sec\n",
      "found good initializer\n"
     ]
    },
    {
     "name": "stdout",
     "output_type": "stream",
     "text": [
      "Epoch -1 tr: l 4.672 a 0.105  clct[31, 29] ans[33, 27] cl_acc 0.767 3.759sec\n"
     ]
    },
    {
     "name": "stdout",
     "output_type": "stream",
     "text": [
      "Epoch -1 tst: l 4.672 a 0.104  clct[15, 25] ans[20, 20] cl_acc 0.625 2.306sec\n"
     ]
    },
    {
     "name": "stdout",
     "output_type": "stream",
     "text": [
      "Epoch 0 tr: l 2.191 a 0.339  clct[22, 38] ans[29, 31] lr 0.250000 cl_acc 0.750 43.910sec(train) 3.800sec(infer)\n"
     ]
    },
    {
     "name": "stdout",
     "output_type": "stream",
     "text": [
      "Epoch 0 tst: l 2.096 a 0.374  clct[18, 22] ans[20, 20] cl_acc 0.950 2.429sec\n",
      "result written at output/results.pickle\n"
     ]
    },
    {
     "name": "stdout",
     "output_type": "stream",
     "text": [
      "Epoch 1 tr: l 2.077 a 0.428  clct[5, 55] ans[31, 29] lr 0.247500 cl_acc 0.567 43.858sec(train) 3.907sec(infer)\n"
     ]
    },
    {
     "name": "stdout",
     "output_type": "stream",
     "text": [
      "Epoch 1 tst: l 1.969 a 0.462  clct[0, 40] ans[20, 20] cl_acc 0.500 2.441sec\n"
     ]
    },
    {
     "name": "stdout",
     "output_type": "stream",
     "text": [
      "Epoch 2 tr: l 2.012 a 0.454  clct[11, 49] ans[30, 30] lr 0.245025 cl_acc 0.683 43.681sec(train) 3.932sec(infer)\n"
     ]
    },
    {
     "name": "stdout",
     "output_type": "stream",
     "text": [
      "Epoch 2 tst: l 1.953 a 0.465  clct[12, 28] ans[20, 20] cl_acc 0.800 2.445sec\n"
     ]
    },
    {
     "name": "stdout",
     "output_type": "stream",
     "text": [
      "Epoch 3 tr: l 2.067 a 0.472  clct[29, 31] ans[29, 31] lr 0.242575 cl_acc 1.000 43.722sec(train) 3.731sec(infer)\n"
     ]
    },
    {
     "name": "stdout",
     "output_type": "stream",
     "text": [
      "Epoch 3 tst: l 1.964 a 0.516  clct[20, 20] ans[20, 20] cl_acc 1.000 2.450sec\n"
     ]
    },
    {
     "name": "stdout",
     "output_type": "stream",
     "text": [
      "Epoch 4 tr: l 1.725 a 0.570  clct[31, 29] ans[31, 29] lr 0.240149 cl_acc 1.000 43.609sec(train) 3.920sec(infer)\n"
     ]
    },
    {
     "name": "stdout",
     "output_type": "stream",
     "text": [
      "Epoch 4 tst: l 1.673 a 0.598  clct[20, 20] ans[20, 20] cl_acc 1.000 2.395sec\n"
     ]
    },
    {
     "name": "stdout",
     "output_type": "stream",
     "text": [
      "Epoch 5 tr: l 1.731 a 0.573  clct[34, 26] ans[34, 26] lr 0.237748 cl_acc 1.000 43.588sec(train) 4.103sec(infer)\n"
     ]
    },
    {
     "name": "stdout",
     "output_type": "stream",
     "text": [
      "Epoch 5 tst: l 1.641 a 0.610  clct[20, 20] ans[20, 20] cl_acc 1.000 2.479sec\n"
     ]
    },
    {
     "name": "stdout",
     "output_type": "stream",
     "text": [
      "Epoch 6 tr: l 1.712 a 0.595  clct[35, 25] ans[35, 25] lr 0.235370 cl_acc 1.000 43.469sec(train) 3.888sec(infer)\n"
     ]
    },
    {
     "name": "stdout",
     "output_type": "stream",
     "text": [
      "Epoch 6 tst: l 1.595 a 0.632  clct[20, 20] ans[20, 20] cl_acc 1.000 2.469sec\n"
     ]
    },
    {
     "name": "stdout",
     "output_type": "stream",
     "text": [
      "Epoch 7 tr: l 1.663 a 0.612  clct[33, 27] ans[33, 27] lr 0.233016 cl_acc 1.000 43.460sec(train) 3.890sec(infer)\n"
     ]
    },
    {
     "name": "stdout",
     "output_type": "stream",
     "text": [
      "Epoch 7 tst: l 1.584 a 0.645  clct[20, 20] ans[20, 20] cl_acc 1.000 2.410sec\n"
     ]
    },
    {
     "name": "stdout",
     "output_type": "stream",
     "text": [
      "Epoch 8 tr: l 1.723 a 0.592  clct[29, 31] ans[29, 31] lr 0.230686 cl_acc 1.000 43.439sec(train) 3.956sec(infer)\n"
     ]
    },
    {
     "name": "stdout",
     "output_type": "stream",
     "text": [
      "Epoch 8 tst: l 1.637 a 0.616  clct[20, 20] ans[20, 20] cl_acc 1.000 2.460sec\n"
     ]
    },
    {
     "name": "stdout",
     "output_type": "stream",
     "text": [
      "Epoch 9 tr: l 1.743 a 0.602  clct[32, 28] ans[32, 28] lr 0.228379 cl_acc 1.000 43.391sec(train) 4.008sec(infer)\n"
     ]
    },
    {
     "name": "stdout",
     "output_type": "stream",
     "text": [
      "Epoch 9 tst: l 1.632 a 0.639  clct[20, 20] ans[20, 20] cl_acc 1.000 2.501sec\n"
     ]
    },
    {
     "name": "stdout",
     "output_type": "stream",
     "text": [
      "Epoch 10 tr: l 1.674 a 0.621  clct[28, 32] ans[28, 32] lr 0.226096 cl_acc 1.000 43.413sec(train) 3.930sec(infer)\n"
     ]
    },
    {
     "name": "stdout",
     "output_type": "stream",
     "text": [
      "Epoch 10 tst: l 1.604 a 0.647  clct[20, 20] ans[20, 20] cl_acc 1.000 2.417sec\n",
      "result written at output/results.pickle\n"
     ]
    },
    {
     "name": "stdout",
     "output_type": "stream",
     "text": [
      "Epoch 11 tr: l 1.672 a 0.626  clct[25, 35] ans[25, 35] lr 0.223835 cl_acc 1.000 43.495sec(train) 3.820sec(infer)\n"
     ]
    },
    {
     "name": "stdout",
     "output_type": "stream",
     "text": [
      "Epoch 11 tst: l 1.568 a 0.659  clct[20, 20] ans[20, 20] cl_acc 1.000 2.493sec\n"
     ]
    },
    {
     "name": "stdout",
     "output_type": "stream",
     "text": [
      "Epoch 12 tr: l 1.682 a 0.627  clct[33, 27] ans[33, 27] lr 0.221596 cl_acc 1.000 43.476sec(train) 3.876sec(infer)\n"
     ]
    },
    {
     "name": "stdout",
     "output_type": "stream",
     "text": [
      "Epoch 12 tst: l 1.599 a 0.654  clct[20, 20] ans[20, 20] cl_acc 1.000 2.487sec\n"
     ]
    },
    {
     "name": "stdout",
     "output_type": "stream",
     "text": [
      "Epoch 13 tr: l 1.559 a 0.649  clct[33, 27] ans[33, 27] lr 0.219380 cl_acc 1.000 43.313sec(train) 3.787sec(infer)\n"
     ]
    },
    {
     "name": "stdout",
     "output_type": "stream",
     "text": [
      "Epoch 13 tst: l 1.522 a 0.669  clct[20, 20] ans[20, 20] cl_acc 1.000 2.366sec\n"
     ]
    },
    {
     "name": "stdout",
     "output_type": "stream",
     "text": [
      "Epoch 14 tr: l 1.540 a 0.657  clct[27, 33] ans[27, 33] lr 0.217186 cl_acc 1.000 43.388sec(train) 3.887sec(infer)\n"
     ]
    },
    {
     "name": "stdout",
     "output_type": "stream",
     "text": [
      "Epoch 14 tst: l 1.444 a 0.695  clct[20, 20] ans[20, 20] cl_acc 1.000 2.548sec\n"
     ]
    },
    {
     "name": "stdout",
     "output_type": "stream",
     "text": [
      "Epoch 15 tr: l 1.629 a 0.639  clct[30, 30] ans[30, 30] lr 0.215015 cl_acc 1.000 43.463sec(train) 3.933sec(infer)\n"
     ]
    },
    {
     "name": "stdout",
     "output_type": "stream",
     "text": [
      "Epoch 15 tst: l 1.578 a 0.656  clct[20, 20] ans[20, 20] cl_acc 1.000 2.416sec\n"
     ]
    },
    {
     "name": "stdout",
     "output_type": "stream",
     "text": [
      "Epoch 16 tr: l 1.510 a 0.675  clct[27, 33] ans[27, 33] lr 0.212864 cl_acc 1.000 43.167sec(train) 4.002sec(infer)\n"
     ]
    },
    {
     "name": "stdout",
     "output_type": "stream",
     "text": [
      "Epoch 16 tst: l 1.436 a 0.701  clct[20, 20] ans[20, 20] cl_acc 1.000 2.446sec\n"
     ]
    },
    {
     "name": "stdout",
     "output_type": "stream",
     "text": [
      "Epoch 17 tr: l 1.531 a 0.667  clct[32, 28] ans[32, 28] lr 0.210736 cl_acc 1.000 43.489sec(train) 3.781sec(infer)\n"
     ]
    },
    {
     "name": "stdout",
     "output_type": "stream",
     "text": [
      "Epoch 17 tst: l 1.449 a 0.696  clct[20, 20] ans[20, 20] cl_acc 1.000 2.379sec\n"
     ]
    },
    {
     "name": "stdout",
     "output_type": "stream",
     "text": [
      "Epoch 18 tr: l 1.508 a 0.670  clct[24, 36] ans[24, 36] lr 0.208628 cl_acc 1.000 43.216sec(train) 3.839sec(infer)\n"
     ]
    },
    {
     "name": "stdout",
     "output_type": "stream",
     "text": [
      "Epoch 18 tst: l 1.432 a 0.695  clct[20, 20] ans[20, 20] cl_acc 1.000 2.412sec\n"
     ]
    },
    {
     "name": "stdout",
     "output_type": "stream",
     "text": [
      "Epoch 19 tr: l 1.490 a 0.675  clct[30, 30] ans[30, 30] lr 0.206542 cl_acc 1.000 43.534sec(train) 3.848sec(infer)\n"
     ]
    },
    {
     "name": "stdout",
     "output_type": "stream",
     "text": [
      "Epoch 19 tst: l 1.438 a 0.698  clct[20, 20] ans[20, 20] cl_acc 1.000 2.420sec\n"
     ]
    },
    {
     "name": "stdout",
     "output_type": "stream",
     "text": [
      "Epoch 20 tr: l 1.465 a 0.673  clct[32, 28] ans[32, 28] lr 0.204477 cl_acc 1.000 43.573sec(train) 3.930sec(infer)\n"
     ]
    },
    {
     "name": "stdout",
     "output_type": "stream",
     "text": [
      "Epoch 20 tst: l 1.395 a 0.697  clct[20, 20] ans[20, 20] cl_acc 1.000 2.353sec\n",
      "result written at output/results.pickle\n"
     ]
    },
    {
     "name": "stdout",
     "output_type": "stream",
     "text": [
      "Epoch 21 tr: l 1.525 a 0.668  clct[32, 28] ans[32, 28] lr 0.202432 cl_acc 1.000 43.674sec(train) 3.776sec(infer)\n"
     ]
    },
    {
     "name": "stdout",
     "output_type": "stream",
     "text": [
      "Epoch 21 tst: l 1.497 a 0.685  clct[20, 20] ans[20, 20] cl_acc 1.000 2.442sec\n"
     ]
    },
    {
     "name": "stdout",
     "output_type": "stream",
     "text": [
      "Epoch 22 tr: l 1.453 a 0.681  clct[37, 23] ans[37, 23] lr 0.200408 cl_acc 1.000 43.624sec(train) 3.900sec(infer)\n"
     ]
    },
    {
     "name": "stdout",
     "output_type": "stream",
     "text": [
      "Epoch 22 tst: l 1.433 a 0.695  clct[20, 20] ans[20, 20] cl_acc 1.000 2.501sec\n"
     ]
    },
    {
     "name": "stdout",
     "output_type": "stream",
     "text": [
      "Epoch 23 tr: l 1.575 a 0.648  clct[32, 28] ans[32, 28] lr 0.198404 cl_acc 1.000 43.642sec(train) 3.910sec(infer)\n"
     ]
    },
    {
     "name": "stdout",
     "output_type": "stream",
     "text": [
      "Epoch 23 tst: l 1.511 a 0.676  clct[20, 20] ans[20, 20] cl_acc 1.000 2.485sec\n"
     ]
    },
    {
     "name": "stdout",
     "output_type": "stream",
     "text": [
      "Epoch 24 tr: l 1.434 a 0.691  clct[32, 28] ans[32, 28] lr 0.196420 cl_acc 1.000 43.741sec(train) 3.808sec(infer)\n"
     ]
    },
    {
     "name": "stdout",
     "output_type": "stream",
     "text": [
      "Epoch 24 tst: l 1.409 a 0.700  clct[20, 20] ans[20, 20] cl_acc 1.000 2.510sec\n"
     ]
    },
    {
     "name": "stdout",
     "output_type": "stream",
     "text": [
      "Epoch 25 tr: l 1.485 a 0.684  clct[33, 27] ans[33, 27] lr 0.194455 cl_acc 1.000 43.694sec(train) 3.700sec(infer)\n"
     ]
    },
    {
     "name": "stdout",
     "output_type": "stream",
     "text": [
      "Epoch 25 tst: l 1.432 a 0.703  clct[20, 20] ans[20, 20] cl_acc 1.000 2.414sec\n"
     ]
    },
    {
     "name": "stdout",
     "output_type": "stream",
     "text": [
      "Epoch 26 tr: l 1.522 a 0.666  clct[32, 28] ans[32, 28] lr 0.192511 cl_acc 1.000 43.462sec(train) 3.876sec(infer)\n"
     ]
    },
    {
     "name": "stdout",
     "output_type": "stream",
     "text": [
      "Epoch 26 tst: l 1.447 a 0.692  clct[20, 20] ans[20, 20] cl_acc 1.000 2.488sec\n"
     ]
    },
    {
     "name": "stdout",
     "output_type": "stream",
     "text": [
      "Epoch 27 tr: l 1.455 a 0.681  clct[26, 34] ans[26, 34] lr 0.190586 cl_acc 1.000 43.403sec(train) 3.865sec(infer)\n"
     ]
    },
    {
     "name": "stdout",
     "output_type": "stream",
     "text": [
      "Epoch 27 tst: l 1.409 a 0.702  clct[20, 20] ans[20, 20] cl_acc 1.000 2.468sec\n"
     ]
    },
    {
     "name": "stdout",
     "output_type": "stream",
     "text": [
      "Epoch 28 tr: l 1.436 a 0.688  clct[27, 33] ans[27, 33] lr 0.188680 cl_acc 1.000 43.335sec(train) 3.750sec(infer)\n"
     ]
    },
    {
     "name": "stdout",
     "output_type": "stream",
     "text": [
      "Epoch 28 tst: l 1.354 a 0.719  clct[20, 20] ans[20, 20] cl_acc 1.000 2.319sec\n"
     ]
    },
    {
     "name": "stdout",
     "output_type": "stream",
     "text": [
      "Epoch 29 tr: l 1.424 a 0.690  clct[31, 29] ans[31, 29] lr 0.186793 cl_acc 1.000 43.538sec(train) 3.789sec(infer)\n"
     ]
    },
    {
     "name": "stdout",
     "output_type": "stream",
     "text": [
      "Epoch 29 tst: l 1.370 a 0.711  clct[20, 20] ans[20, 20] cl_acc 1.000 2.477sec\n"
     ]
    },
    {
     "name": "stdout",
     "output_type": "stream",
     "text": [
      "Epoch 30 tr: l 1.427 a 0.689  clct[35, 25] ans[35, 25] lr 0.184925 cl_acc 1.000 43.293sec(train) 3.762sec(infer)\n"
     ]
    },
    {
     "name": "stdout",
     "output_type": "stream",
     "text": [
      "Epoch 30 tst: l 1.388 a 0.709  clct[20, 20] ans[20, 20] cl_acc 1.000 2.347sec\n",
      "result written at output/results.pickle\n"
     ]
    },
    {
     "name": "stdout",
     "output_type": "stream",
     "text": [
      "Epoch 31 tr: l 1.364 a 0.705  clct[28, 32] ans[28, 32] lr 0.183076 cl_acc 1.000 43.315sec(train) 3.891sec(infer)\n"
     ]
    },
    {
     "name": "stdout",
     "output_type": "stream",
     "text": [
      "Epoch 31 tst: l 1.348 a 0.717  clct[20, 20] ans[20, 20] cl_acc 1.000 2.407sec\n"
     ]
    },
    {
     "name": "stdout",
     "output_type": "stream",
     "text": [
      "Epoch 32 tr: l 1.395 a 0.696  clct[29, 31] ans[29, 31] lr 0.181245 cl_acc 1.000 43.229sec(train) 3.988sec(infer)\n"
     ]
    },
    {
     "name": "stdout",
     "output_type": "stream",
     "text": [
      "Epoch 32 tst: l 1.348 a 0.719  clct[20, 20] ans[20, 20] cl_acc 1.000 2.284sec\n"
     ]
    },
    {
     "name": "stdout",
     "output_type": "stream",
     "text": [
      "Epoch 33 tr: l 1.464 a 0.686  clct[33, 27] ans[33, 27] lr 0.179433 cl_acc 1.000 43.369sec(train) 3.886sec(infer)\n"
     ]
    },
    {
     "name": "stdout",
     "output_type": "stream",
     "text": [
      "Epoch 33 tst: l 1.417 a 0.707  clct[20, 20] ans[20, 20] cl_acc 1.000 2.466sec\n"
     ]
    },
    {
     "name": "stdout",
     "output_type": "stream",
     "text": [
      "Epoch 34 tr: l 1.423 a 0.684  clct[32, 28] ans[32, 28] lr 0.177638 cl_acc 1.000 43.448sec(train) 3.880sec(infer)\n"
     ]
    },
    {
     "name": "stdout",
     "output_type": "stream",
     "text": [
      "Epoch 34 tst: l 1.375 a 0.708  clct[20, 20] ans[20, 20] cl_acc 1.000 2.492sec\n"
     ]
    },
    {
     "name": "stdout",
     "output_type": "stream",
     "text": [
      "Epoch 35 tr: l 1.340 a 0.705  clct[29, 31] ans[29, 31] lr 0.175862 cl_acc 1.000 43.323sec(train) 4.002sec(infer)\n"
     ]
    },
    {
     "name": "stdout",
     "output_type": "stream",
     "text": [
      "Epoch 35 tst: l 1.288 a 0.725  clct[20, 20] ans[20, 20] cl_acc 1.000 2.531sec\n"
     ]
    },
    {
     "name": "stdout",
     "output_type": "stream",
     "text": [
      "Epoch 36 tr: l 1.364 a 0.705  clct[35, 25] ans[35, 25] lr 0.174103 cl_acc 1.000 43.495sec(train) 4.020sec(infer)\n"
     ]
    },
    {
     "name": "stdout",
     "output_type": "stream",
     "text": [
      "Epoch 36 tst: l 1.336 a 0.722  clct[20, 20] ans[20, 20] cl_acc 1.000 2.519sec\n"
     ]
    },
    {
     "name": "stdout",
     "output_type": "stream",
     "text": [
      "Epoch 37 tr: l 1.337 a 0.706  clct[33, 27] ans[33, 27] lr 0.172362 cl_acc 1.000 43.400sec(train) 3.852sec(infer)\n"
     ]
    },
    {
     "name": "stdout",
     "output_type": "stream",
     "text": [
      "Epoch 37 tst: l 1.302 a 0.718  clct[20, 20] ans[20, 20] cl_acc 1.000 2.501sec\n"
     ]
    },
    {
     "name": "stdout",
     "output_type": "stream",
     "text": [
      "Epoch 38 tr: l 1.356 a 0.709  clct[28, 32] ans[28, 32] lr 0.170639 cl_acc 1.000 43.372sec(train) 3.951sec(infer)\n"
     ]
    },
    {
     "name": "stdout",
     "output_type": "stream",
     "text": [
      "Epoch 38 tst: l 1.337 a 0.727  clct[20, 20] ans[20, 20] cl_acc 1.000 2.539sec\n"
     ]
    },
    {
     "name": "stdout",
     "output_type": "stream",
     "text": [
      "Epoch 39 tr: l 1.348 a 0.707  clct[27, 33] ans[27, 33] lr 0.168932 cl_acc 1.000 43.414sec(train) 3.918sec(infer)\n"
     ]
    },
    {
     "name": "stdout",
     "output_type": "stream",
     "text": [
      "Epoch 39 tst: l 1.294 a 0.725  clct[20, 20] ans[20, 20] cl_acc 1.000 2.461sec\n"
     ]
    },
    {
     "name": "stdout",
     "output_type": "stream",
     "text": [
      "Epoch 40 tr: l 1.329 a 0.705  clct[33, 27] ans[33, 27] lr 0.167243 cl_acc 1.000 43.724sec(train) 3.912sec(infer)\n"
     ]
    },
    {
     "name": "stdout",
     "output_type": "stream",
     "text": [
      "Epoch 40 tst: l 1.320 a 0.717  clct[20, 20] ans[20, 20] cl_acc 1.000 2.460sec\n",
      "result written at output/results.pickle\n"
     ]
    },
    {
     "name": "stdout",
     "output_type": "stream",
     "text": [
      "Epoch 41 tr: l 1.388 a 0.702  clct[24, 36] ans[24, 36] lr 0.165571 cl_acc 1.000 43.460sec(train) 3.983sec(infer)\n"
     ]
    },
    {
     "name": "stdout",
     "output_type": "stream",
     "text": [
      "Epoch 41 tst: l 1.379 a 0.716  clct[20, 20] ans[20, 20] cl_acc 1.000 2.461sec\n"
     ]
    },
    {
     "name": "stdout",
     "output_type": "stream",
     "text": [
      "Epoch 42 tr: l 1.355 a 0.703  clct[34, 26] ans[34, 26] lr 0.163915 cl_acc 1.000 43.436sec(train) 3.967sec(infer)\n"
     ]
    },
    {
     "name": "stdout",
     "output_type": "stream",
     "text": [
      "Epoch 42 tst: l 1.322 a 0.722  clct[20, 20] ans[20, 20] cl_acc 1.000 2.418sec\n"
     ]
    },
    {
     "name": "stdout",
     "output_type": "stream",
     "text": [
      "Epoch 43 tr: l 1.276 a 0.723  clct[29, 31] ans[29, 31] lr 0.162276 cl_acc 1.000 43.337sec(train) 3.977sec(infer)\n"
     ]
    },
    {
     "name": "stdout",
     "output_type": "stream",
     "text": [
      "Epoch 43 tst: l 1.251 a 0.733  clct[20, 20] ans[20, 20] cl_acc 1.000 2.488sec\n"
     ]
    },
    {
     "name": "stdout",
     "output_type": "stream",
     "text": [
      "Epoch 44 tr: l 1.345 a 0.704  clct[37, 23] ans[37, 23] lr 0.160653 cl_acc 1.000 43.598sec(train) 3.855sec(infer)\n"
     ]
    },
    {
     "name": "stdout",
     "output_type": "stream",
     "text": [
      "Epoch 44 tst: l 1.284 a 0.730  clct[20, 20] ans[20, 20] cl_acc 1.000 2.530sec\n"
     ]
    },
    {
     "name": "stdout",
     "output_type": "stream",
     "text": [
      "Epoch 45 tr: l 1.322 a 0.703  clct[26, 34] ans[26, 34] lr 0.159046 cl_acc 1.000 43.394sec(train) 3.974sec(infer)\n"
     ]
    },
    {
     "name": "stdout",
     "output_type": "stream",
     "text": [
      "Epoch 45 tst: l 1.265 a 0.729  clct[20, 20] ans[20, 20] cl_acc 1.000 2.378sec\n"
     ]
    },
    {
     "name": "stdout",
     "output_type": "stream",
     "text": [
      "Epoch 46 tr: l 1.276 a 0.715  clct[32, 28] ans[32, 28] lr 0.157456 cl_acc 1.000 43.557sec(train) 3.874sec(infer)\n"
     ]
    },
    {
     "name": "stdout",
     "output_type": "stream",
     "text": [
      "Epoch 46 tst: l 1.243 a 0.732  clct[20, 20] ans[20, 20] cl_acc 1.000 2.533sec\n"
     ]
    },
    {
     "name": "stdout",
     "output_type": "stream",
     "text": [
      "Epoch 47 tr: l 1.259 a 0.721  clct[35, 25] ans[35, 25] lr 0.155881 cl_acc 1.000 43.482sec(train) 3.954sec(infer)\n"
     ]
    },
    {
     "name": "stdout",
     "output_type": "stream",
     "text": [
      "Epoch 47 tst: l 1.275 a 0.727  clct[20, 20] ans[20, 20] cl_acc 1.000 2.468sec\n"
     ]
    },
    {
     "name": "stdout",
     "output_type": "stream",
     "text": [
      "Epoch 48 tr: l 1.254 a 0.722  clct[27, 33] ans[27, 33] lr 0.154323 cl_acc 1.000 43.421sec(train) 3.918sec(infer)\n"
     ]
    },
    {
     "name": "stdout",
     "output_type": "stream",
     "text": [
      "Epoch 48 tst: l 1.213 a 0.742  clct[20, 20] ans[20, 20] cl_acc 1.000 2.479sec\n"
     ]
    },
    {
     "name": "stdout",
     "output_type": "stream",
     "text": [
      "Epoch 49 tr: l 1.297 a 0.716  clct[36, 24] ans[36, 24] lr 0.152779 cl_acc 1.000 43.362sec(train) 3.954sec(infer)\n"
     ]
    },
    {
     "name": "stdout",
     "output_type": "stream",
     "text": [
      "Epoch 49 tst: l 1.247 a 0.735  clct[20, 20] ans[20, 20] cl_acc 1.000 2.327sec\n"
     ]
    },
    {
     "name": "stdout",
     "output_type": "stream",
     "text": [
      "Epoch 50 tr: l 1.294 a 0.715  clct[27, 33] ans[27, 33] lr 0.151252 cl_acc 1.000 43.343sec(train) 3.807sec(infer)\n"
     ]
    },
    {
     "name": "stdout",
     "output_type": "stream",
     "text": [
      "Epoch 50 tst: l 1.280 a 0.726  clct[20, 20] ans[20, 20] cl_acc 1.000 2.437sec\n",
      "result written at output/results.pickle\n"
     ]
    },
    {
     "name": "stdout",
     "output_type": "stream",
     "text": [
      "Epoch 51 tr: l 1.329 a 0.713  clct[31, 29] ans[31, 29] lr 0.149739 cl_acc 1.000 43.640sec(train) 3.812sec(infer)\n"
     ]
    },
    {
     "name": "stdout",
     "output_type": "stream",
     "text": [
      "Epoch 51 tst: l 1.312 a 0.727  clct[20, 20] ans[20, 20] cl_acc 1.000 2.441sec\n"
     ]
    },
    {
     "name": "stdout",
     "output_type": "stream",
     "text": [
      "Epoch 52 tr: l 1.263 a 0.724  clct[30, 30] ans[30, 30] lr 0.148242 cl_acc 1.000 43.439sec(train) 3.788sec(infer)\n"
     ]
    },
    {
     "name": "stdout",
     "output_type": "stream",
     "text": [
      "Epoch 52 tst: l 1.255 a 0.733  clct[20, 20] ans[20, 20] cl_acc 1.000 2.527sec\n"
     ]
    },
    {
     "name": "stdout",
     "output_type": "stream",
     "text": [
      "Epoch 53 tr: l 1.306 a 0.721  clct[34, 26] ans[34, 26] lr 0.146759 cl_acc 1.000 43.497sec(train) 3.858sec(infer)\n"
     ]
    },
    {
     "name": "stdout",
     "output_type": "stream",
     "text": [
      "Epoch 53 tst: l 1.280 a 0.730  clct[20, 20] ans[20, 20] cl_acc 1.000 2.462sec\n"
     ]
    },
    {
     "name": "stdout",
     "output_type": "stream",
     "text": [
      "Epoch 54 tr: l 1.232 a 0.733  clct[33, 27] ans[33, 27] lr 0.145292 cl_acc 1.000 43.512sec(train) 4.047sec(infer)\n"
     ]
    },
    {
     "name": "stdout",
     "output_type": "stream",
     "text": [
      "Epoch 54 tst: l 1.222 a 0.743  clct[20, 20] ans[20, 20] cl_acc 1.000 2.479sec\n"
     ]
    },
    {
     "name": "stdout",
     "output_type": "stream",
     "text": [
      "Epoch 55 tr: l 1.286 a 0.717  clct[28, 32] ans[28, 32] lr 0.143839 cl_acc 1.000 43.441sec(train) 3.993sec(infer)\n"
     ]
    },
    {
     "name": "stdout",
     "output_type": "stream",
     "text": [
      "Epoch 55 tst: l 1.243 a 0.736  clct[20, 20] ans[20, 20] cl_acc 1.000 2.345sec\n"
     ]
    },
    {
     "name": "stdout",
     "output_type": "stream",
     "text": [
      "Epoch 56 tr: l 1.259 a 0.724  clct[27, 33] ans[27, 33] lr 0.142400 cl_acc 1.000 43.278sec(train) 3.910sec(infer)\n"
     ]
    },
    {
     "name": "stdout",
     "output_type": "stream",
     "text": [
      "Epoch 56 tst: l 1.221 a 0.739  clct[20, 20] ans[20, 20] cl_acc 1.000 2.423sec\n"
     ]
    },
    {
     "name": "stdout",
     "output_type": "stream",
     "text": [
      "Epoch 57 tr: l 1.238 a 0.726  clct[26, 34] ans[26, 34] lr 0.140976 cl_acc 1.000 43.390sec(train) 4.011sec(infer)\n"
     ]
    },
    {
     "name": "stdout",
     "output_type": "stream",
     "text": [
      "Epoch 57 tst: l 1.192 a 0.748  clct[20, 20] ans[20, 20] cl_acc 1.000 2.370sec\n"
     ]
    },
    {
     "name": "stdout",
     "output_type": "stream",
     "text": [
      "Epoch 58 tr: l 1.220 a 0.726  clct[32, 28] ans[32, 28] lr 0.139567 cl_acc 1.000 43.675sec(train) 3.750sec(infer)\n"
     ]
    },
    {
     "name": "stdout",
     "output_type": "stream",
     "text": [
      "Epoch 58 tst: l 1.226 a 0.733  clct[20, 20] ans[20, 20] cl_acc 1.000 2.446sec\n"
     ]
    },
    {
     "name": "stdout",
     "output_type": "stream",
     "text": [
      "Epoch 59 tr: l 1.183 a 0.744  clct[26, 34] ans[26, 34] lr 0.138171 cl_acc 1.000 43.441sec(train) 3.911sec(infer)\n"
     ]
    },
    {
     "name": "stdout",
     "output_type": "stream",
     "text": [
      "Epoch 59 tst: l 1.172 a 0.751  clct[20, 20] ans[20, 20] cl_acc 1.000 2.508sec\n"
     ]
    },
    {
     "name": "stdout",
     "output_type": "stream",
     "text": [
      "Epoch 60 tr: l 1.211 a 0.733  clct[30, 30] ans[30, 30] lr 0.136789 cl_acc 1.000 43.484sec(train) 3.902sec(infer)\n"
     ]
    },
    {
     "name": "stdout",
     "output_type": "stream",
     "text": [
      "Epoch 60 tst: l 1.232 a 0.737  clct[20, 20] ans[20, 20] cl_acc 1.000 2.413sec\n",
      "result written at output/results.pickle\n"
     ]
    },
    {
     "name": "stdout",
     "output_type": "stream",
     "text": [
      "Epoch 61 tr: l 1.210 a 0.731  clct[28, 32] ans[28, 32] lr 0.135421 cl_acc 1.000 43.595sec(train) 3.955sec(infer)\n"
     ]
    },
    {
     "name": "stdout",
     "output_type": "stream",
     "text": [
      "Epoch 61 tst: l 1.187 a 0.743  clct[20, 20] ans[20, 20] cl_acc 1.000 2.493sec\n"
     ]
    },
    {
     "name": "stdout",
     "output_type": "stream",
     "text": [
      "Epoch 62 tr: l 1.166 a 0.745  clct[30, 30] ans[30, 30] lr 0.134067 cl_acc 1.000 43.496sec(train) 3.903sec(infer)\n"
     ]
    },
    {
     "name": "stdout",
     "output_type": "stream",
     "text": [
      "Epoch 62 tst: l 1.177 a 0.749  clct[20, 20] ans[20, 20] cl_acc 1.000 2.424sec\n"
     ]
    },
    {
     "name": "stdout",
     "output_type": "stream",
     "text": [
      "Epoch 63 tr: l 1.179 a 0.737  clct[23, 37] ans[23, 37] lr 0.132726 cl_acc 1.000 43.569sec(train) 3.854sec(infer)\n"
     ]
    },
    {
     "name": "stdout",
     "output_type": "stream",
     "text": [
      "Epoch 63 tst: l 1.194 a 0.743  clct[20, 20] ans[20, 20] cl_acc 1.000 2.478sec\n"
     ]
    },
    {
     "name": "stdout",
     "output_type": "stream",
     "text": [
      "Epoch 64 tr: l 1.187 a 0.738  clct[28, 32] ans[28, 32] lr 0.131399 cl_acc 1.000 43.578sec(train) 3.956sec(infer)\n"
     ]
    },
    {
     "name": "stdout",
     "output_type": "stream",
     "text": [
      "Epoch 64 tst: l 1.180 a 0.748  clct[20, 20] ans[20, 20] cl_acc 1.000 2.419sec\n"
     ]
    },
    {
     "name": "stdout",
     "output_type": "stream",
     "text": [
      "Epoch 65 tr: l 1.171 a 0.745  clct[30, 30] ans[30, 30] lr 0.130085 cl_acc 1.000 43.647sec(train) 3.855sec(infer)\n"
     ]
    },
    {
     "name": "stdout",
     "output_type": "stream",
     "text": [
      "Epoch 65 tst: l 1.177 a 0.749  clct[20, 20] ans[20, 20] cl_acc 1.000 2.389sec\n"
     ]
    },
    {
     "name": "stdout",
     "output_type": "stream",
     "text": [
      "Epoch 66 tr: l 1.160 a 0.740  clct[30, 30] ans[30, 30] lr 0.128784 cl_acc 1.000 43.361sec(train) 3.743sec(infer)\n"
     ]
    },
    {
     "name": "stdout",
     "output_type": "stream",
     "text": [
      "Epoch 66 tst: l 1.156 a 0.747  clct[20, 20] ans[20, 20] cl_acc 1.000 2.380sec\n"
     ]
    },
    {
     "name": "stdout",
     "output_type": "stream",
     "text": [
      "Epoch 67 tr: l 1.145 a 0.751  clct[28, 32] ans[28, 32] lr 0.127496 cl_acc 1.000 43.274sec(train) 3.729sec(infer)\n"
     ]
    },
    {
     "name": "stdout",
     "output_type": "stream",
     "text": [
      "Epoch 67 tst: l 1.167 a 0.757  clct[20, 20] ans[20, 20] cl_acc 1.000 2.512sec\n"
     ]
    },
    {
     "name": "stdout",
     "output_type": "stream",
     "text": [
      "Epoch 68 tr: l 1.134 a 0.746  clct[34, 26] ans[34, 26] lr 0.126221 cl_acc 1.000 43.406sec(train) 3.828sec(infer)\n"
     ]
    },
    {
     "name": "stdout",
     "output_type": "stream",
     "text": [
      "Epoch 68 tst: l 1.110 a 0.759  clct[20, 20] ans[20, 20] cl_acc 1.000 2.378sec\n"
     ]
    },
    {
     "name": "stdout",
     "output_type": "stream",
     "text": [
      "Epoch 69 tr: l 1.196 a 0.736  clct[31, 29] ans[31, 29] lr 0.124959 cl_acc 1.000 43.606sec(train) 3.831sec(infer)\n"
     ]
    },
    {
     "name": "stdout",
     "output_type": "stream",
     "text": [
      "Epoch 69 tst: l 1.184 a 0.743  clct[20, 20] ans[20, 20] cl_acc 1.000 2.376sec\n"
     ]
    },
    {
     "name": "stdout",
     "output_type": "stream",
     "text": [
      "Epoch 70 tr: l 1.106 a 0.756  clct[31, 29] ans[31, 29] lr 0.123710 cl_acc 1.000 43.520sec(train) 3.869sec(infer)\n"
     ]
    },
    {
     "name": "stdout",
     "output_type": "stream",
     "text": [
      "Epoch 70 tst: l 1.114 a 0.760  clct[20, 20] ans[20, 20] cl_acc 1.000 2.378sec\n",
      "result written at output/results.pickle\n"
     ]
    },
    {
     "name": "stdout",
     "output_type": "stream",
     "text": [
      "Epoch 71 tr: l 1.123 a 0.749  clct[27, 33] ans[27, 33] lr 0.122473 cl_acc 1.000 43.493sec(train) 3.829sec(infer)\n"
     ]
    },
    {
     "name": "stdout",
     "output_type": "stream",
     "text": [
      "Epoch 71 tst: l 1.123 a 0.754  clct[20, 20] ans[20, 20] cl_acc 1.000 2.418sec\n"
     ]
    },
    {
     "name": "stdout",
     "output_type": "stream",
     "text": [
      "Epoch 72 tr: l 1.161 a 0.737  clct[31, 29] ans[31, 29] lr 0.121248 cl_acc 1.000 43.462sec(train) 3.853sec(infer)\n"
     ]
    },
    {
     "name": "stdout",
     "output_type": "stream",
     "text": [
      "Epoch 72 tst: l 1.179 a 0.738  clct[20, 20] ans[20, 20] cl_acc 1.000 2.378sec\n"
     ]
    },
    {
     "name": "stdout",
     "output_type": "stream",
     "text": [
      "Epoch 73 tr: l 1.181 a 0.730  clct[28, 32] ans[28, 32] lr 0.120035 cl_acc 1.000 43.563sec(train) 3.932sec(infer)\n"
     ]
    },
    {
     "name": "stdout",
     "output_type": "stream",
     "text": [
      "Epoch 73 tst: l 1.177 a 0.740  clct[20, 20] ans[20, 20] cl_acc 1.000 2.401sec\n"
     ]
    },
    {
     "name": "stdout",
     "output_type": "stream",
     "text": [
      "Epoch 74 tr: l 1.080 a 0.758  clct[29, 31] ans[29, 31] lr 0.118835 cl_acc 1.000 43.294sec(train) 3.801sec(infer)\n"
     ]
    },
    {
     "name": "stdout",
     "output_type": "stream",
     "text": [
      "Epoch 74 tst: l 1.099 a 0.758  clct[20, 20] ans[20, 20] cl_acc 1.000 2.440sec\n"
     ]
    },
    {
     "name": "stdout",
     "output_type": "stream",
     "text": [
      "Epoch 75 tr: l 1.117 a 0.747  clct[23, 37] ans[23, 37] lr 0.117647 cl_acc 1.000 43.515sec(train) 3.874sec(infer)\n"
     ]
    },
    {
     "name": "stdout",
     "output_type": "stream",
     "text": [
      "Epoch 75 tst: l 1.113 a 0.757  clct[20, 20] ans[20, 20] cl_acc 1.000 2.248sec\n"
     ]
    },
    {
     "name": "stdout",
     "output_type": "stream",
     "text": [
      "Epoch 76 tr: l 1.111 a 0.754  clct[34, 26] ans[34, 26] lr 0.116470 cl_acc 1.000 43.392sec(train) 3.714sec(infer)\n"
     ]
    },
    {
     "name": "stdout",
     "output_type": "stream",
     "text": [
      "Epoch 76 tst: l 1.131 a 0.754  clct[20, 20] ans[20, 20] cl_acc 1.000 2.319sec\n"
     ]
    },
    {
     "name": "stdout",
     "output_type": "stream",
     "text": [
      "Epoch 77 tr: l 1.109 a 0.749  clct[32, 28] ans[32, 28] lr 0.115305 cl_acc 1.000 43.541sec(train) 3.855sec(infer)\n"
     ]
    },
    {
     "name": "stdout",
     "output_type": "stream",
     "text": [
      "Epoch 77 tst: l 1.092 a 0.757  clct[20, 20] ans[20, 20] cl_acc 1.000 2.402sec\n"
     ]
    },
    {
     "name": "stdout",
     "output_type": "stream",
     "text": [
      "Epoch 78 tr: l 1.151 a 0.746  clct[28, 32] ans[28, 32] lr 0.114152 cl_acc 1.000 43.400sec(train) 3.927sec(infer)\n"
     ]
    },
    {
     "name": "stdout",
     "output_type": "stream",
     "text": [
      "Epoch 78 tst: l 1.151 a 0.757  clct[20, 20] ans[20, 20] cl_acc 1.000 2.431sec\n"
     ]
    },
    {
     "name": "stdout",
     "output_type": "stream",
     "text": [
      "Epoch 79 tr: l 1.078 a 0.758  clct[33, 27] ans[33, 27] lr 0.113011 cl_acc 1.000 43.485sec(train) 3.912sec(infer)\n"
     ]
    },
    {
     "name": "stdout",
     "output_type": "stream",
     "text": [
      "Epoch 79 tst: l 1.076 a 0.765  clct[20, 20] ans[20, 20] cl_acc 1.000 2.317sec\n"
     ]
    },
    {
     "name": "stdout",
     "output_type": "stream",
     "text": [
      "Epoch 80 tr: l 1.091 a 0.750  clct[32, 28] ans[32, 28] lr 0.111881 cl_acc 1.000 43.524sec(train) 3.963sec(infer)\n"
     ]
    },
    {
     "name": "stdout",
     "output_type": "stream",
     "text": [
      "Epoch 80 tst: l 1.136 a 0.747  clct[20, 20] ans[20, 20] cl_acc 1.000 2.468sec\n",
      "result written at output/results.pickle\n"
     ]
    },
    {
     "name": "stdout",
     "output_type": "stream",
     "text": [
      "Epoch 81 tr: l 1.103 a 0.754  clct[26, 34] ans[26, 34] lr 0.110762 cl_acc 1.000 43.708sec(train) 3.885sec(infer)\n"
     ]
    },
    {
     "name": "stdout",
     "output_type": "stream",
     "text": [
      "Epoch 81 tst: l 1.107 a 0.755  clct[20, 20] ans[20, 20] cl_acc 1.000 2.466sec\n"
     ]
    },
    {
     "name": "stdout",
     "output_type": "stream",
     "text": [
      "Epoch 82 tr: l 1.031 a 0.766  clct[26, 34] ans[26, 34] lr 0.109654 cl_acc 1.000 43.735sec(train) 3.840sec(infer)\n"
     ]
    },
    {
     "name": "stdout",
     "output_type": "stream",
     "text": [
      "Epoch 82 tst: l 1.045 a 0.765  clct[20, 20] ans[20, 20] cl_acc 1.000 2.475sec\n"
     ]
    },
    {
     "name": "stdout",
     "output_type": "stream",
     "text": [
      "Epoch 83 tr: l 1.040 a 0.768  clct[35, 25] ans[35, 25] lr 0.108558 cl_acc 1.000 43.590sec(train) 4.005sec(infer)\n"
     ]
    },
    {
     "name": "stdout",
     "output_type": "stream",
     "text": [
      "Epoch 83 tst: l 1.075 a 0.763  clct[20, 20] ans[20, 20] cl_acc 1.000 2.404sec\n"
     ]
    },
    {
     "name": "stdout",
     "output_type": "stream",
     "text": [
      "Epoch 84 tr: l 1.064 a 0.757  clct[28, 32] ans[28, 32] lr 0.107472 cl_acc 1.000 43.612sec(train) 3.895sec(infer)\n"
     ]
    },
    {
     "name": "stdout",
     "output_type": "stream",
     "text": [
      "Epoch 84 tst: l 1.058 a 0.763  clct[20, 20] ans[20, 20] cl_acc 1.000 2.459sec\n"
     ]
    },
    {
     "name": "stdout",
     "output_type": "stream",
     "text": [
      "Epoch 85 tr: l 1.082 a 0.755  clct[32, 28] ans[32, 28] lr 0.106398 cl_acc 1.000 43.856sec(train) 3.994sec(infer)\n"
     ]
    },
    {
     "name": "stdout",
     "output_type": "stream",
     "text": [
      "Epoch 85 tst: l 1.094 a 0.759  clct[20, 20] ans[20, 20] cl_acc 1.000 2.472sec\n"
     ]
    },
    {
     "name": "stdout",
     "output_type": "stream",
     "text": [
      "Epoch 86 tr: l 1.035 a 0.766  clct[31, 29] ans[31, 29] lr 0.105334 cl_acc 1.000 43.633sec(train) 3.760sec(infer)\n"
     ]
    },
    {
     "name": "stdout",
     "output_type": "stream",
     "text": [
      "Epoch 86 tst: l 1.054 a 0.769  clct[20, 20] ans[20, 20] cl_acc 1.000 2.541sec\n"
     ]
    },
    {
     "name": "stdout",
     "output_type": "stream",
     "text": [
      "Epoch 87 tr: l 1.063 a 0.757  clct[27, 33] ans[27, 33] lr 0.104280 cl_acc 1.000 43.586sec(train) 4.019sec(infer)\n"
     ]
    },
    {
     "name": "stdout",
     "output_type": "stream",
     "text": [
      "Epoch 87 tst: l 1.083 a 0.760  clct[20, 20] ans[20, 20] cl_acc 1.000 2.364sec\n"
     ]
    },
    {
     "name": "stdout",
     "output_type": "stream",
     "text": [
      "Epoch 88 tr: l 1.081 a 0.752  clct[27, 33] ans[27, 33] lr 0.103237 cl_acc 1.000 43.465sec(train) 4.054sec(infer)\n"
     ]
    },
    {
     "name": "stdout",
     "output_type": "stream",
     "text": [
      "Epoch 88 tst: l 1.081 a 0.761  clct[20, 20] ans[20, 20] cl_acc 1.000 2.560sec\n"
     ]
    },
    {
     "name": "stdout",
     "output_type": "stream",
     "text": [
      "Epoch 89 tr: l 1.013 a 0.768  clct[28, 32] ans[28, 32] lr 0.102205 cl_acc 1.000 43.631sec(train) 3.940sec(infer)\n"
     ]
    },
    {
     "name": "stdout",
     "output_type": "stream",
     "text": [
      "Epoch 89 tst: l 1.046 a 0.767  clct[20, 20] ans[20, 20] cl_acc 1.000 2.558sec\n"
     ]
    },
    {
     "name": "stdout",
     "output_type": "stream",
     "text": [
      "Epoch 90 tr: l 0.996 a 0.779  clct[32, 28] ans[32, 28] lr 0.101183 cl_acc 1.000 43.572sec(train) 4.044sec(infer)\n"
     ]
    },
    {
     "name": "stdout",
     "output_type": "stream",
     "text": [
      "Epoch 90 tst: l 1.051 a 0.770  clct[20, 20] ans[20, 20] cl_acc 1.000 2.457sec\n",
      "result written at output/results.pickle\n"
     ]
    },
    {
     "name": "stdout",
     "output_type": "stream",
     "text": [
      "Epoch 91 tr: l 1.049 a 0.756  clct[26, 34] ans[26, 34] lr 0.100171 cl_acc 1.000 43.599sec(train) 3.960sec(infer)\n"
     ]
    },
    {
     "name": "stdout",
     "output_type": "stream",
     "text": [
      "Epoch 91 tst: l 1.027 a 0.770  clct[20, 20] ans[20, 20] cl_acc 1.000 2.380sec\n"
     ]
    },
    {
     "name": "stdout",
     "output_type": "stream",
     "text": [
      "Epoch 92 tr: l 1.037 a 0.762  clct[33, 27] ans[33, 27] lr 0.099169 cl_acc 1.000 43.689sec(train) 3.880sec(infer)\n"
     ]
    },
    {
     "name": "stdout",
     "output_type": "stream",
     "text": [
      "Epoch 92 tst: l 1.034 a 0.772  clct[20, 20] ans[20, 20] cl_acc 1.000 2.479sec\n"
     ]
    },
    {
     "name": "stdout",
     "output_type": "stream",
     "text": [
      "Epoch 93 tr: l 0.997 a 0.771  clct[27, 33] ans[27, 33] lr 0.098178 cl_acc 1.000 43.671sec(train) 4.006sec(infer)\n"
     ]
    },
    {
     "name": "stdout",
     "output_type": "stream",
     "text": [
      "Epoch 93 tst: l 1.024 a 0.774  clct[20, 20] ans[20, 20] cl_acc 1.000 2.528sec\n"
     ]
    },
    {
     "name": "stdout",
     "output_type": "stream",
     "text": [
      "Epoch 94 tr: l 0.996 a 0.774  clct[34, 26] ans[34, 26] lr 0.097196 cl_acc 1.000 43.614sec(train) 4.029sec(infer)\n"
     ]
    },
    {
     "name": "stdout",
     "output_type": "stream",
     "text": [
      "Epoch 94 tst: l 1.026 a 0.771  clct[20, 20] ans[20, 20] cl_acc 1.000 2.514sec\n"
     ]
    },
    {
     "name": "stdout",
     "output_type": "stream",
     "text": [
      "Epoch 95 tr: l 1.047 a 0.763  clct[32, 28] ans[32, 28] lr 0.096224 cl_acc 1.000 43.498sec(train) 3.897sec(infer)\n"
     ]
    },
    {
     "name": "stdout",
     "output_type": "stream",
     "text": [
      "Epoch 95 tst: l 1.046 a 0.768  clct[20, 20] ans[20, 20] cl_acc 1.000 2.477sec\n"
     ]
    },
    {
     "name": "stdout",
     "output_type": "stream",
     "text": [
      "Epoch 96 tr: l 1.030 a 0.767  clct[32, 28] ans[32, 28] lr 0.095262 cl_acc 1.000 43.555sec(train) 3.842sec(infer)\n"
     ]
    },
    {
     "name": "stdout",
     "output_type": "stream",
     "text": [
      "Epoch 96 tst: l 1.029 a 0.775  clct[20, 20] ans[20, 20] cl_acc 1.000 2.538sec\n"
     ]
    },
    {
     "name": "stdout",
     "output_type": "stream",
     "text": [
      "Epoch 97 tr: l 0.982 a 0.776  clct[36, 24] ans[36, 24] lr 0.094309 cl_acc 1.000 43.519sec(train) 3.868sec(infer)\n"
     ]
    },
    {
     "name": "stdout",
     "output_type": "stream",
     "text": [
      "Epoch 97 tst: l 1.012 a 0.774  clct[20, 20] ans[20, 20] cl_acc 1.000 2.502sec\n"
     ]
    },
    {
     "name": "stdout",
     "output_type": "stream",
     "text": [
      "Epoch 98 tr: l 1.038 a 0.762  clct[32, 28] ans[32, 28] lr 0.093366 cl_acc 1.000 43.269sec(train) 3.843sec(infer)\n"
     ]
    },
    {
     "name": "stdout",
     "output_type": "stream",
     "text": [
      "Epoch 98 tst: l 1.046 a 0.768  clct[20, 20] ans[20, 20] cl_acc 1.000 2.456sec\n"
     ]
    },
    {
     "name": "stdout",
     "output_type": "stream",
     "text": [
      "Epoch 99 tr: l 0.986 a 0.772  clct[27, 33] ans[27, 33] lr 0.092432 cl_acc 1.000 43.637sec(train) 3.884sec(infer)\n"
     ]
    },
    {
     "name": "stdout",
     "output_type": "stream",
     "text": [
      "Epoch 99 tst: l 1.018 a 0.770  clct[20, 20] ans[20, 20] cl_acc 1.000 2.490sec\n"
     ]
    },
    {
     "name": "stdout",
     "output_type": "stream",
     "text": [
      "Epoch 100 tr: l 0.991 a 0.774  clct[36, 24] ans[36, 24] lr 0.091508 cl_acc 1.000 43.625sec(train) 3.956sec(infer)\n"
     ]
    },
    {
     "name": "stdout",
     "output_type": "stream",
     "text": [
      "Epoch 100 tst: l 1.007 a 0.776  clct[20, 20] ans[20, 20] cl_acc 1.000 2.525sec\n",
      "result written at output/results.pickle\n"
     ]
    },
    {
     "name": "stdout",
     "output_type": "stream",
     "text": [
      "Epoch 101 tr: l 1.002 a 0.774  clct[32, 28] ans[32, 28] lr 0.090593 cl_acc 1.000 43.540sec(train) 3.898sec(infer)\n"
     ]
    },
    {
     "name": "stdout",
     "output_type": "stream",
     "text": [
      "Epoch 101 tst: l 1.047 a 0.771  clct[20, 20] ans[20, 20] cl_acc 1.000 2.475sec\n"
     ]
    },
    {
     "name": "stdout",
     "output_type": "stream",
     "text": [
      "Epoch 102 tr: l 0.984 a 0.775  clct[24, 36] ans[24, 36] lr 0.089687 cl_acc 1.000 43.458sec(train) 3.879sec(infer)\n"
     ]
    },
    {
     "name": "stdout",
     "output_type": "stream",
     "text": [
      "Epoch 102 tst: l 1.034 a 0.771  clct[20, 20] ans[20, 20] cl_acc 1.000 2.482sec\n"
     ]
    },
    {
     "name": "stdout",
     "output_type": "stream",
     "text": [
      "Epoch 103 tr: l 0.970 a 0.780  clct[22, 38] ans[22, 38] lr 0.088790 cl_acc 1.000 43.442sec(train) 3.910sec(infer)\n"
     ]
    },
    {
     "name": "stdout",
     "output_type": "stream",
     "text": [
      "Epoch 103 tst: l 1.019 a 0.774  clct[20, 20] ans[20, 20] cl_acc 1.000 2.464sec\n"
     ]
    },
    {
     "name": "stdout",
     "output_type": "stream",
     "text": [
      "Epoch 104 tr: l 1.007 a 0.768  clct[32, 28] ans[32, 28] lr 0.087902 cl_acc 1.000 43.662sec(train) 3.917sec(infer)\n"
     ]
    },
    {
     "name": "stdout",
     "output_type": "stream",
     "text": [
      "Epoch 104 tst: l 1.033 a 0.769  clct[20, 20] ans[20, 20] cl_acc 1.000 2.406sec\n"
     ]
    },
    {
     "name": "stdout",
     "output_type": "stream",
     "text": [
      "Epoch 105 tr: l 0.979 a 0.774  clct[31, 29] ans[31, 29] lr 0.087023 cl_acc 1.000 43.649sec(train) 4.022sec(infer)\n"
     ]
    },
    {
     "name": "stdout",
     "output_type": "stream",
     "text": [
      "Epoch 105 tst: l 1.024 a 0.769  clct[20, 20] ans[20, 20] cl_acc 1.000 2.444sec\n"
     ]
    },
    {
     "name": "stdout",
     "output_type": "stream",
     "text": [
      "Epoch 106 tr: l 0.970 a 0.775  clct[28, 32] ans[28, 32] lr 0.086153 cl_acc 1.000 43.572sec(train) 3.874sec(infer)\n"
     ]
    },
    {
     "name": "stdout",
     "output_type": "stream",
     "text": [
      "Epoch 106 tst: l 0.984 a 0.777  clct[20, 20] ans[20, 20] cl_acc 1.000 2.375sec\n"
     ]
    },
    {
     "name": "stdout",
     "output_type": "stream",
     "text": [
      "Epoch 107 tr: l 0.948 a 0.782  clct[28, 32] ans[28, 32] lr 0.085292 cl_acc 1.000 43.604sec(train) 3.822sec(infer)\n"
     ]
    },
    {
     "name": "stdout",
     "output_type": "stream",
     "text": [
      "Epoch 107 tst: l 0.997 a 0.777  clct[20, 20] ans[20, 20] cl_acc 1.000 2.429sec\n"
     ]
    },
    {
     "name": "stdout",
     "output_type": "stream",
     "text": [
      "Epoch 108 tr: l 0.979 a 0.775  clct[30, 30] ans[30, 30] lr 0.084439 cl_acc 1.000 43.522sec(train) 3.959sec(infer)\n"
     ]
    },
    {
     "name": "stdout",
     "output_type": "stream",
     "text": [
      "Epoch 108 tst: l 0.985 a 0.780  clct[20, 20] ans[20, 20] cl_acc 1.000 2.526sec\n"
     ]
    },
    {
     "name": "stdout",
     "output_type": "stream",
     "text": [
      "Epoch 109 tr: l 0.957 a 0.777  clct[36, 24] ans[36, 24] lr 0.083594 cl_acc 1.000 43.631sec(train) 3.777sec(infer)\n"
     ]
    },
    {
     "name": "stdout",
     "output_type": "stream",
     "text": [
      "Epoch 109 tst: l 0.989 a 0.774  clct[20, 20] ans[20, 20] cl_acc 1.000 2.356sec\n"
     ]
    },
    {
     "name": "stdout",
     "output_type": "stream",
     "text": [
      "Epoch 110 tr: l 0.972 a 0.774  clct[36, 24] ans[36, 24] lr 0.082758 cl_acc 1.000 43.545sec(train) 3.701sec(infer)\n"
     ]
    },
    {
     "name": "stdout",
     "output_type": "stream",
     "text": [
      "Epoch 110 tst: l 0.993 a 0.772  clct[20, 20] ans[20, 20] cl_acc 1.000 2.337sec\n",
      "result written at output/results.pickle\n"
     ]
    },
    {
     "name": "stdout",
     "output_type": "stream",
     "text": [
      "Epoch 111 tr: l 0.939 a 0.783  clct[29, 31] ans[29, 31] lr 0.081931 cl_acc 1.000 43.779sec(train) 3.785sec(infer)\n"
     ]
    },
    {
     "name": "stdout",
     "output_type": "stream",
     "text": [
      "Epoch 111 tst: l 0.979 a 0.780  clct[20, 20] ans[20, 20] cl_acc 1.000 2.365sec\n"
     ]
    },
    {
     "name": "stdout",
     "output_type": "stream",
     "text": [
      "Epoch 112 tr: l 0.916 a 0.794  clct[23, 37] ans[23, 37] lr 0.081111 cl_acc 1.000 43.526sec(train) 3.791sec(infer)\n"
     ]
    },
    {
     "name": "stdout",
     "output_type": "stream",
     "text": [
      "Epoch 112 tst: l 0.975 a 0.785  clct[20, 20] ans[20, 20] cl_acc 1.000 2.357sec\n"
     ]
    },
    {
     "name": "stdout",
     "output_type": "stream",
     "text": [
      "Epoch 113 tr: l 0.952 a 0.782  clct[33, 27] ans[33, 27] lr 0.080300 cl_acc 1.000 43.669sec(train) 3.780sec(infer)\n"
     ]
    },
    {
     "name": "stdout",
     "output_type": "stream",
     "text": [
      "Epoch 113 tst: l 1.002 a 0.778  clct[20, 20] ans[20, 20] cl_acc 1.000 2.395sec\n"
     ]
    },
    {
     "name": "stdout",
     "output_type": "stream",
     "text": [
      "Epoch 114 tr: l 0.939 a 0.783  clct[33, 27] ans[33, 27] lr 0.079497 cl_acc 1.000 43.575sec(train) 3.817sec(infer)\n"
     ]
    },
    {
     "name": "stdout",
     "output_type": "stream",
     "text": [
      "Epoch 114 tst: l 0.976 a 0.777  clct[20, 20] ans[20, 20] cl_acc 1.000 2.389sec\n"
     ]
    },
    {
     "name": "stdout",
     "output_type": "stream",
     "text": [
      "Epoch 115 tr: l 0.945 a 0.783  clct[28, 32] ans[28, 32] lr 0.078702 cl_acc 1.000 43.653sec(train) 3.715sec(infer)\n"
     ]
    },
    {
     "name": "stdout",
     "output_type": "stream",
     "text": [
      "Epoch 115 tst: l 0.971 a 0.784  clct[20, 20] ans[20, 20] cl_acc 1.000 2.458sec\n"
     ]
    },
    {
     "name": "stdout",
     "output_type": "stream",
     "text": [
      "Epoch 116 tr: l 0.966 a 0.777  clct[30, 30] ans[30, 30] lr 0.077915 cl_acc 1.000 43.552sec(train) 3.860sec(infer)\n"
     ]
    },
    {
     "name": "stdout",
     "output_type": "stream",
     "text": [
      "Epoch 116 tst: l 1.008 a 0.771  clct[20, 20] ans[20, 20] cl_acc 1.000 2.436sec\n"
     ]
    },
    {
     "name": "stdout",
     "output_type": "stream",
     "text": [
      "Epoch 117 tr: l 0.915 a 0.786  clct[32, 28] ans[32, 28] lr 0.077136 cl_acc 1.000 43.572sec(train) 3.743sec(infer)\n"
     ]
    },
    {
     "name": "stdout",
     "output_type": "stream",
     "text": [
      "Epoch 117 tst: l 0.939 a 0.783  clct[20, 20] ans[20, 20] cl_acc 1.000 2.390sec\n"
     ]
    },
    {
     "name": "stdout",
     "output_type": "stream",
     "text": [
      "Epoch 118 tr: l 0.916 a 0.792  clct[32, 28] ans[32, 28] lr 0.076365 cl_acc 1.000 43.498sec(train) 3.749sec(infer)\n"
     ]
    },
    {
     "name": "stdout",
     "output_type": "stream",
     "text": [
      "Epoch 118 tst: l 0.968 a 0.783  clct[20, 20] ans[20, 20] cl_acc 1.000 2.329sec\n"
     ]
    },
    {
     "name": "stdout",
     "output_type": "stream",
     "text": [
      "Epoch 119 tr: l 0.911 a 0.787  clct[32, 28] ans[32, 28] lr 0.075601 cl_acc 1.000 43.534sec(train) 3.816sec(infer)\n"
     ]
    },
    {
     "name": "stdout",
     "output_type": "stream",
     "text": [
      "Epoch 119 tst: l 0.959 a 0.780  clct[20, 20] ans[20, 20] cl_acc 1.000 2.438sec\n"
     ]
    },
    {
     "name": "stdout",
     "output_type": "stream",
     "text": [
      "Epoch 120 tr: l 0.905 a 0.792  clct[31, 29] ans[31, 29] lr 0.074845 cl_acc 1.000 43.627sec(train) 3.754sec(infer)\n"
     ]
    },
    {
     "name": "stdout",
     "output_type": "stream",
     "text": [
      "Epoch 120 tst: l 0.953 a 0.786  clct[20, 20] ans[20, 20] cl_acc 1.000 2.345sec\n",
      "result written at output/results.pickle\n"
     ]
    },
    {
     "name": "stdout",
     "output_type": "stream",
     "text": [
      "Epoch 121 tr: l 0.904 a 0.793  clct[29, 31] ans[29, 31] lr 0.074097 cl_acc 1.000 43.631sec(train) 3.742sec(infer)\n"
     ]
    },
    {
     "name": "stdout",
     "output_type": "stream",
     "text": [
      "Epoch 121 tst: l 0.950 a 0.782  clct[20, 20] ans[20, 20] cl_acc 1.000 2.411sec\n"
     ]
    },
    {
     "name": "stdout",
     "output_type": "stream",
     "text": [
      "Epoch 122 tr: l 0.907 a 0.788  clct[29, 31] ans[29, 31] lr 0.073356 cl_acc 1.000 43.679sec(train) 3.802sec(infer)\n"
     ]
    },
    {
     "name": "stdout",
     "output_type": "stream",
     "text": [
      "Epoch 122 tst: l 0.943 a 0.786  clct[20, 20] ans[20, 20] cl_acc 1.000 2.366sec\n"
     ]
    },
    {
     "name": "stdout",
     "output_type": "stream",
     "text": [
      "Epoch 123 tr: l 0.955 a 0.777  clct[30, 30] ans[30, 30] lr 0.072622 cl_acc 1.000 43.681sec(train) 3.869sec(infer)\n"
     ]
    },
    {
     "name": "stdout",
     "output_type": "stream",
     "text": [
      "Epoch 123 tst: l 0.980 a 0.776  clct[20, 20] ans[20, 20] cl_acc 1.000 2.369sec\n"
     ]
    },
    {
     "name": "stdout",
     "output_type": "stream",
     "text": [
      "Epoch 124 tr: l 0.898 a 0.793  clct[30, 30] ans[30, 30] lr 0.071896 cl_acc 1.000 43.326sec(train) 3.836sec(infer)\n"
     ]
    },
    {
     "name": "stdout",
     "output_type": "stream",
     "text": [
      "Epoch 124 tst: l 0.934 a 0.786  clct[20, 20] ans[20, 20] cl_acc 1.000 2.364sec\n"
     ]
    },
    {
     "name": "stdout",
     "output_type": "stream",
     "text": [
      "Epoch 125 tr: l 0.899 a 0.789  clct[26, 34] ans[26, 34] lr 0.071177 cl_acc 1.000 43.540sec(train) 3.748sec(infer)\n"
     ]
    },
    {
     "name": "stdout",
     "output_type": "stream",
     "text": [
      "Epoch 125 tst: l 0.953 a 0.784  clct[20, 20] ans[20, 20] cl_acc 1.000 2.335sec\n"
     ]
    },
    {
     "name": "stdout",
     "output_type": "stream",
     "text": [
      "Epoch 126 tr: l 0.900 a 0.786  clct[31, 29] ans[31, 29] lr 0.070465 cl_acc 1.000 43.429sec(train) 3.777sec(infer)\n"
     ]
    },
    {
     "name": "stdout",
     "output_type": "stream",
     "text": [
      "Epoch 126 tst: l 0.953 a 0.780  clct[20, 20] ans[20, 20] cl_acc 1.000 2.275sec\n"
     ]
    },
    {
     "name": "stdout",
     "output_type": "stream",
     "text": [
      "Epoch 127 tr: l 0.882 a 0.800  clct[36, 24] ans[36, 24] lr 0.069761 cl_acc 1.000 43.511sec(train) 3.671sec(infer)\n"
     ]
    },
    {
     "name": "stdout",
     "output_type": "stream",
     "text": [
      "Epoch 127 tst: l 0.923 a 0.788  clct[20, 20] ans[20, 20] cl_acc 1.000 2.292sec\n"
     ]
    },
    {
     "name": "stdout",
     "output_type": "stream",
     "text": [
      "Epoch 128 tr: l 0.877 a 0.801  clct[27, 33] ans[27, 33] lr 0.069063 cl_acc 1.000 43.540sec(train) 3.735sec(infer)\n"
     ]
    },
    {
     "name": "stdout",
     "output_type": "stream",
     "text": [
      "Epoch 128 tst: l 0.940 a 0.787  clct[20, 20] ans[20, 20] cl_acc 1.000 2.368sec\n"
     ]
    },
    {
     "name": "stdout",
     "output_type": "stream",
     "text": [
      "Epoch 129 tr: l 0.907 a 0.783  clct[34, 26] ans[34, 26] lr 0.068372 cl_acc 1.000 43.735sec(train) 3.664sec(infer)\n"
     ]
    },
    {
     "name": "stdout",
     "output_type": "stream",
     "text": [
      "Epoch 129 tst: l 0.942 a 0.782  clct[20, 20] ans[20, 20] cl_acc 1.000 2.330sec\n"
     ]
    },
    {
     "name": "stdout",
     "output_type": "stream",
     "text": [
      "Epoch 130 tr: l 0.885 a 0.795  clct[36, 24] ans[36, 24] lr 0.067689 cl_acc 1.000 43.450sec(train) 3.690sec(infer)\n"
     ]
    },
    {
     "name": "stdout",
     "output_type": "stream",
     "text": [
      "Epoch 130 tst: l 0.922 a 0.788  clct[20, 20] ans[20, 20] cl_acc 1.000 2.276sec\n",
      "result written at output/results.pickle\n"
     ]
    },
    {
     "name": "stdout",
     "output_type": "stream",
     "text": [
      "Epoch 131 tr: l 0.883 a 0.792  clct[28, 32] ans[28, 32] lr 0.067012 cl_acc 1.000 43.216sec(train) 3.706sec(infer)\n"
     ]
    },
    {
     "name": "stdout",
     "output_type": "stream",
     "text": [
      "Epoch 131 tst: l 0.938 a 0.784  clct[20, 20] ans[20, 20] cl_acc 1.000 2.363sec\n"
     ]
    },
    {
     "name": "stdout",
     "output_type": "stream",
     "text": [
      "Epoch 132 tr: l 0.838 a 0.804  clct[26, 34] ans[26, 34] lr 0.066342 cl_acc 1.000 43.542sec(train) 3.632sec(infer)\n"
     ]
    },
    {
     "name": "stdout",
     "output_type": "stream",
     "text": [
      "Epoch 132 tst: l 0.924 a 0.790  clct[20, 20] ans[20, 20] cl_acc 1.000 2.276sec\n"
     ]
    },
    {
     "name": "stdout",
     "output_type": "stream",
     "text": [
      "Epoch 133 tr: l 0.855 a 0.799  clct[32, 28] ans[32, 28] lr 0.065678 cl_acc 1.000 43.715sec(train) 3.738sec(infer)\n"
     ]
    },
    {
     "name": "stdout",
     "output_type": "stream",
     "text": [
      "Epoch 133 tst: l 0.897 a 0.795  clct[20, 20] ans[20, 20] cl_acc 1.000 2.306sec\n"
     ]
    },
    {
     "name": "stdout",
     "output_type": "stream",
     "text": [
      "Epoch 134 tr: l 0.808 a 0.811  clct[28, 32] ans[28, 32] lr 0.065021 cl_acc 1.000 43.503sec(train) 3.793sec(infer)\n"
     ]
    },
    {
     "name": "stdout",
     "output_type": "stream",
     "text": [
      "Epoch 134 tst: l 0.901 a 0.795  clct[20, 20] ans[20, 20] cl_acc 1.000 2.354sec\n"
     ]
    },
    {
     "name": "stdout",
     "output_type": "stream",
     "text": [
      "Epoch 135 tr: l 0.855 a 0.800  clct[29, 31] ans[29, 31] lr 0.064371 cl_acc 1.000 43.535sec(train) 3.776sec(infer)\n"
     ]
    },
    {
     "name": "stdout",
     "output_type": "stream",
     "text": [
      "Epoch 135 tst: l 0.921 a 0.790  clct[20, 20] ans[20, 20] cl_acc 1.000 2.305sec\n"
     ]
    },
    {
     "name": "stdout",
     "output_type": "stream",
     "text": [
      "Epoch 136 tr: l 0.851 a 0.800  clct[33, 27] ans[33, 27] lr 0.063727 cl_acc 1.000 43.393sec(train) 3.799sec(infer)\n"
     ]
    },
    {
     "name": "stdout",
     "output_type": "stream",
     "text": [
      "Epoch 136 tst: l 0.920 a 0.785  clct[20, 20] ans[20, 20] cl_acc 1.000 2.407sec\n"
     ]
    },
    {
     "name": "stdout",
     "output_type": "stream",
     "text": [
      "Epoch 137 tr: l 0.811 a 0.811  clct[29, 31] ans[29, 31] lr 0.063090 cl_acc 1.000 43.555sec(train) 3.769sec(infer)\n"
     ]
    },
    {
     "name": "stdout",
     "output_type": "stream",
     "text": [
      "Epoch 137 tst: l 0.895 a 0.797  clct[20, 20] ans[20, 20] cl_acc 1.000 2.394sec\n"
     ]
    },
    {
     "name": "stdout",
     "output_type": "stream",
     "text": [
      "Epoch 138 tr: l 0.819 a 0.807  clct[33, 27] ans[33, 27] lr 0.062459 cl_acc 1.000 43.554sec(train) 3.749sec(infer)\n"
     ]
    },
    {
     "name": "stdout",
     "output_type": "stream",
     "text": [
      "Epoch 138 tst: l 0.897 a 0.791  clct[20, 20] ans[20, 20] cl_acc 1.000 2.384sec\n"
     ]
    },
    {
     "name": "stdout",
     "output_type": "stream",
     "text": [
      "Epoch 139 tr: l 0.891 a 0.788  clct[27, 33] ans[27, 33] lr 0.061835 cl_acc 1.000 43.500sec(train) 3.799sec(infer)\n"
     ]
    },
    {
     "name": "stdout",
     "output_type": "stream",
     "text": [
      "Epoch 139 tst: l 0.950 a 0.778  clct[20, 20] ans[20, 20] cl_acc 1.000 2.374sec\n"
     ]
    },
    {
     "name": "stdout",
     "output_type": "stream",
     "text": [
      "Epoch 140 tr: l 0.846 a 0.800  clct[33, 27] ans[33, 27] lr 0.061216 cl_acc 1.000 43.328sec(train) 3.832sec(infer)\n"
     ]
    },
    {
     "name": "stdout",
     "output_type": "stream",
     "text": [
      "Epoch 140 tst: l 0.920 a 0.786  clct[20, 20] ans[20, 20] cl_acc 1.000 2.329sec\n",
      "result written at output/results.pickle\n"
     ]
    },
    {
     "name": "stdout",
     "output_type": "stream",
     "text": [
      "Epoch 141 tr: l 0.831 a 0.804  clct[31, 29] ans[31, 29] lr 0.060604 cl_acc 1.000 43.473sec(train) 3.781sec(infer)\n"
     ]
    },
    {
     "name": "stdout",
     "output_type": "stream",
     "text": [
      "Epoch 141 tst: l 0.899 a 0.791  clct[20, 20] ans[20, 20] cl_acc 1.000 2.340sec\n"
     ]
    },
    {
     "name": "stdout",
     "output_type": "stream",
     "text": [
      "Epoch 142 tr: l 0.832 a 0.808  clct[25, 35] ans[25, 35] lr 0.059998 cl_acc 1.000 43.498sec(train) 3.806sec(infer)\n"
     ]
    },
    {
     "name": "stdout",
     "output_type": "stream",
     "text": [
      "Epoch 142 tst: l 0.890 a 0.794  clct[20, 20] ans[20, 20] cl_acc 1.000 2.384sec\n"
     ]
    },
    {
     "name": "stdout",
     "output_type": "stream",
     "text": [
      "Epoch 143 tr: l 0.864 a 0.797  clct[36, 24] ans[36, 24] lr 0.059398 cl_acc 1.000 43.579sec(train) 3.747sec(infer)\n"
     ]
    },
    {
     "name": "stdout",
     "output_type": "stream",
     "text": [
      "Epoch 143 tst: l 0.907 a 0.794  clct[20, 20] ans[20, 20] cl_acc 1.000 2.323sec\n"
     ]
    },
    {
     "name": "stdout",
     "output_type": "stream",
     "text": [
      "Epoch 144 tr: l 0.848 a 0.802  clct[34, 26] ans[34, 26] lr 0.058804 cl_acc 1.000 43.410sec(train) 3.697sec(infer)\n"
     ]
    },
    {
     "name": "stdout",
     "output_type": "stream",
     "text": [
      "Epoch 144 tst: l 0.914 a 0.791  clct[20, 20] ans[20, 20] cl_acc 1.000 2.322sec\n"
     ]
    },
    {
     "name": "stdout",
     "output_type": "stream",
     "text": [
      "Epoch 145 tr: l 0.805 a 0.814  clct[29, 31] ans[29, 31] lr 0.058216 cl_acc 1.000 43.566sec(train) 3.764sec(infer)\n"
     ]
    },
    {
     "name": "stdout",
     "output_type": "stream",
     "text": [
      "Epoch 145 tst: l 0.895 a 0.795  clct[20, 20] ans[20, 20] cl_acc 1.000 2.267sec\n"
     ]
    },
    {
     "name": "stdout",
     "output_type": "stream",
     "text": [
      "Epoch 146 tr: l 0.834 a 0.806  clct[27, 33] ans[27, 33] lr 0.057634 cl_acc 1.000 43.633sec(train) 3.647sec(infer)\n"
     ]
    },
    {
     "name": "stdout",
     "output_type": "stream",
     "text": [
      "Epoch 146 tst: l 0.900 a 0.793  clct[20, 20] ans[20, 20] cl_acc 1.000 2.322sec\n"
     ]
    },
    {
     "name": "stdout",
     "output_type": "stream",
     "text": [
      "Epoch 147 tr: l 0.841 a 0.804  clct[32, 28] ans[32, 28] lr 0.057058 cl_acc 1.000 43.549sec(train) 3.721sec(infer)\n"
     ]
    },
    {
     "name": "stdout",
     "output_type": "stream",
     "text": [
      "Epoch 147 tst: l 0.904 a 0.792  clct[20, 20] ans[20, 20] cl_acc 1.000 2.293sec\n"
     ]
    },
    {
     "name": "stdout",
     "output_type": "stream",
     "text": [
      "Epoch 148 tr: l 0.857 a 0.797  clct[27, 33] ans[27, 33] lr 0.056487 cl_acc 1.000 43.567sec(train) 3.652sec(infer)\n"
     ]
    },
    {
     "name": "stdout",
     "output_type": "stream",
     "text": [
      "Epoch 148 tst: l 0.883 a 0.794  clct[20, 20] ans[20, 20] cl_acc 1.000 2.343sec\n"
     ]
    },
    {
     "name": "stdout",
     "output_type": "stream",
     "text": [
      "Epoch 149 tr: l 0.806 a 0.812  clct[30, 30] ans[30, 30] lr 0.055922 cl_acc 1.000 43.562sec(train) 3.659sec(infer)\n"
     ]
    },
    {
     "name": "stdout",
     "output_type": "stream",
     "text": [
      "Epoch 149 tst: l 0.898 a 0.795  clct[20, 20] ans[20, 20] cl_acc 1.000 2.318sec\n"
     ]
    },
    {
     "name": "stdout",
     "output_type": "stream",
     "text": [
      "Epoch 150 tr: l 0.826 a 0.803  clct[29, 31] ans[29, 31] lr 0.055363 cl_acc 1.000 43.425sec(train) 3.728sec(infer)\n"
     ]
    },
    {
     "name": "stdout",
     "output_type": "stream",
     "text": [
      "Epoch 150 tst: l 0.874 a 0.797  clct[20, 20] ans[20, 20] cl_acc 1.000 2.240sec\n",
      "result written at output/results.pickle\n"
     ]
    },
    {
     "name": "stdout",
     "output_type": "stream",
     "text": [
      "Epoch 151 tr: l 0.817 a 0.809  clct[30, 30] ans[30, 30] lr 0.054809 cl_acc 1.000 43.599sec(train) 3.777sec(infer)\n"
     ]
    },
    {
     "name": "stdout",
     "output_type": "stream",
     "text": [
      "Epoch 151 tst: l 0.900 a 0.794  clct[20, 20] ans[20, 20] cl_acc 1.000 2.381sec\n"
     ]
    },
    {
     "name": "stdout",
     "output_type": "stream",
     "text": [
      "Epoch 152 tr: l 0.773 a 0.819  clct[27, 33] ans[27, 33] lr 0.054261 cl_acc 1.000 43.382sec(train) 3.730sec(infer)\n"
     ]
    },
    {
     "name": "stdout",
     "output_type": "stream",
     "text": [
      "Epoch 152 tst: l 0.873 a 0.795  clct[20, 20] ans[20, 20] cl_acc 1.000 2.330sec\n"
     ]
    },
    {
     "name": "stdout",
     "output_type": "stream",
     "text": [
      "Epoch 153 tr: l 0.801 a 0.808  clct[27, 33] ans[27, 33] lr 0.053719 cl_acc 1.000 43.505sec(train) 3.735sec(infer)\n"
     ]
    },
    {
     "name": "stdout",
     "output_type": "stream",
     "text": [
      "Epoch 153 tst: l 0.856 a 0.798  clct[20, 20] ans[20, 20] cl_acc 1.000 2.362sec\n"
     ]
    },
    {
     "name": "stdout",
     "output_type": "stream",
     "text": [
      "Epoch 154 tr: l 0.804 a 0.809  clct[32, 28] ans[32, 28] lr 0.053181 cl_acc 1.000 43.502sec(train) 3.710sec(infer)\n"
     ]
    },
    {
     "name": "stdout",
     "output_type": "stream",
     "text": [
      "Epoch 154 tst: l 0.867 a 0.796  clct[20, 20] ans[20, 20] cl_acc 1.000 2.312sec\n"
     ]
    },
    {
     "name": "stdout",
     "output_type": "stream",
     "text": [
      "Epoch 155 tr: l 0.782 a 0.814  clct[27, 33] ans[27, 33] lr 0.052650 cl_acc 1.000 43.512sec(train) 3.657sec(infer)\n"
     ]
    },
    {
     "name": "stdout",
     "output_type": "stream",
     "text": [
      "Epoch 155 tst: l 0.872 a 0.794  clct[20, 20] ans[20, 20] cl_acc 1.000 2.298sec\n"
     ]
    },
    {
     "name": "stdout",
     "output_type": "stream",
     "text": [
      "Epoch 156 tr: l 0.772 a 0.818  clct[31, 29] ans[31, 29] lr 0.052123 cl_acc 1.000 43.403sec(train) 3.676sec(infer)\n"
     ]
    },
    {
     "name": "stdout",
     "output_type": "stream",
     "text": [
      "Epoch 156 tst: l 0.861 a 0.800  clct[20, 20] ans[20, 20] cl_acc 1.000 2.324sec\n"
     ]
    },
    {
     "name": "stdout",
     "output_type": "stream",
     "text": [
      "Epoch 157 tr: l 0.814 a 0.802  clct[28, 32] ans[28, 32] lr 0.051602 cl_acc 1.000 43.439sec(train) 3.713sec(infer)\n"
     ]
    },
    {
     "name": "stdout",
     "output_type": "stream",
     "text": [
      "Epoch 157 tst: l 0.879 a 0.789  clct[20, 20] ans[20, 20] cl_acc 1.000 2.315sec\n"
     ]
    },
    {
     "name": "stdout",
     "output_type": "stream",
     "text": [
      "Epoch 158 tr: l 0.793 a 0.812  clct[30, 30] ans[30, 30] lr 0.051086 cl_acc 1.000 43.397sec(train) 3.766sec(infer)\n"
     ]
    },
    {
     "name": "stdout",
     "output_type": "stream",
     "text": [
      "Epoch 158 tst: l 0.864 a 0.799  clct[20, 20] ans[20, 20] cl_acc 1.000 2.302sec\n"
     ]
    },
    {
     "name": "stdout",
     "output_type": "stream",
     "text": [
      "Epoch 159 tr: l 0.771 a 0.814  clct[31, 29] ans[31, 29] lr 0.050575 cl_acc 1.000 43.444sec(train) 3.864sec(infer)\n"
     ]
    },
    {
     "name": "stdout",
     "output_type": "stream",
     "text": [
      "Epoch 159 tst: l 0.842 a 0.801  clct[20, 20] ans[20, 20] cl_acc 1.000 2.352sec\n"
     ]
    },
    {
     "name": "stdout",
     "output_type": "stream",
     "text": [
      "Epoch 160 tr: l 0.785 a 0.809  clct[29, 31] ans[29, 31] lr 0.050069 cl_acc 1.000 43.636sec(train) 3.775sec(infer)\n"
     ]
    },
    {
     "name": "stdout",
     "output_type": "stream",
     "text": [
      "Epoch 160 tst: l 0.852 a 0.797  clct[20, 20] ans[20, 20] cl_acc 1.000 2.460sec\n",
      "result written at output/results.pickle\n"
     ]
    },
    {
     "name": "stdout",
     "output_type": "stream",
     "text": [
      "Epoch 161 tr: l 0.792 a 0.813  clct[32, 28] ans[32, 28] lr 0.049569 cl_acc 1.000 43.670sec(train) 3.668sec(infer)\n"
     ]
    },
    {
     "name": "stdout",
     "output_type": "stream",
     "text": [
      "Epoch 161 tst: l 0.897 a 0.790  clct[20, 20] ans[20, 20] cl_acc 1.000 2.412sec\n"
     ]
    },
    {
     "name": "stdout",
     "output_type": "stream",
     "text": [
      "Epoch 162 tr: l 0.819 a 0.807  clct[30, 30] ans[30, 30] lr 0.049073 cl_acc 1.000 43.677sec(train) 3.834sec(infer)\n"
     ]
    },
    {
     "name": "stdout",
     "output_type": "stream",
     "text": [
      "Epoch 162 tst: l 0.857 a 0.802  clct[20, 20] ans[20, 20] cl_acc 1.000 2.378sec\n"
     ]
    },
    {
     "name": "stdout",
     "output_type": "stream",
     "text": [
      "Epoch 163 tr: l 0.806 a 0.806  clct[35, 25] ans[35, 25] lr 0.048582 cl_acc 1.000 43.748sec(train) 3.745sec(infer)\n"
     ]
    },
    {
     "name": "stdout",
     "output_type": "stream",
     "text": [
      "Epoch 163 tst: l 0.891 a 0.792  clct[20, 20] ans[20, 20] cl_acc 1.000 2.368sec\n"
     ]
    },
    {
     "name": "stdout",
     "output_type": "stream",
     "text": [
      "Epoch 164 tr: l 0.776 a 0.820  clct[33, 27] ans[33, 27] lr 0.048096 cl_acc 1.000 43.626sec(train) 3.751sec(infer)\n"
     ]
    },
    {
     "name": "stdout",
     "output_type": "stream",
     "text": [
      "Epoch 164 tst: l 0.847 a 0.803  clct[20, 20] ans[20, 20] cl_acc 1.000 2.447sec\n"
     ]
    },
    {
     "name": "stdout",
     "output_type": "stream",
     "text": [
      "Epoch 165 tr: l 0.793 a 0.810  clct[27, 33] ans[27, 33] lr 0.047615 cl_acc 1.000 43.718sec(train) 3.816sec(infer)\n"
     ]
    },
    {
     "name": "stdout",
     "output_type": "stream",
     "text": [
      "Epoch 165 tst: l 0.863 a 0.798  clct[20, 20] ans[20, 20] cl_acc 1.000 2.350sec\n"
     ]
    },
    {
     "name": "stdout",
     "output_type": "stream",
     "text": [
      "Epoch 166 tr: l 0.763 a 0.817  clct[25, 35] ans[25, 35] lr 0.047139 cl_acc 1.000 43.593sec(train) 3.767sec(infer)\n"
     ]
    },
    {
     "name": "stdout",
     "output_type": "stream",
     "text": [
      "Epoch 166 tst: l 0.843 a 0.801  clct[20, 20] ans[20, 20] cl_acc 1.000 2.307sec\n"
     ]
    },
    {
     "name": "stdout",
     "output_type": "stream",
     "text": [
      "Epoch 167 tr: l 0.764 a 0.815  clct[35, 25] ans[35, 25] lr 0.046668 cl_acc 1.000 43.673sec(train) 3.632sec(infer)\n"
     ]
    },
    {
     "name": "stdout",
     "output_type": "stream",
     "text": [
      "Epoch 167 tst: l 0.835 a 0.801  clct[20, 20] ans[20, 20] cl_acc 1.000 2.382sec\n"
     ]
    },
    {
     "name": "stdout",
     "output_type": "stream",
     "text": [
      "Epoch 168 tr: l 0.796 a 0.811  clct[37, 23] ans[37, 23] lr 0.046201 cl_acc 1.000 43.598sec(train) 3.673sec(infer)\n"
     ]
    },
    {
     "name": "stdout",
     "output_type": "stream",
     "text": [
      "Epoch 168 tst: l 0.857 a 0.801  clct[20, 20] ans[20, 20] cl_acc 1.000 2.324sec\n"
     ]
    },
    {
     "name": "stdout",
     "output_type": "stream",
     "text": [
      "Epoch 169 tr: l 0.778 a 0.814  clct[25, 35] ans[25, 35] lr 0.045739 cl_acc 1.000 43.838sec(train) 3.741sec(infer)\n"
     ]
    },
    {
     "name": "stdout",
     "output_type": "stream",
     "text": [
      "Epoch 169 tst: l 0.857 a 0.796  clct[20, 20] ans[20, 20] cl_acc 1.000 2.396sec\n"
     ]
    },
    {
     "name": "stdout",
     "output_type": "stream",
     "text": [
      "Epoch 170 tr: l 0.757 a 0.819  clct[27, 33] ans[27, 33] lr 0.045282 cl_acc 1.000 43.550sec(train) 3.736sec(infer)\n"
     ]
    },
    {
     "name": "stdout",
     "output_type": "stream",
     "text": [
      "Epoch 170 tst: l 0.835 a 0.803  clct[20, 20] ans[20, 20] cl_acc 1.000 2.488sec\n",
      "result written at output/results.pickle\n"
     ]
    },
    {
     "name": "stdout",
     "output_type": "stream",
     "text": [
      "Epoch 171 tr: l 0.775 a 0.814  clct[29, 31] ans[29, 31] lr 0.044829 cl_acc 1.000 43.563sec(train) 3.840sec(infer)\n"
     ]
    },
    {
     "name": "stdout",
     "output_type": "stream",
     "text": [
      "Epoch 171 tst: l 0.860 a 0.795  clct[20, 20] ans[20, 20] cl_acc 1.000 2.337sec\n"
     ]
    },
    {
     "name": "stdout",
     "output_type": "stream",
     "text": [
      "Epoch 172 tr: l 0.746 a 0.823  clct[26, 34] ans[26, 34] lr 0.044381 cl_acc 1.000 43.733sec(train) 3.658sec(infer)\n"
     ]
    },
    {
     "name": "stdout",
     "output_type": "stream",
     "text": [
      "Epoch 172 tst: l 0.835 a 0.802  clct[20, 20] ans[20, 20] cl_acc 1.000 2.320sec\n"
     ]
    },
    {
     "name": "stdout",
     "output_type": "stream",
     "text": [
      "Epoch 173 tr: l 0.766 a 0.813  clct[31, 29] ans[31, 29] lr 0.043937 cl_acc 1.000 43.650sec(train) 3.726sec(infer)\n"
     ]
    },
    {
     "name": "stdout",
     "output_type": "stream",
     "text": [
      "Epoch 173 tst: l 0.853 a 0.798  clct[20, 20] ans[20, 20] cl_acc 1.000 2.253sec\n"
     ]
    },
    {
     "name": "stdout",
     "output_type": "stream",
     "text": [
      "Epoch 174 tr: l 0.787 a 0.809  clct[31, 29] ans[31, 29] lr 0.043497 cl_acc 1.000 43.735sec(train) 3.722sec(infer)\n"
     ]
    },
    {
     "name": "stdout",
     "output_type": "stream",
     "text": [
      "Epoch 174 tst: l 0.835 a 0.803  clct[20, 20] ans[20, 20] cl_acc 1.000 2.337sec\n"
     ]
    },
    {
     "name": "stdout",
     "output_type": "stream",
     "text": [
      "Epoch 175 tr: l 0.756 a 0.818  clct[27, 33] ans[27, 33] lr 0.043062 cl_acc 1.000 43.820sec(train) 3.798sec(infer)\n"
     ]
    },
    {
     "name": "stdout",
     "output_type": "stream",
     "text": [
      "Epoch 175 tst: l 0.837 a 0.800  clct[20, 20] ans[20, 20] cl_acc 1.000 2.319sec\n"
     ]
    },
    {
     "name": "stdout",
     "output_type": "stream",
     "text": [
      "Epoch 176 tr: l 0.744 a 0.823  clct[29, 31] ans[29, 31] lr 0.042632 cl_acc 1.000 43.550sec(train) 3.790sec(infer)\n"
     ]
    },
    {
     "name": "stdout",
     "output_type": "stream",
     "text": [
      "Epoch 176 tst: l 0.834 a 0.804  clct[20, 20] ans[20, 20] cl_acc 1.000 2.348sec\n"
     ]
    },
    {
     "name": "stdout",
     "output_type": "stream",
     "text": [
      "Epoch 177 tr: l 0.732 a 0.828  clct[29, 31] ans[29, 31] lr 0.042206 cl_acc 1.000 43.687sec(train) 3.736sec(infer)\n"
     ]
    },
    {
     "name": "stdout",
     "output_type": "stream",
     "text": [
      "Epoch 177 tst: l 0.826 a 0.803  clct[20, 20] ans[20, 20] cl_acc 1.000 2.386sec\n"
     ]
    },
    {
     "name": "stdout",
     "output_type": "stream",
     "text": [
      "Epoch 178 tr: l 0.778 a 0.811  clct[28, 32] ans[28, 32] lr 0.041783 cl_acc 1.000 43.785sec(train) 3.767sec(infer)\n"
     ]
    },
    {
     "name": "stdout",
     "output_type": "stream",
     "text": [
      "Epoch 178 tst: l 0.843 a 0.798  clct[20, 20] ans[20, 20] cl_acc 1.000 2.340sec\n"
     ]
    },
    {
     "name": "stdout",
     "output_type": "stream",
     "text": [
      "Epoch 179 tr: l 0.718 a 0.828  clct[29, 31] ans[29, 31] lr 0.041366 cl_acc 1.000 43.743sec(train) 3.743sec(infer)\n"
     ]
    },
    {
     "name": "stdout",
     "output_type": "stream",
     "text": [
      "Epoch 179 tst: l 0.820 a 0.806  clct[20, 20] ans[20, 20] cl_acc 1.000 2.350sec\n"
     ]
    },
    {
     "name": "stdout",
     "output_type": "stream",
     "text": [
      "Epoch 180 tr: l 0.746 a 0.818  clct[32, 28] ans[32, 28] lr 0.040952 cl_acc 1.000 43.594sec(train) 3.764sec(infer)\n"
     ]
    },
    {
     "name": "stdout",
     "output_type": "stream",
     "text": [
      "Epoch 180 tst: l 0.829 a 0.801  clct[20, 20] ans[20, 20] cl_acc 1.000 2.340sec\n",
      "result written at output/results.pickle\n"
     ]
    },
    {
     "name": "stdout",
     "output_type": "stream",
     "text": [
      "Epoch 181 tr: l 0.748 a 0.821  clct[24, 36] ans[24, 36] lr 0.040542 cl_acc 1.000 43.704sec(train) 3.780sec(infer)\n"
     ]
    },
    {
     "name": "stdout",
     "output_type": "stream",
     "text": [
      "Epoch 181 tst: l 0.826 a 0.807  clct[20, 20] ans[20, 20] cl_acc 1.000 2.465sec\n"
     ]
    },
    {
     "name": "stdout",
     "output_type": "stream",
     "text": [
      "Epoch 182 tr: l 0.755 a 0.816  clct[30, 30] ans[30, 30] lr 0.040137 cl_acc 1.000 43.738sec(train) 3.689sec(infer)\n"
     ]
    },
    {
     "name": "stdout",
     "output_type": "stream",
     "text": [
      "Epoch 182 tst: l 0.848 a 0.803  clct[20, 20] ans[20, 20] cl_acc 1.000 2.325sec\n"
     ]
    },
    {
     "name": "stdout",
     "output_type": "stream",
     "text": [
      "Epoch 183 tr: l 0.711 a 0.833  clct[27, 33] ans[27, 33] lr 0.039736 cl_acc 1.000 43.799sec(train) 3.721sec(infer)\n"
     ]
    },
    {
     "name": "stdout",
     "output_type": "stream",
     "text": [
      "Epoch 183 tst: l 0.833 a 0.805  clct[20, 20] ans[20, 20] cl_acc 1.000 2.399sec\n"
     ]
    },
    {
     "name": "stdout",
     "output_type": "stream",
     "text": [
      "Epoch 184 tr: l 0.740 a 0.819  clct[33, 27] ans[33, 27] lr 0.039338 cl_acc 1.000 43.731sec(train) 3.695sec(infer)\n"
     ]
    },
    {
     "name": "stdout",
     "output_type": "stream",
     "text": [
      "Epoch 184 tst: l 0.819 a 0.804  clct[20, 20] ans[20, 20] cl_acc 1.000 2.348sec\n"
     ]
    },
    {
     "name": "stdout",
     "output_type": "stream",
     "text": [
      "Epoch 185 tr: l 0.726 a 0.825  clct[27, 33] ans[27, 33] lr 0.038945 cl_acc 1.000 43.678sec(train) 3.728sec(infer)\n"
     ]
    },
    {
     "name": "stdout",
     "output_type": "stream",
     "text": [
      "Epoch 185 tst: l 0.813 a 0.807  clct[20, 20] ans[20, 20] cl_acc 1.000 2.331sec\n"
     ]
    },
    {
     "name": "stdout",
     "output_type": "stream",
     "text": [
      "Epoch 186 tr: l 0.726 a 0.822  clct[23, 37] ans[23, 37] lr 0.038555 cl_acc 1.000 43.543sec(train) 3.716sec(infer)\n"
     ]
    },
    {
     "name": "stdout",
     "output_type": "stream",
     "text": [
      "Epoch 186 tst: l 0.812 a 0.805  clct[20, 20] ans[20, 20] cl_acc 1.000 2.349sec\n"
     ]
    },
    {
     "name": "stdout",
     "output_type": "stream",
     "text": [
      "Epoch 187 tr: l 0.714 a 0.829  clct[23, 37] ans[23, 37] lr 0.038170 cl_acc 1.000 43.466sec(train) 3.633sec(infer)\n"
     ]
    },
    {
     "name": "stdout",
     "output_type": "stream",
     "text": [
      "Epoch 187 tst: l 0.834 a 0.802  clct[20, 20] ans[20, 20] cl_acc 1.000 2.227sec\n"
     ]
    },
    {
     "name": "stdout",
     "output_type": "stream",
     "text": [
      "Epoch 188 tr: l 0.701 a 0.833  clct[36, 24] ans[36, 24] lr 0.037788 cl_acc 1.000 43.708sec(train) 3.800sec(infer)\n"
     ]
    },
    {
     "name": "stdout",
     "output_type": "stream",
     "text": [
      "Epoch 188 tst: l 0.789 a 0.811  clct[20, 20] ans[20, 20] cl_acc 1.000 2.355sec\n"
     ]
    },
    {
     "name": "stdout",
     "output_type": "stream",
     "text": [
      "Epoch 189 tr: l 0.736 a 0.824  clct[32, 28] ans[32, 28] lr 0.037410 cl_acc 1.000 43.681sec(train) 3.735sec(infer)\n"
     ]
    },
    {
     "name": "stdout",
     "output_type": "stream",
     "text": [
      "Epoch 189 tst: l 0.819 a 0.805  clct[20, 20] ans[20, 20] cl_acc 1.000 2.346sec\n"
     ]
    },
    {
     "name": "stdout",
     "output_type": "stream",
     "text": [
      "Epoch 190 tr: l 0.684 a 0.840  clct[32, 28] ans[32, 28] lr 0.037036 cl_acc 1.000 43.610sec(train) 3.748sec(infer)\n"
     ]
    },
    {
     "name": "stdout",
     "output_type": "stream",
     "text": [
      "Epoch 190 tst: l 0.826 a 0.806  clct[20, 20] ans[20, 20] cl_acc 1.000 2.322sec\n",
      "result written at output/results.pickle\n"
     ]
    },
    {
     "name": "stdout",
     "output_type": "stream",
     "text": [
      "Epoch 191 tr: l 0.707 a 0.830  clct[29, 31] ans[29, 31] lr 0.036666 cl_acc 1.000 43.517sec(train) 3.681sec(infer)\n"
     ]
    },
    {
     "name": "stdout",
     "output_type": "stream",
     "text": [
      "Epoch 191 tst: l 0.805 a 0.808  clct[20, 20] ans[20, 20] cl_acc 1.000 2.381sec\n"
     ]
    },
    {
     "name": "stdout",
     "output_type": "stream",
     "text": [
      "Epoch 192 tr: l 0.708 a 0.830  clct[29, 31] ans[29, 31] lr 0.036299 cl_acc 1.000 43.641sec(train) 3.725sec(infer)\n"
     ]
    },
    {
     "name": "stdout",
     "output_type": "stream",
     "text": [
      "Epoch 192 tst: l 0.800 a 0.811  clct[20, 20] ans[20, 20] cl_acc 1.000 2.346sec\n"
     ]
    },
    {
     "name": "stdout",
     "output_type": "stream",
     "text": [
      "Epoch 193 tr: l 0.732 a 0.819  clct[36, 24] ans[36, 24] lr 0.035936 cl_acc 1.000 43.620sec(train) 3.645sec(infer)\n"
     ]
    },
    {
     "name": "stdout",
     "output_type": "stream",
     "text": [
      "Epoch 193 tst: l 0.812 a 0.805  clct[20, 20] ans[20, 20] cl_acc 1.000 2.328sec\n"
     ]
    },
    {
     "name": "stdout",
     "output_type": "stream",
     "text": [
      "Epoch 194 tr: l 0.713 a 0.826  clct[28, 32] ans[28, 32] lr 0.035577 cl_acc 1.000 43.567sec(train) 3.700sec(infer)\n"
     ]
    },
    {
     "name": "stdout",
     "output_type": "stream",
     "text": [
      "Epoch 194 tst: l 0.796 a 0.811  clct[20, 20] ans[20, 20] cl_acc 1.000 2.287sec\n"
     ]
    },
    {
     "name": "stdout",
     "output_type": "stream",
     "text": [
      "Epoch 195 tr: l 0.738 a 0.823  clct[32, 28] ans[32, 28] lr 0.035221 cl_acc 1.000 43.807sec(train) 3.769sec(infer)\n"
     ]
    },
    {
     "name": "stdout",
     "output_type": "stream",
     "text": [
      "Epoch 195 tst: l 0.817 a 0.809  clct[20, 20] ans[20, 20] cl_acc 1.000 2.400sec\n"
     ]
    },
    {
     "name": "stdout",
     "output_type": "stream",
     "text": [
      "Epoch 196 tr: l 0.695 a 0.836  clct[31, 29] ans[31, 29] lr 0.034869 cl_acc 1.000 43.621sec(train) 3.773sec(infer)\n"
     ]
    },
    {
     "name": "stdout",
     "output_type": "stream",
     "text": [
      "Epoch 196 tst: l 0.790 a 0.810  clct[20, 20] ans[20, 20] cl_acc 1.000 2.340sec\n"
     ]
    },
    {
     "name": "stdout",
     "output_type": "stream",
     "text": [
      "Epoch 197 tr: l 0.719 a 0.826  clct[29, 31] ans[29, 31] lr 0.034520 cl_acc 1.000 43.445sec(train) 3.687sec(infer)\n"
     ]
    },
    {
     "name": "stdout",
     "output_type": "stream",
     "text": [
      "Epoch 197 tst: l 0.808 a 0.808  clct[20, 20] ans[20, 20] cl_acc 1.000 2.338sec\n"
     ]
    },
    {
     "name": "stdout",
     "output_type": "stream",
     "text": [
      "Epoch 198 tr: l 0.686 a 0.834  clct[35, 25] ans[35, 25] lr 0.034175 cl_acc 1.000 43.787sec(train) 3.688sec(infer)\n"
     ]
    },
    {
     "name": "stdout",
     "output_type": "stream",
     "text": [
      "Epoch 198 tst: l 0.801 a 0.807  clct[20, 20] ans[20, 20] cl_acc 1.000 2.419sec\n"
     ]
    },
    {
     "name": "stdout",
     "output_type": "stream",
     "text": [
      "Epoch 199 tr: l 0.681 a 0.839  clct[31, 29] ans[31, 29] lr 0.033833 cl_acc 1.000 43.506sec(train) 3.723sec(infer)\n"
     ]
    },
    {
     "name": "stdout",
     "output_type": "stream",
     "text": [
      "Epoch 199 tst: l 0.800 a 0.812  clct[20, 20] ans[20, 20] cl_acc 1.000 2.349sec\n"
     ]
    },
    {
     "name": "stdout",
     "output_type": "stream",
     "text": [
      "Epoch 200 tr: l 0.702 a 0.828  clct[25, 35] ans[25, 35] lr 0.033495 cl_acc 1.000 43.602sec(train) 3.682sec(infer)\n"
     ]
    },
    {
     "name": "stdout",
     "output_type": "stream",
     "text": [
      "Epoch 200 tst: l 0.795 a 0.809  clct[20, 20] ans[20, 20] cl_acc 1.000 2.330sec\n",
      "result written at output/results.pickle\n"
     ]
    },
    {
     "name": "stdout",
     "output_type": "stream",
     "text": [
      "Epoch 201 tr: l 0.689 a 0.836  clct[38, 22] ans[38, 22] lr 0.033160 cl_acc 1.000 43.447sec(train) 3.747sec(infer)\n"
     ]
    },
    {
     "name": "stdout",
     "output_type": "stream",
     "text": [
      "Epoch 201 tst: l 0.813 a 0.807  clct[20, 20] ans[20, 20] cl_acc 1.000 2.315sec\n"
     ]
    },
    {
     "name": "stdout",
     "output_type": "stream",
     "text": [
      "Epoch 202 tr: l 0.679 a 0.839  clct[27, 33] ans[27, 33] lr 0.032828 cl_acc 1.000 43.447sec(train) 3.681sec(infer)\n"
     ]
    },
    {
     "name": "stdout",
     "output_type": "stream",
     "text": [
      "Epoch 202 tst: l 0.781 a 0.814  clct[20, 20] ans[20, 20] cl_acc 1.000 2.286sec\n"
     ]
    },
    {
     "name": "stdout",
     "output_type": "stream",
     "text": [
      "Epoch 203 tr: l 0.684 a 0.837  clct[27, 33] ans[27, 33] lr 0.032500 cl_acc 1.000 43.769sec(train) 3.766sec(infer)\n"
     ]
    },
    {
     "name": "stdout",
     "output_type": "stream",
     "text": [
      "Epoch 203 tst: l 0.794 a 0.812  clct[20, 20] ans[20, 20] cl_acc 1.000 2.340sec\n"
     ]
    },
    {
     "name": "stdout",
     "output_type": "stream",
     "text": [
      "Epoch 204 tr: l 0.689 a 0.835  clct[31, 29] ans[31, 29] lr 0.032175 cl_acc 1.000 43.812sec(train) 3.770sec(infer)\n"
     ]
    },
    {
     "name": "stdout",
     "output_type": "stream",
     "text": [
      "Epoch 204 tst: l 0.791 a 0.813  clct[20, 20] ans[20, 20] cl_acc 1.000 2.343sec\n"
     ]
    },
    {
     "name": "stdout",
     "output_type": "stream",
     "text": [
      "Epoch 205 tr: l 0.663 a 0.840  clct[26, 34] ans[26, 34] lr 0.031853 cl_acc 1.000 43.761sec(train) 3.693sec(infer)\n"
     ]
    },
    {
     "name": "stdout",
     "output_type": "stream",
     "text": [
      "Epoch 205 tst: l 0.774 a 0.809  clct[20, 20] ans[20, 20] cl_acc 1.000 2.347sec\n"
     ]
    },
    {
     "name": "stdout",
     "output_type": "stream",
     "text": [
      "Epoch 206 tr: l 0.696 a 0.831  clct[33, 27] ans[33, 27] lr 0.031535 cl_acc 1.000 43.492sec(train) 3.747sec(infer)\n"
     ]
    },
    {
     "name": "stdout",
     "output_type": "stream",
     "text": [
      "Epoch 206 tst: l 0.801 a 0.811  clct[20, 20] ans[20, 20] cl_acc 1.000 2.367sec\n"
     ]
    },
    {
     "name": "stdout",
     "output_type": "stream",
     "text": [
      "Epoch 207 tr: l 0.676 a 0.838  clct[27, 33] ans[27, 33] lr 0.031219 cl_acc 1.000 43.506sec(train) 3.795sec(infer)\n"
     ]
    },
    {
     "name": "stdout",
     "output_type": "stream",
     "text": [
      "Epoch 207 tst: l 0.801 a 0.806  clct[20, 20] ans[20, 20] cl_acc 1.000 2.407sec\n"
     ]
    },
    {
     "name": "stdout",
     "output_type": "stream",
     "text": [
      "Epoch 208 tr: l 0.693 a 0.832  clct[27, 33] ans[27, 33] lr 0.030907 cl_acc 1.000 43.868sec(train) 3.710sec(infer)\n"
     ]
    },
    {
     "name": "stdout",
     "output_type": "stream",
     "text": [
      "Epoch 208 tst: l 0.791 a 0.811  clct[20, 20] ans[20, 20] cl_acc 1.000 2.349sec\n"
     ]
    },
    {
     "name": "stdout",
     "output_type": "stream",
     "text": [
      "Epoch 209 tr: l 0.711 a 0.829  clct[28, 32] ans[28, 32] lr 0.030598 cl_acc 1.000 43.743sec(train) 3.703sec(infer)\n"
     ]
    },
    {
     "name": "stdout",
     "output_type": "stream",
     "text": [
      "Epoch 209 tst: l 0.804 a 0.808  clct[20, 20] ans[20, 20] cl_acc 1.000 2.393sec\n"
     ]
    },
    {
     "name": "stdout",
     "output_type": "stream",
     "text": [
      "Epoch 210 tr: l 0.690 a 0.831  clct[29, 31] ans[29, 31] lr 0.030292 cl_acc 1.000 43.729sec(train) 3.812sec(infer)\n"
     ]
    },
    {
     "name": "stdout",
     "output_type": "stream",
     "text": [
      "Epoch 210 tst: l 0.797 a 0.807  clct[20, 20] ans[20, 20] cl_acc 1.000 2.371sec\n",
      "result written at output/results.pickle\n"
     ]
    },
    {
     "name": "stdout",
     "output_type": "stream",
     "text": [
      "Epoch 211 tr: l 0.646 a 0.844  clct[33, 27] ans[33, 27] lr 0.029989 cl_acc 1.000 43.556sec(train) 3.688sec(infer)\n"
     ]
    },
    {
     "name": "stdout",
     "output_type": "stream",
     "text": [
      "Epoch 211 tst: l 0.793 a 0.809  clct[20, 20] ans[20, 20] cl_acc 1.000 2.375sec\n"
     ]
    },
    {
     "name": "stdout",
     "output_type": "stream",
     "text": [
      "Epoch 212 tr: l 0.698 a 0.832  clct[27, 33] ans[27, 33] lr 0.029689 cl_acc 1.000 43.507sec(train) 3.752sec(infer)\n"
     ]
    },
    {
     "name": "stdout",
     "output_type": "stream",
     "text": [
      "Epoch 212 tst: l 0.799 a 0.812  clct[20, 20] ans[20, 20] cl_acc 1.000 2.424sec\n"
     ]
    },
    {
     "name": "stdout",
     "output_type": "stream",
     "text": [
      "Epoch 213 tr: l 0.656 a 0.842  clct[38, 22] ans[38, 22] lr 0.029392 cl_acc 1.000 43.546sec(train) 3.801sec(infer)\n"
     ]
    },
    {
     "name": "stdout",
     "output_type": "stream",
     "text": [
      "Epoch 213 tst: l 0.759 a 0.816  clct[20, 20] ans[20, 20] cl_acc 1.000 2.360sec\n"
     ]
    },
    {
     "name": "stdout",
     "output_type": "stream",
     "text": [
      "Epoch 214 tr: l 0.663 a 0.840  clct[34, 26] ans[34, 26] lr 0.029099 cl_acc 1.000 43.590sec(train) 3.764sec(infer)\n"
     ]
    },
    {
     "name": "stdout",
     "output_type": "stream",
     "text": [
      "Epoch 214 tst: l 0.776 a 0.813  clct[20, 20] ans[20, 20] cl_acc 1.000 2.349sec\n"
     ]
    },
    {
     "name": "stdout",
     "output_type": "stream",
     "text": [
      "Epoch 215 tr: l 0.635 a 0.848  clct[28, 32] ans[28, 32] lr 0.028808 cl_acc 1.000 43.596sec(train) 3.740sec(infer)\n"
     ]
    },
    {
     "name": "stdout",
     "output_type": "stream",
     "text": [
      "Epoch 215 tst: l 0.777 a 0.816  clct[20, 20] ans[20, 20] cl_acc 1.000 2.385sec\n"
     ]
    },
    {
     "name": "stdout",
     "output_type": "stream",
     "text": [
      "Epoch 216 tr: l 0.661 a 0.840  clct[33, 27] ans[33, 27] lr 0.028520 cl_acc 1.000 43.642sec(train) 3.753sec(infer)\n"
     ]
    },
    {
     "name": "stdout",
     "output_type": "stream",
     "text": [
      "Epoch 216 tst: l 0.785 a 0.814  clct[20, 20] ans[20, 20] cl_acc 1.000 2.326sec\n"
     ]
    },
    {
     "name": "stdout",
     "output_type": "stream",
     "text": [
      "Epoch 217 tr: l 0.642 a 0.845  clct[29, 31] ans[29, 31] lr 0.028234 cl_acc 1.000 43.587sec(train) 3.751sec(infer)\n"
     ]
    },
    {
     "name": "stdout",
     "output_type": "stream",
     "text": [
      "Epoch 217 tst: l 0.764 a 0.818  clct[20, 20] ans[20, 20] cl_acc 1.000 2.383sec\n"
     ]
    },
    {
     "name": "stdout",
     "output_type": "stream",
     "text": [
      "Epoch 218 tr: l 0.661 a 0.840  clct[31, 29] ans[31, 29] lr 0.027952 cl_acc 1.000 43.714sec(train) 3.707sec(infer)\n"
     ]
    },
    {
     "name": "stdout",
     "output_type": "stream",
     "text": [
      "Epoch 218 tst: l 0.789 a 0.808  clct[20, 20] ans[20, 20] cl_acc 1.000 2.348sec\n"
     ]
    },
    {
     "name": "stdout",
     "output_type": "stream",
     "text": [
      "Epoch 219 tr: l 0.645 a 0.845  clct[30, 30] ans[30, 30] lr 0.027672 cl_acc 1.000 43.454sec(train) 3.697sec(infer)\n"
     ]
    },
    {
     "name": "stdout",
     "output_type": "stream",
     "text": [
      "Epoch 219 tst: l 0.781 a 0.808  clct[20, 20] ans[20, 20] cl_acc 1.000 2.361sec\n"
     ]
    },
    {
     "name": "stdout",
     "output_type": "stream",
     "text": [
      "Epoch 220 tr: l 0.645 a 0.843  clct[30, 30] ans[30, 30] lr 0.027396 cl_acc 1.000 43.604sec(train) 3.790sec(infer)\n"
     ]
    },
    {
     "name": "stdout",
     "output_type": "stream",
     "text": [
      "Epoch 220 tst: l 0.770 a 0.814  clct[20, 20] ans[20, 20] cl_acc 1.000 2.451sec\n",
      "result written at output/results.pickle\n"
     ]
    },
    {
     "name": "stdout",
     "output_type": "stream",
     "text": [
      "Epoch 221 tr: l 0.662 a 0.839  clct[35, 25] ans[35, 25] lr 0.027122 cl_acc 1.000 43.706sec(train) 3.777sec(infer)\n"
     ]
    },
    {
     "name": "stdout",
     "output_type": "stream",
     "text": [
      "Epoch 221 tst: l 0.795 a 0.810  clct[20, 20] ans[20, 20] cl_acc 1.000 2.293sec\n"
     ]
    },
    {
     "name": "stdout",
     "output_type": "stream",
     "text": [
      "Epoch 222 tr: l 0.666 a 0.838  clct[33, 27] ans[33, 27] lr 0.026851 cl_acc 1.000 43.678sec(train) 3.698sec(infer)\n"
     ]
    },
    {
     "name": "stdout",
     "output_type": "stream",
     "text": [
      "Epoch 222 tst: l 0.770 a 0.812  clct[20, 20] ans[20, 20] cl_acc 1.000 2.318sec\n"
     ]
    },
    {
     "name": "stdout",
     "output_type": "stream",
     "text": [
      "Epoch 223 tr: l 0.636 a 0.849  clct[28, 32] ans[28, 32] lr 0.026582 cl_acc 1.000 43.747sec(train) 3.679sec(infer)\n"
     ]
    },
    {
     "name": "stdout",
     "output_type": "stream",
     "text": [
      "Epoch 223 tst: l 0.775 a 0.813  clct[20, 20] ans[20, 20] cl_acc 1.000 2.408sec\n"
     ]
    },
    {
     "name": "stdout",
     "output_type": "stream",
     "text": [
      "Epoch 224 tr: l 0.648 a 0.845  clct[25, 35] ans[25, 35] lr 0.026316 cl_acc 1.000 43.651sec(train) 3.740sec(infer)\n"
     ]
    },
    {
     "name": "stdout",
     "output_type": "stream",
     "text": [
      "Epoch 224 tst: l 0.774 a 0.813  clct[20, 20] ans[20, 20] cl_acc 1.000 2.288sec\n"
     ]
    },
    {
     "name": "stdout",
     "output_type": "stream",
     "text": [
      "Epoch 225 tr: l 0.649 a 0.841  clct[26, 34] ans[26, 34] lr 0.026053 cl_acc 1.000 43.725sec(train) 3.811sec(infer)\n"
     ]
    },
    {
     "name": "stdout",
     "output_type": "stream",
     "text": [
      "Epoch 225 tst: l 0.750 a 0.820  clct[20, 20] ans[20, 20] cl_acc 1.000 2.347sec\n"
     ]
    },
    {
     "name": "stdout",
     "output_type": "stream",
     "text": [
      "Epoch 226 tr: l 0.630 a 0.848  clct[27, 33] ans[27, 33] lr 0.025793 cl_acc 1.000 43.592sec(train) 3.705sec(infer)\n"
     ]
    },
    {
     "name": "stdout",
     "output_type": "stream",
     "text": [
      "Epoch 226 tst: l 0.748 a 0.823  clct[20, 20] ans[20, 20] cl_acc 1.000 2.305sec\n"
     ]
    },
    {
     "name": "stdout",
     "output_type": "stream",
     "text": [
      "Epoch 227 tr: l 0.655 a 0.840  clct[28, 32] ans[28, 32] lr 0.025535 cl_acc 1.000 43.534sec(train) 3.743sec(infer)\n"
     ]
    },
    {
     "name": "stdout",
     "output_type": "stream",
     "text": [
      "Epoch 227 tst: l 0.773 a 0.813  clct[20, 20] ans[20, 20] cl_acc 1.000 2.352sec\n"
     ]
    },
    {
     "name": "stdout",
     "output_type": "stream",
     "text": [
      "Epoch 228 tr: l 0.644 a 0.842  clct[35, 25] ans[35, 25] lr 0.025279 cl_acc 1.000 43.762sec(train) 3.619sec(infer)\n"
     ]
    },
    {
     "name": "stdout",
     "output_type": "stream",
     "text": [
      "Epoch 228 tst: l 0.747 a 0.818  clct[20, 20] ans[20, 20] cl_acc 1.000 2.361sec\n"
     ]
    },
    {
     "name": "stdout",
     "output_type": "stream",
     "text": [
      "Epoch 229 tr: l 0.643 a 0.842  clct[34, 26] ans[34, 26] lr 0.025026 cl_acc 1.000 43.700sec(train) 3.734sec(infer)\n"
     ]
    },
    {
     "name": "stdout",
     "output_type": "stream",
     "text": [
      "Epoch 229 tst: l 0.778 a 0.810  clct[20, 20] ans[20, 20] cl_acc 1.000 2.395sec\n"
     ]
    },
    {
     "name": "stdout",
     "output_type": "stream",
     "text": [
      "Epoch 230 tr: l 0.635 a 0.846  clct[30, 30] ans[30, 30] lr 0.024776 cl_acc 1.000 43.812sec(train) 3.657sec(infer)\n"
     ]
    },
    {
     "name": "stdout",
     "output_type": "stream",
     "text": [
      "Epoch 230 tst: l 0.753 a 0.820  clct[20, 20] ans[20, 20] cl_acc 1.000 2.306sec\n",
      "result written at output/results.pickle\n"
     ]
    },
    {
     "name": "stdout",
     "output_type": "stream",
     "text": [
      "Epoch 231 tr: l 0.634 a 0.846  clct[37, 23] ans[37, 23] lr 0.024528 cl_acc 1.000 43.604sec(train) 3.618sec(infer)\n"
     ]
    },
    {
     "name": "stdout",
     "output_type": "stream",
     "text": [
      "Epoch 231 tst: l 0.772 a 0.812  clct[20, 20] ans[20, 20] cl_acc 1.000 2.292sec\n"
     ]
    },
    {
     "name": "stdout",
     "output_type": "stream",
     "text": [
      "Epoch 232 tr: l 0.612 a 0.853  clct[28, 32] ans[28, 32] lr 0.024283 cl_acc 1.000 43.439sec(train) 3.637sec(infer)\n"
     ]
    },
    {
     "name": "stdout",
     "output_type": "stream",
     "text": [
      "Epoch 232 tst: l 0.761 a 0.816  clct[20, 20] ans[20, 20] cl_acc 1.000 2.437sec\n"
     ]
    },
    {
     "name": "stdout",
     "output_type": "stream",
     "text": [
      "Epoch 233 tr: l 0.614 a 0.850  clct[32, 28] ans[32, 28] lr 0.024040 cl_acc 1.000 43.512sec(train) 3.564sec(infer)\n"
     ]
    },
    {
     "name": "stdout",
     "output_type": "stream",
     "text": [
      "Epoch 233 tst: l 0.758 a 0.816  clct[20, 20] ans[20, 20] cl_acc 1.000 2.339sec\n"
     ]
    },
    {
     "name": "stdout",
     "output_type": "stream",
     "text": [
      "Epoch 234 tr: l 0.638 a 0.844  clct[27, 33] ans[27, 33] lr 0.023800 cl_acc 1.000 43.598sec(train) 3.726sec(infer)\n"
     ]
    },
    {
     "name": "stdout",
     "output_type": "stream",
     "text": [
      "Epoch 234 tst: l 0.769 a 0.815  clct[20, 20] ans[20, 20] cl_acc 1.000 2.282sec\n"
     ]
    },
    {
     "name": "stdout",
     "output_type": "stream",
     "text": [
      "Epoch 235 tr: l 0.586 a 0.859  clct[32, 28] ans[32, 28] lr 0.023562 cl_acc 1.000 43.884sec(train) 3.643sec(infer)\n"
     ]
    },
    {
     "name": "stdout",
     "output_type": "stream",
     "text": [
      "Epoch 235 tst: l 0.734 a 0.823  clct[20, 20] ans[20, 20] cl_acc 1.000 2.340sec\n"
     ]
    },
    {
     "name": "stdout",
     "output_type": "stream",
     "text": [
      "Epoch 236 tr: l 0.603 a 0.857  clct[37, 23] ans[37, 23] lr 0.023326 cl_acc 1.000 43.638sec(train) 3.722sec(infer)\n"
     ]
    },
    {
     "name": "stdout",
     "output_type": "stream",
     "text": [
      "Epoch 236 tst: l 0.743 a 0.818  clct[20, 20] ans[20, 20] cl_acc 1.000 2.384sec\n"
     ]
    },
    {
     "name": "stdout",
     "output_type": "stream",
     "text": [
      "Epoch 237 tr: l 0.588 a 0.857  clct[29, 31] ans[29, 31] lr 0.023093 cl_acc 1.000 43.793sec(train) 3.748sec(infer)\n"
     ]
    },
    {
     "name": "stdout",
     "output_type": "stream",
     "text": [
      "Epoch 237 tst: l 0.748 a 0.818  clct[20, 20] ans[20, 20] cl_acc 1.000 2.355sec\n"
     ]
    },
    {
     "name": "stdout",
     "output_type": "stream",
     "text": [
      "Epoch 238 tr: l 0.602 a 0.855  clct[24, 36] ans[24, 36] lr 0.022862 cl_acc 1.000 43.722sec(train) 3.742sec(infer)\n"
     ]
    },
    {
     "name": "stdout",
     "output_type": "stream",
     "text": [
      "Epoch 238 tst: l 0.754 a 0.819  clct[20, 20] ans[20, 20] cl_acc 1.000 2.386sec\n"
     ]
    },
    {
     "name": "stdout",
     "output_type": "stream",
     "text": [
      "Epoch 239 tr: l 0.632 a 0.845  clct[36, 24] ans[36, 24] lr 0.022633 cl_acc 1.000 43.801sec(train) 3.784sec(infer)\n"
     ]
    },
    {
     "name": "stdout",
     "output_type": "stream",
     "text": [
      "Epoch 239 tst: l 0.764 a 0.814  clct[20, 20] ans[20, 20] cl_acc 1.000 2.265sec\n"
     ]
    },
    {
     "name": "stdout",
     "output_type": "stream",
     "text": [
      "Epoch 240 tr: l 0.603 a 0.854  clct[29, 31] ans[29, 31] lr 0.022407 cl_acc 1.000 43.605sec(train) 3.757sec(infer)\n"
     ]
    },
    {
     "name": "stdout",
     "output_type": "stream",
     "text": [
      "Epoch 240 tst: l 0.751 a 0.815  clct[20, 20] ans[20, 20] cl_acc 1.000 2.278sec\n",
      "result written at output/results.pickle\n"
     ]
    },
    {
     "name": "stdout",
     "output_type": "stream",
     "text": [
      "Epoch 241 tr: l 0.607 a 0.856  clct[34, 26] ans[34, 26] lr 0.022183 cl_acc 1.000 43.691sec(train) 3.663sec(infer)\n"
     ]
    },
    {
     "name": "stdout",
     "output_type": "stream",
     "text": [
      "Epoch 241 tst: l 0.748 a 0.820  clct[20, 20] ans[20, 20] cl_acc 1.000 2.300sec\n"
     ]
    },
    {
     "name": "stdout",
     "output_type": "stream",
     "text": [
      "Epoch 242 tr: l 0.627 a 0.849  clct[30, 30] ans[30, 30] lr 0.021961 cl_acc 1.000 43.582sec(train) 3.690sec(infer)\n"
     ]
    },
    {
     "name": "stdout",
     "output_type": "stream",
     "text": [
      "Epoch 242 tst: l 0.753 a 0.819  clct[20, 20] ans[20, 20] cl_acc 1.000 2.319sec\n"
     ]
    },
    {
     "name": "stdout",
     "output_type": "stream",
     "text": [
      "Epoch 243 tr: l 0.586 a 0.858  clct[33, 27] ans[33, 27] lr 0.021742 cl_acc 1.000 43.458sec(train) 3.711sec(infer)\n"
     ]
    },
    {
     "name": "stdout",
     "output_type": "stream",
     "text": [
      "Epoch 243 tst: l 0.743 a 0.819  clct[20, 20] ans[20, 20] cl_acc 1.000 2.297sec\n"
     ]
    },
    {
     "name": "stdout",
     "output_type": "stream",
     "text": [
      "Epoch 244 tr: l 0.610 a 0.852  clct[36, 24] ans[36, 24] lr 0.021524 cl_acc 1.000 43.344sec(train) 3.604sec(infer)\n"
     ]
    },
    {
     "name": "stdout",
     "output_type": "stream",
     "text": [
      "Epoch 244 tst: l 0.757 a 0.817  clct[20, 20] ans[20, 20] cl_acc 1.000 2.311sec\n"
     ]
    },
    {
     "name": "stdout",
     "output_type": "stream",
     "text": [
      "Epoch 245 tr: l 0.585 a 0.862  clct[31, 29] ans[31, 29] lr 0.021309 cl_acc 1.000 43.547sec(train) 3.644sec(infer)\n"
     ]
    },
    {
     "name": "stdout",
     "output_type": "stream",
     "text": [
      "Epoch 245 tst: l 0.753 a 0.821  clct[20, 20] ans[20, 20] cl_acc 1.000 2.383sec\n"
     ]
    },
    {
     "name": "stdout",
     "output_type": "stream",
     "text": [
      "Epoch 246 tr: l 0.608 a 0.851  clct[33, 27] ans[33, 27] lr 0.021096 cl_acc 1.000 43.368sec(train) 3.697sec(infer)\n"
     ]
    },
    {
     "name": "stdout",
     "output_type": "stream",
     "text": [
      "Epoch 246 tst: l 0.739 a 0.822  clct[20, 20] ans[20, 20] cl_acc 1.000 2.349sec\n"
     ]
    },
    {
     "name": "stdout",
     "output_type": "stream",
     "text": [
      "Epoch 247 tr: l 0.624 a 0.848  clct[35, 25] ans[35, 25] lr 0.020885 cl_acc 1.000 43.569sec(train) 3.731sec(infer)\n"
     ]
    },
    {
     "name": "stdout",
     "output_type": "stream",
     "text": [
      "Epoch 247 tst: l 0.749 a 0.819  clct[20, 20] ans[20, 20] cl_acc 1.000 2.396sec\n"
     ]
    },
    {
     "name": "stdout",
     "output_type": "stream",
     "text": [
      "Epoch 248 tr: l 0.602 a 0.853  clct[33, 27] ans[33, 27] lr 0.020676 cl_acc 1.000 43.429sec(train) 3.798sec(infer)\n"
     ]
    },
    {
     "name": "stdout",
     "output_type": "stream",
     "text": [
      "Epoch 248 tst: l 0.739 a 0.821  clct[20, 20] ans[20, 20] cl_acc 1.000 2.278sec\n"
     ]
    },
    {
     "name": "stdout",
     "output_type": "stream",
     "text": [
      "Epoch 249 tr: l 0.581 a 0.858  clct[30, 30] ans[30, 30] lr 0.020469 cl_acc 1.000 43.576sec(train) 3.732sec(infer)\n"
     ]
    },
    {
     "name": "stdout",
     "output_type": "stream",
     "text": [
      "Epoch 249 tst: l 0.743 a 0.817  clct[20, 20] ans[20, 20] cl_acc 1.000 2.282sec\n"
     ]
    },
    {
     "name": "stdout",
     "output_type": "stream",
     "text": [
      "Epoch 250 tr: l 0.593 a 0.853  clct[28, 32] ans[28, 32] lr 0.020265 cl_acc 1.000 43.751sec(train) 3.725sec(infer)\n"
     ]
    },
    {
     "name": "stdout",
     "output_type": "stream",
     "text": [
      "Epoch 250 tst: l 0.744 a 0.817  clct[20, 20] ans[20, 20] cl_acc 1.000 2.363sec\n",
      "result written at output/results.pickle\n"
     ]
    },
    {
     "name": "stdout",
     "output_type": "stream",
     "text": [
      "Epoch 251 tr: l 0.602 a 0.852  clct[32, 28] ans[32, 28] lr 0.020062 cl_acc 1.000 43.590sec(train) 3.762sec(infer)\n"
     ]
    },
    {
     "name": "stdout",
     "output_type": "stream",
     "text": [
      "Epoch 251 tst: l 0.751 a 0.814  clct[20, 20] ans[20, 20] cl_acc 1.000 2.327sec\n"
     ]
    },
    {
     "name": "stdout",
     "output_type": "stream",
     "text": [
      "Epoch 252 tr: l 0.598 a 0.855  clct[26, 34] ans[26, 34] lr 0.019861 cl_acc 1.000 43.438sec(train) 3.821sec(infer)\n"
     ]
    },
    {
     "name": "stdout",
     "output_type": "stream",
     "text": [
      "Epoch 252 tst: l 0.753 a 0.818  clct[20, 20] ans[20, 20] cl_acc 1.000 2.360sec\n"
     ]
    },
    {
     "name": "stdout",
     "output_type": "stream",
     "text": [
      "Epoch 253 tr: l 0.556 a 0.867  clct[29, 31] ans[29, 31] lr 0.019663 cl_acc 1.000 43.405sec(train) 3.681sec(infer)\n"
     ]
    },
    {
     "name": "stdout",
     "output_type": "stream",
     "text": [
      "Epoch 253 tst: l 0.726 a 0.824  clct[20, 20] ans[20, 20] cl_acc 1.000 2.325sec\n"
     ]
    },
    {
     "name": "stdout",
     "output_type": "stream",
     "text": [
      "Epoch 254 tr: l 0.566 a 0.863  clct[25, 35] ans[25, 35] lr 0.019466 cl_acc 1.000 43.675sec(train) 3.666sec(infer)\n"
     ]
    },
    {
     "name": "stdout",
     "output_type": "stream",
     "text": [
      "Epoch 254 tst: l 0.744 a 0.820  clct[20, 20] ans[20, 20] cl_acc 1.000 2.338sec\n"
     ]
    },
    {
     "name": "stdout",
     "output_type": "stream",
     "text": [
      "Epoch 255 tr: l 0.567 a 0.863  clct[33, 27] ans[33, 27] lr 0.019271 cl_acc 1.000 43.682sec(train) 3.684sec(infer)\n"
     ]
    },
    {
     "name": "stdout",
     "output_type": "stream",
     "text": [
      "Epoch 255 tst: l 0.726 a 0.824  clct[20, 20] ans[20, 20] cl_acc 1.000 2.342sec\n"
     ]
    },
    {
     "name": "stdout",
     "output_type": "stream",
     "text": [
      "Epoch 256 tr: l 0.594 a 0.855  clct[35, 25] ans[35, 25] lr 0.019079 cl_acc 1.000 43.753sec(train) 3.746sec(infer)\n"
     ]
    },
    {
     "name": "stdout",
     "output_type": "stream",
     "text": [
      "Epoch 256 tst: l 0.743 a 0.823  clct[20, 20] ans[20, 20] cl_acc 1.000 2.335sec\n"
     ]
    },
    {
     "name": "stdout",
     "output_type": "stream",
     "text": [
      "Epoch 257 tr: l 0.583 a 0.859  clct[27, 33] ans[27, 33] lr 0.018888 cl_acc 1.000 43.654sec(train) 3.721sec(infer)\n"
     ]
    },
    {
     "name": "stdout",
     "output_type": "stream",
     "text": [
      "Epoch 257 tst: l 0.729 a 0.824  clct[20, 20] ans[20, 20] cl_acc 1.000 2.347sec\n"
     ]
    },
    {
     "name": "stdout",
     "output_type": "stream",
     "text": [
      "Epoch 258 tr: l 0.558 a 0.866  clct[34, 26] ans[34, 26] lr 0.018699 cl_acc 1.000 43.622sec(train) 3.665sec(infer)\n"
     ]
    },
    {
     "name": "stdout",
     "output_type": "stream",
     "text": [
      "Epoch 258 tst: l 0.728 a 0.824  clct[20, 20] ans[20, 20] cl_acc 1.000 2.269sec\n"
     ]
    },
    {
     "name": "stdout",
     "output_type": "stream",
     "text": [
      "Epoch 259 tr: l 0.581 a 0.859  clct[31, 29] ans[31, 29] lr 0.018512 cl_acc 1.000 43.740sec(train) 3.753sec(infer)\n"
     ]
    },
    {
     "name": "stdout",
     "output_type": "stream",
     "text": [
      "Epoch 259 tst: l 0.724 a 0.824  clct[20, 20] ans[20, 20] cl_acc 1.000 2.289sec\n"
     ]
    },
    {
     "name": "stdout",
     "output_type": "stream",
     "text": [
      "Epoch 260 tr: l 0.596 a 0.853  clct[30, 30] ans[30, 30] lr 0.018327 cl_acc 1.000 43.734sec(train) 3.777sec(infer)\n"
     ]
    },
    {
     "name": "stdout",
     "output_type": "stream",
     "text": [
      "Epoch 260 tst: l 0.746 a 0.820  clct[20, 20] ans[20, 20] cl_acc 1.000 2.470sec\n",
      "result written at output/results.pickle\n"
     ]
    },
    {
     "name": "stdout",
     "output_type": "stream",
     "text": [
      "Epoch 261 tr: l 0.553 a 0.866  clct[23, 37] ans[23, 37] lr 0.018144 cl_acc 1.000 43.480sec(train) 3.728sec(infer)\n"
     ]
    },
    {
     "name": "stdout",
     "output_type": "stream",
     "text": [
      "Epoch 261 tst: l 0.718 a 0.824  clct[20, 20] ans[20, 20] cl_acc 1.000 2.386sec\n"
     ]
    },
    {
     "name": "stdout",
     "output_type": "stream",
     "text": [
      "Epoch 262 tr: l 0.576 a 0.859  clct[25, 35] ans[25, 35] lr 0.017962 cl_acc 1.000 43.707sec(train) 3.800sec(infer)\n"
     ]
    },
    {
     "name": "stdout",
     "output_type": "stream",
     "text": [
      "Epoch 262 tst: l 0.727 a 0.821  clct[20, 20] ans[20, 20] cl_acc 1.000 2.398sec\n"
     ]
    },
    {
     "name": "stdout",
     "output_type": "stream",
     "text": [
      "Epoch 263 tr: l 0.543 a 0.869  clct[31, 29] ans[31, 29] lr 0.017783 cl_acc 1.000 43.898sec(train) 3.712sec(infer)\n"
     ]
    },
    {
     "name": "stdout",
     "output_type": "stream",
     "text": [
      "Epoch 263 tst: l 0.722 a 0.824  clct[20, 20] ans[20, 20] cl_acc 1.000 2.350sec\n"
     ]
    },
    {
     "name": "stdout",
     "output_type": "stream",
     "text": [
      "Epoch 264 tr: l 0.540 a 0.871  clct[30, 30] ans[30, 30] lr 0.017605 cl_acc 1.000 43.815sec(train) 3.790sec(infer)\n"
     ]
    },
    {
     "name": "stdout",
     "output_type": "stream",
     "text": [
      "Epoch 264 tst: l 0.728 a 0.826  clct[20, 20] ans[20, 20] cl_acc 1.000 2.309sec\n"
     ]
    },
    {
     "name": "stdout",
     "output_type": "stream",
     "text": [
      "Epoch 265 tr: l 0.573 a 0.862  clct[29, 31] ans[29, 31] lr 0.017429 cl_acc 1.000 43.522sec(train) 3.693sec(infer)\n"
     ]
    },
    {
     "name": "stdout",
     "output_type": "stream",
     "text": [
      "Epoch 265 tst: l 0.735 a 0.823  clct[20, 20] ans[20, 20] cl_acc 1.000 2.322sec\n"
     ]
    },
    {
     "name": "stdout",
     "output_type": "stream",
     "text": [
      "Epoch 266 tr: l 0.565 a 0.863  clct[30, 30] ans[30, 30] lr 0.017254 cl_acc 1.000 43.449sec(train) 3.729sec(infer)\n"
     ]
    },
    {
     "name": "stdout",
     "output_type": "stream",
     "text": [
      "Epoch 266 tst: l 0.728 a 0.821  clct[20, 20] ans[20, 20] cl_acc 1.000 2.448sec\n"
     ]
    },
    {
     "name": "stdout",
     "output_type": "stream",
     "text": [
      "Epoch 267 tr: l 0.548 a 0.866  clct[29, 31] ans[29, 31] lr 0.017082 cl_acc 1.000 43.662sec(train) 3.712sec(infer)\n"
     ]
    },
    {
     "name": "stdout",
     "output_type": "stream",
     "text": [
      "Epoch 267 tst: l 0.715 a 0.825  clct[20, 20] ans[20, 20] cl_acc 1.000 2.402sec\n"
     ]
    },
    {
     "name": "stdout",
     "output_type": "stream",
     "text": [
      "Epoch 268 tr: l 0.554 a 0.866  clct[30, 30] ans[30, 30] lr 0.016911 cl_acc 1.000 43.640sec(train) 3.677sec(infer)\n"
     ]
    },
    {
     "name": "stdout",
     "output_type": "stream",
     "text": [
      "Epoch 268 tst: l 0.711 a 0.828  clct[20, 20] ans[20, 20] cl_acc 1.000 2.259sec\n"
     ]
    },
    {
     "name": "stdout",
     "output_type": "stream",
     "text": [
      "Epoch 269 tr: l 0.584 a 0.856  clct[27, 33] ans[27, 33] lr 0.016742 cl_acc 1.000 43.632sec(train) 3.629sec(infer)\n"
     ]
    },
    {
     "name": "stdout",
     "output_type": "stream",
     "text": [
      "Epoch 269 tst: l 0.729 a 0.823  clct[20, 20] ans[20, 20] cl_acc 1.000 2.262sec\n"
     ]
    },
    {
     "name": "stdout",
     "output_type": "stream",
     "text": [
      "Epoch 270 tr: l 0.561 a 0.864  clct[31, 29] ans[31, 29] lr 0.016575 cl_acc 1.000 43.567sec(train) 3.660sec(infer)\n"
     ]
    },
    {
     "name": "stdout",
     "output_type": "stream",
     "text": [
      "Epoch 270 tst: l 0.719 a 0.826  clct[20, 20] ans[20, 20] cl_acc 1.000 2.231sec\n",
      "result written at output/results.pickle\n"
     ]
    },
    {
     "name": "stdout",
     "output_type": "stream",
     "text": [
      "Epoch 271 tr: l 0.565 a 0.860  clct[33, 27] ans[33, 27] lr 0.016409 cl_acc 1.000 43.620sec(train) 3.751sec(infer)\n"
     ]
    },
    {
     "name": "stdout",
     "output_type": "stream",
     "text": [
      "Epoch 271 tst: l 0.728 a 0.823  clct[20, 20] ans[20, 20] cl_acc 1.000 2.305sec\n"
     ]
    },
    {
     "name": "stdout",
     "output_type": "stream",
     "text": [
      "Epoch 272 tr: l 0.549 a 0.867  clct[34, 26] ans[34, 26] lr 0.016245 cl_acc 1.000 43.649sec(train) 3.646sec(infer)\n"
     ]
    },
    {
     "name": "stdout",
     "output_type": "stream",
     "text": [
      "Epoch 272 tst: l 0.725 a 0.826  clct[20, 20] ans[20, 20] cl_acc 1.000 2.309sec\n"
     ]
    },
    {
     "name": "stdout",
     "output_type": "stream",
     "text": [
      "Epoch 273 tr: l 0.550 a 0.864  clct[31, 29] ans[31, 29] lr 0.016082 cl_acc 1.000 43.607sec(train) 3.645sec(infer)\n"
     ]
    },
    {
     "name": "stdout",
     "output_type": "stream",
     "text": [
      "Epoch 273 tst: l 0.703 a 0.828  clct[20, 20] ans[20, 20] cl_acc 1.000 2.299sec\n"
     ]
    },
    {
     "name": "stdout",
     "output_type": "stream",
     "text": [
      "Epoch 274 tr: l 0.530 a 0.873  clct[34, 26] ans[34, 26] lr 0.015921 cl_acc 1.000 43.446sec(train) 3.640sec(infer)\n"
     ]
    },
    {
     "name": "stdout",
     "output_type": "stream",
     "text": [
      "Epoch 274 tst: l 0.726 a 0.825  clct[20, 20] ans[20, 20] cl_acc 1.000 2.371sec\n"
     ]
    },
    {
     "name": "stdout",
     "output_type": "stream",
     "text": [
      "Epoch 275 tr: l 0.560 a 0.863  clct[38, 22] ans[38, 22] lr 0.015762 cl_acc 1.000 43.441sec(train) 3.610sec(infer)\n"
     ]
    },
    {
     "name": "stdout",
     "output_type": "stream",
     "text": [
      "Epoch 275 tst: l 0.732 a 0.827  clct[20, 20] ans[20, 20] cl_acc 1.000 2.307sec\n"
     ]
    },
    {
     "name": "stdout",
     "output_type": "stream",
     "text": [
      "Epoch 276 tr: l 0.533 a 0.871  clct[28, 32] ans[28, 32] lr 0.015605 cl_acc 1.000 43.635sec(train) 3.752sec(infer)\n"
     ]
    },
    {
     "name": "stdout",
     "output_type": "stream",
     "text": [
      "Epoch 276 tst: l 0.714 a 0.829  clct[20, 20] ans[20, 20] cl_acc 1.000 2.385sec\n"
     ]
    },
    {
     "name": "stdout",
     "output_type": "stream",
     "text": [
      "Epoch 277 tr: l 0.558 a 0.863  clct[30, 30] ans[30, 30] lr 0.015449 cl_acc 1.000 43.864sec(train) 3.662sec(infer)\n"
     ]
    },
    {
     "name": "stdout",
     "output_type": "stream",
     "text": [
      "Epoch 277 tst: l 0.722 a 0.822  clct[20, 20] ans[20, 20] cl_acc 1.000 2.323sec\n"
     ]
    },
    {
     "name": "stdout",
     "output_type": "stream",
     "text": [
      "Epoch 278 tr: l 0.554 a 0.863  clct[26, 34] ans[26, 34] lr 0.015294 cl_acc 1.000 43.548sec(train) 3.686sec(infer)\n"
     ]
    },
    {
     "name": "stdout",
     "output_type": "stream",
     "text": [
      "Epoch 278 tst: l 0.701 a 0.830  clct[20, 20] ans[20, 20] cl_acc 1.000 2.370sec\n"
     ]
    },
    {
     "name": "stdout",
     "output_type": "stream",
     "text": [
      "Epoch 279 tr: l 0.530 a 0.870  clct[30, 30] ans[30, 30] lr 0.015141 cl_acc 1.000 43.539sec(train) 3.723sec(infer)\n"
     ]
    },
    {
     "name": "stdout",
     "output_type": "stream",
     "text": [
      "Epoch 279 tst: l 0.710 a 0.827  clct[20, 20] ans[20, 20] cl_acc 1.000 2.314sec\n"
     ]
    },
    {
     "name": "stdout",
     "output_type": "stream",
     "text": [
      "Epoch 280 tr: l 0.527 a 0.871  clct[31, 29] ans[31, 29] lr 0.014990 cl_acc 1.000 43.519sec(train) 3.764sec(infer)\n"
     ]
    },
    {
     "name": "stdout",
     "output_type": "stream",
     "text": [
      "Epoch 280 tst: l 0.699 a 0.830  clct[20, 20] ans[20, 20] cl_acc 1.000 2.473sec\n",
      "result written at output/results.pickle\n"
     ]
    },
    {
     "name": "stdout",
     "output_type": "stream",
     "text": [
      "Epoch 281 tr: l 0.554 a 0.865  clct[33, 27] ans[33, 27] lr 0.014840 cl_acc 1.000 43.702sec(train) 3.707sec(infer)\n"
     ]
    },
    {
     "name": "stdout",
     "output_type": "stream",
     "text": [
      "Epoch 281 tst: l 0.701 a 0.829  clct[20, 20] ans[20, 20] cl_acc 1.000 2.336sec\n"
     ]
    },
    {
     "name": "stdout",
     "output_type": "stream",
     "text": [
      "Epoch 282 tr: l 0.535 a 0.869  clct[32, 28] ans[32, 28] lr 0.014691 cl_acc 1.000 43.727sec(train) 3.678sec(infer)\n"
     ]
    },
    {
     "name": "stdout",
     "output_type": "stream",
     "text": [
      "Epoch 282 tst: l 0.714 a 0.822  clct[20, 20] ans[20, 20] cl_acc 1.000 2.333sec\n"
     ]
    },
    {
     "name": "stdout",
     "output_type": "stream",
     "text": [
      "Epoch 283 tr: l 0.537 a 0.866  clct[32, 28] ans[32, 28] lr 0.014545 cl_acc 1.000 43.707sec(train) 3.812sec(infer)\n"
     ]
    },
    {
     "name": "stdout",
     "output_type": "stream",
     "text": [
      "Epoch 283 tst: l 0.697 a 0.826  clct[20, 20] ans[20, 20] cl_acc 1.000 2.386sec\n"
     ]
    },
    {
     "name": "stdout",
     "output_type": "stream",
     "text": [
      "Epoch 284 tr: l 0.523 a 0.872  clct[30, 30] ans[30, 30] lr 0.014399 cl_acc 1.000 43.702sec(train) 3.741sec(infer)\n"
     ]
    },
    {
     "name": "stdout",
     "output_type": "stream",
     "text": [
      "Epoch 284 tst: l 0.710 a 0.829  clct[20, 20] ans[20, 20] cl_acc 1.000 2.293sec\n"
     ]
    },
    {
     "name": "stdout",
     "output_type": "stream",
     "text": [
      "Epoch 285 tr: l 0.541 a 0.869  clct[31, 29] ans[31, 29] lr 0.014255 cl_acc 1.000 43.562sec(train) 3.766sec(infer)\n"
     ]
    },
    {
     "name": "stdout",
     "output_type": "stream",
     "text": [
      "Epoch 285 tst: l 0.727 a 0.822  clct[20, 20] ans[20, 20] cl_acc 1.000 2.277sec\n"
     ]
    },
    {
     "name": "stdout",
     "output_type": "stream",
     "text": [
      "Epoch 286 tr: l 0.512 a 0.875  clct[31, 29] ans[31, 29] lr 0.014113 cl_acc 1.000 43.651sec(train) 3.643sec(infer)\n"
     ]
    },
    {
     "name": "stdout",
     "output_type": "stream",
     "text": [
      "Epoch 286 tst: l 0.712 a 0.826  clct[20, 20] ans[20, 20] cl_acc 1.000 2.439sec\n"
     ]
    },
    {
     "name": "stdout",
     "output_type": "stream",
     "text": [
      "Epoch 287 tr: l 0.557 a 0.866  clct[22, 38] ans[22, 38] lr 0.013971 cl_acc 1.000 43.561sec(train) 3.872sec(infer)\n"
     ]
    },
    {
     "name": "stdout",
     "output_type": "stream",
     "text": [
      "Epoch 287 tst: l 0.716 a 0.824  clct[20, 20] ans[20, 20] cl_acc 1.000 2.260sec\n"
     ]
    },
    {
     "name": "stdout",
     "output_type": "stream",
     "text": [
      "Epoch 288 tr: l 0.559 a 0.862  clct[30, 30] ans[30, 30] lr 0.013832 cl_acc 1.000 43.679sec(train) 3.693sec(infer)\n"
     ]
    },
    {
     "name": "stdout",
     "output_type": "stream",
     "text": [
      "Epoch 288 tst: l 0.687 a 0.831  clct[20, 20] ans[20, 20] cl_acc 1.000 2.295sec\n"
     ]
    },
    {
     "name": "stdout",
     "output_type": "stream",
     "text": [
      "Epoch 289 tr: l 0.514 a 0.876  clct[29, 31] ans[29, 31] lr 0.013693 cl_acc 1.000 43.478sec(train) 3.727sec(infer)\n"
     ]
    },
    {
     "name": "stdout",
     "output_type": "stream",
     "text": [
      "Epoch 289 tst: l 0.699 a 0.833  clct[20, 20] ans[20, 20] cl_acc 1.000 2.302sec\n"
     ]
    },
    {
     "name": "stdout",
     "output_type": "stream",
     "text": [
      "Epoch 290 tr: l 0.523 a 0.873  clct[31, 29] ans[31, 29] lr 0.013556 cl_acc 1.000 43.601sec(train) 3.733sec(infer)\n"
     ]
    },
    {
     "name": "stdout",
     "output_type": "stream",
     "text": [
      "Epoch 290 tst: l 0.702 a 0.827  clct[20, 20] ans[20, 20] cl_acc 1.000 2.400sec\n",
      "result written at output/results.pickle\n"
     ]
    },
    {
     "name": "stdout",
     "output_type": "stream",
     "text": [
      "Epoch 291 tr: l 0.515 a 0.873  clct[35, 25] ans[35, 25] lr 0.013421 cl_acc 1.000 43.969sec(train) 3.679sec(infer)\n"
     ]
    },
    {
     "name": "stdout",
     "output_type": "stream",
     "text": [
      "Epoch 291 tst: l 0.707 a 0.825  clct[20, 20] ans[20, 20] cl_acc 1.000 2.371sec\n"
     ]
    },
    {
     "name": "stdout",
     "output_type": "stream",
     "text": [
      "Epoch 292 tr: l 0.488 a 0.882  clct[26, 34] ans[26, 34] lr 0.013287 cl_acc 1.000 43.803sec(train) 3.712sec(infer)\n"
     ]
    },
    {
     "name": "stdout",
     "output_type": "stream",
     "text": [
      "Epoch 292 tst: l 0.701 a 0.827  clct[20, 20] ans[20, 20] cl_acc 1.000 2.345sec\n"
     ]
    },
    {
     "name": "stdout",
     "output_type": "stream",
     "text": [
      "Epoch 293 tr: l 0.494 a 0.881  clct[26, 34] ans[26, 34] lr 0.013154 cl_acc 1.000 43.712sec(train) 3.659sec(infer)\n"
     ]
    },
    {
     "name": "stdout",
     "output_type": "stream",
     "text": [
      "Epoch 293 tst: l 0.694 a 0.826  clct[20, 20] ans[20, 20] cl_acc 1.000 2.321sec\n"
     ]
    },
    {
     "name": "stdout",
     "output_type": "stream",
     "text": [
      "Epoch 294 tr: l 0.516 a 0.877  clct[30, 30] ans[30, 30] lr 0.013022 cl_acc 1.000 43.606sec(train) 3.716sec(infer)\n"
     ]
    },
    {
     "name": "stdout",
     "output_type": "stream",
     "text": [
      "Epoch 294 tst: l 0.714 a 0.827  clct[20, 20] ans[20, 20] cl_acc 1.000 2.344sec\n"
     ]
    },
    {
     "name": "stdout",
     "output_type": "stream",
     "text": [
      "Epoch 295 tr: l 0.507 a 0.877  clct[32, 28] ans[32, 28] lr 0.012892 cl_acc 1.000 43.452sec(train) 3.598sec(infer)\n"
     ]
    },
    {
     "name": "stdout",
     "output_type": "stream",
     "text": [
      "Epoch 295 tst: l 0.708 a 0.830  clct[20, 20] ans[20, 20] cl_acc 1.000 2.305sec\n"
     ]
    },
    {
     "name": "stdout",
     "output_type": "stream",
     "text": [
      "Epoch 296 tr: l 0.516 a 0.873  clct[31, 29] ans[31, 29] lr 0.012763 cl_acc 1.000 43.645sec(train) 3.694sec(infer)\n"
     ]
    },
    {
     "name": "stdout",
     "output_type": "stream",
     "text": [
      "Epoch 296 tst: l 0.705 a 0.826  clct[20, 20] ans[20, 20] cl_acc 1.000 2.340sec\n"
     ]
    },
    {
     "name": "stdout",
     "output_type": "stream",
     "text": [
      "Epoch 297 tr: l 0.499 a 0.881  clct[28, 32] ans[28, 32] lr 0.012636 cl_acc 1.000 43.809sec(train) 3.771sec(infer)\n"
     ]
    },
    {
     "name": "stdout",
     "output_type": "stream",
     "text": [
      "Epoch 297 tst: l 0.708 a 0.829  clct[20, 20] ans[20, 20] cl_acc 1.000 2.330sec\n"
     ]
    },
    {
     "name": "stdout",
     "output_type": "stream",
     "text": [
      "Epoch 298 tr: l 0.508 a 0.878  clct[28, 32] ans[28, 32] lr 0.012509 cl_acc 1.000 43.698sec(train) 3.775sec(infer)\n"
     ]
    },
    {
     "name": "stdout",
     "output_type": "stream",
     "text": [
      "Epoch 298 tst: l 0.709 a 0.830  clct[20, 20] ans[20, 20] cl_acc 1.000 2.431sec\n"
     ]
    },
    {
     "name": "stdout",
     "output_type": "stream",
     "text": [
      "Epoch 299 tr: l 0.489 a 0.881  clct[30, 30] ans[30, 30] lr 0.012384 cl_acc 1.000 43.665sec(train) 3.635sec(infer)\n"
     ]
    },
    {
     "name": "stdout",
     "output_type": "stream",
     "text": [
      "Epoch 299 tst: l 0.688 a 0.830  clct[20, 20] ans[20, 20] cl_acc 1.000 2.289sec\n"
     ]
    },
    {
     "name": "stdout",
     "output_type": "stream",
     "text": [
      "Epoch 300 tr: l 0.516 a 0.876  clct[29, 31] ans[29, 31] lr 0.012260 cl_acc 1.000 43.536sec(train) 3.648sec(infer)\n"
     ]
    },
    {
     "name": "stdout",
     "output_type": "stream",
     "text": [
      "Epoch 300 tst: l 0.685 a 0.832  clct[20, 20] ans[20, 20] cl_acc 1.000 2.329sec\n",
      "result written at output/results.pickle\n"
     ]
    },
    {
     "name": "stdout",
     "output_type": "stream",
     "text": [
      "Epoch 301 tr: l 0.517 a 0.871  clct[33, 27] ans[33, 27] lr 0.012138 cl_acc 1.000 43.655sec(train) 3.668sec(infer)\n"
     ]
    },
    {
     "name": "stdout",
     "output_type": "stream",
     "text": [
      "Epoch 301 tst: l 0.703 a 0.830  clct[20, 20] ans[20, 20] cl_acc 1.000 2.313sec\n"
     ]
    },
    {
     "name": "stdout",
     "output_type": "stream",
     "text": [
      "Epoch 302 tr: l 0.496 a 0.877  clct[23, 37] ans[23, 37] lr 0.012016 cl_acc 1.000 43.550sec(train) 3.723sec(infer)\n"
     ]
    },
    {
     "name": "stdout",
     "output_type": "stream",
     "text": [
      "Epoch 302 tst: l 0.684 a 0.834  clct[20, 20] ans[20, 20] cl_acc 1.000 2.248sec\n"
     ]
    },
    {
     "name": "stdout",
     "output_type": "stream",
     "text": [
      "Epoch 303 tr: l 0.485 a 0.882  clct[29, 31] ans[29, 31] lr 0.011896 cl_acc 1.000 43.592sec(train) 3.713sec(infer)\n"
     ]
    },
    {
     "name": "stdout",
     "output_type": "stream",
     "text": [
      "Epoch 303 tst: l 0.706 a 0.831  clct[20, 20] ans[20, 20] cl_acc 1.000 2.365sec\n"
     ]
    },
    {
     "name": "stdout",
     "output_type": "stream",
     "text": [
      "Epoch 304 tr: l 0.508 a 0.876  clct[34, 26] ans[34, 26] lr 0.011777 cl_acc 1.000 43.512sec(train) 3.797sec(infer)\n"
     ]
    },
    {
     "name": "stdout",
     "output_type": "stream",
     "text": [
      "Epoch 304 tst: l 0.700 a 0.832  clct[20, 20] ans[20, 20] cl_acc 1.000 2.382sec\n"
     ]
    },
    {
     "name": "stdout",
     "output_type": "stream",
     "text": [
      "Epoch 305 tr: l 0.517 a 0.872  clct[31, 29] ans[31, 29] lr 0.011659 cl_acc 1.000 43.732sec(train) 3.818sec(infer)\n"
     ]
    },
    {
     "name": "stdout",
     "output_type": "stream",
     "text": [
      "Epoch 305 tst: l 0.703 a 0.827  clct[20, 20] ans[20, 20] cl_acc 1.000 2.317sec\n"
     ]
    },
    {
     "name": "stdout",
     "output_type": "stream",
     "text": [
      "Epoch 306 tr: l 0.491 a 0.880  clct[26, 34] ans[26, 34] lr 0.011543 cl_acc 1.000 43.822sec(train) 3.870sec(infer)\n"
     ]
    },
    {
     "name": "stdout",
     "output_type": "stream",
     "text": [
      "Epoch 306 tst: l 0.686 a 0.832  clct[20, 20] ans[20, 20] cl_acc 1.000 2.383sec\n"
     ]
    },
    {
     "name": "stdout",
     "output_type": "stream",
     "text": [
      "Epoch 307 tr: l 0.462 a 0.890  clct[28, 32] ans[28, 32] lr 0.011427 cl_acc 1.000 43.648sec(train) 3.876sec(infer)\n"
     ]
    },
    {
     "name": "stdout",
     "output_type": "stream",
     "text": [
      "Epoch 307 tst: l 0.684 a 0.834  clct[20, 20] ans[20, 20] cl_acc 1.000 2.429sec\n"
     ]
    },
    {
     "name": "stdout",
     "output_type": "stream",
     "text": [
      "Epoch 308 tr: l 0.487 a 0.882  clct[25, 35] ans[25, 35] lr 0.011313 cl_acc 1.000 43.749sec(train) 3.691sec(infer)\n"
     ]
    },
    {
     "name": "stdout",
     "output_type": "stream",
     "text": [
      "Epoch 308 tst: l 0.714 a 0.827  clct[20, 20] ans[20, 20] cl_acc 1.000 2.406sec\n"
     ]
    },
    {
     "name": "stdout",
     "output_type": "stream",
     "text": [
      "Epoch 309 tr: l 0.469 a 0.887  clct[34, 26] ans[34, 26] lr 0.011200 cl_acc 1.000 43.425sec(train) 3.677sec(infer)\n"
     ]
    },
    {
     "name": "stdout",
     "output_type": "stream",
     "text": [
      "Epoch 309 tst: l 0.683 a 0.831  clct[20, 20] ans[20, 20] cl_acc 1.000 2.333sec\n"
     ]
    },
    {
     "name": "stdout",
     "output_type": "stream",
     "text": [
      "Epoch 310 tr: l 0.493 a 0.880  clct[34, 26] ans[34, 26] lr 0.011088 cl_acc 1.000 43.879sec(train) 3.699sec(infer)\n"
     ]
    },
    {
     "name": "stdout",
     "output_type": "stream",
     "text": [
      "Epoch 310 tst: l 0.686 a 0.837  clct[20, 20] ans[20, 20] cl_acc 1.000 2.372sec\n",
      "result written at output/results.pickle\n"
     ]
    },
    {
     "name": "stdout",
     "output_type": "stream",
     "text": [
      "Epoch 311 tr: l 0.479 a 0.883  clct[28, 32] ans[28, 32] lr 0.010977 cl_acc 1.000 43.855sec(train) 3.849sec(infer)\n"
     ]
    },
    {
     "name": "stdout",
     "output_type": "stream",
     "text": [
      "Epoch 311 tst: l 0.686 a 0.832  clct[20, 20] ans[20, 20] cl_acc 1.000 2.339sec\n"
     ]
    },
    {
     "name": "stdout",
     "output_type": "stream",
     "text": [
      "Epoch 312 tr: l 0.468 a 0.887  clct[30, 30] ans[30, 30] lr 0.010867 cl_acc 1.000 43.715sec(train) 3.748sec(infer)\n"
     ]
    },
    {
     "name": "stdout",
     "output_type": "stream",
     "text": [
      "Epoch 312 tst: l 0.681 a 0.833  clct[20, 20] ans[20, 20] cl_acc 1.000 2.379sec\n"
     ]
    },
    {
     "name": "stdout",
     "output_type": "stream",
     "text": [
      "Epoch 313 tr: l 0.472 a 0.886  clct[37, 23] ans[37, 23] lr 0.010759 cl_acc 1.000 43.729sec(train) 3.804sec(infer)\n"
     ]
    },
    {
     "name": "stdout",
     "output_type": "stream",
     "text": [
      "Epoch 313 tst: l 0.683 a 0.834  clct[20, 20] ans[20, 20] cl_acc 1.000 2.333sec\n"
     ]
    },
    {
     "name": "stdout",
     "output_type": "stream",
     "text": [
      "Epoch 314 tr: l 0.486 a 0.882  clct[36, 24] ans[36, 24] lr 0.010651 cl_acc 1.000 43.592sec(train) 3.644sec(infer)\n"
     ]
    },
    {
     "name": "stdout",
     "output_type": "stream",
     "text": [
      "Epoch 314 tst: l 0.684 a 0.833  clct[20, 20] ans[20, 20] cl_acc 1.000 2.406sec\n"
     ]
    },
    {
     "name": "stdout",
     "output_type": "stream",
     "text": [
      "Epoch 315 tr: l 0.489 a 0.880  clct[27, 33] ans[27, 33] lr 0.010545 cl_acc 1.000 43.690sec(train) 3.650sec(infer)\n"
     ]
    },
    {
     "name": "stdout",
     "output_type": "stream",
     "text": [
      "Epoch 315 tst: l 0.683 a 0.835  clct[20, 20] ans[20, 20] cl_acc 1.000 2.352sec\n"
     ]
    },
    {
     "name": "stdout",
     "output_type": "stream",
     "text": [
      "Epoch 316 tr: l 0.452 a 0.891  clct[28, 32] ans[28, 32] lr 0.010439 cl_acc 1.000 43.874sec(train) 3.708sec(infer)\n"
     ]
    },
    {
     "name": "stdout",
     "output_type": "stream",
     "text": [
      "Epoch 316 tst: l 0.677 a 0.833  clct[20, 20] ans[20, 20] cl_acc 1.000 2.396sec\n"
     ]
    },
    {
     "name": "stdout",
     "output_type": "stream",
     "text": [
      "Epoch 317 tr: l 0.454 a 0.892  clct[33, 27] ans[33, 27] lr 0.010335 cl_acc 1.000 43.796sec(train) 3.751sec(infer)\n"
     ]
    },
    {
     "name": "stdout",
     "output_type": "stream",
     "text": [
      "Epoch 317 tst: l 0.690 a 0.833  clct[20, 20] ans[20, 20] cl_acc 1.000 2.388sec\n"
     ]
    },
    {
     "name": "stdout",
     "output_type": "stream",
     "text": [
      "Epoch 318 tr: l 0.482 a 0.882  clct[32, 28] ans[32, 28] lr 0.010231 cl_acc 1.000 43.828sec(train) 3.731sec(infer)\n"
     ]
    },
    {
     "name": "stdout",
     "output_type": "stream",
     "text": [
      "Epoch 318 tst: l 0.690 a 0.828  clct[20, 20] ans[20, 20] cl_acc 1.000 2.325sec\n"
     ]
    },
    {
     "name": "stdout",
     "output_type": "stream",
     "text": [
      "Epoch 319 tr: l 0.464 a 0.889  clct[26, 34] ans[26, 34] lr 0.010129 cl_acc 1.000 43.630sec(train) 3.729sec(infer)\n"
     ]
    },
    {
     "name": "stdout",
     "output_type": "stream",
     "text": [
      "Epoch 319 tst: l 0.685 a 0.831  clct[20, 20] ans[20, 20] cl_acc 1.000 2.290sec\n"
     ]
    },
    {
     "name": "stdout",
     "output_type": "stream",
     "text": [
      "Epoch 320 tr: l 0.496 a 0.879  clct[30, 30] ans[30, 30] lr 0.010028 cl_acc 1.000 43.798sec(train) 3.700sec(infer)\n"
     ]
    },
    {
     "name": "stdout",
     "output_type": "stream",
     "text": [
      "Epoch 320 tst: l 0.701 a 0.826  clct[20, 20] ans[20, 20] cl_acc 1.000 2.339sec\n",
      "result written at output/results.pickle\n"
     ]
    },
    {
     "name": "stdout",
     "output_type": "stream",
     "text": [
      "Epoch 321 tr: l 0.483 a 0.881  clct[35, 25] ans[35, 25] lr 0.009927 cl_acc 1.000 43.690sec(train) 3.720sec(infer)\n"
     ]
    },
    {
     "name": "stdout",
     "output_type": "stream",
     "text": [
      "Epoch 321 tst: l 0.699 a 0.832  clct[20, 20] ans[20, 20] cl_acc 1.000 2.398sec\n"
     ]
    },
    {
     "name": "stdout",
     "output_type": "stream",
     "text": [
      "Epoch 322 tr: l 0.463 a 0.885  clct[25, 35] ans[25, 35] lr 0.009828 cl_acc 1.000 43.718sec(train) 3.722sec(infer)\n"
     ]
    },
    {
     "name": "stdout",
     "output_type": "stream",
     "text": [
      "Epoch 322 tst: l 0.679 a 0.835  clct[20, 20] ans[20, 20] cl_acc 1.000 2.354sec\n"
     ]
    },
    {
     "name": "stdout",
     "output_type": "stream",
     "text": [
      "Epoch 323 tr: l 0.471 a 0.884  clct[31, 29] ans[31, 29] lr 0.009730 cl_acc 1.000 43.691sec(train) 3.855sec(infer)\n"
     ]
    },
    {
     "name": "stdout",
     "output_type": "stream",
     "text": [
      "Epoch 323 tst: l 0.679 a 0.837  clct[20, 20] ans[20, 20] cl_acc 1.000 2.359sec\n"
     ]
    },
    {
     "name": "stdout",
     "output_type": "stream",
     "text": [
      "Epoch 324 tr: l 0.436 a 0.897  clct[29, 31] ans[29, 31] lr 0.009633 cl_acc 1.000 43.536sec(train) 3.691sec(infer)\n"
     ]
    },
    {
     "name": "stdout",
     "output_type": "stream",
     "text": [
      "Epoch 324 tst: l 0.668 a 0.836  clct[20, 20] ans[20, 20] cl_acc 1.000 2.361sec\n"
     ]
    },
    {
     "name": "stdout",
     "output_type": "stream",
     "text": [
      "Epoch 325 tr: l 0.461 a 0.889  clct[32, 28] ans[32, 28] lr 0.009536 cl_acc 1.000 43.745sec(train) 3.796sec(infer)\n"
     ]
    },
    {
     "name": "stdout",
     "output_type": "stream",
     "text": [
      "Epoch 325 tst: l 0.688 a 0.833  clct[20, 20] ans[20, 20] cl_acc 1.000 2.340sec\n"
     ]
    },
    {
     "name": "stdout",
     "output_type": "stream",
     "text": [
      "Epoch 326 tr: l 0.475 a 0.886  clct[27, 33] ans[27, 33] lr 0.009441 cl_acc 1.000 43.557sec(train) 3.662sec(infer)\n"
     ]
    },
    {
     "name": "stdout",
     "output_type": "stream",
     "text": [
      "Epoch 326 tst: l 0.685 a 0.834  clct[20, 20] ans[20, 20] cl_acc 1.000 2.343sec\n"
     ]
    },
    {
     "name": "stdout",
     "output_type": "stream",
     "text": [
      "Epoch 327 tr: l 0.447 a 0.893  clct[32, 28] ans[32, 28] lr 0.009346 cl_acc 1.000 43.811sec(train) 3.820sec(infer)\n"
     ]
    },
    {
     "name": "stdout",
     "output_type": "stream",
     "text": [
      "Epoch 327 tst: l 0.677 a 0.835  clct[20, 20] ans[20, 20] cl_acc 1.000 2.301sec\n"
     ]
    },
    {
     "name": "stdout",
     "output_type": "stream",
     "text": [
      "Epoch 328 tr: l 0.454 a 0.889  clct[34, 26] ans[34, 26] lr 0.009253 cl_acc 1.000 43.524sec(train) 3.698sec(infer)\n"
     ]
    },
    {
     "name": "stdout",
     "output_type": "stream",
     "text": [
      "Epoch 328 tst: l 0.676 a 0.835  clct[20, 20] ans[20, 20] cl_acc 1.000 2.331sec\n"
     ]
    },
    {
     "name": "stdout",
     "output_type": "stream",
     "text": [
      "Epoch 329 tr: l 0.454 a 0.889  clct[30, 30] ans[30, 30] lr 0.009160 cl_acc 1.000 43.518sec(train) 3.741sec(infer)\n"
     ]
    },
    {
     "name": "stdout",
     "output_type": "stream",
     "text": [
      "Epoch 329 tst: l 0.667 a 0.835  clct[20, 20] ans[20, 20] cl_acc 1.000 2.466sec\n"
     ]
    },
    {
     "name": "stdout",
     "output_type": "stream",
     "text": [
      "Epoch 330 tr: l 0.467 a 0.886  clct[35, 25] ans[35, 25] lr 0.009069 cl_acc 1.000 43.410sec(train) 3.704sec(infer)\n"
     ]
    },
    {
     "name": "stdout",
     "output_type": "stream",
     "text": [
      "Epoch 330 tst: l 0.673 a 0.837  clct[20, 20] ans[20, 20] cl_acc 1.000 2.302sec\n",
      "result written at output/results.pickle\n"
     ]
    },
    {
     "name": "stdout",
     "output_type": "stream",
     "text": [
      "Epoch 331 tr: l 0.442 a 0.894  clct[37, 23] ans[37, 23] lr 0.008978 cl_acc 1.000 43.964sec(train) 3.775sec(infer)\n"
     ]
    },
    {
     "name": "stdout",
     "output_type": "stream",
     "text": [
      "Epoch 331 tst: l 0.674 a 0.835  clct[20, 20] ans[20, 20] cl_acc 1.000 2.283sec\n"
     ]
    },
    {
     "name": "stdout",
     "output_type": "stream",
     "text": [
      "Epoch 332 tr: l 0.446 a 0.892  clct[30, 30] ans[30, 30] lr 0.008888 cl_acc 1.000 43.816sec(train) 3.708sec(infer)\n"
     ]
    },
    {
     "name": "stdout",
     "output_type": "stream",
     "text": [
      "Epoch 332 tst: l 0.666 a 0.840  clct[20, 20] ans[20, 20] cl_acc 1.000 2.267sec\n"
     ]
    },
    {
     "name": "stdout",
     "output_type": "stream",
     "text": [
      "Epoch 333 tr: l 0.460 a 0.889  clct[32, 28] ans[32, 28] lr 0.008800 cl_acc 1.000 43.756sec(train) 3.648sec(infer)\n"
     ]
    },
    {
     "name": "stdout",
     "output_type": "stream",
     "text": [
      "Epoch 333 tst: l 0.675 a 0.835  clct[20, 20] ans[20, 20] cl_acc 1.000 2.290sec\n"
     ]
    },
    {
     "name": "stdout",
     "output_type": "stream",
     "text": [
      "Epoch 334 tr: l 0.448 a 0.891  clct[26, 34] ans[26, 34] lr 0.008712 cl_acc 1.000 43.478sec(train) 3.643sec(infer)\n"
     ]
    },
    {
     "name": "stdout",
     "output_type": "stream",
     "text": [
      "Epoch 334 tst: l 0.671 a 0.835  clct[20, 20] ans[20, 20] cl_acc 1.000 2.347sec\n"
     ]
    },
    {
     "name": "stdout",
     "output_type": "stream",
     "text": [
      "Epoch 335 tr: l 0.437 a 0.897  clct[33, 27] ans[33, 27] lr 0.008624 cl_acc 1.000 43.581sec(train) 3.630sec(infer)\n"
     ]
    },
    {
     "name": "stdout",
     "output_type": "stream",
     "text": [
      "Epoch 335 tst: l 0.669 a 0.837  clct[20, 20] ans[20, 20] cl_acc 1.000 2.328sec\n"
     ]
    },
    {
     "name": "stdout",
     "output_type": "stream",
     "text": [
      "Epoch 336 tr: l 0.425 a 0.897  clct[33, 27] ans[33, 27] lr 0.008538 cl_acc 1.000 43.621sec(train) 3.694sec(infer)\n"
     ]
    },
    {
     "name": "stdout",
     "output_type": "stream",
     "text": [
      "Epoch 336 tst: l 0.670 a 0.836  clct[20, 20] ans[20, 20] cl_acc 1.000 2.338sec\n"
     ]
    },
    {
     "name": "stdout",
     "output_type": "stream",
     "text": [
      "Epoch 337 tr: l 0.427 a 0.899  clct[26, 34] ans[26, 34] lr 0.008453 cl_acc 1.000 43.583sec(train) 3.646sec(infer)\n"
     ]
    },
    {
     "name": "stdout",
     "output_type": "stream",
     "text": [
      "Epoch 337 tst: l 0.675 a 0.836  clct[20, 20] ans[20, 20] cl_acc 1.000 2.349sec\n"
     ]
    },
    {
     "name": "stdout",
     "output_type": "stream",
     "text": [
      "Epoch 338 tr: l 0.452 a 0.889  clct[32, 28] ans[32, 28] lr 0.008368 cl_acc 1.000 43.804sec(train) 3.741sec(infer)\n"
     ]
    },
    {
     "name": "stdout",
     "output_type": "stream",
     "text": [
      "Epoch 338 tst: l 0.680 a 0.833  clct[20, 20] ans[20, 20] cl_acc 1.000 2.296sec\n"
     ]
    },
    {
     "name": "stdout",
     "output_type": "stream",
     "text": [
      "Epoch 339 tr: l 0.464 a 0.886  clct[29, 31] ans[29, 31] lr 0.008285 cl_acc 1.000 43.676sec(train) 3.782sec(infer)\n"
     ]
    },
    {
     "name": "stdout",
     "output_type": "stream",
     "text": [
      "Epoch 339 tst: l 0.682 a 0.834  clct[20, 20] ans[20, 20] cl_acc 1.000 2.312sec\n"
     ]
    },
    {
     "name": "stdout",
     "output_type": "stream",
     "text": [
      "Epoch 340 tr: l 0.443 a 0.892  clct[33, 27] ans[33, 27] lr 0.008202 cl_acc 1.000 43.518sec(train) 3.730sec(infer)\n"
     ]
    },
    {
     "name": "stdout",
     "output_type": "stream",
     "text": [
      "Epoch 340 tst: l 0.673 a 0.832  clct[20, 20] ans[20, 20] cl_acc 1.000 2.318sec\n",
      "result written at output/results.pickle\n"
     ]
    },
    {
     "name": "stdout",
     "output_type": "stream",
     "text": [
      "Epoch 341 tr: l 0.437 a 0.894  clct[30, 30] ans[30, 30] lr 0.008120 cl_acc 1.000 43.493sec(train) 3.584sec(infer)\n"
     ]
    },
    {
     "name": "stdout",
     "output_type": "stream",
     "text": [
      "Epoch 341 tst: l 0.674 a 0.835  clct[20, 20] ans[20, 20] cl_acc 1.000 2.312sec\n"
     ]
    },
    {
     "name": "stdout",
     "output_type": "stream",
     "text": [
      "Epoch 342 tr: l 0.457 a 0.890  clct[28, 32] ans[28, 32] lr 0.008039 cl_acc 1.000 43.457sec(train) 3.694sec(infer)\n"
     ]
    },
    {
     "name": "stdout",
     "output_type": "stream",
     "text": [
      "Epoch 342 tst: l 0.688 a 0.835  clct[20, 20] ans[20, 20] cl_acc 1.000 2.281sec\n"
     ]
    },
    {
     "name": "stdout",
     "output_type": "stream",
     "text": [
      "Epoch 343 tr: l 0.448 a 0.891  clct[33, 27] ans[33, 27] lr 0.007958 cl_acc 1.000 43.603sec(train) 3.616sec(infer)\n"
     ]
    },
    {
     "name": "stdout",
     "output_type": "stream",
     "text": [
      "Epoch 343 tst: l 0.662 a 0.837  clct[20, 20] ans[20, 20] cl_acc 1.000 2.332sec\n"
     ]
    },
    {
     "name": "stdout",
     "output_type": "stream",
     "text": [
      "Epoch 344 tr: l 0.446 a 0.891  clct[30, 30] ans[30, 30] lr 0.007879 cl_acc 1.000 43.474sec(train) 3.784sec(infer)\n"
     ]
    },
    {
     "name": "stdout",
     "output_type": "stream",
     "text": [
      "Epoch 344 tst: l 0.680 a 0.836  clct[20, 20] ans[20, 20] cl_acc 1.000 2.357sec\n"
     ]
    },
    {
     "name": "stdout",
     "output_type": "stream",
     "text": [
      "Epoch 345 tr: l 0.441 a 0.892  clct[27, 33] ans[27, 33] lr 0.007800 cl_acc 1.000 43.609sec(train) 3.750sec(infer)\n"
     ]
    },
    {
     "name": "stdout",
     "output_type": "stream",
     "text": [
      "Epoch 345 tst: l 0.678 a 0.834  clct[20, 20] ans[20, 20] cl_acc 1.000 2.350sec\n"
     ]
    },
    {
     "name": "stdout",
     "output_type": "stream",
     "text": [
      "Epoch 346 tr: l 0.420 a 0.899  clct[33, 27] ans[33, 27] lr 0.007722 cl_acc 1.000 43.587sec(train) 3.657sec(infer)\n"
     ]
    },
    {
     "name": "stdout",
     "output_type": "stream",
     "text": [
      "Epoch 346 tst: l 0.668 a 0.838  clct[20, 20] ans[20, 20] cl_acc 1.000 2.309sec\n"
     ]
    },
    {
     "name": "stdout",
     "output_type": "stream",
     "text": [
      "Epoch 347 tr: l 0.437 a 0.893  clct[33, 27] ans[33, 27] lr 0.007645 cl_acc 1.000 43.398sec(train) 3.720sec(infer)\n"
     ]
    },
    {
     "name": "stdout",
     "output_type": "stream",
     "text": [
      "Epoch 347 tst: l 0.667 a 0.838  clct[20, 20] ans[20, 20] cl_acc 1.000 2.366sec\n"
     ]
    },
    {
     "name": "stdout",
     "output_type": "stream",
     "text": [
      "Epoch 348 tr: l 0.417 a 0.901  clct[33, 27] ans[33, 27] lr 0.007568 cl_acc 1.000 43.565sec(train) 3.753sec(infer)\n"
     ]
    },
    {
     "name": "stdout",
     "output_type": "stream",
     "text": [
      "Epoch 348 tst: l 0.673 a 0.835  clct[20, 20] ans[20, 20] cl_acc 1.000 2.362sec\n"
     ]
    },
    {
     "name": "stdout",
     "output_type": "stream",
     "text": [
      "Epoch 349 tr: l 0.431 a 0.894  clct[26, 34] ans[26, 34] lr 0.007492 cl_acc 1.000 43.678sec(train) 3.715sec(infer)\n"
     ]
    },
    {
     "name": "stdout",
     "output_type": "stream",
     "text": [
      "Epoch 349 tst: l 0.680 a 0.834  clct[20, 20] ans[20, 20] cl_acc 1.000 2.408sec\n"
     ]
    },
    {
     "name": "stdout",
     "output_type": "stream",
     "text": [
      "Epoch 350 tr: l 0.422 a 0.900  clct[34, 26] ans[34, 26] lr 0.007418 cl_acc 1.000 43.531sec(train) 3.698sec(infer)\n"
     ]
    },
    {
     "name": "stdout",
     "output_type": "stream",
     "text": [
      "Epoch 350 tst: l 0.670 a 0.837  clct[20, 20] ans[20, 20] cl_acc 1.000 2.328sec\n",
      "result written at output/results.pickle\n"
     ]
    },
    {
     "name": "stdout",
     "output_type": "stream",
     "text": [
      "Epoch 351 tr: l 0.420 a 0.897  clct[28, 32] ans[28, 32] lr 0.007343 cl_acc 1.000 43.654sec(train) 3.729sec(infer)\n"
     ]
    },
    {
     "name": "stdout",
     "output_type": "stream",
     "text": [
      "Epoch 351 tst: l 0.664 a 0.839  clct[20, 20] ans[20, 20] cl_acc 1.000 2.330sec\n"
     ]
    },
    {
     "name": "stdout",
     "output_type": "stream",
     "text": [
      "Epoch 352 tr: l 0.437 a 0.892  clct[27, 33] ans[27, 33] lr 0.007270 cl_acc 1.000 43.606sec(train) 3.702sec(infer)\n"
     ]
    },
    {
     "name": "stdout",
     "output_type": "stream",
     "text": [
      "Epoch 352 tst: l 0.677 a 0.835  clct[20, 20] ans[20, 20] cl_acc 1.000 2.338sec\n"
     ]
    },
    {
     "name": "stdout",
     "output_type": "stream",
     "text": [
      "Epoch 353 tr: l 0.441 a 0.893  clct[33, 27] ans[33, 27] lr 0.007197 cl_acc 1.000 43.589sec(train) 3.727sec(infer)\n"
     ]
    },
    {
     "name": "stdout",
     "output_type": "stream",
     "text": [
      "Epoch 353 tst: l 0.670 a 0.838  clct[20, 20] ans[20, 20] cl_acc 1.000 2.352sec\n"
     ]
    },
    {
     "name": "stdout",
     "output_type": "stream",
     "text": [
      "Epoch 354 tr: l 0.412 a 0.903  clct[29, 31] ans[29, 31] lr 0.007125 cl_acc 1.000 43.667sec(train) 3.721sec(infer)\n"
     ]
    },
    {
     "name": "stdout",
     "output_type": "stream",
     "text": [
      "Epoch 354 tst: l 0.647 a 0.841  clct[20, 20] ans[20, 20] cl_acc 1.000 2.423sec\n"
     ]
    },
    {
     "name": "stdout",
     "output_type": "stream",
     "text": [
      "Epoch 355 tr: l 0.432 a 0.892  clct[31, 29] ans[31, 29] lr 0.007054 cl_acc 1.000 43.553sec(train) 3.856sec(infer)\n"
     ]
    },
    {
     "name": "stdout",
     "output_type": "stream",
     "text": [
      "Epoch 355 tst: l 0.659 a 0.835  clct[20, 20] ans[20, 20] cl_acc 1.000 2.485sec\n"
     ]
    },
    {
     "name": "stdout",
     "output_type": "stream",
     "text": [
      "Epoch 356 tr: l 0.415 a 0.899  clct[28, 32] ans[28, 32] lr 0.006983 cl_acc 1.000 43.552sec(train) 3.730sec(infer)\n"
     ]
    },
    {
     "name": "stdout",
     "output_type": "stream",
     "text": [
      "Epoch 356 tst: l 0.663 a 0.835  clct[20, 20] ans[20, 20] cl_acc 1.000 2.342sec\n"
     ]
    },
    {
     "name": "stdout",
     "output_type": "stream",
     "text": [
      "Epoch 357 tr: l 0.417 a 0.901  clct[27, 33] ans[27, 33] lr 0.006914 cl_acc 1.000 43.775sec(train) 3.699sec(infer)\n"
     ]
    },
    {
     "name": "stdout",
     "output_type": "stream",
     "text": [
      "Epoch 357 tst: l 0.656 a 0.841  clct[20, 20] ans[20, 20] cl_acc 1.000 2.337sec\n"
     ]
    },
    {
     "name": "stdout",
     "output_type": "stream",
     "text": [
      "Epoch 358 tr: l 0.422 a 0.898  clct[35, 25] ans[35, 25] lr 0.006844 cl_acc 1.000 43.837sec(train) 3.729sec(infer)\n"
     ]
    },
    {
     "name": "stdout",
     "output_type": "stream",
     "text": [
      "Epoch 358 tst: l 0.654 a 0.841  clct[20, 20] ans[20, 20] cl_acc 1.000 2.424sec\n"
     ]
    },
    {
     "name": "stdout",
     "output_type": "stream",
     "text": [
      "Epoch 359 tr: l 0.392 a 0.905  clct[27, 33] ans[27, 33] lr 0.006776 cl_acc 1.000 43.584sec(train) 3.793sec(infer)\n"
     ]
    },
    {
     "name": "stdout",
     "output_type": "stream",
     "text": [
      "Epoch 359 tst: l 0.669 a 0.838  clct[20, 20] ans[20, 20] cl_acc 1.000 2.389sec\n"
     ]
    },
    {
     "name": "stdout",
     "output_type": "stream",
     "text": [
      "Epoch 360 tr: l 0.400 a 0.906  clct[30, 30] ans[30, 30] lr 0.006708 cl_acc 1.000 43.576sec(train) 3.807sec(infer)\n"
     ]
    },
    {
     "name": "stdout",
     "output_type": "stream",
     "text": [
      "Epoch 360 tst: l 0.657 a 0.839  clct[20, 20] ans[20, 20] cl_acc 1.000 2.377sec\n",
      "result written at output/results.pickle\n"
     ]
    },
    {
     "name": "stdout",
     "output_type": "stream",
     "text": [
      "Epoch 361 tr: l 0.396 a 0.906  clct[24, 36] ans[24, 36] lr 0.006641 cl_acc 1.000 43.656sec(train) 3.732sec(infer)\n"
     ]
    },
    {
     "name": "stdout",
     "output_type": "stream",
     "text": [
      "Epoch 361 tst: l 0.665 a 0.840  clct[20, 20] ans[20, 20] cl_acc 1.000 2.374sec\n"
     ]
    },
    {
     "name": "stdout",
     "output_type": "stream",
     "text": [
      "Epoch 362 tr: l 0.408 a 0.903  clct[25, 35] ans[25, 35] lr 0.006575 cl_acc 1.000 43.527sec(train) 3.791sec(infer)\n"
     ]
    },
    {
     "name": "stdout",
     "output_type": "stream",
     "text": [
      "Epoch 362 tst: l 0.667 a 0.842  clct[20, 20] ans[20, 20] cl_acc 1.000 2.365sec\n"
     ]
    },
    {
     "name": "stdout",
     "output_type": "stream",
     "text": [
      "Epoch 363 tr: l 0.404 a 0.903  clct[26, 34] ans[26, 34] lr 0.006509 cl_acc 1.000 43.934sec(train) 3.727sec(infer)\n"
     ]
    },
    {
     "name": "stdout",
     "output_type": "stream",
     "text": [
      "Epoch 363 tst: l 0.664 a 0.837  clct[20, 20] ans[20, 20] cl_acc 1.000 2.350sec\n"
     ]
    },
    {
     "name": "stdout",
     "output_type": "stream",
     "text": [
      "Epoch 364 tr: l 0.417 a 0.899  clct[31, 29] ans[31, 29] lr 0.006444 cl_acc 1.000 43.670sec(train) 3.739sec(infer)\n"
     ]
    },
    {
     "name": "stdout",
     "output_type": "stream",
     "text": [
      "Epoch 364 tst: l 0.682 a 0.836  clct[20, 20] ans[20, 20] cl_acc 1.000 2.279sec\n"
     ]
    },
    {
     "name": "stdout",
     "output_type": "stream",
     "text": [
      "Epoch 365 tr: l 0.388 a 0.907  clct[31, 29] ans[31, 29] lr 0.006379 cl_acc 1.000 43.629sec(train) 3.653sec(infer)\n"
     ]
    },
    {
     "name": "stdout",
     "output_type": "stream",
     "text": [
      "Epoch 365 tst: l 0.664 a 0.839  clct[20, 20] ans[20, 20] cl_acc 1.000 2.372sec\n"
     ]
    },
    {
     "name": "stdout",
     "output_type": "stream",
     "text": [
      "Epoch 366 tr: l 0.390 a 0.908  clct[32, 28] ans[32, 28] lr 0.006316 cl_acc 1.000 43.826sec(train) 3.697sec(infer)\n"
     ]
    },
    {
     "name": "stdout",
     "output_type": "stream",
     "text": [
      "Epoch 366 tst: l 0.677 a 0.838  clct[20, 20] ans[20, 20] cl_acc 1.000 2.271sec\n"
     ]
    },
    {
     "name": "stdout",
     "output_type": "stream",
     "text": [
      "Epoch 367 tr: l 0.411 a 0.901  clct[35, 25] ans[35, 25] lr 0.006253 cl_acc 1.000 43.654sec(train) 3.621sec(infer)\n"
     ]
    },
    {
     "name": "stdout",
     "output_type": "stream",
     "text": [
      "Epoch 367 tst: l 0.685 a 0.834  clct[20, 20] ans[20, 20] cl_acc 1.000 2.370sec\n"
     ]
    },
    {
     "name": "stdout",
     "output_type": "stream",
     "text": [
      "Epoch 368 tr: l 0.400 a 0.903  clct[31, 29] ans[31, 29] lr 0.006190 cl_acc 1.000 43.686sec(train) 3.764sec(infer)\n"
     ]
    },
    {
     "name": "stdout",
     "output_type": "stream",
     "text": [
      "Epoch 368 tst: l 0.665 a 0.838  clct[20, 20] ans[20, 20] cl_acc 1.000 2.403sec\n"
     ]
    },
    {
     "name": "stdout",
     "output_type": "stream",
     "text": [
      "Epoch 369 tr: l 0.387 a 0.907  clct[29, 31] ans[29, 31] lr 0.006128 cl_acc 1.000 43.729sec(train) 3.804sec(infer)\n"
     ]
    },
    {
     "name": "stdout",
     "output_type": "stream",
     "text": [
      "Epoch 369 tst: l 0.662 a 0.837  clct[20, 20] ans[20, 20] cl_acc 1.000 2.369sec\n"
     ]
    },
    {
     "name": "stdout",
     "output_type": "stream",
     "text": [
      "Epoch 370 tr: l 0.394 a 0.905  clct[31, 29] ans[31, 29] lr 0.006067 cl_acc 1.000 43.529sec(train) 3.767sec(infer)\n"
     ]
    },
    {
     "name": "stdout",
     "output_type": "stream",
     "text": [
      "Epoch 370 tst: l 0.656 a 0.840  clct[20, 20] ans[20, 20] cl_acc 1.000 2.409sec\n",
      "result written at output/results.pickle\n"
     ]
    },
    {
     "name": "stdout",
     "output_type": "stream",
     "text": [
      "Epoch 371 tr: l 0.400 a 0.903  clct[26, 34] ans[26, 34] lr 0.006006 cl_acc 1.000 43.671sec(train) 3.679sec(infer)\n"
     ]
    },
    {
     "name": "stdout",
     "output_type": "stream",
     "text": [
      "Epoch 371 tst: l 0.653 a 0.837  clct[20, 20] ans[20, 20] cl_acc 1.000 2.381sec\n"
     ]
    },
    {
     "name": "stdout",
     "output_type": "stream",
     "text": [
      "Epoch 372 tr: l 0.388 a 0.907  clct[33, 27] ans[33, 27] lr 0.005946 cl_acc 1.000 43.634sec(train) 3.797sec(infer)\n"
     ]
    },
    {
     "name": "stdout",
     "output_type": "stream",
     "text": [
      "Epoch 372 tst: l 0.657 a 0.842  clct[20, 20] ans[20, 20] cl_acc 1.000 2.454sec\n"
     ]
    },
    {
     "name": "stdout",
     "output_type": "stream",
     "text": [
      "Epoch 373 tr: l 0.393 a 0.906  clct[25, 35] ans[25, 35] lr 0.005887 cl_acc 1.000 43.764sec(train) 3.743sec(infer)\n"
     ]
    },
    {
     "name": "stdout",
     "output_type": "stream",
     "text": [
      "Epoch 373 tst: l 0.669 a 0.842  clct[20, 20] ans[20, 20] cl_acc 1.000 2.300sec\n"
     ]
    },
    {
     "name": "stdout",
     "output_type": "stream",
     "text": [
      "Epoch 374 tr: l 0.371 a 0.913  clct[31, 29] ans[31, 29] lr 0.005828 cl_acc 1.000 43.875sec(train) 3.824sec(infer)\n"
     ]
    },
    {
     "name": "stdout",
     "output_type": "stream",
     "text": [
      "Epoch 374 tst: l 0.657 a 0.839  clct[20, 20] ans[20, 20] cl_acc 1.000 2.336sec\n"
     ]
    },
    {
     "name": "stdout",
     "output_type": "stream",
     "text": [
      "Epoch 375 tr: l 0.391 a 0.905  clct[31, 29] ans[31, 29] lr 0.005769 cl_acc 1.000 43.678sec(train) 3.857sec(infer)\n"
     ]
    },
    {
     "name": "stdout",
     "output_type": "stream",
     "text": [
      "Epoch 375 tst: l 0.670 a 0.836  clct[20, 20] ans[20, 20] cl_acc 1.000 2.343sec\n"
     ]
    },
    {
     "name": "stdout",
     "output_type": "stream",
     "text": [
      "Epoch 376 tr: l 0.373 a 0.913  clct[26, 34] ans[26, 34] lr 0.005712 cl_acc 1.000 43.868sec(train) 3.830sec(infer)\n"
     ]
    },
    {
     "name": "stdout",
     "output_type": "stream",
     "text": [
      "Epoch 376 tst: l 0.665 a 0.841  clct[20, 20] ans[20, 20] cl_acc 1.000 2.303sec\n"
     ]
    },
    {
     "name": "stdout",
     "output_type": "stream",
     "text": [
      "Epoch 377 tr: l 0.398 a 0.904  clct[33, 27] ans[33, 27] lr 0.005655 cl_acc 1.000 43.783sec(train) 3.752sec(infer)\n"
     ]
    },
    {
     "name": "stdout",
     "output_type": "stream",
     "text": [
      "Epoch 377 tst: l 0.658 a 0.841  clct[20, 20] ans[20, 20] cl_acc 1.000 2.365sec\n"
     ]
    },
    {
     "name": "stdout",
     "output_type": "stream",
     "text": [
      "Epoch 378 tr: l 0.388 a 0.906  clct[32, 28] ans[32, 28] lr 0.005598 cl_acc 1.000 43.835sec(train) 3.850sec(infer)\n"
     ]
    },
    {
     "name": "stdout",
     "output_type": "stream",
     "text": [
      "Epoch 378 tst: l 0.658 a 0.840  clct[20, 20] ans[20, 20] cl_acc 1.000 2.429sec\n"
     ]
    },
    {
     "name": "stdout",
     "output_type": "stream",
     "text": [
      "Epoch 379 tr: l 0.396 a 0.904  clct[27, 33] ans[27, 33] lr 0.005542 cl_acc 1.000 43.774sec(train) 3.840sec(infer)\n"
     ]
    },
    {
     "name": "stdout",
     "output_type": "stream",
     "text": [
      "Epoch 379 tst: l 0.662 a 0.839  clct[20, 20] ans[20, 20] cl_acc 1.000 2.378sec\n"
     ]
    },
    {
     "name": "stdout",
     "output_type": "stream",
     "text": [
      "Epoch 380 tr: l 0.376 a 0.912  clct[25, 35] ans[25, 35] lr 0.005487 cl_acc 1.000 43.950sec(train) 3.831sec(infer)\n"
     ]
    },
    {
     "name": "stdout",
     "output_type": "stream",
     "text": [
      "Epoch 380 tst: l 0.647 a 0.842  clct[20, 20] ans[20, 20] cl_acc 1.000 2.326sec\n",
      "result written at output/results.pickle\n"
     ]
    },
    {
     "name": "stdout",
     "output_type": "stream",
     "text": [
      "Epoch 381 tr: l 0.388 a 0.908  clct[36, 24] ans[36, 24] lr 0.005432 cl_acc 1.000 43.691sec(train) 3.702sec(infer)\n"
     ]
    },
    {
     "name": "stdout",
     "output_type": "stream",
     "text": [
      "Epoch 381 tst: l 0.659 a 0.840  clct[20, 20] ans[20, 20] cl_acc 1.000 2.279sec\n"
     ]
    },
    {
     "name": "stdout",
     "output_type": "stream",
     "text": [
      "Epoch 382 tr: l 0.385 a 0.906  clct[30, 30] ans[30, 30] lr 0.005378 cl_acc 1.000 43.660sec(train) 3.651sec(infer)\n"
     ]
    },
    {
     "name": "stdout",
     "output_type": "stream",
     "text": [
      "Epoch 382 tst: l 0.644 a 0.844  clct[20, 20] ans[20, 20] cl_acc 1.000 2.354sec\n"
     ]
    },
    {
     "name": "stdout",
     "output_type": "stream",
     "text": [
      "Epoch 383 tr: l 0.366 a 0.913  clct[27, 33] ans[27, 33] lr 0.005324 cl_acc 1.000 43.601sec(train) 3.670sec(infer)\n"
     ]
    },
    {
     "name": "stdout",
     "output_type": "stream",
     "text": [
      "Epoch 383 tst: l 0.651 a 0.843  clct[20, 20] ans[20, 20] cl_acc 1.000 2.353sec\n"
     ]
    },
    {
     "name": "stdout",
     "output_type": "stream",
     "text": [
      "Epoch 384 tr: l 0.361 a 0.915  clct[30, 30] ans[30, 30] lr 0.005271 cl_acc 1.000 43.898sec(train) 3.772sec(infer)\n"
     ]
    },
    {
     "name": "stdout",
     "output_type": "stream",
     "text": [
      "Epoch 384 tst: l 0.652 a 0.844  clct[20, 20] ans[20, 20] cl_acc 1.000 2.330sec\n"
     ]
    },
    {
     "name": "stdout",
     "output_type": "stream",
     "text": [
      "Epoch 385 tr: l 0.359 a 0.915  clct[34, 26] ans[34, 26] lr 0.005218 cl_acc 1.000 43.708sec(train) 3.683sec(infer)\n"
     ]
    },
    {
     "name": "stdout",
     "output_type": "stream",
     "text": [
      "Epoch 385 tst: l 0.645 a 0.843  clct[20, 20] ans[20, 20] cl_acc 1.000 2.245sec\n"
     ]
    },
    {
     "name": "stdout",
     "output_type": "stream",
     "text": [
      "Epoch 386 tr: l 0.358 a 0.914  clct[35, 25] ans[35, 25] lr 0.005166 cl_acc 1.000 43.615sec(train) 3.747sec(infer)\n"
     ]
    },
    {
     "name": "stdout",
     "output_type": "stream",
     "text": [
      "Epoch 386 tst: l 0.646 a 0.843  clct[20, 20] ans[20, 20] cl_acc 1.000 2.422sec\n"
     ]
    },
    {
     "name": "stdout",
     "output_type": "stream",
     "text": [
      "Epoch 387 tr: l 0.367 a 0.914  clct[28, 32] ans[28, 32] lr 0.005114 cl_acc 1.000 43.465sec(train) 3.752sec(infer)\n"
     ]
    },
    {
     "name": "stdout",
     "output_type": "stream",
     "text": [
      "Epoch 387 tst: l 0.647 a 0.843  clct[20, 20] ans[20, 20] cl_acc 1.000 2.353sec\n"
     ]
    },
    {
     "name": "stdout",
     "output_type": "stream",
     "text": [
      "Epoch 388 tr: l 0.345 a 0.921  clct[34, 26] ans[34, 26] lr 0.005063 cl_acc 1.000 43.577sec(train) 3.854sec(infer)\n"
     ]
    },
    {
     "name": "stdout",
     "output_type": "stream",
     "text": [
      "Epoch 388 tst: l 0.654 a 0.840  clct[20, 20] ans[20, 20] cl_acc 1.000 2.390sec\n"
     ]
    },
    {
     "name": "stdout",
     "output_type": "stream",
     "text": [
      "Epoch 389 tr: l 0.366 a 0.913  clct[30, 30] ans[30, 30] lr 0.005012 cl_acc 1.000 43.840sec(train) 3.797sec(infer)\n"
     ]
    },
    {
     "name": "stdout",
     "output_type": "stream",
     "text": [
      "Epoch 389 tst: l 0.659 a 0.841  clct[20, 20] ans[20, 20] cl_acc 1.000 2.389sec\n"
     ]
    },
    {
     "name": "stdout",
     "output_type": "stream",
     "text": [
      "Epoch 390 tr: l 0.366 a 0.911  clct[32, 28] ans[32, 28] lr 0.004962 cl_acc 1.000 43.605sec(train) 3.700sec(infer)\n"
     ]
    },
    {
     "name": "stdout",
     "output_type": "stream",
     "text": [
      "Epoch 390 tst: l 0.646 a 0.843  clct[20, 20] ans[20, 20] cl_acc 1.000 2.349sec\n",
      "result written at output/results.pickle\n"
     ]
    },
    {
     "name": "stdout",
     "output_type": "stream",
     "text": [
      "Epoch 391 tr: l 0.351 a 0.918  clct[28, 32] ans[28, 32] lr 0.004912 cl_acc 1.000 43.579sec(train) 3.781sec(infer)\n"
     ]
    },
    {
     "name": "stdout",
     "output_type": "stream",
     "text": [
      "Epoch 391 tst: l 0.645 a 0.843  clct[20, 20] ans[20, 20] cl_acc 1.000 2.297sec\n"
     ]
    },
    {
     "name": "stdout",
     "output_type": "stream",
     "text": [
      "Epoch 392 tr: l 0.382 a 0.909  clct[28, 32] ans[28, 32] lr 0.004863 cl_acc 1.000 43.796sec(train) 3.756sec(infer)\n"
     ]
    },
    {
     "name": "stdout",
     "output_type": "stream",
     "text": [
      "Epoch 392 tst: l 0.661 a 0.841  clct[20, 20] ans[20, 20] cl_acc 1.000 2.366sec\n"
     ]
    },
    {
     "name": "stdout",
     "output_type": "stream",
     "text": [
      "Epoch 393 tr: l 0.356 a 0.916  clct[21, 39] ans[21, 39] lr 0.004815 cl_acc 1.000 43.870sec(train) 3.767sec(infer)\n"
     ]
    },
    {
     "name": "stdout",
     "output_type": "stream",
     "text": [
      "Epoch 393 tst: l 0.663 a 0.842  clct[20, 20] ans[20, 20] cl_acc 1.000 2.420sec\n"
     ]
    },
    {
     "name": "stdout",
     "output_type": "stream",
     "text": [
      "Epoch 394 tr: l 0.355 a 0.916  clct[33, 27] ans[33, 27] lr 0.004767 cl_acc 1.000 43.759sec(train) 3.818sec(infer)\n"
     ]
    },
    {
     "name": "stdout",
     "output_type": "stream",
     "text": [
      "Epoch 394 tst: l 0.677 a 0.835  clct[20, 20] ans[20, 20] cl_acc 1.000 2.399sec\n"
     ]
    },
    {
     "name": "stdout",
     "output_type": "stream",
     "text": [
      "Epoch 395 tr: l 0.369 a 0.913  clct[31, 29] ans[31, 29] lr 0.004719 cl_acc 1.000 43.874sec(train) 3.754sec(infer)\n"
     ]
    },
    {
     "name": "stdout",
     "output_type": "stream",
     "text": [
      "Epoch 395 tst: l 0.661 a 0.841  clct[20, 20] ans[20, 20] cl_acc 1.000 2.359sec\n"
     ]
    },
    {
     "name": "stdout",
     "output_type": "stream",
     "text": [
      "Epoch 396 tr: l 0.344 a 0.921  clct[30, 30] ans[30, 30] lr 0.004672 cl_acc 1.000 43.649sec(train) 3.732sec(infer)\n"
     ]
    },
    {
     "name": "stdout",
     "output_type": "stream",
     "text": [
      "Epoch 396 tst: l 0.637 a 0.844  clct[20, 20] ans[20, 20] cl_acc 1.000 2.406sec\n"
     ]
    },
    {
     "name": "stdout",
     "output_type": "stream",
     "text": [
      "Epoch 397 tr: l 0.375 a 0.908  clct[31, 29] ans[31, 29] lr 0.004625 cl_acc 1.000 43.778sec(train) 3.770sec(infer)\n"
     ]
    },
    {
     "name": "stdout",
     "output_type": "stream",
     "text": [
      "Epoch 397 tst: l 0.664 a 0.841  clct[20, 20] ans[20, 20] cl_acc 1.000 2.371sec\n"
     ]
    },
    {
     "name": "stdout",
     "output_type": "stream",
     "text": [
      "Epoch 398 tr: l 0.346 a 0.919  clct[25, 35] ans[25, 35] lr 0.004579 cl_acc 1.000 43.710sec(train) 3.735sec(infer)\n"
     ]
    },
    {
     "name": "stdout",
     "output_type": "stream",
     "text": [
      "Epoch 398 tst: l 0.649 a 0.841  clct[20, 20] ans[20, 20] cl_acc 1.000 2.360sec\n"
     ]
    },
    {
     "name": "stdout",
     "output_type": "stream",
     "text": [
      "Epoch 399 tr: l 0.343 a 0.920  clct[30, 30] ans[30, 30] lr 0.004533 cl_acc 1.000 43.788sec(train) 3.817sec(infer)\n"
     ]
    },
    {
     "name": "stdout",
     "output_type": "stream",
     "text": [
      "Epoch 399 tst: l 0.651 a 0.843  clct[20, 20] ans[20, 20] cl_acc 1.000 2.364sec\n",
      "result written at output/results.pickle\n",
      "---train cluster Ended in 5.54 hour (19932.678 sec) \n"
     ]
    }
   ],
   "source": [
    "import json\n",
    "import time\n",
    "import torch\n",
    "import numpy as np\n",
    "\n",
    "\n",
    "with open(\"config.json\", \"r\") as read_file:\n",
    "    config = json.load(read_file)\n",
    "\n",
    "for lr in learning_rates:\n",
    "    config['lr'] = lr\n",
    "    res_final = []\n",
    "\n",
    "    for seed in seeds:\n",
    "        print(f\"---------------------------------DFCA-GI, lr: {lr}, seed: {seed}---------------------------------\")\n",
    "        start_time = time.time()\n",
    "        config['data_seed'] = seed\n",
    "        config['train_seed'] = config['data_seed']\n",
    "\n",
    "        print(\"config:\",config)\n",
    "\n",
    "        exp = DFCA.TrainCIFARCluster(config)\n",
    "        exp.setup()\n",
    "        res = exp.run()\n",
    "        res_final.append([[r['test']['loss'] for r in res], [r['test']['acc'] for r in res], [r['test']['cl_acc'] for r in res], [r['train']['loss'] for r in res]])\n",
    "        del exp\n",
    "        duration = (time.time() - start_time)\n",
    "        print(\"---train cluster Ended in %0.2f hour (%.3f sec) \" % (duration/float(3600), duration))\n",
    "\n",
    "    res_mean = np.mean(res_final, axis=0).tolist()\n",
    "    dfca_gi.append(res_mean)\n",
    "\n"
   ]
  },
  {
   "cell_type": "markdown",
   "metadata": {},
   "source": [
    "## Plots"
   ]
  },
  {
   "cell_type": "code",
   "execution_count": 4,
   "metadata": {
    "execution": {
     "iopub.execute_input": "2025-06-02T23:28:38.818006Z",
     "iopub.status.busy": "2025-06-02T23:28:38.817740Z",
     "iopub.status.idle": "2025-06-02T23:28:39.421806Z",
     "shell.execute_reply": "2025-06-02T23:28:39.421142Z"
    }
   },
   "outputs": [
    {
     "data": {
      "image/png": "[encoded data removed]",
      "text/plain": [
       "<Figure size 1000x500 with 1 Axes>"
      ]
     },
     "metadata": {},
     "output_type": "display_data"
    },
    {
     "data": {
      "image/png": "[encoded data removed]",
      "text/plain": [
       "<Figure size 1000x500 with 1 Axes>"
      ]
     },
     "metadata": {},
     "output_type": "display_data"
    },
    {
     "data": {
      "image/png": "[encoded data removed]",
      "text/plain": [
       "<Figure size 1000x500 with 1 Axes>"
      ]
     },
     "metadata": {},
     "output_type": "display_data"
    },
    {
     "data": {
      "image/png": "[encoded data removed]",
      "text/plain": [
       "<Figure size 1000x500 with 1 Axes>"
      ]
     },
     "metadata": {},
     "output_type": "display_data"
    }
   ],
   "source": [
    "\n",
    "r_dfca_gi = {}\n",
    "\n",
    "r_dfca_gi['test_loss'] = []\n",
    "r_dfca_gi['test_acc'] = []\n",
    "r_dfca_gi['cl_acc'] = []\n",
    "r_dfca_gi['train_loss'] = []\n",
    "for i in range(len(learning_rates)):\n",
    "    r_dfca_gi['test_loss'].append(dfca_gi[i][0])\n",
    "    r_dfca_gi['test_acc'].append(dfca_gi[i][1])\n",
    "    r_dfca_gi['cl_acc'].append(dfca_gi[i][2])\n",
    "    r_dfca_gi['train_loss'].append(dfca_gi[i][3])\n",
    "\n",
    "with open('res_dfca.pickle', 'wb') as f:\n",
    "    pickle.dump(r_dfca_gi, f)\n",
    "\n",
    "os.makedirs('graphs', exist_ok=True)\n",
    "\n",
    "for l in range(len(learning_rates)):\n",
    "\n",
    "    plt.figure(figsize=(10,5))\n",
    "    plt.plot(r_dfca_gi['train_loss'][l], label='dfca-gi', color='green')\n",
    "    plt.xlabel('epoch')\n",
    "    plt.ylabel('loss')\n",
    "    plt.title(f'Train Loss per Epoch (lr={learning_rates[l]})')\n",
    "    plt.legend()\n",
    "    plt.savefig(os.path.join('graphs', '3_train_loss.png'))\n",
    "\n",
    "    plt.figure(figsize=(10,5))\n",
    "    plt.plot(r_dfca_gi['test_loss'][l], label='dfca-gi', color='green')\n",
    "    plt.xlabel('epoch')\n",
    "    plt.ylabel('loss')\n",
    "    plt.title(f'Test Loss per Epoch (lr={learning_rates[l]})')\n",
    "    plt.legend()\n",
    "    plt.savefig(os.path.join('graphs', '3_test_loss.png'))\n",
    "\n",
    "    plt.figure(figsize=(10,5))\n",
    "    plt.plot(r_dfca_gi['test_acc'][l], label='dfca-gi', color='green')\n",
    "    plt.xlabel('epoch')\n",
    "    plt.ylabel('test accuracy')\n",
    "    plt.title(f'Test Accuracy per Epoch (lr={learning_rates[l]})')\n",
    "    plt.legend()\n",
    "    plt.savefig(os.path.join('graphs', '3_test_acc.png'))\n",
    "\n",
    "    plt.figure(figsize=(10,5))\n",
    "    plt.plot(r_dfca_gi['cl_acc'][l][:31], label='dfca-gi', color='green')\n",
    "    plt.xlabel('epoch')\n",
    "    plt.ylabel('test accuracy')\n",
    "    plt.title(f'Clustering Accuracy (lr={learning_rates[l]})')\n",
    "    plt.legend()\n",
    "    plt.savefig(os.path.join('graphs', '3_cl_acc.png'))\n",
    "\n"
   ]
  }
 ],
 "metadata": {
  "accelerator": "GPU",
  "colab": {
   "gpuType": "T4",
   "provenance": []
  },
  "kernelspec": {
   "display_name": "dl-new",
   "language": "python",
   "name": "python3"
  },
  "language_info": {
   "codemirror_mode": {
    "name": "ipython",
    "version": 3
   },
   "file_extension": ".py",
   "mimetype": "text/x-python",
   "name": "python",
   "nbconvert_exporter": "python",
   "pygments_lexer": "ipython3",
   "version": "3.11.11"
  }
 },
 "nbformat": 4,
 "nbformat_minor": 4
}
