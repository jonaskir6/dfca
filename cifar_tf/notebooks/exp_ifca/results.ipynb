{
 "cells": [
  {
   "cell_type": "code",
   "execution_count": 1,
   "metadata": {
    "execution": {
     "iopub.execute_input": "2025-06-18T17:51:22.605613Z",
     "iopub.status.busy": "2025-06-18T17:51:22.605380Z",
     "iopub.status.idle": "2025-06-18T17:51:29.072891Z",
     "shell.execute_reply": "2025-06-18T17:51:29.072068Z"
    },
    "id": "OHJWesKs-tqd"
   },
   "outputs": [
    {
     "name": "stderr",
     "output_type": "stream",
     "text": [
      "2025-06-18 19:51:25.626813: E external/local_xla/xla/stream_executor/cuda/cuda_fft.cc:467] Unable to register cuFFT factory: Attempting to register factory for plugin cuFFT when one has already been registered\n",
      "WARNING: All log messages before absl::InitializeLog() is called are written to STDERR\n",
      "E0000 00:00:1750269085.649540  465040 cuda_dnn.cc:8579] Unable to register cuDNN factory: Attempting to register factory for plugin cuDNN when one has already been registered\n",
      "E0000 00:00:1750269085.656473  465040 cuda_blas.cc:1407] Unable to register cuBLAS factory: Attempting to register factory for plugin cuBLAS when one has already been registered\n",
      "W0000 00:00:1750269085.673180  465040 computation_placer.cc:177] computation placer already registered. Please check linkage and avoid linking the same target more than once.\n",
      "W0000 00:00:1750269085.673197  465040 computation_placer.cc:177] computation placer already registered. Please check linkage and avoid linking the same target more than once.\n",
      "W0000 00:00:1750269085.673199  465040 computation_placer.cc:177] computation placer already registered. Please check linkage and avoid linking the same target more than once.\n",
      "W0000 00:00:1750269085.673201  465040 computation_placer.cc:177] computation placer already registered. Please check linkage and avoid linking the same target more than once.\n",
      "2025-06-18 19:51:25.679274: I tensorflow/core/platform/cpu_feature_guard.cc:210] This TensorFlow binary is optimized to use available CPU instructions in performance-critical operations.\n",
      "To enable the following instructions: AVX2 FMA, in other operations, rebuild TensorFlow with the appropriate compiler flags.\n"
     ]
    },
    {
     "name": "stdout",
     "output_type": "stream",
     "text": [
      "WARNING:tensorflow:From /home/kirch/local/python-3.11/lib/python3.11/site-packages/tensorflow/python/compat/v2_compat.py:98: disable_resource_variables (from tensorflow.python.ops.resource_variables_toggle) is deprecated and will be removed in a future version.\n",
      "Instructions for updating:\n",
      "non-resource variables are not supported in the long term\n"
     ]
    }
   ],
   "source": [
    "import json\n",
    "import os\n",
    "import time\n",
    "import ipyparallel as ipp\n",
    "\n",
    "import matplotlib.pyplot as plt\n",
    "import torch\n",
    "import train_cluster_cifar_tf as IFCA\n",
    "import pickle\n",
    "\n",
    "import numpy as np\n",
    "\n",
    "from util import *"
   ]
  },
  {
   "cell_type": "markdown",
   "metadata": {
    "id": "QAghP_o0-tqe"
   },
   "source": [
    "Reads Config file and prepares the arguments you can choose in the config_dfca.json/config_ifca.json"
   ]
  },
  {
   "cell_type": "code",
   "execution_count": 2,
   "metadata": {
    "execution": {
     "iopub.execute_input": "2025-06-18T17:51:29.075665Z",
     "iopub.status.busy": "2025-06-18T17:51:29.075118Z",
     "iopub.status.idle": "2025-06-18T17:51:29.078962Z",
     "shell.execute_reply": "2025-06-18T17:51:29.078338Z"
    }
   },
   "outputs": [],
   "source": [
    "# theoretically irrelevant here because we initialize the model seed randomly (see find_good_initializer())\n",
    "seeds = [11,12,13]\n",
    "learning_rates = [0.25]\n",
    "\n",
    "ifca = []"
   ]
  },
  {
   "cell_type": "markdown",
   "metadata": {
    "id": "7ADsUSUi-tqf"
   },
   "source": [
    "Running the dfca-gi experiment"
   ]
  },
  {
   "cell_type": "code",
   "execution_count": 3,
   "metadata": {
    "colab": {
     "base_uri": "https://localhost:8080/",
     "height": 1000
    },
    "execution": {
     "iopub.execute_input": "2025-06-18T17:51:29.081191Z",
     "iopub.status.busy": "2025-06-18T17:51:29.080729Z",
     "iopub.status.idle": "2025-06-19T05:42:48.567741Z",
     "shell.execute_reply": "2025-06-19T05:42:48.566690Z"
    },
    "id": "T_XDv25r-tqf",
    "outputId": "9c8f4300-c792-4e49-be40-c694fa066e6f"
   },
   "outputs": [
    {
     "name": "stdout",
     "output_type": "stream",
     "text": [
      "---------------------------------IFCA, lr: 0.25, seed: 11---------------------------------\n",
      "config: {'m': 200, 'm_test': 40, 'p': 2, 'n': 500, 'participation_rate': 0.5, 'num_epochs': 600, 'batch_size': 50, 'tau': 5, 'lr': 0.25, 'data_seed': 11, 'train_seed': 11, 'project_dir': 'output'}\n"
     ]
    },
    {
     "name": "stdout",
     "output_type": "stream",
     "text": [
      "WARNING:tensorflow:From /home/kirch/repos/dfca/cifar_tf/notebooks/exp_ifca/cifar10.py:143: calling TruncatedNormal.__init__ (from tensorflow.python.ops.init_ops) with dtype is deprecated and will be removed in a future version.\n",
      "Instructions for updating:\n",
      "Call initializer instance with the dtype argument instead of passing it to the constructor\n"
     ]
    },
    {
     "name": "stderr",
     "output_type": "stream",
     "text": [
      "I0000 00:00:1750269097.595388  465040 gpu_device.cc:2019] Created device /job:localhost/replica:0/task:0/device:GPU:0 with 7437 MB memory:  -> device: 0, name: NVIDIA A100-SXM4-40GB, pci bus id: 0000:01:00.0, compute capability: 8.0\n",
      "I0000 00:00:1750269097.600664  465040 gpu_device.cc:2019] Created device /job:localhost/replica:0/task:0/device:GPU:1 with 33986 MB memory:  -> device: 1, name: NVIDIA A100-SXM4-40GB, pci bus id: 0000:41:00.0, compute capability: 8.0\n",
      "I0000 00:00:1750269097.602474  465040 gpu_device.cc:2019] Created device /job:localhost/replica:0/task:0/device:GPU:2 with 37722 MB memory:  -> device: 2, name: NVIDIA A100-SXM4-40GB, pci bus id: 0000:81:00.0, compute capability: 8.0\n",
      "I0000 00:00:1750269097.603990  465040 gpu_device.cc:2019] Created device /job:localhost/replica:0/task:0/device:GPU:3 with 20804 MB memory:  -> device: 3, name: NVIDIA A100-SXM4-40GB, pci bus id: 0000:c1:00.0, compute capability: 8.0\n",
      "WARNING: All log messages before absl::InitializeLog() is called are written to STDERR\n",
      "I0000 00:00:1750269097.646315  465040 mlir_graph_optimization_pass.cc:425] MLIR V1 optimization pass is not enabled\n",
      "2025-06-18 19:51:37.729723: W tensorflow/c/c_api.cc:305] Operation '{name:'softmax_linear/biases/Assign' id:221 op device:{requested: '/device:CPU:0', assigned: ''} def:{{{node softmax_linear/biases/Assign}} = Assign[T=DT_FLOAT, _class=[\"loc:@softmax_linear/biases\"], _has_manual_control_dependencies=true, use_locking=true, validate_shape=true, _device=\"/device:CPU:0\"](softmax_linear/biases, softmax_linear/biases/Initializer/Const)}}' was changed by setting attribute after it was run by a session. This mutation will have no effect, and will trigger an error in the future. Either don't modify nodes after running them or create a new session.\n"
     ]
    },
    {
     "name": "stdout",
     "output_type": "stream",
     "text": [
      "finding good initializer from train data\n"
     ]
    },
    {
     "name": "stderr",
     "output_type": "stream",
     "text": [
      "I0000 00:00:1750269098.649379  465753 cuda_dnn.cc:529] Loaded cuDNN version 90501\n"
     ]
    },
    {
     "name": "stderr",
     "output_type": "stream",
     "text": [
      "2025-06-18 19:51:45.551010: W tensorflow/c/c_api.cc:305] Operation '{name:'softmax_linear/biases/Assign' id:221 op device:{requested: '/device:CPU:0', assigned: ''} def:{{{node softmax_linear/biases/Assign}} = Assign[T=DT_FLOAT, _class=[\"loc:@softmax_linear/biases\"], _has_manual_control_dependencies=true, use_locking=true, validate_shape=true, _device=\"/device:CPU:0\"](softmax_linear/biases, softmax_linear/biases/Initializer/Const)}}' was changed by setting attribute after it was run by a session. This mutation will have no effect, and will trigger an error in the future. Either don't modify nodes after running them or create a new session.\n"
     ]
    },
    {
     "name": "stderr",
     "output_type": "stream",
     "text": [
      "2025-06-18 19:51:49.673639: W tensorflow/c/c_api.cc:305] Operation '{name:'softmax_linear/biases/Assign' id:221 op device:{requested: '/device:CPU:0', assigned: ''} def:{{{node softmax_linear/biases/Assign}} = Assign[T=DT_FLOAT, _class=[\"loc:@softmax_linear/biases\"], _has_manual_control_dependencies=true, use_locking=true, validate_shape=true, _device=\"/device:CPU:0\"](softmax_linear/biases, softmax_linear/biases/Initializer/Const)}}' was changed by setting attribute after it was run by a session. This mutation will have no effect, and will trigger an error in the future. Either don't modify nodes after running them or create a new session.\n"
     ]
    },
    {
     "name": "stderr",
     "output_type": "stream",
     "text": [
      "2025-06-18 19:51:53.580967: W tensorflow/c/c_api.cc:305] Operation '{name:'softmax_linear/biases/Assign' id:221 op device:{requested: '/device:CPU:0', assigned: ''} def:{{{node softmax_linear/biases/Assign}} = Assign[T=DT_FLOAT, _class=[\"loc:@softmax_linear/biases\"], _has_manual_control_dependencies=true, use_locking=true, validate_shape=true, _device=\"/device:CPU:0\"](softmax_linear/biases, softmax_linear/biases/Initializer/Const)}}' was changed by setting attribute after it was run by a session. This mutation will have no effect, and will trigger an error in the future. Either don't modify nodes after running them or create a new session.\n"
     ]
    },
    {
     "name": "stderr",
     "output_type": "stream",
     "text": [
      "2025-06-18 19:51:58.617524: W tensorflow/c/c_api.cc:305] Operation '{name:'softmax_linear/biases/Assign' id:221 op device:{requested: '/device:CPU:0', assigned: ''} def:{{{node softmax_linear/biases/Assign}} = Assign[T=DT_FLOAT, _class=[\"loc:@softmax_linear/biases\"], _has_manual_control_dependencies=true, use_locking=true, validate_shape=true, _device=\"/device:CPU:0\"](softmax_linear/biases, softmax_linear/biases/Initializer/Const)}}' was changed by setting attribute after it was run by a session. This mutation will have no effect, and will trigger an error in the future. Either don't modify nodes after running them or create a new session.\n"
     ]
    },
    {
     "name": "stderr",
     "output_type": "stream",
     "text": [
      "2025-06-18 19:52:04.543575: W tensorflow/c/c_api.cc:305] Operation '{name:'softmax_linear/biases/Assign' id:221 op device:{requested: '/device:CPU:0', assigned: ''} def:{{{node softmax_linear/biases/Assign}} = Assign[T=DT_FLOAT, _class=[\"loc:@softmax_linear/biases\"], _has_manual_control_dependencies=true, use_locking=true, validate_shape=true, _device=\"/device:CPU:0\"](softmax_linear/biases, softmax_linear/biases/Initializer/Const)}}' was changed by setting attribute after it was run by a session. This mutation will have no effect, and will trigger an error in the future. Either don't modify nodes after running them or create a new session.\n"
     ]
    },
    {
     "name": "stderr",
     "output_type": "stream",
     "text": [
      "2025-06-18 19:52:08.721556: W tensorflow/c/c_api.cc:305] Operation '{name:'softmax_linear/biases/Assign' id:221 op device:{requested: '/device:CPU:0', assigned: ''} def:{{{node softmax_linear/biases/Assign}} = Assign[T=DT_FLOAT, _class=[\"loc:@softmax_linear/biases\"], _has_manual_control_dependencies=true, use_locking=true, validate_shape=true, _device=\"/device:CPU:0\"](softmax_linear/biases, softmax_linear/biases/Initializer/Const)}}' was changed by setting attribute after it was run by a session. This mutation will have no effect, and will trigger an error in the future. Either don't modify nodes after running them or create a new session.\n"
     ]
    },
    {
     "name": "stderr",
     "output_type": "stream",
     "text": [
      "2025-06-18 19:52:12.675167: W tensorflow/c/c_api.cc:305] Operation '{name:'softmax_linear/biases/Assign' id:221 op device:{requested: '/device:CPU:0', assigned: ''} def:{{{node softmax_linear/biases/Assign}} = Assign[T=DT_FLOAT, _class=[\"loc:@softmax_linear/biases\"], _has_manual_control_dependencies=true, use_locking=true, validate_shape=true, _device=\"/device:CPU:0\"](softmax_linear/biases, softmax_linear/biases/Initializer/Const)}}' was changed by setting attribute after it was run by a session. This mutation will have no effect, and will trigger an error in the future. Either don't modify nodes after running them or create a new session.\n"
     ]
    },
    {
     "name": "stderr",
     "output_type": "stream",
     "text": [
      "2025-06-18 19:52:17.182958: W tensorflow/c/c_api.cc:305] Operation '{name:'softmax_linear/biases/Assign' id:221 op device:{requested: '/device:CPU:0', assigned: ''} def:{{{node softmax_linear/biases/Assign}} = Assign[T=DT_FLOAT, _class=[\"loc:@softmax_linear/biases\"], _has_manual_control_dependencies=true, use_locking=true, validate_shape=true, _device=\"/device:CPU:0\"](softmax_linear/biases, softmax_linear/biases/Initializer/Const)}}' was changed by setting attribute after it was run by a session. This mutation will have no effect, and will trigger an error in the future. Either don't modify nodes after running them or create a new session.\n"
     ]
    },
    {
     "name": "stdout",
     "output_type": "stream",
     "text": [
      "found good initializer\n"
     ]
    },
    {
     "name": "stdout",
     "output_type": "stream",
     "text": [
      "Epoch 0 tr: l 4.422 a 0.155  clct[np.int64(16), np.int64(84)] ans[np.int64(55), np.int64(45)] lr 0.250000 cl_acc 0.610000 56.576sec(train) 4.179sec(infer)\n"
     ]
    },
    {
     "name": "stdout",
     "output_type": "stream",
     "text": [
      "Epoch 0 tst: l 4.422 a 0.141  clct[np.int64(0), np.int64(40)] ans[np.int64(20), np.int64(20)] cl_acc 0.500000 2.010sec\n",
      "result written at output/results.pickle\n"
     ]
    },
    {
     "name": "stdout",
     "output_type": "stream",
     "text": [
      "Epoch 10 tr: l 2.414 a 0.457  clct[np.int64(52), np.int64(48)] ans[np.int64(52), np.int64(48)] lr 0.226096 cl_acc 1.000000 57.303sec(train) 4.182sec(infer)\n"
     ]
    },
    {
     "name": "stdout",
     "output_type": "stream",
     "text": [
      "Epoch 10 tst: l 2.325 a 0.496  clct[np.int64(20), np.int64(20)] ans[np.int64(20), np.int64(20)] cl_acc 1.000000 1.564sec\n",
      "result written at output/results.pickle\n"
     ]
    },
    {
     "name": "stdout",
     "output_type": "stream",
     "text": [
      "Epoch 20 tr: l 1.677 a 0.566  clct[np.int64(49), np.int64(51)] ans[np.int64(49), np.int64(51)] lr 0.204477 cl_acc 1.000000 53.984sec(train) 4.545sec(infer)\n"
     ]
    },
    {
     "name": "stdout",
     "output_type": "stream",
     "text": [
      "Epoch 20 tst: l 1.572 a 0.608  clct[np.int64(20), np.int64(20)] ans[np.int64(20), np.int64(20)] cl_acc 1.000000 1.618sec\n",
      "result written at output/results.pickle\n"
     ]
    },
    {
     "name": "stdout",
     "output_type": "stream",
     "text": [
      "Epoch 30 tr: l 1.327 a 0.635  clct[np.int64(48), np.int64(52)] ans[np.int64(48), np.int64(52)] lr 0.184925 cl_acc 1.000000 64.896sec(train) 5.115sec(infer)\n"
     ]
    },
    {
     "name": "stdout",
     "output_type": "stream",
     "text": [
      "Epoch 30 tst: l 1.223 a 0.675  clct[np.int64(20), np.int64(20)] ans[np.int64(20), np.int64(20)] cl_acc 1.000000 1.714sec\n",
      "result written at output/results.pickle\n"
     ]
    },
    {
     "name": "stdout",
     "output_type": "stream",
     "text": [
      "Epoch 40 tr: l 1.118 a 0.681  clct[np.int64(48), np.int64(52)] ans[np.int64(48), np.int64(52)] lr 0.167243 cl_acc 1.000000 66.783sec(train) 4.133sec(infer)\n"
     ]
    },
    {
     "name": "stdout",
     "output_type": "stream",
     "text": [
      "Epoch 40 tst: l 1.042 a 0.713  clct[np.int64(20), np.int64(20)] ans[np.int64(20), np.int64(20)] cl_acc 1.000000 1.449sec\n",
      "result written at output/results.pickle\n"
     ]
    },
    {
     "name": "stdout",
     "output_type": "stream",
     "text": [
      "Epoch 50 tr: l 1.020 a 0.708  clct[np.int64(47), np.int64(53)] ans[np.int64(47), np.int64(53)] lr 0.151252 cl_acc 1.000000 69.269sec(train) 5.815sec(infer)\n"
     ]
    },
    {
     "name": "stdout",
     "output_type": "stream",
     "text": [
      "Epoch 50 tst: l 0.951 a 0.732  clct[np.int64(20), np.int64(20)] ans[np.int64(20), np.int64(20)] cl_acc 1.000000 2.013sec\n",
      "result written at output/results.pickle\n"
     ]
    },
    {
     "name": "stdout",
     "output_type": "stream",
     "text": [
      "Epoch 60 tr: l 0.944 a 0.726  clct[np.int64(46), np.int64(54)] ans[np.int64(46), np.int64(54)] lr 0.136789 cl_acc 1.000000 61.828sec(train) 4.612sec(infer)\n"
     ]
    },
    {
     "name": "stdout",
     "output_type": "stream",
     "text": [
      "Epoch 60 tst: l 0.893 a 0.746  clct[np.int64(20), np.int64(20)] ans[np.int64(20), np.int64(20)] cl_acc 1.000000 1.511sec\n",
      "result written at output/results.pickle\n"
     ]
    },
    {
     "name": "stdout",
     "output_type": "stream",
     "text": [
      "Epoch 70 tr: l 0.896 a 0.742  clct[np.int64(49), np.int64(51)] ans[np.int64(49), np.int64(51)] lr 0.123710 cl_acc 1.000000 64.626sec(train) 4.730sec(infer)\n"
     ]
    },
    {
     "name": "stdout",
     "output_type": "stream",
     "text": [
      "Epoch 70 tst: l 0.854 a 0.759  clct[np.int64(20), np.int64(20)] ans[np.int64(20), np.int64(20)] cl_acc 1.000000 1.445sec\n",
      "result written at output/results.pickle\n"
     ]
    },
    {
     "name": "stdout",
     "output_type": "stream",
     "text": [
      "Epoch 80 tr: l 0.820 a 0.769  clct[np.int64(51), np.int64(49)] ans[np.int64(51), np.int64(49)] lr 0.111881 cl_acc 1.000000 68.601sec(train) 4.417sec(infer)\n"
     ]
    },
    {
     "name": "stdout",
     "output_type": "stream",
     "text": [
      "Epoch 80 tst: l 0.826 a 0.767  clct[np.int64(20), np.int64(20)] ans[np.int64(20), np.int64(20)] cl_acc 1.000000 1.364sec\n",
      "result written at output/results.pickle\n"
     ]
    },
    {
     "name": "stdout",
     "output_type": "stream",
     "text": [
      "Epoch 90 tr: l 0.807 a 0.771  clct[np.int64(50), np.int64(50)] ans[np.int64(50), np.int64(50)] lr 0.101183 cl_acc 1.000000 68.510sec(train) 4.092sec(infer)\n"
     ]
    },
    {
     "name": "stdout",
     "output_type": "stream",
     "text": [
      "Epoch 90 tst: l 0.803 a 0.776  clct[np.int64(20), np.int64(20)] ans[np.int64(20), np.int64(20)] cl_acc 1.000000 1.827sec\n",
      "result written at output/results.pickle\n"
     ]
    },
    {
     "name": "stdout",
     "output_type": "stream",
     "text": [
      "Epoch 100 tr: l 0.771 a 0.783  clct[np.int64(46), np.int64(54)] ans[np.int64(46), np.int64(54)] lr 0.091508 cl_acc 1.000000 65.654sec(train) 5.125sec(infer)\n"
     ]
    },
    {
     "name": "stdout",
     "output_type": "stream",
     "text": [
      "Epoch 100 tst: l 0.784 a 0.782  clct[np.int64(20), np.int64(20)] ans[np.int64(20), np.int64(20)] cl_acc 1.000000 1.680sec\n",
      "result written at output/results.pickle\n"
     ]
    },
    {
     "name": "stdout",
     "output_type": "stream",
     "text": [
      "Epoch 110 tr: l 0.746 a 0.791  clct[np.int64(48), np.int64(52)] ans[np.int64(48), np.int64(52)] lr 0.082758 cl_acc 1.000000 69.986sec(train) 4.445sec(infer)\n"
     ]
    },
    {
     "name": "stdout",
     "output_type": "stream",
     "text": [
      "Epoch 110 tst: l 0.769 a 0.786  clct[np.int64(20), np.int64(20)] ans[np.int64(20), np.int64(20)] cl_acc 1.000000 1.801sec\n",
      "result written at output/results.pickle\n"
     ]
    },
    {
     "name": "stdout",
     "output_type": "stream",
     "text": [
      "Epoch 120 tr: l 0.728 a 0.797  clct[np.int64(48), np.int64(52)] ans[np.int64(48), np.int64(52)] lr 0.074845 cl_acc 1.000000 63.712sec(train) 4.362sec(infer)\n"
     ]
    },
    {
     "name": "stdout",
     "output_type": "stream",
     "text": [
      "Epoch 120 tst: l 0.754 a 0.790  clct[np.int64(20), np.int64(20)] ans[np.int64(20), np.int64(20)] cl_acc 1.000000 2.095sec\n",
      "result written at output/results.pickle\n"
     ]
    },
    {
     "name": "stdout",
     "output_type": "stream",
     "text": [
      "Epoch 130 tr: l 0.695 a 0.808  clct[np.int64(51), np.int64(49)] ans[np.int64(51), np.int64(49)] lr 0.067689 cl_acc 1.000000 61.146sec(train) 4.547sec(infer)\n"
     ]
    },
    {
     "name": "stdout",
     "output_type": "stream",
     "text": [
      "Epoch 130 tst: l 0.745 a 0.794  clct[np.int64(20), np.int64(20)] ans[np.int64(20), np.int64(20)] cl_acc 1.000000 1.456sec\n",
      "result written at output/results.pickle\n"
     ]
    },
    {
     "name": "stdout",
     "output_type": "stream",
     "text": [
      "Epoch 140 tr: l 0.679 a 0.812  clct[np.int64(49), np.int64(51)] ans[np.int64(49), np.int64(51)] lr 0.061216 cl_acc 1.000000 69.539sec(train) 5.580sec(infer)\n"
     ]
    },
    {
     "name": "stdout",
     "output_type": "stream",
     "text": [
      "Epoch 140 tst: l 0.734 a 0.796  clct[np.int64(20), np.int64(20)] ans[np.int64(20), np.int64(20)] cl_acc 1.000000 1.857sec\n",
      "result written at output/results.pickle\n"
     ]
    },
    {
     "name": "stdout",
     "output_type": "stream",
     "text": [
      "Epoch 150 tr: l 0.662 a 0.817  clct[np.int64(50), np.int64(50)] ans[np.int64(50), np.int64(50)] lr 0.055363 cl_acc 1.000000 67.654sec(train) 4.672sec(infer)\n"
     ]
    },
    {
     "name": "stdout",
     "output_type": "stream",
     "text": [
      "Epoch 150 tst: l 0.725 a 0.799  clct[np.int64(20), np.int64(20)] ans[np.int64(20), np.int64(20)] cl_acc 1.000000 1.586sec\n",
      "result written at output/results.pickle\n"
     ]
    },
    {
     "name": "stdout",
     "output_type": "stream",
     "text": [
      "Epoch 160 tr: l 0.662 a 0.817  clct[np.int64(54), np.int64(46)] ans[np.int64(54), np.int64(46)] lr 0.050069 cl_acc 1.000000 70.894sec(train) 4.154sec(infer)\n"
     ]
    },
    {
     "name": "stdout",
     "output_type": "stream",
     "text": [
      "Epoch 160 tst: l 0.714 a 0.803  clct[np.int64(20), np.int64(20)] ans[np.int64(20), np.int64(20)] cl_acc 1.000000 1.400sec\n",
      "result written at output/results.pickle\n"
     ]
    },
    {
     "name": "stdout",
     "output_type": "stream",
     "text": [
      "Epoch 170 tr: l 0.634 a 0.824  clct[np.int64(56), np.int64(44)] ans[np.int64(56), np.int64(44)] lr 0.045282 cl_acc 1.000000 62.336sec(train) 4.437sec(infer)\n"
     ]
    },
    {
     "name": "stdout",
     "output_type": "stream",
     "text": [
      "Epoch 170 tst: l 0.708 a 0.804  clct[np.int64(20), np.int64(20)] ans[np.int64(20), np.int64(20)] cl_acc 1.000000 2.062sec\n",
      "result written at output/results.pickle\n"
     ]
    },
    {
     "name": "stdout",
     "output_type": "stream",
     "text": [
      "Epoch 180 tr: l 0.607 a 0.832  clct[np.int64(49), np.int64(51)] ans[np.int64(49), np.int64(51)] lr 0.040952 cl_acc 1.000000 60.816sec(train) 4.682sec(infer)\n"
     ]
    },
    {
     "name": "stdout",
     "output_type": "stream",
     "text": [
      "Epoch 180 tst: l 0.704 a 0.807  clct[np.int64(20), np.int64(20)] ans[np.int64(20), np.int64(20)] cl_acc 1.000000 1.599sec\n",
      "result written at output/results.pickle\n"
     ]
    },
    {
     "name": "stdout",
     "output_type": "stream",
     "text": [
      "Epoch 190 tr: l 0.608 a 0.832  clct[np.int64(48), np.int64(52)] ans[np.int64(48), np.int64(52)] lr 0.037036 cl_acc 1.000000 67.627sec(train) 5.264sec(infer)\n"
     ]
    },
    {
     "name": "stdout",
     "output_type": "stream",
     "text": [
      "Epoch 190 tst: l 0.696 a 0.809  clct[np.int64(20), np.int64(20)] ans[np.int64(20), np.int64(20)] cl_acc 1.000000 1.818sec\n",
      "result written at output/results.pickle\n"
     ]
    },
    {
     "name": "stdout",
     "output_type": "stream",
     "text": [
      "Epoch 200 tr: l 0.585 a 0.838  clct[np.int64(52), np.int64(48)] ans[np.int64(52), np.int64(48)] lr 0.033495 cl_acc 1.000000 64.437sec(train) 4.546sec(infer)\n"
     ]
    },
    {
     "name": "stdout",
     "output_type": "stream",
     "text": [
      "Epoch 200 tst: l 0.693 a 0.810  clct[np.int64(20), np.int64(20)] ans[np.int64(20), np.int64(20)] cl_acc 1.000000 1.588sec\n",
      "result written at output/results.pickle\n"
     ]
    },
    {
     "name": "stdout",
     "output_type": "stream",
     "text": [
      "Epoch 210 tr: l 0.551 a 0.850  clct[np.int64(47), np.int64(53)] ans[np.int64(47), np.int64(53)] lr 0.030292 cl_acc 1.000000 68.124sec(train) 4.090sec(infer)\n"
     ]
    },
    {
     "name": "stdout",
     "output_type": "stream",
     "text": [
      "Epoch 210 tst: l 0.689 a 0.811  clct[np.int64(20), np.int64(20)] ans[np.int64(20), np.int64(20)] cl_acc 1.000000 1.655sec\n",
      "result written at output/results.pickle\n"
     ]
    },
    {
     "name": "stdout",
     "output_type": "stream",
     "text": [
      "Epoch 220 tr: l 0.556 a 0.848  clct[np.int64(51), np.int64(49)] ans[np.int64(51), np.int64(49)] lr 0.027396 cl_acc 1.000000 59.960sec(train) 4.953sec(infer)\n"
     ]
    },
    {
     "name": "stdout",
     "output_type": "stream",
     "text": [
      "Epoch 220 tst: l 0.685 a 0.813  clct[np.int64(20), np.int64(20)] ans[np.int64(20), np.int64(20)] cl_acc 1.000000 1.696sec\n",
      "result written at output/results.pickle\n"
     ]
    },
    {
     "name": "stdout",
     "output_type": "stream",
     "text": [
      "Epoch 230 tr: l 0.547 a 0.850  clct[np.int64(48), np.int64(52)] ans[np.int64(48), np.int64(52)] lr 0.024776 cl_acc 1.000000 63.596sec(train) 4.470sec(infer)\n"
     ]
    },
    {
     "name": "stdout",
     "output_type": "stream",
     "text": [
      "Epoch 230 tst: l 0.681 a 0.812  clct[np.int64(20), np.int64(20)] ans[np.int64(20), np.int64(20)] cl_acc 1.000000 1.396sec\n",
      "result written at output/results.pickle\n"
     ]
    },
    {
     "name": "stdout",
     "output_type": "stream",
     "text": [
      "Epoch 240 tr: l 0.539 a 0.853  clct[np.int64(55), np.int64(45)] ans[np.int64(55), np.int64(45)] lr 0.022407 cl_acc 1.000000 64.598sec(train) 5.404sec(infer)\n"
     ]
    },
    {
     "name": "stdout",
     "output_type": "stream",
     "text": [
      "Epoch 240 tst: l 0.677 a 0.813  clct[np.int64(20), np.int64(20)] ans[np.int64(20), np.int64(20)] cl_acc 1.000000 1.749sec\n",
      "result written at output/results.pickle\n"
     ]
    },
    {
     "name": "stdout",
     "output_type": "stream",
     "text": [
      "Epoch 250 tr: l 0.518 a 0.859  clct[np.int64(49), np.int64(51)] ans[np.int64(49), np.int64(51)] lr 0.020265 cl_acc 1.000000 67.433sec(train) 4.851sec(infer)\n"
     ]
    },
    {
     "name": "stdout",
     "output_type": "stream",
     "text": [
      "Epoch 250 tst: l 0.675 a 0.814  clct[np.int64(20), np.int64(20)] ans[np.int64(20), np.int64(20)] cl_acc 1.000000 1.609sec\n",
      "result written at output/results.pickle\n"
     ]
    },
    {
     "name": "stdout",
     "output_type": "stream",
     "text": [
      "Epoch 260 tr: l 0.503 a 0.863  clct[np.int64(50), np.int64(50)] ans[np.int64(50), np.int64(50)] lr 0.018327 cl_acc 1.000000 68.156sec(train) 4.538sec(infer)\n"
     ]
    },
    {
     "name": "stdout",
     "output_type": "stream",
     "text": [
      "Epoch 260 tst: l 0.674 a 0.816  clct[np.int64(20), np.int64(20)] ans[np.int64(20), np.int64(20)] cl_acc 1.000000 1.611sec\n",
      "result written at output/results.pickle\n"
     ]
    },
    {
     "name": "stdout",
     "output_type": "stream",
     "text": [
      "Epoch 270 tr: l 0.493 a 0.866  clct[np.int64(49), np.int64(51)] ans[np.int64(49), np.int64(51)] lr 0.016575 cl_acc 1.000000 60.186sec(train) 4.592sec(infer)\n"
     ]
    },
    {
     "name": "stdout",
     "output_type": "stream",
     "text": [
      "Epoch 270 tst: l 0.674 a 0.816  clct[np.int64(20), np.int64(20)] ans[np.int64(20), np.int64(20)] cl_acc 1.000000 1.564sec\n",
      "result written at output/results.pickle\n"
     ]
    },
    {
     "name": "stdout",
     "output_type": "stream",
     "text": [
      "Epoch 280 tr: l 0.498 a 0.865  clct[np.int64(51), np.int64(49)] ans[np.int64(51), np.int64(49)] lr 0.014990 cl_acc 1.000000 62.231sec(train) 5.068sec(infer)\n"
     ]
    },
    {
     "name": "stdout",
     "output_type": "stream",
     "text": [
      "Epoch 280 tst: l 0.672 a 0.818  clct[np.int64(20), np.int64(20)] ans[np.int64(20), np.int64(20)] cl_acc 1.000000 1.630sec\n",
      "result written at output/results.pickle\n"
     ]
    },
    {
     "name": "stdout",
     "output_type": "stream",
     "text": [
      "Epoch 290 tr: l 0.501 a 0.864  clct[np.int64(48), np.int64(52)] ans[np.int64(48), np.int64(52)] lr 0.013556 cl_acc 1.000000 66.207sec(train) 5.416sec(infer)\n"
     ]
    },
    {
     "name": "stdout",
     "output_type": "stream",
     "text": [
      "Epoch 290 tst: l 0.671 a 0.818  clct[np.int64(20), np.int64(20)] ans[np.int64(20), np.int64(20)] cl_acc 1.000000 1.813sec\n",
      "result written at output/results.pickle\n"
     ]
    },
    {
     "name": "stdout",
     "output_type": "stream",
     "text": [
      "Epoch 300 tr: l 0.480 a 0.871  clct[np.int64(49), np.int64(51)] ans[np.int64(49), np.int64(51)] lr 0.012260 cl_acc 1.000000 67.539sec(train) 4.144sec(infer)\n"
     ]
    },
    {
     "name": "stdout",
     "output_type": "stream",
     "text": [
      "Epoch 300 tst: l 0.669 a 0.819  clct[np.int64(20), np.int64(20)] ans[np.int64(20), np.int64(20)] cl_acc 1.000000 1.316sec\n",
      "result written at output/results.pickle\n"
     ]
    },
    {
     "name": "stdout",
     "output_type": "stream",
     "text": [
      "Epoch 310 tr: l 0.466 a 0.875  clct[np.int64(49), np.int64(51)] ans[np.int64(49), np.int64(51)] lr 0.011088 cl_acc 1.000000 66.675sec(train) 4.601sec(infer)\n"
     ]
    },
    {
     "name": "stdout",
     "output_type": "stream",
     "text": [
      "Epoch 310 tst: l 0.670 a 0.819  clct[np.int64(20), np.int64(20)] ans[np.int64(20), np.int64(20)] cl_acc 1.000000 1.811sec\n",
      "result written at output/results.pickle\n"
     ]
    },
    {
     "name": "stdout",
     "output_type": "stream",
     "text": [
      "Epoch 320 tr: l 0.460 a 0.875  clct[np.int64(50), np.int64(50)] ans[np.int64(50), np.int64(50)] lr 0.010028 cl_acc 1.000000 61.278sec(train) 5.132sec(infer)\n"
     ]
    },
    {
     "name": "stdout",
     "output_type": "stream",
     "text": [
      "Epoch 320 tst: l 0.668 a 0.818  clct[np.int64(20), np.int64(20)] ans[np.int64(20), np.int64(20)] cl_acc 1.000000 1.472sec\n",
      "result written at output/results.pickle\n"
     ]
    },
    {
     "name": "stdout",
     "output_type": "stream",
     "text": [
      "Epoch 330 tr: l 0.469 a 0.873  clct[np.int64(53), np.int64(47)] ans[np.int64(53), np.int64(47)] lr 0.009069 cl_acc 1.000000 61.598sec(train) 4.926sec(infer)\n"
     ]
    },
    {
     "name": "stdout",
     "output_type": "stream",
     "text": [
      "Epoch 330 tst: l 0.669 a 0.818  clct[np.int64(20), np.int64(20)] ans[np.int64(20), np.int64(20)] cl_acc 1.000000 1.417sec\n",
      "result written at output/results.pickle\n"
     ]
    },
    {
     "name": "stdout",
     "output_type": "stream",
     "text": [
      "Epoch 340 tr: l 0.456 a 0.876  clct[np.int64(45), np.int64(55)] ans[np.int64(45), np.int64(55)] lr 0.008202 cl_acc 1.000000 69.601sec(train) 5.202sec(infer)\n"
     ]
    },
    {
     "name": "stdout",
     "output_type": "stream",
     "text": [
      "Epoch 340 tst: l 0.668 a 0.818  clct[np.int64(20), np.int64(20)] ans[np.int64(20), np.int64(20)] cl_acc 1.000000 1.476sec\n",
      "result written at output/results.pickle\n"
     ]
    },
    {
     "name": "stdout",
     "output_type": "stream",
     "text": [
      "Epoch 350 tr: l 0.438 a 0.881  clct[np.int64(54), np.int64(46)] ans[np.int64(54), np.int64(46)] lr 0.007418 cl_acc 1.000000 68.178sec(train) 4.633sec(infer)\n"
     ]
    },
    {
     "name": "stdout",
     "output_type": "stream",
     "text": [
      "Epoch 350 tst: l 0.667 a 0.820  clct[np.int64(20), np.int64(20)] ans[np.int64(20), np.int64(20)] cl_acc 1.000000 1.557sec\n",
      "result written at output/results.pickle\n"
     ]
    },
    {
     "name": "stdout",
     "output_type": "stream",
     "text": [
      "Epoch 360 tr: l 0.432 a 0.883  clct[np.int64(51), np.int64(49)] ans[np.int64(51), np.int64(49)] lr 0.006708 cl_acc 1.000000 64.465sec(train) 4.073sec(infer)\n"
     ]
    },
    {
     "name": "stdout",
     "output_type": "stream",
     "text": [
      "Epoch 360 tst: l 0.667 a 0.820  clct[np.int64(20), np.int64(20)] ans[np.int64(20), np.int64(20)] cl_acc 1.000000 1.590sec\n",
      "result written at output/results.pickle\n"
     ]
    },
    {
     "name": "stdout",
     "output_type": "stream",
     "text": [
      "Epoch 370 tr: l 0.419 a 0.889  clct[np.int64(52), np.int64(48)] ans[np.int64(52), np.int64(48)] lr 0.006067 cl_acc 1.000000 63.447sec(train) 4.862sec(infer)\n"
     ]
    },
    {
     "name": "stdout",
     "output_type": "stream",
     "text": [
      "Epoch 370 tst: l 0.667 a 0.819  clct[np.int64(20), np.int64(20)] ans[np.int64(20), np.int64(20)] cl_acc 1.000000 1.836sec\n",
      "result written at output/results.pickle\n"
     ]
    },
    {
     "name": "stdout",
     "output_type": "stream",
     "text": [
      "Epoch 380 tr: l 0.446 a 0.878  clct[np.int64(55), np.int64(45)] ans[np.int64(55), np.int64(45)] lr 0.005487 cl_acc 1.000000 68.451sec(train) 5.253sec(infer)\n"
     ]
    },
    {
     "name": "stdout",
     "output_type": "stream",
     "text": [
      "Epoch 380 tst: l 0.668 a 0.820  clct[np.int64(20), np.int64(20)] ans[np.int64(20), np.int64(20)] cl_acc 1.000000 1.446sec\n",
      "result written at output/results.pickle\n"
     ]
    },
    {
     "name": "stdout",
     "output_type": "stream",
     "text": [
      "Epoch 390 tr: l 0.418 a 0.890  clct[np.int64(49), np.int64(51)] ans[np.int64(49), np.int64(51)] lr 0.004962 cl_acc 1.000000 65.621sec(train) 4.719sec(infer)\n"
     ]
    },
    {
     "name": "stdout",
     "output_type": "stream",
     "text": [
      "Epoch 390 tst: l 0.667 a 0.821  clct[np.int64(20), np.int64(20)] ans[np.int64(20), np.int64(20)] cl_acc 1.000000 1.626sec\n",
      "result written at output/results.pickle\n"
     ]
    },
    {
     "name": "stdout",
     "output_type": "stream",
     "text": [
      "Epoch 400 tr: l 0.434 a 0.882  clct[np.int64(50), np.int64(50)] ans[np.int64(50), np.int64(50)] lr 0.004488 cl_acc 1.000000 61.100sec(train) 5.251sec(infer)\n"
     ]
    },
    {
     "name": "stdout",
     "output_type": "stream",
     "text": [
      "Epoch 400 tst: l 0.667 a 0.821  clct[np.int64(20), np.int64(20)] ans[np.int64(20), np.int64(20)] cl_acc 1.000000 1.738sec\n",
      "result written at output/results.pickle\n"
     ]
    },
    {
     "name": "stdout",
     "output_type": "stream",
     "text": [
      "Epoch 410 tr: l 0.418 a 0.888  clct[np.int64(48), np.int64(52)] ans[np.int64(48), np.int64(52)] lr 0.004059 cl_acc 1.000000 69.562sec(train) 5.339sec(infer)\n"
     ]
    },
    {
     "name": "stdout",
     "output_type": "stream",
     "text": [
      "Epoch 410 tst: l 0.667 a 0.819  clct[np.int64(20), np.int64(20)] ans[np.int64(20), np.int64(20)] cl_acc 1.000000 1.847sec\n",
      "result written at output/results.pickle\n"
     ]
    },
    {
     "name": "stdout",
     "output_type": "stream",
     "text": [
      "Epoch 420 tr: l 0.400 a 0.895  clct[np.int64(46), np.int64(54)] ans[np.int64(46), np.int64(54)] lr 0.003670 cl_acc 1.000000 72.165sec(train) 4.618sec(infer)\n"
     ]
    },
    {
     "name": "stdout",
     "output_type": "stream",
     "text": [
      "Epoch 420 tst: l 0.668 a 0.821  clct[np.int64(20), np.int64(20)] ans[np.int64(20), np.int64(20)] cl_acc 1.000000 1.484sec\n",
      "result written at output/results.pickle\n"
     ]
    },
    {
     "name": "stdout",
     "output_type": "stream",
     "text": [
      "Epoch 430 tr: l 0.408 a 0.893  clct[np.int64(49), np.int64(51)] ans[np.int64(49), np.int64(51)] lr 0.003320 cl_acc 1.000000 63.003sec(train) 4.218sec(infer)\n"
     ]
    },
    {
     "name": "stdout",
     "output_type": "stream",
     "text": [
      "Epoch 430 tst: l 0.669 a 0.821  clct[np.int64(20), np.int64(20)] ans[np.int64(20), np.int64(20)] cl_acc 1.000000 1.389sec\n",
      "result written at output/results.pickle\n"
     ]
    },
    {
     "name": "stdout",
     "output_type": "stream",
     "text": [
      "Epoch 440 tr: l 0.401 a 0.894  clct[np.int64(41), np.int64(59)] ans[np.int64(41), np.int64(59)] lr 0.003002 cl_acc 1.000000 60.422sec(train) 5.034sec(infer)\n"
     ]
    },
    {
     "name": "stdout",
     "output_type": "stream",
     "text": [
      "Epoch 440 tst: l 0.669 a 0.820  clct[np.int64(20), np.int64(20)] ans[np.int64(20), np.int64(20)] cl_acc 1.000000 1.660sec\n",
      "result written at output/results.pickle\n"
     ]
    },
    {
     "name": "stdout",
     "output_type": "stream",
     "text": [
      "Epoch 450 tr: l 0.391 a 0.898  clct[np.int64(48), np.int64(52)] ans[np.int64(48), np.int64(52)] lr 0.002715 cl_acc 1.000000 66.905sec(train) 5.891sec(infer)\n"
     ]
    },
    {
     "name": "stdout",
     "output_type": "stream",
     "text": [
      "Epoch 450 tst: l 0.668 a 0.820  clct[np.int64(20), np.int64(20)] ans[np.int64(20), np.int64(20)] cl_acc 1.000000 2.081sec\n",
      "result written at output/results.pickle\n"
     ]
    },
    {
     "name": "stdout",
     "output_type": "stream",
     "text": [
      "Epoch 460 tr: l 0.390 a 0.897  clct[np.int64(51), np.int64(49)] ans[np.int64(51), np.int64(49)] lr 0.002455 cl_acc 1.000000 70.329sec(train) 4.366sec(infer)\n"
     ]
    },
    {
     "name": "stdout",
     "output_type": "stream",
     "text": [
      "Epoch 460 tst: l 0.668 a 0.820  clct[np.int64(20), np.int64(20)] ans[np.int64(20), np.int64(20)] cl_acc 1.000000 1.521sec\n",
      "result written at output/results.pickle\n"
     ]
    },
    {
     "name": "stdout",
     "output_type": "stream",
     "text": [
      "Epoch 470 tr: l 0.398 a 0.896  clct[np.int64(47), np.int64(53)] ans[np.int64(47), np.int64(53)] lr 0.002221 cl_acc 1.000000 67.986sec(train) 4.556sec(infer)\n"
     ]
    },
    {
     "name": "stdout",
     "output_type": "stream",
     "text": [
      "Epoch 470 tst: l 0.668 a 0.819  clct[np.int64(20), np.int64(20)] ans[np.int64(20), np.int64(20)] cl_acc 1.000000 1.582sec\n",
      "result written at output/results.pickle\n"
     ]
    },
    {
     "name": "stdout",
     "output_type": "stream",
     "text": [
      "Epoch 480 tr: l 0.421 a 0.886  clct[np.int64(44), np.int64(56)] ans[np.int64(44), np.int64(56)] lr 0.002008 cl_acc 1.000000 63.517sec(train) 4.435sec(infer)\n"
     ]
    },
    {
     "name": "stdout",
     "output_type": "stream",
     "text": [
      "Epoch 480 tst: l 0.668 a 0.821  clct[np.int64(20), np.int64(20)] ans[np.int64(20), np.int64(20)] cl_acc 1.000000 1.537sec\n",
      "result written at output/results.pickle\n"
     ]
    },
    {
     "name": "stdout",
     "output_type": "stream",
     "text": [
      "Epoch 490 tr: l 0.425 a 0.887  clct[np.int64(47), np.int64(53)] ans[np.int64(47), np.int64(53)] lr 0.001816 cl_acc 1.000000 68.420sec(train) 4.945sec(infer)\n"
     ]
    },
    {
     "name": "stdout",
     "output_type": "stream",
     "text": [
      "Epoch 490 tst: l 0.669 a 0.820  clct[np.int64(20), np.int64(20)] ans[np.int64(20), np.int64(20)] cl_acc 1.000000 1.857sec\n",
      "result written at output/results.pickle\n"
     ]
    },
    {
     "name": "stdout",
     "output_type": "stream",
     "text": [
      "Epoch 500 tr: l 0.389 a 0.898  clct[np.int64(47), np.int64(53)] ans[np.int64(47), np.int64(53)] lr 0.001643 cl_acc 1.000000 69.400sec(train) 4.628sec(infer)\n"
     ]
    },
    {
     "name": "stdout",
     "output_type": "stream",
     "text": [
      "Epoch 500 tst: l 0.669 a 0.821  clct[np.int64(20), np.int64(20)] ans[np.int64(20), np.int64(20)] cl_acc 1.000000 1.915sec\n",
      "result written at output/results.pickle\n"
     ]
    },
    {
     "name": "stdout",
     "output_type": "stream",
     "text": [
      "Epoch 510 tr: l 0.396 a 0.894  clct[np.int64(51), np.int64(49)] ans[np.int64(51), np.int64(49)] lr 0.001486 cl_acc 1.000000 62.882sec(train) 3.870sec(infer)\n"
     ]
    },
    {
     "name": "stdout",
     "output_type": "stream",
     "text": [
      "Epoch 510 tst: l 0.669 a 0.820  clct[np.int64(20), np.int64(20)] ans[np.int64(20), np.int64(20)] cl_acc 1.000000 1.419sec\n",
      "result written at output/results.pickle\n"
     ]
    },
    {
     "name": "stdout",
     "output_type": "stream",
     "text": [
      "Epoch 520 tr: l 0.396 a 0.895  clct[np.int64(52), np.int64(48)] ans[np.int64(52), np.int64(48)] lr 0.001344 cl_acc 1.000000 62.053sec(train) 4.484sec(infer)\n"
     ]
    },
    {
     "name": "stdout",
     "output_type": "stream",
     "text": [
      "Epoch 520 tst: l 0.668 a 0.820  clct[np.int64(20), np.int64(20)] ans[np.int64(20), np.int64(20)] cl_acc 1.000000 1.653sec\n",
      "result written at output/results.pickle\n"
     ]
    },
    {
     "name": "stdout",
     "output_type": "stream",
     "text": [
      "Epoch 530 tr: l 0.381 a 0.899  clct[np.int64(53), np.int64(47)] ans[np.int64(53), np.int64(47)] lr 0.001215 cl_acc 1.000000 61.567sec(train) 5.288sec(infer)\n"
     ]
    },
    {
     "name": "stdout",
     "output_type": "stream",
     "text": [
      "Epoch 530 tst: l 0.668 a 0.820  clct[np.int64(20), np.int64(20)] ans[np.int64(20), np.int64(20)] cl_acc 1.000000 1.495sec\n",
      "result written at output/results.pickle\n"
     ]
    },
    {
     "name": "stdout",
     "output_type": "stream",
     "text": [
      "Epoch 540 tr: l 0.377 a 0.901  clct[np.int64(51), np.int64(49)] ans[np.int64(51), np.int64(49)] lr 0.001099 cl_acc 1.000000 64.925sec(train) 5.061sec(infer)\n"
     ]
    },
    {
     "name": "stdout",
     "output_type": "stream",
     "text": [
      "Epoch 540 tst: l 0.669 a 0.820  clct[np.int64(20), np.int64(20)] ans[np.int64(20), np.int64(20)] cl_acc 1.000000 2.105sec\n",
      "result written at output/results.pickle\n"
     ]
    },
    {
     "name": "stdout",
     "output_type": "stream",
     "text": [
      "Epoch 550 tr: l 0.386 a 0.899  clct[np.int64(45), np.int64(55)] ans[np.int64(45), np.int64(55)] lr 0.000994 cl_acc 1.000000 68.127sec(train) 4.651sec(infer)\n"
     ]
    },
    {
     "name": "stdout",
     "output_type": "stream",
     "text": [
      "Epoch 550 tst: l 0.668 a 0.821  clct[np.int64(20), np.int64(20)] ans[np.int64(20), np.int64(20)] cl_acc 1.000000 1.597sec\n",
      "result written at output/results.pickle\n"
     ]
    },
    {
     "name": "stdout",
     "output_type": "stream",
     "text": [
      "Epoch 560 tr: l 0.382 a 0.901  clct[np.int64(47), np.int64(53)] ans[np.int64(47), np.int64(53)] lr 0.000899 cl_acc 1.000000 68.135sec(train) 4.746sec(infer)\n"
     ]
    },
    {
     "name": "stdout",
     "output_type": "stream",
     "text": [
      "Epoch 560 tst: l 0.668 a 0.820  clct[np.int64(20), np.int64(20)] ans[np.int64(20), np.int64(20)] cl_acc 1.000000 1.578sec\n",
      "result written at output/results.pickle\n"
     ]
    },
    {
     "name": "stdout",
     "output_type": "stream",
     "text": [
      "Epoch 570 tr: l 0.385 a 0.900  clct[np.int64(53), np.int64(47)] ans[np.int64(53), np.int64(47)] lr 0.000813 cl_acc 1.000000 64.366sec(train) 4.538sec(infer)\n"
     ]
    },
    {
     "name": "stdout",
     "output_type": "stream",
     "text": [
      "Epoch 570 tst: l 0.668 a 0.820  clct[np.int64(20), np.int64(20)] ans[np.int64(20), np.int64(20)] cl_acc 1.000000 1.337sec\n",
      "result written at output/results.pickle\n"
     ]
    },
    {
     "name": "stdout",
     "output_type": "stream",
     "text": [
      "Epoch 580 tr: l 0.370 a 0.904  clct[np.int64(55), np.int64(45)] ans[np.int64(55), np.int64(45)] lr 0.000735 cl_acc 1.000000 62.356sec(train) 4.631sec(infer)\n"
     ]
    },
    {
     "name": "stdout",
     "output_type": "stream",
     "text": [
      "Epoch 580 tst: l 0.668 a 0.820  clct[np.int64(20), np.int64(20)] ans[np.int64(20), np.int64(20)] cl_acc 1.000000 1.609sec\n",
      "result written at output/results.pickle\n"
     ]
    },
    {
     "name": "stdout",
     "output_type": "stream",
     "text": [
      "Epoch 590 tr: l 0.388 a 0.897  clct[np.int64(47), np.int64(53)] ans[np.int64(47), np.int64(53)] lr 0.000665 cl_acc 1.000000 63.141sec(train) 5.637sec(infer)\n"
     ]
    },
    {
     "name": "stdout",
     "output_type": "stream",
     "text": [
      "Epoch 590 tst: l 0.667 a 0.820  clct[np.int64(20), np.int64(20)] ans[np.int64(20), np.int64(20)] cl_acc 1.000000 2.043sec\n",
      "result written at output/results.pickle\n"
     ]
    },
    {
     "name": "stdout",
     "output_type": "stream",
     "text": [
      "result written at output/results.pickle\n",
      "---train cluster Ended in 11.85 hour (42674.517 sec) \n",
      "---------------------------------IFCA, lr: 0.25, seed: 12---------------------------------\n",
      "config: {'m': 200, 'm_test': 40, 'p': 2, 'n': 500, 'participation_rate': 0.5, 'num_epochs': 600, 'batch_size': 50, 'tau': 5, 'lr': 0.25, 'data_seed': 12, 'train_seed': 12, 'project_dir': 'output'}\n"
     ]
    },
    {
     "ename": "ValueError",
     "evalue": "Variable conv1/weights already exists, disallowed. Did you mean to set reuse=True or reuse=tf.AUTO_REUSE in VarScope? Originally defined at:\n\n  File \"/home/kirch/repos/dfca/cifar_tf/notebooks/exp_ifca/cifar10.py\", line 119, in _variable_on_cpu\n  File \"/home/kirch/repos/dfca/cifar_tf/notebooks/exp_ifca/cifar10.py\", line 140, in _variable_with_weight_decay\n  File \"/home/kirch/repos/dfca/cifar_tf/notebooks/exp_ifca/cifar10.py\", line 220, in inference\n  File \"/home/kirch/repos/dfca/cifar_tf/notebooks/exp_ifca/train_cluster_cifar_tf.py\", line 189, in setup_model\n  File \"/home/kirch/repos/dfca/cifar_tf/notebooks/exp_ifca/train_cluster_cifar_tf.py\", line 81, in setup\n",
     "output_type": "error",
     "traceback": [
      "\u001b[31m---------------------------------------------------------------------------\u001b[39m",
      "\u001b[31mValueError\u001b[39m                                Traceback (most recent call last)",
      "\u001b[36mCell\u001b[39m\u001b[36m \u001b[39m\u001b[32mIn[3]\u001b[39m\u001b[32m, line 23\u001b[39m\n\u001b[32m     20\u001b[39m \u001b[38;5;28mprint\u001b[39m(\u001b[33m\"\u001b[39m\u001b[33mconfig:\u001b[39m\u001b[33m\"\u001b[39m,config)\n\u001b[32m     22\u001b[39m exp = IFCA.TrainCIFARCluster(config)\n\u001b[32m---> \u001b[39m\u001b[32m23\u001b[39m \u001b[43mexp\u001b[49m\u001b[43m.\u001b[49m\u001b[43msetup\u001b[49m\u001b[43m(\u001b[49m\u001b[43m)\u001b[49m\n\u001b[32m     24\u001b[39m res = exp.run()\n\u001b[32m     25\u001b[39m res_final.append([[r[\u001b[33m'\u001b[39m\u001b[33mtest\u001b[39m\u001b[33m'\u001b[39m][\u001b[33m'\u001b[39m\u001b[33mloss\u001b[39m\u001b[33m'\u001b[39m] \u001b[38;5;28;01mfor\u001b[39;00m r \u001b[38;5;129;01min\u001b[39;00m res], [r[\u001b[33m'\u001b[39m\u001b[33mtest\u001b[39m\u001b[33m'\u001b[39m][\u001b[33m'\u001b[39m\u001b[33macc\u001b[39m\u001b[33m'\u001b[39m] \u001b[38;5;28;01mfor\u001b[39;00m r \u001b[38;5;129;01min\u001b[39;00m res], [r[\u001b[33m'\u001b[39m\u001b[33mtest\u001b[39m\u001b[33m'\u001b[39m][\u001b[33m'\u001b[39m\u001b[33mcl_acc\u001b[39m\u001b[33m'\u001b[39m] \u001b[38;5;28;01mfor\u001b[39;00m r \u001b[38;5;129;01min\u001b[39;00m res], [r[\u001b[33m'\u001b[39m\u001b[33mtrain\u001b[39m\u001b[33m'\u001b[39m][\u001b[33m'\u001b[39m\u001b[33mloss\u001b[39m\u001b[33m'\u001b[39m] \u001b[38;5;28;01mfor\u001b[39;00m r \u001b[38;5;129;01min\u001b[39;00m res]])\n",
      "\u001b[36mFile \u001b[39m\u001b[32m~/repos/dfca/cifar_tf/notebooks/exp_ifca/train_cluster_cifar_tf.py:81\u001b[39m, in \u001b[36mTrainCIFARCluster.setup\u001b[39m\u001b[34m(self)\u001b[39m\n\u001b[32m     79\u001b[39m set_random_seed(\u001b[38;5;28mself\u001b[39m.config[\u001b[33m'\u001b[39m\u001b[33mdata_seed\u001b[39m\u001b[33m'\u001b[39m])\n\u001b[32m     80\u001b[39m \u001b[38;5;28mself\u001b[39m.setup_datasets()\n\u001b[32m---> \u001b[39m\u001b[32m81\u001b[39m \u001b[38;5;28;43mself\u001b[39;49m\u001b[43m.\u001b[49m\u001b[43msetup_model\u001b[49m\u001b[43m(\u001b[49m\u001b[43m)\u001b[49m\n\u001b[32m     83\u001b[39m config = tf.ConfigProto()\n\u001b[32m     84\u001b[39m config.gpu_options.allow_growth = \u001b[38;5;28;01mTrue\u001b[39;00m\n",
      "\u001b[36mFile \u001b[39m\u001b[32m~/repos/dfca/cifar_tf/notebooks/exp_ifca/train_cluster_cifar_tf.py:189\u001b[39m, in \u001b[36mTrainCIFARCluster.setup_model\u001b[39m\u001b[34m(self)\u001b[39m\n\u001b[32m    186\u001b[39m \u001b[38;5;28mself\u001b[39m.y_pl = tf.placeholder(tf.int32, shape=(\u001b[38;5;28;01mNone\u001b[39;00m, ), name=\u001b[33m'\u001b[39m\u001b[33moutput_y\u001b[39m\u001b[33m'\u001b[39m)\n\u001b[32m    187\u001b[39m \u001b[38;5;28mself\u001b[39m.lr_pl = tf.placeholder(tf.float32, shape=(), name=\u001b[33m'\u001b[39m\u001b[33mlearning_rate\u001b[39m\u001b[33m'\u001b[39m)\n\u001b[32m--> \u001b[39m\u001b[32m189\u001b[39m \u001b[38;5;28mself\u001b[39m.y_logits = \u001b[43mcifar10\u001b[49m\u001b[43m.\u001b[49m\u001b[43minference\u001b[49m\u001b[43m(\u001b[49m\u001b[38;5;28;43mself\u001b[39;49m\u001b[43m.\u001b[49m\u001b[43mx_pl\u001b[49m\u001b[43m)\u001b[49m \u001b[38;5;66;03m# construct model\u001b[39;00m\n\u001b[32m    190\u001b[39m \u001b[38;5;28mself\u001b[39m.loss = cifar10.loss(\u001b[38;5;28mself\u001b[39m.y_logits, \u001b[38;5;28mself\u001b[39m.y_pl)\n\u001b[32m    192\u001b[39m \u001b[38;5;28mself\u001b[39m.y_pred = tf.cast(tf.argmax(\u001b[38;5;28mself\u001b[39m.y_logits, \u001b[32m1\u001b[39m), tf.int32)\n",
      "\u001b[36mFile \u001b[39m\u001b[32m~/repos/dfca/cifar_tf/notebooks/exp_ifca/cifar10.py:220\u001b[39m, in \u001b[36minference\u001b[39m\u001b[34m(images)\u001b[39m\n\u001b[32m    213\u001b[39m \u001b[38;5;66;03m# We instantiate all variables using tf.get_variable() instead of\u001b[39;00m\n\u001b[32m    214\u001b[39m \u001b[38;5;66;03m# tf.Variable() in order to share variables across multiple GPU training runs.\u001b[39;00m\n\u001b[32m    215\u001b[39m \u001b[38;5;66;03m# If we only ran this model on a single GPU, we could simplify this function\u001b[39;00m\n\u001b[32m    216\u001b[39m \u001b[38;5;66;03m# by replacing all instances of tf.get_variable() with tf.Variable().\u001b[39;00m\n\u001b[32m    217\u001b[39m \u001b[38;5;66;03m#\u001b[39;00m\n\u001b[32m    218\u001b[39m \u001b[38;5;66;03m# conv1\u001b[39;00m\n\u001b[32m    219\u001b[39m \u001b[38;5;28;01mwith\u001b[39;00m tf.variable_scope(\u001b[33m'\u001b[39m\u001b[33mconv1\u001b[39m\u001b[33m'\u001b[39m) \u001b[38;5;28;01mas\u001b[39;00m scope:\n\u001b[32m--> \u001b[39m\u001b[32m220\u001b[39m   kernel = \u001b[43m_variable_with_weight_decay\u001b[49m\u001b[43m(\u001b[49m\u001b[33;43m'\u001b[39;49m\u001b[33;43mweights\u001b[39;49m\u001b[33;43m'\u001b[39;49m\u001b[43m,\u001b[49m\n\u001b[32m    221\u001b[39m \u001b[43m                                       \u001b[49m\u001b[43mshape\u001b[49m\u001b[43m=\u001b[49m\u001b[43m[\u001b[49m\u001b[32;43m5\u001b[39;49m\u001b[43m,\u001b[49m\u001b[43m \u001b[49m\u001b[32;43m5\u001b[39;49m\u001b[43m,\u001b[49m\u001b[43m \u001b[49m\u001b[32;43m3\u001b[39;49m\u001b[43m,\u001b[49m\u001b[43m \u001b[49m\u001b[32;43m64\u001b[39;49m\u001b[43m]\u001b[49m\u001b[43m,\u001b[49m\n\u001b[32m    222\u001b[39m \u001b[43m                                       \u001b[49m\u001b[43mstddev\u001b[49m\u001b[43m=\u001b[49m\u001b[43mstd1\u001b[49m\u001b[43m,\u001b[49m\n\u001b[32m    223\u001b[39m \u001b[43m                                       \u001b[49m\u001b[43mwd\u001b[49m\u001b[43m=\u001b[49m\u001b[32;43m0.0\u001b[39;49m\u001b[43m)\u001b[49m\n\u001b[32m    224\u001b[39m   conv = tf.nn.conv2d(images, kernel, [\u001b[32m1\u001b[39m, \u001b[32m1\u001b[39m, \u001b[32m1\u001b[39m, \u001b[32m1\u001b[39m], padding=\u001b[33m'\u001b[39m\u001b[33mSAME\u001b[39m\u001b[33m'\u001b[39m)\n\u001b[32m    225\u001b[39m   biases = _variable_on_cpu(\u001b[33m'\u001b[39m\u001b[33mbiases\u001b[39m\u001b[33m'\u001b[39m, [\u001b[32m64\u001b[39m], tf.constant_initializer(\u001b[32m0.0\u001b[39m))\n",
      "\u001b[36mFile \u001b[39m\u001b[32m~/repos/dfca/cifar_tf/notebooks/exp_ifca/cifar10.py:140\u001b[39m, in \u001b[36m_variable_with_weight_decay\u001b[39m\u001b[34m(name, shape, stddev, wd)\u001b[39m\n\u001b[32m    124\u001b[39m \u001b[38;5;250m\u001b[39m\u001b[33;03m\"\"\"Helper to create an initialized Variable with weight decay.\u001b[39;00m\n\u001b[32m    125\u001b[39m \n\u001b[32m    126\u001b[39m \u001b[33;03mNote that the Variable is initialized with a truncated normal distribution.\u001b[39;00m\n\u001b[32m   (...)\u001b[39m\u001b[32m    137\u001b[39m \u001b[33;03m  Variable Tensor\u001b[39;00m\n\u001b[32m    138\u001b[39m \u001b[33;03m\"\"\"\u001b[39;00m\n\u001b[32m    139\u001b[39m dtype = tf.float16 \u001b[38;5;28;01mif\u001b[39;00m flags_use_fp16 \u001b[38;5;28;01melse\u001b[39;00m tf.float32\n\u001b[32m--> \u001b[39m\u001b[32m140\u001b[39m var = \u001b[43m_variable_on_cpu\u001b[49m\u001b[43m(\u001b[49m\n\u001b[32m    141\u001b[39m \u001b[43m    \u001b[49m\u001b[43mname\u001b[49m\u001b[43m,\u001b[49m\n\u001b[32m    142\u001b[39m \u001b[43m    \u001b[49m\u001b[43mshape\u001b[49m\u001b[43m,\u001b[49m\n\u001b[32m    143\u001b[39m \u001b[43m    \u001b[49m\u001b[43mtf\u001b[49m\u001b[43m.\u001b[49m\u001b[43mtruncated_normal_initializer\u001b[49m\u001b[43m(\u001b[49m\u001b[43mstddev\u001b[49m\u001b[43m=\u001b[49m\u001b[43mstddev\u001b[49m\u001b[43m,\u001b[49m\u001b[43m \u001b[49m\u001b[43mdtype\u001b[49m\u001b[43m=\u001b[49m\u001b[43mdtype\u001b[49m\u001b[43m)\u001b[49m\u001b[43m)\u001b[49m\n\u001b[32m    144\u001b[39m \u001b[38;5;28;01mif\u001b[39;00m wd \u001b[38;5;129;01mis\u001b[39;00m \u001b[38;5;129;01mnot\u001b[39;00m \u001b[38;5;28;01mNone\u001b[39;00m:\n\u001b[32m    145\u001b[39m   \u001b[38;5;66;03m# weight_decay = tf.mul(tf.nn.l2_loss(var), wd, name='weight_loss')\u001b[39;00m\n\u001b[32m    146\u001b[39m   weight_decay = tf.multiply(tf.nn.l2_loss(var), wd, name=\u001b[33m'\u001b[39m\u001b[33mweight_loss\u001b[39m\u001b[33m'\u001b[39m)\n",
      "\u001b[36mFile \u001b[39m\u001b[32m~/repos/dfca/cifar_tf/notebooks/exp_ifca/cifar10.py:119\u001b[39m, in \u001b[36m_variable_on_cpu\u001b[39m\u001b[34m(name, shape, initializer)\u001b[39m\n\u001b[32m    117\u001b[39m \u001b[38;5;28;01mwith\u001b[39;00m tf.device(\u001b[33m'\u001b[39m\u001b[33m/cpu:0\u001b[39m\u001b[33m'\u001b[39m):\n\u001b[32m    118\u001b[39m   dtype = tf.float16 \u001b[38;5;28;01mif\u001b[39;00m flags_use_fp16 \u001b[38;5;28;01melse\u001b[39;00m tf.float32\n\u001b[32m--> \u001b[39m\u001b[32m119\u001b[39m   var = \u001b[43mtf\u001b[49m\u001b[43m.\u001b[49m\u001b[43mget_variable\u001b[49m\u001b[43m(\u001b[49m\u001b[43mname\u001b[49m\u001b[43m,\u001b[49m\u001b[43m \u001b[49m\u001b[43mshape\u001b[49m\u001b[43m,\u001b[49m\u001b[43m \u001b[49m\u001b[43minitializer\u001b[49m\u001b[43m=\u001b[49m\u001b[43minitializer\u001b[49m\u001b[43m,\u001b[49m\u001b[43m \u001b[49m\u001b[43mdtype\u001b[49m\u001b[43m=\u001b[49m\u001b[43mdtype\u001b[49m\u001b[43m)\u001b[49m\n\u001b[32m    120\u001b[39m \u001b[38;5;28;01mreturn\u001b[39;00m var\n",
      "\u001b[36mFile \u001b[39m\u001b[32m~/local/python-3.11/lib/python3.11/site-packages/tensorflow/python/ops/variable_scope.py:1565\u001b[39m, in \u001b[36mget_variable\u001b[39m\u001b[34m(name, shape, dtype, initializer, regularizer, trainable, collections, caching_device, partitioner, validate_shape, use_resource, custom_getter, constraint, synchronization, aggregation)\u001b[39m\n\u001b[32m   1549\u001b[39m \u001b[38;5;129m@tf_export\u001b[39m(v1=[\u001b[33m\"\u001b[39m\u001b[33mget_variable\u001b[39m\u001b[33m\"\u001b[39m])\n\u001b[32m   1550\u001b[39m \u001b[38;5;28;01mdef\u001b[39;00m\u001b[38;5;250m \u001b[39m\u001b[34mget_variable\u001b[39m(name,\n\u001b[32m   1551\u001b[39m                  shape=\u001b[38;5;28;01mNone\u001b[39;00m,\n\u001b[32m   (...)\u001b[39m\u001b[32m   1563\u001b[39m                  synchronization=VariableSynchronization.AUTO,\n\u001b[32m   1564\u001b[39m                  aggregation=VariableAggregation.NONE):\n\u001b[32m-> \u001b[39m\u001b[32m1565\u001b[39m   \u001b[38;5;28;01mreturn\u001b[39;00m \u001b[43mget_variable_scope\u001b[49m\u001b[43m(\u001b[49m\u001b[43m)\u001b[49m\u001b[43m.\u001b[49m\u001b[43mget_variable\u001b[49m\u001b[43m(\u001b[49m\n\u001b[32m   1566\u001b[39m \u001b[43m      \u001b[49m\u001b[43m_get_default_variable_store\u001b[49m\u001b[43m(\u001b[49m\u001b[43m)\u001b[49m\u001b[43m,\u001b[49m\n\u001b[32m   1567\u001b[39m \u001b[43m      \u001b[49m\u001b[43mname\u001b[49m\u001b[43m,\u001b[49m\n\u001b[32m   1568\u001b[39m \u001b[43m      \u001b[49m\u001b[43mshape\u001b[49m\u001b[43m=\u001b[49m\u001b[43mshape\u001b[49m\u001b[43m,\u001b[49m\n\u001b[32m   1569\u001b[39m \u001b[43m      \u001b[49m\u001b[43mdtype\u001b[49m\u001b[43m=\u001b[49m\u001b[43mdtype\u001b[49m\u001b[43m,\u001b[49m\n\u001b[32m   1570\u001b[39m \u001b[43m      \u001b[49m\u001b[43minitializer\u001b[49m\u001b[43m=\u001b[49m\u001b[43minitializer\u001b[49m\u001b[43m,\u001b[49m\n\u001b[32m   1571\u001b[39m \u001b[43m      \u001b[49m\u001b[43mregularizer\u001b[49m\u001b[43m=\u001b[49m\u001b[43mregularizer\u001b[49m\u001b[43m,\u001b[49m\n\u001b[32m   1572\u001b[39m \u001b[43m      \u001b[49m\u001b[43mtrainable\u001b[49m\u001b[43m=\u001b[49m\u001b[43mtrainable\u001b[49m\u001b[43m,\u001b[49m\n\u001b[32m   1573\u001b[39m \u001b[43m      \u001b[49m\u001b[43mcollections\u001b[49m\u001b[43m=\u001b[49m\u001b[43mcollections\u001b[49m\u001b[43m,\u001b[49m\n\u001b[32m   1574\u001b[39m \u001b[43m      \u001b[49m\u001b[43mcaching_device\u001b[49m\u001b[43m=\u001b[49m\u001b[43mcaching_device\u001b[49m\u001b[43m,\u001b[49m\n\u001b[32m   1575\u001b[39m \u001b[43m      \u001b[49m\u001b[43mpartitioner\u001b[49m\u001b[43m=\u001b[49m\u001b[43mpartitioner\u001b[49m\u001b[43m,\u001b[49m\n\u001b[32m   1576\u001b[39m \u001b[43m      \u001b[49m\u001b[43mvalidate_shape\u001b[49m\u001b[43m=\u001b[49m\u001b[43mvalidate_shape\u001b[49m\u001b[43m,\u001b[49m\n\u001b[32m   1577\u001b[39m \u001b[43m      \u001b[49m\u001b[43muse_resource\u001b[49m\u001b[43m=\u001b[49m\u001b[43muse_resource\u001b[49m\u001b[43m,\u001b[49m\n\u001b[32m   1578\u001b[39m \u001b[43m      \u001b[49m\u001b[43mcustom_getter\u001b[49m\u001b[43m=\u001b[49m\u001b[43mcustom_getter\u001b[49m\u001b[43m,\u001b[49m\n\u001b[32m   1579\u001b[39m \u001b[43m      \u001b[49m\u001b[43mconstraint\u001b[49m\u001b[43m=\u001b[49m\u001b[43mconstraint\u001b[49m\u001b[43m,\u001b[49m\n\u001b[32m   1580\u001b[39m \u001b[43m      \u001b[49m\u001b[43msynchronization\u001b[49m\u001b[43m=\u001b[49m\u001b[43msynchronization\u001b[49m\u001b[43m,\u001b[49m\n\u001b[32m   1581\u001b[39m \u001b[43m      \u001b[49m\u001b[43maggregation\u001b[49m\u001b[43m=\u001b[49m\u001b[43maggregation\u001b[49m\u001b[43m)\u001b[49m\n",
      "\u001b[36mFile \u001b[39m\u001b[32m~/local/python-3.11/lib/python3.11/site-packages/tensorflow/python/ops/variable_scope.py:1275\u001b[39m, in \u001b[36mVariableScope.get_variable\u001b[39m\u001b[34m(self, var_store, name, shape, dtype, initializer, regularizer, reuse, trainable, collections, caching_device, partitioner, validate_shape, use_resource, custom_getter, constraint, synchronization, aggregation)\u001b[39m\n\u001b[32m   1273\u001b[39m \u001b[38;5;28;01mif\u001b[39;00m dtype \u001b[38;5;129;01mis\u001b[39;00m \u001b[38;5;28;01mNone\u001b[39;00m:\n\u001b[32m   1274\u001b[39m   dtype = \u001b[38;5;28mself\u001b[39m._dtype\n\u001b[32m-> \u001b[39m\u001b[32m1275\u001b[39m \u001b[38;5;28;01mreturn\u001b[39;00m \u001b[43mvar_store\u001b[49m\u001b[43m.\u001b[49m\u001b[43mget_variable\u001b[49m\u001b[43m(\u001b[49m\n\u001b[32m   1276\u001b[39m \u001b[43m    \u001b[49m\u001b[43mfull_name\u001b[49m\u001b[43m,\u001b[49m\n\u001b[32m   1277\u001b[39m \u001b[43m    \u001b[49m\u001b[43mshape\u001b[49m\u001b[43m=\u001b[49m\u001b[43mshape\u001b[49m\u001b[43m,\u001b[49m\n\u001b[32m   1278\u001b[39m \u001b[43m    \u001b[49m\u001b[43mdtype\u001b[49m\u001b[43m=\u001b[49m\u001b[43mdtype\u001b[49m\u001b[43m,\u001b[49m\n\u001b[32m   1279\u001b[39m \u001b[43m    \u001b[49m\u001b[43minitializer\u001b[49m\u001b[43m=\u001b[49m\u001b[43minitializer\u001b[49m\u001b[43m,\u001b[49m\n\u001b[32m   1280\u001b[39m \u001b[43m    \u001b[49m\u001b[43mregularizer\u001b[49m\u001b[43m=\u001b[49m\u001b[43mregularizer\u001b[49m\u001b[43m,\u001b[49m\n\u001b[32m   1281\u001b[39m \u001b[43m    \u001b[49m\u001b[43mreuse\u001b[49m\u001b[43m=\u001b[49m\u001b[43mreuse\u001b[49m\u001b[43m,\u001b[49m\n\u001b[32m   1282\u001b[39m \u001b[43m    \u001b[49m\u001b[43mtrainable\u001b[49m\u001b[43m=\u001b[49m\u001b[43mtrainable\u001b[49m\u001b[43m,\u001b[49m\n\u001b[32m   1283\u001b[39m \u001b[43m    \u001b[49m\u001b[43mcollections\u001b[49m\u001b[43m=\u001b[49m\u001b[43mcollections\u001b[49m\u001b[43m,\u001b[49m\n\u001b[32m   1284\u001b[39m \u001b[43m    \u001b[49m\u001b[43mcaching_device\u001b[49m\u001b[43m=\u001b[49m\u001b[43mcaching_device\u001b[49m\u001b[43m,\u001b[49m\n\u001b[32m   1285\u001b[39m \u001b[43m    \u001b[49m\u001b[43mpartitioner\u001b[49m\u001b[43m=\u001b[49m\u001b[43mpartitioner\u001b[49m\u001b[43m,\u001b[49m\n\u001b[32m   1286\u001b[39m \u001b[43m    \u001b[49m\u001b[43mvalidate_shape\u001b[49m\u001b[43m=\u001b[49m\u001b[43mvalidate_shape\u001b[49m\u001b[43m,\u001b[49m\n\u001b[32m   1287\u001b[39m \u001b[43m    \u001b[49m\u001b[43muse_resource\u001b[49m\u001b[43m=\u001b[49m\u001b[43muse_resource\u001b[49m\u001b[43m,\u001b[49m\n\u001b[32m   1288\u001b[39m \u001b[43m    \u001b[49m\u001b[43mcustom_getter\u001b[49m\u001b[43m=\u001b[49m\u001b[43mcustom_getter\u001b[49m\u001b[43m,\u001b[49m\n\u001b[32m   1289\u001b[39m \u001b[43m    \u001b[49m\u001b[43mconstraint\u001b[49m\u001b[43m=\u001b[49m\u001b[43mconstraint\u001b[49m\u001b[43m,\u001b[49m\n\u001b[32m   1290\u001b[39m \u001b[43m    \u001b[49m\u001b[43msynchronization\u001b[49m\u001b[43m=\u001b[49m\u001b[43msynchronization\u001b[49m\u001b[43m,\u001b[49m\n\u001b[32m   1291\u001b[39m \u001b[43m    \u001b[49m\u001b[43maggregation\u001b[49m\u001b[43m=\u001b[49m\u001b[43maggregation\u001b[49m\u001b[43m)\u001b[49m\n",
      "\u001b[36mFile \u001b[39m\u001b[32m~/local/python-3.11/lib/python3.11/site-packages/tensorflow/python/ops/variable_scope.py:520\u001b[39m, in \u001b[36m_VariableStore.get_variable\u001b[39m\u001b[34m(self, name, shape, dtype, initializer, regularizer, reuse, trainable, collections, caching_device, partitioner, validate_shape, use_resource, custom_getter, constraint, synchronization, aggregation)\u001b[39m\n\u001b[32m    518\u001b[39m   \u001b[38;5;28;01mreturn\u001b[39;00m custom_getter(**custom_getter_kwargs)\n\u001b[32m    519\u001b[39m \u001b[38;5;28;01melse\u001b[39;00m:\n\u001b[32m--> \u001b[39m\u001b[32m520\u001b[39m   \u001b[38;5;28;01mreturn\u001b[39;00m \u001b[43m_true_getter\u001b[49m\u001b[43m(\u001b[49m\n\u001b[32m    521\u001b[39m \u001b[43m      \u001b[49m\u001b[43mname\u001b[49m\u001b[43m,\u001b[49m\n\u001b[32m    522\u001b[39m \u001b[43m      \u001b[49m\u001b[43mshape\u001b[49m\u001b[43m=\u001b[49m\u001b[43mshape\u001b[49m\u001b[43m,\u001b[49m\n\u001b[32m    523\u001b[39m \u001b[43m      \u001b[49m\u001b[43mdtype\u001b[49m\u001b[43m=\u001b[49m\u001b[43mdtype\u001b[49m\u001b[43m,\u001b[49m\n\u001b[32m    524\u001b[39m \u001b[43m      \u001b[49m\u001b[43minitializer\u001b[49m\u001b[43m=\u001b[49m\u001b[43minitializer\u001b[49m\u001b[43m,\u001b[49m\n\u001b[32m    525\u001b[39m \u001b[43m      \u001b[49m\u001b[43mregularizer\u001b[49m\u001b[43m=\u001b[49m\u001b[43mregularizer\u001b[49m\u001b[43m,\u001b[49m\n\u001b[32m    526\u001b[39m \u001b[43m      \u001b[49m\u001b[43mreuse\u001b[49m\u001b[43m=\u001b[49m\u001b[43mreuse\u001b[49m\u001b[43m,\u001b[49m\n\u001b[32m    527\u001b[39m \u001b[43m      \u001b[49m\u001b[43mtrainable\u001b[49m\u001b[43m=\u001b[49m\u001b[43mtrainable\u001b[49m\u001b[43m,\u001b[49m\n\u001b[32m    528\u001b[39m \u001b[43m      \u001b[49m\u001b[43mcollections\u001b[49m\u001b[43m=\u001b[49m\u001b[43mcollections\u001b[49m\u001b[43m,\u001b[49m\n\u001b[32m    529\u001b[39m \u001b[43m      \u001b[49m\u001b[43mcaching_device\u001b[49m\u001b[43m=\u001b[49m\u001b[43mcaching_device\u001b[49m\u001b[43m,\u001b[49m\n\u001b[32m    530\u001b[39m \u001b[43m      \u001b[49m\u001b[43mpartitioner\u001b[49m\u001b[43m=\u001b[49m\u001b[43mpartitioner\u001b[49m\u001b[43m,\u001b[49m\n\u001b[32m    531\u001b[39m \u001b[43m      \u001b[49m\u001b[43mvalidate_shape\u001b[49m\u001b[43m=\u001b[49m\u001b[43mvalidate_shape\u001b[49m\u001b[43m,\u001b[49m\n\u001b[32m    532\u001b[39m \u001b[43m      \u001b[49m\u001b[43muse_resource\u001b[49m\u001b[43m=\u001b[49m\u001b[43muse_resource\u001b[49m\u001b[43m,\u001b[49m\n\u001b[32m    533\u001b[39m \u001b[43m      \u001b[49m\u001b[43mconstraint\u001b[49m\u001b[43m=\u001b[49m\u001b[43mconstraint\u001b[49m\u001b[43m,\u001b[49m\n\u001b[32m    534\u001b[39m \u001b[43m      \u001b[49m\u001b[43msynchronization\u001b[49m\u001b[43m=\u001b[49m\u001b[43msynchronization\u001b[49m\u001b[43m,\u001b[49m\n\u001b[32m    535\u001b[39m \u001b[43m      \u001b[49m\u001b[43maggregation\u001b[49m\u001b[43m=\u001b[49m\u001b[43maggregation\u001b[49m\u001b[43m)\u001b[49m\n",
      "\u001b[36mFile \u001b[39m\u001b[32m~/local/python-3.11/lib/python3.11/site-packages/tensorflow/python/ops/variable_scope.py:473\u001b[39m, in \u001b[36m_VariableStore.get_variable.<locals>._true_getter\u001b[39m\u001b[34m(name, shape, dtype, initializer, regularizer, reuse, trainable, collections, caching_device, partitioner, validate_shape, use_resource, constraint, synchronization, aggregation)\u001b[39m\n\u001b[32m    467\u001b[39m \u001b[38;5;28;01mif\u001b[39;00m \u001b[33m\"\u001b[39m\u001b[38;5;132;01m%s\u001b[39;00m\u001b[33m/part_0\u001b[39m\u001b[33m\"\u001b[39m % name \u001b[38;5;129;01min\u001b[39;00m \u001b[38;5;28mself\u001b[39m._vars:\n\u001b[32m    468\u001b[39m   \u001b[38;5;28;01mraise\u001b[39;00m \u001b[38;5;167;01mValueError\u001b[39;00m(\n\u001b[32m    469\u001b[39m       \u001b[33m\"\u001b[39m\u001b[33mNo partitioner was provided, but a partitioned version of the \u001b[39m\u001b[33m\"\u001b[39m\n\u001b[32m    470\u001b[39m       \u001b[33m\"\u001b[39m\u001b[33mvariable was found: \u001b[39m\u001b[38;5;132;01m%s\u001b[39;00m\u001b[33m/part_0. Perhaps a variable of the same \u001b[39m\u001b[33m\"\u001b[39m\n\u001b[32m    471\u001b[39m       \u001b[33m\"\u001b[39m\u001b[33mname was already created with partitioning?\u001b[39m\u001b[33m\"\u001b[39m % name)\n\u001b[32m--> \u001b[39m\u001b[32m473\u001b[39m \u001b[38;5;28;01mreturn\u001b[39;00m \u001b[38;5;28;43mself\u001b[39;49m\u001b[43m.\u001b[49m\u001b[43m_get_single_variable\u001b[49m\u001b[43m(\u001b[49m\n\u001b[32m    474\u001b[39m \u001b[43m    \u001b[49m\u001b[43mname\u001b[49m\u001b[43m=\u001b[49m\u001b[43mname\u001b[49m\u001b[43m,\u001b[49m\n\u001b[32m    475\u001b[39m \u001b[43m    \u001b[49m\u001b[43mshape\u001b[49m\u001b[43m=\u001b[49m\u001b[43mshape\u001b[49m\u001b[43m,\u001b[49m\n\u001b[32m    476\u001b[39m \u001b[43m    \u001b[49m\u001b[43mdtype\u001b[49m\u001b[43m=\u001b[49m\u001b[43mdtype\u001b[49m\u001b[43m,\u001b[49m\n\u001b[32m    477\u001b[39m \u001b[43m    \u001b[49m\u001b[43minitializer\u001b[49m\u001b[43m=\u001b[49m\u001b[43minitializer\u001b[49m\u001b[43m,\u001b[49m\n\u001b[32m    478\u001b[39m \u001b[43m    \u001b[49m\u001b[43mregularizer\u001b[49m\u001b[43m=\u001b[49m\u001b[43mregularizer\u001b[49m\u001b[43m,\u001b[49m\n\u001b[32m    479\u001b[39m \u001b[43m    \u001b[49m\u001b[43mreuse\u001b[49m\u001b[43m=\u001b[49m\u001b[43mreuse\u001b[49m\u001b[43m,\u001b[49m\n\u001b[32m    480\u001b[39m \u001b[43m    \u001b[49m\u001b[43mtrainable\u001b[49m\u001b[43m=\u001b[49m\u001b[43mtrainable\u001b[49m\u001b[43m,\u001b[49m\n\u001b[32m    481\u001b[39m \u001b[43m    \u001b[49m\u001b[43mcollections\u001b[49m\u001b[43m=\u001b[49m\u001b[43mcollections\u001b[49m\u001b[43m,\u001b[49m\n\u001b[32m    482\u001b[39m \u001b[43m    \u001b[49m\u001b[43mcaching_device\u001b[49m\u001b[43m=\u001b[49m\u001b[43mcaching_device\u001b[49m\u001b[43m,\u001b[49m\n\u001b[32m    483\u001b[39m \u001b[43m    \u001b[49m\u001b[43mvalidate_shape\u001b[49m\u001b[43m=\u001b[49m\u001b[43mvalidate_shape\u001b[49m\u001b[43m,\u001b[49m\n\u001b[32m    484\u001b[39m \u001b[43m    \u001b[49m\u001b[43muse_resource\u001b[49m\u001b[43m=\u001b[49m\u001b[43muse_resource\u001b[49m\u001b[43m,\u001b[49m\n\u001b[32m    485\u001b[39m \u001b[43m    \u001b[49m\u001b[43mconstraint\u001b[49m\u001b[43m=\u001b[49m\u001b[43mconstraint\u001b[49m\u001b[43m,\u001b[49m\n\u001b[32m    486\u001b[39m \u001b[43m    \u001b[49m\u001b[43msynchronization\u001b[49m\u001b[43m=\u001b[49m\u001b[43msynchronization\u001b[49m\u001b[43m,\u001b[49m\n\u001b[32m    487\u001b[39m \u001b[43m    \u001b[49m\u001b[43maggregation\u001b[49m\u001b[43m=\u001b[49m\u001b[43maggregation\u001b[49m\u001b[43m)\u001b[49m\n",
      "\u001b[36mFile \u001b[39m\u001b[32m~/local/python-3.11/lib/python3.11/site-packages/tensorflow/python/ops/variable_scope.py:838\u001b[39m, in \u001b[36m_VariableStore._get_single_variable\u001b[39m\u001b[34m(self, name, shape, dtype, initializer, regularizer, partition_info, reuse, trainable, collections, caching_device, validate_shape, use_resource, constraint, synchronization, aggregation)\u001b[39m\n\u001b[32m    833\u001b[39m   \u001b[38;5;66;03m# Throw away internal tf entries and only take a few lines. In some\u001b[39;00m\n\u001b[32m    834\u001b[39m   \u001b[38;5;66;03m# cases the traceback can be longer (e.g. if someone uses factory\u001b[39;00m\n\u001b[32m    835\u001b[39m   \u001b[38;5;66;03m# functions to create variables) so we take more than needed in the\u001b[39;00m\n\u001b[32m    836\u001b[39m   \u001b[38;5;66;03m# default case.\u001b[39;00m\n\u001b[32m    837\u001b[39m   tb = [x \u001b[38;5;28;01mfor\u001b[39;00m x \u001b[38;5;129;01min\u001b[39;00m tb \u001b[38;5;28;01mif\u001b[39;00m \u001b[33m\"\u001b[39m\u001b[33mtensorflow/python\u001b[39m\u001b[33m\"\u001b[39m \u001b[38;5;129;01mnot\u001b[39;00m \u001b[38;5;129;01min\u001b[39;00m x[\u001b[32m0\u001b[39m]][:\u001b[32m5\u001b[39m]\n\u001b[32m--> \u001b[39m\u001b[32m838\u001b[39m   \u001b[38;5;28;01mraise\u001b[39;00m \u001b[38;5;167;01mValueError\u001b[39;00m(\u001b[33m\"\u001b[39m\u001b[38;5;132;01m%s\u001b[39;00m\u001b[33m Originally defined at:\u001b[39m\u001b[38;5;130;01m\\n\u001b[39;00m\u001b[38;5;130;01m\\n\u001b[39;00m\u001b[38;5;132;01m%s\u001b[39;00m\u001b[33m\"\u001b[39m %\n\u001b[32m    839\u001b[39m                    (err_msg, \u001b[33m\"\u001b[39m\u001b[33m\"\u001b[39m.join(traceback.format_list(tb))))\n\u001b[32m    840\u001b[39m found_var = \u001b[38;5;28mself\u001b[39m._vars[name]\n\u001b[32m    841\u001b[39m \u001b[38;5;28;01mif\u001b[39;00m shape \u001b[38;5;129;01mis\u001b[39;00m \u001b[38;5;129;01mnot\u001b[39;00m \u001b[38;5;28;01mNone\u001b[39;00m \u001b[38;5;129;01mand\u001b[39;00m \u001b[38;5;129;01mnot\u001b[39;00m shape.is_compatible_with(\n\u001b[32m    842\u001b[39m     found_var.get_shape()\n\u001b[32m    843\u001b[39m ):\n",
      "\u001b[31mValueError\u001b[39m: Variable conv1/weights already exists, disallowed. Did you mean to set reuse=True or reuse=tf.AUTO_REUSE in VarScope? Originally defined at:\n\n  File \"/home/kirch/repos/dfca/cifar_tf/notebooks/exp_ifca/cifar10.py\", line 119, in _variable_on_cpu\n  File \"/home/kirch/repos/dfca/cifar_tf/notebooks/exp_ifca/cifar10.py\", line 140, in _variable_with_weight_decay\n  File \"/home/kirch/repos/dfca/cifar_tf/notebooks/exp_ifca/cifar10.py\", line 220, in inference\n  File \"/home/kirch/repos/dfca/cifar_tf/notebooks/exp_ifca/train_cluster_cifar_tf.py\", line 189, in setup_model\n  File \"/home/kirch/repos/dfca/cifar_tf/notebooks/exp_ifca/train_cluster_cifar_tf.py\", line 81, in setup\n"
     ]
    }
   ],
   "source": [
    "import json\n",
    "import time\n",
    "import torch\n",
    "import numpy as np\n",
    "\n",
    "\n",
    "with open(\"config.json\", \"r\") as read_file:\n",
    "    config = json.load(read_file)\n",
    "\n",
    "for lr in learning_rates:\n",
    "    config['lr'] = lr\n",
    "    res_final = []\n",
    "\n",
    "    for seed in seeds:\n",
    "        print(f\"---------------------------------IFCA, lr: {lr}, seed: {seed}---------------------------------\")\n",
    "        start_time = time.time()\n",
    "        config['data_seed'] = seed\n",
    "        config['train_seed'] = config['data_seed']\n",
    "\n",
    "        print(\"config:\",config)\n",
    "\n",
    "        exp = IFCA.TrainCIFARCluster(config)\n",
    "        exp.setup()\n",
    "        res = exp.run()\n",
    "        res_final.append([[r['test']['loss'] for r in res], [r['test']['acc'] for r in res], [r['test']['cl_acc'] for r in res], [r['train']['loss'] for r in res]])\n",
    "        del exp\n",
    "        duration = (time.time() - start_time)\n",
    "        print(\"---train cluster Ended in %0.2f hour (%.3f sec) \" % (duration/float(3600), duration))\n",
    "\n",
    "    res_mean = np.mean(res_final, axis=0).tolist()\n",
    "    ifca.append(res_mean)\n",
    "\n"
   ]
  },
  {
   "cell_type": "markdown",
   "metadata": {},
   "source": [
    "## Plots"
   ]
  },
  {
   "cell_type": "code",
   "execution_count": 4,
   "metadata": {
    "execution": {
     "iopub.execute_input": "2025-06-19T05:42:48.570438Z",
     "iopub.status.busy": "2025-06-19T05:42:48.570202Z",
     "iopub.status.idle": "2025-06-19T05:42:48.622973Z",
     "shell.execute_reply": "2025-06-19T05:42:48.622379Z"
    }
   },
   "outputs": [
    {
     "ename": "IndexError",
     "evalue": "list index out of range",
     "output_type": "error",
     "traceback": [
      "\u001b[31m---------------------------------------------------------------------------\u001b[39m",
      "\u001b[31mIndexError\u001b[39m                                Traceback (most recent call last)",
      "\u001b[36mCell\u001b[39m\u001b[36m \u001b[39m\u001b[32mIn[4]\u001b[39m\u001b[32m, line 8\u001b[39m\n\u001b[32m      6\u001b[39m r_ifca[\u001b[33m'\u001b[39m\u001b[33mtrain_loss\u001b[39m\u001b[33m'\u001b[39m] = []\n\u001b[32m      7\u001b[39m \u001b[38;5;28;01mfor\u001b[39;00m i \u001b[38;5;129;01min\u001b[39;00m \u001b[38;5;28mrange\u001b[39m(\u001b[38;5;28mlen\u001b[39m(learning_rates)):\n\u001b[32m----> \u001b[39m\u001b[32m8\u001b[39m     r_ifca[\u001b[33m'\u001b[39m\u001b[33mtest_loss\u001b[39m\u001b[33m'\u001b[39m].append(\u001b[43mifca\u001b[49m\u001b[43m[\u001b[49m\u001b[43mi\u001b[49m\u001b[43m]\u001b[49m[\u001b[32m0\u001b[39m])\n\u001b[32m      9\u001b[39m     r_ifca[\u001b[33m'\u001b[39m\u001b[33mtest_acc\u001b[39m\u001b[33m'\u001b[39m].append(ifca[i][\u001b[32m1\u001b[39m])\n\u001b[32m     10\u001b[39m     r_ifca[\u001b[33m'\u001b[39m\u001b[33mcl_acc\u001b[39m\u001b[33m'\u001b[39m].append(ifca[i][\u001b[32m2\u001b[39m])\n",
      "\u001b[31mIndexError\u001b[39m: list index out of range"
     ]
    }
   ],
   "source": [
    "\n",
    "r_ifca = {}\n",
    "\n",
    "r_ifca['test_loss'] = []\n",
    "r_ifca['test_acc'] = []\n",
    "r_ifca['cl_acc'] = []\n",
    "r_ifca['train_loss'] = []\n",
    "for i in range(len(learning_rates)):\n",
    "    r_ifca['test_loss'].append(ifca[i][0])\n",
    "    r_ifca['test_acc'].append(ifca[i][1])\n",
    "    r_ifca['cl_acc'].append(ifca[i][2])\n",
    "    r_ifca['train_loss'].append(ifca[i][3])\n",
    "\n",
    "with open('res_ifca.pickle', 'wb') as f:\n",
    "    pickle.dump(r_ifca, f)\n",
    "\n",
    "os.makedirs('graphs', exist_ok=True)\n",
    "\n",
    "for l in range(len(learning_rates)):\n",
    "\n",
    "    plt.figure(figsize=(10,5))\n",
    "    plt.plot(r_ifca['train_loss'][l], label='ifca', color='green')\n",
    "    plt.xlabel('epoch')\n",
    "    plt.ylabel('loss')\n",
    "    plt.title(f'Train Loss per Epoch (lr={learning_rates[l]})')\n",
    "    plt.legend()\n",
    "    plt.savefig(os.path.join('graphs', '3_train_loss.png'))\n",
    "\n",
    "    plt.figure(figsize=(10,5))\n",
    "    plt.plot(r_ifca['test_loss'][l], label='ifca', color='green')\n",
    "    plt.xlabel('epoch')\n",
    "    plt.ylabel('loss')\n",
    "    plt.title(f'Test Loss per Epoch (lr={learning_rates[l]})')\n",
    "    plt.legend()\n",
    "    plt.savefig(os.path.join('graphs', '3_test_loss.png'))\n",
    "\n",
    "    plt.figure(figsize=(10,5))\n",
    "    plt.plot(r_ifca['test_acc'][l], label='ifca', color='green')\n",
    "    plt.xlabel('epoch')\n",
    "    plt.ylabel('test accuracy')\n",
    "    plt.title(f'Test Accuracy per Epoch (lr={learning_rates[l]})')\n",
    "    plt.legend()\n",
    "    plt.savefig(os.path.join('graphs', '3_test_acc.png'))\n",
    "\n"
   ]
  }
 ],
 "metadata": {
  "accelerator": "GPU",
  "colab": {
   "gpuType": "T4",
   "provenance": []
  },
  "kernelspec": {
   "display_name": "dl-new",
   "language": "python",
   "name": "python3"
  },
  "language_info": {
   "codemirror_mode": {
    "name": "ipython",
    "version": 3
   },
   "file_extension": ".py",
   "mimetype": "text/x-python",
   "name": "python",
   "nbconvert_exporter": "python",
   "pygments_lexer": "ipython3",
   "version": "3.11.11"
  }
 },
 "nbformat": 4,
 "nbformat_minor": 4
}
