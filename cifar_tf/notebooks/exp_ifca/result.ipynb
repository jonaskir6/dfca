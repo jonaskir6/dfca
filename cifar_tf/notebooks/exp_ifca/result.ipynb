{
 "cells": [
  {
   "cell_type": "code",
   "execution_count": 1,
   "metadata": {
    "execution": {
     "iopub.execute_input": "2025-06-03T11:12:55.201931Z",
     "iopub.status.busy": "2025-06-03T11:12:55.201746Z",
     "iopub.status.idle": "2025-06-03T11:12:59.173107Z",
     "shell.execute_reply": "2025-06-03T11:12:59.172114Z"
    },
    "id": "OHJWesKs-tqd"
   },
   "outputs": [
    {
     "name": "stderr",
     "output_type": "stream",
     "text": [
      "2025-06-03 13:12:57.011812: I tensorflow/core/platform/cpu_feature_guard.cc:210] This TensorFlow binary is optimized to use available CPU instructions in performance-critical operations.\n",
      "To enable the following instructions: SSE4.1 SSE4.2 AVX AVX2 FMA, in other operations, rebuild TensorFlow with the appropriate compiler flags.\n"
     ]
    },
    {
     "name": "stdout",
     "output_type": "stream",
     "text": [
      "WARNING:tensorflow:From /home/rbrinkhege/miniconda3/envs/kirch/lib/python3.11/site-packages/tensorflow/python/compat/v2_compat.py:98: disable_resource_variables (from tensorflow.python.ops.resource_variables_toggle) is deprecated and will be removed in a future version.\n",
      "Instructions for updating:\n",
      "non-resource variables are not supported in the long term\n"
     ]
    }
   ],
   "source": [
    "import json\n",
    "import os\n",
    "import time\n",
    "import ipyparallel as ipp\n",
    "\n",
    "import matplotlib.pyplot as plt\n",
    "import torch\n",
    "import train_cluster_cifar_tf as IFCA\n",
    "import pickle\n",
    "\n",
    "import numpy as np\n",
    "\n",
    "from util import *"
   ]
  },
  {
   "cell_type": "markdown",
   "metadata": {
    "id": "QAghP_o0-tqe"
   },
   "source": [
    "Reads Config file and prepares the arguments you can choose in the config_dfca.json/config_ifca.json"
   ]
  },
  {
   "cell_type": "code",
   "execution_count": null,
   "metadata": {
    "execution": {
     "iopub.execute_input": "2025-06-03T11:12:59.177032Z",
     "iopub.status.busy": "2025-06-03T11:12:59.176408Z",
     "iopub.status.idle": "2025-06-03T11:12:59.181494Z",
     "shell.execute_reply": "2025-06-03T11:12:59.181039Z"
    }
   },
   "outputs": [],
   "source": [
    "# theoretically irrelevant here because we initialize the model seed randomly (see find_good_initializer())\n",
    "seeds = [11,12,13]\n",
    "learning_rates = [0.25]\n",
    "\n",
    "ifca = []"
   ]
  },
  {
   "cell_type": "markdown",
   "metadata": {
    "id": "7ADsUSUi-tqf"
   },
   "source": [
    "Running the dfca-gi experiment"
   ]
  },
  {
   "cell_type": "code",
   "execution_count": 3,
   "metadata": {
    "colab": {
     "base_uri": "https://localhost:8080/",
     "height": 1000
    },
    "execution": {
     "iopub.execute_input": "2025-06-03T11:12:59.182922Z",
     "iopub.status.busy": "2025-06-03T11:12:59.182716Z",
     "iopub.status.idle": "2025-06-03T19:42:36.125734Z",
     "shell.execute_reply": "2025-06-03T19:42:36.125094Z"
    },
    "id": "T_XDv25r-tqf",
    "outputId": "9c8f4300-c792-4e49-be40-c694fa066e6f"
   },
   "outputs": [
    {
     "name": "stdout",
     "output_type": "stream",
     "text": [
      "---------------------------------DFCA-GI, lr: 0.25, seed: 11---------------------------------\n",
      "config: {'m': 200, 'm_test': 40, 'p': 2, 'n': 500, 'participation_rate': 0.3, 'num_epochs': 600, 'batch_size': 50, 'tau': 5, 'lr': 0.25, 'data_seed': 11, 'train_seed': 11, 'project_dir': 'output'}\n"
     ]
    },
    {
     "name": "stdout",
     "output_type": "stream",
     "text": [
      "WARNING:tensorflow:From /home/rbrinkhege/repos/decentralized-ifca/cifar_tf/notebooks/exp_ifca/cifar10.py:143: calling TruncatedNormal.__init__ (from tensorflow.python.ops.init_ops) with dtype is deprecated and will be removed in a future version.\n",
      "Instructions for updating:\n",
      "Call initializer instance with the dtype argument instead of passing it to the constructor\n"
     ]
    },
    {
     "name": "stderr",
     "output_type": "stream",
     "text": [
      "WARNING: All log messages before absl::InitializeLog() is called are written to STDERR\n",
      "I0000 00:00:1748949182.415137 4156489 mlir_graph_optimization_pass.cc:401] MLIR V1 optimization pass is not enabled\n",
      "2025-06-03 13:13:02.464929: W tensorflow/c/c_api.cc:305] Operation '{name:'softmax_linear/biases/Assign' id:221 op device:{requested: '/device:CPU:0', assigned: ''} def:{{{node softmax_linear/biases/Assign}} = Assign[T=DT_FLOAT, _class=[\"loc:@softmax_linear/biases\"], _has_manual_control_dependencies=true, use_locking=true, validate_shape=true, _device=\"/device:CPU:0\"](softmax_linear/biases, softmax_linear/biases/Initializer/Const)}}' was changed by setting attribute after it was run by a session. This mutation will have no effect, and will trigger an error in the future. Either don't modify nodes after running them or create a new session.\n"
     ]
    },
    {
     "name": "stdout",
     "output_type": "stream",
     "text": [
      "finding good initializer from train data\n"
     ]
    },
    {
     "name": "stdout",
     "output_type": "stream",
     "text": [
      "Epoch -1 tr: l 4.677 a 0.114  clct[43, 17] ans[31, 29] cl_acc 0.566667 4.096sec\n"
     ]
    },
    {
     "name": "stderr",
     "output_type": "stream",
     "text": [
      "2025-06-03 13:13:06.588345: W tensorflow/c/c_api.cc:305] Operation '{name:'softmax_linear/biases/Assign' id:221 op device:{requested: '/device:CPU:0', assigned: ''} def:{{{node softmax_linear/biases/Assign}} = Assign[T=DT_FLOAT, _class=[\"loc:@softmax_linear/biases\"], _has_manual_control_dependencies=true, use_locking=true, validate_shape=true, _device=\"/device:CPU:0\"](softmax_linear/biases, softmax_linear/biases/Initializer/Const)}}' was changed by setting attribute after it was run by a session. This mutation will have no effect, and will trigger an error in the future. Either don't modify nodes after running them or create a new session.\n"
     ]
    },
    {
     "name": "stdout",
     "output_type": "stream",
     "text": [
      "Epoch -1 tr: l 4.672 a 0.095  clct[60, 0] ans[33, 27] cl_acc 0.550000 3.982sec\n"
     ]
    },
    {
     "name": "stderr",
     "output_type": "stream",
     "text": [
      "2025-06-03 13:13:10.591765: W tensorflow/c/c_api.cc:305] Operation '{name:'softmax_linear/biases/Assign' id:221 op device:{requested: '/device:CPU:0', assigned: ''} def:{{{node softmax_linear/biases/Assign}} = Assign[T=DT_FLOAT, _class=[\"loc:@softmax_linear/biases\"], _has_manual_control_dependencies=true, use_locking=true, validate_shape=true, _device=\"/device:CPU:0\"](softmax_linear/biases, softmax_linear/biases/Initializer/Const)}}' was changed by setting attribute after it was run by a session. This mutation will have no effect, and will trigger an error in the future. Either don't modify nodes after running them or create a new session.\n"
     ]
    },
    {
     "name": "stdout",
     "output_type": "stream",
     "text": [
      "Epoch -1 tr: l 4.678 a 0.113  clct[37, 23] ans[31, 29] cl_acc 0.700000 4.092sec\n",
      "found good initializer\n"
     ]
    },
    {
     "name": "stdout",
     "output_type": "stream",
     "text": [
      "Epoch -1 tr: l 4.678 a 0.118  clct[36, 24] ans[29, 31] cl_acc 0.550000 3.978sec\n"
     ]
    },
    {
     "name": "stdout",
     "output_type": "stream",
     "text": [
      "Epoch -1 tst: l 4.678 a 0.116  clct[16, 24] ans[20, 20] cl_acc 0.600000 2.406sec\n"
     ]
    },
    {
     "name": "stdout",
     "output_type": "stream",
     "text": [
      "Epoch 0 tr: l 4.407 a 0.190  clct[41, 19] ans[33, 27] lr 0.250000 cl_acc 0.766667 49.693sec(train) 3.957sec(infer)\n"
     ]
    },
    {
     "name": "stdout",
     "output_type": "stream",
     "text": [
      "Epoch 0 tst: l 4.408 a 0.196  clct[31, 9] ans[20, 20] cl_acc 0.725000 2.691sec\n",
      "result written at output/results.pickle\n"
     ]
    },
    {
     "name": "stdout",
     "output_type": "stream",
     "text": [
      "Epoch 1 tr: l 4.062 a 0.246  clct[27, 33] ans[34, 26] lr 0.247500 cl_acc 0.983333 50.384sec(train) 4.074sec(infer)\n"
     ]
    },
    {
     "name": "stdout",
     "output_type": "stream",
     "text": [
      "Epoch 1 tst: l 4.053 a 0.257  clct[20, 20] ans[20, 20] cl_acc 1.000000 2.507sec\n"
     ]
    },
    {
     "name": "stdout",
     "output_type": "stream",
     "text": [
      "Epoch 2 tr: l 3.788 a 0.302  clct[24, 36] ans[36, 24] lr 0.245025 cl_acc 1.000000 50.011sec(train) 4.017sec(infer)\n"
     ]
    },
    {
     "name": "stdout",
     "output_type": "stream",
     "text": [
      "Epoch 2 tst: l 3.761 a 0.319  clct[20, 20] ans[20, 20] cl_acc 1.000000 2.471sec\n"
     ]
    },
    {
     "name": "stdout",
     "output_type": "stream",
     "text": [
      "Epoch 3 tr: l 3.542 a 0.344  clct[30, 30] ans[30, 30] lr 0.242575 cl_acc 1.000000 50.403sec(train) 4.163sec(infer)\n"
     ]
    },
    {
     "name": "stdout",
     "output_type": "stream",
     "text": [
      "Epoch 3 tst: l 3.505 a 0.374  clct[20, 20] ans[20, 20] cl_acc 1.000000 2.525sec\n"
     ]
    },
    {
     "name": "stdout",
     "output_type": "stream",
     "text": [
      "Epoch 4 tr: l 3.303 a 0.359  clct[27, 33] ans[33, 27] lr 0.240149 cl_acc 1.000000 50.334sec(train) 3.994sec(infer)\n"
     ]
    },
    {
     "name": "stdout",
     "output_type": "stream",
     "text": [
      "Epoch 4 tst: l 3.242 a 0.404  clct[20, 20] ans[20, 20] cl_acc 1.000000 2.497sec\n"
     ]
    },
    {
     "name": "stdout",
     "output_type": "stream",
     "text": [
      "Epoch 5 tr: l 3.127 a 0.379  clct[27, 33] ans[33, 27] lr 0.237748 cl_acc 1.000000 50.257sec(train) 4.104sec(infer)\n"
     ]
    },
    {
     "name": "stdout",
     "output_type": "stream",
     "text": [
      "Epoch 5 tst: l 3.048 a 0.423  clct[20, 20] ans[20, 20] cl_acc 1.000000 2.506sec\n"
     ]
    },
    {
     "name": "stdout",
     "output_type": "stream",
     "text": [
      "Epoch 6 tr: l 2.946 a 0.398  clct[25, 35] ans[35, 25] lr 0.235370 cl_acc 1.000000 50.154sec(train) 3.794sec(infer)\n"
     ]
    },
    {
     "name": "stdout",
     "output_type": "stream",
     "text": [
      "Epoch 6 tst: l 2.862 a 0.440  clct[20, 20] ans[20, 20] cl_acc 1.000000 2.476sec\n"
     ]
    },
    {
     "name": "stdout",
     "output_type": "stream",
     "text": [
      "Epoch 7 tr: l 2.801 a 0.412  clct[32, 28] ans[28, 32] lr 0.233016 cl_acc 1.000000 49.851sec(train) 4.073sec(infer)\n"
     ]
    },
    {
     "name": "stdout",
     "output_type": "stream",
     "text": [
      "Epoch 7 tst: l 2.705 a 0.465  clct[20, 20] ans[20, 20] cl_acc 1.000000 2.509sec\n"
     ]
    },
    {
     "name": "stdout",
     "output_type": "stream",
     "text": [
      "Epoch 8 tr: l 2.650 a 0.428  clct[34, 26] ans[26, 34] lr 0.230686 cl_acc 1.000000 51.645sec(train) 4.345sec(infer)\n"
     ]
    },
    {
     "name": "stdout",
     "output_type": "stream",
     "text": [
      "Epoch 8 tst: l 2.557 a 0.476  clct[20, 20] ans[20, 20] cl_acc 1.000000 2.867sec\n"
     ]
    },
    {
     "name": "stdout",
     "output_type": "stream",
     "text": [
      "Epoch 9 tr: l 2.540 a 0.443  clct[26, 34] ans[34, 26] lr 0.228379 cl_acc 1.000000 50.495sec(train) 4.271sec(infer)\n"
     ]
    },
    {
     "name": "stdout",
     "output_type": "stream",
     "text": [
      "Epoch 9 tst: l 2.444 a 0.485  clct[20, 20] ans[20, 20] cl_acc 1.000000 2.854sec\n"
     ]
    },
    {
     "name": "stdout",
     "output_type": "stream",
     "text": [
      "Epoch 10 tr: l 2.415 a 0.462  clct[32, 28] ans[28, 32] lr 0.226096 cl_acc 1.000000 51.420sec(train) 4.493sec(infer)\n"
     ]
    },
    {
     "name": "stdout",
     "output_type": "stream",
     "text": [
      "Epoch 10 tst: l 2.318 a 0.505  clct[20, 20] ans[20, 20] cl_acc 1.000000 2.836sec\n",
      "result written at output/results.pickle\n"
     ]
    },
    {
     "name": "stdout",
     "output_type": "stream",
     "text": [
      "Epoch 11 tr: l 2.307 a 0.476  clct[31, 29] ans[29, 31] lr 0.223835 cl_acc 1.000000 50.039sec(train) 4.333sec(infer)\n"
     ]
    },
    {
     "name": "stdout",
     "output_type": "stream",
     "text": [
      "Epoch 11 tst: l 2.203 a 0.518  clct[20, 20] ans[20, 20] cl_acc 1.000000 2.632sec\n"
     ]
    },
    {
     "name": "stdout",
     "output_type": "stream",
     "text": [
      "Epoch 12 tr: l 2.211 a 0.491  clct[25, 35] ans[35, 25] lr 0.221596 cl_acc 1.000000 50.165sec(train) 4.073sec(infer)\n"
     ]
    },
    {
     "name": "stdout",
     "output_type": "stream",
     "text": [
      "Epoch 12 tst: l 2.126 a 0.532  clct[20, 20] ans[20, 20] cl_acc 1.000000 2.567sec\n"
     ]
    },
    {
     "name": "stdout",
     "output_type": "stream",
     "text": [
      "Epoch 13 tr: l 2.134 a 0.492  clct[29, 31] ans[31, 29] lr 0.219380 cl_acc 1.000000 51.669sec(train) 4.111sec(infer)\n"
     ]
    },
    {
     "name": "stdout",
     "output_type": "stream",
     "text": [
      "Epoch 13 tst: l 2.024 a 0.540  clct[20, 20] ans[20, 20] cl_acc 1.000000 2.416sec\n"
     ]
    },
    {
     "name": "stdout",
     "output_type": "stream",
     "text": [
      "Epoch 14 tr: l 2.042 a 0.514  clct[29, 31] ans[31, 29] lr 0.217186 cl_acc 1.000000 50.485sec(train) 4.363sec(infer)\n"
     ]
    },
    {
     "name": "stdout",
     "output_type": "stream",
     "text": [
      "Epoch 14 tst: l 1.948 a 0.549  clct[20, 20] ans[20, 20] cl_acc 1.000000 2.931sec\n"
     ]
    },
    {
     "name": "stdout",
     "output_type": "stream",
     "text": [
      "Epoch 15 tr: l 1.962 a 0.523  clct[29, 31] ans[31, 29] lr 0.215015 cl_acc 1.000000 50.393sec(train) 4.066sec(infer)\n"
     ]
    },
    {
     "name": "stdout",
     "output_type": "stream",
     "text": [
      "Epoch 15 tst: l 1.868 a 0.567  clct[20, 20] ans[20, 20] cl_acc 1.000000 2.712sec\n"
     ]
    },
    {
     "name": "stdout",
     "output_type": "stream",
     "text": [
      "Epoch 16 tr: l 1.913 a 0.523  clct[27, 33] ans[33, 27] lr 0.212864 cl_acc 1.000000 50.828sec(train) 4.443sec(infer)\n"
     ]
    },
    {
     "name": "stdout",
     "output_type": "stream",
     "text": [
      "Epoch 16 tst: l 1.801 a 0.573  clct[20, 20] ans[20, 20] cl_acc 1.000000 2.705sec\n"
     ]
    },
    {
     "name": "stdout",
     "output_type": "stream",
     "text": [
      "Epoch 17 tr: l 1.852 a 0.536  clct[25, 35] ans[35, 25] lr 0.210736 cl_acc 1.000000 50.334sec(train) 4.194sec(infer)\n"
     ]
    },
    {
     "name": "stdout",
     "output_type": "stream",
     "text": [
      "Epoch 17 tst: l 1.743 a 0.585  clct[20, 20] ans[20, 20] cl_acc 1.000000 2.621sec\n"
     ]
    },
    {
     "name": "stdout",
     "output_type": "stream",
     "text": [
      "Epoch 18 tr: l 1.766 a 0.556  clct[29, 31] ans[31, 29] lr 0.208628 cl_acc 1.000000 50.773sec(train) 4.005sec(infer)\n"
     ]
    },
    {
     "name": "stdout",
     "output_type": "stream",
     "text": [
      "Epoch 18 tst: l 1.682 a 0.591  clct[20, 20] ans[20, 20] cl_acc 1.000000 2.341sec\n"
     ]
    },
    {
     "name": "stdout",
     "output_type": "stream",
     "text": [
      "Epoch 19 tr: l 1.721 a 0.566  clct[29, 31] ans[31, 29] lr 0.206542 cl_acc 1.000000 51.151sec(train) 4.240sec(infer)\n"
     ]
    },
    {
     "name": "stdout",
     "output_type": "stream",
     "text": [
      "Epoch 19 tst: l 1.624 a 0.606  clct[20, 20] ans[20, 20] cl_acc 1.000000 2.620sec\n"
     ]
    },
    {
     "name": "stdout",
     "output_type": "stream",
     "text": [
      "Epoch 20 tr: l 1.683 a 0.568  clct[32, 28] ans[28, 32] lr 0.204477 cl_acc 1.000000 50.400sec(train) 4.099sec(infer)\n"
     ]
    },
    {
     "name": "stdout",
     "output_type": "stream",
     "text": [
      "Epoch 20 tst: l 1.576 a 0.610  clct[20, 20] ans[20, 20] cl_acc 1.000000 2.651sec\n",
      "result written at output/results.pickle\n"
     ]
    },
    {
     "name": "stdout",
     "output_type": "stream",
     "text": [
      "Epoch 21 tr: l 1.629 a 0.573  clct[32, 28] ans[28, 32] lr 0.202432 cl_acc 1.000000 50.381sec(train) 4.019sec(infer)\n"
     ]
    },
    {
     "name": "stdout",
     "output_type": "stream",
     "text": [
      "Epoch 21 tst: l 1.518 a 0.623  clct[20, 20] ans[20, 20] cl_acc 1.000000 2.417sec\n"
     ]
    },
    {
     "name": "stdout",
     "output_type": "stream",
     "text": [
      "Epoch 22 tr: l 1.596 a 0.579  clct[33, 27] ans[27, 33] lr 0.200408 cl_acc 1.000000 50.068sec(train) 4.110sec(infer)\n"
     ]
    },
    {
     "name": "stdout",
     "output_type": "stream",
     "text": [
      "Epoch 22 tst: l 1.479 a 0.626  clct[20, 20] ans[20, 20] cl_acc 1.000000 2.420sec\n"
     ]
    },
    {
     "name": "stdout",
     "output_type": "stream",
     "text": [
      "Epoch 23 tr: l 1.529 a 0.597  clct[35, 25] ans[25, 35] lr 0.198404 cl_acc 1.000000 50.303sec(train) 4.007sec(infer)\n"
     ]
    },
    {
     "name": "stdout",
     "output_type": "stream",
     "text": [
      "Epoch 23 tst: l 1.440 a 0.633  clct[20, 20] ans[20, 20] cl_acc 1.000000 2.454sec\n"
     ]
    },
    {
     "name": "stdout",
     "output_type": "stream",
     "text": [
      "Epoch 24 tr: l 1.502 a 0.599  clct[22, 38] ans[38, 22] lr 0.196420 cl_acc 1.000000 49.959sec(train) 3.974sec(infer)\n"
     ]
    },
    {
     "name": "stdout",
     "output_type": "stream",
     "text": [
      "Epoch 24 tst: l 1.400 a 0.642  clct[20, 20] ans[20, 20] cl_acc 1.000000 2.431sec\n"
     ]
    },
    {
     "name": "stdout",
     "output_type": "stream",
     "text": [
      "Epoch 25 tr: l 1.489 a 0.596  clct[34, 26] ans[26, 34] lr 0.194455 cl_acc 1.000000 50.333sec(train) 4.073sec(infer)\n"
     ]
    },
    {
     "name": "stdout",
     "output_type": "stream",
     "text": [
      "Epoch 25 tst: l 1.367 a 0.648  clct[20, 20] ans[20, 20] cl_acc 1.000000 2.403sec\n"
     ]
    },
    {
     "name": "stdout",
     "output_type": "stream",
     "text": [
      "Epoch 26 tr: l 1.432 a 0.614  clct[37, 23] ans[23, 37] lr 0.192511 cl_acc 1.000000 50.008sec(train) 3.861sec(infer)\n"
     ]
    },
    {
     "name": "stdout",
     "output_type": "stream",
     "text": [
      "Epoch 26 tst: l 1.326 a 0.653  clct[20, 20] ans[20, 20] cl_acc 1.000000 2.510sec\n"
     ]
    },
    {
     "name": "stdout",
     "output_type": "stream",
     "text": [
      "Epoch 27 tr: l 1.397 a 0.623  clct[29, 31] ans[31, 29] lr 0.190586 cl_acc 1.000000 49.934sec(train) 3.906sec(infer)\n"
     ]
    },
    {
     "name": "stdout",
     "output_type": "stream",
     "text": [
      "Epoch 27 tst: l 1.304 a 0.658  clct[20, 20] ans[20, 20] cl_acc 1.000000 2.452sec\n"
     ]
    },
    {
     "name": "stdout",
     "output_type": "stream",
     "text": [
      "Epoch 28 tr: l 1.397 a 0.615  clct[30, 30] ans[30, 30] lr 0.188680 cl_acc 1.000000 50.013sec(train) 4.046sec(infer)\n"
     ]
    },
    {
     "name": "stdout",
     "output_type": "stream",
     "text": [
      "Epoch 28 tst: l 1.274 a 0.663  clct[20, 20] ans[20, 20] cl_acc 1.000000 2.657sec\n"
     ]
    },
    {
     "name": "stdout",
     "output_type": "stream",
     "text": [
      "Epoch 29 tr: l 1.333 a 0.637  clct[28, 32] ans[32, 28] lr 0.186793 cl_acc 1.000000 49.722sec(train) 3.919sec(infer)\n"
     ]
    },
    {
     "name": "stdout",
     "output_type": "stream",
     "text": [
      "Epoch 29 tst: l 1.246 a 0.669  clct[20, 20] ans[20, 20] cl_acc 1.000000 2.524sec\n"
     ]
    },
    {
     "name": "stdout",
     "output_type": "stream",
     "text": [
      "Epoch 30 tr: l 1.314 a 0.637  clct[24, 36] ans[36, 24] lr 0.184925 cl_acc 1.000000 49.765sec(train) 3.696sec(infer)\n"
     ]
    },
    {
     "name": "stdout",
     "output_type": "stream",
     "text": [
      "Epoch 30 tst: l 1.227 a 0.676  clct[20, 20] ans[20, 20] cl_acc 1.000000 2.424sec\n",
      "result written at output/results.pickle\n"
     ]
    },
    {
     "name": "stdout",
     "output_type": "stream",
     "text": [
      "Epoch 31 tr: l 1.316 a 0.633  clct[30, 30] ans[30, 30] lr 0.183076 cl_acc 1.000000 50.454sec(train) 4.014sec(infer)\n"
     ]
    },
    {
     "name": "stdout",
     "output_type": "stream",
     "text": [
      "Epoch 31 tst: l 1.197 a 0.682  clct[20, 20] ans[20, 20] cl_acc 1.000000 2.505sec\n"
     ]
    },
    {
     "name": "stdout",
     "output_type": "stream",
     "text": [
      "Epoch 32 tr: l 1.316 a 0.633  clct[24, 36] ans[36, 24] lr 0.181245 cl_acc 1.000000 50.267sec(train) 4.016sec(infer)\n"
     ]
    },
    {
     "name": "stdout",
     "output_type": "stream",
     "text": [
      "Epoch 32 tst: l 1.181 a 0.682  clct[20, 20] ans[20, 20] cl_acc 1.000000 2.496sec\n"
     ]
    },
    {
     "name": "stdout",
     "output_type": "stream",
     "text": [
      "Epoch 33 tr: l 1.265 a 0.647  clct[29, 31] ans[31, 29] lr 0.179433 cl_acc 1.000000 50.371sec(train) 3.977sec(infer)\n"
     ]
    },
    {
     "name": "stdout",
     "output_type": "stream",
     "text": [
      "Epoch 33 tst: l 1.160 a 0.689  clct[20, 20] ans[20, 20] cl_acc 1.000000 2.609sec\n"
     ]
    },
    {
     "name": "stdout",
     "output_type": "stream",
     "text": [
      "Epoch 34 tr: l 1.234 a 0.654  clct[25, 35] ans[35, 25] lr 0.177638 cl_acc 1.000000 49.786sec(train) 3.991sec(infer)\n"
     ]
    },
    {
     "name": "stdout",
     "output_type": "stream",
     "text": [
      "Epoch 34 tst: l 1.138 a 0.693  clct[20, 20] ans[20, 20] cl_acc 1.000000 2.458sec\n"
     ]
    },
    {
     "name": "stdout",
     "output_type": "stream",
     "text": [
      "Epoch 35 tr: l 1.222 a 0.657  clct[26, 34] ans[34, 26] lr 0.175862 cl_acc 1.000000 49.886sec(train) 4.041sec(infer)\n"
     ]
    },
    {
     "name": "stdout",
     "output_type": "stream",
     "text": [
      "Epoch 35 tst: l 1.121 a 0.695  clct[20, 20] ans[20, 20] cl_acc 1.000000 2.574sec\n"
     ]
    },
    {
     "name": "stdout",
     "output_type": "stream",
     "text": [
      "Epoch 36 tr: l 1.195 a 0.661  clct[30, 30] ans[30, 30] lr 0.174103 cl_acc 1.000000 50.125sec(train) 4.051sec(infer)\n"
     ]
    },
    {
     "name": "stdout",
     "output_type": "stream",
     "text": [
      "Epoch 36 tst: l 1.107 a 0.700  clct[20, 20] ans[20, 20] cl_acc 1.000000 2.659sec\n"
     ]
    },
    {
     "name": "stdout",
     "output_type": "stream",
     "text": [
      "Epoch 37 tr: l 1.182 a 0.667  clct[32, 28] ans[28, 32] lr 0.172362 cl_acc 1.000000 49.712sec(train) 3.908sec(infer)\n"
     ]
    },
    {
     "name": "stdout",
     "output_type": "stream",
     "text": [
      "Epoch 37 tst: l 1.094 a 0.701  clct[20, 20] ans[20, 20] cl_acc 1.000000 2.496sec\n"
     ]
    },
    {
     "name": "stdout",
     "output_type": "stream",
     "text": [
      "Epoch 38 tr: l 1.151 a 0.674  clct[27, 33] ans[33, 27] lr 0.170639 cl_acc 1.000000 50.000sec(train) 4.049sec(infer)\n"
     ]
    },
    {
     "name": "stdout",
     "output_type": "stream",
     "text": [
      "Epoch 38 tst: l 1.074 a 0.706  clct[20, 20] ans[20, 20] cl_acc 1.000000 2.494sec\n"
     ]
    },
    {
     "name": "stdout",
     "output_type": "stream",
     "text": [
      "Epoch 39 tr: l 1.142 a 0.675  clct[27, 33] ans[33, 27] lr 0.168932 cl_acc 1.000000 50.263sec(train) 3.984sec(infer)\n"
     ]
    },
    {
     "name": "stdout",
     "output_type": "stream",
     "text": [
      "Epoch 39 tst: l 1.063 a 0.706  clct[20, 20] ans[20, 20] cl_acc 1.000000 2.474sec\n"
     ]
    },
    {
     "name": "stdout",
     "output_type": "stream",
     "text": [
      "Epoch 40 tr: l 1.140 a 0.677  clct[30, 30] ans[30, 30] lr 0.167243 cl_acc 1.000000 50.425sec(train) 3.894sec(infer)\n"
     ]
    },
    {
     "name": "stdout",
     "output_type": "stream",
     "text": [
      "Epoch 40 tst: l 1.052 a 0.710  clct[20, 20] ans[20, 20] cl_acc 1.000000 2.572sec\n",
      "result written at output/results.pickle\n"
     ]
    },
    {
     "name": "stdout",
     "output_type": "stream",
     "text": [
      "Epoch 41 tr: l 1.138 a 0.675  clct[31, 29] ans[29, 31] lr 0.165571 cl_acc 1.000000 49.914sec(train) 4.048sec(infer)\n"
     ]
    },
    {
     "name": "stdout",
     "output_type": "stream",
     "text": [
      "Epoch 41 tst: l 1.034 a 0.717  clct[20, 20] ans[20, 20] cl_acc 1.000000 2.443sec\n"
     ]
    },
    {
     "name": "stdout",
     "output_type": "stream",
     "text": [
      "Epoch 42 tr: l 1.093 a 0.689  clct[35, 25] ans[25, 35] lr 0.163915 cl_acc 1.000000 50.093sec(train) 4.039sec(infer)\n"
     ]
    },
    {
     "name": "stdout",
     "output_type": "stream",
     "text": [
      "Epoch 42 tst: l 1.029 a 0.716  clct[20, 20] ans[20, 20] cl_acc 1.000000 2.447sec\n"
     ]
    },
    {
     "name": "stdout",
     "output_type": "stream",
     "text": [
      "Epoch 43 tr: l 1.104 a 0.684  clct[31, 29] ans[29, 31] lr 0.162276 cl_acc 1.000000 49.542sec(train) 3.962sec(infer)\n"
     ]
    },
    {
     "name": "stdout",
     "output_type": "stream",
     "text": [
      "Epoch 43 tst: l 1.022 a 0.717  clct[20, 20] ans[20, 20] cl_acc 1.000000 2.277sec\n"
     ]
    },
    {
     "name": "stdout",
     "output_type": "stream",
     "text": [
      "Epoch 44 tr: l 1.072 a 0.693  clct[26, 34] ans[34, 26] lr 0.160653 cl_acc 1.000000 49.422sec(train) 3.821sec(infer)\n"
     ]
    },
    {
     "name": "stdout",
     "output_type": "stream",
     "text": [
      "Epoch 44 tst: l 1.007 a 0.721  clct[20, 20] ans[20, 20] cl_acc 1.000000 2.482sec\n"
     ]
    },
    {
     "name": "stdout",
     "output_type": "stream",
     "text": [
      "Epoch 45 tr: l 1.072 a 0.691  clct[36, 24] ans[24, 36] lr 0.159046 cl_acc 1.000000 49.754sec(train) 4.115sec(infer)\n"
     ]
    },
    {
     "name": "stdout",
     "output_type": "stream",
     "text": [
      "Epoch 45 tst: l 0.997 a 0.721  clct[20, 20] ans[20, 20] cl_acc 1.000000 2.533sec\n"
     ]
    },
    {
     "name": "stdout",
     "output_type": "stream",
     "text": [
      "Epoch 46 tr: l 1.066 a 0.694  clct[35, 25] ans[25, 35] lr 0.157456 cl_acc 1.000000 50.203sec(train) 4.011sec(infer)\n"
     ]
    },
    {
     "name": "stdout",
     "output_type": "stream",
     "text": [
      "Epoch 46 tst: l 0.994 a 0.723  clct[20, 20] ans[20, 20] cl_acc 1.000000 2.507sec\n"
     ]
    },
    {
     "name": "stdout",
     "output_type": "stream",
     "text": [
      "Epoch 47 tr: l 1.063 a 0.699  clct[26, 34] ans[34, 26] lr 0.155881 cl_acc 1.000000 49.742sec(train) 3.981sec(infer)\n"
     ]
    },
    {
     "name": "stdout",
     "output_type": "stream",
     "text": [
      "Epoch 47 tst: l 0.982 a 0.726  clct[20, 20] ans[20, 20] cl_acc 1.000000 2.338sec\n"
     ]
    },
    {
     "name": "stdout",
     "output_type": "stream",
     "text": [
      "Epoch 48 tr: l 1.044 a 0.700  clct[33, 27] ans[27, 33] lr 0.154323 cl_acc 1.000000 49.975sec(train) 4.025sec(infer)\n"
     ]
    },
    {
     "name": "stdout",
     "output_type": "stream",
     "text": [
      "Epoch 48 tst: l 0.977 a 0.728  clct[20, 20] ans[20, 20] cl_acc 1.000000 2.515sec\n"
     ]
    },
    {
     "name": "stdout",
     "output_type": "stream",
     "text": [
      "Epoch 49 tr: l 1.032 a 0.703  clct[29, 31] ans[31, 29] lr 0.152779 cl_acc 1.000000 50.066sec(train) 3.998sec(infer)\n"
     ]
    },
    {
     "name": "stdout",
     "output_type": "stream",
     "text": [
      "Epoch 49 tst: l 0.967 a 0.729  clct[20, 20] ans[20, 20] cl_acc 1.000000 2.507sec\n"
     ]
    },
    {
     "name": "stdout",
     "output_type": "stream",
     "text": [
      "Epoch 50 tr: l 1.014 a 0.708  clct[29, 31] ans[31, 29] lr 0.151252 cl_acc 1.000000 50.022sec(train) 4.007sec(infer)\n"
     ]
    },
    {
     "name": "stdout",
     "output_type": "stream",
     "text": [
      "Epoch 50 tst: l 0.958 a 0.734  clct[20, 20] ans[20, 20] cl_acc 1.000000 2.236sec\n",
      "result written at output/results.pickle\n"
     ]
    },
    {
     "name": "stdout",
     "output_type": "stream",
     "text": [
      "Epoch 51 tr: l 1.010 a 0.713  clct[31, 29] ans[29, 31] lr 0.149739 cl_acc 1.000000 49.867sec(train) 3.960sec(infer)\n"
     ]
    },
    {
     "name": "stdout",
     "output_type": "stream",
     "text": [
      "Epoch 51 tst: l 0.955 a 0.734  clct[20, 20] ans[20, 20] cl_acc 1.000000 2.482sec\n"
     ]
    },
    {
     "name": "stdout",
     "output_type": "stream",
     "text": [
      "Epoch 52 tr: l 1.015 a 0.708  clct[30, 30] ans[30, 30] lr 0.148242 cl_acc 1.000000 50.180sec(train) 3.982sec(infer)\n"
     ]
    },
    {
     "name": "stdout",
     "output_type": "stream",
     "text": [
      "Epoch 52 tst: l 0.949 a 0.732  clct[20, 20] ans[20, 20] cl_acc 1.000000 2.311sec\n"
     ]
    },
    {
     "name": "stdout",
     "output_type": "stream",
     "text": [
      "Epoch 53 tr: l 1.008 a 0.709  clct[26, 34] ans[34, 26] lr 0.146759 cl_acc 1.000000 50.270sec(train) 3.963sec(infer)\n"
     ]
    },
    {
     "name": "stdout",
     "output_type": "stream",
     "text": [
      "Epoch 53 tst: l 0.941 a 0.734  clct[20, 20] ans[20, 20] cl_acc 1.000000 2.440sec\n"
     ]
    },
    {
     "name": "stdout",
     "output_type": "stream",
     "text": [
      "Epoch 54 tr: l 0.988 a 0.717  clct[27, 33] ans[33, 27] lr 0.145292 cl_acc 1.000000 49.646sec(train) 4.003sec(infer)\n"
     ]
    },
    {
     "name": "stdout",
     "output_type": "stream",
     "text": [
      "Epoch 54 tst: l 0.936 a 0.737  clct[20, 20] ans[20, 20] cl_acc 1.000000 2.446sec\n"
     ]
    },
    {
     "name": "stdout",
     "output_type": "stream",
     "text": [
      "Epoch 55 tr: l 0.998 a 0.711  clct[30, 30] ans[30, 30] lr 0.143839 cl_acc 1.000000 50.011sec(train) 3.937sec(infer)\n"
     ]
    },
    {
     "name": "stdout",
     "output_type": "stream",
     "text": [
      "Epoch 55 tst: l 0.929 a 0.739  clct[20, 20] ans[20, 20] cl_acc 1.000000 2.494sec\n"
     ]
    },
    {
     "name": "stdout",
     "output_type": "stream",
     "text": [
      "Epoch 56 tr: l 0.987 a 0.718  clct[27, 33] ans[33, 27] lr 0.142400 cl_acc 1.000000 50.328sec(train) 4.112sec(infer)\n"
     ]
    },
    {
     "name": "stdout",
     "output_type": "stream",
     "text": [
      "Epoch 56 tst: l 0.922 a 0.740  clct[20, 20] ans[20, 20] cl_acc 1.000000 2.627sec\n"
     ]
    },
    {
     "name": "stdout",
     "output_type": "stream",
     "text": [
      "Epoch 57 tr: l 0.992 a 0.715  clct[30, 30] ans[30, 30] lr 0.140976 cl_acc 1.000000 49.201sec(train) 4.035sec(infer)\n"
     ]
    },
    {
     "name": "stdout",
     "output_type": "stream",
     "text": [
      "Epoch 57 tst: l 0.923 a 0.739  clct[20, 20] ans[20, 20] cl_acc 1.000000 2.382sec\n"
     ]
    },
    {
     "name": "stdout",
     "output_type": "stream",
     "text": [
      "Epoch 58 tr: l 0.946 a 0.728  clct[26, 34] ans[34, 26] lr 0.139567 cl_acc 1.000000 49.120sec(train) 3.936sec(infer)\n"
     ]
    },
    {
     "name": "stdout",
     "output_type": "stream",
     "text": [
      "Epoch 58 tst: l 0.915 a 0.742  clct[20, 20] ans[20, 20] cl_acc 1.000000 2.435sec\n"
     ]
    },
    {
     "name": "stdout",
     "output_type": "stream",
     "text": [
      "Epoch 59 tr: l 0.982 a 0.718  clct[32, 28] ans[28, 32] lr 0.138171 cl_acc 1.000000 49.742sec(train) 4.037sec(infer)\n"
     ]
    },
    {
     "name": "stdout",
     "output_type": "stream",
     "text": [
      "Epoch 59 tst: l 0.908 a 0.744  clct[20, 20] ans[20, 20] cl_acc 1.000000 2.482sec\n"
     ]
    },
    {
     "name": "stdout",
     "output_type": "stream",
     "text": [
      "Epoch 60 tr: l 0.946 a 0.730  clct[27, 33] ans[33, 27] lr 0.136789 cl_acc 1.000000 50.014sec(train) 3.844sec(infer)\n"
     ]
    },
    {
     "name": "stdout",
     "output_type": "stream",
     "text": [
      "Epoch 60 tst: l 0.908 a 0.745  clct[20, 20] ans[20, 20] cl_acc 1.000000 2.532sec\n",
      "result written at output/results.pickle\n"
     ]
    },
    {
     "name": "stdout",
     "output_type": "stream",
     "text": [
      "Epoch 61 tr: l 0.970 a 0.722  clct[33, 27] ans[27, 33] lr 0.135421 cl_acc 1.000000 49.509sec(train) 4.008sec(infer)\n"
     ]
    },
    {
     "name": "stdout",
     "output_type": "stream",
     "text": [
      "Epoch 61 tst: l 0.902 a 0.743  clct[20, 20] ans[20, 20] cl_acc 1.000000 2.485sec\n"
     ]
    },
    {
     "name": "stdout",
     "output_type": "stream",
     "text": [
      "Epoch 62 tr: l 0.956 a 0.726  clct[29, 31] ans[31, 29] lr 0.134067 cl_acc 1.000000 50.579sec(train) 3.990sec(infer)\n"
     ]
    },
    {
     "name": "stdout",
     "output_type": "stream",
     "text": [
      "Epoch 62 tst: l 0.896 a 0.747  clct[20, 20] ans[20, 20] cl_acc 1.000000 2.309sec\n"
     ]
    },
    {
     "name": "stdout",
     "output_type": "stream",
     "text": [
      "Epoch 63 tr: l 0.942 a 0.730  clct[35, 25] ans[25, 35] lr 0.132726 cl_acc 1.000000 49.903sec(train) 4.089sec(infer)\n"
     ]
    },
    {
     "name": "stdout",
     "output_type": "stream",
     "text": [
      "Epoch 63 tst: l 0.889 a 0.748  clct[20, 20] ans[20, 20] cl_acc 1.000000 2.471sec\n"
     ]
    },
    {
     "name": "stdout",
     "output_type": "stream",
     "text": [
      "Epoch 64 tr: l 0.919 a 0.740  clct[27, 33] ans[33, 27] lr 0.131399 cl_acc 1.000000 49.869sec(train) 4.087sec(infer)\n"
     ]
    },
    {
     "name": "stdout",
     "output_type": "stream",
     "text": [
      "Epoch 64 tst: l 0.886 a 0.751  clct[20, 20] ans[20, 20] cl_acc 1.000000 2.497sec\n"
     ]
    },
    {
     "name": "stdout",
     "output_type": "stream",
     "text": [
      "Epoch 65 tr: l 0.934 a 0.732  clct[35, 25] ans[25, 35] lr 0.130085 cl_acc 1.000000 49.660sec(train) 4.058sec(infer)\n"
     ]
    },
    {
     "name": "stdout",
     "output_type": "stream",
     "text": [
      "Epoch 65 tst: l 0.883 a 0.751  clct[20, 20] ans[20, 20] cl_acc 1.000000 2.446sec\n"
     ]
    },
    {
     "name": "stdout",
     "output_type": "stream",
     "text": [
      "Epoch 66 tr: l 0.944 a 0.727  clct[30, 30] ans[30, 30] lr 0.128784 cl_acc 1.000000 50.021sec(train) 4.094sec(infer)\n"
     ]
    },
    {
     "name": "stdout",
     "output_type": "stream",
     "text": [
      "Epoch 66 tst: l 0.876 a 0.754  clct[20, 20] ans[20, 20] cl_acc 1.000000 2.483sec\n"
     ]
    },
    {
     "name": "stdout",
     "output_type": "stream",
     "text": [
      "Epoch 67 tr: l 0.908 a 0.738  clct[32, 28] ans[28, 32] lr 0.127496 cl_acc 1.000000 49.829sec(train) 4.116sec(infer)\n"
     ]
    },
    {
     "name": "stdout",
     "output_type": "stream",
     "text": [
      "Epoch 67 tst: l 0.876 a 0.755  clct[20, 20] ans[20, 20] cl_acc 1.000000 2.499sec\n"
     ]
    },
    {
     "name": "stdout",
     "output_type": "stream",
     "text": [
      "Epoch 68 tr: l 0.892 a 0.741  clct[28, 32] ans[32, 28] lr 0.126221 cl_acc 1.000000 50.094sec(train) 4.030sec(infer)\n"
     ]
    },
    {
     "name": "stdout",
     "output_type": "stream",
     "text": [
      "Epoch 68 tst: l 0.872 a 0.755  clct[20, 20] ans[20, 20] cl_acc 1.000000 2.509sec\n"
     ]
    },
    {
     "name": "stdout",
     "output_type": "stream",
     "text": [
      "Epoch 69 tr: l 0.917 a 0.737  clct[30, 30] ans[30, 30] lr 0.124959 cl_acc 1.000000 50.311sec(train) 4.069sec(infer)\n"
     ]
    },
    {
     "name": "stdout",
     "output_type": "stream",
     "text": [
      "Epoch 69 tst: l 0.869 a 0.756  clct[20, 20] ans[20, 20] cl_acc 1.000000 2.518sec\n"
     ]
    },
    {
     "name": "stdout",
     "output_type": "stream",
     "text": [
      "Epoch 70 tr: l 0.909 a 0.739  clct[34, 26] ans[26, 34] lr 0.123710 cl_acc 1.000000 50.452sec(train) 3.963sec(infer)\n"
     ]
    },
    {
     "name": "stdout",
     "output_type": "stream",
     "text": [
      "Epoch 70 tst: l 0.863 a 0.758  clct[20, 20] ans[20, 20] cl_acc 1.000000 2.535sec\n",
      "result written at output/results.pickle\n"
     ]
    },
    {
     "name": "stdout",
     "output_type": "stream",
     "text": [
      "Epoch 71 tr: l 0.916 a 0.737  clct[30, 30] ans[30, 30] lr 0.122473 cl_acc 1.000000 50.427sec(train) 4.123sec(infer)\n"
     ]
    },
    {
     "name": "stdout",
     "output_type": "stream",
     "text": [
      "Epoch 71 tst: l 0.861 a 0.758  clct[20, 20] ans[20, 20] cl_acc 1.000000 2.584sec\n"
     ]
    },
    {
     "name": "stdout",
     "output_type": "stream",
     "text": [
      "Epoch 72 tr: l 0.900 a 0.740  clct[29, 31] ans[31, 29] lr 0.121248 cl_acc 1.000000 50.011sec(train) 4.028sec(infer)\n"
     ]
    },
    {
     "name": "stdout",
     "output_type": "stream",
     "text": [
      "Epoch 72 tst: l 0.856 a 0.762  clct[20, 20] ans[20, 20] cl_acc 1.000000 2.483sec\n"
     ]
    },
    {
     "name": "stdout",
     "output_type": "stream",
     "text": [
      "Epoch 73 tr: l 0.881 a 0.747  clct[32, 28] ans[28, 32] lr 0.120035 cl_acc 1.000000 50.005sec(train) 3.997sec(infer)\n"
     ]
    },
    {
     "name": "stdout",
     "output_type": "stream",
     "text": [
      "Epoch 73 tst: l 0.858 a 0.761  clct[20, 20] ans[20, 20] cl_acc 1.000000 2.525sec\n"
     ]
    },
    {
     "name": "stdout",
     "output_type": "stream",
     "text": [
      "Epoch 74 tr: l 0.882 a 0.746  clct[30, 30] ans[30, 30] lr 0.118835 cl_acc 1.000000 50.209sec(train) 3.970sec(infer)\n"
     ]
    },
    {
     "name": "stdout",
     "output_type": "stream",
     "text": [
      "Epoch 74 tst: l 0.852 a 0.763  clct[20, 20] ans[20, 20] cl_acc 1.000000 2.529sec\n"
     ]
    },
    {
     "name": "stdout",
     "output_type": "stream",
     "text": [
      "Epoch 75 tr: l 0.870 a 0.753  clct[35, 25] ans[25, 35] lr 0.117647 cl_acc 1.000000 49.333sec(train) 4.045sec(infer)\n"
     ]
    },
    {
     "name": "stdout",
     "output_type": "stream",
     "text": [
      "Epoch 75 tst: l 0.849 a 0.764  clct[20, 20] ans[20, 20] cl_acc 1.000000 2.533sec\n"
     ]
    },
    {
     "name": "stdout",
     "output_type": "stream",
     "text": [
      "Epoch 76 tr: l 0.850 a 0.757  clct[32, 28] ans[28, 32] lr 0.116470 cl_acc 1.000000 50.275sec(train) 3.988sec(infer)\n"
     ]
    },
    {
     "name": "stdout",
     "output_type": "stream",
     "text": [
      "Epoch 76 tst: l 0.850 a 0.761  clct[20, 20] ans[20, 20] cl_acc 1.000000 2.484sec\n"
     ]
    },
    {
     "name": "stdout",
     "output_type": "stream",
     "text": [
      "Epoch 77 tr: l 0.861 a 0.755  clct[28, 32] ans[32, 28] lr 0.115305 cl_acc 1.000000 50.126sec(train) 4.036sec(infer)\n"
     ]
    },
    {
     "name": "stdout",
     "output_type": "stream",
     "text": [
      "Epoch 77 tst: l 0.841 a 0.766  clct[20, 20] ans[20, 20] cl_acc 1.000000 2.626sec\n"
     ]
    },
    {
     "name": "stdout",
     "output_type": "stream",
     "text": [
      "Epoch 78 tr: l 0.866 a 0.752  clct[30, 30] ans[30, 30] lr 0.114152 cl_acc 1.000000 50.235sec(train) 4.096sec(infer)\n"
     ]
    },
    {
     "name": "stdout",
     "output_type": "stream",
     "text": [
      "Epoch 78 tst: l 0.842 a 0.765  clct[20, 20] ans[20, 20] cl_acc 1.000000 2.499sec\n"
     ]
    },
    {
     "name": "stdout",
     "output_type": "stream",
     "text": [
      "Epoch 79 tr: l 0.867 a 0.754  clct[30, 30] ans[30, 30] lr 0.113011 cl_acc 1.000000 49.874sec(train) 3.901sec(infer)\n"
     ]
    },
    {
     "name": "stdout",
     "output_type": "stream",
     "text": [
      "Epoch 79 tst: l 0.837 a 0.768  clct[20, 20] ans[20, 20] cl_acc 1.000000 2.525sec\n"
     ]
    },
    {
     "name": "stdout",
     "output_type": "stream",
     "text": [
      "Epoch 80 tr: l 0.840 a 0.764  clct[26, 34] ans[34, 26] lr 0.111881 cl_acc 1.000000 49.841sec(train) 3.962sec(infer)\n"
     ]
    },
    {
     "name": "stdout",
     "output_type": "stream",
     "text": [
      "Epoch 80 tst: l 0.835 a 0.769  clct[20, 20] ans[20, 20] cl_acc 1.000000 2.479sec\n",
      "result written at output/results.pickle\n"
     ]
    },
    {
     "name": "stdout",
     "output_type": "stream",
     "text": [
      "Epoch 81 tr: l 0.863 a 0.751  clct[28, 32] ans[32, 28] lr 0.110762 cl_acc 1.000000 50.122sec(train) 4.018sec(infer)\n"
     ]
    },
    {
     "name": "stdout",
     "output_type": "stream",
     "text": [
      "Epoch 81 tst: l 0.832 a 0.769  clct[20, 20] ans[20, 20] cl_acc 1.000000 2.541sec\n"
     ]
    },
    {
     "name": "stdout",
     "output_type": "stream",
     "text": [
      "Epoch 82 tr: l 0.862 a 0.752  clct[34, 26] ans[26, 34] lr 0.109654 cl_acc 1.000000 50.200sec(train) 4.089sec(infer)\n"
     ]
    },
    {
     "name": "stdout",
     "output_type": "stream",
     "text": [
      "Epoch 82 tst: l 0.831 a 0.768  clct[20, 20] ans[20, 20] cl_acc 1.000000 2.467sec\n"
     ]
    },
    {
     "name": "stdout",
     "output_type": "stream",
     "text": [
      "Epoch 83 tr: l 0.856 a 0.754  clct[33, 27] ans[27, 33] lr 0.108558 cl_acc 1.000000 49.568sec(train) 4.107sec(infer)\n"
     ]
    },
    {
     "name": "stdout",
     "output_type": "stream",
     "text": [
      "Epoch 83 tst: l 0.826 a 0.771  clct[20, 20] ans[20, 20] cl_acc 1.000000 2.542sec\n"
     ]
    },
    {
     "name": "stdout",
     "output_type": "stream",
     "text": [
      "Epoch 84 tr: l 0.854 a 0.758  clct[26, 34] ans[34, 26] lr 0.107472 cl_acc 1.000000 50.015sec(train) 3.923sec(infer)\n"
     ]
    },
    {
     "name": "stdout",
     "output_type": "stream",
     "text": [
      "Epoch 84 tst: l 0.827 a 0.769  clct[20, 20] ans[20, 20] cl_acc 1.000000 2.465sec\n"
     ]
    },
    {
     "name": "stdout",
     "output_type": "stream",
     "text": [
      "Epoch 85 tr: l 0.844 a 0.762  clct[28, 32] ans[32, 28] lr 0.106398 cl_acc 1.000000 50.236sec(train) 3.917sec(infer)\n"
     ]
    },
    {
     "name": "stdout",
     "output_type": "stream",
     "text": [
      "Epoch 85 tst: l 0.823 a 0.769  clct[20, 20] ans[20, 20] cl_acc 1.000000 2.524sec\n"
     ]
    },
    {
     "name": "stdout",
     "output_type": "stream",
     "text": [
      "Epoch 86 tr: l 0.838 a 0.762  clct[30, 30] ans[30, 30] lr 0.105334 cl_acc 1.000000 49.389sec(train) 4.099sec(infer)\n"
     ]
    },
    {
     "name": "stdout",
     "output_type": "stream",
     "text": [
      "Epoch 86 tst: l 0.824 a 0.770  clct[20, 20] ans[20, 20] cl_acc 1.000000 2.456sec\n"
     ]
    },
    {
     "name": "stdout",
     "output_type": "stream",
     "text": [
      "Epoch 87 tr: l 0.850 a 0.756  clct[28, 32] ans[32, 28] lr 0.104280 cl_acc 1.000000 49.621sec(train) 4.181sec(infer)\n"
     ]
    },
    {
     "name": "stdout",
     "output_type": "stream",
     "text": [
      "Epoch 87 tst: l 0.820 a 0.772  clct[20, 20] ans[20, 20] cl_acc 1.000000 2.565sec\n"
     ]
    },
    {
     "name": "stdout",
     "output_type": "stream",
     "text": [
      "Epoch 88 tr: l 0.830 a 0.764  clct[31, 29] ans[29, 31] lr 0.103237 cl_acc 1.000000 49.236sec(train) 4.104sec(infer)\n"
     ]
    },
    {
     "name": "stdout",
     "output_type": "stream",
     "text": [
      "Epoch 88 tst: l 0.818 a 0.771  clct[20, 20] ans[20, 20] cl_acc 1.000000 2.583sec\n"
     ]
    },
    {
     "name": "stdout",
     "output_type": "stream",
     "text": [
      "Epoch 89 tr: l 0.829 a 0.765  clct[32, 28] ans[28, 32] lr 0.102205 cl_acc 1.000000 49.950sec(train) 3.727sec(infer)\n"
     ]
    },
    {
     "name": "stdout",
     "output_type": "stream",
     "text": [
      "Epoch 89 tst: l 0.814 a 0.775  clct[20, 20] ans[20, 20] cl_acc 1.000000 2.509sec\n"
     ]
    },
    {
     "name": "stdout",
     "output_type": "stream",
     "text": [
      "Epoch 90 tr: l 0.816 a 0.767  clct[34, 26] ans[26, 34] lr 0.101183 cl_acc 1.000000 50.227sec(train) 3.867sec(infer)\n"
     ]
    },
    {
     "name": "stdout",
     "output_type": "stream",
     "text": [
      "Epoch 90 tst: l 0.812 a 0.774  clct[20, 20] ans[20, 20] cl_acc 1.000000 2.568sec\n",
      "result written at output/results.pickle\n"
     ]
    },
    {
     "name": "stdout",
     "output_type": "stream",
     "text": [
      "Epoch 91 tr: l 0.834 a 0.761  clct[31, 29] ans[29, 31] lr 0.100171 cl_acc 1.000000 50.304sec(train) 3.969sec(infer)\n"
     ]
    },
    {
     "name": "stdout",
     "output_type": "stream",
     "text": [
      "Epoch 91 tst: l 0.811 a 0.777  clct[20, 20] ans[20, 20] cl_acc 1.000000 2.616sec\n"
     ]
    },
    {
     "name": "stdout",
     "output_type": "stream",
     "text": [
      "Epoch 92 tr: l 0.805 a 0.770  clct[30, 30] ans[30, 30] lr 0.099169 cl_acc 1.000000 49.859sec(train) 3.957sec(infer)\n"
     ]
    },
    {
     "name": "stdout",
     "output_type": "stream",
     "text": [
      "Epoch 92 tst: l 0.808 a 0.776  clct[20, 20] ans[20, 20] cl_acc 1.000000 2.488sec\n"
     ]
    },
    {
     "name": "stdout",
     "output_type": "stream",
     "text": [
      "Epoch 93 tr: l 0.820 a 0.766  clct[26, 34] ans[34, 26] lr 0.098178 cl_acc 1.000000 50.157sec(train) 4.043sec(infer)\n"
     ]
    },
    {
     "name": "stdout",
     "output_type": "stream",
     "text": [
      "Epoch 93 tst: l 0.808 a 0.776  clct[20, 20] ans[20, 20] cl_acc 1.000000 2.495sec\n"
     ]
    },
    {
     "name": "stdout",
     "output_type": "stream",
     "text": [
      "Epoch 94 tr: l 0.816 a 0.768  clct[29, 31] ans[31, 29] lr 0.097196 cl_acc 1.000000 50.116sec(train) 4.077sec(infer)\n"
     ]
    },
    {
     "name": "stdout",
     "output_type": "stream",
     "text": [
      "Epoch 94 tst: l 0.810 a 0.774  clct[20, 20] ans[20, 20] cl_acc 1.000000 2.489sec\n"
     ]
    },
    {
     "name": "stdout",
     "output_type": "stream",
     "text": [
      "Epoch 95 tr: l 0.798 a 0.773  clct[32, 28] ans[28, 32] lr 0.096224 cl_acc 1.000000 50.094sec(train) 4.041sec(infer)\n"
     ]
    },
    {
     "name": "stdout",
     "output_type": "stream",
     "text": [
      "Epoch 95 tst: l 0.804 a 0.776  clct[20, 20] ans[20, 20] cl_acc 1.000000 2.553sec\n"
     ]
    },
    {
     "name": "stdout",
     "output_type": "stream",
     "text": [
      "Epoch 96 tr: l 0.825 a 0.765  clct[26, 34] ans[34, 26] lr 0.095262 cl_acc 1.000000 50.071sec(train) 3.971sec(infer)\n"
     ]
    },
    {
     "name": "stdout",
     "output_type": "stream",
     "text": [
      "Epoch 96 tst: l 0.801 a 0.779  clct[20, 20] ans[20, 20] cl_acc 1.000000 2.483sec\n"
     ]
    },
    {
     "name": "stdout",
     "output_type": "stream",
     "text": [
      "Epoch 97 tr: l 0.802 a 0.772  clct[28, 32] ans[32, 28] lr 0.094309 cl_acc 1.000000 49.823sec(train) 4.152sec(infer)\n"
     ]
    },
    {
     "name": "stdout",
     "output_type": "stream",
     "text": [
      "Epoch 97 tst: l 0.801 a 0.778  clct[20, 20] ans[20, 20] cl_acc 1.000000 2.564sec\n"
     ]
    },
    {
     "name": "stdout",
     "output_type": "stream",
     "text": [
      "Epoch 98 tr: l 0.819 a 0.768  clct[30, 30] ans[30, 30] lr 0.093366 cl_acc 1.000000 50.287sec(train) 4.130sec(infer)\n"
     ]
    },
    {
     "name": "stdout",
     "output_type": "stream",
     "text": [
      "Epoch 98 tst: l 0.799 a 0.781  clct[20, 20] ans[20, 20] cl_acc 1.000000 2.430sec\n"
     ]
    },
    {
     "name": "stdout",
     "output_type": "stream",
     "text": [
      "Epoch 99 tr: l 0.804 a 0.772  clct[30, 30] ans[30, 30] lr 0.092432 cl_acc 1.000000 49.590sec(train) 4.220sec(infer)\n"
     ]
    },
    {
     "name": "stdout",
     "output_type": "stream",
     "text": [
      "Epoch 99 tst: l 0.795 a 0.781  clct[20, 20] ans[20, 20] cl_acc 1.000000 2.530sec\n"
     ]
    },
    {
     "name": "stdout",
     "output_type": "stream",
     "text": [
      "Epoch 100 tr: l 0.779 a 0.779  clct[30, 30] ans[30, 30] lr 0.091508 cl_acc 1.000000 49.660sec(train) 4.059sec(infer)\n"
     ]
    },
    {
     "name": "stdout",
     "output_type": "stream",
     "text": [
      "Epoch 100 tst: l 0.795 a 0.780  clct[20, 20] ans[20, 20] cl_acc 1.000000 2.461sec\n",
      "result written at output/results.pickle\n"
     ]
    },
    {
     "name": "stdout",
     "output_type": "stream",
     "text": [
      "Epoch 101 tr: l 0.785 a 0.778  clct[34, 26] ans[26, 34] lr 0.090593 cl_acc 1.000000 50.105sec(train) 3.911sec(infer)\n"
     ]
    },
    {
     "name": "stdout",
     "output_type": "stream",
     "text": [
      "Epoch 101 tst: l 0.794 a 0.781  clct[20, 20] ans[20, 20] cl_acc 1.000000 2.436sec\n"
     ]
    },
    {
     "name": "stdout",
     "output_type": "stream",
     "text": [
      "Epoch 102 tr: l 0.783 a 0.781  clct[33, 27] ans[27, 33] lr 0.089687 cl_acc 1.000000 50.021sec(train) 3.975sec(infer)\n"
     ]
    },
    {
     "name": "stdout",
     "output_type": "stream",
     "text": [
      "Epoch 102 tst: l 0.790 a 0.781  clct[20, 20] ans[20, 20] cl_acc 1.000000 2.519sec\n"
     ]
    },
    {
     "name": "stdout",
     "output_type": "stream",
     "text": [
      "Epoch 103 tr: l 0.780 a 0.781  clct[28, 32] ans[32, 28] lr 0.088790 cl_acc 1.000000 49.740sec(train) 4.016sec(infer)\n"
     ]
    },
    {
     "name": "stdout",
     "output_type": "stream",
     "text": [
      "Epoch 103 tst: l 0.790 a 0.782  clct[20, 20] ans[20, 20] cl_acc 1.000000 2.504sec\n"
     ]
    },
    {
     "name": "stdout",
     "output_type": "stream",
     "text": [
      "Epoch 104 tr: l 0.771 a 0.783  clct[33, 27] ans[27, 33] lr 0.087902 cl_acc 1.000000 50.038sec(train) 4.184sec(infer)\n"
     ]
    },
    {
     "name": "stdout",
     "output_type": "stream",
     "text": [
      "Epoch 104 tst: l 0.789 a 0.781  clct[20, 20] ans[20, 20] cl_acc 1.000000 2.480sec\n"
     ]
    },
    {
     "name": "stdout",
     "output_type": "stream",
     "text": [
      "Epoch 105 tr: l 0.793 a 0.776  clct[32, 28] ans[28, 32] lr 0.087023 cl_acc 1.000000 50.320sec(train) 4.211sec(infer)\n"
     ]
    },
    {
     "name": "stdout",
     "output_type": "stream",
     "text": [
      "Epoch 105 tst: l 0.787 a 0.783  clct[20, 20] ans[20, 20] cl_acc 1.000000 2.421sec\n"
     ]
    },
    {
     "name": "stdout",
     "output_type": "stream",
     "text": [
      "Epoch 106 tr: l 0.790 a 0.776  clct[29, 31] ans[31, 29] lr 0.086153 cl_acc 1.000000 50.138sec(train) 4.053sec(infer)\n"
     ]
    },
    {
     "name": "stdout",
     "output_type": "stream",
     "text": [
      "Epoch 106 tst: l 0.781 a 0.785  clct[20, 20] ans[20, 20] cl_acc 1.000000 2.479sec\n"
     ]
    },
    {
     "name": "stdout",
     "output_type": "stream",
     "text": [
      "Epoch 107 tr: l 0.777 a 0.780  clct[25, 35] ans[35, 25] lr 0.085292 cl_acc 1.000000 49.661sec(train) 4.080sec(infer)\n"
     ]
    },
    {
     "name": "stdout",
     "output_type": "stream",
     "text": [
      "Epoch 107 tst: l 0.783 a 0.785  clct[20, 20] ans[20, 20] cl_acc 1.000000 2.413sec\n"
     ]
    },
    {
     "name": "stdout",
     "output_type": "stream",
     "text": [
      "Epoch 108 tr: l 0.772 a 0.784  clct[34, 26] ans[26, 34] lr 0.084439 cl_acc 1.000000 49.930sec(train) 4.006sec(infer)\n"
     ]
    },
    {
     "name": "stdout",
     "output_type": "stream",
     "text": [
      "Epoch 108 tst: l 0.780 a 0.783  clct[20, 20] ans[20, 20] cl_acc 1.000000 2.440sec\n"
     ]
    },
    {
     "name": "stdout",
     "output_type": "stream",
     "text": [
      "Epoch 109 tr: l 0.778 a 0.781  clct[28, 32] ans[32, 28] lr 0.083594 cl_acc 1.000000 50.485sec(train) 3.998sec(infer)\n"
     ]
    },
    {
     "name": "stdout",
     "output_type": "stream",
     "text": [
      "Epoch 109 tst: l 0.776 a 0.784  clct[20, 20] ans[20, 20] cl_acc 1.000000 2.500sec\n"
     ]
    },
    {
     "name": "stdout",
     "output_type": "stream",
     "text": [
      "Epoch 110 tr: l 0.781 a 0.779  clct[33, 27] ans[27, 33] lr 0.082758 cl_acc 1.000000 49.893sec(train) 3.933sec(infer)\n"
     ]
    },
    {
     "name": "stdout",
     "output_type": "stream",
     "text": [
      "Epoch 110 tst: l 0.776 a 0.786  clct[20, 20] ans[20, 20] cl_acc 1.000000 2.510sec\n",
      "result written at output/results.pickle\n"
     ]
    },
    {
     "name": "stdout",
     "output_type": "stream",
     "text": [
      "Epoch 111 tr: l 0.795 a 0.776  clct[28, 32] ans[32, 28] lr 0.081931 cl_acc 1.000000 50.137sec(train) 4.092sec(infer)\n"
     ]
    },
    {
     "name": "stdout",
     "output_type": "stream",
     "text": [
      "Epoch 111 tst: l 0.773 a 0.786  clct[20, 20] ans[20, 20] cl_acc 1.000000 2.423sec\n"
     ]
    },
    {
     "name": "stdout",
     "output_type": "stream",
     "text": [
      "Epoch 112 tr: l 0.758 a 0.787  clct[25, 35] ans[35, 25] lr 0.081111 cl_acc 1.000000 50.548sec(train) 3.778sec(infer)\n"
     ]
    },
    {
     "name": "stdout",
     "output_type": "stream",
     "text": [
      "Epoch 112 tst: l 0.772 a 0.785  clct[20, 20] ans[20, 20] cl_acc 1.000000 2.493sec\n"
     ]
    },
    {
     "name": "stdout",
     "output_type": "stream",
     "text": [
      "Epoch 113 tr: l 0.757 a 0.787  clct[29, 31] ans[31, 29] lr 0.080300 cl_acc 1.000000 49.913sec(train) 4.049sec(infer)\n"
     ]
    },
    {
     "name": "stdout",
     "output_type": "stream",
     "text": [
      "Epoch 113 tst: l 0.771 a 0.788  clct[20, 20] ans[20, 20] cl_acc 1.000000 2.547sec\n"
     ]
    },
    {
     "name": "stdout",
     "output_type": "stream",
     "text": [
      "Epoch 114 tr: l 0.781 a 0.781  clct[27, 33] ans[33, 27] lr 0.079497 cl_acc 1.000000 50.032sec(train) 4.098sec(infer)\n"
     ]
    },
    {
     "name": "stdout",
     "output_type": "stream",
     "text": [
      "Epoch 114 tst: l 0.772 a 0.786  clct[20, 20] ans[20, 20] cl_acc 1.000000 2.482sec\n"
     ]
    },
    {
     "name": "stdout",
     "output_type": "stream",
     "text": [
      "Epoch 115 tr: l 0.754 a 0.789  clct[30, 30] ans[30, 30] lr 0.078702 cl_acc 1.000000 49.676sec(train) 4.059sec(infer)\n"
     ]
    },
    {
     "name": "stdout",
     "output_type": "stream",
     "text": [
      "Epoch 115 tst: l 0.774 a 0.787  clct[20, 20] ans[20, 20] cl_acc 1.000000 2.560sec\n"
     ]
    },
    {
     "name": "stdout",
     "output_type": "stream",
     "text": [
      "Epoch 116 tr: l 0.759 a 0.787  clct[30, 30] ans[30, 30] lr 0.077915 cl_acc 1.000000 50.322sec(train) 4.048sec(infer)\n"
     ]
    },
    {
     "name": "stdout",
     "output_type": "stream",
     "text": [
      "Epoch 116 tst: l 0.768 a 0.788  clct[20, 20] ans[20, 20] cl_acc 1.000000 2.510sec\n"
     ]
    },
    {
     "name": "stdout",
     "output_type": "stream",
     "text": [
      "Epoch 117 tr: l 0.765 a 0.785  clct[28, 32] ans[32, 28] lr 0.077136 cl_acc 1.000000 50.034sec(train) 3.962sec(infer)\n"
     ]
    },
    {
     "name": "stdout",
     "output_type": "stream",
     "text": [
      "Epoch 117 tst: l 0.765 a 0.788  clct[20, 20] ans[20, 20] cl_acc 1.000000 2.465sec\n"
     ]
    },
    {
     "name": "stdout",
     "output_type": "stream",
     "text": [
      "Epoch 118 tr: l 0.737 a 0.795  clct[30, 30] ans[30, 30] lr 0.076365 cl_acc 1.000000 50.483sec(train) 3.981sec(infer)\n"
     ]
    },
    {
     "name": "stdout",
     "output_type": "stream",
     "text": [
      "Epoch 118 tst: l 0.767 a 0.789  clct[20, 20] ans[20, 20] cl_acc 1.000000 2.474sec\n"
     ]
    },
    {
     "name": "stdout",
     "output_type": "stream",
     "text": [
      "Epoch 119 tr: l 0.756 a 0.784  clct[32, 28] ans[28, 32] lr 0.075601 cl_acc 1.000000 50.248sec(train) 3.898sec(infer)\n"
     ]
    },
    {
     "name": "stdout",
     "output_type": "stream",
     "text": [
      "Epoch 119 tst: l 0.764 a 0.791  clct[20, 20] ans[20, 20] cl_acc 1.000000 2.421sec\n"
     ]
    },
    {
     "name": "stdout",
     "output_type": "stream",
     "text": [
      "Epoch 120 tr: l 0.752 a 0.789  clct[30, 30] ans[30, 30] lr 0.074845 cl_acc 1.000000 50.380sec(train) 4.028sec(infer)\n"
     ]
    },
    {
     "name": "stdout",
     "output_type": "stream",
     "text": [
      "Epoch 120 tst: l 0.762 a 0.791  clct[20, 20] ans[20, 20] cl_acc 1.000000 2.662sec\n",
      "result written at output/results.pickle\n"
     ]
    },
    {
     "name": "stdout",
     "output_type": "stream",
     "text": [
      "Epoch 121 tr: l 0.772 a 0.782  clct[31, 29] ans[29, 31] lr 0.074097 cl_acc 1.000000 50.259sec(train) 4.066sec(infer)\n"
     ]
    },
    {
     "name": "stdout",
     "output_type": "stream",
     "text": [
      "Epoch 121 tst: l 0.765 a 0.790  clct[20, 20] ans[20, 20] cl_acc 1.000000 2.592sec\n"
     ]
    },
    {
     "name": "stdout",
     "output_type": "stream",
     "text": [
      "Epoch 122 tr: l 0.728 a 0.798  clct[28, 32] ans[32, 28] lr 0.073356 cl_acc 1.000000 49.652sec(train) 4.195sec(infer)\n"
     ]
    },
    {
     "name": "stdout",
     "output_type": "stream",
     "text": [
      "Epoch 122 tst: l 0.761 a 0.790  clct[20, 20] ans[20, 20] cl_acc 1.000000 2.304sec\n"
     ]
    },
    {
     "name": "stdout",
     "output_type": "stream",
     "text": [
      "Epoch 123 tr: l 0.701 a 0.806  clct[28, 32] ans[32, 28] lr 0.072622 cl_acc 1.000000 49.618sec(train) 4.175sec(infer)\n"
     ]
    },
    {
     "name": "stdout",
     "output_type": "stream",
     "text": [
      "Epoch 123 tst: l 0.757 a 0.790  clct[20, 20] ans[20, 20] cl_acc 1.000000 2.470sec\n"
     ]
    },
    {
     "name": "stdout",
     "output_type": "stream",
     "text": [
      "Epoch 124 tr: l 0.737 a 0.794  clct[27, 33] ans[33, 27] lr 0.071896 cl_acc 1.000000 49.706sec(train) 3.896sec(infer)\n"
     ]
    },
    {
     "name": "stdout",
     "output_type": "stream",
     "text": [
      "Epoch 124 tst: l 0.759 a 0.792  clct[20, 20] ans[20, 20] cl_acc 1.000000 2.506sec\n"
     ]
    },
    {
     "name": "stdout",
     "output_type": "stream",
     "text": [
      "Epoch 125 tr: l 0.725 a 0.799  clct[27, 33] ans[33, 27] lr 0.071177 cl_acc 1.000000 49.618sec(train) 4.215sec(infer)\n"
     ]
    },
    {
     "name": "stdout",
     "output_type": "stream",
     "text": [
      "Epoch 125 tst: l 0.759 a 0.791  clct[20, 20] ans[20, 20] cl_acc 1.000000 2.516sec\n"
     ]
    },
    {
     "name": "stdout",
     "output_type": "stream",
     "text": [
      "Epoch 126 tr: l 0.759 a 0.784  clct[31, 29] ans[29, 31] lr 0.070465 cl_acc 1.000000 49.455sec(train) 4.154sec(infer)\n"
     ]
    },
    {
     "name": "stdout",
     "output_type": "stream",
     "text": [
      "Epoch 126 tst: l 0.758 a 0.793  clct[20, 20] ans[20, 20] cl_acc 1.000000 2.624sec\n"
     ]
    },
    {
     "name": "stdout",
     "output_type": "stream",
     "text": [
      "Epoch 127 tr: l 0.699 a 0.807  clct[32, 28] ans[28, 32] lr 0.069761 cl_acc 1.000000 50.305sec(train) 3.982sec(infer)\n"
     ]
    },
    {
     "name": "stdout",
     "output_type": "stream",
     "text": [
      "Epoch 127 tst: l 0.753 a 0.792  clct[20, 20] ans[20, 20] cl_acc 1.000000 2.615sec\n"
     ]
    },
    {
     "name": "stdout",
     "output_type": "stream",
     "text": [
      "Epoch 128 tr: l 0.735 a 0.793  clct[32, 28] ans[28, 32] lr 0.069063 cl_acc 1.000000 49.190sec(train) 4.011sec(infer)\n"
     ]
    },
    {
     "name": "stdout",
     "output_type": "stream",
     "text": [
      "Epoch 128 tst: l 0.754 a 0.794  clct[20, 20] ans[20, 20] cl_acc 1.000000 2.668sec\n"
     ]
    },
    {
     "name": "stdout",
     "output_type": "stream",
     "text": [
      "Epoch 129 tr: l 0.715 a 0.803  clct[31, 29] ans[29, 31] lr 0.068372 cl_acc 1.000000 51.745sec(train) 4.317sec(infer)\n"
     ]
    },
    {
     "name": "stdout",
     "output_type": "stream",
     "text": [
      "Epoch 129 tst: l 0.753 a 0.794  clct[20, 20] ans[20, 20] cl_acc 1.000000 2.723sec\n"
     ]
    },
    {
     "name": "stdout",
     "output_type": "stream",
     "text": [
      "Epoch 130 tr: l 0.720 a 0.798  clct[31, 29] ans[29, 31] lr 0.067689 cl_acc 1.000000 49.263sec(train) 4.340sec(infer)\n"
     ]
    },
    {
     "name": "stdout",
     "output_type": "stream",
     "text": [
      "Epoch 130 tst: l 0.748 a 0.794  clct[20, 20] ans[20, 20] cl_acc 1.000000 2.652sec\n",
      "result written at output/results.pickle\n"
     ]
    },
    {
     "name": "stdout",
     "output_type": "stream",
     "text": [
      "Epoch 131 tr: l 0.702 a 0.804  clct[34, 26] ans[26, 34] lr 0.067012 cl_acc 1.000000 50.458sec(train) 4.112sec(infer)\n"
     ]
    },
    {
     "name": "stdout",
     "output_type": "stream",
     "text": [
      "Epoch 131 tst: l 0.747 a 0.795  clct[20, 20] ans[20, 20] cl_acc 1.000000 2.587sec\n"
     ]
    },
    {
     "name": "stdout",
     "output_type": "stream",
     "text": [
      "Epoch 132 tr: l 0.707 a 0.805  clct[35, 25] ans[25, 35] lr 0.066342 cl_acc 1.000000 49.968sec(train) 4.061sec(infer)\n"
     ]
    },
    {
     "name": "stdout",
     "output_type": "stream",
     "text": [
      "Epoch 132 tst: l 0.746 a 0.795  clct[20, 20] ans[20, 20] cl_acc 1.000000 2.562sec\n"
     ]
    },
    {
     "name": "stdout",
     "output_type": "stream",
     "text": [
      "Epoch 133 tr: l 0.700 a 0.806  clct[35, 25] ans[25, 35] lr 0.065678 cl_acc 1.000000 49.982sec(train) 4.065sec(infer)\n"
     ]
    },
    {
     "name": "stdout",
     "output_type": "stream",
     "text": [
      "Epoch 133 tst: l 0.748 a 0.795  clct[20, 20] ans[20, 20] cl_acc 1.000000 2.349sec\n"
     ]
    },
    {
     "name": "stdout",
     "output_type": "stream",
     "text": [
      "Epoch 134 tr: l 0.690 a 0.809  clct[29, 31] ans[31, 29] lr 0.065021 cl_acc 1.000000 50.766sec(train) 3.967sec(infer)\n"
     ]
    },
    {
     "name": "stdout",
     "output_type": "stream",
     "text": [
      "Epoch 134 tst: l 0.748 a 0.795  clct[20, 20] ans[20, 20] cl_acc 1.000000 2.607sec\n"
     ]
    },
    {
     "name": "stdout",
     "output_type": "stream",
     "text": [
      "Epoch 135 tr: l 0.714 a 0.800  clct[32, 28] ans[28, 32] lr 0.064371 cl_acc 1.000000 50.036sec(train) 3.942sec(infer)\n"
     ]
    },
    {
     "name": "stdout",
     "output_type": "stream",
     "text": [
      "Epoch 135 tst: l 0.746 a 0.797  clct[20, 20] ans[20, 20] cl_acc 1.000000 2.465sec\n"
     ]
    },
    {
     "name": "stdout",
     "output_type": "stream",
     "text": [
      "Epoch 136 tr: l 0.700 a 0.806  clct[28, 32] ans[32, 28] lr 0.063727 cl_acc 1.000000 50.334sec(train) 3.983sec(infer)\n"
     ]
    },
    {
     "name": "stdout",
     "output_type": "stream",
     "text": [
      "Epoch 136 tst: l 0.744 a 0.796  clct[20, 20] ans[20, 20] cl_acc 1.000000 2.471sec\n"
     ]
    },
    {
     "name": "stdout",
     "output_type": "stream",
     "text": [
      "Epoch 137 tr: l 0.697 a 0.808  clct[32, 28] ans[28, 32] lr 0.063090 cl_acc 1.000000 52.054sec(train) 4.271sec(infer)\n"
     ]
    },
    {
     "name": "stdout",
     "output_type": "stream",
     "text": [
      "Epoch 137 tst: l 0.742 a 0.797  clct[20, 20] ans[20, 20] cl_acc 1.000000 2.615sec\n"
     ]
    },
    {
     "name": "stdout",
     "output_type": "stream",
     "text": [
      "Epoch 138 tr: l 0.684 a 0.812  clct[26, 34] ans[34, 26] lr 0.062459 cl_acc 1.000000 50.093sec(train) 4.216sec(infer)\n"
     ]
    },
    {
     "name": "stdout",
     "output_type": "stream",
     "text": [
      "Epoch 138 tst: l 0.743 a 0.796  clct[20, 20] ans[20, 20] cl_acc 1.000000 2.671sec\n"
     ]
    },
    {
     "name": "stdout",
     "output_type": "stream",
     "text": [
      "Epoch 139 tr: l 0.712 a 0.801  clct[28, 32] ans[32, 28] lr 0.061835 cl_acc 1.000000 50.556sec(train) 4.287sec(infer)\n"
     ]
    },
    {
     "name": "stdout",
     "output_type": "stream",
     "text": [
      "Epoch 139 tst: l 0.742 a 0.796  clct[20, 20] ans[20, 20] cl_acc 1.000000 2.522sec\n"
     ]
    },
    {
     "name": "stdout",
     "output_type": "stream",
     "text": [
      "Epoch 140 tr: l 0.695 a 0.807  clct[35, 25] ans[25, 35] lr 0.061216 cl_acc 1.000000 50.537sec(train) 3.880sec(infer)\n"
     ]
    },
    {
     "name": "stdout",
     "output_type": "stream",
     "text": [
      "Epoch 140 tst: l 0.739 a 0.797  clct[20, 20] ans[20, 20] cl_acc 1.000000 2.319sec\n",
      "result written at output/results.pickle\n"
     ]
    },
    {
     "name": "stdout",
     "output_type": "stream",
     "text": [
      "Epoch 141 tr: l 0.695 a 0.807  clct[31, 29] ans[29, 31] lr 0.060604 cl_acc 1.000000 43.494sec(train) 3.751sec(infer)\n"
     ]
    },
    {
     "name": "stdout",
     "output_type": "stream",
     "text": [
      "Epoch 141 tst: l 0.738 a 0.797  clct[20, 20] ans[20, 20] cl_acc 1.000000 2.293sec\n"
     ]
    },
    {
     "name": "stdout",
     "output_type": "stream",
     "text": [
      "Epoch 142 tr: l 0.708 a 0.802  clct[35, 25] ans[25, 35] lr 0.059998 cl_acc 1.000000 44.959sec(train) 3.430sec(infer)\n"
     ]
    },
    {
     "name": "stdout",
     "output_type": "stream",
     "text": [
      "Epoch 142 tst: l 0.737 a 0.799  clct[20, 20] ans[20, 20] cl_acc 1.000000 2.134sec\n"
     ]
    },
    {
     "name": "stdout",
     "output_type": "stream",
     "text": [
      "Epoch 143 tr: l 0.707 a 0.802  clct[31, 29] ans[29, 31] lr 0.059398 cl_acc 1.000000 44.637sec(train) 3.661sec(infer)\n"
     ]
    },
    {
     "name": "stdout",
     "output_type": "stream",
     "text": [
      "Epoch 143 tst: l 0.738 a 0.798  clct[20, 20] ans[20, 20] cl_acc 1.000000 2.273sec\n"
     ]
    },
    {
     "name": "stdout",
     "output_type": "stream",
     "text": [
      "Epoch 144 tr: l 0.681 a 0.811  clct[37, 23] ans[23, 37] lr 0.058804 cl_acc 1.000000 44.159sec(train) 3.784sec(infer)\n"
     ]
    },
    {
     "name": "stdout",
     "output_type": "stream",
     "text": [
      "Epoch 144 tst: l 0.735 a 0.799  clct[20, 20] ans[20, 20] cl_acc 1.000000 2.327sec\n"
     ]
    },
    {
     "name": "stdout",
     "output_type": "stream",
     "text": [
      "Epoch 145 tr: l 0.689 a 0.808  clct[26, 34] ans[34, 26] lr 0.058216 cl_acc 1.000000 43.759sec(train) 3.376sec(infer)\n"
     ]
    },
    {
     "name": "stdout",
     "output_type": "stream",
     "text": [
      "Epoch 145 tst: l 0.734 a 0.799  clct[20, 20] ans[20, 20] cl_acc 1.000000 2.090sec\n"
     ]
    },
    {
     "name": "stdout",
     "output_type": "stream",
     "text": [
      "Epoch 146 tr: l 0.693 a 0.807  clct[31, 29] ans[29, 31] lr 0.057634 cl_acc 1.000000 43.193sec(train) 3.657sec(infer)\n"
     ]
    },
    {
     "name": "stdout",
     "output_type": "stream",
     "text": [
      "Epoch 146 tst: l 0.736 a 0.798  clct[20, 20] ans[20, 20] cl_acc 1.000000 2.241sec\n"
     ]
    },
    {
     "name": "stdout",
     "output_type": "stream",
     "text": [
      "Epoch 147 tr: l 0.677 a 0.815  clct[27, 33] ans[33, 27] lr 0.057058 cl_acc 1.000000 42.801sec(train) 3.532sec(infer)\n"
     ]
    },
    {
     "name": "stdout",
     "output_type": "stream",
     "text": [
      "Epoch 147 tst: l 0.732 a 0.799  clct[20, 20] ans[20, 20] cl_acc 1.000000 2.249sec\n"
     ]
    },
    {
     "name": "stdout",
     "output_type": "stream",
     "text": [
      "Epoch 148 tr: l 0.675 a 0.815  clct[29, 31] ans[31, 29] lr 0.056487 cl_acc 1.000000 43.912sec(train) 3.865sec(infer)\n"
     ]
    },
    {
     "name": "stdout",
     "output_type": "stream",
     "text": [
      "Epoch 148 tst: l 0.734 a 0.800  clct[20, 20] ans[20, 20] cl_acc 1.000000 2.485sec\n"
     ]
    },
    {
     "name": "stdout",
     "output_type": "stream",
     "text": [
      "Epoch 149 tr: l 0.687 a 0.809  clct[28, 32] ans[32, 28] lr 0.055922 cl_acc 1.000000 45.153sec(train) 3.774sec(infer)\n"
     ]
    },
    {
     "name": "stdout",
     "output_type": "stream",
     "text": [
      "Epoch 149 tst: l 0.733 a 0.800  clct[20, 20] ans[20, 20] cl_acc 1.000000 2.436sec\n"
     ]
    },
    {
     "name": "stdout",
     "output_type": "stream",
     "text": [
      "Epoch 150 tr: l 0.685 a 0.810  clct[26, 34] ans[34, 26] lr 0.055363 cl_acc 1.000000 44.624sec(train) 3.714sec(infer)\n"
     ]
    },
    {
     "name": "stdout",
     "output_type": "stream",
     "text": [
      "Epoch 150 tst: l 0.731 a 0.799  clct[20, 20] ans[20, 20] cl_acc 1.000000 2.314sec\n",
      "result written at output/results.pickle\n"
     ]
    },
    {
     "name": "stdout",
     "output_type": "stream",
     "text": [
      "Epoch 151 tr: l 0.681 a 0.810  clct[29, 31] ans[31, 29] lr 0.054809 cl_acc 1.000000 43.718sec(train) 3.436sec(infer)\n"
     ]
    },
    {
     "name": "stdout",
     "output_type": "stream",
     "text": [
      "Epoch 151 tst: l 0.731 a 0.798  clct[20, 20] ans[20, 20] cl_acc 1.000000 2.128sec\n"
     ]
    },
    {
     "name": "stdout",
     "output_type": "stream",
     "text": [
      "Epoch 152 tr: l 0.676 a 0.814  clct[37, 23] ans[23, 37] lr 0.054261 cl_acc 1.000000 44.615sec(train) 3.758sec(infer)\n"
     ]
    },
    {
     "name": "stdout",
     "output_type": "stream",
     "text": [
      "Epoch 152 tst: l 0.728 a 0.800  clct[20, 20] ans[20, 20] cl_acc 1.000000 2.356sec\n"
     ]
    },
    {
     "name": "stdout",
     "output_type": "stream",
     "text": [
      "Epoch 153 tr: l 0.678 a 0.814  clct[33, 27] ans[27, 33] lr 0.053719 cl_acc 1.000000 43.886sec(train) 3.725sec(infer)\n"
     ]
    },
    {
     "name": "stdout",
     "output_type": "stream",
     "text": [
      "Epoch 153 tst: l 0.729 a 0.798  clct[20, 20] ans[20, 20] cl_acc 1.000000 2.307sec\n"
     ]
    },
    {
     "name": "stdout",
     "output_type": "stream",
     "text": [
      "Epoch 154 tr: l 0.695 a 0.804  clct[30, 30] ans[30, 30] lr 0.053181 cl_acc 1.000000 43.790sec(train) 3.495sec(infer)\n"
     ]
    },
    {
     "name": "stdout",
     "output_type": "stream",
     "text": [
      "Epoch 154 tst: l 0.728 a 0.799  clct[20, 20] ans[20, 20] cl_acc 1.000000 2.272sec\n"
     ]
    },
    {
     "name": "stdout",
     "output_type": "stream",
     "text": [
      "Epoch 155 tr: l 0.674 a 0.813  clct[30, 30] ans[30, 30] lr 0.052650 cl_acc 1.000000 44.357sec(train) 3.543sec(infer)\n"
     ]
    },
    {
     "name": "stdout",
     "output_type": "stream",
     "text": [
      "Epoch 155 tst: l 0.725 a 0.803  clct[20, 20] ans[20, 20] cl_acc 1.000000 2.540sec\n"
     ]
    },
    {
     "name": "stdout",
     "output_type": "stream",
     "text": [
      "Epoch 156 tr: l 0.696 a 0.804  clct[28, 32] ans[32, 28] lr 0.052123 cl_acc 1.000000 44.042sec(train) 3.438sec(infer)\n"
     ]
    },
    {
     "name": "stdout",
     "output_type": "stream",
     "text": [
      "Epoch 156 tst: l 0.726 a 0.801  clct[20, 20] ans[20, 20] cl_acc 1.000000 2.092sec\n"
     ]
    },
    {
     "name": "stdout",
     "output_type": "stream",
     "text": [
      "Epoch 157 tr: l 0.653 a 0.818  clct[28, 32] ans[32, 28] lr 0.051602 cl_acc 1.000000 43.692sec(train) 3.464sec(infer)\n"
     ]
    },
    {
     "name": "stdout",
     "output_type": "stream",
     "text": [
      "Epoch 157 tst: l 0.724 a 0.802  clct[20, 20] ans[20, 20] cl_acc 1.000000 2.094sec\n"
     ]
    },
    {
     "name": "stdout",
     "output_type": "stream",
     "text": [
      "Epoch 158 tr: l 0.667 a 0.814  clct[27, 33] ans[33, 27] lr 0.051086 cl_acc 1.000000 43.807sec(train) 3.475sec(infer)\n"
     ]
    },
    {
     "name": "stdout",
     "output_type": "stream",
     "text": [
      "Epoch 158 tst: l 0.722 a 0.802  clct[20, 20] ans[20, 20] cl_acc 1.000000 2.146sec\n"
     ]
    },
    {
     "name": "stdout",
     "output_type": "stream",
     "text": [
      "Epoch 159 tr: l 0.668 a 0.814  clct[32, 28] ans[28, 32] lr 0.050575 cl_acc 1.000000 43.682sec(train) 3.442sec(infer)\n"
     ]
    },
    {
     "name": "stdout",
     "output_type": "stream",
     "text": [
      "Epoch 159 tst: l 0.724 a 0.803  clct[20, 20] ans[20, 20] cl_acc 1.000000 2.137sec\n"
     ]
    },
    {
     "name": "stdout",
     "output_type": "stream",
     "text": [
      "Epoch 160 tr: l 0.645 a 0.821  clct[24, 36] ans[36, 24] lr 0.050069 cl_acc 1.000000 43.789sec(train) 3.422sec(infer)\n"
     ]
    },
    {
     "name": "stdout",
     "output_type": "stream",
     "text": [
      "Epoch 160 tst: l 0.721 a 0.802  clct[20, 20] ans[20, 20] cl_acc 1.000000 2.098sec\n",
      "result written at output/results.pickle\n"
     ]
    },
    {
     "name": "stdout",
     "output_type": "stream",
     "text": [
      "Epoch 161 tr: l 0.665 a 0.814  clct[27, 33] ans[33, 27] lr 0.049569 cl_acc 1.000000 43.717sec(train) 3.475sec(infer)\n"
     ]
    },
    {
     "name": "stdout",
     "output_type": "stream",
     "text": [
      "Epoch 161 tst: l 0.721 a 0.802  clct[20, 20] ans[20, 20] cl_acc 1.000000 2.135sec\n"
     ]
    },
    {
     "name": "stdout",
     "output_type": "stream",
     "text": [
      "Epoch 162 tr: l 0.682 a 0.811  clct[32, 28] ans[28, 32] lr 0.049073 cl_acc 1.000000 43.144sec(train) 3.482sec(infer)\n"
     ]
    },
    {
     "name": "stdout",
     "output_type": "stream",
     "text": [
      "Epoch 162 tst: l 0.718 a 0.804  clct[20, 20] ans[20, 20] cl_acc 1.000000 2.118sec\n"
     ]
    },
    {
     "name": "stdout",
     "output_type": "stream",
     "text": [
      "Epoch 163 tr: l 0.658 a 0.818  clct[31, 29] ans[29, 31] lr 0.048582 cl_acc 1.000000 43.730sec(train) 3.439sec(infer)\n"
     ]
    },
    {
     "name": "stdout",
     "output_type": "stream",
     "text": [
      "Epoch 163 tst: l 0.720 a 0.803  clct[20, 20] ans[20, 20] cl_acc 1.000000 2.141sec\n"
     ]
    },
    {
     "name": "stdout",
     "output_type": "stream",
     "text": [
      "Epoch 164 tr: l 0.627 a 0.831  clct[29, 31] ans[31, 29] lr 0.048096 cl_acc 1.000000 43.592sec(train) 3.458sec(infer)\n"
     ]
    },
    {
     "name": "stdout",
     "output_type": "stream",
     "text": [
      "Epoch 164 tst: l 0.716 a 0.804  clct[20, 20] ans[20, 20] cl_acc 1.000000 2.129sec\n"
     ]
    },
    {
     "name": "stdout",
     "output_type": "stream",
     "text": [
      "Epoch 165 tr: l 0.631 a 0.825  clct[29, 31] ans[31, 29] lr 0.047615 cl_acc 1.000000 43.742sec(train) 3.482sec(infer)\n"
     ]
    },
    {
     "name": "stdout",
     "output_type": "stream",
     "text": [
      "Epoch 165 tst: l 0.716 a 0.803  clct[20, 20] ans[20, 20] cl_acc 1.000000 2.156sec\n"
     ]
    },
    {
     "name": "stdout",
     "output_type": "stream",
     "text": [
      "Epoch 166 tr: l 0.642 a 0.824  clct[29, 31] ans[31, 29] lr 0.047139 cl_acc 1.000000 43.685sec(train) 3.463sec(infer)\n"
     ]
    },
    {
     "name": "stdout",
     "output_type": "stream",
     "text": [
      "Epoch 166 tst: l 0.713 a 0.803  clct[20, 20] ans[20, 20] cl_acc 1.000000 2.146sec\n"
     ]
    },
    {
     "name": "stdout",
     "output_type": "stream",
     "text": [
      "Epoch 167 tr: l 0.642 a 0.821  clct[31, 29] ans[29, 31] lr 0.046668 cl_acc 1.000000 43.814sec(train) 3.438sec(infer)\n"
     ]
    },
    {
     "name": "stdout",
     "output_type": "stream",
     "text": [
      "Epoch 167 tst: l 0.714 a 0.805  clct[20, 20] ans[20, 20] cl_acc 1.000000 2.143sec\n"
     ]
    },
    {
     "name": "stdout",
     "output_type": "stream",
     "text": [
      "Epoch 168 tr: l 0.648 a 0.821  clct[31, 29] ans[29, 31] lr 0.046201 cl_acc 1.000000 43.638sec(train) 3.455sec(infer)\n"
     ]
    },
    {
     "name": "stdout",
     "output_type": "stream",
     "text": [
      "Epoch 168 tst: l 0.714 a 0.803  clct[20, 20] ans[20, 20] cl_acc 1.000000 2.132sec\n"
     ]
    },
    {
     "name": "stdout",
     "output_type": "stream",
     "text": [
      "Epoch 169 tr: l 0.645 a 0.821  clct[26, 34] ans[34, 26] lr 0.045739 cl_acc 1.000000 43.884sec(train) 3.430sec(infer)\n"
     ]
    },
    {
     "name": "stdout",
     "output_type": "stream",
     "text": [
      "Epoch 169 tst: l 0.712 a 0.806  clct[20, 20] ans[20, 20] cl_acc 1.000000 2.081sec\n"
     ]
    },
    {
     "name": "stdout",
     "output_type": "stream",
     "text": [
      "Epoch 170 tr: l 0.631 a 0.826  clct[29, 31] ans[31, 29] lr 0.045282 cl_acc 1.000000 43.773sec(train) 3.423sec(infer)\n"
     ]
    },
    {
     "name": "stdout",
     "output_type": "stream",
     "text": [
      "Epoch 170 tst: l 0.713 a 0.803  clct[20, 20] ans[20, 20] cl_acc 1.000000 2.105sec\n",
      "result written at output/results.pickle\n"
     ]
    },
    {
     "name": "stdout",
     "output_type": "stream",
     "text": [
      "Epoch 171 tr: l 0.639 a 0.825  clct[32, 28] ans[28, 32] lr 0.044829 cl_acc 1.000000 43.673sec(train) 3.510sec(infer)\n"
     ]
    },
    {
     "name": "stdout",
     "output_type": "stream",
     "text": [
      "Epoch 171 tst: l 0.713 a 0.804  clct[20, 20] ans[20, 20] cl_acc 1.000000 2.156sec\n"
     ]
    },
    {
     "name": "stdout",
     "output_type": "stream",
     "text": [
      "Epoch 172 tr: l 0.631 a 0.826  clct[27, 33] ans[33, 27] lr 0.044381 cl_acc 1.000000 43.748sec(train) 3.504sec(infer)\n"
     ]
    },
    {
     "name": "stdout",
     "output_type": "stream",
     "text": [
      "Epoch 172 tst: l 0.712 a 0.805  clct[20, 20] ans[20, 20] cl_acc 1.000000 2.158sec\n"
     ]
    },
    {
     "name": "stdout",
     "output_type": "stream",
     "text": [
      "Epoch 173 tr: l 0.653 a 0.817  clct[27, 33] ans[33, 27] lr 0.043937 cl_acc 1.000000 43.802sec(train) 3.439sec(infer)\n"
     ]
    },
    {
     "name": "stdout",
     "output_type": "stream",
     "text": [
      "Epoch 173 tst: l 0.714 a 0.803  clct[20, 20] ans[20, 20] cl_acc 1.000000 2.105sec\n"
     ]
    },
    {
     "name": "stdout",
     "output_type": "stream",
     "text": [
      "Epoch 174 tr: l 0.618 a 0.831  clct[33, 27] ans[27, 33] lr 0.043497 cl_acc 1.000000 43.712sec(train) 3.525sec(infer)\n"
     ]
    },
    {
     "name": "stdout",
     "output_type": "stream",
     "text": [
      "Epoch 174 tst: l 0.711 a 0.805  clct[20, 20] ans[20, 20] cl_acc 1.000000 2.126sec\n"
     ]
    },
    {
     "name": "stdout",
     "output_type": "stream",
     "text": [
      "Epoch 175 tr: l 0.632 a 0.829  clct[34, 26] ans[26, 34] lr 0.043062 cl_acc 1.000000 43.657sec(train) 3.417sec(infer)\n"
     ]
    },
    {
     "name": "stdout",
     "output_type": "stream",
     "text": [
      "Epoch 175 tst: l 0.711 a 0.805  clct[20, 20] ans[20, 20] cl_acc 1.000000 2.118sec\n"
     ]
    },
    {
     "name": "stdout",
     "output_type": "stream",
     "text": [
      "Epoch 176 tr: l 0.610 a 0.833  clct[33, 27] ans[27, 33] lr 0.042632 cl_acc 1.000000 43.785sec(train) 3.472sec(infer)\n"
     ]
    },
    {
     "name": "stdout",
     "output_type": "stream",
     "text": [
      "Epoch 176 tst: l 0.709 a 0.805  clct[20, 20] ans[20, 20] cl_acc 1.000000 2.126sec\n"
     ]
    },
    {
     "name": "stdout",
     "output_type": "stream",
     "text": [
      "Epoch 177 tr: l 0.631 a 0.825  clct[31, 29] ans[29, 31] lr 0.042206 cl_acc 1.000000 43.664sec(train) 3.454sec(infer)\n"
     ]
    },
    {
     "name": "stdout",
     "output_type": "stream",
     "text": [
      "Epoch 177 tst: l 0.707 a 0.806  clct[20, 20] ans[20, 20] cl_acc 1.000000 2.119sec\n"
     ]
    },
    {
     "name": "stdout",
     "output_type": "stream",
     "text": [
      "Epoch 178 tr: l 0.643 a 0.821  clct[32, 28] ans[28, 32] lr 0.041783 cl_acc 1.000000 43.558sec(train) 3.450sec(infer)\n"
     ]
    },
    {
     "name": "stdout",
     "output_type": "stream",
     "text": [
      "Epoch 178 tst: l 0.707 a 0.806  clct[20, 20] ans[20, 20] cl_acc 1.000000 2.126sec\n"
     ]
    },
    {
     "name": "stdout",
     "output_type": "stream",
     "text": [
      "Epoch 179 tr: l 0.605 a 0.833  clct[35, 25] ans[25, 35] lr 0.041366 cl_acc 1.000000 43.484sec(train) 3.481sec(infer)\n"
     ]
    },
    {
     "name": "stdout",
     "output_type": "stream",
     "text": [
      "Epoch 179 tst: l 0.707 a 0.805  clct[20, 20] ans[20, 20] cl_acc 1.000000 2.097sec\n"
     ]
    },
    {
     "name": "stdout",
     "output_type": "stream",
     "text": [
      "Epoch 180 tr: l 0.643 a 0.820  clct[30, 30] ans[30, 30] lr 0.040952 cl_acc 1.000000 42.741sec(train) 3.462sec(infer)\n"
     ]
    },
    {
     "name": "stdout",
     "output_type": "stream",
     "text": [
      "Epoch 180 tst: l 0.706 a 0.806  clct[20, 20] ans[20, 20] cl_acc 1.000000 2.101sec\n",
      "result written at output/results.pickle\n"
     ]
    },
    {
     "name": "stdout",
     "output_type": "stream",
     "text": [
      "Epoch 181 tr: l 0.623 a 0.829  clct[33, 27] ans[27, 33] lr 0.040542 cl_acc 1.000000 42.771sec(train) 3.486sec(infer)\n"
     ]
    },
    {
     "name": "stdout",
     "output_type": "stream",
     "text": [
      "Epoch 181 tst: l 0.704 a 0.806  clct[20, 20] ans[20, 20] cl_acc 1.000000 2.103sec\n"
     ]
    },
    {
     "name": "stdout",
     "output_type": "stream",
     "text": [
      "Epoch 182 tr: l 0.650 a 0.817  clct[35, 25] ans[25, 35] lr 0.040137 cl_acc 1.000000 42.897sec(train) 3.463sec(infer)\n"
     ]
    },
    {
     "name": "stdout",
     "output_type": "stream",
     "text": [
      "Epoch 182 tst: l 0.706 a 0.806  clct[20, 20] ans[20, 20] cl_acc 1.000000 2.151sec\n"
     ]
    },
    {
     "name": "stdout",
     "output_type": "stream",
     "text": [
      "Epoch 183 tr: l 0.645 a 0.820  clct[32, 28] ans[28, 32] lr 0.039736 cl_acc 1.000000 43.524sec(train) 3.453sec(infer)\n"
     ]
    },
    {
     "name": "stdout",
     "output_type": "stream",
     "text": [
      "Epoch 183 tst: l 0.704 a 0.808  clct[20, 20] ans[20, 20] cl_acc 1.000000 2.139sec\n"
     ]
    },
    {
     "name": "stdout",
     "output_type": "stream",
     "text": [
      "Epoch 184 tr: l 0.633 a 0.826  clct[28, 32] ans[32, 28] lr 0.039338 cl_acc 1.000000 43.498sec(train) 3.518sec(infer)\n"
     ]
    },
    {
     "name": "stdout",
     "output_type": "stream",
     "text": [
      "Epoch 184 tst: l 0.704 a 0.809  clct[20, 20] ans[20, 20] cl_acc 1.000000 2.135sec\n"
     ]
    },
    {
     "name": "stdout",
     "output_type": "stream",
     "text": [
      "Epoch 185 tr: l 0.605 a 0.834  clct[31, 29] ans[29, 31] lr 0.038945 cl_acc 1.000000 43.930sec(train) 4.122sec(infer)\n"
     ]
    },
    {
     "name": "stdout",
     "output_type": "stream",
     "text": [
      "Epoch 185 tst: l 0.702 a 0.809  clct[20, 20] ans[20, 20] cl_acc 1.000000 2.494sec\n"
     ]
    },
    {
     "name": "stdout",
     "output_type": "stream",
     "text": [
      "Epoch 186 tr: l 0.612 a 0.830  clct[34, 26] ans[26, 34] lr 0.038555 cl_acc 1.000000 49.975sec(train) 3.690sec(infer)\n"
     ]
    },
    {
     "name": "stdout",
     "output_type": "stream",
     "text": [
      "Epoch 186 tst: l 0.703 a 0.808  clct[20, 20] ans[20, 20] cl_acc 1.000000 2.458sec\n"
     ]
    },
    {
     "name": "stdout",
     "output_type": "stream",
     "text": [
      "Epoch 187 tr: l 0.623 a 0.830  clct[29, 31] ans[31, 29] lr 0.038170 cl_acc 1.000000 44.295sec(train) 3.550sec(infer)\n"
     ]
    },
    {
     "name": "stdout",
     "output_type": "stream",
     "text": [
      "Epoch 187 tst: l 0.701 a 0.810  clct[20, 20] ans[20, 20] cl_acc 1.000000 2.193sec\n"
     ]
    },
    {
     "name": "stdout",
     "output_type": "stream",
     "text": [
      "Epoch 188 tr: l 0.630 a 0.824  clct[30, 30] ans[30, 30] lr 0.037788 cl_acc 1.000000 43.601sec(train) 3.432sec(infer)\n"
     ]
    },
    {
     "name": "stdout",
     "output_type": "stream",
     "text": [
      "Epoch 188 tst: l 0.698 a 0.811  clct[20, 20] ans[20, 20] cl_acc 1.000000 2.091sec\n"
     ]
    },
    {
     "name": "stdout",
     "output_type": "stream",
     "text": [
      "Epoch 189 tr: l 0.610 a 0.833  clct[29, 31] ans[31, 29] lr 0.037410 cl_acc 1.000000 43.692sec(train) 3.473sec(infer)\n"
     ]
    },
    {
     "name": "stdout",
     "output_type": "stream",
     "text": [
      "Epoch 189 tst: l 0.698 a 0.810  clct[20, 20] ans[20, 20] cl_acc 1.000000 2.120sec\n"
     ]
    },
    {
     "name": "stdout",
     "output_type": "stream",
     "text": [
      "Epoch 190 tr: l 0.620 a 0.828  clct[24, 36] ans[36, 24] lr 0.037036 cl_acc 1.000000 43.655sec(train) 3.488sec(infer)\n"
     ]
    },
    {
     "name": "stdout",
     "output_type": "stream",
     "text": [
      "Epoch 190 tst: l 0.698 a 0.808  clct[20, 20] ans[20, 20] cl_acc 1.000000 2.174sec\n",
      "result written at output/results.pickle\n"
     ]
    },
    {
     "name": "stdout",
     "output_type": "stream",
     "text": [
      "Epoch 191 tr: l 0.607 a 0.833  clct[29, 31] ans[31, 29] lr 0.036666 cl_acc 1.000000 43.565sec(train) 3.449sec(infer)\n"
     ]
    },
    {
     "name": "stdout",
     "output_type": "stream",
     "text": [
      "Epoch 191 tst: l 0.698 a 0.810  clct[20, 20] ans[20, 20] cl_acc 1.000000 2.137sec\n"
     ]
    },
    {
     "name": "stdout",
     "output_type": "stream",
     "text": [
      "Epoch 192 tr: l 0.589 a 0.838  clct[29, 31] ans[31, 29] lr 0.036299 cl_acc 1.000000 43.615sec(train) 3.448sec(infer)\n"
     ]
    },
    {
     "name": "stdout",
     "output_type": "stream",
     "text": [
      "Epoch 192 tst: l 0.701 a 0.810  clct[20, 20] ans[20, 20] cl_acc 1.000000 2.143sec\n"
     ]
    },
    {
     "name": "stdout",
     "output_type": "stream",
     "text": [
      "Epoch 193 tr: l 0.605 a 0.831  clct[35, 25] ans[25, 35] lr 0.035936 cl_acc 1.000000 43.579sec(train) 3.418sec(infer)\n"
     ]
    },
    {
     "name": "stdout",
     "output_type": "stream",
     "text": [
      "Epoch 193 tst: l 0.698 a 0.809  clct[20, 20] ans[20, 20] cl_acc 1.000000 2.168sec\n"
     ]
    },
    {
     "name": "stdout",
     "output_type": "stream",
     "text": [
      "Epoch 194 tr: l 0.621 a 0.829  clct[29, 31] ans[31, 29] lr 0.035577 cl_acc 1.000000 43.583sec(train) 3.569sec(infer)\n"
     ]
    },
    {
     "name": "stdout",
     "output_type": "stream",
     "text": [
      "Epoch 194 tst: l 0.697 a 0.811  clct[20, 20] ans[20, 20] cl_acc 1.000000 2.186sec\n"
     ]
    },
    {
     "name": "stdout",
     "output_type": "stream",
     "text": [
      "Epoch 195 tr: l 0.601 a 0.835  clct[27, 33] ans[33, 27] lr 0.035221 cl_acc 1.000000 43.501sec(train) 3.535sec(infer)\n"
     ]
    },
    {
     "name": "stdout",
     "output_type": "stream",
     "text": [
      "Epoch 195 tst: l 0.698 a 0.809  clct[20, 20] ans[20, 20] cl_acc 1.000000 2.194sec\n"
     ]
    },
    {
     "name": "stdout",
     "output_type": "stream",
     "text": [
      "Epoch 196 tr: l 0.608 a 0.832  clct[24, 36] ans[36, 24] lr 0.034869 cl_acc 1.000000 43.491sec(train) 3.485sec(infer)\n"
     ]
    },
    {
     "name": "stdout",
     "output_type": "stream",
     "text": [
      "Epoch 196 tst: l 0.694 a 0.810  clct[20, 20] ans[20, 20] cl_acc 1.000000 2.180sec\n"
     ]
    },
    {
     "name": "stdout",
     "output_type": "stream",
     "text": [
      "Epoch 197 tr: l 0.617 a 0.830  clct[34, 26] ans[26, 34] lr 0.034520 cl_acc 1.000000 43.657sec(train) 3.508sec(infer)\n"
     ]
    },
    {
     "name": "stdout",
     "output_type": "stream",
     "text": [
      "Epoch 197 tst: l 0.695 a 0.810  clct[20, 20] ans[20, 20] cl_acc 1.000000 2.178sec\n"
     ]
    },
    {
     "name": "stdout",
     "output_type": "stream",
     "text": [
      "Epoch 198 tr: l 0.607 a 0.834  clct[31, 29] ans[29, 31] lr 0.034175 cl_acc 1.000000 43.474sec(train) 3.460sec(infer)\n"
     ]
    },
    {
     "name": "stdout",
     "output_type": "stream",
     "text": [
      "Epoch 198 tst: l 0.692 a 0.810  clct[20, 20] ans[20, 20] cl_acc 1.000000 2.181sec\n"
     ]
    },
    {
     "name": "stdout",
     "output_type": "stream",
     "text": [
      "Epoch 199 tr: l 0.604 a 0.832  clct[26, 34] ans[34, 26] lr 0.033833 cl_acc 1.000000 43.552sec(train) 3.495sec(infer)\n"
     ]
    },
    {
     "name": "stdout",
     "output_type": "stream",
     "text": [
      "Epoch 199 tst: l 0.692 a 0.812  clct[20, 20] ans[20, 20] cl_acc 1.000000 2.167sec\n"
     ]
    },
    {
     "name": "stdout",
     "output_type": "stream",
     "text": [
      "Epoch 200 tr: l 0.592 a 0.837  clct[29, 31] ans[31, 29] lr 0.033495 cl_acc 1.000000 43.652sec(train) 3.450sec(infer)\n"
     ]
    },
    {
     "name": "stdout",
     "output_type": "stream",
     "text": [
      "Epoch 200 tst: l 0.693 a 0.809  clct[20, 20] ans[20, 20] cl_acc 1.000000 2.143sec\n",
      "result written at output/results.pickle\n"
     ]
    },
    {
     "name": "stdout",
     "output_type": "stream",
     "text": [
      "Epoch 201 tr: l 0.600 a 0.835  clct[22, 38] ans[38, 22] lr 0.033160 cl_acc 1.000000 43.566sec(train) 3.501sec(infer)\n"
     ]
    },
    {
     "name": "stdout",
     "output_type": "stream",
     "text": [
      "Epoch 201 tst: l 0.695 a 0.811  clct[20, 20] ans[20, 20] cl_acc 1.000000 2.173sec\n"
     ]
    },
    {
     "name": "stdout",
     "output_type": "stream",
     "text": [
      "Epoch 202 tr: l 0.595 a 0.836  clct[25, 35] ans[35, 25] lr 0.032828 cl_acc 1.000000 43.672sec(train) 3.478sec(infer)\n"
     ]
    },
    {
     "name": "stdout",
     "output_type": "stream",
     "text": [
      "Epoch 202 tst: l 0.693 a 0.811  clct[20, 20] ans[20, 20] cl_acc 1.000000 2.152sec\n"
     ]
    },
    {
     "name": "stdout",
     "output_type": "stream",
     "text": [
      "Epoch 203 tr: l 0.602 a 0.833  clct[32, 28] ans[28, 32] lr 0.032500 cl_acc 1.000000 43.526sec(train) 3.580sec(infer)\n"
     ]
    },
    {
     "name": "stdout",
     "output_type": "stream",
     "text": [
      "Epoch 203 tst: l 0.693 a 0.811  clct[20, 20] ans[20, 20] cl_acc 1.000000 2.135sec\n"
     ]
    },
    {
     "name": "stdout",
     "output_type": "stream",
     "text": [
      "Epoch 204 tr: l 0.572 a 0.844  clct[38, 22] ans[22, 38] lr 0.032175 cl_acc 1.000000 43.500sec(train) 3.494sec(infer)\n"
     ]
    },
    {
     "name": "stdout",
     "output_type": "stream",
     "text": [
      "Epoch 204 tst: l 0.691 a 0.812  clct[20, 20] ans[20, 20] cl_acc 1.000000 2.163sec\n"
     ]
    },
    {
     "name": "stdout",
     "output_type": "stream",
     "text": [
      "Epoch 205 tr: l 0.601 a 0.833  clct[33, 27] ans[27, 33] lr 0.031853 cl_acc 1.000000 43.508sec(train) 3.436sec(infer)\n"
     ]
    },
    {
     "name": "stdout",
     "output_type": "stream",
     "text": [
      "Epoch 205 tst: l 0.691 a 0.811  clct[20, 20] ans[20, 20] cl_acc 1.000000 2.122sec\n"
     ]
    },
    {
     "name": "stdout",
     "output_type": "stream",
     "text": [
      "Epoch 206 tr: l 0.584 a 0.842  clct[30, 30] ans[30, 30] lr 0.031535 cl_acc 1.000000 43.492sec(train) 3.464sec(infer)\n"
     ]
    },
    {
     "name": "stdout",
     "output_type": "stream",
     "text": [
      "Epoch 206 tst: l 0.691 a 0.810  clct[20, 20] ans[20, 20] cl_acc 1.000000 2.145sec\n"
     ]
    },
    {
     "name": "stdout",
     "output_type": "stream",
     "text": [
      "Epoch 207 tr: l 0.600 a 0.835  clct[32, 28] ans[28, 32] lr 0.031219 cl_acc 1.000000 43.567sec(train) 3.544sec(infer)\n"
     ]
    },
    {
     "name": "stdout",
     "output_type": "stream",
     "text": [
      "Epoch 207 tst: l 0.689 a 0.811  clct[20, 20] ans[20, 20] cl_acc 1.000000 2.131sec\n"
     ]
    },
    {
     "name": "stdout",
     "output_type": "stream",
     "text": [
      "Epoch 208 tr: l 0.590 a 0.839  clct[33, 27] ans[27, 33] lr 0.030907 cl_acc 1.000000 43.573sec(train) 3.508sec(infer)\n"
     ]
    },
    {
     "name": "stdout",
     "output_type": "stream",
     "text": [
      "Epoch 208 tst: l 0.691 a 0.811  clct[20, 20] ans[20, 20] cl_acc 1.000000 2.137sec\n"
     ]
    },
    {
     "name": "stdout",
     "output_type": "stream",
     "text": [
      "Epoch 209 tr: l 0.583 a 0.840  clct[32, 28] ans[28, 32] lr 0.030598 cl_acc 1.000000 42.692sec(train) 3.499sec(infer)\n"
     ]
    },
    {
     "name": "stdout",
     "output_type": "stream",
     "text": [
      "Epoch 209 tst: l 0.688 a 0.811  clct[20, 20] ans[20, 20] cl_acc 1.000000 2.153sec\n"
     ]
    },
    {
     "name": "stdout",
     "output_type": "stream",
     "text": [
      "Epoch 210 tr: l 0.597 a 0.835  clct[28, 32] ans[32, 28] lr 0.030292 cl_acc 1.000000 42.802sec(train) 3.518sec(infer)\n"
     ]
    },
    {
     "name": "stdout",
     "output_type": "stream",
     "text": [
      "Epoch 210 tst: l 0.691 a 0.812  clct[20, 20] ans[20, 20] cl_acc 1.000000 2.207sec\n",
      "result written at output/results.pickle\n"
     ]
    },
    {
     "name": "stdout",
     "output_type": "stream",
     "text": [
      "Epoch 211 tr: l 0.576 a 0.842  clct[31, 29] ans[29, 31] lr 0.029989 cl_acc 1.000000 43.669sec(train) 3.491sec(infer)\n"
     ]
    },
    {
     "name": "stdout",
     "output_type": "stream",
     "text": [
      "Epoch 211 tst: l 0.690 a 0.811  clct[20, 20] ans[20, 20] cl_acc 1.000000 2.173sec\n"
     ]
    },
    {
     "name": "stdout",
     "output_type": "stream",
     "text": [
      "Epoch 212 tr: l 0.601 a 0.832  clct[31, 29] ans[29, 31] lr 0.029689 cl_acc 1.000000 43.644sec(train) 3.468sec(infer)\n"
     ]
    },
    {
     "name": "stdout",
     "output_type": "stream",
     "text": [
      "Epoch 212 tst: l 0.691 a 0.811  clct[20, 20] ans[20, 20] cl_acc 1.000000 2.175sec\n"
     ]
    },
    {
     "name": "stdout",
     "output_type": "stream",
     "text": [
      "Epoch 213 tr: l 0.572 a 0.842  clct[34, 26] ans[26, 34] lr 0.029392 cl_acc 1.000000 43.549sec(train) 3.530sec(infer)\n"
     ]
    },
    {
     "name": "stdout",
     "output_type": "stream",
     "text": [
      "Epoch 213 tst: l 0.690 a 0.811  clct[20, 20] ans[20, 20] cl_acc 1.000000 2.138sec\n"
     ]
    },
    {
     "name": "stdout",
     "output_type": "stream",
     "text": [
      "Epoch 214 tr: l 0.581 a 0.842  clct[31, 29] ans[29, 31] lr 0.029099 cl_acc 1.000000 43.612sec(train) 3.508sec(infer)\n"
     ]
    },
    {
     "name": "stdout",
     "output_type": "stream",
     "text": [
      "Epoch 214 tst: l 0.691 a 0.813  clct[20, 20] ans[20, 20] cl_acc 1.000000 2.144sec\n"
     ]
    },
    {
     "name": "stdout",
     "output_type": "stream",
     "text": [
      "Epoch 215 tr: l 0.585 a 0.840  clct[31, 29] ans[29, 31] lr 0.028808 cl_acc 1.000000 43.464sec(train) 3.492sec(infer)\n"
     ]
    },
    {
     "name": "stdout",
     "output_type": "stream",
     "text": [
      "Epoch 215 tst: l 0.691 a 0.811  clct[20, 20] ans[20, 20] cl_acc 1.000000 2.149sec\n"
     ]
    },
    {
     "name": "stdout",
     "output_type": "stream",
     "text": [
      "Epoch 216 tr: l 0.564 a 0.846  clct[34, 26] ans[26, 34] lr 0.028520 cl_acc 1.000000 43.610sec(train) 3.461sec(infer)\n"
     ]
    },
    {
     "name": "stdout",
     "output_type": "stream",
     "text": [
      "Epoch 216 tst: l 0.686 a 0.813  clct[20, 20] ans[20, 20] cl_acc 1.000000 2.155sec\n"
     ]
    },
    {
     "name": "stdout",
     "output_type": "stream",
     "text": [
      "Epoch 217 tr: l 0.570 a 0.847  clct[33, 27] ans[27, 33] lr 0.028234 cl_acc 1.000000 43.506sec(train) 3.470sec(infer)\n"
     ]
    },
    {
     "name": "stdout",
     "output_type": "stream",
     "text": [
      "Epoch 217 tst: l 0.689 a 0.811  clct[20, 20] ans[20, 20] cl_acc 1.000000 2.146sec\n"
     ]
    },
    {
     "name": "stdout",
     "output_type": "stream",
     "text": [
      "Epoch 218 tr: l 0.560 a 0.848  clct[34, 26] ans[26, 34] lr 0.027952 cl_acc 1.000000 43.477sec(train) 3.452sec(infer)\n"
     ]
    },
    {
     "name": "stdout",
     "output_type": "stream",
     "text": [
      "Epoch 218 tst: l 0.688 a 0.813  clct[20, 20] ans[20, 20] cl_acc 1.000000 2.114sec\n"
     ]
    },
    {
     "name": "stdout",
     "output_type": "stream",
     "text": [
      "Epoch 219 tr: l 0.563 a 0.846  clct[35, 25] ans[25, 35] lr 0.027672 cl_acc 1.000000 43.646sec(train) 3.564sec(infer)\n"
     ]
    },
    {
     "name": "stdout",
     "output_type": "stream",
     "text": [
      "Epoch 219 tst: l 0.690 a 0.813  clct[20, 20] ans[20, 20] cl_acc 1.000000 2.146sec\n"
     ]
    },
    {
     "name": "stdout",
     "output_type": "stream",
     "text": [
      "Epoch 220 tr: l 0.575 a 0.842  clct[32, 28] ans[28, 32] lr 0.027396 cl_acc 1.000000 43.647sec(train) 3.496sec(infer)\n"
     ]
    },
    {
     "name": "stdout",
     "output_type": "stream",
     "text": [
      "Epoch 220 tst: l 0.688 a 0.813  clct[20, 20] ans[20, 20] cl_acc 1.000000 2.186sec\n",
      "result written at output/results.pickle\n"
     ]
    },
    {
     "name": "stdout",
     "output_type": "stream",
     "text": [
      "Epoch 221 tr: l 0.565 a 0.846  clct[32, 28] ans[28, 32] lr 0.027122 cl_acc 1.000000 43.530sec(train) 3.479sec(infer)\n"
     ]
    },
    {
     "name": "stdout",
     "output_type": "stream",
     "text": [
      "Epoch 221 tst: l 0.686 a 0.812  clct[20, 20] ans[20, 20] cl_acc 1.000000 2.170sec\n"
     ]
    },
    {
     "name": "stdout",
     "output_type": "stream",
     "text": [
      "Epoch 222 tr: l 0.579 a 0.841  clct[29, 31] ans[31, 29] lr 0.026851 cl_acc 1.000000 43.594sec(train) 3.514sec(infer)\n"
     ]
    },
    {
     "name": "stdout",
     "output_type": "stream",
     "text": [
      "Epoch 222 tst: l 0.686 a 0.811  clct[20, 20] ans[20, 20] cl_acc 1.000000 2.158sec\n"
     ]
    },
    {
     "name": "stdout",
     "output_type": "stream",
     "text": [
      "Epoch 223 tr: l 0.547 a 0.851  clct[30, 30] ans[30, 30] lr 0.026582 cl_acc 1.000000 43.568sec(train) 3.459sec(infer)\n"
     ]
    },
    {
     "name": "stdout",
     "output_type": "stream",
     "text": [
      "Epoch 223 tst: l 0.686 a 0.812  clct[20, 20] ans[20, 20] cl_acc 1.000000 2.126sec\n"
     ]
    },
    {
     "name": "stdout",
     "output_type": "stream",
     "text": [
      "Epoch 224 tr: l 0.578 a 0.843  clct[28, 32] ans[32, 28] lr 0.026316 cl_acc 1.000000 43.478sec(train) 3.461sec(infer)\n"
     ]
    },
    {
     "name": "stdout",
     "output_type": "stream",
     "text": [
      "Epoch 224 tst: l 0.687 a 0.813  clct[20, 20] ans[20, 20] cl_acc 1.000000 2.111sec\n"
     ]
    },
    {
     "name": "stdout",
     "output_type": "stream",
     "text": [
      "Epoch 225 tr: l 0.583 a 0.838  clct[26, 34] ans[34, 26] lr 0.026053 cl_acc 1.000000 43.592sec(train) 3.454sec(infer)\n"
     ]
    },
    {
     "name": "stdout",
     "output_type": "stream",
     "text": [
      "Epoch 225 tst: l 0.689 a 0.810  clct[20, 20] ans[20, 20] cl_acc 1.000000 2.141sec\n"
     ]
    },
    {
     "name": "stdout",
     "output_type": "stream",
     "text": [
      "Epoch 226 tr: l 0.579 a 0.841  clct[31, 29] ans[29, 31] lr 0.025793 cl_acc 1.000000 43.658sec(train) 3.498sec(infer)\n"
     ]
    },
    {
     "name": "stdout",
     "output_type": "stream",
     "text": [
      "Epoch 226 tst: l 0.687 a 0.813  clct[20, 20] ans[20, 20] cl_acc 1.000000 2.142sec\n"
     ]
    },
    {
     "name": "stdout",
     "output_type": "stream",
     "text": [
      "Epoch 227 tr: l 0.558 a 0.847  clct[31, 29] ans[29, 31] lr 0.025535 cl_acc 1.000000 43.657sec(train) 3.456sec(infer)\n"
     ]
    },
    {
     "name": "stdout",
     "output_type": "stream",
     "text": [
      "Epoch 227 tst: l 0.685 a 0.813  clct[20, 20] ans[20, 20] cl_acc 1.000000 2.134sec\n"
     ]
    },
    {
     "name": "stdout",
     "output_type": "stream",
     "text": [
      "Epoch 228 tr: l 0.555 a 0.847  clct[27, 33] ans[33, 27] lr 0.025279 cl_acc 1.000000 43.572sec(train) 3.454sec(infer)\n"
     ]
    },
    {
     "name": "stdout",
     "output_type": "stream",
     "text": [
      "Epoch 228 tst: l 0.688 a 0.812  clct[20, 20] ans[20, 20] cl_acc 1.000000 2.101sec\n"
     ]
    },
    {
     "name": "stdout",
     "output_type": "stream",
     "text": [
      "Epoch 229 tr: l 0.575 a 0.841  clct[27, 33] ans[33, 27] lr 0.025026 cl_acc 1.000000 43.704sec(train) 3.474sec(infer)\n"
     ]
    },
    {
     "name": "stdout",
     "output_type": "stream",
     "text": [
      "Epoch 229 tst: l 0.688 a 0.812  clct[20, 20] ans[20, 20] cl_acc 1.000000 2.184sec\n"
     ]
    },
    {
     "name": "stdout",
     "output_type": "stream",
     "text": [
      "Epoch 230 tr: l 0.565 a 0.846  clct[32, 28] ans[28, 32] lr 0.024776 cl_acc 1.000000 43.654sec(train) 3.386sec(infer)\n"
     ]
    },
    {
     "name": "stdout",
     "output_type": "stream",
     "text": [
      "Epoch 230 tst: l 0.687 a 0.815  clct[20, 20] ans[20, 20] cl_acc 1.000000 2.165sec\n",
      "result written at output/results.pickle\n"
     ]
    },
    {
     "name": "stdout",
     "output_type": "stream",
     "text": [
      "Epoch 231 tr: l 0.554 a 0.848  clct[34, 26] ans[26, 34] lr 0.024528 cl_acc 1.000000 43.618sec(train) 3.513sec(infer)\n"
     ]
    },
    {
     "name": "stdout",
     "output_type": "stream",
     "text": [
      "Epoch 231 tst: l 0.685 a 0.813  clct[20, 20] ans[20, 20] cl_acc 1.000000 2.157sec\n"
     ]
    },
    {
     "name": "stdout",
     "output_type": "stream",
     "text": [
      "Epoch 232 tr: l 0.572 a 0.841  clct[32, 28] ans[28, 32] lr 0.024283 cl_acc 1.000000 43.672sec(train) 3.507sec(infer)\n"
     ]
    },
    {
     "name": "stdout",
     "output_type": "stream",
     "text": [
      "Epoch 232 tst: l 0.684 a 0.813  clct[20, 20] ans[20, 20] cl_acc 1.000000 2.160sec\n"
     ]
    },
    {
     "name": "stdout",
     "output_type": "stream",
     "text": [
      "Epoch 233 tr: l 0.564 a 0.848  clct[27, 33] ans[33, 27] lr 0.024040 cl_acc 1.000000 43.586sec(train) 3.492sec(infer)\n"
     ]
    },
    {
     "name": "stdout",
     "output_type": "stream",
     "text": [
      "Epoch 233 tst: l 0.682 a 0.815  clct[20, 20] ans[20, 20] cl_acc 1.000000 2.168sec\n"
     ]
    },
    {
     "name": "stdout",
     "output_type": "stream",
     "text": [
      "Epoch 234 tr: l 0.576 a 0.841  clct[31, 29] ans[29, 31] lr 0.023800 cl_acc 1.000000 43.304sec(train) 3.500sec(infer)\n"
     ]
    },
    {
     "name": "stdout",
     "output_type": "stream",
     "text": [
      "Epoch 234 tst: l 0.682 a 0.815  clct[20, 20] ans[20, 20] cl_acc 1.000000 2.140sec\n"
     ]
    },
    {
     "name": "stdout",
     "output_type": "stream",
     "text": [
      "Epoch 235 tr: l 0.575 a 0.841  clct[37, 23] ans[23, 37] lr 0.023562 cl_acc 1.000000 43.522sec(train) 3.431sec(infer)\n"
     ]
    },
    {
     "name": "stdout",
     "output_type": "stream",
     "text": [
      "Epoch 235 tst: l 0.683 a 0.815  clct[20, 20] ans[20, 20] cl_acc 1.000000 2.097sec\n"
     ]
    },
    {
     "name": "stdout",
     "output_type": "stream",
     "text": [
      "Epoch 236 tr: l 0.554 a 0.850  clct[29, 31] ans[31, 29] lr 0.023326 cl_acc 1.000000 43.625sec(train) 3.417sec(infer)\n"
     ]
    },
    {
     "name": "stdout",
     "output_type": "stream",
     "text": [
      "Epoch 236 tst: l 0.682 a 0.816  clct[20, 20] ans[20, 20] cl_acc 1.000000 2.177sec\n"
     ]
    },
    {
     "name": "stdout",
     "output_type": "stream",
     "text": [
      "Epoch 237 tr: l 0.562 a 0.845  clct[34, 26] ans[26, 34] lr 0.023093 cl_acc 1.000000 42.731sec(train) 3.505sec(infer)\n"
     ]
    },
    {
     "name": "stdout",
     "output_type": "stream",
     "text": [
      "Epoch 237 tst: l 0.681 a 0.815  clct[20, 20] ans[20, 20] cl_acc 1.000000 2.146sec\n"
     ]
    },
    {
     "name": "stdout",
     "output_type": "stream",
     "text": [
      "Epoch 238 tr: l 0.543 a 0.853  clct[28, 32] ans[32, 28] lr 0.022862 cl_acc 1.000000 43.606sec(train) 3.481sec(infer)\n"
     ]
    },
    {
     "name": "stdout",
     "output_type": "stream",
     "text": [
      "Epoch 238 tst: l 0.681 a 0.816  clct[20, 20] ans[20, 20] cl_acc 1.000000 2.174sec\n"
     ]
    },
    {
     "name": "stdout",
     "output_type": "stream",
     "text": [
      "Epoch 239 tr: l 0.521 a 0.858  clct[29, 31] ans[31, 29] lr 0.022633 cl_acc 1.000000 43.723sec(train) 3.465sec(infer)\n"
     ]
    },
    {
     "name": "stdout",
     "output_type": "stream",
     "text": [
      "Epoch 239 tst: l 0.679 a 0.815  clct[20, 20] ans[20, 20] cl_acc 1.000000 2.100sec\n"
     ]
    },
    {
     "name": "stdout",
     "output_type": "stream",
     "text": [
      "Epoch 240 tr: l 0.554 a 0.848  clct[24, 36] ans[36, 24] lr 0.022407 cl_acc 1.000000 43.597sec(train) 3.466sec(infer)\n"
     ]
    },
    {
     "name": "stdout",
     "output_type": "stream",
     "text": [
      "Epoch 240 tst: l 0.680 a 0.816  clct[20, 20] ans[20, 20] cl_acc 1.000000 2.102sec\n",
      "result written at output/results.pickle\n"
     ]
    },
    {
     "name": "stdout",
     "output_type": "stream",
     "text": [
      "Epoch 241 tr: l 0.532 a 0.857  clct[27, 33] ans[33, 27] lr 0.022183 cl_acc 1.000000 43.582sec(train) 3.514sec(infer)\n"
     ]
    },
    {
     "name": "stdout",
     "output_type": "stream",
     "text": [
      "Epoch 241 tst: l 0.680 a 0.815  clct[20, 20] ans[20, 20] cl_acc 1.000000 2.181sec\n"
     ]
    },
    {
     "name": "stdout",
     "output_type": "stream",
     "text": [
      "Epoch 242 tr: l 0.537 a 0.852  clct[33, 27] ans[27, 33] lr 0.021961 cl_acc 1.000000 43.177sec(train) 3.429sec(infer)\n"
     ]
    },
    {
     "name": "stdout",
     "output_type": "stream",
     "text": [
      "Epoch 242 tst: l 0.681 a 0.816  clct[20, 20] ans[20, 20] cl_acc 1.000000 2.182sec\n"
     ]
    },
    {
     "name": "stdout",
     "output_type": "stream",
     "text": [
      "Epoch 243 tr: l 0.538 a 0.853  clct[25, 35] ans[35, 25] lr 0.021742 cl_acc 1.000000 43.579sec(train) 3.487sec(infer)\n"
     ]
    },
    {
     "name": "stdout",
     "output_type": "stream",
     "text": [
      "Epoch 243 tst: l 0.680 a 0.815  clct[20, 20] ans[20, 20] cl_acc 1.000000 2.162sec\n"
     ]
    },
    {
     "name": "stdout",
     "output_type": "stream",
     "text": [
      "Epoch 244 tr: l 0.544 a 0.851  clct[26, 34] ans[34, 26] lr 0.021524 cl_acc 1.000000 43.632sec(train) 3.431sec(infer)\n"
     ]
    },
    {
     "name": "stdout",
     "output_type": "stream",
     "text": [
      "Epoch 244 tst: l 0.680 a 0.815  clct[20, 20] ans[20, 20] cl_acc 1.000000 2.142sec\n"
     ]
    },
    {
     "name": "stdout",
     "output_type": "stream",
     "text": [
      "Epoch 245 tr: l 0.545 a 0.852  clct[33, 27] ans[27, 33] lr 0.021309 cl_acc 1.000000 43.645sec(train) 3.412sec(infer)\n"
     ]
    },
    {
     "name": "stdout",
     "output_type": "stream",
     "text": [
      "Epoch 245 tst: l 0.679 a 0.816  clct[20, 20] ans[20, 20] cl_acc 1.000000 2.159sec\n"
     ]
    },
    {
     "name": "stdout",
     "output_type": "stream",
     "text": [
      "Epoch 246 tr: l 0.538 a 0.853  clct[33, 27] ans[27, 33] lr 0.021096 cl_acc 1.000000 43.536sec(train) 3.540sec(infer)\n"
     ]
    },
    {
     "name": "stdout",
     "output_type": "stream",
     "text": [
      "Epoch 246 tst: l 0.679 a 0.817  clct[20, 20] ans[20, 20] cl_acc 1.000000 2.137sec\n"
     ]
    },
    {
     "name": "stdout",
     "output_type": "stream",
     "text": [
      "Epoch 247 tr: l 0.549 a 0.850  clct[31, 29] ans[29, 31] lr 0.020885 cl_acc 1.000000 43.552sec(train) 3.438sec(infer)\n"
     ]
    },
    {
     "name": "stdout",
     "output_type": "stream",
     "text": [
      "Epoch 247 tst: l 0.678 a 0.816  clct[20, 20] ans[20, 20] cl_acc 1.000000 2.158sec\n"
     ]
    },
    {
     "name": "stdout",
     "output_type": "stream",
     "text": [
      "Epoch 248 tr: l 0.536 a 0.855  clct[30, 30] ans[30, 30] lr 0.020676 cl_acc 1.000000 43.469sec(train) 3.499sec(infer)\n"
     ]
    },
    {
     "name": "stdout",
     "output_type": "stream",
     "text": [
      "Epoch 248 tst: l 0.678 a 0.815  clct[20, 20] ans[20, 20] cl_acc 1.000000 2.113sec\n"
     ]
    },
    {
     "name": "stdout",
     "output_type": "stream",
     "text": [
      "Epoch 249 tr: l 0.510 a 0.863  clct[26, 34] ans[34, 26] lr 0.020469 cl_acc 1.000000 43.387sec(train) 3.467sec(infer)\n"
     ]
    },
    {
     "name": "stdout",
     "output_type": "stream",
     "text": [
      "Epoch 249 tst: l 0.679 a 0.816  clct[20, 20] ans[20, 20] cl_acc 1.000000 2.162sec\n"
     ]
    },
    {
     "name": "stdout",
     "output_type": "stream",
     "text": [
      "Epoch 250 tr: l 0.559 a 0.846  clct[32, 28] ans[28, 32] lr 0.020265 cl_acc 1.000000 43.505sec(train) 3.522sec(infer)\n"
     ]
    },
    {
     "name": "stdout",
     "output_type": "stream",
     "text": [
      "Epoch 250 tst: l 0.677 a 0.816  clct[20, 20] ans[20, 20] cl_acc 1.000000 2.153sec\n",
      "result written at output/results.pickle\n"
     ]
    },
    {
     "name": "stdout",
     "output_type": "stream",
     "text": [
      "Epoch 251 tr: l 0.523 a 0.859  clct[27, 33] ans[33, 27] lr 0.020062 cl_acc 1.000000 43.548sec(train) 3.525sec(infer)\n"
     ]
    },
    {
     "name": "stdout",
     "output_type": "stream",
     "text": [
      "Epoch 251 tst: l 0.677 a 0.816  clct[20, 20] ans[20, 20] cl_acc 1.000000 2.209sec\n"
     ]
    },
    {
     "name": "stdout",
     "output_type": "stream",
     "text": [
      "Epoch 252 tr: l 0.530 a 0.857  clct[32, 28] ans[28, 32] lr 0.019861 cl_acc 1.000000 43.576sec(train) 3.476sec(infer)\n"
     ]
    },
    {
     "name": "stdout",
     "output_type": "stream",
     "text": [
      "Epoch 252 tst: l 0.676 a 0.818  clct[20, 20] ans[20, 20] cl_acc 1.000000 2.124sec\n"
     ]
    },
    {
     "name": "stdout",
     "output_type": "stream",
     "text": [
      "Epoch 253 tr: l 0.527 a 0.856  clct[31, 29] ans[29, 31] lr 0.019663 cl_acc 1.000000 43.513sec(train) 3.513sec(infer)\n"
     ]
    },
    {
     "name": "stdout",
     "output_type": "stream",
     "text": [
      "Epoch 253 tst: l 0.677 a 0.817  clct[20, 20] ans[20, 20] cl_acc 1.000000 2.128sec\n"
     ]
    },
    {
     "name": "stdout",
     "output_type": "stream",
     "text": [
      "Epoch 254 tr: l 0.529 a 0.858  clct[32, 28] ans[28, 32] lr 0.019466 cl_acc 1.000000 43.622sec(train) 3.486sec(infer)\n"
     ]
    },
    {
     "name": "stdout",
     "output_type": "stream",
     "text": [
      "Epoch 254 tst: l 0.679 a 0.817  clct[20, 20] ans[20, 20] cl_acc 1.000000 2.165sec\n"
     ]
    },
    {
     "name": "stdout",
     "output_type": "stream",
     "text": [
      "Epoch 255 tr: l 0.539 a 0.852  clct[32, 28] ans[28, 32] lr 0.019271 cl_acc 1.000000 43.667sec(train) 3.468sec(infer)\n"
     ]
    },
    {
     "name": "stdout",
     "output_type": "stream",
     "text": [
      "Epoch 255 tst: l 0.675 a 0.816  clct[20, 20] ans[20, 20] cl_acc 1.000000 2.145sec\n"
     ]
    },
    {
     "name": "stdout",
     "output_type": "stream",
     "text": [
      "Epoch 256 tr: l 0.521 a 0.858  clct[29, 31] ans[31, 29] lr 0.019079 cl_acc 1.000000 43.815sec(train) 3.456sec(infer)\n"
     ]
    },
    {
     "name": "stdout",
     "output_type": "stream",
     "text": [
      "Epoch 256 tst: l 0.676 a 0.817  clct[20, 20] ans[20, 20] cl_acc 1.000000 2.142sec\n"
     ]
    },
    {
     "name": "stdout",
     "output_type": "stream",
     "text": [
      "Epoch 257 tr: l 0.528 a 0.856  clct[33, 27] ans[27, 33] lr 0.018888 cl_acc 1.000000 42.795sec(train) 3.450sec(infer)\n"
     ]
    },
    {
     "name": "stdout",
     "output_type": "stream",
     "text": [
      "Epoch 257 tst: l 0.675 a 0.817  clct[20, 20] ans[20, 20] cl_acc 1.000000 2.148sec\n"
     ]
    },
    {
     "name": "stdout",
     "output_type": "stream",
     "text": [
      "Epoch 258 tr: l 0.547 a 0.852  clct[25, 35] ans[35, 25] lr 0.018699 cl_acc 1.000000 43.679sec(train) 3.463sec(infer)\n"
     ]
    },
    {
     "name": "stdout",
     "output_type": "stream",
     "text": [
      "Epoch 258 tst: l 0.674 a 0.818  clct[20, 20] ans[20, 20] cl_acc 1.000000 2.119sec\n"
     ]
    },
    {
     "name": "stdout",
     "output_type": "stream",
     "text": [
      "Epoch 259 tr: l 0.531 a 0.855  clct[30, 30] ans[30, 30] lr 0.018512 cl_acc 1.000000 42.779sec(train) 3.478sec(infer)\n"
     ]
    },
    {
     "name": "stdout",
     "output_type": "stream",
     "text": [
      "Epoch 259 tst: l 0.674 a 0.818  clct[20, 20] ans[20, 20] cl_acc 1.000000 2.127sec\n"
     ]
    },
    {
     "name": "stdout",
     "output_type": "stream",
     "text": [
      "Epoch 260 tr: l 0.543 a 0.850  clct[38, 22] ans[22, 38] lr 0.018327 cl_acc 1.000000 43.557sec(train) 3.577sec(infer)\n"
     ]
    },
    {
     "name": "stdout",
     "output_type": "stream",
     "text": [
      "Epoch 260 tst: l 0.675 a 0.818  clct[20, 20] ans[20, 20] cl_acc 1.000000 2.171sec\n",
      "result written at output/results.pickle\n"
     ]
    },
    {
     "name": "stdout",
     "output_type": "stream",
     "text": [
      "Epoch 261 tr: l 0.526 a 0.857  clct[28, 32] ans[32, 28] lr 0.018144 cl_acc 1.000000 43.680sec(train) 3.442sec(infer)\n"
     ]
    },
    {
     "name": "stdout",
     "output_type": "stream",
     "text": [
      "Epoch 261 tst: l 0.673 a 0.819  clct[20, 20] ans[20, 20] cl_acc 1.000000 2.129sec\n"
     ]
    },
    {
     "name": "stdout",
     "output_type": "stream",
     "text": [
      "Epoch 262 tr: l 0.513 a 0.861  clct[27, 33] ans[33, 27] lr 0.017962 cl_acc 1.000000 43.628sec(train) 3.452sec(infer)\n"
     ]
    },
    {
     "name": "stdout",
     "output_type": "stream",
     "text": [
      "Epoch 262 tst: l 0.675 a 0.817  clct[20, 20] ans[20, 20] cl_acc 1.000000 2.136sec\n"
     ]
    },
    {
     "name": "stdout",
     "output_type": "stream",
     "text": [
      "Epoch 263 tr: l 0.522 a 0.858  clct[32, 28] ans[28, 32] lr 0.017783 cl_acc 1.000000 43.535sec(train) 3.454sec(infer)\n"
     ]
    },
    {
     "name": "stdout",
     "output_type": "stream",
     "text": [
      "Epoch 263 tst: l 0.674 a 0.819  clct[20, 20] ans[20, 20] cl_acc 1.000000 2.131sec\n"
     ]
    },
    {
     "name": "stdout",
     "output_type": "stream",
     "text": [
      "Epoch 264 tr: l 0.554 a 0.846  clct[27, 33] ans[33, 27] lr 0.017605 cl_acc 1.000000 43.655sec(train) 3.411sec(infer)\n"
     ]
    },
    {
     "name": "stdout",
     "output_type": "stream",
     "text": [
      "Epoch 264 tst: l 0.677 a 0.817  clct[20, 20] ans[20, 20] cl_acc 1.000000 2.169sec\n"
     ]
    },
    {
     "name": "stdout",
     "output_type": "stream",
     "text": [
      "Epoch 265 tr: l 0.539 a 0.852  clct[33, 27] ans[27, 33] lr 0.017429 cl_acc 1.000000 43.620sec(train) 3.462sec(infer)\n"
     ]
    },
    {
     "name": "stdout",
     "output_type": "stream",
     "text": [
      "Epoch 265 tst: l 0.676 a 0.817  clct[20, 20] ans[20, 20] cl_acc 1.000000 2.120sec\n"
     ]
    },
    {
     "name": "stdout",
     "output_type": "stream",
     "text": [
      "Epoch 266 tr: l 0.530 a 0.857  clct[29, 31] ans[31, 29] lr 0.017254 cl_acc 1.000000 43.583sec(train) 3.506sec(infer)\n"
     ]
    },
    {
     "name": "stdout",
     "output_type": "stream",
     "text": [
      "Epoch 266 tst: l 0.678 a 0.818  clct[20, 20] ans[20, 20] cl_acc 1.000000 2.149sec\n"
     ]
    },
    {
     "name": "stdout",
     "output_type": "stream",
     "text": [
      "Epoch 267 tr: l 0.527 a 0.859  clct[28, 32] ans[32, 28] lr 0.017082 cl_acc 1.000000 43.606sec(train) 3.470sec(infer)\n"
     ]
    },
    {
     "name": "stdout",
     "output_type": "stream",
     "text": [
      "Epoch 267 tst: l 0.675 a 0.820  clct[20, 20] ans[20, 20] cl_acc 1.000000 2.150sec\n"
     ]
    },
    {
     "name": "stdout",
     "output_type": "stream",
     "text": [
      "Epoch 268 tr: l 0.521 a 0.858  clct[25, 35] ans[35, 25] lr 0.016911 cl_acc 1.000000 43.624sec(train) 3.559sec(infer)\n"
     ]
    },
    {
     "name": "stdout",
     "output_type": "stream",
     "text": [
      "Epoch 268 tst: l 0.675 a 0.818  clct[20, 20] ans[20, 20] cl_acc 1.000000 2.188sec\n"
     ]
    },
    {
     "name": "stdout",
     "output_type": "stream",
     "text": [
      "Epoch 269 tr: l 0.513 a 0.861  clct[30, 30] ans[30, 30] lr 0.016742 cl_acc 1.000000 42.771sec(train) 3.441sec(infer)\n"
     ]
    },
    {
     "name": "stdout",
     "output_type": "stream",
     "text": [
      "Epoch 269 tst: l 0.673 a 0.818  clct[20, 20] ans[20, 20] cl_acc 1.000000 2.151sec\n"
     ]
    },
    {
     "name": "stdout",
     "output_type": "stream",
     "text": [
      "Epoch 270 tr: l 0.520 a 0.859  clct[28, 32] ans[32, 28] lr 0.016575 cl_acc 1.000000 42.782sec(train) 3.489sec(infer)\n"
     ]
    },
    {
     "name": "stdout",
     "output_type": "stream",
     "text": [
      "Epoch 270 tst: l 0.674 a 0.818  clct[20, 20] ans[20, 20] cl_acc 1.000000 2.178sec\n",
      "result written at output/results.pickle\n"
     ]
    },
    {
     "name": "stdout",
     "output_type": "stream",
     "text": [
      "Epoch 271 tr: l 0.524 a 0.854  clct[29, 31] ans[31, 29] lr 0.016409 cl_acc 1.000000 43.491sec(train) 3.529sec(infer)\n"
     ]
    },
    {
     "name": "stdout",
     "output_type": "stream",
     "text": [
      "Epoch 271 tst: l 0.674 a 0.816  clct[20, 20] ans[20, 20] cl_acc 1.000000 2.144sec\n"
     ]
    },
    {
     "name": "stdout",
     "output_type": "stream",
     "text": [
      "Epoch 272 tr: l 0.506 a 0.863  clct[26, 34] ans[34, 26] lr 0.016245 cl_acc 1.000000 43.555sec(train) 3.514sec(infer)\n"
     ]
    },
    {
     "name": "stdout",
     "output_type": "stream",
     "text": [
      "Epoch 272 tst: l 0.674 a 0.819  clct[20, 20] ans[20, 20] cl_acc 1.000000 2.166sec\n"
     ]
    },
    {
     "name": "stdout",
     "output_type": "stream",
     "text": [
      "Epoch 273 tr: l 0.535 a 0.854  clct[31, 29] ans[29, 31] lr 0.016082 cl_acc 1.000000 43.513sec(train) 3.477sec(infer)\n"
     ]
    },
    {
     "name": "stdout",
     "output_type": "stream",
     "text": [
      "Epoch 273 tst: l 0.674 a 0.819  clct[20, 20] ans[20, 20] cl_acc 1.000000 2.198sec\n"
     ]
    },
    {
     "name": "stdout",
     "output_type": "stream",
     "text": [
      "Epoch 274 tr: l 0.502 a 0.864  clct[25, 35] ans[35, 25] lr 0.015921 cl_acc 1.000000 42.888sec(train) 3.523sec(infer)\n"
     ]
    },
    {
     "name": "stdout",
     "output_type": "stream",
     "text": [
      "Epoch 274 tst: l 0.673 a 0.819  clct[20, 20] ans[20, 20] cl_acc 1.000000 2.157sec\n"
     ]
    },
    {
     "name": "stdout",
     "output_type": "stream",
     "text": [
      "Epoch 275 tr: l 0.542 a 0.850  clct[29, 31] ans[31, 29] lr 0.015762 cl_acc 1.000000 43.423sec(train) 3.526sec(infer)\n"
     ]
    },
    {
     "name": "stdout",
     "output_type": "stream",
     "text": [
      "Epoch 275 tst: l 0.673 a 0.818  clct[20, 20] ans[20, 20] cl_acc 1.000000 2.164sec\n"
     ]
    },
    {
     "name": "stdout",
     "output_type": "stream",
     "text": [
      "Epoch 276 tr: l 0.523 a 0.857  clct[27, 33] ans[33, 27] lr 0.015605 cl_acc 1.000000 42.755sec(train) 3.502sec(infer)\n"
     ]
    },
    {
     "name": "stdout",
     "output_type": "stream",
     "text": [
      "Epoch 276 tst: l 0.674 a 0.819  clct[20, 20] ans[20, 20] cl_acc 1.000000 2.160sec\n"
     ]
    },
    {
     "name": "stdout",
     "output_type": "stream",
     "text": [
      "Epoch 277 tr: l 0.483 a 0.872  clct[31, 29] ans[29, 31] lr 0.015449 cl_acc 1.000000 42.705sec(train) 3.501sec(infer)\n"
     ]
    },
    {
     "name": "stdout",
     "output_type": "stream",
     "text": [
      "Epoch 277 tst: l 0.674 a 0.818  clct[20, 20] ans[20, 20] cl_acc 1.000000 2.162sec\n"
     ]
    },
    {
     "name": "stdout",
     "output_type": "stream",
     "text": [
      "Epoch 278 tr: l 0.510 a 0.865  clct[31, 29] ans[29, 31] lr 0.015294 cl_acc 1.000000 43.136sec(train) 3.561sec(infer)\n"
     ]
    },
    {
     "name": "stdout",
     "output_type": "stream",
     "text": [
      "Epoch 278 tst: l 0.673 a 0.817  clct[20, 20] ans[20, 20] cl_acc 1.000000 2.160sec\n"
     ]
    },
    {
     "name": "stdout",
     "output_type": "stream",
     "text": [
      "Epoch 279 tr: l 0.513 a 0.862  clct[30, 30] ans[30, 30] lr 0.015141 cl_acc 1.000000 43.576sec(train) 3.680sec(infer)\n"
     ]
    },
    {
     "name": "stdout",
     "output_type": "stream",
     "text": [
      "Epoch 279 tst: l 0.674 a 0.817  clct[20, 20] ans[20, 20] cl_acc 1.000000 2.128sec\n"
     ]
    },
    {
     "name": "stdout",
     "output_type": "stream",
     "text": [
      "Epoch 280 tr: l 0.523 a 0.857  clct[25, 35] ans[35, 25] lr 0.014990 cl_acc 1.000000 43.554sec(train) 3.461sec(infer)\n"
     ]
    },
    {
     "name": "stdout",
     "output_type": "stream",
     "text": [
      "Epoch 280 tst: l 0.672 a 0.818  clct[20, 20] ans[20, 20] cl_acc 1.000000 2.154sec\n",
      "result written at output/results.pickle\n"
     ]
    },
    {
     "name": "stdout",
     "output_type": "stream",
     "text": [
      "Epoch 281 tr: l 0.489 a 0.868  clct[28, 32] ans[32, 28] lr 0.014840 cl_acc 1.000000 43.510sec(train) 3.481sec(infer)\n"
     ]
    },
    {
     "name": "stdout",
     "output_type": "stream",
     "text": [
      "Epoch 281 tst: l 0.672 a 0.818  clct[20, 20] ans[20, 20] cl_acc 1.000000 2.147sec\n"
     ]
    },
    {
     "name": "stdout",
     "output_type": "stream",
     "text": [
      "Epoch 282 tr: l 0.504 a 0.863  clct[30, 30] ans[30, 30] lr 0.014691 cl_acc 1.000000 42.802sec(train) 3.543sec(infer)\n"
     ]
    },
    {
     "name": "stdout",
     "output_type": "stream",
     "text": [
      "Epoch 282 tst: l 0.671 a 0.818  clct[20, 20] ans[20, 20] cl_acc 1.000000 2.125sec\n"
     ]
    },
    {
     "name": "stdout",
     "output_type": "stream",
     "text": [
      "Epoch 283 tr: l 0.522 a 0.857  clct[30, 30] ans[30, 30] lr 0.014545 cl_acc 1.000000 43.628sec(train) 3.494sec(infer)\n"
     ]
    },
    {
     "name": "stdout",
     "output_type": "stream",
     "text": [
      "Epoch 283 tst: l 0.672 a 0.819  clct[20, 20] ans[20, 20] cl_acc 1.000000 2.127sec\n"
     ]
    },
    {
     "name": "stdout",
     "output_type": "stream",
     "text": [
      "Epoch 284 tr: l 0.502 a 0.866  clct[28, 32] ans[32, 28] lr 0.014399 cl_acc 1.000000 43.653sec(train) 3.465sec(infer)\n"
     ]
    },
    {
     "name": "stdout",
     "output_type": "stream",
     "text": [
      "Epoch 284 tst: l 0.673 a 0.819  clct[20, 20] ans[20, 20] cl_acc 1.000000 2.144sec\n"
     ]
    },
    {
     "name": "stdout",
     "output_type": "stream",
     "text": [
      "Epoch 285 tr: l 0.510 a 0.862  clct[32, 28] ans[28, 32] lr 0.014255 cl_acc 1.000000 43.563sec(train) 3.450sec(infer)\n"
     ]
    },
    {
     "name": "stdout",
     "output_type": "stream",
     "text": [
      "Epoch 285 tst: l 0.673 a 0.819  clct[20, 20] ans[20, 20] cl_acc 1.000000 2.148sec\n"
     ]
    },
    {
     "name": "stdout",
     "output_type": "stream",
     "text": [
      "Epoch 286 tr: l 0.506 a 0.861  clct[30, 30] ans[30, 30] lr 0.014113 cl_acc 1.000000 43.652sec(train) 3.483sec(infer)\n"
     ]
    },
    {
     "name": "stdout",
     "output_type": "stream",
     "text": [
      "Epoch 286 tst: l 0.673 a 0.818  clct[20, 20] ans[20, 20] cl_acc 1.000000 2.133sec\n"
     ]
    },
    {
     "name": "stdout",
     "output_type": "stream",
     "text": [
      "Epoch 287 tr: l 0.516 a 0.860  clct[26, 34] ans[34, 26] lr 0.013971 cl_acc 1.000000 42.880sec(train) 3.464sec(infer)\n"
     ]
    },
    {
     "name": "stdout",
     "output_type": "stream",
     "text": [
      "Epoch 287 tst: l 0.671 a 0.820  clct[20, 20] ans[20, 20] cl_acc 1.000000 2.151sec\n"
     ]
    },
    {
     "name": "stdout",
     "output_type": "stream",
     "text": [
      "Epoch 288 tr: l 0.514 a 0.859  clct[33, 27] ans[27, 33] lr 0.013832 cl_acc 1.000000 43.174sec(train) 3.445sec(infer)\n"
     ]
    },
    {
     "name": "stdout",
     "output_type": "stream",
     "text": [
      "Epoch 288 tst: l 0.671 a 0.819  clct[20, 20] ans[20, 20] cl_acc 1.000000 2.117sec\n"
     ]
    },
    {
     "name": "stdout",
     "output_type": "stream",
     "text": [
      "Epoch 289 tr: l 0.503 a 0.863  clct[35, 25] ans[25, 35] lr 0.013693 cl_acc 1.000000 43.548sec(train) 3.461sec(infer)\n"
     ]
    },
    {
     "name": "stdout",
     "output_type": "stream",
     "text": [
      "Epoch 289 tst: l 0.672 a 0.818  clct[20, 20] ans[20, 20] cl_acc 1.000000 2.160sec\n"
     ]
    },
    {
     "name": "stdout",
     "output_type": "stream",
     "text": [
      "Epoch 290 tr: l 0.516 a 0.858  clct[31, 29] ans[29, 31] lr 0.013556 cl_acc 1.000000 43.495sec(train) 3.505sec(infer)\n"
     ]
    },
    {
     "name": "stdout",
     "output_type": "stream",
     "text": [
      "Epoch 290 tst: l 0.673 a 0.819  clct[20, 20] ans[20, 20] cl_acc 1.000000 2.160sec\n",
      "result written at output/results.pickle\n"
     ]
    },
    {
     "name": "stdout",
     "output_type": "stream",
     "text": [
      "Epoch 291 tr: l 0.493 a 0.867  clct[28, 32] ans[32, 28] lr 0.013421 cl_acc 1.000000 42.876sec(train) 3.450sec(infer)\n"
     ]
    },
    {
     "name": "stdout",
     "output_type": "stream",
     "text": [
      "Epoch 291 tst: l 0.672 a 0.819  clct[20, 20] ans[20, 20] cl_acc 1.000000 2.142sec\n"
     ]
    },
    {
     "name": "stdout",
     "output_type": "stream",
     "text": [
      "Epoch 292 tr: l 0.487 a 0.869  clct[32, 28] ans[28, 32] lr 0.013287 cl_acc 1.000000 43.699sec(train) 3.461sec(infer)\n"
     ]
    },
    {
     "name": "stdout",
     "output_type": "stream",
     "text": [
      "Epoch 292 tst: l 0.671 a 0.819  clct[20, 20] ans[20, 20] cl_acc 1.000000 2.115sec\n"
     ]
    },
    {
     "name": "stdout",
     "output_type": "stream",
     "text": [
      "Epoch 293 tr: l 0.525 a 0.855  clct[29, 31] ans[31, 29] lr 0.013154 cl_acc 1.000000 43.551sec(train) 3.452sec(infer)\n"
     ]
    },
    {
     "name": "stdout",
     "output_type": "stream",
     "text": [
      "Epoch 293 tst: l 0.673 a 0.818  clct[20, 20] ans[20, 20] cl_acc 1.000000 2.145sec\n"
     ]
    },
    {
     "name": "stdout",
     "output_type": "stream",
     "text": [
      "Epoch 294 tr: l 0.491 a 0.868  clct[26, 34] ans[34, 26] lr 0.013022 cl_acc 1.000000 43.626sec(train) 3.467sec(infer)\n"
     ]
    },
    {
     "name": "stdout",
     "output_type": "stream",
     "text": [
      "Epoch 294 tst: l 0.671 a 0.818  clct[20, 20] ans[20, 20] cl_acc 1.000000 2.163sec\n"
     ]
    },
    {
     "name": "stdout",
     "output_type": "stream",
     "text": [
      "Epoch 295 tr: l 0.487 a 0.869  clct[33, 27] ans[27, 33] lr 0.012892 cl_acc 1.000000 43.534sec(train) 3.486sec(infer)\n"
     ]
    },
    {
     "name": "stdout",
     "output_type": "stream",
     "text": [
      "Epoch 295 tst: l 0.669 a 0.820  clct[20, 20] ans[20, 20] cl_acc 1.000000 2.138sec\n"
     ]
    },
    {
     "name": "stdout",
     "output_type": "stream",
     "text": [
      "Epoch 296 tr: l 0.500 a 0.865  clct[26, 34] ans[34, 26] lr 0.012763 cl_acc 1.000000 43.611sec(train) 3.502sec(infer)\n"
     ]
    },
    {
     "name": "stdout",
     "output_type": "stream",
     "text": [
      "Epoch 296 tst: l 0.671 a 0.819  clct[20, 20] ans[20, 20] cl_acc 1.000000 2.121sec\n"
     ]
    },
    {
     "name": "stdout",
     "output_type": "stream",
     "text": [
      "Epoch 297 tr: l 0.530 a 0.854  clct[32, 28] ans[28, 32] lr 0.012636 cl_acc 1.000000 42.787sec(train) 3.496sec(infer)\n"
     ]
    },
    {
     "name": "stdout",
     "output_type": "stream",
     "text": [
      "Epoch 297 tst: l 0.672 a 0.819  clct[20, 20] ans[20, 20] cl_acc 1.000000 2.160sec\n"
     ]
    },
    {
     "name": "stdout",
     "output_type": "stream",
     "text": [
      "Epoch 298 tr: l 0.507 a 0.861  clct[28, 32] ans[32, 28] lr 0.012509 cl_acc 1.000000 43.565sec(train) 3.526sec(infer)\n"
     ]
    },
    {
     "name": "stdout",
     "output_type": "stream",
     "text": [
      "Epoch 298 tst: l 0.672 a 0.818  clct[20, 20] ans[20, 20] cl_acc 1.000000 2.132sec\n"
     ]
    },
    {
     "name": "stdout",
     "output_type": "stream",
     "text": [
      "Epoch 299 tr: l 0.471 a 0.876  clct[33, 27] ans[27, 33] lr 0.012384 cl_acc 1.000000 43.694sec(train) 3.544sec(infer)\n"
     ]
    },
    {
     "name": "stdout",
     "output_type": "stream",
     "text": [
      "Epoch 299 tst: l 0.672 a 0.819  clct[20, 20] ans[20, 20] cl_acc 1.000000 2.117sec\n"
     ]
    },
    {
     "name": "stdout",
     "output_type": "stream",
     "text": [
      "Epoch 300 tr: l 0.479 a 0.870  clct[26, 34] ans[34, 26] lr 0.012260 cl_acc 1.000000 43.568sec(train) 3.543sec(infer)\n"
     ]
    },
    {
     "name": "stdout",
     "output_type": "stream",
     "text": [
      "Epoch 300 tst: l 0.674 a 0.819  clct[20, 20] ans[20, 20] cl_acc 1.000000 2.124sec\n",
      "result written at output/results.pickle\n"
     ]
    },
    {
     "name": "stdout",
     "output_type": "stream",
     "text": [
      "Epoch 301 tr: l 0.504 a 0.862  clct[31, 29] ans[29, 31] lr 0.012138 cl_acc 1.000000 43.591sec(train) 3.490sec(infer)\n"
     ]
    },
    {
     "name": "stdout",
     "output_type": "stream",
     "text": [
      "Epoch 301 tst: l 0.672 a 0.818  clct[20, 20] ans[20, 20] cl_acc 1.000000 2.122sec\n"
     ]
    },
    {
     "name": "stdout",
     "output_type": "stream",
     "text": [
      "Epoch 302 tr: l 0.505 a 0.860  clct[33, 27] ans[27, 33] lr 0.012016 cl_acc 1.000000 42.734sec(train) 3.492sec(infer)\n"
     ]
    },
    {
     "name": "stdout",
     "output_type": "stream",
     "text": [
      "Epoch 302 tst: l 0.671 a 0.818  clct[20, 20] ans[20, 20] cl_acc 1.000000 2.157sec\n"
     ]
    },
    {
     "name": "stdout",
     "output_type": "stream",
     "text": [
      "Epoch 303 tr: l 0.513 a 0.858  clct[35, 25] ans[25, 35] lr 0.011896 cl_acc 1.000000 43.510sec(train) 3.496sec(infer)\n"
     ]
    },
    {
     "name": "stdout",
     "output_type": "stream",
     "text": [
      "Epoch 303 tst: l 0.673 a 0.818  clct[20, 20] ans[20, 20] cl_acc 1.000000 2.187sec\n"
     ]
    },
    {
     "name": "stdout",
     "output_type": "stream",
     "text": [
      "Epoch 304 tr: l 0.489 a 0.865  clct[33, 27] ans[27, 33] lr 0.011777 cl_acc 1.000000 43.643sec(train) 3.523sec(infer)\n"
     ]
    },
    {
     "name": "stdout",
     "output_type": "stream",
     "text": [
      "Epoch 304 tst: l 0.672 a 0.819  clct[20, 20] ans[20, 20] cl_acc 1.000000 2.160sec\n"
     ]
    },
    {
     "name": "stdout",
     "output_type": "stream",
     "text": [
      "Epoch 305 tr: l 0.466 a 0.877  clct[25, 35] ans[35, 25] lr 0.011659 cl_acc 1.000000 43.625sec(train) 3.504sec(infer)\n"
     ]
    },
    {
     "name": "stdout",
     "output_type": "stream",
     "text": [
      "Epoch 305 tst: l 0.673 a 0.817  clct[20, 20] ans[20, 20] cl_acc 1.000000 2.192sec\n"
     ]
    },
    {
     "name": "stdout",
     "output_type": "stream",
     "text": [
      "Epoch 306 tr: l 0.507 a 0.862  clct[34, 26] ans[26, 34] lr 0.011543 cl_acc 1.000000 42.739sec(train) 3.541sec(infer)\n"
     ]
    },
    {
     "name": "stdout",
     "output_type": "stream",
     "text": [
      "Epoch 306 tst: l 0.671 a 0.819  clct[20, 20] ans[20, 20] cl_acc 1.000000 2.172sec\n"
     ]
    },
    {
     "name": "stdout",
     "output_type": "stream",
     "text": [
      "Epoch 307 tr: l 0.509 a 0.860  clct[31, 29] ans[29, 31] lr 0.011427 cl_acc 1.000000 42.821sec(train) 3.421sec(infer)\n"
     ]
    },
    {
     "name": "stdout",
     "output_type": "stream",
     "text": [
      "Epoch 307 tst: l 0.670 a 0.818  clct[20, 20] ans[20, 20] cl_acc 1.000000 2.130sec\n"
     ]
    },
    {
     "name": "stdout",
     "output_type": "stream",
     "text": [
      "Epoch 308 tr: l 0.485 a 0.869  clct[32, 28] ans[28, 32] lr 0.011313 cl_acc 1.000000 42.829sec(train) 3.490sec(infer)\n"
     ]
    },
    {
     "name": "stdout",
     "output_type": "stream",
     "text": [
      "Epoch 308 tst: l 0.670 a 0.820  clct[20, 20] ans[20, 20] cl_acc 1.000000 2.140sec\n"
     ]
    },
    {
     "name": "stdout",
     "output_type": "stream",
     "text": [
      "Epoch 309 tr: l 0.504 a 0.863  clct[30, 30] ans[30, 30] lr 0.011200 cl_acc 1.000000 43.629sec(train) 3.471sec(infer)\n"
     ]
    },
    {
     "name": "stdout",
     "output_type": "stream",
     "text": [
      "Epoch 309 tst: l 0.672 a 0.821  clct[20, 20] ans[20, 20] cl_acc 1.000000 2.154sec\n"
     ]
    },
    {
     "name": "stdout",
     "output_type": "stream",
     "text": [
      "Epoch 310 tr: l 0.487 a 0.868  clct[29, 31] ans[31, 29] lr 0.011088 cl_acc 1.000000 43.545sec(train) 3.476sec(infer)\n"
     ]
    },
    {
     "name": "stdout",
     "output_type": "stream",
     "text": [
      "Epoch 310 tst: l 0.669 a 0.819  clct[20, 20] ans[20, 20] cl_acc 1.000000 2.154sec\n",
      "result written at output/results.pickle\n"
     ]
    },
    {
     "name": "stdout",
     "output_type": "stream",
     "text": [
      "Epoch 311 tr: l 0.473 a 0.872  clct[23, 37] ans[37, 23] lr 0.010977 cl_acc 1.000000 43.555sec(train) 3.476sec(infer)\n"
     ]
    },
    {
     "name": "stdout",
     "output_type": "stream",
     "text": [
      "Epoch 311 tst: l 0.670 a 0.818  clct[20, 20] ans[20, 20] cl_acc 1.000000 2.150sec\n"
     ]
    },
    {
     "name": "stdout",
     "output_type": "stream",
     "text": [
      "Epoch 312 tr: l 0.482 a 0.869  clct[31, 29] ans[29, 31] lr 0.010867 cl_acc 1.000000 43.486sec(train) 3.452sec(infer)\n"
     ]
    },
    {
     "name": "stdout",
     "output_type": "stream",
     "text": [
      "Epoch 312 tst: l 0.671 a 0.820  clct[20, 20] ans[20, 20] cl_acc 1.000000 2.160sec\n"
     ]
    },
    {
     "name": "stdout",
     "output_type": "stream",
     "text": [
      "Epoch 313 tr: l 0.474 a 0.873  clct[28, 32] ans[32, 28] lr 0.010759 cl_acc 1.000000 42.998sec(train) 3.444sec(infer)\n"
     ]
    },
    {
     "name": "stdout",
     "output_type": "stream",
     "text": [
      "Epoch 313 tst: l 0.671 a 0.819  clct[20, 20] ans[20, 20] cl_acc 1.000000 2.131sec\n"
     ]
    },
    {
     "name": "stdout",
     "output_type": "stream",
     "text": [
      "Epoch 314 tr: l 0.494 a 0.864  clct[35, 25] ans[25, 35] lr 0.010651 cl_acc 1.000000 43.727sec(train) 3.443sec(infer)\n"
     ]
    },
    {
     "name": "stdout",
     "output_type": "stream",
     "text": [
      "Epoch 314 tst: l 0.669 a 0.821  clct[20, 20] ans[20, 20] cl_acc 1.000000 2.125sec\n"
     ]
    },
    {
     "name": "stdout",
     "output_type": "stream",
     "text": [
      "Epoch 315 tr: l 0.468 a 0.872  clct[33, 27] ans[27, 33] lr 0.010545 cl_acc 1.000000 42.943sec(train) 3.515sec(infer)\n"
     ]
    },
    {
     "name": "stdout",
     "output_type": "stream",
     "text": [
      "Epoch 315 tst: l 0.668 a 0.820  clct[20, 20] ans[20, 20] cl_acc 1.000000 2.135sec\n"
     ]
    },
    {
     "name": "stdout",
     "output_type": "stream",
     "text": [
      "Epoch 316 tr: l 0.466 a 0.873  clct[32, 28] ans[28, 32] lr 0.010439 cl_acc 1.000000 43.633sec(train) 3.546sec(infer)\n"
     ]
    },
    {
     "name": "stdout",
     "output_type": "stream",
     "text": [
      "Epoch 316 tst: l 0.669 a 0.819  clct[20, 20] ans[20, 20] cl_acc 1.000000 2.149sec\n"
     ]
    },
    {
     "name": "stdout",
     "output_type": "stream",
     "text": [
      "Epoch 317 tr: l 0.474 a 0.871  clct[30, 30] ans[30, 30] lr 0.010335 cl_acc 1.000000 43.669sec(train) 3.436sec(infer)\n"
     ]
    },
    {
     "name": "stdout",
     "output_type": "stream",
     "text": [
      "Epoch 317 tst: l 0.667 a 0.818  clct[20, 20] ans[20, 20] cl_acc 1.000000 2.062sec\n"
     ]
    },
    {
     "name": "stdout",
     "output_type": "stream",
     "text": [
      "Epoch 318 tr: l 0.479 a 0.870  clct[30, 30] ans[30, 30] lr 0.010231 cl_acc 1.000000 43.567sec(train) 3.470sec(infer)\n"
     ]
    },
    {
     "name": "stdout",
     "output_type": "stream",
     "text": [
      "Epoch 318 tst: l 0.669 a 0.820  clct[20, 20] ans[20, 20] cl_acc 1.000000 2.125sec\n"
     ]
    },
    {
     "name": "stdout",
     "output_type": "stream",
     "text": [
      "Epoch 319 tr: l 0.474 a 0.872  clct[32, 28] ans[28, 32] lr 0.010129 cl_acc 1.000000 43.565sec(train) 3.517sec(infer)\n"
     ]
    },
    {
     "name": "stdout",
     "output_type": "stream",
     "text": [
      "Epoch 319 tst: l 0.670 a 0.818  clct[20, 20] ans[20, 20] cl_acc 1.000000 2.183sec\n"
     ]
    },
    {
     "name": "stdout",
     "output_type": "stream",
     "text": [
      "Epoch 320 tr: l 0.477 a 0.871  clct[27, 33] ans[33, 27] lr 0.010028 cl_acc 1.000000 43.619sec(train) 3.507sec(infer)\n"
     ]
    },
    {
     "name": "stdout",
     "output_type": "stream",
     "text": [
      "Epoch 320 tst: l 0.671 a 0.818  clct[20, 20] ans[20, 20] cl_acc 1.000000 2.126sec\n",
      "result written at output/results.pickle\n"
     ]
    },
    {
     "name": "stdout",
     "output_type": "stream",
     "text": [
      "Epoch 321 tr: l 0.487 a 0.867  clct[33, 27] ans[27, 33] lr 0.009927 cl_acc 1.000000 42.965sec(train) 3.443sec(infer)\n"
     ]
    },
    {
     "name": "stdout",
     "output_type": "stream",
     "text": [
      "Epoch 321 tst: l 0.670 a 0.819  clct[20, 20] ans[20, 20] cl_acc 1.000000 2.092sec\n"
     ]
    },
    {
     "name": "stdout",
     "output_type": "stream",
     "text": [
      "Epoch 322 tr: l 0.481 a 0.870  clct[31, 29] ans[29, 31] lr 0.009828 cl_acc 1.000000 42.882sec(train) 3.495sec(infer)\n"
     ]
    },
    {
     "name": "stdout",
     "output_type": "stream",
     "text": [
      "Epoch 322 tst: l 0.671 a 0.819  clct[20, 20] ans[20, 20] cl_acc 1.000000 2.150sec\n"
     ]
    },
    {
     "name": "stdout",
     "output_type": "stream",
     "text": [
      "Epoch 323 tr: l 0.480 a 0.871  clct[36, 24] ans[24, 36] lr 0.009730 cl_acc 1.000000 42.941sec(train) 3.498sec(infer)\n"
     ]
    },
    {
     "name": "stdout",
     "output_type": "stream",
     "text": [
      "Epoch 323 tst: l 0.669 a 0.820  clct[20, 20] ans[20, 20] cl_acc 1.000000 2.131sec\n"
     ]
    },
    {
     "name": "stdout",
     "output_type": "stream",
     "text": [
      "Epoch 324 tr: l 0.485 a 0.868  clct[34, 26] ans[26, 34] lr 0.009633 cl_acc 1.000000 42.974sec(train) 3.502sec(infer)\n"
     ]
    },
    {
     "name": "stdout",
     "output_type": "stream",
     "text": [
      "Epoch 324 tst: l 0.670 a 0.818  clct[20, 20] ans[20, 20] cl_acc 1.000000 2.158sec\n"
     ]
    },
    {
     "name": "stdout",
     "output_type": "stream",
     "text": [
      "Epoch 325 tr: l 0.482 a 0.869  clct[32, 28] ans[28, 32] lr 0.009536 cl_acc 1.000000 42.802sec(train) 3.536sec(infer)\n"
     ]
    },
    {
     "name": "stdout",
     "output_type": "stream",
     "text": [
      "Epoch 325 tst: l 0.670 a 0.819  clct[20, 20] ans[20, 20] cl_acc 1.000000 2.137sec\n"
     ]
    },
    {
     "name": "stdout",
     "output_type": "stream",
     "text": [
      "Epoch 326 tr: l 0.452 a 0.879  clct[29, 31] ans[31, 29] lr 0.009441 cl_acc 1.000000 42.848sec(train) 3.456sec(infer)\n"
     ]
    },
    {
     "name": "stdout",
     "output_type": "stream",
     "text": [
      "Epoch 326 tst: l 0.671 a 0.818  clct[20, 20] ans[20, 20] cl_acc 1.000000 2.129sec\n"
     ]
    },
    {
     "name": "stdout",
     "output_type": "stream",
     "text": [
      "Epoch 327 tr: l 0.473 a 0.873  clct[28, 32] ans[32, 28] lr 0.009346 cl_acc 1.000000 43.716sec(train) 3.403sec(infer)\n"
     ]
    },
    {
     "name": "stdout",
     "output_type": "stream",
     "text": [
      "Epoch 327 tst: l 0.671 a 0.819  clct[20, 20] ans[20, 20] cl_acc 1.000000 2.103sec\n"
     ]
    },
    {
     "name": "stdout",
     "output_type": "stream",
     "text": [
      "Epoch 328 tr: l 0.455 a 0.876  clct[27, 33] ans[33, 27] lr 0.009253 cl_acc 1.000000 43.701sec(train) 3.437sec(infer)\n"
     ]
    },
    {
     "name": "stdout",
     "output_type": "stream",
     "text": [
      "Epoch 328 tst: l 0.670 a 0.820  clct[20, 20] ans[20, 20] cl_acc 1.000000 2.127sec\n"
     ]
    },
    {
     "name": "stdout",
     "output_type": "stream",
     "text": [
      "Epoch 329 tr: l 0.478 a 0.872  clct[32, 28] ans[28, 32] lr 0.009160 cl_acc 1.000000 42.976sec(train) 3.570sec(infer)\n"
     ]
    },
    {
     "name": "stdout",
     "output_type": "stream",
     "text": [
      "Epoch 329 tst: l 0.671 a 0.819  clct[20, 20] ans[20, 20] cl_acc 1.000000 2.189sec\n"
     ]
    },
    {
     "name": "stdout",
     "output_type": "stream",
     "text": [
      "Epoch 330 tr: l 0.454 a 0.880  clct[26, 34] ans[34, 26] lr 0.009069 cl_acc 1.000000 43.696sec(train) 3.578sec(infer)\n"
     ]
    },
    {
     "name": "stdout",
     "output_type": "stream",
     "text": [
      "Epoch 330 tst: l 0.672 a 0.820  clct[20, 20] ans[20, 20] cl_acc 1.000000 2.200sec\n",
      "result written at output/results.pickle\n"
     ]
    },
    {
     "name": "stdout",
     "output_type": "stream",
     "text": [
      "Epoch 331 tr: l 0.472 a 0.870  clct[32, 28] ans[28, 32] lr 0.008978 cl_acc 1.000000 42.875sec(train) 3.475sec(infer)\n"
     ]
    },
    {
     "name": "stdout",
     "output_type": "stream",
     "text": [
      "Epoch 331 tst: l 0.673 a 0.818  clct[20, 20] ans[20, 20] cl_acc 1.000000 2.143sec\n"
     ]
    },
    {
     "name": "stdout",
     "output_type": "stream",
     "text": [
      "Epoch 332 tr: l 0.461 a 0.877  clct[30, 30] ans[30, 30] lr 0.008888 cl_acc 1.000000 43.701sec(train) 3.440sec(infer)\n"
     ]
    },
    {
     "name": "stdout",
     "output_type": "stream",
     "text": [
      "Epoch 332 tst: l 0.673 a 0.818  clct[20, 20] ans[20, 20] cl_acc 1.000000 2.121sec\n"
     ]
    },
    {
     "name": "stdout",
     "output_type": "stream",
     "text": [
      "Epoch 333 tr: l 0.467 a 0.872  clct[31, 29] ans[29, 31] lr 0.008800 cl_acc 1.000000 43.740sec(train) 3.498sec(infer)\n"
     ]
    },
    {
     "name": "stdout",
     "output_type": "stream",
     "text": [
      "Epoch 333 tst: l 0.671 a 0.819  clct[20, 20] ans[20, 20] cl_acc 1.000000 2.158sec\n"
     ]
    },
    {
     "name": "stdout",
     "output_type": "stream",
     "text": [
      "Epoch 334 tr: l 0.464 a 0.874  clct[30, 30] ans[30, 30] lr 0.008712 cl_acc 1.000000 42.768sec(train) 3.496sec(infer)\n"
     ]
    },
    {
     "name": "stdout",
     "output_type": "stream",
     "text": [
      "Epoch 334 tst: l 0.672 a 0.819  clct[20, 20] ans[20, 20] cl_acc 1.000000 2.144sec\n"
     ]
    },
    {
     "name": "stdout",
     "output_type": "stream",
     "text": [
      "Epoch 335 tr: l 0.478 a 0.871  clct[28, 32] ans[32, 28] lr 0.008624 cl_acc 1.000000 42.833sec(train) 3.437sec(infer)\n"
     ]
    },
    {
     "name": "stdout",
     "output_type": "stream",
     "text": [
      "Epoch 335 tst: l 0.673 a 0.818  clct[20, 20] ans[20, 20] cl_acc 1.000000 2.133sec\n"
     ]
    },
    {
     "name": "stdout",
     "output_type": "stream",
     "text": [
      "Epoch 336 tr: l 0.462 a 0.877  clct[29, 31] ans[31, 29] lr 0.008538 cl_acc 1.000000 43.714sec(train) 3.493sec(infer)\n"
     ]
    },
    {
     "name": "stdout",
     "output_type": "stream",
     "text": [
      "Epoch 336 tst: l 0.673 a 0.818  clct[20, 20] ans[20, 20] cl_acc 1.000000 2.184sec\n"
     ]
    },
    {
     "name": "stdout",
     "output_type": "stream",
     "text": [
      "Epoch 337 tr: l 0.452 a 0.879  clct[31, 29] ans[29, 31] lr 0.008453 cl_acc 1.000000 43.693sec(train) 3.486sec(infer)\n"
     ]
    },
    {
     "name": "stdout",
     "output_type": "stream",
     "text": [
      "Epoch 337 tst: l 0.673 a 0.818  clct[20, 20] ans[20, 20] cl_acc 1.000000 2.133sec\n"
     ]
    },
    {
     "name": "stdout",
     "output_type": "stream",
     "text": [
      "Epoch 338 tr: l 0.471 a 0.874  clct[28, 32] ans[32, 28] lr 0.008368 cl_acc 1.000000 43.549sec(train) 3.485sec(infer)\n"
     ]
    },
    {
     "name": "stdout",
     "output_type": "stream",
     "text": [
      "Epoch 338 tst: l 0.673 a 0.818  clct[20, 20] ans[20, 20] cl_acc 1.000000 2.150sec\n"
     ]
    },
    {
     "name": "stdout",
     "output_type": "stream",
     "text": [
      "Epoch 339 tr: l 0.452 a 0.881  clct[30, 30] ans[30, 30] lr 0.008285 cl_acc 1.000000 43.664sec(train) 3.491sec(infer)\n"
     ]
    },
    {
     "name": "stdout",
     "output_type": "stream",
     "text": [
      "Epoch 339 tst: l 0.671 a 0.820  clct[20, 20] ans[20, 20] cl_acc 1.000000 2.167sec\n"
     ]
    },
    {
     "name": "stdout",
     "output_type": "stream",
     "text": [
      "Epoch 340 tr: l 0.456 a 0.878  clct[33, 27] ans[27, 33] lr 0.008202 cl_acc 1.000000 43.602sec(train) 3.510sec(infer)\n"
     ]
    },
    {
     "name": "stdout",
     "output_type": "stream",
     "text": [
      "Epoch 340 tst: l 0.671 a 0.819  clct[20, 20] ans[20, 20] cl_acc 1.000000 2.162sec\n",
      "result written at output/results.pickle\n"
     ]
    },
    {
     "name": "stdout",
     "output_type": "stream",
     "text": [
      "Epoch 341 tr: l 0.473 a 0.872  clct[30, 30] ans[30, 30] lr 0.008120 cl_acc 1.000000 43.820sec(train) 3.493sec(infer)\n"
     ]
    },
    {
     "name": "stdout",
     "output_type": "stream",
     "text": [
      "Epoch 341 tst: l 0.671 a 0.820  clct[20, 20] ans[20, 20] cl_acc 1.000000 2.165sec\n"
     ]
    },
    {
     "name": "stdout",
     "output_type": "stream",
     "text": [
      "Epoch 342 tr: l 0.475 a 0.870  clct[26, 34] ans[34, 26] lr 0.008039 cl_acc 1.000000 43.793sec(train) 3.508sec(infer)\n"
     ]
    },
    {
     "name": "stdout",
     "output_type": "stream",
     "text": [
      "Epoch 342 tst: l 0.671 a 0.820  clct[20, 20] ans[20, 20] cl_acc 1.000000 2.182sec\n"
     ]
    },
    {
     "name": "stdout",
     "output_type": "stream",
     "text": [
      "Epoch 343 tr: l 0.484 a 0.867  clct[37, 23] ans[23, 37] lr 0.007958 cl_acc 1.000000 43.610sec(train) 3.515sec(infer)\n"
     ]
    },
    {
     "name": "stdout",
     "output_type": "stream",
     "text": [
      "Epoch 343 tst: l 0.671 a 0.820  clct[20, 20] ans[20, 20] cl_acc 1.000000 2.113sec\n"
     ]
    },
    {
     "name": "stdout",
     "output_type": "stream",
     "text": [
      "Epoch 344 tr: l 0.485 a 0.867  clct[36, 24] ans[24, 36] lr 0.007879 cl_acc 1.000000 43.570sec(train) 3.484sec(infer)\n"
     ]
    },
    {
     "name": "stdout",
     "output_type": "stream",
     "text": [
      "Epoch 344 tst: l 0.672 a 0.819  clct[20, 20] ans[20, 20] cl_acc 1.000000 2.107sec\n"
     ]
    },
    {
     "name": "stdout",
     "output_type": "stream",
     "text": [
      "Epoch 345 tr: l 0.490 a 0.864  clct[29, 31] ans[31, 29] lr 0.007800 cl_acc 1.000000 42.863sec(train) 3.570sec(infer)\n"
     ]
    },
    {
     "name": "stdout",
     "output_type": "stream",
     "text": [
      "Epoch 345 tst: l 0.670 a 0.820  clct[20, 20] ans[20, 20] cl_acc 1.000000 2.172sec\n"
     ]
    },
    {
     "name": "stdout",
     "output_type": "stream",
     "text": [
      "Epoch 346 tr: l 0.464 a 0.872  clct[26, 34] ans[34, 26] lr 0.007722 cl_acc 1.000000 42.907sec(train) 3.496sec(infer)\n"
     ]
    },
    {
     "name": "stdout",
     "output_type": "stream",
     "text": [
      "Epoch 346 tst: l 0.670 a 0.819  clct[20, 20] ans[20, 20] cl_acc 1.000000 2.098sec\n"
     ]
    },
    {
     "name": "stdout",
     "output_type": "stream",
     "text": [
      "Epoch 347 tr: l 0.469 a 0.871  clct[36, 24] ans[24, 36] lr 0.007645 cl_acc 1.000000 42.822sec(train) 3.464sec(infer)\n"
     ]
    },
    {
     "name": "stdout",
     "output_type": "stream",
     "text": [
      "Epoch 347 tst: l 0.672 a 0.820  clct[20, 20] ans[20, 20] cl_acc 1.000000 2.115sec\n"
     ]
    },
    {
     "name": "stdout",
     "output_type": "stream",
     "text": [
      "Epoch 348 tr: l 0.461 a 0.875  clct[29, 31] ans[31, 29] lr 0.007568 cl_acc 1.000000 43.721sec(train) 3.443sec(infer)\n"
     ]
    },
    {
     "name": "stdout",
     "output_type": "stream",
     "text": [
      "Epoch 348 tst: l 0.672 a 0.820  clct[20, 20] ans[20, 20] cl_acc 1.000000 2.127sec\n"
     ]
    },
    {
     "name": "stdout",
     "output_type": "stream",
     "text": [
      "Epoch 349 tr: l 0.463 a 0.875  clct[32, 28] ans[28, 32] lr 0.007492 cl_acc 1.000000 42.814sec(train) 3.501sec(infer)\n"
     ]
    },
    {
     "name": "stdout",
     "output_type": "stream",
     "text": [
      "Epoch 349 tst: l 0.672 a 0.819  clct[20, 20] ans[20, 20] cl_acc 1.000000 2.168sec\n"
     ]
    },
    {
     "name": "stdout",
     "output_type": "stream",
     "text": [
      "Epoch 350 tr: l 0.453 a 0.877  clct[33, 27] ans[27, 33] lr 0.007418 cl_acc 1.000000 42.913sec(train) 3.496sec(infer)\n"
     ]
    },
    {
     "name": "stdout",
     "output_type": "stream",
     "text": [
      "Epoch 350 tst: l 0.672 a 0.821  clct[20, 20] ans[20, 20] cl_acc 1.000000 2.101sec\n",
      "result written at output/results.pickle\n"
     ]
    },
    {
     "name": "stdout",
     "output_type": "stream",
     "text": [
      "Epoch 351 tr: l 0.456 a 0.875  clct[28, 32] ans[32, 28] lr 0.007343 cl_acc 1.000000 42.873sec(train) 3.505sec(infer)\n"
     ]
    },
    {
     "name": "stdout",
     "output_type": "stream",
     "text": [
      "Epoch 351 tst: l 0.673 a 0.819  clct[20, 20] ans[20, 20] cl_acc 1.000000 2.153sec\n"
     ]
    },
    {
     "name": "stdout",
     "output_type": "stream",
     "text": [
      "Epoch 352 tr: l 0.456 a 0.876  clct[28, 32] ans[32, 28] lr 0.007270 cl_acc 1.000000 42.949sec(train) 3.444sec(infer)\n"
     ]
    },
    {
     "name": "stdout",
     "output_type": "stream",
     "text": [
      "Epoch 352 tst: l 0.670 a 0.820  clct[20, 20] ans[20, 20] cl_acc 1.000000 2.163sec\n"
     ]
    },
    {
     "name": "stdout",
     "output_type": "stream",
     "text": [
      "Epoch 353 tr: l 0.454 a 0.879  clct[32, 28] ans[28, 32] lr 0.007197 cl_acc 1.000000 42.854sec(train) 3.493sec(infer)\n"
     ]
    },
    {
     "name": "stdout",
     "output_type": "stream",
     "text": [
      "Epoch 353 tst: l 0.671 a 0.820  clct[20, 20] ans[20, 20] cl_acc 1.000000 2.136sec\n"
     ]
    },
    {
     "name": "stdout",
     "output_type": "stream",
     "text": [
      "Epoch 354 tr: l 0.449 a 0.880  clct[28, 32] ans[32, 28] lr 0.007125 cl_acc 1.000000 43.688sec(train) 3.464sec(infer)\n"
     ]
    },
    {
     "name": "stdout",
     "output_type": "stream",
     "text": [
      "Epoch 354 tst: l 0.671 a 0.821  clct[20, 20] ans[20, 20] cl_acc 1.000000 2.172sec\n"
     ]
    },
    {
     "name": "stdout",
     "output_type": "stream",
     "text": [
      "Epoch 355 tr: l 0.443 a 0.883  clct[28, 32] ans[32, 28] lr 0.007054 cl_acc 1.000000 43.740sec(train) 3.531sec(infer)\n"
     ]
    },
    {
     "name": "stdout",
     "output_type": "stream",
     "text": [
      "Epoch 355 tst: l 0.672 a 0.820  clct[20, 20] ans[20, 20] cl_acc 1.000000 2.177sec\n"
     ]
    },
    {
     "name": "stdout",
     "output_type": "stream",
     "text": [
      "Epoch 356 tr: l 0.447 a 0.882  clct[29, 31] ans[31, 29] lr 0.006983 cl_acc 1.000000 43.604sec(train) 3.538sec(infer)\n"
     ]
    },
    {
     "name": "stdout",
     "output_type": "stream",
     "text": [
      "Epoch 356 tst: l 0.671 a 0.820  clct[20, 20] ans[20, 20] cl_acc 1.000000 2.141sec\n"
     ]
    },
    {
     "name": "stdout",
     "output_type": "stream",
     "text": [
      "Epoch 357 tr: l 0.469 a 0.873  clct[35, 25] ans[25, 35] lr 0.006914 cl_acc 1.000000 43.519sec(train) 3.506sec(infer)\n"
     ]
    },
    {
     "name": "stdout",
     "output_type": "stream",
     "text": [
      "Epoch 357 tst: l 0.670 a 0.821  clct[20, 20] ans[20, 20] cl_acc 1.000000 2.173sec\n"
     ]
    },
    {
     "name": "stdout",
     "output_type": "stream",
     "text": [
      "Epoch 358 tr: l 0.466 a 0.873  clct[29, 31] ans[31, 29] lr 0.006844 cl_acc 1.000000 43.586sec(train) 3.454sec(infer)\n"
     ]
    },
    {
     "name": "stdout",
     "output_type": "stream",
     "text": [
      "Epoch 358 tst: l 0.671 a 0.819  clct[20, 20] ans[20, 20] cl_acc 1.000000 2.121sec\n"
     ]
    },
    {
     "name": "stdout",
     "output_type": "stream",
     "text": [
      "Epoch 359 tr: l 0.454 a 0.878  clct[30, 30] ans[30, 30] lr 0.006776 cl_acc 1.000000 43.642sec(train) 3.433sec(infer)\n"
     ]
    },
    {
     "name": "stdout",
     "output_type": "stream",
     "text": [
      "Epoch 359 tst: l 0.670 a 0.821  clct[20, 20] ans[20, 20] cl_acc 1.000000 2.149sec\n"
     ]
    },
    {
     "name": "stdout",
     "output_type": "stream",
     "text": [
      "Epoch 360 tr: l 0.446 a 0.881  clct[24, 36] ans[36, 24] lr 0.006708 cl_acc 1.000000 43.710sec(train) 3.476sec(infer)\n"
     ]
    },
    {
     "name": "stdout",
     "output_type": "stream",
     "text": [
      "Epoch 360 tst: l 0.671 a 0.819  clct[20, 20] ans[20, 20] cl_acc 1.000000 2.154sec\n",
      "result written at output/results.pickle\n"
     ]
    },
    {
     "name": "stdout",
     "output_type": "stream",
     "text": [
      "Epoch 361 tr: l 0.452 a 0.879  clct[31, 29] ans[29, 31] lr 0.006641 cl_acc 1.000000 43.726sec(train) 3.452sec(infer)\n"
     ]
    },
    {
     "name": "stdout",
     "output_type": "stream",
     "text": [
      "Epoch 361 tst: l 0.671 a 0.821  clct[20, 20] ans[20, 20] cl_acc 1.000000 2.116sec\n"
     ]
    },
    {
     "name": "stdout",
     "output_type": "stream",
     "text": [
      "Epoch 362 tr: l 0.462 a 0.876  clct[33, 27] ans[27, 33] lr 0.006575 cl_acc 1.000000 43.756sec(train) 3.495sec(infer)\n"
     ]
    },
    {
     "name": "stdout",
     "output_type": "stream",
     "text": [
      "Epoch 362 tst: l 0.670 a 0.820  clct[20, 20] ans[20, 20] cl_acc 1.000000 2.181sec\n"
     ]
    },
    {
     "name": "stdout",
     "output_type": "stream",
     "text": [
      "Epoch 363 tr: l 0.448 a 0.880  clct[27, 33] ans[33, 27] lr 0.006509 cl_acc 1.000000 43.475sec(train) 3.505sec(infer)\n"
     ]
    },
    {
     "name": "stdout",
     "output_type": "stream",
     "text": [
      "Epoch 363 tst: l 0.669 a 0.820  clct[20, 20] ans[20, 20] cl_acc 1.000000 2.170sec\n"
     ]
    },
    {
     "name": "stdout",
     "output_type": "stream",
     "text": [
      "Epoch 364 tr: l 0.456 a 0.877  clct[33, 27] ans[27, 33] lr 0.006444 cl_acc 1.000000 43.595sec(train) 3.525sec(infer)\n"
     ]
    },
    {
     "name": "stdout",
     "output_type": "stream",
     "text": [
      "Epoch 364 tst: l 0.670 a 0.820  clct[20, 20] ans[20, 20] cl_acc 1.000000 2.159sec\n"
     ]
    },
    {
     "name": "stdout",
     "output_type": "stream",
     "text": [
      "Epoch 365 tr: l 0.441 a 0.882  clct[28, 32] ans[32, 28] lr 0.006379 cl_acc 1.000000 43.759sec(train) 3.572sec(infer)\n"
     ]
    },
    {
     "name": "stdout",
     "output_type": "stream",
     "text": [
      "Epoch 365 tst: l 0.670 a 0.821  clct[20, 20] ans[20, 20] cl_acc 1.000000 2.171sec\n"
     ]
    },
    {
     "name": "stdout",
     "output_type": "stream",
     "text": [
      "Epoch 366 tr: l 0.467 a 0.872  clct[26, 34] ans[34, 26] lr 0.006316 cl_acc 1.000000 43.812sec(train) 3.519sec(infer)\n"
     ]
    },
    {
     "name": "stdout",
     "output_type": "stream",
     "text": [
      "Epoch 366 tst: l 0.670 a 0.820  clct[20, 20] ans[20, 20] cl_acc 1.000000 2.133sec\n"
     ]
    },
    {
     "name": "stdout",
     "output_type": "stream",
     "text": [
      "Epoch 367 tr: l 0.485 a 0.868  clct[33, 27] ans[27, 33] lr 0.006253 cl_acc 1.000000 42.765sec(train) 3.468sec(infer)\n"
     ]
    },
    {
     "name": "stdout",
     "output_type": "stream",
     "text": [
      "Epoch 367 tst: l 0.670 a 0.820  clct[20, 20] ans[20, 20] cl_acc 1.000000 2.136sec\n"
     ]
    },
    {
     "name": "stdout",
     "output_type": "stream",
     "text": [
      "Epoch 368 tr: l 0.451 a 0.878  clct[33, 27] ans[27, 33] lr 0.006190 cl_acc 1.000000 43.539sec(train) 3.551sec(infer)\n"
     ]
    },
    {
     "name": "stdout",
     "output_type": "stream",
     "text": [
      "Epoch 368 tst: l 0.671 a 0.819  clct[20, 20] ans[20, 20] cl_acc 1.000000 2.177sec\n"
     ]
    },
    {
     "name": "stdout",
     "output_type": "stream",
     "text": [
      "Epoch 369 tr: l 0.433 a 0.885  clct[25, 35] ans[35, 25] lr 0.006128 cl_acc 1.000000 43.685sec(train) 3.517sec(infer)\n"
     ]
    },
    {
     "name": "stdout",
     "output_type": "stream",
     "text": [
      "Epoch 369 tst: l 0.671 a 0.820  clct[20, 20] ans[20, 20] cl_acc 1.000000 2.150sec\n"
     ]
    },
    {
     "name": "stdout",
     "output_type": "stream",
     "text": [
      "Epoch 370 tr: l 0.445 a 0.881  clct[29, 31] ans[31, 29] lr 0.006067 cl_acc 1.000000 43.572sec(train) 3.527sec(infer)\n"
     ]
    },
    {
     "name": "stdout",
     "output_type": "stream",
     "text": [
      "Epoch 370 tst: l 0.672 a 0.820  clct[20, 20] ans[20, 20] cl_acc 1.000000 2.178sec\n",
      "result written at output/results.pickle\n"
     ]
    },
    {
     "name": "stdout",
     "output_type": "stream",
     "text": [
      "Epoch 371 tr: l 0.450 a 0.879  clct[29, 31] ans[31, 29] lr 0.006006 cl_acc 1.000000 43.570sec(train) 3.551sec(infer)\n"
     ]
    },
    {
     "name": "stdout",
     "output_type": "stream",
     "text": [
      "Epoch 371 tst: l 0.670 a 0.821  clct[20, 20] ans[20, 20] cl_acc 1.000000 2.180sec\n"
     ]
    },
    {
     "name": "stdout",
     "output_type": "stream",
     "text": [
      "Epoch 372 tr: l 0.458 a 0.876  clct[34, 26] ans[26, 34] lr 0.005946 cl_acc 1.000000 43.599sec(train) 3.529sec(infer)\n"
     ]
    },
    {
     "name": "stdout",
     "output_type": "stream",
     "text": [
      "Epoch 372 tst: l 0.671 a 0.821  clct[20, 20] ans[20, 20] cl_acc 1.000000 2.127sec\n"
     ]
    },
    {
     "name": "stdout",
     "output_type": "stream",
     "text": [
      "Epoch 373 tr: l 0.445 a 0.880  clct[32, 28] ans[28, 32] lr 0.005887 cl_acc 1.000000 43.787sec(train) 3.450sec(infer)\n"
     ]
    },
    {
     "name": "stdout",
     "output_type": "stream",
     "text": [
      "Epoch 373 tst: l 0.672 a 0.820  clct[20, 20] ans[20, 20] cl_acc 1.000000 2.115sec\n"
     ]
    },
    {
     "name": "stdout",
     "output_type": "stream",
     "text": [
      "Epoch 374 tr: l 0.459 a 0.875  clct[35, 25] ans[25, 35] lr 0.005828 cl_acc 1.000000 43.543sec(train) 3.414sec(infer)\n"
     ]
    },
    {
     "name": "stdout",
     "output_type": "stream",
     "text": [
      "Epoch 374 tst: l 0.671 a 0.820  clct[20, 20] ans[20, 20] cl_acc 1.000000 2.124sec\n"
     ]
    },
    {
     "name": "stdout",
     "output_type": "stream",
     "text": [
      "Epoch 375 tr: l 0.451 a 0.880  clct[31, 29] ans[29, 31] lr 0.005769 cl_acc 1.000000 43.639sec(train) 3.526sec(infer)\n"
     ]
    },
    {
     "name": "stdout",
     "output_type": "stream",
     "text": [
      "Epoch 375 tst: l 0.672 a 0.819  clct[20, 20] ans[20, 20] cl_acc 1.000000 2.185sec\n"
     ]
    },
    {
     "name": "stdout",
     "output_type": "stream",
     "text": [
      "Epoch 376 tr: l 0.438 a 0.883  clct[26, 34] ans[34, 26] lr 0.005712 cl_acc 1.000000 43.623sec(train) 3.531sec(infer)\n"
     ]
    },
    {
     "name": "stdout",
     "output_type": "stream",
     "text": [
      "Epoch 376 tst: l 0.672 a 0.819  clct[20, 20] ans[20, 20] cl_acc 1.000000 2.183sec\n"
     ]
    },
    {
     "name": "stdout",
     "output_type": "stream",
     "text": [
      "Epoch 377 tr: l 0.438 a 0.882  clct[32, 28] ans[28, 32] lr 0.005655 cl_acc 1.000000 43.665sec(train) 3.453sec(infer)\n"
     ]
    },
    {
     "name": "stdout",
     "output_type": "stream",
     "text": [
      "Epoch 377 tst: l 0.674 a 0.820  clct[20, 20] ans[20, 20] cl_acc 1.000000 2.131sec\n"
     ]
    },
    {
     "name": "stdout",
     "output_type": "stream",
     "text": [
      "Epoch 378 tr: l 0.441 a 0.879  clct[28, 32] ans[32, 28] lr 0.005598 cl_acc 1.000000 43.702sec(train) 3.434sec(infer)\n"
     ]
    },
    {
     "name": "stdout",
     "output_type": "stream",
     "text": [
      "Epoch 378 tst: l 0.675 a 0.818  clct[20, 20] ans[20, 20] cl_acc 1.000000 2.177sec\n"
     ]
    },
    {
     "name": "stdout",
     "output_type": "stream",
     "text": [
      "Epoch 379 tr: l 0.438 a 0.883  clct[30, 30] ans[30, 30] lr 0.005542 cl_acc 1.000000 43.677sec(train) 3.432sec(infer)\n"
     ]
    },
    {
     "name": "stdout",
     "output_type": "stream",
     "text": [
      "Epoch 379 tst: l 0.674 a 0.818  clct[20, 20] ans[20, 20] cl_acc 1.000000 2.171sec\n"
     ]
    },
    {
     "name": "stdout",
     "output_type": "stream",
     "text": [
      "Epoch 380 tr: l 0.442 a 0.881  clct[30, 30] ans[30, 30] lr 0.005487 cl_acc 1.000000 43.628sec(train) 3.544sec(infer)\n"
     ]
    },
    {
     "name": "stdout",
     "output_type": "stream",
     "text": [
      "Epoch 380 tst: l 0.672 a 0.819  clct[20, 20] ans[20, 20] cl_acc 1.000000 2.140sec\n",
      "result written at output/results.pickle\n"
     ]
    },
    {
     "name": "stdout",
     "output_type": "stream",
     "text": [
      "Epoch 381 tr: l 0.449 a 0.880  clct[32, 28] ans[28, 32] lr 0.005432 cl_acc 1.000000 43.669sec(train) 3.543sec(infer)\n"
     ]
    },
    {
     "name": "stdout",
     "output_type": "stream",
     "text": [
      "Epoch 381 tst: l 0.672 a 0.819  clct[20, 20] ans[20, 20] cl_acc 1.000000 2.115sec\n"
     ]
    },
    {
     "name": "stdout",
     "output_type": "stream",
     "text": [
      "Epoch 382 tr: l 0.456 a 0.878  clct[34, 26] ans[26, 34] lr 0.005378 cl_acc 1.000000 43.527sec(train) 3.546sec(infer)\n"
     ]
    },
    {
     "name": "stdout",
     "output_type": "stream",
     "text": [
      "Epoch 382 tst: l 0.672 a 0.819  clct[20, 20] ans[20, 20] cl_acc 1.000000 2.224sec\n"
     ]
    },
    {
     "name": "stdout",
     "output_type": "stream",
     "text": [
      "Epoch 383 tr: l 0.447 a 0.879  clct[32, 28] ans[28, 32] lr 0.005324 cl_acc 1.000000 43.669sec(train) 3.430sec(infer)\n"
     ]
    },
    {
     "name": "stdout",
     "output_type": "stream",
     "text": [
      "Epoch 383 tst: l 0.672 a 0.819  clct[20, 20] ans[20, 20] cl_acc 1.000000 2.150sec\n"
     ]
    },
    {
     "name": "stdout",
     "output_type": "stream",
     "text": [
      "Epoch 384 tr: l 0.447 a 0.882  clct[30, 30] ans[30, 30] lr 0.005271 cl_acc 1.000000 43.633sec(train) 3.461sec(infer)\n"
     ]
    },
    {
     "name": "stdout",
     "output_type": "stream",
     "text": [
      "Epoch 384 tst: l 0.671 a 0.820  clct[20, 20] ans[20, 20] cl_acc 1.000000 2.220sec\n"
     ]
    },
    {
     "name": "stdout",
     "output_type": "stream",
     "text": [
      "Epoch 385 tr: l 0.444 a 0.882  clct[35, 25] ans[25, 35] lr 0.005218 cl_acc 1.000000 42.837sec(train) 3.515sec(infer)\n"
     ]
    },
    {
     "name": "stdout",
     "output_type": "stream",
     "text": [
      "Epoch 385 tst: l 0.670 a 0.820  clct[20, 20] ans[20, 20] cl_acc 1.000000 2.183sec\n"
     ]
    },
    {
     "name": "stdout",
     "output_type": "stream",
     "text": [
      "Epoch 386 tr: l 0.460 a 0.875  clct[29, 31] ans[31, 29] lr 0.005166 cl_acc 1.000000 43.679sec(train) 3.551sec(infer)\n"
     ]
    },
    {
     "name": "stdout",
     "output_type": "stream",
     "text": [
      "Epoch 386 tst: l 0.672 a 0.820  clct[20, 20] ans[20, 20] cl_acc 1.000000 2.192sec\n"
     ]
    },
    {
     "name": "stdout",
     "output_type": "stream",
     "text": [
      "Epoch 387 tr: l 0.422 a 0.889  clct[33, 27] ans[27, 33] lr 0.005114 cl_acc 1.000000 43.615sec(train) 3.475sec(infer)\n"
     ]
    },
    {
     "name": "stdout",
     "output_type": "stream",
     "text": [
      "Epoch 387 tst: l 0.672 a 0.820  clct[20, 20] ans[20, 20] cl_acc 1.000000 2.208sec\n"
     ]
    },
    {
     "name": "stdout",
     "output_type": "stream",
     "text": [
      "Epoch 388 tr: l 0.435 a 0.882  clct[26, 34] ans[34, 26] lr 0.005063 cl_acc 1.000000 43.713sec(train) 3.428sec(infer)\n"
     ]
    },
    {
     "name": "stdout",
     "output_type": "stream",
     "text": [
      "Epoch 388 tst: l 0.672 a 0.819  clct[20, 20] ans[20, 20] cl_acc 1.000000 2.170sec\n"
     ]
    },
    {
     "name": "stdout",
     "output_type": "stream",
     "text": [
      "Epoch 389 tr: l 0.424 a 0.888  clct[28, 32] ans[32, 28] lr 0.005012 cl_acc 1.000000 43.497sec(train) 3.479sec(infer)\n"
     ]
    },
    {
     "name": "stdout",
     "output_type": "stream",
     "text": [
      "Epoch 389 tst: l 0.673 a 0.818  clct[20, 20] ans[20, 20] cl_acc 1.000000 2.143sec\n"
     ]
    },
    {
     "name": "stdout",
     "output_type": "stream",
     "text": [
      "Epoch 390 tr: l 0.425 a 0.886  clct[37, 23] ans[23, 37] lr 0.004962 cl_acc 1.000000 43.810sec(train) 3.458sec(infer)\n"
     ]
    },
    {
     "name": "stdout",
     "output_type": "stream",
     "text": [
      "Epoch 390 tst: l 0.674 a 0.819  clct[20, 20] ans[20, 20] cl_acc 1.000000 2.142sec\n",
      "result written at output/results.pickle\n"
     ]
    },
    {
     "name": "stdout",
     "output_type": "stream",
     "text": [
      "Epoch 391 tr: l 0.446 a 0.881  clct[33, 27] ans[27, 33] lr 0.004912 cl_acc 1.000000 43.065sec(train) 3.484sec(infer)\n"
     ]
    },
    {
     "name": "stdout",
     "output_type": "stream",
     "text": [
      "Epoch 391 tst: l 0.672 a 0.820  clct[20, 20] ans[20, 20] cl_acc 1.000000 2.151sec\n"
     ]
    },
    {
     "name": "stdout",
     "output_type": "stream",
     "text": [
      "Epoch 392 tr: l 0.456 a 0.877  clct[36, 24] ans[24, 36] lr 0.004863 cl_acc 1.000000 43.656sec(train) 3.486sec(infer)\n"
     ]
    },
    {
     "name": "stdout",
     "output_type": "stream",
     "text": [
      "Epoch 392 tst: l 0.672 a 0.820  clct[20, 20] ans[20, 20] cl_acc 1.000000 2.131sec\n"
     ]
    },
    {
     "name": "stdout",
     "output_type": "stream",
     "text": [
      "Epoch 393 tr: l 0.462 a 0.876  clct[30, 30] ans[30, 30] lr 0.004815 cl_acc 1.000000 43.667sec(train) 3.411sec(infer)\n"
     ]
    },
    {
     "name": "stdout",
     "output_type": "stream",
     "text": [
      "Epoch 393 tst: l 0.671 a 0.821  clct[20, 20] ans[20, 20] cl_acc 1.000000 2.086sec\n"
     ]
    },
    {
     "name": "stdout",
     "output_type": "stream",
     "text": [
      "Epoch 394 tr: l 0.456 a 0.875  clct[28, 32] ans[32, 28] lr 0.004767 cl_acc 1.000000 43.756sec(train) 3.425sec(infer)\n"
     ]
    },
    {
     "name": "stdout",
     "output_type": "stream",
     "text": [
      "Epoch 394 tst: l 0.671 a 0.820  clct[20, 20] ans[20, 20] cl_acc 1.000000 2.125sec\n"
     ]
    },
    {
     "name": "stdout",
     "output_type": "stream",
     "text": [
      "Epoch 395 tr: l 0.444 a 0.879  clct[33, 27] ans[27, 33] lr 0.004719 cl_acc 1.000000 42.869sec(train) 3.449sec(infer)\n"
     ]
    },
    {
     "name": "stdout",
     "output_type": "stream",
     "text": [
      "Epoch 395 tst: l 0.672 a 0.820  clct[20, 20] ans[20, 20] cl_acc 1.000000 2.151sec\n"
     ]
    },
    {
     "name": "stdout",
     "output_type": "stream",
     "text": [
      "Epoch 396 tr: l 0.422 a 0.886  clct[31, 29] ans[29, 31] lr 0.004672 cl_acc 1.000000 43.339sec(train) 3.523sec(infer)\n"
     ]
    },
    {
     "name": "stdout",
     "output_type": "stream",
     "text": [
      "Epoch 396 tst: l 0.672 a 0.819  clct[20, 20] ans[20, 20] cl_acc 1.000000 2.136sec\n"
     ]
    },
    {
     "name": "stdout",
     "output_type": "stream",
     "text": [
      "Epoch 397 tr: l 0.432 a 0.885  clct[29, 31] ans[31, 29] lr 0.004625 cl_acc 1.000000 43.807sec(train) 3.467sec(infer)\n"
     ]
    },
    {
     "name": "stdout",
     "output_type": "stream",
     "text": [
      "Epoch 397 tst: l 0.672 a 0.820  clct[20, 20] ans[20, 20] cl_acc 1.000000 2.136sec\n"
     ]
    },
    {
     "name": "stdout",
     "output_type": "stream",
     "text": [
      "Epoch 398 tr: l 0.433 a 0.882  clct[26, 34] ans[34, 26] lr 0.004579 cl_acc 1.000000 43.719sec(train) 3.503sec(infer)\n"
     ]
    },
    {
     "name": "stdout",
     "output_type": "stream",
     "text": [
      "Epoch 398 tst: l 0.672 a 0.821  clct[20, 20] ans[20, 20] cl_acc 1.000000 2.129sec\n"
     ]
    },
    {
     "name": "stdout",
     "output_type": "stream",
     "text": [
      "Epoch 399 tr: l 0.440 a 0.882  clct[34, 26] ans[26, 34] lr 0.004533 cl_acc 1.000000 43.766sec(train) 3.544sec(infer)\n"
     ]
    },
    {
     "name": "stdout",
     "output_type": "stream",
     "text": [
      "Epoch 399 tst: l 0.671 a 0.820  clct[20, 20] ans[20, 20] cl_acc 1.000000 2.144sec\n"
     ]
    },
    {
     "name": "stdout",
     "output_type": "stream",
     "text": [
      "Epoch 400 tr: l 0.443 a 0.879  clct[31, 29] ans[29, 31] lr 0.004488 cl_acc 1.000000 43.648sec(train) 3.572sec(infer)\n"
     ]
    },
    {
     "name": "stdout",
     "output_type": "stream",
     "text": [
      "Epoch 400 tst: l 0.673 a 0.819  clct[20, 20] ans[20, 20] cl_acc 1.000000 2.157sec\n",
      "result written at output/results.pickle\n"
     ]
    },
    {
     "name": "stdout",
     "output_type": "stream",
     "text": [
      "Epoch 401 tr: l 0.457 a 0.875  clct[31, 29] ans[29, 31] lr 0.004443 cl_acc 1.000000 43.376sec(train) 3.532sec(infer)\n"
     ]
    },
    {
     "name": "stdout",
     "output_type": "stream",
     "text": [
      "Epoch 401 tst: l 0.673 a 0.819  clct[20, 20] ans[20, 20] cl_acc 1.000000 2.175sec\n"
     ]
    },
    {
     "name": "stdout",
     "output_type": "stream",
     "text": [
      "Epoch 402 tr: l 0.423 a 0.887  clct[37, 23] ans[23, 37] lr 0.004398 cl_acc 1.000000 43.739sec(train) 3.507sec(infer)\n"
     ]
    },
    {
     "name": "stdout",
     "output_type": "stream",
     "text": [
      "Epoch 402 tst: l 0.673 a 0.819  clct[20, 20] ans[20, 20] cl_acc 1.000000 2.150sec\n"
     ]
    },
    {
     "name": "stdout",
     "output_type": "stream",
     "text": [
      "Epoch 403 tr: l 0.434 a 0.883  clct[29, 31] ans[31, 29] lr 0.004354 cl_acc 1.000000 43.656sec(train) 3.419sec(infer)\n"
     ]
    },
    {
     "name": "stdout",
     "output_type": "stream",
     "text": [
      "Epoch 403 tst: l 0.674 a 0.819  clct[20, 20] ans[20, 20] cl_acc 1.000000 2.101sec\n"
     ]
    },
    {
     "name": "stdout",
     "output_type": "stream",
     "text": [
      "Epoch 404 tr: l 0.450 a 0.879  clct[29, 31] ans[31, 29] lr 0.004311 cl_acc 1.000000 43.588sec(train) 3.441sec(infer)\n"
     ]
    },
    {
     "name": "stdout",
     "output_type": "stream",
     "text": [
      "Epoch 404 tst: l 0.674 a 0.820  clct[20, 20] ans[20, 20] cl_acc 1.000000 2.136sec\n"
     ]
    },
    {
     "name": "stdout",
     "output_type": "stream",
     "text": [
      "Epoch 405 tr: l 0.413 a 0.892  clct[27, 33] ans[33, 27] lr 0.004268 cl_acc 1.000000 43.789sec(train) 3.500sec(infer)\n"
     ]
    },
    {
     "name": "stdout",
     "output_type": "stream",
     "text": [
      "Epoch 405 tst: l 0.672 a 0.820  clct[20, 20] ans[20, 20] cl_acc 1.000000 2.172sec\n"
     ]
    },
    {
     "name": "stdout",
     "output_type": "stream",
     "text": [
      "Epoch 406 tr: l 0.438 a 0.883  clct[33, 27] ans[27, 33] lr 0.004225 cl_acc 1.000000 43.595sec(train) 3.499sec(infer)\n"
     ]
    },
    {
     "name": "stdout",
     "output_type": "stream",
     "text": [
      "Epoch 406 tst: l 0.672 a 0.820  clct[20, 20] ans[20, 20] cl_acc 1.000000 2.151sec\n"
     ]
    },
    {
     "name": "stdout",
     "output_type": "stream",
     "text": [
      "Epoch 407 tr: l 0.430 a 0.885  clct[30, 30] ans[30, 30] lr 0.004183 cl_acc 1.000000 43.801sec(train) 3.544sec(infer)\n"
     ]
    },
    {
     "name": "stdout",
     "output_type": "stream",
     "text": [
      "Epoch 407 tst: l 0.673 a 0.819  clct[20, 20] ans[20, 20] cl_acc 1.000000 2.221sec\n"
     ]
    },
    {
     "name": "stdout",
     "output_type": "stream",
     "text": [
      "Epoch 408 tr: l 0.427 a 0.884  clct[29, 31] ans[31, 29] lr 0.004141 cl_acc 1.000000 43.590sec(train) 3.517sec(infer)\n"
     ]
    },
    {
     "name": "stdout",
     "output_type": "stream",
     "text": [
      "Epoch 408 tst: l 0.672 a 0.819  clct[20, 20] ans[20, 20] cl_acc 1.000000 2.209sec\n"
     ]
    },
    {
     "name": "stdout",
     "output_type": "stream",
     "text": [
      "Epoch 409 tr: l 0.449 a 0.878  clct[28, 32] ans[32, 28] lr 0.004100 cl_acc 1.000000 43.633sec(train) 3.554sec(infer)\n"
     ]
    },
    {
     "name": "stdout",
     "output_type": "stream",
     "text": [
      "Epoch 409 tst: l 0.670 a 0.821  clct[20, 20] ans[20, 20] cl_acc 1.000000 2.174sec\n"
     ]
    },
    {
     "name": "stdout",
     "output_type": "stream",
     "text": [
      "Epoch 410 tr: l 0.420 a 0.888  clct[27, 33] ans[33, 27] lr 0.004059 cl_acc 1.000000 43.525sec(train) 3.515sec(infer)\n"
     ]
    },
    {
     "name": "stdout",
     "output_type": "stream",
     "text": [
      "Epoch 410 tst: l 0.671 a 0.820  clct[20, 20] ans[20, 20] cl_acc 1.000000 2.180sec\n",
      "result written at output/results.pickle\n"
     ]
    },
    {
     "name": "stdout",
     "output_type": "stream",
     "text": [
      "Epoch 411 tr: l 0.430 a 0.884  clct[24, 36] ans[36, 24] lr 0.004018 cl_acc 1.000000 43.500sec(train) 3.376sec(infer)\n"
     ]
    },
    {
     "name": "stdout",
     "output_type": "stream",
     "text": [
      "Epoch 411 tst: l 0.671 a 0.820  clct[20, 20] ans[20, 20] cl_acc 1.000000 2.150sec\n"
     ]
    },
    {
     "name": "stdout",
     "output_type": "stream",
     "text": [
      "Epoch 412 tr: l 0.437 a 0.883  clct[30, 30] ans[30, 30] lr 0.003978 cl_acc 1.000000 43.563sec(train) 3.470sec(infer)\n"
     ]
    },
    {
     "name": "stdout",
     "output_type": "stream",
     "text": [
      "Epoch 412 tst: l 0.672 a 0.819  clct[20, 20] ans[20, 20] cl_acc 1.000000 2.100sec\n"
     ]
    },
    {
     "name": "stdout",
     "output_type": "stream",
     "text": [
      "Epoch 413 tr: l 0.448 a 0.880  clct[32, 28] ans[28, 32] lr 0.003938 cl_acc 1.000000 43.712sec(train) 3.477sec(infer)\n"
     ]
    },
    {
     "name": "stdout",
     "output_type": "stream",
     "text": [
      "Epoch 413 tst: l 0.672 a 0.820  clct[20, 20] ans[20, 20] cl_acc 1.000000 2.116sec\n"
     ]
    },
    {
     "name": "stdout",
     "output_type": "stream",
     "text": [
      "Epoch 414 tr: l 0.440 a 0.880  clct[35, 25] ans[25, 35] lr 0.003899 cl_acc 1.000000 43.727sec(train) 3.496sec(infer)\n"
     ]
    },
    {
     "name": "stdout",
     "output_type": "stream",
     "text": [
      "Epoch 414 tst: l 0.671 a 0.820  clct[20, 20] ans[20, 20] cl_acc 1.000000 2.122sec\n"
     ]
    },
    {
     "name": "stdout",
     "output_type": "stream",
     "text": [
      "Epoch 415 tr: l 0.450 a 0.878  clct[30, 30] ans[30, 30] lr 0.003860 cl_acc 1.000000 43.702sec(train) 3.462sec(infer)\n"
     ]
    },
    {
     "name": "stdout",
     "output_type": "stream",
     "text": [
      "Epoch 415 tst: l 0.672 a 0.818  clct[20, 20] ans[20, 20] cl_acc 1.000000 2.105sec\n"
     ]
    },
    {
     "name": "stdout",
     "output_type": "stream",
     "text": [
      "Epoch 416 tr: l 0.413 a 0.891  clct[35, 25] ans[25, 35] lr 0.003821 cl_acc 1.000000 43.601sec(train) 3.573sec(infer)\n"
     ]
    },
    {
     "name": "stdout",
     "output_type": "stream",
     "text": [
      "Epoch 416 tst: l 0.673 a 0.819  clct[20, 20] ans[20, 20] cl_acc 1.000000 2.141sec\n"
     ]
    },
    {
     "name": "stdout",
     "output_type": "stream",
     "text": [
      "Epoch 417 tr: l 0.398 a 0.897  clct[34, 26] ans[26, 34] lr 0.003783 cl_acc 1.000000 43.648sec(train) 3.483sec(infer)\n"
     ]
    },
    {
     "name": "stdout",
     "output_type": "stream",
     "text": [
      "Epoch 417 tst: l 0.672 a 0.818  clct[20, 20] ans[20, 20] cl_acc 1.000000 2.126sec\n"
     ]
    },
    {
     "name": "stdout",
     "output_type": "stream",
     "text": [
      "Epoch 418 tr: l 0.435 a 0.881  clct[31, 29] ans[29, 31] lr 0.003745 cl_acc 1.000000 42.787sec(train) 3.477sec(infer)\n"
     ]
    },
    {
     "name": "stdout",
     "output_type": "stream",
     "text": [
      "Epoch 418 tst: l 0.673 a 0.819  clct[20, 20] ans[20, 20] cl_acc 1.000000 2.154sec\n"
     ]
    },
    {
     "name": "stdout",
     "output_type": "stream",
     "text": [
      "Epoch 419 tr: l 0.407 a 0.892  clct[27, 33] ans[33, 27] lr 0.003708 cl_acc 1.000000 43.727sec(train) 3.473sec(infer)\n"
     ]
    },
    {
     "name": "stdout",
     "output_type": "stream",
     "text": [
      "Epoch 419 tst: l 0.673 a 0.820  clct[20, 20] ans[20, 20] cl_acc 1.000000 2.178sec\n"
     ]
    },
    {
     "name": "stdout",
     "output_type": "stream",
     "text": [
      "Epoch 420 tr: l 0.425 a 0.888  clct[28, 32] ans[32, 28] lr 0.003670 cl_acc 1.000000 43.515sec(train) 3.535sec(infer)\n"
     ]
    },
    {
     "name": "stdout",
     "output_type": "stream",
     "text": [
      "Epoch 420 tst: l 0.672 a 0.819  clct[20, 20] ans[20, 20] cl_acc 1.000000 2.194sec\n",
      "result written at output/results.pickle\n"
     ]
    },
    {
     "name": "stdout",
     "output_type": "stream",
     "text": [
      "Epoch 421 tr: l 0.430 a 0.885  clct[34, 26] ans[26, 34] lr 0.003634 cl_acc 1.000000 43.651sec(train) 3.505sec(infer)\n"
     ]
    },
    {
     "name": "stdout",
     "output_type": "stream",
     "text": [
      "Epoch 421 tst: l 0.672 a 0.819  clct[20, 20] ans[20, 20] cl_acc 1.000000 2.177sec\n"
     ]
    },
    {
     "name": "stdout",
     "output_type": "stream",
     "text": [
      "Epoch 422 tr: l 0.445 a 0.880  clct[31, 29] ans[29, 31] lr 0.003597 cl_acc 1.000000 43.583sec(train) 3.569sec(infer)\n"
     ]
    },
    {
     "name": "stdout",
     "output_type": "stream",
     "text": [
      "Epoch 422 tst: l 0.673 a 0.818  clct[20, 20] ans[20, 20] cl_acc 1.000000 2.131sec\n"
     ]
    },
    {
     "name": "stdout",
     "output_type": "stream",
     "text": [
      "Epoch 423 tr: l 0.414 a 0.889  clct[26, 34] ans[34, 26] lr 0.003561 cl_acc 1.000000 43.724sec(train) 3.415sec(infer)\n"
     ]
    },
    {
     "name": "stdout",
     "output_type": "stream",
     "text": [
      "Epoch 423 tst: l 0.673 a 0.819  clct[20, 20] ans[20, 20] cl_acc 1.000000 2.127sec\n"
     ]
    },
    {
     "name": "stdout",
     "output_type": "stream",
     "text": [
      "Epoch 424 tr: l 0.437 a 0.882  clct[28, 32] ans[32, 28] lr 0.003526 cl_acc 1.000000 43.686sec(train) 3.478sec(infer)\n"
     ]
    },
    {
     "name": "stdout",
     "output_type": "stream",
     "text": [
      "Epoch 424 tst: l 0.673 a 0.820  clct[20, 20] ans[20, 20] cl_acc 1.000000 2.200sec\n"
     ]
    },
    {
     "name": "stdout",
     "output_type": "stream",
     "text": [
      "Epoch 425 tr: l 0.433 a 0.884  clct[35, 25] ans[25, 35] lr 0.003491 cl_acc 1.000000 43.807sec(train) 3.521sec(infer)\n"
     ]
    },
    {
     "name": "stdout",
     "output_type": "stream",
     "text": [
      "Epoch 425 tst: l 0.672 a 0.820  clct[20, 20] ans[20, 20] cl_acc 1.000000 2.196sec\n"
     ]
    },
    {
     "name": "stdout",
     "output_type": "stream",
     "text": [
      "Epoch 426 tr: l 0.414 a 0.890  clct[32, 28] ans[28, 32] lr 0.003456 cl_acc 1.000000 42.837sec(train) 3.441sec(infer)\n"
     ]
    },
    {
     "name": "stdout",
     "output_type": "stream",
     "text": [
      "Epoch 426 tst: l 0.671 a 0.820  clct[20, 20] ans[20, 20] cl_acc 1.000000 2.196sec\n"
     ]
    },
    {
     "name": "stdout",
     "output_type": "stream",
     "text": [
      "Epoch 427 tr: l 0.413 a 0.890  clct[26, 34] ans[34, 26] lr 0.003421 cl_acc 1.000000 43.746sec(train) 3.447sec(infer)\n"
     ]
    },
    {
     "name": "stdout",
     "output_type": "stream",
     "text": [
      "Epoch 427 tst: l 0.671 a 0.820  clct[20, 20] ans[20, 20] cl_acc 1.000000 2.166sec\n"
     ]
    },
    {
     "name": "stdout",
     "output_type": "stream",
     "text": [
      "Epoch 428 tr: l 0.442 a 0.882  clct[28, 32] ans[32, 28] lr 0.003387 cl_acc 1.000000 43.609sec(train) 3.544sec(infer)\n"
     ]
    },
    {
     "name": "stdout",
     "output_type": "stream",
     "text": [
      "Epoch 428 tst: l 0.672 a 0.820  clct[20, 20] ans[20, 20] cl_acc 1.000000 2.194sec\n"
     ]
    },
    {
     "name": "stdout",
     "output_type": "stream",
     "text": [
      "Epoch 429 tr: l 0.407 a 0.894  clct[29, 31] ans[31, 29] lr 0.003353 cl_acc 1.000000 42.762sec(train) 3.457sec(infer)\n"
     ]
    },
    {
     "name": "stdout",
     "output_type": "stream",
     "text": [
      "Epoch 429 tst: l 0.672 a 0.820  clct[20, 20] ans[20, 20] cl_acc 1.000000 2.169sec\n"
     ]
    },
    {
     "name": "stdout",
     "output_type": "stream",
     "text": [
      "Epoch 430 tr: l 0.422 a 0.887  clct[28, 32] ans[32, 28] lr 0.003320 cl_acc 1.000000 43.673sec(train) 3.454sec(infer)\n"
     ]
    },
    {
     "name": "stdout",
     "output_type": "stream",
     "text": [
      "Epoch 430 tst: l 0.671 a 0.819  clct[20, 20] ans[20, 20] cl_acc 1.000000 2.194sec\n",
      "result written at output/results.pickle\n"
     ]
    },
    {
     "name": "stdout",
     "output_type": "stream",
     "text": [
      "Epoch 431 tr: l 0.424 a 0.884  clct[26, 34] ans[34, 26] lr 0.003286 cl_acc 1.000000 43.663sec(train) 3.480sec(infer)\n"
     ]
    },
    {
     "name": "stdout",
     "output_type": "stream",
     "text": [
      "Epoch 431 tst: l 0.673 a 0.819  clct[20, 20] ans[20, 20] cl_acc 1.000000 2.123sec\n"
     ]
    },
    {
     "name": "stdout",
     "output_type": "stream",
     "text": [
      "Epoch 432 tr: l 0.438 a 0.882  clct[39, 21] ans[21, 39] lr 0.003253 cl_acc 1.000000 43.660sec(train) 3.441sec(infer)\n"
     ]
    },
    {
     "name": "stdout",
     "output_type": "stream",
     "text": [
      "Epoch 432 tst: l 0.673 a 0.820  clct[20, 20] ans[20, 20] cl_acc 1.000000 2.159sec\n"
     ]
    },
    {
     "name": "stdout",
     "output_type": "stream",
     "text": [
      "Epoch 433 tr: l 0.435 a 0.883  clct[26, 34] ans[34, 26] lr 0.003221 cl_acc 1.000000 43.666sec(train) 3.482sec(infer)\n"
     ]
    },
    {
     "name": "stdout",
     "output_type": "stream",
     "text": [
      "Epoch 433 tst: l 0.674 a 0.820  clct[20, 20] ans[20, 20] cl_acc 1.000000 2.163sec\n"
     ]
    },
    {
     "name": "stdout",
     "output_type": "stream",
     "text": [
      "Epoch 434 tr: l 0.414 a 0.891  clct[29, 31] ans[31, 29] lr 0.003189 cl_acc 1.000000 43.539sec(train) 3.466sec(infer)\n"
     ]
    },
    {
     "name": "stdout",
     "output_type": "stream",
     "text": [
      "Epoch 434 tst: l 0.672 a 0.820  clct[20, 20] ans[20, 20] cl_acc 1.000000 2.173sec\n"
     ]
    },
    {
     "name": "stdout",
     "output_type": "stream",
     "text": [
      "Epoch 435 tr: l 0.421 a 0.886  clct[33, 27] ans[27, 33] lr 0.003157 cl_acc 1.000000 43.634sec(train) 3.525sec(infer)\n"
     ]
    },
    {
     "name": "stdout",
     "output_type": "stream",
     "text": [
      "Epoch 435 tst: l 0.672 a 0.819  clct[20, 20] ans[20, 20] cl_acc 1.000000 2.152sec\n"
     ]
    },
    {
     "name": "stdout",
     "output_type": "stream",
     "text": [
      "Epoch 436 tr: l 0.430 a 0.885  clct[31, 29] ans[29, 31] lr 0.003125 cl_acc 1.000000 42.844sec(train) 3.499sec(infer)\n"
     ]
    },
    {
     "name": "stdout",
     "output_type": "stream",
     "text": [
      "Epoch 436 tst: l 0.672 a 0.819  clct[20, 20] ans[20, 20] cl_acc 1.000000 2.186sec\n"
     ]
    },
    {
     "name": "stdout",
     "output_type": "stream",
     "text": [
      "Epoch 437 tr: l 0.414 a 0.889  clct[26, 34] ans[34, 26] lr 0.003094 cl_acc 1.000000 42.767sec(train) 3.504sec(infer)\n"
     ]
    },
    {
     "name": "stdout",
     "output_type": "stream",
     "text": [
      "Epoch 437 tst: l 0.672 a 0.818  clct[20, 20] ans[20, 20] cl_acc 1.000000 2.169sec\n"
     ]
    },
    {
     "name": "stdout",
     "output_type": "stream",
     "text": [
      "Epoch 438 tr: l 0.414 a 0.889  clct[23, 37] ans[37, 23] lr 0.003063 cl_acc 1.000000 42.792sec(train) 3.497sec(infer)\n"
     ]
    },
    {
     "name": "stdout",
     "output_type": "stream",
     "text": [
      "Epoch 438 tst: l 0.674 a 0.820  clct[20, 20] ans[20, 20] cl_acc 1.000000 2.163sec\n"
     ]
    },
    {
     "name": "stdout",
     "output_type": "stream",
     "text": [
      "Epoch 439 tr: l 0.406 a 0.893  clct[31, 29] ans[29, 31] lr 0.003032 cl_acc 1.000000 43.701sec(train) 3.507sec(infer)\n"
     ]
    },
    {
     "name": "stdout",
     "output_type": "stream",
     "text": [
      "Epoch 439 tst: l 0.673 a 0.819  clct[20, 20] ans[20, 20] cl_acc 1.000000 2.137sec\n"
     ]
    },
    {
     "name": "stdout",
     "output_type": "stream",
     "text": [
      "Epoch 440 tr: l 0.414 a 0.890  clct[29, 31] ans[31, 29] lr 0.003002 cl_acc 1.000000 43.077sec(train) 3.481sec(infer)\n"
     ]
    },
    {
     "name": "stdout",
     "output_type": "stream",
     "text": [
      "Epoch 440 tst: l 0.675 a 0.818  clct[20, 20] ans[20, 20] cl_acc 1.000000 2.147sec\n",
      "result written at output/results.pickle\n"
     ]
    },
    {
     "name": "stdout",
     "output_type": "stream",
     "text": [
      "Epoch 441 tr: l 0.414 a 0.889  clct[30, 30] ans[30, 30] lr 0.002972 cl_acc 1.000000 42.736sec(train) 3.480sec(infer)\n"
     ]
    },
    {
     "name": "stdout",
     "output_type": "stream",
     "text": [
      "Epoch 441 tst: l 0.673 a 0.819  clct[20, 20] ans[20, 20] cl_acc 1.000000 2.175sec\n"
     ]
    },
    {
     "name": "stdout",
     "output_type": "stream",
     "text": [
      "Epoch 442 tr: l 0.414 a 0.890  clct[30, 30] ans[30, 30] lr 0.002942 cl_acc 1.000000 43.593sec(train) 3.570sec(infer)\n"
     ]
    },
    {
     "name": "stdout",
     "output_type": "stream",
     "text": [
      "Epoch 442 tst: l 0.673 a 0.820  clct[20, 20] ans[20, 20] cl_acc 1.000000 2.155sec\n"
     ]
    },
    {
     "name": "stdout",
     "output_type": "stream",
     "text": [
      "Epoch 443 tr: l 0.439 a 0.880  clct[25, 35] ans[35, 25] lr 0.002913 cl_acc 1.000000 43.692sec(train) 3.432sec(infer)\n"
     ]
    },
    {
     "name": "stdout",
     "output_type": "stream",
     "text": [
      "Epoch 443 tst: l 0.672 a 0.820  clct[20, 20] ans[20, 20] cl_acc 1.000000 2.145sec\n"
     ]
    },
    {
     "name": "stdout",
     "output_type": "stream",
     "text": [
      "Epoch 444 tr: l 0.420 a 0.887  clct[28, 32] ans[32, 28] lr 0.002884 cl_acc 1.000000 43.653sec(train) 3.475sec(infer)\n"
     ]
    },
    {
     "name": "stdout",
     "output_type": "stream",
     "text": [
      "Epoch 444 tst: l 0.673 a 0.820  clct[20, 20] ans[20, 20] cl_acc 1.000000 2.147sec\n"
     ]
    },
    {
     "name": "stdout",
     "output_type": "stream",
     "text": [
      "Epoch 445 tr: l 0.423 a 0.886  clct[33, 27] ans[27, 33] lr 0.002855 cl_acc 1.000000 43.555sec(train) 3.497sec(infer)\n"
     ]
    },
    {
     "name": "stdout",
     "output_type": "stream",
     "text": [
      "Epoch 445 tst: l 0.673 a 0.820  clct[20, 20] ans[20, 20] cl_acc 1.000000 2.173sec\n"
     ]
    },
    {
     "name": "stdout",
     "output_type": "stream",
     "text": [
      "Epoch 446 tr: l 0.420 a 0.887  clct[27, 33] ans[33, 27] lr 0.002826 cl_acc 1.000000 43.617sec(train) 3.467sec(infer)\n"
     ]
    },
    {
     "name": "stdout",
     "output_type": "stream",
     "text": [
      "Epoch 446 tst: l 0.673 a 0.819  clct[20, 20] ans[20, 20] cl_acc 1.000000 2.180sec\n"
     ]
    },
    {
     "name": "stdout",
     "output_type": "stream",
     "text": [
      "Epoch 447 tr: l 0.405 a 0.895  clct[28, 32] ans[32, 28] lr 0.002798 cl_acc 1.000000 43.150sec(train) 3.510sec(infer)\n"
     ]
    },
    {
     "name": "stdout",
     "output_type": "stream",
     "text": [
      "Epoch 447 tst: l 0.672 a 0.820  clct[20, 20] ans[20, 20] cl_acc 1.000000 2.152sec\n"
     ]
    },
    {
     "name": "stdout",
     "output_type": "stream",
     "text": [
      "Epoch 448 tr: l 0.399 a 0.896  clct[29, 31] ans[31, 29] lr 0.002770 cl_acc 1.000000 43.579sec(train) 3.482sec(infer)\n"
     ]
    },
    {
     "name": "stdout",
     "output_type": "stream",
     "text": [
      "Epoch 448 tst: l 0.674 a 0.820  clct[20, 20] ans[20, 20] cl_acc 1.000000 2.148sec\n"
     ]
    },
    {
     "name": "stdout",
     "output_type": "stream",
     "text": [
      "Epoch 449 tr: l 0.411 a 0.889  clct[32, 28] ans[28, 32] lr 0.002742 cl_acc 1.000000 43.562sec(train) 3.476sec(infer)\n"
     ]
    },
    {
     "name": "stdout",
     "output_type": "stream",
     "text": [
      "Epoch 449 tst: l 0.674 a 0.820  clct[20, 20] ans[20, 20] cl_acc 1.000000 2.161sec\n"
     ]
    },
    {
     "name": "stdout",
     "output_type": "stream",
     "text": [
      "Epoch 450 tr: l 0.428 a 0.884  clct[30, 30] ans[30, 30] lr 0.002715 cl_acc 1.000000 43.675sec(train) 3.500sec(infer)\n"
     ]
    },
    {
     "name": "stdout",
     "output_type": "stream",
     "text": [
      "Epoch 450 tst: l 0.674 a 0.819  clct[20, 20] ans[20, 20] cl_acc 1.000000 2.136sec\n",
      "result written at output/results.pickle\n"
     ]
    },
    {
     "name": "stdout",
     "output_type": "stream",
     "text": [
      "Epoch 451 tr: l 0.402 a 0.895  clct[34, 26] ans[26, 34] lr 0.002688 cl_acc 1.000000 42.909sec(train) 3.426sec(infer)\n"
     ]
    },
    {
     "name": "stdout",
     "output_type": "stream",
     "text": [
      "Epoch 451 tst: l 0.674 a 0.819  clct[20, 20] ans[20, 20] cl_acc 1.000000 2.150sec\n"
     ]
    },
    {
     "name": "stdout",
     "output_type": "stream",
     "text": [
      "Epoch 452 tr: l 0.419 a 0.890  clct[25, 35] ans[35, 25] lr 0.002661 cl_acc 1.000000 42.910sec(train) 3.530sec(infer)\n"
     ]
    },
    {
     "name": "stdout",
     "output_type": "stream",
     "text": [
      "Epoch 452 tst: l 0.673 a 0.819  clct[20, 20] ans[20, 20] cl_acc 1.000000 2.120sec\n"
     ]
    },
    {
     "name": "stdout",
     "output_type": "stream",
     "text": [
      "Epoch 453 tr: l 0.449 a 0.878  clct[20, 40] ans[40, 20] lr 0.002634 cl_acc 1.000000 42.871sec(train) 3.441sec(infer)\n"
     ]
    },
    {
     "name": "stdout",
     "output_type": "stream",
     "text": [
      "Epoch 453 tst: l 0.675 a 0.818  clct[20, 20] ans[20, 20] cl_acc 1.000000 2.172sec\n"
     ]
    },
    {
     "name": "stdout",
     "output_type": "stream",
     "text": [
      "Epoch 454 tr: l 0.419 a 0.886  clct[33, 27] ans[27, 33] lr 0.002608 cl_acc 1.000000 43.583sec(train) 3.522sec(infer)\n"
     ]
    },
    {
     "name": "stdout",
     "output_type": "stream",
     "text": [
      "Epoch 454 tst: l 0.673 a 0.820  clct[20, 20] ans[20, 20] cl_acc 1.000000 2.156sec\n"
     ]
    },
    {
     "name": "stdout",
     "output_type": "stream",
     "text": [
      "Epoch 455 tr: l 0.405 a 0.892  clct[29, 31] ans[31, 29] lr 0.002582 cl_acc 1.000000 43.625sec(train) 3.467sec(infer)\n"
     ]
    },
    {
     "name": "stdout",
     "output_type": "stream",
     "text": [
      "Epoch 455 tst: l 0.673 a 0.818  clct[20, 20] ans[20, 20] cl_acc 1.000000 2.141sec\n"
     ]
    },
    {
     "name": "stdout",
     "output_type": "stream",
     "text": [
      "Epoch 456 tr: l 0.423 a 0.889  clct[38, 22] ans[22, 38] lr 0.002556 cl_acc 1.000000 43.515sec(train) 3.539sec(infer)\n"
     ]
    },
    {
     "name": "stdout",
     "output_type": "stream",
     "text": [
      "Epoch 456 tst: l 0.673 a 0.819  clct[20, 20] ans[20, 20] cl_acc 1.000000 2.176sec\n"
     ]
    },
    {
     "name": "stdout",
     "output_type": "stream",
     "text": [
      "Epoch 457 tr: l 0.404 a 0.891  clct[26, 34] ans[34, 26] lr 0.002531 cl_acc 1.000000 43.635sec(train) 3.466sec(infer)\n"
     ]
    },
    {
     "name": "stdout",
     "output_type": "stream",
     "text": [
      "Epoch 457 tst: l 0.672 a 0.818  clct[20, 20] ans[20, 20] cl_acc 1.000000 2.117sec\n"
     ]
    },
    {
     "name": "stdout",
     "output_type": "stream",
     "text": [
      "Epoch 458 tr: l 0.428 a 0.884  clct[30, 30] ans[30, 30] lr 0.002505 cl_acc 1.000000 43.531sec(train) 3.474sec(infer)\n"
     ]
    },
    {
     "name": "stdout",
     "output_type": "stream",
     "text": [
      "Epoch 458 tst: l 0.673 a 0.818  clct[20, 20] ans[20, 20] cl_acc 1.000000 2.154sec\n"
     ]
    },
    {
     "name": "stdout",
     "output_type": "stream",
     "text": [
      "Epoch 459 tr: l 0.418 a 0.886  clct[27, 33] ans[33, 27] lr 0.002480 cl_acc 1.000000 43.620sec(train) 3.530sec(infer)\n"
     ]
    },
    {
     "name": "stdout",
     "output_type": "stream",
     "text": [
      "Epoch 459 tst: l 0.674 a 0.818  clct[20, 20] ans[20, 20] cl_acc 1.000000 2.128sec\n"
     ]
    },
    {
     "name": "stdout",
     "output_type": "stream",
     "text": [
      "Epoch 460 tr: l 0.403 a 0.896  clct[23, 37] ans[37, 23] lr 0.002455 cl_acc 1.000000 43.690sec(train) 3.403sec(infer)\n"
     ]
    },
    {
     "name": "stdout",
     "output_type": "stream",
     "text": [
      "Epoch 460 tst: l 0.674 a 0.818  clct[20, 20] ans[20, 20] cl_acc 1.000000 2.111sec\n",
      "result written at output/results.pickle\n"
     ]
    },
    {
     "name": "stdout",
     "output_type": "stream",
     "text": [
      "Epoch 461 tr: l 0.428 a 0.886  clct[32, 28] ans[28, 32] lr 0.002431 cl_acc 1.000000 42.843sec(train) 3.503sec(infer)\n"
     ]
    },
    {
     "name": "stdout",
     "output_type": "stream",
     "text": [
      "Epoch 461 tst: l 0.673 a 0.819  clct[20, 20] ans[20, 20] cl_acc 1.000000 2.120sec\n"
     ]
    },
    {
     "name": "stdout",
     "output_type": "stream",
     "text": [
      "Epoch 462 tr: l 0.426 a 0.886  clct[32, 28] ans[28, 32] lr 0.002407 cl_acc 1.000000 43.527sec(train) 3.477sec(infer)\n"
     ]
    },
    {
     "name": "stdout",
     "output_type": "stream",
     "text": [
      "Epoch 462 tst: l 0.674 a 0.818  clct[20, 20] ans[20, 20] cl_acc 1.000000 2.157sec\n"
     ]
    },
    {
     "name": "stdout",
     "output_type": "stream",
     "text": [
      "Epoch 463 tr: l 0.426 a 0.885  clct[30, 30] ans[30, 30] lr 0.002383 cl_acc 1.000000 43.640sec(train) 3.540sec(infer)\n"
     ]
    },
    {
     "name": "stdout",
     "output_type": "stream",
     "text": [
      "Epoch 463 tst: l 0.673 a 0.819  clct[20, 20] ans[20, 20] cl_acc 1.000000 2.168sec\n"
     ]
    },
    {
     "name": "stdout",
     "output_type": "stream",
     "text": [
      "Epoch 464 tr: l 0.403 a 0.894  clct[30, 30] ans[30, 30] lr 0.002359 cl_acc 1.000000 43.604sec(train) 3.517sec(infer)\n"
     ]
    },
    {
     "name": "stdout",
     "output_type": "stream",
     "text": [
      "Epoch 464 tst: l 0.672 a 0.818  clct[20, 20] ans[20, 20] cl_acc 1.000000 2.120sec\n"
     ]
    },
    {
     "name": "stdout",
     "output_type": "stream",
     "text": [
      "Epoch 465 tr: l 0.433 a 0.884  clct[37, 23] ans[23, 37] lr 0.002335 cl_acc 1.000000 42.830sec(train) 3.508sec(infer)\n"
     ]
    },
    {
     "name": "stdout",
     "output_type": "stream",
     "text": [
      "Epoch 465 tst: l 0.674 a 0.819  clct[20, 20] ans[20, 20] cl_acc 1.000000 2.146sec\n"
     ]
    },
    {
     "name": "stdout",
     "output_type": "stream",
     "text": [
      "Epoch 466 tr: l 0.406 a 0.893  clct[28, 32] ans[32, 28] lr 0.002312 cl_acc 1.000000 42.749sec(train) 3.493sec(infer)\n"
     ]
    },
    {
     "name": "stdout",
     "output_type": "stream",
     "text": [
      "Epoch 466 tst: l 0.674 a 0.818  clct[20, 20] ans[20, 20] cl_acc 1.000000 2.115sec\n"
     ]
    },
    {
     "name": "stdout",
     "output_type": "stream",
     "text": [
      "Epoch 467 tr: l 0.423 a 0.887  clct[28, 32] ans[32, 28] lr 0.002289 cl_acc 1.000000 43.467sec(train) 3.532sec(infer)\n"
     ]
    },
    {
     "name": "stdout",
     "output_type": "stream",
     "text": [
      "Epoch 467 tst: l 0.673 a 0.818  clct[20, 20] ans[20, 20] cl_acc 1.000000 2.121sec\n"
     ]
    },
    {
     "name": "stdout",
     "output_type": "stream",
     "text": [
      "Epoch 468 tr: l 0.416 a 0.889  clct[32, 28] ans[28, 32] lr 0.002266 cl_acc 1.000000 43.659sec(train) 3.461sec(infer)\n"
     ]
    },
    {
     "name": "stdout",
     "output_type": "stream",
     "text": [
      "Epoch 468 tst: l 0.674 a 0.818  clct[20, 20] ans[20, 20] cl_acc 1.000000 2.218sec\n"
     ]
    },
    {
     "name": "stdout",
     "output_type": "stream",
     "text": [
      "Epoch 469 tr: l 0.407 a 0.892  clct[27, 33] ans[33, 27] lr 0.002243 cl_acc 1.000000 43.109sec(train) 3.459sec(infer)\n"
     ]
    },
    {
     "name": "stdout",
     "output_type": "stream",
     "text": [
      "Epoch 469 tst: l 0.673 a 0.819  clct[20, 20] ans[20, 20] cl_acc 1.000000 2.193sec\n"
     ]
    },
    {
     "name": "stdout",
     "output_type": "stream",
     "text": [
      "Epoch 470 tr: l 0.408 a 0.892  clct[23, 37] ans[37, 23] lr 0.002221 cl_acc 1.000000 43.662sec(train) 3.496sec(infer)\n"
     ]
    },
    {
     "name": "stdout",
     "output_type": "stream",
     "text": [
      "Epoch 470 tst: l 0.673 a 0.818  clct[20, 20] ans[20, 20] cl_acc 1.000000 2.126sec\n",
      "result written at output/results.pickle\n"
     ]
    },
    {
     "name": "stdout",
     "output_type": "stream",
     "text": [
      "Epoch 471 tr: l 0.406 a 0.892  clct[35, 25] ans[25, 35] lr 0.002198 cl_acc 1.000000 43.695sec(train) 3.471sec(infer)\n"
     ]
    },
    {
     "name": "stdout",
     "output_type": "stream",
     "text": [
      "Epoch 471 tst: l 0.674 a 0.818  clct[20, 20] ans[20, 20] cl_acc 1.000000 2.155sec\n"
     ]
    },
    {
     "name": "stdout",
     "output_type": "stream",
     "text": [
      "Epoch 472 tr: l 0.416 a 0.890  clct[32, 28] ans[28, 32] lr 0.002176 cl_acc 1.000000 43.708sec(train) 3.475sec(infer)\n"
     ]
    },
    {
     "name": "stdout",
     "output_type": "stream",
     "text": [
      "Epoch 472 tst: l 0.674 a 0.818  clct[20, 20] ans[20, 20] cl_acc 1.000000 2.134sec\n"
     ]
    },
    {
     "name": "stdout",
     "output_type": "stream",
     "text": [
      "Epoch 473 tr: l 0.397 a 0.896  clct[26, 34] ans[34, 26] lr 0.002155 cl_acc 1.000000 43.574sec(train) 3.496sec(infer)\n"
     ]
    },
    {
     "name": "stdout",
     "output_type": "stream",
     "text": [
      "Epoch 473 tst: l 0.674 a 0.818  clct[20, 20] ans[20, 20] cl_acc 1.000000 2.183sec\n"
     ]
    },
    {
     "name": "stdout",
     "output_type": "stream",
     "text": [
      "Epoch 474 tr: l 0.413 a 0.890  clct[29, 31] ans[31, 29] lr 0.002133 cl_acc 1.000000 43.554sec(train) 3.473sec(infer)\n"
     ]
    },
    {
     "name": "stdout",
     "output_type": "stream",
     "text": [
      "Epoch 474 tst: l 0.674 a 0.818  clct[20, 20] ans[20, 20] cl_acc 1.000000 2.131sec\n"
     ]
    },
    {
     "name": "stdout",
     "output_type": "stream",
     "text": [
      "Epoch 475 tr: l 0.414 a 0.889  clct[25, 35] ans[35, 25] lr 0.002112 cl_acc 1.000000 43.647sec(train) 3.476sec(infer)\n"
     ]
    },
    {
     "name": "stdout",
     "output_type": "stream",
     "text": [
      "Epoch 475 tst: l 0.671 a 0.817  clct[20, 20] ans[20, 20] cl_acc 1.000000 2.142sec\n"
     ]
    },
    {
     "name": "stdout",
     "output_type": "stream",
     "text": [
      "Epoch 476 tr: l 0.412 a 0.890  clct[33, 27] ans[27, 33] lr 0.002091 cl_acc 1.000000 43.658sec(train) 3.516sec(infer)\n"
     ]
    },
    {
     "name": "stdout",
     "output_type": "stream",
     "text": [
      "Epoch 476 tst: l 0.672 a 0.818  clct[20, 20] ans[20, 20] cl_acc 1.000000 2.152sec\n"
     ]
    },
    {
     "name": "stdout",
     "output_type": "stream",
     "text": [
      "Epoch 477 tr: l 0.427 a 0.886  clct[36, 24] ans[24, 36] lr 0.002070 cl_acc 1.000000 43.609sec(train) 3.501sec(infer)\n"
     ]
    },
    {
     "name": "stdout",
     "output_type": "stream",
     "text": [
      "Epoch 477 tst: l 0.673 a 0.818  clct[20, 20] ans[20, 20] cl_acc 1.000000 2.131sec\n"
     ]
    },
    {
     "name": "stdout",
     "output_type": "stream",
     "text": [
      "Epoch 478 tr: l 0.396 a 0.896  clct[26, 34] ans[34, 26] lr 0.002049 cl_acc 1.000000 42.903sec(train) 3.411sec(infer)\n"
     ]
    },
    {
     "name": "stdout",
     "output_type": "stream",
     "text": [
      "Epoch 478 tst: l 0.673 a 0.818  clct[20, 20] ans[20, 20] cl_acc 1.000000 2.125sec\n"
     ]
    },
    {
     "name": "stdout",
     "output_type": "stream",
     "text": [
      "Epoch 479 tr: l 0.413 a 0.892  clct[31, 29] ans[29, 31] lr 0.002029 cl_acc 1.000000 43.632sec(train) 3.548sec(infer)\n"
     ]
    },
    {
     "name": "stdout",
     "output_type": "stream",
     "text": [
      "Epoch 479 tst: l 0.672 a 0.820  clct[20, 20] ans[20, 20] cl_acc 1.000000 2.157sec\n"
     ]
    },
    {
     "name": "stdout",
     "output_type": "stream",
     "text": [
      "Epoch 480 tr: l 0.418 a 0.887  clct[32, 28] ans[28, 32] lr 0.002008 cl_acc 1.000000 43.635sec(train) 3.453sec(infer)\n"
     ]
    },
    {
     "name": "stdout",
     "output_type": "stream",
     "text": [
      "Epoch 480 tst: l 0.673 a 0.818  clct[20, 20] ans[20, 20] cl_acc 1.000000 2.130sec\n",
      "result written at output/results.pickle\n"
     ]
    },
    {
     "name": "stdout",
     "output_type": "stream",
     "text": [
      "Epoch 481 tr: l 0.415 a 0.887  clct[27, 33] ans[33, 27] lr 0.001988 cl_acc 1.000000 43.600sec(train) 3.488sec(infer)\n"
     ]
    },
    {
     "name": "stdout",
     "output_type": "stream",
     "text": [
      "Epoch 481 tst: l 0.673 a 0.819  clct[20, 20] ans[20, 20] cl_acc 1.000000 2.153sec\n"
     ]
    },
    {
     "name": "stdout",
     "output_type": "stream",
     "text": [
      "Epoch 482 tr: l 0.408 a 0.892  clct[31, 29] ans[29, 31] lr 0.001968 cl_acc 1.000000 43.726sec(train) 3.513sec(infer)\n"
     ]
    },
    {
     "name": "stdout",
     "output_type": "stream",
     "text": [
      "Epoch 482 tst: l 0.674 a 0.818  clct[20, 20] ans[20, 20] cl_acc 1.000000 2.222sec\n"
     ]
    },
    {
     "name": "stdout",
     "output_type": "stream",
     "text": [
      "Epoch 483 tr: l 0.398 a 0.893  clct[36, 24] ans[24, 36] lr 0.001949 cl_acc 1.000000 42.867sec(train) 3.444sec(infer)\n"
     ]
    },
    {
     "name": "stdout",
     "output_type": "stream",
     "text": [
      "Epoch 483 tst: l 0.673 a 0.818  clct[20, 20] ans[20, 20] cl_acc 1.000000 2.144sec\n"
     ]
    },
    {
     "name": "stdout",
     "output_type": "stream",
     "text": [
      "Epoch 484 tr: l 0.413 a 0.891  clct[29, 31] ans[31, 29] lr 0.001929 cl_acc 1.000000 42.856sec(train) 3.476sec(infer)\n"
     ]
    },
    {
     "name": "stdout",
     "output_type": "stream",
     "text": [
      "Epoch 484 tst: l 0.673 a 0.818  clct[20, 20] ans[20, 20] cl_acc 1.000000 2.163sec\n"
     ]
    },
    {
     "name": "stdout",
     "output_type": "stream",
     "text": [
      "Epoch 485 tr: l 0.420 a 0.888  clct[29, 31] ans[31, 29] lr 0.001910 cl_acc 1.000000 42.899sec(train) 3.498sec(infer)\n"
     ]
    },
    {
     "name": "stdout",
     "output_type": "stream",
     "text": [
      "Epoch 485 tst: l 0.674 a 0.819  clct[20, 20] ans[20, 20] cl_acc 1.000000 2.160sec\n"
     ]
    },
    {
     "name": "stdout",
     "output_type": "stream",
     "text": [
      "Epoch 486 tr: l 0.411 a 0.891  clct[30, 30] ans[30, 30] lr 0.001891 cl_acc 1.000000 42.757sec(train) 3.547sec(infer)\n"
     ]
    },
    {
     "name": "stdout",
     "output_type": "stream",
     "text": [
      "Epoch 486 tst: l 0.674 a 0.819  clct[20, 20] ans[20, 20] cl_acc 1.000000 2.195sec\n"
     ]
    },
    {
     "name": "stdout",
     "output_type": "stream",
     "text": [
      "Epoch 487 tr: l 0.404 a 0.892  clct[31, 29] ans[29, 31] lr 0.001872 cl_acc 1.000000 43.576sec(train) 3.525sec(infer)\n"
     ]
    },
    {
     "name": "stdout",
     "output_type": "stream",
     "text": [
      "Epoch 487 tst: l 0.674 a 0.818  clct[20, 20] ans[20, 20] cl_acc 1.000000 2.189sec\n"
     ]
    },
    {
     "name": "stdout",
     "output_type": "stream",
     "text": [
      "Epoch 488 tr: l 0.406 a 0.892  clct[29, 31] ans[31, 29] lr 0.001853 cl_acc 1.000000 43.616sec(train) 3.496sec(infer)\n"
     ]
    },
    {
     "name": "stdout",
     "output_type": "stream",
     "text": [
      "Epoch 488 tst: l 0.673 a 0.818  clct[20, 20] ans[20, 20] cl_acc 1.000000 2.152sec\n"
     ]
    },
    {
     "name": "stdout",
     "output_type": "stream",
     "text": [
      "Epoch 489 tr: l 0.410 a 0.891  clct[30, 30] ans[30, 30] lr 0.001835 cl_acc 1.000000 43.666sec(train) 3.450sec(infer)\n"
     ]
    },
    {
     "name": "stdout",
     "output_type": "stream",
     "text": [
      "Epoch 489 tst: l 0.674 a 0.818  clct[20, 20] ans[20, 20] cl_acc 1.000000 2.111sec\n"
     ]
    },
    {
     "name": "stdout",
     "output_type": "stream",
     "text": [
      "Epoch 490 tr: l 0.404 a 0.890  clct[34, 26] ans[26, 34] lr 0.001816 cl_acc 1.000000 42.796sec(train) 3.432sec(infer)\n"
     ]
    },
    {
     "name": "stdout",
     "output_type": "stream",
     "text": [
      "Epoch 490 tst: l 0.673 a 0.817  clct[20, 20] ans[20, 20] cl_acc 1.000000 2.117sec\n",
      "result written at output/results.pickle\n"
     ]
    },
    {
     "name": "stdout",
     "output_type": "stream",
     "text": [
      "Epoch 491 tr: l 0.414 a 0.890  clct[28, 32] ans[32, 28] lr 0.001798 cl_acc 1.000000 43.504sec(train) 3.462sec(infer)\n"
     ]
    },
    {
     "name": "stdout",
     "output_type": "stream",
     "text": [
      "Epoch 491 tst: l 0.673 a 0.818  clct[20, 20] ans[20, 20] cl_acc 1.000000 2.144sec\n"
     ]
    },
    {
     "name": "stdout",
     "output_type": "stream",
     "text": [
      "Epoch 492 tr: l 0.416 a 0.888  clct[29, 31] ans[31, 29] lr 0.001780 cl_acc 1.000000 43.550sec(train) 3.446sec(infer)\n"
     ]
    },
    {
     "name": "stdout",
     "output_type": "stream",
     "text": [
      "Epoch 492 tst: l 0.673 a 0.818  clct[20, 20] ans[20, 20] cl_acc 1.000000 2.113sec\n"
     ]
    },
    {
     "name": "stdout",
     "output_type": "stream",
     "text": [
      "Epoch 493 tr: l 0.396 a 0.896  clct[31, 29] ans[29, 31] lr 0.001762 cl_acc 1.000000 43.638sec(train) 3.497sec(infer)\n"
     ]
    },
    {
     "name": "stdout",
     "output_type": "stream",
     "text": [
      "Epoch 493 tst: l 0.673 a 0.817  clct[20, 20] ans[20, 20] cl_acc 1.000000 2.163sec\n"
     ]
    },
    {
     "name": "stdout",
     "output_type": "stream",
     "text": [
      "Epoch 494 tr: l 0.403 a 0.894  clct[30, 30] ans[30, 30] lr 0.001745 cl_acc 1.000000 43.699sec(train) 3.550sec(infer)\n"
     ]
    },
    {
     "name": "stdout",
     "output_type": "stream",
     "text": [
      "Epoch 494 tst: l 0.673 a 0.818  clct[20, 20] ans[20, 20] cl_acc 1.000000 2.130sec\n"
     ]
    },
    {
     "name": "stdout",
     "output_type": "stream",
     "text": [
      "Epoch 495 tr: l 0.411 a 0.891  clct[32, 28] ans[28, 32] lr 0.001727 cl_acc 1.000000 43.587sec(train) 3.518sec(infer)\n"
     ]
    },
    {
     "name": "stdout",
     "output_type": "stream",
     "text": [
      "Epoch 495 tst: l 0.673 a 0.818  clct[20, 20] ans[20, 20] cl_acc 1.000000 2.174sec\n"
     ]
    },
    {
     "name": "stdout",
     "output_type": "stream",
     "text": [
      "Epoch 496 tr: l 0.403 a 0.893  clct[29, 31] ans[31, 29] lr 0.001710 cl_acc 1.000000 43.261sec(train) 3.372sec(infer)\n"
     ]
    },
    {
     "name": "stdout",
     "output_type": "stream",
     "text": [
      "Epoch 496 tst: l 0.672 a 0.818  clct[20, 20] ans[20, 20] cl_acc 1.000000 2.087sec\n"
     ]
    },
    {
     "name": "stdout",
     "output_type": "stream",
     "text": [
      "Epoch 497 tr: l 0.416 a 0.890  clct[30, 30] ans[30, 30] lr 0.001693 cl_acc 1.000000 43.748sec(train) 3.513sec(infer)\n"
     ]
    },
    {
     "name": "stdout",
     "output_type": "stream",
     "text": [
      "Epoch 497 tst: l 0.674 a 0.818  clct[20, 20] ans[20, 20] cl_acc 1.000000 2.117sec\n"
     ]
    },
    {
     "name": "stdout",
     "output_type": "stream",
     "text": [
      "Epoch 498 tr: l 0.436 a 0.880  clct[28, 32] ans[32, 28] lr 0.001676 cl_acc 1.000000 43.550sec(train) 3.529sec(infer)\n"
     ]
    },
    {
     "name": "stdout",
     "output_type": "stream",
     "text": [
      "Epoch 498 tst: l 0.674 a 0.819  clct[20, 20] ans[20, 20] cl_acc 1.000000 2.199sec\n"
     ]
    },
    {
     "name": "stdout",
     "output_type": "stream",
     "text": [
      "Epoch 499 tr: l 0.401 a 0.893  clct[27, 33] ans[33, 27] lr 0.001659 cl_acc 1.000000 42.877sec(train) 3.477sec(infer)\n"
     ]
    },
    {
     "name": "stdout",
     "output_type": "stream",
     "text": [
      "Epoch 499 tst: l 0.673 a 0.818  clct[20, 20] ans[20, 20] cl_acc 1.000000 2.185sec\n"
     ]
    },
    {
     "name": "stdout",
     "output_type": "stream",
     "text": [
      "Epoch 500 tr: l 0.415 a 0.889  clct[27, 33] ans[33, 27] lr 0.001643 cl_acc 1.000000 42.719sec(train) 3.476sec(infer)\n"
     ]
    },
    {
     "name": "stdout",
     "output_type": "stream",
     "text": [
      "Epoch 500 tst: l 0.673 a 0.817  clct[20, 20] ans[20, 20] cl_acc 1.000000 2.195sec\n",
      "result written at output/results.pickle\n"
     ]
    },
    {
     "name": "stdout",
     "output_type": "stream",
     "text": [
      "Epoch 501 tr: l 0.390 a 0.897  clct[30, 30] ans[30, 30] lr 0.001626 cl_acc 1.000000 43.623sec(train) 3.498sec(infer)\n"
     ]
    },
    {
     "name": "stdout",
     "output_type": "stream",
     "text": [
      "Epoch 501 tst: l 0.674 a 0.819  clct[20, 20] ans[20, 20] cl_acc 1.000000 2.169sec\n"
     ]
    },
    {
     "name": "stdout",
     "output_type": "stream",
     "text": [
      "Epoch 502 tr: l 0.406 a 0.893  clct[30, 30] ans[30, 30] lr 0.001610 cl_acc 1.000000 43.585sec(train) 3.523sec(infer)\n"
     ]
    },
    {
     "name": "stdout",
     "output_type": "stream",
     "text": [
      "Epoch 502 tst: l 0.673 a 0.818  clct[20, 20] ans[20, 20] cl_acc 1.000000 2.187sec\n"
     ]
    },
    {
     "name": "stdout",
     "output_type": "stream",
     "text": [
      "Epoch 503 tr: l 0.400 a 0.895  clct[32, 28] ans[28, 32] lr 0.001594 cl_acc 1.000000 43.624sec(train) 3.565sec(infer)\n"
     ]
    },
    {
     "name": "stdout",
     "output_type": "stream",
     "text": [
      "Epoch 503 tst: l 0.673 a 0.818  clct[20, 20] ans[20, 20] cl_acc 1.000000 2.165sec\n"
     ]
    },
    {
     "name": "stdout",
     "output_type": "stream",
     "text": [
      "Epoch 504 tr: l 0.400 a 0.895  clct[30, 30] ans[30, 30] lr 0.001578 cl_acc 1.000000 43.694sec(train) 3.415sec(infer)\n"
     ]
    },
    {
     "name": "stdout",
     "output_type": "stream",
     "text": [
      "Epoch 504 tst: l 0.674 a 0.818  clct[20, 20] ans[20, 20] cl_acc 1.000000 2.174sec\n"
     ]
    },
    {
     "name": "stdout",
     "output_type": "stream",
     "text": [
      "Epoch 505 tr: l 0.408 a 0.892  clct[23, 37] ans[37, 23] lr 0.001562 cl_acc 1.000000 43.457sec(train) 3.461sec(infer)\n"
     ]
    },
    {
     "name": "stdout",
     "output_type": "stream",
     "text": [
      "Epoch 505 tst: l 0.674 a 0.819  clct[20, 20] ans[20, 20] cl_acc 1.000000 2.164sec\n"
     ]
    },
    {
     "name": "stdout",
     "output_type": "stream",
     "text": [
      "Epoch 506 tr: l 0.411 a 0.890  clct[28, 32] ans[32, 28] lr 0.001546 cl_acc 1.000000 43.497sec(train) 3.475sec(infer)\n"
     ]
    },
    {
     "name": "stdout",
     "output_type": "stream",
     "text": [
      "Epoch 506 tst: l 0.674 a 0.819  clct[20, 20] ans[20, 20] cl_acc 1.000000 2.137sec\n"
     ]
    },
    {
     "name": "stdout",
     "output_type": "stream",
     "text": [
      "Epoch 507 tr: l 0.379 a 0.903  clct[33, 27] ans[27, 33] lr 0.001531 cl_acc 1.000000 43.680sec(train) 3.547sec(infer)\n"
     ]
    },
    {
     "name": "stdout",
     "output_type": "stream",
     "text": [
      "Epoch 507 tst: l 0.675 a 0.819  clct[20, 20] ans[20, 20] cl_acc 1.000000 2.150sec\n"
     ]
    },
    {
     "name": "stdout",
     "output_type": "stream",
     "text": [
      "Epoch 508 tr: l 0.405 a 0.892  clct[27, 33] ans[33, 27] lr 0.001516 cl_acc 1.000000 43.596sec(train) 3.471sec(infer)\n"
     ]
    },
    {
     "name": "stdout",
     "output_type": "stream",
     "text": [
      "Epoch 508 tst: l 0.675 a 0.818  clct[20, 20] ans[20, 20] cl_acc 1.000000 2.156sec\n"
     ]
    },
    {
     "name": "stdout",
     "output_type": "stream",
     "text": [
      "Epoch 509 tr: l 0.403 a 0.896  clct[30, 30] ans[30, 30] lr 0.001501 cl_acc 1.000000 43.586sec(train) 3.500sec(infer)\n"
     ]
    },
    {
     "name": "stdout",
     "output_type": "stream",
     "text": [
      "Epoch 509 tst: l 0.673 a 0.819  clct[20, 20] ans[20, 20] cl_acc 1.000000 2.143sec\n"
     ]
    },
    {
     "name": "stdout",
     "output_type": "stream",
     "text": [
      "Epoch 510 tr: l 0.424 a 0.886  clct[26, 34] ans[34, 26] lr 0.001486 cl_acc 1.000000 42.699sec(train) 3.513sec(infer)\n"
     ]
    },
    {
     "name": "stdout",
     "output_type": "stream",
     "text": [
      "Epoch 510 tst: l 0.673 a 0.819  clct[20, 20] ans[20, 20] cl_acc 1.000000 2.173sec\n",
      "result written at output/results.pickle\n"
     ]
    },
    {
     "name": "stdout",
     "output_type": "stream",
     "text": [
      "Epoch 511 tr: l 0.406 a 0.892  clct[30, 30] ans[30, 30] lr 0.001471 cl_acc 1.000000 42.955sec(train) 3.540sec(infer)\n"
     ]
    },
    {
     "name": "stdout",
     "output_type": "stream",
     "text": [
      "Epoch 511 tst: l 0.673 a 0.819  clct[20, 20] ans[20, 20] cl_acc 1.000000 2.184sec\n"
     ]
    },
    {
     "name": "stdout",
     "output_type": "stream",
     "text": [
      "Epoch 512 tr: l 0.392 a 0.897  clct[27, 33] ans[33, 27] lr 0.001456 cl_acc 1.000000 42.828sec(train) 3.486sec(infer)\n"
     ]
    },
    {
     "name": "stdout",
     "output_type": "stream",
     "text": [
      "Epoch 512 tst: l 0.674 a 0.818  clct[20, 20] ans[20, 20] cl_acc 1.000000 2.145sec\n"
     ]
    },
    {
     "name": "stdout",
     "output_type": "stream",
     "text": [
      "Epoch 513 tr: l 0.417 a 0.889  clct[29, 31] ans[31, 29] lr 0.001441 cl_acc 1.000000 43.576sec(train) 3.496sec(infer)\n"
     ]
    },
    {
     "name": "stdout",
     "output_type": "stream",
     "text": [
      "Epoch 513 tst: l 0.674 a 0.819  clct[20, 20] ans[20, 20] cl_acc 1.000000 2.133sec\n"
     ]
    },
    {
     "name": "stdout",
     "output_type": "stream",
     "text": [
      "Epoch 514 tr: l 0.385 a 0.902  clct[34, 26] ans[26, 34] lr 0.001427 cl_acc 1.000000 43.701sec(train) 3.452sec(infer)\n"
     ]
    },
    {
     "name": "stdout",
     "output_type": "stream",
     "text": [
      "Epoch 514 tst: l 0.674 a 0.819  clct[20, 20] ans[20, 20] cl_acc 1.000000 2.125sec\n"
     ]
    },
    {
     "name": "stdout",
     "output_type": "stream",
     "text": [
      "Epoch 515 tr: l 0.413 a 0.889  clct[31, 29] ans[29, 31] lr 0.001413 cl_acc 1.000000 43.667sec(train) 3.509sec(infer)\n"
     ]
    },
    {
     "name": "stdout",
     "output_type": "stream",
     "text": [
      "Epoch 515 tst: l 0.674 a 0.818  clct[20, 20] ans[20, 20] cl_acc 1.000000 2.141sec\n"
     ]
    },
    {
     "name": "stdout",
     "output_type": "stream",
     "text": [
      "Epoch 516 tr: l 0.400 a 0.895  clct[30, 30] ans[30, 30] lr 0.001399 cl_acc 1.000000 43.564sec(train) 3.509sec(infer)\n"
     ]
    },
    {
     "name": "stdout",
     "output_type": "stream",
     "text": [
      "Epoch 516 tst: l 0.674 a 0.818  clct[20, 20] ans[20, 20] cl_acc 1.000000 2.127sec\n"
     ]
    },
    {
     "name": "stdout",
     "output_type": "stream",
     "text": [
      "Epoch 517 tr: l 0.405 a 0.890  clct[32, 28] ans[28, 32] lr 0.001385 cl_acc 1.000000 43.505sec(train) 3.457sec(infer)\n"
     ]
    },
    {
     "name": "stdout",
     "output_type": "stream",
     "text": [
      "Epoch 517 tst: l 0.673 a 0.820  clct[20, 20] ans[20, 20] cl_acc 1.000000 2.125sec\n"
     ]
    },
    {
     "name": "stdout",
     "output_type": "stream",
     "text": [
      "Epoch 518 tr: l 0.406 a 0.893  clct[27, 33] ans[33, 27] lr 0.001371 cl_acc 1.000000 43.559sec(train) 3.501sec(infer)\n"
     ]
    },
    {
     "name": "stdout",
     "output_type": "stream",
     "text": [
      "Epoch 518 tst: l 0.673 a 0.819  clct[20, 20] ans[20, 20] cl_acc 1.000000 2.118sec\n"
     ]
    },
    {
     "name": "stdout",
     "output_type": "stream",
     "text": [
      "Epoch 519 tr: l 0.406 a 0.894  clct[28, 32] ans[32, 28] lr 0.001357 cl_acc 1.000000 43.564sec(train) 3.554sec(infer)\n"
     ]
    },
    {
     "name": "stdout",
     "output_type": "stream",
     "text": [
      "Epoch 519 tst: l 0.674 a 0.820  clct[20, 20] ans[20, 20] cl_acc 1.000000 2.184sec\n"
     ]
    },
    {
     "name": "stdout",
     "output_type": "stream",
     "text": [
      "Epoch 520 tr: l 0.419 a 0.888  clct[25, 35] ans[35, 25] lr 0.001344 cl_acc 1.000000 43.612sec(train) 3.561sec(infer)\n"
     ]
    },
    {
     "name": "stdout",
     "output_type": "stream",
     "text": [
      "Epoch 520 tst: l 0.674 a 0.819  clct[20, 20] ans[20, 20] cl_acc 1.000000 2.202sec\n",
      "result written at output/results.pickle\n"
     ]
    },
    {
     "name": "stdout",
     "output_type": "stream",
     "text": [
      "Epoch 521 tr: l 0.394 a 0.898  clct[29, 31] ans[31, 29] lr 0.001330 cl_acc 1.000000 43.632sec(train) 3.488sec(infer)\n"
     ]
    },
    {
     "name": "stdout",
     "output_type": "stream",
     "text": [
      "Epoch 521 tst: l 0.675 a 0.818  clct[20, 20] ans[20, 20] cl_acc 1.000000 2.190sec\n"
     ]
    },
    {
     "name": "stdout",
     "output_type": "stream",
     "text": [
      "Epoch 522 tr: l 0.394 a 0.896  clct[34, 26] ans[26, 34] lr 0.001317 cl_acc 1.000000 43.682sec(train) 3.437sec(infer)\n"
     ]
    },
    {
     "name": "stdout",
     "output_type": "stream",
     "text": [
      "Epoch 522 tst: l 0.675 a 0.817  clct[20, 20] ans[20, 20] cl_acc 1.000000 2.095sec\n"
     ]
    },
    {
     "name": "stdout",
     "output_type": "stream",
     "text": [
      "Epoch 523 tr: l 0.406 a 0.894  clct[28, 32] ans[32, 28] lr 0.001304 cl_acc 1.000000 43.561sec(train) 3.496sec(infer)\n"
     ]
    },
    {
     "name": "stdout",
     "output_type": "stream",
     "text": [
      "Epoch 523 tst: l 0.674 a 0.819  clct[20, 20] ans[20, 20] cl_acc 1.000000 2.189sec\n"
     ]
    },
    {
     "name": "stdout",
     "output_type": "stream",
     "text": [
      "Epoch 524 tr: l 0.392 a 0.900  clct[29, 31] ans[31, 29] lr 0.001291 cl_acc 1.000000 43.661sec(train) 3.436sec(infer)\n"
     ]
    },
    {
     "name": "stdout",
     "output_type": "stream",
     "text": [
      "Epoch 524 tst: l 0.674 a 0.818  clct[20, 20] ans[20, 20] cl_acc 1.000000 2.126sec\n"
     ]
    },
    {
     "name": "stdout",
     "output_type": "stream",
     "text": [
      "Epoch 525 tr: l 0.373 a 0.906  clct[32, 28] ans[28, 32] lr 0.001278 cl_acc 1.000000 43.754sec(train) 3.499sec(infer)\n"
     ]
    },
    {
     "name": "stdout",
     "output_type": "stream",
     "text": [
      "Epoch 525 tst: l 0.673 a 0.818  clct[20, 20] ans[20, 20] cl_acc 1.000000 2.135sec\n"
     ]
    },
    {
     "name": "stdout",
     "output_type": "stream",
     "text": [
      "Epoch 526 tr: l 0.432 a 0.883  clct[34, 26] ans[26, 34] lr 0.001265 cl_acc 1.000000 43.921sec(train) 3.498sec(infer)\n"
     ]
    },
    {
     "name": "stdout",
     "output_type": "stream",
     "text": [
      "Epoch 526 tst: l 0.673 a 0.819  clct[20, 20] ans[20, 20] cl_acc 1.000000 2.156sec\n"
     ]
    },
    {
     "name": "stdout",
     "output_type": "stream",
     "text": [
      "Epoch 527 tr: l 0.389 a 0.899  clct[28, 32] ans[32, 28] lr 0.001252 cl_acc 1.000000 43.731sec(train) 3.471sec(infer)\n"
     ]
    },
    {
     "name": "stdout",
     "output_type": "stream",
     "text": [
      "Epoch 527 tst: l 0.674 a 0.819  clct[20, 20] ans[20, 20] cl_acc 1.000000 2.138sec\n"
     ]
    },
    {
     "name": "stdout",
     "output_type": "stream",
     "text": [
      "Epoch 528 tr: l 0.377 a 0.903  clct[28, 32] ans[32, 28] lr 0.001240 cl_acc 1.000000 43.700sec(train) 3.435sec(infer)\n"
     ]
    },
    {
     "name": "stdout",
     "output_type": "stream",
     "text": [
      "Epoch 528 tst: l 0.674 a 0.818  clct[20, 20] ans[20, 20] cl_acc 1.000000 2.109sec\n"
     ]
    },
    {
     "name": "stdout",
     "output_type": "stream",
     "text": [
      "Epoch 529 tr: l 0.399 a 0.896  clct[29, 31] ans[31, 29] lr 0.001227 cl_acc 1.000000 43.737sec(train) 3.482sec(infer)\n"
     ]
    },
    {
     "name": "stdout",
     "output_type": "stream",
     "text": [
      "Epoch 529 tst: l 0.673 a 0.818  clct[20, 20] ans[20, 20] cl_acc 1.000000 2.125sec\n"
     ]
    },
    {
     "name": "stdout",
     "output_type": "stream",
     "text": [
      "Epoch 530 tr: l 0.389 a 0.900  clct[25, 35] ans[35, 25] lr 0.001215 cl_acc 1.000000 43.773sec(train) 3.429sec(infer)\n"
     ]
    },
    {
     "name": "stdout",
     "output_type": "stream",
     "text": [
      "Epoch 530 tst: l 0.674 a 0.818  clct[20, 20] ans[20, 20] cl_acc 1.000000 2.110sec\n",
      "result written at output/results.pickle\n"
     ]
    },
    {
     "name": "stdout",
     "output_type": "stream",
     "text": [
      "Epoch 531 tr: l 0.401 a 0.892  clct[28, 32] ans[32, 28] lr 0.001203 cl_acc 1.000000 43.641sec(train) 3.470sec(infer)\n"
     ]
    },
    {
     "name": "stdout",
     "output_type": "stream",
     "text": [
      "Epoch 531 tst: l 0.673 a 0.819  clct[20, 20] ans[20, 20] cl_acc 1.000000 2.100sec\n"
     ]
    },
    {
     "name": "stdout",
     "output_type": "stream",
     "text": [
      "Epoch 532 tr: l 0.402 a 0.893  clct[29, 31] ans[31, 29] lr 0.001191 cl_acc 1.000000 43.767sec(train) 3.446sec(infer)\n"
     ]
    },
    {
     "name": "stdout",
     "output_type": "stream",
     "text": [
      "Epoch 532 tst: l 0.674 a 0.818  clct[20, 20] ans[20, 20] cl_acc 1.000000 2.139sec\n"
     ]
    },
    {
     "name": "stdout",
     "output_type": "stream",
     "text": [
      "Epoch 533 tr: l 0.420 a 0.886  clct[31, 29] ans[29, 31] lr 0.001179 cl_acc 1.000000 43.691sec(train) 3.484sec(infer)\n"
     ]
    },
    {
     "name": "stdout",
     "output_type": "stream",
     "text": [
      "Epoch 533 tst: l 0.673 a 0.817  clct[20, 20] ans[20, 20] cl_acc 1.000000 2.161sec\n"
     ]
    },
    {
     "name": "stdout",
     "output_type": "stream",
     "text": [
      "Epoch 534 tr: l 0.389 a 0.897  clct[30, 30] ans[30, 30] lr 0.001167 cl_acc 1.000000 43.582sec(train) 3.400sec(infer)\n"
     ]
    },
    {
     "name": "stdout",
     "output_type": "stream",
     "text": [
      "Epoch 534 tst: l 0.673 a 0.818  clct[20, 20] ans[20, 20] cl_acc 1.000000 2.123sec\n"
     ]
    },
    {
     "name": "stdout",
     "output_type": "stream",
     "text": [
      "Epoch 535 tr: l 0.426 a 0.885  clct[31, 29] ans[29, 31] lr 0.001155 cl_acc 1.000000 43.716sec(train) 3.454sec(infer)\n"
     ]
    },
    {
     "name": "stdout",
     "output_type": "stream",
     "text": [
      "Epoch 535 tst: l 0.675 a 0.819  clct[20, 20] ans[20, 20] cl_acc 1.000000 2.135sec\n"
     ]
    },
    {
     "name": "stdout",
     "output_type": "stream",
     "text": [
      "Epoch 536 tr: l 0.418 a 0.888  clct[35, 25] ans[25, 35] lr 0.001144 cl_acc 1.000000 42.931sec(train) 3.428sec(infer)\n"
     ]
    },
    {
     "name": "stdout",
     "output_type": "stream",
     "text": [
      "Epoch 536 tst: l 0.674 a 0.818  clct[20, 20] ans[20, 20] cl_acc 1.000000 2.116sec\n"
     ]
    },
    {
     "name": "stdout",
     "output_type": "stream",
     "text": [
      "Epoch 537 tr: l 0.383 a 0.901  clct[26, 34] ans[34, 26] lr 0.001133 cl_acc 1.000000 43.763sec(train) 3.481sec(infer)\n"
     ]
    },
    {
     "name": "stdout",
     "output_type": "stream",
     "text": [
      "Epoch 537 tst: l 0.674 a 0.819  clct[20, 20] ans[20, 20] cl_acc 1.000000 2.134sec\n"
     ]
    },
    {
     "name": "stdout",
     "output_type": "stream",
     "text": [
      "Epoch 538 tr: l 0.383 a 0.899  clct[32, 28] ans[28, 32] lr 0.001121 cl_acc 1.000000 43.836sec(train) 3.411sec(infer)\n"
     ]
    },
    {
     "name": "stdout",
     "output_type": "stream",
     "text": [
      "Epoch 538 tst: l 0.674 a 0.819  clct[20, 20] ans[20, 20] cl_acc 1.000000 2.125sec\n"
     ]
    },
    {
     "name": "stdout",
     "output_type": "stream",
     "text": [
      "Epoch 539 tr: l 0.374 a 0.903  clct[34, 26] ans[26, 34] lr 0.001110 cl_acc 1.000000 43.687sec(train) 3.487sec(infer)\n"
     ]
    },
    {
     "name": "stdout",
     "output_type": "stream",
     "text": [
      "Epoch 539 tst: l 0.673 a 0.819  clct[20, 20] ans[20, 20] cl_acc 1.000000 2.100sec\n"
     ]
    },
    {
     "name": "stdout",
     "output_type": "stream",
     "text": [
      "Epoch 540 tr: l 0.394 a 0.898  clct[31, 29] ans[29, 31] lr 0.001099 cl_acc 1.000000 43.738sec(train) 3.434sec(infer)\n"
     ]
    },
    {
     "name": "stdout",
     "output_type": "stream",
     "text": [
      "Epoch 540 tst: l 0.674 a 0.819  clct[20, 20] ans[20, 20] cl_acc 1.000000 2.158sec\n",
      "result written at output/results.pickle\n"
     ]
    },
    {
     "name": "stdout",
     "output_type": "stream",
     "text": [
      "Epoch 541 tr: l 0.402 a 0.892  clct[24, 36] ans[36, 24] lr 0.001088 cl_acc 1.000000 42.825sec(train) 3.458sec(infer)\n"
     ]
    },
    {
     "name": "stdout",
     "output_type": "stream",
     "text": [
      "Epoch 541 tst: l 0.674 a 0.818  clct[20, 20] ans[20, 20] cl_acc 1.000000 2.111sec\n"
     ]
    },
    {
     "name": "stdout",
     "output_type": "stream",
     "text": [
      "Epoch 542 tr: l 0.390 a 0.900  clct[29, 31] ans[31, 29] lr 0.001077 cl_acc 1.000000 43.750sec(train) 3.443sec(infer)\n"
     ]
    },
    {
     "name": "stdout",
     "output_type": "stream",
     "text": [
      "Epoch 542 tst: l 0.673 a 0.819  clct[20, 20] ans[20, 20] cl_acc 1.000000 2.117sec\n"
     ]
    },
    {
     "name": "stdout",
     "output_type": "stream",
     "text": [
      "Epoch 543 tr: l 0.407 a 0.891  clct[27, 33] ans[33, 27] lr 0.001066 cl_acc 1.000000 43.795sec(train) 3.464sec(infer)\n"
     ]
    },
    {
     "name": "stdout",
     "output_type": "stream",
     "text": [
      "Epoch 543 tst: l 0.673 a 0.819  clct[20, 20] ans[20, 20] cl_acc 1.000000 2.138sec\n"
     ]
    },
    {
     "name": "stdout",
     "output_type": "stream",
     "text": [
      "Epoch 544 tr: l 0.412 a 0.889  clct[32, 28] ans[28, 32] lr 0.001056 cl_acc 1.000000 43.703sec(train) 3.467sec(infer)\n"
     ]
    },
    {
     "name": "stdout",
     "output_type": "stream",
     "text": [
      "Epoch 544 tst: l 0.673 a 0.819  clct[20, 20] ans[20, 20] cl_acc 1.000000 2.102sec\n"
     ]
    },
    {
     "name": "stdout",
     "output_type": "stream",
     "text": [
      "Epoch 545 tr: l 0.396 a 0.896  clct[33, 27] ans[27, 33] lr 0.001045 cl_acc 1.000000 43.755sec(train) 3.393sec(infer)\n"
     ]
    },
    {
     "name": "stdout",
     "output_type": "stream",
     "text": [
      "Epoch 545 tst: l 0.674 a 0.818  clct[20, 20] ans[20, 20] cl_acc 1.000000 2.094sec\n"
     ]
    },
    {
     "name": "stdout",
     "output_type": "stream",
     "text": [
      "Epoch 546 tr: l 0.403 a 0.894  clct[36, 24] ans[24, 36] lr 0.001035 cl_acc 1.000000 43.789sec(train) 3.432sec(infer)\n"
     ]
    },
    {
     "name": "stdout",
     "output_type": "stream",
     "text": [
      "Epoch 546 tst: l 0.673 a 0.818  clct[20, 20] ans[20, 20] cl_acc 1.000000 2.097sec\n"
     ]
    },
    {
     "name": "stdout",
     "output_type": "stream",
     "text": [
      "Epoch 547 tr: l 0.430 a 0.884  clct[34, 26] ans[26, 34] lr 0.001024 cl_acc 1.000000 43.752sec(train) 3.427sec(infer)\n"
     ]
    },
    {
     "name": "stdout",
     "output_type": "stream",
     "text": [
      "Epoch 547 tst: l 0.674 a 0.818  clct[20, 20] ans[20, 20] cl_acc 1.000000 2.115sec\n"
     ]
    },
    {
     "name": "stdout",
     "output_type": "stream",
     "text": [
      "Epoch 548 tr: l 0.402 a 0.894  clct[25, 35] ans[35, 25] lr 0.001014 cl_acc 1.000000 42.863sec(train) 3.468sec(infer)\n"
     ]
    },
    {
     "name": "stdout",
     "output_type": "stream",
     "text": [
      "Epoch 548 tst: l 0.674 a 0.819  clct[20, 20] ans[20, 20] cl_acc 1.000000 2.154sec\n"
     ]
    },
    {
     "name": "stdout",
     "output_type": "stream",
     "text": [
      "Epoch 549 tr: l 0.396 a 0.895  clct[37, 23] ans[23, 37] lr 0.001004 cl_acc 1.000000 43.835sec(train) 3.445sec(infer)\n"
     ]
    },
    {
     "name": "stdout",
     "output_type": "stream",
     "text": [
      "Epoch 549 tst: l 0.674 a 0.819  clct[20, 20] ans[20, 20] cl_acc 1.000000 2.150sec\n"
     ]
    },
    {
     "name": "stdout",
     "output_type": "stream",
     "text": [
      "Epoch 550 tr: l 0.395 a 0.897  clct[26, 34] ans[34, 26] lr 0.000994 cl_acc 1.000000 43.479sec(train) 3.459sec(infer)\n"
     ]
    },
    {
     "name": "stdout",
     "output_type": "stream",
     "text": [
      "Epoch 550 tst: l 0.674 a 0.818  clct[20, 20] ans[20, 20] cl_acc 1.000000 2.144sec\n",
      "result written at output/results.pickle\n"
     ]
    },
    {
     "name": "stdout",
     "output_type": "stream",
     "text": [
      "Epoch 551 tr: l 0.387 a 0.901  clct[32, 28] ans[28, 32] lr 0.000984 cl_acc 1.000000 43.673sec(train) 3.446sec(infer)\n"
     ]
    },
    {
     "name": "stdout",
     "output_type": "stream",
     "text": [
      "Epoch 551 tst: l 0.674 a 0.818  clct[20, 20] ans[20, 20] cl_acc 1.000000 2.117sec\n"
     ]
    },
    {
     "name": "stdout",
     "output_type": "stream",
     "text": [
      "Epoch 552 tr: l 0.394 a 0.897  clct[28, 32] ans[32, 28] lr 0.000974 cl_acc 1.000000 43.717sec(train) 3.440sec(infer)\n"
     ]
    },
    {
     "name": "stdout",
     "output_type": "stream",
     "text": [
      "Epoch 552 tst: l 0.673 a 0.819  clct[20, 20] ans[20, 20] cl_acc 1.000000 2.104sec\n"
     ]
    },
    {
     "name": "stdout",
     "output_type": "stream",
     "text": [
      "Epoch 553 tr: l 0.409 a 0.891  clct[34, 26] ans[26, 34] lr 0.000964 cl_acc 1.000000 43.634sec(train) 3.442sec(infer)\n"
     ]
    },
    {
     "name": "stdout",
     "output_type": "stream",
     "text": [
      "Epoch 553 tst: l 0.673 a 0.818  clct[20, 20] ans[20, 20] cl_acc 1.000000 2.135sec\n"
     ]
    },
    {
     "name": "stdout",
     "output_type": "stream",
     "text": [
      "Epoch 554 tr: l 0.429 a 0.884  clct[31, 29] ans[29, 31] lr 0.000955 cl_acc 1.000000 43.674sec(train) 3.451sec(infer)\n"
     ]
    },
    {
     "name": "stdout",
     "output_type": "stream",
     "text": [
      "Epoch 554 tst: l 0.673 a 0.818  clct[20, 20] ans[20, 20] cl_acc 1.000000 2.132sec\n"
     ]
    },
    {
     "name": "stdout",
     "output_type": "stream",
     "text": [
      "Epoch 555 tr: l 0.395 a 0.895  clct[31, 29] ans[29, 31] lr 0.000945 cl_acc 1.000000 42.869sec(train) 3.555sec(infer)\n"
     ]
    },
    {
     "name": "stdout",
     "output_type": "stream",
     "text": [
      "Epoch 555 tst: l 0.673 a 0.818  clct[20, 20] ans[20, 20] cl_acc 1.000000 2.108sec\n"
     ]
    },
    {
     "name": "stdout",
     "output_type": "stream",
     "text": [
      "Epoch 556 tr: l 0.392 a 0.895  clct[28, 32] ans[32, 28] lr 0.000936 cl_acc 1.000000 43.083sec(train) 3.515sec(infer)\n"
     ]
    },
    {
     "name": "stdout",
     "output_type": "stream",
     "text": [
      "Epoch 556 tst: l 0.673 a 0.818  clct[20, 20] ans[20, 20] cl_acc 1.000000 2.133sec\n"
     ]
    },
    {
     "name": "stdout",
     "output_type": "stream",
     "text": [
      "Epoch 557 tr: l 0.403 a 0.893  clct[32, 28] ans[28, 32] lr 0.000926 cl_acc 1.000000 43.723sec(train) 3.498sec(infer)\n"
     ]
    },
    {
     "name": "stdout",
     "output_type": "stream",
     "text": [
      "Epoch 557 tst: l 0.672 a 0.819  clct[20, 20] ans[20, 20] cl_acc 1.000000 2.106sec\n"
     ]
    },
    {
     "name": "stdout",
     "output_type": "stream",
     "text": [
      "Epoch 558 tr: l 0.388 a 0.899  clct[31, 29] ans[29, 31] lr 0.000917 cl_acc 1.000000 43.688sec(train) 3.485sec(infer)\n"
     ]
    },
    {
     "name": "stdout",
     "output_type": "stream",
     "text": [
      "Epoch 558 tst: l 0.673 a 0.819  clct[20, 20] ans[20, 20] cl_acc 1.000000 2.105sec\n"
     ]
    },
    {
     "name": "stdout",
     "output_type": "stream",
     "text": [
      "Epoch 559 tr: l 0.428 a 0.885  clct[28, 32] ans[32, 28] lr 0.000908 cl_acc 1.000000 43.685sec(train) 3.476sec(infer)\n"
     ]
    },
    {
     "name": "stdout",
     "output_type": "stream",
     "text": [
      "Epoch 559 tst: l 0.673 a 0.818  clct[20, 20] ans[20, 20] cl_acc 1.000000 2.149sec\n"
     ]
    },
    {
     "name": "stdout",
     "output_type": "stream",
     "text": [
      "Epoch 560 tr: l 0.384 a 0.898  clct[30, 30] ans[30, 30] lr 0.000899 cl_acc 1.000000 43.692sec(train) 3.481sec(infer)\n"
     ]
    },
    {
     "name": "stdout",
     "output_type": "stream",
     "text": [
      "Epoch 560 tst: l 0.674 a 0.819  clct[20, 20] ans[20, 20] cl_acc 1.000000 2.135sec\n",
      "result written at output/results.pickle\n"
     ]
    },
    {
     "name": "stdout",
     "output_type": "stream",
     "text": [
      "Epoch 561 tr: l 0.421 a 0.888  clct[37, 23] ans[23, 37] lr 0.000890 cl_acc 1.000000 43.749sec(train) 3.456sec(infer)\n"
     ]
    },
    {
     "name": "stdout",
     "output_type": "stream",
     "text": [
      "Epoch 561 tst: l 0.673 a 0.819  clct[20, 20] ans[20, 20] cl_acc 1.000000 2.122sec\n"
     ]
    },
    {
     "name": "stdout",
     "output_type": "stream",
     "text": [
      "Epoch 562 tr: l 0.409 a 0.890  clct[33, 27] ans[27, 33] lr 0.000881 cl_acc 1.000000 43.719sec(train) 3.544sec(infer)\n"
     ]
    },
    {
     "name": "stdout",
     "output_type": "stream",
     "text": [
      "Epoch 562 tst: l 0.674 a 0.819  clct[20, 20] ans[20, 20] cl_acc 1.000000 2.180sec\n"
     ]
    },
    {
     "name": "stdout",
     "output_type": "stream",
     "text": [
      "Epoch 563 tr: l 0.385 a 0.899  clct[26, 34] ans[34, 26] lr 0.000872 cl_acc 1.000000 42.973sec(train) 3.432sec(infer)\n"
     ]
    },
    {
     "name": "stdout",
     "output_type": "stream",
     "text": [
      "Epoch 563 tst: l 0.673 a 0.819  clct[20, 20] ans[20, 20] cl_acc 1.000000 2.141sec\n"
     ]
    },
    {
     "name": "stdout",
     "output_type": "stream",
     "text": [
      "Epoch 564 tr: l 0.420 a 0.885  clct[26, 34] ans[34, 26] lr 0.000863 cl_acc 1.000000 43.678sec(train) 3.441sec(infer)\n"
     ]
    },
    {
     "name": "stdout",
     "output_type": "stream",
     "text": [
      "Epoch 564 tst: l 0.672 a 0.819  clct[20, 20] ans[20, 20] cl_acc 1.000000 2.091sec\n"
     ]
    },
    {
     "name": "stdout",
     "output_type": "stream",
     "text": [
      "Epoch 565 tr: l 0.389 a 0.899  clct[32, 28] ans[28, 32] lr 0.000855 cl_acc 1.000000 43.747sec(train) 3.478sec(infer)\n"
     ]
    },
    {
     "name": "stdout",
     "output_type": "stream",
     "text": [
      "Epoch 565 tst: l 0.673 a 0.819  clct[20, 20] ans[20, 20] cl_acc 1.000000 2.108sec\n"
     ]
    },
    {
     "name": "stdout",
     "output_type": "stream",
     "text": [
      "Epoch 566 tr: l 0.404 a 0.891  clct[29, 31] ans[31, 29] lr 0.000846 cl_acc 1.000000 43.750sec(train) 3.449sec(infer)\n"
     ]
    },
    {
     "name": "stdout",
     "output_type": "stream",
     "text": [
      "Epoch 566 tst: l 0.672 a 0.818  clct[20, 20] ans[20, 20] cl_acc 1.000000 2.100sec\n"
     ]
    },
    {
     "name": "stdout",
     "output_type": "stream",
     "text": [
      "Epoch 567 tr: l 0.409 a 0.890  clct[33, 27] ans[27, 33] lr 0.000838 cl_acc 1.000000 43.554sec(train) 3.463sec(infer)\n"
     ]
    },
    {
     "name": "stdout",
     "output_type": "stream",
     "text": [
      "Epoch 567 tst: l 0.673 a 0.819  clct[20, 20] ans[20, 20] cl_acc 1.000000 2.134sec\n"
     ]
    },
    {
     "name": "stdout",
     "output_type": "stream",
     "text": [
      "Epoch 568 tr: l 0.382 a 0.901  clct[29, 31] ans[31, 29] lr 0.000829 cl_acc 1.000000 42.969sec(train) 3.407sec(infer)\n"
     ]
    },
    {
     "name": "stdout",
     "output_type": "stream",
     "text": [
      "Epoch 568 tst: l 0.674 a 0.819  clct[20, 20] ans[20, 20] cl_acc 1.000000 2.106sec\n"
     ]
    },
    {
     "name": "stdout",
     "output_type": "stream",
     "text": [
      "Epoch 569 tr: l 0.411 a 0.890  clct[31, 29] ans[29, 31] lr 0.000821 cl_acc 1.000000 43.668sec(train) 3.482sec(infer)\n"
     ]
    },
    {
     "name": "stdout",
     "output_type": "stream",
     "text": [
      "Epoch 569 tst: l 0.673 a 0.818  clct[20, 20] ans[20, 20] cl_acc 1.000000 2.137sec\n"
     ]
    },
    {
     "name": "stdout",
     "output_type": "stream",
     "text": [
      "Epoch 570 tr: l 0.397 a 0.894  clct[27, 33] ans[33, 27] lr 0.000813 cl_acc 1.000000 43.747sec(train) 3.403sec(infer)\n"
     ]
    },
    {
     "name": "stdout",
     "output_type": "stream",
     "text": [
      "Epoch 570 tst: l 0.673 a 0.819  clct[20, 20] ans[20, 20] cl_acc 1.000000 2.107sec\n",
      "result written at output/results.pickle\n"
     ]
    },
    {
     "name": "stdout",
     "output_type": "stream",
     "text": [
      "Epoch 571 tr: l 0.386 a 0.899  clct[24, 36] ans[36, 24] lr 0.000805 cl_acc 1.000000 42.994sec(train) 3.426sec(infer)\n"
     ]
    },
    {
     "name": "stdout",
     "output_type": "stream",
     "text": [
      "Epoch 571 tst: l 0.673 a 0.818  clct[20, 20] ans[20, 20] cl_acc 1.000000 2.089sec\n"
     ]
    },
    {
     "name": "stdout",
     "output_type": "stream",
     "text": [
      "Epoch 572 tr: l 0.406 a 0.888  clct[29, 31] ans[31, 29] lr 0.000797 cl_acc 1.000000 43.655sec(train) 3.404sec(infer)\n"
     ]
    },
    {
     "name": "stdout",
     "output_type": "stream",
     "text": [
      "Epoch 572 tst: l 0.674 a 0.818  clct[20, 20] ans[20, 20] cl_acc 1.000000 2.093sec\n"
     ]
    },
    {
     "name": "stdout",
     "output_type": "stream",
     "text": [
      "Epoch 573 tr: l 0.395 a 0.896  clct[32, 28] ans[28, 32] lr 0.000789 cl_acc 1.000000 42.963sec(train) 3.462sec(infer)\n"
     ]
    },
    {
     "name": "stdout",
     "output_type": "stream",
     "text": [
      "Epoch 573 tst: l 0.673 a 0.818  clct[20, 20] ans[20, 20] cl_acc 1.000000 2.109sec\n"
     ]
    },
    {
     "name": "stdout",
     "output_type": "stream",
     "text": [
      "Epoch 574 tr: l 0.394 a 0.895  clct[28, 32] ans[32, 28] lr 0.000781 cl_acc 1.000000 43.762sec(train) 3.405sec(infer)\n"
     ]
    },
    {
     "name": "stdout",
     "output_type": "stream",
     "text": [
      "Epoch 574 tst: l 0.673 a 0.818  clct[20, 20] ans[20, 20] cl_acc 1.000000 2.115sec\n"
     ]
    },
    {
     "name": "stdout",
     "output_type": "stream",
     "text": [
      "Epoch 575 tr: l 0.409 a 0.890  clct[28, 32] ans[32, 28] lr 0.000773 cl_acc 1.000000 43.674sec(train) 3.462sec(infer)\n"
     ]
    },
    {
     "name": "stdout",
     "output_type": "stream",
     "text": [
      "Epoch 575 tst: l 0.673 a 0.818  clct[20, 20] ans[20, 20] cl_acc 1.000000 2.118sec\n"
     ]
    },
    {
     "name": "stdout",
     "output_type": "stream",
     "text": [
      "Epoch 576 tr: l 0.398 a 0.895  clct[24, 36] ans[36, 24] lr 0.000765 cl_acc 1.000000 42.877sec(train) 3.410sec(infer)\n"
     ]
    },
    {
     "name": "stdout",
     "output_type": "stream",
     "text": [
      "Epoch 576 tst: l 0.673 a 0.819  clct[20, 20] ans[20, 20] cl_acc 1.000000 2.111sec\n"
     ]
    },
    {
     "name": "stdout",
     "output_type": "stream",
     "text": [
      "Epoch 577 tr: l 0.418 a 0.887  clct[29, 31] ans[31, 29] lr 0.000758 cl_acc 1.000000 42.883sec(train) 3.464sec(infer)\n"
     ]
    },
    {
     "name": "stdout",
     "output_type": "stream",
     "text": [
      "Epoch 577 tst: l 0.672 a 0.819  clct[20, 20] ans[20, 20] cl_acc 1.000000 2.189sec\n"
     ]
    },
    {
     "name": "stdout",
     "output_type": "stream",
     "text": [
      "Epoch 578 tr: l 0.406 a 0.893  clct[33, 27] ans[27, 33] lr 0.000750 cl_acc 1.000000 43.876sec(train) 3.486sec(infer)\n"
     ]
    },
    {
     "name": "stdout",
     "output_type": "stream",
     "text": [
      "Epoch 578 tst: l 0.672 a 0.818  clct[20, 20] ans[20, 20] cl_acc 1.000000 2.146sec\n"
     ]
    },
    {
     "name": "stdout",
     "output_type": "stream",
     "text": [
      "Epoch 579 tr: l 0.389 a 0.899  clct[30, 30] ans[30, 30] lr 0.000743 cl_acc 1.000000 42.927sec(train) 3.458sec(infer)\n"
     ]
    },
    {
     "name": "stdout",
     "output_type": "stream",
     "text": [
      "Epoch 579 tst: l 0.672 a 0.819  clct[20, 20] ans[20, 20] cl_acc 1.000000 2.145sec\n"
     ]
    },
    {
     "name": "stdout",
     "output_type": "stream",
     "text": [
      "Epoch 580 tr: l 0.405 a 0.891  clct[23, 37] ans[37, 23] lr 0.000735 cl_acc 1.000000 43.664sec(train) 3.449sec(infer)\n"
     ]
    },
    {
     "name": "stdout",
     "output_type": "stream",
     "text": [
      "Epoch 580 tst: l 0.673 a 0.818  clct[20, 20] ans[20, 20] cl_acc 1.000000 2.087sec\n",
      "result written at output/results.pickle\n"
     ]
    },
    {
     "name": "stdout",
     "output_type": "stream",
     "text": [
      "Epoch 581 tr: l 0.389 a 0.896  clct[31, 29] ans[29, 31] lr 0.000728 cl_acc 1.000000 43.822sec(train) 3.442sec(infer)\n"
     ]
    },
    {
     "name": "stdout",
     "output_type": "stream",
     "text": [
      "Epoch 581 tst: l 0.674 a 0.818  clct[20, 20] ans[20, 20] cl_acc 1.000000 2.153sec\n"
     ]
    },
    {
     "name": "stdout",
     "output_type": "stream",
     "text": [
      "Epoch 582 tr: l 0.408 a 0.892  clct[32, 28] ans[28, 32] lr 0.000720 cl_acc 1.000000 43.004sec(train) 3.437sec(infer)\n"
     ]
    },
    {
     "name": "stdout",
     "output_type": "stream",
     "text": [
      "Epoch 582 tst: l 0.673 a 0.818  clct[20, 20] ans[20, 20] cl_acc 1.000000 2.097sec\n"
     ]
    },
    {
     "name": "stdout",
     "output_type": "stream",
     "text": [
      "Epoch 583 tr: l 0.380 a 0.902  clct[33, 27] ans[27, 33] lr 0.000713 cl_acc 1.000000 43.316sec(train) 3.469sec(infer)\n"
     ]
    },
    {
     "name": "stdout",
     "output_type": "stream",
     "text": [
      "Epoch 583 tst: l 0.673 a 0.818  clct[20, 20] ans[20, 20] cl_acc 1.000000 2.158sec\n"
     ]
    },
    {
     "name": "stdout",
     "output_type": "stream",
     "text": [
      "Epoch 584 tr: l 0.395 a 0.896  clct[31, 29] ans[29, 31] lr 0.000706 cl_acc 1.000000 43.634sec(train) 3.438sec(infer)\n"
     ]
    },
    {
     "name": "stdout",
     "output_type": "stream",
     "text": [
      "Epoch 584 tst: l 0.674 a 0.818  clct[20, 20] ans[20, 20] cl_acc 1.000000 2.136sec\n"
     ]
    },
    {
     "name": "stdout",
     "output_type": "stream",
     "text": [
      "Epoch 585 tr: l 0.378 a 0.902  clct[28, 32] ans[32, 28] lr 0.000699 cl_acc 1.000000 43.716sec(train) 3.416sec(infer)\n"
     ]
    },
    {
     "name": "stdout",
     "output_type": "stream",
     "text": [
      "Epoch 585 tst: l 0.674 a 0.818  clct[20, 20] ans[20, 20] cl_acc 1.000000 2.118sec\n"
     ]
    },
    {
     "name": "stdout",
     "output_type": "stream",
     "text": [
      "Epoch 586 tr: l 0.423 a 0.886  clct[32, 28] ans[28, 32] lr 0.000692 cl_acc 1.000000 43.648sec(train) 3.410sec(infer)\n"
     ]
    },
    {
     "name": "stdout",
     "output_type": "stream",
     "text": [
      "Epoch 586 tst: l 0.673 a 0.818  clct[20, 20] ans[20, 20] cl_acc 1.000000 2.130sec\n"
     ]
    },
    {
     "name": "stdout",
     "output_type": "stream",
     "text": [
      "Epoch 587 tr: l 0.382 a 0.899  clct[28, 32] ans[32, 28] lr 0.000685 cl_acc 1.000000 42.949sec(train) 3.453sec(infer)\n"
     ]
    },
    {
     "name": "stdout",
     "output_type": "stream",
     "text": [
      "Epoch 587 tst: l 0.672 a 0.819  clct[20, 20] ans[20, 20] cl_acc 1.000000 2.109sec\n"
     ]
    },
    {
     "name": "stdout",
     "output_type": "stream",
     "text": [
      "Epoch 588 tr: l 0.399 a 0.895  clct[25, 35] ans[35, 25] lr 0.000678 cl_acc 1.000000 42.900sec(train) 3.406sec(infer)\n"
     ]
    },
    {
     "name": "stdout",
     "output_type": "stream",
     "text": [
      "Epoch 588 tst: l 0.673 a 0.819  clct[20, 20] ans[20, 20] cl_acc 1.000000 2.063sec\n"
     ]
    },
    {
     "name": "stdout",
     "output_type": "stream",
     "text": [
      "Epoch 589 tr: l 0.410 a 0.892  clct[32, 28] ans[28, 32] lr 0.000672 cl_acc 1.000000 43.686sec(train) 3.437sec(infer)\n"
     ]
    },
    {
     "name": "stdout",
     "output_type": "stream",
     "text": [
      "Epoch 589 tst: l 0.673 a 0.818  clct[20, 20] ans[20, 20] cl_acc 1.000000 2.120sec\n"
     ]
    },
    {
     "name": "stdout",
     "output_type": "stream",
     "text": [
      "Epoch 590 tr: l 0.385 a 0.898  clct[32, 28] ans[28, 32] lr 0.000665 cl_acc 1.000000 43.638sec(train) 3.416sec(infer)\n"
     ]
    },
    {
     "name": "stdout",
     "output_type": "stream",
     "text": [
      "Epoch 590 tst: l 0.673 a 0.819  clct[20, 20] ans[20, 20] cl_acc 1.000000 2.103sec\n",
      "result written at output/results.pickle\n"
     ]
    },
    {
     "name": "stdout",
     "output_type": "stream",
     "text": [
      "Epoch 591 tr: l 0.386 a 0.900  clct[28, 32] ans[32, 28] lr 0.000658 cl_acc 1.000000 43.627sec(train) 3.426sec(infer)\n"
     ]
    },
    {
     "name": "stdout",
     "output_type": "stream",
     "text": [
      "Epoch 591 tst: l 0.672 a 0.818  clct[20, 20] ans[20, 20] cl_acc 1.000000 2.112sec\n"
     ]
    },
    {
     "name": "stdout",
     "output_type": "stream",
     "text": [
      "Epoch 592 tr: l 0.396 a 0.897  clct[28, 32] ans[32, 28] lr 0.000652 cl_acc 1.000000 43.678sec(train) 3.548sec(infer)\n"
     ]
    },
    {
     "name": "stdout",
     "output_type": "stream",
     "text": [
      "Epoch 592 tst: l 0.672 a 0.819  clct[20, 20] ans[20, 20] cl_acc 1.000000 2.145sec\n"
     ]
    },
    {
     "name": "stdout",
     "output_type": "stream",
     "text": [
      "Epoch 593 tr: l 0.380 a 0.902  clct[26, 34] ans[34, 26] lr 0.000645 cl_acc 1.000000 43.541sec(train) 3.514sec(infer)\n"
     ]
    },
    {
     "name": "stdout",
     "output_type": "stream",
     "text": [
      "Epoch 593 tst: l 0.672 a 0.819  clct[20, 20] ans[20, 20] cl_acc 1.000000 2.168sec\n"
     ]
    },
    {
     "name": "stdout",
     "output_type": "stream",
     "text": [
      "Epoch 594 tr: l 0.391 a 0.895  clct[26, 34] ans[34, 26] lr 0.000639 cl_acc 1.000000 43.634sec(train) 3.434sec(infer)\n"
     ]
    },
    {
     "name": "stdout",
     "output_type": "stream",
     "text": [
      "Epoch 594 tst: l 0.672 a 0.819  clct[20, 20] ans[20, 20] cl_acc 1.000000 2.159sec\n"
     ]
    },
    {
     "name": "stdout",
     "output_type": "stream",
     "text": [
      "Epoch 595 tr: l 0.411 a 0.891  clct[30, 30] ans[30, 30] lr 0.000632 cl_acc 1.000000 43.611sec(train) 3.436sec(infer)\n"
     ]
    },
    {
     "name": "stdout",
     "output_type": "stream",
     "text": [
      "Epoch 595 tst: l 0.672 a 0.818  clct[20, 20] ans[20, 20] cl_acc 1.000000 2.123sec\n"
     ]
    },
    {
     "name": "stdout",
     "output_type": "stream",
     "text": [
      "Epoch 596 tr: l 0.404 a 0.892  clct[36, 24] ans[24, 36] lr 0.000626 cl_acc 1.000000 43.733sec(train) 3.473sec(infer)\n"
     ]
    },
    {
     "name": "stdout",
     "output_type": "stream",
     "text": [
      "Epoch 596 tst: l 0.672 a 0.818  clct[20, 20] ans[20, 20] cl_acc 1.000000 2.128sec\n"
     ]
    },
    {
     "name": "stdout",
     "output_type": "stream",
     "text": [
      "Epoch 597 tr: l 0.385 a 0.900  clct[25, 35] ans[35, 25] lr 0.000620 cl_acc 1.000000 43.824sec(train) 3.455sec(infer)\n"
     ]
    },
    {
     "name": "stdout",
     "output_type": "stream",
     "text": [
      "Epoch 597 tst: l 0.673 a 0.819  clct[20, 20] ans[20, 20] cl_acc 1.000000 2.124sec\n"
     ]
    },
    {
     "name": "stdout",
     "output_type": "stream",
     "text": [
      "Epoch 598 tr: l 0.385 a 0.901  clct[29, 31] ans[31, 29] lr 0.000613 cl_acc 1.000000 43.834sec(train) 3.388sec(infer)\n"
     ]
    },
    {
     "name": "stdout",
     "output_type": "stream",
     "text": [
      "Epoch 598 tst: l 0.672 a 0.819  clct[20, 20] ans[20, 20] cl_acc 1.000000 2.073sec\n"
     ]
    },
    {
     "name": "stdout",
     "output_type": "stream",
     "text": [
      "Epoch 599 tr: l 0.404 a 0.892  clct[32, 28] ans[28, 32] lr 0.000607 cl_acc 1.000000 43.645sec(train) 3.413sec(infer)\n"
     ]
    },
    {
     "name": "stdout",
     "output_type": "stream",
     "text": [
      "Epoch 599 tst: l 0.672 a 0.818  clct[20, 20] ans[20, 20] cl_acc 1.000000 2.115sec\n",
      "result written at output/results.pickle\n",
      "---train cluster Ended in 8.49 hour (30573.906 sec) \n",
      "---------------------------------DFCA-GI, lr: 0.25, seed: 12---------------------------------\n",
      "config: {'m': 200, 'm_test': 40, 'p': 2, 'n': 500, 'participation_rate': 0.3, 'num_epochs': 600, 'batch_size': 50, 'tau': 5, 'lr': 0.25, 'data_seed': 12, 'train_seed': 12, 'project_dir': 'output'}\n"
     ]
    },
    {
     "ename": "ValueError",
     "evalue": "Variable conv1/weights already exists, disallowed. Did you mean to set reuse=True or reuse=tf.AUTO_REUSE in VarScope? Originally defined at:\n\n  File \"/home/rbrinkhege/repos/decentralized-ifca/cifar_tf/notebooks/exp_ifca/cifar10.py\", line 119, in _variable_on_cpu\n  File \"/home/rbrinkhege/repos/decentralized-ifca/cifar_tf/notebooks/exp_ifca/cifar10.py\", line 140, in _variable_with_weight_decay\n  File \"/home/rbrinkhege/repos/decentralized-ifca/cifar_tf/notebooks/exp_ifca/cifar10.py\", line 220, in inference\n  File \"/home/rbrinkhege/repos/decentralized-ifca/cifar_tf/notebooks/exp_ifca/train_cluster_cifar_tf.py\", line 189, in setup_model\n  File \"/home/rbrinkhege/repos/decentralized-ifca/cifar_tf/notebooks/exp_ifca/train_cluster_cifar_tf.py\", line 81, in setup\n",
     "output_type": "error",
     "traceback": [
      "\u001b[0;31m---------------------------------------------------------------------------\u001b[0m",
      "\u001b[0;31mValueError\u001b[0m                                Traceback (most recent call last)",
      "Cell \u001b[0;32mIn[3], line 23\u001b[0m\n\u001b[1;32m     20\u001b[0m \u001b[38;5;28mprint\u001b[39m(\u001b[38;5;124m\"\u001b[39m\u001b[38;5;124mconfig:\u001b[39m\u001b[38;5;124m\"\u001b[39m,config)\n\u001b[1;32m     22\u001b[0m exp \u001b[38;5;241m=\u001b[39m IFCA\u001b[38;5;241m.\u001b[39mTrainCIFARCluster(config)\n\u001b[0;32m---> 23\u001b[0m \u001b[43mexp\u001b[49m\u001b[38;5;241;43m.\u001b[39;49m\u001b[43msetup\u001b[49m\u001b[43m(\u001b[49m\u001b[43m)\u001b[49m\n\u001b[1;32m     24\u001b[0m res \u001b[38;5;241m=\u001b[39m exp\u001b[38;5;241m.\u001b[39mrun()\n\u001b[1;32m     25\u001b[0m res_final\u001b[38;5;241m.\u001b[39mappend([[r[\u001b[38;5;124m'\u001b[39m\u001b[38;5;124mtest\u001b[39m\u001b[38;5;124m'\u001b[39m][\u001b[38;5;124m'\u001b[39m\u001b[38;5;124mloss\u001b[39m\u001b[38;5;124m'\u001b[39m] \u001b[38;5;28;01mfor\u001b[39;00m r \u001b[38;5;129;01min\u001b[39;00m res], [r[\u001b[38;5;124m'\u001b[39m\u001b[38;5;124mtest\u001b[39m\u001b[38;5;124m'\u001b[39m][\u001b[38;5;124m'\u001b[39m\u001b[38;5;124macc\u001b[39m\u001b[38;5;124m'\u001b[39m] \u001b[38;5;28;01mfor\u001b[39;00m r \u001b[38;5;129;01min\u001b[39;00m res], [r[\u001b[38;5;124m'\u001b[39m\u001b[38;5;124mtrain\u001b[39m\u001b[38;5;124m'\u001b[39m][\u001b[38;5;124m'\u001b[39m\u001b[38;5;124mloss\u001b[39m\u001b[38;5;124m'\u001b[39m] \u001b[38;5;28;01mfor\u001b[39;00m r \u001b[38;5;129;01min\u001b[39;00m res]])\n",
      "File \u001b[0;32m~/repos/decentralized-ifca/cifar_tf/notebooks/exp_ifca/train_cluster_cifar_tf.py:81\u001b[0m, in \u001b[0;36mTrainCIFARCluster.setup\u001b[0;34m(self)\u001b[0m\n\u001b[1;32m     79\u001b[0m set_random_seed(\u001b[38;5;28mself\u001b[39m\u001b[38;5;241m.\u001b[39mconfig[\u001b[38;5;124m'\u001b[39m\u001b[38;5;124mdata_seed\u001b[39m\u001b[38;5;124m'\u001b[39m])\n\u001b[1;32m     80\u001b[0m \u001b[38;5;28mself\u001b[39m\u001b[38;5;241m.\u001b[39msetup_datasets()\n\u001b[0;32m---> 81\u001b[0m \u001b[38;5;28;43mself\u001b[39;49m\u001b[38;5;241;43m.\u001b[39;49m\u001b[43msetup_model\u001b[49m\u001b[43m(\u001b[49m\u001b[43m)\u001b[49m\n\u001b[1;32m     83\u001b[0m config \u001b[38;5;241m=\u001b[39m tf\u001b[38;5;241m.\u001b[39mConfigProto()\n\u001b[1;32m     84\u001b[0m config\u001b[38;5;241m.\u001b[39mgpu_options\u001b[38;5;241m.\u001b[39mallow_growth \u001b[38;5;241m=\u001b[39m \u001b[38;5;28;01mTrue\u001b[39;00m\n",
      "File \u001b[0;32m~/repos/decentralized-ifca/cifar_tf/notebooks/exp_ifca/train_cluster_cifar_tf.py:189\u001b[0m, in \u001b[0;36mTrainCIFARCluster.setup_model\u001b[0;34m(self)\u001b[0m\n\u001b[1;32m    186\u001b[0m \u001b[38;5;28mself\u001b[39m\u001b[38;5;241m.\u001b[39my_pl \u001b[38;5;241m=\u001b[39m tf\u001b[38;5;241m.\u001b[39mplaceholder(tf\u001b[38;5;241m.\u001b[39mint32, shape\u001b[38;5;241m=\u001b[39m(\u001b[38;5;28;01mNone\u001b[39;00m, ), name\u001b[38;5;241m=\u001b[39m\u001b[38;5;124m'\u001b[39m\u001b[38;5;124moutput_y\u001b[39m\u001b[38;5;124m'\u001b[39m)\n\u001b[1;32m    187\u001b[0m \u001b[38;5;28mself\u001b[39m\u001b[38;5;241m.\u001b[39mlr_pl \u001b[38;5;241m=\u001b[39m tf\u001b[38;5;241m.\u001b[39mplaceholder(tf\u001b[38;5;241m.\u001b[39mfloat32, shape\u001b[38;5;241m=\u001b[39m(), name\u001b[38;5;241m=\u001b[39m\u001b[38;5;124m'\u001b[39m\u001b[38;5;124mlearning_rate\u001b[39m\u001b[38;5;124m'\u001b[39m)\n\u001b[0;32m--> 189\u001b[0m \u001b[38;5;28mself\u001b[39m\u001b[38;5;241m.\u001b[39my_logits \u001b[38;5;241m=\u001b[39m \u001b[43mcifar10\u001b[49m\u001b[38;5;241;43m.\u001b[39;49m\u001b[43minference\u001b[49m\u001b[43m(\u001b[49m\u001b[38;5;28;43mself\u001b[39;49m\u001b[38;5;241;43m.\u001b[39;49m\u001b[43mx_pl\u001b[49m\u001b[43m)\u001b[49m \u001b[38;5;66;03m# construct model\u001b[39;00m\n\u001b[1;32m    190\u001b[0m \u001b[38;5;28mself\u001b[39m\u001b[38;5;241m.\u001b[39mloss \u001b[38;5;241m=\u001b[39m cifar10\u001b[38;5;241m.\u001b[39mloss(\u001b[38;5;28mself\u001b[39m\u001b[38;5;241m.\u001b[39my_logits, \u001b[38;5;28mself\u001b[39m\u001b[38;5;241m.\u001b[39my_pl)\n\u001b[1;32m    192\u001b[0m \u001b[38;5;28mself\u001b[39m\u001b[38;5;241m.\u001b[39my_pred \u001b[38;5;241m=\u001b[39m tf\u001b[38;5;241m.\u001b[39mcast(tf\u001b[38;5;241m.\u001b[39margmax(\u001b[38;5;28mself\u001b[39m\u001b[38;5;241m.\u001b[39my_logits, \u001b[38;5;241m1\u001b[39m), tf\u001b[38;5;241m.\u001b[39mint32)\n",
      "File \u001b[0;32m~/repos/decentralized-ifca/cifar_tf/notebooks/exp_ifca/cifar10.py:220\u001b[0m, in \u001b[0;36minference\u001b[0;34m(images)\u001b[0m\n\u001b[1;32m    213\u001b[0m \u001b[38;5;66;03m# We instantiate all variables using tf.get_variable() instead of\u001b[39;00m\n\u001b[1;32m    214\u001b[0m \u001b[38;5;66;03m# tf.Variable() in order to share variables across multiple GPU training runs.\u001b[39;00m\n\u001b[1;32m    215\u001b[0m \u001b[38;5;66;03m# If we only ran this model on a single GPU, we could simplify this function\u001b[39;00m\n\u001b[1;32m    216\u001b[0m \u001b[38;5;66;03m# by replacing all instances of tf.get_variable() with tf.Variable().\u001b[39;00m\n\u001b[1;32m    217\u001b[0m \u001b[38;5;66;03m#\u001b[39;00m\n\u001b[1;32m    218\u001b[0m \u001b[38;5;66;03m# conv1\u001b[39;00m\n\u001b[1;32m    219\u001b[0m \u001b[38;5;28;01mwith\u001b[39;00m tf\u001b[38;5;241m.\u001b[39mvariable_scope(\u001b[38;5;124m'\u001b[39m\u001b[38;5;124mconv1\u001b[39m\u001b[38;5;124m'\u001b[39m) \u001b[38;5;28;01mas\u001b[39;00m scope:\n\u001b[0;32m--> 220\u001b[0m   kernel \u001b[38;5;241m=\u001b[39m \u001b[43m_variable_with_weight_decay\u001b[49m\u001b[43m(\u001b[49m\u001b[38;5;124;43m'\u001b[39;49m\u001b[38;5;124;43mweights\u001b[39;49m\u001b[38;5;124;43m'\u001b[39;49m\u001b[43m,\u001b[49m\n\u001b[1;32m    221\u001b[0m \u001b[43m                                       \u001b[49m\u001b[43mshape\u001b[49m\u001b[38;5;241;43m=\u001b[39;49m\u001b[43m[\u001b[49m\u001b[38;5;241;43m5\u001b[39;49m\u001b[43m,\u001b[49m\u001b[43m \u001b[49m\u001b[38;5;241;43m5\u001b[39;49m\u001b[43m,\u001b[49m\u001b[43m \u001b[49m\u001b[38;5;241;43m3\u001b[39;49m\u001b[43m,\u001b[49m\u001b[43m \u001b[49m\u001b[38;5;241;43m64\u001b[39;49m\u001b[43m]\u001b[49m\u001b[43m,\u001b[49m\n\u001b[1;32m    222\u001b[0m \u001b[43m                                       \u001b[49m\u001b[43mstddev\u001b[49m\u001b[38;5;241;43m=\u001b[39;49m\u001b[43mstd1\u001b[49m\u001b[43m,\u001b[49m\n\u001b[1;32m    223\u001b[0m \u001b[43m                                       \u001b[49m\u001b[43mwd\u001b[49m\u001b[38;5;241;43m=\u001b[39;49m\u001b[38;5;241;43m0.0\u001b[39;49m\u001b[43m)\u001b[49m\n\u001b[1;32m    224\u001b[0m   conv \u001b[38;5;241m=\u001b[39m tf\u001b[38;5;241m.\u001b[39mnn\u001b[38;5;241m.\u001b[39mconv2d(images, kernel, [\u001b[38;5;241m1\u001b[39m, \u001b[38;5;241m1\u001b[39m, \u001b[38;5;241m1\u001b[39m, \u001b[38;5;241m1\u001b[39m], padding\u001b[38;5;241m=\u001b[39m\u001b[38;5;124m'\u001b[39m\u001b[38;5;124mSAME\u001b[39m\u001b[38;5;124m'\u001b[39m)\n\u001b[1;32m    225\u001b[0m   biases \u001b[38;5;241m=\u001b[39m _variable_on_cpu(\u001b[38;5;124m'\u001b[39m\u001b[38;5;124mbiases\u001b[39m\u001b[38;5;124m'\u001b[39m, [\u001b[38;5;241m64\u001b[39m], tf\u001b[38;5;241m.\u001b[39mconstant_initializer(\u001b[38;5;241m0.0\u001b[39m))\n",
      "File \u001b[0;32m~/repos/decentralized-ifca/cifar_tf/notebooks/exp_ifca/cifar10.py:140\u001b[0m, in \u001b[0;36m_variable_with_weight_decay\u001b[0;34m(name, shape, stddev, wd)\u001b[0m\n\u001b[1;32m    124\u001b[0m \u001b[38;5;250m\u001b[39m\u001b[38;5;124;03m\"\"\"Helper to create an initialized Variable with weight decay.\u001b[39;00m\n\u001b[1;32m    125\u001b[0m \n\u001b[1;32m    126\u001b[0m \u001b[38;5;124;03mNote that the Variable is initialized with a truncated normal distribution.\u001b[39;00m\n\u001b[0;32m   (...)\u001b[0m\n\u001b[1;32m    137\u001b[0m \u001b[38;5;124;03m  Variable Tensor\u001b[39;00m\n\u001b[1;32m    138\u001b[0m \u001b[38;5;124;03m\"\"\"\u001b[39;00m\n\u001b[1;32m    139\u001b[0m dtype \u001b[38;5;241m=\u001b[39m tf\u001b[38;5;241m.\u001b[39mfloat16 \u001b[38;5;28;01mif\u001b[39;00m flags_use_fp16 \u001b[38;5;28;01melse\u001b[39;00m tf\u001b[38;5;241m.\u001b[39mfloat32\n\u001b[0;32m--> 140\u001b[0m var \u001b[38;5;241m=\u001b[39m \u001b[43m_variable_on_cpu\u001b[49m\u001b[43m(\u001b[49m\n\u001b[1;32m    141\u001b[0m \u001b[43m    \u001b[49m\u001b[43mname\u001b[49m\u001b[43m,\u001b[49m\n\u001b[1;32m    142\u001b[0m \u001b[43m    \u001b[49m\u001b[43mshape\u001b[49m\u001b[43m,\u001b[49m\n\u001b[1;32m    143\u001b[0m \u001b[43m    \u001b[49m\u001b[43mtf\u001b[49m\u001b[38;5;241;43m.\u001b[39;49m\u001b[43mtruncated_normal_initializer\u001b[49m\u001b[43m(\u001b[49m\u001b[43mstddev\u001b[49m\u001b[38;5;241;43m=\u001b[39;49m\u001b[43mstddev\u001b[49m\u001b[43m,\u001b[49m\u001b[43m \u001b[49m\u001b[43mdtype\u001b[49m\u001b[38;5;241;43m=\u001b[39;49m\u001b[43mdtype\u001b[49m\u001b[43m)\u001b[49m\u001b[43m)\u001b[49m\n\u001b[1;32m    144\u001b[0m \u001b[38;5;28;01mif\u001b[39;00m wd \u001b[38;5;129;01mis\u001b[39;00m \u001b[38;5;129;01mnot\u001b[39;00m \u001b[38;5;28;01mNone\u001b[39;00m:\n\u001b[1;32m    145\u001b[0m   \u001b[38;5;66;03m# weight_decay = tf.mul(tf.nn.l2_loss(var), wd, name='weight_loss')\u001b[39;00m\n\u001b[1;32m    146\u001b[0m   weight_decay \u001b[38;5;241m=\u001b[39m tf\u001b[38;5;241m.\u001b[39mmultiply(tf\u001b[38;5;241m.\u001b[39mnn\u001b[38;5;241m.\u001b[39ml2_loss(var), wd, name\u001b[38;5;241m=\u001b[39m\u001b[38;5;124m'\u001b[39m\u001b[38;5;124mweight_loss\u001b[39m\u001b[38;5;124m'\u001b[39m)\n",
      "File \u001b[0;32m~/repos/decentralized-ifca/cifar_tf/notebooks/exp_ifca/cifar10.py:119\u001b[0m, in \u001b[0;36m_variable_on_cpu\u001b[0;34m(name, shape, initializer)\u001b[0m\n\u001b[1;32m    117\u001b[0m \u001b[38;5;28;01mwith\u001b[39;00m tf\u001b[38;5;241m.\u001b[39mdevice(\u001b[38;5;124m'\u001b[39m\u001b[38;5;124m/cpu:0\u001b[39m\u001b[38;5;124m'\u001b[39m):\n\u001b[1;32m    118\u001b[0m   dtype \u001b[38;5;241m=\u001b[39m tf\u001b[38;5;241m.\u001b[39mfloat16 \u001b[38;5;28;01mif\u001b[39;00m flags_use_fp16 \u001b[38;5;28;01melse\u001b[39;00m tf\u001b[38;5;241m.\u001b[39mfloat32\n\u001b[0;32m--> 119\u001b[0m   var \u001b[38;5;241m=\u001b[39m \u001b[43mtf\u001b[49m\u001b[38;5;241;43m.\u001b[39;49m\u001b[43mget_variable\u001b[49m\u001b[43m(\u001b[49m\u001b[43mname\u001b[49m\u001b[43m,\u001b[49m\u001b[43m \u001b[49m\u001b[43mshape\u001b[49m\u001b[43m,\u001b[49m\u001b[43m \u001b[49m\u001b[43minitializer\u001b[49m\u001b[38;5;241;43m=\u001b[39;49m\u001b[43minitializer\u001b[49m\u001b[43m,\u001b[49m\u001b[43m \u001b[49m\u001b[43mdtype\u001b[49m\u001b[38;5;241;43m=\u001b[39;49m\u001b[43mdtype\u001b[49m\u001b[43m)\u001b[49m\n\u001b[1;32m    120\u001b[0m \u001b[38;5;28;01mreturn\u001b[39;00m var\n",
      "File \u001b[0;32m~/miniconda3/envs/kirch/lib/python3.11/site-packages/tensorflow/python/ops/variable_scope.py:1565\u001b[0m, in \u001b[0;36mget_variable\u001b[0;34m(name, shape, dtype, initializer, regularizer, trainable, collections, caching_device, partitioner, validate_shape, use_resource, custom_getter, constraint, synchronization, aggregation)\u001b[0m\n\u001b[1;32m   1549\u001b[0m \u001b[38;5;129m@tf_export\u001b[39m(v1\u001b[38;5;241m=\u001b[39m[\u001b[38;5;124m\"\u001b[39m\u001b[38;5;124mget_variable\u001b[39m\u001b[38;5;124m\"\u001b[39m])\n\u001b[1;32m   1550\u001b[0m \u001b[38;5;28;01mdef\u001b[39;00m\u001b[38;5;250m \u001b[39m\u001b[38;5;21mget_variable\u001b[39m(name,\n\u001b[1;32m   1551\u001b[0m                  shape\u001b[38;5;241m=\u001b[39m\u001b[38;5;28;01mNone\u001b[39;00m,\n\u001b[0;32m   (...)\u001b[0m\n\u001b[1;32m   1563\u001b[0m                  synchronization\u001b[38;5;241m=\u001b[39mVariableSynchronization\u001b[38;5;241m.\u001b[39mAUTO,\n\u001b[1;32m   1564\u001b[0m                  aggregation\u001b[38;5;241m=\u001b[39mVariableAggregation\u001b[38;5;241m.\u001b[39mNONE):\n\u001b[0;32m-> 1565\u001b[0m   \u001b[38;5;28;01mreturn\u001b[39;00m \u001b[43mget_variable_scope\u001b[49m\u001b[43m(\u001b[49m\u001b[43m)\u001b[49m\u001b[38;5;241;43m.\u001b[39;49m\u001b[43mget_variable\u001b[49m\u001b[43m(\u001b[49m\n\u001b[1;32m   1566\u001b[0m \u001b[43m      \u001b[49m\u001b[43m_get_default_variable_store\u001b[49m\u001b[43m(\u001b[49m\u001b[43m)\u001b[49m\u001b[43m,\u001b[49m\n\u001b[1;32m   1567\u001b[0m \u001b[43m      \u001b[49m\u001b[43mname\u001b[49m\u001b[43m,\u001b[49m\n\u001b[1;32m   1568\u001b[0m \u001b[43m      \u001b[49m\u001b[43mshape\u001b[49m\u001b[38;5;241;43m=\u001b[39;49m\u001b[43mshape\u001b[49m\u001b[43m,\u001b[49m\n\u001b[1;32m   1569\u001b[0m \u001b[43m      \u001b[49m\u001b[43mdtype\u001b[49m\u001b[38;5;241;43m=\u001b[39;49m\u001b[43mdtype\u001b[49m\u001b[43m,\u001b[49m\n\u001b[1;32m   1570\u001b[0m \u001b[43m      \u001b[49m\u001b[43minitializer\u001b[49m\u001b[38;5;241;43m=\u001b[39;49m\u001b[43minitializer\u001b[49m\u001b[43m,\u001b[49m\n\u001b[1;32m   1571\u001b[0m \u001b[43m      \u001b[49m\u001b[43mregularizer\u001b[49m\u001b[38;5;241;43m=\u001b[39;49m\u001b[43mregularizer\u001b[49m\u001b[43m,\u001b[49m\n\u001b[1;32m   1572\u001b[0m \u001b[43m      \u001b[49m\u001b[43mtrainable\u001b[49m\u001b[38;5;241;43m=\u001b[39;49m\u001b[43mtrainable\u001b[49m\u001b[43m,\u001b[49m\n\u001b[1;32m   1573\u001b[0m \u001b[43m      \u001b[49m\u001b[43mcollections\u001b[49m\u001b[38;5;241;43m=\u001b[39;49m\u001b[43mcollections\u001b[49m\u001b[43m,\u001b[49m\n\u001b[1;32m   1574\u001b[0m \u001b[43m      \u001b[49m\u001b[43mcaching_device\u001b[49m\u001b[38;5;241;43m=\u001b[39;49m\u001b[43mcaching_device\u001b[49m\u001b[43m,\u001b[49m\n\u001b[1;32m   1575\u001b[0m \u001b[43m      \u001b[49m\u001b[43mpartitioner\u001b[49m\u001b[38;5;241;43m=\u001b[39;49m\u001b[43mpartitioner\u001b[49m\u001b[43m,\u001b[49m\n\u001b[1;32m   1576\u001b[0m \u001b[43m      \u001b[49m\u001b[43mvalidate_shape\u001b[49m\u001b[38;5;241;43m=\u001b[39;49m\u001b[43mvalidate_shape\u001b[49m\u001b[43m,\u001b[49m\n\u001b[1;32m   1577\u001b[0m \u001b[43m      \u001b[49m\u001b[43muse_resource\u001b[49m\u001b[38;5;241;43m=\u001b[39;49m\u001b[43muse_resource\u001b[49m\u001b[43m,\u001b[49m\n\u001b[1;32m   1578\u001b[0m \u001b[43m      \u001b[49m\u001b[43mcustom_getter\u001b[49m\u001b[38;5;241;43m=\u001b[39;49m\u001b[43mcustom_getter\u001b[49m\u001b[43m,\u001b[49m\n\u001b[1;32m   1579\u001b[0m \u001b[43m      \u001b[49m\u001b[43mconstraint\u001b[49m\u001b[38;5;241;43m=\u001b[39;49m\u001b[43mconstraint\u001b[49m\u001b[43m,\u001b[49m\n\u001b[1;32m   1580\u001b[0m \u001b[43m      \u001b[49m\u001b[43msynchronization\u001b[49m\u001b[38;5;241;43m=\u001b[39;49m\u001b[43msynchronization\u001b[49m\u001b[43m,\u001b[49m\n\u001b[1;32m   1581\u001b[0m \u001b[43m      \u001b[49m\u001b[43maggregation\u001b[49m\u001b[38;5;241;43m=\u001b[39;49m\u001b[43maggregation\u001b[49m\u001b[43m)\u001b[49m\n",
      "File \u001b[0;32m~/miniconda3/envs/kirch/lib/python3.11/site-packages/tensorflow/python/ops/variable_scope.py:1275\u001b[0m, in \u001b[0;36mVariableScope.get_variable\u001b[0;34m(self, var_store, name, shape, dtype, initializer, regularizer, reuse, trainable, collections, caching_device, partitioner, validate_shape, use_resource, custom_getter, constraint, synchronization, aggregation)\u001b[0m\n\u001b[1;32m   1273\u001b[0m \u001b[38;5;28;01mif\u001b[39;00m dtype \u001b[38;5;129;01mis\u001b[39;00m \u001b[38;5;28;01mNone\u001b[39;00m:\n\u001b[1;32m   1274\u001b[0m   dtype \u001b[38;5;241m=\u001b[39m \u001b[38;5;28mself\u001b[39m\u001b[38;5;241m.\u001b[39m_dtype\n\u001b[0;32m-> 1275\u001b[0m \u001b[38;5;28;01mreturn\u001b[39;00m \u001b[43mvar_store\u001b[49m\u001b[38;5;241;43m.\u001b[39;49m\u001b[43mget_variable\u001b[49m\u001b[43m(\u001b[49m\n\u001b[1;32m   1276\u001b[0m \u001b[43m    \u001b[49m\u001b[43mfull_name\u001b[49m\u001b[43m,\u001b[49m\n\u001b[1;32m   1277\u001b[0m \u001b[43m    \u001b[49m\u001b[43mshape\u001b[49m\u001b[38;5;241;43m=\u001b[39;49m\u001b[43mshape\u001b[49m\u001b[43m,\u001b[49m\n\u001b[1;32m   1278\u001b[0m \u001b[43m    \u001b[49m\u001b[43mdtype\u001b[49m\u001b[38;5;241;43m=\u001b[39;49m\u001b[43mdtype\u001b[49m\u001b[43m,\u001b[49m\n\u001b[1;32m   1279\u001b[0m \u001b[43m    \u001b[49m\u001b[43minitializer\u001b[49m\u001b[38;5;241;43m=\u001b[39;49m\u001b[43minitializer\u001b[49m\u001b[43m,\u001b[49m\n\u001b[1;32m   1280\u001b[0m \u001b[43m    \u001b[49m\u001b[43mregularizer\u001b[49m\u001b[38;5;241;43m=\u001b[39;49m\u001b[43mregularizer\u001b[49m\u001b[43m,\u001b[49m\n\u001b[1;32m   1281\u001b[0m \u001b[43m    \u001b[49m\u001b[43mreuse\u001b[49m\u001b[38;5;241;43m=\u001b[39;49m\u001b[43mreuse\u001b[49m\u001b[43m,\u001b[49m\n\u001b[1;32m   1282\u001b[0m \u001b[43m    \u001b[49m\u001b[43mtrainable\u001b[49m\u001b[38;5;241;43m=\u001b[39;49m\u001b[43mtrainable\u001b[49m\u001b[43m,\u001b[49m\n\u001b[1;32m   1283\u001b[0m \u001b[43m    \u001b[49m\u001b[43mcollections\u001b[49m\u001b[38;5;241;43m=\u001b[39;49m\u001b[43mcollections\u001b[49m\u001b[43m,\u001b[49m\n\u001b[1;32m   1284\u001b[0m \u001b[43m    \u001b[49m\u001b[43mcaching_device\u001b[49m\u001b[38;5;241;43m=\u001b[39;49m\u001b[43mcaching_device\u001b[49m\u001b[43m,\u001b[49m\n\u001b[1;32m   1285\u001b[0m \u001b[43m    \u001b[49m\u001b[43mpartitioner\u001b[49m\u001b[38;5;241;43m=\u001b[39;49m\u001b[43mpartitioner\u001b[49m\u001b[43m,\u001b[49m\n\u001b[1;32m   1286\u001b[0m \u001b[43m    \u001b[49m\u001b[43mvalidate_shape\u001b[49m\u001b[38;5;241;43m=\u001b[39;49m\u001b[43mvalidate_shape\u001b[49m\u001b[43m,\u001b[49m\n\u001b[1;32m   1287\u001b[0m \u001b[43m    \u001b[49m\u001b[43muse_resource\u001b[49m\u001b[38;5;241;43m=\u001b[39;49m\u001b[43muse_resource\u001b[49m\u001b[43m,\u001b[49m\n\u001b[1;32m   1288\u001b[0m \u001b[43m    \u001b[49m\u001b[43mcustom_getter\u001b[49m\u001b[38;5;241;43m=\u001b[39;49m\u001b[43mcustom_getter\u001b[49m\u001b[43m,\u001b[49m\n\u001b[1;32m   1289\u001b[0m \u001b[43m    \u001b[49m\u001b[43mconstraint\u001b[49m\u001b[38;5;241;43m=\u001b[39;49m\u001b[43mconstraint\u001b[49m\u001b[43m,\u001b[49m\n\u001b[1;32m   1290\u001b[0m \u001b[43m    \u001b[49m\u001b[43msynchronization\u001b[49m\u001b[38;5;241;43m=\u001b[39;49m\u001b[43msynchronization\u001b[49m\u001b[43m,\u001b[49m\n\u001b[1;32m   1291\u001b[0m \u001b[43m    \u001b[49m\u001b[43maggregation\u001b[49m\u001b[38;5;241;43m=\u001b[39;49m\u001b[43maggregation\u001b[49m\u001b[43m)\u001b[49m\n",
      "File \u001b[0;32m~/miniconda3/envs/kirch/lib/python3.11/site-packages/tensorflow/python/ops/variable_scope.py:520\u001b[0m, in \u001b[0;36m_VariableStore.get_variable\u001b[0;34m(self, name, shape, dtype, initializer, regularizer, reuse, trainable, collections, caching_device, partitioner, validate_shape, use_resource, custom_getter, constraint, synchronization, aggregation)\u001b[0m\n\u001b[1;32m    518\u001b[0m   \u001b[38;5;28;01mreturn\u001b[39;00m custom_getter(\u001b[38;5;241m*\u001b[39m\u001b[38;5;241m*\u001b[39mcustom_getter_kwargs)\n\u001b[1;32m    519\u001b[0m \u001b[38;5;28;01melse\u001b[39;00m:\n\u001b[0;32m--> 520\u001b[0m   \u001b[38;5;28;01mreturn\u001b[39;00m \u001b[43m_true_getter\u001b[49m\u001b[43m(\u001b[49m\n\u001b[1;32m    521\u001b[0m \u001b[43m      \u001b[49m\u001b[43mname\u001b[49m\u001b[43m,\u001b[49m\n\u001b[1;32m    522\u001b[0m \u001b[43m      \u001b[49m\u001b[43mshape\u001b[49m\u001b[38;5;241;43m=\u001b[39;49m\u001b[43mshape\u001b[49m\u001b[43m,\u001b[49m\n\u001b[1;32m    523\u001b[0m \u001b[43m      \u001b[49m\u001b[43mdtype\u001b[49m\u001b[38;5;241;43m=\u001b[39;49m\u001b[43mdtype\u001b[49m\u001b[43m,\u001b[49m\n\u001b[1;32m    524\u001b[0m \u001b[43m      \u001b[49m\u001b[43minitializer\u001b[49m\u001b[38;5;241;43m=\u001b[39;49m\u001b[43minitializer\u001b[49m\u001b[43m,\u001b[49m\n\u001b[1;32m    525\u001b[0m \u001b[43m      \u001b[49m\u001b[43mregularizer\u001b[49m\u001b[38;5;241;43m=\u001b[39;49m\u001b[43mregularizer\u001b[49m\u001b[43m,\u001b[49m\n\u001b[1;32m    526\u001b[0m \u001b[43m      \u001b[49m\u001b[43mreuse\u001b[49m\u001b[38;5;241;43m=\u001b[39;49m\u001b[43mreuse\u001b[49m\u001b[43m,\u001b[49m\n\u001b[1;32m    527\u001b[0m \u001b[43m      \u001b[49m\u001b[43mtrainable\u001b[49m\u001b[38;5;241;43m=\u001b[39;49m\u001b[43mtrainable\u001b[49m\u001b[43m,\u001b[49m\n\u001b[1;32m    528\u001b[0m \u001b[43m      \u001b[49m\u001b[43mcollections\u001b[49m\u001b[38;5;241;43m=\u001b[39;49m\u001b[43mcollections\u001b[49m\u001b[43m,\u001b[49m\n\u001b[1;32m    529\u001b[0m \u001b[43m      \u001b[49m\u001b[43mcaching_device\u001b[49m\u001b[38;5;241;43m=\u001b[39;49m\u001b[43mcaching_device\u001b[49m\u001b[43m,\u001b[49m\n\u001b[1;32m    530\u001b[0m \u001b[43m      \u001b[49m\u001b[43mpartitioner\u001b[49m\u001b[38;5;241;43m=\u001b[39;49m\u001b[43mpartitioner\u001b[49m\u001b[43m,\u001b[49m\n\u001b[1;32m    531\u001b[0m \u001b[43m      \u001b[49m\u001b[43mvalidate_shape\u001b[49m\u001b[38;5;241;43m=\u001b[39;49m\u001b[43mvalidate_shape\u001b[49m\u001b[43m,\u001b[49m\n\u001b[1;32m    532\u001b[0m \u001b[43m      \u001b[49m\u001b[43muse_resource\u001b[49m\u001b[38;5;241;43m=\u001b[39;49m\u001b[43muse_resource\u001b[49m\u001b[43m,\u001b[49m\n\u001b[1;32m    533\u001b[0m \u001b[43m      \u001b[49m\u001b[43mconstraint\u001b[49m\u001b[38;5;241;43m=\u001b[39;49m\u001b[43mconstraint\u001b[49m\u001b[43m,\u001b[49m\n\u001b[1;32m    534\u001b[0m \u001b[43m      \u001b[49m\u001b[43msynchronization\u001b[49m\u001b[38;5;241;43m=\u001b[39;49m\u001b[43msynchronization\u001b[49m\u001b[43m,\u001b[49m\n\u001b[1;32m    535\u001b[0m \u001b[43m      \u001b[49m\u001b[43maggregation\u001b[49m\u001b[38;5;241;43m=\u001b[39;49m\u001b[43maggregation\u001b[49m\u001b[43m)\u001b[49m\n",
      "File \u001b[0;32m~/miniconda3/envs/kirch/lib/python3.11/site-packages/tensorflow/python/ops/variable_scope.py:473\u001b[0m, in \u001b[0;36m_VariableStore.get_variable.<locals>._true_getter\u001b[0;34m(name, shape, dtype, initializer, regularizer, reuse, trainable, collections, caching_device, partitioner, validate_shape, use_resource, constraint, synchronization, aggregation)\u001b[0m\n\u001b[1;32m    467\u001b[0m \u001b[38;5;28;01mif\u001b[39;00m \u001b[38;5;124m\"\u001b[39m\u001b[38;5;132;01m%s\u001b[39;00m\u001b[38;5;124m/part_0\u001b[39m\u001b[38;5;124m\"\u001b[39m \u001b[38;5;241m%\u001b[39m name \u001b[38;5;129;01min\u001b[39;00m \u001b[38;5;28mself\u001b[39m\u001b[38;5;241m.\u001b[39m_vars:\n\u001b[1;32m    468\u001b[0m   \u001b[38;5;28;01mraise\u001b[39;00m \u001b[38;5;167;01mValueError\u001b[39;00m(\n\u001b[1;32m    469\u001b[0m       \u001b[38;5;124m\"\u001b[39m\u001b[38;5;124mNo partitioner was provided, but a partitioned version of the \u001b[39m\u001b[38;5;124m\"\u001b[39m\n\u001b[1;32m    470\u001b[0m       \u001b[38;5;124m\"\u001b[39m\u001b[38;5;124mvariable was found: \u001b[39m\u001b[38;5;132;01m%s\u001b[39;00m\u001b[38;5;124m/part_0. Perhaps a variable of the same \u001b[39m\u001b[38;5;124m\"\u001b[39m\n\u001b[1;32m    471\u001b[0m       \u001b[38;5;124m\"\u001b[39m\u001b[38;5;124mname was already created with partitioning?\u001b[39m\u001b[38;5;124m\"\u001b[39m \u001b[38;5;241m%\u001b[39m name)\n\u001b[0;32m--> 473\u001b[0m \u001b[38;5;28;01mreturn\u001b[39;00m \u001b[38;5;28;43mself\u001b[39;49m\u001b[38;5;241;43m.\u001b[39;49m\u001b[43m_get_single_variable\u001b[49m\u001b[43m(\u001b[49m\n\u001b[1;32m    474\u001b[0m \u001b[43m    \u001b[49m\u001b[43mname\u001b[49m\u001b[38;5;241;43m=\u001b[39;49m\u001b[43mname\u001b[49m\u001b[43m,\u001b[49m\n\u001b[1;32m    475\u001b[0m \u001b[43m    \u001b[49m\u001b[43mshape\u001b[49m\u001b[38;5;241;43m=\u001b[39;49m\u001b[43mshape\u001b[49m\u001b[43m,\u001b[49m\n\u001b[1;32m    476\u001b[0m \u001b[43m    \u001b[49m\u001b[43mdtype\u001b[49m\u001b[38;5;241;43m=\u001b[39;49m\u001b[43mdtype\u001b[49m\u001b[43m,\u001b[49m\n\u001b[1;32m    477\u001b[0m \u001b[43m    \u001b[49m\u001b[43minitializer\u001b[49m\u001b[38;5;241;43m=\u001b[39;49m\u001b[43minitializer\u001b[49m\u001b[43m,\u001b[49m\n\u001b[1;32m    478\u001b[0m \u001b[43m    \u001b[49m\u001b[43mregularizer\u001b[49m\u001b[38;5;241;43m=\u001b[39;49m\u001b[43mregularizer\u001b[49m\u001b[43m,\u001b[49m\n\u001b[1;32m    479\u001b[0m \u001b[43m    \u001b[49m\u001b[43mreuse\u001b[49m\u001b[38;5;241;43m=\u001b[39;49m\u001b[43mreuse\u001b[49m\u001b[43m,\u001b[49m\n\u001b[1;32m    480\u001b[0m \u001b[43m    \u001b[49m\u001b[43mtrainable\u001b[49m\u001b[38;5;241;43m=\u001b[39;49m\u001b[43mtrainable\u001b[49m\u001b[43m,\u001b[49m\n\u001b[1;32m    481\u001b[0m \u001b[43m    \u001b[49m\u001b[43mcollections\u001b[49m\u001b[38;5;241;43m=\u001b[39;49m\u001b[43mcollections\u001b[49m\u001b[43m,\u001b[49m\n\u001b[1;32m    482\u001b[0m \u001b[43m    \u001b[49m\u001b[43mcaching_device\u001b[49m\u001b[38;5;241;43m=\u001b[39;49m\u001b[43mcaching_device\u001b[49m\u001b[43m,\u001b[49m\n\u001b[1;32m    483\u001b[0m \u001b[43m    \u001b[49m\u001b[43mvalidate_shape\u001b[49m\u001b[38;5;241;43m=\u001b[39;49m\u001b[43mvalidate_shape\u001b[49m\u001b[43m,\u001b[49m\n\u001b[1;32m    484\u001b[0m \u001b[43m    \u001b[49m\u001b[43muse_resource\u001b[49m\u001b[38;5;241;43m=\u001b[39;49m\u001b[43muse_resource\u001b[49m\u001b[43m,\u001b[49m\n\u001b[1;32m    485\u001b[0m \u001b[43m    \u001b[49m\u001b[43mconstraint\u001b[49m\u001b[38;5;241;43m=\u001b[39;49m\u001b[43mconstraint\u001b[49m\u001b[43m,\u001b[49m\n\u001b[1;32m    486\u001b[0m \u001b[43m    \u001b[49m\u001b[43msynchronization\u001b[49m\u001b[38;5;241;43m=\u001b[39;49m\u001b[43msynchronization\u001b[49m\u001b[43m,\u001b[49m\n\u001b[1;32m    487\u001b[0m \u001b[43m    \u001b[49m\u001b[43maggregation\u001b[49m\u001b[38;5;241;43m=\u001b[39;49m\u001b[43maggregation\u001b[49m\u001b[43m)\u001b[49m\n",
      "File \u001b[0;32m~/miniconda3/envs/kirch/lib/python3.11/site-packages/tensorflow/python/ops/variable_scope.py:838\u001b[0m, in \u001b[0;36m_VariableStore._get_single_variable\u001b[0;34m(self, name, shape, dtype, initializer, regularizer, partition_info, reuse, trainable, collections, caching_device, validate_shape, use_resource, constraint, synchronization, aggregation)\u001b[0m\n\u001b[1;32m    833\u001b[0m   \u001b[38;5;66;03m# Throw away internal tf entries and only take a few lines. In some\u001b[39;00m\n\u001b[1;32m    834\u001b[0m   \u001b[38;5;66;03m# cases the traceback can be longer (e.g. if someone uses factory\u001b[39;00m\n\u001b[1;32m    835\u001b[0m   \u001b[38;5;66;03m# functions to create variables) so we take more than needed in the\u001b[39;00m\n\u001b[1;32m    836\u001b[0m   \u001b[38;5;66;03m# default case.\u001b[39;00m\n\u001b[1;32m    837\u001b[0m   tb \u001b[38;5;241m=\u001b[39m [x \u001b[38;5;28;01mfor\u001b[39;00m x \u001b[38;5;129;01min\u001b[39;00m tb \u001b[38;5;28;01mif\u001b[39;00m \u001b[38;5;124m\"\u001b[39m\u001b[38;5;124mtensorflow/python\u001b[39m\u001b[38;5;124m\"\u001b[39m \u001b[38;5;129;01mnot\u001b[39;00m \u001b[38;5;129;01min\u001b[39;00m x[\u001b[38;5;241m0\u001b[39m]][:\u001b[38;5;241m5\u001b[39m]\n\u001b[0;32m--> 838\u001b[0m   \u001b[38;5;28;01mraise\u001b[39;00m \u001b[38;5;167;01mValueError\u001b[39;00m(\u001b[38;5;124m\"\u001b[39m\u001b[38;5;132;01m%s\u001b[39;00m\u001b[38;5;124m Originally defined at:\u001b[39m\u001b[38;5;130;01m\\n\u001b[39;00m\u001b[38;5;130;01m\\n\u001b[39;00m\u001b[38;5;132;01m%s\u001b[39;00m\u001b[38;5;124m\"\u001b[39m \u001b[38;5;241m%\u001b[39m\n\u001b[1;32m    839\u001b[0m                    (err_msg, \u001b[38;5;124m\"\u001b[39m\u001b[38;5;124m\"\u001b[39m\u001b[38;5;241m.\u001b[39mjoin(traceback\u001b[38;5;241m.\u001b[39mformat_list(tb))))\n\u001b[1;32m    840\u001b[0m found_var \u001b[38;5;241m=\u001b[39m \u001b[38;5;28mself\u001b[39m\u001b[38;5;241m.\u001b[39m_vars[name]\n\u001b[1;32m    841\u001b[0m \u001b[38;5;28;01mif\u001b[39;00m shape \u001b[38;5;129;01mis\u001b[39;00m \u001b[38;5;129;01mnot\u001b[39;00m \u001b[38;5;28;01mNone\u001b[39;00m \u001b[38;5;129;01mand\u001b[39;00m \u001b[38;5;129;01mnot\u001b[39;00m shape\u001b[38;5;241m.\u001b[39mis_compatible_with(\n\u001b[1;32m    842\u001b[0m     found_var\u001b[38;5;241m.\u001b[39mget_shape()\n\u001b[1;32m    843\u001b[0m ):\n",
      "\u001b[0;31mValueError\u001b[0m: Variable conv1/weights already exists, disallowed. Did you mean to set reuse=True or reuse=tf.AUTO_REUSE in VarScope? Originally defined at:\n\n  File \"/home/rbrinkhege/repos/decentralized-ifca/cifar_tf/notebooks/exp_ifca/cifar10.py\", line 119, in _variable_on_cpu\n  File \"/home/rbrinkhege/repos/decentralized-ifca/cifar_tf/notebooks/exp_ifca/cifar10.py\", line 140, in _variable_with_weight_decay\n  File \"/home/rbrinkhege/repos/decentralized-ifca/cifar_tf/notebooks/exp_ifca/cifar10.py\", line 220, in inference\n  File \"/home/rbrinkhege/repos/decentralized-ifca/cifar_tf/notebooks/exp_ifca/train_cluster_cifar_tf.py\", line 189, in setup_model\n  File \"/home/rbrinkhege/repos/decentralized-ifca/cifar_tf/notebooks/exp_ifca/train_cluster_cifar_tf.py\", line 81, in setup\n"
     ]
    }
   ],
   "source": [
    "import json\n",
    "import time\n",
    "import torch\n",
    "import numpy as np\n",
    "\n",
    "\n",
    "with open(\"config.json\", \"r\") as read_file:\n",
    "    config = json.load(read_file)\n",
    "\n",
    "for lr in learning_rates:\n",
    "    config['lr'] = lr\n",
    "    res_final = []\n",
    "\n",
    "    for seed in seeds:\n",
    "        print(f\"---------------------------------IFCA, lr: {lr}, seed: {seed}---------------------------------\")\n",
    "        start_time = time.time()\n",
    "        config['data_seed'] = seed\n",
    "        config['train_seed'] = config['data_seed']\n",
    "\n",
    "        print(\"config:\",config)\n",
    "\n",
    "        exp = IFCA.TrainCIFARCluster(config)\n",
    "        exp.setup()\n",
    "        res = exp.run()\n",
    "        res_final.append([[r['test']['loss'] for r in res], [r['test']['acc'] for r in res], [r['test']['cl_acc'] for r in res], [r['train']['loss'] for r in res]])\n",
    "        del exp\n",
    "        duration = (time.time() - start_time)\n",
    "        print(\"---train cluster Ended in %0.2f hour (%.3f sec) \" % (duration/float(3600), duration))\n",
    "\n",
    "    res_mean = np.mean(res_final, axis=0).tolist()\n",
    "    ifca.append(res_mean)\n",
    "\n"
   ]
  },
  {
   "cell_type": "markdown",
   "metadata": {},
   "source": [
    "## Plots"
   ]
  },
  {
   "cell_type": "code",
   "execution_count": 4,
   "metadata": {
    "execution": {
     "iopub.execute_input": "2025-06-03T19:42:36.127487Z",
     "iopub.status.busy": "2025-06-03T19:42:36.127326Z",
     "iopub.status.idle": "2025-06-03T19:42:36.147997Z",
     "shell.execute_reply": "2025-06-03T19:42:36.147574Z"
    }
   },
   "outputs": [
    {
     "ename": "IndexError",
     "evalue": "list index out of range",
     "output_type": "error",
     "traceback": [
      "\u001b[0;31m---------------------------------------------------------------------------\u001b[0m",
      "\u001b[0;31mIndexError\u001b[0m                                Traceback (most recent call last)",
      "Cell \u001b[0;32mIn[4], line 8\u001b[0m\n\u001b[1;32m      6\u001b[0m r_ifca[\u001b[38;5;124m'\u001b[39m\u001b[38;5;124mtrain_loss\u001b[39m\u001b[38;5;124m'\u001b[39m] \u001b[38;5;241m=\u001b[39m []\n\u001b[1;32m      7\u001b[0m \u001b[38;5;28;01mfor\u001b[39;00m i \u001b[38;5;129;01min\u001b[39;00m \u001b[38;5;28mrange\u001b[39m(\u001b[38;5;28mlen\u001b[39m(learning_rates)):\n\u001b[0;32m----> 8\u001b[0m     r_ifca[\u001b[38;5;124m'\u001b[39m\u001b[38;5;124mtest_loss\u001b[39m\u001b[38;5;124m'\u001b[39m]\u001b[38;5;241m.\u001b[39mappend(\u001b[43mifca\u001b[49m\u001b[43m[\u001b[49m\u001b[43mi\u001b[49m\u001b[43m]\u001b[49m[\u001b[38;5;241m0\u001b[39m])\n\u001b[1;32m      9\u001b[0m     r_ifca[\u001b[38;5;124m'\u001b[39m\u001b[38;5;124mtest_acc\u001b[39m\u001b[38;5;124m'\u001b[39m]\u001b[38;5;241m.\u001b[39mappend(ifca[i][\u001b[38;5;241m1\u001b[39m])\n\u001b[1;32m     10\u001b[0m     r_ifca[\u001b[38;5;124m'\u001b[39m\u001b[38;5;124mcl_acc\u001b[39m\u001b[38;5;124m'\u001b[39m]\u001b[38;5;241m.\u001b[39mappend(ifca[i][\u001b[38;5;241m2\u001b[39m])\n",
      "\u001b[0;31mIndexError\u001b[0m: list index out of range"
     ]
    }
   ],
   "source": [
    "\n",
    "r_ifca = {}\n",
    "\n",
    "r_ifca['test_loss'] = []\n",
    "r_ifca['test_acc'] = []\n",
    "r_ifca['cl_acc'] = []\n",
    "r_ifca['train_loss'] = []\n",
    "for i in range(len(learning_rates)):\n",
    "    r_ifca['test_loss'].append(ifca[i][0])\n",
    "    r_ifca['test_acc'].append(ifca[i][1])\n",
    "    r_ifca['cl_acc'].append(ifca[i][2])\n",
    "    r_ifca['train_loss'].append(ifca[i][3])\n",
    "\n",
    "with open('res_ifca.pickle', 'wb') as f:\n",
    "    pickle.dump(r_ifca, f)\n",
    "\n",
    "os.makedirs('graphs', exist_ok=True)\n",
    "\n",
    "for l in range(len(learning_rates)):\n",
    "\n",
    "    plt.figure(figsize=(10,5))\n",
    "    plt.plot(r_ifca['train_loss'][l], label='ifca', color='green')\n",
    "    plt.xlabel('epoch')\n",
    "    plt.ylabel('loss')\n",
    "    plt.title(f'Train Loss per Epoch (lr={learning_rates[l]})')\n",
    "    plt.legend()\n",
    "    plt.savefig(os.path.join('graphs', '3_train_loss.png'))\n",
    "\n",
    "    plt.figure(figsize=(10,5))\n",
    "    plt.plot(r_ifca['test_loss'][l], label='ifca', color='green')\n",
    "    plt.xlabel('epoch')\n",
    "    plt.ylabel('loss')\n",
    "    plt.title(f'Test Loss per Epoch (lr={learning_rates[l]})')\n",
    "    plt.legend()\n",
    "    plt.savefig(os.path.join('graphs', '3_test_loss.png'))\n",
    "\n",
    "    plt.figure(figsize=(10,5))\n",
    "    plt.plot(r_ifca['test_acc'][l], label='ifca', color='green')\n",
    "    plt.xlabel('epoch')\n",
    "    plt.ylabel('test accuracy')\n",
    "    plt.title(f'Test Accuracy per Epoch (lr={learning_rates[l]})')\n",
    "    plt.legend()\n",
    "    plt.savefig(os.path.join('graphs', '3_test_acc.png'))\n",
    "\n"
   ]
  }
 ],
 "metadata": {
  "accelerator": "GPU",
  "colab": {
   "gpuType": "T4",
   "provenance": []
  },
  "kernelspec": {
   "display_name": "dl-new",
   "language": "python",
   "name": "python3"
  },
  "language_info": {
   "codemirror_mode": {
    "name": "ipython",
    "version": 3
   },
   "file_extension": ".py",
   "mimetype": "text/x-python",
   "name": "python",
   "nbconvert_exporter": "python",
   "pygments_lexer": "ipython3",
   "version": "3.11.11"
  }
 },
 "nbformat": 4,
 "nbformat_minor": 4
}
