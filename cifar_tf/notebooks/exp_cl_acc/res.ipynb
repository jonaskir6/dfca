{
 "cells": [
  {
   "cell_type": "code",
   "execution_count": 1,
   "id": "b60db7ae",
   "metadata": {},
   "outputs": [
    {
     "name": "stderr",
     "output_type": "stream",
     "text": [
      "2025-06-20 22:44:43.200043: E external/local_xla/xla/stream_executor/cuda/cuda_fft.cc:467] Unable to register cuFFT factory: Attempting to register factory for plugin cuFFT when one has already been registered\n",
      "WARNING: All log messages before absl::InitializeLog() is called are written to STDERR\n",
      "E0000 00:00:1750452283.223035 1317581 cuda_dnn.cc:8579] Unable to register cuDNN factory: Attempting to register factory for plugin cuDNN when one has already been registered\n",
      "E0000 00:00:1750452283.230060 1317581 cuda_blas.cc:1407] Unable to register cuBLAS factory: Attempting to register factory for plugin cuBLAS when one has already been registered\n",
      "W0000 00:00:1750452283.246970 1317581 computation_placer.cc:177] computation placer already registered. Please check linkage and avoid linking the same target more than once.\n",
      "W0000 00:00:1750452283.246987 1317581 computation_placer.cc:177] computation placer already registered. Please check linkage and avoid linking the same target more than once.\n",
      "W0000 00:00:1750452283.246989 1317581 computation_placer.cc:177] computation placer already registered. Please check linkage and avoid linking the same target more than once.\n",
      "W0000 00:00:1750452283.246991 1317581 computation_placer.cc:177] computation placer already registered. Please check linkage and avoid linking the same target more than once.\n",
      "2025-06-20 22:44:43.253475: I tensorflow/core/platform/cpu_feature_guard.cc:210] This TensorFlow binary is optimized to use available CPU instructions in performance-critical operations.\n",
      "To enable the following instructions: AVX2 FMA, in other operations, rebuild TensorFlow with the appropriate compiler flags.\n"
     ]
    },
    {
     "name": "stdout",
     "output_type": "stream",
     "text": [
      "WARNING:tensorflow:From /home/kirch/local/python-3.11/lib/python3.11/site-packages/tensorflow/python/compat/v2_compat.py:98: disable_resource_variables (from tensorflow.python.ops.resource_variables_toggle) is deprecated and will be removed in a future version.\n",
      "Instructions for updating:\n",
      "non-resource variables are not supported in the long term\n"
     ]
    }
   ],
   "source": [
    "import json\n",
    "import os\n",
    "import time\n",
    "import ipyparallel as ipp\n",
    "\n",
    "import matplotlib.pyplot as plt\n",
    "import torch\n",
    "import train_cluster_cifar_tf as IFCA\n",
    "\n",
    "import numpy as np\n",
    "import random\n",
    "\n",
    "from util import *"
   ]
  },
  {
   "cell_type": "code",
   "execution_count": null,
   "id": "f90226de",
   "metadata": {},
   "outputs": [
    {
     "name": "stdout",
     "output_type": "stream",
     "text": [
      "config: {'m': 200, 'm_test': 40, 'p': 2, 'n': 500, 'participation_rate': 0.3, 'num_epochs': 30, 'batch_size': 50, 'tau': 5, 'lr': 0.25, 'data_seed': 0, 'train_seed': 0, 'project_dir': 'output'}\n",
      "Using device: cuda:0\n",
      "WARNING:tensorflow:From /home/kirch/repos/dfca/cifar_tf/notebooks/exp_cl_acc/cifar10.py:143: calling TruncatedNormal.__init__ (from tensorflow.python.ops.init_ops) with dtype is deprecated and will be removed in a future version.\n",
      "Instructions for updating:\n",
      "Call initializer instance with the dtype argument instead of passing it to the constructor\n"
     ]
    },
    {
     "name": "stderr",
     "output_type": "stream",
     "text": [
      "I0000 00:00:1750452296.036821 1317581 gpu_device.cc:2019] Created device /job:localhost/replica:0/task:0/device:GPU:0 with 38484 MB memory:  -> device: 0, name: NVIDIA A100-SXM4-40GB, pci bus id: 0000:01:00.0, compute capability: 8.0\n",
      "I0000 00:00:1750452296.041916 1317581 gpu_device.cc:2019] Created device /job:localhost/replica:0/task:0/device:GPU:1 with 33986 MB memory:  -> device: 1, name: NVIDIA A100-SXM4-40GB, pci bus id: 0000:41:00.0, compute capability: 8.0\n",
      "I0000 00:00:1750452296.043594 1317581 gpu_device.cc:2019] Created device /job:localhost/replica:0/task:0/device:GPU:2 with 37722 MB memory:  -> device: 2, name: NVIDIA A100-SXM4-40GB, pci bus id: 0000:81:00.0, compute capability: 8.0\n",
      "I0000 00:00:1750452296.045369 1317581 gpu_device.cc:2019] Created device /job:localhost/replica:0/task:0/device:GPU:3 with 20804 MB memory:  -> device: 3, name: NVIDIA A100-SXM4-40GB, pci bus id: 0000:c1:00.0, compute capability: 8.0\n",
      "WARNING: All log messages before absl::InitializeLog() is called are written to STDERR\n",
      "I0000 00:00:1750452296.086558 1317581 mlir_graph_optimization_pass.cc:425] MLIR V1 optimization pass is not enabled\n"
     ]
    },
    {
     "name": "stdout",
     "output_type": "stream",
     "text": [
      "finding good initializer from train data\n"
     ]
    },
    {
     "name": "stderr",
     "output_type": "stream",
     "text": [
      "2025-06-20 22:44:56.571291: W tensorflow/c/c_api.cc:305] Operation '{name:'softmax_linear/biases/Assign' id:221 op device:{requested: '/device:CPU:0', assigned: ''} def:{{{node softmax_linear/biases/Assign}} = Assign[T=DT_FLOAT, _class=[\"loc:@softmax_linear/biases\"], _has_manual_control_dependencies=true, use_locking=true, validate_shape=true, _device=\"/device:CPU:0\"](softmax_linear/biases, softmax_linear/biases/Initializer/Const)}}' was changed by setting attribute after it was run by a session. This mutation will have no effect, and will trigger an error in the future. Either don't modify nodes after running them or create a new session.\n",
      "I0000 00:00:1750452298.209412 1318269 cuda_dnn.cc:529] Loaded cuDNN version 90501\n"
     ]
    },
    {
     "name": "stdout",
     "output_type": "stream",
     "text": [
      "Epoch -1 tr: l 4.675 a 0.105  clct[np.int64(26), np.int64(34)] ans[np.int64(29), np.int64(31)] cl_acc 0.683 4.050sec\n",
      "found good initializer\n",
      "Epoch -1 tr: l 4.675 a 0.106  clct[np.int64(21), np.int64(39)] ans[np.int64(29), np.int64(31)] cl_acc 0.600 2.597sec\n",
      "Epoch -1 tst: l 4.676 a 0.102  clct[np.int64(16), np.int64(24)] ans[np.int64(20), np.int64(20)] cl_acc 0.650 1.740sec\n",
      "Epoch 0 tr: l 4.594 a 0.136  clct[np.int64(27), np.int64(33)] ans[np.int64(25), np.int64(35)] lr 0.250000 cl_acc 0.600 19.849sec(train) 2.334sec(infer)\n",
      "Epoch 0 tst: l 4.612 a 0.118  clct[np.int64(15), np.int64(25)] ans[np.int64(20), np.int64(20)] cl_acc 0.675 1.340sec\n",
      "result written at output/results.pickle\n",
      "Epoch 1 tr: l 4.464 a 0.160  clct[np.int64(34), np.int64(26)] ans[np.int64(35), np.int64(25)] lr 0.247500 cl_acc 0.550 19.110sec(train) 2.117sec(infer)\n",
      "Epoch 1 tst: l 4.537 a 0.133  clct[np.int64(14), np.int64(26)] ans[np.int64(20), np.int64(20)] cl_acc 0.600 1.423sec\n",
      "Epoch 2 tr: l 4.369 a 0.187  clct[np.int64(25), np.int64(35)] ans[np.int64(26), np.int64(34)] lr 0.245025 cl_acc 0.517 18.425sec(train) 2.211sec(infer)\n",
      "Epoch 2 tst: l 4.401 a 0.158  clct[np.int64(12), np.int64(28)] ans[np.int64(20), np.int64(20)] cl_acc 0.550 1.346sec\n",
      "Epoch 3 tr: l 4.326 a 0.182  clct[np.int64(19), np.int64(41)] ans[np.int64(29), np.int64(31)] lr 0.242575 cl_acc 0.600 18.549sec(train) 2.105sec(infer)\n"
     ]
    },
    {
     "ename": "KeyboardInterrupt",
     "evalue": "",
     "output_type": "error",
     "traceback": [
      "\u001b[31m---------------------------------------------------------------------------\u001b[39m",
      "\u001b[31mKeyboardInterrupt\u001b[39m                         Traceback (most recent call last)",
      "\u001b[36mCell\u001b[39m\u001b[36m \u001b[39m\u001b[32mIn[2]\u001b[39m\u001b[32m, line 24\u001b[39m\n\u001b[32m     22\u001b[39m exp = DFCA.TrainCIFARCluster(config)\n\u001b[32m     23\u001b[39m exp.setup()\n\u001b[32m---> \u001b[39m\u001b[32m24\u001b[39m res = \u001b[43mexp\u001b[49m\u001b[43m.\u001b[49m\u001b[43mrun\u001b[49m\u001b[43m(\u001b[49m\u001b[43m)\u001b[49m\n\u001b[32m     25\u001b[39m res_final.append([[r[\u001b[33m'\u001b[39m\u001b[33mtest\u001b[39m\u001b[33m'\u001b[39m][\u001b[33m'\u001b[39m\u001b[33mloss\u001b[39m\u001b[33m'\u001b[39m] \u001b[38;5;28;01mfor\u001b[39;00m r \u001b[38;5;129;01min\u001b[39;00m res], [r[\u001b[33m'\u001b[39m\u001b[33mtest\u001b[39m\u001b[33m'\u001b[39m][\u001b[33m'\u001b[39m\u001b[33macc\u001b[39m\u001b[33m'\u001b[39m] \u001b[38;5;28;01mfor\u001b[39;00m r \u001b[38;5;129;01min\u001b[39;00m res], [r[\u001b[33m'\u001b[39m\u001b[33mtest\u001b[39m\u001b[33m'\u001b[39m][\u001b[33m'\u001b[39m\u001b[33mcl_acc\u001b[39m\u001b[33m'\u001b[39m] \u001b[38;5;28;01mfor\u001b[39;00m r \u001b[38;5;129;01min\u001b[39;00m res], [r[\u001b[33m'\u001b[39m\u001b[33mtrain\u001b[39m\u001b[33m'\u001b[39m][\u001b[33m'\u001b[39m\u001b[33mloss\u001b[39m\u001b[33m'\u001b[39m] \u001b[38;5;28;01mfor\u001b[39;00m r \u001b[38;5;129;01min\u001b[39;00m res]])\n\u001b[32m     26\u001b[39m duration = (time.time() - start_time)\n",
      "\u001b[36mFile \u001b[39m\u001b[32m~/repos/dfca/cifar_tf/notebooks/exp_cl_acc/train_cluster_cifar_dfca_tf.py:358\u001b[39m, in \u001b[36mTrainCIFARCluster.run\u001b[39m\u001b[34m(self)\u001b[39m\n\u001b[32m    355\u001b[39m \u001b[38;5;28mself\u001b[39m.print_epoch_stats(res)\n\u001b[32m    357\u001b[39m t0 = time.time()\n\u001b[32m--> \u001b[39m\u001b[32m358\u001b[39m res = \u001b[38;5;28;43mself\u001b[39;49m\u001b[43m.\u001b[49m\u001b[43mtest\u001b[49m\u001b[43m(\u001b[49m\u001b[43mtrain\u001b[49m\u001b[43m=\u001b[49m\u001b[38;5;28;43;01mFalse\u001b[39;49;00m\u001b[43m)\u001b[49m\n\u001b[32m    359\u001b[39m t1 = time.time()\n\u001b[32m    360\u001b[39m res[\u001b[33m'\u001b[39m\u001b[33minfer_time\u001b[39m\u001b[33m'\u001b[39m] = t1-t0\n",
      "\u001b[36mFile \u001b[39m\u001b[32m~/repos/dfca/cifar_tf/notebooks/exp_cl_acc/train_cluster_cifar_dfca_tf.py:656\u001b[39m, in \u001b[36mTrainCIFARCluster.test\u001b[39m\u001b[34m(self, train, force_full_nodes)\u001b[39m\n\u001b[32m    653\u001b[39m t_load_model += tp1-tp0\n\u001b[32m    655\u001b[39m t00= time.time()\n\u001b[32m--> \u001b[39m\u001b[32m656\u001b[39m (X, y) = \u001b[38;5;28;43mself\u001b[39;49m\u001b[43m.\u001b[49m\u001b[43mload_node_data\u001b[49m\u001b[43m(\u001b[49m\u001b[43mm_i\u001b[49m\u001b[43m,\u001b[49m\u001b[43m \u001b[49m\u001b[43mtrain\u001b[49m\u001b[43m=\u001b[49m\u001b[43mtrain\u001b[49m\u001b[43m)\u001b[49m \u001b[38;5;66;03m# load batch data rotated\u001b[39;00m\n\u001b[32m    657\u001b[39m t01= time.time()\n\u001b[32m    658\u001b[39m t_load_data += t01-t00\n",
      "\u001b[36mFile \u001b[39m\u001b[32m~/repos/dfca/cifar_tf/notebooks/exp_cl_acc/train_cluster_cifar_dfca_tf.py:741\u001b[39m, in \u001b[36mTrainCIFARCluster.load_node_data\u001b[39m\u001b[34m(self, m_i, train)\u001b[39m\n\u001b[32m    737\u001b[39m     dataset = \u001b[38;5;28mself\u001b[39m.dataset[\u001b[33m'\u001b[39m\u001b[33mtest\u001b[39m\u001b[33m'\u001b[39m]\n\u001b[32m    739\u001b[39m indices = dataset[\u001b[33m'\u001b[39m\u001b[33mdata_indices\u001b[39m\u001b[33m'\u001b[39m][m_i]\n\u001b[32m--> \u001b[39m\u001b[32m741\u001b[39m \u001b[38;5;28;01mreturn\u001b[39;00m \u001b[38;5;28;43mself\u001b[39;49m\u001b[43m.\u001b[49m\u001b[43mload_data_by_index\u001b[49m\u001b[43m(\u001b[49m\u001b[43mindices\u001b[49m\u001b[43m,\u001b[49m\u001b[43m \u001b[49m\u001b[43mm_i\u001b[49m\u001b[43m,\u001b[49m\u001b[43m \u001b[49m\u001b[43mtrain\u001b[49m\u001b[43m)\u001b[49m\n",
      "\u001b[36mFile \u001b[39m\u001b[32m~/repos/dfca/cifar_tf/notebooks/exp_cl_acc/train_cluster_cifar_dfca_tf.py:777\u001b[39m, in \u001b[36mTrainCIFARCluster.load_data_by_index\u001b[39m\u001b[34m(self, indices, m_i, train)\u001b[39m\n\u001b[32m    773\u001b[39m     \u001b[38;5;28;01mraise\u001b[39;00m \u001b[38;5;167;01mNotImplementedError\u001b[39;00m(\u001b[33m\"\u001b[39m\u001b[33monly p=1,2,4 supported\u001b[39m\u001b[33m\"\u001b[39m)\n\u001b[32m    775\u001b[39m X_b2 = np.rot90(X_b, k=k, axes = (\u001b[32m1\u001b[39m,\u001b[32m2\u001b[39m)) \u001b[38;5;66;03m# X_b: (bs, 32, 32, 3)\u001b[39;00m\n\u001b[32m--> \u001b[39m\u001b[32m777\u001b[39m X_b3 = \u001b[38;5;28;43mself\u001b[39;49m\u001b[43m.\u001b[49m\u001b[43msess\u001b[49m\u001b[43m.\u001b[49m\u001b[43mrun\u001b[49m\u001b[43m(\u001b[49m\u001b[43mtransform_op\u001b[49m\u001b[43m,\u001b[49m\u001b[43m \u001b[49m\u001b[43mfeed_dict\u001b[49m\u001b[43m \u001b[49m\u001b[43m=\u001b[49m\u001b[43m \u001b[49m\u001b[43m{\u001b[49m\u001b[43m \u001b[49m\u001b[38;5;28;43mself\u001b[39;49m\u001b[43m.\u001b[49m\u001b[43mx_tr_pl\u001b[49m\u001b[43m \u001b[49m\u001b[43m:\u001b[49m\u001b[43m \u001b[49m\u001b[43mX_b2\u001b[49m\u001b[43m \u001b[49m\u001b[43m}\u001b[49m\u001b[43m \u001b[49m\u001b[43m)\u001b[49m\n\u001b[32m    779\u001b[39m \u001b[38;5;28;01mreturn\u001b[39;00m (X_b3, y_b)\n",
      "\u001b[36mFile \u001b[39m\u001b[32m~/local/python-3.11/lib/python3.11/site-packages/tensorflow/python/client/session.py:977\u001b[39m, in \u001b[36mBaseSession.run\u001b[39m\u001b[34m(self, fetches, feed_dict, options, run_metadata)\u001b[39m\n\u001b[32m    974\u001b[39m run_metadata_ptr = tf_session.TF_NewBuffer() \u001b[38;5;28;01mif\u001b[39;00m run_metadata \u001b[38;5;28;01melse\u001b[39;00m \u001b[38;5;28;01mNone\u001b[39;00m\n\u001b[32m    976\u001b[39m \u001b[38;5;28;01mtry\u001b[39;00m:\n\u001b[32m--> \u001b[39m\u001b[32m977\u001b[39m   result = \u001b[38;5;28;43mself\u001b[39;49m\u001b[43m.\u001b[49m\u001b[43m_run\u001b[49m\u001b[43m(\u001b[49m\u001b[38;5;28;43;01mNone\u001b[39;49;00m\u001b[43m,\u001b[49m\u001b[43m \u001b[49m\u001b[43mfetches\u001b[49m\u001b[43m,\u001b[49m\u001b[43m \u001b[49m\u001b[43mfeed_dict\u001b[49m\u001b[43m,\u001b[49m\u001b[43m \u001b[49m\u001b[43moptions_ptr\u001b[49m\u001b[43m,\u001b[49m\n\u001b[32m    978\u001b[39m \u001b[43m                     \u001b[49m\u001b[43mrun_metadata_ptr\u001b[49m\u001b[43m)\u001b[49m\n\u001b[32m    979\u001b[39m   \u001b[38;5;28;01mif\u001b[39;00m run_metadata:\n\u001b[32m    980\u001b[39m     proto_data = tf_session.TF_GetBuffer(run_metadata_ptr)\n",
      "\u001b[36mFile \u001b[39m\u001b[32m~/local/python-3.11/lib/python3.11/site-packages/tensorflow/python/client/session.py:1220\u001b[39m, in \u001b[36mBaseSession._run\u001b[39m\u001b[34m(self, handle, fetches, feed_dict, options, run_metadata)\u001b[39m\n\u001b[32m   1217\u001b[39m \u001b[38;5;66;03m# We only want to really perform the run if fetches or targets are provided,\u001b[39;00m\n\u001b[32m   1218\u001b[39m \u001b[38;5;66;03m# or if the call is a partial run that specifies feeds.\u001b[39;00m\n\u001b[32m   1219\u001b[39m \u001b[38;5;28;01mif\u001b[39;00m final_fetches \u001b[38;5;129;01mor\u001b[39;00m final_targets \u001b[38;5;129;01mor\u001b[39;00m (handle \u001b[38;5;129;01mand\u001b[39;00m feed_dict_tensor):\n\u001b[32m-> \u001b[39m\u001b[32m1220\u001b[39m   results = \u001b[38;5;28;43mself\u001b[39;49m\u001b[43m.\u001b[49m\u001b[43m_do_run\u001b[49m\u001b[43m(\u001b[49m\u001b[43mhandle\u001b[49m\u001b[43m,\u001b[49m\u001b[43m \u001b[49m\u001b[43mfinal_targets\u001b[49m\u001b[43m,\u001b[49m\u001b[43m \u001b[49m\u001b[43mfinal_fetches\u001b[49m\u001b[43m,\u001b[49m\n\u001b[32m   1221\u001b[39m \u001b[43m                         \u001b[49m\u001b[43mfeed_dict_tensor\u001b[49m\u001b[43m,\u001b[49m\u001b[43m \u001b[49m\u001b[43moptions\u001b[49m\u001b[43m,\u001b[49m\u001b[43m \u001b[49m\u001b[43mrun_metadata\u001b[49m\u001b[43m)\u001b[49m\n\u001b[32m   1222\u001b[39m \u001b[38;5;28;01melse\u001b[39;00m:\n\u001b[32m   1223\u001b[39m   results = []\n",
      "\u001b[36mFile \u001b[39m\u001b[32m~/local/python-3.11/lib/python3.11/site-packages/tensorflow/python/client/session.py:1400\u001b[39m, in \u001b[36mBaseSession._do_run\u001b[39m\u001b[34m(self, handle, target_list, fetch_list, feed_dict, options, run_metadata)\u001b[39m\n\u001b[32m   1397\u001b[39m   \u001b[38;5;28;01mreturn\u001b[39;00m \u001b[38;5;28mself\u001b[39m._call_tf_sessionprun(handle, feed_dict, fetch_list)\n\u001b[32m   1399\u001b[39m \u001b[38;5;28;01mif\u001b[39;00m handle \u001b[38;5;129;01mis\u001b[39;00m \u001b[38;5;28;01mNone\u001b[39;00m:\n\u001b[32m-> \u001b[39m\u001b[32m1400\u001b[39m   \u001b[38;5;28;01mreturn\u001b[39;00m \u001b[38;5;28;43mself\u001b[39;49m\u001b[43m.\u001b[49m\u001b[43m_do_call\u001b[49m\u001b[43m(\u001b[49m\u001b[43m_run_fn\u001b[49m\u001b[43m,\u001b[49m\u001b[43m \u001b[49m\u001b[43mfeeds\u001b[49m\u001b[43m,\u001b[49m\u001b[43m \u001b[49m\u001b[43mfetches\u001b[49m\u001b[43m,\u001b[49m\u001b[43m \u001b[49m\u001b[43mtargets\u001b[49m\u001b[43m,\u001b[49m\u001b[43m \u001b[49m\u001b[43moptions\u001b[49m\u001b[43m,\u001b[49m\n\u001b[32m   1401\u001b[39m \u001b[43m                       \u001b[49m\u001b[43mrun_metadata\u001b[49m\u001b[43m)\u001b[49m\n\u001b[32m   1402\u001b[39m \u001b[38;5;28;01melse\u001b[39;00m:\n\u001b[32m   1403\u001b[39m   \u001b[38;5;28;01mreturn\u001b[39;00m \u001b[38;5;28mself\u001b[39m._do_call(_prun_fn, handle, feeds, fetches)\n",
      "\u001b[36mFile \u001b[39m\u001b[32m~/local/python-3.11/lib/python3.11/site-packages/tensorflow/python/client/session.py:1407\u001b[39m, in \u001b[36mBaseSession._do_call\u001b[39m\u001b[34m(self, fn, *args)\u001b[39m\n\u001b[32m   1405\u001b[39m \u001b[38;5;28;01mdef\u001b[39;00m\u001b[38;5;250m \u001b[39m\u001b[34m_do_call\u001b[39m(\u001b[38;5;28mself\u001b[39m, fn, *args):\n\u001b[32m   1406\u001b[39m   \u001b[38;5;28;01mtry\u001b[39;00m:\n\u001b[32m-> \u001b[39m\u001b[32m1407\u001b[39m     \u001b[38;5;28;01mreturn\u001b[39;00m \u001b[43mfn\u001b[49m\u001b[43m(\u001b[49m\u001b[43m*\u001b[49m\u001b[43margs\u001b[49m\u001b[43m)\u001b[49m\n\u001b[32m   1408\u001b[39m   \u001b[38;5;28;01mexcept\u001b[39;00m errors.OpError \u001b[38;5;28;01mas\u001b[39;00m e:\n\u001b[32m   1409\u001b[39m     message = compat.as_text(e.message)\n",
      "\u001b[36mFile \u001b[39m\u001b[32m~/local/python-3.11/lib/python3.11/site-packages/tensorflow/python/client/session.py:1390\u001b[39m, in \u001b[36mBaseSession._do_run.<locals>._run_fn\u001b[39m\u001b[34m(feed_dict, fetch_list, target_list, options, run_metadata)\u001b[39m\n\u001b[32m   1387\u001b[39m \u001b[38;5;28;01mdef\u001b[39;00m\u001b[38;5;250m \u001b[39m\u001b[34m_run_fn\u001b[39m(feed_dict, fetch_list, target_list, options, run_metadata):\n\u001b[32m   1388\u001b[39m   \u001b[38;5;66;03m# Ensure any changes to the graph are reflected in the runtime.\u001b[39;00m\n\u001b[32m   1389\u001b[39m   \u001b[38;5;28mself\u001b[39m._extend_graph()\n\u001b[32m-> \u001b[39m\u001b[32m1390\u001b[39m   \u001b[38;5;28;01mreturn\u001b[39;00m \u001b[38;5;28;43mself\u001b[39;49m\u001b[43m.\u001b[49m\u001b[43m_call_tf_sessionrun\u001b[49m\u001b[43m(\u001b[49m\u001b[43moptions\u001b[49m\u001b[43m,\u001b[49m\u001b[43m \u001b[49m\u001b[43mfeed_dict\u001b[49m\u001b[43m,\u001b[49m\u001b[43m \u001b[49m\u001b[43mfetch_list\u001b[49m\u001b[43m,\u001b[49m\n\u001b[32m   1391\u001b[39m \u001b[43m                                  \u001b[49m\u001b[43mtarget_list\u001b[49m\u001b[43m,\u001b[49m\u001b[43m \u001b[49m\u001b[43mrun_metadata\u001b[49m\u001b[43m)\u001b[49m\n",
      "\u001b[36mFile \u001b[39m\u001b[32m~/local/python-3.11/lib/python3.11/site-packages/tensorflow/python/client/session.py:1483\u001b[39m, in \u001b[36mBaseSession._call_tf_sessionrun\u001b[39m\u001b[34m(self, options, feed_dict, fetch_list, target_list, run_metadata)\u001b[39m\n\u001b[32m   1481\u001b[39m \u001b[38;5;28;01mdef\u001b[39;00m\u001b[38;5;250m \u001b[39m\u001b[34m_call_tf_sessionrun\u001b[39m(\u001b[38;5;28mself\u001b[39m, options, feed_dict, fetch_list, target_list,\n\u001b[32m   1482\u001b[39m                         run_metadata):\n\u001b[32m-> \u001b[39m\u001b[32m1483\u001b[39m   \u001b[38;5;28;01mreturn\u001b[39;00m \u001b[43mtf_session\u001b[49m\u001b[43m.\u001b[49m\u001b[43mTF_SessionRun_wrapper\u001b[49m\u001b[43m(\u001b[49m\u001b[38;5;28;43mself\u001b[39;49m\u001b[43m.\u001b[49m\u001b[43m_session\u001b[49m\u001b[43m,\u001b[49m\u001b[43m \u001b[49m\u001b[43moptions\u001b[49m\u001b[43m,\u001b[49m\u001b[43m \u001b[49m\u001b[43mfeed_dict\u001b[49m\u001b[43m,\u001b[49m\n\u001b[32m   1484\u001b[39m \u001b[43m                                          \u001b[49m\u001b[43mfetch_list\u001b[49m\u001b[43m,\u001b[49m\u001b[43m \u001b[49m\u001b[43mtarget_list\u001b[49m\u001b[43m,\u001b[49m\n\u001b[32m   1485\u001b[39m \u001b[43m                                          \u001b[49m\u001b[43mrun_metadata\u001b[49m\u001b[43m)\u001b[49m\n",
      "\u001b[31mKeyboardInterrupt\u001b[39m: "
     ]
    }
   ],
   "source": [
    "import train_cluster_cifar_dfca_tf as DFCA\n",
    "import json\n",
    "import time\n",
    "import torch\n",
    "import numpy as np\n",
    "\n",
    "\n",
    "with open(\"config_pn.json\", \"r\") as read_file:\n",
    "    config = json.load(read_file)\n",
    "\n",
    "\n",
    "res_final = []\n",
    "config['participation_rate'] = 0.5\n",
    "\n",
    "start_time = time.time()\n",
    "config['train_seed'] = config['data_seed']\n",
    "\n",
    "print(\"config:\",config)\n",
    "device = torch.device(\"cuda:0\" if torch.cuda.is_available() else \"cpu\")\n",
    "print(f\"Using device: {device}\")\n",
    "\n",
    "exp = DFCA.TrainCIFARCluster(config)\n",
    "exp.setup()\n",
    "res = exp.run()\n",
    "res_final.append([[r['test']['loss'] for r in res], [r['test']['acc'] for r in res], [r['test']['cl_acc'] for r in res], [r['train']['loss'] for r in res]])\n",
    "duration = (time.time() - start_time)\n",
    "print(\"---train cluster Ended in %0.2f hour (%.3f sec) \" % (duration/float(3600), duration))"
   ]
  }
 ],
 "metadata": {
  "kernelspec": {
   "display_name": "Python 3",
   "language": "python",
   "name": "python3"
  },
  "language_info": {
   "codemirror_mode": {
    "name": "ipython",
    "version": 3
   },
   "file_extension": ".py",
   "mimetype": "text/x-python",
   "name": "python",
   "nbconvert_exporter": "python",
   "pygments_lexer": "ipython3",
   "version": "3.11.11"
  }
 },
 "nbformat": 4,
 "nbformat_minor": 5
}
