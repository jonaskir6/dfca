{
 "cells": [
  {
   "cell_type": "code",
   "execution_count": 1,
   "id": "2f20bfb1",
   "metadata": {
    "execution": {
     "iopub.execute_input": "2025-06-13T09:17:33.049958Z",
     "iopub.status.busy": "2025-06-13T09:17:33.049467Z",
     "iopub.status.idle": "2025-06-13T09:17:37.547792Z",
     "shell.execute_reply": "2025-06-13T09:17:37.546702Z"
    }
   },
   "outputs": [],
   "source": [
    "import json\n",
    "import os\n",
    "import time\n",
    "import ipyparallel as ipp\n",
    "\n",
    "import matplotlib.pyplot as plt\n",
    "import torch\n",
    "import ifca as IFCA\n",
    "import numpy as np\n",
    "\n",
    "from util import *"
   ]
  },
  {
   "cell_type": "code",
   "execution_count": 2,
   "id": "ee6c788b",
   "metadata": {
    "execution": {
     "iopub.execute_input": "2025-06-13T09:17:37.551153Z",
     "iopub.status.busy": "2025-06-13T09:17:37.550807Z",
     "iopub.status.idle": "2025-06-14T02:20:47.660294Z",
     "shell.execute_reply": "2025-06-14T02:20:47.659266Z"
    }
   },
   "outputs": [
    {
     "name": "stdout",
     "output_type": "stream",
     "text": [
      "config: {'m': 200, 'm_test': 40, 'p': 2, 'n': 500, 'uneven': False, 'local_model_init': False, 'participation_rate': 0.5, 'h1': 128, 'num_epochs': 600, 'batch_size': 50, 'tau': 10, 'lr': 0.25, 'data_seed': 13, 'train_seed': 13, 'config_override': '', 'project_dir': 'output_dfca_gi'}\n",
      "Using device: cuda\n",
      "num_data: 50000\n"
     ]
    },
    {
     "name": "stdout",
     "output_type": "stream",
     "text": [
      "num_data: 10000\n"
     ]
    },
    {
     "name": "stdout",
     "output_type": "stream",
     "text": [
      "finding good initializer from train data\n"
     ]
    },
    {
     "name": "stdout",
     "output_type": "stream",
     "text": [
      "Epoch -1 tr: l 2.302 a 0.105 clct[np.int64(43), np.int64(57)] clct_ans[np.int64(50), np.int64(50)]  21.110sec\n",
      "found good initializer\n"
     ]
    },
    {
     "name": "stdout",
     "output_type": "stream",
     "text": [
      "Epoch -1 tr: l 2.302 a 0.104 clct[np.int64(39), np.int64(61)] clct_ans[np.int64(47), np.int64(53)]  20.894sec\n"
     ]
    },
    {
     "name": "stdout",
     "output_type": "stream",
     "text": [
      "Epoch -1 tst: l 2.302 a 0.105 clct[np.int64(13), np.int64(27)] clct_ans[np.int64(20), np.int64(20)]  3.140sec\n"
     ]
    },
    {
     "name": "stdout",
     "output_type": "stream",
     "text": [
      "Epoch 0 tr: l 2.171 a 0.236 clct[np.int64(22), np.int64(78)] clct_ans[np.int64(51), np.int64(49)]  lr 0.250000 86.108sec(train) 21.189sec(infer)\n"
     ]
    },
    {
     "name": "stdout",
     "output_type": "stream",
     "text": [
      "Epoch 0 tst: l 2.163 a 0.249 clct[np.int64(6), np.int64(34)] clct_ans[np.int64(20), np.int64(20)]  3.187sec\n",
      "result written at output_dfca_gi/results.pickle\n",
      "checkpoint written at output_dfca_gi/checkpoint.pt\n"
     ]
    },
    {
     "name": "stdout",
     "output_type": "stream",
     "text": [
      "Epoch 1 tr: l 1.922 a 0.335 clct[np.int64(52), np.int64(48)] clct_ans[np.int64(48), np.int64(52)]  lr 0.249975 78.882sec(train) 20.710sec(infer)\n"
     ]
    },
    {
     "name": "stdout",
     "output_type": "stream",
     "text": [
      "Epoch 1 tst: l 1.892 a 0.363 clct[np.int64(20), np.int64(20)] clct_ans[np.int64(20), np.int64(20)]  3.165sec\n"
     ]
    },
    {
     "name": "stdout",
     "output_type": "stream",
     "text": [
      "Epoch 2 tr: l 1.758 a 0.383 clct[np.int64(57), np.int64(43)] clct_ans[np.int64(43), np.int64(57)]  lr 0.249950 78.618sec(train) 21.291sec(infer)\n"
     ]
    },
    {
     "name": "stdout",
     "output_type": "stream",
     "text": [
      "Epoch 2 tst: l 1.691 a 0.417 clct[np.int64(20), np.int64(20)] clct_ans[np.int64(20), np.int64(20)]  3.243sec\n"
     ]
    },
    {
     "name": "stdout",
     "output_type": "stream",
     "text": [
      "Epoch 3 tr: l 1.653 a 0.412 clct[np.int64(49), np.int64(51)] clct_ans[np.int64(51), np.int64(49)]  lr 0.249925 77.915sec(train) 20.694sec(infer)\n"
     ]
    },
    {
     "name": "stdout",
     "output_type": "stream",
     "text": [
      "Epoch 3 tst: l 1.569 a 0.446 clct[np.int64(20), np.int64(20)] clct_ans[np.int64(20), np.int64(20)]  3.181sec\n"
     ]
    },
    {
     "name": "stdout",
     "output_type": "stream",
     "text": [
      "Epoch 4 tr: l 1.592 a 0.450 clct[np.int64(50), np.int64(50)] clct_ans[np.int64(50), np.int64(50)]  lr 0.249900 78.171sec(train) 20.767sec(infer)\n"
     ]
    },
    {
     "name": "stdout",
     "output_type": "stream",
     "text": [
      "Epoch 4 tst: l 1.493 a 0.481 clct[np.int64(20), np.int64(20)] clct_ans[np.int64(20), np.int64(20)]  3.187sec\n"
     ]
    },
    {
     "name": "stdout",
     "output_type": "stream",
     "text": [
      "Epoch 5 tr: l 1.651 a 0.468 clct[np.int64(51), np.int64(49)] clct_ans[np.int64(49), np.int64(51)]  lr 0.249875 78.238sec(train) 20.756sec(infer)\n"
     ]
    },
    {
     "name": "stdout",
     "output_type": "stream",
     "text": [
      "Epoch 5 tst: l 1.523 a 0.507 clct[np.int64(20), np.int64(20)] clct_ans[np.int64(20), np.int64(20)]  3.181sec\n"
     ]
    },
    {
     "name": "stdout",
     "output_type": "stream",
     "text": [
      "Epoch 6 tr: l 1.565 a 0.483 clct[np.int64(53), np.int64(47)] clct_ans[np.int64(47), np.int64(53)]  lr 0.249850 78.642sec(train) 20.895sec(infer)\n"
     ]
    },
    {
     "name": "stdout",
     "output_type": "stream",
     "text": [
      "Epoch 6 tst: l 1.451 a 0.517 clct[np.int64(20), np.int64(20)] clct_ans[np.int64(20), np.int64(20)]  3.188sec\n"
     ]
    },
    {
     "name": "stdout",
     "output_type": "stream",
     "text": [
      "Epoch 7 tr: l 1.504 a 0.493 clct[np.int64(53), np.int64(47)] clct_ans[np.int64(47), np.int64(53)]  lr 0.249825 78.813sec(train) 20.799sec(infer)\n"
     ]
    },
    {
     "name": "stdout",
     "output_type": "stream",
     "text": [
      "Epoch 7 tst: l 1.397 a 0.528 clct[np.int64(20), np.int64(20)] clct_ans[np.int64(20), np.int64(20)]  3.209sec\n"
     ]
    },
    {
     "name": "stdout",
     "output_type": "stream",
     "text": [
      "Epoch 8 tr: l 1.475 a 0.500 clct[np.int64(47), np.int64(53)] clct_ans[np.int64(53), np.int64(47)]  lr 0.249800 78.873sec(train) 20.760sec(infer)\n"
     ]
    },
    {
     "name": "stdout",
     "output_type": "stream",
     "text": [
      "Epoch 8 tst: l 1.369 a 0.539 clct[np.int64(20), np.int64(20)] clct_ans[np.int64(20), np.int64(20)]  3.183sec\n"
     ]
    },
    {
     "name": "stdout",
     "output_type": "stream",
     "text": [
      "Epoch 9 tr: l 1.452 a 0.511 clct[np.int64(49), np.int64(51)] clct_ans[np.int64(51), np.int64(49)]  lr 0.249775 78.064sec(train) 20.815sec(infer)\n"
     ]
    },
    {
     "name": "stdout",
     "output_type": "stream",
     "text": [
      "Epoch 9 tst: l 1.353 a 0.545 clct[np.int64(20), np.int64(20)] clct_ans[np.int64(20), np.int64(20)]  3.173sec\n"
     ]
    },
    {
     "name": "stdout",
     "output_type": "stream",
     "text": [
      "Epoch 10 tr: l 1.435 a 0.513 clct[np.int64(52), np.int64(48)] clct_ans[np.int64(48), np.int64(52)]  lr 0.249750 78.831sec(train) 21.000sec(infer)\n"
     ]
    },
    {
     "name": "stdout",
     "output_type": "stream",
     "text": [
      "Epoch 10 tst: l 1.324 a 0.554 clct[np.int64(20), np.int64(20)] clct_ans[np.int64(20), np.int64(20)]  3.162sec\n",
      "result written at output_dfca_gi/results.pickle\n",
      "checkpoint written at output_dfca_gi/checkpoint.pt\n"
     ]
    },
    {
     "name": "stdout",
     "output_type": "stream",
     "text": [
      "Epoch 11 tr: l 1.412 a 0.522 clct[np.int64(53), np.int64(47)] clct_ans[np.int64(47), np.int64(53)]  lr 0.249725 78.182sec(train) 20.990sec(infer)\n"
     ]
    },
    {
     "name": "stdout",
     "output_type": "stream",
     "text": [
      "Epoch 11 tst: l 1.311 a 0.556 clct[np.int64(20), np.int64(20)] clct_ans[np.int64(20), np.int64(20)]  3.194sec\n"
     ]
    },
    {
     "name": "stdout",
     "output_type": "stream",
     "text": [
      "Epoch 12 tr: l 1.402 a 0.523 clct[np.int64(48), np.int64(52)] clct_ans[np.int64(52), np.int64(48)]  lr 0.249700 77.495sec(train) 20.915sec(infer)\n"
     ]
    },
    {
     "name": "stdout",
     "output_type": "stream",
     "text": [
      "Epoch 12 tst: l 1.301 a 0.560 clct[np.int64(20), np.int64(20)] clct_ans[np.int64(20), np.int64(20)]  3.259sec\n"
     ]
    },
    {
     "name": "stdout",
     "output_type": "stream",
     "text": [
      "Epoch 13 tr: l 1.386 a 0.529 clct[np.int64(50), np.int64(50)] clct_ans[np.int64(50), np.int64(50)]  lr 0.249675 78.648sec(train) 20.780sec(infer)\n"
     ]
    },
    {
     "name": "stdout",
     "output_type": "stream",
     "text": [
      "Epoch 13 tst: l 1.288 a 0.564 clct[np.int64(20), np.int64(20)] clct_ans[np.int64(20), np.int64(20)]  3.167sec\n"
     ]
    },
    {
     "name": "stdout",
     "output_type": "stream",
     "text": [
      "Epoch 14 tr: l 1.370 a 0.535 clct[np.int64(56), np.int64(44)] clct_ans[np.int64(44), np.int64(56)]  lr 0.249650 78.282sec(train) 20.763sec(infer)\n"
     ]
    },
    {
     "name": "stdout",
     "output_type": "stream",
     "text": [
      "Epoch 14 tst: l 1.278 a 0.565 clct[np.int64(20), np.int64(20)] clct_ans[np.int64(20), np.int64(20)]  3.376sec\n"
     ]
    },
    {
     "name": "stdout",
     "output_type": "stream",
     "text": [
      "Epoch 15 tr: l 1.364 a 0.535 clct[np.int64(55), np.int64(45)] clct_ans[np.int64(45), np.int64(55)]  lr 0.249625 78.233sec(train) 21.072sec(infer)\n"
     ]
    },
    {
     "name": "stdout",
     "output_type": "stream",
     "text": [
      "Epoch 15 tst: l 1.261 a 0.572 clct[np.int64(20), np.int64(20)] clct_ans[np.int64(20), np.int64(20)]  3.181sec\n"
     ]
    },
    {
     "name": "stdout",
     "output_type": "stream",
     "text": [
      "Epoch 16 tr: l 1.349 a 0.540 clct[np.int64(53), np.int64(47)] clct_ans[np.int64(47), np.int64(53)]  lr 0.249600 77.589sec(train) 20.908sec(infer)\n"
     ]
    },
    {
     "name": "stdout",
     "output_type": "stream",
     "text": [
      "Epoch 16 tst: l 1.258 a 0.572 clct[np.int64(20), np.int64(20)] clct_ans[np.int64(20), np.int64(20)]  3.231sec\n"
     ]
    },
    {
     "name": "stdout",
     "output_type": "stream",
     "text": [
      "Epoch 17 tr: l 1.334 a 0.545 clct[np.int64(48), np.int64(52)] clct_ans[np.int64(52), np.int64(48)]  lr 0.249575 78.934sec(train) 20.978sec(infer)\n"
     ]
    },
    {
     "name": "stdout",
     "output_type": "stream",
     "text": [
      "Epoch 17 tst: l 1.245 a 0.577 clct[np.int64(20), np.int64(20)] clct_ans[np.int64(20), np.int64(20)]  3.194sec\n"
     ]
    },
    {
     "name": "stdout",
     "output_type": "stream",
     "text": [
      "Epoch 18 tr: l 1.333 a 0.547 clct[np.int64(45), np.int64(55)] clct_ans[np.int64(55), np.int64(45)]  lr 0.249550 79.928sec(train) 20.962sec(infer)\n"
     ]
    },
    {
     "name": "stdout",
     "output_type": "stream",
     "text": [
      "Epoch 18 tst: l 1.239 a 0.580 clct[np.int64(20), np.int64(20)] clct_ans[np.int64(20), np.int64(20)]  3.193sec\n"
     ]
    },
    {
     "name": "stdout",
     "output_type": "stream",
     "text": [
      "Epoch 19 tr: l 1.333 a 0.546 clct[np.int64(50), np.int64(50)] clct_ans[np.int64(50), np.int64(50)]  lr 0.249525 79.457sec(train) 20.786sec(infer)\n"
     ]
    },
    {
     "name": "stdout",
     "output_type": "stream",
     "text": [
      "Epoch 19 tst: l 1.236 a 0.579 clct[np.int64(20), np.int64(20)] clct_ans[np.int64(20), np.int64(20)]  3.162sec\n"
     ]
    },
    {
     "name": "stdout",
     "output_type": "stream",
     "text": [
      "Epoch 20 tr: l 1.317 a 0.551 clct[np.int64(52), np.int64(48)] clct_ans[np.int64(48), np.int64(52)]  lr 0.249500 76.553sec(train) 21.212sec(infer)\n"
     ]
    },
    {
     "name": "stdout",
     "output_type": "stream",
     "text": [
      "Epoch 20 tst: l 1.227 a 0.585 clct[np.int64(20), np.int64(20)] clct_ans[np.int64(20), np.int64(20)]  3.235sec\n",
      "result written at output_dfca_gi/results.pickle\n",
      "checkpoint written at output_dfca_gi/checkpoint.pt\n"
     ]
    },
    {
     "name": "stdout",
     "output_type": "stream",
     "text": [
      "Epoch 21 tr: l 1.316 a 0.553 clct[np.int64(53), np.int64(47)] clct_ans[np.int64(47), np.int64(53)]  lr 0.249476 80.865sec(train) 20.928sec(infer)\n"
     ]
    },
    {
     "name": "stdout",
     "output_type": "stream",
     "text": [
      "Epoch 21 tst: l 1.221 a 0.587 clct[np.int64(20), np.int64(20)] clct_ans[np.int64(20), np.int64(20)]  3.180sec\n"
     ]
    },
    {
     "name": "stdout",
     "output_type": "stream",
     "text": [
      "Epoch 22 tr: l 1.309 a 0.554 clct[np.int64(49), np.int64(51)] clct_ans[np.int64(51), np.int64(49)]  lr 0.249451 73.970sec(train) 20.905sec(infer)\n"
     ]
    },
    {
     "name": "stdout",
     "output_type": "stream",
     "text": [
      "Epoch 22 tst: l 1.218 a 0.590 clct[np.int64(20), np.int64(20)] clct_ans[np.int64(20), np.int64(20)]  3.192sec\n"
     ]
    },
    {
     "name": "stdout",
     "output_type": "stream",
     "text": [
      "Epoch 23 tr: l 1.302 a 0.556 clct[np.int64(47), np.int64(53)] clct_ans[np.int64(53), np.int64(47)]  lr 0.249426 78.687sec(train) 20.845sec(infer)\n"
     ]
    },
    {
     "name": "stdout",
     "output_type": "stream",
     "text": [
      "Epoch 23 tst: l 1.208 a 0.591 clct[np.int64(20), np.int64(20)] clct_ans[np.int64(20), np.int64(20)]  3.175sec\n"
     ]
    },
    {
     "name": "stdout",
     "output_type": "stream",
     "text": [
      "Epoch 24 tr: l 1.296 a 0.560 clct[np.int64(46), np.int64(54)] clct_ans[np.int64(54), np.int64(46)]  lr 0.249401 79.100sec(train) 21.104sec(infer)\n"
     ]
    },
    {
     "name": "stdout",
     "output_type": "stream",
     "text": [
      "Epoch 24 tst: l 1.200 a 0.591 clct[np.int64(20), np.int64(20)] clct_ans[np.int64(20), np.int64(20)]  3.166sec\n"
     ]
    },
    {
     "name": "stdout",
     "output_type": "stream",
     "text": [
      "Epoch 25 tr: l 1.301 a 0.558 clct[np.int64(46), np.int64(54)] clct_ans[np.int64(54), np.int64(46)]  lr 0.249376 76.079sec(train) 20.990sec(infer)\n"
     ]
    },
    {
     "name": "stdout",
     "output_type": "stream",
     "text": [
      "Epoch 25 tst: l 1.199 a 0.593 clct[np.int64(20), np.int64(20)] clct_ans[np.int64(20), np.int64(20)]  3.257sec\n"
     ]
    },
    {
     "name": "stdout",
     "output_type": "stream",
     "text": [
      "Epoch 26 tr: l 1.285 a 0.562 clct[np.int64(43), np.int64(57)] clct_ans[np.int64(57), np.int64(43)]  lr 0.249351 73.969sec(train) 20.802sec(infer)\n"
     ]
    },
    {
     "name": "stdout",
     "output_type": "stream",
     "text": [
      "Epoch 26 tst: l 1.196 a 0.593 clct[np.int64(20), np.int64(20)] clct_ans[np.int64(20), np.int64(20)]  3.177sec\n"
     ]
    },
    {
     "name": "stdout",
     "output_type": "stream",
     "text": [
      "Epoch 27 tr: l 1.289 a 0.559 clct[np.int64(51), np.int64(49)] clct_ans[np.int64(49), np.int64(51)]  lr 0.249326 77.007sec(train) 20.824sec(infer)\n"
     ]
    },
    {
     "name": "stdout",
     "output_type": "stream",
     "text": [
      "Epoch 27 tst: l 1.191 a 0.596 clct[np.int64(20), np.int64(20)] clct_ans[np.int64(20), np.int64(20)]  3.186sec\n"
     ]
    },
    {
     "name": "stdout",
     "output_type": "stream",
     "text": [
      "Epoch 28 tr: l 1.277 a 0.563 clct[np.int64(52), np.int64(48)] clct_ans[np.int64(48), np.int64(52)]  lr 0.249301 80.600sec(train) 20.795sec(infer)\n"
     ]
    },
    {
     "name": "stdout",
     "output_type": "stream",
     "text": [
      "Epoch 28 tst: l 1.179 a 0.598 clct[np.int64(20), np.int64(20)] clct_ans[np.int64(20), np.int64(20)]  3.376sec\n"
     ]
    },
    {
     "name": "stdout",
     "output_type": "stream",
     "text": [
      "Epoch 29 tr: l 1.276 a 0.564 clct[np.int64(52), np.int64(48)] clct_ans[np.int64(48), np.int64(52)]  lr 0.249276 78.733sec(train) 20.991sec(infer)\n"
     ]
    },
    {
     "name": "stdout",
     "output_type": "stream",
     "text": [
      "Epoch 29 tst: l 1.181 a 0.598 clct[np.int64(20), np.int64(20)] clct_ans[np.int64(20), np.int64(20)]  3.191sec\n"
     ]
    },
    {
     "name": "stdout",
     "output_type": "stream",
     "text": [
      "Epoch 30 tr: l 1.264 a 0.567 clct[np.int64(56), np.int64(44)] clct_ans[np.int64(44), np.int64(56)]  lr 0.249251 79.511sec(train) 20.837sec(infer)\n"
     ]
    },
    {
     "name": "stdout",
     "output_type": "stream",
     "text": [
      "Epoch 30 tst: l 1.169 a 0.602 clct[np.int64(20), np.int64(20)] clct_ans[np.int64(20), np.int64(20)]  3.204sec\n",
      "result written at output_dfca_gi/results.pickle\n",
      "checkpoint written at output_dfca_gi/checkpoint.pt\n"
     ]
    },
    {
     "name": "stdout",
     "output_type": "stream",
     "text": [
      "Epoch 31 tr: l 1.265 a 0.567 clct[np.int64(51), np.int64(49)] clct_ans[np.int64(49), np.int64(51)]  lr 0.249226 76.800sec(train) 20.833sec(infer)\n"
     ]
    },
    {
     "name": "stdout",
     "output_type": "stream",
     "text": [
      "Epoch 31 tst: l 1.169 a 0.604 clct[np.int64(20), np.int64(20)] clct_ans[np.int64(20), np.int64(20)]  3.183sec\n"
     ]
    },
    {
     "name": "stdout",
     "output_type": "stream",
     "text": [
      "Epoch 32 tr: l 1.265 a 0.568 clct[np.int64(51), np.int64(49)] clct_ans[np.int64(49), np.int64(51)]  lr 0.249201 78.986sec(train) 20.845sec(infer)\n"
     ]
    },
    {
     "name": "stdout",
     "output_type": "stream",
     "text": [
      "Epoch 32 tst: l 1.171 a 0.602 clct[np.int64(20), np.int64(20)] clct_ans[np.int64(20), np.int64(20)]  3.167sec\n"
     ]
    },
    {
     "name": "stdout",
     "output_type": "stream",
     "text": [
      "Epoch 33 tr: l 1.256 a 0.570 clct[np.int64(45), np.int64(55)] clct_ans[np.int64(55), np.int64(45)]  lr 0.249176 78.054sec(train) 20.864sec(infer)\n"
     ]
    },
    {
     "name": "stdout",
     "output_type": "stream",
     "text": [
      "Epoch 33 tst: l 1.164 a 0.605 clct[np.int64(20), np.int64(20)] clct_ans[np.int64(20), np.int64(20)]  3.184sec\n"
     ]
    },
    {
     "name": "stdout",
     "output_type": "stream",
     "text": [
      "Epoch 34 tr: l 1.251 a 0.573 clct[np.int64(48), np.int64(52)] clct_ans[np.int64(52), np.int64(48)]  lr 0.249151 77.810sec(train) 20.942sec(infer)\n"
     ]
    },
    {
     "name": "stdout",
     "output_type": "stream",
     "text": [
      "Epoch 34 tst: l 1.163 a 0.605 clct[np.int64(20), np.int64(20)] clct_ans[np.int64(20), np.int64(20)]  3.262sec\n"
     ]
    },
    {
     "name": "stdout",
     "output_type": "stream",
     "text": [
      "Epoch 35 tr: l 1.249 a 0.573 clct[np.int64(45), np.int64(55)] clct_ans[np.int64(55), np.int64(45)]  lr 0.249126 79.656sec(train) 20.868sec(infer)\n"
     ]
    },
    {
     "name": "stdout",
     "output_type": "stream",
     "text": [
      "Epoch 35 tst: l 1.158 a 0.605 clct[np.int64(20), np.int64(20)] clct_ans[np.int64(20), np.int64(20)]  3.181sec\n"
     ]
    },
    {
     "name": "stdout",
     "output_type": "stream",
     "text": [
      "Epoch 36 tr: l 1.246 a 0.575 clct[np.int64(44), np.int64(56)] clct_ans[np.int64(56), np.int64(44)]  lr 0.249102 77.357sec(train) 20.907sec(infer)\n"
     ]
    },
    {
     "name": "stdout",
     "output_type": "stream",
     "text": [
      "Epoch 36 tst: l 1.154 a 0.608 clct[np.int64(20), np.int64(20)] clct_ans[np.int64(20), np.int64(20)]  3.186sec\n"
     ]
    },
    {
     "name": "stdout",
     "output_type": "stream",
     "text": [
      "Epoch 37 tr: l 1.242 a 0.574 clct[np.int64(54), np.int64(46)] clct_ans[np.int64(46), np.int64(54)]  lr 0.249077 78.469sec(train) 20.994sec(infer)\n"
     ]
    },
    {
     "name": "stdout",
     "output_type": "stream",
     "text": [
      "Epoch 37 tst: l 1.155 a 0.607 clct[np.int64(20), np.int64(20)] clct_ans[np.int64(20), np.int64(20)]  3.175sec\n"
     ]
    },
    {
     "name": "stdout",
     "output_type": "stream",
     "text": [
      "Epoch 38 tr: l 1.237 a 0.577 clct[np.int64(52), np.int64(48)] clct_ans[np.int64(48), np.int64(52)]  lr 0.249052 77.784sec(train) 21.128sec(infer)\n"
     ]
    },
    {
     "name": "stdout",
     "output_type": "stream",
     "text": [
      "Epoch 38 tst: l 1.150 a 0.609 clct[np.int64(20), np.int64(20)] clct_ans[np.int64(20), np.int64(20)]  3.211sec\n"
     ]
    },
    {
     "name": "stdout",
     "output_type": "stream",
     "text": [
      "Epoch 39 tr: l 1.241 a 0.576 clct[np.int64(53), np.int64(47)] clct_ans[np.int64(47), np.int64(53)]  lr 0.249027 77.574sec(train) 20.895sec(infer)\n"
     ]
    },
    {
     "name": "stdout",
     "output_type": "stream",
     "text": [
      "Epoch 39 tst: l 1.146 a 0.611 clct[np.int64(20), np.int64(20)] clct_ans[np.int64(20), np.int64(20)]  3.199sec\n"
     ]
    },
    {
     "name": "stdout",
     "output_type": "stream",
     "text": [
      "Epoch 40 tr: l 1.232 a 0.579 clct[np.int64(49), np.int64(51)] clct_ans[np.int64(51), np.int64(49)]  lr 0.249002 77.459sec(train) 20.870sec(infer)\n"
     ]
    },
    {
     "name": "stdout",
     "output_type": "stream",
     "text": [
      "Epoch 40 tst: l 1.144 a 0.613 clct[np.int64(20), np.int64(20)] clct_ans[np.int64(20), np.int64(20)]  3.180sec\n",
      "result written at output_dfca_gi/results.pickle\n",
      "checkpoint written at output_dfca_gi/checkpoint.pt\n"
     ]
    },
    {
     "name": "stdout",
     "output_type": "stream",
     "text": [
      "Epoch 41 tr: l 1.231 a 0.581 clct[np.int64(50), np.int64(50)] clct_ans[np.int64(50), np.int64(50)]  lr 0.248977 77.623sec(train) 21.044sec(infer)\n"
     ]
    },
    {
     "name": "stdout",
     "output_type": "stream",
     "text": [
      "Epoch 41 tst: l 1.139 a 0.614 clct[np.int64(20), np.int64(20)] clct_ans[np.int64(20), np.int64(20)]  3.183sec\n"
     ]
    },
    {
     "name": "stdout",
     "output_type": "stream",
     "text": [
      "Epoch 42 tr: l 1.227 a 0.578 clct[np.int64(49), np.int64(51)] clct_ans[np.int64(51), np.int64(49)]  lr 0.248952 78.063sec(train) 20.929sec(infer)\n"
     ]
    },
    {
     "name": "stdout",
     "output_type": "stream",
     "text": [
      "Epoch 42 tst: l 1.138 a 0.616 clct[np.int64(20), np.int64(20)] clct_ans[np.int64(20), np.int64(20)]  3.428sec\n"
     ]
    },
    {
     "name": "stdout",
     "output_type": "stream",
     "text": [
      "Epoch 43 tr: l 1.230 a 0.581 clct[np.int64(48), np.int64(52)] clct_ans[np.int64(52), np.int64(48)]  lr 0.248927 77.858sec(train) 20.999sec(infer)\n"
     ]
    },
    {
     "name": "stdout",
     "output_type": "stream",
     "text": [
      "Epoch 43 tst: l 1.134 a 0.615 clct[np.int64(20), np.int64(20)] clct_ans[np.int64(20), np.int64(20)]  3.251sec\n"
     ]
    },
    {
     "name": "stdout",
     "output_type": "stream",
     "text": [
      "Epoch 44 tr: l 1.226 a 0.579 clct[np.int64(53), np.int64(47)] clct_ans[np.int64(47), np.int64(53)]  lr 0.248902 78.004sec(train) 20.902sec(infer)\n"
     ]
    },
    {
     "name": "stdout",
     "output_type": "stream",
     "text": [
      "Epoch 44 tst: l 1.129 a 0.616 clct[np.int64(20), np.int64(20)] clct_ans[np.int64(20), np.int64(20)]  3.208sec\n"
     ]
    },
    {
     "name": "stdout",
     "output_type": "stream",
     "text": [
      "Epoch 45 tr: l 1.228 a 0.581 clct[np.int64(54), np.int64(46)] clct_ans[np.int64(46), np.int64(54)]  lr 0.248877 78.148sec(train) 20.847sec(infer)\n"
     ]
    },
    {
     "name": "stdout",
     "output_type": "stream",
     "text": [
      "Epoch 45 tst: l 1.127 a 0.616 clct[np.int64(20), np.int64(20)] clct_ans[np.int64(20), np.int64(20)]  3.255sec\n"
     ]
    },
    {
     "name": "stdout",
     "output_type": "stream",
     "text": [
      "Epoch 46 tr: l 1.214 a 0.585 clct[np.int64(53), np.int64(47)] clct_ans[np.int64(47), np.int64(53)]  lr 0.248853 77.449sec(train) 20.909sec(infer)\n"
     ]
    },
    {
     "name": "stdout",
     "output_type": "stream",
     "text": [
      "Epoch 46 tst: l 1.126 a 0.615 clct[np.int64(20), np.int64(20)] clct_ans[np.int64(20), np.int64(20)]  3.186sec\n"
     ]
    },
    {
     "name": "stdout",
     "output_type": "stream",
     "text": [
      "Epoch 47 tr: l 1.215 a 0.582 clct[np.int64(52), np.int64(48)] clct_ans[np.int64(48), np.int64(52)]  lr 0.248828 78.188sec(train) 21.165sec(infer)\n"
     ]
    },
    {
     "name": "stdout",
     "output_type": "stream",
     "text": [
      "Epoch 47 tst: l 1.128 a 0.617 clct[np.int64(20), np.int64(20)] clct_ans[np.int64(20), np.int64(20)]  3.158sec\n"
     ]
    },
    {
     "name": "stdout",
     "output_type": "stream",
     "text": [
      "Epoch 48 tr: l 1.212 a 0.586 clct[np.int64(55), np.int64(45)] clct_ans[np.int64(45), np.int64(55)]  lr 0.248803 77.962sec(train) 20.864sec(infer)\n"
     ]
    },
    {
     "name": "stdout",
     "output_type": "stream",
     "text": [
      "Epoch 48 tst: l 1.123 a 0.618 clct[np.int64(20), np.int64(20)] clct_ans[np.int64(20), np.int64(20)]  3.230sec\n"
     ]
    },
    {
     "name": "stdout",
     "output_type": "stream",
     "text": [
      "Epoch 49 tr: l 1.218 a 0.585 clct[np.int64(53), np.int64(47)] clct_ans[np.int64(47), np.int64(53)]  lr 0.248778 80.003sec(train) 20.856sec(infer)\n"
     ]
    },
    {
     "name": "stdout",
     "output_type": "stream",
     "text": [
      "Epoch 49 tst: l 1.123 a 0.619 clct[np.int64(20), np.int64(20)] clct_ans[np.int64(20), np.int64(20)]  3.176sec\n"
     ]
    },
    {
     "name": "stdout",
     "output_type": "stream",
     "text": [
      "Epoch 50 tr: l 1.208 a 0.586 clct[np.int64(51), np.int64(49)] clct_ans[np.int64(49), np.int64(51)]  lr 0.248753 79.799sec(train) 20.897sec(infer)\n"
     ]
    },
    {
     "name": "stdout",
     "output_type": "stream",
     "text": [
      "Epoch 50 tst: l 1.117 a 0.621 clct[np.int64(20), np.int64(20)] clct_ans[np.int64(20), np.int64(20)]  3.182sec\n",
      "result written at output_dfca_gi/results.pickle\n",
      "checkpoint written at output_dfca_gi/checkpoint.pt\n"
     ]
    },
    {
     "name": "stdout",
     "output_type": "stream",
     "text": [
      "Epoch 51 tr: l 1.209 a 0.586 clct[np.int64(51), np.int64(49)] clct_ans[np.int64(49), np.int64(51)]  lr 0.248728 79.738sec(train) 20.813sec(infer)\n"
     ]
    },
    {
     "name": "stdout",
     "output_type": "stream",
     "text": [
      "Epoch 51 tst: l 1.116 a 0.621 clct[np.int64(20), np.int64(20)] clct_ans[np.int64(20), np.int64(20)]  3.172sec\n"
     ]
    },
    {
     "name": "stdout",
     "output_type": "stream",
     "text": [
      "Epoch 52 tr: l 1.216 a 0.585 clct[np.int64(50), np.int64(50)] clct_ans[np.int64(50), np.int64(50)]  lr 0.248703 77.511sec(train) 21.073sec(infer)\n"
     ]
    },
    {
     "name": "stdout",
     "output_type": "stream",
     "text": [
      "Epoch 52 tst: l 1.119 a 0.620 clct[np.int64(20), np.int64(20)] clct_ans[np.int64(20), np.int64(20)]  3.218sec\n"
     ]
    },
    {
     "name": "stdout",
     "output_type": "stream",
     "text": [
      "Epoch 53 tr: l 1.207 a 0.587 clct[np.int64(49), np.int64(51)] clct_ans[np.int64(51), np.int64(49)]  lr 0.248678 80.337sec(train) 20.880sec(infer)\n"
     ]
    },
    {
     "name": "stdout",
     "output_type": "stream",
     "text": [
      "Epoch 53 tst: l 1.114 a 0.620 clct[np.int64(20), np.int64(20)] clct_ans[np.int64(20), np.int64(20)]  3.204sec\n"
     ]
    },
    {
     "name": "stdout",
     "output_type": "stream",
     "text": [
      "Epoch 54 tr: l 1.203 a 0.586 clct[np.int64(43), np.int64(57)] clct_ans[np.int64(57), np.int64(43)]  lr 0.248654 79.128sec(train) 20.884sec(infer)\n"
     ]
    },
    {
     "name": "stdout",
     "output_type": "stream",
     "text": [
      "Epoch 54 tst: l 1.112 a 0.624 clct[np.int64(20), np.int64(20)] clct_ans[np.int64(20), np.int64(20)]  3.189sec\n"
     ]
    },
    {
     "name": "stdout",
     "output_type": "stream",
     "text": [
      "Epoch 55 tr: l 1.203 a 0.588 clct[np.int64(43), np.int64(57)] clct_ans[np.int64(57), np.int64(43)]  lr 0.248629 78.576sec(train) 20.817sec(infer)\n"
     ]
    },
    {
     "name": "stdout",
     "output_type": "stream",
     "text": [
      "Epoch 55 tst: l 1.109 a 0.624 clct[np.int64(20), np.int64(20)] clct_ans[np.int64(20), np.int64(20)]  3.188sec\n"
     ]
    },
    {
     "name": "stdout",
     "output_type": "stream",
     "text": [
      "Epoch 56 tr: l 1.212 a 0.587 clct[np.int64(54), np.int64(46)] clct_ans[np.int64(46), np.int64(54)]  lr 0.248604 75.377sec(train) 20.820sec(infer)\n"
     ]
    },
    {
     "name": "stdout",
     "output_type": "stream",
     "text": [
      "Epoch 56 tst: l 1.106 a 0.625 clct[np.int64(20), np.int64(20)] clct_ans[np.int64(20), np.int64(20)]  3.163sec\n"
     ]
    },
    {
     "name": "stdout",
     "output_type": "stream",
     "text": [
      "Epoch 57 tr: l 1.201 a 0.588 clct[np.int64(50), np.int64(50)] clct_ans[np.int64(50), np.int64(50)]  lr 0.248579 79.194sec(train) 20.989sec(infer)\n"
     ]
    },
    {
     "name": "stdout",
     "output_type": "stream",
     "text": [
      "Epoch 57 tst: l 1.103 a 0.626 clct[np.int64(20), np.int64(20)] clct_ans[np.int64(20), np.int64(20)]  3.249sec\n"
     ]
    },
    {
     "name": "stdout",
     "output_type": "stream",
     "text": [
      "Epoch 58 tr: l 1.197 a 0.592 clct[np.int64(45), np.int64(55)] clct_ans[np.int64(55), np.int64(45)]  lr 0.248554 78.212sec(train) 20.838sec(infer)\n"
     ]
    },
    {
     "name": "stdout",
     "output_type": "stream",
     "text": [
      "Epoch 58 tst: l 1.103 a 0.627 clct[np.int64(20), np.int64(20)] clct_ans[np.int64(20), np.int64(20)]  3.176sec\n"
     ]
    },
    {
     "name": "stdout",
     "output_type": "stream",
     "text": [
      "Epoch 59 tr: l 1.194 a 0.590 clct[np.int64(48), np.int64(52)] clct_ans[np.int64(52), np.int64(48)]  lr 0.248529 78.020sec(train) 20.839sec(infer)\n"
     ]
    },
    {
     "name": "stdout",
     "output_type": "stream",
     "text": [
      "Epoch 59 tst: l 1.098 a 0.628 clct[np.int64(20), np.int64(20)] clct_ans[np.int64(20), np.int64(20)]  3.185sec\n"
     ]
    },
    {
     "name": "stdout",
     "output_type": "stream",
     "text": [
      "Epoch 60 tr: l 1.205 a 0.588 clct[np.int64(46), np.int64(54)] clct_ans[np.int64(54), np.int64(46)]  lr 0.248504 78.076sec(train) 20.801sec(infer)\n"
     ]
    },
    {
     "name": "stdout",
     "output_type": "stream",
     "text": [
      "Epoch 60 tst: l 1.099 a 0.627 clct[np.int64(20), np.int64(20)] clct_ans[np.int64(20), np.int64(20)]  3.186sec\n",
      "result written at output_dfca_gi/results.pickle\n",
      "checkpoint written at output_dfca_gi/checkpoint.pt\n"
     ]
    },
    {
     "name": "stdout",
     "output_type": "stream",
     "text": [
      "Epoch 61 tr: l 1.192 a 0.594 clct[np.int64(49), np.int64(51)] clct_ans[np.int64(51), np.int64(49)]  lr 0.248480 77.689sec(train) 21.038sec(infer)\n"
     ]
    },
    {
     "name": "stdout",
     "output_type": "stream",
     "text": [
      "Epoch 61 tst: l 1.103 a 0.626 clct[np.int64(20), np.int64(20)] clct_ans[np.int64(20), np.int64(20)]  3.359sec\n"
     ]
    },
    {
     "name": "stdout",
     "output_type": "stream",
     "text": [
      "Epoch 62 tr: l 1.197 a 0.591 clct[np.int64(45), np.int64(55)] clct_ans[np.int64(55), np.int64(45)]  lr 0.248455 79.530sec(train) 20.866sec(infer)\n"
     ]
    },
    {
     "name": "stdout",
     "output_type": "stream",
     "text": [
      "Epoch 62 tst: l 1.103 a 0.627 clct[np.int64(20), np.int64(20)] clct_ans[np.int64(20), np.int64(20)]  3.270sec\n"
     ]
    },
    {
     "name": "stdout",
     "output_type": "stream",
     "text": [
      "Epoch 63 tr: l 1.198 a 0.589 clct[np.int64(48), np.int64(52)] clct_ans[np.int64(52), np.int64(48)]  lr 0.248430 79.067sec(train) 20.876sec(infer)\n"
     ]
    },
    {
     "name": "stdout",
     "output_type": "stream",
     "text": [
      "Epoch 63 tst: l 1.098 a 0.627 clct[np.int64(20), np.int64(20)] clct_ans[np.int64(20), np.int64(20)]  3.189sec\n"
     ]
    },
    {
     "name": "stdout",
     "output_type": "stream",
     "text": [
      "Epoch 64 tr: l 1.203 a 0.590 clct[np.int64(48), np.int64(52)] clct_ans[np.int64(52), np.int64(48)]  lr 0.248405 78.588sec(train) 20.912sec(infer)\n"
     ]
    },
    {
     "name": "stdout",
     "output_type": "stream",
     "text": [
      "Epoch 64 tst: l 1.097 a 0.627 clct[np.int64(20), np.int64(20)] clct_ans[np.int64(20), np.int64(20)]  3.200sec\n"
     ]
    },
    {
     "name": "stdout",
     "output_type": "stream",
     "text": [
      "Epoch 65 tr: l 1.190 a 0.591 clct[np.int64(46), np.int64(54)] clct_ans[np.int64(54), np.int64(46)]  lr 0.248380 77.689sec(train) 20.799sec(infer)\n"
     ]
    },
    {
     "name": "stdout",
     "output_type": "stream",
     "text": [
      "Epoch 65 tst: l 1.093 a 0.628 clct[np.int64(20), np.int64(20)] clct_ans[np.int64(20), np.int64(20)]  3.175sec\n"
     ]
    },
    {
     "name": "stdout",
     "output_type": "stream",
     "text": [
      "Epoch 66 tr: l 1.189 a 0.595 clct[np.int64(50), np.int64(50)] clct_ans[np.int64(50), np.int64(50)]  lr 0.248355 77.931sec(train) 20.997sec(infer)\n"
     ]
    },
    {
     "name": "stdout",
     "output_type": "stream",
     "text": [
      "Epoch 66 tst: l 1.094 a 0.628 clct[np.int64(20), np.int64(20)] clct_ans[np.int64(20), np.int64(20)]  3.247sec\n"
     ]
    },
    {
     "name": "stdout",
     "output_type": "stream",
     "text": [
      "Epoch 67 tr: l 1.191 a 0.593 clct[np.int64(52), np.int64(48)] clct_ans[np.int64(48), np.int64(52)]  lr 0.248331 78.824sec(train) 20.858sec(infer)\n"
     ]
    },
    {
     "name": "stdout",
     "output_type": "stream",
     "text": [
      "Epoch 67 tst: l 1.094 a 0.629 clct[np.int64(20), np.int64(20)] clct_ans[np.int64(20), np.int64(20)]  3.162sec\n"
     ]
    },
    {
     "name": "stdout",
     "output_type": "stream",
     "text": [
      "Epoch 68 tr: l 1.191 a 0.593 clct[np.int64(47), np.int64(53)] clct_ans[np.int64(53), np.int64(47)]  lr 0.248306 77.046sec(train) 20.876sec(infer)\n"
     ]
    },
    {
     "name": "stdout",
     "output_type": "stream",
     "text": [
      "Epoch 68 tst: l 1.090 a 0.629 clct[np.int64(20), np.int64(20)] clct_ans[np.int64(20), np.int64(20)]  3.180sec\n"
     ]
    },
    {
     "name": "stdout",
     "output_type": "stream",
     "text": [
      "Epoch 69 tr: l 1.191 a 0.593 clct[np.int64(52), np.int64(48)] clct_ans[np.int64(48), np.int64(52)]  lr 0.248281 79.439sec(train) 20.829sec(infer)\n"
     ]
    },
    {
     "name": "stdout",
     "output_type": "stream",
     "text": [
      "Epoch 69 tst: l 1.093 a 0.629 clct[np.int64(20), np.int64(20)] clct_ans[np.int64(20), np.int64(20)]  3.161sec\n"
     ]
    },
    {
     "name": "stdout",
     "output_type": "stream",
     "text": [
      "Epoch 70 tr: l 1.191 a 0.594 clct[np.int64(52), np.int64(48)] clct_ans[np.int64(48), np.int64(52)]  lr 0.248256 79.276sec(train) 20.937sec(infer)\n"
     ]
    },
    {
     "name": "stdout",
     "output_type": "stream",
     "text": [
      "Epoch 70 tst: l 1.090 a 0.631 clct[np.int64(20), np.int64(20)] clct_ans[np.int64(20), np.int64(20)]  3.132sec\n",
      "result written at output_dfca_gi/results.pickle\n",
      "checkpoint written at output_dfca_gi/checkpoint.pt\n"
     ]
    },
    {
     "name": "stdout",
     "output_type": "stream",
     "text": [
      "Epoch 71 tr: l 1.186 a 0.596 clct[np.int64(46), np.int64(54)] clct_ans[np.int64(54), np.int64(46)]  lr 0.248231 79.598sec(train) 20.962sec(infer)\n"
     ]
    },
    {
     "name": "stdout",
     "output_type": "stream",
     "text": [
      "Epoch 71 tst: l 1.089 a 0.630 clct[np.int64(20), np.int64(20)] clct_ans[np.int64(20), np.int64(20)]  3.192sec\n"
     ]
    },
    {
     "name": "stdout",
     "output_type": "stream",
     "text": [
      "Epoch 72 tr: l 1.184 a 0.596 clct[np.int64(50), np.int64(50)] clct_ans[np.int64(50), np.int64(50)]  lr 0.248206 79.232sec(train) 20.857sec(infer)\n"
     ]
    },
    {
     "name": "stdout",
     "output_type": "stream",
     "text": [
      "Epoch 72 tst: l 1.089 a 0.629 clct[np.int64(20), np.int64(20)] clct_ans[np.int64(20), np.int64(20)]  3.139sec\n"
     ]
    },
    {
     "name": "stdout",
     "output_type": "stream",
     "text": [
      "Epoch 73 tr: l 1.182 a 0.597 clct[np.int64(55), np.int64(45)] clct_ans[np.int64(45), np.int64(55)]  lr 0.248182 78.000sec(train) 20.758sec(infer)\n"
     ]
    },
    {
     "name": "stdout",
     "output_type": "stream",
     "text": [
      "Epoch 73 tst: l 1.085 a 0.632 clct[np.int64(20), np.int64(20)] clct_ans[np.int64(20), np.int64(20)]  3.196sec\n"
     ]
    },
    {
     "name": "stdout",
     "output_type": "stream",
     "text": [
      "Epoch 74 tr: l 1.179 a 0.600 clct[np.int64(50), np.int64(50)] clct_ans[np.int64(50), np.int64(50)]  lr 0.248157 80.382sec(train) 20.856sec(infer)\n"
     ]
    },
    {
     "name": "stdout",
     "output_type": "stream",
     "text": [
      "Epoch 74 tst: l 1.089 a 0.632 clct[np.int64(20), np.int64(20)] clct_ans[np.int64(20), np.int64(20)]  3.176sec\n"
     ]
    },
    {
     "name": "stdout",
     "output_type": "stream",
     "text": [
      "Epoch 75 tr: l 1.174 a 0.598 clct[np.int64(50), np.int64(50)] clct_ans[np.int64(50), np.int64(50)]  lr 0.248132 77.173sec(train) 20.893sec(infer)\n"
     ]
    },
    {
     "name": "stdout",
     "output_type": "stream",
     "text": [
      "Epoch 75 tst: l 1.086 a 0.634 clct[np.int64(20), np.int64(20)] clct_ans[np.int64(20), np.int64(20)]  3.358sec\n"
     ]
    },
    {
     "name": "stdout",
     "output_type": "stream",
     "text": [
      "Epoch 76 tr: l 1.181 a 0.597 clct[np.int64(51), np.int64(49)] clct_ans[np.int64(49), np.int64(51)]  lr 0.248107 77.788sec(train) 20.794sec(infer)\n"
     ]
    },
    {
     "name": "stdout",
     "output_type": "stream",
     "text": [
      "Epoch 76 tst: l 1.089 a 0.633 clct[np.int64(20), np.int64(20)] clct_ans[np.int64(20), np.int64(20)]  3.258sec\n"
     ]
    },
    {
     "name": "stdout",
     "output_type": "stream",
     "text": [
      "Epoch 77 tr: l 1.178 a 0.599 clct[np.int64(45), np.int64(55)] clct_ans[np.int64(55), np.int64(45)]  lr 0.248082 77.824sec(train) 20.815sec(infer)\n"
     ]
    },
    {
     "name": "stdout",
     "output_type": "stream",
     "text": [
      "Epoch 77 tst: l 1.087 a 0.633 clct[np.int64(20), np.int64(20)] clct_ans[np.int64(20), np.int64(20)]  3.178sec\n"
     ]
    },
    {
     "name": "stdout",
     "output_type": "stream",
     "text": [
      "Epoch 78 tr: l 1.181 a 0.598 clct[np.int64(50), np.int64(50)] clct_ans[np.int64(50), np.int64(50)]  lr 0.248057 78.769sec(train) 20.711sec(infer)\n"
     ]
    },
    {
     "name": "stdout",
     "output_type": "stream",
     "text": [
      "Epoch 78 tst: l 1.086 a 0.630 clct[np.int64(20), np.int64(20)] clct_ans[np.int64(20), np.int64(20)]  3.183sec\n"
     ]
    },
    {
     "name": "stdout",
     "output_type": "stream",
     "text": [
      "Epoch 79 tr: l 1.184 a 0.593 clct[np.int64(53), np.int64(47)] clct_ans[np.int64(47), np.int64(53)]  lr 0.248033 78.884sec(train) 20.795sec(infer)\n"
     ]
    },
    {
     "name": "stdout",
     "output_type": "stream",
     "text": [
      "Epoch 79 tst: l 1.086 a 0.629 clct[np.int64(20), np.int64(20)] clct_ans[np.int64(20), np.int64(20)]  3.173sec\n"
     ]
    },
    {
     "name": "stdout",
     "output_type": "stream",
     "text": [
      "Epoch 80 tr: l 1.180 a 0.596 clct[np.int64(45), np.int64(55)] clct_ans[np.int64(55), np.int64(45)]  lr 0.248008 79.020sec(train) 20.868sec(infer)\n"
     ]
    },
    {
     "name": "stdout",
     "output_type": "stream",
     "text": [
      "Epoch 80 tst: l 1.084 a 0.632 clct[np.int64(20), np.int64(20)] clct_ans[np.int64(20), np.int64(20)]  3.156sec\n",
      "result written at output_dfca_gi/results.pickle\n",
      "checkpoint written at output_dfca_gi/checkpoint.pt\n"
     ]
    },
    {
     "name": "stdout",
     "output_type": "stream",
     "text": [
      "Epoch 81 tr: l 1.170 a 0.599 clct[np.int64(51), np.int64(49)] clct_ans[np.int64(49), np.int64(51)]  lr 0.247983 77.551sec(train) 20.911sec(infer)\n"
     ]
    },
    {
     "name": "stdout",
     "output_type": "stream",
     "text": [
      "Epoch 81 tst: l 1.080 a 0.633 clct[np.int64(20), np.int64(20)] clct_ans[np.int64(20), np.int64(20)]  3.193sec\n"
     ]
    },
    {
     "name": "stdout",
     "output_type": "stream",
     "text": [
      "Epoch 82 tr: l 1.175 a 0.600 clct[np.int64(50), np.int64(50)] clct_ans[np.int64(50), np.int64(50)]  lr 0.247958 79.075sec(train) 20.798sec(infer)\n"
     ]
    },
    {
     "name": "stdout",
     "output_type": "stream",
     "text": [
      "Epoch 82 tst: l 1.079 a 0.632 clct[np.int64(20), np.int64(20)] clct_ans[np.int64(20), np.int64(20)]  3.142sec\n"
     ]
    },
    {
     "name": "stdout",
     "output_type": "stream",
     "text": [
      "Epoch 83 tr: l 1.174 a 0.598 clct[np.int64(45), np.int64(55)] clct_ans[np.int64(55), np.int64(45)]  lr 0.247933 78.322sec(train) 20.757sec(infer)\n"
     ]
    },
    {
     "name": "stdout",
     "output_type": "stream",
     "text": [
      "Epoch 83 tst: l 1.078 a 0.634 clct[np.int64(20), np.int64(20)] clct_ans[np.int64(20), np.int64(20)]  3.137sec\n"
     ]
    },
    {
     "name": "stdout",
     "output_type": "stream",
     "text": [
      "Epoch 84 tr: l 1.177 a 0.600 clct[np.int64(48), np.int64(52)] clct_ans[np.int64(52), np.int64(48)]  lr 0.247909 78.166sec(train) 20.663sec(infer)\n"
     ]
    },
    {
     "name": "stdout",
     "output_type": "stream",
     "text": [
      "Epoch 84 tst: l 1.082 a 0.633 clct[np.int64(20), np.int64(20)] clct_ans[np.int64(20), np.int64(20)]  3.155sec\n"
     ]
    },
    {
     "name": "stdout",
     "output_type": "stream",
     "text": [
      "Epoch 85 tr: l 1.175 a 0.601 clct[np.int64(47), np.int64(53)] clct_ans[np.int64(53), np.int64(47)]  lr 0.247884 78.500sec(train) 20.818sec(infer)\n"
     ]
    },
    {
     "name": "stdout",
     "output_type": "stream",
     "text": [
      "Epoch 85 tst: l 1.081 a 0.633 clct[np.int64(20), np.int64(20)] clct_ans[np.int64(20), np.int64(20)]  3.135sec\n"
     ]
    },
    {
     "name": "stdout",
     "output_type": "stream",
     "text": [
      "Epoch 86 tr: l 1.177 a 0.600 clct[np.int64(45), np.int64(55)] clct_ans[np.int64(55), np.int64(45)]  lr 0.247859 77.958sec(train) 20.784sec(infer)\n"
     ]
    },
    {
     "name": "stdout",
     "output_type": "stream",
     "text": [
      "Epoch 86 tst: l 1.079 a 0.634 clct[np.int64(20), np.int64(20)] clct_ans[np.int64(20), np.int64(20)]  3.194sec\n"
     ]
    },
    {
     "name": "stdout",
     "output_type": "stream",
     "text": [
      "Epoch 87 tr: l 1.184 a 0.597 clct[np.int64(52), np.int64(48)] clct_ans[np.int64(48), np.int64(52)]  lr 0.247834 77.592sec(train) 20.727sec(infer)\n"
     ]
    },
    {
     "name": "stdout",
     "output_type": "stream",
     "text": [
      "Epoch 87 tst: l 1.083 a 0.633 clct[np.int64(20), np.int64(20)] clct_ans[np.int64(20), np.int64(20)]  3.190sec\n"
     ]
    },
    {
     "name": "stdout",
     "output_type": "stream",
     "text": [
      "Epoch 88 tr: l 1.181 a 0.600 clct[np.int64(52), np.int64(48)] clct_ans[np.int64(48), np.int64(52)]  lr 0.247810 77.212sec(train) 20.752sec(infer)\n"
     ]
    },
    {
     "name": "stdout",
     "output_type": "stream",
     "text": [
      "Epoch 88 tst: l 1.078 a 0.636 clct[np.int64(20), np.int64(20)] clct_ans[np.int64(20), np.int64(20)]  3.178sec\n"
     ]
    },
    {
     "name": "stdout",
     "output_type": "stream",
     "text": [
      "Epoch 89 tr: l 1.173 a 0.600 clct[np.int64(51), np.int64(49)] clct_ans[np.int64(49), np.int64(51)]  lr 0.247785 77.981sec(train) 20.737sec(infer)\n"
     ]
    },
    {
     "name": "stdout",
     "output_type": "stream",
     "text": [
      "Epoch 89 tst: l 1.076 a 0.635 clct[np.int64(20), np.int64(20)] clct_ans[np.int64(20), np.int64(20)]  3.362sec\n"
     ]
    },
    {
     "name": "stdout",
     "output_type": "stream",
     "text": [
      "Epoch 90 tr: l 1.172 a 0.599 clct[np.int64(53), np.int64(47)] clct_ans[np.int64(47), np.int64(53)]  lr 0.247760 78.242sec(train) 20.907sec(infer)\n"
     ]
    },
    {
     "name": "stdout",
     "output_type": "stream",
     "text": [
      "Epoch 90 tst: l 1.077 a 0.636 clct[np.int64(20), np.int64(20)] clct_ans[np.int64(20), np.int64(20)]  3.249sec\n",
      "result written at output_dfca_gi/results.pickle\n",
      "checkpoint written at output_dfca_gi/checkpoint.pt\n"
     ]
    },
    {
     "name": "stdout",
     "output_type": "stream",
     "text": [
      "Epoch 91 tr: l 1.171 a 0.602 clct[np.int64(47), np.int64(53)] clct_ans[np.int64(53), np.int64(47)]  lr 0.247735 77.653sec(train) 20.730sec(infer)\n"
     ]
    },
    {
     "name": "stdout",
     "output_type": "stream",
     "text": [
      "Epoch 91 tst: l 1.077 a 0.636 clct[np.int64(20), np.int64(20)] clct_ans[np.int64(20), np.int64(20)]  3.178sec\n"
     ]
    },
    {
     "name": "stdout",
     "output_type": "stream",
     "text": [
      "Epoch 92 tr: l 1.177 a 0.597 clct[np.int64(49), np.int64(51)] clct_ans[np.int64(51), np.int64(49)]  lr 0.247710 79.850sec(train) 20.767sec(infer)\n"
     ]
    },
    {
     "name": "stdout",
     "output_type": "stream",
     "text": [
      "Epoch 92 tst: l 1.078 a 0.634 clct[np.int64(20), np.int64(20)] clct_ans[np.int64(20), np.int64(20)]  3.178sec\n"
     ]
    },
    {
     "name": "stdout",
     "output_type": "stream",
     "text": [
      "Epoch 93 tr: l 1.162 a 0.602 clct[np.int64(53), np.int64(47)] clct_ans[np.int64(47), np.int64(53)]  lr 0.247686 76.637sec(train) 20.752sec(infer)\n"
     ]
    },
    {
     "name": "stdout",
     "output_type": "stream",
     "text": [
      "Epoch 93 tst: l 1.076 a 0.634 clct[np.int64(20), np.int64(20)] clct_ans[np.int64(20), np.int64(20)]  3.183sec\n"
     ]
    },
    {
     "name": "stdout",
     "output_type": "stream",
     "text": [
      "Epoch 94 tr: l 1.171 a 0.600 clct[np.int64(55), np.int64(45)] clct_ans[np.int64(45), np.int64(55)]  lr 0.247661 80.082sec(train) 21.096sec(infer)\n"
     ]
    },
    {
     "name": "stdout",
     "output_type": "stream",
     "text": [
      "Epoch 94 tst: l 1.079 a 0.633 clct[np.int64(20), np.int64(20)] clct_ans[np.int64(20), np.int64(20)]  3.185sec\n"
     ]
    },
    {
     "name": "stdout",
     "output_type": "stream",
     "text": [
      "Epoch 95 tr: l 1.168 a 0.600 clct[np.int64(48), np.int64(52)] clct_ans[np.int64(52), np.int64(48)]  lr 0.247636 81.585sec(train) 21.025sec(infer)\n"
     ]
    },
    {
     "name": "stdout",
     "output_type": "stream",
     "text": [
      "Epoch 95 tst: l 1.076 a 0.636 clct[np.int64(20), np.int64(20)] clct_ans[np.int64(20), np.int64(20)]  3.269sec\n"
     ]
    },
    {
     "name": "stdout",
     "output_type": "stream",
     "text": [
      "Epoch 96 tr: l 1.174 a 0.599 clct[np.int64(51), np.int64(49)] clct_ans[np.int64(49), np.int64(51)]  lr 0.247611 81.519sec(train) 20.938sec(infer)\n"
     ]
    },
    {
     "name": "stdout",
     "output_type": "stream",
     "text": [
      "Epoch 96 tst: l 1.078 a 0.635 clct[np.int64(20), np.int64(20)] clct_ans[np.int64(20), np.int64(20)]  3.192sec\n"
     ]
    },
    {
     "name": "stdout",
     "output_type": "stream",
     "text": [
      "Epoch 97 tr: l 1.159 a 0.603 clct[np.int64(55), np.int64(45)] clct_ans[np.int64(45), np.int64(55)]  lr 0.247587 81.258sec(train) 20.952sec(infer)\n"
     ]
    },
    {
     "name": "stdout",
     "output_type": "stream",
     "text": [
      "Epoch 97 tst: l 1.070 a 0.636 clct[np.int64(20), np.int64(20)] clct_ans[np.int64(20), np.int64(20)]  3.195sec\n"
     ]
    },
    {
     "name": "stdout",
     "output_type": "stream",
     "text": [
      "Epoch 98 tr: l 1.165 a 0.601 clct[np.int64(51), np.int64(49)] clct_ans[np.int64(49), np.int64(51)]  lr 0.247562 82.177sec(train) 20.887sec(infer)\n"
     ]
    },
    {
     "name": "stdout",
     "output_type": "stream",
     "text": [
      "Epoch 98 tst: l 1.073 a 0.635 clct[np.int64(20), np.int64(20)] clct_ans[np.int64(20), np.int64(20)]  3.194sec\n"
     ]
    },
    {
     "name": "stdout",
     "output_type": "stream",
     "text": [
      "Epoch 99 tr: l 1.164 a 0.602 clct[np.int64(53), np.int64(47)] clct_ans[np.int64(47), np.int64(53)]  lr 0.247537 82.257sec(train) 20.974sec(infer)\n"
     ]
    },
    {
     "name": "stdout",
     "output_type": "stream",
     "text": [
      "Epoch 99 tst: l 1.075 a 0.638 clct[np.int64(20), np.int64(20)] clct_ans[np.int64(20), np.int64(20)]  3.175sec\n"
     ]
    },
    {
     "name": "stdout",
     "output_type": "stream",
     "text": [
      "Epoch 100 tr: l 1.163 a 0.603 clct[np.int64(49), np.int64(51)] clct_ans[np.int64(51), np.int64(49)]  lr 0.247512 80.942sec(train) 21.437sec(infer)\n"
     ]
    },
    {
     "name": "stdout",
     "output_type": "stream",
     "text": [
      "Epoch 100 tst: l 1.072 a 0.640 clct[np.int64(20), np.int64(20)] clct_ans[np.int64(20), np.int64(20)]  3.380sec\n",
      "result written at output_dfca_gi/results.pickle\n",
      "checkpoint written at output_dfca_gi/checkpoint.pt\n"
     ]
    },
    {
     "name": "stdout",
     "output_type": "stream",
     "text": [
      "Epoch 101 tr: l 1.162 a 0.604 clct[np.int64(53), np.int64(47)] clct_ans[np.int64(47), np.int64(53)]  lr 0.247488 77.775sec(train) 21.041sec(infer)\n"
     ]
    },
    {
     "name": "stdout",
     "output_type": "stream",
     "text": [
      "Epoch 101 tst: l 1.070 a 0.637 clct[np.int64(20), np.int64(20)] clct_ans[np.int64(20), np.int64(20)]  3.207sec\n"
     ]
    },
    {
     "name": "stdout",
     "output_type": "stream",
     "text": [
      "Epoch 102 tr: l 1.160 a 0.604 clct[np.int64(46), np.int64(54)] clct_ans[np.int64(54), np.int64(46)]  lr 0.247463 77.686sec(train) 20.964sec(infer)\n"
     ]
    },
    {
     "name": "stdout",
     "output_type": "stream",
     "text": [
      "Epoch 102 tst: l 1.070 a 0.638 clct[np.int64(20), np.int64(20)] clct_ans[np.int64(20), np.int64(20)]  3.200sec\n"
     ]
    },
    {
     "name": "stdout",
     "output_type": "stream",
     "text": [
      "Epoch 103 tr: l 1.166 a 0.601 clct[np.int64(53), np.int64(47)] clct_ans[np.int64(47), np.int64(53)]  lr 0.247438 77.553sec(train) 20.838sec(infer)\n"
     ]
    },
    {
     "name": "stdout",
     "output_type": "stream",
     "text": [
      "Epoch 103 tst: l 1.072 a 0.639 clct[np.int64(20), np.int64(20)] clct_ans[np.int64(20), np.int64(20)]  3.224sec\n"
     ]
    },
    {
     "name": "stdout",
     "output_type": "stream",
     "text": [
      "Epoch 104 tr: l 1.162 a 0.604 clct[np.int64(46), np.int64(54)] clct_ans[np.int64(54), np.int64(46)]  lr 0.247413 80.424sec(train) 20.862sec(infer)\n"
     ]
    },
    {
     "name": "stdout",
     "output_type": "stream",
     "text": [
      "Epoch 104 tst: l 1.070 a 0.639 clct[np.int64(20), np.int64(20)] clct_ans[np.int64(20), np.int64(20)]  3.164sec\n"
     ]
    },
    {
     "name": "stdout",
     "output_type": "stream",
     "text": [
      "Epoch 105 tr: l 1.171 a 0.599 clct[np.int64(53), np.int64(47)] clct_ans[np.int64(47), np.int64(53)]  lr 0.247389 79.362sec(train) 20.847sec(infer)\n"
     ]
    },
    {
     "name": "stdout",
     "output_type": "stream",
     "text": [
      "Epoch 105 tst: l 1.077 a 0.636 clct[np.int64(20), np.int64(20)] clct_ans[np.int64(20), np.int64(20)]  3.199sec\n"
     ]
    },
    {
     "name": "stdout",
     "output_type": "stream",
     "text": [
      "Epoch 106 tr: l 1.153 a 0.605 clct[np.int64(52), np.int64(48)] clct_ans[np.int64(48), np.int64(52)]  lr 0.247364 77.905sec(train) 20.845sec(infer)\n"
     ]
    },
    {
     "name": "stdout",
     "output_type": "stream",
     "text": [
      "Epoch 106 tst: l 1.069 a 0.636 clct[np.int64(20), np.int64(20)] clct_ans[np.int64(20), np.int64(20)]  3.157sec\n"
     ]
    },
    {
     "name": "stdout",
     "output_type": "stream",
     "text": [
      "Epoch 107 tr: l 1.164 a 0.604 clct[np.int64(56), np.int64(44)] clct_ans[np.int64(44), np.int64(56)]  lr 0.247339 78.152sec(train) 20.813sec(infer)\n"
     ]
    },
    {
     "name": "stdout",
     "output_type": "stream",
     "text": [
      "Epoch 107 tst: l 1.071 a 0.636 clct[np.int64(20), np.int64(20)] clct_ans[np.int64(20), np.int64(20)]  3.161sec\n"
     ]
    },
    {
     "name": "stdout",
     "output_type": "stream",
     "text": [
      "Epoch 108 tr: l 1.169 a 0.602 clct[np.int64(49), np.int64(51)] clct_ans[np.int64(51), np.int64(49)]  lr 0.247314 77.733sec(train) 21.166sec(infer)\n"
     ]
    },
    {
     "name": "stdout",
     "output_type": "stream",
     "text": [
      "Epoch 108 tst: l 1.073 a 0.637 clct[np.int64(20), np.int64(20)] clct_ans[np.int64(20), np.int64(20)]  3.136sec\n"
     ]
    },
    {
     "name": "stdout",
     "output_type": "stream",
     "text": [
      "Epoch 109 tr: l 1.163 a 0.604 clct[np.int64(56), np.int64(44)] clct_ans[np.int64(44), np.int64(56)]  lr 0.247290 78.536sec(train) 20.964sec(infer)\n"
     ]
    },
    {
     "name": "stdout",
     "output_type": "stream",
     "text": [
      "Epoch 109 tst: l 1.073 a 0.638 clct[np.int64(20), np.int64(20)] clct_ans[np.int64(20), np.int64(20)]  3.181sec\n"
     ]
    },
    {
     "name": "stdout",
     "output_type": "stream",
     "text": [
      "Epoch 110 tr: l 1.161 a 0.604 clct[np.int64(51), np.int64(49)] clct_ans[np.int64(49), np.int64(51)]  lr 0.247265 78.223sec(train) 20.903sec(infer)\n"
     ]
    },
    {
     "name": "stdout",
     "output_type": "stream",
     "text": [
      "Epoch 110 tst: l 1.068 a 0.638 clct[np.int64(20), np.int64(20)] clct_ans[np.int64(20), np.int64(20)]  3.179sec\n",
      "result written at output_dfca_gi/results.pickle\n",
      "checkpoint written at output_dfca_gi/checkpoint.pt\n"
     ]
    },
    {
     "name": "stdout",
     "output_type": "stream",
     "text": [
      "Epoch 111 tr: l 1.161 a 0.606 clct[np.int64(50), np.int64(50)] clct_ans[np.int64(50), np.int64(50)]  lr 0.247240 77.648sec(train) 20.882sec(infer)\n"
     ]
    },
    {
     "name": "stdout",
     "output_type": "stream",
     "text": [
      "Epoch 111 tst: l 1.068 a 0.638 clct[np.int64(20), np.int64(20)] clct_ans[np.int64(20), np.int64(20)]  3.165sec\n"
     ]
    },
    {
     "name": "stdout",
     "output_type": "stream",
     "text": [
      "Epoch 112 tr: l 1.167 a 0.602 clct[np.int64(51), np.int64(49)] clct_ans[np.int64(49), np.int64(51)]  lr 0.247215 78.794sec(train) 20.867sec(infer)\n"
     ]
    },
    {
     "name": "stdout",
     "output_type": "stream",
     "text": [
      "Epoch 112 tst: l 1.067 a 0.639 clct[np.int64(20), np.int64(20)] clct_ans[np.int64(20), np.int64(20)]  3.199sec\n"
     ]
    },
    {
     "name": "stdout",
     "output_type": "stream",
     "text": [
      "Epoch 113 tr: l 1.166 a 0.603 clct[np.int64(55), np.int64(45)] clct_ans[np.int64(45), np.int64(55)]  lr 0.247191 78.549sec(train) 20.949sec(infer)\n"
     ]
    },
    {
     "name": "stdout",
     "output_type": "stream",
     "text": [
      "Epoch 113 tst: l 1.065 a 0.640 clct[np.int64(20), np.int64(20)] clct_ans[np.int64(20), np.int64(20)]  3.174sec\n"
     ]
    },
    {
     "name": "stdout",
     "output_type": "stream",
     "text": [
      "Epoch 114 tr: l 1.168 a 0.602 clct[np.int64(53), np.int64(47)] clct_ans[np.int64(47), np.int64(53)]  lr 0.247166 80.024sec(train) 20.974sec(infer)\n"
     ]
    },
    {
     "name": "stdout",
     "output_type": "stream",
     "text": [
      "Epoch 114 tst: l 1.067 a 0.640 clct[np.int64(20), np.int64(20)] clct_ans[np.int64(20), np.int64(20)]  3.260sec\n"
     ]
    },
    {
     "name": "stdout",
     "output_type": "stream",
     "text": [
      "Epoch 115 tr: l 1.160 a 0.605 clct[np.int64(53), np.int64(47)] clct_ans[np.int64(47), np.int64(53)]  lr 0.247141 78.083sec(train) 20.925sec(infer)\n"
     ]
    },
    {
     "name": "stdout",
     "output_type": "stream",
     "text": [
      "Epoch 115 tst: l 1.064 a 0.641 clct[np.int64(20), np.int64(20)] clct_ans[np.int64(20), np.int64(20)]  3.207sec\n"
     ]
    },
    {
     "name": "stdout",
     "output_type": "stream",
     "text": [
      "Epoch 116 tr: l 1.158 a 0.604 clct[np.int64(53), np.int64(47)] clct_ans[np.int64(47), np.int64(53)]  lr 0.247117 77.832sec(train) 20.928sec(infer)\n"
     ]
    },
    {
     "name": "stdout",
     "output_type": "stream",
     "text": [
      "Epoch 116 tst: l 1.068 a 0.639 clct[np.int64(20), np.int64(20)] clct_ans[np.int64(20), np.int64(20)]  3.206sec\n"
     ]
    },
    {
     "name": "stdout",
     "output_type": "stream",
     "text": [
      "Epoch 117 tr: l 1.157 a 0.607 clct[np.int64(46), np.int64(54)] clct_ans[np.int64(54), np.int64(46)]  lr 0.247092 77.977sec(train) 20.894sec(infer)\n"
     ]
    },
    {
     "name": "stdout",
     "output_type": "stream",
     "text": [
      "Epoch 117 tst: l 1.064 a 0.642 clct[np.int64(20), np.int64(20)] clct_ans[np.int64(20), np.int64(20)]  3.179sec\n"
     ]
    },
    {
     "name": "stdout",
     "output_type": "stream",
     "text": [
      "Epoch 118 tr: l 1.160 a 0.605 clct[np.int64(48), np.int64(52)] clct_ans[np.int64(52), np.int64(48)]  lr 0.247067 79.196sec(train) 21.028sec(infer)\n"
     ]
    },
    {
     "name": "stdout",
     "output_type": "stream",
     "text": [
      "Epoch 118 tst: l 1.064 a 0.642 clct[np.int64(20), np.int64(20)] clct_ans[np.int64(20), np.int64(20)]  3.203sec\n"
     ]
    },
    {
     "name": "stdout",
     "output_type": "stream",
     "text": [
      "Epoch 119 tr: l 1.160 a 0.606 clct[np.int64(53), np.int64(47)] clct_ans[np.int64(47), np.int64(53)]  lr 0.247042 70.783sec(train) 20.888sec(infer)\n"
     ]
    },
    {
     "name": "stdout",
     "output_type": "stream",
     "text": [
      "Epoch 119 tst: l 1.065 a 0.639 clct[np.int64(20), np.int64(20)] clct_ans[np.int64(20), np.int64(20)]  3.197sec\n"
     ]
    },
    {
     "name": "stdout",
     "output_type": "stream",
     "text": [
      "Epoch 120 tr: l 1.167 a 0.604 clct[np.int64(45), np.int64(55)] clct_ans[np.int64(55), np.int64(45)]  lr 0.247018 75.054sec(train) 20.854sec(infer)\n"
     ]
    },
    {
     "name": "stdout",
     "output_type": "stream",
     "text": [
      "Epoch 120 tst: l 1.064 a 0.639 clct[np.int64(20), np.int64(20)] clct_ans[np.int64(20), np.int64(20)]  3.193sec\n",
      "result written at output_dfca_gi/results.pickle\n",
      "checkpoint written at output_dfca_gi/checkpoint.pt\n"
     ]
    },
    {
     "name": "stdout",
     "output_type": "stream",
     "text": [
      "Epoch 121 tr: l 1.156 a 0.605 clct[np.int64(47), np.int64(53)] clct_ans[np.int64(53), np.int64(47)]  lr 0.246993 77.181sec(train) 20.804sec(infer)\n"
     ]
    },
    {
     "name": "stdout",
     "output_type": "stream",
     "text": [
      "Epoch 121 tst: l 1.060 a 0.641 clct[np.int64(20), np.int64(20)] clct_ans[np.int64(20), np.int64(20)]  3.184sec\n"
     ]
    },
    {
     "name": "stdout",
     "output_type": "stream",
     "text": [
      "Epoch 122 tr: l 1.166 a 0.601 clct[np.int64(51), np.int64(49)] clct_ans[np.int64(49), np.int64(51)]  lr 0.246968 78.339sec(train) 20.997sec(infer)\n"
     ]
    },
    {
     "name": "stdout",
     "output_type": "stream",
     "text": [
      "Epoch 122 tst: l 1.065 a 0.639 clct[np.int64(20), np.int64(20)] clct_ans[np.int64(20), np.int64(20)]  3.210sec\n"
     ]
    },
    {
     "name": "stdout",
     "output_type": "stream",
     "text": [
      "Epoch 123 tr: l 1.158 a 0.605 clct[np.int64(53), np.int64(47)] clct_ans[np.int64(47), np.int64(53)]  lr 0.246944 77.350sec(train) 20.889sec(infer)\n"
     ]
    },
    {
     "name": "stdout",
     "output_type": "stream",
     "text": [
      "Epoch 123 tst: l 1.062 a 0.639 clct[np.int64(20), np.int64(20)] clct_ans[np.int64(20), np.int64(20)]  3.215sec\n"
     ]
    },
    {
     "name": "stdout",
     "output_type": "stream",
     "text": [
      "Epoch 124 tr: l 1.159 a 0.606 clct[np.int64(44), np.int64(56)] clct_ans[np.int64(56), np.int64(44)]  lr 0.246919 76.425sec(train) 20.902sec(infer)\n"
     ]
    },
    {
     "name": "stdout",
     "output_type": "stream",
     "text": [
      "Epoch 124 tst: l 1.064 a 0.642 clct[np.int64(20), np.int64(20)] clct_ans[np.int64(20), np.int64(20)]  3.196sec\n"
     ]
    },
    {
     "name": "stdout",
     "output_type": "stream",
     "text": [
      "Epoch 125 tr: l 1.157 a 0.605 clct[np.int64(52), np.int64(48)] clct_ans[np.int64(48), np.int64(52)]  lr 0.246894 74.881sec(train) 20.849sec(infer)\n"
     ]
    },
    {
     "name": "stdout",
     "output_type": "stream",
     "text": [
      "Epoch 125 tst: l 1.059 a 0.644 clct[np.int64(20), np.int64(20)] clct_ans[np.int64(20), np.int64(20)]  3.196sec\n"
     ]
    },
    {
     "name": "stdout",
     "output_type": "stream",
     "text": [
      "Epoch 126 tr: l 1.157 a 0.603 clct[np.int64(52), np.int64(48)] clct_ans[np.int64(48), np.int64(52)]  lr 0.246870 78.694sec(train) 20.962sec(infer)\n"
     ]
    },
    {
     "name": "stdout",
     "output_type": "stream",
     "text": [
      "Epoch 126 tst: l 1.063 a 0.641 clct[np.int64(20), np.int64(20)] clct_ans[np.int64(20), np.int64(20)]  3.162sec\n"
     ]
    },
    {
     "name": "stdout",
     "output_type": "stream",
     "text": [
      "Epoch 127 tr: l 1.155 a 0.607 clct[np.int64(46), np.int64(54)] clct_ans[np.int64(54), np.int64(46)]  lr 0.246845 78.485sec(train) 20.905sec(infer)\n"
     ]
    },
    {
     "name": "stdout",
     "output_type": "stream",
     "text": [
      "Epoch 127 tst: l 1.064 a 0.642 clct[np.int64(20), np.int64(20)] clct_ans[np.int64(20), np.int64(20)]  3.213sec\n"
     ]
    },
    {
     "name": "stdout",
     "output_type": "stream",
     "text": [
      "Epoch 128 tr: l 1.172 a 0.599 clct[np.int64(54), np.int64(46)] clct_ans[np.int64(46), np.int64(54)]  lr 0.246820 76.486sec(train) 20.923sec(infer)\n"
     ]
    },
    {
     "name": "stdout",
     "output_type": "stream",
     "text": [
      "Epoch 128 tst: l 1.062 a 0.640 clct[np.int64(20), np.int64(20)] clct_ans[np.int64(20), np.int64(20)]  3.189sec\n"
     ]
    },
    {
     "name": "stdout",
     "output_type": "stream",
     "text": [
      "Epoch 129 tr: l 1.159 a 0.607 clct[np.int64(48), np.int64(52)] clct_ans[np.int64(52), np.int64(48)]  lr 0.246796 77.520sec(train) 20.848sec(infer)\n"
     ]
    },
    {
     "name": "stdout",
     "output_type": "stream",
     "text": [
      "Epoch 129 tst: l 1.059 a 0.640 clct[np.int64(20), np.int64(20)] clct_ans[np.int64(20), np.int64(20)]  3.194sec\n"
     ]
    },
    {
     "name": "stdout",
     "output_type": "stream",
     "text": [
      "Epoch 130 tr: l 1.165 a 0.604 clct[np.int64(48), np.int64(52)] clct_ans[np.int64(52), np.int64(48)]  lr 0.246771 78.861sec(train) 20.873sec(infer)\n"
     ]
    },
    {
     "name": "stdout",
     "output_type": "stream",
     "text": [
      "Epoch 130 tst: l 1.062 a 0.640 clct[np.int64(20), np.int64(20)] clct_ans[np.int64(20), np.int64(20)]  3.176sec\n",
      "result written at output_dfca_gi/results.pickle\n",
      "checkpoint written at output_dfca_gi/checkpoint.pt\n"
     ]
    },
    {
     "name": "stdout",
     "output_type": "stream",
     "text": [
      "Epoch 131 tr: l 1.152 a 0.607 clct[np.int64(51), np.int64(49)] clct_ans[np.int64(49), np.int64(51)]  lr 0.246746 78.498sec(train) 20.951sec(infer)\n"
     ]
    },
    {
     "name": "stdout",
     "output_type": "stream",
     "text": [
      "Epoch 131 tst: l 1.060 a 0.641 clct[np.int64(20), np.int64(20)] clct_ans[np.int64(20), np.int64(20)]  3.252sec\n"
     ]
    },
    {
     "name": "stdout",
     "output_type": "stream",
     "text": [
      "Epoch 132 tr: l 1.161 a 0.604 clct[np.int64(52), np.int64(48)] clct_ans[np.int64(48), np.int64(52)]  lr 0.246722 78.140sec(train) 20.907sec(infer)\n"
     ]
    },
    {
     "name": "stdout",
     "output_type": "stream",
     "text": [
      "Epoch 132 tst: l 1.059 a 0.640 clct[np.int64(20), np.int64(20)] clct_ans[np.int64(20), np.int64(20)]  3.191sec\n"
     ]
    },
    {
     "name": "stdout",
     "output_type": "stream",
     "text": [
      "Epoch 133 tr: l 1.151 a 0.608 clct[np.int64(52), np.int64(48)] clct_ans[np.int64(48), np.int64(52)]  lr 0.246697 77.184sec(train) 20.936sec(infer)\n"
     ]
    },
    {
     "name": "stdout",
     "output_type": "stream",
     "text": [
      "Epoch 133 tst: l 1.059 a 0.641 clct[np.int64(20), np.int64(20)] clct_ans[np.int64(20), np.int64(20)]  3.194sec\n"
     ]
    },
    {
     "name": "stdout",
     "output_type": "stream",
     "text": [
      "Epoch 134 tr: l 1.158 a 0.604 clct[np.int64(54), np.int64(46)] clct_ans[np.int64(46), np.int64(54)]  lr 0.246672 78.574sec(train) 20.813sec(infer)\n"
     ]
    },
    {
     "name": "stdout",
     "output_type": "stream",
     "text": [
      "Epoch 134 tst: l 1.062 a 0.639 clct[np.int64(20), np.int64(20)] clct_ans[np.int64(20), np.int64(20)]  3.185sec\n"
     ]
    },
    {
     "name": "stdout",
     "output_type": "stream",
     "text": [
      "Epoch 135 tr: l 1.158 a 0.607 clct[np.int64(49), np.int64(51)] clct_ans[np.int64(51), np.int64(49)]  lr 0.246648 79.853sec(train) 21.019sec(infer)\n"
     ]
    },
    {
     "name": "stdout",
     "output_type": "stream",
     "text": [
      "Epoch 135 tst: l 1.058 a 0.641 clct[np.int64(20), np.int64(20)] clct_ans[np.int64(20), np.int64(20)]  3.195sec\n"
     ]
    },
    {
     "name": "stdout",
     "output_type": "stream",
     "text": [
      "Epoch 136 tr: l 1.155 a 0.606 clct[np.int64(55), np.int64(45)] clct_ans[np.int64(45), np.int64(55)]  lr 0.246623 79.557sec(train) 20.958sec(infer)\n"
     ]
    },
    {
     "name": "stdout",
     "output_type": "stream",
     "text": [
      "Epoch 136 tst: l 1.060 a 0.642 clct[np.int64(20), np.int64(20)] clct_ans[np.int64(20), np.int64(20)]  3.230sec\n"
     ]
    },
    {
     "name": "stdout",
     "output_type": "stream",
     "text": [
      "Epoch 137 tr: l 1.150 a 0.608 clct[np.int64(49), np.int64(51)] clct_ans[np.int64(51), np.int64(49)]  lr 0.246598 77.339sec(train) 20.953sec(infer)\n"
     ]
    },
    {
     "name": "stdout",
     "output_type": "stream",
     "text": [
      "Epoch 137 tst: l 1.058 a 0.641 clct[np.int64(20), np.int64(20)] clct_ans[np.int64(20), np.int64(20)]  3.215sec\n"
     ]
    },
    {
     "name": "stdout",
     "output_type": "stream",
     "text": [
      "Epoch 138 tr: l 1.157 a 0.607 clct[np.int64(46), np.int64(54)] clct_ans[np.int64(54), np.int64(46)]  lr 0.246574 78.649sec(train) 20.916sec(infer)\n"
     ]
    },
    {
     "name": "stdout",
     "output_type": "stream",
     "text": [
      "Epoch 138 tst: l 1.061 a 0.641 clct[np.int64(20), np.int64(20)] clct_ans[np.int64(20), np.int64(20)]  3.201sec\n"
     ]
    },
    {
     "name": "stdout",
     "output_type": "stream",
     "text": [
      "Epoch 139 tr: l 1.153 a 0.607 clct[np.int64(46), np.int64(54)] clct_ans[np.int64(54), np.int64(46)]  lr 0.246549 77.938sec(train) 21.167sec(infer)\n"
     ]
    },
    {
     "name": "stdout",
     "output_type": "stream",
     "text": [
      "Epoch 139 tst: l 1.057 a 0.641 clct[np.int64(20), np.int64(20)] clct_ans[np.int64(20), np.int64(20)]  3.190sec\n"
     ]
    },
    {
     "name": "stdout",
     "output_type": "stream",
     "text": [
      "Epoch 140 tr: l 1.159 a 0.607 clct[np.int64(51), np.int64(49)] clct_ans[np.int64(49), np.int64(51)]  lr 0.246524 79.269sec(train) 21.038sec(infer)\n"
     ]
    },
    {
     "name": "stdout",
     "output_type": "stream",
     "text": [
      "Epoch 140 tst: l 1.062 a 0.640 clct[np.int64(20), np.int64(20)] clct_ans[np.int64(20), np.int64(20)]  3.199sec\n",
      "result written at output_dfca_gi/results.pickle\n",
      "checkpoint written at output_dfca_gi/checkpoint.pt\n"
     ]
    },
    {
     "name": "stdout",
     "output_type": "stream",
     "text": [
      "Epoch 141 tr: l 1.144 a 0.611 clct[np.int64(51), np.int64(49)] clct_ans[np.int64(49), np.int64(51)]  lr 0.246500 77.699sec(train) 21.109sec(infer)\n"
     ]
    },
    {
     "name": "stdout",
     "output_type": "stream",
     "text": [
      "Epoch 141 tst: l 1.056 a 0.642 clct[np.int64(20), np.int64(20)] clct_ans[np.int64(20), np.int64(20)]  3.154sec\n"
     ]
    },
    {
     "name": "stdout",
     "output_type": "stream",
     "text": [
      "Epoch 142 tr: l 1.161 a 0.608 clct[np.int64(52), np.int64(48)] clct_ans[np.int64(48), np.int64(52)]  lr 0.246475 79.405sec(train) 20.858sec(infer)\n"
     ]
    },
    {
     "name": "stdout",
     "output_type": "stream",
     "text": [
      "Epoch 142 tst: l 1.053 a 0.643 clct[np.int64(20), np.int64(20)] clct_ans[np.int64(20), np.int64(20)]  3.173sec\n"
     ]
    },
    {
     "name": "stdout",
     "output_type": "stream",
     "text": [
      "Epoch 143 tr: l 1.153 a 0.609 clct[np.int64(48), np.int64(52)] clct_ans[np.int64(52), np.int64(48)]  lr 0.246450 77.339sec(train) 20.889sec(infer)\n"
     ]
    },
    {
     "name": "stdout",
     "output_type": "stream",
     "text": [
      "Epoch 143 tst: l 1.055 a 0.644 clct[np.int64(20), np.int64(20)] clct_ans[np.int64(20), np.int64(20)]  3.165sec\n"
     ]
    },
    {
     "name": "stdout",
     "output_type": "stream",
     "text": [
      "Epoch 144 tr: l 1.146 a 0.609 clct[np.int64(52), np.int64(48)] clct_ans[np.int64(48), np.int64(52)]  lr 0.246426 80.525sec(train) 20.857sec(infer)\n"
     ]
    },
    {
     "name": "stdout",
     "output_type": "stream",
     "text": [
      "Epoch 144 tst: l 1.055 a 0.645 clct[np.int64(20), np.int64(20)] clct_ans[np.int64(20), np.int64(20)]  3.177sec\n"
     ]
    },
    {
     "name": "stdout",
     "output_type": "stream",
     "text": [
      "Epoch 145 tr: l 1.158 a 0.605 clct[np.int64(42), np.int64(58)] clct_ans[np.int64(58), np.int64(42)]  lr 0.246401 78.944sec(train) 20.809sec(infer)\n"
     ]
    },
    {
     "name": "stdout",
     "output_type": "stream",
     "text": [
      "Epoch 145 tst: l 1.056 a 0.644 clct[np.int64(20), np.int64(20)] clct_ans[np.int64(20), np.int64(20)]  3.227sec\n"
     ]
    },
    {
     "name": "stdout",
     "output_type": "stream",
     "text": [
      "Epoch 146 tr: l 1.151 a 0.607 clct[np.int64(46), np.int64(54)] clct_ans[np.int64(54), np.int64(46)]  lr 0.246376 78.957sec(train) 20.840sec(infer)\n"
     ]
    },
    {
     "name": "stdout",
     "output_type": "stream",
     "text": [
      "Epoch 146 tst: l 1.056 a 0.642 clct[np.int64(20), np.int64(20)] clct_ans[np.int64(20), np.int64(20)]  3.203sec\n"
     ]
    },
    {
     "name": "stdout",
     "output_type": "stream",
     "text": [
      "Epoch 147 tr: l 1.156 a 0.607 clct[np.int64(44), np.int64(56)] clct_ans[np.int64(56), np.int64(44)]  lr 0.246352 78.036sec(train) 20.939sec(infer)\n"
     ]
    },
    {
     "name": "stdout",
     "output_type": "stream",
     "text": [
      "Epoch 147 tst: l 1.055 a 0.643 clct[np.int64(20), np.int64(20)] clct_ans[np.int64(20), np.int64(20)]  3.223sec\n"
     ]
    },
    {
     "name": "stdout",
     "output_type": "stream",
     "text": [
      "Epoch 148 tr: l 1.154 a 0.606 clct[np.int64(50), np.int64(50)] clct_ans[np.int64(50), np.int64(50)]  lr 0.246327 77.919sec(train) 21.022sec(infer)\n"
     ]
    },
    {
     "name": "stdout",
     "output_type": "stream",
     "text": [
      "Epoch 148 tst: l 1.054 a 0.644 clct[np.int64(20), np.int64(20)] clct_ans[np.int64(20), np.int64(20)]  3.284sec\n"
     ]
    },
    {
     "name": "stdout",
     "output_type": "stream",
     "text": [
      "Epoch 149 tr: l 1.145 a 0.613 clct[np.int64(46), np.int64(54)] clct_ans[np.int64(54), np.int64(46)]  lr 0.246302 77.496sec(train) 20.860sec(infer)\n"
     ]
    },
    {
     "name": "stdout",
     "output_type": "stream",
     "text": [
      "Epoch 149 tst: l 1.056 a 0.646 clct[np.int64(20), np.int64(20)] clct_ans[np.int64(20), np.int64(20)]  3.225sec\n"
     ]
    },
    {
     "name": "stdout",
     "output_type": "stream",
     "text": [
      "Epoch 150 tr: l 1.155 a 0.610 clct[np.int64(40), np.int64(60)] clct_ans[np.int64(60), np.int64(40)]  lr 0.246278 75.568sec(train) 20.874sec(infer)\n"
     ]
    },
    {
     "name": "stdout",
     "output_type": "stream",
     "text": [
      "Epoch 150 tst: l 1.053 a 0.644 clct[np.int64(20), np.int64(20)] clct_ans[np.int64(20), np.int64(20)]  3.179sec\n",
      "result written at output_dfca_gi/results.pickle\n",
      "checkpoint written at output_dfca_gi/checkpoint.pt\n"
     ]
    },
    {
     "name": "stdout",
     "output_type": "stream",
     "text": [
      "Epoch 151 tr: l 1.151 a 0.607 clct[np.int64(51), np.int64(49)] clct_ans[np.int64(49), np.int64(51)]  lr 0.246253 72.080sec(train) 20.759sec(infer)\n"
     ]
    },
    {
     "name": "stdout",
     "output_type": "stream",
     "text": [
      "Epoch 151 tst: l 1.052 a 0.645 clct[np.int64(20), np.int64(20)] clct_ans[np.int64(20), np.int64(20)]  3.176sec\n"
     ]
    },
    {
     "name": "stdout",
     "output_type": "stream",
     "text": [
      "Epoch 152 tr: l 1.152 a 0.608 clct[np.int64(51), np.int64(49)] clct_ans[np.int64(49), np.int64(51)]  lr 0.246229 73.570sec(train) 20.914sec(infer)\n"
     ]
    },
    {
     "name": "stdout",
     "output_type": "stream",
     "text": [
      "Epoch 152 tst: l 1.050 a 0.643 clct[np.int64(20), np.int64(20)] clct_ans[np.int64(20), np.int64(20)]  3.181sec\n"
     ]
    },
    {
     "name": "stdout",
     "output_type": "stream",
     "text": [
      "Epoch 153 tr: l 1.148 a 0.609 clct[np.int64(51), np.int64(49)] clct_ans[np.int64(49), np.int64(51)]  lr 0.246204 79.013sec(train) 20.935sec(infer)\n"
     ]
    },
    {
     "name": "stdout",
     "output_type": "stream",
     "text": [
      "Epoch 153 tst: l 1.055 a 0.644 clct[np.int64(20), np.int64(20)] clct_ans[np.int64(20), np.int64(20)]  3.229sec\n"
     ]
    },
    {
     "name": "stdout",
     "output_type": "stream",
     "text": [
      "Epoch 154 tr: l 1.148 a 0.608 clct[np.int64(51), np.int64(49)] clct_ans[np.int64(49), np.int64(51)]  lr 0.246179 76.456sec(train) 21.262sec(infer)\n"
     ]
    },
    {
     "name": "stdout",
     "output_type": "stream",
     "text": [
      "Epoch 154 tst: l 1.056 a 0.643 clct[np.int64(20), np.int64(20)] clct_ans[np.int64(20), np.int64(20)]  3.230sec\n"
     ]
    },
    {
     "name": "stdout",
     "output_type": "stream",
     "text": [
      "Epoch 155 tr: l 1.142 a 0.609 clct[np.int64(46), np.int64(54)] clct_ans[np.int64(54), np.int64(46)]  lr 0.246155 80.451sec(train) 21.303sec(infer)\n"
     ]
    },
    {
     "name": "stdout",
     "output_type": "stream",
     "text": [
      "Epoch 155 tst: l 1.051 a 0.644 clct[np.int64(20), np.int64(20)] clct_ans[np.int64(20), np.int64(20)]  3.239sec\n"
     ]
    },
    {
     "name": "stdout",
     "output_type": "stream",
     "text": [
      "Epoch 156 tr: l 1.148 a 0.610 clct[np.int64(47), np.int64(53)] clct_ans[np.int64(53), np.int64(47)]  lr 0.246130 79.290sec(train) 20.986sec(infer)\n"
     ]
    },
    {
     "name": "stdout",
     "output_type": "stream",
     "text": [
      "Epoch 156 tst: l 1.050 a 0.645 clct[np.int64(20), np.int64(20)] clct_ans[np.int64(20), np.int64(20)]  3.207sec\n"
     ]
    },
    {
     "name": "stdout",
     "output_type": "stream",
     "text": [
      "Epoch 157 tr: l 1.152 a 0.608 clct[np.int64(51), np.int64(49)] clct_ans[np.int64(49), np.int64(51)]  lr 0.246105 79.254sec(train) 21.144sec(infer)\n"
     ]
    },
    {
     "name": "stdout",
     "output_type": "stream",
     "text": [
      "Epoch 157 tst: l 1.052 a 0.645 clct[np.int64(20), np.int64(20)] clct_ans[np.int64(20), np.int64(20)]  3.229sec\n"
     ]
    },
    {
     "name": "stdout",
     "output_type": "stream",
     "text": [
      "Epoch 158 tr: l 1.149 a 0.609 clct[np.int64(52), np.int64(48)] clct_ans[np.int64(48), np.int64(52)]  lr 0.246081 79.447sec(train) 21.056sec(infer)\n"
     ]
    },
    {
     "name": "stdout",
     "output_type": "stream",
     "text": [
      "Epoch 158 tst: l 1.048 a 0.648 clct[np.int64(20), np.int64(20)] clct_ans[np.int64(20), np.int64(20)]  3.225sec\n"
     ]
    },
    {
     "name": "stdout",
     "output_type": "stream",
     "text": [
      "Epoch 159 tr: l 1.154 a 0.607 clct[np.int64(51), np.int64(49)] clct_ans[np.int64(49), np.int64(51)]  lr 0.246056 78.088sec(train) 21.022sec(infer)\n"
     ]
    },
    {
     "name": "stdout",
     "output_type": "stream",
     "text": [
      "Epoch 159 tst: l 1.052 a 0.645 clct[np.int64(20), np.int64(20)] clct_ans[np.int64(20), np.int64(20)]  3.192sec\n"
     ]
    },
    {
     "name": "stdout",
     "output_type": "stream",
     "text": [
      "Epoch 160 tr: l 1.151 a 0.612 clct[np.int64(47), np.int64(53)] clct_ans[np.int64(53), np.int64(47)]  lr 0.246032 78.322sec(train) 21.171sec(infer)\n"
     ]
    },
    {
     "name": "stdout",
     "output_type": "stream",
     "text": [
      "Epoch 160 tst: l 1.052 a 0.646 clct[np.int64(20), np.int64(20)] clct_ans[np.int64(20), np.int64(20)]  3.198sec\n",
      "result written at output_dfca_gi/results.pickle\n",
      "checkpoint written at output_dfca_gi/checkpoint.pt\n"
     ]
    },
    {
     "name": "stdout",
     "output_type": "stream",
     "text": [
      "Epoch 161 tr: l 1.147 a 0.610 clct[np.int64(46), np.int64(54)] clct_ans[np.int64(54), np.int64(46)]  lr 0.246007 77.158sec(train) 21.006sec(infer)\n"
     ]
    },
    {
     "name": "stdout",
     "output_type": "stream",
     "text": [
      "Epoch 161 tst: l 1.050 a 0.645 clct[np.int64(20), np.int64(20)] clct_ans[np.int64(20), np.int64(20)]  3.199sec\n"
     ]
    },
    {
     "name": "stdout",
     "output_type": "stream",
     "text": [
      "Epoch 162 tr: l 1.154 a 0.605 clct[np.int64(48), np.int64(52)] clct_ans[np.int64(52), np.int64(48)]  lr 0.245982 77.816sec(train) 21.005sec(infer)\n"
     ]
    },
    {
     "name": "stdout",
     "output_type": "stream",
     "text": [
      "Epoch 162 tst: l 1.054 a 0.645 clct[np.int64(20), np.int64(20)] clct_ans[np.int64(20), np.int64(20)]  3.271sec\n"
     ]
    },
    {
     "name": "stdout",
     "output_type": "stream",
     "text": [
      "Epoch 163 tr: l 1.149 a 0.607 clct[np.int64(44), np.int64(56)] clct_ans[np.int64(56), np.int64(44)]  lr 0.245958 77.735sec(train) 20.966sec(infer)\n"
     ]
    },
    {
     "name": "stdout",
     "output_type": "stream",
     "text": [
      "Epoch 163 tst: l 1.052 a 0.647 clct[np.int64(20), np.int64(20)] clct_ans[np.int64(20), np.int64(20)]  3.247sec\n"
     ]
    },
    {
     "name": "stdout",
     "output_type": "stream",
     "text": [
      "Epoch 164 tr: l 1.149 a 0.607 clct[np.int64(50), np.int64(50)] clct_ans[np.int64(50), np.int64(50)]  lr 0.245933 78.660sec(train) 20.941sec(infer)\n"
     ]
    },
    {
     "name": "stdout",
     "output_type": "stream",
     "text": [
      "Epoch 164 tst: l 1.050 a 0.646 clct[np.int64(20), np.int64(20)] clct_ans[np.int64(20), np.int64(20)]  3.203sec\n"
     ]
    },
    {
     "name": "stdout",
     "output_type": "stream",
     "text": [
      "Epoch 165 tr: l 1.145 a 0.608 clct[np.int64(46), np.int64(54)] clct_ans[np.int64(54), np.int64(46)]  lr 0.245909 79.009sec(train) 20.882sec(infer)\n"
     ]
    },
    {
     "name": "stdout",
     "output_type": "stream",
     "text": [
      "Epoch 165 tst: l 1.051 a 0.647 clct[np.int64(20), np.int64(20)] clct_ans[np.int64(20), np.int64(20)]  3.187sec\n"
     ]
    },
    {
     "name": "stdout",
     "output_type": "stream",
     "text": [
      "Epoch 166 tr: l 1.148 a 0.608 clct[np.int64(47), np.int64(53)] clct_ans[np.int64(53), np.int64(47)]  lr 0.245884 80.177sec(train) 20.918sec(infer)\n"
     ]
    },
    {
     "name": "stdout",
     "output_type": "stream",
     "text": [
      "Epoch 166 tst: l 1.056 a 0.643 clct[np.int64(20), np.int64(20)] clct_ans[np.int64(20), np.int64(20)]  3.211sec\n"
     ]
    },
    {
     "name": "stdout",
     "output_type": "stream",
     "text": [
      "Epoch 167 tr: l 1.144 a 0.610 clct[np.int64(49), np.int64(51)] clct_ans[np.int64(51), np.int64(49)]  lr 0.245859 78.882sec(train) 20.932sec(infer)\n"
     ]
    },
    {
     "name": "stdout",
     "output_type": "stream",
     "text": [
      "Epoch 167 tst: l 1.057 a 0.644 clct[np.int64(20), np.int64(20)] clct_ans[np.int64(20), np.int64(20)]  3.216sec\n"
     ]
    },
    {
     "name": "stdout",
     "output_type": "stream",
     "text": [
      "Epoch 168 tr: l 1.153 a 0.608 clct[np.int64(52), np.int64(48)] clct_ans[np.int64(48), np.int64(52)]  lr 0.245835 79.052sec(train) 20.898sec(infer)\n"
     ]
    },
    {
     "name": "stdout",
     "output_type": "stream",
     "text": [
      "Epoch 168 tst: l 1.048 a 0.648 clct[np.int64(20), np.int64(20)] clct_ans[np.int64(20), np.int64(20)]  3.223sec\n"
     ]
    },
    {
     "name": "stdout",
     "output_type": "stream",
     "text": [
      "Epoch 169 tr: l 1.148 a 0.609 clct[np.int64(47), np.int64(53)] clct_ans[np.int64(53), np.int64(47)]  lr 0.245810 79.222sec(train) 20.843sec(infer)\n"
     ]
    },
    {
     "name": "stdout",
     "output_type": "stream",
     "text": [
      "Epoch 169 tst: l 1.052 a 0.647 clct[np.int64(20), np.int64(20)] clct_ans[np.int64(20), np.int64(20)]  3.190sec\n"
     ]
    },
    {
     "name": "stdout",
     "output_type": "stream",
     "text": [
      "Epoch 170 tr: l 1.156 a 0.606 clct[np.int64(48), np.int64(52)] clct_ans[np.int64(52), np.int64(48)]  lr 0.245786 81.545sec(train) 21.041sec(infer)\n"
     ]
    },
    {
     "name": "stdout",
     "output_type": "stream",
     "text": [
      "Epoch 170 tst: l 1.052 a 0.646 clct[np.int64(20), np.int64(20)] clct_ans[np.int64(20), np.int64(20)]  3.180sec\n",
      "result written at output_dfca_gi/results.pickle\n",
      "checkpoint written at output_dfca_gi/checkpoint.pt\n"
     ]
    },
    {
     "name": "stdout",
     "output_type": "stream",
     "text": [
      "Epoch 171 tr: l 1.146 a 0.609 clct[np.int64(47), np.int64(53)] clct_ans[np.int64(53), np.int64(47)]  lr 0.245761 79.334sec(train) 20.996sec(infer)\n"
     ]
    },
    {
     "name": "stdout",
     "output_type": "stream",
     "text": [
      "Epoch 171 tst: l 1.052 a 0.645 clct[np.int64(20), np.int64(20)] clct_ans[np.int64(20), np.int64(20)]  3.251sec\n"
     ]
    },
    {
     "name": "stdout",
     "output_type": "stream",
     "text": [
      "Epoch 172 tr: l 1.153 a 0.607 clct[np.int64(57), np.int64(43)] clct_ans[np.int64(43), np.int64(57)]  lr 0.245737 77.905sec(train) 21.086sec(infer)\n"
     ]
    },
    {
     "name": "stdout",
     "output_type": "stream",
     "text": [
      "Epoch 172 tst: l 1.051 a 0.645 clct[np.int64(20), np.int64(20)] clct_ans[np.int64(20), np.int64(20)]  3.231sec\n"
     ]
    },
    {
     "name": "stdout",
     "output_type": "stream",
     "text": [
      "Epoch 173 tr: l 1.140 a 0.612 clct[np.int64(47), np.int64(53)] clct_ans[np.int64(53), np.int64(47)]  lr 0.245712 76.836sec(train) 21.048sec(infer)\n"
     ]
    },
    {
     "name": "stdout",
     "output_type": "stream",
     "text": [
      "Epoch 173 tst: l 1.050 a 0.646 clct[np.int64(20), np.int64(20)] clct_ans[np.int64(20), np.int64(20)]  3.208sec\n"
     ]
    },
    {
     "name": "stdout",
     "output_type": "stream",
     "text": [
      "Epoch 174 tr: l 1.147 a 0.609 clct[np.int64(46), np.int64(54)] clct_ans[np.int64(54), np.int64(46)]  lr 0.245687 77.483sec(train) 20.924sec(infer)\n"
     ]
    },
    {
     "name": "stdout",
     "output_type": "stream",
     "text": [
      "Epoch 174 tst: l 1.050 a 0.648 clct[np.int64(20), np.int64(20)] clct_ans[np.int64(20), np.int64(20)]  3.194sec\n"
     ]
    },
    {
     "name": "stdout",
     "output_type": "stream",
     "text": [
      "Epoch 175 tr: l 1.149 a 0.610 clct[np.int64(52), np.int64(48)] clct_ans[np.int64(48), np.int64(52)]  lr 0.245663 78.036sec(train) 21.081sec(infer)\n"
     ]
    },
    {
     "name": "stdout",
     "output_type": "stream",
     "text": [
      "Epoch 175 tst: l 1.048 a 0.645 clct[np.int64(20), np.int64(20)] clct_ans[np.int64(20), np.int64(20)]  3.219sec\n"
     ]
    },
    {
     "name": "stdout",
     "output_type": "stream",
     "text": [
      "Epoch 176 tr: l 1.130 a 0.613 clct[np.int64(49), np.int64(51)] clct_ans[np.int64(51), np.int64(49)]  lr 0.245638 78.350sec(train) 20.921sec(infer)\n"
     ]
    },
    {
     "name": "stdout",
     "output_type": "stream",
     "text": [
      "Epoch 176 tst: l 1.045 a 0.650 clct[np.int64(20), np.int64(20)] clct_ans[np.int64(20), np.int64(20)]  3.203sec\n"
     ]
    },
    {
     "name": "stdout",
     "output_type": "stream",
     "text": [
      "Epoch 177 tr: l 1.151 a 0.609 clct[np.int64(49), np.int64(51)] clct_ans[np.int64(51), np.int64(49)]  lr 0.245614 77.951sec(train) 20.924sec(infer)\n"
     ]
    },
    {
     "name": "stdout",
     "output_type": "stream",
     "text": [
      "Epoch 177 tst: l 1.047 a 0.645 clct[np.int64(20), np.int64(20)] clct_ans[np.int64(20), np.int64(20)]  3.200sec\n"
     ]
    },
    {
     "name": "stdout",
     "output_type": "stream",
     "text": [
      "Epoch 178 tr: l 1.149 a 0.612 clct[np.int64(47), np.int64(53)] clct_ans[np.int64(53), np.int64(47)]  lr 0.245589 79.604sec(train) 20.917sec(infer)\n"
     ]
    },
    {
     "name": "stdout",
     "output_type": "stream",
     "text": [
      "Epoch 178 tst: l 1.050 a 0.646 clct[np.int64(20), np.int64(20)] clct_ans[np.int64(20), np.int64(20)]  3.211sec\n"
     ]
    },
    {
     "name": "stdout",
     "output_type": "stream",
     "text": [
      "Epoch 179 tr: l 1.140 a 0.611 clct[np.int64(49), np.int64(51)] clct_ans[np.int64(51), np.int64(49)]  lr 0.245565 81.414sec(train) 21.187sec(infer)\n"
     ]
    },
    {
     "name": "stdout",
     "output_type": "stream",
     "text": [
      "Epoch 179 tst: l 1.048 a 0.645 clct[np.int64(20), np.int64(20)] clct_ans[np.int64(20), np.int64(20)]  3.187sec\n"
     ]
    },
    {
     "name": "stdout",
     "output_type": "stream",
     "text": [
      "Epoch 180 tr: l 1.144 a 0.612 clct[np.int64(46), np.int64(54)] clct_ans[np.int64(54), np.int64(46)]  lr 0.245540 81.540sec(train) 20.920sec(infer)\n"
     ]
    },
    {
     "name": "stdout",
     "output_type": "stream",
     "text": [
      "Epoch 180 tst: l 1.047 a 0.647 clct[np.int64(20), np.int64(20)] clct_ans[np.int64(20), np.int64(20)]  3.209sec\n",
      "result written at output_dfca_gi/results.pickle\n",
      "checkpoint written at output_dfca_gi/checkpoint.pt\n"
     ]
    },
    {
     "name": "stdout",
     "output_type": "stream",
     "text": [
      "Epoch 181 tr: l 1.139 a 0.611 clct[np.int64(50), np.int64(50)] clct_ans[np.int64(50), np.int64(50)]  lr 0.245515 81.592sec(train) 20.890sec(infer)\n"
     ]
    },
    {
     "name": "stdout",
     "output_type": "stream",
     "text": [
      "Epoch 181 tst: l 1.046 a 0.647 clct[np.int64(20), np.int64(20)] clct_ans[np.int64(20), np.int64(20)]  3.216sec\n"
     ]
    },
    {
     "name": "stdout",
     "output_type": "stream",
     "text": [
      "Epoch 182 tr: l 1.154 a 0.607 clct[np.int64(48), np.int64(52)] clct_ans[np.int64(52), np.int64(48)]  lr 0.245491 81.729sec(train) 20.881sec(infer)\n"
     ]
    },
    {
     "name": "stdout",
     "output_type": "stream",
     "text": [
      "Epoch 182 tst: l 1.050 a 0.646 clct[np.int64(20), np.int64(20)] clct_ans[np.int64(20), np.int64(20)]  3.190sec\n"
     ]
    },
    {
     "name": "stdout",
     "output_type": "stream",
     "text": [
      "Epoch 183 tr: l 1.145 a 0.608 clct[np.int64(51), np.int64(49)] clct_ans[np.int64(49), np.int64(51)]  lr 0.245466 80.786sec(train) 20.838sec(infer)\n"
     ]
    },
    {
     "name": "stdout",
     "output_type": "stream",
     "text": [
      "Epoch 183 tst: l 1.045 a 0.648 clct[np.int64(20), np.int64(20)] clct_ans[np.int64(20), np.int64(20)]  3.167sec\n"
     ]
    },
    {
     "name": "stdout",
     "output_type": "stream",
     "text": [
      "Epoch 184 tr: l 1.144 a 0.609 clct[np.int64(44), np.int64(56)] clct_ans[np.int64(56), np.int64(44)]  lr 0.245442 78.651sec(train) 21.008sec(infer)\n"
     ]
    },
    {
     "name": "stdout",
     "output_type": "stream",
     "text": [
      "Epoch 184 tst: l 1.046 a 0.645 clct[np.int64(20), np.int64(20)] clct_ans[np.int64(20), np.int64(20)]  3.144sec\n"
     ]
    },
    {
     "name": "stdout",
     "output_type": "stream",
     "text": [
      "Epoch 185 tr: l 1.146 a 0.609 clct[np.int64(44), np.int64(56)] clct_ans[np.int64(56), np.int64(44)]  lr 0.245417 78.072sec(train) 20.936sec(infer)\n"
     ]
    },
    {
     "name": "stdout",
     "output_type": "stream",
     "text": [
      "Epoch 185 tst: l 1.048 a 0.645 clct[np.int64(20), np.int64(20)] clct_ans[np.int64(20), np.int64(20)]  3.205sec\n"
     ]
    },
    {
     "name": "stdout",
     "output_type": "stream",
     "text": [
      "Epoch 186 tr: l 1.150 a 0.607 clct[np.int64(53), np.int64(47)] clct_ans[np.int64(47), np.int64(53)]  lr 0.245393 78.655sec(train) 20.895sec(infer)\n"
     ]
    },
    {
     "name": "stdout",
     "output_type": "stream",
     "text": [
      "Epoch 186 tst: l 1.051 a 0.645 clct[np.int64(20), np.int64(20)] clct_ans[np.int64(20), np.int64(20)]  3.156sec\n"
     ]
    },
    {
     "name": "stdout",
     "output_type": "stream",
     "text": [
      "Epoch 187 tr: l 1.151 a 0.608 clct[np.int64(49), np.int64(51)] clct_ans[np.int64(51), np.int64(49)]  lr 0.245368 80.529sec(train) 20.952sec(infer)\n"
     ]
    },
    {
     "name": "stdout",
     "output_type": "stream",
     "text": [
      "Epoch 187 tst: l 1.045 a 0.646 clct[np.int64(20), np.int64(20)] clct_ans[np.int64(20), np.int64(20)]  3.151sec\n"
     ]
    },
    {
     "name": "stdout",
     "output_type": "stream",
     "text": [
      "Epoch 188 tr: l 1.139 a 0.611 clct[np.int64(50), np.int64(50)] clct_ans[np.int64(50), np.int64(50)]  lr 0.245344 79.819sec(train) 20.886sec(infer)\n"
     ]
    },
    {
     "name": "stdout",
     "output_type": "stream",
     "text": [
      "Epoch 188 tst: l 1.046 a 0.647 clct[np.int64(20), np.int64(20)] clct_ans[np.int64(20), np.int64(20)]  3.150sec\n"
     ]
    },
    {
     "name": "stdout",
     "output_type": "stream",
     "text": [
      "Epoch 189 tr: l 1.140 a 0.615 clct[np.int64(50), np.int64(50)] clct_ans[np.int64(50), np.int64(50)]  lr 0.245319 81.259sec(train) 21.060sec(infer)\n"
     ]
    },
    {
     "name": "stdout",
     "output_type": "stream",
     "text": [
      "Epoch 189 tst: l 1.046 a 0.647 clct[np.int64(20), np.int64(20)] clct_ans[np.int64(20), np.int64(20)]  3.158sec\n"
     ]
    },
    {
     "name": "stdout",
     "output_type": "stream",
     "text": [
      "Epoch 190 tr: l 1.148 a 0.609 clct[np.int64(56), np.int64(44)] clct_ans[np.int64(44), np.int64(56)]  lr 0.245295 80.654sec(train) 20.984sec(infer)\n"
     ]
    },
    {
     "name": "stdout",
     "output_type": "stream",
     "text": [
      "Epoch 190 tst: l 1.047 a 0.648 clct[np.int64(20), np.int64(20)] clct_ans[np.int64(20), np.int64(20)]  3.192sec\n",
      "result written at output_dfca_gi/results.pickle\n",
      "checkpoint written at output_dfca_gi/checkpoint.pt\n"
     ]
    },
    {
     "name": "stdout",
     "output_type": "stream",
     "text": [
      "Epoch 191 tr: l 1.150 a 0.608 clct[np.int64(52), np.int64(48)] clct_ans[np.int64(48), np.int64(52)]  lr 0.245270 70.347sec(train) 21.037sec(infer)\n"
     ]
    },
    {
     "name": "stdout",
     "output_type": "stream",
     "text": [
      "Epoch 191 tst: l 1.047 a 0.647 clct[np.int64(20), np.int64(20)] clct_ans[np.int64(20), np.int64(20)]  3.179sec\n"
     ]
    },
    {
     "name": "stdout",
     "output_type": "stream",
     "text": [
      "Epoch 192 tr: l 1.146 a 0.609 clct[np.int64(47), np.int64(53)] clct_ans[np.int64(53), np.int64(47)]  lr 0.245246 80.262sec(train) 20.851sec(infer)\n"
     ]
    },
    {
     "name": "stdout",
     "output_type": "stream",
     "text": [
      "Epoch 192 tst: l 1.046 a 0.647 clct[np.int64(20), np.int64(20)] clct_ans[np.int64(20), np.int64(20)]  3.153sec\n"
     ]
    },
    {
     "name": "stdout",
     "output_type": "stream",
     "text": [
      "Epoch 193 tr: l 1.142 a 0.610 clct[np.int64(45), np.int64(55)] clct_ans[np.int64(55), np.int64(45)]  lr 0.245221 78.229sec(train) 21.052sec(infer)\n"
     ]
    },
    {
     "name": "stdout",
     "output_type": "stream",
     "text": [
      "Epoch 193 tst: l 1.042 a 0.649 clct[np.int64(20), np.int64(20)] clct_ans[np.int64(20), np.int64(20)]  3.354sec\n"
     ]
    },
    {
     "name": "stdout",
     "output_type": "stream",
     "text": [
      "Epoch 194 tr: l 1.144 a 0.609 clct[np.int64(50), np.int64(50)] clct_ans[np.int64(50), np.int64(50)]  lr 0.245197 81.002sec(train) 21.077sec(infer)\n"
     ]
    },
    {
     "name": "stdout",
     "output_type": "stream",
     "text": [
      "Epoch 194 tst: l 1.048 a 0.648 clct[np.int64(20), np.int64(20)] clct_ans[np.int64(20), np.int64(20)]  3.193sec\n"
     ]
    },
    {
     "name": "stdout",
     "output_type": "stream",
     "text": [
      "Epoch 195 tr: l 1.142 a 0.610 clct[np.int64(48), np.int64(52)] clct_ans[np.int64(52), np.int64(48)]  lr 0.245172 80.564sec(train) 20.927sec(infer)\n"
     ]
    },
    {
     "name": "stdout",
     "output_type": "stream",
     "text": [
      "Epoch 195 tst: l 1.047 a 0.645 clct[np.int64(20), np.int64(20)] clct_ans[np.int64(20), np.int64(20)]  3.156sec\n"
     ]
    },
    {
     "name": "stdout",
     "output_type": "stream",
     "text": [
      "Epoch 196 tr: l 1.144 a 0.611 clct[np.int64(46), np.int64(54)] clct_ans[np.int64(54), np.int64(46)]  lr 0.245147 79.764sec(train) 21.021sec(infer)\n"
     ]
    },
    {
     "name": "stdout",
     "output_type": "stream",
     "text": [
      "Epoch 196 tst: l 1.046 a 0.649 clct[np.int64(20), np.int64(20)] clct_ans[np.int64(20), np.int64(20)]  3.152sec\n"
     ]
    },
    {
     "name": "stdout",
     "output_type": "stream",
     "text": [
      "Epoch 197 tr: l 1.138 a 0.614 clct[np.int64(47), np.int64(53)] clct_ans[np.int64(53), np.int64(47)]  lr 0.245123 80.362sec(train) 20.885sec(infer)\n"
     ]
    },
    {
     "name": "stdout",
     "output_type": "stream",
     "text": [
      "Epoch 197 tst: l 1.046 a 0.648 clct[np.int64(20), np.int64(20)] clct_ans[np.int64(20), np.int64(20)]  3.157sec\n"
     ]
    },
    {
     "name": "stdout",
     "output_type": "stream",
     "text": [
      "Epoch 198 tr: l 1.150 a 0.609 clct[np.int64(44), np.int64(56)] clct_ans[np.int64(56), np.int64(44)]  lr 0.245098 80.447sec(train) 21.024sec(infer)\n"
     ]
    },
    {
     "name": "stdout",
     "output_type": "stream",
     "text": [
      "Epoch 198 tst: l 1.049 a 0.647 clct[np.int64(20), np.int64(20)] clct_ans[np.int64(20), np.int64(20)]  3.169sec\n"
     ]
    },
    {
     "name": "stdout",
     "output_type": "stream",
     "text": [
      "Epoch 199 tr: l 1.149 a 0.607 clct[np.int64(49), np.int64(51)] clct_ans[np.int64(51), np.int64(49)]  lr 0.245074 79.370sec(train) 20.958sec(infer)\n"
     ]
    },
    {
     "name": "stdout",
     "output_type": "stream",
     "text": [
      "Epoch 199 tst: l 1.049 a 0.647 clct[np.int64(20), np.int64(20)] clct_ans[np.int64(20), np.int64(20)]  3.273sec\n"
     ]
    },
    {
     "name": "stdout",
     "output_type": "stream",
     "text": [
      "Epoch 200 tr: l 1.135 a 0.612 clct[np.int64(46), np.int64(54)] clct_ans[np.int64(54), np.int64(46)]  lr 0.245049 78.957sec(train) 20.925sec(infer)\n"
     ]
    },
    {
     "name": "stdout",
     "output_type": "stream",
     "text": [
      "Epoch 200 tst: l 1.042 a 0.650 clct[np.int64(20), np.int64(20)] clct_ans[np.int64(20), np.int64(20)]  3.148sec\n",
      "result written at output_dfca_gi/results.pickle\n",
      "checkpoint written at output_dfca_gi/checkpoint.pt\n"
     ]
    },
    {
     "name": "stdout",
     "output_type": "stream",
     "text": [
      "Epoch 201 tr: l 1.143 a 0.612 clct[np.int64(48), np.int64(52)] clct_ans[np.int64(52), np.int64(48)]  lr 0.245025 78.533sec(train) 20.877sec(infer)\n"
     ]
    },
    {
     "name": "stdout",
     "output_type": "stream",
     "text": [
      "Epoch 201 tst: l 1.047 a 0.649 clct[np.int64(20), np.int64(20)] clct_ans[np.int64(20), np.int64(20)]  3.156sec\n"
     ]
    },
    {
     "name": "stdout",
     "output_type": "stream",
     "text": [
      "Epoch 202 tr: l 1.142 a 0.611 clct[np.int64(54), np.int64(46)] clct_ans[np.int64(46), np.int64(54)]  lr 0.245000 78.980sec(train) 20.797sec(infer)\n"
     ]
    },
    {
     "name": "stdout",
     "output_type": "stream",
     "text": [
      "Epoch 202 tst: l 1.049 a 0.646 clct[np.int64(20), np.int64(20)] clct_ans[np.int64(20), np.int64(20)]  3.162sec\n"
     ]
    },
    {
     "name": "stdout",
     "output_type": "stream",
     "text": [
      "Epoch 203 tr: l 1.139 a 0.613 clct[np.int64(52), np.int64(48)] clct_ans[np.int64(48), np.int64(52)]  lr 0.244976 78.884sec(train) 20.876sec(infer)\n"
     ]
    },
    {
     "name": "stdout",
     "output_type": "stream",
     "text": [
      "Epoch 203 tst: l 1.046 a 0.648 clct[np.int64(20), np.int64(20)] clct_ans[np.int64(20), np.int64(20)]  3.174sec\n"
     ]
    },
    {
     "name": "stdout",
     "output_type": "stream",
     "text": [
      "Epoch 204 tr: l 1.141 a 0.609 clct[np.int64(51), np.int64(49)] clct_ans[np.int64(49), np.int64(51)]  lr 0.244951 79.240sec(train) 20.844sec(infer)\n"
     ]
    },
    {
     "name": "stdout",
     "output_type": "stream",
     "text": [
      "Epoch 204 tst: l 1.044 a 0.649 clct[np.int64(20), np.int64(20)] clct_ans[np.int64(20), np.int64(20)]  3.228sec\n"
     ]
    },
    {
     "name": "stdout",
     "output_type": "stream",
     "text": [
      "Epoch 205 tr: l 1.151 a 0.609 clct[np.int64(49), np.int64(51)] clct_ans[np.int64(51), np.int64(49)]  lr 0.244927 77.065sec(train) 20.905sec(infer)\n"
     ]
    },
    {
     "name": "stdout",
     "output_type": "stream",
     "text": [
      "Epoch 205 tst: l 1.051 a 0.648 clct[np.int64(20), np.int64(20)] clct_ans[np.int64(20), np.int64(20)]  3.190sec\n"
     ]
    },
    {
     "name": "stdout",
     "output_type": "stream",
     "text": [
      "Epoch 206 tr: l 1.142 a 0.613 clct[np.int64(46), np.int64(54)] clct_ans[np.int64(54), np.int64(46)]  lr 0.244902 79.653sec(train) 20.913sec(infer)\n"
     ]
    },
    {
     "name": "stdout",
     "output_type": "stream",
     "text": [
      "Epoch 206 tst: l 1.048 a 0.648 clct[np.int64(20), np.int64(20)] clct_ans[np.int64(20), np.int64(20)]  3.195sec\n"
     ]
    },
    {
     "name": "stdout",
     "output_type": "stream",
     "text": [
      "Epoch 207 tr: l 1.145 a 0.612 clct[np.int64(49), np.int64(51)] clct_ans[np.int64(51), np.int64(49)]  lr 0.244878 79.580sec(train) 21.099sec(infer)\n"
     ]
    },
    {
     "name": "stdout",
     "output_type": "stream",
     "text": [
      "Epoch 207 tst: l 1.049 a 0.647 clct[np.int64(20), np.int64(20)] clct_ans[np.int64(20), np.int64(20)]  3.172sec\n"
     ]
    },
    {
     "name": "stdout",
     "output_type": "stream",
     "text": [
      "Epoch 208 tr: l 1.147 a 0.609 clct[np.int64(43), np.int64(57)] clct_ans[np.int64(57), np.int64(43)]  lr 0.244853 77.200sec(train) 21.025sec(infer)\n"
     ]
    },
    {
     "name": "stdout",
     "output_type": "stream",
     "text": [
      "Epoch 208 tst: l 1.042 a 0.651 clct[np.int64(20), np.int64(20)] clct_ans[np.int64(20), np.int64(20)]  3.283sec\n"
     ]
    },
    {
     "name": "stdout",
     "output_type": "stream",
     "text": [
      "Epoch 209 tr: l 1.146 a 0.613 clct[np.int64(53), np.int64(47)] clct_ans[np.int64(47), np.int64(53)]  lr 0.244829 79.168sec(train) 20.924sec(infer)\n"
     ]
    },
    {
     "name": "stdout",
     "output_type": "stream",
     "text": [
      "Epoch 209 tst: l 1.047 a 0.649 clct[np.int64(20), np.int64(20)] clct_ans[np.int64(20), np.int64(20)]  3.196sec\n"
     ]
    },
    {
     "name": "stdout",
     "output_type": "stream",
     "text": [
      "Epoch 210 tr: l 1.145 a 0.611 clct[np.int64(56), np.int64(44)] clct_ans[np.int64(44), np.int64(56)]  lr 0.244804 77.274sec(train) 20.933sec(infer)\n"
     ]
    },
    {
     "name": "stdout",
     "output_type": "stream",
     "text": [
      "Epoch 210 tst: l 1.046 a 0.648 clct[np.int64(20), np.int64(20)] clct_ans[np.int64(20), np.int64(20)]  3.198sec\n",
      "result written at output_dfca_gi/results.pickle\n",
      "checkpoint written at output_dfca_gi/checkpoint.pt\n"
     ]
    },
    {
     "name": "stdout",
     "output_type": "stream",
     "text": [
      "Epoch 211 tr: l 1.143 a 0.610 clct[np.int64(50), np.int64(50)] clct_ans[np.int64(50), np.int64(50)]  lr 0.244780 78.363sec(train) 20.857sec(infer)\n"
     ]
    },
    {
     "name": "stdout",
     "output_type": "stream",
     "text": [
      "Epoch 211 tst: l 1.048 a 0.647 clct[np.int64(20), np.int64(20)] clct_ans[np.int64(20), np.int64(20)]  3.182sec\n"
     ]
    },
    {
     "name": "stdout",
     "output_type": "stream",
     "text": [
      "Epoch 212 tr: l 1.144 a 0.611 clct[np.int64(51), np.int64(49)] clct_ans[np.int64(49), np.int64(51)]  lr 0.244756 80.192sec(train) 21.093sec(infer)\n"
     ]
    },
    {
     "name": "stdout",
     "output_type": "stream",
     "text": [
      "Epoch 212 tst: l 1.045 a 0.648 clct[np.int64(20), np.int64(20)] clct_ans[np.int64(20), np.int64(20)]  3.182sec\n"
     ]
    },
    {
     "name": "stdout",
     "output_type": "stream",
     "text": [
      "Epoch 213 tr: l 1.148 a 0.611 clct[np.int64(54), np.int64(46)] clct_ans[np.int64(46), np.int64(54)]  lr 0.244731 79.948sec(train) 20.947sec(infer)\n"
     ]
    },
    {
     "name": "stdout",
     "output_type": "stream",
     "text": [
      "Epoch 213 tst: l 1.045 a 0.650 clct[np.int64(20), np.int64(20)] clct_ans[np.int64(20), np.int64(20)]  3.260sec\n"
     ]
    },
    {
     "name": "stdout",
     "output_type": "stream",
     "text": [
      "Epoch 214 tr: l 1.144 a 0.609 clct[np.int64(51), np.int64(49)] clct_ans[np.int64(49), np.int64(51)]  lr 0.244707 77.975sec(train) 20.965sec(infer)\n"
     ]
    },
    {
     "name": "stdout",
     "output_type": "stream",
     "text": [
      "Epoch 214 tst: l 1.044 a 0.650 clct[np.int64(20), np.int64(20)] clct_ans[np.int64(20), np.int64(20)]  3.164sec\n"
     ]
    },
    {
     "name": "stdout",
     "output_type": "stream",
     "text": [
      "Epoch 215 tr: l 1.142 a 0.613 clct[np.int64(52), np.int64(48)] clct_ans[np.int64(48), np.int64(52)]  lr 0.244682 79.804sec(train) 20.956sec(infer)\n"
     ]
    },
    {
     "name": "stdout",
     "output_type": "stream",
     "text": [
      "Epoch 215 tst: l 1.043 a 0.650 clct[np.int64(20), np.int64(20)] clct_ans[np.int64(20), np.int64(20)]  3.157sec\n"
     ]
    },
    {
     "name": "stdout",
     "output_type": "stream",
     "text": [
      "Epoch 216 tr: l 1.139 a 0.613 clct[np.int64(47), np.int64(53)] clct_ans[np.int64(53), np.int64(47)]  lr 0.244658 79.247sec(train) 20.817sec(infer)\n"
     ]
    },
    {
     "name": "stdout",
     "output_type": "stream",
     "text": [
      "Epoch 216 tst: l 1.041 a 0.648 clct[np.int64(20), np.int64(20)] clct_ans[np.int64(20), np.int64(20)]  3.145sec\n"
     ]
    },
    {
     "name": "stdout",
     "output_type": "stream",
     "text": [
      "Epoch 217 tr: l 1.145 a 0.612 clct[np.int64(55), np.int64(45)] clct_ans[np.int64(45), np.int64(55)]  lr 0.244633 80.998sec(train) 20.958sec(infer)\n"
     ]
    },
    {
     "name": "stdout",
     "output_type": "stream",
     "text": [
      "Epoch 217 tst: l 1.043 a 0.650 clct[np.int64(20), np.int64(20)] clct_ans[np.int64(20), np.int64(20)]  3.154sec\n"
     ]
    },
    {
     "name": "stdout",
     "output_type": "stream",
     "text": [
      "Epoch 218 tr: l 1.145 a 0.611 clct[np.int64(46), np.int64(54)] clct_ans[np.int64(54), np.int64(46)]  lr 0.244609 78.678sec(train) 20.837sec(infer)\n"
     ]
    },
    {
     "name": "stdout",
     "output_type": "stream",
     "text": [
      "Epoch 218 tst: l 1.042 a 0.651 clct[np.int64(20), np.int64(20)] clct_ans[np.int64(20), np.int64(20)]  3.204sec\n"
     ]
    },
    {
     "name": "stdout",
     "output_type": "stream",
     "text": [
      "Epoch 219 tr: l 1.139 a 0.613 clct[np.int64(51), np.int64(49)] clct_ans[np.int64(49), np.int64(51)]  lr 0.244584 78.850sec(train) 20.883sec(infer)\n"
     ]
    },
    {
     "name": "stdout",
     "output_type": "stream",
     "text": [
      "Epoch 219 tst: l 1.041 a 0.650 clct[np.int64(20), np.int64(20)] clct_ans[np.int64(20), np.int64(20)]  3.205sec\n"
     ]
    },
    {
     "name": "stdout",
     "output_type": "stream",
     "text": [
      "Epoch 220 tr: l 1.136 a 0.613 clct[np.int64(49), np.int64(51)] clct_ans[np.int64(51), np.int64(49)]  lr 0.244560 79.594sec(train) 20.881sec(infer)\n"
     ]
    },
    {
     "name": "stdout",
     "output_type": "stream",
     "text": [
      "Epoch 220 tst: l 1.041 a 0.651 clct[np.int64(20), np.int64(20)] clct_ans[np.int64(20), np.int64(20)]  3.202sec\n",
      "result written at output_dfca_gi/results.pickle\n",
      "checkpoint written at output_dfca_gi/checkpoint.pt\n"
     ]
    },
    {
     "name": "stdout",
     "output_type": "stream",
     "text": [
      "Epoch 221 tr: l 1.148 a 0.607 clct[np.int64(49), np.int64(51)] clct_ans[np.int64(51), np.int64(49)]  lr 0.244535 80.686sec(train) 21.096sec(infer)\n"
     ]
    },
    {
     "name": "stdout",
     "output_type": "stream",
     "text": [
      "Epoch 221 tst: l 1.037 a 0.651 clct[np.int64(20), np.int64(20)] clct_ans[np.int64(20), np.int64(20)]  3.187sec\n"
     ]
    },
    {
     "name": "stdout",
     "output_type": "stream",
     "text": [
      "Epoch 222 tr: l 1.148 a 0.607 clct[np.int64(55), np.int64(45)] clct_ans[np.int64(45), np.int64(55)]  lr 0.244511 81.291sec(train) 20.975sec(infer)\n"
     ]
    },
    {
     "name": "stdout",
     "output_type": "stream",
     "text": [
      "Epoch 222 tst: l 1.041 a 0.652 clct[np.int64(20), np.int64(20)] clct_ans[np.int64(20), np.int64(20)]  3.177sec\n"
     ]
    },
    {
     "name": "stdout",
     "output_type": "stream",
     "text": [
      "Epoch 223 tr: l 1.139 a 0.612 clct[np.int64(55), np.int64(45)] clct_ans[np.int64(45), np.int64(55)]  lr 0.244486 80.670sec(train) 20.981sec(infer)\n"
     ]
    },
    {
     "name": "stdout",
     "output_type": "stream",
     "text": [
      "Epoch 223 tst: l 1.040 a 0.650 clct[np.int64(20), np.int64(20)] clct_ans[np.int64(20), np.int64(20)]  3.250sec\n"
     ]
    },
    {
     "name": "stdout",
     "output_type": "stream",
     "text": [
      "Epoch 224 tr: l 1.131 a 0.616 clct[np.int64(49), np.int64(51)] clct_ans[np.int64(51), np.int64(49)]  lr 0.244462 78.276sec(train) 21.099sec(infer)\n"
     ]
    },
    {
     "name": "stdout",
     "output_type": "stream",
     "text": [
      "Epoch 224 tst: l 1.043 a 0.650 clct[np.int64(20), np.int64(20)] clct_ans[np.int64(20), np.int64(20)]  3.209sec\n"
     ]
    },
    {
     "name": "stdout",
     "output_type": "stream",
     "text": [
      "Epoch 225 tr: l 1.142 a 0.611 clct[np.int64(45), np.int64(55)] clct_ans[np.int64(55), np.int64(45)]  lr 0.244438 78.457sec(train) 20.935sec(infer)\n"
     ]
    },
    {
     "name": "stdout",
     "output_type": "stream",
     "text": [
      "Epoch 225 tst: l 1.044 a 0.650 clct[np.int64(20), np.int64(20)] clct_ans[np.int64(20), np.int64(20)]  3.191sec\n"
     ]
    },
    {
     "name": "stdout",
     "output_type": "stream",
     "text": [
      "Epoch 226 tr: l 1.131 a 0.614 clct[np.int64(49), np.int64(51)] clct_ans[np.int64(51), np.int64(49)]  lr 0.244413 78.312sec(train) 20.893sec(infer)\n"
     ]
    },
    {
     "name": "stdout",
     "output_type": "stream",
     "text": [
      "Epoch 226 tst: l 1.042 a 0.650 clct[np.int64(20), np.int64(20)] clct_ans[np.int64(20), np.int64(20)]  3.181sec\n"
     ]
    },
    {
     "name": "stdout",
     "output_type": "stream",
     "text": [
      "Epoch 227 tr: l 1.145 a 0.610 clct[np.int64(51), np.int64(49)] clct_ans[np.int64(49), np.int64(51)]  lr 0.244389 77.364sec(train) 21.113sec(infer)\n"
     ]
    },
    {
     "name": "stdout",
     "output_type": "stream",
     "text": [
      "Epoch 227 tst: l 1.041 a 0.648 clct[np.int64(20), np.int64(20)] clct_ans[np.int64(20), np.int64(20)]  3.232sec\n"
     ]
    },
    {
     "name": "stdout",
     "output_type": "stream",
     "text": [
      "Epoch 228 tr: l 1.150 a 0.608 clct[np.int64(53), np.int64(47)] clct_ans[np.int64(47), np.int64(53)]  lr 0.244364 76.386sec(train) 20.953sec(infer)\n"
     ]
    },
    {
     "name": "stdout",
     "output_type": "stream",
     "text": [
      "Epoch 228 tst: l 1.044 a 0.650 clct[np.int64(20), np.int64(20)] clct_ans[np.int64(20), np.int64(20)]  3.201sec\n"
     ]
    },
    {
     "name": "stdout",
     "output_type": "stream",
     "text": [
      "Epoch 229 tr: l 1.133 a 0.614 clct[np.int64(51), np.int64(49)] clct_ans[np.int64(49), np.int64(51)]  lr 0.244340 78.085sec(train) 20.958sec(infer)\n"
     ]
    },
    {
     "name": "stdout",
     "output_type": "stream",
     "text": [
      "Epoch 229 tst: l 1.038 a 0.650 clct[np.int64(20), np.int64(20)] clct_ans[np.int64(20), np.int64(20)]  3.202sec\n"
     ]
    },
    {
     "name": "stdout",
     "output_type": "stream",
     "text": [
      "Epoch 230 tr: l 1.135 a 0.612 clct[np.int64(56), np.int64(44)] clct_ans[np.int64(44), np.int64(56)]  lr 0.244315 79.347sec(train) 20.800sec(infer)\n"
     ]
    },
    {
     "name": "stdout",
     "output_type": "stream",
     "text": [
      "Epoch 230 tst: l 1.038 a 0.652 clct[np.int64(20), np.int64(20)] clct_ans[np.int64(20), np.int64(20)]  3.177sec\n",
      "result written at output_dfca_gi/results.pickle\n",
      "checkpoint written at output_dfca_gi/checkpoint.pt\n"
     ]
    },
    {
     "name": "stdout",
     "output_type": "stream",
     "text": [
      "Epoch 231 tr: l 1.137 a 0.614 clct[np.int64(44), np.int64(56)] clct_ans[np.int64(56), np.int64(44)]  lr 0.244291 78.533sec(train) 21.030sec(infer)\n"
     ]
    },
    {
     "name": "stdout",
     "output_type": "stream",
     "text": [
      "Epoch 231 tst: l 1.040 a 0.650 clct[np.int64(20), np.int64(20)] clct_ans[np.int64(20), np.int64(20)]  3.178sec\n"
     ]
    },
    {
     "name": "stdout",
     "output_type": "stream",
     "text": [
      "Epoch 232 tr: l 1.143 a 0.614 clct[np.int64(52), np.int64(48)] clct_ans[np.int64(48), np.int64(52)]  lr 0.244266 78.922sec(train) 20.897sec(infer)\n"
     ]
    },
    {
     "name": "stdout",
     "output_type": "stream",
     "text": [
      "Epoch 232 tst: l 1.044 a 0.649 clct[np.int64(20), np.int64(20)] clct_ans[np.int64(20), np.int64(20)]  3.256sec\n"
     ]
    },
    {
     "name": "stdout",
     "output_type": "stream",
     "text": [
      "Epoch 233 tr: l 1.140 a 0.611 clct[np.int64(52), np.int64(48)] clct_ans[np.int64(48), np.int64(52)]  lr 0.244242 79.862sec(train) 20.939sec(infer)\n"
     ]
    },
    {
     "name": "stdout",
     "output_type": "stream",
     "text": [
      "Epoch 233 tst: l 1.041 a 0.652 clct[np.int64(20), np.int64(20)] clct_ans[np.int64(20), np.int64(20)]  3.202sec\n"
     ]
    },
    {
     "name": "stdout",
     "output_type": "stream",
     "text": [
      "Epoch 234 tr: l 1.133 a 0.614 clct[np.int64(47), np.int64(53)] clct_ans[np.int64(53), np.int64(47)]  lr 0.244218 78.486sec(train) 20.926sec(infer)\n"
     ]
    },
    {
     "name": "stdout",
     "output_type": "stream",
     "text": [
      "Epoch 234 tst: l 1.043 a 0.648 clct[np.int64(20), np.int64(20)] clct_ans[np.int64(20), np.int64(20)]  3.204sec\n"
     ]
    },
    {
     "name": "stdout",
     "output_type": "stream",
     "text": [
      "Epoch 235 tr: l 1.153 a 0.607 clct[np.int64(48), np.int64(52)] clct_ans[np.int64(52), np.int64(48)]  lr 0.244193 78.950sec(train) 20.848sec(infer)\n"
     ]
    },
    {
     "name": "stdout",
     "output_type": "stream",
     "text": [
      "Epoch 235 tst: l 1.043 a 0.648 clct[np.int64(20), np.int64(20)] clct_ans[np.int64(20), np.int64(20)]  3.182sec\n"
     ]
    },
    {
     "name": "stdout",
     "output_type": "stream",
     "text": [
      "Epoch 236 tr: l 1.144 a 0.612 clct[np.int64(49), np.int64(51)] clct_ans[np.int64(51), np.int64(49)]  lr 0.244169 79.495sec(train) 21.034sec(infer)\n"
     ]
    },
    {
     "name": "stdout",
     "output_type": "stream",
     "text": [
      "Epoch 236 tst: l 1.044 a 0.650 clct[np.int64(20), np.int64(20)] clct_ans[np.int64(20), np.int64(20)]  3.221sec\n"
     ]
    },
    {
     "name": "stdout",
     "output_type": "stream",
     "text": [
      "Epoch 237 tr: l 1.139 a 0.612 clct[np.int64(48), np.int64(52)] clct_ans[np.int64(52), np.int64(48)]  lr 0.244144 78.405sec(train) 20.930sec(infer)\n"
     ]
    },
    {
     "name": "stdout",
     "output_type": "stream",
     "text": [
      "Epoch 237 tst: l 1.038 a 0.652 clct[np.int64(20), np.int64(20)] clct_ans[np.int64(20), np.int64(20)]  3.225sec\n"
     ]
    },
    {
     "name": "stdout",
     "output_type": "stream",
     "text": [
      "Epoch 238 tr: l 1.143 a 0.612 clct[np.int64(54), np.int64(46)] clct_ans[np.int64(46), np.int64(54)]  lr 0.244120 79.328sec(train) 20.919sec(infer)\n"
     ]
    },
    {
     "name": "stdout",
     "output_type": "stream",
     "text": [
      "Epoch 238 tst: l 1.043 a 0.651 clct[np.int64(20), np.int64(20)] clct_ans[np.int64(20), np.int64(20)]  3.193sec\n"
     ]
    },
    {
     "name": "stdout",
     "output_type": "stream",
     "text": [
      "Epoch 239 tr: l 1.134 a 0.615 clct[np.int64(55), np.int64(45)] clct_ans[np.int64(45), np.int64(55)]  lr 0.244096 78.546sec(train) 20.942sec(infer)\n"
     ]
    },
    {
     "name": "stdout",
     "output_type": "stream",
     "text": [
      "Epoch 239 tst: l 1.043 a 0.651 clct[np.int64(20), np.int64(20)] clct_ans[np.int64(20), np.int64(20)]  3.204sec\n"
     ]
    },
    {
     "name": "stdout",
     "output_type": "stream",
     "text": [
      "Epoch 240 tr: l 1.128 a 0.614 clct[np.int64(49), np.int64(51)] clct_ans[np.int64(51), np.int64(49)]  lr 0.244071 78.838sec(train) 21.188sec(infer)\n"
     ]
    },
    {
     "name": "stdout",
     "output_type": "stream",
     "text": [
      "Epoch 240 tst: l 1.042 a 0.651 clct[np.int64(20), np.int64(20)] clct_ans[np.int64(20), np.int64(20)]  3.172sec\n",
      "result written at output_dfca_gi/results.pickle\n",
      "checkpoint written at output_dfca_gi/checkpoint.pt\n"
     ]
    },
    {
     "name": "stdout",
     "output_type": "stream",
     "text": [
      "Epoch 241 tr: l 1.140 a 0.613 clct[np.int64(49), np.int64(51)] clct_ans[np.int64(51), np.int64(49)]  lr 0.244047 80.765sec(train) 20.998sec(infer)\n"
     ]
    },
    {
     "name": "stdout",
     "output_type": "stream",
     "text": [
      "Epoch 241 tst: l 1.042 a 0.649 clct[np.int64(20), np.int64(20)] clct_ans[np.int64(20), np.int64(20)]  3.253sec\n"
     ]
    },
    {
     "name": "stdout",
     "output_type": "stream",
     "text": [
      "Epoch 242 tr: l 1.150 a 0.608 clct[np.int64(44), np.int64(56)] clct_ans[np.int64(56), np.int64(44)]  lr 0.244022 77.789sec(train) 20.963sec(infer)\n"
     ]
    },
    {
     "name": "stdout",
     "output_type": "stream",
     "text": [
      "Epoch 242 tst: l 1.041 a 0.650 clct[np.int64(20), np.int64(20)] clct_ans[np.int64(20), np.int64(20)]  3.205sec\n"
     ]
    },
    {
     "name": "stdout",
     "output_type": "stream",
     "text": [
      "Epoch 243 tr: l 1.131 a 0.613 clct[np.int64(55), np.int64(45)] clct_ans[np.int64(45), np.int64(55)]  lr 0.243998 79.254sec(train) 20.943sec(infer)\n"
     ]
    },
    {
     "name": "stdout",
     "output_type": "stream",
     "text": [
      "Epoch 243 tst: l 1.040 a 0.651 clct[np.int64(20), np.int64(20)] clct_ans[np.int64(20), np.int64(20)]  3.217sec\n"
     ]
    },
    {
     "name": "stdout",
     "output_type": "stream",
     "text": [
      "Epoch 244 tr: l 1.141 a 0.614 clct[np.int64(52), np.int64(48)] clct_ans[np.int64(48), np.int64(52)]  lr 0.243974 78.950sec(train) 20.864sec(infer)\n"
     ]
    },
    {
     "name": "stdout",
     "output_type": "stream",
     "text": [
      "Epoch 244 tst: l 1.039 a 0.650 clct[np.int64(20), np.int64(20)] clct_ans[np.int64(20), np.int64(20)]  3.179sec\n"
     ]
    },
    {
     "name": "stdout",
     "output_type": "stream",
     "text": [
      "Epoch 245 tr: l 1.140 a 0.613 clct[np.int64(46), np.int64(54)] clct_ans[np.int64(54), np.int64(46)]  lr 0.243949 77.734sec(train) 20.987sec(infer)\n"
     ]
    },
    {
     "name": "stdout",
     "output_type": "stream",
     "text": [
      "Epoch 245 tst: l 1.041 a 0.649 clct[np.int64(20), np.int64(20)] clct_ans[np.int64(20), np.int64(20)]  3.205sec\n"
     ]
    },
    {
     "name": "stdout",
     "output_type": "stream",
     "text": [
      "Epoch 246 tr: l 1.136 a 0.613 clct[np.int64(49), np.int64(51)] clct_ans[np.int64(51), np.int64(49)]  lr 0.243925 78.615sec(train) 20.854sec(infer)\n"
     ]
    },
    {
     "name": "stdout",
     "output_type": "stream",
     "text": [
      "Epoch 246 tst: l 1.040 a 0.651 clct[np.int64(20), np.int64(20)] clct_ans[np.int64(20), np.int64(20)]  3.193sec\n"
     ]
    },
    {
     "name": "stdout",
     "output_type": "stream",
     "text": [
      "Epoch 247 tr: l 1.137 a 0.613 clct[np.int64(44), np.int64(56)] clct_ans[np.int64(56), np.int64(44)]  lr 0.243900 78.621sec(train) 20.903sec(infer)\n"
     ]
    },
    {
     "name": "stdout",
     "output_type": "stream",
     "text": [
      "Epoch 247 tst: l 1.041 a 0.650 clct[np.int64(20), np.int64(20)] clct_ans[np.int64(20), np.int64(20)]  3.188sec\n"
     ]
    },
    {
     "name": "stdout",
     "output_type": "stream",
     "text": [
      "Epoch 248 tr: l 1.143 a 0.612 clct[np.int64(49), np.int64(51)] clct_ans[np.int64(51), np.int64(49)]  lr 0.243876 77.697sec(train) 20.818sec(infer)\n"
     ]
    },
    {
     "name": "stdout",
     "output_type": "stream",
     "text": [
      "Epoch 248 tst: l 1.047 a 0.649 clct[np.int64(20), np.int64(20)] clct_ans[np.int64(20), np.int64(20)]  3.197sec\n"
     ]
    },
    {
     "name": "stdout",
     "output_type": "stream",
     "text": [
      "Epoch 249 tr: l 1.137 a 0.612 clct[np.int64(44), np.int64(56)] clct_ans[np.int64(56), np.int64(44)]  lr 0.243852 78.657sec(train) 20.850sec(infer)\n"
     ]
    },
    {
     "name": "stdout",
     "output_type": "stream",
     "text": [
      "Epoch 249 tst: l 1.040 a 0.652 clct[np.int64(20), np.int64(20)] clct_ans[np.int64(20), np.int64(20)]  3.387sec\n"
     ]
    },
    {
     "name": "stdout",
     "output_type": "stream",
     "text": [
      "Epoch 250 tr: l 1.136 a 0.614 clct[np.int64(48), np.int64(52)] clct_ans[np.int64(52), np.int64(48)]  lr 0.243827 78.063sec(train) 20.888sec(infer)\n"
     ]
    },
    {
     "name": "stdout",
     "output_type": "stream",
     "text": [
      "Epoch 250 tst: l 1.042 a 0.648 clct[np.int64(20), np.int64(20)] clct_ans[np.int64(20), np.int64(20)]  3.254sec\n",
      "result written at output_dfca_gi/results.pickle\n",
      "checkpoint written at output_dfca_gi/checkpoint.pt\n"
     ]
    },
    {
     "name": "stdout",
     "output_type": "stream",
     "text": [
      "Epoch 251 tr: l 1.142 a 0.614 clct[np.int64(42), np.int64(58)] clct_ans[np.int64(58), np.int64(42)]  lr 0.243803 80.113sec(train) 20.849sec(infer)\n"
     ]
    },
    {
     "name": "stdout",
     "output_type": "stream",
     "text": [
      "Epoch 251 tst: l 1.044 a 0.648 clct[np.int64(20), np.int64(20)] clct_ans[np.int64(20), np.int64(20)]  3.184sec\n"
     ]
    },
    {
     "name": "stdout",
     "output_type": "stream",
     "text": [
      "Epoch 252 tr: l 1.142 a 0.610 clct[np.int64(54), np.int64(46)] clct_ans[np.int64(46), np.int64(54)]  lr 0.243778 75.244sec(train) 20.776sec(infer)\n"
     ]
    },
    {
     "name": "stdout",
     "output_type": "stream",
     "text": [
      "Epoch 252 tst: l 1.045 a 0.648 clct[np.int64(20), np.int64(20)] clct_ans[np.int64(20), np.int64(20)]  3.168sec\n"
     ]
    },
    {
     "name": "stdout",
     "output_type": "stream",
     "text": [
      "Epoch 253 tr: l 1.143 a 0.613 clct[np.int64(45), np.int64(55)] clct_ans[np.int64(55), np.int64(45)]  lr 0.243754 77.943sec(train) 20.917sec(infer)\n"
     ]
    },
    {
     "name": "stdout",
     "output_type": "stream",
     "text": [
      "Epoch 253 tst: l 1.041 a 0.649 clct[np.int64(20), np.int64(20)] clct_ans[np.int64(20), np.int64(20)]  3.166sec\n"
     ]
    },
    {
     "name": "stdout",
     "output_type": "stream",
     "text": [
      "Epoch 254 tr: l 1.132 a 0.615 clct[np.int64(50), np.int64(50)] clct_ans[np.int64(50), np.int64(50)]  lr 0.243730 78.687sec(train) 21.001sec(infer)\n"
     ]
    },
    {
     "name": "stdout",
     "output_type": "stream",
     "text": [
      "Epoch 254 tst: l 1.040 a 0.650 clct[np.int64(20), np.int64(20)] clct_ans[np.int64(20), np.int64(20)]  3.153sec\n"
     ]
    },
    {
     "name": "stdout",
     "output_type": "stream",
     "text": [
      "Epoch 255 tr: l 1.136 a 0.614 clct[np.int64(52), np.int64(48)] clct_ans[np.int64(48), np.int64(52)]  lr 0.243705 78.568sec(train) 20.896sec(infer)\n"
     ]
    },
    {
     "name": "stdout",
     "output_type": "stream",
     "text": [
      "Epoch 255 tst: l 1.036 a 0.652 clct[np.int64(20), np.int64(20)] clct_ans[np.int64(20), np.int64(20)]  3.175sec\n"
     ]
    },
    {
     "name": "stdout",
     "output_type": "stream",
     "text": [
      "Epoch 256 tr: l 1.132 a 0.614 clct[np.int64(54), np.int64(46)] clct_ans[np.int64(46), np.int64(54)]  lr 0.243681 77.743sec(train) 20.927sec(infer)\n"
     ]
    },
    {
     "name": "stdout",
     "output_type": "stream",
     "text": [
      "Epoch 256 tst: l 1.034 a 0.653 clct[np.int64(20), np.int64(20)] clct_ans[np.int64(20), np.int64(20)]  3.176sec\n"
     ]
    },
    {
     "name": "stdout",
     "output_type": "stream",
     "text": [
      "Epoch 257 tr: l 1.126 a 0.615 clct[np.int64(51), np.int64(49)] clct_ans[np.int64(49), np.int64(51)]  lr 0.243657 80.533sec(train) 20.875sec(infer)\n"
     ]
    },
    {
     "name": "stdout",
     "output_type": "stream",
     "text": [
      "Epoch 257 tst: l 1.033 a 0.651 clct[np.int64(20), np.int64(20)] clct_ans[np.int64(20), np.int64(20)]  3.183sec\n"
     ]
    },
    {
     "name": "stdout",
     "output_type": "stream",
     "text": [
      "Epoch 258 tr: l 1.142 a 0.611 clct[np.int64(49), np.int64(51)] clct_ans[np.int64(51), np.int64(49)]  lr 0.243632 79.669sec(train) 20.933sec(infer)\n"
     ]
    },
    {
     "name": "stdout",
     "output_type": "stream",
     "text": [
      "Epoch 258 tst: l 1.038 a 0.651 clct[np.int64(20), np.int64(20)] clct_ans[np.int64(20), np.int64(20)]  3.171sec\n"
     ]
    },
    {
     "name": "stdout",
     "output_type": "stream",
     "text": [
      "Epoch 259 tr: l 1.137 a 0.614 clct[np.int64(47), np.int64(53)] clct_ans[np.int64(53), np.int64(47)]  lr 0.243608 78.460sec(train) 21.038sec(infer)\n"
     ]
    },
    {
     "name": "stdout",
     "output_type": "stream",
     "text": [
      "Epoch 259 tst: l 1.038 a 0.653 clct[np.int64(20), np.int64(20)] clct_ans[np.int64(20), np.int64(20)]  3.267sec\n"
     ]
    },
    {
     "name": "stdout",
     "output_type": "stream",
     "text": [
      "Epoch 260 tr: l 1.144 a 0.610 clct[np.int64(46), np.int64(54)] clct_ans[np.int64(54), np.int64(46)]  lr 0.243583 78.919sec(train) 20.903sec(infer)\n"
     ]
    },
    {
     "name": "stdout",
     "output_type": "stream",
     "text": [
      "Epoch 260 tst: l 1.040 a 0.652 clct[np.int64(20), np.int64(20)] clct_ans[np.int64(20), np.int64(20)]  3.185sec\n",
      "result written at output_dfca_gi/results.pickle\n",
      "checkpoint written at output_dfca_gi/checkpoint.pt\n"
     ]
    },
    {
     "name": "stdout",
     "output_type": "stream",
     "text": [
      "Epoch 261 tr: l 1.141 a 0.612 clct[np.int64(48), np.int64(52)] clct_ans[np.int64(52), np.int64(48)]  lr 0.243559 78.074sec(train) 20.914sec(infer)\n"
     ]
    },
    {
     "name": "stdout",
     "output_type": "stream",
     "text": [
      "Epoch 261 tst: l 1.043 a 0.649 clct[np.int64(20), np.int64(20)] clct_ans[np.int64(20), np.int64(20)]  3.196sec\n"
     ]
    },
    {
     "name": "stdout",
     "output_type": "stream",
     "text": [
      "Epoch 262 tr: l 1.123 a 0.616 clct[np.int64(48), np.int64(52)] clct_ans[np.int64(52), np.int64(48)]  lr 0.243535 77.832sec(train) 20.867sec(infer)\n"
     ]
    },
    {
     "name": "stdout",
     "output_type": "stream",
     "text": [
      "Epoch 262 tst: l 1.040 a 0.650 clct[np.int64(20), np.int64(20)] clct_ans[np.int64(20), np.int64(20)]  3.196sec\n"
     ]
    },
    {
     "name": "stdout",
     "output_type": "stream",
     "text": [
      "Epoch 263 tr: l 1.141 a 0.613 clct[np.int64(53), np.int64(47)] clct_ans[np.int64(47), np.int64(53)]  lr 0.243510 78.256sec(train) 20.995sec(infer)\n"
     ]
    },
    {
     "name": "stdout",
     "output_type": "stream",
     "text": [
      "Epoch 263 tst: l 1.038 a 0.652 clct[np.int64(20), np.int64(20)] clct_ans[np.int64(20), np.int64(20)]  3.175sec\n"
     ]
    },
    {
     "name": "stdout",
     "output_type": "stream",
     "text": [
      "Epoch 264 tr: l 1.141 a 0.615 clct[np.int64(50), np.int64(50)] clct_ans[np.int64(50), np.int64(50)]  lr 0.243486 78.644sec(train) 21.023sec(infer)\n"
     ]
    },
    {
     "name": "stdout",
     "output_type": "stream",
     "text": [
      "Epoch 264 tst: l 1.038 a 0.653 clct[np.int64(20), np.int64(20)] clct_ans[np.int64(20), np.int64(20)]  3.203sec\n"
     ]
    },
    {
     "name": "stdout",
     "output_type": "stream",
     "text": [
      "Epoch 265 tr: l 1.148 a 0.610 clct[np.int64(42), np.int64(58)] clct_ans[np.int64(58), np.int64(42)]  lr 0.243462 78.640sec(train) 20.857sec(infer)\n"
     ]
    },
    {
     "name": "stdout",
     "output_type": "stream",
     "text": [
      "Epoch 265 tst: l 1.038 a 0.652 clct[np.int64(20), np.int64(20)] clct_ans[np.int64(20), np.int64(20)]  3.199sec\n"
     ]
    },
    {
     "name": "stdout",
     "output_type": "stream",
     "text": [
      "Epoch 266 tr: l 1.137 a 0.614 clct[np.int64(50), np.int64(50)] clct_ans[np.int64(50), np.int64(50)]  lr 0.243437 77.868sec(train) 20.897sec(infer)\n"
     ]
    },
    {
     "name": "stdout",
     "output_type": "stream",
     "text": [
      "Epoch 266 tst: l 1.041 a 0.649 clct[np.int64(20), np.int64(20)] clct_ans[np.int64(20), np.int64(20)]  3.198sec\n"
     ]
    },
    {
     "name": "stdout",
     "output_type": "stream",
     "text": [
      "Epoch 267 tr: l 1.140 a 0.612 clct[np.int64(53), np.int64(47)] clct_ans[np.int64(47), np.int64(53)]  lr 0.243413 77.703sec(train) 20.910sec(infer)\n"
     ]
    },
    {
     "name": "stdout",
     "output_type": "stream",
     "text": [
      "Epoch 267 tst: l 1.039 a 0.650 clct[np.int64(20), np.int64(20)] clct_ans[np.int64(20), np.int64(20)]  3.151sec\n"
     ]
    },
    {
     "name": "stdout",
     "output_type": "stream",
     "text": [
      "Epoch 268 tr: l 1.136 a 0.612 clct[np.int64(47), np.int64(53)] clct_ans[np.int64(53), np.int64(47)]  lr 0.243389 77.849sec(train) 20.926sec(infer)\n"
     ]
    },
    {
     "name": "stdout",
     "output_type": "stream",
     "text": [
      "Epoch 268 tst: l 1.036 a 0.650 clct[np.int64(20), np.int64(20)] clct_ans[np.int64(20), np.int64(20)]  3.229sec\n"
     ]
    },
    {
     "name": "stdout",
     "output_type": "stream",
     "text": [
      "Epoch 269 tr: l 1.139 a 0.612 clct[np.int64(53), np.int64(47)] clct_ans[np.int64(47), np.int64(53)]  lr 0.243364 77.818sec(train) 20.858sec(infer)\n"
     ]
    },
    {
     "name": "stdout",
     "output_type": "stream",
     "text": [
      "Epoch 269 tst: l 1.039 a 0.650 clct[np.int64(20), np.int64(20)] clct_ans[np.int64(20), np.int64(20)]  3.179sec\n"
     ]
    },
    {
     "name": "stdout",
     "output_type": "stream",
     "text": [
      "Epoch 270 tr: l 1.131 a 0.613 clct[np.int64(53), np.int64(47)] clct_ans[np.int64(47), np.int64(53)]  lr 0.243340 78.581sec(train) 20.920sec(infer)\n"
     ]
    },
    {
     "name": "stdout",
     "output_type": "stream",
     "text": [
      "Epoch 270 tst: l 1.036 a 0.649 clct[np.int64(20), np.int64(20)] clct_ans[np.int64(20), np.int64(20)]  3.164sec\n",
      "result written at output_dfca_gi/results.pickle\n",
      "checkpoint written at output_dfca_gi/checkpoint.pt\n"
     ]
    },
    {
     "name": "stdout",
     "output_type": "stream",
     "text": [
      "Epoch 271 tr: l 1.139 a 0.614 clct[np.int64(48), np.int64(52)] clct_ans[np.int64(52), np.int64(48)]  lr 0.243316 78.384sec(train) 20.851sec(infer)\n"
     ]
    },
    {
     "name": "stdout",
     "output_type": "stream",
     "text": [
      "Epoch 271 tst: l 1.041 a 0.647 clct[np.int64(20), np.int64(20)] clct_ans[np.int64(20), np.int64(20)]  3.171sec\n"
     ]
    },
    {
     "name": "stdout",
     "output_type": "stream",
     "text": [
      "Epoch 272 tr: l 1.136 a 0.614 clct[np.int64(49), np.int64(51)] clct_ans[np.int64(51), np.int64(49)]  lr 0.243291 77.370sec(train) 20.982sec(infer)\n"
     ]
    },
    {
     "name": "stdout",
     "output_type": "stream",
     "text": [
      "Epoch 272 tst: l 1.040 a 0.652 clct[np.int64(20), np.int64(20)] clct_ans[np.int64(20), np.int64(20)]  3.194sec\n"
     ]
    },
    {
     "name": "stdout",
     "output_type": "stream",
     "text": [
      "Epoch 273 tr: l 1.134 a 0.613 clct[np.int64(52), np.int64(48)] clct_ans[np.int64(48), np.int64(52)]  lr 0.243267 76.107sec(train) 20.913sec(infer)\n"
     ]
    },
    {
     "name": "stdout",
     "output_type": "stream",
     "text": [
      "Epoch 273 tst: l 1.040 a 0.651 clct[np.int64(20), np.int64(20)] clct_ans[np.int64(20), np.int64(20)]  3.176sec\n"
     ]
    },
    {
     "name": "stdout",
     "output_type": "stream",
     "text": [
      "Epoch 274 tr: l 1.133 a 0.614 clct[np.int64(53), np.int64(47)] clct_ans[np.int64(47), np.int64(53)]  lr 0.243243 77.956sec(train) 20.897sec(infer)\n"
     ]
    },
    {
     "name": "stdout",
     "output_type": "stream",
     "text": [
      "Epoch 274 tst: l 1.039 a 0.651 clct[np.int64(20), np.int64(20)] clct_ans[np.int64(20), np.int64(20)]  3.139sec\n"
     ]
    },
    {
     "name": "stdout",
     "output_type": "stream",
     "text": [
      "Epoch 275 tr: l 1.144 a 0.612 clct[np.int64(49), np.int64(51)] clct_ans[np.int64(51), np.int64(49)]  lr 0.243218 77.625sec(train) 21.007sec(infer)\n"
     ]
    },
    {
     "name": "stdout",
     "output_type": "stream",
     "text": [
      "Epoch 275 tst: l 1.044 a 0.649 clct[np.int64(20), np.int64(20)] clct_ans[np.int64(20), np.int64(20)]  3.180sec\n"
     ]
    },
    {
     "name": "stdout",
     "output_type": "stream",
     "text": [
      "Epoch 276 tr: l 1.137 a 0.614 clct[np.int64(53), np.int64(47)] clct_ans[np.int64(47), np.int64(53)]  lr 0.243194 77.617sec(train) 20.866sec(infer)\n"
     ]
    },
    {
     "name": "stdout",
     "output_type": "stream",
     "text": [
      "Epoch 276 tst: l 1.039 a 0.651 clct[np.int64(20), np.int64(20)] clct_ans[np.int64(20), np.int64(20)]  3.173sec\n"
     ]
    },
    {
     "name": "stdout",
     "output_type": "stream",
     "text": [
      "Epoch 277 tr: l 1.148 a 0.611 clct[np.int64(50), np.int64(50)] clct_ans[np.int64(50), np.int64(50)]  lr 0.243170 77.082sec(train) 20.886sec(infer)\n"
     ]
    },
    {
     "name": "stdout",
     "output_type": "stream",
     "text": [
      "Epoch 277 tst: l 1.041 a 0.651 clct[np.int64(20), np.int64(20)] clct_ans[np.int64(20), np.int64(20)]  3.168sec\n"
     ]
    },
    {
     "name": "stdout",
     "output_type": "stream",
     "text": [
      "Epoch 278 tr: l 1.138 a 0.613 clct[np.int64(50), np.int64(50)] clct_ans[np.int64(50), np.int64(50)]  lr 0.243145 78.172sec(train) 20.806sec(infer)\n"
     ]
    },
    {
     "name": "stdout",
     "output_type": "stream",
     "text": [
      "Epoch 278 tst: l 1.036 a 0.650 clct[np.int64(20), np.int64(20)] clct_ans[np.int64(20), np.int64(20)]  3.194sec\n"
     ]
    },
    {
     "name": "stdout",
     "output_type": "stream",
     "text": [
      "Epoch 279 tr: l 1.132 a 0.613 clct[np.int64(53), np.int64(47)] clct_ans[np.int64(47), np.int64(53)]  lr 0.243121 78.307sec(train) 20.825sec(infer)\n"
     ]
    },
    {
     "name": "stdout",
     "output_type": "stream",
     "text": [
      "Epoch 279 tst: l 1.036 a 0.652 clct[np.int64(20), np.int64(20)] clct_ans[np.int64(20), np.int64(20)]  3.189sec\n"
     ]
    },
    {
     "name": "stdout",
     "output_type": "stream",
     "text": [
      "Epoch 280 tr: l 1.128 a 0.618 clct[np.int64(52), np.int64(48)] clct_ans[np.int64(48), np.int64(52)]  lr 0.243097 76.719sec(train) 20.907sec(infer)\n"
     ]
    },
    {
     "name": "stdout",
     "output_type": "stream",
     "text": [
      "Epoch 280 tst: l 1.037 a 0.651 clct[np.int64(20), np.int64(20)] clct_ans[np.int64(20), np.int64(20)]  3.179sec\n",
      "result written at output_dfca_gi/results.pickle\n",
      "checkpoint written at output_dfca_gi/checkpoint.pt\n"
     ]
    },
    {
     "name": "stdout",
     "output_type": "stream",
     "text": [
      "Epoch 281 tr: l 1.142 a 0.612 clct[np.int64(44), np.int64(56)] clct_ans[np.int64(56), np.int64(44)]  lr 0.243072 78.001sec(train) 20.845sec(infer)\n"
     ]
    },
    {
     "name": "stdout",
     "output_type": "stream",
     "text": [
      "Epoch 281 tst: l 1.035 a 0.650 clct[np.int64(20), np.int64(20)] clct_ans[np.int64(20), np.int64(20)]  3.188sec\n"
     ]
    },
    {
     "name": "stdout",
     "output_type": "stream",
     "text": [
      "Epoch 282 tr: l 1.132 a 0.616 clct[np.int64(46), np.int64(54)] clct_ans[np.int64(54), np.int64(46)]  lr 0.243048 77.116sec(train) 20.884sec(infer)\n"
     ]
    },
    {
     "name": "stdout",
     "output_type": "stream",
     "text": [
      "Epoch 282 tst: l 1.042 a 0.651 clct[np.int64(20), np.int64(20)] clct_ans[np.int64(20), np.int64(20)]  3.172sec\n"
     ]
    },
    {
     "name": "stdout",
     "output_type": "stream",
     "text": [
      "Epoch 283 tr: l 1.132 a 0.616 clct[np.int64(51), np.int64(49)] clct_ans[np.int64(49), np.int64(51)]  lr 0.243024 80.392sec(train) 20.846sec(infer)\n"
     ]
    },
    {
     "name": "stdout",
     "output_type": "stream",
     "text": [
      "Epoch 283 tst: l 1.036 a 0.651 clct[np.int64(20), np.int64(20)] clct_ans[np.int64(20), np.int64(20)]  3.173sec\n"
     ]
    },
    {
     "name": "stdout",
     "output_type": "stream",
     "text": [
      "Epoch 284 tr: l 1.140 a 0.614 clct[np.int64(48), np.int64(52)] clct_ans[np.int64(52), np.int64(48)]  lr 0.243000 80.609sec(train) 20.871sec(infer)\n"
     ]
    },
    {
     "name": "stdout",
     "output_type": "stream",
     "text": [
      "Epoch 284 tst: l 1.039 a 0.650 clct[np.int64(20), np.int64(20)] clct_ans[np.int64(20), np.int64(20)]  3.161sec\n"
     ]
    },
    {
     "name": "stdout",
     "output_type": "stream",
     "text": [
      "Epoch 285 tr: l 1.137 a 0.612 clct[np.int64(50), np.int64(50)] clct_ans[np.int64(50), np.int64(50)]  lr 0.242975 79.789sec(train) 20.910sec(infer)\n"
     ]
    },
    {
     "name": "stdout",
     "output_type": "stream",
     "text": [
      "Epoch 285 tst: l 1.040 a 0.653 clct[np.int64(20), np.int64(20)] clct_ans[np.int64(20), np.int64(20)]  3.170sec\n"
     ]
    },
    {
     "name": "stdout",
     "output_type": "stream",
     "text": [
      "Epoch 286 tr: l 1.138 a 0.611 clct[np.int64(48), np.int64(52)] clct_ans[np.int64(52), np.int64(48)]  lr 0.242951 78.553sec(train) 20.883sec(infer)\n"
     ]
    },
    {
     "name": "stdout",
     "output_type": "stream",
     "text": [
      "Epoch 286 tst: l 1.042 a 0.649 clct[np.int64(20), np.int64(20)] clct_ans[np.int64(20), np.int64(20)]  3.165sec\n"
     ]
    },
    {
     "name": "stdout",
     "output_type": "stream",
     "text": [
      "Epoch 287 tr: l 1.138 a 0.616 clct[np.int64(55), np.int64(45)] clct_ans[np.int64(45), np.int64(55)]  lr 0.242927 80.200sec(train) 20.865sec(infer)\n"
     ]
    },
    {
     "name": "stdout",
     "output_type": "stream",
     "text": [
      "Epoch 287 tst: l 1.041 a 0.651 clct[np.int64(20), np.int64(20)] clct_ans[np.int64(20), np.int64(20)]  3.176sec\n"
     ]
    },
    {
     "name": "stdout",
     "output_type": "stream",
     "text": [
      "Epoch 288 tr: l 1.144 a 0.610 clct[np.int64(51), np.int64(49)] clct_ans[np.int64(49), np.int64(51)]  lr 0.242902 79.298sec(train) 20.879sec(infer)\n"
     ]
    },
    {
     "name": "stdout",
     "output_type": "stream",
     "text": [
      "Epoch 288 tst: l 1.044 a 0.648 clct[np.int64(20), np.int64(20)] clct_ans[np.int64(20), np.int64(20)]  3.173sec\n"
     ]
    },
    {
     "name": "stdout",
     "output_type": "stream",
     "text": [
      "Epoch 289 tr: l 1.132 a 0.616 clct[np.int64(47), np.int64(53)] clct_ans[np.int64(53), np.int64(47)]  lr 0.242878 81.059sec(train) 20.936sec(infer)\n"
     ]
    },
    {
     "name": "stdout",
     "output_type": "stream",
     "text": [
      "Epoch 289 tst: l 1.040 a 0.651 clct[np.int64(20), np.int64(20)] clct_ans[np.int64(20), np.int64(20)]  3.191sec\n"
     ]
    },
    {
     "name": "stdout",
     "output_type": "stream",
     "text": [
      "Epoch 290 tr: l 1.139 a 0.614 clct[np.int64(44), np.int64(56)] clct_ans[np.int64(56), np.int64(44)]  lr 0.242854 79.720sec(train) 20.926sec(infer)\n"
     ]
    },
    {
     "name": "stdout",
     "output_type": "stream",
     "text": [
      "Epoch 290 tst: l 1.043 a 0.651 clct[np.int64(20), np.int64(20)] clct_ans[np.int64(20), np.int64(20)]  3.186sec\n",
      "result written at output_dfca_gi/results.pickle\n",
      "checkpoint written at output_dfca_gi/checkpoint.pt\n"
     ]
    },
    {
     "name": "stdout",
     "output_type": "stream",
     "text": [
      "Epoch 291 tr: l 1.135 a 0.615 clct[np.int64(50), np.int64(50)] clct_ans[np.int64(50), np.int64(50)]  lr 0.242829 78.772sec(train) 20.895sec(infer)\n"
     ]
    },
    {
     "name": "stdout",
     "output_type": "stream",
     "text": [
      "Epoch 291 tst: l 1.041 a 0.651 clct[np.int64(20), np.int64(20)] clct_ans[np.int64(20), np.int64(20)]  3.159sec\n"
     ]
    },
    {
     "name": "stdout",
     "output_type": "stream",
     "text": [
      "Epoch 292 tr: l 1.142 a 0.612 clct[np.int64(51), np.int64(49)] clct_ans[np.int64(49), np.int64(51)]  lr 0.242805 79.637sec(train) 20.886sec(infer)\n"
     ]
    },
    {
     "name": "stdout",
     "output_type": "stream",
     "text": [
      "Epoch 292 tst: l 1.042 a 0.650 clct[np.int64(20), np.int64(20)] clct_ans[np.int64(20), np.int64(20)]  3.168sec\n"
     ]
    },
    {
     "name": "stdout",
     "output_type": "stream",
     "text": [
      "Epoch 293 tr: l 1.131 a 0.615 clct[np.int64(50), np.int64(50)] clct_ans[np.int64(50), np.int64(50)]  lr 0.242781 78.702sec(train) 20.856sec(infer)\n"
     ]
    },
    {
     "name": "stdout",
     "output_type": "stream",
     "text": [
      "Epoch 293 tst: l 1.041 a 0.651 clct[np.int64(20), np.int64(20)] clct_ans[np.int64(20), np.int64(20)]  3.183sec\n"
     ]
    },
    {
     "name": "stdout",
     "output_type": "stream",
     "text": [
      "Epoch 294 tr: l 1.133 a 0.614 clct[np.int64(51), np.int64(49)] clct_ans[np.int64(49), np.int64(51)]  lr 0.242757 79.577sec(train) 20.856sec(infer)\n"
     ]
    },
    {
     "name": "stdout",
     "output_type": "stream",
     "text": [
      "Epoch 294 tst: l 1.043 a 0.651 clct[np.int64(20), np.int64(20)] clct_ans[np.int64(20), np.int64(20)]  3.165sec\n"
     ]
    },
    {
     "name": "stdout",
     "output_type": "stream",
     "text": [
      "Epoch 295 tr: l 1.130 a 0.616 clct[np.int64(57), np.int64(43)] clct_ans[np.int64(43), np.int64(57)]  lr 0.242732 77.996sec(train) 20.810sec(infer)\n"
     ]
    },
    {
     "name": "stdout",
     "output_type": "stream",
     "text": [
      "Epoch 295 tst: l 1.038 a 0.653 clct[np.int64(20), np.int64(20)] clct_ans[np.int64(20), np.int64(20)]  3.181sec\n"
     ]
    },
    {
     "name": "stdout",
     "output_type": "stream",
     "text": [
      "Epoch 296 tr: l 1.134 a 0.616 clct[np.int64(55), np.int64(45)] clct_ans[np.int64(45), np.int64(55)]  lr 0.242708 79.060sec(train) 20.803sec(infer)\n"
     ]
    },
    {
     "name": "stdout",
     "output_type": "stream",
     "text": [
      "Epoch 296 tst: l 1.045 a 0.649 clct[np.int64(20), np.int64(20)] clct_ans[np.int64(20), np.int64(20)]  3.174sec\n"
     ]
    },
    {
     "name": "stdout",
     "output_type": "stream",
     "text": [
      "Epoch 297 tr: l 1.130 a 0.614 clct[np.int64(52), np.int64(48)] clct_ans[np.int64(48), np.int64(52)]  lr 0.242684 79.855sec(train) 20.856sec(infer)\n"
     ]
    },
    {
     "name": "stdout",
     "output_type": "stream",
     "text": [
      "Epoch 297 tst: l 1.040 a 0.653 clct[np.int64(20), np.int64(20)] clct_ans[np.int64(20), np.int64(20)]  3.184sec\n"
     ]
    },
    {
     "name": "stdout",
     "output_type": "stream",
     "text": [
      "Epoch 298 tr: l 1.129 a 0.618 clct[np.int64(45), np.int64(55)] clct_ans[np.int64(55), np.int64(45)]  lr 0.242660 78.915sec(train) 20.848sec(infer)\n"
     ]
    },
    {
     "name": "stdout",
     "output_type": "stream",
     "text": [
      "Epoch 298 tst: l 1.039 a 0.654 clct[np.int64(20), np.int64(20)] clct_ans[np.int64(20), np.int64(20)]  3.172sec\n"
     ]
    },
    {
     "name": "stdout",
     "output_type": "stream",
     "text": [
      "Epoch 299 tr: l 1.134 a 0.615 clct[np.int64(50), np.int64(50)] clct_ans[np.int64(50), np.int64(50)]  lr 0.242635 71.811sec(train) 20.807sec(infer)\n"
     ]
    },
    {
     "name": "stdout",
     "output_type": "stream",
     "text": [
      "Epoch 299 tst: l 1.040 a 0.652 clct[np.int64(20), np.int64(20)] clct_ans[np.int64(20), np.int64(20)]  3.188sec\n"
     ]
    },
    {
     "name": "stdout",
     "output_type": "stream",
     "text": [
      "Epoch 300 tr: l 1.145 a 0.611 clct[np.int64(47), np.int64(53)] clct_ans[np.int64(53), np.int64(47)]  lr 0.242611 78.634sec(train) 20.867sec(infer)\n"
     ]
    },
    {
     "name": "stdout",
     "output_type": "stream",
     "text": [
      "Epoch 300 tst: l 1.043 a 0.650 clct[np.int64(20), np.int64(20)] clct_ans[np.int64(20), np.int64(20)]  3.178sec\n",
      "result written at output_dfca_gi/results.pickle\n",
      "checkpoint written at output_dfca_gi/checkpoint.pt\n"
     ]
    },
    {
     "name": "stdout",
     "output_type": "stream",
     "text": [
      "Epoch 301 tr: l 1.135 a 0.614 clct[np.int64(45), np.int64(55)] clct_ans[np.int64(55), np.int64(45)]  lr 0.242587 79.432sec(train) 20.908sec(infer)\n"
     ]
    },
    {
     "name": "stdout",
     "output_type": "stream",
     "text": [
      "Epoch 301 tst: l 1.038 a 0.652 clct[np.int64(20), np.int64(20)] clct_ans[np.int64(20), np.int64(20)]  3.184sec\n"
     ]
    },
    {
     "name": "stdout",
     "output_type": "stream",
     "text": [
      "Epoch 302 tr: l 1.130 a 0.614 clct[np.int64(53), np.int64(47)] clct_ans[np.int64(47), np.int64(53)]  lr 0.242562 77.858sec(train) 20.878sec(infer)\n"
     ]
    },
    {
     "name": "stdout",
     "output_type": "stream",
     "text": [
      "Epoch 302 tst: l 1.034 a 0.652 clct[np.int64(20), np.int64(20)] clct_ans[np.int64(20), np.int64(20)]  3.176sec\n"
     ]
    },
    {
     "name": "stdout",
     "output_type": "stream",
     "text": [
      "Epoch 303 tr: l 1.128 a 0.618 clct[np.int64(45), np.int64(55)] clct_ans[np.int64(55), np.int64(45)]  lr 0.242538 78.706sec(train) 20.939sec(infer)\n"
     ]
    },
    {
     "name": "stdout",
     "output_type": "stream",
     "text": [
      "Epoch 303 tst: l 1.043 a 0.652 clct[np.int64(20), np.int64(20)] clct_ans[np.int64(20), np.int64(20)]  3.193sec\n"
     ]
    },
    {
     "name": "stdout",
     "output_type": "stream",
     "text": [
      "Epoch 304 tr: l 1.133 a 0.615 clct[np.int64(42), np.int64(58)] clct_ans[np.int64(58), np.int64(42)]  lr 0.242514 78.922sec(train) 20.883sec(infer)\n"
     ]
    },
    {
     "name": "stdout",
     "output_type": "stream",
     "text": [
      "Epoch 304 tst: l 1.042 a 0.651 clct[np.int64(20), np.int64(20)] clct_ans[np.int64(20), np.int64(20)]  3.162sec\n"
     ]
    },
    {
     "name": "stdout",
     "output_type": "stream",
     "text": [
      "Epoch 305 tr: l 1.138 a 0.614 clct[np.int64(50), np.int64(50)] clct_ans[np.int64(50), np.int64(50)]  lr 0.242490 77.998sec(train) 20.869sec(infer)\n"
     ]
    },
    {
     "name": "stdout",
     "output_type": "stream",
     "text": [
      "Epoch 305 tst: l 1.043 a 0.650 clct[np.int64(20), np.int64(20)] clct_ans[np.int64(20), np.int64(20)]  3.168sec\n"
     ]
    },
    {
     "name": "stdout",
     "output_type": "stream",
     "text": [
      "Epoch 306 tr: l 1.141 a 0.612 clct[np.int64(53), np.int64(47)] clct_ans[np.int64(47), np.int64(53)]  lr 0.242465 78.560sec(train) 20.825sec(infer)\n"
     ]
    },
    {
     "name": "stdout",
     "output_type": "stream",
     "text": [
      "Epoch 306 tst: l 1.042 a 0.651 clct[np.int64(20), np.int64(20)] clct_ans[np.int64(20), np.int64(20)]  3.173sec\n"
     ]
    },
    {
     "name": "stdout",
     "output_type": "stream",
     "text": [
      "Epoch 307 tr: l 1.132 a 0.616 clct[np.int64(53), np.int64(47)] clct_ans[np.int64(47), np.int64(53)]  lr 0.242441 79.270sec(train) 20.863sec(infer)\n"
     ]
    },
    {
     "name": "stdout",
     "output_type": "stream",
     "text": [
      "Epoch 307 tst: l 1.035 a 0.653 clct[np.int64(20), np.int64(20)] clct_ans[np.int64(20), np.int64(20)]  3.183sec\n"
     ]
    },
    {
     "name": "stdout",
     "output_type": "stream",
     "text": [
      "Epoch 308 tr: l 1.132 a 0.615 clct[np.int64(50), np.int64(50)] clct_ans[np.int64(50), np.int64(50)]  lr 0.242417 78.996sec(train) 20.840sec(infer)\n"
     ]
    },
    {
     "name": "stdout",
     "output_type": "stream",
     "text": [
      "Epoch 308 tst: l 1.038 a 0.652 clct[np.int64(20), np.int64(20)] clct_ans[np.int64(20), np.int64(20)]  3.171sec\n"
     ]
    },
    {
     "name": "stdout",
     "output_type": "stream",
     "text": [
      "Epoch 309 tr: l 1.137 a 0.613 clct[np.int64(50), np.int64(50)] clct_ans[np.int64(50), np.int64(50)]  lr 0.242393 78.224sec(train) 20.859sec(infer)\n"
     ]
    },
    {
     "name": "stdout",
     "output_type": "stream",
     "text": [
      "Epoch 309 tst: l 1.041 a 0.652 clct[np.int64(20), np.int64(20)] clct_ans[np.int64(20), np.int64(20)]  3.159sec\n"
     ]
    },
    {
     "name": "stdout",
     "output_type": "stream",
     "text": [
      "Epoch 310 tr: l 1.134 a 0.613 clct[np.int64(50), np.int64(50)] clct_ans[np.int64(50), np.int64(50)]  lr 0.242369 78.199sec(train) 20.865sec(infer)\n"
     ]
    },
    {
     "name": "stdout",
     "output_type": "stream",
     "text": [
      "Epoch 310 tst: l 1.037 a 0.652 clct[np.int64(20), np.int64(20)] clct_ans[np.int64(20), np.int64(20)]  3.164sec\n",
      "result written at output_dfca_gi/results.pickle\n",
      "checkpoint written at output_dfca_gi/checkpoint.pt\n"
     ]
    },
    {
     "name": "stdout",
     "output_type": "stream",
     "text": [
      "Epoch 311 tr: l 1.138 a 0.613 clct[np.int64(50), np.int64(50)] clct_ans[np.int64(50), np.int64(50)]  lr 0.242344 78.392sec(train) 20.868sec(infer)\n"
     ]
    },
    {
     "name": "stdout",
     "output_type": "stream",
     "text": [
      "Epoch 311 tst: l 1.038 a 0.652 clct[np.int64(20), np.int64(20)] clct_ans[np.int64(20), np.int64(20)]  3.173sec\n"
     ]
    },
    {
     "name": "stdout",
     "output_type": "stream",
     "text": [
      "Epoch 312 tr: l 1.133 a 0.614 clct[np.int64(52), np.int64(48)] clct_ans[np.int64(48), np.int64(52)]  lr 0.242320 78.112sec(train) 20.871sec(infer)\n"
     ]
    },
    {
     "name": "stdout",
     "output_type": "stream",
     "text": [
      "Epoch 312 tst: l 1.038 a 0.652 clct[np.int64(20), np.int64(20)] clct_ans[np.int64(20), np.int64(20)]  3.172sec\n"
     ]
    },
    {
     "name": "stdout",
     "output_type": "stream",
     "text": [
      "Epoch 313 tr: l 1.130 a 0.616 clct[np.int64(52), np.int64(48)] clct_ans[np.int64(48), np.int64(52)]  lr 0.242296 78.290sec(train) 20.783sec(infer)\n"
     ]
    },
    {
     "name": "stdout",
     "output_type": "stream",
     "text": [
      "Epoch 313 tst: l 1.037 a 0.654 clct[np.int64(20), np.int64(20)] clct_ans[np.int64(20), np.int64(20)]  3.169sec\n"
     ]
    },
    {
     "name": "stdout",
     "output_type": "stream",
     "text": [
      "Epoch 314 tr: l 1.126 a 0.617 clct[np.int64(51), np.int64(49)] clct_ans[np.int64(49), np.int64(51)]  lr 0.242272 78.517sec(train) 20.916sec(infer)\n"
     ]
    },
    {
     "name": "stdout",
     "output_type": "stream",
     "text": [
      "Epoch 314 tst: l 1.037 a 0.655 clct[np.int64(20), np.int64(20)] clct_ans[np.int64(20), np.int64(20)]  3.187sec\n"
     ]
    },
    {
     "name": "stdout",
     "output_type": "stream",
     "text": [
      "Epoch 315 tr: l 1.138 a 0.613 clct[np.int64(53), np.int64(47)] clct_ans[np.int64(47), np.int64(53)]  lr 0.242247 79.488sec(train) 21.064sec(infer)\n"
     ]
    },
    {
     "name": "stdout",
     "output_type": "stream",
     "text": [
      "Epoch 315 tst: l 1.043 a 0.651 clct[np.int64(20), np.int64(20)] clct_ans[np.int64(20), np.int64(20)]  3.434sec\n"
     ]
    },
    {
     "name": "stdout",
     "output_type": "stream",
     "text": [
      "Epoch 316 tr: l 1.127 a 0.617 clct[np.int64(54), np.int64(46)] clct_ans[np.int64(46), np.int64(54)]  lr 0.242223 79.184sec(train) 20.991sec(infer)\n"
     ]
    },
    {
     "name": "stdout",
     "output_type": "stream",
     "text": [
      "Epoch 316 tst: l 1.036 a 0.653 clct[np.int64(20), np.int64(20)] clct_ans[np.int64(20), np.int64(20)]  3.201sec\n"
     ]
    },
    {
     "name": "stdout",
     "output_type": "stream",
     "text": [
      "Epoch 317 tr: l 1.130 a 0.617 clct[np.int64(56), np.int64(44)] clct_ans[np.int64(44), np.int64(56)]  lr 0.242199 80.419sec(train) 20.862sec(infer)\n"
     ]
    },
    {
     "name": "stdout",
     "output_type": "stream",
     "text": [
      "Epoch 317 tst: l 1.036 a 0.654 clct[np.int64(20), np.int64(20)] clct_ans[np.int64(20), np.int64(20)]  3.177sec\n"
     ]
    },
    {
     "name": "stdout",
     "output_type": "stream",
     "text": [
      "Epoch 318 tr: l 1.133 a 0.615 clct[np.int64(51), np.int64(49)] clct_ans[np.int64(49), np.int64(51)]  lr 0.242175 78.147sec(train) 20.855sec(infer)\n"
     ]
    },
    {
     "name": "stdout",
     "output_type": "stream",
     "text": [
      "Epoch 318 tst: l 1.039 a 0.652 clct[np.int64(20), np.int64(20)] clct_ans[np.int64(20), np.int64(20)]  3.174sec\n"
     ]
    },
    {
     "name": "stdout",
     "output_type": "stream",
     "text": [
      "Epoch 319 tr: l 1.130 a 0.619 clct[np.int64(50), np.int64(50)] clct_ans[np.int64(50), np.int64(50)]  lr 0.242150 78.746sec(train) 20.861sec(infer)\n"
     ]
    },
    {
     "name": "stdout",
     "output_type": "stream",
     "text": [
      "Epoch 319 tst: l 1.041 a 0.651 clct[np.int64(20), np.int64(20)] clct_ans[np.int64(20), np.int64(20)]  3.181sec\n"
     ]
    },
    {
     "name": "stdout",
     "output_type": "stream",
     "text": [
      "Epoch 320 tr: l 1.133 a 0.612 clct[np.int64(53), np.int64(47)] clct_ans[np.int64(47), np.int64(53)]  lr 0.242126 78.806sec(train) 21.087sec(infer)\n"
     ]
    },
    {
     "name": "stdout",
     "output_type": "stream",
     "text": [
      "Epoch 320 tst: l 1.042 a 0.652 clct[np.int64(20), np.int64(20)] clct_ans[np.int64(20), np.int64(20)]  3.179sec\n",
      "result written at output_dfca_gi/results.pickle\n",
      "checkpoint written at output_dfca_gi/checkpoint.pt\n"
     ]
    },
    {
     "name": "stdout",
     "output_type": "stream",
     "text": [
      "Epoch 321 tr: l 1.129 a 0.614 clct[np.int64(38), np.int64(62)] clct_ans[np.int64(62), np.int64(38)]  lr 0.242102 77.238sec(train) 20.855sec(infer)\n"
     ]
    },
    {
     "name": "stdout",
     "output_type": "stream",
     "text": [
      "Epoch 321 tst: l 1.039 a 0.653 clct[np.int64(20), np.int64(20)] clct_ans[np.int64(20), np.int64(20)]  3.168sec\n"
     ]
    },
    {
     "name": "stdout",
     "output_type": "stream",
     "text": [
      "Epoch 322 tr: l 1.134 a 0.616 clct[np.int64(54), np.int64(46)] clct_ans[np.int64(46), np.int64(54)]  lr 0.242078 78.683sec(train) 20.845sec(infer)\n"
     ]
    },
    {
     "name": "stdout",
     "output_type": "stream",
     "text": [
      "Epoch 322 tst: l 1.040 a 0.654 clct[np.int64(20), np.int64(20)] clct_ans[np.int64(20), np.int64(20)]  3.169sec\n"
     ]
    },
    {
     "name": "stdout",
     "output_type": "stream",
     "text": [
      "Epoch 323 tr: l 1.137 a 0.616 clct[np.int64(48), np.int64(52)] clct_ans[np.int64(52), np.int64(48)]  lr 0.242054 78.692sec(train) 20.905sec(infer)\n"
     ]
    },
    {
     "name": "stdout",
     "output_type": "stream",
     "text": [
      "Epoch 323 tst: l 1.041 a 0.653 clct[np.int64(20), np.int64(20)] clct_ans[np.int64(20), np.int64(20)]  3.202sec\n"
     ]
    },
    {
     "name": "stdout",
     "output_type": "stream",
     "text": [
      "Epoch 324 tr: l 1.135 a 0.613 clct[np.int64(49), np.int64(51)] clct_ans[np.int64(51), np.int64(49)]  lr 0.242029 77.929sec(train) 20.849sec(infer)\n"
     ]
    },
    {
     "name": "stdout",
     "output_type": "stream",
     "text": [
      "Epoch 324 tst: l 1.039 a 0.653 clct[np.int64(20), np.int64(20)] clct_ans[np.int64(20), np.int64(20)]  3.179sec\n"
     ]
    },
    {
     "name": "stdout",
     "output_type": "stream",
     "text": [
      "Epoch 325 tr: l 1.129 a 0.615 clct[np.int64(56), np.int64(44)] clct_ans[np.int64(44), np.int64(56)]  lr 0.242005 79.301sec(train) 20.863sec(infer)\n"
     ]
    },
    {
     "name": "stdout",
     "output_type": "stream",
     "text": [
      "Epoch 325 tst: l 1.040 a 0.650 clct[np.int64(20), np.int64(20)] clct_ans[np.int64(20), np.int64(20)]  3.187sec\n"
     ]
    },
    {
     "name": "stdout",
     "output_type": "stream",
     "text": [
      "Epoch 326 tr: l 1.141 a 0.616 clct[np.int64(47), np.int64(53)] clct_ans[np.int64(53), np.int64(47)]  lr 0.241981 78.559sec(train) 20.829sec(infer)\n"
     ]
    },
    {
     "name": "stdout",
     "output_type": "stream",
     "text": [
      "Epoch 326 tst: l 1.040 a 0.651 clct[np.int64(20), np.int64(20)] clct_ans[np.int64(20), np.int64(20)]  3.171sec\n"
     ]
    },
    {
     "name": "stdout",
     "output_type": "stream",
     "text": [
      "Epoch 327 tr: l 1.123 a 0.618 clct[np.int64(54), np.int64(46)] clct_ans[np.int64(46), np.int64(54)]  lr 0.241957 76.497sec(train) 20.862sec(infer)\n"
     ]
    },
    {
     "name": "stdout",
     "output_type": "stream",
     "text": [
      "Epoch 327 tst: l 1.037 a 0.653 clct[np.int64(20), np.int64(20)] clct_ans[np.int64(20), np.int64(20)]  3.176sec\n"
     ]
    },
    {
     "name": "stdout",
     "output_type": "stream",
     "text": [
      "Epoch 328 tr: l 1.133 a 0.613 clct[np.int64(48), np.int64(52)] clct_ans[np.int64(52), np.int64(48)]  lr 0.241933 77.143sec(train) 20.792sec(infer)\n"
     ]
    },
    {
     "name": "stdout",
     "output_type": "stream",
     "text": [
      "Epoch 328 tst: l 1.040 a 0.651 clct[np.int64(20), np.int64(20)] clct_ans[np.int64(20), np.int64(20)]  3.172sec\n"
     ]
    },
    {
     "name": "stdout",
     "output_type": "stream",
     "text": [
      "Epoch 329 tr: l 1.126 a 0.614 clct[np.int64(51), np.int64(49)] clct_ans[np.int64(49), np.int64(51)]  lr 0.241908 77.344sec(train) 21.087sec(infer)\n"
     ]
    },
    {
     "name": "stdout",
     "output_type": "stream",
     "text": [
      "Epoch 329 tst: l 1.037 a 0.652 clct[np.int64(20), np.int64(20)] clct_ans[np.int64(20), np.int64(20)]  3.183sec\n"
     ]
    },
    {
     "name": "stdout",
     "output_type": "stream",
     "text": [
      "Epoch 330 tr: l 1.137 a 0.613 clct[np.int64(46), np.int64(54)] clct_ans[np.int64(54), np.int64(46)]  lr 0.241884 79.593sec(train) 20.882sec(infer)\n"
     ]
    },
    {
     "name": "stdout",
     "output_type": "stream",
     "text": [
      "Epoch 330 tst: l 1.039 a 0.651 clct[np.int64(20), np.int64(20)] clct_ans[np.int64(20), np.int64(20)]  3.167sec\n",
      "result written at output_dfca_gi/results.pickle\n",
      "checkpoint written at output_dfca_gi/checkpoint.pt\n"
     ]
    },
    {
     "name": "stdout",
     "output_type": "stream",
     "text": [
      "Epoch 331 tr: l 1.125 a 0.617 clct[np.int64(52), np.int64(48)] clct_ans[np.int64(48), np.int64(52)]  lr 0.241860 78.287sec(train) 20.842sec(infer)\n"
     ]
    },
    {
     "name": "stdout",
     "output_type": "stream",
     "text": [
      "Epoch 331 tst: l 1.035 a 0.651 clct[np.int64(20), np.int64(20)] clct_ans[np.int64(20), np.int64(20)]  3.170sec\n"
     ]
    },
    {
     "name": "stdout",
     "output_type": "stream",
     "text": [
      "Epoch 332 tr: l 1.141 a 0.612 clct[np.int64(43), np.int64(57)] clct_ans[np.int64(57), np.int64(43)]  lr 0.241836 78.762sec(train) 20.919sec(infer)\n"
     ]
    },
    {
     "name": "stdout",
     "output_type": "stream",
     "text": [
      "Epoch 332 tst: l 1.038 a 0.652 clct[np.int64(20), np.int64(20)] clct_ans[np.int64(20), np.int64(20)]  3.181sec\n"
     ]
    },
    {
     "name": "stdout",
     "output_type": "stream",
     "text": [
      "Epoch 333 tr: l 1.137 a 0.614 clct[np.int64(53), np.int64(47)] clct_ans[np.int64(47), np.int64(53)]  lr 0.241812 80.333sec(train) 20.881sec(infer)\n"
     ]
    },
    {
     "name": "stdout",
     "output_type": "stream",
     "text": [
      "Epoch 333 tst: l 1.042 a 0.652 clct[np.int64(20), np.int64(20)] clct_ans[np.int64(20), np.int64(20)]  3.195sec\n"
     ]
    },
    {
     "name": "stdout",
     "output_type": "stream",
     "text": [
      "Epoch 334 tr: l 1.137 a 0.614 clct[np.int64(47), np.int64(53)] clct_ans[np.int64(53), np.int64(47)]  lr 0.241788 75.766sec(train) 20.832sec(infer)\n"
     ]
    },
    {
     "name": "stdout",
     "output_type": "stream",
     "text": [
      "Epoch 334 tst: l 1.035 a 0.652 clct[np.int64(20), np.int64(20)] clct_ans[np.int64(20), np.int64(20)]  3.179sec\n"
     ]
    },
    {
     "name": "stdout",
     "output_type": "stream",
     "text": [
      "Epoch 335 tr: l 1.138 a 0.615 clct[np.int64(49), np.int64(51)] clct_ans[np.int64(51), np.int64(49)]  lr 0.241763 77.247sec(train) 20.861sec(infer)\n"
     ]
    },
    {
     "name": "stdout",
     "output_type": "stream",
     "text": [
      "Epoch 335 tst: l 1.030 a 0.653 clct[np.int64(20), np.int64(20)] clct_ans[np.int64(20), np.int64(20)]  3.170sec\n"
     ]
    },
    {
     "name": "stdout",
     "output_type": "stream",
     "text": [
      "Epoch 336 tr: l 1.130 a 0.617 clct[np.int64(52), np.int64(48)] clct_ans[np.int64(48), np.int64(52)]  lr 0.241739 78.721sec(train) 20.805sec(infer)\n"
     ]
    },
    {
     "name": "stdout",
     "output_type": "stream",
     "text": [
      "Epoch 336 tst: l 1.031 a 0.656 clct[np.int64(20), np.int64(20)] clct_ans[np.int64(20), np.int64(20)]  3.174sec\n"
     ]
    },
    {
     "name": "stdout",
     "output_type": "stream",
     "text": [
      "Epoch 337 tr: l 1.132 a 0.615 clct[np.int64(53), np.int64(47)] clct_ans[np.int64(47), np.int64(53)]  lr 0.241715 75.430sec(train) 20.896sec(infer)\n"
     ]
    },
    {
     "name": "stdout",
     "output_type": "stream",
     "text": [
      "Epoch 337 tst: l 1.035 a 0.655 clct[np.int64(20), np.int64(20)] clct_ans[np.int64(20), np.int64(20)]  3.195sec\n"
     ]
    },
    {
     "name": "stdout",
     "output_type": "stream",
     "text": [
      "Epoch 338 tr: l 1.127 a 0.617 clct[np.int64(47), np.int64(53)] clct_ans[np.int64(53), np.int64(47)]  lr 0.241691 77.549sec(train) 20.881sec(infer)\n"
     ]
    },
    {
     "name": "stdout",
     "output_type": "stream",
     "text": [
      "Epoch 338 tst: l 1.036 a 0.651 clct[np.int64(20), np.int64(20)] clct_ans[np.int64(20), np.int64(20)]  3.179sec\n"
     ]
    },
    {
     "name": "stdout",
     "output_type": "stream",
     "text": [
      "Epoch 339 tr: l 1.137 a 0.612 clct[np.int64(44), np.int64(56)] clct_ans[np.int64(56), np.int64(44)]  lr 0.241667 77.252sec(train) 21.080sec(infer)\n"
     ]
    },
    {
     "name": "stdout",
     "output_type": "stream",
     "text": [
      "Epoch 339 tst: l 1.037 a 0.654 clct[np.int64(20), np.int64(20)] clct_ans[np.int64(20), np.int64(20)]  3.170sec\n"
     ]
    },
    {
     "name": "stdout",
     "output_type": "stream",
     "text": [
      "Epoch 340 tr: l 1.137 a 0.612 clct[np.int64(45), np.int64(55)] clct_ans[np.int64(55), np.int64(45)]  lr 0.241642 78.171sec(train) 20.839sec(infer)\n"
     ]
    },
    {
     "name": "stdout",
     "output_type": "stream",
     "text": [
      "Epoch 340 tst: l 1.037 a 0.652 clct[np.int64(20), np.int64(20)] clct_ans[np.int64(20), np.int64(20)]  3.201sec\n",
      "result written at output_dfca_gi/results.pickle\n",
      "checkpoint written at output_dfca_gi/checkpoint.pt\n"
     ]
    },
    {
     "name": "stdout",
     "output_type": "stream",
     "text": [
      "Epoch 341 tr: l 1.126 a 0.615 clct[np.int64(44), np.int64(56)] clct_ans[np.int64(56), np.int64(44)]  lr 0.241618 76.798sec(train) 20.818sec(infer)\n"
     ]
    },
    {
     "name": "stdout",
     "output_type": "stream",
     "text": [
      "Epoch 341 tst: l 1.039 a 0.652 clct[np.int64(20), np.int64(20)] clct_ans[np.int64(20), np.int64(20)]  3.182sec\n"
     ]
    },
    {
     "name": "stdout",
     "output_type": "stream",
     "text": [
      "Epoch 342 tr: l 1.134 a 0.613 clct[np.int64(53), np.int64(47)] clct_ans[np.int64(47), np.int64(53)]  lr 0.241594 79.402sec(train) 20.840sec(infer)\n"
     ]
    },
    {
     "name": "stdout",
     "output_type": "stream",
     "text": [
      "Epoch 342 tst: l 1.040 a 0.654 clct[np.int64(20), np.int64(20)] clct_ans[np.int64(20), np.int64(20)]  3.171sec\n"
     ]
    },
    {
     "name": "stdout",
     "output_type": "stream",
     "text": [
      "Epoch 343 tr: l 1.135 a 0.616 clct[np.int64(51), np.int64(49)] clct_ans[np.int64(49), np.int64(51)]  lr 0.241570 76.992sec(train) 20.893sec(infer)\n"
     ]
    },
    {
     "name": "stdout",
     "output_type": "stream",
     "text": [
      "Epoch 343 tst: l 1.038 a 0.654 clct[np.int64(20), np.int64(20)] clct_ans[np.int64(20), np.int64(20)]  3.184sec\n"
     ]
    },
    {
     "name": "stdout",
     "output_type": "stream",
     "text": [
      "Epoch 344 tr: l 1.134 a 0.616 clct[np.int64(49), np.int64(51)] clct_ans[np.int64(51), np.int64(49)]  lr 0.241546 74.271sec(train) 20.871sec(infer)\n"
     ]
    },
    {
     "name": "stdout",
     "output_type": "stream",
     "text": [
      "Epoch 344 tst: l 1.037 a 0.653 clct[np.int64(20), np.int64(20)] clct_ans[np.int64(20), np.int64(20)]  3.186sec\n"
     ]
    },
    {
     "name": "stdout",
     "output_type": "stream",
     "text": [
      "Epoch 345 tr: l 1.138 a 0.615 clct[np.int64(43), np.int64(57)] clct_ans[np.int64(57), np.int64(43)]  lr 0.241522 78.967sec(train) 20.874sec(infer)\n"
     ]
    },
    {
     "name": "stdout",
     "output_type": "stream",
     "text": [
      "Epoch 345 tst: l 1.028 a 0.656 clct[np.int64(20), np.int64(20)] clct_ans[np.int64(20), np.int64(20)]  3.153sec\n"
     ]
    },
    {
     "name": "stdout",
     "output_type": "stream",
     "text": [
      "Epoch 346 tr: l 1.135 a 0.613 clct[np.int64(50), np.int64(50)] clct_ans[np.int64(50), np.int64(50)]  lr 0.241498 76.244sec(train) 20.884sec(infer)\n"
     ]
    },
    {
     "name": "stdout",
     "output_type": "stream",
     "text": [
      "Epoch 346 tst: l 1.032 a 0.654 clct[np.int64(20), np.int64(20)] clct_ans[np.int64(20), np.int64(20)]  3.171sec\n"
     ]
    },
    {
     "name": "stdout",
     "output_type": "stream",
     "text": [
      "Epoch 347 tr: l 1.125 a 0.617 clct[np.int64(53), np.int64(47)] clct_ans[np.int64(47), np.int64(53)]  lr 0.241473 78.392sec(train) 20.843sec(infer)\n"
     ]
    },
    {
     "name": "stdout",
     "output_type": "stream",
     "text": [
      "Epoch 347 tst: l 1.032 a 0.652 clct[np.int64(20), np.int64(20)] clct_ans[np.int64(20), np.int64(20)]  3.179sec\n"
     ]
    },
    {
     "name": "stdout",
     "output_type": "stream",
     "text": [
      "Epoch 348 tr: l 1.132 a 0.615 clct[np.int64(49), np.int64(51)] clct_ans[np.int64(51), np.int64(49)]  lr 0.241449 79.824sec(train) 20.948sec(infer)\n"
     ]
    },
    {
     "name": "stdout",
     "output_type": "stream",
     "text": [
      "Epoch 348 tst: l 1.035 a 0.653 clct[np.int64(20), np.int64(20)] clct_ans[np.int64(20), np.int64(20)]  3.193sec\n"
     ]
    },
    {
     "name": "stdout",
     "output_type": "stream",
     "text": [
      "Epoch 349 tr: l 1.136 a 0.613 clct[np.int64(53), np.int64(47)] clct_ans[np.int64(47), np.int64(53)]  lr 0.241425 75.282sec(train) 20.830sec(infer)\n"
     ]
    },
    {
     "name": "stdout",
     "output_type": "stream",
     "text": [
      "Epoch 349 tst: l 1.037 a 0.653 clct[np.int64(20), np.int64(20)] clct_ans[np.int64(20), np.int64(20)]  3.191sec\n"
     ]
    },
    {
     "name": "stdout",
     "output_type": "stream",
     "text": [
      "Epoch 350 tr: l 1.148 a 0.626 clct[np.int64(53), np.int64(47)] clct_ans[np.int64(47), np.int64(53)]  lr 0.024140 77.840sec(train) 20.840sec(infer)\n"
     ]
    },
    {
     "name": "stdout",
     "output_type": "stream",
     "text": [
      "Epoch 350 tst: l 1.032 a 0.666 clct[np.int64(20), np.int64(20)] clct_ans[np.int64(20), np.int64(20)]  3.161sec\n",
      "result written at output_dfca_gi/results.pickle\n",
      "checkpoint written at output_dfca_gi/checkpoint.pt\n"
     ]
    },
    {
     "name": "stdout",
     "output_type": "stream",
     "text": [
      "Epoch 351 tr: l 1.150 a 0.631 clct[np.int64(50), np.int64(50)] clct_ans[np.int64(50), np.int64(50)]  lr 0.024138 78.863sec(train) 20.856sec(infer)\n"
     ]
    },
    {
     "name": "stdout",
     "output_type": "stream",
     "text": [
      "Epoch 351 tst: l 1.033 a 0.670 clct[np.int64(20), np.int64(20)] clct_ans[np.int64(20), np.int64(20)]  3.181sec\n"
     ]
    },
    {
     "name": "stdout",
     "output_type": "stream",
     "text": [
      "Epoch 352 tr: l 1.146 a 0.638 clct[np.int64(51), np.int64(49)] clct_ans[np.int64(49), np.int64(51)]  lr 0.024135 77.535sec(train) 20.844sec(infer)\n"
     ]
    },
    {
     "name": "stdout",
     "output_type": "stream",
     "text": [
      "Epoch 352 tst: l 1.034 a 0.674 clct[np.int64(20), np.int64(20)] clct_ans[np.int64(20), np.int64(20)]  3.177sec\n"
     ]
    },
    {
     "name": "stdout",
     "output_type": "stream",
     "text": [
      "Epoch 353 tr: l 1.141 a 0.639 clct[np.int64(53), np.int64(47)] clct_ans[np.int64(47), np.int64(53)]  lr 0.024133 78.164sec(train) 21.079sec(infer)\n"
     ]
    },
    {
     "name": "stdout",
     "output_type": "stream",
     "text": [
      "Epoch 353 tst: l 1.034 a 0.676 clct[np.int64(20), np.int64(20)] clct_ans[np.int64(20), np.int64(20)]  3.132sec\n"
     ]
    },
    {
     "name": "stdout",
     "output_type": "stream",
     "text": [
      "Epoch 354 tr: l 1.124 a 0.646 clct[np.int64(45), np.int64(55)] clct_ans[np.int64(55), np.int64(45)]  lr 0.024130 74.652sec(train) 20.819sec(infer)\n"
     ]
    },
    {
     "name": "stdout",
     "output_type": "stream",
     "text": [
      "Epoch 354 tst: l 1.026 a 0.677 clct[np.int64(20), np.int64(20)] clct_ans[np.int64(20), np.int64(20)]  3.122sec\n"
     ]
    },
    {
     "name": "stdout",
     "output_type": "stream",
     "text": [
      "Epoch 355 tr: l 1.136 a 0.646 clct[np.int64(53), np.int64(47)] clct_ans[np.int64(47), np.int64(53)]  lr 0.024128 78.887sec(train) 20.828sec(infer)\n"
     ]
    },
    {
     "name": "stdout",
     "output_type": "stream",
     "text": [
      "Epoch 355 tst: l 1.025 a 0.679 clct[np.int64(20), np.int64(20)] clct_ans[np.int64(20), np.int64(20)]  3.119sec\n"
     ]
    },
    {
     "name": "stdout",
     "output_type": "stream",
     "text": [
      "Epoch 356 tr: l 1.135 a 0.645 clct[np.int64(53), np.int64(47)] clct_ans[np.int64(47), np.int64(53)]  lr 0.024126 74.610sec(train) 20.820sec(infer)\n"
     ]
    },
    {
     "name": "stdout",
     "output_type": "stream",
     "text": [
      "Epoch 356 tst: l 1.019 a 0.680 clct[np.int64(20), np.int64(20)] clct_ans[np.int64(20), np.int64(20)]  3.115sec\n"
     ]
    },
    {
     "name": "stdout",
     "output_type": "stream",
     "text": [
      "Epoch 357 tr: l 1.118 a 0.651 clct[np.int64(45), np.int64(55)] clct_ans[np.int64(55), np.int64(45)]  lr 0.024123 79.003sec(train) 20.801sec(infer)\n"
     ]
    },
    {
     "name": "stdout",
     "output_type": "stream",
     "text": [
      "Epoch 357 tst: l 1.016 a 0.683 clct[np.int64(20), np.int64(20)] clct_ans[np.int64(20), np.int64(20)]  3.131sec\n"
     ]
    },
    {
     "name": "stdout",
     "output_type": "stream",
     "text": [
      "Epoch 358 tr: l 1.104 a 0.652 clct[np.int64(45), np.int64(55)] clct_ans[np.int64(55), np.int64(45)]  lr 0.024121 78.942sec(train) 20.702sec(infer)\n"
     ]
    },
    {
     "name": "stdout",
     "output_type": "stream",
     "text": [
      "Epoch 358 tst: l 1.010 a 0.682 clct[np.int64(20), np.int64(20)] clct_ans[np.int64(20), np.int64(20)]  3.116sec\n"
     ]
    },
    {
     "name": "stdout",
     "output_type": "stream",
     "text": [
      "Epoch 359 tr: l 1.103 a 0.656 clct[np.int64(46), np.int64(54)] clct_ans[np.int64(54), np.int64(46)]  lr 0.024118 75.912sec(train) 20.915sec(infer)\n"
     ]
    },
    {
     "name": "stdout",
     "output_type": "stream",
     "text": [
      "Epoch 359 tst: l 1.005 a 0.685 clct[np.int64(20), np.int64(20)] clct_ans[np.int64(20), np.int64(20)]  3.145sec\n"
     ]
    },
    {
     "name": "stdout",
     "output_type": "stream",
     "text": [
      "Epoch 360 tr: l 1.094 a 0.655 clct[np.int64(50), np.int64(50)] clct_ans[np.int64(50), np.int64(50)]  lr 0.024116 78.633sec(train) 20.831sec(infer)\n"
     ]
    },
    {
     "name": "stdout",
     "output_type": "stream",
     "text": [
      "Epoch 360 tst: l 1.004 a 0.685 clct[np.int64(20), np.int64(20)] clct_ans[np.int64(20), np.int64(20)]  3.140sec\n",
      "result written at output_dfca_gi/results.pickle\n"
     ]
    },
    {
     "name": "stdout",
     "output_type": "stream",
     "text": [
      "checkpoint written at output_dfca_gi/checkpoint.pt\n"
     ]
    },
    {
     "name": "stdout",
     "output_type": "stream",
     "text": [
      "Epoch 361 tr: l 1.098 a 0.658 clct[np.int64(55), np.int64(45)] clct_ans[np.int64(45), np.int64(55)]  lr 0.024114 74.922sec(train) 20.922sec(infer)\n"
     ]
    },
    {
     "name": "stdout",
     "output_type": "stream",
     "text": [
      "Epoch 361 tst: l 0.999 a 0.689 clct[np.int64(20), np.int64(20)] clct_ans[np.int64(20), np.int64(20)]  3.206sec\n"
     ]
    },
    {
     "name": "stdout",
     "output_type": "stream",
     "text": [
      "Epoch 362 tr: l 1.077 a 0.659 clct[np.int64(53), np.int64(47)] clct_ans[np.int64(47), np.int64(53)]  lr 0.024111 78.680sec(train) 20.816sec(infer)\n"
     ]
    },
    {
     "name": "stdout",
     "output_type": "stream",
     "text": [
      "Epoch 362 tst: l 0.992 a 0.689 clct[np.int64(20), np.int64(20)] clct_ans[np.int64(20), np.int64(20)]  3.189sec\n"
     ]
    },
    {
     "name": "stdout",
     "output_type": "stream",
     "text": [
      "Epoch 363 tr: l 1.083 a 0.659 clct[np.int64(52), np.int64(48)] clct_ans[np.int64(48), np.int64(52)]  lr 0.024109 78.629sec(train) 20.828sec(infer)\n"
     ]
    },
    {
     "name": "stdout",
     "output_type": "stream",
     "text": [
      "Epoch 363 tst: l 0.992 a 0.690 clct[np.int64(20), np.int64(20)] clct_ans[np.int64(20), np.int64(20)]  3.183sec\n"
     ]
    },
    {
     "name": "stdout",
     "output_type": "stream",
     "text": [
      "Epoch 364 tr: l 1.074 a 0.662 clct[np.int64(57), np.int64(43)] clct_ans[np.int64(43), np.int64(57)]  lr 0.024106 78.375sec(train) 20.795sec(infer)\n"
     ]
    },
    {
     "name": "stdout",
     "output_type": "stream",
     "text": [
      "Epoch 364 tst: l 0.989 a 0.691 clct[np.int64(20), np.int64(20)] clct_ans[np.int64(20), np.int64(20)]  3.178sec\n"
     ]
    },
    {
     "name": "stdout",
     "output_type": "stream",
     "text": [
      "Epoch 365 tr: l 1.072 a 0.660 clct[np.int64(53), np.int64(47)] clct_ans[np.int64(47), np.int64(53)]  lr 0.024104 79.004sec(train) 20.807sec(infer)\n"
     ]
    },
    {
     "name": "stdout",
     "output_type": "stream",
     "text": [
      "Epoch 365 tst: l 0.986 a 0.690 clct[np.int64(20), np.int64(20)] clct_ans[np.int64(20), np.int64(20)]  3.187sec\n"
     ]
    },
    {
     "name": "stdout",
     "output_type": "stream",
     "text": [
      "Epoch 366 tr: l 1.070 a 0.660 clct[np.int64(48), np.int64(52)] clct_ans[np.int64(52), np.int64(48)]  lr 0.024101 77.647sec(train) 20.864sec(infer)\n"
     ]
    },
    {
     "name": "stdout",
     "output_type": "stream",
     "text": [
      "Epoch 366 tst: l 0.984 a 0.692 clct[np.int64(20), np.int64(20)] clct_ans[np.int64(20), np.int64(20)]  3.122sec\n"
     ]
    },
    {
     "name": "stdout",
     "output_type": "stream",
     "text": [
      "Epoch 367 tr: l 1.065 a 0.661 clct[np.int64(53), np.int64(47)] clct_ans[np.int64(47), np.int64(53)]  lr 0.024099 77.923sec(train) 20.836sec(infer)\n"
     ]
    },
    {
     "name": "stdout",
     "output_type": "stream",
     "text": [
      "Epoch 367 tst: l 0.980 a 0.691 clct[np.int64(20), np.int64(20)] clct_ans[np.int64(20), np.int64(20)]  3.330sec\n"
     ]
    },
    {
     "name": "stdout",
     "output_type": "stream",
     "text": [
      "Epoch 368 tr: l 1.061 a 0.662 clct[np.int64(51), np.int64(49)] clct_ans[np.int64(49), np.int64(51)]  lr 0.024097 77.799sec(train) 20.811sec(infer)\n"
     ]
    },
    {
     "name": "stdout",
     "output_type": "stream",
     "text": [
      "Epoch 368 tst: l 0.976 a 0.693 clct[np.int64(20), np.int64(20)] clct_ans[np.int64(20), np.int64(20)]  3.112sec\n"
     ]
    },
    {
     "name": "stdout",
     "output_type": "stream",
     "text": [
      "Epoch 369 tr: l 1.059 a 0.664 clct[np.int64(48), np.int64(52)] clct_ans[np.int64(52), np.int64(48)]  lr 0.024094 77.593sec(train) 20.750sec(infer)\n"
     ]
    },
    {
     "name": "stdout",
     "output_type": "stream",
     "text": [
      "Epoch 369 tst: l 0.973 a 0.693 clct[np.int64(20), np.int64(20)] clct_ans[np.int64(20), np.int64(20)]  3.120sec\n"
     ]
    },
    {
     "name": "stdout",
     "output_type": "stream",
     "text": [
      "Epoch 370 tr: l 1.057 a 0.664 clct[np.int64(51), np.int64(49)] clct_ans[np.int64(49), np.int64(51)]  lr 0.024092 77.168sec(train) 20.761sec(infer)\n"
     ]
    },
    {
     "name": "stdout",
     "output_type": "stream",
     "text": [
      "Epoch 370 tst: l 0.969 a 0.694 clct[np.int64(20), np.int64(20)] clct_ans[np.int64(20), np.int64(20)]  3.119sec\n",
      "result written at output_dfca_gi/results.pickle\n",
      "checkpoint written at output_dfca_gi/checkpoint.pt\n"
     ]
    },
    {
     "name": "stdout",
     "output_type": "stream",
     "text": [
      "Epoch 371 tr: l 1.050 a 0.664 clct[np.int64(47), np.int64(53)] clct_ans[np.int64(53), np.int64(47)]  lr 0.024089 77.219sec(train) 20.759sec(infer)\n"
     ]
    },
    {
     "name": "stdout",
     "output_type": "stream",
     "text": [
      "Epoch 371 tst: l 0.963 a 0.694 clct[np.int64(20), np.int64(20)] clct_ans[np.int64(20), np.int64(20)]  3.124sec\n"
     ]
    },
    {
     "name": "stdout",
     "output_type": "stream",
     "text": [
      "Epoch 372 tr: l 1.036 a 0.668 clct[np.int64(56), np.int64(44)] clct_ans[np.int64(44), np.int64(56)]  lr 0.024087 77.527sec(train) 21.027sec(infer)\n"
     ]
    },
    {
     "name": "stdout",
     "output_type": "stream",
     "text": [
      "Epoch 372 tst: l 0.962 a 0.695 clct[np.int64(20), np.int64(20)] clct_ans[np.int64(20), np.int64(20)]  3.119sec\n"
     ]
    },
    {
     "name": "stdout",
     "output_type": "stream",
     "text": [
      "Epoch 373 tr: l 1.033 a 0.670 clct[np.int64(49), np.int64(51)] clct_ans[np.int64(51), np.int64(49)]  lr 0.024085 77.455sec(train) 20.755sec(infer)\n"
     ]
    },
    {
     "name": "stdout",
     "output_type": "stream",
     "text": [
      "Epoch 373 tst: l 0.960 a 0.696 clct[np.int64(20), np.int64(20)] clct_ans[np.int64(20), np.int64(20)]  3.114sec\n"
     ]
    },
    {
     "name": "stdout",
     "output_type": "stream",
     "text": [
      "Epoch 374 tr: l 1.046 a 0.665 clct[np.int64(56), np.int64(44)] clct_ans[np.int64(44), np.int64(56)]  lr 0.024082 77.435sec(train) 20.709sec(infer)\n"
     ]
    },
    {
     "name": "stdout",
     "output_type": "stream",
     "text": [
      "Epoch 374 tst: l 0.962 a 0.696 clct[np.int64(20), np.int64(20)] clct_ans[np.int64(20), np.int64(20)]  3.164sec\n"
     ]
    },
    {
     "name": "stdout",
     "output_type": "stream",
     "text": [
      "Epoch 375 tr: l 1.025 a 0.669 clct[np.int64(49), np.int64(51)] clct_ans[np.int64(51), np.int64(49)]  lr 0.024080 77.531sec(train) 20.703sec(infer)\n"
     ]
    },
    {
     "name": "stdout",
     "output_type": "stream",
     "text": [
      "Epoch 375 tst: l 0.956 a 0.698 clct[np.int64(20), np.int64(20)] clct_ans[np.int64(20), np.int64(20)]  3.169sec\n"
     ]
    },
    {
     "name": "stdout",
     "output_type": "stream",
     "text": [
      "Epoch 376 tr: l 1.040 a 0.669 clct[np.int64(53), np.int64(47)] clct_ans[np.int64(47), np.int64(53)]  lr 0.024077 78.937sec(train) 20.767sec(infer)\n"
     ]
    },
    {
     "name": "stdout",
     "output_type": "stream",
     "text": [
      "Epoch 376 tst: l 0.956 a 0.698 clct[np.int64(20), np.int64(20)] clct_ans[np.int64(20), np.int64(20)]  3.167sec\n"
     ]
    },
    {
     "name": "stdout",
     "output_type": "stream",
     "text": [
      "Epoch 377 tr: l 1.034 a 0.670 clct[np.int64(46), np.int64(54)] clct_ans[np.int64(54), np.int64(46)]  lr 0.024075 78.533sec(train) 20.770sec(infer)\n"
     ]
    },
    {
     "name": "stdout",
     "output_type": "stream",
     "text": [
      "Epoch 377 tst: l 0.952 a 0.700 clct[np.int64(20), np.int64(20)] clct_ans[np.int64(20), np.int64(20)]  3.190sec\n"
     ]
    },
    {
     "name": "stdout",
     "output_type": "stream",
     "text": [
      "Epoch 378 tr: l 1.039 a 0.669 clct[np.int64(50), np.int64(50)] clct_ans[np.int64(50), np.int64(50)]  lr 0.024073 78.360sec(train) 20.823sec(infer)\n"
     ]
    },
    {
     "name": "stdout",
     "output_type": "stream",
     "text": [
      "Epoch 378 tst: l 0.950 a 0.698 clct[np.int64(20), np.int64(20)] clct_ans[np.int64(20), np.int64(20)]  3.158sec\n"
     ]
    },
    {
     "name": "stdout",
     "output_type": "stream",
     "text": [
      "Epoch 379 tr: l 1.026 a 0.673 clct[np.int64(48), np.int64(52)] clct_ans[np.int64(52), np.int64(48)]  lr 0.024070 77.971sec(train) 20.819sec(infer)\n"
     ]
    },
    {
     "name": "stdout",
     "output_type": "stream",
     "text": [
      "Epoch 379 tst: l 0.946 a 0.698 clct[np.int64(20), np.int64(20)] clct_ans[np.int64(20), np.int64(20)]  3.172sec\n"
     ]
    },
    {
     "name": "stdout",
     "output_type": "stream",
     "text": [
      "Epoch 380 tr: l 1.027 a 0.672 clct[np.int64(51), np.int64(49)] clct_ans[np.int64(49), np.int64(51)]  lr 0.024068 77.681sec(train) 20.813sec(infer)\n"
     ]
    },
    {
     "name": "stdout",
     "output_type": "stream",
     "text": [
      "Epoch 380 tst: l 0.946 a 0.697 clct[np.int64(20), np.int64(20)] clct_ans[np.int64(20), np.int64(20)]  3.171sec\n",
      "result written at output_dfca_gi/results.pickle\n"
     ]
    },
    {
     "name": "stdout",
     "output_type": "stream",
     "text": [
      "checkpoint written at output_dfca_gi/checkpoint.pt\n"
     ]
    },
    {
     "name": "stdout",
     "output_type": "stream",
     "text": [
      "Epoch 381 tr: l 1.025 a 0.672 clct[np.int64(45), np.int64(55)] clct_ans[np.int64(55), np.int64(45)]  lr 0.024065 78.728sec(train) 20.833sec(infer)\n"
     ]
    },
    {
     "name": "stdout",
     "output_type": "stream",
     "text": [
      "Epoch 381 tst: l 0.941 a 0.700 clct[np.int64(20), np.int64(20)] clct_ans[np.int64(20), np.int64(20)]  3.171sec\n"
     ]
    },
    {
     "name": "stdout",
     "output_type": "stream",
     "text": [
      "Epoch 382 tr: l 1.017 a 0.669 clct[np.int64(49), np.int64(51)] clct_ans[np.int64(51), np.int64(49)]  lr 0.024063 75.412sec(train) 20.839sec(infer)\n"
     ]
    },
    {
     "name": "stdout",
     "output_type": "stream",
     "text": [
      "Epoch 382 tst: l 0.938 a 0.700 clct[np.int64(20), np.int64(20)] clct_ans[np.int64(20), np.int64(20)]  3.186sec\n"
     ]
    },
    {
     "name": "stdout",
     "output_type": "stream",
     "text": [
      "Epoch 383 tr: l 1.020 a 0.672 clct[np.int64(45), np.int64(55)] clct_ans[np.int64(55), np.int64(45)]  lr 0.024061 76.030sec(train) 20.846sec(infer)\n"
     ]
    },
    {
     "name": "stdout",
     "output_type": "stream",
     "text": [
      "Epoch 383 tst: l 0.940 a 0.700 clct[np.int64(20), np.int64(20)] clct_ans[np.int64(20), np.int64(20)]  3.149sec\n"
     ]
    },
    {
     "name": "stdout",
     "output_type": "stream",
     "text": [
      "Epoch 384 tr: l 1.009 a 0.675 clct[np.int64(52), np.int64(48)] clct_ans[np.int64(48), np.int64(52)]  lr 0.024058 78.195sec(train) 20.782sec(infer)\n"
     ]
    },
    {
     "name": "stdout",
     "output_type": "stream",
     "text": [
      "Epoch 384 tst: l 0.938 a 0.701 clct[np.int64(20), np.int64(20)] clct_ans[np.int64(20), np.int64(20)]  3.167sec\n"
     ]
    },
    {
     "name": "stdout",
     "output_type": "stream",
     "text": [
      "Epoch 385 tr: l 1.007 a 0.674 clct[np.int64(50), np.int64(50)] clct_ans[np.int64(50), np.int64(50)]  lr 0.024056 78.472sec(train) 20.797sec(infer)\n"
     ]
    },
    {
     "name": "stdout",
     "output_type": "stream",
     "text": [
      "Epoch 385 tst: l 0.938 a 0.701 clct[np.int64(20), np.int64(20)] clct_ans[np.int64(20), np.int64(20)]  3.173sec\n"
     ]
    },
    {
     "name": "stdout",
     "output_type": "stream",
     "text": [
      "Epoch 386 tr: l 1.011 a 0.673 clct[np.int64(53), np.int64(47)] clct_ans[np.int64(47), np.int64(53)]  lr 0.024053 79.223sec(train) 20.764sec(infer)\n"
     ]
    },
    {
     "name": "stdout",
     "output_type": "stream",
     "text": [
      "Epoch 386 tst: l 0.935 a 0.701 clct[np.int64(20), np.int64(20)] clct_ans[np.int64(20), np.int64(20)]  3.386sec\n"
     ]
    },
    {
     "name": "stdout",
     "output_type": "stream",
     "text": [
      "Epoch 387 tr: l 1.016 a 0.673 clct[np.int64(48), np.int64(52)] clct_ans[np.int64(52), np.int64(48)]  lr 0.024051 76.585sec(train) 20.772sec(infer)\n"
     ]
    },
    {
     "name": "stdout",
     "output_type": "stream",
     "text": [
      "Epoch 387 tst: l 0.932 a 0.702 clct[np.int64(20), np.int64(20)] clct_ans[np.int64(20), np.int64(20)]  3.154sec\n"
     ]
    },
    {
     "name": "stdout",
     "output_type": "stream",
     "text": [
      "Epoch 388 tr: l 1.003 a 0.677 clct[np.int64(52), np.int64(48)] clct_ans[np.int64(48), np.int64(52)]  lr 0.024049 78.229sec(train) 20.783sec(infer)\n"
     ]
    },
    {
     "name": "stdout",
     "output_type": "stream",
     "text": [
      "Epoch 388 tst: l 0.933 a 0.701 clct[np.int64(20), np.int64(20)] clct_ans[np.int64(20), np.int64(20)]  3.158sec\n"
     ]
    },
    {
     "name": "stdout",
     "output_type": "stream",
     "text": [
      "Epoch 389 tr: l 1.001 a 0.676 clct[np.int64(50), np.int64(50)] clct_ans[np.int64(50), np.int64(50)]  lr 0.024046 77.734sec(train) 20.790sec(infer)\n"
     ]
    },
    {
     "name": "stdout",
     "output_type": "stream",
     "text": [
      "Epoch 389 tst: l 0.931 a 0.701 clct[np.int64(20), np.int64(20)] clct_ans[np.int64(20), np.int64(20)]  3.173sec\n"
     ]
    },
    {
     "name": "stdout",
     "output_type": "stream",
     "text": [
      "Epoch 390 tr: l 0.998 a 0.677 clct[np.int64(41), np.int64(59)] clct_ans[np.int64(59), np.int64(41)]  lr 0.024044 77.717sec(train) 20.780sec(infer)\n"
     ]
    },
    {
     "name": "stdout",
     "output_type": "stream",
     "text": [
      "Epoch 390 tst: l 0.930 a 0.703 clct[np.int64(20), np.int64(20)] clct_ans[np.int64(20), np.int64(20)]  3.157sec\n",
      "result written at output_dfca_gi/results.pickle\n",
      "checkpoint written at output_dfca_gi/checkpoint.pt\n"
     ]
    },
    {
     "name": "stdout",
     "output_type": "stream",
     "text": [
      "Epoch 391 tr: l 1.007 a 0.676 clct[np.int64(48), np.int64(52)] clct_ans[np.int64(52), np.int64(48)]  lr 0.024041 77.172sec(train) 20.904sec(infer)\n"
     ]
    },
    {
     "name": "stdout",
     "output_type": "stream",
     "text": [
      "Epoch 391 tst: l 0.931 a 0.702 clct[np.int64(20), np.int64(20)] clct_ans[np.int64(20), np.int64(20)]  3.164sec\n"
     ]
    },
    {
     "name": "stdout",
     "output_type": "stream",
     "text": [
      "Epoch 392 tr: l 0.997 a 0.676 clct[np.int64(50), np.int64(50)] clct_ans[np.int64(50), np.int64(50)]  lr 0.024039 77.213sec(train) 20.730sec(infer)\n"
     ]
    },
    {
     "name": "stdout",
     "output_type": "stream",
     "text": [
      "Epoch 392 tst: l 0.927 a 0.702 clct[np.int64(20), np.int64(20)] clct_ans[np.int64(20), np.int64(20)]  3.169sec\n"
     ]
    },
    {
     "name": "stdout",
     "output_type": "stream",
     "text": [
      "Epoch 393 tr: l 0.994 a 0.679 clct[np.int64(49), np.int64(51)] clct_ans[np.int64(51), np.int64(49)]  lr 0.024037 77.291sec(train) 20.722sec(infer)\n"
     ]
    },
    {
     "name": "stdout",
     "output_type": "stream",
     "text": [
      "Epoch 393 tst: l 0.926 a 0.704 clct[np.int64(20), np.int64(20)] clct_ans[np.int64(20), np.int64(20)]  3.175sec\n"
     ]
    },
    {
     "name": "stdout",
     "output_type": "stream",
     "text": [
      "Epoch 394 tr: l 1.004 a 0.677 clct[np.int64(47), np.int64(53)] clct_ans[np.int64(53), np.int64(47)]  lr 0.024034 77.749sec(train) 20.973sec(infer)\n"
     ]
    },
    {
     "name": "stdout",
     "output_type": "stream",
     "text": [
      "Epoch 394 tst: l 0.925 a 0.704 clct[np.int64(20), np.int64(20)] clct_ans[np.int64(20), np.int64(20)]  3.177sec\n"
     ]
    },
    {
     "name": "stdout",
     "output_type": "stream",
     "text": [
      "Epoch 395 tr: l 0.988 a 0.679 clct[np.int64(50), np.int64(50)] clct_ans[np.int64(50), np.int64(50)]  lr 0.024032 77.964sec(train) 20.912sec(infer)\n"
     ]
    },
    {
     "name": "stdout",
     "output_type": "stream",
     "text": [
      "Epoch 395 tst: l 0.926 a 0.704 clct[np.int64(20), np.int64(20)] clct_ans[np.int64(20), np.int64(20)]  3.186sec\n"
     ]
    },
    {
     "name": "stdout",
     "output_type": "stream",
     "text": [
      "Epoch 396 tr: l 0.997 a 0.677 clct[np.int64(53), np.int64(47)] clct_ans[np.int64(47), np.int64(53)]  lr 0.024029 78.072sec(train) 20.852sec(infer)\n"
     ]
    },
    {
     "name": "stdout",
     "output_type": "stream",
     "text": [
      "Epoch 396 tst: l 0.927 a 0.703 clct[np.int64(20), np.int64(20)] clct_ans[np.int64(20), np.int64(20)]  3.178sec\n"
     ]
    },
    {
     "name": "stdout",
     "output_type": "stream",
     "text": [
      "Epoch 397 tr: l 1.003 a 0.674 clct[np.int64(51), np.int64(49)] clct_ans[np.int64(49), np.int64(51)]  lr 0.024027 78.518sec(train) 21.071sec(infer)\n"
     ]
    },
    {
     "name": "stdout",
     "output_type": "stream",
     "text": [
      "Epoch 397 tst: l 0.924 a 0.704 clct[np.int64(20), np.int64(20)] clct_ans[np.int64(20), np.int64(20)]  3.197sec\n"
     ]
    },
    {
     "name": "stdout",
     "output_type": "stream",
     "text": [
      "Epoch 398 tr: l 0.991 a 0.677 clct[np.int64(51), np.int64(49)] clct_ans[np.int64(49), np.int64(51)]  lr 0.024024 77.563sec(train) 20.914sec(infer)\n"
     ]
    },
    {
     "name": "stdout",
     "output_type": "stream",
     "text": [
      "Epoch 398 tst: l 0.920 a 0.706 clct[np.int64(20), np.int64(20)] clct_ans[np.int64(20), np.int64(20)]  3.196sec\n"
     ]
    },
    {
     "name": "stdout",
     "output_type": "stream",
     "text": [
      "Epoch 399 tr: l 0.988 a 0.680 clct[np.int64(47), np.int64(53)] clct_ans[np.int64(53), np.int64(47)]  lr 0.024022 79.017sec(train) 20.828sec(infer)\n"
     ]
    },
    {
     "name": "stdout",
     "output_type": "stream",
     "text": [
      "Epoch 399 tst: l 0.920 a 0.707 clct[np.int64(20), np.int64(20)] clct_ans[np.int64(20), np.int64(20)]  3.169sec\n"
     ]
    },
    {
     "name": "stdout",
     "output_type": "stream",
     "text": [
      "Epoch 400 tr: l 0.983 a 0.681 clct[np.int64(46), np.int64(54)] clct_ans[np.int64(54), np.int64(46)]  lr 0.024020 78.500sec(train) 20.842sec(infer)\n"
     ]
    },
    {
     "name": "stdout",
     "output_type": "stream",
     "text": [
      "Epoch 400 tst: l 0.921 a 0.704 clct[np.int64(20), np.int64(20)] clct_ans[np.int64(20), np.int64(20)]  3.177sec\n",
      "result written at output_dfca_gi/results.pickle\n"
     ]
    },
    {
     "name": "stdout",
     "output_type": "stream",
     "text": [
      "checkpoint written at output_dfca_gi/checkpoint.pt\n"
     ]
    },
    {
     "name": "stdout",
     "output_type": "stream",
     "text": [
      "Epoch 401 tr: l 0.985 a 0.677 clct[np.int64(48), np.int64(52)] clct_ans[np.int64(52), np.int64(48)]  lr 0.024017 77.590sec(train) 20.800sec(infer)\n"
     ]
    },
    {
     "name": "stdout",
     "output_type": "stream",
     "text": [
      "Epoch 401 tst: l 0.921 a 0.705 clct[np.int64(20), np.int64(20)] clct_ans[np.int64(20), np.int64(20)]  3.180sec\n"
     ]
    },
    {
     "name": "stdout",
     "output_type": "stream",
     "text": [
      "Epoch 402 tr: l 0.977 a 0.680 clct[np.int64(50), np.int64(50)] clct_ans[np.int64(50), np.int64(50)]  lr 0.024015 77.405sec(train) 20.803sec(infer)\n"
     ]
    },
    {
     "name": "stdout",
     "output_type": "stream",
     "text": [
      "Epoch 402 tst: l 0.918 a 0.706 clct[np.int64(20), np.int64(20)] clct_ans[np.int64(20), np.int64(20)]  3.167sec\n"
     ]
    },
    {
     "name": "stdout",
     "output_type": "stream",
     "text": [
      "Epoch 403 tr: l 0.988 a 0.680 clct[np.int64(54), np.int64(46)] clct_ans[np.int64(46), np.int64(54)]  lr 0.024012 77.397sec(train) 20.815sec(infer)\n"
     ]
    },
    {
     "name": "stdout",
     "output_type": "stream",
     "text": [
      "Epoch 403 tst: l 0.920 a 0.705 clct[np.int64(20), np.int64(20)] clct_ans[np.int64(20), np.int64(20)]  3.166sec\n"
     ]
    },
    {
     "name": "stdout",
     "output_type": "stream",
     "text": [
      "Epoch 404 tr: l 0.999 a 0.674 clct[np.int64(47), np.int64(53)] clct_ans[np.int64(53), np.int64(47)]  lr 0.024010 78.438sec(train) 20.772sec(infer)\n"
     ]
    },
    {
     "name": "stdout",
     "output_type": "stream",
     "text": [
      "Epoch 404 tst: l 0.920 a 0.707 clct[np.int64(20), np.int64(20)] clct_ans[np.int64(20), np.int64(20)]  3.161sec\n"
     ]
    },
    {
     "name": "stdout",
     "output_type": "stream",
     "text": [
      "Epoch 405 tr: l 0.982 a 0.681 clct[np.int64(51), np.int64(49)] clct_ans[np.int64(49), np.int64(51)]  lr 0.024008 77.952sec(train) 20.793sec(infer)\n"
     ]
    },
    {
     "name": "stdout",
     "output_type": "stream",
     "text": [
      "Epoch 405 tst: l 0.915 a 0.706 clct[np.int64(20), np.int64(20)] clct_ans[np.int64(20), np.int64(20)]  3.374sec\n"
     ]
    },
    {
     "name": "stdout",
     "output_type": "stream",
     "text": [
      "Epoch 406 tr: l 0.976 a 0.681 clct[np.int64(51), np.int64(49)] clct_ans[np.int64(49), np.int64(51)]  lr 0.024005 77.619sec(train) 20.752sec(infer)\n"
     ]
    },
    {
     "name": "stdout",
     "output_type": "stream",
     "text": [
      "Epoch 406 tst: l 0.918 a 0.705 clct[np.int64(20), np.int64(20)] clct_ans[np.int64(20), np.int64(20)]  3.177sec\n"
     ]
    },
    {
     "name": "stdout",
     "output_type": "stream",
     "text": [
      "Epoch 407 tr: l 0.980 a 0.678 clct[np.int64(44), np.int64(56)] clct_ans[np.int64(56), np.int64(44)]  lr 0.024003 78.775sec(train) 20.826sec(infer)\n"
     ]
    },
    {
     "name": "stdout",
     "output_type": "stream",
     "text": [
      "Epoch 407 tst: l 0.916 a 0.705 clct[np.int64(20), np.int64(20)] clct_ans[np.int64(20), np.int64(20)]  3.192sec\n"
     ]
    },
    {
     "name": "stdout",
     "output_type": "stream",
     "text": [
      "Epoch 408 tr: l 0.973 a 0.681 clct[np.int64(54), np.int64(46)] clct_ans[np.int64(46), np.int64(54)]  lr 0.024000 78.953sec(train) 20.676sec(infer)\n"
     ]
    },
    {
     "name": "stdout",
     "output_type": "stream",
     "text": [
      "Epoch 408 tst: l 0.915 a 0.706 clct[np.int64(20), np.int64(20)] clct_ans[np.int64(20), np.int64(20)]  3.172sec\n"
     ]
    },
    {
     "name": "stdout",
     "output_type": "stream",
     "text": [
      "Epoch 409 tr: l 0.975 a 0.681 clct[np.int64(51), np.int64(49)] clct_ans[np.int64(49), np.int64(51)]  lr 0.023998 79.089sec(train) 20.728sec(infer)\n"
     ]
    },
    {
     "name": "stdout",
     "output_type": "stream",
     "text": [
      "Epoch 409 tst: l 0.914 a 0.707 clct[np.int64(20), np.int64(20)] clct_ans[np.int64(20), np.int64(20)]  3.172sec\n"
     ]
    },
    {
     "name": "stdout",
     "output_type": "stream",
     "text": [
      "Epoch 410 tr: l 0.972 a 0.682 clct[np.int64(57), np.int64(43)] clct_ans[np.int64(43), np.int64(57)]  lr 0.023996 77.653sec(train) 20.674sec(infer)\n"
     ]
    },
    {
     "name": "stdout",
     "output_type": "stream",
     "text": [
      "Epoch 410 tst: l 0.914 a 0.705 clct[np.int64(20), np.int64(20)] clct_ans[np.int64(20), np.int64(20)]  3.164sec\n",
      "result written at output_dfca_gi/results.pickle\n",
      "checkpoint written at output_dfca_gi/checkpoint.pt\n"
     ]
    },
    {
     "name": "stdout",
     "output_type": "stream",
     "text": [
      "Epoch 411 tr: l 0.977 a 0.681 clct[np.int64(50), np.int64(50)] clct_ans[np.int64(50), np.int64(50)]  lr 0.023993 77.234sec(train) 20.741sec(infer)\n"
     ]
    },
    {
     "name": "stdout",
     "output_type": "stream",
     "text": [
      "Epoch 411 tst: l 0.912 a 0.707 clct[np.int64(20), np.int64(20)] clct_ans[np.int64(20), np.int64(20)]  3.122sec\n"
     ]
    },
    {
     "name": "stdout",
     "output_type": "stream",
     "text": [
      "Epoch 412 tr: l 0.973 a 0.680 clct[np.int64(53), np.int64(47)] clct_ans[np.int64(47), np.int64(53)]  lr 0.023991 78.636sec(train) 20.680sec(infer)\n"
     ]
    },
    {
     "name": "stdout",
     "output_type": "stream",
     "text": [
      "Epoch 412 tst: l 0.912 a 0.705 clct[np.int64(20), np.int64(20)] clct_ans[np.int64(20), np.int64(20)]  3.127sec\n"
     ]
    },
    {
     "name": "stdout",
     "output_type": "stream",
     "text": [
      "Epoch 413 tr: l 0.972 a 0.685 clct[np.int64(50), np.int64(50)] clct_ans[np.int64(50), np.int64(50)]  lr 0.023988 78.245sec(train) 20.714sec(infer)\n"
     ]
    },
    {
     "name": "stdout",
     "output_type": "stream",
     "text": [
      "Epoch 413 tst: l 0.911 a 0.706 clct[np.int64(20), np.int64(20)] clct_ans[np.int64(20), np.int64(20)]  3.129sec\n"
     ]
    },
    {
     "name": "stdout",
     "output_type": "stream",
     "text": [
      "Epoch 414 tr: l 0.975 a 0.679 clct[np.int64(48), np.int64(52)] clct_ans[np.int64(52), np.int64(48)]  lr 0.023986 79.744sec(train) 20.792sec(infer)\n"
     ]
    },
    {
     "name": "stdout",
     "output_type": "stream",
     "text": [
      "Epoch 414 tst: l 0.912 a 0.706 clct[np.int64(20), np.int64(20)] clct_ans[np.int64(20), np.int64(20)]  3.125sec\n"
     ]
    },
    {
     "name": "stdout",
     "output_type": "stream",
     "text": [
      "Epoch 415 tr: l 0.964 a 0.683 clct[np.int64(52), np.int64(48)] clct_ans[np.int64(48), np.int64(52)]  lr 0.023984 78.340sec(train) 20.721sec(infer)\n"
     ]
    },
    {
     "name": "stdout",
     "output_type": "stream",
     "text": [
      "Epoch 415 tst: l 0.912 a 0.707 clct[np.int64(20), np.int64(20)] clct_ans[np.int64(20), np.int64(20)]  3.116sec\n"
     ]
    },
    {
     "name": "stdout",
     "output_type": "stream",
     "text": [
      "Epoch 416 tr: l 0.979 a 0.681 clct[np.int64(50), np.int64(50)] clct_ans[np.int64(50), np.int64(50)]  lr 0.023981 77.957sec(train) 20.751sec(infer)\n"
     ]
    },
    {
     "name": "stdout",
     "output_type": "stream",
     "text": [
      "Epoch 416 tst: l 0.913 a 0.707 clct[np.int64(20), np.int64(20)] clct_ans[np.int64(20), np.int64(20)]  3.114sec\n"
     ]
    },
    {
     "name": "stdout",
     "output_type": "stream",
     "text": [
      "Epoch 417 tr: l 0.972 a 0.681 clct[np.int64(50), np.int64(50)] clct_ans[np.int64(50), np.int64(50)]  lr 0.023979 76.749sec(train) 20.795sec(infer)\n"
     ]
    },
    {
     "name": "stdout",
     "output_type": "stream",
     "text": [
      "Epoch 417 tst: l 0.911 a 0.707 clct[np.int64(20), np.int64(20)] clct_ans[np.int64(20), np.int64(20)]  3.112sec\n"
     ]
    },
    {
     "name": "stdout",
     "output_type": "stream",
     "text": [
      "Epoch 418 tr: l 0.987 a 0.679 clct[np.int64(53), np.int64(47)] clct_ans[np.int64(47), np.int64(53)]  lr 0.023976 77.128sec(train) 20.815sec(infer)\n"
     ]
    },
    {
     "name": "stdout",
     "output_type": "stream",
     "text": [
      "Epoch 418 tst: l 0.913 a 0.707 clct[np.int64(20), np.int64(20)] clct_ans[np.int64(20), np.int64(20)]  3.125sec\n"
     ]
    },
    {
     "name": "stdout",
     "output_type": "stream",
     "text": [
      "Epoch 419 tr: l 0.965 a 0.684 clct[np.int64(49), np.int64(51)] clct_ans[np.int64(51), np.int64(49)]  lr 0.023974 78.898sec(train) 20.828sec(infer)\n"
     ]
    },
    {
     "name": "stdout",
     "output_type": "stream",
     "text": [
      "Epoch 419 tst: l 0.905 a 0.707 clct[np.int64(20), np.int64(20)] clct_ans[np.int64(20), np.int64(20)]  3.180sec\n"
     ]
    },
    {
     "name": "stdout",
     "output_type": "stream",
     "text": [
      "Epoch 420 tr: l 0.967 a 0.683 clct[np.int64(50), np.int64(50)] clct_ans[np.int64(50), np.int64(50)]  lr 0.023972 77.705sec(train) 20.851sec(infer)\n"
     ]
    },
    {
     "name": "stdout",
     "output_type": "stream",
     "text": [
      "Epoch 420 tst: l 0.908 a 0.708 clct[np.int64(20), np.int64(20)] clct_ans[np.int64(20), np.int64(20)]  3.171sec\n",
      "result written at output_dfca_gi/results.pickle\n"
     ]
    },
    {
     "name": "stdout",
     "output_type": "stream",
     "text": [
      "checkpoint written at output_dfca_gi/checkpoint.pt\n"
     ]
    },
    {
     "name": "stdout",
     "output_type": "stream",
     "text": [
      "Epoch 421 tr: l 0.964 a 0.686 clct[np.int64(51), np.int64(49)] clct_ans[np.int64(49), np.int64(51)]  lr 0.023969 77.885sec(train) 20.832sec(infer)\n"
     ]
    },
    {
     "name": "stdout",
     "output_type": "stream",
     "text": [
      "Epoch 421 tst: l 0.908 a 0.707 clct[np.int64(20), np.int64(20)] clct_ans[np.int64(20), np.int64(20)]  3.186sec\n"
     ]
    },
    {
     "name": "stdout",
     "output_type": "stream",
     "text": [
      "Epoch 422 tr: l 0.970 a 0.682 clct[np.int64(56), np.int64(44)] clct_ans[np.int64(44), np.int64(56)]  lr 0.023967 75.443sec(train) 20.805sec(infer)\n"
     ]
    },
    {
     "name": "stdout",
     "output_type": "stream",
     "text": [
      "Epoch 422 tst: l 0.911 a 0.707 clct[np.int64(20), np.int64(20)] clct_ans[np.int64(20), np.int64(20)]  3.166sec\n"
     ]
    },
    {
     "name": "stdout",
     "output_type": "stream",
     "text": [
      "Epoch 423 tr: l 0.969 a 0.682 clct[np.int64(46), np.int64(54)] clct_ans[np.int64(54), np.int64(46)]  lr 0.023965 76.283sec(train) 20.842sec(infer)\n"
     ]
    },
    {
     "name": "stdout",
     "output_type": "stream",
     "text": [
      "Epoch 423 tst: l 0.907 a 0.709 clct[np.int64(20), np.int64(20)] clct_ans[np.int64(20), np.int64(20)]  3.182sec\n"
     ]
    },
    {
     "name": "stdout",
     "output_type": "stream",
     "text": [
      "Epoch 424 tr: l 0.967 a 0.684 clct[np.int64(51), np.int64(49)] clct_ans[np.int64(49), np.int64(51)]  lr 0.023962 77.173sec(train) 20.996sec(infer)\n"
     ]
    },
    {
     "name": "stdout",
     "output_type": "stream",
     "text": [
      "Epoch 424 tst: l 0.906 a 0.707 clct[np.int64(20), np.int64(20)] clct_ans[np.int64(20), np.int64(20)]  3.165sec\n"
     ]
    },
    {
     "name": "stdout",
     "output_type": "stream",
     "text": [
      "Epoch 425 tr: l 0.969 a 0.680 clct[np.int64(55), np.int64(45)] clct_ans[np.int64(45), np.int64(55)]  lr 0.023960 79.276sec(train) 20.863sec(infer)\n"
     ]
    },
    {
     "name": "stdout",
     "output_type": "stream",
     "text": [
      "Epoch 425 tst: l 0.903 a 0.708 clct[np.int64(20), np.int64(20)] clct_ans[np.int64(20), np.int64(20)]  3.177sec\n"
     ]
    },
    {
     "name": "stdout",
     "output_type": "stream",
     "text": [
      "Epoch 426 tr: l 0.958 a 0.686 clct[np.int64(45), np.int64(55)] clct_ans[np.int64(55), np.int64(45)]  lr 0.023957 77.997sec(train) 20.835sec(infer)\n"
     ]
    },
    {
     "name": "stdout",
     "output_type": "stream",
     "text": [
      "Epoch 426 tst: l 0.904 a 0.708 clct[np.int64(20), np.int64(20)] clct_ans[np.int64(20), np.int64(20)]  3.177sec\n"
     ]
    },
    {
     "name": "stdout",
     "output_type": "stream",
     "text": [
      "Epoch 427 tr: l 0.964 a 0.685 clct[np.int64(45), np.int64(55)] clct_ans[np.int64(55), np.int64(45)]  lr 0.023955 79.539sec(train) 20.879sec(infer)\n"
     ]
    },
    {
     "name": "stdout",
     "output_type": "stream",
     "text": [
      "Epoch 427 tst: l 0.904 a 0.708 clct[np.int64(20), np.int64(20)] clct_ans[np.int64(20), np.int64(20)]  3.184sec\n"
     ]
    },
    {
     "name": "stdout",
     "output_type": "stream",
     "text": [
      "Epoch 428 tr: l 0.957 a 0.685 clct[np.int64(46), np.int64(54)] clct_ans[np.int64(54), np.int64(46)]  lr 0.023953 75.974sec(train) 20.777sec(infer)\n"
     ]
    },
    {
     "name": "stdout",
     "output_type": "stream",
     "text": [
      "Epoch 428 tst: l 0.902 a 0.708 clct[np.int64(20), np.int64(20)] clct_ans[np.int64(20), np.int64(20)]  3.172sec\n"
     ]
    },
    {
     "name": "stdout",
     "output_type": "stream",
     "text": [
      "Epoch 429 tr: l 0.965 a 0.682 clct[np.int64(50), np.int64(50)] clct_ans[np.int64(50), np.int64(50)]  lr 0.023950 78.969sec(train) 20.844sec(infer)\n"
     ]
    },
    {
     "name": "stdout",
     "output_type": "stream",
     "text": [
      "Epoch 429 tst: l 0.905 a 0.708 clct[np.int64(20), np.int64(20)] clct_ans[np.int64(20), np.int64(20)]  3.170sec\n"
     ]
    },
    {
     "name": "stdout",
     "output_type": "stream",
     "text": [
      "Epoch 430 tr: l 0.959 a 0.685 clct[np.int64(56), np.int64(44)] clct_ans[np.int64(44), np.int64(56)]  lr 0.023948 80.043sec(train) 20.846sec(infer)\n"
     ]
    },
    {
     "name": "stdout",
     "output_type": "stream",
     "text": [
      "Epoch 430 tst: l 0.903 a 0.709 clct[np.int64(20), np.int64(20)] clct_ans[np.int64(20), np.int64(20)]  3.185sec\n",
      "result written at output_dfca_gi/results.pickle\n"
     ]
    },
    {
     "name": "stdout",
     "output_type": "stream",
     "text": [
      "checkpoint written at output_dfca_gi/checkpoint.pt\n"
     ]
    },
    {
     "name": "stdout",
     "output_type": "stream",
     "text": [
      "Epoch 431 tr: l 0.966 a 0.686 clct[np.int64(51), np.int64(49)] clct_ans[np.int64(49), np.int64(51)]  lr 0.023945 79.035sec(train) 20.859sec(infer)\n"
     ]
    },
    {
     "name": "stdout",
     "output_type": "stream",
     "text": [
      "Epoch 431 tst: l 0.905 a 0.707 clct[np.int64(20), np.int64(20)] clct_ans[np.int64(20), np.int64(20)]  3.171sec\n"
     ]
    },
    {
     "name": "stdout",
     "output_type": "stream",
     "text": [
      "Epoch 432 tr: l 0.949 a 0.687 clct[np.int64(52), np.int64(48)] clct_ans[np.int64(48), np.int64(52)]  lr 0.023943 77.683sec(train) 20.804sec(infer)\n"
     ]
    },
    {
     "name": "stdout",
     "output_type": "stream",
     "text": [
      "Epoch 432 tst: l 0.900 a 0.708 clct[np.int64(20), np.int64(20)] clct_ans[np.int64(20), np.int64(20)]  3.173sec\n"
     ]
    },
    {
     "name": "stdout",
     "output_type": "stream",
     "text": [
      "Epoch 433 tr: l 0.968 a 0.683 clct[np.int64(51), np.int64(49)] clct_ans[np.int64(49), np.int64(51)]  lr 0.023941 77.873sec(train) 20.822sec(infer)\n"
     ]
    },
    {
     "name": "stdout",
     "output_type": "stream",
     "text": [
      "Epoch 433 tst: l 0.903 a 0.710 clct[np.int64(20), np.int64(20)] clct_ans[np.int64(20), np.int64(20)]  3.169sec\n"
     ]
    },
    {
     "name": "stdout",
     "output_type": "stream",
     "text": [
      "Epoch 434 tr: l 0.946 a 0.688 clct[np.int64(48), np.int64(52)] clct_ans[np.int64(52), np.int64(48)]  lr 0.023938 79.062sec(train) 20.772sec(infer)\n"
     ]
    },
    {
     "name": "stdout",
     "output_type": "stream",
     "text": [
      "Epoch 434 tst: l 0.902 a 0.709 clct[np.int64(20), np.int64(20)] clct_ans[np.int64(20), np.int64(20)]  3.179sec\n"
     ]
    },
    {
     "name": "stdout",
     "output_type": "stream",
     "text": [
      "Epoch 435 tr: l 0.962 a 0.685 clct[np.int64(42), np.int64(58)] clct_ans[np.int64(58), np.int64(42)]  lr 0.023936 78.382sec(train) 20.845sec(infer)\n"
     ]
    },
    {
     "name": "stdout",
     "output_type": "stream",
     "text": [
      "Epoch 435 tst: l 0.903 a 0.709 clct[np.int64(20), np.int64(20)] clct_ans[np.int64(20), np.int64(20)]  3.182sec\n"
     ]
    },
    {
     "name": "stdout",
     "output_type": "stream",
     "text": [
      "Epoch 436 tr: l 0.951 a 0.688 clct[np.int64(47), np.int64(53)] clct_ans[np.int64(53), np.int64(47)]  lr 0.023933 77.727sec(train) 20.756sec(infer)\n"
     ]
    },
    {
     "name": "stdout",
     "output_type": "stream",
     "text": [
      "Epoch 436 tst: l 0.903 a 0.708 clct[np.int64(20), np.int64(20)] clct_ans[np.int64(20), np.int64(20)]  3.154sec\n"
     ]
    },
    {
     "name": "stdout",
     "output_type": "stream",
     "text": [
      "Epoch 437 tr: l 0.961 a 0.682 clct[np.int64(47), np.int64(53)] clct_ans[np.int64(53), np.int64(47)]  lr 0.023931 78.286sec(train) 20.785sec(infer)\n"
     ]
    },
    {
     "name": "stdout",
     "output_type": "stream",
     "text": [
      "Epoch 437 tst: l 0.904 a 0.708 clct[np.int64(20), np.int64(20)] clct_ans[np.int64(20), np.int64(20)]  3.165sec\n"
     ]
    },
    {
     "name": "stdout",
     "output_type": "stream",
     "text": [
      "Epoch 438 tr: l 0.960 a 0.686 clct[np.int64(46), np.int64(54)] clct_ans[np.int64(54), np.int64(46)]  lr 0.023929 77.981sec(train) 20.990sec(infer)\n"
     ]
    },
    {
     "name": "stdout",
     "output_type": "stream",
     "text": [
      "Epoch 438 tst: l 0.901 a 0.707 clct[np.int64(20), np.int64(20)] clct_ans[np.int64(20), np.int64(20)]  3.166sec\n"
     ]
    },
    {
     "name": "stdout",
     "output_type": "stream",
     "text": [
      "Epoch 439 tr: l 0.945 a 0.685 clct[np.int64(50), np.int64(50)] clct_ans[np.int64(50), np.int64(50)]  lr 0.023926 75.716sec(train) 20.736sec(infer)\n"
     ]
    },
    {
     "name": "stdout",
     "output_type": "stream",
     "text": [
      "Epoch 439 tst: l 0.899 a 0.709 clct[np.int64(20), np.int64(20)] clct_ans[np.int64(20), np.int64(20)]  3.166sec\n"
     ]
    },
    {
     "name": "stdout",
     "output_type": "stream",
     "text": [
      "Epoch 440 tr: l 0.970 a 0.683 clct[np.int64(55), np.int64(45)] clct_ans[np.int64(45), np.int64(55)]  lr 0.023924 76.370sec(train) 20.806sec(infer)\n"
     ]
    },
    {
     "name": "stdout",
     "output_type": "stream",
     "text": [
      "Epoch 440 tst: l 0.899 a 0.708 clct[np.int64(20), np.int64(20)] clct_ans[np.int64(20), np.int64(20)]  3.168sec\n",
      "result written at output_dfca_gi/results.pickle\n"
     ]
    },
    {
     "name": "stdout",
     "output_type": "stream",
     "text": [
      "checkpoint written at output_dfca_gi/checkpoint.pt\n"
     ]
    },
    {
     "name": "stdout",
     "output_type": "stream",
     "text": [
      "Epoch 441 tr: l 0.947 a 0.690 clct[np.int64(50), np.int64(50)] clct_ans[np.int64(50), np.int64(50)]  lr 0.023921 77.929sec(train) 20.760sec(infer)\n"
     ]
    },
    {
     "name": "stdout",
     "output_type": "stream",
     "text": [
      "Epoch 441 tst: l 0.896 a 0.709 clct[np.int64(20), np.int64(20)] clct_ans[np.int64(20), np.int64(20)]  3.171sec\n"
     ]
    },
    {
     "name": "stdout",
     "output_type": "stream",
     "text": [
      "Epoch 442 tr: l 0.957 a 0.686 clct[np.int64(54), np.int64(46)] clct_ans[np.int64(46), np.int64(54)]  lr 0.023919 79.008sec(train) 20.802sec(infer)\n"
     ]
    },
    {
     "name": "stdout",
     "output_type": "stream",
     "text": [
      "Epoch 442 tst: l 0.898 a 0.709 clct[np.int64(20), np.int64(20)] clct_ans[np.int64(20), np.int64(20)]  3.171sec\n"
     ]
    },
    {
     "name": "stdout",
     "output_type": "stream",
     "text": [
      "Epoch 443 tr: l 0.957 a 0.686 clct[np.int64(54), np.int64(46)] clct_ans[np.int64(46), np.int64(54)]  lr 0.023917 78.366sec(train) 20.789sec(infer)\n"
     ]
    },
    {
     "name": "stdout",
     "output_type": "stream",
     "text": [
      "Epoch 443 tst: l 0.899 a 0.709 clct[np.int64(20), np.int64(20)] clct_ans[np.int64(20), np.int64(20)]  3.158sec\n"
     ]
    },
    {
     "name": "stdout",
     "output_type": "stream",
     "text": [
      "Epoch 444 tr: l 0.952 a 0.687 clct[np.int64(48), np.int64(52)] clct_ans[np.int64(52), np.int64(48)]  lr 0.023914 77.468sec(train) 20.857sec(infer)\n"
     ]
    },
    {
     "name": "stdout",
     "output_type": "stream",
     "text": [
      "Epoch 444 tst: l 0.893 a 0.711 clct[np.int64(20), np.int64(20)] clct_ans[np.int64(20), np.int64(20)]  3.163sec\n"
     ]
    },
    {
     "name": "stdout",
     "output_type": "stream",
     "text": [
      "Epoch 445 tr: l 0.953 a 0.685 clct[np.int64(57), np.int64(43)] clct_ans[np.int64(43), np.int64(57)]  lr 0.023912 78.153sec(train) 20.780sec(infer)\n"
     ]
    },
    {
     "name": "stdout",
     "output_type": "stream",
     "text": [
      "Epoch 445 tst: l 0.896 a 0.709 clct[np.int64(20), np.int64(20)] clct_ans[np.int64(20), np.int64(20)]  3.177sec\n"
     ]
    },
    {
     "name": "stdout",
     "output_type": "stream",
     "text": [
      "Epoch 446 tr: l 0.952 a 0.688 clct[np.int64(48), np.int64(52)] clct_ans[np.int64(52), np.int64(48)]  lr 0.023909 77.054sec(train) 20.851sec(infer)\n"
     ]
    },
    {
     "name": "stdout",
     "output_type": "stream",
     "text": [
      "Epoch 446 tst: l 0.897 a 0.709 clct[np.int64(20), np.int64(20)] clct_ans[np.int64(20), np.int64(20)]  3.176sec\n"
     ]
    },
    {
     "name": "stdout",
     "output_type": "stream",
     "text": [
      "Epoch 447 tr: l 0.947 a 0.687 clct[np.int64(52), np.int64(48)] clct_ans[np.int64(48), np.int64(52)]  lr 0.023907 78.187sec(train) 20.840sec(infer)\n"
     ]
    },
    {
     "name": "stdout",
     "output_type": "stream",
     "text": [
      "Epoch 447 tst: l 0.901 a 0.709 clct[np.int64(20), np.int64(20)] clct_ans[np.int64(20), np.int64(20)]  3.176sec\n"
     ]
    },
    {
     "name": "stdout",
     "output_type": "stream",
     "text": [
      "Epoch 448 tr: l 0.954 a 0.684 clct[np.int64(50), np.int64(50)] clct_ans[np.int64(50), np.int64(50)]  lr 0.023905 76.905sec(train) 20.817sec(infer)\n"
     ]
    },
    {
     "name": "stdout",
     "output_type": "stream",
     "text": [
      "Epoch 448 tst: l 0.902 a 0.708 clct[np.int64(20), np.int64(20)] clct_ans[np.int64(20), np.int64(20)]  3.184sec\n"
     ]
    },
    {
     "name": "stdout",
     "output_type": "stream",
     "text": [
      "Epoch 449 tr: l 0.956 a 0.687 clct[np.int64(45), np.int64(55)] clct_ans[np.int64(55), np.int64(45)]  lr 0.023902 78.944sec(train) 20.819sec(infer)\n"
     ]
    },
    {
     "name": "stdout",
     "output_type": "stream",
     "text": [
      "Epoch 449 tst: l 0.900 a 0.710 clct[np.int64(20), np.int64(20)] clct_ans[np.int64(20), np.int64(20)]  3.170sec\n"
     ]
    },
    {
     "name": "stdout",
     "output_type": "stream",
     "text": [
      "Epoch 450 tr: l 0.953 a 0.687 clct[np.int64(47), np.int64(53)] clct_ans[np.int64(53), np.int64(47)]  lr 0.023900 77.298sec(train) 20.830sec(infer)\n"
     ]
    },
    {
     "name": "stdout",
     "output_type": "stream",
     "text": [
      "Epoch 450 tst: l 0.895 a 0.711 clct[np.int64(20), np.int64(20)] clct_ans[np.int64(20), np.int64(20)]  3.170sec\n",
      "result written at output_dfca_gi/results.pickle\n",
      "checkpoint written at output_dfca_gi/checkpoint.pt\n"
     ]
    },
    {
     "name": "stdout",
     "output_type": "stream",
     "text": [
      "Epoch 451 tr: l 0.961 a 0.685 clct[np.int64(52), np.int64(48)] clct_ans[np.int64(48), np.int64(52)]  lr 0.023897 77.655sec(train) 20.828sec(infer)\n"
     ]
    },
    {
     "name": "stdout",
     "output_type": "stream",
     "text": [
      "Epoch 451 tst: l 0.899 a 0.710 clct[np.int64(20), np.int64(20)] clct_ans[np.int64(20), np.int64(20)]  3.169sec\n"
     ]
    },
    {
     "name": "stdout",
     "output_type": "stream",
     "text": [
      "Epoch 452 tr: l 0.948 a 0.687 clct[np.int64(50), np.int64(50)] clct_ans[np.int64(50), np.int64(50)]  lr 0.023895 78.258sec(train) 20.818sec(infer)\n"
     ]
    },
    {
     "name": "stdout",
     "output_type": "stream",
     "text": [
      "Epoch 452 tst: l 0.896 a 0.711 clct[np.int64(20), np.int64(20)] clct_ans[np.int64(20), np.int64(20)]  3.178sec\n"
     ]
    },
    {
     "name": "stdout",
     "output_type": "stream",
     "text": [
      "Epoch 453 tr: l 0.943 a 0.688 clct[np.int64(52), np.int64(48)] clct_ans[np.int64(48), np.int64(52)]  lr 0.023893 78.721sec(train) 20.868sec(infer)\n"
     ]
    },
    {
     "name": "stdout",
     "output_type": "stream",
     "text": [
      "Epoch 453 tst: l 0.897 a 0.711 clct[np.int64(20), np.int64(20)] clct_ans[np.int64(20), np.int64(20)]  3.170sec\n"
     ]
    },
    {
     "name": "stdout",
     "output_type": "stream",
     "text": [
      "Epoch 454 tr: l 0.957 a 0.682 clct[np.int64(56), np.int64(44)] clct_ans[np.int64(44), np.int64(56)]  lr 0.023890 76.157sec(train) 20.796sec(infer)\n"
     ]
    },
    {
     "name": "stdout",
     "output_type": "stream",
     "text": [
      "Epoch 454 tst: l 0.899 a 0.711 clct[np.int64(20), np.int64(20)] clct_ans[np.int64(20), np.int64(20)]  3.163sec\n"
     ]
    },
    {
     "name": "stdout",
     "output_type": "stream",
     "text": [
      "Epoch 455 tr: l 0.945 a 0.690 clct[np.int64(54), np.int64(46)] clct_ans[np.int64(46), np.int64(54)]  lr 0.023888 76.497sec(train) 20.836sec(infer)\n"
     ]
    },
    {
     "name": "stdout",
     "output_type": "stream",
     "text": [
      "Epoch 455 tst: l 0.897 a 0.712 clct[np.int64(20), np.int64(20)] clct_ans[np.int64(20), np.int64(20)]  3.155sec\n"
     ]
    },
    {
     "name": "stdout",
     "output_type": "stream",
     "text": [
      "Epoch 456 tr: l 0.948 a 0.688 clct[np.int64(49), np.int64(51)] clct_ans[np.int64(51), np.int64(49)]  lr 0.023886 77.745sec(train) 20.737sec(infer)\n"
     ]
    },
    {
     "name": "stdout",
     "output_type": "stream",
     "text": [
      "Epoch 456 tst: l 0.897 a 0.710 clct[np.int64(20), np.int64(20)] clct_ans[np.int64(20), np.int64(20)]  3.165sec\n"
     ]
    },
    {
     "name": "stdout",
     "output_type": "stream",
     "text": [
      "Epoch 457 tr: l 0.957 a 0.684 clct[np.int64(51), np.int64(49)] clct_ans[np.int64(49), np.int64(51)]  lr 0.023883 77.584sec(train) 20.809sec(infer)\n"
     ]
    },
    {
     "name": "stdout",
     "output_type": "stream",
     "text": [
      "Epoch 457 tst: l 0.896 a 0.710 clct[np.int64(20), np.int64(20)] clct_ans[np.int64(20), np.int64(20)]  3.168sec\n"
     ]
    },
    {
     "name": "stdout",
     "output_type": "stream",
     "text": [
      "Epoch 458 tr: l 0.948 a 0.686 clct[np.int64(49), np.int64(51)] clct_ans[np.int64(51), np.int64(49)]  lr 0.023881 77.933sec(train) 20.818sec(infer)\n"
     ]
    },
    {
     "name": "stdout",
     "output_type": "stream",
     "text": [
      "Epoch 458 tst: l 0.895 a 0.709 clct[np.int64(20), np.int64(20)] clct_ans[np.int64(20), np.int64(20)]  3.167sec\n"
     ]
    },
    {
     "name": "stdout",
     "output_type": "stream",
     "text": [
      "Epoch 459 tr: l 0.943 a 0.689 clct[np.int64(48), np.int64(52)] clct_ans[np.int64(52), np.int64(48)]  lr 0.023878 77.377sec(train) 20.824sec(infer)\n"
     ]
    },
    {
     "name": "stdout",
     "output_type": "stream",
     "text": [
      "Epoch 459 tst: l 0.897 a 0.712 clct[np.int64(20), np.int64(20)] clct_ans[np.int64(20), np.int64(20)]  3.157sec\n"
     ]
    },
    {
     "name": "stdout",
     "output_type": "stream",
     "text": [
      "Epoch 460 tr: l 0.946 a 0.688 clct[np.int64(55), np.int64(45)] clct_ans[np.int64(45), np.int64(55)]  lr 0.023876 78.266sec(train) 20.758sec(infer)\n"
     ]
    },
    {
     "name": "stdout",
     "output_type": "stream",
     "text": [
      "Epoch 460 tst: l 0.898 a 0.710 clct[np.int64(20), np.int64(20)] clct_ans[np.int64(20), np.int64(20)]  3.178sec\n",
      "result written at output_dfca_gi/results.pickle\n"
     ]
    },
    {
     "name": "stdout",
     "output_type": "stream",
     "text": [
      "checkpoint written at output_dfca_gi/checkpoint.pt\n"
     ]
    },
    {
     "name": "stdout",
     "output_type": "stream",
     "text": [
      "Epoch 461 tr: l 0.945 a 0.688 clct[np.int64(46), np.int64(54)] clct_ans[np.int64(54), np.int64(46)]  lr 0.023874 77.395sec(train) 20.831sec(infer)\n"
     ]
    },
    {
     "name": "stdout",
     "output_type": "stream",
     "text": [
      "Epoch 461 tst: l 0.893 a 0.711 clct[np.int64(20), np.int64(20)] clct_ans[np.int64(20), np.int64(20)]  3.178sec\n"
     ]
    },
    {
     "name": "stdout",
     "output_type": "stream",
     "text": [
      "Epoch 462 tr: l 0.945 a 0.688 clct[np.int64(45), np.int64(55)] clct_ans[np.int64(55), np.int64(45)]  lr 0.023871 79.712sec(train) 20.826sec(infer)\n"
     ]
    },
    {
     "name": "stdout",
     "output_type": "stream",
     "text": [
      "Epoch 462 tst: l 0.893 a 0.710 clct[np.int64(20), np.int64(20)] clct_ans[np.int64(20), np.int64(20)]  3.126sec\n"
     ]
    },
    {
     "name": "stdout",
     "output_type": "stream",
     "text": [
      "Epoch 463 tr: l 0.936 a 0.690 clct[np.int64(54), np.int64(46)] clct_ans[np.int64(46), np.int64(54)]  lr 0.023869 78.267sec(train) 20.774sec(infer)\n"
     ]
    },
    {
     "name": "stdout",
     "output_type": "stream",
     "text": [
      "Epoch 463 tst: l 0.892 a 0.711 clct[np.int64(20), np.int64(20)] clct_ans[np.int64(20), np.int64(20)]  3.112sec\n"
     ]
    },
    {
     "name": "stdout",
     "output_type": "stream",
     "text": [
      "Epoch 464 tr: l 0.953 a 0.689 clct[np.int64(42), np.int64(58)] clct_ans[np.int64(58), np.int64(42)]  lr 0.023866 77.455sec(train) 20.799sec(infer)\n"
     ]
    },
    {
     "name": "stdout",
     "output_type": "stream",
     "text": [
      "Epoch 464 tst: l 0.895 a 0.711 clct[np.int64(20), np.int64(20)] clct_ans[np.int64(20), np.int64(20)]  3.123sec\n"
     ]
    },
    {
     "name": "stdout",
     "output_type": "stream",
     "text": [
      "Epoch 465 tr: l 0.943 a 0.689 clct[np.int64(47), np.int64(53)] clct_ans[np.int64(53), np.int64(47)]  lr 0.023864 77.498sec(train) 20.700sec(infer)\n"
     ]
    },
    {
     "name": "stdout",
     "output_type": "stream",
     "text": [
      "Epoch 465 tst: l 0.891 a 0.712 clct[np.int64(20), np.int64(20)] clct_ans[np.int64(20), np.int64(20)]  3.110sec\n"
     ]
    },
    {
     "name": "stdout",
     "output_type": "stream",
     "text": [
      "Epoch 466 tr: l 0.944 a 0.688 clct[np.int64(56), np.int64(44)] clct_ans[np.int64(44), np.int64(56)]  lr 0.023862 75.188sec(train) 20.749sec(infer)\n"
     ]
    },
    {
     "name": "stdout",
     "output_type": "stream",
     "text": [
      "Epoch 466 tst: l 0.895 a 0.711 clct[np.int64(20), np.int64(20)] clct_ans[np.int64(20), np.int64(20)]  3.112sec\n"
     ]
    },
    {
     "name": "stdout",
     "output_type": "stream",
     "text": [
      "Epoch 467 tr: l 0.944 a 0.688 clct[np.int64(54), np.int64(46)] clct_ans[np.int64(46), np.int64(54)]  lr 0.023859 78.222sec(train) 20.741sec(infer)\n"
     ]
    },
    {
     "name": "stdout",
     "output_type": "stream",
     "text": [
      "Epoch 467 tst: l 0.893 a 0.712 clct[np.int64(20), np.int64(20)] clct_ans[np.int64(20), np.int64(20)]  3.107sec\n"
     ]
    },
    {
     "name": "stdout",
     "output_type": "stream",
     "text": [
      "Epoch 468 tr: l 0.947 a 0.690 clct[np.int64(51), np.int64(49)] clct_ans[np.int64(49), np.int64(51)]  lr 0.023857 75.883sec(train) 20.768sec(infer)\n"
     ]
    },
    {
     "name": "stdout",
     "output_type": "stream",
     "text": [
      "Epoch 468 tst: l 0.893 a 0.712 clct[np.int64(20), np.int64(20)] clct_ans[np.int64(20), np.int64(20)]  3.133sec\n"
     ]
    },
    {
     "name": "stdout",
     "output_type": "stream",
     "text": [
      "Epoch 469 tr: l 0.948 a 0.689 clct[np.int64(41), np.int64(59)] clct_ans[np.int64(59), np.int64(41)]  lr 0.023855 77.076sec(train) 20.689sec(infer)\n"
     ]
    },
    {
     "name": "stdout",
     "output_type": "stream",
     "text": [
      "Epoch 469 tst: l 0.892 a 0.712 clct[np.int64(20), np.int64(20)] clct_ans[np.int64(20), np.int64(20)]  3.116sec\n"
     ]
    },
    {
     "name": "stdout",
     "output_type": "stream",
     "text": [
      "Epoch 470 tr: l 0.939 a 0.692 clct[np.int64(50), np.int64(50)] clct_ans[np.int64(50), np.int64(50)]  lr 0.023852 75.513sec(train) 20.803sec(infer)\n"
     ]
    },
    {
     "name": "stdout",
     "output_type": "stream",
     "text": [
      "Epoch 470 tst: l 0.893 a 0.711 clct[np.int64(20), np.int64(20)] clct_ans[np.int64(20), np.int64(20)]  3.122sec\n",
      "result written at output_dfca_gi/results.pickle\n"
     ]
    },
    {
     "name": "stdout",
     "output_type": "stream",
     "text": [
      "checkpoint written at output_dfca_gi/checkpoint.pt\n"
     ]
    },
    {
     "name": "stdout",
     "output_type": "stream",
     "text": [
      "Epoch 471 tr: l 0.938 a 0.692 clct[np.int64(50), np.int64(50)] clct_ans[np.int64(50), np.int64(50)]  lr 0.023850 77.401sec(train) 20.807sec(infer)\n"
     ]
    },
    {
     "name": "stdout",
     "output_type": "stream",
     "text": [
      "Epoch 471 tst: l 0.892 a 0.712 clct[np.int64(20), np.int64(20)] clct_ans[np.int64(20), np.int64(20)]  3.122sec\n"
     ]
    },
    {
     "name": "stdout",
     "output_type": "stream",
     "text": [
      "Epoch 472 tr: l 0.933 a 0.691 clct[np.int64(52), np.int64(48)] clct_ans[np.int64(48), np.int64(52)]  lr 0.023847 77.449sec(train) 20.801sec(infer)\n"
     ]
    },
    {
     "name": "stdout",
     "output_type": "stream",
     "text": [
      "Epoch 472 tst: l 0.891 a 0.713 clct[np.int64(20), np.int64(20)] clct_ans[np.int64(20), np.int64(20)]  3.125sec\n"
     ]
    },
    {
     "name": "stdout",
     "output_type": "stream",
     "text": [
      "Epoch 473 tr: l 0.947 a 0.688 clct[np.int64(51), np.int64(49)] clct_ans[np.int64(49), np.int64(51)]  lr 0.023845 78.057sec(train) 20.797sec(infer)\n"
     ]
    },
    {
     "name": "stdout",
     "output_type": "stream",
     "text": [
      "Epoch 473 tst: l 0.896 a 0.712 clct[np.int64(20), np.int64(20)] clct_ans[np.int64(20), np.int64(20)]  3.123sec\n"
     ]
    },
    {
     "name": "stdout",
     "output_type": "stream",
     "text": [
      "Epoch 474 tr: l 0.955 a 0.686 clct[np.int64(46), np.int64(54)] clct_ans[np.int64(54), np.int64(46)]  lr 0.023843 77.686sec(train) 20.788sec(infer)\n"
     ]
    },
    {
     "name": "stdout",
     "output_type": "stream",
     "text": [
      "Epoch 474 tst: l 0.896 a 0.713 clct[np.int64(20), np.int64(20)] clct_ans[np.int64(20), np.int64(20)]  3.122sec\n"
     ]
    },
    {
     "name": "stdout",
     "output_type": "stream",
     "text": [
      "Epoch 475 tr: l 0.954 a 0.685 clct[np.int64(45), np.int64(55)] clct_ans[np.int64(55), np.int64(45)]  lr 0.023840 77.242sec(train) 20.746sec(infer)\n"
     ]
    },
    {
     "name": "stdout",
     "output_type": "stream",
     "text": [
      "Epoch 475 tst: l 0.893 a 0.714 clct[np.int64(20), np.int64(20)] clct_ans[np.int64(20), np.int64(20)]  3.115sec\n"
     ]
    },
    {
     "name": "stdout",
     "output_type": "stream",
     "text": [
      "Epoch 476 tr: l 0.934 a 0.693 clct[np.int64(48), np.int64(52)] clct_ans[np.int64(52), np.int64(48)]  lr 0.023838 78.003sec(train) 20.937sec(infer)\n"
     ]
    },
    {
     "name": "stdout",
     "output_type": "stream",
     "text": [
      "Epoch 476 tst: l 0.891 a 0.713 clct[np.int64(20), np.int64(20)] clct_ans[np.int64(20), np.int64(20)]  3.161sec\n"
     ]
    },
    {
     "name": "stdout",
     "output_type": "stream",
     "text": [
      "Epoch 477 tr: l 0.938 a 0.688 clct[np.int64(50), np.int64(50)] clct_ans[np.int64(50), np.int64(50)]  lr 0.023835 78.082sec(train) 20.834sec(infer)\n"
     ]
    },
    {
     "name": "stdout",
     "output_type": "stream",
     "text": [
      "Epoch 477 tst: l 0.891 a 0.712 clct[np.int64(20), np.int64(20)] clct_ans[np.int64(20), np.int64(20)]  3.138sec\n"
     ]
    },
    {
     "name": "stdout",
     "output_type": "stream",
     "text": [
      "Epoch 478 tr: l 0.943 a 0.688 clct[np.int64(52), np.int64(48)] clct_ans[np.int64(48), np.int64(52)]  lr 0.023833 77.090sec(train) 20.746sec(infer)\n"
     ]
    },
    {
     "name": "stdout",
     "output_type": "stream",
     "text": [
      "Epoch 478 tst: l 0.891 a 0.713 clct[np.int64(20), np.int64(20)] clct_ans[np.int64(20), np.int64(20)]  3.143sec\n"
     ]
    },
    {
     "name": "stdout",
     "output_type": "stream",
     "text": [
      "Epoch 479 tr: l 0.945 a 0.688 clct[np.int64(48), np.int64(52)] clct_ans[np.int64(52), np.int64(48)]  lr 0.023831 77.530sec(train) 20.782sec(infer)\n"
     ]
    },
    {
     "name": "stdout",
     "output_type": "stream",
     "text": [
      "Epoch 479 tst: l 0.892 a 0.712 clct[np.int64(20), np.int64(20)] clct_ans[np.int64(20), np.int64(20)]  3.151sec\n"
     ]
    },
    {
     "name": "stdout",
     "output_type": "stream",
     "text": [
      "Epoch 480 tr: l 0.932 a 0.690 clct[np.int64(45), np.int64(55)] clct_ans[np.int64(55), np.int64(45)]  lr 0.023828 77.784sec(train) 20.922sec(infer)\n"
     ]
    },
    {
     "name": "stdout",
     "output_type": "stream",
     "text": [
      "Epoch 480 tst: l 0.892 a 0.712 clct[np.int64(20), np.int64(20)] clct_ans[np.int64(20), np.int64(20)]  3.166sec\n",
      "result written at output_dfca_gi/results.pickle\n"
     ]
    },
    {
     "name": "stdout",
     "output_type": "stream",
     "text": [
      "checkpoint written at output_dfca_gi/checkpoint.pt\n"
     ]
    },
    {
     "name": "stdout",
     "output_type": "stream",
     "text": [
      "Epoch 481 tr: l 0.936 a 0.691 clct[np.int64(50), np.int64(50)] clct_ans[np.int64(50), np.int64(50)]  lr 0.023826 77.206sec(train) 20.790sec(infer)\n"
     ]
    },
    {
     "name": "stdout",
     "output_type": "stream",
     "text": [
      "Epoch 481 tst: l 0.893 a 0.711 clct[np.int64(20), np.int64(20)] clct_ans[np.int64(20), np.int64(20)]  3.185sec\n"
     ]
    },
    {
     "name": "stdout",
     "output_type": "stream",
     "text": [
      "Epoch 482 tr: l 0.935 a 0.690 clct[np.int64(52), np.int64(48)] clct_ans[np.int64(48), np.int64(52)]  lr 0.023824 77.481sec(train) 20.752sec(infer)\n"
     ]
    },
    {
     "name": "stdout",
     "output_type": "stream",
     "text": [
      "Epoch 482 tst: l 0.892 a 0.712 clct[np.int64(20), np.int64(20)] clct_ans[np.int64(20), np.int64(20)]  3.174sec\n"
     ]
    },
    {
     "name": "stdout",
     "output_type": "stream",
     "text": [
      "Epoch 483 tr: l 0.946 a 0.689 clct[np.int64(52), np.int64(48)] clct_ans[np.int64(48), np.int64(52)]  lr 0.023821 77.691sec(train) 20.808sec(infer)\n"
     ]
    },
    {
     "name": "stdout",
     "output_type": "stream",
     "text": [
      "Epoch 483 tst: l 0.890 a 0.713 clct[np.int64(20), np.int64(20)] clct_ans[np.int64(20), np.int64(20)]  3.179sec\n"
     ]
    },
    {
     "name": "stdout",
     "output_type": "stream",
     "text": [
      "Epoch 484 tr: l 0.945 a 0.686 clct[np.int64(47), np.int64(53)] clct_ans[np.int64(53), np.int64(47)]  lr 0.023819 77.459sec(train) 20.777sec(infer)\n"
     ]
    },
    {
     "name": "stdout",
     "output_type": "stream",
     "text": [
      "Epoch 484 tst: l 0.889 a 0.713 clct[np.int64(20), np.int64(20)] clct_ans[np.int64(20), np.int64(20)]  3.159sec\n"
     ]
    },
    {
     "name": "stdout",
     "output_type": "stream",
     "text": [
      "Epoch 485 tr: l 0.932 a 0.692 clct[np.int64(52), np.int64(48)] clct_ans[np.int64(48), np.int64(52)]  lr 0.023816 77.606sec(train) 20.823sec(infer)\n"
     ]
    },
    {
     "name": "stdout",
     "output_type": "stream",
     "text": [
      "Epoch 485 tst: l 0.888 a 0.713 clct[np.int64(20), np.int64(20)] clct_ans[np.int64(20), np.int64(20)]  3.174sec\n"
     ]
    },
    {
     "name": "stdout",
     "output_type": "stream",
     "text": [
      "Epoch 486 tr: l 0.940 a 0.690 clct[np.int64(48), np.int64(52)] clct_ans[np.int64(52), np.int64(48)]  lr 0.023814 77.514sec(train) 20.800sec(infer)\n"
     ]
    },
    {
     "name": "stdout",
     "output_type": "stream",
     "text": [
      "Epoch 486 tst: l 0.892 a 0.713 clct[np.int64(20), np.int64(20)] clct_ans[np.int64(20), np.int64(20)]  3.162sec\n"
     ]
    },
    {
     "name": "stdout",
     "output_type": "stream",
     "text": [
      "Epoch 487 tr: l 0.937 a 0.689 clct[np.int64(49), np.int64(51)] clct_ans[np.int64(51), np.int64(49)]  lr 0.023812 78.084sec(train) 20.852sec(infer)\n"
     ]
    },
    {
     "name": "stdout",
     "output_type": "stream",
     "text": [
      "Epoch 487 tst: l 0.892 a 0.714 clct[np.int64(20), np.int64(20)] clct_ans[np.int64(20), np.int64(20)]  3.174sec\n"
     ]
    },
    {
     "name": "stdout",
     "output_type": "stream",
     "text": [
      "Epoch 488 tr: l 0.943 a 0.688 clct[np.int64(44), np.int64(56)] clct_ans[np.int64(56), np.int64(44)]  lr 0.023809 78.201sec(train) 20.871sec(infer)\n"
     ]
    },
    {
     "name": "stdout",
     "output_type": "stream",
     "text": [
      "Epoch 488 tst: l 0.894 a 0.713 clct[np.int64(20), np.int64(20)] clct_ans[np.int64(20), np.int64(20)]  3.192sec\n"
     ]
    },
    {
     "name": "stdout",
     "output_type": "stream",
     "text": [
      "Epoch 489 tr: l 0.927 a 0.694 clct[np.int64(44), np.int64(56)] clct_ans[np.int64(56), np.int64(44)]  lr 0.023807 77.995sec(train) 20.823sec(infer)\n"
     ]
    },
    {
     "name": "stdout",
     "output_type": "stream",
     "text": [
      "Epoch 489 tst: l 0.892 a 0.712 clct[np.int64(20), np.int64(20)] clct_ans[np.int64(20), np.int64(20)]  3.172sec\n"
     ]
    },
    {
     "name": "stdout",
     "output_type": "stream",
     "text": [
      "Epoch 490 tr: l 0.940 a 0.689 clct[np.int64(53), np.int64(47)] clct_ans[np.int64(47), np.int64(53)]  lr 0.023804 77.335sec(train) 20.816sec(infer)\n"
     ]
    },
    {
     "name": "stdout",
     "output_type": "stream",
     "text": [
      "Epoch 490 tst: l 0.893 a 0.711 clct[np.int64(20), np.int64(20)] clct_ans[np.int64(20), np.int64(20)]  3.180sec\n",
      "result written at output_dfca_gi/results.pickle\n"
     ]
    },
    {
     "name": "stdout",
     "output_type": "stream",
     "text": [
      "checkpoint written at output_dfca_gi/checkpoint.pt\n"
     ]
    },
    {
     "name": "stdout",
     "output_type": "stream",
     "text": [
      "Epoch 491 tr: l 0.940 a 0.690 clct[np.int64(54), np.int64(46)] clct_ans[np.int64(46), np.int64(54)]  lr 0.023802 77.429sec(train) 20.792sec(infer)\n"
     ]
    },
    {
     "name": "stdout",
     "output_type": "stream",
     "text": [
      "Epoch 491 tst: l 0.891 a 0.711 clct[np.int64(20), np.int64(20)] clct_ans[np.int64(20), np.int64(20)]  3.169sec\n"
     ]
    },
    {
     "name": "stdout",
     "output_type": "stream",
     "text": [
      "Epoch 492 tr: l 0.942 a 0.691 clct[np.int64(48), np.int64(52)] clct_ans[np.int64(52), np.int64(48)]  lr 0.023800 78.092sec(train) 20.750sec(infer)\n"
     ]
    },
    {
     "name": "stdout",
     "output_type": "stream",
     "text": [
      "Epoch 492 tst: l 0.887 a 0.715 clct[np.int64(20), np.int64(20)] clct_ans[np.int64(20), np.int64(20)]  3.177sec\n"
     ]
    },
    {
     "name": "stdout",
     "output_type": "stream",
     "text": [
      "Epoch 493 tr: l 0.935 a 0.690 clct[np.int64(47), np.int64(53)] clct_ans[np.int64(53), np.int64(47)]  lr 0.023797 77.971sec(train) 20.672sec(infer)\n"
     ]
    },
    {
     "name": "stdout",
     "output_type": "stream",
     "text": [
      "Epoch 493 tst: l 0.891 a 0.713 clct[np.int64(20), np.int64(20)] clct_ans[np.int64(20), np.int64(20)]  3.176sec\n"
     ]
    },
    {
     "name": "stdout",
     "output_type": "stream",
     "text": [
      "Epoch 494 tr: l 0.934 a 0.691 clct[np.int64(50), np.int64(50)] clct_ans[np.int64(50), np.int64(50)]  lr 0.023795 78.196sec(train) 20.716sec(infer)\n"
     ]
    },
    {
     "name": "stdout",
     "output_type": "stream",
     "text": [
      "Epoch 494 tst: l 0.888 a 0.713 clct[np.int64(20), np.int64(20)] clct_ans[np.int64(20), np.int64(20)]  3.372sec\n"
     ]
    },
    {
     "name": "stdout",
     "output_type": "stream",
     "text": [
      "Epoch 495 tr: l 0.938 a 0.691 clct[np.int64(56), np.int64(44)] clct_ans[np.int64(44), np.int64(56)]  lr 0.023793 77.549sec(train) 20.718sec(infer)\n"
     ]
    },
    {
     "name": "stdout",
     "output_type": "stream",
     "text": [
      "Epoch 495 tst: l 0.889 a 0.713 clct[np.int64(20), np.int64(20)] clct_ans[np.int64(20), np.int64(20)]  3.175sec\n"
     ]
    },
    {
     "name": "stdout",
     "output_type": "stream",
     "text": [
      "Epoch 496 tr: l 0.943 a 0.688 clct[np.int64(50), np.int64(50)] clct_ans[np.int64(50), np.int64(50)]  lr 0.023790 77.440sec(train) 20.726sec(infer)\n"
     ]
    },
    {
     "name": "stdout",
     "output_type": "stream",
     "text": [
      "Epoch 496 tst: l 0.889 a 0.714 clct[np.int64(20), np.int64(20)] clct_ans[np.int64(20), np.int64(20)]  3.150sec\n"
     ]
    },
    {
     "name": "stdout",
     "output_type": "stream",
     "text": [
      "Epoch 497 tr: l 0.928 a 0.692 clct[np.int64(48), np.int64(52)] clct_ans[np.int64(52), np.int64(48)]  lr 0.023788 77.337sec(train) 20.701sec(infer)\n"
     ]
    },
    {
     "name": "stdout",
     "output_type": "stream",
     "text": [
      "Epoch 497 tst: l 0.886 a 0.715 clct[np.int64(20), np.int64(20)] clct_ans[np.int64(20), np.int64(20)]  3.120sec\n"
     ]
    },
    {
     "name": "stdout",
     "output_type": "stream",
     "text": [
      "Epoch 498 tr: l 0.931 a 0.692 clct[np.int64(52), np.int64(48)] clct_ans[np.int64(48), np.int64(52)]  lr 0.023785 77.173sec(train) 20.798sec(infer)\n"
     ]
    },
    {
     "name": "stdout",
     "output_type": "stream",
     "text": [
      "Epoch 498 tst: l 0.887 a 0.714 clct[np.int64(20), np.int64(20)] clct_ans[np.int64(20), np.int64(20)]  3.121sec\n"
     ]
    },
    {
     "name": "stdout",
     "output_type": "stream",
     "text": [
      "Epoch 499 tr: l 0.937 a 0.690 clct[np.int64(54), np.int64(46)] clct_ans[np.int64(46), np.int64(54)]  lr 0.023783 77.910sec(train) 20.746sec(infer)\n"
     ]
    },
    {
     "name": "stdout",
     "output_type": "stream",
     "text": [
      "Epoch 499 tst: l 0.890 a 0.712 clct[np.int64(20), np.int64(20)] clct_ans[np.int64(20), np.int64(20)]  3.126sec\n"
     ]
    },
    {
     "name": "stdout",
     "output_type": "stream",
     "text": [
      "Epoch 500 tr: l 0.942 a 0.691 clct[np.int64(55), np.int64(45)] clct_ans[np.int64(45), np.int64(55)]  lr 0.023781 76.949sec(train) 20.807sec(infer)\n"
     ]
    },
    {
     "name": "stdout",
     "output_type": "stream",
     "text": [
      "Epoch 500 tst: l 0.891 a 0.712 clct[np.int64(20), np.int64(20)] clct_ans[np.int64(20), np.int64(20)]  3.123sec\n",
      "result written at output_dfca_gi/results.pickle\n"
     ]
    },
    {
     "name": "stdout",
     "output_type": "stream",
     "text": [
      "checkpoint written at output_dfca_gi/checkpoint.pt\n"
     ]
    },
    {
     "name": "stdout",
     "output_type": "stream",
     "text": [
      "Epoch 501 tr: l 0.939 a 0.690 clct[np.int64(49), np.int64(51)] clct_ans[np.int64(51), np.int64(49)]  lr 0.023778 80.270sec(train) 20.867sec(infer)\n"
     ]
    },
    {
     "name": "stdout",
     "output_type": "stream",
     "text": [
      "Epoch 501 tst: l 0.892 a 0.712 clct[np.int64(20), np.int64(20)] clct_ans[np.int64(20), np.int64(20)]  3.144sec\n"
     ]
    },
    {
     "name": "stdout",
     "output_type": "stream",
     "text": [
      "Epoch 502 tr: l 0.943 a 0.688 clct[np.int64(42), np.int64(58)] clct_ans[np.int64(58), np.int64(42)]  lr 0.023776 80.447sec(train) 20.915sec(infer)\n"
     ]
    },
    {
     "name": "stdout",
     "output_type": "stream",
     "text": [
      "Epoch 502 tst: l 0.888 a 0.713 clct[np.int64(20), np.int64(20)] clct_ans[np.int64(20), np.int64(20)]  3.140sec\n"
     ]
    },
    {
     "name": "stdout",
     "output_type": "stream",
     "text": [
      "Epoch 503 tr: l 0.927 a 0.693 clct[np.int64(45), np.int64(55)] clct_ans[np.int64(55), np.int64(45)]  lr 0.023774 80.064sec(train) 20.903sec(infer)\n"
     ]
    },
    {
     "name": "stdout",
     "output_type": "stream",
     "text": [
      "Epoch 503 tst: l 0.888 a 0.713 clct[np.int64(20), np.int64(20)] clct_ans[np.int64(20), np.int64(20)]  3.129sec\n"
     ]
    },
    {
     "name": "stdout",
     "output_type": "stream",
     "text": [
      "Epoch 504 tr: l 0.937 a 0.692 clct[np.int64(49), np.int64(51)] clct_ans[np.int64(51), np.int64(49)]  lr 0.023771 80.358sec(train) 20.844sec(infer)\n"
     ]
    },
    {
     "name": "stdout",
     "output_type": "stream",
     "text": [
      "Epoch 504 tst: l 0.889 a 0.712 clct[np.int64(20), np.int64(20)] clct_ans[np.int64(20), np.int64(20)]  3.126sec\n"
     ]
    },
    {
     "name": "stdout",
     "output_type": "stream",
     "text": [
      "Epoch 505 tr: l 0.938 a 0.688 clct[np.int64(50), np.int64(50)] clct_ans[np.int64(50), np.int64(50)]  lr 0.023769 80.620sec(train) 20.838sec(infer)\n"
     ]
    },
    {
     "name": "stdout",
     "output_type": "stream",
     "text": [
      "Epoch 505 tst: l 0.889 a 0.713 clct[np.int64(20), np.int64(20)] clct_ans[np.int64(20), np.int64(20)]  3.131sec\n"
     ]
    },
    {
     "name": "stdout",
     "output_type": "stream",
     "text": [
      "Epoch 506 tr: l 0.935 a 0.692 clct[np.int64(51), np.int64(49)] clct_ans[np.int64(49), np.int64(51)]  lr 0.023766 79.836sec(train) 20.872sec(infer)\n"
     ]
    },
    {
     "name": "stdout",
     "output_type": "stream",
     "text": [
      "Epoch 506 tst: l 0.887 a 0.712 clct[np.int64(20), np.int64(20)] clct_ans[np.int64(20), np.int64(20)]  3.186sec\n"
     ]
    },
    {
     "name": "stdout",
     "output_type": "stream",
     "text": [
      "Epoch 507 tr: l 0.933 a 0.690 clct[np.int64(46), np.int64(54)] clct_ans[np.int64(54), np.int64(46)]  lr 0.023764 79.486sec(train) 20.832sec(infer)\n"
     ]
    },
    {
     "name": "stdout",
     "output_type": "stream",
     "text": [
      "Epoch 507 tst: l 0.887 a 0.712 clct[np.int64(20), np.int64(20)] clct_ans[np.int64(20), np.int64(20)]  3.186sec\n"
     ]
    },
    {
     "name": "stdout",
     "output_type": "stream",
     "text": [
      "Epoch 508 tr: l 0.940 a 0.691 clct[np.int64(50), np.int64(50)] clct_ans[np.int64(50), np.int64(50)]  lr 0.023762 78.899sec(train) 20.838sec(infer)\n"
     ]
    },
    {
     "name": "stdout",
     "output_type": "stream",
     "text": [
      "Epoch 508 tst: l 0.887 a 0.713 clct[np.int64(20), np.int64(20)] clct_ans[np.int64(20), np.int64(20)]  3.180sec\n"
     ]
    },
    {
     "name": "stdout",
     "output_type": "stream",
     "text": [
      "Epoch 509 tr: l 0.927 a 0.694 clct[np.int64(51), np.int64(49)] clct_ans[np.int64(49), np.int64(51)]  lr 0.023759 77.987sec(train) 20.872sec(infer)\n"
     ]
    },
    {
     "name": "stdout",
     "output_type": "stream",
     "text": [
      "Epoch 509 tst: l 0.884 a 0.715 clct[np.int64(20), np.int64(20)] clct_ans[np.int64(20), np.int64(20)]  3.179sec\n"
     ]
    },
    {
     "name": "stdout",
     "output_type": "stream",
     "text": [
      "Epoch 510 tr: l 0.940 a 0.691 clct[np.int64(48), np.int64(52)] clct_ans[np.int64(52), np.int64(48)]  lr 0.023757 77.434sec(train) 20.863sec(infer)\n"
     ]
    },
    {
     "name": "stdout",
     "output_type": "stream",
     "text": [
      "Epoch 510 tst: l 0.886 a 0.714 clct[np.int64(20), np.int64(20)] clct_ans[np.int64(20), np.int64(20)]  3.171sec\n",
      "result written at output_dfca_gi/results.pickle\n",
      "checkpoint written at output_dfca_gi/checkpoint.pt\n"
     ]
    },
    {
     "name": "stdout",
     "output_type": "stream",
     "text": [
      "Epoch 511 tr: l 0.930 a 0.693 clct[np.int64(47), np.int64(53)] clct_ans[np.int64(53), np.int64(47)]  lr 0.023755 77.889sec(train) 20.835sec(infer)\n"
     ]
    },
    {
     "name": "stdout",
     "output_type": "stream",
     "text": [
      "Epoch 511 tst: l 0.889 a 0.714 clct[np.int64(20), np.int64(20)] clct_ans[np.int64(20), np.int64(20)]  3.171sec\n"
     ]
    },
    {
     "name": "stdout",
     "output_type": "stream",
     "text": [
      "Epoch 512 tr: l 0.934 a 0.690 clct[np.int64(49), np.int64(51)] clct_ans[np.int64(51), np.int64(49)]  lr 0.023752 77.681sec(train) 20.865sec(infer)\n"
     ]
    },
    {
     "name": "stdout",
     "output_type": "stream",
     "text": [
      "Epoch 512 tst: l 0.889 a 0.715 clct[np.int64(20), np.int64(20)] clct_ans[np.int64(20), np.int64(20)]  3.170sec\n"
     ]
    },
    {
     "name": "stdout",
     "output_type": "stream",
     "text": [
      "Epoch 513 tr: l 0.930 a 0.693 clct[np.int64(48), np.int64(52)] clct_ans[np.int64(52), np.int64(48)]  lr 0.023750 77.679sec(train) 20.884sec(infer)\n"
     ]
    },
    {
     "name": "stdout",
     "output_type": "stream",
     "text": [
      "Epoch 513 tst: l 0.887 a 0.715 clct[np.int64(20), np.int64(20)] clct_ans[np.int64(20), np.int64(20)]  3.398sec\n"
     ]
    },
    {
     "name": "stdout",
     "output_type": "stream",
     "text": [
      "Epoch 514 tr: l 0.936 a 0.692 clct[np.int64(46), np.int64(54)] clct_ans[np.int64(54), np.int64(46)]  lr 0.023747 78.371sec(train) 20.919sec(infer)\n"
     ]
    },
    {
     "name": "stdout",
     "output_type": "stream",
     "text": [
      "Epoch 514 tst: l 0.888 a 0.713 clct[np.int64(20), np.int64(20)] clct_ans[np.int64(20), np.int64(20)]  3.178sec\n"
     ]
    },
    {
     "name": "stdout",
     "output_type": "stream",
     "text": [
      "Epoch 515 tr: l 0.940 a 0.689 clct[np.int64(47), np.int64(53)] clct_ans[np.int64(53), np.int64(47)]  lr 0.023745 79.500sec(train) 20.902sec(infer)\n"
     ]
    },
    {
     "name": "stdout",
     "output_type": "stream",
     "text": [
      "Epoch 515 tst: l 0.885 a 0.715 clct[np.int64(20), np.int64(20)] clct_ans[np.int64(20), np.int64(20)]  3.166sec\n"
     ]
    },
    {
     "name": "stdout",
     "output_type": "stream",
     "text": [
      "Epoch 516 tr: l 0.928 a 0.694 clct[np.int64(53), np.int64(47)] clct_ans[np.int64(47), np.int64(53)]  lr 0.023743 81.548sec(train) 20.899sec(infer)\n"
     ]
    },
    {
     "name": "stdout",
     "output_type": "stream",
     "text": [
      "Epoch 516 tst: l 0.888 a 0.714 clct[np.int64(20), np.int64(20)] clct_ans[np.int64(20), np.int64(20)]  3.187sec\n"
     ]
    },
    {
     "name": "stdout",
     "output_type": "stream",
     "text": [
      "Epoch 517 tr: l 0.933 a 0.693 clct[np.int64(50), np.int64(50)] clct_ans[np.int64(50), np.int64(50)]  lr 0.023740 80.918sec(train) 20.910sec(infer)\n"
     ]
    },
    {
     "name": "stdout",
     "output_type": "stream",
     "text": [
      "Epoch 517 tst: l 0.885 a 0.715 clct[np.int64(20), np.int64(20)] clct_ans[np.int64(20), np.int64(20)]  3.179sec\n"
     ]
    },
    {
     "name": "stdout",
     "output_type": "stream",
     "text": [
      "Epoch 518 tr: l 0.933 a 0.690 clct[np.int64(48), np.int64(52)] clct_ans[np.int64(52), np.int64(48)]  lr 0.023738 79.678sec(train) 20.854sec(infer)\n"
     ]
    },
    {
     "name": "stdout",
     "output_type": "stream",
     "text": [
      "Epoch 518 tst: l 0.888 a 0.713 clct[np.int64(20), np.int64(20)] clct_ans[np.int64(20), np.int64(20)]  3.121sec\n"
     ]
    },
    {
     "name": "stdout",
     "output_type": "stream",
     "text": [
      "Epoch 519 tr: l 0.929 a 0.692 clct[np.int64(45), np.int64(55)] clct_ans[np.int64(55), np.int64(45)]  lr 0.023736 78.702sec(train) 21.073sec(infer)\n"
     ]
    },
    {
     "name": "stdout",
     "output_type": "stream",
     "text": [
      "Epoch 519 tst: l 0.886 a 0.715 clct[np.int64(20), np.int64(20)] clct_ans[np.int64(20), np.int64(20)]  3.162sec\n"
     ]
    },
    {
     "name": "stdout",
     "output_type": "stream",
     "text": [
      "Epoch 520 tr: l 0.936 a 0.691 clct[np.int64(47), np.int64(53)] clct_ans[np.int64(53), np.int64(47)]  lr 0.023733 78.322sec(train) 20.812sec(infer)\n"
     ]
    },
    {
     "name": "stdout",
     "output_type": "stream",
     "text": [
      "Epoch 520 tst: l 0.885 a 0.713 clct[np.int64(20), np.int64(20)] clct_ans[np.int64(20), np.int64(20)]  3.128sec\n",
      "result written at output_dfca_gi/results.pickle\n"
     ]
    },
    {
     "name": "stdout",
     "output_type": "stream",
     "text": [
      "checkpoint written at output_dfca_gi/checkpoint.pt\n"
     ]
    },
    {
     "name": "stdout",
     "output_type": "stream",
     "text": [
      "Epoch 521 tr: l 0.934 a 0.694 clct[np.int64(44), np.int64(56)] clct_ans[np.int64(56), np.int64(44)]  lr 0.023731 77.538sec(train) 20.759sec(infer)\n"
     ]
    },
    {
     "name": "stdout",
     "output_type": "stream",
     "text": [
      "Epoch 521 tst: l 0.885 a 0.713 clct[np.int64(20), np.int64(20)] clct_ans[np.int64(20), np.int64(20)]  3.119sec\n"
     ]
    },
    {
     "name": "stdout",
     "output_type": "stream",
     "text": [
      "Epoch 522 tr: l 0.927 a 0.692 clct[np.int64(59), np.int64(41)] clct_ans[np.int64(41), np.int64(59)]  lr 0.023728 77.337sec(train) 20.763sec(infer)\n"
     ]
    },
    {
     "name": "stdout",
     "output_type": "stream",
     "text": [
      "Epoch 522 tst: l 0.883 a 0.713 clct[np.int64(20), np.int64(20)] clct_ans[np.int64(20), np.int64(20)]  3.118sec\n"
     ]
    },
    {
     "name": "stdout",
     "output_type": "stream",
     "text": [
      "Epoch 523 tr: l 0.923 a 0.696 clct[np.int64(62), np.int64(38)] clct_ans[np.int64(38), np.int64(62)]  lr 0.023726 77.625sec(train) 20.709sec(infer)\n"
     ]
    },
    {
     "name": "stdout",
     "output_type": "stream",
     "text": [
      "Epoch 523 tst: l 0.883 a 0.713 clct[np.int64(20), np.int64(20)] clct_ans[np.int64(20), np.int64(20)]  3.117sec\n"
     ]
    },
    {
     "name": "stdout",
     "output_type": "stream",
     "text": [
      "Epoch 524 tr: l 0.926 a 0.696 clct[np.int64(46), np.int64(54)] clct_ans[np.int64(54), np.int64(46)]  lr 0.023724 77.419sec(train) 20.759sec(infer)\n"
     ]
    },
    {
     "name": "stdout",
     "output_type": "stream",
     "text": [
      "Epoch 524 tst: l 0.884 a 0.712 clct[np.int64(20), np.int64(20)] clct_ans[np.int64(20), np.int64(20)]  3.195sec\n"
     ]
    },
    {
     "name": "stdout",
     "output_type": "stream",
     "text": [
      "Epoch 525 tr: l 0.930 a 0.694 clct[np.int64(51), np.int64(49)] clct_ans[np.int64(49), np.int64(51)]  lr 0.023721 78.110sec(train) 20.744sec(infer)\n"
     ]
    },
    {
     "name": "stdout",
     "output_type": "stream",
     "text": [
      "Epoch 525 tst: l 0.886 a 0.714 clct[np.int64(20), np.int64(20)] clct_ans[np.int64(20), np.int64(20)]  3.176sec\n"
     ]
    },
    {
     "name": "stdout",
     "output_type": "stream",
     "text": [
      "Epoch 526 tr: l 0.928 a 0.695 clct[np.int64(47), np.int64(53)] clct_ans[np.int64(53), np.int64(47)]  lr 0.023719 77.654sec(train) 20.779sec(infer)\n"
     ]
    },
    {
     "name": "stdout",
     "output_type": "stream",
     "text": [
      "Epoch 526 tst: l 0.887 a 0.714 clct[np.int64(20), np.int64(20)] clct_ans[np.int64(20), np.int64(20)]  3.169sec\n"
     ]
    },
    {
     "name": "stdout",
     "output_type": "stream",
     "text": [
      "Epoch 527 tr: l 0.939 a 0.690 clct[np.int64(51), np.int64(49)] clct_ans[np.int64(49), np.int64(51)]  lr 0.023717 77.809sec(train) 20.801sec(infer)\n"
     ]
    },
    {
     "name": "stdout",
     "output_type": "stream",
     "text": [
      "Epoch 527 tst: l 0.889 a 0.712 clct[np.int64(20), np.int64(20)] clct_ans[np.int64(20), np.int64(20)]  3.173sec\n"
     ]
    },
    {
     "name": "stdout",
     "output_type": "stream",
     "text": [
      "Epoch 528 tr: l 0.933 a 0.693 clct[np.int64(50), np.int64(50)] clct_ans[np.int64(50), np.int64(50)]  lr 0.023714 77.813sec(train) 20.879sec(infer)\n"
     ]
    },
    {
     "name": "stdout",
     "output_type": "stream",
     "text": [
      "Epoch 528 tst: l 0.885 a 0.713 clct[np.int64(20), np.int64(20)] clct_ans[np.int64(20), np.int64(20)]  3.177sec\n"
     ]
    },
    {
     "name": "stdout",
     "output_type": "stream",
     "text": [
      "Epoch 529 tr: l 0.926 a 0.693 clct[np.int64(48), np.int64(52)] clct_ans[np.int64(52), np.int64(48)]  lr 0.023712 77.878sec(train) 20.818sec(infer)\n"
     ]
    },
    {
     "name": "stdout",
     "output_type": "stream",
     "text": [
      "Epoch 529 tst: l 0.885 a 0.714 clct[np.int64(20), np.int64(20)] clct_ans[np.int64(20), np.int64(20)]  3.174sec\n"
     ]
    },
    {
     "name": "stdout",
     "output_type": "stream",
     "text": [
      "Epoch 530 tr: l 0.934 a 0.692 clct[np.int64(48), np.int64(52)] clct_ans[np.int64(52), np.int64(48)]  lr 0.023709 77.581sec(train) 20.833sec(infer)\n"
     ]
    },
    {
     "name": "stdout",
     "output_type": "stream",
     "text": [
      "Epoch 530 tst: l 0.885 a 0.714 clct[np.int64(20), np.int64(20)] clct_ans[np.int64(20), np.int64(20)]  3.149sec\n",
      "result written at output_dfca_gi/results.pickle\n"
     ]
    },
    {
     "name": "stdout",
     "output_type": "stream",
     "text": [
      "checkpoint written at output_dfca_gi/checkpoint.pt\n"
     ]
    },
    {
     "name": "stdout",
     "output_type": "stream",
     "text": [
      "Epoch 531 tr: l 0.937 a 0.691 clct[np.int64(49), np.int64(51)] clct_ans[np.int64(51), np.int64(49)]  lr 0.023707 77.927sec(train) 20.823sec(infer)\n"
     ]
    },
    {
     "name": "stdout",
     "output_type": "stream",
     "text": [
      "Epoch 531 tst: l 0.885 a 0.714 clct[np.int64(20), np.int64(20)] clct_ans[np.int64(20), np.int64(20)]  3.165sec\n"
     ]
    },
    {
     "name": "stdout",
     "output_type": "stream",
     "text": [
      "Epoch 532 tr: l 0.937 a 0.688 clct[np.int64(45), np.int64(55)] clct_ans[np.int64(55), np.int64(45)]  lr 0.023705 77.726sec(train) 20.823sec(infer)\n"
     ]
    },
    {
     "name": "stdout",
     "output_type": "stream",
     "text": [
      "Epoch 532 tst: l 0.884 a 0.713 clct[np.int64(20), np.int64(20)] clct_ans[np.int64(20), np.int64(20)]  3.166sec\n"
     ]
    },
    {
     "name": "stdout",
     "output_type": "stream",
     "text": [
      "Epoch 533 tr: l 0.924 a 0.696 clct[np.int64(50), np.int64(50)] clct_ans[np.int64(50), np.int64(50)]  lr 0.023702 77.045sec(train) 20.838sec(infer)\n"
     ]
    },
    {
     "name": "stdout",
     "output_type": "stream",
     "text": [
      "Epoch 533 tst: l 0.884 a 0.712 clct[np.int64(20), np.int64(20)] clct_ans[np.int64(20), np.int64(20)]  3.189sec\n"
     ]
    },
    {
     "name": "stdout",
     "output_type": "stream",
     "text": [
      "Epoch 534 tr: l 0.925 a 0.695 clct[np.int64(46), np.int64(54)] clct_ans[np.int64(54), np.int64(46)]  lr 0.023700 78.126sec(train) 20.806sec(infer)\n"
     ]
    },
    {
     "name": "stdout",
     "output_type": "stream",
     "text": [
      "Epoch 534 tst: l 0.884 a 0.714 clct[np.int64(20), np.int64(20)] clct_ans[np.int64(20), np.int64(20)]  3.159sec\n"
     ]
    },
    {
     "name": "stdout",
     "output_type": "stream",
     "text": [
      "Epoch 535 tr: l 0.919 a 0.697 clct[np.int64(52), np.int64(48)] clct_ans[np.int64(48), np.int64(52)]  lr 0.023698 76.487sec(train) 20.849sec(infer)\n"
     ]
    },
    {
     "name": "stdout",
     "output_type": "stream",
     "text": [
      "Epoch 535 tst: l 0.884 a 0.714 clct[np.int64(20), np.int64(20)] clct_ans[np.int64(20), np.int64(20)]  3.175sec\n"
     ]
    },
    {
     "name": "stdout",
     "output_type": "stream",
     "text": [
      "Epoch 536 tr: l 0.930 a 0.694 clct[np.int64(51), np.int64(49)] clct_ans[np.int64(49), np.int64(51)]  lr 0.023695 77.584sec(train) 20.820sec(infer)\n"
     ]
    },
    {
     "name": "stdout",
     "output_type": "stream",
     "text": [
      "Epoch 536 tst: l 0.887 a 0.713 clct[np.int64(20), np.int64(20)] clct_ans[np.int64(20), np.int64(20)]  3.155sec\n"
     ]
    },
    {
     "name": "stdout",
     "output_type": "stream",
     "text": [
      "Epoch 537 tr: l 0.928 a 0.692 clct[np.int64(47), np.int64(53)] clct_ans[np.int64(53), np.int64(47)]  lr 0.023693 75.964sec(train) 20.836sec(infer)\n"
     ]
    },
    {
     "name": "stdout",
     "output_type": "stream",
     "text": [
      "Epoch 537 tst: l 0.881 a 0.713 clct[np.int64(20), np.int64(20)] clct_ans[np.int64(20), np.int64(20)]  3.209sec\n"
     ]
    },
    {
     "name": "stdout",
     "output_type": "stream",
     "text": [
      "Epoch 538 tr: l 0.919 a 0.695 clct[np.int64(54), np.int64(46)] clct_ans[np.int64(46), np.int64(54)]  lr 0.023690 77.400sec(train) 20.780sec(infer)\n"
     ]
    },
    {
     "name": "stdout",
     "output_type": "stream",
     "text": [
      "Epoch 538 tst: l 0.884 a 0.714 clct[np.int64(20), np.int64(20)] clct_ans[np.int64(20), np.int64(20)]  3.175sec\n"
     ]
    },
    {
     "name": "stdout",
     "output_type": "stream",
     "text": [
      "Epoch 539 tr: l 0.930 a 0.692 clct[np.int64(51), np.int64(49)] clct_ans[np.int64(49), np.int64(51)]  lr 0.023688 76.091sec(train) 20.785sec(infer)\n"
     ]
    },
    {
     "name": "stdout",
     "output_type": "stream",
     "text": [
      "Epoch 539 tst: l 0.886 a 0.713 clct[np.int64(20), np.int64(20)] clct_ans[np.int64(20), np.int64(20)]  3.170sec\n"
     ]
    },
    {
     "name": "stdout",
     "output_type": "stream",
     "text": [
      "Epoch 540 tr: l 0.927 a 0.693 clct[np.int64(54), np.int64(46)] clct_ans[np.int64(46), np.int64(54)]  lr 0.023686 76.025sec(train) 20.797sec(infer)\n"
     ]
    },
    {
     "name": "stdout",
     "output_type": "stream",
     "text": [
      "Epoch 540 tst: l 0.884 a 0.714 clct[np.int64(20), np.int64(20)] clct_ans[np.int64(20), np.int64(20)]  3.179sec\n",
      "result written at output_dfca_gi/results.pickle"
     ]
    },
    {
     "name": "stdout",
     "output_type": "stream",
     "text": [
      "\n",
      "checkpoint written at output_dfca_gi/checkpoint.pt\n"
     ]
    },
    {
     "name": "stdout",
     "output_type": "stream",
     "text": [
      "Epoch 541 tr: l 0.927 a 0.693 clct[np.int64(50), np.int64(50)] clct_ans[np.int64(50), np.int64(50)]  lr 0.023683 77.676sec(train) 20.892sec(infer)\n"
     ]
    },
    {
     "name": "stdout",
     "output_type": "stream",
     "text": [
      "Epoch 541 tst: l 0.885 a 0.712 clct[np.int64(20), np.int64(20)] clct_ans[np.int64(20), np.int64(20)]  3.164sec\n"
     ]
    },
    {
     "name": "stdout",
     "output_type": "stream",
     "text": [
      "Epoch 542 tr: l 0.925 a 0.694 clct[np.int64(51), np.int64(49)] clct_ans[np.int64(49), np.int64(51)]  lr 0.023681 78.578sec(train) 20.765sec(infer)\n"
     ]
    },
    {
     "name": "stdout",
     "output_type": "stream",
     "text": [
      "Epoch 542 tst: l 0.886 a 0.714 clct[np.int64(20), np.int64(20)] clct_ans[np.int64(20), np.int64(20)]  3.169sec\n"
     ]
    },
    {
     "name": "stdout",
     "output_type": "stream",
     "text": [
      "Epoch 543 tr: l 0.931 a 0.692 clct[np.int64(45), np.int64(55)] clct_ans[np.int64(55), np.int64(45)]  lr 0.023679 75.758sec(train) 20.793sec(infer)\n"
     ]
    },
    {
     "name": "stdout",
     "output_type": "stream",
     "text": [
      "Epoch 543 tst: l 0.885 a 0.714 clct[np.int64(20), np.int64(20)] clct_ans[np.int64(20), np.int64(20)]  3.168sec\n"
     ]
    },
    {
     "name": "stdout",
     "output_type": "stream",
     "text": [
      "Epoch 544 tr: l 0.933 a 0.692 clct[np.int64(47), np.int64(53)] clct_ans[np.int64(53), np.int64(47)]  lr 0.023676 76.150sec(train) 20.776sec(infer)\n"
     ]
    },
    {
     "name": "stdout",
     "output_type": "stream",
     "text": [
      "Epoch 544 tst: l 0.885 a 0.714 clct[np.int64(20), np.int64(20)] clct_ans[np.int64(20), np.int64(20)]  3.172sec\n"
     ]
    },
    {
     "name": "stdout",
     "output_type": "stream",
     "text": [
      "Epoch 545 tr: l 0.926 a 0.695 clct[np.int64(50), np.int64(50)] clct_ans[np.int64(50), np.int64(50)]  lr 0.023674 76.270sec(train) 20.837sec(infer)\n"
     ]
    },
    {
     "name": "stdout",
     "output_type": "stream",
     "text": [
      "Epoch 545 tst: l 0.883 a 0.714 clct[np.int64(20), np.int64(20)] clct_ans[np.int64(20), np.int64(20)]  3.171sec\n"
     ]
    },
    {
     "name": "stdout",
     "output_type": "stream",
     "text": [
      "Epoch 546 tr: l 0.925 a 0.694 clct[np.int64(45), np.int64(55)] clct_ans[np.int64(55), np.int64(45)]  lr 0.023672 76.714sec(train) 20.852sec(infer)\n"
     ]
    },
    {
     "name": "stdout",
     "output_type": "stream",
     "text": [
      "Epoch 546 tst: l 0.880 a 0.715 clct[np.int64(20), np.int64(20)] clct_ans[np.int64(20), np.int64(20)]  3.175sec\n"
     ]
    },
    {
     "name": "stdout",
     "output_type": "stream",
     "text": [
      "Epoch 547 tr: l 0.924 a 0.694 clct[np.int64(55), np.int64(45)] clct_ans[np.int64(45), np.int64(55)]  lr 0.023669 76.723sec(train) 20.820sec(infer)\n"
     ]
    },
    {
     "name": "stdout",
     "output_type": "stream",
     "text": [
      "Epoch 547 tst: l 0.880 a 0.713 clct[np.int64(20), np.int64(20)] clct_ans[np.int64(20), np.int64(20)]  3.180sec\n"
     ]
    },
    {
     "name": "stdout",
     "output_type": "stream",
     "text": [
      "Epoch 548 tr: l 0.926 a 0.695 clct[np.int64(51), np.int64(49)] clct_ans[np.int64(49), np.int64(51)]  lr 0.023667 76.587sec(train) 20.740sec(infer)\n"
     ]
    },
    {
     "name": "stdout",
     "output_type": "stream",
     "text": [
      "Epoch 548 tst: l 0.882 a 0.714 clct[np.int64(20), np.int64(20)] clct_ans[np.int64(20), np.int64(20)]  3.167sec\n"
     ]
    },
    {
     "name": "stdout",
     "output_type": "stream",
     "text": [
      "Epoch 549 tr: l 0.919 a 0.694 clct[np.int64(52), np.int64(48)] clct_ans[np.int64(48), np.int64(52)]  lr 0.023664 76.074sec(train) 20.755sec(infer)\n"
     ]
    },
    {
     "name": "stdout",
     "output_type": "stream",
     "text": [
      "Epoch 549 tst: l 0.883 a 0.712 clct[np.int64(20), np.int64(20)] clct_ans[np.int64(20), np.int64(20)]  3.163sec\n"
     ]
    },
    {
     "name": "stdout",
     "output_type": "stream",
     "text": [
      "Epoch 550 tr: l 0.922 a 0.695 clct[np.int64(54), np.int64(46)] clct_ans[np.int64(46), np.int64(54)]  lr 0.023662 75.724sec(train) 20.818sec(infer)\n"
     ]
    },
    {
     "name": "stdout",
     "output_type": "stream",
     "text": [
      "Epoch 550 tst: l 0.883 a 0.713 clct[np.int64(20), np.int64(20)] clct_ans[np.int64(20), np.int64(20)]  3.170sec\n"
     ]
    },
    {
     "name": "stdout",
     "output_type": "stream",
     "text": [
      "result written at output_dfca_gi/results.pickle\n",
      "checkpoint written at output_dfca_gi/checkpoint.pt\n"
     ]
    },
    {
     "name": "stdout",
     "output_type": "stream",
     "text": [
      "Epoch 551 tr: l 0.928 a 0.692 clct[np.int64(49), np.int64(51)] clct_ans[np.int64(51), np.int64(49)]  lr 0.023660 77.492sec(train) 20.757sec(infer)\n"
     ]
    },
    {
     "name": "stdout",
     "output_type": "stream",
     "text": [
      "Epoch 551 tst: l 0.888 a 0.713 clct[np.int64(20), np.int64(20)] clct_ans[np.int64(20), np.int64(20)]  3.372sec\n"
     ]
    },
    {
     "name": "stdout",
     "output_type": "stream",
     "text": [
      "Epoch 552 tr: l 0.926 a 0.695 clct[np.int64(51), np.int64(49)] clct_ans[np.int64(49), np.int64(51)]  lr 0.023657 77.999sec(train) 20.873sec(infer)\n"
     ]
    },
    {
     "name": "stdout",
     "output_type": "stream",
     "text": [
      "Epoch 552 tst: l 0.887 a 0.713 clct[np.int64(20), np.int64(20)] clct_ans[np.int64(20), np.int64(20)]  3.182sec\n"
     ]
    },
    {
     "name": "stdout",
     "output_type": "stream",
     "text": [
      "Epoch 553 tr: l 0.930 a 0.693 clct[np.int64(44), np.int64(56)] clct_ans[np.int64(56), np.int64(44)]  lr 0.023655 77.588sec(train) 20.792sec(infer)\n"
     ]
    },
    {
     "name": "stdout",
     "output_type": "stream",
     "text": [
      "Epoch 553 tst: l 0.887 a 0.714 clct[np.int64(20), np.int64(20)] clct_ans[np.int64(20), np.int64(20)]  3.177sec\n"
     ]
    },
    {
     "name": "stdout",
     "output_type": "stream",
     "text": [
      "Epoch 554 tr: l 0.922 a 0.695 clct[np.int64(49), np.int64(51)] clct_ans[np.int64(51), np.int64(49)]  lr 0.023653 77.192sec(train) 20.783sec(infer)\n"
     ]
    },
    {
     "name": "stdout",
     "output_type": "stream",
     "text": [
      "Epoch 554 tst: l 0.883 a 0.714 clct[np.int64(20), np.int64(20)] clct_ans[np.int64(20), np.int64(20)]  3.177sec\n"
     ]
    },
    {
     "name": "stdout",
     "output_type": "stream",
     "text": [
      "Epoch 555 tr: l 0.918 a 0.696 clct[np.int64(50), np.int64(50)] clct_ans[np.int64(50), np.int64(50)]  lr 0.023650 76.491sec(train) 20.766sec(infer)\n"
     ]
    },
    {
     "name": "stdout",
     "output_type": "stream",
     "text": [
      "Epoch 555 tst: l 0.884 a 0.713 clct[np.int64(20), np.int64(20)] clct_ans[np.int64(20), np.int64(20)]  3.176sec\n"
     ]
    },
    {
     "name": "stdout",
     "output_type": "stream",
     "text": [
      "Epoch 556 tr: l 0.915 a 0.697 clct[np.int64(51), np.int64(49)] clct_ans[np.int64(49), np.int64(51)]  lr 0.023648 78.141sec(train) 20.699sec(infer)\n"
     ]
    },
    {
     "name": "stdout",
     "output_type": "stream",
     "text": [
      "Epoch 556 tst: l 0.881 a 0.714 clct[np.int64(20), np.int64(20)] clct_ans[np.int64(20), np.int64(20)]  3.170sec\n"
     ]
    },
    {
     "name": "stdout",
     "output_type": "stream",
     "text": [
      "Epoch 557 tr: l 0.917 a 0.696 clct[np.int64(43), np.int64(57)] clct_ans[np.int64(57), np.int64(43)]  lr 0.023646 75.577sec(train) 20.727sec(infer)\n"
     ]
    },
    {
     "name": "stdout",
     "output_type": "stream",
     "text": [
      "Epoch 557 tst: l 0.883 a 0.716 clct[np.int64(20), np.int64(20)] clct_ans[np.int64(20), np.int64(20)]  3.183sec\n"
     ]
    },
    {
     "name": "stdout",
     "output_type": "stream",
     "text": [
      "Epoch 558 tr: l 0.914 a 0.696 clct[np.int64(46), np.int64(54)] clct_ans[np.int64(54), np.int64(46)]  lr 0.023643 74.928sec(train) 20.663sec(infer)\n"
     ]
    },
    {
     "name": "stdout",
     "output_type": "stream",
     "text": [
      "Epoch 558 tst: l 0.885 a 0.714 clct[np.int64(20), np.int64(20)] clct_ans[np.int64(20), np.int64(20)]  3.136sec\n"
     ]
    },
    {
     "name": "stdout",
     "output_type": "stream",
     "text": [
      "Epoch 559 tr: l 0.924 a 0.695 clct[np.int64(50), np.int64(50)] clct_ans[np.int64(50), np.int64(50)]  lr 0.023641 76.458sec(train) 20.741sec(infer)\n"
     ]
    },
    {
     "name": "stdout",
     "output_type": "stream",
     "text": [
      "Epoch 559 tst: l 0.886 a 0.714 clct[np.int64(20), np.int64(20)] clct_ans[np.int64(20), np.int64(20)]  3.121sec\n"
     ]
    },
    {
     "name": "stdout",
     "output_type": "stream",
     "text": [
      "Epoch 560 tr: l 0.918 a 0.695 clct[np.int64(49), np.int64(51)] clct_ans[np.int64(51), np.int64(49)]  lr 0.023638 75.879sec(train) 20.766sec(infer)\n"
     ]
    },
    {
     "name": "stdout",
     "output_type": "stream",
     "text": [
      "Epoch 560 tst: l 0.884 a 0.714 clct[np.int64(20), np.int64(20)] clct_ans[np.int64(20), np.int64(20)]  3.124sec\n"
     ]
    },
    {
     "name": "stdout",
     "output_type": "stream",
     "text": [
      "result written at output_dfca_gi/results.pickle\n",
      "checkpoint written at output_dfca_gi/checkpoint.pt\n"
     ]
    },
    {
     "name": "stdout",
     "output_type": "stream",
     "text": [
      "Epoch 561 tr: l 0.934 a 0.691 clct[np.int64(54), np.int64(46)] clct_ans[np.int64(46), np.int64(54)]  lr 0.023636 78.139sec(train) 20.834sec(infer)\n"
     ]
    },
    {
     "name": "stdout",
     "output_type": "stream",
     "text": [
      "Epoch 561 tst: l 0.887 a 0.712 clct[np.int64(20), np.int64(20)] clct_ans[np.int64(20), np.int64(20)]  3.115sec\n"
     ]
    },
    {
     "name": "stdout",
     "output_type": "stream",
     "text": [
      "Epoch 562 tr: l 0.923 a 0.695 clct[np.int64(57), np.int64(43)] clct_ans[np.int64(43), np.int64(57)]  lr 0.023634 78.092sec(train) 20.764sec(infer)\n"
     ]
    },
    {
     "name": "stdout",
     "output_type": "stream",
     "text": [
      "Epoch 562 tst: l 0.886 a 0.713 clct[np.int64(20), np.int64(20)] clct_ans[np.int64(20), np.int64(20)]  3.116sec\n"
     ]
    },
    {
     "name": "stdout",
     "output_type": "stream",
     "text": [
      "Epoch 563 tr: l 0.924 a 0.695 clct[np.int64(50), np.int64(50)] clct_ans[np.int64(50), np.int64(50)]  lr 0.023631 78.002sec(train) 20.872sec(infer)\n"
     ]
    },
    {
     "name": "stdout",
     "output_type": "stream",
     "text": [
      "Epoch 563 tst: l 0.884 a 0.714 clct[np.int64(20), np.int64(20)] clct_ans[np.int64(20), np.int64(20)]  3.111sec\n"
     ]
    },
    {
     "name": "stdout",
     "output_type": "stream",
     "text": [
      "Epoch 564 tr: l 0.924 a 0.695 clct[np.int64(48), np.int64(52)] clct_ans[np.int64(52), np.int64(48)]  lr 0.023629 77.710sec(train) 20.761sec(infer)\n"
     ]
    },
    {
     "name": "stdout",
     "output_type": "stream",
     "text": [
      "Epoch 564 tst: l 0.884 a 0.715 clct[np.int64(20), np.int64(20)] clct_ans[np.int64(20), np.int64(20)]  3.110sec\n"
     ]
    },
    {
     "name": "stdout",
     "output_type": "stream",
     "text": [
      "Epoch 565 tr: l 0.915 a 0.697 clct[np.int64(48), np.int64(52)] clct_ans[np.int64(52), np.int64(48)]  lr 0.023627 75.285sec(train) 20.805sec(infer)\n"
     ]
    },
    {
     "name": "stdout",
     "output_type": "stream",
     "text": [
      "Epoch 565 tst: l 0.880 a 0.714 clct[np.int64(20), np.int64(20)] clct_ans[np.int64(20), np.int64(20)]  3.165sec\n"
     ]
    },
    {
     "name": "stdout",
     "output_type": "stream",
     "text": [
      "Epoch 566 tr: l 0.929 a 0.695 clct[np.int64(50), np.int64(50)] clct_ans[np.int64(50), np.int64(50)]  lr 0.023624 77.678sec(train) 20.798sec(infer)\n"
     ]
    },
    {
     "name": "stdout",
     "output_type": "stream",
     "text": [
      "Epoch 566 tst: l 0.886 a 0.714 clct[np.int64(20), np.int64(20)] clct_ans[np.int64(20), np.int64(20)]  3.178sec\n"
     ]
    },
    {
     "name": "stdout",
     "output_type": "stream",
     "text": [
      "Epoch 567 tr: l 0.915 a 0.696 clct[np.int64(47), np.int64(53)] clct_ans[np.int64(53), np.int64(47)]  lr 0.023622 76.774sec(train) 20.770sec(infer)\n"
     ]
    },
    {
     "name": "stdout",
     "output_type": "stream",
     "text": [
      "Epoch 567 tst: l 0.884 a 0.715 clct[np.int64(20), np.int64(20)] clct_ans[np.int64(20), np.int64(20)]  3.172sec\n"
     ]
    },
    {
     "name": "stdout",
     "output_type": "stream",
     "text": [
      "Epoch 568 tr: l 0.918 a 0.696 clct[np.int64(51), np.int64(49)] clct_ans[np.int64(49), np.int64(51)]  lr 0.023620 76.080sec(train) 20.794sec(infer)\n"
     ]
    },
    {
     "name": "stdout",
     "output_type": "stream",
     "text": [
      "Epoch 568 tst: l 0.883 a 0.714 clct[np.int64(20), np.int64(20)] clct_ans[np.int64(20), np.int64(20)]  3.180sec\n"
     ]
    },
    {
     "name": "stdout",
     "output_type": "stream",
     "text": [
      "Epoch 569 tr: l 0.925 a 0.695 clct[np.int64(45), np.int64(55)] clct_ans[np.int64(55), np.int64(45)]  lr 0.023617 78.380sec(train) 20.832sec(infer)\n"
     ]
    },
    {
     "name": "stdout",
     "output_type": "stream",
     "text": [
      "Epoch 569 tst: l 0.882 a 0.714 clct[np.int64(20), np.int64(20)] clct_ans[np.int64(20), np.int64(20)]  3.177sec\n"
     ]
    },
    {
     "name": "stdout",
     "output_type": "stream",
     "text": [
      "Epoch 570 tr: l 0.929 a 0.694 clct[np.int64(53), np.int64(47)] clct_ans[np.int64(47), np.int64(53)]  lr 0.023615 79.043sec(train) 20.810sec(infer)\n"
     ]
    },
    {
     "name": "stdout",
     "output_type": "stream",
     "text": [
      "Epoch 570 tst: l 0.881 a 0.715 clct[np.int64(20), np.int64(20)] clct_ans[np.int64(20), np.int64(20)]  3.169sec\n"
     ]
    },
    {
     "name": "stdout",
     "output_type": "stream",
     "text": [
      "result written at output_dfca_gi/results.pickle\n",
      "checkpoint written at output_dfca_gi/checkpoint.pt\n"
     ]
    },
    {
     "name": "stdout",
     "output_type": "stream",
     "text": [
      "Epoch 571 tr: l 0.915 a 0.698 clct[np.int64(55), np.int64(45)] clct_ans[np.int64(45), np.int64(55)]  lr 0.023612 77.533sec(train) 20.794sec(infer)\n"
     ]
    },
    {
     "name": "stdout",
     "output_type": "stream",
     "text": [
      "Epoch 571 tst: l 0.880 a 0.716 clct[np.int64(20), np.int64(20)] clct_ans[np.int64(20), np.int64(20)]  3.182sec\n"
     ]
    },
    {
     "name": "stdout",
     "output_type": "stream",
     "text": [
      "Epoch 572 tr: l 0.913 a 0.697 clct[np.int64(50), np.int64(50)] clct_ans[np.int64(50), np.int64(50)]  lr 0.023610 77.556sec(train) 20.840sec(infer)\n"
     ]
    },
    {
     "name": "stdout",
     "output_type": "stream",
     "text": [
      "Epoch 572 tst: l 0.881 a 0.715 clct[np.int64(20), np.int64(20)] clct_ans[np.int64(20), np.int64(20)]  3.173sec\n"
     ]
    },
    {
     "name": "stdout",
     "output_type": "stream",
     "text": [
      "Epoch 573 tr: l 0.916 a 0.698 clct[np.int64(57), np.int64(43)] clct_ans[np.int64(43), np.int64(57)]  lr 0.023608 77.460sec(train) 20.812sec(infer)\n"
     ]
    },
    {
     "name": "stdout",
     "output_type": "stream",
     "text": [
      "Epoch 573 tst: l 0.883 a 0.714 clct[np.int64(20), np.int64(20)] clct_ans[np.int64(20), np.int64(20)]  3.172sec\n"
     ]
    },
    {
     "name": "stdout",
     "output_type": "stream",
     "text": [
      "Epoch 574 tr: l 0.931 a 0.692 clct[np.int64(42), np.int64(58)] clct_ans[np.int64(58), np.int64(42)]  lr 0.023605 77.713sec(train) 20.811sec(infer)\n"
     ]
    },
    {
     "name": "stdout",
     "output_type": "stream",
     "text": [
      "Epoch 574 tst: l 0.886 a 0.712 clct[np.int64(20), np.int64(20)] clct_ans[np.int64(20), np.int64(20)]  3.166sec\n"
     ]
    },
    {
     "name": "stdout",
     "output_type": "stream",
     "text": [
      "Epoch 575 tr: l 0.917 a 0.698 clct[np.int64(49), np.int64(51)] clct_ans[np.int64(51), np.int64(49)]  lr 0.023603 77.397sec(train) 20.825sec(infer)\n"
     ]
    },
    {
     "name": "stdout",
     "output_type": "stream",
     "text": [
      "Epoch 575 tst: l 0.883 a 0.714 clct[np.int64(20), np.int64(20)] clct_ans[np.int64(20), np.int64(20)]  3.159sec\n"
     ]
    },
    {
     "name": "stdout",
     "output_type": "stream",
     "text": [
      "Epoch 576 tr: l 0.919 a 0.697 clct[np.int64(49), np.int64(51)] clct_ans[np.int64(51), np.int64(49)]  lr 0.023601 77.720sec(train) 20.825sec(infer)\n"
     ]
    },
    {
     "name": "stdout",
     "output_type": "stream",
     "text": [
      "Epoch 576 tst: l 0.881 a 0.715 clct[np.int64(20), np.int64(20)] clct_ans[np.int64(20), np.int64(20)]  3.168sec\n"
     ]
    },
    {
     "name": "stdout",
     "output_type": "stream",
     "text": [
      "Epoch 577 tr: l 0.916 a 0.698 clct[np.int64(53), np.int64(47)] clct_ans[np.int64(47), np.int64(53)]  lr 0.023598 78.297sec(train) 20.823sec(infer)\n"
     ]
    },
    {
     "name": "stdout",
     "output_type": "stream",
     "text": [
      "Epoch 577 tst: l 0.884 a 0.713 clct[np.int64(20), np.int64(20)] clct_ans[np.int64(20), np.int64(20)]  3.191sec\n"
     ]
    },
    {
     "name": "stdout",
     "output_type": "stream",
     "text": [
      "Epoch 578 tr: l 0.921 a 0.695 clct[np.int64(49), np.int64(51)] clct_ans[np.int64(51), np.int64(49)]  lr 0.023596 77.230sec(train) 20.912sec(infer)\n"
     ]
    },
    {
     "name": "stdout",
     "output_type": "stream",
     "text": [
      "Epoch 578 tst: l 0.883 a 0.713 clct[np.int64(20), np.int64(20)] clct_ans[np.int64(20), np.int64(20)]  3.181sec\n"
     ]
    },
    {
     "name": "stdout",
     "output_type": "stream",
     "text": [
      "Epoch 579 tr: l 0.910 a 0.696 clct[np.int64(53), np.int64(47)] clct_ans[np.int64(47), np.int64(53)]  lr 0.023594 78.424sec(train) 20.813sec(infer)\n"
     ]
    },
    {
     "name": "stdout",
     "output_type": "stream",
     "text": [
      "Epoch 579 tst: l 0.883 a 0.713 clct[np.int64(20), np.int64(20)] clct_ans[np.int64(20), np.int64(20)]  3.179sec\n"
     ]
    },
    {
     "name": "stdout",
     "output_type": "stream",
     "text": [
      "Epoch 580 tr: l 0.930 a 0.693 clct[np.int64(47), np.int64(53)] clct_ans[np.int64(53), np.int64(47)]  lr 0.023591 78.100sec(train) 20.845sec(infer)\n"
     ]
    },
    {
     "name": "stdout",
     "output_type": "stream",
     "text": [
      "Epoch 580 tst: l 0.883 a 0.714 clct[np.int64(20), np.int64(20)] clct_ans[np.int64(20), np.int64(20)]  3.182sec\n"
     ]
    },
    {
     "name": "stdout",
     "output_type": "stream",
     "text": [
      "result written at output_dfca_gi/results.pickle\n",
      "checkpoint written at output_dfca_gi/checkpoint.pt\n"
     ]
    },
    {
     "name": "stdout",
     "output_type": "stream",
     "text": [
      "Epoch 581 tr: l 0.921 a 0.696 clct[np.int64(48), np.int64(52)] clct_ans[np.int64(52), np.int64(48)]  lr 0.023589 77.917sec(train) 20.791sec(infer)\n"
     ]
    },
    {
     "name": "stdout",
     "output_type": "stream",
     "text": [
      "Epoch 581 tst: l 0.884 a 0.714 clct[np.int64(20), np.int64(20)] clct_ans[np.int64(20), np.int64(20)]  3.186sec\n"
     ]
    },
    {
     "name": "stdout",
     "output_type": "stream",
     "text": [
      "Epoch 582 tr: l 0.924 a 0.695 clct[np.int64(53), np.int64(47)] clct_ans[np.int64(47), np.int64(53)]  lr 0.023586 76.879sec(train) 20.869sec(infer)\n"
     ]
    },
    {
     "name": "stdout",
     "output_type": "stream",
     "text": [
      "Epoch 582 tst: l 0.882 a 0.715 clct[np.int64(20), np.int64(20)] clct_ans[np.int64(20), np.int64(20)]  3.177sec\n"
     ]
    },
    {
     "name": "stdout",
     "output_type": "stream",
     "text": [
      "Epoch 583 tr: l 0.921 a 0.698 clct[np.int64(50), np.int64(50)] clct_ans[np.int64(50), np.int64(50)]  lr 0.023584 77.539sec(train) 20.847sec(infer)\n"
     ]
    },
    {
     "name": "stdout",
     "output_type": "stream",
     "text": [
      "Epoch 583 tst: l 0.882 a 0.715 clct[np.int64(20), np.int64(20)] clct_ans[np.int64(20), np.int64(20)]  3.152sec\n"
     ]
    },
    {
     "name": "stdout",
     "output_type": "stream",
     "text": [
      "Epoch 584 tr: l 0.913 a 0.697 clct[np.int64(48), np.int64(52)] clct_ans[np.int64(52), np.int64(48)]  lr 0.023582 77.327sec(train) 20.871sec(infer)\n"
     ]
    },
    {
     "name": "stdout",
     "output_type": "stream",
     "text": [
      "Epoch 584 tst: l 0.883 a 0.713 clct[np.int64(20), np.int64(20)] clct_ans[np.int64(20), np.int64(20)]  3.401sec\n"
     ]
    },
    {
     "name": "stdout",
     "output_type": "stream",
     "text": [
      "Epoch 585 tr: l 0.927 a 0.694 clct[np.int64(50), np.int64(50)] clct_ans[np.int64(50), np.int64(50)]  lr 0.023579 77.947sec(train) 20.848sec(infer)\n"
     ]
    },
    {
     "name": "stdout",
     "output_type": "stream",
     "text": [
      "Epoch 585 tst: l 0.884 a 0.714 clct[np.int64(20), np.int64(20)] clct_ans[np.int64(20), np.int64(20)]  3.181sec\n"
     ]
    },
    {
     "name": "stdout",
     "output_type": "stream",
     "text": [
      "Epoch 586 tr: l 0.910 a 0.697 clct[np.int64(41), np.int64(59)] clct_ans[np.int64(59), np.int64(41)]  lr 0.023577 78.132sec(train) 20.761sec(infer)\n"
     ]
    },
    {
     "name": "stdout",
     "output_type": "stream",
     "text": [
      "Epoch 586 tst: l 0.883 a 0.714 clct[np.int64(20), np.int64(20)] clct_ans[np.int64(20), np.int64(20)]  3.152sec\n"
     ]
    },
    {
     "name": "stdout",
     "output_type": "stream",
     "text": [
      "Epoch 587 tr: l 0.926 a 0.696 clct[np.int64(51), np.int64(49)] clct_ans[np.int64(49), np.int64(51)]  lr 0.023575 77.624sec(train) 20.823sec(infer)\n"
     ]
    },
    {
     "name": "stdout",
     "output_type": "stream",
     "text": [
      "Epoch 587 tst: l 0.885 a 0.713 clct[np.int64(20), np.int64(20)] clct_ans[np.int64(20), np.int64(20)]  3.141sec\n"
     ]
    },
    {
     "name": "stdout",
     "output_type": "stream",
     "text": [
      "Epoch 588 tr: l 0.914 a 0.697 clct[np.int64(50), np.int64(50)] clct_ans[np.int64(50), np.int64(50)]  lr 0.023572 77.422sec(train) 20.812sec(infer)\n"
     ]
    },
    {
     "name": "stdout",
     "output_type": "stream",
     "text": [
      "Epoch 588 tst: l 0.881 a 0.714 clct[np.int64(20), np.int64(20)] clct_ans[np.int64(20), np.int64(20)]  3.155sec\n"
     ]
    },
    {
     "name": "stdout",
     "output_type": "stream",
     "text": [
      "Epoch 589 tr: l 0.918 a 0.697 clct[np.int64(48), np.int64(52)] clct_ans[np.int64(52), np.int64(48)]  lr 0.023570 77.261sec(train) 21.062sec(infer)\n"
     ]
    },
    {
     "name": "stdout",
     "output_type": "stream",
     "text": [
      "Epoch 589 tst: l 0.885 a 0.713 clct[np.int64(20), np.int64(20)] clct_ans[np.int64(20), np.int64(20)]  3.164sec\n"
     ]
    },
    {
     "name": "stdout",
     "output_type": "stream",
     "text": [
      "Epoch 590 tr: l 0.910 a 0.700 clct[np.int64(46), np.int64(54)] clct_ans[np.int64(54), np.int64(46)]  lr 0.023568 76.866sec(train) 20.782sec(infer)\n"
     ]
    },
    {
     "name": "stdout",
     "output_type": "stream",
     "text": [
      "Epoch 590 tst: l 0.879 a 0.714 clct[np.int64(20), np.int64(20)] clct_ans[np.int64(20), np.int64(20)]  3.183sec\n"
     ]
    },
    {
     "name": "stdout",
     "output_type": "stream",
     "text": [
      "result written at output_dfca_gi/results.pickle\n",
      "checkpoint written at output_dfca_gi/checkpoint.pt\n"
     ]
    },
    {
     "name": "stdout",
     "output_type": "stream",
     "text": [
      "Epoch 591 tr: l 0.914 a 0.696 clct[np.int64(50), np.int64(50)] clct_ans[np.int64(50), np.int64(50)]  lr 0.023565 76.351sec(train) 20.763sec(infer)\n"
     ]
    },
    {
     "name": "stdout",
     "output_type": "stream",
     "text": [
      "Epoch 591 tst: l 0.879 a 0.715 clct[np.int64(20), np.int64(20)] clct_ans[np.int64(20), np.int64(20)]  3.151sec\n"
     ]
    },
    {
     "name": "stdout",
     "output_type": "stream",
     "text": [
      "Epoch 592 tr: l 0.927 a 0.695 clct[np.int64(50), np.int64(50)] clct_ans[np.int64(50), np.int64(50)]  lr 0.023563 77.570sec(train) 20.813sec(infer)\n"
     ]
    },
    {
     "name": "stdout",
     "output_type": "stream",
     "text": [
      "Epoch 592 tst: l 0.881 a 0.713 clct[np.int64(20), np.int64(20)] clct_ans[np.int64(20), np.int64(20)]  3.178sec\n"
     ]
    },
    {
     "name": "stdout",
     "output_type": "stream",
     "text": [
      "Epoch 593 tr: l 0.920 a 0.696 clct[np.int64(50), np.int64(50)] clct_ans[np.int64(50), np.int64(50)]  lr 0.023561 77.419sec(train) 20.810sec(infer)\n"
     ]
    },
    {
     "name": "stdout",
     "output_type": "stream",
     "text": [
      "Epoch 593 tst: l 0.880 a 0.712 clct[np.int64(20), np.int64(20)] clct_ans[np.int64(20), np.int64(20)]  3.152sec\n"
     ]
    },
    {
     "name": "stdout",
     "output_type": "stream",
     "text": [
      "Epoch 594 tr: l 0.919 a 0.696 clct[np.int64(57), np.int64(43)] clct_ans[np.int64(43), np.int64(57)]  lr 0.023558 77.510sec(train) 20.804sec(infer)\n"
     ]
    },
    {
     "name": "stdout",
     "output_type": "stream",
     "text": [
      "Epoch 594 tst: l 0.880 a 0.716 clct[np.int64(20), np.int64(20)] clct_ans[np.int64(20), np.int64(20)]  3.161sec\n"
     ]
    },
    {
     "name": "stdout",
     "output_type": "stream",
     "text": [
      "Epoch 595 tr: l 0.923 a 0.693 clct[np.int64(56), np.int64(44)] clct_ans[np.int64(44), np.int64(56)]  lr 0.023556 76.885sec(train) 20.768sec(infer)\n"
     ]
    },
    {
     "name": "stdout",
     "output_type": "stream",
     "text": [
      "Epoch 595 tst: l 0.881 a 0.716 clct[np.int64(20), np.int64(20)] clct_ans[np.int64(20), np.int64(20)]  3.167sec\n"
     ]
    },
    {
     "name": "stdout",
     "output_type": "stream",
     "text": [
      "Epoch 596 tr: l 0.922 a 0.696 clct[np.int64(51), np.int64(49)] clct_ans[np.int64(49), np.int64(51)]  lr 0.023553 71.553sec(train) 20.634sec(infer)\n"
     ]
    },
    {
     "name": "stdout",
     "output_type": "stream",
     "text": [
      "Epoch 596 tst: l 0.880 a 0.714 clct[np.int64(20), np.int64(20)] clct_ans[np.int64(20), np.int64(20)]  3.097sec\n"
     ]
    },
    {
     "name": "stdout",
     "output_type": "stream",
     "text": [
      "Epoch 597 tr: l 0.924 a 0.695 clct[np.int64(46), np.int64(54)] clct_ans[np.int64(54), np.int64(46)]  lr 0.023551 76.810sec(train) 20.637sec(infer)\n"
     ]
    },
    {
     "name": "stdout",
     "output_type": "stream",
     "text": [
      "Epoch 597 tst: l 0.880 a 0.714 clct[np.int64(20), np.int64(20)] clct_ans[np.int64(20), np.int64(20)]  3.104sec\n"
     ]
    },
    {
     "name": "stdout",
     "output_type": "stream",
     "text": [
      "Epoch 598 tr: l 0.914 a 0.698 clct[np.int64(46), np.int64(54)] clct_ans[np.int64(54), np.int64(46)]  lr 0.023549 76.778sec(train) 20.616sec(infer)\n"
     ]
    },
    {
     "name": "stdout",
     "output_type": "stream",
     "text": [
      "Epoch 598 tst: l 0.877 a 0.715 clct[np.int64(20), np.int64(20)] clct_ans[np.int64(20), np.int64(20)]  3.111sec\n"
     ]
    },
    {
     "name": "stdout",
     "output_type": "stream",
     "text": [
      "Epoch 599 tr: l 0.925 a 0.696 clct[np.int64(48), np.int64(52)] clct_ans[np.int64(52), np.int64(48)]  lr 0.023546 78.345sec(train) 20.627sec(infer)\n"
     ]
    },
    {
     "name": "stdout",
     "output_type": "stream",
     "text": [
      "Epoch 599 tst: l 0.878 a 0.714 clct[np.int64(20), np.int64(20)] clct_ans[np.int64(20), np.int64(20)]  3.113sec\n"
     ]
    },
    {
     "name": "stdout",
     "output_type": "stream",
     "text": [
      "result written at output_dfca_gi/results.pickle\n",
      "checkpoint written at output_dfca_gi/checkpoint.pt\n"
     ]
    },
    {
     "ename": "KeyError",
     "evalue": "'cl_acc'",
     "output_type": "error",
     "traceback": [
      "\u001b[31m---------------------------------------------------------------------------\u001b[39m",
      "\u001b[31mKeyError\u001b[39m                                  Traceback (most recent call last)",
      "\u001b[36mCell\u001b[39m\u001b[36m \u001b[39m\u001b[32mIn[2]\u001b[39m\u001b[32m, line 19\u001b[39m\n\u001b[32m     17\u001b[39m exp.setup()\n\u001b[32m     18\u001b[39m res = exp.run()\n\u001b[32m---> \u001b[39m\u001b[32m19\u001b[39m res_final.append([[r[\u001b[33m'\u001b[39m\u001b[33mtest\u001b[39m\u001b[33m'\u001b[39m][\u001b[33m'\u001b[39m\u001b[33mloss\u001b[39m\u001b[33m'\u001b[39m] \u001b[38;5;28;01mfor\u001b[39;00m r \u001b[38;5;129;01min\u001b[39;00m res], [r[\u001b[33m'\u001b[39m\u001b[33mtest\u001b[39m\u001b[33m'\u001b[39m][\u001b[33m'\u001b[39m\u001b[33macc\u001b[39m\u001b[33m'\u001b[39m] \u001b[38;5;28;01mfor\u001b[39;00m r \u001b[38;5;129;01min\u001b[39;00m res], \u001b[43m[\u001b[49m\u001b[43mr\u001b[49m\u001b[43m[\u001b[49m\u001b[33;43m'\u001b[39;49m\u001b[33;43mtest\u001b[39;49m\u001b[33;43m'\u001b[39;49m\u001b[43m]\u001b[49m\u001b[43m[\u001b[49m\u001b[33;43m'\u001b[39;49m\u001b[33;43mcl_acc\u001b[39;49m\u001b[33;43m'\u001b[39;49m\u001b[43m]\u001b[49m\u001b[43m \u001b[49m\u001b[38;5;28;43;01mfor\u001b[39;49;00m\u001b[43m \u001b[49m\u001b[43mr\u001b[49m\u001b[43m \u001b[49m\u001b[38;5;129;43;01min\u001b[39;49;00m\u001b[43m \u001b[49m\u001b[43mres\u001b[49m\u001b[43m]\u001b[49m])\n\u001b[32m     20\u001b[39m duration = (time.time() - start_time)\n\u001b[32m     21\u001b[39m \u001b[38;5;28mprint\u001b[39m(\u001b[33m\"\u001b[39m\u001b[33m---train cluster Ended in \u001b[39m\u001b[38;5;132;01m%0.2f\u001b[39;00m\u001b[33m hour (\u001b[39m\u001b[38;5;132;01m%.3f\u001b[39;00m\u001b[33m sec) \u001b[39m\u001b[33m\"\u001b[39m % (duration/\u001b[38;5;28mfloat\u001b[39m(\u001b[32m3600\u001b[39m), duration))\n",
      "\u001b[36mCell\u001b[39m\u001b[36m \u001b[39m\u001b[32mIn[2]\u001b[39m\u001b[32m, line 19\u001b[39m, in \u001b[36m<listcomp>\u001b[39m\u001b[34m(.0)\u001b[39m\n\u001b[32m     17\u001b[39m exp.setup()\n\u001b[32m     18\u001b[39m res = exp.run()\n\u001b[32m---> \u001b[39m\u001b[32m19\u001b[39m res_final.append([[r[\u001b[33m'\u001b[39m\u001b[33mtest\u001b[39m\u001b[33m'\u001b[39m][\u001b[33m'\u001b[39m\u001b[33mloss\u001b[39m\u001b[33m'\u001b[39m] \u001b[38;5;28;01mfor\u001b[39;00m r \u001b[38;5;129;01min\u001b[39;00m res], [r[\u001b[33m'\u001b[39m\u001b[33mtest\u001b[39m\u001b[33m'\u001b[39m][\u001b[33m'\u001b[39m\u001b[33macc\u001b[39m\u001b[33m'\u001b[39m] \u001b[38;5;28;01mfor\u001b[39;00m r \u001b[38;5;129;01min\u001b[39;00m res], [\u001b[43mr\u001b[49m\u001b[43m[\u001b[49m\u001b[33;43m'\u001b[39;49m\u001b[33;43mtest\u001b[39;49m\u001b[33;43m'\u001b[39;49m\u001b[43m]\u001b[49m\u001b[43m[\u001b[49m\u001b[33;43m'\u001b[39;49m\u001b[33;43mcl_acc\u001b[39;49m\u001b[33;43m'\u001b[39;49m\u001b[43m]\u001b[49m \u001b[38;5;28;01mfor\u001b[39;00m r \u001b[38;5;129;01min\u001b[39;00m res]])\n\u001b[32m     20\u001b[39m duration = (time.time() - start_time)\n\u001b[32m     21\u001b[39m \u001b[38;5;28mprint\u001b[39m(\u001b[33m\"\u001b[39m\u001b[33m---train cluster Ended in \u001b[39m\u001b[38;5;132;01m%0.2f\u001b[39;00m\u001b[33m hour (\u001b[39m\u001b[38;5;132;01m%.3f\u001b[39;00m\u001b[33m sec) \u001b[39m\u001b[33m\"\u001b[39m % (duration/\u001b[38;5;28mfloat\u001b[39m(\u001b[32m3600\u001b[39m), duration))\n",
      "\u001b[31mKeyError\u001b[39m: 'cl_acc'"
     ]
    }
   ],
   "source": [
    "torch.cuda.empty_cache()\n",
    "\n",
    "with open(\"config.json\", \"r\") as read_file:\n",
    "    config = json.load(read_file)\n",
    "\n",
    "res_final = []\n",
    "\n",
    "start_time = time.time()\n",
    "config['data_seed'] = 13\n",
    "config['train_seed'] = config['data_seed']\n",
    "\n",
    "print(\"config:\",config)\n",
    "device = torch.device(\"cuda\" if torch.cuda.is_available() else \"cpu\")\n",
    "print(f\"Using device: {device}\")\n",
    "\n",
    "exp = IFCA.TrainCIFARCluster(config, device)\n",
    "exp.setup()\n",
    "res = exp.run()\n",
    "res_final.append([[r['test']['loss'] for r in res], [r['test']['acc'] for r in res], [r['test']['cl_acc'] for r in res]])\n",
    "duration = (time.time() - start_time)\n",
    "print(\"---train cluster Ended in %0.2f hour (%.3f sec) \" % (duration/float(3600), duration))\n"
   ]
  },
  {
   "cell_type": "code",
   "execution_count": 3,
   "id": "e3b6a426",
   "metadata": {
    "execution": {
     "iopub.execute_input": "2025-06-14T02:20:47.665251Z",
     "iopub.status.busy": "2025-06-14T02:20:47.665069Z",
     "iopub.status.idle": "2025-06-14T02:20:47.697388Z",
     "shell.execute_reply": "2025-06-14T02:20:47.696520Z"
    }
   },
   "outputs": [
    {
     "ename": "IndexError",
     "evalue": "list index out of range",
     "output_type": "error",
     "traceback": [
      "\u001b[31m---------------------------------------------------------------------------\u001b[39m",
      "\u001b[31mIndexError\u001b[39m                                Traceback (most recent call last)",
      "\u001b[36mCell\u001b[39m\u001b[36m \u001b[39m\u001b[32mIn[3]\u001b[39m\u001b[32m, line 1\u001b[39m\n\u001b[32m----> \u001b[39m\u001b[32m1\u001b[39m last_loss = \u001b[43mres_final\u001b[49m\u001b[43m[\u001b[49m\u001b[32;43m0\u001b[39;49m\u001b[43m]\u001b[49m[\u001b[32m0\u001b[39m][-\u001b[32m1\u001b[39m]\n\u001b[32m      2\u001b[39m last_acc = res_final[\u001b[32m0\u001b[39m][\u001b[32m1\u001b[39m][-\u001b[32m1\u001b[39m]\n\u001b[32m      3\u001b[39m last_cl_acc = res_final[\u001b[32m0\u001b[39m][\u001b[32m2\u001b[39m][-\u001b[32m1\u001b[39m]\n",
      "\u001b[31mIndexError\u001b[39m: list index out of range"
     ]
    }
   ],
   "source": [
    "last_loss = res_final[0][0][-1]\n",
    "last_acc = res_final[0][1][-1]\n",
    "last_cl_acc = res_final[0][2][-1]\n",
    "\n",
    "print(\"Last Epoch Test Loss:\", last_loss)\n",
    "print(\"Last Epoch Test Accuracy:\", last_acc)\n",
    "print(\"Last Epoch Test Cluster Accuracy:\", last_cl_acc)"
   ]
  }
 ],
 "metadata": {
  "kernelspec": {
   "display_name": "Python 3",
   "language": "python",
   "name": "python3"
  },
  "language_info": {
   "codemirror_mode": {
    "name": "ipython",
    "version": 3
   },
   "file_extension": ".py",
   "mimetype": "text/x-python",
   "name": "python",
   "nbconvert_exporter": "python",
   "pygments_lexer": "ipython3",
   "version": "3.11.11"
  }
 },
 "nbformat": 4,
 "nbformat_minor": 5
}
