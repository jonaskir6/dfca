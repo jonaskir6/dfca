{
 "cells": [
  {
   "cell_type": "code",
   "execution_count": 1,
   "id": "2f20bfb1",
   "metadata": {
    "execution": {
     "iopub.execute_input": "2025-06-13T09:15:53.988952Z",
     "iopub.status.busy": "2025-06-13T09:15:53.988528Z",
     "iopub.status.idle": "2025-06-13T09:15:59.061884Z",
     "shell.execute_reply": "2025-06-13T09:15:59.060656Z"
    }
   },
   "outputs": [],
   "source": [
    "import json\n",
    "import os\n",
    "import time\n",
    "import ipyparallel as ipp\n",
    "\n",
    "import matplotlib.pyplot as plt\n",
    "import torch\n",
    "import dfca as DFCA\n",
    "import numpy as np\n",
    "\n",
    "from util import *"
   ]
  },
  {
   "cell_type": "code",
   "execution_count": 2,
   "id": "ee6c788b",
   "metadata": {
    "execution": {
     "iopub.execute_input": "2025-06-13T09:15:59.065693Z",
     "iopub.status.busy": "2025-06-13T09:15:59.065280Z",
     "iopub.status.idle": "2025-06-14T02:14:50.671905Z",
     "shell.execute_reply": "2025-06-14T02:14:50.670775Z"
    }
   },
   "outputs": [
    {
     "name": "stdout",
     "output_type": "stream",
     "text": [
      "config: {'m': 200, 'm_test': 40, 'p': 2, 'n': 500, 'uneven': False, 'local_model_init': False, 'participation_rate': 0.5, 'h1': 128, 'num_epochs': 600, 'batch_size': 50, 'tau': 10, 'lr': 0.25, 'data_seed': 13, 'train_seed': 13, 'config_override': '', 'project_dir': 'output_dfca_gi'}\n",
      "Using device: cuda\n",
      "num_data: 50000\n"
     ]
    },
    {
     "name": "stdout",
     "output_type": "stream",
     "text": [
      "num_data: 10000\n"
     ]
    },
    {
     "name": "stdout",
     "output_type": "stream",
     "text": [
      "finding good initializer from train data\n"
     ]
    },
    {
     "name": "stdout",
     "output_type": "stream",
     "text": [
      "Epoch -1 tr: l 2.302 a 0.104 clct[np.int64(43), np.int64(57)] clct_ans[np.int64(50), np.int64(50)] cl_acc0.570  21.209sec\n",
      "found good initializer\n"
     ]
    },
    {
     "name": "stdout",
     "output_type": "stream",
     "text": [
      "Epoch -1 tr: l 2.303 a 0.106 clct[np.int64(47), np.int64(53)] clct_ans[np.int64(47), np.int64(53)] cl_acc0.540  20.884sec\n"
     ]
    },
    {
     "name": "stdout",
     "output_type": "stream",
     "text": [
      "Epoch -1 tst: l 2.303 a 0.105 clct[np.int64(18), np.int64(22)] clct_ans[np.int64(20), np.int64(20)] cl_acc0.550  3.156sec\n"
     ]
    },
    {
     "name": "stdout",
     "output_type": "stream",
     "text": [
      "Epoch 0 tr: l 2.230 a 0.170 clct[np.int64(49), np.int64(51)] clct_ans[np.int64(51), np.int64(49)] cl_acc0.540  lr 0.250000 73.431sec(train) 21.013sec(infer)\n"
     ]
    },
    {
     "name": "stdout",
     "output_type": "stream",
     "text": [
      "Epoch 0 tst: l 2.227 a 0.183 clct[np.int64(17), np.int64(23)] clct_ans[np.int64(20), np.int64(20)] cl_acc0.675  3.155sec\n",
      "result written at output_dfca_gi/results.pickle\n",
      "checkpoint written at output_dfca_gi/checkpoint.pt\n"
     ]
    },
    {
     "name": "stdout",
     "output_type": "stream",
     "text": [
      "Epoch 1 tr: l 2.149 a 0.230 clct[np.int64(51), np.int64(49)] clct_ans[np.int64(48), np.int64(52)] cl_acc0.590  lr 0.249875 80.001sec(train) 21.113sec(infer)\n"
     ]
    },
    {
     "name": "stdout",
     "output_type": "stream",
     "text": [
      "Epoch 1 tst: l 2.138 a 0.253 clct[np.int64(20), np.int64(20)] clct_ans[np.int64(20), np.int64(20)] cl_acc0.600  3.160sec\n"
     ]
    },
    {
     "name": "stdout",
     "output_type": "stream",
     "text": [
      "Epoch 2 tr: l 2.052 a 0.282 clct[np.int64(57), np.int64(43)] clct_ans[np.int64(43), np.int64(57)] cl_acc0.540  lr 0.249750 81.936sec(train) 21.158sec(infer)\n"
     ]
    },
    {
     "name": "stdout",
     "output_type": "stream",
     "text": [
      "Epoch 2 tst: l 2.059 a 0.284 clct[np.int64(21), np.int64(19)] clct_ans[np.int64(20), np.int64(20)] cl_acc0.625  3.150sec\n"
     ]
    },
    {
     "name": "stdout",
     "output_type": "stream",
     "text": [
      "Epoch 3 tr: l 1.968 a 0.318 clct[np.int64(64), np.int64(36)] clct_ans[np.int64(51), np.int64(49)] cl_acc0.670  lr 0.249625 76.830sec(train) 20.934sec(infer)\n"
     ]
    },
    {
     "name": "stdout",
     "output_type": "stream",
     "text": [
      "Epoch 3 tst: l 1.977 a 0.320 clct[np.int64(27), np.int64(13)] clct_ans[np.int64(20), np.int64(20)] cl_acc0.625  3.179sec\n"
     ]
    },
    {
     "name": "stdout",
     "output_type": "stream",
     "text": [
      "Epoch 4 tr: l 1.861 a 0.346 clct[np.int64(77), np.int64(23)] clct_ans[np.int64(50), np.int64(50)] cl_acc0.670  lr 0.249500 76.248sec(train) 20.857sec(infer)\n"
     ]
    },
    {
     "name": "stdout",
     "output_type": "stream",
     "text": [
      "Epoch 4 tst: l 1.882 a 0.345 clct[np.int64(28), np.int64(12)] clct_ans[np.int64(20), np.int64(20)] cl_acc0.700  3.151sec\n"
     ]
    },
    {
     "name": "stdout",
     "output_type": "stream",
     "text": [
      "Epoch 5 tr: l 1.757 a 0.378 clct[np.int64(71), np.int64(29)] clct_ans[np.int64(49), np.int64(51)] cl_acc0.720  lr 0.249376 76.743sec(train) 20.831sec(infer)\n"
     ]
    },
    {
     "name": "stdout",
     "output_type": "stream",
     "text": [
      "Epoch 5 tst: l 1.790 a 0.366 clct[np.int64(27), np.int64(13)] clct_ans[np.int64(20), np.int64(20)] cl_acc0.675  3.166sec\n"
     ]
    },
    {
     "name": "stdout",
     "output_type": "stream",
     "text": [
      "Epoch 6 tr: l 1.713 a 0.402 clct[np.int64(61), np.int64(39)] clct_ans[np.int64(47), np.int64(53)] cl_acc0.860  lr 0.249251 81.224sec(train) 20.852sec(infer)\n"
     ]
    },
    {
     "name": "stdout",
     "output_type": "stream",
     "text": [
      "Epoch 6 tst: l 1.699 a 0.399 clct[np.int64(23), np.int64(17)] clct_ans[np.int64(20), np.int64(20)] cl_acc0.825  3.147sec\n"
     ]
    },
    {
     "name": "stdout",
     "output_type": "stream",
     "text": [
      "Epoch 7 tr: l 1.680 a 0.436 clct[np.int64(56), np.int64(44)] clct_ans[np.int64(47), np.int64(53)] cl_acc0.910  lr 0.249126 79.369sec(train) 21.007sec(infer)\n"
     ]
    },
    {
     "name": "stdout",
     "output_type": "stream",
     "text": [
      "Epoch 7 tst: l 1.688 a 0.411 clct[np.int64(24), np.int64(16)] clct_ans[np.int64(20), np.int64(20)] cl_acc0.850  3.179sec\n"
     ]
    },
    {
     "name": "stdout",
     "output_type": "stream",
     "text": [
      "Epoch 8 tr: l 1.673 a 0.450 clct[np.int64(55), np.int64(45)] clct_ans[np.int64(53), np.int64(47)] cl_acc0.920  lr 0.249002 76.032sec(train) 20.867sec(infer)\n"
     ]
    },
    {
     "name": "stdout",
     "output_type": "stream",
     "text": [
      "Epoch 8 tst: l 1.688 a 0.428 clct[np.int64(26), np.int64(14)] clct_ans[np.int64(20), np.int64(20)] cl_acc0.850  3.183sec\n"
     ]
    },
    {
     "name": "stdout",
     "output_type": "stream",
     "text": [
      "Epoch 9 tr: l 1.611 a 0.467 clct[np.int64(51), np.int64(49)] clct_ans[np.int64(51), np.int64(49)] cl_acc0.980  lr 0.248877 74.601sec(train) 20.991sec(infer)\n"
     ]
    },
    {
     "name": "stdout",
     "output_type": "stream",
     "text": [
      "Epoch 9 tst: l 1.642 a 0.450 clct[np.int64(22), np.int64(18)] clct_ans[np.int64(20), np.int64(20)] cl_acc0.900  3.172sec\n"
     ]
    },
    {
     "name": "stdout",
     "output_type": "stream",
     "text": [
      "Epoch 10 tr: l 1.603 a 0.481 clct[np.int64(54), np.int64(46)] clct_ans[np.int64(48), np.int64(52)] cl_acc0.980  lr 0.248753 75.621sec(train) 20.951sec(infer)\n"
     ]
    },
    {
     "name": "stdout",
     "output_type": "stream",
     "text": [
      "Epoch 10 tst: l 1.656 a 0.466 clct[np.int64(23), np.int64(17)] clct_ans[np.int64(20), np.int64(20)] cl_acc0.925  3.161sec\n",
      "result written at output_dfca_gi/results.pickle\n",
      "checkpoint written at output_dfca_gi/checkpoint.pt\n"
     ]
    },
    {
     "name": "stdout",
     "output_type": "stream",
     "text": [
      "Epoch 11 tr: l 1.584 a 0.489 clct[np.int64(53), np.int64(47)] clct_ans[np.int64(47), np.int64(53)] cl_acc0.980  lr 0.248628 74.786sec(train) 21.238sec(infer)\n"
     ]
    },
    {
     "name": "stdout",
     "output_type": "stream",
     "text": [
      "Epoch 11 tst: l 1.618 a 0.478 clct[np.int64(22), np.int64(18)] clct_ans[np.int64(20), np.int64(20)] cl_acc0.950  3.438sec\n"
     ]
    },
    {
     "name": "stdout",
     "output_type": "stream",
     "text": [
      "Epoch 12 tr: l 1.562 a 0.494 clct[np.int64(51), np.int64(49)] clct_ans[np.int64(52), np.int64(48)] cl_acc0.970  lr 0.248504 75.798sec(train) 20.956sec(infer)\n"
     ]
    },
    {
     "name": "stdout",
     "output_type": "stream",
     "text": [
      "Epoch 12 tst: l 1.585 a 0.489 clct[np.int64(21), np.int64(19)] clct_ans[np.int64(20), np.int64(20)] cl_acc0.975  3.185sec\n"
     ]
    },
    {
     "name": "stdout",
     "output_type": "stream",
     "text": [
      "Epoch 13 tr: l 1.554 a 0.498 clct[np.int64(50), np.int64(50)] clct_ans[np.int64(50), np.int64(50)] cl_acc1.000  lr 0.248380 75.953sec(train) 20.963sec(infer)\n"
     ]
    },
    {
     "name": "stdout",
     "output_type": "stream",
     "text": [
      "Epoch 13 tst: l 1.563 a 0.496 clct[np.int64(19), np.int64(21)] clct_ans[np.int64(20), np.int64(20)] cl_acc0.975  3.166sec\n"
     ]
    },
    {
     "name": "stdout",
     "output_type": "stream",
     "text": [
      "Epoch 14 tr: l 1.505 a 0.514 clct[np.int64(55), np.int64(45)] clct_ans[np.int64(44), np.int64(56)] cl_acc0.990  lr 0.248256 76.655sec(train) 20.889sec(infer)\n"
     ]
    },
    {
     "name": "stdout",
     "output_type": "stream",
     "text": [
      "Epoch 14 tst: l 1.592 a 0.502 clct[np.int64(20), np.int64(20)] clct_ans[np.int64(20), np.int64(20)] cl_acc1.000  3.191sec\n"
     ]
    },
    {
     "name": "stdout",
     "output_type": "stream",
     "text": [
      "Epoch 15 tr: l 1.482 a 0.526 clct[np.int64(55), np.int64(45)] clct_ans[np.int64(45), np.int64(55)] cl_acc1.000  lr 0.248132 75.498sec(train) 21.006sec(infer)\n"
     ]
    },
    {
     "name": "stdout",
     "output_type": "stream",
     "text": [
      "Epoch 15 tst: l 1.584 a 0.505 clct[np.int64(20), np.int64(20)] clct_ans[np.int64(20), np.int64(20)] cl_acc1.000  3.185sec\n"
     ]
    },
    {
     "name": "stdout",
     "output_type": "stream",
     "text": [
      "Epoch 16 tr: l 1.489 a 0.523 clct[np.int64(53), np.int64(47)] clct_ans[np.int64(47), np.int64(53)] cl_acc1.000  lr 0.248007 77.125sec(train) 21.001sec(infer)\n"
     ]
    },
    {
     "name": "stdout",
     "output_type": "stream",
     "text": [
      "Epoch 16 tst: l 1.556 a 0.505 clct[np.int64(21), np.int64(19)] clct_ans[np.int64(20), np.int64(20)] cl_acc0.975  3.279sec\n"
     ]
    },
    {
     "name": "stdout",
     "output_type": "stream",
     "text": [
      "Epoch 17 tr: l 1.465 a 0.530 clct[np.int64(48), np.int64(52)] clct_ans[np.int64(52), np.int64(48)] cl_acc1.000  lr 0.247883 77.735sec(train) 20.907sec(infer)\n"
     ]
    },
    {
     "name": "stdout",
     "output_type": "stream",
     "text": [
      "Epoch 17 tst: l 1.542 a 0.513 clct[np.int64(20), np.int64(20)] clct_ans[np.int64(20), np.int64(20)] cl_acc1.000  3.208sec\n"
     ]
    },
    {
     "name": "stdout",
     "output_type": "stream",
     "text": [
      "Epoch 18 tr: l 1.445 a 0.534 clct[np.int64(45), np.int64(55)] clct_ans[np.int64(55), np.int64(45)] cl_acc1.000  lr 0.247760 76.699sec(train) 21.025sec(infer)\n"
     ]
    },
    {
     "name": "stdout",
     "output_type": "stream",
     "text": [
      "Epoch 18 tst: l 1.504 a 0.518 clct[np.int64(20), np.int64(20)] clct_ans[np.int64(20), np.int64(20)] cl_acc1.000  3.215sec\n"
     ]
    },
    {
     "name": "stdout",
     "output_type": "stream",
     "text": [
      "Epoch 19 tr: l 1.442 a 0.534 clct[np.int64(50), np.int64(50)] clct_ans[np.int64(50), np.int64(50)] cl_acc1.000  lr 0.247636 75.135sec(train) 20.954sec(infer)\n"
     ]
    },
    {
     "name": "stdout",
     "output_type": "stream",
     "text": [
      "Epoch 19 tst: l 1.463 a 0.524 clct[np.int64(20), np.int64(20)] clct_ans[np.int64(20), np.int64(20)] cl_acc1.000  3.197sec\n"
     ]
    },
    {
     "name": "stdout",
     "output_type": "stream",
     "text": [
      "Epoch 20 tr: l 1.400 a 0.547 clct[np.int64(52), np.int64(48)] clct_ans[np.int64(48), np.int64(52)] cl_acc1.000  lr 0.247512 77.532sec(train) 21.027sec(infer)\n"
     ]
    },
    {
     "name": "stdout",
     "output_type": "stream",
     "text": [
      "Epoch 20 tst: l 1.478 a 0.525 clct[np.int64(20), np.int64(20)] clct_ans[np.int64(20), np.int64(20)] cl_acc1.000  3.261sec\n",
      "result written at output_dfca_gi/results.pickle\n",
      "checkpoint written at output_dfca_gi/checkpoint.pt\n"
     ]
    },
    {
     "name": "stdout",
     "output_type": "stream",
     "text": [
      "Epoch 21 tr: l 1.390 a 0.554 clct[np.int64(53), np.int64(47)] clct_ans[np.int64(47), np.int64(53)] cl_acc1.000  lr 0.247388 77.002sec(train) 20.944sec(infer)\n"
     ]
    },
    {
     "name": "stdout",
     "output_type": "stream",
     "text": [
      "Epoch 21 tst: l 1.444 a 0.530 clct[np.int64(20), np.int64(20)] clct_ans[np.int64(20), np.int64(20)] cl_acc1.000  3.203sec\n"
     ]
    },
    {
     "name": "stdout",
     "output_type": "stream",
     "text": [
      "Epoch 22 tr: l 1.393 a 0.545 clct[np.int64(49), np.int64(51)] clct_ans[np.int64(51), np.int64(49)] cl_acc1.000  lr 0.247264 75.037sec(train) 20.996sec(infer)\n"
     ]
    },
    {
     "name": "stdout",
     "output_type": "stream",
     "text": [
      "Epoch 22 tst: l 1.453 a 0.529 clct[np.int64(20), np.int64(20)] clct_ans[np.int64(20), np.int64(20)] cl_acc1.000  3.207sec\n"
     ]
    },
    {
     "name": "stdout",
     "output_type": "stream",
     "text": [
      "Epoch 23 tr: l 1.392 a 0.544 clct[np.int64(47), np.int64(53)] clct_ans[np.int64(53), np.int64(47)] cl_acc1.000  lr 0.247141 75.655sec(train) 20.929sec(infer)\n"
     ]
    },
    {
     "name": "stdout",
     "output_type": "stream",
     "text": [
      "Epoch 23 tst: l 1.448 a 0.527 clct[np.int64(21), np.int64(19)] clct_ans[np.int64(20), np.int64(20)] cl_acc0.975  3.190sec\n"
     ]
    },
    {
     "name": "stdout",
     "output_type": "stream",
     "text": [
      "Epoch 24 tr: l 1.370 a 0.556 clct[np.int64(46), np.int64(54)] clct_ans[np.int64(54), np.int64(46)] cl_acc1.000  lr 0.247017 77.400sec(train) 21.159sec(infer)\n"
     ]
    },
    {
     "name": "stdout",
     "output_type": "stream",
     "text": [
      "Epoch 24 tst: l 1.462 a 0.526 clct[np.int64(21), np.int64(19)] clct_ans[np.int64(20), np.int64(20)] cl_acc0.975  3.226sec\n"
     ]
    },
    {
     "name": "stdout",
     "output_type": "stream",
     "text": [
      "Epoch 25 tr: l 1.352 a 0.558 clct[np.int64(46), np.int64(54)] clct_ans[np.int64(54), np.int64(46)] cl_acc1.000  lr 0.246894 77.008sec(train) 20.961sec(infer)\n"
     ]
    },
    {
     "name": "stdout",
     "output_type": "stream",
     "text": [
      "Epoch 25 tst: l 1.461 a 0.523 clct[np.int64(22), np.int64(18)] clct_ans[np.int64(20), np.int64(20)] cl_acc0.950  3.227sec\n"
     ]
    },
    {
     "name": "stdout",
     "output_type": "stream",
     "text": [
      "Epoch 26 tr: l 1.364 a 0.550 clct[np.int64(43), np.int64(57)] clct_ans[np.int64(57), np.int64(43)] cl_acc1.000  lr 0.246770 73.794sec(train) 20.974sec(infer)\n"
     ]
    },
    {
     "name": "stdout",
     "output_type": "stream",
     "text": [
      "Epoch 26 tst: l 1.415 a 0.539 clct[np.int64(20), np.int64(20)] clct_ans[np.int64(20), np.int64(20)] cl_acc1.000  3.207sec\n"
     ]
    },
    {
     "name": "stdout",
     "output_type": "stream",
     "text": [
      "Epoch 27 tr: l 1.355 a 0.559 clct[np.int64(51), np.int64(49)] clct_ans[np.int64(49), np.int64(51)] cl_acc1.000  lr 0.246647 77.932sec(train) 21.039sec(infer)\n"
     ]
    },
    {
     "name": "stdout",
     "output_type": "stream",
     "text": [
      "Epoch 27 tst: l 1.403 a 0.539 clct[np.int64(20), np.int64(20)] clct_ans[np.int64(20), np.int64(20)] cl_acc1.000  3.204sec\n"
     ]
    },
    {
     "name": "stdout",
     "output_type": "stream",
     "text": [
      "Epoch 28 tr: l 1.341 a 0.563 clct[np.int64(52), np.int64(48)] clct_ans[np.int64(48), np.int64(52)] cl_acc1.000  lr 0.246524 78.595sec(train) 21.085sec(infer)\n"
     ]
    },
    {
     "name": "stdout",
     "output_type": "stream",
     "text": [
      "Epoch 28 tst: l 1.423 a 0.540 clct[np.int64(20), np.int64(20)] clct_ans[np.int64(20), np.int64(20)] cl_acc1.000  3.187sec\n"
     ]
    },
    {
     "name": "stdout",
     "output_type": "stream",
     "text": [
      "Epoch 29 tr: l 1.342 a 0.563 clct[np.int64(52), np.int64(48)] clct_ans[np.int64(48), np.int64(52)] cl_acc1.000  lr 0.246400 76.686sec(train) 21.069sec(infer)\n"
     ]
    },
    {
     "name": "stdout",
     "output_type": "stream",
     "text": [
      "Epoch 29 tst: l 1.395 a 0.548 clct[np.int64(20), np.int64(20)] clct_ans[np.int64(20), np.int64(20)] cl_acc1.000  3.275sec\n"
     ]
    },
    {
     "name": "stdout",
     "output_type": "stream",
     "text": [
      "Epoch 30 tr: l 1.336 a 0.559 clct[np.int64(56), np.int64(44)] clct_ans[np.int64(44), np.int64(56)] cl_acc1.000  lr 0.246277 77.178sec(train) 21.172sec(infer)\n"
     ]
    },
    {
     "name": "stdout",
     "output_type": "stream",
     "text": [
      "Epoch 30 tst: l 1.371 a 0.555 clct[np.int64(20), np.int64(20)] clct_ans[np.int64(20), np.int64(20)] cl_acc1.000  3.220sec\n",
      "result written at output_dfca_gi/results.pickle\n",
      "checkpoint written at output_dfca_gi/checkpoint.pt\n"
     ]
    },
    {
     "name": "stdout",
     "output_type": "stream",
     "text": [
      "Epoch 31 tr: l 1.323 a 0.571 clct[np.int64(51), np.int64(49)] clct_ans[np.int64(49), np.int64(51)] cl_acc1.000  lr 0.246154 76.224sec(train) 20.983sec(infer)\n"
     ]
    },
    {
     "name": "stdout",
     "output_type": "stream",
     "text": [
      "Epoch 31 tst: l 1.376 a 0.555 clct[np.int64(20), np.int64(20)] clct_ans[np.int64(20), np.int64(20)] cl_acc1.000  3.199sec\n"
     ]
    },
    {
     "name": "stdout",
     "output_type": "stream",
     "text": [
      "Epoch 32 tr: l 1.313 a 0.578 clct[np.int64(51), np.int64(49)] clct_ans[np.int64(49), np.int64(51)] cl_acc1.000  lr 0.246031 76.531sec(train) 21.187sec(infer)\n"
     ]
    },
    {
     "name": "stdout",
     "output_type": "stream",
     "text": [
      "Epoch 32 tst: l 1.416 a 0.546 clct[np.int64(21), np.int64(19)] clct_ans[np.int64(20), np.int64(20)] cl_acc0.975  3.243sec\n"
     ]
    },
    {
     "name": "stdout",
     "output_type": "stream",
     "text": [
      "Epoch 33 tr: l 1.298 a 0.573 clct[np.int64(45), np.int64(55)] clct_ans[np.int64(55), np.int64(45)] cl_acc1.000  lr 0.245908 81.328sec(train) 21.235sec(infer)\n"
     ]
    },
    {
     "name": "stdout",
     "output_type": "stream",
     "text": [
      "Epoch 33 tst: l 1.404 a 0.549 clct[np.int64(21), np.int64(19)] clct_ans[np.int64(20), np.int64(20)] cl_acc0.975  3.249sec\n"
     ]
    },
    {
     "name": "stdout",
     "output_type": "stream",
     "text": [
      "Epoch 34 tr: l 1.297 a 0.574 clct[np.int64(48), np.int64(52)] clct_ans[np.int64(52), np.int64(48)] cl_acc1.000  lr 0.245785 81.096sec(train) 21.001sec(infer)\n"
     ]
    },
    {
     "name": "stdout",
     "output_type": "stream",
     "text": [
      "Epoch 34 tst: l 1.388 a 0.550 clct[np.int64(21), np.int64(19)] clct_ans[np.int64(20), np.int64(20)] cl_acc0.975  3.250sec\n"
     ]
    },
    {
     "name": "stdout",
     "output_type": "stream",
     "text": [
      "Epoch 35 tr: l 1.295 a 0.575 clct[np.int64(45), np.int64(55)] clct_ans[np.int64(55), np.int64(45)] cl_acc1.000  lr 0.245662 80.396sec(train) 21.024sec(infer)\n"
     ]
    },
    {
     "name": "stdout",
     "output_type": "stream",
     "text": [
      "Epoch 35 tst: l 1.348 a 0.560 clct[np.int64(20), np.int64(20)] clct_ans[np.int64(20), np.int64(20)] cl_acc1.000  3.218sec\n"
     ]
    },
    {
     "name": "stdout",
     "output_type": "stream",
     "text": [
      "Epoch 36 tr: l 1.283 a 0.576 clct[np.int64(44), np.int64(56)] clct_ans[np.int64(56), np.int64(44)] cl_acc1.000  lr 0.245539 75.962sec(train) 21.044sec(infer)\n"
     ]
    },
    {
     "name": "stdout",
     "output_type": "stream",
     "text": [
      "Epoch 36 tst: l 1.329 a 0.563 clct[np.int64(20), np.int64(20)] clct_ans[np.int64(20), np.int64(20)] cl_acc1.000  3.211sec\n"
     ]
    },
    {
     "name": "stdout",
     "output_type": "stream",
     "text": [
      "Epoch 37 tr: l 1.281 a 0.580 clct[np.int64(54), np.int64(46)] clct_ans[np.int64(46), np.int64(54)] cl_acc1.000  lr 0.245416 76.142sec(train) 21.080sec(infer)\n"
     ]
    },
    {
     "name": "stdout",
     "output_type": "stream",
     "text": [
      "Epoch 37 tst: l 1.336 a 0.562 clct[np.int64(20), np.int64(20)] clct_ans[np.int64(20), np.int64(20)] cl_acc1.000  3.191sec\n"
     ]
    },
    {
     "name": "stdout",
     "output_type": "stream",
     "text": [
      "Epoch 38 tr: l 1.296 a 0.569 clct[np.int64(52), np.int64(48)] clct_ans[np.int64(48), np.int64(52)] cl_acc1.000  lr 0.245294 75.749sec(train) 21.085sec(infer)\n"
     ]
    },
    {
     "name": "stdout",
     "output_type": "stream",
     "text": [
      "Epoch 38 tst: l 1.328 a 0.567 clct[np.int64(20), np.int64(20)] clct_ans[np.int64(20), np.int64(20)] cl_acc1.000  3.280sec\n"
     ]
    },
    {
     "name": "stdout",
     "output_type": "stream",
     "text": [
      "Epoch 39 tr: l 1.273 a 0.581 clct[np.int64(53), np.int64(47)] clct_ans[np.int64(47), np.int64(53)] cl_acc1.000  lr 0.245171 74.613sec(train) 21.261sec(infer)\n"
     ]
    },
    {
     "name": "stdout",
     "output_type": "stream",
     "text": [
      "Epoch 39 tst: l 1.322 a 0.569 clct[np.int64(20), np.int64(20)] clct_ans[np.int64(20), np.int64(20)] cl_acc1.000  3.205sec\n"
     ]
    },
    {
     "name": "stdout",
     "output_type": "stream",
     "text": [
      "Epoch 40 tr: l 1.266 a 0.584 clct[np.int64(49), np.int64(51)] clct_ans[np.int64(51), np.int64(49)] cl_acc1.000  lr 0.245048 74.075sec(train) 20.948sec(infer)\n"
     ]
    },
    {
     "name": "stdout",
     "output_type": "stream",
     "text": [
      "Epoch 40 tst: l 1.333 a 0.568 clct[np.int64(20), np.int64(20)] clct_ans[np.int64(20), np.int64(20)] cl_acc1.000  3.213sec\n",
      "result written at output_dfca_gi/results.pickle\n",
      "checkpoint written at output_dfca_gi/checkpoint.pt\n"
     ]
    },
    {
     "name": "stdout",
     "output_type": "stream",
     "text": [
      "Epoch 41 tr: l 1.272 a 0.586 clct[np.int64(50), np.int64(50)] clct_ans[np.int64(50), np.int64(50)] cl_acc1.000  lr 0.244926 78.233sec(train) 20.914sec(infer)\n"
     ]
    },
    {
     "name": "stdout",
     "output_type": "stream",
     "text": [
      "Epoch 41 tst: l 1.345 a 0.566 clct[np.int64(20), np.int64(20)] clct_ans[np.int64(20), np.int64(20)] cl_acc1.000  3.198sec\n"
     ]
    },
    {
     "name": "stdout",
     "output_type": "stream",
     "text": [
      "Epoch 42 tr: l 1.265 a 0.586 clct[np.int64(49), np.int64(51)] clct_ans[np.int64(51), np.int64(49)] cl_acc1.000  lr 0.244803 82.063sec(train) 21.096sec(infer)\n"
     ]
    },
    {
     "name": "stdout",
     "output_type": "stream",
     "text": [
      "Epoch 42 tst: l 1.321 a 0.573 clct[np.int64(20), np.int64(20)] clct_ans[np.int64(20), np.int64(20)] cl_acc1.000  3.245sec\n"
     ]
    },
    {
     "name": "stdout",
     "output_type": "stream",
     "text": [
      "Epoch 43 tr: l 1.245 a 0.595 clct[np.int64(48), np.int64(52)] clct_ans[np.int64(52), np.int64(48)] cl_acc1.000  lr 0.244681 82.023sec(train) 20.946sec(infer)\n"
     ]
    },
    {
     "name": "stdout",
     "output_type": "stream",
     "text": [
      "Epoch 43 tst: l 1.327 a 0.571 clct[np.int64(20), np.int64(20)] clct_ans[np.int64(20), np.int64(20)] cl_acc1.000  3.221sec\n"
     ]
    },
    {
     "name": "stdout",
     "output_type": "stream",
     "text": [
      "Epoch 44 tr: l 1.254 a 0.587 clct[np.int64(53), np.int64(47)] clct_ans[np.int64(47), np.int64(53)] cl_acc1.000  lr 0.244559 78.451sec(train) 20.922sec(infer)\n"
     ]
    },
    {
     "name": "stdout",
     "output_type": "stream",
     "text": [
      "Epoch 44 tst: l 1.335 a 0.572 clct[np.int64(20), np.int64(20)] clct_ans[np.int64(20), np.int64(20)] cl_acc1.000  3.207sec\n"
     ]
    },
    {
     "name": "stdout",
     "output_type": "stream",
     "text": [
      "Epoch 45 tr: l 1.260 a 0.582 clct[np.int64(54), np.int64(46)] clct_ans[np.int64(46), np.int64(54)] cl_acc1.000  lr 0.244436 81.250sec(train) 20.951sec(infer)\n"
     ]
    },
    {
     "name": "stdout",
     "output_type": "stream",
     "text": [
      "Epoch 45 tst: l 1.318 a 0.574 clct[np.int64(20), np.int64(20)] clct_ans[np.int64(20), np.int64(20)] cl_acc1.000  3.199sec\n"
     ]
    },
    {
     "name": "stdout",
     "output_type": "stream",
     "text": [
      "Epoch 46 tr: l 1.250 a 0.589 clct[np.int64(53), np.int64(47)] clct_ans[np.int64(47), np.int64(53)] cl_acc1.000  lr 0.244314 81.651sec(train) 20.860sec(infer)\n"
     ]
    },
    {
     "name": "stdout",
     "output_type": "stream",
     "text": [
      "Epoch 46 tst: l 1.295 a 0.578 clct[np.int64(20), np.int64(20)] clct_ans[np.int64(20), np.int64(20)] cl_acc1.000  3.194sec\n"
     ]
    },
    {
     "name": "stdout",
     "output_type": "stream",
     "text": [
      "Epoch 47 tr: l 1.255 a 0.590 clct[np.int64(52), np.int64(48)] clct_ans[np.int64(48), np.int64(52)] cl_acc1.000  lr 0.244192 78.241sec(train) 21.121sec(infer)\n"
     ]
    },
    {
     "name": "stdout",
     "output_type": "stream",
     "text": [
      "Epoch 47 tst: l 1.277 a 0.582 clct[np.int64(20), np.int64(20)] clct_ans[np.int64(20), np.int64(20)] cl_acc1.000  3.225sec\n"
     ]
    },
    {
     "name": "stdout",
     "output_type": "stream",
     "text": [
      "Epoch 48 tr: l 1.246 a 0.589 clct[np.int64(55), np.int64(45)] clct_ans[np.int64(45), np.int64(55)] cl_acc1.000  lr 0.244070 76.400sec(train) 20.970sec(infer)\n"
     ]
    },
    {
     "name": "stdout",
     "output_type": "stream",
     "text": [
      "Epoch 48 tst: l 1.288 a 0.584 clct[np.int64(20), np.int64(20)] clct_ans[np.int64(20), np.int64(20)] cl_acc1.000  3.232sec\n"
     ]
    },
    {
     "name": "stdout",
     "output_type": "stream",
     "text": [
      "Epoch 49 tr: l 1.243 a 0.591 clct[np.int64(53), np.int64(47)] clct_ans[np.int64(47), np.int64(53)] cl_acc1.000  lr 0.243948 82.010sec(train) 20.953sec(infer)\n"
     ]
    },
    {
     "name": "stdout",
     "output_type": "stream",
     "text": [
      "Epoch 49 tst: l 1.317 a 0.581 clct[np.int64(20), np.int64(20)] clct_ans[np.int64(20), np.int64(20)] cl_acc1.000  3.204sec\n"
     ]
    },
    {
     "name": "stdout",
     "output_type": "stream",
     "text": [
      "Epoch 50 tr: l 1.226 a 0.596 clct[np.int64(51), np.int64(49)] clct_ans[np.int64(49), np.int64(51)] cl_acc1.000  lr 0.243826 82.058sec(train) 20.953sec(infer)\n"
     ]
    },
    {
     "name": "stdout",
     "output_type": "stream",
     "text": [
      "Epoch 50 tst: l 1.285 a 0.584 clct[np.int64(20), np.int64(20)] clct_ans[np.int64(20), np.int64(20)] cl_acc1.000  3.212sec\n",
      "result written at output_dfca_gi/results.pickle\n",
      "checkpoint written at output_dfca_gi/checkpoint.pt\n"
     ]
    },
    {
     "name": "stdout",
     "output_type": "stream",
     "text": [
      "Epoch 51 tr: l 1.229 a 0.596 clct[np.int64(51), np.int64(49)] clct_ans[np.int64(49), np.int64(51)] cl_acc1.000  lr 0.243704 81.542sec(train) 20.907sec(infer)\n"
     ]
    },
    {
     "name": "stdout",
     "output_type": "stream",
     "text": [
      "Epoch 51 tst: l 1.274 a 0.584 clct[np.int64(20), np.int64(20)] clct_ans[np.int64(20), np.int64(20)] cl_acc1.000  3.198sec\n"
     ]
    },
    {
     "name": "stdout",
     "output_type": "stream",
     "text": [
      "Epoch 52 tr: l 1.208 a 0.604 clct[np.int64(50), np.int64(50)] clct_ans[np.int64(50), np.int64(50)] cl_acc1.000  lr 0.243582 80.226sec(train) 21.189sec(infer)\n"
     ]
    },
    {
     "name": "stdout",
     "output_type": "stream",
     "text": [
      "Epoch 52 tst: l 1.322 a 0.578 clct[np.int64(20), np.int64(20)] clct_ans[np.int64(20), np.int64(20)] cl_acc1.000  3.234sec\n"
     ]
    },
    {
     "name": "stdout",
     "output_type": "stream",
     "text": [
      "Epoch 53 tr: l 1.219 a 0.600 clct[np.int64(49), np.int64(51)] clct_ans[np.int64(51), np.int64(49)] cl_acc1.000  lr 0.243460 78.896sec(train) 21.024sec(infer)\n"
     ]
    },
    {
     "name": "stdout",
     "output_type": "stream",
     "text": [
      "Epoch 53 tst: l 1.331 a 0.577 clct[np.int64(20), np.int64(20)] clct_ans[np.int64(20), np.int64(20)] cl_acc1.000  3.271sec\n"
     ]
    },
    {
     "name": "stdout",
     "output_type": "stream",
     "text": [
      "Epoch 54 tr: l 1.193 a 0.610 clct[np.int64(43), np.int64(57)] clct_ans[np.int64(57), np.int64(43)] cl_acc1.000  lr 0.243339 74.754sec(train) 21.095sec(infer)\n"
     ]
    },
    {
     "name": "stdout",
     "output_type": "stream",
     "text": [
      "Epoch 54 tst: l 1.326 a 0.582 clct[np.int64(20), np.int64(20)] clct_ans[np.int64(20), np.int64(20)] cl_acc1.000  3.208sec\n"
     ]
    },
    {
     "name": "stdout",
     "output_type": "stream",
     "text": [
      "Epoch 55 tr: l 1.201 a 0.611 clct[np.int64(43), np.int64(57)] clct_ans[np.int64(57), np.int64(43)] cl_acc1.000  lr 0.243217 81.332sec(train) 21.026sec(infer)\n"
     ]
    },
    {
     "name": "stdout",
     "output_type": "stream",
     "text": [
      "Epoch 55 tst: l 1.307 a 0.588 clct[np.int64(20), np.int64(20)] clct_ans[np.int64(20), np.int64(20)] cl_acc1.000  3.208sec\n"
     ]
    },
    {
     "name": "stdout",
     "output_type": "stream",
     "text": [
      "Epoch 56 tr: l 1.216 a 0.602 clct[np.int64(54), np.int64(46)] clct_ans[np.int64(46), np.int64(54)] cl_acc1.000  lr 0.243095 81.025sec(train) 21.121sec(infer)\n"
     ]
    },
    {
     "name": "stdout",
     "output_type": "stream",
     "text": [
      "Epoch 56 tst: l 1.294 a 0.586 clct[np.int64(20), np.int64(20)] clct_ans[np.int64(20), np.int64(20)] cl_acc1.000  3.190sec\n"
     ]
    },
    {
     "name": "stdout",
     "output_type": "stream",
     "text": [
      "Epoch 57 tr: l 1.200 a 0.601 clct[np.int64(50), np.int64(50)] clct_ans[np.int64(50), np.int64(50)] cl_acc1.000  lr 0.242974 72.985sec(train) 21.213sec(infer)\n"
     ]
    },
    {
     "name": "stdout",
     "output_type": "stream",
     "text": [
      "Epoch 57 tst: l 1.270 a 0.590 clct[np.int64(20), np.int64(20)] clct_ans[np.int64(20), np.int64(20)] cl_acc1.000  3.294sec\n"
     ]
    },
    {
     "name": "stdout",
     "output_type": "stream",
     "text": [
      "Epoch 58 tr: l 1.212 a 0.601 clct[np.int64(45), np.int64(55)] clct_ans[np.int64(55), np.int64(45)] cl_acc1.000  lr 0.242852 74.341sec(train) 20.961sec(infer)\n"
     ]
    },
    {
     "name": "stdout",
     "output_type": "stream",
     "text": [
      "Epoch 58 tst: l 1.250 a 0.595 clct[np.int64(20), np.int64(20)] clct_ans[np.int64(20), np.int64(20)] cl_acc1.000  3.208sec\n"
     ]
    },
    {
     "name": "stdout",
     "output_type": "stream",
     "text": [
      "Epoch 59 tr: l 1.202 a 0.607 clct[np.int64(48), np.int64(52)] clct_ans[np.int64(52), np.int64(48)] cl_acc1.000  lr 0.242731 73.661sec(train) 21.017sec(infer)\n"
     ]
    },
    {
     "name": "stdout",
     "output_type": "stream",
     "text": [
      "Epoch 59 tst: l 1.251 a 0.595 clct[np.int64(20), np.int64(20)] clct_ans[np.int64(20), np.int64(20)] cl_acc1.000  3.216sec\n"
     ]
    },
    {
     "name": "stdout",
     "output_type": "stream",
     "text": [
      "Epoch 60 tr: l 1.214 a 0.602 clct[np.int64(46), np.int64(54)] clct_ans[np.int64(54), np.int64(46)] cl_acc1.000  lr 0.242610 75.274sec(train) 20.982sec(infer)\n"
     ]
    },
    {
     "name": "stdout",
     "output_type": "stream",
     "text": [
      "Epoch 60 tst: l 1.254 a 0.595 clct[np.int64(20), np.int64(20)] clct_ans[np.int64(20), np.int64(20)] cl_acc1.000  3.194sec\n",
      "result written at output_dfca_gi/results.pickle\n",
      "checkpoint written at output_dfca_gi/checkpoint.pt\n"
     ]
    },
    {
     "name": "stdout",
     "output_type": "stream",
     "text": [
      "Epoch 61 tr: l 1.180 a 0.611 clct[np.int64(49), np.int64(51)] clct_ans[np.int64(51), np.int64(49)] cl_acc1.000  lr 0.242488 71.042sec(train) 21.092sec(infer)\n"
     ]
    },
    {
     "name": "stdout",
     "output_type": "stream",
     "text": [
      "Epoch 61 tst: l 1.270 a 0.594 clct[np.int64(20), np.int64(20)] clct_ans[np.int64(20), np.int64(20)] cl_acc1.000  3.273sec\n"
     ]
    },
    {
     "name": "stdout",
     "output_type": "stream",
     "text": [
      "Epoch 62 tr: l 1.189 a 0.610 clct[np.int64(45), np.int64(55)] clct_ans[np.int64(55), np.int64(45)] cl_acc1.000  lr 0.242367 72.813sec(train) 20.969sec(infer)\n"
     ]
    },
    {
     "name": "stdout",
     "output_type": "stream",
     "text": [
      "Epoch 62 tst: l 1.257 a 0.594 clct[np.int64(20), np.int64(20)] clct_ans[np.int64(20), np.int64(20)] cl_acc1.000  3.211sec\n"
     ]
    },
    {
     "name": "stdout",
     "output_type": "stream",
     "text": [
      "Epoch 63 tr: l 1.177 a 0.615 clct[np.int64(48), np.int64(52)] clct_ans[np.int64(52), np.int64(48)] cl_acc1.000  lr 0.242246 72.820sec(train) 20.962sec(infer)\n"
     ]
    },
    {
     "name": "stdout",
     "output_type": "stream",
     "text": [
      "Epoch 63 tst: l 1.272 a 0.593 clct[np.int64(20), np.int64(20)] clct_ans[np.int64(20), np.int64(20)] cl_acc1.000  3.206sec\n"
     ]
    },
    {
     "name": "stdout",
     "output_type": "stream",
     "text": [
      "Epoch 64 tr: l 1.180 a 0.618 clct[np.int64(48), np.int64(52)] clct_ans[np.int64(52), np.int64(48)] cl_acc1.000  lr 0.242125 77.074sec(train) 20.909sec(infer)\n"
     ]
    },
    {
     "name": "stdout",
     "output_type": "stream",
     "text": [
      "Epoch 64 tst: l 1.265 a 0.595 clct[np.int64(20), np.int64(20)] clct_ans[np.int64(20), np.int64(20)] cl_acc1.000  3.197sec\n"
     ]
    },
    {
     "name": "stdout",
     "output_type": "stream",
     "text": [
      "Epoch 65 tr: l 1.163 a 0.621 clct[np.int64(46), np.int64(54)] clct_ans[np.int64(54), np.int64(46)] cl_acc1.000  lr 0.242004 74.121sec(train) 21.122sec(infer)\n"
     ]
    },
    {
     "name": "stdout",
     "output_type": "stream",
     "text": [
      "Epoch 65 tst: l 1.266 a 0.594 clct[np.int64(20), np.int64(20)] clct_ans[np.int64(20), np.int64(20)] cl_acc1.000  3.282sec\n"
     ]
    },
    {
     "name": "stdout",
     "output_type": "stream",
     "text": [
      "Epoch 66 tr: l 1.173 a 0.615 clct[np.int64(50), np.int64(50)] clct_ans[np.int64(50), np.int64(50)] cl_acc1.000  lr 0.241883 75.228sec(train) 20.983sec(infer)\n"
     ]
    },
    {
     "name": "stdout",
     "output_type": "stream",
     "text": [
      "Epoch 66 tst: l 1.235 a 0.599 clct[np.int64(20), np.int64(20)] clct_ans[np.int64(20), np.int64(20)] cl_acc1.000  3.217sec\n"
     ]
    },
    {
     "name": "stdout",
     "output_type": "stream",
     "text": [
      "Epoch 67 tr: l 1.165 a 0.618 clct[np.int64(52), np.int64(48)] clct_ans[np.int64(48), np.int64(52)] cl_acc1.000  lr 0.241762 73.434sec(train) 21.211sec(infer)\n"
     ]
    },
    {
     "name": "stdout",
     "output_type": "stream",
     "text": [
      "Epoch 67 tst: l 1.219 a 0.603 clct[np.int64(20), np.int64(20)] clct_ans[np.int64(20), np.int64(20)] cl_acc1.000  3.222sec\n"
     ]
    },
    {
     "name": "stdout",
     "output_type": "stream",
     "text": [
      "Epoch 68 tr: l 1.156 a 0.621 clct[np.int64(47), np.int64(53)] clct_ans[np.int64(53), np.int64(47)] cl_acc1.000  lr 0.241641 73.842sec(train) 21.034sec(infer)\n"
     ]
    },
    {
     "name": "stdout",
     "output_type": "stream",
     "text": [
      "Epoch 68 tst: l 1.272 a 0.599 clct[np.int64(20), np.int64(20)] clct_ans[np.int64(20), np.int64(20)] cl_acc1.000  3.191sec\n"
     ]
    },
    {
     "name": "stdout",
     "output_type": "stream",
     "text": [
      "Epoch 69 tr: l 1.163 a 0.622 clct[np.int64(52), np.int64(48)] clct_ans[np.int64(48), np.int64(52)] cl_acc1.000  lr 0.241520 72.419sec(train) 21.149sec(infer)\n"
     ]
    },
    {
     "name": "stdout",
     "output_type": "stream",
     "text": [
      "Epoch 69 tst: l 1.269 a 0.601 clct[np.int64(20), np.int64(20)] clct_ans[np.int64(20), np.int64(20)] cl_acc1.000  3.294sec\n"
     ]
    },
    {
     "name": "stdout",
     "output_type": "stream",
     "text": [
      "Epoch 70 tr: l 1.164 a 0.621 clct[np.int64(52), np.int64(48)] clct_ans[np.int64(48), np.int64(52)] cl_acc1.000  lr 0.241399 79.443sec(train) 21.092sec(infer)\n"
     ]
    },
    {
     "name": "stdout",
     "output_type": "stream",
     "text": [
      "Epoch 70 tst: l 1.264 a 0.601 clct[np.int64(20), np.int64(20)] clct_ans[np.int64(20), np.int64(20)] cl_acc1.000  3.213sec\n",
      "result written at output_dfca_gi/results.pickle\n",
      "checkpoint written at output_dfca_gi/checkpoint.pt\n"
     ]
    },
    {
     "name": "stdout",
     "output_type": "stream",
     "text": [
      "Epoch 71 tr: l 1.163 a 0.621 clct[np.int64(46), np.int64(54)] clct_ans[np.int64(54), np.int64(46)] cl_acc1.000  lr 0.241279 76.826sec(train) 21.041sec(infer)\n"
     ]
    },
    {
     "name": "stdout",
     "output_type": "stream",
     "text": [
      "Epoch 71 tst: l 1.270 a 0.599 clct[np.int64(20), np.int64(20)] clct_ans[np.int64(20), np.int64(20)] cl_acc1.000  3.218sec\n"
     ]
    },
    {
     "name": "stdout",
     "output_type": "stream",
     "text": [
      "Epoch 72 tr: l 1.143 a 0.629 clct[np.int64(50), np.int64(50)] clct_ans[np.int64(50), np.int64(50)] cl_acc1.000  lr 0.241158 70.820sec(train) 20.939sec(infer)\n"
     ]
    },
    {
     "name": "stdout",
     "output_type": "stream",
     "text": [
      "Epoch 72 tst: l 1.261 a 0.600 clct[np.int64(20), np.int64(20)] clct_ans[np.int64(20), np.int64(20)] cl_acc1.000  3.243sec\n"
     ]
    },
    {
     "name": "stdout",
     "output_type": "stream",
     "text": [
      "Epoch 73 tr: l 1.145 a 0.628 clct[np.int64(55), np.int64(45)] clct_ans[np.int64(45), np.int64(55)] cl_acc1.000  lr 0.241037 74.319sec(train) 21.020sec(infer)\n"
     ]
    },
    {
     "name": "stdout",
     "output_type": "stream",
     "text": [
      "Epoch 73 tst: l 1.216 a 0.605 clct[np.int64(20), np.int64(20)] clct_ans[np.int64(20), np.int64(20)] cl_acc1.000  3.239sec\n"
     ]
    },
    {
     "name": "stdout",
     "output_type": "stream",
     "text": [
      "Epoch 74 tr: l 1.139 a 0.627 clct[np.int64(50), np.int64(50)] clct_ans[np.int64(50), np.int64(50)] cl_acc1.000  lr 0.240917 74.426sec(train) 20.949sec(infer)\n"
     ]
    },
    {
     "name": "stdout",
     "output_type": "stream",
     "text": [
      "Epoch 74 tst: l 1.228 a 0.604 clct[np.int64(20), np.int64(20)] clct_ans[np.int64(20), np.int64(20)] cl_acc1.000  3.211sec\n"
     ]
    },
    {
     "name": "stdout",
     "output_type": "stream",
     "text": [
      "Epoch 75 tr: l 1.142 a 0.626 clct[np.int64(50), np.int64(50)] clct_ans[np.int64(50), np.int64(50)] cl_acc1.000  lr 0.240796 70.929sec(train) 20.882sec(infer)\n"
     ]
    },
    {
     "name": "stdout",
     "output_type": "stream",
     "text": [
      "Epoch 75 tst: l 1.244 a 0.609 clct[np.int64(20), np.int64(20)] clct_ans[np.int64(20), np.int64(20)] cl_acc1.000  3.172sec\n"
     ]
    },
    {
     "name": "stdout",
     "output_type": "stream",
     "text": [
      "Epoch 76 tr: l 1.132 a 0.629 clct[np.int64(51), np.int64(49)] clct_ans[np.int64(49), np.int64(51)] cl_acc1.000  lr 0.240676 80.132sec(train) 20.919sec(infer)\n"
     ]
    },
    {
     "name": "stdout",
     "output_type": "stream",
     "text": [
      "Epoch 76 tst: l 1.226 a 0.607 clct[np.int64(20), np.int64(20)] clct_ans[np.int64(20), np.int64(20)] cl_acc1.000  3.178sec\n"
     ]
    },
    {
     "name": "stdout",
     "output_type": "stream",
     "text": [
      "Epoch 77 tr: l 1.142 a 0.626 clct[np.int64(45), np.int64(55)] clct_ans[np.int64(55), np.int64(45)] cl_acc1.000  lr 0.240556 76.662sec(train) 20.990sec(infer)\n"
     ]
    },
    {
     "name": "stdout",
     "output_type": "stream",
     "text": [
      "Epoch 77 tst: l 1.231 a 0.607 clct[np.int64(20), np.int64(20)] clct_ans[np.int64(20), np.int64(20)] cl_acc1.000  3.177sec\n"
     ]
    },
    {
     "name": "stdout",
     "output_type": "stream",
     "text": [
      "Epoch 78 tr: l 1.149 a 0.625 clct[np.int64(50), np.int64(50)] clct_ans[np.int64(50), np.int64(50)] cl_acc1.000  lr 0.240435 76.167sec(train) 20.911sec(infer)\n"
     ]
    },
    {
     "name": "stdout",
     "output_type": "stream",
     "text": [
      "Epoch 78 tst: l 1.236 a 0.606 clct[np.int64(20), np.int64(20)] clct_ans[np.int64(20), np.int64(20)] cl_acc1.000  3.203sec\n"
     ]
    },
    {
     "name": "stdout",
     "output_type": "stream",
     "text": [
      "Epoch 79 tr: l 1.128 a 0.631 clct[np.int64(53), np.int64(47)] clct_ans[np.int64(47), np.int64(53)] cl_acc1.000  lr 0.240315 75.713sec(train) 20.909sec(infer)\n"
     ]
    },
    {
     "name": "stdout",
     "output_type": "stream",
     "text": [
      "Epoch 79 tst: l 1.217 a 0.613 clct[np.int64(20), np.int64(20)] clct_ans[np.int64(20), np.int64(20)] cl_acc1.000  3.177sec\n"
     ]
    },
    {
     "name": "stdout",
     "output_type": "stream",
     "text": [
      "Epoch 80 tr: l 1.142 a 0.627 clct[np.int64(45), np.int64(55)] clct_ans[np.int64(55), np.int64(45)] cl_acc1.000  lr 0.240195 76.850sec(train) 20.900sec(infer)\n"
     ]
    },
    {
     "name": "stdout",
     "output_type": "stream",
     "text": [
      "Epoch 80 tst: l 1.217 a 0.615 clct[np.int64(20), np.int64(20)] clct_ans[np.int64(20), np.int64(20)] cl_acc1.000  3.171sec\n",
      "result written at output_dfca_gi/results.pickle\n",
      "checkpoint written at output_dfca_gi/checkpoint.pt\n"
     ]
    },
    {
     "name": "stdout",
     "output_type": "stream",
     "text": [
      "Epoch 81 tr: l 1.130 a 0.631 clct[np.int64(51), np.int64(49)] clct_ans[np.int64(49), np.int64(51)] cl_acc1.000  lr 0.240075 81.720sec(train) 20.915sec(infer)\n"
     ]
    },
    {
     "name": "stdout",
     "output_type": "stream",
     "text": [
      "Epoch 81 tst: l 1.241 a 0.611 clct[np.int64(20), np.int64(20)] clct_ans[np.int64(20), np.int64(20)] cl_acc1.000  3.159sec\n"
     ]
    },
    {
     "name": "stdout",
     "output_type": "stream",
     "text": [
      "Epoch 82 tr: l 1.123 a 0.633 clct[np.int64(50), np.int64(50)] clct_ans[np.int64(50), np.int64(50)] cl_acc1.000  lr 0.239955 82.064sec(train) 20.964sec(infer)\n"
     ]
    },
    {
     "name": "stdout",
     "output_type": "stream",
     "text": [
      "Epoch 82 tst: l 1.223 a 0.615 clct[np.int64(20), np.int64(20)] clct_ans[np.int64(20), np.int64(20)] cl_acc1.000  3.160sec\n"
     ]
    },
    {
     "name": "stdout",
     "output_type": "stream",
     "text": [
      "Epoch 83 tr: l 1.117 a 0.634 clct[np.int64(45), np.int64(55)] clct_ans[np.int64(55), np.int64(45)] cl_acc1.000  lr 0.239835 82.331sec(train) 20.928sec(infer)\n"
     ]
    },
    {
     "name": "stdout",
     "output_type": "stream",
     "text": [
      "Epoch 83 tst: l 1.220 a 0.616 clct[np.int64(20), np.int64(20)] clct_ans[np.int64(20), np.int64(20)] cl_acc1.000  3.255sec\n"
     ]
    },
    {
     "name": "stdout",
     "output_type": "stream",
     "text": [
      "Epoch 84 tr: l 1.116 a 0.635 clct[np.int64(48), np.int64(52)] clct_ans[np.int64(52), np.int64(48)] cl_acc1.000  lr 0.239715 82.018sec(train) 20.934sec(infer)\n"
     ]
    },
    {
     "name": "stdout",
     "output_type": "stream",
     "text": [
      "Epoch 84 tst: l 1.207 a 0.615 clct[np.int64(20), np.int64(20)] clct_ans[np.int64(20), np.int64(20)] cl_acc1.000  3.211sec\n"
     ]
    },
    {
     "name": "stdout",
     "output_type": "stream",
     "text": [
      "Epoch 85 tr: l 1.114 a 0.640 clct[np.int64(47), np.int64(53)] clct_ans[np.int64(53), np.int64(47)] cl_acc1.000  lr 0.239595 77.894sec(train) 20.882sec(infer)\n"
     ]
    },
    {
     "name": "stdout",
     "output_type": "stream",
     "text": [
      "Epoch 85 tst: l 1.228 a 0.615 clct[np.int64(20), np.int64(20)] clct_ans[np.int64(20), np.int64(20)] cl_acc1.000  3.215sec\n"
     ]
    },
    {
     "name": "stdout",
     "output_type": "stream",
     "text": [
      "Epoch 86 tr: l 1.116 a 0.634 clct[np.int64(45), np.int64(55)] clct_ans[np.int64(55), np.int64(45)] cl_acc1.000  lr 0.239475 76.004sec(train) 20.865sec(infer)\n"
     ]
    },
    {
     "name": "stdout",
     "output_type": "stream",
     "text": [
      "Epoch 86 tst: l 1.202 a 0.617 clct[np.int64(20), np.int64(20)] clct_ans[np.int64(20), np.int64(20)] cl_acc1.000  3.192sec\n"
     ]
    },
    {
     "name": "stdout",
     "output_type": "stream",
     "text": [
      "Epoch 87 tr: l 1.114 a 0.634 clct[np.int64(52), np.int64(48)] clct_ans[np.int64(48), np.int64(52)] cl_acc1.000  lr 0.239356 77.245sec(train) 20.936sec(infer)\n"
     ]
    },
    {
     "name": "stdout",
     "output_type": "stream",
     "text": [
      "Epoch 87 tst: l 1.190 a 0.621 clct[np.int64(20), np.int64(20)] clct_ans[np.int64(20), np.int64(20)] cl_acc1.000  3.168sec\n"
     ]
    },
    {
     "name": "stdout",
     "output_type": "stream",
     "text": [
      "Epoch 88 tr: l 1.116 a 0.635 clct[np.int64(52), np.int64(48)] clct_ans[np.int64(48), np.int64(52)] cl_acc1.000  lr 0.239236 78.874sec(train) 20.951sec(infer)\n"
     ]
    },
    {
     "name": "stdout",
     "output_type": "stream",
     "text": [
      "Epoch 88 tst: l 1.192 a 0.622 clct[np.int64(20), np.int64(20)] clct_ans[np.int64(20), np.int64(20)] cl_acc1.000  3.260sec\n"
     ]
    },
    {
     "name": "stdout",
     "output_type": "stream",
     "text": [
      "Epoch 89 tr: l 1.118 a 0.636 clct[np.int64(51), np.int64(49)] clct_ans[np.int64(49), np.int64(51)] cl_acc1.000  lr 0.239116 68.574sec(train) 20.903sec(infer)\n"
     ]
    },
    {
     "name": "stdout",
     "output_type": "stream",
     "text": [
      "Epoch 89 tst: l 1.170 a 0.625 clct[np.int64(20), np.int64(20)] clct_ans[np.int64(20), np.int64(20)] cl_acc1.000  3.163sec\n"
     ]
    },
    {
     "name": "stdout",
     "output_type": "stream",
     "text": [
      "Epoch 90 tr: l 1.107 a 0.640 clct[np.int64(53), np.int64(47)] clct_ans[np.int64(47), np.int64(53)] cl_acc1.000  lr 0.238997 79.201sec(train) 20.884sec(infer)\n"
     ]
    },
    {
     "name": "stdout",
     "output_type": "stream",
     "text": [
      "Epoch 90 tst: l 1.173 a 0.624 clct[np.int64(20), np.int64(20)] clct_ans[np.int64(20), np.int64(20)] cl_acc1.000  3.161sec\n",
      "result written at output_dfca_gi/results.pickle\n",
      "checkpoint written at output_dfca_gi/checkpoint.pt\n"
     ]
    },
    {
     "name": "stdout",
     "output_type": "stream",
     "text": [
      "Epoch 91 tr: l 1.114 a 0.640 clct[np.int64(47), np.int64(53)] clct_ans[np.int64(53), np.int64(47)] cl_acc1.000  lr 0.238877 77.061sec(train) 20.936sec(infer)\n"
     ]
    },
    {
     "name": "stdout",
     "output_type": "stream",
     "text": [
      "Epoch 91 tst: l 1.180 a 0.622 clct[np.int64(20), np.int64(20)] clct_ans[np.int64(20), np.int64(20)] cl_acc1.000  3.151sec\n"
     ]
    },
    {
     "name": "stdout",
     "output_type": "stream",
     "text": [
      "Epoch 92 tr: l 1.106 a 0.642 clct[np.int64(49), np.int64(51)] clct_ans[np.int64(51), np.int64(49)] cl_acc1.000  lr 0.238758 77.180sec(train) 20.969sec(infer)\n"
     ]
    },
    {
     "name": "stdout",
     "output_type": "stream",
     "text": [
      "Epoch 92 tst: l 1.183 a 0.620 clct[np.int64(20), np.int64(20)] clct_ans[np.int64(20), np.int64(20)] cl_acc1.000  3.212sec\n"
     ]
    },
    {
     "name": "stdout",
     "output_type": "stream",
     "text": [
      "Epoch 93 tr: l 1.102 a 0.641 clct[np.int64(53), np.int64(47)] clct_ans[np.int64(47), np.int64(53)] cl_acc1.000  lr 0.238638 75.432sec(train) 20.876sec(infer)\n"
     ]
    },
    {
     "name": "stdout",
     "output_type": "stream",
     "text": [
      "Epoch 93 tst: l 1.188 a 0.624 clct[np.int64(20), np.int64(20)] clct_ans[np.int64(20), np.int64(20)] cl_acc1.000  3.166sec\n"
     ]
    },
    {
     "name": "stdout",
     "output_type": "stream",
     "text": [
      "Epoch 94 tr: l 1.101 a 0.641 clct[np.int64(55), np.int64(45)] clct_ans[np.int64(45), np.int64(55)] cl_acc1.000  lr 0.238519 79.202sec(train) 20.932sec(infer)\n"
     ]
    },
    {
     "name": "stdout",
     "output_type": "stream",
     "text": [
      "Epoch 94 tst: l 1.188 a 0.625 clct[np.int64(20), np.int64(20)] clct_ans[np.int64(20), np.int64(20)] cl_acc1.000  3.167sec\n"
     ]
    },
    {
     "name": "stdout",
     "output_type": "stream",
     "text": [
      "Epoch 95 tr: l 1.081 a 0.647 clct[np.int64(48), np.int64(52)] clct_ans[np.int64(52), np.int64(48)] cl_acc1.000  lr 0.238400 75.396sec(train) 21.108sec(infer)\n"
     ]
    },
    {
     "name": "stdout",
     "output_type": "stream",
     "text": [
      "Epoch 95 tst: l 1.207 a 0.622 clct[np.int64(20), np.int64(20)] clct_ans[np.int64(20), np.int64(20)] cl_acc1.000  3.168sec\n"
     ]
    },
    {
     "name": "stdout",
     "output_type": "stream",
     "text": [
      "Epoch 96 tr: l 1.091 a 0.645 clct[np.int64(51), np.int64(49)] clct_ans[np.int64(49), np.int64(51)] cl_acc1.000  lr 0.238281 73.195sec(train) 21.219sec(infer)\n"
     ]
    },
    {
     "name": "stdout",
     "output_type": "stream",
     "text": [
      "Epoch 96 tst: l 1.190 a 0.626 clct[np.int64(20), np.int64(20)] clct_ans[np.int64(20), np.int64(20)] cl_acc1.000  3.244sec\n"
     ]
    },
    {
     "name": "stdout",
     "output_type": "stream",
     "text": [
      "Epoch 97 tr: l 1.077 a 0.647 clct[np.int64(55), np.int64(45)] clct_ans[np.int64(45), np.int64(55)] cl_acc1.000  lr 0.238161 79.807sec(train) 21.037sec(infer)\n"
     ]
    },
    {
     "name": "stdout",
     "output_type": "stream",
     "text": [
      "Epoch 97 tst: l 1.199 a 0.625 clct[np.int64(20), np.int64(20)] clct_ans[np.int64(20), np.int64(20)] cl_acc1.000  3.182sec\n"
     ]
    },
    {
     "name": "stdout",
     "output_type": "stream",
     "text": [
      "Epoch 98 tr: l 1.106 a 0.645 clct[np.int64(51), np.int64(49)] clct_ans[np.int64(49), np.int64(51)] cl_acc1.000  lr 0.238042 82.170sec(train) 21.058sec(infer)\n"
     ]
    },
    {
     "name": "stdout",
     "output_type": "stream",
     "text": [
      "Epoch 98 tst: l 1.184 a 0.629 clct[np.int64(20), np.int64(20)] clct_ans[np.int64(20), np.int64(20)] cl_acc1.000  3.182sec\n"
     ]
    },
    {
     "name": "stdout",
     "output_type": "stream",
     "text": [
      "Epoch 99 tr: l 1.076 a 0.654 clct[np.int64(53), np.int64(47)] clct_ans[np.int64(47), np.int64(53)] cl_acc1.000  lr 0.237923 82.015sec(train) 21.019sec(infer)\n"
     ]
    },
    {
     "name": "stdout",
     "output_type": "stream",
     "text": [
      "Epoch 99 tst: l 1.191 a 0.626 clct[np.int64(20), np.int64(20)] clct_ans[np.int64(20), np.int64(20)] cl_acc1.000  3.192sec\n"
     ]
    },
    {
     "name": "stdout",
     "output_type": "stream",
     "text": [
      "Epoch 100 tr: l 1.087 a 0.647 clct[np.int64(49), np.int64(51)] clct_ans[np.int64(51), np.int64(49)] cl_acc1.000  lr 0.237804 81.810sec(train) 21.054sec(infer)\n"
     ]
    },
    {
     "name": "stdout",
     "output_type": "stream",
     "text": [
      "Epoch 100 tst: l 1.166 a 0.630 clct[np.int64(20), np.int64(20)] clct_ans[np.int64(20), np.int64(20)] cl_acc1.000  3.173sec\n",
      "result written at output_dfca_gi/results.pickle\n",
      "checkpoint written at output_dfca_gi/checkpoint.pt\n"
     ]
    },
    {
     "name": "stdout",
     "output_type": "stream",
     "text": [
      "Epoch 101 tr: l 1.095 a 0.645 clct[np.int64(53), np.int64(47)] clct_ans[np.int64(47), np.int64(53)] cl_acc1.000  lr 0.237685 82.143sec(train) 21.204sec(infer)\n"
     ]
    },
    {
     "name": "stdout",
     "output_type": "stream",
     "text": [
      "Epoch 101 tst: l 1.175 a 0.628 clct[np.int64(20), np.int64(20)] clct_ans[np.int64(20), np.int64(20)] cl_acc1.000  3.198sec\n"
     ]
    },
    {
     "name": "stdout",
     "output_type": "stream",
     "text": [
      "Epoch 102 tr: l 1.068 a 0.649 clct[np.int64(46), np.int64(54)] clct_ans[np.int64(54), np.int64(46)] cl_acc1.000  lr 0.237567 81.735sec(train) 20.979sec(infer)\n"
     ]
    },
    {
     "name": "stdout",
     "output_type": "stream",
     "text": [
      "Epoch 102 tst: l 1.204 a 0.625 clct[np.int64(20), np.int64(20)] clct_ans[np.int64(20), np.int64(20)] cl_acc1.000  3.211sec\n"
     ]
    },
    {
     "name": "stdout",
     "output_type": "stream",
     "text": [
      "Epoch 103 tr: l 1.062 a 0.656 clct[np.int64(53), np.int64(47)] clct_ans[np.int64(47), np.int64(53)] cl_acc1.000  lr 0.237448 81.648sec(train) 20.901sec(infer)\n"
     ]
    },
    {
     "name": "stdout",
     "output_type": "stream",
     "text": [
      "Epoch 103 tst: l 1.201 a 0.628 clct[np.int64(20), np.int64(20)] clct_ans[np.int64(20), np.int64(20)] cl_acc1.000  3.163sec\n"
     ]
    },
    {
     "name": "stdout",
     "output_type": "stream",
     "text": [
      "Epoch 104 tr: l 1.052 a 0.662 clct[np.int64(46), np.int64(54)] clct_ans[np.int64(54), np.int64(46)] cl_acc1.000  lr 0.237329 81.779sec(train) 20.893sec(infer)\n"
     ]
    },
    {
     "name": "stdout",
     "output_type": "stream",
     "text": [
      "Epoch 104 tst: l 1.187 a 0.633 clct[np.int64(20), np.int64(20)] clct_ans[np.int64(20), np.int64(20)] cl_acc1.000  3.174sec\n"
     ]
    },
    {
     "name": "stdout",
     "output_type": "stream",
     "text": [
      "Epoch 105 tr: l 1.069 a 0.653 clct[np.int64(53), np.int64(47)] clct_ans[np.int64(47), np.int64(53)] cl_acc1.000  lr 0.237210 82.137sec(train) 20.843sec(infer)\n"
     ]
    },
    {
     "name": "stdout",
     "output_type": "stream",
     "text": [
      "Epoch 105 tst: l 1.177 a 0.633 clct[np.int64(20), np.int64(20)] clct_ans[np.int64(20), np.int64(20)] cl_acc1.000  3.164sec\n"
     ]
    },
    {
     "name": "stdout",
     "output_type": "stream",
     "text": [
      "Epoch 106 tr: l 1.064 a 0.656 clct[np.int64(52), np.int64(48)] clct_ans[np.int64(48), np.int64(52)] cl_acc1.000  lr 0.237092 82.289sec(train) 20.929sec(infer)\n"
     ]
    },
    {
     "name": "stdout",
     "output_type": "stream",
     "text": [
      "Epoch 106 tst: l 1.190 a 0.630 clct[np.int64(20), np.int64(20)] clct_ans[np.int64(20), np.int64(20)] cl_acc1.000  3.160sec\n"
     ]
    },
    {
     "name": "stdout",
     "output_type": "stream",
     "text": [
      "Epoch 107 tr: l 1.059 a 0.658 clct[np.int64(56), np.int64(44)] clct_ans[np.int64(44), np.int64(56)] cl_acc1.000  lr 0.236973 82.030sec(train) 20.905sec(infer)\n"
     ]
    },
    {
     "name": "stdout",
     "output_type": "stream",
     "text": [
      "Epoch 107 tst: l 1.177 a 0.632 clct[np.int64(20), np.int64(20)] clct_ans[np.int64(20), np.int64(20)] cl_acc1.000  3.216sec\n"
     ]
    },
    {
     "name": "stdout",
     "output_type": "stream",
     "text": [
      "Epoch 108 tr: l 1.063 a 0.654 clct[np.int64(49), np.int64(51)] clct_ans[np.int64(51), np.int64(49)] cl_acc1.000  lr 0.236855 82.164sec(train) 20.859sec(infer)\n"
     ]
    },
    {
     "name": "stdout",
     "output_type": "stream",
     "text": [
      "Epoch 108 tst: l 1.148 a 0.637 clct[np.int64(20), np.int64(20)] clct_ans[np.int64(20), np.int64(20)] cl_acc1.000  3.198sec\n"
     ]
    },
    {
     "name": "stdout",
     "output_type": "stream",
     "text": [
      "Epoch 109 tr: l 1.067 a 0.654 clct[np.int64(56), np.int64(44)] clct_ans[np.int64(44), np.int64(56)] cl_acc1.000  lr 0.236736 81.939sec(train) 20.892sec(infer)\n"
     ]
    },
    {
     "name": "stdout",
     "output_type": "stream",
     "text": [
      "Epoch 109 tst: l 1.166 a 0.636 clct[np.int64(20), np.int64(20)] clct_ans[np.int64(20), np.int64(20)] cl_acc1.000  3.207sec\n"
     ]
    },
    {
     "name": "stdout",
     "output_type": "stream",
     "text": [
      "Epoch 110 tr: l 1.044 a 0.663 clct[np.int64(51), np.int64(49)] clct_ans[np.int64(49), np.int64(51)] cl_acc1.000  lr 0.236618 81.996sec(train) 20.884sec(infer)\n"
     ]
    },
    {
     "name": "stdout",
     "output_type": "stream",
     "text": [
      "Epoch 110 tst: l 1.156 a 0.636 clct[np.int64(20), np.int64(20)] clct_ans[np.int64(20), np.int64(20)] cl_acc1.000  3.211sec\n",
      "result written at output_dfca_gi/results.pickle\n",
      "checkpoint written at output_dfca_gi/checkpoint.pt\n"
     ]
    },
    {
     "name": "stdout",
     "output_type": "stream",
     "text": [
      "Epoch 111 tr: l 1.063 a 0.657 clct[np.int64(50), np.int64(50)] clct_ans[np.int64(50), np.int64(50)] cl_acc1.000  lr 0.236500 81.946sec(train) 20.919sec(infer)\n"
     ]
    },
    {
     "name": "stdout",
     "output_type": "stream",
     "text": [
      "Epoch 111 tst: l 1.148 a 0.639 clct[np.int64(20), np.int64(20)] clct_ans[np.int64(20), np.int64(20)] cl_acc1.000  3.186sec\n"
     ]
    },
    {
     "name": "stdout",
     "output_type": "stream",
     "text": [
      "Epoch 112 tr: l 1.046 a 0.660 clct[np.int64(51), np.int64(49)] clct_ans[np.int64(49), np.int64(51)] cl_acc1.000  lr 0.236381 78.808sec(train) 21.018sec(infer)\n"
     ]
    },
    {
     "name": "stdout",
     "output_type": "stream",
     "text": [
      "Epoch 112 tst: l 1.153 a 0.637 clct[np.int64(20), np.int64(20)] clct_ans[np.int64(20), np.int64(20)] cl_acc1.000  3.273sec\n"
     ]
    },
    {
     "name": "stdout",
     "output_type": "stream",
     "text": [
      "Epoch 113 tr: l 1.055 a 0.656 clct[np.int64(55), np.int64(45)] clct_ans[np.int64(45), np.int64(55)] cl_acc1.000  lr 0.236263 81.999sec(train) 20.931sec(infer)\n"
     ]
    },
    {
     "name": "stdout",
     "output_type": "stream",
     "text": [
      "Epoch 113 tst: l 1.169 a 0.636 clct[np.int64(20), np.int64(20)] clct_ans[np.int64(20), np.int64(20)] cl_acc1.000  3.196sec\n"
     ]
    },
    {
     "name": "stdout",
     "output_type": "stream",
     "text": [
      "Epoch 114 tr: l 1.055 a 0.660 clct[np.int64(53), np.int64(47)] clct_ans[np.int64(47), np.int64(53)] cl_acc1.000  lr 0.236145 82.058sec(train) 20.998sec(infer)\n"
     ]
    },
    {
     "name": "stdout",
     "output_type": "stream",
     "text": [
      "Epoch 114 tst: l 1.161 a 0.638 clct[np.int64(20), np.int64(20)] clct_ans[np.int64(20), np.int64(20)] cl_acc1.000  3.200sec\n"
     ]
    },
    {
     "name": "stdout",
     "output_type": "stream",
     "text": [
      "Epoch 115 tr: l 1.038 a 0.661 clct[np.int64(53), np.int64(47)] clct_ans[np.int64(47), np.int64(53)] cl_acc1.000  lr 0.236027 81.883sec(train) 20.910sec(infer)\n"
     ]
    },
    {
     "name": "stdout",
     "output_type": "stream",
     "text": [
      "Epoch 115 tst: l 1.162 a 0.636 clct[np.int64(20), np.int64(20)] clct_ans[np.int64(20), np.int64(20)] cl_acc1.000  3.196sec\n"
     ]
    },
    {
     "name": "stdout",
     "output_type": "stream",
     "text": [
      "Epoch 116 tr: l 1.054 a 0.659 clct[np.int64(53), np.int64(47)] clct_ans[np.int64(47), np.int64(53)] cl_acc1.000  lr 0.235909 82.031sec(train) 21.001sec(infer)\n"
     ]
    },
    {
     "name": "stdout",
     "output_type": "stream",
     "text": [
      "Epoch 116 tst: l 1.154 a 0.639 clct[np.int64(20), np.int64(20)] clct_ans[np.int64(20), np.int64(20)] cl_acc1.000  3.201sec\n"
     ]
    },
    {
     "name": "stdout",
     "output_type": "stream",
     "text": [
      "Epoch 117 tr: l 1.054 a 0.658 clct[np.int64(46), np.int64(54)] clct_ans[np.int64(54), np.int64(46)] cl_acc1.000  lr 0.235791 82.363sec(train) 21.103sec(infer)\n"
     ]
    },
    {
     "name": "stdout",
     "output_type": "stream",
     "text": [
      "Epoch 117 tst: l 1.148 a 0.641 clct[np.int64(20), np.int64(20)] clct_ans[np.int64(20), np.int64(20)] cl_acc1.000  3.276sec\n"
     ]
    },
    {
     "name": "stdout",
     "output_type": "stream",
     "text": [
      "Epoch 118 tr: l 1.055 a 0.658 clct[np.int64(48), np.int64(52)] clct_ans[np.int64(52), np.int64(48)] cl_acc1.000  lr 0.235673 81.347sec(train) 20.971sec(infer)\n"
     ]
    },
    {
     "name": "stdout",
     "output_type": "stream",
     "text": [
      "Epoch 118 tst: l 1.139 a 0.644 clct[np.int64(20), np.int64(20)] clct_ans[np.int64(20), np.int64(20)] cl_acc1.000  3.212sec\n"
     ]
    },
    {
     "name": "stdout",
     "output_type": "stream",
     "text": [
      "Epoch 119 tr: l 1.047 a 0.661 clct[np.int64(53), np.int64(47)] clct_ans[np.int64(47), np.int64(53)] cl_acc1.000  lr 0.235555 82.097sec(train) 20.990sec(infer)\n"
     ]
    },
    {
     "name": "stdout",
     "output_type": "stream",
     "text": [
      "Epoch 119 tst: l 1.141 a 0.645 clct[np.int64(20), np.int64(20)] clct_ans[np.int64(20), np.int64(20)] cl_acc1.000  3.211sec\n"
     ]
    },
    {
     "name": "stdout",
     "output_type": "stream",
     "text": [
      "Epoch 120 tr: l 1.034 a 0.670 clct[np.int64(45), np.int64(55)] clct_ans[np.int64(55), np.int64(45)] cl_acc1.000  lr 0.235438 73.741sec(train) 20.969sec(infer)\n"
     ]
    },
    {
     "name": "stdout",
     "output_type": "stream",
     "text": [
      "Epoch 120 tst: l 1.153 a 0.641 clct[np.int64(20), np.int64(20)] clct_ans[np.int64(20), np.int64(20)] cl_acc1.000  3.223sec\n",
      "result written at output_dfca_gi/results.pickle\n",
      "checkpoint written at output_dfca_gi/checkpoint.pt\n"
     ]
    },
    {
     "name": "stdout",
     "output_type": "stream",
     "text": [
      "Epoch 121 tr: l 1.044 a 0.660 clct[np.int64(47), np.int64(53)] clct_ans[np.int64(53), np.int64(47)] cl_acc1.000  lr 0.235320 73.361sec(train) 21.145sec(infer)\n"
     ]
    },
    {
     "name": "stdout",
     "output_type": "stream",
     "text": [
      "Epoch 121 tst: l 1.139 a 0.646 clct[np.int64(20), np.int64(20)] clct_ans[np.int64(20), np.int64(20)] cl_acc1.000  3.230sec\n"
     ]
    },
    {
     "name": "stdout",
     "output_type": "stream",
     "text": [
      "Epoch 122 tr: l 1.029 a 0.664 clct[np.int64(51), np.int64(49)] clct_ans[np.int64(49), np.int64(51)] cl_acc1.000  lr 0.235202 74.710sec(train) 21.013sec(infer)\n"
     ]
    },
    {
     "name": "stdout",
     "output_type": "stream",
     "text": [
      "Epoch 122 tst: l 1.128 a 0.646 clct[np.int64(20), np.int64(20)] clct_ans[np.int64(20), np.int64(20)] cl_acc1.000  3.215sec\n"
     ]
    },
    {
     "name": "stdout",
     "output_type": "stream",
     "text": [
      "Epoch 123 tr: l 1.041 a 0.664 clct[np.int64(53), np.int64(47)] clct_ans[np.int64(47), np.int64(53)] cl_acc1.000  lr 0.235085 79.352sec(train) 21.266sec(infer)\n"
     ]
    },
    {
     "name": "stdout",
     "output_type": "stream",
     "text": [
      "Epoch 123 tst: l 1.144 a 0.643 clct[np.int64(20), np.int64(20)] clct_ans[np.int64(20), np.int64(20)] cl_acc1.000  3.213sec\n"
     ]
    },
    {
     "name": "stdout",
     "output_type": "stream",
     "text": [
      "Epoch 124 tr: l 1.044 a 0.663 clct[np.int64(44), np.int64(56)] clct_ans[np.int64(56), np.int64(44)] cl_acc1.000  lr 0.234967 81.124sec(train) 20.961sec(infer)\n"
     ]
    },
    {
     "name": "stdout",
     "output_type": "stream",
     "text": [
      "Epoch 124 tst: l 1.143 a 0.642 clct[np.int64(20), np.int64(20)] clct_ans[np.int64(20), np.int64(20)] cl_acc1.000  3.209sec\n"
     ]
    },
    {
     "name": "stdout",
     "output_type": "stream",
     "text": [
      "Epoch 125 tr: l 1.012 a 0.670 clct[np.int64(52), np.int64(48)] clct_ans[np.int64(48), np.int64(52)] cl_acc1.000  lr 0.234850 76.228sec(train) 21.046sec(infer)\n"
     ]
    },
    {
     "name": "stdout",
     "output_type": "stream",
     "text": [
      "Epoch 125 tst: l 1.144 a 0.643 clct[np.int64(20), np.int64(20)] clct_ans[np.int64(20), np.int64(20)] cl_acc1.000  3.208sec\n"
     ]
    },
    {
     "name": "stdout",
     "output_type": "stream",
     "text": [
      "Epoch 126 tr: l 1.013 a 0.671 clct[np.int64(52), np.int64(48)] clct_ans[np.int64(48), np.int64(52)] cl_acc1.000  lr 0.234732 72.050sec(train) 21.066sec(infer)\n"
     ]
    },
    {
     "name": "stdout",
     "output_type": "stream",
     "text": [
      "Epoch 126 tst: l 1.128 a 0.645 clct[np.int64(20), np.int64(20)] clct_ans[np.int64(20), np.int64(20)] cl_acc1.000  3.262sec\n"
     ]
    },
    {
     "name": "stdout",
     "output_type": "stream",
     "text": [
      "Epoch 127 tr: l 1.022 a 0.669 clct[np.int64(46), np.int64(54)] clct_ans[np.int64(54), np.int64(46)] cl_acc1.000  lr 0.234615 73.577sec(train) 21.000sec(infer)\n"
     ]
    },
    {
     "name": "stdout",
     "output_type": "stream",
     "text": [
      "Epoch 127 tst: l 1.139 a 0.648 clct[np.int64(20), np.int64(20)] clct_ans[np.int64(20), np.int64(20)] cl_acc1.000  3.213sec\n"
     ]
    },
    {
     "name": "stdout",
     "output_type": "stream",
     "text": [
      "Epoch 128 tr: l 1.022 a 0.672 clct[np.int64(54), np.int64(46)] clct_ans[np.int64(46), np.int64(54)] cl_acc1.000  lr 0.234497 73.915sec(train) 20.991sec(infer)\n"
     ]
    },
    {
     "name": "stdout",
     "output_type": "stream",
     "text": [
      "Epoch 128 tst: l 1.147 a 0.647 clct[np.int64(20), np.int64(20)] clct_ans[np.int64(20), np.int64(20)] cl_acc1.000  3.213sec\n"
     ]
    },
    {
     "name": "stdout",
     "output_type": "stream",
     "text": [
      "Epoch 129 tr: l 1.023 a 0.670 clct[np.int64(48), np.int64(52)] clct_ans[np.int64(52), np.int64(48)] cl_acc1.000  lr 0.234380 75.042sec(train) 21.064sec(infer)\n"
     ]
    },
    {
     "name": "stdout",
     "output_type": "stream",
     "text": [
      "Epoch 129 tst: l 1.152 a 0.645 clct[np.int64(20), np.int64(20)] clct_ans[np.int64(20), np.int64(20)] cl_acc1.000  3.197sec\n"
     ]
    },
    {
     "name": "stdout",
     "output_type": "stream",
     "text": [
      "Epoch 130 tr: l 1.013 a 0.673 clct[np.int64(48), np.int64(52)] clct_ans[np.int64(52), np.int64(48)] cl_acc1.000  lr 0.234263 73.871sec(train) 21.023sec(infer)\n"
     ]
    },
    {
     "name": "stdout",
     "output_type": "stream",
     "text": [
      "Epoch 130 tst: l 1.125 a 0.651 clct[np.int64(20), np.int64(20)] clct_ans[np.int64(20), np.int64(20)] cl_acc1.000  3.237sec\n",
      "result written at output_dfca_gi/results.pickle\n",
      "checkpoint written at output_dfca_gi/checkpoint.pt\n"
     ]
    },
    {
     "name": "stdout",
     "output_type": "stream",
     "text": [
      "Epoch 131 tr: l 0.991 a 0.678 clct[np.int64(51), np.int64(49)] clct_ans[np.int64(49), np.int64(51)] cl_acc1.000  lr 0.234146 75.515sec(train) 20.982sec(infer)\n"
     ]
    },
    {
     "name": "stdout",
     "output_type": "stream",
     "text": [
      "Epoch 131 tst: l 1.117 a 0.653 clct[np.int64(20), np.int64(20)] clct_ans[np.int64(20), np.int64(20)] cl_acc1.000  3.207sec\n"
     ]
    },
    {
     "name": "stdout",
     "output_type": "stream",
     "text": [
      "Epoch 132 tr: l 1.018 a 0.668 clct[np.int64(52), np.int64(48)] clct_ans[np.int64(48), np.int64(52)] cl_acc1.000  lr 0.234029 82.167sec(train) 20.966sec(infer)\n"
     ]
    },
    {
     "name": "stdout",
     "output_type": "stream",
     "text": [
      "Epoch 132 tst: l 1.111 a 0.652 clct[np.int64(20), np.int64(20)] clct_ans[np.int64(20), np.int64(20)] cl_acc1.000  3.212sec\n"
     ]
    },
    {
     "name": "stdout",
     "output_type": "stream",
     "text": [
      "Epoch 133 tr: l 0.998 a 0.676 clct[np.int64(52), np.int64(48)] clct_ans[np.int64(48), np.int64(52)] cl_acc1.000  lr 0.233912 81.856sec(train) 20.944sec(infer)\n"
     ]
    },
    {
     "name": "stdout",
     "output_type": "stream",
     "text": [
      "Epoch 133 tst: l 1.104 a 0.655 clct[np.int64(20), np.int64(20)] clct_ans[np.int64(20), np.int64(20)] cl_acc1.000  3.198sec\n"
     ]
    },
    {
     "name": "stdout",
     "output_type": "stream",
     "text": [
      "Epoch 134 tr: l 1.016 a 0.673 clct[np.int64(54), np.int64(46)] clct_ans[np.int64(46), np.int64(54)] cl_acc1.000  lr 0.233795 82.120sec(train) 21.133sec(infer)\n"
     ]
    },
    {
     "name": "stdout",
     "output_type": "stream",
     "text": [
      "Epoch 134 tst: l 1.108 a 0.654 clct[np.int64(20), np.int64(20)] clct_ans[np.int64(20), np.int64(20)] cl_acc1.000  3.235sec\n"
     ]
    },
    {
     "name": "stdout",
     "output_type": "stream",
     "text": [
      "Epoch 135 tr: l 1.020 a 0.671 clct[np.int64(49), np.int64(51)] clct_ans[np.int64(51), np.int64(49)] cl_acc1.000  lr 0.233678 72.941sec(train) 20.969sec(infer)\n"
     ]
    },
    {
     "name": "stdout",
     "output_type": "stream",
     "text": [
      "Epoch 135 tst: l 1.107 a 0.654 clct[np.int64(20), np.int64(20)] clct_ans[np.int64(20), np.int64(20)] cl_acc1.000  3.212sec\n"
     ]
    },
    {
     "name": "stdout",
     "output_type": "stream",
     "text": [
      "Epoch 136 tr: l 0.992 a 0.678 clct[np.int64(55), np.int64(45)] clct_ans[np.int64(45), np.int64(55)] cl_acc1.000  lr 0.233561 81.678sec(train) 20.993sec(infer)\n"
     ]
    },
    {
     "name": "stdout",
     "output_type": "stream",
     "text": [
      "Epoch 136 tst: l 1.103 a 0.655 clct[np.int64(20), np.int64(20)] clct_ans[np.int64(20), np.int64(20)] cl_acc1.000  3.212sec\n"
     ]
    },
    {
     "name": "stdout",
     "output_type": "stream",
     "text": [
      "Epoch 137 tr: l 0.994 a 0.677 clct[np.int64(49), np.int64(51)] clct_ans[np.int64(51), np.int64(49)] cl_acc1.000  lr 0.233444 82.133sec(train) 20.970sec(infer)\n"
     ]
    },
    {
     "name": "stdout",
     "output_type": "stream",
     "text": [
      "Epoch 137 tst: l 1.097 a 0.653 clct[np.int64(20), np.int64(20)] clct_ans[np.int64(20), np.int64(20)] cl_acc1.000  3.213sec\n"
     ]
    },
    {
     "name": "stdout",
     "output_type": "stream",
     "text": [
      "Epoch 138 tr: l 1.010 a 0.675 clct[np.int64(46), np.int64(54)] clct_ans[np.int64(54), np.int64(46)] cl_acc1.000  lr 0.233328 77.323sec(train) 20.995sec(infer)\n"
     ]
    },
    {
     "name": "stdout",
     "output_type": "stream",
     "text": [
      "Epoch 138 tst: l 1.093 a 0.656 clct[np.int64(20), np.int64(20)] clct_ans[np.int64(20), np.int64(20)] cl_acc1.000  3.194sec\n"
     ]
    },
    {
     "name": "stdout",
     "output_type": "stream",
     "text": [
      "Epoch 139 tr: l 1.001 a 0.671 clct[np.int64(46), np.int64(54)] clct_ans[np.int64(54), np.int64(46)] cl_acc1.000  lr 0.233211 74.160sec(train) 21.045sec(infer)\n"
     ]
    },
    {
     "name": "stdout",
     "output_type": "stream",
     "text": [
      "Epoch 139 tst: l 1.085 a 0.659 clct[np.int64(20), np.int64(20)] clct_ans[np.int64(20), np.int64(20)] cl_acc1.000  3.228sec\n"
     ]
    },
    {
     "name": "stdout",
     "output_type": "stream",
     "text": [
      "Epoch 140 tr: l 0.990 a 0.680 clct[np.int64(51), np.int64(49)] clct_ans[np.int64(49), np.int64(51)] cl_acc1.000  lr 0.233094 73.330sec(train) 20.948sec(infer)\n"
     ]
    },
    {
     "name": "stdout",
     "output_type": "stream",
     "text": [
      "Epoch 140 tst: l 1.093 a 0.660 clct[np.int64(20), np.int64(20)] clct_ans[np.int64(20), np.int64(20)] cl_acc1.000  3.213sec\n",
      "result written at output_dfca_gi/results.pickle\n",
      "checkpoint written at output_dfca_gi/checkpoint.pt\n"
     ]
    },
    {
     "name": "stdout",
     "output_type": "stream",
     "text": [
      "Epoch 141 tr: l 0.977 a 0.685 clct[np.int64(51), np.int64(49)] clct_ans[np.int64(49), np.int64(51)] cl_acc1.000  lr 0.232978 73.798sec(train) 20.964sec(infer)\n"
     ]
    },
    {
     "name": "stdout",
     "output_type": "stream",
     "text": [
      "Epoch 141 tst: l 1.093 a 0.658 clct[np.int64(20), np.int64(20)] clct_ans[np.int64(20), np.int64(20)] cl_acc1.000  3.197sec\n"
     ]
    },
    {
     "name": "stdout",
     "output_type": "stream",
     "text": [
      "Epoch 142 tr: l 0.986 a 0.685 clct[np.int64(52), np.int64(48)] clct_ans[np.int64(48), np.int64(52)] cl_acc1.000  lr 0.232861 73.993sec(train) 21.013sec(infer)\n"
     ]
    },
    {
     "name": "stdout",
     "output_type": "stream",
     "text": [
      "Epoch 142 tst: l 1.104 a 0.660 clct[np.int64(20), np.int64(20)] clct_ans[np.int64(20), np.int64(20)] cl_acc1.000  3.220sec\n"
     ]
    },
    {
     "name": "stdout",
     "output_type": "stream",
     "text": [
      "Epoch 143 tr: l 0.992 a 0.680 clct[np.int64(48), np.int64(52)] clct_ans[np.int64(52), np.int64(48)] cl_acc1.000  lr 0.232745 73.221sec(train) 20.957sec(infer)\n"
     ]
    },
    {
     "name": "stdout",
     "output_type": "stream",
     "text": [
      "Epoch 143 tst: l 1.090 a 0.660 clct[np.int64(20), np.int64(20)] clct_ans[np.int64(20), np.int64(20)] cl_acc1.000  3.238sec\n"
     ]
    },
    {
     "name": "stdout",
     "output_type": "stream",
     "text": [
      "Epoch 144 tr: l 0.972 a 0.686 clct[np.int64(52), np.int64(48)] clct_ans[np.int64(48), np.int64(52)] cl_acc1.000  lr 0.232629 73.969sec(train) 20.890sec(infer)\n"
     ]
    },
    {
     "name": "stdout",
     "output_type": "stream",
     "text": [
      "Epoch 144 tst: l 1.111 a 0.658 clct[np.int64(20), np.int64(20)] clct_ans[np.int64(20), np.int64(20)] cl_acc1.000  3.211sec\n"
     ]
    },
    {
     "name": "stdout",
     "output_type": "stream",
     "text": [
      "Epoch 145 tr: l 0.989 a 0.678 clct[np.int64(42), np.int64(58)] clct_ans[np.int64(58), np.int64(42)] cl_acc1.000  lr 0.232512 75.177sec(train) 20.946sec(infer)\n"
     ]
    },
    {
     "name": "stdout",
     "output_type": "stream",
     "text": [
      "Epoch 145 tst: l 1.103 a 0.659 clct[np.int64(20), np.int64(20)] clct_ans[np.int64(20), np.int64(20)] cl_acc1.000  3.209sec\n"
     ]
    },
    {
     "name": "stdout",
     "output_type": "stream",
     "text": [
      "Epoch 146 tr: l 0.999 a 0.678 clct[np.int64(46), np.int64(54)] clct_ans[np.int64(54), np.int64(46)] cl_acc1.000  lr 0.232396 75.800sec(train) 20.939sec(infer)\n"
     ]
    },
    {
     "name": "stdout",
     "output_type": "stream",
     "text": [
      "Epoch 146 tst: l 1.086 a 0.663 clct[np.int64(20), np.int64(20)] clct_ans[np.int64(20), np.int64(20)] cl_acc1.000  3.212sec\n"
     ]
    },
    {
     "name": "stdout",
     "output_type": "stream",
     "text": [
      "Epoch 147 tr: l 1.003 a 0.675 clct[np.int64(44), np.int64(56)] clct_ans[np.int64(56), np.int64(44)] cl_acc1.000  lr 0.232280 74.149sec(train) 20.936sec(infer)\n"
     ]
    },
    {
     "name": "stdout",
     "output_type": "stream",
     "text": [
      "Epoch 147 tst: l 1.080 a 0.663 clct[np.int64(20), np.int64(20)] clct_ans[np.int64(20), np.int64(20)] cl_acc1.000  3.212sec\n"
     ]
    },
    {
     "name": "stdout",
     "output_type": "stream",
     "text": [
      "Epoch 148 tr: l 0.969 a 0.687 clct[np.int64(50), np.int64(50)] clct_ans[np.int64(50), np.int64(50)] cl_acc1.000  lr 0.232164 74.749sec(train) 20.913sec(infer)\n"
     ]
    },
    {
     "name": "stdout",
     "output_type": "stream",
     "text": [
      "Epoch 148 tst: l 1.110 a 0.658 clct[np.int64(20), np.int64(20)] clct_ans[np.int64(20), np.int64(20)] cl_acc1.000  3.182sec\n"
     ]
    },
    {
     "name": "stdout",
     "output_type": "stream",
     "text": [
      "Epoch 149 tr: l 0.968 a 0.690 clct[np.int64(46), np.int64(54)] clct_ans[np.int64(54), np.int64(46)] cl_acc1.000  lr 0.232048 74.028sec(train) 20.964sec(infer)\n"
     ]
    },
    {
     "name": "stdout",
     "output_type": "stream",
     "text": [
      "Epoch 149 tst: l 1.110 a 0.659 clct[np.int64(20), np.int64(20)] clct_ans[np.int64(20), np.int64(20)] cl_acc1.000  3.176sec\n"
     ]
    },
    {
     "name": "stdout",
     "output_type": "stream",
     "text": [
      "Epoch 150 tr: l 0.981 a 0.685 clct[np.int64(40), np.int64(60)] clct_ans[np.int64(60), np.int64(40)] cl_acc1.000  lr 0.231932 77.034sec(train) 21.094sec(infer)\n"
     ]
    },
    {
     "name": "stdout",
     "output_type": "stream",
     "text": [
      "Epoch 150 tst: l 1.131 a 0.657 clct[np.int64(20), np.int64(20)] clct_ans[np.int64(20), np.int64(20)] cl_acc1.000  3.199sec\n",
      "result written at output_dfca_gi/results.pickle\n",
      "checkpoint written at output_dfca_gi/checkpoint.pt\n"
     ]
    },
    {
     "name": "stdout",
     "output_type": "stream",
     "text": [
      "Epoch 151 tr: l 0.967 a 0.689 clct[np.int64(51), np.int64(49)] clct_ans[np.int64(49), np.int64(51)] cl_acc1.000  lr 0.231816 76.598sec(train) 21.206sec(infer)\n"
     ]
    },
    {
     "name": "stdout",
     "output_type": "stream",
     "text": [
      "Epoch 151 tst: l 1.101 a 0.660 clct[np.int64(20), np.int64(20)] clct_ans[np.int64(20), np.int64(20)] cl_acc1.000  3.200sec\n"
     ]
    },
    {
     "name": "stdout",
     "output_type": "stream",
     "text": [
      "Epoch 152 tr: l 0.984 a 0.688 clct[np.int64(51), np.int64(49)] clct_ans[np.int64(49), np.int64(51)] cl_acc1.000  lr 0.231700 82.025sec(train) 20.959sec(infer)\n"
     ]
    },
    {
     "name": "stdout",
     "output_type": "stream",
     "text": [
      "Epoch 152 tst: l 1.098 a 0.660 clct[np.int64(20), np.int64(20)] clct_ans[np.int64(20), np.int64(20)] cl_acc1.000  3.179sec\n"
     ]
    },
    {
     "name": "stdout",
     "output_type": "stream",
     "text": [
      "Epoch 153 tr: l 0.971 a 0.684 clct[np.int64(51), np.int64(49)] clct_ans[np.int64(49), np.int64(51)] cl_acc1.000  lr 0.231584 75.938sec(train) 20.884sec(infer)\n"
     ]
    },
    {
     "name": "stdout",
     "output_type": "stream",
     "text": [
      "Epoch 153 tst: l 1.100 a 0.661 clct[np.int64(20), np.int64(20)] clct_ans[np.int64(20), np.int64(20)] cl_acc1.000  3.171sec\n"
     ]
    },
    {
     "name": "stdout",
     "output_type": "stream",
     "text": [
      "Epoch 154 tr: l 0.959 a 0.688 clct[np.int64(51), np.int64(49)] clct_ans[np.int64(49), np.int64(51)] cl_acc1.000  lr 0.231468 72.770sec(train) 21.099sec(infer)\n"
     ]
    },
    {
     "name": "stdout",
     "output_type": "stream",
     "text": [
      "Epoch 154 tst: l 1.079 a 0.666 clct[np.int64(20), np.int64(20)] clct_ans[np.int64(20), np.int64(20)] cl_acc1.000  3.195sec\n"
     ]
    },
    {
     "name": "stdout",
     "output_type": "stream",
     "text": [
      "Epoch 155 tr: l 0.973 a 0.687 clct[np.int64(46), np.int64(54)] clct_ans[np.int64(54), np.int64(46)] cl_acc1.000  lr 0.231352 66.531sec(train) 21.057sec(infer)\n"
     ]
    },
    {
     "name": "stdout",
     "output_type": "stream",
     "text": [
      "Epoch 155 tst: l 1.069 a 0.668 clct[np.int64(20), np.int64(20)] clct_ans[np.int64(20), np.int64(20)] cl_acc1.000  3.197sec\n"
     ]
    },
    {
     "name": "stdout",
     "output_type": "stream",
     "text": [
      "Epoch 156 tr: l 0.981 a 0.683 clct[np.int64(47), np.int64(53)] clct_ans[np.int64(53), np.int64(47)] cl_acc1.000  lr 0.231237 77.516sec(train) 21.145sec(infer)\n"
     ]
    },
    {
     "name": "stdout",
     "output_type": "stream",
     "text": [
      "Epoch 156 tst: l 1.093 a 0.662 clct[np.int64(20), np.int64(20)] clct_ans[np.int64(20), np.int64(20)] cl_acc1.000  3.187sec\n"
     ]
    },
    {
     "name": "stdout",
     "output_type": "stream",
     "text": [
      "Epoch 157 tr: l 0.961 a 0.689 clct[np.int64(51), np.int64(49)] clct_ans[np.int64(49), np.int64(51)] cl_acc1.000  lr 0.231121 76.228sec(train) 21.039sec(infer)\n"
     ]
    },
    {
     "name": "stdout",
     "output_type": "stream",
     "text": [
      "Epoch 157 tst: l 1.074 a 0.666 clct[np.int64(20), np.int64(20)] clct_ans[np.int64(20), np.int64(20)] cl_acc1.000  3.179sec\n"
     ]
    },
    {
     "name": "stdout",
     "output_type": "stream",
     "text": [
      "Epoch 158 tr: l 0.963 a 0.688 clct[np.int64(52), np.int64(48)] clct_ans[np.int64(48), np.int64(52)] cl_acc1.000  lr 0.231005 69.120sec(train) 21.270sec(infer)\n"
     ]
    },
    {
     "name": "stdout",
     "output_type": "stream",
     "text": [
      "Epoch 158 tst: l 1.088 a 0.666 clct[np.int64(20), np.int64(20)] clct_ans[np.int64(20), np.int64(20)] cl_acc1.000  3.231sec\n"
     ]
    },
    {
     "name": "stdout",
     "output_type": "stream",
     "text": [
      "Epoch 159 tr: l 0.977 a 0.687 clct[np.int64(51), np.int64(49)] clct_ans[np.int64(49), np.int64(51)] cl_acc1.000  lr 0.230890 76.601sec(train) 21.319sec(infer)\n"
     ]
    },
    {
     "name": "stdout",
     "output_type": "stream",
     "text": [
      "Epoch 159 tst: l 1.090 a 0.663 clct[np.int64(20), np.int64(20)] clct_ans[np.int64(20), np.int64(20)] cl_acc1.000  3.260sec\n"
     ]
    },
    {
     "name": "stdout",
     "output_type": "stream",
     "text": [
      "Epoch 160 tr: l 0.979 a 0.686 clct[np.int64(47), np.int64(53)] clct_ans[np.int64(53), np.int64(47)] cl_acc1.000  lr 0.230774 81.465sec(train) 21.220sec(infer)\n"
     ]
    },
    {
     "name": "stdout",
     "output_type": "stream",
     "text": [
      "Epoch 160 tst: l 1.092 a 0.662 clct[np.int64(20), np.int64(20)] clct_ans[np.int64(20), np.int64(20)] cl_acc1.000  3.232sec\n",
      "result written at output_dfca_gi/results.pickle\n",
      "checkpoint written at output_dfca_gi/checkpoint.pt\n"
     ]
    },
    {
     "name": "stdout",
     "output_type": "stream",
     "text": [
      "Epoch 161 tr: l 0.965 a 0.692 clct[np.int64(46), np.int64(54)] clct_ans[np.int64(54), np.int64(46)] cl_acc1.000  lr 0.230659 80.288sec(train) 21.167sec(infer)\n"
     ]
    },
    {
     "name": "stdout",
     "output_type": "stream",
     "text": [
      "Epoch 161 tst: l 1.082 a 0.665 clct[np.int64(20), np.int64(20)] clct_ans[np.int64(20), np.int64(20)] cl_acc1.000  3.233sec\n"
     ]
    },
    {
     "name": "stdout",
     "output_type": "stream",
     "text": [
      "Epoch 162 tr: l 0.956 a 0.691 clct[np.int64(48), np.int64(52)] clct_ans[np.int64(52), np.int64(48)] cl_acc1.000  lr 0.230544 80.804sec(train) 21.174sec(infer)\n"
     ]
    },
    {
     "name": "stdout",
     "output_type": "stream",
     "text": [
      "Epoch 162 tst: l 1.080 a 0.666 clct[np.int64(20), np.int64(20)] clct_ans[np.int64(20), np.int64(20)] cl_acc1.000  3.198sec\n"
     ]
    },
    {
     "name": "stdout",
     "output_type": "stream",
     "text": [
      "Epoch 163 tr: l 0.975 a 0.686 clct[np.int64(44), np.int64(56)] clct_ans[np.int64(56), np.int64(44)] cl_acc1.000  lr 0.230428 81.931sec(train) 21.261sec(infer)\n"
     ]
    },
    {
     "name": "stdout",
     "output_type": "stream",
     "text": [
      "Epoch 163 tst: l 1.074 a 0.669 clct[np.int64(20), np.int64(20)] clct_ans[np.int64(20), np.int64(20)] cl_acc1.000  3.211sec\n"
     ]
    },
    {
     "name": "stdout",
     "output_type": "stream",
     "text": [
      "Epoch 164 tr: l 0.931 a 0.697 clct[np.int64(50), np.int64(50)] clct_ans[np.int64(50), np.int64(50)] cl_acc1.000  lr 0.230313 80.130sec(train) 21.119sec(infer)\n"
     ]
    },
    {
     "name": "stdout",
     "output_type": "stream",
     "text": [
      "Epoch 164 tst: l 1.064 a 0.670 clct[np.int64(20), np.int64(20)] clct_ans[np.int64(20), np.int64(20)] cl_acc1.000  3.236sec\n"
     ]
    },
    {
     "name": "stdout",
     "output_type": "stream",
     "text": [
      "Epoch 165 tr: l 0.946 a 0.691 clct[np.int64(46), np.int64(54)] clct_ans[np.int64(54), np.int64(46)] cl_acc1.000  lr 0.230198 79.772sec(train) 21.105sec(infer)\n"
     ]
    },
    {
     "name": "stdout",
     "output_type": "stream",
     "text": [
      "Epoch 165 tst: l 1.076 a 0.669 clct[np.int64(20), np.int64(20)] clct_ans[np.int64(20), np.int64(20)] cl_acc1.000  3.203sec\n"
     ]
    },
    {
     "name": "stdout",
     "output_type": "stream",
     "text": [
      "Epoch 166 tr: l 0.948 a 0.694 clct[np.int64(47), np.int64(53)] clct_ans[np.int64(53), np.int64(47)] cl_acc1.000  lr 0.230083 79.789sec(train) 20.995sec(infer)\n"
     ]
    },
    {
     "name": "stdout",
     "output_type": "stream",
     "text": [
      "Epoch 166 tst: l 1.065 a 0.671 clct[np.int64(20), np.int64(20)] clct_ans[np.int64(20), np.int64(20)] cl_acc1.000  3.205sec\n"
     ]
    },
    {
     "name": "stdout",
     "output_type": "stream",
     "text": [
      "Epoch 167 tr: l 0.970 a 0.690 clct[np.int64(49), np.int64(51)] clct_ans[np.int64(51), np.int64(49)] cl_acc1.000  lr 0.229968 81.583sec(train) 21.125sec(infer)\n"
     ]
    },
    {
     "name": "stdout",
     "output_type": "stream",
     "text": [
      "Epoch 167 tst: l 1.066 a 0.669 clct[np.int64(20), np.int64(20)] clct_ans[np.int64(20), np.int64(20)] cl_acc1.000  3.188sec\n"
     ]
    },
    {
     "name": "stdout",
     "output_type": "stream",
     "text": [
      "Epoch 168 tr: l 0.963 a 0.693 clct[np.int64(52), np.int64(48)] clct_ans[np.int64(48), np.int64(52)] cl_acc1.000  lr 0.229853 82.215sec(train) 21.189sec(infer)\n"
     ]
    },
    {
     "name": "stdout",
     "output_type": "stream",
     "text": [
      "Epoch 168 tst: l 1.060 a 0.669 clct[np.int64(20), np.int64(20)] clct_ans[np.int64(20), np.int64(20)] cl_acc1.000  3.211sec\n"
     ]
    },
    {
     "name": "stdout",
     "output_type": "stream",
     "text": [
      "Epoch 169 tr: l 0.935 a 0.699 clct[np.int64(47), np.int64(53)] clct_ans[np.int64(53), np.int64(47)] cl_acc1.000  lr 0.229738 80.654sec(train) 21.046sec(infer)\n"
     ]
    },
    {
     "name": "stdout",
     "output_type": "stream",
     "text": [
      "Epoch 169 tst: l 1.079 a 0.668 clct[np.int64(20), np.int64(20)] clct_ans[np.int64(20), np.int64(20)] cl_acc1.000  3.186sec\n"
     ]
    },
    {
     "name": "stdout",
     "output_type": "stream",
     "text": [
      "Epoch 170 tr: l 0.938 a 0.695 clct[np.int64(48), np.int64(52)] clct_ans[np.int64(52), np.int64(48)] cl_acc1.000  lr 0.229623 78.799sec(train) 21.141sec(infer)\n"
     ]
    },
    {
     "name": "stdout",
     "output_type": "stream",
     "text": [
      "Epoch 170 tst: l 1.056 a 0.672 clct[np.int64(20), np.int64(20)] clct_ans[np.int64(20), np.int64(20)] cl_acc1.000  3.206sec\n",
      "result written at output_dfca_gi/results.pickle\n",
      "checkpoint written at output_dfca_gi/checkpoint.pt\n"
     ]
    },
    {
     "name": "stdout",
     "output_type": "stream",
     "text": [
      "Epoch 171 tr: l 0.944 a 0.694 clct[np.int64(47), np.int64(53)] clct_ans[np.int64(53), np.int64(47)] cl_acc1.000  lr 0.229508 51.885sec(train) 21.286sec(infer)\n"
     ]
    },
    {
     "name": "stdout",
     "output_type": "stream",
     "text": [
      "Epoch 171 tst: l 1.054 a 0.671 clct[np.int64(20), np.int64(20)] clct_ans[np.int64(20), np.int64(20)] cl_acc1.000  3.252sec\n"
     ]
    },
    {
     "name": "stdout",
     "output_type": "stream",
     "text": [
      "Epoch 172 tr: l 0.945 a 0.694 clct[np.int64(57), np.int64(43)] clct_ans[np.int64(43), np.int64(57)] cl_acc1.000  lr 0.229394 80.599sec(train) 21.150sec(infer)\n"
     ]
    },
    {
     "name": "stdout",
     "output_type": "stream",
     "text": [
      "Epoch 172 tst: l 1.059 a 0.671 clct[np.int64(20), np.int64(20)] clct_ans[np.int64(20), np.int64(20)] cl_acc1.000  3.244sec\n"
     ]
    },
    {
     "name": "stdout",
     "output_type": "stream",
     "text": [
      "Epoch 173 tr: l 0.951 a 0.697 clct[np.int64(47), np.int64(53)] clct_ans[np.int64(53), np.int64(47)] cl_acc1.000  lr 0.229279 76.289sec(train) 21.084sec(infer)\n"
     ]
    },
    {
     "name": "stdout",
     "output_type": "stream",
     "text": [
      "Epoch 173 tst: l 1.062 a 0.672 clct[np.int64(20), np.int64(20)] clct_ans[np.int64(20), np.int64(20)] cl_acc1.000  3.233sec\n"
     ]
    },
    {
     "name": "stdout",
     "output_type": "stream",
     "text": [
      "Epoch 174 tr: l 0.939 a 0.697 clct[np.int64(46), np.int64(54)] clct_ans[np.int64(54), np.int64(46)] cl_acc1.000  lr 0.229164 82.358sec(train) 21.107sec(infer)\n"
     ]
    },
    {
     "name": "stdout",
     "output_type": "stream",
     "text": [
      "Epoch 174 tst: l 1.062 a 0.671 clct[np.int64(20), np.int64(20)] clct_ans[np.int64(20), np.int64(20)] cl_acc1.000  3.233sec\n"
     ]
    },
    {
     "name": "stdout",
     "output_type": "stream",
     "text": [
      "Epoch 175 tr: l 0.917 a 0.707 clct[np.int64(52), np.int64(48)] clct_ans[np.int64(48), np.int64(52)] cl_acc1.000  lr 0.229050 82.742sec(train) 21.062sec(infer)\n"
     ]
    },
    {
     "name": "stdout",
     "output_type": "stream",
     "text": [
      "Epoch 175 tst: l 1.070 a 0.671 clct[np.int64(20), np.int64(20)] clct_ans[np.int64(20), np.int64(20)] cl_acc1.000  3.218sec\n"
     ]
    },
    {
     "name": "stdout",
     "output_type": "stream",
     "text": [
      "Epoch 176 tr: l 0.952 a 0.693 clct[np.int64(49), np.int64(51)] clct_ans[np.int64(51), np.int64(49)] cl_acc1.000  lr 0.228935 82.385sec(train) 21.273sec(infer)\n"
     ]
    },
    {
     "name": "stdout",
     "output_type": "stream",
     "text": [
      "Epoch 176 tst: l 1.061 a 0.672 clct[np.int64(20), np.int64(20)] clct_ans[np.int64(20), np.int64(20)] cl_acc1.000  3.204sec\n"
     ]
    },
    {
     "name": "stdout",
     "output_type": "stream",
     "text": [
      "Epoch 177 tr: l 0.926 a 0.702 clct[np.int64(49), np.int64(51)] clct_ans[np.int64(51), np.int64(49)] cl_acc1.000  lr 0.228821 80.862sec(train) 21.163sec(infer)\n"
     ]
    },
    {
     "name": "stdout",
     "output_type": "stream",
     "text": [
      "Epoch 177 tst: l 1.056 a 0.676 clct[np.int64(20), np.int64(20)] clct_ans[np.int64(20), np.int64(20)] cl_acc1.000  3.237sec\n"
     ]
    },
    {
     "name": "stdout",
     "output_type": "stream",
     "text": [
      "Epoch 178 tr: l 0.916 a 0.704 clct[np.int64(47), np.int64(53)] clct_ans[np.int64(53), np.int64(47)] cl_acc1.000  lr 0.228706 82.661sec(train) 21.057sec(infer)\n"
     ]
    },
    {
     "name": "stdout",
     "output_type": "stream",
     "text": [
      "Epoch 178 tst: l 1.047 a 0.676 clct[np.int64(20), np.int64(20)] clct_ans[np.int64(20), np.int64(20)] cl_acc1.000  3.198sec\n"
     ]
    },
    {
     "name": "stdout",
     "output_type": "stream",
     "text": [
      "Epoch 179 tr: l 0.936 a 0.700 clct[np.int64(49), np.int64(51)] clct_ans[np.int64(51), np.int64(49)] cl_acc1.000  lr 0.228592 82.881sec(train) 21.257sec(infer)\n"
     ]
    },
    {
     "name": "stdout",
     "output_type": "stream",
     "text": [
      "Epoch 179 tst: l 1.052 a 0.670 clct[np.int64(20), np.int64(20)] clct_ans[np.int64(20), np.int64(20)] cl_acc1.000  3.197sec\n"
     ]
    },
    {
     "name": "stdout",
     "output_type": "stream",
     "text": [
      "Epoch 180 tr: l 0.919 a 0.705 clct[np.int64(46), np.int64(54)] clct_ans[np.int64(54), np.int64(46)] cl_acc1.000  lr 0.228478 82.256sec(train) 21.006sec(infer)\n"
     ]
    },
    {
     "name": "stdout",
     "output_type": "stream",
     "text": [
      "Epoch 180 tst: l 1.066 a 0.669 clct[np.int64(20), np.int64(20)] clct_ans[np.int64(20), np.int64(20)] cl_acc1.000  3.190sec\n",
      "result written at output_dfca_gi/results.pickle\n",
      "checkpoint written at output_dfca_gi/checkpoint.pt\n"
     ]
    },
    {
     "name": "stdout",
     "output_type": "stream",
     "text": [
      "Epoch 181 tr: l 0.907 a 0.709 clct[np.int64(50), np.int64(50)] clct_ans[np.int64(50), np.int64(50)] cl_acc1.000  lr 0.228363 82.926sec(train) 21.047sec(infer)\n"
     ]
    },
    {
     "name": "stdout",
     "output_type": "stream",
     "text": [
      "Epoch 181 tst: l 1.056 a 0.673 clct[np.int64(20), np.int64(20)] clct_ans[np.int64(20), np.int64(20)] cl_acc1.000  3.182sec\n"
     ]
    },
    {
     "name": "stdout",
     "output_type": "stream",
     "text": [
      "Epoch 182 tr: l 0.934 a 0.701 clct[np.int64(48), np.int64(52)] clct_ans[np.int64(52), np.int64(48)] cl_acc1.000  lr 0.228249 81.195sec(train) 21.105sec(infer)\n"
     ]
    },
    {
     "name": "stdout",
     "output_type": "stream",
     "text": [
      "Epoch 182 tst: l 1.057 a 0.674 clct[np.int64(20), np.int64(20)] clct_ans[np.int64(20), np.int64(20)] cl_acc1.000  3.226sec\n"
     ]
    },
    {
     "name": "stdout",
     "output_type": "stream",
     "text": [
      "Epoch 183 tr: l 0.909 a 0.710 clct[np.int64(51), np.int64(49)] clct_ans[np.int64(49), np.int64(51)] cl_acc1.000  lr 0.228135 82.346sec(train) 21.056sec(infer)\n"
     ]
    },
    {
     "name": "stdout",
     "output_type": "stream",
     "text": [
      "Epoch 183 tst: l 1.055 a 0.676 clct[np.int64(20), np.int64(20)] clct_ans[np.int64(20), np.int64(20)] cl_acc1.000  3.187sec\n"
     ]
    },
    {
     "name": "stdout",
     "output_type": "stream",
     "text": [
      "Epoch 184 tr: l 0.917 a 0.705 clct[np.int64(44), np.int64(56)] clct_ans[np.int64(56), np.int64(44)] cl_acc1.000  lr 0.228021 82.177sec(train) 20.985sec(infer)\n"
     ]
    },
    {
     "name": "stdout",
     "output_type": "stream",
     "text": [
      "Epoch 184 tst: l 1.055 a 0.673 clct[np.int64(20), np.int64(20)] clct_ans[np.int64(20), np.int64(20)] cl_acc1.000  3.198sec\n"
     ]
    },
    {
     "name": "stdout",
     "output_type": "stream",
     "text": [
      "Epoch 185 tr: l 0.933 a 0.700 clct[np.int64(44), np.int64(56)] clct_ans[np.int64(56), np.int64(44)] cl_acc1.000  lr 0.227907 82.704sec(train) 21.019sec(infer)\n"
     ]
    },
    {
     "name": "stdout",
     "output_type": "stream",
     "text": [
      "Epoch 185 tst: l 1.063 a 0.675 clct[np.int64(20), np.int64(20)] clct_ans[np.int64(20), np.int64(20)] cl_acc1.000  3.187sec\n"
     ]
    },
    {
     "name": "stdout",
     "output_type": "stream",
     "text": [
      "Epoch 186 tr: l 0.913 a 0.705 clct[np.int64(53), np.int64(47)] clct_ans[np.int64(47), np.int64(53)] cl_acc1.000  lr 0.227793 82.922sec(train) 20.983sec(infer)\n"
     ]
    },
    {
     "name": "stdout",
     "output_type": "stream",
     "text": [
      "Epoch 186 tst: l 1.059 a 0.676 clct[np.int64(20), np.int64(20)] clct_ans[np.int64(20), np.int64(20)] cl_acc1.000  3.217sec\n"
     ]
    },
    {
     "name": "stdout",
     "output_type": "stream",
     "text": [
      "Epoch 187 tr: l 0.918 a 0.705 clct[np.int64(49), np.int64(51)] clct_ans[np.int64(51), np.int64(49)] cl_acc1.000  lr 0.227679 82.847sec(train) 21.104sec(infer)\n"
     ]
    },
    {
     "name": "stdout",
     "output_type": "stream",
     "text": [
      "Epoch 187 tst: l 1.061 a 0.676 clct[np.int64(20), np.int64(20)] clct_ans[np.int64(20), np.int64(20)] cl_acc1.000  3.252sec\n"
     ]
    },
    {
     "name": "stdout",
     "output_type": "stream",
     "text": [
      "Epoch 188 tr: l 0.920 a 0.701 clct[np.int64(50), np.int64(50)] clct_ans[np.int64(50), np.int64(50)] cl_acc1.000  lr 0.227565 82.662sec(train) 21.063sec(infer)\n"
     ]
    },
    {
     "name": "stdout",
     "output_type": "stream",
     "text": [
      "Epoch 188 tst: l 1.035 a 0.679 clct[np.int64(20), np.int64(20)] clct_ans[np.int64(20), np.int64(20)] cl_acc1.000  3.255sec\n"
     ]
    },
    {
     "name": "stdout",
     "output_type": "stream",
     "text": [
      "Epoch 189 tr: l 0.902 a 0.708 clct[np.int64(50), np.int64(50)] clct_ans[np.int64(50), np.int64(50)] cl_acc1.000  lr 0.227452 81.854sec(train) 21.033sec(infer)\n"
     ]
    },
    {
     "name": "stdout",
     "output_type": "stream",
     "text": [
      "Epoch 189 tst: l 1.046 a 0.679 clct[np.int64(20), np.int64(20)] clct_ans[np.int64(20), np.int64(20)] cl_acc1.000  3.234sec\n"
     ]
    },
    {
     "name": "stdout",
     "output_type": "stream",
     "text": [
      "Epoch 190 tr: l 0.915 a 0.707 clct[np.int64(56), np.int64(44)] clct_ans[np.int64(44), np.int64(56)] cl_acc1.000  lr 0.227338 80.300sec(train) 21.165sec(infer)\n"
     ]
    },
    {
     "name": "stdout",
     "output_type": "stream",
     "text": [
      "Epoch 190 tst: l 1.043 a 0.679 clct[np.int64(20), np.int64(20)] clct_ans[np.int64(20), np.int64(20)] cl_acc1.000  3.233sec\n",
      "result written at output_dfca_gi/results.pickle\n",
      "checkpoint written at output_dfca_gi/checkpoint.pt\n"
     ]
    },
    {
     "name": "stdout",
     "output_type": "stream",
     "text": [
      "Epoch 191 tr: l 0.936 a 0.698 clct[np.int64(52), np.int64(48)] clct_ans[np.int64(48), np.int64(52)] cl_acc1.000  lr 0.227224 80.070sec(train) 21.035sec(infer)\n"
     ]
    },
    {
     "name": "stdout",
     "output_type": "stream",
     "text": [
      "Epoch 191 tst: l 1.041 a 0.680 clct[np.int64(20), np.int64(20)] clct_ans[np.int64(20), np.int64(20)] cl_acc1.000  3.212sec\n"
     ]
    },
    {
     "name": "stdout",
     "output_type": "stream",
     "text": [
      "Epoch 192 tr: l 0.929 a 0.701 clct[np.int64(47), np.int64(53)] clct_ans[np.int64(53), np.int64(47)] cl_acc1.000  lr 0.227111 81.268sec(train) 21.176sec(infer)\n"
     ]
    },
    {
     "name": "stdout",
     "output_type": "stream",
     "text": [
      "Epoch 192 tst: l 1.033 a 0.680 clct[np.int64(20), np.int64(20)] clct_ans[np.int64(20), np.int64(20)] cl_acc1.000  3.244sec\n"
     ]
    },
    {
     "name": "stdout",
     "output_type": "stream",
     "text": [
      "Epoch 193 tr: l 0.917 a 0.707 clct[np.int64(45), np.int64(55)] clct_ans[np.int64(55), np.int64(45)] cl_acc1.000  lr 0.226997 72.648sec(train) 21.089sec(infer)\n"
     ]
    },
    {
     "name": "stdout",
     "output_type": "stream",
     "text": [
      "Epoch 193 tst: l 1.037 a 0.679 clct[np.int64(20), np.int64(20)] clct_ans[np.int64(20), np.int64(20)] cl_acc1.000  3.227sec\n"
     ]
    },
    {
     "name": "stdout",
     "output_type": "stream",
     "text": [
      "Epoch 194 tr: l 0.917 a 0.704 clct[np.int64(50), np.int64(50)] clct_ans[np.int64(50), np.int64(50)] cl_acc1.000  lr 0.226883 70.924sec(train) 20.997sec(infer)\n"
     ]
    },
    {
     "name": "stdout",
     "output_type": "stream",
     "text": [
      "Epoch 194 tst: l 1.057 a 0.679 clct[np.int64(20), np.int64(20)] clct_ans[np.int64(20), np.int64(20)] cl_acc1.000  3.229sec\n"
     ]
    },
    {
     "name": "stdout",
     "output_type": "stream",
     "text": [
      "Epoch 195 tr: l 0.901 a 0.710 clct[np.int64(48), np.int64(52)] clct_ans[np.int64(52), np.int64(48)] cl_acc1.000  lr 0.226770 82.818sec(train) 21.013sec(infer)\n"
     ]
    },
    {
     "name": "stdout",
     "output_type": "stream",
     "text": [
      "Epoch 195 tst: l 1.041 a 0.682 clct[np.int64(20), np.int64(20)] clct_ans[np.int64(20), np.int64(20)] cl_acc1.000  3.235sec\n"
     ]
    },
    {
     "name": "stdout",
     "output_type": "stream",
     "text": [
      "Epoch 196 tr: l 0.905 a 0.708 clct[np.int64(46), np.int64(54)] clct_ans[np.int64(54), np.int64(46)] cl_acc1.000  lr 0.226657 82.907sec(train) 21.137sec(infer)\n"
     ]
    },
    {
     "name": "stdout",
     "output_type": "stream",
     "text": [
      "Epoch 196 tst: l 1.050 a 0.681 clct[np.int64(20), np.int64(20)] clct_ans[np.int64(20), np.int64(20)] cl_acc1.000  3.213sec\n"
     ]
    },
    {
     "name": "stdout",
     "output_type": "stream",
     "text": [
      "Epoch 197 tr: l 0.876 a 0.717 clct[np.int64(47), np.int64(53)] clct_ans[np.int64(53), np.int64(47)] cl_acc1.000  lr 0.226543 83.075sec(train) 21.212sec(infer)\n"
     ]
    },
    {
     "name": "stdout",
     "output_type": "stream",
     "text": [
      "Epoch 197 tst: l 1.044 a 0.680 clct[np.int64(20), np.int64(20)] clct_ans[np.int64(20), np.int64(20)] cl_acc1.000  3.293sec\n"
     ]
    },
    {
     "name": "stdout",
     "output_type": "stream",
     "text": [
      "Epoch 198 tr: l 0.913 a 0.710 clct[np.int64(44), np.int64(56)] clct_ans[np.int64(56), np.int64(44)] cl_acc1.000  lr 0.226430 80.852sec(train) 21.290sec(infer)\n"
     ]
    },
    {
     "name": "stdout",
     "output_type": "stream",
     "text": [
      "Epoch 198 tst: l 1.057 a 0.675 clct[np.int64(20), np.int64(20)] clct_ans[np.int64(20), np.int64(20)] cl_acc1.000  3.227sec\n"
     ]
    },
    {
     "name": "stdout",
     "output_type": "stream",
     "text": [
      "Epoch 199 tr: l 0.897 a 0.713 clct[np.int64(49), np.int64(51)] clct_ans[np.int64(51), np.int64(49)] cl_acc1.000  lr 0.226317 82.446sec(train) 21.058sec(infer)\n"
     ]
    },
    {
     "name": "stdout",
     "output_type": "stream",
     "text": [
      "Epoch 199 tst: l 1.056 a 0.678 clct[np.int64(20), np.int64(20)] clct_ans[np.int64(20), np.int64(20)] cl_acc1.000  3.224sec\n"
     ]
    },
    {
     "name": "stdout",
     "output_type": "stream",
     "text": [
      "Epoch 200 tr: l 0.901 a 0.710 clct[np.int64(46), np.int64(54)] clct_ans[np.int64(54), np.int64(46)] cl_acc1.000  lr 0.226204 81.863sec(train) 21.068sec(infer)\n"
     ]
    },
    {
     "name": "stdout",
     "output_type": "stream",
     "text": [
      "Epoch 200 tst: l 1.046 a 0.680 clct[np.int64(20), np.int64(20)] clct_ans[np.int64(20), np.int64(20)] cl_acc1.000  3.206sec\n",
      "result written at output_dfca_gi/results.pickle\n",
      "checkpoint written at output_dfca_gi/checkpoint.pt\n"
     ]
    },
    {
     "name": "stdout",
     "output_type": "stream",
     "text": [
      "Epoch 201 tr: l 0.898 a 0.710 clct[np.int64(48), np.int64(52)] clct_ans[np.int64(52), np.int64(48)] cl_acc1.000  lr 0.226091 81.148sec(train) 20.977sec(infer)\n"
     ]
    },
    {
     "name": "stdout",
     "output_type": "stream",
     "text": [
      "Epoch 201 tst: l 1.048 a 0.680 clct[np.int64(20), np.int64(20)] clct_ans[np.int64(20), np.int64(20)] cl_acc1.000  3.192sec\n"
     ]
    },
    {
     "name": "stdout",
     "output_type": "stream",
     "text": [
      "Epoch 202 tr: l 0.891 a 0.714 clct[np.int64(54), np.int64(46)] clct_ans[np.int64(46), np.int64(54)] cl_acc1.000  lr 0.225978 75.007sec(train) 21.010sec(infer)\n"
     ]
    },
    {
     "name": "stdout",
     "output_type": "stream",
     "text": [
      "Epoch 202 tst: l 1.053 a 0.681 clct[np.int64(20), np.int64(20)] clct_ans[np.int64(20), np.int64(20)] cl_acc1.000  3.287sec\n"
     ]
    },
    {
     "name": "stdout",
     "output_type": "stream",
     "text": [
      "Epoch 203 tr: l 0.895 a 0.715 clct[np.int64(52), np.int64(48)] clct_ans[np.int64(48), np.int64(52)] cl_acc1.000  lr 0.225865 64.510sec(train) 20.883sec(infer)\n"
     ]
    },
    {
     "name": "stdout",
     "output_type": "stream",
     "text": [
      "Epoch 203 tst: l 1.049 a 0.681 clct[np.int64(20), np.int64(20)] clct_ans[np.int64(20), np.int64(20)] cl_acc1.000  3.218sec\n"
     ]
    },
    {
     "name": "stdout",
     "output_type": "stream",
     "text": [
      "Epoch 204 tr: l 0.894 a 0.713 clct[np.int64(51), np.int64(49)] clct_ans[np.int64(49), np.int64(51)] cl_acc1.000  lr 0.225752 71.791sec(train) 20.874sec(infer)\n"
     ]
    },
    {
     "name": "stdout",
     "output_type": "stream",
     "text": [
      "Epoch 204 tst: l 1.038 a 0.683 clct[np.int64(20), np.int64(20)] clct_ans[np.int64(20), np.int64(20)] cl_acc1.000  3.174sec\n"
     ]
    },
    {
     "name": "stdout",
     "output_type": "stream",
     "text": [
      "Epoch 205 tr: l 0.886 a 0.714 clct[np.int64(49), np.int64(51)] clct_ans[np.int64(51), np.int64(49)] cl_acc1.000  lr 0.225639 74.953sec(train) 20.954sec(infer)\n"
     ]
    },
    {
     "name": "stdout",
     "output_type": "stream",
     "text": [
      "Epoch 205 tst: l 1.046 a 0.682 clct[np.int64(20), np.int64(20)] clct_ans[np.int64(20), np.int64(20)] cl_acc1.000  3.187sec\n"
     ]
    },
    {
     "name": "stdout",
     "output_type": "stream",
     "text": [
      "Epoch 206 tr: l 0.916 a 0.710 clct[np.int64(46), np.int64(54)] clct_ans[np.int64(54), np.int64(46)] cl_acc1.000  lr 0.225526 74.573sec(train) 20.969sec(infer)\n"
     ]
    },
    {
     "name": "stdout",
     "output_type": "stream",
     "text": [
      "Epoch 206 tst: l 1.034 a 0.683 clct[np.int64(20), np.int64(20)] clct_ans[np.int64(20), np.int64(20)] cl_acc1.000  3.193sec\n"
     ]
    },
    {
     "name": "stdout",
     "output_type": "stream",
     "text": [
      "Epoch 207 tr: l 0.888 a 0.713 clct[np.int64(49), np.int64(51)] clct_ans[np.int64(51), np.int64(49)] cl_acc1.000  lr 0.225413 70.959sec(train) 21.150sec(infer)\n"
     ]
    },
    {
     "name": "stdout",
     "output_type": "stream",
     "text": [
      "Epoch 207 tst: l 1.047 a 0.682 clct[np.int64(20), np.int64(20)] clct_ans[np.int64(20), np.int64(20)] cl_acc1.000  3.175sec\n"
     ]
    },
    {
     "name": "stdout",
     "output_type": "stream",
     "text": [
      "Epoch 208 tr: l 0.899 a 0.711 clct[np.int64(43), np.int64(57)] clct_ans[np.int64(57), np.int64(43)] cl_acc1.000  lr 0.225300 73.509sec(train) 20.973sec(infer)\n"
     ]
    },
    {
     "name": "stdout",
     "output_type": "stream",
     "text": [
      "Epoch 208 tst: l 1.037 a 0.684 clct[np.int64(20), np.int64(20)] clct_ans[np.int64(20), np.int64(20)] cl_acc1.000  3.171sec\n"
     ]
    },
    {
     "name": "stdout",
     "output_type": "stream",
     "text": [
      "Epoch 209 tr: l 0.894 a 0.713 clct[np.int64(53), np.int64(47)] clct_ans[np.int64(47), np.int64(53)] cl_acc1.000  lr 0.225188 74.399sec(train) 21.112sec(infer)\n"
     ]
    },
    {
     "name": "stdout",
     "output_type": "stream",
     "text": [
      "Epoch 209 tst: l 1.053 a 0.682 clct[np.int64(20), np.int64(20)] clct_ans[np.int64(20), np.int64(20)] cl_acc1.000  3.262sec\n"
     ]
    },
    {
     "name": "stdout",
     "output_type": "stream",
     "text": [
      "Epoch 210 tr: l 0.874 a 0.719 clct[np.int64(56), np.int64(44)] clct_ans[np.int64(44), np.int64(56)] cl_acc1.000  lr 0.225075 72.997sec(train) 21.005sec(infer)\n"
     ]
    },
    {
     "name": "stdout",
     "output_type": "stream",
     "text": [
      "Epoch 210 tst: l 1.037 a 0.681 clct[np.int64(20), np.int64(20)] clct_ans[np.int64(20), np.int64(20)] cl_acc1.000  3.211sec\n",
      "result written at output_dfca_gi/results.pickle\n",
      "checkpoint written at output_dfca_gi/checkpoint.pt\n"
     ]
    },
    {
     "name": "stdout",
     "output_type": "stream",
     "text": [
      "Epoch 211 tr: l 0.871 a 0.718 clct[np.int64(50), np.int64(50)] clct_ans[np.int64(50), np.int64(50)] cl_acc1.000  lr 0.224963 64.838sec(train) 20.980sec(infer)\n"
     ]
    },
    {
     "name": "stdout",
     "output_type": "stream",
     "text": [
      "Epoch 211 tst: l 1.054 a 0.682 clct[np.int64(20), np.int64(20)] clct_ans[np.int64(20), np.int64(20)] cl_acc1.000  3.218sec\n"
     ]
    },
    {
     "name": "stdout",
     "output_type": "stream",
     "text": [
      "Epoch 212 tr: l 0.885 a 0.715 clct[np.int64(51), np.int64(49)] clct_ans[np.int64(49), np.int64(51)] cl_acc1.000  lr 0.224850 73.288sec(train) 20.980sec(infer)\n"
     ]
    },
    {
     "name": "stdout",
     "output_type": "stream",
     "text": [
      "Epoch 212 tst: l 1.036 a 0.685 clct[np.int64(20), np.int64(20)] clct_ans[np.int64(20), np.int64(20)] cl_acc1.000  3.205sec\n"
     ]
    },
    {
     "name": "stdout",
     "output_type": "stream",
     "text": [
      "Epoch 213 tr: l 0.889 a 0.715 clct[np.int64(54), np.int64(46)] clct_ans[np.int64(46), np.int64(54)] cl_acc1.000  lr 0.224738 73.105sec(train) 21.057sec(infer)\n"
     ]
    },
    {
     "name": "stdout",
     "output_type": "stream",
     "text": [
      "Epoch 213 tst: l 1.028 a 0.687 clct[np.int64(20), np.int64(20)] clct_ans[np.int64(20), np.int64(20)] cl_acc1.000  3.283sec\n"
     ]
    },
    {
     "name": "stdout",
     "output_type": "stream",
     "text": [
      "Epoch 214 tr: l 0.883 a 0.716 clct[np.int64(51), np.int64(49)] clct_ans[np.int64(49), np.int64(51)] cl_acc1.000  lr 0.224625 73.954sec(train) 20.972sec(infer)\n"
     ]
    },
    {
     "name": "stdout",
     "output_type": "stream",
     "text": [
      "Epoch 214 tst: l 1.031 a 0.687 clct[np.int64(20), np.int64(20)] clct_ans[np.int64(20), np.int64(20)] cl_acc1.000  3.208sec\n"
     ]
    },
    {
     "name": "stdout",
     "output_type": "stream",
     "text": [
      "Epoch 215 tr: l 0.874 a 0.719 clct[np.int64(52), np.int64(48)] clct_ans[np.int64(48), np.int64(52)] cl_acc1.000  lr 0.224513 64.873sec(train) 20.949sec(infer)\n"
     ]
    },
    {
     "name": "stdout",
     "output_type": "stream",
     "text": [
      "Epoch 215 tst: l 1.025 a 0.692 clct[np.int64(20), np.int64(20)] clct_ans[np.int64(20), np.int64(20)] cl_acc1.000  3.216sec\n"
     ]
    },
    {
     "name": "stdout",
     "output_type": "stream",
     "text": [
      "Epoch 216 tr: l 0.880 a 0.717 clct[np.int64(47), np.int64(53)] clct_ans[np.int64(53), np.int64(47)] cl_acc1.000  lr 0.224401 74.610sec(train) 21.067sec(infer)\n"
     ]
    },
    {
     "name": "stdout",
     "output_type": "stream",
     "text": [
      "Epoch 216 tst: l 1.024 a 0.691 clct[np.int64(20), np.int64(20)] clct_ans[np.int64(20), np.int64(20)] cl_acc1.000  3.197sec\n"
     ]
    },
    {
     "name": "stdout",
     "output_type": "stream",
     "text": [
      "Epoch 217 tr: l 0.889 a 0.716 clct[np.int64(55), np.int64(45)] clct_ans[np.int64(45), np.int64(55)] cl_acc1.000  lr 0.224289 74.350sec(train) 21.007sec(infer)\n"
     ]
    },
    {
     "name": "stdout",
     "output_type": "stream",
     "text": [
      "Epoch 217 tst: l 1.042 a 0.686 clct[np.int64(20), np.int64(20)] clct_ans[np.int64(20), np.int64(20)] cl_acc1.000  3.240sec\n"
     ]
    },
    {
     "name": "stdout",
     "output_type": "stream",
     "text": [
      "Epoch 218 tr: l 0.872 a 0.721 clct[np.int64(46), np.int64(54)] clct_ans[np.int64(54), np.int64(46)] cl_acc1.000  lr 0.224176 75.376sec(train) 20.965sec(infer)\n"
     ]
    },
    {
     "name": "stdout",
     "output_type": "stream",
     "text": [
      "Epoch 218 tst: l 1.020 a 0.690 clct[np.int64(20), np.int64(20)] clct_ans[np.int64(20), np.int64(20)] cl_acc1.000  3.218sec\n"
     ]
    },
    {
     "name": "stdout",
     "output_type": "stream",
     "text": [
      "Epoch 219 tr: l 0.879 a 0.715 clct[np.int64(51), np.int64(49)] clct_ans[np.int64(49), np.int64(51)] cl_acc1.000  lr 0.224064 72.499sec(train) 20.877sec(infer)\n"
     ]
    },
    {
     "name": "stdout",
     "output_type": "stream",
     "text": [
      "Epoch 219 tst: l 1.018 a 0.691 clct[np.int64(20), np.int64(20)] clct_ans[np.int64(20), np.int64(20)] cl_acc1.000  3.220sec\n"
     ]
    },
    {
     "name": "stdout",
     "output_type": "stream",
     "text": [
      "Epoch 220 tr: l 0.866 a 0.722 clct[np.int64(49), np.int64(51)] clct_ans[np.int64(51), np.int64(49)] cl_acc1.000  lr 0.223952 73.414sec(train) 20.956sec(infer)\n"
     ]
    },
    {
     "name": "stdout",
     "output_type": "stream",
     "text": [
      "Epoch 220 tst: l 1.013 a 0.691 clct[np.int64(20), np.int64(20)] clct_ans[np.int64(20), np.int64(20)] cl_acc1.000  3.199sec\n",
      "result written at output_dfca_gi/results.pickle\n",
      "checkpoint written at output_dfca_gi/checkpoint.pt\n"
     ]
    },
    {
     "name": "stdout",
     "output_type": "stream",
     "text": [
      "Epoch 221 tr: l 0.890 a 0.715 clct[np.int64(49), np.int64(51)] clct_ans[np.int64(51), np.int64(49)] cl_acc1.000  lr 0.223840 73.551sec(train) 20.886sec(infer)\n"
     ]
    },
    {
     "name": "stdout",
     "output_type": "stream",
     "text": [
      "Epoch 221 tst: l 1.021 a 0.689 clct[np.int64(20), np.int64(20)] clct_ans[np.int64(20), np.int64(20)] cl_acc1.000  3.197sec\n"
     ]
    },
    {
     "name": "stdout",
     "output_type": "stream",
     "text": [
      "Epoch 222 tr: l 0.875 a 0.721 clct[np.int64(55), np.int64(45)] clct_ans[np.int64(45), np.int64(55)] cl_acc1.000  lr 0.223728 74.077sec(train) 20.924sec(infer)\n"
     ]
    },
    {
     "name": "stdout",
     "output_type": "stream",
     "text": [
      "Epoch 222 tst: l 1.035 a 0.689 clct[np.int64(20), np.int64(20)] clct_ans[np.int64(20), np.int64(20)] cl_acc1.000  3.181sec\n"
     ]
    },
    {
     "name": "stdout",
     "output_type": "stream",
     "text": [
      "Epoch 223 tr: l 0.866 a 0.722 clct[np.int64(55), np.int64(45)] clct_ans[np.int64(45), np.int64(55)] cl_acc1.000  lr 0.223617 73.983sec(train) 20.892sec(infer)\n"
     ]
    },
    {
     "name": "stdout",
     "output_type": "stream",
     "text": [
      "Epoch 223 tst: l 1.033 a 0.689 clct[np.int64(20), np.int64(20)] clct_ans[np.int64(20), np.int64(20)] cl_acc1.000  3.172sec\n"
     ]
    },
    {
     "name": "stdout",
     "output_type": "stream",
     "text": [
      "Epoch 224 tr: l 0.872 a 0.719 clct[np.int64(49), np.int64(51)] clct_ans[np.int64(51), np.int64(49)] cl_acc1.000  lr 0.223505 73.392sec(train) 21.074sec(infer)\n"
     ]
    },
    {
     "name": "stdout",
     "output_type": "stream",
     "text": [
      "Epoch 224 tst: l 1.027 a 0.689 clct[np.int64(20), np.int64(20)] clct_ans[np.int64(20), np.int64(20)] cl_acc1.000  3.166sec\n"
     ]
    },
    {
     "name": "stdout",
     "output_type": "stream",
     "text": [
      "Epoch 225 tr: l 0.848 a 0.729 clct[np.int64(45), np.int64(55)] clct_ans[np.int64(55), np.int64(45)] cl_acc1.000  lr 0.223393 73.826sec(train) 20.997sec(infer)\n"
     ]
    },
    {
     "name": "stdout",
     "output_type": "stream",
     "text": [
      "Epoch 225 tst: l 1.040 a 0.689 clct[np.int64(20), np.int64(20)] clct_ans[np.int64(20), np.int64(20)] cl_acc1.000  3.292sec\n"
     ]
    },
    {
     "name": "stdout",
     "output_type": "stream",
     "text": [
      "Epoch 226 tr: l 0.858 a 0.726 clct[np.int64(49), np.int64(51)] clct_ans[np.int64(51), np.int64(49)] cl_acc1.000  lr 0.223281 73.649sec(train) 21.209sec(infer)\n"
     ]
    },
    {
     "name": "stdout",
     "output_type": "stream",
     "text": [
      "Epoch 226 tst: l 1.018 a 0.691 clct[np.int64(20), np.int64(20)] clct_ans[np.int64(20), np.int64(20)] cl_acc1.000  3.226sec\n"
     ]
    },
    {
     "name": "stdout",
     "output_type": "stream",
     "text": [
      "Epoch 227 tr: l 0.870 a 0.721 clct[np.int64(51), np.int64(49)] clct_ans[np.int64(49), np.int64(51)] cl_acc1.000  lr 0.223170 74.214sec(train) 20.901sec(infer)\n"
     ]
    },
    {
     "name": "stdout",
     "output_type": "stream",
     "text": [
      "Epoch 227 tst: l 1.029 a 0.690 clct[np.int64(20), np.int64(20)] clct_ans[np.int64(20), np.int64(20)] cl_acc1.000  3.219sec\n"
     ]
    },
    {
     "name": "stdout",
     "output_type": "stream",
     "text": [
      "Epoch 228 tr: l 0.874 a 0.721 clct[np.int64(53), np.int64(47)] clct_ans[np.int64(47), np.int64(53)] cl_acc1.000  lr 0.223058 72.016sec(train) 21.058sec(infer)\n"
     ]
    },
    {
     "name": "stdout",
     "output_type": "stream",
     "text": [
      "Epoch 228 tst: l 1.028 a 0.691 clct[np.int64(20), np.int64(20)] clct_ans[np.int64(20), np.int64(20)] cl_acc1.000  3.190sec\n"
     ]
    },
    {
     "name": "stdout",
     "output_type": "stream",
     "text": [
      "Epoch 229 tr: l 0.856 a 0.723 clct[np.int64(51), np.int64(49)] clct_ans[np.int64(49), np.int64(51)] cl_acc1.000  lr 0.222947 74.287sec(train) 20.975sec(infer)\n"
     ]
    },
    {
     "name": "stdout",
     "output_type": "stream",
     "text": [
      "Epoch 229 tst: l 1.021 a 0.690 clct[np.int64(20), np.int64(20)] clct_ans[np.int64(20), np.int64(20)] cl_acc1.000  3.229sec\n"
     ]
    },
    {
     "name": "stdout",
     "output_type": "stream",
     "text": [
      "Epoch 230 tr: l 0.865 a 0.724 clct[np.int64(56), np.int64(44)] clct_ans[np.int64(44), np.int64(56)] cl_acc1.000  lr 0.222835 73.312sec(train) 21.000sec(infer)\n"
     ]
    },
    {
     "name": "stdout",
     "output_type": "stream",
     "text": [
      "Epoch 230 tst: l 1.026 a 0.690 clct[np.int64(20), np.int64(20)] clct_ans[np.int64(20), np.int64(20)] cl_acc1.000  3.216sec\n",
      "result written at output_dfca_gi/results.pickle\n",
      "checkpoint written at output_dfca_gi/checkpoint.pt\n"
     ]
    },
    {
     "name": "stdout",
     "output_type": "stream",
     "text": [
      "Epoch 231 tr: l 0.861 a 0.724 clct[np.int64(44), np.int64(56)] clct_ans[np.int64(56), np.int64(44)] cl_acc1.000  lr 0.222724 73.676sec(train) 20.915sec(infer)\n"
     ]
    },
    {
     "name": "stdout",
     "output_type": "stream",
     "text": [
      "Epoch 231 tst: l 1.026 a 0.693 clct[np.int64(20), np.int64(20)] clct_ans[np.int64(20), np.int64(20)] cl_acc1.000  3.209sec\n"
     ]
    },
    {
     "name": "stdout",
     "output_type": "stream",
     "text": [
      "Epoch 232 tr: l 0.877 a 0.718 clct[np.int64(52), np.int64(48)] clct_ans[np.int64(48), np.int64(52)] cl_acc1.000  lr 0.222612 74.081sec(train) 21.141sec(infer)\n"
     ]
    },
    {
     "name": "stdout",
     "output_type": "stream",
     "text": [
      "Epoch 232 tst: l 1.002 a 0.695 clct[np.int64(20), np.int64(20)] clct_ans[np.int64(20), np.int64(20)] cl_acc1.000  3.197sec\n"
     ]
    },
    {
     "name": "stdout",
     "output_type": "stream",
     "text": [
      "Epoch 233 tr: l 0.863 a 0.724 clct[np.int64(52), np.int64(48)] clct_ans[np.int64(48), np.int64(52)] cl_acc1.000  lr 0.222501 74.295sec(train) 20.945sec(infer)\n"
     ]
    },
    {
     "name": "stdout",
     "output_type": "stream",
     "text": [
      "Epoch 233 tst: l 1.009 a 0.693 clct[np.int64(20), np.int64(20)] clct_ans[np.int64(20), np.int64(20)] cl_acc1.000  3.206sec\n"
     ]
    },
    {
     "name": "stdout",
     "output_type": "stream",
     "text": [
      "Epoch 234 tr: l 0.861 a 0.726 clct[np.int64(47), np.int64(53)] clct_ans[np.int64(53), np.int64(47)] cl_acc1.000  lr 0.222390 81.597sec(train) 20.973sec(infer)\n"
     ]
    },
    {
     "name": "stdout",
     "output_type": "stream",
     "text": [
      "Epoch 234 tst: l 1.007 a 0.694 clct[np.int64(20), np.int64(20)] clct_ans[np.int64(20), np.int64(20)] cl_acc1.000  3.207sec\n"
     ]
    },
    {
     "name": "stdout",
     "output_type": "stream",
     "text": [
      "Epoch 235 tr: l 0.857 a 0.723 clct[np.int64(48), np.int64(52)] clct_ans[np.int64(52), np.int64(48)] cl_acc1.000  lr 0.222279 82.021sec(train) 21.163sec(infer)\n"
     ]
    },
    {
     "name": "stdout",
     "output_type": "stream",
     "text": [
      "Epoch 235 tst: l 1.009 a 0.692 clct[np.int64(20), np.int64(20)] clct_ans[np.int64(20), np.int64(20)] cl_acc1.000  3.209sec\n"
     ]
    },
    {
     "name": "stdout",
     "output_type": "stream",
     "text": [
      "Epoch 236 tr: l 0.858 a 0.724 clct[np.int64(49), np.int64(51)] clct_ans[np.int64(51), np.int64(49)] cl_acc1.000  lr 0.222167 82.026sec(train) 20.918sec(infer)\n"
     ]
    },
    {
     "name": "stdout",
     "output_type": "stream",
     "text": [
      "Epoch 236 tst: l 1.008 a 0.693 clct[np.int64(20), np.int64(20)] clct_ans[np.int64(20), np.int64(20)] cl_acc1.000  3.192sec\n"
     ]
    },
    {
     "name": "stdout",
     "output_type": "stream",
     "text": [
      "Epoch 237 tr: l 0.829 a 0.734 clct[np.int64(48), np.int64(52)] clct_ans[np.int64(52), np.int64(48)] cl_acc1.000  lr 0.222056 79.865sec(train) 21.171sec(infer)\n"
     ]
    },
    {
     "name": "stdout",
     "output_type": "stream",
     "text": [
      "Epoch 237 tst: l 1.025 a 0.692 clct[np.int64(20), np.int64(20)] clct_ans[np.int64(20), np.int64(20)] cl_acc1.000  3.228sec\n"
     ]
    },
    {
     "name": "stdout",
     "output_type": "stream",
     "text": [
      "Epoch 238 tr: l 0.867 a 0.724 clct[np.int64(54), np.int64(46)] clct_ans[np.int64(46), np.int64(54)] cl_acc1.000  lr 0.221945 82.071sec(train) 20.987sec(infer)\n"
     ]
    },
    {
     "name": "stdout",
     "output_type": "stream",
     "text": [
      "Epoch 238 tst: l 1.016 a 0.692 clct[np.int64(20), np.int64(20)] clct_ans[np.int64(20), np.int64(20)] cl_acc1.000  3.238sec\n"
     ]
    },
    {
     "name": "stdout",
     "output_type": "stream",
     "text": [
      "Epoch 239 tr: l 0.851 a 0.728 clct[np.int64(55), np.int64(45)] clct_ans[np.int64(45), np.int64(55)] cl_acc1.000  lr 0.221834 81.750sec(train) 20.986sec(infer)\n"
     ]
    },
    {
     "name": "stdout",
     "output_type": "stream",
     "text": [
      "Epoch 239 tst: l 1.017 a 0.693 clct[np.int64(20), np.int64(20)] clct_ans[np.int64(20), np.int64(20)] cl_acc1.000  3.201sec\n"
     ]
    },
    {
     "name": "stdout",
     "output_type": "stream",
     "text": [
      "Epoch 240 tr: l 0.837 a 0.731 clct[np.int64(49), np.int64(51)] clct_ans[np.int64(51), np.int64(49)] cl_acc1.000  lr 0.221723 81.474sec(train) 20.949sec(infer)\n"
     ]
    },
    {
     "name": "stdout",
     "output_type": "stream",
     "text": [
      "Epoch 240 tst: l 1.008 a 0.696 clct[np.int64(20), np.int64(20)] clct_ans[np.int64(20), np.int64(20)] cl_acc1.000  3.211sec\n",
      "result written at output_dfca_gi/results.pickle\n",
      "checkpoint written at output_dfca_gi/checkpoint.pt\n"
     ]
    },
    {
     "name": "stdout",
     "output_type": "stream",
     "text": [
      "Epoch 241 tr: l 0.841 a 0.733 clct[np.int64(49), np.int64(51)] clct_ans[np.int64(51), np.int64(49)] cl_acc1.000  lr 0.221613 82.109sec(train) 20.905sec(infer)\n"
     ]
    },
    {
     "name": "stdout",
     "output_type": "stream",
     "text": [
      "Epoch 241 tst: l 1.018 a 0.697 clct[np.int64(20), np.int64(20)] clct_ans[np.int64(20), np.int64(20)] cl_acc1.000  3.201sec\n"
     ]
    },
    {
     "name": "stdout",
     "output_type": "stream",
     "text": [
      "Epoch 242 tr: l 0.840 a 0.730 clct[np.int64(44), np.int64(56)] clct_ans[np.int64(56), np.int64(44)] cl_acc1.000  lr 0.221502 81.742sec(train) 21.082sec(infer)\n"
     ]
    },
    {
     "name": "stdout",
     "output_type": "stream",
     "text": [
      "Epoch 242 tst: l 0.999 a 0.701 clct[np.int64(20), np.int64(20)] clct_ans[np.int64(20), np.int64(20)] cl_acc1.000  3.219sec\n"
     ]
    },
    {
     "name": "stdout",
     "output_type": "stream",
     "text": [
      "Epoch 243 tr: l 0.831 a 0.732 clct[np.int64(55), np.int64(45)] clct_ans[np.int64(45), np.int64(55)] cl_acc1.000  lr 0.221391 81.700sec(train) 20.969sec(infer)\n"
     ]
    },
    {
     "name": "stdout",
     "output_type": "stream",
     "text": [
      "Epoch 243 tst: l 0.997 a 0.699 clct[np.int64(20), np.int64(20)] clct_ans[np.int64(20), np.int64(20)] cl_acc1.000  3.234sec\n"
     ]
    },
    {
     "name": "stdout",
     "output_type": "stream",
     "text": [
      "Epoch 244 tr: l 0.845 a 0.726 clct[np.int64(52), np.int64(48)] clct_ans[np.int64(48), np.int64(52)] cl_acc1.000  lr 0.221280 82.027sec(train) 20.953sec(infer)\n"
     ]
    },
    {
     "name": "stdout",
     "output_type": "stream",
     "text": [
      "Epoch 244 tst: l 0.994 a 0.698 clct[np.int64(20), np.int64(20)] clct_ans[np.int64(20), np.int64(20)] cl_acc1.000  3.203sec\n"
     ]
    },
    {
     "name": "stdout",
     "output_type": "stream",
     "text": [
      "Epoch 245 tr: l 0.836 a 0.731 clct[np.int64(46), np.int64(54)] clct_ans[np.int64(54), np.int64(46)] cl_acc1.000  lr 0.221170 81.559sec(train) 20.935sec(infer)\n"
     ]
    },
    {
     "name": "stdout",
     "output_type": "stream",
     "text": [
      "Epoch 245 tst: l 1.028 a 0.692 clct[np.int64(20), np.int64(20)] clct_ans[np.int64(20), np.int64(20)] cl_acc1.000  3.215sec\n"
     ]
    },
    {
     "name": "stdout",
     "output_type": "stream",
     "text": [
      "Epoch 246 tr: l 0.838 a 0.730 clct[np.int64(49), np.int64(51)] clct_ans[np.int64(51), np.int64(49)] cl_acc1.000  lr 0.221059 82.408sec(train) 20.972sec(infer)\n"
     ]
    },
    {
     "name": "stdout",
     "output_type": "stream",
     "text": [
      "Epoch 246 tst: l 0.994 a 0.700 clct[np.int64(20), np.int64(20)] clct_ans[np.int64(20), np.int64(20)] cl_acc1.000  3.174sec\n"
     ]
    },
    {
     "name": "stdout",
     "output_type": "stream",
     "text": [
      "Epoch 247 tr: l 0.838 a 0.730 clct[np.int64(44), np.int64(56)] clct_ans[np.int64(56), np.int64(44)] cl_acc1.000  lr 0.220949 82.465sec(train) 21.250sec(infer)\n"
     ]
    },
    {
     "name": "stdout",
     "output_type": "stream",
     "text": [
      "Epoch 247 tst: l 1.006 a 0.697 clct[np.int64(20), np.int64(20)] clct_ans[np.int64(20), np.int64(20)] cl_acc1.000  3.261sec\n"
     ]
    },
    {
     "name": "stdout",
     "output_type": "stream",
     "text": [
      "Epoch 248 tr: l 0.842 a 0.728 clct[np.int64(49), np.int64(51)] clct_ans[np.int64(51), np.int64(49)] cl_acc1.000  lr 0.220838 80.443sec(train) 21.057sec(infer)\n"
     ]
    },
    {
     "name": "stdout",
     "output_type": "stream",
     "text": [
      "Epoch 248 tst: l 1.011 a 0.697 clct[np.int64(20), np.int64(20)] clct_ans[np.int64(20), np.int64(20)] cl_acc1.000  3.219sec\n"
     ]
    },
    {
     "name": "stdout",
     "output_type": "stream",
     "text": [
      "Epoch 249 tr: l 0.843 a 0.729 clct[np.int64(44), np.int64(56)] clct_ans[np.int64(56), np.int64(44)] cl_acc1.000  lr 0.220728 82.090sec(train) 20.995sec(infer)\n"
     ]
    },
    {
     "name": "stdout",
     "output_type": "stream",
     "text": [
      "Epoch 249 tst: l 1.009 a 0.696 clct[np.int64(20), np.int64(20)] clct_ans[np.int64(20), np.int64(20)] cl_acc1.000  3.166sec\n"
     ]
    },
    {
     "name": "stdout",
     "output_type": "stream",
     "text": [
      "Epoch 250 tr: l 0.834 a 0.733 clct[np.int64(48), np.int64(52)] clct_ans[np.int64(52), np.int64(48)] cl_acc1.000  lr 0.220617 81.860sec(train) 20.934sec(infer)\n"
     ]
    },
    {
     "name": "stdout",
     "output_type": "stream",
     "text": [
      "Epoch 250 tst: l 0.999 a 0.700 clct[np.int64(20), np.int64(20)] clct_ans[np.int64(20), np.int64(20)] cl_acc1.000  3.166sec\n",
      "result written at output_dfca_gi/results.pickle\n",
      "checkpoint written at output_dfca_gi/checkpoint.pt\n"
     ]
    },
    {
     "name": "stdout",
     "output_type": "stream",
     "text": [
      "Epoch 251 tr: l 0.842 a 0.731 clct[np.int64(42), np.int64(58)] clct_ans[np.int64(58), np.int64(42)] cl_acc1.000  lr 0.220507 81.887sec(train) 20.887sec(infer)\n"
     ]
    },
    {
     "name": "stdout",
     "output_type": "stream",
     "text": [
      "Epoch 251 tst: l 1.008 a 0.699 clct[np.int64(20), np.int64(20)] clct_ans[np.int64(20), np.int64(20)] cl_acc1.000  3.167sec\n"
     ]
    },
    {
     "name": "stdout",
     "output_type": "stream",
     "text": [
      "Epoch 252 tr: l 0.823 a 0.734 clct[np.int64(54), np.int64(46)] clct_ans[np.int64(46), np.int64(54)] cl_acc1.000  lr 0.220397 81.963sec(train) 20.971sec(infer)\n"
     ]
    },
    {
     "name": "stdout",
     "output_type": "stream",
     "text": [
      "Epoch 252 tst: l 1.005 a 0.699 clct[np.int64(20), np.int64(20)] clct_ans[np.int64(20), np.int64(20)] cl_acc1.000  3.156sec\n"
     ]
    },
    {
     "name": "stdout",
     "output_type": "stream",
     "text": [
      "Epoch 253 tr: l 0.851 a 0.726 clct[np.int64(45), np.int64(55)] clct_ans[np.int64(55), np.int64(45)] cl_acc1.000  lr 0.220287 82.126sec(train) 20.940sec(infer)\n"
     ]
    },
    {
     "name": "stdout",
     "output_type": "stream",
     "text": [
      "Epoch 253 tst: l 0.999 a 0.699 clct[np.int64(20), np.int64(20)] clct_ans[np.int64(20), np.int64(20)] cl_acc1.000  3.223sec\n"
     ]
    },
    {
     "name": "stdout",
     "output_type": "stream",
     "text": [
      "Epoch 254 tr: l 0.834 a 0.734 clct[np.int64(50), np.int64(50)] clct_ans[np.int64(50), np.int64(50)] cl_acc1.000  lr 0.220176 81.791sec(train) 21.097sec(infer)\n"
     ]
    },
    {
     "name": "stdout",
     "output_type": "stream",
     "text": [
      "Epoch 254 tst: l 0.997 a 0.699 clct[np.int64(20), np.int64(20)] clct_ans[np.int64(20), np.int64(20)] cl_acc1.000  3.185sec\n"
     ]
    },
    {
     "name": "stdout",
     "output_type": "stream",
     "text": [
      "Epoch 255 tr: l 0.852 a 0.726 clct[np.int64(52), np.int64(48)] clct_ans[np.int64(48), np.int64(52)] cl_acc1.000  lr 0.220066 81.554sec(train) 20.884sec(infer)\n"
     ]
    },
    {
     "name": "stdout",
     "output_type": "stream",
     "text": [
      "Epoch 255 tst: l 0.988 a 0.703 clct[np.int64(20), np.int64(20)] clct_ans[np.int64(20), np.int64(20)] cl_acc1.000  3.210sec\n"
     ]
    },
    {
     "name": "stdout",
     "output_type": "stream",
     "text": [
      "Epoch 256 tr: l 0.809 a 0.739 clct[np.int64(54), np.int64(46)] clct_ans[np.int64(46), np.int64(54)] cl_acc1.000  lr 0.219956 81.623sec(train) 20.853sec(infer)\n"
     ]
    },
    {
     "name": "stdout",
     "output_type": "stream",
     "text": [
      "Epoch 256 tst: l 1.000 a 0.701 clct[np.int64(20), np.int64(20)] clct_ans[np.int64(20), np.int64(20)] cl_acc1.000  3.218sec\n"
     ]
    },
    {
     "name": "stdout",
     "output_type": "stream",
     "text": [
      "Epoch 257 tr: l 0.826 a 0.735 clct[np.int64(51), np.int64(49)] clct_ans[np.int64(49), np.int64(51)] cl_acc1.000  lr 0.219846 81.942sec(train) 20.928sec(infer)\n"
     ]
    },
    {
     "name": "stdout",
     "output_type": "stream",
     "text": [
      "Epoch 257 tst: l 1.011 a 0.698 clct[np.int64(20), np.int64(20)] clct_ans[np.int64(20), np.int64(20)] cl_acc1.000  3.201sec\n"
     ]
    },
    {
     "name": "stdout",
     "output_type": "stream",
     "text": [
      "Epoch 258 tr: l 0.813 a 0.739 clct[np.int64(49), np.int64(51)] clct_ans[np.int64(51), np.int64(49)] cl_acc1.000  lr 0.219736 81.753sec(train) 21.001sec(infer)\n"
     ]
    },
    {
     "name": "stdout",
     "output_type": "stream",
     "text": [
      "Epoch 258 tst: l 1.013 a 0.698 clct[np.int64(20), np.int64(20)] clct_ans[np.int64(20), np.int64(20)] cl_acc1.000  3.280sec\n"
     ]
    },
    {
     "name": "stdout",
     "output_type": "stream",
     "text": [
      "Epoch 259 tr: l 0.830 a 0.733 clct[np.int64(47), np.int64(53)] clct_ans[np.int64(53), np.int64(47)] cl_acc1.000  lr 0.219627 82.230sec(train) 20.966sec(infer)\n"
     ]
    },
    {
     "name": "stdout",
     "output_type": "stream",
     "text": [
      "Epoch 259 tst: l 1.009 a 0.701 clct[np.int64(20), np.int64(20)] clct_ans[np.int64(20), np.int64(20)] cl_acc1.000  3.201sec\n"
     ]
    },
    {
     "name": "stdout",
     "output_type": "stream",
     "text": [
      "Epoch 260 tr: l 0.836 a 0.730 clct[np.int64(46), np.int64(54)] clct_ans[np.int64(54), np.int64(46)] cl_acc1.000  lr 0.219517 81.943sec(train) 20.946sec(infer)\n"
     ]
    },
    {
     "name": "stdout",
     "output_type": "stream",
     "text": [
      "Epoch 260 tst: l 1.003 a 0.702 clct[np.int64(20), np.int64(20)] clct_ans[np.int64(20), np.int64(20)] cl_acc1.000  3.210sec\n",
      "result written at output_dfca_gi/results.pickle\n",
      "checkpoint written at output_dfca_gi/checkpoint.pt\n"
     ]
    },
    {
     "name": "stdout",
     "output_type": "stream",
     "text": [
      "Epoch 261 tr: l 0.838 a 0.731 clct[np.int64(48), np.int64(52)] clct_ans[np.int64(52), np.int64(48)] cl_acc1.000  lr 0.219407 81.893sec(train) 20.937sec(infer)\n"
     ]
    },
    {
     "name": "stdout",
     "output_type": "stream",
     "text": [
      "Epoch 261 tst: l 0.982 a 0.702 clct[np.int64(20), np.int64(20)] clct_ans[np.int64(20), np.int64(20)] cl_acc1.000  3.200sec\n"
     ]
    },
    {
     "name": "stdout",
     "output_type": "stream",
     "text": [
      "Epoch 262 tr: l 0.811 a 0.737 clct[np.int64(48), np.int64(52)] clct_ans[np.int64(52), np.int64(48)] cl_acc1.000  lr 0.219297 81.754sec(train) 20.971sec(infer)\n"
     ]
    },
    {
     "name": "stdout",
     "output_type": "stream",
     "text": [
      "Epoch 262 tst: l 0.999 a 0.704 clct[np.int64(20), np.int64(20)] clct_ans[np.int64(20), np.int64(20)] cl_acc1.000  3.188sec\n"
     ]
    },
    {
     "name": "stdout",
     "output_type": "stream",
     "text": [
      "Epoch 263 tr: l 0.826 a 0.733 clct[np.int64(53), np.int64(47)] clct_ans[np.int64(47), np.int64(53)] cl_acc1.000  lr 0.219188 81.867sec(train) 21.130sec(infer)\n"
     ]
    },
    {
     "name": "stdout",
     "output_type": "stream",
     "text": [
      "Epoch 263 tst: l 0.985 a 0.705 clct[np.int64(20), np.int64(20)] clct_ans[np.int64(20), np.int64(20)] cl_acc1.000  3.468sec\n"
     ]
    },
    {
     "name": "stdout",
     "output_type": "stream",
     "text": [
      "Epoch 264 tr: l 0.825 a 0.735 clct[np.int64(50), np.int64(50)] clct_ans[np.int64(50), np.int64(50)] cl_acc1.000  lr 0.219078 80.168sec(train) 21.001sec(infer)\n"
     ]
    },
    {
     "name": "stdout",
     "output_type": "stream",
     "text": [
      "Epoch 264 tst: l 0.990 a 0.706 clct[np.int64(20), np.int64(20)] clct_ans[np.int64(20), np.int64(20)] cl_acc1.000  3.209sec\n"
     ]
    },
    {
     "name": "stdout",
     "output_type": "stream",
     "text": [
      "Epoch 265 tr: l 0.831 a 0.734 clct[np.int64(42), np.int64(58)] clct_ans[np.int64(58), np.int64(42)] cl_acc1.000  lr 0.218968 73.988sec(train) 21.082sec(infer)\n"
     ]
    },
    {
     "name": "stdout",
     "output_type": "stream",
     "text": [
      "Epoch 265 tst: l 0.991 a 0.704 clct[np.int64(20), np.int64(20)] clct_ans[np.int64(20), np.int64(20)] cl_acc1.000  3.202sec\n"
     ]
    },
    {
     "name": "stdout",
     "output_type": "stream",
     "text": [
      "Epoch 266 tr: l 0.818 a 0.737 clct[np.int64(50), np.int64(50)] clct_ans[np.int64(50), np.int64(50)] cl_acc1.000  lr 0.218859 74.205sec(train) 20.971sec(infer)\n"
     ]
    },
    {
     "name": "stdout",
     "output_type": "stream",
     "text": [
      "Epoch 266 tst: l 0.980 a 0.704 clct[np.int64(20), np.int64(20)] clct_ans[np.int64(20), np.int64(20)] cl_acc1.000  3.211sec\n"
     ]
    },
    {
     "name": "stdout",
     "output_type": "stream",
     "text": [
      "Epoch 267 tr: l 0.820 a 0.734 clct[np.int64(53), np.int64(47)] clct_ans[np.int64(47), np.int64(53)] cl_acc1.000  lr 0.218750 75.829sec(train) 21.063sec(infer)\n"
     ]
    },
    {
     "name": "stdout",
     "output_type": "stream",
     "text": [
      "Epoch 267 tst: l 0.996 a 0.700 clct[np.int64(20), np.int64(20)] clct_ans[np.int64(20), np.int64(20)] cl_acc1.000  3.190sec\n"
     ]
    },
    {
     "name": "stdout",
     "output_type": "stream",
     "text": [
      "Epoch 268 tr: l 0.808 a 0.739 clct[np.int64(47), np.int64(53)] clct_ans[np.int64(53), np.int64(47)] cl_acc1.000  lr 0.218640 79.529sec(train) 20.909sec(infer)\n"
     ]
    },
    {
     "name": "stdout",
     "output_type": "stream",
     "text": [
      "Epoch 268 tst: l 0.992 a 0.702 clct[np.int64(20), np.int64(20)] clct_ans[np.int64(20), np.int64(20)] cl_acc1.000  3.222sec\n"
     ]
    },
    {
     "name": "stdout",
     "output_type": "stream",
     "text": [
      "Epoch 269 tr: l 0.808 a 0.742 clct[np.int64(53), np.int64(47)] clct_ans[np.int64(47), np.int64(53)] cl_acc1.000  lr 0.218531 78.898sec(train) 20.973sec(infer)\n"
     ]
    },
    {
     "name": "stdout",
     "output_type": "stream",
     "text": [
      "Epoch 269 tst: l 0.985 a 0.704 clct[np.int64(20), np.int64(20)] clct_ans[np.int64(20), np.int64(20)] cl_acc1.000  3.202sec\n"
     ]
    },
    {
     "name": "stdout",
     "output_type": "stream",
     "text": [
      "Epoch 270 tr: l 0.777 a 0.750 clct[np.int64(53), np.int64(47)] clct_ans[np.int64(47), np.int64(53)] cl_acc1.000  lr 0.218422 74.592sec(train) 20.866sec(infer)\n"
     ]
    },
    {
     "name": "stdout",
     "output_type": "stream",
     "text": [
      "Epoch 270 tst: l 0.997 a 0.704 clct[np.int64(20), np.int64(20)] clct_ans[np.int64(20), np.int64(20)] cl_acc1.000  3.170sec\n",
      "result written at output_dfca_gi/results.pickle\n",
      "checkpoint written at output_dfca_gi/checkpoint.pt\n"
     ]
    },
    {
     "name": "stdout",
     "output_type": "stream",
     "text": [
      "Epoch 271 tr: l 0.815 a 0.739 clct[np.int64(48), np.int64(52)] clct_ans[np.int64(52), np.int64(48)] cl_acc1.000  lr 0.218312 73.907sec(train) 20.978sec(infer)\n"
     ]
    },
    {
     "name": "stdout",
     "output_type": "stream",
     "text": [
      "Epoch 271 tst: l 0.996 a 0.704 clct[np.int64(20), np.int64(20)] clct_ans[np.int64(20), np.int64(20)] cl_acc1.000  3.164sec\n"
     ]
    },
    {
     "name": "stdout",
     "output_type": "stream",
     "text": [
      "Epoch 272 tr: l 0.827 a 0.738 clct[np.int64(49), np.int64(51)] clct_ans[np.int64(51), np.int64(49)] cl_acc1.000  lr 0.218203 75.674sec(train) 20.942sec(infer)\n"
     ]
    },
    {
     "name": "stdout",
     "output_type": "stream",
     "text": [
      "Epoch 272 tst: l 0.995 a 0.703 clct[np.int64(20), np.int64(20)] clct_ans[np.int64(20), np.int64(20)] cl_acc1.000  3.197sec\n"
     ]
    },
    {
     "name": "stdout",
     "output_type": "stream",
     "text": [
      "Epoch 273 tr: l 0.817 a 0.738 clct[np.int64(52), np.int64(48)] clct_ans[np.int64(48), np.int64(52)] cl_acc1.000  lr 0.218094 75.158sec(train) 20.993sec(infer)\n"
     ]
    },
    {
     "name": "stdout",
     "output_type": "stream",
     "text": [
      "Epoch 273 tst: l 0.994 a 0.703 clct[np.int64(20), np.int64(20)] clct_ans[np.int64(20), np.int64(20)] cl_acc1.000  3.177sec\n"
     ]
    },
    {
     "name": "stdout",
     "output_type": "stream",
     "text": [
      "Epoch 274 tr: l 0.814 a 0.739 clct[np.int64(53), np.int64(47)] clct_ans[np.int64(47), np.int64(53)] cl_acc1.000  lr 0.217985 74.757sec(train) 20.911sec(infer)\n"
     ]
    },
    {
     "name": "stdout",
     "output_type": "stream",
     "text": [
      "Epoch 274 tst: l 0.966 a 0.709 clct[np.int64(20), np.int64(20)] clct_ans[np.int64(20), np.int64(20)] cl_acc1.000  3.184sec\n"
     ]
    },
    {
     "name": "stdout",
     "output_type": "stream",
     "text": [
      "Epoch 275 tr: l 0.817 a 0.737 clct[np.int64(49), np.int64(51)] clct_ans[np.int64(51), np.int64(49)] cl_acc1.000  lr 0.217876 74.505sec(train) 21.001sec(infer)\n"
     ]
    },
    {
     "name": "stdout",
     "output_type": "stream",
     "text": [
      "Epoch 275 tst: l 0.966 a 0.707 clct[np.int64(20), np.int64(20)] clct_ans[np.int64(20), np.int64(20)] cl_acc1.000  3.173sec\n"
     ]
    },
    {
     "name": "stdout",
     "output_type": "stream",
     "text": [
      "Epoch 276 tr: l 0.810 a 0.739 clct[np.int64(53), np.int64(47)] clct_ans[np.int64(47), np.int64(53)] cl_acc1.000  lr 0.217767 75.808sec(train) 20.943sec(infer)\n"
     ]
    },
    {
     "name": "stdout",
     "output_type": "stream",
     "text": [
      "Epoch 276 tst: l 0.973 a 0.707 clct[np.int64(20), np.int64(20)] clct_ans[np.int64(20), np.int64(20)] cl_acc1.000  3.190sec\n"
     ]
    },
    {
     "name": "stdout",
     "output_type": "stream",
     "text": [
      "Epoch 277 tr: l 0.808 a 0.740 clct[np.int64(50), np.int64(50)] clct_ans[np.int64(50), np.int64(50)] cl_acc1.000  lr 0.217658 74.932sec(train) 21.014sec(infer)\n"
     ]
    },
    {
     "name": "stdout",
     "output_type": "stream",
     "text": [
      "Epoch 277 tst: l 0.988 a 0.706 clct[np.int64(20), np.int64(20)] clct_ans[np.int64(20), np.int64(20)] cl_acc1.000  3.171sec\n"
     ]
    },
    {
     "name": "stdout",
     "output_type": "stream",
     "text": [
      "Epoch 278 tr: l 0.793 a 0.745 clct[np.int64(50), np.int64(50)] clct_ans[np.int64(50), np.int64(50)] cl_acc1.000  lr 0.217549 75.069sec(train) 21.019sec(infer)\n"
     ]
    },
    {
     "name": "stdout",
     "output_type": "stream",
     "text": [
      "Epoch 278 tst: l 0.979 a 0.706 clct[np.int64(20), np.int64(20)] clct_ans[np.int64(20), np.int64(20)] cl_acc1.000  3.186sec\n"
     ]
    },
    {
     "name": "stdout",
     "output_type": "stream",
     "text": [
      "Epoch 279 tr: l 0.800 a 0.744 clct[np.int64(53), np.int64(47)] clct_ans[np.int64(47), np.int64(53)] cl_acc1.000  lr 0.217441 73.792sec(train) 20.948sec(infer)\n"
     ]
    },
    {
     "name": "stdout",
     "output_type": "stream",
     "text": [
      "Epoch 279 tst: l 0.985 a 0.707 clct[np.int64(20), np.int64(20)] clct_ans[np.int64(20), np.int64(20)] cl_acc1.000  3.200sec\n"
     ]
    },
    {
     "name": "stdout",
     "output_type": "stream",
     "text": [
      "Epoch 280 tr: l 0.806 a 0.741 clct[np.int64(52), np.int64(48)] clct_ans[np.int64(48), np.int64(52)] cl_acc1.000  lr 0.217332 74.794sec(train) 20.898sec(infer)\n"
     ]
    },
    {
     "name": "stdout",
     "output_type": "stream",
     "text": [
      "Epoch 280 tst: l 0.976 a 0.708 clct[np.int64(20), np.int64(20)] clct_ans[np.int64(20), np.int64(20)] cl_acc1.000  3.194sec\n",
      "result written at output_dfca_gi/results.pickle\n",
      "checkpoint written at output_dfca_gi/checkpoint.pt\n"
     ]
    },
    {
     "name": "stdout",
     "output_type": "stream",
     "text": [
      "Epoch 281 tr: l 0.795 a 0.744 clct[np.int64(44), np.int64(56)] clct_ans[np.int64(56), np.int64(44)] cl_acc1.000  lr 0.217223 75.255sec(train) 21.025sec(infer)\n"
     ]
    },
    {
     "name": "stdout",
     "output_type": "stream",
     "text": [
      "Epoch 281 tst: l 0.974 a 0.709 clct[np.int64(20), np.int64(20)] clct_ans[np.int64(20), np.int64(20)] cl_acc1.000  3.164sec\n"
     ]
    },
    {
     "name": "stdout",
     "output_type": "stream",
     "text": [
      "Epoch 282 tr: l 0.810 a 0.740 clct[np.int64(46), np.int64(54)] clct_ans[np.int64(54), np.int64(46)] cl_acc1.000  lr 0.217115 75.522sec(train) 21.143sec(infer)\n"
     ]
    },
    {
     "name": "stdout",
     "output_type": "stream",
     "text": [
      "Epoch 282 tst: l 0.969 a 0.709 clct[np.int64(20), np.int64(20)] clct_ans[np.int64(20), np.int64(20)] cl_acc1.000  3.160sec\n"
     ]
    },
    {
     "name": "stdout",
     "output_type": "stream",
     "text": [
      "Epoch 283 tr: l 0.805 a 0.743 clct[np.int64(51), np.int64(49)] clct_ans[np.int64(49), np.int64(51)] cl_acc1.000  lr 0.217006 73.493sec(train) 20.915sec(infer)\n"
     ]
    },
    {
     "name": "stdout",
     "output_type": "stream",
     "text": [
      "Epoch 283 tst: l 0.964 a 0.710 clct[np.int64(20), np.int64(20)] clct_ans[np.int64(20), np.int64(20)] cl_acc1.000  3.143sec\n"
     ]
    },
    {
     "name": "stdout",
     "output_type": "stream",
     "text": [
      "Epoch 284 tr: l 0.809 a 0.742 clct[np.int64(48), np.int64(52)] clct_ans[np.int64(52), np.int64(48)] cl_acc1.000  lr 0.216898 75.217sec(train) 20.925sec(infer)\n"
     ]
    },
    {
     "name": "stdout",
     "output_type": "stream",
     "text": [
      "Epoch 284 tst: l 0.970 a 0.711 clct[np.int64(20), np.int64(20)] clct_ans[np.int64(20), np.int64(20)] cl_acc1.000  3.150sec\n"
     ]
    },
    {
     "name": "stdout",
     "output_type": "stream",
     "text": [
      "Epoch 285 tr: l 0.805 a 0.743 clct[np.int64(50), np.int64(50)] clct_ans[np.int64(50), np.int64(50)] cl_acc1.000  lr 0.216789 76.045sec(train) 20.943sec(infer)\n"
     ]
    },
    {
     "name": "stdout",
     "output_type": "stream",
     "text": [
      "Epoch 285 tst: l 0.987 a 0.709 clct[np.int64(20), np.int64(20)] clct_ans[np.int64(20), np.int64(20)] cl_acc1.000  3.146sec\n"
     ]
    },
    {
     "name": "stdout",
     "output_type": "stream",
     "text": [
      "Epoch 286 tr: l 0.822 a 0.738 clct[np.int64(48), np.int64(52)] clct_ans[np.int64(52), np.int64(48)] cl_acc1.000  lr 0.216681 76.034sec(train) 20.940sec(infer)\n"
     ]
    },
    {
     "name": "stdout",
     "output_type": "stream",
     "text": [
      "Epoch 286 tst: l 0.980 a 0.709 clct[np.int64(20), np.int64(20)] clct_ans[np.int64(20), np.int64(20)] cl_acc1.000  3.188sec\n"
     ]
    },
    {
     "name": "stdout",
     "output_type": "stream",
     "text": [
      "Epoch 287 tr: l 0.797 a 0.746 clct[np.int64(55), np.int64(45)] clct_ans[np.int64(45), np.int64(55)] cl_acc1.000  lr 0.216572 74.736sec(train) 20.931sec(infer)\n"
     ]
    },
    {
     "name": "stdout",
     "output_type": "stream",
     "text": [
      "Epoch 287 tst: l 0.984 a 0.708 clct[np.int64(20), np.int64(20)] clct_ans[np.int64(20), np.int64(20)] cl_acc1.000  3.193sec\n"
     ]
    },
    {
     "name": "stdout",
     "output_type": "stream",
     "text": [
      "Epoch 288 tr: l 0.791 a 0.747 clct[np.int64(51), np.int64(49)] clct_ans[np.int64(49), np.int64(51)] cl_acc1.000  lr 0.216464 75.617sec(train) 20.929sec(infer)\n"
     ]
    },
    {
     "name": "stdout",
     "output_type": "stream",
     "text": [
      "Epoch 288 tst: l 0.978 a 0.710 clct[np.int64(20), np.int64(20)] clct_ans[np.int64(20), np.int64(20)] cl_acc1.000  3.191sec\n"
     ]
    },
    {
     "name": "stdout",
     "output_type": "stream",
     "text": [
      "Epoch 289 tr: l 0.790 a 0.747 clct[np.int64(47), np.int64(53)] clct_ans[np.int64(53), np.int64(47)] cl_acc1.000  lr 0.216356 73.590sec(train) 20.980sec(infer)\n"
     ]
    },
    {
     "name": "stdout",
     "output_type": "stream",
     "text": [
      "Epoch 289 tst: l 0.982 a 0.709 clct[np.int64(20), np.int64(20)] clct_ans[np.int64(20), np.int64(20)] cl_acc1.000  3.208sec\n"
     ]
    },
    {
     "name": "stdout",
     "output_type": "stream",
     "text": [
      "Epoch 290 tr: l 0.798 a 0.744 clct[np.int64(44), np.int64(56)] clct_ans[np.int64(56), np.int64(44)] cl_acc1.000  lr 0.216248 75.971sec(train) 20.955sec(infer)\n"
     ]
    },
    {
     "name": "stdout",
     "output_type": "stream",
     "text": [
      "Epoch 290 tst: l 0.974 a 0.710 clct[np.int64(20), np.int64(20)] clct_ans[np.int64(20), np.int64(20)] cl_acc1.000  3.191sec\n",
      "result written at output_dfca_gi/results.pickle\n",
      "checkpoint written at output_dfca_gi/checkpoint.pt\n"
     ]
    },
    {
     "name": "stdout",
     "output_type": "stream",
     "text": [
      "Epoch 291 tr: l 0.808 a 0.742 clct[np.int64(50), np.int64(50)] clct_ans[np.int64(50), np.int64(50)] cl_acc1.000  lr 0.216140 74.699sec(train) 20.939sec(infer)\n"
     ]
    },
    {
     "name": "stdout",
     "output_type": "stream",
     "text": [
      "Epoch 291 tst: l 0.979 a 0.709 clct[np.int64(20), np.int64(20)] clct_ans[np.int64(20), np.int64(20)] cl_acc1.000  3.401sec\n"
     ]
    },
    {
     "name": "stdout",
     "output_type": "stream",
     "text": [
      "Epoch 292 tr: l 0.793 a 0.746 clct[np.int64(51), np.int64(49)] clct_ans[np.int64(49), np.int64(51)] cl_acc1.000  lr 0.216032 74.336sec(train) 20.931sec(infer)\n"
     ]
    },
    {
     "name": "stdout",
     "output_type": "stream",
     "text": [
      "Epoch 292 tst: l 0.981 a 0.709 clct[np.int64(20), np.int64(20)] clct_ans[np.int64(20), np.int64(20)] cl_acc1.000  3.203sec\n"
     ]
    },
    {
     "name": "stdout",
     "output_type": "stream",
     "text": [
      "Epoch 293 tr: l 0.782 a 0.747 clct[np.int64(50), np.int64(50)] clct_ans[np.int64(50), np.int64(50)] cl_acc1.000  lr 0.215924 74.874sec(train) 20.971sec(infer)\n"
     ]
    },
    {
     "name": "stdout",
     "output_type": "stream",
     "text": [
      "Epoch 293 tst: l 0.973 a 0.709 clct[np.int64(20), np.int64(20)] clct_ans[np.int64(20), np.int64(20)] cl_acc1.000  3.194sec\n"
     ]
    },
    {
     "name": "stdout",
     "output_type": "stream",
     "text": [
      "Epoch 294 tr: l 0.791 a 0.745 clct[np.int64(51), np.int64(49)] clct_ans[np.int64(49), np.int64(51)] cl_acc1.000  lr 0.215816 74.668sec(train) 20.940sec(infer)\n"
     ]
    },
    {
     "name": "stdout",
     "output_type": "stream",
     "text": [
      "Epoch 294 tst: l 0.984 a 0.708 clct[np.int64(20), np.int64(20)] clct_ans[np.int64(20), np.int64(20)] cl_acc1.000  3.200sec\n"
     ]
    },
    {
     "name": "stdout",
     "output_type": "stream",
     "text": [
      "Epoch 295 tr: l 0.780 a 0.748 clct[np.int64(57), np.int64(43)] clct_ans[np.int64(43), np.int64(57)] cl_acc1.000  lr 0.215708 75.634sec(train) 20.965sec(infer)\n"
     ]
    },
    {
     "name": "stdout",
     "output_type": "stream",
     "text": [
      "Epoch 295 tst: l 0.977 a 0.709 clct[np.int64(20), np.int64(20)] clct_ans[np.int64(20), np.int64(20)] cl_acc1.000  3.195sec\n"
     ]
    },
    {
     "name": "stdout",
     "output_type": "stream",
     "text": [
      "Epoch 296 tr: l 0.787 a 0.747 clct[np.int64(55), np.int64(45)] clct_ans[np.int64(45), np.int64(55)] cl_acc1.000  lr 0.215600 75.549sec(train) 20.914sec(infer)\n"
     ]
    },
    {
     "name": "stdout",
     "output_type": "stream",
     "text": [
      "Epoch 296 tst: l 0.977 a 0.710 clct[np.int64(20), np.int64(20)] clct_ans[np.int64(20), np.int64(20)] cl_acc1.000  3.192sec\n"
     ]
    },
    {
     "name": "stdout",
     "output_type": "stream",
     "text": [
      "Epoch 297 tr: l 0.791 a 0.747 clct[np.int64(52), np.int64(48)] clct_ans[np.int64(48), np.int64(52)] cl_acc1.000  lr 0.215492 74.608sec(train) 20.976sec(infer)\n"
     ]
    },
    {
     "name": "stdout",
     "output_type": "stream",
     "text": [
      "Epoch 297 tst: l 0.974 a 0.711 clct[np.int64(20), np.int64(20)] clct_ans[np.int64(20), np.int64(20)] cl_acc1.000  3.200sec\n"
     ]
    },
    {
     "name": "stdout",
     "output_type": "stream",
     "text": [
      "Epoch 298 tr: l 0.804 a 0.743 clct[np.int64(45), np.int64(55)] clct_ans[np.int64(55), np.int64(45)] cl_acc1.000  lr 0.215384 74.876sec(train) 20.968sec(infer)\n"
     ]
    },
    {
     "name": "stdout",
     "output_type": "stream",
     "text": [
      "Epoch 298 tst: l 0.958 a 0.714 clct[np.int64(20), np.int64(20)] clct_ans[np.int64(20), np.int64(20)] cl_acc1.000  3.209sec\n"
     ]
    },
    {
     "name": "stdout",
     "output_type": "stream",
     "text": [
      "Epoch 299 tr: l 0.779 a 0.750 clct[np.int64(50), np.int64(50)] clct_ans[np.int64(50), np.int64(50)] cl_acc1.000  lr 0.215277 81.405sec(train) 20.971sec(infer)\n"
     ]
    },
    {
     "name": "stdout",
     "output_type": "stream",
     "text": [
      "Epoch 299 tst: l 0.972 a 0.714 clct[np.int64(20), np.int64(20)] clct_ans[np.int64(20), np.int64(20)] cl_acc1.000  3.200sec\n"
     ]
    },
    {
     "name": "stdout",
     "output_type": "stream",
     "text": [
      "Epoch 300 tr: l 0.774 a 0.751 clct[np.int64(47), np.int64(53)] clct_ans[np.int64(53), np.int64(47)] cl_acc1.000  lr 0.215169 81.666sec(train) 20.943sec(infer)\n"
     ]
    },
    {
     "name": "stdout",
     "output_type": "stream",
     "text": [
      "Epoch 300 tst: l 0.972 a 0.713 clct[np.int64(20), np.int64(20)] clct_ans[np.int64(20), np.int64(20)] cl_acc1.000  3.192sec\n",
      "result written at output_dfca_gi/results.pickle\n",
      "checkpoint written at output_dfca_gi/checkpoint.pt\n"
     ]
    },
    {
     "name": "stdout",
     "output_type": "stream",
     "text": [
      "Epoch 301 tr: l 0.791 a 0.748 clct[np.int64(45), np.int64(55)] clct_ans[np.int64(55), np.int64(45)] cl_acc1.000  lr 0.215061 81.031sec(train) 20.940sec(infer)\n"
     ]
    },
    {
     "name": "stdout",
     "output_type": "stream",
     "text": [
      "Epoch 301 tst: l 0.968 a 0.713 clct[np.int64(20), np.int64(20)] clct_ans[np.int64(20), np.int64(20)] cl_acc1.000  3.211sec\n"
     ]
    },
    {
     "name": "stdout",
     "output_type": "stream",
     "text": [
      "Epoch 302 tr: l 0.772 a 0.751 clct[np.int64(53), np.int64(47)] clct_ans[np.int64(47), np.int64(53)] cl_acc1.000  lr 0.214954 81.736sec(train) 20.949sec(infer)\n"
     ]
    },
    {
     "name": "stdout",
     "output_type": "stream",
     "text": [
      "Epoch 302 tst: l 0.970 a 0.713 clct[np.int64(20), np.int64(20)] clct_ans[np.int64(20), np.int64(20)] cl_acc1.000  3.193sec\n"
     ]
    },
    {
     "name": "stdout",
     "output_type": "stream",
     "text": [
      "Epoch 303 tr: l 0.784 a 0.748 clct[np.int64(45), np.int64(55)] clct_ans[np.int64(55), np.int64(45)] cl_acc1.000  lr 0.214846 81.483sec(train) 20.939sec(infer)\n"
     ]
    },
    {
     "name": "stdout",
     "output_type": "stream",
     "text": [
      "Epoch 303 tst: l 0.968 a 0.713 clct[np.int64(20), np.int64(20)] clct_ans[np.int64(20), np.int64(20)] cl_acc1.000  3.196sec\n"
     ]
    },
    {
     "name": "stdout",
     "output_type": "stream",
     "text": [
      "Epoch 304 tr: l 0.788 a 0.745 clct[np.int64(42), np.int64(58)] clct_ans[np.int64(58), np.int64(42)] cl_acc1.000  lr 0.214739 81.450sec(train) 20.933sec(infer)\n"
     ]
    },
    {
     "name": "stdout",
     "output_type": "stream",
     "text": [
      "Epoch 304 tst: l 0.958 a 0.713 clct[np.int64(20), np.int64(20)] clct_ans[np.int64(20), np.int64(20)] cl_acc1.000  3.192sec\n"
     ]
    },
    {
     "name": "stdout",
     "output_type": "stream",
     "text": [
      "Epoch 305 tr: l 0.790 a 0.747 clct[np.int64(50), np.int64(50)] clct_ans[np.int64(50), np.int64(50)] cl_acc1.000  lr 0.214632 76.883sec(train) 20.907sec(infer)\n"
     ]
    },
    {
     "name": "stdout",
     "output_type": "stream",
     "text": [
      "Epoch 305 tst: l 0.968 a 0.713 clct[np.int64(20), np.int64(20)] clct_ans[np.int64(20), np.int64(20)] cl_acc1.000  3.194sec\n"
     ]
    },
    {
     "name": "stdout",
     "output_type": "stream",
     "text": [
      "Epoch 306 tr: l 0.777 a 0.749 clct[np.int64(53), np.int64(47)] clct_ans[np.int64(47), np.int64(53)] cl_acc1.000  lr 0.214524 73.873sec(train) 20.906sec(infer)\n"
     ]
    },
    {
     "name": "stdout",
     "output_type": "stream",
     "text": [
      "Epoch 306 tst: l 0.968 a 0.713 clct[np.int64(20), np.int64(20)] clct_ans[np.int64(20), np.int64(20)] cl_acc1.000  3.179sec\n"
     ]
    },
    {
     "name": "stdout",
     "output_type": "stream",
     "text": [
      "Epoch 307 tr: l 0.778 a 0.751 clct[np.int64(53), np.int64(47)] clct_ans[np.int64(47), np.int64(53)] cl_acc1.000  lr 0.214417 74.754sec(train) 20.929sec(infer)\n"
     ]
    },
    {
     "name": "stdout",
     "output_type": "stream",
     "text": [
      "Epoch 307 tst: l 0.963 a 0.713 clct[np.int64(20), np.int64(20)] clct_ans[np.int64(20), np.int64(20)] cl_acc1.000  3.199sec\n"
     ]
    },
    {
     "name": "stdout",
     "output_type": "stream",
     "text": [
      "Epoch 308 tr: l 0.790 a 0.746 clct[np.int64(50), np.int64(50)] clct_ans[np.int64(50), np.int64(50)] cl_acc1.000  lr 0.214310 74.422sec(train) 20.967sec(infer)\n"
     ]
    },
    {
     "name": "stdout",
     "output_type": "stream",
     "text": [
      "Epoch 308 tst: l 0.961 a 0.712 clct[np.int64(20), np.int64(20)] clct_ans[np.int64(20), np.int64(20)] cl_acc1.000  3.200sec\n"
     ]
    },
    {
     "name": "stdout",
     "output_type": "stream",
     "text": [
      "Epoch 309 tr: l 0.792 a 0.748 clct[np.int64(50), np.int64(50)] clct_ans[np.int64(50), np.int64(50)] cl_acc1.000  lr 0.214203 79.430sec(train) 20.912sec(infer)\n"
     ]
    },
    {
     "name": "stdout",
     "output_type": "stream",
     "text": [
      "Epoch 309 tst: l 0.966 a 0.712 clct[np.int64(20), np.int64(20)] clct_ans[np.int64(20), np.int64(20)] cl_acc1.000  3.193sec\n"
     ]
    },
    {
     "name": "stdout",
     "output_type": "stream",
     "text": [
      "Epoch 310 tr: l 0.766 a 0.754 clct[np.int64(50), np.int64(50)] clct_ans[np.int64(50), np.int64(50)] cl_acc1.000  lr 0.214095 81.775sec(train) 21.146sec(infer)\n"
     ]
    },
    {
     "name": "stdout",
     "output_type": "stream",
     "text": [
      "Epoch 310 tst: l 0.968 a 0.712 clct[np.int64(20), np.int64(20)] clct_ans[np.int64(20), np.int64(20)] cl_acc1.000  3.189sec\n",
      "result written at output_dfca_gi/results.pickle\n",
      "checkpoint written at output_dfca_gi/checkpoint.pt\n"
     ]
    },
    {
     "name": "stdout",
     "output_type": "stream",
     "text": [
      "Epoch 311 tr: l 0.798 a 0.746 clct[np.int64(50), np.int64(50)] clct_ans[np.int64(50), np.int64(50)] cl_acc1.000  lr 0.213988 75.802sec(train) 20.947sec(infer)\n"
     ]
    },
    {
     "name": "stdout",
     "output_type": "stream",
     "text": [
      "Epoch 311 tst: l 0.987 a 0.711 clct[np.int64(20), np.int64(20)] clct_ans[np.int64(20), np.int64(20)] cl_acc1.000  3.203sec\n"
     ]
    },
    {
     "name": "stdout",
     "output_type": "stream",
     "text": [
      "Epoch 312 tr: l 0.779 a 0.751 clct[np.int64(52), np.int64(48)] clct_ans[np.int64(48), np.int64(52)] cl_acc1.000  lr 0.213881 74.755sec(train) 20.939sec(infer)\n"
     ]
    },
    {
     "name": "stdout",
     "output_type": "stream",
     "text": [
      "Epoch 312 tst: l 0.978 a 0.712 clct[np.int64(20), np.int64(20)] clct_ans[np.int64(20), np.int64(20)] cl_acc1.000  3.202sec\n"
     ]
    },
    {
     "name": "stdout",
     "output_type": "stream",
     "text": [
      "Epoch 313 tr: l 0.775 a 0.751 clct[np.int64(52), np.int64(48)] clct_ans[np.int64(48), np.int64(52)] cl_acc1.000  lr 0.213775 74.976sec(train) 20.934sec(infer)\n"
     ]
    },
    {
     "name": "stdout",
     "output_type": "stream",
     "text": [
      "Epoch 313 tst: l 0.969 a 0.712 clct[np.int64(20), np.int64(20)] clct_ans[np.int64(20), np.int64(20)] cl_acc1.000  3.208sec\n"
     ]
    },
    {
     "name": "stdout",
     "output_type": "stream",
     "text": [
      "Epoch 314 tr: l 0.773 a 0.751 clct[np.int64(51), np.int64(49)] clct_ans[np.int64(49), np.int64(51)] cl_acc1.000  lr 0.213668 81.672sec(train) 20.956sec(infer)\n"
     ]
    },
    {
     "name": "stdout",
     "output_type": "stream",
     "text": [
      "Epoch 314 tst: l 0.973 a 0.712 clct[np.int64(20), np.int64(20)] clct_ans[np.int64(20), np.int64(20)] cl_acc1.000  3.204sec\n"
     ]
    },
    {
     "name": "stdout",
     "output_type": "stream",
     "text": [
      "Epoch 315 tr: l 0.773 a 0.752 clct[np.int64(53), np.int64(47)] clct_ans[np.int64(47), np.int64(53)] cl_acc1.000  lr 0.213561 81.395sec(train) 20.920sec(infer)\n"
     ]
    },
    {
     "name": "stdout",
     "output_type": "stream",
     "text": [
      "Epoch 315 tst: l 0.971 a 0.712 clct[np.int64(20), np.int64(20)] clct_ans[np.int64(20), np.int64(20)] cl_acc1.000  3.202sec\n"
     ]
    },
    {
     "name": "stdout",
     "output_type": "stream",
     "text": [
      "Epoch 316 tr: l 0.752 a 0.761 clct[np.int64(54), np.int64(46)] clct_ans[np.int64(46), np.int64(54)] cl_acc1.000  lr 0.213454 81.732sec(train) 20.902sec(infer)\n"
     ]
    },
    {
     "name": "stdout",
     "output_type": "stream",
     "text": [
      "Epoch 316 tst: l 0.970 a 0.714 clct[np.int64(20), np.int64(20)] clct_ans[np.int64(20), np.int64(20)] cl_acc1.000  3.199sec\n"
     ]
    },
    {
     "name": "stdout",
     "output_type": "stream",
     "text": [
      "Epoch 317 tr: l 0.753 a 0.760 clct[np.int64(56), np.int64(44)] clct_ans[np.int64(44), np.int64(56)] cl_acc1.000  lr 0.213347 81.854sec(train) 20.993sec(infer)\n"
     ]
    },
    {
     "name": "stdout",
     "output_type": "stream",
     "text": [
      "Epoch 317 tst: l 0.964 a 0.716 clct[np.int64(20), np.int64(20)] clct_ans[np.int64(20), np.int64(20)] cl_acc1.000  3.203sec\n"
     ]
    },
    {
     "name": "stdout",
     "output_type": "stream",
     "text": [
      "Epoch 318 tr: l 0.753 a 0.757 clct[np.int64(51), np.int64(49)] clct_ans[np.int64(49), np.int64(51)] cl_acc1.000  lr 0.213241 79.125sec(train) 20.884sec(infer)\n"
     ]
    },
    {
     "name": "stdout",
     "output_type": "stream",
     "text": [
      "Epoch 318 tst: l 0.967 a 0.714 clct[np.int64(20), np.int64(20)] clct_ans[np.int64(20), np.int64(20)] cl_acc1.000  3.188sec\n"
     ]
    },
    {
     "name": "stdout",
     "output_type": "stream",
     "text": [
      "Epoch 319 tr: l 0.777 a 0.752 clct[np.int64(50), np.int64(50)] clct_ans[np.int64(50), np.int64(50)] cl_acc1.000  lr 0.213134 75.518sec(train) 20.949sec(infer)\n"
     ]
    },
    {
     "name": "stdout",
     "output_type": "stream",
     "text": [
      "Epoch 319 tst: l 0.959 a 0.718 clct[np.int64(20), np.int64(20)] clct_ans[np.int64(20), np.int64(20)] cl_acc1.000  3.416sec\n"
     ]
    },
    {
     "name": "stdout",
     "output_type": "stream",
     "text": [
      "Epoch 320 tr: l 0.770 a 0.752 clct[np.int64(53), np.int64(47)] clct_ans[np.int64(47), np.int64(53)] cl_acc1.000  lr 0.213027 81.720sec(train) 20.938sec(infer)\n"
     ]
    },
    {
     "name": "stdout",
     "output_type": "stream",
     "text": [
      "Epoch 320 tst: l 0.962 a 0.718 clct[np.int64(20), np.int64(20)] clct_ans[np.int64(20), np.int64(20)] cl_acc1.000  3.211sec\n",
      "result written at output_dfca_gi/results.pickle\n",
      "checkpoint written at output_dfca_gi/checkpoint.pt\n"
     ]
    },
    {
     "name": "stdout",
     "output_type": "stream",
     "text": [
      "Epoch 321 tr: l 0.764 a 0.756 clct[np.int64(38), np.int64(62)] clct_ans[np.int64(62), np.int64(38)] cl_acc1.000  lr 0.212921 81.170sec(train) 20.936sec(infer)\n"
     ]
    },
    {
     "name": "stdout",
     "output_type": "stream",
     "text": [
      "Epoch 321 tst: l 0.975 a 0.717 clct[np.int64(20), np.int64(20)] clct_ans[np.int64(20), np.int64(20)] cl_acc1.000  3.201sec\n"
     ]
    },
    {
     "name": "stdout",
     "output_type": "stream",
     "text": [
      "Epoch 322 tr: l 0.767 a 0.755 clct[np.int64(54), np.int64(46)] clct_ans[np.int64(46), np.int64(54)] cl_acc1.000  lr 0.212814 81.819sec(train) 20.911sec(infer)\n"
     ]
    },
    {
     "name": "stdout",
     "output_type": "stream",
     "text": [
      "Epoch 322 tst: l 0.983 a 0.716 clct[np.int64(20), np.int64(20)] clct_ans[np.int64(20), np.int64(20)] cl_acc1.000  3.186sec\n"
     ]
    },
    {
     "name": "stdout",
     "output_type": "stream",
     "text": [
      "Epoch 323 tr: l 0.754 a 0.759 clct[np.int64(48), np.int64(52)] clct_ans[np.int64(52), np.int64(48)] cl_acc1.000  lr 0.212708 81.740sec(train) 20.869sec(infer)\n"
     ]
    },
    {
     "name": "stdout",
     "output_type": "stream",
     "text": [
      "Epoch 323 tst: l 0.984 a 0.715 clct[np.int64(20), np.int64(20)] clct_ans[np.int64(20), np.int64(20)] cl_acc1.000  3.197sec\n"
     ]
    },
    {
     "name": "stdout",
     "output_type": "stream",
     "text": [
      "Epoch 324 tr: l 0.760 a 0.757 clct[np.int64(49), np.int64(51)] clct_ans[np.int64(51), np.int64(49)] cl_acc1.000  lr 0.212602 81.625sec(train) 20.956sec(infer)\n"
     ]
    },
    {
     "name": "stdout",
     "output_type": "stream",
     "text": [
      "Epoch 324 tst: l 0.960 a 0.720 clct[np.int64(20), np.int64(20)] clct_ans[np.int64(20), np.int64(20)] cl_acc1.000  3.205sec\n"
     ]
    },
    {
     "name": "stdout",
     "output_type": "stream",
     "text": [
      "Epoch 325 tr: l 0.777 a 0.752 clct[np.int64(56), np.int64(44)] clct_ans[np.int64(44), np.int64(56)] cl_acc1.000  lr 0.212495 81.287sec(train) 20.900sec(infer)\n"
     ]
    },
    {
     "name": "stdout",
     "output_type": "stream",
     "text": [
      "Epoch 325 tst: l 0.958 a 0.719 clct[np.int64(20), np.int64(20)] clct_ans[np.int64(20), np.int64(20)] cl_acc1.000  3.203sec\n"
     ]
    },
    {
     "name": "stdout",
     "output_type": "stream",
     "text": [
      "Epoch 326 tr: l 0.762 a 0.757 clct[np.int64(47), np.int64(53)] clct_ans[np.int64(53), np.int64(47)] cl_acc1.000  lr 0.212389 74.692sec(train) 20.920sec(infer)\n"
     ]
    },
    {
     "name": "stdout",
     "output_type": "stream",
     "text": [
      "Epoch 326 tst: l 0.946 a 0.720 clct[np.int64(20), np.int64(20)] clct_ans[np.int64(20), np.int64(20)] cl_acc1.000  3.208sec\n"
     ]
    },
    {
     "name": "stdout",
     "output_type": "stream",
     "text": [
      "Epoch 327 tr: l 0.760 a 0.755 clct[np.int64(54), np.int64(46)] clct_ans[np.int64(46), np.int64(54)] cl_acc1.000  lr 0.212283 73.901sec(train) 20.907sec(infer)\n"
     ]
    },
    {
     "name": "stdout",
     "output_type": "stream",
     "text": [
      "Epoch 327 tst: l 0.947 a 0.719 clct[np.int64(20), np.int64(20)] clct_ans[np.int64(20), np.int64(20)] cl_acc1.000  3.197sec\n"
     ]
    },
    {
     "name": "stdout",
     "output_type": "stream",
     "text": [
      "Epoch 328 tr: l 0.771 a 0.754 clct[np.int64(48), np.int64(52)] clct_ans[np.int64(52), np.int64(48)] cl_acc1.000  lr 0.212177 73.690sec(train) 20.944sec(infer)\n"
     ]
    },
    {
     "name": "stdout",
     "output_type": "stream",
     "text": [
      "Epoch 328 tst: l 0.941 a 0.721 clct[np.int64(20), np.int64(20)] clct_ans[np.int64(20), np.int64(20)] cl_acc1.000  3.199sec\n"
     ]
    },
    {
     "name": "stdout",
     "output_type": "stream",
     "text": [
      "Epoch 329 tr: l 0.763 a 0.755 clct[np.int64(51), np.int64(49)] clct_ans[np.int64(49), np.int64(51)] cl_acc1.000  lr 0.212071 77.216sec(train) 20.947sec(infer)\n"
     ]
    },
    {
     "name": "stdout",
     "output_type": "stream",
     "text": [
      "Epoch 329 tst: l 0.953 a 0.717 clct[np.int64(20), np.int64(20)] clct_ans[np.int64(20), np.int64(20)] cl_acc1.000  3.189sec\n"
     ]
    },
    {
     "name": "stdout",
     "output_type": "stream",
     "text": [
      "Epoch 330 tr: l 0.752 a 0.758 clct[np.int64(46), np.int64(54)] clct_ans[np.int64(54), np.int64(46)] cl_acc1.000  lr 0.211965 81.565sec(train) 20.938sec(infer)\n"
     ]
    },
    {
     "name": "stdout",
     "output_type": "stream",
     "text": [
      "Epoch 330 tst: l 0.966 a 0.717 clct[np.int64(20), np.int64(20)] clct_ans[np.int64(20), np.int64(20)] cl_acc1.000  3.195sec\n",
      "result written at output_dfca_gi/results.pickle\n",
      "checkpoint written at output_dfca_gi/checkpoint.pt\n"
     ]
    },
    {
     "name": "stdout",
     "output_type": "stream",
     "text": [
      "Epoch 331 tr: l 0.753 a 0.761 clct[np.int64(52), np.int64(48)] clct_ans[np.int64(48), np.int64(52)] cl_acc1.000  lr 0.211859 80.726sec(train) 20.967sec(infer)\n"
     ]
    },
    {
     "name": "stdout",
     "output_type": "stream",
     "text": [
      "Epoch 331 tst: l 0.963 a 0.717 clct[np.int64(20), np.int64(20)] clct_ans[np.int64(20), np.int64(20)] cl_acc1.000  3.204sec\n"
     ]
    },
    {
     "name": "stdout",
     "output_type": "stream",
     "text": [
      "Epoch 332 tr: l 0.760 a 0.760 clct[np.int64(43), np.int64(57)] clct_ans[np.int64(57), np.int64(43)] cl_acc1.000  lr 0.211753 80.495sec(train) 20.894sec(infer)\n"
     ]
    },
    {
     "name": "stdout",
     "output_type": "stream",
     "text": [
      "Epoch 332 tst: l 0.962 a 0.718 clct[np.int64(20), np.int64(20)] clct_ans[np.int64(20), np.int64(20)] cl_acc1.000  3.197sec\n"
     ]
    },
    {
     "name": "stdout",
     "output_type": "stream",
     "text": [
      "Epoch 333 tr: l 0.755 a 0.759 clct[np.int64(53), np.int64(47)] clct_ans[np.int64(47), np.int64(53)] cl_acc1.000  lr 0.211647 78.122sec(train) 21.091sec(infer)\n"
     ]
    },
    {
     "name": "stdout",
     "output_type": "stream",
     "text": [
      "Epoch 333 tst: l 0.962 a 0.717 clct[np.int64(20), np.int64(20)] clct_ans[np.int64(20), np.int64(20)] cl_acc1.000  3.212sec\n"
     ]
    },
    {
     "name": "stdout",
     "output_type": "stream",
     "text": [
      "Epoch 334 tr: l 0.755 a 0.759 clct[np.int64(47), np.int64(53)] clct_ans[np.int64(53), np.int64(47)] cl_acc1.000  lr 0.211541 81.687sec(train) 20.949sec(infer)\n"
     ]
    },
    {
     "name": "stdout",
     "output_type": "stream",
     "text": [
      "Epoch 334 tst: l 0.949 a 0.718 clct[np.int64(20), np.int64(20)] clct_ans[np.int64(20), np.int64(20)] cl_acc1.000  3.187sec\n"
     ]
    },
    {
     "name": "stdout",
     "output_type": "stream",
     "text": [
      "Epoch 335 tr: l 0.753 a 0.758 clct[np.int64(49), np.int64(51)] clct_ans[np.int64(51), np.int64(49)] cl_acc1.000  lr 0.211435 81.976sec(train) 20.898sec(infer)\n"
     ]
    },
    {
     "name": "stdout",
     "output_type": "stream",
     "text": [
      "Epoch 335 tst: l 0.944 a 0.720 clct[np.int64(20), np.int64(20)] clct_ans[np.int64(20), np.int64(20)] cl_acc1.000  3.187sec\n"
     ]
    },
    {
     "name": "stdout",
     "output_type": "stream",
     "text": [
      "Epoch 336 tr: l 0.760 a 0.756 clct[np.int64(52), np.int64(48)] clct_ans[np.int64(48), np.int64(52)] cl_acc1.000  lr 0.211330 81.994sec(train) 20.906sec(infer)\n"
     ]
    },
    {
     "name": "stdout",
     "output_type": "stream",
     "text": [
      "Epoch 336 tst: l 0.946 a 0.718 clct[np.int64(20), np.int64(20)] clct_ans[np.int64(20), np.int64(20)] cl_acc1.000  3.186sec\n"
     ]
    },
    {
     "name": "stdout",
     "output_type": "stream",
     "text": [
      "Epoch 337 tr: l 0.739 a 0.764 clct[np.int64(53), np.int64(47)] clct_ans[np.int64(47), np.int64(53)] cl_acc1.000  lr 0.211224 81.749sec(train) 20.916sec(infer)\n"
     ]
    },
    {
     "name": "stdout",
     "output_type": "stream",
     "text": [
      "Epoch 337 tst: l 0.950 a 0.717 clct[np.int64(20), np.int64(20)] clct_ans[np.int64(20), np.int64(20)] cl_acc1.000  3.193sec\n"
     ]
    },
    {
     "name": "stdout",
     "output_type": "stream",
     "text": [
      "Epoch 338 tr: l 0.747 a 0.760 clct[np.int64(47), np.int64(53)] clct_ans[np.int64(53), np.int64(47)] cl_acc1.000  lr 0.211118 81.852sec(train) 21.077sec(infer)\n"
     ]
    },
    {
     "name": "stdout",
     "output_type": "stream",
     "text": [
      "Epoch 338 tst: l 0.953 a 0.719 clct[np.int64(20), np.int64(20)] clct_ans[np.int64(20), np.int64(20)] cl_acc1.000  3.196sec\n"
     ]
    },
    {
     "name": "stdout",
     "output_type": "stream",
     "text": [
      "Epoch 339 tr: l 0.767 a 0.755 clct[np.int64(44), np.int64(56)] clct_ans[np.int64(56), np.int64(44)] cl_acc1.000  lr 0.211013 81.861sec(train) 20.900sec(infer)\n"
     ]
    },
    {
     "name": "stdout",
     "output_type": "stream",
     "text": [
      "Epoch 339 tst: l 0.948 a 0.719 clct[np.int64(20), np.int64(20)] clct_ans[np.int64(20), np.int64(20)] cl_acc1.000  3.196sec\n"
     ]
    },
    {
     "name": "stdout",
     "output_type": "stream",
     "text": [
      "Epoch 340 tr: l 0.747 a 0.760 clct[np.int64(45), np.int64(55)] clct_ans[np.int64(55), np.int64(45)] cl_acc1.000  lr 0.210907 75.987sec(train) 20.906sec(infer)\n"
     ]
    },
    {
     "name": "stdout",
     "output_type": "stream",
     "text": [
      "Epoch 340 tst: l 0.951 a 0.722 clct[np.int64(20), np.int64(20)] clct_ans[np.int64(20), np.int64(20)] cl_acc1.000  3.183sec\n",
      "result written at output_dfca_gi/results.pickle\n",
      "checkpoint written at output_dfca_gi/checkpoint.pt\n"
     ]
    },
    {
     "name": "stdout",
     "output_type": "stream",
     "text": [
      "Epoch 341 tr: l 0.737 a 0.763 clct[np.int64(44), np.int64(56)] clct_ans[np.int64(56), np.int64(44)] cl_acc1.000  lr 0.210802 73.651sec(train) 20.909sec(infer)\n"
     ]
    },
    {
     "name": "stdout",
     "output_type": "stream",
     "text": [
      "Epoch 341 tst: l 0.941 a 0.724 clct[np.int64(20), np.int64(20)] clct_ans[np.int64(20), np.int64(20)] cl_acc1.000  3.198sec\n"
     ]
    },
    {
     "name": "stdout",
     "output_type": "stream",
     "text": [
      "Epoch 342 tr: l 0.756 a 0.757 clct[np.int64(53), np.int64(47)] clct_ans[np.int64(47), np.int64(53)] cl_acc1.000  lr 0.210696 72.928sec(train) 20.901sec(infer)\n"
     ]
    },
    {
     "name": "stdout",
     "output_type": "stream",
     "text": [
      "Epoch 342 tst: l 0.950 a 0.720 clct[np.int64(20), np.int64(20)] clct_ans[np.int64(20), np.int64(20)] cl_acc1.000  3.195sec\n"
     ]
    },
    {
     "name": "stdout",
     "output_type": "stream",
     "text": [
      "Epoch 343 tr: l 0.743 a 0.761 clct[np.int64(51), np.int64(49)] clct_ans[np.int64(49), np.int64(51)] cl_acc1.000  lr 0.210591 72.475sec(train) 20.936sec(infer)\n"
     ]
    },
    {
     "name": "stdout",
     "output_type": "stream",
     "text": [
      "Epoch 343 tst: l 0.952 a 0.720 clct[np.int64(20), np.int64(20)] clct_ans[np.int64(20), np.int64(20)] cl_acc1.000  3.197sec\n"
     ]
    },
    {
     "name": "stdout",
     "output_type": "stream",
     "text": [
      "Epoch 344 tr: l 0.734 a 0.764 clct[np.int64(49), np.int64(51)] clct_ans[np.int64(51), np.int64(49)] cl_acc1.000  lr 0.210486 75.403sec(train) 20.889sec(infer)\n"
     ]
    },
    {
     "name": "stdout",
     "output_type": "stream",
     "text": [
      "Epoch 344 tst: l 0.959 a 0.719 clct[np.int64(20), np.int64(20)] clct_ans[np.int64(20), np.int64(20)] cl_acc1.000  3.201sec\n"
     ]
    },
    {
     "name": "stdout",
     "output_type": "stream",
     "text": [
      "Epoch 345 tr: l 0.764 a 0.756 clct[np.int64(43), np.int64(57)] clct_ans[np.int64(57), np.int64(43)] cl_acc1.000  lr 0.210380 73.776sec(train) 20.905sec(infer)\n"
     ]
    },
    {
     "name": "stdout",
     "output_type": "stream",
     "text": [
      "Epoch 345 tst: l 0.947 a 0.720 clct[np.int64(20), np.int64(20)] clct_ans[np.int64(20), np.int64(20)] cl_acc1.000  3.201sec\n"
     ]
    },
    {
     "name": "stdout",
     "output_type": "stream",
     "text": [
      "Epoch 346 tr: l 0.743 a 0.764 clct[np.int64(50), np.int64(50)] clct_ans[np.int64(50), np.int64(50)] cl_acc1.000  lr 0.210275 74.422sec(train) 20.903sec(infer)\n"
     ]
    },
    {
     "name": "stdout",
     "output_type": "stream",
     "text": [
      "Epoch 346 tst: l 0.956 a 0.719 clct[np.int64(20), np.int64(20)] clct_ans[np.int64(20), np.int64(20)] cl_acc1.000  3.212sec\n"
     ]
    },
    {
     "name": "stdout",
     "output_type": "stream",
     "text": [
      "Epoch 347 tr: l 0.749 a 0.760 clct[np.int64(53), np.int64(47)] clct_ans[np.int64(47), np.int64(53)] cl_acc1.000  lr 0.210170 73.117sec(train) 20.944sec(infer)\n"
     ]
    },
    {
     "name": "stdout",
     "output_type": "stream",
     "text": [
      "Epoch 347 tst: l 0.939 a 0.722 clct[np.int64(20), np.int64(20)] clct_ans[np.int64(20), np.int64(20)] cl_acc1.000  3.400sec\n"
     ]
    },
    {
     "name": "stdout",
     "output_type": "stream",
     "text": [
      "Epoch 348 tr: l 0.762 a 0.755 clct[np.int64(49), np.int64(51)] clct_ans[np.int64(51), np.int64(49)] cl_acc1.000  lr 0.210065 74.698sec(train) 20.895sec(infer)\n"
     ]
    },
    {
     "name": "stdout",
     "output_type": "stream",
     "text": [
      "Epoch 348 tst: l 0.938 a 0.722 clct[np.int64(20), np.int64(20)] clct_ans[np.int64(20), np.int64(20)] cl_acc1.000  3.195sec\n"
     ]
    },
    {
     "name": "stdout",
     "output_type": "stream",
     "text": [
      "Epoch 349 tr: l 0.745 a 0.763 clct[np.int64(53), np.int64(47)] clct_ans[np.int64(47), np.int64(53)] cl_acc1.000  lr 0.209960 75.052sec(train) 20.921sec(infer)\n"
     ]
    },
    {
     "name": "stdout",
     "output_type": "stream",
     "text": [
      "Epoch 349 tst: l 0.957 a 0.720 clct[np.int64(20), np.int64(20)] clct_ans[np.int64(20), np.int64(20)] cl_acc1.000  3.203sec\n"
     ]
    },
    {
     "name": "stdout",
     "output_type": "stream",
     "text": [
      "Epoch 350 tr: l 0.766 a 0.759 clct[np.int64(53), np.int64(47)] clct_ans[np.int64(47), np.int64(53)] cl_acc1.000  lr 0.020986 75.854sec(train) 20.915sec(infer)\n"
     ]
    },
    {
     "name": "stdout",
     "output_type": "stream",
     "text": [
      "Epoch 350 tst: l 0.951 a 0.726 clct[np.int64(20), np.int64(20)] clct_ans[np.int64(20), np.int64(20)] cl_acc1.000  3.203sec\n",
      "result written at output_dfca_gi/results.pickle\n",
      "checkpoint written at output_dfca_gi/checkpoint.pt\n"
     ]
    },
    {
     "name": "stdout",
     "output_type": "stream",
     "text": [
      "Epoch 351 tr: l 0.778 a 0.755 clct[np.int64(50), np.int64(50)] clct_ans[np.int64(50), np.int64(50)] cl_acc1.000  lr 0.020975 74.651sec(train) 20.889sec(infer)\n"
     ]
    },
    {
     "name": "stdout",
     "output_type": "stream",
     "text": [
      "Epoch 351 tst: l 0.945 a 0.729 clct[np.int64(20), np.int64(20)] clct_ans[np.int64(20), np.int64(20)] cl_acc1.000  3.190sec\n"
     ]
    },
    {
     "name": "stdout",
     "output_type": "stream",
     "text": [
      "Epoch 352 tr: l 0.775 a 0.758 clct[np.int64(51), np.int64(49)] clct_ans[np.int64(49), np.int64(51)] cl_acc1.000  lr 0.020965 74.963sec(train) 20.883sec(infer)\n"
     ]
    },
    {
     "name": "stdout",
     "output_type": "stream",
     "text": [
      "Epoch 352 tst: l 0.963 a 0.730 clct[np.int64(20), np.int64(20)] clct_ans[np.int64(20), np.int64(20)] cl_acc1.000  3.173sec\n"
     ]
    },
    {
     "name": "stdout",
     "output_type": "stream",
     "text": [
      "Epoch 353 tr: l 0.798 a 0.755 clct[np.int64(53), np.int64(47)] clct_ans[np.int64(47), np.int64(53)] cl_acc1.000  lr 0.020954 74.698sec(train) 20.936sec(infer)\n"
     ]
    },
    {
     "name": "stdout",
     "output_type": "stream",
     "text": [
      "Epoch 353 tst: l 0.971 a 0.730 clct[np.int64(20), np.int64(20)] clct_ans[np.int64(20), np.int64(20)] cl_acc1.000  3.204sec\n"
     ]
    },
    {
     "name": "stdout",
     "output_type": "stream",
     "text": [
      "Epoch 354 tr: l 0.787 a 0.760 clct[np.int64(45), np.int64(55)] clct_ans[np.int64(55), np.int64(45)] cl_acc1.000  lr 0.020944 74.909sec(train) 20.885sec(infer)\n"
     ]
    },
    {
     "name": "stdout",
     "output_type": "stream",
     "text": [
      "Epoch 354 tst: l 0.984 a 0.729 clct[np.int64(20), np.int64(20)] clct_ans[np.int64(20), np.int64(20)] cl_acc1.000  3.200sec\n"
     ]
    },
    {
     "name": "stdout",
     "output_type": "stream",
     "text": [
      "Epoch 355 tr: l 0.805 a 0.755 clct[np.int64(53), np.int64(47)] clct_ans[np.int64(47), np.int64(53)] cl_acc1.000  lr 0.020933 73.705sec(train) 20.956sec(infer)\n"
     ]
    },
    {
     "name": "stdout",
     "output_type": "stream",
     "text": [
      "Epoch 355 tst: l 0.996 a 0.730 clct[np.int64(20), np.int64(20)] clct_ans[np.int64(20), np.int64(20)] cl_acc1.000  3.180sec\n"
     ]
    },
    {
     "name": "stdout",
     "output_type": "stream",
     "text": [
      "Epoch 356 tr: l 0.830 a 0.752 clct[np.int64(53), np.int64(47)] clct_ans[np.int64(47), np.int64(53)] cl_acc1.000  lr 0.020923 75.140sec(train) 20.896sec(infer)\n"
     ]
    },
    {
     "name": "stdout",
     "output_type": "stream",
     "text": [
      "Epoch 356 tst: l 1.003 a 0.731 clct[np.int64(20), np.int64(20)] clct_ans[np.int64(20), np.int64(20)] cl_acc1.000  3.189sec\n"
     ]
    },
    {
     "name": "stdout",
     "output_type": "stream",
     "text": [
      "Epoch 357 tr: l 0.827 a 0.755 clct[np.int64(45), np.int64(55)] clct_ans[np.int64(55), np.int64(45)] cl_acc1.000  lr 0.020912 74.772sec(train) 20.946sec(infer)\n"
     ]
    },
    {
     "name": "stdout",
     "output_type": "stream",
     "text": [
      "Epoch 357 tst: l 1.014 a 0.731 clct[np.int64(20), np.int64(20)] clct_ans[np.int64(20), np.int64(20)] cl_acc1.000  3.186sec\n"
     ]
    },
    {
     "name": "stdout",
     "output_type": "stream",
     "text": [
      "Epoch 358 tr: l 0.833 a 0.754 clct[np.int64(45), np.int64(55)] clct_ans[np.int64(55), np.int64(45)] cl_acc1.000  lr 0.020902 74.402sec(train) 20.874sec(infer)\n"
     ]
    },
    {
     "name": "stdout",
     "output_type": "stream",
     "text": [
      "Epoch 358 tst: l 1.021 a 0.730 clct[np.int64(20), np.int64(20)] clct_ans[np.int64(20), np.int64(20)] cl_acc1.000  3.190sec\n"
     ]
    },
    {
     "name": "stdout",
     "output_type": "stream",
     "text": [
      "Epoch 359 tr: l 0.817 a 0.761 clct[np.int64(46), np.int64(54)] clct_ans[np.int64(54), np.int64(46)] cl_acc1.000  lr 0.020891 74.269sec(train) 20.911sec(infer)\n"
     ]
    },
    {
     "name": "stdout",
     "output_type": "stream",
     "text": [
      "Epoch 359 tst: l 1.028 a 0.730 clct[np.int64(20), np.int64(20)] clct_ans[np.int64(20), np.int64(20)] cl_acc1.000  3.204sec\n"
     ]
    },
    {
     "name": "stdout",
     "output_type": "stream",
     "text": [
      "Epoch 360 tr: l 0.827 a 0.758 clct[np.int64(50), np.int64(50)] clct_ans[np.int64(50), np.int64(50)] cl_acc1.000  lr 0.020881 74.891sec(train) 20.860sec(infer)\n"
     ]
    },
    {
     "name": "stdout",
     "output_type": "stream",
     "text": [
      "Epoch 360 tst: l 1.035 a 0.730 clct[np.int64(20), np.int64(20)] clct_ans[np.int64(20), np.int64(20)] cl_acc1.000  3.201sec\n",
      "result written at output_dfca_gi/results.pickle\n",
      "checkpoint written at output_dfca_gi/checkpoint.pt\n"
     ]
    },
    {
     "name": "stdout",
     "output_type": "stream",
     "text": [
      "Epoch 361 tr: l 0.827 a 0.760 clct[np.int64(55), np.int64(45)] clct_ans[np.int64(45), np.int64(55)] cl_acc1.000  lr 0.020870 74.314sec(train) 20.860sec(infer)\n"
     ]
    },
    {
     "name": "stdout",
     "output_type": "stream",
     "text": [
      "Epoch 361 tst: l 1.041 a 0.731 clct[np.int64(20), np.int64(20)] clct_ans[np.int64(20), np.int64(20)] cl_acc1.000  3.199sec\n"
     ]
    },
    {
     "name": "stdout",
     "output_type": "stream",
     "text": [
      "Epoch 362 tr: l 0.840 a 0.759 clct[np.int64(53), np.int64(47)] clct_ans[np.int64(47), np.int64(53)] cl_acc1.000  lr 0.020860 75.307sec(train) 20.789sec(infer)\n"
     ]
    },
    {
     "name": "stdout",
     "output_type": "stream",
     "text": [
      "Epoch 362 tst: l 1.049 a 0.732 clct[np.int64(20), np.int64(20)] clct_ans[np.int64(20), np.int64(20)] cl_acc1.000  3.206sec\n"
     ]
    },
    {
     "name": "stdout",
     "output_type": "stream",
     "text": [
      "Epoch 363 tr: l 0.842 a 0.760 clct[np.int64(52), np.int64(48)] clct_ans[np.int64(48), np.int64(52)] cl_acc1.000  lr 0.020850 81.382sec(train) 20.858sec(infer)\n"
     ]
    },
    {
     "name": "stdout",
     "output_type": "stream",
     "text": [
      "Epoch 363 tst: l 1.057 a 0.732 clct[np.int64(20), np.int64(20)] clct_ans[np.int64(20), np.int64(20)] cl_acc1.000  3.199sec\n"
     ]
    },
    {
     "name": "stdout",
     "output_type": "stream",
     "text": [
      "Epoch 364 tr: l 0.854 a 0.757 clct[np.int64(57), np.int64(43)] clct_ans[np.int64(43), np.int64(57)] cl_acc1.000  lr 0.020839 81.843sec(train) 20.834sec(infer)\n"
     ]
    },
    {
     "name": "stdout",
     "output_type": "stream",
     "text": [
      "Epoch 364 tst: l 1.064 a 0.732 clct[np.int64(20), np.int64(20)] clct_ans[np.int64(20), np.int64(20)] cl_acc1.000  3.188sec\n"
     ]
    },
    {
     "name": "stdout",
     "output_type": "stream",
     "text": [
      "Epoch 365 tr: l 0.851 a 0.759 clct[np.int64(53), np.int64(47)] clct_ans[np.int64(47), np.int64(53)] cl_acc1.000  lr 0.020829 81.999sec(train) 20.917sec(infer)\n"
     ]
    },
    {
     "name": "stdout",
     "output_type": "stream",
     "text": [
      "Epoch 365 tst: l 1.070 a 0.732 clct[np.int64(20), np.int64(20)] clct_ans[np.int64(20), np.int64(20)] cl_acc1.000  3.198sec\n"
     ]
    },
    {
     "name": "stdout",
     "output_type": "stream",
     "text": [
      "Epoch 366 tr: l 0.856 a 0.758 clct[np.int64(48), np.int64(52)] clct_ans[np.int64(52), np.int64(48)] cl_acc1.000  lr 0.020818 81.508sec(train) 21.152sec(infer)\n"
     ]
    },
    {
     "name": "stdout",
     "output_type": "stream",
     "text": [
      "Epoch 366 tst: l 1.078 a 0.732 clct[np.int64(20), np.int64(20)] clct_ans[np.int64(20), np.int64(20)] cl_acc1.000  3.188sec\n"
     ]
    },
    {
     "name": "stdout",
     "output_type": "stream",
     "text": [
      "Epoch 367 tr: l 0.867 a 0.758 clct[np.int64(53), np.int64(47)] clct_ans[np.int64(47), np.int64(53)] cl_acc1.000  lr 0.020808 82.012sec(train) 20.919sec(infer)\n"
     ]
    },
    {
     "name": "stdout",
     "output_type": "stream",
     "text": [
      "Epoch 367 tst: l 1.079 a 0.731 clct[np.int64(20), np.int64(20)] clct_ans[np.int64(20), np.int64(20)] cl_acc1.000  3.195sec\n"
     ]
    },
    {
     "name": "stdout",
     "output_type": "stream",
     "text": [
      "Epoch 368 tr: l 0.869 a 0.757 clct[np.int64(51), np.int64(49)] clct_ans[np.int64(49), np.int64(51)] cl_acc1.000  lr 0.020797 76.402sec(train) 20.928sec(infer)\n"
     ]
    },
    {
     "name": "stdout",
     "output_type": "stream",
     "text": [
      "Epoch 368 tst: l 1.083 a 0.732 clct[np.int64(20), np.int64(20)] clct_ans[np.int64(20), np.int64(20)] cl_acc1.000  3.199sec\n"
     ]
    },
    {
     "name": "stdout",
     "output_type": "stream",
     "text": [
      "Epoch 369 tr: l 0.888 a 0.753 clct[np.int64(48), np.int64(52)] clct_ans[np.int64(52), np.int64(48)] cl_acc1.000  lr 0.020787 75.316sec(train) 20.935sec(infer)\n"
     ]
    },
    {
     "name": "stdout",
     "output_type": "stream",
     "text": [
      "Epoch 369 tst: l 1.090 a 0.732 clct[np.int64(20), np.int64(20)] clct_ans[np.int64(20), np.int64(20)] cl_acc1.000  3.200sec\n"
     ]
    },
    {
     "name": "stdout",
     "output_type": "stream",
     "text": [
      "Epoch 370 tr: l 0.873 a 0.755 clct[np.int64(51), np.int64(49)] clct_ans[np.int64(49), np.int64(51)] cl_acc1.000  lr 0.020777 73.422sec(train) 20.920sec(infer)\n"
     ]
    },
    {
     "name": "stdout",
     "output_type": "stream",
     "text": [
      "Epoch 370 tst: l 1.097 a 0.732 clct[np.int64(20), np.int64(20)] clct_ans[np.int64(20), np.int64(20)] cl_acc1.000  3.185sec\n",
      "result written at output_dfca_gi/results.pickle\n"
     ]
    },
    {
     "name": "stdout",
     "output_type": "stream",
     "text": [
      "checkpoint written at output_dfca_gi/checkpoint.pt\n"
     ]
    },
    {
     "name": "stdout",
     "output_type": "stream",
     "text": [
      "Epoch 371 tr: l 0.884 a 0.757 clct[np.int64(47), np.int64(53)] clct_ans[np.int64(53), np.int64(47)] cl_acc1.000  lr 0.020766 75.126sec(train) 20.898sec(infer)\n"
     ]
    },
    {
     "name": "stdout",
     "output_type": "stream",
     "text": [
      "Epoch 371 tst: l 1.098 a 0.732 clct[np.int64(20), np.int64(20)] clct_ans[np.int64(20), np.int64(20)] cl_acc1.000  3.195sec\n"
     ]
    },
    {
     "name": "stdout",
     "output_type": "stream",
     "text": [
      "Epoch 372 tr: l 0.862 a 0.762 clct[np.int64(56), np.int64(44)] clct_ans[np.int64(44), np.int64(56)] cl_acc1.000  lr 0.020756 73.856sec(train) 20.895sec(infer)\n"
     ]
    },
    {
     "name": "stdout",
     "output_type": "stream",
     "text": [
      "Epoch 372 tst: l 1.104 a 0.732 clct[np.int64(20), np.int64(20)] clct_ans[np.int64(20), np.int64(20)] cl_acc1.000  3.189sec\n"
     ]
    },
    {
     "name": "stdout",
     "output_type": "stream",
     "text": [
      "Epoch 373 tr: l 0.853 a 0.764 clct[np.int64(49), np.int64(51)] clct_ans[np.int64(51), np.int64(49)] cl_acc1.000  lr 0.020745 75.927sec(train) 20.839sec(infer)\n"
     ]
    },
    {
     "name": "stdout",
     "output_type": "stream",
     "text": [
      "Epoch 373 tst: l 1.115 a 0.731 clct[np.int64(20), np.int64(20)] clct_ans[np.int64(20), np.int64(20)] cl_acc1.000  3.192sec\n"
     ]
    },
    {
     "name": "stdout",
     "output_type": "stream",
     "text": [
      "Epoch 374 tr: l 0.858 a 0.764 clct[np.int64(56), np.int64(44)] clct_ans[np.int64(44), np.int64(56)] cl_acc1.000  lr 0.020735 73.116sec(train) 20.835sec(infer)\n"
     ]
    },
    {
     "name": "stdout",
     "output_type": "stream",
     "text": [
      "Epoch 374 tst: l 1.116 a 0.731 clct[np.int64(20), np.int64(20)] clct_ans[np.int64(20), np.int64(20)] cl_acc1.000  3.201sec\n"
     ]
    },
    {
     "name": "stdout",
     "output_type": "stream",
     "text": [
      "Epoch 375 tr: l 0.888 a 0.756 clct[np.int64(49), np.int64(51)] clct_ans[np.int64(51), np.int64(49)] cl_acc1.000  lr 0.020725 76.307sec(train) 20.797sec(infer)\n"
     ]
    },
    {
     "name": "stdout",
     "output_type": "stream",
     "text": [
      "Epoch 375 tst: l 1.119 a 0.731 clct[np.int64(20), np.int64(20)] clct_ans[np.int64(20), np.int64(20)] cl_acc1.000  3.195sec\n"
     ]
    },
    {
     "name": "stdout",
     "output_type": "stream",
     "text": [
      "Epoch 376 tr: l 0.880 a 0.760 clct[np.int64(53), np.int64(47)] clct_ans[np.int64(47), np.int64(53)] cl_acc1.000  lr 0.020714 74.221sec(train) 20.836sec(infer)\n"
     ]
    },
    {
     "name": "stdout",
     "output_type": "stream",
     "text": [
      "Epoch 376 tst: l 1.118 a 0.732 clct[np.int64(20), np.int64(20)] clct_ans[np.int64(20), np.int64(20)] cl_acc1.000  3.195sec\n"
     ]
    },
    {
     "name": "stdout",
     "output_type": "stream",
     "text": [
      "Epoch 377 tr: l 0.880 a 0.757 clct[np.int64(46), np.int64(54)] clct_ans[np.int64(54), np.int64(46)] cl_acc1.000  lr 0.020704 74.218sec(train) 20.808sec(infer)\n"
     ]
    },
    {
     "name": "stdout",
     "output_type": "stream",
     "text": [
      "Epoch 377 tst: l 1.121 a 0.732 clct[np.int64(20), np.int64(20)] clct_ans[np.int64(20), np.int64(20)] cl_acc1.000  3.162sec\n"
     ]
    },
    {
     "name": "stdout",
     "output_type": "stream",
     "text": [
      "Epoch 378 tr: l 0.904 a 0.756 clct[np.int64(50), np.int64(50)] clct_ans[np.int64(50), np.int64(50)] cl_acc1.000  lr 0.020694 72.917sec(train) 20.773sec(infer)\n"
     ]
    },
    {
     "name": "stdout",
     "output_type": "stream",
     "text": [
      "Epoch 378 tst: l 1.121 a 0.732 clct[np.int64(20), np.int64(20)] clct_ans[np.int64(20), np.int64(20)] cl_acc1.000  3.140sec\n"
     ]
    },
    {
     "name": "stdout",
     "output_type": "stream",
     "text": [
      "Epoch 379 tr: l 0.881 a 0.762 clct[np.int64(48), np.int64(52)] clct_ans[np.int64(52), np.int64(48)] cl_acc1.000  lr 0.020683 75.508sec(train) 20.796sec(infer)\n"
     ]
    },
    {
     "name": "stdout",
     "output_type": "stream",
     "text": [
      "Epoch 379 tst: l 1.125 a 0.731 clct[np.int64(20), np.int64(20)] clct_ans[np.int64(20), np.int64(20)] cl_acc1.000  3.141sec\n"
     ]
    },
    {
     "name": "stdout",
     "output_type": "stream",
     "text": [
      "Epoch 380 tr: l 0.895 a 0.757 clct[np.int64(51), np.int64(49)] clct_ans[np.int64(49), np.int64(51)] cl_acc1.000  lr 0.020673 73.637sec(train) 20.850sec(infer)\n"
     ]
    },
    {
     "name": "stdout",
     "output_type": "stream",
     "text": [
      "Epoch 380 tst: l 1.131 a 0.730 clct[np.int64(20), np.int64(20)] clct_ans[np.int64(20), np.int64(20)] cl_acc1.000  3.135sec\n",
      "result written at output_dfca_gi/results.pickle\n"
     ]
    },
    {
     "name": "stdout",
     "output_type": "stream",
     "text": [
      "checkpoint written at output_dfca_gi/checkpoint.pt\n"
     ]
    },
    {
     "name": "stdout",
     "output_type": "stream",
     "text": [
      "Epoch 381 tr: l 0.900 a 0.758 clct[np.int64(45), np.int64(55)] clct_ans[np.int64(55), np.int64(45)] cl_acc1.000  lr 0.020663 73.939sec(train) 20.858sec(infer)\n"
     ]
    },
    {
     "name": "stdout",
     "output_type": "stream",
     "text": [
      "Epoch 381 tst: l 1.132 a 0.731 clct[np.int64(20), np.int64(20)] clct_ans[np.int64(20), np.int64(20)] cl_acc1.000  3.135sec\n"
     ]
    },
    {
     "name": "stdout",
     "output_type": "stream",
     "text": [
      "Epoch 382 tr: l 0.878 a 0.762 clct[np.int64(49), np.int64(51)] clct_ans[np.int64(51), np.int64(49)] cl_acc1.000  lr 0.020652 74.107sec(train) 20.884sec(infer)\n"
     ]
    },
    {
     "name": "stdout",
     "output_type": "stream",
     "text": [
      "Epoch 382 tst: l 1.136 a 0.732 clct[np.int64(20), np.int64(20)] clct_ans[np.int64(20), np.int64(20)] cl_acc1.000  3.147sec\n"
     ]
    },
    {
     "name": "stdout",
     "output_type": "stream",
     "text": [
      "Epoch 383 tr: l 0.893 a 0.760 clct[np.int64(45), np.int64(55)] clct_ans[np.int64(55), np.int64(45)] cl_acc1.000  lr 0.020642 73.793sec(train) 20.914sec(infer)\n"
     ]
    },
    {
     "name": "stdout",
     "output_type": "stream",
     "text": [
      "Epoch 383 tst: l 1.137 a 0.732 clct[np.int64(20), np.int64(20)] clct_ans[np.int64(20), np.int64(20)] cl_acc1.000  3.179sec\n"
     ]
    },
    {
     "name": "stdout",
     "output_type": "stream",
     "text": [
      "Epoch 384 tr: l 0.881 a 0.762 clct[np.int64(52), np.int64(48)] clct_ans[np.int64(48), np.int64(52)] cl_acc1.000  lr 0.020632 73.889sec(train) 20.884sec(infer)\n"
     ]
    },
    {
     "name": "stdout",
     "output_type": "stream",
     "text": [
      "Epoch 384 tst: l 1.138 a 0.733 clct[np.int64(20), np.int64(20)] clct_ans[np.int64(20), np.int64(20)] cl_acc1.000  3.208sec\n"
     ]
    },
    {
     "name": "stdout",
     "output_type": "stream",
     "text": [
      "Epoch 385 tr: l 0.894 a 0.764 clct[np.int64(50), np.int64(50)] clct_ans[np.int64(50), np.int64(50)] cl_acc1.000  lr 0.020621 73.989sec(train) 21.147sec(infer)\n"
     ]
    },
    {
     "name": "stdout",
     "output_type": "stream",
     "text": [
      "Epoch 385 tst: l 1.139 a 0.733 clct[np.int64(20), np.int64(20)] clct_ans[np.int64(20), np.int64(20)] cl_acc1.000  3.194sec\n"
     ]
    },
    {
     "name": "stdout",
     "output_type": "stream",
     "text": [
      "Epoch 386 tr: l 0.890 a 0.760 clct[np.int64(53), np.int64(47)] clct_ans[np.int64(47), np.int64(53)] cl_acc1.000  lr 0.020611 74.015sec(train) 20.889sec(infer)\n"
     ]
    },
    {
     "name": "stdout",
     "output_type": "stream",
     "text": [
      "Epoch 386 tst: l 1.142 a 0.733 clct[np.int64(20), np.int64(20)] clct_ans[np.int64(20), np.int64(20)] cl_acc1.000  3.195sec\n"
     ]
    },
    {
     "name": "stdout",
     "output_type": "stream",
     "text": [
      "Epoch 387 tr: l 0.901 a 0.759 clct[np.int64(48), np.int64(52)] clct_ans[np.int64(52), np.int64(48)] cl_acc1.000  lr 0.020601 73.378sec(train) 20.963sec(infer)\n"
     ]
    },
    {
     "name": "stdout",
     "output_type": "stream",
     "text": [
      "Epoch 387 tst: l 1.150 a 0.732 clct[np.int64(20), np.int64(20)] clct_ans[np.int64(20), np.int64(20)] cl_acc1.000  3.195sec\n"
     ]
    },
    {
     "name": "stdout",
     "output_type": "stream",
     "text": [
      "Epoch 388 tr: l 0.881 a 0.764 clct[np.int64(52), np.int64(48)] clct_ans[np.int64(48), np.int64(52)] cl_acc1.000  lr 0.020590 74.527sec(train) 20.912sec(infer)\n"
     ]
    },
    {
     "name": "stdout",
     "output_type": "stream",
     "text": [
      "Epoch 388 tst: l 1.149 a 0.732 clct[np.int64(20), np.int64(20)] clct_ans[np.int64(20), np.int64(20)] cl_acc1.000  3.192sec\n"
     ]
    },
    {
     "name": "stdout",
     "output_type": "stream",
     "text": [
      "Epoch 389 tr: l 0.897 a 0.760 clct[np.int64(50), np.int64(50)] clct_ans[np.int64(50), np.int64(50)] cl_acc1.000  lr 0.020580 79.704sec(train) 20.914sec(infer)\n"
     ]
    },
    {
     "name": "stdout",
     "output_type": "stream",
     "text": [
      "Epoch 389 tst: l 1.157 a 0.731 clct[np.int64(20), np.int64(20)] clct_ans[np.int64(20), np.int64(20)] cl_acc1.000  3.182sec\n"
     ]
    },
    {
     "name": "stdout",
     "output_type": "stream",
     "text": [
      "Epoch 390 tr: l 0.903 a 0.762 clct[np.int64(41), np.int64(59)] clct_ans[np.int64(59), np.int64(41)] cl_acc1.000  lr 0.020570 81.301sec(train) 20.907sec(infer)\n"
     ]
    },
    {
     "name": "stdout",
     "output_type": "stream",
     "text": [
      "Epoch 390 tst: l 1.155 a 0.731 clct[np.int64(20), np.int64(20)] clct_ans[np.int64(20), np.int64(20)] cl_acc1.000  3.179sec\n",
      "result written at output_dfca_gi/results.pickle\n"
     ]
    },
    {
     "name": "stdout",
     "output_type": "stream",
     "text": [
      "checkpoint written at output_dfca_gi/checkpoint.pt\n"
     ]
    },
    {
     "name": "stdout",
     "output_type": "stream",
     "text": [
      "Epoch 391 tr: l 0.906 a 0.759 clct[np.int64(48), np.int64(52)] clct_ans[np.int64(52), np.int64(48)] cl_acc1.000  lr 0.020560 81.941sec(train) 20.923sec(infer)\n"
     ]
    },
    {
     "name": "stdout",
     "output_type": "stream",
     "text": [
      "Epoch 391 tst: l 1.166 a 0.731 clct[np.int64(20), np.int64(20)] clct_ans[np.int64(20), np.int64(20)] cl_acc1.000  3.184sec\n"
     ]
    },
    {
     "name": "stdout",
     "output_type": "stream",
     "text": [
      "Epoch 392 tr: l 0.884 a 0.766 clct[np.int64(50), np.int64(50)] clct_ans[np.int64(50), np.int64(50)] cl_acc1.000  lr 0.020549 81.535sec(train) 20.934sec(infer)\n"
     ]
    },
    {
     "name": "stdout",
     "output_type": "stream",
     "text": [
      "Epoch 392 tst: l 1.164 a 0.732 clct[np.int64(20), np.int64(20)] clct_ans[np.int64(20), np.int64(20)] cl_acc1.000  3.184sec\n"
     ]
    },
    {
     "name": "stdout",
     "output_type": "stream",
     "text": [
      "Epoch 393 tr: l 0.903 a 0.759 clct[np.int64(49), np.int64(51)] clct_ans[np.int64(51), np.int64(49)] cl_acc1.000  lr 0.020539 81.334sec(train) 20.893sec(infer)\n"
     ]
    },
    {
     "name": "stdout",
     "output_type": "stream",
     "text": [
      "Epoch 393 tst: l 1.160 a 0.732 clct[np.int64(20), np.int64(20)] clct_ans[np.int64(20), np.int64(20)] cl_acc1.000  3.173sec\n"
     ]
    },
    {
     "name": "stdout",
     "output_type": "stream",
     "text": [
      "Epoch 394 tr: l 0.891 a 0.762 clct[np.int64(47), np.int64(53)] clct_ans[np.int64(53), np.int64(47)] cl_acc1.000  lr 0.020529 81.315sec(train) 20.944sec(infer)\n"
     ]
    },
    {
     "name": "stdout",
     "output_type": "stream",
     "text": [
      "Epoch 394 tst: l 1.168 a 0.732 clct[np.int64(20), np.int64(20)] clct_ans[np.int64(20), np.int64(20)] cl_acc1.000  3.347sec\n"
     ]
    },
    {
     "name": "stdout",
     "output_type": "stream",
     "text": [
      "Epoch 395 tr: l 0.888 a 0.765 clct[np.int64(50), np.int64(50)] clct_ans[np.int64(50), np.int64(50)] cl_acc1.000  lr 0.020518 81.930sec(train) 20.878sec(infer)\n"
     ]
    },
    {
     "name": "stdout",
     "output_type": "stream",
     "text": [
      "Epoch 395 tst: l 1.169 a 0.732 clct[np.int64(20), np.int64(20)] clct_ans[np.int64(20), np.int64(20)] cl_acc1.000  3.133sec\n"
     ]
    },
    {
     "name": "stdout",
     "output_type": "stream",
     "text": [
      "Epoch 396 tr: l 0.899 a 0.762 clct[np.int64(53), np.int64(47)] clct_ans[np.int64(47), np.int64(53)] cl_acc1.000  lr 0.020508 73.509sec(train) 20.915sec(infer)\n"
     ]
    },
    {
     "name": "stdout",
     "output_type": "stream",
     "text": [
      "Epoch 396 tst: l 1.171 a 0.730 clct[np.int64(20), np.int64(20)] clct_ans[np.int64(20), np.int64(20)] cl_acc1.000  3.138sec\n"
     ]
    },
    {
     "name": "stdout",
     "output_type": "stream",
     "text": [
      "Epoch 397 tr: l 0.897 a 0.763 clct[np.int64(51), np.int64(49)] clct_ans[np.int64(49), np.int64(51)] cl_acc1.000  lr 0.020498 75.273sec(train) 20.901sec(infer)\n"
     ]
    },
    {
     "name": "stdout",
     "output_type": "stream",
     "text": [
      "Epoch 397 tst: l 1.171 a 0.731 clct[np.int64(20), np.int64(20)] clct_ans[np.int64(20), np.int64(20)] cl_acc1.000  3.149sec\n"
     ]
    },
    {
     "name": "stdout",
     "output_type": "stream",
     "text": [
      "Epoch 398 tr: l 0.908 a 0.760 clct[np.int64(51), np.int64(49)] clct_ans[np.int64(49), np.int64(51)] cl_acc1.000  lr 0.020488 74.870sec(train) 20.924sec(infer)\n"
     ]
    },
    {
     "name": "stdout",
     "output_type": "stream",
     "text": [
      "Epoch 398 tst: l 1.171 a 0.730 clct[np.int64(20), np.int64(20)] clct_ans[np.int64(20), np.int64(20)] cl_acc1.000  3.157sec\n"
     ]
    },
    {
     "name": "stdout",
     "output_type": "stream",
     "text": [
      "Epoch 399 tr: l 0.908 a 0.760 clct[np.int64(47), np.int64(53)] clct_ans[np.int64(53), np.int64(47)] cl_acc1.000  lr 0.020477 74.513sec(train) 20.888sec(infer)\n"
     ]
    },
    {
     "name": "stdout",
     "output_type": "stream",
     "text": [
      "Epoch 399 tst: l 1.174 a 0.730 clct[np.int64(20), np.int64(20)] clct_ans[np.int64(20), np.int64(20)] cl_acc1.000  3.195sec\n"
     ]
    },
    {
     "name": "stdout",
     "output_type": "stream",
     "text": [
      "Epoch 400 tr: l 0.890 a 0.766 clct[np.int64(46), np.int64(54)] clct_ans[np.int64(54), np.int64(46)] cl_acc1.000  lr 0.020467 74.132sec(train) 20.918sec(infer)\n"
     ]
    },
    {
     "name": "stdout",
     "output_type": "stream",
     "text": [
      "Epoch 400 tst: l 1.172 a 0.733 clct[np.int64(20), np.int64(20)] clct_ans[np.int64(20), np.int64(20)] cl_acc1.000  3.201sec\n",
      "result written at output_dfca_gi/results.pickle\n",
      "checkpoint written at output_dfca_gi/checkpoint.pt\n"
     ]
    },
    {
     "name": "stdout",
     "output_type": "stream",
     "text": [
      "Epoch 401 tr: l 0.912 a 0.761 clct[np.int64(48), np.int64(52)] clct_ans[np.int64(52), np.int64(48)] cl_acc1.000  lr 0.020457 75.848sec(train) 20.890sec(infer)\n"
     ]
    },
    {
     "name": "stdout",
     "output_type": "stream",
     "text": [
      "Epoch 401 tst: l 1.178 a 0.732 clct[np.int64(20), np.int64(20)] clct_ans[np.int64(20), np.int64(20)] cl_acc1.000  3.197sec\n"
     ]
    },
    {
     "name": "stdout",
     "output_type": "stream",
     "text": [
      "Epoch 402 tr: l 0.911 a 0.760 clct[np.int64(50), np.int64(50)] clct_ans[np.int64(50), np.int64(50)] cl_acc1.000  lr 0.020447 79.057sec(train) 20.937sec(infer)\n"
     ]
    },
    {
     "name": "stdout",
     "output_type": "stream",
     "text": [
      "Epoch 402 tst: l 1.182 a 0.732 clct[np.int64(20), np.int64(20)] clct_ans[np.int64(20), np.int64(20)] cl_acc1.000  3.198sec\n"
     ]
    },
    {
     "name": "stdout",
     "output_type": "stream",
     "text": [
      "Epoch 403 tr: l 0.921 a 0.757 clct[np.int64(54), np.int64(46)] clct_ans[np.int64(46), np.int64(54)] cl_acc1.000  lr 0.020437 81.816sec(train) 20.919sec(infer)\n"
     ]
    },
    {
     "name": "stdout",
     "output_type": "stream",
     "text": [
      "Epoch 403 tst: l 1.184 a 0.731 clct[np.int64(20), np.int64(20)] clct_ans[np.int64(20), np.int64(20)] cl_acc1.000  3.184sec\n"
     ]
    },
    {
     "name": "stdout",
     "output_type": "stream",
     "text": [
      "Epoch 404 tr: l 0.911 a 0.761 clct[np.int64(47), np.int64(53)] clct_ans[np.int64(53), np.int64(47)] cl_acc1.000  lr 0.020426 82.195sec(train) 20.900sec(infer)\n"
     ]
    },
    {
     "name": "stdout",
     "output_type": "stream",
     "text": [
      "Epoch 404 tst: l 1.184 a 0.730 clct[np.int64(20), np.int64(20)] clct_ans[np.int64(20), np.int64(20)] cl_acc1.000  3.191sec\n"
     ]
    },
    {
     "name": "stdout",
     "output_type": "stream",
     "text": [
      "Epoch 405 tr: l 0.911 a 0.763 clct[np.int64(51), np.int64(49)] clct_ans[np.int64(49), np.int64(51)] cl_acc1.000  lr 0.020416 76.635sec(train) 20.935sec(infer)\n"
     ]
    },
    {
     "name": "stdout",
     "output_type": "stream",
     "text": [
      "Epoch 405 tst: l 1.184 a 0.730 clct[np.int64(20), np.int64(20)] clct_ans[np.int64(20), np.int64(20)] cl_acc1.000  3.190sec\n"
     ]
    },
    {
     "name": "stdout",
     "output_type": "stream",
     "text": [
      "Epoch 406 tr: l 0.896 a 0.762 clct[np.int64(51), np.int64(49)] clct_ans[np.int64(49), np.int64(51)] cl_acc1.000  lr 0.020406 81.469sec(train) 20.901sec(infer)\n"
     ]
    },
    {
     "name": "stdout",
     "output_type": "stream",
     "text": [
      "Epoch 406 tst: l 1.183 a 0.731 clct[np.int64(20), np.int64(20)] clct_ans[np.int64(20), np.int64(20)] cl_acc1.000  3.156sec\n"
     ]
    },
    {
     "name": "stdout",
     "output_type": "stream",
     "text": [
      "Epoch 407 tr: l 0.933 a 0.758 clct[np.int64(44), np.int64(56)] clct_ans[np.int64(56), np.int64(44)] cl_acc1.000  lr 0.020396 81.400sec(train) 20.917sec(infer)\n"
     ]
    },
    {
     "name": "stdout",
     "output_type": "stream",
     "text": [
      "Epoch 407 tst: l 1.189 a 0.731 clct[np.int64(20), np.int64(20)] clct_ans[np.int64(20), np.int64(20)] cl_acc1.000  3.146sec\n"
     ]
    },
    {
     "name": "stdout",
     "output_type": "stream",
     "text": [
      "Epoch 408 tr: l 0.900 a 0.764 clct[np.int64(54), np.int64(46)] clct_ans[np.int64(46), np.int64(54)] cl_acc1.000  lr 0.020386 81.130sec(train) 20.850sec(infer)\n"
     ]
    },
    {
     "name": "stdout",
     "output_type": "stream",
     "text": [
      "Epoch 408 tst: l 1.190 a 0.732 clct[np.int64(20), np.int64(20)] clct_ans[np.int64(20), np.int64(20)] cl_acc1.000  3.139sec\n"
     ]
    },
    {
     "name": "stdout",
     "output_type": "stream",
     "text": [
      "Epoch 409 tr: l 0.919 a 0.758 clct[np.int64(51), np.int64(49)] clct_ans[np.int64(49), np.int64(51)] cl_acc1.000  lr 0.020375 77.571sec(train) 20.881sec(infer)\n"
     ]
    },
    {
     "name": "stdout",
     "output_type": "stream",
     "text": [
      "Epoch 409 tst: l 1.188 a 0.732 clct[np.int64(20), np.int64(20)] clct_ans[np.int64(20), np.int64(20)] cl_acc1.000  3.129sec\n"
     ]
    },
    {
     "name": "stdout",
     "output_type": "stream",
     "text": [
      "Epoch 410 tr: l 0.919 a 0.760 clct[np.int64(57), np.int64(43)] clct_ans[np.int64(43), np.int64(57)] cl_acc1.000  lr 0.020365 81.125sec(train) 20.865sec(infer)\n"
     ]
    },
    {
     "name": "stdout",
     "output_type": "stream",
     "text": [
      "Epoch 410 tst: l 1.192 a 0.731 clct[np.int64(20), np.int64(20)] clct_ans[np.int64(20), np.int64(20)] cl_acc1.000  3.144sec\n",
      "result written at output_dfca_gi/results.pickle\n"
     ]
    },
    {
     "name": "stdout",
     "output_type": "stream",
     "text": [
      "checkpoint written at output_dfca_gi/checkpoint.pt\n"
     ]
    },
    {
     "name": "stdout",
     "output_type": "stream",
     "text": [
      "Epoch 411 tr: l 0.931 a 0.758 clct[np.int64(50), np.int64(50)] clct_ans[np.int64(50), np.int64(50)] cl_acc1.000  lr 0.020355 81.396sec(train) 20.831sec(infer)\n"
     ]
    },
    {
     "name": "stdout",
     "output_type": "stream",
     "text": [
      "Epoch 411 tst: l 1.192 a 0.732 clct[np.int64(20), np.int64(20)] clct_ans[np.int64(20), np.int64(20)] cl_acc1.000  3.140sec\n"
     ]
    },
    {
     "name": "stdout",
     "output_type": "stream",
     "text": [
      "Epoch 412 tr: l 0.914 a 0.762 clct[np.int64(53), np.int64(47)] clct_ans[np.int64(47), np.int64(53)] cl_acc1.000  lr 0.020345 80.547sec(train) 20.843sec(infer)\n"
     ]
    },
    {
     "name": "stdout",
     "output_type": "stream",
     "text": [
      "Epoch 412 tst: l 1.194 a 0.732 clct[np.int64(20), np.int64(20)] clct_ans[np.int64(20), np.int64(20)] cl_acc1.000  3.146sec\n"
     ]
    },
    {
     "name": "stdout",
     "output_type": "stream",
     "text": [
      "Epoch 413 tr: l 0.924 a 0.759 clct[np.int64(50), np.int64(50)] clct_ans[np.int64(50), np.int64(50)] cl_acc1.000  lr 0.020335 75.800sec(train) 21.053sec(infer)\n"
     ]
    },
    {
     "name": "stdout",
     "output_type": "stream",
     "text": [
      "Epoch 413 tst: l 1.195 a 0.734 clct[np.int64(20), np.int64(20)] clct_ans[np.int64(20), np.int64(20)] cl_acc1.000  3.143sec\n"
     ]
    },
    {
     "name": "stdout",
     "output_type": "stream",
     "text": [
      "Epoch 414 tr: l 0.921 a 0.761 clct[np.int64(48), np.int64(52)] clct_ans[np.int64(52), np.int64(48)] cl_acc1.000  lr 0.020324 81.611sec(train) 20.847sec(infer)\n"
     ]
    },
    {
     "name": "stdout",
     "output_type": "stream",
     "text": [
      "Epoch 414 tst: l 1.196 a 0.733 clct[np.int64(20), np.int64(20)] clct_ans[np.int64(20), np.int64(20)] cl_acc1.000  3.135sec\n"
     ]
    },
    {
     "name": "stdout",
     "output_type": "stream",
     "text": [
      "Epoch 415 tr: l 0.929 a 0.760 clct[np.int64(52), np.int64(48)] clct_ans[np.int64(48), np.int64(52)] cl_acc1.000  lr 0.020314 81.717sec(train) 20.845sec(infer)\n"
     ]
    },
    {
     "name": "stdout",
     "output_type": "stream",
     "text": [
      "Epoch 415 tst: l 1.191 a 0.733 clct[np.int64(20), np.int64(20)] clct_ans[np.int64(20), np.int64(20)] cl_acc1.000  3.141sec\n"
     ]
    },
    {
     "name": "stdout",
     "output_type": "stream",
     "text": [
      "Epoch 416 tr: l 0.911 a 0.764 clct[np.int64(50), np.int64(50)] clct_ans[np.int64(50), np.int64(50)] cl_acc1.000  lr 0.020304 81.763sec(train) 20.803sec(infer)\n"
     ]
    },
    {
     "name": "stdout",
     "output_type": "stream",
     "text": [
      "Epoch 416 tst: l 1.199 a 0.732 clct[np.int64(20), np.int64(20)] clct_ans[np.int64(20), np.int64(20)] cl_acc1.000  3.192sec\n"
     ]
    },
    {
     "name": "stdout",
     "output_type": "stream",
     "text": [
      "Epoch 417 tr: l 0.924 a 0.761 clct[np.int64(50), np.int64(50)] clct_ans[np.int64(50), np.int64(50)] cl_acc1.000  lr 0.020294 82.098sec(train) 20.867sec(infer)\n"
     ]
    },
    {
     "name": "stdout",
     "output_type": "stream",
     "text": [
      "Epoch 417 tst: l 1.204 a 0.732 clct[np.int64(20), np.int64(20)] clct_ans[np.int64(20), np.int64(20)] cl_acc1.000  3.193sec\n"
     ]
    },
    {
     "name": "stdout",
     "output_type": "stream",
     "text": [
      "Epoch 418 tr: l 0.907 a 0.765 clct[np.int64(53), np.int64(47)] clct_ans[np.int64(47), np.int64(53)] cl_acc1.000  lr 0.020284 80.765sec(train) 20.819sec(infer)\n"
     ]
    },
    {
     "name": "stdout",
     "output_type": "stream",
     "text": [
      "Epoch 418 tst: l 1.204 a 0.733 clct[np.int64(20), np.int64(20)] clct_ans[np.int64(20), np.int64(20)] cl_acc1.000  3.201sec\n"
     ]
    },
    {
     "name": "stdout",
     "output_type": "stream",
     "text": [
      "Epoch 419 tr: l 0.924 a 0.759 clct[np.int64(49), np.int64(51)] clct_ans[np.int64(51), np.int64(49)] cl_acc1.000  lr 0.020274 81.832sec(train) 20.905sec(infer)\n"
     ]
    },
    {
     "name": "stdout",
     "output_type": "stream",
     "text": [
      "Epoch 419 tst: l 1.197 a 0.734 clct[np.int64(20), np.int64(20)] clct_ans[np.int64(20), np.int64(20)] cl_acc1.000  3.195sec\n"
     ]
    },
    {
     "name": "stdout",
     "output_type": "stream",
     "text": [
      "Epoch 420 tr: l 0.933 a 0.762 clct[np.int64(50), np.int64(50)] clct_ans[np.int64(50), np.int64(50)] cl_acc1.000  lr 0.020264 81.722sec(train) 20.873sec(infer)\n"
     ]
    },
    {
     "name": "stdout",
     "output_type": "stream",
     "text": [
      "Epoch 420 tst: l 1.199 a 0.735 clct[np.int64(20), np.int64(20)] clct_ans[np.int64(20), np.int64(20)] cl_acc1.000  3.175sec\n",
      "result written at output_dfca_gi/results.pickle\n"
     ]
    },
    {
     "name": "stdout",
     "output_type": "stream",
     "text": [
      "checkpoint written at output_dfca_gi/checkpoint.pt\n"
     ]
    },
    {
     "name": "stdout",
     "output_type": "stream",
     "text": [
      "Epoch 421 tr: l 0.906 a 0.763 clct[np.int64(51), np.int64(49)] clct_ans[np.int64(49), np.int64(51)] cl_acc1.000  lr 0.020253 76.603sec(train) 20.930sec(infer)\n"
     ]
    },
    {
     "name": "stdout",
     "output_type": "stream",
     "text": [
      "Epoch 421 tst: l 1.198 a 0.734 clct[np.int64(20), np.int64(20)] clct_ans[np.int64(20), np.int64(20)] cl_acc1.000  3.209sec\n"
     ]
    },
    {
     "name": "stdout",
     "output_type": "stream",
     "text": [
      "Epoch 422 tr: l 0.938 a 0.759 clct[np.int64(56), np.int64(44)] clct_ans[np.int64(44), np.int64(56)] cl_acc1.000  lr 0.020243 81.166sec(train) 20.939sec(infer)\n"
     ]
    },
    {
     "name": "stdout",
     "output_type": "stream",
     "text": [
      "Epoch 422 tst: l 1.201 a 0.733 clct[np.int64(20), np.int64(20)] clct_ans[np.int64(20), np.int64(20)] cl_acc1.000  3.391sec\n"
     ]
    },
    {
     "name": "stdout",
     "output_type": "stream",
     "text": [
      "Epoch 423 tr: l 0.919 a 0.761 clct[np.int64(46), np.int64(54)] clct_ans[np.int64(54), np.int64(46)] cl_acc1.000  lr 0.020233 81.606sec(train) 20.920sec(infer)\n"
     ]
    },
    {
     "name": "stdout",
     "output_type": "stream",
     "text": [
      "Epoch 423 tst: l 1.202 a 0.734 clct[np.int64(20), np.int64(20)] clct_ans[np.int64(20), np.int64(20)] cl_acc1.000  3.195sec\n"
     ]
    },
    {
     "name": "stdout",
     "output_type": "stream",
     "text": [
      "Epoch 424 tr: l 0.913 a 0.762 clct[np.int64(51), np.int64(49)] clct_ans[np.int64(49), np.int64(51)] cl_acc1.000  lr 0.020223 80.732sec(train) 20.943sec(infer)\n"
     ]
    },
    {
     "name": "stdout",
     "output_type": "stream",
     "text": [
      "Epoch 424 tst: l 1.198 a 0.734 clct[np.int64(20), np.int64(20)] clct_ans[np.int64(20), np.int64(20)] cl_acc1.000  3.196sec\n"
     ]
    },
    {
     "name": "stdout",
     "output_type": "stream",
     "text": [
      "Epoch 425 tr: l 0.911 a 0.765 clct[np.int64(55), np.int64(45)] clct_ans[np.int64(45), np.int64(55)] cl_acc1.000  lr 0.020213 81.549sec(train) 20.932sec(infer)\n"
     ]
    },
    {
     "name": "stdout",
     "output_type": "stream",
     "text": [
      "Epoch 425 tst: l 1.205 a 0.733 clct[np.int64(20), np.int64(20)] clct_ans[np.int64(20), np.int64(20)] cl_acc1.000  3.196sec\n"
     ]
    },
    {
     "name": "stdout",
     "output_type": "stream",
     "text": [
      "Epoch 426 tr: l 0.927 a 0.762 clct[np.int64(45), np.int64(55)] clct_ans[np.int64(55), np.int64(45)] cl_acc1.000  lr 0.020203 81.319sec(train) 20.949sec(infer)\n"
     ]
    },
    {
     "name": "stdout",
     "output_type": "stream",
     "text": [
      "Epoch 426 tst: l 1.205 a 0.734 clct[np.int64(20), np.int64(20)] clct_ans[np.int64(20), np.int64(20)] cl_acc1.000  3.197sec\n"
     ]
    },
    {
     "name": "stdout",
     "output_type": "stream",
     "text": [
      "Epoch 427 tr: l 0.920 a 0.763 clct[np.int64(45), np.int64(55)] clct_ans[np.int64(55), np.int64(45)] cl_acc1.000  lr 0.020193 81.002sec(train) 20.907sec(infer)\n"
     ]
    },
    {
     "name": "stdout",
     "output_type": "stream",
     "text": [
      "Epoch 427 tst: l 1.209 a 0.732 clct[np.int64(20), np.int64(20)] clct_ans[np.int64(20), np.int64(20)] cl_acc1.000  3.196sec\n"
     ]
    },
    {
     "name": "stdout",
     "output_type": "stream",
     "text": [
      "Epoch 428 tr: l 0.919 a 0.762 clct[np.int64(46), np.int64(54)] clct_ans[np.int64(54), np.int64(46)] cl_acc1.000  lr 0.020183 81.291sec(train) 20.914sec(infer)\n"
     ]
    },
    {
     "name": "stdout",
     "output_type": "stream",
     "text": [
      "Epoch 428 tst: l 1.210 a 0.733 clct[np.int64(20), np.int64(20)] clct_ans[np.int64(20), np.int64(20)] cl_acc1.000  3.191sec\n"
     ]
    },
    {
     "name": "stdout",
     "output_type": "stream",
     "text": [
      "Epoch 429 tr: l 0.927 a 0.760 clct[np.int64(50), np.int64(50)] clct_ans[np.int64(50), np.int64(50)] cl_acc1.000  lr 0.020173 81.452sec(train) 20.933sec(infer)\n"
     ]
    },
    {
     "name": "stdout",
     "output_type": "stream",
     "text": [
      "Epoch 429 tst: l 1.208 a 0.732 clct[np.int64(20), np.int64(20)] clct_ans[np.int64(20), np.int64(20)] cl_acc1.000  3.196sec\n"
     ]
    },
    {
     "name": "stdout",
     "output_type": "stream",
     "text": [
      "Epoch 430 tr: l 0.906 a 0.763 clct[np.int64(56), np.int64(44)] clct_ans[np.int64(44), np.int64(56)] cl_acc1.000  lr 0.020162 80.276sec(train) 20.912sec(infer)\n"
     ]
    },
    {
     "name": "stdout",
     "output_type": "stream",
     "text": [
      "Epoch 430 tst: l 1.210 a 0.733 clct[np.int64(20), np.int64(20)] clct_ans[np.int64(20), np.int64(20)] cl_acc1.000  3.191sec\n",
      "result written at output_dfca_gi/results.pickle\n",
      "checkpoint written at output_dfca_gi/checkpoint.pt\n"
     ]
    },
    {
     "name": "stdout",
     "output_type": "stream",
     "text": [
      "Epoch 431 tr: l 0.930 a 0.762 clct[np.int64(51), np.int64(49)] clct_ans[np.int64(49), np.int64(51)] cl_acc1.000  lr 0.020152 81.603sec(train) 20.919sec(infer)\n"
     ]
    },
    {
     "name": "stdout",
     "output_type": "stream",
     "text": [
      "Epoch 431 tst: l 1.214 a 0.733 clct[np.int64(20), np.int64(20)] clct_ans[np.int64(20), np.int64(20)] cl_acc1.000  3.195sec\n"
     ]
    },
    {
     "name": "stdout",
     "output_type": "stream",
     "text": [
      "Epoch 432 tr: l 0.919 a 0.765 clct[np.int64(52), np.int64(48)] clct_ans[np.int64(48), np.int64(52)] cl_acc1.000  lr 0.020142 81.639sec(train) 20.897sec(infer)\n"
     ]
    },
    {
     "name": "stdout",
     "output_type": "stream",
     "text": [
      "Epoch 432 tst: l 1.211 a 0.733 clct[np.int64(20), np.int64(20)] clct_ans[np.int64(20), np.int64(20)] cl_acc1.000  3.189sec\n"
     ]
    },
    {
     "name": "stdout",
     "output_type": "stream",
     "text": [
      "Epoch 433 tr: l 0.929 a 0.762 clct[np.int64(51), np.int64(49)] clct_ans[np.int64(49), np.int64(51)] cl_acc1.000  lr 0.020132 81.440sec(train) 20.856sec(infer)\n"
     ]
    },
    {
     "name": "stdout",
     "output_type": "stream",
     "text": [
      "Epoch 433 tst: l 1.214 a 0.733 clct[np.int64(20), np.int64(20)] clct_ans[np.int64(20), np.int64(20)] cl_acc1.000  3.189sec\n"
     ]
    },
    {
     "name": "stdout",
     "output_type": "stream",
     "text": [
      "Epoch 434 tr: l 0.912 a 0.766 clct[np.int64(48), np.int64(52)] clct_ans[np.int64(52), np.int64(48)] cl_acc1.000  lr 0.020122 81.127sec(train) 20.928sec(infer)\n"
     ]
    },
    {
     "name": "stdout",
     "output_type": "stream",
     "text": [
      "Epoch 434 tst: l 1.220 a 0.732 clct[np.int64(20), np.int64(20)] clct_ans[np.int64(20), np.int64(20)] cl_acc1.000  3.199sec\n"
     ]
    },
    {
     "name": "stdout",
     "output_type": "stream",
     "text": [
      "Epoch 435 tr: l 0.919 a 0.763 clct[np.int64(42), np.int64(58)] clct_ans[np.int64(58), np.int64(42)] cl_acc1.000  lr 0.020112 80.624sec(train) 20.900sec(infer)\n"
     ]
    },
    {
     "name": "stdout",
     "output_type": "stream",
     "text": [
      "Epoch 435 tst: l 1.217 a 0.731 clct[np.int64(20), np.int64(20)] clct_ans[np.int64(20), np.int64(20)] cl_acc1.000  3.199sec\n"
     ]
    },
    {
     "name": "stdout",
     "output_type": "stream",
     "text": [
      "Epoch 436 tr: l 0.916 a 0.768 clct[np.int64(47), np.int64(53)] clct_ans[np.int64(53), np.int64(47)] cl_acc1.000  lr 0.020102 81.073sec(train) 20.912sec(infer)\n"
     ]
    },
    {
     "name": "stdout",
     "output_type": "stream",
     "text": [
      "Epoch 436 tst: l 1.212 a 0.733 clct[np.int64(20), np.int64(20)] clct_ans[np.int64(20), np.int64(20)] cl_acc1.000  3.206sec\n"
     ]
    },
    {
     "name": "stdout",
     "output_type": "stream",
     "text": [
      "Epoch 437 tr: l 0.910 a 0.765 clct[np.int64(47), np.int64(53)] clct_ans[np.int64(53), np.int64(47)] cl_acc1.000  lr 0.020092 81.400sec(train) 20.915sec(infer)\n"
     ]
    },
    {
     "name": "stdout",
     "output_type": "stream",
     "text": [
      "Epoch 437 tst: l 1.212 a 0.732 clct[np.int64(20), np.int64(20)] clct_ans[np.int64(20), np.int64(20)] cl_acc1.000  3.191sec\n"
     ]
    },
    {
     "name": "stdout",
     "output_type": "stream",
     "text": [
      "Epoch 438 tr: l 0.932 a 0.760 clct[np.int64(46), np.int64(54)] clct_ans[np.int64(54), np.int64(46)] cl_acc1.000  lr 0.020082 81.238sec(train) 20.893sec(infer)\n"
     ]
    },
    {
     "name": "stdout",
     "output_type": "stream",
     "text": [
      "Epoch 438 tst: l 1.215 a 0.732 clct[np.int64(20), np.int64(20)] clct_ans[np.int64(20), np.int64(20)] cl_acc1.000  3.192sec\n"
     ]
    },
    {
     "name": "stdout",
     "output_type": "stream",
     "text": [
      "Epoch 439 tr: l 0.919 a 0.765 clct[np.int64(50), np.int64(50)] clct_ans[np.int64(50), np.int64(50)] cl_acc1.000  lr 0.020072 81.215sec(train) 20.900sec(infer)\n"
     ]
    },
    {
     "name": "stdout",
     "output_type": "stream",
     "text": [
      "Epoch 439 tst: l 1.219 a 0.732 clct[np.int64(20), np.int64(20)] clct_ans[np.int64(20), np.int64(20)] cl_acc1.000  3.187sec\n"
     ]
    },
    {
     "name": "stdout",
     "output_type": "stream",
     "text": [
      "Epoch 440 tr: l 0.929 a 0.761 clct[np.int64(55), np.int64(45)] clct_ans[np.int64(45), np.int64(55)] cl_acc1.000  lr 0.020062 81.160sec(train) 20.862sec(infer)\n"
     ]
    },
    {
     "name": "stdout",
     "output_type": "stream",
     "text": [
      "Epoch 440 tst: l 1.222 a 0.733 clct[np.int64(20), np.int64(20)] clct_ans[np.int64(20), np.int64(20)] cl_acc1.000  3.199sec\n",
      "result written at output_dfca_gi/results.pickle\n",
      "checkpoint written at output_dfca_gi/checkpoint.pt\n"
     ]
    },
    {
     "name": "stdout",
     "output_type": "stream",
     "text": [
      "Epoch 441 tr: l 0.919 a 0.763 clct[np.int64(50), np.int64(50)] clct_ans[np.int64(50), np.int64(50)] cl_acc1.000  lr 0.020052 81.437sec(train) 21.134sec(infer)\n"
     ]
    },
    {
     "name": "stdout",
     "output_type": "stream",
     "text": [
      "Epoch 441 tst: l 1.222 a 0.732 clct[np.int64(20), np.int64(20)] clct_ans[np.int64(20), np.int64(20)] cl_acc1.000  3.133sec\n"
     ]
    },
    {
     "name": "stdout",
     "output_type": "stream",
     "text": [
      "Epoch 442 tr: l 0.900 a 0.768 clct[np.int64(54), np.int64(46)] clct_ans[np.int64(46), np.int64(54)] cl_acc1.000  lr 0.020042 81.104sec(train) 20.847sec(infer)\n"
     ]
    },
    {
     "name": "stdout",
     "output_type": "stream",
     "text": [
      "Epoch 442 tst: l 1.228 a 0.731 clct[np.int64(20), np.int64(20)] clct_ans[np.int64(20), np.int64(20)] cl_acc1.000  3.149sec\n"
     ]
    },
    {
     "name": "stdout",
     "output_type": "stream",
     "text": [
      "Epoch 443 tr: l 0.908 a 0.768 clct[np.int64(54), np.int64(46)] clct_ans[np.int64(46), np.int64(54)] cl_acc1.000  lr 0.020032 80.676sec(train) 20.873sec(infer)\n"
     ]
    },
    {
     "name": "stdout",
     "output_type": "stream",
     "text": [
      "Epoch 443 tst: l 1.224 a 0.732 clct[np.int64(20), np.int64(20)] clct_ans[np.int64(20), np.int64(20)] cl_acc1.000  3.140sec\n"
     ]
    },
    {
     "name": "stdout",
     "output_type": "stream",
     "text": [
      "Epoch 444 tr: l 0.921 a 0.765 clct[np.int64(48), np.int64(52)] clct_ans[np.int64(52), np.int64(48)] cl_acc1.000  lr 0.020022 74.444sec(train) 20.863sec(infer)\n"
     ]
    },
    {
     "name": "stdout",
     "output_type": "stream",
     "text": [
      "Epoch 444 tst: l 1.229 a 0.730 clct[np.int64(20), np.int64(20)] clct_ans[np.int64(20), np.int64(20)] cl_acc1.000  3.142sec\n"
     ]
    },
    {
     "name": "stdout",
     "output_type": "stream",
     "text": [
      "Epoch 445 tr: l 0.923 a 0.766 clct[np.int64(57), np.int64(43)] clct_ans[np.int64(43), np.int64(57)] cl_acc1.000  lr 0.020012 74.168sec(train) 20.921sec(infer)\n"
     ]
    },
    {
     "name": "stdout",
     "output_type": "stream",
     "text": [
      "Epoch 445 tst: l 1.224 a 0.732 clct[np.int64(20), np.int64(20)] clct_ans[np.int64(20), np.int64(20)] cl_acc1.000  3.132sec\n"
     ]
    },
    {
     "name": "stdout",
     "output_type": "stream",
     "text": [
      "Epoch 446 tr: l 0.898 a 0.769 clct[np.int64(48), np.int64(52)] clct_ans[np.int64(52), np.int64(48)] cl_acc1.000  lr 0.020002 75.384sec(train) 20.916sec(infer)\n"
     ]
    },
    {
     "name": "stdout",
     "output_type": "stream",
     "text": [
      "Epoch 446 tst: l 1.230 a 0.733 clct[np.int64(20), np.int64(20)] clct_ans[np.int64(20), np.int64(20)] cl_acc1.000  3.147sec\n"
     ]
    },
    {
     "name": "stdout",
     "output_type": "stream",
     "text": [
      "Epoch 447 tr: l 0.920 a 0.767 clct[np.int64(52), np.int64(48)] clct_ans[np.int64(48), np.int64(52)] cl_acc1.000  lr 0.019992 72.948sec(train) 20.923sec(infer)\n"
     ]
    },
    {
     "name": "stdout",
     "output_type": "stream",
     "text": [
      "Epoch 447 tst: l 1.236 a 0.732 clct[np.int64(20), np.int64(20)] clct_ans[np.int64(20), np.int64(20)] cl_acc1.000  3.205sec\n"
     ]
    },
    {
     "name": "stdout",
     "output_type": "stream",
     "text": [
      "Epoch 448 tr: l 0.919 a 0.764 clct[np.int64(50), np.int64(50)] clct_ans[np.int64(50), np.int64(50)] cl_acc1.000  lr 0.019982 74.644sec(train) 20.900sec(infer)\n"
     ]
    },
    {
     "name": "stdout",
     "output_type": "stream",
     "text": [
      "Epoch 448 tst: l 1.231 a 0.732 clct[np.int64(20), np.int64(20)] clct_ans[np.int64(20), np.int64(20)] cl_acc1.000  3.182sec\n"
     ]
    },
    {
     "name": "stdout",
     "output_type": "stream",
     "text": [
      "Epoch 449 tr: l 0.917 a 0.766 clct[np.int64(45), np.int64(55)] clct_ans[np.int64(55), np.int64(45)] cl_acc1.000  lr 0.019972 73.739sec(train) 20.935sec(infer)\n"
     ]
    },
    {
     "name": "stdout",
     "output_type": "stream",
     "text": [
      "Epoch 449 tst: l 1.231 a 0.731 clct[np.int64(20), np.int64(20)] clct_ans[np.int64(20), np.int64(20)] cl_acc1.000  3.205sec\n"
     ]
    },
    {
     "name": "stdout",
     "output_type": "stream",
     "text": [
      "Epoch 450 tr: l 0.925 a 0.766 clct[np.int64(47), np.int64(53)] clct_ans[np.int64(53), np.int64(47)] cl_acc1.000  lr 0.019962 75.014sec(train) 20.888sec(infer)\n"
     ]
    },
    {
     "name": "stdout",
     "output_type": "stream",
     "text": [
      "Epoch 450 tst: l 1.230 a 0.732 clct[np.int64(20), np.int64(20)] clct_ans[np.int64(20), np.int64(20)] cl_acc1.000  3.204sec\n",
      "result written at output_dfca_gi/results.pickle\n"
     ]
    },
    {
     "name": "stdout",
     "output_type": "stream",
     "text": [
      "checkpoint written at output_dfca_gi/checkpoint.pt\n"
     ]
    },
    {
     "name": "stdout",
     "output_type": "stream",
     "text": [
      "Epoch 451 tr: l 0.970 a 0.756 clct[np.int64(52), np.int64(48)] clct_ans[np.int64(48), np.int64(52)] cl_acc1.000  lr 0.019952 74.925sec(train) 20.904sec(infer)\n"
     ]
    },
    {
     "name": "stdout",
     "output_type": "stream",
     "text": [
      "Epoch 451 tst: l 1.231 a 0.732 clct[np.int64(20), np.int64(20)] clct_ans[np.int64(20), np.int64(20)] cl_acc1.000  3.201sec\n"
     ]
    },
    {
     "name": "stdout",
     "output_type": "stream",
     "text": [
      "Epoch 452 tr: l 0.916 a 0.767 clct[np.int64(50), np.int64(50)] clct_ans[np.int64(50), np.int64(50)] cl_acc1.000  lr 0.019942 74.437sec(train) 20.880sec(infer)\n"
     ]
    },
    {
     "name": "stdout",
     "output_type": "stream",
     "text": [
      "Epoch 452 tst: l 1.233 a 0.732 clct[np.int64(20), np.int64(20)] clct_ans[np.int64(20), np.int64(20)] cl_acc1.000  3.204sec\n"
     ]
    },
    {
     "name": "stdout",
     "output_type": "stream",
     "text": [
      "Epoch 453 tr: l 0.938 a 0.762 clct[np.int64(52), np.int64(48)] clct_ans[np.int64(48), np.int64(52)] cl_acc1.000  lr 0.019932 73.628sec(train) 20.910sec(infer)\n"
     ]
    },
    {
     "name": "stdout",
     "output_type": "stream",
     "text": [
      "Epoch 453 tst: l 1.229 a 0.733 clct[np.int64(20), np.int64(20)] clct_ans[np.int64(20), np.int64(20)] cl_acc1.000  3.194sec\n"
     ]
    },
    {
     "name": "stdout",
     "output_type": "stream",
     "text": [
      "Epoch 454 tr: l 0.933 a 0.763 clct[np.int64(56), np.int64(44)] clct_ans[np.int64(44), np.int64(56)] cl_acc1.000  lr 0.019922 75.941sec(train) 20.904sec(infer)\n"
     ]
    },
    {
     "name": "stdout",
     "output_type": "stream",
     "text": [
      "Epoch 454 tst: l 1.231 a 0.732 clct[np.int64(20), np.int64(20)] clct_ans[np.int64(20), np.int64(20)] cl_acc1.000  3.195sec\n"
     ]
    },
    {
     "name": "stdout",
     "output_type": "stream",
     "text": [
      "Epoch 455 tr: l 0.920 a 0.766 clct[np.int64(54), np.int64(46)] clct_ans[np.int64(46), np.int64(54)] cl_acc1.000  lr 0.019912 74.206sec(train) 20.914sec(infer)\n"
     ]
    },
    {
     "name": "stdout",
     "output_type": "stream",
     "text": [
      "Epoch 455 tst: l 1.230 a 0.733 clct[np.int64(20), np.int64(20)] clct_ans[np.int64(20), np.int64(20)] cl_acc1.000  3.195sec\n"
     ]
    },
    {
     "name": "stdout",
     "output_type": "stream",
     "text": [
      "Epoch 456 tr: l 0.919 a 0.765 clct[np.int64(49), np.int64(51)] clct_ans[np.int64(51), np.int64(49)] cl_acc1.000  lr 0.019902 75.049sec(train) 20.889sec(infer)\n"
     ]
    },
    {
     "name": "stdout",
     "output_type": "stream",
     "text": [
      "Epoch 456 tst: l 1.234 a 0.733 clct[np.int64(20), np.int64(20)] clct_ans[np.int64(20), np.int64(20)] cl_acc1.000  3.199sec\n"
     ]
    },
    {
     "name": "stdout",
     "output_type": "stream",
     "text": [
      "Epoch 457 tr: l 0.940 a 0.762 clct[np.int64(51), np.int64(49)] clct_ans[np.int64(49), np.int64(51)] cl_acc1.000  lr 0.019892 73.678sec(train) 20.936sec(infer)\n"
     ]
    },
    {
     "name": "stdout",
     "output_type": "stream",
     "text": [
      "Epoch 457 tst: l 1.233 a 0.732 clct[np.int64(20), np.int64(20)] clct_ans[np.int64(20), np.int64(20)] cl_acc1.000  3.189sec\n"
     ]
    },
    {
     "name": "stdout",
     "output_type": "stream",
     "text": [
      "Epoch 458 tr: l 0.907 a 0.768 clct[np.int64(49), np.int64(51)] clct_ans[np.int64(51), np.int64(49)] cl_acc1.000  lr 0.019882 74.642sec(train) 20.894sec(infer)\n"
     ]
    },
    {
     "name": "stdout",
     "output_type": "stream",
     "text": [
      "Epoch 458 tst: l 1.232 a 0.733 clct[np.int64(20), np.int64(20)] clct_ans[np.int64(20), np.int64(20)] cl_acc1.000  3.200sec\n"
     ]
    },
    {
     "name": "stdout",
     "output_type": "stream",
     "text": [
      "Epoch 459 tr: l 0.923 a 0.765 clct[np.int64(48), np.int64(52)] clct_ans[np.int64(52), np.int64(48)] cl_acc1.000  lr 0.019872 73.825sec(train) 20.918sec(infer)\n"
     ]
    },
    {
     "name": "stdout",
     "output_type": "stream",
     "text": [
      "Epoch 459 tst: l 1.230 a 0.733 clct[np.int64(20), np.int64(20)] clct_ans[np.int64(20), np.int64(20)] cl_acc1.000  3.203sec\n"
     ]
    },
    {
     "name": "stdout",
     "output_type": "stream",
     "text": [
      "Epoch 460 tr: l 0.919 a 0.768 clct[np.int64(55), np.int64(45)] clct_ans[np.int64(45), np.int64(55)] cl_acc1.000  lr 0.019862 74.937sec(train) 21.090sec(infer)\n"
     ]
    },
    {
     "name": "stdout",
     "output_type": "stream",
     "text": [
      "Epoch 460 tst: l 1.237 a 0.733 clct[np.int64(20), np.int64(20)] clct_ans[np.int64(20), np.int64(20)] cl_acc1.000  3.199sec\n",
      "result written at output_dfca_gi/results.pickle\n",
      "checkpoint written at output_dfca_gi/checkpoint.pt\n"
     ]
    },
    {
     "name": "stdout",
     "output_type": "stream",
     "text": [
      "Epoch 461 tr: l 0.925 a 0.764 clct[np.int64(46), np.int64(54)] clct_ans[np.int64(54), np.int64(46)] cl_acc1.000  lr 0.019852 75.464sec(train) 20.909sec(infer)\n"
     ]
    },
    {
     "name": "stdout",
     "output_type": "stream",
     "text": [
      "Epoch 461 tst: l 1.239 a 0.732 clct[np.int64(20), np.int64(20)] clct_ans[np.int64(20), np.int64(20)] cl_acc1.000  3.203sec\n"
     ]
    },
    {
     "name": "stdout",
     "output_type": "stream",
     "text": [
      "Epoch 462 tr: l 0.916 a 0.765 clct[np.int64(45), np.int64(55)] clct_ans[np.int64(55), np.int64(45)] cl_acc1.000  lr 0.019842 74.893sec(train) 20.895sec(infer)\n"
     ]
    },
    {
     "name": "stdout",
     "output_type": "stream",
     "text": [
      "Epoch 462 tst: l 1.240 a 0.733 clct[np.int64(20), np.int64(20)] clct_ans[np.int64(20), np.int64(20)] cl_acc1.000  3.204sec\n"
     ]
    },
    {
     "name": "stdout",
     "output_type": "stream",
     "text": [
      "Epoch 463 tr: l 0.923 a 0.767 clct[np.int64(54), np.int64(46)] clct_ans[np.int64(46), np.int64(54)] cl_acc1.000  lr 0.019832 72.549sec(train) 20.947sec(infer)\n"
     ]
    },
    {
     "name": "stdout",
     "output_type": "stream",
     "text": [
      "Epoch 463 tst: l 1.240 a 0.732 clct[np.int64(20), np.int64(20)] clct_ans[np.int64(20), np.int64(20)] cl_acc1.000  3.194sec\n"
     ]
    },
    {
     "name": "stdout",
     "output_type": "stream",
     "text": [
      "Epoch 464 tr: l 0.937 a 0.762 clct[np.int64(42), np.int64(58)] clct_ans[np.int64(58), np.int64(42)] cl_acc1.000  lr 0.019823 78.619sec(train) 20.895sec(infer)\n"
     ]
    },
    {
     "name": "stdout",
     "output_type": "stream",
     "text": [
      "Epoch 464 tst: l 1.239 a 0.731 clct[np.int64(20), np.int64(20)] clct_ans[np.int64(20), np.int64(20)] cl_acc1.000  3.199sec\n"
     ]
    },
    {
     "name": "stdout",
     "output_type": "stream",
     "text": [
      "Epoch 465 tr: l 0.938 a 0.764 clct[np.int64(47), np.int64(53)] clct_ans[np.int64(53), np.int64(47)] cl_acc1.000  lr 0.019813 75.597sec(train) 20.920sec(infer)\n"
     ]
    },
    {
     "name": "stdout",
     "output_type": "stream",
     "text": [
      "Epoch 465 tst: l 1.240 a 0.732 clct[np.int64(20), np.int64(20)] clct_ans[np.int64(20), np.int64(20)] cl_acc1.000  3.197sec\n"
     ]
    },
    {
     "name": "stdout",
     "output_type": "stream",
     "text": [
      "Epoch 466 tr: l 0.929 a 0.766 clct[np.int64(56), np.int64(44)] clct_ans[np.int64(44), np.int64(56)] cl_acc1.000  lr 0.019803 75.283sec(train) 20.922sec(infer)\n"
     ]
    },
    {
     "name": "stdout",
     "output_type": "stream",
     "text": [
      "Epoch 466 tst: l 1.245 a 0.731 clct[np.int64(20), np.int64(20)] clct_ans[np.int64(20), np.int64(20)] cl_acc1.000  3.202sec\n"
     ]
    },
    {
     "name": "stdout",
     "output_type": "stream",
     "text": [
      "Epoch 467 tr: l 0.933 a 0.765 clct[np.int64(54), np.int64(46)] clct_ans[np.int64(46), np.int64(54)] cl_acc1.000  lr 0.019793 75.205sec(train) 20.912sec(infer)\n"
     ]
    },
    {
     "name": "stdout",
     "output_type": "stream",
     "text": [
      "Epoch 467 tst: l 1.243 a 0.732 clct[np.int64(20), np.int64(20)] clct_ans[np.int64(20), np.int64(20)] cl_acc1.000  3.195sec\n"
     ]
    },
    {
     "name": "stdout",
     "output_type": "stream",
     "text": [
      "Epoch 468 tr: l 0.907 a 0.768 clct[np.int64(51), np.int64(49)] clct_ans[np.int64(49), np.int64(51)] cl_acc1.000  lr 0.019783 76.032sec(train) 20.865sec(infer)\n"
     ]
    },
    {
     "name": "stdout",
     "output_type": "stream",
     "text": [
      "Epoch 468 tst: l 1.241 a 0.733 clct[np.int64(20), np.int64(20)] clct_ans[np.int64(20), np.int64(20)] cl_acc1.000  3.186sec\n"
     ]
    },
    {
     "name": "stdout",
     "output_type": "stream",
     "text": [
      "Epoch 469 tr: l 0.931 a 0.765 clct[np.int64(41), np.int64(59)] clct_ans[np.int64(59), np.int64(41)] cl_acc1.000  lr 0.019773 75.210sec(train) 20.896sec(infer)\n"
     ]
    },
    {
     "name": "stdout",
     "output_type": "stream",
     "text": [
      "Epoch 469 tst: l 1.238 a 0.733 clct[np.int64(20), np.int64(20)] clct_ans[np.int64(20), np.int64(20)] cl_acc1.000  3.415sec\n"
     ]
    },
    {
     "name": "stdout",
     "output_type": "stream",
     "text": [
      "Epoch 470 tr: l 0.923 a 0.768 clct[np.int64(50), np.int64(50)] clct_ans[np.int64(50), np.int64(50)] cl_acc1.000  lr 0.019763 74.183sec(train) 20.840sec(infer)\n"
     ]
    },
    {
     "name": "stdout",
     "output_type": "stream",
     "text": [
      "Epoch 470 tst: l 1.242 a 0.733 clct[np.int64(20), np.int64(20)] clct_ans[np.int64(20), np.int64(20)] cl_acc1.000  3.206sec\n",
      "result written at output_dfca_gi/results.pickle\n"
     ]
    },
    {
     "name": "stdout",
     "output_type": "stream",
     "text": [
      "checkpoint written at output_dfca_gi/checkpoint.pt\n"
     ]
    },
    {
     "name": "stdout",
     "output_type": "stream",
     "text": [
      "Epoch 471 tr: l 0.920 a 0.766 clct[np.int64(50), np.int64(50)] clct_ans[np.int64(50), np.int64(50)] cl_acc1.000  lr 0.019753 73.769sec(train) 20.862sec(infer)\n"
     ]
    },
    {
     "name": "stdout",
     "output_type": "stream",
     "text": [
      "Epoch 471 tst: l 1.241 a 0.731 clct[np.int64(20), np.int64(20)] clct_ans[np.int64(20), np.int64(20)] cl_acc1.000  3.198sec\n"
     ]
    },
    {
     "name": "stdout",
     "output_type": "stream",
     "text": [
      "Epoch 472 tr: l 0.922 a 0.767 clct[np.int64(52), np.int64(48)] clct_ans[np.int64(48), np.int64(52)] cl_acc1.000  lr 0.019743 74.568sec(train) 20.821sec(infer)\n"
     ]
    },
    {
     "name": "stdout",
     "output_type": "stream",
     "text": [
      "Epoch 472 tst: l 1.246 a 0.730 clct[np.int64(20), np.int64(20)] clct_ans[np.int64(20), np.int64(20)] cl_acc1.000  3.194sec\n"
     ]
    },
    {
     "name": "stdout",
     "output_type": "stream",
     "text": [
      "Epoch 473 tr: l 0.916 a 0.768 clct[np.int64(51), np.int64(49)] clct_ans[np.int64(49), np.int64(51)] cl_acc1.000  lr 0.019733 75.156sec(train) 20.856sec(infer)\n"
     ]
    },
    {
     "name": "stdout",
     "output_type": "stream",
     "text": [
      "Epoch 473 tst: l 1.246 a 0.730 clct[np.int64(20), np.int64(20)] clct_ans[np.int64(20), np.int64(20)] cl_acc1.000  3.201sec\n"
     ]
    },
    {
     "name": "stdout",
     "output_type": "stream",
     "text": [
      "Epoch 474 tr: l 0.950 a 0.762 clct[np.int64(46), np.int64(54)] clct_ans[np.int64(54), np.int64(46)] cl_acc1.000  lr 0.019724 80.417sec(train) 20.840sec(infer)\n"
     ]
    },
    {
     "name": "stdout",
     "output_type": "stream",
     "text": [
      "Epoch 474 tst: l 1.248 a 0.729 clct[np.int64(20), np.int64(20)] clct_ans[np.int64(20), np.int64(20)] cl_acc1.000  3.185sec\n"
     ]
    },
    {
     "name": "stdout",
     "output_type": "stream",
     "text": [
      "Epoch 475 tr: l 0.954 a 0.760 clct[np.int64(45), np.int64(55)] clct_ans[np.int64(55), np.int64(45)] cl_acc1.000  lr 0.019714 81.177sec(train) 20.845sec(infer)\n"
     ]
    },
    {
     "name": "stdout",
     "output_type": "stream",
     "text": [
      "Epoch 475 tst: l 1.244 a 0.731 clct[np.int64(20), np.int64(20)] clct_ans[np.int64(20), np.int64(20)] cl_acc1.000  3.194sec\n"
     ]
    },
    {
     "name": "stdout",
     "output_type": "stream",
     "text": [
      "Epoch 476 tr: l 0.925 a 0.768 clct[np.int64(48), np.int64(52)] clct_ans[np.int64(52), np.int64(48)] cl_acc1.000  lr 0.019704 78.982sec(train) 20.886sec(infer)\n"
     ]
    },
    {
     "name": "stdout",
     "output_type": "stream",
     "text": [
      "Epoch 476 tst: l 1.248 a 0.732 clct[np.int64(20), np.int64(20)] clct_ans[np.int64(20), np.int64(20)] cl_acc1.000  3.196sec\n"
     ]
    },
    {
     "name": "stdout",
     "output_type": "stream",
     "text": [
      "Epoch 477 tr: l 0.921 a 0.767 clct[np.int64(50), np.int64(50)] clct_ans[np.int64(50), np.int64(50)] cl_acc1.000  lr 0.019694 75.901sec(train) 20.882sec(infer)\n"
     ]
    },
    {
     "name": "stdout",
     "output_type": "stream",
     "text": [
      "Epoch 477 tst: l 1.240 a 0.732 clct[np.int64(20), np.int64(20)] clct_ans[np.int64(20), np.int64(20)] cl_acc1.000  3.208sec\n"
     ]
    },
    {
     "name": "stdout",
     "output_type": "stream",
     "text": [
      "Epoch 478 tr: l 0.912 a 0.768 clct[np.int64(52), np.int64(48)] clct_ans[np.int64(48), np.int64(52)] cl_acc1.000  lr 0.019684 74.955sec(train) 20.844sec(infer)\n"
     ]
    },
    {
     "name": "stdout",
     "output_type": "stream",
     "text": [
      "Epoch 478 tst: l 1.236 a 0.732 clct[np.int64(20), np.int64(20)] clct_ans[np.int64(20), np.int64(20)] cl_acc1.000  3.199sec\n"
     ]
    },
    {
     "name": "stdout",
     "output_type": "stream",
     "text": [
      "Epoch 479 tr: l 0.919 a 0.765 clct[np.int64(48), np.int64(52)] clct_ans[np.int64(52), np.int64(48)] cl_acc1.000  lr 0.019674 75.786sec(train) 20.840sec(infer)\n"
     ]
    },
    {
     "name": "stdout",
     "output_type": "stream",
     "text": [
      "Epoch 479 tst: l 1.238 a 0.733 clct[np.int64(20), np.int64(20)] clct_ans[np.int64(20), np.int64(20)] cl_acc1.000  3.202sec\n"
     ]
    },
    {
     "name": "stdout",
     "output_type": "stream",
     "text": [
      "Epoch 480 tr: l 0.929 a 0.766 clct[np.int64(45), np.int64(55)] clct_ans[np.int64(55), np.int64(45)] cl_acc1.000  lr 0.019665 73.671sec(train) 20.861sec(infer)\n"
     ]
    },
    {
     "name": "stdout",
     "output_type": "stream",
     "text": [
      "Epoch 480 tst: l 1.244 a 0.731 clct[np.int64(20), np.int64(20)] clct_ans[np.int64(20), np.int64(20)] cl_acc1.000  3.197sec\n",
      "result written at output_dfca_gi/results.pickle\n"
     ]
    },
    {
     "name": "stdout",
     "output_type": "stream",
     "text": [
      "checkpoint written at output_dfca_gi/checkpoint.pt\n"
     ]
    },
    {
     "name": "stdout",
     "output_type": "stream",
     "text": [
      "Epoch 481 tr: l 0.912 a 0.769 clct[np.int64(50), np.int64(50)] clct_ans[np.int64(50), np.int64(50)] cl_acc1.000  lr 0.019655 73.633sec(train) 20.819sec(infer)\n"
     ]
    },
    {
     "name": "stdout",
     "output_type": "stream",
     "text": [
      "Epoch 481 tst: l 1.243 a 0.733 clct[np.int64(20), np.int64(20)] clct_ans[np.int64(20), np.int64(20)] cl_acc1.000  3.201sec\n"
     ]
    },
    {
     "name": "stdout",
     "output_type": "stream",
     "text": [
      "Epoch 482 tr: l 0.933 a 0.764 clct[np.int64(52), np.int64(48)] clct_ans[np.int64(48), np.int64(52)] cl_acc1.000  lr 0.019645 74.798sec(train) 20.750sec(infer)\n"
     ]
    },
    {
     "name": "stdout",
     "output_type": "stream",
     "text": [
      "Epoch 482 tst: l 1.243 a 0.733 clct[np.int64(20), np.int64(20)] clct_ans[np.int64(20), np.int64(20)] cl_acc1.000  3.178sec\n"
     ]
    },
    {
     "name": "stdout",
     "output_type": "stream",
     "text": [
      "Epoch 483 tr: l 0.946 a 0.759 clct[np.int64(52), np.int64(48)] clct_ans[np.int64(48), np.int64(52)] cl_acc1.000  lr 0.019635 74.908sec(train) 20.768sec(infer)\n"
     ]
    },
    {
     "name": "stdout",
     "output_type": "stream",
     "text": [
      "Epoch 483 tst: l 1.243 a 0.733 clct[np.int64(20), np.int64(20)] clct_ans[np.int64(20), np.int64(20)] cl_acc1.000  3.153sec\n"
     ]
    },
    {
     "name": "stdout",
     "output_type": "stream",
     "text": [
      "Epoch 484 tr: l 0.941 a 0.764 clct[np.int64(47), np.int64(53)] clct_ans[np.int64(53), np.int64(47)] cl_acc1.000  lr 0.019625 74.307sec(train) 20.770sec(infer)\n"
     ]
    },
    {
     "name": "stdout",
     "output_type": "stream",
     "text": [
      "Epoch 484 tst: l 1.247 a 0.734 clct[np.int64(20), np.int64(20)] clct_ans[np.int64(20), np.int64(20)] cl_acc1.000  3.151sec\n"
     ]
    },
    {
     "name": "stdout",
     "output_type": "stream",
     "text": [
      "Epoch 485 tr: l 0.924 a 0.767 clct[np.int64(52), np.int64(48)] clct_ans[np.int64(48), np.int64(52)] cl_acc1.000  lr 0.019615 73.057sec(train) 20.816sec(infer)\n"
     ]
    },
    {
     "name": "stdout",
     "output_type": "stream",
     "text": [
      "Epoch 485 tst: l 1.244 a 0.733 clct[np.int64(20), np.int64(20)] clct_ans[np.int64(20), np.int64(20)] cl_acc1.000  3.136sec\n"
     ]
    },
    {
     "name": "stdout",
     "output_type": "stream",
     "text": [
      "Epoch 486 tr: l 0.927 a 0.767 clct[np.int64(48), np.int64(52)] clct_ans[np.int64(52), np.int64(48)] cl_acc1.000  lr 0.019606 77.012sec(train) 20.794sec(infer)\n"
     ]
    },
    {
     "name": "stdout",
     "output_type": "stream",
     "text": [
      "Epoch 486 tst: l 1.248 a 0.733 clct[np.int64(20), np.int64(20)] clct_ans[np.int64(20), np.int64(20)] cl_acc1.000  3.149sec\n"
     ]
    },
    {
     "name": "stdout",
     "output_type": "stream",
     "text": [
      "Epoch 487 tr: l 0.919 a 0.767 clct[np.int64(49), np.int64(51)] clct_ans[np.int64(51), np.int64(49)] cl_acc1.000  lr 0.019596 74.760sec(train) 20.831sec(infer)\n"
     ]
    },
    {
     "name": "stdout",
     "output_type": "stream",
     "text": [
      "Epoch 487 tst: l 1.249 a 0.733 clct[np.int64(20), np.int64(20)] clct_ans[np.int64(20), np.int64(20)] cl_acc1.000  3.138sec\n"
     ]
    },
    {
     "name": "stdout",
     "output_type": "stream",
     "text": [
      "Epoch 488 tr: l 0.939 a 0.765 clct[np.int64(44), np.int64(56)] clct_ans[np.int64(56), np.int64(44)] cl_acc1.000  lr 0.019586 73.194sec(train) 21.082sec(infer)\n"
     ]
    },
    {
     "name": "stdout",
     "output_type": "stream",
     "text": [
      "Epoch 488 tst: l 1.252 a 0.732 clct[np.int64(20), np.int64(20)] clct_ans[np.int64(20), np.int64(20)] cl_acc1.000  3.135sec\n"
     ]
    },
    {
     "name": "stdout",
     "output_type": "stream",
     "text": [
      "Epoch 489 tr: l 0.918 a 0.770 clct[np.int64(44), np.int64(56)] clct_ans[np.int64(56), np.int64(44)] cl_acc1.000  lr 0.019576 74.062sec(train) 20.912sec(infer)\n"
     ]
    },
    {
     "name": "stdout",
     "output_type": "stream",
     "text": [
      "Epoch 489 tst: l 1.255 a 0.733 clct[np.int64(20), np.int64(20)] clct_ans[np.int64(20), np.int64(20)] cl_acc1.000  3.140sec\n"
     ]
    },
    {
     "name": "stdout",
     "output_type": "stream",
     "text": [
      "Epoch 490 tr: l 0.923 a 0.767 clct[np.int64(53), np.int64(47)] clct_ans[np.int64(47), np.int64(53)] cl_acc1.000  lr 0.019566 75.761sec(train) 20.882sec(infer)\n"
     ]
    },
    {
     "name": "stdout",
     "output_type": "stream",
     "text": [
      "Epoch 490 tst: l 1.254 a 0.733 clct[np.int64(20), np.int64(20)] clct_ans[np.int64(20), np.int64(20)] cl_acc1.000  3.162sec\n",
      "result written at output_dfca_gi/results.pickle\n"
     ]
    },
    {
     "name": "stdout",
     "output_type": "stream",
     "text": [
      "checkpoint written at output_dfca_gi/checkpoint.pt\n"
     ]
    },
    {
     "name": "stdout",
     "output_type": "stream",
     "text": [
      "Epoch 491 tr: l 0.935 a 0.763 clct[np.int64(54), np.int64(46)] clct_ans[np.int64(46), np.int64(54)] cl_acc1.000  lr 0.019557 76.270sec(train) 20.935sec(infer)\n"
     ]
    },
    {
     "name": "stdout",
     "output_type": "stream",
     "text": [
      "Epoch 491 tst: l 1.254 a 0.733 clct[np.int64(20), np.int64(20)] clct_ans[np.int64(20), np.int64(20)] cl_acc1.000  3.177sec\n"
     ]
    },
    {
     "name": "stdout",
     "output_type": "stream",
     "text": [
      "Epoch 492 tr: l 0.909 a 0.771 clct[np.int64(48), np.int64(52)] clct_ans[np.int64(52), np.int64(48)] cl_acc1.000  lr 0.019547 81.401sec(train) 20.884sec(infer)\n"
     ]
    },
    {
     "name": "stdout",
     "output_type": "stream",
     "text": [
      "Epoch 492 tst: l 1.264 a 0.732 clct[np.int64(20), np.int64(20)] clct_ans[np.int64(20), np.int64(20)] cl_acc1.000  3.138sec\n"
     ]
    },
    {
     "name": "stdout",
     "output_type": "stream",
     "text": [
      "Epoch 493 tr: l 0.933 a 0.765 clct[np.int64(47), np.int64(53)] clct_ans[np.int64(53), np.int64(47)] cl_acc1.000  lr 0.019537 81.086sec(train) 20.866sec(infer)\n"
     ]
    },
    {
     "name": "stdout",
     "output_type": "stream",
     "text": [
      "Epoch 493 tst: l 1.253 a 0.732 clct[np.int64(20), np.int64(20)] clct_ans[np.int64(20), np.int64(20)] cl_acc1.000  3.137sec\n"
     ]
    },
    {
     "name": "stdout",
     "output_type": "stream",
     "text": [
      "Epoch 494 tr: l 0.896 a 0.773 clct[np.int64(50), np.int64(50)] clct_ans[np.int64(50), np.int64(50)] cl_acc1.000  lr 0.019527 78.883sec(train) 20.896sec(infer)\n"
     ]
    },
    {
     "name": "stdout",
     "output_type": "stream",
     "text": [
      "Epoch 494 tst: l 1.255 a 0.732 clct[np.int64(20), np.int64(20)] clct_ans[np.int64(20), np.int64(20)] cl_acc1.000  3.132sec\n"
     ]
    },
    {
     "name": "stdout",
     "output_type": "stream",
     "text": [
      "Epoch 495 tr: l 0.920 a 0.768 clct[np.int64(56), np.int64(44)] clct_ans[np.int64(44), np.int64(56)] cl_acc1.000  lr 0.019518 75.158sec(train) 20.888sec(infer)\n"
     ]
    },
    {
     "name": "stdout",
     "output_type": "stream",
     "text": [
      "Epoch 495 tst: l 1.257 a 0.733 clct[np.int64(20), np.int64(20)] clct_ans[np.int64(20), np.int64(20)] cl_acc1.000  3.148sec\n"
     ]
    },
    {
     "name": "stdout",
     "output_type": "stream",
     "text": [
      "Epoch 496 tr: l 0.931 a 0.768 clct[np.int64(50), np.int64(50)] clct_ans[np.int64(50), np.int64(50)] cl_acc1.000  lr 0.019508 81.427sec(train) 20.913sec(infer)\n"
     ]
    },
    {
     "name": "stdout",
     "output_type": "stream",
     "text": [
      "Epoch 496 tst: l 1.258 a 0.732 clct[np.int64(20), np.int64(20)] clct_ans[np.int64(20), np.int64(20)] cl_acc1.000  3.142sec\n"
     ]
    },
    {
     "name": "stdout",
     "output_type": "stream",
     "text": [
      "Epoch 497 tr: l 0.913 a 0.771 clct[np.int64(48), np.int64(52)] clct_ans[np.int64(52), np.int64(48)] cl_acc1.000  lr 0.019498 80.760sec(train) 20.814sec(infer)\n"
     ]
    },
    {
     "name": "stdout",
     "output_type": "stream",
     "text": [
      "Epoch 497 tst: l 1.263 a 0.730 clct[np.int64(20), np.int64(20)] clct_ans[np.int64(20), np.int64(20)] cl_acc1.000  3.141sec\n"
     ]
    },
    {
     "name": "stdout",
     "output_type": "stream",
     "text": [
      "Epoch 498 tr: l 0.914 a 0.770 clct[np.int64(52), np.int64(48)] clct_ans[np.int64(48), np.int64(52)] cl_acc1.000  lr 0.019488 81.237sec(train) 20.817sec(infer)\n"
     ]
    },
    {
     "name": "stdout",
     "output_type": "stream",
     "text": [
      "Epoch 498 tst: l 1.255 a 0.731 clct[np.int64(20), np.int64(20)] clct_ans[np.int64(20), np.int64(20)] cl_acc1.000  3.148sec\n"
     ]
    },
    {
     "name": "stdout",
     "output_type": "stream",
     "text": [
      "Epoch 499 tr: l 0.928 a 0.767 clct[np.int64(54), np.int64(46)] clct_ans[np.int64(46), np.int64(54)] cl_acc1.000  lr 0.019479 81.237sec(train) 20.786sec(infer)\n"
     ]
    },
    {
     "name": "stdout",
     "output_type": "stream",
     "text": [
      "Epoch 499 tst: l 1.259 a 0.732 clct[np.int64(20), np.int64(20)] clct_ans[np.int64(20), np.int64(20)] cl_acc1.000  3.131sec\n"
     ]
    },
    {
     "name": "stdout",
     "output_type": "stream",
     "text": [
      "Epoch 500 tr: l 0.913 a 0.770 clct[np.int64(55), np.int64(45)] clct_ans[np.int64(45), np.int64(55)] cl_acc1.000  lr 0.019469 81.540sec(train) 20.764sec(infer)\n"
     ]
    },
    {
     "name": "stdout",
     "output_type": "stream",
     "text": [
      "Epoch 500 tst: l 1.258 a 0.733 clct[np.int64(20), np.int64(20)] clct_ans[np.int64(20), np.int64(20)] cl_acc1.000  3.167sec\n",
      "result written at output_dfca_gi/results.pickle\n"
     ]
    },
    {
     "name": "stdout",
     "output_type": "stream",
     "text": [
      "checkpoint written at output_dfca_gi/checkpoint.pt\n"
     ]
    },
    {
     "name": "stdout",
     "output_type": "stream",
     "text": [
      "Epoch 501 tr: l 0.940 a 0.764 clct[np.int64(49), np.int64(51)] clct_ans[np.int64(51), np.int64(49)] cl_acc1.000  lr 0.019459 81.895sec(train) 20.792sec(infer)\n"
     ]
    },
    {
     "name": "stdout",
     "output_type": "stream",
     "text": [
      "Epoch 501 tst: l 1.254 a 0.734 clct[np.int64(20), np.int64(20)] clct_ans[np.int64(20), np.int64(20)] cl_acc1.000  3.194sec\n"
     ]
    },
    {
     "name": "stdout",
     "output_type": "stream",
     "text": [
      "Epoch 502 tr: l 0.937 a 0.765 clct[np.int64(42), np.int64(58)] clct_ans[np.int64(58), np.int64(42)] cl_acc1.000  lr 0.019449 81.337sec(train) 20.804sec(infer)\n"
     ]
    },
    {
     "name": "stdout",
     "output_type": "stream",
     "text": [
      "Epoch 502 tst: l 1.259 a 0.734 clct[np.int64(20), np.int64(20)] clct_ans[np.int64(20), np.int64(20)] cl_acc1.000  3.199sec\n"
     ]
    },
    {
     "name": "stdout",
     "output_type": "stream",
     "text": [
      "Epoch 503 tr: l 0.929 a 0.766 clct[np.int64(45), np.int64(55)] clct_ans[np.int64(55), np.int64(45)] cl_acc1.000  lr 0.019440 81.683sec(train) 20.871sec(infer)\n"
     ]
    },
    {
     "name": "stdout",
     "output_type": "stream",
     "text": [
      "Epoch 503 tst: l 1.260 a 0.733 clct[np.int64(20), np.int64(20)] clct_ans[np.int64(20), np.int64(20)] cl_acc1.000  3.188sec\n"
     ]
    },
    {
     "name": "stdout",
     "output_type": "stream",
     "text": [
      "Epoch 504 tr: l 0.920 a 0.768 clct[np.int64(49), np.int64(51)] clct_ans[np.int64(51), np.int64(49)] cl_acc1.000  lr 0.019430 81.434sec(train) 20.862sec(infer)\n"
     ]
    },
    {
     "name": "stdout",
     "output_type": "stream",
     "text": [
      "Epoch 504 tst: l 1.260 a 0.733 clct[np.int64(20), np.int64(20)] clct_ans[np.int64(20), np.int64(20)] cl_acc1.000  3.198sec\n"
     ]
    },
    {
     "name": "stdout",
     "output_type": "stream",
     "text": [
      "Epoch 505 tr: l 0.912 a 0.766 clct[np.int64(50), np.int64(50)] clct_ans[np.int64(50), np.int64(50)] cl_acc1.000  lr 0.019420 81.054sec(train) 20.859sec(infer)\n"
     ]
    },
    {
     "name": "stdout",
     "output_type": "stream",
     "text": [
      "Epoch 505 tst: l 1.259 a 0.733 clct[np.int64(20), np.int64(20)] clct_ans[np.int64(20), np.int64(20)] cl_acc1.000  3.192sec\n"
     ]
    },
    {
     "name": "stdout",
     "output_type": "stream",
     "text": [
      "Epoch 506 tr: l 0.925 a 0.764 clct[np.int64(51), np.int64(49)] clct_ans[np.int64(49), np.int64(51)] cl_acc1.000  lr 0.019410 81.440sec(train) 20.902sec(infer)\n"
     ]
    },
    {
     "name": "stdout",
     "output_type": "stream",
     "text": [
      "Epoch 506 tst: l 1.256 a 0.733 clct[np.int64(20), np.int64(20)] clct_ans[np.int64(20), np.int64(20)] cl_acc1.000  3.186sec\n"
     ]
    },
    {
     "name": "stdout",
     "output_type": "stream",
     "text": [
      "Epoch 507 tr: l 0.910 a 0.769 clct[np.int64(46), np.int64(54)] clct_ans[np.int64(54), np.int64(46)] cl_acc1.000  lr 0.019401 81.068sec(train) 21.082sec(infer)\n"
     ]
    },
    {
     "name": "stdout",
     "output_type": "stream",
     "text": [
      "Epoch 507 tst: l 1.259 a 0.733 clct[np.int64(20), np.int64(20)] clct_ans[np.int64(20), np.int64(20)] cl_acc1.000  3.188sec\n"
     ]
    },
    {
     "name": "stdout",
     "output_type": "stream",
     "text": [
      "Epoch 508 tr: l 0.943 a 0.763 clct[np.int64(50), np.int64(50)] clct_ans[np.int64(50), np.int64(50)] cl_acc1.000  lr 0.019391 81.323sec(train) 20.891sec(infer)\n"
     ]
    },
    {
     "name": "stdout",
     "output_type": "stream",
     "text": [
      "Epoch 508 tst: l 1.258 a 0.734 clct[np.int64(20), np.int64(20)] clct_ans[np.int64(20), np.int64(20)] cl_acc1.000  3.170sec\n"
     ]
    },
    {
     "name": "stdout",
     "output_type": "stream",
     "text": [
      "Epoch 509 tr: l 0.912 a 0.769 clct[np.int64(51), np.int64(49)] clct_ans[np.int64(49), np.int64(51)] cl_acc1.000  lr 0.019381 81.634sec(train) 20.872sec(infer)\n"
     ]
    },
    {
     "name": "stdout",
     "output_type": "stream",
     "text": [
      "Epoch 509 tst: l 1.259 a 0.733 clct[np.int64(20), np.int64(20)] clct_ans[np.int64(20), np.int64(20)] cl_acc1.000  3.192sec\n"
     ]
    },
    {
     "name": "stdout",
     "output_type": "stream",
     "text": [
      "Epoch 510 tr: l 0.931 a 0.766 clct[np.int64(48), np.int64(52)] clct_ans[np.int64(52), np.int64(48)] cl_acc1.000  lr 0.019372 81.546sec(train) 20.900sec(infer)\n"
     ]
    },
    {
     "name": "stdout",
     "output_type": "stream",
     "text": [
      "Epoch 510 tst: l 1.263 a 0.734 clct[np.int64(20), np.int64(20)] clct_ans[np.int64(20), np.int64(20)] cl_acc1.000  3.196sec\n",
      "result written at output_dfca_gi/results.pickle\n"
     ]
    },
    {
     "name": "stdout",
     "output_type": "stream",
     "text": [
      "checkpoint written at output_dfca_gi/checkpoint.pt\n"
     ]
    },
    {
     "name": "stdout",
     "output_type": "stream",
     "text": [
      "Epoch 511 tr: l 0.908 a 0.771 clct[np.int64(47), np.int64(53)] clct_ans[np.int64(53), np.int64(47)] cl_acc1.000  lr 0.019362 81.636sec(train) 20.909sec(infer)\n"
     ]
    },
    {
     "name": "stdout",
     "output_type": "stream",
     "text": [
      "Epoch 511 tst: l 1.261 a 0.733 clct[np.int64(20), np.int64(20)] clct_ans[np.int64(20), np.int64(20)] cl_acc1.000  3.195sec\n"
     ]
    },
    {
     "name": "stdout",
     "output_type": "stream",
     "text": [
      "Epoch 512 tr: l 0.921 a 0.769 clct[np.int64(49), np.int64(51)] clct_ans[np.int64(51), np.int64(49)] cl_acc1.000  lr 0.019352 81.040sec(train) 20.870sec(infer)\n"
     ]
    },
    {
     "name": "stdout",
     "output_type": "stream",
     "text": [
      "Epoch 512 tst: l 1.263 a 0.735 clct[np.int64(20), np.int64(20)] clct_ans[np.int64(20), np.int64(20)] cl_acc1.000  3.181sec\n"
     ]
    },
    {
     "name": "stdout",
     "output_type": "stream",
     "text": [
      "Epoch 513 tr: l 0.917 a 0.768 clct[np.int64(48), np.int64(52)] clct_ans[np.int64(52), np.int64(48)] cl_acc1.000  lr 0.019343 81.513sec(train) 20.906sec(infer)\n"
     ]
    },
    {
     "name": "stdout",
     "output_type": "stream",
     "text": [
      "Epoch 513 tst: l 1.259 a 0.734 clct[np.int64(20), np.int64(20)] clct_ans[np.int64(20), np.int64(20)] cl_acc1.000  3.196sec\n"
     ]
    },
    {
     "name": "stdout",
     "output_type": "stream",
     "text": [
      "Epoch 514 tr: l 0.939 a 0.764 clct[np.int64(46), np.int64(54)] clct_ans[np.int64(54), np.int64(46)] cl_acc1.000  lr 0.019333 81.451sec(train) 20.865sec(infer)\n"
     ]
    },
    {
     "name": "stdout",
     "output_type": "stream",
     "text": [
      "Epoch 514 tst: l 1.257 a 0.733 clct[np.int64(20), np.int64(20)] clct_ans[np.int64(20), np.int64(20)] cl_acc1.000  3.189sec\n"
     ]
    },
    {
     "name": "stdout",
     "output_type": "stream",
     "text": [
      "Epoch 515 tr: l 0.943 a 0.766 clct[np.int64(47), np.int64(53)] clct_ans[np.int64(53), np.int64(47)] cl_acc1.000  lr 0.019323 79.493sec(train) 20.895sec(infer)\n"
     ]
    },
    {
     "name": "stdout",
     "output_type": "stream",
     "text": [
      "Epoch 515 tst: l 1.254 a 0.732 clct[np.int64(20), np.int64(20)] clct_ans[np.int64(20), np.int64(20)] cl_acc1.000  3.193sec\n"
     ]
    },
    {
     "name": "stdout",
     "output_type": "stream",
     "text": [
      "Epoch 516 tr: l 0.927 a 0.768 clct[np.int64(53), np.int64(47)] clct_ans[np.int64(47), np.int64(53)] cl_acc1.000  lr 0.019314 80.850sec(train) 20.888sec(infer)\n"
     ]
    },
    {
     "name": "stdout",
     "output_type": "stream",
     "text": [
      "Epoch 516 tst: l 1.262 a 0.732 clct[np.int64(20), np.int64(20)] clct_ans[np.int64(20), np.int64(20)] cl_acc1.000  3.401sec\n"
     ]
    },
    {
     "name": "stdout",
     "output_type": "stream",
     "text": [
      "Epoch 517 tr: l 0.915 a 0.768 clct[np.int64(50), np.int64(50)] clct_ans[np.int64(50), np.int64(50)] cl_acc1.000  lr 0.019304 81.250sec(train) 20.897sec(infer)\n"
     ]
    },
    {
     "name": "stdout",
     "output_type": "stream",
     "text": [
      "Epoch 517 tst: l 1.261 a 0.733 clct[np.int64(20), np.int64(20)] clct_ans[np.int64(20), np.int64(20)] cl_acc1.000  3.195sec\n"
     ]
    },
    {
     "name": "stdout",
     "output_type": "stream",
     "text": [
      "Epoch 518 tr: l 0.908 a 0.772 clct[np.int64(48), np.int64(52)] clct_ans[np.int64(52), np.int64(48)] cl_acc1.000  lr 0.019294 77.993sec(train) 20.963sec(infer)\n"
     ]
    },
    {
     "name": "stdout",
     "output_type": "stream",
     "text": [
      "Epoch 518 tst: l 1.261 a 0.733 clct[np.int64(20), np.int64(20)] clct_ans[np.int64(20), np.int64(20)] cl_acc1.000  3.188sec\n"
     ]
    },
    {
     "name": "stdout",
     "output_type": "stream",
     "text": [
      "Epoch 519 tr: l 0.933 a 0.766 clct[np.int64(45), np.int64(55)] clct_ans[np.int64(55), np.int64(45)] cl_acc1.000  lr 0.019285 74.662sec(train) 20.916sec(infer)\n"
     ]
    },
    {
     "name": "stdout",
     "output_type": "stream",
     "text": [
      "Epoch 519 tst: l 1.261 a 0.733 clct[np.int64(20), np.int64(20)] clct_ans[np.int64(20), np.int64(20)] cl_acc1.000  3.196sec\n"
     ]
    },
    {
     "name": "stdout",
     "output_type": "stream",
     "text": [
      "Epoch 520 tr: l 0.921 a 0.769 clct[np.int64(47), np.int64(53)] clct_ans[np.int64(53), np.int64(47)] cl_acc1.000  lr 0.019275 72.199sec(train) 20.941sec(infer)\n"
     ]
    },
    {
     "name": "stdout",
     "output_type": "stream",
     "text": [
      "Epoch 520 tst: l 1.265 a 0.733 clct[np.int64(20), np.int64(20)] clct_ans[np.int64(20), np.int64(20)] cl_acc1.000  3.198sec\n",
      "result written at output_dfca_gi/results.pickle\n"
     ]
    },
    {
     "name": "stdout",
     "output_type": "stream",
     "text": [
      "checkpoint written at output_dfca_gi/checkpoint.pt\n"
     ]
    },
    {
     "name": "stdout",
     "output_type": "stream",
     "text": [
      "Epoch 521 tr: l 0.925 a 0.770 clct[np.int64(44), np.int64(56)] clct_ans[np.int64(56), np.int64(44)] cl_acc1.000  lr 0.019265 73.871sec(train) 20.911sec(infer)\n"
     ]
    },
    {
     "name": "stdout",
     "output_type": "stream",
     "text": [
      "Epoch 521 tst: l 1.267 a 0.733 clct[np.int64(20), np.int64(20)] clct_ans[np.int64(20), np.int64(20)] cl_acc1.000  3.195sec\n"
     ]
    },
    {
     "name": "stdout",
     "output_type": "stream",
     "text": [
      "Epoch 522 tr: l 0.917 a 0.768 clct[np.int64(59), np.int64(41)] clct_ans[np.int64(41), np.int64(59)] cl_acc1.000  lr 0.019256 74.247sec(train) 20.918sec(infer)\n"
     ]
    },
    {
     "name": "stdout",
     "output_type": "stream",
     "text": [
      "Epoch 522 tst: l 1.271 a 0.733 clct[np.int64(20), np.int64(20)] clct_ans[np.int64(20), np.int64(20)] cl_acc1.000  3.195sec\n"
     ]
    },
    {
     "name": "stdout",
     "output_type": "stream",
     "text": [
      "Epoch 523 tr: l 0.888 a 0.774 clct[np.int64(62), np.int64(38)] clct_ans[np.int64(38), np.int64(62)] cl_acc1.000  lr 0.019246 74.270sec(train) 20.854sec(infer)\n"
     ]
    },
    {
     "name": "stdout",
     "output_type": "stream",
     "text": [
      "Epoch 523 tst: l 1.270 a 0.732 clct[np.int64(20), np.int64(20)] clct_ans[np.int64(20), np.int64(20)] cl_acc1.000  3.210sec\n"
     ]
    },
    {
     "name": "stdout",
     "output_type": "stream",
     "text": [
      "Epoch 524 tr: l 0.938 a 0.768 clct[np.int64(46), np.int64(54)] clct_ans[np.int64(54), np.int64(46)] cl_acc1.000  lr 0.019237 73.405sec(train) 20.827sec(infer)\n"
     ]
    },
    {
     "name": "stdout",
     "output_type": "stream",
     "text": [
      "Epoch 524 tst: l 1.264 a 0.734 clct[np.int64(20), np.int64(20)] clct_ans[np.int64(20), np.int64(20)] cl_acc1.000  3.203sec\n"
     ]
    },
    {
     "name": "stdout",
     "output_type": "stream",
     "text": [
      "Epoch 525 tr: l 0.913 a 0.770 clct[np.int64(51), np.int64(49)] clct_ans[np.int64(49), np.int64(51)] cl_acc1.000  lr 0.019227 74.977sec(train) 20.783sec(infer)\n"
     ]
    },
    {
     "name": "stdout",
     "output_type": "stream",
     "text": [
      "Epoch 525 tst: l 1.261 a 0.734 clct[np.int64(20), np.int64(20)] clct_ans[np.int64(20), np.int64(20)] cl_acc1.000  3.206sec\n"
     ]
    },
    {
     "name": "stdout",
     "output_type": "stream",
     "text": [
      "Epoch 526 tr: l 0.931 a 0.767 clct[np.int64(47), np.int64(53)] clct_ans[np.int64(53), np.int64(47)] cl_acc1.000  lr 0.019217 74.830sec(train) 20.796sec(infer)\n"
     ]
    },
    {
     "name": "stdout",
     "output_type": "stream",
     "text": [
      "Epoch 526 tst: l 1.265 a 0.733 clct[np.int64(20), np.int64(20)] clct_ans[np.int64(20), np.int64(20)] cl_acc1.000  3.206sec\n"
     ]
    },
    {
     "name": "stdout",
     "output_type": "stream",
     "text": [
      "Epoch 527 tr: l 0.921 a 0.770 clct[np.int64(51), np.int64(49)] clct_ans[np.int64(49), np.int64(51)] cl_acc1.000  lr 0.019208 74.467sec(train) 20.778sec(infer)\n"
     ]
    },
    {
     "name": "stdout",
     "output_type": "stream",
     "text": [
      "Epoch 527 tst: l 1.271 a 0.733 clct[np.int64(20), np.int64(20)] clct_ans[np.int64(20), np.int64(20)] cl_acc1.000  3.148sec\n"
     ]
    },
    {
     "name": "stdout",
     "output_type": "stream",
     "text": [
      "Epoch 528 tr: l 0.894 a 0.774 clct[np.int64(50), np.int64(50)] clct_ans[np.int64(50), np.int64(50)] cl_acc1.000  lr 0.019198 72.963sec(train) 20.805sec(infer)\n"
     ]
    },
    {
     "name": "stdout",
     "output_type": "stream",
     "text": [
      "Epoch 528 tst: l 1.270 a 0.732 clct[np.int64(20), np.int64(20)] clct_ans[np.int64(20), np.int64(20)] cl_acc1.000  3.141sec\n"
     ]
    },
    {
     "name": "stdout",
     "output_type": "stream",
     "text": [
      "Epoch 529 tr: l 0.935 a 0.767 clct[np.int64(48), np.int64(52)] clct_ans[np.int64(52), np.int64(48)] cl_acc1.000  lr 0.019188 73.239sec(train) 20.839sec(infer)\n"
     ]
    },
    {
     "name": "stdout",
     "output_type": "stream",
     "text": [
      "Epoch 529 tst: l 1.268 a 0.734 clct[np.int64(20), np.int64(20)] clct_ans[np.int64(20), np.int64(20)] cl_acc1.000  3.150sec\n"
     ]
    },
    {
     "name": "stdout",
     "output_type": "stream",
     "text": [
      "Epoch 530 tr: l 0.937 a 0.767 clct[np.int64(48), np.int64(52)] clct_ans[np.int64(52), np.int64(48)] cl_acc1.000  lr 0.019179 74.158sec(train) 20.835sec(infer)\n"
     ]
    },
    {
     "name": "stdout",
     "output_type": "stream",
     "text": [
      "Epoch 530 tst: l 1.270 a 0.733 clct[np.int64(20), np.int64(20)] clct_ans[np.int64(20), np.int64(20)] cl_acc1.000  3.154sec\n"
     ]
    },
    {
     "name": "stdout",
     "output_type": "stream",
     "text": [
      "result written at output_dfca_gi/results.pickle\n",
      "checkpoint written at output_dfca_gi/checkpoint.pt\n"
     ]
    },
    {
     "name": "stdout",
     "output_type": "stream",
     "text": [
      "Epoch 531 tr: l 0.931 a 0.768 clct[np.int64(49), np.int64(51)] clct_ans[np.int64(51), np.int64(49)] cl_acc1.000  lr 0.019169 74.216sec(train) 20.889sec(infer)\n"
     ]
    },
    {
     "name": "stdout",
     "output_type": "stream",
     "text": [
      "Epoch 531 tst: l 1.269 a 0.735 clct[np.int64(20), np.int64(20)] clct_ans[np.int64(20), np.int64(20)] cl_acc1.000  3.153sec\n"
     ]
    },
    {
     "name": "stdout",
     "output_type": "stream",
     "text": [
      "Epoch 532 tr: l 0.928 a 0.768 clct[np.int64(45), np.int64(55)] clct_ans[np.int64(55), np.int64(45)] cl_acc1.000  lr 0.019160 74.353sec(train) 20.858sec(infer)\n"
     ]
    },
    {
     "name": "stdout",
     "output_type": "stream",
     "text": [
      "Epoch 532 tst: l 1.262 a 0.736 clct[np.int64(20), np.int64(20)] clct_ans[np.int64(20), np.int64(20)] cl_acc1.000  3.140sec\n"
     ]
    },
    {
     "name": "stdout",
     "output_type": "stream",
     "text": [
      "Epoch 533 tr: l 0.925 a 0.770 clct[np.int64(50), np.int64(50)] clct_ans[np.int64(50), np.int64(50)] cl_acc1.000  lr 0.019150 73.913sec(train) 20.882sec(infer)\n"
     ]
    },
    {
     "name": "stdout",
     "output_type": "stream",
     "text": [
      "Epoch 533 tst: l 1.261 a 0.736 clct[np.int64(20), np.int64(20)] clct_ans[np.int64(20), np.int64(20)] cl_acc1.000  3.189sec\n"
     ]
    },
    {
     "name": "stdout",
     "output_type": "stream",
     "text": [
      "Epoch 534 tr: l 0.919 a 0.768 clct[np.int64(46), np.int64(54)] clct_ans[np.int64(54), np.int64(46)] cl_acc1.000  lr 0.019141 75.787sec(train) 20.862sec(infer)\n"
     ]
    },
    {
     "name": "stdout",
     "output_type": "stream",
     "text": [
      "Epoch 534 tst: l 1.262 a 0.736 clct[np.int64(20), np.int64(20)] clct_ans[np.int64(20), np.int64(20)] cl_acc1.000  3.194sec\n"
     ]
    },
    {
     "name": "stdout",
     "output_type": "stream",
     "text": [
      "Epoch 535 tr: l 0.918 a 0.771 clct[np.int64(52), np.int64(48)] clct_ans[np.int64(48), np.int64(52)] cl_acc1.000  lr 0.019131 75.105sec(train) 21.112sec(infer)\n"
     ]
    },
    {
     "name": "stdout",
     "output_type": "stream",
     "text": [
      "Epoch 535 tst: l 1.268 a 0.736 clct[np.int64(20), np.int64(20)] clct_ans[np.int64(20), np.int64(20)] cl_acc1.000  3.189sec\n"
     ]
    },
    {
     "name": "stdout",
     "output_type": "stream",
     "text": [
      "Epoch 536 tr: l 0.931 a 0.767 clct[np.int64(51), np.int64(49)] clct_ans[np.int64(49), np.int64(51)] cl_acc1.000  lr 0.019121 73.540sec(train) 20.901sec(infer)\n"
     ]
    },
    {
     "name": "stdout",
     "output_type": "stream",
     "text": [
      "Epoch 536 tst: l 1.267 a 0.735 clct[np.int64(20), np.int64(20)] clct_ans[np.int64(20), np.int64(20)] cl_acc1.000  3.196sec\n"
     ]
    },
    {
     "name": "stdout",
     "output_type": "stream",
     "text": [
      "Epoch 537 tr: l 0.925 a 0.767 clct[np.int64(47), np.int64(53)] clct_ans[np.int64(53), np.int64(47)] cl_acc1.000  lr 0.019112 73.806sec(train) 20.927sec(infer)\n"
     ]
    },
    {
     "name": "stdout",
     "output_type": "stream",
     "text": [
      "Epoch 537 tst: l 1.273 a 0.734 clct[np.int64(20), np.int64(20)] clct_ans[np.int64(20), np.int64(20)] cl_acc1.000  3.193sec\n"
     ]
    },
    {
     "name": "stdout",
     "output_type": "stream",
     "text": [
      "Epoch 538 tr: l 0.907 a 0.772 clct[np.int64(54), np.int64(46)] clct_ans[np.int64(46), np.int64(54)] cl_acc1.000  lr 0.019102 74.942sec(train) 20.874sec(infer)\n"
     ]
    },
    {
     "name": "stdout",
     "output_type": "stream",
     "text": [
      "Epoch 538 tst: l 1.268 a 0.735 clct[np.int64(20), np.int64(20)] clct_ans[np.int64(20), np.int64(20)] cl_acc1.000  3.185sec\n"
     ]
    },
    {
     "name": "stdout",
     "output_type": "stream",
     "text": [
      "Epoch 539 tr: l 0.921 a 0.770 clct[np.int64(51), np.int64(49)] clct_ans[np.int64(49), np.int64(51)] cl_acc1.000  lr 0.019093 74.363sec(train) 20.905sec(infer)\n"
     ]
    },
    {
     "name": "stdout",
     "output_type": "stream",
     "text": [
      "Epoch 539 tst: l 1.267 a 0.735 clct[np.int64(20), np.int64(20)] clct_ans[np.int64(20), np.int64(20)] cl_acc1.000  3.171sec\n"
     ]
    },
    {
     "name": "stdout",
     "output_type": "stream",
     "text": [
      "Epoch 540 tr: l 0.903 a 0.772 clct[np.int64(54), np.int64(46)] clct_ans[np.int64(46), np.int64(54)] cl_acc1.000  lr 0.019083 75.893sec(train) 20.858sec(infer)\n"
     ]
    },
    {
     "name": "stdout",
     "output_type": "stream",
     "text": [
      "Epoch 540 tst: l 1.265 a 0.735 clct[np.int64(20), np.int64(20)] clct_ans[np.int64(20), np.int64(20)] cl_acc1.000  3.188sec\n"
     ]
    },
    {
     "name": "stdout",
     "output_type": "stream",
     "text": [
      "result written at output_dfca_gi/results.pickle\n",
      "checkpoint written at output_dfca_gi/checkpoint.pt\n"
     ]
    },
    {
     "name": "stdout",
     "output_type": "stream",
     "text": [
      "Epoch 541 tr: l 0.938 a 0.768 clct[np.int64(50), np.int64(50)] clct_ans[np.int64(50), np.int64(50)] cl_acc1.000  lr 0.019074 74.297sec(train) 20.914sec(infer)\n"
     ]
    },
    {
     "name": "stdout",
     "output_type": "stream",
     "text": [
      "Epoch 541 tst: l 1.265 a 0.735 clct[np.int64(20), np.int64(20)] clct_ans[np.int64(20), np.int64(20)] cl_acc1.000  3.192sec\n"
     ]
    },
    {
     "name": "stdout",
     "output_type": "stream",
     "text": [
      "Epoch 542 tr: l 0.907 a 0.773 clct[np.int64(51), np.int64(49)] clct_ans[np.int64(49), np.int64(51)] cl_acc1.000  lr 0.019064 75.360sec(train) 20.848sec(infer)\n"
     ]
    },
    {
     "name": "stdout",
     "output_type": "stream",
     "text": [
      "Epoch 542 tst: l 1.268 a 0.734 clct[np.int64(20), np.int64(20)] clct_ans[np.int64(20), np.int64(20)] cl_acc1.000  3.187sec\n"
     ]
    },
    {
     "name": "stdout",
     "output_type": "stream",
     "text": [
      "Epoch 543 tr: l 0.923 a 0.768 clct[np.int64(45), np.int64(55)] clct_ans[np.int64(55), np.int64(45)] cl_acc1.000  lr 0.019055 75.623sec(train) 20.865sec(infer)\n"
     ]
    },
    {
     "name": "stdout",
     "output_type": "stream",
     "text": [
      "Epoch 543 tst: l 1.270 a 0.733 clct[np.int64(20), np.int64(20)] clct_ans[np.int64(20), np.int64(20)] cl_acc1.000  3.182sec\n"
     ]
    },
    {
     "name": "stdout",
     "output_type": "stream",
     "text": [
      "Epoch 544 tr: l 0.943 a 0.767 clct[np.int64(47), np.int64(53)] clct_ans[np.int64(53), np.int64(47)] cl_acc1.000  lr 0.019045 76.009sec(train) 20.856sec(infer)\n"
     ]
    },
    {
     "name": "stdout",
     "output_type": "stream",
     "text": [
      "Epoch 544 tst: l 1.268 a 0.733 clct[np.int64(20), np.int64(20)] clct_ans[np.int64(20), np.int64(20)] cl_acc1.000  3.186sec\n"
     ]
    },
    {
     "name": "stdout",
     "output_type": "stream",
     "text": [
      "Epoch 545 tr: l 0.918 a 0.771 clct[np.int64(50), np.int64(50)] clct_ans[np.int64(50), np.int64(50)] cl_acc1.000  lr 0.019036 74.489sec(train) 20.893sec(infer)\n"
     ]
    },
    {
     "name": "stdout",
     "output_type": "stream",
     "text": [
      "Epoch 545 tst: l 1.264 a 0.734 clct[np.int64(20), np.int64(20)] clct_ans[np.int64(20), np.int64(20)] cl_acc1.000  3.192sec\n"
     ]
    },
    {
     "name": "stdout",
     "output_type": "stream",
     "text": [
      "Epoch 546 tr: l 0.911 a 0.769 clct[np.int64(45), np.int64(55)] clct_ans[np.int64(55), np.int64(45)] cl_acc1.000  lr 0.019026 75.363sec(train) 20.849sec(infer)\n"
     ]
    },
    {
     "name": "stdout",
     "output_type": "stream",
     "text": [
      "Epoch 546 tst: l 1.270 a 0.733 clct[np.int64(20), np.int64(20)] clct_ans[np.int64(20), np.int64(20)] cl_acc1.000  3.197sec\n"
     ]
    },
    {
     "name": "stdout",
     "output_type": "stream",
     "text": [
      "Epoch 547 tr: l 0.908 a 0.772 clct[np.int64(55), np.int64(45)] clct_ans[np.int64(45), np.int64(55)] cl_acc1.000  lr 0.019017 73.744sec(train) 20.928sec(infer)\n"
     ]
    },
    {
     "name": "stdout",
     "output_type": "stream",
     "text": [
      "Epoch 547 tst: l 1.279 a 0.734 clct[np.int64(20), np.int64(20)] clct_ans[np.int64(20), np.int64(20)] cl_acc1.000  3.196sec\n"
     ]
    },
    {
     "name": "stdout",
     "output_type": "stream",
     "text": [
      "Epoch 548 tr: l 0.897 a 0.776 clct[np.int64(51), np.int64(49)] clct_ans[np.int64(49), np.int64(51)] cl_acc1.000  lr 0.019007 75.881sec(train) 20.896sec(infer)\n"
     ]
    },
    {
     "name": "stdout",
     "output_type": "stream",
     "text": [
      "Epoch 548 tst: l 1.272 a 0.734 clct[np.int64(20), np.int64(20)] clct_ans[np.int64(20), np.int64(20)] cl_acc1.000  3.200sec\n"
     ]
    },
    {
     "name": "stdout",
     "output_type": "stream",
     "text": [
      "Epoch 549 tr: l 0.922 a 0.769 clct[np.int64(52), np.int64(48)] clct_ans[np.int64(48), np.int64(52)] cl_acc1.000  lr 0.018997 81.438sec(train) 20.903sec(infer)\n"
     ]
    },
    {
     "name": "stdout",
     "output_type": "stream",
     "text": [
      "Epoch 549 tst: l 1.268 a 0.736 clct[np.int64(20), np.int64(20)] clct_ans[np.int64(20), np.int64(20)] cl_acc1.000  3.198sec\n"
     ]
    },
    {
     "name": "stdout",
     "output_type": "stream",
     "text": [
      "Epoch 550 tr: l 0.901 a 0.775 clct[np.int64(54), np.int64(46)] clct_ans[np.int64(46), np.int64(54)] cl_acc1.000  lr 0.018988 81.789sec(train) 20.901sec(infer)\n"
     ]
    },
    {
     "name": "stdout",
     "output_type": "stream",
     "text": [
      "Epoch 550 tst: l 1.272 a 0.733 clct[np.int64(20), np.int64(20)] clct_ans[np.int64(20), np.int64(20)] cl_acc1.000  3.196sec\n"
     ]
    },
    {
     "name": "stdout",
     "output_type": "stream",
     "text": [
      "result written at output_dfca_gi/results.pickle\n",
      "checkpoint written at output_dfca_gi/checkpoint.pt\n"
     ]
    },
    {
     "name": "stdout",
     "output_type": "stream",
     "text": [
      "Epoch 551 tr: l 0.909 a 0.772 clct[np.int64(49), np.int64(51)] clct_ans[np.int64(51), np.int64(49)] cl_acc1.000  lr 0.018979 75.527sec(train) 20.900sec(infer)\n"
     ]
    },
    {
     "name": "stdout",
     "output_type": "stream",
     "text": [
      "Epoch 551 tst: l 1.273 a 0.734 clct[np.int64(20), np.int64(20)] clct_ans[np.int64(20), np.int64(20)] cl_acc1.000  3.191sec\n"
     ]
    },
    {
     "name": "stdout",
     "output_type": "stream",
     "text": [
      "Epoch 552 tr: l 0.928 a 0.770 clct[np.int64(51), np.int64(49)] clct_ans[np.int64(49), np.int64(51)] cl_acc1.000  lr 0.018969 74.646sec(train) 20.899sec(infer)\n"
     ]
    },
    {
     "name": "stdout",
     "output_type": "stream",
     "text": [
      "Epoch 552 tst: l 1.275 a 0.733 clct[np.int64(20), np.int64(20)] clct_ans[np.int64(20), np.int64(20)] cl_acc1.000  3.186sec\n"
     ]
    },
    {
     "name": "stdout",
     "output_type": "stream",
     "text": [
      "Epoch 553 tr: l 0.914 a 0.771 clct[np.int64(44), np.int64(56)] clct_ans[np.int64(56), np.int64(44)] cl_acc1.000  lr 0.018960 78.789sec(train) 20.890sec(infer)\n"
     ]
    },
    {
     "name": "stdout",
     "output_type": "stream",
     "text": [
      "Epoch 553 tst: l 1.276 a 0.732 clct[np.int64(20), np.int64(20)] clct_ans[np.int64(20), np.int64(20)] cl_acc1.000  3.191sec\n"
     ]
    },
    {
     "name": "stdout",
     "output_type": "stream",
     "text": [
      "Epoch 554 tr: l 0.908 a 0.773 clct[np.int64(49), np.int64(51)] clct_ans[np.int64(51), np.int64(49)] cl_acc1.000  lr 0.018950 81.239sec(train) 21.117sec(infer)\n"
     ]
    },
    {
     "name": "stdout",
     "output_type": "stream",
     "text": [
      "Epoch 554 tst: l 1.272 a 0.733 clct[np.int64(20), np.int64(20)] clct_ans[np.int64(20), np.int64(20)] cl_acc1.000  3.182sec\n"
     ]
    },
    {
     "name": "stdout",
     "output_type": "stream",
     "text": [
      "Epoch 555 tr: l 0.908 a 0.774 clct[np.int64(50), np.int64(50)] clct_ans[np.int64(50), np.int64(50)] cl_acc1.000  lr 0.018941 81.622sec(train) 20.899sec(infer)\n"
     ]
    },
    {
     "name": "stdout",
     "output_type": "stream",
     "text": [
      "Epoch 555 tst: l 1.269 a 0.734 clct[np.int64(20), np.int64(20)] clct_ans[np.int64(20), np.int64(20)] cl_acc1.000  3.186sec\n"
     ]
    },
    {
     "name": "stdout",
     "output_type": "stream",
     "text": [
      "Epoch 556 tr: l 0.911 a 0.771 clct[np.int64(51), np.int64(49)] clct_ans[np.int64(49), np.int64(51)] cl_acc1.000  lr 0.018931 81.417sec(train) 20.904sec(infer)\n"
     ]
    },
    {
     "name": "stdout",
     "output_type": "stream",
     "text": [
      "Epoch 556 tst: l 1.274 a 0.734 clct[np.int64(20), np.int64(20)] clct_ans[np.int64(20), np.int64(20)] cl_acc1.000  3.189sec\n"
     ]
    },
    {
     "name": "stdout",
     "output_type": "stream",
     "text": [
      "Epoch 557 tr: l 0.932 a 0.767 clct[np.int64(43), np.int64(57)] clct_ans[np.int64(57), np.int64(43)] cl_acc1.000  lr 0.018922 81.875sec(train) 20.884sec(infer)\n"
     ]
    },
    {
     "name": "stdout",
     "output_type": "stream",
     "text": [
      "Epoch 557 tst: l 1.273 a 0.735 clct[np.int64(20), np.int64(20)] clct_ans[np.int64(20), np.int64(20)] cl_acc1.000  3.183sec\n"
     ]
    },
    {
     "name": "stdout",
     "output_type": "stream",
     "text": [
      "Epoch 558 tr: l 0.911 a 0.773 clct[np.int64(46), np.int64(54)] clct_ans[np.int64(54), np.int64(46)] cl_acc1.000  lr 0.018912 81.842sec(train) 20.896sec(infer)\n"
     ]
    },
    {
     "name": "stdout",
     "output_type": "stream",
     "text": [
      "Epoch 558 tst: l 1.279 a 0.734 clct[np.int64(20), np.int64(20)] clct_ans[np.int64(20), np.int64(20)] cl_acc1.000  3.133sec\n"
     ]
    },
    {
     "name": "stdout",
     "output_type": "stream",
     "text": [
      "Epoch 559 tr: l 0.910 a 0.772 clct[np.int64(50), np.int64(50)] clct_ans[np.int64(50), np.int64(50)] cl_acc1.000  lr 0.018903 81.816sec(train) 20.857sec(infer)\n"
     ]
    },
    {
     "name": "stdout",
     "output_type": "stream",
     "text": [
      "Epoch 559 tst: l 1.276 a 0.736 clct[np.int64(20), np.int64(20)] clct_ans[np.int64(20), np.int64(20)] cl_acc1.000  3.135sec\n"
     ]
    },
    {
     "name": "stdout",
     "output_type": "stream",
     "text": [
      "Epoch 560 tr: l 0.926 a 0.769 clct[np.int64(49), np.int64(51)] clct_ans[np.int64(51), np.int64(49)] cl_acc1.000  lr 0.018893 81.228sec(train) 20.809sec(infer)\n"
     ]
    },
    {
     "name": "stdout",
     "output_type": "stream",
     "text": [
      "Epoch 560 tst: l 1.271 a 0.735 clct[np.int64(20), np.int64(20)] clct_ans[np.int64(20), np.int64(20)] cl_acc1.000  3.138sec\n"
     ]
    },
    {
     "name": "stdout",
     "output_type": "stream",
     "text": [
      "result written at output_dfca_gi/results.pickle\n",
      "checkpoint written at output_dfca_gi/checkpoint.pt\n"
     ]
    },
    {
     "name": "stdout",
     "output_type": "stream",
     "text": [
      "Epoch 561 tr: l 0.920 a 0.772 clct[np.int64(54), np.int64(46)] clct_ans[np.int64(46), np.int64(54)] cl_acc1.000  lr 0.018884 81.490sec(train) 20.815sec(infer)\n"
     ]
    },
    {
     "name": "stdout",
     "output_type": "stream",
     "text": [
      "Epoch 561 tst: l 1.278 a 0.736 clct[np.int64(20), np.int64(20)] clct_ans[np.int64(20), np.int64(20)] cl_acc1.000  3.136sec\n"
     ]
    },
    {
     "name": "stdout",
     "output_type": "stream",
     "text": [
      "Epoch 562 tr: l 0.922 a 0.770 clct[np.int64(57), np.int64(43)] clct_ans[np.int64(43), np.int64(57)] cl_acc1.000  lr 0.018874 81.444sec(train) 20.770sec(infer)\n"
     ]
    },
    {
     "name": "stdout",
     "output_type": "stream",
     "text": [
      "Epoch 562 tst: l 1.276 a 0.736 clct[np.int64(20), np.int64(20)] clct_ans[np.int64(20), np.int64(20)] cl_acc1.000  3.164sec\n"
     ]
    },
    {
     "name": "stdout",
     "output_type": "stream",
     "text": [
      "Epoch 563 tr: l 0.918 a 0.771 clct[np.int64(50), np.int64(50)] clct_ans[np.int64(50), np.int64(50)] cl_acc1.000  lr 0.018865 81.677sec(train) 20.997sec(infer)\n"
     ]
    },
    {
     "name": "stdout",
     "output_type": "stream",
     "text": [
      "Epoch 563 tst: l 1.273 a 0.735 clct[np.int64(20), np.int64(20)] clct_ans[np.int64(20), np.int64(20)] cl_acc1.000  3.188sec\n"
     ]
    },
    {
     "name": "stdout",
     "output_type": "stream",
     "text": [
      "Epoch 564 tr: l 0.945 a 0.769 clct[np.int64(48), np.int64(52)] clct_ans[np.int64(52), np.int64(48)] cl_acc1.000  lr 0.018856 81.376sec(train) 20.841sec(infer)\n"
     ]
    },
    {
     "name": "stdout",
     "output_type": "stream",
     "text": [
      "Epoch 564 tst: l 1.272 a 0.736 clct[np.int64(20), np.int64(20)] clct_ans[np.int64(20), np.int64(20)] cl_acc1.000  3.181sec\n"
     ]
    },
    {
     "name": "stdout",
     "output_type": "stream",
     "text": [
      "Epoch 565 tr: l 0.920 a 0.772 clct[np.int64(48), np.int64(52)] clct_ans[np.int64(52), np.int64(48)] cl_acc1.000  lr 0.018846 79.950sec(train) 20.814sec(infer)\n"
     ]
    },
    {
     "name": "stdout",
     "output_type": "stream",
     "text": [
      "Epoch 565 tst: l 1.274 a 0.736 clct[np.int64(20), np.int64(20)] clct_ans[np.int64(20), np.int64(20)] cl_acc1.000  3.187sec\n"
     ]
    },
    {
     "name": "stdout",
     "output_type": "stream",
     "text": [
      "Epoch 566 tr: l 0.920 a 0.773 clct[np.int64(50), np.int64(50)] clct_ans[np.int64(50), np.int64(50)] cl_acc1.000  lr 0.018837 74.517sec(train) 20.861sec(infer)\n"
     ]
    },
    {
     "name": "stdout",
     "output_type": "stream",
     "text": [
      "Epoch 566 tst: l 1.274 a 0.734 clct[np.int64(20), np.int64(20)] clct_ans[np.int64(20), np.int64(20)] cl_acc1.000  3.207sec\n"
     ]
    },
    {
     "name": "stdout",
     "output_type": "stream",
     "text": [
      "Epoch 567 tr: l 0.927 a 0.769 clct[np.int64(47), np.int64(53)] clct_ans[np.int64(53), np.int64(47)] cl_acc1.000  lr 0.018827 81.156sec(train) 20.908sec(infer)\n"
     ]
    },
    {
     "name": "stdout",
     "output_type": "stream",
     "text": [
      "Epoch 567 tst: l 1.273 a 0.735 clct[np.int64(20), np.int64(20)] clct_ans[np.int64(20), np.int64(20)] cl_acc1.000  3.194sec\n"
     ]
    },
    {
     "name": "stdout",
     "output_type": "stream",
     "text": [
      "Epoch 568 tr: l 0.917 a 0.773 clct[np.int64(51), np.int64(49)] clct_ans[np.int64(49), np.int64(51)] cl_acc1.000  lr 0.018818 81.451sec(train) 20.911sec(infer)\n"
     ]
    },
    {
     "name": "stdout",
     "output_type": "stream",
     "text": [
      "Epoch 568 tst: l 1.277 a 0.734 clct[np.int64(20), np.int64(20)] clct_ans[np.int64(20), np.int64(20)] cl_acc1.000  3.203sec\n"
     ]
    },
    {
     "name": "stdout",
     "output_type": "stream",
     "text": [
      "Epoch 569 tr: l 0.918 a 0.773 clct[np.int64(45), np.int64(55)] clct_ans[np.int64(55), np.int64(45)] cl_acc1.000  lr 0.018808 81.682sec(train) 20.950sec(infer)\n"
     ]
    },
    {
     "name": "stdout",
     "output_type": "stream",
     "text": [
      "Epoch 569 tst: l 1.280 a 0.734 clct[np.int64(20), np.int64(20)] clct_ans[np.int64(20), np.int64(20)] cl_acc1.000  3.198sec\n"
     ]
    },
    {
     "name": "stdout",
     "output_type": "stream",
     "text": [
      "Epoch 570 tr: l 0.926 a 0.769 clct[np.int64(53), np.int64(47)] clct_ans[np.int64(47), np.int64(53)] cl_acc1.000  lr 0.018799 81.274sec(train) 20.943sec(infer)\n"
     ]
    },
    {
     "name": "stdout",
     "output_type": "stream",
     "text": [
      "Epoch 570 tst: l 1.283 a 0.733 clct[np.int64(20), np.int64(20)] clct_ans[np.int64(20), np.int64(20)] cl_acc1.000  3.194sec\n"
     ]
    },
    {
     "name": "stdout",
     "output_type": "stream",
     "text": [
      "result written at output_dfca_gi/results.pickle\n",
      "checkpoint written at output_dfca_gi/checkpoint.pt\n"
     ]
    },
    {
     "name": "stdout",
     "output_type": "stream",
     "text": [
      "Epoch 571 tr: l 0.922 a 0.770 clct[np.int64(55), np.int64(45)] clct_ans[np.int64(45), np.int64(55)] cl_acc1.000  lr 0.018790 81.275sec(train) 20.929sec(infer)\n"
     ]
    },
    {
     "name": "stdout",
     "output_type": "stream",
     "text": [
      "Epoch 571 tst: l 1.278 a 0.734 clct[np.int64(20), np.int64(20)] clct_ans[np.int64(20), np.int64(20)] cl_acc1.000  3.181sec\n"
     ]
    },
    {
     "name": "stdout",
     "output_type": "stream",
     "text": [
      "Epoch 572 tr: l 0.912 a 0.772 clct[np.int64(50), np.int64(50)] clct_ans[np.int64(50), np.int64(50)] cl_acc1.000  lr 0.018780 81.535sec(train) 20.878sec(infer)\n"
     ]
    },
    {
     "name": "stdout",
     "output_type": "stream",
     "text": [
      "Epoch 572 tst: l 1.283 a 0.733 clct[np.int64(20), np.int64(20)] clct_ans[np.int64(20), np.int64(20)] cl_acc1.000  3.177sec\n"
     ]
    },
    {
     "name": "stdout",
     "output_type": "stream",
     "text": [
      "Epoch 573 tr: l 0.907 a 0.773 clct[np.int64(57), np.int64(43)] clct_ans[np.int64(43), np.int64(57)] cl_acc1.000  lr 0.018771 81.721sec(train) 20.892sec(infer)\n"
     ]
    },
    {
     "name": "stdout",
     "output_type": "stream",
     "text": [
      "Epoch 573 tst: l 1.280 a 0.734 clct[np.int64(20), np.int64(20)] clct_ans[np.int64(20), np.int64(20)] cl_acc1.000  3.181sec\n"
     ]
    },
    {
     "name": "stdout",
     "output_type": "stream",
     "text": [
      "Epoch 574 tr: l 0.909 a 0.772 clct[np.int64(42), np.int64(58)] clct_ans[np.int64(58), np.int64(42)] cl_acc1.000  lr 0.018761 81.278sec(train) 20.863sec(infer)\n"
     ]
    },
    {
     "name": "stdout",
     "output_type": "stream",
     "text": [
      "Epoch 574 tst: l 1.275 a 0.735 clct[np.int64(20), np.int64(20)] clct_ans[np.int64(20), np.int64(20)] cl_acc1.000  3.191sec\n"
     ]
    },
    {
     "name": "stdout",
     "output_type": "stream",
     "text": [
      "Epoch 575 tr: l 0.914 a 0.771 clct[np.int64(49), np.int64(51)] clct_ans[np.int64(51), np.int64(49)] cl_acc1.000  lr 0.018752 81.434sec(train) 20.903sec(infer)\n"
     ]
    },
    {
     "name": "stdout",
     "output_type": "stream",
     "text": [
      "Epoch 575 tst: l 1.276 a 0.734 clct[np.int64(20), np.int64(20)] clct_ans[np.int64(20), np.int64(20)] cl_acc1.000  3.193sec\n"
     ]
    },
    {
     "name": "stdout",
     "output_type": "stream",
     "text": [
      "Epoch 576 tr: l 0.927 a 0.770 clct[np.int64(49), np.int64(51)] clct_ans[np.int64(51), np.int64(49)] cl_acc1.000  lr 0.018743 79.620sec(train) 20.898sec(infer)\n"
     ]
    },
    {
     "name": "stdout",
     "output_type": "stream",
     "text": [
      "Epoch 576 tst: l 1.284 a 0.734 clct[np.int64(20), np.int64(20)] clct_ans[np.int64(20), np.int64(20)] cl_acc1.000  3.188sec\n"
     ]
    },
    {
     "name": "stdout",
     "output_type": "stream",
     "text": [
      "Epoch 577 tr: l 0.903 a 0.774 clct[np.int64(53), np.int64(47)] clct_ans[np.int64(47), np.int64(53)] cl_acc1.000  lr 0.018733 73.994sec(train) 20.875sec(infer)\n"
     ]
    },
    {
     "name": "stdout",
     "output_type": "stream",
     "text": [
      "Epoch 577 tst: l 1.279 a 0.735 clct[np.int64(20), np.int64(20)] clct_ans[np.int64(20), np.int64(20)] cl_acc1.000  3.192sec\n"
     ]
    },
    {
     "name": "stdout",
     "output_type": "stream",
     "text": [
      "Epoch 578 tr: l 0.894 a 0.779 clct[np.int64(49), np.int64(51)] clct_ans[np.int64(51), np.int64(49)] cl_acc1.000  lr 0.018724 79.699sec(train) 20.934sec(infer)\n"
     ]
    },
    {
     "name": "stdout",
     "output_type": "stream",
     "text": [
      "Epoch 578 tst: l 1.281 a 0.736 clct[np.int64(20), np.int64(20)] clct_ans[np.int64(20), np.int64(20)] cl_acc1.000  3.188sec\n"
     ]
    },
    {
     "name": "stdout",
     "output_type": "stream",
     "text": [
      "Epoch 579 tr: l 0.909 a 0.772 clct[np.int64(53), np.int64(47)] clct_ans[np.int64(47), np.int64(53)] cl_acc1.000  lr 0.018715 81.453sec(train) 20.894sec(infer)\n"
     ]
    },
    {
     "name": "stdout",
     "output_type": "stream",
     "text": [
      "Epoch 579 tst: l 1.287 a 0.736 clct[np.int64(20), np.int64(20)] clct_ans[np.int64(20), np.int64(20)] cl_acc1.000  3.199sec\n"
     ]
    },
    {
     "name": "stdout",
     "output_type": "stream",
     "text": [
      "Epoch 580 tr: l 0.914 a 0.773 clct[np.int64(47), np.int64(53)] clct_ans[np.int64(53), np.int64(47)] cl_acc1.000  lr 0.018705 81.116sec(train) 20.941sec(infer)\n"
     ]
    },
    {
     "name": "stdout",
     "output_type": "stream",
     "text": [
      "Epoch 580 tst: l 1.286 a 0.735 clct[np.int64(20), np.int64(20)] clct_ans[np.int64(20), np.int64(20)] cl_acc1.000  3.186sec\n"
     ]
    },
    {
     "name": "stdout",
     "output_type": "stream",
     "text": [
      "result written at output_dfca_gi/results.pickle\n",
      "checkpoint written at output_dfca_gi/checkpoint.pt\n"
     ]
    },
    {
     "name": "stdout",
     "output_type": "stream",
     "text": [
      "Epoch 581 tr: l 0.908 a 0.773 clct[np.int64(48), np.int64(52)] clct_ans[np.int64(52), np.int64(48)] cl_acc1.000  lr 0.018696 80.935sec(train) 20.884sec(infer)\n"
     ]
    },
    {
     "name": "stdout",
     "output_type": "stream",
     "text": [
      "Epoch 581 tst: l 1.282 a 0.734 clct[np.int64(20), np.int64(20)] clct_ans[np.int64(20), np.int64(20)] cl_acc1.000  3.196sec\n"
     ]
    },
    {
     "name": "stdout",
     "output_type": "stream",
     "text": [
      "Epoch 582 tr: l 0.911 a 0.776 clct[np.int64(53), np.int64(47)] clct_ans[np.int64(47), np.int64(53)] cl_acc1.000  lr 0.018687 81.415sec(train) 21.114sec(infer)\n"
     ]
    },
    {
     "name": "stdout",
     "output_type": "stream",
     "text": [
      "Epoch 582 tst: l 1.284 a 0.735 clct[np.int64(20), np.int64(20)] clct_ans[np.int64(20), np.int64(20)] cl_acc1.000  3.193sec\n"
     ]
    },
    {
     "name": "stdout",
     "output_type": "stream",
     "text": [
      "Epoch 583 tr: l 0.900 a 0.777 clct[np.int64(50), np.int64(50)] clct_ans[np.int64(50), np.int64(50)] cl_acc1.000  lr 0.018677 80.974sec(train) 20.898sec(infer)\n"
     ]
    },
    {
     "name": "stdout",
     "output_type": "stream",
     "text": [
      "Epoch 583 tst: l 1.283 a 0.734 clct[np.int64(20), np.int64(20)] clct_ans[np.int64(20), np.int64(20)] cl_acc1.000  3.199sec\n"
     ]
    },
    {
     "name": "stdout",
     "output_type": "stream",
     "text": [
      "Epoch 584 tr: l 0.892 a 0.777 clct[np.int64(48), np.int64(52)] clct_ans[np.int64(52), np.int64(48)] cl_acc1.000  lr 0.018668 80.896sec(train) 20.889sec(infer)\n"
     ]
    },
    {
     "name": "stdout",
     "output_type": "stream",
     "text": [
      "Epoch 584 tst: l 1.287 a 0.734 clct[np.int64(20), np.int64(20)] clct_ans[np.int64(20), np.int64(20)] cl_acc1.000  3.190sec\n"
     ]
    },
    {
     "name": "stdout",
     "output_type": "stream",
     "text": [
      "Epoch 585 tr: l 0.903 a 0.777 clct[np.int64(50), np.int64(50)] clct_ans[np.int64(50), np.int64(50)] cl_acc1.000  lr 0.018659 81.062sec(train) 20.900sec(infer)\n"
     ]
    },
    {
     "name": "stdout",
     "output_type": "stream",
     "text": [
      "Epoch 585 tst: l 1.284 a 0.735 clct[np.int64(20), np.int64(20)] clct_ans[np.int64(20), np.int64(20)] cl_acc1.000  3.188sec\n"
     ]
    },
    {
     "name": "stdout",
     "output_type": "stream",
     "text": [
      "Epoch 586 tr: l 0.886 a 0.778 clct[np.int64(41), np.int64(59)] clct_ans[np.int64(59), np.int64(41)] cl_acc1.000  lr 0.018649 81.114sec(train) 20.877sec(infer)\n"
     ]
    },
    {
     "name": "stdout",
     "output_type": "stream",
     "text": [
      "Epoch 586 tst: l 1.289 a 0.734 clct[np.int64(20), np.int64(20)] clct_ans[np.int64(20), np.int64(20)] cl_acc1.000  3.194sec\n"
     ]
    },
    {
     "name": "stdout",
     "output_type": "stream",
     "text": [
      "Epoch 587 tr: l 0.900 a 0.775 clct[np.int64(51), np.int64(49)] clct_ans[np.int64(49), np.int64(51)] cl_acc1.000  lr 0.018640 76.908sec(train) 20.878sec(infer)\n"
     ]
    },
    {
     "name": "stdout",
     "output_type": "stream",
     "text": [
      "Epoch 587 tst: l 1.284 a 0.735 clct[np.int64(20), np.int64(20)] clct_ans[np.int64(20), np.int64(20)] cl_acc1.000  3.194sec\n"
     ]
    },
    {
     "name": "stdout",
     "output_type": "stream",
     "text": [
      "Epoch 588 tr: l 0.891 a 0.775 clct[np.int64(50), np.int64(50)] clct_ans[np.int64(50), np.int64(50)] cl_acc1.000  lr 0.018631 73.553sec(train) 20.878sec(infer)\n"
     ]
    },
    {
     "name": "stdout",
     "output_type": "stream",
     "text": [
      "Epoch 588 tst: l 1.290 a 0.735 clct[np.int64(20), np.int64(20)] clct_ans[np.int64(20), np.int64(20)] cl_acc1.000  3.188sec\n"
     ]
    },
    {
     "name": "stdout",
     "output_type": "stream",
     "text": [
      "Epoch 589 tr: l 0.918 a 0.771 clct[np.int64(48), np.int64(52)] clct_ans[np.int64(52), np.int64(48)] cl_acc1.000  lr 0.018621 73.399sec(train) 20.908sec(infer)\n"
     ]
    },
    {
     "name": "stdout",
     "output_type": "stream",
     "text": [
      "Epoch 589 tst: l 1.298 a 0.734 clct[np.int64(20), np.int64(20)] clct_ans[np.int64(20), np.int64(20)] cl_acc1.000  3.186sec\n"
     ]
    },
    {
     "name": "stdout",
     "output_type": "stream",
     "text": [
      "Epoch 590 tr: l 0.898 a 0.775 clct[np.int64(46), np.int64(54)] clct_ans[np.int64(54), np.int64(46)] cl_acc1.000  lr 0.018612 74.234sec(train) 20.890sec(infer)\n"
     ]
    },
    {
     "name": "stdout",
     "output_type": "stream",
     "text": [
      "Epoch 590 tst: l 1.289 a 0.735 clct[np.int64(20), np.int64(20)] clct_ans[np.int64(20), np.int64(20)] cl_acc1.000  3.196sec\n"
     ]
    },
    {
     "name": "stdout",
     "output_type": "stream",
     "text": [
      "result written at output_dfca_gi/results.pickle\n",
      "checkpoint written at output_dfca_gi/checkpoint.pt\n"
     ]
    },
    {
     "name": "stdout",
     "output_type": "stream",
     "text": [
      "Epoch 591 tr: l 0.894 a 0.774 clct[np.int64(50), np.int64(50)] clct_ans[np.int64(50), np.int64(50)] cl_acc1.000  lr 0.018603 74.039sec(train) 20.914sec(infer)\n"
     ]
    },
    {
     "name": "stdout",
     "output_type": "stream",
     "text": [
      "Epoch 591 tst: l 1.288 a 0.735 clct[np.int64(20), np.int64(20)] clct_ans[np.int64(20), np.int64(20)] cl_acc1.000  3.190sec\n"
     ]
    },
    {
     "name": "stdout",
     "output_type": "stream",
     "text": [
      "Epoch 592 tr: l 0.898 a 0.776 clct[np.int64(50), np.int64(50)] clct_ans[np.int64(50), np.int64(50)] cl_acc1.000  lr 0.018593 76.030sec(train) 20.890sec(infer)\n"
     ]
    },
    {
     "name": "stdout",
     "output_type": "stream",
     "text": [
      "Epoch 592 tst: l 1.290 a 0.734 clct[np.int64(20), np.int64(20)] clct_ans[np.int64(20), np.int64(20)] cl_acc1.000  3.196sec\n"
     ]
    },
    {
     "name": "stdout",
     "output_type": "stream",
     "text": [
      "Epoch 593 tr: l 0.901 a 0.774 clct[np.int64(50), np.int64(50)] clct_ans[np.int64(50), np.int64(50)] cl_acc1.000  lr 0.018584 74.230sec(train) 20.928sec(infer)\n"
     ]
    },
    {
     "name": "stdout",
     "output_type": "stream",
     "text": [
      "Epoch 593 tst: l 1.289 a 0.735 clct[np.int64(20), np.int64(20)] clct_ans[np.int64(20), np.int64(20)] cl_acc1.000  3.189sec\n"
     ]
    },
    {
     "name": "stdout",
     "output_type": "stream",
     "text": [
      "Epoch 594 tr: l 0.921 a 0.770 clct[np.int64(57), np.int64(43)] clct_ans[np.int64(43), np.int64(57)] cl_acc1.000  lr 0.018575 74.272sec(train) 20.875sec(infer)\n"
     ]
    },
    {
     "name": "stdout",
     "output_type": "stream",
     "text": [
      "Epoch 594 tst: l 1.287 a 0.735 clct[np.int64(20), np.int64(20)] clct_ans[np.int64(20), np.int64(20)] cl_acc1.000  3.189sec\n"
     ]
    },
    {
     "name": "stdout",
     "output_type": "stream",
     "text": [
      "Epoch 595 tr: l 0.916 a 0.771 clct[np.int64(56), np.int64(44)] clct_ans[np.int64(44), np.int64(56)] cl_acc1.000  lr 0.018565 73.993sec(train) 20.920sec(infer)\n"
     ]
    },
    {
     "name": "stdout",
     "output_type": "stream",
     "text": [
      "Epoch 595 tst: l 1.286 a 0.735 clct[np.int64(20), np.int64(20)] clct_ans[np.int64(20), np.int64(20)] cl_acc1.000  3.192sec\n"
     ]
    },
    {
     "name": "stdout",
     "output_type": "stream",
     "text": [
      "Epoch 596 tr: l 0.936 a 0.768 clct[np.int64(51), np.int64(49)] clct_ans[np.int64(49), np.int64(51)] cl_acc1.000  lr 0.018556 74.228sec(train) 20.873sec(infer)\n"
     ]
    },
    {
     "name": "stdout",
     "output_type": "stream",
     "text": [
      "Epoch 596 tst: l 1.285 a 0.734 clct[np.int64(20), np.int64(20)] clct_ans[np.int64(20), np.int64(20)] cl_acc1.000  3.192sec\n"
     ]
    },
    {
     "name": "stdout",
     "output_type": "stream",
     "text": [
      "Epoch 597 tr: l 0.904 a 0.773 clct[np.int64(46), np.int64(54)] clct_ans[np.int64(54), np.int64(46)] cl_acc1.000  lr 0.018547 73.932sec(train) 20.929sec(infer)\n"
     ]
    },
    {
     "name": "stdout",
     "output_type": "stream",
     "text": [
      "Epoch 597 tst: l 1.280 a 0.735 clct[np.int64(20), np.int64(20)] clct_ans[np.int64(20), np.int64(20)] cl_acc1.000  3.182sec\n"
     ]
    },
    {
     "name": "stdout",
     "output_type": "stream",
     "text": [
      "Epoch 598 tr: l 0.915 a 0.773 clct[np.int64(46), np.int64(54)] clct_ans[np.int64(54), np.int64(46)] cl_acc1.000  lr 0.018538 75.473sec(train) 20.895sec(infer)\n"
     ]
    },
    {
     "name": "stdout",
     "output_type": "stream",
     "text": [
      "Epoch 598 tst: l 1.281 a 0.736 clct[np.int64(20), np.int64(20)] clct_ans[np.int64(20), np.int64(20)] cl_acc1.000  3.190sec\n"
     ]
    },
    {
     "name": "stdout",
     "output_type": "stream",
     "text": [
      "Epoch 599 tr: l 0.913 a 0.773 clct[np.int64(48), np.int64(52)] clct_ans[np.int64(52), np.int64(48)] cl_acc1.000  lr 0.018528 75.819sec(train) 20.954sec(infer)\n"
     ]
    },
    {
     "name": "stdout",
     "output_type": "stream",
     "text": [
      "Epoch 599 tst: l 1.290 a 0.735 clct[np.int64(20), np.int64(20)] clct_ans[np.int64(20), np.int64(20)] cl_acc1.000  3.197sec\n"
     ]
    },
    {
     "name": "stdout",
     "output_type": "stream",
     "text": [
      "result written at output_dfca_gi/results.pickle\n",
      "checkpoint written at output_dfca_gi/checkpoint.pt\n",
      "---train cluster Ended in 16.98 hour (61131.599 sec) \n"
     ]
    }
   ],
   "source": [
    "torch.cuda.empty_cache()\n",
    "\n",
    "with open(\"config.json\", \"r\") as read_file:\n",
    "    config = json.load(read_file)\n",
    "\n",
    "res_final = []\n",
    "\n",
    "start_time = time.time()\n",
    "config['data_seed'] = 13\n",
    "config['train_seed'] = config['data_seed']\n",
    "\n",
    "print(\"config:\",config)\n",
    "device = torch.device(\"cuda\" if torch.cuda.is_available() else \"cpu\")\n",
    "print(f\"Using device: {device}\")\n",
    "\n",
    "exp = DFCA.TrainCIFARCluster(config, device)\n",
    "exp.setup()\n",
    "res = exp.run()\n",
    "res_final.append([[r['test']['loss'] for r in res], [r['test']['acc'] for r in res],  [r['test']['cl_acc'] for r in res]])\n",
    "duration = (time.time() - start_time)\n",
    "print(\"---train cluster Ended in %0.2f hour (%.3f sec) \" % (duration/float(3600), duration))\n"
   ]
  },
  {
   "cell_type": "code",
   "execution_count": 3,
   "id": "cd98e684",
   "metadata": {
    "execution": {
     "iopub.execute_input": "2025-06-14T02:14:50.676702Z",
     "iopub.status.busy": "2025-06-14T02:14:50.676513Z",
     "iopub.status.idle": "2025-06-14T02:14:50.682365Z",
     "shell.execute_reply": "2025-06-14T02:14:50.681531Z"
    }
   },
   "outputs": [
    {
     "name": "stdout",
     "output_type": "stream",
     "text": [
      "Last Epoch Test Loss: 1.2899155259132384\n",
      "Last Epoch Test Accuracy: 0.7348\n",
      "Last Epoch Test Cluster Accuracy: 1.0\n"
     ]
    }
   ],
   "source": [
    "last_loss = res_final[0][0][-1]\n",
    "last_acc = res_final[0][1][-1]\n",
    "last_cl_acc = res_final[0][2][-1]\n",
    "\n",
    "print(\"Last Epoch Test Loss:\", last_loss)\n",
    "print(\"Last Epoch Test Accuracy:\", last_acc)\n",
    "print(\"Last Epoch Test Cluster Accuracy:\", last_cl_acc)"
   ]
  }
 ],
 "metadata": {
  "kernelspec": {
   "display_name": "Python 3",
   "language": "python",
   "name": "python3"
  },
  "language_info": {
   "codemirror_mode": {
    "name": "ipython",
    "version": 3
   },
   "file_extension": ".py",
   "mimetype": "text/x-python",
   "name": "python",
   "nbconvert_exporter": "python",
   "pygments_lexer": "ipython3",
   "version": "3.11.11"
  }
 },
 "nbformat": 4,
 "nbformat_minor": 5
}
